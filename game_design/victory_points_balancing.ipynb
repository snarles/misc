{
 "cells": [
  {
   "cell_type": "markdown",
   "metadata": {},
   "source": [
    "# Generation of symmetric zero-sum games\n",
    "\n",
    "Given a randomly generated symmetric payoff matrix, can values be adjusted to yield a desired Nash equilibrium (e.g. uniform in all actions)?  Specifically, suppose each action $a$ has a fixed reward $r_a$ whenever it beats the opponent's action.  Therefore, the payoff $p(a, b) \\in \\{r_a, 0, -r_b\\}$ depending whether $a$ defeats, ties, or is defeated by $b$."
   ]
  },
  {
   "cell_type": "code",
   "execution_count": 44,
   "metadata": {},
   "outputs": [],
   "source": [
    "import numpy as np\n",
    "from numpy.random import rand\n",
    "from matplotlib import pyplot as plt"
   ]
  },
  {
   "cell_type": "code",
   "execution_count": 45,
   "metadata": {},
   "outputs": [
    {
     "data": {
      "text/plain": [
       "array([[ 0., -1.,  1.,  1.,  1.,  1., -1.,  1.,  1., -1.],\n",
       "       [ 1.,  0.,  1.,  1., -1., -1.,  1.,  1., -1., -1.],\n",
       "       [-1., -1.,  0., -1.,  1., -1.,  1., -1.,  1., -1.],\n",
       "       [-1., -1.,  1.,  0., -1., -1., -1.,  1., -1.,  1.],\n",
       "       [-1.,  1., -1.,  1.,  0.,  1.,  1.,  1.,  1.,  1.],\n",
       "       [-1.,  1.,  1.,  1., -1.,  0., -1., -1., -1.,  1.],\n",
       "       [ 1., -1., -1.,  1., -1.,  1.,  0., -1.,  1.,  1.],\n",
       "       [-1., -1.,  1., -1., -1.,  1.,  1.,  0.,  1., -1.],\n",
       "       [-1.,  1., -1.,  1., -1.,  1., -1., -1.,  0., -1.],\n",
       "       [ 1.,  1.,  1., -1., -1., -1., -1.,  1.,  1.,  0.]])"
      ]
     },
     "execution_count": 45,
     "metadata": {},
     "output_type": "execute_result"
    }
   ],
   "source": [
    "# First, generate the sign of the payoff matrix.  No ties except for identical actions.\n",
    "n = 10 # number of actions\n",
    "p_sign = rand(n, n)\n",
    "p_sign = p_sign - p_sign.T\n",
    "p_sign = np.sign(p_sign)\n",
    "p_sign"
   ]
  },
  {
   "cell_type": "code",
   "execution_count": 46,
   "metadata": {},
   "outputs": [
    {
     "data": {
      "text/plain": [
       "(array([1., 1., 1., 1., 1., 1., 1., 1., 1., 1.]),\n",
       " array([0.1, 0.1, 0.1, 0.1, 0.1, 0.1, 0.1, 0.1, 0.1, 0.1]))"
      ]
     },
     "execution_count": 46,
     "metadata": {},
     "output_type": "execute_result"
    }
   ],
   "source": [
    "# desired nash equilibrium\n",
    "target_p = np.ones(n)/n\n",
    "# uniform rewards to begin\n",
    "rewards = np.ones(n)\n",
    "rewards, target_p"
   ]
  },
  {
   "cell_type": "code",
   "execution_count": 47,
   "metadata": {},
   "outputs": [],
   "source": [
    "# function to form payoff matrix from signs and rewards\n",
    "def form_payoff(p_sign, rewards):\n",
    "    payoff = np.dot(np.diag(rewards), (p_sign==1))\n",
    "    payoff = payoff - payoff.T\n",
    "    return payoff"
   ]
  },
  {
   "cell_type": "code",
   "execution_count": 48,
   "metadata": {},
   "outputs": [],
   "source": [
    "# optimization parameters\n",
    "learning_rate = 0.1\n",
    "n_iterations = 1000"
   ]
  },
  {
   "cell_type": "code",
   "execution_count": 49,
   "metadata": {},
   "outputs": [],
   "source": [
    "# determine values of strategies\n",
    "# decrease the rewards of high-value strategies and increase the rewards of low-value strategies\n",
    "all_rewards = []\n",
    "all_values = []\n",
    "\n",
    "for iter_no in range(n_iterations):\n",
    "    all_rewards.append(rewards)\n",
    "    payoff = form_payoff(p_sign, rewards)\n",
    "    values = np.dot(payoff, target_p)\n",
    "    all_values.append(values)\n",
    "    rewards = rewards - learning_rate * values\n",
    "    \n",
    "all_rewards = np.array(all_rewards)\n",
    "all_values = np.array(all_values)"
   ]
  },
  {
   "cell_type": "code",
   "execution_count": 50,
   "metadata": {},
   "outputs": [
    {
     "data": {
      "text/plain": [
       "[<matplotlib.lines.Line2D at 0x7fb19a9596d0>,\n",
       " <matplotlib.lines.Line2D at 0x7fb19a9597c0>,\n",
       " <matplotlib.lines.Line2D at 0x7fb19a959880>,\n",
       " <matplotlib.lines.Line2D at 0x7fb19a959940>,\n",
       " <matplotlib.lines.Line2D at 0x7fb19a959a00>,\n",
       " <matplotlib.lines.Line2D at 0x7fb19a959ac0>,\n",
       " <matplotlib.lines.Line2D at 0x7fb19a959b80>,\n",
       " <matplotlib.lines.Line2D at 0x7fb19a959c40>,\n",
       " <matplotlib.lines.Line2D at 0x7fb19a959d00>,\n",
       " <matplotlib.lines.Line2D at 0x7fb19a959dc0>]"
      ]
     },
     "execution_count": 50,
     "metadata": {},
     "output_type": "execute_result"
    },
    {
     "data": {
      "image/png": "[encoded data removed]",
      "text/plain": [
       "<Figure size 432x288 with 1 Axes>"
      ]
     },
     "metadata": {
      "needs_background": "light"
     },
     "output_type": "display_data"
    }
   ],
   "source": [
    "plt.plot(all_values)"
   ]
  },
  {
   "cell_type": "code",
   "execution_count": 51,
   "metadata": {},
   "outputs": [
    {
     "data": {
      "text/plain": [
       "[<matplotlib.lines.Line2D at 0x7fb19a7bc790>,\n",
       " <matplotlib.lines.Line2D at 0x7fb19a7bc880>,\n",
       " <matplotlib.lines.Line2D at 0x7fb19a7bc940>,\n",
       " <matplotlib.lines.Line2D at 0x7fb19a7bca00>,\n",
       " <matplotlib.lines.Line2D at 0x7fb19a7bcac0>,\n",
       " <matplotlib.lines.Line2D at 0x7fb19a7bcb80>,\n",
       " <matplotlib.lines.Line2D at 0x7fb19a7bcc40>,\n",
       " <matplotlib.lines.Line2D at 0x7fb19a7bcd30>,\n",
       " <matplotlib.lines.Line2D at 0x7fb19a7bcdf0>,\n",
       " <matplotlib.lines.Line2D at 0x7fb19a7bceb0>]"
      ]
     },
     "execution_count": 51,
     "metadata": {},
     "output_type": "execute_result"
    },
    {
     "data": {
      "image/png": "[encoded data removed]",
      "text/plain": [
       "<Figure size 432x288 with 1 Axes>"
      ]
     },
     "metadata": {
      "needs_background": "light"
     },
     "output_type": "display_data"
    }
   ],
   "source": [
    "plt.plot(all_rewards)"
   ]
  },
  {
   "cell_type": "code",
   "execution_count": null,
   "metadata": {},
   "outputs": [],
   "source": []
  }
 ],
 "metadata": {
  "kernelspec": {
   "display_name": "Python 3",
   "language": "python",
   "name": "python3"
  },
  "language_info": {
   "codemirror_mode": {
    "name": "ipython",
    "version": 3
   },
   "file_extension": ".py",
   "mimetype": "text/x-python",
   "name": "python",
   "nbconvert_exporter": "python",
   "pygments_lexer": "ipython3",
   "version": "3.8.5"
  }
 },
 "nbformat": 4,
 "nbformat_minor": 4
}

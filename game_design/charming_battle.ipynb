{
 "cells": [
  {
   "cell_type": "markdown",
   "metadata": {},
   "source": [
    "# Charming battle (three attributes game + card mechanics)\n",
    "\n",
    "Each action has 3 numerical atributes -- charm (CHM), intelligence (INT), power (PWR).  The three attributes are ranked for tiebreaking.  You win if your action is greater than the opponent's action in 2 out of 3 attributes.  In case that one attribute is tied, the tie is broken based on the rank of the winning attribute."
   ]
  },
  {
   "cell_type": "code",
   "execution_count": 1,
   "metadata": {},
   "outputs": [],
   "source": [
    "import numpy as np\n",
    "from matplotlib import pyplot as plt\n",
    "import pandas as pd"
   ]
  },
  {
   "cell_type": "code",
   "execution_count": 246,
   "metadata": {},
   "outputs": [],
   "source": [
    "# A set of 9 battler archetypes\n",
    "vectors=np.array([[3,4,2],[4,3,2],[2,4,4],[4,5,0],[5,0,4],[0,5,5],[1,2,6],[1,6,1],[6,1,1]])\n",
    "#names = np.array([\"P1\",\"P2\",\"P3\",\"S1\",\"S2\",\"S3\",\"R1\",\"R2\",\"R3\"])\n",
    "names = np.array([\"PP\",\"PS\",\"PR\",\"SP\",\"SS\",\"SR\",\"RP\",\"RS\",\"RR\"])\n",
    "\n"
   ]
  },
  {
   "cell_type": "code",
   "execution_count": 197,
   "metadata": {},
   "outputs": [],
   "source": [
    "def compute_payoff(vectors1, vectors2):\n",
    "    a0_dom = np.sign(vectors1[:, [0]] - vectors2[:, [0]].T)\n",
    "    a1_dom = np.sign(vectors1[:, [1]] - vectors2[:, [1]].T)\n",
    "    a2_dom = np.sign(vectors1[:, [2]] - vectors2[:, [2]].T)\n",
    "    scores1 = 4 * (a0_dom > 0).astype(int) + 3 * (a1_dom > 0).astype(int) + 2 * (a2_dom > 0).astype(int)\n",
    "    scores2 = 4 * (a0_dom < 0).astype(int) + 3 * (a1_dom < 0).astype(int) + 2 * (a2_dom < 0).astype(int)    \n",
    "    win_mat = (scores1 > scores2).astype(int) - (scores1 < scores2).astype(int)\n",
    "    p_sign = np.sign(win_mat)\n",
    "    return p_sign\n",
    "\n",
    "# function to form payoff matrix from signs and rewards\n",
    "def form_payoff(p_sign, rewards):\n",
    "    payoff = np.dot(np.diag(rewards), (p_sign==1))\n",
    "    payoff = payoff - payoff.T\n",
    "    return payoff\n",
    "\n",
    "def tune_rewards(p_sign, target_p, learning_rate = 0.002, n_iterations = 50000):\n",
    "    # uniform rewards to begin\n",
    "    rewards = np.ones(len(p_sign))\n",
    "    # determine values of strategies\n",
    "    # decrease the rewards of high-value strategies and increase the rewards of low-value strategies\n",
    "    all_rewards = []\n",
    "    all_values = []\n",
    "\n",
    "    for iter_no in range(n_iterations):\n",
    "        all_rewards.append(rewards)\n",
    "        payoff = form_payoff(p_sign, rewards)\n",
    "        values = np.dot(payoff, target_p)\n",
    "        all_values.append(values)\n",
    "        rewards = rewards - learning_rate * values\n",
    "\n",
    "    all_rewards = np.array(all_rewards)\n",
    "    all_values = np.array(all_values)\n",
    "    return rewards, values, all_rewards, all_values\n",
    "\n",
    "def evolve_strategy(payoff, probs, learning_rate = 0.0005, n_iterations = 1000000):\n",
    "\n",
    "    all_probs = []\n",
    "    all_values = []\n",
    "\n",
    "    for iter_no in range(n_iterations):\n",
    "        all_probs.append(probs)\n",
    "        #probs = np.mean(all_probs, 0)\n",
    "        #print(probs)\n",
    "        values = np.dot(payoff, probs)\n",
    "        all_values.append(values)\n",
    "        probs = probs * (1 + learning_rate * values)\n",
    "        probs = probs/np.sum(probs)\n",
    "\n",
    "    all_probs = np.array(all_probs)\n",
    "    all_values = np.array(all_values)\n",
    "    probs = np.mean(all_probs[int(n_iterations/2):, :], 0)\n",
    "    values = np.dot(payoff, probs)\n",
    "    return probs, values, all_probs, all_values\n"
   ]
  },
  {
   "cell_type": "code",
   "execution_count": 198,
   "metadata": {},
   "outputs": [],
   "source": [
    "p_sign = compute_payoff(vectors, vectors)"
   ]
  },
  {
   "cell_type": "markdown",
   "metadata": {},
   "source": [
    "## Modifer analysis"
   ]
  },
  {
   "cell_type": "code",
   "execution_count": 222,
   "metadata": {},
   "outputs": [],
   "source": [
    "attr_boost_1 = 2\n",
    "vectors2 = vectors.copy()\n",
    "vectors2[:, attr_boost_1] = vectors2[:, attr_boost_1]+1\n",
    "p_sign2 = compute_payoff(vectors2, vectors)"
   ]
  },
  {
   "cell_type": "code",
   "execution_count": 223,
   "metadata": {},
   "outputs": [
    {
     "data": {
      "text/plain": [
       "array([[3, 4, 3],\n",
       "       [4, 3, 3],\n",
       "       [2, 4, 5],\n",
       "       [4, 5, 1],\n",
       "       [5, 0, 5],\n",
       "       [0, 5, 6],\n",
       "       [1, 2, 7],\n",
       "       [1, 6, 2],\n",
       "       [6, 1, 2]])"
      ]
     },
     "execution_count": 223,
     "metadata": {},
     "output_type": "execute_result"
    }
   ],
   "source": [
    "vectors2"
   ]
  },
  {
   "cell_type": "code",
   "execution_count": 224,
   "metadata": {},
   "outputs": [
    {
     "data": {
      "text/plain": [
       "array([[ 0, -1,  1, -1, -1, -1,  1,  1,  1],\n",
       "       [ 1,  0, -1, -1, -1, -1,  1,  1,  1],\n",
       "       [-1,  1,  0, -1, -1, -1,  1,  1,  1],\n",
       "       [ 1,  1,  1,  0, -1,  1,  1, -1, -1],\n",
       "       [ 1,  1,  1,  1,  0, -1, -1,  1, -1],\n",
       "       [ 1,  1,  1, -1,  1,  0, -1, -1,  1],\n",
       "       [-1, -1, -1, -1,  1,  1,  0, -1,  1],\n",
       "       [-1, -1, -1,  1, -1,  1,  1,  0, -1],\n",
       "       [-1, -1, -1,  1,  1, -1, -1,  1,  0]])"
      ]
     },
     "execution_count": 224,
     "metadata": {},
     "output_type": "execute_result"
    }
   ],
   "source": [
    "p_sign"
   ]
  },
  {
   "cell_type": "code",
   "execution_count": 225,
   "metadata": {},
   "outputs": [
    {
     "data": {
      "text/plain": [
       "array([[ 1,  1,  1, -1, -1, -1,  1,  1,  1],\n",
       "       [ 1,  1, -1, -1, -1, -1,  1,  1,  1],\n",
       "       [-1,  1,  1, -1,  1,  1,  1,  1,  1],\n",
       "       [ 1,  1,  1,  1, -1,  1,  1,  1, -1],\n",
       "       [ 1,  1,  1,  1,  1,  1, -1,  1, -1],\n",
       "       [ 1,  1,  1, -1,  1,  1, -1, -1,  1],\n",
       "       [-1, -1, -1, -1,  1,  1,  1, -1,  1],\n",
       "       [-1, -1, -1,  1, -1,  1,  1,  1,  1],\n",
       "       [ 1,  1, -1,  1,  1, -1, -1,  1,  1]])"
      ]
     },
     "execution_count": 225,
     "metadata": {},
     "output_type": "execute_result"
    }
   ],
   "source": [
    "p_sign2"
   ]
  },
  {
   "cell_type": "code",
   "execution_count": 226,
   "metadata": {},
   "outputs": [
    {
     "data": {
      "text/plain": [
       "array([[1, 2, 0, 0, 0, 0, 0, 0, 0],\n",
       "       [0, 1, 0, 0, 0, 0, 0, 0, 0],\n",
       "       [0, 0, 1, 0, 2, 2, 0, 0, 0],\n",
       "       [0, 0, 0, 1, 0, 0, 0, 2, 0],\n",
       "       [0, 0, 0, 0, 1, 2, 0, 0, 0],\n",
       "       [0, 0, 0, 0, 0, 1, 0, 0, 0],\n",
       "       [0, 0, 0, 0, 0, 0, 1, 0, 0],\n",
       "       [0, 0, 0, 0, 0, 0, 0, 1, 2],\n",
       "       [2, 2, 0, 0, 0, 0, 0, 0, 1]])"
      ]
     },
     "execution_count": 226,
     "metadata": {},
     "output_type": "execute_result"
    }
   ],
   "source": [
    "p_sign2 - p_sign"
   ]
  },
  {
   "cell_type": "code",
   "execution_count": null,
   "metadata": {},
   "outputs": [],
   "source": []
  },
  {
   "cell_type": "code",
   "execution_count": 238,
   "metadata": {},
   "outputs": [],
   "source": [
    "p_sign_avg = 0 * p_sign.copy()\n",
    "# compute average payoff under joint distribution of modifiers\n",
    "modifier_prob = np.array([0.05, 0.05, 0.05, 0.85]) # element[3] is no modification\n",
    "for i in range(4):\n",
    "    for j in range(4):\n",
    "        vectors1 = vectors.copy()\n",
    "        vectors2 = vectors.copy()\n",
    "        if i < 3:\n",
    "            vectors1[:, i] = vectors1[:, i]+1\n",
    "        if j < 3:\n",
    "            vectors2[:, j] = vectors2[:, j]+1\n",
    "        p_sign_mod = compute_payoff(vectors1, vectors2)\n",
    "        p_sign_avg = p_sign_avg + modifier_prob[i] * modifier_prob[j] * p_sign_mod"
   ]
  },
  {
   "cell_type": "code",
   "execution_count": 239,
   "metadata": {},
   "outputs": [
    {
     "data": {
      "text/plain": [
       "<matplotlib.image.AxesImage at 0x7fbf90967310>"
      ]
     },
     "execution_count": 239,
     "metadata": {},
     "output_type": "execute_result"
    },
    {
     "data": {
      "image/png": "[encoded data removed]",
      "text/plain": [
       "<Figure size 288x288 with 1 Axes>"
      ]
     },
     "metadata": {
      "needs_background": "light"
     },
     "output_type": "display_data"
    }
   ],
   "source": [
    "plt.matshow(p_sign)"
   ]
  },
  {
   "cell_type": "code",
   "execution_count": 240,
   "metadata": {},
   "outputs": [
    {
     "data": {
      "text/plain": [
       "<matplotlib.image.AxesImage at 0x7fbfb1cd37f0>"
      ]
     },
     "execution_count": 240,
     "metadata": {},
     "output_type": "execute_result"
    },
    {
     "data": {
      "image/png": "[encoded data removed]",
      "text/plain": [
       "<Figure size 288x288 with 1 Axes>"
      ]
     },
     "metadata": {
      "needs_background": "light"
     },
     "output_type": "display_data"
    }
   ],
   "source": [
    "plt.matshow(p_sign_avg)"
   ]
  },
  {
   "cell_type": "code",
   "execution_count": 241,
   "metadata": {},
   "outputs": [
    {
     "data": {
      "text/plain": [
       "array([0.70550895, 0.62923664, 0.11440733, 0.22881377, 1.18220419,\n",
       "       1.25847326, 1.67796738, 2.51694783, 0.68644066])"
      ]
     },
     "execution_count": 241,
     "metadata": {},
     "output_type": "execute_result"
    }
   ],
   "source": [
    "rewards, values, all_rewards, all_values = tune_rewards(p_sign_avg, np.ones(n)/n)\n",
    "rewards"
   ]
  },
  {
   "cell_type": "code",
   "execution_count": 242,
   "metadata": {},
   "outputs": [],
   "source": [
    "probs, values, all_probs, all_values = evolve_strategy(p_sign_avg, np.ones(n)/n, 0.0001, 1000000)"
   ]
  },
  {
   "cell_type": "code",
   "execution_count": 249,
   "metadata": {},
   "outputs": [
    {
     "data": {
      "text/html": [
       "<div>\n",
       "<style scoped>\n",
       "    .dataframe tbody tr th:only-of-type {\n",
       "        vertical-align: middle;\n",
       "    }\n",
       "\n",
       "    .dataframe tbody tr th {\n",
       "        vertical-align: top;\n",
       "    }\n",
       "\n",
       "    .dataframe thead th {\n",
       "        text-align: right;\n",
       "    }\n",
       "</style>\n",
       "<table border=\"1\" class=\"dataframe\">\n",
       "  <thead>\n",
       "    <tr style=\"text-align: right;\">\n",
       "      <th></th>\n",
       "      <th>CHM</th>\n",
       "      <th>INT</th>\n",
       "      <th>PWR</th>\n",
       "      <th>prob</th>\n",
       "    </tr>\n",
       "    <tr>\n",
       "      <th>name</th>\n",
       "      <th></th>\n",
       "      <th></th>\n",
       "      <th></th>\n",
       "      <th></th>\n",
       "    </tr>\n",
       "  </thead>\n",
       "  <tbody>\n",
       "    <tr>\n",
       "      <th>PP</th>\n",
       "      <td>3</td>\n",
       "      <td>4</td>\n",
       "      <td>2</td>\n",
       "      <td>6.7</td>\n",
       "    </tr>\n",
       "    <tr>\n",
       "      <th>PS</th>\n",
       "      <td>4</td>\n",
       "      <td>3</td>\n",
       "      <td>2</td>\n",
       "      <td>2.7</td>\n",
       "    </tr>\n",
       "    <tr>\n",
       "      <th>PR</th>\n",
       "      <td>2</td>\n",
       "      <td>4</td>\n",
       "      <td>4</td>\n",
       "      <td>3.0</td>\n",
       "    </tr>\n",
       "    <tr>\n",
       "      <th>SP</th>\n",
       "      <td>4</td>\n",
       "      <td>5</td>\n",
       "      <td>0</td>\n",
       "      <td>11.1</td>\n",
       "    </tr>\n",
       "    <tr>\n",
       "      <th>SS</th>\n",
       "      <td>5</td>\n",
       "      <td>0</td>\n",
       "      <td>4</td>\n",
       "      <td>9.0</td>\n",
       "    </tr>\n",
       "    <tr>\n",
       "      <th>SR</th>\n",
       "      <td>0</td>\n",
       "      <td>5</td>\n",
       "      <td>5</td>\n",
       "      <td>23.2</td>\n",
       "    </tr>\n",
       "    <tr>\n",
       "      <th>RP</th>\n",
       "      <td>1</td>\n",
       "      <td>2</td>\n",
       "      <td>6</td>\n",
       "      <td>6.5</td>\n",
       "    </tr>\n",
       "    <tr>\n",
       "      <th>RS</th>\n",
       "      <td>1</td>\n",
       "      <td>6</td>\n",
       "      <td>1</td>\n",
       "      <td>21.0</td>\n",
       "    </tr>\n",
       "    <tr>\n",
       "      <th>RR</th>\n",
       "      <td>6</td>\n",
       "      <td>1</td>\n",
       "      <td>1</td>\n",
       "      <td>16.4</td>\n",
       "    </tr>\n",
       "  </tbody>\n",
       "</table>\n",
       "</div>"
      ],
      "text/plain": [
       "      CHM  INT  PWR  prob\n",
       "name                     \n",
       "PP      3    4    2   6.7\n",
       "PS      4    3    2   2.7\n",
       "PR      2    4    4   3.0\n",
       "SP      4    5    0  11.1\n",
       "SS      5    0    4   9.0\n",
       "SR      0    5    5  23.2\n",
       "RP      1    2    6   6.5\n",
       "RS      1    6    1  21.0\n",
       "RR      6    1    1  16.4"
      ]
     },
     "execution_count": 249,
     "metadata": {},
     "output_type": "execute_result"
    }
   ],
   "source": [
    "results = pd.DataFrame({\n",
    "    'name': names,\n",
    "    'CHM': vectors[:, 0], 'INT': vectors[:, 1], 'PWR': vectors[:, 2], \n",
    "    #'reward':rewards,\n",
    "    #'total': np.sum(vectors, 1),\n",
    "    'prob': np.floor(probs* 1000)/10})\n",
    "#results.iloc[np.argsort(-probs), :].reset_index(drop = True)\n",
    "results.set_index('name')"
   ]
  },
  {
   "cell_type": "code",
   "execution_count": null,
   "metadata": {},
   "outputs": [],
   "source": []
  }
 ],
 "metadata": {
  "kernelspec": {
   "display_name": "Python 3",
   "language": "python",
   "name": "python3"
  },
  "language_info": {
   "codemirror_mode": {
    "name": "ipython",
    "version": 3
   },
   "file_extension": ".py",
   "mimetype": "text/x-python",
   "name": "python",
   "nbconvert_exporter": "python",
   "pygments_lexer": "ipython3",
   "version": "3.8.5"
  }
 },
 "nbformat": 4,
 "nbformat_minor": 4
}

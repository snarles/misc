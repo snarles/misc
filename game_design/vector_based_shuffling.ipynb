{
 "cells": [
  {
   "cell_type": "code",
   "execution_count": 3,
   "id": "85c8aa43",
   "metadata": {},
   "outputs": [],
   "source": [
    "import numpy as np\n",
    "from numpy.random import choice, randn\n",
    "from matplotlib import pyplot as plt\n",
    "%matplotlib inline\n",
    "import itertools\n"
   ]
  },
  {
   "cell_type": "markdown",
   "id": "36db16bb",
   "metadata": {},
   "source": [
    "# Integer-based shuffling keys"
   ]
  },
  {
   "cell_type": "code",
   "execution_count": 201,
   "id": "ee15ee0e",
   "metadata": {},
   "outputs": [
    {
     "data": {
      "text/plain": [
       "array([-4., -3., -2., -1.,  0.,  1.,  2.,  3.,  4.])"
      ]
     },
     "execution_count": 201,
     "metadata": {},
     "output_type": "execute_result"
    }
   ],
   "source": [
    "k = 9\n",
    "x0 = np.arange(k) - (k-1)/2\n",
    "x0"
   ]
  },
  {
   "cell_type": "code",
   "execution_count": 202,
   "id": "9d3e8fd7",
   "metadata": {},
   "outputs": [],
   "source": [
    "def build_shuffle_matrix(x0, tolerance = 0):\n",
    "    xs = [x0]\n",
    "    x1 = x0\n",
    "    arr = np.array(list(itertools.permutations(x0)))\n",
    "    flag = True\n",
    "    while flag:\n",
    "        dp = np.abs(np.dot(arr, x1.T))\n",
    "        if np.min(dp) > tolerance:\n",
    "            flag = False\n",
    "        else:\n",
    "            inds = np.argsort(dp)[:(np.sum(dp <= tolerance))]\n",
    "            arr = arr[inds]\n",
    "            x1 = arr[0]\n",
    "            xs.append(x1)\n",
    "    return np.array(xs)\n"
   ]
  },
  {
   "cell_type": "code",
   "execution_count": 213,
   "id": "4ba61e94",
   "metadata": {},
   "outputs": [
    {
     "name": "stdout",
     "output_type": "stream",
     "text": [
      "62\n"
     ]
    },
    {
     "data": {
      "text/plain": [
       "array([[-4., -3., -2., -1.,  0.,  1.,  2.,  3.,  4.],\n",
       "       [-2.,  2.,  1., -1.,  0.,  4., -4., -3.,  3.],\n",
       "       [ 1.,  2., -3.,  0., -2., -1.,  4., -4.,  3.],\n",
       "       [ 3.,  4.,  2., -4., -2.,  1., -3., -1.,  0.],\n",
       "       [ 1., -1.,  0.,  2., -2., -3., -4.,  4.,  3.],\n",
       "       [-1.,  4.,  2., -4.,  1., -3.,  0.,  3., -2.],\n",
       "       [-1.,  3., -4.,  4.,  1.,  0., -3.,  2., -2.],\n",
       "       [-2.,  4.,  0.,  1., -3., -4.,  3., -1.,  2.],\n",
       "       [ 2., -2.,  1.,  0.,  3., -3., -1., -4.,  4.],\n",
       "       [ 2.,  1.,  3., -2., -3., -4.,  4.,  0., -1.]])"
      ]
     },
     "execution_count": 213,
     "metadata": {},
     "output_type": "execute_result"
    }
   ],
   "source": [
    "x = build_shuffle_matrix(x0, 38)\n",
    "print(len(x))\n",
    "x[:10]"
   ]
  },
  {
   "cell_type": "code",
   "execution_count": 214,
   "id": "36577c0a",
   "metadata": {},
   "outputs": [],
   "source": [
    "#x = np.array([choice(x0, k, replace = False) for i in range(20)])\n",
    "#x"
   ]
  },
  {
   "cell_type": "code",
   "execution_count": 215,
   "id": "5192535e",
   "metadata": {},
   "outputs": [
    {
     "data": {
      "text/plain": [
       "array([[ 60.,   1., -38.,  -3.,   8.],\n",
       "       [  1.,  60.,   1.,  17.,  10.],\n",
       "       [-38.,   1.,  60.,   2.,  -7.],\n",
       "       [ -3.,  17.,   2.,  60.,  -3.],\n",
       "       [  8.,  10.,  -7.,  -3.,  60.]])"
      ]
     },
     "execution_count": 215,
     "metadata": {},
     "output_type": "execute_result"
    }
   ],
   "source": [
    "np.dot(x, x.T)[-5:, -5:]"
   ]
  },
  {
   "cell_type": "code",
   "execution_count": 216,
   "id": "e36b5c46",
   "metadata": {},
   "outputs": [
    {
     "data": {
      "text/plain": [
       "<matplotlib.image.AxesImage at 0x7fe858bfbcd0>"
      ]
     },
     "execution_count": 216,
     "metadata": {},
     "output_type": "execute_result"
    },
    {
     "data": {
      "image/png": "[encoded data removed]",
      "text/plain": [
       "<Figure size 288x288 with 1 Axes>"
      ]
     },
     "metadata": {
      "needs_background": "light"
     },
     "output_type": "display_data"
    }
   ],
   "source": [
    "plt.matshow(np.dot(x, x.T))"
   ]
  },
  {
   "cell_type": "code",
   "execution_count": 217,
   "id": "7eed1cdd",
   "metadata": {},
   "outputs": [],
   "source": [
    "projs = randn(k, 5000000)"
   ]
  },
  {
   "cell_type": "code",
   "execution_count": 218,
   "id": "caa1aa2e",
   "metadata": {},
   "outputs": [],
   "source": [
    "prods = np.dot(x, projs).T"
   ]
  },
  {
   "cell_type": "code",
   "execution_count": 219,
   "id": "c17d67d9",
   "metadata": {},
   "outputs": [
    {
     "data": {
      "text/plain": [
       "5000000"
      ]
     },
     "execution_count": 219,
     "metadata": {},
     "output_type": "execute_result"
    }
   ],
   "source": [
    "ords = [tuple(np.argsort(r)) for r in prods]\n",
    "len(set(ords))"
   ]
  },
  {
   "cell_type": "code",
   "execution_count": 220,
   "id": "02e7aacd",
   "metadata": {},
   "outputs": [
    {
     "data": {
      "text/plain": [
       "31469973260387937525653122354950764088012280797258232192163168247821107200000000000000"
      ]
     },
     "execution_count": 220,
     "metadata": {},
     "output_type": "execute_result"
    }
   ],
   "source": [
    "np.math.factorial(len(x))"
   ]
  },
  {
   "cell_type": "code",
   "execution_count": 221,
   "id": "dd303e1c",
   "metadata": {},
   "outputs": [],
   "source": [
    "ords = np.array(list(set(ords)))"
   ]
  },
  {
   "cell_type": "code",
   "execution_count": 246,
   "id": "5de5263f",
   "metadata": {},
   "outputs": [
    {
     "data": {
      "image/png": "[encoded data removed]",
      "text/plain": [
       "<Figure size 432x288 with 1 Axes>"
      ]
     },
     "metadata": {
      "needs_background": "light"
     },
     "output_type": "display_data"
    }
   ],
   "source": [
    "plt.hist(ords[:, 0], 240)\n",
    "plt.show()"
   ]
  },
  {
   "cell_type": "code",
   "execution_count": 245,
   "id": "fef94bb3",
   "metadata": {},
   "outputs": [
    {
     "data": {
      "image/png": "[encoded data removed]",
      "text/plain": [
       "<Figure size 432x288 with 1 Axes>"
      ]
     },
     "metadata": {
      "needs_background": "light"
     },
     "output_type": "display_data"
    }
   ],
   "source": [
    "plt.hist2d(ords[:, 0], ords[:, 21])\n",
    "plt.show()"
   ]
  },
  {
   "cell_type": "code",
   "execution_count": null,
   "id": "570f20db",
   "metadata": {},
   "outputs": [],
   "source": []
  }
 ],
 "metadata": {
  "kernelspec": {
   "display_name": "Python 3 (ipykernel)",
   "language": "python",
   "name": "python3"
  },
  "language_info": {
   "codemirror_mode": {
    "name": "ipython",
    "version": 3
   },
   "file_extension": ".py",
   "mimetype": "text/x-python",
   "name": "python",
   "nbconvert_exporter": "python",
   "pygments_lexer": "ipython3",
   "version": "3.9.12"
  }
 },
 "nbformat": 4,
 "nbformat_minor": 5
}

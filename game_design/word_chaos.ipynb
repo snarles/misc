{
  "nbformat": 4,
  "nbformat_minor": 0,
  "metadata": {
    "colab": {
      "provenance": []
    },
    "kernelspec": {
      "name": "python3",
      "display_name": "Python 3"
    },
    "language_info": {
      "name": "python"
    }
  },
  "cells": [
    {
      "cell_type": "code",
      "execution_count": 30,
      "metadata": {
        "id": "y_SkO-dIP8Xl"
      },
      "outputs": [],
      "source": [
        "import numpy as np\n",
        "from numpy.random import default_rng\n",
        "import matplotlib.pyplot as plt\n",
        "rng = default_rng(2024)"
      ]
    },
    {
      "cell_type": "code",
      "source": [
        "raw_lexicon = np.loadtxt(\"https://raw.githubusercontent.com/dwyl/english-words/refs/heads/master/words.txt\", dtype=str)"
      ],
      "metadata": {
        "id": "8WovLT3fQfLS"
      },
      "execution_count": 8,
      "outputs": []
    },
    {
      "cell_type": "code",
      "source": [
        "letters = np.array([l for l in \"abcdefghijklmnopqrstuvwxyz\"])\n",
        "lexicon = np.array([w for w in raw_lexicon if np.all([l in letters for l in w])])\n",
        "len(lexicon)"
      ],
      "metadata": {
        "colab": {
          "base_uri": "https://localhost:8080/"
        },
        "id": "q2CMJvvsQpwK",
        "outputId": "ffdd7fa0-7f66-4f6a-f2db-10ef0c682f1e"
      },
      "execution_count": 17,
      "outputs": [
        {
          "output_type": "execute_result",
          "data": {
            "text/plain": [
              "341122"
            ]
          },
          "metadata": {},
          "execution_count": 17
        }
      ]
    },
    {
      "cell_type": "code",
      "source": [
        "lexicon_lens = np.array([len(w) for w in lexicon])\n",
        "lexicon_by_len = [lexicon[lexicon_lens == i] for i in range(np.max(lexicon_lens)+1)]"
      ],
      "metadata": {
        "id": "UZcysY_7XUsS"
      },
      "execution_count": 42,
      "outputs": []
    },
    {
      "cell_type": "code",
      "source": [
        "l2i = {l:i for i,l in enumerate(letters)}\n",
        "vowels = np.array([l for l in \"aeiouy\"])\n",
        "non_plosives = np.array([l for l in \"fhjlmnrsvwxz\"])\n",
        "plosives = np.array([l for l in \"bcdgkpqt\"])\n",
        "l_code = {}\n",
        "for i, group in enumerate([vowels, non_plosives, plosives]):\n",
        "  for l in group:\n",
        "    l_code[l] = i\n",
        "str(l_code)"
      ],
      "metadata": {
        "colab": {
          "base_uri": "https://localhost:8080/",
          "height": 53
        },
        "id": "J638_ZJZQLBb",
        "outputId": "2e1da6e7-d336-43f6-f70d-0ab800440998"
      },
      "execution_count": 35,
      "outputs": [
        {
          "output_type": "execute_result",
          "data": {
            "text/plain": [
              "\"{'a': 0, 'e': 0, 'i': 0, 'o': 0, 'u': 0, 'y': 0, 'f': 1, 'h': 1, 'j': 1, 'l': 1, 'm': 1, 'n': 1, 'r': 1, 's': 1, 'v': 1, 'w': 1, 'x': 1, 'z': 1, 'b': 2, 'c': 2, 'd': 2, 'g': 2, 'k': 2, 'p': 2, 'q': 2, 't': 2}\""
            ],
            "application/vnd.google.colaboratory.intrinsic+json": {
              "type": "string"
            }
          },
          "metadata": {},
          "execution_count": 35
        }
      ]
    },
    {
      "cell_type": "code",
      "source": [
        "temp = np.concatenate([letters, letters[:4]])\n",
        "pentas = np.array([temp[i:i+5] for i in range(26)])\n",
        "pentas"
      ],
      "metadata": {
        "colab": {
          "base_uri": "https://localhost:8080/"
        },
        "id": "4fqChoPtQUvx",
        "outputId": "fb18a3b6-2e22-465b-c3a8-108ee408d88b"
      },
      "execution_count": 20,
      "outputs": [
        {
          "output_type": "execute_result",
          "data": {
            "text/plain": [
              "array([['a', 'b', 'c', 'd', 'e'],\n",
              "       ['b', 'c', 'd', 'e', 'f'],\n",
              "       ['c', 'd', 'e', 'f', 'g'],\n",
              "       ['d', 'e', 'f', 'g', 'h'],\n",
              "       ['e', 'f', 'g', 'h', 'i'],\n",
              "       ['f', 'g', 'h', 'i', 'j'],\n",
              "       ['g', 'h', 'i', 'j', 'k'],\n",
              "       ['h', 'i', 'j', 'k', 'l'],\n",
              "       ['i', 'j', 'k', 'l', 'm'],\n",
              "       ['j', 'k', 'l', 'm', 'n'],\n",
              "       ['k', 'l', 'm', 'n', 'o'],\n",
              "       ['l', 'm', 'n', 'o', 'p'],\n",
              "       ['m', 'n', 'o', 'p', 'q'],\n",
              "       ['n', 'o', 'p', 'q', 'r'],\n",
              "       ['o', 'p', 'q', 'r', 's'],\n",
              "       ['p', 'q', 'r', 's', 't'],\n",
              "       ['q', 'r', 's', 't', 'u'],\n",
              "       ['r', 's', 't', 'u', 'v'],\n",
              "       ['s', 't', 'u', 'v', 'w'],\n",
              "       ['t', 'u', 'v', 'w', 'x'],\n",
              "       ['u', 'v', 'w', 'x', 'y'],\n",
              "       ['v', 'w', 'x', 'y', 'z'],\n",
              "       ['w', 'x', 'y', 'z', 'a'],\n",
              "       ['x', 'y', 'z', 'a', 'b'],\n",
              "       ['y', 'z', 'a', 'b', 'c'],\n",
              "       ['z', 'a', 'b', 'c', 'd']], dtype='<U1')"
            ]
          },
          "metadata": {},
          "execution_count": 20
        }
      ]
    },
    {
      "cell_type": "code",
      "source": [
        "penta_codes = [np.array([l_code[l] for l in w]) for w in pentas]\n",
        "penta_codes"
      ],
      "metadata": {
        "colab": {
          "base_uri": "https://localhost:8080/"
        },
        "id": "KfwA2RWiStzu",
        "outputId": "a601b434-1725-41f1-803f-93ad4b2fd032"
      },
      "execution_count": 22,
      "outputs": [
        {
          "output_type": "execute_result",
          "data": {
            "text/plain": [
              "[array([0, 2, 2, 2, 0]),\n",
              " array([2, 2, 2, 0, 1]),\n",
              " array([2, 2, 0, 1, 2]),\n",
              " array([2, 0, 1, 2, 1]),\n",
              " array([0, 1, 2, 1, 0]),\n",
              " array([1, 2, 1, 0, 1]),\n",
              " array([2, 1, 0, 1, 2]),\n",
              " array([1, 0, 1, 2, 1]),\n",
              " array([0, 1, 2, 1, 1]),\n",
              " array([1, 2, 1, 1, 1]),\n",
              " array([2, 1, 1, 1, 0]),\n",
              " array([1, 1, 1, 0, 2]),\n",
              " array([1, 1, 0, 2, 2]),\n",
              " array([1, 0, 2, 2, 1]),\n",
              " array([0, 2, 2, 1, 1]),\n",
              " array([2, 2, 1, 1, 2]),\n",
              " array([2, 1, 1, 2, 0]),\n",
              " array([1, 1, 2, 0, 1]),\n",
              " array([1, 2, 0, 1, 1]),\n",
              " array([2, 0, 1, 1, 1]),\n",
              " array([0, 1, 1, 1, 0]),\n",
              " array([1, 1, 1, 0, 1]),\n",
              " array([1, 1, 0, 1, 0]),\n",
              " array([1, 0, 1, 0, 2]),\n",
              " array([0, 1, 0, 2, 2]),\n",
              " array([1, 0, 2, 2, 2])]"
            ]
          },
          "metadata": {},
          "execution_count": 22
        }
      ]
    },
    {
      "cell_type": "code",
      "source": [
        "row_i = 0\n",
        "col_i = 1\n",
        "row_v = penta_codes[row_i]\n",
        "col_v = penta_codes[col_i]\n",
        "temp = (row_v - col_v) % 3\n",
        "nties = np.sum(temp == 0)\n",
        "nrowwins = np.sum(temp == 1)\n",
        "row_first_win = (temp[np.argmin(temp != 0)]==1)\n",
        "temp, nties, nrowwins, row_first_win"
      ],
      "metadata": {
        "colab": {
          "base_uri": "https://localhost:8080/"
        },
        "id": "p5WR9xvtT0KZ",
        "outputId": "24cb8447-2eba-40f6-84e3-20099415467a"
      },
      "execution_count": 27,
      "outputs": [
        {
          "output_type": "execute_result",
          "data": {
            "text/plain": [
              "(array([1, 0, 0, 2, 2]), 2, 1, False)"
            ]
          },
          "metadata": {},
          "execution_count": 27
        }
      ]
    },
    {
      "cell_type": "code",
      "source": [
        "row_beats_col = np.zeros((26, 26))-2\n",
        "reverses = np.zeros((26, 26))-2\n",
        "for row_i in range(26):\n",
        "  for col_i in range(26):\n",
        "    row_v = penta_codes[row_i]\n",
        "    col_v = penta_codes[col_i]\n",
        "    temp = (row_v - col_v) % 3\n",
        "    nties = np.sum(temp == 0)\n",
        "    nrowwins = np.sum(temp == 1)\n",
        "    ncolwins = np.sum(temp == 2)\n",
        "    row_wins = np.zeros(5)\n",
        "    row_wins[temp == 1] = 1\n",
        "    row_wins[temp == 2] = -1\n",
        "    if nties < 5:\n",
        "      row_first_win = row_wins[row_wins != 0][0]\n",
        "    else:\n",
        "      row_first_win = 0\n",
        "    if nrowwins != ncolwins:\n",
        "      row_beats_col[row_i, col_i] = np.sign(nrowwins - ncolwins)\n",
        "    elif nrowwins == ncolwins:\n",
        "      row_beats_col[row_i, col_i] = row_first_win\n",
        "    elif nties == 5:\n",
        "      row_beats_col[row_i, col_i] = 0\n",
        "    else:\n",
        "      row_beats_col[row_i, col_i] = -1\n",
        "    if nties % 2 == 0:\n",
        "      reverses[row_i, col_i] = 0\n",
        "    else:\n",
        "      reverses[row_i, col_i] = 1"
      ],
      "metadata": {
        "id": "z4k2x6J-TIY1"
      },
      "execution_count": 131,
      "outputs": []
    },
    {
      "cell_type": "code",
      "source": [
        "row_beats_col = row_beats_col.astype(int)\n",
        "reverses = reverses.astype(int)"
      ],
      "metadata": {
        "id": "pLpktAM8aD1a"
      },
      "execution_count": 132,
      "outputs": []
    },
    {
      "cell_type": "code",
      "source": [
        "plt.matshow(row_beats_col)"
      ],
      "metadata": {
        "colab": {
          "base_uri": "https://localhost:8080/",
          "height": 455
        },
        "id": "mbdqSXo5VH6F",
        "outputId": "23ec62cd-2ad6-44ad-b4df-4fdcad14e980"
      },
      "execution_count": 133,
      "outputs": [
        {
          "output_type": "execute_result",
          "data": {
            "text/plain": [
              "<matplotlib.image.AxesImage at 0x7c92c03305b0>"
            ]
          },
          "metadata": {},
          "execution_count": 133
        },
        {
          "output_type": "display_data",
          "data": {
            "text/plain": [
              "<Figure size 480x480 with 1 Axes>"
            ],
            "image/png": "[encoded data removed]"
          },
          "metadata": {}
        }
      ]
    },
    {
      "cell_type": "code",
      "source": [
        "plt.matshow(row_beats_col + row_beats_col.T)"
      ],
      "metadata": {
        "colab": {
          "base_uri": "https://localhost:8080/",
          "height": 455
        },
        "id": "Vw-PLN05ahYr",
        "outputId": "5b2dfe49-c98b-4baf-bd37-8f38838f0d5d"
      },
      "execution_count": 134,
      "outputs": [
        {
          "output_type": "execute_result",
          "data": {
            "text/plain": [
              "<matplotlib.image.AxesImage at 0x7c92c03919c0>"
            ]
          },
          "metadata": {},
          "execution_count": 134
        },
        {
          "output_type": "display_data",
          "data": {
            "text/plain": [
              "<Figure size 480x480 with 1 Axes>"
            ],
            "image/png": "[encoded data removed]"
          },
          "metadata": {}
        }
      ]
    },
    {
      "cell_type": "code",
      "source": [
        "for i in range(26):\n",
        "  print(letters[i] + \" %i\" % np.sum(row_beats_col[i,]==1))"
      ],
      "metadata": {
        "colab": {
          "base_uri": "https://localhost:8080/"
        },
        "id": "Q2v2cC4aVYI7",
        "outputId": "7df6f71a-0bfb-4a60-81a8-3c62a50382a4"
      },
      "execution_count": 135,
      "outputs": [
        {
          "output_type": "stream",
          "name": "stdout",
          "text": [
            "a 13\n",
            "b 16\n",
            "c 15\n",
            "d 11\n",
            "e 11\n",
            "f 12\n",
            "g 16\n",
            "h 11\n",
            "i 10\n",
            "j 14\n",
            "k 13\n",
            "l 9\n",
            "m 13\n",
            "n 12\n",
            "o 14\n",
            "p 14\n",
            "q 16\n",
            "r 13\n",
            "s 11\n",
            "t 12\n",
            "u 10\n",
            "v 12\n",
            "w 11\n",
            "x 10\n",
            "y 12\n",
            "z 14\n"
          ]
        }
      ]
    },
    {
      "cell_type": "code",
      "source": [
        "plt.matshow(reverses)"
      ],
      "metadata": {
        "colab": {
          "base_uri": "https://localhost:8080/",
          "height": 455
        },
        "id": "EHKBPpKLVI1u",
        "outputId": "66714547-5de9-4ae5-f8af-ad9ef0d6c4fd"
      },
      "execution_count": 136,
      "outputs": [
        {
          "output_type": "execute_result",
          "data": {
            "text/plain": [
              "<matplotlib.image.AxesImage at 0x7c92c03fa890>"
            ]
          },
          "metadata": {},
          "execution_count": 136
        },
        {
          "output_type": "display_data",
          "data": {
            "text/plain": [
              "<Figure size 480x480 with 1 Axes>"
            ],
            "image/png": "[encoded data removed]"
          },
          "metadata": {}
        }
      ]
    },
    {
      "cell_type": "code",
      "source": [
        "plt.matshow(reverses - reverses.T)"
      ],
      "metadata": {
        "colab": {
          "base_uri": "https://localhost:8080/",
          "height": 455
        },
        "id": "10f9FPVmar0T",
        "outputId": "e9709261-8ffa-4c49-b505-400f8cb93231"
      },
      "execution_count": 137,
      "outputs": [
        {
          "output_type": "execute_result",
          "data": {
            "text/plain": [
              "<matplotlib.image.AxesImage at 0x7c92c016bc70>"
            ]
          },
          "metadata": {},
          "execution_count": 137
        },
        {
          "output_type": "display_data",
          "data": {
            "text/plain": [
              "<Figure size 480x480 with 1 Axes>"
            ],
            "image/png": "[encoded data removed]"
          },
          "metadata": {}
        }
      ]
    },
    {
      "cell_type": "code",
      "source": [
        "np.mean(reverses)"
      ],
      "metadata": {
        "colab": {
          "base_uri": "https://localhost:8080/"
        },
        "id": "3SSqsAH3VRyY",
        "outputId": "ba4a2a46-fb3b-4e89-82f0-54072acd7eaf"
      },
      "execution_count": 138,
      "outputs": [
        {
          "output_type": "execute_result",
          "data": {
            "text/plain": [
              "0.514792899408284"
            ]
          },
          "metadata": {},
          "execution_count": 138
        }
      ]
    },
    {
      "cell_type": "code",
      "source": [
        "from typing_extensions import assert_never\n",
        "def winner(w1, w2, verbose=False):\n",
        "  if len(w1) > len(w2):\n",
        "    return -winner(w2, w1)\n",
        "  while len(w2) > len(w1):\n",
        "    w1 = (w1 + w1)\n",
        "  w1 = w1[:len(w2)]\n",
        "  w1_wins = np.array([row_beats_col[l2i[w1[i]], l2i[w2[i]]] for i in range(len(w2))])\n",
        "  revs = [reverses[l2i[w1[i]], l2i[w2[i]]] for i in range(len(w2))]\n",
        "  w1_first = 0\n",
        "  if np.sum(w1_wins != 0) > 0:\n",
        "    w1_first = w1_wins[w1_wins!=0][0]\n",
        "  rev_sign = 1\n",
        "  if np.sum(revs) % 2 == 1:\n",
        "    rev_sign = -1\n",
        "  w1_score = np.sum(w1_wins)\n",
        "  if verbose:\n",
        "    print({\"w1\":w1, \"w2\":w2, \"w1_wins\":w1_wins, \"revs\":revs, \"w1_first\":w1_first, \"rev_sign\":rev_sign, \"w1_score\":w1_score})\n",
        "  if w1_score != 0:\n",
        "    return rev_sign * np.sign(w1_score)\n",
        "  elif w1_score == 0:\n",
        "    return rev_sign * w1_first\n",
        "  else:\n",
        "    assert_never()"
      ],
      "metadata": {
        "id": "ue6TMCyIVbQi"
      },
      "execution_count": 142,
      "outputs": []
    },
    {
      "cell_type": "code",
      "source": [
        "w1,w2 = rng.choice(lexicon_by_len[2], 2)\n",
        "w1,w2, winner(w1, w2)"
      ],
      "metadata": {
        "colab": {
          "base_uri": "https://localhost:8080/"
        },
        "id": "D8PkOTFtXJQa",
        "outputId": "544113ce-56f0-45c0-d169-cc4e2aeb6491"
      },
      "execution_count": 143,
      "outputs": [
        {
          "output_type": "execute_result",
          "data": {
            "text/plain": [
              "('um', 'js', -1)"
            ]
          },
          "metadata": {},
          "execution_count": 143
        }
      ]
    },
    {
      "cell_type": "code",
      "source": [
        "nsample = 200\n",
        "ws = rng.choice(lexicon_by_len[7], nsample, replace=False)\n",
        "outcomes = np.array([\n",
        "    np.array([winner(w1,w2) for w2 in ws]) for w1 in ws\n",
        "])\n",
        "plt.matshow(outcomes)"
      ],
      "metadata": {
        "colab": {
          "base_uri": "https://localhost:8080/",
          "height": 455
        },
        "id": "4Cqxac8EXONc",
        "outputId": "4ab8d50e-215d-409b-f6be-1b81391943d8"
      },
      "execution_count": 177,
      "outputs": [
        {
          "output_type": "execute_result",
          "data": {
            "text/plain": [
              "<matplotlib.image.AxesImage at 0x7c92bfa05780>"
            ]
          },
          "metadata": {},
          "execution_count": 177
        },
        {
          "output_type": "display_data",
          "data": {
            "text/plain": [
              "<Figure size 480x480 with 1 Axes>"
            ],
            "image/png": "[encoded data removed]"
          },
          "metadata": {}
        }
      ]
    },
    {
      "cell_type": "code",
      "source": [
        "np.nonzero(outcomes + np.eye(len(outcomes)) == 0)"
      ],
      "metadata": {
        "colab": {
          "base_uri": "https://localhost:8080/"
        },
        "id": "DapdrgzBbWkE",
        "outputId": "2d6082fd-c783-4034-a7f4-45860f834d9b"
      },
      "execution_count": 178,
      "outputs": [
        {
          "output_type": "execute_result",
          "data": {
            "text/plain": [
              "(array([], dtype=int64), array([], dtype=int64))"
            ]
          },
          "metadata": {},
          "execution_count": 178
        }
      ]
    },
    {
      "cell_type": "code",
      "source": [
        "winner(ws[0], ws[2], True)"
      ],
      "metadata": {
        "colab": {
          "base_uri": "https://localhost:8080/"
        },
        "id": "e6WTzBx-biFy",
        "outputId": "017799dd-f147-4684-aa8c-fe265f203da2"
      },
      "execution_count": 179,
      "outputs": [
        {
          "output_type": "stream",
          "name": "stdout",
          "text": [
            "{'w1': 'holloed', 'w2': 'mapwise', 'w1_wins': array([-1, -1, -1, -1,  1, -1, -1]), 'revs': [0, 1, 0, 0, 0, 1, 0], 'w1_first': -1, 'rev_sign': 1, 'w1_score': -5}\n"
          ]
        },
        {
          "output_type": "execute_result",
          "data": {
            "text/plain": [
              "-1"
            ]
          },
          "metadata": {},
          "execution_count": 179
        }
      ]
    },
    {
      "cell_type": "code",
      "source": [
        "np.max(np.abs(outcomes + outcomes.T))"
      ],
      "metadata": {
        "colab": {
          "base_uri": "https://localhost:8080/"
        },
        "id": "pdWyY7koYTJV",
        "outputId": "06fe7ec4-5ed3-420f-94c7-685b0d7d2d55"
      },
      "execution_count": 180,
      "outputs": [
        {
          "output_type": "execute_result",
          "data": {
            "text/plain": [
              "0"
            ]
          },
          "metadata": {},
          "execution_count": 180
        }
      ]
    },
    {
      "cell_type": "code",
      "source": [
        "rand_outcomes = rng.random((nsample, nsample))\n",
        "rand_outcomes = np.sign(rand_outcomes - rand_outcomes.T)"
      ],
      "metadata": {
        "id": "UiOEhuiUdMyU"
      },
      "execution_count": 181,
      "outputs": []
    },
    {
      "cell_type": "code",
      "source": [
        "plt.hist(np.mean(rand_outcomes, axis=0), alpha=0.5)\n",
        "plt.hist(np.mean(outcomes, axis=0), alpha=0.5)"
      ],
      "metadata": {
        "colab": {
          "base_uri": "https://localhost:8080/",
          "height": 501
        },
        "id": "iC2ewPMobCh7",
        "outputId": "a80793e9-268f-4fc0-de25-3ca6f47cf863"
      },
      "execution_count": 182,
      "outputs": [
        {
          "output_type": "execute_result",
          "data": {
            "text/plain": [
              "(array([ 2., 10., 16., 32., 34., 33., 50., 12., 10.,  1.]),\n",
              " array([-0.205, -0.165, -0.125, -0.085, -0.045, -0.005,  0.035,  0.075,\n",
              "         0.115,  0.155,  0.195]),\n",
              " <BarContainer object of 10 artists>)"
            ]
          },
          "metadata": {},
          "execution_count": 182
        },
        {
          "output_type": "display_data",
          "data": {
            "text/plain": [
              "<Figure size 640x480 with 1 Axes>"
            ],
            "image/png": "[encoded data removed]"
          },
          "metadata": {}
        }
      ]
    },
    {
      "cell_type": "code",
      "source": [],
      "metadata": {
        "id": "nzG1SXchdsU5"
      },
      "execution_count": null,
      "outputs": []
    }
  ]
}
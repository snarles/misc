{
 "cells": [
  {
   "cell_type": "code",
   "execution_count": 1,
   "metadata": {},
   "outputs": [],
   "source": [
    "import tensorflow as tf\n",
    "from tensorflow.python.framework import ops\n",
    "import numpy as np\n",
    "from matplotlib import pyplot as plt\n",
    "%matplotlib inline"
   ]
  },
  {
   "cell_type": "code",
   "execution_count": 2,
   "metadata": {},
   "outputs": [],
   "source": [
    "from numpy.random import rand, choice\n",
    "npop = 100\n",
    "nsets = 10\n",
    "Cmat = (rand(nsets,npop) > rand(nsets, 1)) + 0.0"
   ]
  },
  {
   "cell_type": "code",
   "execution_count": 7,
   "metadata": {},
   "outputs": [],
   "source": [
    "csizes = np.sum(Cmat, 1)"
   ]
  },
  {
   "cell_type": "code",
   "execution_count": 8,
   "metadata": {},
   "outputs": [
    {
     "data": {
      "text/plain": [
       "(10, 1)"
      ]
     },
     "execution_count": 8,
     "metadata": {},
     "output_type": "execute_result"
    }
   ],
   "source": [
    "nsub = 30\n",
    "csizes_scale = (csizes * nsub/npop)\n",
    "csizes_scale = csizes_scale.reshape((-1, 1))\n",
    "csizes_scale.shape"
   ]
  },
  {
   "cell_type": "code",
   "execution_count": 11,
   "metadata": {},
   "outputs": [],
   "source": [
    "nrestarts = 20\n",
    "ops.reset_default_graph()\n",
    "lam_bin = tf.placeholder(dtype = tf.float32, shape = ())\n",
    "lam_count = tf.placeholder(dtype = tf.float32, shape = ())\n",
    "lam_loss = tf.placeholder(dtype = tf.float32, shape = ())\n",
    "pre_x = tf.get_variable(dtype = tf.float32, shape = (npop, nrestarts), name = 'pre_x',\n",
    "                     initializer = tf.random_normal_initializer(mean = 0.0, stddev = 0.1))\n",
    "x = tf.nn.sigmoid(pre_x * 200)\n",
    "C = tf.constant(Cmat, dtype = tf.float32)\n",
    "cs = tf.constant(csizes_scale, dtype = tf.float32)\n",
    "#pen_bin = tf.reduce_sum((.25 - (.5 - x)**2)**2)\n",
    "pen_bin = tf.reduce_sum(tf.math.minimum(tf.math.abs(x), tf.math.abs(x - 1)))\n",
    "pen_count = tf.reduce_sum((tf.reduce_sum(x, axis=0) - nsub)**2)\n",
    "#pen_count = tf.reduce_sum(tf.math.maximum(0.0, tf.reduce_sum(x, axis=0) - nsub))\n",
    "loss = tf.reduce_sum((tf.matmul(C, x) - cs)**2)\n",
    "#objf = lam_loss * loss + lam_bin * pen_bin + lam_count * pen_count\n",
    "objf = loss + lam_count * pen_count"
   ]
  },
  {
   "cell_type": "code",
   "execution_count": 12,
   "metadata": {},
   "outputs": [],
   "source": [
    "opt = tf.train.AdamOptimizer(learning_rate = 0.001, beta1=0.9, beta2=0.999, epsilon=1e-8)\n",
    "grads = opt.compute_gradients(objf)\n",
    "apply_gradient_op = opt.apply_gradients(grads)"
   ]
  },
  {
   "cell_type": "code",
   "execution_count": 14,
   "metadata": {},
   "outputs": [
    {
     "name": "stdout",
     "output_type": "stream",
     "text": [
      "{'objf': 931524.1, 'loss': 32226.752, 'pen_bin': 57.71227, 'pen_count': 8992.974}\n",
      "{'objf': 440.68448, 'loss': 438.00024, 'pen_bin': 25.398727, 'pen_count': 0.026842382}\n",
      "{'objf': 292.69345, 'loss': 291.5839, 'pen_bin': 28.560104, 'pen_count': 0.011095585}\n",
      "{'objf': 176.63156, 'loss': 175.91963, 'pen_bin': 39.045525, 'pen_count': 0.007119294}\n",
      "{'objf': 111.47235, 'loss': 111.071976, 'pen_bin': 45.58642, 'pen_count': 0.0040037506}\n",
      "{'objf': 90.65506, 'loss': 90.39404, 'pen_bin': 48.260056, 'pen_count': 0.002610201}\n",
      "{'objf': 77.78731, 'loss': 77.58413, 'pen_bin': 51.923115, 'pen_count': 0.0020317694}\n",
      "{'objf': 71.539055, 'loss': 71.33188, 'pen_bin': 53.5129, 'pen_count': 0.0020717606}\n",
      "{'objf': 70.29784, 'loss': 70.01489, 'pen_bin': 54.73498, 'pen_count': 0.0028294655}\n",
      "{'objf': 69.78015, 'loss': 69.29732, 'pen_bin': 55.395676, 'pen_count': 0.004828376}\n",
      "{'objf': 69.27354, 'loss': 69.020744, 'pen_bin': 54.56006, 'pen_count': 0.002527898}\n",
      "{'objf': 69.414795, 'loss': 68.91717, 'pen_bin': 53.76537, 'pen_count': 0.004976291}\n",
      "{'objf': 69.07244, 'loss': 68.87137, 'pen_bin': 53.019283, 'pen_count': 0.0020107268}\n",
      "{'objf': 69.23322, 'loss': 68.893814, 'pen_bin': 51.892193, 'pen_count': 0.0033940922}\n",
      "{'objf': 69.055305, 'loss': 68.82203, 'pen_bin': 50.722885, 'pen_count': 0.0023327467}\n",
      "{'objf': 68.98221, 'loss': 68.78309, 'pen_bin': 49.65093, 'pen_count': 0.001991223}\n",
      "{'objf': 69.12823, 'loss': 68.673294, 'pen_bin': 48.608574, 'pen_count': 0.004549304}\n",
      "{'objf': 69.42725, 'loss': 68.86177, 'pen_bin': 47.638153, 'pen_count': 0.0056548067}\n",
      "{'objf': 68.971664, 'loss': 68.784615, 'pen_bin': 46.866325, 'pen_count': 0.0018705239}\n",
      "{'objf': 68.98257, 'loss': 68.780266, 'pen_bin': 46.334663, 'pen_count': 0.002023036}\n"
     ]
    }
   ],
   "source": [
    "nits = 20000\n",
    "with tf.Session() as sess:\n",
    "    tf.global_variables_initializer().run(session=sess)\n",
    "    for it_no in range(nits):\n",
    "        #lam_bin_v = 100 * np.power(30 + it_no, 0.7)\n",
    "        lam_count_v = 100  #100 * np.power(1 + it_no, 0.5)\n",
    "        #lam_loss_v = 0 # 200/(200 + it_no)\n",
    "        l, o, pb, pc, _ = sess.run([loss, objf, pen_bin, pen_count, apply_gradient_op], \n",
    "                           feed_dict={lam_count:lam_count_v})\n",
    "        if it_no % 1000 == 0:\n",
    "            print({'objf':o, 'loss':l, 'pen_bin': pb, 'pen_count': pc})\n",
    "    x_found = sess.run(x)"
   ]
  },
  {
   "cell_type": "code",
   "execution_count": 15,
   "metadata": {},
   "outputs": [
    {
     "data": {
      "text/plain": [
       "(array([1329.,   22.,   21.,   13.,   19.,   16.,   20.,   11.,   14.,\n",
       "         535.]),\n",
       " array([3.3992851e-28, 1.0000000e-01, 2.0000000e-01, 3.0000001e-01,\n",
       "        4.0000001e-01, 5.0000000e-01, 6.0000002e-01, 6.9999999e-01,\n",
       "        8.0000001e-01, 8.9999998e-01, 1.0000000e+00], dtype=float32),\n",
       " <a list of 10 Patch objects>)"
      ]
     },
     "execution_count": 15,
     "metadata": {},
     "output_type": "execute_result"
    },
    {
     "data": {
      "image/png": "[encoded data removed]",
      "text/plain": [
       "<matplotlib.figure.Figure at 0x133763b70>"
      ]
     },
     "metadata": {},
     "output_type": "display_data"
    }
   ],
   "source": [
    "plt.hist(x_found.ravel())"
   ]
  },
  {
   "cell_type": "code",
   "execution_count": 16,
   "metadata": {},
   "outputs": [],
   "source": [
    "x_round = (x_found > 0.5) + 0.0"
   ]
  },
  {
   "cell_type": "code",
   "execution_count": 17,
   "metadata": {},
   "outputs": [
    {
     "data": {
      "text/plain": [
       "array([30.01101 , 30.00278 , 30.022713, 30.00004 , 29.996262, 30.005054,\n",
       "       29.999863, 29.999834, 29.973593, 29.999826, 30.00569 , 29.994404,\n",
       "       29.993671, 30.029076, 29.999914, 30.003017, 29.993147, 30.005724,\n",
       "       30.004831, 30.000038], dtype=float32)"
      ]
     },
     "execution_count": 17,
     "metadata": {},
     "output_type": "execute_result"
    }
   ],
   "source": [
    "np.sum(x_found, 0)"
   ]
  },
  {
   "cell_type": "code",
   "execution_count": 18,
   "metadata": {},
   "outputs": [
    {
     "data": {
      "text/plain": [
       "array([29., 29., 31., 29., 31., 29., 30., 29., 30., 29., 30., 31., 30.,\n",
       "       30., 29., 30., 30., 30., 30., 30.])"
      ]
     },
     "execution_count": 18,
     "metadata": {},
     "output_type": "execute_result"
    }
   ],
   "source": [
    "np.sum(x_round, 0)"
   ]
  },
  {
   "cell_type": "code",
   "execution_count": 22,
   "metadata": {},
   "outputs": [
    {
     "data": {
      "text/plain": [
       "<matplotlib.image.AxesImage at 0x135dca390>"
      ]
     },
     "execution_count": 22,
     "metadata": {},
     "output_type": "execute_result"
    },
    {
     "data": {
      "image/png": "[encoded data removed]",
      "text/plain": [
       "<matplotlib.figure.Figure at 0x135a84470>"
      ]
     },
     "metadata": {},
     "output_type": "display_data"
    }
   ],
   "source": [
    "plt.matshow(np.concatenate((csizes_scale, np.matmul(Cmat, x_round)), axis=1))"
   ]
  },
  {
   "cell_type": "code",
   "execution_count": null,
   "metadata": {},
   "outputs": [],
   "source": []
  }
 ],
 "metadata": {
  "kernelspec": {
   "display_name": "Python 3",
   "language": "python",
   "name": "python3"
  },
  "language_info": {
   "codemirror_mode": {
    "name": "ipython",
    "version": 3
   },
   "file_extension": ".py",
   "mimetype": "text/x-python",
   "name": "python",
   "nbconvert_exporter": "python",
   "pygments_lexer": "ipython3",
   "version": "3.6.3"
  }
 },
 "nbformat": 4,
 "nbformat_minor": 2
}

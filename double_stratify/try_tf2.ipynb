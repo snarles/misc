{
 "cells": [
  {
   "cell_type": "code",
   "execution_count": 1,
   "metadata": {},
   "outputs": [],
   "source": [
    "import tensorflow as tf\n",
    "from tensorflow.python.framework import ops\n",
    "import numpy as np\n",
    "from matplotlib import pyplot as plt\n",
    "%matplotlib inline"
   ]
  },
  {
   "cell_type": "code",
   "execution_count": 2,
   "metadata": {},
   "outputs": [],
   "source": [
    "from numpy.random import rand, choice\n",
    "npop = 100\n",
    "nsets = 10\n",
    "Cmat = (rand(nsets,npop) > rand(nsets, 1)) + 0.0"
   ]
  },
  {
   "cell_type": "code",
   "execution_count": 7,
   "metadata": {},
   "outputs": [],
   "source": [
    "csizes = np.sum(Cmat, 1)"
   ]
  },
  {
   "cell_type": "code",
   "execution_count": 8,
   "metadata": {},
   "outputs": [
    {
     "data": {
      "text/plain": [
       "(10, 1)"
      ]
     },
     "execution_count": 8,
     "metadata": {},
     "output_type": "execute_result"
    }
   ],
   "source": [
    "nsub = 30\n",
    "csizes_scale = (csizes * nsub/npop)\n",
    "csizes_scale = csizes_scale.reshape((-1, 1))\n",
    "csizes_scale.shape"
   ]
  },
  {
   "cell_type": "code",
   "execution_count": 45,
   "metadata": {},
   "outputs": [],
   "source": [
    "nrestarts = 2000\n",
    "ops.reset_default_graph()\n",
    "lam_bin = tf.placeholder(dtype = tf.float32, shape = ())\n",
    "lam_count = tf.placeholder(dtype = tf.float32, shape = ())\n",
    "lam_loss = tf.placeholder(dtype = tf.float32, shape = ())\n",
    "pre_x = tf.get_variable(dtype = tf.float32, shape = (npop, nrestarts), name = 'pre_x',\n",
    "                     initializer = tf.random_normal_initializer(mean = 0.0, stddev = 0.1))\n",
    "x = tf.nn.sigmoid(pre_x * 200)\n",
    "C = tf.constant(Cmat, dtype = tf.float32)\n",
    "cs = tf.constant(csizes_scale, dtype = tf.float32)\n",
    "#pen_bin = tf.reduce_sum((.25 - (.5 - x)**2)**2)\n",
    "pen_bin = tf.reduce_sum(tf.math.minimum(tf.math.abs(x), tf.math.abs(x - 1)))\n",
    "pen_count = tf.reduce_sum((tf.reduce_sum(x, axis=0) - nsub)**2)\n",
    "#pen_count = tf.reduce_sum(tf.math.maximum(0.0, tf.reduce_sum(x, axis=0) - nsub))\n",
    "loss = tf.reduce_sum((tf.matmul(C, x) - cs)**2)\n",
    "#objf = lam_loss * loss + lam_bin * pen_bin + lam_count * pen_count\n",
    "objf = loss + lam_count * pen_count"
   ]
  },
  {
   "cell_type": "code",
   "execution_count": 46,
   "metadata": {},
   "outputs": [],
   "source": [
    "opt = tf.train.AdamOptimizer(learning_rate = 0.001, beta1=0.9, beta2=0.999, epsilon=1e-8)\n",
    "grads = opt.compute_gradients(objf)\n",
    "apply_gradient_op = opt.apply_gradients(grads)"
   ]
  },
  {
   "cell_type": "code",
   "execution_count": 47,
   "metadata": {},
   "outputs": [
    {
     "name": "stdout",
     "output_type": "stream",
     "text": [
      "{'objf': 89140380.0, 'loss': 3155945.8, 'pen_bin': 5567.518, 'pen_count': 859844.44}\n",
      "{'objf': 49912.445, 'loss': 39265.062, 'pen_bin': 2617.5278, 'pen_count': 106.47385}\n",
      "{'objf': 35237.72, 'loss': 24776.02, 'pen_bin': 3074.8633, 'pen_count': 104.61699}\n",
      "{'objf': 26261.66, 'loss': 15859.875, 'pen_bin': 3613.3745, 'pen_count': 104.01784}\n",
      "{'objf': 20927.527, 'loss': 10539.716, 'pen_bin': 4203.415, 'pen_count': 103.87811}\n",
      "{'objf': 18617.16, 'loss': 8243.685, 'pen_bin': 4703.524, 'pen_count': 103.73474}\n",
      "{'objf': 17746.064, 'loss': 7377.1523, 'pen_bin': 5071.0635, 'pen_count': 103.689125}\n",
      "{'objf': 17410.164, 'loss': 7043.3613, 'pen_bin': 5266.9243, 'pen_count': 103.668015}\n",
      "{'objf': 17282.848, 'loss': 6913.9893, 'pen_bin': 5334.2705, 'pen_count': 103.68858}\n",
      "{'objf': 17234.285, 'loss': 6859.815, 'pen_bin': 5316.8784, 'pen_count': 103.744705}\n",
      "{'objf': 17204.602, 'loss': 6834.5205, 'pen_bin': 5244.208, 'pen_count': 103.700806}\n",
      "{'objf': 17196.777, 'loss': 6823.407, 'pen_bin': 5139.0786, 'pen_count': 103.73369}\n",
      "{'objf': 17183.004, 'loss': 6812.6143, 'pen_bin': 5021.3994, 'pen_count': 103.70389}\n",
      "{'objf': 17178.604, 'loss': 6808.016, 'pen_bin': 4906.417, 'pen_count': 103.70588}\n"
     ]
    }
   ],
   "source": [
    "nits = 14000\n",
    "with tf.Session() as sess:\n",
    "    tf.global_variables_initializer().run(session=sess)\n",
    "    for it_no in range(nits):\n",
    "        #lam_bin_v = 100 * np.power(30 + it_no, 0.7)\n",
    "        lam_count_v = 100  #100 * np.power(1 + it_no, 0.5)\n",
    "        #lam_loss_v = 0 # 200/(200 + it_no)\n",
    "        l, o, pb, pc, _ = sess.run([loss, objf, pen_bin, pen_count, apply_gradient_op], \n",
    "                           feed_dict={lam_count:lam_count_v})\n",
    "        if it_no % 1000 == 0:\n",
    "            print({'objf':o, 'loss':l, 'pen_bin': pb, 'pen_count': pc})\n",
    "    x_found = sess.run(x)"
   ]
  },
  {
   "cell_type": "code",
   "execution_count": 48,
   "metadata": {},
   "outputs": [],
   "source": [
    "x_round = (x_found > 0.5) + 0.0"
   ]
  },
  {
   "cell_type": "code",
   "execution_count": 50,
   "metadata": {},
   "outputs": [],
   "source": [
    "#plt.matshow(np.concatenate((csizes_scale, np.matmul(Cmat, x_round)), axis=1))"
   ]
  },
  {
   "cell_type": "code",
   "execution_count": 52,
   "metadata": {},
   "outputs": [
    {
     "data": {
      "text/plain": [
       "array([1.18, 1.18, 1.18, 1.18, 1.18, 1.18, 1.18, 1.18, 1.18, 1.18])"
      ]
     },
     "execution_count": 52,
     "metadata": {},
     "output_type": "execute_result"
    }
   ],
   "source": [
    "losses = np.sum((np.matmul(Cmat, x_round) - csizes_scale)**2, axis = 0)\n",
    "np.sort(losses[np.sum(x_round, 0) == nsub])[:10]"
   ]
  },
  {
   "cell_type": "code",
   "execution_count": 53,
   "metadata": {},
   "outputs": [],
   "source": [
    "from numpy.random import choice\n",
    "nrestarts = 1000000\n",
    "x0 = np.zeros((npop, nrestarts))\n",
    "for i in range(nrestarts):\n",
    "    x0[choice(npop, nsub, False), i] = 1"
   ]
  },
  {
   "cell_type": "code",
   "execution_count": 54,
   "metadata": {},
   "outputs": [],
   "source": [
    "losses_rand = np.sum((np.matmul(Cmat, x0) - csizes_scale)**2, axis = 0)"
   ]
  },
  {
   "cell_type": "code",
   "execution_count": 55,
   "metadata": {},
   "outputs": [
    {
     "data": {
      "text/plain": [
       "array([  1.38,   1.58,   1.78, ..., 178.98, 179.98, 182.58])"
      ]
     },
     "execution_count": 55,
     "metadata": {},
     "output_type": "execute_result"
    }
   ],
   "source": [
    "np.sort(losses_rand)"
   ]
  },
  {
   "cell_type": "code",
   "execution_count": null,
   "metadata": {},
   "outputs": [],
   "source": []
  }
 ],
 "metadata": {
  "kernelspec": {
   "display_name": "Python 3",
   "language": "python",
   "name": "python3"
  },
  "language_info": {
   "codemirror_mode": {
    "name": "ipython",
    "version": 3
   },
   "file_extension": ".py",
   "mimetype": "text/x-python",
   "name": "python",
   "nbconvert_exporter": "python",
   "pygments_lexer": "ipython3",
   "version": "3.6.3"
  }
 },
 "nbformat": 4,
 "nbformat_minor": 2
}

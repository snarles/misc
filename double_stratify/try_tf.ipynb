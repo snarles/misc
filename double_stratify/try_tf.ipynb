{
 "cells": [
  {
   "cell_type": "code",
   "execution_count": 30,
   "metadata": {},
   "outputs": [],
   "source": [
    "import tensorflow as tf\n",
    "from tensorflow.python.framework import ops\n",
    "import numpy as np\n",
    "from matplotlib import pyplot as plt\n",
    "%matplotlib inline"
   ]
  },
  {
   "cell_type": "code",
   "execution_count": 3,
   "metadata": {},
   "outputs": [],
   "source": [
    "from numpy.random import rand, choice\n",
    "npop = 100\n",
    "nsets = 10\n",
    "Cmat = (rand(nsets,npop) > rand(nsets, 1)) + 0.0"
   ]
  },
  {
   "cell_type": "code",
   "execution_count": 4,
   "metadata": {},
   "outputs": [],
   "source": [
    "csizes = np.sum(Cmat, 1)"
   ]
  },
  {
   "cell_type": "code",
   "execution_count": 24,
   "metadata": {},
   "outputs": [
    {
     "data": {
      "text/plain": [
       "(10, 1)"
      ]
     },
     "execution_count": 24,
     "metadata": {},
     "output_type": "execute_result"
    }
   ],
   "source": [
    "nsub = 30\n",
    "csizes_scale = (csizes * nsub/npop)\n",
    "csizes_scale = csizes_scale.reshape((-1, 1))\n",
    "csizes_scale.shape"
   ]
  },
  {
   "cell_type": "code",
   "execution_count": 113,
   "metadata": {},
   "outputs": [],
   "source": [
    "nrestarts = 20\n",
    "ops.reset_default_graph()\n",
    "lam_bin = tf.placeholder(dtype = tf.float32, shape = ())\n",
    "lam_count = tf.placeholder(dtype = tf.float32, shape = ())\n",
    "lam_loss = tf.placeholder(dtype = tf.float32, shape = ())\n",
    "x = tf.get_variable(dtype = tf.float32, shape = (npop, nrestarts), name = 'x',\n",
    "                     initializer = tf.random_normal_initializer(mean = 0.5, stddev = 0.1))\n",
    "C = tf.constant(Cmat, dtype = tf.float32)\n",
    "cs = tf.constant(csizes_scale, dtype = tf.float32)\n",
    "#pen_bin = tf.reduce_sum((.25 - (.5 - x)**2)**2)\n",
    "pen_bin = tf.reduce_sum(tf.math.minimum(tf.math.abs(x), tf.math.abs(x - 1)))\n",
    "pen_count = tf.reduce_sum((tf.reduce_sum(x**2, axis=0) - nsub)**2)\n",
    "#pen_count = tf.reduce_sum(tf.math.maximum(0.0, tf.reduce_sum(x, axis=0) - nsub))\n",
    "loss = tf.reduce_sum((tf.matmul(C, x) - cs)**2)\n",
    "objf = lam_loss * loss + lam_bin * pen_bin + lam_count * pen_count"
   ]
  },
  {
   "cell_type": "code",
   "execution_count": 114,
   "metadata": {},
   "outputs": [],
   "source": [
    "opt = tf.train.AdamOptimizer(learning_rate = 0.001, beta1=0.9, beta2=0.999, epsilon=1e-8)\n",
    "grads = opt.compute_gradients(objf)\n",
    "apply_gradient_op = opt.apply_gradients(grads)"
   ]
  },
  {
   "cell_type": "code",
   "execution_count": 116,
   "metadata": {},
   "outputs": [
    {
     "name": "stdout",
     "output_type": "stream",
     "text": [
      "{'objf': 946548.0, 'loss': 15726.863, 'pen_bin': 841.78784, 'pen_count': 362.41788}\n",
      "{'objf': 4255623.0, 'loss': 7354.004, 'pen_bin': 321.55045, 'pen_count': 38.848415}\n",
      "{'objf': 6815443.5, 'loss': 7493.035, 'pen_bin': 318.9824, 'pen_count': 49.962105}\n",
      "{'objf': 8997110.0, 'loss': 7585.802, 'pen_bin': 317.27878, 'pen_count': 58.137592}\n",
      "{'objf': 10962679.0, 'loss': 7657.548, 'pen_bin': 315.9734, 'pen_count': 64.81346}\n",
      "{'objf': 12781298.0, 'loss': 7716.0723, 'pen_bin': 314.90958, 'pen_count': 70.547}\n",
      "{'objf': 14490372.0, 'loss': 7765.498, 'pen_bin': 314.0076, 'pen_count': 75.60095}\n",
      "{'objf': 16113143.0, 'loss': 7810.037, 'pen_bin': 313.20346, 'pen_count': 80.24637}\n",
      "{'objf': 17665622.0, 'loss': 7849.623, 'pen_bin': 312.49542, 'pen_count': 84.47178}\n",
      "{'objf': 19159066.0, 'loss': 7884.205, 'pen_bin': 311.8719, 'pen_count': 88.29732}\n",
      "{'objf': 20601646.0, 'loss': 7916.8335, 'pen_bin': 311.29227, 'pen_count': 91.91574}\n",
      "{'objf': 21999814.0, 'loss': 7946.981, 'pen_bin': 310.75476, 'pen_count': 95.31781}\n",
      "{'objf': 23359498.0, 'loss': 7974.741, 'pen_bin': 310.25577, 'pen_count': 98.58411}\n",
      "{'objf': 24683892.0, 'loss': 8000.8057, 'pen_bin': 309.7956, 'pen_count': 101.605835}\n",
      "{'objf': 25977148.0, 'loss': 8024.8813, 'pen_bin': 309.37012, 'pen_count': 104.46273}\n",
      "{'objf': 27241932.0, 'loss': 8049.315, 'pen_bin': 308.9323, 'pen_count': 107.4461}\n",
      "{'objf': 28480444.0, 'loss': 8071.0713, 'pen_bin': 308.54926, 'pen_count': 110.07382}\n",
      "{'objf': 29694998.0, 'loss': 8092.3364, 'pen_bin': 308.17096, 'pen_count': 112.700455}\n",
      "{'objf': 30887926.0, 'loss': 8112.347, 'pen_bin': 307.81595, 'pen_count': 115.23125}\n",
      "{'objf': 32060152.0, 'loss': 8131.1855, 'pen_bin': 307.48758, 'pen_count': 117.58539}\n"
     ]
    }
   ],
   "source": [
    "nits = 20000\n",
    "with tf.Session() as sess:\n",
    "    tf.global_variables_initializer().run(session=sess)\n",
    "    for it_no in range(nits):\n",
    "        lam_bin_v = 100 * np.power(30 + it_no, 0.7)\n",
    "        lam_count_v = 100 * np.power(1 + it_no, 0.5)\n",
    "        lam_loss_v = 0 # 200/(200 + it_no)\n",
    "        l, o, pb, pc, _ = sess.run([loss, objf, pen_bin, pen_count, apply_gradient_op], \n",
    "                           feed_dict={lam_bin:lam_bin_v, lam_count:lam_count_v, lam_loss:lam_loss_v})\n",
    "        if it_no % 1000 == 0:\n",
    "            print({'objf':o, 'loss':l, 'pen_bin': pb, 'pen_count': pc})\n",
    "    x_found = sess.run(x)"
   ]
  },
  {
   "cell_type": "code",
   "execution_count": 109,
   "metadata": {},
   "outputs": [],
   "source": [
    "x_round = (x_found > 0.5) + 0.0"
   ]
  },
  {
   "cell_type": "code",
   "execution_count": 117,
   "metadata": {},
   "outputs": [
    {
     "data": {
      "text/plain": [
       "array([42.585194, 43.36702 , 44.12913 , 42.978504, 43.368404, 47.09666 ,\n",
       "       43.36767 , 43.754204, 42.58819 , 43.75285 , 41.788525, 44.138966,\n",
       "       42.98011 , 42.979416, 45.63634 , 44.138416, 43.367188, 44.135437,\n",
       "       44.892277, 44.892708], dtype=float32)"
      ]
     },
     "execution_count": 117,
     "metadata": {},
     "output_type": "execute_result"
    }
   ],
   "source": [
    "np.sum(x_found, 0)"
   ]
  },
  {
   "cell_type": "code",
   "execution_count": 111,
   "metadata": {},
   "outputs": [
    {
     "data": {
      "text/plain": [
       "array([61., 61., 64., 60., 63., 62., 57., 61., 54., 57., 63., 50., 57.,\n",
       "       60., 49., 60., 61., 55., 56., 59.])"
      ]
     },
     "execution_count": 111,
     "metadata": {},
     "output_type": "execute_result"
    }
   ],
   "source": [
    "np.sum(x_round, 0)"
   ]
  },
  {
   "cell_type": "code",
   "execution_count": null,
   "metadata": {},
   "outputs": [],
   "source": []
  },
  {
   "cell_type": "code",
   "execution_count": null,
   "metadata": {},
   "outputs": [],
   "source": []
  }
 ],
 "metadata": {
  "kernelspec": {
   "display_name": "Python 3",
   "language": "python",
   "name": "python3"
  },
  "language_info": {
   "codemirror_mode": {
    "name": "ipython",
    "version": 3
   },
   "file_extension": ".py",
   "mimetype": "text/x-python",
   "name": "python",
   "nbconvert_exporter": "python",
   "pygments_lexer": "ipython3",
   "version": "3.7.0"
  }
 },
 "nbformat": 4,
 "nbformat_minor": 2
}

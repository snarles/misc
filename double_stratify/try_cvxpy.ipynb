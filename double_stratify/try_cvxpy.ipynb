{
 "cells": [
  {
   "cell_type": "code",
   "execution_count": 1,
   "metadata": {},
   "outputs": [],
   "source": [
    "import cvxpy as cp\n",
    "import numpy as np"
   ]
  },
  {
   "cell_type": "code",
   "execution_count": 4,
   "metadata": {},
   "outputs": [
    {
     "data": {
      "text/plain": [
       "array([5, 9, 1, 6, 2, 3, 2, 6, 0, 5, 3, 0, 8, 0, 1, 9, 6, 9, 2, 3])"
      ]
     },
     "execution_count": 4,
     "metadata": {},
     "output_type": "execute_result"
    }
   ],
   "source": [
    "from numpy.random import randint, rand\n",
    "clusters = randint(0, 10, 20)\n",
    "clusters"
   ]
  },
  {
   "cell_type": "code",
   "execution_count": 33,
   "metadata": {},
   "outputs": [],
   "source": [
    "npop = 100\n",
    "nsets = 10\n",
    "Cmat = (rand(nsets,npop) > rand(nsets, 1)) + 0.0"
   ]
  },
  {
   "cell_type": "code",
   "execution_count": 34,
   "metadata": {},
   "outputs": [],
   "source": [
    "csizes = np.sum(Cmat, 1)"
   ]
  },
  {
   "cell_type": "code",
   "execution_count": 35,
   "metadata": {},
   "outputs": [
    {
     "data": {
      "text/plain": [
       "array([34., 26., 57., 90., 68., 19., 43., 80., 31., 83.])"
      ]
     },
     "execution_count": 35,
     "metadata": {},
     "output_type": "execute_result"
    }
   ],
   "source": [
    "csizes"
   ]
  },
  {
   "cell_type": "code",
   "execution_count": 73,
   "metadata": {},
   "outputs": [],
   "source": [
    "nsub = 30\n",
    "csizes_scale = csizes * nsub/npop\n",
    "x = cp.Variable(npop, boolean=True)\n",
    "delt = cp.Variable(1, integer=True)"
   ]
  },
  {
   "cell_type": "code",
   "execution_count": 74,
   "metadata": {},
   "outputs": [
    {
     "data": {
      "text/plain": [
       "array([10.2,  7.8, 17.1, 27. , 20.4,  5.7, 12.9, 24. ,  9.3, 24.9])"
      ]
     },
     "execution_count": 74,
     "metadata": {},
     "output_type": "execute_result"
    }
   ],
   "source": [
    "csizes_scale"
   ]
  },
  {
   "cell_type": "code",
   "execution_count": 75,
   "metadata": {},
   "outputs": [],
   "source": [
    "constr_d_pos = (delt >= 0)\n",
    "constr_x_sum = (sum(x) <= nsub)\n",
    "constr_r_1 = (Cmat * x + delt >= csizes_scale)\n",
    "constr_r_2 = (Cmat * x - delt <= csizes_scale)\n",
    "objective = cp.Minimize(delt)\n",
    "prob = cp.Problem(objective, [constr_x_sum])"
   ]
  },
  {
   "cell_type": "code",
   "execution_count": 76,
   "metadata": {},
   "outputs": [
    {
     "data": {
      "text/plain": [
       "1.3557680706848647e-11"
      ]
     },
     "execution_count": 76,
     "metadata": {},
     "output_type": "execute_result"
    }
   ],
   "source": [
    "prob.solve(solver=cp.ECOS_BB)"
   ]
  },
  {
   "cell_type": "code",
   "execution_count": 77,
   "metadata": {},
   "outputs": [
    {
     "name": "stdout",
     "output_type": "stream",
     "text": [
      "status: optimal\n",
      "optimal value 1.3557680706848647e-11\n",
      "optimal var [8.97076769e-13 8.97076769e-13 8.97076769e-13 8.97076769e-13\n",
      " 8.97076769e-13 8.97076769e-13 8.97076769e-13 8.97076769e-13\n",
      " 8.97076769e-13 8.97076769e-13 8.97076769e-13 8.97076769e-13\n",
      " 8.97076769e-13 8.97076769e-13 8.97076769e-13 8.97076769e-13\n",
      " 8.97076769e-13 8.97076769e-13 8.97076769e-13 8.97076769e-13\n",
      " 8.97076769e-13 8.97076769e-13 8.97076769e-13 8.97076769e-13\n",
      " 8.97076769e-13 8.97076769e-13 8.97076769e-13 8.97076769e-13\n",
      " 8.97076769e-13 8.97076769e-13 8.97076769e-13 8.97076769e-13\n",
      " 8.97076769e-13 8.97076769e-13 8.97076769e-13 8.97076769e-13\n",
      " 8.97076769e-13 8.97076769e-13 8.97076769e-13 8.97076769e-13\n",
      " 8.97076769e-13 8.97076769e-13 8.97076769e-13 8.97076769e-13\n",
      " 8.97076769e-13 8.97076769e-13 8.97076769e-13 8.97076769e-13\n",
      " 8.97076769e-13 8.97076769e-13 8.97076769e-13 8.97076769e-13\n",
      " 8.97076769e-13 8.97076769e-13 8.97076769e-13 8.97076769e-13\n",
      " 8.97076769e-13 8.97076769e-13 8.97076769e-13 8.97076769e-13\n",
      " 8.97076769e-13 8.97076769e-13 8.97076769e-13 8.97076769e-13\n",
      " 8.97076769e-13 8.97076769e-13 8.97076769e-13 8.97076769e-13\n",
      " 8.97076769e-13 8.97076769e-13 8.97076769e-13 8.97076769e-13\n",
      " 8.97076769e-13 8.97076769e-13 8.97076769e-13 8.97076769e-13\n",
      " 8.97076769e-13 8.97076769e-13 8.97076769e-13 8.97076769e-13\n",
      " 8.97076769e-13 8.97076769e-13 8.97076769e-13 8.97076769e-13\n",
      " 8.97076769e-13 8.97076769e-13 8.97076769e-13 8.97076769e-13\n",
      " 8.97076769e-13 8.97076769e-13 8.97076769e-13 8.97076769e-13\n",
      " 8.97076769e-13 8.97076769e-13 8.97076769e-13 8.97076769e-13\n",
      " 8.97076769e-13 8.97076769e-13 5.65221951e-01 8.97076769e-13] [1.35576807e-11]\n"
     ]
    }
   ],
   "source": [
    "print(\"status:\", prob.status)\n",
    "print(\"optimal value\", prob.value)\n",
    "print(\"optimal var\", x.value, delt.value)"
   ]
  },
  {
   "cell_type": "code",
   "execution_count": null,
   "metadata": {},
   "outputs": [],
   "source": []
  }
 ],
 "metadata": {
  "kernelspec": {
   "display_name": "Python 3",
   "language": "python",
   "name": "python3"
  },
  "language_info": {
   "codemirror_mode": {
    "name": "ipython",
    "version": 3
   },
   "file_extension": ".py",
   "mimetype": "text/x-python",
   "name": "python",
   "nbconvert_exporter": "python",
   "pygments_lexer": "ipython3",
   "version": "3.7.0"
  }
 },
 "nbformat": 4,
 "nbformat_minor": 2
}

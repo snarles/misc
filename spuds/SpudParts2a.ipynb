{
 "cells": [
  {
   "cell_type": "code",
   "execution_count": 1,
   "id": "44215ca2",
   "metadata": {},
   "outputs": [],
   "source": [
    "using Serialization"
   ]
  },
  {
   "cell_type": "code",
   "execution_count": 2,
   "id": "973b1d93",
   "metadata": {},
   "outputs": [],
   "source": [
    "using Random\n",
    "using DataFrames\n",
    "using CSV\n",
    "using DelimitedFiles\n",
    "using Statistics\n",
    "using Printf\n",
    "using LinearAlgebra\n",
    "using Dates\n",
    "using MAT\n",
    "\n",
    "struct Spud\n",
    "    name::String\n",
    "    h::Int64\n",
    "    f::Int64\n",
    "    l::Int64\n",
    "    p::Int64\n",
    "    r::Int64\n",
    "    s::Int64\n",
    "    a1::Int64\n",
    "    cost::Int64\n",
    "end\n",
    "\n",
    "const ability_none = 999\n",
    "const ability_imitative = 10\n",
    "const ability_reciprocating = 20\n",
    "const ability_romantic = 30\n",
    "const ability_bibliophile = 40\n",
    "const ability_melodious = 50\n",
    "const ability_iconoclast = 90\n",
    "const ability_intoxicating = 100\n",
    "const ability_otaku = 110\n",
    "const ability_sincere = 120\n",
    "const ability_cowardly = 130\n",
    "\n",
    "\n",
    "ability_name = Dict(\n",
    "    ability_imitative => \"Imitative*\",\n",
    "    ability_reciprocating => \"Reciprocating*\",\n",
    "    ability_romantic => \"Romantic*\",\n",
    "    ability_bibliophile => \"Bibliophile*\",\n",
    "    ability_melodious => \"Melodious*\",\n",
    "    ability_iconoclast => \"Iconoclast*\",\n",
    "    ability_intoxicating => \"Intoxicating*\",\n",
    "    ability_otaku => \"Otaku*\",\n",
    "    ability_sincere => \"Sincere*\",\n",
    "    ability_cowardly => \"Cowardly*\",\n",
    ")\n",
    "\n",
    "function fx_imitative(a::Spud, b::Spud)\n",
    "    if b.h > a.h\n",
    "        a = Spud(a.name, b.h, a.f, a.l, a.p, a.r, a.s, a.a1)\n",
    "    end\n",
    "    return [a, b]\n",
    "end\n",
    "\n",
    "function fx_reciprocating(a::Spud, b::Spud)\n",
    "    if b.f > a.f\n",
    "        a = Spud(a.name, a.h, b.f, a.l, a.p, a.r, a.s, a.a1)\n",
    "    end\n",
    "    return [a, b]\n",
    "end\n",
    "\n",
    "function fx_romantic(a::Spud, b::Spud)\n",
    "    if b.p > a.l\n",
    "        a = Spud(a.name, a.h, a.f, b.p, a.p, a.r, a.s, a.a1)\n",
    "    end\n",
    "    return [a, b]\n",
    "end\n",
    "\n",
    "function fx_bibliophile(a::Spud, b::Spud)\n",
    "    if b.r > a.l\n",
    "        a = Spud(a.name, a.h, a.f, b.r, a.p, a.r, a.s, a.a1)\n",
    "    end\n",
    "    return [a, b]\n",
    "end\n",
    "\n",
    "function fx_melodious(a::Spud, b::Spud)\n",
    "    if b.p > b.r && b.p > b.s\n",
    "        a = Spud(a.name, a.h, a.f, a.r, a.p + 3, a.r, a.s, a.a1)\n",
    "    end\n",
    "    return [a, b]\n",
    "end\n",
    "\n",
    "function fx_iconoclast(a::Spud, b::Spud)\n",
    "    v = sum([b.h,b.f,b.l,b.p,b.r,b.s] .== MXV)\n",
    "    if v >= 3\n",
    "        aa = [a.h, a.f, a.l, a.p, a.r, a.s]\n",
    "        aa2 = map(x -> div(x, 4), aa)\n",
    "        r = aa .+ aa2\n",
    "        a = Spud(a.name, r[1], r[2], r[3], r[4], r[5], r[6], a.a1)\n",
    "    end\n",
    "    return [a, b]\n",
    "end\n",
    "\n",
    "function fx_intoxicating(a::Spud, b::Spud)\n",
    "    b = Spud(b.name, b.h, b.f, b.l, b.p, b.r, b.f, b.a1)\n",
    "    return [a, b]\n",
    "end\n",
    "\n",
    "function fx_otaku(a::Spud, b::Spud)\n",
    "    b = Spud(b.name, b.h, b.f, b.l, b.p, b.h, b.s, b.a1)\n",
    "    return [a, b]\n",
    "end\n",
    "\n",
    "\n",
    "function fx_sincere(a::Spud, b::Spud)\n",
    "    b = Spud(b.name, b.h, b.f + 2, b.f + 2, b.p, b.r, b.s, b.a1)\n",
    "    return [a, b]\n",
    "end\n",
    "\n",
    "function fx_cowardly(a::Spud, b::Spud)\n",
    "    if (a.p < b.p) || (a.r < b.r) || (a.s < b.s)\n",
    "        a = Spud(a.name, a.h + 2, a.f - 2, a.l, a.p, a.r, a.s, a.a1)\n",
    "    end\n",
    "    return [a, b]\n",
    "end\n",
    "\n",
    "ability_fx = Dict(\n",
    "    ability_imitative => fx_imitative,\n",
    "    ability_reciprocating => fx_reciprocating,\n",
    "    ability_romantic => fx_romantic,\n",
    "    ability_bibliophile => fx_bibliophile,\n",
    "    ability_melodious => fx_melodious,\n",
    "    ability_iconoclast => fx_iconoclast,\n",
    "    ability_intoxicating => fx_intoxicating,\n",
    "    ability_otaku => fx_otaku,\n",
    "    ability_sincere => fx_sincere,\n",
    "    ability_cowardly => fx_cowardly,\n",
    ")\n",
    "\n",
    "const MXS = 100\n",
    "const MXV = 9\n",
    "const MNV = 1\n",
    "\n",
    "# function cost(h::Int64, f::Int64, l::Int64, p::Int64, r::Int64, s::Int64)::Int64\n",
    "#     #return h*(f+l-2*MNV) + f*(p+r+s-3*MNV) + h+f+l+p+r+s-6*MNV\n",
    "#     return h*(f+l) + f*(p+r+s)\n",
    "# end\n",
    "\n",
    "# function cost(a::Spud)::Int64\n",
    "#     if a.a1 == ability_none\n",
    "#         return cost(a.h, a.f, a.l, a.p, a.r, a.s)\n",
    "#     else\n",
    "#         return cost(a.h, a.f, a.l, a.p, a.r, a.s) + ability_cost[a.a1](a)\n",
    "#     end\n",
    "# end\n",
    "\n",
    "function compare_int_list(as::Vector{Int64}, bs::Vector{Int64}, tiebreaker::Int64 = 0)::Int64\n",
    "    n = min(length(as), length(bs))\n",
    "    for i in 1:n\n",
    "        if as[i] != bs[i]\n",
    "            return sign(as[i] - bs[i])\n",
    "        end\n",
    "    end\n",
    "    return tiebreaker\n",
    "end\n",
    "\n",
    "function spud_h_seq(a::Spud)::Vector{Int64}\n",
    "    return [a.h, a.s, a.r, a.p, a.l, a.f]\n",
    "end\n",
    "\n",
    "function spud_f_seq(a::Spud)::Vector{Int64}\n",
    "    return [a.f, a.s, a.r, a.p, a.l, a.h]\n",
    "end\n",
    "\n",
    "function spud_l_seq(a::Spud)::Vector{Int64}\n",
    "    return [a.l]\n",
    "end\n",
    "\n",
    "function spud_p_seq(a::Spud)::Vector{Int64}\n",
    "    return [a.p, a.l]\n",
    "end\n",
    "\n",
    "function spud_r_seq(a::Spud)::Vector{Int64}\n",
    "    return [a.r, a.f]\n",
    "end\n",
    "\n",
    "function spud_s_seq(a::Spud)::Vector{Int64}\n",
    "    return [a.s, a.h]\n",
    "end\n",
    "\n",
    "function spud_utb_seq(a::Spud)::Vector{Int64}\n",
    "    return [a.a1, a.h, a.f, a.l, a.p, a.r, a.s]\n",
    "end\n",
    "\n",
    "function eval_finds(a::Spud, b::Spud, tiebreaker::Int64 = 0)::Int64\n",
    "    ev = compare_int_list(spud_f_seq(a), spud_h_seq(b), tiebreaker)\n",
    "    ans = ev\n",
    "end\n",
    "\n",
    "function eval_melee(a::Spud, b::Spud, tiebreaker1::Int64 = 0, tiebreaker2::Int64 = 0)::Int64\n",
    "    comp_p = compare_int_list(spud_p_seq(a), spud_p_seq(b), tiebreaker1)\n",
    "    comp_r = compare_int_list(spud_r_seq(a), spud_r_seq(b), tiebreaker1)\n",
    "    comp_s = compare_int_list(spud_s_seq(a), spud_s_seq(b), tiebreaker1)\n",
    "    ev = 4 * comp_p + 3 * comp_r + 2 * comp_s\n",
    "    return sign(ev + (1-abs(ev))*tiebreaker2)\n",
    "end\n",
    "\n",
    "\n",
    "\n",
    "\n",
    "\n",
    "function apply_ability(a::Spud, b::Spud)::Array{Spud}\n",
    "    if a.a1 == ability_none\n",
    "        return [a, b]\n",
    "    else\n",
    "        return ability_fx[a.a1](a, b)\n",
    "    end\n",
    "end\n",
    "\n",
    "\n",
    "function eval_battle(a::Spud, b::Spud)::Int64\n",
    "    utb = compare_int_list(spud_utb_seq(a), spud_utb_seq(b), 0) # universal tiebreaker\n",
    "    if utb == 0\n",
    "        return 0\n",
    "    end\n",
    "    a_ability_first = compare_int_list([a.a1, a.s], [b.a1, b.s], utb)\n",
    "    if a_ability_first ==1\n",
    "        if a.a1 != ability_none\n",
    "            res = apply_ability(a, b)\n",
    "            a = res[1]\n",
    "            b = res[2]\n",
    "        end\n",
    "        if b.a1 != ability_none\n",
    "            res = apply_ability(b, a)\n",
    "            b = res[1]\n",
    "            a = res[2]\n",
    "        end\n",
    "    end\n",
    "    if a_ability_first == -1\n",
    "        if b.a1 != ability_none\n",
    "            res = apply_ability(b, a)\n",
    "            b = res[1]\n",
    "            a = res[2]\n",
    "        end\n",
    "        if a.a1 != ability_none\n",
    "            res = apply_ability(a, b)\n",
    "            a = res[1]\n",
    "            b = res[2]\n",
    "        end\n",
    "    end\n",
    "    #println(a)\n",
    "    #println(b)\n",
    "    a_finds = eval_finds(a, b, utb)==1\n",
    "    b_finds = eval_finds(b, a, utb)==1\n",
    "    melee_win = eval_melee(a, b, 0, utb)\n",
    "    if a_finds && b_finds\n",
    "        return melee_win\n",
    "    end\n",
    "    if a_finds && !b_finds\n",
    "        return 1\n",
    "    end\n",
    "    if !a_finds && b_finds\n",
    "        return -1\n",
    "    end\n",
    "    if !a_finds && !b_finds\n",
    "        return compare_int_list([a.l, melee_win], [b.l, -melee_win], 0)\n",
    "    end\n",
    "end\n",
    "\n",
    "function eval_battle_list(a::Spud, bs::Array{Spud})::Int\n",
    "    score = 0\n",
    "    for ii in 1:length(bs)\n",
    "        score = score + eval_battle(a, bs[ii])\n",
    "    end\n",
    "    return score\n",
    "end\n",
    "\n",
    "function eval_battle_list2(a::Spud, bs::Array{Spud}, w::Vector{Float64})::AbstractFloat\n",
    "    score = 0.0\n",
    "    for ii in 1:length(bs)\n",
    "        score = score + w[ii] * eval_battle(a, bs[ii])\n",
    "    end\n",
    "    return score\n",
    "end\n",
    "\n",
    "function spuds_to_df(as::Array{Spud})::DataFrame\n",
    "    names = Array{String}(undef, length(as))\n",
    "    hs = Array{Int}(undef, length(as))\n",
    "    fs = Array{Int}(undef, length(as))\n",
    "    ls = Array{Int}(undef, length(as))\n",
    "    ps = Array{Int}(undef, length(as))\n",
    "    rs = Array{Int}(undef, length(as))\n",
    "    ss = Array{Int}(undef, length(as))\n",
    "    a1s = Array{Int}(undef, length(as))\n",
    "    cs = Array{Int}(undef, length(as))\n",
    "    for ii in 1:length(as)\n",
    "        names[ii] = as[ii].name\n",
    "        hs[ii] = as[ii].h\n",
    "        fs[ii] = as[ii].f\n",
    "        ls[ii] = as[ii].l\n",
    "        ps[ii] = as[ii].p\n",
    "        rs[ii] = as[ii].r\n",
    "        ss[ii] = as[ii].s\n",
    "        a1s[ii] = as[ii].a1\n",
    "        cs[ii] = as[ii].cost\n",
    "    end\n",
    "    df = DataFrame(name = names, h = hs, f = fs, l = ls, p = ps, r = rs, s = ss, a1 = a1s, cost = cs)\n",
    "    return df\n",
    "end\n",
    "\n",
    "function fpart(x::AbstractFloat)::AbstractFloat\n",
    "  return x - trunc(x)\n",
    "end\n",
    "\n",
    "# for legacy dfs without abilities\n",
    "function df_to_spuds0(df::DataFrame)::Array{Spud}\n",
    "    n = size(df)[1]\n",
    "    as = Array{Spud}(undef, n)\n",
    "    for i in 1:n\n",
    "        as[i] = Spud(df[i, :name], df[i, :h], df[i, :f], df[i, :l], df[i, :p], df[i, :r], df[i, :s], ability_none, -1)\n",
    "    end\n",
    "    return as\n",
    "end\n",
    "\n",
    "function df_to_spuds(df::DataFrame)::Array{Spud}\n",
    "    n = size(df)[1]\n",
    "    as = Array{Spud}(undef, n)\n",
    "    for i in 1:n\n",
    "        as[i] = Spud(df[i, :name], df[i, :h], df[i, :f], df[i, :l], df[i, :p], df[i, :r], df[i, :s], df[i, :a1], df[i, :cost])\n",
    "    end\n",
    "    return as\n",
    "end\n",
    "\n",
    "\n",
    "\n",
    "struct NashEquilibrium2p\n",
    "    w1::Array{Float64}\n",
    "    w2::Array{Float64}\n",
    "    v::Float64\n",
    "end\n",
    "\n",
    "\n",
    "function payoffs2(set1::Array{Spud}, set2::Array{Spud})::Array{Int64}\n",
    "    n1 = length(set1)\n",
    "    n2 = length(set2)\n",
    "    payoffs = Array{Int64}(undef, (n1, n2))\n",
    "    for i in 1:n1\n",
    "        for j in 1:n2\n",
    "            payoffs[i,j] = eval_battle(set1[i], set2[j])\n",
    "        end\n",
    "    end\n",
    "    return payoffs\n",
    "end\n",
    "\n",
    "function ffp2(set1::Array{Spud}, set2::Array{Spud}, nits::Int64)::NashEquilibrium2p\n",
    "    n1 = length(set1)\n",
    "    n2 = length(set2)\n",
    "    payoffs = payoffs2(set1, set2)\n",
    "    v1 = [1 for i in 1:n1]\n",
    "    v2 = [1 for i in 1:n2]\n",
    "    s1 = [sum(payoffs[i, :] .* v2) for i in 1:n1]\n",
    "    s2 = [sum(payoffs[:, i] .* v1) for i in 1:n2]\n",
    "    for it in 1:nits\n",
    "        cands1 = findall(s1 .== maximum(s1))\n",
    "        i1 = rand(cands1)\n",
    "        cands2 = findall(s2 .== minimum(s2))\n",
    "        i2 = rand(cands2)\n",
    "        v1[i1] += 1\n",
    "        s2 = s2 .+ payoffs[i1, :]\n",
    "        v2[i2] += 1\n",
    "        s1 = s1 .+ payoffs[:, i2]\n",
    "    end\n",
    "    w1 = v1./sum(v1)\n",
    "    w2 = v2./sum(v2)\n",
    "    val = sum([payoffs[i, j] * w1[i] * w2[j] for i in 1:n1 for j in 1:n2])\n",
    "    return NashEquilibrium2p(w1, w2, val)\n",
    "end\n",
    "\n",
    "function ffp(nash_env, nits)\n",
    "    n_nash = length(nash_env)\n",
    "    i_lose = Array{Int}(undef, (n_nash, n_nash))\n",
    "    n_lose = Array{Int}(undef, n_nash)\n",
    "    for i in 1:n_nash\n",
    "        n_lose[i] = 0\n",
    "        ff = nash_env[i]\n",
    "        for j in 1:n_nash\n",
    "            if eval_battle(ff, nash_env[j]) ==-1\n",
    "                n_lose[i] += 1\n",
    "                i_lose[i, n_lose[i]] = j\n",
    "            end\n",
    "        end\n",
    "    end\n",
    "    counts = [0 for i in 1:n_nash]\n",
    "    wins = [0 for i in 1:n_nash]\n",
    "    for i in 1:n_nash\n",
    "        counts[i] += 1\n",
    "        for j in 1:n_lose[i]\n",
    "            i_w = i_lose[i, j]\n",
    "            wins[i_w]+= 1\n",
    "        end\n",
    "    end\n",
    "    for iter in 1:nits\n",
    "        wc = 2 .* wins .+ counts\n",
    "        ind_winners = findall(wc .== maximum(wc))\n",
    "        i = rand(ind_winners)\n",
    "        counts[i] += 1\n",
    "        for j in 1:n_lose[i]\n",
    "            i_w = i_lose[i, j]\n",
    "            wins[i_w]+= 1\n",
    "        end\n",
    "    end\n",
    "    return counts\n",
    "end\n",
    "\n",
    "mutable struct BattleView\n",
    "    round::Int64\n",
    "    own::Array{Spud}\n",
    "    owncount::Array{Int64}\n",
    "    deployed::Array{Bool}\n",
    "    obs::Array{Spud}\n",
    "    obscount::Array{Int64}\n",
    "end\n",
    "\n",
    "mutable struct AiPlayer\n",
    "    genteam::Function\n",
    "    pick::Function\n",
    "    create::Function\n",
    "end\n",
    "\n",
    "n_copy = 3\n",
    "\n",
    "function initialize_game(team1::Array{Spud}, team2::Array{Spud})::Array{BattleView}\n",
    "    teams = [team1, team2]\n",
    "    bvs = Array{BattleView}(undef, 0)\n",
    "    for team in teams\n",
    "        bv = BattleView(0, team, [n_copy for i in 1:length(team)], [false for i in 1:length(team)], [], [])\n",
    "        append!(bvs, [bv])\n",
    "    end\n",
    "    return bvs\n",
    "end\n",
    "\n",
    "function observe_fighters(game::Array{BattleView}, choices::Array{Int64})::Array{BattleView}\n",
    "    for i in 1:2\n",
    "        j = 3- i\n",
    "        if choices[i] != 0\n",
    "            game[i].deployed[choices[i]] = true\n",
    "            ff = game[i].own[choices[i]]\n",
    "            if ff in game[j].obs\n",
    "                0\n",
    "            else\n",
    "                game[j].obs = append!(game[j].obs, [ff])\n",
    "                game[j].obscount = append!(game[j].obscount, [game[i].owncount[choices[i]]])\n",
    "            end\n",
    "        end\n",
    "    end\n",
    "    return game\n",
    "end\n",
    "\n",
    "function jobify_fighter_counts(game::Array{BattleView}, choices::Array{Int64}, job::Array{Int64})::Array{BattleView}\n",
    "    for i in 1:2\n",
    "        j = 3- i\n",
    "        if choices[i] != 0\n",
    "            game[i].owncount[choices[i]] = game[i].owncount[choices[i]] + job[i]\n",
    "            ff = game[i].own[choices[i]]\n",
    "            if ff in game[j].obs\n",
    "                ind = findall(x -> x==ff, game[j].obs)[1]\n",
    "                game[j].obscount[ind] = game[i].owncount[choices[i]]\n",
    "            else\n",
    "                0\n",
    "            end\n",
    "        end\n",
    "    end\n",
    "    return game\n",
    "end\n",
    "\n",
    "function play_combat(game::Array{BattleView}, choices::Array{Int64}, verbose::Bool = false)::Array{BattleView}\n",
    "    round = game[1].round + 1\n",
    "    fighters = [game[i].own[choices[i]] for i in 1:2]\n",
    "    for i in 1:2\n",
    "        @assert game[i].owncount[choices[i]] >= 0\n",
    "    end\n",
    "    if verbose\n",
    "        print(\"Round \")\n",
    "        print(round)\n",
    "        print(\": #A\")\n",
    "        print(choices[1])\n",
    "        print(\" \")\n",
    "        print(fighters[1])\n",
    "        print(\" vs #B\")\n",
    "        print(choices[2])\n",
    "        print(\" \")\n",
    "        println(fighters[2])\n",
    "    end\n",
    "    outcome = eval_battle(fighters[1], fighters[2])\n",
    "    if verbose\n",
    "        if outcome == 0\n",
    "            println(\"Tied!\")\n",
    "        else\n",
    "            if outcome == 1\n",
    "                print(fighters[1])\n",
    "            end\n",
    "            if outcome == -1\n",
    "                print(fighters[2])\n",
    "            end\n",
    "            println(\" wins!\")\n",
    "        end\n",
    "    end\n",
    "    game = observe_fighters(game, choices)\n",
    "    if outcome > -1\n",
    "        game = jobify_fighter_counts(game, choices, [0, -1])\n",
    "    end\n",
    "    if outcome < 1\n",
    "        game = jobify_fighter_counts(game, choices, [-1, 0])\n",
    "    end\n",
    "    for i in 1:2\n",
    "        game[i].round = round\n",
    "    end\n",
    "    return game\n",
    "end\n",
    "\n",
    "function play_add_spud(game::Array{BattleView}, player::Int64, ff::Spud, verbose::Bool = false)::Array{BattleView}\n",
    "    game[player].own = append!(game[player].own, [ff])\n",
    "    game[player].owncount = append!(game[player].owncount, [n_copy])\n",
    "    game[player].deployed = append!(game[player].deployed, [false])\n",
    "    if verbose\n",
    "        print(\"Player \")\n",
    "        print(player)\n",
    "        print(\" adds #\")\n",
    "        print([\"A\", \"B\"][player])\n",
    "        print(length(game[player].own))\n",
    "        print(\" \")\n",
    "        println(ff)\n",
    "    end\n",
    "    return game\n",
    "end\n",
    "\n",
    "function play_is_game_over(game::Array{BattleView})::Bool\n",
    "    for bv in game\n",
    "        if sum(bv.owncount) == 0\n",
    "            return true\n",
    "        end\n",
    "    end\n",
    "    return false\n",
    "end\n",
    "\n",
    "function generate_rand_team(env, counts, nteam)\n",
    "    cc = cumsum(counts)\n",
    "    team = Array{Spud}(undef, nteam)\n",
    "    for i in 1:nteam\n",
    "        tmp = rand(1:sum(counts))\n",
    "        ind = sum(cc .< tmp)+1\n",
    "        team[i] = env[ind]\n",
    "    end\n",
    "    return team\n",
    "end\n",
    "\n",
    "function ai0_pick(a::BattleView)::Int64\n",
    "    inds = findall(a.owncount .> 0)\n",
    "    return rand(inds)\n",
    "end\n",
    "\n",
    "function ai0_create(a::BattleView)::Spud\n",
    "    return generate_rand_team(nash_env, counts, 1)[1]\n",
    "end\n",
    "\n",
    "function ai1_create(a::BattleView)::Spud\n",
    "    ops = a.obs[a.obscount .> 0]\n",
    "    ebs = [eval_battle_list(ff, ops) for ff in nash_env]\n",
    "    cands = nash_env[ebs .== maximum(ebs)]\n",
    "    return rand(cands)\n",
    "end\n",
    "\n",
    "function ai2_create(a::BattleView)::Spud\n",
    "    ops = a.obs[a.obscount .> 0]\n",
    "    ebs = [eval_battle_list(ff, ops) for ff in nash_env]\n",
    "    if maximum(ebs) == length(ops)\n",
    "        cands = nash_env[ebs .== maximum(ebs)]\n",
    "        return rand(cands)\n",
    "    else\n",
    "        ebs2 = [eval_battle_list(ff, ops) for ff in lib]\n",
    "        if maximum(ebs2) > maximum(ebs)\n",
    "            cands = lib[ebs2 .== maximum(ebs2)]\n",
    "            return rand_rename(rand(cands))\n",
    "        else\n",
    "            cands = nash_env[ebs .== maximum(ebs)]\n",
    "            return rand(cands)\n",
    "        end\n",
    "    end\n",
    "end\n",
    "\n",
    "\n",
    "# picks Spud most likely to win\n",
    "function ai_greedy_pick(a::BattleView)::Int64\n",
    "    if length(a.obs[a.obscount .> 0]) == 0\n",
    "        return rand(findall(a.owncount .> 0))\n",
    "    end\n",
    "    res = ffp2(a.own[a.owncount .> 0], a.obs[a.obscount .> 0], 100)\n",
    "    ind = findall(a.owncount .> 0)[rand(findall(res.w1 .== maximum(res.w1)))]\n",
    "    return ind\n",
    "end\n",
    "\n",
    "# picks from spuds already deployed\n",
    "function ai_conservative_pick(a::BattleView)::Int64\n",
    "    own = a.own[a.owncount .> 0 .&& a.deployed]\n",
    "    owninds = findall(a.owncount .> 0 .&& a.deployed)\n",
    "    if length(own) == 0\n",
    "        # pick greedy\n",
    "        return ai_greedy_pick(a)\n",
    "    end\n",
    "    ops = a.obs[a.obscount .> 0]\n",
    "    res = ffp2(own, ops, 100)\n",
    "    ind = owninds[rand(findall(res.w1 .== maximum(res.w1)))]\n",
    "    return ind\n",
    "end\n",
    "\n",
    "# picks Spud based on 1-round nash\n",
    "function ai_myopic_pick(a::BattleView)::Int64\n",
    "    if length(a.obs[a.obscount .> 0]) == 0\n",
    "        return rand(findall(a.owncount .> 0))\n",
    "    end\n",
    "    res = ffp2(a.own[a.owncount .> 0], a.obs[a.obscount .> 0], 100)\n",
    "    cc = cumsum(res.w1)\n",
    "    ind = sum(cc .< rand()) + 1\n",
    "    return findall(a.owncount .> 0)[ind]\n",
    "end\n",
    "\n",
    "creation_rounds = [5, 10, 15]\n",
    "\n",
    "function play_game(players::Array{AiPlayer}, verbose::Bool = true)::Int64\n",
    "    ai1 = players[1]\n",
    "    ai2 = players[2]\n",
    "    ais = players\n",
    "    team1 = ai1.genteam()\n",
    "    team2 = ai2.genteam()\n",
    "    game = initialize_game(team1, team2)\n",
    "    while !play_is_game_over(game)\n",
    "        # play a round\n",
    "        choice1 = ai1.pick(game[1])\n",
    "        choice2 = ai2.pick(game[2])\n",
    "        game = play_combat(game, [choice1, choice2], verbose)\n",
    "        if verbose\n",
    "            for i in 1:2\n",
    "                println(game[i].owncount)\n",
    "            end\n",
    "        end\n",
    "        if game[1].round in creation_rounds\n",
    "            for i in 1:2\n",
    "                ff = ais[i].create(game[i])\n",
    "                game = play_add_spud(game, i, ff, verbose)\n",
    "            end\n",
    "        end\n",
    "    end\n",
    "    if sum(game[1].owncount) == 0\n",
    "        if sum(game[2].owncount) == 0\n",
    "            return 0\n",
    "        else\n",
    "            return -1\n",
    "        end\n",
    "    end\n",
    "    return 1\n",
    "end\n",
    "\n",
    "# ai1 = AiPlayer(() -> generate_rand_team(nash_env, counts, 5), ai_greedy_pick, ai1_create)\n",
    "# ai2 = AiPlayer(() -> generate_rand_team(nash_env, counts, 5), ai_greedy_pick, ai1_create)\n",
    "# ais = [ai1, ai2]\n",
    "# play_game(ais, true)\n",
    "\n",
    "#@time lib = sample_library(1.01, [999]);\n",
    "\n",
    "function filter_nondominated(as::Array{Spud})::Array{Spud}\n",
    "    df = spuds_to_df(as)\n",
    "    mat = Array{Int64}(undef, (length(as), 6))\n",
    "    mat[:, 1] = df.h\n",
    "    mat[:, 2] = df.f\n",
    "    mat[:, 3] = df.l\n",
    "    mat[:, 4] = df.p\n",
    "    mat[:, 5] = df.r\n",
    "    mat[:, 6] = df.s;\n",
    "    isDominated = zeros(Int64, length(as));\n",
    "    for i in 1:length(as)\n",
    "        v = mat[i, :]\n",
    "        bv = ones(Int64, length(as))\n",
    "        for j in 1:6\n",
    "            bv = bv .* (mat[:, j] .>= v[j])\n",
    "        end\n",
    "        if sum(bv) > 1\n",
    "            isDominated[i] = 1\n",
    "        end\n",
    "    end\n",
    "    return as[isDominated .== 0]\n",
    "end\n",
    "\n",
    "function spud_to_vec(a::Spud)::Array{Int64}\n",
    "    return [a.h, a.f, a.l, a.p, a.r, a.s]\n",
    "end\n",
    "\n",
    "struct SpudBase\n",
    "    name::String\n",
    "    h::Int64\n",
    "    f::Int64\n",
    "    l::Int64\n",
    "    p::Int64\n",
    "    r::Int64\n",
    "    s::Int64\n",
    "    a1::Int64\n",
    "    cost::Int64\n",
    "end\n",
    "\n",
    "struct SpudMod\n",
    "    name::String\n",
    "    h::Int64\n",
    "    f::Int64\n",
    "    l::Int64\n",
    "    p::Int64\n",
    "    r::Int64\n",
    "    s::Int64\n",
    "    a1::Int64\n",
    "    minh::Int64\n",
    "    minf::Int64\n",
    "    minl::Int64\n",
    "    minp::Int64\n",
    "    minr::Int64\n",
    "    mins::Int64\n",
    "    cost::Int64\n",
    "end\n",
    "                                                                                        \n",
    "                                                                                        "
   ]
  },
  {
   "cell_type": "code",
   "execution_count": 3,
   "id": "1708d852",
   "metadata": {},
   "outputs": [
    {
     "data": {
      "text/plain": [
       "generate_parts (generic function with 1 method)"
      ]
     },
     "execution_count": 3,
     "metadata": {},
     "output_type": "execute_result"
    }
   ],
   "source": [
    "function rename_base(a::SpudBase, s::String)::SpudBase\n",
    "    return SpudBase(s, a.h,a.f,a.l,a.p,a.r,a.s,a.a1,a.cost)\n",
    "end\n",
    "\n",
    "function rename_job(a::SpudMod, s::String)::SpudMod\n",
    "    return SpudMod(s, a.h,a.f,a.l,a.p,a.r,a.s,a.a1,a.minh,a.minf,a.minl,a.minp,a.minr,a.mins,a.cost)\n",
    "end\n",
    "\n",
    "function combine_base_mod(b::SpudBase, j::SpudMod)::Spud\n",
    "    v = [b.h,b.f,b.l,b.p,b.r,b.s]\n",
    "    c = b.cost\n",
    "    a1 = b.a1\n",
    "    if a1 == 999\n",
    "        a1 = j.a1\n",
    "    end\n",
    "    w = [j.h,j.f,j.l,j.p,j.r,j.s]\n",
    "    m = [j.minh,j.minf,j.minl,j.minp,j.minr,j.mins]\n",
    "    c2 = j.cost\n",
    "    if sum(v .< m) == 0\n",
    "        c2 -= discount\n",
    "    end\n",
    "    z = v .+ w\n",
    "    z[z .> MXV] .= MXV\n",
    "    return Spud(string(j.name, \" \", b.name),z[1],z[2],z[3],z[4],z[5],z[6],a1,c+c2)\n",
    "end\n",
    "\n",
    "function combine_spud_job(b::Spud, j::SpudMod)::Spud\n",
    "    v = [b.h,b.f,b.l,b.p,b.r,b.s]\n",
    "    c = b.cost\n",
    "    a1 = b.a1\n",
    "    if a1 == 999\n",
    "        a1 = j.a1\n",
    "    end\n",
    "    w = [j.h,j.f,j.l,j.p,j.r,j.s]\n",
    "    m = [j.minh,j.minf,j.minl,j.minp,j.minr,j.mins]\n",
    "    c2 = j.cost\n",
    "    if sum(v .< m) == 0\n",
    "        c2 -= discount\n",
    "    end\n",
    "    z = v .+ w\n",
    "    z[z .> MXV] .= MXV\n",
    "    return Spud(string(j.name, \" \", b.name),z[1],z[2],z[3],z[4],z[5],z[6],a1,c+c2)\n",
    "end\n",
    "\n",
    "function check_validity(a::Spud)::Bool\n",
    "    return minimum([a.h,a.f,a.l,a.p,a.r,a.s]) >= MNV\n",
    "end\n",
    "\n",
    "function get_bases(scores, min_cost_base, max_cost_base, n_base_parts)::Array{SpudBase}\n",
    "    bases = Array{SpudBase}(undef, n_base_parts)\n",
    "    for i_base in 1:n_base_parts\n",
    "        desired_cost = rand(min_cost_base:max_cost_base)\n",
    "        indx = rand(findall(scores .== desired_cost))\n",
    "        bases[i_base] = SpudBase(\"base\",indx[1],indx[2],indx[3],indx[4],indx[5],indx[6],999,desired_cost)\n",
    "    end\n",
    "    bases = unique(bases)\n",
    "    n_base_parts1 = length(bases)\n",
    "    bases = bases[sortperm([x.cost for x in bases])]\n",
    "    bases = [rename_base(bases[i], string(\"b\", i)) for i in 1:n_base_parts1]\n",
    "    return bases\n",
    "end\n",
    "\n",
    "function get_mods(scores, discount, bases, min_mod_delt, max_mod_delt, min_cost_mod, max_cost_mod, n_mods)::Array{SpudMod}\n",
    "    n_base_parts1 = length(bases)\n",
    "    # generate mods\n",
    "    mods = Array{SpudMod}(undef, n_mods)\n",
    "    ff_i = 0\n",
    "    flag = true\n",
    "    while flag\n",
    "        v = [0,0,0,0,0,0]\n",
    "        m = [0,0,0,0,0,0]\n",
    "        for j in 1:3\n",
    "            v[rand(1:6)] = rand(min_mod_delt:max_mod_delt)\n",
    "            if rand() < 0.3\n",
    "                m[rand(1:6)] = rand(1:9)\n",
    "            end\n",
    "        end\n",
    "        jj = SpudMod(\"mod\",v[1],v[2],v[3],v[4],v[5],v[6],999,m[1],m[2],m[3],m[4],m[5],m[6],0)\n",
    "        max_diff = 0\n",
    "        for i_base in 1:n_base_parts1\n",
    "            b = bases[i_base]\n",
    "            bv = [b.h,b.f,b.l,b.p,b.r,b.s]\n",
    "            b2 = bv .+ v\n",
    "            b2[b2 .> MXV] .= MXV\n",
    "            if minimum(b2) >= MNV\n",
    "                c = b.cost\n",
    "                # min cost discount\n",
    "                if sum(bv .< m) == 0\n",
    "                    c -= discount\n",
    "                end\n",
    "                cost2 = scores[CartesianIndex((b2...))]\n",
    "                diff = cost2 - c\n",
    "                if diff > max_diff\n",
    "                    max_diff = diff\n",
    "                end\n",
    "            end\n",
    "        end\n",
    "        if max_diff >= min_cost_mod && max_diff <= max_cost_mod\n",
    "            ff_i += 1\n",
    "            mods[ff_i] = SpudMod(\"mod\",v[1],v[2],v[3],v[4],v[5],v[6],999,m[1],m[2],m[3],m[4],m[5],m[6],max_diff)\n",
    "        end\n",
    "        if ff_i >= n_mods\n",
    "            flag = false\n",
    "        end\n",
    "    end\n",
    "    mods = unique(mods);\n",
    "    mods = mods[sortperm([j.cost for j in mods])]\n",
    "    n_mods1 = length(mods)\n",
    "    mods = [rename_job(mods[i], string(\"m\",i)) for i in 1:n_mods1]\n",
    "    return mods\n",
    "end\n",
    "\n",
    "\n",
    "\n",
    "function get_base_mod_combs(bases, mods)::Array{Spud}\n",
    "    # get all Spuds from base + mod combo\n",
    "    lib2 = Array{Spud}(undef, length(bases)*length(mods))\n",
    "    ff_i = 0\n",
    "    for b in bases\n",
    "        for j in mods\n",
    "            ff = combine_base_mod(b,j)\n",
    "            if ff.cost <= MXS && check_validity(ff)\n",
    "                ff_i += 1\n",
    "                lib2[ff_i] = ff\n",
    "            end\n",
    "        end\n",
    "    end\n",
    "    lib2 = lib2[1:ff_i]\n",
    "    return lib2\n",
    "end\n",
    "\n",
    "\n",
    "function get_jobs(scores, discount, lib2, min_job_delt, max_job_delt, min_cost_job, max_cost_job, n_jobs)::Array{SpudMod}\n",
    "    # generate jobs\n",
    "    jobs = Array{SpudMod}(undef, n_jobs)\n",
    "    ff_i = 0\n",
    "    flag = true\n",
    "\n",
    "    while flag\n",
    "        v = [0,0,0,0,0,0]\n",
    "        m = [0,0,0,0,0,0]\n",
    "        for j in 1:3\n",
    "            v[rand(1:6)] = rand(min_job_delt:max_job_delt)\n",
    "            if rand() < 0.3\n",
    "                m[rand(1:6)] = rand(1:9)\n",
    "            end\n",
    "        end\n",
    "        jj = SpudMod(\"job\",v[1],v[2],v[3],v[4],v[5],v[6],999,m[1],m[2],m[3],m[4],m[5],m[6],0)\n",
    "        max_diff = 0\n",
    "        for b in lib2\n",
    "            bv = [b.h,b.f,b.l,b.p,b.r,b.s]\n",
    "            b2 = bv .+ v\n",
    "            b2[b2 .> MXV] .= MXV\n",
    "            if minimum(b2) >= MNV\n",
    "                c = b.cost\n",
    "                # min cost discount\n",
    "                if sum(bv .< m) == 0\n",
    "                    c -= discount\n",
    "                end\n",
    "                cost2 = scores[CartesianIndex((b2...))]\n",
    "                diff = cost2 - c\n",
    "                if diff > max_diff\n",
    "                    max_diff = diff\n",
    "                end\n",
    "            end\n",
    "        end\n",
    "        if max_diff >= min_cost_job && max_diff <= max_cost_job\n",
    "            ff_i += 1\n",
    "            jobs[ff_i] = SpudMod(\"job\",v[1],v[2],v[3],v[4],v[5],v[6],999,m[1],m[2],m[3],m[4],m[5],m[6],max_diff)\n",
    "        end\n",
    "        if ff_i >= n_jobs\n",
    "            flag = false\n",
    "        end\n",
    "    end\n",
    "\n",
    "    jobs = unique(jobs);\n",
    "    jobs = jobs[sortperm([j.cost for j in jobs])]\n",
    "    n_jobs1 = length(jobs)\n",
    "    jobs = [rename_job(jobs[i], string(\"j\",i)) for i in 1:n_jobs1]\n",
    "    return jobs\n",
    "end\n",
    "\n",
    "function get_library(discount, bases, mods, jobs, filter::Bool= true)::Array{Spud}\n",
    "    # Generate Spuds\n",
    "\n",
    "    library = Array{Spud}(undef, length(bases)*length(mods)*length(jobs))\n",
    "    ff_i = 0\n",
    "\n",
    "    for b in bases\n",
    "        for j in mods\n",
    "            s1 = combine_base_mod(b, j)\n",
    "            if check_validity(s1) && s1.cost <= MXS\n",
    "                for m in jobs\n",
    "                    s2 = combine_spud_job(s1, m)\n",
    "                    if check_validity(s2) && s2.cost <= MXS\n",
    "                        ff_i += 1\n",
    "                        library[ff_i] = s2\n",
    "                    end\n",
    "                end\n",
    "            end\n",
    "        end\n",
    "    end\n",
    "    library = library[1:ff_i]\n",
    "    if filter\n",
    "      library = filter_nondominated(library)\n",
    "    end\n",
    "    return library\n",
    "end\n",
    "\n",
    "function generate_parts(n_base_parts, n_mods, n_jobs,\n",
    "        min_cost_base, max_cost_base, min_cost_mod, max_cost_mod,\n",
    "        min_mod_delt, max_mod_delt, min_job_delt, max_job_delt, discount)\n",
    "    bases = get_bases(scores, min_cost_base, max_cost_base, n_base_parts)\n",
    "    n_base_parts1 = length(bases)\n",
    "    mods = get_mods(scores, discount, bases, min_mod_delt, max_mod_delt, min_cost_mod, max_cost_mod, n_mods)\n",
    "    n_mods1 = length(mods)\n",
    "    lib2 = get_base_mod_combs(bases, mods)\n",
    "    jobs = get_jobs(scores, discount, lib2, min_job_delt, max_job_delt, min_cost_job, max_cost_job, n_jobs)\n",
    "    library = get_library(discount, bases, mods, jobs)\n",
    "    counts = ffp(library, 100000);\n",
    "    diversity = sum(counts .> 10)\n",
    "    return Dict(\"bases\" => bases, \"mods\" => mods, \"jobs\" => jobs, \"diversity\" => diversity)\n",
    "end\n"
   ]
  },
  {
   "cell_type": "code",
   "execution_count": 4,
   "id": "218e455b",
   "metadata": {},
   "outputs": [
    {
     "data": {
      "text/plain": [
       "20"
      ]
     },
     "execution_count": 4,
     "metadata": {},
     "output_type": "execute_result"
    }
   ],
   "source": [
    "scores = matread(\"scores_sq300.mat\")[\"scores\"];\n",
    "\n",
    "n_base_parts = 100\n",
    "n_mods = 100\n",
    "n_jobs = 100\n",
    "min_cost_base = 15\n",
    "max_cost_base = 25\n",
    "min_cost_mod = 25\n",
    "max_cost_mod = 50\n",
    "min_cost_job = 35\n",
    "max_cost_job = 70\n",
    "\n",
    "min_mod_delt = -2\n",
    "max_mod_delt = 8\n",
    "\n",
    "min_job_delt = 0\n",
    "max_job_delt = 3\n",
    "\n",
    "discount = 20\n"
   ]
  },
  {
   "cell_type": "code",
   "execution_count": 141,
   "id": "63fcfd65",
   "metadata": {},
   "outputs": [
    {
     "data": {
      "text/plain": [
       "6-element Vector{Vector{Int64}}:\n",
       " [1, 2, 3, 4, 5, 6, 7, 8, 9]\n",
       " [1, 2, 3, 4, 5, 6, 7, 8, 9]\n",
       " [1, 2, 3, 4, 5, 6, 7, 8, 9]\n",
       " [1, 2, 3, 4, 5, 6, 7, 8, 9]\n",
       " [1, 2, 3, 4, 5, 6, 7, 8, 9]\n",
       " [1, 2, 3, 4, 5, 6, 7, 8, 9]"
      ]
     },
     "execution_count": 141,
     "metadata": {},
     "output_type": "execute_result"
    }
   ],
   "source": [
    "# does the subset of scores == 100 have full coverage of stat-space?\n",
    "indss = findall(scores .== 100);\n",
    "[sort(unique([v[i] for v in indss])) for i in 1:6]"
   ]
  },
  {
   "cell_type": "markdown",
   "id": "7d8ed523",
   "metadata": {},
   "source": [
    "## Filter a pre-computed parts set"
   ]
  },
  {
   "cell_type": "code",
   "execution_count": 6,
   "id": "56ab2c8b",
   "metadata": {},
   "outputs": [
    {
     "data": {
      "text/plain": [
       "Dict{String, Any} with 4 entries:\n",
       "  \"mods\"      => SpudMod[SpudMod(\"m1\", 0, -1, 0, 1, 0, 1, 999, 0, 0, 7, 0, 0, 0…\n",
       "  \"bases\"     => SpudBase[SpudBase(\"b1\", 5, 4, 3, 1, 5, 3, 999, 15), SpudBase(\"…\n",
       "  \"jobs\"      => SpudMod[SpudMod(\"j1\", 0, 0, 0, 0, 0, 1, 999, 0, 0, 0, 0, 2, 0,…\n",
       "  \"diversity\" => 153"
      ]
     },
     "execution_count": 6,
     "metadata": {},
     "output_type": "execute_result"
    }
   ],
   "source": [
    "res = deserialize(\"temp_desL_parts.jex\")"
   ]
  },
  {
   "cell_type": "code",
   "execution_count": 8,
   "id": "b596c029",
   "metadata": {},
   "outputs": [],
   "source": [
    "mods = res[\"mods\"]\n",
    "bases = res[\"bases\"]\n",
    "jobs = res[\"jobs\"];"
   ]
  },
  {
   "cell_type": "code",
   "execution_count": 10,
   "id": "47d802d2",
   "metadata": {},
   "outputs": [],
   "source": [
    "#@time lib2 = get_library(discount, bases, mods, jobs)"
   ]
  },
  {
   "cell_type": "code",
   "execution_count": 38,
   "id": "b0e86cd3",
   "metadata": {},
   "outputs": [],
   "source": [
    "df = CSV.read(\"temp_desLparts_lib.csv\", DataFrame);\n",
    "lib2 = df_to_spuds(df);"
   ]
  },
  {
   "cell_type": "code",
   "execution_count": 39,
   "id": "423c8ec9",
   "metadata": {},
   "outputs": [
    {
     "name": "stdout",
     "output_type": "stream",
     "text": [
      "  4.256765 seconds (56.46 M allocations: 6.789 GiB, 23.43% gc time)\n"
     ]
    }
   ],
   "source": [
    "@time counts = ffp(lib2, 100000);"
   ]
  },
  {
   "cell_type": "code",
   "execution_count": 40,
   "id": "81037ab0",
   "metadata": {},
   "outputs": [
    {
     "data": {
      "text/plain": [
       "143"
      ]
     },
     "execution_count": 40,
     "metadata": {},
     "output_type": "execute_result"
    }
   ],
   "source": [
    "sum(counts .> 10)"
   ]
  },
  {
   "cell_type": "code",
   "execution_count": 27,
   "id": "1351329f",
   "metadata": {},
   "outputs": [],
   "source": [
    "df2 = df[counts .> 10, :];"
   ]
  },
  {
   "cell_type": "code",
   "execution_count": 28,
   "id": "fd8dc672",
   "metadata": {},
   "outputs": [],
   "source": [
    "jobfilt = unique([split(nm, \" \")[1] for nm in df2.name])\n",
    "modfilt = unique([split(nm, \" \")[2] for nm in df2.name])\n",
    "basefilt = unique([split(nm, \" \")[3] for nm in df2.name]);\n"
   ]
  },
  {
   "cell_type": "code",
   "execution_count": 29,
   "id": "9cbc4137",
   "metadata": {},
   "outputs": [],
   "source": [
    "jobs2 = [jb for jb in jobs if jb.name in jobfilt]\n",
    "mods2 = [md for md in mods if md.name in modfilt]\n",
    "bases2 = [bs for bs in bases if bs.name in basefilt];"
   ]
  },
  {
   "cell_type": "code",
   "execution_count": 30,
   "id": "2e4d7c55",
   "metadata": {},
   "outputs": [],
   "source": [
    "serialize(\"temp_desL_parts_filt.jex\", Dict(\"jobs\" => jobs2, \"mods\" => mods2, \"bases\" => bases2))"
   ]
  },
  {
   "cell_type": "markdown",
   "id": "d1bfc800",
   "metadata": {},
   "source": [
    "## Load filtered parts set"
   ]
  },
  {
   "cell_type": "code",
   "execution_count": 5,
   "id": "8582a388",
   "metadata": {},
   "outputs": [],
   "source": [
    "res = deserialize(\"temp_desL_parts_filt.jex\")\n",
    "mods = res[\"mods\"]\n",
    "bases = res[\"bases\"]\n",
    "jobs = res[\"jobs\"];\n",
    "j_lookup = Dict()\n",
    "b_lookup = Dict()\n",
    "m_lookup = Dict()\n",
    "for jb in jobs\n",
    "    j_lookup[jb.name] = jb\n",
    "end\n",
    "for md in mods\n",
    "    m_lookup[md.name] = md\n",
    "end\n",
    "for bs in bases\n",
    "    b_lookup[bs.name] = bs\n",
    "end"
   ]
  },
  {
   "cell_type": "code",
   "execution_count": 7,
   "id": "b242192d",
   "metadata": {},
   "outputs": [
    {
     "name": "stdout",
     "output_type": "stream",
     "text": [
      " 12.389690 seconds (1.76 M allocations: 35.647 GiB, 45.51% gc time, 6.71% compilation time)\n"
     ]
    },
    {
     "data": {
      "text/plain": [
       "1181-element Vector{Spud}:\n",
       " Spud(\"j52 m65 b5\", 5, 3, 2, 1, 9, 9, 999, 96)\n",
       " Spud(\"j39 m12 b14\", 6, 1, 5, 5, 8, 3, 999, 99)\n",
       " Spud(\"j68 m23 b14\", 4, 2, 5, 8, 9, 2, 999, 91)\n",
       " Spud(\"j70 m23 b14\", 4, 1, 6, 7, 9, 5, 999, 93)\n",
       " Spud(\"j78 m23 b14\", 5, 2, 5, 7, 9, 2, 999, 95)\n",
       " Spud(\"j39 m30 b14\", 6, 1, 5, 5, 9, 2, 999, 83)\n",
       " Spud(\"j24 m61 b14\", 4, 1, 8, 5, 9, 3, 999, 83)\n",
       " Spud(\"j30 m61 b14\", 4, 1, 7, 6, 9, 4, 999, 87)\n",
       " Spud(\"j43 m61 b14\", 4, 1, 7, 7, 9, 3, 999, 93)\n",
       " Spud(\"j47 m61 b14\", 4, 2, 8, 5, 9, 2, 999, 94)\n",
       " Spud(\"j57 m61 b14\", 4, 2, 7, 5, 9, 3, 999, 98)\n",
       " Spud(\"j66 m61 b14\", 4, 1, 8, 8, 9, 2, 999, 100)\n",
       " Spud(\"j39 m65 b14\", 6, 1, 5, 3, 8, 5, 999, 92)\n",
       " ⋮\n",
       " Spud(\"j39 m57 b93\", 5, 1, 8, 8, 2, 3, 999, 98)\n",
       " Spud(\"j39 m60 b93\", 5, 1, 7, 9, 2, 3, 999, 99)\n",
       " Spud(\"j30 m65 b93\", 3, 1, 7, 7, 3, 8, 999, 96)\n",
       " Spud(\"j39 m65 b93\", 5, 1, 7, 6, 2, 6, 999, 100)\n",
       " Spud(\"j81 m65 b93\", 4, 1, 7, 9, 2, 6, 999, 95)\n",
       " Spud(\"j37 m66 b93\", 3, 1, 8, 9, 7, 2, 999, 98)\n",
       " Spud(\"j66 m84 b93\", 3, 1, 8, 9, 6, 3, 999, 97)\n",
       " Spud(\"j67 m84 b93\", 4, 1, 7, 8, 6, 3, 999, 98)\n",
       " Spud(\"j47 m91 b93\", 1, 2, 8, 8, 2, 8, 999, 92)\n",
       " Spud(\"j69 m91 b93\", 1, 1, 7, 9, 5, 8, 999, 100)\n",
       " Spud(\"j24 m61 b98\", 2, 2, 4, 2, 9, 9, 999, 92)\n",
       " Spud(\"j70 m70 b98\", 2, 2, 2, 8, 9, 9, 999, 95)"
      ]
     },
     "execution_count": 7,
     "metadata": {},
     "output_type": "execute_result"
    }
   ],
   "source": [
    "@time lib2 = get_library(discount, bases, mods, jobs)"
   ]
  },
  {
   "cell_type": "code",
   "execution_count": 8,
   "id": "aece4300",
   "metadata": {},
   "outputs": [
    {
     "name": "stdout",
     "output_type": "stream",
     "text": [
      "  8.072943 seconds (25.46 M allocations: 14.998 GiB, 31.48% gc time, 4.53% compilation time)\n"
     ]
    }
   ],
   "source": [
    "@time counts = ffp(lib2, 1000000);"
   ]
  },
  {
   "cell_type": "code",
   "execution_count": 9,
   "id": "ac7113f3",
   "metadata": {},
   "outputs": [
    {
     "data": {
      "text/plain": [
       "113"
      ]
     },
     "execution_count": 9,
     "metadata": {},
     "output_type": "execute_result"
    }
   ],
   "source": [
    "sum(counts .> 10)"
   ]
  },
  {
   "cell_type": "code",
   "execution_count": 10,
   "id": "7615c6da",
   "metadata": {},
   "outputs": [],
   "source": [
    "df = spuds_to_df(lib2)\n",
    "df[:, :count] = counts;"
   ]
  },
  {
   "cell_type": "code",
   "execution_count": 11,
   "id": "20131db8",
   "metadata": {},
   "outputs": [
    {
     "data": {
      "text/html": [
       "<div><div style = \"float: left;\"><span>20×10 DataFrame</span></div><div style = \"clear: both;\"></div></div><div class = \"data-frame\" style = \"overflow-x: scroll;\"><table class = \"data-frame\" style = \"margin-bottom: 6px;\"><thead><tr class = \"header\"><th class = \"rowNumber\" style = \"font-weight: bold; text-align: right;\">Row</th><th style = \"text-align: left;\">name</th><th style = \"text-align: left;\">h</th><th style = \"text-align: left;\">f</th><th style = \"text-align: left;\">l</th><th style = \"text-align: left;\">p</th><th style = \"text-align: left;\">r</th><th style = \"text-align: left;\">s</th><th style = \"text-align: left;\">a1</th><th style = \"text-align: left;\">cost</th><th style = \"text-align: left;\">count</th></tr><tr class = \"subheader headerLastRow\"><th class = \"rowNumber\" style = \"font-weight: bold; text-align: right;\"></th><th title = \"String\" style = \"text-align: left;\">String</th><th title = \"Int64\" style = \"text-align: left;\">Int64</th><th title = \"Int64\" style = \"text-align: left;\">Int64</th><th title = \"Int64\" style = \"text-align: left;\">Int64</th><th title = \"Int64\" style = \"text-align: left;\">Int64</th><th title = \"Int64\" style = \"text-align: left;\">Int64</th><th title = \"Int64\" style = \"text-align: left;\">Int64</th><th title = \"Int64\" style = \"text-align: left;\">Int64</th><th title = \"Int64\" style = \"text-align: left;\">Int64</th><th title = \"Int64\" style = \"text-align: left;\">Int64</th></tr></thead><tbody><tr><td class = \"rowNumber\" style = \"font-weight: bold; text-align: right;\">1</td><td style = \"text-align: left;\">j47 m61 b72</td><td style = \"text-align: right;\">7</td><td style = \"text-align: right;\">2</td><td style = \"text-align: right;\">5</td><td style = \"text-align: right;\">4</td><td style = \"text-align: right;\">3</td><td style = \"text-align: right;\">7</td><td style = \"text-align: right;\">999</td><td style = \"text-align: right;\">100</td><td style = \"text-align: right;\">67145</td></tr><tr><td class = \"rowNumber\" style = \"font-weight: bold; text-align: right;\">2</td><td style = \"text-align: left;\">j39 m57 b76</td><td style = \"text-align: right;\">7</td><td style = \"text-align: right;\">5</td><td style = \"text-align: right;\">5</td><td style = \"text-align: right;\">2</td><td style = \"text-align: right;\">2</td><td style = \"text-align: right;\">1</td><td style = \"text-align: right;\">999</td><td style = \"text-align: right;\">96</td><td style = \"text-align: right;\">41258</td></tr><tr><td class = \"rowNumber\" style = \"font-weight: bold; text-align: right;\">3</td><td style = \"text-align: left;\">j80 m23 b43</td><td style = \"text-align: right;\">2</td><td style = \"text-align: right;\">8</td><td style = \"text-align: right;\">3</td><td style = \"text-align: right;\">6</td><td style = \"text-align: right;\">6</td><td style = \"text-align: right;\">2</td><td style = \"text-align: right;\">999</td><td style = \"text-align: right;\">99</td><td style = \"text-align: right;\">40546</td></tr><tr><td class = \"rowNumber\" style = \"font-weight: bold; text-align: right;\">4</td><td style = \"text-align: left;\">j30 m89 b43</td><td style = \"text-align: right;\">1</td><td style = \"text-align: right;\">8</td><td style = \"text-align: right;\">3</td><td style = \"text-align: right;\">2</td><td style = \"text-align: right;\">7</td><td style = \"text-align: right;\">6</td><td style = \"text-align: right;\">999</td><td style = \"text-align: right;\">100</td><td style = \"text-align: right;\">40056</td></tr><tr><td class = \"rowNumber\" style = \"font-weight: bold; text-align: right;\">5</td><td style = \"text-align: left;\">j30 m65 b62</td><td style = \"text-align: right;\">2</td><td style = \"text-align: right;\">4</td><td style = \"text-align: right;\">5</td><td style = \"text-align: right;\">8</td><td style = \"text-align: right;\">2</td><td style = \"text-align: right;\">9</td><td style = \"text-align: right;\">999</td><td style = \"text-align: right;\">93</td><td style = \"text-align: right;\">37526</td></tr><tr><td class = \"rowNumber\" style = \"font-weight: bold; text-align: right;\">6</td><td style = \"text-align: left;\">j39 m78 b43</td><td style = \"text-align: right;\">4</td><td style = \"text-align: right;\">8</td><td style = \"text-align: right;\">4</td><td style = \"text-align: right;\">3</td><td style = \"text-align: right;\">4</td><td style = \"text-align: right;\">2</td><td style = \"text-align: right;\">999</td><td style = \"text-align: right;\">100</td><td style = \"text-align: right;\">36459</td></tr><tr><td class = \"rowNumber\" style = \"font-weight: bold; text-align: right;\">7</td><td style = \"text-align: left;\">j37 m61 b87</td><td style = \"text-align: right;\">9</td><td style = \"text-align: right;\">1</td><td style = \"text-align: right;\">4</td><td style = \"text-align: right;\">8</td><td style = \"text-align: right;\">8</td><td style = \"text-align: right;\">7</td><td style = \"text-align: right;\">999</td><td style = \"text-align: right;\">97</td><td style = \"text-align: right;\">30541</td></tr><tr><td class = \"rowNumber\" style = \"font-weight: bold; text-align: right;\">8</td><td style = \"text-align: left;\">j80 m89 b43</td><td style = \"text-align: right;\">1</td><td style = \"text-align: right;\">8</td><td style = \"text-align: right;\">3</td><td style = \"text-align: right;\">4</td><td style = \"text-align: right;\">7</td><td style = \"text-align: right;\">4</td><td style = \"text-align: right;\">999</td><td style = \"text-align: right;\">99</td><td style = \"text-align: right;\">30348</td></tr><tr><td class = \"rowNumber\" style = \"font-weight: bold; text-align: right;\">9</td><td style = \"text-align: left;\">j65 m47 b60</td><td style = \"text-align: right;\">6</td><td style = \"text-align: right;\">7</td><td style = \"text-align: right;\">1</td><td style = \"text-align: right;\">2</td><td style = \"text-align: right;\">1</td><td style = \"text-align: right;\">3</td><td style = \"text-align: right;\">999</td><td style = \"text-align: right;\">100</td><td style = \"text-align: right;\">27980</td></tr><tr><td class = \"rowNumber\" style = \"font-weight: bold; text-align: right;\">10</td><td style = \"text-align: left;\">j47 m61 b68</td><td style = \"text-align: right;\">5</td><td style = \"text-align: right;\">4</td><td style = \"text-align: right;\">7</td><td style = \"text-align: right;\">3</td><td style = \"text-align: right;\">7</td><td style = \"text-align: right;\">3</td><td style = \"text-align: right;\">999</td><td style = \"text-align: right;\">100</td><td style = \"text-align: right;\">27881</td></tr><tr><td class = \"rowNumber\" style = \"font-weight: bold; text-align: right;\">11</td><td style = \"text-align: left;\">j39 m47 b85</td><td style = \"text-align: right;\">5</td><td style = \"text-align: right;\">1</td><td style = \"text-align: right;\">7</td><td style = \"text-align: right;\">5</td><td style = \"text-align: right;\">1</td><td style = \"text-align: right;\">7</td><td style = \"text-align: right;\">999</td><td style = \"text-align: right;\">94</td><td style = \"text-align: right;\">24342</td></tr><tr><td class = \"rowNumber\" style = \"font-weight: bold; text-align: right;\">12</td><td style = \"text-align: left;\">j50 m88 b62</td><td style = \"text-align: right;\">1</td><td style = \"text-align: right;\">6</td><td style = \"text-align: right;\">4</td><td style = \"text-align: right;\">9</td><td style = \"text-align: right;\">2</td><td style = \"text-align: right;\">6</td><td style = \"text-align: right;\">999</td><td style = \"text-align: right;\">89</td><td style = \"text-align: right;\">23515</td></tr><tr><td class = \"rowNumber\" style = \"font-weight: bold; text-align: right;\">13</td><td style = \"text-align: left;\">j76 m47 b60</td><td style = \"text-align: right;\">6</td><td style = \"text-align: right;\">6</td><td style = \"text-align: right;\">1</td><td style = \"text-align: right;\">3</td><td style = \"text-align: right;\">1</td><td style = \"text-align: right;\">4</td><td style = \"text-align: right;\">999</td><td style = \"text-align: right;\">85</td><td style = \"text-align: right;\">22453</td></tr><tr><td class = \"rowNumber\" style = \"font-weight: bold; text-align: right;\">14</td><td style = \"text-align: left;\">j24 m75 b44</td><td style = \"text-align: right;\">4</td><td style = \"text-align: right;\">3</td><td style = \"text-align: right;\">7</td><td style = \"text-align: right;\">6</td><td style = \"text-align: right;\">3</td><td style = \"text-align: right;\">6</td><td style = \"text-align: right;\">999</td><td style = \"text-align: right;\">91</td><td style = \"text-align: right;\">22220</td></tr><tr><td class = \"rowNumber\" style = \"font-weight: bold; text-align: right;\">15</td><td style = \"text-align: left;\">j39 m47 b17</td><td style = \"text-align: right;\">4</td><td style = \"text-align: right;\">4</td><td style = \"text-align: right;\">8</td><td style = \"text-align: right;\">4</td><td style = \"text-align: right;\">5</td><td style = \"text-align: right;\">4</td><td style = \"text-align: right;\">999</td><td style = \"text-align: right;\">87</td><td style = \"text-align: right;\">21417</td></tr><tr><td class = \"rowNumber\" style = \"font-weight: bold; text-align: right;\">16</td><td style = \"text-align: left;\">j30 m78 b30</td><td style = \"text-align: right;\">3</td><td style = \"text-align: right;\">5</td><td style = \"text-align: right;\">4</td><td style = \"text-align: right;\">7</td><td style = \"text-align: right;\">3</td><td style = \"text-align: right;\">7</td><td style = \"text-align: right;\">999</td><td style = \"text-align: right;\">95</td><td style = \"text-align: right;\">19974</td></tr><tr><td class = \"rowNumber\" style = \"font-weight: bold; text-align: right;\">17</td><td style = \"text-align: left;\">j47 m61 b56</td><td style = \"text-align: right;\">5</td><td style = \"text-align: right;\">2</td><td style = \"text-align: right;\">5</td><td style = \"text-align: right;\">6</td><td style = \"text-align: right;\">9</td><td style = \"text-align: right;\">7</td><td style = \"text-align: right;\">999</td><td style = \"text-align: right;\">99</td><td style = \"text-align: right;\">19013</td></tr><tr><td class = \"rowNumber\" style = \"font-weight: bold; text-align: right;\">18</td><td style = \"text-align: left;\">j52 m41 b87</td><td style = \"text-align: right;\">9</td><td style = \"text-align: right;\">3</td><td style = \"text-align: right;\">2</td><td style = \"text-align: right;\">4</td><td style = \"text-align: right;\">6</td><td style = \"text-align: right;\">7</td><td style = \"text-align: right;\">999</td><td style = \"text-align: right;\">98</td><td style = \"text-align: right;\">18511</td></tr><tr><td class = \"rowNumber\" style = \"font-weight: bold; text-align: right;\">19</td><td style = \"text-align: left;\">j43 m43 b44</td><td style = \"text-align: right;\">3</td><td style = \"text-align: right;\">5</td><td style = \"text-align: right;\">6</td><td style = \"text-align: right;\">8</td><td style = \"text-align: right;\">3</td><td style = \"text-align: right;\">4</td><td style = \"text-align: right;\">999</td><td style = \"text-align: right;\">91</td><td style = \"text-align: right;\">17965</td></tr><tr><td class = \"rowNumber\" style = \"font-weight: bold; text-align: right;\">20</td><td style = \"text-align: left;\">j52 m55 b60</td><td style = \"text-align: right;\">5</td><td style = \"text-align: right;\">8</td><td style = \"text-align: right;\">2</td><td style = \"text-align: right;\">2</td><td style = \"text-align: right;\">1</td><td style = \"text-align: right;\">2</td><td style = \"text-align: right;\">999</td><td style = \"text-align: right;\">99</td><td style = \"text-align: right;\">16996</td></tr></tbody></table></div>"
      ],
      "text/latex": [
       "\\begin{tabular}{r|cccccccccc}\n",
       "\t& name & h & f & l & p & r & s & a1 & cost & count\\\\\n",
       "\t\\hline\n",
       "\t& String & Int64 & Int64 & Int64 & Int64 & Int64 & Int64 & Int64 & Int64 & Int64\\\\\n",
       "\t\\hline\n",
       "\t1 & j47 m61 b72 & 7 & 2 & 5 & 4 & 3 & 7 & 999 & 100 & 67145 \\\\\n",
       "\t2 & j39 m57 b76 & 7 & 5 & 5 & 2 & 2 & 1 & 999 & 96 & 41258 \\\\\n",
       "\t3 & j80 m23 b43 & 2 & 8 & 3 & 6 & 6 & 2 & 999 & 99 & 40546 \\\\\n",
       "\t4 & j30 m89 b43 & 1 & 8 & 3 & 2 & 7 & 6 & 999 & 100 & 40056 \\\\\n",
       "\t5 & j30 m65 b62 & 2 & 4 & 5 & 8 & 2 & 9 & 999 & 93 & 37526 \\\\\n",
       "\t6 & j39 m78 b43 & 4 & 8 & 4 & 3 & 4 & 2 & 999 & 100 & 36459 \\\\\n",
       "\t7 & j37 m61 b87 & 9 & 1 & 4 & 8 & 8 & 7 & 999 & 97 & 30541 \\\\\n",
       "\t8 & j80 m89 b43 & 1 & 8 & 3 & 4 & 7 & 4 & 999 & 99 & 30348 \\\\\n",
       "\t9 & j65 m47 b60 & 6 & 7 & 1 & 2 & 1 & 3 & 999 & 100 & 27980 \\\\\n",
       "\t10 & j47 m61 b68 & 5 & 4 & 7 & 3 & 7 & 3 & 999 & 100 & 27881 \\\\\n",
       "\t11 & j39 m47 b85 & 5 & 1 & 7 & 5 & 1 & 7 & 999 & 94 & 24342 \\\\\n",
       "\t12 & j50 m88 b62 & 1 & 6 & 4 & 9 & 2 & 6 & 999 & 89 & 23515 \\\\\n",
       "\t13 & j76 m47 b60 & 6 & 6 & 1 & 3 & 1 & 4 & 999 & 85 & 22453 \\\\\n",
       "\t14 & j24 m75 b44 & 4 & 3 & 7 & 6 & 3 & 6 & 999 & 91 & 22220 \\\\\n",
       "\t15 & j39 m47 b17 & 4 & 4 & 8 & 4 & 5 & 4 & 999 & 87 & 21417 \\\\\n",
       "\t16 & j30 m78 b30 & 3 & 5 & 4 & 7 & 3 & 7 & 999 & 95 & 19974 \\\\\n",
       "\t17 & j47 m61 b56 & 5 & 2 & 5 & 6 & 9 & 7 & 999 & 99 & 19013 \\\\\n",
       "\t18 & j52 m41 b87 & 9 & 3 & 2 & 4 & 6 & 7 & 999 & 98 & 18511 \\\\\n",
       "\t19 & j43 m43 b44 & 3 & 5 & 6 & 8 & 3 & 4 & 999 & 91 & 17965 \\\\\n",
       "\t20 & j52 m55 b60 & 5 & 8 & 2 & 2 & 1 & 2 & 999 & 99 & 16996 \\\\\n",
       "\\end{tabular}\n"
      ],
      "text/plain": [
       "\u001b[1m20×10 DataFrame\u001b[0m\n",
       "\u001b[1m Row \u001b[0m│\u001b[1m name        \u001b[0m\u001b[1m h     \u001b[0m\u001b[1m f     \u001b[0m\u001b[1m l     \u001b[0m\u001b[1m p     \u001b[0m\u001b[1m r     \u001b[0m\u001b[1m s     \u001b[0m\u001b[1m a1    \u001b[0m\u001b[1m cost  \u001b[0m\u001b[1m co\u001b[0m ⋯\n",
       "     │\u001b[90m String      \u001b[0m\u001b[90m Int64 \u001b[0m\u001b[90m Int64 \u001b[0m\u001b[90m Int64 \u001b[0m\u001b[90m Int64 \u001b[0m\u001b[90m Int64 \u001b[0m\u001b[90m Int64 \u001b[0m\u001b[90m Int64 \u001b[0m\u001b[90m Int64 \u001b[0m\u001b[90m In\u001b[0m ⋯\n",
       "─────┼──────────────────────────────────────────────────────────────────────────\n",
       "   1 │ j47 m61 b72      7      2      5      4      3      7    999    100  67 ⋯\n",
       "   2 │ j39 m57 b76      7      5      5      2      2      1    999     96  41\n",
       "   3 │ j80 m23 b43      2      8      3      6      6      2    999     99  40\n",
       "   4 │ j30 m89 b43      1      8      3      2      7      6    999    100  40\n",
       "   5 │ j30 m65 b62      2      4      5      8      2      9    999     93  37 ⋯\n",
       "   6 │ j39 m78 b43      4      8      4      3      4      2    999    100  36\n",
       "   7 │ j37 m61 b87      9      1      4      8      8      7    999     97  30\n",
       "   8 │ j80 m89 b43      1      8      3      4      7      4    999     99  30\n",
       "   9 │ j65 m47 b60      6      7      1      2      1      3    999    100  27 ⋯\n",
       "  10 │ j47 m61 b68      5      4      7      3      7      3    999    100  27\n",
       "  11 │ j39 m47 b85      5      1      7      5      1      7    999     94  24\n",
       "  12 │ j50 m88 b62      1      6      4      9      2      6    999     89  23\n",
       "  13 │ j76 m47 b60      6      6      1      3      1      4    999     85  22 ⋯\n",
       "  14 │ j24 m75 b44      4      3      7      6      3      6    999     91  22\n",
       "  15 │ j39 m47 b17      4      4      8      4      5      4    999     87  21\n",
       "  16 │ j30 m78 b30      3      5      4      7      3      7    999     95  19\n",
       "  17 │ j47 m61 b56      5      2      5      6      9      7    999     99  19 ⋯\n",
       "  18 │ j52 m41 b87      9      3      2      4      6      7    999     98  18\n",
       "  19 │ j43 m43 b44      3      5      6      8      3      4    999     91  17\n",
       "  20 │ j52 m55 b60      5      8      2      2      1      2    999     99  16\n",
       "\u001b[36m                                                                1 column omitted\u001b[0m"
      ]
     },
     "execution_count": 11,
     "metadata": {},
     "output_type": "execute_result"
    }
   ],
   "source": [
    "df[sortperm(-counts)[1:20], :]"
   ]
  },
  {
   "cell_type": "code",
   "execution_count": 12,
   "id": "265bfa84",
   "metadata": {},
   "outputs": [],
   "source": [
    "nash_env = lib2[counts .> 10]\n",
    "counts_ne = counts[counts .> 10];"
   ]
  },
  {
   "cell_type": "code",
   "execution_count": 16,
   "id": "24af6829",
   "metadata": {},
   "outputs": [],
   "source": [
    "# how many of nash env use discounts?\n",
    "full_costs = [j_lookup[split(ff.name, \" \")[1]].cost + m_lookup[split(ff.name, \" \")[2]].cost + b_lookup[split(ff.name, \" \")[3]].cost for ff in nash_env];"
   ]
  },
  {
   "cell_type": "code",
   "execution_count": 18,
   "id": "2bf03b59",
   "metadata": {},
   "outputs": [
    {
     "data": {
      "text/plain": [
       "113"
      ]
     },
     "execution_count": 18,
     "metadata": {},
     "output_type": "execute_result"
    }
   ],
   "source": [
    "length(nash_env)"
   ]
  },
  {
   "cell_type": "code",
   "execution_count": 17,
   "id": "155005ab",
   "metadata": {},
   "outputs": [
    {
     "data": {
      "text/plain": [
       "109"
      ]
     },
     "execution_count": 17,
     "metadata": {},
     "output_type": "execute_result"
    }
   ],
   "source": [
    "sum(full_costs .> 100)"
   ]
  },
  {
   "cell_type": "code",
   "execution_count": 19,
   "id": "ea1550de",
   "metadata": {},
   "outputs": [
    {
     "data": {
      "text/plain": [
       "35"
      ]
     },
     "execution_count": 19,
     "metadata": {},
     "output_type": "execute_result"
    }
   ],
   "source": [
    "sum(full_costs .> 120)"
   ]
  },
  {
   "cell_type": "code",
   "execution_count": 139,
   "id": "7537e1f9",
   "metadata": {},
   "outputs": [
    {
     "data": {
      "text/plain": [
       "6-element Vector{Vector{Int64}}:\n",
       " [1, 2, 3, 4, 5, 6, 7, 9]\n",
       " [1, 2, 3, 4, 5, 6, 7, 8]\n",
       " [1, 2, 3, 4, 5, 6, 7, 8, 9]\n",
       " [1, 2, 3, 4, 5, 6, 7, 8, 9]\n",
       " [1, 2, 3, 4, 5, 6, 7, 8, 9]\n",
       " [1, 2, 3, 4, 5, 6, 7, 8, 9]"
      ]
     },
     "execution_count": 139,
     "metadata": {},
     "output_type": "execute_result"
    }
   ],
   "source": [
    "[sort(unique(spuds_to_df(nash_env)[:, i])) for i in 2:7]"
   ]
  },
  {
   "cell_type": "markdown",
   "id": "4eaaad1f",
   "metadata": {},
   "source": [
    "## Random subsets of parts "
   ]
  },
  {
   "cell_type": "code",
   "execution_count": 72,
   "id": "7646c22c",
   "metadata": {},
   "outputs": [],
   "source": [
    "nsub = 20\n",
    "jobs1 = jobs[sort(sortperm(rand(length(jobs)))[1:nsub])]\n",
    "mods1 = mods[sort(sortperm(rand(length(mods)))[1:nsub])]\n",
    "bases1 = bases[sort(sortperm(rand(length(bases)))[1:nsub])];\n",
    "    "
   ]
  },
  {
   "cell_type": "code",
   "execution_count": 73,
   "id": "376ab76a",
   "metadata": {},
   "outputs": [
    {
     "name": "stdout",
     "output_type": "stream",
     "text": [
      "  0.373739 seconds (171.65 k allocations: 1.330 GiB, 37.88% gc time)\n"
     ]
    }
   ],
   "source": [
    "@time libsub = get_library(discount, bases1, mods1, jobs1);"
   ]
  },
  {
   "cell_type": "code",
   "execution_count": 74,
   "id": "a5cd5e12",
   "metadata": {},
   "outputs": [],
   "source": [
    "counts1 = ffp(libsub, 100000);"
   ]
  },
  {
   "cell_type": "code",
   "execution_count": 75,
   "id": "c3374f64",
   "metadata": {},
   "outputs": [],
   "source": [
    "df = spuds_to_df(libsub)\n",
    "df[:, :count] = counts1;\n",
    "df[:, :globalnash] = [ff in nash_env for ff in libsub];"
   ]
  },
  {
   "cell_type": "code",
   "execution_count": 76,
   "id": "f4f24d30",
   "metadata": {},
   "outputs": [
    {
     "data": {
      "text/html": [
       "<div><div style = \"float: left;\"><span>20×11 DataFrame</span></div><div style = \"clear: both;\"></div></div><div class = \"data-frame\" style = \"overflow-x: scroll;\"><table class = \"data-frame\" style = \"margin-bottom: 6px;\"><thead><tr class = \"header\"><th class = \"rowNumber\" style = \"font-weight: bold; text-align: right;\">Row</th><th style = \"text-align: left;\">name</th><th style = \"text-align: left;\">h</th><th style = \"text-align: left;\">f</th><th style = \"text-align: left;\">l</th><th style = \"text-align: left;\">p</th><th style = \"text-align: left;\">r</th><th style = \"text-align: left;\">s</th><th style = \"text-align: left;\">a1</th><th style = \"text-align: left;\">cost</th><th style = \"text-align: left;\">count</th><th style = \"text-align: left;\">globalnash</th></tr><tr class = \"subheader headerLastRow\"><th class = \"rowNumber\" style = \"font-weight: bold; text-align: right;\"></th><th title = \"String\" style = \"text-align: left;\">String</th><th title = \"Int64\" style = \"text-align: left;\">Int64</th><th title = \"Int64\" style = \"text-align: left;\">Int64</th><th title = \"Int64\" style = \"text-align: left;\">Int64</th><th title = \"Int64\" style = \"text-align: left;\">Int64</th><th title = \"Int64\" style = \"text-align: left;\">Int64</th><th title = \"Int64\" style = \"text-align: left;\">Int64</th><th title = \"Int64\" style = \"text-align: left;\">Int64</th><th title = \"Int64\" style = \"text-align: left;\">Int64</th><th title = \"Int64\" style = \"text-align: left;\">Int64</th><th title = \"Bool\" style = \"text-align: left;\">Bool</th></tr></thead><tbody><tr><td class = \"rowNumber\" style = \"font-weight: bold; text-align: right;\">1</td><td style = \"text-align: left;\">j39 m41 b68</td><td style = \"text-align: right;\">7</td><td style = \"text-align: right;\">3</td><td style = \"text-align: right;\">5</td><td style = \"text-align: right;\">1</td><td style = \"text-align: right;\">5</td><td style = \"text-align: right;\">3</td><td style = \"text-align: right;\">999</td><td style = \"text-align: right;\">91</td><td style = \"text-align: right;\">8164</td><td style = \"text-align: right;\">false</td></tr><tr><td class = \"rowNumber\" style = \"font-weight: bold; text-align: right;\">2</td><td style = \"text-align: left;\">j68 m89 b45</td><td style = \"text-align: right;\">3</td><td style = \"text-align: right;\">6</td><td style = \"text-align: right;\">2</td><td style = \"text-align: right;\">7</td><td style = \"text-align: right;\">6</td><td style = \"text-align: right;\">4</td><td style = \"text-align: right;\">999</td><td style = \"text-align: right;\">95</td><td style = \"text-align: right;\">7646</td><td style = \"text-align: right;\">true</td></tr><tr><td class = \"rowNumber\" style = \"font-weight: bold; text-align: right;\">3</td><td style = \"text-align: left;\">j39 m51 b66</td><td style = \"text-align: right;\">7</td><td style = \"text-align: right;\">2</td><td style = \"text-align: right;\">6</td><td style = \"text-align: right;\">3</td><td style = \"text-align: right;\">1</td><td style = \"text-align: right;\">1</td><td style = \"text-align: right;\">999</td><td style = \"text-align: right;\">94</td><td style = \"text-align: right;\">5266</td><td style = \"text-align: right;\">true</td></tr><tr><td class = \"rowNumber\" style = \"font-weight: bold; text-align: right;\">4</td><td style = \"text-align: left;\">j43 m66 b58</td><td style = \"text-align: right;\">1</td><td style = \"text-align: right;\">6</td><td style = \"text-align: right;\">9</td><td style = \"text-align: right;\">3</td><td style = \"text-align: right;\">7</td><td style = \"text-align: right;\">6</td><td style = \"text-align: right;\">999</td><td style = \"text-align: right;\">99</td><td style = \"text-align: right;\">4847</td><td style = \"text-align: right;\">false</td></tr><tr><td class = \"rowNumber\" style = \"font-weight: bold; text-align: right;\">5</td><td style = \"text-align: left;\">j70 m78 b68</td><td style = \"text-align: right;\">5</td><td style = \"text-align: right;\">3</td><td style = \"text-align: right;\">6</td><td style = \"text-align: right;\">5</td><td style = \"text-align: right;\">6</td><td style = \"text-align: right;\">6</td><td style = \"text-align: right;\">999</td><td style = \"text-align: right;\">95</td><td style = \"text-align: right;\">4456</td><td style = \"text-align: right;\">true</td></tr><tr><td class = \"rowNumber\" style = \"font-weight: bold; text-align: right;\">6</td><td style = \"text-align: left;\">j47 m66 b58</td><td style = \"text-align: right;\">1</td><td style = \"text-align: right;\">7</td><td style = \"text-align: right;\">9</td><td style = \"text-align: right;\">1</td><td style = \"text-align: right;\">7</td><td style = \"text-align: right;\">5</td><td style = \"text-align: right;\">999</td><td style = \"text-align: right;\">100</td><td style = \"text-align: right;\">4124</td><td style = \"text-align: right;\">false</td></tr><tr><td class = \"rowNumber\" style = \"font-weight: bold; text-align: right;\">7</td><td style = \"text-align: left;\">j39 m65 b73</td><td style = \"text-align: right;\">5</td><td style = \"text-align: right;\">1</td><td style = \"text-align: right;\">6</td><td style = \"text-align: right;\">6</td><td style = \"text-align: right;\">2</td><td style = \"text-align: right;\">8</td><td style = \"text-align: right;\">999</td><td style = \"text-align: right;\">98</td><td style = \"text-align: right;\">4114</td><td style = \"text-align: right;\">true</td></tr><tr><td class = \"rowNumber\" style = \"font-weight: bold; text-align: right;\">8</td><td style = \"text-align: left;\">j39 m47 b38</td><td style = \"text-align: right;\">5</td><td style = \"text-align: right;\">6</td><td style = \"text-align: right;\">7</td><td style = \"text-align: right;\">1</td><td style = \"text-align: right;\">6</td><td style = \"text-align: right;\">1</td><td style = \"text-align: right;\">999</td><td style = \"text-align: right;\">90</td><td style = \"text-align: right;\">3983</td><td style = \"text-align: right;\">true</td></tr><tr><td class = \"rowNumber\" style = \"font-weight: bold; text-align: right;\">9</td><td style = \"text-align: left;\">j39 m47 b76</td><td style = \"text-align: right;\">8</td><td style = \"text-align: right;\">5</td><td style = \"text-align: right;\">3</td><td style = \"text-align: right;\">2</td><td style = \"text-align: right;\">2</td><td style = \"text-align: right;\">1</td><td style = \"text-align: right;\">999</td><td style = \"text-align: right;\">93</td><td style = \"text-align: right;\">3886</td><td style = \"text-align: right;\">false</td></tr><tr><td class = \"rowNumber\" style = \"font-weight: bold; text-align: right;\">10</td><td style = \"text-align: left;\">j52 m60 b45</td><td style = \"text-align: right;\">4</td><td style = \"text-align: right;\">7</td><td style = \"text-align: right;\">2</td><td style = \"text-align: right;\">8</td><td style = \"text-align: right;\">4</td><td style = \"text-align: right;\">2</td><td style = \"text-align: right;\">999</td><td style = \"text-align: right;\">100</td><td style = \"text-align: right;\">3741</td><td style = \"text-align: right;\">true</td></tr><tr><td class = \"rowNumber\" style = \"font-weight: bold; text-align: right;\">11</td><td style = \"text-align: left;\">j37 m75 b58</td><td style = \"text-align: right;\">3</td><td style = \"text-align: right;\">4</td><td style = \"text-align: right;\">9</td><td style = \"text-align: right;\">7</td><td style = \"text-align: right;\">2</td><td style = \"text-align: right;\">6</td><td style = \"text-align: right;\">999</td><td style = \"text-align: right;\">99</td><td style = \"text-align: right;\">3673</td><td style = \"text-align: right;\">false</td></tr><tr><td class = \"rowNumber\" style = \"font-weight: bold; text-align: right;\">12</td><td style = \"text-align: left;\">j70 m89 b45</td><td style = \"text-align: right;\">3</td><td style = \"text-align: right;\">5</td><td style = \"text-align: right;\">3</td><td style = \"text-align: right;\">6</td><td style = \"text-align: right;\">6</td><td style = \"text-align: right;\">7</td><td style = \"text-align: right;\">999</td><td style = \"text-align: right;\">97</td><td style = \"text-align: right;\">3531</td><td style = \"text-align: right;\">true</td></tr><tr><td class = \"rowNumber\" style = \"font-weight: bold; text-align: right;\">13</td><td style = \"text-align: left;\">j39 m44 b93</td><td style = \"text-align: right;\">6</td><td style = \"text-align: right;\">1</td><td style = \"text-align: right;\">7</td><td style = \"text-align: right;\">8</td><td style = \"text-align: right;\">2</td><td style = \"text-align: right;\">2</td><td style = \"text-align: right;\">999</td><td style = \"text-align: right;\">94</td><td style = \"text-align: right;\">3285</td><td style = \"text-align: right;\">false</td></tr><tr><td class = \"rowNumber\" style = \"font-weight: bold; text-align: right;\">14</td><td style = \"text-align: left;\">j39 m65 b68</td><td style = \"text-align: right;\">7</td><td style = \"text-align: right;\">3</td><td style = \"text-align: right;\">4</td><td style = \"text-align: right;\">1</td><td style = \"text-align: right;\">6</td><td style = \"text-align: right;\">6</td><td style = \"text-align: right;\">999</td><td style = \"text-align: right;\">98</td><td style = \"text-align: right;\">3125</td><td style = \"text-align: right;\">false</td></tr><tr><td class = \"rowNumber\" style = \"font-weight: bold; text-align: right;\">15</td><td style = \"text-align: left;\">j39 m44 b85</td><td style = \"text-align: right;\">5</td><td style = \"text-align: right;\">1</td><td style = \"text-align: right;\">8</td><td style = \"text-align: right;\">5</td><td style = \"text-align: right;\">1</td><td style = \"text-align: right;\">6</td><td style = \"text-align: right;\">999</td><td style = \"text-align: right;\">93</td><td style = \"text-align: right;\">3093</td><td style = \"text-align: right;\">false</td></tr><tr><td class = \"rowNumber\" style = \"font-weight: bold; text-align: right;\">16</td><td style = \"text-align: left;\">j52 m47 b76</td><td style = \"text-align: right;\">6</td><td style = \"text-align: right;\">7</td><td style = \"text-align: right;\">3</td><td style = \"text-align: right;\">2</td><td style = \"text-align: right;\">2</td><td style = \"text-align: right;\">1</td><td style = \"text-align: right;\">999</td><td style = \"text-align: right;\">98</td><td style = \"text-align: right;\">3074</td><td style = \"text-align: right;\">true</td></tr><tr><td class = \"rowNumber\" style = \"font-weight: bold; text-align: right;\">17</td><td style = \"text-align: left;\">j43 m43 b58</td><td style = \"text-align: right;\">2</td><td style = \"text-align: right;\">6</td><td style = \"text-align: right;\">9</td><td style = \"text-align: right;\">7</td><td style = \"text-align: right;\">2</td><td style = \"text-align: right;\">5</td><td style = \"text-align: right;\">999</td><td style = \"text-align: right;\">93</td><td style = \"text-align: right;\">3026</td><td style = \"text-align: right;\">false</td></tr><tr><td class = \"rowNumber\" style = \"font-weight: bold; text-align: right;\">18</td><td style = \"text-align: left;\">j57 m89 b45</td><td style = \"text-align: right;\">3</td><td style = \"text-align: right;\">6</td><td style = \"text-align: right;\">2</td><td style = \"text-align: right;\">6</td><td style = \"text-align: right;\">6</td><td style = \"text-align: right;\">5</td><td style = \"text-align: right;\">999</td><td style = \"text-align: right;\">92</td><td style = \"text-align: right;\">2469</td><td style = \"text-align: right;\">false</td></tr><tr><td class = \"rowNumber\" style = \"font-weight: bold; text-align: right;\">19</td><td style = \"text-align: left;\">j43 m66 b45</td><td style = \"text-align: right;\">4</td><td style = \"text-align: right;\">5</td><td style = \"text-align: right;\">2</td><td style = \"text-align: right;\">8</td><td style = \"text-align: right;\">9</td><td style = \"text-align: right;\">2</td><td style = \"text-align: right;\">999</td><td style = \"text-align: right;\">98</td><td style = \"text-align: right;\">2233</td><td style = \"text-align: right;\">false</td></tr><tr><td class = \"rowNumber\" style = \"font-weight: bold; text-align: right;\">20</td><td style = \"text-align: left;\">j39 m78 b38</td><td style = \"text-align: right;\">4</td><td style = \"text-align: right;\">6</td><td style = \"text-align: right;\">9</td><td style = \"text-align: right;\">3</td><td style = \"text-align: right;\">6</td><td style = \"text-align: right;\">1</td><td style = \"text-align: right;\">999</td><td style = \"text-align: right;\">100</td><td style = \"text-align: right;\">2199</td><td style = \"text-align: right;\">false</td></tr></tbody></table></div>"
      ],
      "text/latex": [
       "\\begin{tabular}{r|ccccccccccc}\n",
       "\t& name & h & f & l & p & r & s & a1 & cost & count & globalnash\\\\\n",
       "\t\\hline\n",
       "\t& String & Int64 & Int64 & Int64 & Int64 & Int64 & Int64 & Int64 & Int64 & Int64 & Bool\\\\\n",
       "\t\\hline\n",
       "\t1 & j39 m41 b68 & 7 & 3 & 5 & 1 & 5 & 3 & 999 & 91 & 8164 & 0 \\\\\n",
       "\t2 & j68 m89 b45 & 3 & 6 & 2 & 7 & 6 & 4 & 999 & 95 & 7646 & 1 \\\\\n",
       "\t3 & j39 m51 b66 & 7 & 2 & 6 & 3 & 1 & 1 & 999 & 94 & 5266 & 1 \\\\\n",
       "\t4 & j43 m66 b58 & 1 & 6 & 9 & 3 & 7 & 6 & 999 & 99 & 4847 & 0 \\\\\n",
       "\t5 & j70 m78 b68 & 5 & 3 & 6 & 5 & 6 & 6 & 999 & 95 & 4456 & 1 \\\\\n",
       "\t6 & j47 m66 b58 & 1 & 7 & 9 & 1 & 7 & 5 & 999 & 100 & 4124 & 0 \\\\\n",
       "\t7 & j39 m65 b73 & 5 & 1 & 6 & 6 & 2 & 8 & 999 & 98 & 4114 & 1 \\\\\n",
       "\t8 & j39 m47 b38 & 5 & 6 & 7 & 1 & 6 & 1 & 999 & 90 & 3983 & 1 \\\\\n",
       "\t9 & j39 m47 b76 & 8 & 5 & 3 & 2 & 2 & 1 & 999 & 93 & 3886 & 0 \\\\\n",
       "\t10 & j52 m60 b45 & 4 & 7 & 2 & 8 & 4 & 2 & 999 & 100 & 3741 & 1 \\\\\n",
       "\t11 & j37 m75 b58 & 3 & 4 & 9 & 7 & 2 & 6 & 999 & 99 & 3673 & 0 \\\\\n",
       "\t12 & j70 m89 b45 & 3 & 5 & 3 & 6 & 6 & 7 & 999 & 97 & 3531 & 1 \\\\\n",
       "\t13 & j39 m44 b93 & 6 & 1 & 7 & 8 & 2 & 2 & 999 & 94 & 3285 & 0 \\\\\n",
       "\t14 & j39 m65 b68 & 7 & 3 & 4 & 1 & 6 & 6 & 999 & 98 & 3125 & 0 \\\\\n",
       "\t15 & j39 m44 b85 & 5 & 1 & 8 & 5 & 1 & 6 & 999 & 93 & 3093 & 0 \\\\\n",
       "\t16 & j52 m47 b76 & 6 & 7 & 3 & 2 & 2 & 1 & 999 & 98 & 3074 & 1 \\\\\n",
       "\t17 & j43 m43 b58 & 2 & 6 & 9 & 7 & 2 & 5 & 999 & 93 & 3026 & 0 \\\\\n",
       "\t18 & j57 m89 b45 & 3 & 6 & 2 & 6 & 6 & 5 & 999 & 92 & 2469 & 0 \\\\\n",
       "\t19 & j43 m66 b45 & 4 & 5 & 2 & 8 & 9 & 2 & 999 & 98 & 2233 & 0 \\\\\n",
       "\t20 & j39 m78 b38 & 4 & 6 & 9 & 3 & 6 & 1 & 999 & 100 & 2199 & 0 \\\\\n",
       "\\end{tabular}\n"
      ],
      "text/plain": [
       "\u001b[1m20×11 DataFrame\u001b[0m\n",
       "\u001b[1m Row \u001b[0m│\u001b[1m name        \u001b[0m\u001b[1m h     \u001b[0m\u001b[1m f     \u001b[0m\u001b[1m l     \u001b[0m\u001b[1m p     \u001b[0m\u001b[1m r     \u001b[0m\u001b[1m s     \u001b[0m\u001b[1m a1    \u001b[0m\u001b[1m cost  \u001b[0m\u001b[1m co\u001b[0m ⋯\n",
       "     │\u001b[90m String      \u001b[0m\u001b[90m Int64 \u001b[0m\u001b[90m Int64 \u001b[0m\u001b[90m Int64 \u001b[0m\u001b[90m Int64 \u001b[0m\u001b[90m Int64 \u001b[0m\u001b[90m Int64 \u001b[0m\u001b[90m Int64 \u001b[0m\u001b[90m Int64 \u001b[0m\u001b[90m In\u001b[0m ⋯\n",
       "─────┼──────────────────────────────────────────────────────────────────────────\n",
       "   1 │ j39 m41 b68      7      3      5      1      5      3    999     91   8 ⋯\n",
       "   2 │ j68 m89 b45      3      6      2      7      6      4    999     95   7\n",
       "   3 │ j39 m51 b66      7      2      6      3      1      1    999     94   5\n",
       "   4 │ j43 m66 b58      1      6      9      3      7      6    999     99   4\n",
       "   5 │ j70 m78 b68      5      3      6      5      6      6    999     95   4 ⋯\n",
       "   6 │ j47 m66 b58      1      7      9      1      7      5    999    100   4\n",
       "   7 │ j39 m65 b73      5      1      6      6      2      8    999     98   4\n",
       "   8 │ j39 m47 b38      5      6      7      1      6      1    999     90   3\n",
       "   9 │ j39 m47 b76      8      5      3      2      2      1    999     93   3 ⋯\n",
       "  10 │ j52 m60 b45      4      7      2      8      4      2    999    100   3\n",
       "  11 │ j37 m75 b58      3      4      9      7      2      6    999     99   3\n",
       "  12 │ j70 m89 b45      3      5      3      6      6      7    999     97   3\n",
       "  13 │ j39 m44 b93      6      1      7      8      2      2    999     94   3 ⋯\n",
       "  14 │ j39 m65 b68      7      3      4      1      6      6    999     98   3\n",
       "  15 │ j39 m44 b85      5      1      8      5      1      6    999     93   3\n",
       "  16 │ j52 m47 b76      6      7      3      2      2      1    999     98   3\n",
       "  17 │ j43 m43 b58      2      6      9      7      2      5    999     93   3 ⋯\n",
       "  18 │ j57 m89 b45      3      6      2      6      6      5    999     92   2\n",
       "  19 │ j43 m66 b45      4      5      2      8      9      2    999     98   2\n",
       "  20 │ j39 m78 b38      4      6      9      3      6      1    999    100   2\n",
       "\u001b[36m                                                               2 columns omitted\u001b[0m"
      ]
     },
     "execution_count": 76,
     "metadata": {},
     "output_type": "execute_result"
    }
   ],
   "source": [
    "df[sortperm(-df.count)[1:20], :]"
   ]
  },
  {
   "cell_type": "code",
   "execution_count": 77,
   "id": "8f6325ae",
   "metadata": {},
   "outputs": [
    {
     "data": {
      "text/plain": [
       "51"
      ]
     },
     "execution_count": 77,
     "metadata": {},
     "output_type": "execute_result"
    }
   ],
   "source": [
    "ne = libsub[counts1 .> 10];\n",
    "length(ne)"
   ]
  },
  {
   "cell_type": "code",
   "execution_count": 111,
   "id": "f797aea5",
   "metadata": {},
   "outputs": [],
   "source": [
    "w_ne = counts1[counts1 .> 10];\n",
    "w_ne = w_ne ./ sum(w_ne);"
   ]
  },
  {
   "cell_type": "code",
   "execution_count": 78,
   "id": "78c7b873",
   "metadata": {},
   "outputs": [
    {
     "data": {
      "text/plain": [
       "19"
      ]
     },
     "execution_count": 78,
     "metadata": {},
     "output_type": "execute_result"
    }
   ],
   "source": [
    "length(intersect(Set(nash_env), Set(ne)))"
   ]
  },
  {
   "cell_type": "code",
   "execution_count": 138,
   "id": "d25d618d",
   "metadata": {},
   "outputs": [
    {
     "data": {
      "text/plain": [
       "6-element Vector{Vector{Int64}}:\n",
       " [1, 2, 3, 4, 5, 6, 7, 8]\n",
       " [1, 2, 3, 4, 5, 6, 7, 8]\n",
       " [1, 2, 3, 4, 5, 6, 7, 8, 9]\n",
       " [1, 2, 3, 4, 5, 6, 7, 8, 9]\n",
       " [1, 2, 3, 4, 5, 6, 7, 8, 9]\n",
       " [1, 2, 3, 4, 5, 6, 7, 8]"
      ]
     },
     "execution_count": 138,
     "metadata": {},
     "output_type": "execute_result"
    }
   ],
   "source": [
    "[sort(unique(spuds_to_df(ne)[:, i])) for i in 2:7]"
   ]
  },
  {
   "cell_type": "markdown",
   "id": "0f802d52",
   "metadata": {},
   "source": [
    "### Strategy: round-specific nash equilibrium\n",
    "\n",
    "If both players' spuds are mutually known, and both players have to generate a spud with the constrain that it maximally beats the opponent's known spuds, what are the optimal strategies?  Does it cause spuds outside the unconditional nash equilibria to become useful?"
   ]
  },
  {
   "cell_type": "code",
   "execution_count": 125,
   "id": "0c9a7279",
   "metadata": {},
   "outputs": [
    {
     "data": {
      "text/html": [
       "<div><div style = \"float: left;\"><span>3×9 DataFrame</span></div><div style = \"clear: both;\"></div></div><div class = \"data-frame\" style = \"overflow-x: scroll;\"><table class = \"data-frame\" style = \"margin-bottom: 6px;\"><thead><tr class = \"header\"><th class = \"rowNumber\" style = \"font-weight: bold; text-align: right;\">Row</th><th style = \"text-align: left;\">name</th><th style = \"text-align: left;\">h</th><th style = \"text-align: left;\">f</th><th style = \"text-align: left;\">l</th><th style = \"text-align: left;\">p</th><th style = \"text-align: left;\">r</th><th style = \"text-align: left;\">s</th><th style = \"text-align: left;\">a1</th><th style = \"text-align: left;\">cost</th></tr><tr class = \"subheader headerLastRow\"><th class = \"rowNumber\" style = \"font-weight: bold; text-align: right;\"></th><th title = \"String\" style = \"text-align: left;\">String</th><th title = \"Int64\" style = \"text-align: left;\">Int64</th><th title = \"Int64\" style = \"text-align: left;\">Int64</th><th title = \"Int64\" style = \"text-align: left;\">Int64</th><th title = \"Int64\" style = \"text-align: left;\">Int64</th><th title = \"Int64\" style = \"text-align: left;\">Int64</th><th title = \"Int64\" style = \"text-align: left;\">Int64</th><th title = \"Int64\" style = \"text-align: left;\">Int64</th><th title = \"Int64\" style = \"text-align: left;\">Int64</th></tr></thead><tbody><tr><td class = \"rowNumber\" style = \"font-weight: bold; text-align: right;\">1</td><td style = \"text-align: left;\">j39 m47 b76</td><td style = \"text-align: right;\">8</td><td style = \"text-align: right;\">5</td><td style = \"text-align: right;\">3</td><td style = \"text-align: right;\">2</td><td style = \"text-align: right;\">2</td><td style = \"text-align: right;\">1</td><td style = \"text-align: right;\">999</td><td style = \"text-align: right;\">93</td></tr><tr><td class = \"rowNumber\" style = \"font-weight: bold; text-align: right;\">2</td><td style = \"text-align: left;\">j52 m78 b38</td><td style = \"text-align: right;\">2</td><td style = \"text-align: right;\">8</td><td style = \"text-align: right;\">9</td><td style = \"text-align: right;\">3</td><td style = \"text-align: right;\">6</td><td style = \"text-align: right;\">1</td><td style = \"text-align: right;\">999</td><td style = \"text-align: right;\">85</td></tr><tr><td class = \"rowNumber\" style = \"font-weight: bold; text-align: right;\">3</td><td style = \"text-align: left;\">j37 m75 b38</td><td style = \"text-align: right;\">4</td><td style = \"text-align: right;\">4</td><td style = \"text-align: right;\">9</td><td style = \"text-align: right;\">7</td><td style = \"text-align: right;\">6</td><td style = \"text-align: right;\">1</td><td style = \"text-align: right;\">999</td><td style = \"text-align: right;\">97</td></tr></tbody></table></div>"
      ],
      "text/latex": [
       "\\begin{tabular}{r|ccccccccc}\n",
       "\t& name & h & f & l & p & r & s & a1 & cost\\\\\n",
       "\t\\hline\n",
       "\t& String & Int64 & Int64 & Int64 & Int64 & Int64 & Int64 & Int64 & Int64\\\\\n",
       "\t\\hline\n",
       "\t1 & j39 m47 b76 & 8 & 5 & 3 & 2 & 2 & 1 & 999 & 93 \\\\\n",
       "\t2 & j52 m78 b38 & 2 & 8 & 9 & 3 & 6 & 1 & 999 & 85 \\\\\n",
       "\t3 & j37 m75 b38 & 4 & 4 & 9 & 7 & 6 & 1 & 999 & 97 \\\\\n",
       "\\end{tabular}\n"
      ],
      "text/plain": [
       "\u001b[1m3×9 DataFrame\u001b[0m\n",
       "\u001b[1m Row \u001b[0m│\u001b[1m name        \u001b[0m\u001b[1m h     \u001b[0m\u001b[1m f     \u001b[0m\u001b[1m l     \u001b[0m\u001b[1m p     \u001b[0m\u001b[1m r     \u001b[0m\u001b[1m s     \u001b[0m\u001b[1m a1    \u001b[0m\u001b[1m cost  \u001b[0m\n",
       "     │\u001b[90m String      \u001b[0m\u001b[90m Int64 \u001b[0m\u001b[90m Int64 \u001b[0m\u001b[90m Int64 \u001b[0m\u001b[90m Int64 \u001b[0m\u001b[90m Int64 \u001b[0m\u001b[90m Int64 \u001b[0m\u001b[90m Int64 \u001b[0m\u001b[90m Int64 \u001b[0m\n",
       "─────┼─────────────────────────────────────────────────────────────────────\n",
       "   1 │ j39 m47 b76      8      5      3      2      2      1    999     93\n",
       "   2 │ j52 m78 b38      2      8      9      3      6      1    999     85\n",
       "   3 │ j37 m75 b38      4      4      9      7      6      1    999     97"
      ]
     },
     "execution_count": 125,
     "metadata": {},
     "output_type": "execute_result"
    }
   ],
   "source": [
    "team1= [rand(ne) for i in 1:3]\n",
    "team2= [rand(ne) for i in 1:3]\n",
    "spuds_to_df(team1)"
   ]
  },
  {
   "cell_type": "code",
   "execution_count": 126,
   "id": "a8023fd7",
   "metadata": {},
   "outputs": [
    {
     "data": {
      "text/html": [
       "<div><div style = \"float: left;\"><span>3×9 DataFrame</span></div><div style = \"clear: both;\"></div></div><div class = \"data-frame\" style = \"overflow-x: scroll;\"><table class = \"data-frame\" style = \"margin-bottom: 6px;\"><thead><tr class = \"header\"><th class = \"rowNumber\" style = \"font-weight: bold; text-align: right;\">Row</th><th style = \"text-align: left;\">name</th><th style = \"text-align: left;\">h</th><th style = \"text-align: left;\">f</th><th style = \"text-align: left;\">l</th><th style = \"text-align: left;\">p</th><th style = \"text-align: left;\">r</th><th style = \"text-align: left;\">s</th><th style = \"text-align: left;\">a1</th><th style = \"text-align: left;\">cost</th></tr><tr class = \"subheader headerLastRow\"><th class = \"rowNumber\" style = \"font-weight: bold; text-align: right;\"></th><th title = \"String\" style = \"text-align: left;\">String</th><th title = \"Int64\" style = \"text-align: left;\">Int64</th><th title = \"Int64\" style = \"text-align: left;\">Int64</th><th title = \"Int64\" style = \"text-align: left;\">Int64</th><th title = \"Int64\" style = \"text-align: left;\">Int64</th><th title = \"Int64\" style = \"text-align: left;\">Int64</th><th title = \"Int64\" style = \"text-align: left;\">Int64</th><th title = \"Int64\" style = \"text-align: left;\">Int64</th><th title = \"Int64\" style = \"text-align: left;\">Int64</th></tr></thead><tbody><tr><td class = \"rowNumber\" style = \"font-weight: bold; text-align: right;\">1</td><td style = \"text-align: left;\">j80 m72 b38</td><td style = \"text-align: right;\">2</td><td style = \"text-align: right;\">6</td><td style = \"text-align: right;\">8</td><td style = \"text-align: right;\">4</td><td style = \"text-align: right;\">7</td><td style = \"text-align: right;\">3</td><td style = \"text-align: right;\">999</td><td style = \"text-align: right;\">93</td></tr><tr><td class = \"rowNumber\" style = \"font-weight: bold; text-align: right;\">2</td><td style = \"text-align: left;\">j57 m65 b45</td><td style = \"text-align: right;\">4</td><td style = \"text-align: right;\">6</td><td style = \"text-align: right;\">2</td><td style = \"text-align: right;\">4</td><td style = \"text-align: right;\">4</td><td style = \"text-align: right;\">6</td><td style = \"text-align: right;\">999</td><td style = \"text-align: right;\">83</td></tr><tr><td class = \"rowNumber\" style = \"font-weight: bold; text-align: right;\">3</td><td style = \"text-align: left;\">j80 m72 b58</td><td style = \"text-align: right;\">1</td><td style = \"text-align: right;\">6</td><td style = \"text-align: right;\">9</td><td style = \"text-align: right;\">4</td><td style = \"text-align: right;\">3</td><td style = \"text-align: right;\">8</td><td style = \"text-align: right;\">999</td><td style = \"text-align: right;\">95</td></tr></tbody></table></div>"
      ],
      "text/latex": [
       "\\begin{tabular}{r|ccccccccc}\n",
       "\t& name & h & f & l & p & r & s & a1 & cost\\\\\n",
       "\t\\hline\n",
       "\t& String & Int64 & Int64 & Int64 & Int64 & Int64 & Int64 & Int64 & Int64\\\\\n",
       "\t\\hline\n",
       "\t1 & j80 m72 b38 & 2 & 6 & 8 & 4 & 7 & 3 & 999 & 93 \\\\\n",
       "\t2 & j57 m65 b45 & 4 & 6 & 2 & 4 & 4 & 6 & 999 & 83 \\\\\n",
       "\t3 & j80 m72 b58 & 1 & 6 & 9 & 4 & 3 & 8 & 999 & 95 \\\\\n",
       "\\end{tabular}\n"
      ],
      "text/plain": [
       "\u001b[1m3×9 DataFrame\u001b[0m\n",
       "\u001b[1m Row \u001b[0m│\u001b[1m name        \u001b[0m\u001b[1m h     \u001b[0m\u001b[1m f     \u001b[0m\u001b[1m l     \u001b[0m\u001b[1m p     \u001b[0m\u001b[1m r     \u001b[0m\u001b[1m s     \u001b[0m\u001b[1m a1    \u001b[0m\u001b[1m cost  \u001b[0m\n",
       "     │\u001b[90m String      \u001b[0m\u001b[90m Int64 \u001b[0m\u001b[90m Int64 \u001b[0m\u001b[90m Int64 \u001b[0m\u001b[90m Int64 \u001b[0m\u001b[90m Int64 \u001b[0m\u001b[90m Int64 \u001b[0m\u001b[90m Int64 \u001b[0m\u001b[90m Int64 \u001b[0m\n",
       "─────┼─────────────────────────────────────────────────────────────────────\n",
       "   1 │ j80 m72 b38      2      6      8      4      7      3    999     93\n",
       "   2 │ j57 m65 b45      4      6      2      4      4      6    999     83\n",
       "   3 │ j80 m72 b58      1      6      9      4      3      8    999     95"
      ]
     },
     "execution_count": 126,
     "metadata": {},
     "output_type": "execute_result"
    }
   ],
   "source": [
    "spuds_to_df(team2)"
   ]
  },
  {
   "cell_type": "code",
   "execution_count": 127,
   "id": "54aaf5f7",
   "metadata": {},
   "outputs": [
    {
     "data": {
      "text/plain": [
       "(3, 3, 41, 80)"
      ]
     },
     "execution_count": 127,
     "metadata": {},
     "output_type": "execute_result"
    }
   ],
   "source": [
    "ev_cands2 = [eval_battle_list(ff, team1) for ff in libsub];\n",
    "ev_cands1 = [eval_battle_list(ff, team2) for ff in libsub];\n",
    "cands2 = libsub[ev_cands2 .== maximum(ev_cands2)]\n",
    "cands1 = libsub[ev_cands1 .== maximum(ev_cands1)]\n",
    "(maximum(ev_cands2), maximum(ev_cands1), length(cands2), length(cands1))"
   ]
  },
  {
   "cell_type": "code",
   "execution_count": 128,
   "id": "8ce37503",
   "metadata": {},
   "outputs": [
    {
     "name": "stdout",
     "output_type": "stream",
     "text": [
      "  0.143831 seconds (1.05 M allocations: 253.228 MiB, 39.55% gc time)\n"
     ]
    }
   ],
   "source": [
    "@time res = ffp2(cands1, cands2, 100000);"
   ]
  },
  {
   "cell_type": "code",
   "execution_count": 129,
   "id": "814a0cda",
   "metadata": {},
   "outputs": [
    {
     "data": {
      "text/plain": [
       "-0.3333297152124467"
      ]
     },
     "execution_count": 129,
     "metadata": {},
     "output_type": "execute_result"
    }
   ],
   "source": [
    "res.v"
   ]
  },
  {
   "cell_type": "code",
   "execution_count": 130,
   "id": "617ceeb7",
   "metadata": {},
   "outputs": [
    {
     "data": {
      "text/html": [
       "<div><div style = \"float: left;\"><span>3×12 DataFrame</span></div><div style = \"clear: both;\"></div></div><div class = \"data-frame\" style = \"overflow-x: scroll;\"><table class = \"data-frame\" style = \"margin-bottom: 6px;\"><thead><tr class = \"header\"><th class = \"rowNumber\" style = \"font-weight: bold; text-align: right;\">Row</th><th style = \"text-align: left;\">name</th><th style = \"text-align: left;\">h</th><th style = \"text-align: left;\">f</th><th style = \"text-align: left;\">l</th><th style = \"text-align: left;\">p</th><th style = \"text-align: left;\">r</th><th style = \"text-align: left;\">s</th><th style = \"text-align: left;\">a1</th><th style = \"text-align: left;\">cost</th><th style = \"text-align: left;\">w</th><th style = \"text-align: left;\">nash</th><th style = \"text-align: left;\">v</th></tr><tr class = \"subheader headerLastRow\"><th class = \"rowNumber\" style = \"font-weight: bold; text-align: right;\"></th><th title = \"String\" style = \"text-align: left;\">String</th><th title = \"Int64\" style = \"text-align: left;\">Int64</th><th title = \"Int64\" style = \"text-align: left;\">Int64</th><th title = \"Int64\" style = \"text-align: left;\">Int64</th><th title = \"Int64\" style = \"text-align: left;\">Int64</th><th title = \"Int64\" style = \"text-align: left;\">Int64</th><th title = \"Int64\" style = \"text-align: left;\">Int64</th><th title = \"Int64\" style = \"text-align: left;\">Int64</th><th title = \"Int64\" style = \"text-align: left;\">Int64</th><th title = \"Float64\" style = \"text-align: left;\">Float64</th><th title = \"Bool\" style = \"text-align: left;\">Bool</th><th title = \"Float64\" style = \"text-align: left;\">Float64</th></tr></thead><tbody><tr><td class = \"rowNumber\" style = \"font-weight: bold; text-align: right;\">1</td><td style = \"text-align: left;\">j39 m41 b68</td><td style = \"text-align: right;\">7</td><td style = \"text-align: right;\">3</td><td style = \"text-align: right;\">5</td><td style = \"text-align: right;\">1</td><td style = \"text-align: right;\">5</td><td style = \"text-align: right;\">3</td><td style = \"text-align: right;\">999</td><td style = \"text-align: right;\">91</td><td style = \"text-align: right;\">0.334293</td><td style = \"text-align: right;\">true</td><td style = \"text-align: right;\">0.00318863</td></tr><tr><td class = \"rowNumber\" style = \"font-weight: bold; text-align: right;\">2</td><td style = \"text-align: left;\">j57 m89 b45</td><td style = \"text-align: right;\">3</td><td style = \"text-align: right;\">6</td><td style = \"text-align: right;\">2</td><td style = \"text-align: right;\">6</td><td style = \"text-align: right;\">6</td><td style = \"text-align: right;\">5</td><td style = \"text-align: right;\">999</td><td style = \"text-align: right;\">92</td><td style = \"text-align: right;\">0.331655</td><td style = \"text-align: right;\">true</td><td style = \"text-align: right;\">-0.0217307</td></tr><tr><td class = \"rowNumber\" style = \"font-weight: bold; text-align: right;\">3</td><td style = \"text-align: left;\">j57 m47 b45</td><td style = \"text-align: right;\">5</td><td style = \"text-align: right;\">6</td><td style = \"text-align: right;\">1</td><td style = \"text-align: right;\">6</td><td style = \"text-align: right;\">4</td><td style = \"text-align: right;\">3</td><td style = \"text-align: right;\">999</td><td style = \"text-align: right;\">78</td><td style = \"text-align: right;\">0.333283</td><td style = \"text-align: right;\">false</td><td style = \"text-align: right;\">-0.0664614</td></tr></tbody></table></div>"
      ],
      "text/latex": [
       "\\begin{tabular}{r|cccccccccccc}\n",
       "\t& name & h & f & l & p & r & s & a1 & cost & w & nash & \\\\\n",
       "\t\\hline\n",
       "\t& String & Int64 & Int64 & Int64 & Int64 & Int64 & Int64 & Int64 & Int64 & Float64 & Bool & \\\\\n",
       "\t\\hline\n",
       "\t1 & j39 m41 b68 & 7 & 3 & 5 & 1 & 5 & 3 & 999 & 91 & 0.334293 & 1 & $\\dots$ \\\\\n",
       "\t2 & j57 m89 b45 & 3 & 6 & 2 & 6 & 6 & 5 & 999 & 92 & 0.331655 & 1 & $\\dots$ \\\\\n",
       "\t3 & j57 m47 b45 & 5 & 6 & 1 & 6 & 4 & 3 & 999 & 78 & 0.333283 & 0 & $\\dots$ \\\\\n",
       "\\end{tabular}\n"
      ],
      "text/plain": [
       "\u001b[1m3×12 DataFrame\u001b[0m\n",
       "\u001b[1m Row \u001b[0m│\u001b[1m name        \u001b[0m\u001b[1m h     \u001b[0m\u001b[1m f     \u001b[0m\u001b[1m l     \u001b[0m\u001b[1m p     \u001b[0m\u001b[1m r     \u001b[0m\u001b[1m s     \u001b[0m\u001b[1m a1    \u001b[0m\u001b[1m cost  \u001b[0m\u001b[1m w \u001b[0m ⋯\n",
       "     │\u001b[90m String      \u001b[0m\u001b[90m Int64 \u001b[0m\u001b[90m Int64 \u001b[0m\u001b[90m Int64 \u001b[0m\u001b[90m Int64 \u001b[0m\u001b[90m Int64 \u001b[0m\u001b[90m Int64 \u001b[0m\u001b[90m Int64 \u001b[0m\u001b[90m Int64 \u001b[0m\u001b[90m Fl\u001b[0m ⋯\n",
       "─────┼──────────────────────────────────────────────────────────────────────────\n",
       "   1 │ j39 m41 b68      7      3      5      1      5      3    999     91  0. ⋯\n",
       "   2 │ j57 m89 b45      3      6      2      6      6      5    999     92  0.\n",
       "   3 │ j57 m47 b45      5      6      1      6      4      3    999     78  0.\n",
       "\u001b[36m                                                               3 columns omitted\u001b[0m"
      ]
     },
     "execution_count": 130,
     "metadata": {},
     "output_type": "execute_result"
    }
   ],
   "source": [
    "top_cands1 = cands1[res.w1 .> 0.01]\n",
    "df1 = spuds_to_df(top_cands1)\n",
    "df1[:, :w] = res.w1[res.w1 .> 0.01]\n",
    "df1[:, :nash] = [c in ne for c in top_cands1]\n",
    "df1[:, :v] = [eval_battle_list2(c, ne, w_ne) for c in top_cands1]\n",
    "df1[sortperm(-df1.v), :]"
   ]
  },
  {
   "cell_type": "code",
   "execution_count": 131,
   "id": "ef658910",
   "metadata": {},
   "outputs": [
    {
     "data": {
      "text/html": [
       "<div><div style = \"float: left;\"><span>3×12 DataFrame</span></div><div style = \"clear: both;\"></div></div><div class = \"data-frame\" style = \"overflow-x: scroll;\"><table class = \"data-frame\" style = \"margin-bottom: 6px;\"><thead><tr class = \"header\"><th class = \"rowNumber\" style = \"font-weight: bold; text-align: right;\">Row</th><th style = \"text-align: left;\">name</th><th style = \"text-align: left;\">h</th><th style = \"text-align: left;\">f</th><th style = \"text-align: left;\">l</th><th style = \"text-align: left;\">p</th><th style = \"text-align: left;\">r</th><th style = \"text-align: left;\">s</th><th style = \"text-align: left;\">a1</th><th style = \"text-align: left;\">cost</th><th style = \"text-align: left;\">w</th><th style = \"text-align: left;\">nash</th><th style = \"text-align: left;\">v</th></tr><tr class = \"subheader headerLastRow\"><th class = \"rowNumber\" style = \"font-weight: bold; text-align: right;\"></th><th title = \"String\" style = \"text-align: left;\">String</th><th title = \"Int64\" style = \"text-align: left;\">Int64</th><th title = \"Int64\" style = \"text-align: left;\">Int64</th><th title = \"Int64\" style = \"text-align: left;\">Int64</th><th title = \"Int64\" style = \"text-align: left;\">Int64</th><th title = \"Int64\" style = \"text-align: left;\">Int64</th><th title = \"Int64\" style = \"text-align: left;\">Int64</th><th title = \"Int64\" style = \"text-align: left;\">Int64</th><th title = \"Int64\" style = \"text-align: left;\">Int64</th><th title = \"Float64\" style = \"text-align: left;\">Float64</th><th title = \"Bool\" style = \"text-align: left;\">Bool</th><th title = \"Float64\" style = \"text-align: left;\">Float64</th></tr></thead><tbody><tr><td class = \"rowNumber\" style = \"font-weight: bold; text-align: right;\">1</td><td style = \"text-align: left;\">j47 m79 b89</td><td style = \"text-align: right;\">5</td><td style = \"text-align: right;\">4</td><td style = \"text-align: right;\">5</td><td style = \"text-align: right;\">1</td><td style = \"text-align: right;\">7</td><td style = \"text-align: right;\">6</td><td style = \"text-align: right;\">999</td><td style = \"text-align: right;\">89</td><td style = \"text-align: right;\">0.334853</td><td style = \"text-align: right;\">true</td><td style = \"text-align: right;\">-0.00277881</td></tr><tr><td class = \"rowNumber\" style = \"font-weight: bold; text-align: right;\">2</td><td style = \"text-align: left;\">j78 m79 b89</td><td style = \"text-align: right;\">6</td><td style = \"text-align: right;\">4</td><td style = \"text-align: right;\">4</td><td style = \"text-align: right;\">1</td><td style = \"text-align: right;\">7</td><td style = \"text-align: right;\">6</td><td style = \"text-align: right;\">999</td><td style = \"text-align: right;\">100</td><td style = \"text-align: right;\">0.332914</td><td style = \"text-align: right;\">false</td><td style = \"text-align: right;\">-0.104545</td></tr><tr><td class = \"rowNumber\" style = \"font-weight: bold; text-align: right;\">3</td><td style = \"text-align: left;\">j78 m78 b68</td><td style = \"text-align: right;\">6</td><td style = \"text-align: right;\">4</td><td style = \"text-align: right;\">5</td><td style = \"text-align: right;\">5</td><td style = \"text-align: right;\">6</td><td style = \"text-align: right;\">3</td><td style = \"text-align: right;\">999</td><td style = \"text-align: right;\">97</td><td style = \"text-align: right;\">0.331854</td><td style = \"text-align: right;\">false</td><td style = \"text-align: right;\">-0.167578</td></tr></tbody></table></div>"
      ],
      "text/latex": [
       "\\begin{tabular}{r|cccccccccccc}\n",
       "\t& name & h & f & l & p & r & s & a1 & cost & w & nash & \\\\\n",
       "\t\\hline\n",
       "\t& String & Int64 & Int64 & Int64 & Int64 & Int64 & Int64 & Int64 & Int64 & Float64 & Bool & \\\\\n",
       "\t\\hline\n",
       "\t1 & j47 m79 b89 & 5 & 4 & 5 & 1 & 7 & 6 & 999 & 89 & 0.334853 & 1 & $\\dots$ \\\\\n",
       "\t2 & j78 m79 b89 & 6 & 4 & 4 & 1 & 7 & 6 & 999 & 100 & 0.332914 & 0 & $\\dots$ \\\\\n",
       "\t3 & j78 m78 b68 & 6 & 4 & 5 & 5 & 6 & 3 & 999 & 97 & 0.331854 & 0 & $\\dots$ \\\\\n",
       "\\end{tabular}\n"
      ],
      "text/plain": [
       "\u001b[1m3×12 DataFrame\u001b[0m\n",
       "\u001b[1m Row \u001b[0m│\u001b[1m name        \u001b[0m\u001b[1m h     \u001b[0m\u001b[1m f     \u001b[0m\u001b[1m l     \u001b[0m\u001b[1m p     \u001b[0m\u001b[1m r     \u001b[0m\u001b[1m s     \u001b[0m\u001b[1m a1    \u001b[0m\u001b[1m cost  \u001b[0m\u001b[1m w \u001b[0m ⋯\n",
       "     │\u001b[90m String      \u001b[0m\u001b[90m Int64 \u001b[0m\u001b[90m Int64 \u001b[0m\u001b[90m Int64 \u001b[0m\u001b[90m Int64 \u001b[0m\u001b[90m Int64 \u001b[0m\u001b[90m Int64 \u001b[0m\u001b[90m Int64 \u001b[0m\u001b[90m Int64 \u001b[0m\u001b[90m Fl\u001b[0m ⋯\n",
       "─────┼──────────────────────────────────────────────────────────────────────────\n",
       "   1 │ j47 m79 b89      5      4      5      1      7      6    999     89  0. ⋯\n",
       "   2 │ j78 m79 b89      6      4      4      1      7      6    999    100  0.\n",
       "   3 │ j78 m78 b68      6      4      5      5      6      3    999     97  0.\n",
       "\u001b[36m                                                               3 columns omitted\u001b[0m"
      ]
     },
     "execution_count": 131,
     "metadata": {},
     "output_type": "execute_result"
    }
   ],
   "source": [
    "top_cands2 = cands2[res.w2 .> 0.01]\n",
    "df2 = spuds_to_df(top_cands2)\n",
    "df2[:, :w] = res.w2[res.w2 .> 0.01]\n",
    "df2[:, :nash] = [c in ne for c in top_cands2]\n",
    "df2[:, :v] = [eval_battle_list2(c, ne, w_ne) for c in top_cands2]\n",
    "df2[sortperm(-df2.v), :]"
   ]
  },
  {
   "cell_type": "code",
   "execution_count": 132,
   "id": "45f317fb",
   "metadata": {},
   "outputs": [
    {
     "data": {
      "text/plain": [
       "3×3 Matrix{Int64}:\n",
       " -1   1  -1\n",
       " -1  -1   1\n",
       "  1  -1  -1"
      ]
     },
     "execution_count": 132,
     "metadata": {},
     "output_type": "execute_result"
    }
   ],
   "source": [
    "payoffs2(top_cands1[sortperm(-df1.v)], top_cands2[sortperm(-df2.v)])"
   ]
  },
  {
   "cell_type": "code",
   "execution_count": null,
   "id": "f97fd25f",
   "metadata": {},
   "outputs": [],
   "source": []
  }
 ],
 "metadata": {
  "kernelspec": {
   "display_name": "Julia 1.9.3",
   "language": "julia",
   "name": "julia-1.9"
  },
  "language_info": {
   "file_extension": ".jl",
   "mimetype": "application/julia",
   "name": "julia",
   "version": "1.9.3"
  }
 },
 "nbformat": 4,
 "nbformat_minor": 5
}

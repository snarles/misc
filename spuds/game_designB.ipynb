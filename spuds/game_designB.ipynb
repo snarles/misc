{
 "cells": [
  {
   "cell_type": "markdown",
   "id": "052be005",
   "metadata": {},
   "source": [
    "Design of a new game, Spuds"
   ]
  },
  {
   "cell_type": "code",
   "execution_count": 1,
   "id": "494818e8",
   "metadata": {},
   "outputs": [],
   "source": [
    "using Random\n",
    "using DataFrames\n",
    "using CSV\n",
    "using DelimitedFiles\n",
    "using Statistics\n",
    "using Printf\n",
    "using LinearAlgebra\n",
    "using Dates"
   ]
  },
  {
   "cell_type": "code",
   "execution_count": 2,
   "id": "1e1008a1",
   "metadata": {},
   "outputs": [
    {
     "data": {
      "text/plain": [
       "cost (generic function with 1 method)"
      ]
     },
     "execution_count": 2,
     "metadata": {},
     "output_type": "execute_result"
    }
   ],
   "source": [
    "struct Spud\n",
    "    name::String\n",
    "    h::Int64\n",
    "    f::Int64\n",
    "    l::Int64\n",
    "    p::Int64\n",
    "    r::Int64\n",
    "    s::Int64\n",
    "end\n",
    "\n",
    "const MXS = 100\n",
    "const MXV = 20\n",
    "const MNV = 1\n",
    "\n",
    "function cost(h::Int64, f::Int64, l::Int64, p::Int64, r::Int64, s::Int64)::Int64\n",
    "    #return h*(f+l-2*MNV) + f*(p+r+s-3*MNV) + h+f+l+p+r+s-6*MNV\n",
    "    return h*(f+l) + f*(p+r+s)\n",
    "end"
   ]
  },
  {
   "cell_type": "code",
   "execution_count": 3,
   "id": "ac830f74",
   "metadata": {},
   "outputs": [
    {
     "data": {
      "text/plain": [
       "eval_battle (generic function with 1 method)"
      ]
     },
     "execution_count": 3,
     "metadata": {},
     "output_type": "execute_result"
    }
   ],
   "source": [
    "function compare_int_list(as::Vector{Int64}, bs::Vector{Int64}, tiebreaker::Int64 = 0)::Int64\n",
    "    n = min(length(as), length(bs))\n",
    "    for i in 1:n\n",
    "        if as[i] != bs[i]\n",
    "            return sign(as[i] - bs[i])\n",
    "        end\n",
    "    end\n",
    "    return tiebreaker\n",
    "end\n",
    "\n",
    "function spud_h_seq(a::Spud)::Vector{Int64}\n",
    "    return [a.h, a.s, a.r, a.p, a.l, a.f]\n",
    "end\n",
    "\n",
    "function spud_f_seq(a::Spud)::Vector{Int64}\n",
    "    return [a.f, a.s, a.r, a.p, a.l, a.h]\n",
    "end\n",
    "\n",
    "function spud_l_seq(a::Spud)::Vector{Int64}\n",
    "    return [a.l]\n",
    "end\n",
    "\n",
    "function spud_p_seq(a::Spud)::Vector{Int64}\n",
    "    return [a.p, a.l]\n",
    "end\n",
    "\n",
    "function spud_r_seq(a::Spud)::Vector{Int64}\n",
    "    return [a.r, a.f]\n",
    "end\n",
    "\n",
    "function spud_s_seq(a::Spud)::Vector{Int64}\n",
    "    return [a.s, a.h]\n",
    "end\n",
    "\n",
    "function eval_finds(a::Spud, b::Spud, tiebreaker::Int64 = 0)::Int64\n",
    "    ev = compare_int_list(spud_f_seq(a), spud_h_seq(b), tiebreaker)\n",
    "    ans = ev\n",
    "end\n",
    "\n",
    "function eval_melee(a::Spud, b::Spud, tiebreaker1::Int64 = 0, tiebreaker2::Int64 = 0)::Int64\n",
    "    comp_p = compare_int_list(spud_p_seq(a), spud_p_seq(b), tiebreaker1)\n",
    "    comp_r = compare_int_list(spud_r_seq(a), spud_r_seq(b), tiebreaker1)\n",
    "    comp_s = compare_int_list(spud_s_seq(a), spud_s_seq(b), tiebreaker1)\n",
    "    ev = 4 * comp_p + 3 * comp_r + 2 * comp_s\n",
    "    return ev + (1-abs(ev))*tiebreaker2\n",
    "end\n",
    "\n",
    "function eval_battle(a::Spud, b::Spud)::Int64\n",
    "    utb = 0 # universal tiebreaker\n",
    "    comp_h = compare_int_list(spud_h_seq(a), spud_h_seq(b), utb)\n",
    "    comp_f = compare_int_list(spud_h_seq(a), spud_h_seq(b), utb)\n",
    "    comp_l = compare_int_list(spud_h_seq(a), spud_h_seq(b), utb)\n",
    "    comp_p = compare_int_list(spud_h_seq(a), spud_h_seq(b), utb)\n",
    "    comp_r = compare_int_list(spud_h_seq(a), spud_h_seq(b), utb)\n",
    "    comp_s = compare_int_list(spud_h_seq(a), spud_h_seq(b), utb)\n",
    "    a_finds = eval_finds(a, b, utb)==1\n",
    "    b_finds = eval_finds(b, a, utb)==1\n",
    "    melee_win = eval_melee(a, b, 0, utb)\n",
    "    if a_finds && b_finds\n",
    "        return compare_int_list([melee_win, a.l, a.h], [-melee_win, b.l, b.h], utb)\n",
    "    end\n",
    "    if a_finds && !b_finds\n",
    "        return 1\n",
    "    end\n",
    "    if !a_finds && b_finds\n",
    "        return -1\n",
    "    end\n",
    "    if !a_finds && !b_finds\n",
    "        return compare_int_list([a.l, melee_win, a.f], [b.l, -melee_win, b.f], utb)\n",
    "    end\n",
    "end"
   ]
  },
  {
   "cell_type": "code",
   "execution_count": 4,
   "id": "40b9dc47",
   "metadata": {},
   "outputs": [
    {
     "data": {
      "text/plain": [
       "random_name_and_stat (generic function with 1 method)"
      ]
     },
     "execution_count": 4,
     "metadata": {},
     "output_type": "execute_result"
    }
   ],
   "source": [
    "tab = CSV.read(\"census_yob2022_names.txt\", DataFrame, header = false)\n",
    "names = tab.Column1\n",
    "adjectives = CSV.read(\"adjectives.csv\", DataFrame)\n",
    "nouns = CSV.read(\"nouns.csv\", DataFrame)\n",
    "jobs = CSV.read(\"jobs.csv\", DataFrame)\n",
    "\n",
    "const mult_noun = 1\n",
    "const mult_adj = 2\n",
    "const mult_job = 3\n",
    "\n",
    "\n",
    "function random_name_and_stat()::Spud\n",
    "    vp = [0, 0, 0, 0, 0, 0]\n",
    "    #nametype = rand([1,1,1,1,1,2,2,2,3])\n",
    "    name = \"\"\n",
    "    noun = \"\"\n",
    "    adj = \"\"\n",
    "    noun_i = rand(1:nrow(nouns))\n",
    "    noun = nouns[noun_i, :noun]\n",
    "    vp[1] = vp[1] + nouns[noun_i, :H] * mult_noun\n",
    "    vp[2] = vp[2] + nouns[noun_i, :F] * mult_noun\n",
    "    vp[3] = vp[3] + nouns[noun_i, :L] * mult_noun\n",
    "    vp[4] = vp[4] + nouns[noun_i, :P] * mult_noun\n",
    "    vp[5] = vp[5] + nouns[noun_i, :R] * mult_noun\n",
    "    vp[6] = vp[6] + nouns[noun_i, :S] * mult_noun\n",
    "    adj_i = rand(1:nrow(adjectives))\n",
    "    adj = adjectives[adj_i, :adjective]\n",
    "    vp[1] = vp[1] + adjectives[adj_i, :H] * mult_adj\n",
    "    vp[2] = vp[2] + adjectives[adj_i, :F] * mult_adj\n",
    "    vp[3] = vp[3] + adjectives[adj_i, :L] * mult_adj\n",
    "    vp[4] = vp[4] + adjectives[adj_i, :P] * mult_adj\n",
    "    vp[5] = vp[5] + adjectives[adj_i, :R] * mult_adj\n",
    "    vp[6] = vp[6] + adjectives[adj_i, :S] * mult_adj\n",
    "    job_i = rand(1:nrow(jobs))\n",
    "    job = jobs[job_i, :job]\n",
    "    vp[1] = vp[1] + jobs[job_i, :H] * mult_job\n",
    "    vp[2] = vp[2] + jobs[job_i, :F] * mult_job\n",
    "    vp[3] = vp[3] + jobs[job_i, :L] * mult_job\n",
    "    vp[4] = vp[4] + jobs[job_i, :P] * mult_job\n",
    "    vp[5] = vp[5] + jobs[job_i, :R] * mult_job\n",
    "    vp[6] = vp[6] + jobs[job_i, :S] * mult_job\n",
    "    name = string(adj, \" \", job, \" \", noun)\n",
    "    Spud(name, vp[1], vp[2], vp[3], vp[4], vp[5], vp[6])\n",
    "end"
   ]
  },
  {
   "cell_type": "code",
   "execution_count": 5,
   "id": "f606e085",
   "metadata": {},
   "outputs": [
    {
     "data": {
      "text/plain": [
       "rand_rename (generic function with 2 methods)"
      ]
     },
     "execution_count": 5,
     "metadata": {},
     "output_type": "execute_result"
    }
   ],
   "source": [
    "function rand_rename(a::Spud, n_tries::Int = 100)::Spud\n",
    "    best_score = 0.0\n",
    "    best_b = random_name_and_stat()\n",
    "    for ii in 1:n_tries\n",
    "        b = random_name_and_stat()\n",
    "        b_norm = sqrt(b.h^2 + b.f^2 + b.l^2 + b.p^2 + b.r^2 + b.s^2)\n",
    "        score = (a.h * b.h + a.f * b.f + a.l * b.l + a.p * b.p + a.r * b.r + a.s * b.s)/b_norm\n",
    "        if score > best_score\n",
    "            best_score = score\n",
    "            best_b = b\n",
    "        end\n",
    "    end\n",
    "    return Spud(best_b.name, a.h, a.f, a.l, a.p, a.r, a.s)\n",
    "end"
   ]
  },
  {
   "cell_type": "code",
   "execution_count": 6,
   "id": "560e9539",
   "metadata": {},
   "outputs": [
    {
     "data": {
      "text/plain": [
       "cost (generic function with 2 methods)"
      ]
     },
     "execution_count": 6,
     "metadata": {},
     "output_type": "execute_result"
    }
   ],
   "source": [
    "function eval_battle_list(a::Spud, bs::Array{Spud})::Int\n",
    "    score = 0\n",
    "    for ii in 1:length(bs)\n",
    "        score = score + eval_battle(a, bs[ii])\n",
    "    end\n",
    "    return score\n",
    "end\n",
    "\n",
    "function eval_battle_list2(a::Spud, bs::Array{Spud}, w::Vector{Float64})::AbstractFloat\n",
    "    score = 0.0\n",
    "    for ii in 1:length(bs)\n",
    "        score = score + w[ii] * eval_battle(a, bs[ii])\n",
    "    end\n",
    "    return score\n",
    "end\n",
    "\n",
    "\n",
    "function pick_best(as::Array{Spud}, bs::Array{Spud})::Spud\n",
    "    bestscore = -999\n",
    "    bestf = as[1]\n",
    "    for ii in 1:length(as)\n",
    "        score = eval_battle_list(as[ii], bs)\n",
    "        if score > bestscore\n",
    "            bestscore = score\n",
    "            bestf = as[ii]\n",
    "        end\n",
    "    end\n",
    "    return bestf\n",
    "end\n",
    "\n",
    "function pick_best_rdmly(as::Array{Spud}, bs::Array{Spud}, ntries::Int)::Spud\n",
    "    bestscore = -999\n",
    "    bestf = rand(as)\n",
    "    for ii in 1:ntries\n",
    "        f = rand(as)\n",
    "        score = eval_battle_list(f, bs)\n",
    "        if score > bestscore\n",
    "            bestscore = score\n",
    "            bestf = f\n",
    "        end\n",
    "    end\n",
    "    return bestf\n",
    "end\n",
    "\n",
    "function pick_best_rdmly_g(g::Function, bs::Array{Spud}, ntries::Int)::Spud\n",
    "    bestscore = -999\n",
    "    bestf = g()\n",
    "    for ii in 1:ntries\n",
    "        f = g()\n",
    "        score = eval_battle_list(f, bs)\n",
    "        if score > bestscore\n",
    "            bestscore = score\n",
    "            bestf = f\n",
    "        end\n",
    "    end\n",
    "    return bestf\n",
    "end\n",
    "\n",
    "function spuds_to_df(as::Array{Spud})::DataFrame\n",
    "    names = Array{String}(undef, length(as))\n",
    "    hs = Array{Int}(undef, length(as))\n",
    "    fs = Array{Int}(undef, length(as))\n",
    "    ls = Array{Int}(undef, length(as))\n",
    "    ps = Array{Int}(undef, length(as))\n",
    "    rs = Array{Int}(undef, length(as))\n",
    "    ss = Array{Int}(undef, length(as))\n",
    "    for ii in 1:length(as)\n",
    "        names[ii] = as[ii].name\n",
    "        hs[ii] = as[ii].h\n",
    "        fs[ii] = as[ii].f\n",
    "        ls[ii] = as[ii].l\n",
    "        ps[ii] = as[ii].p\n",
    "        rs[ii] = as[ii].r\n",
    "        ss[ii] = as[ii].s\n",
    "    end\n",
    "    df = DataFrame(name = names, h = hs, f = fs, l = ls, p = ps, r = rs, s = ss)\n",
    "    return df\n",
    "end\n",
    "\n",
    "function fpart(x::AbstractFloat)::AbstractFloat\n",
    "  return x - trunc(x)\n",
    "end\n",
    "\n",
    "function eval_team_battle(as::Array{Spud}, bs::Array{Spud})::Int\n",
    "    a_i = 1\n",
    "    b_i = 1\n",
    "    while (a_i <= length(as)) && (b_i <= length(bs))\n",
    "        res = eval_battle(as[a_i], bs[b_i])\n",
    "        if res == 1\n",
    "            b_i = b_i + 1\n",
    "        else\n",
    "            a_i = a_i + 1\n",
    "            if res == 0\n",
    "                b_i = b_i + 1\n",
    "            end\n",
    "        end\n",
    "    end\n",
    "    a_out = (a_i > length(as))\n",
    "    b_out = (b_i > length(as))\n",
    "    if a_out\n",
    "        if b_out\n",
    "            return 0\n",
    "        else\n",
    "            return -1\n",
    "        end\n",
    "    else\n",
    "        return 1\n",
    "    end\n",
    "end\n",
    "\n",
    "function compare_generator(f1, f2, limit)\n",
    "    a_i = 1\n",
    "    b_i = 1\n",
    "    f_a = f1()\n",
    "    f_b = f2()\n",
    "    while (a_i < limit) && (b_i < limit)\n",
    "        res = eval_battle(f_a, f_b)\n",
    "        if res != -1\n",
    "            b_i = b_i + 1\n",
    "            f_b = f2()\n",
    "        end\n",
    "        if res != 1\n",
    "            a_i = a_i + 1\n",
    "            f_a = f1()\n",
    "        end\n",
    "    end\n",
    "    return (a_i/limit, b_i/limit)\n",
    "end\n",
    "\n",
    "function random_team(f::Function, team_size::Int)::Array{Spud}\n",
    "    team = Array{Spud}(undef, team_size)\n",
    "    for i in 1:team_size\n",
    "        team[i] = f()\n",
    "    end\n",
    "    return team\n",
    "end\n",
    "\n",
    "function df_to_spuds(df::DataFrame)::Array{Spud}\n",
    "    n = size(df)[1]\n",
    "    as = Array{Spud}(undef, n)\n",
    "    for i in 1:n\n",
    "        as[i] = Spud(df[i, :name], df[i, :h], df[i, :f], df[i, :l], df[i, :p], df[i, :r], df[i, :s])\n",
    "    end\n",
    "    return as\n",
    "end\n",
    "\n",
    "function cost(a::Spud)::Int64\n",
    "    return cost(a.h, a.f, a.l, a.p, a.r, a.s)\n",
    "end"
   ]
  },
  {
   "cell_type": "code",
   "execution_count": 7,
   "id": "bd2b243d",
   "metadata": {},
   "outputs": [
    {
     "data": {
      "text/plain": [
       "pick_best_library (generic function with 1 method)"
      ]
     },
     "execution_count": 7,
     "metadata": {},
     "output_type": "execute_result"
    }
   ],
   "source": [
    "function upgrade_spud(sp::Spud)::Spud\n",
    "    h = sp.h\n",
    "    f = sp.f\n",
    "    l = sp.l\n",
    "    p = sp.p\n",
    "    r = sp.r\n",
    "    s = sp.s    \n",
    "    check_h = (h == MXV) || (cost(h+1,f,l,p,r,s) > MXS)\n",
    "    check_f = (f == MXV) || (cost(h,f+1,l,p,r,s) > MXS)\n",
    "    check_l = (l == MXV) || (cost(h,f,l+1,p,r,s) > MXS)\n",
    "    check_prs = (p+r+s == 3*MXV) || (cost(h,f,l,p+1,r,s) > MXS)\n",
    "    while !(check_h && check_f && check_l && check_prs)\n",
    "        rand_i = rand(1:4)\n",
    "        if rand_i == 1 && !check_h\n",
    "            h = h+1\n",
    "        end\n",
    "        if rand_i == 2 && !check_f\n",
    "            f = f+1\n",
    "        end\n",
    "        if rand_i == 3 && !check_l\n",
    "            l = l+1\n",
    "        end\n",
    "        if rand_i == 4 && !check_prs\n",
    "            rand_j = rand([1,1,1,1,1,2,2,2,2,3,3,3])\n",
    "            if rand_j == 1 && p <= MXV\n",
    "                p += 1\n",
    "            end\n",
    "            if rand_j == 2 && r <= MXV\n",
    "                r += 1\n",
    "            end\n",
    "            if rand_j == 3 && s <= MXV\n",
    "                s += 1\n",
    "            end\n",
    "        end            \n",
    "        check_h = (h == MXV) || (cost(h+1,f,l,p,r,s) > MXS)\n",
    "        check_f = (f == MXV) || (cost(h,f+1,l,p,r,s) > MXS)\n",
    "        check_l = (l == MXV) || (cost(h,f,l+1,p,r,s) > MXS)\n",
    "        check_prs = (p+r+s == 3*MXV) || (cost(h,f,l,p+1,r,s) > MXS)\n",
    "    end\n",
    "    return Spud(sp.name, h, f, l, p, r, s)\n",
    "end\n",
    "\n",
    "\n",
    "\n",
    "function pick_best_library(bs::Array{Spud})::Spud\n",
    "    bestscore = -999\n",
    "    bestf = Spud(\"\",MNV,MNV,MNV,MNV,MNV,MNV)\n",
    "    df = spuds_to_df(bs)\n",
    "    hrange = vcat([MNV], df.h, df.h .+ 1, df.f, df.f .+ 1)\n",
    "    frange = vcat([MNV], df.f, df.f .+ 1, df.h, df.h .+ 1)\n",
    "    lrange = vcat([MNV], df.l, df.l .+ 1)\n",
    "    prange = vcat([MNV], df.p, df.p .+ 1)\n",
    "    rrange = vcat([MNV], df.r, df.r .+ 1)\n",
    "    srange = vcat([MNV], df.s, df.s .+ 1)\n",
    "    hrange = sort(unique(hrange))\n",
    "    frange = sort(unique(frange))\n",
    "    lrange = sort(unique(lrange))\n",
    "    prange = sort(unique(prange))\n",
    "    rrange = sort(unique(rrange))\n",
    "    srange = sort(unique(srange))\n",
    "    for h in hrange\n",
    "        if (cost(h, MNV, MNV, MNV, MNV, MNV) <= MXS)\n",
    "            for f in frange\n",
    "                if (cost(h, f, MNV, MNV, MNV, MNV) <= MXS)\n",
    "                    for l in lrange\n",
    "                        if (cost(h, f, l, MNV, MNV, MNV) <= MXS)\n",
    "                            for p in prange\n",
    "                                if (cost(h, f, l, p, MNV, MNV) <= MXS)\n",
    "                                    for r in rrange\n",
    "                                        if (cost(h, f, l, p, r, MNV) <= MXS)\n",
    "                                            for s in srange\n",
    "                                                if (cost(h,f,l,p,r,s) <= MXS)\n",
    "                                                    ff = Spud(\"\",h,f,l,p,r,s)\n",
    "                                                    score = eval_battle_list(ff, bs)\n",
    "                                                    if score > bestscore\n",
    "                                                        bestscore = score\n",
    "                                                        bestf = ff\n",
    "                                                    end\n",
    "                                                end\n",
    "                                            end\n",
    "                                        end\n",
    "                                    end                        \n",
    "                                end\n",
    "                            end                        \n",
    "                        end\n",
    "                    end\n",
    "                end\n",
    "            end\n",
    "        end\n",
    "    end\n",
    "    return upgrade_spud(bestf)\n",
    "end\n",
    "\n"
   ]
  },
  {
   "cell_type": "code",
   "execution_count": 8,
   "id": "2d640dee",
   "metadata": {},
   "outputs": [
    {
     "data": {
      "text/plain": [
       "pick_ok_counter (generic function with 1 method)"
      ]
     },
     "execution_count": 8,
     "metadata": {},
     "output_type": "execute_result"
    }
   ],
   "source": [
    "function pick_ok_counter(bs::Array{Spud})::Spud\n",
    "    bestscore = -999\n",
    "    bestf = Spud(\"\",MNV,MNV,MNV,MNV,MNV,MNV)\n",
    "    df = spuds_to_df(bs)\n",
    "    hrange = vcat([MNV], df.f .+ 1)\n",
    "    frange = vcat([MNV], df.h .+ 1)\n",
    "    lrange = vcat([MNV], df.l .+ 1)\n",
    "    prange = vcat([MNV], df.p .+ 1)\n",
    "    rrange = vcat([MNV], df.r .+ 1)\n",
    "    srange = vcat([MNV], df.s .+ 1)\n",
    "    hrange = sort(unique(hrange))\n",
    "    frange = sort(unique(frange))\n",
    "    lrange = sort(unique(lrange))\n",
    "    prange = sort(unique(prange))\n",
    "    rrange = sort(unique(rrange))\n",
    "    srange = sort(unique(srange))\n",
    "    for h in hrange\n",
    "        if (cost(h, MNV, MNV, MNV, MNV, MNV) <= MXS)\n",
    "            for f in frange\n",
    "                if (cost(h, f, MNV, MNV, MNV, MNV) <= MXS)\n",
    "                    for l in lrange\n",
    "                        if (cost(h, f, l, MNV, MNV, MNV) <= MXS)\n",
    "                            for p in prange\n",
    "                                if (cost(h, f, l, p, MNV, MNV) <= MXS)\n",
    "                                    for r in rrange\n",
    "                                        if (cost(h, f, l, p, r, MNV) <= MXS)\n",
    "                                            for s in srange\n",
    "                                                if (cost(h,f,l,p,r,s) <= MXS)\n",
    "                                                    ff = Spud(\"\",h,f,l,p,r,s)\n",
    "                                                    score = eval_battle_list(ff, bs)\n",
    "                                                    if score > bestscore\n",
    "                                                        bestscore = score\n",
    "                                                        bestf = ff\n",
    "                                                    end\n",
    "                                                end\n",
    "                                            end\n",
    "                                        end\n",
    "                                    end                        \n",
    "                                end\n",
    "                            end                        \n",
    "                        end\n",
    "                    end\n",
    "                end\n",
    "            end\n",
    "        end\n",
    "    end\n",
    "    return upgrade_spud(bestf)\n",
    "end\n"
   ]
  },
  {
   "cell_type": "code",
   "execution_count": 9,
   "id": "7b4f703b",
   "metadata": {},
   "outputs": [
    {
     "data": {
      "text/plain": [
       "pick_best_library2 (generic function with 1 method)"
      ]
     },
     "execution_count": 9,
     "metadata": {},
     "output_type": "execute_result"
    }
   ],
   "source": [
    "function pick_best_library2(bs::Array{Spud}, w::Vector{Float64})::Spud\n",
    "    bestscore = -999.9\n",
    "    bestf = Spud(\"\",MNV,MNV,MNV,MNV,MNV,MNV)\n",
    "    df = spuds_to_df(bs)\n",
    "    hrange = vcat([MNV], df.h, df.h .+ 1, df.f, df.f .+ 1)\n",
    "    frange = vcat([MNV], df.f, df.f .+ 1, df.h, df.h .+ 1)\n",
    "    lrange = vcat([MNV], df.l, df.l .+ 1)\n",
    "    prange = vcat([MNV], df.p, df.p .+ 1)\n",
    "    rrange = vcat([MNV], df.r, df.r .+ 1)\n",
    "    srange = vcat([MNV], df.s, df.s .+ 1)\n",
    "    hrange = sort(unique(hrange))\n",
    "    frange = sort(unique(frange))\n",
    "    lrange = sort(unique(lrange))\n",
    "    prange = sort(unique(prange))\n",
    "    rrange = sort(unique(rrange))\n",
    "    srange = sort(unique(srange))\n",
    "    for h in hrange\n",
    "        if (cost(h, MNV, MNV, MNV, MNV, MNV) <= MXS)\n",
    "            for f in frange\n",
    "                if (cost(h, f, MNV, MNV, MNV, MNV) <= MXS)\n",
    "                    for l in lrange\n",
    "                        if (cost(h, f, l, MNV, MNV, MNV) <= MXS)\n",
    "                            for p in prange\n",
    "                                if (cost(h, f, l, p, MNV, MNV) <= MXS)\n",
    "                                    for r in rrange\n",
    "                                        if (cost(h, f, l, p, r, MNV) <= MXS)\n",
    "                                            for s in srange\n",
    "                                                if (cost(h,f,l,p,r,s) <= MXS)\n",
    "                                                    ff = Spud(\"\",h,f,l,p,r,s)\n",
    "                                                    score = eval_battle_list2(ff, bs, w) + 0.00001 * rand()\n",
    "                                                    if score > bestscore\n",
    "                                                        bestscore = score\n",
    "                                                        bestf = ff\n",
    "                                                    end\n",
    "                                                end\n",
    "                                            end\n",
    "                                        end\n",
    "                                    end                        \n",
    "                                end\n",
    "                            end                        \n",
    "                        end\n",
    "                    end\n",
    "                end\n",
    "            end\n",
    "        end\n",
    "    end\n",
    "    return upgrade_spud(bestf)\n",
    "end"
   ]
  },
  {
   "cell_type": "code",
   "execution_count": 10,
   "id": "79126a50",
   "metadata": {},
   "outputs": [
    {
     "data": {
      "text/plain": [
       "subset_library (generic function with 1 method)"
      ]
     },
     "execution_count": 10,
     "metadata": {},
     "output_type": "execute_result"
    }
   ],
   "source": [
    "function subset_library(bs::Array{Spud}, n_hits::Int, w::Vector{Float64}, thres::Float64)::Array{Spud}\n",
    "    bestf = Array{Spud}(undef, n_hits)\n",
    "    spud_i = 0\n",
    "    df = spuds_to_df(bs)\n",
    "    hrange = vcat([MNV], df.h, df.h .+ 1, df.f, df.f .+ 1)\n",
    "    frange = vcat([MNV], df.f, df.f .+ 1, df.h, df.h .+ 1)\n",
    "    lrange = vcat([MNV], df.l, df.l .+ 1)\n",
    "    prange = vcat([MNV], df.p, df.p .+ 1)\n",
    "    rrange = vcat([MNV], df.r, df.r .+ 1)\n",
    "    srange = vcat([MNV], df.s, df.s .+ 1)\n",
    "    hrange = sort(unique(hrange))\n",
    "    frange = sort(unique(frange))\n",
    "    lrange = sort(unique(lrange))\n",
    "    prange = sort(unique(prange))\n",
    "    rrange = sort(unique(rrange))\n",
    "    srange = sort(unique(srange))\n",
    "    for h in hrange\n",
    "        if (cost(h, MNV, MNV, MNV, MNV, MNV) <= MXS)\n",
    "            for f in frange\n",
    "                if (cost(h, f, MNV, MNV, MNV, MNV) <= MXS)\n",
    "                    for l in lrange\n",
    "                        if (cost(h, f, l, MNV, MNV, MNV) <= MXS)\n",
    "                            for p in prange\n",
    "                                if (cost(h, f, l, p, MNV, MNV) <= MXS)\n",
    "                                    for r in rrange\n",
    "                                        if (cost(h, f, l, p, r, MNV) <= MXS)\n",
    "                                            for s in srange\n",
    "                                                if (cost(h,f,l,p,r,s) <= MXS)\n",
    "                                                    ff = Spud(\"\",h,f,l,p,r,s)\n",
    "                                                    score = eval_battle_list2(ff, bs, w)\n",
    "                                                    if score >= thres && spud_i < n_hits\n",
    "                                                        spud_i += 1\n",
    "                                                        bestf[spud_i] = upgrade_spud(ff)\n",
    "                                                    end\n",
    "                                                end\n",
    "                                            end\n",
    "                                        end\n",
    "                                    end                        \n",
    "                                end\n",
    "                            end                        \n",
    "                        end\n",
    "                    end\n",
    "                end\n",
    "            end\n",
    "        end\n",
    "    end\n",
    "    return unique(bestf[1:spud_i])\n",
    "end"
   ]
  },
  {
   "cell_type": "code",
   "execution_count": 37,
   "id": "8534b5bb",
   "metadata": {},
   "outputs": [
    {
     "data": {
      "text/plain": [
       "Spud[]"
      ]
     },
     "execution_count": 37,
     "metadata": {},
     "output_type": "execute_result"
    }
   ],
   "source": [
    "# form initial library by initializing from other nash solution\n",
    "nash_env_df = DataFrame(CSV.File(\"spudsA_full_factor.csv\"))\n",
    "nash_env0 = df_to_spuds(nash_env_df)\n",
    "nash_env = Array{Spud}(undef, 0)"
   ]
  },
  {
   "cell_type": "code",
   "execution_count": 38,
   "id": "30a0469f",
   "metadata": {},
   "outputs": [
    {
     "data": {
      "text/plain": [
       "2738-element Vector{Spud}:\n",
       " Spud(\"\", 5, 7, 8, 1, 1, 1)\n",
       " Spud(\"\", 5, 8, 7, 1, 1, 1)\n",
       " Spud(\"\", 5, 11, 2, 1, 1, 1)\n",
       " Spud(\"\", 6, 5, 9, 1, 1, 1)\n",
       " Spud(\"\", 6, 7, 6, 1, 1, 1)\n",
       " Spud(\"\", 6, 10, 1, 1, 1, 1)\n",
       " Spud(\"\", 7, 3, 10, 1, 1, 1)\n",
       " Spud(\"\", 7, 5, 7, 1, 1, 1)\n",
       " Spud(\"\", 7, 7, 4, 1, 1, 1)\n",
       " Spud(\"\", 7, 9, 1, 1, 1, 1)\n",
       " Spud(\"\", 8, 4, 7, 1, 1, 1)\n",
       " Spud(\"\", 8, 8, 1, 1, 1, 1)\n",
       " Spud(\"\", 9, 6, 3, 1, 1, 1)\n",
       " ⋮\n",
       " Spud(\"\", 7, 1, 11, 5, 4, 7)\n",
       " Spud(\"\", 7, 1, 11, 5, 7, 4)\n",
       " Spud(\"\", 7, 1, 11, 4, 5, 7)\n",
       " Spud(\"\", 7, 1, 11, 4, 7, 5)\n",
       " Spud(\"\", 7, 1, 11, 7, 5, 4)\n",
       " Spud(\"\", 7, 1, 11, 7, 4, 5)\n",
       " Spud(\"\", 7, 1, 11, 10, 1, 5)\n",
       " Spud(\"\", 7, 1, 11, 10, 5, 1)\n",
       " Spud(\"\", 7, 1, 11, 1, 10, 5)\n",
       " Spud(\"\", 7, 1, 11, 1, 5, 10)\n",
       " Spud(\"\", 7, 1, 11, 5, 10, 1)\n",
       " Spud(\"\", 7, 1, 11, 5, 1, 10)"
      ]
     },
     "execution_count": 38,
     "metadata": {},
     "output_type": "execute_result"
    }
   ],
   "source": [
    "# get symmetric distribution for p, r, s\n",
    "for ff in nash_env0\n",
    "    append!(nash_env, [Spud(\"\", ff.h, ff.f, ff.l, ff.p, ff.r, ff.s)])\n",
    "    append!(nash_env, [Spud(\"\", ff.h, ff.f, ff.l, ff.p, ff.s, ff.r)])\n",
    "    append!(nash_env, [Spud(\"\", ff.h, ff.f, ff.l, ff.r, ff.p, ff.s)])\n",
    "    append!(nash_env, [Spud(\"\", ff.h, ff.f, ff.l, ff.r, ff.s, ff.p)])\n",
    "    append!(nash_env, [Spud(\"\", ff.h, ff.f, ff.l, ff.s, ff.p, ff.r)])\n",
    "    append!(nash_env, [Spud(\"\", ff.h, ff.f, ff.l, ff.s, ff.r, ff.p)])    \n",
    "end\n",
    "nash_env = unique(nash_env)"
   ]
  },
  {
   "cell_type": "code",
   "execution_count": 39,
   "id": "52daa014",
   "metadata": {},
   "outputs": [],
   "source": [
    "n_spuds = length(nash_env)\n",
    "# Check that there are no ties in spudland\n",
    "for iter in 1:10000\n",
    "    i = rand(1:n_spuds)\n",
    "    j = rand(1:n_spuds)\n",
    "    if i != j && eval_battle(nash_env[i], nash_env[j]) == 0\n",
    "        println(nash_env[i])\n",
    "        println(nash_env[j])\n",
    "        println()\n",
    "    end\n",
    "end"
   ]
  },
  {
   "cell_type": "markdown",
   "id": "4873490e",
   "metadata": {},
   "source": [
    "## Compute Nash env"
   ]
  },
  {
   "cell_type": "code",
   "execution_count": 40,
   "id": "010f3c57",
   "metadata": {},
   "outputs": [
    {
     "data": {
      "text/plain": [
       "ffp (generic function with 1 method)"
      ]
     },
     "execution_count": 40,
     "metadata": {},
     "output_type": "execute_result"
    }
   ],
   "source": [
    "function ffp(nash_env, nits)\n",
    "    n_nash = length(nash_env)\n",
    "    i_lose = Array{Int}(undef, (n_nash, n_nash))\n",
    "    n_lose = Array{Int}(undef, n_nash)\n",
    "    for i in 1:n_nash\n",
    "        n_lose[i] = 0\n",
    "        ff = nash_env[i]\n",
    "        for j in 1:n_nash\n",
    "            if eval_battle(ff, nash_env[j]) ==-1\n",
    "                n_lose[i] += 1\n",
    "                i_lose[i, n_lose[i]] = j\n",
    "            end\n",
    "        end\n",
    "    end\n",
    "    counts = [0 for i in 1:n_nash]\n",
    "    wins = [0 for i in 1:n_nash]\n",
    "    for i in 1:n_nash\n",
    "        counts[i] += 1\n",
    "        for j in 1:n_lose[i]\n",
    "            i_w = i_lose[i, j]\n",
    "            wins[i_w]+= 1\n",
    "        end\n",
    "    end\n",
    "    for iter in 1:nits\n",
    "        wc = 2 .* wins .+ counts\n",
    "        ind_winners = findall(wc .== maximum(wc))\n",
    "        i = rand(ind_winners)\n",
    "        counts[i] += 1\n",
    "        for j in 1:n_lose[i]\n",
    "            i_w = i_lose[i, j]\n",
    "            wins[i_w]+= 1\n",
    "        end\n",
    "    end\n",
    "    return counts\n",
    "end\n"
   ]
  },
  {
   "cell_type": "code",
   "execution_count": 42,
   "id": "fcd27346",
   "metadata": {},
   "outputs": [
    {
     "name": "stdout",
     "output_type": "stream",
     "text": [
      " 12.386916 seconds (182.30 M allocations: 41.711 GiB, 23.26% gc time)\n"
     ]
    },
    {
     "data": {
      "text/plain": [
       "2738-element Vector{Int64}:\n",
       "     1\n",
       "     1\n",
       " 27157\n",
       "     1\n",
       "   255\n",
       "  7882\n",
       "     1\n",
       "     1\n",
       "     1\n",
       "  6339\n",
       "     1\n",
       "     1\n",
       "  8757\n",
       "     ⋮\n",
       "   324\n",
       "     1\n",
       "     1\n",
       "     1\n",
       "     1\n",
       "     1\n",
       "     1\n",
       "     1\n",
       "     1\n",
       "    57\n",
       "     1\n",
       "     1"
      ]
     },
     "execution_count": 42,
     "metadata": {},
     "output_type": "execute_result"
    }
   ],
   "source": [
    "@time counts = ffp(nash_env, 1000000)"
   ]
  },
  {
   "cell_type": "code",
   "execution_count": 44,
   "id": "3745e25f",
   "metadata": {},
   "outputs": [],
   "source": [
    "counts0 = counts;"
   ]
  },
  {
   "cell_type": "code",
   "execution_count": 60,
   "id": "48943e62",
   "metadata": {},
   "outputs": [
    {
     "data": {
      "text/plain": [
       "114-element Vector{Int64}:\n",
       " 27157\n",
       "  7882\n",
       "  6339\n",
       "  8757\n",
       "  5547\n",
       "  5625\n",
       "  5282\n",
       " 15304\n",
       "  5187\n",
       "  4796\n",
       "  6447\n",
       "  7223\n",
       "  3598\n",
       "     ⋮\n",
       "  6101\n",
       "  3664\n",
       "  3846\n",
       "  3498\n",
       "  8699\n",
       "  9923\n",
       "  5457\n",
       "  5809\n",
       "  7164\n",
       "  6778\n",
       "  3928\n",
       "  5362"
      ]
     },
     "execution_count": 60,
     "metadata": {},
     "output_type": "execute_result"
    }
   ],
   "source": [
    "nash_env2 = nash_env[counts .> 3000]\n",
    "counts2 = counts[counts .> 3000]"
   ]
  },
  {
   "cell_type": "code",
   "execution_count": 61,
   "id": "a51563f4",
   "metadata": {},
   "outputs": [
    {
     "data": {
      "text/plain": [
       "114-element Vector{Spud}:\n",
       " Spud(\"c27157\", 5, 11, 2, 1, 1, 1)\n",
       " Spud(\"c7882\", 6, 10, 1, 1, 1, 1)\n",
       " Spud(\"c6339\", 7, 9, 1, 1, 1, 1)\n",
       " Spud(\"c8757\", 9, 6, 3, 1, 1, 1)\n",
       " Spud(\"c5547\", 11, 4, 4, 1, 1, 1)\n",
       " Spud(\"c5625\", 4, 12, 1, 2, 1, 1)\n",
       " Spud(\"c5282\", 4, 12, 1, 1, 1, 2)\n",
       " Spud(\"c15304\", 5, 10, 2, 2, 1, 1)\n",
       " Spud(\"c5187\", 5, 10, 2, 1, 2, 1)\n",
       " Spud(\"c4796\", 6, 9, 1, 1, 2, 1)\n",
       " Spud(\"c6447\", 9, 7, 1, 1, 2, 1)\n",
       " Spud(\"c7223\", 10, 5, 3, 1, 2, 1)\n",
       " Spud(\"c3598\", 11, 3, 5, 2, 1, 1)\n",
       " ⋮\n",
       " Spud(\"c6101\", 5, 1, 16, 6, 1, 8)\n",
       " Spud(\"c3664\", 5, 2, 12, 1, 6, 8)\n",
       " Spud(\"c3846\", 5, 2, 12, 1, 5, 9)\n",
       " Spud(\"c3498\", 5, 2, 12, 5, 1, 9)\n",
       " Spud(\"c8699\", 2, 4, 14, 1, 6, 9)\n",
       " Spud(\"c9923\", 2, 4, 14, 6, 1, 9)\n",
       " Spud(\"c5457\", 2, 4, 14, 5, 1, 10)\n",
       " Spud(\"c5809\", 4, 2, 15, 1, 6, 9)\n",
       " Spud(\"c7164\", 4, 2, 15, 6, 1, 9)\n",
       " Spud(\"c6778\", 4, 2, 15, 5, 1, 10)\n",
       " Spud(\"c3928\", 7, 1, 11, 1, 7, 8)\n",
       " Spud(\"c5362\", 7, 1, 11, 7, 1, 8)"
      ]
     },
     "execution_count": 61,
     "metadata": {},
     "output_type": "execute_result"
    }
   ],
   "source": [
    "for i in 1:length(nash_env2)\n",
    "    ff = nash_env2[i]\n",
    "    nash_env2[i] = Spud(string(\"c\", counts2[i]), ff.h, ff.f, ff.l, ff.p, ff.r, ff.s)\n",
    "end\n",
    "nash_env2"
   ]
  },
  {
   "cell_type": "code",
   "execution_count": 62,
   "id": "94a06395",
   "metadata": {},
   "outputs": [],
   "source": [
    "#CSV.write(\"temp_spudsB.csv\", spuds_to_df(nash_env2[sortperm(-counts2)]))"
   ]
  },
  {
   "cell_type": "code",
   "execution_count": 63,
   "id": "7bc4cf3e",
   "metadata": {},
   "outputs": [
    {
     "name": "stdout",
     "output_type": "stream",
     "text": [
      " 28.182730 seconds (937.72 M allocations: 89.192 GiB, 24.81% gc time)\n"
     ]
    },
    {
     "data": {
      "text/plain": [
       "Spud(\"\", 6, 5, 5, 4, 1, 3)"
      ]
     },
     "execution_count": 63,
     "metadata": {},
     "output_type": "execute_result"
    }
   ],
   "source": [
    "@time ff = pick_best_library2(nash_env2, counts2./sum(counts2))"
   ]
  },
  {
   "cell_type": "code",
   "execution_count": 64,
   "id": "00cf21f3",
   "metadata": {},
   "outputs": [
    {
     "data": {
      "text/plain": [
       "0.24179563430632356"
      ]
     },
     "execution_count": 64,
     "metadata": {},
     "output_type": "execute_result"
    }
   ],
   "source": [
    "eval_battle_list2(ff, nash_env2, counts2./sum(counts2))"
   ]
  },
  {
   "cell_type": "markdown",
   "id": "4516f34e",
   "metadata": {},
   "source": [
    "## Fictitious play"
   ]
  },
  {
   "cell_type": "code",
   "execution_count": 65,
   "id": "0876151c",
   "metadata": {},
   "outputs": [],
   "source": [
    "nash_env = nash_env2;"
   ]
  },
  {
   "cell_type": "code",
   "execution_count": 67,
   "id": "9ed3eb14",
   "metadata": {},
   "outputs": [
    {
     "name": "stdout",
     "output_type": "stream",
     "text": [
      "16:28\n",
      "1 38.187401 seconds (1.29 G allocations: 122.510 GiB, 24.68% gc time)\n",
      "Spud(\"Vibrant Gondolier Suan la tu dou si\", 1, 5, 10, 9, 6, 2)\n",
      "2"
     ]
    },
    {
     "ename": "LoadError",
     "evalue": "InterruptException:",
     "output_type": "error",
     "traceback": [
      "InterruptException:",
      "",
      "Stacktrace:",
      "  [1] Array",
      "    @ ./boot.jl:477 [inlined]",
      "  [2] Array",
      "    @ ./boot.jl:486 [inlined]",
      "  [3] similar",
      "    @ ./abstractarray.jl:884 [inlined]",
      "  [4] similar",
      "    @ ./abstractarray.jl:883 [inlined]",
      "  [5] _array_for",
      "    @ ./array.jl:671 [inlined]",
      "  [6] _array_for",
      "    @ ./array.jl:674 [inlined]",
      "  [7] vect",
      "    @ ./array.jl:126 [inlined]",
      "  [8] spud_h_seq",
      "    @ ./In[3]:12 [inlined]",
      "  [9] eval_finds(a::Spud, b::Spud, tiebreaker::Int64)",
      "    @ Main ./In[3]:36",
      " [10] eval_battle(a::Spud, b::Spud)",
      "    @ Main ./In[3]:56",
      " [11] eval_battle_list2",
      "    @ ./In[6]:12 [inlined]",
      " [12] subset_library(bs::Vector{Spud}, n_hits::Int64, w::Vector{Float64}, thres::Float64)",
      "    @ Main ./In[10]:30",
      " [13] macro expansion",
      "    @ ./timing.jl:273 [inlined]",
      " [14] top-level scope",
      "    @ ./In[67]:13"
     ]
    }
   ],
   "source": [
    "nits = 100000\n",
    "tol = 0.01\n",
    "println(Dates.format(now(), \"HH:MM\"))\n",
    "for ii in 1:100\n",
    "    #println()\n",
    "    print(ii)\n",
    "    counts = ffp(nash_env, nits)\n",
    "    w = counts./sum(counts)\n",
    "    #println(maximum([eval_battle_list2(ff, nash_env, counts./sum(counts)) for ff in nash_env]))\n",
    "    #ff = rand_rename(pick_best_library2(nash_env, w))\n",
    "    #ev = eval_battle_list2(ff, nash_env, w)\n",
    "    #println(ev)\n",
    "    @time bestf = subset_library(nash_env, 900, counts./sum(counts), tol)\n",
    "    #println(length(bestf))\n",
    "    cc = ffp(bestf, nits)\n",
    "    #println(maximum(cc))\n",
    "    ff2 = rand_rename(bestf[cc .== maximum(cc)][1])\n",
    "    println(ff2)\n",
    "    #println(eval_battle_list2(ff2, nash_env, counts./sum(counts)))\n",
    "    append!(nash_env, [ff2])\n",
    "    #append!(nash_env, [ff])\n",
    "    #println(ff)\n",
    "end\n",
    "println()\n",
    "println(Dates.format(now(), \"HH:MM\"))\n",
    "counts = ffp(nash_env, nits)\n",
    "println(maximum([eval_battle_list2(ff, nash_env, counts./sum(counts)) for ff in nash_env]))\n",
    "println(length(nash_env))\n",
    "#println(length(unique([Spud(\"\", s.h, s.f, s.l, s.p, s.r, s.s) for s in nash_env])))    \n",
    "ff = pick_best_library2(nash_env, counts./sum(counts))\n",
    "eval_battle_list2(ff, nash_env, counts./sum(counts))"
   ]
  },
  {
   "cell_type": "code",
   "execution_count": 68,
   "id": "a5eeeee6",
   "metadata": {},
   "outputs": [
    {
     "data": {
      "text/plain": [
       "117-element Vector{Spud}:\n",
       " Spud(\"c27157\", 5, 11, 2, 1, 1, 1)\n",
       " Spud(\"c7882\", 6, 10, 1, 1, 1, 1)\n",
       " Spud(\"c6339\", 7, 9, 1, 1, 1, 1)\n",
       " Spud(\"c8757\", 9, 6, 3, 1, 1, 1)\n",
       " Spud(\"c5547\", 11, 4, 4, 1, 1, 1)\n",
       " Spud(\"c5625\", 4, 12, 1, 2, 1, 1)\n",
       " Spud(\"c5282\", 4, 12, 1, 1, 1, 2)\n",
       " Spud(\"c15304\", 5, 10, 2, 2, 1, 1)\n",
       " Spud(\"c5187\", 5, 10, 2, 1, 2, 1)\n",
       " Spud(\"c4796\", 6, 9, 1, 1, 2, 1)\n",
       " Spud(\"c6447\", 9, 7, 1, 1, 2, 1)\n",
       " Spud(\"c7223\", 10, 5, 3, 1, 2, 1)\n",
       " Spud(\"c3598\", 11, 3, 5, 2, 1, 1)\n",
       " ⋮\n",
       " Spud(\"c3498\", 5, 2, 12, 5, 1, 9)\n",
       " Spud(\"c8699\", 2, 4, 14, 1, 6, 9)\n",
       " Spud(\"c9923\", 2, 4, 14, 6, 1, 9)\n",
       " Spud(\"c5457\", 2, 4, 14, 5, 1, 10)\n",
       " Spud(\"c5809\", 4, 2, 15, 1, 6, 9)\n",
       " Spud(\"c7164\", 4, 2, 15, 6, 1, 9)\n",
       " Spud(\"c6778\", 4, 2, 15, 5, 1, 10)\n",
       " Spud(\"c3928\", 7, 1, 11, 1, 7, 8)\n",
       " Spud(\"c5362\", 7, 1, 11, 7, 1, 8)\n",
       " Spud(\"Unobservant Percussionist Pommes Anna\", 1, 3, 20, 11, 6, 8)\n",
       " Spud(\"Exhilarating Stewardess (or Steward) Batata vada\", 1, 4, 20, 1, 5, 13)\n",
       " Spud(\"Vibrant Gondolier Suan la tu dou si\", 1, 5, 10, 9, 6, 2)"
      ]
     },
     "execution_count": 68,
     "metadata": {},
     "output_type": "execute_result"
    }
   ],
   "source": [
    "nash_env"
   ]
  },
  {
   "cell_type": "markdown",
   "id": "dfebdf0b",
   "metadata": {},
   "source": [
    "## when would you be tempted to go far outside of nash equilibrium?"
   ]
  },
  {
   "cell_type": "code",
   "execution_count": null,
   "id": "0b53bc7a",
   "metadata": {},
   "outputs": [],
   "source": []
  },
  {
   "cell_type": "code",
   "execution_count": null,
   "id": "84727f7c",
   "metadata": {},
   "outputs": [],
   "source": [
    "cc = cumsum(counts);"
   ]
  },
  {
   "cell_type": "code",
   "execution_count": null,
   "id": "622b3491",
   "metadata": {},
   "outputs": [],
   "source": [
    "nteam = 5\n",
    "mms = Array{Float64}(undef, 1000)\n",
    "for jj in 1:1000\n",
    "    team = Array{Spud}(undef, nteam)\n",
    "    for i in 1:nteam\n",
    "        tmp = rand(1:sum(counts))\n",
    "        ind = sum(cc .< tmp)+1\n",
    "        team[i] = nash_env[ind]\n",
    "        #println(counts[ind])\n",
    "    end\n",
    "    lib = subset_library(team, 900, [1/nteam for i in 1:nteam], 0.001)\n",
    "    scores = [eval_battle_list(ff, team) for ff in lib]\n",
    "    lib = lib[scores .== maximum(scores)]\n",
    "    evs = [eval_battle_list2(ff, nash_env, counts./sum(counts)) for ff in lib]\n",
    "    mm = maximum(evs)\n",
    "    mms[jj] = mm\n",
    "    if mm < -0.2\n",
    "        println()\n",
    "        println(spuds_to_df(team))\n",
    "        println(mm)\n",
    "        println(lib[evs .== mm])\n",
    "        \n",
    "    end\n",
    "end"
   ]
  },
  {
   "cell_type": "code",
   "execution_count": null,
   "id": "a491cfab",
   "metadata": {},
   "outputs": [],
   "source": [
    "sort(mms)"
   ]
  },
  {
   "cell_type": "code",
   "execution_count": null,
   "id": "3dd92ea4",
   "metadata": {},
   "outputs": [],
   "source": [
    "mean(mms .< -0.05)"
   ]
  },
  {
   "cell_type": "code",
   "execution_count": null,
   "id": "67966e50",
   "metadata": {},
   "outputs": [],
   "source": [
    "mean(mms .< -0.1)"
   ]
  },
  {
   "cell_type": "code",
   "execution_count": null,
   "id": "c8d3ed47",
   "metadata": {},
   "outputs": [],
   "source": [
    "mean(mms .< -0.15)"
   ]
  },
  {
   "cell_type": "code",
   "execution_count": null,
   "id": "d013e1a6",
   "metadata": {},
   "outputs": [],
   "source": []
  }
 ],
 "metadata": {
  "kernelspec": {
   "display_name": "Julia 1.9.3",
   "language": "julia",
   "name": "julia-1.9"
  },
  "language_info": {
   "file_extension": ".jl",
   "mimetype": "application/julia",
   "name": "julia",
   "version": "1.9.3"
  }
 },
 "nbformat": 4,
 "nbformat_minor": 5
}

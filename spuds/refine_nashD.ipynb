{
 "cells": [
  {
   "cell_type": "markdown",
   "id": "052be005",
   "metadata": {},
   "source": [
    "Design of a new game, Spuds"
   ]
  },
  {
   "cell_type": "code",
   "execution_count": 1,
   "id": "494818e8",
   "metadata": {},
   "outputs": [],
   "source": [
    "using Random\n",
    "using DataFrames\n",
    "using CSV\n",
    "using DelimitedFiles\n",
    "using Statistics\n",
    "using Printf\n",
    "using LinearAlgebra\n",
    "using Dates"
   ]
  },
  {
   "cell_type": "code",
   "execution_count": 2,
   "id": "1e1008a1",
   "metadata": {},
   "outputs": [
    {
     "data": {
      "text/plain": [
       "cost (generic function with 1 method)"
      ]
     },
     "execution_count": 2,
     "metadata": {},
     "output_type": "execute_result"
    }
   ],
   "source": [
    "struct Spud\n",
    "    name::String\n",
    "    h::Int64\n",
    "    f::Int64\n",
    "    l::Int64\n",
    "    p::Int64\n",
    "    r::Int64\n",
    "    s::Int64\n",
    "end\n",
    "\n",
    "const MXS = 100\n",
    "const MXV = 10\n",
    "const MNV = 1\n",
    "\n",
    "function cost(h::Int64, f::Int64, l::Int64, p::Int64, r::Int64, s::Int64)::Int64\n",
    "    #return h*(f+l-2*MNV) + f*(p+r+s-3*MNV) + h+f+l+p+r+s-6*MNV\n",
    "    return h*(f+l) + f*(p+r+s)\n",
    "end"
   ]
  },
  {
   "cell_type": "code",
   "execution_count": 3,
   "id": "ac830f74",
   "metadata": {},
   "outputs": [
    {
     "data": {
      "text/plain": [
       "eval_battle (generic function with 1 method)"
      ]
     },
     "execution_count": 3,
     "metadata": {},
     "output_type": "execute_result"
    }
   ],
   "source": [
    "function compare_int_list(as::Vector{Int64}, bs::Vector{Int64}, tiebreaker::Int64 = 0)::Int64\n",
    "    n = min(length(as), length(bs))\n",
    "    for i in 1:n\n",
    "        if as[i] != bs[i]\n",
    "            return sign(as[i] - bs[i])\n",
    "        end\n",
    "    end\n",
    "    return tiebreaker\n",
    "end\n",
    "\n",
    "function spud_h_seq(a::Spud)::Vector{Int64}\n",
    "    return [a.h, a.s, a.r, a.p, a.l, a.f]\n",
    "end\n",
    "\n",
    "function spud_f_seq(a::Spud)::Vector{Int64}\n",
    "    return [a.f, a.s, a.r, a.p, a.l, a.h]\n",
    "end\n",
    "\n",
    "function spud_l_seq(a::Spud)::Vector{Int64}\n",
    "    return [a.l]\n",
    "end\n",
    "\n",
    "function spud_p_seq(a::Spud)::Vector{Int64}\n",
    "    return [a.p, a.l]\n",
    "end\n",
    "\n",
    "function spud_r_seq(a::Spud)::Vector{Int64}\n",
    "    return [a.r, a.f]\n",
    "end\n",
    "\n",
    "function spud_s_seq(a::Spud)::Vector{Int64}\n",
    "    return [a.s, a.h]\n",
    "end\n",
    "\n",
    "function spud_utb_seq(a::Spud)::Vector{Int64}\n",
    "    return [a.h, a.f, a.l, a.p, a.r, a.s]\n",
    "end\n",
    "\n",
    "function eval_finds(a::Spud, b::Spud, tiebreaker::Int64 = 0)::Int64\n",
    "    ev = compare_int_list(spud_f_seq(a), spud_h_seq(b), tiebreaker)\n",
    "    ans = ev\n",
    "end\n",
    "\n",
    "function eval_melee(a::Spud, b::Spud, tiebreaker1::Int64 = 0, tiebreaker2::Int64 = 0)::Int64\n",
    "    comp_p = compare_int_list(spud_p_seq(a), spud_p_seq(b), tiebreaker1)\n",
    "    comp_r = compare_int_list(spud_r_seq(a), spud_r_seq(b), tiebreaker1)\n",
    "    comp_s = compare_int_list(spud_s_seq(a), spud_s_seq(b), tiebreaker1)\n",
    "    ev = 4 * comp_p + 3 * comp_r + 2 * comp_s\n",
    "    return sign(ev + (1-abs(ev))*tiebreaker2)\n",
    "end\n",
    "\n",
    "function eval_battle(a::Spud, b::Spud)::Int64\n",
    "    utb = compare_int_list(spud_utb_seq(a), spud_utb_seq(b), 0) # universal tiebreaker\n",
    "    if utb == 0\n",
    "        return 0\n",
    "    end\n",
    "    a_finds = eval_finds(a, b, utb)==1\n",
    "    b_finds = eval_finds(b, a, utb)==1\n",
    "    melee_win = eval_melee(a, b, 0, utb)\n",
    "    if a_finds && b_finds\n",
    "        return melee_win\n",
    "    end\n",
    "    if a_finds && !b_finds\n",
    "        return 1\n",
    "    end\n",
    "    if !a_finds && b_finds\n",
    "        return -1\n",
    "    end\n",
    "    if !a_finds && !b_finds\n",
    "        return compare_int_list([a.l, melee_win], [b.l, -melee_win], 0)\n",
    "    end\n",
    "end"
   ]
  },
  {
   "cell_type": "code",
   "execution_count": 4,
   "id": "40b9dc47",
   "metadata": {},
   "outputs": [
    {
     "data": {
      "text/plain": [
       "random_name_and_stat (generic function with 1 method)"
      ]
     },
     "execution_count": 4,
     "metadata": {},
     "output_type": "execute_result"
    }
   ],
   "source": [
    "tab = CSV.read(\"census_yob2022_names.txt\", DataFrame, header = false)\n",
    "names = tab.Column1\n",
    "adjectives = CSV.read(\"adjectives.csv\", DataFrame)\n",
    "nouns = CSV.read(\"nouns.csv\", DataFrame)\n",
    "jobs = CSV.read(\"jobs.csv\", DataFrame)\n",
    "\n",
    "const mult_noun = 1\n",
    "const mult_adj = 2\n",
    "const mult_job = 3\n",
    "\n",
    "\n",
    "function random_name_and_stat()::Spud\n",
    "    vp = [0, 0, 0, 0, 0, 0]\n",
    "    #nametype = rand([1,1,1,1,1,2,2,2,3])\n",
    "    name = \"\"\n",
    "    noun = \"\"\n",
    "    adj = \"\"\n",
    "    noun_i = rand(1:nrow(nouns))\n",
    "    noun = nouns[noun_i, :noun]\n",
    "    vp[1] = vp[1] + nouns[noun_i, :H] * mult_noun\n",
    "    vp[2] = vp[2] + nouns[noun_i, :F] * mult_noun\n",
    "    vp[3] = vp[3] + nouns[noun_i, :L] * mult_noun\n",
    "    vp[4] = vp[4] + nouns[noun_i, :P] * mult_noun\n",
    "    vp[5] = vp[5] + nouns[noun_i, :R] * mult_noun\n",
    "    vp[6] = vp[6] + nouns[noun_i, :S] * mult_noun\n",
    "    adj_i = rand(1:nrow(adjectives))\n",
    "    adj = adjectives[adj_i, :adjective]\n",
    "    vp[1] = vp[1] + adjectives[adj_i, :H] * mult_adj\n",
    "    vp[2] = vp[2] + adjectives[adj_i, :F] * mult_adj\n",
    "    vp[3] = vp[3] + adjectives[adj_i, :L] * mult_adj\n",
    "    vp[4] = vp[4] + adjectives[adj_i, :P] * mult_adj\n",
    "    vp[5] = vp[5] + adjectives[adj_i, :R] * mult_adj\n",
    "    vp[6] = vp[6] + adjectives[adj_i, :S] * mult_adj\n",
    "    job_i = rand(1:nrow(jobs))\n",
    "    job = jobs[job_i, :job]\n",
    "    vp[1] = vp[1] + jobs[job_i, :H] * mult_job\n",
    "    vp[2] = vp[2] + jobs[job_i, :F] * mult_job\n",
    "    vp[3] = vp[3] + jobs[job_i, :L] * mult_job\n",
    "    vp[4] = vp[4] + jobs[job_i, :P] * mult_job\n",
    "    vp[5] = vp[5] + jobs[job_i, :R] * mult_job\n",
    "    vp[6] = vp[6] + jobs[job_i, :S] * mult_job\n",
    "    name = string(adj, \" \", job, \" \", noun)\n",
    "    Spud(name, vp[1], vp[2], vp[3], vp[4], vp[5], vp[6])\n",
    "end"
   ]
  },
  {
   "cell_type": "code",
   "execution_count": 5,
   "id": "f606e085",
   "metadata": {},
   "outputs": [
    {
     "data": {
      "text/plain": [
       "rand_rename (generic function with 2 methods)"
      ]
     },
     "execution_count": 5,
     "metadata": {},
     "output_type": "execute_result"
    }
   ],
   "source": [
    "function rand_rename(a::Spud, n_tries::Int = 100)::Spud\n",
    "    best_score = 0.0\n",
    "    best_b = random_name_and_stat()\n",
    "    for ii in 1:n_tries\n",
    "        b = random_name_and_stat()\n",
    "        b_norm = sqrt(b.h^2 + b.f^2 + b.l^2 + b.p^2 + b.r^2 + b.s^2)\n",
    "        score = (a.h * b.h + a.f * b.f + a.l * b.l + a.p * b.p + a.r * b.r + a.s * b.s)/b_norm\n",
    "        if score > best_score\n",
    "            best_score = score\n",
    "            best_b = b\n",
    "        end\n",
    "    end\n",
    "    return Spud(best_b.name, a.h, a.f, a.l, a.p, a.r, a.s)\n",
    "end"
   ]
  },
  {
   "cell_type": "code",
   "execution_count": 6,
   "id": "560e9539",
   "metadata": {},
   "outputs": [
    {
     "data": {
      "text/plain": [
       "cost (generic function with 2 methods)"
      ]
     },
     "execution_count": 6,
     "metadata": {},
     "output_type": "execute_result"
    }
   ],
   "source": [
    "function eval_battle_list(a::Spud, bs::Array{Spud})::Int\n",
    "    score = 0\n",
    "    for ii in 1:length(bs)\n",
    "        score = score + eval_battle(a, bs[ii])\n",
    "    end\n",
    "    return score\n",
    "end\n",
    "\n",
    "function eval_battle_list2(a::Spud, bs::Array{Spud}, w::Vector{Float64})::AbstractFloat\n",
    "    score = 0.0\n",
    "    for ii in 1:length(bs)\n",
    "        score = score + w[ii] * eval_battle(a, bs[ii])\n",
    "    end\n",
    "    return score\n",
    "end\n",
    "\n",
    "function df_to_spuds(df::DataFrame)::Array{Spud}\n",
    "    n = size(df)[1]\n",
    "    as = Array{Spud}(undef, n)\n",
    "    for i in 1:n\n",
    "        as[i] = Spud(df[i, :name], df[i, :h], df[i, :f], df[i, :l], df[i, :p], df[i, :r], df[i, :s])\n",
    "    end\n",
    "    return as\n",
    "end\n",
    "\n",
    "function cost(a::Spud)::Int64\n",
    "    return cost(a.h, a.f, a.l, a.p, a.r, a.s)\n",
    "end"
   ]
  },
  {
   "cell_type": "markdown",
   "id": "261e21eb",
   "metadata": {},
   "source": [
    "## Form library randomly"
   ]
  },
  {
   "cell_type": "code",
   "execution_count": 7,
   "id": "8534b5bb",
   "metadata": {},
   "outputs": [
    {
     "data": {
      "text/plain": [
       "1.1"
      ]
     },
     "execution_count": 7,
     "metadata": {},
     "output_type": "execute_result"
    }
   ],
   "source": [
    "# form initial library by subsampling indices\n",
    "library = Array{Spud}(undef, 100000)\n",
    "spud_i = 0\n",
    "ss_prob = 1.1"
   ]
  },
  {
   "cell_type": "code",
   "execution_count": 8,
   "id": "3febb950",
   "metadata": {},
   "outputs": [],
   "source": [
    "\n",
    "hrange = MNV:MXV\n",
    "frange = MNV:MXV\n",
    "lrange = MNV:MXV\n",
    "prange = MNV:MXV\n",
    "rrange = MNV:MXV\n",
    "srange = MNV:MXV\n",
    "\n",
    "for h in hrange\n",
    "    if (cost(h, MNV, MNV, MNV, MNV, MNV) <= MXS)\n",
    "        for f in frange\n",
    "            if (cost(h, f, MNV, MNV, MNV, MNV) <= MXS)\n",
    "                for l in lrange\n",
    "                    if (cost(h, f, l, MNV, MNV, MNV) <= MXS)\n",
    "                        for p in prange\n",
    "                            if (cost(h, f, l, p, MNV, MNV) <= MXS)\n",
    "                                for r in rrange\n",
    "                                    if (cost(h, f, l, p, r, MNV) <= MXS)\n",
    "                                        for s in srange\n",
    "                                            if rand() < ss_prob && (cost(h,f,l,p,r,s) <= MXS)\n",
    "                                                check_f = (h == MXV) || (cost(h+1,f,l,p,r,s) > MXS)\n",
    "                                                check_h = (f == MXV) || (cost(h,f+1,l,p,r,s) > MXS)\n",
    "                                                check_l = (l == MXV) || (cost(h,f,l+1,p,r,s) > MXS)\n",
    "                                                check_prs = (p+r+s == 3*MXV) || (cost(h,f,l,p+1,r,s) > MXS)\n",
    "                                                if check_h && check_f && check_l && check_prs\n",
    "                                                    spud_i += 1\n",
    "                                                    #randname = rand_rename(Spud(\" \",h,f,l,p,r,s)).name\n",
    "                                                    #name = string(\"#\", @sprintf(\"%i\", spud_i), \". \", randname)\n",
    "                                                    name = \"\"\n",
    "                                                    library[spud_i] = Spud(name,h,f,l,p,r,s)\n",
    "                                                end\n",
    "                                            end\n",
    "                                        end\n",
    "                                    end\n",
    "                                end                        \n",
    "                            end\n",
    "                        end                        \n",
    "                    end\n",
    "                end\n",
    "            end\n",
    "        end\n",
    "    end\n",
    "end\n"
   ]
  },
  {
   "cell_type": "code",
   "execution_count": 9,
   "id": "9bbe4ff4",
   "metadata": {},
   "outputs": [
    {
     "data": {
      "text/plain": [
       "12675"
      ]
     },
     "execution_count": 9,
     "metadata": {},
     "output_type": "execute_result"
    }
   ],
   "source": [
    "library = unique(library[1:spud_i])\n",
    "n_spuds = length(library)"
   ]
  },
  {
   "cell_type": "code",
   "execution_count": 55,
   "id": "a2a298a0",
   "metadata": {},
   "outputs": [
    {
     "data": {
      "text/plain": [
       "ffp (generic function with 1 method)"
      ]
     },
     "execution_count": 55,
     "metadata": {},
     "output_type": "execute_result"
    }
   ],
   "source": [
    "function ffp(nash_env, nits)\n",
    "    n_nash = length(nash_env)\n",
    "    i_lose = Array{Int}(undef, (n_nash, n_nash))\n",
    "    n_lose = Array{Int}(undef, n_nash)\n",
    "    for i in 1:n_nash\n",
    "        n_lose[i] = 0\n",
    "        ff = nash_env[i]\n",
    "        for j in 1:n_nash\n",
    "            if eval_battle(ff, nash_env[j]) ==-1\n",
    "                n_lose[i] += 1\n",
    "                i_lose[i, n_lose[i]] = j\n",
    "            end\n",
    "        end\n",
    "    end\n",
    "    counts = [0 for i in 1:n_nash]\n",
    "    wins = [0 for i in 1:n_nash]\n",
    "    for i in 1:n_nash\n",
    "        counts[i] += 1\n",
    "        for j in 1:n_lose[i]\n",
    "            i_w = i_lose[i, j]\n",
    "            wins[i_w]+= 1\n",
    "        end\n",
    "    end\n",
    "    for iter in 1:nits\n",
    "        wc = 2 .* wins .+ counts\n",
    "        ind_winners = findall(wc .== maximum(wc))\n",
    "        i = rand(ind_winners)\n",
    "        counts[i] += 1\n",
    "        for j in 1:n_lose[i]\n",
    "            i_w = i_lose[i, j]\n",
    "            wins[i_w]+= 1\n",
    "        end\n",
    "    end\n",
    "    return counts\n",
    "end\n"
   ]
  },
  {
   "cell_type": "code",
   "execution_count": 60,
   "id": "b7bc5f03",
   "metadata": {},
   "outputs": [],
   "source": [
    "nash_env_df = DataFrame(CSV.File(\"spudsD_mxv10_nash.csv\"))\n",
    "nash_env = df_to_spuds(nash_env_df)\n",
    "counts = [parse(Int, s.name[2:end]) for s in nash_env];"
   ]
  },
  {
   "cell_type": "code",
   "execution_count": 61,
   "id": "60a185e2",
   "metadata": {},
   "outputs": [
    {
     "data": {
      "text/plain": [
       "15-element Vector{Int64}:\n",
       "    1\n",
       " 1334\n",
       "    1\n",
       " 1879\n",
       "  925\n",
       "    2\n",
       " 1146\n",
       "  153\n",
       "    1\n",
       "  263\n",
       " 1326\n",
       " 1302\n",
       "    1\n",
       " 1680\n",
       "    1"
      ]
     },
     "execution_count": 61,
     "metadata": {},
     "output_type": "execute_result"
    }
   ],
   "source": [
    "counts = ffp(nash_env[1:15], 10000)"
   ]
  },
  {
   "cell_type": "code",
   "execution_count": 62,
   "id": "daa665b5",
   "metadata": {},
   "outputs": [
    {
     "data": {
      "text/plain": [
       "9-element Vector{Spud}:\n",
       " Spud(\"c4458137\", 3, 2, 10, 10, 10, 10)\n",
       " Spud(\"c3597175\", 4, 2, 10, 10, 10, 6)\n",
       " Spud(\"c1595416\", 7, 1, 10, 10, 3, 10)\n",
       " Spud(\"c1267092\", 3, 9, 3, 3, 3, 1)\n",
       " Spud(\"c1265702\", 2, 3, 10, 10, 10, 4)\n",
       " Spud(\"c1228093\", 8, 7, 1, 1, 2, 2)\n",
       " Spud(\"c1195209\", 3, 7, 3, 5, 1, 4)\n",
       " Spud(\"c1158556\", 10, 1, 8, 4, 1, 5)\n",
       " Spud(\"c1089004\", 10, 4, 4, 1, 1, 3)"
      ]
     },
     "execution_count": 62,
     "metadata": {},
     "output_type": "execute_result"
    }
   ],
   "source": [
    "nash_env = nash_env[1:15][counts .> 10]"
   ]
  },
  {
   "cell_type": "code",
   "execution_count": 64,
   "id": "f8e8d127",
   "metadata": {},
   "outputs": [
    {
     "data": {
      "text/plain": [
       "9"
      ]
     },
     "execution_count": 64,
     "metadata": {},
     "output_type": "execute_result"
    }
   ],
   "source": [
    "n_nash = length(nash_env)"
   ]
  },
  {
   "cell_type": "code",
   "execution_count": 148,
   "id": "cf1dbfa2",
   "metadata": {},
   "outputs": [
    {
     "data": {
      "text/plain": [
       "get_payoffs (generic function with 1 method)"
      ]
     },
     "execution_count": 148,
     "metadata": {},
     "output_type": "execute_result"
    }
   ],
   "source": [
    "function get_payoffs(env::Array{Spud})::Array{Int64}\n",
    "    n_nash = length(env)\n",
    "    payoffs = Array{Int64}(undef, (n_nash, n_nash))\n",
    "    for i in 1:n_nash\n",
    "        for j in 1:n_nash\n",
    "            payoffs[i, j] = eval_battle(env[i], env[j])\n",
    "        end\n",
    "    end\n",
    "    return payoffs\n",
    "end"
   ]
  },
  {
   "cell_type": "code",
   "execution_count": 149,
   "id": "f45dbe6d",
   "metadata": {},
   "outputs": [
    {
     "data": {
      "text/plain": [
       "9×9 Matrix{Int64}:\n",
       "  0   1   1  -1   1  -1  -1   1  -1\n",
       " -1   0   1  -1   1  -1  -1   1   1\n",
       " -1  -1   0  -1  -1   1   1   1   1\n",
       "  1   1   1   0  -1   1  -1  -1  -1\n",
       " -1  -1   1   1   0  -1   1   1  -1\n",
       "  1   1  -1  -1   1   0   1  -1  -1\n",
       "  1   1  -1   1  -1  -1   0  -1  -1\n",
       " -1  -1  -1   1  -1   1   1   0   1\n",
       "  1  -1  -1   1   1   1   1  -1   0"
      ]
     },
     "execution_count": 149,
     "metadata": {},
     "output_type": "execute_result"
    }
   ],
   "source": [
    "payoffs = get_payoffs(nash_env)"
   ]
  },
  {
   "cell_type": "markdown",
   "id": "1387794a",
   "metadata": {},
   "source": [
    "## Attempt to use Gaussian elimination"
   ]
  },
  {
   "cell_type": "code",
   "execution_count": 67,
   "id": "67aba244",
   "metadata": {},
   "outputs": [],
   "source": [
    "#var_order = reverse(1:n_nash)\n",
    "var_order = 1:n_nash\n",
    "transformed_rows = copy(payoffs);\n",
    "row_coeffs = Array{Int64}(undef, (n_nash, n_nash)) .* 0;\n",
    "for i in 1:n_nash\n",
    "    row_coeffs[i, i] = 1\n",
    "end\n",
    "var_i = 1\n",
    "add_row = rand(findall(transformed_rows[:, var_order[var_i]] .!= 0))\n",
    "cf_new = sign(transformed_rows[add_row, var_order[var_i]])\n",
    "old_row = transformed_rows[var_i, :]\n",
    "new_row = cf_new .* transformed_rows[add_row, :]\n",
    "old_coeff = row_coeffs[var_i, :]\n",
    "new_coeff = [0 for i in 1:n_nash];\n",
    "new_coeff[add_row] = cf_new;\n",
    "transformed_rows[add_row, :] = old_row\n",
    "transformed_rows[var_i, :] = new_row\n",
    "row_coeffs[add_row, :] = old_coeff\n",
    "row_coeffs[var_i, :] = new_coeff;\n",
    "for i in (var_i + 1):n_nash\n",
    "    cf0 = transformed_rows[i, var_order[var_i]]\n",
    "    cf1 = transformed_rows[var_i, var_order[var_i]]\n",
    "    gc = gcd(cf0, cf1)\n",
    "    cf1 = div(cf1,gc)\n",
    "    cf0 = div(cf0,gc)\n",
    "    transformed_rows[i, :] = cf1 .* transformed_rows[i, :] .- cf0 .* transformed_rows[var_i, :]\n",
    "    row_coeffs[i, :] = cf1 .* row_coeffs[i, :] .- cf0 .* row_coeffs[var_i, :]\n",
    "end"
   ]
  },
  {
   "cell_type": "code",
   "execution_count": 68,
   "id": "c144c243",
   "metadata": {
    "scrolled": false
   },
   "outputs": [
    {
     "name": "stdout",
     "output_type": "stream",
     "text": [
      "2\n",
      "3\n",
      "4\n",
      "5\n",
      "6\n",
      "7\n",
      "8\n",
      "9\n"
     ]
    }
   ],
   "source": [
    "for var_i in 2:n_nash\n",
    "    println(var_i)\n",
    "    cands = findall(transformed_rows[:, var_order[var_i]] .!= 0)\n",
    "    cands = cands[cands .>= var_i]\n",
    "    if length(cands) > 0\n",
    "        avs = map(abs, transformed_rows[cands, var_order[var_i]])\n",
    "        cands = cands[avs .== minimum(avs)]\n",
    "        add_row = rand(cands)\n",
    "        new_row = transformed_rows[add_row, :]\n",
    "        new_coeff = row_coeffs[add_row, :]\n",
    "        old_row = transformed_rows[var_i, :]\n",
    "        old_coeff = row_coeffs[var_i, :]        \n",
    "        cf_new = sign(new_row[var_order[var_i]])\n",
    "        new_row = cf_new .* new_row\n",
    "        new_coeff = cf_new .* new_coeff\n",
    "        for i in 1:(var_i - 1)\n",
    "            cf0 = new_row[var_order[i]]\n",
    "            cf1 = transformed_rows[i, var_order[i]]\n",
    "            # check what multiplier is needed\n",
    "            gc = gcd(cf0, cf1)\n",
    "            cf1 = div(cf1,gc)\n",
    "            cf0 = div(cf0,gc)\n",
    "            new_row = cf1 .* new_row .- cf0 .* transformed_rows[i, :]\n",
    "            new_coeff = cf1 .* new_coeff\n",
    "            new_coeff = new_coeff - cf0 .* row_coeffs[i, :]\n",
    "        end\n",
    "        transformed_rows[add_row, :] = old_row\n",
    "        transformed_rows[var_i, :] = new_row\n",
    "        row_coeffs[add_row, :] = old_coeff\n",
    "        row_coeffs[var_i, :] = new_coeff\n",
    "    end\n",
    "    for i in (var_i + 1):n_nash\n",
    "        cf0 = transformed_rows[i, var_order[var_i]]\n",
    "        cf1 = transformed_rows[var_i, var_order[var_i]]\n",
    "        gc = gcd(cf0, cf1)\n",
    "        cf1 = div(cf1,gc)\n",
    "        cf0 = div(cf0,gc)\n",
    "        transformed_rows[i, :] = cf1 .* transformed_rows[i, :] .- cf0 .* transformed_rows[var_i, :]\n",
    "        row_coeffs[i, :] = cf1 .* row_coeffs[i, :] .- cf0 .* row_coeffs[var_i, :]\n",
    "    end\n",
    "end"
   ]
  },
  {
   "cell_type": "code",
   "execution_count": 69,
   "id": "99737ee0",
   "metadata": {},
   "outputs": [
    {
     "data": {
      "text/plain": [
       "9×9 Matrix{Int64}:\n",
       " 1  1  -1  -1  0   1  -1  -1   1\n",
       " 0  1   0  -2  1   0  -2   0   2\n",
       " 0  0   1   2  1  -2   0   0  -2\n",
       " 0  0   0   1  1  -1  -1  -1   1\n",
       " 0  0   0   0  1  -1   2   0  -2\n",
       " 0  0   0   0  0   1  -3  -3   5\n",
       " 0  0   0   0  0   0   5  -7   0\n",
       " 0  0   0   0  0   0   0   7  -5\n",
       " 0  0   0   0  0   0   0   0   0"
      ]
     },
     "execution_count": 69,
     "metadata": {},
     "output_type": "execute_result"
    }
   ],
   "source": [
    "transformed_rows"
   ]
  },
  {
   "cell_type": "code",
   "execution_count": 71,
   "id": "9b7e06d6",
   "metadata": {},
   "outputs": [
    {
     "data": {
      "text/plain": [
       "0"
      ]
     },
     "execution_count": 71,
     "metadata": {},
     "output_type": "execute_result"
    }
   ],
   "source": [
    "a = [0 for i in 1:n_nash]\n",
    "for i in 1:n_nash\n",
    "    a = a .+ payoffs[i, :] .* row_coeffs[8, i]\n",
    "end\n",
    "maximum(a .- transformed_rows[8, :])"
   ]
  },
  {
   "cell_type": "code",
   "execution_count": 72,
   "id": "5ff4b646",
   "metadata": {},
   "outputs": [
    {
     "data": {
      "text/plain": [
       "0"
      ]
     },
     "execution_count": 72,
     "metadata": {},
     "output_type": "execute_result"
    }
   ],
   "source": [
    "minimum([transformed_rows[i,var_order[i]] for i in 1:n_nash])"
   ]
  },
  {
   "cell_type": "code",
   "execution_count": null,
   "id": "b0290c0d",
   "metadata": {},
   "outputs": [],
   "source": []
  },
  {
   "cell_type": "code",
   "execution_count": 20,
   "id": "ed8200a0",
   "metadata": {},
   "outputs": [],
   "source": [
    "# invertible because it includes dominated strats"
   ]
  },
  {
   "cell_type": "markdown",
   "id": "4e8671ef",
   "metadata": {},
   "source": [
    "## Using Power iterations"
   ]
  },
  {
   "cell_type": "code",
   "execution_count": 73,
   "id": "e9c9a538",
   "metadata": {},
   "outputs": [],
   "source": [
    "#nash_env_df = DataFrame(CSV.File(\"spudsD_mxv10_nash.csv\"))\n",
    "#nash_env = df_to_spuds(nash_env_df)\n",
    "#counts = [parse(Int, s.name[2:end]) for s in nash_env];\n",
    "#n_nash = length(nash_env)\n",
    "#payoffs = Array{Int64}(undef, (n_nash, n_nash))\n",
    "# for i in 1:n_nash\n",
    "#     for j in 1:n_nash\n",
    "#         payoffs[i, j] = eval_battle(nash_env[i], nash_env[j])\n",
    "#     end\n",
    "# end"
   ]
  },
  {
   "cell_type": "code",
   "execution_count": 118,
   "id": "962db33b",
   "metadata": {},
   "outputs": [
    {
     "data": {
      "text/plain": [
       "power_iterate (generic function with 1 method)"
      ]
     },
     "execution_count": 118,
     "metadata": {},
     "output_type": "execute_result"
    }
   ],
   "source": [
    "function power_iterate(payoffs::Array{Int64}, maxv::Int64, nits::Int64)::Array{Int64}\n",
    "    n_nash = size(payoffs)[1]\n",
    "    payoffs2 = Array{Int64}(undef, (n_nash, n_nash))\n",
    "    for i in 1:n_nash\n",
    "        for j in 1:n_nash\n",
    "            payoffs2[i, j] = sum(payoffs[i, :] .* payoffs[:, j])\n",
    "        end\n",
    "    end\n",
    "    v = [0 for i in 1:n_nash]\n",
    "    for i in 1:20\n",
    "        v[rand(1:n_nash)] = 1\n",
    "        v[rand(1:n_nash)] = -1\n",
    "    end\n",
    "    v = map(x -> div(x * 1000, maximum(map(abs, v))), v)\n",
    "    oldnorm = sum(v .* v)\n",
    "    newnorm = 0\n",
    "    for i in 1:20\n",
    "        v2 = [sum(-payoffs2[i, :] .* v) for i in 1:n_nash]\n",
    "        v2\n",
    "        v = v2\n",
    "        v[1:3]\n",
    "        newnorm = sum(v .* v)\n",
    "        #println(newnorm/oldnorm)\n",
    "        v = map(x -> div(x * 1000, maximum(map(abs, v))), v)\n",
    "        oldnorm = sum(v .* v)\n",
    "    end\n",
    "    ratio = newnorm/oldnorm\n",
    "    mult = 2 * sqrt(sqrt(ratio))\n",
    "    mult = convert(Int64, floor(mult))\n",
    "    v = [maxv for i in 1:n_nash]; \n",
    "    for it_count in 1:nits\n",
    "        #if mod(it_count, 10000) == 0\n",
    "        #    println(minimum(v))\n",
    "        #end\n",
    "        v2 = [sum(payoffs2[i, :] .* v) for i in 1:n_nash];\n",
    "        v = v .* mult .+ map(x -> div(x, mult), v2);\n",
    "        #println(log(maximum(v))/log(2))\n",
    "        v = map(x -> div(x, maximum(v)), v .* maxv);\n",
    "        v[v .< 0] .= 0\n",
    "    end\n",
    "    return v\n",
    "end"
   ]
  },
  {
   "cell_type": "code",
   "execution_count": 142,
   "id": "9431967d",
   "metadata": {},
   "outputs": [
    {
     "name": "stdout",
     "output_type": "stream",
     "text": [
      "  0.228164 seconds (1.07 M allocations: 50.058 MiB, 5.30% gc time)\n"
     ]
    }
   ],
   "source": [
    "@time v = power_iterate(payoffs, 1000000, 10000)\n",
    "w_power = v./sum(v);"
   ]
  },
  {
   "cell_type": "code",
   "execution_count": 143,
   "id": "ea833879",
   "metadata": {},
   "outputs": [
    {
     "data": {
      "text/plain": [
       "1.9801548481079845e-5"
      ]
     },
     "execution_count": 143,
     "metadata": {},
     "output_type": "execute_result"
    }
   ],
   "source": [
    "maximum([sum(payoffs[i, :] .* w_power) for i in 1:n_nash])"
   ]
  },
  {
   "cell_type": "code",
   "execution_count": 136,
   "id": "2e28c993",
   "metadata": {},
   "outputs": [
    {
     "name": "stdout",
     "output_type": "stream",
     "text": [
      "  0.444364 seconds (8.00 M allocations: 549.471 MiB, 20.65% gc time)\n"
     ]
    }
   ],
   "source": [
    "@time counts = ffp(nash_env, 2000000)\n",
    "w_ffp = counts ./ sum(counts);"
   ]
  },
  {
   "cell_type": "code",
   "execution_count": 137,
   "id": "eea05611",
   "metadata": {},
   "outputs": [
    {
     "data": {
      "text/plain": [
       "0.0011144949847725905"
      ]
     },
     "execution_count": 137,
     "metadata": {},
     "output_type": "execute_result"
    }
   ],
   "source": [
    "maximum([sum(payoffs[i, :] .* w_ffp) for i in 1:n_nash])"
   ]
  },
  {
   "cell_type": "markdown",
   "id": "63cf02fe",
   "metadata": {},
   "source": [
    "## Using Linear programming (rock-paper-scissors)"
   ]
  },
  {
   "cell_type": "code",
   "execution_count": 144,
   "id": "cd882dc1",
   "metadata": {},
   "outputs": [],
   "source": [
    "using JuMP\n",
    "using HiGHS"
   ]
  },
  {
   "cell_type": "code",
   "execution_count": 276,
   "id": "888cfeef",
   "metadata": {},
   "outputs": [
    {
     "data": {
      "text/plain": [
       "A JuMP Model\n",
       "Feasibility problem with:\n",
       "Variables: 0\n",
       "Model mode: AUTOMATIC\n",
       "CachingOptimizer state: EMPTY_OPTIMIZER\n",
       "Solver name: HiGHS"
      ]
     },
     "execution_count": 276,
     "metadata": {},
     "output_type": "execute_result"
    }
   ],
   "source": [
    "vector_model = Model(HiGHS.Optimizer)"
   ]
  },
  {
   "cell_type": "code",
   "execution_count": 277,
   "id": "201537e5",
   "metadata": {},
   "outputs": [
    {
     "data": {
      "text/plain": [
       "15-element Vector{Spud}:\n",
       " Spud(\"c12207143\", 6, 1, 10, 10, 10, 10)\n",
       " Spud(\"c4458137\", 3, 2, 10, 10, 10, 10)\n",
       " Spud(\"c3701536\", 9, 7, 1, 2, 1, 1)\n",
       " Spud(\"c3597175\", 4, 2, 10, 10, 10, 6)\n",
       " Spud(\"c1595416\", 7, 1, 10, 10, 3, 10)\n",
       " Spud(\"c1400790\", 10, 4, 3, 2, 1, 4)\n",
       " Spud(\"c1267092\", 3, 9, 3, 3, 3, 1)\n",
       " Spud(\"c1265702\", 2, 3, 10, 10, 10, 4)\n",
       " Spud(\"c1244219\", 6, 8, 2, 1, 3, 1)\n",
       " Spud(\"c1228093\", 8, 7, 1, 1, 2, 2)\n",
       " Spud(\"c1195209\", 3, 7, 3, 5, 1, 4)\n",
       " Spud(\"c1158556\", 10, 1, 8, 4, 1, 5)\n",
       " Spud(\"c1137473\", 2, 10, 10, 2, 1, 3)\n",
       " Spud(\"c1089004\", 10, 4, 4, 1, 1, 3)\n",
       " Spud(\"c1059805\", 7, 1, 10, 10, 10, 3)"
      ]
     },
     "execution_count": 277,
     "metadata": {},
     "output_type": "execute_result"
    }
   ],
   "source": [
    "nash_env_df = DataFrame(CSV.File(\"spudsD_mxv10_nash.csv\"))\n",
    "nash_env = df_to_spuds(nash_env_df)[1:15]"
   ]
  },
  {
   "cell_type": "code",
   "execution_count": 278,
   "id": "4817fafe",
   "metadata": {},
   "outputs": [
    {
     "data": {
      "text/plain": [
       "15×15 Matrix{Int64}:\n",
       "  0  -1  -1  -1   1   1  -1  -1  -1  -1  -1   1  -1   1   1\n",
       "  1   0  -1   1   1  -1  -1   1  -1  -1  -1   1   1  -1   1\n",
       "  1   1   0   1  -1  -1  -1   1   1  -1   1  -1  -1  -1  -1\n",
       "  1  -1  -1   0   1   1  -1   1  -1  -1  -1   1   1   1   1\n",
       " -1  -1   1  -1   0   1  -1  -1  -1   1   1   1  -1   1  -1\n",
       " -1   1   1  -1  -1   0   1   1   1   1   1  -1   1  -1  -1\n",
       "  1   1   1   1   1  -1   0  -1   1   1  -1  -1   1  -1   1\n",
       "  1  -1  -1  -1   1  -1   1   0  -1  -1   1   1   1  -1   1\n",
       "  1   1  -1   1   1  -1  -1   1   0  -1  -1  -1  -1  -1   1\n",
       "  1   1   1   1  -1  -1  -1   1   1   0   1  -1  -1  -1  -1\n",
       "  1   1  -1   1  -1  -1   1  -1   1  -1   0  -1   1  -1   1\n",
       " -1  -1   1  -1  -1   1   1  -1   1   1   1   0  -1   1  -1\n",
       "  1  -1   1  -1   1  -1  -1  -1   1   1  -1   1   0   1   1\n",
       " -1   1   1  -1  -1   1   1   1   1   1   1  -1  -1   0  -1\n",
       " -1  -1   1  -1   1   1  -1  -1  -1   1  -1   1  -1   1   0"
      ]
     },
     "execution_count": 278,
     "metadata": {},
     "output_type": "execute_result"
    }
   ],
   "source": [
    "payoffs = get_payoffs(nash_env)"
   ]
  },
  {
   "cell_type": "code",
   "execution_count": 279,
   "id": "69510bcb",
   "metadata": {},
   "outputs": [],
   "source": [
    "#payoffs = hcat([0; 1; -1], [-1; 0; 1], [1; -1; 0])"
   ]
  },
  {
   "cell_type": "code",
   "execution_count": 280,
   "id": "4eda74a2",
   "metadata": {},
   "outputs": [
    {
     "data": {
      "text/plain": [
       "15"
      ]
     },
     "execution_count": 280,
     "metadata": {},
     "output_type": "execute_result"
    }
   ],
   "source": [
    "n_nash = size(payoffs)[1]\n",
    "# min <c, x> s.t. Ax = b, x>= 0\n"
   ]
  },
  {
   "cell_type": "markdown",
   "id": "f6f1aaf5",
   "metadata": {},
   "source": [
    "```\n",
    "variable 4-6 will be the value of the game\n",
    "Ax[1:3] + x[4:6] - x[7] = -1\n",
    "\n",
    "[A  I   -1] x[1:3] =  [1]\n",
    "[1  0   0 ] x[4:6]  = [1]\n",
    "            x[7]\n",
    "\n",
    "also 1'x = 1\n",
    "\n",
    "Ax = \n",
    "\n",
    "x[7] (= 1 + value of game) to be minimized\n",
    "```"
   ]
  },
  {
   "cell_type": "code",
   "execution_count": 281,
   "id": "1c4d47b8",
   "metadata": {},
   "outputs": [
    {
     "data": {
      "text/plain": [
       "16×31 Matrix{Int64}:\n",
       "  0  -1  -1  -1   1   1  -1  -1  -1  …  0  0  0  0  0  0  0  0  0  0  0  -1\n",
       "  1   0  -1   1   1  -1  -1   1  -1     0  0  0  0  0  0  0  0  0  0  0  -1\n",
       "  1   1   0   1  -1  -1  -1   1   1     0  0  0  0  0  0  0  0  0  0  0  -1\n",
       "  1  -1  -1   0   1   1  -1   1  -1     0  0  0  0  0  0  0  0  0  0  0  -1\n",
       " -1  -1   1  -1   0   1  -1  -1  -1     1  0  0  0  0  0  0  0  0  0  0  -1\n",
       " -1   1   1  -1  -1   0   1   1   1  …  0  1  0  0  0  0  0  0  0  0  0  -1\n",
       "  1   1   1   1   1  -1   0  -1   1     0  0  1  0  0  0  0  0  0  0  0  -1\n",
       "  1  -1  -1  -1   1  -1   1   0  -1     0  0  0  1  0  0  0  0  0  0  0  -1\n",
       "  1   1  -1   1   1  -1  -1   1   0     0  0  0  0  1  0  0  0  0  0  0  -1\n",
       "  1   1   1   1  -1  -1  -1   1   1     0  0  0  0  0  1  0  0  0  0  0  -1\n",
       "  1   1  -1   1  -1  -1   1  -1   1  …  0  0  0  0  0  0  1  0  0  0  0  -1\n",
       " -1  -1   1  -1  -1   1   1  -1   1     0  0  0  0  0  0  0  1  0  0  0  -1\n",
       "  1  -1   1  -1   1  -1  -1  -1   1     0  0  0  0  0  0  0  0  1  0  0  -1\n",
       " -1   1   1  -1  -1   1   1   1   1     0  0  0  0  0  0  0  0  0  1  0  -1\n",
       " -1  -1   1  -1   1   1  -1  -1  -1     0  0  0  0  0  0  0  0  0  0  1  -1\n",
       "  1   1   1   1   1   1   1   1   1  …  0  0  0  0  0  0  0  0  0  0  0   0"
      ]
     },
     "execution_count": 281,
     "metadata": {},
     "output_type": "execute_result"
    }
   ],
   "source": [
    "sumv = zeros(Int64, (1, 2 * n_nash + 1))\n",
    "sumv[1:n_nash] .= 1\n",
    "A = hcat(payoffs, Matrix(1I,n_nash, n_nash), -ones(Int64, n_nash, 1))\n",
    "A = vcat(A, sumv)"
   ]
  },
  {
   "cell_type": "code",
   "execution_count": 282,
   "id": "5f72acf0",
   "metadata": {},
   "outputs": [
    {
     "data": {
      "text/plain": [
       "1×16 transpose(::Vector{Int64}) with eltype Int64:\n",
       " -1  -1  -1  -1  -1  -1  -1  -1  -1  -1  -1  -1  -1  -1  -1  1"
      ]
     },
     "execution_count": 282,
     "metadata": {},
     "output_type": "execute_result"
    }
   ],
   "source": [
    "b = zeros(Int64, n_nash + 1);\n",
    "b[1:n_nash] .= -1\n",
    "b[n_nash+1] = 1\n",
    "transpose(b)"
   ]
  },
  {
   "cell_type": "code",
   "execution_count": 283,
   "id": "ed994d33",
   "metadata": {},
   "outputs": [],
   "source": [
    "c = zeros(Int64, 2 * n_nash + 1);\n",
    "c[2 * n_nash + 1] = 1;"
   ]
  },
  {
   "cell_type": "code",
   "execution_count": 284,
   "id": "ddc2a35d",
   "metadata": {},
   "outputs": [],
   "source": [
    "@variable(vector_model, x[1:(2*n_nash+1)] >= 0);"
   ]
  },
  {
   "cell_type": "code",
   "execution_count": 285,
   "id": "347545ad",
   "metadata": {},
   "outputs": [
    {
     "data": {
      "text/plain": [
       "16-element Vector{ConstraintRef{Model, MathOptInterface.ConstraintIndex{MathOptInterface.ScalarAffineFunction{Float64}, MathOptInterface.EqualTo{Float64}}, ScalarShape}}:\n",
       " -x[2] - x[3] - x[4] + x[5] + x[6] - x[7] - x[8] - x[9] - x[10] - x[11] + x[12] - x[13] + x[14] + x[15] + x[16] - x[31] = -1\n",
       " x[1] - x[3] + x[4] + x[5] - x[6] - x[7] + x[8] - x[9] - x[10] - x[11] + x[12] + x[13] - x[14] + x[15] + x[17] - x[31] = -1\n",
       " x[1] + x[2] + x[4] - x[5] - x[6] - x[7] + x[8] + x[9] - x[10] + x[11] - x[12] - x[13] - x[14] - x[15] + x[18] - x[31] = -1\n",
       " x[1] - x[2] - x[3] + x[5] + x[6] - x[7] + x[8] - x[9] - x[10] - x[11] + x[12] + x[13] + x[14] + x[15] + x[19] - x[31] = -1\n",
       " -x[1] - x[2] + x[3] - x[4] + x[6] - x[7] - x[8] - x[9] + x[10] + x[11] + x[12] - x[13] + x[14] - x[15] + x[20] - x[31] = -1\n",
       " -x[1] + x[2] + x[3] - x[4] - x[5] + x[7] + x[8] + x[9] + x[10] + x[11] - x[12] + x[13] - x[14] - x[15] + x[21] - x[31] = -1\n",
       " x[1] + x[2] + x[3] + x[4] + x[5] - x[6] - x[8] + x[9] + x[10] - x[11] - x[12] + x[13] - x[14] + x[15] + x[22] - x[31] = -1\n",
       " x[1] - x[2] - x[3] - x[4] + x[5] - x[6] + x[7] - x[9] - x[10] + x[11] + x[12] + x[13] - x[14] + x[15] + x[23] - x[31] = -1\n",
       " x[1] + x[2] - x[3] + x[4] + x[5] - x[6] - x[7] + x[8] - x[10] - x[11] - x[12] - x[13] - x[14] + x[15] + x[24] - x[31] = -1\n",
       " x[1] + x[2] + x[3] + x[4] - x[5] - x[6] - x[7] + x[8] + x[9] + x[11] - x[12] - x[13] - x[14] - x[15] + x[25] - x[31] = -1\n",
       " x[1] + x[2] - x[3] + x[4] - x[5] - x[6] + x[7] - x[8] + x[9] - x[10] - x[12] + x[13] - x[14] + x[15] + x[26] - x[31] = -1\n",
       " -x[1] - x[2] + x[3] - x[4] - x[5] + x[6] + x[7] - x[8] + x[9] + x[10] + x[11] - x[13] + x[14] - x[15] + x[27] - x[31] = -1\n",
       " x[1] - x[2] + x[3] - x[4] + x[5] - x[6] - x[7] - x[8] + x[9] + x[10] - x[11] + x[12] + x[14] + x[15] + x[28] - x[31] = -1\n",
       " -x[1] + x[2] + x[3] - x[4] - x[5] + x[6] + x[7] + x[8] + x[9] + x[10] + x[11] - x[12] - x[13] - x[15] + x[29] - x[31] = -1\n",
       " -x[1] - x[2] + x[3] - x[4] + x[5] + x[6] - x[7] - x[8] - x[9] + x[10] - x[11] + x[12] - x[13] + x[14] + x[30] - x[31] = -1\n",
       " x[1] + x[2] + x[3] + x[4] + x[5] + x[6] + x[7] + x[8] + x[9] + x[10] + x[11] + x[12] + x[13] + x[14] + x[15] = 1"
      ]
     },
     "execution_count": 285,
     "metadata": {},
     "output_type": "execute_result"
    }
   ],
   "source": [
    "@constraint(vector_model, A * x .== b)"
   ]
  },
  {
   "cell_type": "code",
   "execution_count": 286,
   "id": "4148a250",
   "metadata": {},
   "outputs": [
    {
     "data": {
      "text/latex": [
       "$ x_{31} $"
      ],
      "text/plain": [
       "x[31]"
      ]
     },
     "execution_count": 286,
     "metadata": {},
     "output_type": "execute_result"
    }
   ],
   "source": [
    "@objective(vector_model, Min, c' * x)"
   ]
  },
  {
   "cell_type": "code",
   "execution_count": 287,
   "id": "ee71467c",
   "metadata": {},
   "outputs": [
    {
     "data": {
      "text/plain": [
       "A JuMP Model\n",
       "Minimization problem with:\n",
       "Variables: 31\n",
       "Objective function type: AffExpr\n",
       "`AffExpr`-in-`MathOptInterface.EqualTo{Float64}`: 16 constraints\n",
       "`VariableRef`-in-`MathOptInterface.GreaterThan{Float64}`: 31 constraints\n",
       "Model mode: AUTOMATIC\n",
       "CachingOptimizer state: EMPTY_OPTIMIZER\n",
       "Solver name: HiGHS\n",
       "Names registered in the model: x"
      ]
     },
     "execution_count": 287,
     "metadata": {},
     "output_type": "execute_result"
    }
   ],
   "source": [
    "vector_model"
   ]
  },
  {
   "cell_type": "code",
   "execution_count": 292,
   "id": "7d04cfb4",
   "metadata": {},
   "outputs": [
    {
     "name": "stdout",
     "output_type": "stream",
     "text": [
      "Solving LP without presolve or with basis\n",
      "Model   status      : Optimal\n",
      "Objective value     :  1.0000000000e+00\n",
      "HiGHS run time      :          0.00\n",
      "  0.000109 seconds (2 allocations: 32 bytes)\n"
     ]
    }
   ],
   "source": [
    "@time optimize!(vector_model)"
   ]
  },
  {
   "cell_type": "code",
   "execution_count": 293,
   "id": "96d727a1",
   "metadata": {},
   "outputs": [],
   "source": [
    "[value(x[i]) for i in 1:(2 * n_nash + 1)];"
   ]
  },
  {
   "cell_type": "code",
   "execution_count": 294,
   "id": "da24c6bb",
   "metadata": {},
   "outputs": [
    {
     "data": {
      "text/plain": [
       "1.0000000000000018"
      ]
     },
     "execution_count": 294,
     "metadata": {},
     "output_type": "execute_result"
    }
   ],
   "source": [
    "w_lp = [value(x[i]) for i in 1:n_nash]\n",
    "sum(w_lp)"
   ]
  },
  {
   "cell_type": "code",
   "execution_count": 295,
   "id": "a978c4eb",
   "metadata": {},
   "outputs": [
    {
     "data": {
      "text/plain": [
       "2.525757381022231e-15"
      ]
     },
     "execution_count": 295,
     "metadata": {},
     "output_type": "execute_result"
    }
   ],
   "source": [
    "w_lp = w_lp./sum(w_lp);\n",
    "maximum([sum(payoffs[i, :] .* w_lp) for i in 1:n_nash])"
   ]
  },
  {
   "cell_type": "code",
   "execution_count": null,
   "id": "32a2eb0c",
   "metadata": {},
   "outputs": [],
   "source": []
  }
 ],
 "metadata": {
  "kernelspec": {
   "display_name": "Julia 1.9.3",
   "language": "julia",
   "name": "julia-1.9"
  },
  "language_info": {
   "file_extension": ".jl",
   "mimetype": "application/julia",
   "name": "julia",
   "version": "1.9.3"
  }
 },
 "nbformat": 4,
 "nbformat_minor": 5
}

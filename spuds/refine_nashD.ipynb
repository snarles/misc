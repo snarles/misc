{
 "cells": [
  {
   "cell_type": "markdown",
   "id": "052be005",
   "metadata": {},
   "source": [
    "Design of a new game, Spuds"
   ]
  },
  {
   "cell_type": "code",
   "execution_count": 1,
   "id": "494818e8",
   "metadata": {},
   "outputs": [],
   "source": [
    "using Random\n",
    "using DataFrames\n",
    "using CSV\n",
    "using DelimitedFiles\n",
    "using Statistics\n",
    "using Printf\n",
    "using LinearAlgebra\n",
    "using Dates"
   ]
  },
  {
   "cell_type": "code",
   "execution_count": 2,
   "id": "1e1008a1",
   "metadata": {},
   "outputs": [
    {
     "data": {
      "text/plain": [
       "cost (generic function with 1 method)"
      ]
     },
     "execution_count": 2,
     "metadata": {},
     "output_type": "execute_result"
    }
   ],
   "source": [
    "struct Spud\n",
    "    name::String\n",
    "    h::Int64\n",
    "    f::Int64\n",
    "    l::Int64\n",
    "    p::Int64\n",
    "    r::Int64\n",
    "    s::Int64\n",
    "end\n",
    "\n",
    "const MXS = 100\n",
    "const MXV = 10\n",
    "const MNV = 1\n",
    "\n",
    "function cost(h::Int64, f::Int64, l::Int64, p::Int64, r::Int64, s::Int64)::Int64\n",
    "    #return h*(f+l-2*MNV) + f*(p+r+s-3*MNV) + h+f+l+p+r+s-6*MNV\n",
    "    return h*(f+l) + f*(p+r+s)\n",
    "end"
   ]
  },
  {
   "cell_type": "code",
   "execution_count": 3,
   "id": "ac830f74",
   "metadata": {},
   "outputs": [
    {
     "data": {
      "text/plain": [
       "eval_battle (generic function with 1 method)"
      ]
     },
     "execution_count": 3,
     "metadata": {},
     "output_type": "execute_result"
    }
   ],
   "source": [
    "function compare_int_list(as::Vector{Int64}, bs::Vector{Int64}, tiebreaker::Int64 = 0)::Int64\n",
    "    n = min(length(as), length(bs))\n",
    "    for i in 1:n\n",
    "        if as[i] != bs[i]\n",
    "            return sign(as[i] - bs[i])\n",
    "        end\n",
    "    end\n",
    "    return tiebreaker\n",
    "end\n",
    "\n",
    "function spud_h_seq(a::Spud)::Vector{Int64}\n",
    "    return [a.h, a.s, a.r, a.p, a.l, a.f]\n",
    "end\n",
    "\n",
    "function spud_f_seq(a::Spud)::Vector{Int64}\n",
    "    return [a.f, a.s, a.r, a.p, a.l, a.h]\n",
    "end\n",
    "\n",
    "function spud_l_seq(a::Spud)::Vector{Int64}\n",
    "    return [a.l]\n",
    "end\n",
    "\n",
    "function spud_p_seq(a::Spud)::Vector{Int64}\n",
    "    return [a.p, a.l]\n",
    "end\n",
    "\n",
    "function spud_r_seq(a::Spud)::Vector{Int64}\n",
    "    return [a.r, a.f]\n",
    "end\n",
    "\n",
    "function spud_s_seq(a::Spud)::Vector{Int64}\n",
    "    return [a.s, a.h]\n",
    "end\n",
    "\n",
    "function spud_utb_seq(a::Spud)::Vector{Int64}\n",
    "    return [a.h, a.f, a.l, a.p, a.r, a.s]\n",
    "end\n",
    "\n",
    "function eval_finds(a::Spud, b::Spud, tiebreaker::Int64 = 0)::Int64\n",
    "    ev = compare_int_list(spud_f_seq(a), spud_h_seq(b), tiebreaker)\n",
    "    ans = ev\n",
    "end\n",
    "\n",
    "function eval_melee(a::Spud, b::Spud, tiebreaker1::Int64 = 0, tiebreaker2::Int64 = 0)::Int64\n",
    "    comp_p = compare_int_list(spud_p_seq(a), spud_p_seq(b), tiebreaker1)\n",
    "    comp_r = compare_int_list(spud_r_seq(a), spud_r_seq(b), tiebreaker1)\n",
    "    comp_s = compare_int_list(spud_s_seq(a), spud_s_seq(b), tiebreaker1)\n",
    "    ev = 4 * comp_p + 3 * comp_r + 2 * comp_s\n",
    "    return sign(ev + (1-abs(ev))*tiebreaker2)\n",
    "end\n",
    "\n",
    "function eval_battle(a::Spud, b::Spud)::Int64\n",
    "    utb = compare_int_list(spud_utb_seq(a), spud_utb_seq(b), 0) # universal tiebreaker\n",
    "    if utb == 0\n",
    "        return 0\n",
    "    end\n",
    "    a_finds = eval_finds(a, b, utb)==1\n",
    "    b_finds = eval_finds(b, a, utb)==1\n",
    "    melee_win = eval_melee(a, b, 0, utb)\n",
    "    if a_finds && b_finds\n",
    "        return melee_win\n",
    "    end\n",
    "    if a_finds && !b_finds\n",
    "        return 1\n",
    "    end\n",
    "    if !a_finds && b_finds\n",
    "        return -1\n",
    "    end\n",
    "    if !a_finds && !b_finds\n",
    "        return compare_int_list([a.l, melee_win], [b.l, -melee_win], 0)\n",
    "    end\n",
    "end"
   ]
  },
  {
   "cell_type": "code",
   "execution_count": 4,
   "id": "40b9dc47",
   "metadata": {},
   "outputs": [
    {
     "data": {
      "text/plain": [
       "random_name_and_stat (generic function with 1 method)"
      ]
     },
     "execution_count": 4,
     "metadata": {},
     "output_type": "execute_result"
    }
   ],
   "source": [
    "tab = CSV.read(\"census_yob2022_names.txt\", DataFrame, header = false)\n",
    "names = tab.Column1\n",
    "adjectives = CSV.read(\"adjectives.csv\", DataFrame)\n",
    "nouns = CSV.read(\"nouns.csv\", DataFrame)\n",
    "jobs = CSV.read(\"jobs.csv\", DataFrame)\n",
    "\n",
    "const mult_noun = 1\n",
    "const mult_adj = 2\n",
    "const mult_job = 3\n",
    "\n",
    "\n",
    "function random_name_and_stat()::Spud\n",
    "    vp = [0, 0, 0, 0, 0, 0]\n",
    "    #nametype = rand([1,1,1,1,1,2,2,2,3])\n",
    "    name = \"\"\n",
    "    noun = \"\"\n",
    "    adj = \"\"\n",
    "    noun_i = rand(1:nrow(nouns))\n",
    "    noun = nouns[noun_i, :noun]\n",
    "    vp[1] = vp[1] + nouns[noun_i, :H] * mult_noun\n",
    "    vp[2] = vp[2] + nouns[noun_i, :F] * mult_noun\n",
    "    vp[3] = vp[3] + nouns[noun_i, :L] * mult_noun\n",
    "    vp[4] = vp[4] + nouns[noun_i, :P] * mult_noun\n",
    "    vp[5] = vp[5] + nouns[noun_i, :R] * mult_noun\n",
    "    vp[6] = vp[6] + nouns[noun_i, :S] * mult_noun\n",
    "    adj_i = rand(1:nrow(adjectives))\n",
    "    adj = adjectives[adj_i, :adjective]\n",
    "    vp[1] = vp[1] + adjectives[adj_i, :H] * mult_adj\n",
    "    vp[2] = vp[2] + adjectives[adj_i, :F] * mult_adj\n",
    "    vp[3] = vp[3] + adjectives[adj_i, :L] * mult_adj\n",
    "    vp[4] = vp[4] + adjectives[adj_i, :P] * mult_adj\n",
    "    vp[5] = vp[5] + adjectives[adj_i, :R] * mult_adj\n",
    "    vp[6] = vp[6] + adjectives[adj_i, :S] * mult_adj\n",
    "    job_i = rand(1:nrow(jobs))\n",
    "    job = jobs[job_i, :job]\n",
    "    vp[1] = vp[1] + jobs[job_i, :H] * mult_job\n",
    "    vp[2] = vp[2] + jobs[job_i, :F] * mult_job\n",
    "    vp[3] = vp[3] + jobs[job_i, :L] * mult_job\n",
    "    vp[4] = vp[4] + jobs[job_i, :P] * mult_job\n",
    "    vp[5] = vp[5] + jobs[job_i, :R] * mult_job\n",
    "    vp[6] = vp[6] + jobs[job_i, :S] * mult_job\n",
    "    name = string(adj, \" \", job, \" \", noun)\n",
    "    Spud(name, vp[1], vp[2], vp[3], vp[4], vp[5], vp[6])\n",
    "end"
   ]
  },
  {
   "cell_type": "code",
   "execution_count": 5,
   "id": "f606e085",
   "metadata": {},
   "outputs": [
    {
     "data": {
      "text/plain": [
       "rand_rename (generic function with 2 methods)"
      ]
     },
     "execution_count": 5,
     "metadata": {},
     "output_type": "execute_result"
    }
   ],
   "source": [
    "function rand_rename(a::Spud, n_tries::Int = 100)::Spud\n",
    "    best_score = 0.0\n",
    "    best_b = random_name_and_stat()\n",
    "    for ii in 1:n_tries\n",
    "        b = random_name_and_stat()\n",
    "        b_norm = sqrt(b.h^2 + b.f^2 + b.l^2 + b.p^2 + b.r^2 + b.s^2)\n",
    "        score = (a.h * b.h + a.f * b.f + a.l * b.l + a.p * b.p + a.r * b.r + a.s * b.s)/b_norm\n",
    "        if score > best_score\n",
    "            best_score = score\n",
    "            best_b = b\n",
    "        end\n",
    "    end\n",
    "    return Spud(best_b.name, a.h, a.f, a.l, a.p, a.r, a.s)\n",
    "end"
   ]
  },
  {
   "cell_type": "code",
   "execution_count": 6,
   "id": "560e9539",
   "metadata": {},
   "outputs": [
    {
     "data": {
      "text/plain": [
       "cost (generic function with 2 methods)"
      ]
     },
     "execution_count": 6,
     "metadata": {},
     "output_type": "execute_result"
    }
   ],
   "source": [
    "function eval_battle_list(a::Spud, bs::Array{Spud})::Int\n",
    "    score = 0\n",
    "    for ii in 1:length(bs)\n",
    "        score = score + eval_battle(a, bs[ii])\n",
    "    end\n",
    "    return score\n",
    "end\n",
    "\n",
    "function eval_battle_list2(a::Spud, bs::Array{Spud}, w::Vector{Float64})::AbstractFloat\n",
    "    score = 0.0\n",
    "    for ii in 1:length(bs)\n",
    "        score = score + w[ii] * eval_battle(a, bs[ii])\n",
    "    end\n",
    "    return score\n",
    "end\n",
    "\n",
    "function df_to_spuds(df::DataFrame)::Array{Spud}\n",
    "    n = size(df)[1]\n",
    "    as = Array{Spud}(undef, n)\n",
    "    for i in 1:n\n",
    "        as[i] = Spud(df[i, :name], df[i, :h], df[i, :f], df[i, :l], df[i, :p], df[i, :r], df[i, :s])\n",
    "    end\n",
    "    return as\n",
    "end\n",
    "\n",
    "function cost(a::Spud)::Int64\n",
    "    return cost(a.h, a.f, a.l, a.p, a.r, a.s)\n",
    "end"
   ]
  },
  {
   "cell_type": "markdown",
   "id": "261e21eb",
   "metadata": {},
   "source": [
    "## Form library randomly"
   ]
  },
  {
   "cell_type": "code",
   "execution_count": 7,
   "id": "8534b5bb",
   "metadata": {},
   "outputs": [
    {
     "data": {
      "text/plain": [
       "1.1"
      ]
     },
     "execution_count": 7,
     "metadata": {},
     "output_type": "execute_result"
    }
   ],
   "source": [
    "# form initial library by subsampling indices\n",
    "library = Array{Spud}(undef, 100000)\n",
    "spud_i = 0\n",
    "ss_prob = 1.1"
   ]
  },
  {
   "cell_type": "code",
   "execution_count": 8,
   "id": "3febb950",
   "metadata": {},
   "outputs": [],
   "source": [
    "\n",
    "hrange = MNV:MXV\n",
    "frange = MNV:MXV\n",
    "lrange = MNV:MXV\n",
    "prange = MNV:MXV\n",
    "rrange = MNV:MXV\n",
    "srange = MNV:MXV\n",
    "\n",
    "for h in hrange\n",
    "    if (cost(h, MNV, MNV, MNV, MNV, MNV) <= MXS)\n",
    "        for f in frange\n",
    "            if (cost(h, f, MNV, MNV, MNV, MNV) <= MXS)\n",
    "                for l in lrange\n",
    "                    if (cost(h, f, l, MNV, MNV, MNV) <= MXS)\n",
    "                        for p in prange\n",
    "                            if (cost(h, f, l, p, MNV, MNV) <= MXS)\n",
    "                                for r in rrange\n",
    "                                    if (cost(h, f, l, p, r, MNV) <= MXS)\n",
    "                                        for s in srange\n",
    "                                            if rand() < ss_prob && (cost(h,f,l,p,r,s) <= MXS)\n",
    "                                                check_f = (h == MXV) || (cost(h+1,f,l,p,r,s) > MXS)\n",
    "                                                check_h = (f == MXV) || (cost(h,f+1,l,p,r,s) > MXS)\n",
    "                                                check_l = (l == MXV) || (cost(h,f,l+1,p,r,s) > MXS)\n",
    "                                                check_prs = (p+r+s == 3*MXV) || (cost(h,f,l,p+1,r,s) > MXS)\n",
    "                                                if check_h && check_f && check_l && check_prs\n",
    "                                                    spud_i += 1\n",
    "                                                    #randname = rand_rename(Spud(\" \",h,f,l,p,r,s)).name\n",
    "                                                    #name = string(\"#\", @sprintf(\"%i\", spud_i), \". \", randname)\n",
    "                                                    name = \"\"\n",
    "                                                    library[spud_i] = Spud(name,h,f,l,p,r,s)\n",
    "                                                end\n",
    "                                            end\n",
    "                                        end\n",
    "                                    end\n",
    "                                end                        \n",
    "                            end\n",
    "                        end                        \n",
    "                    end\n",
    "                end\n",
    "            end\n",
    "        end\n",
    "    end\n",
    "end\n"
   ]
  },
  {
   "cell_type": "code",
   "execution_count": 9,
   "id": "9bbe4ff4",
   "metadata": {},
   "outputs": [
    {
     "data": {
      "text/plain": [
       "12675"
      ]
     },
     "execution_count": 9,
     "metadata": {},
     "output_type": "execute_result"
    }
   ],
   "source": [
    "library = unique(library[1:spud_i])\n",
    "n_spuds = length(library)"
   ]
  },
  {
   "cell_type": "code",
   "execution_count": 230,
   "id": "b7bc5f03",
   "metadata": {},
   "outputs": [],
   "source": [
    "nash_env_df = DataFrame(CSV.File(\"spudsD_mxv10_nash.csv\"))\n",
    "nash_env = df_to_spuds(nash_env_df)\n",
    "counts = [parse(Int, s.name[2:end]) for s in nash_env];"
   ]
  },
  {
   "cell_type": "code",
   "execution_count": 231,
   "id": "6223364b",
   "metadata": {},
   "outputs": [
    {
     "data": {
      "text/plain": [
       "40-element Vector{Spud}:\n",
       " Spud(\"c12207143\", 6, 1, 10, 10, 10, 10)\n",
       " Spud(\"c4458137\", 3, 2, 10, 10, 10, 10)\n",
       " Spud(\"c3701536\", 9, 7, 1, 2, 1, 1)\n",
       " Spud(\"c3597175\", 4, 2, 10, 10, 10, 6)\n",
       " Spud(\"c1595416\", 7, 1, 10, 10, 3, 10)\n",
       " Spud(\"c1400790\", 10, 4, 3, 2, 1, 4)\n",
       " Spud(\"c1267092\", 3, 9, 3, 3, 3, 1)\n",
       " Spud(\"c1265702\", 2, 3, 10, 10, 10, 4)\n",
       " Spud(\"c1244219\", 6, 8, 2, 1, 3, 1)\n",
       " Spud(\"c1228093\", 8, 7, 1, 1, 2, 2)\n",
       " Spud(\"c1195209\", 3, 7, 3, 5, 1, 4)\n",
       " Spud(\"c1158556\", 10, 1, 8, 4, 1, 5)\n",
       " Spud(\"c1137473\", 2, 10, 10, 2, 1, 3)\n",
       " ⋮\n",
       " Spud(\"c779926\", 5, 9, 2, 1, 2, 2)\n",
       " Spud(\"c744203\", 3, 8, 1, 5, 2, 2)\n",
       " Spud(\"c723169\", 7, 5, 1, 1, 5, 5)\n",
       " Spud(\"c703405\", 10, 1, 8, 1, 3, 6)\n",
       " Spud(\"c700603\", 3, 8, 1, 4, 4, 1)\n",
       " Spud(\"c687883\", 4, 8, 1, 4, 1, 3)\n",
       " Spud(\"c678472\", 4, 3, 10, 6, 1, 9)\n",
       " Spud(\"c656057\", 10, 1, 8, 2, 4, 4)\n",
       " Spud(\"c654570\", 10, 2, 6, 2, 3, 5)\n",
       " Spud(\"c646977\", 2, 10, 10, 1, 3, 2)\n",
       " Spud(\"c639140\", 9, 1, 9, 5, 1, 4)\n",
       " Spud(\"c637598\", 8, 1, 10, 6, 3, 3)"
      ]
     },
     "execution_count": 231,
     "metadata": {},
     "output_type": "execute_result"
    }
   ],
   "source": [
    "nash_env = nash_env[1:40]"
   ]
  },
  {
   "cell_type": "code",
   "execution_count": 232,
   "id": "971f99d4",
   "metadata": {},
   "outputs": [
    {
     "data": {
      "text/plain": [
       "40"
      ]
     },
     "execution_count": 232,
     "metadata": {},
     "output_type": "execute_result"
    }
   ],
   "source": [
    "n_nash = length(nash_env)"
   ]
  },
  {
   "cell_type": "code",
   "execution_count": 233,
   "id": "cf1dbfa2",
   "metadata": {},
   "outputs": [],
   "source": [
    "payoffs = Array{Int64}(undef, (n_nash, n_nash))\n",
    "for i in 1:n_nash\n",
    "    for j in 1:n_nash\n",
    "        payoffs[i, j] = eval_battle(nash_env[i], nash_env[j])\n",
    "    end\n",
    "end"
   ]
  },
  {
   "cell_type": "code",
   "execution_count": 234,
   "id": "f45dbe6d",
   "metadata": {},
   "outputs": [
    {
     "data": {
      "text/plain": [
       "40×40 Matrix{Int64}:\n",
       "  0  -1  -1  -1   1   1  -1  -1  -1  …   1  -1  -1   1   1   1  -1   1   1\n",
       "  1   0  -1   1   1  -1  -1   1  -1      1  -1  -1   1   1   1   1   1   1\n",
       "  1   1   0   1  -1  -1  -1   1   1     -1   1   1   1  -1  -1  -1  -1  -1\n",
       "  1  -1  -1   0   1   1  -1   1  -1      1  -1  -1   1   1   1   1   1   1\n",
       " -1  -1   1  -1   0   1  -1  -1  -1      1  -1  -1   1   1   1  -1   1   1\n",
       " -1   1   1  -1  -1   0   1   1   1  …  -1   1   1  -1  -1  -1   1  -1  -1\n",
       "  1   1   1   1   1  -1   0  -1   1     -1  -1  -1  -1  -1  -1  -1  -1   1\n",
       "  1  -1  -1  -1   1  -1   1   0  -1      1   1  -1  -1   1  -1   1   1   1\n",
       "  1   1  -1   1   1  -1  -1   1   0     -1  -1  -1   1  -1  -1  -1  -1  -1\n",
       "  1   1   1   1  -1  -1  -1   1   1     -1   1  -1   1  -1  -1  -1  -1  -1\n",
       "  1   1  -1   1  -1  -1   1  -1   1  …  -1   1   1  -1  -1  -1   1  -1  -1\n",
       " -1  -1   1  -1  -1   1   1  -1   1     -1   1   1  -1   1   1  -1  -1  -1\n",
       "  1  -1   1  -1   1  -1  -1  -1   1      1  -1  -1  -1   1  -1   1   1   1\n",
       "  ⋮                   ⋮              ⋱                   ⋮              \n",
       "  1   1   1   1   1  -1  -1   1  -1     -1  -1  -1   1  -1  -1  -1  -1   1\n",
       "  1   1  -1   1   1  -1   1  -1   1     -1   1   1  -1  -1  -1   1  -1  -1\n",
       " -1   1   1   1  -1  -1   1   1  -1  …  -1   1   1   1  -1  -1   1  -1  -1\n",
       " -1  -1   1  -1  -1   1   1  -1   1      0   1   1  -1  -1   1  -1  -1  -1\n",
       "  1   1  -1   1   1  -1   1  -1   1     -1   0   1  -1  -1  -1   1  -1  -1\n",
       "  1   1  -1   1   1  -1   1   1   1     -1  -1   0   1  -1  -1   1  -1  -1\n",
       " -1  -1  -1  -1  -1   1   1   1  -1      1   1  -1   0   1   1   1   1  -1\n",
       " -1  -1   1  -1  -1   1   1  -1   1  …   1   1   1  -1   0   1  -1  -1  -1\n",
       " -1  -1   1  -1  -1   1   1   1   1     -1   1   1  -1  -1   0   1  -1  -1\n",
       "  1  -1   1  -1   1  -1   1  -1   1      1  -1  -1  -1   1  -1   0   1   1\n",
       " -1  -1   1  -1  -1   1   1  -1   1      1   1   1  -1   1   1  -1   0  -1\n",
       " -1  -1   1  -1  -1   1  -1  -1   1      1   1   1   1   1   1  -1   1   0"
      ]
     },
     "execution_count": 234,
     "metadata": {},
     "output_type": "execute_result"
    }
   ],
   "source": [
    "payoffs"
   ]
  },
  {
   "cell_type": "markdown",
   "id": "1387794a",
   "metadata": {},
   "source": [
    "## Attempt to use Gaussian elimination"
   ]
  },
  {
   "cell_type": "code",
   "execution_count": 235,
   "id": "67aba244",
   "metadata": {},
   "outputs": [],
   "source": [
    "#var_order = reverse(1:n_nash)\n",
    "var_order = 1:n_nash\n",
    "transformed_rows = copy(payoffs);\n",
    "row_coeffs = Array{Int64}(undef, (n_nash, n_nash)) .* 0;\n",
    "for i in 1:n_nash\n",
    "    row_coeffs[i, i] = 1\n",
    "end\n",
    "var_i = 1\n",
    "add_row = rand(findall(transformed_rows[:, var_order[var_i]] .!= 0))\n",
    "cf_new = sign(transformed_rows[add_row, var_order[var_i]])\n",
    "old_row = transformed_rows[var_i, :]\n",
    "new_row = cf_new .* transformed_rows[add_row, :]\n",
    "old_coeff = row_coeffs[var_i, :]\n",
    "new_coeff = [0 for i in 1:n_nash];\n",
    "new_coeff[add_row] = cf_new;\n",
    "transformed_rows[add_row, :] = old_row\n",
    "transformed_rows[var_i, :] = new_row\n",
    "row_coeffs[add_row, :] = old_coeff\n",
    "row_coeffs[var_i, :] = new_coeff;\n",
    "for i in (var_i + 1):n_nash\n",
    "    cf0 = transformed_rows[i, var_order[var_i]]\n",
    "    cf1 = transformed_rows[var_i, var_order[var_i]]\n",
    "    gc = gcd(cf0, cf1)\n",
    "    cf1 = div(cf1,gc)\n",
    "    cf0 = div(cf0,gc)\n",
    "    transformed_rows[i, :] = cf1 .* transformed_rows[i, :] .- cf0 .* transformed_rows[var_i, :]\n",
    "    row_coeffs[i, :] = cf1 .* row_coeffs[i, :] .- cf0 .* row_coeffs[var_i, :]\n",
    "end"
   ]
  },
  {
   "cell_type": "code",
   "execution_count": 236,
   "id": "c144c243",
   "metadata": {
    "scrolled": false
   },
   "outputs": [
    {
     "name": "stdout",
     "output_type": "stream",
     "text": [
      "2\n",
      "3\n",
      "4\n",
      "5\n",
      "6\n",
      "7\n",
      "8\n",
      "9\n",
      "10\n",
      "11\n",
      "12\n",
      "13\n",
      "14\n",
      "15\n",
      "16\n",
      "17\n",
      "18\n",
      "19\n",
      "20\n",
      "21\n",
      "22\n",
      "23\n",
      "24\n",
      "25\n",
      "26\n",
      "27\n",
      "28\n",
      "29\n",
      "30\n",
      "31\n",
      "32\n",
      "33\n",
      "34\n",
      "35\n",
      "36\n",
      "37\n",
      "38\n",
      "39\n",
      "40\n"
     ]
    }
   ],
   "source": [
    "for var_i in 2:n_nash\n",
    "    println(var_i)\n",
    "    cands = findall(transformed_rows[:, var_order[var_i]] .!= 0)\n",
    "    cands = cands[cands .>= var_i]\n",
    "    if length(cands) > 0\n",
    "        avs = map(abs, transformed_rows[cands, var_order[var_i]])\n",
    "        cands = cands[avs .== minimum(avs)]\n",
    "        add_row = rand(cands)\n",
    "        new_row = transformed_rows[add_row, :]\n",
    "        new_coeff = row_coeffs[add_row, :]\n",
    "        old_row = transformed_rows[var_i, :]\n",
    "        old_coeff = row_coeffs[var_i, :]        \n",
    "        cf_new = sign(new_row[var_order[var_i]])\n",
    "        new_row = cf_new .* new_row\n",
    "        new_coeff = cf_new .* new_coeff\n",
    "        for i in 1:(var_i - 1)\n",
    "            cf0 = new_row[var_order[i]]\n",
    "            cf1 = transformed_rows[i, var_order[i]]\n",
    "            # check what multiplier is needed\n",
    "            gc = gcd(cf0, cf1)\n",
    "            cf1 = div(cf1,gc)\n",
    "            cf0 = div(cf0,gc)\n",
    "            new_row = cf1 .* new_row .- cf0 .* transformed_rows[i, :]\n",
    "            new_coeff = cf1 .* new_coeff\n",
    "            new_coeff = new_coeff - cf0 .* row_coeffs[i, :]\n",
    "        end\n",
    "        transformed_rows[add_row, :] = old_row\n",
    "        transformed_rows[var_i, :] = new_row\n",
    "        row_coeffs[add_row, :] = old_coeff\n",
    "        row_coeffs[var_i, :] = new_coeff\n",
    "    end\n",
    "    for i in (var_i + 1):n_nash\n",
    "        cf0 = transformed_rows[i, var_order[var_i]]\n",
    "        cf1 = transformed_rows[var_i, var_order[var_i]]\n",
    "        gc = gcd(cf0, cf1)\n",
    "        cf1 = div(cf1,gc)\n",
    "        cf0 = div(cf0,gc)\n",
    "        transformed_rows[i, :] = cf1 .* transformed_rows[i, :] .- cf0 .* transformed_rows[var_i, :]\n",
    "        row_coeffs[i, :] = cf1 .* row_coeffs[i, :] .- cf0 .* row_coeffs[var_i, :]\n",
    "    end\n",
    "end"
   ]
  },
  {
   "cell_type": "code",
   "execution_count": 237,
   "id": "99737ee0",
   "metadata": {},
   "outputs": [
    {
     "data": {
      "text/plain": [
       "40×40 Matrix{Int64}:\n",
       " 1  1  -1  1   1  -1  -1   1  -1  -1  -1   0   1  -1  …                     1\n",
       " 0  1   0  0   0   0   0   0   0   0   0  -1   0   0                        0\n",
       " 0  0   1  0  -2   0   0   0   2   0   2  -1  -2   0                       -2\n",
       " 0  0   0  1   1  -1   1   1  -1   1  -1   1   3  -1                        1\n",
       " 0  0   0  0   1   0  -2   0  -2   0   0   1   0   0                        2\n",
       " 0  0   0  0   0   1   0  -2   0   0   0  -1  -2   2  …                     0\n",
       " 0  0   0  0   0   0   2  -2   2   0   0  -1   0   0                       -2\n",
       " 0  0   0  0   0   0   0   2   0   2   0   0   0   0                        2\n",
       " 0  0   0  0   0   0   0   0   1   0   0  -1  -2   0                       -2\n",
       " 0  0   0  0   0   0   0   0   0   2   0   0   0   0                        2\n",
       " 0  0   0  0   0   0   0   0   0   0   1   0   0   0  …                     0\n",
       " 0  0   0  0   0   0   0   0   0   0   0   1  -2   0                        0\n",
       " 0  0   0  0   0   0   0   0   0   0   0   0   2  -1                        0\n",
       " ⋮                 ⋮                   ⋮              ⋱  \n",
       " 0  0   0  0   0   0   0   0   0   0   0   0   0   0                    35100\n",
       " 0  0   0  0   0   0   0   0   0   0   0   0   0   0                   -15120\n",
       " 0  0   0  0   0   0   0   0   0   0   0   0   0   0  …             -11803968\n",
       " 0  0   0  0   0   0   0   0   0   0   0   0   0   0                        0\n",
       " 0  0   0  0   0   0   0   0   0   0   0   0   0   0                573786612\n",
       " 0  0   0  0   0   0   0   0   0   0   0   0   0   0           -6226727335488\n",
       " 0  0   0  0   0   0   0   0   0   0   0   0   0   0       -90769657836165264\n",
       " 0  0   0  0   0   0   0   0   0   0   0   0   0   0  …   4613643462271148656\n",
       " 0  0   0  0   0   0   0   0   0   0   0   0   0   0       174618332176943160\n",
       " 0  0   0  0   0   0   0   0   0   0   0   0   0   0     -9093765819900747440\n",
       " 0  0   0  0   0   0   0   0   0   0   0   0   0   0      5899017796777142960\n",
       " 0  0   0  0   0   0   0   0   0   0   0   0   0   0      5333761271509506624"
      ]
     },
     "execution_count": 237,
     "metadata": {},
     "output_type": "execute_result"
    }
   ],
   "source": [
    "transformed_rows"
   ]
  },
  {
   "cell_type": "code",
   "execution_count": 240,
   "id": "9b7e06d6",
   "metadata": {},
   "outputs": [
    {
     "data": {
      "text/plain": [
       "0"
      ]
     },
     "execution_count": 240,
     "metadata": {},
     "output_type": "execute_result"
    }
   ],
   "source": [
    "a = [0 for i in 1:n_nash]\n",
    "for i in 1:n_nash\n",
    "    a = a .+ payoffs[i, :] .* row_coeffs[19, i]\n",
    "end\n",
    "maximum(a .- transformed_rows[19, :])"
   ]
  },
  {
   "cell_type": "code",
   "execution_count": 242,
   "id": "5ff4b646",
   "metadata": {},
   "outputs": [
    {
     "data": {
      "text/plain": [
       "1"
      ]
     },
     "execution_count": 242,
     "metadata": {},
     "output_type": "execute_result"
    }
   ],
   "source": [
    "minimum([transformed_rows[i,var_order[i]] for i in 1:n_nash])"
   ]
  },
  {
   "cell_type": "code",
   "execution_count": 243,
   "id": "ed8200a0",
   "metadata": {},
   "outputs": [],
   "source": [
    "# invertible because it includes dominated strats"
   ]
  },
  {
   "cell_type": "markdown",
   "id": "4e8671ef",
   "metadata": {},
   "source": [
    "## Using Power iterations"
   ]
  },
  {
   "cell_type": "code",
   "execution_count": 244,
   "id": "e9c9a538",
   "metadata": {},
   "outputs": [],
   "source": [
    "nash_env_df = DataFrame(CSV.File(\"spudsD_mxv10_nash.csv\"))\n",
    "nash_env = df_to_spuds(nash_env_df)\n",
    "counts = [parse(Int, s.name[2:end]) for s in nash_env];\n",
    "n_nash = length(nash_env)\n",
    "payoffs = Array{Int64}(undef, (n_nash, n_nash))\n",
    "for i in 1:n_nash\n",
    "    for j in 1:n_nash\n",
    "        payoffs[i, j] = eval_battle(nash_env[i], nash_env[j])\n",
    "    end\n",
    "end"
   ]
  },
  {
   "cell_type": "code",
   "execution_count": 245,
   "id": "aa93590c",
   "metadata": {},
   "outputs": [],
   "source": [
    "payoffs2 = Array{Int64}(undef, (n_nash, n_nash))\n",
    "for i in 1:n_nash\n",
    "    for j in 1:n_nash\n",
    "        payoffs2[i, j] = sum(payoffs[i, :] .* payoffs[:, j])\n",
    "    end\n",
    "end"
   ]
  },
  {
   "cell_type": "code",
   "execution_count": 308,
   "id": "2336bb79",
   "metadata": {},
   "outputs": [
    {
     "data": {
      "text/plain": [
       "39000000"
      ]
     },
     "execution_count": 308,
     "metadata": {},
     "output_type": "execute_result"
    }
   ],
   "source": [
    "v = [0 for i in 1:n_nash]\n",
    "for i in 1:20\n",
    "    v[rand(1:n_nash)] = 1\n",
    "    v[rand(1:n_nash)] = -1\n",
    "end\n",
    "v = map(x -> div(x * 1000, maximum(map(abs, v))), v)\n",
    "oldnorm = sum(v .* v)"
   ]
  },
  {
   "cell_type": "code",
   "execution_count": 309,
   "id": "61189dd7",
   "metadata": {},
   "outputs": [
    {
     "name": "stdout",
     "output_type": "stream",
     "text": [
      "1.0247938051282052e7\n",
      "5.527830366735122e8\n",
      "7.644854497359102e8\n",
      "9.113739109106829e8\n",
      "9.800994722752857e8\n",
      "1.0054357055565641e9\n",
      "1.0139243173109868e9\n",
      "1.0166675595219957e9\n",
      "1.01754522158374e9\n",
      "1.0178260663331027e9\n",
      "1.0179153426548574e9\n",
      "1.0179437452875867e9\n",
      "1.0179526863417381e9\n",
      "1.0179557716026e9\n",
      "1.017956677986752e9\n",
      "1.0179570276543334e9\n",
      "1.0179571382431833e9\n",
      "1.0179571528814958e9\n",
      "1.0179571644794595e9\n",
      "1.0179571655434585e9\n"
     ]
    }
   ],
   "source": [
    "for i in 1:20\n",
    "    v2 = [sum(-payoffs2[i, :] .* v) for i in 1:n_nash]\n",
    "    v2\n",
    "    v = v2\n",
    "    v[1:3]\n",
    "    newnorm = sum(v .* v)\n",
    "    println(newnorm/oldnorm)\n",
    "    v = map(x -> div(x * 1000, maximum(map(abs, v))), v)\n",
    "    oldnorm = sum(v .* v)\n",
    "end"
   ]
  },
  {
   "cell_type": "code",
   "execution_count": 310,
   "id": "c5a224a8",
   "metadata": {},
   "outputs": [
    {
     "data": {
      "text/plain": [
       "407-element Vector{Int64}:\n",
       " -786\n",
       "   58\n",
       "  304\n",
       " -244\n",
       " -885\n",
       "  591\n",
       "  754\n",
       "  346\n",
       "  377\n",
       "  341\n",
       "  772\n",
       " -457\n",
       "  299\n",
       "    ⋮\n",
       " -388\n",
       " -943\n",
       " -941\n",
       " -673\n",
       " -680\n",
       "  -67\n",
       " -981\n",
       " -858\n",
       " -883\n",
       "  -81\n",
       " -371\n",
       " -999"
      ]
     },
     "execution_count": 310,
     "metadata": {},
     "output_type": "execute_result"
    }
   ],
   "source": [
    "v"
   ]
  },
  {
   "cell_type": "code",
   "execution_count": 311,
   "id": "f5724bb2",
   "metadata": {},
   "outputs": [],
   "source": [
    "# eigenvalue of payoff^2 is approx 31937"
   ]
  },
  {
   "cell_type": "code",
   "execution_count": 440,
   "id": "b37c8792",
   "metadata": {},
   "outputs": [
    {
     "data": {
      "text/plain": [
       "178.61970775925036"
      ]
     },
     "execution_count": 440,
     "metadata": {},
     "output_type": "execute_result"
    }
   ],
   "source": [
    "sqrt(31905)"
   ]
  },
  {
   "cell_type": "code",
   "execution_count": 454,
   "id": "3ecf3170",
   "metadata": {},
   "outputs": [
    {
     "data": {
      "text/plain": [
       "32041"
      ]
     },
     "execution_count": 454,
     "metadata": {},
     "output_type": "execute_result"
    }
   ],
   "source": [
    "maxv = 100000000\n",
    "mult = 179\n",
    "mult * mult"
   ]
  },
  {
   "cell_type": "code",
   "execution_count": 464,
   "id": "c8506261",
   "metadata": {},
   "outputs": [],
   "source": [
    "v = [maxv for i in 1:n_nash];"
   ]
  },
  {
   "cell_type": "code",
   "execution_count": 465,
   "id": "b17c63ad",
   "metadata": {},
   "outputs": [],
   "source": [
    "#v = counts\n",
    "#v = map(x -> div(x, maximum(v)), v .* maxv);"
   ]
  },
  {
   "cell_type": "code",
   "execution_count": 466,
   "id": "b392e077",
   "metadata": {},
   "outputs": [
    {
     "name": "stdout",
     "output_type": "stream",
     "text": [
      "34.93550550394038\n"
     ]
    },
    {
     "data": {
      "text/plain": [
       "407-element Vector{Int64}:\n",
       " 100000000\n",
       "  92668536\n",
       "  41892374\n",
       "  89635297\n",
       "  85184051\n",
       "  14236164\n",
       "  54504803\n",
       "  60700501\n",
       "  67457281\n",
       "  50271189\n",
       "  21934880\n",
       "  22982232\n",
       "  66352121\n",
       "         ⋮\n",
       "  22240924\n",
       "  78750318\n",
       "  78927144\n",
       "  82766301\n",
       "  82715293\n",
       "  14817648\n",
       "  49346255\n",
       "  36778032\n",
       "  85445889\n",
       "  15120292\n",
       "  21880472\n",
       "  46248406"
      ]
     },
     "execution_count": 466,
     "metadata": {},
     "output_type": "execute_result"
    }
   ],
   "source": [
    "v2 = [sum(payoffs2[i, :] .* v) for i in 1:n_nash];\n",
    "v = v .* mult .+ map(x -> div(x, mult), v2);\n",
    "println(log(maximum(v))/log(2))\n",
    "v = map(x -> div(x, maximum(v)), v .* maxv)"
   ]
  },
  {
   "cell_type": "code",
   "execution_count": 467,
   "id": "2f5d1d83",
   "metadata": {
    "scrolled": true
   },
   "outputs": [
    {
     "name": "stdout",
     "output_type": "stream",
     "text": [
      "0\n"
     ]
    }
   ],
   "source": [
    "it_count = 0\n",
    "while it_count < 10000\n",
    "    it_count += 1\n",
    "    if mod(it_count, 10000) == 0\n",
    "        println(minimum(v))\n",
    "    end\n",
    "    v2 = [sum(payoffs2[i, :] .* v) for i in 1:n_nash];\n",
    "    v = v .* mult .+ map(x -> div(x, mult), v2);\n",
    "    #println(log(maximum(v))/log(2))\n",
    "    v = map(x -> div(x, maximum(v)), v .* maxv);\n",
    "    v[v .< 0] .= 0\n",
    "end"
   ]
  },
  {
   "cell_type": "code",
   "execution_count": 475,
   "id": "7d284baf",
   "metadata": {
    "scrolled": true
   },
   "outputs": [],
   "source": [
    "# for k in v\n",
    "#     println(k)\n",
    "# end"
   ]
  },
  {
   "cell_type": "code",
   "execution_count": 469,
   "id": "b199a9ac",
   "metadata": {},
   "outputs": [
    {
     "data": {
      "text/plain": [
       "407-element Vector{Float64}:\n",
       " 0.09470113914778636\n",
       " 0.047868883113619885\n",
       " 0.01832183696701336\n",
       " 0.0318155172337526\n",
       " 0.011975595436892658\n",
       " 0.01028974753904577\n",
       " 0.010555194832077015\n",
       " 0.00987954766080435\n",
       " 0.0013511494498024334\n",
       " 0.0012803234148451954\n",
       " 0.014180004991450822\n",
       " 0.0017879433019393344\n",
       " 0.0\n",
       " ⋮\n",
       " 0.0\n",
       " 0.0\n",
       " 0.003788314517146634\n",
       " 0.0\n",
       " 0.0\n",
       " 0.0\n",
       " 0.0\n",
       " 0.0002365994320240465\n",
       " 0.0\n",
       " 0.0\n",
       " 0.013164050223661978\n",
       " 0.0005056141169669888"
      ]
     },
     "execution_count": 469,
     "metadata": {},
     "output_type": "execute_result"
    }
   ],
   "source": [
    "w2 = v./sum(v)"
   ]
  },
  {
   "cell_type": "code",
   "execution_count": 470,
   "id": "ea833879",
   "metadata": {},
   "outputs": [
    {
     "data": {
      "text/plain": [
       "407-element Vector{Float64}:\n",
       "  0.018213833158849474\n",
       "  0.0035064290003821033\n",
       "  0.01539604622005393\n",
       "  0.003439526433619771\n",
       "  0.008447950540307267\n",
       " -0.0014033591348260053\n",
       "  4.0587014215974666e-5\n",
       " -0.0037855340917012795\n",
       " -0.003014969862683527\n",
       " -0.002853656889270557\n",
       " -0.0038871645132004954\n",
       "  0.007580720123504415\n",
       "  0.01748882964787575\n",
       "  ⋮\n",
       " -0.021774317569457177\n",
       " -0.00428430699837619\n",
       " -0.013878975639407584\n",
       " -0.01234279815692682\n",
       "  0.0015142001891187288\n",
       " -0.0034505827916152887\n",
       " -0.013847087871833787\n",
       " -0.023960963084334007\n",
       " -0.0012513249790267458\n",
       " -0.0034505827916152887\n",
       " -0.02010951605277449\n",
       " -0.0034646279175623122"
      ]
     },
     "execution_count": 470,
     "metadata": {},
     "output_type": "execute_result"
    }
   ],
   "source": [
    "ebs = [sum(payoffs[i, :] .* w2) for i in 1:n_nash]"
   ]
  },
  {
   "cell_type": "code",
   "execution_count": 471,
   "id": "0fd66e16",
   "metadata": {},
   "outputs": [
    {
     "data": {
      "text/plain": [
       "0.029649974920723486"
      ]
     },
     "execution_count": 471,
     "metadata": {},
     "output_type": "execute_result"
    }
   ],
   "source": [
    "maximum(ebs)"
   ]
  },
  {
   "cell_type": "code",
   "execution_count": 472,
   "id": "e86d8734",
   "metadata": {},
   "outputs": [],
   "source": [
    "# power iteration not working well due to inaccurate support"
   ]
  },
  {
   "cell_type": "code",
   "execution_count": 474,
   "id": "7fcc8ec5",
   "metadata": {},
   "outputs": [
    {
     "data": {
      "text/plain": [
       "20-element Vector{Int64}:\n",
       " 100000000\n",
       "  50547315\n",
       "  19347008\n",
       "  33595707\n",
       "  12645672\n",
       "  10865495\n",
       "  11145795\n",
       "  10432343\n",
       "   1426751\n",
       "   1351962\n",
       "  14973426\n",
       "   1887985\n",
       "         0\n",
       "   5783575\n",
       "   7606842\n",
       "    558242\n",
       "  13954229\n",
       "  20330936\n",
       "   2282592\n",
       "   5807038"
      ]
     },
     "execution_count": 474,
     "metadata": {},
     "output_type": "execute_result"
    }
   ],
   "source": [
    "v[1:20]"
   ]
  },
  {
   "cell_type": "code",
   "execution_count": null,
   "id": "1241f222",
   "metadata": {},
   "outputs": [],
   "source": []
  }
 ],
 "metadata": {
  "kernelspec": {
   "display_name": "Julia 1.9.3",
   "language": "julia",
   "name": "julia-1.9"
  },
  "language_info": {
   "file_extension": ".jl",
   "mimetype": "application/julia",
   "name": "julia",
   "version": "1.9.3"
  }
 },
 "nbformat": 4,
 "nbformat_minor": 5
}

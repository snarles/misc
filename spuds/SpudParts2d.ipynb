{
 "cells": [
  {
   "cell_type": "markdown",
   "id": "b223d67c",
   "metadata": {},
   "source": [
    "SpudJobs are applied first and have discount, SpudMods have hard minimum requirement.\n",
    "Randomly generate parts by aiming for random target spuds."
   ]
  },
  {
   "cell_type": "code",
   "execution_count": 62,
   "id": "973b1d93",
   "metadata": {},
   "outputs": [],
   "source": [
    "using Random\n",
    "using DataFrames\n",
    "using CSV\n",
    "using DelimitedFiles\n",
    "using Statistics\n",
    "using Printf\n",
    "using LinearAlgebra\n",
    "using Dates\n",
    "using MAT\n",
    "using Serialization\n",
    "\n",
    "struct Spud\n",
    "    name::String\n",
    "    h::Int64\n",
    "    f::Int64\n",
    "    l::Int64\n",
    "    p::Int64\n",
    "    r::Int64\n",
    "    s::Int64\n",
    "    a1::Int64\n",
    "    cost::Int64\n",
    "end\n",
    "\n",
    "const ability_none = 999\n",
    "const ability_imitative = 10\n",
    "const ability_reciprocating = 20\n",
    "const ability_romantic = 30\n",
    "const ability_bibliophile = 40\n",
    "const ability_melodious = 50\n",
    "const ability_iconoclast = 90\n",
    "const ability_intoxicating = 100\n",
    "const ability_otaku = 110\n",
    "const ability_sincere = 120\n",
    "const ability_cowardly = 130\n",
    "\n",
    "\n",
    "ability_name = Dict(\n",
    "    ability_imitative => \"Imitative*\",\n",
    "    ability_reciprocating => \"Reciprocating*\",\n",
    "    ability_romantic => \"Romantic*\",\n",
    "    ability_bibliophile => \"Bibliophile*\",\n",
    "    ability_melodious => \"Melodious*\",\n",
    "    ability_iconoclast => \"Iconoclast*\",\n",
    "    ability_intoxicating => \"Intoxicating*\",\n",
    "    ability_otaku => \"Otaku*\",\n",
    "    ability_sincere => \"Sincere*\",\n",
    "    ability_cowardly => \"Cowardly*\",\n",
    ")\n",
    "\n",
    "function fx_imitative(a::Spud, b::Spud)\n",
    "    if b.h > a.h\n",
    "        a = Spud(a.name, b.h, a.f, a.l, a.p, a.r, a.s, a.a1)\n",
    "    end\n",
    "    return [a, b]\n",
    "end\n",
    "\n",
    "function fx_reciprocating(a::Spud, b::Spud)\n",
    "    if b.f > a.f\n",
    "        a = Spud(a.name, a.h, b.f, a.l, a.p, a.r, a.s, a.a1)\n",
    "    end\n",
    "    return [a, b]\n",
    "end\n",
    "\n",
    "function fx_romantic(a::Spud, b::Spud)\n",
    "    if b.p > a.l\n",
    "        a = Spud(a.name, a.h, a.f, b.p, a.p, a.r, a.s, a.a1)\n",
    "    end\n",
    "    return [a, b]\n",
    "end\n",
    "\n",
    "function fx_bibliophile(a::Spud, b::Spud)\n",
    "    if b.r > a.l\n",
    "        a = Spud(a.name, a.h, a.f, b.r, a.p, a.r, a.s, a.a1)\n",
    "    end\n",
    "    return [a, b]\n",
    "end\n",
    "\n",
    "function fx_melodious(a::Spud, b::Spud)\n",
    "    if b.p > b.r && b.p > b.s\n",
    "        a = Spud(a.name, a.h, a.f, a.r, a.p + 3, a.r, a.s, a.a1)\n",
    "    end\n",
    "    return [a, b]\n",
    "end\n",
    "\n",
    "function fx_iconoclast(a::Spud, b::Spud)\n",
    "    v = sum([b.h,b.f,b.l,b.p,b.r,b.s] .== MXV)\n",
    "    if v >= 3\n",
    "        aa = [a.h, a.f, a.l, a.p, a.r, a.s]\n",
    "        aa2 = map(x -> div(x, 4), aa)\n",
    "        r = aa .+ aa2\n",
    "        a = Spud(a.name, r[1], r[2], r[3], r[4], r[5], r[6], a.a1)\n",
    "    end\n",
    "    return [a, b]\n",
    "end\n",
    "\n",
    "function fx_intoxicating(a::Spud, b::Spud)\n",
    "    b = Spud(b.name, b.h, b.f, b.l, b.p, b.r, b.f, b.a1)\n",
    "    return [a, b]\n",
    "end\n",
    "\n",
    "function fx_otaku(a::Spud, b::Spud)\n",
    "    b = Spud(b.name, b.h, b.f, b.l, b.p, b.h, b.s, b.a1)\n",
    "    return [a, b]\n",
    "end\n",
    "\n",
    "\n",
    "function fx_sincere(a::Spud, b::Spud)\n",
    "    b = Spud(b.name, b.h, b.f + 2, b.f + 2, b.p, b.r, b.s, b.a1)\n",
    "    return [a, b]\n",
    "end\n",
    "\n",
    "function fx_cowardly(a::Spud, b::Spud)\n",
    "    if (a.p < b.p) || (a.r < b.r) || (a.s < b.s)\n",
    "        a = Spud(a.name, a.h + 2, a.f - 2, a.l, a.p, a.r, a.s, a.a1)\n",
    "    end\n",
    "    return [a, b]\n",
    "end\n",
    "\n",
    "ability_fx = Dict(\n",
    "    ability_imitative => fx_imitative,\n",
    "    ability_reciprocating => fx_reciprocating,\n",
    "    ability_romantic => fx_romantic,\n",
    "    ability_bibliophile => fx_bibliophile,\n",
    "    ability_melodious => fx_melodious,\n",
    "    ability_iconoclast => fx_iconoclast,\n",
    "    ability_intoxicating => fx_intoxicating,\n",
    "    ability_otaku => fx_otaku,\n",
    "    ability_sincere => fx_sincere,\n",
    "    ability_cowardly => fx_cowardly,\n",
    ")\n",
    "\n",
    "const MXS = 100\n",
    "const MXV = 9\n",
    "const MNV = 1\n",
    "\n",
    "# function cost(h::Int64, f::Int64, l::Int64, p::Int64, r::Int64, s::Int64)::Int64\n",
    "#     #return h*(f+l-2*MNV) + f*(p+r+s-3*MNV) + h+f+l+p+r+s-6*MNV\n",
    "#     return h*(f+l) + f*(p+r+s)\n",
    "# end\n",
    "\n",
    "# function cost(a::Spud)::Int64\n",
    "#     if a.a1 == ability_none\n",
    "#         return cost(a.h, a.f, a.l, a.p, a.r, a.s)\n",
    "#     else\n",
    "#         return cost(a.h, a.f, a.l, a.p, a.r, a.s) + ability_cost[a.a1](a)\n",
    "#     end\n",
    "# end\n",
    "\n",
    "function compare_int_list(as::Vector{Int64}, bs::Vector{Int64}, tiebreaker::Int64 = 0)::Int64\n",
    "    n = min(length(as), length(bs))\n",
    "    for i in 1:n\n",
    "        if as[i] != bs[i]\n",
    "            return sign(as[i] - bs[i])\n",
    "        end\n",
    "    end\n",
    "    return tiebreaker\n",
    "end\n",
    "\n",
    "function spud_h_seq(a::Spud)::Vector{Int64}\n",
    "    return [a.h, a.s, a.r, a.p, a.l, a.f]\n",
    "end\n",
    "\n",
    "function spud_f_seq(a::Spud)::Vector{Int64}\n",
    "    return [a.f, a.s, a.r, a.p, a.l, a.h]\n",
    "end\n",
    "\n",
    "function spud_l_seq(a::Spud)::Vector{Int64}\n",
    "    return [a.l]\n",
    "end\n",
    "\n",
    "function spud_p_seq(a::Spud)::Vector{Int64}\n",
    "    return [a.p, a.l]\n",
    "end\n",
    "\n",
    "function spud_r_seq(a::Spud)::Vector{Int64}\n",
    "    return [a.r, a.f]\n",
    "end\n",
    "\n",
    "function spud_s_seq(a::Spud)::Vector{Int64}\n",
    "    return [a.s, a.h]\n",
    "end\n",
    "\n",
    "function spud_utb_seq(a::Spud)::Vector{Int64}\n",
    "    return [a.a1, a.h, a.f, a.l, a.p, a.r, a.s]\n",
    "end\n",
    "\n",
    "function eval_finds(a::Spud, b::Spud, tiebreaker::Int64 = 0)::Int64\n",
    "    ev = compare_int_list(spud_f_seq(a), spud_h_seq(b), tiebreaker)\n",
    "    ans = ev\n",
    "end\n",
    "\n",
    "function eval_melee(a::Spud, b::Spud, tiebreaker1::Int64 = 0, tiebreaker2::Int64 = 0)::Int64\n",
    "    comp_p = compare_int_list(spud_p_seq(a), spud_p_seq(b), tiebreaker1)\n",
    "    comp_r = compare_int_list(spud_r_seq(a), spud_r_seq(b), tiebreaker1)\n",
    "    comp_s = compare_int_list(spud_s_seq(a), spud_s_seq(b), tiebreaker1)\n",
    "    ev = 4 * comp_p + 3 * comp_r + 2 * comp_s\n",
    "    return sign(ev + (1-abs(ev))*tiebreaker2)\n",
    "end\n",
    "\n",
    "\n",
    "\n",
    "\n",
    "\n",
    "function apply_ability(a::Spud, b::Spud)::Array{Spud}\n",
    "    if a.a1 == ability_none\n",
    "        return [a, b]\n",
    "    else\n",
    "        return ability_fx[a.a1](a, b)\n",
    "    end\n",
    "end\n",
    "\n",
    "\n",
    "function eval_battle(a::Spud, b::Spud)::Int64\n",
    "    utb = compare_int_list(spud_utb_seq(a), spud_utb_seq(b), 0) # universal tiebreaker\n",
    "    if utb == 0\n",
    "        return 0\n",
    "    end\n",
    "    a_ability_first = compare_int_list([a.a1, a.s], [b.a1, b.s], utb)\n",
    "    if a_ability_first ==1\n",
    "        if a.a1 != ability_none\n",
    "            res = apply_ability(a, b)\n",
    "            a = res[1]\n",
    "            b = res[2]\n",
    "        end\n",
    "        if b.a1 != ability_none\n",
    "            res = apply_ability(b, a)\n",
    "            b = res[1]\n",
    "            a = res[2]\n",
    "        end\n",
    "    end\n",
    "    if a_ability_first == -1\n",
    "        if b.a1 != ability_none\n",
    "            res = apply_ability(b, a)\n",
    "            b = res[1]\n",
    "            a = res[2]\n",
    "        end\n",
    "        if a.a1 != ability_none\n",
    "            res = apply_ability(a, b)\n",
    "            a = res[1]\n",
    "            b = res[2]\n",
    "        end\n",
    "    end\n",
    "    #println(a)\n",
    "    #println(b)\n",
    "    a_finds = eval_finds(a, b, utb)==1\n",
    "    b_finds = eval_finds(b, a, utb)==1\n",
    "    melee_win = eval_melee(a, b, 0, utb)\n",
    "    if a_finds && b_finds\n",
    "        return melee_win\n",
    "    end\n",
    "    if a_finds && !b_finds\n",
    "        return 1\n",
    "    end\n",
    "    if !a_finds && b_finds\n",
    "        return -1\n",
    "    end\n",
    "    if !a_finds && !b_finds\n",
    "        return compare_int_list([a.l, melee_win], [b.l, -melee_win], 0)\n",
    "    end\n",
    "end\n",
    "\n",
    "function eval_battle_list(a::Spud, bs::Array{Spud})::Int\n",
    "    score = 0\n",
    "    for ii in 1:length(bs)\n",
    "        score = score + eval_battle(a, bs[ii])\n",
    "    end\n",
    "    return score\n",
    "end\n",
    "\n",
    "function eval_battle_list2(a::Spud, bs::Array{Spud}, w::Vector{Float64})::AbstractFloat\n",
    "    score = 0.0\n",
    "    for ii in 1:length(bs)\n",
    "        score = score + w[ii] * eval_battle(a, bs[ii])\n",
    "    end\n",
    "    return score\n",
    "end\n",
    "\n",
    "function spuds_to_df(as::Array{Spud})::DataFrame\n",
    "    names = Array{String}(undef, length(as))\n",
    "    hs = Array{Int}(undef, length(as))\n",
    "    fs = Array{Int}(undef, length(as))\n",
    "    ls = Array{Int}(undef, length(as))\n",
    "    ps = Array{Int}(undef, length(as))\n",
    "    rs = Array{Int}(undef, length(as))\n",
    "    ss = Array{Int}(undef, length(as))\n",
    "    a1s = Array{Int}(undef, length(as))\n",
    "    cs = Array{Int}(undef, length(as))\n",
    "    for ii in 1:length(as)\n",
    "        names[ii] = as[ii].name\n",
    "        hs[ii] = as[ii].h\n",
    "        fs[ii] = as[ii].f\n",
    "        ls[ii] = as[ii].l\n",
    "        ps[ii] = as[ii].p\n",
    "        rs[ii] = as[ii].r\n",
    "        ss[ii] = as[ii].s\n",
    "        a1s[ii] = as[ii].a1\n",
    "        cs[ii] = as[ii].cost\n",
    "    end\n",
    "    df = DataFrame(name = names, h = hs, f = fs, l = ls, p = ps, r = rs, s = ss, a1 = a1s, cost = cs)\n",
    "    return df\n",
    "end\n",
    "\n",
    "function fpart(x::AbstractFloat)::AbstractFloat\n",
    "  return x - trunc(x)\n",
    "end\n",
    "\n",
    "# for legacy dfs without abilities\n",
    "function df_to_spuds0(df::DataFrame)::Array{Spud}\n",
    "    n = size(df)[1]\n",
    "    as = Array{Spud}(undef, n)\n",
    "    for i in 1:n\n",
    "        as[i] = Spud(df[i, :name], df[i, :h], df[i, :f], df[i, :l], df[i, :p], df[i, :r], df[i, :s], ability_none, -1)\n",
    "    end\n",
    "    return as\n",
    "end\n",
    "\n",
    "function df_to_spuds(df::DataFrame)::Array{Spud}\n",
    "    n = size(df)[1]\n",
    "    as = Array{Spud}(undef, n)\n",
    "    for i in 1:n\n",
    "        as[i] = Spud(df[i, :name], df[i, :h], df[i, :f], df[i, :l], df[i, :p], df[i, :r], df[i, :s], df[i, :a1], df[i, :cost])\n",
    "    end\n",
    "    return as\n",
    "end\n",
    "\n",
    "\n",
    "\n",
    "struct NashEquilibrium2p\n",
    "    w1::Array{Float64}\n",
    "    w2::Array{Float64}\n",
    "    v::Float64\n",
    "end\n",
    "\n",
    "\n",
    "function payoffs2(set1::Array{Spud}, set2::Array{Spud})::Array{Int64}\n",
    "    n1 = length(set1)\n",
    "    n2 = length(set2)\n",
    "    payoffs = Array{Int64}(undef, (n1, n2))\n",
    "    for i in 1:n1\n",
    "        for j in 1:n2\n",
    "            payoffs[i,j] = eval_battle(set1[i], set2[j])\n",
    "        end\n",
    "    end\n",
    "    return payoffs\n",
    "end\n",
    "\n",
    "function ffp2(set1::Array{Spud}, set2::Array{Spud}, nits::Int64)::NashEquilibrium2p\n",
    "    n1 = length(set1)\n",
    "    n2 = length(set2)\n",
    "    payoffs = payoffs2(set1, set2)\n",
    "    v1 = [1 for i in 1:n1]\n",
    "    v2 = [1 for i in 1:n2]\n",
    "    s1 = [sum(payoffs[i, :] .* v2) for i in 1:n1]\n",
    "    s2 = [sum(payoffs[:, i] .* v1) for i in 1:n2]\n",
    "    for it in 1:nits\n",
    "        cands1 = findall(s1 .== maximum(s1))\n",
    "        i1 = rand(cands1)\n",
    "        cands2 = findall(s2 .== minimum(s2))\n",
    "        i2 = rand(cands2)\n",
    "        v1[i1] += 1\n",
    "        s2 = s2 .+ payoffs[i1, :]\n",
    "        v2[i2] += 1\n",
    "        s1 = s1 .+ payoffs[:, i2]\n",
    "    end\n",
    "    w1 = v1./sum(v1)\n",
    "    w2 = v2./sum(v2)\n",
    "    val = sum([payoffs[i, j] * w1[i] * w2[j] for i in 1:n1 for j in 1:n2])\n",
    "    return NashEquilibrium2p(w1, w2, val)\n",
    "end\n",
    "\n",
    "function ffp(nash_env, nits)\n",
    "    n_nash = length(nash_env)\n",
    "    i_lose = Array{Int}(undef, (n_nash, n_nash))\n",
    "    n_lose = Array{Int}(undef, n_nash)\n",
    "    for i in 1:n_nash\n",
    "        n_lose[i] = 0\n",
    "        ff = nash_env[i]\n",
    "        for j in 1:n_nash\n",
    "            if eval_battle(ff, nash_env[j]) ==-1\n",
    "                n_lose[i] += 1\n",
    "                i_lose[i, n_lose[i]] = j\n",
    "            end\n",
    "        end\n",
    "    end\n",
    "    counts = [0 for i in 1:n_nash]\n",
    "    wins = [0 for i in 1:n_nash]\n",
    "    for i in 1:n_nash\n",
    "        counts[i] += 1\n",
    "        for j in 1:n_lose[i]\n",
    "            i_w = i_lose[i, j]\n",
    "            wins[i_w]+= 1\n",
    "        end\n",
    "    end\n",
    "    for iter in 1:nits\n",
    "        wc = 2 .* wins .+ counts\n",
    "        ind_winners = findall(wc .== maximum(wc))\n",
    "        i = rand(ind_winners)\n",
    "        counts[i] += 1\n",
    "        for j in 1:n_lose[i]\n",
    "            i_w = i_lose[i, j]\n",
    "            wins[i_w]+= 1\n",
    "        end\n",
    "    end\n",
    "    return counts\n",
    "end\n",
    "\n",
    "mutable struct BattleView\n",
    "    round::Int64\n",
    "    own::Array{Spud}\n",
    "    owncount::Array{Int64}\n",
    "    deployed::Array{Bool}\n",
    "    obs::Array{Spud}\n",
    "    obscount::Array{Int64}\n",
    "end\n",
    "\n",
    "mutable struct AiPlayer\n",
    "    genteam::Function\n",
    "    pick::Function\n",
    "    create::Function\n",
    "end\n",
    "\n",
    "n_copy = 3\n",
    "\n",
    "function initialize_game(team1::Array{Spud}, team2::Array{Spud})::Array{BattleView}\n",
    "    teams = [team1, team2]\n",
    "    bvs = Array{BattleView}(undef, 0)\n",
    "    for team in teams\n",
    "        bv = BattleView(0, team, [n_copy for i in 1:length(team)], [false for i in 1:length(team)], [], [])\n",
    "        append!(bvs, [bv])\n",
    "    end\n",
    "    return bvs\n",
    "end\n",
    "\n",
    "function observe_fighters(game::Array{BattleView}, choices::Array{Int64})::Array{BattleView}\n",
    "    for i in 1:2\n",
    "        j = 3- i\n",
    "        if choices[i] != 0\n",
    "            game[i].deployed[choices[i]] = true\n",
    "            ff = game[i].own[choices[i]]\n",
    "            if ff in game[j].obs\n",
    "                0\n",
    "            else\n",
    "                game[j].obs = append!(game[j].obs, [ff])\n",
    "                game[j].obscount = append!(game[j].obscount, [game[i].owncount[choices[i]]])\n",
    "            end\n",
    "        end\n",
    "    end\n",
    "    return game\n",
    "end\n",
    "\n",
    "function jobify_fighter_counts(game::Array{BattleView}, choices::Array{Int64}, job::Array{Int64})::Array{BattleView}\n",
    "    for i in 1:2\n",
    "        j = 3- i\n",
    "        if choices[i] != 0\n",
    "            game[i].owncount[choices[i]] = game[i].owncount[choices[i]] + job[i]\n",
    "            ff = game[i].own[choices[i]]\n",
    "            if ff in game[j].obs\n",
    "                ind = findall(x -> x==ff, game[j].obs)[1]\n",
    "                game[j].obscount[ind] = game[i].owncount[choices[i]]\n",
    "            else\n",
    "                0\n",
    "            end\n",
    "        end\n",
    "    end\n",
    "    return game\n",
    "end\n",
    "\n",
    "function play_combat(game::Array{BattleView}, choices::Array{Int64}, verbose::Bool = false)::Array{BattleView}\n",
    "    round = game[1].round + 1\n",
    "    fighters = [game[i].own[choices[i]] for i in 1:2]\n",
    "    for i in 1:2\n",
    "        @assert game[i].owncount[choices[i]] >= 0\n",
    "    end\n",
    "    if verbose\n",
    "        print(\"Round \")\n",
    "        print(round)\n",
    "        print(\": #A\")\n",
    "        print(choices[1])\n",
    "        print(\" \")\n",
    "        print(fighters[1])\n",
    "        print(\" vs #B\")\n",
    "        print(choices[2])\n",
    "        print(\" \")\n",
    "        println(fighters[2])\n",
    "    end\n",
    "    outcome = eval_battle(fighters[1], fighters[2])\n",
    "    if verbose\n",
    "        if outcome == 0\n",
    "            println(\"Tied!\")\n",
    "        else\n",
    "            if outcome == 1\n",
    "                print(fighters[1])\n",
    "            end\n",
    "            if outcome == -1\n",
    "                print(fighters[2])\n",
    "            end\n",
    "            println(\" wins!\")\n",
    "        end\n",
    "    end\n",
    "    game = observe_fighters(game, choices)\n",
    "    if outcome > -1\n",
    "        game = jobify_fighter_counts(game, choices, [0, -1])\n",
    "    end\n",
    "    if outcome < 1\n",
    "        game = jobify_fighter_counts(game, choices, [-1, 0])\n",
    "    end\n",
    "    for i in 1:2\n",
    "        game[i].round = round\n",
    "    end\n",
    "    return game\n",
    "end\n",
    "\n",
    "function play_add_spud(game::Array{BattleView}, player::Int64, ff::Spud, verbose::Bool = false)::Array{BattleView}\n",
    "    game[player].own = append!(game[player].own, [ff])\n",
    "    game[player].owncount = append!(game[player].owncount, [n_copy])\n",
    "    game[player].deployed = append!(game[player].deployed, [false])\n",
    "    if verbose\n",
    "        print(\"Player \")\n",
    "        print(player)\n",
    "        print(\" adds #\")\n",
    "        print([\"A\", \"B\"][player])\n",
    "        print(length(game[player].own))\n",
    "        print(\" \")\n",
    "        println(ff)\n",
    "    end\n",
    "    return game\n",
    "end\n",
    "\n",
    "function play_is_game_over(game::Array{BattleView})::Bool\n",
    "    for bv in game\n",
    "        if sum(bv.owncount) == 0\n",
    "            return true\n",
    "        end\n",
    "    end\n",
    "    return false\n",
    "end\n",
    "\n",
    "function generate_rand_team(env, counts, nteam)\n",
    "    cc = cumsum(counts)\n",
    "    team = Array{Spud}(undef, nteam)\n",
    "    for i in 1:nteam\n",
    "        tmp = rand(1:sum(counts))\n",
    "        ind = sum(cc .< tmp)+1\n",
    "        team[i] = env[ind]\n",
    "    end\n",
    "    return team\n",
    "end\n",
    "\n",
    "function ai0_pick(a::BattleView)::Int64\n",
    "    inds = findall(a.owncount .> 0)\n",
    "    return rand(inds)\n",
    "end\n",
    "\n",
    "function ai0_create(a::BattleView)::Spud\n",
    "    return generate_rand_team(nash_env, counts, 1)[1]\n",
    "end\n",
    "\n",
    "function ai1_create(a::BattleView)::Spud\n",
    "    ops = a.obs[a.obscount .> 0]\n",
    "    ebs = [eval_battle_list(ff, ops) for ff in nash_env]\n",
    "    cands = nash_env[ebs .== maximum(ebs)]\n",
    "    return rand(cands)\n",
    "end\n",
    "\n",
    "function ai2_create(a::BattleView)::Spud\n",
    "    ops = a.obs[a.obscount .> 0]\n",
    "    ebs = [eval_battle_list(ff, ops) for ff in nash_env]\n",
    "    if maximum(ebs) == length(ops)\n",
    "        cands = nash_env[ebs .== maximum(ebs)]\n",
    "        return rand(cands)\n",
    "    else\n",
    "        ebs2 = [eval_battle_list(ff, ops) for ff in lib]\n",
    "        if maximum(ebs2) > maximum(ebs)\n",
    "            cands = lib[ebs2 .== maximum(ebs2)]\n",
    "            return rand_rename(rand(cands))\n",
    "        else\n",
    "            cands = nash_env[ebs .== maximum(ebs)]\n",
    "            return rand(cands)\n",
    "        end\n",
    "    end\n",
    "end\n",
    "\n",
    "\n",
    "# picks Spud most likely to win\n",
    "function ai_greedy_pick(a::BattleView)::Int64\n",
    "    if length(a.obs[a.obscount .> 0]) == 0\n",
    "        return rand(findall(a.owncount .> 0))\n",
    "    end\n",
    "    res = ffp2(a.own[a.owncount .> 0], a.obs[a.obscount .> 0], 100)\n",
    "    ind = findall(a.owncount .> 0)[rand(findall(res.w1 .== maximum(res.w1)))]\n",
    "    return ind\n",
    "end\n",
    "\n",
    "# picks from spuds already deployed\n",
    "function ai_conservative_pick(a::BattleView)::Int64\n",
    "    own = a.own[a.owncount .> 0 .&& a.deployed]\n",
    "    owninds = findall(a.owncount .> 0 .&& a.deployed)\n",
    "    if length(own) == 0\n",
    "        # pick greedy\n",
    "        return ai_greedy_pick(a)\n",
    "    end\n",
    "    ops = a.obs[a.obscount .> 0]\n",
    "    res = ffp2(own, ops, 100)\n",
    "    ind = owninds[rand(findall(res.w1 .== maximum(res.w1)))]\n",
    "    return ind\n",
    "end\n",
    "\n",
    "# picks Spud based on 1-round nash\n",
    "function ai_myopic_pick(a::BattleView)::Int64\n",
    "    if length(a.obs[a.obscount .> 0]) == 0\n",
    "        return rand(findall(a.owncount .> 0))\n",
    "    end\n",
    "    res = ffp2(a.own[a.owncount .> 0], a.obs[a.obscount .> 0], 100)\n",
    "    cc = cumsum(res.w1)\n",
    "    ind = sum(cc .< rand()) + 1\n",
    "    return findall(a.owncount .> 0)[ind]\n",
    "end\n",
    "\n",
    "creation_rounds = [5, 10, 15]\n",
    "\n",
    "function play_game(players::Array{AiPlayer}, verbose::Bool = true)::Int64\n",
    "    ai1 = players[1]\n",
    "    ai2 = players[2]\n",
    "    ais = players\n",
    "    team1 = ai1.genteam()\n",
    "    team2 = ai2.genteam()\n",
    "    game = initialize_game(team1, team2)\n",
    "    while !play_is_game_over(game)\n",
    "        # play a round\n",
    "        choice1 = ai1.pick(game[1])\n",
    "        choice2 = ai2.pick(game[2])\n",
    "        game = play_combat(game, [choice1, choice2], verbose)\n",
    "        if verbose\n",
    "            for i in 1:2\n",
    "                println(game[i].owncount)\n",
    "            end\n",
    "        end\n",
    "        if game[1].round in creation_rounds\n",
    "            for i in 1:2\n",
    "                ff = ais[i].create(game[i])\n",
    "                game = play_add_spud(game, i, ff, verbose)\n",
    "            end\n",
    "        end\n",
    "    end\n",
    "    if sum(game[1].owncount) == 0\n",
    "        if sum(game[2].owncount) == 0\n",
    "            return 0\n",
    "        else\n",
    "            return -1\n",
    "        end\n",
    "    end\n",
    "    return 1\n",
    "end\n",
    "\n",
    "# ai1 = AiPlayer(() -> generate_rand_team(nash_env, counts, 5), ai_greedy_pick, ai1_create)\n",
    "# ai2 = AiPlayer(() -> generate_rand_team(nash_env, counts, 5), ai_greedy_pick, ai1_create)\n",
    "# ais = [ai1, ai2]\n",
    "# play_game(ais, true)\n",
    "\n",
    "#@time lib = sample_library(1.01, [999]);\n",
    "\n",
    "function filter_nondominated(as::Array{Spud})::Array{Spud}\n",
    "    df = spuds_to_df(as)\n",
    "    mat = Array{Int64}(undef, (length(as), 6))\n",
    "    mat[:, 1] = df.h\n",
    "    mat[:, 2] = df.f\n",
    "    mat[:, 3] = df.l\n",
    "    mat[:, 4] = df.p\n",
    "    mat[:, 5] = df.r\n",
    "    mat[:, 6] = df.s;\n",
    "    isDominated = zeros(Int64, length(as));\n",
    "    for i in 1:length(as)\n",
    "        v = mat[i, :]\n",
    "        bv = ones(Int64, length(as))\n",
    "        for j in 1:6\n",
    "            bv = bv .* (mat[:, j] .>= v[j])\n",
    "        end\n",
    "        if sum(bv) > 1\n",
    "            isDominated[i] = 1\n",
    "        end\n",
    "    end\n",
    "    return as[isDominated .== 0]\n",
    "end\n",
    "\n",
    "function spud_to_vec(a::Spud)::Array{Int64}\n",
    "    return [a.h, a.f, a.l, a.p, a.r, a.s]\n",
    "end\n",
    "\n",
    "struct SpudBase\n",
    "    name::String\n",
    "    h::Int64\n",
    "    f::Int64\n",
    "    l::Int64\n",
    "    p::Int64\n",
    "    r::Int64\n",
    "    s::Int64\n",
    "    a1::Int64\n",
    "    cost::Int64\n",
    "end\n",
    "\n",
    "function spud_to_vec(a::SpudBase)::Array{Int64}\n",
    "    return [a.h, a.f, a.l, a.p, a.r, a.s]\n",
    "end\n",
    "                                                                                    \n",
    "struct SpudMod\n",
    "    name::String\n",
    "    h::Int64\n",
    "    f::Int64\n",
    "    l::Int64\n",
    "    p::Int64\n",
    "    r::Int64\n",
    "    s::Int64\n",
    "    a1::Int64\n",
    "    minh::Int64\n",
    "    minf::Int64\n",
    "    minl::Int64\n",
    "    minp::Int64\n",
    "    minr::Int64\n",
    "    mins::Int64\n",
    "    cost::Int64\n",
    "end\n",
    "                                                                                        \n",
    "                                                                                        "
   ]
  },
  {
   "cell_type": "code",
   "execution_count": 2,
   "id": "2b5ef59c",
   "metadata": {},
   "outputs": [
    {
     "data": {
      "text/plain": [
       "20"
      ]
     },
     "execution_count": 2,
     "metadata": {},
     "output_type": "execute_result"
    }
   ],
   "source": [
    "const discount = 20"
   ]
  },
  {
   "cell_type": "code",
   "execution_count": 3,
   "id": "1708d852",
   "metadata": {},
   "outputs": [
    {
     "data": {
      "text/plain": [
       "check_validity (generic function with 1 method)"
      ]
     },
     "execution_count": 3,
     "metadata": {},
     "output_type": "execute_result"
    }
   ],
   "source": [
    "function rename_base(a::SpudBase, s::String)::SpudBase\n",
    "    return SpudBase(s, a.h,a.f,a.l,a.p,a.r,a.s,a.a1,a.cost)\n",
    "end\n",
    "\n",
    "function rename_job(a::SpudMod, s::String)::SpudMod\n",
    "    return SpudMod(s, a.h,a.f,a.l,a.p,a.r,a.s,a.a1,a.minh,a.minf,a.minl,a.minp,a.minr,a.mins,a.cost)\n",
    "end\n",
    "\n",
    "function check_validity(a::Spud)::Bool\n",
    "    return minimum([a.h,a.f,a.l,a.p,a.r,a.s]) >= MNV\n",
    "end\n",
    "\n"
   ]
  },
  {
   "cell_type": "code",
   "execution_count": 4,
   "id": "30c0c6c0",
   "metadata": {},
   "outputs": [
    {
     "data": {
      "text/plain": [
       "combine_base_job (generic function with 1 method)"
      ]
     },
     "execution_count": 4,
     "metadata": {},
     "output_type": "execute_result"
    }
   ],
   "source": [
    "function combine_base_job(b::SpudBase, j::SpudMod)::Spud\n",
    "    v = [b.h,b.f,b.l,b.p,b.r,b.s]\n",
    "    c = b.cost\n",
    "    a1 = b.a1\n",
    "    if a1 == 999\n",
    "        a1 = j.a1\n",
    "    end\n",
    "    w = [j.h,j.f,j.l,j.p,j.r,j.s]\n",
    "    m = [j.minh,j.minf,j.minl,j.minp,j.minr,j.mins]\n",
    "    c2 = j.cost\n",
    "    if sum(v .< m) == 0\n",
    "        c2 -= discount\n",
    "    end\n",
    "    z = v .+ w\n",
    "    z[z .> MXV] .= MXV\n",
    "    return Spud(string(j.name, \" \", b.name),z[1],z[2],z[3],z[4],z[5],z[6],a1,c+c2)\n",
    "end"
   ]
  },
  {
   "cell_type": "code",
   "execution_count": 5,
   "id": "d4837896",
   "metadata": {},
   "outputs": [
    {
     "data": {
      "text/plain": [
       "combine_spud_mod (generic function with 1 method)"
      ]
     },
     "execution_count": 5,
     "metadata": {},
     "output_type": "execute_result"
    }
   ],
   "source": [
    "function combine_spud_mod(b::Spud, j::SpudMod)::Spud\n",
    "    v = [b.h,b.f,b.l,b.p,b.r,b.s]\n",
    "    c = b.cost\n",
    "    a1 = b.a1\n",
    "    if a1 == 999\n",
    "        a1 = j.a1\n",
    "    end\n",
    "    w = [j.h,j.f,j.l,j.p,j.r,j.s]\n",
    "    m = [j.minh,j.minf,j.minl,j.minp,j.minr,j.mins]\n",
    "    c2 = j.cost\n",
    "    # require spud to meet minimums\n",
    "    if sum(v .< m) > 0\n",
    "        return b\n",
    "    end\n",
    "    z = v .+ w\n",
    "    z[z .> MXV] .= MXV\n",
    "    return Spud(string(j.name, \" \", b.name),z[1],z[2],z[3],z[4],z[5],z[6],a1,c+c2)\n",
    "end"
   ]
  },
  {
   "cell_type": "markdown",
   "id": "f192cf3d",
   "metadata": {},
   "source": [
    "#### Load pre-computed scores (from game_designL) and best_cost (from SpudParts2c)"
   ]
  },
  {
   "cell_type": "code",
   "execution_count": 110,
   "id": "218e455b",
   "metadata": {},
   "outputs": [
    {
     "data": {
      "text/plain": [
       "2"
      ]
     },
     "execution_count": 110,
     "metadata": {},
     "output_type": "execute_result"
    }
   ],
   "source": [
    "scores = matread(\"scores_sq300.mat\")[\"scores\"];\n",
    "\n",
    "n_base_parts = 100\n",
    "n_mods = 100\n",
    "n_jobs = 100\n",
    "#min_cost_base = 15\n",
    "#max_cost_base = 25\n",
    "cost_base = 15\n",
    "min_cost_mod = 25\n",
    "max_cost_mod = 50\n",
    "#min_cost_job = 35\n",
    "max_cost_job = 100 - cost_base\n",
    "\n",
    "min_mod_delt = -2\n",
    "max_mod_delt = 8\n",
    "\n",
    "min_job_delt = 0\n",
    "max_job_delt = 2\n",
    "\n",
    "min_n_viable = 10\n",
    "thres_viable = 2\n"
   ]
  },
  {
   "cell_type": "code",
   "execution_count": 111,
   "id": "6821a0bd",
   "metadata": {},
   "outputs": [],
   "source": [
    "best_cost = matread(\"temp_desLparts_postjobcosts.mat\")[\"best_cost\"];"
   ]
  },
  {
   "cell_type": "code",
   "execution_count": 112,
   "id": "16b0db01",
   "metadata": {},
   "outputs": [
    {
     "data": {
      "text/plain": [
       "2804"
      ]
     },
     "execution_count": 112,
     "metadata": {},
     "output_type": "execute_result"
    }
   ],
   "source": [
    "# get all bases of that cost\n",
    "base_inds = findall(scores .== cost_base);\n",
    "bases = [\n",
    "    SpudBase(\n",
    "        string(\"b\", i), base_inds[i][1], base_inds[i][2], base_inds[i][3], \n",
    "        base_inds[i][4], base_inds[i][5], base_inds[i][6], 999, cost_base) for i in 1:length(base_inds)];\n",
    "length(base_inds)"
   ]
  },
  {
   "cell_type": "code",
   "execution_count": 113,
   "id": "6391431c",
   "metadata": {},
   "outputs": [
    {
     "data": {
      "text/plain": [
       "(15850, 6)"
      ]
     },
     "execution_count": 113,
     "metadata": {},
     "output_type": "execute_result"
    }
   ],
   "source": [
    "# get all minimum req vecs\n",
    "mvs = Array{Int64}(undef, (100000, 6))\n",
    "mv_i = 0\n",
    "for i1 in 1:4\n",
    "    for i2 in (i1+1):5\n",
    "        for i3 in (i2+1):6\n",
    "            for j1 in 0:9\n",
    "                for j2 in 0:9\n",
    "                    for j3 in 0:9\n",
    "                        mv_i += 1\n",
    "                        mvs[mv_i, i1] = j1\n",
    "                        mvs[mv_i, i2] = j2\n",
    "                        mvs[mv_i, i3] = j3\n",
    "                    end\n",
    "                end\n",
    "            end\n",
    "        end\n",
    "    end\n",
    "end\n",
    "mvs = mvs[1:mv_i, :];\n",
    "mvs = unique(mvs, dims=1);\n",
    "size(mvs)"
   ]
  },
  {
   "cell_type": "code",
   "execution_count": 114,
   "id": "f871b270",
   "metadata": {},
   "outputs": [
    {
     "data": {
      "text/plain": [
       "get_targets (generic function with 1 method)"
      ]
     },
     "execution_count": 114,
     "metadata": {},
     "output_type": "execute_result"
    }
   ],
   "source": [
    "function get_targets(scores, target_score)\n",
    "    targets = findall(scores .== target_score)\n",
    "    targets = reduce(hcat, [getindex.(targets, i) for i in 1:6])\n",
    "    tgts = [Spud(\"\",v[1],v[2],v[3],v[4],v[5],v[6],ability_none,target_score) for v in eachrow(targets)]\n",
    "    return tgts\n",
    "end\n",
    "\n",
    "function get_inits(best_cost)\n",
    "    inits_v = findall(best_cost .<= MXS);\n",
    "    n_inits = size(inits_v)[1]\n",
    "    inits = Array{Spud}(undef, n_inits)\n",
    "    for i in 1:n_inits\n",
    "        inits[i] = Spud(\n",
    "            \"\",inits_v[i][1],inits_v[i][2],inits_v[i][3],inits_v[i][4],\n",
    "            inits_v[i][5],inits_v[i][6],ability_none,best_cost[inits_v[i]])\n",
    "    end\n",
    "    return inits\n",
    "end\n",
    "\n",
    "function find_mods_for_target(\n",
    "        scores::Array{Int64}, inits::Array{Spud}, ff::Spud, \n",
    "        dist_thres::Int64=1, n_reqs::Int64=3, m_slack::Int64=0)::Dict\n",
    "    mods = Array{SpudMod}(undef, 1000)\n",
    "    allcands = Array{Spud}(undef, 1000)\n",
    "    m_i = 0\n",
    "    v = spud_to_vec(ff)\n",
    "    dists = [sum(map(abs, spud_to_vec(ff) .- spud_to_vec(cd))) for cd in inits];\n",
    "    cands = inits[dists .<= minimum(dists) + dist_thres];\n",
    "    for cand in cands\n",
    "        delt = spud_to_vec(ff) .- spud_to_vec(cand)\n",
    "        m_inds = sortperm(-spud_to_vec(cand))[1:n_reqs]\n",
    "        m = [0,0,0,0,0,0]\n",
    "        m[m_inds] = spud_to_vec(cand)[m_inds] .- m_slack\n",
    "        mm = SpudMod(\"mod\",delt[1],delt[2],delt[3],delt[4],delt[5],delt[6],999,m[1],m[2],m[3],m[4],m[5],m[6],0)\n",
    "        blockers = [s for s in inits if (sum(spud_to_vec(s) .< m)==0 && minimum(spud_to_vec(s).+delt) > 0)];\n",
    "        blockers2 = [combine_spud_mod(b, mm) for b in blockers];\n",
    "        cs = [b.cost for b in blockers];\n",
    "        c2s = [scores[b.h,b.f,b.l,b.p,b.r,b.s] for b in blockers2];\n",
    "        maxdiff = maximum(c2s .- cs)        \n",
    "        if maxdiff + cand.cost <= MXS\n",
    "            mm = SpudMod(\"mod\",delt[1],delt[2],delt[3],delt[4],delt[5],delt[6],999,m[1],m[2],m[3],m[4],m[5],m[6],maxdiff)\n",
    "            m_i += 1\n",
    "            mods[m_i] = mm\n",
    "            allcands[m_i] = cand\n",
    "        end\n",
    "    end\n",
    "    mods = mods[1:m_i]\n",
    "    allcands = allcands[1:m_i]\n",
    "    return Dict(\"mods\" => mods, \"cands\" => allcands)\n",
    "end\n",
    "                \n",
    "function get_bjms(bases::Array{SpudBase}, jobs::Array{SpudMod}, mods::Array{SpudMod})::Array{Spud}\n",
    "    bajos = unique([combine_base_job(b, j) for b in bases for j in jobs])\n",
    "    append!(bajos, unique([combine_spud_mod(s, m) for s in bajos for m in mods]))\n",
    "    bajos = [b for b in bajos if b.cost <= MXS]\n",
    "    return bajos\n",
    "end\n",
    "\n",
    "function filter_nondominated_recursive(as::Array{Spud})::Array{Spud}\n",
    "    if length(as) < 1001\n",
    "        return filter_nondominated(as)\n",
    "    end\n",
    "    n = size(as)[1]\n",
    "    n1 = div(n, 2)\n",
    "    as1 = as[1:n1]\n",
    "    as2 = as[(n1+1):n]\n",
    "    ans1 = filter_nondominated_recursive(as1)\n",
    "    ans2 = filter_nondominated_recursive(as2)\n",
    "    return append!(ans1, ans2)\n",
    "end"
   ]
  },
  {
   "cell_type": "code",
   "execution_count": 117,
   "id": "ea74688f",
   "metadata": {},
   "outputs": [
    {
     "data": {
      "text/plain": [
       "find_jobs_and_bases_for_target (generic function with 4 methods)"
      ]
     },
     "execution_count": 117,
     "metadata": {},
     "output_type": "execute_result"
    }
   ],
   "source": [
    "function find_jobs_and_bases_for_target(\n",
    "        mvs::Array{Int64}, bases::Array{SpudBase}, target::Spud, \n",
    "        max_job_delt::Int64 = 2,\n",
    "        min_n_viable::Int64 = 10, thres_viable::Int64 = 2)::Dict\n",
    "    cost_base = bases[1].cost\n",
    "    base_vs = [spud_to_vec(b) for b in bases]\n",
    "    base_vs = hcat(base_vs...)\n",
    "    js = Array{SpudMod}(undef, 10000)\n",
    "    cands = Array{SpudBase}(undef, 10000)\n",
    "    viables = Array{Int64}(undef, 10000)\n",
    "    j_i = 0\n",
    "    # get bases that can yield target\n",
    "    bs = [b for b in bases if sum(spud_to_vec(b) .> spud_to_vec(target)) == 0]\n",
    "    bs = [b for b in bs if maximum(spud_to_vec(target) .- spud_to_vec(b)) <= max_job_delt]\n",
    "    # iterate over possible bases\n",
    "    for b in bs\n",
    "        #println(b)\n",
    "        v = spud_to_vec(target) .- spud_to_vec(b)\n",
    "        m = [0,0,0,0,0,0]\n",
    "        jj = SpudMod(\"job\",v[1],v[2],v[3],v[4],v[5],v[6],ability_none,m[1],m[2],m[3],m[4],m[5],m[6],0)\n",
    "        b2s = [combine_base_job(b, jj) for b in bases];\n",
    "        c2s = [scores[b.h,b.f,b.l,b.p,b.r,b.s] for b in b2s];\n",
    "        n_viable = Array{Int64}(undef, size(mvs)[1])\n",
    "        c2_max = Array{Int64}(undef, size(mvs)[1])\n",
    "        #jcost is undiscounted cost\n",
    "        jcost = maximum(c2s) - cost_base\n",
    "        #println(jcost)\n",
    "        # does jcost hit target cost?\n",
    "        if cost_base + jcost <= target.cost\n",
    "            j_i += 1\n",
    "            cands[j_i] = b\n",
    "            js[j_i] = SpudMod(\"job\",v[1],v[2],v[3],v[4],v[5],v[6],ability_none,0,0,0,0,0,0,jcost+discount)\n",
    "            viables[j_i] = sum(c2s .>= cost_base .+ jcost - thres_viable)\n",
    "        end\n",
    "        # besides the vanilla job with no minimal req, consider alternative jobs that have requirements\n",
    "        for i in 1:size(mvs)[1]\n",
    "            m = mvs[i, :]\n",
    "            if (sum(spud_to_vec(b) .< m) == 0)\n",
    "                #println(m)\n",
    "                filt = \n",
    "                    base_vs[1,:] .>= m[1] .&& base_vs[2,:] .>= m[2] .&& base_vs[3,:] .>= m[3] .&&\n",
    "                    base_vs[4,:] .>= m[4] .&& base_vs[5,:] .>= m[5] .&& base_vs[6,:] .>= m[6]\n",
    "                c2_max[i] = maximum(c2s[filt]) - cost_base\n",
    "                # ensure that the undiscounted cost of the alternative-req job is not below the vanilla job\n",
    "                if c2_max[i] + discount <= jcost\n",
    "                    c2_max[i] = jcost - discount\n",
    "                end\n",
    "                # spuds are viable if their discounted cost is within thres of their value from scores[]\n",
    "                n_viable[i] = sum(c2s[filt] .>= cost_base .+ c2_max[i] - thres_viable)\n",
    "                # ensure that the undiscounted cost of the alternative-req job is below the maximum job cost\n",
    "                cond2 = c2_max[i]+discount <= max_cost_job\n",
    "                # ensure that enough efficient spuds are made possible to make the job worthy of inclusion\n",
    "                cond3 = n_viable[i] .>= min_n_viable\n",
    "                # ensures that discounted cost of job hits target\n",
    "                cond4 = c2_max[i] + cost_base <= target.cost\n",
    "                if cond2 && cond3 && cond4\n",
    "                    j_i += 1\n",
    "                    cands[j_i] = b\n",
    "                    js[j_i] = SpudMod(\n",
    "                        \"job\",v[1],v[2],v[3],v[4],v[5],v[6],ability_none,\n",
    "                        m[1],m[2],m[3],m[4],m[5],m[6],c2_max[i]+discount)\n",
    "                    viables[j_i] = n_viable[i]\n",
    "                end\n",
    "            end\n",
    "        end\n",
    "    end\n",
    "    js = js[1:j_i]\n",
    "    cands = cands[1:j_i]\n",
    "    viables = viables[1:j_i]\n",
    "    return Dict(\"jobs\" => js, \"cands\" => cands, \"n_viable\" => viables)\n",
    "end"
   ]
  },
  {
   "cell_type": "markdown",
   "id": "04c3c1f2",
   "metadata": {},
   "source": [
    "#### Generate large set of parts"
   ]
  },
  {
   "cell_type": "code",
   "execution_count": 132,
   "id": "06de8f72",
   "metadata": {},
   "outputs": [
    {
     "data": {
      "text/plain": [
       "0"
      ]
     },
     "execution_count": 132,
     "metadata": {},
     "output_type": "execute_result"
    }
   ],
   "source": [
    "bases1 = Array{SpudBase}(undef, 10000)\n",
    "jobs1 = Array{SpudMod}(undef, 10000)\n",
    "mods1 = Array{SpudMod}(undef, 10000)\n",
    "b_i = 0\n",
    "j_i = 0\n",
    "m_i = 0"
   ]
  },
  {
   "cell_type": "code",
   "execution_count": null,
   "id": "9e84f263",
   "metadata": {
    "scrolled": false
   },
   "outputs": [],
   "source": [
    "inits = get_inits(best_cost);\n",
    "targets = get_targets(scores, 90);\n",
    "for i in 1:100\n",
    "    targ = rand(targets)\n",
    "    println(targ)\n",
    "    mr = find_mods_for_target(scores, inits, targ, 1, 2, 1)\n",
    "    if length(mr[\"cands\"]) > 0\n",
    "        ind = sortperm([c.cost for c in mr[\"cands\"]])[1]\n",
    "        cand = mr[\"cands\"][ind]\n",
    "        m_i += 1\n",
    "        mods1[m_i] = mr[\"mods\"][ind]\n",
    "        println(mods1[m_i])\n",
    "        # find base and job for cand\n",
    "        rjb = find_jobs_and_bases_for_target(mvs, bases, cand)\n",
    "        if length(rjb[\"jobs\"]) > 0\n",
    "            ind = sortperm(-rjb[\"n_viable\"])[1]\n",
    "            job = rjb[\"jobs\"][ind]\n",
    "            b = rjb[\"cands\"][ind]\n",
    "            b_i += 1\n",
    "            bases1[b_i] = b\n",
    "            j_i += 1\n",
    "            jobs1[j_i] = job\n",
    "            println(job)\n",
    "            println(b)\n",
    "        end\n",
    "    end\n",
    "end"
   ]
  },
  {
   "cell_type": "code",
   "execution_count": null,
   "id": "6d30a3ae",
   "metadata": {
    "scrolled": false
   },
   "outputs": [],
   "source": [
    "inits = get_inits(best_cost);\n",
    "targets = get_targets(scores, 80);\n",
    "for i in 1:100\n",
    "    targ = rand(targets)\n",
    "    println(targ)\n",
    "    mr = find_mods_for_target(scores, inits, targ, 1, 2, 1)\n",
    "    if length(mr[\"cands\"]) > 0\n",
    "        ind = sortperm([c.cost for c in mr[\"cands\"]])[1]\n",
    "        cand = mr[\"cands\"][ind]\n",
    "        m_i += 1\n",
    "        mods1[m_i] = mr[\"mods\"][ind]\n",
    "        println(mods1[m_i])\n",
    "        # find base and job for cand\n",
    "        rjb = find_jobs_and_bases_for_target(mvs, bases, cand)\n",
    "        if length(rjb[\"jobs\"]) > 0\n",
    "            ind = sortperm(-rjb[\"n_viable\"])[1]\n",
    "            job = rjb[\"jobs\"][ind]\n",
    "            b = rjb[\"cands\"][ind]\n",
    "            b_i += 1\n",
    "            bases1[b_i] = b\n",
    "            j_i += 1\n",
    "            jobs1[j_i] = job\n",
    "            println(job)\n",
    "            println(b)\n",
    "        end\n",
    "    end\n",
    "end"
   ]
  },
  {
   "cell_type": "code",
   "execution_count": null,
   "id": "31aedf9d",
   "metadata": {
    "scrolled": false
   },
   "outputs": [],
   "source": [
    "inits = get_inits(best_cost);\n",
    "targets = get_targets(scores, 70);\n",
    "for i in 1:100\n",
    "    targ = rand(targets)\n",
    "    println(targ)\n",
    "    mr = find_mods_for_target(scores, inits, targ, 1, 1, 1)\n",
    "    if length(mr[\"cands\"]) > 0\n",
    "        ind = sortperm([c.cost for c in mr[\"cands\"]])[1]\n",
    "        cand = mr[\"cands\"][ind]\n",
    "        m_i += 1\n",
    "        mods1[m_i] = mr[\"mods\"][ind]\n",
    "        println(mods1[m_i])\n",
    "        # find base and job for cand\n",
    "        rjb = find_jobs_and_bases_for_target(mvs, bases, cand)\n",
    "        if length(rjb[\"jobs\"]) > 0\n",
    "            ind = sortperm(-rjb[\"n_viable\"])[1]\n",
    "            job = rjb[\"jobs\"][ind]\n",
    "            b = rjb[\"cands\"][ind]\n",
    "            b_i += 1\n",
    "            bases1[b_i] = b\n",
    "            j_i += 1\n",
    "            jobs1[j_i] = job\n",
    "            println(job)\n",
    "            println(b)\n",
    "        end\n",
    "    end\n",
    "end"
   ]
  },
  {
   "cell_type": "code",
   "execution_count": 136,
   "id": "ed9ed829",
   "metadata": {},
   "outputs": [],
   "source": [
    "jobs1 = unique(jobs1[1:j_i])\n",
    "mods1 = unique(mods1[1:j_i])\n",
    "bases1 = bases1[1:j_i]\n",
    "jobs1 = [rename_job(jobs1[i], string(\"j\", i)) for i in 1:length(jobs1)]\n",
    "mods1 = [rename_job(mods1[i], string(\"m\", i)) for i in 1:length(mods1)];"
   ]
  },
  {
   "cell_type": "code",
   "execution_count": 208,
   "id": "557c40e9",
   "metadata": {},
   "outputs": [
    {
     "name": "stdout",
     "output_type": "stream",
     "text": [
      " 12.478032 seconds (76.03 M allocations: 8.135 GiB, 35.21% gc time)\n"
     ]
    },
    {
     "data": {
      "text/plain": [
       "658892"
      ]
     },
     "execution_count": 208,
     "metadata": {},
     "output_type": "execute_result"
    }
   ],
   "source": [
    "@time library = get_bjms(bases1,jobs1,mods1);\n",
    "length(library)"
   ]
  },
  {
   "cell_type": "code",
   "execution_count": 139,
   "id": "d94d596c",
   "metadata": {},
   "outputs": [],
   "source": [
    "serialize(\"temp_desLparts_parts.jex\", Dict(\"jobs\" => jobs1, \"mods\" => mods1, \"bases\" => bases1))"
   ]
  },
  {
   "cell_type": "markdown",
   "id": "6cc12345",
   "metadata": {},
   "source": [
    "#### Compare \"exclusive\" (more efficient but less diverse) mods vs \"non-exclusive\" (less requirements, more costly) mods"
   ]
  },
  {
   "cell_type": "code",
   "execution_count": 142,
   "id": "e0b8d07b",
   "metadata": {},
   "outputs": [
    {
     "data": {
      "text/plain": [
       "229"
      ]
     },
     "execution_count": 142,
     "metadata": {},
     "output_type": "execute_result"
    }
   ],
   "source": [
    "length(mods1)"
   ]
  },
  {
   "cell_type": "code",
   "execution_count": 144,
   "id": "8ed1c802",
   "metadata": {},
   "outputs": [],
   "source": [
    "mods_ex = mods1[1:50]\n",
    "mods_nx = mods1[171:220];\n"
   ]
  },
  {
   "cell_type": "code",
   "execution_count": 160,
   "id": "10a9dd33",
   "metadata": {},
   "outputs": [],
   "source": [
    "n_deck = 10\n",
    "basesA = bases1[sortperm([rand() for i in 1:length(bases1)])[1:n_deck]]\n",
    "basesB = bases1[sortperm([rand() for i in 1:length(bases1)])[1:n_deck]]\n",
    "jobsA = jobs1[sortperm([rand() for i in 1:length(jobs1)])[1:n_deck]]\n",
    "jobsB = jobs1[sortperm([rand() for i in 1:length(jobs1)])[1:n_deck]]\n",
    "modsA = mods_ex[sortperm([rand() for i in 1:length(mods_ex)])[1:n_deck]]\n",
    "modsB = mods_nx[sortperm([rand() for i in 1:length(mods_nx)])[1:n_deck]]\n",
    "libA = get_bjms(basesA, jobsA, modsA)\n",
    "libB = get_bjms(basesB, jobsB, modsB)\n",
    "libAf = filter_nondominated(get_bjms(basesA, jobsA, modsA))\n",
    "libBf = filter_nondominated(get_bjms(basesB, jobsB, modsB))\n",
    "res_ffp = ffp2(libAf, libBf, 100000);"
   ]
  },
  {
   "cell_type": "code",
   "execution_count": 161,
   "id": "8d306d3c",
   "metadata": {},
   "outputs": [
    {
     "data": {
      "text/plain": [
       "3-element Vector{Spud}:\n",
       " Spud(\"m36 j23 b2576\", 5, 3, 3, 7, 8, 8, 999, 97)\n",
       " Spud(\"m50 j176 b1058\", 3, 5, 8, 6, 3, 4, 999, 97)\n",
       " Spud(\"m50 j23 b2643\", 3, 2, 7, 5, 3, 9, 999, 76)"
      ]
     },
     "execution_count": 161,
     "metadata": {},
     "output_type": "execute_result"
    }
   ],
   "source": [
    "libAf[res_ffp.w1 .> 0.01]"
   ]
  },
  {
   "cell_type": "code",
   "execution_count": 162,
   "id": "42cc95d0",
   "metadata": {},
   "outputs": [
    {
     "data": {
      "text/plain": [
       "2-element Vector{Spud}:\n",
       " Spud(\"m211 j164 b132\", 7, 4, 3, 1, 3, 1, 999, 99)\n",
       " Spud(\"m199 j121 b2363\", 5, 2, 5, 4, 7, 8, 999, 95)"
      ]
     },
     "execution_count": 162,
     "metadata": {},
     "output_type": "execute_result"
    }
   ],
   "source": [
    "libBf[res_ffp.w2 .> 0.01]"
   ]
  },
  {
   "cell_type": "code",
   "execution_count": 163,
   "id": "a8209b8b",
   "metadata": {},
   "outputs": [
    {
     "data": {
      "text/plain": [
       "1.4350480339523046e-5"
      ]
     },
     "execution_count": 163,
     "metadata": {},
     "output_type": "execute_result"
    }
   ],
   "source": [
    "res_ffp.v"
   ]
  },
  {
   "cell_type": "code",
   "execution_count": 221,
   "id": "46655d15",
   "metadata": {},
   "outputs": [],
   "source": [
    "n_deck = 20\n",
    "basesA = bases1[sortperm([rand() for i in 1:length(bases1)])[1:n_deck]]\n",
    "basesB = bases1[sortperm([rand() for i in 1:length(bases1)])[1:n_deck]]\n",
    "jobsA = jobs1[sortperm([rand() for i in 1:length(jobs1)])[1:n_deck]]\n",
    "jobsB = jobs1[sortperm([rand() for i in 1:length(jobs1)])[1:n_deck]]\n",
    "modsA = mods_ex[sortperm([rand() for i in 1:length(mods_ex)])[1:n_deck]]\n",
    "modsB = mods1[sortperm([rand() for i in 1:length(mods1)])[1:n_deck]]\n",
    "libA = get_bjms(basesA, jobsA, modsA)\n",
    "libB = get_bjms(basesB, jobsB, modsB)\n",
    "libAf = filter_nondominated(get_bjms(basesA, jobsA, modsA))\n",
    "libBf = filter_nondominated(get_bjms(basesB, jobsB, modsB))\n",
    "res_ffp = ffp2(libAf, libBf, 100000);"
   ]
  },
  {
   "cell_type": "code",
   "execution_count": 222,
   "id": "9332add4",
   "metadata": {},
   "outputs": [
    {
     "data": {
      "text/plain": [
       "98-element Vector{Spud}:\n",
       " Spud(\"m15 j231 b1012\", 4, 5, 5, 7, 3, 4, 999, 100)\n",
       " Spud(\"m29 j162 b1012\", 4, 4, 8, 6, 5, 3, 999, 98)\n",
       " Spud(\"m15 j79 b1012\", 5, 4, 6, 7, 2, 3, 999, 100)\n",
       " Spud(\"m29 j228 b1012\", 5, 3, 8, 7, 3, 3, 999, 91)\n",
       " Spud(\"m29 j218 b1012\", 4, 3, 8, 7, 4, 4, 999, 83)\n",
       " Spud(\"m15 j218 b1012\", 4, 4, 6, 8, 3, 4, 999, 93)\n",
       " Spud(\"m29 j144 b1012\", 4, 3, 9, 7, 4, 3, 999, 79)\n",
       " Spud(\"m15 j144 b1012\", 4, 4, 7, 8, 3, 3, 999, 89)\n",
       " Spud(\"m34 j231 b1802\", 2, 4, 8, 4, 6, 7, 999, 91)\n",
       " Spud(\"m34 j33 b1802\", 4, 3, 8, 5, 7, 6, 999, 100)\n",
       " Spud(\"m3 j33 b1802\", 3, 4, 9, 5, 7, 5, 999, 100)\n",
       " Spud(\"m34 j162 b1802\", 2, 4, 8, 4, 7, 6, 999, 99)\n",
       " Spud(\"m39 j162 b1802\", 1, 5, 9, 4, 7, 5, 999, 99)\n",
       " ⋮\n",
       " Spud(\"m35 j218 b2339\", 1, 2, 9, 7, 6, 9, 999, 92)\n",
       " Spud(\"m41 j218 b2339\", 1, 2, 9, 7, 7, 8, 999, 90)\n",
       " Spud(\"m10 j218 b2339\", 2, 1, 9, 7, 6, 8, 999, 93)\n",
       " Spud(\"m41 j229 b2339\", 3, 2, 8, 6, 8, 7, 999, 99)\n",
       " Spud(\"m18 j229 b2339\", 4, 1, 8, 7, 7, 7, 999, 97)\n",
       " Spud(\"m39 j231 b1827\", 1, 6, 7, 1, 7, 6, 999, 91)\n",
       " Spud(\"m18 j231 b1827\", 2, 5, 7, 2, 7, 6, 999, 95)\n",
       " Spud(\"m34 j162 b1827\", 2, 5, 7, 1, 8, 6, 999, 99)\n",
       " Spud(\"m46 j240 b1827\", 1, 5, 7, 3, 6, 7, 999, 98)\n",
       " Spud(\"m34 j218 b1827\", 2, 4, 7, 2, 7, 7, 999, 84)\n",
       " Spud(\"m2 j218 b1827\", 1, 5, 8, 2, 7, 7, 999, 95)\n",
       " Spud(\"m18 j229 b1827\", 4, 4, 7, 2, 8, 5, 999, 97)"
      ]
     },
     "execution_count": 222,
     "metadata": {},
     "output_type": "execute_result"
    }
   ],
   "source": [
    "libAf"
   ]
  },
  {
   "cell_type": "code",
   "execution_count": 223,
   "id": "36c4740e",
   "metadata": {},
   "outputs": [
    {
     "data": {
      "text/plain": [
       "-0.1407395949724054"
      ]
     },
     "execution_count": 223,
     "metadata": {},
     "output_type": "execute_result"
    }
   ],
   "source": [
    "res_ffp.v"
   ]
  },
  {
   "cell_type": "code",
   "execution_count": 224,
   "id": "b70e75f1",
   "metadata": {},
   "outputs": [
    {
     "data": {
      "text/plain": [
       "10-element Vector{Spud}:\n",
       " Spud(\"m15 j218 b671\", 4, 6, 2, 7, 5, 3, 999, 93)\n",
       " Spud(\"m2 j225 b1616\", 3, 5, 4, 2, 9, 7, 999, 90)\n",
       " Spud(\"m29 j228 b1732\", 5, 2, 8, 4, 4, 5, 999, 91)\n",
       " Spud(\"m34 j225 b378\", 2, 7, 7, 2, 7, 4, 999, 99)\n",
       " Spud(\"m15 j79 b1670\", 4, 5, 5, 7, 1, 5, 999, 100)\n",
       " Spud(\"m2 j122 b2178\", 2, 4, 5, 9, 8, 7, 999, 99)\n",
       " Spud(\"m35 j231 b2178\", 2, 3, 5, 9, 9, 8, 999, 99)\n",
       " Spud(\"m15 j231 b223\", 4, 7, 3, 7, 5, 2, 999, 100)\n",
       " Spud(\"m3 j162 b223\", 4, 7, 4, 6, 6, 1, 999, 99)\n",
       " Spud(\"m39 j231 b1827\", 1, 6, 7, 1, 7, 6, 999, 91)"
      ]
     },
     "execution_count": 224,
     "metadata": {},
     "output_type": "execute_result"
    }
   ],
   "source": [
    "libAf[res_ffp.w1 .> 0.01]"
   ]
  },
  {
   "cell_type": "code",
   "execution_count": 225,
   "id": "0e637b91",
   "metadata": {},
   "outputs": [
    {
     "data": {
      "text/plain": [
       "6-element Vector{Spud}:\n",
       " Spud(\"m213 j111 b404\", 3, 5, 4, 8, 9, 2, 999, 93)\n",
       " Spud(\"m225 j130 b1333\", 6, 5, 3, 4, 1, 5, 999, 87)\n",
       " Spud(\"m225 j237 b268\", 5, 6, 2, 5, 6, 2, 999, 81)\n",
       " Spud(\"m225 j130 b268\", 6, 6, 2, 3, 5, 2, 999, 87)\n",
       " Spud(\"m225 j107 b268\", 5, 6, 2, 5, 7, 1, 999, 99)\n",
       " Spud(\"m225 j191 b1206\", 3, 6, 4, 5, 7, 5, 999, 100)"
      ]
     },
     "execution_count": 225,
     "metadata": {},
     "output_type": "execute_result"
    }
   ],
   "source": [
    "libBf[res_ffp.w2 .> 0.01]"
   ]
  },
  {
   "cell_type": "code",
   "execution_count": 226,
   "id": "7b4e6501",
   "metadata": {},
   "outputs": [],
   "source": [
    "n_deck = 20\n",
    "libsAf = Array{Array{Spud}}(undef, 5)\n",
    "for i in 1:length(libsAf)\n",
    "    basesA = bases1[sortperm([rand() for i in 1:length(bases1)])[1:n_deck]]\n",
    "    jobsA = jobs1[sortperm([rand() for i in 1:length(jobs1)])[1:n_deck]]\n",
    "    modsA = mods_ex[sortperm([rand() for i in 1:length(mods_ex)])[1:n_deck]]\n",
    "    libA = get_bjms(basesA, jobsA, modsA)\n",
    "    libAf = filter_nondominated(get_bjms(basesA, jobsA, modsA))\n",
    "    libsAf[i] = libAf\n",
    "end"
   ]
  },
  {
   "cell_type": "code",
   "execution_count": 227,
   "id": "14170471",
   "metadata": {},
   "outputs": [],
   "source": [
    "n_deck = 20\n",
    "libsBf = Array{Array{Spud}}(undef, 5)\n",
    "for i in 1:length(libsAf)\n",
    "    basesA = bases1[sortperm([rand() for i in 1:length(bases1)])[1:n_deck]]\n",
    "    jobsA = jobs1[sortperm([rand() for i in 1:length(jobs1)])[1:n_deck]]\n",
    "    modsA = mods1[sortperm([rand() for i in 1:length(mods1)])[1:n_deck]]\n",
    "    libA = get_bjms(basesA, jobsA, modsA)\n",
    "    libAf = filter_nondominated(get_bjms(basesA, jobsA, modsA))\n",
    "    libsBf[i] = libAf\n",
    "end"
   ]
  },
  {
   "cell_type": "code",
   "execution_count": 228,
   "id": "9233a3ac",
   "metadata": {},
   "outputs": [],
   "source": [
    "# matchups\n",
    "mus = Array{Float64}(undef, (length(libsAf), length(libsBf)))\n",
    "for i in 1:length(libsAf)\n",
    "    for j in 1:length(libsBf)\n",
    "        mus[i,j] = ffp2(libsAf[i], libsBf[j], 100000).v\n",
    "    end\n",
    "end"
   ]
  },
  {
   "cell_type": "code",
   "execution_count": 229,
   "id": "65918302",
   "metadata": {},
   "outputs": [
    {
     "data": {
      "text/plain": [
       "5-element Vector{Float64}:\n",
       "  0.027980446952291994\n",
       " -0.13453292005443301\n",
       " -0.001246924788759124\n",
       " -0.07746521897857205\n",
       "  0.11725532686882625"
      ]
     },
     "execution_count": 229,
     "metadata": {},
     "output_type": "execute_result"
    }
   ],
   "source": [
    "[mean(m) for m in eachrow(mus)]"
   ]
  },
  {
   "cell_type": "code",
   "execution_count": 230,
   "id": "edd02811",
   "metadata": {},
   "outputs": [
    {
     "data": {
      "text/plain": [
       "5-element Vector{Float64}:\n",
       "  0.10103471405609221\n",
       " -0.022676077229351825\n",
       "  0.016454906919937264\n",
       " -0.03354408758443554\n",
       " -0.12927874616288804"
      ]
     },
     "execution_count": 230,
     "metadata": {},
     "output_type": "execute_result"
    }
   ],
   "source": [
    "[mean(m) for m in eachcol(mus)]"
   ]
  },
  {
   "cell_type": "code",
   "execution_count": 232,
   "id": "4622200a",
   "metadata": {},
   "outputs": [
    {
     "data": {
      "text/plain": [
       "-0.004350391195220595"
      ]
     },
     "execution_count": 232,
     "metadata": {},
     "output_type": "execute_result"
    }
   ],
   "source": [
    "mus[5,5]"
   ]
  },
  {
   "cell_type": "code",
   "execution_count": 233,
   "id": "2f84c254",
   "metadata": {},
   "outputs": [
    {
     "data": {
      "text/plain": [
       "88-element Vector{Spud}:\n",
       " Spud(\"m32 j222 b2266\", 6, 1, 3, 5, 5, 8, 999, 87)\n",
       " Spud(\"m31 j105 b2266\", 6, 2, 3, 5, 5, 7, 999, 93)\n",
       " Spud(\"m32 j105 b2266\", 7, 1, 3, 5, 4, 8, 999, 98)\n",
       " Spud(\"m49 j101 b323\", 5, 6, 3, 3, 7, 2, 999, 93)\n",
       " Spud(\"m49 j222 b323\", 5, 6, 2, 4, 8, 1, 999, 77)\n",
       " Spud(\"m1 j105 b323\", 6, 6, 2, 3, 7, 1, 999, 100)\n",
       " Spud(\"m49 j232 b323\", 5, 7, 3, 2, 8, 1, 999, 96)\n",
       " Spud(\"m43 j223 b323\", 7, 6, 2, 3, 6, 1, 999, 93)\n",
       " Spud(\"m49 j223 b323\", 6, 7, 2, 2, 6, 1, 999, 97)\n",
       " Spud(\"m49 j178 b323\", 5, 6, 4, 3, 6, 1, 999, 100)\n",
       " Spud(\"m15 j222 b1253\", 4, 3, 4, 9, 9, 3, 999, 86)\n",
       " Spud(\"m15 j105 b1253\", 5, 3, 4, 9, 8, 3, 999, 97)\n",
       " Spud(\"m15 j215 b1253\", 4, 4, 4, 9, 7, 4, 999, 96)\n",
       " ⋮\n",
       " Spud(\"m20 j105 b1817\", 9, 2, 1, 9, 7, 5, 999, 95)\n",
       " Spud(\"m11 j105 b1817\", 9, 2, 1, 9, 6, 6, 999, 99)\n",
       " Spud(\"m48 j232 b1817\", 8, 2, 3, 9, 7, 6, 999, 93)\n",
       " Spud(\"m1 j232 b1817\", 8, 3, 2, 8, 7, 5, 999, 88)\n",
       " Spud(\"m20 j223 b1817\", 9, 3, 1, 9, 6, 5, 999, 84)\n",
       " Spud(\"m11 j223 b1817\", 9, 3, 1, 9, 5, 6, 999, 88)\n",
       " Spud(\"m29 j101 b1168\", 4, 1, 8, 7, 7, 4, 999, 92)\n",
       " Spud(\"m50 j101 b1168\", 4, 1, 7, 7, 6, 5, 999, 86)\n",
       " Spud(\"m15 j222 b1168\", 4, 2, 5, 9, 7, 3, 999, 86)\n",
       " Spud(\"m15 j105 b1168\", 5, 2, 5, 9, 6, 3, 999, 97)\n",
       " Spud(\"m29 j80 b1168\", 5, 1, 8, 6, 6, 4, 999, 95)\n",
       " Spud(\"m29 j178 b1168\", 4, 1, 9, 7, 6, 3, 999, 99)"
      ]
     },
     "execution_count": 233,
     "metadata": {},
     "output_type": "execute_result"
    }
   ],
   "source": [
    "libsAf[5]"
   ]
  },
  {
   "cell_type": "code",
   "execution_count": 234,
   "id": "44b99b62",
   "metadata": {},
   "outputs": [
    {
     "data": {
      "text/plain": [
       "146-element Vector{Spud}:\n",
       " Spud(\"m64 j62 b1908\", 2, 2, 7, 6, 9, 8, 999, 97)\n",
       " Spud(\"m64 j223 b1908\", 2, 3, 7, 4, 9, 6, 999, 91)\n",
       " Spud(\"m123 j140 b1908\", 1, 3, 9, 7, 8, 5, 999, 99)\n",
       " Spud(\"m123 j109 b1908\", 2, 3, 7, 7, 9, 5, 999, 97)\n",
       " Spud(\"m112 j140 b1486\", 2, 3, 9, 9, 4, 5, 999, 97)\n",
       " Spud(\"m136 j175 b1486\", 1, 5, 7, 8, 5, 5, 999, 95)\n",
       " Spud(\"m112 j197 b1486\", 2, 3, 8, 9, 5, 5, 999, 96)\n",
       " Spud(\"m123 j124 b1486\", 2, 4, 8, 8, 5, 4, 999, 97)\n",
       " Spud(\"m112 j124 b1486\", 3, 3, 8, 7, 5, 5, 999, 95)\n",
       " Spud(\"m28 j234 b2177\", 3, 2, 8, 8, 8, 6, 999, 95)\n",
       " Spud(\"m123 j234 b2177\", 3, 2, 7, 9, 8, 6, 999, 93)\n",
       " Spud(\"m64 j62 b2177\", 2, 1, 7, 9, 9, 9, 999, 97)\n",
       " Spud(\"m227 j223 b2177\", 2, 3, 7, 8, 8, 6, 999, 97)\n",
       " ⋮\n",
       " Spud(\"m43 j235 b1333\", 7, 4, 3, 5, 2, 5, 999, 98)\n",
       " Spud(\"m123 j140 b1333\", 5, 5, 5, 7, 1, 4, 999, 99)\n",
       " Spud(\"m98 j70 b1333\", 5, 6, 3, 4, 1, 6, 999, 95)\n",
       " Spud(\"m136 j222 b1333\", 5, 5, 3, 6, 3, 5, 999, 90)\n",
       " Spud(\"m43 j239 b1333\", 7, 4, 3, 6, 2, 4, 999, 83)\n",
       " Spud(\"m160 j136 b1333\", 5, 6, 3, 5, 2, 4, 999, 90)\n",
       " Spud(\"m43 j234 b1012\", 7, 3, 5, 7, 2, 3, 999, 100)\n",
       " Spud(\"m123 j140 b1012\", 4, 4, 7, 9, 2, 3, 999, 99)\n",
       " Spud(\"m123 j197 b1012\", 4, 4, 6, 9, 3, 3, 999, 98)\n",
       " Spud(\"m123 j222 b1012\", 4, 4, 5, 9, 4, 3, 999, 86)\n",
       " Spud(\"m55 j109 b1012\", 5, 3, 6, 8, 3, 4, 999, 89)\n",
       " Spud(\"m123 j109 b1012\", 5, 4, 5, 9, 3, 3, 999, 97)"
      ]
     },
     "execution_count": 234,
     "metadata": {},
     "output_type": "execute_result"
    }
   ],
   "source": [
    "libsBf[5]"
   ]
  },
  {
   "cell_type": "code",
   "execution_count": 235,
   "id": "07ac1336",
   "metadata": {},
   "outputs": [],
   "source": [
    "rf = ffp2(libsAf[5], libsBf[5], 100000);"
   ]
  },
  {
   "cell_type": "code",
   "execution_count": 244,
   "id": "ba4c31e1",
   "metadata": {},
   "outputs": [
    {
     "name": "stdout",
     "output_type": "stream",
     "text": [
      "\u001b[1m17×11 DataFrame\u001b[0m\n",
      "\u001b[1m Row \u001b[0m│\u001b[1m name           \u001b[0m\u001b[1m h     \u001b[0m\u001b[1m f     \u001b[0m\u001b[1m l     \u001b[0m\u001b[1m p     \u001b[0m\u001b[1m r     \u001b[0m\u001b[1m s     \u001b[0m\u001b[1m a1    \u001b[0m\u001b[1m cost  \u001b[0m\u001b[1m c0    \u001b[0m\u001b[1m w         \u001b[0m\n",
      "     │\u001b[90m String         \u001b[0m\u001b[90m Int64 \u001b[0m\u001b[90m Int64 \u001b[0m\u001b[90m Int64 \u001b[0m\u001b[90m Int64 \u001b[0m\u001b[90m Int64 \u001b[0m\u001b[90m Int64 \u001b[0m\u001b[90m Int64 \u001b[0m\u001b[90m Int64 \u001b[0m\u001b[90m Int64 \u001b[0m\u001b[90m Float64   \u001b[0m\n",
      "─────┼──────────────────────────────────────────────────────────────────────────────────────────\n",
      "   1 │ m48 j232 b1497      7      2      4      2      7      5    999     93     63  0.143664\n",
      "   2 │ m33 j151 b1431      3      6      5      3      4      7    999     84     76  0.133582\n",
      "   3 │ m43 j223 b1162      7      5      1      6      5      3    999     93     76  0.127698\n",
      "   4 │ m24 j178 b2171      5      1      7      5      8      6    999     93     83  0.121423\n",
      "   5 │ m43 j223 b323       7      6      2      3      6      1    999     93     85  0.110493\n",
      "   6 │ m33 j232 b2419      2      7      3      1      4      9    999     93     73  0.073845\n",
      "   7 │ m32 j105 b2171      6      1      4      6      9      7    999     98     60  0.0523639\n",
      "   8 │ m29 j80 b1168       5      1      8      6      6      4    999     95     80  0.0425026\n",
      "   9 │ m28 j105 b2171      5      2      5      6      9      6    999     99     73  0.0350192\n",
      "  10 │ m33 j223 b1431      4      6      5      3      4      5    999     94     70  0.0336304\n",
      "  11 │ m15 j215 b1253      4      4      4      9      7      4    999     96     63  0.0274359\n",
      "  12 │ m33 j101 b1315      1      9      3      3      3      6    999     90     60  0.0225402\n",
      "  13 │ m33 j232 b1431      3      6      6      3      6      5    999     93     83  0.0182539\n",
      "  14 │ m15 j222 b1162      5      5      1      8      7      3    999     86     73  0.0172948\n",
      "  15 │ m48 j223 b1256      6      3      3      8      7      4    999     94     62  0.0141675\n",
      "  16 │ m15 j105 b1162      6      5      1      8      6      3    999     97     80  0.013618\n",
      "  17 │ m28 j215 b2171      4      3      5      5      8      7    999     98     70  0.01142\n"
     ]
    }
   ],
   "source": [
    "df = spuds_to_df(libsAf[5])\n",
    "df[:, :c0] = [scores[a.h,a.f,a.l,a.p,a.r,a.s] for a in libsAf[5]]\n",
    "df[:, :w] = rf.w1\n",
    "println(df[sortperm(-rf.w1)[1:sum(rf.w1 .> .01)],:])"
   ]
  },
  {
   "cell_type": "code",
   "execution_count": 245,
   "id": "7bb82d52",
   "metadata": {},
   "outputs": [
    {
     "name": "stdout",
     "output_type": "stream",
     "text": [
      "\u001b[1m17×11 DataFrame\u001b[0m\n",
      "\u001b[1m Row \u001b[0m│\u001b[1m name            \u001b[0m\u001b[1m h     \u001b[0m\u001b[1m f     \u001b[0m\u001b[1m l     \u001b[0m\u001b[1m p     \u001b[0m\u001b[1m r     \u001b[0m\u001b[1m s     \u001b[0m\u001b[1m a1    \u001b[0m\u001b[1m cost  \u001b[0m\u001b[1m c0    \u001b[0m\u001b[1m w         \u001b[0m\n",
      "     │\u001b[90m String          \u001b[0m\u001b[90m Int64 \u001b[0m\u001b[90m Int64 \u001b[0m\u001b[90m Int64 \u001b[0m\u001b[90m Int64 \u001b[0m\u001b[90m Int64 \u001b[0m\u001b[90m Int64 \u001b[0m\u001b[90m Int64 \u001b[0m\u001b[90m Int64 \u001b[0m\u001b[90m Int64 \u001b[0m\u001b[90m Float64   \u001b[0m\n",
      "─────┼───────────────────────────────────────────────────────────────────────────────────────────\n",
      "   1 │ m43 j234 b1012       7      3      5      7      2      3    999    100     81  0.17818\n",
      "   2 │ m160 j223 b1333      6      6      3      4      1      4    999     97     83  0.168454\n",
      "   3 │ m160 j223 b1206      4      6      4      5      6      3    999     97     69  0.114872\n",
      "   4 │ m123 j197 b1206      3      5      5      8      7      3    999     98     77  0.0817407\n",
      "   5 │ m160 j223 b1735      4      6      5      4      3      5    999     97     71  0.069189\n",
      "   6 │ m160 j136 b1509      3      6      3      6      6      4    999     90     78  0.0552993\n",
      "   7 │ m136 j175 b1058      1      7      7      6      4      4    999     95     68  0.0544705\n",
      "   8 │ m136 j239 b1206      4      5      4      6      7      4    999    100     71  0.0478202\n",
      "   9 │ m229 j70 b2177       1      4      7      8      8      8    999    100     86  0.0432269\n",
      "  10 │ m228 j94 b2643       3      3      6      4      4      9    999     83     55  0.0340303\n",
      "  11 │ m43 j223 b1333       7      5      3      5      1      4    999     93     82  0.0285883\n",
      "  12 │ m43 j234 b1333       8      4      3      5      1      4    999    100     75  0.0240948\n",
      "  13 │ m55 j140 b2046       7      1      4      9      3      7    999     91     67  0.021948\n",
      "  14 │ m160 j223 b1391      3      7      5      5      2      4    999     97     56  0.0199309\n",
      "  15 │ m112 j124 b1486      3      3      8      7      5      5    999     95     60  0.0161464\n",
      "  16 │ m123 j140 b1206      3      5      6      8      6      3    999     99     78  0.0160765\n",
      "  17 │ m55 j223 b1253       5      3      5      7      7      4    999     98     69  0.0135203\n"
     ]
    }
   ],
   "source": [
    "df = spuds_to_df(libsBf[5])\n",
    "df[:, :c0] = [scores[a.h,a.f,a.l,a.p,a.r,a.s] for a in libsBf[5]]\n",
    "df[:, :w] = rf.w2\n",
    "println(df[sortperm(-rf.w2)[1:sum(rf.w2 .> .01)],:])"
   ]
  },
  {
   "cell_type": "markdown",
   "id": "fe035966",
   "metadata": {},
   "source": [
    "#### Optimize slackness"
   ]
  },
  {
   "cell_type": "code",
   "execution_count": 246,
   "id": "fc2638a6",
   "metadata": {},
   "outputs": [
    {
     "data": {
      "text/plain": [
       "generate_parts_targeted (generic function with 1 method)"
      ]
     },
     "execution_count": 246,
     "metadata": {},
     "output_type": "execute_result"
    }
   ],
   "source": [
    "function generate_parts_targeted(mvs,bases,best_cost,scores,target_cost,dist_thres,n_reqs,slack,n_parts)\n",
    "    bases1 = Array{SpudBase}(undef, 10000)\n",
    "    jobs1 = Array{SpudMod}(undef, 10000)\n",
    "    mods1 = Array{SpudMod}(undef, 10000)\n",
    "    b_i = 0\n",
    "    j_i = 0\n",
    "    m_i = 0\n",
    "    inits = get_inits(best_cost);\n",
    "    targets = get_targets(scores, target_cost);\n",
    "    while b_i < n_parts\n",
    "        targ = rand(targets)\n",
    "        #println(targ)\n",
    "        mr = find_mods_for_target(scores, inits, targ, dist_thres, n_reqs, slack)\n",
    "        if length(mr[\"cands\"]) > 0\n",
    "            ind = sortperm([c.cost for c in mr[\"cands\"]])[1]\n",
    "            cand = mr[\"cands\"][ind]\n",
    "            m_i += 1\n",
    "            mods1[m_i] = mr[\"mods\"][ind]\n",
    "            #println(mods1[m_i])\n",
    "            # find base and job for cand\n",
    "            rjb = find_jobs_and_bases_for_target(mvs, bases, cand)\n",
    "            if length(rjb[\"jobs\"]) > 0\n",
    "                ind = sortperm(-rjb[\"n_viable\"])[1]\n",
    "                job = rjb[\"jobs\"][ind]\n",
    "                b = rjb[\"cands\"][ind]\n",
    "                b_i += 1\n",
    "                bases1[b_i] = b\n",
    "                j_i += 1\n",
    "                jobs1[j_i] = job\n",
    "                #println(job)\n",
    "                #println(b)\n",
    "            end\n",
    "        end\n",
    "    end\n",
    "    jobs1 = unique(jobs1[1:j_i])\n",
    "    mods1 = unique(mods1[1:j_i])\n",
    "    bases1 = bases1[1:j_i]\n",
    "    jobs1 = [rename_job(jobs1[i], string(\"j\", i)) for i in 1:length(jobs1)]\n",
    "    mods1 = [rename_job(mods1[i], string(\"m\", i)) for i in 1:length(mods1)];\n",
    "    return Dict(\"bases\"=>bases1, \"jobs\"=>jobs1, \"mods\"=>mods1)\n",
    "end\n",
    "\n"
   ]
  },
  {
   "cell_type": "code",
   "execution_count": null,
   "id": "1081044e",
   "metadata": {},
   "outputs": [],
   "source": [
    "vs = Array{Float64}(undef, 10);\n",
    "results = Array{Dict}(undef, length(vs));\n",
    "for i in 1:length(vs)\n",
    "    partsA = generate_parts_targeted(mvs,bases,best_cost,scores,70,2,2,1, 10);\n",
    "    libAf = filter_nondominated_recursive(get_bjms(partsA[\"bases\"], partsA[\"jobs\"], partsA[\"mods\"]));\n",
    "    partsB = generate_parts_targeted(mvs,bases,best_cost,scores,70,2,2,2, 10);\n",
    "    libBf = filter_nondominated_recursive(get_bjms(partsB[\"bases\"], partsB[\"jobs\"], partsB[\"mods\"]));\n",
    "    rf = ffp2(libAf, libBf, 100000);\n",
    "    vs[i] = rf.v;\n",
    "    results[i] = Dict(\"partsA\" => partsA, \"partsB\" => partsB, \"libAf\" => libAf, \"libBf\" => libBf, \"rf\" => rf)\n",
    "end"
   ]
  },
  {
   "cell_type": "code",
   "execution_count": null,
   "id": "c1ca0a72",
   "metadata": {},
   "outputs": [],
   "source": []
  }
 ],
 "metadata": {
  "kernelspec": {
   "display_name": "Julia 1.9.3",
   "language": "julia",
   "name": "julia-1.9"
  },
  "language_info": {
   "file_extension": ".jl",
   "mimetype": "application/julia",
   "name": "julia",
   "version": "1.9.3"
  }
 },
 "nbformat": 4,
 "nbformat_minor": 5
}

{
 "cells": [
  {
   "cell_type": "markdown",
   "id": "052be005",
   "metadata": {},
   "source": [
    "Adding single abilities to Spuds"
   ]
  },
  {
   "cell_type": "code",
   "execution_count": 1,
   "id": "494818e8",
   "metadata": {},
   "outputs": [],
   "source": [
    "using Random\n",
    "using DataFrames\n",
    "using CSV\n",
    "using DelimitedFiles\n",
    "using Statistics\n",
    "using Printf\n",
    "using LinearAlgebra\n",
    "using Dates"
   ]
  },
  {
   "cell_type": "code",
   "execution_count": 2,
   "id": "1e1008a1",
   "metadata": {},
   "outputs": [
    {
     "data": {
      "text/plain": [
       "c_forcedability (generic function with 1 method)"
      ]
     },
     "execution_count": 2,
     "metadata": {},
     "output_type": "execute_result"
    }
   ],
   "source": [
    "struct Spud\n",
    "    name::String\n",
    "    h::Int64\n",
    "    f::Int64\n",
    "    l::Int64\n",
    "    p::Int64\n",
    "    r::Int64\n",
    "    s::Int64\n",
    "    a1::Int64\n",
    "end\n",
    "\n",
    "\n",
    "const idx_your_h = 1\n",
    "const idx_your_f = 2\n",
    "const idx_your_l = 3\n",
    "const idx_your_p = 4\n",
    "const idx_your_r = 5\n",
    "const idx_your_s = 6\n",
    "const idx_opp_h = 7\n",
    "const idx_opp_f = 8\n",
    "const idx_opp_l = 9\n",
    "const idx_opp_p = 10\n",
    "const idx_opp_r = 11\n",
    "const idx_opp_s = 12\n",
    "\n",
    "const ab_cond_min = 1\n",
    "const ab_cond_max = 2\n",
    "const ab_cond_number_min_opp = 3 # number of min stats for opponent is greater than\n",
    "const ab_cond_number_max_opp = 4 # number of max stats for opponent is greater than\n",
    "const ab_cond_diff_min = 5 # difference between stat1 and stat2 is at least \n",
    "const ab_cond_ratio_min = 6 # ratio of stat1 and stat2 at least\n",
    "\n",
    "const ab_fx_modstat = 1 # modify stat1\n",
    "const ab_fx_copystat = 2 # copy value of stat2 to stat1\n",
    "const ab_fx_swapstat = 3 # switch values of stat2 and stat2\n",
    "\n",
    "# r_h required h\n",
    "# m_h static h modifier\n",
    "struct ForcedAbility\n",
    "    r_h::Int64\n",
    "    r_f::Int64\n",
    "    r_l::Int64\n",
    "    r_p::Int64\n",
    "    r_r::Int64\n",
    "    r_s::Int64\n",
    "    m_h::Int64\n",
    "    m_f::Int64\n",
    "    m_l::Int64\n",
    "    m_p::Int64\n",
    "    m_r::Int64\n",
    "    m_s::Int64\n",
    "    cond_type::Int64\n",
    "    cond_statidx1::Int64\n",
    "    cond_statidx2::Int64\n",
    "    cond_thres1::Int64\n",
    "    cond_thres2::Int64\n",
    "    fx_type::Int64\n",
    "    fx_statidx1::Int64\n",
    "    fx_statidx2::Int64\n",
    "    fx_mult::Int64\n",
    "    fx_add::Int64\n",
    "end\n",
    "\n",
    "function c_forcedability(\n",
    "        ; r_h::Int64 = 0, \n",
    "        r_f::Int64 = 0,\n",
    "        r_l::Int64 = 0,\n",
    "        r_p::Int64 = 0,\n",
    "        r_r::Int64 = 0,\n",
    "        r_s::Int64 = 0,\n",
    "        m_h::Int64 = 0, \n",
    "        m_f::Int64 = 0,\n",
    "        m_l::Int64 = 0,\n",
    "        m_p::Int64 = 0,\n",
    "        m_r::Int64 = 0,\n",
    "        m_s::Int64 = 0,\n",
    "        cond_type::Int64 = 0,\n",
    "        cond_statidx1::Int64 = 0,\n",
    "        cond_statidx2::Int64 = 0,\n",
    "        cond_thres1::Int64 = 0,\n",
    "        cond_thres2::Int64 = 0,\n",
    "        fx_type::Int64 = 0,\n",
    "        fx_statidx1::Int64 = 0,\n",
    "        fx_statidx2::Int64 = 0,\n",
    "        fx_mult::Int64 = 1,\n",
    "        fx_add::Int64 = 0,        \n",
    "    )\n",
    "    return ForcedAbility(\n",
    "        r_h, r_f, r_l, r_p, r_r, r_s, \n",
    "        m_h, m_f, m_l, m_p, m_r, m_s, \n",
    "        cond_type, cond_statidx1, cond_statidx2, cond_thres1, cond_thres2,\n",
    "        fx_type, fx_statidx1, fx_statidx2, fx_mult, fx_add\n",
    "    )\n",
    "end\n",
    "\n"
   ]
  },
  {
   "cell_type": "code",
   "execution_count": 3,
   "id": "eef1262d",
   "metadata": {},
   "outputs": [
    {
     "data": {
      "text/plain": [
       "Dict{Int64, ForcedAbility} with 1 entry:\n",
       "  10 => ForcedAbility(6, 0, 0, 0, 0, 0, -5, 0, 0, 0, 0, 0, 5, 7, 1, 0, 0, 2, 1,…"
      ]
     },
     "execution_count": 3,
     "metadata": {},
     "output_type": "execute_result"
    }
   ],
   "source": [
    "const ability_none = 999\n",
    "const ability_imitative = 10\n",
    "const ability_reciprocating = 20\n",
    "const ability_romantic = 30\n",
    "const ability_bibliophile = 40\n",
    "const ability_melodious = 50\n",
    "#const ability_poetic = 60\n",
    "#const ability_acrobatic = 70\n",
    "#const ability_critical = 80\n",
    "const ability_iconoclast = 90\n",
    "const ability_intoxicating = 100\n",
    "const ability_otaku = 110\n",
    "const ability_sincere = 120\n",
    "const ability_cowardly = 130\n",
    "const ability_reckless = 140\n",
    "const ability_taunting = 150\n",
    "const ability_envious = 160\n",
    "\n",
    "\n",
    "\n",
    "\n",
    "\n",
    "ability_name = Dict(\n",
    "    ability_imitative => \"Imitative*\",\n",
    "    ability_reciprocating => \"Reciprocating*\",\n",
    "    ability_romantic => \"Romantic*\",\n",
    "    ability_bibliophile => \"Bibliophile*\",\n",
    "    ability_melodious => \"Melodious*\",\n",
    "    #ability_poetic => \"Poetic*\",\n",
    "    #ability_acrobatic => \"Acrobatic*\",\n",
    "    #ability_critical => \"Critical*\",\n",
    "    ability_iconoclast => \"Iconoclast*\",\n",
    "    ability_intoxicating => \"Intoxicating*\",\n",
    "    ability_otaku => \"Otaku*\",\n",
    "    ability_sincere => \"Sincere*\",\n",
    "    ability_cowardly => \"Cowardly*\",\n",
    "    ability_taunting => \"Taunting*\",\n",
    "    ability_envious => \"Envious*\",\n",
    ")\n",
    "\n",
    "d_ability_imitative = c_forcedability(\n",
    "    r_h = 6, m_h = -5, \n",
    "    cond_type = ab_cond_diff_min, cond_statidx1 = idx_opp_h, cond_statidx2 = idx_your_h, cond_thres1 = 0, \n",
    "    fx_type = ab_fx_copystat, fx_statidx1 = idx_your_h, fx_statidx2 = idx_opp_h\n",
    ")\n",
    "\n",
    "ability_data = Dict(\n",
    "    ability_imitative => d_ability_imitative,\n",
    ")"
   ]
  },
  {
   "cell_type": "code",
   "execution_count": 4,
   "id": "950e076e",
   "metadata": {},
   "outputs": [
    {
     "data": {
      "text/plain": [
       "cost (generic function with 2 methods)"
      ]
     },
     "execution_count": 4,
     "metadata": {},
     "output_type": "execute_result"
    }
   ],
   "source": [
    "const MXS = 100\n",
    "const MXV = 10\n",
    "const MNV = 1\n",
    "\n",
    "function cost(h::Int64, f::Int64, l::Int64, p::Int64, r::Int64, s::Int64)::Int64\n",
    "    #return h*(f+l-2*MNV) + f*(p+r+s-3*MNV) + h+f+l+p+r+s-6*MNV\n",
    "    return h*(f+l) + f*(p+r+s)\n",
    "end\n",
    "\n",
    "function cost(a::Spud)::Int64\n",
    "    return cost(a.h, a.f, a.l, a.p, a.r, a.s)\n",
    "end"
   ]
  },
  {
   "cell_type": "code",
   "execution_count": 5,
   "id": "ac830f74",
   "metadata": {},
   "outputs": [
    {
     "data": {
      "text/plain": [
       "eval_melee (generic function with 3 methods)"
      ]
     },
     "execution_count": 5,
     "metadata": {},
     "output_type": "execute_result"
    }
   ],
   "source": [
    "function compare_int_list(as::Vector{Int64}, bs::Vector{Int64}, tiebreaker::Int64 = 0)::Int64\n",
    "    n = min(length(as), length(bs))\n",
    "    for i in 1:n\n",
    "        if as[i] != bs[i]\n",
    "            return sign(as[i] - bs[i])\n",
    "        end\n",
    "    end\n",
    "    return tiebreaker\n",
    "end\n",
    "\n",
    "function spud_h_seq(a::Spud)::Vector{Int64}\n",
    "    return [a.h, a.s, a.r, a.p, a.l, a.f]\n",
    "end\n",
    "\n",
    "function spud_f_seq(a::Spud)::Vector{Int64}\n",
    "    return [a.f, a.s, a.r, a.p, a.l, a.h]\n",
    "end\n",
    "\n",
    "function spud_l_seq(a::Spud)::Vector{Int64}\n",
    "    return [a.l]\n",
    "end\n",
    "\n",
    "function spud_p_seq(a::Spud)::Vector{Int64}\n",
    "    return [a.p, a.l]\n",
    "end\n",
    "\n",
    "function spud_r_seq(a::Spud)::Vector{Int64}\n",
    "    return [a.r, a.f]\n",
    "end\n",
    "\n",
    "function spud_s_seq(a::Spud)::Vector{Int64}\n",
    "    return [a.s, a.h]\n",
    "end\n",
    "\n",
    "function spud_utb_seq(a::Spud)::Vector{Int64}\n",
    "    return [a.a1, a.h, a.f, a.l, a.p, a.r, a.s]\n",
    "end\n",
    "\n",
    "function eval_finds(a::Spud, b::Spud, tiebreaker::Int64 = 0)::Int64\n",
    "    ev = compare_int_list(spud_f_seq(a), spud_h_seq(b), tiebreaker)\n",
    "    ans = ev\n",
    "end\n",
    "\n",
    "function eval_melee(a::Spud, b::Spud, tiebreaker1::Int64 = 0, tiebreaker2::Int64 = 0)::Int64\n",
    "    comp_p = compare_int_list(spud_p_seq(a), spud_p_seq(b), tiebreaker1)\n",
    "    comp_r = compare_int_list(spud_r_seq(a), spud_r_seq(b), tiebreaker1)\n",
    "    comp_s = compare_int_list(spud_s_seq(a), spud_s_seq(b), tiebreaker1)\n",
    "    ev = 4 * comp_p + 3 * comp_r + 2 * comp_s\n",
    "    return sign(ev + (1-abs(ev))*tiebreaker2)\n",
    "end\n",
    "\n"
   ]
  },
  {
   "cell_type": "code",
   "execution_count": 6,
   "id": "f603612d",
   "metadata": {},
   "outputs": [
    {
     "data": {
      "text/plain": [
       "eval_battle (generic function with 1 method)"
      ]
     },
     "execution_count": 6,
     "metadata": {},
     "output_type": "execute_result"
    }
   ],
   "source": [
    "# const idx_your_h = 1\n",
    "# const idx_your_f = 2\n",
    "# const idx_your_l = 3\n",
    "# const idx_your_p = 4\n",
    "# const idx_your_r = 5\n",
    "# const idx_your_s = 6\n",
    "# const idx_opp_h = 7\n",
    "# const idx_opp_f = 8\n",
    "# const idx_opp_l = 9\n",
    "# const idx_opp_p = 10\n",
    "# const idx_opp_r = 11\n",
    "# const idx_opp_s = 12\n",
    "\n",
    "# const ab_cond_min = 1\n",
    "# const ab_cond_max = 2\n",
    "# const ab_cond_number_min_opp = 3 # number of min stats for opponent is greater than\n",
    "# const ab_cond_number_max_opp = 4 # number of max stats for opponent is greater than\n",
    "# const ab_cond_diff_min = 5 # difference between stat1 and stat2 is at least \n",
    "# const ab_cond_ratio_min = 6 # ratio of stat1 and stat2 at least\n",
    "\n",
    "# const ab_fx_modstat = 1 # modify stat1\n",
    "# const ab_fx_copystat = 2 # copy value of stat2 to stat1\n",
    "# const ab_fx_swapstat = 3 # switch values of stat2 and stat2\n",
    "\n",
    "\n",
    "# ForcedAbility(\n",
    "#         r_h, r_f, r_l, r_p, r_r, r_s, \n",
    "#         m_h, m_f, m_l, m_p, m_r, m_s, \n",
    "#         cond_type, cond_statidx1, cond_statidx2, cond_thres1, cond_thres2,\n",
    "#         fx_type, fx_statidx1, fx_statidx2, fx_mult, fx_add\n",
    "#     )\n",
    "\n",
    "function apply_ability_static(a::Spud)::Spud\n",
    "    ab = ability_data[a.a1]\n",
    "    return Spud(\n",
    "        a.name, \n",
    "        a.h + ab.m_h, a.f + ab.m_f, a.l + ab.m_l, \n",
    "        a.p + ab.m_p, a.r + ab.m_r, a.s + ab.m_s, a.a1)\n",
    "end\n",
    "\n",
    "function get_stat_value(a::Spud, b::Spud, statidx::Int64)::Int64\n",
    "    svs = [a.h, a.f, a.l, a.p, a.r, a.s, b.h, b.f, b.l, b.p, b.r, b.s]\n",
    "    return svs[statidx]\n",
    "end\n",
    "\n",
    "\n",
    "function set_stat_value0(a::Spud, statidx::Int64, val::Int64)::Spud\n",
    "    if statidx == 1\n",
    "        return Spud(a.name, val, a.f, a.l, a.p, a.r, a.s, a.a1)\n",
    "    end\n",
    "    if statidx == 2\n",
    "        return Spud(a.name, a.h, val, a.l, a.p, a.r, a.s, a.a1)\n",
    "    end\n",
    "    if statidx == 3\n",
    "        return Spud(a.name, a.h, a.f, val, a.p, a.r, a.s, a.a1)\n",
    "    end\n",
    "    if statidx == 4\n",
    "        return Spud(a.name, a.h, a.f, a.l, val, a.r, a.s, a.a1)\n",
    "    end\n",
    "    if statidx == 5\n",
    "        return Spud(a.name, a.h, a.f, a.l, a.p, val, a.s, a.a1)\n",
    "    end\n",
    "    if statidx == 6\n",
    "        return Spud(a.name, a.h, a.f, a.l, a.p, a.r, val, a.a1)\n",
    "    end\n",
    "end\n",
    "\n",
    "\n",
    "function set_stat_value(a::Spud, b::Spud, statidx::Int64, val::Int64)::Array{Spud}\n",
    "    if statidx <= 6\n",
    "        a = set_stat_value0(a, statidx, val)\n",
    "    end\n",
    "    if statidx >= 6\n",
    "        b = set_stat_value0(b, statidx - 6, val)\n",
    "    end\n",
    "    return [a,b]\n",
    "end\n",
    "\n",
    "\n",
    "function apply_ability(a::Spud, b::Spud)::Array{Spud}\n",
    "    ab = ability_data[a.a1]\n",
    "    if a.a1 == ability_none\n",
    "        return [a, b]\n",
    "    end\n",
    "    # check condition\n",
    "    cond_pass = false\n",
    "    if ab.cond_type == ab_cond_min\n",
    "        cond_pass = (get_stat_value(a, b, ab.cond_statidx1) >= ab.cond_thres1)\n",
    "    end\n",
    "    if ab.cond_type == ab_cond_max\n",
    "        cond_pass = (get_stat_value(a, b, ab.cond_statidx1) <= ab.cond_thres1)\n",
    "    end\n",
    "    if ab.cond_type == ab_cond_number_min_opp\n",
    "        cond_pass = (sum([b.h, b.f, b.l, b.p, b.r, b.s] .>= ab.cond_thres1) >= ab.cond_thres2)\n",
    "    end\n",
    "    if ab.cond_type == ab_cond_number_max_opp\n",
    "        cond_pass = (sum([b.h, b.f, b.l, b.p, b.r, b.s] .<= ab.cond_thres1) >= ab.cond_thres2)\n",
    "    end\n",
    "    if ab.cond_type == ab_cond_diff_min\n",
    "        cond_pass = (get_stat_value(a, b, ab.cond_statidx1) - get_stat_value(a, b, ab.cond_statidx2) >= ab.cond_thres1)\n",
    "    end\n",
    "    if ab.cond_type == ab_cond_ratio_min\n",
    "        cond_pass = (get_stat_value(a, b, ab.cond_statidx1) >= get_stat_value(a, b, ab.cond_statidx2) * ab.cond_thres1)\n",
    "    end\n",
    "    if cond_pass\n",
    "        if ab.fx_type == ab_fx_modstat\n",
    "            res = set_stat_value(a, b, ab.fx_statidx1, get_stat_value(a, b, ab.fx_statidx1) * ab.fx_mult + ab.fx_add)\n",
    "        end\n",
    "        if ab.fx_type == ab_fx_copystat\n",
    "            res = set_stat_value(a, b, ab.fx_statidx1, get_stat_value(a, b, ab.fx_statidx2))\n",
    "        end\n",
    "        if ab.fx_type == ab_fx_swapstat\n",
    "            temp = get_stat_value(a, b, ab.fx_statidx1)\n",
    "            res = set_stat_value(a, b, ab.fx_statidx1, get_stat_value(a, b, ab.fx_statidx2))\n",
    "            res = set_stat_value(a, b, ab.fx_statidx2, temp)\n",
    "        end\n",
    "        return res\n",
    "    else\n",
    "        return [a,b]\n",
    "    end\n",
    "end\n",
    "\n",
    "\n",
    "function eval_battle(a::Spud, b::Spud)::Int64\n",
    "    utb = compare_int_list(spud_utb_seq(a), spud_utb_seq(b), 0) # universal tiebreaker\n",
    "    if utb == 0\n",
    "        return 0\n",
    "    end\n",
    "    if a.a1 != ability_none\n",
    "        a = apply_ability_static(a)\n",
    "    end\n",
    "    if b.a1 != ability_none\n",
    "        b = apply_ability_static(b)\n",
    "    end\n",
    "    a_ability_first = compare_int_list([a.a1, a.s], [b.a1, b.s], utb)\n",
    "    if a_ability_first ==1\n",
    "        if a.a1 != ability_none\n",
    "            res = apply_ability(a, b)\n",
    "            a = res[1]\n",
    "            b = res[2]\n",
    "        end\n",
    "        if b.a1 != ability_none\n",
    "            res = apply_ability(b, a)\n",
    "            b = res[1]\n",
    "            a = res[2]\n",
    "        end\n",
    "    end\n",
    "    if a_ability_first == -1\n",
    "        if b.a1 != ability_none\n",
    "            res = apply_ability(b, a)\n",
    "            b = res[1]\n",
    "            a = res[2]\n",
    "        end\n",
    "        if a.a1 != ability_none\n",
    "            res = apply_ability(a, b)\n",
    "            a = res[1]\n",
    "            b = res[2]\n",
    "        end\n",
    "    end\n",
    "    #println(a)\n",
    "    #println(b)\n",
    "    a_finds = eval_finds(a, b, utb)==1\n",
    "    b_finds = eval_finds(b, a, utb)==1\n",
    "    melee_win = eval_melee(a, b, 0, utb)\n",
    "    if a_finds && b_finds\n",
    "        return melee_win\n",
    "    end\n",
    "    if a_finds && !b_finds\n",
    "        return 1\n",
    "    end\n",
    "    if !a_finds && b_finds\n",
    "        return -1\n",
    "    end\n",
    "    if !a_finds && !b_finds\n",
    "        return compare_int_list([a.l, melee_win], [b.l, -melee_win], 0)\n",
    "    end\n",
    "end"
   ]
  },
  {
   "cell_type": "code",
   "execution_count": 7,
   "id": "d0e4bc47",
   "metadata": {},
   "outputs": [
    {
     "data": {
      "text/plain": [
       "meet_ability_req (generic function with 2 methods)"
      ]
     },
     "execution_count": 7,
     "metadata": {},
     "output_type": "execute_result"
    }
   ],
   "source": [
    "function meet_ability_req(ff::Spud, ab::ForcedAbility)::Bool\n",
    "    return (ff.h >= ab.r_h) && (ff.f >= ab.r_f) && (ff.l >= ab.r_l) && (ff.p >= ab.r_p) && (ff.r >= ab.r_r) && (ff.s >= ab.r_s)\n",
    "end\n",
    "\n",
    "function meet_ability_req(ff::Spud, ab::Int64)::Bool\n",
    "    return meet_ability_req(ff, ability_data[ab])\n",
    "end"
   ]
  },
  {
   "cell_type": "code",
   "execution_count": 8,
   "id": "f94b631c",
   "metadata": {},
   "outputs": [
    {
     "data": {
      "text/plain": [
       "Spud(\"ab_im\", 6, 3, 3, 1, 1, 1, 999)"
      ]
     },
     "execution_count": 8,
     "metadata": {},
     "output_type": "execute_result"
    }
   ],
   "source": [
    "b = Spud(\"tester\", 4, 3, 2, 3, 3, 3, ability_none)\n",
    "a = Spud(\"ab_im\", 2, 3, 3, 1, 1, 1, ability_imitative)\n",
    "a0 = Spud(\"ab_im\", 2, 3, 3, 1, 1, 1, ability_none)\n",
    "a1 = Spud(\"ab_im\", 6, 3, 3, 1, 1, 1, ability_none)\n"
   ]
  },
  {
   "cell_type": "code",
   "execution_count": 9,
   "id": "cae377d0",
   "metadata": {},
   "outputs": [
    {
     "data": {
      "text/plain": [
       "Spud(\"ab_im\", -3, 3, 3, 1, 1, 1, 10)"
      ]
     },
     "execution_count": 9,
     "metadata": {},
     "output_type": "execute_result"
    }
   ],
   "source": [
    "apply_ability_static(a)"
   ]
  },
  {
   "cell_type": "code",
   "execution_count": 10,
   "id": "0d9090cb",
   "metadata": {},
   "outputs": [
    {
     "data": {
      "text/plain": [
       "2-element Vector{Spud}:\n",
       " Spud(\"ab_im\", 4, 3, 3, 1, 1, 1, 10)\n",
       " Spud(\"tester\", 4, 3, 2, 3, 3, 3, 999)"
      ]
     },
     "execution_count": 10,
     "metadata": {},
     "output_type": "execute_result"
    }
   ],
   "source": [
    "res = apply_ability(a, b)"
   ]
  },
  {
   "cell_type": "code",
   "execution_count": 11,
   "id": "89bbc591",
   "metadata": {},
   "outputs": [
    {
     "data": {
      "text/plain": [
       "-1"
      ]
     },
     "execution_count": 11,
     "metadata": {},
     "output_type": "execute_result"
    }
   ],
   "source": [
    "eval_battle(a0, b)"
   ]
  },
  {
   "cell_type": "code",
   "execution_count": 12,
   "id": "be3bb649",
   "metadata": {},
   "outputs": [
    {
     "data": {
      "text/plain": [
       "1"
      ]
     },
     "execution_count": 12,
     "metadata": {},
     "output_type": "execute_result"
    }
   ],
   "source": [
    "eval_battle(a1, b)"
   ]
  },
  {
   "cell_type": "code",
   "execution_count": 13,
   "id": "2a886735",
   "metadata": {},
   "outputs": [
    {
     "data": {
      "text/plain": [
       "1"
      ]
     },
     "execution_count": 13,
     "metadata": {},
     "output_type": "execute_result"
    }
   ],
   "source": [
    "eval_battle(a, b)"
   ]
  },
  {
   "cell_type": "code",
   "execution_count": null,
   "id": "4bceeb56",
   "metadata": {},
   "outputs": [],
   "source": []
  },
  {
   "cell_type": "code",
   "execution_count": 14,
   "id": "40b9dc47",
   "metadata": {},
   "outputs": [
    {
     "data": {
      "text/plain": [
       "random_name_and_stat (generic function with 2 methods)"
      ]
     },
     "execution_count": 14,
     "metadata": {},
     "output_type": "execute_result"
    }
   ],
   "source": [
    "tab = CSV.read(\"census_yob2022_names.txt\", DataFrame, header = false)\n",
    "names = tab.Column1\n",
    "adjectives = CSV.read(\"adjectives.csv\", DataFrame)\n",
    "nouns = CSV.read(\"nouns.csv\", DataFrame)\n",
    "jobs = CSV.read(\"jobs.csv\", DataFrame)\n",
    "\n",
    "\n",
    "const mult_noun = 1\n",
    "const mult_adj = 2\n",
    "const mult_job = 3\n",
    "\n",
    "\n",
    "function random_name_and_stat(ability::Int64 = ability_none)::Spud\n",
    "    vp = [0, 0, 0, 0, 0, 0]\n",
    "    #nametype = rand([1,1,1,1,1,2,2,2,3])\n",
    "    name = \"\"\n",
    "    noun = \"\"\n",
    "    adj = \"\"\n",
    "    noun_i = rand(1:nrow(nouns))\n",
    "    noun = nouns[noun_i, :noun]\n",
    "    vp[1] = vp[1] + nouns[noun_i, :H] * mult_noun\n",
    "    vp[2] = vp[2] + nouns[noun_i, :F] * mult_noun\n",
    "    vp[3] = vp[3] + nouns[noun_i, :L] * mult_noun\n",
    "    vp[4] = vp[4] + nouns[noun_i, :P] * mult_noun\n",
    "    vp[5] = vp[5] + nouns[noun_i, :R] * mult_noun\n",
    "    vp[6] = vp[6] + nouns[noun_i, :S] * mult_noun\n",
    "    adj_i = rand(1:nrow(adjectives))\n",
    "    if ability == ability_none\n",
    "        adj = adjectives[adj_i, :adjective]\n",
    "        vp[1] = vp[1] + adjectives[adj_i, :H] * mult_adj\n",
    "        vp[2] = vp[2] + adjectives[adj_i, :F] * mult_adj\n",
    "        vp[3] = vp[3] + adjectives[adj_i, :L] * mult_adj\n",
    "        vp[4] = vp[4] + adjectives[adj_i, :P] * mult_adj\n",
    "        vp[5] = vp[5] + adjectives[adj_i, :R] * mult_adj\n",
    "        vp[6] = vp[6] + adjectives[adj_i, :S] * mult_adj\n",
    "    else\n",
    "        adj = ability_name[ability]\n",
    "    end\n",
    "    job_i = rand(1:nrow(jobs))\n",
    "    job = jobs[job_i, :job]\n",
    "    vp[1] = vp[1] + jobs[job_i, :H] * mult_job\n",
    "    vp[2] = vp[2] + jobs[job_i, :F] * mult_job\n",
    "    vp[3] = vp[3] + jobs[job_i, :L] * mult_job\n",
    "    vp[4] = vp[4] + jobs[job_i, :P] * mult_job\n",
    "    vp[5] = vp[5] + jobs[job_i, :R] * mult_job\n",
    "    vp[6] = vp[6] + jobs[job_i, :S] * mult_job\n",
    "    name = string(adj, \" \", job, \" \", noun)\n",
    "    Spud(name, vp[1], vp[2], vp[3], vp[4], vp[5], vp[6], ability_none)\n",
    "end"
   ]
  },
  {
   "cell_type": "code",
   "execution_count": 15,
   "id": "f606e085",
   "metadata": {},
   "outputs": [
    {
     "data": {
      "text/plain": [
       "rand_rename (generic function with 2 methods)"
      ]
     },
     "execution_count": 15,
     "metadata": {},
     "output_type": "execute_result"
    }
   ],
   "source": [
    "function rand_rename(a::Spud, n_tries::Int = 100)::Spud\n",
    "    best_score = 0.0\n",
    "    best_b = random_name_and_stat(a.a1)\n",
    "    for ii in 1:n_tries\n",
    "        b = random_name_and_stat(a.a1)\n",
    "        b_norm = sqrt(b.h^2 + b.f^2 + b.l^2 + b.p^2 + b.r^2 + b.s^2)\n",
    "        score = (a.h * b.h + a.f * b.f + a.l * b.l + a.p * b.p + a.r * b.r + a.s * b.s)/b_norm\n",
    "        if score > best_score\n",
    "            best_score = score\n",
    "            best_b = b\n",
    "        end\n",
    "    end\n",
    "    return Spud(best_b.name, a.h, a.f, a.l, a.p, a.r, a.s, a.a1)\n",
    "end"
   ]
  },
  {
   "cell_type": "code",
   "execution_count": 16,
   "id": "c35671ee",
   "metadata": {},
   "outputs": [
    {
     "data": {
      "text/plain": [
       "Spud(\"Imitative* Party-leader Boulangère potatoes\", 2, 3, 3, 1, 1, 1, 10)"
      ]
     },
     "execution_count": 16,
     "metadata": {},
     "output_type": "execute_result"
    }
   ],
   "source": [
    "rand_rename(a)"
   ]
  },
  {
   "cell_type": "code",
   "execution_count": 17,
   "id": "560e9539",
   "metadata": {},
   "outputs": [
    {
     "data": {
      "text/plain": [
       "df_to_spuds (generic function with 1 method)"
      ]
     },
     "execution_count": 17,
     "metadata": {},
     "output_type": "execute_result"
    }
   ],
   "source": [
    "function eval_battle_list(a::Spud, bs::Array{Spud})::Int\n",
    "    score = 0\n",
    "    for ii in 1:length(bs)\n",
    "        score = score + eval_battle(a, bs[ii])\n",
    "    end\n",
    "    return score\n",
    "end\n",
    "\n",
    "function eval_battle_list2(a::Spud, bs::Array{Spud}, w::Vector{Float64})::AbstractFloat\n",
    "    score = 0.0\n",
    "    for ii in 1:length(bs)\n",
    "        score = score + w[ii] * eval_battle(a, bs[ii])\n",
    "    end\n",
    "    return score\n",
    "end\n",
    "\n",
    "function spuds_to_df(as::Array{Spud})::DataFrame\n",
    "    names = Array{String}(undef, length(as))\n",
    "    hs = Array{Int}(undef, length(as))\n",
    "    fs = Array{Int}(undef, length(as))\n",
    "    ls = Array{Int}(undef, length(as))\n",
    "    ps = Array{Int}(undef, length(as))\n",
    "    rs = Array{Int}(undef, length(as))\n",
    "    ss = Array{Int}(undef, length(as))\n",
    "    a1s = Array{Int}(undef, length(as))\n",
    "    for ii in 1:length(as)\n",
    "        names[ii] = as[ii].name\n",
    "        hs[ii] = as[ii].h\n",
    "        fs[ii] = as[ii].f\n",
    "        ls[ii] = as[ii].l\n",
    "        ps[ii] = as[ii].p\n",
    "        rs[ii] = as[ii].r\n",
    "        ss[ii] = as[ii].s\n",
    "        a1s[ii] = as[ii].a1\n",
    "    end\n",
    "    df = DataFrame(name = names, h = hs, f = fs, l = ls, p = ps, r = rs, s = ss, a1 = a1s)\n",
    "    return df\n",
    "end\n",
    "\n",
    "function fpart(x::AbstractFloat)::AbstractFloat\n",
    "  return x - trunc(x)\n",
    "end\n",
    "\n",
    "# for legacy dfs without abilities\n",
    "function df_to_spuds0(df::DataFrame)::Array{Spud}\n",
    "    n = size(df)[1]\n",
    "    as = Array{Spud}(undef, n)\n",
    "    for i in 1:n\n",
    "        as[i] = Spud(df[i, :name], df[i, :h], df[i, :f], df[i, :l], df[i, :p], df[i, :r], df[i, :s], ability_none)\n",
    "    end\n",
    "    return as\n",
    "end\n",
    "\n",
    "function df_to_spuds(df::DataFrame)::Array{Spud}\n",
    "    n = size(df)[1]\n",
    "    as = Array{Spud}(undef, n)\n",
    "    for i in 1:n\n",
    "        as[i] = Spud(df[i, :name], df[i, :h], df[i, :f], df[i, :l], df[i, :p], df[i, :r], df[i, :s], df[i, :a1])\n",
    "    end\n",
    "    return as\n",
    "end\n",
    "\n"
   ]
  },
  {
   "cell_type": "markdown",
   "id": "88b19f9c",
   "metadata": {},
   "source": [
    "## adjust abilities"
   ]
  },
  {
   "cell_type": "code",
   "execution_count": 18,
   "id": "b7bc5f03",
   "metadata": {},
   "outputs": [],
   "source": [
    "nash_env_df = DataFrame(CSV.File(\"spudsD_mxv10_nash.csv\"))\n",
    "nash_env = df_to_spuds0(nash_env_df)\n",
    "counts = [parse(Int, s.name[2:end]) for s in nash_env];\n",
    "w = counts./sum(counts);"
   ]
  },
  {
   "cell_type": "code",
   "execution_count": 19,
   "id": "d0a8b11c",
   "metadata": {},
   "outputs": [
    {
     "data": {
      "text/plain": [
       "fx_imitative (generic function with 1 method)"
      ]
     },
     "execution_count": 19,
     "metadata": {},
     "output_type": "execute_result"
    }
   ],
   "source": [
    "function cost_imitative(a::Spud)\n",
    "    h_inc = [4, 4, 3, 2, 2, 1, 1, 1, 0, 0] # how much H effectively increases given base H\n",
    "    c =  6 + h_inc[a.h] * (a.f + a.l) + 2 * ifelse(a.l >= 8, 1, 0)\n",
    "    if a.f >= 9 && a.l >= 4\n",
    "        c += 3\n",
    "    end\n",
    "    if a.l == 10 && a.p == 10\n",
    "        c += 8\n",
    "    end\n",
    "    return c\n",
    "end\n",
    "\n",
    "function fx_imitative(a::Spud, b::Spud)\n",
    "    if b.h > a.h\n",
    "        a = Spud(a.name, b.h, a.f, a.l, a.p, a.r, a.s, a.a1)\n",
    "    end\n",
    "    return [a, b]\n",
    "end"
   ]
  },
  {
   "cell_type": "code",
   "execution_count": 20,
   "id": "b88b61d4",
   "metadata": {},
   "outputs": [
    {
     "data": {
      "text/plain": [
       "fx_reciprocating (generic function with 1 method)"
      ]
     },
     "execution_count": 20,
     "metadata": {},
     "output_type": "execute_result"
    }
   ],
   "source": [
    "function cost_reciprocating(a::Spud)\n",
    "    # how much F effectively increases given base F (times 2)\n",
    "    f_inc = [8, 6, 4, 2, 1, 1, 1, 1, 1, 1]\n",
    "    c = 3 + f_inc[a.f] * div(a.h + a.p + a.r + a.s, 2)\n",
    "    c = c + ifelse(a.h >= 9, 1, 0) + ifelse(a.p + a.r + a.s >= 16 && a.l >= 10, 4, 0)\n",
    "    return c\n",
    "end\n",
    "\n",
    "function fx_reciprocating(a::Spud, b::Spud)\n",
    "    if b.f > a.f\n",
    "        a = Spud(a.name, a.h, b.f, a.l, a.p, a.r, a.s, a.a1)\n",
    "    end\n",
    "    return [a, b]\n",
    "end"
   ]
  },
  {
   "cell_type": "code",
   "execution_count": 21,
   "id": "c6f6303e",
   "metadata": {},
   "outputs": [
    {
     "data": {
      "text/plain": [
       "fx_romantic (generic function with 1 method)"
      ]
     },
     "execution_count": 21,
     "metadata": {},
     "output_type": "execute_result"
    }
   ],
   "source": [
    "function cost_romantic(a::Spud)\n",
    "    # how much L effectively increases given base L\n",
    "    l_inc = [3, 2, 2, 1, 1, 1, 1, 0, 0, 0]\n",
    "    c = 5 + l_inc[a.l] * a.h * ifelse(a.h >= 8, 2, 1)\n",
    "    # nerf Spud(\"\", 9, 1, 4, 10, 10, 10, 999)\n",
    "    if a.h >= 9 && (a.p + a.r + a.s) >= 30\n",
    "        c += 3\n",
    "    end\n",
    "    return c\n",
    "end\n",
    "\n",
    "function fx_romantic(a::Spud, b::Spud)\n",
    "    if b.p > a.l\n",
    "        a = Spud(a.name, a.h, a.f, b.p, a.p, a.r, a.s, a.a1)\n",
    "    end\n",
    "    return [a, b]\n",
    "end"
   ]
  },
  {
   "cell_type": "code",
   "execution_count": 22,
   "id": "ae5d32fc",
   "metadata": {},
   "outputs": [
    {
     "data": {
      "text/plain": [
       "fx_bibliophile (generic function with 1 method)"
      ]
     },
     "execution_count": 22,
     "metadata": {},
     "output_type": "execute_result"
    }
   ],
   "source": [
    "function cost_bibliophile(a::Spud)\n",
    "    # ban full p/r/s\n",
    "    if a.p + a.r + a.s >= 30\n",
    "        return 100\n",
    "    end\n",
    "    # how much L effectively increases given base L\n",
    "    l_inc = [2, 2, 2, 1, 1, 1, 1, 0, 0, 0];\n",
    "    # for penalizing large H\n",
    "    # h_inc = [1, 2, 3, 4, 5, 6, 7, 8, 9, 10]\n",
    "    c = 4 + l_inc[a.l] * a.h\n",
    "    return c\n",
    "end\n",
    "\n",
    "function fx_bibliophile(a::Spud, b::Spud)\n",
    "    if b.r > a.l\n",
    "        a = Spud(a.name, a.h, a.f, b.r, a.p, a.r, a.s, a.a1)\n",
    "    end\n",
    "    return [a, b]\n",
    "end"
   ]
  },
  {
   "cell_type": "code",
   "execution_count": null,
   "id": "a4019711",
   "metadata": {},
   "outputs": [],
   "source": [
    "function cost_melodious(a::Spud)\n",
    "    h_inc = [0,0,0,0,0,1,1,2,4,10]\n",
    "    f_inc = [0,0,0,0,1,1,4,5,9,11]\n",
    "    c = 5 + f_inc[a.f] + 2 * h_inc[a.h] + ifelse(a.r >= 10, 3, 0)\n",
    "    # nerf Spud(\"\", 3, 9, 1, 3, 2, 1, 999)\n",
    "    c += ifelse(a.f >= 9 && (a.p * a.h) >= 9, 3, 0)\n",
    "    return c\n",
    "end\n",
    "\n",
    "function fx_melodious(a::Spud, b::Spud)\n",
    "    if b.p > b.r && b.p > b.s\n",
    "        a = Spud(a.name, a.h, a.f, a.r, a.p + 3, a.r, a.s, a.a1)\n",
    "    end\n",
    "    return [a, b]\n",
    "end"
   ]
  },
  {
   "cell_type": "code",
   "execution_count": 23,
   "id": "f7ae23bc",
   "metadata": {},
   "outputs": [
    {
     "data": {
      "text/plain": [
       "fx_iconoclast (generic function with 1 method)"
      ]
     },
     "execution_count": 23,
     "metadata": {},
     "output_type": "execute_result"
    }
   ],
   "source": [
    "function cost_iconoclast(a::Spud)\n",
    "    # ban 10's\n",
    "    if sum([a.h,a.f,a.l,a.p,a.r,a.s].==10) > 0\n",
    "        return 100\n",
    "    end\n",
    "    c = 10 + cost(a.h+1,a.f+ifelse(a.r >= 7,1,0)+1,a.l+1,a.p+1,a.r+1,a.s+1) - cost(a.h,a.f,a.l,a.p,a.r,a.s)\n",
    "    if c <= 10\n",
    "        return 10\n",
    "    end\n",
    "    return c\n",
    "end\n",
    "\n",
    "\n",
    "function fx_iconoclast(a::Spud, b::Spud)\n",
    "    v = sum([b.h,b.f,b.l,b.p,b.r,b.s] .== 10)\n",
    "    a = Spud(a.name, a.h+v, a.f+v, a.r+v, a.p+v, a.r+v, a.s+v, a.a1)\n",
    "    return [a, b]\n",
    "end"
   ]
  },
  {
   "cell_type": "code",
   "execution_count": 24,
   "id": "18faa398",
   "metadata": {
    "scrolled": false
   },
   "outputs": [],
   "source": [
    "abc = cost_iconoclast\n",
    "abf = fx_iconoclast\n",
    "ab = ability_iconoclast\n",
    "evs = Array{Float64}(undef, 1000000)\n",
    "cs = Array{Int64}(undef, 1000000)\n",
    "ffs = Array{Spud}(undef, 1000000)\n",
    "ff_i = 0\n",
    "\n",
    "ss_prob = 0.25\n",
    "hrange = MNV:MXV\n",
    "frange = MNV:MXV\n",
    "lrange = MNV:MXV\n",
    "prange = MNV:MXV\n",
    "rrange = MNV:MXV\n",
    "srange = MNV:MXV\n",
    "\n",
    "for h in hrange\n",
    "    if (cost(h, MNV, MNV, MNV, MNV, MNV) <= MXS)\n",
    "        for f in frange\n",
    "            if (cost(h, f, MNV, MNV, MNV, MNV) <= MXS)\n",
    "                for l in lrange\n",
    "                    if (cost(h, f, l, MNV, MNV, MNV) <= MXS)\n",
    "                        for p in prange\n",
    "                            if (cost(h, f, l, p, MNV, MNV) <= MXS)\n",
    "                                for r in rrange\n",
    "                                    if (cost(h, f, l, p, r, MNV) <= MXS)\n",
    "                                        for s in srange\n",
    "                                            if rand() < ss_prob && (cost(h,f,l,p,r,s) <= MXS)\n",
    "                                                ff = Spud(\"\", h,f,l,p,r,s,ability_none)\n",
    "                                                ebs = [0 for i in 1:length(nash_env)]\n",
    "                                                for i in 1:length(nash_env)\n",
    "                                                    gg = nash_env[i]\n",
    "                                                    res = abf(ff, gg)\n",
    "                                                    ebs[i] = eval_battle(res[1], res[2])\n",
    "                                                end\n",
    "                                                ev = sum(w[ebs .== 1]) - sum(w[ebs .== -1])\n",
    "                                                if abs(ev) < 0.5\n",
    "                                                    ff_i += 1\n",
    "                                                    ffs[ff_i] = ff\n",
    "                                                    evs[ff_i] = ev\n",
    "                                                    cs[ff_i] = cost(ff)\n",
    "                                                end\n",
    "                                            end\n",
    "                                        end\n",
    "                                    end\n",
    "                                end                        \n",
    "                            end\n",
    "                        end                        \n",
    "                    end\n",
    "                end\n",
    "            end\n",
    "        end\n",
    "    end\n",
    "end\n",
    "\n",
    "\n",
    "\n",
    "\n",
    "evs = evs[1:ff_i]\n",
    "cs = cs[1:ff_i]\n",
    "ffs = ffs[1:ff_i];\n",
    "#maximum(evs)"
   ]
  },
  {
   "cell_type": "code",
   "execution_count": 25,
   "id": "f5685b43",
   "metadata": {},
   "outputs": [],
   "source": [
    "df = spuds_to_df(ffs)\n",
    "df[:, :ev] = evs\n",
    "df[:, :cost] = cs\n",
    "df;"
   ]
  },
  {
   "cell_type": "code",
   "execution_count": 26,
   "id": "d52a1df4",
   "metadata": {},
   "outputs": [],
   "source": [
    "function cost_iconoclast(a::Spud)\n",
    "    # ban 10's\n",
    "    if sum([a.h,a.f,a.l,a.p,a.r,a.s].==10) > 0\n",
    "        return 100\n",
    "    end\n",
    "    c = 40 + cost(a.h+1,a.f+ifelse(a.r >= 5,1,0)+1,a.l+1,a.p+1,a.r+1,a.s+1) - cost(a.h,a.f,a.l,a.p,a.r,a.s)\n",
    "    if c <= 10\n",
    "        return 10\n",
    "    end\n",
    "    return c\n",
    "end\n",
    "\n",
    "\n",
    "df[:, :c2] = df.cost .+ [cost_iconoclast(ff) for ff in ffs];"
   ]
  },
  {
   "cell_type": "code",
   "execution_count": 27,
   "id": "37075d70",
   "metadata": {},
   "outputs": [
    {
     "data": {
      "text/plain": [
       "0"
      ]
     },
     "execution_count": 27,
     "metadata": {},
     "output_type": "execute_result"
    }
   ],
   "source": [
    "sum(df.c2 .< df.cost)"
   ]
  },
  {
   "cell_type": "code",
   "execution_count": 28,
   "id": "1bd4edbc",
   "metadata": {
    "scrolled": true
   },
   "outputs": [
    {
     "data": {
      "text/plain": [
       "-0.12350016735431868"
      ]
     },
     "execution_count": 28,
     "metadata": {},
     "output_type": "execute_result"
    }
   ],
   "source": [
    "maximum(df.ev[df.c2 .<= 100])"
   ]
  },
  {
   "cell_type": "code",
   "execution_count": 29,
   "id": "62ff8be7",
   "metadata": {},
   "outputs": [
    {
     "data": {
      "text/html": [
       "<div><div style = \"float: left;\"><span>0×11 DataFrame</span></div><div style = \"clear: both;\"></div></div><div class = \"data-frame\" style = \"overflow-x: scroll;\"><table class = \"data-frame\" style = \"margin-bottom: 6px;\"><thead><tr class = \"header\"><th class = \"rowNumber\" style = \"font-weight: bold; text-align: right;\">Row</th><th style = \"text-align: left;\">name</th><th style = \"text-align: left;\">h</th><th style = \"text-align: left;\">f</th><th style = \"text-align: left;\">l</th><th style = \"text-align: left;\">p</th><th style = \"text-align: left;\">r</th><th style = \"text-align: left;\">s</th><th style = \"text-align: left;\">a1</th><th style = \"text-align: left;\">ev</th><th style = \"text-align: left;\">cost</th><th style = \"text-align: left;\">c2</th></tr><tr class = \"subheader headerLastRow\"><th class = \"rowNumber\" style = \"font-weight: bold; text-align: right;\"></th><th title = \"String\" style = \"text-align: left;\">String</th><th title = \"Int64\" style = \"text-align: left;\">Int64</th><th title = \"Int64\" style = \"text-align: left;\">Int64</th><th title = \"Int64\" style = \"text-align: left;\">Int64</th><th title = \"Int64\" style = \"text-align: left;\">Int64</th><th title = \"Int64\" style = \"text-align: left;\">Int64</th><th title = \"Int64\" style = \"text-align: left;\">Int64</th><th title = \"Int64\" style = \"text-align: left;\">Int64</th><th title = \"Float64\" style = \"text-align: left;\">Float64</th><th title = \"Int64\" style = \"text-align: left;\">Int64</th><th title = \"Int64\" style = \"text-align: left;\">Int64</th></tr></thead><tbody></tbody></table></div>"
      ],
      "text/latex": [
       "\\begin{tabular}{r|ccccccccccc}\n",
       "\t& name & h & f & l & p & r & s & a1 & ev & cost & c2\\\\\n",
       "\t\\hline\n",
       "\t& String & Int64 & Int64 & Int64 & Int64 & Int64 & Int64 & Int64 & Float64 & Int64 & Int64\\\\\n",
       "\t\\hline\n",
       "\\end{tabular}\n"
      ],
      "text/plain": [
       "\u001b[1m0×11 DataFrame\u001b[0m\n",
       "\u001b[1m Row \u001b[0m│\u001b[1m name   \u001b[0m\u001b[1m h     \u001b[0m\u001b[1m f     \u001b[0m\u001b[1m l     \u001b[0m\u001b[1m p     \u001b[0m\u001b[1m r     \u001b[0m\u001b[1m s     \u001b[0m\u001b[1m a1    \u001b[0m\u001b[1m ev      \u001b[0m\u001b[1m cost \u001b[0m ⋯\n",
       "     │\u001b[90m String \u001b[0m\u001b[90m Int64 \u001b[0m\u001b[90m Int64 \u001b[0m\u001b[90m Int64 \u001b[0m\u001b[90m Int64 \u001b[0m\u001b[90m Int64 \u001b[0m\u001b[90m Int64 \u001b[0m\u001b[90m Int64 \u001b[0m\u001b[90m Float64 \u001b[0m\u001b[90m Int64\u001b[0m ⋯\n",
       "─────┴──────────────────────────────────────────────────────────────────────────\n",
       "\u001b[36m                                                                1 column omitted\u001b[0m"
      ]
     },
     "execution_count": 29,
     "metadata": {},
     "output_type": "execute_result"
    }
   ],
   "source": [
    "df[df.ev .> -0.0 .&& df.c2 .<= 100,:]"
   ]
  },
  {
   "cell_type": "code",
   "execution_count": null,
   "id": "952899a6",
   "metadata": {},
   "outputs": [],
   "source": []
  },
  {
   "cell_type": "code",
   "execution_count": 30,
   "id": "8bcce05c",
   "metadata": {},
   "outputs": [
    {
     "data": {
      "text/plain": [
       "-0.06764181469781388"
      ]
     },
     "execution_count": 30,
     "metadata": {},
     "output_type": "execute_result"
    }
   ],
   "source": [
    "evs = Array{Float64}(undef, 1000000)\n",
    "cs = Array{Int64}(undef, 1000000)\n",
    "ffs = Array{Spud}(undef, 1000000)\n",
    "ff_i = 0\n",
    "\n",
    "ss_prob = 1.1\n",
    "hrange = MNV:MXV\n",
    "frange = MNV:MXV\n",
    "lrange = MNV:MXV\n",
    "prange = MNV:MXV\n",
    "rrange = MNV:MXV\n",
    "srange = MNV:MXV\n",
    "\n",
    "for h in hrange\n",
    "    if (cost(h, MNV, MNV, MNV, MNV, MNV) <= MXS)\n",
    "        for f in frange\n",
    "            if (cost(h, f, MNV, MNV, MNV, MNV) <= MXS)\n",
    "                for l in lrange\n",
    "                    if (cost(h, f, l, MNV, MNV, MNV) <= MXS)\n",
    "                        for p in prange\n",
    "                            if (cost(h, f, l, p, MNV, MNV) <= MXS)\n",
    "                                for r in rrange\n",
    "                                    if (cost(h, f, l, p, r, MNV) <= MXS)\n",
    "                                        for s in srange\n",
    "                                            if rand() < ss_prob && (cost(h,f,l,p,r,s) <= MXS)\n",
    "                                                ff = Spud(\"\", h,f,l,p,r,s,ability_none)\n",
    "                                                if (cost(ff) + abc(ff)) <= MXS\n",
    "                                                    ebs = [0 for i in 1:length(nash_env)]\n",
    "                                                    for i in 1:length(nash_env)\n",
    "                                                        gg = nash_env[i]\n",
    "                                                        res = abf(ff, gg)\n",
    "                                                        ebs[i] = eval_battle(res[1], res[2])\n",
    "                                                    end\n",
    "                                                    ev = sum(w[ebs .== 1]) - sum(w[ebs .== -1])\n",
    "                                                    if ev > -0.1\n",
    "                                                        ff_i += 1\n",
    "                                                        ffs[ff_i] = ff\n",
    "                                                        evs[ff_i] = ev\n",
    "                                                        cs[ff_i] = cost(ff) + abc(ff)\n",
    "                                                    end\n",
    "                                                end\n",
    "                                            end\n",
    "                                        end\n",
    "                                    end\n",
    "                                end                        \n",
    "                            end\n",
    "                        end                        \n",
    "                    end\n",
    "                end\n",
    "            end\n",
    "        end\n",
    "    end\n",
    "end\n",
    "\n",
    "\n",
    "\n",
    "\n",
    "evs = evs[1:ff_i]\n",
    "cs = cs[1:ff_i]\n",
    "ffs = ffs[1:ff_i];\n",
    "maximum(evs)"
   ]
  },
  {
   "cell_type": "code",
   "execution_count": 31,
   "id": "9652b86e",
   "metadata": {},
   "outputs": [
    {
     "data": {
      "text/html": [
       "<div><div style = \"float: left;\"><span>1×10 DataFrame</span></div><div style = \"clear: both;\"></div></div><div class = \"data-frame\" style = \"overflow-x: scroll;\"><table class = \"data-frame\" style = \"margin-bottom: 6px;\"><thead><tr class = \"header\"><th class = \"rowNumber\" style = \"font-weight: bold; text-align: right;\">Row</th><th style = \"text-align: left;\">name</th><th style = \"text-align: left;\">h</th><th style = \"text-align: left;\">f</th><th style = \"text-align: left;\">l</th><th style = \"text-align: left;\">p</th><th style = \"text-align: left;\">r</th><th style = \"text-align: left;\">s</th><th style = \"text-align: left;\">a1</th><th style = \"text-align: left;\">ev</th><th style = \"text-align: left;\">cost</th></tr><tr class = \"subheader headerLastRow\"><th class = \"rowNumber\" style = \"font-weight: bold; text-align: right;\"></th><th title = \"String\" style = \"text-align: left;\">String</th><th title = \"Int64\" style = \"text-align: left;\">Int64</th><th title = \"Int64\" style = \"text-align: left;\">Int64</th><th title = \"Int64\" style = \"text-align: left;\">Int64</th><th title = \"Int64\" style = \"text-align: left;\">Int64</th><th title = \"Int64\" style = \"text-align: left;\">Int64</th><th title = \"Int64\" style = \"text-align: left;\">Int64</th><th title = \"Int64\" style = \"text-align: left;\">Int64</th><th title = \"Float64\" style = \"text-align: left;\">Float64</th><th title = \"Int64\" style = \"text-align: left;\">Int64</th></tr></thead><tbody><tr><td class = \"rowNumber\" style = \"font-weight: bold; text-align: right;\">1</td><td style = \"text-align: left;\"></td><td style = \"text-align: right;\">9</td><td style = \"text-align: right;\">1</td><td style = \"text-align: right;\">1</td><td style = \"text-align: right;\">1</td><td style = \"text-align: right;\">4</td><td style = \"text-align: right;\">2</td><td style = \"text-align: right;\">999</td><td style = \"text-align: right;\">-0.0676418</td><td style = \"text-align: right;\">100</td></tr></tbody></table></div>"
      ],
      "text/latex": [
       "\\begin{tabular}{r|cccccccccc}\n",
       "\t& name & h & f & l & p & r & s & a1 & ev & cost\\\\\n",
       "\t\\hline\n",
       "\t& String & Int64 & Int64 & Int64 & Int64 & Int64 & Int64 & Int64 & Float64 & Int64\\\\\n",
       "\t\\hline\n",
       "\t1 &  & 9 & 1 & 1 & 1 & 4 & 2 & 999 & -0.0676418 & 100 \\\\\n",
       "\\end{tabular}\n"
      ],
      "text/plain": [
       "\u001b[1m1×10 DataFrame\u001b[0m\n",
       "\u001b[1m Row \u001b[0m│\u001b[1m name   \u001b[0m\u001b[1m h     \u001b[0m\u001b[1m f     \u001b[0m\u001b[1m l     \u001b[0m\u001b[1m p     \u001b[0m\u001b[1m r     \u001b[0m\u001b[1m s     \u001b[0m\u001b[1m a1    \u001b[0m\u001b[1m ev         \u001b[0m\u001b[1m co\u001b[0m ⋯\n",
       "     │\u001b[90m String \u001b[0m\u001b[90m Int64 \u001b[0m\u001b[90m Int64 \u001b[0m\u001b[90m Int64 \u001b[0m\u001b[90m Int64 \u001b[0m\u001b[90m Int64 \u001b[0m\u001b[90m Int64 \u001b[0m\u001b[90m Int64 \u001b[0m\u001b[90m Float64    \u001b[0m\u001b[90m In\u001b[0m ⋯\n",
       "─────┼──────────────────────────────────────────────────────────────────────────\n",
       "   1 │             9      1      1      1      4      2    999  -0.0676418     ⋯\n",
       "\u001b[36m                                                                1 column omitted\u001b[0m"
      ]
     },
     "execution_count": 31,
     "metadata": {},
     "output_type": "execute_result"
    }
   ],
   "source": [
    "df = spuds_to_df(ffs)\n",
    "df[:, :ev] = evs\n",
    "df[:, :cost] = cs\n",
    "df"
   ]
  },
  {
   "cell_type": "code",
   "execution_count": 32,
   "id": "95a620ba",
   "metadata": {},
   "outputs": [],
   "source": [
    "df[:, :a1] = [ab for i in 1:size(df)[1]];"
   ]
  },
  {
   "cell_type": "code",
   "execution_count": 33,
   "id": "72b93244",
   "metadata": {},
   "outputs": [],
   "source": [
    "df[:, :name] = [\"noname\" for i in 1:size(df)[1]];"
   ]
  },
  {
   "cell_type": "code",
   "execution_count": 34,
   "id": "49df638d",
   "metadata": {},
   "outputs": [
    {
     "data": {
      "text/plain": [
       "\"temp_iconoclast.csv\""
      ]
     },
     "execution_count": 34,
     "metadata": {},
     "output_type": "execute_result"
    }
   ],
   "source": [
    "CSV.write(\"temp_iconoclast.csv\", df)"
   ]
  },
  {
   "cell_type": "code",
   "execution_count": 35,
   "id": "97f283dd",
   "metadata": {},
   "outputs": [
    {
     "name": "stdout",
     "output_type": "stream",
     "text": [
      "\u001b[1m0×10 DataFrame\u001b[0m\n",
      "\u001b[1m Row \u001b[0m│\u001b[1m name   \u001b[0m\u001b[1m h     \u001b[0m\u001b[1m f     \u001b[0m\u001b[1m l     \u001b[0m\u001b[1m p     \u001b[0m\u001b[1m r     \u001b[0m\u001b[1m s     \u001b[0m\u001b[1m a1    \u001b[0m\u001b[1m ev      \u001b[0m\u001b[1m cost  \u001b[0m\n",
      "     │\u001b[90m String \u001b[0m\u001b[90m Int64 \u001b[0m\u001b[90m Int64 \u001b[0m\u001b[90m Int64 \u001b[0m\u001b[90m Int64 \u001b[0m\u001b[90m Int64 \u001b[0m\u001b[90m Int64 \u001b[0m\u001b[90m Int64 \u001b[0m\u001b[90m Float64 \u001b[0m\u001b[90m Int64 \u001b[0m\n",
      "─────┴─────────────────────────────────────────────────────────────────────────"
     ]
    }
   ],
   "source": [
    "#ffs[evs .> 0]\n",
    "print(df[df.ev .> 0,:])"
   ]
  },
  {
   "cell_type": "code",
   "execution_count": 36,
   "id": "95a018ce",
   "metadata": {},
   "outputs": [],
   "source": [
    "#print(df[df.ev .> -.1 .&& (df.p .+ df.r .+ df.s .== 30),:])"
   ]
  },
  {
   "cell_type": "code",
   "execution_count": null,
   "id": "15fdaf79",
   "metadata": {},
   "outputs": [],
   "source": []
  }
 ],
 "metadata": {
  "kernelspec": {
   "display_name": "Julia 1.9.3",
   "language": "julia",
   "name": "julia-1.9"
  },
  "language_info": {
   "file_extension": ".jl",
   "mimetype": "application/julia",
   "name": "julia",
   "version": "1.9.3"
  }
 },
 "nbformat": 4,
 "nbformat_minor": 5
}

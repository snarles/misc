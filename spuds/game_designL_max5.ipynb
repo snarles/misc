{
 "cells": [
  {
   "cell_type": "markdown",
   "id": "052be005",
   "metadata": {},
   "source": [
    "Playing games with Spuds"
   ]
  },
  {
   "cell_type": "markdown",
   "id": "72817bb1",
   "metadata": {},
   "source": [
    "## Spud code"
   ]
  },
  {
   "cell_type": "code",
   "execution_count": 1,
   "id": "494818e8",
   "metadata": {},
   "outputs": [],
   "source": [
    "using Random\n",
    "using DataFrames\n",
    "using CSV\n",
    "using DelimitedFiles\n",
    "using Statistics\n",
    "using Printf\n",
    "using LinearAlgebra\n",
    "using Dates"
   ]
  },
  {
   "cell_type": "code",
   "execution_count": 2,
   "id": "45e21e7f",
   "metadata": {},
   "outputs": [],
   "source": [
    "struct Spud\n",
    "    name::String\n",
    "    h::Int64\n",
    "    f::Int64\n",
    "    l::Int64\n",
    "    p::Int64\n",
    "    r::Int64\n",
    "    s::Int64\n",
    "    a1::Int64\n",
    "end"
   ]
  },
  {
   "cell_type": "code",
   "execution_count": 3,
   "id": "eef1262d",
   "metadata": {},
   "outputs": [
    {
     "data": {
      "text/plain": [
       "Dict{Int64, Function} with 10 entries:\n",
       "  50  => fx_melodious\n",
       "  20  => fx_reciprocating\n",
       "  110 => fx_otaku\n",
       "  10  => fx_imitative\n",
       "  90  => fx_iconoclast\n",
       "  30  => fx_romantic\n",
       "  120 => fx_sincere\n",
       "  130 => fx_cowardly\n",
       "  40  => fx_bibliophile\n",
       "  100 => fx_intoxicating"
      ]
     },
     "execution_count": 3,
     "metadata": {},
     "output_type": "execute_result"
    }
   ],
   "source": [
    "const ability_none = 999\n",
    "const ability_imitative = 10\n",
    "const ability_reciprocating = 20\n",
    "const ability_romantic = 30\n",
    "const ability_bibliophile = 40\n",
    "const ability_melodious = 50\n",
    "const ability_iconoclast = 90\n",
    "const ability_intoxicating = 100\n",
    "const ability_otaku = 110\n",
    "const ability_sincere = 120\n",
    "const ability_cowardly = 130\n",
    "\n",
    "\n",
    "ability_name = Dict(\n",
    "    ability_imitative => \"Imitative*\",\n",
    "    ability_reciprocating => \"Reciprocating*\",\n",
    "    ability_romantic => \"Romantic*\",\n",
    "    ability_bibliophile => \"Bibliophile*\",\n",
    "    ability_melodious => \"Melodious*\",\n",
    "    ability_iconoclast => \"Iconoclast*\",\n",
    "    ability_intoxicating => \"Intoxicating*\",\n",
    "    ability_otaku => \"Otaku*\",\n",
    "    ability_sincere => \"Sincere*\",\n",
    "    ability_cowardly => \"Cowardly*\",\n",
    ")\n",
    "\n",
    "function fx_imitative(a::Spud, b::Spud)\n",
    "    if b.h > a.h\n",
    "        a = Spud(a.name, b.h, a.f, a.l, a.p, a.r, a.s, a.a1)\n",
    "    end\n",
    "    return [a, b]\n",
    "end\n",
    "\n",
    "function fx_reciprocating(a::Spud, b::Spud)\n",
    "    if b.f > a.f\n",
    "        a = Spud(a.name, a.h, b.f, a.l, a.p, a.r, a.s, a.a1)\n",
    "    end\n",
    "    return [a, b]\n",
    "end\n",
    "\n",
    "function fx_romantic(a::Spud, b::Spud)\n",
    "    if b.p > a.l\n",
    "        a = Spud(a.name, a.h, a.f, b.p, a.p, a.r, a.s, a.a1)\n",
    "    end\n",
    "    return [a, b]\n",
    "end\n",
    "\n",
    "function fx_bibliophile(a::Spud, b::Spud)\n",
    "    if b.r > a.l\n",
    "        a = Spud(a.name, a.h, a.f, b.r, a.p, a.r, a.s, a.a1)\n",
    "    end\n",
    "    return [a, b]\n",
    "end\n",
    "\n",
    "function fx_melodious(a::Spud, b::Spud)\n",
    "    if b.p > b.r && b.p > b.s\n",
    "        a = Spud(a.name, a.h, a.f, a.r, a.p + 3, a.r, a.s, a.a1)\n",
    "    end\n",
    "    return [a, b]\n",
    "end\n",
    "\n",
    "function fx_iconoclast(a::Spud, b::Spud)\n",
    "    v = sum([b.h,b.f,b.l,b.p,b.r,b.s] .== MXV)\n",
    "    if v >= 3\n",
    "        aa = [a.h, a.f, a.l, a.p, a.r, a.s]\n",
    "        aa2 = map(x -> div(x, 4), aa)\n",
    "        r = aa .+ aa2\n",
    "        a = Spud(a.name, r[1], r[2], r[3], r[4], r[5], r[6], a.a1)\n",
    "    end\n",
    "    return [a, b]\n",
    "end\n",
    "\n",
    "function fx_intoxicating(a::Spud, b::Spud)\n",
    "    b = Spud(b.name, b.h, b.f, b.l, b.p, b.r, b.f, b.a1)\n",
    "    return [a, b]\n",
    "end\n",
    "\n",
    "function fx_otaku(a::Spud, b::Spud)\n",
    "    b = Spud(b.name, b.h, b.f, b.l, b.p, b.h, b.s, b.a1)\n",
    "    return [a, b]\n",
    "end\n",
    "\n",
    "\n",
    "function fx_sincere(a::Spud, b::Spud)\n",
    "    b = Spud(b.name, b.h, b.f + 2, b.f + 2, b.p, b.r, b.s, b.a1)\n",
    "    return [a, b]\n",
    "end\n",
    "\n",
    "function fx_cowardly(a::Spud, b::Spud)\n",
    "    if (a.p < b.p) || (a.r < b.r) || (a.s < b.s)\n",
    "        a = Spud(a.name, a.h + 2, a.f - 2, a.l, a.p, a.r, a.s, a.a1)\n",
    "    end\n",
    "    return [a, b]\n",
    "end\n",
    "\n",
    "ability_fx = Dict(\n",
    "    ability_imitative => fx_imitative,\n",
    "    ability_reciprocating => fx_reciprocating,\n",
    "    ability_romantic => fx_romantic,\n",
    "    ability_bibliophile => fx_bibliophile,\n",
    "    ability_melodious => fx_melodious,\n",
    "    ability_iconoclast => fx_iconoclast,\n",
    "    ability_intoxicating => fx_intoxicating,\n",
    "    ability_otaku => fx_otaku,\n",
    "    ability_sincere => fx_sincere,\n",
    "    ability_cowardly => fx_cowardly,\n",
    ")"
   ]
  },
  {
   "cell_type": "code",
   "execution_count": 4,
   "id": "950e076e",
   "metadata": {},
   "outputs": [
    {
     "data": {
      "text/plain": [
       "1"
      ]
     },
     "execution_count": 4,
     "metadata": {},
     "output_type": "execute_result"
    }
   ],
   "source": [
    "#const MXS = 100\n",
    "const MXV = 5\n",
    "const MNV = 1\n",
    "\n",
    "# function cost(h::Int64, f::Int64, l::Int64, p::Int64, r::Int64, s::Int64)::Int64\n",
    "#     #return h*(f+l-2*MNV) + f*(p+r+s-3*MNV) + h+f+l+p+r+s-6*MNV\n",
    "#     return h*(f+l) + f*(p+r+s)\n",
    "# end\n",
    "\n",
    "# function cost(a::Spud)::Int64\n",
    "#     if a.a1 == ability_none\n",
    "#         return cost(a.h, a.f, a.l, a.p, a.r, a.s)\n",
    "#     else\n",
    "#         return cost(a.h, a.f, a.l, a.p, a.r, a.s) + ability_cost[a.a1](a)\n",
    "#     end\n",
    "# end"
   ]
  },
  {
   "cell_type": "code",
   "execution_count": 5,
   "id": "ac830f74",
   "metadata": {},
   "outputs": [
    {
     "data": {
      "text/plain": [
       "eval_melee (generic function with 3 methods)"
      ]
     },
     "execution_count": 5,
     "metadata": {},
     "output_type": "execute_result"
    }
   ],
   "source": [
    "function compare_int_list(as::Vector{Int64}, bs::Vector{Int64}, tiebreaker::Int64 = 0)::Int64\n",
    "    n = min(length(as), length(bs))\n",
    "    for i in 1:n\n",
    "        if as[i] != bs[i]\n",
    "            return sign(as[i] - bs[i])\n",
    "        end\n",
    "    end\n",
    "    return tiebreaker\n",
    "end\n",
    "\n",
    "function spud_h_seq(a::Spud)::Vector{Int64}\n",
    "    return [a.h, a.s, a.r, a.p, a.l, a.f]\n",
    "end\n",
    "\n",
    "function spud_f_seq(a::Spud)::Vector{Int64}\n",
    "    return [a.f, a.s, a.r, a.p, a.l, a.h]\n",
    "end\n",
    "\n",
    "function spud_l_seq(a::Spud)::Vector{Int64}\n",
    "    return [a.l]\n",
    "end\n",
    "\n",
    "function spud_p_seq(a::Spud)::Vector{Int64}\n",
    "    return [a.p, a.l]\n",
    "end\n",
    "\n",
    "function spud_r_seq(a::Spud)::Vector{Int64}\n",
    "    return [a.r, a.f]\n",
    "end\n",
    "\n",
    "function spud_s_seq(a::Spud)::Vector{Int64}\n",
    "    return [a.s, a.h]\n",
    "end\n",
    "\n",
    "function spud_utb_seq(a::Spud)::Vector{Int64}\n",
    "    return [a.a1, a.h, a.f, a.l, a.p, a.r, a.s]\n",
    "end\n",
    "\n",
    "function eval_finds(a::Spud, b::Spud, tiebreaker::Int64 = 0)::Int64\n",
    "    ev = compare_int_list(spud_f_seq(a), spud_h_seq(b), tiebreaker)\n",
    "    ans = ev\n",
    "end\n",
    "\n",
    "function eval_melee(a::Spud, b::Spud, tiebreaker1::Int64 = 0, tiebreaker2::Int64 = 0)::Int64\n",
    "    comp_p = compare_int_list(spud_p_seq(a), spud_p_seq(b), tiebreaker1)\n",
    "    comp_r = compare_int_list(spud_r_seq(a), spud_r_seq(b), tiebreaker1)\n",
    "    comp_s = compare_int_list(spud_s_seq(a), spud_s_seq(b), tiebreaker1)\n",
    "    ev = 4 * comp_p + 3 * comp_r + 2 * comp_s\n",
    "    return sign(ev + (1-abs(ev))*tiebreaker2)\n",
    "end\n",
    "\n"
   ]
  },
  {
   "cell_type": "code",
   "execution_count": 6,
   "id": "f603612d",
   "metadata": {},
   "outputs": [
    {
     "data": {
      "text/plain": [
       "eval_battle (generic function with 1 method)"
      ]
     },
     "execution_count": 6,
     "metadata": {},
     "output_type": "execute_result"
    }
   ],
   "source": [
    "\n",
    "\n",
    "function apply_ability(a::Spud, b::Spud)::Array{Spud}\n",
    "    if a.a1 == ability_none\n",
    "        return [a, b]\n",
    "    else\n",
    "        return ability_fx[a.a1](a, b)\n",
    "    end\n",
    "end\n",
    "\n",
    "\n",
    "function eval_battle(a::Spud, b::Spud)::Int64\n",
    "    utb = compare_int_list(spud_utb_seq(a), spud_utb_seq(b), 0) # universal tiebreaker\n",
    "    if utb == 0\n",
    "        return 0\n",
    "    end\n",
    "    a_ability_first = compare_int_list([a.a1, a.s], [b.a1, b.s], utb)\n",
    "    if a_ability_first ==1\n",
    "        if a.a1 != ability_none\n",
    "            res = apply_ability(a, b)\n",
    "            a = res[1]\n",
    "            b = res[2]\n",
    "        end\n",
    "        if b.a1 != ability_none\n",
    "            res = apply_ability(b, a)\n",
    "            b = res[1]\n",
    "            a = res[2]\n",
    "        end\n",
    "    end\n",
    "    if a_ability_first == -1\n",
    "        if b.a1 != ability_none\n",
    "            res = apply_ability(b, a)\n",
    "            b = res[1]\n",
    "            a = res[2]\n",
    "        end\n",
    "        if a.a1 != ability_none\n",
    "            res = apply_ability(a, b)\n",
    "            a = res[1]\n",
    "            b = res[2]\n",
    "        end\n",
    "    end\n",
    "    #println(a)\n",
    "    #println(b)\n",
    "    a_finds = eval_finds(a, b, utb)==1\n",
    "    b_finds = eval_finds(b, a, utb)==1\n",
    "    melee_win = eval_melee(a, b, 0, utb)\n",
    "    if a_finds && b_finds\n",
    "        return melee_win\n",
    "    end\n",
    "    if a_finds && !b_finds\n",
    "        return 1\n",
    "    end\n",
    "    if !a_finds && b_finds\n",
    "        return -1\n",
    "    end\n",
    "    if !a_finds && !b_finds\n",
    "        return compare_int_list([a.l, melee_win], [b.l, -melee_win], 0)\n",
    "    end\n",
    "end"
   ]
  },
  {
   "cell_type": "code",
   "execution_count": 7,
   "id": "40b9dc47",
   "metadata": {},
   "outputs": [
    {
     "data": {
      "text/plain": [
       "random_name_and_stat (generic function with 2 methods)"
      ]
     },
     "execution_count": 7,
     "metadata": {},
     "output_type": "execute_result"
    }
   ],
   "source": [
    "tab = CSV.read(\"census_yob2022_names.txt\", DataFrame, header = false)\n",
    "names = tab.Column1\n",
    "adjectives = CSV.read(\"adjectives.csv\", DataFrame)\n",
    "nouns = CSV.read(\"nouns.csv\", DataFrame)\n",
    "jobs = CSV.read(\"jobs.csv\", DataFrame)\n",
    "\n",
    "\n",
    "const mult_noun = 1\n",
    "const mult_adj = 2\n",
    "const mult_job = 3\n",
    "\n",
    "\n",
    "function random_name_and_stat(ability::Int64 = ability_none)::Spud\n",
    "    vp = [0, 0, 0, 0, 0, 0]\n",
    "    #nametype = rand([1,1,1,1,1,2,2,2,3])\n",
    "    name = \"\"\n",
    "    noun = \"\"\n",
    "    adj = \"\"\n",
    "    noun_i = rand(1:nrow(nouns))\n",
    "    noun = nouns[noun_i, :noun]\n",
    "    vp[1] = vp[1] + nouns[noun_i, :H] * mult_noun\n",
    "    vp[2] = vp[2] + nouns[noun_i, :F] * mult_noun\n",
    "    vp[3] = vp[3] + nouns[noun_i, :L] * mult_noun\n",
    "    vp[4] = vp[4] + nouns[noun_i, :P] * mult_noun\n",
    "    vp[5] = vp[5] + nouns[noun_i, :R] * mult_noun\n",
    "    vp[6] = vp[6] + nouns[noun_i, :S] * mult_noun\n",
    "    adj_i = rand(1:nrow(adjectives))\n",
    "    if ability == ability_none\n",
    "        adj = adjectives[adj_i, :adjective]\n",
    "        vp[1] = vp[1] + adjectives[adj_i, :H] * mult_adj\n",
    "        vp[2] = vp[2] + adjectives[adj_i, :F] * mult_adj\n",
    "        vp[3] = vp[3] + adjectives[adj_i, :L] * mult_adj\n",
    "        vp[4] = vp[4] + adjectives[adj_i, :P] * mult_adj\n",
    "        vp[5] = vp[5] + adjectives[adj_i, :R] * mult_adj\n",
    "        vp[6] = vp[6] + adjectives[adj_i, :S] * mult_adj\n",
    "    else\n",
    "        adj = ability_name[ability]\n",
    "    end\n",
    "    job_i = rand(1:nrow(jobs))\n",
    "    job = jobs[job_i, :job]\n",
    "    vp[1] = vp[1] + jobs[job_i, :H] * mult_job\n",
    "    vp[2] = vp[2] + jobs[job_i, :F] * mult_job\n",
    "    vp[3] = vp[3] + jobs[job_i, :L] * mult_job\n",
    "    vp[4] = vp[4] + jobs[job_i, :P] * mult_job\n",
    "    vp[5] = vp[5] + jobs[job_i, :R] * mult_job\n",
    "    vp[6] = vp[6] + jobs[job_i, :S] * mult_job\n",
    "    name = string(adj, \" \", job, \" \", noun)\n",
    "    Spud(name, vp[1], vp[2], vp[3], vp[4], vp[5], vp[6], ability_none)\n",
    "end"
   ]
  },
  {
   "cell_type": "code",
   "execution_count": 8,
   "id": "f606e085",
   "metadata": {},
   "outputs": [
    {
     "data": {
      "text/plain": [
       "rand_rename (generic function with 2 methods)"
      ]
     },
     "execution_count": 8,
     "metadata": {},
     "output_type": "execute_result"
    }
   ],
   "source": [
    "function rand_rename(a::Spud, n_tries::Int = 100)::Spud\n",
    "    best_score = 0.0\n",
    "    best_b = random_name_and_stat(a.a1)\n",
    "    for ii in 1:n_tries\n",
    "        b = random_name_and_stat(a.a1)\n",
    "        b_norm = sqrt(b.h^2 + b.f^2 + b.l^2 + b.p^2 + b.r^2 + b.s^2)\n",
    "        score = (a.h * b.h + a.f * b.f + a.l * b.l + a.p * b.p + a.r * b.r + a.s * b.s)/b_norm\n",
    "        if score > best_score\n",
    "            best_score = score\n",
    "            best_b = b\n",
    "        end\n",
    "    end\n",
    "    return Spud(best_b.name, a.h, a.f, a.l, a.p, a.r, a.s, a.a1)\n",
    "end"
   ]
  },
  {
   "cell_type": "code",
   "execution_count": 9,
   "id": "560e9539",
   "metadata": {},
   "outputs": [
    {
     "data": {
      "text/plain": [
       "df_to_spuds (generic function with 1 method)"
      ]
     },
     "execution_count": 9,
     "metadata": {},
     "output_type": "execute_result"
    }
   ],
   "source": [
    "function eval_battle_list(a::Spud, bs::Array{Spud})::Int\n",
    "    score = 0\n",
    "    for ii in 1:length(bs)\n",
    "        score = score + eval_battle(a, bs[ii])\n",
    "    end\n",
    "    return score\n",
    "end\n",
    "\n",
    "function eval_battle_list2(a::Spud, bs::Array{Spud}, w::Vector{Float64})::AbstractFloat\n",
    "    score = 0.0\n",
    "    for ii in 1:length(bs)\n",
    "        score = score + w[ii] * eval_battle(a, bs[ii])\n",
    "    end\n",
    "    return score\n",
    "end\n",
    "\n",
    "function spuds_to_df(as::Array{Spud})::DataFrame\n",
    "    names = Array{String}(undef, length(as))\n",
    "    hs = Array{Int}(undef, length(as))\n",
    "    fs = Array{Int}(undef, length(as))\n",
    "    ls = Array{Int}(undef, length(as))\n",
    "    ps = Array{Int}(undef, length(as))\n",
    "    rs = Array{Int}(undef, length(as))\n",
    "    ss = Array{Int}(undef, length(as))\n",
    "    a1s = Array{Int}(undef, length(as))\n",
    "    for ii in 1:length(as)\n",
    "        names[ii] = as[ii].name\n",
    "        hs[ii] = as[ii].h\n",
    "        fs[ii] = as[ii].f\n",
    "        ls[ii] = as[ii].l\n",
    "        ps[ii] = as[ii].p\n",
    "        rs[ii] = as[ii].r\n",
    "        ss[ii] = as[ii].s\n",
    "        a1s[ii] = as[ii].a1\n",
    "    end\n",
    "    df = DataFrame(name = names, h = hs, f = fs, l = ls, p = ps, r = rs, s = ss, a1 = a1s)\n",
    "    return df\n",
    "end\n",
    "\n",
    "function fpart(x::AbstractFloat)::AbstractFloat\n",
    "  return x - trunc(x)\n",
    "end\n",
    "\n",
    "# for legacy dfs without abilities\n",
    "function df_to_spuds0(df::DataFrame)::Array{Spud}\n",
    "    n = size(df)[1]\n",
    "    as = Array{Spud}(undef, n)\n",
    "    for i in 1:n\n",
    "        as[i] = Spud(df[i, :name], df[i, :h], df[i, :f], df[i, :l], df[i, :p], df[i, :r], df[i, :s], ability_none)\n",
    "    end\n",
    "    return as\n",
    "end\n",
    "\n",
    "function df_to_spuds(df::DataFrame)::Array{Spud}\n",
    "    n = size(df)[1]\n",
    "    as = Array{Spud}(undef, n)\n",
    "    for i in 1:n\n",
    "        as[i] = Spud(df[i, :name], df[i, :h], df[i, :f], df[i, :l], df[i, :p], df[i, :r], df[i, :s], df[i, :a1])\n",
    "    end\n",
    "    return as\n",
    "end\n",
    "\n"
   ]
  },
  {
   "cell_type": "code",
   "execution_count": 10,
   "id": "638f1e65",
   "metadata": {},
   "outputs": [
    {
     "data": {
      "text/plain": [
       "sample_library (generic function with 2 methods)"
      ]
     },
     "execution_count": 10,
     "metadata": {},
     "output_type": "execute_result"
    }
   ],
   "source": [
    "function sample_library(ss_prob, as, n_init = 1000000)\n",
    "    ffs = Array{Spud}(undef, n_init)\n",
    "    ff_i = 0\n",
    "    hrange = MNV:MXV\n",
    "    frange = MNV:MXV\n",
    "    lrange = MNV:MXV\n",
    "    prange = MNV:MXV\n",
    "    rrange = MNV:MXV\n",
    "    srange = MNV:MXV\n",
    "    for a1 in as\n",
    "        for h in hrange\n",
    "            for f in frange\n",
    "                for l in lrange\n",
    "                    for p in prange\n",
    "                        for r in rrange\n",
    "                            for s in srange\n",
    "                                if rand() <= ss_prob\n",
    "                                    ff = Spud(\"\", h,f,l,p,r,s,a1)\n",
    "                                    ff_i += 1\n",
    "                                    ffs[ff_i] = ff\n",
    "                                end\n",
    "                            end\n",
    "                        end                        \n",
    "                    end                        \n",
    "                end\n",
    "            end\n",
    "        end\n",
    "    end\n",
    "    ffs = ffs[1:ff_i]\n",
    "    return unique(ffs)\n",
    "end"
   ]
  },
  {
   "cell_type": "code",
   "execution_count": 11,
   "id": "847f986d",
   "metadata": {},
   "outputs": [
    {
     "data": {
      "text/plain": [
       "ffp2 (generic function with 1 method)"
      ]
     },
     "execution_count": 11,
     "metadata": {},
     "output_type": "execute_result"
    }
   ],
   "source": [
    "struct NashEquilibrium2p\n",
    "    w1::Array{Float64}\n",
    "    w2::Array{Float64}\n",
    "    v::Float64\n",
    "end\n",
    "\n",
    "\n",
    "function payoffs2(set1::Array{Spud}, set2::Array{Spud})::Array{Int64}\n",
    "    n1 = length(set1)\n",
    "    n2 = length(set2)\n",
    "    payoffs = Array{Int64}(undef, (n1, n2))\n",
    "    for i in 1:n1\n",
    "        for j in 1:n2\n",
    "            payoffs[i,j] = eval_battle(set1[i], set2[j])\n",
    "        end\n",
    "    end\n",
    "    return payoffs\n",
    "end\n",
    "\n",
    "function ffp2(set1::Array{Spud}, set2::Array{Spud}, nits::Int64)::NashEquilibrium2p\n",
    "    n1 = length(set1)\n",
    "    n2 = length(set2)\n",
    "    payoffs = payoffs2(set1, set2)\n",
    "    v1 = [1 for i in 1:n1]\n",
    "    v2 = [1 for i in 1:n2]\n",
    "    s1 = [sum(payoffs[i, :] .* v2) for i in 1:n1]\n",
    "    s2 = [sum(payoffs[:, i] .* v1) for i in 1:n2]\n",
    "    for it in 1:nits\n",
    "        cands1 = findall(s1 .== maximum(s1))\n",
    "        i1 = rand(cands1)\n",
    "        cands2 = findall(s2 .== minimum(s2))\n",
    "        i2 = rand(cands2)\n",
    "        v1[i1] += 1\n",
    "        s2 = s2 .+ payoffs[i1, :]\n",
    "        v2[i2] += 1\n",
    "        s1 = s1 .+ payoffs[:, i2]\n",
    "    end\n",
    "    w1 = v1./sum(v1)\n",
    "    w2 = v2./sum(v2)\n",
    "    val = sum([payoffs[i, j] * w1[i] * w2[j] for i in 1:n1 for j in 1:n2])\n",
    "    return NashEquilibrium2p(w1, w2, val)\n",
    "end"
   ]
  },
  {
   "cell_type": "markdown",
   "id": "084c92e5",
   "metadata": {},
   "source": [
    "## Battle code"
   ]
  },
  {
   "cell_type": "code",
   "execution_count": 12,
   "id": "d8584105",
   "metadata": {},
   "outputs": [],
   "source": [
    "mutable struct BattleView\n",
    "    round::Int64\n",
    "    own::Array{Spud}\n",
    "    owncount::Array{Int64}\n",
    "    deployed::Array{Bool}\n",
    "    obs::Array{Spud}\n",
    "    obscount::Array{Int64}\n",
    "end\n",
    "\n",
    "mutable struct AiPlayer\n",
    "    genteam::Function\n",
    "    pick::Function\n",
    "    create::Function\n",
    "end"
   ]
  },
  {
   "cell_type": "code",
   "execution_count": 13,
   "id": "ccf44741",
   "metadata": {},
   "outputs": [
    {
     "data": {
      "text/plain": [
       "play_is_game_over (generic function with 1 method)"
      ]
     },
     "execution_count": 13,
     "metadata": {},
     "output_type": "execute_result"
    }
   ],
   "source": [
    "n_copy = 3\n",
    "\n",
    "function initialize_game(team1::Array{Spud}, team2::Array{Spud})::Array{BattleView}\n",
    "    teams = [team1, team2]\n",
    "    bvs = Array{BattleView}(undef, 0)\n",
    "    for team in teams\n",
    "        bv = BattleView(0, team, [n_copy for i in 1:length(team)], [false for i in 1:length(team)], [], [])\n",
    "        append!(bvs, [bv])\n",
    "    end\n",
    "    return bvs\n",
    "end\n",
    "\n",
    "function observe_fighters(game::Array{BattleView}, choices::Array{Int64})::Array{BattleView}\n",
    "    for i in 1:2\n",
    "        j = 3- i\n",
    "        if choices[i] != 0\n",
    "            game[i].deployed[choices[i]] = true\n",
    "            ff = game[i].own[choices[i]]\n",
    "            if ff in game[j].obs\n",
    "                0\n",
    "            else\n",
    "                game[j].obs = append!(game[j].obs, [ff])\n",
    "                game[j].obscount = append!(game[j].obscount, [game[i].owncount[choices[i]]])\n",
    "            end\n",
    "        end\n",
    "    end\n",
    "    return game\n",
    "end\n",
    "\n",
    "function modify_fighter_counts(game::Array{BattleView}, choices::Array{Int64}, mod::Array{Int64})::Array{BattleView}\n",
    "    for i in 1:2\n",
    "        j = 3- i\n",
    "        if choices[i] != 0\n",
    "            game[i].owncount[choices[i]] = game[i].owncount[choices[i]] + mod[i]\n",
    "            ff = game[i].own[choices[i]]\n",
    "            if ff in game[j].obs\n",
    "                ind = findall(x -> x==ff, game[j].obs)[1]\n",
    "                game[j].obscount[ind] = game[i].owncount[choices[i]]\n",
    "            else\n",
    "                0\n",
    "            end\n",
    "        end\n",
    "    end\n",
    "    return game\n",
    "end\n",
    "\n",
    "function play_combat(game::Array{BattleView}, choices::Array{Int64}, verbose::Bool = false)::Array{BattleView}\n",
    "    round = game[1].round + 1\n",
    "    fighters = [game[i].own[choices[i]] for i in 1:2]\n",
    "    for i in 1:2\n",
    "        @assert game[i].owncount[choices[i]] >= 0\n",
    "    end\n",
    "    if verbose\n",
    "        print(\"Round \")\n",
    "        print(round)\n",
    "        print(\": #A\")\n",
    "        print(choices[1])\n",
    "        print(\" \")\n",
    "        print(fighters[1])\n",
    "        print(\" vs #B\")\n",
    "        print(choices[2])\n",
    "        print(\" \")\n",
    "        println(fighters[2])\n",
    "    end\n",
    "    outcome = eval_battle(fighters[1], fighters[2])\n",
    "    if verbose\n",
    "        if outcome == 0\n",
    "            println(\"Tied!\")\n",
    "        else\n",
    "            if outcome == 1\n",
    "                print(fighters[1])\n",
    "            end\n",
    "            if outcome == -1\n",
    "                print(fighters[2])\n",
    "            end\n",
    "            println(\" wins!\")\n",
    "        end\n",
    "    end\n",
    "    game = observe_fighters(game, choices)\n",
    "    if outcome > -1\n",
    "        game = modify_fighter_counts(game, choices, [0, -1])\n",
    "    end\n",
    "    if outcome < 1\n",
    "        game = modify_fighter_counts(game, choices, [-1, 0])\n",
    "    end\n",
    "    for i in 1:2\n",
    "        game[i].round = round\n",
    "    end\n",
    "    return game\n",
    "end\n",
    "\n",
    "function play_add_spud(game::Array{BattleView}, player::Int64, ff::Spud, verbose::Bool = false)::Array{BattleView}\n",
    "    game[player].own = append!(game[player].own, [ff])\n",
    "    game[player].owncount = append!(game[player].owncount, [n_copy])\n",
    "    game[player].deployed = append!(game[player].deployed, [false])\n",
    "    if verbose\n",
    "        print(\"Player \")\n",
    "        print(player)\n",
    "        print(\" adds #\")\n",
    "        print([\"A\", \"B\"][player])\n",
    "        print(length(game[player].own))\n",
    "        print(\" \")\n",
    "        println(ff)\n",
    "    end\n",
    "    return game\n",
    "end\n",
    "\n",
    "function play_is_game_over(game::Array{BattleView})::Bool\n",
    "    for bv in game\n",
    "        if sum(bv.owncount) == 0\n",
    "            return true\n",
    "        end\n",
    "    end\n",
    "    return false\n",
    "end"
   ]
  },
  {
   "cell_type": "code",
   "execution_count": 14,
   "id": "15fdaf79",
   "metadata": {},
   "outputs": [
    {
     "data": {
      "text/plain": [
       "ai2_create (generic function with 1 method)"
      ]
     },
     "execution_count": 14,
     "metadata": {},
     "output_type": "execute_result"
    }
   ],
   "source": [
    "function generate_rand_team(env, counts, nteam)\n",
    "    cc = cumsum(counts)\n",
    "    team = Array{Spud}(undef, nteam)\n",
    "    for i in 1:nteam\n",
    "        tmp = rand(1:sum(counts))\n",
    "        ind = sum(cc .< tmp)+1\n",
    "        team[i] = env[ind]\n",
    "    end\n",
    "    return team\n",
    "end\n",
    "\n",
    "function ai0_pick(a::BattleView)::Int64\n",
    "    inds = findall(a.owncount .> 0)\n",
    "    return rand(inds)\n",
    "end\n",
    "\n",
    "function ai0_create(a::BattleView)::Spud\n",
    "    return generate_rand_team(nash_env, counts, 1)[1]\n",
    "end\n",
    "\n",
    "function ai1_create(a::BattleView)::Spud\n",
    "    ops = a.obs[a.obscount .> 0]\n",
    "    ebs = [eval_battle_list(ff, ops) for ff in nash_env]\n",
    "    cands = nash_env[ebs .== maximum(ebs)]\n",
    "    return rand(cands)\n",
    "end\n",
    "\n",
    "function ai2_create(a::BattleView)::Spud\n",
    "    ops = a.obs[a.obscount .> 0]\n",
    "    ebs = [eval_battle_list(ff, ops) for ff in nash_env]\n",
    "    if maximum(ebs) == length(ops)\n",
    "        cands = nash_env[ebs .== maximum(ebs)]\n",
    "        return rand(cands)\n",
    "    else\n",
    "        ebs2 = [eval_battle_list(ff, ops) for ff in lib]\n",
    "        if maximum(ebs2) > maximum(ebs)\n",
    "            cands = lib[ebs2 .== maximum(ebs2)]\n",
    "            return rand_rename(rand(cands))\n",
    "        else\n",
    "            cands = nash_env[ebs .== maximum(ebs)]\n",
    "            return rand(cands)\n",
    "        end\n",
    "    end\n",
    "end\n"
   ]
  },
  {
   "cell_type": "code",
   "execution_count": 15,
   "id": "0f1a5e08",
   "metadata": {},
   "outputs": [
    {
     "data": {
      "text/plain": [
       "ai_greedy_pick (generic function with 1 method)"
      ]
     },
     "execution_count": 15,
     "metadata": {},
     "output_type": "execute_result"
    }
   ],
   "source": [
    "# picks Spud most likely to win\n",
    "function ai_greedy_pick(a::BattleView)::Int64\n",
    "    if length(a.obs[a.obscount .> 0]) == 0\n",
    "        return rand(findall(a.owncount .> 0))\n",
    "    end\n",
    "    res = ffp2(a.own[a.owncount .> 0], a.obs[a.obscount .> 0], 100)\n",
    "    ind = findall(a.owncount .> 0)[rand(findall(res.w1 .== maximum(res.w1)))]\n",
    "    return ind\n",
    "end"
   ]
  },
  {
   "cell_type": "code",
   "execution_count": 16,
   "id": "317a4d45",
   "metadata": {},
   "outputs": [
    {
     "data": {
      "text/plain": [
       "ai_conservative_pick (generic function with 1 method)"
      ]
     },
     "execution_count": 16,
     "metadata": {},
     "output_type": "execute_result"
    }
   ],
   "source": [
    "# picks from spuds already deployed\n",
    "function ai_conservative_pick(a::BattleView)::Int64\n",
    "    own = a.own[a.owncount .> 0 .&& a.deployed]\n",
    "    owninds = findall(a.owncount .> 0 .&& a.deployed)\n",
    "    if length(own) == 0\n",
    "        # pick greedy\n",
    "        return ai_greedy_pick(a)\n",
    "    end\n",
    "    ops = a.obs[a.obscount .> 0]\n",
    "    res = ffp2(own, ops, 100)\n",
    "    ind = owninds[rand(findall(res.w1 .== maximum(res.w1)))]\n",
    "    return ind\n",
    "end"
   ]
  },
  {
   "cell_type": "code",
   "execution_count": 17,
   "id": "24524423",
   "metadata": {},
   "outputs": [
    {
     "data": {
      "text/plain": [
       "ai_myopic_pick (generic function with 1 method)"
      ]
     },
     "execution_count": 17,
     "metadata": {},
     "output_type": "execute_result"
    }
   ],
   "source": [
    "# picks Spud based on 1-round nash\n",
    "function ai_myopic_pick(a::BattleView)::Int64\n",
    "    if length(a.obs[a.obscount .> 0]) == 0\n",
    "        return rand(findall(a.owncount .> 0))\n",
    "    end\n",
    "    res = ffp2(a.own[a.owncount .> 0], a.obs[a.obscount .> 0], 100)\n",
    "    cc = cumsum(res.w1)\n",
    "    ind = sum(cc .< rand()) + 1\n",
    "    return findall(a.owncount .> 0)[ind]\n",
    "end"
   ]
  },
  {
   "cell_type": "code",
   "execution_count": 18,
   "id": "c30acb93",
   "metadata": {},
   "outputs": [
    {
     "data": {
      "text/plain": [
       "play_game (generic function with 2 methods)"
      ]
     },
     "execution_count": 18,
     "metadata": {},
     "output_type": "execute_result"
    }
   ],
   "source": [
    "creation_rounds = [5, 10, 15]\n",
    "\n",
    "function play_game(players::Array{AiPlayer}, verbose::Bool = true)::Int64\n",
    "    ai1 = players[1]\n",
    "    ai2 = players[2]\n",
    "    ais = players\n",
    "    team1 = ai1.genteam()\n",
    "    team2 = ai2.genteam()\n",
    "    game = initialize_game(team1, team2)\n",
    "    while !play_is_game_over(game)\n",
    "        # play a round\n",
    "        choice1 = ai1.pick(game[1])\n",
    "        choice2 = ai2.pick(game[2])\n",
    "        game = play_combat(game, [choice1, choice2], verbose)\n",
    "        if verbose\n",
    "            for i in 1:2\n",
    "                println(game[i].owncount)\n",
    "            end\n",
    "        end\n",
    "        if game[1].round in creation_rounds\n",
    "            for i in 1:2\n",
    "                ff = ais[i].create(game[i])\n",
    "                game = play_add_spud(game, i, ff, verbose)\n",
    "            end\n",
    "        end\n",
    "    end\n",
    "    if sum(game[1].owncount) == 0\n",
    "        if sum(game[2].owncount) == 0\n",
    "            return 0\n",
    "        else\n",
    "            return -1\n",
    "        end\n",
    "    end\n",
    "    return 1\n",
    "end"
   ]
  },
  {
   "cell_type": "code",
   "execution_count": 19,
   "id": "331f1d53",
   "metadata": {},
   "outputs": [],
   "source": [
    "# ai1 = AiPlayer(() -> generate_rand_team(nash_env, counts, 5), ai_greedy_pick, ai1_create)\n",
    "# ai2 = AiPlayer(() -> generate_rand_team(nash_env, counts, 5), ai_greedy_pick, ai1_create)\n",
    "# ais = [ai1, ai2]\n",
    "# play_game(ais, true)"
   ]
  },
  {
   "cell_type": "code",
   "execution_count": 20,
   "id": "1bcbf24e",
   "metadata": {},
   "outputs": [
    {
     "name": "stdout",
     "output_type": "stream",
     "text": [
      "  0.043699 seconds (43 allocations: 69.954 MiB, 18.11% gc time)\n"
     ]
    }
   ],
   "source": [
    "@time lib = sample_library(1.01, [999]);"
   ]
  },
  {
   "cell_type": "code",
   "execution_count": 21,
   "id": "031a3597",
   "metadata": {},
   "outputs": [
    {
     "data": {
      "text/plain": [
       "spud_to_vec (generic function with 1 method)"
      ]
     },
     "execution_count": 21,
     "metadata": {},
     "output_type": "execute_result"
    }
   ],
   "source": [
    "function filter_nondominated(as::Array{Spud})::Array{Spud}\n",
    "    df = spuds_to_df(as)\n",
    "    mat = Array{Int64}(undef, (length(as), 6))\n",
    "    mat[:, 1] = df.h\n",
    "    mat[:, 2] = df.f\n",
    "    mat[:, 3] = df.l\n",
    "    mat[:, 4] = df.p\n",
    "    mat[:, 5] = df.r\n",
    "    mat[:, 6] = df.s;\n",
    "    isDominated = zeros(Int64, length(as));\n",
    "    for i in 1:length(as)\n",
    "        v = mat[i, :]\n",
    "        bv = ones(Int64, length(as))\n",
    "        for j in 1:6\n",
    "            bv = bv .* (mat[:, j] .>= v[j])\n",
    "        end\n",
    "        if sum(bv) > 1\n",
    "            isDominated[i] = 1\n",
    "        end\n",
    "    end\n",
    "    return as[isDominated .== 0]\n",
    "end\n",
    "\n",
    "function spud_to_vec(a::Spud)::Array{Int64}\n",
    "    return [a.h, a.f, a.l, a.p, a.r, a.s]\n",
    "end"
   ]
  },
  {
   "cell_type": "markdown",
   "id": "5f97abe7",
   "metadata": {},
   "source": [
    "## Generating p.win data by calculation"
   ]
  },
  {
   "cell_type": "markdown",
   "id": "31892637",
   "metadata": {},
   "source": [
    "### Tensor-cdf computations"
   ]
  },
  {
   "cell_type": "code",
   "execution_count": 22,
   "id": "88659cba",
   "metadata": {},
   "outputs": [
    {
     "data": {
      "text/plain": [
       "integrate_cdf (generic function with 2 methods)"
      ]
     },
     "execution_count": 22,
     "metadata": {},
     "output_type": "execute_result"
    }
   ],
   "source": [
    "function computeTCDF6(tpdf::Array{Int64})::Array{Int64}\n",
    "    tcdf = 0 .* tpdf\n",
    "    for i1 in 1:size(tpdf)[1]\n",
    "        for i2 in 1:size(tpdf)[2]\n",
    "            for i3 in 1:size(tpdf)[3]\n",
    "                for i4 in 1:size(tpdf)[4]\n",
    "                    for i5 in 1:size(tpdf)[5]\n",
    "                        for i6 in 1:size(tpdf)[6]\n",
    "                            tcdf[i1,i2,i3,i4,i5,i6] = sum(tpdf[1:i1,1:i2,1:i3,1:i4,1:i5,1:i6])\n",
    "                        end\n",
    "                    end\n",
    "                end\n",
    "            end\n",
    "        end    \n",
    "    end\n",
    "    return tcdf\n",
    "end\n",
    "\n",
    "function integrate_cdf(tcdf::Array{Int64}, mins::Array{Int64}, maxes::Array{Int64}, fixed::Array{Int64} = Array{Int64}(undef, 0))::Int64\n",
    "    if sum(mins .== maxes) >0\n",
    "        return 0\n",
    "    end\n",
    "    if length(mins) == 0\n",
    "        if minimum(fixed) == 0\n",
    "            return 0\n",
    "        else\n",
    "            return tcdf[CartesianIndex(tuple(fixed...))]\n",
    "        end\n",
    "    end\n",
    "    new_min = mins[1]\n",
    "    new_max = maxes[1]\n",
    "    new_fixed1 = append!(copy(fixed), [new_min])\n",
    "    new_fixed2 = append!(copy(fixed), [new_max])\n",
    "    ub = integrate_cdf(tcdf, mins[2:end], maxes[2:end], new_fixed2)\n",
    "    if new_min <= 0\n",
    "        return ub\n",
    "    else\n",
    "        lb = integrate_cdf(tcdf, mins[2:end], maxes[2:end], new_fixed1)\n",
    "        return ub - lb\n",
    "    end\n",
    "end"
   ]
  },
  {
   "cell_type": "code",
   "execution_count": 23,
   "id": "7dbc04eb",
   "metadata": {},
   "outputs": [
    {
     "data": {
      "text/plain": [
       "integrate_cdf (generic function with 4 methods)"
      ]
     },
     "execution_count": 23,
     "metadata": {},
     "output_type": "execute_result"
    }
   ],
   "source": [
    "function computeTCDF6(tpdf::Array{Float64})::Array{Float64}\n",
    "    tcdf = 0 .* tpdf\n",
    "    for i1 in 1:size(tpdf)[1]\n",
    "        for i2 in 1:size(tpdf)[2]\n",
    "            for i3 in 1:size(tpdf)[3]\n",
    "                for i4 in 1:size(tpdf)[4]\n",
    "                    for i5 in 1:size(tpdf)[5]\n",
    "                        for i6 in 1:size(tpdf)[6]\n",
    "                            tcdf[i1,i2,i3,i4,i5,i6] = sum(tpdf[1:i1,1:i2,1:i3,1:i4,1:i5,1:i6])\n",
    "                        end\n",
    "                    end\n",
    "                end\n",
    "            end\n",
    "        end    \n",
    "    end\n",
    "    return tcdf\n",
    "end\n",
    "\n",
    "function integrate_cdf(tcdf::Array{Float64}, mins::Array{Int64}, maxes::Array{Int64}, fixed::Array{Int64} = Array{Int64}(undef, 0))::Float64\n",
    "    if sum(mins .== maxes) >0\n",
    "        return 0\n",
    "    end\n",
    "    if length(mins) == 0\n",
    "        if minimum(fixed) == 0\n",
    "            return 0\n",
    "        else\n",
    "            return tcdf[CartesianIndex(tuple(fixed...))]\n",
    "        end\n",
    "    end\n",
    "    new_min = mins[1]\n",
    "    new_max = maxes[1]\n",
    "    new_fixed1 = append!(copy(fixed), [new_min])\n",
    "    new_fixed2 = append!(copy(fixed), [new_max])\n",
    "    ub = integrate_cdf(tcdf, mins[2:end], maxes[2:end], new_fixed2)\n",
    "    if new_min <= 0\n",
    "        return ub\n",
    "    else\n",
    "        lb = integrate_cdf(tcdf, mins[2:end], maxes[2:end], new_fixed1)\n",
    "        return ub - lb\n",
    "    end\n",
    "end"
   ]
  },
  {
   "cell_type": "code",
   "execution_count": 24,
   "id": "bec4c61a",
   "metadata": {},
   "outputs": [
    {
     "name": "stdout",
     "output_type": "stream",
     "text": [
      "  0.403128 seconds (687.71 k allocations: 134.278 MiB, 7.97% gc time, 81.59% compilation time)\n"
     ]
    }
   ],
   "source": [
    "tpdf = ones(Int64, (5,5,5,5,5,5));\n",
    "@time tcdf = computeTCDF6(tpdf);"
   ]
  },
  {
   "cell_type": "markdown",
   "id": "7f43e4a6",
   "metadata": {},
   "source": [
    "### Computing p-win from a tensor-cdf"
   ]
  },
  {
   "cell_type": "code",
   "execution_count": 25,
   "id": "ec4c1ae1",
   "metadata": {},
   "outputs": [
    {
     "data": {
      "text/plain": [
       "spuds_to_mmm (generic function with 1 method)"
      ]
     },
     "execution_count": 25,
     "metadata": {},
     "output_type": "execute_result"
    }
   ],
   "source": [
    "# spuds to min-max matrix\n",
    "function spuds_to_mmm0(as::Array{Spud})::Array{Int64}\n",
    "    df = spuds_to_df(as)\n",
    "    mat = zeros(Int64, (length(as), 12))\n",
    "    mat[:, 1] = df.h\n",
    "    mat[:, 3] = df.f\n",
    "    mat[:, 5] = df.l\n",
    "    mat[:, 7] = df.p\n",
    "    mat[:, 9] = df.r\n",
    "    mat[:,11] = df.s;\n",
    "    mat[:, 2] = df.h\n",
    "    mat[:, 4] = df.f\n",
    "    mat[:, 6] = df.l\n",
    "    mat[:, 8] = df.p\n",
    "    mat[:,10] = df.r\n",
    "    mat[:,12] = df.s;\n",
    "    return mat\n",
    "end\n",
    "\n",
    "function spuds_to_mmm(as::Array{Spud})::Array{Int64}\n",
    "    mmm = spuds_to_mmm0(as);\n",
    "    for j in [6,5,4,3,2,1]\n",
    "        inds_used = zeros(Int64, size(mmm)[1]);\n",
    "        mmm2 = Array{Int64}(undef, (size(mmm)[1], 12));\n",
    "        n_mmm2 = 0;\n",
    "        while minimum(inds_used) == 0\n",
    "            ind_next = findall(inds_used .== 0)[1]\n",
    "            v = mmm[ind_next, :];\n",
    "            eq = ones(Int64, size(mmm)[1]);\n",
    "            eq = eq .* (mmm[:, (2 * j -1)] .== mmm[:, (2 * j)])\n",
    "            for k in 1:6\n",
    "                if k != j\n",
    "                    eq = eq .* (mmm[:, (2 * k -1)] .== v[(2 * k -1)])\n",
    "                    eq = eq .* (mmm[:, (2 * k)] .== v[(2 * k)])\n",
    "                end\n",
    "            end\n",
    "            mmsub = mmm[eq .== 1, :]\n",
    "            minv = minimum(mmsub[:, 2*j])\n",
    "            maxv = maximum(mmsub[:, 2*j])\n",
    "            inds_used[eq .== 1] .= 1;\n",
    "            if size(mmsub)[1] == (maxv - minv + 1)\n",
    "                vnew = copy(v)\n",
    "                vnew[2 * j - 1] = minv\n",
    "                vnew[2 * j] = maxv\n",
    "                n_mmm2 += 1\n",
    "                mmm2[n_mmm2, :] = vnew\n",
    "            else\n",
    "                nsub = size(mmsub)[1]\n",
    "                mmm2[(n_mmm2+1):(n_mmm2+nsub), :] = mmsub\n",
    "                n_mmm2 += nsub\n",
    "            end\n",
    "        end\n",
    "        mmm2 = mmm2[1:n_mmm2, :]\n",
    "        mmm = mmm2;\n",
    "    end\n",
    "    return mmm\n",
    "end"
   ]
  },
  {
   "cell_type": "code",
   "execution_count": 26,
   "id": "aee59460",
   "metadata": {},
   "outputs": [],
   "source": [
    "n_init = 10000\n",
    "# generate a library where MNV = 1 and MXV = 3\n",
    "ffs = Array{Spud}(undef, n_init)\n",
    "ff_i = 0\n",
    "hrange = 1:3\n",
    "frange = 1:3\n",
    "lrange = 1:3\n",
    "prange = 1:3\n",
    "rrange = 1:3\n",
    "srange = 1:3\n",
    "a1 = 999\n",
    "for h in hrange\n",
    "    for f in frange\n",
    "        for l in lrange\n",
    "            for p in prange\n",
    "                for r in rrange\n",
    "                    for s in srange\n",
    "                        ff = Spud(\"\", h,f,l,p,r,s,a1)\n",
    "                        ff_i += 1\n",
    "                        ffs[ff_i] = ff\n",
    "                    end\n",
    "                end                        \n",
    "            end                        \n",
    "        end\n",
    "    end\n",
    "end\n",
    "ffs = ffs[1:ff_i]\n",
    "libmax3 = ffs;"
   ]
  },
  {
   "cell_type": "code",
   "execution_count": 27,
   "id": "3f5db452",
   "metadata": {},
   "outputs": [],
   "source": [
    "n_init = 10000\n",
    "# generate a library where MNV = 1 and MXV = 3 (except for H, F where MXV = 4)\n",
    "ffs = Array{Spud}(undef, n_init)\n",
    "ff_i = 0\n",
    "hrange = 1:4\n",
    "frange = 1:4\n",
    "lrange = 1:3\n",
    "prange = 1:3\n",
    "rrange = 1:3\n",
    "srange = 1:3\n",
    "a1 = 999\n",
    "for h in hrange\n",
    "    for f in frange\n",
    "        for l in lrange\n",
    "            for p in prange\n",
    "                for r in rrange\n",
    "                    for s in srange\n",
    "                        ff = Spud(\"\", h,f,l,p,r,s,a1)\n",
    "                        ff_i += 1\n",
    "                        ffs[ff_i] = ff\n",
    "                    end\n",
    "                end                        \n",
    "            end                        \n",
    "        end\n",
    "    end\n",
    "end\n",
    "ffs = ffs[1:ff_i]\n",
    "libmax4 = ffs;"
   ]
  },
  {
   "cell_type": "code",
   "execution_count": 28,
   "id": "867b94fc",
   "metadata": {},
   "outputs": [],
   "source": [
    "n_init = 10000\n",
    "# generate a library where MNV = 1 and MXV = 3 (except for H, F where MXV = 5)\n",
    "ffs = Array{Spud}(undef, n_init)\n",
    "ff_i = 0\n",
    "hrange = 1:5\n",
    "frange = 1:5\n",
    "lrange = 1:3\n",
    "prange = 1:3\n",
    "rrange = 1:3\n",
    "srange = 1:3\n",
    "a1 = 999\n",
    "for h in hrange\n",
    "    for f in frange\n",
    "        for l in lrange\n",
    "            for p in prange\n",
    "                for r in rrange\n",
    "                    for s in srange\n",
    "                        ff = Spud(\"\", h,f,l,p,r,s,a1)\n",
    "                        ff_i += 1\n",
    "                        ffs[ff_i] = ff\n",
    "                    end\n",
    "                end                        \n",
    "            end                        \n",
    "        end\n",
    "    end\n",
    "end\n",
    "ffs = ffs[1:ff_i]\n",
    "libmax5 = ffs;"
   ]
  },
  {
   "cell_type": "code",
   "execution_count": 29,
   "id": "76100dd3",
   "metadata": {},
   "outputs": [],
   "source": [
    "## case 1. H = F\n",
    "ff = Spud(\"\",2,2,2,2,2,2,999)\n",
    "evs = [eval_battle(ff, gg) for gg in libmax3];\n",
    "i_beat = libmax3[evs .== 1]\n",
    "i_tie = libmax3[evs .== 0]\n",
    "length(i_beat)\n",
    "mmm_h_eq_f = spuds_to_mmm(i_beat);"
   ]
  },
  {
   "cell_type": "code",
   "execution_count": 30,
   "id": "39d572ed",
   "metadata": {},
   "outputs": [],
   "source": [
    "## case 2. H = F+1\n",
    "ff = Spud(\"\",3,2,2,2,2,2,999)\n",
    "evs = [eval_battle(ff, gg) for gg in libmax4];\n",
    "i_beat = libmax4[evs .== 1]\n",
    "i_tie = libmax4[evs .== 0]\n",
    "length(i_beat)\n",
    "mmm_h_gt_f = spuds_to_mmm(i_beat);"
   ]
  },
  {
   "cell_type": "code",
   "execution_count": 31,
   "id": "07060394",
   "metadata": {},
   "outputs": [],
   "source": [
    "## case 3. H = F-1\n",
    "ff = Spud(\"\",2,3,2,2,2,2,999)\n",
    "evs = [eval_battle(ff, gg) for gg in libmax4];\n",
    "i_beat = libmax4[evs .== 1]\n",
    "i_tie = libmax4[evs .== 0]\n",
    "length(i_beat)\n",
    "mmm_h_lt_f = spuds_to_mmm(i_beat);"
   ]
  },
  {
   "cell_type": "code",
   "execution_count": 32,
   "id": "f9b1111c",
   "metadata": {},
   "outputs": [],
   "source": [
    "## case 4. H > F+1\n",
    "ff = Spud(\"\",4,2,2,2,2,2,999)\n",
    "evs = [eval_battle(ff, gg) for gg in libmax5];\n",
    "i_beat = libmax5[evs .== 1]\n",
    "i_tie = libmax5[evs .== 0]\n",
    "length(i_beat)\n",
    "mmm_h_mg_f = spuds_to_mmm(i_beat);"
   ]
  },
  {
   "cell_type": "code",
   "execution_count": 33,
   "id": "11590a02",
   "metadata": {},
   "outputs": [],
   "source": [
    "## case 5. H < F-1\n",
    "ff = Spud(\"\",2,4,2,2,2,2,999)\n",
    "evs = [eval_battle(ff, gg) for gg in libmax5];\n",
    "i_beat = libmax5[evs .== 1]\n",
    "i_tie = libmax5[evs .== 0]\n",
    "length(i_beat)\n",
    "mmm_h_ml_f = spuds_to_mmm(i_beat);"
   ]
  },
  {
   "cell_type": "code",
   "execution_count": 34,
   "id": "42b4bf87",
   "metadata": {},
   "outputs": [
    {
     "data": {
      "text/plain": [
       "total_evs_vanilla_vs_vanilla (generic function with 2 methods)"
      ]
     },
     "execution_count": 34,
     "metadata": {},
     "output_type": "execute_result"
    }
   ],
   "source": [
    "function get_win_regions_vanilla_vs_vanilla(a::Spud)::Tuple{Array{Int64}, Array{Int64}}\n",
    "    v = spud_to_vec(a)\n",
    "    thres_s = Array{Array{Int64}}(undef, 6)\n",
    "\n",
    "    ## case 1. H = F\n",
    "    if v[1]==v[2]\n",
    "        mmm = mmm_h_eq_f\n",
    "        hf_thres = [-1, v[1]-1, v[1], MXV+1]    \n",
    "    end\n",
    "\n",
    "    ## case 2. H = F+1\n",
    "    if v[1]==v[2]+1\n",
    "        mmm = mmm_h_gt_f\n",
    "        hf_thres = [-1, v[2]-1, v[2], v[1], MXV+1]\n",
    "    end\n",
    "\n",
    "    ## case 3. H = F-1\n",
    "    if v[1]==v[2]-1\n",
    "        mmm = mmm_h_lt_f\n",
    "        hf_thres = [-1, v[1]-1, v[1], v[2], MXV+1]\n",
    "    end\n",
    "\n",
    "    ## case 4. H > F+1\n",
    "    if v[1]> v[2]+1\n",
    "        mmm = mmm_h_mg_f\n",
    "        hf_thres = [-1, v[2]-1, v[2], v[1]-1, v[1], MXV+1]\n",
    "    end\n",
    "\n",
    "    ## case 5. H < F-1\n",
    "    if v[1]< v[2]-1\n",
    "        mmm = mmm_h_ml_f\n",
    "        hf_thres = [-1, v[1]-1, v[1], v[2]-1, v[2], MXV+1]\n",
    "    end\n",
    "\n",
    "\n",
    "    thres_s[1] = hf_thres\n",
    "    thres_s[2] = hf_thres\n",
    "    for ii in 3:6\n",
    "        thres_s[ii] = [-1, v[ii]-1, v[ii], MXV+1]\n",
    "    end\n",
    "    mins_raw = Array{Array{Int64}}(undef, 6)\n",
    "    maxes_raw = Array{Array{Int64}}(undef, 6)\n",
    "    inds_min = [1,3,5,7,9,11]\n",
    "    inds_max = [2,4,6,8,10,12]\n",
    "    for ii in 1:6\n",
    "        mins_raw[ii] = thres_s[ii][mmm[:, inds_min[ii]]]\n",
    "        maxes_raw[ii] = thres_s[ii][mmm[:, inds_max[ii]] .+ 1]\n",
    "    end\n",
    "\n",
    "    mins = reduce(hcat, mins_raw);\n",
    "    maxes = reduce(hcat, maxes_raw);\n",
    "    mins[mins .< 0] .= 0;\n",
    "    mins[mins .> MXV] .= MXV;\n",
    "    maxes[maxes .< 0] .= 0;\n",
    "    maxes[maxes .> MXV] .= MXV;\n",
    "    return (mins, maxes)\n",
    "end\n",
    "\n",
    "function total_evs_vanilla_vs_vanilla(tcdf::Array{Int64}, a::Spud)::Int64\n",
    "    res = get_win_regions_vanilla_vs_vanilla(a)\n",
    "    mins = res[1]\n",
    "    maxes = res[2]\n",
    "    sums = [integrate_cdf(tcdf, mins[ii, :], maxes[ii, :]) for ii in 1:size(mins)[1]];\n",
    "    return (2 * sum(sums) - length(lib) + 1)\n",
    "end\n",
    "\n",
    "function total_evs_vanilla_vs_vanilla(tcdf::Array{Float64}, a::Spud)::Float64\n",
    "    res = get_win_regions_vanilla_vs_vanilla(a)\n",
    "    mins = res[1]\n",
    "    maxes = res[2]\n",
    "    sums = [integrate_cdf(tcdf, mins[ii, :], maxes[ii, :]) for ii in 1:size(mins)[1]];\n",
    "    return (2 * sum(sums) - length(lib) + 1)\n",
    "end\n"
   ]
  },
  {
   "cell_type": "markdown",
   "id": "8daf6394",
   "metadata": {},
   "source": [
    "### Unit-testing"
   ]
  },
  {
   "cell_type": "code",
   "execution_count": 37,
   "id": "f26bcb60",
   "metadata": {},
   "outputs": [],
   "source": [
    "for iiiii in 1:10\n",
    "    a = rand(lib)\n",
    "    v = spud_to_vec(a)\n",
    "    evs = [eval_battle(a, gg) for gg in lib];\n",
    "    i_beat = lib[evs .== 1];\n",
    "    i_lose = lib[evs .== -1];\n",
    "    #mean(evs)\n",
    "    res = get_win_regions_vanilla_vs_vanilla(a)\n",
    "    mins = res[1]\n",
    "    maxes = res[2]\n",
    "    for iiii in 1:1000\n",
    "        v2 = spud_to_vec(rand(i_lose))\n",
    "        min_cond = reduce((x,y) -> x .&& y, [v2[ii] .> mins[:,ii] for ii in 1:6])\n",
    "        max_cond = reduce((x,y) -> x .&& y, [v2[ii] .<= maxes[:,ii] for ii in 1:6])\n",
    "        if sum(min_cond .&& max_cond) != 0\n",
    "            println(v2)\n",
    "        end\n",
    "    end\n",
    "    for iiii in 1:1000\n",
    "        v2 = spud_to_vec(rand(i_beat))\n",
    "        min_cond = reduce((x,y) -> x .&& y, [v2[ii] .> mins[:,ii] for ii in 1:6])\n",
    "        max_cond = reduce((x,y) -> x .&& y, [v2[ii] .<= maxes[:,ii] for ii in 1:6])\n",
    "        if sum(min_cond .&& max_cond) != 1\n",
    "            println(v2)\n",
    "        end\n",
    "    end\n",
    "end"
   ]
  },
  {
   "cell_type": "code",
   "execution_count": 38,
   "id": "05a9a856",
   "metadata": {},
   "outputs": [],
   "source": [
    "for iiiii in 1:10\n",
    "    a = rand(lib)\n",
    "    evs = [eval_battle(a, gg) for gg in lib];\n",
    "    if sum(evs) != total_evs_vanilla_vs_vanilla(tcdf, a)\n",
    "        println(a)\n",
    "    end\n",
    "end"
   ]
  },
  {
   "cell_type": "markdown",
   "id": "2b71174c",
   "metadata": {},
   "source": [
    "### generate p.win data and iterate"
   ]
  },
  {
   "cell_type": "code",
   "execution_count": 39,
   "id": "745230d5",
   "metadata": {},
   "outputs": [
    {
     "name": "stdout",
     "output_type": "stream",
     "text": [
      "  0.053570 seconds (32.52 k allocations: 90.364 MiB, 23.63% gc time)\n"
     ]
    }
   ],
   "source": [
    "tpdf = ones(Int64, (5,5,5,5,5,5));\n",
    "@time tcdf = computeTCDF6(tpdf);"
   ]
  },
  {
   "cell_type": "code",
   "execution_count": 40,
   "id": "6c71bfca",
   "metadata": {},
   "outputs": [
    {
     "name": "stdout",
     "output_type": "stream",
     "text": [
      "  9.093165 seconds (137.17 M allocations: 9.503 GiB, 14.54% gc time, 2.17% compilation time)\n"
     ]
    }
   ],
   "source": [
    "@time scores0 = [total_evs_vanilla_vs_vanilla(tcdf, a) for a in lib]./length(lib);"
   ]
  },
  {
   "cell_type": "code",
   "execution_count": 42,
   "id": "d31f1f0e",
   "metadata": {},
   "outputs": [],
   "source": [
    "#@time [eval_battle_list(a, lib) for a in lib]"
   ]
  },
  {
   "cell_type": "code",
   "execution_count": 43,
   "id": "d2c77dce",
   "metadata": {},
   "outputs": [
    {
     "data": {
      "text/html": [
       "<div><div style = \"float: left;\"><span>10×9 DataFrame</span></div><div style = \"clear: both;\"></div></div><div class = \"data-frame\" style = \"overflow-x: scroll;\"><table class = \"data-frame\" style = \"margin-bottom: 6px;\"><thead><tr class = \"header\"><th class = \"rowNumber\" style = \"font-weight: bold; text-align: right;\">Row</th><th style = \"text-align: left;\">name</th><th style = \"text-align: left;\">h</th><th style = \"text-align: left;\">f</th><th style = \"text-align: left;\">l</th><th style = \"text-align: left;\">p</th><th style = \"text-align: left;\">r</th><th style = \"text-align: left;\">s</th><th style = \"text-align: left;\">a1</th><th style = \"text-align: left;\">ev</th></tr><tr class = \"subheader headerLastRow\"><th class = \"rowNumber\" style = \"font-weight: bold; text-align: right;\"></th><th title = \"String\" style = \"text-align: left;\">String</th><th title = \"Int64\" style = \"text-align: left;\">Int64</th><th title = \"Int64\" style = \"text-align: left;\">Int64</th><th title = \"Int64\" style = \"text-align: left;\">Int64</th><th title = \"Int64\" style = \"text-align: left;\">Int64</th><th title = \"Int64\" style = \"text-align: left;\">Int64</th><th title = \"Int64\" style = \"text-align: left;\">Int64</th><th title = \"Int64\" style = \"text-align: left;\">Int64</th><th title = \"Float64\" style = \"text-align: left;\">Float64</th></tr></thead><tbody><tr><td class = \"rowNumber\" style = \"font-weight: bold; text-align: right;\">1</td><td style = \"text-align: left;\"></td><td style = \"text-align: right;\">4</td><td style = \"text-align: right;\">5</td><td style = \"text-align: right;\">2</td><td style = \"text-align: right;\">5</td><td style = \"text-align: right;\">2</td><td style = \"text-align: right;\">2</td><td style = \"text-align: right;\">999</td><td style = \"text-align: right;\">0.481024</td></tr><tr><td class = \"rowNumber\" style = \"font-weight: bold; text-align: right;\">2</td><td style = \"text-align: left;\"></td><td style = \"text-align: right;\">2</td><td style = \"text-align: right;\">1</td><td style = \"text-align: right;\">1</td><td style = \"text-align: right;\">2</td><td style = \"text-align: right;\">4</td><td style = \"text-align: right;\">3</td><td style = \"text-align: right;\">999</td><td style = \"text-align: right;\">-0.767488</td></tr><tr><td class = \"rowNumber\" style = \"font-weight: bold; text-align: right;\">3</td><td style = \"text-align: left;\"></td><td style = \"text-align: right;\">2</td><td style = \"text-align: right;\">3</td><td style = \"text-align: right;\">5</td><td style = \"text-align: right;\">2</td><td style = \"text-align: right;\">1</td><td style = \"text-align: right;\">3</td><td style = \"text-align: right;\">999</td><td style = \"text-align: right;\">-0.31552</td></tr><tr><td class = \"rowNumber\" style = \"font-weight: bold; text-align: right;\">4</td><td style = \"text-align: left;\"></td><td style = \"text-align: right;\">4</td><td style = \"text-align: right;\">5</td><td style = \"text-align: right;\">5</td><td style = \"text-align: right;\">1</td><td style = \"text-align: right;\">2</td><td style = \"text-align: right;\">3</td><td style = \"text-align: right;\">999</td><td style = \"text-align: right;\">0.461312</td></tr><tr><td class = \"rowNumber\" style = \"font-weight: bold; text-align: right;\">5</td><td style = \"text-align: left;\"></td><td style = \"text-align: right;\">5</td><td style = \"text-align: right;\">3</td><td style = \"text-align: right;\">1</td><td style = \"text-align: right;\">2</td><td style = \"text-align: right;\">5</td><td style = \"text-align: right;\">4</td><td style = \"text-align: right;\">999</td><td style = \"text-align: right;\">0.200192</td></tr><tr><td class = \"rowNumber\" style = \"font-weight: bold; text-align: right;\">6</td><td style = \"text-align: left;\"></td><td style = \"text-align: right;\">3</td><td style = \"text-align: right;\">3</td><td style = \"text-align: right;\">2</td><td style = \"text-align: right;\">5</td><td style = \"text-align: right;\">4</td><td style = \"text-align: right;\">4</td><td style = \"text-align: right;\">999</td><td style = \"text-align: right;\">0.217984</td></tr><tr><td class = \"rowNumber\" style = \"font-weight: bold; text-align: right;\">7</td><td style = \"text-align: left;\"></td><td style = \"text-align: right;\">2</td><td style = \"text-align: right;\">5</td><td style = \"text-align: right;\">5</td><td style = \"text-align: right;\">5</td><td style = \"text-align: right;\">1</td><td style = \"text-align: right;\">3</td><td style = \"text-align: right;\">999</td><td style = \"text-align: right;\">0.279936</td></tr><tr><td class = \"rowNumber\" style = \"font-weight: bold; text-align: right;\">8</td><td style = \"text-align: left;\"></td><td style = \"text-align: right;\">3</td><td style = \"text-align: right;\">2</td><td style = \"text-align: right;\">2</td><td style = \"text-align: right;\">2</td><td style = \"text-align: right;\">4</td><td style = \"text-align: right;\">3</td><td style = \"text-align: right;\">999</td><td style = \"text-align: right;\">-0.317056</td></tr><tr><td class = \"rowNumber\" style = \"font-weight: bold; text-align: right;\">9</td><td style = \"text-align: left;\"></td><td style = \"text-align: right;\">5</td><td style = \"text-align: right;\">2</td><td style = \"text-align: right;\">4</td><td style = \"text-align: right;\">1</td><td style = \"text-align: right;\">4</td><td style = \"text-align: right;\">3</td><td style = \"text-align: right;\">999</td><td style = \"text-align: right;\">0.417536</td></tr><tr><td class = \"rowNumber\" style = \"font-weight: bold; text-align: right;\">10</td><td style = \"text-align: left;\"></td><td style = \"text-align: right;\">2</td><td style = \"text-align: right;\">5</td><td style = \"text-align: right;\">2</td><td style = \"text-align: right;\">3</td><td style = \"text-align: right;\">3</td><td style = \"text-align: right;\">2</td><td style = \"text-align: right;\">999</td><td style = \"text-align: right;\">-0.018304</td></tr></tbody></table></div>"
      ],
      "text/latex": [
       "\\begin{tabular}{r|ccccccccc}\n",
       "\t& name & h & f & l & p & r & s & a1 & ev\\\\\n",
       "\t\\hline\n",
       "\t& String & Int64 & Int64 & Int64 & Int64 & Int64 & Int64 & Int64 & Float64\\\\\n",
       "\t\\hline\n",
       "\t1 &  & 4 & 5 & 2 & 5 & 2 & 2 & 999 & 0.481024 \\\\\n",
       "\t2 &  & 2 & 1 & 1 & 2 & 4 & 3 & 999 & -0.767488 \\\\\n",
       "\t3 &  & 2 & 3 & 5 & 2 & 1 & 3 & 999 & -0.31552 \\\\\n",
       "\t4 &  & 4 & 5 & 5 & 1 & 2 & 3 & 999 & 0.461312 \\\\\n",
       "\t5 &  & 5 & 3 & 1 & 2 & 5 & 4 & 999 & 0.200192 \\\\\n",
       "\t6 &  & 3 & 3 & 2 & 5 & 4 & 4 & 999 & 0.217984 \\\\\n",
       "\t7 &  & 2 & 5 & 5 & 5 & 1 & 3 & 999 & 0.279936 \\\\\n",
       "\t8 &  & 3 & 2 & 2 & 2 & 4 & 3 & 999 & -0.317056 \\\\\n",
       "\t9 &  & 5 & 2 & 4 & 1 & 4 & 3 & 999 & 0.417536 \\\\\n",
       "\t10 &  & 2 & 5 & 2 & 3 & 3 & 2 & 999 & -0.018304 \\\\\n",
       "\\end{tabular}\n"
      ],
      "text/plain": [
       "\u001b[1m10×9 DataFrame\u001b[0m\n",
       "\u001b[1m Row \u001b[0m│\u001b[1m name   \u001b[0m\u001b[1m h     \u001b[0m\u001b[1m f     \u001b[0m\u001b[1m l     \u001b[0m\u001b[1m p     \u001b[0m\u001b[1m r     \u001b[0m\u001b[1m s     \u001b[0m\u001b[1m a1    \u001b[0m\u001b[1m ev        \u001b[0m\n",
       "     │\u001b[90m String \u001b[0m\u001b[90m Int64 \u001b[0m\u001b[90m Int64 \u001b[0m\u001b[90m Int64 \u001b[0m\u001b[90m Int64 \u001b[0m\u001b[90m Int64 \u001b[0m\u001b[90m Int64 \u001b[0m\u001b[90m Int64 \u001b[0m\u001b[90m Float64   \u001b[0m\n",
       "─────┼────────────────────────────────────────────────────────────────────\n",
       "   1 │             4      5      2      5      2      2    999   0.481024\n",
       "   2 │             2      1      1      2      4      3    999  -0.767488\n",
       "   3 │             2      3      5      2      1      3    999  -0.31552\n",
       "   4 │             4      5      5      1      2      3    999   0.461312\n",
       "   5 │             5      3      1      2      5      4    999   0.200192\n",
       "   6 │             3      3      2      5      4      4    999   0.217984\n",
       "   7 │             2      5      5      5      1      3    999   0.279936\n",
       "   8 │             3      2      2      2      4      3    999  -0.317056\n",
       "   9 │             5      2      4      1      4      3    999   0.417536\n",
       "  10 │             2      5      2      3      3      2    999  -0.018304"
      ]
     },
     "execution_count": 43,
     "metadata": {},
     "output_type": "execute_result"
    }
   ],
   "source": [
    "iis = [rand(1:length(lib)) for i in 1:10]\n",
    "df = spuds_to_df(lib[iis])\n",
    "df[:, :ev] = scores0[iis]\n",
    "df"
   ]
  },
  {
   "cell_type": "code",
   "execution_count": 44,
   "id": "f3ab59fb",
   "metadata": {},
   "outputs": [
    {
     "name": "stdout",
     "output_type": "stream",
     "text": [
      "0.4192\n",
      "-0.4192\n"
     ]
    }
   ],
   "source": [
    "wts = map(x -> exp(-abs(x)/10), scores0);\n",
    "wts = wts./sum(wts) .* length(lib);\n",
    "println(maximum(scores0[wts.>1]))\n",
    "println(minimum(scores0[wts.>1]))\n"
   ]
  },
  {
   "cell_type": "markdown",
   "id": "b28e1ba0",
   "metadata": {},
   "source": [
    "#### iterations"
   ]
  },
  {
   "cell_type": "code",
   "execution_count": 46,
   "id": "4bc1ede0",
   "metadata": {},
   "outputs": [
    {
     "name": "stdout",
     "output_type": "stream",
     "text": [
      "  0.298388 seconds (383.09 k allocations: 113.570 MiB, 7.59% gc time, 79.88% compilation time)\n"
     ]
    }
   ],
   "source": [
    "tpdf = permutedims(reshape(wts, (5,5,5,5,5,5)), (6,5,4,3,2,1));\n",
    "@time tcdf = computeTCDF6(tpdf);"
   ]
  },
  {
   "cell_type": "code",
   "execution_count": 47,
   "id": "0c1ff4a3",
   "metadata": {},
   "outputs": [
    {
     "name": "stdout",
     "output_type": "stream",
     "text": [
      "  8.622410 seconds (139.43 M allocations: 9.532 GiB, 14.02% gc time, 3.15% compilation time)\n",
      "0.4230389112567478\n",
      "-0.423123163402322\n"
     ]
    }
   ],
   "source": [
    "@time scores1 = [total_evs_vanilla_vs_vanilla(tcdf, a) for a in lib]./length(lib);\n",
    "wts = map(x -> exp(-abs(x)/10), scores1);\n",
    "wts = wts./sum(wts) .* length(lib);\n",
    "println(maximum(scores1[wts.>1]))\n",
    "println(minimum(scores1[wts.>1]))"
   ]
  },
  {
   "cell_type": "code",
   "execution_count": 49,
   "id": "d3624826",
   "metadata": {},
   "outputs": [
    {
     "name": "stdout",
     "output_type": "stream",
     "text": [
      "  0.053992 seconds (32.52 k allocations: 90.364 MiB, 31.22% gc time)\n",
      "  8.409212 seconds (139.34 M allocations: 9.526 GiB, 13.76% gc time, 1.10% compilation time)\n",
      "0.42303477404356327\n",
      "-0.42313312124047814\n"
     ]
    }
   ],
   "source": [
    "tpdf = permutedims(reshape(wts, (5,5,5,5,5,5)), (6,5,4,3,2,1));\n",
    "@time tcdf = computeTCDF6(tpdf);\n",
    "@time scores2 = [total_evs_vanilla_vs_vanilla(tcdf, a) for a in lib]./length(lib);\n",
    "wts = map(x -> exp(-abs(x)/10), scores2);\n",
    "wts = wts./sum(wts) .* length(lib);\n",
    "println(maximum(scores2[wts.>1]))\n",
    "println(minimum(scores2[wts.>1]))"
   ]
  },
  {
   "cell_type": "code",
   "execution_count": 83,
   "id": "51794523",
   "metadata": {},
   "outputs": [],
   "source": [
    "allscores = [scores0,scores1,scores2]\n",
    "scores = scores2;"
   ]
  },
  {
   "cell_type": "code",
   "execution_count": 108,
   "id": "8277e031",
   "metadata": {},
   "outputs": [],
   "source": [
    "allscores = [scores0]\n",
    "scores = scores0;"
   ]
  },
  {
   "cell_type": "code",
   "execution_count": 114,
   "id": "44cffacd",
   "metadata": {},
   "outputs": [
    {
     "name": "stdout",
     "output_type": "stream",
     "text": [
      "  8.285339 seconds (139.34 M allocations: 9.526 GiB, 13.73% gc time, 1.10% compilation time)\n",
      "2031\n",
      "0.1633538773250624\n",
      "-0.16337877041531285\n"
     ]
    }
   ],
   "source": [
    "wts = map(x -> exp(-20*abs(x)), scores)\n",
    "wts = wts./sum(wts) .* length(lib);\n",
    "tpdf = permutedims(reshape(wts, (5,5,5,5,5,5)), (6,5,4,3,2,1));\n",
    "tcdf = computeTCDF6(tpdf);\n",
    "@time scores = [total_evs_vanilla_vs_vanilla(tcdf, a) for a in lib]./length(lib);\n",
    "append!(allscores, [scores]);\n",
    "println(sum(wts .> 1))\n",
    "println(maximum(scores[wts.>1]))\n",
    "println(minimum(scores[wts.>1]))"
   ]
  },
  {
   "cell_type": "code",
   "execution_count": 115,
   "id": "8d49e633",
   "metadata": {},
   "outputs": [],
   "source": [
    "allscores = [scores0]\n",
    "scores = scores0;"
   ]
  },
  {
   "cell_type": "code",
   "execution_count": 127,
   "id": "d05965e5",
   "metadata": {},
   "outputs": [
    {
     "name": "stdout",
     "output_type": "stream",
     "text": [
      "  8.385566 seconds (139.34 M allocations: 9.526 GiB, 13.94% gc time, 1.13% compilation time)\n",
      "1192\n",
      "0.13271832627480268\n",
      "-0.14332032218950183\n"
     ]
    }
   ],
   "source": [
    "wts = map(x -> exp(-40*abs(x)), scores)\n",
    "wts = wts./sum(wts) .* length(lib);\n",
    "tpdf = permutedims(reshape(wts, (5,5,5,5,5,5)), (6,5,4,3,2,1));\n",
    "tcdf = computeTCDF6(tpdf);\n",
    "@time scores = [total_evs_vanilla_vs_vanilla(tcdf, a) for a in lib]./length(lib);\n",
    "append!(allscores, [scores]);\n",
    "println(sum(wts .> 1))\n",
    "println(maximum(scores[wts.>1]))\n",
    "println(minimum(scores[wts.>1]))"
   ]
  },
  {
   "cell_type": "code",
   "execution_count": 131,
   "id": "88903083",
   "metadata": {},
   "outputs": [
    {
     "name": "stdout",
     "output_type": "stream",
     "text": [
      "\u001b[1m19×10 DataFrame\u001b[0m\n",
      "\u001b[1m Row \u001b[0m│\u001b[1m name   \u001b[0m\u001b[1m h     \u001b[0m\u001b[1m f     \u001b[0m\u001b[1m l     \u001b[0m\u001b[1m p     \u001b[0m\u001b[1m r     \u001b[0m\u001b[1m s     \u001b[0m\u001b[1m a1    \u001b[0m\u001b[1m ev          \u001b[0m\u001b[1m w         \u001b[0m\n",
      "     │\u001b[90m String \u001b[0m\u001b[90m Int64 \u001b[0m\u001b[90m Int64 \u001b[0m\u001b[90m Int64 \u001b[0m\u001b[90m Int64 \u001b[0m\u001b[90m Int64 \u001b[0m\u001b[90m Int64 \u001b[0m\u001b[90m Int64 \u001b[0m\u001b[90m Float64     \u001b[0m\u001b[90m Float64   \u001b[0m\n",
      "─────┼─────────────────────────────────────────────────────────────────────────────────\n",
      "   1 │             3      3      3      4      1      4    999   0.175121     0.11746\n",
      "   2 │             2      4      2      3      4      3    999   0.070811    10.3421\n",
      "   3 │             4      1      3      1      4      5    999   0.026047     5.71299\n",
      "   4 │             5      1      4      4      1      1    999   0.0983966    0.438942\n",
      "   5 │             3      4      1      2      4      3    999   0.082014     4.79225\n",
      "   6 │             2      2      4      4      3      5    999   0.093843     0.947305\n",
      "   7 │             4      2      4      1      3      1    999  -0.121356     1.65239\n",
      "   8 │             1      3      1      3      4      5    999  -0.042932     4.17137\n",
      "   9 │             4      5      2      1      1      1    999   0.0432768    6.85232\n",
      "  10 │             1      4      1      3      3      5    999   0.163617     0.234639\n",
      "  11 │             3      3      1      3      5      3    999  -0.0714486    0.720803\n",
      "  12 │             4      1      3      2      3      4    999  -0.151735     0.186927\n",
      "  13 │             3      5      4      2      3      1    999  -0.00627656  42.1638\n",
      "  14 │             1      5      5      3      4      2    999   0.0776889    4.2216\n",
      "  15 │             4      3      2      4      4      2    999   0.106182     1.10216\n",
      "  16 │             4      4      3      1      1      1    999  -0.110032     0.724482\n",
      "  17 │             2      5      5      1      2      4    999  -0.0838557    3.23787\n",
      "  18 │             3      3      1      2      3      5    999   0.00439335  40.6512\n",
      "  19 │             3      5      1      1      5      2    999   0.0520947    5.99039"
     ]
    }
   ],
   "source": [
    "iis = [rand(1:length(lib)) for i in 1:100]\n",
    "df = spuds_to_df(lib[iis])\n",
    "df[:, :ev] = scores[iis]\n",
    "df[:,:w] = wts[iis]\n",
    "print(df[df.w .> 0.1, :])"
   ]
  },
  {
   "cell_type": "code",
   "execution_count": null,
   "id": "bf4b96d1",
   "metadata": {},
   "outputs": [],
   "source": []
  }
 ],
 "metadata": {
  "kernelspec": {
   "display_name": "Julia 1.9.3",
   "language": "julia",
   "name": "julia-1.9"
  },
  "language_info": {
   "file_extension": ".jl",
   "mimetype": "application/julia",
   "name": "julia",
   "version": "1.9.3"
  }
 },
 "nbformat": 4,
 "nbformat_minor": 5
}

{
 "cells": [
  {
   "cell_type": "markdown",
   "id": "052be005",
   "metadata": {},
   "source": [
    "Adding single abilities to Spuds"
   ]
  },
  {
   "cell_type": "code",
   "execution_count": 1,
   "id": "494818e8",
   "metadata": {},
   "outputs": [],
   "source": [
    "using Random\n",
    "using DataFrames\n",
    "using CSV\n",
    "using DelimitedFiles\n",
    "using Statistics\n",
    "using Printf\n",
    "using LinearAlgebra\n",
    "using Dates"
   ]
  },
  {
   "cell_type": "code",
   "execution_count": 2,
   "id": "1e1008a1",
   "metadata": {},
   "outputs": [
    {
     "data": {
      "text/plain": [
       "c_forcedability (generic function with 1 method)"
      ]
     },
     "execution_count": 2,
     "metadata": {},
     "output_type": "execute_result"
    }
   ],
   "source": [
    "struct Spud\n",
    "    name::String\n",
    "    h::Int64\n",
    "    f::Int64\n",
    "    l::Int64\n",
    "    p::Int64\n",
    "    r::Int64\n",
    "    s::Int64\n",
    "    a1::Int64\n",
    "end\n",
    "\n",
    "\n",
    "const idx_your_h = 1\n",
    "const idx_your_f = 2\n",
    "const idx_your_l = 3\n",
    "const idx_your_p = 4\n",
    "const idx_your_r = 5\n",
    "const idx_your_s = 6\n",
    "const idx_opp_h = 7\n",
    "const idx_opp_f = 8\n",
    "const idx_opp_l = 9\n",
    "const idx_opp_p = 10\n",
    "const idx_opp_r = 11\n",
    "const idx_opp_s = 12\n",
    "\n",
    "const ab_cond_min = 1\n",
    "const ab_cond_max = 2\n",
    "const ab_cond_number_min_opp = 3 # number of min stats for opponent is greater than\n",
    "const ab_cond_number_max_opp = 4 # number of max stats for opponent is greater than\n",
    "const ab_cond_diff_min = 5 # difference between stat1 and stat2 is at least \n",
    "const ab_cond_ratio_min = 6 # ratio of stat1 and stat2 at least\n",
    "\n",
    "const ab_fx_modstat = 1 # modify stat1\n",
    "const ab_fx_copystat = 2 # copy value of stat2 to stat1\n",
    "const ab_fx_swapstat = 3 # switch values of stat2 and stat2\n",
    "\n",
    "# r_h required h\n",
    "# m_h static h modifier\n",
    "struct ForcedAbility\n",
    "    r_h::Int64\n",
    "    r_f::Int64\n",
    "    r_l::Int64\n",
    "    r_p::Int64\n",
    "    r_r::Int64\n",
    "    r_s::Int64\n",
    "    m_h::Int64\n",
    "    m_f::Int64\n",
    "    m_l::Int64\n",
    "    m_p::Int64\n",
    "    m_r::Int64\n",
    "    m_s::Int64\n",
    "    cond_type::Int64\n",
    "    cond_statidx1::Int64\n",
    "    cond_statidx2::Int64\n",
    "    cond_thres1::Int64\n",
    "    cond_thres2::Int64\n",
    "    fx_type::Int64\n",
    "    fx_statidx1::Int64\n",
    "    fx_statidx2::Int64\n",
    "    fx_mult::Int64\n",
    "    fx_add::Int64\n",
    "end\n",
    "\n",
    "function c_forcedability(\n",
    "        ; r_h::Int64 = 0, \n",
    "        r_f::Int64 = 0,\n",
    "        r_l::Int64 = 0,\n",
    "        r_p::Int64 = 0,\n",
    "        r_r::Int64 = 0,\n",
    "        r_s::Int64 = 0,\n",
    "        m_h::Int64 = 0, \n",
    "        m_f::Int64 = 0,\n",
    "        m_l::Int64 = 0,\n",
    "        m_p::Int64 = 0,\n",
    "        m_r::Int64 = 0,\n",
    "        m_s::Int64 = 0,\n",
    "        cond_type::Int64 = 0,\n",
    "        cond_statidx1::Int64 = 0,\n",
    "        cond_statidx2::Int64 = 0,\n",
    "        cond_thres1::Int64 = 0,\n",
    "        cond_thres2::Int64 = 0,\n",
    "        fx_type::Int64 = 0,\n",
    "        fx_statidx1::Int64 = 0,\n",
    "        fx_statidx2::Int64 = 0,\n",
    "        fx_mult::Int64 = 1,\n",
    "        fx_add::Int64 = 0,        \n",
    "    )\n",
    "    return ForcedAbility(\n",
    "        r_h, r_f, r_l, r_p, r_r, r_s, \n",
    "        m_h, m_f, m_l, m_p, m_r, m_s, \n",
    "        cond_type, cond_statidx1, cond_statidx2, cond_thres1, cond_thres2,\n",
    "        fx_type, fx_statidx1, fx_statidx2, fx_mult, fx_add\n",
    "    )\n",
    "end\n",
    "\n"
   ]
  },
  {
   "cell_type": "code",
   "execution_count": 68,
   "id": "eef1262d",
   "metadata": {},
   "outputs": [
    {
     "data": {
      "text/plain": [
       "Dict{Int64, ForcedAbility} with 1 entry:\n",
       "  10 => ForcedAbility(2, 0, 0, 0, 0, 0, -1, 0, 0, 0, 0, 0, 5, 7, 1, 0, 0, 2, 1,…"
      ]
     },
     "execution_count": 68,
     "metadata": {},
     "output_type": "execute_result"
    }
   ],
   "source": [
    "const ability_none = 999\n",
    "const ability_imitative = 10\n",
    "const ability_reciprocating = 20\n",
    "const ability_romantic = 30\n",
    "const ability_bibliophile = 40\n",
    "const ability_melodious = 50\n",
    "const ability_poetic = 60\n",
    "const ability_acrobatic = 70\n",
    "const ability_critical = 80\n",
    "const ability_iconoclast = 90\n",
    "\n",
    "ability_name = Dict(\n",
    "    ability_imitative => \"Imitative\",\n",
    "    ability_reciprocating => \"Reciprocating\",\n",
    "    ability_romantic => \"Romantic\",\n",
    "    ability_bibliophile => \"Bibliophile\",\n",
    "    ability_melodious => \"Melodious\",\n",
    "    ability_poetic => \"Poetic\",\n",
    "    ability_acrobatic => \"Acrobatic\",\n",
    "    ability_critical => \"Critical\",\n",
    "    ability_iconoclast => \"Iconoclast\",\n",
    ")\n",
    "\n",
    "d_ability_imitative = c_forcedability(\n",
    "    r_h = 6, m_h = -5, \n",
    "    cond_type = ab_cond_diff_min, cond_statidx1 = idx_opp_h, cond_statidx2 = idx_your_h, cond_thres1 = 0, \n",
    "    fx_type = ab_fx_copystat, fx_statidx1 = idx_your_h, fx_statidx2 = idx_opp_h\n",
    ")\n",
    "\n",
    "ability_data = Dict(\n",
    "    ability_imitative => d_ability_imitative,\n",
    ")"
   ]
  },
  {
   "cell_type": "code",
   "execution_count": 69,
   "id": "950e076e",
   "metadata": {},
   "outputs": [
    {
     "data": {
      "text/plain": [
       "cost (generic function with 2 methods)"
      ]
     },
     "execution_count": 69,
     "metadata": {},
     "output_type": "execute_result"
    }
   ],
   "source": [
    "const MXS = 100\n",
    "const MXV = 10\n",
    "const MNV = 1\n",
    "\n",
    "function cost(h::Int64, f::Int64, l::Int64, p::Int64, r::Int64, s::Int64)::Int64\n",
    "    #return h*(f+l-2*MNV) + f*(p+r+s-3*MNV) + h+f+l+p+r+s-6*MNV\n",
    "    return h*(f+l) + f*(p+r+s)\n",
    "end\n",
    "\n",
    "function cost(a::Spud)::Int64\n",
    "    return cost(a.h, a.f, a.l, a.p, a.r, a.s)\n",
    "end"
   ]
  },
  {
   "cell_type": "code",
   "execution_count": 70,
   "id": "ac830f74",
   "metadata": {},
   "outputs": [
    {
     "data": {
      "text/plain": [
       "eval_melee (generic function with 3 methods)"
      ]
     },
     "execution_count": 70,
     "metadata": {},
     "output_type": "execute_result"
    }
   ],
   "source": [
    "function compare_int_list(as::Vector{Int64}, bs::Vector{Int64}, tiebreaker::Int64 = 0)::Int64\n",
    "    n = min(length(as), length(bs))\n",
    "    for i in 1:n\n",
    "        if as[i] != bs[i]\n",
    "            return sign(as[i] - bs[i])\n",
    "        end\n",
    "    end\n",
    "    return tiebreaker\n",
    "end\n",
    "\n",
    "function spud_h_seq(a::Spud)::Vector{Int64}\n",
    "    return [a.h, a.s, a.r, a.p, a.l, a.f]\n",
    "end\n",
    "\n",
    "function spud_f_seq(a::Spud)::Vector{Int64}\n",
    "    return [a.f, a.s, a.r, a.p, a.l, a.h]\n",
    "end\n",
    "\n",
    "function spud_l_seq(a::Spud)::Vector{Int64}\n",
    "    return [a.l]\n",
    "end\n",
    "\n",
    "function spud_p_seq(a::Spud)::Vector{Int64}\n",
    "    return [a.p, a.l]\n",
    "end\n",
    "\n",
    "function spud_r_seq(a::Spud)::Vector{Int64}\n",
    "    return [a.r, a.f]\n",
    "end\n",
    "\n",
    "function spud_s_seq(a::Spud)::Vector{Int64}\n",
    "    return [a.s, a.h]\n",
    "end\n",
    "\n",
    "function spud_utb_seq(a::Spud)::Vector{Int64}\n",
    "    return [a.a1, a.h, a.f, a.l, a.p, a.r, a.s]\n",
    "end\n",
    "\n",
    "function eval_finds(a::Spud, b::Spud, tiebreaker::Int64 = 0)::Int64\n",
    "    ev = compare_int_list(spud_f_seq(a), spud_h_seq(b), tiebreaker)\n",
    "    ans = ev\n",
    "end\n",
    "\n",
    "function eval_melee(a::Spud, b::Spud, tiebreaker1::Int64 = 0, tiebreaker2::Int64 = 0)::Int64\n",
    "    comp_p = compare_int_list(spud_p_seq(a), spud_p_seq(b), tiebreaker1)\n",
    "    comp_r = compare_int_list(spud_r_seq(a), spud_r_seq(b), tiebreaker1)\n",
    "    comp_s = compare_int_list(spud_s_seq(a), spud_s_seq(b), tiebreaker1)\n",
    "    ev = 4 * comp_p + 3 * comp_r + 2 * comp_s\n",
    "    return sign(ev + (1-abs(ev))*tiebreaker2)\n",
    "end\n",
    "\n"
   ]
  },
  {
   "cell_type": "code",
   "execution_count": 92,
   "id": "f603612d",
   "metadata": {},
   "outputs": [
    {
     "data": {
      "text/plain": [
       "eval_battle (generic function with 1 method)"
      ]
     },
     "execution_count": 92,
     "metadata": {},
     "output_type": "execute_result"
    }
   ],
   "source": [
    "# const idx_your_h = 1\n",
    "# const idx_your_f = 2\n",
    "# const idx_your_l = 3\n",
    "# const idx_your_p = 4\n",
    "# const idx_your_r = 5\n",
    "# const idx_your_s = 6\n",
    "# const idx_opp_h = 7\n",
    "# const idx_opp_f = 8\n",
    "# const idx_opp_l = 9\n",
    "# const idx_opp_p = 10\n",
    "# const idx_opp_r = 11\n",
    "# const idx_opp_s = 12\n",
    "\n",
    "# const ab_cond_min = 1\n",
    "# const ab_cond_max = 2\n",
    "# const ab_cond_number_min_opp = 3 # number of min stats for opponent is greater than\n",
    "# const ab_cond_number_max_opp = 4 # number of max stats for opponent is greater than\n",
    "# const ab_cond_diff_min = 5 # difference between stat1 and stat2 is at least \n",
    "# const ab_cond_ratio_min = 6 # ratio of stat1 and stat2 at least\n",
    "\n",
    "# const ab_fx_modstat = 1 # modify stat1\n",
    "# const ab_fx_copystat = 2 # copy value of stat2 to stat1\n",
    "# const ab_fx_swapstat = 3 # switch values of stat2 and stat2\n",
    "\n",
    "\n",
    "# ForcedAbility(\n",
    "#         r_h, r_f, r_l, r_p, r_r, r_s, \n",
    "#         m_h, m_f, m_l, m_p, m_r, m_s, \n",
    "#         cond_type, cond_statidx1, cond_statidx2, cond_thres1, cond_thres2,\n",
    "#         fx_type, fx_statidx1, fx_statidx2, fx_mult, fx_add\n",
    "#     )\n",
    "\n",
    "function apply_ability_static(a::Spud)::Spud\n",
    "    ab = ability_data[a.a1]\n",
    "    return Spud(\n",
    "        a.name, \n",
    "        a.h + ab.m_h, a.f + ab.m_f, a.l + ab.m_l, \n",
    "        a.p + ab.m_p, a.r + ab.m_r, a.s + ab.m_s, a.a1)\n",
    "end\n",
    "\n",
    "function get_stat_value(a::Spud, b::Spud, statidx::Int64)::Int64\n",
    "    svs = [a.h, a.f, a.l, a.p, a.r, a.s, b.h, b.f, b.l, b.p, b.r, b.s]\n",
    "    return svs[statidx]\n",
    "end\n",
    "\n",
    "\n",
    "function set_stat_value0(a::Spud, statidx::Int64, val::Int64)::Spud\n",
    "    if statidx == 1\n",
    "        return Spud(a.name, val, a.f, a.l, a.p, a.r, a.s, a.a1)\n",
    "    end\n",
    "    if statidx == 2\n",
    "        return Spud(a.name, a.h, val, a.l, a.p, a.r, a.s, a.a1)\n",
    "    end\n",
    "    if statidx == 3\n",
    "        return Spud(a.name, a.h, a.f, val, a.p, a.r, a.s, a.a1)\n",
    "    end\n",
    "    if statidx == 4\n",
    "        return Spud(a.name, a.h, a.f, a.l, val, a.r, a.s, a.a1)\n",
    "    end\n",
    "    if statidx == 5\n",
    "        return Spud(a.name, a.h, a.f, a.l, a.p, val, a.s, a.a1)\n",
    "    end\n",
    "    if statidx == 6\n",
    "        return Spud(a.name, a.h, a.f, a.l, a.p, a.r, val, a.a1)\n",
    "    end\n",
    "end\n",
    "\n",
    "\n",
    "function set_stat_value(a::Spud, b::Spud, statidx::Int64, val::Int64)::Array{Spud}\n",
    "    if statidx <= 6\n",
    "        a = set_stat_value0(a, statidx, val)\n",
    "    end\n",
    "    if statidx >= 6\n",
    "        b = set_stat_value0(b, statidx - 6, val)\n",
    "    end\n",
    "    return [a,b]\n",
    "end\n",
    "\n",
    "\n",
    "function apply_ability(a::Spud, b::Spud)::Array{Spud}\n",
    "    ab = ability_data[a.a1]\n",
    "    if a.a1 == ability_none\n",
    "        return [a, b]\n",
    "    end\n",
    "    # check condition\n",
    "    cond_pass = false\n",
    "    if ab.cond_type == ab_cond_min\n",
    "        cond_pass = (get_stat_value(a, b, ab.cond_statidx1) >= ab.cond_thres1)\n",
    "    end\n",
    "    if ab.cond_type == ab_cond_max\n",
    "        cond_pass = (get_stat_value(a, b, ab.cond_statidx1) <= ab.cond_thres1)\n",
    "    end\n",
    "    if ab.cond_type == ab_cond_number_min_opp\n",
    "        cond_pass = (sum([b.h, b.f, b.l, b.p, b.r, b.s] .>= ab.cond_thres1) >= ab.cond_thres2)\n",
    "    end\n",
    "    if ab.cond_type == ab_cond_number_max_opp\n",
    "        cond_pass = (sum([b.h, b.f, b.l, b.p, b.r, b.s] .<= ab.cond_thres1) >= ab.cond_thres2)\n",
    "    end\n",
    "    if ab.cond_type == ab_cond_diff_min\n",
    "        cond_pass = (get_stat_value(a, b, ab.cond_statidx1) - get_stat_value(a, b, ab.cond_statidx2) >= ab.cond_thres1)\n",
    "    end\n",
    "    if ab.cond_type == ab_cond_ratio_min\n",
    "        cond_pass = (get_stat_value(a, b, ab.cond_statidx1) >= get_stat_value(a, b, ab.cond_statidx2) * ab.cond_thres1)\n",
    "    end\n",
    "    if cond_pass\n",
    "        if ab.fx_type == ab_fx_modstat\n",
    "            res = set_stat_value(a, b, ab.fx_statidx1, get_stat_value(a, b, ab.fx_statidx1) * ab.fx_mult + ab.fx_add)\n",
    "        end\n",
    "        if ab.fx_type == ab_fx_copystat\n",
    "            res = set_stat_value(a, b, ab.fx_statidx1, get_stat_value(a, b, ab.fx_statidx2))\n",
    "        end\n",
    "        if ab.fx_type == ab_fx_swapstat\n",
    "            temp = get_stat_value(a, b, ab.fx_statidx1)\n",
    "            res = set_stat_value(a, b, ab.fx_statidx1, get_stat_value(a, b, ab.fx_statidx2))\n",
    "            res = set_stat_value(a, b, ab.fx_statidx2, temp)\n",
    "        end\n",
    "        return res\n",
    "    else\n",
    "        return [a,b]\n",
    "    end\n",
    "end\n",
    "\n",
    "\n",
    "function eval_battle(a::Spud, b::Spud)::Int64\n",
    "    utb = compare_int_list(spud_utb_seq(a), spud_utb_seq(b), 0) # universal tiebreaker\n",
    "    if utb == 0\n",
    "        return 0\n",
    "    end\n",
    "    if a.a1 != ability_none\n",
    "        a = apply_ability_static(a)\n",
    "    end\n",
    "    if b.a1 != ability_none\n",
    "        b = apply_ability_static(b)\n",
    "    end\n",
    "    a_ability_first = compare_int_list([a.a1, a.s], [b.a1, b.s], utb)\n",
    "    if a_ability_first ==1\n",
    "        if a.a1 != ability_none\n",
    "            res = apply_ability(a, b)\n",
    "            a = res[1]\n",
    "            b = res[2]\n",
    "        end\n",
    "        if b.a1 != ability_none\n",
    "            res = apply_ability(b, a)\n",
    "            b = res[1]\n",
    "            a = res[2]\n",
    "        end\n",
    "    end\n",
    "    if a_ability_first == -1\n",
    "        if b.a1 != ability_none\n",
    "            res = apply_ability(b, a)\n",
    "            b = res[1]\n",
    "            a = res[2]\n",
    "        end\n",
    "        if a.a1 != ability_none\n",
    "            res = apply_ability(a, b)\n",
    "            a = res[1]\n",
    "            b = res[2]\n",
    "        end\n",
    "    end\n",
    "    #println(a)\n",
    "    #println(b)\n",
    "    a_finds = eval_finds(a, b, utb)==1\n",
    "    b_finds = eval_finds(b, a, utb)==1\n",
    "    melee_win = eval_melee(a, b, 0, utb)\n",
    "    if a_finds && b_finds\n",
    "        return melee_win\n",
    "    end\n",
    "    if a_finds && !b_finds\n",
    "        return 1\n",
    "    end\n",
    "    if !a_finds && b_finds\n",
    "        return -1\n",
    "    end\n",
    "    if !a_finds && !b_finds\n",
    "        return compare_int_list([a.l, melee_win], [b.l, -melee_win], 0)\n",
    "    end\n",
    "end"
   ]
  },
  {
   "cell_type": "code",
   "execution_count": 129,
   "id": "a97bf407",
   "metadata": {},
   "outputs": [
    {
     "data": {
      "text/plain": [
       "meet_ability_req (generic function with 3 methods)"
      ]
     },
     "execution_count": 129,
     "metadata": {},
     "output_type": "execute_result"
    }
   ],
   "source": [
    "function meet_ability_req(ff::Spud, ab::ForcedAbility)::Bool\n",
    "    return (ff.h >= ab.r_h) && (ff.f >= ab.r_f) && (ff.l >= ab.r_l) && (ff.p >= ab.r_p) && (ff.r >= ab.r_r) && (ff.s >= ab.r_s)\n",
    "end\n",
    "\n",
    "function meet_ability_req(ff::Spud, ab::Int64)::Bool\n",
    "    return meet_ability_req(ff, ability_data[ab])\n",
    "end"
   ]
  },
  {
   "cell_type": "code",
   "execution_count": 105,
   "id": "9b98d9de",
   "metadata": {},
   "outputs": [
    {
     "data": {
      "text/plain": [
       "Spud(\"ab_im\", 6, 3, 3, 1, 1, 1, 999)"
      ]
     },
     "execution_count": 105,
     "metadata": {},
     "output_type": "execute_result"
    }
   ],
   "source": [
    "b = Spud(\"tester\", 4, 3, 2, 3, 3, 3, ability_none)\n",
    "a = Spud(\"ab_im\", 2, 3, 3, 1, 1, 1, ability_imitative)\n",
    "a0 = Spud(\"ab_im\", 2, 3, 3, 1, 1, 1, ability_none)\n",
    "a1 = Spud(\"ab_im\", 6, 3, 3, 1, 1, 1, ability_none)\n"
   ]
  },
  {
   "cell_type": "code",
   "execution_count": 106,
   "id": "56d8e1d9",
   "metadata": {},
   "outputs": [
    {
     "data": {
      "text/plain": [
       "Spud(\"ab_im\", 1, 3, 3, 1, 1, 1, 10)"
      ]
     },
     "execution_count": 106,
     "metadata": {},
     "output_type": "execute_result"
    }
   ],
   "source": [
    "apply_ability_static(a)"
   ]
  },
  {
   "cell_type": "code",
   "execution_count": 107,
   "id": "b5dc87b4",
   "metadata": {},
   "outputs": [
    {
     "data": {
      "text/plain": [
       "2-element Vector{Spud}:\n",
       " Spud(\"ab_im\", 4, 3, 3, 1, 1, 1, 10)\n",
       " Spud(\"tester\", 4, 3, 2, 3, 3, 3, 999)"
      ]
     },
     "execution_count": 107,
     "metadata": {},
     "output_type": "execute_result"
    }
   ],
   "source": [
    "res = apply_ability(a, b)"
   ]
  },
  {
   "cell_type": "code",
   "execution_count": 108,
   "id": "8aa90e72",
   "metadata": {},
   "outputs": [
    {
     "data": {
      "text/plain": [
       "-1"
      ]
     },
     "execution_count": 108,
     "metadata": {},
     "output_type": "execute_result"
    }
   ],
   "source": [
    "eval_battle(a0, b)"
   ]
  },
  {
   "cell_type": "code",
   "execution_count": 109,
   "id": "b1e28fde",
   "metadata": {},
   "outputs": [
    {
     "data": {
      "text/plain": [
       "1"
      ]
     },
     "execution_count": 109,
     "metadata": {},
     "output_type": "execute_result"
    }
   ],
   "source": [
    "eval_battle(a1, b)"
   ]
  },
  {
   "cell_type": "code",
   "execution_count": 110,
   "id": "5e48e378",
   "metadata": {},
   "outputs": [
    {
     "data": {
      "text/plain": [
       "1"
      ]
     },
     "execution_count": 110,
     "metadata": {},
     "output_type": "execute_result"
    }
   ],
   "source": [
    "eval_battle(a, b)"
   ]
  },
  {
   "cell_type": "code",
   "execution_count": null,
   "id": "0b5c2614",
   "metadata": {},
   "outputs": [],
   "source": []
  },
  {
   "cell_type": "code",
   "execution_count": 111,
   "id": "40b9dc47",
   "metadata": {},
   "outputs": [
    {
     "data": {
      "text/plain": [
       "random_name_and_stat (generic function with 2 methods)"
      ]
     },
     "execution_count": 111,
     "metadata": {},
     "output_type": "execute_result"
    }
   ],
   "source": [
    "tab = CSV.read(\"census_yob2022_names.txt\", DataFrame, header = false)\n",
    "names = tab.Column1\n",
    "adjectives = CSV.read(\"adjectives.csv\", DataFrame)\n",
    "nouns = CSV.read(\"nouns.csv\", DataFrame)\n",
    "jobs = CSV.read(\"jobs.csv\", DataFrame)\n",
    "\n",
    "\n",
    "const mult_noun = 1\n",
    "const mult_adj = 2\n",
    "const mult_job = 3\n",
    "\n",
    "\n",
    "function random_name_and_stat(ability::Int64 = ability_none)::Spud\n",
    "    vp = [0, 0, 0, 0, 0, 0]\n",
    "    #nametype = rand([1,1,1,1,1,2,2,2,3])\n",
    "    name = \"\"\n",
    "    noun = \"\"\n",
    "    adj = \"\"\n",
    "    noun_i = rand(1:nrow(nouns))\n",
    "    noun = nouns[noun_i, :noun]\n",
    "    vp[1] = vp[1] + nouns[noun_i, :H] * mult_noun\n",
    "    vp[2] = vp[2] + nouns[noun_i, :F] * mult_noun\n",
    "    vp[3] = vp[3] + nouns[noun_i, :L] * mult_noun\n",
    "    vp[4] = vp[4] + nouns[noun_i, :P] * mult_noun\n",
    "    vp[5] = vp[5] + nouns[noun_i, :R] * mult_noun\n",
    "    vp[6] = vp[6] + nouns[noun_i, :S] * mult_noun\n",
    "    adj_i = rand(1:nrow(adjectives))\n",
    "    if ability == ability_none\n",
    "        adj = adjectives[adj_i, :adjective]\n",
    "        vp[1] = vp[1] + adjectives[adj_i, :H] * mult_adj\n",
    "        vp[2] = vp[2] + adjectives[adj_i, :F] * mult_adj\n",
    "        vp[3] = vp[3] + adjectives[adj_i, :L] * mult_adj\n",
    "        vp[4] = vp[4] + adjectives[adj_i, :P] * mult_adj\n",
    "        vp[5] = vp[5] + adjectives[adj_i, :R] * mult_adj\n",
    "        vp[6] = vp[6] + adjectives[adj_i, :S] * mult_adj\n",
    "    else\n",
    "        adj = ability_name[ability]\n",
    "    end\n",
    "    job_i = rand(1:nrow(jobs))\n",
    "    job = jobs[job_i, :job]\n",
    "    vp[1] = vp[1] + jobs[job_i, :H] * mult_job\n",
    "    vp[2] = vp[2] + jobs[job_i, :F] * mult_job\n",
    "    vp[3] = vp[3] + jobs[job_i, :L] * mult_job\n",
    "    vp[4] = vp[4] + jobs[job_i, :P] * mult_job\n",
    "    vp[5] = vp[5] + jobs[job_i, :R] * mult_job\n",
    "    vp[6] = vp[6] + jobs[job_i, :S] * mult_job\n",
    "    name = string(adj, \" \", job, \" \", noun)\n",
    "    Spud(name, vp[1], vp[2], vp[3], vp[4], vp[5], vp[6], ability_none)\n",
    "end"
   ]
  },
  {
   "cell_type": "code",
   "execution_count": 112,
   "id": "f606e085",
   "metadata": {},
   "outputs": [
    {
     "data": {
      "text/plain": [
       "rand_rename (generic function with 2 methods)"
      ]
     },
     "execution_count": 112,
     "metadata": {},
     "output_type": "execute_result"
    }
   ],
   "source": [
    "function rand_rename(a::Spud, n_tries::Int = 100)::Spud\n",
    "    best_score = 0.0\n",
    "    best_b = random_name_and_stat(a.a1)\n",
    "    for ii in 1:n_tries\n",
    "        b = random_name_and_stat(a.a1)\n",
    "        b_norm = sqrt(b.h^2 + b.f^2 + b.l^2 + b.p^2 + b.r^2 + b.s^2)\n",
    "        score = (a.h * b.h + a.f * b.f + a.l * b.l + a.p * b.p + a.r * b.r + a.s * b.s)/b_norm\n",
    "        if score > best_score\n",
    "            best_score = score\n",
    "            best_b = b\n",
    "        end\n",
    "    end\n",
    "    return Spud(best_b.name, a.h, a.f, a.l, a.p, a.r, a.s, a.a1)\n",
    "end"
   ]
  },
  {
   "cell_type": "code",
   "execution_count": 113,
   "id": "fcfe69d9",
   "metadata": {},
   "outputs": [
    {
     "data": {
      "text/plain": [
       "Spud(\"Imitative Barman Chips and dip\", 2, 3, 3, 1, 1, 1, 10)"
      ]
     },
     "execution_count": 113,
     "metadata": {},
     "output_type": "execute_result"
    }
   ],
   "source": [
    "rand_rename(a)"
   ]
  },
  {
   "cell_type": "code",
   "execution_count": 114,
   "id": "560e9539",
   "metadata": {},
   "outputs": [
    {
     "data": {
      "text/plain": [
       "df_to_spuds (generic function with 1 method)"
      ]
     },
     "execution_count": 114,
     "metadata": {},
     "output_type": "execute_result"
    }
   ],
   "source": [
    "function eval_battle_list(a::Spud, bs::Array{Spud})::Int\n",
    "    score = 0\n",
    "    for ii in 1:length(bs)\n",
    "        score = score + eval_battle(a, bs[ii])\n",
    "    end\n",
    "    return score\n",
    "end\n",
    "\n",
    "function eval_battle_list2(a::Spud, bs::Array{Spud}, w::Vector{Float64})::AbstractFloat\n",
    "    score = 0.0\n",
    "    for ii in 1:length(bs)\n",
    "        score = score + w[ii] * eval_battle(a, bs[ii])\n",
    "    end\n",
    "    return score\n",
    "end\n",
    "\n",
    "function spuds_to_df(as::Array{Spud})::DataFrame\n",
    "    names = Array{String}(undef, length(as))\n",
    "    hs = Array{Int}(undef, length(as))\n",
    "    fs = Array{Int}(undef, length(as))\n",
    "    ls = Array{Int}(undef, length(as))\n",
    "    ps = Array{Int}(undef, length(as))\n",
    "    rs = Array{Int}(undef, length(as))\n",
    "    ss = Array{Int}(undef, length(as))\n",
    "    a1s = Array{Int}(undef, length(as))\n",
    "    for ii in 1:length(as)\n",
    "        names[ii] = as[ii].name\n",
    "        hs[ii] = as[ii].h\n",
    "        fs[ii] = as[ii].f\n",
    "        ls[ii] = as[ii].l\n",
    "        ps[ii] = as[ii].p\n",
    "        rs[ii] = as[ii].r\n",
    "        ss[ii] = as[ii].s\n",
    "        a1s[ii] = as[ii].a1\n",
    "    end\n",
    "    df = DataFrame(name = names, h = hs, f = fs, l = ls, p = ps, r = rs, s = ss, a1 = a1s)\n",
    "    return df\n",
    "end\n",
    "\n",
    "function fpart(x::AbstractFloat)::AbstractFloat\n",
    "  return x - trunc(x)\n",
    "end\n",
    "\n",
    "# for legacy dfs without abilities\n",
    "function df_to_spuds0(df::DataFrame)::Array{Spud}\n",
    "    n = size(df)[1]\n",
    "    as = Array{Spud}(undef, n)\n",
    "    for i in 1:n\n",
    "        as[i] = Spud(df[i, :name], df[i, :h], df[i, :f], df[i, :l], df[i, :p], df[i, :r], df[i, :s], ability_none)\n",
    "    end\n",
    "    return as\n",
    "end\n",
    "\n",
    "function df_to_spuds(df::DataFrame)::Array{Spud}\n",
    "    n = size(df)[1]\n",
    "    as = Array{Spud}(undef, n)\n",
    "    for i in 1:n\n",
    "        as[i] = Spud(df[i, :name], df[i, :h], df[i, :f], df[i, :l], df[i, :p], df[i, :r], df[i, :s], df[i, :a1])\n",
    "    end\n",
    "    return as\n",
    "end\n",
    "\n"
   ]
  },
  {
   "cell_type": "markdown",
   "id": "261e21eb",
   "metadata": {},
   "source": [
    "## Form library of base values"
   ]
  },
  {
   "cell_type": "code",
   "execution_count": 115,
   "id": "8534b5bb",
   "metadata": {},
   "outputs": [
    {
     "data": {
      "text/plain": [
       "1.1"
      ]
     },
     "execution_count": 115,
     "metadata": {},
     "output_type": "execute_result"
    }
   ],
   "source": [
    "# form initial library by subsampling indices\n",
    "library = Array{Spud}(undef, 100000)\n",
    "spud_i = 0\n",
    "ss_prob = 1.1"
   ]
  },
  {
   "cell_type": "code",
   "execution_count": 116,
   "id": "3febb950",
   "metadata": {},
   "outputs": [],
   "source": [
    "\n",
    "hrange = MNV:MXV\n",
    "frange = MNV:MXV\n",
    "lrange = MNV:MXV\n",
    "prange = MNV:MXV\n",
    "rrange = MNV:MXV\n",
    "srange = MNV:MXV\n",
    "\n",
    "for h in hrange\n",
    "    if (cost(h, MNV, MNV, MNV, MNV, MNV) <= MXS)\n",
    "        for f in frange\n",
    "            if (cost(h, f, MNV, MNV, MNV, MNV) <= MXS)\n",
    "                for l in lrange\n",
    "                    if (cost(h, f, l, MNV, MNV, MNV) <= MXS)\n",
    "                        for p in prange\n",
    "                            if (cost(h, f, l, p, MNV, MNV) <= MXS)\n",
    "                                for r in rrange\n",
    "                                    if (cost(h, f, l, p, r, MNV) <= MXS)\n",
    "                                        for s in srange\n",
    "                                            if rand() < ss_prob && (cost(h,f,l,p,r,s) <= MXS)\n",
    "                                                check_f = (h == MXV) || (cost(h+1,f,l,p,r,s) > MXS)\n",
    "                                                check_h = (f == MXV) || (cost(h,f+1,l,p,r,s) > MXS)\n",
    "                                                check_l = (l == MXV) || (cost(h,f,l+1,p,r,s) > MXS)\n",
    "                                                check_prs = (p+r+s == 3*MXV) || (cost(h,f,l,p+1,r,s) > MXS)\n",
    "                                                if check_h && check_f && check_l && check_prs\n",
    "                                                    spud_i += 1\n",
    "                                                    #randname = rand_rename(Spud(\" \",h,f,l,p,r,s)).name\n",
    "                                                    #name = string(\"#\", @sprintf(\"%i\", spud_i), \". \", randname)\n",
    "                                                    name = \"\"\n",
    "                                                    library[spud_i] = Spud(name,h,f,l,p,r,s, ability_none)\n",
    "                                                end\n",
    "                                            end\n",
    "                                        end\n",
    "                                    end\n",
    "                                end                        \n",
    "                            end\n",
    "                        end                        \n",
    "                    end\n",
    "                end\n",
    "            end\n",
    "        end\n",
    "    end\n",
    "end\n"
   ]
  },
  {
   "cell_type": "code",
   "execution_count": 117,
   "id": "9bbe4ff4",
   "metadata": {},
   "outputs": [
    {
     "data": {
      "text/plain": [
       "12675"
      ]
     },
     "execution_count": 117,
     "metadata": {},
     "output_type": "execute_result"
    }
   ],
   "source": [
    "library = unique(library[1:spud_i])\n",
    "n_spuds = length(library)"
   ]
  },
  {
   "cell_type": "code",
   "execution_count": 118,
   "id": "52daa014",
   "metadata": {},
   "outputs": [],
   "source": [
    "# Check that there are no ties in spudland\n",
    "for iter in 1:10000\n",
    "    i = rand(1:n_spuds)\n",
    "    j = rand(1:n_spuds)\n",
    "    if i != j && eval_battle(library[i], library[j]) == 0\n",
    "        println(library[i])\n",
    "        println(library[j])\n",
    "        println()\n",
    "    end\n",
    "end"
   ]
  },
  {
   "cell_type": "markdown",
   "id": "88b19f9c",
   "metadata": {},
   "source": [
    "## adjust abilities"
   ]
  },
  {
   "cell_type": "code",
   "execution_count": 178,
   "id": "b7bc5f03",
   "metadata": {},
   "outputs": [],
   "source": [
    "nash_env_df = DataFrame(CSV.File(\"spudsD_mxv10_nash.csv\"))\n",
    "nash_env = df_to_spuds0(nash_env_df)\n",
    "counts = [parse(Int, s.name[2:end]) for s in nash_env];"
   ]
  },
  {
   "cell_type": "code",
   "execution_count": 179,
   "id": "82b3c61b",
   "metadata": {},
   "outputs": [
    {
     "data": {
      "text/plain": [
       "ForcedAbility(0, 5, 0, 0, 0, 0, 0, -4, 0, 0, 0, 0, 5, 8, 2, 0, 0, 2, 2, 8, 1, 0)"
      ]
     },
     "execution_count": 179,
     "metadata": {},
     "output_type": "execute_result"
    }
   ],
   "source": [
    "d_ability_reciprocating = c_forcedability(\n",
    "    r_f = 5, m_f = -4, \n",
    "    cond_type = ab_cond_diff_min, cond_statidx1 = idx_opp_f, cond_statidx2 = idx_your_f, cond_thres1 = 0, \n",
    "    fx_type = ab_fx_copystat, fx_statidx1 = idx_your_f, fx_statidx2 = idx_opp_f\n",
    ")\n",
    "\n",
    "ability_data[ability_reciprocating] = d_ability_reciprocating"
   ]
  },
  {
   "cell_type": "code",
   "execution_count": 180,
   "id": "ee5a90dc",
   "metadata": {
    "scrolled": false
   },
   "outputs": [
    {
     "name": "stdout",
     "output_type": "stream",
     "text": [
      "Spud(\"\", 1, 5, 10, 1, 6, 10, 20)\n",
      "-0.013404435443947727\n",
      "Spud(\"\", 1, 5, 10, 1, 7, 9, 20)\n",
      "-0.007029621389440932\n",
      "Spud(\"\", 1, 5, 10, 1, 8, 8, 20)\n",
      "-0.039223730359417425\n",
      "Spud(\"\", 1, 5, 10, 2, 5, 10, 20)\n",
      "-0.013999873020516798\n",
      "Spud(\"\", 1, 5, 10, 2, 6, 9, 20)\n",
      "-0.00571662673332919\n",
      "Spud(\"\", 1, 5, 10, 2, 7, 8, 20)\n",
      "-0.03545522569723139\n",
      "Spud(\"\", 1, 5, 10, 3, 4, 10, 20)\n",
      "-0.022841217036246666\n",
      "Spud(\"\", 1, 5, 10, 3, 5, 9, 20)\n",
      "-0.0125575588907353\n",
      "Spud(\"\", 1, 5, 10, 3, 6, 8, 20)\n",
      "-0.025134167703937428\n",
      "Spud(\"\", 1, 5, 10, 4, 3, 10, 20)\n",
      "-0.029720869036063042\n",
      "Spud(\"\", 1, 5, 10, 4, 4, 9, 20)\n",
      "-0.01629326368641678\n",
      "Spud(\"\", 1, 5, 10, 4, 5, 8, 20)\n",
      "-0.027206139271013157\n",
      "Spud(\"\", 1, 5, 10, 4, 6, 7, 20)\n",
      "-0.04535736539552285\n",
      "Spud(\"\", 1, 5, 10, 5, 2, 10, 20)\n",
      "-0.02466696960543369\n",
      "Spud(\"\", 1, 5, 10, 5, 3, 9, 20)\n",
      "-0.032534277585490226\n",
      "Spud(\"\", 1, 5, 10, 5, 4, 8, 20)\n",
      "-0.02278989724511819\n",
      "Spud(\"\", 1, 5, 10, 5, 5, 7, 20)\n",
      "-0.027578197756735135\n",
      "Spud(\"\", 1, 5, 10, 5, 6, 6, 20)\n",
      "-0.026280623037864204\n",
      "Spud(\"\", 1, 5, 10, 6, 1, 10, 20)\n",
      "-0.016909521178248784\n",
      "Spud(\"\", 1, 5, 10, 6, 2, 9, 20)\n",
      "-0.024934768515492162\n",
      "Spud(\"\", 1, 5, 10, 6, 3, 8, 20)\n",
      "-0.02660410172130599\n",
      "Spud(\"\", 1, 5, 10, 6, 4, 7, 20)\n",
      "-0.0325194576458074\n",
      "Spud(\"\", 1, 5, 10, 6, 5, 6, 20)\n",
      "-0.0324772978173979\n",
      "Spud(\"\", 1, 5, 10, 7, 1, 9, 20)\n",
      "-0.012216780277704257\n",
      "Spud(\"\", 1, 5, 10, 7, 2, 8, 20)\n",
      "-0.03544474573988479\n",
      "Spud(\"\", 1, 5, 10, 7, 3, 7, 20)\n",
      "-0.04308733463454806\n",
      "Spud(\"\", 1, 5, 10, 7, 4, 6, 20)\n",
      "-0.04532296553553028\n",
      "Spud(\"\", 1, 5, 10, 8, 1, 8, 20)\n",
      "-0.03897825135851693\n",
      "Spud(\"\", 2, 5, 10, 1, 5, 8, 20)\n",
      "-0.045022186759699864\n",
      "Spud(\"\", 2, 5, 10, 1, 6, 7, 20)\n",
      "-0.03348029373520443\n",
      "Spud(\"\", 2, 5, 10, 1, 7, 6, 20)\n",
      "-0.03299065572803109\n",
      "Spud(\"\", 2, 5, 10, 2, 5, 7, 20)\n",
      "-0.032820496420579506\n",
      "Spud(\"\", 2, 5, 10, 2, 6, 6, 20)\n",
      "-0.01771913788310872\n",
      "Spud(\"\", 2, 5, 10, 3, 4, 7, 20)\n",
      "-0.040077006886581876\n",
      "Spud(\"\", 2, 5, 10, 3, 5, 6, 20)\n",
      "-0.025135547698320795\n",
      "Spud(\"\", 2, 5, 10, 4, 4, 6, 20)\n",
      "-0.028373794518656233\n",
      "Spud(\"\", 2, 5, 10, 5, 1, 8, 20)\n",
      "-0.044427949178246745\n",
      "Spud(\"\", 2, 5, 10, 5, 2, 7, 20)\n",
      "-0.04855253239119309\n",
      "Spud(\"\", 2, 5, 10, 5, 3, 6, 20)\n",
      "-0.02630068295622035\n",
      "Spud(\"\", 2, 5, 10, 6, 2, 6, 20)\n",
      "-0.04640044115020449\n"
     ]
    }
   ],
   "source": [
    "best_ev = -9\n",
    "best_ff = Spud(\"\",0,0,0,0,0,0,ability_none)\n",
    "for ff in library\n",
    "    ab_id = ability_reciprocating\n",
    "    if meet_ability_req(ff, ab_id)\n",
    "        ff = Spud(\"\", ff.h, ff.f, ff.l, ff.p, ff.r, ff.s, ab_id)\n",
    "        ev = eval_battle_list2(ff, nash_env, counts./sum(counts))\n",
    "        if ev > -0.05\n",
    "            println(ff)\n",
    "            println(ev)\n",
    "        end\n",
    "        if ev > best_ev\n",
    "            best_ev = ev\n",
    "            best_ff = ff\n",
    "        end\n",
    "    end\n",
    "end"
   ]
  },
  {
   "cell_type": "code",
   "execution_count": 181,
   "id": "cdd4f7e0",
   "metadata": {},
   "outputs": [
    {
     "data": {
      "text/plain": [
       "-0.00571662673332919"
      ]
     },
     "execution_count": 181,
     "metadata": {},
     "output_type": "execute_result"
    }
   ],
   "source": [
    "best_ev"
   ]
  },
  {
   "cell_type": "code",
   "execution_count": 182,
   "id": "e6c58674",
   "metadata": {},
   "outputs": [
    {
     "data": {
      "text/plain": [
       "Spud(\"\", 1, 5, 10, 2, 6, 9, 20)"
      ]
     },
     "execution_count": 182,
     "metadata": {},
     "output_type": "execute_result"
    }
   ],
   "source": [
    "best_ff"
   ]
  },
  {
   "cell_type": "code",
   "execution_count": null,
   "id": "971f99d4",
   "metadata": {},
   "outputs": [],
   "source": []
  }
 ],
 "metadata": {
  "kernelspec": {
   "display_name": "Julia 1.9.3",
   "language": "julia",
   "name": "julia-1.9"
  },
  "language_info": {
   "file_extension": ".jl",
   "mimetype": "application/julia",
   "name": "julia",
   "version": "1.9.3"
  }
 },
 "nbformat": 4,
 "nbformat_minor": 5
}

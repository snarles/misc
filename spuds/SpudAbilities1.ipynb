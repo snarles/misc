{
 "cells": [
  {
   "cell_type": "markdown",
   "id": "052be005",
   "metadata": {},
   "source": [
    "Adding single abilities to Spuds"
   ]
  },
  {
   "cell_type": "code",
   "execution_count": 1,
   "id": "494818e8",
   "metadata": {},
   "outputs": [],
   "source": [
    "using Random\n",
    "using DataFrames\n",
    "using CSV\n",
    "using DelimitedFiles\n",
    "using Statistics\n",
    "using Printf\n",
    "using LinearAlgebra\n",
    "using Dates"
   ]
  },
  {
   "cell_type": "code",
   "execution_count": 2,
   "id": "1e1008a1",
   "metadata": {},
   "outputs": [
    {
     "data": {
      "text/plain": [
       "c_forcedability (generic function with 1 method)"
      ]
     },
     "execution_count": 2,
     "metadata": {},
     "output_type": "execute_result"
    }
   ],
   "source": [
    "struct Spud\n",
    "    name::String\n",
    "    h::Int64\n",
    "    f::Int64\n",
    "    l::Int64\n",
    "    p::Int64\n",
    "    r::Int64\n",
    "    s::Int64\n",
    "    a1::Int64\n",
    "end\n",
    "\n",
    "\n",
    "const idx_your_h = 1\n",
    "const idx_your_f = 2\n",
    "const idx_your_l = 3\n",
    "const idx_your_p = 4\n",
    "const idx_your_r = 5\n",
    "const idx_your_s = 6\n",
    "const idx_opp_h = 7\n",
    "const idx_opp_f = 8\n",
    "const idx_opp_l = 9\n",
    "const idx_opp_p = 10\n",
    "const idx_opp_r = 11\n",
    "const idx_opp_s = 12\n",
    "\n",
    "const ab_cond_min = 1\n",
    "const ab_cond_max = 2\n",
    "const ab_cond_number_min_opp = 3 # number of min stats for opponent is greater than\n",
    "const ab_cond_number_max_opp = 4 # number of max stats for opponent is greater than\n",
    "const ab_cond_diff_min = 5 # difference between stat1 and stat2 is at least \n",
    "const ab_cond_ratio_min = 6 # ratio of stat1 and stat2 at least\n",
    "\n",
    "const ab_fx_modstat = 1 # modify stat1\n",
    "const ab_fx_copystat = 2 # copy value of stat2 to stat1\n",
    "const ab_fx_swapstat = 3 # switch values of stat2 and stat2\n",
    "\n",
    "# r_h required h\n",
    "# m_h static h modifier\n",
    "struct ForcedAbility\n",
    "    r_h::Int64\n",
    "    r_f::Int64\n",
    "    r_l::Int64\n",
    "    r_p::Int64\n",
    "    r_r::Int64\n",
    "    r_s::Int64\n",
    "    m_h::Int64\n",
    "    m_f::Int64\n",
    "    m_l::Int64\n",
    "    m_p::Int64\n",
    "    m_r::Int64\n",
    "    m_s::Int64\n",
    "    cond_type::Int64\n",
    "    cond_statidx1::Int64\n",
    "    cond_statidx2::Int64\n",
    "    cond_thres1::Int64\n",
    "    cond_thres2::Int64\n",
    "    fx_type::Int64\n",
    "    fx_statidx1::Int64\n",
    "    fx_statidx2::Int64\n",
    "    fx_mult::Int64\n",
    "    fx_add::Int64\n",
    "end\n",
    "\n",
    "function c_forcedability(\n",
    "        ; r_h::Int64 = 0, \n",
    "        r_f::Int64 = 0,\n",
    "        r_l::Int64 = 0,\n",
    "        r_p::Int64 = 0,\n",
    "        r_r::Int64 = 0,\n",
    "        r_s::Int64 = 0,\n",
    "        m_h::Int64 = 0, \n",
    "        m_f::Int64 = 0,\n",
    "        m_l::Int64 = 0,\n",
    "        m_p::Int64 = 0,\n",
    "        m_r::Int64 = 0,\n",
    "        m_s::Int64 = 0,\n",
    "        cond_type::Int64 = 0,\n",
    "        cond_statidx1::Int64 = 0,\n",
    "        cond_statidx2::Int64 = 0,\n",
    "        cond_thres1::Int64 = 0,\n",
    "        cond_thres2::Int64 = 0,\n",
    "        fx_type::Int64 = 0,\n",
    "        fx_statidx1::Int64 = 0,\n",
    "        fx_statidx2::Int64 = 0,\n",
    "        fx_mult::Int64 = 1,\n",
    "        fx_add::Int64 = 0,        \n",
    "    )\n",
    "    return ForcedAbility(\n",
    "        r_h, r_f, r_l, r_p, r_r, r_s, \n",
    "        m_h, m_f, m_l, m_p, m_r, m_s, \n",
    "        cond_type, cond_statidx1, cond_statidx2, cond_thres1, cond_thres2,\n",
    "        fx_type, fx_statidx1, fx_statidx2, fx_mult, fx_add\n",
    "    )\n",
    "end\n",
    "\n"
   ]
  },
  {
   "cell_type": "code",
   "execution_count": 7,
   "id": "eef1262d",
   "metadata": {},
   "outputs": [
    {
     "data": {
      "text/plain": [
       "Dict{Int64, ForcedAbility} with 1 entry:\n",
       "  10 => ForcedAbility(6, 0, 0, 0, 0, 0, -5, 0, 0, 0, 0, 0, 5, 7, 1, 0, 0, 2, 1,…"
      ]
     },
     "execution_count": 7,
     "metadata": {},
     "output_type": "execute_result"
    }
   ],
   "source": [
    "const ability_none = 999\n",
    "const ability_imitative = 10\n",
    "const ability_reciprocating = 20\n",
    "const ability_romantic = 30\n",
    "const ability_bibliophile = 40\n",
    "const ability_melodious = 50\n",
    "const ability_poetic = 60\n",
    "const ability_acrobatic = 70\n",
    "const ability_critical = 80\n",
    "const ability_iconoclast = 90\n",
    "\n",
    "ability_name = Dict(\n",
    "    ability_imitative => \"Imitative\",\n",
    "    ability_reciprocating => \"Reciprocating\",\n",
    "    ability_romantic => \"Romantic\",\n",
    "    ability_bibliophile => \"Bibliophile\",\n",
    "    ability_melodious => \"Melodious\",\n",
    "    ability_poetic => \"Poetic\",\n",
    "    ability_acrobatic => \"Acrobatic\",\n",
    "    ability_critical => \"Critical\",\n",
    "    ability_iconoclast => \"Iconoclast\",\n",
    ")\n",
    "\n",
    "d_ability_imitative = c_forcedability(\n",
    "    r_h = 6, m_h = -5, \n",
    "    cond_type = ab_cond_diff_min, cond_statidx1 = idx_opp_h, cond_statidx2 = idx_your_h, cond_thres1 = 0, \n",
    "    fx_type = ab_fx_copystat, fx_statidx1 = idx_your_h, fx_statidx2 = idx_opp_h\n",
    ")\n",
    "\n",
    "ability_data = Dict(\n",
    "    ability_imitative => d_ability_imitative,\n",
    ")"
   ]
  },
  {
   "cell_type": "code",
   "execution_count": 8,
   "id": "950e076e",
   "metadata": {},
   "outputs": [
    {
     "data": {
      "text/plain": [
       "cost (generic function with 2 methods)"
      ]
     },
     "execution_count": 8,
     "metadata": {},
     "output_type": "execute_result"
    }
   ],
   "source": [
    "const MXS = 100\n",
    "const MXV = 10\n",
    "const MNV = 1\n",
    "\n",
    "function cost(h::Int64, f::Int64, l::Int64, p::Int64, r::Int64, s::Int64)::Int64\n",
    "    #return h*(f+l-2*MNV) + f*(p+r+s-3*MNV) + h+f+l+p+r+s-6*MNV\n",
    "    return h*(f+l) + f*(p+r+s)\n",
    "end\n",
    "\n",
    "function cost(a::Spud)::Int64\n",
    "    return cost(a.h, a.f, a.l, a.p, a.r, a.s)\n",
    "end"
   ]
  },
  {
   "cell_type": "code",
   "execution_count": 9,
   "id": "ac830f74",
   "metadata": {},
   "outputs": [
    {
     "data": {
      "text/plain": [
       "eval_melee (generic function with 3 methods)"
      ]
     },
     "execution_count": 9,
     "metadata": {},
     "output_type": "execute_result"
    }
   ],
   "source": [
    "function compare_int_list(as::Vector{Int64}, bs::Vector{Int64}, tiebreaker::Int64 = 0)::Int64\n",
    "    n = min(length(as), length(bs))\n",
    "    for i in 1:n\n",
    "        if as[i] != bs[i]\n",
    "            return sign(as[i] - bs[i])\n",
    "        end\n",
    "    end\n",
    "    return tiebreaker\n",
    "end\n",
    "\n",
    "function spud_h_seq(a::Spud)::Vector{Int64}\n",
    "    return [a.h, a.s, a.r, a.p, a.l, a.f]\n",
    "end\n",
    "\n",
    "function spud_f_seq(a::Spud)::Vector{Int64}\n",
    "    return [a.f, a.s, a.r, a.p, a.l, a.h]\n",
    "end\n",
    "\n",
    "function spud_l_seq(a::Spud)::Vector{Int64}\n",
    "    return [a.l]\n",
    "end\n",
    "\n",
    "function spud_p_seq(a::Spud)::Vector{Int64}\n",
    "    return [a.p, a.l]\n",
    "end\n",
    "\n",
    "function spud_r_seq(a::Spud)::Vector{Int64}\n",
    "    return [a.r, a.f]\n",
    "end\n",
    "\n",
    "function spud_s_seq(a::Spud)::Vector{Int64}\n",
    "    return [a.s, a.h]\n",
    "end\n",
    "\n",
    "function spud_utb_seq(a::Spud)::Vector{Int64}\n",
    "    return [a.a1, a.h, a.f, a.l, a.p, a.r, a.s]\n",
    "end\n",
    "\n",
    "function eval_finds(a::Spud, b::Spud, tiebreaker::Int64 = 0)::Int64\n",
    "    ev = compare_int_list(spud_f_seq(a), spud_h_seq(b), tiebreaker)\n",
    "    ans = ev\n",
    "end\n",
    "\n",
    "function eval_melee(a::Spud, b::Spud, tiebreaker1::Int64 = 0, tiebreaker2::Int64 = 0)::Int64\n",
    "    comp_p = compare_int_list(spud_p_seq(a), spud_p_seq(b), tiebreaker1)\n",
    "    comp_r = compare_int_list(spud_r_seq(a), spud_r_seq(b), tiebreaker1)\n",
    "    comp_s = compare_int_list(spud_s_seq(a), spud_s_seq(b), tiebreaker1)\n",
    "    ev = 4 * comp_p + 3 * comp_r + 2 * comp_s\n",
    "    return sign(ev + (1-abs(ev))*tiebreaker2)\n",
    "end\n",
    "\n"
   ]
  },
  {
   "cell_type": "code",
   "execution_count": 10,
   "id": "f603612d",
   "metadata": {},
   "outputs": [
    {
     "data": {
      "text/plain": [
       "eval_battle (generic function with 1 method)"
      ]
     },
     "execution_count": 10,
     "metadata": {},
     "output_type": "execute_result"
    }
   ],
   "source": [
    "# const idx_your_h = 1\n",
    "# const idx_your_f = 2\n",
    "# const idx_your_l = 3\n",
    "# const idx_your_p = 4\n",
    "# const idx_your_r = 5\n",
    "# const idx_your_s = 6\n",
    "# const idx_opp_h = 7\n",
    "# const idx_opp_f = 8\n",
    "# const idx_opp_l = 9\n",
    "# const idx_opp_p = 10\n",
    "# const idx_opp_r = 11\n",
    "# const idx_opp_s = 12\n",
    "\n",
    "# const ab_cond_min = 1\n",
    "# const ab_cond_max = 2\n",
    "# const ab_cond_number_min_opp = 3 # number of min stats for opponent is greater than\n",
    "# const ab_cond_number_max_opp = 4 # number of max stats for opponent is greater than\n",
    "# const ab_cond_diff_min = 5 # difference between stat1 and stat2 is at least \n",
    "# const ab_cond_ratio_min = 6 # ratio of stat1 and stat2 at least\n",
    "\n",
    "# const ab_fx_modstat = 1 # modify stat1\n",
    "# const ab_fx_copystat = 2 # copy value of stat2 to stat1\n",
    "# const ab_fx_swapstat = 3 # switch values of stat2 and stat2\n",
    "\n",
    "\n",
    "# ForcedAbility(\n",
    "#         r_h, r_f, r_l, r_p, r_r, r_s, \n",
    "#         m_h, m_f, m_l, m_p, m_r, m_s, \n",
    "#         cond_type, cond_statidx1, cond_statidx2, cond_thres1, cond_thres2,\n",
    "#         fx_type, fx_statidx1, fx_statidx2, fx_mult, fx_add\n",
    "#     )\n",
    "\n",
    "function apply_ability_static(a::Spud)::Spud\n",
    "    ab = ability_data[a.a1]\n",
    "    return Spud(\n",
    "        a.name, \n",
    "        a.h + ab.m_h, a.f + ab.m_f, a.l + ab.m_l, \n",
    "        a.p + ab.m_p, a.r + ab.m_r, a.s + ab.m_s, a.a1)\n",
    "end\n",
    "\n",
    "function get_stat_value(a::Spud, b::Spud, statidx::Int64)::Int64\n",
    "    svs = [a.h, a.f, a.l, a.p, a.r, a.s, b.h, b.f, b.l, b.p, b.r, b.s]\n",
    "    return svs[statidx]\n",
    "end\n",
    "\n",
    "\n",
    "function set_stat_value0(a::Spud, statidx::Int64, val::Int64)::Spud\n",
    "    if statidx == 1\n",
    "        return Spud(a.name, val, a.f, a.l, a.p, a.r, a.s, a.a1)\n",
    "    end\n",
    "    if statidx == 2\n",
    "        return Spud(a.name, a.h, val, a.l, a.p, a.r, a.s, a.a1)\n",
    "    end\n",
    "    if statidx == 3\n",
    "        return Spud(a.name, a.h, a.f, val, a.p, a.r, a.s, a.a1)\n",
    "    end\n",
    "    if statidx == 4\n",
    "        return Spud(a.name, a.h, a.f, a.l, val, a.r, a.s, a.a1)\n",
    "    end\n",
    "    if statidx == 5\n",
    "        return Spud(a.name, a.h, a.f, a.l, a.p, val, a.s, a.a1)\n",
    "    end\n",
    "    if statidx == 6\n",
    "        return Spud(a.name, a.h, a.f, a.l, a.p, a.r, val, a.a1)\n",
    "    end\n",
    "end\n",
    "\n",
    "\n",
    "function set_stat_value(a::Spud, b::Spud, statidx::Int64, val::Int64)::Array{Spud}\n",
    "    if statidx <= 6\n",
    "        a = set_stat_value0(a, statidx, val)\n",
    "    end\n",
    "    if statidx >= 6\n",
    "        b = set_stat_value0(b, statidx - 6, val)\n",
    "    end\n",
    "    return [a,b]\n",
    "end\n",
    "\n",
    "\n",
    "function apply_ability(a::Spud, b::Spud)::Array{Spud}\n",
    "    ab = ability_data[a.a1]\n",
    "    if a.a1 == ability_none\n",
    "        return [a, b]\n",
    "    end\n",
    "    # check condition\n",
    "    cond_pass = false\n",
    "    if ab.cond_type == ab_cond_min\n",
    "        cond_pass = (get_stat_value(a, b, ab.cond_statidx1) >= ab.cond_thres1)\n",
    "    end\n",
    "    if ab.cond_type == ab_cond_max\n",
    "        cond_pass = (get_stat_value(a, b, ab.cond_statidx1) <= ab.cond_thres1)\n",
    "    end\n",
    "    if ab.cond_type == ab_cond_number_min_opp\n",
    "        cond_pass = (sum([b.h, b.f, b.l, b.p, b.r, b.s] .>= ab.cond_thres1) >= ab.cond_thres2)\n",
    "    end\n",
    "    if ab.cond_type == ab_cond_number_max_opp\n",
    "        cond_pass = (sum([b.h, b.f, b.l, b.p, b.r, b.s] .<= ab.cond_thres1) >= ab.cond_thres2)\n",
    "    end\n",
    "    if ab.cond_type == ab_cond_diff_min\n",
    "        cond_pass = (get_stat_value(a, b, ab.cond_statidx1) - get_stat_value(a, b, ab.cond_statidx2) >= ab.cond_thres1)\n",
    "    end\n",
    "    if ab.cond_type == ab_cond_ratio_min\n",
    "        cond_pass = (get_stat_value(a, b, ab.cond_statidx1) >= get_stat_value(a, b, ab.cond_statidx2) * ab.cond_thres1)\n",
    "    end\n",
    "    if cond_pass\n",
    "        if ab.fx_type == ab_fx_modstat\n",
    "            res = set_stat_value(a, b, ab.fx_statidx1, get_stat_value(a, b, ab.fx_statidx1) * ab.fx_mult + ab.fx_add)\n",
    "        end\n",
    "        if ab.fx_type == ab_fx_copystat\n",
    "            res = set_stat_value(a, b, ab.fx_statidx1, get_stat_value(a, b, ab.fx_statidx2))\n",
    "        end\n",
    "        if ab.fx_type == ab_fx_swapstat\n",
    "            temp = get_stat_value(a, b, ab.fx_statidx1)\n",
    "            res = set_stat_value(a, b, ab.fx_statidx1, get_stat_value(a, b, ab.fx_statidx2))\n",
    "            res = set_stat_value(a, b, ab.fx_statidx2, temp)\n",
    "        end\n",
    "        return res\n",
    "    else\n",
    "        return [a,b]\n",
    "    end\n",
    "end\n",
    "\n",
    "\n",
    "function eval_battle(a::Spud, b::Spud)::Int64\n",
    "    utb = compare_int_list(spud_utb_seq(a), spud_utb_seq(b), 0) # universal tiebreaker\n",
    "    if utb == 0\n",
    "        return 0\n",
    "    end\n",
    "    if a.a1 != ability_none\n",
    "        a = apply_ability_static(a)\n",
    "    end\n",
    "    if b.a1 != ability_none\n",
    "        b = apply_ability_static(b)\n",
    "    end\n",
    "    a_ability_first = compare_int_list([a.a1, a.s], [b.a1, b.s], utb)\n",
    "    if a_ability_first ==1\n",
    "        if a.a1 != ability_none\n",
    "            res = apply_ability(a, b)\n",
    "            a = res[1]\n",
    "            b = res[2]\n",
    "        end\n",
    "        if b.a1 != ability_none\n",
    "            res = apply_ability(b, a)\n",
    "            b = res[1]\n",
    "            a = res[2]\n",
    "        end\n",
    "    end\n",
    "    if a_ability_first == -1\n",
    "        if b.a1 != ability_none\n",
    "            res = apply_ability(b, a)\n",
    "            b = res[1]\n",
    "            a = res[2]\n",
    "        end\n",
    "        if a.a1 != ability_none\n",
    "            res = apply_ability(a, b)\n",
    "            a = res[1]\n",
    "            b = res[2]\n",
    "        end\n",
    "    end\n",
    "    #println(a)\n",
    "    #println(b)\n",
    "    a_finds = eval_finds(a, b, utb)==1\n",
    "    b_finds = eval_finds(b, a, utb)==1\n",
    "    melee_win = eval_melee(a, b, 0, utb)\n",
    "    if a_finds && b_finds\n",
    "        return melee_win\n",
    "    end\n",
    "    if a_finds && !b_finds\n",
    "        return 1\n",
    "    end\n",
    "    if !a_finds && b_finds\n",
    "        return -1\n",
    "    end\n",
    "    if !a_finds && !b_finds\n",
    "        return compare_int_list([a.l, melee_win], [b.l, -melee_win], 0)\n",
    "    end\n",
    "end"
   ]
  },
  {
   "cell_type": "code",
   "execution_count": 11,
   "id": "d0e4bc47",
   "metadata": {},
   "outputs": [
    {
     "data": {
      "text/plain": [
       "meet_ability_req (generic function with 2 methods)"
      ]
     },
     "execution_count": 11,
     "metadata": {},
     "output_type": "execute_result"
    }
   ],
   "source": [
    "function meet_ability_req(ff::Spud, ab::ForcedAbility)::Bool\n",
    "    return (ff.h >= ab.r_h) && (ff.f >= ab.r_f) && (ff.l >= ab.r_l) && (ff.p >= ab.r_p) && (ff.r >= ab.r_r) && (ff.s >= ab.r_s)\n",
    "end\n",
    "\n",
    "function meet_ability_req(ff::Spud, ab::Int64)::Bool\n",
    "    return meet_ability_req(ff, ability_data[ab])\n",
    "end"
   ]
  },
  {
   "cell_type": "code",
   "execution_count": 12,
   "id": "f94b631c",
   "metadata": {},
   "outputs": [
    {
     "data": {
      "text/plain": [
       "Spud(\"ab_im\", 6, 3, 3, 1, 1, 1, 999)"
      ]
     },
     "execution_count": 12,
     "metadata": {},
     "output_type": "execute_result"
    }
   ],
   "source": [
    "b = Spud(\"tester\", 4, 3, 2, 3, 3, 3, ability_none)\n",
    "a = Spud(\"ab_im\", 2, 3, 3, 1, 1, 1, ability_imitative)\n",
    "a0 = Spud(\"ab_im\", 2, 3, 3, 1, 1, 1, ability_none)\n",
    "a1 = Spud(\"ab_im\", 6, 3, 3, 1, 1, 1, ability_none)\n"
   ]
  },
  {
   "cell_type": "code",
   "execution_count": 13,
   "id": "cae377d0",
   "metadata": {},
   "outputs": [
    {
     "data": {
      "text/plain": [
       "Spud(\"ab_im\", -3, 3, 3, 1, 1, 1, 10)"
      ]
     },
     "execution_count": 13,
     "metadata": {},
     "output_type": "execute_result"
    }
   ],
   "source": [
    "apply_ability_static(a)"
   ]
  },
  {
   "cell_type": "code",
   "execution_count": 14,
   "id": "0d9090cb",
   "metadata": {},
   "outputs": [
    {
     "data": {
      "text/plain": [
       "2-element Vector{Spud}:\n",
       " Spud(\"ab_im\", 4, 3, 3, 1, 1, 1, 10)\n",
       " Spud(\"tester\", 4, 3, 2, 3, 3, 3, 999)"
      ]
     },
     "execution_count": 14,
     "metadata": {},
     "output_type": "execute_result"
    }
   ],
   "source": [
    "res = apply_ability(a, b)"
   ]
  },
  {
   "cell_type": "code",
   "execution_count": 15,
   "id": "89bbc591",
   "metadata": {},
   "outputs": [
    {
     "data": {
      "text/plain": [
       "-1"
      ]
     },
     "execution_count": 15,
     "metadata": {},
     "output_type": "execute_result"
    }
   ],
   "source": [
    "eval_battle(a0, b)"
   ]
  },
  {
   "cell_type": "code",
   "execution_count": 16,
   "id": "be3bb649",
   "metadata": {},
   "outputs": [
    {
     "data": {
      "text/plain": [
       "1"
      ]
     },
     "execution_count": 16,
     "metadata": {},
     "output_type": "execute_result"
    }
   ],
   "source": [
    "eval_battle(a1, b)"
   ]
  },
  {
   "cell_type": "code",
   "execution_count": 17,
   "id": "2a886735",
   "metadata": {},
   "outputs": [
    {
     "data": {
      "text/plain": [
       "1"
      ]
     },
     "execution_count": 17,
     "metadata": {},
     "output_type": "execute_result"
    }
   ],
   "source": [
    "eval_battle(a, b)"
   ]
  },
  {
   "cell_type": "code",
   "execution_count": null,
   "id": "4bceeb56",
   "metadata": {},
   "outputs": [],
   "source": []
  },
  {
   "cell_type": "code",
   "execution_count": 18,
   "id": "40b9dc47",
   "metadata": {},
   "outputs": [
    {
     "data": {
      "text/plain": [
       "random_name_and_stat (generic function with 2 methods)"
      ]
     },
     "execution_count": 18,
     "metadata": {},
     "output_type": "execute_result"
    }
   ],
   "source": [
    "tab = CSV.read(\"census_yob2022_names.txt\", DataFrame, header = false)\n",
    "names = tab.Column1\n",
    "adjectives = CSV.read(\"adjectives.csv\", DataFrame)\n",
    "nouns = CSV.read(\"nouns.csv\", DataFrame)\n",
    "jobs = CSV.read(\"jobs.csv\", DataFrame)\n",
    "\n",
    "\n",
    "const mult_noun = 1\n",
    "const mult_adj = 2\n",
    "const mult_job = 3\n",
    "\n",
    "\n",
    "function random_name_and_stat(ability::Int64 = ability_none)::Spud\n",
    "    vp = [0, 0, 0, 0, 0, 0]\n",
    "    #nametype = rand([1,1,1,1,1,2,2,2,3])\n",
    "    name = \"\"\n",
    "    noun = \"\"\n",
    "    adj = \"\"\n",
    "    noun_i = rand(1:nrow(nouns))\n",
    "    noun = nouns[noun_i, :noun]\n",
    "    vp[1] = vp[1] + nouns[noun_i, :H] * mult_noun\n",
    "    vp[2] = vp[2] + nouns[noun_i, :F] * mult_noun\n",
    "    vp[3] = vp[3] + nouns[noun_i, :L] * mult_noun\n",
    "    vp[4] = vp[4] + nouns[noun_i, :P] * mult_noun\n",
    "    vp[5] = vp[5] + nouns[noun_i, :R] * mult_noun\n",
    "    vp[6] = vp[6] + nouns[noun_i, :S] * mult_noun\n",
    "    adj_i = rand(1:nrow(adjectives))\n",
    "    if ability == ability_none\n",
    "        adj = adjectives[adj_i, :adjective]\n",
    "        vp[1] = vp[1] + adjectives[adj_i, :H] * mult_adj\n",
    "        vp[2] = vp[2] + adjectives[adj_i, :F] * mult_adj\n",
    "        vp[3] = vp[3] + adjectives[adj_i, :L] * mult_adj\n",
    "        vp[4] = vp[4] + adjectives[adj_i, :P] * mult_adj\n",
    "        vp[5] = vp[5] + adjectives[adj_i, :R] * mult_adj\n",
    "        vp[6] = vp[6] + adjectives[adj_i, :S] * mult_adj\n",
    "    else\n",
    "        adj = ability_name[ability]\n",
    "    end\n",
    "    job_i = rand(1:nrow(jobs))\n",
    "    job = jobs[job_i, :job]\n",
    "    vp[1] = vp[1] + jobs[job_i, :H] * mult_job\n",
    "    vp[2] = vp[2] + jobs[job_i, :F] * mult_job\n",
    "    vp[3] = vp[3] + jobs[job_i, :L] * mult_job\n",
    "    vp[4] = vp[4] + jobs[job_i, :P] * mult_job\n",
    "    vp[5] = vp[5] + jobs[job_i, :R] * mult_job\n",
    "    vp[6] = vp[6] + jobs[job_i, :S] * mult_job\n",
    "    name = string(adj, \" \", job, \" \", noun)\n",
    "    Spud(name, vp[1], vp[2], vp[3], vp[4], vp[5], vp[6], ability_none)\n",
    "end"
   ]
  },
  {
   "cell_type": "code",
   "execution_count": 19,
   "id": "f606e085",
   "metadata": {},
   "outputs": [
    {
     "data": {
      "text/plain": [
       "rand_rename (generic function with 2 methods)"
      ]
     },
     "execution_count": 19,
     "metadata": {},
     "output_type": "execute_result"
    }
   ],
   "source": [
    "function rand_rename(a::Spud, n_tries::Int = 100)::Spud\n",
    "    best_score = 0.0\n",
    "    best_b = random_name_and_stat(a.a1)\n",
    "    for ii in 1:n_tries\n",
    "        b = random_name_and_stat(a.a1)\n",
    "        b_norm = sqrt(b.h^2 + b.f^2 + b.l^2 + b.p^2 + b.r^2 + b.s^2)\n",
    "        score = (a.h * b.h + a.f * b.f + a.l * b.l + a.p * b.p + a.r * b.r + a.s * b.s)/b_norm\n",
    "        if score > best_score\n",
    "            best_score = score\n",
    "            best_b = b\n",
    "        end\n",
    "    end\n",
    "    return Spud(best_b.name, a.h, a.f, a.l, a.p, a.r, a.s, a.a1)\n",
    "end"
   ]
  },
  {
   "cell_type": "code",
   "execution_count": 20,
   "id": "c35671ee",
   "metadata": {},
   "outputs": [
    {
     "data": {
      "text/plain": [
       "Spud(\"Imitative Auctioneer Boulangère potatoes\", 2, 3, 3, 1, 1, 1, 10)"
      ]
     },
     "execution_count": 20,
     "metadata": {},
     "output_type": "execute_result"
    }
   ],
   "source": [
    "rand_rename(a)"
   ]
  },
  {
   "cell_type": "code",
   "execution_count": 21,
   "id": "560e9539",
   "metadata": {},
   "outputs": [
    {
     "data": {
      "text/plain": [
       "df_to_spuds (generic function with 1 method)"
      ]
     },
     "execution_count": 21,
     "metadata": {},
     "output_type": "execute_result"
    }
   ],
   "source": [
    "function eval_battle_list(a::Spud, bs::Array{Spud})::Int\n",
    "    score = 0\n",
    "    for ii in 1:length(bs)\n",
    "        score = score + eval_battle(a, bs[ii])\n",
    "    end\n",
    "    return score\n",
    "end\n",
    "\n",
    "function eval_battle_list2(a::Spud, bs::Array{Spud}, w::Vector{Float64})::AbstractFloat\n",
    "    score = 0.0\n",
    "    for ii in 1:length(bs)\n",
    "        score = score + w[ii] * eval_battle(a, bs[ii])\n",
    "    end\n",
    "    return score\n",
    "end\n",
    "\n",
    "function spuds_to_df(as::Array{Spud})::DataFrame\n",
    "    names = Array{String}(undef, length(as))\n",
    "    hs = Array{Int}(undef, length(as))\n",
    "    fs = Array{Int}(undef, length(as))\n",
    "    ls = Array{Int}(undef, length(as))\n",
    "    ps = Array{Int}(undef, length(as))\n",
    "    rs = Array{Int}(undef, length(as))\n",
    "    ss = Array{Int}(undef, length(as))\n",
    "    a1s = Array{Int}(undef, length(as))\n",
    "    for ii in 1:length(as)\n",
    "        names[ii] = as[ii].name\n",
    "        hs[ii] = as[ii].h\n",
    "        fs[ii] = as[ii].f\n",
    "        ls[ii] = as[ii].l\n",
    "        ps[ii] = as[ii].p\n",
    "        rs[ii] = as[ii].r\n",
    "        ss[ii] = as[ii].s\n",
    "        a1s[ii] = as[ii].a1\n",
    "    end\n",
    "    df = DataFrame(name = names, h = hs, f = fs, l = ls, p = ps, r = rs, s = ss, a1 = a1s)\n",
    "    return df\n",
    "end\n",
    "\n",
    "function fpart(x::AbstractFloat)::AbstractFloat\n",
    "  return x - trunc(x)\n",
    "end\n",
    "\n",
    "# for legacy dfs without abilities\n",
    "function df_to_spuds0(df::DataFrame)::Array{Spud}\n",
    "    n = size(df)[1]\n",
    "    as = Array{Spud}(undef, n)\n",
    "    for i in 1:n\n",
    "        as[i] = Spud(df[i, :name], df[i, :h], df[i, :f], df[i, :l], df[i, :p], df[i, :r], df[i, :s], ability_none)\n",
    "    end\n",
    "    return as\n",
    "end\n",
    "\n",
    "function df_to_spuds(df::DataFrame)::Array{Spud}\n",
    "    n = size(df)[1]\n",
    "    as = Array{Spud}(undef, n)\n",
    "    for i in 1:n\n",
    "        as[i] = Spud(df[i, :name], df[i, :h], df[i, :f], df[i, :l], df[i, :p], df[i, :r], df[i, :s], df[i, :a1])\n",
    "    end\n",
    "    return as\n",
    "end\n",
    "\n"
   ]
  },
  {
   "cell_type": "markdown",
   "id": "261e21eb",
   "metadata": {},
   "source": [
    "## Form library of base values"
   ]
  },
  {
   "cell_type": "code",
   "execution_count": 22,
   "id": "8534b5bb",
   "metadata": {},
   "outputs": [
    {
     "data": {
      "text/plain": [
       "1.1"
      ]
     },
     "execution_count": 22,
     "metadata": {},
     "output_type": "execute_result"
    }
   ],
   "source": [
    "# form initial library by subsampling indices\n",
    "library = Array{Spud}(undef, 100000)\n",
    "spud_i = 0\n",
    "ss_prob = 1.1"
   ]
  },
  {
   "cell_type": "code",
   "execution_count": 23,
   "id": "3febb950",
   "metadata": {},
   "outputs": [],
   "source": [
    "\n",
    "hrange = MNV:MXV\n",
    "frange = MNV:MXV\n",
    "lrange = MNV:MXV\n",
    "prange = MNV:MXV\n",
    "rrange = MNV:MXV\n",
    "srange = MNV:MXV\n",
    "\n",
    "for h in hrange\n",
    "    if (cost(h, MNV, MNV, MNV, MNV, MNV) <= MXS)\n",
    "        for f in frange\n",
    "            if (cost(h, f, MNV, MNV, MNV, MNV) <= MXS)\n",
    "                for l in lrange\n",
    "                    if (cost(h, f, l, MNV, MNV, MNV) <= MXS)\n",
    "                        for p in prange\n",
    "                            if (cost(h, f, l, p, MNV, MNV) <= MXS)\n",
    "                                for r in rrange\n",
    "                                    if (cost(h, f, l, p, r, MNV) <= MXS)\n",
    "                                        for s in srange\n",
    "                                            if rand() < ss_prob && (cost(h,f,l,p,r,s) <= MXS)\n",
    "                                                check_f = (h == MXV) || (cost(h+1,f,l,p,r,s) > MXS)\n",
    "                                                check_h = (f == MXV) || (cost(h,f+1,l,p,r,s) > MXS)\n",
    "                                                check_l = (l == MXV) || (cost(h,f,l+1,p,r,s) > MXS)\n",
    "                                                check_prs = (p+r+s == 3*MXV) || (cost(h,f,l,p+1,r,s) > MXS)\n",
    "                                                if check_h && check_f && check_l && check_prs\n",
    "                                                    spud_i += 1\n",
    "                                                    #randname = rand_rename(Spud(\" \",h,f,l,p,r,s)).name\n",
    "                                                    #name = string(\"#\", @sprintf(\"%i\", spud_i), \". \", randname)\n",
    "                                                    name = \"\"\n",
    "                                                    library[spud_i] = Spud(name,h,f,l,p,r,s, ability_none)\n",
    "                                                end\n",
    "                                            end\n",
    "                                        end\n",
    "                                    end\n",
    "                                end                        \n",
    "                            end\n",
    "                        end                        \n",
    "                    end\n",
    "                end\n",
    "            end\n",
    "        end\n",
    "    end\n",
    "end\n"
   ]
  },
  {
   "cell_type": "code",
   "execution_count": 24,
   "id": "9bbe4ff4",
   "metadata": {},
   "outputs": [
    {
     "data": {
      "text/plain": [
       "12675"
      ]
     },
     "execution_count": 24,
     "metadata": {},
     "output_type": "execute_result"
    }
   ],
   "source": [
    "library = unique(library[1:spud_i])\n",
    "n_spuds = length(library)"
   ]
  },
  {
   "cell_type": "code",
   "execution_count": 25,
   "id": "52daa014",
   "metadata": {},
   "outputs": [],
   "source": [
    "# Check that there are no ties in spudland\n",
    "for iter in 1:10000\n",
    "    i = rand(1:n_spuds)\n",
    "    j = rand(1:n_spuds)\n",
    "    if i != j && eval_battle(library[i], library[j]) == 0\n",
    "        println(library[i])\n",
    "        println(library[j])\n",
    "        println()\n",
    "    end\n",
    "end"
   ]
  },
  {
   "cell_type": "markdown",
   "id": "88b19f9c",
   "metadata": {},
   "source": [
    "## adjust abilities"
   ]
  },
  {
   "cell_type": "code",
   "execution_count": 26,
   "id": "b7bc5f03",
   "metadata": {},
   "outputs": [],
   "source": [
    "nash_env_df = DataFrame(CSV.File(\"spudsD_mxv10_nash.csv\"))\n",
    "nash_env = df_to_spuds0(nash_env_df)\n",
    "counts = [parse(Int, s.name[2:end]) for s in nash_env];"
   ]
  },
  {
   "cell_type": "code",
   "execution_count": 40,
   "id": "09bb1750",
   "metadata": {},
   "outputs": [
    {
     "data": {
      "text/plain": [
       "Dict{Int64, ForcedAbility} with 1 entry:\n",
       "  10 => ForcedAbility(0, 0, 0, 0, 0, 0, 0, 0, 0, 0, 0, 0, 5, 7, 1, 0, 0, 2, 1, …"
      ]
     },
     "execution_count": 40,
     "metadata": {},
     "output_type": "execute_result"
    }
   ],
   "source": [
    "d_ability_imitative = c_forcedability(\n",
    "    cond_type = ab_cond_diff_min, cond_statidx1 = idx_opp_h, cond_statidx2 = idx_your_h, cond_thres1 = 0, \n",
    "    fx_type = ab_fx_copystat, fx_statidx1 = idx_your_h, fx_statidx2 = idx_opp_h\n",
    ")\n",
    "\n",
    "ability_data = Dict(\n",
    "    ability_imitative => d_ability_imitative,\n",
    ")"
   ]
  },
  {
   "cell_type": "code",
   "execution_count": 41,
   "id": "b235edad",
   "metadata": {},
   "outputs": [
    {
     "data": {
      "text/plain": [
       "ForcedAbility(3, 3, 0, 5, 0, 2, 0, 0, 0, -1, 0, 0, 3, 0, 0, 10, 3, 1, 4, 0, 1, 3)"
      ]
     },
     "execution_count": 41,
     "metadata": {},
     "output_type": "execute_result"
    }
   ],
   "source": [
    "d_ability_reciprocating = c_forcedability(\n",
    "    r_f = 4, m_f = -1, r_h = 3, m_h = -1, m_p = -1, r_p = 2, r_r = 2,\n",
    "    cond_type = ab_cond_diff_min, cond_statidx1 = idx_opp_f, cond_statidx2 = idx_your_f, cond_thres1 = 0, \n",
    "    fx_type = ab_fx_copystat, fx_statidx1 = idx_your_f, fx_statidx2 = idx_opp_f\n",
    ")\n",
    "\n",
    "d_ability_melodious = c_forcedability(\n",
    "    r_f = 3, m_f = -2, r_s = 3, m_s = -1,\n",
    "    cond_type = ab_cond_ratio_min, cond_statidx1 = idx_your_l, cond_statidx2= idx_opp_l, cond_thres1 = 2,\n",
    "    fx_type = ab_fx_modstat, fx_statidx1 = idx_your_f, fx_add=3\n",
    ")\n",
    "\n",
    "# too much overlap with existing spuds\n",
    "d_ability_iconoclast = c_forcedability(\n",
    "    r_h = 3, r_f = 3, r_p = 5, m_p = -1, r_s = 2,\n",
    "    cond_type = ab_cond_number_min_opp, cond_thres1 = 10, cond_thres2=3,\n",
    "    fx_type = ab_fx_modstat, fx_statidx1=idx_your_p, fx_add = 3\n",
    ")\n",
    "\n",
    "ability_data[ability_reciprocating] = d_ability_reciprocating\n",
    "ability_data[ability_melodious] = d_ability_melodious\n",
    "ability_data[ability_iconoclast] = d_ability_iconoclast"
   ]
  },
  {
   "cell_type": "code",
   "execution_count": 42,
   "id": "18faa398",
   "metadata": {
    "scrolled": false
   },
   "outputs": [
    {
     "data": {
      "text/plain": [
       "0.4997280961066488"
      ]
     },
     "execution_count": 42,
     "metadata": {},
     "output_type": "execute_result"
    }
   ],
   "source": [
    "abid = ability_imitative\n",
    "evs = Array{Float64}(undef, 1000000)\n",
    "cs = Array{Int64}(undef, 1000000)\n",
    "ffs = Array{Spud}(undef, 1000000)\n",
    "ff_i = 0\n",
    "\n",
    "ss_prob = 1.0\n",
    "hrange = MNV:MXV\n",
    "frange = MNV:MXV\n",
    "lrange = MNV:MXV\n",
    "prange = MNV:MXV\n",
    "rrange = MNV:MXV\n",
    "srange = MNV:MXV\n",
    "\n",
    "for h in hrange\n",
    "    if (cost(h, MNV, MNV, MNV, MNV, MNV) <= MXS)\n",
    "        for f in frange\n",
    "            if (cost(h, f, MNV, MNV, MNV, MNV) <= MXS)\n",
    "                for l in lrange\n",
    "                    if (cost(h, f, l, MNV, MNV, MNV) <= MXS)\n",
    "                        for p in prange\n",
    "                            if (cost(h, f, l, p, MNV, MNV) <= MXS)\n",
    "                                for r in rrange\n",
    "                                    if (cost(h, f, l, p, r, MNV) <= MXS)\n",
    "                                        for s in srange\n",
    "                                            if rand() < ss_prob && (cost(h,f,l,p,r,s) <= MXS)\n",
    "                                                ff = Spud(\"\", h,f,l,p,r,s,abid)\n",
    "                                                ev = eval_battle_list2(ff, nash_env, counts./sum(counts))\n",
    "                                                if abs(ev) < 0.5\n",
    "                                                    ff_i += 1\n",
    "                                                    ffs[ff_i] = ff\n",
    "                                                    evs[ff_i] = ev\n",
    "                                                    cs[ff_i] = cost(ff)\n",
    "                                                end\n",
    "                                            end\n",
    "                                        end\n",
    "                                    end\n",
    "                                end                        \n",
    "                            end\n",
    "                        end                        \n",
    "                    end\n",
    "                end\n",
    "            end\n",
    "        end\n",
    "    end\n",
    "end\n",
    "\n",
    "\n",
    "\n",
    "\n",
    "evs = evs[1:ff_i]\n",
    "cs = cs[1:ff_i]\n",
    "ffs = ffs[1:ff_i]\n",
    "maximum(evs)"
   ]
  },
  {
   "cell_type": "code",
   "execution_count": 43,
   "id": "f5685b43",
   "metadata": {},
   "outputs": [
    {
     "data": {
      "text/html": [
       "<div><div style = \"float: left;\"><span>206197×10 DataFrame</span></div><div style = \"float: right;\"><span style = \"font-style: italic;\">206172 rows omitted</span></div><div style = \"clear: both;\"></div></div><div class = \"data-frame\" style = \"overflow-x: scroll;\"><table class = \"data-frame\" style = \"margin-bottom: 6px;\"><thead><tr class = \"header\"><th class = \"rowNumber\" style = \"font-weight: bold; text-align: right;\">Row</th><th style = \"text-align: left;\">name</th><th style = \"text-align: left;\">h</th><th style = \"text-align: left;\">f</th><th style = \"text-align: left;\">l</th><th style = \"text-align: left;\">p</th><th style = \"text-align: left;\">r</th><th style = \"text-align: left;\">s</th><th style = \"text-align: left;\">a1</th><th style = \"text-align: left;\">ev</th><th style = \"text-align: left;\">cost</th></tr><tr class = \"subheader headerLastRow\"><th class = \"rowNumber\" style = \"font-weight: bold; text-align: right;\"></th><th title = \"String\" style = \"text-align: left;\">String</th><th title = \"Int64\" style = \"text-align: left;\">Int64</th><th title = \"Int64\" style = \"text-align: left;\">Int64</th><th title = \"Int64\" style = \"text-align: left;\">Int64</th><th title = \"Int64\" style = \"text-align: left;\">Int64</th><th title = \"Int64\" style = \"text-align: left;\">Int64</th><th title = \"Int64\" style = \"text-align: left;\">Int64</th><th title = \"Int64\" style = \"text-align: left;\">Int64</th><th title = \"Float64\" style = \"text-align: left;\">Float64</th><th title = \"Int64\" style = \"text-align: left;\">Int64</th></tr></thead><tbody><tr><td class = \"rowNumber\" style = \"font-weight: bold; text-align: right;\">1</td><td style = \"text-align: left;\"></td><td style = \"text-align: right;\">1</td><td style = \"text-align: right;\">1</td><td style = \"text-align: right;\">8</td><td style = \"text-align: right;\">1</td><td style = \"text-align: right;\">2</td><td style = \"text-align: right;\">6</td><td style = \"text-align: right;\">10</td><td style = \"text-align: right;\">-0.491513</td><td style = \"text-align: right;\">18</td></tr><tr><td class = \"rowNumber\" style = \"font-weight: bold; text-align: right;\">2</td><td style = \"text-align: left;\"></td><td style = \"text-align: right;\">1</td><td style = \"text-align: right;\">1</td><td style = \"text-align: right;\">8</td><td style = \"text-align: right;\">1</td><td style = \"text-align: right;\">2</td><td style = \"text-align: right;\">7</td><td style = \"text-align: right;\">10</td><td style = \"text-align: right;\">-0.482154</td><td style = \"text-align: right;\">19</td></tr><tr><td class = \"rowNumber\" style = \"font-weight: bold; text-align: right;\">3</td><td style = \"text-align: left;\"></td><td style = \"text-align: right;\">1</td><td style = \"text-align: right;\">1</td><td style = \"text-align: right;\">8</td><td style = \"text-align: right;\">1</td><td style = \"text-align: right;\">2</td><td style = \"text-align: right;\">8</td><td style = \"text-align: right;\">10</td><td style = \"text-align: right;\">-0.482147</td><td style = \"text-align: right;\">20</td></tr><tr><td class = \"rowNumber\" style = \"font-weight: bold; text-align: right;\">4</td><td style = \"text-align: left;\"></td><td style = \"text-align: right;\">1</td><td style = \"text-align: right;\">1</td><td style = \"text-align: right;\">8</td><td style = \"text-align: right;\">1</td><td style = \"text-align: right;\">2</td><td style = \"text-align: right;\">9</td><td style = \"text-align: right;\">10</td><td style = \"text-align: right;\">-0.482123</td><td style = \"text-align: right;\">21</td></tr><tr><td class = \"rowNumber\" style = \"font-weight: bold; text-align: right;\">5</td><td style = \"text-align: left;\"></td><td style = \"text-align: right;\">1</td><td style = \"text-align: right;\">1</td><td style = \"text-align: right;\">8</td><td style = \"text-align: right;\">1</td><td style = \"text-align: right;\">2</td><td style = \"text-align: right;\">10</td><td style = \"text-align: right;\">10</td><td style = \"text-align: right;\">-0.48192</td><td style = \"text-align: right;\">22</td></tr><tr><td class = \"rowNumber\" style = \"font-weight: bold; text-align: right;\">6</td><td style = \"text-align: left;\"></td><td style = \"text-align: right;\">1</td><td style = \"text-align: right;\">1</td><td style = \"text-align: right;\">8</td><td style = \"text-align: right;\">1</td><td style = \"text-align: right;\">3</td><td style = \"text-align: right;\">6</td><td style = \"text-align: right;\">10</td><td style = \"text-align: right;\">-0.476655</td><td style = \"text-align: right;\">19</td></tr><tr><td class = \"rowNumber\" style = \"font-weight: bold; text-align: right;\">7</td><td style = \"text-align: left;\"></td><td style = \"text-align: right;\">1</td><td style = \"text-align: right;\">1</td><td style = \"text-align: right;\">8</td><td style = \"text-align: right;\">1</td><td style = \"text-align: right;\">3</td><td style = \"text-align: right;\">7</td><td style = \"text-align: right;\">10</td><td style = \"text-align: right;\">-0.447646</td><td style = \"text-align: right;\">20</td></tr><tr><td class = \"rowNumber\" style = \"font-weight: bold; text-align: right;\">8</td><td style = \"text-align: left;\"></td><td style = \"text-align: right;\">1</td><td style = \"text-align: right;\">1</td><td style = \"text-align: right;\">8</td><td style = \"text-align: right;\">1</td><td style = \"text-align: right;\">3</td><td style = \"text-align: right;\">8</td><td style = \"text-align: right;\">10</td><td style = \"text-align: right;\">-0.447635</td><td style = \"text-align: right;\">21</td></tr><tr><td class = \"rowNumber\" style = \"font-weight: bold; text-align: right;\">9</td><td style = \"text-align: left;\"></td><td style = \"text-align: right;\">1</td><td style = \"text-align: right;\">1</td><td style = \"text-align: right;\">8</td><td style = \"text-align: right;\">1</td><td style = \"text-align: right;\">3</td><td style = \"text-align: right;\">9</td><td style = \"text-align: right;\">10</td><td style = \"text-align: right;\">-0.447611</td><td style = \"text-align: right;\">22</td></tr><tr><td class = \"rowNumber\" style = \"font-weight: bold; text-align: right;\">10</td><td style = \"text-align: left;\"></td><td style = \"text-align: right;\">1</td><td style = \"text-align: right;\">1</td><td style = \"text-align: right;\">8</td><td style = \"text-align: right;\">1</td><td style = \"text-align: right;\">3</td><td style = \"text-align: right;\">10</td><td style = \"text-align: right;\">10</td><td style = \"text-align: right;\">-0.447408</td><td style = \"text-align: right;\">23</td></tr><tr><td class = \"rowNumber\" style = \"font-weight: bold; text-align: right;\">11</td><td style = \"text-align: left;\"></td><td style = \"text-align: right;\">1</td><td style = \"text-align: right;\">1</td><td style = \"text-align: right;\">8</td><td style = \"text-align: right;\">1</td><td style = \"text-align: right;\">4</td><td style = \"text-align: right;\">6</td><td style = \"text-align: right;\">10</td><td style = \"text-align: right;\">-0.418914</td><td style = \"text-align: right;\">20</td></tr><tr><td class = \"rowNumber\" style = \"font-weight: bold; text-align: right;\">12</td><td style = \"text-align: left;\"></td><td style = \"text-align: right;\">1</td><td style = \"text-align: right;\">1</td><td style = \"text-align: right;\">8</td><td style = \"text-align: right;\">1</td><td style = \"text-align: right;\">4</td><td style = \"text-align: right;\">7</td><td style = \"text-align: right;\">10</td><td style = \"text-align: right;\">-0.410366</td><td style = \"text-align: right;\">21</td></tr><tr><td class = \"rowNumber\" style = \"font-weight: bold; text-align: right;\">13</td><td style = \"text-align: left;\"></td><td style = \"text-align: right;\">1</td><td style = \"text-align: right;\">1</td><td style = \"text-align: right;\">8</td><td style = \"text-align: right;\">1</td><td style = \"text-align: right;\">4</td><td style = \"text-align: right;\">8</td><td style = \"text-align: right;\">10</td><td style = \"text-align: right;\">-0.410356</td><td style = \"text-align: right;\">22</td></tr><tr><td style = \"text-align: right;\">&vellip;</td><td style = \"text-align: right;\">&vellip;</td><td style = \"text-align: right;\">&vellip;</td><td style = \"text-align: right;\">&vellip;</td><td style = \"text-align: right;\">&vellip;</td><td style = \"text-align: right;\">&vellip;</td><td style = \"text-align: right;\">&vellip;</td><td style = \"text-align: right;\">&vellip;</td><td style = \"text-align: right;\">&vellip;</td><td style = \"text-align: right;\">&vellip;</td><td style = \"text-align: right;\">&vellip;</td></tr><tr><td class = \"rowNumber\" style = \"font-weight: bold; text-align: right;\">206186</td><td style = \"text-align: left;\"></td><td style = \"text-align: right;\">10</td><td style = \"text-align: right;\">5</td><td style = \"text-align: right;\">3</td><td style = \"text-align: right;\">2</td><td style = \"text-align: right;\">1</td><td style = \"text-align: right;\">1</td><td style = \"text-align: right;\">10</td><td style = \"text-align: right;\">-0.0224742</td><td style = \"text-align: right;\">100</td></tr><tr><td class = \"rowNumber\" style = \"font-weight: bold; text-align: right;\">206187</td><td style = \"text-align: left;\"></td><td style = \"text-align: right;\">10</td><td style = \"text-align: right;\">6</td><td style = \"text-align: right;\">1</td><td style = \"text-align: right;\">1</td><td style = \"text-align: right;\">1</td><td style = \"text-align: right;\">1</td><td style = \"text-align: right;\">10</td><td style = \"text-align: right;\">-0.235827</td><td style = \"text-align: right;\">88</td></tr><tr><td class = \"rowNumber\" style = \"font-weight: bold; text-align: right;\">206188</td><td style = \"text-align: left;\"></td><td style = \"text-align: right;\">10</td><td style = \"text-align: right;\">6</td><td style = \"text-align: right;\">1</td><td style = \"text-align: right;\">1</td><td style = \"text-align: right;\">1</td><td style = \"text-align: right;\">2</td><td style = \"text-align: right;\">10</td><td style = \"text-align: right;\">-0.119033</td><td style = \"text-align: right;\">94</td></tr><tr><td class = \"rowNumber\" style = \"font-weight: bold; text-align: right;\">206189</td><td style = \"text-align: left;\"></td><td style = \"text-align: right;\">10</td><td style = \"text-align: right;\">6</td><td style = \"text-align: right;\">1</td><td style = \"text-align: right;\">1</td><td style = \"text-align: right;\">1</td><td style = \"text-align: right;\">3</td><td style = \"text-align: right;\">10</td><td style = \"text-align: right;\">-0.0709934</td><td style = \"text-align: right;\">100</td></tr><tr><td class = \"rowNumber\" style = \"font-weight: bold; text-align: right;\">206190</td><td style = \"text-align: left;\"></td><td style = \"text-align: right;\">10</td><td style = \"text-align: right;\">6</td><td style = \"text-align: right;\">1</td><td style = \"text-align: right;\">1</td><td style = \"text-align: right;\">2</td><td style = \"text-align: right;\">1</td><td style = \"text-align: right;\">10</td><td style = \"text-align: right;\">-0.0902118</td><td style = \"text-align: right;\">94</td></tr><tr><td class = \"rowNumber\" style = \"font-weight: bold; text-align: right;\">206191</td><td style = \"text-align: left;\"></td><td style = \"text-align: right;\">10</td><td style = \"text-align: right;\">6</td><td style = \"text-align: right;\">1</td><td style = \"text-align: right;\">1</td><td style = \"text-align: right;\">2</td><td style = \"text-align: right;\">2</td><td style = \"text-align: right;\">10</td><td style = \"text-align: right;\">-0.0128563</td><td style = \"text-align: right;\">100</td></tr><tr><td class = \"rowNumber\" style = \"font-weight: bold; text-align: right;\">206192</td><td style = \"text-align: left;\"></td><td style = \"text-align: right;\">10</td><td style = \"text-align: right;\">6</td><td style = \"text-align: right;\">1</td><td style = \"text-align: right;\">1</td><td style = \"text-align: right;\">3</td><td style = \"text-align: right;\">1</td><td style = \"text-align: right;\">10</td><td style = \"text-align: right;\">-0.0463247</td><td style = \"text-align: right;\">100</td></tr><tr><td class = \"rowNumber\" style = \"font-weight: bold; text-align: right;\">206193</td><td style = \"text-align: left;\"></td><td style = \"text-align: right;\">10</td><td style = \"text-align: right;\">6</td><td style = \"text-align: right;\">1</td><td style = \"text-align: right;\">2</td><td style = \"text-align: right;\">1</td><td style = \"text-align: right;\">1</td><td style = \"text-align: right;\">10</td><td style = \"text-align: right;\">-0.205202</td><td style = \"text-align: right;\">94</td></tr><tr><td class = \"rowNumber\" style = \"font-weight: bold; text-align: right;\">206194</td><td style = \"text-align: left;\"></td><td style = \"text-align: right;\">10</td><td style = \"text-align: right;\">6</td><td style = \"text-align: right;\">1</td><td style = \"text-align: right;\">2</td><td style = \"text-align: right;\">1</td><td style = \"text-align: right;\">2</td><td style = \"text-align: right;\">10</td><td style = \"text-align: right;\">-0.0686338</td><td style = \"text-align: right;\">100</td></tr><tr><td class = \"rowNumber\" style = \"font-weight: bold; text-align: right;\">206195</td><td style = \"text-align: left;\"></td><td style = \"text-align: right;\">10</td><td style = \"text-align: right;\">6</td><td style = \"text-align: right;\">1</td><td style = \"text-align: right;\">2</td><td style = \"text-align: right;\">2</td><td style = \"text-align: right;\">1</td><td style = \"text-align: right;\">10</td><td style = \"text-align: right;\">-0.0606684</td><td style = \"text-align: right;\">100</td></tr><tr><td class = \"rowNumber\" style = \"font-weight: bold; text-align: right;\">206196</td><td style = \"text-align: left;\"></td><td style = \"text-align: right;\">10</td><td style = \"text-align: right;\">6</td><td style = \"text-align: right;\">1</td><td style = \"text-align: right;\">3</td><td style = \"text-align: right;\">1</td><td style = \"text-align: right;\">1</td><td style = \"text-align: right;\">10</td><td style = \"text-align: right;\">-0.0980321</td><td style = \"text-align: right;\">100</td></tr><tr><td class = \"rowNumber\" style = \"font-weight: bold; text-align: right;\">206197</td><td style = \"text-align: left;\"></td><td style = \"text-align: right;\">10</td><td style = \"text-align: right;\">6</td><td style = \"text-align: right;\">2</td><td style = \"text-align: right;\">1</td><td style = \"text-align: right;\">1</td><td style = \"text-align: right;\">1</td><td style = \"text-align: right;\">10</td><td style = \"text-align: right;\">-0.0582949</td><td style = \"text-align: right;\">98</td></tr></tbody></table></div>"
      ],
      "text/latex": [
       "\\begin{tabular}{r|cccccccccc}\n",
       "\t& name & h & f & l & p & r & s & a1 & ev & cost\\\\\n",
       "\t\\hline\n",
       "\t& String & Int64 & Int64 & Int64 & Int64 & Int64 & Int64 & Int64 & Float64 & Int64\\\\\n",
       "\t\\hline\n",
       "\t1 &  & 1 & 1 & 8 & 1 & 2 & 6 & 10 & -0.491513 & 18 \\\\\n",
       "\t2 &  & 1 & 1 & 8 & 1 & 2 & 7 & 10 & -0.482154 & 19 \\\\\n",
       "\t3 &  & 1 & 1 & 8 & 1 & 2 & 8 & 10 & -0.482147 & 20 \\\\\n",
       "\t4 &  & 1 & 1 & 8 & 1 & 2 & 9 & 10 & -0.482123 & 21 \\\\\n",
       "\t5 &  & 1 & 1 & 8 & 1 & 2 & 10 & 10 & -0.48192 & 22 \\\\\n",
       "\t6 &  & 1 & 1 & 8 & 1 & 3 & 6 & 10 & -0.476655 & 19 \\\\\n",
       "\t7 &  & 1 & 1 & 8 & 1 & 3 & 7 & 10 & -0.447646 & 20 \\\\\n",
       "\t8 &  & 1 & 1 & 8 & 1 & 3 & 8 & 10 & -0.447635 & 21 \\\\\n",
       "\t9 &  & 1 & 1 & 8 & 1 & 3 & 9 & 10 & -0.447611 & 22 \\\\\n",
       "\t10 &  & 1 & 1 & 8 & 1 & 3 & 10 & 10 & -0.447408 & 23 \\\\\n",
       "\t11 &  & 1 & 1 & 8 & 1 & 4 & 6 & 10 & -0.418914 & 20 \\\\\n",
       "\t12 &  & 1 & 1 & 8 & 1 & 4 & 7 & 10 & -0.410366 & 21 \\\\\n",
       "\t13 &  & 1 & 1 & 8 & 1 & 4 & 8 & 10 & -0.410356 & 22 \\\\\n",
       "\t14 &  & 1 & 1 & 8 & 1 & 4 & 9 & 10 & -0.410331 & 23 \\\\\n",
       "\t15 &  & 1 & 1 & 8 & 1 & 4 & 10 & 10 & -0.410128 & 24 \\\\\n",
       "\t16 &  & 1 & 1 & 8 & 1 & 5 & 5 & 10 & -0.456737 & 20 \\\\\n",
       "\t17 &  & 1 & 1 & 8 & 1 & 5 & 6 & 10 & -0.395698 & 21 \\\\\n",
       "\t18 &  & 1 & 1 & 8 & 1 & 5 & 7 & 10 & -0.38831 & 22 \\\\\n",
       "\t19 &  & 1 & 1 & 8 & 1 & 5 & 8 & 10 & -0.388293 & 23 \\\\\n",
       "\t20 &  & 1 & 1 & 8 & 1 & 5 & 9 & 10 & -0.388268 & 24 \\\\\n",
       "\t21 &  & 1 & 1 & 8 & 1 & 5 & 10 & 10 & -0.388065 & 25 \\\\\n",
       "\t22 &  & 1 & 1 & 8 & 1 & 6 & 5 & 10 & -0.450465 & 21 \\\\\n",
       "\t23 &  & 1 & 1 & 8 & 1 & 6 & 6 & 10 & -0.395698 & 22 \\\\\n",
       "\t24 &  & 1 & 1 & 8 & 1 & 6 & 7 & 10 & -0.388276 & 23 \\\\\n",
       "\t25 &  & 1 & 1 & 8 & 1 & 6 & 8 & 10 & -0.388259 & 24 \\\\\n",
       "\t26 &  & 1 & 1 & 8 & 1 & 6 & 9 & 10 & -0.385722 & 25 \\\\\n",
       "\t27 &  & 1 & 1 & 8 & 1 & 6 & 10 & 10 & -0.385519 & 26 \\\\\n",
       "\t28 &  & 1 & 1 & 8 & 1 & 7 & 5 & 10 & -0.449738 & 22 \\\\\n",
       "\t29 &  & 1 & 1 & 8 & 1 & 7 & 6 & 10 & -0.394971 & 23 \\\\\n",
       "\t30 &  & 1 & 1 & 8 & 1 & 7 & 7 & 10 & -0.387549 & 24 \\\\\n",
       "\t$\\dots$ & $\\dots$ & $\\dots$ & $\\dots$ & $\\dots$ & $\\dots$ & $\\dots$ & $\\dots$ & $\\dots$ & $\\dots$ & $\\dots$ \\\\\n",
       "\\end{tabular}\n"
      ],
      "text/plain": [
       "\u001b[1m206197×10 DataFrame\u001b[0m\n",
       "\u001b[1m    Row \u001b[0m│\u001b[1m name   \u001b[0m\u001b[1m h     \u001b[0m\u001b[1m f     \u001b[0m\u001b[1m l     \u001b[0m\u001b[1m p     \u001b[0m\u001b[1m r     \u001b[0m\u001b[1m s     \u001b[0m\u001b[1m a1    \u001b[0m\u001b[1m ev         \u001b[0m ⋯\n",
       "        │\u001b[90m String \u001b[0m\u001b[90m Int64 \u001b[0m\u001b[90m Int64 \u001b[0m\u001b[90m Int64 \u001b[0m\u001b[90m Int64 \u001b[0m\u001b[90m Int64 \u001b[0m\u001b[90m Int64 \u001b[0m\u001b[90m Int64 \u001b[0m\u001b[90m Float64    \u001b[0m ⋯\n",
       "────────┼───────────────────────────────────────────────────────────────────────\n",
       "      1 │             1      1      8      1      2      6     10  -0.491513   ⋯\n",
       "      2 │             1      1      8      1      2      7     10  -0.482154\n",
       "      3 │             1      1      8      1      2      8     10  -0.482147\n",
       "      4 │             1      1      8      1      2      9     10  -0.482123\n",
       "      5 │             1      1      8      1      2     10     10  -0.48192    ⋯\n",
       "      6 │             1      1      8      1      3      6     10  -0.476655\n",
       "      7 │             1      1      8      1      3      7     10  -0.447646\n",
       "      8 │             1      1      8      1      3      8     10  -0.447635\n",
       "      9 │             1      1      8      1      3      9     10  -0.447611   ⋯\n",
       "     10 │             1      1      8      1      3     10     10  -0.447408\n",
       "     11 │             1      1      8      1      4      6     10  -0.418914\n",
       "   ⋮    │   ⋮       ⋮      ⋮      ⋮      ⋮      ⋮      ⋮      ⋮         ⋮      ⋱\n",
       " 206188 │            10      6      1      1      1      2     10  -0.119033\n",
       " 206189 │            10      6      1      1      1      3     10  -0.0709934  ⋯\n",
       " 206190 │            10      6      1      1      2      1     10  -0.0902118\n",
       " 206191 │            10      6      1      1      2      2     10  -0.0128563\n",
       " 206192 │            10      6      1      1      3      1     10  -0.0463247\n",
       " 206193 │            10      6      1      2      1      1     10  -0.205202   ⋯\n",
       " 206194 │            10      6      1      2      1      2     10  -0.0686338\n",
       " 206195 │            10      6      1      2      2      1     10  -0.0606684\n",
       " 206196 │            10      6      1      3      1      1     10  -0.0980321\n",
       " 206197 │            10      6      2      1      1      1     10  -0.0582949  ⋯\n",
       "\u001b[36m                                                1 column and 206176 rows omitted\u001b[0m"
      ]
     },
     "execution_count": 43,
     "metadata": {},
     "output_type": "execute_result"
    }
   ],
   "source": [
    "df = spuds_to_df(ffs)\n",
    "df[:, :ev] = evs\n",
    "df[:, :cost] = cs\n",
    "df"
   ]
  },
  {
   "cell_type": "code",
   "execution_count": 46,
   "id": "87ea104c",
   "metadata": {},
   "outputs": [
    {
     "data": {
      "text/html": [
       "<div><div style = \"float: left;\"><span>206197×10 DataFrame</span></div><div style = \"float: right;\"><span style = \"font-style: italic;\">206172 rows omitted</span></div><div style = \"clear: both;\"></div></div><div class = \"data-frame\" style = \"overflow-x: scroll;\"><table class = \"data-frame\" style = \"margin-bottom: 6px;\"><thead><tr class = \"header\"><th class = \"rowNumber\" style = \"font-weight: bold; text-align: right;\">Row</th><th style = \"text-align: left;\">name</th><th style = \"text-align: left;\">h</th><th style = \"text-align: left;\">f</th><th style = \"text-align: left;\">l</th><th style = \"text-align: left;\">p</th><th style = \"text-align: left;\">r</th><th style = \"text-align: left;\">s</th><th style = \"text-align: left;\">a1</th><th style = \"text-align: left;\">ev</th><th style = \"text-align: left;\">cost</th></tr><tr class = \"subheader headerLastRow\"><th class = \"rowNumber\" style = \"font-weight: bold; text-align: right;\"></th><th title = \"String\" style = \"text-align: left;\">String</th><th title = \"Int64\" style = \"text-align: left;\">Int64</th><th title = \"Int64\" style = \"text-align: left;\">Int64</th><th title = \"Int64\" style = \"text-align: left;\">Int64</th><th title = \"Int64\" style = \"text-align: left;\">Int64</th><th title = \"Int64\" style = \"text-align: left;\">Int64</th><th title = \"Int64\" style = \"text-align: left;\">Int64</th><th title = \"Int64\" style = \"text-align: left;\">Int64</th><th title = \"Float64\" style = \"text-align: left;\">Float64</th><th title = \"Int64\" style = \"text-align: left;\">Int64</th></tr></thead><tbody><tr><td class = \"rowNumber\" style = \"font-weight: bold; text-align: right;\">1</td><td style = \"text-align: left;\"></td><td style = \"text-align: right;\">1</td><td style = \"text-align: right;\">7</td><td style = \"text-align: right;\">6</td><td style = \"text-align: right;\">1</td><td style = \"text-align: right;\">6</td><td style = \"text-align: right;\">5</td><td style = \"text-align: right;\">10</td><td style = \"text-align: right;\">0.499728</td><td style = \"text-align: right;\">97</td></tr><tr><td class = \"rowNumber\" style = \"font-weight: bold; text-align: right;\">2</td><td style = \"text-align: left;\"></td><td style = \"text-align: right;\">1</td><td style = \"text-align: right;\">10</td><td style = \"text-align: right;\">8</td><td style = \"text-align: right;\">1</td><td style = \"text-align: right;\">5</td><td style = \"text-align: right;\">2</td><td style = \"text-align: right;\">10</td><td style = \"text-align: right;\">0.499721</td><td style = \"text-align: right;\">98</td></tr><tr><td class = \"rowNumber\" style = \"font-weight: bold; text-align: right;\">3</td><td style = \"text-align: left;\"></td><td style = \"text-align: right;\">1</td><td style = \"text-align: right;\">8</td><td style = \"text-align: right;\">10</td><td style = \"text-align: right;\">1</td><td style = \"text-align: right;\">4</td><td style = \"text-align: right;\">2</td><td style = \"text-align: right;\">10</td><td style = \"text-align: right;\">0.499395</td><td style = \"text-align: right;\">74</td></tr><tr><td class = \"rowNumber\" style = \"font-weight: bold; text-align: right;\">4</td><td style = \"text-align: left;\"></td><td style = \"text-align: right;\">2</td><td style = \"text-align: right;\">8</td><td style = \"text-align: right;\">10</td><td style = \"text-align: right;\">1</td><td style = \"text-align: right;\">4</td><td style = \"text-align: right;\">2</td><td style = \"text-align: right;\">10</td><td style = \"text-align: right;\">0.499395</td><td style = \"text-align: right;\">92</td></tr><tr><td class = \"rowNumber\" style = \"font-weight: bold; text-align: right;\">5</td><td style = \"text-align: left;\"></td><td style = \"text-align: right;\">1</td><td style = \"text-align: right;\">4</td><td style = \"text-align: right;\">10</td><td style = \"text-align: right;\">4</td><td style = \"text-align: right;\">6</td><td style = \"text-align: right;\">9</td><td style = \"text-align: right;\">10</td><td style = \"text-align: right;\">0.499079</td><td style = \"text-align: right;\">90</td></tr><tr><td class = \"rowNumber\" style = \"font-weight: bold; text-align: right;\">6</td><td style = \"text-align: left;\"></td><td style = \"text-align: right;\">1</td><td style = \"text-align: right;\">9</td><td style = \"text-align: right;\">10</td><td style = \"text-align: right;\">2</td><td style = \"text-align: right;\">3</td><td style = \"text-align: right;\">1</td><td style = \"text-align: right;\">10</td><td style = \"text-align: right;\">0.499055</td><td style = \"text-align: right;\">73</td></tr><tr><td class = \"rowNumber\" style = \"font-weight: bold; text-align: right;\">7</td><td style = \"text-align: left;\"></td><td style = \"text-align: right;\">2</td><td style = \"text-align: right;\">9</td><td style = \"text-align: right;\">10</td><td style = \"text-align: right;\">2</td><td style = \"text-align: right;\">3</td><td style = \"text-align: right;\">1</td><td style = \"text-align: right;\">10</td><td style = \"text-align: right;\">0.499055</td><td style = \"text-align: right;\">92</td></tr><tr><td class = \"rowNumber\" style = \"font-weight: bold; text-align: right;\">8</td><td style = \"text-align: left;\"></td><td style = \"text-align: right;\">1</td><td style = \"text-align: right;\">8</td><td style = \"text-align: right;\">6</td><td style = \"text-align: right;\">1</td><td style = \"text-align: right;\">5</td><td style = \"text-align: right;\">4</td><td style = \"text-align: right;\">10</td><td style = \"text-align: right;\">0.498986</td><td style = \"text-align: right;\">94</td></tr><tr><td class = \"rowNumber\" style = \"font-weight: bold; text-align: right;\">9</td><td style = \"text-align: left;\"></td><td style = \"text-align: right;\">1</td><td style = \"text-align: right;\">8</td><td style = \"text-align: right;\">6</td><td style = \"text-align: right;\">5</td><td style = \"text-align: right;\">2</td><td style = \"text-align: right;\">3</td><td style = \"text-align: right;\">10</td><td style = \"text-align: right;\">0.498974</td><td style = \"text-align: right;\">94</td></tr><tr><td class = \"rowNumber\" style = \"font-weight: bold; text-align: right;\">10</td><td style = \"text-align: left;\"></td><td style = \"text-align: right;\">1</td><td style = \"text-align: right;\">5</td><td style = \"text-align: right;\">10</td><td style = \"text-align: right;\">6</td><td style = \"text-align: right;\">5</td><td style = \"text-align: right;\">4</td><td style = \"text-align: right;\">10</td><td style = \"text-align: right;\">0.498966</td><td style = \"text-align: right;\">90</td></tr><tr><td class = \"rowNumber\" style = \"font-weight: bold; text-align: right;\">11</td><td style = \"text-align: left;\"></td><td style = \"text-align: right;\">1</td><td style = \"text-align: right;\">8</td><td style = \"text-align: right;\">6</td><td style = \"text-align: right;\">6</td><td style = \"text-align: right;\">2</td><td style = \"text-align: right;\">2</td><td style = \"text-align: right;\">10</td><td style = \"text-align: right;\">0.498941</td><td style = \"text-align: right;\">94</td></tr><tr><td class = \"rowNumber\" style = \"font-weight: bold; text-align: right;\">12</td><td style = \"text-align: left;\"></td><td style = \"text-align: right;\">2</td><td style = \"text-align: right;\">4</td><td style = \"text-align: right;\">10</td><td style = \"text-align: right;\">4</td><td style = \"text-align: right;\">3</td><td style = \"text-align: right;\">10</td><td style = \"text-align: right;\">10</td><td style = \"text-align: right;\">0.498893</td><td style = \"text-align: right;\">96</td></tr><tr><td class = \"rowNumber\" style = \"font-weight: bold; text-align: right;\">13</td><td style = \"text-align: left;\"></td><td style = \"text-align: right;\">1</td><td style = \"text-align: right;\">4</td><td style = \"text-align: right;\">10</td><td style = \"text-align: right;\">4</td><td style = \"text-align: right;\">3</td><td style = \"text-align: right;\">10</td><td style = \"text-align: right;\">10</td><td style = \"text-align: right;\">0.498841</td><td style = \"text-align: right;\">82</td></tr><tr><td style = \"text-align: right;\">&vellip;</td><td style = \"text-align: right;\">&vellip;</td><td style = \"text-align: right;\">&vellip;</td><td style = \"text-align: right;\">&vellip;</td><td style = \"text-align: right;\">&vellip;</td><td style = \"text-align: right;\">&vellip;</td><td style = \"text-align: right;\">&vellip;</td><td style = \"text-align: right;\">&vellip;</td><td style = \"text-align: right;\">&vellip;</td><td style = \"text-align: right;\">&vellip;</td><td style = \"text-align: right;\">&vellip;</td></tr><tr><td class = \"rowNumber\" style = \"font-weight: bold; text-align: right;\">206186</td><td style = \"text-align: left;\"></td><td style = \"text-align: right;\">3</td><td style = \"text-align: right;\">4</td><td style = \"text-align: right;\">6</td><td style = \"text-align: right;\">3</td><td style = \"text-align: right;\">1</td><td style = \"text-align: right;\">1</td><td style = \"text-align: right;\">10</td><td style = \"text-align: right;\">-0.499903</td><td style = \"text-align: right;\">50</td></tr><tr><td class = \"rowNumber\" style = \"font-weight: bold; text-align: right;\">206187</td><td style = \"text-align: left;\"></td><td style = \"text-align: right;\">1</td><td style = \"text-align: right;\">2</td><td style = \"text-align: right;\">7</td><td style = \"text-align: right;\">3</td><td style = \"text-align: right;\">1</td><td style = \"text-align: right;\">4</td><td style = \"text-align: right;\">10</td><td style = \"text-align: right;\">-0.499925</td><td style = \"text-align: right;\">25</td></tr><tr><td class = \"rowNumber\" style = \"font-weight: bold; text-align: right;\">206188</td><td style = \"text-align: left;\"></td><td style = \"text-align: right;\">2</td><td style = \"text-align: right;\">2</td><td style = \"text-align: right;\">7</td><td style = \"text-align: right;\">3</td><td style = \"text-align: right;\">1</td><td style = \"text-align: right;\">4</td><td style = \"text-align: right;\">10</td><td style = \"text-align: right;\">-0.499925</td><td style = \"text-align: right;\">34</td></tr><tr><td class = \"rowNumber\" style = \"font-weight: bold; text-align: right;\">206189</td><td style = \"text-align: left;\"></td><td style = \"text-align: right;\">3</td><td style = \"text-align: right;\">2</td><td style = \"text-align: right;\">7</td><td style = \"text-align: right;\">3</td><td style = \"text-align: right;\">1</td><td style = \"text-align: right;\">4</td><td style = \"text-align: right;\">10</td><td style = \"text-align: right;\">-0.499925</td><td style = \"text-align: right;\">43</td></tr><tr><td class = \"rowNumber\" style = \"font-weight: bold; text-align: right;\">206190</td><td style = \"text-align: left;\"></td><td style = \"text-align: right;\">4</td><td style = \"text-align: right;\">2</td><td style = \"text-align: right;\">7</td><td style = \"text-align: right;\">3</td><td style = \"text-align: right;\">1</td><td style = \"text-align: right;\">4</td><td style = \"text-align: right;\">10</td><td style = \"text-align: right;\">-0.499925</td><td style = \"text-align: right;\">52</td></tr><tr><td class = \"rowNumber\" style = \"font-weight: bold; text-align: right;\">206191</td><td style = \"text-align: left;\"></td><td style = \"text-align: right;\">4</td><td style = \"text-align: right;\">3</td><td style = \"text-align: right;\">4</td><td style = \"text-align: right;\">2</td><td style = \"text-align: right;\">1</td><td style = \"text-align: right;\">8</td><td style = \"text-align: right;\">10</td><td style = \"text-align: right;\">-0.499926</td><td style = \"text-align: right;\">61</td></tr><tr><td class = \"rowNumber\" style = \"font-weight: bold; text-align: right;\">206192</td><td style = \"text-align: left;\"></td><td style = \"text-align: right;\">7</td><td style = \"text-align: right;\">3</td><td style = \"text-align: right;\">1</td><td style = \"text-align: right;\">4</td><td style = \"text-align: right;\">2</td><td style = \"text-align: right;\">4</td><td style = \"text-align: right;\">10</td><td style = \"text-align: right;\">-0.499971</td><td style = \"text-align: right;\">58</td></tr><tr><td class = \"rowNumber\" style = \"font-weight: bold; text-align: right;\">206193</td><td style = \"text-align: left;\"></td><td style = \"text-align: right;\">5</td><td style = \"text-align: right;\">3</td><td style = \"text-align: right;\">3</td><td style = \"text-align: right;\">5</td><td style = \"text-align: right;\">5</td><td style = \"text-align: right;\">1</td><td style = \"text-align: right;\">10</td><td style = \"text-align: right;\">-0.499976</td><td style = \"text-align: right;\">63</td></tr><tr><td class = \"rowNumber\" style = \"font-weight: bold; text-align: right;\">206194</td><td style = \"text-align: left;\"></td><td style = \"text-align: right;\">5</td><td style = \"text-align: right;\">2</td><td style = \"text-align: right;\">7</td><td style = \"text-align: right;\">2</td><td style = \"text-align: right;\">3</td><td style = \"text-align: right;\">3</td><td style = \"text-align: right;\">10</td><td style = \"text-align: right;\">-0.49998</td><td style = \"text-align: right;\">61</td></tr><tr><td class = \"rowNumber\" style = \"font-weight: bold; text-align: right;\">206195</td><td style = \"text-align: left;\"></td><td style = \"text-align: right;\">7</td><td style = \"text-align: right;\">1</td><td style = \"text-align: right;\">8</td><td style = \"text-align: right;\">3</td><td style = \"text-align: right;\">2</td><td style = \"text-align: right;\">3</td><td style = \"text-align: right;\">10</td><td style = \"text-align: right;\">-0.499987</td><td style = \"text-align: right;\">71</td></tr><tr><td class = \"rowNumber\" style = \"font-weight: bold; text-align: right;\">206196</td><td style = \"text-align: left;\"></td><td style = \"text-align: right;\">6</td><td style = \"text-align: right;\">1</td><td style = \"text-align: right;\">8</td><td style = \"text-align: right;\">2</td><td style = \"text-align: right;\">1</td><td style = \"text-align: right;\">7</td><td style = \"text-align: right;\">10</td><td style = \"text-align: right;\">-0.499988</td><td style = \"text-align: right;\">64</td></tr><tr><td class = \"rowNumber\" style = \"font-weight: bold; text-align: right;\">206197</td><td style = \"text-align: left;\"></td><td style = \"text-align: right;\">5</td><td style = \"text-align: right;\">2</td><td style = \"text-align: right;\">4</td><td style = \"text-align: right;\">5</td><td style = \"text-align: right;\">1</td><td style = \"text-align: right;\">10</td><td style = \"text-align: right;\">10</td><td style = \"text-align: right;\">-0.499991</td><td style = \"text-align: right;\">62</td></tr></tbody></table></div>"
      ],
      "text/latex": [
       "\\begin{tabular}{r|cccccccccc}\n",
       "\t& name & h & f & l & p & r & s & a1 & ev & cost\\\\\n",
       "\t\\hline\n",
       "\t& String & Int64 & Int64 & Int64 & Int64 & Int64 & Int64 & Int64 & Float64 & Int64\\\\\n",
       "\t\\hline\n",
       "\t1 &  & 1 & 7 & 6 & 1 & 6 & 5 & 10 & 0.499728 & 97 \\\\\n",
       "\t2 &  & 1 & 10 & 8 & 1 & 5 & 2 & 10 & 0.499721 & 98 \\\\\n",
       "\t3 &  & 1 & 8 & 10 & 1 & 4 & 2 & 10 & 0.499395 & 74 \\\\\n",
       "\t4 &  & 2 & 8 & 10 & 1 & 4 & 2 & 10 & 0.499395 & 92 \\\\\n",
       "\t5 &  & 1 & 4 & 10 & 4 & 6 & 9 & 10 & 0.499079 & 90 \\\\\n",
       "\t6 &  & 1 & 9 & 10 & 2 & 3 & 1 & 10 & 0.499055 & 73 \\\\\n",
       "\t7 &  & 2 & 9 & 10 & 2 & 3 & 1 & 10 & 0.499055 & 92 \\\\\n",
       "\t8 &  & 1 & 8 & 6 & 1 & 5 & 4 & 10 & 0.498986 & 94 \\\\\n",
       "\t9 &  & 1 & 8 & 6 & 5 & 2 & 3 & 10 & 0.498974 & 94 \\\\\n",
       "\t10 &  & 1 & 5 & 10 & 6 & 5 & 4 & 10 & 0.498966 & 90 \\\\\n",
       "\t11 &  & 1 & 8 & 6 & 6 & 2 & 2 & 10 & 0.498941 & 94 \\\\\n",
       "\t12 &  & 2 & 4 & 10 & 4 & 3 & 10 & 10 & 0.498893 & 96 \\\\\n",
       "\t13 &  & 1 & 4 & 10 & 4 & 3 & 10 & 10 & 0.498841 & 82 \\\\\n",
       "\t14 &  & 1 & 4 & 10 & 3 & 6 & 9 & 10 & 0.498839 & 86 \\\\\n",
       "\t15 &  & 2 & 4 & 10 & 3 & 6 & 9 & 10 & 0.498839 & 100 \\\\\n",
       "\t16 &  & 1 & 9 & 7 & 3 & 1 & 4 & 10 & 0.498824 & 88 \\\\\n",
       "\t17 &  & 1 & 4 & 10 & 6 & 1 & 10 & 10 & 0.498747 & 82 \\\\\n",
       "\t18 &  & 2 & 4 & 10 & 6 & 1 & 10 & 10 & 0.498747 & 96 \\\\\n",
       "\t19 &  & 1 & 6 & 9 & 2 & 6 & 6 & 10 & 0.498675 & 99 \\\\\n",
       "\t20 &  & 1 & 7 & 6 & 3 & 2 & 7 & 10 & 0.498642 & 97 \\\\\n",
       "\t21 &  & 1 & 9 & 6 & 2 & 5 & 2 & 10 & 0.498619 & 96 \\\\\n",
       "\t22 &  & 1 & 6 & 10 & 5 & 4 & 2 & 10 & 0.498597 & 82 \\\\\n",
       "\t23 &  & 2 & 6 & 10 & 5 & 4 & 2 & 10 & 0.498597 & 98 \\\\\n",
       "\t24 &  & 1 & 4 & 10 & 7 & 6 & 8 & 10 & 0.498515 & 98 \\\\\n",
       "\t25 &  & 1 & 5 & 10 & 3 & 5 & 6 & 10 & 0.498189 & 85 \\\\\n",
       "\t26 &  & 2 & 5 & 10 & 3 & 5 & 6 & 10 & 0.498189 & 100 \\\\\n",
       "\t27 &  & 1 & 4 & 10 & 2 & 6 & 9 & 10 & 0.498189 & 82 \\\\\n",
       "\t28 &  & 2 & 4 & 10 & 2 & 6 & 9 & 10 & 0.498189 & 96 \\\\\n",
       "\t29 &  & 1 & 4 & 10 & 6 & 10 & 5 & 10 & 0.498139 & 98 \\\\\n",
       "\t30 &  & 1 & 7 & 7 & 4 & 1 & 6 & 10 & 0.497992 & 91 \\\\\n",
       "\t$\\dots$ & $\\dots$ & $\\dots$ & $\\dots$ & $\\dots$ & $\\dots$ & $\\dots$ & $\\dots$ & $\\dots$ & $\\dots$ & $\\dots$ \\\\\n",
       "\\end{tabular}\n"
      ],
      "text/plain": [
       "\u001b[1m206197×10 DataFrame\u001b[0m\n",
       "\u001b[1m    Row \u001b[0m│\u001b[1m name   \u001b[0m\u001b[1m h     \u001b[0m\u001b[1m f     \u001b[0m\u001b[1m l     \u001b[0m\u001b[1m p     \u001b[0m\u001b[1m r     \u001b[0m\u001b[1m s     \u001b[0m\u001b[1m a1    \u001b[0m\u001b[1m ev        \u001b[0m\u001b[1m \u001b[0m ⋯\n",
       "        │\u001b[90m String \u001b[0m\u001b[90m Int64 \u001b[0m\u001b[90m Int64 \u001b[0m\u001b[90m Int64 \u001b[0m\u001b[90m Int64 \u001b[0m\u001b[90m Int64 \u001b[0m\u001b[90m Int64 \u001b[0m\u001b[90m Int64 \u001b[0m\u001b[90m Float64   \u001b[0m\u001b[90m \u001b[0m ⋯\n",
       "────────┼───────────────────────────────────────────────────────────────────────\n",
       "      1 │             1      7      6      1      6      5     10   0.499728   ⋯\n",
       "      2 │             1     10      8      1      5      2     10   0.499721\n",
       "      3 │             1      8     10      1      4      2     10   0.499395\n",
       "      4 │             2      8     10      1      4      2     10   0.499395\n",
       "      5 │             1      4     10      4      6      9     10   0.499079   ⋯\n",
       "      6 │             1      9     10      2      3      1     10   0.499055\n",
       "      7 │             2      9     10      2      3      1     10   0.499055\n",
       "      8 │             1      8      6      1      5      4     10   0.498986\n",
       "      9 │             1      8      6      5      2      3     10   0.498974   ⋯\n",
       "     10 │             1      5     10      6      5      4     10   0.498966\n",
       "     11 │             1      8      6      6      2      2     10   0.498941\n",
       "   ⋮    │   ⋮       ⋮      ⋮      ⋮      ⋮      ⋮      ⋮      ⋮        ⋮       ⋱\n",
       " 206188 │             2      2      7      3      1      4     10  -0.499925\n",
       " 206189 │             3      2      7      3      1      4     10  -0.499925   ⋯\n",
       " 206190 │             4      2      7      3      1      4     10  -0.499925\n",
       " 206191 │             4      3      4      2      1      8     10  -0.499926\n",
       " 206192 │             7      3      1      4      2      4     10  -0.499971\n",
       " 206193 │             5      3      3      5      5      1     10  -0.499976   ⋯\n",
       " 206194 │             5      2      7      2      3      3     10  -0.49998\n",
       " 206195 │             7      1      8      3      2      3     10  -0.499987\n",
       " 206196 │             6      1      8      2      1      7     10  -0.499988\n",
       " 206197 │             5      2      4      5      1     10     10  -0.499991   ⋯\n",
       "\u001b[36m                                                1 column and 206176 rows omitted\u001b[0m"
      ]
     },
     "execution_count": 46,
     "metadata": {},
     "output_type": "execute_result"
    }
   ],
   "source": [
    "df2 = df[sortperm(-df.ev), :]"
   ]
  },
  {
   "cell_type": "code",
   "execution_count": 47,
   "id": "6738cf27",
   "metadata": {},
   "outputs": [
    {
     "data": {
      "text/html": [
       "<div><div style = \"float: left;\"><span>206197×10 DataFrame</span></div><div style = \"float: right;\"><span style = \"font-style: italic;\">206172 rows omitted</span></div><div style = \"clear: both;\"></div></div><div class = \"data-frame\" style = \"overflow-x: scroll;\"><table class = \"data-frame\" style = \"margin-bottom: 6px;\"><thead><tr class = \"header\"><th class = \"rowNumber\" style = \"font-weight: bold; text-align: right;\">Row</th><th style = \"text-align: left;\">name</th><th style = \"text-align: left;\">h</th><th style = \"text-align: left;\">f</th><th style = \"text-align: left;\">l</th><th style = \"text-align: left;\">p</th><th style = \"text-align: left;\">r</th><th style = \"text-align: left;\">s</th><th style = \"text-align: left;\">a1</th><th style = \"text-align: left;\">ev</th><th style = \"text-align: left;\">cost</th></tr><tr class = \"subheader headerLastRow\"><th class = \"rowNumber\" style = \"font-weight: bold; text-align: right;\"></th><th title = \"String\" style = \"text-align: left;\">String</th><th title = \"Int64\" style = \"text-align: left;\">Int64</th><th title = \"Int64\" style = \"text-align: left;\">Int64</th><th title = \"Int64\" style = \"text-align: left;\">Int64</th><th title = \"Int64\" style = \"text-align: left;\">Int64</th><th title = \"Int64\" style = \"text-align: left;\">Int64</th><th title = \"Int64\" style = \"text-align: left;\">Int64</th><th title = \"Int64\" style = \"text-align: left;\">Int64</th><th title = \"Float64\" style = \"text-align: left;\">Float64</th><th title = \"Int64\" style = \"text-align: left;\">Int64</th></tr></thead><tbody><tr><td class = \"rowNumber\" style = \"font-weight: bold; text-align: right;\">1</td><td style = \"text-align: left;\"></td><td style = \"text-align: right;\">1</td><td style = \"text-align: right;\">1</td><td style = \"text-align: right;\">9</td><td style = \"text-align: right;\">1</td><td style = \"text-align: right;\">1</td><td style = \"text-align: right;\">1</td><td style = \"text-align: right;\">10</td><td style = \"text-align: right;\">-0.435291</td><td style = \"text-align: right;\">13</td></tr><tr><td class = \"rowNumber\" style = \"font-weight: bold; text-align: right;\">2</td><td style = \"text-align: left;\"></td><td style = \"text-align: right;\">1</td><td style = \"text-align: right;\">1</td><td style = \"text-align: right;\">10</td><td style = \"text-align: right;\">1</td><td style = \"text-align: right;\">1</td><td style = \"text-align: right;\">1</td><td style = \"text-align: right;\">10</td><td style = \"text-align: right;\">-0.372652</td><td style = \"text-align: right;\">14</td></tr><tr><td class = \"rowNumber\" style = \"font-weight: bold; text-align: right;\">3</td><td style = \"text-align: left;\"></td><td style = \"text-align: right;\">1</td><td style = \"text-align: right;\">1</td><td style = \"text-align: right;\">9</td><td style = \"text-align: right;\">1</td><td style = \"text-align: right;\">1</td><td style = \"text-align: right;\">2</td><td style = \"text-align: right;\">10</td><td style = \"text-align: right;\">-0.435291</td><td style = \"text-align: right;\">14</td></tr><tr><td class = \"rowNumber\" style = \"font-weight: bold; text-align: right;\">4</td><td style = \"text-align: left;\"></td><td style = \"text-align: right;\">1</td><td style = \"text-align: right;\">1</td><td style = \"text-align: right;\">9</td><td style = \"text-align: right;\">1</td><td style = \"text-align: right;\">2</td><td style = \"text-align: right;\">1</td><td style = \"text-align: right;\">10</td><td style = \"text-align: right;\">-0.435291</td><td style = \"text-align: right;\">14</td></tr><tr><td class = \"rowNumber\" style = \"font-weight: bold; text-align: right;\">5</td><td style = \"text-align: left;\"></td><td style = \"text-align: right;\">1</td><td style = \"text-align: right;\">1</td><td style = \"text-align: right;\">9</td><td style = \"text-align: right;\">2</td><td style = \"text-align: right;\">1</td><td style = \"text-align: right;\">1</td><td style = \"text-align: right;\">10</td><td style = \"text-align: right;\">-0.435291</td><td style = \"text-align: right;\">14</td></tr><tr><td class = \"rowNumber\" style = \"font-weight: bold; text-align: right;\">6</td><td style = \"text-align: left;\"></td><td style = \"text-align: right;\">1</td><td style = \"text-align: right;\">1</td><td style = \"text-align: right;\">10</td><td style = \"text-align: right;\">1</td><td style = \"text-align: right;\">1</td><td style = \"text-align: right;\">2</td><td style = \"text-align: right;\">10</td><td style = \"text-align: right;\">-0.372652</td><td style = \"text-align: right;\">15</td></tr><tr><td class = \"rowNumber\" style = \"font-weight: bold; text-align: right;\">7</td><td style = \"text-align: left;\"></td><td style = \"text-align: right;\">1</td><td style = \"text-align: right;\">1</td><td style = \"text-align: right;\">10</td><td style = \"text-align: right;\">1</td><td style = \"text-align: right;\">2</td><td style = \"text-align: right;\">1</td><td style = \"text-align: right;\">10</td><td style = \"text-align: right;\">-0.372652</td><td style = \"text-align: right;\">15</td></tr><tr><td class = \"rowNumber\" style = \"font-weight: bold; text-align: right;\">8</td><td style = \"text-align: left;\"></td><td style = \"text-align: right;\">1</td><td style = \"text-align: right;\">1</td><td style = \"text-align: right;\">10</td><td style = \"text-align: right;\">2</td><td style = \"text-align: right;\">1</td><td style = \"text-align: right;\">1</td><td style = \"text-align: right;\">10</td><td style = \"text-align: right;\">-0.372652</td><td style = \"text-align: right;\">15</td></tr><tr><td class = \"rowNumber\" style = \"font-weight: bold; text-align: right;\">9</td><td style = \"text-align: left;\"></td><td style = \"text-align: right;\">1</td><td style = \"text-align: right;\">1</td><td style = \"text-align: right;\">9</td><td style = \"text-align: right;\">1</td><td style = \"text-align: right;\">1</td><td style = \"text-align: right;\">3</td><td style = \"text-align: right;\">10</td><td style = \"text-align: right;\">-0.435226</td><td style = \"text-align: right;\">15</td></tr><tr><td class = \"rowNumber\" style = \"font-weight: bold; text-align: right;\">10</td><td style = \"text-align: left;\"></td><td style = \"text-align: right;\">1</td><td style = \"text-align: right;\">1</td><td style = \"text-align: right;\">9</td><td style = \"text-align: right;\">1</td><td style = \"text-align: right;\">2</td><td style = \"text-align: right;\">2</td><td style = \"text-align: right;\">10</td><td style = \"text-align: right;\">-0.435291</td><td style = \"text-align: right;\">15</td></tr><tr><td class = \"rowNumber\" style = \"font-weight: bold; text-align: right;\">11</td><td style = \"text-align: left;\"></td><td style = \"text-align: right;\">1</td><td style = \"text-align: right;\">1</td><td style = \"text-align: right;\">9</td><td style = \"text-align: right;\">1</td><td style = \"text-align: right;\">3</td><td style = \"text-align: right;\">1</td><td style = \"text-align: right;\">10</td><td style = \"text-align: right;\">-0.435291</td><td style = \"text-align: right;\">15</td></tr><tr><td class = \"rowNumber\" style = \"font-weight: bold; text-align: right;\">12</td><td style = \"text-align: left;\"></td><td style = \"text-align: right;\">1</td><td style = \"text-align: right;\">1</td><td style = \"text-align: right;\">9</td><td style = \"text-align: right;\">2</td><td style = \"text-align: right;\">1</td><td style = \"text-align: right;\">2</td><td style = \"text-align: right;\">10</td><td style = \"text-align: right;\">-0.435291</td><td style = \"text-align: right;\">15</td></tr><tr><td class = \"rowNumber\" style = \"font-weight: bold; text-align: right;\">13</td><td style = \"text-align: left;\"></td><td style = \"text-align: right;\">1</td><td style = \"text-align: right;\">1</td><td style = \"text-align: right;\">9</td><td style = \"text-align: right;\">2</td><td style = \"text-align: right;\">2</td><td style = \"text-align: right;\">1</td><td style = \"text-align: right;\">10</td><td style = \"text-align: right;\">-0.435291</td><td style = \"text-align: right;\">15</td></tr><tr><td style = \"text-align: right;\">&vellip;</td><td style = \"text-align: right;\">&vellip;</td><td style = \"text-align: right;\">&vellip;</td><td style = \"text-align: right;\">&vellip;</td><td style = \"text-align: right;\">&vellip;</td><td style = \"text-align: right;\">&vellip;</td><td style = \"text-align: right;\">&vellip;</td><td style = \"text-align: right;\">&vellip;</td><td style = \"text-align: right;\">&vellip;</td><td style = \"text-align: right;\">&vellip;</td><td style = \"text-align: right;\">&vellip;</td></tr><tr><td class = \"rowNumber\" style = \"font-weight: bold; text-align: right;\">206186</td><td style = \"text-align: left;\"></td><td style = \"text-align: right;\">7</td><td style = \"text-align: right;\">3</td><td style = \"text-align: right;\">1</td><td style = \"text-align: right;\">10</td><td style = \"text-align: right;\">10</td><td style = \"text-align: right;\">4</td><td style = \"text-align: right;\">10</td><td style = \"text-align: right;\">-0.424137</td><td style = \"text-align: right;\">100</td></tr><tr><td class = \"rowNumber\" style = \"font-weight: bold; text-align: right;\">206187</td><td style = \"text-align: left;\"></td><td style = \"text-align: right;\">2</td><td style = \"text-align: right;\">7</td><td style = \"text-align: right;\">1</td><td style = \"text-align: right;\">1</td><td style = \"text-align: right;\">10</td><td style = \"text-align: right;\">1</td><td style = \"text-align: right;\">10</td><td style = \"text-align: right;\">-0.428358</td><td style = \"text-align: right;\">100</td></tr><tr><td class = \"rowNumber\" style = \"font-weight: bold; text-align: right;\">206188</td><td style = \"text-align: left;\"></td><td style = \"text-align: right;\">6</td><td style = \"text-align: right;\">2</td><td style = \"text-align: right;\">7</td><td style = \"text-align: right;\">10</td><td style = \"text-align: right;\">10</td><td style = \"text-align: right;\">3</td><td style = \"text-align: right;\">10</td><td style = \"text-align: right;\">-0.431856</td><td style = \"text-align: right;\">100</td></tr><tr><td class = \"rowNumber\" style = \"font-weight: bold; text-align: right;\">206189</td><td style = \"text-align: left;\"></td><td style = \"text-align: right;\">10</td><td style = \"text-align: right;\">3</td><td style = \"text-align: right;\">1</td><td style = \"text-align: right;\">9</td><td style = \"text-align: right;\">10</td><td style = \"text-align: right;\">1</td><td style = \"text-align: right;\">10</td><td style = \"text-align: right;\">-0.435706</td><td style = \"text-align: right;\">100</td></tr><tr><td class = \"rowNumber\" style = \"font-weight: bold; text-align: right;\">206190</td><td style = \"text-align: left;\"></td><td style = \"text-align: right;\">10</td><td style = \"text-align: right;\">3</td><td style = \"text-align: right;\">1</td><td style = \"text-align: right;\">10</td><td style = \"text-align: right;\">9</td><td style = \"text-align: right;\">1</td><td style = \"text-align: right;\">10</td><td style = \"text-align: right;\">-0.435706</td><td style = \"text-align: right;\">100</td></tr><tr><td class = \"rowNumber\" style = \"font-weight: bold; text-align: right;\">206191</td><td style = \"text-align: left;\"></td><td style = \"text-align: right;\">6</td><td style = \"text-align: right;\">2</td><td style = \"text-align: right;\">5</td><td style = \"text-align: right;\">9</td><td style = \"text-align: right;\">10</td><td style = \"text-align: right;\">10</td><td style = \"text-align: right;\">10</td><td style = \"text-align: right;\">-0.439331</td><td style = \"text-align: right;\">100</td></tr><tr><td class = \"rowNumber\" style = \"font-weight: bold; text-align: right;\">206192</td><td style = \"text-align: left;\"></td><td style = \"text-align: right;\">6</td><td style = \"text-align: right;\">2</td><td style = \"text-align: right;\">5</td><td style = \"text-align: right;\">10</td><td style = \"text-align: right;\">9</td><td style = \"text-align: right;\">10</td><td style = \"text-align: right;\">10</td><td style = \"text-align: right;\">-0.43935</td><td style = \"text-align: right;\">100</td></tr><tr><td class = \"rowNumber\" style = \"font-weight: bold; text-align: right;\">206193</td><td style = \"text-align: left;\"></td><td style = \"text-align: right;\">6</td><td style = \"text-align: right;\">2</td><td style = \"text-align: right;\">5</td><td style = \"text-align: right;\">10</td><td style = \"text-align: right;\">10</td><td style = \"text-align: right;\">9</td><td style = \"text-align: right;\">10</td><td style = \"text-align: right;\">-0.440773</td><td style = \"text-align: right;\">100</td></tr><tr><td class = \"rowNumber\" style = \"font-weight: bold; text-align: right;\">206194</td><td style = \"text-align: left;\"></td><td style = \"text-align: right;\">8</td><td style = \"text-align: right;\">3</td><td style = \"text-align: right;\">5</td><td style = \"text-align: right;\">10</td><td style = \"text-align: right;\">1</td><td style = \"text-align: right;\">1</td><td style = \"text-align: right;\">10</td><td style = \"text-align: right;\">-0.446684</td><td style = \"text-align: right;\">100</td></tr><tr><td class = \"rowNumber\" style = \"font-weight: bold; text-align: right;\">206195</td><td style = \"text-align: left;\"></td><td style = \"text-align: right;\">7</td><td style = \"text-align: right;\">2</td><td style = \"text-align: right;\">6</td><td style = \"text-align: right;\">10</td><td style = \"text-align: right;\">10</td><td style = \"text-align: right;\">2</td><td style = \"text-align: right;\">10</td><td style = \"text-align: right;\">-0.44967</td><td style = \"text-align: right;\">100</td></tr><tr><td class = \"rowNumber\" style = \"font-weight: bold; text-align: right;\">206196</td><td style = \"text-align: left;\"></td><td style = \"text-align: right;\">8</td><td style = \"text-align: right;\">3</td><td style = \"text-align: right;\">2</td><td style = \"text-align: right;\">9</td><td style = \"text-align: right;\">10</td><td style = \"text-align: right;\">1</td><td style = \"text-align: right;\">10</td><td style = \"text-align: right;\">-0.479025</td><td style = \"text-align: right;\">100</td></tr><tr><td class = \"rowNumber\" style = \"font-weight: bold; text-align: right;\">206197</td><td style = \"text-align: left;\"></td><td style = \"text-align: right;\">8</td><td style = \"text-align: right;\">3</td><td style = \"text-align: right;\">2</td><td style = \"text-align: right;\">10</td><td style = \"text-align: right;\">9</td><td style = \"text-align: right;\">1</td><td style = \"text-align: right;\">10</td><td style = \"text-align: right;\">-0.479025</td><td style = \"text-align: right;\">100</td></tr></tbody></table></div>"
      ],
      "text/latex": [
       "\\begin{tabular}{r|cccccccccc}\n",
       "\t& name & h & f & l & p & r & s & a1 & ev & cost\\\\\n",
       "\t\\hline\n",
       "\t& String & Int64 & Int64 & Int64 & Int64 & Int64 & Int64 & Int64 & Float64 & Int64\\\\\n",
       "\t\\hline\n",
       "\t1 &  & 1 & 1 & 9 & 1 & 1 & 1 & 10 & -0.435291 & 13 \\\\\n",
       "\t2 &  & 1 & 1 & 10 & 1 & 1 & 1 & 10 & -0.372652 & 14 \\\\\n",
       "\t3 &  & 1 & 1 & 9 & 1 & 1 & 2 & 10 & -0.435291 & 14 \\\\\n",
       "\t4 &  & 1 & 1 & 9 & 1 & 2 & 1 & 10 & -0.435291 & 14 \\\\\n",
       "\t5 &  & 1 & 1 & 9 & 2 & 1 & 1 & 10 & -0.435291 & 14 \\\\\n",
       "\t6 &  & 1 & 1 & 10 & 1 & 1 & 2 & 10 & -0.372652 & 15 \\\\\n",
       "\t7 &  & 1 & 1 & 10 & 1 & 2 & 1 & 10 & -0.372652 & 15 \\\\\n",
       "\t8 &  & 1 & 1 & 10 & 2 & 1 & 1 & 10 & -0.372652 & 15 \\\\\n",
       "\t9 &  & 1 & 1 & 9 & 1 & 1 & 3 & 10 & -0.435226 & 15 \\\\\n",
       "\t10 &  & 1 & 1 & 9 & 1 & 2 & 2 & 10 & -0.435291 & 15 \\\\\n",
       "\t11 &  & 1 & 1 & 9 & 1 & 3 & 1 & 10 & -0.435291 & 15 \\\\\n",
       "\t12 &  & 1 & 1 & 9 & 2 & 1 & 2 & 10 & -0.435291 & 15 \\\\\n",
       "\t13 &  & 1 & 1 & 9 & 2 & 2 & 1 & 10 & -0.435291 & 15 \\\\\n",
       "\t14 &  & 1 & 1 & 9 & 3 & 1 & 1 & 10 & -0.435291 & 15 \\\\\n",
       "\t15 &  & 1 & 1 & 10 & 1 & 1 & 3 & 10 & -0.372586 & 16 \\\\\n",
       "\t16 &  & 1 & 1 & 10 & 1 & 2 & 2 & 10 & -0.372652 & 16 \\\\\n",
       "\t17 &  & 1 & 1 & 10 & 1 & 3 & 1 & 10 & -0.372652 & 16 \\\\\n",
       "\t18 &  & 1 & 1 & 10 & 2 & 1 & 2 & 10 & -0.372652 & 16 \\\\\n",
       "\t19 &  & 1 & 1 & 10 & 2 & 2 & 1 & 10 & -0.372652 & 16 \\\\\n",
       "\t20 &  & 1 & 1 & 10 & 3 & 1 & 1 & 10 & -0.372652 & 16 \\\\\n",
       "\t21 &  & 1 & 1 & 9 & 2 & 3 & 1 & 10 & -0.434094 & 16 \\\\\n",
       "\t22 &  & 1 & 1 & 9 & 1 & 4 & 1 & 10 & -0.434173 & 16 \\\\\n",
       "\t23 &  & 1 & 1 & 9 & 3 & 2 & 1 & 10 & -0.435212 & 16 \\\\\n",
       "\t24 &  & 1 & 1 & 9 & 2 & 1 & 3 & 10 & -0.435224 & 16 \\\\\n",
       "\t25 &  & 1 & 1 & 9 & 1 & 1 & 4 & 10 & -0.435226 & 16 \\\\\n",
       "\t26 &  & 1 & 1 & 9 & 1 & 2 & 3 & 10 & -0.435226 & 16 \\\\\n",
       "\t27 &  & 1 & 1 & 9 & 1 & 3 & 2 & 10 & -0.435226 & 16 \\\\\n",
       "\t28 &  & 1 & 1 & 9 & 2 & 2 & 2 & 10 & -0.435291 & 16 \\\\\n",
       "\t29 &  & 1 & 1 & 9 & 3 & 1 & 2 & 10 & -0.435291 & 16 \\\\\n",
       "\t30 &  & 1 & 1 & 9 & 4 & 1 & 1 & 10 & -0.435291 & 16 \\\\\n",
       "\t$\\dots$ & $\\dots$ & $\\dots$ & $\\dots$ & $\\dots$ & $\\dots$ & $\\dots$ & $\\dots$ & $\\dots$ & $\\dots$ & $\\dots$ \\\\\n",
       "\\end{tabular}\n"
      ],
      "text/plain": [
       "\u001b[1m206197×10 DataFrame\u001b[0m\n",
       "\u001b[1m    Row \u001b[0m│\u001b[1m name   \u001b[0m\u001b[1m h     \u001b[0m\u001b[1m f     \u001b[0m\u001b[1m l     \u001b[0m\u001b[1m p     \u001b[0m\u001b[1m r     \u001b[0m\u001b[1m s     \u001b[0m\u001b[1m a1    \u001b[0m\u001b[1m ev        \u001b[0m\u001b[1m \u001b[0m ⋯\n",
       "        │\u001b[90m String \u001b[0m\u001b[90m Int64 \u001b[0m\u001b[90m Int64 \u001b[0m\u001b[90m Int64 \u001b[0m\u001b[90m Int64 \u001b[0m\u001b[90m Int64 \u001b[0m\u001b[90m Int64 \u001b[0m\u001b[90m Int64 \u001b[0m\u001b[90m Float64   \u001b[0m\u001b[90m \u001b[0m ⋯\n",
       "────────┼───────────────────────────────────────────────────────────────────────\n",
       "      1 │             1      1      9      1      1      1     10  -0.435291   ⋯\n",
       "      2 │             1      1     10      1      1      1     10  -0.372652\n",
       "      3 │             1      1      9      1      1      2     10  -0.435291\n",
       "      4 │             1      1      9      1      2      1     10  -0.435291\n",
       "      5 │             1      1      9      2      1      1     10  -0.435291   ⋯\n",
       "      6 │             1      1     10      1      1      2     10  -0.372652\n",
       "      7 │             1      1     10      1      2      1     10  -0.372652\n",
       "      8 │             1      1     10      2      1      1     10  -0.372652\n",
       "      9 │             1      1      9      1      1      3     10  -0.435226   ⋯\n",
       "     10 │             1      1      9      1      2      2     10  -0.435291\n",
       "     11 │             1      1      9      1      3      1     10  -0.435291\n",
       "   ⋮    │   ⋮       ⋮      ⋮      ⋮      ⋮      ⋮      ⋮      ⋮        ⋮       ⋱\n",
       " 206188 │             6      2      7     10     10      3     10  -0.431856\n",
       " 206189 │            10      3      1      9     10      1     10  -0.435706   ⋯\n",
       " 206190 │            10      3      1     10      9      1     10  -0.435706\n",
       " 206191 │             6      2      5      9     10     10     10  -0.439331\n",
       " 206192 │             6      2      5     10      9     10     10  -0.43935\n",
       " 206193 │             6      2      5     10     10      9     10  -0.440773   ⋯\n",
       " 206194 │             8      3      5     10      1      1     10  -0.446684\n",
       " 206195 │             7      2      6     10     10      2     10  -0.44967\n",
       " 206196 │             8      3      2      9     10      1     10  -0.479025\n",
       " 206197 │             8      3      2     10      9      1     10  -0.479025   ⋯\n",
       "\u001b[36m                                                1 column and 206176 rows omitted\u001b[0m"
      ]
     },
     "execution_count": 47,
     "metadata": {},
     "output_type": "execute_result"
    }
   ],
   "source": [
    "df2 = df2[sortperm(df2.cost), :]"
   ]
  },
  {
   "cell_type": "code",
   "execution_count": 52,
   "id": "8bcce05c",
   "metadata": {},
   "outputs": [
    {
     "data": {
      "text/plain": [
       "(206197, 10)"
      ]
     },
     "execution_count": 52,
     "metadata": {},
     "output_type": "execute_result"
    }
   ],
   "source": [
    "size(df2)"
   ]
  },
  {
   "cell_type": "code",
   "execution_count": 54,
   "id": "72b93244",
   "metadata": {},
   "outputs": [],
   "source": [
    "df2[:, :name] = [\"noname\" for i in 1:size(df2)[1]];"
   ]
  },
  {
   "cell_type": "code",
   "execution_count": 55,
   "id": "49df638d",
   "metadata": {},
   "outputs": [
    {
     "data": {
      "text/plain": [
       "\"temp_imitative.csv\""
      ]
     },
     "execution_count": 55,
     "metadata": {},
     "output_type": "execute_result"
    }
   ],
   "source": [
    "CSV.write(\"temp_imitative.csv\", df2)"
   ]
  },
  {
   "cell_type": "code",
   "execution_count": null,
   "id": "2c53339b",
   "metadata": {},
   "outputs": [],
   "source": []
  }
 ],
 "metadata": {
  "kernelspec": {
   "display_name": "Julia 1.9.3",
   "language": "julia",
   "name": "julia-1.9"
  },
  "language_info": {
   "file_extension": ".jl",
   "mimetype": "application/julia",
   "name": "julia",
   "version": "1.9.3"
  }
 },
 "nbformat": 4,
 "nbformat_minor": 5
}

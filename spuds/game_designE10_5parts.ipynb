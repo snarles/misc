{
 "cells": [
  {
   "cell_type": "markdown",
   "id": "052be005",
   "metadata": {},
   "source": [
    "Beat-n game with E10 base dishes and custom 5-pt jobs"
   ]
  },
  {
   "cell_type": "markdown",
   "id": "72817bb1",
   "metadata": {},
   "source": [
    "## Spud code"
   ]
  },
  {
   "cell_type": "code",
   "execution_count": 1,
   "id": "494818e8",
   "metadata": {},
   "outputs": [],
   "source": [
    "using Random\n",
    "using DataFrames\n",
    "using CSV\n",
    "using DelimitedFiles\n",
    "using Statistics\n",
    "using Printf\n",
    "using LinearAlgebra\n",
    "using Dates\n",
    "using JuMP\n",
    "using HiGHS"
   ]
  },
  {
   "cell_type": "code",
   "execution_count": 2,
   "id": "45e21e7f",
   "metadata": {},
   "outputs": [],
   "source": [
    "struct Spud\n",
    "    name::String\n",
    "    h::Int64\n",
    "    f::Int64\n",
    "    l::Int64\n",
    "    p::Int64\n",
    "    r::Int64\n",
    "    s::Int64\n",
    "    a1::Int64\n",
    "end"
   ]
  },
  {
   "cell_type": "code",
   "execution_count": 3,
   "id": "eef1262d",
   "metadata": {},
   "outputs": [
    {
     "data": {
      "text/plain": [
       "Dict{Int64, Function} with 7 entries:\n",
       "  450 => fx_your_F_their_L\n",
       "  545 => fx_your_P_their_L\n",
       "  500 => fx_your_L_their_S\n",
       "  550 => fx_your_P_their_R\n",
       "  600 => fx_your_R_their_S\n",
       "  100 => fx_add1\n",
       "  400 => fx_your_H_their_P"
      ]
     },
     "execution_count": 3,
     "metadata": {},
     "output_type": "execute_result"
    }
   ],
   "source": [
    "const ability_none = 999\n",
    "const ability_add1 = 100\n",
    "const ability_your_H_their_P = 400\n",
    "const ability_your_F_their_L = 450\n",
    "const ability_your_L_their_S = 500\n",
    "const ability_your_P_their_L = 545\n",
    "const ability_your_P_their_R = 550\n",
    "const ability_your_R_their_S = 600\n",
    "\n",
    "ability_name = Dict(\n",
    "    ability_add1 => \"add1\",\n",
    "    ability_your_H_their_P => \"yourHtheirP\",\n",
    "    ability_your_F_their_L => \"yourFtheirL\",\n",
    "    ability_your_L_their_S => \"yourLtheirS\",\n",
    "    ability_your_P_their_R => \"yourPtheirL\",\n",
    "    ability_your_P_their_R => \"yourPtheirR\",\n",
    "    ability_your_R_their_S => \"yourRtheirS\",\n",
    ")\n",
    "\n",
    "function fx_add1(a::Spud, b::Spud)\n",
    "    b0 = Spud(b.name, b.h, b.f, b.l, b.p, b.r, b.s, ability_none)\n",
    "    if eval_battle(Spud(a.name, a.h, a.f, a.l, a.p, a.r, a.s+1, ability_none), b0)==1\n",
    "        a = Spud(a.name, a.h, a.f, a.l, a.p, a.r, a.s+1, ability_none)\n",
    "    end\n",
    "    if eval_battle(Spud(a.name, a.h, a.f, a.l, a.p, a.r+1, a.s, ability_none), b0)==1\n",
    "        a = Spud(a.name, a.h, a.f, a.l, a.p, a.r+1, a.s, ability_none)\n",
    "    end\n",
    "    if eval_battle(Spud(a.name, a.h, a.f, a.l, a.p+1, a.r, a.s, ability_none), b0)==1\n",
    "        a = Spud(a.name, a.h, a.f, a.l, a.p+1, a.r, a.s, ability_none)\n",
    "    end\n",
    "    if eval_battle(Spud(a.name, a.h, a.f, a.l+1, a.p, a.r, a.s, ability_none), b0)==1\n",
    "        a = Spud(a.name, a.h, a.f, a.l+1, a.p, a.r, a.s, ability_none)\n",
    "    end\n",
    "    if eval_battle(Spud(a.name, a.h, a.f+1, a.l, a.p, a.r, a.s, ability_none), b0)==1\n",
    "        a = Spud(a.name, a.h, a.f+1, a.l, a.p, a.r, a.s, ability_none)\n",
    "    end\n",
    "    if eval_battle(Spud(a.name, a.h+1, a.f, a.l, a.p, a.r, a.s, ability_none), b0)==1\n",
    "        a = Spud(a.name, a.h+1, a.f, a.l, a.p, a.r, a.s, ability_none)\n",
    "    end\n",
    "    return [a, b]\n",
    "end\n",
    "\n",
    "function fx_your_H_their_P(a::Spud, b::Spud)\n",
    "    a = Spud(a.name, b.p, a.f, a.l, a.p, a.r, a.s, a.a1)\n",
    "    return [a, b]\n",
    "end\n",
    "\n",
    "function fx_your_F_their_L(a::Spud, b::Spud)\n",
    "    a = Spud(a.name, a.h, b.l, a.l, a.p, a.r, a.s, a.a1)\n",
    "    return [a, b]\n",
    "end\n",
    "\n",
    "function fx_your_L_their_S(a::Spud, b::Spud)\n",
    "    a = Spud(a.name, a.h, a.f, b.s, a.p, a.r, a.s, a.a1)\n",
    "    return [a, b]\n",
    "end\n",
    "\n",
    "function fx_your_P_their_L(a::Spud, b::Spud)\n",
    "    a = Spud(a.name, a.h, a.f, a.l, b.l, a.r, a.s, a.a1)\n",
    "    return [a, b]\n",
    "end\n",
    "\n",
    "function fx_your_P_their_R(a::Spud, b::Spud)\n",
    "    a = Spud(a.name, a.h, a.f, a.l, b.r, a.r, a.s, a.a1)\n",
    "    return [a, b]\n",
    "end\n",
    "\n",
    "function fx_your_R_their_S(a::Spud, b::Spud)\n",
    "    a = Spud(a.name, a.h, a.f, a.l, a.p, b.s, a.s, a.a1)\n",
    "    return [a, b]\n",
    "end\n",
    "\n",
    "\n",
    "\n",
    "ability_fx = Dict(\n",
    "    ability_add1 => fx_add1,\n",
    "    ability_your_H_their_P => fx_your_H_their_P,\n",
    "    ability_your_F_their_L => fx_your_F_their_L,\n",
    "    ability_your_L_their_S => fx_your_L_their_S,\n",
    "    ability_your_P_their_L => fx_your_P_their_L,\n",
    "    ability_your_P_their_R => fx_your_P_their_R,\n",
    "    ability_your_R_their_S => fx_your_R_their_S,\n",
    ")"
   ]
  },
  {
   "cell_type": "code",
   "execution_count": 4,
   "id": "950e076e",
   "metadata": {},
   "outputs": [
    {
     "data": {
      "text/plain": [
       "1"
      ]
     },
     "execution_count": 4,
     "metadata": {},
     "output_type": "execute_result"
    }
   ],
   "source": [
    "#const MXS = 100\n",
    "const MXV = 9\n",
    "const MNV = 1\n",
    "\n",
    "# function cost(h::Int64, f::Int64, l::Int64, p::Int64, r::Int64, s::Int64)::Int64\n",
    "#     #return h*(f+l-2*MNV) + f*(p+r+s-3*MNV) + h+f+l+p+r+s-6*MNV\n",
    "#     return h*(f+l) + f*(p+r+s)\n",
    "# end\n",
    "\n",
    "# function cost(a::Spud)::Int64\n",
    "#     if a.a1 == ability_none\n",
    "#         return cost(a.h, a.f, a.l, a.p, a.r, a.s)\n",
    "#     else\n",
    "#         return cost(a.h, a.f, a.l, a.p, a.r, a.s) + ability_cost[a.a1](a)\n",
    "#     end\n",
    "# end"
   ]
  },
  {
   "cell_type": "code",
   "execution_count": 5,
   "id": "ac830f74",
   "metadata": {},
   "outputs": [
    {
     "data": {
      "text/plain": [
       "eval_melee (generic function with 3 methods)"
      ]
     },
     "execution_count": 5,
     "metadata": {},
     "output_type": "execute_result"
    }
   ],
   "source": [
    "function compare_int_list(as::Vector{Int64}, bs::Vector{Int64}, tiebreaker::Int64 = 0)::Int64\n",
    "    n = min(length(as), length(bs))\n",
    "    for i in 1:n\n",
    "        if as[i] != bs[i]\n",
    "            return sign(as[i] - bs[i])\n",
    "        end\n",
    "    end\n",
    "    return tiebreaker\n",
    "end\n",
    "\n",
    "function spud_h_seq(a::Spud)::Vector{Int64}\n",
    "    return [a.h, a.s, a.r, a.p, a.l, a.f]\n",
    "end\n",
    "\n",
    "function spud_f_seq(a::Spud)::Vector{Int64}\n",
    "    return [a.f, a.s, a.r, a.p, a.l, a.h]\n",
    "end\n",
    "\n",
    "function spud_l_seq(a::Spud)::Vector{Int64}\n",
    "    return [a.l]\n",
    "end\n",
    "\n",
    "function spud_p_seq(a::Spud)::Vector{Int64}\n",
    "    return [a.p, a.l]\n",
    "end\n",
    "\n",
    "function spud_r_seq(a::Spud)::Vector{Int64}\n",
    "    return [a.r, a.f]\n",
    "end\n",
    "\n",
    "function spud_s_seq(a::Spud)::Vector{Int64}\n",
    "    return [a.s, a.h]\n",
    "end\n",
    "\n",
    "function spud_utb_seq(a::Spud)::Vector{Int64}\n",
    "    return [a.a1, a.h, a.f, a.l, a.p, a.r, a.s]\n",
    "end\n",
    "\n",
    "function eval_finds(a::Spud, b::Spud, tiebreaker::Int64 = 0)::Int64\n",
    "    ev = compare_int_list(spud_f_seq(a), spud_h_seq(b), tiebreaker)\n",
    "    ans = ev\n",
    "end\n",
    "\n",
    "function eval_melee(a::Spud, b::Spud, tiebreaker1::Int64 = 0, tiebreaker2::Int64 = 0)::Int64\n",
    "    comp_p = compare_int_list(spud_p_seq(a), spud_p_seq(b), tiebreaker1)\n",
    "    comp_r = compare_int_list(spud_r_seq(a), spud_r_seq(b), tiebreaker1)\n",
    "    comp_s = compare_int_list(spud_s_seq(a), spud_s_seq(b), tiebreaker1)\n",
    "    ev = 4 * comp_p + 3 * comp_r + 2 * comp_s\n",
    "    return sign(ev + (1-abs(ev))*tiebreaker2)\n",
    "end\n",
    "\n"
   ]
  },
  {
   "cell_type": "code",
   "execution_count": 6,
   "id": "f603612d",
   "metadata": {},
   "outputs": [
    {
     "data": {
      "text/plain": [
       "eval_battle (generic function with 1 method)"
      ]
     },
     "execution_count": 6,
     "metadata": {},
     "output_type": "execute_result"
    }
   ],
   "source": [
    "\n",
    "\n",
    "function apply_ability(a::Spud, b::Spud)::Array{Spud}\n",
    "    if a.a1 == ability_none\n",
    "        return [a, b]\n",
    "    else\n",
    "        return ability_fx[a.a1](a, b)\n",
    "    end\n",
    "end\n",
    "\n",
    "\n",
    "function eval_battle(a::Spud, b::Spud)::Int64\n",
    "    utb = compare_int_list(spud_utb_seq(a), spud_utb_seq(b), 0) # universal tiebreaker\n",
    "    if utb == 0\n",
    "        return 0\n",
    "    end\n",
    "    a_ability_first = compare_int_list([a.a1, a.s], [b.a1, b.s], utb)\n",
    "    if a_ability_first ==1\n",
    "        if a.a1 != ability_none\n",
    "            res = apply_ability(a, b)\n",
    "            a = res[1]\n",
    "            b = res[2]\n",
    "        end\n",
    "        if b.a1 != ability_none\n",
    "            res = apply_ability(b, a)\n",
    "            b = res[1]\n",
    "            a = res[2]\n",
    "        end\n",
    "    end\n",
    "    if a_ability_first == -1\n",
    "        if b.a1 != ability_none\n",
    "            res = apply_ability(b, a)\n",
    "            b = res[1]\n",
    "            a = res[2]\n",
    "        end\n",
    "        if a.a1 != ability_none\n",
    "            res = apply_ability(a, b)\n",
    "            a = res[1]\n",
    "            b = res[2]\n",
    "        end\n",
    "    end\n",
    "    #println(a)\n",
    "    #println(b)\n",
    "    a_finds = eval_finds(a, b, utb)==1\n",
    "    b_finds = eval_finds(b, a, utb)==1\n",
    "    melee_win = eval_melee(a, b, 0, 0)\n",
    "    luck_win = compare_int_list([a.l, melee_win], [b.l, -melee_win], 0)\n",
    "    if melee_win ==1 && luck_win ==1\n",
    "        return 1\n",
    "    end\n",
    "    if melee_win == -1 && luck_win == -1\n",
    "        return -1\n",
    "    end\n",
    "    if a_finds && b_finds\n",
    "        return melee_win\n",
    "    end\n",
    "    if a_finds && !b_finds\n",
    "        return 1\n",
    "    end\n",
    "    if !a_finds && b_finds\n",
    "        return -1\n",
    "    end\n",
    "    if !a_finds && !b_finds\n",
    "        return luck_win\n",
    "    end\n",
    "end"
   ]
  },
  {
   "cell_type": "code",
   "execution_count": 7,
   "id": "40b9dc47",
   "metadata": {},
   "outputs": [
    {
     "data": {
      "text/plain": [
       "random_name_and_stat (generic function with 2 methods)"
      ]
     },
     "execution_count": 7,
     "metadata": {},
     "output_type": "execute_result"
    }
   ],
   "source": [
    "tab = CSV.read(\"census_yob2022_names.txt\", DataFrame, header = false)\n",
    "names = tab.Column1\n",
    "adjectives = CSV.read(\"adjectives.csv\", DataFrame)\n",
    "nouns = CSV.read(\"nouns.csv\", DataFrame)\n",
    "jobs = CSV.read(\"jobs.csv\", DataFrame)\n",
    "\n",
    "\n",
    "const mult_noun = 1\n",
    "const mult_adj = 2\n",
    "const mult_job = 3\n",
    "\n",
    "\n",
    "function random_name_and_stat(ability::Int64 = ability_none)::Spud\n",
    "    vp = [0, 0, 0, 0, 0, 0]\n",
    "    #nametype = rand([1,1,1,1,1,2,2,2,3])\n",
    "    name = \"\"\n",
    "    noun = \"\"\n",
    "    adj = \"\"\n",
    "    noun_i = rand(1:nrow(nouns))\n",
    "    noun = nouns[noun_i, :noun]\n",
    "    vp[1] = vp[1] + nouns[noun_i, :H] * mult_noun\n",
    "    vp[2] = vp[2] + nouns[noun_i, :F] * mult_noun\n",
    "    vp[3] = vp[3] + nouns[noun_i, :L] * mult_noun\n",
    "    vp[4] = vp[4] + nouns[noun_i, :P] * mult_noun\n",
    "    vp[5] = vp[5] + nouns[noun_i, :R] * mult_noun\n",
    "    vp[6] = vp[6] + nouns[noun_i, :S] * mult_noun\n",
    "    adj_i = rand(1:nrow(adjectives))\n",
    "    if ability == ability_none\n",
    "        adj = adjectives[adj_i, :adjective]\n",
    "        vp[1] = vp[1] + adjectives[adj_i, :H] * mult_adj\n",
    "        vp[2] = vp[2] + adjectives[adj_i, :F] * mult_adj\n",
    "        vp[3] = vp[3] + adjectives[adj_i, :L] * mult_adj\n",
    "        vp[4] = vp[4] + adjectives[adj_i, :P] * mult_adj\n",
    "        vp[5] = vp[5] + adjectives[adj_i, :R] * mult_adj\n",
    "        vp[6] = vp[6] + adjectives[adj_i, :S] * mult_adj\n",
    "    else\n",
    "        adj = ability_name[ability]\n",
    "    end\n",
    "    job_i = rand(1:nrow(jobs))\n",
    "    job = jobs[job_i, :job]\n",
    "    vp[1] = vp[1] + jobs[job_i, :H] * mult_job\n",
    "    vp[2] = vp[2] + jobs[job_i, :F] * mult_job\n",
    "    vp[3] = vp[3] + jobs[job_i, :L] * mult_job\n",
    "    vp[4] = vp[4] + jobs[job_i, :P] * mult_job\n",
    "    vp[5] = vp[5] + jobs[job_i, :R] * mult_job\n",
    "    vp[6] = vp[6] + jobs[job_i, :S] * mult_job\n",
    "    name = string(adj, \" \", job, \" \", noun)\n",
    "    Spud(name, vp[1], vp[2], vp[3], vp[4], vp[5], vp[6], ability_none)\n",
    "end"
   ]
  },
  {
   "cell_type": "code",
   "execution_count": 8,
   "id": "f606e085",
   "metadata": {},
   "outputs": [
    {
     "data": {
      "text/plain": [
       "rand_rename (generic function with 2 methods)"
      ]
     },
     "execution_count": 8,
     "metadata": {},
     "output_type": "execute_result"
    }
   ],
   "source": [
    "function rand_rename(a::Spud, n_tries::Int = 100)::Spud\n",
    "    best_score = 0.0\n",
    "    best_b = random_name_and_stat(a.a1)\n",
    "    for ii in 1:n_tries\n",
    "        b = random_name_and_stat(a.a1)\n",
    "        b_norm = sqrt(b.h^2 + b.f^2 + b.l^2 + b.p^2 + b.r^2 + b.s^2)\n",
    "        score = (a.h * b.h + a.f * b.f + a.l * b.l + a.p * b.p + a.r * b.r + a.s * b.s)/b_norm\n",
    "        if score > best_score\n",
    "            best_score = score\n",
    "            best_b = b\n",
    "        end\n",
    "    end\n",
    "    return Spud(best_b.name, a.h, a.f, a.l, a.p, a.r, a.s, a.a1)\n",
    "end"
   ]
  },
  {
   "cell_type": "code",
   "execution_count": 9,
   "id": "560e9539",
   "metadata": {},
   "outputs": [
    {
     "data": {
      "text/plain": [
       "df_to_spuds (generic function with 1 method)"
      ]
     },
     "execution_count": 9,
     "metadata": {},
     "output_type": "execute_result"
    }
   ],
   "source": [
    "function eval_battle_list(a::Spud, bs::Array{Spud})::Int\n",
    "    score = 0\n",
    "    for ii in 1:length(bs)\n",
    "        score = score + eval_battle(a, bs[ii])\n",
    "    end\n",
    "    return score\n",
    "end\n",
    "\n",
    "function eval_battle_list2(a::Spud, bs::Array{Spud}, w::Vector{Float64})::AbstractFloat\n",
    "    score = 0.0\n",
    "    for ii in 1:length(bs)\n",
    "        score = score + w[ii] * eval_battle(a, bs[ii])\n",
    "    end\n",
    "    return score\n",
    "end\n",
    "\n",
    "function spuds_to_df(as::Array{Spud})::DataFrame\n",
    "    names = Array{String}(undef, length(as))\n",
    "    hs = Array{Int}(undef, length(as))\n",
    "    fs = Array{Int}(undef, length(as))\n",
    "    ls = Array{Int}(undef, length(as))\n",
    "    ps = Array{Int}(undef, length(as))\n",
    "    rs = Array{Int}(undef, length(as))\n",
    "    ss = Array{Int}(undef, length(as))\n",
    "    a1s = Array{Int}(undef, length(as))\n",
    "    for ii in 1:length(as)\n",
    "        names[ii] = as[ii].name\n",
    "        hs[ii] = as[ii].h\n",
    "        fs[ii] = as[ii].f\n",
    "        ls[ii] = as[ii].l\n",
    "        ps[ii] = as[ii].p\n",
    "        rs[ii] = as[ii].r\n",
    "        ss[ii] = as[ii].s\n",
    "        a1s[ii] = as[ii].a1\n",
    "    end\n",
    "    df = DataFrame(name = names, h = hs, f = fs, l = ls, p = ps, r = rs, s = ss, a1 = a1s)\n",
    "    return df\n",
    "end\n",
    "\n",
    "function fpart(x::AbstractFloat)::AbstractFloat\n",
    "  return x - trunc(x)\n",
    "end\n",
    "\n",
    "# for legacy dfs without abilities\n",
    "function df_to_spuds0(df::DataFrame)::Array{Spud}\n",
    "    n = size(df)[1]\n",
    "    as = Array{Spud}(undef, n)\n",
    "    for i in 1:n\n",
    "        as[i] = Spud(df[i, :name], df[i, :h], df[i, :f], df[i, :l], df[i, :p], df[i, :r], df[i, :s], ability_none)\n",
    "    end\n",
    "    return as\n",
    "end\n",
    "\n",
    "function df_to_spuds(df::DataFrame)::Array{Spud}\n",
    "    n = size(df)[1]\n",
    "    as = Array{Spud}(undef, n)\n",
    "    for i in 1:n\n",
    "        as[i] = Spud(df[i, :name], df[i, :h], df[i, :f], df[i, :l], df[i, :p], df[i, :r], df[i, :s], df[i, :a1])\n",
    "    end\n",
    "    return as\n",
    "end\n",
    "\n"
   ]
  },
  {
   "cell_type": "markdown",
   "id": "66e71132",
   "metadata": {},
   "source": [
    "## Get dishes with cost 10"
   ]
  },
  {
   "cell_type": "code",
   "execution_count": 10,
   "id": "638f1e65",
   "metadata": {},
   "outputs": [
    {
     "data": {
      "text/plain": [
       "get_library (generic function with 2 methods)"
      ]
     },
     "execution_count": 10,
     "metadata": {},
     "output_type": "execute_result"
    }
   ],
   "source": [
    "function get_library(cost, n_init = 10000)\n",
    "    ffs = Array{Spud}(undef, n_init)\n",
    "    ff_i = 0\n",
    "    hrange = MNV:MXV\n",
    "    frange = MNV:MXV\n",
    "    lrange = MNV:MXV\n",
    "    prange = MNV:MXV\n",
    "    rrange = MNV:MXV\n",
    "    srange = MNV:MXV\n",
    "    for h in hrange\n",
    "        for f in frange\n",
    "            for l in lrange\n",
    "                for p in prange\n",
    "                    for r in rrange\n",
    "                        for s in srange\n",
    "                            if (h+f+l+p+r+s == cost)\n",
    "                                ff_i += 1\n",
    "                                ff = Spud(string(\"d_\", h,f,l,p,r,s), h,f,l,p,r,s,999)\n",
    "                                ffs[ff_i] = ff\n",
    "                            end\n",
    "                        end\n",
    "                    end                        \n",
    "                end                        \n",
    "            end\n",
    "        end\n",
    "    end\n",
    "    ffs = ffs[1:ff_i]\n",
    "    return unique(ffs)\n",
    "end"
   ]
  },
  {
   "cell_type": "code",
   "execution_count": 11,
   "id": "64d0dd3e",
   "metadata": {},
   "outputs": [],
   "source": [
    "dishes = get_library(10);\n",
    "#dishes"
   ]
  },
  {
   "cell_type": "code",
   "execution_count": 12,
   "id": "6be20a55",
   "metadata": {},
   "outputs": [
    {
     "data": {
      "text/plain": [
       "get_payoffs (generic function with 1 method)"
      ]
     },
     "execution_count": 12,
     "metadata": {},
     "output_type": "execute_result"
    }
   ],
   "source": [
    "function get_payoffs(env::Array{Spud})::Array{Int64}\n",
    "    n_nash = length(env)\n",
    "    payoffs = Array{Int64}(undef, (n_nash, n_nash))\n",
    "    for i in 1:n_nash\n",
    "        for j in 1:n_nash\n",
    "            payoffs[i, j] = eval_battle(env[i], env[j])\n",
    "        end\n",
    "    end\n",
    "    return payoffs\n",
    "end"
   ]
  },
  {
   "cell_type": "code",
   "execution_count": 13,
   "id": "af79e6db",
   "metadata": {},
   "outputs": [
    {
     "data": {
      "text/plain": [
       "filter_nondominated2 (generic function with 1 method)"
      ]
     },
     "execution_count": 13,
     "metadata": {},
     "output_type": "execute_result"
    }
   ],
   "source": [
    "function filter_nondominated2(as::Array{Spud})::Array{Spud}\n",
    "    mat = get_payoffs(as);\n",
    "    isDominated = zeros(Int64, length(as));\n",
    "    for i in 1:length(as)\n",
    "        v = mat[i, :]\n",
    "        bv = ones(Int64, length(as))\n",
    "        for j in 1:length(as)\n",
    "            bv = bv .* (mat[:, j] .>= v[j])\n",
    "        end\n",
    "        if sum(bv) > 1\n",
    "            isDominated[i] = 1\n",
    "        end\n",
    "    end\n",
    "    return as[isDominated .== 0]\n",
    "end"
   ]
  },
  {
   "cell_type": "code",
   "execution_count": 14,
   "id": "4d12cc60",
   "metadata": {},
   "outputs": [
    {
     "data": {
      "text/plain": [
       "spud2int (generic function with 1 method)"
      ]
     },
     "execution_count": 14,
     "metadata": {},
     "output_type": "execute_result"
    }
   ],
   "source": [
    "function spud2int(a::Spud)::Int64\n",
    "    return a.h * 100000 + a.f * 10000 + a.l * 1000 + a.p * 100 + a.r * 10 + a.s\n",
    "end\n",
    "\n",
    "#i2s = Dict(spud2int(ff) => ff for ff in lib)"
   ]
  },
  {
   "cell_type": "markdown",
   "id": "14324db6",
   "metadata": {},
   "source": [
    "## Custom jobs"
   ]
  },
  {
   "cell_type": "code",
   "execution_count": 15,
   "id": "a1f79b44",
   "metadata": {},
   "outputs": [
    {
     "data": {
      "text/plain": [
       "get_nash_env (generic function with 1 method)"
      ]
     },
     "execution_count": 15,
     "metadata": {},
     "output_type": "execute_result"
    }
   ],
   "source": [
    "function combine_jobs_dishes(jobs::Array{Spud}, dishes::Array{Spud})::Array{Spud}\n",
    "    lib = Array{Spud}(undef, 10000)\n",
    "    ff_i = 0\n",
    "    for j in jobs\n",
    "        for d in dishes\n",
    "            ff = Spud(string(j.name, \" \", d.name), j.h+d.h, j.f+d.f, j.l+d.l, j.p+d.p, j.r+d.r, j.s+d.s, j.a1)\n",
    "            ff_i += 1\n",
    "            lib[ff_i] = ff\n",
    "        end\n",
    "    end\n",
    "    lib = lib[1:ff_i];\n",
    "    return lib\n",
    "end\n",
    "\n",
    "function get_nash_env(jobs::Array{Spud}, dishes::Array{Spud})::Tuple{Array{Spud}, Array{Float64}}\n",
    "    lib = combine_jobs_dishes(jobs, dishes)\n",
    "    ## optimize\n",
    "    payoffs = get_payoffs(lib);\n",
    "    vector_model = Model(HiGHS.Optimizer)\n",
    "    n_nash = length(lib)\n",
    "    sumv = zeros(Int64, (1, 2 * n_nash + 1))\n",
    "    sumv[1:n_nash] .= 1\n",
    "    A = hcat(payoffs, Matrix(1I,n_nash, n_nash), -ones(Int64, n_nash, 1))\n",
    "    A = vcat(A, sumv);\n",
    "    b = zeros(Int64, n_nash + 1);\n",
    "    b[1:n_nash] .= -1\n",
    "    b[n_nash+1] = 1\n",
    "    transpose(b);\n",
    "    c = zeros(Int64, 2 * n_nash + 1);\n",
    "    c[2 * n_nash + 1] = 1;\n",
    "    @variable(vector_model, x[1:(2*n_nash+1)] >= 0);\n",
    "    @constraint(vector_model, A * x .== b);\n",
    "    @objective(vector_model, Min, c' * x)\n",
    "    @time optimize!(vector_model)\n",
    "    ## solution\n",
    "    w_lp = [value(x[i]) for i in 1:n_nash]\n",
    "    w_lp = w_lp./sum(w_lp);\n",
    "    new_env = lib[w_lp .> 0]\n",
    "    w_new = w_lp[w_lp .> 0];\n",
    "    for i in sortperm(-w_new)\n",
    "        print(new_env[i])\n",
    "        print(\" \")\n",
    "        println(string(w_new[i])[1:6])\n",
    "    end\n",
    "    return new_env, w_new\n",
    "end"
   ]
  },
  {
   "cell_type": "code",
   "execution_count": 33,
   "id": "ad11b5d6",
   "metadata": {},
   "outputs": [
    {
     "name": "stdout",
     "output_type": "stream",
     "text": [
      "Running HiGHS 1.6.0: Copyright (c) 2023 HiGHS under MIT licence terms\n",
      "Presolving model\n",
      "1513 rows, 3025 cols, 2288568 nonzeros\n",
      "1513 rows, 2851 cols, 2025684 nonzeros\n",
      "Presolve : Reductions: rows 1513(-0); columns 2851(-174); elements 2025684(-262884)\n",
      "Solving the presolved LP\n",
      "Using EKK dual simplex solver - serial\n",
      "  Iteration        Objective     Infeasibilities num(sum)\n",
      "          0     0.0000000000e+00 Pr: 1513(1513) 0s\n",
      "       1901     1.0000000000e+00 Pr: 0(0) 1s\n",
      "       1901     1.0000000000e+00 Pr: 0(0) 1s\n",
      "Solving the original LP from the solution after postsolve\n",
      "Model   status      : Optimal\n",
      "Simplex   iterations: 1901\n",
      "Objective value     :  1.0000000000e+00\n",
      "HiGHS run time      :          1.17\n",
      "  1.269341 seconds (24.43 k allocations: 133.484 MiB, 1.66% gc time)\n",
      "Spud(\"Driver d_111142\", 2, 2, 1, 1, 5, 4, 999) 0.0813\n",
      "Spud(\"Brawler d_114121\", 1, 1, 5, 3, 3, 2, 999) 0.0621\n",
      "Spud(\"Driver d_121231\", 2, 3, 1, 2, 4, 3, 999) 0.0574\n",
      "Spud(\"Pyro d_131212\", 1, 3, 1, 5, 1, 2, 600) 0.0517\n",
      "Spud(\"Driver d_131311\", 2, 4, 1, 3, 2, 3, 999) 0.0504\n",
      "Spud(\"Ascetic d_115111\", 3, 2, 5, 1, 2, 2, 999) 0.0463\n",
      "Spud(\"Salesman d_121321\", 1, 4, 2, 4, 3, 1, 999) 0.0398\n",
      "Spud(\"Driver d_131131\", 2, 4, 1, 1, 4, 3, 999) 0.0394\n",
      "Spud(\"Singer d_412111\", 4, 1, 4, 2, 2, 1, 999) 0.0382\n",
      "Spud(\"Pyro d_141112\", 1, 4, 1, 4, 1, 2, 600) 0.0367\n",
      "Spud(\"Ascetic d_213112\", 4, 2, 3, 1, 2, 3, 999) 0.0359\n",
      "Spud(\"Singer d_313111\", 3, 1, 5, 2, 2, 1, 999) 0.0342\n",
      "Spud(\"Ascetic d_214111\", 4, 2, 4, 1, 2, 2, 999) 0.0320\n",
      "Spud(\"Dancer d_412111\", 5, 1, 3, 2, 1, 2, 999) 0.0314\n",
      "Spud(\"Dancer d_113113\", 2, 1, 4, 2, 1, 4, 999) 0.0308\n",
      "Spud(\"Janitor d_111313\", 1, 1, 1, 5, 1, 5, 999) 0.0270\n",
      "Spud(\"Singer d_511111\", 5, 1, 3, 2, 2, 1, 999) 0.0259\n",
      "Spud(\"Dancer d_213112\", 3, 1, 4, 2, 1, 3, 999) 0.0236\n",
      "Spud(\"Dancer d_214111\", 3, 1, 5, 2, 1, 2, 999) 0.0221\n",
      "Spud(\"Dancer d_313111\", 4, 1, 4, 2, 1, 2, 999) 0.0213\n",
      "Spud(\"Salesman d_131221\", 1, 5, 2, 3, 3, 1, 999) 0.0205\n",
      "Spud(\"Brawler d_113221\", 1, 1, 4, 4, 3, 2, 999) 0.0195\n",
      "Spud(\"Dancer d_114112\", 2, 1, 5, 2, 1, 3, 999) 0.0181\n",
      "Spud(\"Driver d_121222\", 2, 3, 1, 2, 3, 4, 999) 0.0180\n",
      "Spud(\"Driver d_141121\", 2, 5, 1, 1, 3, 3, 999) 0.0169\n",
      "Spud(\"Ascetic d_113122\", 3, 2, 3, 1, 3, 3, 999) 0.0134\n",
      "Spud(\"Brawler d_113113\", 1, 1, 4, 3, 2, 4, 999) 0.0124\n",
      "Spud(\"Ascetic d_114121\", 3, 2, 4, 1, 3, 2, 999) 0.0115\n",
      "Spud(\"Ascetic d_213121\", 4, 2, 3, 1, 3, 2, 999) 0.0112\n",
      "Spud(\"Salesman d_111115\", 1, 3, 2, 2, 2, 5, 999) 0.0101\n",
      "Spud(\"Ascetic d_112132\", 3, 2, 2, 1, 4, 3, 999) 0.0094\n",
      "Spud(\"Brawler d_212131\", 2, 1, 3, 3, 4, 2, 999) 0.0074\n",
      "Spud(\"Driver d_131212\", 2, 4, 1, 2, 2, 4, 999) 0.0064\n",
      "Spud(\"Photographer d_131131\", 1, 4, 1, 1, 3, 3, 545) 0.0061\n",
      "Spud(\"Driver d_121321\", 2, 3, 1, 3, 3, 3, 999) 0.0052\n",
      "Spud(\"Janitor d_131212\", 1, 3, 1, 4, 1, 4, 999) 0.0048\n",
      "Spud(\"Driver d_115111\", 2, 2, 5, 1, 2, 3, 999) 0.0048\n",
      "Spud(\"Driver d_121141\", 2, 3, 1, 1, 5, 3, 999) 0.0034\n",
      "Spud(\"Ascetic d_212122\", 4, 2, 2, 1, 3, 3, 999) 0.0034\n",
      "Spud(\"Brawler d_112213\", 1, 1, 3, 4, 2, 4, 999) 0.0032\n",
      "Spud(\"Dancer d_312112\", 4, 1, 3, 2, 1, 3, 999) 0.0030\n",
      "Spud(\"Salesman d_111133\", 1, 3, 2, 2, 4, 3, 999) 0.0012\n",
      "Spud(\"Salesman d_122311\", 1, 4, 3, 4, 2, 1, 999) 0.0007\n"
     ]
    }
   ],
   "source": [
    "jobs = [\n",
    "    Spud(\"Ascetic\",     2,1,0,0,1,1,ability_none),\n",
    "    Spud(\"Dancer\",      1,0,1,1,0,1,ability_none),\n",
    "    Spud(\"Singer\",      0,0,2,1,1,0,ability_none),\n",
    "    #Spud(\"Empath\",     0,3,2,1,0,0,ability_none),\n",
    "    Spud(\"Brawler\",     0,0,1,2,1,1,ability_none),\n",
    "    #Spud(\"Merchant\",   0,1,2,0,0,1,ability_none),\n",
    "    Spud(\"Salesman\",    0,2,1,1,1,0,ability_none),\n",
    "    Spud(\"Driver\",      1,1,0,0,1,2,ability_none),\n",
    "    Spud(\"Pyro\",        0,0,0,3,0,0,ability_your_R_their_S),\n",
    "    Spud(\"Hustler\",     0,0,0,0,1,3,ability_none),\n",
    "    Spud(\"Janitor\",     0,0,0,2,0,2,ability_none),\n",
    "    Spud(\"Photographer\",0,1,0,0,0,2,ability_your_P_their_L),\n",
    "    Spud(\"Student\",     0,1,0,0,0,0,ability_add1),\n",
    "    Spud(\"Scammer\",     0,1,0,0,0,2,ability_your_H_their_P)\n",
    "]\n",
    "ne, wn = get_nash_env(jobs, dishes);"
   ]
  },
  {
   "cell_type": "code",
   "execution_count": 34,
   "id": "4ca83881",
   "metadata": {},
   "outputs": [
    {
     "name": "stdout",
     "output_type": "stream",
     "text": [
      "\u001b[1m43×9 DataFrame\u001b[0m\n",
      "\u001b[1m Row \u001b[0m│\u001b[1m name                  \u001b[0m\u001b[1m h     \u001b[0m\u001b[1m f     \u001b[0m\u001b[1m l     \u001b[0m\u001b[1m p     \u001b[0m\u001b[1m r     \u001b[0m\u001b[1m s     \u001b[0m\u001b[1m a1    \u001b[0m\u001b[1m w       \u001b[0m\n",
      "     │\u001b[90m String                \u001b[0m\u001b[90m Int64 \u001b[0m\u001b[90m Int64 \u001b[0m\u001b[90m Int64 \u001b[0m\u001b[90m Int64 \u001b[0m\u001b[90m Int64 \u001b[0m\u001b[90m Int64 \u001b[0m\u001b[90m Int64 \u001b[0m\u001b[90m Float64 \u001b[0m\n",
      "─────┼─────────────────────────────────────────────────────────────────────────────────\n",
      "   1 │ Driver d_111142            2      2      1      1      5      4    999    0.081\n",
      "   2 │ Brawler d_114121           1      1      5      3      3      2    999    0.062\n",
      "   3 │ Driver d_121231            2      3      1      2      4      3    999    0.057\n",
      "   4 │ Pyro d_131212              1      3      1      5      1      2    600    0.051\n",
      "   5 │ Driver d_131311            2      4      1      3      2      3    999    0.05\n",
      "   6 │ Ascetic d_115111           3      2      5      1      2      2    999    0.046\n",
      "   7 │ Salesman d_121321          1      4      2      4      3      1    999    0.039\n",
      "   8 │ Driver d_131131            2      4      1      1      4      3    999    0.039\n",
      "   9 │ Singer d_412111            4      1      4      2      2      1    999    0.038\n",
      "  10 │ Pyro d_141112              1      4      1      4      1      2    600    0.036\n",
      "  11 │ Ascetic d_213112           4      2      3      1      2      3    999    0.035\n",
      "  12 │ Singer d_313111            3      1      5      2      2      1    999    0.034\n",
      "  13 │ Ascetic d_214111           4      2      4      1      2      2    999    0.032\n",
      "  14 │ Dancer d_412111            5      1      3      2      1      2    999    0.031\n",
      "  15 │ Dancer d_113113            2      1      4      2      1      4    999    0.03\n",
      "  16 │ Janitor d_111313           1      1      1      5      1      5    999    0.027\n",
      "  17 │ Singer d_511111            5      1      3      2      2      1    999    0.025\n",
      "  18 │ Dancer d_213112            3      1      4      2      1      3    999    0.023\n",
      "  19 │ Dancer d_214111            3      1      5      2      1      2    999    0.022\n",
      "  20 │ Dancer d_313111            4      1      4      2      1      2    999    0.021\n",
      "  21 │ Salesman d_131221          1      5      2      3      3      1    999    0.02\n",
      "  22 │ Brawler d_113221           1      1      4      4      3      2    999    0.019\n",
      "  23 │ Dancer d_114112            2      1      5      2      1      3    999    0.018\n",
      "  24 │ Driver d_121222            2      3      1      2      3      4    999    0.018\n",
      "  25 │ Driver d_141121            2      5      1      1      3      3    999    0.016\n",
      "  26 │ Ascetic d_113122           3      2      3      1      3      3    999    0.013\n",
      "  27 │ Brawler d_113113           1      1      4      3      2      4    999    0.012\n",
      "  28 │ Ascetic d_114121           3      2      4      1      3      2    999    0.011\n",
      "  29 │ Ascetic d_213121           4      2      3      1      3      2    999    0.011\n",
      "  30 │ Salesman d_111115          1      3      2      2      2      5    999    0.01\n",
      "  31 │ Ascetic d_112132           3      2      2      1      4      3    999    0.009\n",
      "  32 │ Brawler d_212131           2      1      3      3      4      2    999    0.007\n",
      "  33 │ Driver d_131212            2      4      1      2      2      4    999    0.006\n",
      "  34 │ Photographer d_131131      1      4      1      1      3      3    545    0.006\n",
      "  35 │ Driver d_121321            2      3      1      3      3      3    999    0.005\n",
      "  36 │ Janitor d_131212           1      3      1      4      1      4    999    0.004\n",
      "  37 │ Driver d_115111            2      2      5      1      2      3    999    0.004\n",
      "  38 │ Driver d_121141            2      3      1      1      5      3    999    0.003\n",
      "  39 │ Ascetic d_212122           4      2      2      1      3      3    999    0.003\n",
      "  40 │ Brawler d_112213           1      1      3      4      2      4    999    0.003\n",
      "  41 │ Dancer d_312112            4      1      3      2      1      3    999    0.003\n",
      "  42 │ Salesman d_111133          1      3      2      2      4      3    999    0.001\n",
      "  43 │ Salesman d_122311          1      4      3      4      2      1    999    0.0"
     ]
    }
   ],
   "source": [
    "df = spuds_to_df(ne)\n",
    "df[!, :w] = [floor(w*1000)/1000 for w in wn]\n",
    "print(df[sortperm(-wn),:])"
   ]
  },
  {
   "cell_type": "code",
   "execution_count": 38,
   "id": "ce0927f3",
   "metadata": {
    "scrolled": false
   },
   "outputs": [
    {
     "name": "stdout",
     "output_type": "stream",
     "text": [
      "150 364 332 860 1473 197 1305 1371 675 800 1353 911 92 1413 897 1304 1495 365 566 946 37 804 623 1161 267 1427 389 1208 1191 167 166 29 1056 1239 1447 1445 601 634 168 314 369 1268 464 1503 276 318 1281 863 184 1459 476 881 299 284 975 436 1294 1073 1276 138 1032 636 20 1387 1291 424 1381 1275 927 79 1329 616 1233 865 1318 196 621 1171 117 221 249 62 900 352 559 87 111 231 1394 604 1425 1286 947 347 715 585 932 450 186 203 416 702 462 103 1246 960 869 1422 713 638 780 985 394 1396 64 923 1189 817 306 359 468 694 617 1058 727 548 902 907 537 838 448 891 1395 481 72 1229 59 898 146 1316 1192 663 280 1054 1362 522 156 539 1104 912 346 523 326 421 814 1331 181 216 785 794 1031 1060 874 1478 832 570 433 182 486 342 348 1359 1048 848 1297 362 51 1129 1232 519 401 1214 498 1177 736 1482 1486 52 1467 619 278 1030 1273 455 986 48 407 400 160 302 1319 85 479 272 1293 294 73 547 28 1106 1165 444 737 21 1085 122 1151 397 323 1207 515 1140 283 845 855 1088 236 1298 395 784 1301 1494 989 982 144 692 35 428 234 1342 720 1130 606 290 1374 1147 896 258 1379 65 109 386 646 829 1310 728 1110 762 1337 392 837 690 379 1444 1236 913 311 820 1012 1420 576 1339 588 494 472 190 1472 1247 1055 721 895 738 711 1109 639 995 1466 404 506 57 46 214 1288 950 1487 549 1005 100 319 396 681 761 1126 590 688 916 951 1263 1079 128 970 1209 320 452 714 246 360 1390 803 707 118 1141 1217 378 1378 1133 775 345 76 701 649 934 371 154 953 1429 1258 781 235 836 406 34 1096 914 631 890 1348 1497 418 854 1357 447 1449 1256 772 1135 1452 387 127 875 1069 114 894 826 1262 930 1113 961 868 1351 1218 925 141 1506 1044 1066 627 937 1181 335 1015 289 1046 659 918 1391 880 356 689 432 417 844 451 228 83 1231 1385 1323 1270 78 460 926 441 1138 1308 1302 1199 307 984 1255 1403 786 582 1195 382 230 516 1448 1428 1121 564 760 1370 635 1349 605 1458 219 1035 492 956 475 776 1446 244 1267 676 427 542 36 908 1166 159 1412 445 291 1033 851 892 245 974 390 252 722 1074 1251 152 1108 140 260 811 1415 175 527 1261 731 1047 74 227 972 703 1216 68 163 277 13 1377 1471 1027 1254 1292 719 628 1326 1406 358 766 952 1441 243 1142 1004 1193 104 742 614 410 337 1194 106 355 1137 536 556 1213 1338 173 192 327 1491 340 1225 1190 807 931 718 242 598 1477 1405 279 563 466 752 888 1182 393 1414 1039 84 630 1363 381 361 330 1511 334 1153 129 1139 449 1480 978 491 683 285 1204 1315 443 1107 478 101 987 1036 1226 97 1269 259 816 1347 1038 1211 949 1111 70 1512 999 1493 282 569 176 110 835 1162 813 1183 1358 296 744 656 1306 198 313 862 751 901 39 578 1024 131 685 1442 255 1361 824 199 774 725 517 1388 1336 426 1289 558 792 295 15 929 993 759 1011 165 679 1160 919 1219 1145 1101 518 764 261 596 983 647 384 308 500 1071 1457 477 1462 437 622 698 1205 33 680 1007 823 343 1333 1105 1220 1002 108 611 4 1097 325 745 265 955 1417 973 44 262 757 1124 1067 633 170 1049 1053 1330 615 482 1078 353 1324 847 1419 705 185 1169 655 1016 779 1354 115 1076 385 1352 268 1438 735 1094 1464 157 222 1083 503 662 573 1065 474 512 1345 852 "
     ]
    }
   ],
   "source": [
    "lib = combine_jobs_dishes(jobs, dishes)\n",
    "payoffs = get_payoffs(lib)\n",
    "nlib = length(lib)\n",
    "combos = Array{Spud}(undef, (10000,3))\n",
    "ord = sortperm([rand() for i in 1:nlib])[1:700]\n",
    "#ord = [i for i in 1:nlib]\n",
    "nc = 0\n",
    "# 3-combos\n",
    "for i in ord[1:(length(ord)-2)]\n",
    "    print(i)\n",
    "    print(\" \")\n",
    "    pi = payoffs[i,:]\n",
    "    for j in ord[(i+1):(length(ord)-1)]\n",
    "        pj = payoffs[j, :]\n",
    "        pij = [max(pi[a], pj[a]) for a in 1:nlib]\n",
    "        if sum(pij .== 1) > 0\n",
    "            #print(\".\")\n",
    "            for k in ord[(j+1):length(ord)]\n",
    "                pk = payoffs[k, :]\n",
    "                pijk = [max(pi[a], pj[a], pk[a]) for a in 1:nlib]\n",
    "                if minimum(pijk)==1\n",
    "                    nc += 1\n",
    "                    combos[nc, :] = lib[[i,j,k]]\n",
    "                    #println(\"\")\n",
    "                    #println(\"----3-COMBO!-----\")\n",
    "                    #println(lib[[i,j,k]])\n",
    "                end\n",
    "            end\n",
    "        end\n",
    "    end\n",
    "end\n",
    "combos = combos[1:nc,:];"
   ]
  },
  {
   "cell_type": "code",
   "execution_count": 39,
   "id": "3685d1d0",
   "metadata": {},
   "outputs": [
    {
     "data": {
      "text/plain": [
       "(1, 3)"
      ]
     },
     "execution_count": 39,
     "metadata": {},
     "output_type": "execute_result"
    }
   ],
   "source": [
    "size(combos)"
   ]
  },
  {
   "cell_type": "markdown",
   "id": "bc9cfb0f",
   "metadata": {},
   "source": [
    "### combo-breaker research"
   ]
  },
  {
   "cell_type": "code",
   "execution_count": 40,
   "id": "f4a10bc5",
   "metadata": {},
   "outputs": [
    {
     "name": "stdout",
     "output_type": "stream",
     "text": [
      "\u001b[1m3×8 DataFrame\u001b[0m\n",
      "\u001b[1m Row \u001b[0m│\u001b[1m name              \u001b[0m\u001b[1m h     \u001b[0m\u001b[1m f     \u001b[0m\u001b[1m l     \u001b[0m\u001b[1m p     \u001b[0m\u001b[1m r     \u001b[0m\u001b[1m s     \u001b[0m\u001b[1m a1    \u001b[0m\n",
      "     │\u001b[90m String            \u001b[0m\u001b[90m Int64 \u001b[0m\u001b[90m Int64 \u001b[0m\u001b[90m Int64 \u001b[0m\u001b[90m Int64 \u001b[0m\u001b[90m Int64 \u001b[0m\u001b[90m Int64 \u001b[0m\u001b[90m Int64 \u001b[0m\n",
      "─────┼────────────────────────────────────────────────────────────────────\n",
      "   1 │ Salesman d_121321      1      4      2      4      3      1    999\n",
      "   2 │ Ascetic d_111142       3      2      1      1      5      3    999\n",
      "   3 │ Driver d_214111        3      2      4      1      2      3    999"
     ]
    }
   ],
   "source": [
    "as = combos[1,:]\n",
    "print(spuds_to_df(as))"
   ]
  },
  {
   "cell_type": "code",
   "execution_count": null,
   "id": "3512ca0f",
   "metadata": {},
   "outputs": [],
   "source": [
    "println(maximum([eval_battle_list(ff, as) for ff in lib]))\n",
    "b = Spud(\"breaker\",1,2,4,1,1,4,ability_your_H_their_P)\n",
    "println([eval_battle(b, ff) for ff in as])\n",
    "eval_battle_list2(b, ne, wn)"
   ]
  },
  {
   "cell_type": "code",
   "execution_count": null,
   "id": "839fbaeb",
   "metadata": {},
   "outputs": [],
   "source": []
  }
 ],
 "metadata": {
  "kernelspec": {
   "display_name": "Julia 1.9.3",
   "language": "julia",
   "name": "julia-1.9"
  },
  "language_info": {
   "file_extension": ".jl",
   "mimetype": "application/julia",
   "name": "julia",
   "version": "1.9.3"
  }
 },
 "nbformat": 4,
 "nbformat_minor": 5
}

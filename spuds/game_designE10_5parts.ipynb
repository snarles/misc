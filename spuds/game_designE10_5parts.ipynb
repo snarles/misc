{
 "cells": [
  {
   "cell_type": "markdown",
   "id": "052be005",
   "metadata": {},
   "source": [
    "Beat-n game with E10 base dishes and custom 5-pt jobs"
   ]
  },
  {
   "cell_type": "markdown",
   "id": "72817bb1",
   "metadata": {},
   "source": [
    "## Spud code"
   ]
  },
  {
   "cell_type": "code",
   "execution_count": 1,
   "id": "494818e8",
   "metadata": {},
   "outputs": [],
   "source": [
    "using Random\n",
    "using DataFrames\n",
    "using CSV\n",
    "using DelimitedFiles\n",
    "using Statistics\n",
    "using Printf\n",
    "using LinearAlgebra\n",
    "using Dates\n",
    "using JuMP\n",
    "using HiGHS"
   ]
  },
  {
   "cell_type": "code",
   "execution_count": 2,
   "id": "45e21e7f",
   "metadata": {},
   "outputs": [],
   "source": [
    "struct Spud\n",
    "    name::String\n",
    "    h::Int64\n",
    "    f::Int64\n",
    "    l::Int64\n",
    "    p::Int64\n",
    "    r::Int64\n",
    "    s::Int64\n",
    "    a1::Int64\n",
    "end"
   ]
  },
  {
   "cell_type": "code",
   "execution_count": 3,
   "id": "eef1262d",
   "metadata": {},
   "outputs": [
    {
     "data": {
      "text/plain": [
       "Dict{Int64, Function} with 7 entries:\n",
       "  500 => fx_your_L_their_S\n",
       "  110 => fx_add1frs\n",
       "  210 => fx_transfer_f_rs\n",
       "  550 => fx_your_P_their_R\n",
       "  600 => fx_your_R_their_S\n",
       "  100 => fx_add1\n",
       "  450 => fx_your_F_their_L"
      ]
     },
     "execution_count": 3,
     "metadata": {},
     "output_type": "execute_result"
    }
   ],
   "source": [
    "const ability_none = 999\n",
    "const ability_add1 = 100\n",
    "const ability_add1frs = 110\n",
    "const ability_transfer_f_rs = 210\n",
    "const ability_your_F_their_L = 450\n",
    "const ability_your_L_their_S = 500\n",
    "const ability_your_P_their_R = 550\n",
    "const ability_your_R_their_S = 600\n",
    "\n",
    "ability_name = Dict(\n",
    "    ability_add1 => \"add1\",\n",
    "    ability_add1frs => \"add1frs\",\n",
    "    ability_transfer_f_rs => \"transfer_F_toRS\",\n",
    "    ability_your_F_their_L => \"yourFtheirL\",\n",
    "    ability_your_L_their_S => \"yourLtheirS\",\n",
    "    ability_your_P_their_R => \"yourPtheirR\",\n",
    "    ability_your_R_their_S => \"yourRtheirS\",\n",
    ")\n",
    "\n",
    "function fx_add1(a::Spud, b::Spud)\n",
    "    if eval_battle(Spud(a.name, a.h, a.f, a.l, a.p, a.r, a.s+1, ability_none), b)==1\n",
    "        a = Spud(a.name, a.h, a.f, a.l, a.p, a.r, a.s+1, ability_none)\n",
    "    end\n",
    "    if eval_battle(Spud(a.name, a.h, a.f, a.l, a.p, a.r+1, a.s, ability_none), b)==1\n",
    "        a = Spud(a.name, a.h, a.f, a.l, a.p, a.r+1, a.s, ability_none)\n",
    "    end\n",
    "    if eval_battle(Spud(a.name, a.h, a.f, a.l, a.p+1, a.r, a.s, ability_none), b)==1\n",
    "        a = Spud(a.name, a.h, a.f, a.l, a.p+1, a.r, a.s, ability_none)\n",
    "    end\n",
    "    if eval_battle(Spud(a.name, a.h, a.f, a.l+1, a.p, a.r, a.s, ability_none), b)==1\n",
    "        a = Spud(a.name, a.h, a.f, a.l+1, a.p, a.r, a.s, ability_none)\n",
    "    end\n",
    "    if eval_battle(Spud(a.name, a.h, a.f+1, a.l, a.p, a.r, a.s, ability_none), b)==1\n",
    "        a = Spud(a.name, a.h, a.f+1, a.l, a.p, a.r, a.s, ability_none)\n",
    "    end\n",
    "    if eval_battle(Spud(a.name, a.h+1, a.f, a.l, a.p, a.r, a.s, ability_none), b)==1\n",
    "        a = Spud(a.name, a.h+1, a.f, a.l, a.p, a.r, a.s, ability_none)\n",
    "    end\n",
    "    return [a, b]\n",
    "end\n",
    "\n",
    "\n",
    "function fx_add1frs(a::Spud, b::Spud)\n",
    "    if eval_battle(Spud(a.name, a.h, a.f, a.l, a.p, a.r, a.s+1, ability_none), b)==1\n",
    "        a = Spud(a.name, a.h, a.f, a.l, a.p, a.r, a.s+1, ability_none)\n",
    "    end\n",
    "    if eval_battle(Spud(a.name, a.h, a.f, a.l, a.p, a.r+1, a.s, ability_none), b)==1\n",
    "        a = Spud(a.name, a.h, a.f, a.l, a.p, a.r+1, a.s, ability_none)\n",
    "    end\n",
    "    if eval_battle(Spud(a.name, a.h, a.f+1, a.l, a.p, a.r, a.s, ability_none), b)==1\n",
    "        a = Spud(a.name, a.h, a.f+1, a.l, a.p, a.r, a.s, ability_none)\n",
    "    end\n",
    "    return [a, b]\n",
    "end\n",
    "\n",
    "function fx_transfer_f_rs(a::Spud, b::Spud)\n",
    "    if eval_battle(Spud(a.name, a.h, a.f-3, a.l, a.p, a.r, a.s+2, ability_none), b)==1\n",
    "        a = Spud(a.name, a.h, a.f-3, a.l, a.p, a.r, a.s+2, ability_none)\n",
    "    end\n",
    "    if eval_battle(Spud(a.name, a.h, a.f-3, a.l, a.p, a.r+2, a.s, ability_none), b)==1\n",
    "        a = Spud(a.name, a.h, a.f-3, a.l, a.p, a.r+2, a.s, ability_none)\n",
    "    end\n",
    "    return [a, b]\n",
    "end\n",
    "\n",
    "function fx_your_F_their_L(a::Spud, b::Spud)\n",
    "    a = Spud(a.name, a.h, b.l, a.l, a.p, a.r, a.s, a.a1)\n",
    "    return [a, b]\n",
    "end\n",
    "\n",
    "function fx_your_L_their_S(a::Spud, b::Spud)\n",
    "    a = Spud(a.name, a.h, a.f, b.s, a.p, a.r, a.s, a.a1)\n",
    "    return [a, b]\n",
    "end\n",
    "\n",
    "function fx_your_P_their_R(a::Spud, b::Spud)\n",
    "    a = Spud(a.name, a.h, a.f, a.l, b.r, a.r, a.s, a.a1)\n",
    "    return [a, b]\n",
    "end\n",
    "\n",
    "function fx_your_R_their_S(a::Spud, b::Spud)\n",
    "    a = Spud(a.name, a.h, a.f, a.l, a.p, b.s, a.s, a.a1)\n",
    "    return [a, b]\n",
    "end\n",
    "\n",
    "\n",
    "\n",
    "ability_fx = Dict(\n",
    "    ability_add1 => fx_add1,\n",
    "    ability_add1frs => fx_add1frs,\n",
    "    ability_transfer_f_rs => fx_transfer_f_rs,\n",
    "    ability_your_F_their_L => fx_your_F_their_L,\n",
    "    ability_your_L_their_S => fx_your_L_their_S,\n",
    "    ability_your_P_their_R => fx_your_P_their_R,\n",
    "    ability_your_R_their_S => fx_your_R_their_S,\n",
    ")"
   ]
  },
  {
   "cell_type": "code",
   "execution_count": 4,
   "id": "950e076e",
   "metadata": {},
   "outputs": [
    {
     "data": {
      "text/plain": [
       "1"
      ]
     },
     "execution_count": 4,
     "metadata": {},
     "output_type": "execute_result"
    }
   ],
   "source": [
    "#const MXS = 100\n",
    "const MXV = 9\n",
    "const MNV = 1\n",
    "\n",
    "# function cost(h::Int64, f::Int64, l::Int64, p::Int64, r::Int64, s::Int64)::Int64\n",
    "#     #return h*(f+l-2*MNV) + f*(p+r+s-3*MNV) + h+f+l+p+r+s-6*MNV\n",
    "#     return h*(f+l) + f*(p+r+s)\n",
    "# end\n",
    "\n",
    "# function cost(a::Spud)::Int64\n",
    "#     if a.a1 == ability_none\n",
    "#         return cost(a.h, a.f, a.l, a.p, a.r, a.s)\n",
    "#     else\n",
    "#         return cost(a.h, a.f, a.l, a.p, a.r, a.s) + ability_cost[a.a1](a)\n",
    "#     end\n",
    "# end"
   ]
  },
  {
   "cell_type": "code",
   "execution_count": 5,
   "id": "ac830f74",
   "metadata": {},
   "outputs": [
    {
     "data": {
      "text/plain": [
       "eval_melee (generic function with 3 methods)"
      ]
     },
     "execution_count": 5,
     "metadata": {},
     "output_type": "execute_result"
    }
   ],
   "source": [
    "function compare_int_list(as::Vector{Int64}, bs::Vector{Int64}, tiebreaker::Int64 = 0)::Int64\n",
    "    n = min(length(as), length(bs))\n",
    "    for i in 1:n\n",
    "        if as[i] != bs[i]\n",
    "            return sign(as[i] - bs[i])\n",
    "        end\n",
    "    end\n",
    "    return tiebreaker\n",
    "end\n",
    "\n",
    "function spud_h_seq(a::Spud)::Vector{Int64}\n",
    "    return [a.h, a.s, a.r, a.p, a.l, a.f]\n",
    "end\n",
    "\n",
    "function spud_f_seq(a::Spud)::Vector{Int64}\n",
    "    return [a.f, a.s, a.r, a.p, a.l, a.h]\n",
    "end\n",
    "\n",
    "function spud_l_seq(a::Spud)::Vector{Int64}\n",
    "    return [a.l]\n",
    "end\n",
    "\n",
    "function spud_p_seq(a::Spud)::Vector{Int64}\n",
    "    return [a.p, a.l]\n",
    "end\n",
    "\n",
    "function spud_r_seq(a::Spud)::Vector{Int64}\n",
    "    return [a.r, a.f]\n",
    "end\n",
    "\n",
    "function spud_s_seq(a::Spud)::Vector{Int64}\n",
    "    return [a.s, a.h]\n",
    "end\n",
    "\n",
    "function spud_utb_seq(a::Spud)::Vector{Int64}\n",
    "    return [a.a1, a.h, a.f, a.l, a.p, a.r, a.s]\n",
    "end\n",
    "\n",
    "function eval_finds(a::Spud, b::Spud, tiebreaker::Int64 = 0)::Int64\n",
    "    ev = compare_int_list(spud_f_seq(a), spud_h_seq(b), tiebreaker)\n",
    "    ans = ev\n",
    "end\n",
    "\n",
    "function eval_melee(a::Spud, b::Spud, tiebreaker1::Int64 = 0, tiebreaker2::Int64 = 0)::Int64\n",
    "    comp_p = compare_int_list(spud_p_seq(a), spud_p_seq(b), tiebreaker1)\n",
    "    comp_r = compare_int_list(spud_r_seq(a), spud_r_seq(b), tiebreaker1)\n",
    "    comp_s = compare_int_list(spud_s_seq(a), spud_s_seq(b), tiebreaker1)\n",
    "    ev = 4 * comp_p + 3 * comp_r + 2 * comp_s\n",
    "    return sign(ev + (1-abs(ev))*tiebreaker2)\n",
    "end\n",
    "\n"
   ]
  },
  {
   "cell_type": "code",
   "execution_count": 6,
   "id": "f603612d",
   "metadata": {},
   "outputs": [
    {
     "data": {
      "text/plain": [
       "eval_battle (generic function with 1 method)"
      ]
     },
     "execution_count": 6,
     "metadata": {},
     "output_type": "execute_result"
    }
   ],
   "source": [
    "\n",
    "\n",
    "function apply_ability(a::Spud, b::Spud)::Array{Spud}\n",
    "    if a.a1 == ability_none\n",
    "        return [a, b]\n",
    "    else\n",
    "        return ability_fx[a.a1](a, b)\n",
    "    end\n",
    "end\n",
    "\n",
    "\n",
    "function eval_battle(a::Spud, b::Spud)::Int64\n",
    "    utb = compare_int_list(spud_utb_seq(a), spud_utb_seq(b), 0) # universal tiebreaker\n",
    "    if utb == 0\n",
    "        return 0\n",
    "    end\n",
    "    a_ability_first = compare_int_list([a.a1, a.s], [b.a1, b.s], utb)\n",
    "    if a_ability_first ==1\n",
    "        if a.a1 != ability_none\n",
    "            res = apply_ability(a, b)\n",
    "            a = res[1]\n",
    "            b = res[2]\n",
    "        end\n",
    "        if b.a1 != ability_none\n",
    "            res = apply_ability(b, a)\n",
    "            b = res[1]\n",
    "            a = res[2]\n",
    "        end\n",
    "    end\n",
    "    if a_ability_first == -1\n",
    "        if b.a1 != ability_none\n",
    "            res = apply_ability(b, a)\n",
    "            b = res[1]\n",
    "            a = res[2]\n",
    "        end\n",
    "        if a.a1 != ability_none\n",
    "            res = apply_ability(a, b)\n",
    "            a = res[1]\n",
    "            b = res[2]\n",
    "        end\n",
    "    end\n",
    "    #println(a)\n",
    "    #println(b)\n",
    "    a_finds = eval_finds(a, b, utb)==1\n",
    "    b_finds = eval_finds(b, a, utb)==1\n",
    "    melee_win = eval_melee(a, b, 0, 0)\n",
    "    luck_win = compare_int_list([a.l, melee_win], [b.l, -melee_win], 0)\n",
    "    if melee_win ==1 && luck_win ==1\n",
    "        return 1\n",
    "    end\n",
    "    if melee_win == -1 && luck_win == -1\n",
    "        return -1\n",
    "    end\n",
    "    if a_finds && b_finds\n",
    "        return melee_win\n",
    "    end\n",
    "    if a_finds && !b_finds\n",
    "        return 1\n",
    "    end\n",
    "    if !a_finds && b_finds\n",
    "        return -1\n",
    "    end\n",
    "    if !a_finds && !b_finds\n",
    "        return luck_win\n",
    "    end\n",
    "end"
   ]
  },
  {
   "cell_type": "code",
   "execution_count": 7,
   "id": "40b9dc47",
   "metadata": {},
   "outputs": [
    {
     "data": {
      "text/plain": [
       "random_name_and_stat (generic function with 2 methods)"
      ]
     },
     "execution_count": 7,
     "metadata": {},
     "output_type": "execute_result"
    }
   ],
   "source": [
    "tab = CSV.read(\"census_yob2022_names.txt\", DataFrame, header = false)\n",
    "names = tab.Column1\n",
    "adjectives = CSV.read(\"adjectives.csv\", DataFrame)\n",
    "nouns = CSV.read(\"nouns.csv\", DataFrame)\n",
    "jobs = CSV.read(\"jobs.csv\", DataFrame)\n",
    "\n",
    "\n",
    "const mult_noun = 1\n",
    "const mult_adj = 2\n",
    "const mult_job = 3\n",
    "\n",
    "\n",
    "function random_name_and_stat(ability::Int64 = ability_none)::Spud\n",
    "    vp = [0, 0, 0, 0, 0, 0]\n",
    "    #nametype = rand([1,1,1,1,1,2,2,2,3])\n",
    "    name = \"\"\n",
    "    noun = \"\"\n",
    "    adj = \"\"\n",
    "    noun_i = rand(1:nrow(nouns))\n",
    "    noun = nouns[noun_i, :noun]\n",
    "    vp[1] = vp[1] + nouns[noun_i, :H] * mult_noun\n",
    "    vp[2] = vp[2] + nouns[noun_i, :F] * mult_noun\n",
    "    vp[3] = vp[3] + nouns[noun_i, :L] * mult_noun\n",
    "    vp[4] = vp[4] + nouns[noun_i, :P] * mult_noun\n",
    "    vp[5] = vp[5] + nouns[noun_i, :R] * mult_noun\n",
    "    vp[6] = vp[6] + nouns[noun_i, :S] * mult_noun\n",
    "    adj_i = rand(1:nrow(adjectives))\n",
    "    if ability == ability_none\n",
    "        adj = adjectives[adj_i, :adjective]\n",
    "        vp[1] = vp[1] + adjectives[adj_i, :H] * mult_adj\n",
    "        vp[2] = vp[2] + adjectives[adj_i, :F] * mult_adj\n",
    "        vp[3] = vp[3] + adjectives[adj_i, :L] * mult_adj\n",
    "        vp[4] = vp[4] + adjectives[adj_i, :P] * mult_adj\n",
    "        vp[5] = vp[5] + adjectives[adj_i, :R] * mult_adj\n",
    "        vp[6] = vp[6] + adjectives[adj_i, :S] * mult_adj\n",
    "    else\n",
    "        adj = ability_name[ability]\n",
    "    end\n",
    "    job_i = rand(1:nrow(jobs))\n",
    "    job = jobs[job_i, :job]\n",
    "    vp[1] = vp[1] + jobs[job_i, :H] * mult_job\n",
    "    vp[2] = vp[2] + jobs[job_i, :F] * mult_job\n",
    "    vp[3] = vp[3] + jobs[job_i, :L] * mult_job\n",
    "    vp[4] = vp[4] + jobs[job_i, :P] * mult_job\n",
    "    vp[5] = vp[5] + jobs[job_i, :R] * mult_job\n",
    "    vp[6] = vp[6] + jobs[job_i, :S] * mult_job\n",
    "    name = string(adj, \" \", job, \" \", noun)\n",
    "    Spud(name, vp[1], vp[2], vp[3], vp[4], vp[5], vp[6], ability_none)\n",
    "end"
   ]
  },
  {
   "cell_type": "code",
   "execution_count": 8,
   "id": "f606e085",
   "metadata": {},
   "outputs": [
    {
     "data": {
      "text/plain": [
       "rand_rename (generic function with 2 methods)"
      ]
     },
     "execution_count": 8,
     "metadata": {},
     "output_type": "execute_result"
    }
   ],
   "source": [
    "function rand_rename(a::Spud, n_tries::Int = 100)::Spud\n",
    "    best_score = 0.0\n",
    "    best_b = random_name_and_stat(a.a1)\n",
    "    for ii in 1:n_tries\n",
    "        b = random_name_and_stat(a.a1)\n",
    "        b_norm = sqrt(b.h^2 + b.f^2 + b.l^2 + b.p^2 + b.r^2 + b.s^2)\n",
    "        score = (a.h * b.h + a.f * b.f + a.l * b.l + a.p * b.p + a.r * b.r + a.s * b.s)/b_norm\n",
    "        if score > best_score\n",
    "            best_score = score\n",
    "            best_b = b\n",
    "        end\n",
    "    end\n",
    "    return Spud(best_b.name, a.h, a.f, a.l, a.p, a.r, a.s, a.a1)\n",
    "end"
   ]
  },
  {
   "cell_type": "code",
   "execution_count": 9,
   "id": "560e9539",
   "metadata": {},
   "outputs": [
    {
     "data": {
      "text/plain": [
       "df_to_spuds (generic function with 1 method)"
      ]
     },
     "execution_count": 9,
     "metadata": {},
     "output_type": "execute_result"
    }
   ],
   "source": [
    "function eval_battle_list(a::Spud, bs::Array{Spud})::Int\n",
    "    score = 0\n",
    "    for ii in 1:length(bs)\n",
    "        score = score + eval_battle(a, bs[ii])\n",
    "    end\n",
    "    return score\n",
    "end\n",
    "\n",
    "function eval_battle_list2(a::Spud, bs::Array{Spud}, w::Vector{Float64})::AbstractFloat\n",
    "    score = 0.0\n",
    "    for ii in 1:length(bs)\n",
    "        score = score + w[ii] * eval_battle(a, bs[ii])\n",
    "    end\n",
    "    return score\n",
    "end\n",
    "\n",
    "function spuds_to_df(as::Array{Spud})::DataFrame\n",
    "    names = Array{String}(undef, length(as))\n",
    "    hs = Array{Int}(undef, length(as))\n",
    "    fs = Array{Int}(undef, length(as))\n",
    "    ls = Array{Int}(undef, length(as))\n",
    "    ps = Array{Int}(undef, length(as))\n",
    "    rs = Array{Int}(undef, length(as))\n",
    "    ss = Array{Int}(undef, length(as))\n",
    "    a1s = Array{Int}(undef, length(as))\n",
    "    for ii in 1:length(as)\n",
    "        names[ii] = as[ii].name\n",
    "        hs[ii] = as[ii].h\n",
    "        fs[ii] = as[ii].f\n",
    "        ls[ii] = as[ii].l\n",
    "        ps[ii] = as[ii].p\n",
    "        rs[ii] = as[ii].r\n",
    "        ss[ii] = as[ii].s\n",
    "        a1s[ii] = as[ii].a1\n",
    "    end\n",
    "    df = DataFrame(name = names, h = hs, f = fs, l = ls, p = ps, r = rs, s = ss, a1 = a1s)\n",
    "    return df\n",
    "end\n",
    "\n",
    "function fpart(x::AbstractFloat)::AbstractFloat\n",
    "  return x - trunc(x)\n",
    "end\n",
    "\n",
    "# for legacy dfs without abilities\n",
    "function df_to_spuds0(df::DataFrame)::Array{Spud}\n",
    "    n = size(df)[1]\n",
    "    as = Array{Spud}(undef, n)\n",
    "    for i in 1:n\n",
    "        as[i] = Spud(df[i, :name], df[i, :h], df[i, :f], df[i, :l], df[i, :p], df[i, :r], df[i, :s], ability_none)\n",
    "    end\n",
    "    return as\n",
    "end\n",
    "\n",
    "function df_to_spuds(df::DataFrame)::Array{Spud}\n",
    "    n = size(df)[1]\n",
    "    as = Array{Spud}(undef, n)\n",
    "    for i in 1:n\n",
    "        as[i] = Spud(df[i, :name], df[i, :h], df[i, :f], df[i, :l], df[i, :p], df[i, :r], df[i, :s], df[i, :a1])\n",
    "    end\n",
    "    return as\n",
    "end\n",
    "\n"
   ]
  },
  {
   "cell_type": "markdown",
   "id": "66e71132",
   "metadata": {},
   "source": [
    "## Get dishes with cost 10"
   ]
  },
  {
   "cell_type": "code",
   "execution_count": 43,
   "id": "638f1e65",
   "metadata": {},
   "outputs": [
    {
     "data": {
      "text/plain": [
       "get_library (generic function with 2 methods)"
      ]
     },
     "execution_count": 43,
     "metadata": {},
     "output_type": "execute_result"
    }
   ],
   "source": [
    "function get_library(cost, n_init = 10000)\n",
    "    ffs = Array{Spud}(undef, n_init)\n",
    "    ff_i = 0\n",
    "    hrange = MNV:MXV\n",
    "    frange = MNV:MXV\n",
    "    lrange = MNV:MXV\n",
    "    prange = MNV:MXV\n",
    "    rrange = MNV:MXV\n",
    "    srange = MNV:MXV\n",
    "    for h in hrange\n",
    "        for f in frange\n",
    "            for l in lrange\n",
    "                for p in prange\n",
    "                    for r in rrange\n",
    "                        for s in srange\n",
    "                            if (h+f+l+p+r+s == cost)\n",
    "                                ff_i += 1\n",
    "                                ff = Spud(string(\"d_\", ff_i), h,f,l,p,r,s,999)\n",
    "                                ffs[ff_i] = ff\n",
    "                            end\n",
    "                        end\n",
    "                    end                        \n",
    "                end                        \n",
    "            end\n",
    "        end\n",
    "    end\n",
    "    ffs = ffs[1:ff_i]\n",
    "    return unique(ffs)\n",
    "end"
   ]
  },
  {
   "cell_type": "code",
   "execution_count": 44,
   "id": "64d0dd3e",
   "metadata": {},
   "outputs": [],
   "source": [
    "dishes = get_library(10);\n",
    "#dishes"
   ]
  },
  {
   "cell_type": "code",
   "execution_count": 45,
   "id": "6be20a55",
   "metadata": {},
   "outputs": [
    {
     "data": {
      "text/plain": [
       "get_payoffs (generic function with 1 method)"
      ]
     },
     "execution_count": 45,
     "metadata": {},
     "output_type": "execute_result"
    }
   ],
   "source": [
    "function get_payoffs(env::Array{Spud})::Array{Int64}\n",
    "    n_nash = length(env)\n",
    "    payoffs = Array{Int64}(undef, (n_nash, n_nash))\n",
    "    for i in 1:n_nash\n",
    "        for j in 1:n_nash\n",
    "            payoffs[i, j] = eval_battle(env[i], env[j])\n",
    "        end\n",
    "    end\n",
    "    return payoffs\n",
    "end"
   ]
  },
  {
   "cell_type": "code",
   "execution_count": 46,
   "id": "af79e6db",
   "metadata": {},
   "outputs": [
    {
     "data": {
      "text/plain": [
       "filter_nondominated2 (generic function with 1 method)"
      ]
     },
     "execution_count": 46,
     "metadata": {},
     "output_type": "execute_result"
    }
   ],
   "source": [
    "function filter_nondominated2(as::Array{Spud})::Array{Spud}\n",
    "    mat = get_payoffs(as);\n",
    "    isDominated = zeros(Int64, length(as));\n",
    "    for i in 1:length(as)\n",
    "        v = mat[i, :]\n",
    "        bv = ones(Int64, length(as))\n",
    "        for j in 1:length(as)\n",
    "            bv = bv .* (mat[:, j] .>= v[j])\n",
    "        end\n",
    "        if sum(bv) > 1\n",
    "            isDominated[i] = 1\n",
    "        end\n",
    "    end\n",
    "    return as[isDominated .== 0]\n",
    "end"
   ]
  },
  {
   "cell_type": "code",
   "execution_count": 47,
   "id": "4d12cc60",
   "metadata": {},
   "outputs": [
    {
     "data": {
      "text/plain": [
       "spud2int (generic function with 1 method)"
      ]
     },
     "execution_count": 47,
     "metadata": {},
     "output_type": "execute_result"
    }
   ],
   "source": [
    "function spud2int(a::Spud)::Int64\n",
    "    return a.h * 100000 + a.f * 10000 + a.l * 1000 + a.p * 100 + a.r * 10 + a.s\n",
    "end\n",
    "\n",
    "#i2s = Dict(spud2int(ff) => ff for ff in lib)"
   ]
  },
  {
   "cell_type": "markdown",
   "id": "14324db6",
   "metadata": {},
   "source": [
    "## Custom jobs"
   ]
  },
  {
   "cell_type": "code",
   "execution_count": 48,
   "id": "a1f79b44",
   "metadata": {},
   "outputs": [
    {
     "data": {
      "text/plain": [
       "get_nash_env (generic function with 1 method)"
      ]
     },
     "execution_count": 48,
     "metadata": {},
     "output_type": "execute_result"
    }
   ],
   "source": [
    "function combine_jobs_dishes(jobs::Array{Spud}, dishes::Array{Spud})::Array{Spud}\n",
    "    lib = Array{Spud}(undef, 10000)\n",
    "    ff_i = 0\n",
    "    for j in jobs\n",
    "        for d in dishes\n",
    "            ff = Spud(string(j.name, \" \", d.name), j.h+d.h, j.f+d.f, j.l+d.l, j.p+d.p, j.r+d.r, j.s+d.s, j.a1)\n",
    "            ff_i += 1\n",
    "            lib[ff_i] = ff\n",
    "        end\n",
    "    end\n",
    "    lib = lib[1:ff_i];\n",
    "    return lib\n",
    "end\n",
    "\n",
    "function get_nash_env(jobs::Array{Spud}, dishes::Array{Spud})::Tuple{Array{Spud}, Array{Float64}}\n",
    "    lib = combine_jobs_dishes(jobs, dishes)\n",
    "    ## optimize\n",
    "    payoffs = get_payoffs(lib);\n",
    "    vector_model = Model(HiGHS.Optimizer)\n",
    "    n_nash = length(lib)\n",
    "    sumv = zeros(Int64, (1, 2 * n_nash + 1))\n",
    "    sumv[1:n_nash] .= 1\n",
    "    A = hcat(payoffs, Matrix(1I,n_nash, n_nash), -ones(Int64, n_nash, 1))\n",
    "    A = vcat(A, sumv);\n",
    "    b = zeros(Int64, n_nash + 1);\n",
    "    b[1:n_nash] .= -1\n",
    "    b[n_nash+1] = 1\n",
    "    transpose(b);\n",
    "    c = zeros(Int64, 2 * n_nash + 1);\n",
    "    c[2 * n_nash + 1] = 1;\n",
    "    @variable(vector_model, x[1:(2*n_nash+1)] >= 0);\n",
    "    @constraint(vector_model, A * x .== b);\n",
    "    @objective(vector_model, Min, c' * x)\n",
    "    @time optimize!(vector_model)\n",
    "    ## solution\n",
    "    w_lp = [value(x[i]) for i in 1:n_nash]\n",
    "    w_lp = w_lp./sum(w_lp);\n",
    "    new_env = lib[w_lp .> 0]\n",
    "    w_new = w_lp[w_lp .> 0];\n",
    "    for i in sortperm(-w_new)\n",
    "        print(new_env[i])\n",
    "        print(\" \")\n",
    "        println(string(w_new[i])[1:6])\n",
    "    end\n",
    "    return new_env, w_new\n",
    "end"
   ]
  },
  {
   "cell_type": "code",
   "execution_count": 50,
   "id": "ad11b5d6",
   "metadata": {},
   "outputs": [
    {
     "name": "stdout",
     "output_type": "stream",
     "text": [
      "Running HiGHS 1.6.0: Copyright (c) 2023 HiGHS under MIT licence terms\n",
      "Presolving model\n",
      "1009 rows, 2017 cols, 1017758 nonzeros\n",
      "1009 rows, 1882 cols, 881842 nonzeros\n",
      "Presolve : Reductions: rows 1009(-0); columns 1882(-135); elements 881842(-135916)\n",
      "Solving the presolved LP\n",
      "Using EKK dual simplex solver - serial\n",
      "  Iteration        Objective     Infeasibilities num(sum)\n",
      "          0     0.0000000000e+00 Pr: 1009(1009) 0s\n",
      "       1153     1.0000000000e+00 Pr: 0(0) 0s\n",
      "Solving the original LP from the solution after postsolve\n",
      "Model   status      : Optimal\n",
      "Simplex   iterations: 1153\n",
      "Objective value     :  1.0000000000e+00\n",
      "HiGHS run time      :          0.39\n",
      "  0.439206 seconds (13.33 k allocations: 60.129 MiB, 2.27% gc time)\n",
      "Spud(\"j_Singer d_88\", 2, 1, 5, 2, 3, 1, 999) 0.0434\n",
      "Spud(\"j_Driver d_38\", 2, 4, 1, 1, 4, 3, 999) 0.0433\n",
      "Spud(\"j_Driver d_8\", 2, 3, 1, 2, 4, 3, 999) 0.0407\n",
      "Spud(\"j_Driver d_44\", 2, 4, 1, 3, 3, 2, 999) 0.0393\n",
      "Spud(\"j_Hustler d_39\", 1, 2, 1, 1, 5, 4, 999) 0.0384\n",
      "Spud(\"j_Ascetic d_87\", 4, 2, 3, 1, 2, 3, 999) 0.0361\n",
      "Spud(\"j_Dancer d_115\", 4, 1, 4, 2, 1, 2, 999) 0.0318\n",
      "Spud(\"j_Salesman d_24\", 1, 3, 3, 4, 3, 1, 999) 0.0316\n",
      "Spud(\"j_Pyro d_6\", 1, 1, 1, 5, 1, 4, 600) 0.0301\n",
      "Spud(\"j_Singer d_124\", 4, 1, 4, 2, 2, 1, 999) 0.0290\n",
      "Spud(\"j_Dancer d_32\", 2, 1, 5, 2, 1, 3, 999) 0.0288\n",
      "Spud(\"j_Brawler d_20\", 1, 1, 3, 4, 2, 4, 999) 0.0272\n",
      "Spud(\"j_Driver d_45\", 2, 4, 1, 4, 2, 2, 999) 0.0270\n",
      "Spud(\"j_Dancer d_90\", 3, 1, 5, 2, 1, 2, 999) 0.0261\n",
      "Spud(\"j_Brawler d_33\", 1, 1, 5, 3, 3, 2, 999) 0.0252\n",
      "Spud(\"j_Brawler d_26\", 1, 1, 4, 3, 2, 4, 999) 0.0252\n",
      "Spud(\"j_Driver d_3\", 2, 3, 1, 1, 4, 4, 999) 0.0243\n",
      "Spud(\"j_Singer d_115\", 3, 1, 5, 2, 2, 1, 999) 0.0243\n",
      "Spud(\"j_Ascetic d_115\", 5, 2, 3, 1, 2, 2, 999) 0.0231\n",
      "Spud(\"j_Ascetic d_90\", 4, 2, 4, 1, 2, 2, 999) 0.0227\n",
      "Spud(\"j_Ascetic d_35\", 3, 2, 5, 1, 2, 2, 999) 0.0224\n",
      "Spud(\"j_Singer d_126\", 5, 1, 3, 2, 2, 1, 999) 0.0223\n",
      "Spud(\"j_Salesman d_44\", 1, 4, 2, 4, 3, 1, 999) 0.0217\n",
      "Spud(\"j_Pyro d_66\", 1, 4, 1, 4, 1, 2, 600) 0.0180\n",
      "Spud(\"j_Driver d_41\", 2, 4, 1, 2, 3, 3, 999) 0.0177\n",
      "Spud(\"j_Dancer d_112\", 4, 1, 3, 2, 1, 3, 999) 0.0174\n",
      "Spud(\"j_Driver d_40\", 2, 4, 1, 2, 2, 4, 999) 0.0172\n",
      "Spud(\"j_Dancer d_87\", 3, 1, 4, 2, 1, 3, 999) 0.0169\n",
      "Spud(\"j_Salesman d_42\", 1, 4, 2, 3, 4, 1, 999) 0.0166\n",
      "Spud(\"j_Dancer d_26\", 2, 1, 4, 2, 1, 4, 999) 0.0155\n",
      "Spud(\"j_Driver d_37\", 2, 4, 1, 1, 3, 4, 999) 0.0143\n",
      "Spud(\"j_Pyro d_59\", 1, 3, 1, 5, 1, 2, 600) 0.0136\n",
      "Spud(\"j_Brawler d_30\", 1, 1, 4, 4, 3, 2, 999) 0.0136\n",
      "Spud(\"j_Driver d_15\", 2, 3, 1, 5, 2, 2, 999) 0.0132\n",
      "Spud(\"j_Ascetic d_9\", 3, 2, 1, 2, 5, 2, 999) 0.0125\n",
      "Spud(\"j_Ascetic d_26\", 3, 2, 3, 1, 2, 4, 999) 0.0123\n",
      "Spud(\"j_Driver d_7\", 2, 3, 1, 2, 3, 4, 999) 0.0114\n",
      "Spud(\"j_Driver d_43\", 2, 4, 1, 3, 2, 3, 999) 0.0105\n",
      "Spud(\"j_Driver d_12\", 2, 3, 1, 3, 4, 2, 999) 0.0101\n",
      "Spud(\"j_Ascetic d_17\", 3, 2, 2, 1, 3, 4, 999) 0.0095\n",
      "Spud(\"j_Brawler d_87\", 2, 1, 4, 3, 2, 3, 999) 0.0095\n",
      "Spud(\"j_Brawler d_28\", 1, 1, 4, 3, 4, 2, 999) 0.0090\n",
      "Spud(\"j_Dancer d_124\", 5, 1, 3, 2, 1, 2, 999) 0.0082\n",
      "Spud(\"j_Driver d_17\", 2, 3, 2, 1, 3, 4, 999) 0.0082\n",
      "Spud(\"j_Ascetic d_88\", 4, 2, 3, 1, 3, 2, 999) 0.0065\n",
      "Spud(\"j_Salesman d_3\", 1, 3, 2, 2, 4, 3, 999) 0.0053\n",
      "Spud(\"j_Brawler d_36\", 1, 2, 2, 3, 2, 5, 999) 0.0051\n",
      "Spud(\"j_Driver d_46\", 2, 4, 2, 1, 2, 4, 999) 0.0038\n",
      "Spud(\"j_Ascetic d_18\", 3, 2, 2, 1, 4, 3, 999) 0.0033\n",
      "Spud(\"j_Driver d_10\", 2, 3, 1, 3, 2, 4, 999) 0.0031\n",
      "Spud(\"j_Salesman d_60\", 1, 5, 2, 3, 3, 1, 999) 0.0029\n",
      "Spud(\"j_Brawler d_16\", 1, 1, 3, 3, 2, 5, 999) 0.0029\n",
      "Spud(\"j_Driver d_4\", 2, 3, 1, 1, 5, 3, 999) 0.0018\n",
      "Spud(\"j_Ascetic d_33\", 3, 2, 4, 1, 3, 2, 999) 0.0017\n",
      "Spud(\"j_Brawler d_10\", 1, 1, 2, 5, 2, 4, 999) 0.0017\n"
     ]
    }
   ],
   "source": [
    "jobs = [\n",
    "    Spud(\"j_Ascetic\",  2,1,0,0,1,1,ability_none),\n",
    "    Spud(\"j_Dancer\",   1,0,1,1,0,1,ability_none),\n",
    "    Spud(\"j_Singer\",   0,0,2,1,1,0,ability_none),\n",
    "    #Spud(\"j_Empath\",  0,3,2,1,0,0,ability_none),\n",
    "    Spud(\"j_Brawler\",  0,0,1,2,1,1,ability_none),\n",
    "    #Spud(\"j_Merchant\",0,1,2,0,0,1,ability_none),\n",
    "    Spud(\"j_Salesman\", 0,2,1,1,1,0,ability_none),\n",
    "    Spud(\"j_Driver\",   1,2,0,0,1,1,ability_none),\n",
    "    Spud(\"j_Pyro\",     0,0,0,3,0,0,ability_your_R_their_S),\n",
    "    Spud(\"j_Hustler\",  0,0,0,0,1,3,ability_none)\n",
    "]\n",
    "ne, wn = get_nash_env(jobs, dishes);"
   ]
  },
  {
   "cell_type": "code",
   "execution_count": 57,
   "id": "4ca83881",
   "metadata": {},
   "outputs": [
    {
     "name": "stdout",
     "output_type": "stream",
     "text": [
      "\u001b[1m55×9 DataFrame\u001b[0m\n",
      "\u001b[1m Row \u001b[0m│\u001b[1m name            \u001b[0m\u001b[1m h     \u001b[0m\u001b[1m f     \u001b[0m\u001b[1m l     \u001b[0m\u001b[1m p     \u001b[0m\u001b[1m r     \u001b[0m\u001b[1m s     \u001b[0m\u001b[1m a1    \u001b[0m\u001b[1m w       \u001b[0m\n",
      "     │\u001b[90m String          \u001b[0m\u001b[90m Int64 \u001b[0m\u001b[90m Int64 \u001b[0m\u001b[90m Int64 \u001b[0m\u001b[90m Int64 \u001b[0m\u001b[90m Int64 \u001b[0m\u001b[90m Int64 \u001b[0m\u001b[90m Int64 \u001b[0m\u001b[90m Float64 \u001b[0m\n",
      "─────┼───────────────────────────────────────────────────────────────────────────\n",
      "   1 │ j_Singer d_88        2      1      5      2      3      1    999    0.043\n",
      "   2 │ j_Driver d_38        2      4      1      1      4      3    999    0.043\n",
      "   3 │ j_Driver d_8         2      3      1      2      4      3    999    0.04\n",
      "   4 │ j_Driver d_44        2      4      1      3      3      2    999    0.039\n",
      "   5 │ j_Hustler d_39       1      2      1      1      5      4    999    0.038\n",
      "   6 │ j_Ascetic d_87       4      2      3      1      2      3    999    0.036\n",
      "   7 │ j_Dancer d_115       4      1      4      2      1      2    999    0.031\n",
      "   8 │ j_Salesman d_24      1      3      3      4      3      1    999    0.031\n",
      "   9 │ j_Pyro d_6           1      1      1      5      1      4    600    0.03\n",
      "  10 │ j_Singer d_124       4      1      4      2      2      1    999    0.029\n",
      "  11 │ j_Dancer d_32        2      1      5      2      1      3    999    0.028\n",
      "  12 │ j_Brawler d_20       1      1      3      4      2      4    999    0.027\n",
      "  13 │ j_Driver d_45        2      4      1      4      2      2    999    0.027\n",
      "  14 │ j_Dancer d_90        3      1      5      2      1      2    999    0.026\n",
      "  15 │ j_Brawler d_33       1      1      5      3      3      2    999    0.025\n",
      "  16 │ j_Brawler d_26       1      1      4      3      2      4    999    0.025\n",
      "  17 │ j_Driver d_3         2      3      1      1      4      4    999    0.024\n",
      "  18 │ j_Singer d_115       3      1      5      2      2      1    999    0.024\n",
      "  19 │ j_Ascetic d_115      5      2      3      1      2      2    999    0.023\n",
      "  20 │ j_Ascetic d_90       4      2      4      1      2      2    999    0.022\n",
      "  21 │ j_Ascetic d_35       3      2      5      1      2      2    999    0.022\n",
      "  22 │ j_Singer d_126       5      1      3      2      2      1    999    0.022\n",
      "  23 │ j_Salesman d_44      1      4      2      4      3      1    999    0.021\n",
      "  24 │ j_Pyro d_66          1      4      1      4      1      2    600    0.018\n",
      "  25 │ j_Driver d_41        2      4      1      2      3      3    999    0.017\n",
      "  26 │ j_Dancer d_112       4      1      3      2      1      3    999    0.017\n",
      "  27 │ j_Driver d_40        2      4      1      2      2      4    999    0.017\n",
      "  28 │ j_Dancer d_87        3      1      4      2      1      3    999    0.016\n",
      "  29 │ j_Salesman d_42      1      4      2      3      4      1    999    0.016\n",
      "  30 │ j_Dancer d_26        2      1      4      2      1      4    999    0.015\n",
      "  31 │ j_Driver d_37        2      4      1      1      3      4    999    0.014\n",
      "  32 │ j_Pyro d_59          1      3      1      5      1      2    600    0.013\n",
      "  33 │ j_Brawler d_30       1      1      4      4      3      2    999    0.013\n",
      "  34 │ j_Driver d_15        2      3      1      5      2      2    999    0.013\n",
      "  35 │ j_Ascetic d_9        3      2      1      2      5      2    999    0.012\n",
      "  36 │ j_Ascetic d_26       3      2      3      1      2      4    999    0.012\n",
      "  37 │ j_Driver d_7         2      3      1      2      3      4    999    0.011\n",
      "  38 │ j_Driver d_43        2      4      1      3      2      3    999    0.01\n",
      "  39 │ j_Driver d_12        2      3      1      3      4      2    999    0.01\n",
      "  40 │ j_Ascetic d_17       3      2      2      1      3      4    999    0.009\n",
      "  41 │ j_Brawler d_87       2      1      4      3      2      3    999    0.009\n",
      "  42 │ j_Brawler d_28       1      1      4      3      4      2    999    0.009\n",
      "  43 │ j_Dancer d_124       5      1      3      2      1      2    999    0.008\n",
      "  44 │ j_Driver d_17        2      3      2      1      3      4    999    0.008\n",
      "  45 │ j_Ascetic d_88       4      2      3      1      3      2    999    0.006\n",
      "  46 │ j_Salesman d_3       1      3      2      2      4      3    999    0.005\n",
      "  47 │ j_Brawler d_36       1      2      2      3      2      5    999    0.005\n",
      "  48 │ j_Driver d_46        2      4      2      1      2      4    999    0.003\n",
      "  49 │ j_Ascetic d_18       3      2      2      1      4      3    999    0.003\n",
      "  50 │ j_Driver d_10        2      3      1      3      2      4    999    0.003\n",
      "  51 │ j_Salesman d_60      1      5      2      3      3      1    999    0.002\n",
      "  52 │ j_Brawler d_16       1      1      3      3      2      5    999    0.002\n",
      "  53 │ j_Driver d_4         2      3      1      1      5      3    999    0.001\n",
      "  54 │ j_Ascetic d_33       3      2      4      1      3      2    999    0.001\n",
      "  55 │ j_Brawler d_10       1      1      2      5      2      4    999    0.001"
     ]
    }
   ],
   "source": [
    "df = spuds_to_df(ne)\n",
    "df[!, :w] = [floor(w*1000)/1000 for w in wn]\n",
    "print(df[sortperm(-wn),:])"
   ]
  },
  {
   "cell_type": "code",
   "execution_count": 51,
   "id": "ce0927f3",
   "metadata": {
    "scrolled": false
   },
   "outputs": [
    {
     "name": "stdout",
     "output_type": "stream",
     "text": [
      "527 148 145 957 546 626 177 291 332 644 607 410 36 987 126 287 859 698 481 866 590 499 672 941 128 614 601 202 261 621 64 865 850 888 370 895 887 401 479 580 818 62 225 2 862 653 461 311 387 707 561 210 625 266 305 462 323 714 867 334 180 510 448 770 651 439 188 955 556 170 532 514 235 284 12 466 237 174 613 14 373 381 490 731 808 232 255 262 339 825 511 363 703 563 956 993 684 855 718 286 668 901 469 720 296 487 57 715 971 979 802 166 816 302 917 632 674 876 173 247 734 812 631 403 794 694 140 384 315 212 76 125 989 455 633 268 705 189 643 875 582 464 497 234 592 669 949 222 259 655 692 515 998 19 131 848 52 245 581 56 925 742 886 372 856 706 547 764 540 73 899 572 186 732 890 628 768 908 223 72 813 778 721 251 1007 953 639 647 449 136 787 271 476 595 109 420 652 560 295 53 156 428 304 229 29 678 618 817 330 964 181 757 317 673 367 992 648 973 297 294 843 947 840 35 809 506 543 369 503 735 589 717 46 127 314 747 983 146 224 360 453 661 346 246 298 66 248 822 549 682 87 350 354 608 190 133 751 902 211 3 423 837 662 138 944 920 293 844 528 93 345 517 504 1000 846 475 121 968 97 988 716 797 416 857 397 198 37 426 881 959 141 584 433 427 33 471 289 996 459 579 1 415 327 646 205 340 513 724 526 827 226 179 984 642 335 821 220 385 785 149 767 114 233 880 344 786 573 51 974 776 265 502 456 63 389 593 508 86 495 566 942 161 209 656 318 281 748 937 368 488 59 90 970 704 468 803 430 548 496 616 914 985 8 429 47 965 552 512 963 685 990 945 615 664 847 79 687 355 130 313 171 898 94 421 69 55 422 17 523 240 659 781 299 877 214 241 650 437 907 689 308 168 244 782 249 599 1005 691 194 386 521 221 134 587 788 365 878 442 749 50 641 216 558 283 258 77 151 252 954 290 670 835 477 775 411 45 147 977 402 574 962 329 820 915 398 746 924 307 104 359 919 933 227 399 218 396 544 43 854 374 695 929 460 303 331 754 894 89 61 765 637 815 700 49 600 780 997 438 424 320 550 562 82 554 191 92 32 811 826 199 900 688 409 391 807 292 15 243 "
     ]
    }
   ],
   "source": [
    "lib = combine_jobs_dishes(jobs, dishes)\n",
    "payoffs = get_payoffs(lib)\n",
    "nlib = length(lib)\n",
    "combos = Array{Spud}(undef, (10000,3))\n",
    "ord = sortperm([rand() for i in 1:nlib])[1:500]\n",
    "#ord = [i for i in 1:nlib]\n",
    "nc = 0\n",
    "# 3-combos\n",
    "for i in ord[1:(length(ord)-2)]\n",
    "    print(i)\n",
    "    print(\" \")\n",
    "    pi = payoffs[i,:]\n",
    "    for j in ord[(i+1):(length(ord)-1)]\n",
    "        pj = payoffs[j, :]\n",
    "        pij = [max(pi[a], pj[a]) for a in 1:nlib]\n",
    "        if sum(pij .== 1) > 0\n",
    "            #print(\".\")\n",
    "            for k in ord[(j+1):length(ord)]\n",
    "                pk = payoffs[k, :]\n",
    "                pijk = [max(pi[a], pj[a], pk[a]) for a in 1:nlib]\n",
    "                if minimum(pijk)==1\n",
    "                    nc += 1\n",
    "                    combos[nc, :] = lib[[i,j,k]]\n",
    "                    #println(\"\")\n",
    "                    #println(\"----3-COMBO!-----\")\n",
    "                    #println(lib[[i,j,k]])\n",
    "                end\n",
    "            end\n",
    "        end\n",
    "    end\n",
    "end\n",
    "combos = combos[1:nc,:];"
   ]
  },
  {
   "cell_type": "code",
   "execution_count": 58,
   "id": "3685d1d0",
   "metadata": {},
   "outputs": [
    {
     "data": {
      "text/plain": [
       "(11, 3)"
      ]
     },
     "execution_count": 58,
     "metadata": {},
     "output_type": "execute_result"
    }
   ],
   "source": [
    "size(combos)"
   ]
  },
  {
   "cell_type": "markdown",
   "id": "bc9cfb0f",
   "metadata": {},
   "source": [
    "### combo-breaker research"
   ]
  },
  {
   "cell_type": "code",
   "execution_count": 59,
   "id": "f4a10bc5",
   "metadata": {},
   "outputs": [
    {
     "name": "stdout",
     "output_type": "stream",
     "text": [
      "\u001b[1m3×8 DataFrame\u001b[0m\n",
      "\u001b[1m Row \u001b[0m│\u001b[1m name           \u001b[0m\u001b[1m h     \u001b[0m\u001b[1m f     \u001b[0m\u001b[1m l     \u001b[0m\u001b[1m p     \u001b[0m\u001b[1m r     \u001b[0m\u001b[1m s     \u001b[0m\u001b[1m a1    \u001b[0m\n",
      "     │\u001b[90m String         \u001b[0m\u001b[90m Int64 \u001b[0m\u001b[90m Int64 \u001b[0m\u001b[90m Int64 \u001b[0m\u001b[90m Int64 \u001b[0m\u001b[90m Int64 \u001b[0m\u001b[90m Int64 \u001b[0m\u001b[90m Int64 \u001b[0m\n",
      "─────┼─────────────────────────────────────────────────────────────────\n",
      "   1 │ j_Singer d_88       2      1      5      2      3      1    999\n",
      "   2 │ j_Ascetic d_8       3      2      1      2      4      3    999\n",
      "   3 │ j_Dancer d_115      4      1      4      2      1      2    999"
     ]
    }
   ],
   "source": [
    "as = combos[1,:]\n",
    "print(spuds_to_df(as))"
   ]
  },
  {
   "cell_type": "code",
   "execution_count": 61,
   "id": "3512ca0f",
   "metadata": {},
   "outputs": [
    {
     "name": "stdout",
     "output_type": "stream",
     "text": [
      "1\n",
      "[1, 1, 1]\n"
     ]
    },
    {
     "data": {
      "text/plain": [
       "-0.026563082426991055"
      ]
     },
     "execution_count": 61,
     "metadata": {},
     "output_type": "execute_result"
    }
   ],
   "source": [
    "println(maximum([eval_battle_list(ff, as) for ff in lib]))\n",
    "b = Spud(\"breaker\",1,4,1,3,1,4,ability_none)\n",
    "println([eval_battle(b, ff) for ff in as])\n",
    "eval_battle_list2(b, ne, wn)"
   ]
  },
  {
   "cell_type": "code",
   "execution_count": null,
   "id": "839fbaeb",
   "metadata": {},
   "outputs": [],
   "source": []
  }
 ],
 "metadata": {
  "kernelspec": {
   "display_name": "Julia 1.9.3",
   "language": "julia",
   "name": "julia-1.9"
  },
  "language_info": {
   "file_extension": ".jl",
   "mimetype": "application/julia",
   "name": "julia",
   "version": "1.9.3"
  }
 },
 "nbformat": 4,
 "nbformat_minor": 5
}

{
 "cells": [
  {
   "cell_type": "markdown",
   "id": "052be005",
   "metadata": {},
   "source": [
    "Beat-n game with E10 base dishes and custom 5-pt jobs"
   ]
  },
  {
   "cell_type": "markdown",
   "id": "72817bb1",
   "metadata": {},
   "source": [
    "## Spud code"
   ]
  },
  {
   "cell_type": "code",
   "execution_count": 1,
   "id": "494818e8",
   "metadata": {},
   "outputs": [],
   "source": [
    "using Random\n",
    "using DataFrames\n",
    "using CSV\n",
    "using DelimitedFiles\n",
    "using Statistics\n",
    "using Printf\n",
    "using LinearAlgebra\n",
    "using Dates\n",
    "using JuMP\n",
    "using HiGHS"
   ]
  },
  {
   "cell_type": "code",
   "execution_count": 2,
   "id": "45e21e7f",
   "metadata": {},
   "outputs": [],
   "source": [
    "struct Spud\n",
    "    name::String\n",
    "    h::Int64\n",
    "    f::Int64\n",
    "    l::Int64\n",
    "    p::Int64\n",
    "    r::Int64\n",
    "    s::Int64\n",
    "    a1::Int64\n",
    "end"
   ]
  },
  {
   "cell_type": "code",
   "execution_count": 46,
   "id": "eef1262d",
   "metadata": {},
   "outputs": [
    {
     "data": {
      "text/plain": [
       "Dict{Int64, Function} with 7 entries:\n",
       "  450 => fx_your_F_their_L\n",
       "  545 => fx_your_P_their_L\n",
       "  500 => fx_your_L_their_S\n",
       "  550 => fx_your_P_their_R\n",
       "  600 => fx_your_R_their_S\n",
       "  100 => fx_add1\n",
       "  400 => fx_your_H_their_P"
      ]
     },
     "execution_count": 46,
     "metadata": {},
     "output_type": "execute_result"
    }
   ],
   "source": [
    "const ability_none = 999\n",
    "const ability_add1 = 100\n",
    "const ability_your_H_their_P = 400\n",
    "const ability_your_F_their_L = 450\n",
    "const ability_your_L_their_S = 500\n",
    "const ability_your_P_their_L = 545\n",
    "const ability_your_P_their_R = 550\n",
    "const ability_your_R_their_S = 600\n",
    "\n",
    "ability_name = Dict(\n",
    "    ability_add1 => \"add1\",\n",
    "    ability_your_H_their_P => \"yourHtheirP\",\n",
    "    ability_your_F_their_L => \"yourFtheirL\",\n",
    "    ability_your_L_their_S => \"yourLtheirS\",\n",
    "    ability_your_P_their_R => \"yourPtheirL\",\n",
    "    ability_your_P_their_R => \"yourPtheirR\",\n",
    "    ability_your_R_their_S => \"yourRtheirS\",\n",
    ")\n",
    "\n",
    "function fx_add1(a::Spud, b::Spud)\n",
    "    b0 = Spud(b.name, b.h, b.f, b.l, b.p, b.r, b.s, ability_none)\n",
    "    if eval_battle(Spud(a.name, a.h, a.f, a.l, a.p, a.r, a.s+1, ability_none), b0)==1\n",
    "        a = Spud(a.name, a.h, a.f, a.l, a.p, a.r, a.s+1, ability_none)\n",
    "    end\n",
    "    if eval_battle(Spud(a.name, a.h, a.f, a.l, a.p, a.r+1, a.s, ability_none), b0)==1\n",
    "        a = Spud(a.name, a.h, a.f, a.l, a.p, a.r+1, a.s, ability_none)\n",
    "    end\n",
    "    if eval_battle(Spud(a.name, a.h, a.f, a.l, a.p+1, a.r, a.s, ability_none), b0)==1\n",
    "        a = Spud(a.name, a.h, a.f, a.l, a.p+1, a.r, a.s, ability_none)\n",
    "    end\n",
    "    if eval_battle(Spud(a.name, a.h, a.f, a.l+1, a.p, a.r, a.s, ability_none), b0)==1\n",
    "        a = Spud(a.name, a.h, a.f, a.l+1, a.p, a.r, a.s, ability_none)\n",
    "    end\n",
    "    if eval_battle(Spud(a.name, a.h, a.f+1, a.l, a.p, a.r, a.s, ability_none), b0)==1\n",
    "        a = Spud(a.name, a.h, a.f+1, a.l, a.p, a.r, a.s, ability_none)\n",
    "    end\n",
    "    if eval_battle(Spud(a.name, a.h+1, a.f, a.l, a.p, a.r, a.s, ability_none), b0)==1\n",
    "        a = Spud(a.name, a.h+1, a.f, a.l, a.p, a.r, a.s, ability_none)\n",
    "    end\n",
    "    return [a, b]\n",
    "end\n",
    "\n",
    "function fx_your_H_their_P(a::Spud, b::Spud)\n",
    "    a = Spud(a.name, b.p, a.f, a.l, a.p, a.r, a.s, a.a1)\n",
    "    return [a, b]\n",
    "end\n",
    "\n",
    "function fx_your_F_their_L(a::Spud, b::Spud)\n",
    "    a = Spud(a.name, a.h, b.l, a.l, a.p, a.r, a.s, a.a1)\n",
    "    return [a, b]\n",
    "end\n",
    "\n",
    "function fx_your_L_their_S(a::Spud, b::Spud)\n",
    "    a = Spud(a.name, a.h, a.f, b.s, a.p, a.r, a.s, a.a1)\n",
    "    return [a, b]\n",
    "end\n",
    "\n",
    "function fx_your_P_their_L(a::Spud, b::Spud)\n",
    "    a = Spud(a.name, a.h, a.f, a.l, b.l, a.r, a.s, a.a1)\n",
    "    return [a, b]\n",
    "end\n",
    "\n",
    "function fx_your_P_their_R(a::Spud, b::Spud)\n",
    "    a = Spud(a.name, a.h, a.f, a.l, b.r, a.r, a.s, a.a1)\n",
    "    return [a, b]\n",
    "end\n",
    "\n",
    "function fx_your_R_their_S(a::Spud, b::Spud)\n",
    "    a = Spud(a.name, a.h, a.f, a.l, a.p, b.s, a.s, a.a1)\n",
    "    return [a, b]\n",
    "end\n",
    "\n",
    "\n",
    "\n",
    "ability_fx = Dict(\n",
    "    ability_add1 => fx_add1,\n",
    "    ability_your_H_their_P => fx_your_H_their_P,\n",
    "    ability_your_F_their_L => fx_your_F_their_L,\n",
    "    ability_your_L_their_S => fx_your_L_their_S,\n",
    "    ability_your_P_their_L => fx_your_P_their_L,\n",
    "    ability_your_P_their_R => fx_your_P_their_R,\n",
    "    ability_your_R_their_S => fx_your_R_their_S,\n",
    ")"
   ]
  },
  {
   "cell_type": "code",
   "execution_count": 5,
   "id": "950e076e",
   "metadata": {},
   "outputs": [
    {
     "data": {
      "text/plain": [
       "1"
      ]
     },
     "execution_count": 5,
     "metadata": {},
     "output_type": "execute_result"
    }
   ],
   "source": [
    "#const MXS = 100\n",
    "const MXV = 9\n",
    "const MNV = 1\n",
    "\n",
    "# function cost(h::Int64, f::Int64, l::Int64, p::Int64, r::Int64, s::Int64)::Int64\n",
    "#     #return h*(f+l-2*MNV) + f*(p+r+s-3*MNV) + h+f+l+p+r+s-6*MNV\n",
    "#     return h*(f+l) + f*(p+r+s)\n",
    "# end\n",
    "\n",
    "# function cost(a::Spud)::Int64\n",
    "#     if a.a1 == ability_none\n",
    "#         return cost(a.h, a.f, a.l, a.p, a.r, a.s)\n",
    "#     else\n",
    "#         return cost(a.h, a.f, a.l, a.p, a.r, a.s) + ability_cost[a.a1](a)\n",
    "#     end\n",
    "# end"
   ]
  },
  {
   "cell_type": "code",
   "execution_count": 6,
   "id": "ac830f74",
   "metadata": {},
   "outputs": [
    {
     "data": {
      "text/plain": [
       "eval_melee (generic function with 3 methods)"
      ]
     },
     "execution_count": 6,
     "metadata": {},
     "output_type": "execute_result"
    }
   ],
   "source": [
    "function compare_int_list(as::Vector{Int64}, bs::Vector{Int64}, tiebreaker::Int64 = 0)::Int64\n",
    "    n = min(length(as), length(bs))\n",
    "    for i in 1:n\n",
    "        if as[i] != bs[i]\n",
    "            return sign(as[i] - bs[i])\n",
    "        end\n",
    "    end\n",
    "    return tiebreaker\n",
    "end\n",
    "\n",
    "function spud_h_seq(a::Spud)::Vector{Int64}\n",
    "    return [a.h, a.s, a.r, a.p, a.l, a.f]\n",
    "end\n",
    "\n",
    "function spud_f_seq(a::Spud)::Vector{Int64}\n",
    "    return [a.f, a.s, a.r, a.p, a.l, a.h]\n",
    "end\n",
    "\n",
    "function spud_l_seq(a::Spud)::Vector{Int64}\n",
    "    return [a.l]\n",
    "end\n",
    "\n",
    "function spud_p_seq(a::Spud)::Vector{Int64}\n",
    "    return [a.p, a.l]\n",
    "end\n",
    "\n",
    "function spud_r_seq(a::Spud)::Vector{Int64}\n",
    "    return [a.r, a.f]\n",
    "end\n",
    "\n",
    "function spud_s_seq(a::Spud)::Vector{Int64}\n",
    "    return [a.s, a.h]\n",
    "end\n",
    "\n",
    "function spud_utb_seq(a::Spud)::Vector{Int64}\n",
    "    return [a.a1, a.h, a.f, a.l, a.p, a.r, a.s]\n",
    "end\n",
    "\n",
    "function eval_finds(a::Spud, b::Spud, tiebreaker::Int64 = 0)::Int64\n",
    "    ev = compare_int_list(spud_f_seq(a), spud_h_seq(b), tiebreaker)\n",
    "    ans = ev\n",
    "end\n",
    "\n",
    "function eval_melee(a::Spud, b::Spud, tiebreaker1::Int64 = 0, tiebreaker2::Int64 = 0)::Int64\n",
    "    comp_p = compare_int_list(spud_p_seq(a), spud_p_seq(b), tiebreaker1)\n",
    "    comp_r = compare_int_list(spud_r_seq(a), spud_r_seq(b), tiebreaker1)\n",
    "    comp_s = compare_int_list(spud_s_seq(a), spud_s_seq(b), tiebreaker1)\n",
    "    ev = 4 * comp_p + 3 * comp_r + 2 * comp_s\n",
    "    return sign(ev + (1-abs(ev))*tiebreaker2)\n",
    "end\n",
    "\n"
   ]
  },
  {
   "cell_type": "code",
   "execution_count": 7,
   "id": "f603612d",
   "metadata": {},
   "outputs": [
    {
     "data": {
      "text/plain": [
       "eval_battle (generic function with 1 method)"
      ]
     },
     "execution_count": 7,
     "metadata": {},
     "output_type": "execute_result"
    }
   ],
   "source": [
    "\n",
    "\n",
    "function apply_ability(a::Spud, b::Spud)::Array{Spud}\n",
    "    if a.a1 == ability_none\n",
    "        return [a, b]\n",
    "    else\n",
    "        return ability_fx[a.a1](a, b)\n",
    "    end\n",
    "end\n",
    "\n",
    "\n",
    "function eval_battle(a::Spud, b::Spud)::Int64\n",
    "    utb = compare_int_list(spud_utb_seq(a), spud_utb_seq(b), 0) # universal tiebreaker\n",
    "    if utb == 0\n",
    "        return 0\n",
    "    end\n",
    "    a_ability_first = compare_int_list([a.a1, a.s], [b.a1, b.s], utb)\n",
    "    if a_ability_first ==1\n",
    "        if a.a1 != ability_none\n",
    "            res = apply_ability(a, b)\n",
    "            a = res[1]\n",
    "            b = res[2]\n",
    "        end\n",
    "        if b.a1 != ability_none\n",
    "            res = apply_ability(b, a)\n",
    "            b = res[1]\n",
    "            a = res[2]\n",
    "        end\n",
    "    end\n",
    "    if a_ability_first == -1\n",
    "        if b.a1 != ability_none\n",
    "            res = apply_ability(b, a)\n",
    "            b = res[1]\n",
    "            a = res[2]\n",
    "        end\n",
    "        if a.a1 != ability_none\n",
    "            res = apply_ability(a, b)\n",
    "            a = res[1]\n",
    "            b = res[2]\n",
    "        end\n",
    "    end\n",
    "    #println(a)\n",
    "    #println(b)\n",
    "    a_finds = eval_finds(a, b, utb)==1\n",
    "    b_finds = eval_finds(b, a, utb)==1\n",
    "    melee_win = eval_melee(a, b, 0, 0)\n",
    "    luck_win = compare_int_list([a.l, melee_win], [b.l, -melee_win], 0)\n",
    "    if melee_win ==1 && luck_win ==1\n",
    "        return 1\n",
    "    end\n",
    "    if melee_win == -1 && luck_win == -1\n",
    "        return -1\n",
    "    end\n",
    "    if a_finds && b_finds\n",
    "        return melee_win\n",
    "    end\n",
    "    if a_finds && !b_finds\n",
    "        return 1\n",
    "    end\n",
    "    if !a_finds && b_finds\n",
    "        return -1\n",
    "    end\n",
    "    if !a_finds && !b_finds\n",
    "        return luck_win\n",
    "    end\n",
    "end"
   ]
  },
  {
   "cell_type": "code",
   "execution_count": 8,
   "id": "40b9dc47",
   "metadata": {},
   "outputs": [
    {
     "data": {
      "text/plain": [
       "random_name_and_stat (generic function with 2 methods)"
      ]
     },
     "execution_count": 8,
     "metadata": {},
     "output_type": "execute_result"
    }
   ],
   "source": [
    "tab = CSV.read(\"census_yob2022_names.txt\", DataFrame, header = false)\n",
    "names = tab.Column1\n",
    "adjectives = CSV.read(\"adjectives.csv\", DataFrame)\n",
    "nouns = CSV.read(\"nouns.csv\", DataFrame)\n",
    "jobs = CSV.read(\"jobs.csv\", DataFrame)\n",
    "\n",
    "\n",
    "const mult_noun = 1\n",
    "const mult_adj = 2\n",
    "const mult_job = 3\n",
    "\n",
    "\n",
    "function random_name_and_stat(ability::Int64 = ability_none)::Spud\n",
    "    vp = [0, 0, 0, 0, 0, 0]\n",
    "    #nametype = rand([1,1,1,1,1,2,2,2,3])\n",
    "    name = \"\"\n",
    "    noun = \"\"\n",
    "    adj = \"\"\n",
    "    noun_i = rand(1:nrow(nouns))\n",
    "    noun = nouns[noun_i, :noun]\n",
    "    vp[1] = vp[1] + nouns[noun_i, :H] * mult_noun\n",
    "    vp[2] = vp[2] + nouns[noun_i, :F] * mult_noun\n",
    "    vp[3] = vp[3] + nouns[noun_i, :L] * mult_noun\n",
    "    vp[4] = vp[4] + nouns[noun_i, :P] * mult_noun\n",
    "    vp[5] = vp[5] + nouns[noun_i, :R] * mult_noun\n",
    "    vp[6] = vp[6] + nouns[noun_i, :S] * mult_noun\n",
    "    adj_i = rand(1:nrow(adjectives))\n",
    "    if ability == ability_none\n",
    "        adj = adjectives[adj_i, :adjective]\n",
    "        vp[1] = vp[1] + adjectives[adj_i, :H] * mult_adj\n",
    "        vp[2] = vp[2] + adjectives[adj_i, :F] * mult_adj\n",
    "        vp[3] = vp[3] + adjectives[adj_i, :L] * mult_adj\n",
    "        vp[4] = vp[4] + adjectives[adj_i, :P] * mult_adj\n",
    "        vp[5] = vp[5] + adjectives[adj_i, :R] * mult_adj\n",
    "        vp[6] = vp[6] + adjectives[adj_i, :S] * mult_adj\n",
    "    else\n",
    "        adj = ability_name[ability]\n",
    "    end\n",
    "    job_i = rand(1:nrow(jobs))\n",
    "    job = jobs[job_i, :job]\n",
    "    vp[1] = vp[1] + jobs[job_i, :H] * mult_job\n",
    "    vp[2] = vp[2] + jobs[job_i, :F] * mult_job\n",
    "    vp[3] = vp[3] + jobs[job_i, :L] * mult_job\n",
    "    vp[4] = vp[4] + jobs[job_i, :P] * mult_job\n",
    "    vp[5] = vp[5] + jobs[job_i, :R] * mult_job\n",
    "    vp[6] = vp[6] + jobs[job_i, :S] * mult_job\n",
    "    name = string(adj, \" \", job, \" \", noun)\n",
    "    Spud(name, vp[1], vp[2], vp[3], vp[4], vp[5], vp[6], ability_none)\n",
    "end"
   ]
  },
  {
   "cell_type": "code",
   "execution_count": 9,
   "id": "f606e085",
   "metadata": {},
   "outputs": [
    {
     "data": {
      "text/plain": [
       "rand_rename (generic function with 2 methods)"
      ]
     },
     "execution_count": 9,
     "metadata": {},
     "output_type": "execute_result"
    }
   ],
   "source": [
    "function rand_rename(a::Spud, n_tries::Int = 100)::Spud\n",
    "    best_score = 0.0\n",
    "    best_b = random_name_and_stat(a.a1)\n",
    "    for ii in 1:n_tries\n",
    "        b = random_name_and_stat(a.a1)\n",
    "        b_norm = sqrt(b.h^2 + b.f^2 + b.l^2 + b.p^2 + b.r^2 + b.s^2)\n",
    "        score = (a.h * b.h + a.f * b.f + a.l * b.l + a.p * b.p + a.r * b.r + a.s * b.s)/b_norm\n",
    "        if score > best_score\n",
    "            best_score = score\n",
    "            best_b = b\n",
    "        end\n",
    "    end\n",
    "    return Spud(best_b.name, a.h, a.f, a.l, a.p, a.r, a.s, a.a1)\n",
    "end"
   ]
  },
  {
   "cell_type": "code",
   "execution_count": 10,
   "id": "560e9539",
   "metadata": {},
   "outputs": [
    {
     "data": {
      "text/plain": [
       "df_to_spuds (generic function with 1 method)"
      ]
     },
     "execution_count": 10,
     "metadata": {},
     "output_type": "execute_result"
    }
   ],
   "source": [
    "function eval_battle_list(a::Spud, bs::Array{Spud})::Int\n",
    "    score = 0\n",
    "    for ii in 1:length(bs)\n",
    "        score = score + eval_battle(a, bs[ii])\n",
    "    end\n",
    "    return score\n",
    "end\n",
    "\n",
    "function eval_battle_list2(a::Spud, bs::Array{Spud}, w::Vector{Float64})::AbstractFloat\n",
    "    score = 0.0\n",
    "    for ii in 1:length(bs)\n",
    "        score = score + w[ii] * eval_battle(a, bs[ii])\n",
    "    end\n",
    "    return score\n",
    "end\n",
    "\n",
    "function spuds_to_df(as::Array{Spud})::DataFrame\n",
    "    names = Array{String}(undef, length(as))\n",
    "    hs = Array{Int}(undef, length(as))\n",
    "    fs = Array{Int}(undef, length(as))\n",
    "    ls = Array{Int}(undef, length(as))\n",
    "    ps = Array{Int}(undef, length(as))\n",
    "    rs = Array{Int}(undef, length(as))\n",
    "    ss = Array{Int}(undef, length(as))\n",
    "    a1s = Array{Int}(undef, length(as))\n",
    "    for ii in 1:length(as)\n",
    "        names[ii] = as[ii].name\n",
    "        hs[ii] = as[ii].h\n",
    "        fs[ii] = as[ii].f\n",
    "        ls[ii] = as[ii].l\n",
    "        ps[ii] = as[ii].p\n",
    "        rs[ii] = as[ii].r\n",
    "        ss[ii] = as[ii].s\n",
    "        a1s[ii] = as[ii].a1\n",
    "    end\n",
    "    df = DataFrame(name = names, h = hs, f = fs, l = ls, p = ps, r = rs, s = ss, a1 = a1s)\n",
    "    return df\n",
    "end\n",
    "\n",
    "function fpart(x::AbstractFloat)::AbstractFloat\n",
    "  return x - trunc(x)\n",
    "end\n",
    "\n",
    "# for legacy dfs without abilities\n",
    "function df_to_spuds0(df::DataFrame)::Array{Spud}\n",
    "    n = size(df)[1]\n",
    "    as = Array{Spud}(undef, n)\n",
    "    for i in 1:n\n",
    "        as[i] = Spud(df[i, :name], df[i, :h], df[i, :f], df[i, :l], df[i, :p], df[i, :r], df[i, :s], ability_none)\n",
    "    end\n",
    "    return as\n",
    "end\n",
    "\n",
    "function df_to_spuds(df::DataFrame)::Array{Spud}\n",
    "    n = size(df)[1]\n",
    "    as = Array{Spud}(undef, n)\n",
    "    for i in 1:n\n",
    "        as[i] = Spud(df[i, :name], df[i, :h], df[i, :f], df[i, :l], df[i, :p], df[i, :r], df[i, :s], df[i, :a1])\n",
    "    end\n",
    "    return as\n",
    "end\n",
    "\n"
   ]
  },
  {
   "cell_type": "markdown",
   "id": "66e71132",
   "metadata": {},
   "source": [
    "## Get dishes with cost 10"
   ]
  },
  {
   "cell_type": "code",
   "execution_count": 13,
   "id": "638f1e65",
   "metadata": {},
   "outputs": [
    {
     "data": {
      "text/plain": [
       "get_library (generic function with 2 methods)"
      ]
     },
     "execution_count": 13,
     "metadata": {},
     "output_type": "execute_result"
    }
   ],
   "source": [
    "function get_library(cost, n_init = 10000)\n",
    "    ffs = Array{Spud}(undef, n_init)\n",
    "    ff_i = 0\n",
    "    hrange = MNV:MXV\n",
    "    frange = MNV:MXV\n",
    "    lrange = MNV:MXV\n",
    "    prange = MNV:MXV\n",
    "    rrange = MNV:MXV\n",
    "    srange = MNV:MXV\n",
    "    for h in hrange\n",
    "        for f in frange\n",
    "            for l in lrange\n",
    "                for p in prange\n",
    "                    for r in rrange\n",
    "                        for s in srange\n",
    "                            if (h+f+l+p+r+s == cost)\n",
    "                                ff_i += 1\n",
    "                                ff = Spud(string(\"d_\", h,f,l,p,r,s), h,f,l,p,r,s,999)\n",
    "                                ffs[ff_i] = ff\n",
    "                            end\n",
    "                        end\n",
    "                    end                        \n",
    "                end                        \n",
    "            end\n",
    "        end\n",
    "    end\n",
    "    ffs = ffs[1:ff_i]\n",
    "    return unique(ffs)\n",
    "end"
   ]
  },
  {
   "cell_type": "code",
   "execution_count": 14,
   "id": "64d0dd3e",
   "metadata": {},
   "outputs": [],
   "source": [
    "dishes = get_library(10);\n",
    "#dishes"
   ]
  },
  {
   "cell_type": "code",
   "execution_count": 15,
   "id": "6be20a55",
   "metadata": {},
   "outputs": [
    {
     "data": {
      "text/plain": [
       "get_payoffs (generic function with 1 method)"
      ]
     },
     "execution_count": 15,
     "metadata": {},
     "output_type": "execute_result"
    }
   ],
   "source": [
    "function get_payoffs(env::Array{Spud})::Array{Int64}\n",
    "    n_nash = length(env)\n",
    "    payoffs = Array{Int64}(undef, (n_nash, n_nash))\n",
    "    for i in 1:n_nash\n",
    "        for j in 1:n_nash\n",
    "            payoffs[i, j] = eval_battle(env[i], env[j])\n",
    "        end\n",
    "    end\n",
    "    return payoffs\n",
    "end"
   ]
  },
  {
   "cell_type": "code",
   "execution_count": 16,
   "id": "af79e6db",
   "metadata": {},
   "outputs": [
    {
     "data": {
      "text/plain": [
       "filter_nondominated2 (generic function with 1 method)"
      ]
     },
     "execution_count": 16,
     "metadata": {},
     "output_type": "execute_result"
    }
   ],
   "source": [
    "function filter_nondominated2(as::Array{Spud})::Array{Spud}\n",
    "    mat = get_payoffs(as);\n",
    "    isDominated = zeros(Int64, length(as));\n",
    "    for i in 1:length(as)\n",
    "        v = mat[i, :]\n",
    "        bv = ones(Int64, length(as))\n",
    "        for j in 1:length(as)\n",
    "            bv = bv .* (mat[:, j] .>= v[j])\n",
    "        end\n",
    "        if sum(bv) > 1\n",
    "            isDominated[i] = 1\n",
    "        end\n",
    "    end\n",
    "    return as[isDominated .== 0]\n",
    "end"
   ]
  },
  {
   "cell_type": "code",
   "execution_count": 17,
   "id": "4d12cc60",
   "metadata": {},
   "outputs": [
    {
     "data": {
      "text/plain": [
       "spud2int (generic function with 1 method)"
      ]
     },
     "execution_count": 17,
     "metadata": {},
     "output_type": "execute_result"
    }
   ],
   "source": [
    "function spud2int(a::Spud)::Int64\n",
    "    return a.h * 100000 + a.f * 10000 + a.l * 1000 + a.p * 100 + a.r * 10 + a.s\n",
    "end\n",
    "\n",
    "#i2s = Dict(spud2int(ff) => ff for ff in lib)"
   ]
  },
  {
   "cell_type": "markdown",
   "id": "14324db6",
   "metadata": {},
   "source": [
    "## Custom jobs"
   ]
  },
  {
   "cell_type": "code",
   "execution_count": 18,
   "id": "a1f79b44",
   "metadata": {},
   "outputs": [
    {
     "data": {
      "text/plain": [
       "get_nash_env (generic function with 1 method)"
      ]
     },
     "execution_count": 18,
     "metadata": {},
     "output_type": "execute_result"
    }
   ],
   "source": [
    "function combine_jobs_dishes(jobs::Array{Spud}, dishes::Array{Spud})::Array{Spud}\n",
    "    lib = Array{Spud}(undef, 10000)\n",
    "    ff_i = 0\n",
    "    for j in jobs\n",
    "        for d in dishes\n",
    "            ff = Spud(string(j.name, \" \", d.name), j.h+d.h, j.f+d.f, j.l+d.l, j.p+d.p, j.r+d.r, j.s+d.s, j.a1)\n",
    "            ff_i += 1\n",
    "            lib[ff_i] = ff\n",
    "        end\n",
    "    end\n",
    "    lib = lib[1:ff_i];\n",
    "    return lib\n",
    "end\n",
    "\n",
    "function get_nash_env(jobs::Array{Spud}, dishes::Array{Spud})::Tuple{Array{Spud}, Array{Float64}}\n",
    "    lib = combine_jobs_dishes(jobs, dishes)\n",
    "    ## optimize\n",
    "    payoffs = get_payoffs(lib);\n",
    "    vector_model = Model(HiGHS.Optimizer)\n",
    "    n_nash = length(lib)\n",
    "    sumv = zeros(Int64, (1, 2 * n_nash + 1))\n",
    "    sumv[1:n_nash] .= 1\n",
    "    A = hcat(payoffs, Matrix(1I,n_nash, n_nash), -ones(Int64, n_nash, 1))\n",
    "    A = vcat(A, sumv);\n",
    "    b = zeros(Int64, n_nash + 1);\n",
    "    b[1:n_nash] .= -1\n",
    "    b[n_nash+1] = 1\n",
    "    transpose(b);\n",
    "    c = zeros(Int64, 2 * n_nash + 1);\n",
    "    c[2 * n_nash + 1] = 1;\n",
    "    @variable(vector_model, x[1:(2*n_nash+1)] >= 0);\n",
    "    @constraint(vector_model, A * x .== b);\n",
    "    @objective(vector_model, Min, c' * x)\n",
    "    @time optimize!(vector_model)\n",
    "    ## solution\n",
    "    w_lp = [value(x[i]) for i in 1:n_nash]\n",
    "    w_lp = w_lp./sum(w_lp);\n",
    "    new_env = lib[w_lp .> 0]\n",
    "    w_new = w_lp[w_lp .> 0];\n",
    "    for i in sortperm(-w_new)\n",
    "        print(new_env[i])\n",
    "        print(\" \")\n",
    "        println(string(w_new[i])[1:6])\n",
    "    end\n",
    "    return new_env, w_new\n",
    "end"
   ]
  },
  {
   "cell_type": "code",
   "execution_count": 37,
   "id": "ad11b5d6",
   "metadata": {},
   "outputs": [
    {
     "name": "stdout",
     "output_type": "stream",
     "text": [
      "Running HiGHS 1.6.0: Copyright (c) 2023 HiGHS under MIT licence terms\n",
      "Presolving model\n",
      "1387 rows, 2773 cols, 1923318 nonzeros\n",
      "1387 rows, 2599 cols, 1682350 nonzeros\n",
      "Presolve : Reductions: rows 1387(-0); columns 2599(-174); elements 1682350(-240968)\n",
      "Solving the presolved LP\n",
      "Using EKK dual simplex solver - serial\n",
      "  Iteration        Objective     Infeasibilities num(sum)\n",
      "          0     0.0000000000e+00 Pr: 1387(1387) 0s\n",
      "       1703     1.0000000000e+00 Pr: 0(0) 0s\n",
      "       1703     1.0000000000e+00 Pr: 0(0) 0s\n",
      "Solving the original LP from the solution after postsolve\n",
      "Model   status      : Optimal\n",
      "Simplex   iterations: 1703\n",
      "Objective value     :  1.0000000000e+00\n",
      "HiGHS run time      :          0.95\n",
      "  1.013088 seconds (22.41 k allocations: 112.403 MiB)\n",
      "Spud(\"Singer d_412111\", 4, 1, 4, 2, 2, 1, 999) 0.0587\n",
      "Spud(\"Student d_121114\", 1, 3, 1, 2, 1, 4, 100) 0.0568\n",
      "Spud(\"Driver d_111142\", 2, 2, 1, 1, 5, 4, 999) 0.0483\n",
      "Spud(\"Singer d_313111\", 3, 1, 5, 2, 2, 1, 999) 0.0449\n",
      "Spud(\"Ascetic d_214111\", 4, 2, 4, 1, 2, 2, 999) 0.0378\n",
      "Spud(\"Pyro d_131212\", 1, 3, 1, 5, 1, 2, 600) 0.0361\n",
      "Spud(\"Pyro d_141112\", 1, 4, 1, 4, 1, 2, 600) 0.0349\n",
      "Spud(\"Brawler d_113221\", 1, 1, 4, 4, 3, 2, 999) 0.0333\n",
      "Spud(\"Dancer d_214111\", 3, 1, 5, 2, 1, 2, 999) 0.0318\n",
      "Spud(\"Student d_121123\", 1, 3, 1, 2, 2, 3, 100) 0.0315\n",
      "Spud(\"Ascetic d_313111\", 5, 2, 3, 1, 2, 2, 999) 0.0312\n",
      "Spud(\"Brawler d_113131\", 1, 1, 4, 3, 4, 2, 999) 0.0307\n",
      "Spud(\"Driver d_141121\", 2, 5, 1, 1, 3, 3, 999) 0.0305\n",
      "Spud(\"Student d_111133\", 1, 2, 1, 2, 3, 3, 100) 0.0292\n",
      "Spud(\"Singer d_511111\", 5, 1, 3, 2, 2, 1, 999) 0.0278\n",
      "Spud(\"Student d_111214\", 1, 2, 1, 3, 1, 4, 100) 0.0277\n",
      "Spud(\"Driver d_111331\", 2, 2, 1, 3, 4, 3, 999) 0.0268\n",
      "Spud(\"Dancer d_313111\", 4, 1, 4, 2, 1, 2, 999) 0.0265\n",
      "Spud(\"Driver d_131131\", 2, 4, 1, 1, 4, 3, 999) 0.0256\n",
      "Spud(\"Dancer d_412111\", 5, 1, 3, 2, 1, 2, 999) 0.0245\n",
      "Spud(\"Dancer d_114112\", 2, 1, 5, 2, 1, 3, 999) 0.0242\n",
      "Spud(\"Brawler d_112213\", 1, 1, 3, 4, 2, 4, 999) 0.0216\n",
      "Spud(\"Ascetic d_115111\", 3, 2, 5, 1, 2, 2, 999) 0.0210\n",
      "Spud(\"Student d_212122\", 2, 2, 2, 2, 2, 2, 100) 0.0185\n",
      "Spud(\"Ascetic d_114121\", 3, 2, 4, 1, 3, 2, 999) 0.0179\n",
      "Spud(\"Brawler d_111313\", 1, 1, 2, 5, 2, 4, 999) 0.0160\n",
      "Spud(\"Driver d_121222\", 2, 3, 1, 2, 3, 4, 999) 0.0157\n",
      "Spud(\"Driver d_115111\", 2, 2, 5, 1, 2, 3, 999) 0.0134\n",
      "Spud(\"Student d_121213\", 1, 3, 1, 3, 1, 3, 100) 0.0132\n",
      "Spud(\"Student d_122221\", 1, 3, 2, 3, 2, 1, 100) 0.0119\n",
      "Spud(\"Salesman d_111421\", 1, 3, 2, 5, 3, 1, 999) 0.0117\n",
      "Spud(\"Driver d_121312\", 2, 3, 1, 3, 2, 4, 999) 0.0111\n",
      "Spud(\"Student d_121321\", 1, 3, 1, 4, 2, 1, 100) 0.0108\n",
      "Spud(\"Salesman d_121231\", 1, 4, 2, 3, 4, 1, 999) 0.0096\n",
      "Spud(\"Brawler d_141211\", 1, 4, 2, 4, 2, 2, 999) 0.0084\n",
      "Spud(\"Student d_111232\", 1, 2, 1, 3, 3, 2, 100) 0.0082\n",
      "Spud(\"Student d_212113\", 2, 2, 2, 2, 1, 3, 100) 0.0070\n",
      "Spud(\"Student d_221122\", 2, 3, 1, 2, 2, 2, 100) 0.0069\n",
      "Spud(\"Student d_113221\", 1, 2, 3, 3, 2, 1, 100) 0.0068\n",
      "Spud(\"Driver d_131212\", 2, 4, 1, 2, 2, 4, 999) 0.0065\n",
      "Spud(\"Student d_112231\", 1, 2, 2, 3, 3, 1, 100) 0.0063\n",
      "Spud(\"Brawler d_112132\", 1, 1, 3, 3, 4, 3, 999) 0.0057\n",
      "Spud(\"Driver d_131221\", 2, 4, 1, 2, 3, 3, 999) 0.0052\n",
      "Spud(\"Janitor d_111313\", 1, 1, 1, 5, 1, 5, 999) 0.0045\n",
      "Spud(\"Salesman d_113311\", 1, 3, 4, 4, 2, 1, 999) 0.0043\n",
      "Spud(\"Student d_211123\", 2, 2, 1, 2, 2, 3, 100) 0.0033\n",
      "Spud(\"Driver d_121231\", 2, 3, 1, 2, 4, 3, 999) 0.0029\n",
      "Spud(\"Salesman d_122311\", 1, 4, 3, 4, 2, 1, 999) 0.0026\n",
      "Spud(\"Salesman d_131221\", 1, 5, 2, 3, 3, 1, 999) 0.0020\n",
      "Spud(\"Brawler d_113113\", 1, 1, 4, 3, 2, 4, 999) 0.0017\n",
      "Spud(\"Student d_121132\", 1, 3, 1, 2, 3, 2, 100) 0.0016\n",
      "Spud(\"Student d_212221\", 2, 2, 2, 3, 2, 1, 100) 0.0009\n",
      "Spud(\"Driver d_121132\", 2, 3, 1, 1, 4, 4, 999) 0.0006\n",
      "Spud(\"Ascetic d_213112\", 4, 2, 3, 1, 2, 3, 999) 0.0005\n",
      "Spud(\"Ascetic d_114112\", 3, 2, 4, 1, 2, 3, 999) 9.7992\n"
     ]
    }
   ],
   "source": [
    "jobs = [\n",
    "    Spud(\"Ascetic\",     2,1,0,0,1,1,ability_none),\n",
    "    Spud(\"Dancer\",      1,0,1,1,0,1,ability_none),\n",
    "    Spud(\"Singer\",      0,0,2,1,1,0,ability_none),\n",
    "    #Spud(\"Empath\",     0,3,2,1,0,0,ability_none),\n",
    "    Spud(\"Brawler\",     0,0,1,2,1,1,ability_none),\n",
    "    #Spud(\"Merchant\",   0,1,2,0,0,1,ability_none),\n",
    "    Spud(\"Salesman\",    0,2,1,1,1,0,ability_none),\n",
    "    Spud(\"Driver\",      1,1,0,0,1,2,ability_none),\n",
    "    Spud(\"Pyro\",        0,0,0,3,0,0,ability_your_R_their_S),\n",
    "    Spud(\"Hustler\",     0,0,0,0,1,3,ability_none),\n",
    "    Spud(\"Janitor\",     0,0,0,2,0,2,ability_none),\n",
    "    Spud(\"Photographer\",0,1,0,0,0,2,ability_your_P_their_L),\n",
    "    Spud(\"Student\",     0,1,0,1,0,0,ability_add1)\n",
    "]\n",
    "ne, wn = get_nash_env(jobs, dishes);"
   ]
  },
  {
   "cell_type": "code",
   "execution_count": 38,
   "id": "4ca83881",
   "metadata": {},
   "outputs": [
    {
     "name": "stdout",
     "output_type": "stream",
     "text": [
      "\u001b[1m55×9 DataFrame\u001b[0m\n",
      "\u001b[1m Row \u001b[0m│\u001b[1m name              \u001b[0m\u001b[1m h     \u001b[0m\u001b[1m f     \u001b[0m\u001b[1m l     \u001b[0m\u001b[1m p     \u001b[0m\u001b[1m r     \u001b[0m\u001b[1m s     \u001b[0m\u001b[1m a1    \u001b[0m\u001b[1m w       \u001b[0m\n",
      "     │\u001b[90m String            \u001b[0m\u001b[90m Int64 \u001b[0m\u001b[90m Int64 \u001b[0m\u001b[90m Int64 \u001b[0m\u001b[90m Int64 \u001b[0m\u001b[90m Int64 \u001b[0m\u001b[90m Int64 \u001b[0m\u001b[90m Int64 \u001b[0m\u001b[90m Float64 \u001b[0m\n",
      "─────┼─────────────────────────────────────────────────────────────────────────────\n",
      "   1 │ Singer d_412111        4      1      4      2      2      1    999    0.058\n",
      "   2 │ Student d_121114       1      3      1      2      1      4    100    0.056\n",
      "   3 │ Driver d_111142        2      2      1      1      5      4    999    0.048\n",
      "   4 │ Singer d_313111        3      1      5      2      2      1    999    0.044\n",
      "   5 │ Ascetic d_214111       4      2      4      1      2      2    999    0.037\n",
      "   6 │ Pyro d_131212          1      3      1      5      1      2    600    0.036\n",
      "   7 │ Pyro d_141112          1      4      1      4      1      2    600    0.034\n",
      "   8 │ Brawler d_113221       1      1      4      4      3      2    999    0.033\n",
      "   9 │ Dancer d_214111        3      1      5      2      1      2    999    0.031\n",
      "  10 │ Student d_121123       1      3      1      2      2      3    100    0.031\n",
      "  11 │ Ascetic d_313111       5      2      3      1      2      2    999    0.031\n",
      "  12 │ Brawler d_113131       1      1      4      3      4      2    999    0.03\n",
      "  13 │ Driver d_141121        2      5      1      1      3      3    999    0.03\n",
      "  14 │ Student d_111133       1      2      1      2      3      3    100    0.029\n",
      "  15 │ Singer d_511111        5      1      3      2      2      1    999    0.027\n",
      "  16 │ Student d_111214       1      2      1      3      1      4    100    0.027\n",
      "  17 │ Driver d_111331        2      2      1      3      4      3    999    0.026\n",
      "  18 │ Dancer d_313111        4      1      4      2      1      2    999    0.026\n",
      "  19 │ Driver d_131131        2      4      1      1      4      3    999    0.025\n",
      "  20 │ Dancer d_412111        5      1      3      2      1      2    999    0.024\n",
      "  21 │ Dancer d_114112        2      1      5      2      1      3    999    0.024\n",
      "  22 │ Brawler d_112213       1      1      3      4      2      4    999    0.021\n",
      "  23 │ Ascetic d_115111       3      2      5      1      2      2    999    0.021\n",
      "  24 │ Student d_212122       2      2      2      2      2      2    100    0.018\n",
      "  25 │ Ascetic d_114121       3      2      4      1      3      2    999    0.017\n",
      "  26 │ Brawler d_111313       1      1      2      5      2      4    999    0.016\n",
      "  27 │ Driver d_121222        2      3      1      2      3      4    999    0.015\n",
      "  28 │ Driver d_115111        2      2      5      1      2      3    999    0.013\n",
      "  29 │ Student d_121213       1      3      1      3      1      3    100    0.013\n",
      "  30 │ Student d_122221       1      3      2      3      2      1    100    0.011\n",
      "  31 │ Salesman d_111421      1      3      2      5      3      1    999    0.011\n",
      "  32 │ Driver d_121312        2      3      1      3      2      4    999    0.011\n",
      "  33 │ Student d_121321       1      3      1      4      2      1    100    0.01\n",
      "  34 │ Salesman d_121231      1      4      2      3      4      1    999    0.009\n",
      "  35 │ Brawler d_141211       1      4      2      4      2      2    999    0.008\n",
      "  36 │ Student d_111232       1      2      1      3      3      2    100    0.008\n",
      "  37 │ Student d_212113       2      2      2      2      1      3    100    0.007\n",
      "  38 │ Student d_221122       2      3      1      2      2      2    100    0.006\n",
      "  39 │ Student d_113221       1      2      3      3      2      1    100    0.006\n",
      "  40 │ Driver d_131212        2      4      1      2      2      4    999    0.006\n",
      "  41 │ Student d_112231       1      2      2      3      3      1    100    0.006\n",
      "  42 │ Brawler d_112132       1      1      3      3      4      3    999    0.005\n",
      "  43 │ Driver d_131221        2      4      1      2      3      3    999    0.005\n",
      "  44 │ Janitor d_111313       1      1      1      5      1      5    999    0.004\n",
      "  45 │ Salesman d_113311      1      3      4      4      2      1    999    0.004\n",
      "  46 │ Student d_211123       2      2      1      2      2      3    100    0.003\n",
      "  47 │ Driver d_121231        2      3      1      2      4      3    999    0.002\n",
      "  48 │ Salesman d_122311      1      4      3      4      2      1    999    0.002\n",
      "  49 │ Salesman d_131221      1      5      2      3      3      1    999    0.002\n",
      "  50 │ Brawler d_113113       1      1      4      3      2      4    999    0.001\n",
      "  51 │ Student d_121132       1      3      1      2      3      2    100    0.001\n",
      "  52 │ Student d_212221       2      2      2      3      2      1    100    0.0\n",
      "  53 │ Driver d_121132        2      3      1      1      4      4    999    0.0\n",
      "  54 │ Ascetic d_213112       4      2      3      1      2      3    999    0.0\n",
      "  55 │ Ascetic d_114112       3      2      4      1      2      3    999    0.0"
     ]
    }
   ],
   "source": [
    "df = spuds_to_df(ne)\n",
    "df[!, :w] = [floor(w*1000)/1000 for w in wn]\n",
    "print(df[sortperm(-wn),:])"
   ]
  },
  {
   "cell_type": "code",
   "execution_count": 39,
   "id": "ce0927f3",
   "metadata": {
    "scrolled": false
   },
   "outputs": [
    {
     "name": "stdout",
     "output_type": "stream",
     "text": [
      "451 488 122 195 608 665 1156 229 1064 13 781 226 504 182 442 415 752 396 79 506 734 947 909 915 984 230 563 1192 134 575 895 1139 233 496 90 590 276 991 522 704 769 689 203 640 701 271 955 492 1119 254 643 1199 694 1207 970 8 272 205 690 920 901 756 739 1050 318 1178 385 484 995 489 294 1093 257 674 1008 460 687 130 1203 950 539 611 747 811 371 679 1033 1061 526 511 463 436 810 1258 976 1237 37 1351 1299 58 177 1171 391 161 1288 247 166 151 1290 625 241 361 695 1159 1036 102 708 189 1270 737 635 929 5 996 992 799 1322 180 1279 435 347 1167 572 54 768 921 1197 743 1376 1300 1057 174 812 617 1253 1071 417 1011 420 527 525 1040 707 127 1174 907 455 633 364 798 1 1332 975 450 763 808 1132 368 1285 1356 340 1065 1126 610 616 71 961 1146 10 1369 890 713 823 928 423 206 663 141 67 268 856 362 749 239 650 158 299 50 963 623 848 159 399 147 753 1032 7 938 772 732 131 619 1173 404 267 1089 1354 444 948 512 1133 1137 641 1202 341 892 1004 372 307 968 87 729 692 1378 223 427 807 62 352 219 465 1298 321 1235 936 1037 585 1236 760 45 1266 845 32 232 664 1337 836 1293 1172 829 949 886 1091 1149 723 541 1284 875 1034 322 627 839 21 700 1249 1002 740 346 1094 1315 323 11 1333 507 676 1278 72 382 1276 467 576 1087 725 172 724 951 378 1283 1377 536 1353 673 779 1147 1364 47 1153 903 279 789 375 964 1077 1233 115 289 1023 646 917 464 1140 930 757 1325 429 320 1164 678 354 313 978 837 546 1018 759 867 119 578 1306 353 461 1180 702 285 818 1039 287 655 387 1329 918 659 821 1219 384 156 573 919 709 719 1048 1063 101 1007 153 1130 17 409 794 859 653 1225 587 1031 453 123 1291 1307 143 1026 1228 68 1274 1054 290 1319 712 288 953 1081 503 982 179 1115 521 440 421 817 516 184 69 498 416 348 620 277 945 971 1265 1083 1368 939 231 65 75 178 965 250 697 1198 225 958 534 645 834 117 48 559 99 564 1006 1145 1080 338 517 957 966 324 1287 513 568 538 806 1029 670 518 1024 871 1128 380 1184 291 994 256 1073 430 1143 547 545 314 1239 1151 252 1271 63 613 27 1345 666 1386 212 34 841 104 1138 1244 584 1342 1035 383 1170 660 187 827 1185 36 973 227 1231 1102 822 113 183 771 483 885 365 476 "
     ]
    }
   ],
   "source": [
    "lib = combine_jobs_dishes(jobs, dishes)\n",
    "payoffs = get_payoffs(lib)\n",
    "nlib = length(lib)\n",
    "combos = Array{Spud}(undef, (10000,3))\n",
    "ord = sortperm([rand() for i in 1:nlib])[1:500]\n",
    "#ord = [i for i in 1:nlib]\n",
    "nc = 0\n",
    "# 3-combos\n",
    "for i in ord[1:(length(ord)-2)]\n",
    "    print(i)\n",
    "    print(\" \")\n",
    "    pi = payoffs[i,:]\n",
    "    for j in ord[(i+1):(length(ord)-1)]\n",
    "        pj = payoffs[j, :]\n",
    "        pij = [max(pi[a], pj[a]) for a in 1:nlib]\n",
    "        if sum(pij .== 1) > 0\n",
    "            #print(\".\")\n",
    "            for k in ord[(j+1):length(ord)]\n",
    "                pk = payoffs[k, :]\n",
    "                pijk = [max(pi[a], pj[a], pk[a]) for a in 1:nlib]\n",
    "                if minimum(pijk)==1\n",
    "                    nc += 1\n",
    "                    combos[nc, :] = lib[[i,j,k]]\n",
    "                    #println(\"\")\n",
    "                    #println(\"----3-COMBO!-----\")\n",
    "                    #println(lib[[i,j,k]])\n",
    "                end\n",
    "            end\n",
    "        end\n",
    "    end\n",
    "end\n",
    "combos = combos[1:nc,:];"
   ]
  },
  {
   "cell_type": "code",
   "execution_count": 40,
   "id": "3685d1d0",
   "metadata": {},
   "outputs": [
    {
     "data": {
      "text/plain": [
       "(1, 3)"
      ]
     },
     "execution_count": 40,
     "metadata": {},
     "output_type": "execute_result"
    }
   ],
   "source": [
    "size(combos)"
   ]
  },
  {
   "cell_type": "markdown",
   "id": "bc9cfb0f",
   "metadata": {},
   "source": [
    "### combo-breaker research"
   ]
  },
  {
   "cell_type": "code",
   "execution_count": 41,
   "id": "f4a10bc5",
   "metadata": {},
   "outputs": [
    {
     "name": "stdout",
     "output_type": "stream",
     "text": [
      "\u001b[1m3×8 DataFrame\u001b[0m\n",
      "\u001b[1m Row \u001b[0m│\u001b[1m name              \u001b[0m\u001b[1m h     \u001b[0m\u001b[1m f     \u001b[0m\u001b[1m l     \u001b[0m\u001b[1m p     \u001b[0m\u001b[1m r     \u001b[0m\u001b[1m s     \u001b[0m\u001b[1m a1    \u001b[0m\n",
      "     │\u001b[90m String            \u001b[0m\u001b[90m Int64 \u001b[0m\u001b[90m Int64 \u001b[0m\u001b[90m Int64 \u001b[0m\u001b[90m Int64 \u001b[0m\u001b[90m Int64 \u001b[0m\u001b[90m Int64 \u001b[0m\u001b[90m Int64 \u001b[0m\n",
      "─────┼────────────────────────────────────────────────────────────────────\n",
      "   1 │ Ascetic d_111232       3      2      1      2      4      3    999\n",
      "   2 │ Dancer d_313111        4      1      4      2      1      2    999\n",
      "   3 │ Salesman d_121312      1      4      2      4      2      2    999"
     ]
    }
   ],
   "source": [
    "as = combos[1,:]\n",
    "print(spuds_to_df(as))"
   ]
  },
  {
   "cell_type": "code",
   "execution_count": 49,
   "id": "3512ca0f",
   "metadata": {},
   "outputs": [
    {
     "name": "stdout",
     "output_type": "stream",
     "text": [
      "1\n",
      "[1, 1, 1]\n"
     ]
    },
    {
     "data": {
      "text/plain": [
       "-0.2275359693748003"
      ]
     },
     "execution_count": 49,
     "metadata": {},
     "output_type": "execute_result"
    }
   ],
   "source": [
    "println(maximum([eval_battle_list(ff, as) for ff in lib]))\n",
    "b = Spud(\"breaker\",1,2,4,1,1,4,ability_your_H_their_P)\n",
    "println([eval_battle(b, ff) for ff in as])\n",
    "eval_battle_list2(b, ne, wn)"
   ]
  },
  {
   "cell_type": "code",
   "execution_count": null,
   "id": "839fbaeb",
   "metadata": {},
   "outputs": [],
   "source": []
  }
 ],
 "metadata": {
  "kernelspec": {
   "display_name": "Julia 1.9.3",
   "language": "julia",
   "name": "julia-1.9"
  },
  "language_info": {
   "file_extension": ".jl",
   "mimetype": "application/julia",
   "name": "julia",
   "version": "1.9.3"
  }
 },
 "nbformat": 4,
 "nbformat_minor": 5
}

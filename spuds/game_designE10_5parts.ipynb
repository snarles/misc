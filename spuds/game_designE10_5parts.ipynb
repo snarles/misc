{
 "cells": [
  {
   "cell_type": "markdown",
   "id": "052be005",
   "metadata": {},
   "source": [
    "Beat-n game with E10 base dishes and custom 5-pt jobs"
   ]
  },
  {
   "cell_type": "markdown",
   "id": "72817bb1",
   "metadata": {},
   "source": [
    "## Spud code"
   ]
  },
  {
   "cell_type": "code",
   "execution_count": 1,
   "id": "494818e8",
   "metadata": {},
   "outputs": [],
   "source": [
    "using Random\n",
    "using DataFrames\n",
    "using CSV\n",
    "using DelimitedFiles\n",
    "using Statistics\n",
    "using Printf\n",
    "using LinearAlgebra\n",
    "using Dates\n",
    "using JuMP\n",
    "using HiGHS"
   ]
  },
  {
   "cell_type": "code",
   "execution_count": 2,
   "id": "45e21e7f",
   "metadata": {},
   "outputs": [],
   "source": [
    "struct Spud\n",
    "    name::String\n",
    "    h::Int64\n",
    "    f::Int64\n",
    "    l::Int64\n",
    "    p::Int64\n",
    "    r::Int64\n",
    "    s::Int64\n",
    "    a1::Int64\n",
    "end"
   ]
  },
  {
   "cell_type": "code",
   "execution_count": 16,
   "id": "eef1262d",
   "metadata": {},
   "outputs": [
    {
     "data": {
      "text/plain": [
       "Dict{Int64, Function} with 8 entries:\n",
       "  450 => fx_your_F_their_L\n",
       "  470 => fx_your_F_their_S\n",
       "  500 => fx_your_L_their_S\n",
       "  545 => fx_your_P_their_L\n",
       "  550 => fx_your_P_their_R\n",
       "  600 => fx_your_R_their_S\n",
       "  100 => fx_add1\n",
       "  400 => fx_your_H_their_P"
      ]
     },
     "execution_count": 16,
     "metadata": {},
     "output_type": "execute_result"
    }
   ],
   "source": [
    "const ability_none = 999\n",
    "const ability_add1 = 100\n",
    "const ability_your_H_their_P = 400\n",
    "const ability_your_F_their_L = 450\n",
    "const ability_your_F_their_S = 470\n",
    "const ability_your_L_their_S = 500\n",
    "const ability_your_P_their_L = 545\n",
    "const ability_your_P_their_R = 550\n",
    "const ability_your_R_their_S = 600\n",
    "\n",
    "ability_name = Dict(\n",
    "    ability_add1 => \"add1\",\n",
    "    ability_your_H_their_P => \"yourHtheirP\",\n",
    "    ability_your_F_their_L => \"yourFtheirL\",\n",
    "    ability_your_F_their_S => \"yourFtheirS\",\n",
    "    ability_your_L_their_S => \"yourLtheirS\",\n",
    "    ability_your_P_their_R => \"yourPtheirL\",\n",
    "    ability_your_P_their_R => \"yourPtheirR\",\n",
    "    ability_your_R_their_S => \"yourRtheirS\",\n",
    ")\n",
    "\n",
    "function fx_add1(a::Spud, b::Spud)\n",
    "    b0 = Spud(b.name, b.h, b.f, b.l, b.p, b.r, b.s, ability_none)\n",
    "    if eval_battle(Spud(a.name, a.h, a.f, a.l, a.p, a.r, a.s+1, ability_none), b0)==1\n",
    "        a = Spud(a.name, a.h, a.f, a.l, a.p, a.r, a.s+1, ability_none)\n",
    "    end\n",
    "    if eval_battle(Spud(a.name, a.h, a.f, a.l, a.p, a.r+1, a.s, ability_none), b0)==1\n",
    "        a = Spud(a.name, a.h, a.f, a.l, a.p, a.r+1, a.s, ability_none)\n",
    "    end\n",
    "    if eval_battle(Spud(a.name, a.h, a.f, a.l, a.p+1, a.r, a.s, ability_none), b0)==1\n",
    "        a = Spud(a.name, a.h, a.f, a.l, a.p+1, a.r, a.s, ability_none)\n",
    "    end\n",
    "    if eval_battle(Spud(a.name, a.h, a.f, a.l+1, a.p, a.r, a.s, ability_none), b0)==1\n",
    "        a = Spud(a.name, a.h, a.f, a.l+1, a.p, a.r, a.s, ability_none)\n",
    "    end\n",
    "    if eval_battle(Spud(a.name, a.h, a.f+1, a.l, a.p, a.r, a.s, ability_none), b0)==1\n",
    "        a = Spud(a.name, a.h, a.f+1, a.l, a.p, a.r, a.s, ability_none)\n",
    "    end\n",
    "    if eval_battle(Spud(a.name, a.h+1, a.f, a.l, a.p, a.r, a.s, ability_none), b0)==1\n",
    "        a = Spud(a.name, a.h+1, a.f, a.l, a.p, a.r, a.s, ability_none)\n",
    "    end\n",
    "    return [a, b]\n",
    "end\n",
    "\n",
    "function fx_your_H_their_P(a::Spud, b::Spud)\n",
    "    a = Spud(a.name, b.p, a.f, a.l, a.p, a.r, a.s, a.a1)\n",
    "    return [a, b]\n",
    "end\n",
    "\n",
    "function fx_your_F_their_L(a::Spud, b::Spud)\n",
    "    a = Spud(a.name, a.h, b.l, a.l, a.p, a.r, a.s, a.a1)\n",
    "    return [a, b]\n",
    "end\n",
    "\n",
    "function fx_your_F_their_S(a::Spud, b::Spud)\n",
    "    a = Spud(a.name, a.h, b.s, a.l, a.p, a.r, a.s, a.a1)\n",
    "    return [a, b]\n",
    "end\n",
    "\n",
    "function fx_your_L_their_S(a::Spud, b::Spud)\n",
    "    a = Spud(a.name, a.h, a.f, b.s, a.p, a.r, a.s, a.a1)\n",
    "    return [a, b]\n",
    "end\n",
    "\n",
    "function fx_your_P_their_L(a::Spud, b::Spud)\n",
    "    a = Spud(a.name, a.h, a.f, a.l, b.l, a.r, a.s, a.a1)\n",
    "    return [a, b]\n",
    "end\n",
    "\n",
    "function fx_your_P_their_R(a::Spud, b::Spud)\n",
    "    a = Spud(a.name, a.h, a.f, a.l, b.r, a.r, a.s, a.a1)\n",
    "    return [a, b]\n",
    "end\n",
    "\n",
    "function fx_your_R_their_S(a::Spud, b::Spud)\n",
    "    a = Spud(a.name, a.h, a.f, a.l, a.p, b.s, a.s, a.a1)\n",
    "    return [a, b]\n",
    "end\n",
    "\n",
    "\n",
    "\n",
    "ability_fx = Dict(\n",
    "    ability_add1 => fx_add1,\n",
    "    ability_your_H_their_P => fx_your_H_their_P,\n",
    "    ability_your_F_their_L => fx_your_F_their_L,\n",
    "    ability_your_F_their_S => fx_your_F_their_S,\n",
    "    ability_your_L_their_S => fx_your_L_their_S,\n",
    "    ability_your_P_their_L => fx_your_P_their_L,\n",
    "    ability_your_P_their_R => fx_your_P_their_R,\n",
    "    ability_your_R_their_S => fx_your_R_their_S,\n",
    ")"
   ]
  },
  {
   "cell_type": "code",
   "execution_count": 4,
   "id": "950e076e",
   "metadata": {},
   "outputs": [
    {
     "data": {
      "text/plain": [
       "1"
      ]
     },
     "execution_count": 4,
     "metadata": {},
     "output_type": "execute_result"
    }
   ],
   "source": [
    "#const MXS = 100\n",
    "const MXV = 9\n",
    "const MNV = 1\n",
    "\n",
    "# function cost(h::Int64, f::Int64, l::Int64, p::Int64, r::Int64, s::Int64)::Int64\n",
    "#     #return h*(f+l-2*MNV) + f*(p+r+s-3*MNV) + h+f+l+p+r+s-6*MNV\n",
    "#     return h*(f+l) + f*(p+r+s)\n",
    "# end\n",
    "\n",
    "# function cost(a::Spud)::Int64\n",
    "#     if a.a1 == ability_none\n",
    "#         return cost(a.h, a.f, a.l, a.p, a.r, a.s)\n",
    "#     else\n",
    "#         return cost(a.h, a.f, a.l, a.p, a.r, a.s) + ability_cost[a.a1](a)\n",
    "#     end\n",
    "# end"
   ]
  },
  {
   "cell_type": "code",
   "execution_count": 5,
   "id": "ac830f74",
   "metadata": {},
   "outputs": [
    {
     "data": {
      "text/plain": [
       "eval_melee (generic function with 3 methods)"
      ]
     },
     "execution_count": 5,
     "metadata": {},
     "output_type": "execute_result"
    }
   ],
   "source": [
    "function compare_int_list(as::Vector{Int64}, bs::Vector{Int64}, tiebreaker::Int64 = 0)::Int64\n",
    "    n = min(length(as), length(bs))\n",
    "    for i in 1:n\n",
    "        if as[i] != bs[i]\n",
    "            return sign(as[i] - bs[i])\n",
    "        end\n",
    "    end\n",
    "    return tiebreaker\n",
    "end\n",
    "\n",
    "function spud_h_seq(a::Spud)::Vector{Int64}\n",
    "    return [a.h, a.s, a.r, a.p, a.l, a.f]\n",
    "end\n",
    "\n",
    "function spud_f_seq(a::Spud)::Vector{Int64}\n",
    "    return [a.f, a.s, a.r, a.p, a.l, a.h]\n",
    "end\n",
    "\n",
    "function spud_l_seq(a::Spud)::Vector{Int64}\n",
    "    return [a.l]\n",
    "end\n",
    "\n",
    "function spud_p_seq(a::Spud)::Vector{Int64}\n",
    "    return [a.p, a.l]\n",
    "end\n",
    "\n",
    "function spud_r_seq(a::Spud)::Vector{Int64}\n",
    "    return [a.r, a.f]\n",
    "end\n",
    "\n",
    "function spud_s_seq(a::Spud)::Vector{Int64}\n",
    "    return [a.s, a.h]\n",
    "end\n",
    "\n",
    "function spud_utb_seq(a::Spud)::Vector{Int64}\n",
    "    return [a.a1, a.h, a.f, a.l, a.p, a.r, a.s]\n",
    "end\n",
    "\n",
    "function eval_finds(a::Spud, b::Spud, tiebreaker::Int64 = 0)::Int64\n",
    "    ev = compare_int_list(spud_f_seq(a), spud_h_seq(b), tiebreaker)\n",
    "    ans = ev\n",
    "end\n",
    "\n",
    "function eval_melee(a::Spud, b::Spud, tiebreaker1::Int64 = 0, tiebreaker2::Int64 = 0)::Int64\n",
    "    comp_p = compare_int_list(spud_p_seq(a), spud_p_seq(b), tiebreaker1)\n",
    "    comp_r = compare_int_list(spud_r_seq(a), spud_r_seq(b), tiebreaker1)\n",
    "    comp_s = compare_int_list(spud_s_seq(a), spud_s_seq(b), tiebreaker1)\n",
    "    ev = 4 * comp_p + 3 * comp_r + 2 * comp_s\n",
    "    return sign(ev + (1-abs(ev))*tiebreaker2)\n",
    "end\n",
    "\n"
   ]
  },
  {
   "cell_type": "code",
   "execution_count": 6,
   "id": "f603612d",
   "metadata": {},
   "outputs": [
    {
     "data": {
      "text/plain": [
       "eval_battle (generic function with 1 method)"
      ]
     },
     "execution_count": 6,
     "metadata": {},
     "output_type": "execute_result"
    }
   ],
   "source": [
    "\n",
    "\n",
    "function apply_ability(a::Spud, b::Spud)::Array{Spud}\n",
    "    if a.a1 == ability_none\n",
    "        return [a, b]\n",
    "    else\n",
    "        return ability_fx[a.a1](a, b)\n",
    "    end\n",
    "end\n",
    "\n",
    "\n",
    "function eval_battle(a::Spud, b::Spud)::Int64\n",
    "    utb = compare_int_list(spud_utb_seq(a), spud_utb_seq(b), 0) # universal tiebreaker\n",
    "    if utb == 0\n",
    "        return 0\n",
    "    end\n",
    "    a_ability_first = compare_int_list([a.a1, a.s], [b.a1, b.s], utb)\n",
    "    if a_ability_first ==1\n",
    "        if a.a1 != ability_none\n",
    "            res = apply_ability(a, b)\n",
    "            a = res[1]\n",
    "            b = res[2]\n",
    "        end\n",
    "        if b.a1 != ability_none\n",
    "            res = apply_ability(b, a)\n",
    "            b = res[1]\n",
    "            a = res[2]\n",
    "        end\n",
    "    end\n",
    "    if a_ability_first == -1\n",
    "        if b.a1 != ability_none\n",
    "            res = apply_ability(b, a)\n",
    "            b = res[1]\n",
    "            a = res[2]\n",
    "        end\n",
    "        if a.a1 != ability_none\n",
    "            res = apply_ability(a, b)\n",
    "            a = res[1]\n",
    "            b = res[2]\n",
    "        end\n",
    "    end\n",
    "    #println(a)\n",
    "    #println(b)\n",
    "    a_finds = eval_finds(a, b, utb)==1\n",
    "    b_finds = eval_finds(b, a, utb)==1\n",
    "    melee_win = eval_melee(a, b, 0, 0)\n",
    "    luck_win = compare_int_list([a.l, melee_win], [b.l, -melee_win], 0)\n",
    "    if melee_win ==1 && luck_win ==1\n",
    "        return 1\n",
    "    end\n",
    "    if melee_win == -1 && luck_win == -1\n",
    "        return -1\n",
    "    end\n",
    "    if a_finds && b_finds\n",
    "        return melee_win\n",
    "    end\n",
    "    if a_finds && !b_finds\n",
    "        return 1\n",
    "    end\n",
    "    if !a_finds && b_finds\n",
    "        return -1\n",
    "    end\n",
    "    if !a_finds && !b_finds\n",
    "        return luck_win\n",
    "    end\n",
    "end"
   ]
  },
  {
   "cell_type": "code",
   "execution_count": 7,
   "id": "40b9dc47",
   "metadata": {},
   "outputs": [
    {
     "data": {
      "text/plain": [
       "random_name_and_stat (generic function with 2 methods)"
      ]
     },
     "execution_count": 7,
     "metadata": {},
     "output_type": "execute_result"
    }
   ],
   "source": [
    "tab = CSV.read(\"census_yob2022_names.txt\", DataFrame, header = false)\n",
    "names = tab.Column1\n",
    "adjectives = CSV.read(\"adjectives.csv\", DataFrame)\n",
    "nouns = CSV.read(\"nouns.csv\", DataFrame)\n",
    "jobs = CSV.read(\"jobs.csv\", DataFrame)\n",
    "\n",
    "\n",
    "const mult_noun = 1\n",
    "const mult_adj = 2\n",
    "const mult_job = 3\n",
    "\n",
    "\n",
    "function random_name_and_stat(ability::Int64 = ability_none)::Spud\n",
    "    vp = [0, 0, 0, 0, 0, 0]\n",
    "    #nametype = rand([1,1,1,1,1,2,2,2,3])\n",
    "    name = \"\"\n",
    "    noun = \"\"\n",
    "    adj = \"\"\n",
    "    noun_i = rand(1:nrow(nouns))\n",
    "    noun = nouns[noun_i, :noun]\n",
    "    vp[1] = vp[1] + nouns[noun_i, :H] * mult_noun\n",
    "    vp[2] = vp[2] + nouns[noun_i, :F] * mult_noun\n",
    "    vp[3] = vp[3] + nouns[noun_i, :L] * mult_noun\n",
    "    vp[4] = vp[4] + nouns[noun_i, :P] * mult_noun\n",
    "    vp[5] = vp[5] + nouns[noun_i, :R] * mult_noun\n",
    "    vp[6] = vp[6] + nouns[noun_i, :S] * mult_noun\n",
    "    adj_i = rand(1:nrow(adjectives))\n",
    "    if ability == ability_none\n",
    "        adj = adjectives[adj_i, :adjective]\n",
    "        vp[1] = vp[1] + adjectives[adj_i, :H] * mult_adj\n",
    "        vp[2] = vp[2] + adjectives[adj_i, :F] * mult_adj\n",
    "        vp[3] = vp[3] + adjectives[adj_i, :L] * mult_adj\n",
    "        vp[4] = vp[4] + adjectives[adj_i, :P] * mult_adj\n",
    "        vp[5] = vp[5] + adjectives[adj_i, :R] * mult_adj\n",
    "        vp[6] = vp[6] + adjectives[adj_i, :S] * mult_adj\n",
    "    else\n",
    "        adj = ability_name[ability]\n",
    "    end\n",
    "    job_i = rand(1:nrow(jobs))\n",
    "    job = jobs[job_i, :job]\n",
    "    vp[1] = vp[1] + jobs[job_i, :H] * mult_job\n",
    "    vp[2] = vp[2] + jobs[job_i, :F] * mult_job\n",
    "    vp[3] = vp[3] + jobs[job_i, :L] * mult_job\n",
    "    vp[4] = vp[4] + jobs[job_i, :P] * mult_job\n",
    "    vp[5] = vp[5] + jobs[job_i, :R] * mult_job\n",
    "    vp[6] = vp[6] + jobs[job_i, :S] * mult_job\n",
    "    name = string(adj, \" \", job, \" \", noun)\n",
    "    Spud(name, vp[1], vp[2], vp[3], vp[4], vp[5], vp[6], ability_none)\n",
    "end"
   ]
  },
  {
   "cell_type": "code",
   "execution_count": 8,
   "id": "f606e085",
   "metadata": {},
   "outputs": [
    {
     "data": {
      "text/plain": [
       "rand_rename (generic function with 2 methods)"
      ]
     },
     "execution_count": 8,
     "metadata": {},
     "output_type": "execute_result"
    }
   ],
   "source": [
    "function rand_rename(a::Spud, n_tries::Int = 100)::Spud\n",
    "    best_score = 0.0\n",
    "    best_b = random_name_and_stat(a.a1)\n",
    "    for ii in 1:n_tries\n",
    "        b = random_name_and_stat(a.a1)\n",
    "        b_norm = sqrt(b.h^2 + b.f^2 + b.l^2 + b.p^2 + b.r^2 + b.s^2)\n",
    "        score = (a.h * b.h + a.f * b.f + a.l * b.l + a.p * b.p + a.r * b.r + a.s * b.s)/b_norm\n",
    "        if score > best_score\n",
    "            best_score = score\n",
    "            best_b = b\n",
    "        end\n",
    "    end\n",
    "    return Spud(best_b.name, a.h, a.f, a.l, a.p, a.r, a.s, a.a1)\n",
    "end"
   ]
  },
  {
   "cell_type": "code",
   "execution_count": 9,
   "id": "560e9539",
   "metadata": {},
   "outputs": [
    {
     "data": {
      "text/plain": [
       "df_to_spuds (generic function with 1 method)"
      ]
     },
     "execution_count": 9,
     "metadata": {},
     "output_type": "execute_result"
    }
   ],
   "source": [
    "function eval_battle_list(a::Spud, bs::Array{Spud})::Int\n",
    "    score = 0\n",
    "    for ii in 1:length(bs)\n",
    "        score = score + eval_battle(a, bs[ii])\n",
    "    end\n",
    "    return score\n",
    "end\n",
    "\n",
    "function eval_battle_list2(a::Spud, bs::Array{Spud}, w::Vector{Float64})::AbstractFloat\n",
    "    score = 0.0\n",
    "    for ii in 1:length(bs)\n",
    "        score = score + w[ii] * eval_battle(a, bs[ii])\n",
    "    end\n",
    "    return score\n",
    "end\n",
    "\n",
    "function spuds_to_df(as::Array{Spud})::DataFrame\n",
    "    names = Array{String}(undef, length(as))\n",
    "    hs = Array{Int}(undef, length(as))\n",
    "    fs = Array{Int}(undef, length(as))\n",
    "    ls = Array{Int}(undef, length(as))\n",
    "    ps = Array{Int}(undef, length(as))\n",
    "    rs = Array{Int}(undef, length(as))\n",
    "    ss = Array{Int}(undef, length(as))\n",
    "    a1s = Array{Int}(undef, length(as))\n",
    "    for ii in 1:length(as)\n",
    "        names[ii] = as[ii].name\n",
    "        hs[ii] = as[ii].h\n",
    "        fs[ii] = as[ii].f\n",
    "        ls[ii] = as[ii].l\n",
    "        ps[ii] = as[ii].p\n",
    "        rs[ii] = as[ii].r\n",
    "        ss[ii] = as[ii].s\n",
    "        a1s[ii] = as[ii].a1\n",
    "    end\n",
    "    df = DataFrame(name = names, h = hs, f = fs, l = ls, p = ps, r = rs, s = ss, a1 = a1s)\n",
    "    return df\n",
    "end\n",
    "\n",
    "function fpart(x::AbstractFloat)::AbstractFloat\n",
    "  return x - trunc(x)\n",
    "end\n",
    "\n",
    "# for legacy dfs without abilities\n",
    "function df_to_spuds0(df::DataFrame)::Array{Spud}\n",
    "    n = size(df)[1]\n",
    "    as = Array{Spud}(undef, n)\n",
    "    for i in 1:n\n",
    "        as[i] = Spud(df[i, :name], df[i, :h], df[i, :f], df[i, :l], df[i, :p], df[i, :r], df[i, :s], ability_none)\n",
    "    end\n",
    "    return as\n",
    "end\n",
    "\n",
    "function df_to_spuds(df::DataFrame)::Array{Spud}\n",
    "    n = size(df)[1]\n",
    "    as = Array{Spud}(undef, n)\n",
    "    for i in 1:n\n",
    "        as[i] = Spud(df[i, :name], df[i, :h], df[i, :f], df[i, :l], df[i, :p], df[i, :r], df[i, :s], df[i, :a1])\n",
    "    end\n",
    "    return as\n",
    "end\n",
    "\n"
   ]
  },
  {
   "cell_type": "markdown",
   "id": "66e71132",
   "metadata": {},
   "source": [
    "## Get dishes with cost 10"
   ]
  },
  {
   "cell_type": "code",
   "execution_count": 10,
   "id": "638f1e65",
   "metadata": {},
   "outputs": [
    {
     "data": {
      "text/plain": [
       "get_library (generic function with 2 methods)"
      ]
     },
     "execution_count": 10,
     "metadata": {},
     "output_type": "execute_result"
    }
   ],
   "source": [
    "function get_library(cost, n_init = 10000)\n",
    "    ffs = Array{Spud}(undef, n_init)\n",
    "    ff_i = 0\n",
    "    hrange = MNV:MXV\n",
    "    frange = MNV:MXV\n",
    "    lrange = MNV:MXV\n",
    "    prange = MNV:MXV\n",
    "    rrange = MNV:MXV\n",
    "    srange = MNV:MXV\n",
    "    for h in hrange\n",
    "        for f in frange\n",
    "            for l in lrange\n",
    "                for p in prange\n",
    "                    for r in rrange\n",
    "                        for s in srange\n",
    "                            if (h+f+l+p+r+s == cost)\n",
    "                                ff_i += 1\n",
    "                                ff = Spud(string(\"d_\", h,f,l,p,r,s), h,f,l,p,r,s,999)\n",
    "                                ffs[ff_i] = ff\n",
    "                            end\n",
    "                        end\n",
    "                    end                        \n",
    "                end                        \n",
    "            end\n",
    "        end\n",
    "    end\n",
    "    ffs = ffs[1:ff_i]\n",
    "    return unique(ffs)\n",
    "end"
   ]
  },
  {
   "cell_type": "code",
   "execution_count": 11,
   "id": "64d0dd3e",
   "metadata": {},
   "outputs": [],
   "source": [
    "dishes = get_library(10);\n",
    "#dishes"
   ]
  },
  {
   "cell_type": "code",
   "execution_count": 12,
   "id": "6be20a55",
   "metadata": {},
   "outputs": [
    {
     "data": {
      "text/plain": [
       "get_payoffs (generic function with 1 method)"
      ]
     },
     "execution_count": 12,
     "metadata": {},
     "output_type": "execute_result"
    }
   ],
   "source": [
    "function get_payoffs(env::Array{Spud})::Array{Int64}\n",
    "    n_nash = length(env)\n",
    "    payoffs = Array{Int64}(undef, (n_nash, n_nash))\n",
    "    for i in 1:n_nash\n",
    "        for j in 1:n_nash\n",
    "            payoffs[i, j] = eval_battle(env[i], env[j])\n",
    "        end\n",
    "    end\n",
    "    return payoffs\n",
    "end"
   ]
  },
  {
   "cell_type": "code",
   "execution_count": 13,
   "id": "af79e6db",
   "metadata": {},
   "outputs": [
    {
     "data": {
      "text/plain": [
       "filter_nondominated2 (generic function with 1 method)"
      ]
     },
     "execution_count": 13,
     "metadata": {},
     "output_type": "execute_result"
    }
   ],
   "source": [
    "function filter_nondominated2(as::Array{Spud})::Array{Spud}\n",
    "    mat = get_payoffs(as);\n",
    "    isDominated = zeros(Int64, length(as));\n",
    "    for i in 1:length(as)\n",
    "        v = mat[i, :]\n",
    "        bv = ones(Int64, length(as))\n",
    "        for j in 1:length(as)\n",
    "            bv = bv .* (mat[:, j] .>= v[j])\n",
    "        end\n",
    "        if sum(bv) > 1\n",
    "            isDominated[i] = 1\n",
    "        end\n",
    "    end\n",
    "    return as[isDominated .== 0]\n",
    "end"
   ]
  },
  {
   "cell_type": "code",
   "execution_count": 14,
   "id": "4d12cc60",
   "metadata": {},
   "outputs": [
    {
     "data": {
      "text/plain": [
       "spud2int (generic function with 1 method)"
      ]
     },
     "execution_count": 14,
     "metadata": {},
     "output_type": "execute_result"
    }
   ],
   "source": [
    "function spud2int(a::Spud)::Int64\n",
    "    return a.h * 100000 + a.f * 10000 + a.l * 1000 + a.p * 100 + a.r * 10 + a.s\n",
    "end\n",
    "\n",
    "#i2s = Dict(spud2int(ff) => ff for ff in lib)"
   ]
  },
  {
   "cell_type": "markdown",
   "id": "14324db6",
   "metadata": {},
   "source": [
    "## Custom jobs"
   ]
  },
  {
   "cell_type": "code",
   "execution_count": 15,
   "id": "a1f79b44",
   "metadata": {},
   "outputs": [
    {
     "data": {
      "text/plain": [
       "get_nash_env (generic function with 1 method)"
      ]
     },
     "execution_count": 15,
     "metadata": {},
     "output_type": "execute_result"
    }
   ],
   "source": [
    "function combine_jobs_dishes(jobs::Array{Spud}, dishes::Array{Spud})::Array{Spud}\n",
    "    lib = Array{Spud}(undef, 10000)\n",
    "    ff_i = 0\n",
    "    for j in jobs\n",
    "        for d in dishes\n",
    "            ff = Spud(string(j.name, \" \", d.name), j.h+d.h, j.f+d.f, j.l+d.l, j.p+d.p, j.r+d.r, j.s+d.s, j.a1)\n",
    "            ff_i += 1\n",
    "            lib[ff_i] = ff\n",
    "        end\n",
    "    end\n",
    "    lib = lib[1:ff_i];\n",
    "    return lib\n",
    "end\n",
    "\n",
    "function get_nash_env(jobs::Array{Spud}, dishes::Array{Spud})::Tuple{Array{Spud}, Array{Float64}}\n",
    "    lib = combine_jobs_dishes(jobs, dishes)\n",
    "    ## optimize\n",
    "    payoffs = get_payoffs(lib);\n",
    "    vector_model = Model(HiGHS.Optimizer)\n",
    "    n_nash = length(lib)\n",
    "    sumv = zeros(Int64, (1, 2 * n_nash + 1))\n",
    "    sumv[1:n_nash] .= 1\n",
    "    A = hcat(payoffs, Matrix(1I,n_nash, n_nash), -ones(Int64, n_nash, 1))\n",
    "    A = vcat(A, sumv);\n",
    "    b = zeros(Int64, n_nash + 1);\n",
    "    b[1:n_nash] .= -1\n",
    "    b[n_nash+1] = 1\n",
    "    transpose(b);\n",
    "    c = zeros(Int64, 2 * n_nash + 1);\n",
    "    c[2 * n_nash + 1] = 1;\n",
    "    @variable(vector_model, x[1:(2*n_nash+1)] >= 0);\n",
    "    @constraint(vector_model, A * x .== b);\n",
    "    @objective(vector_model, Min, c' * x)\n",
    "    @time optimize!(vector_model)\n",
    "    ## solution\n",
    "    w_lp = [value(x[i]) for i in 1:n_nash]\n",
    "    w_lp = w_lp./sum(w_lp);\n",
    "    new_env = lib[w_lp .> 0]\n",
    "    w_new = w_lp[w_lp .> 0];\n",
    "    for i in sortperm(-w_new)\n",
    "        print(new_env[i])\n",
    "        print(\" \")\n",
    "        println(string(w_new[i])[1:6])\n",
    "    end\n",
    "    return new_env, w_new\n",
    "end"
   ]
  },
  {
   "cell_type": "code",
   "execution_count": 17,
   "id": "ad11b5d6",
   "metadata": {},
   "outputs": [
    {
     "name": "stdout",
     "output_type": "stream",
     "text": [
      "Running HiGHS 1.6.0: Copyright (c) 2023 HiGHS under MIT licence terms\n",
      "Presolving model\n",
      "1639 rows, 3277 cols, 2685698 nonzeros\n",
      "1639 rows, 3103 cols, 2400890 nonzeros\n",
      "Presolve : Reductions: rows 1639(-0); columns 3103(-174); elements 2400890(-284808)\n",
      "Solving the presolved LP\n",
      "Using EKK dual simplex solver - serial\n",
      "  Iteration        Objective     Infeasibilities num(sum)\n",
      "          0     0.0000000000e+00 Pr: 1639(1639) 0s\n",
      "       1947     1.0000000000e+00 Pr: 0(0) 1s\n",
      "       1947     1.0000000000e+00 Pr: 0(0) 1s\n",
      "Solving the original LP from the solution after postsolve\n",
      "Model   status      : Optimal\n",
      "Simplex   iterations: 1947\n",
      "Objective value     :  1.0000000000e+00\n",
      "HiGHS run time      :          1.38\n",
      "  1.564577 seconds (219.65 k allocations: 168.897 MiB, 2.92% gc time, 4.62% compilation time: 100% of which was recompilation)\n",
      "Spud(\"Servant d_111142\", 2, 2, 1, 1, 5, 4, 999) 0.0813\n",
      "Spud(\"Brawler d_114121\", 1, 1, 5, 3, 3, 2, 999) 0.0621\n",
      "Spud(\"Servant d_121231\", 2, 3, 1, 2, 4, 3, 999) 0.0574\n",
      "Spud(\"Pyro d_131212\", 1, 3, 1, 5, 1, 2, 600) 0.0517\n",
      "Spud(\"Servant d_131311\", 2, 4, 1, 3, 2, 3, 999) 0.0504\n",
      "Spud(\"Ascetic d_115111\", 3, 2, 5, 1, 2, 2, 999) 0.0463\n",
      "Spud(\"Salesman d_121321\", 1, 4, 2, 4, 3, 1, 999) 0.0398\n",
      "Spud(\"Servant d_131131\", 2, 4, 1, 1, 4, 3, 999) 0.0394\n",
      "Spud(\"Singer d_412111\", 4, 1, 4, 2, 2, 1, 999) 0.0382\n",
      "Spud(\"Pyro d_141112\", 1, 4, 1, 4, 1, 2, 600) 0.0367\n",
      "Spud(\"Ascetic d_213112\", 4, 2, 3, 1, 2, 3, 999) 0.0359\n",
      "Spud(\"Singer d_313111\", 3, 1, 5, 2, 2, 1, 999) 0.0342\n",
      "Spud(\"Ascetic d_214111\", 4, 2, 4, 1, 2, 2, 999) 0.0320\n",
      "Spud(\"Dancer d_412111\", 5, 1, 3, 2, 1, 2, 999) 0.0314\n",
      "Spud(\"Dancer d_113113\", 2, 1, 4, 2, 1, 4, 999) 0.0308\n",
      "Spud(\"Janitor d_111313\", 1, 1, 1, 5, 1, 5, 999) 0.0270\n",
      "Spud(\"Singer d_511111\", 5, 1, 3, 2, 2, 1, 999) 0.0259\n",
      "Spud(\"Dancer d_213112\", 3, 1, 4, 2, 1, 3, 999) 0.0236\n",
      "Spud(\"Dancer d_214111\", 3, 1, 5, 2, 1, 2, 999) 0.0221\n",
      "Spud(\"Dancer d_313111\", 4, 1, 4, 2, 1, 2, 999) 0.0213\n",
      "Spud(\"Salesman d_131221\", 1, 5, 2, 3, 3, 1, 999) 0.0205\n",
      "Spud(\"Brawler d_113221\", 1, 1, 4, 4, 3, 2, 999) 0.0195\n",
      "Spud(\"Dancer d_114112\", 2, 1, 5, 2, 1, 3, 999) 0.0181\n",
      "Spud(\"Servant d_121222\", 2, 3, 1, 2, 3, 4, 999) 0.0180\n",
      "Spud(\"Servant d_141121\", 2, 5, 1, 1, 3, 3, 999) 0.0169\n",
      "Spud(\"Ascetic d_113122\", 3, 2, 3, 1, 3, 3, 999) 0.0134\n",
      "Spud(\"Brawler d_113113\", 1, 1, 4, 3, 2, 4, 999) 0.0124\n",
      "Spud(\"Ascetic d_114121\", 3, 2, 4, 1, 3, 2, 999) 0.0115\n",
      "Spud(\"Ascetic d_213121\", 4, 2, 3, 1, 3, 2, 999) 0.0112\n",
      "Spud(\"Salesman d_111115\", 1, 3, 2, 2, 2, 5, 999) 0.0101\n",
      "Spud(\"Ascetic d_112132\", 3, 2, 2, 1, 4, 3, 999) 0.0094\n",
      "Spud(\"Brawler d_212131\", 2, 1, 3, 3, 4, 2, 999) 0.0074\n",
      "Spud(\"Servant d_131212\", 2, 4, 1, 2, 2, 4, 999) 0.0064\n",
      "Spud(\"Photographer d_131131\", 1, 4, 1, 1, 3, 3, 545) 0.0061\n",
      "Spud(\"Servant d_121321\", 2, 3, 1, 3, 3, 3, 999) 0.0052\n",
      "Spud(\"Janitor d_131212\", 1, 3, 1, 4, 1, 4, 999) 0.0048\n",
      "Spud(\"Servant d_115111\", 2, 2, 5, 1, 2, 3, 999) 0.0048\n",
      "Spud(\"Servant d_121141\", 2, 3, 1, 1, 5, 3, 999) 0.0034\n",
      "Spud(\"Ascetic d_212122\", 4, 2, 2, 1, 3, 3, 999) 0.0034\n",
      "Spud(\"Brawler d_112213\", 1, 1, 3, 4, 2, 4, 999) 0.0032\n",
      "Spud(\"Dancer d_312112\", 4, 1, 3, 2, 1, 3, 999) 0.0030\n",
      "Spud(\"Salesman d_111133\", 1, 3, 2, 2, 4, 3, 999) 0.0012\n",
      "Spud(\"Salesman d_122311\", 1, 4, 3, 4, 2, 1, 999) 0.0007\n"
     ]
    }
   ],
   "source": [
    "jobs = [\n",
    "    Spud(\"Ascetic\",     2,1,0,0,1,1,ability_none),\n",
    "    Spud(\"Dancer\",      1,0,1,1,0,1,ability_none),\n",
    "    Spud(\"Singer\",      0,0,2,1,1,0,ability_none),\n",
    "    #Spud(\"Empath\",     0,3,2,1,0,0,ability_none),\n",
    "    Spud(\"Brawler\",     0,0,1,2,1,1,ability_none),\n",
    "    #Spud(\"Merchant\",   0,1,2,0,0,1,ability_none),\n",
    "    Spud(\"Salesman\",    0,2,1,1,1,0,ability_none),\n",
    "    Spud(\"Servant\",     1,1,0,0,1,2,ability_none),\n",
    "    Spud(\"Pyro\",        0,0,0,3,0,0,ability_your_R_their_S),\n",
    "    Spud(\"Hustler\",     0,0,0,0,1,3,ability_none),\n",
    "    Spud(\"Janitor\",     0,0,0,2,0,2,ability_none),\n",
    "    Spud(\"Photographer\",0,1,0,0,0,2,ability_your_P_their_L),\n",
    "    Spud(\"Student\",     0,1,0,0,0,0,ability_add1),\n",
    "    Spud(\"Scammer\",     0,1,0,0,0,2,ability_your_H_their_P),\n",
    "    Spud(\"Coach\",       0,1,0,0,2,0,ability_your_F_their_S),\n",
    "]\n",
    "ne, wn = get_nash_env(jobs, dishes);"
   ]
  },
  {
   "cell_type": "code",
   "execution_count": 19,
   "id": "4ca83881",
   "metadata": {},
   "outputs": [
    {
     "name": "stdout",
     "output_type": "stream",
     "text": [
      "\u001b[1m43×9 DataFrame\u001b[0m\n",
      "\u001b[1m Row \u001b[0m│\u001b[1m name                  \u001b[0m\u001b[1m h     \u001b[0m\u001b[1m f     \u001b[0m\u001b[1m l     \u001b[0m\u001b[1m p     \u001b[0m\u001b[1m r     \u001b[0m\u001b[1m s     \u001b[0m\u001b[1m a1    \u001b[0m\u001b[1m w       \u001b[0m\n",
      "     │\u001b[90m String                \u001b[0m\u001b[90m Int64 \u001b[0m\u001b[90m Int64 \u001b[0m\u001b[90m Int64 \u001b[0m\u001b[90m Int64 \u001b[0m\u001b[90m Int64 \u001b[0m\u001b[90m Int64 \u001b[0m\u001b[90m Int64 \u001b[0m\u001b[90m Float64 \u001b[0m\n",
      "─────┼─────────────────────────────────────────────────────────────────────────────────\n",
      "   1 │ Servant d_111142           2      2      1      1      5      4    999    0.081\n",
      "   2 │ Brawler d_114121           1      1      5      3      3      2    999    0.062\n",
      "   3 │ Servant d_121231           2      3      1      2      4      3    999    0.057\n",
      "   4 │ Pyro d_131212              1      3      1      5      1      2    600    0.051\n",
      "   5 │ Servant d_131311           2      4      1      3      2      3    999    0.05\n",
      "   6 │ Ascetic d_115111           3      2      5      1      2      2    999    0.046\n",
      "   7 │ Salesman d_121321          1      4      2      4      3      1    999    0.039\n",
      "   8 │ Servant d_131131           2      4      1      1      4      3    999    0.039\n",
      "   9 │ Singer d_412111            4      1      4      2      2      1    999    0.038\n",
      "  10 │ Pyro d_141112              1      4      1      4      1      2    600    0.036\n",
      "  11 │ Ascetic d_213112           4      2      3      1      2      3    999    0.035\n",
      "  12 │ Singer d_313111            3      1      5      2      2      1    999    0.034\n",
      "  13 │ Ascetic d_214111           4      2      4      1      2      2    999    0.032\n",
      "  14 │ Dancer d_412111            5      1      3      2      1      2    999    0.031\n",
      "  15 │ Dancer d_113113            2      1      4      2      1      4    999    0.03\n",
      "  16 │ Janitor d_111313           1      1      1      5      1      5    999    0.027\n",
      "  17 │ Singer d_511111            5      1      3      2      2      1    999    0.025\n",
      "  18 │ Dancer d_213112            3      1      4      2      1      3    999    0.023\n",
      "  19 │ Dancer d_214111            3      1      5      2      1      2    999    0.022\n",
      "  20 │ Dancer d_313111            4      1      4      2      1      2    999    0.021\n",
      "  21 │ Salesman d_131221          1      5      2      3      3      1    999    0.02\n",
      "  22 │ Brawler d_113221           1      1      4      4      3      2    999    0.019\n",
      "  23 │ Dancer d_114112            2      1      5      2      1      3    999    0.018\n",
      "  24 │ Servant d_121222           2      3      1      2      3      4    999    0.018\n",
      "  25 │ Servant d_141121           2      5      1      1      3      3    999    0.016\n",
      "  26 │ Ascetic d_113122           3      2      3      1      3      3    999    0.013\n",
      "  27 │ Brawler d_113113           1      1      4      3      2      4    999    0.012\n",
      "  28 │ Ascetic d_114121           3      2      4      1      3      2    999    0.011\n",
      "  29 │ Ascetic d_213121           4      2      3      1      3      2    999    0.011\n",
      "  30 │ Salesman d_111115          1      3      2      2      2      5    999    0.01\n",
      "  31 │ Ascetic d_112132           3      2      2      1      4      3    999    0.009\n",
      "  32 │ Brawler d_212131           2      1      3      3      4      2    999    0.007\n",
      "  33 │ Servant d_131212           2      4      1      2      2      4    999    0.006\n",
      "  34 │ Photographer d_131131      1      4      1      1      3      3    545    0.006\n",
      "  35 │ Servant d_121321           2      3      1      3      3      3    999    0.005\n",
      "  36 │ Janitor d_131212           1      3      1      4      1      4    999    0.004\n",
      "  37 │ Servant d_115111           2      2      5      1      2      3    999    0.004\n",
      "  38 │ Servant d_121141           2      3      1      1      5      3    999    0.003\n",
      "  39 │ Ascetic d_212122           4      2      2      1      3      3    999    0.003\n",
      "  40 │ Brawler d_112213           1      1      3      4      2      4    999    0.003\n",
      "  41 │ Dancer d_312112            4      1      3      2      1      3    999    0.003\n",
      "  42 │ Salesman d_111133          1      3      2      2      4      3    999    0.001\n",
      "  43 │ Salesman d_122311          1      4      3      4      2      1    999    0.0"
     ]
    }
   ],
   "source": [
    "df = spuds_to_df(ne)\n",
    "df[!, :w] = [floor(w*1000)/1000 for w in wn]\n",
    "print(df[sortperm(-wn),:])"
   ]
  },
  {
   "cell_type": "code",
   "execution_count": 20,
   "id": "ce0927f3",
   "metadata": {
    "scrolled": false
   },
   "outputs": [
    {
     "name": "stdout",
     "output_type": "stream",
     "text": [
      "537 45 1341 1091 1007 848 427 606 501 1017 1488 1495 392 471 279 1310 1458 1268 641 917 1147 161 1490 803 170 19 1478 1216 1411 924 547 800 1597 798 807 1351 365 450 154 499 1005 715 246 612 66 1172 230 697 284 172 148 1387 423 344 524 1549 1244 620 1123 1259 208 927 1049 107 1446 1252 1483 464 90 1090 708 960 242 953 543 598 908 1556 1075 769 793 1317 1430 737 138 174 869 818 1503 419 1037 952 766 79 1088 1293 723 1076 802 1112 315 1043 1618 1247 1389 1581 199 186 549 658 1561 586 432 1588 886 1277 843 1401 1610 1254 244 821 894 568 1515 446 781 207 1055 1020 35 687 1552 1392 211 689 60 1625 38 609 15 1468 1465 357 62 485 1558 103 143 616 1287 1071 462 1167 267 1072 101 27 1602 384 1044 245 1249 875 1595 657 634 73 1195 125 661 527 1128 105 874 1340 1250 431 300 569 158 1240 888 400 1560 541 964 1054 94 743 1467 1041 591 1285 925 1620 126 805 382 412 1174 1149 879 1057 795 564 228 646 671 1300 1410 1321 7 40 623 948 1060 1617 1572 872 570 945 532 1480 2 1426 1584 753 1056 137 1422 1384 153 418 1359 249 829 885 18 1157 984 851 1150 1462 1601 1006 71 1113 682 949 106 1117 939 204 1164 1320 725 757 254 755 445 740 372 441 842 768 495 932 152 521 711 1482 1316 316 1223 104 913 1169 834 379 330 1093 627 503 475 955 1502 852 209 240 1550 1089 1082 910 1168 542 1214 1039 1290 785 10 797 1420 122 438 453 273 1202 1520 1279 1068 1261 911 1632 574 739 1191 605 1078 1165 677 1238 405 926 1158 589 1396 1220 1273 721 674 1199 1241 1409 399 1379 1508 830 825 1284 458 1376 1107 733 1413 1493 49 435 260 349 1565 1237 749 1036 530 1345 53 613 787 128 642 1576 1346 1557 951 983 299 513 1111 1045 1523 896 480 8 767 467 1187 640 133 826 217 346 1571 695 1183 341 1474 650 1145 1491 320 861 1473 1156 784 1434 921 1211 907 409 16 1630 1288 836 1453 1292 1061 1407 668 1275 887 895 1525 916 1209 1138 846 761 1286 370 1521 1104 624 822 572 1110 47 660 531 780 607 522 777 334 1512 705 1251 1162 970 588 1368 628 303 13 466 1328 670 266 46 374 1184 514 808 1033 553 1018 289 1333 22 1143 716 1506 1127 1099 95 679 940 114 665 771 70 799 87 563 326 1499 308 1414 1121 1538 129 664 454 124 386 1631 669 1367 478 1522 533 123 791 680 526 76 1599 1178 833 1109 328 590 1405 1501 1190 1343 1264 987 1412 1575 770 752 1331 234 509 1563 484 366 845 261 1573 1626 906 1554 275 1129 214 979 998 1122 61 492 997 169 269 1470 529 1235 935 1324 390 1398 507 465 1052 1334 119 637 727 309 1624 1448 699 1086 220 681 1375 167 11 1175 968 1028 1180 491 33 734 981 659 258 1472 99 338 636 285 135 1079 140 1243 1591 1118 1069 21 1124 625 1403 195 1364 990 645 1269 633 1635 561 1487 1547 1146 722 1245 67 1188 156 1516 243 713 476 1206 1200 577 1629 538 397 96 919 783 1215 110 221 1210 1176 1526 257 950 1543 112 428 361 515 1371 497 1105 1014 1619 1390 355 1281 1578 1114 194 717 759 362 1224 858 615 1170 425 712 1436 1391 1477 457 804 331 750 436 595 391 675 933 265 1460 97 801 999 177 1393 1498 59 1255 168 864 1263 1253 936 1357 631 434 1097 1059 81 1042 1267 1370 941 130 850 1019 603 718 1344 117 1081 1564 139 196 58 1015 102 583 223 329 306 502 1336 1186 1592 594 882 1001 1524 676 1541 1459 813 236 1155 74 1058 1318 235 653 336 343 184 1026 183 359 65 525 296 393 489 136 860 159 206 566 912 1339 149 1447 1388 1423 1265 1087 190 1161 884 469 1537 1475 1361 976 1182 32 394 693 1196 1002 1291 1366 694 1309 1451 166 144 810 1023 672 82 1621 1369 638 849 962 1432 410 1194 1298 452 443 1634 155 841 905 459 187 25 855 375 1611 1519 496 630 546 364 1289 1009 "
     ]
    }
   ],
   "source": [
    "lib = combine_jobs_dishes(jobs, dishes)\n",
    "payoffs = get_payoffs(lib)\n",
    "nlib = length(lib)\n",
    "combos = Array{Spud}(undef, (10000,3))\n",
    "ord = sortperm([rand() for i in 1:nlib])[1:800]\n",
    "#ord = [i for i in 1:nlib]\n",
    "nc = 0\n",
    "# 3-combos\n",
    "for i in ord[1:(length(ord)-2)]\n",
    "    print(i)\n",
    "    print(\" \")\n",
    "    pi = payoffs[i,:]\n",
    "    for j in ord[(i+1):(length(ord)-1)]\n",
    "        pj = payoffs[j, :]\n",
    "        pij = [max(pi[a], pj[a]) for a in 1:nlib]\n",
    "        if sum(pij .== 1) > 0\n",
    "            #print(\".\")\n",
    "            for k in ord[(j+1):length(ord)]\n",
    "                pk = payoffs[k, :]\n",
    "                pijk = [max(pi[a], pj[a], pk[a]) for a in 1:nlib]\n",
    "                if minimum(pijk)==1\n",
    "                    nc += 1\n",
    "                    combos[nc, :] = lib[[i,j,k]]\n",
    "                    #println(\"\")\n",
    "                    #println(\"----3-COMBO!-----\")\n",
    "                    #println(lib[[i,j,k]])\n",
    "                end\n",
    "            end\n",
    "        end\n",
    "    end\n",
    "end\n",
    "combos = combos[1:nc,:];"
   ]
  },
  {
   "cell_type": "code",
   "execution_count": 21,
   "id": "3685d1d0",
   "metadata": {},
   "outputs": [
    {
     "data": {
      "text/plain": [
       "(14, 3)"
      ]
     },
     "execution_count": 21,
     "metadata": {},
     "output_type": "execute_result"
    }
   ],
   "source": [
    "size(combos)"
   ]
  },
  {
   "cell_type": "markdown",
   "id": "bc9cfb0f",
   "metadata": {},
   "source": [
    "### combo-breaker research"
   ]
  },
  {
   "cell_type": "code",
   "execution_count": 22,
   "id": "f4a10bc5",
   "metadata": {},
   "outputs": [
    {
     "name": "stdout",
     "output_type": "stream",
     "text": [
      "\u001b[1m3×8 DataFrame\u001b[0m\n",
      "\u001b[1m Row \u001b[0m│\u001b[1m name              \u001b[0m\u001b[1m h     \u001b[0m\u001b[1m f     \u001b[0m\u001b[1m l     \u001b[0m\u001b[1m p     \u001b[0m\u001b[1m r     \u001b[0m\u001b[1m s     \u001b[0m\u001b[1m a1    \u001b[0m\n",
      "     │\u001b[90m String            \u001b[0m\u001b[90m Int64 \u001b[0m\u001b[90m Int64 \u001b[0m\u001b[90m Int64 \u001b[0m\u001b[90m Int64 \u001b[0m\u001b[90m Int64 \u001b[0m\u001b[90m Int64 \u001b[0m\u001b[90m Int64 \u001b[0m\n",
      "─────┼────────────────────────────────────────────────────────────────────\n",
      "   1 │ Ascetic d_214111       4      2      4      1      2      2    999\n",
      "   2 │ Salesman d_131221      1      5      2      3      3      1    999\n",
      "   3 │ Servant d_111511       2      2      1      5      2      3    999"
     ]
    }
   ],
   "source": [
    "as = combos[1,:]\n",
    "print(spuds_to_df(as))"
   ]
  },
  {
   "cell_type": "code",
   "execution_count": null,
   "id": "3512ca0f",
   "metadata": {},
   "outputs": [],
   "source": [
    "println(maximum([eval_battle_list(ff, as) for ff in lib]))\n",
    "b = Spud(\"breaker\",1,2,4,1,1,4,ability_your_H_their_P)\n",
    "println([eval_battle(b, ff) for ff in as])\n",
    "eval_battle_list2(b, ne, wn)"
   ]
  },
  {
   "cell_type": "code",
   "execution_count": null,
   "id": "839fbaeb",
   "metadata": {},
   "outputs": [],
   "source": []
  }
 ],
 "metadata": {
  "kernelspec": {
   "display_name": "Julia 1.9.3",
   "language": "julia",
   "name": "julia-1.9"
  },
  "language_info": {
   "file_extension": ".jl",
   "mimetype": "application/julia",
   "name": "julia",
   "version": "1.9.3"
  }
 },
 "nbformat": 4,
 "nbformat_minor": 5
}

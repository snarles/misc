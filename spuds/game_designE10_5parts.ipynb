{
 "cells": [
  {
   "cell_type": "markdown",
   "id": "052be005",
   "metadata": {},
   "source": [
    "Beat-n game with E10 base dishes and custom 5-pt jobs"
   ]
  },
  {
   "cell_type": "markdown",
   "id": "72817bb1",
   "metadata": {},
   "source": [
    "## Spud code"
   ]
  },
  {
   "cell_type": "code",
   "execution_count": 1,
   "id": "494818e8",
   "metadata": {},
   "outputs": [],
   "source": [
    "using Random\n",
    "using DataFrames\n",
    "using CSV\n",
    "using DelimitedFiles\n",
    "using Statistics\n",
    "using Printf\n",
    "using LinearAlgebra\n",
    "using Dates\n",
    "using JuMP\n",
    "using HiGHS"
   ]
  },
  {
   "cell_type": "code",
   "execution_count": 2,
   "id": "45e21e7f",
   "metadata": {},
   "outputs": [],
   "source": [
    "struct Spud\n",
    "    name::String\n",
    "    h::Int64\n",
    "    f::Int64\n",
    "    l::Int64\n",
    "    p::Int64\n",
    "    r::Int64\n",
    "    s::Int64\n",
    "    a1::Int64\n",
    "end"
   ]
  },
  {
   "cell_type": "code",
   "execution_count": 3,
   "id": "eef1262d",
   "metadata": {},
   "outputs": [
    {
     "data": {
      "text/plain": [
       "Dict{Int64, Function} with 7 entries:\n",
       "  500 => fx_your_L_their_S\n",
       "  110 => fx_add1frs\n",
       "  210 => fx_transfer_f_rs\n",
       "  550 => fx_your_P_their_R\n",
       "  600 => fx_your_R_their_S\n",
       "  100 => fx_add1\n",
       "  450 => fx_your_F_their_L"
      ]
     },
     "execution_count": 3,
     "metadata": {},
     "output_type": "execute_result"
    }
   ],
   "source": [
    "const ability_none = 999\n",
    "const ability_add1 = 100\n",
    "const ability_add1frs = 110\n",
    "const ability_transfer_f_rs = 210\n",
    "const ability_your_F_their_L = 450\n",
    "const ability_your_L_their_S = 500\n",
    "const ability_your_P_their_R = 550\n",
    "const ability_your_R_their_S = 600\n",
    "\n",
    "ability_name = Dict(\n",
    "    ability_add1 => \"add1\",\n",
    "    ability_add1frs => \"add1frs\",\n",
    "    ability_transfer_f_rs => \"transfer_F_toRS\",\n",
    "    ability_your_F_their_L => \"yourFtheirL\",\n",
    "    ability_your_L_their_S => \"yourLtheirS\",\n",
    "    ability_your_P_their_R => \"yourPtheirR\",\n",
    "    ability_your_R_their_S => \"yourRtheirS\",\n",
    ")\n",
    "\n",
    "function fx_add1(a::Spud, b::Spud)\n",
    "    if eval_battle(Spud(a.name, a.h, a.f, a.l, a.p, a.r, a.s+1, ability_none), b)==1\n",
    "        a = Spud(a.name, a.h, a.f, a.l, a.p, a.r, a.s+1, ability_none)\n",
    "    end\n",
    "    if eval_battle(Spud(a.name, a.h, a.f, a.l, a.p, a.r+1, a.s, ability_none), b)==1\n",
    "        a = Spud(a.name, a.h, a.f, a.l, a.p, a.r+1, a.s, ability_none)\n",
    "    end\n",
    "    if eval_battle(Spud(a.name, a.h, a.f, a.l, a.p+1, a.r, a.s, ability_none), b)==1\n",
    "        a = Spud(a.name, a.h, a.f, a.l, a.p+1, a.r, a.s, ability_none)\n",
    "    end\n",
    "    if eval_battle(Spud(a.name, a.h, a.f, a.l+1, a.p, a.r, a.s, ability_none), b)==1\n",
    "        a = Spud(a.name, a.h, a.f, a.l+1, a.p, a.r, a.s, ability_none)\n",
    "    end\n",
    "    if eval_battle(Spud(a.name, a.h, a.f+1, a.l, a.p, a.r, a.s, ability_none), b)==1\n",
    "        a = Spud(a.name, a.h, a.f+1, a.l, a.p, a.r, a.s, ability_none)\n",
    "    end\n",
    "    if eval_battle(Spud(a.name, a.h+1, a.f, a.l, a.p, a.r, a.s, ability_none), b)==1\n",
    "        a = Spud(a.name, a.h+1, a.f, a.l, a.p, a.r, a.s, ability_none)\n",
    "    end\n",
    "    return [a, b]\n",
    "end\n",
    "\n",
    "\n",
    "function fx_add1frs(a::Spud, b::Spud)\n",
    "    if eval_battle(Spud(a.name, a.h, a.f, a.l, a.p, a.r, a.s+1, ability_none), b)==1\n",
    "        a = Spud(a.name, a.h, a.f, a.l, a.p, a.r, a.s+1, ability_none)\n",
    "    end\n",
    "    if eval_battle(Spud(a.name, a.h, a.f, a.l, a.p, a.r+1, a.s, ability_none), b)==1\n",
    "        a = Spud(a.name, a.h, a.f, a.l, a.p, a.r+1, a.s, ability_none)\n",
    "    end\n",
    "    if eval_battle(Spud(a.name, a.h, a.f+1, a.l, a.p, a.r, a.s, ability_none), b)==1\n",
    "        a = Spud(a.name, a.h, a.f+1, a.l, a.p, a.r, a.s, ability_none)\n",
    "    end\n",
    "    return [a, b]\n",
    "end\n",
    "\n",
    "function fx_transfer_f_rs(a::Spud, b::Spud)\n",
    "    if eval_battle(Spud(a.name, a.h, a.f-3, a.l, a.p, a.r, a.s+2, ability_none), b)==1\n",
    "        a = Spud(a.name, a.h, a.f-3, a.l, a.p, a.r, a.s+2, ability_none)\n",
    "    end\n",
    "    if eval_battle(Spud(a.name, a.h, a.f-3, a.l, a.p, a.r+2, a.s, ability_none), b)==1\n",
    "        a = Spud(a.name, a.h, a.f-3, a.l, a.p, a.r+2, a.s, ability_none)\n",
    "    end\n",
    "    return [a, b]\n",
    "end\n",
    "\n",
    "function fx_your_F_their_L(a::Spud, b::Spud)\n",
    "    a = Spud(a.name, a.h, b.l, a.l, a.p, a.r, a.s, a.a1)\n",
    "    return [a, b]\n",
    "end\n",
    "\n",
    "function fx_your_L_their_S(a::Spud, b::Spud)\n",
    "    a = Spud(a.name, a.h, a.f, b.s, a.p, a.r, a.s, a.a1)\n",
    "    return [a, b]\n",
    "end\n",
    "\n",
    "function fx_your_P_their_R(a::Spud, b::Spud)\n",
    "    a = Spud(a.name, a.h, a.f, a.l, b.r, a.r, a.s, a.a1)\n",
    "    return [a, b]\n",
    "end\n",
    "\n",
    "function fx_your_R_their_S(a::Spud, b::Spud)\n",
    "    a = Spud(a.name, a.h, a.f, a.l, a.p, b.s, a.s, a.a1)\n",
    "    return [a, b]\n",
    "end\n",
    "\n",
    "\n",
    "\n",
    "ability_fx = Dict(\n",
    "    ability_add1 => fx_add1,\n",
    "    ability_add1frs => fx_add1frs,\n",
    "    ability_transfer_f_rs => fx_transfer_f_rs,\n",
    "    ability_your_F_their_L => fx_your_F_their_L,\n",
    "    ability_your_L_their_S => fx_your_L_their_S,\n",
    "    ability_your_P_their_R => fx_your_P_their_R,\n",
    "    ability_your_R_their_S => fx_your_R_their_S,\n",
    ")"
   ]
  },
  {
   "cell_type": "code",
   "execution_count": 4,
   "id": "950e076e",
   "metadata": {},
   "outputs": [
    {
     "data": {
      "text/plain": [
       "1"
      ]
     },
     "execution_count": 4,
     "metadata": {},
     "output_type": "execute_result"
    }
   ],
   "source": [
    "#const MXS = 100\n",
    "const MXV = 9\n",
    "const MNV = 1\n",
    "\n",
    "# function cost(h::Int64, f::Int64, l::Int64, p::Int64, r::Int64, s::Int64)::Int64\n",
    "#     #return h*(f+l-2*MNV) + f*(p+r+s-3*MNV) + h+f+l+p+r+s-6*MNV\n",
    "#     return h*(f+l) + f*(p+r+s)\n",
    "# end\n",
    "\n",
    "# function cost(a::Spud)::Int64\n",
    "#     if a.a1 == ability_none\n",
    "#         return cost(a.h, a.f, a.l, a.p, a.r, a.s)\n",
    "#     else\n",
    "#         return cost(a.h, a.f, a.l, a.p, a.r, a.s) + ability_cost[a.a1](a)\n",
    "#     end\n",
    "# end"
   ]
  },
  {
   "cell_type": "code",
   "execution_count": 5,
   "id": "ac830f74",
   "metadata": {},
   "outputs": [
    {
     "data": {
      "text/plain": [
       "eval_melee (generic function with 3 methods)"
      ]
     },
     "execution_count": 5,
     "metadata": {},
     "output_type": "execute_result"
    }
   ],
   "source": [
    "function compare_int_list(as::Vector{Int64}, bs::Vector{Int64}, tiebreaker::Int64 = 0)::Int64\n",
    "    n = min(length(as), length(bs))\n",
    "    for i in 1:n\n",
    "        if as[i] != bs[i]\n",
    "            return sign(as[i] - bs[i])\n",
    "        end\n",
    "    end\n",
    "    return tiebreaker\n",
    "end\n",
    "\n",
    "function spud_h_seq(a::Spud)::Vector{Int64}\n",
    "    return [a.h, a.s, a.r, a.p, a.l, a.f]\n",
    "end\n",
    "\n",
    "function spud_f_seq(a::Spud)::Vector{Int64}\n",
    "    return [a.f, a.s, a.r, a.p, a.l, a.h]\n",
    "end\n",
    "\n",
    "function spud_l_seq(a::Spud)::Vector{Int64}\n",
    "    return [a.l]\n",
    "end\n",
    "\n",
    "function spud_p_seq(a::Spud)::Vector{Int64}\n",
    "    return [a.p, a.l]\n",
    "end\n",
    "\n",
    "function spud_r_seq(a::Spud)::Vector{Int64}\n",
    "    return [a.r, a.f]\n",
    "end\n",
    "\n",
    "function spud_s_seq(a::Spud)::Vector{Int64}\n",
    "    return [a.s, a.h]\n",
    "end\n",
    "\n",
    "function spud_utb_seq(a::Spud)::Vector{Int64}\n",
    "    return [a.a1, a.h, a.f, a.l, a.p, a.r, a.s]\n",
    "end\n",
    "\n",
    "function eval_finds(a::Spud, b::Spud, tiebreaker::Int64 = 0)::Int64\n",
    "    ev = compare_int_list(spud_f_seq(a), spud_h_seq(b), tiebreaker)\n",
    "    ans = ev\n",
    "end\n",
    "\n",
    "function eval_melee(a::Spud, b::Spud, tiebreaker1::Int64 = 0, tiebreaker2::Int64 = 0)::Int64\n",
    "    comp_p = compare_int_list(spud_p_seq(a), spud_p_seq(b), tiebreaker1)\n",
    "    comp_r = compare_int_list(spud_r_seq(a), spud_r_seq(b), tiebreaker1)\n",
    "    comp_s = compare_int_list(spud_s_seq(a), spud_s_seq(b), tiebreaker1)\n",
    "    ev = 4 * comp_p + 3 * comp_r + 2 * comp_s\n",
    "    return sign(ev + (1-abs(ev))*tiebreaker2)\n",
    "end\n",
    "\n"
   ]
  },
  {
   "cell_type": "code",
   "execution_count": 6,
   "id": "f603612d",
   "metadata": {},
   "outputs": [
    {
     "data": {
      "text/plain": [
       "eval_battle (generic function with 1 method)"
      ]
     },
     "execution_count": 6,
     "metadata": {},
     "output_type": "execute_result"
    }
   ],
   "source": [
    "\n",
    "\n",
    "function apply_ability(a::Spud, b::Spud)::Array{Spud}\n",
    "    if a.a1 == ability_none\n",
    "        return [a, b]\n",
    "    else\n",
    "        return ability_fx[a.a1](a, b)\n",
    "    end\n",
    "end\n",
    "\n",
    "\n",
    "function eval_battle(a::Spud, b::Spud)::Int64\n",
    "    utb = compare_int_list(spud_utb_seq(a), spud_utb_seq(b), 0) # universal tiebreaker\n",
    "    if utb == 0\n",
    "        return 0\n",
    "    end\n",
    "    a_ability_first = compare_int_list([a.a1, a.s], [b.a1, b.s], utb)\n",
    "    if a_ability_first ==1\n",
    "        if a.a1 != ability_none\n",
    "            res = apply_ability(a, b)\n",
    "            a = res[1]\n",
    "            b = res[2]\n",
    "        end\n",
    "        if b.a1 != ability_none\n",
    "            res = apply_ability(b, a)\n",
    "            b = res[1]\n",
    "            a = res[2]\n",
    "        end\n",
    "    end\n",
    "    if a_ability_first == -1\n",
    "        if b.a1 != ability_none\n",
    "            res = apply_ability(b, a)\n",
    "            b = res[1]\n",
    "            a = res[2]\n",
    "        end\n",
    "        if a.a1 != ability_none\n",
    "            res = apply_ability(a, b)\n",
    "            a = res[1]\n",
    "            b = res[2]\n",
    "        end\n",
    "    end\n",
    "    #println(a)\n",
    "    #println(b)\n",
    "    a_finds = eval_finds(a, b, utb)==1\n",
    "    b_finds = eval_finds(b, a, utb)==1\n",
    "    melee_win = eval_melee(a, b, 0, 0)\n",
    "    luck_win = compare_int_list([a.l, melee_win], [b.l, -melee_win], 0)\n",
    "    if melee_win ==1 && luck_win ==1\n",
    "        return 1\n",
    "    end\n",
    "    if melee_win == -1 && luck_win == -1\n",
    "        return -1\n",
    "    end\n",
    "    if a_finds && b_finds\n",
    "        return melee_win\n",
    "    end\n",
    "    if a_finds && !b_finds\n",
    "        return 1\n",
    "    end\n",
    "    if !a_finds && b_finds\n",
    "        return -1\n",
    "    end\n",
    "    if !a_finds && !b_finds\n",
    "        return luck_win\n",
    "    end\n",
    "end"
   ]
  },
  {
   "cell_type": "code",
   "execution_count": 7,
   "id": "40b9dc47",
   "metadata": {},
   "outputs": [
    {
     "data": {
      "text/plain": [
       "random_name_and_stat (generic function with 2 methods)"
      ]
     },
     "execution_count": 7,
     "metadata": {},
     "output_type": "execute_result"
    }
   ],
   "source": [
    "tab = CSV.read(\"census_yob2022_names.txt\", DataFrame, header = false)\n",
    "names = tab.Column1\n",
    "adjectives = CSV.read(\"adjectives.csv\", DataFrame)\n",
    "nouns = CSV.read(\"nouns.csv\", DataFrame)\n",
    "jobs = CSV.read(\"jobs.csv\", DataFrame)\n",
    "\n",
    "\n",
    "const mult_noun = 1\n",
    "const mult_adj = 2\n",
    "const mult_job = 3\n",
    "\n",
    "\n",
    "function random_name_and_stat(ability::Int64 = ability_none)::Spud\n",
    "    vp = [0, 0, 0, 0, 0, 0]\n",
    "    #nametype = rand([1,1,1,1,1,2,2,2,3])\n",
    "    name = \"\"\n",
    "    noun = \"\"\n",
    "    adj = \"\"\n",
    "    noun_i = rand(1:nrow(nouns))\n",
    "    noun = nouns[noun_i, :noun]\n",
    "    vp[1] = vp[1] + nouns[noun_i, :H] * mult_noun\n",
    "    vp[2] = vp[2] + nouns[noun_i, :F] * mult_noun\n",
    "    vp[3] = vp[3] + nouns[noun_i, :L] * mult_noun\n",
    "    vp[4] = vp[4] + nouns[noun_i, :P] * mult_noun\n",
    "    vp[5] = vp[5] + nouns[noun_i, :R] * mult_noun\n",
    "    vp[6] = vp[6] + nouns[noun_i, :S] * mult_noun\n",
    "    adj_i = rand(1:nrow(adjectives))\n",
    "    if ability == ability_none\n",
    "        adj = adjectives[adj_i, :adjective]\n",
    "        vp[1] = vp[1] + adjectives[adj_i, :H] * mult_adj\n",
    "        vp[2] = vp[2] + adjectives[adj_i, :F] * mult_adj\n",
    "        vp[3] = vp[3] + adjectives[adj_i, :L] * mult_adj\n",
    "        vp[4] = vp[4] + adjectives[adj_i, :P] * mult_adj\n",
    "        vp[5] = vp[5] + adjectives[adj_i, :R] * mult_adj\n",
    "        vp[6] = vp[6] + adjectives[adj_i, :S] * mult_adj\n",
    "    else\n",
    "        adj = ability_name[ability]\n",
    "    end\n",
    "    job_i = rand(1:nrow(jobs))\n",
    "    job = jobs[job_i, :job]\n",
    "    vp[1] = vp[1] + jobs[job_i, :H] * mult_job\n",
    "    vp[2] = vp[2] + jobs[job_i, :F] * mult_job\n",
    "    vp[3] = vp[3] + jobs[job_i, :L] * mult_job\n",
    "    vp[4] = vp[4] + jobs[job_i, :P] * mult_job\n",
    "    vp[5] = vp[5] + jobs[job_i, :R] * mult_job\n",
    "    vp[6] = vp[6] + jobs[job_i, :S] * mult_job\n",
    "    name = string(adj, \" \", job, \" \", noun)\n",
    "    Spud(name, vp[1], vp[2], vp[3], vp[4], vp[5], vp[6], ability_none)\n",
    "end"
   ]
  },
  {
   "cell_type": "code",
   "execution_count": 8,
   "id": "f606e085",
   "metadata": {},
   "outputs": [
    {
     "data": {
      "text/plain": [
       "rand_rename (generic function with 2 methods)"
      ]
     },
     "execution_count": 8,
     "metadata": {},
     "output_type": "execute_result"
    }
   ],
   "source": [
    "function rand_rename(a::Spud, n_tries::Int = 100)::Spud\n",
    "    best_score = 0.0\n",
    "    best_b = random_name_and_stat(a.a1)\n",
    "    for ii in 1:n_tries\n",
    "        b = random_name_and_stat(a.a1)\n",
    "        b_norm = sqrt(b.h^2 + b.f^2 + b.l^2 + b.p^2 + b.r^2 + b.s^2)\n",
    "        score = (a.h * b.h + a.f * b.f + a.l * b.l + a.p * b.p + a.r * b.r + a.s * b.s)/b_norm\n",
    "        if score > best_score\n",
    "            best_score = score\n",
    "            best_b = b\n",
    "        end\n",
    "    end\n",
    "    return Spud(best_b.name, a.h, a.f, a.l, a.p, a.r, a.s, a.a1)\n",
    "end"
   ]
  },
  {
   "cell_type": "code",
   "execution_count": 9,
   "id": "560e9539",
   "metadata": {},
   "outputs": [
    {
     "data": {
      "text/plain": [
       "df_to_spuds (generic function with 1 method)"
      ]
     },
     "execution_count": 9,
     "metadata": {},
     "output_type": "execute_result"
    }
   ],
   "source": [
    "function eval_battle_list(a::Spud, bs::Array{Spud})::Int\n",
    "    score = 0\n",
    "    for ii in 1:length(bs)\n",
    "        score = score + eval_battle(a, bs[ii])\n",
    "    end\n",
    "    return score\n",
    "end\n",
    "\n",
    "function eval_battle_list2(a::Spud, bs::Array{Spud}, w::Vector{Float64})::AbstractFloat\n",
    "    score = 0.0\n",
    "    for ii in 1:length(bs)\n",
    "        score = score + w[ii] * eval_battle(a, bs[ii])\n",
    "    end\n",
    "    return score\n",
    "end\n",
    "\n",
    "function spuds_to_df(as::Array{Spud})::DataFrame\n",
    "    names = Array{String}(undef, length(as))\n",
    "    hs = Array{Int}(undef, length(as))\n",
    "    fs = Array{Int}(undef, length(as))\n",
    "    ls = Array{Int}(undef, length(as))\n",
    "    ps = Array{Int}(undef, length(as))\n",
    "    rs = Array{Int}(undef, length(as))\n",
    "    ss = Array{Int}(undef, length(as))\n",
    "    a1s = Array{Int}(undef, length(as))\n",
    "    for ii in 1:length(as)\n",
    "        names[ii] = as[ii].name\n",
    "        hs[ii] = as[ii].h\n",
    "        fs[ii] = as[ii].f\n",
    "        ls[ii] = as[ii].l\n",
    "        ps[ii] = as[ii].p\n",
    "        rs[ii] = as[ii].r\n",
    "        ss[ii] = as[ii].s\n",
    "        a1s[ii] = as[ii].a1\n",
    "    end\n",
    "    df = DataFrame(name = names, h = hs, f = fs, l = ls, p = ps, r = rs, s = ss, a1 = a1s)\n",
    "    return df\n",
    "end\n",
    "\n",
    "function fpart(x::AbstractFloat)::AbstractFloat\n",
    "  return x - trunc(x)\n",
    "end\n",
    "\n",
    "# for legacy dfs without abilities\n",
    "function df_to_spuds0(df::DataFrame)::Array{Spud}\n",
    "    n = size(df)[1]\n",
    "    as = Array{Spud}(undef, n)\n",
    "    for i in 1:n\n",
    "        as[i] = Spud(df[i, :name], df[i, :h], df[i, :f], df[i, :l], df[i, :p], df[i, :r], df[i, :s], ability_none)\n",
    "    end\n",
    "    return as\n",
    "end\n",
    "\n",
    "function df_to_spuds(df::DataFrame)::Array{Spud}\n",
    "    n = size(df)[1]\n",
    "    as = Array{Spud}(undef, n)\n",
    "    for i in 1:n\n",
    "        as[i] = Spud(df[i, :name], df[i, :h], df[i, :f], df[i, :l], df[i, :p], df[i, :r], df[i, :s], df[i, :a1])\n",
    "    end\n",
    "    return as\n",
    "end\n",
    "\n"
   ]
  },
  {
   "cell_type": "markdown",
   "id": "66e71132",
   "metadata": {},
   "source": [
    "## Get dishes with cost 10"
   ]
  },
  {
   "cell_type": "code",
   "execution_count": 10,
   "id": "638f1e65",
   "metadata": {},
   "outputs": [
    {
     "data": {
      "text/plain": [
       "get_library (generic function with 2 methods)"
      ]
     },
     "execution_count": 10,
     "metadata": {},
     "output_type": "execute_result"
    }
   ],
   "source": [
    "function get_library(cost, n_init = 10000)\n",
    "    ffs = Array{Spud}(undef, n_init)\n",
    "    ff_i = 0\n",
    "    hrange = MNV:MXV\n",
    "    frange = MNV:MXV\n",
    "    lrange = MNV:MXV\n",
    "    prange = MNV:MXV\n",
    "    rrange = MNV:MXV\n",
    "    srange = MNV:MXV\n",
    "    for h in hrange\n",
    "        for f in frange\n",
    "            for l in lrange\n",
    "                for p in prange\n",
    "                    for r in rrange\n",
    "                        for s in srange\n",
    "                            if (h+f+l+p+r+s == cost)\n",
    "                                ff = Spud(string(\"d_\", ff_i), h,f,l,p,r,s,999)\n",
    "                                ff_i += 1\n",
    "                                ffs[ff_i] = ff\n",
    "                            end\n",
    "                        end\n",
    "                    end                        \n",
    "                end                        \n",
    "            end\n",
    "        end\n",
    "    end\n",
    "    ffs = ffs[1:ff_i]\n",
    "    return unique(ffs)\n",
    "end"
   ]
  },
  {
   "cell_type": "code",
   "execution_count": 11,
   "id": "64d0dd3e",
   "metadata": {},
   "outputs": [],
   "source": [
    "dishes = get_library(10);\n",
    "#dishes"
   ]
  },
  {
   "cell_type": "code",
   "execution_count": 12,
   "id": "6be20a55",
   "metadata": {},
   "outputs": [
    {
     "data": {
      "text/plain": [
       "get_payoffs (generic function with 1 method)"
      ]
     },
     "execution_count": 12,
     "metadata": {},
     "output_type": "execute_result"
    }
   ],
   "source": [
    "function get_payoffs(env::Array{Spud})::Array{Int64}\n",
    "    n_nash = length(env)\n",
    "    payoffs = Array{Int64}(undef, (n_nash, n_nash))\n",
    "    for i in 1:n_nash\n",
    "        for j in 1:n_nash\n",
    "            payoffs[i, j] = eval_battle(env[i], env[j])\n",
    "        end\n",
    "    end\n",
    "    return payoffs\n",
    "end"
   ]
  },
  {
   "cell_type": "code",
   "execution_count": 13,
   "id": "af79e6db",
   "metadata": {},
   "outputs": [
    {
     "data": {
      "text/plain": [
       "filter_nondominated2 (generic function with 1 method)"
      ]
     },
     "execution_count": 13,
     "metadata": {},
     "output_type": "execute_result"
    }
   ],
   "source": [
    "function filter_nondominated2(as::Array{Spud})::Array{Spud}\n",
    "    mat = get_payoffs(as);\n",
    "    isDominated = zeros(Int64, length(as));\n",
    "    for i in 1:length(as)\n",
    "        v = mat[i, :]\n",
    "        bv = ones(Int64, length(as))\n",
    "        for j in 1:length(as)\n",
    "            bv = bv .* (mat[:, j] .>= v[j])\n",
    "        end\n",
    "        if sum(bv) > 1\n",
    "            isDominated[i] = 1\n",
    "        end\n",
    "    end\n",
    "    return as[isDominated .== 0]\n",
    "end"
   ]
  },
  {
   "cell_type": "code",
   "execution_count": 14,
   "id": "4d12cc60",
   "metadata": {},
   "outputs": [
    {
     "data": {
      "text/plain": [
       "spud2int (generic function with 1 method)"
      ]
     },
     "execution_count": 14,
     "metadata": {},
     "output_type": "execute_result"
    }
   ],
   "source": [
    "function spud2int(a::Spud)::Int64\n",
    "    return a.h * 100000 + a.f * 10000 + a.l * 1000 + a.p * 100 + a.r * 10 + a.s\n",
    "end\n",
    "\n",
    "#i2s = Dict(spud2int(ff) => ff for ff in lib)"
   ]
  },
  {
   "cell_type": "markdown",
   "id": "14324db6",
   "metadata": {},
   "source": [
    "## Custom jobs"
   ]
  },
  {
   "cell_type": "code",
   "execution_count": 15,
   "id": "a1f79b44",
   "metadata": {},
   "outputs": [
    {
     "data": {
      "text/plain": [
       "get_nash_env (generic function with 1 method)"
      ]
     },
     "execution_count": 15,
     "metadata": {},
     "output_type": "execute_result"
    }
   ],
   "source": [
    "function combine_jobs_dishes(jobs::Array{Spud}, dishes::Array{Spud})::Array{Spud}\n",
    "    lib = Array{Spud}(undef, 10000)\n",
    "    ff_i = 0\n",
    "    for j in jobs\n",
    "        for d in dishes\n",
    "            ff = Spud(string(j.name, \" \", d.name), j.h+d.h, j.f+d.f, j.l+d.l, j.p+d.p, j.r+d.r, j.s+d.s, j.a1)\n",
    "            ff_i += 1\n",
    "            lib[ff_i] = ff\n",
    "        end\n",
    "    end\n",
    "    lib = lib[1:ff_i];\n",
    "    return lib\n",
    "end\n",
    "\n",
    "function get_nash_env(jobs::Array{Spud}, dishes::Array{Spud})::Tuple{Array{Spud}, Array{Float64}}\n",
    "    lib = combine_jobs_dishes(jobs, dishes)\n",
    "    ## optimize\n",
    "    payoffs = get_payoffs(lib);\n",
    "    vector_model = Model(HiGHS.Optimizer)\n",
    "    n_nash = length(lib)\n",
    "    sumv = zeros(Int64, (1, 2 * n_nash + 1))\n",
    "    sumv[1:n_nash] .= 1\n",
    "    A = hcat(payoffs, Matrix(1I,n_nash, n_nash), -ones(Int64, n_nash, 1))\n",
    "    A = vcat(A, sumv);\n",
    "    b = zeros(Int64, n_nash + 1);\n",
    "    b[1:n_nash] .= -1\n",
    "    b[n_nash+1] = 1\n",
    "    transpose(b);\n",
    "    c = zeros(Int64, 2 * n_nash + 1);\n",
    "    c[2 * n_nash + 1] = 1;\n",
    "    @variable(vector_model, x[1:(2*n_nash+1)] >= 0);\n",
    "    @constraint(vector_model, A * x .== b);\n",
    "    @objective(vector_model, Min, c' * x)\n",
    "    @time optimize!(vector_model)\n",
    "    ## solution\n",
    "    w_lp = [value(x[i]) for i in 1:n_nash]\n",
    "    w_lp = w_lp./sum(w_lp);\n",
    "    new_env = lib[w_lp .> 0]\n",
    "    w_new = w_lp[w_lp .> 0];\n",
    "    for i in sortperm(-w_new)\n",
    "        print(new_env[i])\n",
    "        print(\" \")\n",
    "        println(string(w_new[i])[1:6])\n",
    "    end\n",
    "    return new_env, w_new\n",
    "end"
   ]
  },
  {
   "cell_type": "code",
   "execution_count": 34,
   "id": "ad11b5d6",
   "metadata": {},
   "outputs": [
    {
     "name": "stdout",
     "output_type": "stream",
     "text": [
      "Running HiGHS 1.6.0: Copyright (c) 2023 HiGHS under MIT licence terms\n",
      "Presolving model\n",
      "883 rows, 1765 cols, 779390 nonzeros\n",
      "883 rows, 1641 cols, 670173 nonzeros\n",
      "Presolve : Reductions: rows 883(-0); columns 1641(-124); elements 670173(-109217)\n",
      "Solving the presolved LP\n",
      "Using EKK dual simplex solver - serial\n",
      "  Iteration        Objective     Infeasibilities num(sum)\n",
      "          0     0.0000000000e+00 Pr: 883(883) 0s\n",
      "       1019     1.0000000000e+00 Pr: 0(0) 0s\n",
      "Solving the original LP from the solution after postsolve\n",
      "Model   status      : Optimal\n",
      "Simplex   iterations: 1019\n",
      "Objective value     :  1.0000000000e+00\n",
      "HiGHS run time      :          0.30\n",
      "  0.344708 seconds (11.68 k allocations: 46.141 MiB, 2.27% gc time)\n",
      "Spud(\"j_Singer d_87\", 2, 1, 5, 2, 3, 1, 999) 0.0434\n",
      "Spud(\"j_Driver d_37\", 2, 4, 1, 1, 4, 3, 999) 0.0433\n",
      "Spud(\"j_Driver d_7\", 2, 3, 1, 2, 4, 3, 999) 0.0407\n",
      "Spud(\"j_Driver d_43\", 2, 4, 1, 3, 3, 2, 999) 0.0393\n",
      "Spud(\"j_Monk d_3\", 3, 2, 1, 1, 5, 3, 999) 0.0384\n",
      "Spud(\"j_Monk d_86\", 4, 2, 3, 1, 2, 3, 999) 0.0361\n",
      "Spud(\"j_Dancer d_114\", 4, 1, 4, 2, 1, 2, 999) 0.0318\n",
      "Spud(\"j_Salesman d_23\", 1, 3, 3, 4, 3, 1, 999) 0.0316\n",
      "Spud(\"j_Pyro d_5\", 1, 1, 1, 5, 1, 4, 600) 0.0301\n",
      "Spud(\"j_Singer d_123\", 4, 1, 4, 2, 2, 1, 999) 0.0290\n",
      "Spud(\"j_Dancer d_31\", 2, 1, 5, 2, 1, 3, 999) 0.0288\n",
      "Spud(\"j_Brawler d_19\", 1, 1, 3, 4, 2, 4, 999) 0.0272\n",
      "Spud(\"j_Driver d_44\", 2, 4, 1, 4, 2, 2, 999) 0.0270\n",
      "Spud(\"j_Dancer d_89\", 3, 1, 5, 2, 1, 2, 999) 0.0261\n",
      "Spud(\"j_Brawler d_32\", 1, 1, 5, 3, 3, 2, 999) 0.0252\n",
      "Spud(\"j_Brawler d_25\", 1, 1, 4, 3, 2, 4, 999) 0.0252\n",
      "Spud(\"j_Driver d_2\", 2, 3, 1, 1, 4, 4, 999) 0.0243\n",
      "Spud(\"j_Singer d_114\", 3, 1, 5, 2, 2, 1, 999) 0.0243\n",
      "Spud(\"j_Monk d_114\", 5, 2, 3, 1, 2, 2, 999) 0.0231\n",
      "Spud(\"j_Monk d_89\", 4, 2, 4, 1, 2, 2, 999) 0.0227\n",
      "Spud(\"j_Monk d_34\", 3, 2, 5, 1, 2, 2, 999) 0.0224\n",
      "Spud(\"j_Singer d_125\", 5, 1, 3, 2, 2, 1, 999) 0.0223\n",
      "Spud(\"j_Salesman d_43\", 1, 4, 2, 4, 3, 1, 999) 0.0217\n",
      "Spud(\"j_Pyro d_65\", 1, 4, 1, 4, 1, 2, 600) 0.0180\n",
      "Spud(\"j_Driver d_40\", 2, 4, 1, 2, 3, 3, 999) 0.0177\n",
      "Spud(\"j_Dancer d_111\", 4, 1, 3, 2, 1, 3, 999) 0.0174\n",
      "Spud(\"j_Driver d_39\", 2, 4, 1, 2, 2, 4, 999) 0.0172\n",
      "Spud(\"j_Dancer d_86\", 3, 1, 4, 2, 1, 3, 999) 0.0169\n",
      "Spud(\"j_Salesman d_41\", 1, 4, 2, 3, 4, 1, 999) 0.0166\n",
      "Spud(\"j_Dancer d_25\", 2, 1, 4, 2, 1, 4, 999) 0.0155\n",
      "Spud(\"j_Driver d_36\", 2, 4, 1, 1, 3, 4, 999) 0.0143\n",
      "Spud(\"j_Pyro d_58\", 1, 3, 1, 5, 1, 2, 600) 0.0136\n",
      "Spud(\"j_Brawler d_29\", 1, 1, 4, 4, 3, 2, 999) 0.0136\n",
      "Spud(\"j_Driver d_14\", 2, 3, 1, 5, 2, 2, 999) 0.0132\n",
      "Spud(\"j_Monk d_8\", 3, 2, 1, 2, 5, 2, 999) 0.0125\n",
      "Spud(\"j_Monk d_25\", 3, 2, 3, 1, 2, 4, 999) 0.0123\n",
      "Spud(\"j_Driver d_6\", 2, 3, 1, 2, 3, 4, 999) 0.0114\n",
      "Spud(\"j_Driver d_42\", 2, 4, 1, 3, 2, 3, 999) 0.0105\n",
      "Spud(\"j_Driver d_11\", 2, 3, 1, 3, 4, 2, 999) 0.0101\n",
      "Spud(\"j_Monk d_16\", 3, 2, 2, 1, 3, 4, 999) 0.0095\n",
      "Spud(\"j_Brawler d_86\", 2, 1, 4, 3, 2, 3, 999) 0.0095\n",
      "Spud(\"j_Brawler d_27\", 1, 1, 4, 3, 4, 2, 999) 0.0090\n",
      "Spud(\"j_Dancer d_123\", 5, 1, 3, 2, 1, 2, 999) 0.0082\n",
      "Spud(\"j_Driver d_16\", 2, 3, 2, 1, 3, 4, 999) 0.0082\n",
      "Spud(\"j_Monk d_87\", 4, 2, 3, 1, 3, 2, 999) 0.0065\n",
      "Spud(\"j_Salesman d_2\", 1, 3, 2, 2, 4, 3, 999) 0.0053\n",
      "Spud(\"j_Brawler d_35\", 1, 2, 2, 3, 2, 5, 999) 0.0051\n",
      "Spud(\"j_Driver d_45\", 2, 4, 2, 1, 2, 4, 999) 0.0038\n",
      "Spud(\"j_Monk d_17\", 3, 2, 2, 1, 4, 3, 999) 0.0033\n",
      "Spud(\"j_Driver d_9\", 2, 3, 1, 3, 2, 4, 999) 0.0031\n",
      "Spud(\"j_Salesman d_59\", 1, 5, 2, 3, 3, 1, 999) 0.0029\n",
      "Spud(\"j_Brawler d_15\", 1, 1, 3, 3, 2, 5, 999) 0.0029\n",
      "Spud(\"j_Driver d_3\", 2, 3, 1, 1, 5, 3, 999) 0.0018\n",
      "Spud(\"j_Monk d_32\", 3, 2, 4, 1, 3, 2, 999) 0.0017\n",
      "Spud(\"j_Brawler d_9\", 1, 1, 2, 5, 2, 4, 999) 0.0017\n"
     ]
    }
   ],
   "source": [
    "jobs = [\n",
    "    Spud(\"j_Monk\",    2,1,0,0,1,1,ability_none),\n",
    "    Spud(\"j_Dancer\",  1,0,1,1,0,1,ability_none),\n",
    "    Spud(\"j_Singer\",  0,0,2,1,1,0,ability_none),\n",
    "    #Spud(\"j_Empath\",  0,3,2,1,0,0,ability_none),\n",
    "    Spud(\"j_Brawler\", 0,0,1,2,1,1,ability_none),\n",
    "    #Spud(\"j_Merchant\",0,1,2,0,0,1,ability_none),\n",
    "    Spud(\"j_Salesman\",0,2,1,1,1,0,ability_none),\n",
    "    Spud(\"j_Driver\",  1,2,0,0,1,1,ability_none),\n",
    "    Spud(\"j_Pyro\",    0,0,0,3,0,0,ability_your_R_their_S)\n",
    "]\n",
    "ne, wn = get_nash_env(jobs, dishes);"
   ]
  },
  {
   "cell_type": "code",
   "execution_count": 35,
   "id": "ce0927f3",
   "metadata": {
    "scrolled": false
   },
   "outputs": [
    {
     "name": "stdout",
     "output_type": "stream",
     "text": [
      "768 3 603 101 845 598 820 105 625 722 345 823 178 300 864 418 280 362 291 24 482 60 613 221 353 779 381 168 302 721 597 646 511 175 331 621 545 526 349 406 126 795 520 606 834 723 718 84 339 765 337 551 324 179 377 398 558 403 750 58 476 548 278 556 620 307 159 559 783 486 838 95 487 90 10 836 4 155 432 189 763 200 107 774 604 115 547 343 661 581 655 321 497 130 322 806 143 352 835 881 439 591 385 462 29 229 534 264 605 142 169 27 196 539 177 578 338 48 141 496 472 683 697 874 207 805 510 150 785 267 96 631 741 433 80 681 190 405 782 676 669 434 332 563 323 607 119 76 33 660 50 784 346 195 878 22 477 575 612 26 255 567 160 9 422 276 219 228 12 356 743 747 86 316 479 828 299 453 543 665 202 796 842 55 335 762 882 854 313 610 680 538 400 748 19 281 742 869 412 248 118 315 704 62 256 218 93 771 488 289 873 447 546 825 557 201 850 384 673 573 751 204 611 270 139 589 23 459 348 262 698 366 68 713 99 49 739 318 702 251 2 601 541 213 134 391 210 701 249 269 75 832 659 682 106 875 803 502 725 787 442 44 735 753 444 359 513 525 492 36 199 726 330 643 371 527 537 77 608 216 622 871 521 166 824 347 85 34 754 695 208 647 696 122 827 566 314 104 507 663 503 599 480 223 131 296 148 35 54 485 769 312 584 876 781 182 431 636 128 758 715 529 550 205 569 650 600 176 460 292 145 137 220 788 367 637 843 505 306 429 759 657 717 582 446 42 767 691 38 334 369 719 712 378 341 706 5 69 685 167 639 8 690 760 233 634 821 465 752 303 226 173 481 524 773 415 644 570 394 15 52 818 761 576 389 633 855 703 586 21 848 596 814 627 194 191 728 490 425 626 792 616 217 25 163 393 257 370 574 457 305 290 325 866 259 18 438 730 451 667 78 858 260 504 286 595 590 374 242 709 865 402 102 156 564 454 671 649 791 554 449 817 383 794 245 211 727 165 258 171 506 615 830 235 239 731 109 484 379 542 588 79 561 815 14 804 522 154 470 780 461 494 619 629 376 445 653 417 658 770 478 656 562 382 466 732 687 184 399 458 240 380 279 456 437 266 880 407 "
     ]
    }
   ],
   "source": [
    "lib = combine_jobs_dishes(jobs, dishes)\n",
    "payoffs = get_payoffs(lib)\n",
    "nlib = length(lib)\n",
    "combos = Array{Spud}(undef, (10000,3))\n",
    "ord = sortperm([rand() for i in 1:nlib])[1:500]\n",
    "#ord = [i for i in 1:nlib]\n",
    "nc = 0\n",
    "# 3-combos\n",
    "for i in ord[1:(length(ord)-2)]\n",
    "    print(i)\n",
    "    print(\" \")\n",
    "    pi = payoffs[i,:]\n",
    "    for j in ord[(i+1):(length(ord)-1)]\n",
    "        pj = payoffs[j, :]\n",
    "        pij = [max(pi[a], pj[a]) for a in 1:nlib]\n",
    "        if sum(pij .== 1) > 0\n",
    "            #print(\".\")\n",
    "            for k in ord[(j+1):length(ord)]\n",
    "                pk = payoffs[k, :]\n",
    "                pijk = [max(pi[a], pj[a], pk[a]) for a in 1:nlib]\n",
    "                if minimum(pijk)==1\n",
    "                    nc += 1\n",
    "                    combos[nc, :] = lib[[i,j,k]]\n",
    "                    #println(\"\")\n",
    "                    #println(\"----3-COMBO!-----\")\n",
    "                    #println(lib[[i,j,k]])\n",
    "                end\n",
    "            end\n",
    "        end\n",
    "    end\n",
    "end\n",
    "combos = combos[1:nc,:];"
   ]
  },
  {
   "cell_type": "code",
   "execution_count": 36,
   "id": "3685d1d0",
   "metadata": {},
   "outputs": [
    {
     "data": {
      "text/plain": [
       "(2, 3)"
      ]
     },
     "execution_count": 36,
     "metadata": {},
     "output_type": "execute_result"
    }
   ],
   "source": [
    "size(combos)"
   ]
  },
  {
   "cell_type": "markdown",
   "id": "bc9cfb0f",
   "metadata": {},
   "source": [
    "### combo-breaker research"
   ]
  },
  {
   "cell_type": "code",
   "execution_count": 37,
   "id": "f4a10bc5",
   "metadata": {},
   "outputs": [
    {
     "data": {
      "text/plain": [
       "3-element Vector{Spud}:\n",
       " Spud(\"j_Dancer d_80\", 3, 1, 3, 2, 1, 4, 999)\n",
       " Spud(\"j_Monk d_37\", 3, 3, 1, 1, 4, 3, 999)\n",
       " Spud(\"j_Brawler d_87\", 2, 1, 4, 3, 3, 2, 999)"
      ]
     },
     "execution_count": 37,
     "metadata": {},
     "output_type": "execute_result"
    }
   ],
   "source": [
    "as = combos[1,:]\n",
    "as"
   ]
  },
  {
   "cell_type": "code",
   "execution_count": 38,
   "id": "3512ca0f",
   "metadata": {},
   "outputs": [
    {
     "name": "stdout",
     "output_type": "stream",
     "text": [
      "1\n",
      "[1, -1, -1]\n"
     ]
    },
    {
     "data": {
      "text/plain": [
       "-0.08315391043029075"
      ]
     },
     "execution_count": 38,
     "metadata": {},
     "output_type": "execute_result"
    }
   ],
   "source": [
    "println(maximum([eval_battle_list(ff, as) for ff in lib]))\n",
    "b = Spud(\"breaker\",1,5,1,4,1,1,ability_your_R_their_S)\n",
    "println([eval_battle(b, ff) for ff in as])\n",
    "eval_battle_list2(b, ne, wn)"
   ]
  },
  {
   "cell_type": "code",
   "execution_count": null,
   "id": "f5569b8d",
   "metadata": {},
   "outputs": [],
   "source": []
  }
 ],
 "metadata": {
  "kernelspec": {
   "display_name": "Julia 1.9.3",
   "language": "julia",
   "name": "julia-1.9"
  },
  "language_info": {
   "file_extension": ".jl",
   "mimetype": "application/julia",
   "name": "julia",
   "version": "1.9.3"
  }
 },
 "nbformat": 4,
 "nbformat_minor": 5
}

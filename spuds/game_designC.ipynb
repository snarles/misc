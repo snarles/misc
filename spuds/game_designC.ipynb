{
 "cells": [
  {
   "cell_type": "markdown",
   "id": "052be005",
   "metadata": {},
   "source": [
    "Design of a new game, Spuds"
   ]
  },
  {
   "cell_type": "code",
   "execution_count": 1,
   "id": "494818e8",
   "metadata": {},
   "outputs": [],
   "source": [
    "using Random\n",
    "using DataFrames\n",
    "using CSV\n",
    "using DelimitedFiles\n",
    "using Statistics\n",
    "using Printf\n",
    "using LinearAlgebra\n",
    "using Dates"
   ]
  },
  {
   "cell_type": "code",
   "execution_count": 2,
   "id": "1e1008a1",
   "metadata": {},
   "outputs": [
    {
     "data": {
      "text/plain": [
       "cost (generic function with 1 method)"
      ]
     },
     "execution_count": 2,
     "metadata": {},
     "output_type": "execute_result"
    }
   ],
   "source": [
    "struct Spud\n",
    "    name::String\n",
    "    h::Int64\n",
    "    f::Int64\n",
    "    l::Int64\n",
    "    p::Int64\n",
    "    r::Int64\n",
    "    s::Int64\n",
    "end\n",
    "\n",
    "const MXS = 100\n",
    "const MXV = 20\n",
    "const MNV = 1\n",
    "\n",
    "function cost(h::Int64, f::Int64, l::Int64, p::Int64, r::Int64, s::Int64)::Int64\n",
    "    #return h*(f+l-2*MNV) + f*(p+r+s-3*MNV) + h+f+l+p+r+s-6*MNV\n",
    "    return h*(f+l) + f*(p+r+s)\n",
    "end"
   ]
  },
  {
   "cell_type": "code",
   "execution_count": 3,
   "id": "ac830f74",
   "metadata": {},
   "outputs": [
    {
     "data": {
      "text/plain": [
       "eval_battle (generic function with 1 method)"
      ]
     },
     "execution_count": 3,
     "metadata": {},
     "output_type": "execute_result"
    }
   ],
   "source": [
    "function compare_int_list(as::Vector{Int64}, bs::Vector{Int64}, tiebreaker::Int64 = 0)::Int64\n",
    "    n = min(length(as), length(bs))\n",
    "    for i in 1:n\n",
    "        if as[i] != bs[i]\n",
    "            return sign(as[i] - bs[i])\n",
    "        end\n",
    "    end\n",
    "    return tiebreaker\n",
    "end\n",
    "\n",
    "function spud_h_seq(a::Spud)::Vector{Int64}\n",
    "    return [a.h, a.s, a.r, a.p, a.l, a.f]\n",
    "end\n",
    "\n",
    "function spud_f_seq(a::Spud)::Vector{Int64}\n",
    "    return [a.f, a.r, a.s, a.p, a.l, a.h]\n",
    "end\n",
    "\n",
    "function spud_l_seq(a::Spud)::Vector{Int64}\n",
    "    return [a.l, a.p]\n",
    "end\n",
    "\n",
    "function spud_p_seq(a::Spud)::Vector{Int64}\n",
    "    return [a.p, a.l]\n",
    "end\n",
    "\n",
    "function spud_r_seq(a::Spud)::Vector{Int64}\n",
    "    return [a.r, a.f]\n",
    "end\n",
    "\n",
    "function spud_s_seq(a::Spud)::Vector{Int64}\n",
    "    return [a.s, a.h]\n",
    "end\n",
    "\n",
    "function eval_finds(a::Spud, b::Spud, tiebreaker::Int64 = 0)::Int64\n",
    "    ev = compare_int_list(spud_f_seq(a), spud_h_seq(b), tiebreaker)\n",
    "    ans = ev\n",
    "end\n",
    "\n",
    "function eval_melee(a::Spud, b::Spud, tiebreaker1::Int64 = 0, tiebreaker2::Int64 = 0)::Int64\n",
    "    comp_p = compare_int_list(spud_p_seq(a), spud_p_seq(b), tiebreaker1)\n",
    "    comp_r = compare_int_list(spud_r_seq(a), spud_r_seq(b), tiebreaker1)\n",
    "    comp_s = compare_int_list(spud_s_seq(a), spud_s_seq(b), tiebreaker1)\n",
    "    ev = 4 * comp_p + 3 * comp_r + 2 * comp_s\n",
    "    return ev + (1-abs(ev))*tiebreaker2\n",
    "end\n",
    "\n",
    "function eval_battle(a::Spud, b::Spud)::Int64\n",
    "    utb = 0 # universal tiebreaker\n",
    "    comp_h = compare_int_list(spud_h_seq(a), spud_h_seq(b), utb)\n",
    "    comp_f = compare_int_list(spud_h_seq(a), spud_h_seq(b), utb)\n",
    "    comp_l = compare_int_list(spud_h_seq(a), spud_h_seq(b), utb)\n",
    "    comp_p = compare_int_list(spud_h_seq(a), spud_h_seq(b), utb)\n",
    "    comp_r = compare_int_list(spud_h_seq(a), spud_h_seq(b), utb)\n",
    "    comp_s = compare_int_list(spud_h_seq(a), spud_h_seq(b), utb)\n",
    "    a_finds = eval_finds(a, b, utb)==1\n",
    "    b_finds = eval_finds(b, a, utb)==1\n",
    "    melee_win = eval_melee(a, b, 0, utb)\n",
    "    if a_finds && b_finds\n",
    "        return compare_int_list([melee_win, a.l, a.h], [-melee_win, b.l, b.h], utb)\n",
    "    end\n",
    "    if a_finds && !b_finds\n",
    "        return 1\n",
    "    end\n",
    "    if !a_finds && b_finds\n",
    "        return -1\n",
    "    end\n",
    "    if !a_finds && !b_finds\n",
    "        return compare_int_list([a.l, melee_win, a.f], [b.l, -melee_win, b.f], utb)\n",
    "    end\n",
    "end"
   ]
  },
  {
   "cell_type": "code",
   "execution_count": 4,
   "id": "40b9dc47",
   "metadata": {},
   "outputs": [
    {
     "data": {
      "text/plain": [
       "random_name_and_stat (generic function with 1 method)"
      ]
     },
     "execution_count": 4,
     "metadata": {},
     "output_type": "execute_result"
    }
   ],
   "source": [
    "tab = CSV.read(\"census_yob2022_names.txt\", DataFrame, header = false)\n",
    "names = tab.Column1\n",
    "adjectives = CSV.read(\"adjectives.csv\", DataFrame)\n",
    "nouns = CSV.read(\"nouns.csv\", DataFrame)\n",
    "jobs = CSV.read(\"jobs.csv\", DataFrame)\n",
    "\n",
    "const mult_noun = 1\n",
    "const mult_adj = 2\n",
    "const mult_job = 3\n",
    "\n",
    "\n",
    "function random_name_and_stat()::Spud\n",
    "    vp = [0, 0, 0, 0, 0, 0]\n",
    "    #nametype = rand([1,1,1,1,1,2,2,2,3])\n",
    "    name = \"\"\n",
    "    noun = \"\"\n",
    "    adj = \"\"\n",
    "    noun_i = rand(1:nrow(nouns))\n",
    "    noun = nouns[noun_i, :noun]\n",
    "    vp[1] = vp[1] + nouns[noun_i, :H] * mult_noun\n",
    "    vp[2] = vp[2] + nouns[noun_i, :F] * mult_noun\n",
    "    vp[3] = vp[3] + nouns[noun_i, :L] * mult_noun\n",
    "    vp[4] = vp[4] + nouns[noun_i, :P] * mult_noun\n",
    "    vp[5] = vp[5] + nouns[noun_i, :R] * mult_noun\n",
    "    vp[6] = vp[6] + nouns[noun_i, :S] * mult_noun\n",
    "    adj_i = rand(1:nrow(adjectives))\n",
    "    adj = adjectives[adj_i, :adjective]\n",
    "    vp[1] = vp[1] + adjectives[adj_i, :H] * mult_adj\n",
    "    vp[2] = vp[2] + adjectives[adj_i, :F] * mult_adj\n",
    "    vp[3] = vp[3] + adjectives[adj_i, :L] * mult_adj\n",
    "    vp[4] = vp[4] + adjectives[adj_i, :P] * mult_adj\n",
    "    vp[5] = vp[5] + adjectives[adj_i, :R] * mult_adj\n",
    "    vp[6] = vp[6] + adjectives[adj_i, :S] * mult_adj\n",
    "    job_i = rand(1:nrow(jobs))\n",
    "    job = jobs[job_i, :job]\n",
    "    vp[1] = vp[1] + jobs[job_i, :H] * mult_job\n",
    "    vp[2] = vp[2] + jobs[job_i, :F] * mult_job\n",
    "    vp[3] = vp[3] + jobs[job_i, :L] * mult_job\n",
    "    vp[4] = vp[4] + jobs[job_i, :P] * mult_job\n",
    "    vp[5] = vp[5] + jobs[job_i, :R] * mult_job\n",
    "    vp[6] = vp[6] + jobs[job_i, :S] * mult_job\n",
    "    name = string(adj, \" \", job, \" \", noun)\n",
    "    Spud(name, vp[1], vp[2], vp[3], vp[4], vp[5], vp[6])\n",
    "end"
   ]
  },
  {
   "cell_type": "code",
   "execution_count": 5,
   "id": "f606e085",
   "metadata": {},
   "outputs": [
    {
     "data": {
      "text/plain": [
       "rand_rename (generic function with 2 methods)"
      ]
     },
     "execution_count": 5,
     "metadata": {},
     "output_type": "execute_result"
    }
   ],
   "source": [
    "function rand_rename(a::Spud, n_tries::Int = 100)::Spud\n",
    "    best_score = 0.0\n",
    "    best_b = random_name_and_stat()\n",
    "    for ii in 1:n_tries\n",
    "        b = random_name_and_stat()\n",
    "        b_norm = sqrt(b.h^2 + b.f^2 + b.l^2 + b.p^2 + b.r^2 + b.s^2)\n",
    "        score = (a.h * b.h + a.f * b.f + a.l * b.l + a.p * b.p + a.r * b.r + a.s * b.s)/b_norm\n",
    "        if score > best_score\n",
    "            best_score = score\n",
    "            best_b = b\n",
    "        end\n",
    "    end\n",
    "    return Spud(best_b.name, a.h, a.f, a.l, a.p, a.r, a.s)\n",
    "end"
   ]
  },
  {
   "cell_type": "code",
   "execution_count": 6,
   "id": "560e9539",
   "metadata": {},
   "outputs": [
    {
     "data": {
      "text/plain": [
       "cost (generic function with 2 methods)"
      ]
     },
     "execution_count": 6,
     "metadata": {},
     "output_type": "execute_result"
    }
   ],
   "source": [
    "function eval_battle_list(a::Spud, bs::Array{Spud})::Int\n",
    "    score = 0\n",
    "    for ii in 1:length(bs)\n",
    "        score = score + eval_battle(a, bs[ii])\n",
    "    end\n",
    "    return score\n",
    "end\n",
    "\n",
    "function eval_battle_list2(a::Spud, bs::Array{Spud}, w::Vector{Float64})::AbstractFloat\n",
    "    score = 0.0\n",
    "    for ii in 1:length(bs)\n",
    "        score = score + w[ii] * eval_battle(a, bs[ii])\n",
    "    end\n",
    "    return score\n",
    "end\n",
    "\n",
    "\n",
    "function pick_best(as::Array{Spud}, bs::Array{Spud})::Spud\n",
    "    bestscore = -999\n",
    "    bestf = as[1]\n",
    "    for ii in 1:length(as)\n",
    "        score = eval_battle_list(as[ii], bs)\n",
    "        if score > bestscore\n",
    "            bestscore = score\n",
    "            bestf = as[ii]\n",
    "        end\n",
    "    end\n",
    "    return bestf\n",
    "end\n",
    "\n",
    "function pick_best_rdmly(as::Array{Spud}, bs::Array{Spud}, ntries::Int)::Spud\n",
    "    bestscore = -999\n",
    "    bestf = rand(as)\n",
    "    for ii in 1:ntries\n",
    "        f = rand(as)\n",
    "        score = eval_battle_list(f, bs)\n",
    "        if score > bestscore\n",
    "            bestscore = score\n",
    "            bestf = f\n",
    "        end\n",
    "    end\n",
    "    return bestf\n",
    "end\n",
    "\n",
    "function pick_best_rdmly_g(g::Function, bs::Array{Spud}, ntries::Int)::Spud\n",
    "    bestscore = -999\n",
    "    bestf = g()\n",
    "    for ii in 1:ntries\n",
    "        f = g()\n",
    "        score = eval_battle_list(f, bs)\n",
    "        if score > bestscore\n",
    "            bestscore = score\n",
    "            bestf = f\n",
    "        end\n",
    "    end\n",
    "    return bestf\n",
    "end\n",
    "\n",
    "function spuds_to_df(as::Array{Spud})::DataFrame\n",
    "    names = Array{String}(undef, length(as))\n",
    "    hs = Array{Int}(undef, length(as))\n",
    "    fs = Array{Int}(undef, length(as))\n",
    "    ls = Array{Int}(undef, length(as))\n",
    "    ps = Array{Int}(undef, length(as))\n",
    "    rs = Array{Int}(undef, length(as))\n",
    "    ss = Array{Int}(undef, length(as))\n",
    "    for ii in 1:length(as)\n",
    "        names[ii] = as[ii].name\n",
    "        hs[ii] = as[ii].h\n",
    "        fs[ii] = as[ii].f\n",
    "        ls[ii] = as[ii].l\n",
    "        ps[ii] = as[ii].p\n",
    "        rs[ii] = as[ii].r\n",
    "        ss[ii] = as[ii].s\n",
    "    end\n",
    "    df = DataFrame(name = names, h = hs, f = fs, l = ls, p = ps, r = rs, s = ss)\n",
    "    return df\n",
    "end\n",
    "\n",
    "function fpart(x::AbstractFloat)::AbstractFloat\n",
    "  return x - trunc(x)\n",
    "end\n",
    "\n",
    "function eval_team_battle(as::Array{Spud}, bs::Array{Spud})::Int\n",
    "    a_i = 1\n",
    "    b_i = 1\n",
    "    while (a_i <= length(as)) && (b_i <= length(bs))\n",
    "        res = eval_battle(as[a_i], bs[b_i])\n",
    "        if res == 1\n",
    "            b_i = b_i + 1\n",
    "        else\n",
    "            a_i = a_i + 1\n",
    "            if res == 0\n",
    "                b_i = b_i + 1\n",
    "            end\n",
    "        end\n",
    "    end\n",
    "    a_out = (a_i > length(as))\n",
    "    b_out = (b_i > length(as))\n",
    "    if a_out\n",
    "        if b_out\n",
    "            return 0\n",
    "        else\n",
    "            return -1\n",
    "        end\n",
    "    else\n",
    "        return 1\n",
    "    end\n",
    "end\n",
    "\n",
    "function compare_generator(f1, f2, limit)\n",
    "    a_i = 1\n",
    "    b_i = 1\n",
    "    f_a = f1()\n",
    "    f_b = f2()\n",
    "    while (a_i < limit) && (b_i < limit)\n",
    "        res = eval_battle(f_a, f_b)\n",
    "        if res != -1\n",
    "            b_i = b_i + 1\n",
    "            f_b = f2()\n",
    "        end\n",
    "        if res != 1\n",
    "            a_i = a_i + 1\n",
    "            f_a = f1()\n",
    "        end\n",
    "    end\n",
    "    return (a_i/limit, b_i/limit)\n",
    "end\n",
    "\n",
    "function random_team(f::Function, team_size::Int)::Array{Spud}\n",
    "    team = Array{Spud}(undef, team_size)\n",
    "    for i in 1:team_size\n",
    "        team[i] = f()\n",
    "    end\n",
    "    return team\n",
    "end\n",
    "\n",
    "function df_to_spuds(df::DataFrame)::Array{Spud}\n",
    "    n = size(df)[1]\n",
    "    as = Array{Spud}(undef, n)\n",
    "    for i in 1:n\n",
    "        as[i] = Spud(df[i, :name], df[i, :h], df[i, :f], df[i, :l], df[i, :p], df[i, :r], df[i, :s])\n",
    "    end\n",
    "    return as\n",
    "end\n",
    "\n",
    "function cost(a::Spud)::Int64\n",
    "    return cost(a.h, a.f, a.l, a.p, a.r, a.s)\n",
    "end"
   ]
  },
  {
   "cell_type": "code",
   "execution_count": 7,
   "id": "bd2b243d",
   "metadata": {},
   "outputs": [
    {
     "data": {
      "text/plain": [
       "pick_best_library (generic function with 1 method)"
      ]
     },
     "execution_count": 7,
     "metadata": {},
     "output_type": "execute_result"
    }
   ],
   "source": [
    "function upgrade_spud(sp::Spud)::Spud\n",
    "    h = sp.h\n",
    "    f = sp.f\n",
    "    l = sp.l\n",
    "    p = sp.p\n",
    "    r = sp.r\n",
    "    s = sp.s    \n",
    "    check_h = (h == MXV) || (cost(h+1,f,l,p,r,s) > MXS)\n",
    "    check_f = (f == MXV) || (cost(h,f+1,l,p,r,s) > MXS)\n",
    "    check_l = (l == MXV) || (cost(h,f,l+1,p,r,s) > MXS)\n",
    "    check_prs = (p+r+s == 3*MXV) || (cost(h,f,l,p+1,r,s) > MXS)\n",
    "    while !(check_h && check_f && check_l && check_prs)\n",
    "        rand_i = rand(1:4)\n",
    "        if rand_i == 1 && !check_h\n",
    "            h = h+1\n",
    "        end\n",
    "        if rand_i == 2 && !check_f\n",
    "            f = f+1\n",
    "        end\n",
    "        if rand_i == 3 && !check_l\n",
    "            l = l+1\n",
    "        end\n",
    "        if rand_i == 4 && !check_prs\n",
    "            rand_j = rand([1,1,1,1,1,2,2,2,2,3,3,3])\n",
    "            if rand_j == 1 && p <= MXV\n",
    "                p += 1\n",
    "            end\n",
    "            if rand_j == 2 && r <= MXV\n",
    "                r += 1\n",
    "            end\n",
    "            if rand_j == 3 && s <= MXV\n",
    "                s += 1\n",
    "            end\n",
    "        end            \n",
    "        check_h = (h == MXV) || (cost(h+1,f,l,p,r,s) > MXS)\n",
    "        check_f = (f == MXV) || (cost(h,f+1,l,p,r,s) > MXS)\n",
    "        check_l = (l == MXV) || (cost(h,f,l+1,p,r,s) > MXS)\n",
    "        check_prs = (p+r+s == 3*MXV) || (cost(h,f,l,p+1,r,s) > MXS)\n",
    "    end\n",
    "    return Spud(sp.name, h, f, l, p, r, s)\n",
    "end\n",
    "\n",
    "\n",
    "\n",
    "function pick_best_library(bs::Array{Spud})::Spud\n",
    "    bestscore = -999\n",
    "    bestf = Spud(\"\",MNV,MNV,MNV,MNV,MNV,MNV)\n",
    "    df = spuds_to_df(bs)\n",
    "    hrange = vcat([MNV], df.h, df.h .+ 1, df.f, df.f .+ 1)\n",
    "    frange = vcat([MNV], df.f, df.f .+ 1, df.h, df.h .+ 1)\n",
    "    lrange = vcat([MNV], df.l, df.l .+ 1)\n",
    "    prange = vcat([MNV], df.p, df.p .+ 1)\n",
    "    rrange = vcat([MNV], df.r, df.r .+ 1, df.s, df.s .+ 1)\n",
    "    srange = rrange\n",
    "    hrange = sort(unique(hrange))\n",
    "    frange = sort(unique(frange))\n",
    "    lrange = sort(unique(lrange))\n",
    "    prange = sort(unique(prange))\n",
    "    rrange = sort(unique(rrange))\n",
    "    srange = sort(unique(srange))\n",
    "    for h in hrange\n",
    "        if (cost(h, MNV, MNV, MNV, MNV, MNV) <= MXS)\n",
    "            for f in frange\n",
    "                if (cost(h, f, MNV, MNV, MNV, MNV) <= MXS)\n",
    "                    for l in lrange\n",
    "                        if (cost(h, f, l, MNV, MNV, MNV) <= MXS)\n",
    "                            for p in prange\n",
    "                                if (cost(h, f, l, p, MNV, MNV) <= MXS)\n",
    "                                    for r in rrange\n",
    "                                        if (cost(h, f, l, p, r, MNV) <= MXS)\n",
    "                                            for s in srange\n",
    "                                                if (cost(h,f,l,p,r,s) <= MXS)\n",
    "                                                    ff = Spud(\"\",h,f,l,p,r,s)\n",
    "                                                    score = eval_battle_list(ff, bs)\n",
    "                                                    if score > bestscore\n",
    "                                                        bestscore = score\n",
    "                                                        bestf = ff\n",
    "                                                    end\n",
    "                                                end\n",
    "                                            end\n",
    "                                        end\n",
    "                                    end                        \n",
    "                                end\n",
    "                            end                        \n",
    "                        end\n",
    "                    end\n",
    "                end\n",
    "            end\n",
    "        end\n",
    "    end\n",
    "    return upgrade_spud(bestf)\n",
    "end\n",
    "\n"
   ]
  },
  {
   "cell_type": "code",
   "execution_count": 8,
   "id": "7b4f703b",
   "metadata": {},
   "outputs": [
    {
     "data": {
      "text/plain": [
       "pick_best_library2 (generic function with 1 method)"
      ]
     },
     "execution_count": 8,
     "metadata": {},
     "output_type": "execute_result"
    }
   ],
   "source": [
    "function pick_best_library2(bs::Array{Spud}, w::Vector{Float64})::Spud\n",
    "    bestscore = -999.9\n",
    "    bestf = Spud(\"\",MNV,MNV,MNV,MNV,MNV,MNV)\n",
    "    df = spuds_to_df(bs)\n",
    "    hrange = vcat([MNV], df.h, df.h .+ 1, df.f, df.f .+ 1)\n",
    "    frange = vcat([MNV], df.f, df.f .+ 1, df.h, df.h .+ 1)\n",
    "    lrange = vcat([MNV], df.l, df.l .+ 1)\n",
    "    prange = vcat([MNV], df.p, df.p .+ 1)\n",
    "    rrange = vcat([MNV], df.r, df.r .+ 1, df.s, df.s .+ 1)\n",
    "    srange = rrange\n",
    "    hrange = sort(unique(hrange))\n",
    "    frange = sort(unique(frange))\n",
    "    lrange = sort(unique(lrange))\n",
    "    prange = sort(unique(prange))\n",
    "    rrange = sort(unique(rrange))\n",
    "    srange = sort(unique(srange))\n",
    "    for h in hrange\n",
    "        if (cost(h, MNV, MNV, MNV, MNV, MNV) <= MXS)\n",
    "            for f in frange\n",
    "                if (cost(h, f, MNV, MNV, MNV, MNV) <= MXS)\n",
    "                    for l in lrange\n",
    "                        if (cost(h, f, l, MNV, MNV, MNV) <= MXS)\n",
    "                            for p in prange\n",
    "                                if (cost(h, f, l, p, MNV, MNV) <= MXS)\n",
    "                                    for r in rrange\n",
    "                                        if (cost(h, f, l, p, r, MNV) <= MXS)\n",
    "                                            for s in srange\n",
    "                                                if (cost(h,f,l,p,r,s) <= MXS)\n",
    "                                                    ff = Spud(\"\",h,f,l,p,r,s)\n",
    "                                                    score = eval_battle_list2(ff, bs, w) + 0.00001 * rand()\n",
    "                                                    if score > bestscore\n",
    "                                                        bestscore = score\n",
    "                                                        bestf = ff\n",
    "                                                    end\n",
    "                                                end\n",
    "                                            end\n",
    "                                        end\n",
    "                                    end                        \n",
    "                                end\n",
    "                            end                        \n",
    "                        end\n",
    "                    end\n",
    "                end\n",
    "            end\n",
    "        end\n",
    "    end\n",
    "    return upgrade_spud(bestf)\n",
    "end"
   ]
  },
  {
   "cell_type": "code",
   "execution_count": 9,
   "id": "79126a50",
   "metadata": {},
   "outputs": [
    {
     "data": {
      "text/plain": [
       "subset_library (generic function with 1 method)"
      ]
     },
     "execution_count": 9,
     "metadata": {},
     "output_type": "execute_result"
    }
   ],
   "source": [
    "function subset_library(bs::Array{Spud}, n_hits::Int, w::Vector{Float64}, thres::Float64)::Array{Spud}\n",
    "    bestf = Array{Spud}(undef, n_hits)\n",
    "    evs = [-9.9 for i in 1:n_hits]\n",
    "    spud_i = 1\n",
    "    prev_spud_i = spud_i\n",
    "    df = spuds_to_df(bs)\n",
    "    best_score = 0.0\n",
    "    hrange = vcat([MNV], df.h, df.h .+ 1, df.f, df.f .+ 1)\n",
    "    frange = vcat([MNV], df.f, df.f .+ 1, df.h, df.h .+ 1)\n",
    "    lrange = vcat([MNV], df.l, df.l .+ 1)\n",
    "    prange = vcat([MNV], df.p, df.p .+ 1)\n",
    "    rrange = vcat([MNV], df.r, df.r .+ 1)\n",
    "    srange = vcat([MNV], df.s, df.s .+ 1)\n",
    "    hrange = sort(unique(hrange))\n",
    "    frange = sort(unique(frange))\n",
    "    lrange = sort(unique(lrange))\n",
    "    prange = sort(unique(prange))\n",
    "    rrange = sort(unique(rrange))\n",
    "    srange = sort(unique(srange))\n",
    "    overflow = 0\n",
    "    for h in hrange\n",
    "        if (cost(h, MNV, MNV, MNV, MNV, MNV) <= MXS)\n",
    "            for f in frange\n",
    "                if (cost(h, f, MNV, MNV, MNV, MNV) <= MXS)\n",
    "                    for l in lrange\n",
    "                        if (cost(h, f, l, MNV, MNV, MNV) <= MXS)\n",
    "                            for p in prange\n",
    "                                if (cost(h, f, l, p, MNV, MNV) <= MXS)\n",
    "                                    for r in rrange\n",
    "                                        if (cost(h, f, l, p, r, MNV) <= MXS)\n",
    "                                            for s in srange\n",
    "                                                if (cost(h,f,l,p,r,s) <= MXS)\n",
    "                                                    ff = Spud(\"\",h,f,l,p,r,s)\n",
    "                                                    score = eval_battle_list2(ff, bs, w)\n",
    "                                                    if score > best_score\n",
    "                                                        best_score = score\n",
    "                                                    end\n",
    "                                                    if score >= (best_score - thres)\n",
    "                                                        # find the first spud_i with ev less than best_score - thres\n",
    "                                                        if spud_i > n_hits\n",
    "                                                            spud_i = 1\n",
    "                                                            overflow = 1\n",
    "                                                        end\n",
    "                                                        ntries = 0\n",
    "                                                        while (evs[spud_i] >= best_score - thres)\n",
    "                                                            spud_i += 1\n",
    "                                                            ntries += 1\n",
    "                                                            if spud_i > n_hits\n",
    "                                                                spud_i = 1\n",
    "                                                                overflow = 1\n",
    "                                                            end\n",
    "                                                            if ntries > n_hits\n",
    "                                                                #println(\"Full buffer\")\n",
    "                                                                #println(best_score)\n",
    "                                                                #println(thres)\n",
    "                                                                #println(evs)\n",
    "                                                                if overflow==1\n",
    "                                                                    return unique(bestf[evs .>= best_score - thres])\n",
    "                                                                else\n",
    "                                                                    bestf = bestf[1:prev_spud_i]\n",
    "                                                                    evs = evs[1:prev_spud_i]\n",
    "                                                                    return unique(bestf[evs .>= best_score - thres])\n",
    "                                                                end\n",
    "                                                            end\n",
    "                                                        end\n",
    "                                                        bestf[spud_i] = upgrade_spud(ff)\n",
    "                                                        evs[spud_i] = score\n",
    "                                                        prev_spud_i = spud_i\n",
    "                                                        spud_i += 1\n",
    "                                                    end\n",
    "                                                end\n",
    "                                            end\n",
    "                                        end\n",
    "                                    end                        \n",
    "                                end\n",
    "                            end                        \n",
    "                        end\n",
    "                    end\n",
    "                end\n",
    "            end\n",
    "        end\n",
    "    end\n",
    "    println(best_score)\n",
    "    if overflow==1\n",
    "        return unique(bestf[evs .>= best_score - thres])\n",
    "    else\n",
    "        bestf = bestf[1:prev_spud_i]\n",
    "        evs = evs[1:prev_spud_i]\n",
    "        return unique(bestf[evs .>= best_score - thres])\n",
    "    end\n",
    "end"
   ]
  },
  {
   "cell_type": "code",
   "execution_count": 31,
   "id": "8534b5bb",
   "metadata": {},
   "outputs": [
    {
     "data": {
      "text/plain": [
       "Spud[]"
      ]
     },
     "execution_count": 31,
     "metadata": {},
     "output_type": "execute_result"
    }
   ],
   "source": [
    "# form initial library by initializing from other nash solution\n",
    "nash_env_df = DataFrame(CSV.File(\"spudsA_full_factor.csv\"))\n",
    "nash_env0 = df_to_spuds(nash_env_df)\n",
    "nash_env = Array{Spud}(undef, 0)"
   ]
  },
  {
   "cell_type": "code",
   "execution_count": 32,
   "id": "30a0469f",
   "metadata": {},
   "outputs": [
    {
     "data": {
      "text/plain": [
       "2738-element Vector{Spud}:\n",
       " Spud(\"\", 5, 7, 8, 1, 1, 1)\n",
       " Spud(\"\", 5, 8, 7, 1, 1, 1)\n",
       " Spud(\"\", 5, 11, 2, 1, 1, 1)\n",
       " Spud(\"\", 6, 5, 9, 1, 1, 1)\n",
       " Spud(\"\", 6, 7, 6, 1, 1, 1)\n",
       " Spud(\"\", 6, 10, 1, 1, 1, 1)\n",
       " Spud(\"\", 7, 3, 10, 1, 1, 1)\n",
       " Spud(\"\", 7, 5, 7, 1, 1, 1)\n",
       " Spud(\"\", 7, 7, 4, 1, 1, 1)\n",
       " Spud(\"\", 7, 9, 1, 1, 1, 1)\n",
       " Spud(\"\", 8, 4, 7, 1, 1, 1)\n",
       " Spud(\"\", 8, 8, 1, 1, 1, 1)\n",
       " Spud(\"\", 9, 6, 3, 1, 1, 1)\n",
       " ⋮\n",
       " Spud(\"\", 7, 1, 11, 5, 4, 7)\n",
       " Spud(\"\", 7, 1, 11, 5, 7, 4)\n",
       " Spud(\"\", 7, 1, 11, 4, 5, 7)\n",
       " Spud(\"\", 7, 1, 11, 4, 7, 5)\n",
       " Spud(\"\", 7, 1, 11, 7, 5, 4)\n",
       " Spud(\"\", 7, 1, 11, 7, 4, 5)\n",
       " Spud(\"\", 7, 1, 11, 10, 1, 5)\n",
       " Spud(\"\", 7, 1, 11, 10, 5, 1)\n",
       " Spud(\"\", 7, 1, 11, 1, 10, 5)\n",
       " Spud(\"\", 7, 1, 11, 1, 5, 10)\n",
       " Spud(\"\", 7, 1, 11, 5, 10, 1)\n",
       " Spud(\"\", 7, 1, 11, 5, 1, 10)"
      ]
     },
     "execution_count": 32,
     "metadata": {},
     "output_type": "execute_result"
    }
   ],
   "source": [
    "# get symmetric distribution for p, r, s\n",
    "for ff in nash_env0\n",
    "    append!(nash_env, [Spud(\"\", ff.h, ff.f, ff.l, ff.p, ff.r, ff.s)])\n",
    "    append!(nash_env, [Spud(\"\", ff.h, ff.f, ff.l, ff.p, ff.s, ff.r)])\n",
    "    append!(nash_env, [Spud(\"\", ff.h, ff.f, ff.l, ff.r, ff.p, ff.s)])\n",
    "    append!(nash_env, [Spud(\"\", ff.h, ff.f, ff.l, ff.r, ff.s, ff.p)])\n",
    "    append!(nash_env, [Spud(\"\", ff.h, ff.f, ff.l, ff.s, ff.p, ff.r)])\n",
    "    append!(nash_env, [Spud(\"\", ff.h, ff.f, ff.l, ff.s, ff.r, ff.p)])    \n",
    "end\n",
    "nash_env = unique(nash_env)"
   ]
  },
  {
   "cell_type": "code",
   "execution_count": 33,
   "id": "52daa014",
   "metadata": {},
   "outputs": [],
   "source": [
    "n_spuds = length(nash_env)\n",
    "# Check that there are no ties in spudland\n",
    "for iter in 1:10000\n",
    "    i = rand(1:n_spuds)\n",
    "    j = rand(1:n_spuds)\n",
    "    if i != j && eval_battle(nash_env[i], nash_env[j]) == 0\n",
    "        println(nash_env[i])\n",
    "        println(nash_env[j])\n",
    "        println()\n",
    "    end\n",
    "end"
   ]
  },
  {
   "cell_type": "markdown",
   "id": "4873490e",
   "metadata": {},
   "source": [
    "## Compute Nash env"
   ]
  },
  {
   "cell_type": "code",
   "execution_count": 34,
   "id": "010f3c57",
   "metadata": {},
   "outputs": [
    {
     "data": {
      "text/plain": [
       "ffp (generic function with 1 method)"
      ]
     },
     "execution_count": 34,
     "metadata": {},
     "output_type": "execute_result"
    }
   ],
   "source": [
    "function ffp(nash_env, nits)\n",
    "    n_nash = length(nash_env)\n",
    "    i_lose = Array{Int}(undef, (n_nash, n_nash))\n",
    "    n_lose = Array{Int}(undef, n_nash)\n",
    "    for i in 1:n_nash\n",
    "        n_lose[i] = 0\n",
    "        ff = nash_env[i]\n",
    "        for j in 1:n_nash\n",
    "            if eval_battle(ff, nash_env[j]) ==-1\n",
    "                n_lose[i] += 1\n",
    "                i_lose[i, n_lose[i]] = j\n",
    "            end\n",
    "        end\n",
    "    end\n",
    "    counts = [0 for i in 1:n_nash]\n",
    "    wins = [0 for i in 1:n_nash]\n",
    "    for i in 1:n_nash\n",
    "        counts[i] += 1\n",
    "        for j in 1:n_lose[i]\n",
    "            i_w = i_lose[i, j]\n",
    "            wins[i_w]+= 1\n",
    "        end\n",
    "    end\n",
    "    for iter in 1:nits\n",
    "        wc = 2 .* wins .+ counts\n",
    "        ind_winners = findall(wc .== maximum(wc))\n",
    "        i = rand(ind_winners)\n",
    "        counts[i] += 1\n",
    "        for j in 1:n_lose[i]\n",
    "            i_w = i_lose[i, j]\n",
    "            wins[i_w]+= 1\n",
    "        end\n",
    "    end\n",
    "    return counts\n",
    "end\n"
   ]
  },
  {
   "cell_type": "code",
   "execution_count": 35,
   "id": "fcd27346",
   "metadata": {},
   "outputs": [
    {
     "name": "stdout",
     "output_type": "stream",
     "text": [
      " 38.336073 seconds (182.61 M allocations: 41.732 GiB, 17.66% gc time, 0.54% compilation time)\n"
     ]
    },
    {
     "data": {
      "text/plain": [
       "2738-element Vector{Int64}:\n",
       "     1\n",
       "     1\n",
       " 25349\n",
       "     1\n",
       "     1\n",
       "   777\n",
       "     1\n",
       "     1\n",
       "   161\n",
       "  3692\n",
       "     1\n",
       "     1\n",
       "  5794\n",
       "     ⋮\n",
       "     1\n",
       "  3298\n",
       "  5890\n",
       "   969\n",
       "    33\n",
       "     1\n",
       "     1\n",
       "     1\n",
       "    97\n",
       "     1\n",
       "     1\n",
       "     1"
      ]
     },
     "execution_count": 35,
     "metadata": {},
     "output_type": "execute_result"
    }
   ],
   "source": [
    "@time counts = ffp(nash_env, 1000000)"
   ]
  },
  {
   "cell_type": "code",
   "execution_count": 36,
   "id": "3745e25f",
   "metadata": {},
   "outputs": [],
   "source": [
    "counts0 = counts;"
   ]
  },
  {
   "cell_type": "code",
   "execution_count": 37,
   "id": "48943e62",
   "metadata": {},
   "outputs": [
    {
     "data": {
      "text/plain": [
       "520-element Vector{Int64}:\n",
       " 25349\n",
       "   777\n",
       "   161\n",
       "  3692\n",
       "  5794\n",
       "   228\n",
       "  3072\n",
       "  2107\n",
       "  5105\n",
       " 12850\n",
       "  2108\n",
       "  3983\n",
       "  8748\n",
       "     ⋮\n",
       "    48\n",
       "  2346\n",
       "  1127\n",
       "  1400\n",
       "  1270\n",
       "   111\n",
       "   214\n",
       "  3298\n",
       "  5890\n",
       "   969\n",
       "    33\n",
       "    97"
      ]
     },
     "execution_count": 37,
     "metadata": {},
     "output_type": "execute_result"
    }
   ],
   "source": [
    "nash_env2 = nash_env[counts .> 1]\n",
    "counts2 = counts[counts .> 1]"
   ]
  },
  {
   "cell_type": "code",
   "execution_count": 38,
   "id": "a51563f4",
   "metadata": {},
   "outputs": [
    {
     "data": {
      "text/plain": [
       "520-element Vector{Spud}:\n",
       " Spud(\"c25349\", 5, 11, 2, 1, 1, 1)\n",
       " Spud(\"c777\", 6, 10, 1, 1, 1, 1)\n",
       " Spud(\"c161\", 7, 7, 4, 1, 1, 1)\n",
       " Spud(\"c3692\", 7, 9, 1, 1, 1, 1)\n",
       " Spud(\"c5794\", 9, 6, 3, 1, 1, 1)\n",
       " Spud(\"c228\", 11, 4, 4, 1, 1, 1)\n",
       " Spud(\"c3072\", 4, 7, 11, 1, 1, 2)\n",
       " Spud(\"c2107\", 4, 11, 3, 1, 2, 1)\n",
       " Spud(\"c5105\", 4, 11, 3, 1, 1, 2)\n",
       " Spud(\"c12850\", 4, 12, 1, 2, 1, 1)\n",
       " Spud(\"c2108\", 4, 12, 1, 1, 1, 2)\n",
       " Spud(\"c3983\", 5, 10, 2, 2, 1, 1)\n",
       " Spud(\"c8748\", 5, 10, 2, 1, 2, 1)\n",
       " ⋮\n",
       " Spud(\"c48\", 6, 1, 13, 1, 10, 5)\n",
       " Spud(\"c2346\", 7, 1, 11, 1, 9, 6)\n",
       " Spud(\"c1127\", 7, 1, 11, 2, 6, 8)\n",
       " Spud(\"c1400\", 7, 1, 11, 2, 8, 6)\n",
       " Spud(\"c1270\", 7, 1, 11, 3, 8, 5)\n",
       " Spud(\"c111\", 7, 1, 11, 5, 8, 3)\n",
       " Spud(\"c214\", 7, 1, 11, 3, 6, 7)\n",
       " Spud(\"c3298\", 7, 1, 11, 5, 7, 4)\n",
       " Spud(\"c5890\", 7, 1, 11, 4, 5, 7)\n",
       " Spud(\"c969\", 7, 1, 11, 4, 7, 5)\n",
       " Spud(\"c33\", 7, 1, 11, 7, 5, 4)\n",
       " Spud(\"c97\", 7, 1, 11, 1, 10, 5)"
      ]
     },
     "execution_count": 38,
     "metadata": {},
     "output_type": "execute_result"
    }
   ],
   "source": [
    "for i in 1:length(nash_env2)\n",
    "    ff = nash_env2[i]\n",
    "    nash_env2[i] = Spud(string(\"c\", counts2[i]), ff.h, ff.f, ff.l, ff.p, ff.r, ff.s)\n",
    "end\n",
    "nash_env2"
   ]
  },
  {
   "cell_type": "code",
   "execution_count": 39,
   "id": "94a06395",
   "metadata": {},
   "outputs": [
    {
     "data": {
      "text/plain": [
       "\"temp_spudsC.csv\""
      ]
     },
     "execution_count": 39,
     "metadata": {},
     "output_type": "execute_result"
    }
   ],
   "source": [
    "CSV.write(\"temp_spudsC.csv\", spuds_to_df(nash_env2[sortperm(-counts2)]))"
   ]
  },
  {
   "cell_type": "code",
   "execution_count": 40,
   "id": "7bc4cf3e",
   "metadata": {},
   "outputs": [
    {
     "name": "stdout",
     "output_type": "stream",
     "text": [
      "427.869387 seconds (5.96 G allocations: 566.453 GiB, 21.75% gc time)\n"
     ]
    },
    {
     "data": {
      "text/plain": [
       "Spud(\"\", 3, 2, 18, 1, 10, 9)"
      ]
     },
     "execution_count": 40,
     "metadata": {},
     "output_type": "execute_result"
    }
   ],
   "source": [
    "@time ff = pick_best_library2(nash_env2, counts2./sum(counts2))"
   ]
  },
  {
   "cell_type": "code",
   "execution_count": 41,
   "id": "00cf21f3",
   "metadata": {},
   "outputs": [
    {
     "data": {
      "text/plain": [
       "0.21641746291928243"
      ]
     },
     "execution_count": 41,
     "metadata": {},
     "output_type": "execute_result"
    }
   ],
   "source": [
    "eval_battle_list2(ff, nash_env2, counts2./sum(counts2))"
   ]
  },
  {
   "cell_type": "markdown",
   "id": "4516f34e",
   "metadata": {},
   "source": [
    "## Fictitious play"
   ]
  },
  {
   "cell_type": "code",
   "execution_count": 65,
   "id": "0876151c",
   "metadata": {},
   "outputs": [],
   "source": [
    "#nash_env = nash_env2;"
   ]
  },
  {
   "cell_type": "code",
   "execution_count": 42,
   "id": "9ed3eb14",
   "metadata": {},
   "outputs": [
    {
     "name": "stdout",
     "output_type": "stream",
     "text": [
      "09:53\n",
      "1:"
     ]
    },
    {
     "ename": "LoadError",
     "evalue": "InterruptException:",
     "output_type": "error",
     "traceback": [
      "InterruptException:",
      "",
      "Stacktrace:",
      "  [1] Array",
      "    @ ./boot.jl:477 [inlined]",
      "  [2] Array",
      "    @ ./boot.jl:486 [inlined]",
      "  [3] similar",
      "    @ ./abstractarray.jl:884 [inlined]",
      "  [4] similar",
      "    @ ./abstractarray.jl:883 [inlined]",
      "  [5] _array_for",
      "    @ ./array.jl:671 [inlined]",
      "  [6] _array_for",
      "    @ ./array.jl:674 [inlined]",
      "  [7] vect",
      "    @ ./array.jl:126 [inlined]",
      "  [8] spud_f_seq",
      "    @ ./In[3]:16 [inlined]",
      "  [9] eval_finds(a::Spud, b::Spud, tiebreaker::Int64)",
      "    @ Main ./In[3]:36",
      " [10] eval_battle(a::Spud, b::Spud)",
      "    @ Main ./In[3]:57",
      " [11] eval_battle_list2",
      "    @ ./In[6]:12 [inlined]",
      " [12] pick_best_library2(bs::Vector{Spud}, w::Vector{Float64})",
      "    @ Main ./In[8]:30",
      " [13] macro expansion",
      "    @ ./timing.jl:273 [inlined]",
      " [14] top-level scope",
      "    @ ./In[42]:12"
     ]
    }
   ],
   "source": [
    "nits = 1000000\n",
    "#tol = 0.01\n",
    "wthres = 0.0005\n",
    "println(Dates.format(now(), \"HH:MM\"))\n",
    "for ii in 1:5\n",
    "    #println()\n",
    "    print(ii)\n",
    "    print(\":\")\n",
    "    counts = ffp(nash_env, nits)\n",
    "    w = counts./sum(counts)\n",
    "    #println(maximum([eval_battle_list2(ff, nash_env, counts./sum(counts)) for ff in nash_env]))\n",
    "    @time ff = rand_rename(pick_best_library2(nash_env, w))\n",
    "    ev = eval_battle_list2(ff, nash_env, w)\n",
    "    println(ev)\n",
    "    append!(nash_env, [ff])\n",
    "    println(ff)\n",
    "    #@time bestf = subset_library(nash_env[w .> wthres], 900, w[w .> wthres], tol)\n",
    "    #println(length(bestf))\n",
    "    #cc = ffp(bestf, 100000)\n",
    "    #println(maximum(cc))\n",
    "    #ff2 = rand_rename(bestf[cc .== maximum(cc)][1])\n",
    "    #println(ff2)\n",
    "    #println(eval_battle_list2(ff2, nash_env, counts./sum(counts)))\n",
    "    #append!(nash_env, [ff2])\n",
    "end\n",
    "println()\n",
    "println(Dates.format(now(), \"HH:MM\"))\n",
    "counts = ffp(nash_env, nits)\n",
    "println(maximum([eval_battle_list2(ff, nash_env, counts./sum(counts)) for ff in nash_env]))\n",
    "println(length(nash_env))\n",
    "#println(length(unique([Spud(\"\", s.h, s.f, s.l, s.p, s.r, s.s) for s in nash_env])))    \n",
    "ff = pick_best_library2(nash_env, counts./sum(counts))\n",
    "eval_battle_list2(ff, nash_env, counts./sum(counts))"
   ]
  },
  {
   "cell_type": "code",
   "execution_count": 25,
   "id": "43435a85",
   "metadata": {},
   "outputs": [
    {
     "data": {
      "text/plain": [
       "\"temp_spudsC.csv\""
      ]
     },
     "execution_count": 25,
     "metadata": {},
     "output_type": "execute_result"
    }
   ],
   "source": [
    "CSV.write(\"temp_spudsC.csv\", spuds_to_df(nash_env[sortperm(-counts)]))"
   ]
  },
  {
   "cell_type": "code",
   "execution_count": 26,
   "id": "40586656",
   "metadata": {},
   "outputs": [
    {
     "name": "stdout",
     "output_type": "stream",
     "text": [
      "10:52\n",
      "1:282.107924 seconds (5.28 G allocations: 502.190 GiB, 20.48% gc time)\n",
      "Spud(\"Foolish Chancellor Batata vada\", 8, 2, 7, 1, 7, 6)\n",
      "2:273.160308 seconds (5.27 G allocations: 500.842 GiB, 20.50% gc time)\n",
      "Spud(\"Sneaky Physiologist Rewena bread\", 7, 6, 1, 1, 5, 2)\n",
      "3:278.798791 seconds (5.28 G allocations: 501.937 GiB, 20.44% gc time)\n",
      "Spud(\"Uninspiring Marketing manager Tashmijab\", 9, 2, 6, 3, 9, 2)\n",
      "4:284.649323 seconds (5.39 G allocations: 512.518 GiB, 20.57% gc time)\n",
      "Spud(\"Incomprehensible Magnate Clapshot\", 5, 1, 15, 2, 10, 8)\n",
      "5:274.858524 seconds (5.19 G allocations: 493.169 GiB, 20.43% gc time)\n",
      "Spud(\"Uncaring Organizer Clapshot\", 8, 2, 7, 1, 8, 5)\n",
      "6:274.209954 seconds (5.27 G allocations: 500.703 GiB, 20.56% gc time)\n",
      "Spud(\"Unintelligent Queen mother Tashmijab\", 6, 2, 10, 1, 6, 7)\n",
      "7:215.539847 seconds (4.07 G allocations: 386.658 GiB, 20.48% gc time)\n",
      "Spud(\"Perspicacious Physiologist Rumbledethumps\", 7, 6, 1, 1, 4, 3)\n",
      "8:275.507193 seconds (5.28 G allocations: 501.939 GiB, 20.53% gc time)\n",
      "Spud(\"Perceptive Organizer Kouign patatez\", 8, 2, 7, 1, 9, 4)\n",
      "9:290.486663 seconds (5.47 G allocations: 520.068 GiB, 20.48% gc time)\n",
      "Spud(\"Informed Impersonator Tashmijab\", 9, 2, 6, 1, 9, 4)\n",
      "10:300.230775 seconds (5.74 G allocations: 545.272 GiB, 20.53% gc time)\n",
      "Spud(\"Dynamic Queen dowager Brændende kærlighed\", 7, 1, 11, 5, 5, 6)\n",
      "11:275.735955 seconds (5.19 G allocations: 493.103 GiB, 20.46% gc time)\n",
      "Spud(\"Chic Queen dowager Aligot\", 11, 1, 7, 4, 2, 6)\n",
      "12:267.704836 seconds (5.20 G allocations: 494.598 GiB, 20.47% gc time)\n",
      "Spud(\"Uninspiring Organizer Batata vada\", 9, 2, 6, 1, 10, 3)\n",
      "13:277.471283 seconds (5.47 G allocations: 520.089 GiB, 20.51% gc time)\n",
      "Spud(\"Stimulating Drug dealer Boulangère potatoes\", 5, 5, 6, 4, 1, 4)\n",
      "14:220.254545 seconds (4.28 G allocations: 407.094 GiB, 20.49% gc time)\n",
      "Spud(\"Unthoughtful Vice president Gnocchi\", 9, 2, 6, 2, 8, 4)\n",
      "15:282.682087 seconds (5.58 G allocations: 530.247 GiB, 20.51% gc time)\n",
      "Spud(\"Collected Tutor Boulangère potatoes\", 4, 12, 1, 2, 1, 1)\n",
      "16:289.335133 seconds (5.62 G allocations: 534.454 GiB, 20.54% gc time)\n",
      "Spud(\"Uninterested Joker Potatonik\", 11, 2, 6, 1, 3, 2)\n",
      "17:275.161477 seconds (5.44 G allocations: 517.075 GiB, 20.58% gc time)\n",
      "Spud(\"Tender Stewardess (or Steward) French fries\", 1, 4, 20, 6, 1, 12)\n",
      "18:283.134308 seconds (5.52 G allocations: 524.560 GiB, 20.49% gc time)\n",
      "Spud(\"Open Copywriter Kouign patatez\", 5, 1, 15, 4, 8, 8)\n",
      "19:265.854296 seconds (5.26 G allocations: 499.871 GiB, 20.55% gc time)\n",
      "Spud(\"Inexpressive Actuary Tartiflette\", 12, 1, 6, 2, 12, 2)\n",
      "20:283.189500 seconds (5.52 G allocations: 524.520 GiB, 20.44% gc time)\n",
      "Spud(\"Enterprising Joker Papas chorreadas\", 6, 5, 5, 3, 1, 4)\n",
      "\n",
      "12:33\n",
      "0.006846910812653836\n",
      "2788\n"
     ]
    },
    {
     "data": {
      "text/plain": [
       "0.11101648603693134"
      ]
     },
     "execution_count": 26,
     "metadata": {},
     "output_type": "execute_result"
    }
   ],
   "source": [
    "nits = 1000000\n",
    "tol = 0.01\n",
    "wthres = 0.0005\n",
    "println(Dates.format(now(), \"HH:MM\"))\n",
    "for ii in 1:20\n",
    "    #println()\n",
    "    print(ii)\n",
    "    print(\":\")\n",
    "    counts = ffp(nash_env, nits)\n",
    "    w = counts./sum(counts)\n",
    "    #println(maximum([eval_battle_list2(ff, nash_env, counts./sum(counts)) for ff in nash_env]))\n",
    "    #ff = rand_rename(pick_best_library2(nash_env, w))\n",
    "    #ev = eval_battle_list2(ff, nash_env, w)\n",
    "    #println(ev)\n",
    "    @time bestf = subset_library(nash_env[w .> wthres], 900, w[w .> wthres], tol)\n",
    "    #println(length(bestf))\n",
    "    cc = ffp(bestf, 100000)\n",
    "    #println(maximum(cc))\n",
    "    ff2 = rand_rename(bestf[cc .== maximum(cc)][1])\n",
    "    println(ff2)\n",
    "    #println(eval_battle_list2(ff2, nash_env, counts./sum(counts)))\n",
    "    append!(nash_env, [ff2])\n",
    "    #append!(nash_env, [ff])\n",
    "    #println(ff)\n",
    "end\n",
    "println()\n",
    "println(Dates.format(now(), \"HH:MM\"))\n",
    "counts = ffp(nash_env, nits)\n",
    "println(maximum([eval_battle_list2(ff, nash_env, counts./sum(counts)) for ff in nash_env]))\n",
    "println(length(nash_env))\n",
    "#println(length(unique([Spud(\"\", s.h, s.f, s.l, s.p, s.r, s.s) for s in nash_env])))    \n",
    "ff = pick_best_library2(nash_env, counts./sum(counts))\n",
    "eval_battle_list2(ff, nash_env, counts./sum(counts))"
   ]
  },
  {
   "cell_type": "code",
   "execution_count": 27,
   "id": "d8041405",
   "metadata": {},
   "outputs": [
    {
     "data": {
      "text/plain": [
       "\"temp_spudsC.csv\""
      ]
     },
     "execution_count": 27,
     "metadata": {},
     "output_type": "execute_result"
    }
   ],
   "source": [
    "CSV.write(\"temp_spudsC.csv\", spuds_to_df(nash_env[sortperm(-counts)]))"
   ]
  },
  {
   "cell_type": "code",
   "execution_count": 28,
   "id": "9e700d95",
   "metadata": {},
   "outputs": [
    {
     "name": "stdout",
     "output_type": "stream",
     "text": [
      "13:23\n",
      "1:284.244907 seconds (5.57 G allocations: 528.917 GiB, 20.48% gc time)\n",
      "Spud(\"Humble Drug dealer Truffade\", 5, 5, 9, 1, 2, 3)\n",
      "2:273.054308 seconds (5.37 G allocations: 510.821 GiB, 20.58% gc time)\n",
      "Spud(\"Radiant Terminator Älplermagronen\", 10, 1, 8, 3, 2, 5)\n",
      "3:291.739599 seconds (5.69 G allocations: 540.804 GiB, 20.44% gc time)\n",
      "Spud(\"Independent Drug dealer Cacasse à cul nu\", 6, 5, 5, 4, 1, 3)\n",
      "4:280.772366 seconds (5.57 G allocations: 529.002 GiB, 20.54% gc time)\n",
      "Spud(\"Stylish Housekeeper Clapshot\", 8, 5, 3, 2, 4, 1)\n",
      "5:267.675599 seconds (5.24 G allocations: 498.183 GiB, 20.40% gc time)\n",
      "Spud(\"Emotionless Organizer Batata vada\", 11, 1, 7, 2, 3, 7)\n",
      "6:281.428188 seconds (5.55 G allocations: 527.213 GiB, 20.51% gc time)\n",
      "Spud(\"Principled Fitter Cacasse à cul nu\", 6, 5, 4, 4, 1, 4)\n",
      "7:293.535747 seconds (5.64 G allocations: 536.457 GiB, 20.51% gc time)\n",
      "Spud(\"Weak Author Älplermagronen\", 10, 5, 3, 1, 2, 1)\n",
      "8:276.132340 seconds (5.42 G allocations: 515.475 GiB, 20.58% gc time)\n",
      "Spud(\"Inactive Magnate Aligot\", 4, 1, 22, 1, 1, 6)\n",
      "9:275.379209 seconds (5.46 G allocations: 518.493 GiB, 20.52% gc time)\n",
      "Spud(\"Uncomplaining Drug dealer Batata vada\", 11, 1, 7, 6, 2, 4)\n",
      "10:294.300777 seconds (5.70 G allocations: 541.813 GiB, 20.51% gc time)\n",
      "Spud(\"Ineloquent Chimney sweep Potato babka\", 10, 5, 3, 1, 2, 1)\n",
      "11:275.788535 seconds (5.73 G allocations: 544.975 GiB, 20.48% gc time)\n",
      "Spud(\"Unanimated Actuary Suan la tu dou si\", 7, 5, 2, 1, 6, 3)\n",
      "12:267.320341 seconds (5.50 G allocations: 523.129 GiB, 20.31% gc time)\n",
      "Spud(\"Passionate Joker Pitepalt\", 3, 7, 10, 1, 2, 4)\n",
      "13:276.184980 seconds (5.71 G allocations: 543.233 GiB, 20.36% gc time)\n",
      "Spud(\"Superior Chimney sweep Truffade\", 10, 5, 3, 1, 2, 1)\n",
      "14:263.686511 seconds (5.49 G allocations: 522.067 GiB, 20.46% gc time)\n",
      "Spud(\"Impulsive Real estate investor Tashmijab\", 2, 2, 20, 2, 14, 12)\n",
      "15:294.057793 seconds (6.04 G allocations: 574.519 GiB, 20.33% gc time)\n",
      "Spud(\"Meek Funeral director Brændende kærlighed\", 10, 2, 5, 3, 10, 2)\n",
      "16:291.264260 seconds (6.10 G allocations: 580.197 GiB, 20.43% gc time)\n",
      "Spud(\"Illiterate Drug dealer Pommes Anna\", 11, 1, 7, 4, 2, 6)\n",
      "17:303.766259 seconds (6.27 G allocations: 596.571 GiB, 20.35% gc time)\n",
      "Spud(\"Self-motivated Student Kouign patatez\", 8, 5, 3, 3, 1, 3)\n",
      "18:295.636511 seconds (6.21 G allocations: 590.325 GiB, 20.44% gc time)\n",
      "Spud(\"Intrigued Prosecutor Älplermagronen\", 9, 2, 6, 3, 8, 3)\n",
      "19:296.200429 seconds (6.17 G allocations: 586.117 GiB, 20.32% gc time)\n",
      "Spud(\"Ethical Queen dowager Okroshka\", 10, 2, 6, 3, 3, 4)\n",
      "20:297.057728 seconds (6.28 G allocations: 596.929 GiB, 20.43% gc time)\n",
      "Spud(\"Slow Magnate Meat and potato pie\", 7, 2, 8, 2, 7, 6)\n",
      "\n",
      "15:07\n",
      "0.006591491093010641\n",
      "2808\n"
     ]
    },
    {
     "data": {
      "text/plain": [
       "0.11129548228573735"
      ]
     },
     "execution_count": 28,
     "metadata": {},
     "output_type": "execute_result"
    }
   ],
   "source": [
    "nits = 1000000\n",
    "tol = 0.01\n",
    "wthres = 0.0005\n",
    "println(Dates.format(now(), \"HH:MM\"))\n",
    "for ii in 1:20\n",
    "    #println()\n",
    "    print(ii)\n",
    "    print(\":\")\n",
    "    counts = ffp(nash_env, nits)\n",
    "    w = counts./sum(counts)\n",
    "    #println(maximum([eval_battle_list2(ff, nash_env, counts./sum(counts)) for ff in nash_env]))\n",
    "    #ff = rand_rename(pick_best_library2(nash_env, w))\n",
    "    #ev = eval_battle_list2(ff, nash_env, w)\n",
    "    #println(ev)\n",
    "    @time bestf = subset_library(nash_env[w .> wthres], 900, w[w .> wthres], tol)\n",
    "    #println(length(bestf))\n",
    "    cc = ffp(bestf, 100000)\n",
    "    #println(maximum(cc))\n",
    "    ff2 = rand_rename(bestf[cc .== maximum(cc)][1])\n",
    "    println(ff2)\n",
    "    #println(eval_battle_list2(ff2, nash_env, counts./sum(counts)))\n",
    "    append!(nash_env, [ff2])\n",
    "    #append!(nash_env, [ff])\n",
    "    #println(ff)\n",
    "end\n",
    "println()\n",
    "println(Dates.format(now(), \"HH:MM\"))\n",
    "counts = ffp(nash_env, nits)\n",
    "println(maximum([eval_battle_list2(ff, nash_env, counts./sum(counts)) for ff in nash_env]))\n",
    "println(length(nash_env))\n",
    "#println(length(unique([Spud(\"\", s.h, s.f, s.l, s.p, s.r, s.s) for s in nash_env])))    \n",
    "ff = pick_best_library2(nash_env, counts./sum(counts))\n",
    "eval_battle_list2(ff, nash_env, counts./sum(counts))"
   ]
  },
  {
   "cell_type": "code",
   "execution_count": 29,
   "id": "6974e93c",
   "metadata": {},
   "outputs": [
    {
     "data": {
      "text/plain": [
       "\"temp_spudsC.csv\""
      ]
     },
     "execution_count": 29,
     "metadata": {},
     "output_type": "execute_result"
    }
   ],
   "source": [
    "CSV.write(\"temp_spudsC.csv\", spuds_to_df(nash_env[sortperm(-counts)]))"
   ]
  },
  {
   "cell_type": "code",
   "execution_count": 30,
   "id": "a5eeeee6",
   "metadata": {},
   "outputs": [
    {
     "data": {
      "text/plain": [
       "2808-element Vector{Spud}:\n",
       " Spud(\"\", 5, 7, 8, 1, 1, 1)\n",
       " Spud(\"\", 5, 8, 7, 1, 1, 1)\n",
       " Spud(\"\", 5, 11, 2, 1, 1, 1)\n",
       " Spud(\"\", 6, 5, 9, 1, 1, 1)\n",
       " Spud(\"\", 6, 7, 6, 1, 1, 1)\n",
       " Spud(\"\", 6, 10, 1, 1, 1, 1)\n",
       " Spud(\"\", 7, 3, 10, 1, 1, 1)\n",
       " Spud(\"\", 7, 5, 7, 1, 1, 1)\n",
       " Spud(\"\", 7, 7, 4, 1, 1, 1)\n",
       " Spud(\"\", 7, 9, 1, 1, 1, 1)\n",
       " Spud(\"\", 8, 4, 7, 1, 1, 1)\n",
       " Spud(\"\", 8, 8, 1, 1, 1, 1)\n",
       " Spud(\"\", 9, 6, 3, 1, 1, 1)\n",
       " ⋮\n",
       " Spud(\"Uncomplaining Drug dealer Batata vada\", 11, 1, 7, 6, 2, 4)\n",
       " Spud(\"Ineloquent Chimney sweep Potato babka\", 10, 5, 3, 1, 2, 1)\n",
       " Spud(\"Unanimated Actuary Suan la tu dou si\", 7, 5, 2, 1, 6, 3)\n",
       " Spud(\"Passionate Joker Pitepalt\", 3, 7, 10, 1, 2, 4)\n",
       " Spud(\"Superior Chimney sweep Truffade\", 10, 5, 3, 1, 2, 1)\n",
       " Spud(\"Impulsive Real estate investor Tashmijab\", 2, 2, 20, 2, 14, 12)\n",
       " Spud(\"Meek Funeral director Brændende kærlighed\", 10, 2, 5, 3, 10, 2)\n",
       " Spud(\"Illiterate Drug dealer Pommes Anna\", 11, 1, 7, 4, 2, 6)\n",
       " Spud(\"Self-motivated Student Kouign patatez\", 8, 5, 3, 3, 1, 3)\n",
       " Spud(\"Intrigued Prosecutor Älplermagronen\", 9, 2, 6, 3, 8, 3)\n",
       " Spud(\"Ethical Queen dowager Okroshka\", 10, 2, 6, 3, 3, 4)\n",
       " Spud(\"Slow Magnate Meat and potato pie\", 7, 2, 8, 2, 7, 6)"
      ]
     },
     "execution_count": 30,
     "metadata": {},
     "output_type": "execute_result"
    }
   ],
   "source": [
    "nash_env"
   ]
  },
  {
   "cell_type": "code",
   "execution_count": 23,
   "id": "ef26aa31",
   "metadata": {},
   "outputs": [
    {
     "data": {
      "text/plain": [
       "\"temp_spudsC.csv\""
      ]
     },
     "execution_count": 23,
     "metadata": {},
     "output_type": "execute_result"
    }
   ],
   "source": [
    "CSV.write(\"temp_spudsC.csv\", spuds_to_df(nash_env[sortperm(-counts)]))"
   ]
  },
  {
   "cell_type": "markdown",
   "id": "dfebdf0b",
   "metadata": {},
   "source": [
    "## when would you be tempted to go far outside of nash equilibrium?"
   ]
  },
  {
   "cell_type": "code",
   "execution_count": null,
   "id": "0b53bc7a",
   "metadata": {},
   "outputs": [],
   "source": []
  },
  {
   "cell_type": "code",
   "execution_count": null,
   "id": "84727f7c",
   "metadata": {},
   "outputs": [],
   "source": [
    "cc = cumsum(counts);"
   ]
  },
  {
   "cell_type": "code",
   "execution_count": null,
   "id": "622b3491",
   "metadata": {},
   "outputs": [],
   "source": [
    "nteam = 5\n",
    "mms = Array{Float64}(undef, 1000)\n",
    "for jj in 1:1000\n",
    "    team = Array{Spud}(undef, nteam)\n",
    "    for i in 1:nteam\n",
    "        tmp = rand(1:sum(counts))\n",
    "        ind = sum(cc .< tmp)+1\n",
    "        team[i] = nash_env[ind]\n",
    "        #println(counts[ind])\n",
    "    end\n",
    "    lib = subset_library(team, 900, [1/nteam for i in 1:nteam], 0.001)\n",
    "    scores = [eval_battle_list(ff, team) for ff in lib]\n",
    "    lib = lib[scores .== maximum(scores)]\n",
    "    evs = [eval_battle_list2(ff, nash_env, counts./sum(counts)) for ff in lib]\n",
    "    mm = maximum(evs)\n",
    "    mms[jj] = mm\n",
    "    if mm < -0.2\n",
    "        println()\n",
    "        println(spuds_to_df(team))\n",
    "        println(mm)\n",
    "        println(lib[evs .== mm])\n",
    "        \n",
    "    end\n",
    "end"
   ]
  },
  {
   "cell_type": "code",
   "execution_count": null,
   "id": "a491cfab",
   "metadata": {},
   "outputs": [],
   "source": [
    "sort(mms)"
   ]
  },
  {
   "cell_type": "code",
   "execution_count": null,
   "id": "3dd92ea4",
   "metadata": {},
   "outputs": [],
   "source": [
    "mean(mms .< -0.05)"
   ]
  },
  {
   "cell_type": "code",
   "execution_count": null,
   "id": "67966e50",
   "metadata": {},
   "outputs": [],
   "source": [
    "mean(mms .< -0.1)"
   ]
  },
  {
   "cell_type": "code",
   "execution_count": null,
   "id": "c8d3ed47",
   "metadata": {},
   "outputs": [],
   "source": [
    "mean(mms .< -0.15)"
   ]
  },
  {
   "cell_type": "code",
   "execution_count": null,
   "id": "d013e1a6",
   "metadata": {},
   "outputs": [],
   "source": []
  }
 ],
 "metadata": {
  "kernelspec": {
   "display_name": "Julia 1.9.3",
   "language": "julia",
   "name": "julia-1.9"
  },
  "language_info": {
   "file_extension": ".jl",
   "mimetype": "application/julia",
   "name": "julia",
   "version": "1.9.3"
  }
 },
 "nbformat": 4,
 "nbformat_minor": 5
}

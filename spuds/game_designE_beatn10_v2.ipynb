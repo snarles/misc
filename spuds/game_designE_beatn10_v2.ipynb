{
 "cells": [
  {
   "cell_type": "markdown",
   "id": "052be005",
   "metadata": {},
   "source": [
    "Beat-n game with 10 pt limit"
   ]
  },
  {
   "cell_type": "markdown",
   "id": "72817bb1",
   "metadata": {},
   "source": [
    "## Spud code"
   ]
  },
  {
   "cell_type": "code",
   "execution_count": 1,
   "id": "494818e8",
   "metadata": {},
   "outputs": [],
   "source": [
    "using Random\n",
    "using DataFrames\n",
    "using CSV\n",
    "using DelimitedFiles\n",
    "using Statistics\n",
    "using Printf\n",
    "using LinearAlgebra\n",
    "using Dates\n",
    "using JLD2"
   ]
  },
  {
   "cell_type": "code",
   "execution_count": 2,
   "id": "45e21e7f",
   "metadata": {},
   "outputs": [],
   "source": [
    "struct Spud\n",
    "    name::String\n",
    "    h::Int64\n",
    "    f::Int64\n",
    "    l::Int64\n",
    "    p::Int64\n",
    "    r::Int64\n",
    "    s::Int64\n",
    "    a1::Int64\n",
    "end"
   ]
  },
  {
   "cell_type": "code",
   "execution_count": 3,
   "id": "950e076e",
   "metadata": {},
   "outputs": [
    {
     "data": {
      "text/plain": [
       "1"
      ]
     },
     "execution_count": 3,
     "metadata": {},
     "output_type": "execute_result"
    }
   ],
   "source": [
    "const MXV = 9\n",
    "const MNV = 1"
   ]
  },
  {
   "cell_type": "code",
   "execution_count": 4,
   "id": "ac830f74",
   "metadata": {},
   "outputs": [
    {
     "data": {
      "text/plain": [
       "eval_melee (generic function with 3 methods)"
      ]
     },
     "execution_count": 4,
     "metadata": {},
     "output_type": "execute_result"
    }
   ],
   "source": [
    "function compare_int_list(as::Vector{Int64}, bs::Vector{Int64}, tiebreaker::Int64 = 0)::Int64\n",
    "    n = min(length(as), length(bs))\n",
    "    for i in 1:n\n",
    "        if as[i] != bs[i]\n",
    "            return sign(as[i] - bs[i])\n",
    "        end\n",
    "    end\n",
    "    return tiebreaker\n",
    "end\n",
    "\n",
    "function spud_h_seq(a::Spud)::Vector{Int64}\n",
    "    return [a.h, a.s, a.r, a.p, a.l, a.f]\n",
    "end\n",
    "\n",
    "function spud_f_seq(a::Spud)::Vector{Int64}\n",
    "    return [a.f, a.s, a.r, a.p, a.l, a.h]\n",
    "end\n",
    "\n",
    "function spud_l_seq(a::Spud)::Vector{Int64}\n",
    "    return [a.l]\n",
    "end\n",
    "\n",
    "function spud_p_seq(a::Spud)::Vector{Int64}\n",
    "    return [a.p, a.l]\n",
    "end\n",
    "\n",
    "function spud_r_seq(a::Spud)::Vector{Int64}\n",
    "    return [a.r, a.f]\n",
    "end\n",
    "\n",
    "function spud_s_seq(a::Spud)::Vector{Int64}\n",
    "    return [a.s, a.h]\n",
    "end\n",
    "\n",
    "function spud_utb_seq(a::Spud)::Vector{Int64}\n",
    "    return [a.a1, a.h, a.f, a.l, a.p, a.r, a.s]\n",
    "end\n",
    "\n",
    "function eval_finds(a::Spud, b::Spud, tiebreaker::Int64 = 0)::Int64\n",
    "    ev = compare_int_list(spud_f_seq(a), spud_h_seq(b), tiebreaker)\n",
    "    ans = ev\n",
    "end\n",
    "\n",
    "function eval_melee(a::Spud, b::Spud, tiebreaker1::Int64 = 0, tiebreaker2::Int64 = 0)::Int64\n",
    "    comp_p = compare_int_list(spud_p_seq(a), spud_p_seq(b), tiebreaker1)\n",
    "    comp_r = compare_int_list(spud_r_seq(a), spud_r_seq(b), tiebreaker1)\n",
    "    comp_s = compare_int_list(spud_s_seq(a), spud_s_seq(b), tiebreaker1)\n",
    "    ev = 4 * comp_p + 3 * comp_r + 2 * comp_s\n",
    "    return sign(ev + (1-abs(ev))*tiebreaker2)\n",
    "end\n",
    "\n"
   ]
  },
  {
   "cell_type": "code",
   "execution_count": 5,
   "id": "f603612d",
   "metadata": {},
   "outputs": [
    {
     "data": {
      "text/plain": [
       "eval_battle (generic function with 1 method)"
      ]
     },
     "execution_count": 5,
     "metadata": {},
     "output_type": "execute_result"
    }
   ],
   "source": [
    "\n",
    "\n",
    "function eval_battle(a::Spud, b::Spud)::Int64\n",
    "    utb = compare_int_list(spud_utb_seq(a), spud_utb_seq(b), 0) # universal tiebreaker\n",
    "    if utb == 0\n",
    "        return 0\n",
    "    end\n",
    "    a_finds = eval_finds(a, b, utb)==1\n",
    "    b_finds = eval_finds(b, a, utb)==1\n",
    "    melee_win = eval_melee(a, b, 0, 0)\n",
    "    luck_win = compare_int_list([a.l, melee_win], [b.l, -melee_win], 0)\n",
    "    if melee_win ==1 && luck_win ==1\n",
    "        return 1\n",
    "    end\n",
    "    if melee_win == -1 && luck_win == -1\n",
    "        return -1\n",
    "    end\n",
    "    if a_finds && b_finds\n",
    "        return melee_win\n",
    "    end\n",
    "    if a_finds && !b_finds\n",
    "        return 1\n",
    "    end\n",
    "    if !a_finds && b_finds\n",
    "        return -1\n",
    "    end\n",
    "    if !a_finds && !b_finds\n",
    "        return luck_win\n",
    "    end\n",
    "end"
   ]
  },
  {
   "cell_type": "code",
   "execution_count": 6,
   "id": "560e9539",
   "metadata": {},
   "outputs": [
    {
     "data": {
      "text/plain": [
       "df_to_spuds (generic function with 1 method)"
      ]
     },
     "execution_count": 6,
     "metadata": {},
     "output_type": "execute_result"
    }
   ],
   "source": [
    "function eval_battle_list(a::Spud, bs::Array{Spud})::Int\n",
    "    score = 0\n",
    "    for ii in 1:length(bs)\n",
    "        score = score + eval_battle(a, bs[ii])\n",
    "    end\n",
    "    return score\n",
    "end\n",
    "\n",
    "function eval_battle_list2(a::Spud, bs::Array{Spud}, w::Vector{Float64})::AbstractFloat\n",
    "    score = 0.0\n",
    "    for ii in 1:length(bs)\n",
    "        score = score + w[ii] * eval_battle(a, bs[ii])\n",
    "    end\n",
    "    return score\n",
    "end\n",
    "\n",
    "function spuds_to_df(as::Array{Spud})::DataFrame\n",
    "    names = Array{String}(undef, length(as))\n",
    "    hs = Array{Int}(undef, length(as))\n",
    "    fs = Array{Int}(undef, length(as))\n",
    "    ls = Array{Int}(undef, length(as))\n",
    "    ps = Array{Int}(undef, length(as))\n",
    "    rs = Array{Int}(undef, length(as))\n",
    "    ss = Array{Int}(undef, length(as))\n",
    "    a1s = Array{Int}(undef, length(as))\n",
    "    for ii in 1:length(as)\n",
    "        names[ii] = as[ii].name\n",
    "        hs[ii] = as[ii].h\n",
    "        fs[ii] = as[ii].f\n",
    "        ls[ii] = as[ii].l\n",
    "        ps[ii] = as[ii].p\n",
    "        rs[ii] = as[ii].r\n",
    "        ss[ii] = as[ii].s\n",
    "        a1s[ii] = as[ii].a1\n",
    "    end\n",
    "    df = DataFrame(name = names, h = hs, f = fs, l = ls, p = ps, r = rs, s = ss, a1 = a1s)\n",
    "    return df\n",
    "end\n",
    "\n",
    "function fpart(x::AbstractFloat)::AbstractFloat\n",
    "  return x - trunc(x)\n",
    "end\n",
    "\n",
    "# for legacy dfs without abilities\n",
    "function df_to_spuds0(df::DataFrame)::Array{Spud}\n",
    "    n = size(df)[1]\n",
    "    as = Array{Spud}(undef, n)\n",
    "    for i in 1:n\n",
    "        as[i] = Spud(df[i, :name], df[i, :h], df[i, :f], df[i, :l], df[i, :p], df[i, :r], df[i, :s], ability_none)\n",
    "    end\n",
    "    return as\n",
    "end\n",
    "\n",
    "function df_to_spuds(df::DataFrame)::Array{Spud}\n",
    "    n = size(df)[1]\n",
    "    as = Array{Spud}(undef, n)\n",
    "    for i in 1:n\n",
    "        as[i] = Spud(df[i, :name], df[i, :h], df[i, :f], df[i, :l], df[i, :p], df[i, :r], df[i, :s], df[i, :a1])\n",
    "    end\n",
    "    return as\n",
    "end\n",
    "\n"
   ]
  },
  {
   "cell_type": "markdown",
   "id": "66e71132",
   "metadata": {},
   "source": [
    "## Get spuds with cost 10 and filter nondominated"
   ]
  },
  {
   "cell_type": "code",
   "execution_count": 7,
   "id": "638f1e65",
   "metadata": {},
   "outputs": [
    {
     "data": {
      "text/plain": [
       "get_library (generic function with 2 methods)"
      ]
     },
     "execution_count": 7,
     "metadata": {},
     "output_type": "execute_result"
    }
   ],
   "source": [
    "function get_library(cost, n_init = 10000)\n",
    "    ffs = Array{Spud}(undef, n_init)\n",
    "    ff_i = 0\n",
    "    hrange = MNV:MXV\n",
    "    frange = MNV:MXV\n",
    "    lrange = MNV:MXV\n",
    "    prange = MNV:MXV\n",
    "    rrange = MNV:MXV\n",
    "    srange = MNV:MXV\n",
    "    for h in hrange\n",
    "        for f in frange\n",
    "            for l in lrange\n",
    "                for p in prange\n",
    "                    for r in rrange\n",
    "                        for s in srange\n",
    "                            if (h+f+l+p+r+s == cost)\n",
    "                                ff = Spud(\"\", h,f,l,p,r,s,999)\n",
    "                                ff_i += 1\n",
    "                                ffs[ff_i] = ff\n",
    "                            end\n",
    "                        end\n",
    "                    end                        \n",
    "                end                        \n",
    "            end\n",
    "        end\n",
    "    end\n",
    "    ffs = ffs[1:ff_i]\n",
    "    return unique(ffs)\n",
    "end"
   ]
  },
  {
   "cell_type": "code",
   "execution_count": 8,
   "id": "64d0dd3e",
   "metadata": {},
   "outputs": [
    {
     "data": {
      "text/plain": [
       "126-element Vector{Spud}:\n",
       " Spud(\"\", 1, 1, 1, 1, 1, 5, 999)\n",
       " Spud(\"\", 1, 1, 1, 1, 2, 4, 999)\n",
       " Spud(\"\", 1, 1, 1, 1, 3, 3, 999)\n",
       " Spud(\"\", 1, 1, 1, 1, 4, 2, 999)\n",
       " Spud(\"\", 1, 1, 1, 1, 5, 1, 999)\n",
       " Spud(\"\", 1, 1, 1, 2, 1, 4, 999)\n",
       " Spud(\"\", 1, 1, 1, 2, 2, 3, 999)\n",
       " Spud(\"\", 1, 1, 1, 2, 3, 2, 999)\n",
       " Spud(\"\", 1, 1, 1, 2, 4, 1, 999)\n",
       " Spud(\"\", 1, 1, 1, 3, 1, 3, 999)\n",
       " Spud(\"\", 1, 1, 1, 3, 2, 2, 999)\n",
       " Spud(\"\", 1, 1, 1, 3, 3, 1, 999)\n",
       " Spud(\"\", 1, 1, 1, 4, 1, 2, 999)\n",
       " ⋮\n",
       " Spud(\"\", 3, 1, 3, 1, 1, 1, 999)\n",
       " Spud(\"\", 3, 2, 1, 1, 1, 2, 999)\n",
       " Spud(\"\", 3, 2, 1, 1, 2, 1, 999)\n",
       " Spud(\"\", 3, 2, 1, 2, 1, 1, 999)\n",
       " Spud(\"\", 3, 2, 2, 1, 1, 1, 999)\n",
       " Spud(\"\", 3, 3, 1, 1, 1, 1, 999)\n",
       " Spud(\"\", 4, 1, 1, 1, 1, 2, 999)\n",
       " Spud(\"\", 4, 1, 1, 1, 2, 1, 999)\n",
       " Spud(\"\", 4, 1, 1, 2, 1, 1, 999)\n",
       " Spud(\"\", 4, 1, 2, 1, 1, 1, 999)\n",
       " Spud(\"\", 4, 2, 1, 1, 1, 1, 999)\n",
       " Spud(\"\", 5, 1, 1, 1, 1, 1, 999)"
      ]
     },
     "execution_count": 8,
     "metadata": {},
     "output_type": "execute_result"
    }
   ],
   "source": [
    "lib0 = get_library(10)\n",
    "lib0"
   ]
  },
  {
   "cell_type": "code",
   "execution_count": 9,
   "id": "6be20a55",
   "metadata": {},
   "outputs": [
    {
     "data": {
      "text/plain": [
       "get_payoffs (generic function with 1 method)"
      ]
     },
     "execution_count": 9,
     "metadata": {},
     "output_type": "execute_result"
    }
   ],
   "source": [
    "function get_payoffs(env::Array{Spud})::Array{Int64}\n",
    "    n_nash = length(env)\n",
    "    payoffs = Array{Int64}(undef, (n_nash, n_nash))\n",
    "    for i in 1:n_nash\n",
    "        for j in 1:n_nash\n",
    "            payoffs[i, j] = eval_battle(env[i], env[j])\n",
    "        end\n",
    "    end\n",
    "    return payoffs\n",
    "end"
   ]
  },
  {
   "cell_type": "code",
   "execution_count": 10,
   "id": "af79e6db",
   "metadata": {},
   "outputs": [
    {
     "data": {
      "text/plain": [
       "filter_nondominated2 (generic function with 1 method)"
      ]
     },
     "execution_count": 10,
     "metadata": {},
     "output_type": "execute_result"
    }
   ],
   "source": [
    "function filter_nondominated2(as::Array{Spud})::Array{Spud}\n",
    "    mat = get_payoffs(as);\n",
    "    isDominated = zeros(Int64, length(as));\n",
    "    for i in 1:length(as)\n",
    "        v = mat[i, :]\n",
    "        bv = ones(Int64, length(as))\n",
    "        for j in 1:length(as)\n",
    "            bv = bv .* (mat[:, j] .>= v[j])\n",
    "        end\n",
    "        if sum(bv) > 1\n",
    "            isDominated[i] = 1\n",
    "        end\n",
    "    end\n",
    "    return as[isDominated .== 0]\n",
    "end"
   ]
  },
  {
   "cell_type": "code",
   "execution_count": 11,
   "id": "55a8029c",
   "metadata": {},
   "outputs": [
    {
     "name": "stdout",
     "output_type": "stream",
     "text": [
      " 111124 111133 111142 111214 111223 111232 111241 111313 111322 111331 111412 111421 111511 112114 112123 112132 112141 112213 112222 112231 112312 112321 112411 113113 113122 113131 113212 113221 113311 114112 114121 114211 121114 121123 121132 121213 121222 121231 121312 121321 121411 122113 122122 122212 122221 122311 123112 123211 131113 131122 131212 131221 131311 132112 132211 141112 141211 212113 212122 212131 212212 212221 212311 213112 213121 213211 214111 222112 222211 312112 312121 312211 313111 412111"
     ]
    },
    {
     "data": {
      "text/plain": [
       "74"
      ]
     },
     "execution_count": 11,
     "metadata": {},
     "output_type": "execute_result"
    }
   ],
   "source": [
    "lib=filter_nondominated2(lib0)\n",
    "for ff in lib\n",
    "    print(\" \")\n",
    "    print(100000 * ff.h + 10000 * ff.f + 1000 * ff.l + 100 * ff.p + 10 * ff.r + ff.s)\n",
    "end\n",
    "nlib = length(lib)"
   ]
  },
  {
   "cell_type": "code",
   "execution_count": 12,
   "id": "7693aec2",
   "metadata": {},
   "outputs": [
    {
     "data": {
      "text/plain": [
       "74×74 Matrix{Int64}:\n",
       "  0  -1  -1  -1  -1  -1  -1   1  -1  …  -1  -1  -1  -1  -1  -1  -1  -1  -1\n",
       "  1   0  -1  -1  -1  -1  -1  -1   1     -1  -1  -1  -1  -1  -1  -1  -1  -1\n",
       "  1   1   0  -1  -1  -1  -1  -1  -1     -1  -1  -1  -1  -1  -1  -1  -1  -1\n",
       "  1   1   1   0  -1  -1  -1  -1  -1     -1  -1  -1  -1  -1  -1  -1  -1  -1\n",
       "  1   1   1   1   0  -1  -1  -1  -1     -1  -1  -1  -1  -1  -1  -1  -1  -1\n",
       "  1   1   1   1   1   0  -1  -1  -1  …  -1  -1  -1  -1  -1  -1  -1  -1  -1\n",
       "  1   1   1   1   1   1   0  -1  -1     -1  -1  -1  -1  -1  -1  -1  -1  -1\n",
       " -1   1   1   1   1   1   1   0  -1     -1  -1  -1  -1  -1  -1  -1  -1  -1\n",
       "  1  -1   1   1   1   1   1   1   0     -1  -1  -1  -1  -1  -1  -1  -1  -1\n",
       "  1   1  -1   1   1   1   1   1   1     -1  -1  -1  -1  -1  -1  -1  -1  -1\n",
       " -1  -1   1   1  -1   1   1   1   1  …  -1  -1  -1  -1  -1  -1  -1  -1  -1\n",
       "  1  -1  -1   1   1  -1   1   1   1     -1  -1  -1  -1  -1  -1  -1  -1  -1\n",
       " -1  -1  -1   1  -1  -1   1   1  -1     -1  -1  -1  -1  -1  -1  -1  -1  -1\n",
       "  ⋮                   ⋮              ⋱   ⋮                   ⋮          \n",
       "  1   1   1   1   1   1   1   1   1     -1  -1  -1   1   1  -1   1  -1   1\n",
       "  1   1   1   1   1   1   1   1   1     -1  -1   1   1   1   1   1   1   1\n",
       "  1   1   1   1   1   1   1   1   1     -1  -1   1   1   1   1   1   1   1\n",
       "  1   1   1   1   1   1   1   1   1  …   0  -1  -1   1   1   1   1   1   1\n",
       "  1   1   1   1   1   1   1   1   1      1   0  -1  -1   1   1   1   1   1\n",
       "  1   1   1   1   1   1   1   1   1      1   1   0  -1   1  -1   1  -1   1\n",
       "  1   1   1   1   1   1   1   1   1     -1   1   1   0   1  -1   1  -1   1\n",
       "  1   1   1   1   1   1   1   1   1     -1  -1  -1  -1   0  -1  -1  -1   1\n",
       "  1   1   1   1   1   1   1   1   1  …  -1  -1   1   1   1   0  -1  -1   1\n",
       "  1   1   1   1   1   1   1   1   1     -1  -1  -1  -1   1   1   0  -1   1\n",
       "  1   1   1   1   1   1   1   1   1     -1  -1   1   1   1   1   1   0   1\n",
       "  1   1   1   1   1   1   1   1   1     -1  -1  -1  -1  -1  -1  -1  -1   0"
      ]
     },
     "execution_count": 12,
     "metadata": {},
     "output_type": "execute_result"
    }
   ],
   "source": [
    "payoffs = get_payoffs(lib)"
   ]
  },
  {
   "cell_type": "code",
   "execution_count": 13,
   "id": "3d780a7c",
   "metadata": {},
   "outputs": [
    {
     "data": {
      "text/plain": [
       "spud2int (generic function with 1 method)"
      ]
     },
     "execution_count": 13,
     "metadata": {},
     "output_type": "execute_result"
    }
   ],
   "source": [
    "function spud2int(a::Spud)::Int64\n",
    "    return a.h * 100000 + a.f * 10000 + a.l * 1000 + a.p * 100 + a.r * 10 + a.s\n",
    "end"
   ]
  },
  {
   "cell_type": "code",
   "execution_count": 14,
   "id": "db3ccd86",
   "metadata": {},
   "outputs": [],
   "source": [
    "s2ind = Dict(lib[i] => i for i in 1:length(lib));\n",
    "int2ind = Dict(spud2int(lib[i]) => i for i in 1:length(lib));"
   ]
  },
  {
   "cell_type": "code",
   "execution_count": 15,
   "id": "a169b86e",
   "metadata": {},
   "outputs": [],
   "source": [
    "libi = [spud2int(ff) for ff in lib];"
   ]
  },
  {
   "cell_type": "code",
   "execution_count": 16,
   "id": "0e426ff9",
   "metadata": {},
   "outputs": [
    {
     "data": {
      "text/plain": [
       "73"
      ]
     },
     "execution_count": 16,
     "metadata": {},
     "output_type": "execute_result"
    }
   ],
   "source": [
    "int2ind[313111]"
   ]
  },
  {
   "cell_type": "code",
   "execution_count": 17,
   "id": "12e85b6a",
   "metadata": {},
   "outputs": [
    {
     "data": {
      "text/plain": [
       "3"
      ]
     },
     "execution_count": 17,
     "metadata": {},
     "output_type": "execute_result"
    }
   ],
   "source": [
    "as = [1,2,3]\n",
    "as[end]"
   ]
  },
  {
   "cell_type": "code",
   "execution_count": 18,
   "id": "ac7db512",
   "metadata": {},
   "outputs": [
    {
     "data": {
      "text/plain": [
       "eval_beatn (generic function with 1 method)"
      ]
     },
     "execution_count": 18,
     "metadata": {},
     "output_type": "execute_result"
    }
   ],
   "source": [
    "function eval_beatn(payoffs::Array{Int64}, as::Array{Int64}, bs::Array{Int64})::Int64\n",
    "    if length(bs)==0 || length(as)==0\n",
    "        return 0\n",
    "    end\n",
    "    a = as[end]\n",
    "    flag = true\n",
    "    count = 0\n",
    "    while flag\n",
    "        if payoffs[a, bs[end-count]]==1\n",
    "            count += 1\n",
    "        else\n",
    "            flag = false\n",
    "        end\n",
    "        if count == length(bs)\n",
    "            flag = false\n",
    "        end\n",
    "    end\n",
    "    return count\n",
    "end"
   ]
  },
  {
   "cell_type": "code",
   "execution_count": 19,
   "id": "06768a49",
   "metadata": {},
   "outputs": [
    {
     "data": {
      "text/plain": [
       "4-element Vector{Int64}:\n",
       " 41\n",
       " 40\n",
       " 27\n",
       " 65"
      ]
     },
     "execution_count": 19,
     "metadata": {},
     "output_type": "execute_result"
    }
   ],
   "source": [
    "as = [int2ind[ff] for ff in [214111, 112222, 313111, 113311]]\n",
    "bs = [int2ind[ff] for ff in [121411, 121321, 113212, 213121]]"
   ]
  },
  {
   "cell_type": "code",
   "execution_count": 20,
   "id": "d2ce51e6",
   "metadata": {},
   "outputs": [
    {
     "data": {
      "text/plain": [
       "2"
      ]
     },
     "execution_count": 20,
     "metadata": {},
     "output_type": "execute_result"
    }
   ],
   "source": [
    "eval_beatn(payoffs, as[1:3], bs[1:2])"
   ]
  },
  {
   "cell_type": "code",
   "execution_count": 21,
   "id": "7a920d9d",
   "metadata": {},
   "outputs": [
    {
     "data": {
      "text/plain": [
       "2"
      ]
     },
     "execution_count": 21,
     "metadata": {},
     "output_type": "execute_result"
    }
   ],
   "source": [
    "eval_beatn(payoffs, bs[1:3], as[1:3])"
   ]
  },
  {
   "cell_type": "code",
   "execution_count": 22,
   "id": "52666aca",
   "metadata": {},
   "outputs": [
    {
     "data": {
      "text/plain": [
       "2"
      ]
     },
     "execution_count": 22,
     "metadata": {},
     "output_type": "execute_result"
    }
   ],
   "source": [
    "eval_beatn(payoffs, as[1:4], bs[1:3])"
   ]
  },
  {
   "cell_type": "code",
   "execution_count": 23,
   "id": "c4ab1c2f",
   "metadata": {},
   "outputs": [
    {
     "data": {
      "text/plain": [
       "3"
      ]
     },
     "execution_count": 23,
     "metadata": {},
     "output_type": "execute_result"
    }
   ],
   "source": [
    "eval_beatn(payoffs, bs[1:4], as[1:4])"
   ]
  },
  {
   "cell_type": "code",
   "execution_count": 24,
   "id": "2180d5f3",
   "metadata": {},
   "outputs": [
    {
     "data": {
      "text/plain": [
       "74"
      ]
     },
     "execution_count": 24,
     "metadata": {},
     "output_type": "execute_result"
    }
   ],
   "source": [
    "size(payoffs)[1]"
   ]
  },
  {
   "cell_type": "code",
   "execution_count": 25,
   "id": "e0355eae",
   "metadata": {},
   "outputs": [
    {
     "data": {
      "text/plain": [
       "try_beatn (generic function with 1 method)"
      ]
     },
     "execution_count": 25,
     "metadata": {},
     "output_type": "execute_result"
    }
   ],
   "source": [
    "# tries all possible moves as extension of as\n",
    "function try_beatn(payoffs::Array{Int64}, as::Array{Int64}, bs::Array{Int64})::Array{Int64}\n",
    "    ans = Array{Int64}(undef, size(payoffs)[1])\n",
    "    for i in 1:size(payoffs)[1]\n",
    "        as2 = copy(as)\n",
    "        append!(as2, i)\n",
    "        ans[i] = eval_beatn(payoffs, as2, bs)\n",
    "    end\n",
    "    return ans\n",
    "end"
   ]
  },
  {
   "cell_type": "code",
   "execution_count": 26,
   "id": "610075c3",
   "metadata": {},
   "outputs": [
    {
     "name": "stdout",
     "output_type": "stream",
     "text": [
      "00000000000000000000000011120110021211220011100001110000000000000120000000"
     ]
    }
   ],
   "source": [
    "for i in try_beatn(payoffs, as, bs)\n",
    "    print(i)\n",
    "end"
   ]
  },
  {
   "cell_type": "code",
   "execution_count": 27,
   "id": "34b38ea6",
   "metadata": {},
   "outputs": [
    {
     "data": {
      "text/plain": [
       "lose_or_not (generic function with 1 method)"
      ]
     },
     "execution_count": 27,
     "metadata": {},
     "output_type": "execute_result"
    }
   ],
   "source": [
    "# returns 1 if Player A lost\n",
    "function lose_or_not(payoffs::Array{Int64}, as::Array{Int64}, bs::Array{Int64})::Int64\n",
    "    prev_score = eval_beatn(payoffs, bs, as)\n",
    "    scores = try_beatn(payoffs, as, bs)\n",
    "    if maximum(scores) < prev_score\n",
    "        return 1\n",
    "    end\n",
    "    return 0\n",
    "end"
   ]
  },
  {
   "cell_type": "code",
   "execution_count": 28,
   "id": "84fa5f6b",
   "metadata": {},
   "outputs": [
    {
     "data": {
      "text/plain": [
       "0"
      ]
     },
     "execution_count": 28,
     "metadata": {},
     "output_type": "execute_result"
    }
   ],
   "source": [
    "lose_or_not(payoffs, as[1:2], bs[1:2])"
   ]
  },
  {
   "cell_type": "code",
   "execution_count": 29,
   "id": "1e2178a4",
   "metadata": {},
   "outputs": [
    {
     "data": {
      "text/plain": [
       "0"
      ]
     },
     "execution_count": 29,
     "metadata": {},
     "output_type": "execute_result"
    }
   ],
   "source": [
    "lose_or_not(payoffs, as[1:3], bs[1:3])"
   ]
  },
  {
   "cell_type": "code",
   "execution_count": 30,
   "id": "80e2a310",
   "metadata": {},
   "outputs": [
    {
     "data": {
      "text/plain": [
       "1"
      ]
     },
     "execution_count": 30,
     "metadata": {},
     "output_type": "execute_result"
    }
   ],
   "source": [
    "lose_or_not(payoffs, as[1:4], bs[1:4])"
   ]
  },
  {
   "cell_type": "code",
   "execution_count": 31,
   "id": "3e10fcb4",
   "metadata": {},
   "outputs": [
    {
     "data": {
      "text/plain": [
       "legal_moves (generic function with 1 method)"
      ]
     },
     "execution_count": 31,
     "metadata": {},
     "output_type": "execute_result"
    }
   ],
   "source": [
    "function legal_moves(payoffs::Array{Int64}, as::Array{Int64}, bs::Array{Int64})::Array{Int64}\n",
    "    prev_score = eval_beatn(payoffs, bs, as)\n",
    "    scores = try_beatn(payoffs, as, bs)\n",
    "    cands = findall(scores .>= prev_score)\n",
    "    return cands\n",
    "end"
   ]
  },
  {
   "cell_type": "code",
   "execution_count": 32,
   "id": "7f74a1f2",
   "metadata": {},
   "outputs": [
    {
     "data": {
      "text/plain": [
       "choose_random (generic function with 1 method)"
      ]
     },
     "execution_count": 32,
     "metadata": {},
     "output_type": "execute_result"
    }
   ],
   "source": [
    "# picks randomly\n",
    "function choose_random(payoffs::Array{Int64}, as::Array{Int64}, bs::Array{Int64})::Int64\n",
    "    prev_score = eval_beatn(payoffs, bs, as)\n",
    "    scores = try_beatn(payoffs, as, bs)\n",
    "    cands = findall(scores .>= prev_score)\n",
    "    return rand(cands)\n",
    "end"
   ]
  },
  {
   "cell_type": "code",
   "execution_count": 33,
   "id": "89c48087",
   "metadata": {},
   "outputs": [
    {
     "data": {
      "text/plain": [
       "choose_aggro (generic function with 1 method)"
      ]
     },
     "execution_count": 33,
     "metadata": {},
     "output_type": "execute_result"
    }
   ],
   "source": [
    "# picks aggressively\n",
    "function choose_aggro(payoffs::Array{Int64}, as::Array{Int64}, bs::Array{Int64})::Int64\n",
    "    scores = try_beatn(payoffs, as, bs)\n",
    "    cands = findall(scores .== maximum(scores))\n",
    "    return rand(cands)\n",
    "end"
   ]
  },
  {
   "cell_type": "code",
   "execution_count": 34,
   "id": "a603dd38",
   "metadata": {},
   "outputs": [
    {
     "data": {
      "text/plain": [
       "display_game (generic function with 1 method)"
      ]
     },
     "execution_count": 34,
     "metadata": {},
     "output_type": "execute_result"
    }
   ],
   "source": [
    "function play_random_vs_aggro(\n",
    "        payoffs::Array{Int64}, \n",
    "        as::Array{Int64} = zeros(Int64, 0), \n",
    "        bs::Array{Int64} = zeros(Int64, 0))::Tuple{Int64, Array{Int64}, Array{Int64}}\n",
    "    if length(as) == 0\n",
    "        a = rand(1:size(payoffs)[1])\n",
    "        as = append!(as, a)\n",
    "    end\n",
    "    if length(bs) < length(as)\n",
    "        b = choose_aggro(payoffs, bs, as)\n",
    "        bs = append!(bs, b)\n",
    "    end\n",
    "    flag = true\n",
    "    a_win = 0\n",
    "    while flag\n",
    "        if lose_or_not(payoffs, as, bs)==1\n",
    "            flag = false\n",
    "            a_win = -1\n",
    "        else\n",
    "            # player A turn\n",
    "            a = choose_random(payoffs, as, bs)\n",
    "            as = append!(as, a)\n",
    "        end\n",
    "        if flag\n",
    "            if lose_or_not(payoffs, bs, as)==1\n",
    "                flag = false\n",
    "                a_win = 1\n",
    "            else\n",
    "                # player B turn\n",
    "                b = choose_aggro(payoffs, bs, as)\n",
    "                bs = append!(bs, b)\n",
    "            end\n",
    "        end\n",
    "    end\n",
    "    return (a_win, as, bs)\n",
    "end\n",
    "\n",
    "function display_game(payoffs::Array{Int64}, as::Array{Int64}, bs::Array{Int64})\n",
    "    for i in 1:length(as)\n",
    "        print(libi[as[i]])\n",
    "        print(\" {\")\n",
    "        n = eval_beatn(payoffs, as[1:i], bs[1:(i-1)])\n",
    "        print(n)\n",
    "        print(\"}. \")\n",
    "        if i <= length(bs)\n",
    "            print(libi[bs[i]])\n",
    "            print(\" {\")\n",
    "            n = eval_beatn(payoffs, bs[1:i], as[1:i])\n",
    "            print(n)\n",
    "            print(\"}. \")\n",
    "        end\n",
    "        println()\n",
    "    end\n",
    "end"
   ]
  },
  {
   "cell_type": "code",
   "execution_count": 35,
   "id": "cb5fb4b1",
   "metadata": {},
   "outputs": [
    {
     "name": "stdout",
     "output_type": "stream",
     "text": [
      "111133 {0}. 222211 {1}. \n",
      "112132 {1}. 121213 {2}. \n",
      "123211 {2}. 111223 {3}. \n",
      "122221 {3}. 111313 {4}. \n",
      "312121 {4}. 112312 {4}. \n",
      "112321 {5}. \n"
     ]
    }
   ],
   "source": [
    "a_win, as, bs = play_random_vs_aggro(payoffs, [int2ind[111133]], [int2ind[222211]])\n",
    "display_game(payoffs, as, bs)"
   ]
  },
  {
   "cell_type": "code",
   "execution_count": 36,
   "id": "6389a1bd",
   "metadata": {},
   "outputs": [],
   "source": [
    "# n_games = 100\n",
    "# counts = Array{Int64}(undef, (nlib, nlib)) .* 0\n",
    "# wins = Array{Int64}(undef, (nlib, nlib)) .* 0\n",
    "# for a in 1:nlib\n",
    "#     for b in 1:nlib\n",
    "#         for i in 1:n_games\n",
    "#             a_win, as, bs = play_random_vs_aggro(payoffs, [a], [b])\n",
    "#             counts[a,b] += 1\n",
    "#             if a_win==1\n",
    "#                 wins[a,b] +=1\n",
    "#             end\n",
    "#         end\n",
    "        \n",
    "#     end\n",
    "# end"
   ]
  },
  {
   "cell_type": "code",
   "execution_count": 37,
   "id": "0b94fd85",
   "metadata": {},
   "outputs": [],
   "source": [
    "# maxes = [minimum(wins[i, :]) for i in 1:nlib]\n",
    "# for i in sortperm(-maxes)\n",
    "#     js = findall(wins[i, :].==minimum(wins[i, :]))\n",
    "#     print(libi[i])\n",
    "#     print(\" \")\n",
    "#     print(libi[js])\n",
    "#     print(\" \")\n",
    "#     println(minimum(wins[i, :])/n_games)\n",
    "# end"
   ]
  },
  {
   "cell_type": "code",
   "execution_count": 38,
   "id": "f4b225d8",
   "metadata": {},
   "outputs": [],
   "source": [
    "# n_games = 100\n",
    "# counts = Array{Int64}(undef, (nlib, nlib)) .* 0\n",
    "# wins = Array{Int64}(undef, (nlib, nlib)) .* 0\n",
    "# a1 = int2ind[121321]\n",
    "# b1 = int2ind[214111]\n",
    "# a_moves = legal_moves(payoffs, [a1], [b1])\n",
    "# for a in a_moves\n",
    "#     b_moves = legal_moves(payoffs, [b1], [a1, a])\n",
    "#     for b in b_moves\n",
    "#         for i in 1:n_games\n",
    "#             a_win, as, bs = play_random_vs_aggro(payoffs, [a1,a], [b1,b])\n",
    "#             counts[a,b] += 1\n",
    "#             if a_win==1\n",
    "#                 wins[a,b] +=1\n",
    "#             end\n",
    "#         end\n",
    "        \n",
    "#     end\n",
    "# end"
   ]
  },
  {
   "cell_type": "code",
   "execution_count": 39,
   "id": "304c5060",
   "metadata": {
    "scrolled": false
   },
   "outputs": [],
   "source": [
    "# maxes = [minimum(wins[i, :]) for i in 1:nlib]\n",
    "# for i in sortperm(-maxes)[1:10]\n",
    "#     if i in a_moves\n",
    "#         wns = wins[i, :]\n",
    "#         cns = counts[i, :]\n",
    "#         min_wins = minimum(wns[cns .> 0])\n",
    "#         js = findall(wns .== min_wins)\n",
    "#         print(libi[i])\n",
    "#         print(\" \")\n",
    "#         print(libi[js])\n",
    "#         print(\" \")\n",
    "#         println(minimum(wins[i, :])/n_games)\n",
    "#     end\n",
    "# end"
   ]
  },
  {
   "cell_type": "code",
   "execution_count": 40,
   "id": "e13580ee",
   "metadata": {},
   "outputs": [
    {
     "name": "stdout",
     "output_type": "stream",
     "text": [
      "121321 {0}. 214111 {0}. \n",
      "213112 {0}. 313111 {0}. \n",
      "111133 {0}. 213211 {2}. \n",
      "131113 {3}. 213121 {3}. \n",
      "131122 {4}. 113131 {4}. \n",
      "113221 {4}. 111313 {4}. \n",
      "214111 {5}. 121132 {5}. \n",
      "121312 {5}. \n"
     ]
    }
   ],
   "source": [
    "# check game lengths\n",
    "a1 = int2ind[121321]\n",
    "b1 = int2ind[214111]\n",
    "a2 = int2ind[213112]\n",
    "b2 = int2ind[313111]\n",
    "a_win, as, bs = play_random_vs_aggro(payoffs, [a1,a2],[b1,b2])\n",
    "display_game(payoffs, as, bs)"
   ]
  },
  {
   "cell_type": "code",
   "execution_count": 41,
   "id": "bef0c14c",
   "metadata": {},
   "outputs": [],
   "source": [
    "# n_games = 1000\n",
    "# counts = Array{Int64}(undef, (nlib, nlib)) .* 0\n",
    "# wins = Array{Int64}(undef, (nlib, nlib)) .* 0\n",
    "# a1 = int2ind[121321]\n",
    "# b1 = int2ind[214111]\n",
    "# a2 = int2ind[213112]\n",
    "# b2 = int2ind[313111]\n",
    "# a_moves = legal_moves(payoffs, [a1,a2], [b1,b2])\n",
    "# for a in a_moves\n",
    "#     b_moves = legal_moves(payoffs, [b1,b2], [a1,a2,a])\n",
    "#     for b in b_moves\n",
    "#         for i in 1:n_games\n",
    "#             a_win, as, bs = play_random_vs_aggro(payoffs, [a1,a2,a], [b1,b2,b])\n",
    "#             counts[a,b] += 1\n",
    "#             if a_win==1\n",
    "#                 wins[a,b] +=1\n",
    "#             end\n",
    "#         end\n",
    "        \n",
    "#     end\n",
    "# end"
   ]
  },
  {
   "cell_type": "code",
   "execution_count": 42,
   "id": "7daf8fd6",
   "metadata": {},
   "outputs": [],
   "source": [
    "# maxes = [minimum(wins[i, :]) for i in 1:nlib]\n",
    "# for i in sortperm(-maxes)[1:10]\n",
    "#     if i in a_moves\n",
    "#         wns = wins[i, :]\n",
    "#         cns = counts[i, :]\n",
    "#         min_wins = minimum(wns[cns .> 0])\n",
    "#         js = findall(wns .== min_wins)\n",
    "#         print(libi[i])\n",
    "#         print(\" \")\n",
    "#         print(libi[js])\n",
    "#         print(\" \")\n",
    "#         println(minimum(wins[i, :])/n_games)\n",
    "#     end\n",
    "# end"
   ]
  },
  {
   "cell_type": "code",
   "execution_count": 43,
   "id": "5c7a7975",
   "metadata": {},
   "outputs": [
    {
     "name": "stdout",
     "output_type": "stream",
     "text": [
      "121321 {0}. 214111 {0}. \n",
      "213112 {0}. 313111 {0}. \n",
      "121321 {0}. 121222 {0}. \n",
      "312211 {1}. 113311 {4}. \n"
     ]
    }
   ],
   "source": [
    "# check game lengths\n",
    "a1 = int2ind[121321]\n",
    "b1 = int2ind[214111]\n",
    "a2 = int2ind[213112]\n",
    "b2 = int2ind[313111]\n",
    "a3 = int2ind[121321]\n",
    "b3 = int2ind[121222]\n",
    "a_win, as, bs = play_random_vs_aggro(payoffs, [a1,a2,a3],[b1,b2,b3])\n",
    "display_game(payoffs, as, bs)"
   ]
  },
  {
   "cell_type": "code",
   "execution_count": 44,
   "id": "1520d269",
   "metadata": {},
   "outputs": [],
   "source": [
    "# n_games = 100\n",
    "# counts = Array{Int64}(undef, (nlib, nlib)) .* 0\n",
    "# wins = Array{Int64}(undef, (nlib, nlib)) .* 0\n",
    "# a1 = int2ind[121321]\n",
    "# b1 = int2ind[214111]\n",
    "# a2 = int2ind[213112]\n",
    "# b2 = int2ind[313111]\n",
    "# a3 = int2ind[121321]\n",
    "# b3 = int2ind[121222]\n",
    "# a_moves = legal_moves(payoffs, [a1,a2,a3], [b1,b2,b3])\n",
    "# for a in a_moves\n",
    "#     b_moves = legal_moves(payoffs, [b1,b2,b3], [a1,a2,a3,a])\n",
    "#     for b in b_moves\n",
    "#         for i in 1:n_games\n",
    "#             a_win, as, bs = play_random_vs_aggro(payoffs, [a1,a2,a3,a], [b1,b2,b3,b])\n",
    "#             counts[a,b] += 1\n",
    "#             if a_win==1\n",
    "#                 wins[a,b] +=1\n",
    "#             end\n",
    "#         end\n",
    "        \n",
    "#     end\n",
    "# end"
   ]
  },
  {
   "cell_type": "code",
   "execution_count": 45,
   "id": "8813d1e4",
   "metadata": {},
   "outputs": [],
   "source": [
    "# maxes = [minimum(wins[i, :]) for i in 1:nlib]\n",
    "# for i in sortperm(-maxes)[1:10]\n",
    "#     if i in a_moves\n",
    "#         wns = wins[i, :]\n",
    "#         cns = counts[i, :]\n",
    "#         min_wins = minimum(wns[cns .> 0])\n",
    "#         js = findall(wns .== min_wins)\n",
    "#         print(libi[i])\n",
    "#         print(\" \")\n",
    "#         print(libi[js])\n",
    "#         print(\" \")\n",
    "#         println(minimum(wins[i, :])/n_games)\n",
    "#     end\n",
    "# end"
   ]
  },
  {
   "cell_type": "code",
   "execution_count": 46,
   "id": "b5aa8ad0",
   "metadata": {},
   "outputs": [
    {
     "name": "stdout",
     "output_type": "stream",
     "text": [
      "121321 {0}. 214111 {0}. \n",
      "213112 {0}. 313111 {0}. \n",
      "121321 {0}. 121222 {0}. \n",
      "113122 {0}. 111133 {2}. \n",
      "312121 {2}. 112213 {2}. \n",
      "212221 {2}. 113212 {3}. \n",
      "214111 {3}. 122221 {4}. \n",
      "111313 {5}. \n"
     ]
    }
   ],
   "source": [
    "# check game lengths\n",
    "a1 = int2ind[121321]\n",
    "b1 = int2ind[214111]\n",
    "a2 = int2ind[213112]\n",
    "b2 = int2ind[313111]\n",
    "a3 = int2ind[121321]\n",
    "b3 = int2ind[121222]\n",
    "a4 = int2ind[113122]\n",
    "b4 = int2ind[111133]\n",
    "a_win, as, bs = play_random_vs_aggro(payoffs, [a1,a2,a3,a4],[b1,b2,b3,b4])\n",
    "display_game(payoffs, as, bs)"
   ]
  },
  {
   "cell_type": "markdown",
   "id": "e8dbc8c4",
   "metadata": {},
   "source": [
    "## MCTS"
   ]
  },
  {
   "cell_type": "code",
   "execution_count": 47,
   "id": "867e5215",
   "metadata": {},
   "outputs": [
    {
     "data": {
      "text/plain": [
       "merge_arrs (generic function with 1 method)"
      ]
     },
     "execution_count": 47,
     "metadata": {},
     "output_type": "execute_result"
    }
   ],
   "source": [
    "function intarr_to_string(as::Array{Int64})::String\n",
    "    return join([convert(Char, a+32) for a in as])\n",
    "end\n",
    "\n",
    "function string_to_intarr(s::String)::Array{Int64}\n",
    "    return [convert(Int64, s[i])-32 for i in 1:length(s)]\n",
    "end\n",
    "\n",
    "# s=intarr_to_string([i for i in 1:75])\n",
    "# as=string_to_intarr(s)\n",
    "# for i in as\n",
    "#     print(i)\n",
    "#     print(\" \")\n",
    "# end\n",
    "\n",
    "function split_arrs(zs::Array{Int64})::Tuple{Array{Int64},Array{Int64}}\n",
    "    if mod(length(zs), 2)==0\n",
    "        return (zs[1:2:(end-1)], zs[2:2:end])\n",
    "    else\n",
    "        return (zs[1:2:end], zs[2:2:(end-1)])\n",
    "    end\n",
    "end\n",
    "\n",
    "function merge_arrs(as::Array{Int64}, bs::Array{Int64})::Array{Int64}\n",
    "    zs = Array{Int64}(undef, length(as)+length(bs))\n",
    "    if mod(length(zs), 2)==0\n",
    "        zs[1:2:(end-1)]=as\n",
    "        zs[2:2:end]=bs\n",
    "    else\n",
    "        zs[1:2:end] = as\n",
    "    zs[2:2:(end-1)] = bs\n",
    "    end\n",
    "    return zs\n",
    "end"
   ]
  },
  {
   "cell_type": "code",
   "execution_count": 48,
   "id": "c7c17d52",
   "metadata": {},
   "outputs": [
    {
     "data": {
      "text/plain": [
       "get_children (generic function with 1 method)"
      ]
     },
     "execution_count": 48,
     "metadata": {},
     "output_type": "execute_result"
    }
   ],
   "source": [
    "function propagate_win(tree::Dict{String, Vector{Int64}}, leaf::String, win::Int64)::Dict{String, Vector{Int64}}\n",
    "    for i in 0:length(leaf)\n",
    "        if i==0\n",
    "            node=\"\"\n",
    "        else\n",
    "            node=leaf[1:i]\n",
    "        end\n",
    "        tree[node][2] += 1\n",
    "        tree[node][1] += win\n",
    "    end\n",
    "    return tree\n",
    "end\n",
    "\n",
    "function append_move_to_leaf(leaf::String, move::Int64)::String\n",
    "    zs = string_to_intarr(leaf)\n",
    "    append!(zs, move)\n",
    "    return intarr_to_string(zs)\n",
    "end\n",
    "\n",
    "function get_children(payoffs::Array{Int64}, leaf::String)::Array{String}\n",
    "    # get arrays\n",
    "    as, bs = split_arrs(string_to_intarr(leaf))\n",
    "    if mod(length(leaf), 2)==0\n",
    "        player = 1\n",
    "    else\n",
    "        player = 2\n",
    "    end\n",
    "    # generate successors\n",
    "    if player==1\n",
    "        cands = legal_moves(payoffs, as, bs)\n",
    "    else\n",
    "        cands = legal_moves(payoffs, bs, as)\n",
    "    end\n",
    "    return [append_move_to_leaf(leaf, c) for c in cands]\n",
    "end"
   ]
  },
  {
   "cell_type": "code",
   "execution_count": 49,
   "id": "36fb9ca9",
   "metadata": {},
   "outputs": [
    {
     "data": {
      "text/plain": [
       "check_and_propagate_terminal (generic function with 1 method)"
      ]
     },
     "execution_count": 49,
     "metadata": {},
     "output_type": "execute_result"
    }
   ],
   "source": [
    "function check_and_propagate_terminal(payoffs::Array{Int64}, tree::Dict{String, Vector{Int64}}, leaf::String)::Dict{String, Vector{Int64}}\n",
    "    children = get_children(payoffs, leaf)\n",
    "    if length(children) == 0\n",
    "        # indicate terminal\n",
    "        tree[leaf][3]=1\n",
    "        if mod(length(leaf), 2)==0\n",
    "            #p1 lost\n",
    "            tree = propagate_win(tree, leaf, 0)\n",
    "        else\n",
    "            #p1 won\n",
    "            tree = propagate_win(tree, leaf, 1)\n",
    "        end\n",
    "    end\n",
    "    return tree\n",
    "end"
   ]
  },
  {
   "cell_type": "code",
   "execution_count": 50,
   "id": "522db1cb",
   "metadata": {},
   "outputs": [
    {
     "data": {
      "text/plain": [
       "query_node (generic function with 1 method)"
      ]
     },
     "execution_count": 50,
     "metadata": {},
     "output_type": "execute_result"
    }
   ],
   "source": [
    "function try_add_node(tree::Dict{String, Vector{Int64}}, node::String)::Dict{String, Vector{Int64}}\n",
    "    if haskey(tree, node)\n",
    "        return tree\n",
    "    else\n",
    "        tree[node] = [0,0,0]\n",
    "        return tree\n",
    "    end\n",
    "end\n",
    "\n",
    "function query_node(tree, node)::Array{Int64}\n",
    "    if haskey(tree, node)\n",
    "        return tree[node]\n",
    "    else\n",
    "        return [0,0,0]\n",
    "    end\n",
    "end"
   ]
  },
  {
   "cell_type": "code",
   "execution_count": 51,
   "id": "c740ead6",
   "metadata": {},
   "outputs": [
    {
     "data": {
      "text/plain": [
       "expand_leaf (generic function with 1 method)"
      ]
     },
     "execution_count": 51,
     "metadata": {},
     "output_type": "execute_result"
    }
   ],
   "source": [
    "function expand_leaf(\n",
    "        payoffs::Array{Int64}, tree::Dict{String, Vector{Int64}}, leaf::String)::Dict{String, Vector{Int64}}\n",
    "    # check if leaf is terminal\n",
    "    tree = check_and_propagate_terminal(payoffs, tree, leaf)\n",
    "    if tree[leaf][3]==1\n",
    "        return tree\n",
    "    end\n",
    "    # get arrays for leaf\n",
    "    as, bs = split_arrs(string_to_intarr(leaf))\n",
    "    if mod(length(leaf), 2)==0\n",
    "        player = 1\n",
    "    else\n",
    "        player = 2\n",
    "    end\n",
    "    # generate random successor\n",
    "    if player==1\n",
    "        cands = legal_moves(payoffs, as, bs)\n",
    "        newleaf = append_move_to_leaf(leaf, rand(cands))\n",
    "    else\n",
    "        cands = legal_moves(payoffs, bs, as)\n",
    "        newleaf = append_move_to_leaf(leaf, rand(cands))\n",
    "    end\n",
    "    tree = try_add_node(tree, newleaf)\n",
    "    tree = check_and_propagate_terminal(payoffs, tree, newleaf)\n",
    "    # play the match\n",
    "    as, bs = split_arrs(string_to_intarr(newleaf))\n",
    "    a_win, as2, bs2 = play_random_vs_aggro(payoffs, as, bs)\n",
    "    # propagate result\n",
    "    if a_win == 1\n",
    "        tree = propagate_win(tree, newleaf, 1)\n",
    "    else\n",
    "        tree = propagate_win(tree, newleaf, 0)\n",
    "    end\n",
    "    return tree\n",
    "end\n"
   ]
  },
  {
   "cell_type": "code",
   "execution_count": 52,
   "id": "be7b9e27",
   "metadata": {},
   "outputs": [
    {
     "data": {
      "text/plain": [
       "sample_next_node (generic function with 2 methods)"
      ]
     },
     "execution_count": 52,
     "metadata": {},
     "output_type": "execute_result"
    }
   ],
   "source": [
    "function sample_next_node(\n",
    "        payoffs::Array{Int64}, tree::Dict{String, Vector{Int64}}, node::String, \n",
    "        explore_const::Float64=1.4)::String\n",
    "    # values for UCT\n",
    "    n = tree[node][2]\n",
    "    # assumes that all children are added\n",
    "    children = get_children(payoffs, node)\n",
    "    counts = [query_node(tree, c)[2] for c in children]\n",
    "    wins = [query_node(tree, c)[1] for c in children]\n",
    "    if minimum(counts) == 0\n",
    "        sel = children[rand(findall(counts .== 0))]\n",
    "        return sel\n",
    "    end\n",
    "    if mod(length(node), 2)==1\n",
    "        wins = counts .- wins\n",
    "    end\n",
    "    scores = counts .* 0.0\n",
    "    for i in 1:length(scores)\n",
    "        if counts[i] > 0\n",
    "            scores[i] = wins[i]/counts[i] + explore_const * sqrt((log(n)/counts[i]))\n",
    "        end\n",
    "    end\n",
    "    sel = children[rand(findall(scores .== maximum(scores)))]\n",
    "    return sel\n",
    "end"
   ]
  },
  {
   "cell_type": "code",
   "execution_count": 53,
   "id": "41607172",
   "metadata": {},
   "outputs": [
    {
     "data": {
      "text/plain": [
       "random_leaf (generic function with 2 methods)"
      ]
     },
     "execution_count": 53,
     "metadata": {},
     "output_type": "execute_result"
    }
   ],
   "source": [
    "function random_leaf(payoffs::Array{Int64}, tree::Dict{String, Vector{Int64}}, node::String=\"\")::String\n",
    "    while query_node(tree,node)[2] > 1 && query_node(tree,node)[3] != 1\n",
    "        node = sample_next_node(payoffs, tree, node)\n",
    "    end\n",
    "    return node\n",
    "end"
   ]
  },
  {
   "cell_type": "code",
   "execution_count": 74,
   "id": "9b011312",
   "metadata": {},
   "outputs": [
    {
     "data": {
      "text/plain": [
       "1-element Vector{Float64}:\n",
       " 0.413901727476616"
      ]
     },
     "execution_count": 74,
     "metadata": {},
     "output_type": "execute_result"
    }
   ],
   "source": [
    "rand(1)"
   ]
  },
  {
   "cell_type": "code",
   "execution_count": 91,
   "id": "e65d13d3",
   "metadata": {},
   "outputs": [
    {
     "name": "stdout",
     "output_type": "stream",
     "text": [
      "1112113111111111111112111113113111111121111111111211121111111111121111321221112111111111131112131111"
     ]
    }
   ],
   "source": [
    "for i in 1:100\n",
    "    p = [0.8, 0.1, 0.1]\n",
    "    cs = cumsum(p)\n",
    "    z = rand(1)[1]\n",
    "    print(minimum(findall(cs .>= z)))\n",
    "end"
   ]
  },
  {
   "cell_type": "code",
   "execution_count": 80,
   "id": "640421a9",
   "metadata": {},
   "outputs": [
    {
     "data": {
      "text/plain": [
       "3-element Vector{Float64}:\n",
       " 0.2\n",
       " 0.5\n",
       " 1.0"
      ]
     },
     "execution_count": 80,
     "metadata": {},
     "output_type": "execute_result"
    }
   ],
   "source": [
    "p = [0.2, 0.3, 0.5]\n",
    "cs = cumsum(p)"
   ]
  },
  {
   "cell_type": "code",
   "execution_count": 94,
   "id": "83bd8589",
   "metadata": {},
   "outputs": [
    {
     "data": {
      "text/plain": [
       "sample_next_node2 (generic function with 2 methods)"
      ]
     },
     "execution_count": 94,
     "metadata": {},
     "output_type": "execute_result"
    }
   ],
   "source": [
    "# exploit mode\n",
    "function sample_next_node2(\n",
    "        payoffs::Array{Int64}, tree::Dict{String, Vector{Int64}}, node::String, beta::Float64 = 1.0)::String\n",
    "    # values for UCT\n",
    "    n = tree[node][2]\n",
    "    # assumes that all children are added\n",
    "    children = get_children(payoffs, node)\n",
    "    counts = [query_node(tree, c)[2] for c in children]\n",
    "    wins = [query_node(tree, c)[1] for c in children]\n",
    "    scores = counts .* 0.0\n",
    "    for i in 1:length(scores)\n",
    "        if counts[i] > 0\n",
    "            scores[i] = wins[i]/counts[i]\n",
    "        end\n",
    "    end\n",
    "    scores = [exp(beta*x) for x in scores]\n",
    "    scores = scores./sum(scores)\n",
    "    cs = cumsum(scores)\n",
    "    z = rand(1)[1]\n",
    "    sel = children[minimum(findall(cs .>= z))]\n",
    "    return sel\n",
    "end"
   ]
  },
  {
   "cell_type": "code",
   "execution_count": 54,
   "id": "56802484",
   "metadata": {},
   "outputs": [
    {
     "data": {
      "text/plain": [
       "display_choices (generic function with 1 method)"
      ]
     },
     "execution_count": 54,
     "metadata": {},
     "output_type": "execute_result"
    }
   ],
   "source": [
    "function display_node(payoffs::Array{Int64}, tree::Dict{String, Vector{Int64}}, node::String)\n",
    "    print(\"Node: \")\n",
    "    println(node)\n",
    "    as, bs = split_arrs(string_to_intarr(node))\n",
    "    display_game(payoffs, as, bs)\n",
    "    print(\"Stats: \")\n",
    "    print(query_node(tree,node)[1])\n",
    "    print(\"/\")\n",
    "    print(query_node(tree,node)[2])\n",
    "    print(\"=\")\n",
    "    s = string(query_node(tree,node)[1]/query_node(tree,node)[2])\n",
    "    println(s[1:min(5, length(s))])\n",
    "    if query_node(tree,node)[3]==1\n",
    "        println(\"[terminal] \")\n",
    "    end\n",
    "end\n",
    "\n",
    "function display_path(payoffs::Array{Int64}, tree::Dict{String, Vector{Int64}}, leaf::String)\n",
    "    for i in 0:length(leaf)\n",
    "        if i==0\n",
    "            display_node(payoffs, tree, \"\")\n",
    "        else\n",
    "            display_node(payoffs, tree, leaf[1:i])\n",
    "        end\n",
    "        println()\n",
    "    end\n",
    "end\n",
    "\n",
    "function display_choices(payoffs::Array{Int64}, tree::Dict{String, Vector{Int64}}, node::String)\n",
    "    children = get_children(payoffs, node)\n",
    "    display_node(payoffs, tree, node)\n",
    "    for c in children\n",
    "        println()\n",
    "        display_node(payoffs, tree, c)\n",
    "    end\n",
    "end"
   ]
  },
  {
   "cell_type": "code",
   "execution_count": 55,
   "id": "0e01aeb9",
   "metadata": {},
   "outputs": [
    {
     "data": {
      "text/plain": [
       "Dict{String, Vector{Int64}} with 1 entry:\n",
       "  \"\" => [0, 0, 0]"
      ]
     },
     "execution_count": 55,
     "metadata": {},
     "output_type": "execute_result"
    }
   ],
   "source": [
    "#tree = load_object(\"beatn10_tree.jld2\")\n",
    "\n",
    "tree = Dict(\"\" => [0,0,0])\n"
   ]
  },
  {
   "cell_type": "code",
   "execution_count": 56,
   "id": "9437dbfd",
   "metadata": {},
   "outputs": [],
   "source": [
    "#tree = expand_leaf(payoffs, tree, \"\")"
   ]
  },
  {
   "cell_type": "code",
   "execution_count": 57,
   "id": "5deea01f",
   "metadata": {},
   "outputs": [
    {
     "data": {
      "text/plain": [
       "\"\""
      ]
     },
     "execution_count": 57,
     "metadata": {},
     "output_type": "execute_result"
    }
   ],
   "source": [
    "node = random_leaf(payoffs, tree, \"\")"
   ]
  },
  {
   "cell_type": "code",
   "execution_count": 58,
   "id": "180fcb54",
   "metadata": {},
   "outputs": [
    {
     "name": "stdout",
     "output_type": "stream",
     "text": [
      "..TTF..N`G..NBK..Nc^..L\"/..,Li..,SG..,`E..,N=..,TB..%D_..1/K..-I9..bW-..Wi<..*UP..<YB..<*J..<24..<(-.\n",
      ".\\>2..\\Dg..\\0>..\\0O..\\.4..\\.+..\\)&..\\J...\\JC..\\JI..\\8S..\\QR..\\D%..\\gA..\\B$..\\DI..\\gP..\\BW..\\i@g..\\X(.\n",
      "/<..NCD2..N5Q..N;f..N;g..NBM*..NB\"$..NS5I..NS3i..NS%&..NS)J..NS6b..N%T..NV?..N'_..N:U..N:c..NW-..NdG.\n",
      "HE7A..HEIE..HE2A..HE27..HE5/..HEV]..HE0h..HEKi..HEC\"..HECF..HET4..HEib..HEi:..HET5..HET\"..HSc[..HDcT.\n",
      "[N..H9iS..HG>*..HG>L..HHad3..HHaiZ..HH82..HH8-..HE9c..HE07..HEQa..HED#..HEDZ..HEO3..HEO]..H$CP..H$XY.\n",
      "T..ighe..ighb..ig,a..igM\"..igMI..igE=..igN&..igNd..igNa..igGI..igGO..igG:..igBQ..igcT6..igcDj..igcM;.\n",
      "FK..HHcaS..HHB]..HHBW..HHUG..HHUN..HHP8..HHEbb..HH6a..HHKC..HH%#..HH'8..HH-/..HH-M..HH-;..HHe%..HHe..\n",
      "7!..THRT&..THRdN..TH=c?..THiY4..THi?2..THiTI..THiT=..Tajg..Taia..TX#(..TX=L..TXCZ..TXHh..T5D'..THicF.\n",
      ".H`BiTj..H`Bi<0..H`B(I..Q>b..H`DG+..<``..<R$..<R1]..i`TH=)\"..`H4-..TbI)c..TbIR[..TbEfN..TbEMC..TbEHI.\n",
      "`9H=E..cH=3(..gHcd..gHcD..gHc]..gHG(..gS;5..gS5a..gLB\"..gi:@..g+!..g+R..gcFi..gcVG..gcM4..gcRO..g?@d.\n"
     ]
    }
   ],
   "source": [
    "for metaiter in 1:10\n",
    "    s = \"\"\n",
    "    for iter in 1:100000\n",
    "        s = string(s,\".\")\n",
    "        node = random_leaf(payoffs, tree, \"\")\n",
    "        tree = try_add_node(tree, node)\n",
    "        tree = check_and_propagate_terminal(payoffs, tree, node)\n",
    "        s = string(s, node, \".\")\n",
    "        tree = expand_leaf(payoffs, tree, node)\n",
    "    end\n",
    "    println(s[end-100:end])\n",
    "    save_object(\"beatn10_tree.jld2\", tree)\n",
    "end"
   ]
  },
  {
   "cell_type": "code",
   "execution_count": 59,
   "id": "17e5e839",
   "metadata": {},
   "outputs": [
    {
     "data": {
      "text/plain": [
       "1809501"
      ]
     },
     "execution_count": 59,
     "metadata": {},
     "output_type": "execute_result"
    }
   ],
   "source": [
    "length(tree)"
   ]
  },
  {
   "cell_type": "code",
   "execution_count": 60,
   "id": "d5a9264a",
   "metadata": {},
   "outputs": [
    {
     "data": {
      "text/plain": [
       "\"g?Ua\""
      ]
     },
     "execution_count": 60,
     "metadata": {},
     "output_type": "execute_result"
    }
   ],
   "source": [
    "node = random_leaf(payoffs, tree, \"\")"
   ]
  },
  {
   "cell_type": "code",
   "execution_count": 105,
   "id": "cb2db6fb",
   "metadata": {
    "scrolled": false
   },
   "outputs": [
    {
     "name": "stdout",
     "output_type": "stream",
     "text": [
      "Node: J\n",
      "122113 {0}. \n",
      "Stats: 1430/3896=0.367\n",
      "\n",
      "Node: e\n",
      "222211 {0}. \n",
      "Stats: 716/2122=0.337\n",
      "\n",
      "Node: )\n",
      "111322 {0}. \n",
      "Stats: 1520/4116=0.369\n",
      "\n",
      "Node: I\n",
      "121411 {0}. \n",
      "Stats: 7242/17611=0.411\n",
      "\n",
      "Node: +\n",
      "111412 {0}. \n",
      "Stats: 2819/7242=0.389\n",
      "\n",
      "Node: L\n",
      "122212 {0}. \n",
      "Stats: 1981/5234=0.378\n",
      "\n",
      "Node: =\n",
      "113311 {0}. \n",
      "Stats: 3132/7986=0.392\n",
      "\n",
      "Node: >.\n",
      "114112 {0}. 112114 {0}. \n",
      "Stats: 59/106=0.556\n",
      "\n",
      "Node: 4]\n",
      "112231 {0}. 212212 {0}. \n",
      "Stats: 15/35=0.428\n",
      "\n",
      "Node: \";\n",
      "111133 {0}. 113212 {0}. \n",
      "Stats: 74/139=0.532\n",
      "\n",
      "Node: 7^\n",
      "112411 {0}. 212221 {1}. \n",
      "Stats: 9/10=0.9\n",
      "\n",
      "Node: '$\n",
      "111241 {0}. 111214 {0}. \n",
      "Stats: 11/14=0.785\n",
      "\n",
      "Node: [#\n",
      "212122 {0}. 111142 {0}. \n",
      "Stats: 51/99=0.515\n",
      "\n",
      "Node: 1$\n",
      "112141 {0}. 111214 {1}. \n",
      "Stats: 10/14=0.714\n",
      "\n",
      "Node: 93M\n",
      "113122 {0}. 112222 {1}. \n",
      "122221 {1}. \n",
      "Stats: 2/2=1.0\n",
      "\n",
      "Node: 21c\n",
      "112213 {0}. 112141 {0}. \n",
      "214111 {1}. \n",
      "Stats: 1/1=1.0\n",
      "\n",
      "Node: Pd_\n",
      "123211 {0}. 222112 {0}. \n",
      "212311 {0}. \n",
      "Stats: 1/1=1.0\n",
      "\n",
      "Node: ?.$\n",
      "114121 {0}. 112114 {0}. \n",
      "111214 {1}. \n",
      "Stats: 2/2=1.0\n",
      "\n",
      "Node: 9<c\n",
      "113122 {0}. 113221 {1}. \n",
      "214111 {1}. \n",
      "Stats: 4/5=0.8\n",
      "\n",
      "Node: j-`\n",
      "412111 {0}. 111511 {0}. \n",
      "213112 {1}. \n",
      "Stats: 1/1=1.0\n",
      "\n",
      "Node: []i\n",
      "212122 {0}. 212212 {1}. \n",
      "313111 {1}. \n",
      "Stats: 9/11=0.818\n",
      "\n"
     ]
    }
   ],
   "source": [
    "for mj in 1:3\n",
    "    for i in 1:7\n",
    "        node = \"\"\n",
    "        for j in 1:mj\n",
    "            if haskey(tree, node)\n",
    "                node = sample_next_node2(payoffs, tree, node, 10.0)\n",
    "            end\n",
    "        end\n",
    "        display_node(payoffs, tree, node)\n",
    "        println()\n",
    "    end\n",
    "end"
   ]
  },
  {
   "cell_type": "code",
   "execution_count": 61,
   "id": "5b275c3b",
   "metadata": {
    "scrolled": false
   },
   "outputs": [
    {
     "name": "stdout",
     "output_type": "stream",
     "text": [
      "Node: \n",
      "Stats: 416541/1002909=0.415\n",
      "\n",
      "Node: g\n",
      "312121 {0}. \n",
      "Stats: 3958/9935=0.398\n",
      "\n",
      "Node: g?\n",
      "312121 {0}. 114121 {1}. \n",
      "Stats: 56/136=0.411\n",
      "\n",
      "Node: g?U\n",
      "312121 {0}. 114121 {1}. \n",
      "131311 {1}. \n",
      "Stats: 3/4=0.75\n",
      "\n",
      "Node: g?Uf\n",
      "312121 {0}. 114121 {1}. \n",
      "131311 {1}. 312112 {1}. \n",
      "Stats: 0/0=NaN\n",
      "\n"
     ]
    }
   ],
   "source": [
    "node = random_leaf(payoffs, tree, \"\")\n",
    "display_path(payoffs, tree, node)"
   ]
  },
  {
   "cell_type": "code",
   "execution_count": 62,
   "id": "226303a8",
   "metadata": {},
   "outputs": [
    {
     "data": {
      "text/plain": [
       "1809501"
      ]
     },
     "execution_count": 62,
     "metadata": {},
     "output_type": "execute_result"
    }
   ],
   "source": [
    "length(tree)"
   ]
  },
  {
   "cell_type": "code",
   "execution_count": 63,
   "id": "1e9b4e21",
   "metadata": {},
   "outputs": [
    {
     "name": "stdout",
     "output_type": "stream",
     "text": [
      "g\n",
      "g?\n",
      "g?U\n",
      "g?U^\n"
     ]
    }
   ],
   "source": [
    "node = \"\"\n",
    "while query_node(tree,node)[2] > 1 && query_node(tree,node)[3] != 1\n",
    "    node = sample_next_node(payoffs, tree, node)\n",
    "    println(node)\n",
    "end"
   ]
  },
  {
   "cell_type": "code",
   "execution_count": 64,
   "id": "5fbb7dfd",
   "metadata": {},
   "outputs": [
    {
     "name": "stdout",
     "output_type": "stream",
     "text": [
      "Node: g?U^\n",
      "312121 {0}. 114121 {1}. \n",
      "131311 {1}. 212221 {2}. \n",
      "Stats: 0/0=NaN\n"
     ]
    }
   ],
   "source": [
    "display_node(payoffs, tree, node)"
   ]
  },
  {
   "cell_type": "code",
   "execution_count": 65,
   "id": "b8805c89",
   "metadata": {},
   "outputs": [
    {
     "data": {
      "text/plain": [
       "3-element Vector{Int64}:\n",
       " 0\n",
       " 0\n",
       " 0"
      ]
     },
     "execution_count": 65,
     "metadata": {},
     "output_type": "execute_result"
    }
   ],
   "source": [
    "query_node(tree,node)"
   ]
  },
  {
   "cell_type": "code",
   "execution_count": 66,
   "id": "847e249a",
   "metadata": {},
   "outputs": [
    {
     "data": {
      "text/plain": [
       "15-element Vector{String}:\n",
       " \"g?U^0\"\n",
       " \"g?U^3\"\n",
       " \"g?U^4\"\n",
       " \"g?U^5\"\n",
       " \"g?U^6\"\n",
       " \"g?U^;\"\n",
       " \"g?U^<\"\n",
       " \"g?U^B\"\n",
       " \"g?U^C\"\n",
       " \"g?U^E\"\n",
       " \"g?U^G\"\n",
       " \"g?U^H\"\n",
       " \"g?U^K\"\n",
       " \"g?U^M\"\n",
       " \"g?U^R\""
      ]
     },
     "execution_count": 66,
     "metadata": {},
     "output_type": "execute_result"
    }
   ],
   "source": [
    "children = get_children(payoffs, node)\n",
    "children"
   ]
  },
  {
   "cell_type": "code",
   "execution_count": 67,
   "id": "8d16b33d",
   "metadata": {},
   "outputs": [
    {
     "ename": "LoadError",
     "evalue": "KeyError: key \"g?U^\" not found",
     "output_type": "error",
     "traceback": [
      "KeyError: key \"g?U^\" not found",
      "",
      "Stacktrace:",
      " [1] getindex",
      "   @ ./dict.jl:484 [inlined]",
      " [2] sample_next_node(payoffs::Matrix{Int64}, tree::Dict{String, Vector{Int64}}, node::String, explore_const::Float64)",
      "   @ Main ./In[52]:5",
      " [3] sample_next_node(payoffs::Matrix{Int64}, tree::Dict{String, Vector{Int64}}, node::String)",
      "   @ Main ./In[52]:5",
      " [4] top-level scope",
      "   @ In[67]:1"
     ]
    }
   ],
   "source": [
    "sample_next_node(payoffs, tree, node)"
   ]
  },
  {
   "cell_type": "code",
   "execution_count": 68,
   "id": "a45e96e2",
   "metadata": {},
   "outputs": [],
   "source": [
    "# node = \"\"\n",
    "# while tree[node][2] > 1 && tree[node][3] != 1\n",
    "#     node = sample_next_node(payoffs, tree, node)\n",
    "#     display_leaf(payoffs, tree, node)\n",
    "#     println()\n",
    "# end\n"
   ]
  },
  {
   "cell_type": "code",
   "execution_count": 69,
   "id": "0e197833",
   "metadata": {
    "scrolled": false
   },
   "outputs": [],
   "source": [
    "#display_choices(payoffs, tree, \"HG`i\\\"\")"
   ]
  },
  {
   "cell_type": "code",
   "execution_count": null,
   "id": "9e886543",
   "metadata": {},
   "outputs": [],
   "source": []
  }
 ],
 "metadata": {
  "kernelspec": {
   "display_name": "Julia 1.9.3",
   "language": "julia",
   "name": "julia-1.9"
  },
  "language_info": {
   "file_extension": ".jl",
   "mimetype": "application/julia",
   "name": "julia",
   "version": "1.9.3"
  }
 },
 "nbformat": 4,
 "nbformat_minor": 5
}

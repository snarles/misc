{
 "cells": [
  {
   "cell_type": "markdown",
   "id": "052be005",
   "metadata": {},
   "source": [
    "Beat-n game with 10 pt limit"
   ]
  },
  {
   "cell_type": "markdown",
   "id": "72817bb1",
   "metadata": {},
   "source": [
    "## Spud code"
   ]
  },
  {
   "cell_type": "code",
   "execution_count": 1,
   "id": "494818e8",
   "metadata": {},
   "outputs": [],
   "source": [
    "using Random\n",
    "using DataFrames\n",
    "using CSV\n",
    "using DelimitedFiles\n",
    "using Statistics\n",
    "using Printf\n",
    "using LinearAlgebra\n",
    "using Dates\n",
    "using JLD2"
   ]
  },
  {
   "cell_type": "code",
   "execution_count": 2,
   "id": "45e21e7f",
   "metadata": {},
   "outputs": [],
   "source": [
    "struct Spud\n",
    "    name::String\n",
    "    h::Int64\n",
    "    f::Int64\n",
    "    l::Int64\n",
    "    p::Int64\n",
    "    r::Int64\n",
    "    s::Int64\n",
    "    a1::Int64\n",
    "end"
   ]
  },
  {
   "cell_type": "code",
   "execution_count": 3,
   "id": "950e076e",
   "metadata": {},
   "outputs": [
    {
     "data": {
      "text/plain": [
       "1"
      ]
     },
     "execution_count": 3,
     "metadata": {},
     "output_type": "execute_result"
    }
   ],
   "source": [
    "const MXV = 9\n",
    "const MNV = 1"
   ]
  },
  {
   "cell_type": "code",
   "execution_count": 4,
   "id": "ac830f74",
   "metadata": {},
   "outputs": [
    {
     "data": {
      "text/plain": [
       "eval_melee (generic function with 3 methods)"
      ]
     },
     "execution_count": 4,
     "metadata": {},
     "output_type": "execute_result"
    }
   ],
   "source": [
    "function compare_int_list(as::Vector{Int64}, bs::Vector{Int64}, tiebreaker::Int64 = 0)::Int64\n",
    "    n = min(length(as), length(bs))\n",
    "    for i in 1:n\n",
    "        if as[i] != bs[i]\n",
    "            return sign(as[i] - bs[i])\n",
    "        end\n",
    "    end\n",
    "    return tiebreaker\n",
    "end\n",
    "\n",
    "function spud_h_seq(a::Spud)::Vector{Int64}\n",
    "    return [a.h, a.s, a.r, a.p, a.l, a.f]\n",
    "end\n",
    "\n",
    "function spud_f_seq(a::Spud)::Vector{Int64}\n",
    "    return [a.f, a.s, a.r, a.p, a.l, a.h]\n",
    "end\n",
    "\n",
    "function spud_l_seq(a::Spud)::Vector{Int64}\n",
    "    return [a.l]\n",
    "end\n",
    "\n",
    "function spud_p_seq(a::Spud)::Vector{Int64}\n",
    "    return [a.p, a.l]\n",
    "end\n",
    "\n",
    "function spud_r_seq(a::Spud)::Vector{Int64}\n",
    "    return [a.r, a.f]\n",
    "end\n",
    "\n",
    "function spud_s_seq(a::Spud)::Vector{Int64}\n",
    "    return [a.s, a.h]\n",
    "end\n",
    "\n",
    "function spud_utb_seq(a::Spud)::Vector{Int64}\n",
    "    return [a.a1, a.h, a.f, a.l, a.p, a.r, a.s]\n",
    "end\n",
    "\n",
    "function eval_finds(a::Spud, b::Spud, tiebreaker::Int64 = 0)::Int64\n",
    "    ev = compare_int_list(spud_f_seq(a), spud_h_seq(b), tiebreaker)\n",
    "    ans = ev\n",
    "end\n",
    "\n",
    "function eval_melee(a::Spud, b::Spud, tiebreaker1::Int64 = 0, tiebreaker2::Int64 = 0)::Int64\n",
    "    comp_p = compare_int_list(spud_p_seq(a), spud_p_seq(b), tiebreaker1)\n",
    "    comp_r = compare_int_list(spud_r_seq(a), spud_r_seq(b), tiebreaker1)\n",
    "    comp_s = compare_int_list(spud_s_seq(a), spud_s_seq(b), tiebreaker1)\n",
    "    ev = 4 * comp_p + 3 * comp_r + 2 * comp_s\n",
    "    return sign(ev + (1-abs(ev))*tiebreaker2)\n",
    "end\n",
    "\n"
   ]
  },
  {
   "cell_type": "code",
   "execution_count": 5,
   "id": "f603612d",
   "metadata": {},
   "outputs": [
    {
     "data": {
      "text/plain": [
       "eval_battle (generic function with 1 method)"
      ]
     },
     "execution_count": 5,
     "metadata": {},
     "output_type": "execute_result"
    }
   ],
   "source": [
    "\n",
    "\n",
    "function eval_battle(a::Spud, b::Spud)::Int64\n",
    "    utb = compare_int_list(spud_utb_seq(a), spud_utb_seq(b), 0) # universal tiebreaker\n",
    "    if utb == 0\n",
    "        return 0\n",
    "    end\n",
    "    a_finds = eval_finds(a, b, utb)==1\n",
    "    b_finds = eval_finds(b, a, utb)==1\n",
    "    melee_win = eval_melee(a, b, 0, 0)\n",
    "    luck_win = compare_int_list([a.l, melee_win], [b.l, -melee_win], 0)\n",
    "    if melee_win ==1 && luck_win ==1\n",
    "        return 1\n",
    "    end\n",
    "    if melee_win == -1 && luck_win == -1\n",
    "        return -1\n",
    "    end\n",
    "    if a_finds && b_finds\n",
    "        return melee_win\n",
    "    end\n",
    "    if a_finds && !b_finds\n",
    "        return 1\n",
    "    end\n",
    "    if !a_finds && b_finds\n",
    "        return -1\n",
    "    end\n",
    "    if !a_finds && !b_finds\n",
    "        return luck_win\n",
    "    end\n",
    "end"
   ]
  },
  {
   "cell_type": "code",
   "execution_count": 6,
   "id": "560e9539",
   "metadata": {},
   "outputs": [
    {
     "data": {
      "text/plain": [
       "df_to_spuds (generic function with 1 method)"
      ]
     },
     "execution_count": 6,
     "metadata": {},
     "output_type": "execute_result"
    }
   ],
   "source": [
    "function eval_battle_list(a::Spud, bs::Array{Spud})::Int\n",
    "    score = 0\n",
    "    for ii in 1:length(bs)\n",
    "        score = score + eval_battle(a, bs[ii])\n",
    "    end\n",
    "    return score\n",
    "end\n",
    "\n",
    "function eval_battle_list2(a::Spud, bs::Array{Spud}, w::Vector{Float64})::AbstractFloat\n",
    "    score = 0.0\n",
    "    for ii in 1:length(bs)\n",
    "        score = score + w[ii] * eval_battle(a, bs[ii])\n",
    "    end\n",
    "    return score\n",
    "end\n",
    "\n",
    "function spuds_to_df(as::Array{Spud})::DataFrame\n",
    "    names = Array{String}(undef, length(as))\n",
    "    hs = Array{Int}(undef, length(as))\n",
    "    fs = Array{Int}(undef, length(as))\n",
    "    ls = Array{Int}(undef, length(as))\n",
    "    ps = Array{Int}(undef, length(as))\n",
    "    rs = Array{Int}(undef, length(as))\n",
    "    ss = Array{Int}(undef, length(as))\n",
    "    a1s = Array{Int}(undef, length(as))\n",
    "    for ii in 1:length(as)\n",
    "        names[ii] = as[ii].name\n",
    "        hs[ii] = as[ii].h\n",
    "        fs[ii] = as[ii].f\n",
    "        ls[ii] = as[ii].l\n",
    "        ps[ii] = as[ii].p\n",
    "        rs[ii] = as[ii].r\n",
    "        ss[ii] = as[ii].s\n",
    "        a1s[ii] = as[ii].a1\n",
    "    end\n",
    "    df = DataFrame(name = names, h = hs, f = fs, l = ls, p = ps, r = rs, s = ss, a1 = a1s)\n",
    "    return df\n",
    "end\n",
    "\n",
    "function fpart(x::AbstractFloat)::AbstractFloat\n",
    "  return x - trunc(x)\n",
    "end\n",
    "\n",
    "# for legacy dfs without abilities\n",
    "function df_to_spuds0(df::DataFrame)::Array{Spud}\n",
    "    n = size(df)[1]\n",
    "    as = Array{Spud}(undef, n)\n",
    "    for i in 1:n\n",
    "        as[i] = Spud(df[i, :name], df[i, :h], df[i, :f], df[i, :l], df[i, :p], df[i, :r], df[i, :s], ability_none)\n",
    "    end\n",
    "    return as\n",
    "end\n",
    "\n",
    "function df_to_spuds(df::DataFrame)::Array{Spud}\n",
    "    n = size(df)[1]\n",
    "    as = Array{Spud}(undef, n)\n",
    "    for i in 1:n\n",
    "        as[i] = Spud(df[i, :name], df[i, :h], df[i, :f], df[i, :l], df[i, :p], df[i, :r], df[i, :s], df[i, :a1])\n",
    "    end\n",
    "    return as\n",
    "end\n",
    "\n"
   ]
  },
  {
   "cell_type": "markdown",
   "id": "66e71132",
   "metadata": {},
   "source": [
    "## Get spuds with cost 10 and filter nondominated"
   ]
  },
  {
   "cell_type": "code",
   "execution_count": 7,
   "id": "638f1e65",
   "metadata": {},
   "outputs": [
    {
     "data": {
      "text/plain": [
       "get_library (generic function with 2 methods)"
      ]
     },
     "execution_count": 7,
     "metadata": {},
     "output_type": "execute_result"
    }
   ],
   "source": [
    "function get_library(cost, n_init = 10000)\n",
    "    ffs = Array{Spud}(undef, n_init)\n",
    "    ff_i = 0\n",
    "    hrange = MNV:MXV\n",
    "    frange = MNV:MXV\n",
    "    lrange = MNV:MXV\n",
    "    prange = MNV:MXV\n",
    "    rrange = MNV:MXV\n",
    "    srange = MNV:MXV\n",
    "    for h in hrange\n",
    "        for f in frange\n",
    "            for l in lrange\n",
    "                for p in prange\n",
    "                    for r in rrange\n",
    "                        for s in srange\n",
    "                            if (h+f+l+p+r+s == cost)\n",
    "                                ff = Spud(\"\", h,f,l,p,r,s,999)\n",
    "                                ff_i += 1\n",
    "                                ffs[ff_i] = ff\n",
    "                            end\n",
    "                        end\n",
    "                    end                        \n",
    "                end                        \n",
    "            end\n",
    "        end\n",
    "    end\n",
    "    ffs = ffs[1:ff_i]\n",
    "    return unique(ffs)\n",
    "end"
   ]
  },
  {
   "cell_type": "code",
   "execution_count": 8,
   "id": "64d0dd3e",
   "metadata": {},
   "outputs": [
    {
     "data": {
      "text/plain": [
       "126-element Vector{Spud}:\n",
       " Spud(\"\", 1, 1, 1, 1, 1, 5, 999)\n",
       " Spud(\"\", 1, 1, 1, 1, 2, 4, 999)\n",
       " Spud(\"\", 1, 1, 1, 1, 3, 3, 999)\n",
       " Spud(\"\", 1, 1, 1, 1, 4, 2, 999)\n",
       " Spud(\"\", 1, 1, 1, 1, 5, 1, 999)\n",
       " Spud(\"\", 1, 1, 1, 2, 1, 4, 999)\n",
       " Spud(\"\", 1, 1, 1, 2, 2, 3, 999)\n",
       " Spud(\"\", 1, 1, 1, 2, 3, 2, 999)\n",
       " Spud(\"\", 1, 1, 1, 2, 4, 1, 999)\n",
       " Spud(\"\", 1, 1, 1, 3, 1, 3, 999)\n",
       " Spud(\"\", 1, 1, 1, 3, 2, 2, 999)\n",
       " Spud(\"\", 1, 1, 1, 3, 3, 1, 999)\n",
       " Spud(\"\", 1, 1, 1, 4, 1, 2, 999)\n",
       " ⋮\n",
       " Spud(\"\", 3, 1, 3, 1, 1, 1, 999)\n",
       " Spud(\"\", 3, 2, 1, 1, 1, 2, 999)\n",
       " Spud(\"\", 3, 2, 1, 1, 2, 1, 999)\n",
       " Spud(\"\", 3, 2, 1, 2, 1, 1, 999)\n",
       " Spud(\"\", 3, 2, 2, 1, 1, 1, 999)\n",
       " Spud(\"\", 3, 3, 1, 1, 1, 1, 999)\n",
       " Spud(\"\", 4, 1, 1, 1, 1, 2, 999)\n",
       " Spud(\"\", 4, 1, 1, 1, 2, 1, 999)\n",
       " Spud(\"\", 4, 1, 1, 2, 1, 1, 999)\n",
       " Spud(\"\", 4, 1, 2, 1, 1, 1, 999)\n",
       " Spud(\"\", 4, 2, 1, 1, 1, 1, 999)\n",
       " Spud(\"\", 5, 1, 1, 1, 1, 1, 999)"
      ]
     },
     "execution_count": 8,
     "metadata": {},
     "output_type": "execute_result"
    }
   ],
   "source": [
    "lib0 = get_library(10)\n",
    "lib0"
   ]
  },
  {
   "cell_type": "code",
   "execution_count": 9,
   "id": "6be20a55",
   "metadata": {},
   "outputs": [
    {
     "data": {
      "text/plain": [
       "get_payoffs (generic function with 1 method)"
      ]
     },
     "execution_count": 9,
     "metadata": {},
     "output_type": "execute_result"
    }
   ],
   "source": [
    "function get_payoffs(env::Array{Spud})::Array{Int64}\n",
    "    n_nash = length(env)\n",
    "    payoffs = Array{Int64}(undef, (n_nash, n_nash))\n",
    "    for i in 1:n_nash\n",
    "        for j in 1:n_nash\n",
    "            payoffs[i, j] = eval_battle(env[i], env[j])\n",
    "        end\n",
    "    end\n",
    "    return payoffs\n",
    "end"
   ]
  },
  {
   "cell_type": "code",
   "execution_count": 10,
   "id": "af79e6db",
   "metadata": {},
   "outputs": [
    {
     "data": {
      "text/plain": [
       "filter_nondominated2 (generic function with 1 method)"
      ]
     },
     "execution_count": 10,
     "metadata": {},
     "output_type": "execute_result"
    }
   ],
   "source": [
    "function filter_nondominated2(as::Array{Spud})::Array{Spud}\n",
    "    mat = get_payoffs(as);\n",
    "    isDominated = zeros(Int64, length(as));\n",
    "    for i in 1:length(as)\n",
    "        v = mat[i, :]\n",
    "        bv = ones(Int64, length(as))\n",
    "        for j in 1:length(as)\n",
    "            bv = bv .* (mat[:, j] .>= v[j])\n",
    "        end\n",
    "        if sum(bv) > 1\n",
    "            isDominated[i] = 1\n",
    "        end\n",
    "    end\n",
    "    return as[isDominated .== 0]\n",
    "end"
   ]
  },
  {
   "cell_type": "code",
   "execution_count": 11,
   "id": "55a8029c",
   "metadata": {},
   "outputs": [
    {
     "name": "stdout",
     "output_type": "stream",
     "text": [
      " 111124 111133 111142 111214 111223 111232 111241 111313 111322 111331 111412 111421 111511 112114 112123 112132 112141 112213 112222 112231 112312 112321 112411 113113 113122 113131 113212 113221 113311 114112 114121 114211 121114 121123 121132 121213 121222 121231 121312 121321 121411 122113 122122 122212 122221 122311 123112 123211 131113 131122 131212 131221 131311 132112 132211 141112 141211 212113 212122 212131 212212 212221 212311 213112 213121 213211 214111 222112 222211 312112 312121 312211 313111 412111"
     ]
    },
    {
     "data": {
      "text/plain": [
       "74"
      ]
     },
     "execution_count": 11,
     "metadata": {},
     "output_type": "execute_result"
    }
   ],
   "source": [
    "lib=filter_nondominated2(lib0)\n",
    "for ff in lib\n",
    "    print(\" \")\n",
    "    print(100000 * ff.h + 10000 * ff.f + 1000 * ff.l + 100 * ff.p + 10 * ff.r + ff.s)\n",
    "end\n",
    "nlib = length(lib)"
   ]
  },
  {
   "cell_type": "code",
   "execution_count": 12,
   "id": "7693aec2",
   "metadata": {},
   "outputs": [
    {
     "data": {
      "text/plain": [
       "74×74 Matrix{Int64}:\n",
       "  0  -1  -1  -1  -1  -1  -1   1  -1  …  -1  -1  -1  -1  -1  -1  -1  -1  -1\n",
       "  1   0  -1  -1  -1  -1  -1  -1   1     -1  -1  -1  -1  -1  -1  -1  -1  -1\n",
       "  1   1   0  -1  -1  -1  -1  -1  -1     -1  -1  -1  -1  -1  -1  -1  -1  -1\n",
       "  1   1   1   0  -1  -1  -1  -1  -1     -1  -1  -1  -1  -1  -1  -1  -1  -1\n",
       "  1   1   1   1   0  -1  -1  -1  -1     -1  -1  -1  -1  -1  -1  -1  -1  -1\n",
       "  1   1   1   1   1   0  -1  -1  -1  …  -1  -1  -1  -1  -1  -1  -1  -1  -1\n",
       "  1   1   1   1   1   1   0  -1  -1     -1  -1  -1  -1  -1  -1  -1  -1  -1\n",
       " -1   1   1   1   1   1   1   0  -1     -1  -1  -1  -1  -1  -1  -1  -1  -1\n",
       "  1  -1   1   1   1   1   1   1   0     -1  -1  -1  -1  -1  -1  -1  -1  -1\n",
       "  1   1  -1   1   1   1   1   1   1     -1  -1  -1  -1  -1  -1  -1  -1  -1\n",
       " -1  -1   1   1  -1   1   1   1   1  …  -1  -1  -1  -1  -1  -1  -1  -1  -1\n",
       "  1  -1  -1   1   1  -1   1   1   1     -1  -1  -1  -1  -1  -1  -1  -1  -1\n",
       " -1  -1  -1   1  -1  -1   1   1  -1     -1  -1  -1  -1  -1  -1  -1  -1  -1\n",
       "  ⋮                   ⋮              ⋱   ⋮                   ⋮          \n",
       "  1   1   1   1   1   1   1   1   1     -1  -1  -1   1   1  -1   1  -1   1\n",
       "  1   1   1   1   1   1   1   1   1     -1  -1   1   1   1   1   1   1   1\n",
       "  1   1   1   1   1   1   1   1   1     -1  -1   1   1   1   1   1   1   1\n",
       "  1   1   1   1   1   1   1   1   1  …   0  -1  -1   1   1   1   1   1   1\n",
       "  1   1   1   1   1   1   1   1   1      1   0  -1  -1   1   1   1   1   1\n",
       "  1   1   1   1   1   1   1   1   1      1   1   0  -1   1  -1   1  -1   1\n",
       "  1   1   1   1   1   1   1   1   1     -1   1   1   0   1  -1   1  -1   1\n",
       "  1   1   1   1   1   1   1   1   1     -1  -1  -1  -1   0  -1  -1  -1   1\n",
       "  1   1   1   1   1   1   1   1   1  …  -1  -1   1   1   1   0  -1  -1   1\n",
       "  1   1   1   1   1   1   1   1   1     -1  -1  -1  -1   1   1   0  -1   1\n",
       "  1   1   1   1   1   1   1   1   1     -1  -1   1   1   1   1   1   0   1\n",
       "  1   1   1   1   1   1   1   1   1     -1  -1  -1  -1  -1  -1  -1  -1   0"
      ]
     },
     "execution_count": 12,
     "metadata": {},
     "output_type": "execute_result"
    }
   ],
   "source": [
    "payoffs = get_payoffs(lib)"
   ]
  },
  {
   "cell_type": "code",
   "execution_count": 13,
   "id": "3d780a7c",
   "metadata": {},
   "outputs": [
    {
     "data": {
      "text/plain": [
       "spud2int (generic function with 1 method)"
      ]
     },
     "execution_count": 13,
     "metadata": {},
     "output_type": "execute_result"
    }
   ],
   "source": [
    "function spud2int(a::Spud)::Int64\n",
    "    return a.h * 100000 + a.f * 10000 + a.l * 1000 + a.p * 100 + a.r * 10 + a.s\n",
    "end"
   ]
  },
  {
   "cell_type": "code",
   "execution_count": 14,
   "id": "db3ccd86",
   "metadata": {},
   "outputs": [],
   "source": [
    "s2ind = Dict(lib[i] => i for i in 1:length(lib));\n",
    "int2ind = Dict(spud2int(lib[i]) => i for i in 1:length(lib));"
   ]
  },
  {
   "cell_type": "code",
   "execution_count": 15,
   "id": "a169b86e",
   "metadata": {},
   "outputs": [],
   "source": [
    "libi = [spud2int(ff) for ff in lib];"
   ]
  },
  {
   "cell_type": "code",
   "execution_count": 16,
   "id": "0e426ff9",
   "metadata": {},
   "outputs": [
    {
     "data": {
      "text/plain": [
       "73"
      ]
     },
     "execution_count": 16,
     "metadata": {},
     "output_type": "execute_result"
    }
   ],
   "source": [
    "int2ind[313111]"
   ]
  },
  {
   "cell_type": "code",
   "execution_count": 17,
   "id": "12e85b6a",
   "metadata": {},
   "outputs": [
    {
     "data": {
      "text/plain": [
       "3"
      ]
     },
     "execution_count": 17,
     "metadata": {},
     "output_type": "execute_result"
    }
   ],
   "source": [
    "as = [1,2,3]\n",
    "as[end]"
   ]
  },
  {
   "cell_type": "code",
   "execution_count": 18,
   "id": "ac7db512",
   "metadata": {},
   "outputs": [
    {
     "data": {
      "text/plain": [
       "eval_beatn (generic function with 1 method)"
      ]
     },
     "execution_count": 18,
     "metadata": {},
     "output_type": "execute_result"
    }
   ],
   "source": [
    "function eval_beatn(payoffs::Array{Int64}, as::Array{Int64}, bs::Array{Int64})::Int64\n",
    "    if length(bs)==0 || length(as)==0\n",
    "        return 0\n",
    "    end\n",
    "    a = as[end]\n",
    "    flag = true\n",
    "    count = 0\n",
    "    while flag\n",
    "        if payoffs[a, bs[end-count]]==1\n",
    "            count += 1\n",
    "        else\n",
    "            flag = false\n",
    "        end\n",
    "        if count == length(bs)\n",
    "            flag = false\n",
    "        end\n",
    "    end\n",
    "    return count\n",
    "end"
   ]
  },
  {
   "cell_type": "code",
   "execution_count": 19,
   "id": "06768a49",
   "metadata": {},
   "outputs": [
    {
     "data": {
      "text/plain": [
       "4-element Vector{Int64}:\n",
       " 41\n",
       " 40\n",
       " 27\n",
       " 65"
      ]
     },
     "execution_count": 19,
     "metadata": {},
     "output_type": "execute_result"
    }
   ],
   "source": [
    "as = [int2ind[ff] for ff in [214111, 112222, 313111, 113311]]\n",
    "bs = [int2ind[ff] for ff in [121411, 121321, 113212, 213121]]"
   ]
  },
  {
   "cell_type": "code",
   "execution_count": 20,
   "id": "d2ce51e6",
   "metadata": {},
   "outputs": [
    {
     "data": {
      "text/plain": [
       "2"
      ]
     },
     "execution_count": 20,
     "metadata": {},
     "output_type": "execute_result"
    }
   ],
   "source": [
    "eval_beatn(payoffs, as[1:3], bs[1:2])"
   ]
  },
  {
   "cell_type": "code",
   "execution_count": 21,
   "id": "7a920d9d",
   "metadata": {},
   "outputs": [
    {
     "data": {
      "text/plain": [
       "2"
      ]
     },
     "execution_count": 21,
     "metadata": {},
     "output_type": "execute_result"
    }
   ],
   "source": [
    "eval_beatn(payoffs, bs[1:3], as[1:3])"
   ]
  },
  {
   "cell_type": "code",
   "execution_count": 22,
   "id": "52666aca",
   "metadata": {},
   "outputs": [
    {
     "data": {
      "text/plain": [
       "2"
      ]
     },
     "execution_count": 22,
     "metadata": {},
     "output_type": "execute_result"
    }
   ],
   "source": [
    "eval_beatn(payoffs, as[1:4], bs[1:3])"
   ]
  },
  {
   "cell_type": "code",
   "execution_count": 23,
   "id": "c4ab1c2f",
   "metadata": {},
   "outputs": [
    {
     "data": {
      "text/plain": [
       "3"
      ]
     },
     "execution_count": 23,
     "metadata": {},
     "output_type": "execute_result"
    }
   ],
   "source": [
    "eval_beatn(payoffs, bs[1:4], as[1:4])"
   ]
  },
  {
   "cell_type": "code",
   "execution_count": 24,
   "id": "2180d5f3",
   "metadata": {},
   "outputs": [
    {
     "data": {
      "text/plain": [
       "74"
      ]
     },
     "execution_count": 24,
     "metadata": {},
     "output_type": "execute_result"
    }
   ],
   "source": [
    "size(payoffs)[1]"
   ]
  },
  {
   "cell_type": "code",
   "execution_count": 25,
   "id": "e0355eae",
   "metadata": {},
   "outputs": [
    {
     "data": {
      "text/plain": [
       "try_beatn (generic function with 1 method)"
      ]
     },
     "execution_count": 25,
     "metadata": {},
     "output_type": "execute_result"
    }
   ],
   "source": [
    "# tries all possible moves as extension of as\n",
    "function try_beatn(payoffs::Array{Int64}, as::Array{Int64}, bs::Array{Int64})::Array{Int64}\n",
    "    ans = Array{Int64}(undef, size(payoffs)[1])\n",
    "    for i in 1:size(payoffs)[1]\n",
    "        as2 = copy(as)\n",
    "        append!(as2, i)\n",
    "        ans[i] = eval_beatn(payoffs, as2, bs)\n",
    "    end\n",
    "    return ans\n",
    "end"
   ]
  },
  {
   "cell_type": "code",
   "execution_count": 26,
   "id": "610075c3",
   "metadata": {},
   "outputs": [
    {
     "name": "stdout",
     "output_type": "stream",
     "text": [
      "00000000000000000000000011120110021211220011100001110000000000000120000000"
     ]
    }
   ],
   "source": [
    "for i in try_beatn(payoffs, as, bs)\n",
    "    print(i)\n",
    "end"
   ]
  },
  {
   "cell_type": "code",
   "execution_count": 27,
   "id": "34b38ea6",
   "metadata": {},
   "outputs": [
    {
     "data": {
      "text/plain": [
       "lose_or_not (generic function with 1 method)"
      ]
     },
     "execution_count": 27,
     "metadata": {},
     "output_type": "execute_result"
    }
   ],
   "source": [
    "# returns 1 if Player A lost\n",
    "function lose_or_not(payoffs::Array{Int64}, as::Array{Int64}, bs::Array{Int64})::Int64\n",
    "    prev_score = eval_beatn(payoffs, bs, as)\n",
    "    scores = try_beatn(payoffs, as, bs)\n",
    "    if maximum(scores) < prev_score\n",
    "        return 1\n",
    "    end\n",
    "    return 0\n",
    "end"
   ]
  },
  {
   "cell_type": "code",
   "execution_count": 28,
   "id": "84fa5f6b",
   "metadata": {},
   "outputs": [
    {
     "data": {
      "text/plain": [
       "0"
      ]
     },
     "execution_count": 28,
     "metadata": {},
     "output_type": "execute_result"
    }
   ],
   "source": [
    "lose_or_not(payoffs, as[1:2], bs[1:2])"
   ]
  },
  {
   "cell_type": "code",
   "execution_count": 29,
   "id": "1e2178a4",
   "metadata": {},
   "outputs": [
    {
     "data": {
      "text/plain": [
       "0"
      ]
     },
     "execution_count": 29,
     "metadata": {},
     "output_type": "execute_result"
    }
   ],
   "source": [
    "lose_or_not(payoffs, as[1:3], bs[1:3])"
   ]
  },
  {
   "cell_type": "code",
   "execution_count": 30,
   "id": "80e2a310",
   "metadata": {},
   "outputs": [
    {
     "data": {
      "text/plain": [
       "1"
      ]
     },
     "execution_count": 30,
     "metadata": {},
     "output_type": "execute_result"
    }
   ],
   "source": [
    "lose_or_not(payoffs, as[1:4], bs[1:4])"
   ]
  },
  {
   "cell_type": "code",
   "execution_count": 31,
   "id": "3e10fcb4",
   "metadata": {},
   "outputs": [
    {
     "data": {
      "text/plain": [
       "legal_moves (generic function with 1 method)"
      ]
     },
     "execution_count": 31,
     "metadata": {},
     "output_type": "execute_result"
    }
   ],
   "source": [
    "function legal_moves(payoffs::Array{Int64}, as::Array{Int64}, bs::Array{Int64})::Array{Int64}\n",
    "    prev_score = eval_beatn(payoffs, bs, as)\n",
    "    scores = try_beatn(payoffs, as, bs)\n",
    "    cands = findall(scores .>= prev_score)\n",
    "    return cands\n",
    "end"
   ]
  },
  {
   "cell_type": "code",
   "execution_count": 32,
   "id": "7f74a1f2",
   "metadata": {},
   "outputs": [
    {
     "data": {
      "text/plain": [
       "choose_random (generic function with 1 method)"
      ]
     },
     "execution_count": 32,
     "metadata": {},
     "output_type": "execute_result"
    }
   ],
   "source": [
    "# picks randomly\n",
    "function choose_random(payoffs::Array{Int64}, as::Array{Int64}, bs::Array{Int64})::Int64\n",
    "    prev_score = eval_beatn(payoffs, bs, as)\n",
    "    scores = try_beatn(payoffs, as, bs)\n",
    "    cands = findall(scores .>= prev_score)\n",
    "    return rand(cands)\n",
    "end"
   ]
  },
  {
   "cell_type": "code",
   "execution_count": 33,
   "id": "89c48087",
   "metadata": {},
   "outputs": [
    {
     "data": {
      "text/plain": [
       "choose_aggro (generic function with 1 method)"
      ]
     },
     "execution_count": 33,
     "metadata": {},
     "output_type": "execute_result"
    }
   ],
   "source": [
    "# picks aggressively\n",
    "function choose_aggro(payoffs::Array{Int64}, as::Array{Int64}, bs::Array{Int64})::Int64\n",
    "    scores = try_beatn(payoffs, as, bs)\n",
    "    cands = findall(scores .== maximum(scores))\n",
    "    return rand(cands)\n",
    "end"
   ]
  },
  {
   "cell_type": "code",
   "execution_count": 34,
   "id": "a603dd38",
   "metadata": {},
   "outputs": [
    {
     "data": {
      "text/plain": [
       "display_game (generic function with 1 method)"
      ]
     },
     "execution_count": 34,
     "metadata": {},
     "output_type": "execute_result"
    }
   ],
   "source": [
    "function play_random_vs_aggro(\n",
    "        payoffs::Array{Int64}, \n",
    "        as::Array{Int64} = zeros(Int64, 0), \n",
    "        bs::Array{Int64} = zeros(Int64, 0))::Tuple{Int64, Array{Int64}, Array{Int64}}\n",
    "    if length(as) == 0\n",
    "        a = rand(1:size(payoffs)[1])\n",
    "        as = append!(as, a)\n",
    "    end\n",
    "    if length(bs) < length(as)\n",
    "        b = choose_aggro(payoffs, bs, as)\n",
    "        bs = append!(bs, b)\n",
    "    end\n",
    "    flag = true\n",
    "    a_win = 0\n",
    "    while flag\n",
    "        if lose_or_not(payoffs, as, bs)==1\n",
    "            flag = false\n",
    "            a_win = -1\n",
    "        else\n",
    "            # player A turn\n",
    "            a = choose_random(payoffs, as, bs)\n",
    "            as = append!(as, a)\n",
    "        end\n",
    "        if flag\n",
    "            if lose_or_not(payoffs, bs, as)==1\n",
    "                flag = false\n",
    "                a_win = 1\n",
    "            else\n",
    "                # player B turn\n",
    "                b = choose_aggro(payoffs, bs, as)\n",
    "                bs = append!(bs, b)\n",
    "            end\n",
    "        end\n",
    "    end\n",
    "    return (a_win, as, bs)\n",
    "end\n",
    "\n",
    "function play_random_vs_random(\n",
    "        payoffs::Array{Int64}, \n",
    "        as::Array{Int64} = zeros(Int64, 0), \n",
    "        bs::Array{Int64} = zeros(Int64, 0))::Tuple{Int64, Array{Int64}, Array{Int64}}\n",
    "    if length(as) == 0\n",
    "        a = rand(1:size(payoffs)[1])\n",
    "        as = append!(as, a)\n",
    "    end\n",
    "    if length(bs) < length(as)\n",
    "        b = choose_aggro(payoffs, bs, as)\n",
    "        bs = append!(bs, b)\n",
    "    end\n",
    "    flag = true\n",
    "    a_win = 0\n",
    "    while flag\n",
    "        if lose_or_not(payoffs, as, bs)==1\n",
    "            flag = false\n",
    "            a_win = -1\n",
    "        else\n",
    "            # player A turn\n",
    "            a = choose_random(payoffs, as, bs)\n",
    "            as = append!(as, a)\n",
    "        end\n",
    "        if flag\n",
    "            if lose_or_not(payoffs, bs, as)==1\n",
    "                flag = false\n",
    "                a_win = 1\n",
    "            else\n",
    "                # player B turn\n",
    "                b = choose_random(payoffs, bs, as)\n",
    "                bs = append!(bs, b)\n",
    "            end\n",
    "        end\n",
    "    end\n",
    "    return (a_win, as, bs)\n",
    "end\n",
    "\n",
    "function display_game(payoffs::Array{Int64}, as::Array{Int64}, bs::Array{Int64})\n",
    "    for i in 1:length(as)\n",
    "        print(libi[as[i]])\n",
    "        print(\" {\")\n",
    "        n = eval_beatn(payoffs, as[1:i], bs[1:(i-1)])\n",
    "        print(n)\n",
    "        print(\"}. \")\n",
    "        if i <= length(bs)\n",
    "            print(libi[bs[i]])\n",
    "            print(\" {\")\n",
    "            n = eval_beatn(payoffs, bs[1:i], as[1:i])\n",
    "            print(n)\n",
    "            print(\"}. \")\n",
    "        end\n",
    "        println()\n",
    "    end\n",
    "end"
   ]
  },
  {
   "cell_type": "code",
   "execution_count": 35,
   "id": "cb5fb4b1",
   "metadata": {},
   "outputs": [
    {
     "name": "stdout",
     "output_type": "stream",
     "text": [
      "111133 {0}. 222211 {1}. \n",
      "213112 {1}. 213211 {2}. \n",
      "113221 {2}. 214111 {3}. \n",
      "123211 {3}. 113311 {3}. \n",
      "122212 {4}. 121312 {4}. \n",
      "121411 {5}. 121123 {5}. \n"
     ]
    }
   ],
   "source": [
    "a_win, as, bs = play_random_vs_aggro(payoffs, [int2ind[111133]], [int2ind[222211]])\n",
    "display_game(payoffs, as, bs)"
   ]
  },
  {
   "cell_type": "code",
   "execution_count": 36,
   "id": "6389a1bd",
   "metadata": {},
   "outputs": [],
   "source": [
    "# n_games = 100\n",
    "# counts = Array{Int64}(undef, (nlib, nlib)) .* 0\n",
    "# wins = Array{Int64}(undef, (nlib, nlib)) .* 0\n",
    "# for a in 1:nlib\n",
    "#     for b in 1:nlib\n",
    "#         for i in 1:n_games\n",
    "#             a_win, as, bs = play_random_vs_aggro(payoffs, [a], [b])\n",
    "#             counts[a,b] += 1\n",
    "#             if a_win==1\n",
    "#                 wins[a,b] +=1\n",
    "#             end\n",
    "#         end\n",
    "        \n",
    "#     end\n",
    "# end"
   ]
  },
  {
   "cell_type": "code",
   "execution_count": 37,
   "id": "0b94fd85",
   "metadata": {},
   "outputs": [],
   "source": [
    "# maxes = [minimum(wins[i, :]) for i in 1:nlib]\n",
    "# for i in sortperm(-maxes)\n",
    "#     js = findall(wins[i, :].==minimum(wins[i, :]))\n",
    "#     print(libi[i])\n",
    "#     print(\" \")\n",
    "#     print(libi[js])\n",
    "#     print(\" \")\n",
    "#     println(minimum(wins[i, :])/n_games)\n",
    "# end"
   ]
  },
  {
   "cell_type": "code",
   "execution_count": 38,
   "id": "f4b225d8",
   "metadata": {},
   "outputs": [],
   "source": [
    "# n_games = 100\n",
    "# counts = Array{Int64}(undef, (nlib, nlib)) .* 0\n",
    "# wins = Array{Int64}(undef, (nlib, nlib)) .* 0\n",
    "# a1 = int2ind[121321]\n",
    "# b1 = int2ind[214111]\n",
    "# a_moves = legal_moves(payoffs, [a1], [b1])\n",
    "# for a in a_moves\n",
    "#     b_moves = legal_moves(payoffs, [b1], [a1, a])\n",
    "#     for b in b_moves\n",
    "#         for i in 1:n_games\n",
    "#             a_win, as, bs = play_random_vs_aggro(payoffs, [a1,a], [b1,b])\n",
    "#             counts[a,b] += 1\n",
    "#             if a_win==1\n",
    "#                 wins[a,b] +=1\n",
    "#             end\n",
    "#         end\n",
    "        \n",
    "#     end\n",
    "# end"
   ]
  },
  {
   "cell_type": "code",
   "execution_count": 39,
   "id": "304c5060",
   "metadata": {
    "scrolled": false
   },
   "outputs": [],
   "source": [
    "# maxes = [minimum(wins[i, :]) for i in 1:nlib]\n",
    "# for i in sortperm(-maxes)[1:10]\n",
    "#     if i in a_moves\n",
    "#         wns = wins[i, :]\n",
    "#         cns = counts[i, :]\n",
    "#         min_wins = minimum(wns[cns .> 0])\n",
    "#         js = findall(wns .== min_wins)\n",
    "#         print(libi[i])\n",
    "#         print(\" \")\n",
    "#         print(libi[js])\n",
    "#         print(\" \")\n",
    "#         println(minimum(wins[i, :])/n_games)\n",
    "#     end\n",
    "# end"
   ]
  },
  {
   "cell_type": "code",
   "execution_count": 40,
   "id": "e13580ee",
   "metadata": {},
   "outputs": [
    {
     "name": "stdout",
     "output_type": "stream",
     "text": [
      "121321 {0}. 214111 {0}. \n",
      "213112 {0}. 313111 {0}. \n",
      "111322 {0}. 213211 {2}. \n",
      "131212 {3}. 121123 {3}. \n",
      "131122 {4}. \n"
     ]
    }
   ],
   "source": [
    "# check game lengths\n",
    "a1 = int2ind[121321]\n",
    "b1 = int2ind[214111]\n",
    "a2 = int2ind[213112]\n",
    "b2 = int2ind[313111]\n",
    "a_win, as, bs = play_random_vs_aggro(payoffs, [a1,a2],[b1,b2])\n",
    "display_game(payoffs, as, bs)"
   ]
  },
  {
   "cell_type": "code",
   "execution_count": 41,
   "id": "bef0c14c",
   "metadata": {},
   "outputs": [],
   "source": [
    "# n_games = 1000\n",
    "# counts = Array{Int64}(undef, (nlib, nlib)) .* 0\n",
    "# wins = Array{Int64}(undef, (nlib, nlib)) .* 0\n",
    "# a1 = int2ind[121321]\n",
    "# b1 = int2ind[214111]\n",
    "# a2 = int2ind[213112]\n",
    "# b2 = int2ind[313111]\n",
    "# a_moves = legal_moves(payoffs, [a1,a2], [b1,b2])\n",
    "# for a in a_moves\n",
    "#     b_moves = legal_moves(payoffs, [b1,b2], [a1,a2,a])\n",
    "#     for b in b_moves\n",
    "#         for i in 1:n_games\n",
    "#             a_win, as, bs = play_random_vs_aggro(payoffs, [a1,a2,a], [b1,b2,b])\n",
    "#             counts[a,b] += 1\n",
    "#             if a_win==1\n",
    "#                 wins[a,b] +=1\n",
    "#             end\n",
    "#         end\n",
    "        \n",
    "#     end\n",
    "# end"
   ]
  },
  {
   "cell_type": "code",
   "execution_count": 42,
   "id": "7daf8fd6",
   "metadata": {},
   "outputs": [],
   "source": [
    "# maxes = [minimum(wins[i, :]) for i in 1:nlib]\n",
    "# for i in sortperm(-maxes)[1:10]\n",
    "#     if i in a_moves\n",
    "#         wns = wins[i, :]\n",
    "#         cns = counts[i, :]\n",
    "#         min_wins = minimum(wns[cns .> 0])\n",
    "#         js = findall(wns .== min_wins)\n",
    "#         print(libi[i])\n",
    "#         print(\" \")\n",
    "#         print(libi[js])\n",
    "#         print(\" \")\n",
    "#         println(minimum(wins[i, :])/n_games)\n",
    "#     end\n",
    "# end"
   ]
  },
  {
   "cell_type": "code",
   "execution_count": 43,
   "id": "5c7a7975",
   "metadata": {},
   "outputs": [
    {
     "name": "stdout",
     "output_type": "stream",
     "text": [
      "121321 {0}. 214111 {0}. \n",
      "213112 {0}. 313111 {0}. \n",
      "121321 {0}. 121222 {0}. \n",
      "111322 {1}. 111421 {2}. \n",
      "112213 {2}. 213112 {3}. \n",
      "122212 {3}. 112321 {4}. \n",
      "113212 {5}. 112312 {5}. \n"
     ]
    }
   ],
   "source": [
    "# check game lengths\n",
    "a1 = int2ind[121321]\n",
    "b1 = int2ind[214111]\n",
    "a2 = int2ind[213112]\n",
    "b2 = int2ind[313111]\n",
    "a3 = int2ind[121321]\n",
    "b3 = int2ind[121222]\n",
    "a_win, as, bs = play_random_vs_aggro(payoffs, [a1,a2,a3],[b1,b2,b3])\n",
    "display_game(payoffs, as, bs)"
   ]
  },
  {
   "cell_type": "code",
   "execution_count": 44,
   "id": "1520d269",
   "metadata": {},
   "outputs": [],
   "source": [
    "# n_games = 100\n",
    "# counts = Array{Int64}(undef, (nlib, nlib)) .* 0\n",
    "# wins = Array{Int64}(undef, (nlib, nlib)) .* 0\n",
    "# a1 = int2ind[121321]\n",
    "# b1 = int2ind[214111]\n",
    "# a2 = int2ind[213112]\n",
    "# b2 = int2ind[313111]\n",
    "# a3 = int2ind[121321]\n",
    "# b3 = int2ind[121222]\n",
    "# a_moves = legal_moves(payoffs, [a1,a2,a3], [b1,b2,b3])\n",
    "# for a in a_moves\n",
    "#     b_moves = legal_moves(payoffs, [b1,b2,b3], [a1,a2,a3,a])\n",
    "#     for b in b_moves\n",
    "#         for i in 1:n_games\n",
    "#             a_win, as, bs = play_random_vs_aggro(payoffs, [a1,a2,a3,a], [b1,b2,b3,b])\n",
    "#             counts[a,b] += 1\n",
    "#             if a_win==1\n",
    "#                 wins[a,b] +=1\n",
    "#             end\n",
    "#         end\n",
    "        \n",
    "#     end\n",
    "# end"
   ]
  },
  {
   "cell_type": "code",
   "execution_count": 45,
   "id": "8813d1e4",
   "metadata": {},
   "outputs": [],
   "source": [
    "# maxes = [minimum(wins[i, :]) for i in 1:nlib]\n",
    "# for i in sortperm(-maxes)[1:10]\n",
    "#     if i in a_moves\n",
    "#         wns = wins[i, :]\n",
    "#         cns = counts[i, :]\n",
    "#         min_wins = minimum(wns[cns .> 0])\n",
    "#         js = findall(wns .== min_wins)\n",
    "#         print(libi[i])\n",
    "#         print(\" \")\n",
    "#         print(libi[js])\n",
    "#         print(\" \")\n",
    "#         println(minimum(wins[i, :])/n_games)\n",
    "#     end\n",
    "# end"
   ]
  },
  {
   "cell_type": "code",
   "execution_count": 46,
   "id": "b5aa8ad0",
   "metadata": {},
   "outputs": [
    {
     "name": "stdout",
     "output_type": "stream",
     "text": [
      "121321 {0}. 214111 {0}. \n",
      "213112 {0}. 313111 {0}. \n",
      "121321 {0}. 121222 {0}. \n",
      "113122 {0}. 111133 {2}. \n",
      "111232 {2}. 122212 {2}. \n",
      "212122 {2}. 214111 {3}. \n"
     ]
    }
   ],
   "source": [
    "# check game lengths\n",
    "a1 = int2ind[121321]\n",
    "b1 = int2ind[214111]\n",
    "a2 = int2ind[213112]\n",
    "b2 = int2ind[313111]\n",
    "a3 = int2ind[121321]\n",
    "b3 = int2ind[121222]\n",
    "a4 = int2ind[113122]\n",
    "b4 = int2ind[111133]\n",
    "#a_win, as, bs = play_random_vs_aggro(payoffs, [a1,a2,a3,a4],[b1,b2,b3,b4])\n",
    "a_win, as, bs = play_random_vs_random(payoffs, [a1,a2,a3,a4],[b1,b2,b3,b4])\n",
    "display_game(payoffs, as, bs)"
   ]
  },
  {
   "cell_type": "markdown",
   "id": "e8dbc8c4",
   "metadata": {},
   "source": [
    "## MCTS"
   ]
  },
  {
   "cell_type": "code",
   "execution_count": 47,
   "id": "867e5215",
   "metadata": {},
   "outputs": [
    {
     "data": {
      "text/plain": [
       "merge_arrs (generic function with 1 method)"
      ]
     },
     "execution_count": 47,
     "metadata": {},
     "output_type": "execute_result"
    }
   ],
   "source": [
    "function intarr_to_string(as::Array{Int64})::String\n",
    "    return join([convert(Char, a+32) for a in as])\n",
    "end\n",
    "\n",
    "function string_to_intarr(s::String)::Array{Int64}\n",
    "    return [convert(Int64, s[i])-32 for i in 1:length(s)]\n",
    "end\n",
    "\n",
    "# s=intarr_to_string([i for i in 1:75])\n",
    "# as=string_to_intarr(s)\n",
    "# for i in as\n",
    "#     print(i)\n",
    "#     print(\" \")\n",
    "# end\n",
    "\n",
    "function split_arrs(zs::Array{Int64})::Tuple{Array{Int64},Array{Int64}}\n",
    "    if mod(length(zs), 2)==0\n",
    "        return (zs[1:2:(end-1)], zs[2:2:end])\n",
    "    else\n",
    "        return (zs[1:2:end], zs[2:2:(end-1)])\n",
    "    end\n",
    "end\n",
    "\n",
    "function merge_arrs(as::Array{Int64}, bs::Array{Int64})::Array{Int64}\n",
    "    zs = Array{Int64}(undef, length(as)+length(bs))\n",
    "    if mod(length(zs), 2)==0\n",
    "        zs[1:2:(end-1)]=as\n",
    "        zs[2:2:end]=bs\n",
    "    else\n",
    "        zs[1:2:end] = as\n",
    "    zs[2:2:(end-1)] = bs\n",
    "    end\n",
    "    return zs\n",
    "end"
   ]
  },
  {
   "cell_type": "code",
   "execution_count": 48,
   "id": "c7c17d52",
   "metadata": {},
   "outputs": [
    {
     "data": {
      "text/plain": [
       "get_children (generic function with 1 method)"
      ]
     },
     "execution_count": 48,
     "metadata": {},
     "output_type": "execute_result"
    }
   ],
   "source": [
    "function propagate_win(tree::Dict{String, Vector{Int64}}, leaf::String, win::Int64)::Dict{String, Vector{Int64}}\n",
    "    for i in 0:length(leaf)\n",
    "        if i==0\n",
    "            node=\"\"\n",
    "        else\n",
    "            node=leaf[1:i]\n",
    "        end\n",
    "        if haskey(tree, node)\n",
    "            tree[node][2] += 1\n",
    "            tree[node][1] += win\n",
    "        end\n",
    "    end\n",
    "    return tree\n",
    "end\n",
    "\n",
    "function append_move_to_leaf(leaf::String, move::Int64)::String\n",
    "    zs = string_to_intarr(leaf)\n",
    "    append!(zs, move)\n",
    "    return intarr_to_string(zs)\n",
    "end\n",
    "\n",
    "function get_children(payoffs::Array{Int64}, leaf::String)::Array{String}\n",
    "    # get arrays\n",
    "    as, bs = split_arrs(string_to_intarr(leaf))\n",
    "    if mod(length(leaf), 2)==0\n",
    "        player = 1\n",
    "    else\n",
    "        player = 2\n",
    "    end\n",
    "    # generate successors\n",
    "    if player==1\n",
    "        cands = legal_moves(payoffs, as, bs)\n",
    "    else\n",
    "        cands = legal_moves(payoffs, bs, as)\n",
    "    end\n",
    "    return [append_move_to_leaf(leaf, c) for c in cands]\n",
    "end"
   ]
  },
  {
   "cell_type": "code",
   "execution_count": 49,
   "id": "783e5249",
   "metadata": {},
   "outputs": [
    {
     "data": {
      "text/plain": [
       "check_and_propagate_terminal (generic function with 1 method)"
      ]
     },
     "execution_count": 49,
     "metadata": {},
     "output_type": "execute_result"
    }
   ],
   "source": [
    "function check_and_propagate_terminal(payoffs::Array{Int64}, tree::Dict{String, Vector{Int64}}, leaf::String)::Dict{String, Vector{Int64}}\n",
    "    children = get_children(payoffs, leaf)\n",
    "    if length(children) == 0\n",
    "        # indicate terminal\n",
    "        tree[leaf][3]=1\n",
    "        if mod(length(leaf), 2)==0\n",
    "            #p1 lost\n",
    "            tree = propagate_win(tree, leaf, 0)\n",
    "        else\n",
    "            #p1 won\n",
    "            tree = propagate_win(tree, leaf, 1)\n",
    "        end\n",
    "    end\n",
    "    return tree\n",
    "end"
   ]
  },
  {
   "cell_type": "code",
   "execution_count": 50,
   "id": "522db1cb",
   "metadata": {},
   "outputs": [
    {
     "data": {
      "text/plain": [
       "query_node (generic function with 1 method)"
      ]
     },
     "execution_count": 50,
     "metadata": {},
     "output_type": "execute_result"
    }
   ],
   "source": [
    "function try_add_node(tree::Dict{String, Vector{Int64}}, node::String)::Dict{String, Vector{Int64}}\n",
    "    if haskey(tree, node)\n",
    "        return tree\n",
    "    else\n",
    "        tree[node] = [0,0,0]\n",
    "        return tree\n",
    "    end\n",
    "end\n",
    "\n",
    "function query_node(tree, node)::Array{Int64}\n",
    "    if haskey(tree, node)\n",
    "        return tree[node]\n",
    "    else\n",
    "        return [0,0,0]\n",
    "    end\n",
    "end"
   ]
  },
  {
   "cell_type": "code",
   "execution_count": 51,
   "id": "c740ead6",
   "metadata": {},
   "outputs": [
    {
     "data": {
      "text/plain": [
       "expand_leaf (generic function with 1 method)"
      ]
     },
     "execution_count": 51,
     "metadata": {},
     "output_type": "execute_result"
    }
   ],
   "source": [
    "function expand_leaf(\n",
    "        payoffs::Array{Int64}, tree::Dict{String, Vector{Int64}}, leaf::String)::Dict{String, Vector{Int64}}\n",
    "    # check if leaf is terminal\n",
    "    tree = check_and_propagate_terminal(payoffs, tree, leaf)\n",
    "    if tree[leaf][3]==1\n",
    "        return tree\n",
    "    end\n",
    "    # get arrays for leaf\n",
    "    as, bs = split_arrs(string_to_intarr(leaf))\n",
    "    if mod(length(leaf), 2)==0\n",
    "        player = 1\n",
    "    else\n",
    "        player = 2\n",
    "    end\n",
    "    # generate random successor\n",
    "    if player==1\n",
    "        cands = legal_moves(payoffs, as, bs)\n",
    "        newleaf = append_move_to_leaf(leaf, rand(cands))\n",
    "    else\n",
    "        cands = legal_moves(payoffs, bs, as)\n",
    "        newleaf = append_move_to_leaf(leaf, rand(cands))\n",
    "    end\n",
    "    tree = try_add_node(tree, newleaf)\n",
    "    tree = check_and_propagate_terminal(payoffs, tree, newleaf)\n",
    "    # play the match\n",
    "    as, bs = split_arrs(string_to_intarr(newleaf))\n",
    "    a_win, as2, bs2 = play_random_vs_random(payoffs, as, bs)\n",
    "    # propagate result\n",
    "    if a_win == 1\n",
    "        tree = propagate_win(tree, newleaf, 1)\n",
    "    else\n",
    "        tree = propagate_win(tree, newleaf, 0)\n",
    "    end\n",
    "    return tree\n",
    "end\n"
   ]
  },
  {
   "cell_type": "code",
   "execution_count": 52,
   "id": "be7b9e27",
   "metadata": {},
   "outputs": [
    {
     "data": {
      "text/plain": [
       "sample_next_node (generic function with 2 methods)"
      ]
     },
     "execution_count": 52,
     "metadata": {},
     "output_type": "execute_result"
    }
   ],
   "source": [
    "function sample_next_node(\n",
    "        payoffs::Array{Int64}, tree::Dict{String, Vector{Int64}}, node::String, \n",
    "        explore_const::Float64=1.4)::String\n",
    "    # values for UCT\n",
    "    n = tree[node][2]\n",
    "    # assumes that all children are added\n",
    "    children = get_children(payoffs, node)\n",
    "    counts = [query_node(tree, c)[2] for c in children]\n",
    "    wins = [query_node(tree, c)[1] for c in children]\n",
    "    if minimum(counts) == 0\n",
    "        sel = children[rand(findall(counts .== 0))]\n",
    "        return sel\n",
    "    end\n",
    "    if mod(length(node), 2)==1\n",
    "        wins = counts .- wins\n",
    "    end\n",
    "    scores = counts .* 0.0\n",
    "    for i in 1:length(scores)\n",
    "        if counts[i] > 0\n",
    "            scores[i] = wins[i]/counts[i] + explore_const * sqrt((log(n)/counts[i]))\n",
    "        end\n",
    "    end\n",
    "    sel = children[rand(findall(scores .== maximum(scores)))]\n",
    "    return sel\n",
    "end"
   ]
  },
  {
   "cell_type": "code",
   "execution_count": 53,
   "id": "41607172",
   "metadata": {},
   "outputs": [
    {
     "data": {
      "text/plain": [
       "random_leaf (generic function with 2 methods)"
      ]
     },
     "execution_count": 53,
     "metadata": {},
     "output_type": "execute_result"
    }
   ],
   "source": [
    "function random_leaf(payoffs::Array{Int64}, tree::Dict{String, Vector{Int64}}, node::String=\"\")::String\n",
    "    while query_node(tree,node)[2] > 1 && query_node(tree,node)[3] != 1\n",
    "        node = sample_next_node(payoffs, tree, node)\n",
    "    end\n",
    "    return node\n",
    "end"
   ]
  },
  {
   "cell_type": "code",
   "execution_count": 54,
   "id": "6745f218",
   "metadata": {},
   "outputs": [
    {
     "data": {
      "text/plain": [
       "sample_next_node2 (generic function with 2 methods)"
      ]
     },
     "execution_count": 54,
     "metadata": {},
     "output_type": "execute_result"
    }
   ],
   "source": [
    "# exploit mode\n",
    "function sample_next_node2(\n",
    "        payoffs::Array{Int64}, tree::Dict{String, Vector{Int64}}, node::String, beta::Float64 = 1.0)::String\n",
    "    # values for UCT\n",
    "    n = tree[node][2]\n",
    "    # assumes that all children are added\n",
    "    children = get_children(payoffs, node)\n",
    "    counts = [query_node(tree, c)[2] for c in children]\n",
    "    wins = [query_node(tree, c)[1] for c in children]\n",
    "    if mod(length(node), 2)==1\n",
    "        wins = counts .- wins\n",
    "    end\n",
    "    scores = counts .* 0.0\n",
    "    for i in 1:length(scores)\n",
    "        if counts[i] > 0\n",
    "            scores[i] = wins[i]/counts[i]\n",
    "        end\n",
    "    end\n",
    "    scores = [exp(beta*x) for x in scores]\n",
    "    scores = scores./sum(scores)\n",
    "    cs = cumsum(scores)\n",
    "    z = rand(1)[1]\n",
    "    sel = children[minimum(findall(cs .>= z))]\n",
    "    return sel\n",
    "end"
   ]
  },
  {
   "cell_type": "code",
   "execution_count": 55,
   "id": "56802484",
   "metadata": {},
   "outputs": [
    {
     "data": {
      "text/plain": [
       "display_choices (generic function with 1 method)"
      ]
     },
     "execution_count": 55,
     "metadata": {},
     "output_type": "execute_result"
    }
   ],
   "source": [
    "function display_node(payoffs::Array{Int64}, tree::Dict{String, Vector{Int64}}, node::String)\n",
    "    print(\"Node: \")\n",
    "    println(node)\n",
    "    as, bs = split_arrs(string_to_intarr(node))\n",
    "    display_game(payoffs, as, bs)\n",
    "    print(\"Stats: \")\n",
    "    print(query_node(tree,node)[1])\n",
    "    print(\"/\")\n",
    "    print(query_node(tree,node)[2])\n",
    "    print(\"=\")\n",
    "    s = string(query_node(tree,node)[1]/query_node(tree,node)[2])\n",
    "    println(s[1:min(5, length(s))])\n",
    "    if query_node(tree,node)[3]==1\n",
    "        println(\"[terminal] \")\n",
    "    end\n",
    "end\n",
    "\n",
    "function display_path(payoffs::Array{Int64}, tree::Dict{String, Vector{Int64}}, leaf::String)\n",
    "    for i in 0:length(leaf)\n",
    "        if i==0\n",
    "            if haskey(tree, \"\")\n",
    "                display_node(payoffs, tree, \"\")\n",
    "                println()\n",
    "            end\n",
    "        else\n",
    "            if haskey(tree, leaf[1:i])\n",
    "                display_node(payoffs, tree, leaf[1:i])\n",
    "                println()\n",
    "            end\n",
    "        end\n",
    "    end\n",
    "end\n",
    "\n",
    "function display_choices(payoffs::Array{Int64}, tree::Dict{String, Vector{Int64}}, node::String)\n",
    "    children = get_children(payoffs, node)\n",
    "    display_node(payoffs, tree, node)\n",
    "    for c in children\n",
    "        println()\n",
    "        display_node(payoffs, tree, c)\n",
    "    end\n",
    "end"
   ]
  },
  {
   "cell_type": "code",
   "execution_count": 56,
   "id": "4e76e50f",
   "metadata": {},
   "outputs": [
    {
     "data": {
      "text/plain": [
       "\"Hc`iHE9\\\"\""
      ]
     },
     "execution_count": 56,
     "metadata": {},
     "output_type": "execute_result"
    }
   ],
   "source": [
    "a1 = int2ind[121321]\n",
    "b1 = int2ind[214111]\n",
    "a2 = int2ind[213112]\n",
    "b2 = int2ind[313111]\n",
    "a3 = int2ind[121321]\n",
    "b3 = int2ind[121222]\n",
    "a4 = int2ind[113122]\n",
    "b4 = int2ind[111133]\n",
    "s0=intarr_to_string(merge_arrs([a1,a2,a3,a4],[b1,b2,b3,b4]))"
   ]
  },
  {
   "cell_type": "code",
   "execution_count": 57,
   "id": "28e6009e",
   "metadata": {},
   "outputs": [
    {
     "data": {
      "text/plain": [
       "create_tree (generic function with 2 methods)"
      ]
     },
     "execution_count": 57,
     "metadata": {},
     "output_type": "execute_result"
    }
   ],
   "source": [
    "function create_tree(node::String = \"\")::Dict{String, Vector{Int64}}\n",
    "    return Dict(node => [0,0,0])\n",
    "end"
   ]
  },
  {
   "cell_type": "code",
   "execution_count": 58,
   "id": "0e01aeb9",
   "metadata": {},
   "outputs": [
    {
     "data": {
      "text/plain": [
       "Dict{String, Vector{Int64}} with 1 entry:\n",
       "  \"\" => [0, 0, 0]"
      ]
     },
     "execution_count": 58,
     "metadata": {},
     "output_type": "execute_result"
    }
   ],
   "source": [
    "#tree = load_object(\"beatn10_tree.jld2\")\n",
    "\n",
    "tree = create_tree()\n"
   ]
  },
  {
   "cell_type": "code",
   "execution_count": 59,
   "id": "b6a9be28",
   "metadata": {},
   "outputs": [],
   "source": [
    "#tree = expand_leaf(payoffs, tree, \"\")"
   ]
  },
  {
   "cell_type": "code",
   "execution_count": 60,
   "id": "9b450202",
   "metadata": {},
   "outputs": [
    {
     "data": {
      "text/plain": [
       "\"\""
      ]
     },
     "execution_count": 60,
     "metadata": {},
     "output_type": "execute_result"
    }
   ],
   "source": [
    "node = random_leaf(payoffs, tree, \"\")"
   ]
  },
  {
   "cell_type": "code",
   "execution_count": 61,
   "id": "c7ee9179",
   "metadata": {},
   "outputs": [
    {
     "data": {
      "text/plain": [
       "grow_tree (generic function with 2 methods)"
      ]
     },
     "execution_count": 61,
     "metadata": {},
     "output_type": "execute_result"
    }
   ],
   "source": [
    "function grow_tree(\n",
    "        payoffs::Array{Int64}, tree::Dict{String, Vector{Int64}}, node::String = \"\")::Dict{String, Vector{Int64}}\n",
    "    node = random_leaf(payoffs, tree, node)\n",
    "    tree = try_add_node(tree, node)\n",
    "    tree = check_and_propagate_terminal(payoffs, tree, node)\n",
    "    tree = expand_leaf(payoffs, tree, node)\n",
    "    return tree\n",
    "end\n",
    "\n",
    "function grow_tree(\n",
    "        payoffs::Array{Int64}, tree::Dict{String, Vector{Int64}}; \n",
    "        node::String = \"\", iters::Int64 = 1000)::Dict{String, Vector{Int64}}\n",
    "    for i in 1:iters\n",
    "        tree = grow_tree(payoffs, tree, node)\n",
    "    end\n",
    "    return tree\n",
    "end"
   ]
  },
  {
   "cell_type": "code",
   "execution_count": 62,
   "id": "fc266528",
   "metadata": {},
   "outputs": [
    {
     "name": "stdout",
     "output_type": "stream",
     "text": [
      "  0.057511 seconds (617.82 k allocations: 48.703 MiB, 10.93% gc time, 64.74% compilation time)\n"
     ]
    },
    {
     "data": {
      "text/plain": [
       "Dict{String, Vector{Int64}} with 172 entries:\n",
       "  \"Z\"   => [1, 1, 0]\n",
       "  \"1\"   => [0, 1, 0]\n",
       "  \"V3\"  => [1, 1, 0]\n",
       "  \"+j\"  => [1, 1, 0]\n",
       "  \"OM\"  => [1, 1, 0]\n",
       "  \"=\"   => [1, 2, 0]\n",
       "  \"'\"   => [0, 1, 0]\n",
       "  \"a;\"  => [0, 1, 0]\n",
       "  \"*\"   => [0, 1, 0]\n",
       "  \"bf\"  => [1, 1, 0]\n",
       "  \")\"   => [0, 1, 0]\n",
       "  \"K\"   => [1, 2, 0]\n",
       "  \":@\"  => [1, 1, 0]\n",
       "  \")%\"  => [0, 1, 0]\n",
       "  \"`E\"  => [1, 1, 0]\n",
       "  \"9\"   => [0, 1, 0]\n",
       "  \"F\"   => [1, 2, 0]\n",
       "  \"c\"   => [0, 1, 0]\n",
       "  \"!]\"  => [1, 1, 0]\n",
       "  \"',\"  => [0, 1, 0]\n",
       "  \"\\$G\" => [0, 1, 0]\n",
       "  \"[\"   => [1, 2, 0]\n",
       "  \"Qf\"  => [1, 1, 0]\n",
       "  \"g\"   => [1, 2, 0]\n",
       "  \"hd\"  => [1, 1, 0]\n",
       "  ⋮     => ⋮"
      ]
     },
     "execution_count": 62,
     "metadata": {},
     "output_type": "execute_result"
    }
   ],
   "source": [
    "@time tree = grow_tree(payoffs, tree, iters=100)"
   ]
  },
  {
   "cell_type": "code",
   "execution_count": 63,
   "id": "180fcb54",
   "metadata": {},
   "outputs": [],
   "source": [
    "# for metaiter in 1:10\n",
    "#     s = \"\"\n",
    "#     for iter in 1:100000\n",
    "#         s = string(s,\".\")\n",
    "#         node = random_leaf(payoffs, tree, \"\")\n",
    "#         tree = try_add_node(tree, node)\n",
    "#         tree = check_and_propagate_terminal(payoffs, tree, node)\n",
    "#         s = string(s, node, \".\")\n",
    "#         tree = expand_leaf(payoffs, tree, node)\n",
    "#     end\n",
    "#     println(s[end-100:end])\n",
    "#     save_object(\"beatn10_tree.jld2\", tree)\n",
    "# end"
   ]
  },
  {
   "cell_type": "code",
   "execution_count": 64,
   "id": "49de2a0f",
   "metadata": {},
   "outputs": [
    {
     "data": {
      "text/plain": [
       "172"
      ]
     },
     "execution_count": 64,
     "metadata": {},
     "output_type": "execute_result"
    }
   ],
   "source": [
    "length(tree)"
   ]
  },
  {
   "cell_type": "code",
   "execution_count": 65,
   "id": "b918ff1a",
   "metadata": {},
   "outputs": [
    {
     "data": {
      "text/plain": [
       "\"N\""
      ]
     },
     "execution_count": 65,
     "metadata": {},
     "output_type": "execute_result"
    }
   ],
   "source": [
    "node = random_leaf(payoffs, tree, \"\")"
   ]
  },
  {
   "cell_type": "code",
   "execution_count": 66,
   "id": "42cf33e7",
   "metadata": {
    "scrolled": false
   },
   "outputs": [],
   "source": [
    "# for mj in 1:2\n",
    "#     nodes = Array{String}(undef, 50)\n",
    "#     for i in 1:length(nodes)\n",
    "#         node = \"\"\n",
    "#         for j in 1:mj\n",
    "#             if haskey(tree, node)\n",
    "#                 node = sample_next_node2(payoffs, tree, node, 10.0)\n",
    "#             end\n",
    "#         end\n",
    "#         nodes[i] = node\n",
    "#     end\n",
    "#     nodes = sort(unique(nodes))\n",
    "#     for node in nodes\n",
    "#         display_node(payoffs, tree, node)\n",
    "#         println()\n",
    "#     end\n",
    "# end"
   ]
  },
  {
   "cell_type": "code",
   "execution_count": 67,
   "id": "5b275c3b",
   "metadata": {
    "scrolled": false
   },
   "outputs": [],
   "source": [
    "# node = random_leaf(payoffs, tree, \"\")\n",
    "# display_path(payoffs, tree, node)"
   ]
  },
  {
   "cell_type": "code",
   "execution_count": 68,
   "id": "1e9b4e21",
   "metadata": {},
   "outputs": [],
   "source": [
    "# node = \"\"\n",
    "# while query_node(tree,node)[2] > 1 && query_node(tree,node)[3] != 1\n",
    "#     node = sample_next_node(payoffs, tree, node)\n",
    "#     println(node)\n",
    "# end"
   ]
  },
  {
   "cell_type": "code",
   "execution_count": 69,
   "id": "0f8be604",
   "metadata": {},
   "outputs": [],
   "source": [
    "# display_node(payoffs, tree, node)"
   ]
  },
  {
   "cell_type": "code",
   "execution_count": 70,
   "id": "a92583f9",
   "metadata": {},
   "outputs": [],
   "source": [
    "# children = get_children(payoffs, node)\n",
    "# children"
   ]
  },
  {
   "cell_type": "code",
   "execution_count": 71,
   "id": "c1cbbc37",
   "metadata": {},
   "outputs": [],
   "source": [
    "# sample_next_node(payoffs, tree, node)"
   ]
  },
  {
   "cell_type": "code",
   "execution_count": 72,
   "id": "0e197833",
   "metadata": {
    "scrolled": false
   },
   "outputs": [],
   "source": [
    "#display_choices(payoffs, tree, \"HG`i\\\"\")"
   ]
  },
  {
   "cell_type": "markdown",
   "id": "32fb4b3a",
   "metadata": {},
   "source": [
    "### Tree at arbitrary root"
   ]
  },
  {
   "cell_type": "code",
   "execution_count": 73,
   "id": "fbb6bff4",
   "metadata": {},
   "outputs": [
    {
     "data": {
      "text/plain": [
       "8"
      ]
     },
     "execution_count": 73,
     "metadata": {},
     "output_type": "execute_result"
    }
   ],
   "source": [
    "length(s0)"
   ]
  },
  {
   "cell_type": "code",
   "execution_count": 80,
   "id": "94d93f15",
   "metadata": {},
   "outputs": [
    {
     "name": "stdout",
     "output_type": "stream",
     "text": [
      "  2.105283 seconds (45.69 M allocations: 4.853 GiB, 18.60% gc time, 0.41% compilation time)\n"
     ]
    },
    {
     "data": {
      "text/plain": [
       "Dict{String, Vector{Int64}} with 17059 entries:\n",
       "  \"Hc`iHE9Cf2\"    => [1, 1, 0]\n",
       "  \"Hc`iHE9<+\"     => [1, 2, 0]\n",
       "  \"Hc`iHE92WX\"    => [1, 1, 0]\n",
       "  \"Hc`iHE9V`\"     => [1, 1, 0]\n",
       "  \"Hc`iHE9Y>U\"    => [1, 1, 0]\n",
       "  \"Hc`iHE9..9\"    => [1, 1, 0]\n",
       "  \"Hc`iHE9+gc\"    => [0, 1, 0]\n",
       "  \"Hc`iHE913\"     => [1, 1, 0]\n",
       "  \"Hc`iHE9\\\"FGi;\" => [0, 1, 0]\n",
       "  \"Hc`iHE9\\\"h>D\"  => [1, 1, 0]\n",
       "  \"Hc`iHE9ib<c\"   => [0, 1, 0]\n",
       "  \"Hc`iHE96QS;\"   => [0, 1, 0]\n",
       "  \"Hc`iHE9&fcL\"   => [1, 1, 0]\n",
       "  \"Hc`iHE96L&\"    => [1, 1, 0]\n",
       "  \"Hc`iHE93cDG\"   => [1, 1, 0]\n",
       "  \"Hc`iHE9\\\"4>J\"  => [0, 1, 0]\n",
       "  \"Hc`iHE9`e8\"    => [1, 1, 0]\n",
       "  \"Hc`iHE9RcY\"    => [1, 1, 0]\n",
       "  \"Hc`iHE9bd[\"    => [1, 1, 0]\n",
       "  \"Hc`iHE9\\\"hcC\"  => [1, 2, 0]\n",
       "  \"Hc`iHE9W<\"     => [1, 1, 0]\n",
       "  \"Hc`iHE9\\\"iT^\"  => [1, 3, 0]\n",
       "  \"Hc`iHE965d\"    => [1, 1, 0]\n",
       "  \"Hc`iHE9;J3(\"   => [1, 1, 0]\n",
       "  \"Hc`iHE9[GY\"    => [1, 1, 0]\n",
       "  ⋮               => ⋮"
      ]
     },
     "execution_count": 80,
     "metadata": {},
     "output_type": "execute_result"
    }
   ],
   "source": [
    "node0 = s0[1:7]\n",
    "tree = create_tree(node0)\n",
    "@time tree = grow_tree(payoffs, tree, node=node0, iters=10000)"
   ]
  },
  {
   "cell_type": "code",
   "execution_count": 81,
   "id": "7f27851e",
   "metadata": {
    "scrolled": true
   },
   "outputs": [
    {
     "name": "stdout",
     "output_type": "stream",
     "text": [
      "Node: Hc`iHE9\"\n",
      "121321 {0}. 214111 {0}. \n",
      "213112 {0}. 313111 {0}. \n",
      "121321 {0}. 121222 {0}. \n",
      "113122 {0}. 111133 {2}. \n",
      "Stats: 409/1301=0.314\n",
      "\n",
      "Node: Hc`iHE9*\n",
      "121321 {0}. 214111 {0}. \n",
      "213112 {0}. 313111 {0}. \n",
      "121321 {0}. 121222 {0}. \n",
      "113122 {0}. 111331 {0}. \n",
      "Stats: 79/143=0.552\n",
      "\n",
      "Node: Hc`iHE9+\n",
      "121321 {0}. 214111 {0}. \n",
      "213112 {0}. 313111 {0}. \n",
      "121321 {0}. 121222 {0}. \n",
      "113122 {0}. 111412 {0}. \n",
      "Stats: 150/354=0.423\n",
      "\n",
      "Node: Hc`iHE94\n",
      "121321 {0}. 214111 {0}. \n",
      "213112 {0}. 313111 {0}. \n",
      "121321 {0}. 121222 {0}. \n",
      "113122 {0}. 112231 {0}. \n",
      "Stats: 57/87=0.655\n",
      "\n",
      "Node: Hc`iHE95\n",
      "121321 {0}. 214111 {0}. \n",
      "213112 {0}. 313111 {0}. \n",
      "121321 {0}. 121222 {0}. \n",
      "113122 {0}. 112312 {0}. \n",
      "Stats: 114/242=0.471\n",
      "\n",
      "Node: Hc`iHE99\n",
      "121321 {0}. 214111 {0}. \n",
      "213112 {0}. 313111 {0}. \n",
      "121321 {0}. 121222 {0}. \n",
      "113122 {0}. 113122 {0}. \n",
      "Stats: 76/135=0.562\n",
      "\n",
      "Node: Hc`iHE9;\n",
      "121321 {0}. 214111 {0}. \n",
      "213112 {0}. 313111 {0}. \n",
      "121321 {0}. 121222 {0}. \n",
      "113122 {0}. 113212 {1}. \n",
      "Stats: 82/150=0.546\n",
      "\n",
      "Node: Hc`iHE9@\n",
      "121321 {0}. 214111 {0}. \n",
      "213112 {0}. 313111 {0}. \n",
      "121321 {0}. 121222 {0}. \n",
      "113122 {0}. 114211 {0}. \n",
      "Stats: 63/102=0.617\n",
      "\n",
      "Node: Hc`iHE9C\n",
      "121321 {0}. 214111 {0}. \n",
      "213112 {0}. 313111 {0}. \n",
      "121321 {0}. 121222 {0}. \n",
      "113122 {0}. 121132 {0}. \n",
      "Stats: 67/112=0.598\n",
      "\n",
      "Node: Hc`iHE9H\n",
      "121321 {0}. 214111 {0}. \n",
      "213112 {0}. 313111 {0}. \n",
      "121321 {0}. 121222 {0}. \n",
      "113122 {0}. 121321 {1}. \n",
      "Stats: 165/404=0.408\n",
      "\n",
      "Node: Hc`iHE9I\n",
      "121321 {0}. 214111 {0}. \n",
      "213112 {0}. 313111 {0}. \n",
      "121321 {0}. 121222 {0}. \n",
      "113122 {0}. 121411 {0}. \n",
      "Stats: 116/249=0.465\n",
      "\n",
      "Node: Hc`iHE9N\n",
      "121321 {0}. 214111 {0}. \n",
      "213112 {0}. 313111 {0}. \n",
      "121321 {0}. 121222 {0}. \n",
      "113122 {0}. 122311 {0}. \n",
      "Stats: 102/207=0.492\n",
      "\n",
      "Node: Hc`iHE9Q\n",
      "121321 {0}. 214111 {0}. \n",
      "213112 {0}. 313111 {0}. \n",
      "121321 {0}. 121222 {0}. \n",
      "113122 {0}. 131113 {0}. \n",
      "Stats: 69/117=0.589\n",
      "\n",
      "Node: Hc`iHE9T\n",
      "121321 {0}. 214111 {0}. \n",
      "213112 {0}. 313111 {0}. \n",
      "121321 {0}. 121222 {0}. \n",
      "113122 {0}. 131221 {1}. \n",
      "Stats: 48/66=0.727\n",
      "\n",
      "Node: Hc`iHE9U\n",
      "121321 {0}. 214111 {0}. \n",
      "213112 {0}. 313111 {0}. \n",
      "121321 {0}. 121222 {0}. \n",
      "113122 {0}. 131311 {0}. \n",
      "Stats: 71/122=0.581\n",
      "\n",
      "Node: Hc`iHE9[\n",
      "121321 {0}. 214111 {0}. \n",
      "213112 {0}. 313111 {0}. \n",
      "121321 {0}. 121222 {0}. \n",
      "113122 {0}. 212122 {0}. \n",
      "Stats: 113/239=0.472\n",
      "\n",
      "Node: Hc`iHE9a\n",
      "121321 {0}. 214111 {0}. \n",
      "213112 {0}. 313111 {0}. \n",
      "121321 {0}. 121222 {0}. \n",
      "113122 {0}. 213121 {0}. \n",
      "Stats: 73/126=0.579\n",
      "\n",
      "Node: Hc`iHE9b\n",
      "121321 {0}. 214111 {0}. \n",
      "213112 {0}. 313111 {0}. \n",
      "121321 {0}. 121222 {0}. \n",
      "113122 {0}. 213211 {0}. \n",
      "Stats: 132/298=0.442\n",
      "\n",
      "Node: Hc`iHE9e\n",
      "121321 {0}. 214111 {0}. \n",
      "213112 {0}. 313111 {0}. \n",
      "121321 {0}. 121222 {0}. \n",
      "113122 {0}. 222211 {0}. \n",
      "Stats: 58/90=0.644\n",
      "\n",
      "Node: Hc`iHE9f\n",
      "121321 {0}. 214111 {0}. \n",
      "213112 {0}. 313111 {0}. \n",
      "121321 {0}. 121222 {0}. \n",
      "113122 {0}. 312112 {0}. \n",
      "Stats: 87/165=0.527\n",
      "\n",
      "Node: Hc`iHE9i\n",
      "121321 {0}. 214111 {0}. \n",
      "213112 {0}. 313111 {0}. \n",
      "121321 {0}. 121222 {0}. \n",
      "113122 {0}. 313111 {0}. \n",
      "Stats: 186/474=0.392\n",
      "\n",
      "Node: Hc`iHE9\"&\n",
      "121321 {0}. 214111 {0}. \n",
      "213112 {0}. 313111 {0}. \n",
      "121321 {0}. 121222 {0}. \n",
      "113122 {0}. 111133 {2}. \n",
      "111232 {2}. \n",
      "Stats: 14/65=0.215\n",
      "\n",
      "Node: Hc`iHE9\"2\n",
      "121321 {0}. 214111 {0}. \n",
      "213112 {0}. 313111 {0}. \n",
      "121321 {0}. 121222 {0}. \n",
      "113122 {0}. 111133 {2}. \n",
      "112213 {2}. \n",
      "Stats: 12/60=0.2\n",
      "\n",
      "Node: Hc`iHE9\"Z\n",
      "121321 {0}. 214111 {0}. \n",
      "213112 {0}. 313111 {0}. \n",
      "121321 {0}. 121222 {0}. \n",
      "113122 {0}. 111133 {2}. \n",
      "212113 {2}. \n",
      "Stats: 18/73=0.246\n",
      "\n",
      "Node: Hc`iHE9\"g\n",
      "121321 {0}. 214111 {0}. \n",
      "213112 {0}. 313111 {0}. \n",
      "121321 {0}. 121222 {0}. \n",
      "113122 {0}. 111133 {2}. \n",
      "312121 {2}. \n",
      "Stats: 23/84=0.273\n",
      "\n",
      "Node: Hc`iHE9\"i\n",
      "121321 {0}. 214111 {0}. \n",
      "213112 {0}. 313111 {0}. \n",
      "121321 {0}. 121222 {0}. \n",
      "113122 {0}. 111133 {2}. \n",
      "313111 {2}. \n",
      "Stats: 166/340=0.488\n",
      "\n",
      "Node: Hc`iHE9\"j\n",
      "121321 {0}. 214111 {0}. \n",
      "213112 {0}. 313111 {0}. \n",
      "121321 {0}. 121222 {0}. \n",
      "113122 {0}. 111133 {2}. \n",
      "412111 {2}. \n",
      "Stats: 22/82=0.268\n",
      "\n",
      "Node: Hc`iHE9#\\\n",
      "121321 {0}. 214111 {0}. \n",
      "213112 {0}. 313111 {0}. \n",
      "121321 {0}. 121222 {0}. \n",
      "113122 {0}. 111142 {0}. \n",
      "212131 {1}. \n",
      "Stats: 3/3=1.0\n",
      "\n",
      "Node: Hc`iHE9(]\n",
      "121321 {0}. 214111 {0}. \n",
      "213112 {0}. 313111 {0}. \n",
      "121321 {0}. 121222 {0}. \n",
      "113122 {0}. 111313 {1}. \n",
      "212212 {2}. \n",
      "Stats: 3/3=1.0\n",
      "\n",
      "Node: Hc`iHE9*%\n",
      "121321 {0}. 214111 {0}. \n",
      "213112 {0}. 313111 {0}. \n",
      "121321 {0}. 121222 {0}. \n",
      "113122 {0}. 111331 {0}. \n",
      "111223 {0}. \n",
      "Stats: 3/3=1.0\n",
      "\n",
      "Node: Hc`iHE9+N\n",
      "121321 {0}. 214111 {0}. \n",
      "213112 {0}. 313111 {0}. \n",
      "121321 {0}. 121222 {0}. \n",
      "113122 {0}. 111412 {0}. \n",
      "122311 {0}. \n",
      "Stats: 7/9=0.777\n",
      "\n",
      "Node: Hc`iHE9,Z\n",
      "121321 {0}. 214111 {0}. \n",
      "213112 {0}. 313111 {0}. \n",
      "121321 {0}. 121222 {0}. \n",
      "113122 {0}. 111421 {0}. \n",
      "212113 {2}. \n",
      "Stats: 2/2=1.0\n",
      "\n",
      "Node: Hc`iHE95<\n",
      "121321 {0}. 214111 {0}. \n",
      "213112 {0}. 313111 {0}. \n",
      "121321 {0}. 121222 {0}. \n",
      "113122 {0}. 112312 {0}. \n",
      "113221 {0}. \n",
      "Stats: 1/3=0.333\n",
      "\n",
      "Node: Hc`iHE98i\n",
      "121321 {0}. 214111 {0}. \n",
      "213112 {0}. 313111 {0}. \n",
      "121321 {0}. 121222 {0}. \n",
      "113122 {0}. 113113 {0}. \n",
      "313111 {0}. \n",
      "Stats: 2/2=1.0\n",
      "\n",
      "Node: Hc`iHE9;H\n",
      "121321 {0}. 214111 {0}. \n",
      "213112 {0}. 313111 {0}. \n",
      "121321 {0}. 121222 {0}. \n",
      "113122 {0}. 113212 {1}. \n",
      "121321 {2}. \n",
      "Stats: 14/14=1.0\n",
      "\n",
      "Node: Hc`iHE9=*\n",
      "121321 {0}. 214111 {0}. \n",
      "213112 {0}. 313111 {0}. \n",
      "121321 {0}. 121222 {0}. \n",
      "113122 {0}. 113311 {0}. \n",
      "111331 {0}. \n",
      "Stats: 2/2=1.0\n",
      "\n",
      "Node: Hc`iHE9HI\n",
      "121321 {0}. 214111 {0}. \n",
      "213112 {0}. 313111 {0}. \n",
      "121321 {0}. 121222 {0}. \n",
      "113122 {0}. 121321 {1}. \n",
      "121411 {1}. \n",
      "Stats: 14/23=0.608\n",
      "\n",
      "Node: Hc`iHE9HN\n",
      "121321 {0}. 214111 {0}. \n",
      "213112 {0}. 313111 {0}. \n",
      "121321 {0}. 121222 {0}. \n",
      "113122 {0}. 121321 {1}. \n",
      "122311 {1}. \n",
      "Stats: 24/34=0.705\n",
      "\n",
      "Node: Hc`iHE9H`\n",
      "121321 {0}. 214111 {0}. \n",
      "213112 {0}. 313111 {0}. \n",
      "121321 {0}. 121222 {0}. \n",
      "113122 {0}. 121321 {1}. \n",
      "213112 {1}. \n",
      "Stats: 10/19=0.526\n",
      "\n",
      "Node: Hc`iHE9Hd\n",
      "121321 {0}. 214111 {0}. \n",
      "213112 {0}. 313111 {0}. \n",
      "121321 {0}. 121222 {0}. \n",
      "113122 {0}. 121321 {1}. \n",
      "222112 {1}. \n",
      "Stats: 23/33=0.696\n",
      "\n",
      "Node: Hc`iHE9Hg\n",
      "121321 {0}. 214111 {0}. \n",
      "213112 {0}. 313111 {0}. \n",
      "121321 {0}. 121222 {0}. \n",
      "113122 {0}. 121321 {1}. \n",
      "312121 {2}. \n",
      "Stats: 7/16=0.437\n",
      "\n",
      "Node: Hc`iHE9IH\n",
      "121321 {0}. 214111 {0}. \n",
      "213112 {0}. 313111 {0}. \n",
      "121321 {0}. 121222 {0}. \n",
      "113122 {0}. 121411 {0}. \n",
      "121321 {0}. \n",
      "Stats: 7/7=1.0\n",
      "\n",
      "Node: Hc`iHE9II\n",
      "121321 {0}. 214111 {0}. \n",
      "213112 {0}. 313111 {0}. \n",
      "121321 {0}. 121222 {0}. \n",
      "113122 {0}. 121411 {0}. \n",
      "121411 {0}. \n",
      "Stats: 4/5=0.8\n",
      "\n",
      "Node: Hc`iHE9NG\n",
      "121321 {0}. 214111 {0}. \n",
      "213112 {0}. 313111 {0}. \n",
      "121321 {0}. 121222 {0}. \n",
      "113122 {0}. 122311 {0}. \n",
      "121312 {0}. \n",
      "Stats: 4/4=1.0\n",
      "\n",
      "Node: Hc`iHE9Ni\n",
      "121321 {0}. 214111 {0}. \n",
      "213112 {0}. 313111 {0}. \n",
      "121321 {0}. 121222 {0}. \n",
      "113122 {0}. 122311 {0}. \n",
      "313111 {2}. \n",
      "Stats: 4/4=1.0\n",
      "\n",
      "Node: Hc`iHE9Qe\n",
      "121321 {0}. 214111 {0}. \n",
      "213112 {0}. 313111 {0}. \n",
      "121321 {0}. 121222 {0}. \n",
      "113122 {0}. 131113 {0}. \n",
      "222211 {0}. \n",
      "Stats: 2/2=1.0\n",
      "\n",
      "Node: Hc`iHE9UA\n",
      "121321 {0}. 214111 {0}. \n",
      "213112 {0}. 313111 {0}. \n",
      "121321 {0}. 121222 {0}. \n",
      "113122 {0}. 131311 {0}. \n",
      "121114 {0}. \n",
      "Stats: 2/2=1.0\n",
      "\n",
      "Node: Hc`iHE9]+\n",
      "121321 {0}. 214111 {0}. \n",
      "213112 {0}. 313111 {0}. \n",
      "121321 {0}. 121222 {0}. \n",
      "113122 {0}. 212212 {0}. \n",
      "111412 {0}. \n",
      "Stats: 2/2=1.0\n",
      "\n",
      "Node: Hc`iHE9]G\n",
      "121321 {0}. 214111 {0}. \n",
      "213112 {0}. 313111 {0}. \n",
      "121321 {0}. 121222 {0}. \n",
      "113122 {0}. 212212 {0}. \n",
      "121312 {2}. \n",
      "Stats: 2/2=1.0\n",
      "\n",
      "Node: Hc`iHE9`#\n",
      "121321 {0}. 214111 {0}. \n",
      "213112 {0}. 313111 {0}. \n",
      "121321 {0}. 121222 {0}. \n",
      "113122 {0}. 213112 {0}. \n",
      "111142 {0}. \n",
      "Stats: 3/5=0.6\n",
      "\n",
      "Node: Hc`iHE9`Z\n",
      "121321 {0}. 214111 {0}. \n",
      "213112 {0}. 313111 {0}. \n",
      "121321 {0}. 121222 {0}. \n",
      "113122 {0}. 213112 {0}. \n",
      "212113 {0}. \n",
      "Stats: 6/7=0.857\n",
      "\n",
      "Node: Hc`iHE9``\n",
      "121321 {0}. 214111 {0}. \n",
      "213112 {0}. 313111 {0}. \n",
      "121321 {0}. 121222 {0}. \n",
      "113122 {0}. 213112 {0}. \n",
      "213112 {0}. \n",
      "Stats: 7/8=0.875\n",
      "\n",
      "Node: Hc`iHE9`i\n",
      "121321 {0}. 214111 {0}. \n",
      "213112 {0}. 313111 {0}. \n",
      "121321 {0}. 121222 {0}. \n",
      "113122 {0}. 213112 {0}. \n",
      "313111 {0}. \n",
      "Stats: 6/7=0.857\n",
      "\n",
      "Node: Hc`iHE9bi\n",
      "121321 {0}. 214111 {0}. \n",
      "213112 {0}. 313111 {0}. \n",
      "121321 {0}. 121222 {0}. \n",
      "113122 {0}. 213211 {0}. \n",
      "313111 {0}. \n",
      "Stats: 8/8=1.0\n",
      "\n",
      "Node: Hc`iHE9cT\n",
      "121321 {0}. 214111 {0}. \n",
      "213112 {0}. 313111 {0}. \n",
      "121321 {0}. 121222 {0}. \n",
      "113122 {0}. 214111 {1}. \n",
      "131221 {4}. \n",
      "Stats: 20/20=1.0\n",
      "[terminal] \n",
      "\n",
      "Node: Hc`iHE9gC\n",
      "121321 {0}. 214111 {0}. \n",
      "213112 {0}. 313111 {0}. \n",
      "121321 {0}. 121222 {0}. \n",
      "113122 {0}. 312121 {0}. \n",
      "121132 {0}. \n",
      "Stats: 3/3=1.0\n",
      "\n",
      "Node: Hc`iHE9h&\n",
      "121321 {0}. 214111 {0}. \n",
      "213112 {0}. 313111 {0}. \n",
      "121321 {0}. 121222 {0}. \n",
      "113122 {0}. 312211 {0}. \n",
      "111232 {0}. \n",
      "Stats: 3/3=1.0\n",
      "\n",
      "Node: Hc`iHE9hF\n",
      "121321 {0}. 214111 {0}. \n",
      "213112 {0}. 313111 {0}. \n",
      "121321 {0}. 121222 {0}. \n",
      "113122 {0}. 312211 {0}. \n",
      "121231 {0}. \n",
      "Stats: 3/3=1.0\n",
      "\n",
      "Node: Hc`iHE9hI\n",
      "121321 {0}. 214111 {0}. \n",
      "213112 {0}. 313111 {0}. \n",
      "121321 {0}. 121222 {0}. \n",
      "113122 {0}. 312211 {0}. \n",
      "121411 {0}. \n",
      "Stats: 3/3=1.0\n",
      "\n",
      "Node: Hc`iHE9iA\n",
      "121321 {0}. 214111 {0}. \n",
      "213112 {0}. 313111 {0}. \n",
      "121321 {0}. 121222 {0}. \n",
      "113122 {0}. 313111 {0}. \n",
      "121114 {0}. \n",
      "Stats: 0/4=0.0\n",
      "\n",
      "Node: Hc`iHE9iT\n",
      "121321 {0}. 214111 {0}. \n",
      "213112 {0}. 313111 {0}. \n",
      "121321 {0}. 121222 {0}. \n",
      "113122 {0}. 313111 {0}. \n",
      "131221 {4}. \n",
      "Stats: 18/18=1.0\n",
      "[terminal] \n",
      "\n",
      "Node: Hc`iHE9jT\n",
      "121321 {0}. 214111 {0}. \n",
      "213112 {0}. 313111 {0}. \n",
      "121321 {0}. 121222 {0}. \n",
      "113122 {0}. 412111 {0}. \n",
      "131221 {0}. \n",
      "Stats: 4/4=1.0\n",
      "\n"
     ]
    }
   ],
   "source": [
    "for mj in 1:2\n",
    "    nodes = Array{String}(undef, 50)\n",
    "    for i in 1:length(nodes)\n",
    "        node = node0\n",
    "        for j in 1:mj\n",
    "            if haskey(tree, node)\n",
    "                node = sample_next_node2(payoffs, tree, node, 10.0)\n",
    "            end\n",
    "        end\n",
    "        nodes[i] = node\n",
    "    end\n",
    "    nodes = sort(unique(nodes))\n",
    "    for node in nodes\n",
    "        display_node(payoffs, tree, node)\n",
    "        println()\n",
    "    end\n",
    "end"
   ]
  },
  {
   "cell_type": "markdown",
   "id": "bf6b5dde",
   "metadata": {},
   "source": [
    "## Play vs MCTS\n",
    "### CPU first"
   ]
  },
  {
   "cell_type": "code",
   "execution_count": 82,
   "id": "ebd73335",
   "metadata": {},
   "outputs": [
    {
     "name": "stdout",
     "output_type": "stream",
     "text": [
      "Node: \n",
      "Stats: 0/0=NaN\n"
     ]
    }
   ],
   "source": [
    "n_mc = 100000\n",
    "beta = 20.0\n",
    "game = \"\"\n",
    "tree = create_tree(game)\n",
    "display_node(payoffs, create_tree(game), game)"
   ]
  },
  {
   "cell_type": "code",
   "execution_count": 84,
   "id": "1a08fafa",
   "metadata": {},
   "outputs": [
    {
     "name": "stdout",
     "output_type": "stream",
     "text": [
      " 20.490611 seconds (558.40 M allocations: 42.530 GiB, 26.56% gc time)\n",
      "Node: @\n",
      "114211 {0}. \n",
      "Stats: 0/0=NaN\n"
     ]
    }
   ],
   "source": [
    "# MCTS turn\n",
    "tree = create_tree(game)\n",
    "@time tree = grow_tree(payoffs, tree, node=game, iters=n_mc)\n",
    "game = sample_next_node2(payoffs, tree, game, beta)\n",
    "display_node(payoffs, create_tree(game), game)"
   ]
  },
  {
   "cell_type": "code",
   "execution_count": 85,
   "id": "8aa0c5b0",
   "metadata": {},
   "outputs": [
    {
     "name": "stdout",
     "output_type": "stream",
     "text": [
      "Node: @i\n",
      "114211 {0}. 313111 {0}. \n",
      "Stats: 0/0=NaN\n"
     ]
    }
   ],
   "source": [
    "# player turn\n",
    "pmove = int2ind[313111]\n",
    "game = append_move_to_leaf(game, pmove)\n",
    "display_node(payoffs, create_tree(game), game)"
   ]
  },
  {
   "cell_type": "code",
   "execution_count": null,
   "id": "bec63895",
   "metadata": {},
   "outputs": [],
   "source": []
  },
  {
   "cell_type": "code",
   "execution_count": 87,
   "id": "6531c8c8",
   "metadata": {},
   "outputs": [
    {
     "name": "stdout",
     "output_type": "stream",
     "text": [
      "Node: @i\n",
      "114211 {0}. 313111 {0}. \n",
      "Stats: 0/0=NaN\n"
     ]
    }
   ],
   "source": [
    "node = game[1:2]\n",
    "display_node(payoffs, create_tree(node), node)"
   ]
  },
  {
   "cell_type": "code",
   "execution_count": 88,
   "id": "952122ff",
   "metadata": {},
   "outputs": [
    {
     "name": "stdout",
     "output_type": "stream",
     "text": [
      " 19.393523 seconds (441.44 M allocations: 34.339 GiB, 26.73% gc time)\n"
     ]
    },
    {
     "data": {
      "text/plain": [
       "Dict{String, Vector{Int64}} with 177624 entries:\n",
       "  \"@i/M@H\"    => [0, 1, 0]\n",
       "  \"@i/%`<\"    => [0, 1, 0]\n",
       "  \"@i*=S^\"    => [0, 1, 0]\n",
       "  \"@i*,RK\"    => [1, 1, 0]\n",
       "  \"@ihNaR\"    => [0, 1, 0]\n",
       "  \"@i/*]\"     => [0, 1, 0]\n",
       "  \"@i55]\"     => [1, 1, 0]\n",
       "  \"@i)(eG\"    => [0, 1, 0]\n",
       "  \"@i*SJ\"     => [0, 1, 0]\n",
       "  \"@i\\\"'>\"    => [0, 1, 0]\n",
       "  \"@iIJ/\"     => [0, 1, 0]\n",
       "  \"@i\\\\%fh\"   => [1, 1, 0]\n",
       "  \"@i\\\"@^\"    => [1, 1, 0]\n",
       "  \"@i*RF\"     => [0, 1, 0]\n",
       "  \"@i*?Zi\"    => [0, 1, 0]\n",
       "  \"@i0D<\"     => [0, 2, 0]\n",
       "  \"@i+(a\"     => [1, 1, 0]\n",
       "  \"@i[E;DT<(\" => [0, 1, 0]\n",
       "  \"@i\\\"O`[\"   => [1, 1, 0]\n",
       "  \"@i)FAY\"    => [1, 1, 0]\n",
       "  \"@ii*VU\"    => [1, 1, 0]\n",
       "  \"@ifS<@3\"   => [0, 1, 0]\n",
       "  \"@ii6]\\$\"   => [1, 1, 0]\n",
       "  \"@i8aTM\"    => [0, 1, 0]\n",
       "  \"@ijG?!\"    => [0, 1, 0]\n",
       "  ⋮           => ⋮"
      ]
     },
     "execution_count": 88,
     "metadata": {},
     "output_type": "execute_result"
    }
   ],
   "source": [
    "tree = create_tree(node)\n",
    "@time tree = grow_tree(payoffs, tree, node=node, iters=n_mc)"
   ]
  },
  {
   "cell_type": "markdown",
   "id": "0703c8f0",
   "metadata": {},
   "source": [
    "### MCTS vs self"
   ]
  },
  {
   "cell_type": "code",
   "execution_count": 356,
   "id": "139ec8bb",
   "metadata": {},
   "outputs": [
    {
     "name": "stdout",
     "output_type": "stream",
     "text": [
      "Node: \n",
      "Stats: 0/0=NaN\n"
     ]
    }
   ],
   "source": [
    "n_mc = 100000\n",
    "beta = 20.0\n",
    "game = \"\"\n",
    "tree = create_tree(game)\n",
    "display_node(payoffs, tree, game)"
   ]
  },
  {
   "cell_type": "code",
   "execution_count": 357,
   "id": "357712df",
   "metadata": {},
   "outputs": [
    {
     "name": "stdout",
     "output_type": "stream",
     "text": [
      " 56.583590 seconds (558.71 M allocations: 42.540 GiB, 34.94% gc time)\n",
      "Node: `\n",
      "213112 {0}. \n",
      "Stats: 813/1705=0.476\n"
     ]
    }
   ],
   "source": [
    "# MCTS turn\n",
    "tree = create_tree(game)\n",
    "@time tree = grow_tree(payoffs, tree, game, n_mc)\n",
    "game = sample_next_node2(payoffs, tree, game, beta)\n",
    "display_node(payoffs, tree, game)"
   ]
  },
  {
   "cell_type": "code",
   "execution_count": 358,
   "id": "95c440b9",
   "metadata": {},
   "outputs": [
    {
     "name": "stdout",
     "output_type": "stream",
     "text": [
      " 54.774908 seconds (495.92 M allocations: 38.330 GiB, 37.49% gc time)\n",
      "Node: `i\n",
      "213112 {0}. 313111 {0}. \n",
      "Stats: 4529/11739=0.385\n"
     ]
    }
   ],
   "source": [
    "# MCTS turn\n",
    "tree = create_tree(game)\n",
    "@time tree = grow_tree(payoffs, tree, game, n_mc)\n",
    "game = sample_next_node2(payoffs, tree, game, beta)\n",
    "display_node(payoffs, tree, game)"
   ]
  },
  {
   "cell_type": "code",
   "execution_count": 359,
   "id": "2ec4b5a6",
   "metadata": {},
   "outputs": [
    {
     "name": "stdout",
     "output_type": "stream",
     "text": [
      " 58.743900 seconds (510.55 M allocations: 40.618 GiB, 36.95% gc time)\n",
      "Node: `ih\n",
      "213112 {0}. 313111 {0}. \n",
      "312211 {0}. \n",
      "Stats: 241/677=0.355\n"
     ]
    }
   ],
   "source": [
    "# MCTS turn\n",
    "tree = create_tree(game)\n",
    "@time tree = grow_tree(payoffs, tree, game, n_mc)\n",
    "game = sample_next_node2(payoffs, tree, game, beta)\n",
    "display_node(payoffs, tree, game)"
   ]
  },
  {
   "cell_type": "code",
   "execution_count": 360,
   "id": "3966919a",
   "metadata": {},
   "outputs": [
    {
     "name": "stdout",
     "output_type": "stream",
     "text": [
      " 26.903677 seconds (234.21 M allocations: 18.199 GiB, 36.70% gc time)\n",
      "Node: `ihU\n",
      "213112 {0}. 313111 {0}. \n",
      "312211 {0}. 131311 {2}. \n",
      "Stats: 3833/142574=0.026\n"
     ]
    }
   ],
   "source": [
    "# MCTS turn\n",
    "tree = create_tree(game)\n",
    "@time tree = grow_tree(payoffs, tree, game, n_mc)\n",
    "game = sample_next_node2(payoffs, tree, game, beta)\n",
    "display_node(payoffs, tree, game)"
   ]
  },
  {
   "cell_type": "code",
   "execution_count": 361,
   "id": "53332515",
   "metadata": {},
   "outputs": [
    {
     "name": "stdout",
     "output_type": "stream",
     "text": [
      " 14.737715 seconds (129.20 M allocations: 10.370 GiB, 34.92% gc time)\n",
      "Node: `ihUX\n",
      "213112 {0}. 313111 {0}. \n",
      "312211 {0}. 131311 {2}. \n",
      "141112 {2}. \n",
      "Stats: 1800/63040=0.028\n"
     ]
    }
   ],
   "source": [
    "# MCTS turn\n",
    "tree = create_tree(game)\n",
    "@time tree = grow_tree(payoffs, tree, game, n_mc)\n",
    "game = sample_next_node2(payoffs, tree, game, beta)\n",
    "display_node(payoffs, tree, game)"
   ]
  },
  {
   "cell_type": "code",
   "execution_count": 362,
   "id": "1a8e34f6",
   "metadata": {},
   "outputs": [
    {
     "name": "stdout",
     "output_type": "stream",
     "text": [
      " 13.172859 seconds (111.80 M allocations: 8.985 GiB, 35.84% gc time)\n",
      "Node: `ihUX<\n",
      "213112 {0}. 313111 {0}. \n",
      "312211 {0}. 131311 {2}. \n",
      "141112 {2}. 113221 {3}. \n",
      "Stats: 188/4048=0.046\n"
     ]
    }
   ],
   "source": [
    "# MCTS turn\n",
    "tree = create_tree(game)\n",
    "@time tree = grow_tree(payoffs, tree, game, n_mc)\n",
    "game = sample_next_node2(payoffs, tree, game, beta)\n",
    "display_node(payoffs, tree, game)"
   ]
  },
  {
   "cell_type": "code",
   "execution_count": 363,
   "id": "68c4e45d",
   "metadata": {},
   "outputs": [
    {
     "name": "stdout",
     "output_type": "stream",
     "text": [
      " 14.017991 seconds (121.78 M allocations: 10.367 GiB, 32.63% gc time)\n",
      "Node: `ihUX<R\n",
      "213112 {0}. 313111 {0}. \n",
      "312211 {0}. 131311 {2}. \n",
      "141112 {2}. 113221 {3}. \n",
      "131122 {3}. \n",
      "Stats: 1349/103227=0.013\n"
     ]
    }
   ],
   "source": [
    "# MCTS turn\n",
    "tree = create_tree(game)\n",
    "@time tree = grow_tree(payoffs, tree, game, n_mc)\n",
    "game = sample_next_node2(payoffs, tree, game, beta)\n",
    "display_node(payoffs, tree, game)"
   ]
  },
  {
   "cell_type": "code",
   "execution_count": 364,
   "id": "ef6b50c5",
   "metadata": {},
   "outputs": [
    {
     "name": "stdout",
     "output_type": "stream",
     "text": [
      " 13.121446 seconds (111.25 M allocations: 9.680 GiB, 33.92% gc time)\n",
      "Node: `ihUX<Rd\n",
      "213112 {0}. 313111 {0}. \n",
      "312211 {0}. 131311 {2}. \n",
      "141112 {2}. 113221 {3}. \n",
      "131122 {3}. 222112 {3}. \n",
      "Stats: 150/2233=0.067\n"
     ]
    }
   ],
   "source": [
    "# MCTS turn\n",
    "tree = create_tree(game)\n",
    "@time tree = grow_tree(payoffs, tree, game, n_mc)\n",
    "game = sample_next_node2(payoffs, tree, game, beta)\n",
    "display_node(payoffs, tree, game)"
   ]
  },
  {
   "cell_type": "code",
   "execution_count": 365,
   "id": "8257f719",
   "metadata": {},
   "outputs": [
    {
     "name": "stdout",
     "output_type": "stream",
     "text": [
      " 16.123942 seconds (132.70 M allocations: 12.364 GiB, 32.35% gc time)\n",
      "Node: `ihUX<Rd\\\n",
      "213112 {0}. 313111 {0}. \n",
      "312211 {0}. 131311 {2}. \n",
      "141112 {2}. 113221 {3}. \n",
      "131122 {3}. 222112 {3}. \n",
      "212131 {3}. \n",
      "Stats: 294/27586=0.010\n"
     ]
    }
   ],
   "source": [
    "# MCTS turn\n",
    "tree = create_tree(game)\n",
    "@time tree = grow_tree(payoffs, tree, game, n_mc)\n",
    "game = sample_next_node2(payoffs, tree, game, beta)\n",
    "display_node(payoffs, tree, game)"
   ]
  },
  {
   "cell_type": "code",
   "execution_count": 367,
   "id": "81c22042",
   "metadata": {},
   "outputs": [
    {
     "name": "stdout",
     "output_type": "stream",
     "text": [
      " 10.299981 seconds (86.84 M allocations: 7.930 GiB, 34.29% gc time)\n",
      "Node: `ihUX<Rd\\>\n",
      "213112 {0}. 313111 {0}. \n",
      "312211 {0}. 131311 {2}. \n",
      "141112 {2}. 113221 {3}. \n",
      "131122 {3}. 222112 {3}. \n",
      "212131 {3}. 114112 {5}. \n",
      "Stats: 0/12978=0.0\n",
      "[terminal] \n"
     ]
    }
   ],
   "source": [
    "# MCTS turn\n",
    "tree = create_tree(game)\n",
    "@time tree = grow_tree(payoffs, tree, game, n_mc)\n",
    "game = sample_next_node2(payoffs, tree, game, beta)\n",
    "display_node(payoffs, tree, game)"
   ]
  },
  {
   "cell_type": "code",
   "execution_count": 366,
   "id": "28a3acec",
   "metadata": {},
   "outputs": [
    {
     "name": "stdout",
     "output_type": "stream",
     "text": [
      "Node: <Bi;HR\"`\n",
      "113221 {0}. 121123 {1}. \n",
      "313111 {1}. 113212 {1}. \n",
      "121321 {2}. 131122 {3}. \n",
      "111133 {3}. 213112 {3}. \n",
      "Stats: 0/0=NaN\n"
     ]
    }
   ],
   "source": [
    "node = \"<Bi;HR\\\"`\"\n",
    "display_node(payoffs, create_tree(node), node)"
   ]
  },
  {
   "cell_type": "code",
   "execution_count": 355,
   "id": "865bb612",
   "metadata": {},
   "outputs": [
    {
     "name": "stdout",
     "output_type": "stream",
     "text": [
      "  5.259248 seconds (51.59 M allocations: 4.324 GiB, 32.27% gc time)\n",
      "Node: <Bi;HR\"`\n",
      "113221 {0}. 121123 {1}. \n",
      "313111 {1}. 113212 {1}. \n",
      "121321 {2}. 131122 {3}. \n",
      "111133 {3}. 213112 {3}. \n",
      "Stats: 199854/199905=0.999\n",
      "\n",
      "Node: <Bi;HR\"`D\n",
      "113221 {0}. 121123 {1}. \n",
      "313111 {1}. 113212 {1}. \n",
      "121321 {2}. 131122 {3}. \n",
      "111133 {3}. 213112 {3}. \n",
      "121213 {4}. \n",
      "Stats: 99894/99894=1.0\n",
      "[terminal] \n",
      "\n",
      "Node: <Bi;HR\"`G\n",
      "113221 {0}. 121123 {1}. \n",
      "313111 {1}. 113212 {1}. \n",
      "121321 {2}. 131122 {3}. \n",
      "111133 {3}. 213112 {3}. \n",
      "121312 {3}. \n",
      "Stats: 64/115=0.556\n",
      "\n",
      "Node: <Bi;HR\"`J\n",
      "113221 {0}. 121123 {1}. \n",
      "313111 {1}. 113212 {1}. \n",
      "121321 {2}. 131122 {3}. \n",
      "111133 {3}. 213112 {3}. \n",
      "122113 {4}. \n",
      "Stats: 99896/99896=1.0\n",
      "[terminal] \n"
     ]
    }
   ],
   "source": [
    "tree = create_tree(node)\n",
    "@time tree = grow_tree(payoffs, tree, node, n_mc)\n",
    "display_choices(payoffs, tree, node)"
   ]
  },
  {
   "cell_type": "code",
   "execution_count": 341,
   "id": "29de3289",
   "metadata": {
    "scrolled": true
   },
   "outputs": [
    {
     "name": "stdout",
     "output_type": "stream",
     "text": [
      "Node: b`HG>ii\n",
      "213211 {0}. 213112 {0}. \n",
      "121321 {0}. 121312 {0}. \n",
      "114112 {0}. 313111 {0}. \n",
      "313111 {0}. \n",
      "Stats: 5294/13927=0.380\n",
      "\n",
      "Node: b`HG>ii!\n",
      "213211 {0}. 213112 {0}. \n",
      "121321 {0}. 121312 {0}. \n",
      "114112 {0}. 313111 {0}. \n",
      "313111 {0}. 111124 {0}. \n",
      "Stats: 54/93=0.580\n",
      "\n",
      "Node: b`HG>ii\"\n",
      "213211 {0}. 213112 {0}. \n",
      "121321 {0}. 121312 {0}. \n",
      "114112 {0}. 313111 {0}. \n",
      "313111 {0}. 111133 {0}. \n",
      "Stats: 116/308=0.376\n",
      "\n",
      "Node: b`HG>ii#\n",
      "213211 {0}. 213112 {0}. \n",
      "121321 {0}. 121312 {0}. \n",
      "114112 {0}. 313111 {0}. \n",
      "313111 {0}. 111142 {0}. \n",
      "Stats: 71/145=0.489\n",
      "\n",
      "Node: b`HG>ii$\n",
      "213211 {0}. 213112 {0}. \n",
      "121321 {0}. 121312 {0}. \n",
      "114112 {0}. 313111 {0}. \n",
      "313111 {0}. 111214 {0}. \n",
      "Stats: 46/72=0.638\n",
      "\n",
      "Node: b`HG>ii%\n",
      "213211 {0}. 213112 {0}. \n",
      "121321 {0}. 121312 {0}. \n",
      "114112 {0}. 313111 {0}. \n",
      "313111 {0}. 111223 {0}. \n",
      "Stats: 58/104=0.557\n",
      "\n",
      "Node: b`HG>ii&\n",
      "213211 {0}. 213112 {0}. \n",
      "121321 {0}. 121312 {0}. \n",
      "114112 {0}. 313111 {0}. \n",
      "313111 {0}. 111232 {0}. \n",
      "Stats: 90/209=0.430\n",
      "\n",
      "Node: b`HG>ii'\n",
      "213211 {0}. 213112 {0}. \n",
      "121321 {0}. 121312 {0}. \n",
      "114112 {0}. 313111 {0}. \n",
      "313111 {0}. 111241 {0}. \n",
      "Stats: 47/75=0.626\n",
      "\n",
      "Node: b`HG>ii(\n",
      "213211 {0}. 213112 {0}. \n",
      "121321 {0}. 121312 {0}. \n",
      "114112 {0}. 313111 {0}. \n",
      "313111 {0}. 111313 {0}. \n",
      "Stats: 52/88=0.590\n",
      "\n",
      "Node: b`HG>ii)\n",
      "213211 {0}. 213112 {0}. \n",
      "121321 {0}. 121312 {0}. \n",
      "114112 {0}. 313111 {0}. \n",
      "313111 {0}. 111322 {0}. \n",
      "Stats: 72/149=0.483\n",
      "\n",
      "Node: b`HG>ii*\n",
      "213211 {0}. 213112 {0}. \n",
      "121321 {0}. 121312 {0}. \n",
      "114112 {0}. 313111 {0}. \n",
      "313111 {0}. 111331 {0}. \n",
      "Stats: 71/145=0.489\n",
      "\n",
      "Node: b`HG>ii+\n",
      "213211 {0}. 213112 {0}. \n",
      "121321 {0}. 121312 {0}. \n",
      "114112 {0}. 313111 {0}. \n",
      "313111 {0}. 111412 {0}. \n",
      "Stats: 67/131=0.511\n",
      "\n",
      "Node: b`HG>ii,\n",
      "213211 {0}. 213112 {0}. \n",
      "121321 {0}. 121312 {0}. \n",
      "114112 {0}. 313111 {0}. \n",
      "313111 {0}. 111421 {0}. \n",
      "Stats: 59/107=0.551\n",
      "\n",
      "Node: b`HG>ii-\n",
      "213211 {0}. 213112 {0}. \n",
      "121321 {0}. 121312 {0}. \n",
      "114112 {0}. 313111 {0}. \n",
      "313111 {0}. 111511 {0}. \n",
      "Stats: 48/77=0.623\n",
      "\n",
      "Node: b`HG>ii.\n",
      "213211 {0}. 213112 {0}. \n",
      "121321 {0}. 121312 {0}. \n",
      "114112 {0}. 313111 {0}. \n",
      "313111 {0}. 112114 {0}. \n",
      "Stats: 42/61=0.688\n",
      "\n",
      "Node: b`HG>ii/\n",
      "213211 {0}. 213112 {0}. \n",
      "121321 {0}. 121312 {0}. \n",
      "114112 {0}. 313111 {0}. \n",
      "313111 {0}. 112123 {0}. \n",
      "Stats: 69/138=0.5\n",
      "\n",
      "Node: b`HG>ii0\n",
      "213211 {0}. 213112 {0}. \n",
      "121321 {0}. 121312 {0}. \n",
      "114112 {0}. 313111 {0}. \n",
      "313111 {0}. 112132 {0}. \n",
      "Stats: 69/138=0.5\n",
      "\n",
      "Node: b`HG>ii1\n",
      "213211 {0}. 213112 {0}. \n",
      "121321 {0}. 121312 {0}. \n",
      "114112 {0}. 313111 {0}. \n",
      "313111 {0}. 112141 {0}. \n",
      "Stats: 39/54=0.722\n",
      "\n",
      "Node: b`HG>ii2\n",
      "213211 {0}. 213112 {0}. \n",
      "121321 {0}. 121312 {0}. \n",
      "114112 {0}. 313111 {0}. \n",
      "313111 {0}. 112213 {0}. \n",
      "Stats: 55/96=0.572\n",
      "\n",
      "Node: b`HG>ii3\n",
      "213211 {0}. 213112 {0}. \n",
      "121321 {0}. 121312 {0}. \n",
      "114112 {0}. 313111 {0}. \n",
      "313111 {0}. 112222 {0}. \n",
      "Stats: 68/136=0.5\n",
      "\n",
      "Node: b`HG>ii4\n",
      "213211 {0}. 213112 {0}. \n",
      "121321 {0}. 121312 {0}. \n",
      "114112 {0}. 313111 {0}. \n",
      "313111 {0}. 112231 {0}. \n",
      "Stats: 46/72=0.638\n",
      "\n",
      "Node: b`HG>ii5\n",
      "213211 {0}. 213112 {0}. \n",
      "121321 {0}. 121312 {0}. \n",
      "114112 {0}. 313111 {0}. \n",
      "313111 {0}. 112312 {0}. \n",
      "Stats: 63/120=0.525\n",
      "\n",
      "Node: b`HG>ii6\n",
      "213211 {0}. 213112 {0}. \n",
      "121321 {0}. 121312 {0}. \n",
      "114112 {0}. 313111 {0}. \n",
      "313111 {0}. 112321 {0}. \n",
      "Stats: 53/91=0.582\n",
      "\n",
      "Node: b`HG>ii7\n",
      "213211 {0}. 213112 {0}. \n",
      "121321 {0}. 121312 {0}. \n",
      "114112 {0}. 313111 {0}. \n",
      "313111 {0}. 112411 {0}. \n",
      "Stats: 36/47=0.765\n",
      "\n",
      "Node: b`HG>ii8\n",
      "213211 {0}. 213112 {0}. \n",
      "121321 {0}. 121312 {0}. \n",
      "114112 {0}. 313111 {0}. \n",
      "313111 {0}. 113113 {1}. \n",
      "Stats: 35/45=0.777\n",
      "\n",
      "Node: b`HG>ii9\n",
      "213211 {0}. 213112 {0}. \n",
      "121321 {0}. 121312 {0}. \n",
      "114112 {0}. 313111 {0}. \n",
      "313111 {0}. 113122 {1}. \n",
      "Stats: 80/174=0.459\n",
      "\n",
      "Node: b`HG>ii:\n",
      "213211 {0}. 213112 {0}. \n",
      "121321 {0}. 121312 {0}. \n",
      "114112 {0}. 313111 {0}. \n",
      "313111 {0}. 113131 {1}. \n",
      "Stats: 49/78=0.628\n",
      "\n",
      "Node: b`HG>ii;\n",
      "213211 {0}. 213112 {0}. \n",
      "121321 {0}. 121312 {0}. \n",
      "114112 {0}. 313111 {0}. \n",
      "313111 {0}. 113212 {2}. \n",
      "Stats: 34/43=0.790\n",
      "\n",
      "Node: b`HG>ii<\n",
      "213211 {0}. 213112 {0}. \n",
      "121321 {0}. 121312 {0}. \n",
      "114112 {0}. 313111 {0}. \n",
      "313111 {0}. 113221 {1}. \n",
      "Stats: 36/48=0.75\n",
      "\n",
      "Node: b`HG>ii=\n",
      "213211 {0}. 213112 {0}. \n",
      "121321 {0}. 121312 {0}. \n",
      "114112 {0}. 313111 {0}. \n",
      "313111 {0}. 113311 {1}. \n",
      "Stats: 76/162=0.469\n",
      "\n",
      "Node: b`HG>ii>\n",
      "213211 {0}. 213112 {0}. \n",
      "121321 {0}. 121312 {0}. \n",
      "114112 {0}. 313111 {0}. \n",
      "313111 {0}. 114112 {1}. \n",
      "Stats: 44/67=0.656\n",
      "\n",
      "Node: b`HG>ii?\n",
      "213211 {0}. 213112 {0}. \n",
      "121321 {0}. 121312 {0}. \n",
      "114112 {0}. 313111 {0}. \n",
      "313111 {0}. 114121 {2}. \n",
      "Stats: 44/65=0.676\n",
      "\n",
      "Node: b`HG>ii@\n",
      "213211 {0}. 213112 {0}. \n",
      "121321 {0}. 121312 {0}. \n",
      "114112 {0}. 313111 {0}. \n",
      "313111 {0}. 114211 {2}. \n",
      "Stats: 29/33=0.878\n",
      "\n",
      "Node: b`HG>iiA\n",
      "213211 {0}. 213112 {0}. \n",
      "121321 {0}. 121312 {0}. \n",
      "114112 {0}. 313111 {0}. \n",
      "313111 {0}. 121114 {0}. \n",
      "Stats: 44/66=0.666\n",
      "\n",
      "Node: b`HG>iiB\n",
      "213211 {0}. 213112 {0}. \n",
      "121321 {0}. 121312 {0}. \n",
      "114112 {0}. 313111 {0}. \n",
      "313111 {0}. 121123 {0}. \n",
      "Stats: 258/949=0.271\n",
      "\n",
      "Node: b`HG>iiC\n",
      "213211 {0}. 213112 {0}. \n",
      "121321 {0}. 121312 {0}. \n",
      "114112 {0}. 313111 {0}. \n",
      "313111 {0}. 121132 {0}. \n",
      "Stats: 73/152=0.480\n",
      "\n",
      "Node: b`HG>iiD\n",
      "213211 {0}. 213112 {0}. \n",
      "121321 {0}. 121312 {0}. \n",
      "114112 {0}. 313111 {0}. \n",
      "313111 {0}. 121213 {0}. \n",
      "Stats: 65/125=0.52\n",
      "\n",
      "Node: b`HG>iiE\n",
      "213211 {0}. 213112 {0}. \n",
      "121321 {0}. 121312 {0}. \n",
      "114112 {0}. 313111 {0}. \n",
      "313111 {0}. 121222 {0}. \n",
      "Stats: 205/694=0.295\n",
      "\n",
      "Node: b`HG>iiF\n",
      "213211 {0}. 213112 {0}. \n",
      "121321 {0}. 121312 {0}. \n",
      "114112 {0}. 313111 {0}. \n",
      "313111 {0}. 121231 {0}. \n",
      "Stats: 59/107=0.551\n",
      "\n",
      "Node: b`HG>iiG\n",
      "213211 {0}. 213112 {0}. \n",
      "121321 {0}. 121312 {0}. \n",
      "114112 {0}. 313111 {0}. \n",
      "313111 {0}. 121312 {0}. \n",
      "Stats: 70/141=0.496\n",
      "\n",
      "Node: b`HG>iiH\n",
      "213211 {0}. 213112 {0}. \n",
      "121321 {0}. 121312 {0}. \n",
      "114112 {0}. 313111 {0}. \n",
      "313111 {0}. 121321 {0}. \n",
      "Stats: 246/892=0.275\n",
      "\n",
      "Node: b`HG>iiI\n",
      "213211 {0}. 213112 {0}. \n",
      "121321 {0}. 121312 {0}. \n",
      "114112 {0}. 313111 {0}. \n",
      "313111 {0}. 121411 {0}. \n",
      "Stats: 66/129=0.511\n",
      "\n",
      "Node: b`HG>iiJ\n",
      "213211 {0}. 213112 {0}. \n",
      "121321 {0}. 121312 {0}. \n",
      "114112 {0}. 313111 {0}. \n",
      "313111 {0}. 122113 {0}. \n",
      "Stats: 35/45=0.777\n",
      "\n",
      "Node: b`HG>iiK\n",
      "213211 {0}. 213112 {0}. \n",
      "121321 {0}. 121312 {0}. \n",
      "114112 {0}. 313111 {0}. \n",
      "313111 {0}. 122122 {0}. \n",
      "Stats: 94/225=0.417\n",
      "\n",
      "Node: b`HG>iiL\n",
      "213211 {0}. 213112 {0}. \n",
      "121321 {0}. 121312 {0}. \n",
      "114112 {0}. 313111 {0}. \n",
      "313111 {0}. 122212 {0}. \n",
      "Stats: 77/165=0.466\n",
      "\n",
      "Node: b`HG>iiM\n",
      "213211 {0}. 213112 {0}. \n",
      "121321 {0}. 121312 {0}. \n",
      "114112 {0}. 313111 {0}. \n",
      "313111 {0}. 122221 {0}. \n",
      "Stats: 53/91=0.582\n",
      "\n",
      "Node: b`HG>iiN\n",
      "213211 {0}. 213112 {0}. \n",
      "121321 {0}. 121312 {0}. \n",
      "114112 {0}. 313111 {0}. \n",
      "313111 {0}. 122311 {0}. \n",
      "Stats: 67/133=0.503\n",
      "\n",
      "Node: b`HG>iiO\n",
      "213211 {0}. 213112 {0}. \n",
      "121321 {0}. 121312 {0}. \n",
      "114112 {0}. 313111 {0}. \n",
      "313111 {0}. 123112 {1}. \n",
      "Stats: 40/57=0.701\n",
      "\n",
      "Node: b`HG>iiP\n",
      "213211 {0}. 213112 {0}. \n",
      "121321 {0}. 121312 {0}. \n",
      "114112 {0}. 313111 {0}. \n",
      "313111 {0}. 123211 {2}. \n",
      "Stats: 27/29=0.931\n",
      "\n",
      "Node: b`HG>iiQ\n",
      "213211 {0}. 213112 {0}. \n",
      "121321 {0}. 121312 {0}. \n",
      "114112 {0}. 313111 {0}. \n",
      "313111 {0}. 131113 {2}. \n",
      "Stats: 37/50=0.74\n",
      "\n",
      "Node: b`HG>iiR\n",
      "213211 {0}. 213112 {0}. \n",
      "121321 {0}. 121312 {0}. \n",
      "114112 {0}. 313111 {0}. \n",
      "313111 {0}. 131122 {1}. \n",
      "Stats: 109/280=0.389\n",
      "\n",
      "Node: b`HG>iiS\n",
      "213211 {0}. 213112 {0}. \n",
      "121321 {0}. 121312 {0}. \n",
      "114112 {0}. 313111 {0}. \n",
      "313111 {0}. 131212 {2}. \n",
      "Stats: 38/52=0.730\n",
      "\n",
      "Node: b`HG>iiT\n",
      "213211 {0}. 213112 {0}. \n",
      "121321 {0}. 121312 {0}. \n",
      "114112 {0}. 313111 {0}. \n",
      "313111 {0}. 131221 {2}. \n",
      "Stats: 40/56=0.714\n",
      "\n",
      "Node: b`HG>iiU\n",
      "213211 {0}. 213112 {0}. \n",
      "121321 {0}. 121312 {0}. \n",
      "114112 {0}. 313111 {0}. \n",
      "313111 {0}. 131311 {2}. \n",
      "Stats: 755/4428=0.170\n",
      "\n",
      "Node: b`HG>iiV\n",
      "213211 {0}. 213112 {0}. \n",
      "121321 {0}. 121312 {0}. \n",
      "114112 {0}. 313111 {0}. \n",
      "313111 {0}. 132112 {1}. \n",
      "Stats: 41/59=0.694\n",
      "\n",
      "Node: b`HG>iiW\n",
      "213211 {0}. 213112 {0}. \n",
      "121321 {0}. 121312 {0}. \n",
      "114112 {0}. 313111 {0}. \n",
      "313111 {0}. 132211 {2}. \n",
      "Stats: 36/47=0.765\n",
      "\n",
      "Node: b`HG>iiX\n",
      "213211 {0}. 213112 {0}. \n",
      "121321 {0}. 121312 {0}. \n",
      "114112 {0}. 313111 {0}. \n",
      "313111 {0}. 141112 {1}. \n",
      "Stats: 41/59=0.694\n",
      "\n",
      "Node: b`HG>iiY\n",
      "213211 {0}. 213112 {0}. \n",
      "121321 {0}. 121312 {0}. \n",
      "114112 {0}. 313111 {0}. \n",
      "313111 {0}. 141211 {2}. \n",
      "Stats: 30/35=0.857\n",
      "\n",
      "Node: b`HG>iiZ\n",
      "213211 {0}. 213112 {0}. \n",
      "121321 {0}. 121312 {0}. \n",
      "114112 {0}. 313111 {0}. \n",
      "313111 {0}. 212113 {0}. \n",
      "Stats: 53/90=0.588\n",
      "\n",
      "Node: b`HG>ii[\n",
      "213211 {0}. 213112 {0}. \n",
      "121321 {0}. 121312 {0}. \n",
      "114112 {0}. 313111 {0}. \n",
      "313111 {0}. 212122 {0}. \n",
      "Stats: 81/178=0.455\n",
      "\n",
      "Node: b`HG>ii\\\n",
      "213211 {0}. 213112 {0}. \n",
      "121321 {0}. 121312 {0}. \n",
      "114112 {0}. 313111 {0}. \n",
      "313111 {0}. 212131 {0}. \n",
      "Stats: 69/139=0.496\n",
      "\n",
      "Node: b`HG>ii]\n",
      "213211 {0}. 213112 {0}. \n",
      "121321 {0}. 121312 {0}. \n",
      "114112 {0}. 313111 {0}. \n",
      "313111 {0}. 212212 {0}. \n",
      "Stats: 49/80=0.612\n",
      "\n",
      "Node: b`HG>ii^\n",
      "213211 {0}. 213112 {0}. \n",
      "121321 {0}. 121312 {0}. \n",
      "114112 {0}. 313111 {0}. \n",
      "313111 {0}. 212221 {0}. \n",
      "Stats: 53/91=0.582\n",
      "\n",
      "Node: b`HG>ii_\n",
      "213211 {0}. 213112 {0}. \n",
      "121321 {0}. 121312 {0}. \n",
      "114112 {0}. 313111 {0}. \n",
      "313111 {0}. 212311 {0}. \n",
      "Stats: 41/58=0.706\n",
      "\n",
      "Node: b`HG>ii`\n",
      "213211 {0}. 213112 {0}. \n",
      "121321 {0}. 121312 {0}. \n",
      "114112 {0}. 313111 {0}. \n",
      "313111 {0}. 213112 {1}. \n",
      "Stats: 42/62=0.677\n",
      "\n",
      "Node: b`HG>iia\n",
      "213211 {0}. 213112 {0}. \n",
      "121321 {0}. 121312 {0}. \n",
      "114112 {0}. 313111 {0}. \n",
      "313111 {0}. 213121 {1}. \n",
      "Stats: 53/91=0.582\n",
      "\n",
      "Node: b`HG>iib\n",
      "213211 {0}. 213112 {0}. \n",
      "121321 {0}. 121312 {0}. \n",
      "114112 {0}. 313111 {0}. \n",
      "313111 {0}. 213211 {1}. \n",
      "Stats: 33/41=0.804\n",
      "\n",
      "Node: b`HG>iic\n",
      "213211 {0}. 213112 {0}. \n",
      "121321 {0}. 121312 {0}. \n",
      "114112 {0}. 313111 {0}. \n",
      "313111 {0}. 214111 {1}. \n",
      "Stats: 40/56=0.714\n",
      "\n",
      "Node: b`HG>iid\n",
      "213211 {0}. 213112 {0}. \n",
      "121321 {0}. 121312 {0}. \n",
      "114112 {0}. 313111 {0}. \n",
      "313111 {0}. 222112 {0}. \n",
      "Stats: 47/75=0.626\n",
      "\n",
      "Node: b`HG>iie\n",
      "213211 {0}. 213112 {0}. \n",
      "121321 {0}. 121312 {0}. \n",
      "114112 {0}. 313111 {0}. \n",
      "313111 {0}. 222211 {0}. \n",
      "Stats: 39/54=0.722\n",
      "\n",
      "Node: b`HG>iif\n",
      "213211 {0}. 213112 {0}. \n",
      "121321 {0}. 121312 {0}. \n",
      "114112 {0}. 313111 {0}. \n",
      "313111 {0}. 312112 {0}. \n",
      "Stats: 54/94=0.574\n",
      "\n",
      "Node: b`HG>iig\n",
      "213211 {0}. 213112 {0}. \n",
      "121321 {0}. 121312 {0}. \n",
      "114112 {0}. 313111 {0}. \n",
      "313111 {0}. 312121 {0}. \n",
      "Stats: 65/125=0.52\n",
      "\n",
      "Node: b`HG>iih\n",
      "213211 {0}. 213112 {0}. \n",
      "121321 {0}. 121312 {0}. \n",
      "114112 {0}. 313111 {0}. \n",
      "313111 {0}. 312211 {0}. \n",
      "Stats: 51/85=0.6\n",
      "\n",
      "Node: b`HG>iii\n",
      "213211 {0}. 213112 {0}. \n",
      "121321 {0}. 121312 {0}. \n",
      "114112 {0}. 313111 {0}. \n",
      "313111 {0}. 313111 {0}. \n",
      "Stats: 36/48=0.75\n",
      "\n",
      "Node: b`HG>iij\n",
      "213211 {0}. 213112 {0}. \n",
      "121321 {0}. 121312 {0}. \n",
      "114112 {0}. 313111 {0}. \n",
      "313111 {0}. 412111 {0}. \n",
      "Stats: 64/123=0.520\n"
     ]
    }
   ],
   "source": [
    "display_choices(payoffs, tree, \"b`HG>ii\")"
   ]
  },
  {
   "cell_type": "markdown",
   "id": "a4d8d637",
   "metadata": {},
   "source": [
    "## Mate in X analysis"
   ]
  },
  {
   "cell_type": "code",
   "execution_count": 211,
   "id": "cc0b86b2",
   "metadata": {},
   "outputs": [
    {
     "data": {
      "text/plain": [
       "mate_checker (generic function with 1 method)"
      ]
     },
     "execution_count": 211,
     "metadata": {},
     "output_type": "execute_result"
    }
   ],
   "source": [
    "function mate_checker(\n",
    "        payoffs::Array{Int64},  \n",
    "        node00::String;\n",
    "        nits_tree::Int64 = 3,\n",
    "        nits_cands::Int64 = 1000,\n",
    "        verbose::Bool = true\n",
    "        )::Tuple{Float64, Int64}\n",
    "    tree = create_tree(node00)\n",
    "    for i in 1:nits_tree\n",
    "        tree = expand_game_tree(payoffs, tree)\n",
    "    end\n",
    "    # Check mate-in-X property\n",
    "    lens = [length(k) for k in keys(tree)]\n",
    "    minlen = minimum(lens)\n",
    "    maxlen = maximum(lens)\n",
    "    game_values = Dict(node00 => 0.0)\n",
    "    for len in maxlen:-1:minlen\n",
    "        wvalue = -1.0 # if len is even and node is terminal, then pl 1 loses\n",
    "        if mod(len, 2)==1\n",
    "            wvalue = 1.0\n",
    "        end\n",
    "        for node in [nd for nd in keys(tree) if length(nd)==len]\n",
    "            if tree[node][3]==1\n",
    "                game_values[node]=wvalue\n",
    "            elseif length(node)==maxlen\n",
    "                game_values[node]=0\n",
    "            else\n",
    "                children=get_children(payoffs, node)\n",
    "                vals = [game_values[c] for c in children]\n",
    "                if mod(len, 2)==1\n",
    "                    # player 2 to move: get minimum of children values\n",
    "                    game_values[node] = minimum(vals)\n",
    "                else\n",
    "                    # player 1 to move: get maximum of children values\n",
    "                    game_values[node] = maximum(vals)\n",
    "                end\n",
    "            end\n",
    "        end\n",
    "    end\n",
    "    # check length of best resistance\n",
    "    best_res_length = Dict{String,Int64}()\n",
    "    val = game_values[node00]\n",
    "    if val > 0\n",
    "        resister = 1\n",
    "    else\n",
    "        resister = 0 # player 2\n",
    "    end\n",
    "    for iter in 1:nits_cands\n",
    "        node = node00\n",
    "        val = game_values[node00]\n",
    "        flag = true\n",
    "        while flag\n",
    "            cands = [c for c in keys(game_values) if length(c)==(length(node)+1) && c[1:length(node)]==node && game_values[c]==val]\n",
    "            if length(cands) > 0\n",
    "                node = rand(cands)\n",
    "            else\n",
    "                flag = false\n",
    "            end\n",
    "        end\n",
    "        best_res_length[node] = length(node)-minlen\n",
    "    end\n",
    "    # Range of BRs\n",
    "    lens_br = [length(k) for k in keys(best_res_length)]\n",
    "    minlen_br = minlen\n",
    "    maxlen_br = maximum(lens_br)\n",
    "    for len in maxlen_br:-1:minlen_br\n",
    "        nodes = unique([node[1:len] for node in keys(best_res_length) if length(node) >= len])\n",
    "        for node in nodes\n",
    "            if haskey(best_res_length, node)\n",
    "                # do nothing\n",
    "            else\n",
    "                children = [c for c in keys(best_res_length) if length(c) == (length(node)+1) && c[1:length(node)]==node]\n",
    "                brs = [best_res_length[c] for c in children]\n",
    "                if mod(length(node), 2)==resister\n",
    "                    # current node is resister to play\n",
    "                    best_res_length[node] = maximum(brs)\n",
    "                else\n",
    "                    best_res_length[node] = minimum(brs)                \n",
    "                end\n",
    "            end\n",
    "        end\n",
    "    end\n",
    "    if verbose\n",
    "        node = node00\n",
    "        br = best_res_length[node00]\n",
    "        flag = true\n",
    "        while flag\n",
    "            cands = [nd for nd in keys(best_res_length) if length(nd)==(length(node)+1) && best_res_length[nd]==br && nd[1:length(node)]==node]\n",
    "            if length(cands)==0\n",
    "                flag = false\n",
    "            else\n",
    "                node = rand(cands)\n",
    "            end\n",
    "        end\n",
    "        display_path(payoffs, tree, node)\n",
    "    end\n",
    "    return (game_values[node00], best_res_length[node00])\n",
    "end"
   ]
  },
  {
   "cell_type": "code",
   "execution_count": 212,
   "id": "acce146c",
   "metadata": {},
   "outputs": [
    {
     "data": {
      "text/plain": [
       "expand_game_tree (generic function with 1 method)"
      ]
     },
     "execution_count": 212,
     "metadata": {},
     "output_type": "execute_result"
    }
   ],
   "source": [
    "function expand_game_tree(payoffs::Array{Int64},  tree::Dict{String, Vector{Int64}})::Dict{String, Vector{Int64}}\n",
    "    maxlen = maximum([length(nd) for nd in keys(tree)])\n",
    "    nodes = [nd for nd in keys(tree) if length(nd)==maxlen]\n",
    "    for node in nodes\n",
    "        children = get_children(payoffs, node)\n",
    "        for c in children\n",
    "            tree = try_add_node(tree, c)\n",
    "            tree = check_and_propagate_terminal(payoffs, tree, c)\n",
    "        end\n",
    "    end\n",
    "    return tree\n",
    "end"
   ]
  },
  {
   "cell_type": "code",
   "execution_count": 213,
   "id": "db0223a7",
   "metadata": {},
   "outputs": [
    {
     "name": "stdout",
     "output_type": "stream",
     "text": [
      "Node: %ZU7C`:#\n",
      "111223 {0}. 212113 {1}. \n",
      "131311 {1}. 112411 {1}. \n",
      "121132 {1}. 213112 {1}. \n",
      "113131 {3}. 111142 {3}. \n",
      "Stats: 0/0=NaN\n"
     ]
    }
   ],
   "source": [
    "# a game where P1 lost\n",
    "node0 = \"%ZU7C`:#\"\n",
    "display_node(payoffs, create_tree(node0), node0)"
   ]
  },
  {
   "cell_type": "code",
   "execution_count": 214,
   "id": "49dd5432",
   "metadata": {},
   "outputs": [
    {
     "name": "stdout",
     "output_type": "stream",
     "text": [
      "Node: %ZU7C`:\n",
      "111223 {0}. 212113 {1}. \n",
      "131311 {1}. 112411 {1}. \n",
      "121132 {1}. 213112 {1}. \n",
      "113131 {3}. \n",
      "Stats: 0/0=NaN\n"
     ]
    }
   ],
   "source": [
    "# find where a mate in X occurs\n",
    "node00 = node0[1:7]\n",
    "display_node(payoffs, create_tree(node00), node00)"
   ]
  },
  {
   "cell_type": "code",
   "execution_count": 215,
   "id": "aa6f93c0",
   "metadata": {},
   "outputs": [
    {
     "name": "stdout",
     "output_type": "stream",
     "text": [
      "Node: %ZU7C`:\n",
      "111223 {0}. 212113 {1}. \n",
      "131311 {1}. 112411 {1}. \n",
      "121132 {1}. 213112 {1}. \n",
      "113131 {3}. \n",
      "Stats: 158/201=0.786\n",
      "\n",
      "Node: %ZU7C`:+\n",
      "111223 {0}. 212113 {1}. \n",
      "131311 {1}. 112411 {1}. \n",
      "121132 {1}. 213112 {1}. \n",
      "113131 {3}. 111412 {3}. \n",
      "Stats: 0/12=0.0\n",
      "\n",
      "Node: %ZU7C`:+B\n",
      "111223 {0}. 212113 {1}. \n",
      "131311 {1}. 112411 {1}. \n",
      "121132 {1}. 213112 {1}. \n",
      "113131 {3}. 111412 {3}. \n",
      "121123 {3}. \n",
      "Stats: 0/2=0.0\n",
      "\n",
      "Node: %ZU7C`:+BE\n",
      "111223 {0}. 212113 {1}. \n",
      "131311 {1}. 112411 {1}. \n",
      "121132 {1}. 213112 {1}. \n",
      "113131 {3}. 111412 {3}. \n",
      "121123 {3}. 121222 {5}. \n",
      "Stats: 0/1=0.0\n",
      "[terminal] \n",
      "\n",
      "  0.700353 seconds (7.32 M allocations: 255.038 MiB, 5.07% gc time, 44.94% compilation time)\n"
     ]
    },
    {
     "data": {
      "text/plain": [
       "(-1.0, 3)"
      ]
     },
     "execution_count": 215,
     "metadata": {},
     "output_type": "execute_result"
    }
   ],
   "source": [
    "@time mate_checker(payoffs, node00, nits_tree=4, verbose=true)"
   ]
  },
  {
   "cell_type": "markdown",
   "id": "c53d1d9b",
   "metadata": {},
   "source": [
    "#### debugging code"
   ]
  },
  {
   "cell_type": "code",
   "execution_count": 167,
   "id": "9046bcaf",
   "metadata": {
    "scrolled": true
   },
   "outputs": [
    {
     "name": "stdout",
     "output_type": "stream",
     "text": [
      "Node: %ZU7C`:#\n",
      "111223 {0}. 212113 {1}. \n",
      "131311 {1}. 112411 {1}. \n",
      "121132 {1}. 213112 {1}. \n",
      "113131 {3}. 111142 {3}. \n",
      "Stats: 81/82=0.987\n"
     ]
    }
   ],
   "source": [
    "node00 = \"%ZU7C`:#\"\n",
    "tree = create_tree(node00)\n",
    "for i in 1:3\n",
    "    tree = expand_game_tree(payoffs, tree)\n",
    "end\n",
    "display_node(payoffs, tree, node00)"
   ]
  },
  {
   "cell_type": "code",
   "execution_count": 174,
   "id": "8f6187a8",
   "metadata": {},
   "outputs": [
    {
     "data": {
      "text/plain": [
       "81-element Vector{String}:\n",
       " \"%ZU7C`:#E2c\"\n",
       " \"%ZU7C`:#E&a\"\n",
       " \"%ZU7C`:#;+c\"\n",
       " \"%ZU7C`:#E38\"\n",
       " \"%ZU7C`:#E3c\"\n",
       " \"%ZU7C`:#E&8\"\n",
       " \"%ZU7C`:#L+a\"\n",
       " \"%ZU7C`:#;5c\"\n",
       " \"%ZU7C`:#G+c\"\n",
       " \"%ZU7C`:#aE;\"\n",
       " \"%ZU7C`:#E5a\"\n",
       " \"%ZU7C`:#L)c\"\n",
       " \"%ZU7C`:#;%c\"\n",
       " ⋮\n",
       " \"%ZU7C`:#E;c\"\n",
       " \"%ZU7C`:#G+a\"\n",
       " \"%ZU7C`:#;)a\"\n",
       " \"%ZU7C`:#G5b\"\n",
       " \"%ZU7C`:#G)c\"\n",
       " \"%ZU7C`:#G%a\"\n",
       " \"%ZU7C`:#E+b\"\n",
       " \"%ZU7C`:#E5b\"\n",
       " \"%ZU7C`:#L3c\"\n",
       " \"%ZU7C`:#E58\"\n",
       " \"%ZU7C`:#E]c\"\n",
       " \"%ZU7C`:#G)b\""
      ]
     },
     "execution_count": 174,
     "metadata": {},
     "output_type": "execute_result"
    }
   ],
   "source": [
    "[nd for nd in keys(tree) if tree[nd][3]==1 && length(nd)==11]"
   ]
  },
  {
   "cell_type": "code",
   "execution_count": 175,
   "id": "afa3f5b8",
   "metadata": {},
   "outputs": [
    {
     "name": "stdout",
     "output_type": "stream",
     "text": [
      "Node: %ZU7C`:#\n",
      "111223 {0}. 212113 {1}. \n",
      "131311 {1}. 112411 {1}. \n",
      "121132 {1}. 213112 {1}. \n",
      "113131 {3}. 111142 {3}. \n",
      "Stats: 81/82=0.987\n",
      "\n",
      "Node: %ZU7C`:#G\n",
      "111223 {0}. 212113 {1}. \n",
      "131311 {1}. 112411 {1}. \n",
      "121132 {1}. 213112 {1}. \n",
      "113131 {3}. 111142 {3}. \n",
      "121312 {3}. \n",
      "Stats: 12/12=1.0\n",
      "\n",
      "Node: %ZU7C`:#G5\n",
      "111223 {0}. 212113 {1}. \n",
      "131311 {1}. 112411 {1}. \n",
      "121132 {1}. 213112 {1}. \n",
      "113131 {3}. 111142 {3}. \n",
      "121312 {3}. 112312 {4}. \n",
      "Stats: 3/3=1.0\n",
      "\n",
      "Node: %ZU7C`:#G5b\n",
      "111223 {0}. 212113 {1}. \n",
      "131311 {1}. 112411 {1}. \n",
      "121132 {1}. 213112 {1}. \n",
      "113131 {3}. 111142 {3}. \n",
      "121312 {3}. 112312 {4}. \n",
      "213211 {5}. \n",
      "Stats: 1/1=1.0\n",
      "[terminal] \n",
      "\n"
     ]
    }
   ],
   "source": [
    "display_path(payoffs, tree, \"%ZU7C`:#G5b\")"
   ]
  },
  {
   "cell_type": "code",
   "execution_count": 194,
   "id": "d8d82c4b",
   "metadata": {},
   "outputs": [],
   "source": [
    "# Check mate-in-X property\n",
    "lens = [length(k) for k in keys(tree)]\n",
    "minlen = minimum(lens)\n",
    "maxlen = maximum(lens)\n",
    "game_values = Dict(node00 => 0.0)\n",
    "for len in maxlen:-1:minlen\n",
    "    wvalue = -1.0 # if len is even and node is terminal, then pl 1 loses\n",
    "    if mod(len, 2)==1\n",
    "        wvalue = 1.0\n",
    "    end\n",
    "    for node in [nd for nd in keys(tree) if length(nd)==len]\n",
    "        if tree[node][3]==1\n",
    "            game_values[node]=wvalue\n",
    "        elseif length(node)==maxlen\n",
    "            game_values[node]=0\n",
    "        else\n",
    "            children=get_children(payoffs, node)\n",
    "            vals = [game_values[c] for c in children]\n",
    "            if mod(len, 2)==1\n",
    "                # player 2 to move: get minimum of children values\n",
    "                game_values[node] = minimum(vals)\n",
    "            else\n",
    "                # player 1 to move: get maximum of children values\n",
    "                game_values[node] = maximum(vals)\n",
    "            end\n",
    "        end\n",
    "    end\n",
    "end"
   ]
  },
  {
   "cell_type": "code",
   "execution_count": 195,
   "id": "685593f4",
   "metadata": {},
   "outputs": [
    {
     "data": {
      "text/plain": [
       "1.0"
      ]
     },
     "execution_count": 195,
     "metadata": {},
     "output_type": "execute_result"
    }
   ],
   "source": [
    "game_values[\"%ZU7C`:#G5b\"]"
   ]
  },
  {
   "cell_type": "code",
   "execution_count": 196,
   "id": "770d2cca",
   "metadata": {},
   "outputs": [
    {
     "data": {
      "text/plain": [
       "1.0"
      ]
     },
     "execution_count": 196,
     "metadata": {},
     "output_type": "execute_result"
    }
   ],
   "source": [
    "game_values[\"%ZU7C`:#G5\"]"
   ]
  },
  {
   "cell_type": "code",
   "execution_count": 197,
   "id": "8827a5c7",
   "metadata": {},
   "outputs": [
    {
     "data": {
      "text/plain": [
       "4-element Vector{Pair{String, Float64}}:\n",
       " \"%ZU7C`:#G%\" => 1.0\n",
       " \"%ZU7C`:#G+\" => 1.0\n",
       " \"%ZU7C`:#G5\" => 1.0\n",
       " \"%ZU7C`:#G)\" => 1.0"
      ]
     },
     "execution_count": 197,
     "metadata": {},
     "output_type": "execute_result"
    }
   ],
   "source": [
    "[nd => game_values[nd] for nd in keys(game_values) if length(nd)==10 && nd[1:9]==\"%ZU7C`:#G\"]"
   ]
  },
  {
   "cell_type": "code",
   "execution_count": 198,
   "id": "ce6fe430",
   "metadata": {},
   "outputs": [
    {
     "data": {
      "text/plain": [
       "1.0"
      ]
     },
     "execution_count": 198,
     "metadata": {},
     "output_type": "execute_result"
    }
   ],
   "source": [
    "game_values[\"%ZU7C`:#G\"]"
   ]
  },
  {
   "cell_type": "code",
   "execution_count": 199,
   "id": "6166a4a0",
   "metadata": {},
   "outputs": [
    {
     "data": {
      "text/plain": [
       "1.0"
      ]
     },
     "execution_count": 199,
     "metadata": {},
     "output_type": "execute_result"
    }
   ],
   "source": [
    "game_values[node00]"
   ]
  },
  {
   "cell_type": "code",
   "execution_count": 201,
   "id": "0babf521",
   "metadata": {},
   "outputs": [
    {
     "data": {
      "text/plain": [
       "1"
      ]
     },
     "execution_count": 201,
     "metadata": {},
     "output_type": "execute_result"
    }
   ],
   "source": [
    "# check length of best resistance\n",
    "best_res_length = Dict{String,Int64}()\n",
    "val = game_values[node00]\n",
    "if val > 0\n",
    "    resister = 1\n",
    "else\n",
    "    resister = 0 # player 2\n",
    "end"
   ]
  },
  {
   "cell_type": "code",
   "execution_count": 202,
   "id": "868198ec",
   "metadata": {},
   "outputs": [
    {
     "data": {
      "text/plain": [
       "Dict{String, Int64} with 38 entries:\n",
       "  \"%ZU7C`:#;5b\" => 3\n",
       "  \"%ZU7C`:#L+c\" => 3\n",
       "  \"%ZU7C`:#;%c\" => 3\n",
       "  \"%ZU7C`:#aEL\" => 3\n",
       "  \"%ZU7C`:#L%a\" => 3\n",
       "  \"%ZU7C`:#L%b\" => 3\n",
       "  \"%ZU7C`:#L+b\" => 3\n",
       "  \"%ZU7C`:#;+b\" => 3\n",
       "  \"%ZU7C`:#;+c\" => 3\n",
       "  \"%ZU7C`:#;%a\" => 3\n",
       "  \"%ZU7C`:#;)c\" => 3\n",
       "  \"%ZU7C`:#L)a\" => 3\n",
       "  \"%ZU7C`:#;)a\" => 3\n",
       "  \"%ZU7C`:#;5a\" => 3\n",
       "  \"%ZU7C`:#bE;\" => 3\n",
       "  \"%ZU7C`:#G)c\" => 3\n",
       "  \"%ZU7C`:#L+a\" => 3\n",
       "  \"%ZU7C`:#G%b\" => 3\n",
       "  \"%ZU7C`:#G%a\" => 3\n",
       "  \"%ZU7C`:#L3b\" => 3\n",
       "  \"%ZU7C`:#G5b\" => 3\n",
       "  \"%ZU7C`:#L5c\" => 3\n",
       "  \"%ZU7C`:#;5c\" => 3\n",
       "  \"%ZU7C`:#aE;\" => 3\n",
       "  \"%ZU7C`:#;)b\" => 3\n",
       "  ⋮             => ⋮"
      ]
     },
     "execution_count": 202,
     "metadata": {},
     "output_type": "execute_result"
    }
   ],
   "source": [
    "for iter in 1:100\n",
    "    node = node00\n",
    "    val = game_values[node00]\n",
    "    flag = true\n",
    "    while flag\n",
    "        cands = [c for c in keys(game_values) if length(c)==(length(node)+1) && c[1:length(node)]==node && game_values[c]==val]\n",
    "        if length(cands) > 0\n",
    "            node = rand(cands)\n",
    "        else\n",
    "            flag = false\n",
    "        end\n",
    "    end\n",
    "    best_res_length[node] = length(node)-minlen\n",
    "end\n",
    "best_res_length"
   ]
  },
  {
   "cell_type": "code",
   "execution_count": 203,
   "id": "0a6c2f76",
   "metadata": {},
   "outputs": [
    {
     "data": {
      "text/plain": [
       "11"
      ]
     },
     "execution_count": 203,
     "metadata": {},
     "output_type": "execute_result"
    }
   ],
   "source": [
    "# Range of BRs\n",
    "lens_br = [length(k) for k in keys(best_res_length)]\n",
    "minlen_br = minlen\n",
    "maxlen_br = maximum(lens_br)"
   ]
  },
  {
   "cell_type": "code",
   "execution_count": 204,
   "id": "d1f5e03f",
   "metadata": {},
   "outputs": [],
   "source": [
    "for len in maxlen_br:-1:minlen_br\n",
    "    nodes = unique([node[1:len] for node in keys(best_res_length) if length(node) >= len])\n",
    "    for node in nodes\n",
    "        if haskey(best_res_length, node)\n",
    "            # do nothing\n",
    "        else\n",
    "            children = [c for c in keys(best_res_length) if length(c) == (length(node)+1) && c[1:length(node)]==node]\n",
    "            brs = [best_res_length[c] for c in children]\n",
    "            if mod(length(node), 2)==resister\n",
    "                # current node is resister to play\n",
    "                best_res_length[node] = maximum(brs)\n",
    "            else\n",
    "                best_res_length[node] = minimum(brs)                \n",
    "            end\n",
    "        end\n",
    "    end\n",
    "end"
   ]
  },
  {
   "cell_type": "code",
   "execution_count": 205,
   "id": "633ff794",
   "metadata": {},
   "outputs": [],
   "source": [
    "# node = node00\n",
    "# val = game_values[node00]\n",
    "# flag = true\n",
    "# while flag\n",
    "#     cands = [c for c in nodes_by_length[length(node)-minlen+2] if c[1:length(node)]==node && game_values[c]==val]\n",
    "#     if length(cands) > 0\n",
    "#         node = rand(cands)\n",
    "#     else\n",
    "#         flag = false\n",
    "#     end\n",
    "# end\n",
    "# display_path(payoffs, tree, node)"
   ]
  },
  {
   "cell_type": "code",
   "execution_count": 206,
   "id": "44f5e653",
   "metadata": {},
   "outputs": [
    {
     "data": {
      "text/plain": [
       "Any[]"
      ]
     },
     "execution_count": 206,
     "metadata": {},
     "output_type": "execute_result"
    }
   ],
   "source": [
    "[nd => best_res_length[nd] for nd in keys(best_res_length) if length(nd)==1]"
   ]
  },
  {
   "cell_type": "code",
   "execution_count": 208,
   "id": "8e9f7574",
   "metadata": {},
   "outputs": [
    {
     "data": {
      "text/plain": [
       "3"
      ]
     },
     "execution_count": 208,
     "metadata": {},
     "output_type": "execute_result"
    }
   ],
   "source": [
    "best_res_length[node00]"
   ]
  },
  {
   "cell_type": "code",
   "execution_count": 207,
   "id": "6a0b0316",
   "metadata": {},
   "outputs": [
    {
     "data": {
      "text/plain": [
       "1.0"
      ]
     },
     "execution_count": 207,
     "metadata": {},
     "output_type": "execute_result"
    }
   ],
   "source": [
    "game_values[node00]"
   ]
  },
  {
   "cell_type": "markdown",
   "id": "efe617a5",
   "metadata": {},
   "source": [
    "### automate finding mate-in-2 problems"
   ]
  },
  {
   "cell_type": "code",
   "execution_count": 221,
   "id": "018fe62f",
   "metadata": {
    "scrolled": false
   },
   "outputs": [
    {
     "name": "stdout",
     "output_type": "stream",
     "text": [
      "Checking mate...   0.002385 seconds (70.40 k allocations: 2.272 MiB)\n",
      "Checking mate...   0.001754 seconds (52.91 k allocations: 1.713 MiB)\n",
      "Checking mate...   0.000163 seconds (3.53 k allocations: 135.758 KiB)\n",
      "Checking mate...   0.027229 seconds (492.29 k allocations: 16.621 MiB, 23.00% gc time)\n",
      "Checking mate...   0.017257 seconds (385.40 k allocations: 13.145 MiB)\n",
      "Checking mate...   0.000178 seconds (3.53 k allocations: 139.328 KiB)\n",
      "Checking mate...   0.001601 seconds (43.23 k allocations: 1.541 MiB)\n",
      "Checking mate...   0.004243 seconds (100.44 k allocations: 3.435 MiB)\n",
      "Checking mate...   0.000168 seconds (3.53 k allocations: 139.328 KiB)\n",
      "Checking mate...   0.000182 seconds (3.53 k allocations: 139.375 KiB)\n",
      "Checking mate...   0.078399 seconds (1.67 M allocations: 52.904 MiB, 7.54% gc time)\n",
      "Checking mate...   0.000182 seconds (3.53 k allocations: 135.711 KiB)\n",
      "Checking mate...   0.102658 seconds (2.13 M allocations: 72.030 MiB, 6.05% gc time)\n",
      "Checking mate...   0.118827 seconds (1.93 M allocations: 73.403 MiB, 9.28% gc time)\n",
      "Checking mate...   0.000164 seconds (3.53 k allocations: 139.375 KiB)\n",
      "Checking mate...   0.034964 seconds (709.30 k allocations: 22.608 MiB, 17.98% gc time)\n",
      "Checking mate...   0.000185 seconds (3.53 k allocations: 135.711 KiB)\n",
      "Checking mate...   0.162658 seconds (3.28 M allocations: 102.278 MiB, 10.64% gc time)\n",
      "----MATE-IN-2 FOUND---\n",
      "Node: L%H5\n",
      "122212 {0}. 111223 {1}. \n",
      "121321 {1}. 112312 {2}. \n",
      "Stats: 0/0=NaN\n",
      "\n",
      "Node: L%H5b\n",
      "122212 {0}. 111223 {1}. \n",
      "121321 {1}. 112312 {2}. \n",
      "213211 {2}. \n",
      "Stats: 0/0=NaN\n",
      "\n",
      "Checking mate...   0.121695 seconds (2.55 M allocations: 81.912 MiB, 9.99% gc time)\n",
      "Checking mate...   0.416849 seconds (8.16 M allocations: 273.063 MiB, 7.79% gc time)\n",
      "Checking mate...   0.000164 seconds (3.53 k allocations: 135.758 KiB)\n",
      "Checking mate...   0.000187 seconds (3.53 k allocations: 139.375 KiB)\n",
      "Checking mate...   0.685183 seconds (14.60 M allocations: 457.628 MiB, 7.81% gc time)\n",
      "Checking mate...   0.717971 seconds (15.02 M allocations: 476.747 MiB, 8.13% gc time)\n",
      "----MATE-IN-2 FOUND---\n",
      "Node: <C+cO\n",
      "113221 {0}. 121132 {1}. \n",
      "111412 {1}. 214111 {2}. \n",
      "123112 {2}. \n",
      "Stats: 0/0=NaN\n",
      "\n",
      "Node: <C+cOB\n",
      "113221 {0}. 121132 {1}. \n",
      "111412 {1}. 214111 {2}. \n",
      "123112 {2}. 121123 {3}. \n",
      "Stats: 0/0=NaN\n",
      "\n",
      "Checking mate...   1.321159 seconds (26.20 M allocations: 817.536 MiB, 7.52% gc time)\n",
      "Checking mate...   0.388258 seconds (7.72 M allocations: 245.656 MiB, 7.06% gc time)\n",
      "Checking mate...   0.061452 seconds (1.19 M allocations: 39.421 MiB, 10.24% gc time)\n",
      "Checking mate...   0.114683 seconds (2.25 M allocations: 74.283 MiB, 5.62% gc time)\n",
      "Checking mate...   0.159537 seconds (3.17 M allocations: 105.874 MiB, 7.13% gc time)\n",
      "Checking mate...   0.228874 seconds (4.12 M allocations: 136.621 MiB, 7.20% gc time)\n",
      "Checking mate...   0.035966 seconds (772.42 k allocations: 26.545 MiB)\n",
      "Checking mate...   0.027516 seconds (445.02 k allocations: 14.910 MiB, 21.10% gc time)\n",
      "Checking mate...   0.001859 seconds (45.36 k allocations: 1.623 MiB)\n",
      "Checking mate...   0.002776 seconds (62.71 k allocations: 2.282 MiB)\n",
      "Checking mate...   0.002473 seconds (63.11 k allocations: 2.390 MiB)\n",
      "Checking mate...   0.001749 seconds (46.48 k allocations: 1.961 MiB)\n",
      "Checking mate...   0.000191 seconds (3.53 k allocations: 202.148 KiB)\n",
      "Checking mate...   0.460164 seconds (9.48 M allocations: 321.689 MiB, 8.37% gc time)\n",
      "Checking mate...   0.887142 seconds (16.30 M allocations: 567.769 MiB, 7.62% gc time)\n",
      "Checking mate...   0.000161 seconds (3.53 k allocations: 139.328 KiB)\n",
      "Checking mate...   0.270887 seconds (5.52 M allocations: 177.229 MiB, 8.31% gc time)\n",
      "Checking mate...   0.507680 seconds (10.14 M allocations: 338.018 MiB, 7.54% gc time)\n",
      "Checking mate...   0.001777 seconds (48.34 k allocations: 1.667 MiB)\n",
      "Checking mate...   0.001152 seconds (33.42 k allocations: 1.166 MiB)\n",
      "Checking mate...   0.000163 seconds (3.53 k allocations: 139.328 KiB)\n",
      "Checking mate...   0.422136 seconds (7.89 M allocations: 261.871 MiB, 7.48% gc time)\n",
      "----MATE-IN-2 FOUND---\n",
      "Node: F+`EH`Bi:\n",
      "121231 {0}. 111412 {1}. \n",
      "213112 {1}. 121222 {1}. \n",
      "121321 {1}. 213112 {1}. \n",
      "121123 {1}. 313111 {2}. \n",
      "113131 {2}. \n",
      "Stats: 0/0=NaN\n",
      "\n",
      "Node: F+`EH`Bi:4\n",
      "121231 {0}. 111412 {1}. \n",
      "213112 {1}. 121222 {1}. \n",
      "121321 {1}. 213112 {1}. \n",
      "121123 {1}. 313111 {2}. \n",
      "113131 {2}. 112231 {2}. \n",
      "Stats: 0/0=NaN\n",
      "\n",
      "Checking mate...   0.000172 seconds (3.53 k allocations: 139.328 KiB)\n",
      "Checking mate...   0.331742 seconds (6.47 M allocations: 206.452 MiB, 8.31% gc time)\n",
      "Checking mate...   0.487599 seconds (9.61 M allocations: 317.413 MiB, 7.79% gc time)\n",
      "----MATE-IN-2 FOUND---\n",
      "Node: ,LiQ[<\n",
      "111421 {0}. 122212 {1}. \n",
      "313111 {1}. 131113 {1}. \n",
      "212122 {2}. 113221 {2}. \n",
      "Stats: 0/0=NaN\n",
      "\n",
      "Node: ,LiQ[<*\n",
      "111421 {0}. 122212 {1}. \n",
      "313111 {1}. 131113 {1}. \n",
      "212122 {2}. 113221 {2}. \n",
      "111331 {2}. \n",
      "Stats: 0/0=NaN\n",
      "\n",
      "Checking mate...   0.685934 seconds (14.07 M allocations: 468.158 MiB, 8.64% gc time)\n",
      "Checking mate...   0.169973 seconds (3.25 M allocations: 107.398 MiB, 10.64% gc time)\n",
      "----MATE-IN-2 FOUND---\n",
      "Node: GHiaK`;\n",
      "121312 {0}. 121321 {1}. \n",
      "313111 {1}. 213121 {1}. \n",
      "122122 {1}. 213112 {2}. \n",
      "113212 {2}. \n",
      "Stats: 0/0=NaN\n",
      "\n",
      "Node: GHiaK`;H\n",
      "121312 {0}. 121321 {1}. \n",
      "313111 {1}. 213121 {1}. \n",
      "122122 {1}. 213112 {2}. \n",
      "113212 {2}. 121321 {2}. \n",
      "Stats: 0/0=NaN\n",
      "\n",
      "Checking mate...   0.000179 seconds (3.53 k allocations: 139.328 KiB)\n",
      "Checking mate...   0.554682 seconds (10.69 M allocations: 361.514 MiB, 7.82% gc time)\n",
      "Checking mate...   0.539866 seconds (10.32 M allocations: 350.827 MiB, 7.97% gc time)\n",
      "Checking mate...   0.000920 seconds (26.26 k allocations: 1017.945 KiB)\n",
      "Checking mate...   0.000593 seconds (13.90 k allocations: 549.508 KiB)\n",
      "Checking mate...   0.000174 seconds (3.53 k allocations: 142.984 KiB)\n"
     ]
    }
   ],
   "source": [
    "n_mc = 1000\n",
    "beta = 20.0\n",
    "for iter in 1:20\n",
    "    game = \"\"\n",
    "    #tree = create_tree(game)\n",
    "    flag = true\n",
    "    while flag\n",
    "        ## MCTS turn\n",
    "        tree = create_tree(game)\n",
    "        tree = grow_tree(payoffs, tree, node=game, iters=n_mc)\n",
    "        game = sample_next_node2(payoffs, tree, game, beta)\n",
    "#         children = get_children(payoffs, game)\n",
    "#         cands = Array{String}(undef, length(children))\n",
    "#         nc = 0\n",
    "#         # eliminate mates in 1, if possible\n",
    "#         for c in children\n",
    "#             value, br = mate_checker(payoffs, string(c), nits_tree = 1, verbose=false)\n",
    "#             if (value == -1.0 && mod(length(c), 2)==1) || (value == 1.0 && mod(length(c), 2)==0)\n",
    "#             else\n",
    "#                 nc += 1\n",
    "#                 cands[nc] = c\n",
    "#             end\n",
    "#         end\n",
    "#         cands = cands[1:nc]\n",
    "#         if length(cands) > 0\n",
    "#             game = rand(cands)\n",
    "#         else\n",
    "#             println(\"Unavoidable mate\")\n",
    "#             display_node(payoffs, create_tree(game), game)\n",
    "#             game = rand(children)\n",
    "#         end\n",
    "        if length(get_children(payoffs, game)) < 20\n",
    "            print(\"Checking mate... \")\n",
    "            #display_node(payoffs, tree, game)\n",
    "            @time value, br = mate_checker(payoffs, game, nits_tree = 3, verbose=false)\n",
    "            if abs(value)==1.0 && br == 3\n",
    "                flag = false\n",
    "                println(\"----MATE-IN-2 FOUND---\")\n",
    "                value, br = mate_checker(payoffs, game, nits_tree = 1, verbose=true)\n",
    "                #print(\"value:\")\n",
    "                #print(value)\n",
    "                #print(\" best resist:\")\n",
    "                #println(br)\n",
    "            end\n",
    "        end\n",
    "        if length(get_children(payoffs, game))==0\n",
    "            flag = false\n",
    "        end\n",
    "    end\n",
    "end"
   ]
  },
  {
   "cell_type": "code",
   "execution_count": null,
   "id": "b05105f0",
   "metadata": {},
   "outputs": [],
   "source": []
  }
 ],
 "metadata": {
  "kernelspec": {
   "display_name": "Julia 1.9.3",
   "language": "julia",
   "name": "julia-1.9"
  },
  "language_info": {
   "file_extension": ".jl",
   "mimetype": "application/julia",
   "name": "julia",
   "version": "1.9.3"
  }
 },
 "nbformat": 4,
 "nbformat_minor": 5
}

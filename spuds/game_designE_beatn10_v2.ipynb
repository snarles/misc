{
 "cells": [
  {
   "cell_type": "markdown",
   "id": "052be005",
   "metadata": {},
   "source": [
    "Beat-n game with 10 pt limit"
   ]
  },
  {
   "cell_type": "markdown",
   "id": "72817bb1",
   "metadata": {},
   "source": [
    "## Spud code"
   ]
  },
  {
   "cell_type": "code",
   "execution_count": 2,
   "id": "494818e8",
   "metadata": {},
   "outputs": [],
   "source": [
    "using Random\n",
    "using DataFrames\n",
    "using CSV\n",
    "using DelimitedFiles\n",
    "using Statistics\n",
    "using Printf\n",
    "using LinearAlgebra\n",
    "using Dates\n",
    "using JLD2"
   ]
  },
  {
   "cell_type": "code",
   "execution_count": 3,
   "id": "45e21e7f",
   "metadata": {},
   "outputs": [],
   "source": [
    "struct Spud\n",
    "    name::String\n",
    "    h::Int64\n",
    "    f::Int64\n",
    "    l::Int64\n",
    "    p::Int64\n",
    "    r::Int64\n",
    "    s::Int64\n",
    "    a1::Int64\n",
    "end"
   ]
  },
  {
   "cell_type": "code",
   "execution_count": 4,
   "id": "950e076e",
   "metadata": {},
   "outputs": [
    {
     "data": {
      "text/plain": [
       "1"
      ]
     },
     "execution_count": 4,
     "metadata": {},
     "output_type": "execute_result"
    }
   ],
   "source": [
    "const MXV = 9\n",
    "const MNV = 1"
   ]
  },
  {
   "cell_type": "code",
   "execution_count": 5,
   "id": "ac830f74",
   "metadata": {},
   "outputs": [
    {
     "data": {
      "text/plain": [
       "eval_melee (generic function with 3 methods)"
      ]
     },
     "execution_count": 5,
     "metadata": {},
     "output_type": "execute_result"
    }
   ],
   "source": [
    "function compare_int_list(as::Vector{Int64}, bs::Vector{Int64}, tiebreaker::Int64 = 0)::Int64\n",
    "    n = min(length(as), length(bs))\n",
    "    for i in 1:n\n",
    "        if as[i] != bs[i]\n",
    "            return sign(as[i] - bs[i])\n",
    "        end\n",
    "    end\n",
    "    return tiebreaker\n",
    "end\n",
    "\n",
    "function spud_h_seq(a::Spud)::Vector{Int64}\n",
    "    return [a.h, a.s, a.r, a.p, a.l, a.f]\n",
    "end\n",
    "\n",
    "function spud_f_seq(a::Spud)::Vector{Int64}\n",
    "    return [a.f, a.s, a.r, a.p, a.l, a.h]\n",
    "end\n",
    "\n",
    "function spud_l_seq(a::Spud)::Vector{Int64}\n",
    "    return [a.l]\n",
    "end\n",
    "\n",
    "function spud_p_seq(a::Spud)::Vector{Int64}\n",
    "    return [a.p, a.l]\n",
    "end\n",
    "\n",
    "function spud_r_seq(a::Spud)::Vector{Int64}\n",
    "    return [a.r, a.f]\n",
    "end\n",
    "\n",
    "function spud_s_seq(a::Spud)::Vector{Int64}\n",
    "    return [a.s, a.h]\n",
    "end\n",
    "\n",
    "function spud_utb_seq(a::Spud)::Vector{Int64}\n",
    "    return [a.a1, a.h, a.f, a.l, a.p, a.r, a.s]\n",
    "end\n",
    "\n",
    "function eval_finds(a::Spud, b::Spud, tiebreaker::Int64 = 0)::Int64\n",
    "    ev = compare_int_list(spud_f_seq(a), spud_h_seq(b), tiebreaker)\n",
    "    ans = ev\n",
    "end\n",
    "\n",
    "function eval_melee(a::Spud, b::Spud, tiebreaker1::Int64 = 0, tiebreaker2::Int64 = 0)::Int64\n",
    "    comp_p = compare_int_list(spud_p_seq(a), spud_p_seq(b), tiebreaker1)\n",
    "    comp_r = compare_int_list(spud_r_seq(a), spud_r_seq(b), tiebreaker1)\n",
    "    comp_s = compare_int_list(spud_s_seq(a), spud_s_seq(b), tiebreaker1)\n",
    "    ev = 4 * comp_p + 3 * comp_r + 2 * comp_s\n",
    "    return sign(ev + (1-abs(ev))*tiebreaker2)\n",
    "end\n",
    "\n"
   ]
  },
  {
   "cell_type": "code",
   "execution_count": 6,
   "id": "f603612d",
   "metadata": {},
   "outputs": [
    {
     "data": {
      "text/plain": [
       "eval_battle (generic function with 1 method)"
      ]
     },
     "execution_count": 6,
     "metadata": {},
     "output_type": "execute_result"
    }
   ],
   "source": [
    "\n",
    "\n",
    "function eval_battle(a::Spud, b::Spud)::Int64\n",
    "    utb = compare_int_list(spud_utb_seq(a), spud_utb_seq(b), 0) # universal tiebreaker\n",
    "    if utb == 0\n",
    "        return 0\n",
    "    end\n",
    "    a_finds = eval_finds(a, b, utb)==1\n",
    "    b_finds = eval_finds(b, a, utb)==1\n",
    "    melee_win = eval_melee(a, b, 0, 0)\n",
    "    luck_win = compare_int_list([a.l, melee_win], [b.l, -melee_win], 0)\n",
    "    if melee_win ==1 && luck_win ==1\n",
    "        return 1\n",
    "    end\n",
    "    if melee_win == -1 && luck_win == -1\n",
    "        return -1\n",
    "    end\n",
    "    if a_finds && b_finds\n",
    "        return melee_win\n",
    "    end\n",
    "    if a_finds && !b_finds\n",
    "        return 1\n",
    "    end\n",
    "    if !a_finds && b_finds\n",
    "        return -1\n",
    "    end\n",
    "    if !a_finds && !b_finds\n",
    "        return luck_win\n",
    "    end\n",
    "end"
   ]
  },
  {
   "cell_type": "code",
   "execution_count": 7,
   "id": "560e9539",
   "metadata": {},
   "outputs": [
    {
     "data": {
      "text/plain": [
       "df_to_spuds (generic function with 1 method)"
      ]
     },
     "execution_count": 7,
     "metadata": {},
     "output_type": "execute_result"
    }
   ],
   "source": [
    "function eval_battle_list(a::Spud, bs::Array{Spud})::Int\n",
    "    score = 0\n",
    "    for ii in 1:length(bs)\n",
    "        score = score + eval_battle(a, bs[ii])\n",
    "    end\n",
    "    return score\n",
    "end\n",
    "\n",
    "function eval_battle_list2(a::Spud, bs::Array{Spud}, w::Vector{Float64})::AbstractFloat\n",
    "    score = 0.0\n",
    "    for ii in 1:length(bs)\n",
    "        score = score + w[ii] * eval_battle(a, bs[ii])\n",
    "    end\n",
    "    return score\n",
    "end\n",
    "\n",
    "function spuds_to_df(as::Array{Spud})::DataFrame\n",
    "    names = Array{String}(undef, length(as))\n",
    "    hs = Array{Int}(undef, length(as))\n",
    "    fs = Array{Int}(undef, length(as))\n",
    "    ls = Array{Int}(undef, length(as))\n",
    "    ps = Array{Int}(undef, length(as))\n",
    "    rs = Array{Int}(undef, length(as))\n",
    "    ss = Array{Int}(undef, length(as))\n",
    "    a1s = Array{Int}(undef, length(as))\n",
    "    for ii in 1:length(as)\n",
    "        names[ii] = as[ii].name\n",
    "        hs[ii] = as[ii].h\n",
    "        fs[ii] = as[ii].f\n",
    "        ls[ii] = as[ii].l\n",
    "        ps[ii] = as[ii].p\n",
    "        rs[ii] = as[ii].r\n",
    "        ss[ii] = as[ii].s\n",
    "        a1s[ii] = as[ii].a1\n",
    "    end\n",
    "    df = DataFrame(name = names, h = hs, f = fs, l = ls, p = ps, r = rs, s = ss, a1 = a1s)\n",
    "    return df\n",
    "end\n",
    "\n",
    "function fpart(x::AbstractFloat)::AbstractFloat\n",
    "  return x - trunc(x)\n",
    "end\n",
    "\n",
    "# for legacy dfs without abilities\n",
    "function df_to_spuds0(df::DataFrame)::Array{Spud}\n",
    "    n = size(df)[1]\n",
    "    as = Array{Spud}(undef, n)\n",
    "    for i in 1:n\n",
    "        as[i] = Spud(df[i, :name], df[i, :h], df[i, :f], df[i, :l], df[i, :p], df[i, :r], df[i, :s], ability_none)\n",
    "    end\n",
    "    return as\n",
    "end\n",
    "\n",
    "function df_to_spuds(df::DataFrame)::Array{Spud}\n",
    "    n = size(df)[1]\n",
    "    as = Array{Spud}(undef, n)\n",
    "    for i in 1:n\n",
    "        as[i] = Spud(df[i, :name], df[i, :h], df[i, :f], df[i, :l], df[i, :p], df[i, :r], df[i, :s], df[i, :a1])\n",
    "    end\n",
    "    return as\n",
    "end\n",
    "\n"
   ]
  },
  {
   "cell_type": "markdown",
   "id": "66e71132",
   "metadata": {},
   "source": [
    "## Get spuds with cost 10 and filter nondominated"
   ]
  },
  {
   "cell_type": "code",
   "execution_count": 8,
   "id": "638f1e65",
   "metadata": {},
   "outputs": [
    {
     "data": {
      "text/plain": [
       "get_library (generic function with 2 methods)"
      ]
     },
     "execution_count": 8,
     "metadata": {},
     "output_type": "execute_result"
    }
   ],
   "source": [
    "function get_library(cost, n_init = 10000)\n",
    "    ffs = Array{Spud}(undef, n_init)\n",
    "    ff_i = 0\n",
    "    hrange = MNV:MXV\n",
    "    frange = MNV:MXV\n",
    "    lrange = MNV:MXV\n",
    "    prange = MNV:MXV\n",
    "    rrange = MNV:MXV\n",
    "    srange = MNV:MXV\n",
    "    for h in hrange\n",
    "        for f in frange\n",
    "            for l in lrange\n",
    "                for p in prange\n",
    "                    for r in rrange\n",
    "                        for s in srange\n",
    "                            if (h+f+l+p+r+s == cost)\n",
    "                                ff = Spud(\"\", h,f,l,p,r,s,999)\n",
    "                                ff_i += 1\n",
    "                                ffs[ff_i] = ff\n",
    "                            end\n",
    "                        end\n",
    "                    end                        \n",
    "                end                        \n",
    "            end\n",
    "        end\n",
    "    end\n",
    "    ffs = ffs[1:ff_i]\n",
    "    return unique(ffs)\n",
    "end"
   ]
  },
  {
   "cell_type": "code",
   "execution_count": 9,
   "id": "64d0dd3e",
   "metadata": {},
   "outputs": [
    {
     "data": {
      "text/plain": [
       "126-element Vector{Spud}:\n",
       " Spud(\"\", 1, 1, 1, 1, 1, 5, 999)\n",
       " Spud(\"\", 1, 1, 1, 1, 2, 4, 999)\n",
       " Spud(\"\", 1, 1, 1, 1, 3, 3, 999)\n",
       " Spud(\"\", 1, 1, 1, 1, 4, 2, 999)\n",
       " Spud(\"\", 1, 1, 1, 1, 5, 1, 999)\n",
       " Spud(\"\", 1, 1, 1, 2, 1, 4, 999)\n",
       " Spud(\"\", 1, 1, 1, 2, 2, 3, 999)\n",
       " Spud(\"\", 1, 1, 1, 2, 3, 2, 999)\n",
       " Spud(\"\", 1, 1, 1, 2, 4, 1, 999)\n",
       " Spud(\"\", 1, 1, 1, 3, 1, 3, 999)\n",
       " Spud(\"\", 1, 1, 1, 3, 2, 2, 999)\n",
       " Spud(\"\", 1, 1, 1, 3, 3, 1, 999)\n",
       " Spud(\"\", 1, 1, 1, 4, 1, 2, 999)\n",
       " ⋮\n",
       " Spud(\"\", 3, 1, 3, 1, 1, 1, 999)\n",
       " Spud(\"\", 3, 2, 1, 1, 1, 2, 999)\n",
       " Spud(\"\", 3, 2, 1, 1, 2, 1, 999)\n",
       " Spud(\"\", 3, 2, 1, 2, 1, 1, 999)\n",
       " Spud(\"\", 3, 2, 2, 1, 1, 1, 999)\n",
       " Spud(\"\", 3, 3, 1, 1, 1, 1, 999)\n",
       " Spud(\"\", 4, 1, 1, 1, 1, 2, 999)\n",
       " Spud(\"\", 4, 1, 1, 1, 2, 1, 999)\n",
       " Spud(\"\", 4, 1, 1, 2, 1, 1, 999)\n",
       " Spud(\"\", 4, 1, 2, 1, 1, 1, 999)\n",
       " Spud(\"\", 4, 2, 1, 1, 1, 1, 999)\n",
       " Spud(\"\", 5, 1, 1, 1, 1, 1, 999)"
      ]
     },
     "execution_count": 9,
     "metadata": {},
     "output_type": "execute_result"
    }
   ],
   "source": [
    "lib0 = get_library(10)\n",
    "lib0"
   ]
  },
  {
   "cell_type": "code",
   "execution_count": 10,
   "id": "6be20a55",
   "metadata": {},
   "outputs": [
    {
     "data": {
      "text/plain": [
       "get_payoffs (generic function with 1 method)"
      ]
     },
     "execution_count": 10,
     "metadata": {},
     "output_type": "execute_result"
    }
   ],
   "source": [
    "function get_payoffs(env::Array{Spud})::Array{Int64}\n",
    "    n_nash = length(env)\n",
    "    payoffs = Array{Int64}(undef, (n_nash, n_nash))\n",
    "    for i in 1:n_nash\n",
    "        for j in 1:n_nash\n",
    "            payoffs[i, j] = eval_battle(env[i], env[j])\n",
    "        end\n",
    "    end\n",
    "    return payoffs\n",
    "end"
   ]
  },
  {
   "cell_type": "code",
   "execution_count": 11,
   "id": "af79e6db",
   "metadata": {},
   "outputs": [
    {
     "data": {
      "text/plain": [
       "filter_nondominated2 (generic function with 1 method)"
      ]
     },
     "execution_count": 11,
     "metadata": {},
     "output_type": "execute_result"
    }
   ],
   "source": [
    "function filter_nondominated2(as::Array{Spud})::Array{Spud}\n",
    "    mat = get_payoffs(as);\n",
    "    isDominated = zeros(Int64, length(as));\n",
    "    for i in 1:length(as)\n",
    "        v = mat[i, :]\n",
    "        bv = ones(Int64, length(as))\n",
    "        for j in 1:length(as)\n",
    "            bv = bv .* (mat[:, j] .>= v[j])\n",
    "        end\n",
    "        if sum(bv) > 1\n",
    "            isDominated[i] = 1\n",
    "        end\n",
    "    end\n",
    "    return as[isDominated .== 0]\n",
    "end"
   ]
  },
  {
   "cell_type": "code",
   "execution_count": 12,
   "id": "55a8029c",
   "metadata": {},
   "outputs": [
    {
     "name": "stdout",
     "output_type": "stream",
     "text": [
      " 111124 111133 111142 111214 111223 111232 111241 111313 111322 111331 111412 111421 111511 112114 112123 112132 112141 112213 112222 112231 112312 112321 112411 113113 113122 113131 113212 113221 113311 114112 114121 114211 121114 121123 121132 121213 121222 121231 121312 121321 121411 122113 122122 122212 122221 122311 123112 123211 131113 131122 131212 131221 131311 132112 132211 141112 141211 212113 212122 212131 212212 212221 212311 213112 213121 213211 214111 222112 222211 312112 312121 312211 313111 412111"
     ]
    },
    {
     "data": {
      "text/plain": [
       "74"
      ]
     },
     "execution_count": 12,
     "metadata": {},
     "output_type": "execute_result"
    }
   ],
   "source": [
    "lib=filter_nondominated2(lib0)\n",
    "for ff in lib\n",
    "    print(\" \")\n",
    "    print(100000 * ff.h + 10000 * ff.f + 1000 * ff.l + 100 * ff.p + 10 * ff.r + ff.s)\n",
    "end\n",
    "nlib = length(lib)"
   ]
  },
  {
   "cell_type": "code",
   "execution_count": 13,
   "id": "7693aec2",
   "metadata": {},
   "outputs": [
    {
     "data": {
      "text/plain": [
       "74×74 Matrix{Int64}:\n",
       "  0  -1  -1  -1  -1  -1  -1   1  -1  …  -1  -1  -1  -1  -1  -1  -1  -1  -1\n",
       "  1   0  -1  -1  -1  -1  -1  -1   1     -1  -1  -1  -1  -1  -1  -1  -1  -1\n",
       "  1   1   0  -1  -1  -1  -1  -1  -1     -1  -1  -1  -1  -1  -1  -1  -1  -1\n",
       "  1   1   1   0  -1  -1  -1  -1  -1     -1  -1  -1  -1  -1  -1  -1  -1  -1\n",
       "  1   1   1   1   0  -1  -1  -1  -1     -1  -1  -1  -1  -1  -1  -1  -1  -1\n",
       "  1   1   1   1   1   0  -1  -1  -1  …  -1  -1  -1  -1  -1  -1  -1  -1  -1\n",
       "  1   1   1   1   1   1   0  -1  -1     -1  -1  -1  -1  -1  -1  -1  -1  -1\n",
       " -1   1   1   1   1   1   1   0  -1     -1  -1  -1  -1  -1  -1  -1  -1  -1\n",
       "  1  -1   1   1   1   1   1   1   0     -1  -1  -1  -1  -1  -1  -1  -1  -1\n",
       "  1   1  -1   1   1   1   1   1   1     -1  -1  -1  -1  -1  -1  -1  -1  -1\n",
       " -1  -1   1   1  -1   1   1   1   1  …  -1  -1  -1  -1  -1  -1  -1  -1  -1\n",
       "  1  -1  -1   1   1  -1   1   1   1     -1  -1  -1  -1  -1  -1  -1  -1  -1\n",
       " -1  -1  -1   1  -1  -1   1   1  -1     -1  -1  -1  -1  -1  -1  -1  -1  -1\n",
       "  ⋮                   ⋮              ⋱   ⋮                   ⋮          \n",
       "  1   1   1   1   1   1   1   1   1     -1  -1  -1   1   1  -1   1  -1   1\n",
       "  1   1   1   1   1   1   1   1   1     -1  -1   1   1   1   1   1   1   1\n",
       "  1   1   1   1   1   1   1   1   1     -1  -1   1   1   1   1   1   1   1\n",
       "  1   1   1   1   1   1   1   1   1  …   0  -1  -1   1   1   1   1   1   1\n",
       "  1   1   1   1   1   1   1   1   1      1   0  -1  -1   1   1   1   1   1\n",
       "  1   1   1   1   1   1   1   1   1      1   1   0  -1   1  -1   1  -1   1\n",
       "  1   1   1   1   1   1   1   1   1     -1   1   1   0   1  -1   1  -1   1\n",
       "  1   1   1   1   1   1   1   1   1     -1  -1  -1  -1   0  -1  -1  -1   1\n",
       "  1   1   1   1   1   1   1   1   1  …  -1  -1   1   1   1   0  -1  -1   1\n",
       "  1   1   1   1   1   1   1   1   1     -1  -1  -1  -1   1   1   0  -1   1\n",
       "  1   1   1   1   1   1   1   1   1     -1  -1   1   1   1   1   1   0   1\n",
       "  1   1   1   1   1   1   1   1   1     -1  -1  -1  -1  -1  -1  -1  -1   0"
      ]
     },
     "execution_count": 13,
     "metadata": {},
     "output_type": "execute_result"
    }
   ],
   "source": [
    "payoffs = get_payoffs(lib)"
   ]
  },
  {
   "cell_type": "code",
   "execution_count": 14,
   "id": "3d780a7c",
   "metadata": {},
   "outputs": [
    {
     "data": {
      "text/plain": [
       "spud2int (generic function with 1 method)"
      ]
     },
     "execution_count": 14,
     "metadata": {},
     "output_type": "execute_result"
    }
   ],
   "source": [
    "function spud2int(a::Spud)::Int64\n",
    "    return a.h * 100000 + a.f * 10000 + a.l * 1000 + a.p * 100 + a.r * 10 + a.s\n",
    "end"
   ]
  },
  {
   "cell_type": "code",
   "execution_count": 15,
   "id": "db3ccd86",
   "metadata": {},
   "outputs": [],
   "source": [
    "s2ind = Dict(lib[i] => i for i in 1:length(lib));\n",
    "int2ind = Dict(spud2int(lib[i]) => i for i in 1:length(lib));"
   ]
  },
  {
   "cell_type": "code",
   "execution_count": 16,
   "id": "a169b86e",
   "metadata": {},
   "outputs": [],
   "source": [
    "libi = [spud2int(ff) for ff in lib];"
   ]
  },
  {
   "cell_type": "code",
   "execution_count": 17,
   "id": "0e426ff9",
   "metadata": {},
   "outputs": [
    {
     "data": {
      "text/plain": [
       "73"
      ]
     },
     "execution_count": 17,
     "metadata": {},
     "output_type": "execute_result"
    }
   ],
   "source": [
    "int2ind[313111]"
   ]
  },
  {
   "cell_type": "code",
   "execution_count": 18,
   "id": "12e85b6a",
   "metadata": {},
   "outputs": [
    {
     "data": {
      "text/plain": [
       "3"
      ]
     },
     "execution_count": 18,
     "metadata": {},
     "output_type": "execute_result"
    }
   ],
   "source": [
    "as = [1,2,3]\n",
    "as[end]"
   ]
  },
  {
   "cell_type": "code",
   "execution_count": 19,
   "id": "ac7db512",
   "metadata": {},
   "outputs": [
    {
     "data": {
      "text/plain": [
       "eval_beatn (generic function with 1 method)"
      ]
     },
     "execution_count": 19,
     "metadata": {},
     "output_type": "execute_result"
    }
   ],
   "source": [
    "function eval_beatn(payoffs::Array{Int64}, as::Array{Int64}, bs::Array{Int64})::Int64\n",
    "    if length(bs)==0 || length(as)==0\n",
    "        return 0\n",
    "    end\n",
    "    a = as[end]\n",
    "    flag = true\n",
    "    count = 0\n",
    "    while flag\n",
    "        if payoffs[a, bs[end-count]]==1\n",
    "            count += 1\n",
    "        else\n",
    "            flag = false\n",
    "        end\n",
    "        if count == length(bs)\n",
    "            flag = false\n",
    "        end\n",
    "    end\n",
    "    return count\n",
    "end"
   ]
  },
  {
   "cell_type": "code",
   "execution_count": 20,
   "id": "06768a49",
   "metadata": {},
   "outputs": [
    {
     "data": {
      "text/plain": [
       "4-element Vector{Int64}:\n",
       " 41\n",
       " 40\n",
       " 27\n",
       " 65"
      ]
     },
     "execution_count": 20,
     "metadata": {},
     "output_type": "execute_result"
    }
   ],
   "source": [
    "as = [int2ind[ff] for ff in [214111, 112222, 313111, 113311]]\n",
    "bs = [int2ind[ff] for ff in [121411, 121321, 113212, 213121]]"
   ]
  },
  {
   "cell_type": "code",
   "execution_count": 21,
   "id": "d2ce51e6",
   "metadata": {},
   "outputs": [
    {
     "data": {
      "text/plain": [
       "2"
      ]
     },
     "execution_count": 21,
     "metadata": {},
     "output_type": "execute_result"
    }
   ],
   "source": [
    "eval_beatn(payoffs, as[1:3], bs[1:2])"
   ]
  },
  {
   "cell_type": "code",
   "execution_count": 22,
   "id": "7a920d9d",
   "metadata": {},
   "outputs": [
    {
     "data": {
      "text/plain": [
       "2"
      ]
     },
     "execution_count": 22,
     "metadata": {},
     "output_type": "execute_result"
    }
   ],
   "source": [
    "eval_beatn(payoffs, bs[1:3], as[1:3])"
   ]
  },
  {
   "cell_type": "code",
   "execution_count": 23,
   "id": "52666aca",
   "metadata": {},
   "outputs": [
    {
     "data": {
      "text/plain": [
       "2"
      ]
     },
     "execution_count": 23,
     "metadata": {},
     "output_type": "execute_result"
    }
   ],
   "source": [
    "eval_beatn(payoffs, as[1:4], bs[1:3])"
   ]
  },
  {
   "cell_type": "code",
   "execution_count": 24,
   "id": "c4ab1c2f",
   "metadata": {},
   "outputs": [
    {
     "data": {
      "text/plain": [
       "3"
      ]
     },
     "execution_count": 24,
     "metadata": {},
     "output_type": "execute_result"
    }
   ],
   "source": [
    "eval_beatn(payoffs, bs[1:4], as[1:4])"
   ]
  },
  {
   "cell_type": "code",
   "execution_count": 25,
   "id": "2180d5f3",
   "metadata": {},
   "outputs": [
    {
     "data": {
      "text/plain": [
       "74"
      ]
     },
     "execution_count": 25,
     "metadata": {},
     "output_type": "execute_result"
    }
   ],
   "source": [
    "size(payoffs)[1]"
   ]
  },
  {
   "cell_type": "code",
   "execution_count": 26,
   "id": "e0355eae",
   "metadata": {},
   "outputs": [
    {
     "data": {
      "text/plain": [
       "try_beatn (generic function with 1 method)"
      ]
     },
     "execution_count": 26,
     "metadata": {},
     "output_type": "execute_result"
    }
   ],
   "source": [
    "# tries all possible moves as extension of as\n",
    "function try_beatn(payoffs::Array{Int64}, as::Array{Int64}, bs::Array{Int64})::Array{Int64}\n",
    "    ans = Array{Int64}(undef, size(payoffs)[1])\n",
    "    for i in 1:size(payoffs)[1]\n",
    "        as2 = copy(as)\n",
    "        append!(as2, i)\n",
    "        ans[i] = eval_beatn(payoffs, as2, bs)\n",
    "    end\n",
    "    return ans\n",
    "end"
   ]
  },
  {
   "cell_type": "code",
   "execution_count": 27,
   "id": "610075c3",
   "metadata": {},
   "outputs": [
    {
     "name": "stdout",
     "output_type": "stream",
     "text": [
      "00000000000000000000000011120110021211220011100001110000000000000120000000"
     ]
    }
   ],
   "source": [
    "for i in try_beatn(payoffs, as, bs)\n",
    "    print(i)\n",
    "end"
   ]
  },
  {
   "cell_type": "code",
   "execution_count": 28,
   "id": "34b38ea6",
   "metadata": {},
   "outputs": [
    {
     "data": {
      "text/plain": [
       "lose_or_not (generic function with 1 method)"
      ]
     },
     "execution_count": 28,
     "metadata": {},
     "output_type": "execute_result"
    }
   ],
   "source": [
    "# returns 1 if Player A lost\n",
    "function lose_or_not(payoffs::Array{Int64}, as::Array{Int64}, bs::Array{Int64})::Int64\n",
    "    prev_score = eval_beatn(payoffs, bs, as)\n",
    "    scores = try_beatn(payoffs, as, bs)\n",
    "    if maximum(scores) < prev_score\n",
    "        return 1\n",
    "    end\n",
    "    return 0\n",
    "end"
   ]
  },
  {
   "cell_type": "code",
   "execution_count": 29,
   "id": "84fa5f6b",
   "metadata": {},
   "outputs": [
    {
     "data": {
      "text/plain": [
       "0"
      ]
     },
     "execution_count": 29,
     "metadata": {},
     "output_type": "execute_result"
    }
   ],
   "source": [
    "lose_or_not(payoffs, as[1:2], bs[1:2])"
   ]
  },
  {
   "cell_type": "code",
   "execution_count": 30,
   "id": "1e2178a4",
   "metadata": {},
   "outputs": [
    {
     "data": {
      "text/plain": [
       "0"
      ]
     },
     "execution_count": 30,
     "metadata": {},
     "output_type": "execute_result"
    }
   ],
   "source": [
    "lose_or_not(payoffs, as[1:3], bs[1:3])"
   ]
  },
  {
   "cell_type": "code",
   "execution_count": 31,
   "id": "80e2a310",
   "metadata": {},
   "outputs": [
    {
     "data": {
      "text/plain": [
       "1"
      ]
     },
     "execution_count": 31,
     "metadata": {},
     "output_type": "execute_result"
    }
   ],
   "source": [
    "lose_or_not(payoffs, as[1:4], bs[1:4])"
   ]
  },
  {
   "cell_type": "code",
   "execution_count": 32,
   "id": "3e10fcb4",
   "metadata": {},
   "outputs": [
    {
     "data": {
      "text/plain": [
       "legal_moves (generic function with 1 method)"
      ]
     },
     "execution_count": 32,
     "metadata": {},
     "output_type": "execute_result"
    }
   ],
   "source": [
    "function legal_moves(payoffs::Array{Int64}, as::Array{Int64}, bs::Array{Int64})::Array{Int64}\n",
    "    prev_score = eval_beatn(payoffs, bs, as)\n",
    "    scores = try_beatn(payoffs, as, bs)\n",
    "    cands = findall(scores .>= prev_score)\n",
    "    return cands\n",
    "end"
   ]
  },
  {
   "cell_type": "code",
   "execution_count": 33,
   "id": "7f74a1f2",
   "metadata": {},
   "outputs": [
    {
     "data": {
      "text/plain": [
       "choose_random (generic function with 1 method)"
      ]
     },
     "execution_count": 33,
     "metadata": {},
     "output_type": "execute_result"
    }
   ],
   "source": [
    "# picks randomly\n",
    "function choose_random(payoffs::Array{Int64}, as::Array{Int64}, bs::Array{Int64})::Int64\n",
    "    prev_score = eval_beatn(payoffs, bs, as)\n",
    "    scores = try_beatn(payoffs, as, bs)\n",
    "    cands = findall(scores .>= prev_score)\n",
    "    return rand(cands)\n",
    "end"
   ]
  },
  {
   "cell_type": "code",
   "execution_count": 34,
   "id": "89c48087",
   "metadata": {},
   "outputs": [
    {
     "data": {
      "text/plain": [
       "choose_aggro (generic function with 1 method)"
      ]
     },
     "execution_count": 34,
     "metadata": {},
     "output_type": "execute_result"
    }
   ],
   "source": [
    "# picks aggressively\n",
    "function choose_aggro(payoffs::Array{Int64}, as::Array{Int64}, bs::Array{Int64})::Int64\n",
    "    scores = try_beatn(payoffs, as, bs)\n",
    "    cands = findall(scores .== maximum(scores))\n",
    "    return rand(cands)\n",
    "end"
   ]
  },
  {
   "cell_type": "code",
   "execution_count": 35,
   "id": "a603dd38",
   "metadata": {},
   "outputs": [
    {
     "data": {
      "text/plain": [
       "display_game (generic function with 1 method)"
      ]
     },
     "execution_count": 35,
     "metadata": {},
     "output_type": "execute_result"
    }
   ],
   "source": [
    "function play_random_vs_aggro(\n",
    "        payoffs::Array{Int64}, \n",
    "        as::Array{Int64} = zeros(Int64, 0), \n",
    "        bs::Array{Int64} = zeros(Int64, 0))::Tuple{Int64, Array{Int64}, Array{Int64}}\n",
    "    if length(as) == 0\n",
    "        a = rand(1:size(payoffs)[1])\n",
    "        as = append!(as, a)\n",
    "    end\n",
    "    if length(bs) < length(as)\n",
    "        b = choose_aggro(payoffs, bs, as)\n",
    "        bs = append!(bs, b)\n",
    "    end\n",
    "    flag = true\n",
    "    a_win = 0\n",
    "    while flag\n",
    "        if lose_or_not(payoffs, as, bs)==1\n",
    "            flag = false\n",
    "            a_win = -1\n",
    "        else\n",
    "            # player A turn\n",
    "            a = choose_random(payoffs, as, bs)\n",
    "            as = append!(as, a)\n",
    "        end\n",
    "        if flag\n",
    "            if lose_or_not(payoffs, bs, as)==1\n",
    "                flag = false\n",
    "                a_win = 1\n",
    "            else\n",
    "                # player B turn\n",
    "                b = choose_aggro(payoffs, bs, as)\n",
    "                bs = append!(bs, b)\n",
    "            end\n",
    "        end\n",
    "    end\n",
    "    return (a_win, as, bs)\n",
    "end\n",
    "\n",
    "function display_game(payoffs::Array{Int64}, as::Array{Int64}, bs::Array{Int64})\n",
    "    for i in 1:length(as)\n",
    "        print(libi[as[i]])\n",
    "        print(\" {\")\n",
    "        n = eval_beatn(payoffs, as[1:i], bs[1:(i-1)])\n",
    "        print(n)\n",
    "        print(\"}. \")\n",
    "        if i <= length(bs)\n",
    "            print(libi[bs[i]])\n",
    "            print(\" {\")\n",
    "            n = eval_beatn(payoffs, bs[1:i], as[1:i])\n",
    "            print(n)\n",
    "            print(\"}. \")\n",
    "        end\n",
    "        println()\n",
    "    end\n",
    "end"
   ]
  },
  {
   "cell_type": "code",
   "execution_count": 36,
   "id": "cb5fb4b1",
   "metadata": {},
   "outputs": [
    {
     "name": "stdout",
     "output_type": "stream",
     "text": [
      "111133 {0}. 222211 {1}. \n",
      "131311 {1}. 111223 {2}. \n",
      "213112 {2}. 213121 {3}. \n",
      "121321 {3}. 113311 {3}. \n",
      "214111 {3}. \n"
     ]
    }
   ],
   "source": [
    "a_win, as, bs = play_random_vs_aggro(payoffs, [int2ind[111133]], [int2ind[222211]])\n",
    "display_game(payoffs, as, bs)"
   ]
  },
  {
   "cell_type": "code",
   "execution_count": 37,
   "id": "6389a1bd",
   "metadata": {},
   "outputs": [],
   "source": [
    "# n_games = 100\n",
    "# counts = Array{Int64}(undef, (nlib, nlib)) .* 0\n",
    "# wins = Array{Int64}(undef, (nlib, nlib)) .* 0\n",
    "# for a in 1:nlib\n",
    "#     for b in 1:nlib\n",
    "#         for i in 1:n_games\n",
    "#             a_win, as, bs = play_random_vs_aggro(payoffs, [a], [b])\n",
    "#             counts[a,b] += 1\n",
    "#             if a_win==1\n",
    "#                 wins[a,b] +=1\n",
    "#             end\n",
    "#         end\n",
    "        \n",
    "#     end\n",
    "# end"
   ]
  },
  {
   "cell_type": "code",
   "execution_count": 38,
   "id": "0b94fd85",
   "metadata": {},
   "outputs": [],
   "source": [
    "# maxes = [minimum(wins[i, :]) for i in 1:nlib]\n",
    "# for i in sortperm(-maxes)\n",
    "#     js = findall(wins[i, :].==minimum(wins[i, :]))\n",
    "#     print(libi[i])\n",
    "#     print(\" \")\n",
    "#     print(libi[js])\n",
    "#     print(\" \")\n",
    "#     println(minimum(wins[i, :])/n_games)\n",
    "# end"
   ]
  },
  {
   "cell_type": "code",
   "execution_count": 39,
   "id": "f4b225d8",
   "metadata": {},
   "outputs": [],
   "source": [
    "# n_games = 100\n",
    "# counts = Array{Int64}(undef, (nlib, nlib)) .* 0\n",
    "# wins = Array{Int64}(undef, (nlib, nlib)) .* 0\n",
    "# a1 = int2ind[121321]\n",
    "# b1 = int2ind[214111]\n",
    "# a_moves = legal_moves(payoffs, [a1], [b1])\n",
    "# for a in a_moves\n",
    "#     b_moves = legal_moves(payoffs, [b1], [a1, a])\n",
    "#     for b in b_moves\n",
    "#         for i in 1:n_games\n",
    "#             a_win, as, bs = play_random_vs_aggro(payoffs, [a1,a], [b1,b])\n",
    "#             counts[a,b] += 1\n",
    "#             if a_win==1\n",
    "#                 wins[a,b] +=1\n",
    "#             end\n",
    "#         end\n",
    "        \n",
    "#     end\n",
    "# end"
   ]
  },
  {
   "cell_type": "code",
   "execution_count": 40,
   "id": "304c5060",
   "metadata": {
    "scrolled": false
   },
   "outputs": [],
   "source": [
    "# maxes = [minimum(wins[i, :]) for i in 1:nlib]\n",
    "# for i in sortperm(-maxes)[1:10]\n",
    "#     if i in a_moves\n",
    "#         wns = wins[i, :]\n",
    "#         cns = counts[i, :]\n",
    "#         min_wins = minimum(wns[cns .> 0])\n",
    "#         js = findall(wns .== min_wins)\n",
    "#         print(libi[i])\n",
    "#         print(\" \")\n",
    "#         print(libi[js])\n",
    "#         print(\" \")\n",
    "#         println(minimum(wins[i, :])/n_games)\n",
    "#     end\n",
    "# end"
   ]
  },
  {
   "cell_type": "code",
   "execution_count": 41,
   "id": "e13580ee",
   "metadata": {},
   "outputs": [
    {
     "name": "stdout",
     "output_type": "stream",
     "text": [
      "121321 {0}. 214111 {0}. \n",
      "213112 {0}. 313111 {0}. \n",
      "312121 {0}. 131212 {2}. \n",
      "131311 {3}. 113122 {3}. \n",
      "131221 {4}. \n"
     ]
    }
   ],
   "source": [
    "# check game lengths\n",
    "a1 = int2ind[121321]\n",
    "b1 = int2ind[214111]\n",
    "a2 = int2ind[213112]\n",
    "b2 = int2ind[313111]\n",
    "a_win, as, bs = play_random_vs_aggro(payoffs, [a1,a2],[b1,b2])\n",
    "display_game(payoffs, as, bs)"
   ]
  },
  {
   "cell_type": "code",
   "execution_count": 42,
   "id": "bef0c14c",
   "metadata": {},
   "outputs": [],
   "source": [
    "# n_games = 1000\n",
    "# counts = Array{Int64}(undef, (nlib, nlib)) .* 0\n",
    "# wins = Array{Int64}(undef, (nlib, nlib)) .* 0\n",
    "# a1 = int2ind[121321]\n",
    "# b1 = int2ind[214111]\n",
    "# a2 = int2ind[213112]\n",
    "# b2 = int2ind[313111]\n",
    "# a_moves = legal_moves(payoffs, [a1,a2], [b1,b2])\n",
    "# for a in a_moves\n",
    "#     b_moves = legal_moves(payoffs, [b1,b2], [a1,a2,a])\n",
    "#     for b in b_moves\n",
    "#         for i in 1:n_games\n",
    "#             a_win, as, bs = play_random_vs_aggro(payoffs, [a1,a2,a], [b1,b2,b])\n",
    "#             counts[a,b] += 1\n",
    "#             if a_win==1\n",
    "#                 wins[a,b] +=1\n",
    "#             end\n",
    "#         end\n",
    "        \n",
    "#     end\n",
    "# end"
   ]
  },
  {
   "cell_type": "code",
   "execution_count": 43,
   "id": "7daf8fd6",
   "metadata": {},
   "outputs": [],
   "source": [
    "# maxes = [minimum(wins[i, :]) for i in 1:nlib]\n",
    "# for i in sortperm(-maxes)[1:10]\n",
    "#     if i in a_moves\n",
    "#         wns = wins[i, :]\n",
    "#         cns = counts[i, :]\n",
    "#         min_wins = minimum(wns[cns .> 0])\n",
    "#         js = findall(wns .== min_wins)\n",
    "#         print(libi[i])\n",
    "#         print(\" \")\n",
    "#         print(libi[js])\n",
    "#         print(\" \")\n",
    "#         println(minimum(wins[i, :])/n_games)\n",
    "#     end\n",
    "# end"
   ]
  },
  {
   "cell_type": "code",
   "execution_count": 44,
   "id": "5c7a7975",
   "metadata": {},
   "outputs": [
    {
     "name": "stdout",
     "output_type": "stream",
     "text": [
      "121321 {0}. 214111 {0}. \n",
      "213112 {0}. 313111 {0}. \n",
      "121321 {0}. 121222 {0}. \n",
      "111133 {1}. 212311 {2}. \n",
      "312121 {2}. 313111 {3}. \n",
      "113212 {4}. 212122 {4}. \n"
     ]
    }
   ],
   "source": [
    "# check game lengths\n",
    "a1 = int2ind[121321]\n",
    "b1 = int2ind[214111]\n",
    "a2 = int2ind[213112]\n",
    "b2 = int2ind[313111]\n",
    "a3 = int2ind[121321]\n",
    "b3 = int2ind[121222]\n",
    "a_win, as, bs = play_random_vs_aggro(payoffs, [a1,a2,a3],[b1,b2,b3])\n",
    "display_game(payoffs, as, bs)"
   ]
  },
  {
   "cell_type": "code",
   "execution_count": 45,
   "id": "1520d269",
   "metadata": {},
   "outputs": [],
   "source": [
    "# n_games = 100\n",
    "# counts = Array{Int64}(undef, (nlib, nlib)) .* 0\n",
    "# wins = Array{Int64}(undef, (nlib, nlib)) .* 0\n",
    "# a1 = int2ind[121321]\n",
    "# b1 = int2ind[214111]\n",
    "# a2 = int2ind[213112]\n",
    "# b2 = int2ind[313111]\n",
    "# a3 = int2ind[121321]\n",
    "# b3 = int2ind[121222]\n",
    "# a_moves = legal_moves(payoffs, [a1,a2,a3], [b1,b2,b3])\n",
    "# for a in a_moves\n",
    "#     b_moves = legal_moves(payoffs, [b1,b2,b3], [a1,a2,a3,a])\n",
    "#     for b in b_moves\n",
    "#         for i in 1:n_games\n",
    "#             a_win, as, bs = play_random_vs_aggro(payoffs, [a1,a2,a3,a], [b1,b2,b3,b])\n",
    "#             counts[a,b] += 1\n",
    "#             if a_win==1\n",
    "#                 wins[a,b] +=1\n",
    "#             end\n",
    "#         end\n",
    "        \n",
    "#     end\n",
    "# end"
   ]
  },
  {
   "cell_type": "code",
   "execution_count": 46,
   "id": "8813d1e4",
   "metadata": {},
   "outputs": [],
   "source": [
    "# maxes = [minimum(wins[i, :]) for i in 1:nlib]\n",
    "# for i in sortperm(-maxes)[1:10]\n",
    "#     if i in a_moves\n",
    "#         wns = wins[i, :]\n",
    "#         cns = counts[i, :]\n",
    "#         min_wins = minimum(wns[cns .> 0])\n",
    "#         js = findall(wns .== min_wins)\n",
    "#         print(libi[i])\n",
    "#         print(\" \")\n",
    "#         print(libi[js])\n",
    "#         print(\" \")\n",
    "#         println(minimum(wins[i, :])/n_games)\n",
    "#     end\n",
    "# end"
   ]
  },
  {
   "cell_type": "code",
   "execution_count": 47,
   "id": "b5aa8ad0",
   "metadata": {},
   "outputs": [
    {
     "name": "stdout",
     "output_type": "stream",
     "text": [
      "121321 {0}. 214111 {0}. \n",
      "213112 {0}. 313111 {0}. \n",
      "121321 {0}. 121222 {0}. \n",
      "113122 {0}. 111133 {2}. \n",
      "112231 {2}. 113221 {2}. \n",
      "212131 {2}. 214111 {3}. \n",
      "121132 {3}. 121312 {4}. \n"
     ]
    }
   ],
   "source": [
    "# check game lengths\n",
    "a1 = int2ind[121321]\n",
    "b1 = int2ind[214111]\n",
    "a2 = int2ind[213112]\n",
    "b2 = int2ind[313111]\n",
    "a3 = int2ind[121321]\n",
    "b3 = int2ind[121222]\n",
    "a4 = int2ind[113122]\n",
    "b4 = int2ind[111133]\n",
    "a_win, as, bs = play_random_vs_aggro(payoffs, [a1,a2,a3,a4],[b1,b2,b3,b4])\n",
    "display_game(payoffs, as, bs)"
   ]
  },
  {
   "cell_type": "markdown",
   "id": "e8dbc8c4",
   "metadata": {},
   "source": [
    "## MCTS"
   ]
  },
  {
   "cell_type": "code",
   "execution_count": 48,
   "id": "867e5215",
   "metadata": {},
   "outputs": [
    {
     "data": {
      "text/plain": [
       "merge_arrs (generic function with 1 method)"
      ]
     },
     "execution_count": 48,
     "metadata": {},
     "output_type": "execute_result"
    }
   ],
   "source": [
    "function intarr_to_string(as::Array{Int64})::String\n",
    "    return join([convert(Char, a+32) for a in as])\n",
    "end\n",
    "\n",
    "function string_to_intarr(s::String)::Array{Int64}\n",
    "    return [convert(Int64, s[i])-32 for i in 1:length(s)]\n",
    "end\n",
    "\n",
    "# s=intarr_to_string([i for i in 1:75])\n",
    "# as=string_to_intarr(s)\n",
    "# for i in as\n",
    "#     print(i)\n",
    "#     print(\" \")\n",
    "# end\n",
    "\n",
    "function split_arrs(zs::Array{Int64})::Tuple{Array{Int64},Array{Int64}}\n",
    "    if mod(length(zs), 2)==0\n",
    "        return (zs[1:2:(end-1)], zs[2:2:end])\n",
    "    else\n",
    "        return (zs[1:2:end], zs[2:2:(end-1)])\n",
    "    end\n",
    "end\n",
    "\n",
    "function merge_arrs(as::Array{Int64}, bs::Array{Int64})::Array{Int64}\n",
    "    zs = Array{Int64}(undef, length(as)+length(bs))\n",
    "    if mod(length(zs), 2)==0\n",
    "        zs[1:2:(end-1)]=as\n",
    "        zs[2:2:end]=bs\n",
    "    else\n",
    "        zs[1:2:end] = as\n",
    "    zs[2:2:(end-1)] = bs\n",
    "    end\n",
    "    return zs\n",
    "end"
   ]
  },
  {
   "cell_type": "code",
   "execution_count": 262,
   "id": "c7c17d52",
   "metadata": {},
   "outputs": [
    {
     "data": {
      "text/plain": [
       "get_children (generic function with 1 method)"
      ]
     },
     "execution_count": 262,
     "metadata": {},
     "output_type": "execute_result"
    }
   ],
   "source": [
    "function propagate_win(tree::Dict{String, Vector{Int64}}, leaf::String, win::Int64)::Dict{String, Vector{Int64}}\n",
    "    for i in 0:length(leaf)\n",
    "        if i==0\n",
    "            node=\"\"\n",
    "        else\n",
    "            node=leaf[1:i]\n",
    "        end\n",
    "        tree[node][2] += 1\n",
    "        tree[node][1] += win\n",
    "    end\n",
    "    return tree\n",
    "end\n",
    "\n",
    "function append_move_to_leaf(leaf::String, move::Int64)::String\n",
    "    zs = string_to_intarr(leaf)\n",
    "    append!(zs, move)\n",
    "    return intarr_to_string(zs)\n",
    "end\n",
    "\n",
    "function get_children(payoffs::Array{Int64}, leaf::String)::Array{String}\n",
    "    # get arrays\n",
    "    as, bs = split_arrs(string_to_intarr(leaf))\n",
    "    if mod(length(leaf), 2)==0\n",
    "        player = 1\n",
    "    else\n",
    "        player = 2\n",
    "    end\n",
    "    # generate successors\n",
    "    if player==1\n",
    "        cands = legal_moves(payoffs, as, bs)\n",
    "    else\n",
    "        cands = legal_moves(payoffs, bs, as)\n",
    "    end\n",
    "    return [append_move_to_leaf(leaf, c) for c in cands]\n",
    "end"
   ]
  },
  {
   "cell_type": "code",
   "execution_count": 263,
   "id": "2f852ead",
   "metadata": {},
   "outputs": [
    {
     "data": {
      "text/plain": [
       "check_and_propagate_terminal (generic function with 1 method)"
      ]
     },
     "execution_count": 263,
     "metadata": {},
     "output_type": "execute_result"
    }
   ],
   "source": [
    "function check_and_propagate_terminal(payoffs::Array{Int64}, tree::Dict{String, Vector{Int64}}, leaf::String)::Dict{String, Vector{Int64}}\n",
    "    children = get_children(payoffs, leaf)\n",
    "    if length(children) == 0\n",
    "        # indicate terminal\n",
    "        tree[leaf][3]=1\n",
    "        if mod(length(leaf), 2)==0\n",
    "            #p1 lost\n",
    "            tree = propagate_win(tree, leaf, 0)\n",
    "        else\n",
    "            #p1 won\n",
    "            tree = propagate_win(tree, leaf, 1)\n",
    "        end\n",
    "    end\n",
    "    return tree\n",
    "end"
   ]
  },
  {
   "cell_type": "code",
   "execution_count": 264,
   "id": "522db1cb",
   "metadata": {},
   "outputs": [
    {
     "data": {
      "text/plain": [
       "query_node (generic function with 1 method)"
      ]
     },
     "execution_count": 264,
     "metadata": {},
     "output_type": "execute_result"
    }
   ],
   "source": [
    "function try_add_node(tree::Dict{String, Vector{Int64}}, node::String)::Dict{String, Vector{Int64}}\n",
    "    if haskey(tree, node)\n",
    "        return tree\n",
    "    else\n",
    "        tree[node] = [0,0,0]\n",
    "        return tree\n",
    "    end\n",
    "end\n",
    "\n",
    "function query_node(tree, node)::Array{Int64}\n",
    "    if haskey(tree, node)\n",
    "        return tree[node]\n",
    "    else\n",
    "        return [0,0,0]\n",
    "    end\n",
    "end"
   ]
  },
  {
   "cell_type": "code",
   "execution_count": 265,
   "id": "c740ead6",
   "metadata": {},
   "outputs": [
    {
     "data": {
      "text/plain": [
       "expand_leaf (generic function with 2 methods)"
      ]
     },
     "execution_count": 265,
     "metadata": {},
     "output_type": "execute_result"
    }
   ],
   "source": [
    "function expand_leaf(\n",
    "        payoffs::Array{Int64}, tree::Dict{String, Vector{Int64}}, leaf::String)::Dict{String, Vector{Int64}}\n",
    "    # check if leaf is terminal\n",
    "    tree = check_and_propagate_terminal(payoffs, tree, leaf)\n",
    "    if tree[leaf][3]==1\n",
    "        return tree\n",
    "    end\n",
    "    # get arrays for leaf\n",
    "    as, bs = split_arrs(string_to_intarr(leaf))\n",
    "    if mod(length(leaf), 2)==0\n",
    "        player = 1\n",
    "    else\n",
    "        player = 2\n",
    "    end\n",
    "    # generate random successor\n",
    "    if player==1\n",
    "        cands = legal_moves(payoffs, as, bs)\n",
    "        newleaf = append_move_to_leaf(leaf, rand(cands))\n",
    "    else\n",
    "        cands = legal_moves(payoffs, bs, as)\n",
    "        newleaf = append_move_to_leaf(leaf, rand(cands))\n",
    "    end\n",
    "    try_add_node(tree, newleaf)\n",
    "    # play the match\n",
    "    as, bs = split_arrs(string_to_intarr(newleaf))\n",
    "    a_win, as2, bs2 = play_random_vs_aggro(payoffs, as, bs)\n",
    "    # propagate result\n",
    "    if a_win == 1\n",
    "        tree = propagate_win(tree, newleaf, 1)\n",
    "    else\n",
    "        tree = propagate_win(tree, newleaf, 0)\n",
    "    end\n",
    "    return tree\n",
    "end\n"
   ]
  },
  {
   "cell_type": "code",
   "execution_count": 266,
   "id": "be7b9e27",
   "metadata": {},
   "outputs": [
    {
     "data": {
      "text/plain": [
       "sample_next_node (generic function with 2 methods)"
      ]
     },
     "execution_count": 266,
     "metadata": {},
     "output_type": "execute_result"
    }
   ],
   "source": [
    "function sample_next_node(\n",
    "        payoffs::Array{Int64}, tree::Dict{String, Vector{Int64}}, node::String, \n",
    "        explore_const::Float64=1.4)::String\n",
    "    # values for UCT\n",
    "    n = tree[node][2]\n",
    "    # assumes that all children are added\n",
    "    children = get_children(payoffs, node)\n",
    "    counts = [query_node(tree, c)[2] for c in children]\n",
    "    wins = [query_node(tree, c)[1] for c in children]\n",
    "    if minimum(counts) == 0\n",
    "        sel = children[rand(findall(counts .== 0))]\n",
    "        return sel\n",
    "    end\n",
    "    if mod(length(node), 2)==1\n",
    "        wins = counts .- wins\n",
    "    end\n",
    "    scores = counts .* 0.0\n",
    "    for i in 1:length(scores)\n",
    "        if counts[i] > 0\n",
    "            scores[i] = wins[i]/counts[i] + explore_const * sqrt((log(n)/counts[i]))\n",
    "        end\n",
    "    end\n",
    "    sel = children[rand(findall(scores .== maximum(scores)))]\n",
    "    return sel\n",
    "end"
   ]
  },
  {
   "cell_type": "code",
   "execution_count": 267,
   "id": "41607172",
   "metadata": {},
   "outputs": [
    {
     "data": {
      "text/plain": [
       "random_leaf (generic function with 3 methods)"
      ]
     },
     "execution_count": 267,
     "metadata": {},
     "output_type": "execute_result"
    }
   ],
   "source": [
    "function random_leaf(payoffs::Array{Int64}, tree::Dict{String, Vector{Int64}}, node::String=\"\")::String\n",
    "    while query_node(tree,node)[2] > 1 && query_node(tree,node)[3] != 1\n",
    "        node = sample_next_node(payoffs, tree, node)\n",
    "    end\n",
    "    return node\n",
    "end"
   ]
  },
  {
   "cell_type": "code",
   "execution_count": 268,
   "id": "56802484",
   "metadata": {},
   "outputs": [
    {
     "data": {
      "text/plain": [
       "display_choices (generic function with 1 method)"
      ]
     },
     "execution_count": 268,
     "metadata": {},
     "output_type": "execute_result"
    }
   ],
   "source": [
    "function display_node(payoffs::Array{Int64}, tree::Dict{String, Vector{Int64}}, node::String)\n",
    "    print(\"Node: \")\n",
    "    println(node)\n",
    "    as, bs = split_arrs(string_to_intarr(node))\n",
    "    display_game(payoffs, as, bs)\n",
    "    print(\"Stats: \")\n",
    "    print(query_node(tree,node)[1])\n",
    "    print(\"/\")\n",
    "    print(query_node(tree,node)[2])\n",
    "    print(\"=\")\n",
    "    s = string(query_node(tree,node)[1]/query_node(tree,node)[2])\n",
    "    println(s[1:min(5, length(s))])\n",
    "    if query_node(tree,node)[3]==1\n",
    "        println(\"[terminal] \")\n",
    "    end\n",
    "end\n",
    "\n",
    "function display_path(payoffs::Array{Int64}, tree::Dict{String, Vector{Int64}}, leaf::String)\n",
    "    for i in 0:length(leaf)\n",
    "        if i==0\n",
    "            display_node(payoffs, tree, \"\")\n",
    "        else\n",
    "            display_node(payoffs, tree, leaf[1:i])\n",
    "        end\n",
    "        println()\n",
    "    end\n",
    "end\n",
    "\n",
    "function display_choices(payoffs::Array{Int64}, tree::Dict{String, Vector{Int64}}, node::String)\n",
    "    children = get_children(payoffs, node)\n",
    "    display_node(payoffs, tree, node)\n",
    "    for c in children\n",
    "        println()\n",
    "        display_node(payoffs, tree, c)\n",
    "    end\n",
    "end"
   ]
  },
  {
   "cell_type": "code",
   "execution_count": 269,
   "id": "0e01aeb9",
   "metadata": {},
   "outputs": [
    {
     "data": {
      "text/plain": [
       "Dict{String, Vector{Int64}} with 1 entry:\n",
       "  \"\" => [0, 0, 0]"
      ]
     },
     "execution_count": 269,
     "metadata": {},
     "output_type": "execute_result"
    }
   ],
   "source": [
    "#tree = load_object(\"beatn10_tree.jld2\")\n",
    "\n",
    "tree = Dict(\"\" => [0,0,0])\n"
   ]
  },
  {
   "cell_type": "code",
   "execution_count": 270,
   "id": "c09a8840",
   "metadata": {},
   "outputs": [
    {
     "data": {
      "text/plain": [
       "Dict{String, Vector{Int64}} with 2 entries:\n",
       "  \"@\" => [0, 1, 0]\n",
       "  \"\"  => [0, 1, 0]"
      ]
     },
     "execution_count": 270,
     "metadata": {},
     "output_type": "execute_result"
    }
   ],
   "source": [
    "tree = expand_leaf(payoffs, tree, \"\")"
   ]
  },
  {
   "cell_type": "code",
   "execution_count": 271,
   "id": "d1446ae2",
   "metadata": {},
   "outputs": [
    {
     "data": {
      "text/plain": [
       "\"\""
      ]
     },
     "execution_count": 271,
     "metadata": {},
     "output_type": "execute_result"
    }
   ],
   "source": [
    "node = random_leaf(payoffs, tree, \"\")"
   ]
  },
  {
   "cell_type": "code",
   "execution_count": null,
   "id": "180fcb54",
   "metadata": {},
   "outputs": [
    {
     "name": "stdout",
     "output_type": "stream",
     "text": [
      "HP$8..HYNV..H\\5N..H9`Q..HT#%..HT>I..HRSY..HLV_..HL3G..HLFB..HL5a..HLZb..HLPC..HL2&..HLdj..HL>L..HLiW.\n",
      "..ii0^..ii0)..ii-j..iiLF..iiL9..iiD4..iiD>..iiUf..iiIN..ii&V..ii\"X..ii4K..ii=A..iiCO..ii6U..4C(..Z)7.\n",
      "i/55..i/Qf..i/bR..i[Ha..i[0F..i[&4..i[?\\..i[Z=..i[Cf..i[XJ..i['2..i[4`..i[(4..i[$b..i[+7..i[:C..i[FO.\n",
      ".iiH&..iiH8..iHccX..iHcb\\..iHcaA..iHc4E..iHc8=..iH04..iH7i..iHW&..iHQ'..iHZK..iH=A..iH5J..iH]9..iHhQ.\n",
      "ci]..TcaY..TKa..TKT..TKY..TKJ..TK!..T1\"Q..TBD,..TB[E..TH-#..TH-)..TH,1..TcaG..TcJH..Tc8W..Th2M..Th>+.\n",
      "CiP..H6bJ..HHGh..HO[:..HOHZ..HDb?..Hc`EG..HS>R..H\"D(..HjaR..Hjg0..HGaB..H[cN..H[i@..H[BR..H[T4..H[8=.\n",
      "cP%c..cP/?..cPB(..cP_J..c[.A..c[*0..c@^a..c@N!..cjeI..cj^9..cjf:..c)QC..cj:C..cj2@..cjZV..c5<I..c5#%.\n",
      "c&]7..c&J4..c&M=..c&_;..c&!G..c&NO..c&#L..c&Kb..c&a;..c&^;..c&g^..c&9=..c&YC..c&/2..c&<U..c&dE..c&I,.\n",
      "cc+G..cc$h..cc1C..cc,H..cc7V..ccTF..ccTb..cc:h..ccdK..ccNC..ccVU..cci2..ccf9..ccid..cc`T..cc[[..cciB.\n",
      "\"\">..ciRG..ci)8>..ciHS7..ciHAX..ciIFB..ciHAa..ciH::..ci*UZ..ci+i..ci+Q..ci+d..ci+f..ci+E..ci+R..ci+,.\n",
      ">FW..ciH%L..c@\"i..c@Gg..c@E'..c@(G..c@N-..c@LI..c@D)..c@gT..c@L!..c@U&..c@NQ..c@*c..c@9c..c@N9..c@LG.\n",
      "Z..c\"*1..c\"*Z..c8IBD..c8iX..c`NZ..c`N$..c`*,..c`*g..cIB:E..cI)_..c7E;..cg(\\..c?\"%`..cCG!..cCi?..c@QZ.\n",
      "..c=Y7..cfHb..ciH<E..ciH<@..ciH<i..ciHi?..cNiU..cN!1..cN/0..cNCV..cNCF..cN&`..cNXV..cNEj..cNE2..cNE'.\n",
      "Hd?..THdD..T#cT..T#dK..T!Y..T!X..T!...T!h..T![..T!U..T!'..T!+..>EMG..ciiIA..cii9;..ciHT=..<S\\..HiTMC.\n",
      "..HiQ<*..H\"%]..H\"%6..H\"#%..H\".=..H\"f[..H\"DN..H\"D'..H\"D%..HciID..Hca=)..HHUg..HHMO..HH%4..HH%U..HHG;F.\n",
      "i,dK..i(h`..i(LD..i(Ua..i(RI..i(G6..i(6b..i9\"#..iJ9H..iJ?2..iR$5..iR0$..iRf1..iR2;..iR*c..iRJI..iR+9.\n",
      "ifbB..iaB*..iaHN..iaS\"..iaSj..iacN..iacK..iTH+..iiC:..iND%..iMbJ..i.T7..iL`$..iQH-..ig?B..ig_j..igL%.\n",
      "5=..i@^3..i@\\0..i@d:..i@_9..i@Id..i@OP..i@HN..i@LP..iiH.=..i\"HgS..iLS5..iL8N..iL`,..iLb^..iLgi..iLc].\n",
      "i0UO..i0<?..i0/R..i0&a..i0cO..i0N8..i0Ij..i0f%..i0C-..i0SM..i0H&..i0`Q..i06W..i0?G..i0!_..i0AJ..i0J;.\n",
      "3i..`EL5..`jP..`*P..`*6..`*8..B8Y[..ciBR..i+BJ..i+BT..i+(1..8+)..NiOS..>F@..>F,..>&[4..>I3..>0?..>P9.\n",
      ",7..iD;N..iD$c..iD]!..iDT7..iDKh..iD\"!..iD\"+..iD<c..iDW)..iD3a..iD3i..iD*/..iD*^..iHD=3..iHD0/..iBg4.\n",
      "i*/E..i*i;..i*JD..i*2I..i*5`..i*56..i*@Y..i*@W..i*@$..i*@U..i*>d..i*>H..i*>e..i5aL..i59%..i5Cf..i5CB.\n",
      "Sa..i\"Hi:..i\">=..i\"36..i\"[`b..i\"=#..i\"=d..i\"63..i\"Wa..i\"W7..i\"W+..i\"W*..i\"W9..i\"WT..i\"WF..ihT)..iZGY.\n",
      "ciIS<..ci[*0..ci[Lh..ci[dL..ci[P...ci[:(..ci[Z2..ci[8?..ci[cL..ci[2@..ci[SO..ci[H[..ciTW<..Hc0Q..,f4.\n",
      "iGZi..iG#>..iG0L..iGG6..iGG1..iGG*..iGG@..iGGi..iG\"d..iG\"C..iGIR..iGh0..iGNR..iGKY..iGK>..iGJR..iG@M.\n",
      "b)2..HYYj..HY&c..HY<E..HYD;..HYJe..HYVV..HY16..HLbj..HLB\\..Hb&F..Hb,Z..Hci<G..H8]5..HZL;..HZ?5..HY\"C.\n",
      "iLTP..iLTZ..iLM(..iLic..iLiY..iLGf..iLIS..iLEj..iLCO..iLZD..iLag..iLgj..iL'Z..iL?M..iL;J..iL9>..iL94.\n",
      "2..:Hj:..:\"f..:\"/..:\"i..:\"+..:\"j..:\"[..:F<&..:FLW..:Fi:..:fS..:1V..:1Y..:*J..:*-..:*9..:]N..:]L..:^Z.\n",
      "6`L..\"cV4..U;A..9a0..icI^9..HiU\\a..6[/..6&/..6H?..6GH..6HP..6H8..6HS..6]T..6X(..6XI..6X'..6i?\"..6iP[.\n",
      "i\"R\\..iUH&e..ii\"C>..iQU^..iQHIf..iO:]..i`B#`..iHEM&..i[d6..iZ5b..iWaB..iIc%/..i]V...i2#b..i2VK..ih\\0.\n",
      "+`..i`8eX..i`SBM..i`Q(5..i`Q<G..i`Qj>..i`Q1;..i`QV?..i`QM\\..i`Q&4..i`QTP..i`Q\"$..i`Q9S..i`QFI..i`QZU.\n",
      "..Z,/..ZiUB..ZibG..ZiXg..Zi;J..ZH?c..ZHD0..ZQT..ZE>..ZDN)..Z#4..Z#_..ZOP..ZO(..ZOY..ZcY&..ZcEL..ZcO>.\n",
      "bU..iiHb...i)8S..ihHA..iF!S..i7a>..i!,\"..i!-2..i!VR..i!$P..i!.=..i!<+..i!JZ..i!fd..i!H*..i!jX..iHT@[.\n",
      ">@..iiGi9..iiR4N..iiL2U..iiL:B..iiEc)..iiH>_..ii51^..iiL5\"..iiL;Q..iiL(5..iiL#'..iiLT%..iiL\"f..iiLWX.\n",
      "5..icH*_..icH*...icH*\\..icH\"`;..icH\"a?..icH#2..icH#b..iiG%2..iiG%c..iiG%d..iiGAH..ibH7c..i=?*..iHcd0.\n",
      ">]..Hi;[b..HiV?W..Hi:EG..Hi@HC..Hi`T4..HiT;5..HibQ[..Hib@U..Hib<&..Hi>W*..Hi>$=..Hi>AD..Hi>M5..Hi>eW.\n",
      ";W..iiG:_..iiG:C..iiG>E..iiGET..iiGED..iiGE9..iiGEX..iiG/K..iiG/$..iiGaC..iiGa[..iiGMV..iiGMY..iiGM!.\n",
      "D..ii,03..ii,F-..ii,DT..ii,;c..ii,\"Z..ii,d`..ii,J3..ii,a:..ii,I&..iAN\"..iOBT..ij\":..ij56..ij;/..ijG-.\n",
      "H?T..gD8..gDiQ..g*O..g*!..g8O..g8M..g8=..g8$..g8A..g8b..g8(..g89..g8G..g8Y..g8F..g8W..g8D..g8E..g82a.\n",
      "..H?+/..H?C&..H?X#..H?X6..H?XN..H?.#..HHeU..HHeF..HHe?..HH]7..HH56..HHSO^..HHSE2..HHSC+..HCL4..Hc`\"H.\n",
      "FLQ..HFHN..HF`J1..HFab..HFa:..H=R4..HIXC..HU!C..HU>^..HU#_..HU#'..HU\\]..HU\\C..HUBh..HU7a..HU40..HU4D.\n",
      ":TU\\..:&d^..:&fi..:&j7..:[_..:[E..:[(..:'9..:'/..:'f..:iaG..:i+D..:i*i..:`5]..:`&*..:`_c..:`4N..:`id.\n",
      "S..i`?MR..cHIRd..dB\\c..+GK..HiaE3..i`cE3..i`cFb..i`cRS..i`cBC..i`JG6..$Eg..\"cK\\..i`BH0]../L6..cH\"aHI.\n",
      "OF..KI6..K<Y..Kgf..KYc..K!(..K!Q..K!6..KGUX..KH_`..KB,..KC7..KFG..K8M..K`bd..K8H..KC@..KcL..K6A..K6Q.\n",
      "i`8bJ..Hi`U7/..Hi`B8;..Hi`T)`..Hi`T-9..Hi`TGh..Hi`@+]..Hi`=c@..Hi`PRS..Hi`?P..HN)h..H<cM..Ha\"\\..Hab<.\n",
      "..Hi`<#/..Hi`<UE..Hi`<NS..Hi`<H=..Hi`BMI..H`aHZO..HHE[..Hh:$..Hh]A..Hi`O%..HBH]4..HBH]J..HF,g..Hc`7O.\n",
      "!\"..HiYhV..HiY,:..HiYPH..HiY\\O..HiY)/..HiY->..HiYT2..HiY5=..HiYHR..HiY[:..HiY&a..HiYKM..HiYE2..HiY;=.\n"
     ]
    }
   ],
   "source": [
    "for metaiter in 1:100\n",
    "    s = \"\"\n",
    "    for iter in 1:10000\n",
    "        s = string(s,\".\")\n",
    "        node = random_leaf(payoffs, tree, \"\")\n",
    "        try_add_node(tree, node)\n",
    "        s = string(s, node, \".\")\n",
    "        tree = expand_leaf(payoffs, tree, node)\n",
    "    end\n",
    "    println(s[end-100:end])\n",
    "    save_object(\"beatn10_tree.jld2\", tree)\n",
    "end"
   ]
  },
  {
   "cell_type": "code",
   "execution_count": 377,
   "id": "49f53b95",
   "metadata": {},
   "outputs": [
    {
     "data": {
      "text/plain": [
       "\"G<.\""
      ]
     },
     "execution_count": 377,
     "metadata": {},
     "output_type": "execute_result"
    }
   ],
   "source": [
    "node = random_leaf(payoffs, tree, \"\")"
   ]
  },
  {
   "cell_type": "code",
   "execution_count": 378,
   "id": "5b275c3b",
   "metadata": {
    "scrolled": false
   },
   "outputs": [
    {
     "name": "stdout",
     "output_type": "stream",
     "text": [
      "Node: \n",
      "Stats: 121315/295001=0.411\n",
      "\n",
      "Node: G\n",
      "121312 {0}. \n",
      "Stats: 1394/3480=0.400\n",
      "\n",
      "Node: G<\n",
      "121312 {0}. 113221 {0}. \n",
      "Stats: 14/24=0.583\n",
      "\n",
      "Node: G<1\n",
      "121312 {0}. 113221 {0}. \n",
      "112141 {0}. \n",
      "Stats: 0/0=NaN\n",
      "\n"
     ]
    }
   ],
   "source": [
    "node = random_leaf(payoffs, tree, \"\")\n",
    "display_path(payoffs, tree, node)"
   ]
  },
  {
   "cell_type": "code",
   "execution_count": 379,
   "id": "226303a8",
   "metadata": {},
   "outputs": [
    {
     "data": {
      "text/plain": [
       "538893"
      ]
     },
     "execution_count": 379,
     "metadata": {},
     "output_type": "execute_result"
    }
   ],
   "source": [
    "length(tree)"
   ]
  },
  {
   "cell_type": "code",
   "execution_count": 355,
   "id": "1e9b4e21",
   "metadata": {},
   "outputs": [],
   "source": []
  },
  {
   "cell_type": "code",
   "execution_count": 62,
   "id": "a45e96e2",
   "metadata": {},
   "outputs": [],
   "source": [
    "# node = \"\"\n",
    "# while tree[node][2] > 1 && tree[node][3] != 1\n",
    "#     node = sample_next_node(payoffs, tree, node)\n",
    "#     display_leaf(payoffs, tree, node)\n",
    "#     println()\n",
    "# end\n"
   ]
  },
  {
   "cell_type": "code",
   "execution_count": 63,
   "id": "0e197833",
   "metadata": {
    "scrolled": false
   },
   "outputs": [],
   "source": [
    "#display_choices(payoffs, tree, \"HG`i\\\"\")"
   ]
  },
  {
   "cell_type": "code",
   "execution_count": null,
   "id": "9e886543",
   "metadata": {},
   "outputs": [],
   "source": []
  }
 ],
 "metadata": {
  "kernelspec": {
   "display_name": "Julia 1.9.3",
   "language": "julia",
   "name": "julia-1.9"
  },
  "language_info": {
   "file_extension": ".jl",
   "mimetype": "application/julia",
   "name": "julia",
   "version": "1.9.3"
  }
 },
 "nbformat": 4,
 "nbformat_minor": 5
}

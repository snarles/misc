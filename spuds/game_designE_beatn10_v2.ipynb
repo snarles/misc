{
 "cells": [
  {
   "cell_type": "markdown",
   "id": "052be005",
   "metadata": {},
   "source": [
    "Beat-n game with 10 pt limit"
   ]
  },
  {
   "cell_type": "markdown",
   "id": "72817bb1",
   "metadata": {},
   "source": [
    "## Spud code"
   ]
  },
  {
   "cell_type": "code",
   "execution_count": 1,
   "id": "494818e8",
   "metadata": {},
   "outputs": [],
   "source": [
    "using Random\n",
    "using DataFrames\n",
    "using CSV\n",
    "using DelimitedFiles\n",
    "using Statistics\n",
    "using Printf\n",
    "using LinearAlgebra\n",
    "using Dates\n",
    "using JLD2"
   ]
  },
  {
   "cell_type": "code",
   "execution_count": 2,
   "id": "45e21e7f",
   "metadata": {},
   "outputs": [],
   "source": [
    "struct Spud\n",
    "    name::String\n",
    "    h::Int64\n",
    "    f::Int64\n",
    "    l::Int64\n",
    "    p::Int64\n",
    "    r::Int64\n",
    "    s::Int64\n",
    "    a1::Int64\n",
    "end"
   ]
  },
  {
   "cell_type": "code",
   "execution_count": 3,
   "id": "950e076e",
   "metadata": {},
   "outputs": [
    {
     "data": {
      "text/plain": [
       "1"
      ]
     },
     "execution_count": 3,
     "metadata": {},
     "output_type": "execute_result"
    }
   ],
   "source": [
    "const MXV = 9\n",
    "const MNV = 1"
   ]
  },
  {
   "cell_type": "code",
   "execution_count": 4,
   "id": "ac830f74",
   "metadata": {},
   "outputs": [
    {
     "data": {
      "text/plain": [
       "eval_melee (generic function with 3 methods)"
      ]
     },
     "execution_count": 4,
     "metadata": {},
     "output_type": "execute_result"
    }
   ],
   "source": [
    "function compare_int_list(as::Vector{Int64}, bs::Vector{Int64}, tiebreaker::Int64 = 0)::Int64\n",
    "    n = min(length(as), length(bs))\n",
    "    for i in 1:n\n",
    "        if as[i] != bs[i]\n",
    "            return sign(as[i] - bs[i])\n",
    "        end\n",
    "    end\n",
    "    return tiebreaker\n",
    "end\n",
    "\n",
    "function spud_h_seq(a::Spud)::Vector{Int64}\n",
    "    return [a.h, a.s, a.r, a.p, a.l, a.f]\n",
    "end\n",
    "\n",
    "function spud_f_seq(a::Spud)::Vector{Int64}\n",
    "    return [a.f, a.s, a.r, a.p, a.l, a.h]\n",
    "end\n",
    "\n",
    "function spud_l_seq(a::Spud)::Vector{Int64}\n",
    "    return [a.l]\n",
    "end\n",
    "\n",
    "function spud_p_seq(a::Spud)::Vector{Int64}\n",
    "    return [a.p, a.l]\n",
    "end\n",
    "\n",
    "function spud_r_seq(a::Spud)::Vector{Int64}\n",
    "    return [a.r, a.f]\n",
    "end\n",
    "\n",
    "function spud_s_seq(a::Spud)::Vector{Int64}\n",
    "    return [a.s, a.h]\n",
    "end\n",
    "\n",
    "function spud_utb_seq(a::Spud)::Vector{Int64}\n",
    "    return [a.a1, a.h, a.f, a.l, a.p, a.r, a.s]\n",
    "end\n",
    "\n",
    "function eval_finds(a::Spud, b::Spud, tiebreaker::Int64 = 0)::Int64\n",
    "    ev = compare_int_list(spud_f_seq(a), spud_h_seq(b), tiebreaker)\n",
    "    ans = ev\n",
    "end\n",
    "\n",
    "function eval_melee(a::Spud, b::Spud, tiebreaker1::Int64 = 0, tiebreaker2::Int64 = 0)::Int64\n",
    "    comp_p = compare_int_list(spud_p_seq(a), spud_p_seq(b), tiebreaker1)\n",
    "    comp_r = compare_int_list(spud_r_seq(a), spud_r_seq(b), tiebreaker1)\n",
    "    comp_s = compare_int_list(spud_s_seq(a), spud_s_seq(b), tiebreaker1)\n",
    "    ev = 4 * comp_p + 3 * comp_r + 2 * comp_s\n",
    "    return sign(ev + (1-abs(ev))*tiebreaker2)\n",
    "end\n",
    "\n"
   ]
  },
  {
   "cell_type": "code",
   "execution_count": 5,
   "id": "f603612d",
   "metadata": {},
   "outputs": [
    {
     "data": {
      "text/plain": [
       "eval_battle (generic function with 1 method)"
      ]
     },
     "execution_count": 5,
     "metadata": {},
     "output_type": "execute_result"
    }
   ],
   "source": [
    "\n",
    "\n",
    "function eval_battle(a::Spud, b::Spud)::Int64\n",
    "    utb = compare_int_list(spud_utb_seq(a), spud_utb_seq(b), 0) # universal tiebreaker\n",
    "    if utb == 0\n",
    "        return 0\n",
    "    end\n",
    "    a_finds = eval_finds(a, b, utb)==1\n",
    "    b_finds = eval_finds(b, a, utb)==1\n",
    "    melee_win = eval_melee(a, b, 0, 0)\n",
    "    luck_win = compare_int_list([a.l, melee_win], [b.l, -melee_win], 0)\n",
    "    if melee_win ==1 && luck_win ==1\n",
    "        return 1\n",
    "    end\n",
    "    if melee_win == -1 && luck_win == -1\n",
    "        return -1\n",
    "    end\n",
    "    if a_finds && b_finds\n",
    "        return melee_win\n",
    "    end\n",
    "    if a_finds && !b_finds\n",
    "        return 1\n",
    "    end\n",
    "    if !a_finds && b_finds\n",
    "        return -1\n",
    "    end\n",
    "    if !a_finds && !b_finds\n",
    "        return luck_win\n",
    "    end\n",
    "end"
   ]
  },
  {
   "cell_type": "code",
   "execution_count": 6,
   "id": "560e9539",
   "metadata": {},
   "outputs": [
    {
     "data": {
      "text/plain": [
       "df_to_spuds (generic function with 1 method)"
      ]
     },
     "execution_count": 6,
     "metadata": {},
     "output_type": "execute_result"
    }
   ],
   "source": [
    "function eval_battle_list(a::Spud, bs::Array{Spud})::Int\n",
    "    score = 0\n",
    "    for ii in 1:length(bs)\n",
    "        score = score + eval_battle(a, bs[ii])\n",
    "    end\n",
    "    return score\n",
    "end\n",
    "\n",
    "function eval_battle_list2(a::Spud, bs::Array{Spud}, w::Vector{Float64})::AbstractFloat\n",
    "    score = 0.0\n",
    "    for ii in 1:length(bs)\n",
    "        score = score + w[ii] * eval_battle(a, bs[ii])\n",
    "    end\n",
    "    return score\n",
    "end\n",
    "\n",
    "function spuds_to_df(as::Array{Spud})::DataFrame\n",
    "    names = Array{String}(undef, length(as))\n",
    "    hs = Array{Int}(undef, length(as))\n",
    "    fs = Array{Int}(undef, length(as))\n",
    "    ls = Array{Int}(undef, length(as))\n",
    "    ps = Array{Int}(undef, length(as))\n",
    "    rs = Array{Int}(undef, length(as))\n",
    "    ss = Array{Int}(undef, length(as))\n",
    "    a1s = Array{Int}(undef, length(as))\n",
    "    for ii in 1:length(as)\n",
    "        names[ii] = as[ii].name\n",
    "        hs[ii] = as[ii].h\n",
    "        fs[ii] = as[ii].f\n",
    "        ls[ii] = as[ii].l\n",
    "        ps[ii] = as[ii].p\n",
    "        rs[ii] = as[ii].r\n",
    "        ss[ii] = as[ii].s\n",
    "        a1s[ii] = as[ii].a1\n",
    "    end\n",
    "    df = DataFrame(name = names, h = hs, f = fs, l = ls, p = ps, r = rs, s = ss, a1 = a1s)\n",
    "    return df\n",
    "end\n",
    "\n",
    "function fpart(x::AbstractFloat)::AbstractFloat\n",
    "  return x - trunc(x)\n",
    "end\n",
    "\n",
    "# for legacy dfs without abilities\n",
    "function df_to_spuds0(df::DataFrame)::Array{Spud}\n",
    "    n = size(df)[1]\n",
    "    as = Array{Spud}(undef, n)\n",
    "    for i in 1:n\n",
    "        as[i] = Spud(df[i, :name], df[i, :h], df[i, :f], df[i, :l], df[i, :p], df[i, :r], df[i, :s], ability_none)\n",
    "    end\n",
    "    return as\n",
    "end\n",
    "\n",
    "function df_to_spuds(df::DataFrame)::Array{Spud}\n",
    "    n = size(df)[1]\n",
    "    as = Array{Spud}(undef, n)\n",
    "    for i in 1:n\n",
    "        as[i] = Spud(df[i, :name], df[i, :h], df[i, :f], df[i, :l], df[i, :p], df[i, :r], df[i, :s], df[i, :a1])\n",
    "    end\n",
    "    return as\n",
    "end\n",
    "\n"
   ]
  },
  {
   "cell_type": "markdown",
   "id": "66e71132",
   "metadata": {},
   "source": [
    "## Get spuds with cost 10 and filter nondominated"
   ]
  },
  {
   "cell_type": "code",
   "execution_count": 7,
   "id": "638f1e65",
   "metadata": {},
   "outputs": [
    {
     "data": {
      "text/plain": [
       "get_library (generic function with 2 methods)"
      ]
     },
     "execution_count": 7,
     "metadata": {},
     "output_type": "execute_result"
    }
   ],
   "source": [
    "function get_library(cost, n_init = 10000)\n",
    "    ffs = Array{Spud}(undef, n_init)\n",
    "    ff_i = 0\n",
    "    hrange = MNV:MXV\n",
    "    frange = MNV:MXV\n",
    "    lrange = MNV:MXV\n",
    "    prange = MNV:MXV\n",
    "    rrange = MNV:MXV\n",
    "    srange = MNV:MXV\n",
    "    for h in hrange\n",
    "        for f in frange\n",
    "            for l in lrange\n",
    "                for p in prange\n",
    "                    for r in rrange\n",
    "                        for s in srange\n",
    "                            if (h+f+l+p+r+s == cost)\n",
    "                                ff = Spud(\"\", h,f,l,p,r,s,999)\n",
    "                                ff_i += 1\n",
    "                                ffs[ff_i] = ff\n",
    "                            end\n",
    "                        end\n",
    "                    end                        \n",
    "                end                        \n",
    "            end\n",
    "        end\n",
    "    end\n",
    "    ffs = ffs[1:ff_i]\n",
    "    return unique(ffs)\n",
    "end"
   ]
  },
  {
   "cell_type": "code",
   "execution_count": 8,
   "id": "64d0dd3e",
   "metadata": {},
   "outputs": [
    {
     "data": {
      "text/plain": [
       "126-element Vector{Spud}:\n",
       " Spud(\"\", 1, 1, 1, 1, 1, 5, 999)\n",
       " Spud(\"\", 1, 1, 1, 1, 2, 4, 999)\n",
       " Spud(\"\", 1, 1, 1, 1, 3, 3, 999)\n",
       " Spud(\"\", 1, 1, 1, 1, 4, 2, 999)\n",
       " Spud(\"\", 1, 1, 1, 1, 5, 1, 999)\n",
       " Spud(\"\", 1, 1, 1, 2, 1, 4, 999)\n",
       " Spud(\"\", 1, 1, 1, 2, 2, 3, 999)\n",
       " Spud(\"\", 1, 1, 1, 2, 3, 2, 999)\n",
       " Spud(\"\", 1, 1, 1, 2, 4, 1, 999)\n",
       " Spud(\"\", 1, 1, 1, 3, 1, 3, 999)\n",
       " Spud(\"\", 1, 1, 1, 3, 2, 2, 999)\n",
       " Spud(\"\", 1, 1, 1, 3, 3, 1, 999)\n",
       " Spud(\"\", 1, 1, 1, 4, 1, 2, 999)\n",
       " ⋮\n",
       " Spud(\"\", 3, 1, 3, 1, 1, 1, 999)\n",
       " Spud(\"\", 3, 2, 1, 1, 1, 2, 999)\n",
       " Spud(\"\", 3, 2, 1, 1, 2, 1, 999)\n",
       " Spud(\"\", 3, 2, 1, 2, 1, 1, 999)\n",
       " Spud(\"\", 3, 2, 2, 1, 1, 1, 999)\n",
       " Spud(\"\", 3, 3, 1, 1, 1, 1, 999)\n",
       " Spud(\"\", 4, 1, 1, 1, 1, 2, 999)\n",
       " Spud(\"\", 4, 1, 1, 1, 2, 1, 999)\n",
       " Spud(\"\", 4, 1, 1, 2, 1, 1, 999)\n",
       " Spud(\"\", 4, 1, 2, 1, 1, 1, 999)\n",
       " Spud(\"\", 4, 2, 1, 1, 1, 1, 999)\n",
       " Spud(\"\", 5, 1, 1, 1, 1, 1, 999)"
      ]
     },
     "execution_count": 8,
     "metadata": {},
     "output_type": "execute_result"
    }
   ],
   "source": [
    "lib0 = get_library(10)\n",
    "lib0"
   ]
  },
  {
   "cell_type": "code",
   "execution_count": 9,
   "id": "6be20a55",
   "metadata": {},
   "outputs": [
    {
     "data": {
      "text/plain": [
       "get_payoffs (generic function with 1 method)"
      ]
     },
     "execution_count": 9,
     "metadata": {},
     "output_type": "execute_result"
    }
   ],
   "source": [
    "function get_payoffs(env::Array{Spud})::Array{Int64}\n",
    "    n_nash = length(env)\n",
    "    payoffs = Array{Int64}(undef, (n_nash, n_nash))\n",
    "    for i in 1:n_nash\n",
    "        for j in 1:n_nash\n",
    "            payoffs[i, j] = eval_battle(env[i], env[j])\n",
    "        end\n",
    "    end\n",
    "    return payoffs\n",
    "end"
   ]
  },
  {
   "cell_type": "code",
   "execution_count": 10,
   "id": "af79e6db",
   "metadata": {},
   "outputs": [
    {
     "data": {
      "text/plain": [
       "filter_nondominated2 (generic function with 1 method)"
      ]
     },
     "execution_count": 10,
     "metadata": {},
     "output_type": "execute_result"
    }
   ],
   "source": [
    "function filter_nondominated2(as::Array{Spud})::Array{Spud}\n",
    "    mat = get_payoffs(as);\n",
    "    isDominated = zeros(Int64, length(as));\n",
    "    for i in 1:length(as)\n",
    "        v = mat[i, :]\n",
    "        bv = ones(Int64, length(as))\n",
    "        for j in 1:length(as)\n",
    "            bv = bv .* (mat[:, j] .>= v[j])\n",
    "        end\n",
    "        if sum(bv) > 1\n",
    "            isDominated[i] = 1\n",
    "        end\n",
    "    end\n",
    "    return as[isDominated .== 0]\n",
    "end"
   ]
  },
  {
   "cell_type": "code",
   "execution_count": 11,
   "id": "55a8029c",
   "metadata": {},
   "outputs": [
    {
     "name": "stdout",
     "output_type": "stream",
     "text": [
      " 111124 111133 111142 111214 111223 111232 111241 111313 111322 111331 111412 111421 111511 112114 112123 112132 112141 112213 112222 112231 112312 112321 112411 113113 113122 113131 113212 113221 113311 114112 114121 114211 121114 121123 121132 121213 121222 121231 121312 121321 121411 122113 122122 122212 122221 122311 123112 123211 131113 131122 131212 131221 131311 132112 132211 141112 141211 212113 212122 212131 212212 212221 212311 213112 213121 213211 214111 222112 222211 312112 312121 312211 313111 412111"
     ]
    },
    {
     "data": {
      "text/plain": [
       "74"
      ]
     },
     "execution_count": 11,
     "metadata": {},
     "output_type": "execute_result"
    }
   ],
   "source": [
    "lib=filter_nondominated2(lib0)\n",
    "for ff in lib\n",
    "    print(\" \")\n",
    "    print(100000 * ff.h + 10000 * ff.f + 1000 * ff.l + 100 * ff.p + 10 * ff.r + ff.s)\n",
    "end\n",
    "nlib = length(lib)"
   ]
  },
  {
   "cell_type": "code",
   "execution_count": 12,
   "id": "7693aec2",
   "metadata": {},
   "outputs": [
    {
     "data": {
      "text/plain": [
       "74×74 Matrix{Int64}:\n",
       "  0  -1  -1  -1  -1  -1  -1   1  -1  …  -1  -1  -1  -1  -1  -1  -1  -1  -1\n",
       "  1   0  -1  -1  -1  -1  -1  -1   1     -1  -1  -1  -1  -1  -1  -1  -1  -1\n",
       "  1   1   0  -1  -1  -1  -1  -1  -1     -1  -1  -1  -1  -1  -1  -1  -1  -1\n",
       "  1   1   1   0  -1  -1  -1  -1  -1     -1  -1  -1  -1  -1  -1  -1  -1  -1\n",
       "  1   1   1   1   0  -1  -1  -1  -1     -1  -1  -1  -1  -1  -1  -1  -1  -1\n",
       "  1   1   1   1   1   0  -1  -1  -1  …  -1  -1  -1  -1  -1  -1  -1  -1  -1\n",
       "  1   1   1   1   1   1   0  -1  -1     -1  -1  -1  -1  -1  -1  -1  -1  -1\n",
       " -1   1   1   1   1   1   1   0  -1     -1  -1  -1  -1  -1  -1  -1  -1  -1\n",
       "  1  -1   1   1   1   1   1   1   0     -1  -1  -1  -1  -1  -1  -1  -1  -1\n",
       "  1   1  -1   1   1   1   1   1   1     -1  -1  -1  -1  -1  -1  -1  -1  -1\n",
       " -1  -1   1   1  -1   1   1   1   1  …  -1  -1  -1  -1  -1  -1  -1  -1  -1\n",
       "  1  -1  -1   1   1  -1   1   1   1     -1  -1  -1  -1  -1  -1  -1  -1  -1\n",
       " -1  -1  -1   1  -1  -1   1   1  -1     -1  -1  -1  -1  -1  -1  -1  -1  -1\n",
       "  ⋮                   ⋮              ⋱   ⋮                   ⋮          \n",
       "  1   1   1   1   1   1   1   1   1     -1  -1  -1   1   1  -1   1  -1   1\n",
       "  1   1   1   1   1   1   1   1   1     -1  -1   1   1   1   1   1   1   1\n",
       "  1   1   1   1   1   1   1   1   1     -1  -1   1   1   1   1   1   1   1\n",
       "  1   1   1   1   1   1   1   1   1  …   0  -1  -1   1   1   1   1   1   1\n",
       "  1   1   1   1   1   1   1   1   1      1   0  -1  -1   1   1   1   1   1\n",
       "  1   1   1   1   1   1   1   1   1      1   1   0  -1   1  -1   1  -1   1\n",
       "  1   1   1   1   1   1   1   1   1     -1   1   1   0   1  -1   1  -1   1\n",
       "  1   1   1   1   1   1   1   1   1     -1  -1  -1  -1   0  -1  -1  -1   1\n",
       "  1   1   1   1   1   1   1   1   1  …  -1  -1   1   1   1   0  -1  -1   1\n",
       "  1   1   1   1   1   1   1   1   1     -1  -1  -1  -1   1   1   0  -1   1\n",
       "  1   1   1   1   1   1   1   1   1     -1  -1   1   1   1   1   1   0   1\n",
       "  1   1   1   1   1   1   1   1   1     -1  -1  -1  -1  -1  -1  -1  -1   0"
      ]
     },
     "execution_count": 12,
     "metadata": {},
     "output_type": "execute_result"
    }
   ],
   "source": [
    "payoffs = get_payoffs(lib)"
   ]
  },
  {
   "cell_type": "code",
   "execution_count": 13,
   "id": "3d780a7c",
   "metadata": {},
   "outputs": [
    {
     "data": {
      "text/plain": [
       "spud2int (generic function with 1 method)"
      ]
     },
     "execution_count": 13,
     "metadata": {},
     "output_type": "execute_result"
    }
   ],
   "source": [
    "function spud2int(a::Spud)::Int64\n",
    "    return a.h * 100000 + a.f * 10000 + a.l * 1000 + a.p * 100 + a.r * 10 + a.s\n",
    "end"
   ]
  },
  {
   "cell_type": "code",
   "execution_count": 14,
   "id": "db3ccd86",
   "metadata": {},
   "outputs": [],
   "source": [
    "s2ind = Dict(lib[i] => i for i in 1:length(lib));\n",
    "int2ind = Dict(spud2int(lib[i]) => i for i in 1:length(lib));"
   ]
  },
  {
   "cell_type": "code",
   "execution_count": 15,
   "id": "a169b86e",
   "metadata": {},
   "outputs": [],
   "source": [
    "libi = [spud2int(ff) for ff in lib];"
   ]
  },
  {
   "cell_type": "code",
   "execution_count": 16,
   "id": "0e426ff9",
   "metadata": {},
   "outputs": [
    {
     "data": {
      "text/plain": [
       "73"
      ]
     },
     "execution_count": 16,
     "metadata": {},
     "output_type": "execute_result"
    }
   ],
   "source": [
    "int2ind[313111]"
   ]
  },
  {
   "cell_type": "code",
   "execution_count": 17,
   "id": "12e85b6a",
   "metadata": {},
   "outputs": [
    {
     "data": {
      "text/plain": [
       "3"
      ]
     },
     "execution_count": 17,
     "metadata": {},
     "output_type": "execute_result"
    }
   ],
   "source": [
    "as = [1,2,3]\n",
    "as[end]"
   ]
  },
  {
   "cell_type": "code",
   "execution_count": 18,
   "id": "ac7db512",
   "metadata": {},
   "outputs": [
    {
     "data": {
      "text/plain": [
       "eval_beatn (generic function with 1 method)"
      ]
     },
     "execution_count": 18,
     "metadata": {},
     "output_type": "execute_result"
    }
   ],
   "source": [
    "function eval_beatn(payoffs::Array{Int64}, as::Array{Int64}, bs::Array{Int64})::Int64\n",
    "    if length(bs)==0 || length(as)==0\n",
    "        return 0\n",
    "    end\n",
    "    a = as[end]\n",
    "    flag = true\n",
    "    count = 0\n",
    "    while flag\n",
    "        if payoffs[a, bs[end-count]]==1\n",
    "            count += 1\n",
    "        else\n",
    "            flag = false\n",
    "        end\n",
    "        if count == length(bs)\n",
    "            flag = false\n",
    "        end\n",
    "    end\n",
    "    return count\n",
    "end"
   ]
  },
  {
   "cell_type": "code",
   "execution_count": 19,
   "id": "06768a49",
   "metadata": {},
   "outputs": [
    {
     "data": {
      "text/plain": [
       "4-element Vector{Int64}:\n",
       " 41\n",
       " 40\n",
       " 27\n",
       " 65"
      ]
     },
     "execution_count": 19,
     "metadata": {},
     "output_type": "execute_result"
    }
   ],
   "source": [
    "as = [int2ind[ff] for ff in [214111, 112222, 313111, 113311]]\n",
    "bs = [int2ind[ff] for ff in [121411, 121321, 113212, 213121]]"
   ]
  },
  {
   "cell_type": "code",
   "execution_count": 20,
   "id": "d2ce51e6",
   "metadata": {},
   "outputs": [
    {
     "data": {
      "text/plain": [
       "2"
      ]
     },
     "execution_count": 20,
     "metadata": {},
     "output_type": "execute_result"
    }
   ],
   "source": [
    "eval_beatn(payoffs, as[1:3], bs[1:2])"
   ]
  },
  {
   "cell_type": "code",
   "execution_count": 21,
   "id": "7a920d9d",
   "metadata": {},
   "outputs": [
    {
     "data": {
      "text/plain": [
       "2"
      ]
     },
     "execution_count": 21,
     "metadata": {},
     "output_type": "execute_result"
    }
   ],
   "source": [
    "eval_beatn(payoffs, bs[1:3], as[1:3])"
   ]
  },
  {
   "cell_type": "code",
   "execution_count": 22,
   "id": "52666aca",
   "metadata": {},
   "outputs": [
    {
     "data": {
      "text/plain": [
       "2"
      ]
     },
     "execution_count": 22,
     "metadata": {},
     "output_type": "execute_result"
    }
   ],
   "source": [
    "eval_beatn(payoffs, as[1:4], bs[1:3])"
   ]
  },
  {
   "cell_type": "code",
   "execution_count": 23,
   "id": "c4ab1c2f",
   "metadata": {},
   "outputs": [
    {
     "data": {
      "text/plain": [
       "3"
      ]
     },
     "execution_count": 23,
     "metadata": {},
     "output_type": "execute_result"
    }
   ],
   "source": [
    "eval_beatn(payoffs, bs[1:4], as[1:4])"
   ]
  },
  {
   "cell_type": "code",
   "execution_count": 24,
   "id": "2180d5f3",
   "metadata": {},
   "outputs": [
    {
     "data": {
      "text/plain": [
       "74"
      ]
     },
     "execution_count": 24,
     "metadata": {},
     "output_type": "execute_result"
    }
   ],
   "source": [
    "size(payoffs)[1]"
   ]
  },
  {
   "cell_type": "code",
   "execution_count": 25,
   "id": "e0355eae",
   "metadata": {},
   "outputs": [
    {
     "data": {
      "text/plain": [
       "try_beatn (generic function with 1 method)"
      ]
     },
     "execution_count": 25,
     "metadata": {},
     "output_type": "execute_result"
    }
   ],
   "source": [
    "# tries all possible moves as extension of as\n",
    "function try_beatn(payoffs::Array{Int64}, as::Array{Int64}, bs::Array{Int64})::Array{Int64}\n",
    "    ans = Array{Int64}(undef, size(payoffs)[1])\n",
    "    for i in 1:size(payoffs)[1]\n",
    "        as2 = copy(as)\n",
    "        append!(as2, i)\n",
    "        ans[i] = eval_beatn(payoffs, as2, bs)\n",
    "    end\n",
    "    return ans\n",
    "end"
   ]
  },
  {
   "cell_type": "code",
   "execution_count": 26,
   "id": "610075c3",
   "metadata": {},
   "outputs": [
    {
     "name": "stdout",
     "output_type": "stream",
     "text": [
      "00000000000000000000000011120110021211220011100001110000000000000120000000"
     ]
    }
   ],
   "source": [
    "for i in try_beatn(payoffs, as, bs)\n",
    "    print(i)\n",
    "end"
   ]
  },
  {
   "cell_type": "code",
   "execution_count": 27,
   "id": "34b38ea6",
   "metadata": {},
   "outputs": [
    {
     "data": {
      "text/plain": [
       "lose_or_not (generic function with 1 method)"
      ]
     },
     "execution_count": 27,
     "metadata": {},
     "output_type": "execute_result"
    }
   ],
   "source": [
    "# returns 1 if Player A lost\n",
    "function lose_or_not(payoffs::Array{Int64}, as::Array{Int64}, bs::Array{Int64})::Int64\n",
    "    prev_score = eval_beatn(payoffs, bs, as)\n",
    "    scores = try_beatn(payoffs, as, bs)\n",
    "    if maximum(scores) < prev_score\n",
    "        return 1\n",
    "    end\n",
    "    return 0\n",
    "end"
   ]
  },
  {
   "cell_type": "code",
   "execution_count": 28,
   "id": "84fa5f6b",
   "metadata": {},
   "outputs": [
    {
     "data": {
      "text/plain": [
       "0"
      ]
     },
     "execution_count": 28,
     "metadata": {},
     "output_type": "execute_result"
    }
   ],
   "source": [
    "lose_or_not(payoffs, as[1:2], bs[1:2])"
   ]
  },
  {
   "cell_type": "code",
   "execution_count": 29,
   "id": "1e2178a4",
   "metadata": {},
   "outputs": [
    {
     "data": {
      "text/plain": [
       "0"
      ]
     },
     "execution_count": 29,
     "metadata": {},
     "output_type": "execute_result"
    }
   ],
   "source": [
    "lose_or_not(payoffs, as[1:3], bs[1:3])"
   ]
  },
  {
   "cell_type": "code",
   "execution_count": 30,
   "id": "80e2a310",
   "metadata": {},
   "outputs": [
    {
     "data": {
      "text/plain": [
       "1"
      ]
     },
     "execution_count": 30,
     "metadata": {},
     "output_type": "execute_result"
    }
   ],
   "source": [
    "lose_or_not(payoffs, as[1:4], bs[1:4])"
   ]
  },
  {
   "cell_type": "code",
   "execution_count": 31,
   "id": "3e10fcb4",
   "metadata": {},
   "outputs": [
    {
     "data": {
      "text/plain": [
       "legal_moves (generic function with 1 method)"
      ]
     },
     "execution_count": 31,
     "metadata": {},
     "output_type": "execute_result"
    }
   ],
   "source": [
    "function legal_moves(payoffs::Array{Int64}, as::Array{Int64}, bs::Array{Int64})::Array{Int64}\n",
    "    prev_score = eval_beatn(payoffs, bs, as)\n",
    "    scores = try_beatn(payoffs, as, bs)\n",
    "    cands = findall(scores .>= prev_score)\n",
    "    return cands\n",
    "end"
   ]
  },
  {
   "cell_type": "code",
   "execution_count": 32,
   "id": "7f74a1f2",
   "metadata": {},
   "outputs": [
    {
     "data": {
      "text/plain": [
       "choose_random (generic function with 1 method)"
      ]
     },
     "execution_count": 32,
     "metadata": {},
     "output_type": "execute_result"
    }
   ],
   "source": [
    "# picks randomly\n",
    "function choose_random(payoffs::Array{Int64}, as::Array{Int64}, bs::Array{Int64})::Int64\n",
    "    prev_score = eval_beatn(payoffs, bs, as)\n",
    "    scores = try_beatn(payoffs, as, bs)\n",
    "    cands = findall(scores .>= prev_score)\n",
    "    return rand(cands)\n",
    "end"
   ]
  },
  {
   "cell_type": "code",
   "execution_count": 33,
   "id": "89c48087",
   "metadata": {},
   "outputs": [
    {
     "data": {
      "text/plain": [
       "choose_aggro (generic function with 1 method)"
      ]
     },
     "execution_count": 33,
     "metadata": {},
     "output_type": "execute_result"
    }
   ],
   "source": [
    "# picks aggressively\n",
    "function choose_aggro(payoffs::Array{Int64}, as::Array{Int64}, bs::Array{Int64})::Int64\n",
    "    scores = try_beatn(payoffs, as, bs)\n",
    "    cands = findall(scores .== maximum(scores))\n",
    "    return rand(cands)\n",
    "end"
   ]
  },
  {
   "cell_type": "code",
   "execution_count": 128,
   "id": "a603dd38",
   "metadata": {},
   "outputs": [
    {
     "data": {
      "text/plain": [
       "display_game (generic function with 1 method)"
      ]
     },
     "execution_count": 128,
     "metadata": {},
     "output_type": "execute_result"
    }
   ],
   "source": [
    "function play_random_vs_aggro(\n",
    "        payoffs::Array{Int64}, \n",
    "        as::Array{Int64} = zeros(Int64, 0), \n",
    "        bs::Array{Int64} = zeros(Int64, 0))::Tuple{Int64, Array{Int64}, Array{Int64}}\n",
    "    if length(as) == 0\n",
    "        a = rand(1:size(payoffs)[1])\n",
    "        as = append!(as, a)\n",
    "    end\n",
    "    if length(bs) < length(as)\n",
    "        b = choose_aggro(payoffs, bs, as)\n",
    "        bs = append!(bs, b)\n",
    "    end\n",
    "    flag = true\n",
    "    a_win = 0\n",
    "    while flag\n",
    "        if lose_or_not(payoffs, as, bs)==1\n",
    "            flag = false\n",
    "            a_win = -1\n",
    "        else\n",
    "            # player A turn\n",
    "            a = choose_random(payoffs, as, bs)\n",
    "            as = append!(as, a)\n",
    "        end\n",
    "        if flag\n",
    "            if lose_or_not(payoffs, bs, as)==1\n",
    "                flag = false\n",
    "                a_win = 1\n",
    "            else\n",
    "                # player B turn\n",
    "                b = choose_aggro(payoffs, bs, as)\n",
    "                bs = append!(bs, b)\n",
    "            end\n",
    "        end\n",
    "    end\n",
    "    return (a_win, as, bs)\n",
    "end\n",
    "\n",
    "function play_random_vs_random(\n",
    "        payoffs::Array{Int64}, \n",
    "        as::Array{Int64} = zeros(Int64, 0), \n",
    "        bs::Array{Int64} = zeros(Int64, 0))::Tuple{Int64, Array{Int64}, Array{Int64}}\n",
    "    if length(as) == 0\n",
    "        a = rand(1:size(payoffs)[1])\n",
    "        as = append!(as, a)\n",
    "    end\n",
    "    if length(bs) < length(as)\n",
    "        b = choose_aggro(payoffs, bs, as)\n",
    "        bs = append!(bs, b)\n",
    "    end\n",
    "    flag = true\n",
    "    a_win = 0\n",
    "    while flag\n",
    "        if lose_or_not(payoffs, as, bs)==1\n",
    "            flag = false\n",
    "            a_win = -1\n",
    "        else\n",
    "            # player A turn\n",
    "            a = choose_random(payoffs, as, bs)\n",
    "            as = append!(as, a)\n",
    "        end\n",
    "        if flag\n",
    "            if lose_or_not(payoffs, bs, as)==1\n",
    "                flag = false\n",
    "                a_win = 1\n",
    "            else\n",
    "                # player B turn\n",
    "                b = choose_random(payoffs, bs, as)\n",
    "                bs = append!(bs, b)\n",
    "            end\n",
    "        end\n",
    "    end\n",
    "    return (a_win, as, bs)\n",
    "end\n",
    "\n",
    "function display_game(payoffs::Array{Int64}, as::Array{Int64}, bs::Array{Int64})\n",
    "    for i in 1:length(as)\n",
    "        print(libi[as[i]])\n",
    "        print(\" {\")\n",
    "        n = eval_beatn(payoffs, as[1:i], bs[1:(i-1)])\n",
    "        print(n)\n",
    "        print(\"}. \")\n",
    "        if i <= length(bs)\n",
    "            print(libi[bs[i]])\n",
    "            print(\" {\")\n",
    "            n = eval_beatn(payoffs, bs[1:i], as[1:i])\n",
    "            print(n)\n",
    "            print(\"}. \")\n",
    "        end\n",
    "        println()\n",
    "    end\n",
    "end"
   ]
  },
  {
   "cell_type": "code",
   "execution_count": 129,
   "id": "cb5fb4b1",
   "metadata": {},
   "outputs": [
    {
     "name": "stdout",
     "output_type": "stream",
     "text": [
      "111133 {0}. 222211 {1}. \n",
      "112222 {1}. 111313 {2}. \n",
      "121321 {2}. 213112 {3}. \n",
      "213121 {3}. \n"
     ]
    }
   ],
   "source": [
    "a_win, as, bs = play_random_vs_aggro(payoffs, [int2ind[111133]], [int2ind[222211]])\n",
    "display_game(payoffs, as, bs)"
   ]
  },
  {
   "cell_type": "code",
   "execution_count": 130,
   "id": "6389a1bd",
   "metadata": {},
   "outputs": [],
   "source": [
    "# n_games = 100\n",
    "# counts = Array{Int64}(undef, (nlib, nlib)) .* 0\n",
    "# wins = Array{Int64}(undef, (nlib, nlib)) .* 0\n",
    "# for a in 1:nlib\n",
    "#     for b in 1:nlib\n",
    "#         for i in 1:n_games\n",
    "#             a_win, as, bs = play_random_vs_aggro(payoffs, [a], [b])\n",
    "#             counts[a,b] += 1\n",
    "#             if a_win==1\n",
    "#                 wins[a,b] +=1\n",
    "#             end\n",
    "#         end\n",
    "        \n",
    "#     end\n",
    "# end"
   ]
  },
  {
   "cell_type": "code",
   "execution_count": 131,
   "id": "0b94fd85",
   "metadata": {},
   "outputs": [],
   "source": [
    "# maxes = [minimum(wins[i, :]) for i in 1:nlib]\n",
    "# for i in sortperm(-maxes)\n",
    "#     js = findall(wins[i, :].==minimum(wins[i, :]))\n",
    "#     print(libi[i])\n",
    "#     print(\" \")\n",
    "#     print(libi[js])\n",
    "#     print(\" \")\n",
    "#     println(minimum(wins[i, :])/n_games)\n",
    "# end"
   ]
  },
  {
   "cell_type": "code",
   "execution_count": 132,
   "id": "f4b225d8",
   "metadata": {},
   "outputs": [],
   "source": [
    "# n_games = 100\n",
    "# counts = Array{Int64}(undef, (nlib, nlib)) .* 0\n",
    "# wins = Array{Int64}(undef, (nlib, nlib)) .* 0\n",
    "# a1 = int2ind[121321]\n",
    "# b1 = int2ind[214111]\n",
    "# a_moves = legal_moves(payoffs, [a1], [b1])\n",
    "# for a in a_moves\n",
    "#     b_moves = legal_moves(payoffs, [b1], [a1, a])\n",
    "#     for b in b_moves\n",
    "#         for i in 1:n_games\n",
    "#             a_win, as, bs = play_random_vs_aggro(payoffs, [a1,a], [b1,b])\n",
    "#             counts[a,b] += 1\n",
    "#             if a_win==1\n",
    "#                 wins[a,b] +=1\n",
    "#             end\n",
    "#         end\n",
    "        \n",
    "#     end\n",
    "# end"
   ]
  },
  {
   "cell_type": "code",
   "execution_count": 133,
   "id": "304c5060",
   "metadata": {
    "scrolled": false
   },
   "outputs": [],
   "source": [
    "# maxes = [minimum(wins[i, :]) for i in 1:nlib]\n",
    "# for i in sortperm(-maxes)[1:10]\n",
    "#     if i in a_moves\n",
    "#         wns = wins[i, :]\n",
    "#         cns = counts[i, :]\n",
    "#         min_wins = minimum(wns[cns .> 0])\n",
    "#         js = findall(wns .== min_wins)\n",
    "#         print(libi[i])\n",
    "#         print(\" \")\n",
    "#         print(libi[js])\n",
    "#         print(\" \")\n",
    "#         println(minimum(wins[i, :])/n_games)\n",
    "#     end\n",
    "# end"
   ]
  },
  {
   "cell_type": "code",
   "execution_count": 134,
   "id": "e13580ee",
   "metadata": {},
   "outputs": [
    {
     "name": "stdout",
     "output_type": "stream",
     "text": [
      "121321 {0}. 214111 {0}. \n",
      "213112 {0}. 313111 {0}. \n",
      "113131 {1}. 113311 {3}. \n",
      "132112 {3}. 131311 {3}. \n",
      "141112 {4}. 131212 {4}. \n"
     ]
    }
   ],
   "source": [
    "# check game lengths\n",
    "a1 = int2ind[121321]\n",
    "b1 = int2ind[214111]\n",
    "a2 = int2ind[213112]\n",
    "b2 = int2ind[313111]\n",
    "a_win, as, bs = play_random_vs_aggro(payoffs, [a1,a2],[b1,b2])\n",
    "display_game(payoffs, as, bs)"
   ]
  },
  {
   "cell_type": "code",
   "execution_count": 135,
   "id": "bef0c14c",
   "metadata": {},
   "outputs": [],
   "source": [
    "# n_games = 1000\n",
    "# counts = Array{Int64}(undef, (nlib, nlib)) .* 0\n",
    "# wins = Array{Int64}(undef, (nlib, nlib)) .* 0\n",
    "# a1 = int2ind[121321]\n",
    "# b1 = int2ind[214111]\n",
    "# a2 = int2ind[213112]\n",
    "# b2 = int2ind[313111]\n",
    "# a_moves = legal_moves(payoffs, [a1,a2], [b1,b2])\n",
    "# for a in a_moves\n",
    "#     b_moves = legal_moves(payoffs, [b1,b2], [a1,a2,a])\n",
    "#     for b in b_moves\n",
    "#         for i in 1:n_games\n",
    "#             a_win, as, bs = play_random_vs_aggro(payoffs, [a1,a2,a], [b1,b2,b])\n",
    "#             counts[a,b] += 1\n",
    "#             if a_win==1\n",
    "#                 wins[a,b] +=1\n",
    "#             end\n",
    "#         end\n",
    "        \n",
    "#     end\n",
    "# end"
   ]
  },
  {
   "cell_type": "code",
   "execution_count": 136,
   "id": "7daf8fd6",
   "metadata": {},
   "outputs": [],
   "source": [
    "# maxes = [minimum(wins[i, :]) for i in 1:nlib]\n",
    "# for i in sortperm(-maxes)[1:10]\n",
    "#     if i in a_moves\n",
    "#         wns = wins[i, :]\n",
    "#         cns = counts[i, :]\n",
    "#         min_wins = minimum(wns[cns .> 0])\n",
    "#         js = findall(wns .== min_wins)\n",
    "#         print(libi[i])\n",
    "#         print(\" \")\n",
    "#         print(libi[js])\n",
    "#         print(\" \")\n",
    "#         println(minimum(wins[i, :])/n_games)\n",
    "#     end\n",
    "# end"
   ]
  },
  {
   "cell_type": "code",
   "execution_count": 137,
   "id": "5c7a7975",
   "metadata": {},
   "outputs": [
    {
     "name": "stdout",
     "output_type": "stream",
     "text": [
      "121321 {0}. 214111 {0}. \n",
      "213112 {0}. 313111 {0}. \n",
      "121321 {0}. 121222 {0}. \n",
      "131311 {0}. 113311 {4}. \n"
     ]
    }
   ],
   "source": [
    "# check game lengths\n",
    "a1 = int2ind[121321]\n",
    "b1 = int2ind[214111]\n",
    "a2 = int2ind[213112]\n",
    "b2 = int2ind[313111]\n",
    "a3 = int2ind[121321]\n",
    "b3 = int2ind[121222]\n",
    "a_win, as, bs = play_random_vs_aggro(payoffs, [a1,a2,a3],[b1,b2,b3])\n",
    "display_game(payoffs, as, bs)"
   ]
  },
  {
   "cell_type": "code",
   "execution_count": 138,
   "id": "1520d269",
   "metadata": {},
   "outputs": [],
   "source": [
    "# n_games = 100\n",
    "# counts = Array{Int64}(undef, (nlib, nlib)) .* 0\n",
    "# wins = Array{Int64}(undef, (nlib, nlib)) .* 0\n",
    "# a1 = int2ind[121321]\n",
    "# b1 = int2ind[214111]\n",
    "# a2 = int2ind[213112]\n",
    "# b2 = int2ind[313111]\n",
    "# a3 = int2ind[121321]\n",
    "# b3 = int2ind[121222]\n",
    "# a_moves = legal_moves(payoffs, [a1,a2,a3], [b1,b2,b3])\n",
    "# for a in a_moves\n",
    "#     b_moves = legal_moves(payoffs, [b1,b2,b3], [a1,a2,a3,a])\n",
    "#     for b in b_moves\n",
    "#         for i in 1:n_games\n",
    "#             a_win, as, bs = play_random_vs_aggro(payoffs, [a1,a2,a3,a], [b1,b2,b3,b])\n",
    "#             counts[a,b] += 1\n",
    "#             if a_win==1\n",
    "#                 wins[a,b] +=1\n",
    "#             end\n",
    "#         end\n",
    "        \n",
    "#     end\n",
    "# end"
   ]
  },
  {
   "cell_type": "code",
   "execution_count": 139,
   "id": "8813d1e4",
   "metadata": {},
   "outputs": [],
   "source": [
    "# maxes = [minimum(wins[i, :]) for i in 1:nlib]\n",
    "# for i in sortperm(-maxes)[1:10]\n",
    "#     if i in a_moves\n",
    "#         wns = wins[i, :]\n",
    "#         cns = counts[i, :]\n",
    "#         min_wins = minimum(wns[cns .> 0])\n",
    "#         js = findall(wns .== min_wins)\n",
    "#         print(libi[i])\n",
    "#         print(\" \")\n",
    "#         print(libi[js])\n",
    "#         print(\" \")\n",
    "#         println(minimum(wins[i, :])/n_games)\n",
    "#     end\n",
    "# end"
   ]
  },
  {
   "cell_type": "code",
   "execution_count": 144,
   "id": "b5aa8ad0",
   "metadata": {},
   "outputs": [
    {
     "name": "stdout",
     "output_type": "stream",
     "text": [
      "121321 {0}. 214111 {0}. \n",
      "213112 {0}. 313111 {0}. \n",
      "121321 {0}. 121222 {0}. \n",
      "113122 {0}. 111133 {2}. \n",
      "111241 {2}. 122221 {2}. \n",
      "121132 {2}. 222112 {2}. \n",
      "112321 {2}. 114112 {4}. \n"
     ]
    }
   ],
   "source": [
    "# check game lengths\n",
    "a1 = int2ind[121321]\n",
    "b1 = int2ind[214111]\n",
    "a2 = int2ind[213112]\n",
    "b2 = int2ind[313111]\n",
    "a3 = int2ind[121321]\n",
    "b3 = int2ind[121222]\n",
    "a4 = int2ind[113122]\n",
    "b4 = int2ind[111133]\n",
    "#a_win, as, bs = play_random_vs_aggro(payoffs, [a1,a2,a3,a4],[b1,b2,b3,b4])\n",
    "a_win, as, bs = play_random_vs_random(payoffs, [a1,a2,a3,a4],[b1,b2,b3,b4])\n",
    "display_game(payoffs, as, bs)"
   ]
  },
  {
   "cell_type": "markdown",
   "id": "e8dbc8c4",
   "metadata": {},
   "source": [
    "## MCTS"
   ]
  },
  {
   "cell_type": "code",
   "execution_count": 145,
   "id": "867e5215",
   "metadata": {},
   "outputs": [
    {
     "data": {
      "text/plain": [
       "merge_arrs (generic function with 1 method)"
      ]
     },
     "execution_count": 145,
     "metadata": {},
     "output_type": "execute_result"
    }
   ],
   "source": [
    "function intarr_to_string(as::Array{Int64})::String\n",
    "    return join([convert(Char, a+32) for a in as])\n",
    "end\n",
    "\n",
    "function string_to_intarr(s::String)::Array{Int64}\n",
    "    return [convert(Int64, s[i])-32 for i in 1:length(s)]\n",
    "end\n",
    "\n",
    "# s=intarr_to_string([i for i in 1:75])\n",
    "# as=string_to_intarr(s)\n",
    "# for i in as\n",
    "#     print(i)\n",
    "#     print(\" \")\n",
    "# end\n",
    "\n",
    "function split_arrs(zs::Array{Int64})::Tuple{Array{Int64},Array{Int64}}\n",
    "    if mod(length(zs), 2)==0\n",
    "        return (zs[1:2:(end-1)], zs[2:2:end])\n",
    "    else\n",
    "        return (zs[1:2:end], zs[2:2:(end-1)])\n",
    "    end\n",
    "end\n",
    "\n",
    "function merge_arrs(as::Array{Int64}, bs::Array{Int64})::Array{Int64}\n",
    "    zs = Array{Int64}(undef, length(as)+length(bs))\n",
    "    if mod(length(zs), 2)==0\n",
    "        zs[1:2:(end-1)]=as\n",
    "        zs[2:2:end]=bs\n",
    "    else\n",
    "        zs[1:2:end] = as\n",
    "    zs[2:2:(end-1)] = bs\n",
    "    end\n",
    "    return zs\n",
    "end"
   ]
  },
  {
   "cell_type": "code",
   "execution_count": 184,
   "id": "c7c17d52",
   "metadata": {},
   "outputs": [
    {
     "data": {
      "text/plain": [
       "get_children (generic function with 1 method)"
      ]
     },
     "execution_count": 184,
     "metadata": {},
     "output_type": "execute_result"
    }
   ],
   "source": [
    "function propagate_win(tree::Dict{String, Vector{Int64}}, leaf::String, win::Int64)::Dict{String, Vector{Int64}}\n",
    "    for i in 0:length(leaf)\n",
    "        if i==0\n",
    "            node=\"\"\n",
    "        else\n",
    "            node=leaf[1:i]\n",
    "        end\n",
    "        if haskey(tree, node)\n",
    "            tree[node][2] += 1\n",
    "            tree[node][1] += win\n",
    "        end\n",
    "    end\n",
    "    return tree\n",
    "end\n",
    "\n",
    "function append_move_to_leaf(leaf::String, move::Int64)::String\n",
    "    zs = string_to_intarr(leaf)\n",
    "    append!(zs, move)\n",
    "    return intarr_to_string(zs)\n",
    "end\n",
    "\n",
    "function get_children(payoffs::Array{Int64}, leaf::String)::Array{String}\n",
    "    # get arrays\n",
    "    as, bs = split_arrs(string_to_intarr(leaf))\n",
    "    if mod(length(leaf), 2)==0\n",
    "        player = 1\n",
    "    else\n",
    "        player = 2\n",
    "    end\n",
    "    # generate successors\n",
    "    if player==1\n",
    "        cands = legal_moves(payoffs, as, bs)\n",
    "    else\n",
    "        cands = legal_moves(payoffs, bs, as)\n",
    "    end\n",
    "    return [append_move_to_leaf(leaf, c) for c in cands]\n",
    "end"
   ]
  },
  {
   "cell_type": "code",
   "execution_count": 185,
   "id": "3c40c96e",
   "metadata": {},
   "outputs": [
    {
     "data": {
      "text/plain": [
       "check_and_propagate_terminal (generic function with 1 method)"
      ]
     },
     "execution_count": 185,
     "metadata": {},
     "output_type": "execute_result"
    }
   ],
   "source": [
    "function check_and_propagate_terminal(payoffs::Array{Int64}, tree::Dict{String, Vector{Int64}}, leaf::String)::Dict{String, Vector{Int64}}\n",
    "    children = get_children(payoffs, leaf)\n",
    "    if length(children) == 0\n",
    "        # indicate terminal\n",
    "        tree[leaf][3]=1\n",
    "        if mod(length(leaf), 2)==0\n",
    "            #p1 lost\n",
    "            tree = propagate_win(tree, leaf, 0)\n",
    "        else\n",
    "            #p1 won\n",
    "            tree = propagate_win(tree, leaf, 1)\n",
    "        end\n",
    "    end\n",
    "    return tree\n",
    "end"
   ]
  },
  {
   "cell_type": "code",
   "execution_count": 186,
   "id": "522db1cb",
   "metadata": {},
   "outputs": [
    {
     "data": {
      "text/plain": [
       "query_node (generic function with 1 method)"
      ]
     },
     "execution_count": 186,
     "metadata": {},
     "output_type": "execute_result"
    }
   ],
   "source": [
    "function try_add_node(tree::Dict{String, Vector{Int64}}, node::String)::Dict{String, Vector{Int64}}\n",
    "    if haskey(tree, node)\n",
    "        return tree\n",
    "    else\n",
    "        tree[node] = [0,0,0]\n",
    "        return tree\n",
    "    end\n",
    "end\n",
    "\n",
    "function query_node(tree, node)::Array{Int64}\n",
    "    if haskey(tree, node)\n",
    "        return tree[node]\n",
    "    else\n",
    "        return [0,0,0]\n",
    "    end\n",
    "end"
   ]
  },
  {
   "cell_type": "code",
   "execution_count": 187,
   "id": "c740ead6",
   "metadata": {},
   "outputs": [
    {
     "data": {
      "text/plain": [
       "expand_leaf (generic function with 1 method)"
      ]
     },
     "execution_count": 187,
     "metadata": {},
     "output_type": "execute_result"
    }
   ],
   "source": [
    "function expand_leaf(\n",
    "        payoffs::Array{Int64}, tree::Dict{String, Vector{Int64}}, leaf::String)::Dict{String, Vector{Int64}}\n",
    "    # check if leaf is terminal\n",
    "    tree = check_and_propagate_terminal(payoffs, tree, leaf)\n",
    "    if tree[leaf][3]==1\n",
    "        return tree\n",
    "    end\n",
    "    # get arrays for leaf\n",
    "    as, bs = split_arrs(string_to_intarr(leaf))\n",
    "    if mod(length(leaf), 2)==0\n",
    "        player = 1\n",
    "    else\n",
    "        player = 2\n",
    "    end\n",
    "    # generate random successor\n",
    "    if player==1\n",
    "        cands = legal_moves(payoffs, as, bs)\n",
    "        newleaf = append_move_to_leaf(leaf, rand(cands))\n",
    "    else\n",
    "        cands = legal_moves(payoffs, bs, as)\n",
    "        newleaf = append_move_to_leaf(leaf, rand(cands))\n",
    "    end\n",
    "    tree = try_add_node(tree, newleaf)\n",
    "    tree = check_and_propagate_terminal(payoffs, tree, newleaf)\n",
    "    # play the match\n",
    "    as, bs = split_arrs(string_to_intarr(newleaf))\n",
    "    a_win, as2, bs2 = play_random_vs_random(payoffs, as, bs)\n",
    "    # propagate result\n",
    "    if a_win == 1\n",
    "        tree = propagate_win(tree, newleaf, 1)\n",
    "    else\n",
    "        tree = propagate_win(tree, newleaf, 0)\n",
    "    end\n",
    "    return tree\n",
    "end\n"
   ]
  },
  {
   "cell_type": "code",
   "execution_count": 188,
   "id": "be7b9e27",
   "metadata": {},
   "outputs": [
    {
     "data": {
      "text/plain": [
       "sample_next_node (generic function with 2 methods)"
      ]
     },
     "execution_count": 188,
     "metadata": {},
     "output_type": "execute_result"
    }
   ],
   "source": [
    "function sample_next_node(\n",
    "        payoffs::Array{Int64}, tree::Dict{String, Vector{Int64}}, node::String, \n",
    "        explore_const::Float64=1.4)::String\n",
    "    # values for UCT\n",
    "    n = tree[node][2]\n",
    "    # assumes that all children are added\n",
    "    children = get_children(payoffs, node)\n",
    "    counts = [query_node(tree, c)[2] for c in children]\n",
    "    wins = [query_node(tree, c)[1] for c in children]\n",
    "    if minimum(counts) == 0\n",
    "        sel = children[rand(findall(counts .== 0))]\n",
    "        return sel\n",
    "    end\n",
    "    if mod(length(node), 2)==1\n",
    "        wins = counts .- wins\n",
    "    end\n",
    "    scores = counts .* 0.0\n",
    "    for i in 1:length(scores)\n",
    "        if counts[i] > 0\n",
    "            scores[i] = wins[i]/counts[i] + explore_const * sqrt((log(n)/counts[i]))\n",
    "        end\n",
    "    end\n",
    "    sel = children[rand(findall(scores .== maximum(scores)))]\n",
    "    return sel\n",
    "end"
   ]
  },
  {
   "cell_type": "code",
   "execution_count": 189,
   "id": "41607172",
   "metadata": {},
   "outputs": [
    {
     "data": {
      "text/plain": [
       "random_leaf (generic function with 2 methods)"
      ]
     },
     "execution_count": 189,
     "metadata": {},
     "output_type": "execute_result"
    }
   ],
   "source": [
    "function random_leaf(payoffs::Array{Int64}, tree::Dict{String, Vector{Int64}}, node::String=\"\")::String\n",
    "    while query_node(tree,node)[2] > 1 && query_node(tree,node)[3] != 1\n",
    "        node = sample_next_node(payoffs, tree, node)\n",
    "    end\n",
    "    return node\n",
    "end"
   ]
  },
  {
   "cell_type": "code",
   "execution_count": 190,
   "id": "70863d50",
   "metadata": {},
   "outputs": [
    {
     "data": {
      "text/plain": [
       "sample_next_node2 (generic function with 2 methods)"
      ]
     },
     "execution_count": 190,
     "metadata": {},
     "output_type": "execute_result"
    }
   ],
   "source": [
    "# exploit mode\n",
    "function sample_next_node2(\n",
    "        payoffs::Array{Int64}, tree::Dict{String, Vector{Int64}}, node::String, beta::Float64 = 1.0)::String\n",
    "    # values for UCT\n",
    "    n = tree[node][2]\n",
    "    # assumes that all children are added\n",
    "    children = get_children(payoffs, node)\n",
    "    counts = [query_node(tree, c)[2] for c in children]\n",
    "    wins = [query_node(tree, c)[1] for c in children]\n",
    "    if mod(length(node), 2)==1\n",
    "        wins = counts .- wins\n",
    "    end\n",
    "    scores = counts .* 0.0\n",
    "    for i in 1:length(scores)\n",
    "        if counts[i] > 0\n",
    "            scores[i] = wins[i]/counts[i]\n",
    "        end\n",
    "    end\n",
    "    scores = [exp(beta*x) for x in scores]\n",
    "    scores = scores./sum(scores)\n",
    "    cs = cumsum(scores)\n",
    "    z = rand(1)[1]\n",
    "    sel = children[minimum(findall(cs .>= z))]\n",
    "    return sel\n",
    "end"
   ]
  },
  {
   "cell_type": "code",
   "execution_count": 246,
   "id": "56802484",
   "metadata": {},
   "outputs": [
    {
     "data": {
      "text/plain": [
       "display_choices (generic function with 1 method)"
      ]
     },
     "execution_count": 246,
     "metadata": {},
     "output_type": "execute_result"
    }
   ],
   "source": [
    "function display_node(payoffs::Array{Int64}, tree::Dict{String, Vector{Int64}}, node::String)\n",
    "    print(\"Node: \")\n",
    "    println(node)\n",
    "    as, bs = split_arrs(string_to_intarr(node))\n",
    "    display_game(payoffs, as, bs)\n",
    "    print(\"Stats: \")\n",
    "    print(query_node(tree,node)[1])\n",
    "    print(\"/\")\n",
    "    print(query_node(tree,node)[2])\n",
    "    print(\"=\")\n",
    "    s = string(query_node(tree,node)[1]/query_node(tree,node)[2])\n",
    "    println(s[1:min(5, length(s))])\n",
    "    if query_node(tree,node)[3]==1\n",
    "        println(\"[terminal] \")\n",
    "    end\n",
    "end\n",
    "\n",
    "function display_path(payoffs::Array{Int64}, tree::Dict{String, Vector{Int64}}, leaf::String)\n",
    "    for i in 0:length(leaf)\n",
    "        if i==0\n",
    "            if haskey(tree, \"\")\n",
    "                display_node(payoffs, tree, \"\")\n",
    "                println()\n",
    "            end\n",
    "        else\n",
    "            if haskey(tree, leaf[1:i])\n",
    "                display_node(payoffs, tree, leaf[1:i])\n",
    "                println()\n",
    "            end\n",
    "        end\n",
    "    end\n",
    "end\n",
    "\n",
    "function display_choices(payoffs::Array{Int64}, tree::Dict{String, Vector{Int64}}, node::String)\n",
    "    children = get_children(payoffs, node)\n",
    "    display_node(payoffs, tree, node)\n",
    "    for c in children\n",
    "        println()\n",
    "        display_node(payoffs, tree, c)\n",
    "    end\n",
    "end"
   ]
  },
  {
   "cell_type": "code",
   "execution_count": 247,
   "id": "4ed963d0",
   "metadata": {},
   "outputs": [
    {
     "data": {
      "text/plain": [
       "\"Hc`iHE9\\\"\""
      ]
     },
     "execution_count": 247,
     "metadata": {},
     "output_type": "execute_result"
    }
   ],
   "source": [
    "a1 = int2ind[121321]\n",
    "b1 = int2ind[214111]\n",
    "a2 = int2ind[213112]\n",
    "b2 = int2ind[313111]\n",
    "a3 = int2ind[121321]\n",
    "b3 = int2ind[121222]\n",
    "a4 = int2ind[113122]\n",
    "b4 = int2ind[111133]\n",
    "s0=intarr_to_string(merge_arrs([a1,a2,a3,a4],[b1,b2,b3,b4]))"
   ]
  },
  {
   "cell_type": "code",
   "execution_count": 248,
   "id": "2fb251ed",
   "metadata": {},
   "outputs": [
    {
     "data": {
      "text/plain": [
       "create_tree (generic function with 2 methods)"
      ]
     },
     "execution_count": 248,
     "metadata": {},
     "output_type": "execute_result"
    }
   ],
   "source": [
    "function create_tree(node::String = \"\")::Dict{String, Vector{Int64}}\n",
    "    return Dict(node => [0,0,0])\n",
    "end"
   ]
  },
  {
   "cell_type": "code",
   "execution_count": 249,
   "id": "0e01aeb9",
   "metadata": {},
   "outputs": [
    {
     "data": {
      "text/plain": [
       "Dict{String, Vector{Int64}} with 1 entry:\n",
       "  \"\" => [0, 0, 0]"
      ]
     },
     "execution_count": 249,
     "metadata": {},
     "output_type": "execute_result"
    }
   ],
   "source": [
    "#tree = load_object(\"beatn10_tree.jld2\")\n",
    "\n",
    "tree = create_tree()\n"
   ]
  },
  {
   "cell_type": "code",
   "execution_count": 250,
   "id": "620e8a6a",
   "metadata": {},
   "outputs": [],
   "source": [
    "#tree = expand_leaf(payoffs, tree, \"\")"
   ]
  },
  {
   "cell_type": "code",
   "execution_count": 251,
   "id": "13d01ca5",
   "metadata": {},
   "outputs": [
    {
     "data": {
      "text/plain": [
       "\"\""
      ]
     },
     "execution_count": 251,
     "metadata": {},
     "output_type": "execute_result"
    }
   ],
   "source": [
    "node = random_leaf(payoffs, tree, \"\")"
   ]
  },
  {
   "cell_type": "code",
   "execution_count": 252,
   "id": "088648d6",
   "metadata": {},
   "outputs": [
    {
     "data": {
      "text/plain": [
       "grow_tree (generic function with 3 methods)"
      ]
     },
     "execution_count": 252,
     "metadata": {},
     "output_type": "execute_result"
    }
   ],
   "source": [
    "function grow_tree(\n",
    "        payoffs::Array{Int64}, tree::Dict{String, Vector{Int64}}, node::String = \"\")::Dict{String, Vector{Int64}}\n",
    "    node = random_leaf(payoffs, tree, node)\n",
    "    tree = try_add_node(tree, node)\n",
    "    tree = check_and_propagate_terminal(payoffs, tree, node)\n",
    "    tree = expand_leaf(payoffs, tree, node)\n",
    "    return tree\n",
    "end\n",
    "\n",
    "function grow_tree(\n",
    "        payoffs::Array{Int64}, tree::Dict{String, Vector{Int64}}; \n",
    "        node::String = \"\", iters::Int64 = 1000)::Dict{String, Vector{Int64}}\n",
    "    for i in 1:iters\n",
    "        tree = grow_tree(payoffs, tree, node)\n",
    "    end\n",
    "    return tree\n",
    "end"
   ]
  },
  {
   "cell_type": "code",
   "execution_count": 253,
   "id": "2f50fe1c",
   "metadata": {},
   "outputs": [
    {
     "name": "stdout",
     "output_type": "stream",
     "text": [
      "  0.068840 seconds (556.72 k allocations: 42.565 MiB, 20.72% compilation time)\n"
     ]
    },
    {
     "data": {
      "text/plain": [
       "Dict{String, Vector{Int64}} with 173 entries:\n",
       "  \"\\\"i\" => [1, 1, 0]\n",
       "  \"Z\"   => [0, 1, 0]\n",
       "  \"1\"   => [0, 1, 0]\n",
       "  \"E?\"  => [0, 1, 0]\n",
       "  \"=\"   => [0, 1, 0]\n",
       "  \"'\"   => [0, 1, 0]\n",
       "  \"O7\"  => [1, 1, 0]\n",
       "  \"\\$Z\" => [0, 1, 0]\n",
       "  \"NP\"  => [0, 1, 0]\n",
       "  \"*\"   => [0, 1, 0]\n",
       "  \")\"   => [2, 2, 0]\n",
       "  \"K\"   => [0, 1, 0]\n",
       "  \":e\"  => [1, 1, 0]\n",
       "  \"<b\"  => [1, 1, 0]\n",
       "  \"]P\"  => [1, 1, 0]\n",
       "  \"hT\"  => [0, 1, 0]\n",
       "  \"T-\"  => [0, 1, 0]\n",
       "  \"4^\"  => [1, 1, 0]\n",
       "  \"9Q\"  => [0, 1, 0]\n",
       "  \"a4\"  => [0, 1, 0]\n",
       "  \"9\"   => [1, 2, 0]\n",
       "  \"F\"   => [1, 2, 0]\n",
       "  \"c\"   => [0, 1, 0]\n",
       "  \"HH\"  => [0, 1, 0]\n",
       "  \"&U\"  => [0, 1, 0]\n",
       "  ⋮     => ⋮"
      ]
     },
     "execution_count": 253,
     "metadata": {},
     "output_type": "execute_result"
    }
   ],
   "source": [
    "@time tree = grow_tree(payoffs, tree, iters=100)"
   ]
  },
  {
   "cell_type": "code",
   "execution_count": 254,
   "id": "180fcb54",
   "metadata": {},
   "outputs": [],
   "source": [
    "# for metaiter in 1:10\n",
    "#     s = \"\"\n",
    "#     for iter in 1:100000\n",
    "#         s = string(s,\".\")\n",
    "#         node = random_leaf(payoffs, tree, \"\")\n",
    "#         tree = try_add_node(tree, node)\n",
    "#         tree = check_and_propagate_terminal(payoffs, tree, node)\n",
    "#         s = string(s, node, \".\")\n",
    "#         tree = expand_leaf(payoffs, tree, node)\n",
    "#     end\n",
    "#     println(s[end-100:end])\n",
    "#     save_object(\"beatn10_tree.jld2\", tree)\n",
    "# end"
   ]
  },
  {
   "cell_type": "code",
   "execution_count": 255,
   "id": "caf274be",
   "metadata": {},
   "outputs": [
    {
     "data": {
      "text/plain": [
       "173"
      ]
     },
     "execution_count": 255,
     "metadata": {},
     "output_type": "execute_result"
    }
   ],
   "source": [
    "length(tree)"
   ]
  },
  {
   "cell_type": "code",
   "execution_count": 256,
   "id": "cd36d9a7",
   "metadata": {},
   "outputs": [
    {
     "data": {
      "text/plain": [
       "\"8\""
      ]
     },
     "execution_count": 256,
     "metadata": {},
     "output_type": "execute_result"
    }
   ],
   "source": [
    "node = random_leaf(payoffs, tree, \"\")"
   ]
  },
  {
   "cell_type": "code",
   "execution_count": 257,
   "id": "9829cf63",
   "metadata": {
    "scrolled": false
   },
   "outputs": [],
   "source": [
    "# for mj in 1:2\n",
    "#     nodes = Array{String}(undef, 50)\n",
    "#     for i in 1:length(nodes)\n",
    "#         node = \"\"\n",
    "#         for j in 1:mj\n",
    "#             if haskey(tree, node)\n",
    "#                 node = sample_next_node2(payoffs, tree, node, 10.0)\n",
    "#             end\n",
    "#         end\n",
    "#         nodes[i] = node\n",
    "#     end\n",
    "#     nodes = sort(unique(nodes))\n",
    "#     for node in nodes\n",
    "#         display_node(payoffs, tree, node)\n",
    "#         println()\n",
    "#     end\n",
    "# end"
   ]
  },
  {
   "cell_type": "code",
   "execution_count": 258,
   "id": "5b275c3b",
   "metadata": {
    "scrolled": false
   },
   "outputs": [],
   "source": [
    "# node = random_leaf(payoffs, tree, \"\")\n",
    "# display_path(payoffs, tree, node)"
   ]
  },
  {
   "cell_type": "code",
   "execution_count": 259,
   "id": "1e9b4e21",
   "metadata": {},
   "outputs": [],
   "source": [
    "# node = \"\"\n",
    "# while query_node(tree,node)[2] > 1 && query_node(tree,node)[3] != 1\n",
    "#     node = sample_next_node(payoffs, tree, node)\n",
    "#     println(node)\n",
    "# end"
   ]
  },
  {
   "cell_type": "code",
   "execution_count": 260,
   "id": "03eebe4f",
   "metadata": {},
   "outputs": [],
   "source": [
    "# display_node(payoffs, tree, node)"
   ]
  },
  {
   "cell_type": "code",
   "execution_count": 261,
   "id": "3bddc79c",
   "metadata": {},
   "outputs": [],
   "source": [
    "# children = get_children(payoffs, node)\n",
    "# children"
   ]
  },
  {
   "cell_type": "code",
   "execution_count": 262,
   "id": "8974b70c",
   "metadata": {},
   "outputs": [],
   "source": [
    "# sample_next_node(payoffs, tree, node)"
   ]
  },
  {
   "cell_type": "code",
   "execution_count": 263,
   "id": "0e197833",
   "metadata": {
    "scrolled": false
   },
   "outputs": [],
   "source": [
    "#display_choices(payoffs, tree, \"HG`i\\\"\")"
   ]
  },
  {
   "cell_type": "markdown",
   "id": "d5a7994a",
   "metadata": {},
   "source": [
    "### Tree at arbitrary root"
   ]
  },
  {
   "cell_type": "code",
   "execution_count": 268,
   "id": "9fa95db4",
   "metadata": {},
   "outputs": [
    {
     "data": {
      "text/plain": [
       "8"
      ]
     },
     "execution_count": 268,
     "metadata": {},
     "output_type": "execute_result"
    }
   ],
   "source": [
    "length(s0)"
   ]
  },
  {
   "cell_type": "code",
   "execution_count": 272,
   "id": "40afba28",
   "metadata": {},
   "outputs": [
    {
     "name": "stdout",
     "output_type": "stream",
     "text": [
      "  6.875568 seconds (45.72 M allocations: 4.875 GiB, 54.34% gc time)\n"
     ]
    },
    {
     "data": {
      "text/plain": [
       "Dict{String, Vector{Int64}} with 17015 entries:\n",
       "  \"Hc`iHE9IWj#\"   => [0, 1, 0]\n",
       "  \"Hc`iHE9>+cT\"   => [1, 2, 1]\n",
       "  \"Hc`iHE9<+\"     => [0, 2, 0]\n",
       "  \"Hc`iHE9V`\"     => [1, 1, 0]\n",
       "  \"Hc`iHE9\\$e5\"   => [1, 1, 0]\n",
       "  \"Hc`iHE9:Y#\"    => [1, 1, 0]\n",
       "  \"Hc`iHE9?&L\"    => [1, 1, 0]\n",
       "  \"Hc`iHE9:&F\"    => [1, 1, 0]\n",
       "  \"Hc`iHE9`7\\\\\"   => [0, 1, 0]\n",
       "  \"Hc`iHE9\\\"g>e4\" => [1, 1, 0]\n",
       "  \"Hc`iHE9\\\"4>J\"  => [1, 1, 0]\n",
       "  \"Hc`iHE9H\\\\>\\\"\" => [0, 1, 0]\n",
       "  \"Hc`iHE9UBf\"    => [1, 1, 0]\n",
       "  \"Hc`iHE9bd[\"    => [1, 1, 0]\n",
       "  \"Hc`iHE9\\\"hcC\"  => [1, 2, 0]\n",
       "  \"Hc`iHE9W<\"     => [1, 1, 0]\n",
       "  \"Hc`iHE9EM(\"    => [1, 1, 0]\n",
       "  \"Hc`iHE9\\\"iT^\"  => [0, 3, 0]\n",
       "  \"Hc`iHE9)+%_\"   => [1, 1, 0]\n",
       "  \"Hc`iHE9[R\\\"]\"  => [0, 1, 0]\n",
       "  \"Hc`iHE9\\\"F<c\"  => [0, 1, 0]\n",
       "  \"Hc`iHE9@E\"     => [2, 2, 0]\n",
       "  \"Hc`iHE9P:8\"    => [0, 1, 0]\n",
       "  \"Hc`iHE9LI/\"    => [1, 1, 0]\n",
       "  \"Hc`iHE9(*2\"    => [2, 2, 0]\n",
       "  ⋮               => ⋮"
      ]
     },
     "execution_count": 272,
     "metadata": {},
     "output_type": "execute_result"
    }
   ],
   "source": [
    "node0 = s0[1:7]\n",
    "tree = create_tree(node0)\n",
    "@time tree = grow_tree(payoffs, tree, node0, 10000)"
   ]
  },
  {
   "cell_type": "code",
   "execution_count": null,
   "id": "5eb5060c",
   "metadata": {
    "scrolled": true
   },
   "outputs": [],
   "source": [
    "for mj in 1:2\n",
    "    nodes = Array{String}(undef, 50)\n",
    "    for i in 1:length(nodes)\n",
    "        node = node0\n",
    "        for j in 1:mj\n",
    "            if haskey(tree, node)\n",
    "                node = sample_next_node2(payoffs, tree, node, 10.0)\n",
    "            end\n",
    "        end\n",
    "        nodes[i] = node\n",
    "    end\n",
    "    nodes = sort(unique(nodes))\n",
    "    for node in nodes\n",
    "        display_node(payoffs, tree, node)\n",
    "        println()\n",
    "    end\n",
    "end"
   ]
  },
  {
   "cell_type": "markdown",
   "id": "0ead5f88",
   "metadata": {},
   "source": [
    "## Play vs MCTS\n",
    "### CPU first"
   ]
  },
  {
   "cell_type": "code",
   "execution_count": 370,
   "id": "694e03d9",
   "metadata": {},
   "outputs": [
    {
     "name": "stdout",
     "output_type": "stream",
     "text": [
      "Node: \n",
      "Stats: 0/0=NaN\n"
     ]
    }
   ],
   "source": [
    "n_mc = 100000\n",
    "beta = 20.0\n",
    "game = \"\"\n",
    "tree = create_tree(game)\n",
    "display_node(payoffs, create_tree(game), game)"
   ]
  },
  {
   "cell_type": "code",
   "execution_count": 371,
   "id": "61091648",
   "metadata": {},
   "outputs": [
    {
     "name": "stdout",
     "output_type": "stream",
     "text": [
      " 60.483277 seconds (559.44 M allocations: 42.634 GiB, 37.23% gc time)\n",
      "Node: V\n",
      "132112 {0}. \n",
      "Stats: 0/0=NaN\n"
     ]
    }
   ],
   "source": [
    "# MCTS turn\n",
    "tree = create_tree(game)\n",
    "@time tree = grow_tree(payoffs, tree, game, n_mc)\n",
    "game = sample_next_node2(payoffs, tree, game, beta)\n",
    "display_node(payoffs, create_tree(game), game)"
   ]
  },
  {
   "cell_type": "code",
   "execution_count": 372,
   "id": "2300c81b",
   "metadata": {},
   "outputs": [
    {
     "name": "stdout",
     "output_type": "stream",
     "text": [
      "Node: Vi\n",
      "132112 {0}. 313111 {0}. \n",
      "Stats: 0/0=NaN\n"
     ]
    }
   ],
   "source": [
    "# player turn\n",
    "pmove = int2ind[313111]\n",
    "game = append_move_to_leaf(game, pmove)\n",
    "display_node(payoffs, create_tree(game), game)"
   ]
  },
  {
   "cell_type": "code",
   "execution_count": 373,
   "id": "08749e8c",
   "metadata": {},
   "outputs": [
    {
     "name": "stdout",
     "output_type": "stream",
     "text": [
      " 59.409009 seconds (505.02 M allocations: 40.165 GiB, 36.85% gc time)\n",
      "Node: Vif\n",
      "132112 {0}. 313111 {0}. \n",
      "312112 {0}. \n",
      "Stats: 0/0=NaN\n"
     ]
    }
   ],
   "source": [
    "# MCTS turn\n",
    "tree = create_tree(game)\n",
    "@time tree = grow_tree(payoffs, tree, game, n_mc)\n",
    "game = sample_next_node2(payoffs, tree, game, beta)\n",
    "display_node(payoffs, create_tree(game), game)"
   ]
  },
  {
   "cell_type": "code",
   "execution_count": 374,
   "id": "dbffbdcf",
   "metadata": {},
   "outputs": [
    {
     "name": "stdout",
     "output_type": "stream",
     "text": [
      "Node: VifS\n",
      "132112 {0}. 313111 {0}. \n",
      "312112 {0}. 131212 {2}. \n",
      "Stats: 0/0=NaN\n"
     ]
    }
   ],
   "source": [
    "# player turn\n",
    "pmove = int2ind[131212]\n",
    "game = append_move_to_leaf(game, pmove)\n",
    "display_node(payoffs, create_tree(game), game)"
   ]
  },
  {
   "cell_type": "code",
   "execution_count": 375,
   "id": "ad9660de",
   "metadata": {},
   "outputs": [
    {
     "name": "stdout",
     "output_type": "stream",
     "text": [
      " 23.942032 seconds (174.92 M allocations: 14.672 GiB, 40.37% gc time)\n",
      "Node: VifSU\n",
      "132112 {0}. 313111 {0}. \n",
      "312112 {0}. 131212 {2}. \n",
      "131311 {2}. \n",
      "Stats: 0/0=NaN\n"
     ]
    }
   ],
   "source": [
    "# MCTS turn\n",
    "tree = create_tree(game)\n",
    "@time tree = grow_tree(payoffs, tree, game, n_mc)\n",
    "game = sample_next_node2(payoffs, tree, game, beta)\n",
    "display_node(payoffs, create_tree(game), game)"
   ]
  },
  {
   "cell_type": "code",
   "execution_count": 376,
   "id": "3bbdf3a9",
   "metadata": {},
   "outputs": [
    {
     "name": "stdout",
     "output_type": "stream",
     "text": [
      "Node: VifSU6\n",
      "132112 {0}. 313111 {0}. \n",
      "312112 {0}. 131212 {2}. \n",
      "131311 {2}. 112321 {3}. \n",
      "Stats: 0/0=NaN\n"
     ]
    }
   ],
   "source": [
    "# player turn\n",
    "pmove = int2ind[112321]\n",
    "game = append_move_to_leaf(game, pmove)\n",
    "display_node(payoffs, create_tree(game), game)"
   ]
  },
  {
   "cell_type": "code",
   "execution_count": 377,
   "id": "5aa207bf",
   "metadata": {},
   "outputs": [
    {
     "name": "stdout",
     "output_type": "stream",
     "text": [
      "  8.113058 seconds (72.07 M allocations: 5.766 GiB, 39.43% gc time)\n",
      "Node: VifSU6;\n",
      "132112 {0}. 313111 {0}. \n",
      "312112 {0}. 131212 {2}. \n",
      "131311 {2}. 112321 {3}. \n",
      "113212 {3}. \n",
      "Stats: 0/0=NaN\n"
     ]
    }
   ],
   "source": [
    "# MCTS turn\n",
    "tree = create_tree(game)\n",
    "@time tree = grow_tree(payoffs, tree, game, n_mc)\n",
    "game = sample_next_node2(payoffs, tree, game, beta)\n",
    "display_node(payoffs, create_tree(game), game)"
   ]
  },
  {
   "cell_type": "code",
   "execution_count": 378,
   "id": "37745409",
   "metadata": {},
   "outputs": [
    {
     "name": "stdout",
     "output_type": "stream",
     "text": [
      "Node: VifSU6;=\n",
      "132112 {0}. 313111 {0}. \n",
      "312112 {0}. 131212 {2}. \n",
      "131311 {2}. 112321 {3}. \n",
      "113212 {3}. 113311 {3}. \n",
      "Stats: 0/0=NaN\n"
     ]
    }
   ],
   "source": [
    "# player turn\n",
    "pmove = int2ind[113311]\n",
    "game = append_move_to_leaf(game, pmove)\n",
    "display_node(payoffs, create_tree(game), game)"
   ]
  },
  {
   "cell_type": "code",
   "execution_count": 379,
   "id": "1a2f0a12",
   "metadata": {},
   "outputs": [
    {
     "name": "stdout",
     "output_type": "stream",
     "text": [
      "  8.334637 seconds (75.95 M allocations: 6.597 GiB, 32.82% gc time)\n",
      "Node: VifSU6;=E\n",
      "132112 {0}. 313111 {0}. \n",
      "312112 {0}. 131212 {2}. \n",
      "131311 {2}. 112321 {3}. \n",
      "113212 {3}. 113311 {3}. \n",
      "121222 {3}. \n",
      "Stats: 0/0=NaN\n"
     ]
    }
   ],
   "source": [
    "# MCTS turn\n",
    "tree = create_tree(game)\n",
    "@time tree = grow_tree(payoffs, tree, game, n_mc)\n",
    "game = sample_next_node2(payoffs, tree, game, beta)\n",
    "display_node(payoffs, create_tree(game), game)"
   ]
  },
  {
   "cell_type": "code",
   "execution_count": 380,
   "id": "73f445e8",
   "metadata": {},
   "outputs": [
    {
     "name": "stdout",
     "output_type": "stream",
     "text": [
      "Node: VifSU6;=E+\n",
      "132112 {0}. 313111 {0}. \n",
      "312112 {0}. 131212 {2}. \n",
      "131311 {2}. 112321 {3}. \n",
      "113212 {3}. 113311 {3}. \n",
      "121222 {3}. 111412 {3}. \n",
      "Stats: 0/0=NaN\n"
     ]
    }
   ],
   "source": [
    "# player turn\n",
    "pmove = int2ind[111412]\n",
    "game = append_move_to_leaf(game, pmove)\n",
    "display_node(payoffs, create_tree(game), game)"
   ]
  },
  {
   "cell_type": "code",
   "execution_count": 381,
   "id": "60d97f86",
   "metadata": {},
   "outputs": [
    {
     "name": "stdout",
     "output_type": "stream",
     "text": [
      " 12.023327 seconds (100.81 M allocations: 9.897 GiB, 33.77% gc time)\n",
      "Node: VifSU6;=E+\"\n",
      "132112 {0}. 313111 {0}. \n",
      "312112 {0}. 131212 {2}. \n",
      "131311 {2}. 112321 {3}. \n",
      "113212 {3}. 113311 {3}. \n",
      "121222 {3}. 111412 {3}. \n",
      "111133 {4}. \n",
      "Stats: 0/0=NaN\n"
     ]
    }
   ],
   "source": [
    "# MCTS turn\n",
    "tree = create_tree(game)\n",
    "@time tree = grow_tree(payoffs, tree, game, n_mc)\n",
    "game = sample_next_node2(payoffs, tree, game, beta)\n",
    "display_node(payoffs, create_tree(game), game)"
   ]
  },
  {
   "cell_type": "code",
   "execution_count": 382,
   "id": "bfd442db",
   "metadata": {},
   "outputs": [
    {
     "name": "stdout",
     "output_type": "stream",
     "text": [
      "Node: VifSU6;=E+\"\n",
      "132112 {0}. 313111 {0}. \n",
      "312112 {0}. 131212 {2}. \n",
      "131311 {2}. 112321 {3}. \n",
      "113212 {3}. 113311 {3}. \n",
      "121222 {3}. 111412 {3}. \n",
      "111133 {4}. \n",
      "Stats: 58206/58206=1.0\n",
      "[terminal] \n"
     ]
    }
   ],
   "source": [
    "display_node(payoffs, tree, game)"
   ]
  },
  {
   "cell_type": "code",
   "execution_count": null,
   "id": "d0782059",
   "metadata": {},
   "outputs": [],
   "source": []
  },
  {
   "cell_type": "code",
   "execution_count": 317,
   "id": "fbbbf2fb",
   "metadata": {},
   "outputs": [
    {
     "name": "stdout",
     "output_type": "stream",
     "text": [
      "Node: icHRG\"&\n",
      "313111 {0}. 214111 {1}. \n",
      "121321 {1}. 131122 {2}. \n",
      "121312 {2}. 111133 {2}. \n",
      "111232 {2}. \n",
      "Stats: 0/0=NaN\n"
     ]
    }
   ],
   "source": [
    "node = game[1:7]\n",
    "display_node(payoffs, create_tree(node), node)"
   ]
  },
  {
   "cell_type": "code",
   "execution_count": 318,
   "id": "0cf9fe60",
   "metadata": {},
   "outputs": [
    {
     "name": "stdout",
     "output_type": "stream",
     "text": [
      "  8.971087 seconds (75.64 M allocations: 6.939 GiB, 35.43% gc time)\n"
     ]
    },
    {
     "data": {
      "text/plain": [
       "Dict{String, Vector{Int64}} with 18936 entries:\n",
       "  \"icHRG\\\"&/bJa\"    => [1, 1, 0]\n",
       "  \"icHRG\\\"&[\\\\h0\"   => [27, 28, 0]\n",
       "  \"icHRG\\\"&/%Z:)\"   => [2, 3, 0]\n",
       "  \"icHRG\\\"&f1)]\"    => [3, 4, 0]\n",
       "  \"icHRG\\\"&+.h[\"    => [5, 5, 0]\n",
       "  \"icHRG\\\"&j25/i`\"  => [26, 26, 1]\n",
       "  \"icHRG\\\"&+%ZJi\"   => [1, 1, 0]\n",
       "  \"icHRG\\\"&g]/bJ\"   => [0, 1, 0]\n",
       "  \"icHRG\\\"&fZh]i8\"  => [2, 2, 1]\n",
       "  \"icHRG\\\"&fZg\"     => [42, 47, 0]\n",
       "  \"icHRG\\\"&+[/acK\"  => [3, 4, 0]\n",
       "  \"icHRG\\\"&g4+/\"    => [8, 8, 0]\n",
       "  \"icHRG\\\"&f45Ji`\"  => [4, 4, 1]\n",
       "  \"icHRG\\\"&fd[]i\"   => [10, 10, 0]\n",
       "  \"icHRG\\\"&g:*1+]\"  => [1, 1, 0]\n",
       "  \"icHRG\\\"&)cdaF\"   => [1, 1, 0]\n",
       "  \"icHRG\\\"&+%j\\\\hJ\" => [1, 1, 0]\n",
       "  \"icHRG\\\"&fJ[0i8\"  => [6, 6, 1]\n",
       "  \"icHRG\\\"&g[/bcKE\" => [0, 1, 0]\n",
       "  \"icHRG\\\"&*#ZJi\"   => [1, 1, 0]\n",
       "  \"icHRG\\\"&+\\\\h05`\" => [2, 2, 1]\n",
       "  \"icHRG\\\"&+%)8\"    => [2, 2, 1]\n",
       "  \"icHRG\\\"&*J[]/1\"  => [1, 1, 0]\n",
       "  \"icHRG\\\"&5%i`\"    => [26, 26, 1]\n",
       "  \"icHRG\\\"&)[/^b\"   => [3, 3, 0]\n",
       "  ⋮                 => ⋮"
      ]
     },
     "execution_count": 318,
     "metadata": {},
     "output_type": "execute_result"
    }
   ],
   "source": [
    "tree = create_tree(node)\n",
    "@time tree = grow_tree(payoffs, tree, node, n_mc)"
   ]
  },
  {
   "cell_type": "markdown",
   "id": "2fa04ee1",
   "metadata": {},
   "source": [
    "### MCTS vs self"
   ]
  },
  {
   "cell_type": "code",
   "execution_count": 356,
   "id": "eb022480",
   "metadata": {},
   "outputs": [
    {
     "name": "stdout",
     "output_type": "stream",
     "text": [
      "Node: \n",
      "Stats: 0/0=NaN\n"
     ]
    }
   ],
   "source": [
    "n_mc = 100000\n",
    "beta = 20.0\n",
    "game = \"\"\n",
    "tree = create_tree(game)\n",
    "display_node(payoffs, tree, game)"
   ]
  },
  {
   "cell_type": "code",
   "execution_count": 357,
   "id": "11c5edd8",
   "metadata": {},
   "outputs": [
    {
     "name": "stdout",
     "output_type": "stream",
     "text": [
      " 56.583590 seconds (558.71 M allocations: 42.540 GiB, 34.94% gc time)\n",
      "Node: `\n",
      "213112 {0}. \n",
      "Stats: 813/1705=0.476\n"
     ]
    }
   ],
   "source": [
    "# MCTS turn\n",
    "tree = create_tree(game)\n",
    "@time tree = grow_tree(payoffs, tree, game, n_mc)\n",
    "game = sample_next_node2(payoffs, tree, game, beta)\n",
    "display_node(payoffs, tree, game)"
   ]
  },
  {
   "cell_type": "code",
   "execution_count": 358,
   "id": "f8086883",
   "metadata": {},
   "outputs": [
    {
     "name": "stdout",
     "output_type": "stream",
     "text": [
      " 54.774908 seconds (495.92 M allocations: 38.330 GiB, 37.49% gc time)\n",
      "Node: `i\n",
      "213112 {0}. 313111 {0}. \n",
      "Stats: 4529/11739=0.385\n"
     ]
    }
   ],
   "source": [
    "# MCTS turn\n",
    "tree = create_tree(game)\n",
    "@time tree = grow_tree(payoffs, tree, game, n_mc)\n",
    "game = sample_next_node2(payoffs, tree, game, beta)\n",
    "display_node(payoffs, tree, game)"
   ]
  },
  {
   "cell_type": "code",
   "execution_count": 359,
   "id": "d749f2aa",
   "metadata": {},
   "outputs": [
    {
     "name": "stdout",
     "output_type": "stream",
     "text": [
      " 58.743900 seconds (510.55 M allocations: 40.618 GiB, 36.95% gc time)\n",
      "Node: `ih\n",
      "213112 {0}. 313111 {0}. \n",
      "312211 {0}. \n",
      "Stats: 241/677=0.355\n"
     ]
    }
   ],
   "source": [
    "# MCTS turn\n",
    "tree = create_tree(game)\n",
    "@time tree = grow_tree(payoffs, tree, game, n_mc)\n",
    "game = sample_next_node2(payoffs, tree, game, beta)\n",
    "display_node(payoffs, tree, game)"
   ]
  },
  {
   "cell_type": "code",
   "execution_count": 360,
   "id": "3bbe620f",
   "metadata": {},
   "outputs": [
    {
     "name": "stdout",
     "output_type": "stream",
     "text": [
      " 26.903677 seconds (234.21 M allocations: 18.199 GiB, 36.70% gc time)\n",
      "Node: `ihU\n",
      "213112 {0}. 313111 {0}. \n",
      "312211 {0}. 131311 {2}. \n",
      "Stats: 3833/142574=0.026\n"
     ]
    }
   ],
   "source": [
    "# MCTS turn\n",
    "tree = create_tree(game)\n",
    "@time tree = grow_tree(payoffs, tree, game, n_mc)\n",
    "game = sample_next_node2(payoffs, tree, game, beta)\n",
    "display_node(payoffs, tree, game)"
   ]
  },
  {
   "cell_type": "code",
   "execution_count": 361,
   "id": "247ed9dd",
   "metadata": {},
   "outputs": [
    {
     "name": "stdout",
     "output_type": "stream",
     "text": [
      " 14.737715 seconds (129.20 M allocations: 10.370 GiB, 34.92% gc time)\n",
      "Node: `ihUX\n",
      "213112 {0}. 313111 {0}. \n",
      "312211 {0}. 131311 {2}. \n",
      "141112 {2}. \n",
      "Stats: 1800/63040=0.028\n"
     ]
    }
   ],
   "source": [
    "# MCTS turn\n",
    "tree = create_tree(game)\n",
    "@time tree = grow_tree(payoffs, tree, game, n_mc)\n",
    "game = sample_next_node2(payoffs, tree, game, beta)\n",
    "display_node(payoffs, tree, game)"
   ]
  },
  {
   "cell_type": "code",
   "execution_count": 362,
   "id": "9c165cf6",
   "metadata": {},
   "outputs": [
    {
     "name": "stdout",
     "output_type": "stream",
     "text": [
      " 13.172859 seconds (111.80 M allocations: 8.985 GiB, 35.84% gc time)\n",
      "Node: `ihUX<\n",
      "213112 {0}. 313111 {0}. \n",
      "312211 {0}. 131311 {2}. \n",
      "141112 {2}. 113221 {3}. \n",
      "Stats: 188/4048=0.046\n"
     ]
    }
   ],
   "source": [
    "# MCTS turn\n",
    "tree = create_tree(game)\n",
    "@time tree = grow_tree(payoffs, tree, game, n_mc)\n",
    "game = sample_next_node2(payoffs, tree, game, beta)\n",
    "display_node(payoffs, tree, game)"
   ]
  },
  {
   "cell_type": "code",
   "execution_count": 363,
   "id": "a9de0d05",
   "metadata": {},
   "outputs": [
    {
     "name": "stdout",
     "output_type": "stream",
     "text": [
      " 14.017991 seconds (121.78 M allocations: 10.367 GiB, 32.63% gc time)\n",
      "Node: `ihUX<R\n",
      "213112 {0}. 313111 {0}. \n",
      "312211 {0}. 131311 {2}. \n",
      "141112 {2}. 113221 {3}. \n",
      "131122 {3}. \n",
      "Stats: 1349/103227=0.013\n"
     ]
    }
   ],
   "source": [
    "# MCTS turn\n",
    "tree = create_tree(game)\n",
    "@time tree = grow_tree(payoffs, tree, game, n_mc)\n",
    "game = sample_next_node2(payoffs, tree, game, beta)\n",
    "display_node(payoffs, tree, game)"
   ]
  },
  {
   "cell_type": "code",
   "execution_count": 364,
   "id": "85235075",
   "metadata": {},
   "outputs": [
    {
     "name": "stdout",
     "output_type": "stream",
     "text": [
      " 13.121446 seconds (111.25 M allocations: 9.680 GiB, 33.92% gc time)\n",
      "Node: `ihUX<Rd\n",
      "213112 {0}. 313111 {0}. \n",
      "312211 {0}. 131311 {2}. \n",
      "141112 {2}. 113221 {3}. \n",
      "131122 {3}. 222112 {3}. \n",
      "Stats: 150/2233=0.067\n"
     ]
    }
   ],
   "source": [
    "# MCTS turn\n",
    "tree = create_tree(game)\n",
    "@time tree = grow_tree(payoffs, tree, game, n_mc)\n",
    "game = sample_next_node2(payoffs, tree, game, beta)\n",
    "display_node(payoffs, tree, game)"
   ]
  },
  {
   "cell_type": "code",
   "execution_count": 365,
   "id": "577a5718",
   "metadata": {},
   "outputs": [
    {
     "name": "stdout",
     "output_type": "stream",
     "text": [
      " 16.123942 seconds (132.70 M allocations: 12.364 GiB, 32.35% gc time)\n",
      "Node: `ihUX<Rd\\\n",
      "213112 {0}. 313111 {0}. \n",
      "312211 {0}. 131311 {2}. \n",
      "141112 {2}. 113221 {3}. \n",
      "131122 {3}. 222112 {3}. \n",
      "212131 {3}. \n",
      "Stats: 294/27586=0.010\n"
     ]
    }
   ],
   "source": [
    "# MCTS turn\n",
    "tree = create_tree(game)\n",
    "@time tree = grow_tree(payoffs, tree, game, n_mc)\n",
    "game = sample_next_node2(payoffs, tree, game, beta)\n",
    "display_node(payoffs, tree, game)"
   ]
  },
  {
   "cell_type": "code",
   "execution_count": 367,
   "id": "e3c6a0b7",
   "metadata": {},
   "outputs": [
    {
     "name": "stdout",
     "output_type": "stream",
     "text": [
      " 10.299981 seconds (86.84 M allocations: 7.930 GiB, 34.29% gc time)\n",
      "Node: `ihUX<Rd\\>\n",
      "213112 {0}. 313111 {0}. \n",
      "312211 {0}. 131311 {2}. \n",
      "141112 {2}. 113221 {3}. \n",
      "131122 {3}. 222112 {3}. \n",
      "212131 {3}. 114112 {5}. \n",
      "Stats: 0/12978=0.0\n",
      "[terminal] \n"
     ]
    }
   ],
   "source": [
    "# MCTS turn\n",
    "tree = create_tree(game)\n",
    "@time tree = grow_tree(payoffs, tree, game, n_mc)\n",
    "game = sample_next_node2(payoffs, tree, game, beta)\n",
    "display_node(payoffs, tree, game)"
   ]
  },
  {
   "cell_type": "code",
   "execution_count": 366,
   "id": "b77f60f3",
   "metadata": {},
   "outputs": [
    {
     "name": "stdout",
     "output_type": "stream",
     "text": [
      "Node: <Bi;HR\"`\n",
      "113221 {0}. 121123 {1}. \n",
      "313111 {1}. 113212 {1}. \n",
      "121321 {2}. 131122 {3}. \n",
      "111133 {3}. 213112 {3}. \n",
      "Stats: 0/0=NaN\n"
     ]
    }
   ],
   "source": [
    "node = \"<Bi;HR\\\"`\"\n",
    "display_node(payoffs, create_tree(node), node)"
   ]
  },
  {
   "cell_type": "code",
   "execution_count": 355,
   "id": "42d9aae6",
   "metadata": {},
   "outputs": [
    {
     "name": "stdout",
     "output_type": "stream",
     "text": [
      "  5.259248 seconds (51.59 M allocations: 4.324 GiB, 32.27% gc time)\n",
      "Node: <Bi;HR\"`\n",
      "113221 {0}. 121123 {1}. \n",
      "313111 {1}. 113212 {1}. \n",
      "121321 {2}. 131122 {3}. \n",
      "111133 {3}. 213112 {3}. \n",
      "Stats: 199854/199905=0.999\n",
      "\n",
      "Node: <Bi;HR\"`D\n",
      "113221 {0}. 121123 {1}. \n",
      "313111 {1}. 113212 {1}. \n",
      "121321 {2}. 131122 {3}. \n",
      "111133 {3}. 213112 {3}. \n",
      "121213 {4}. \n",
      "Stats: 99894/99894=1.0\n",
      "[terminal] \n",
      "\n",
      "Node: <Bi;HR\"`G\n",
      "113221 {0}. 121123 {1}. \n",
      "313111 {1}. 113212 {1}. \n",
      "121321 {2}. 131122 {3}. \n",
      "111133 {3}. 213112 {3}. \n",
      "121312 {3}. \n",
      "Stats: 64/115=0.556\n",
      "\n",
      "Node: <Bi;HR\"`J\n",
      "113221 {0}. 121123 {1}. \n",
      "313111 {1}. 113212 {1}. \n",
      "121321 {2}. 131122 {3}. \n",
      "111133 {3}. 213112 {3}. \n",
      "122113 {4}. \n",
      "Stats: 99896/99896=1.0\n",
      "[terminal] \n"
     ]
    }
   ],
   "source": [
    "tree = create_tree(node)\n",
    "@time tree = grow_tree(payoffs, tree, node, n_mc)\n",
    "display_choices(payoffs, tree, node)"
   ]
  },
  {
   "cell_type": "code",
   "execution_count": 341,
   "id": "bef6a748",
   "metadata": {
    "scrolled": true
   },
   "outputs": [
    {
     "name": "stdout",
     "output_type": "stream",
     "text": [
      "Node: b`HG>ii\n",
      "213211 {0}. 213112 {0}. \n",
      "121321 {0}. 121312 {0}. \n",
      "114112 {0}. 313111 {0}. \n",
      "313111 {0}. \n",
      "Stats: 5294/13927=0.380\n",
      "\n",
      "Node: b`HG>ii!\n",
      "213211 {0}. 213112 {0}. \n",
      "121321 {0}. 121312 {0}. \n",
      "114112 {0}. 313111 {0}. \n",
      "313111 {0}. 111124 {0}. \n",
      "Stats: 54/93=0.580\n",
      "\n",
      "Node: b`HG>ii\"\n",
      "213211 {0}. 213112 {0}. \n",
      "121321 {0}. 121312 {0}. \n",
      "114112 {0}. 313111 {0}. \n",
      "313111 {0}. 111133 {0}. \n",
      "Stats: 116/308=0.376\n",
      "\n",
      "Node: b`HG>ii#\n",
      "213211 {0}. 213112 {0}. \n",
      "121321 {0}. 121312 {0}. \n",
      "114112 {0}. 313111 {0}. \n",
      "313111 {0}. 111142 {0}. \n",
      "Stats: 71/145=0.489\n",
      "\n",
      "Node: b`HG>ii$\n",
      "213211 {0}. 213112 {0}. \n",
      "121321 {0}. 121312 {0}. \n",
      "114112 {0}. 313111 {0}. \n",
      "313111 {0}. 111214 {0}. \n",
      "Stats: 46/72=0.638\n",
      "\n",
      "Node: b`HG>ii%\n",
      "213211 {0}. 213112 {0}. \n",
      "121321 {0}. 121312 {0}. \n",
      "114112 {0}. 313111 {0}. \n",
      "313111 {0}. 111223 {0}. \n",
      "Stats: 58/104=0.557\n",
      "\n",
      "Node: b`HG>ii&\n",
      "213211 {0}. 213112 {0}. \n",
      "121321 {0}. 121312 {0}. \n",
      "114112 {0}. 313111 {0}. \n",
      "313111 {0}. 111232 {0}. \n",
      "Stats: 90/209=0.430\n",
      "\n",
      "Node: b`HG>ii'\n",
      "213211 {0}. 213112 {0}. \n",
      "121321 {0}. 121312 {0}. \n",
      "114112 {0}. 313111 {0}. \n",
      "313111 {0}. 111241 {0}. \n",
      "Stats: 47/75=0.626\n",
      "\n",
      "Node: b`HG>ii(\n",
      "213211 {0}. 213112 {0}. \n",
      "121321 {0}. 121312 {0}. \n",
      "114112 {0}. 313111 {0}. \n",
      "313111 {0}. 111313 {0}. \n",
      "Stats: 52/88=0.590\n",
      "\n",
      "Node: b`HG>ii)\n",
      "213211 {0}. 213112 {0}. \n",
      "121321 {0}. 121312 {0}. \n",
      "114112 {0}. 313111 {0}. \n",
      "313111 {0}. 111322 {0}. \n",
      "Stats: 72/149=0.483\n",
      "\n",
      "Node: b`HG>ii*\n",
      "213211 {0}. 213112 {0}. \n",
      "121321 {0}. 121312 {0}. \n",
      "114112 {0}. 313111 {0}. \n",
      "313111 {0}. 111331 {0}. \n",
      "Stats: 71/145=0.489\n",
      "\n",
      "Node: b`HG>ii+\n",
      "213211 {0}. 213112 {0}. \n",
      "121321 {0}. 121312 {0}. \n",
      "114112 {0}. 313111 {0}. \n",
      "313111 {0}. 111412 {0}. \n",
      "Stats: 67/131=0.511\n",
      "\n",
      "Node: b`HG>ii,\n",
      "213211 {0}. 213112 {0}. \n",
      "121321 {0}. 121312 {0}. \n",
      "114112 {0}. 313111 {0}. \n",
      "313111 {0}. 111421 {0}. \n",
      "Stats: 59/107=0.551\n",
      "\n",
      "Node: b`HG>ii-\n",
      "213211 {0}. 213112 {0}. \n",
      "121321 {0}. 121312 {0}. \n",
      "114112 {0}. 313111 {0}. \n",
      "313111 {0}. 111511 {0}. \n",
      "Stats: 48/77=0.623\n",
      "\n",
      "Node: b`HG>ii.\n",
      "213211 {0}. 213112 {0}. \n",
      "121321 {0}. 121312 {0}. \n",
      "114112 {0}. 313111 {0}. \n",
      "313111 {0}. 112114 {0}. \n",
      "Stats: 42/61=0.688\n",
      "\n",
      "Node: b`HG>ii/\n",
      "213211 {0}. 213112 {0}. \n",
      "121321 {0}. 121312 {0}. \n",
      "114112 {0}. 313111 {0}. \n",
      "313111 {0}. 112123 {0}. \n",
      "Stats: 69/138=0.5\n",
      "\n",
      "Node: b`HG>ii0\n",
      "213211 {0}. 213112 {0}. \n",
      "121321 {0}. 121312 {0}. \n",
      "114112 {0}. 313111 {0}. \n",
      "313111 {0}. 112132 {0}. \n",
      "Stats: 69/138=0.5\n",
      "\n",
      "Node: b`HG>ii1\n",
      "213211 {0}. 213112 {0}. \n",
      "121321 {0}. 121312 {0}. \n",
      "114112 {0}. 313111 {0}. \n",
      "313111 {0}. 112141 {0}. \n",
      "Stats: 39/54=0.722\n",
      "\n",
      "Node: b`HG>ii2\n",
      "213211 {0}. 213112 {0}. \n",
      "121321 {0}. 121312 {0}. \n",
      "114112 {0}. 313111 {0}. \n",
      "313111 {0}. 112213 {0}. \n",
      "Stats: 55/96=0.572\n",
      "\n",
      "Node: b`HG>ii3\n",
      "213211 {0}. 213112 {0}. \n",
      "121321 {0}. 121312 {0}. \n",
      "114112 {0}. 313111 {0}. \n",
      "313111 {0}. 112222 {0}. \n",
      "Stats: 68/136=0.5\n",
      "\n",
      "Node: b`HG>ii4\n",
      "213211 {0}. 213112 {0}. \n",
      "121321 {0}. 121312 {0}. \n",
      "114112 {0}. 313111 {0}. \n",
      "313111 {0}. 112231 {0}. \n",
      "Stats: 46/72=0.638\n",
      "\n",
      "Node: b`HG>ii5\n",
      "213211 {0}. 213112 {0}. \n",
      "121321 {0}. 121312 {0}. \n",
      "114112 {0}. 313111 {0}. \n",
      "313111 {0}. 112312 {0}. \n",
      "Stats: 63/120=0.525\n",
      "\n",
      "Node: b`HG>ii6\n",
      "213211 {0}. 213112 {0}. \n",
      "121321 {0}. 121312 {0}. \n",
      "114112 {0}. 313111 {0}. \n",
      "313111 {0}. 112321 {0}. \n",
      "Stats: 53/91=0.582\n",
      "\n",
      "Node: b`HG>ii7\n",
      "213211 {0}. 213112 {0}. \n",
      "121321 {0}. 121312 {0}. \n",
      "114112 {0}. 313111 {0}. \n",
      "313111 {0}. 112411 {0}. \n",
      "Stats: 36/47=0.765\n",
      "\n",
      "Node: b`HG>ii8\n",
      "213211 {0}. 213112 {0}. \n",
      "121321 {0}. 121312 {0}. \n",
      "114112 {0}. 313111 {0}. \n",
      "313111 {0}. 113113 {1}. \n",
      "Stats: 35/45=0.777\n",
      "\n",
      "Node: b`HG>ii9\n",
      "213211 {0}. 213112 {0}. \n",
      "121321 {0}. 121312 {0}. \n",
      "114112 {0}. 313111 {0}. \n",
      "313111 {0}. 113122 {1}. \n",
      "Stats: 80/174=0.459\n",
      "\n",
      "Node: b`HG>ii:\n",
      "213211 {0}. 213112 {0}. \n",
      "121321 {0}. 121312 {0}. \n",
      "114112 {0}. 313111 {0}. \n",
      "313111 {0}. 113131 {1}. \n",
      "Stats: 49/78=0.628\n",
      "\n",
      "Node: b`HG>ii;\n",
      "213211 {0}. 213112 {0}. \n",
      "121321 {0}. 121312 {0}. \n",
      "114112 {0}. 313111 {0}. \n",
      "313111 {0}. 113212 {2}. \n",
      "Stats: 34/43=0.790\n",
      "\n",
      "Node: b`HG>ii<\n",
      "213211 {0}. 213112 {0}. \n",
      "121321 {0}. 121312 {0}. \n",
      "114112 {0}. 313111 {0}. \n",
      "313111 {0}. 113221 {1}. \n",
      "Stats: 36/48=0.75\n",
      "\n",
      "Node: b`HG>ii=\n",
      "213211 {0}. 213112 {0}. \n",
      "121321 {0}. 121312 {0}. \n",
      "114112 {0}. 313111 {0}. \n",
      "313111 {0}. 113311 {1}. \n",
      "Stats: 76/162=0.469\n",
      "\n",
      "Node: b`HG>ii>\n",
      "213211 {0}. 213112 {0}. \n",
      "121321 {0}. 121312 {0}. \n",
      "114112 {0}. 313111 {0}. \n",
      "313111 {0}. 114112 {1}. \n",
      "Stats: 44/67=0.656\n",
      "\n",
      "Node: b`HG>ii?\n",
      "213211 {0}. 213112 {0}. \n",
      "121321 {0}. 121312 {0}. \n",
      "114112 {0}. 313111 {0}. \n",
      "313111 {0}. 114121 {2}. \n",
      "Stats: 44/65=0.676\n",
      "\n",
      "Node: b`HG>ii@\n",
      "213211 {0}. 213112 {0}. \n",
      "121321 {0}. 121312 {0}. \n",
      "114112 {0}. 313111 {0}. \n",
      "313111 {0}. 114211 {2}. \n",
      "Stats: 29/33=0.878\n",
      "\n",
      "Node: b`HG>iiA\n",
      "213211 {0}. 213112 {0}. \n",
      "121321 {0}. 121312 {0}. \n",
      "114112 {0}. 313111 {0}. \n",
      "313111 {0}. 121114 {0}. \n",
      "Stats: 44/66=0.666\n",
      "\n",
      "Node: b`HG>iiB\n",
      "213211 {0}. 213112 {0}. \n",
      "121321 {0}. 121312 {0}. \n",
      "114112 {0}. 313111 {0}. \n",
      "313111 {0}. 121123 {0}. \n",
      "Stats: 258/949=0.271\n",
      "\n",
      "Node: b`HG>iiC\n",
      "213211 {0}. 213112 {0}. \n",
      "121321 {0}. 121312 {0}. \n",
      "114112 {0}. 313111 {0}. \n",
      "313111 {0}. 121132 {0}. \n",
      "Stats: 73/152=0.480\n",
      "\n",
      "Node: b`HG>iiD\n",
      "213211 {0}. 213112 {0}. \n",
      "121321 {0}. 121312 {0}. \n",
      "114112 {0}. 313111 {0}. \n",
      "313111 {0}. 121213 {0}. \n",
      "Stats: 65/125=0.52\n",
      "\n",
      "Node: b`HG>iiE\n",
      "213211 {0}. 213112 {0}. \n",
      "121321 {0}. 121312 {0}. \n",
      "114112 {0}. 313111 {0}. \n",
      "313111 {0}. 121222 {0}. \n",
      "Stats: 205/694=0.295\n",
      "\n",
      "Node: b`HG>iiF\n",
      "213211 {0}. 213112 {0}. \n",
      "121321 {0}. 121312 {0}. \n",
      "114112 {0}. 313111 {0}. \n",
      "313111 {0}. 121231 {0}. \n",
      "Stats: 59/107=0.551\n",
      "\n",
      "Node: b`HG>iiG\n",
      "213211 {0}. 213112 {0}. \n",
      "121321 {0}. 121312 {0}. \n",
      "114112 {0}. 313111 {0}. \n",
      "313111 {0}. 121312 {0}. \n",
      "Stats: 70/141=0.496\n",
      "\n",
      "Node: b`HG>iiH\n",
      "213211 {0}. 213112 {0}. \n",
      "121321 {0}. 121312 {0}. \n",
      "114112 {0}. 313111 {0}. \n",
      "313111 {0}. 121321 {0}. \n",
      "Stats: 246/892=0.275\n",
      "\n",
      "Node: b`HG>iiI\n",
      "213211 {0}. 213112 {0}. \n",
      "121321 {0}. 121312 {0}. \n",
      "114112 {0}. 313111 {0}. \n",
      "313111 {0}. 121411 {0}. \n",
      "Stats: 66/129=0.511\n",
      "\n",
      "Node: b`HG>iiJ\n",
      "213211 {0}. 213112 {0}. \n",
      "121321 {0}. 121312 {0}. \n",
      "114112 {0}. 313111 {0}. \n",
      "313111 {0}. 122113 {0}. \n",
      "Stats: 35/45=0.777\n",
      "\n",
      "Node: b`HG>iiK\n",
      "213211 {0}. 213112 {0}. \n",
      "121321 {0}. 121312 {0}. \n",
      "114112 {0}. 313111 {0}. \n",
      "313111 {0}. 122122 {0}. \n",
      "Stats: 94/225=0.417\n",
      "\n",
      "Node: b`HG>iiL\n",
      "213211 {0}. 213112 {0}. \n",
      "121321 {0}. 121312 {0}. \n",
      "114112 {0}. 313111 {0}. \n",
      "313111 {0}. 122212 {0}. \n",
      "Stats: 77/165=0.466\n",
      "\n",
      "Node: b`HG>iiM\n",
      "213211 {0}. 213112 {0}. \n",
      "121321 {0}. 121312 {0}. \n",
      "114112 {0}. 313111 {0}. \n",
      "313111 {0}. 122221 {0}. \n",
      "Stats: 53/91=0.582\n",
      "\n",
      "Node: b`HG>iiN\n",
      "213211 {0}. 213112 {0}. \n",
      "121321 {0}. 121312 {0}. \n",
      "114112 {0}. 313111 {0}. \n",
      "313111 {0}. 122311 {0}. \n",
      "Stats: 67/133=0.503\n",
      "\n",
      "Node: b`HG>iiO\n",
      "213211 {0}. 213112 {0}. \n",
      "121321 {0}. 121312 {0}. \n",
      "114112 {0}. 313111 {0}. \n",
      "313111 {0}. 123112 {1}. \n",
      "Stats: 40/57=0.701\n",
      "\n",
      "Node: b`HG>iiP\n",
      "213211 {0}. 213112 {0}. \n",
      "121321 {0}. 121312 {0}. \n",
      "114112 {0}. 313111 {0}. \n",
      "313111 {0}. 123211 {2}. \n",
      "Stats: 27/29=0.931\n",
      "\n",
      "Node: b`HG>iiQ\n",
      "213211 {0}. 213112 {0}. \n",
      "121321 {0}. 121312 {0}. \n",
      "114112 {0}. 313111 {0}. \n",
      "313111 {0}. 131113 {2}. \n",
      "Stats: 37/50=0.74\n",
      "\n",
      "Node: b`HG>iiR\n",
      "213211 {0}. 213112 {0}. \n",
      "121321 {0}. 121312 {0}. \n",
      "114112 {0}. 313111 {0}. \n",
      "313111 {0}. 131122 {1}. \n",
      "Stats: 109/280=0.389\n",
      "\n",
      "Node: b`HG>iiS\n",
      "213211 {0}. 213112 {0}. \n",
      "121321 {0}. 121312 {0}. \n",
      "114112 {0}. 313111 {0}. \n",
      "313111 {0}. 131212 {2}. \n",
      "Stats: 38/52=0.730\n",
      "\n",
      "Node: b`HG>iiT\n",
      "213211 {0}. 213112 {0}. \n",
      "121321 {0}. 121312 {0}. \n",
      "114112 {0}. 313111 {0}. \n",
      "313111 {0}. 131221 {2}. \n",
      "Stats: 40/56=0.714\n",
      "\n",
      "Node: b`HG>iiU\n",
      "213211 {0}. 213112 {0}. \n",
      "121321 {0}. 121312 {0}. \n",
      "114112 {0}. 313111 {0}. \n",
      "313111 {0}. 131311 {2}. \n",
      "Stats: 755/4428=0.170\n",
      "\n",
      "Node: b`HG>iiV\n",
      "213211 {0}. 213112 {0}. \n",
      "121321 {0}. 121312 {0}. \n",
      "114112 {0}. 313111 {0}. \n",
      "313111 {0}. 132112 {1}. \n",
      "Stats: 41/59=0.694\n",
      "\n",
      "Node: b`HG>iiW\n",
      "213211 {0}. 213112 {0}. \n",
      "121321 {0}. 121312 {0}. \n",
      "114112 {0}. 313111 {0}. \n",
      "313111 {0}. 132211 {2}. \n",
      "Stats: 36/47=0.765\n",
      "\n",
      "Node: b`HG>iiX\n",
      "213211 {0}. 213112 {0}. \n",
      "121321 {0}. 121312 {0}. \n",
      "114112 {0}. 313111 {0}. \n",
      "313111 {0}. 141112 {1}. \n",
      "Stats: 41/59=0.694\n",
      "\n",
      "Node: b`HG>iiY\n",
      "213211 {0}. 213112 {0}. \n",
      "121321 {0}. 121312 {0}. \n",
      "114112 {0}. 313111 {0}. \n",
      "313111 {0}. 141211 {2}. \n",
      "Stats: 30/35=0.857\n",
      "\n",
      "Node: b`HG>iiZ\n",
      "213211 {0}. 213112 {0}. \n",
      "121321 {0}. 121312 {0}. \n",
      "114112 {0}. 313111 {0}. \n",
      "313111 {0}. 212113 {0}. \n",
      "Stats: 53/90=0.588\n",
      "\n",
      "Node: b`HG>ii[\n",
      "213211 {0}. 213112 {0}. \n",
      "121321 {0}. 121312 {0}. \n",
      "114112 {0}. 313111 {0}. \n",
      "313111 {0}. 212122 {0}. \n",
      "Stats: 81/178=0.455\n",
      "\n",
      "Node: b`HG>ii\\\n",
      "213211 {0}. 213112 {0}. \n",
      "121321 {0}. 121312 {0}. \n",
      "114112 {0}. 313111 {0}. \n",
      "313111 {0}. 212131 {0}. \n",
      "Stats: 69/139=0.496\n",
      "\n",
      "Node: b`HG>ii]\n",
      "213211 {0}. 213112 {0}. \n",
      "121321 {0}. 121312 {0}. \n",
      "114112 {0}. 313111 {0}. \n",
      "313111 {0}. 212212 {0}. \n",
      "Stats: 49/80=0.612\n",
      "\n",
      "Node: b`HG>ii^\n",
      "213211 {0}. 213112 {0}. \n",
      "121321 {0}. 121312 {0}. \n",
      "114112 {0}. 313111 {0}. \n",
      "313111 {0}. 212221 {0}. \n",
      "Stats: 53/91=0.582\n",
      "\n",
      "Node: b`HG>ii_\n",
      "213211 {0}. 213112 {0}. \n",
      "121321 {0}. 121312 {0}. \n",
      "114112 {0}. 313111 {0}. \n",
      "313111 {0}. 212311 {0}. \n",
      "Stats: 41/58=0.706\n",
      "\n",
      "Node: b`HG>ii`\n",
      "213211 {0}. 213112 {0}. \n",
      "121321 {0}. 121312 {0}. \n",
      "114112 {0}. 313111 {0}. \n",
      "313111 {0}. 213112 {1}. \n",
      "Stats: 42/62=0.677\n",
      "\n",
      "Node: b`HG>iia\n",
      "213211 {0}. 213112 {0}. \n",
      "121321 {0}. 121312 {0}. \n",
      "114112 {0}. 313111 {0}. \n",
      "313111 {0}. 213121 {1}. \n",
      "Stats: 53/91=0.582\n",
      "\n",
      "Node: b`HG>iib\n",
      "213211 {0}. 213112 {0}. \n",
      "121321 {0}. 121312 {0}. \n",
      "114112 {0}. 313111 {0}. \n",
      "313111 {0}. 213211 {1}. \n",
      "Stats: 33/41=0.804\n",
      "\n",
      "Node: b`HG>iic\n",
      "213211 {0}. 213112 {0}. \n",
      "121321 {0}. 121312 {0}. \n",
      "114112 {0}. 313111 {0}. \n",
      "313111 {0}. 214111 {1}. \n",
      "Stats: 40/56=0.714\n",
      "\n",
      "Node: b`HG>iid\n",
      "213211 {0}. 213112 {0}. \n",
      "121321 {0}. 121312 {0}. \n",
      "114112 {0}. 313111 {0}. \n",
      "313111 {0}. 222112 {0}. \n",
      "Stats: 47/75=0.626\n",
      "\n",
      "Node: b`HG>iie\n",
      "213211 {0}. 213112 {0}. \n",
      "121321 {0}. 121312 {0}. \n",
      "114112 {0}. 313111 {0}. \n",
      "313111 {0}. 222211 {0}. \n",
      "Stats: 39/54=0.722\n",
      "\n",
      "Node: b`HG>iif\n",
      "213211 {0}. 213112 {0}. \n",
      "121321 {0}. 121312 {0}. \n",
      "114112 {0}. 313111 {0}. \n",
      "313111 {0}. 312112 {0}. \n",
      "Stats: 54/94=0.574\n",
      "\n",
      "Node: b`HG>iig\n",
      "213211 {0}. 213112 {0}. \n",
      "121321 {0}. 121312 {0}. \n",
      "114112 {0}. 313111 {0}. \n",
      "313111 {0}. 312121 {0}. \n",
      "Stats: 65/125=0.52\n",
      "\n",
      "Node: b`HG>iih\n",
      "213211 {0}. 213112 {0}. \n",
      "121321 {0}. 121312 {0}. \n",
      "114112 {0}. 313111 {0}. \n",
      "313111 {0}. 312211 {0}. \n",
      "Stats: 51/85=0.6\n",
      "\n",
      "Node: b`HG>iii\n",
      "213211 {0}. 213112 {0}. \n",
      "121321 {0}. 121312 {0}. \n",
      "114112 {0}. 313111 {0}. \n",
      "313111 {0}. 313111 {0}. \n",
      "Stats: 36/48=0.75\n",
      "\n",
      "Node: b`HG>iij\n",
      "213211 {0}. 213112 {0}. \n",
      "121321 {0}. 121312 {0}. \n",
      "114112 {0}. 313111 {0}. \n",
      "313111 {0}. 412111 {0}. \n",
      "Stats: 64/123=0.520\n"
     ]
    }
   ],
   "source": [
    "display_choices(payoffs, tree, \"b`HG>ii\")"
   ]
  },
  {
   "cell_type": "markdown",
   "id": "32ba08e9",
   "metadata": {},
   "source": [
    "## Mate in X analysis"
   ]
  },
  {
   "cell_type": "code",
   "execution_count": 623,
   "id": "2e940aab",
   "metadata": {},
   "outputs": [
    {
     "data": {
      "text/plain": [
       "(2, 4)"
      ]
     },
     "execution_count": 623,
     "metadata": {},
     "output_type": "execute_result"
    }
   ],
   "source": [
    "(2,4)"
   ]
  },
  {
   "cell_type": "code",
   "execution_count": 695,
   "id": "916db1be",
   "metadata": {},
   "outputs": [
    {
     "data": {
      "text/plain": [
       "mate_checker (generic function with 4 methods)"
      ]
     },
     "execution_count": 695,
     "metadata": {},
     "output_type": "execute_result"
    }
   ],
   "source": [
    "struct Gamestate\n",
    "    node::String\n",
    "    children::Array{String}\n",
    "    value::Int64\n",
    "    terminal::Bool\n",
    "end\n",
    "\n",
    "function mate_checker(\n",
    "        payoffs::Array{Int64},  \n",
    "        node00::String;\n",
    "        nits_tree::Int64 = 1000,\n",
    "        nits_cands::Int64 = 1000,\n",
    "        verbose::Bool = true\n",
    "        )::Tuple{Float64, Int64}\n",
    "    tree = create_tree(node00)\n",
    "    tree = grow_tree(payoffs, tree, node00, nits_tree)\n",
    "    # Range of turn nos.\n",
    "    lens = [length(k) for k in keys(tree)]\n",
    "    minlen = minimum(lens)\n",
    "    maxlen = maximum(lens)\n",
    "    nodes_by_length = Array{Array{String}}(undef, maxlen-minlen+1)\n",
    "    for l in minlen:maxlen\n",
    "        nodes_by_length[l-minlen+1] = [k for k in keys(tree) if length(k)==l]\n",
    "    end\n",
    "    # compute game values\n",
    "    game_values = Dict(node00 => 0.0)\n",
    "    for l in 1:length(nodes_by_length)\n",
    "        ind = length(nodes_by_length)-l+1 # index of target length\n",
    "        len = maxlen - l + 1\n",
    "        wvalue = -1.0 # if len is even and node is terminal, then pl 1 loses\n",
    "        if mod(len, 2)==1\n",
    "            wvalue = 1.0\n",
    "        end\n",
    "        for node in nodes_by_length[ind]\n",
    "            if tree[node][3]==1\n",
    "                game_values[node]=wvalue\n",
    "            else\n",
    "                children=get_children(payoffs, node)\n",
    "                val = 2 * ((tree[node][1]+1)/(tree[node][2]+2) - 0.5)\n",
    "                for c in children\n",
    "                    if haskey(tree, c)\n",
    "                        v = game_values[c]\n",
    "                        if mod(len, 2)==1\n",
    "                            # player 2 to move: get minimum of children values\n",
    "                            if v <= val\n",
    "                                val = v\n",
    "                            end\n",
    "                        else\n",
    "                            # player 1 to move: get maximum of children values\n",
    "                            if v >= val\n",
    "                                val = v\n",
    "                            end\n",
    "                        end\n",
    "                    end\n",
    "                end\n",
    "                game_values[node] = val\n",
    "            end\n",
    "        end\n",
    "    end\n",
    "    # check length of best resistance\n",
    "    best_res_length = Dict{String,Int64}()\n",
    "    val = game_values[node00]\n",
    "    if val > 0\n",
    "        resister = 1\n",
    "    else\n",
    "        resister = 0 # player 2\n",
    "    end\n",
    "    for iter in 1:nits_cands\n",
    "        node = node00\n",
    "        val = game_values[node00]\n",
    "        flag = true\n",
    "        while flag\n",
    "            cands = [c for c in keys(game_values) if length(c)==(length(node)+1) && c[1:length(node)]==node && game_values[c]==val]\n",
    "            if length(cands) > 0\n",
    "                node = rand(cands)\n",
    "            else\n",
    "                flag = false\n",
    "            end\n",
    "        end\n",
    "        best_res_length[node] = length(node)-minlen\n",
    "    end\n",
    "    # Range of BRs\n",
    "    lens_br = [length(k) for k in keys(best_res_length)]\n",
    "    minlen_br = minlen\n",
    "    maxlen_br = maximum(lens_br)\n",
    "    for len in maxlen_br:-1:minlen_br\n",
    "        nodes = unique([node[1:len] for node in keys(best_res_length) if length(node) >= len])\n",
    "        for node in nodes\n",
    "            if haskey(best_res_length, node)\n",
    "                # do nothing\n",
    "            else\n",
    "                children = [c for c in keys(best_res_length) if length(c) == (length(node)+1) && c[1:length(node)]==node]\n",
    "                brs = [best_res_length[c] for c in children]\n",
    "                if mod(length(node), 2)==resister\n",
    "                    # current node is resister to play\n",
    "                    best_res_length[node] = maximum(brs)\n",
    "                else\n",
    "                    best_res_length[node] = minimum(brs)                \n",
    "                end\n",
    "            end\n",
    "        end\n",
    "    end\n",
    "    if verbose\n",
    "        node = node00\n",
    "        br = best_res_length[node00]\n",
    "        flag = true\n",
    "        while flag\n",
    "            cands = [nd for nd in keys(best_res_length) if length(nd)==(length(node)+1) && best_res_length[nd]==br && nd[1:length(node)]==node]\n",
    "            if length(cands)==0\n",
    "                flag = false\n",
    "            else\n",
    "                node = rand(cands)\n",
    "            end\n",
    "        end\n",
    "        display_path(payoffs, tree, node)\n",
    "    end\n",
    "    return (game_values[node00], best_res_length[node00])\n",
    "end"
   ]
  },
  {
   "cell_type": "code",
   "execution_count": 696,
   "id": "6925c97b",
   "metadata": {},
   "outputs": [
    {
     "name": "stdout",
     "output_type": "stream",
     "text": [
      "Node: `ihUX<Rd\\>\n",
      "213112 {0}. 313111 {0}. \n",
      "312211 {0}. 131311 {2}. \n",
      "141112 {2}. 113221 {3}. \n",
      "131122 {3}. 222112 {3}. \n",
      "212131 {3}. 114112 {5}. \n",
      "Stats: 0/0=NaN\n"
     ]
    }
   ],
   "source": [
    "# a game where P1 lost\n",
    "node0 = \"`ihUX<Rd\\\\>\"\n",
    "display_node(payoffs, create_tree(node0), node0)"
   ]
  },
  {
   "cell_type": "code",
   "execution_count": 697,
   "id": "46a5b945",
   "metadata": {},
   "outputs": [
    {
     "name": "stdout",
     "output_type": "stream",
     "text": [
      "Node: `ihU\n",
      "213112 {0}. 313111 {0}. \n",
      "312211 {0}. 131311 {2}. \n",
      "Stats: 0/0=NaN\n"
     ]
    }
   ],
   "source": [
    "# find where a mate in X occurs\n",
    "node00 = node0[1:4]\n",
    "display_node(payoffs, create_tree(node00), node00)"
   ]
  },
  {
   "cell_type": "code",
   "execution_count": 698,
   "id": "0f883a3e",
   "metadata": {},
   "outputs": [
    {
     "name": "stdout",
     "output_type": "stream",
     "text": [
      "Node: `ihU\n",
      "213112 {0}. 313111 {0}. \n",
      "312211 {0}. 131311 {2}. \n",
      "Stats: 134/1425=0.094\n",
      "\n",
      "  0.634322 seconds (3.84 M allocations: 249.702 MiB, 52.26% compilation time)\n"
     ]
    },
    {
     "data": {
      "text/plain": [
       "(-0.810791871058164, 0)"
      ]
     },
     "execution_count": 698,
     "metadata": {},
     "output_type": "execute_result"
    }
   ],
   "source": [
    "@time mate_checker(payoffs, node00, verbose=true)"
   ]
  },
  {
   "cell_type": "markdown",
   "id": "990db5b9",
   "metadata": {},
   "source": [
    "#### debugging code"
   ]
  },
  {
   "cell_type": "code",
   "execution_count": 699,
   "id": "05460530",
   "metadata": {
    "scrolled": true
   },
   "outputs": [
    {
     "name": "stdout",
     "output_type": "stream",
     "text": [
      "  5.533680 seconds (47.59 M allocations: 3.683 GiB, 39.87% gc time)\n",
      "Node: (\n",
      "111313 {0}. \n",
      "Stats: 4352/10000=0.435\n"
     ]
    }
   ],
   "source": [
    "node00 = \"(\"\n",
    "tree = create_tree(node00)\n",
    "@time tree = grow_tree(payoffs, tree, node00, 10000)\n",
    "display_node(payoffs, tree, node00)"
   ]
  },
  {
   "cell_type": "code",
   "execution_count": 700,
   "id": "3afc7e75",
   "metadata": {},
   "outputs": [
    {
     "name": "stdout",
     "output_type": "stream",
     "text": [
      "Node: (\n",
      "111313 {0}. \n",
      "Stats: 4352/10000=0.435\n",
      "\n",
      "Node: (h\n",
      "111313 {0}. 312211 {1}. \n",
      "Stats: 55/121=0.454\n",
      "\n",
      "Node: (h@\n",
      "111313 {0}. 312211 {1}. \n",
      "114211 {1}. \n",
      "Stats: 2/3=0.666\n",
      "\n"
     ]
    }
   ],
   "source": [
    "leaf = random_leaf(payoffs, tree, node00)\n",
    "display_path(payoffs, tree, leaf)"
   ]
  },
  {
   "cell_type": "code",
   "execution_count": 701,
   "id": "467b21bb",
   "metadata": {},
   "outputs": [],
   "source": [
    "# Check mate-in-X property\n",
    "# Range of turn nos.\n",
    "lens = [length(k) for k in keys(tree)]\n",
    "minlen = minimum(lens)\n",
    "maxlen = maximum(lens)\n",
    "nodes_by_length = Array{Array{String}}(undef, maxlen-minlen+1)\n",
    "for l in minlen:maxlen\n",
    "    nodes_by_length[l-minlen+1] = [k for k in keys(tree) if length(k)==l]\n",
    "end"
   ]
  },
  {
   "cell_type": "code",
   "execution_count": 702,
   "id": "4b31586f",
   "metadata": {},
   "outputs": [],
   "source": [
    "game_values = Dict(node00 => 0.0)\n",
    "for l in 1:length(nodes_by_length)\n",
    "    ind = length(nodes_by_length)-l+1 # index of target length\n",
    "    len = maxlen - l + 1\n",
    "    wvalue = -1.0 # if len is even and node is terminal, then pl 1 loses\n",
    "    if mod(len, 2)==1\n",
    "        wvalue = 1.0\n",
    "    end\n",
    "    for node in nodes_by_length[ind]\n",
    "        if tree[node][3]==1\n",
    "            game_values[node]=wvalue\n",
    "        else\n",
    "            children=get_children(payoffs, node)\n",
    "            val = 2 * ((tree[node][1]+1)/(tree[node][2]+2) - 0.5)\n",
    "            for c in children\n",
    "                if haskey(tree, c)\n",
    "                    v = game_values[c]\n",
    "                    if mod(len, 2)==1\n",
    "                        # player 2 to move: get minimum of children values\n",
    "                        if v <= val\n",
    "                            val = v\n",
    "                        end\n",
    "                    else\n",
    "                        # player 1 to move: get maximum of children values\n",
    "                        if v >= val\n",
    "                            val = v\n",
    "                        end\n",
    "                    end\n",
    "                end\n",
    "            end\n",
    "            game_values[node] = val\n",
    "        end\n",
    "    end\n",
    "end"
   ]
  },
  {
   "cell_type": "code",
   "execution_count": 703,
   "id": "df369973",
   "metadata": {},
   "outputs": [
    {
     "data": {
      "text/plain": [
       "Dict{String, Float64} with 17590 entries:\n",
       "  \"(8'E\"   => -0.333333\n",
       "  \"(NR\\$\"  => 0.333333\n",
       "  \"(#'L\"   => 0.333333\n",
       "  \"(360\"   => 0.333333\n",
       "  \"(`PaS\"  => -0.333333\n",
       "  \"(:(\"    => -0.333333\n",
       "  \"(*,\"    => -0.333333\n",
       "  \"(1G\"    => 0.333333\n",
       "  \"(*>\"    => -0.333333\n",
       "  \"(icS\"   => -0.333333\n",
       "  \"(PIi\"   => 0.333333\n",
       "  \"(cBHC\"  => -0.333333\n",
       "  \"(U&G\"   => -0.333333\n",
       "  \"(;Hh\"   => -0.333333\n",
       "  \"(H*I\"   => -0.333333\n",
       "  \"(\\\"]\"   => -0.333333\n",
       "  \"(2bL\"   => -0.333333\n",
       "  \"(i?@N\"  => 0.333333\n",
       "  \"()*>\"   => -0.333333\n",
       "  \"(W'\"    => -0.333333\n",
       "  \"(fOL\"   => 0.333333\n",
       "  \"(ZU&\"   => 0.333333\n",
       "  \"(J>)\"   => 0.333333\n",
       "  \"(\\\"7\\\"\" => -0.333333\n",
       "  \"(MX\"    => 0.333333\n",
       "  ⋮        => ⋮"
      ]
     },
     "execution_count": 703,
     "metadata": {},
     "output_type": "execute_result"
    }
   ],
   "source": [
    "game_values"
   ]
  },
  {
   "cell_type": "code",
   "execution_count": 704,
   "id": "5a031ced",
   "metadata": {
    "scrolled": false
   },
   "outputs": [
    {
     "name": "stdout",
     "output_type": "stream",
     "text": [
      "Node: (\n",
      "111313 {0}. \n",
      "Stats: 4352/10000=0.435\n",
      "-0.33333333333333337\n",
      "\n"
     ]
    }
   ],
   "source": [
    "l = 1\n",
    "for node in nodes_by_length[l]\n",
    "    display_node(payoffs, tree, node)\n",
    "    println(game_values[node])\n",
    "    println()\n",
    "end"
   ]
  },
  {
   "cell_type": "code",
   "execution_count": 705,
   "id": "20a3cf80",
   "metadata": {},
   "outputs": [
    {
     "data": {
      "text/plain": [
       "0"
      ]
     },
     "execution_count": 705,
     "metadata": {},
     "output_type": "execute_result"
    }
   ],
   "source": [
    "# check length of best resistance\n",
    "best_res_length = Dict{String,Int64}()\n",
    "val = game_values[node00]\n",
    "if val > 0\n",
    "    resister = 1\n",
    "else\n",
    "    resister = 0 # player 2\n",
    "end"
   ]
  },
  {
   "cell_type": "code",
   "execution_count": 706,
   "id": "0885042f",
   "metadata": {},
   "outputs": [
    {
     "data": {
      "text/plain": [
       "Dict{String, Int64} with 89 entries:\n",
       "  \"(cT-S\"  => 4\n",
       "  \"(`b=E\"  => 4\n",
       "  \"(H`GZ\"  => 4\n",
       "  \"(`BR\\\"\" => 4\n",
       "  \"(H=\\\\_\" => 4\n",
       "  \"(ceS^\"  => 4\n",
       "  \"(ibLU\"  => 4\n",
       "  \"(iTb>\"  => 4\n",
       "  \"(H=Q?\"  => 4\n",
       "  \"(`>YU\"  => 4\n",
       "  \"(H`@\\\\\" => 4\n",
       "  \"(H*=[\"  => 4\n",
       "  \"(HC)i\"  => 4\n",
       "  \"(`;J8\"  => 4\n",
       "  \"(`>2P\"  => 4\n",
       "  \"(`BC9\"  => 4\n",
       "  \"(H=^0\"  => 4\n",
       "  \"(ibHR\"  => 4\n",
       "  \"(`SLW\"  => 4\n",
       "  \"(`>E2\"  => 4\n",
       "  \"(c@-R\"  => 4\n",
       "  \"(cI%'\"  => 4\n",
       "  \"(cQ\\\"#\" => 4\n",
       "  \"(cR>F\"  => 4\n",
       "  \"(iR&4\"  => 4\n",
       "  ⋮        => ⋮"
      ]
     },
     "execution_count": 706,
     "metadata": {},
     "output_type": "execute_result"
    }
   ],
   "source": [
    "for iter in 1:100\n",
    "    node = node00\n",
    "    val = game_values[node00]\n",
    "    flag = true\n",
    "    while flag\n",
    "        cands = [c for c in keys(game_values) if length(c)==(length(node)+1) && c[1:length(node)]==node && game_values[c]==val]\n",
    "        if length(cands) > 0\n",
    "            node = rand(cands)\n",
    "        else\n",
    "            flag = false\n",
    "        end\n",
    "    end\n",
    "    best_res_length[node] = length(node)-minlen\n",
    "end\n",
    "best_res_length"
   ]
  },
  {
   "cell_type": "code",
   "execution_count": 707,
   "id": "db9f12eb",
   "metadata": {},
   "outputs": [
    {
     "data": {
      "text/plain": [
       "5"
      ]
     },
     "execution_count": 707,
     "metadata": {},
     "output_type": "execute_result"
    }
   ],
   "source": [
    "# Range of BRs\n",
    "lens_br = [length(k) for k in keys(best_res_length)]\n",
    "minlen_br = minlen\n",
    "maxlen_br = maximum(lens_br)"
   ]
  },
  {
   "cell_type": "code",
   "execution_count": 708,
   "id": "21ee77c2",
   "metadata": {},
   "outputs": [],
   "source": [
    "for len in maxlen_br:-1:minlen_br\n",
    "    nodes = unique([node[1:len] for node in keys(best_res_length) if length(node) >= len])\n",
    "    for node in nodes\n",
    "        if haskey(best_res_length, node)\n",
    "            # do nothing\n",
    "        else\n",
    "            children = [c for c in keys(best_res_length) if length(c) == (length(node)+1) && c[1:length(node)]==node]\n",
    "            brs = [best_res_length[c] for c in children]\n",
    "            if mod(length(node), 2)==resister\n",
    "                # current node is resister to play\n",
    "                best_res_length[node] = maximum(brs)\n",
    "            else\n",
    "                best_res_length[node] = minimum(brs)                \n",
    "            end\n",
    "        end\n",
    "    end\n",
    "end"
   ]
  },
  {
   "cell_type": "code",
   "execution_count": 709,
   "id": "396ab324",
   "metadata": {},
   "outputs": [],
   "source": [
    "# node = node00\n",
    "# val = game_values[node00]\n",
    "# flag = true\n",
    "# while flag\n",
    "#     cands = [c for c in nodes_by_length[length(node)-minlen+2] if c[1:length(node)]==node && game_values[c]==val]\n",
    "#     if length(cands) > 0\n",
    "#         node = rand(cands)\n",
    "#     else\n",
    "#         flag = false\n",
    "#     end\n",
    "# end\n",
    "# display_path(payoffs, tree, node)"
   ]
  },
  {
   "cell_type": "code",
   "execution_count": 710,
   "id": "fdb3a938",
   "metadata": {},
   "outputs": [
    {
     "data": {
      "text/plain": [
       "1-element Vector{Pair{String, Int64}}:\n",
       " \"(\" => 4"
      ]
     },
     "execution_count": 710,
     "metadata": {},
     "output_type": "execute_result"
    }
   ],
   "source": [
    "[nd => best_res_length[nd] for nd in keys(best_res_length) if length(nd)==1]"
   ]
  },
  {
   "cell_type": "code",
   "execution_count": 711,
   "id": "9a3e74ef",
   "metadata": {},
   "outputs": [
    {
     "data": {
      "text/plain": [
       "-0.33333333333333337"
      ]
     },
     "execution_count": 711,
     "metadata": {},
     "output_type": "execute_result"
    }
   ],
   "source": [
    "game_values[node00]"
   ]
  },
  {
   "cell_type": "markdown",
   "id": "39272881",
   "metadata": {},
   "source": [
    "### automate finding mate-in-2 problems"
   ]
  },
  {
   "cell_type": "code",
   "execution_count": null,
   "id": "23762352",
   "metadata": {},
   "outputs": [],
   "source": [
    "n_mc = 10000\n",
    "beta = 20.0\n",
    "game = \"\"\n",
    "tree = create_tree(game)\n",
    "flag = true\n",
    "while flag\n",
    "    # MCTS turn\n",
    "    tree = create_tree(game)\n",
    "    tree = grow_tree(payoffs, tree, game, n_mc)\n",
    "    game = sample_next_node2(payoffs, tree, game, beta)\n",
    "    #display_node(payoffs, tree, game)\n",
    "    value, br = mate_checker(payoffs, game, nits_tree = n_mc, verbose=false)\n",
    "    if abs(value)==1.0\n",
    "        flag = false\n",
    "        println(\"----MATE FOUND---\")\n",
    "        value, br = mate_checker(payoffs, game, nits_tree = n_mc, verbose=true)\n",
    "        print(\"value:\")\n",
    "        print(value)\n",
    "        print(\" best resist:\")\n",
    "        print(br)\n",
    "    end\n",
    "    if tree[game][3]==1\n",
    "        flag = false\n",
    "    end\n",
    "end"
   ]
  },
  {
   "cell_type": "code",
   "execution_count": null,
   "id": "e238bbbb",
   "metadata": {},
   "outputs": [],
   "source": []
  }
 ],
 "metadata": {
  "kernelspec": {
   "display_name": "Julia 1.9.3",
   "language": "julia",
   "name": "julia-1.9"
  },
  "language_info": {
   "file_extension": ".jl",
   "mimetype": "application/julia",
   "name": "julia",
   "version": "1.9.3"
  }
 },
 "nbformat": 4,
 "nbformat_minor": 5
}

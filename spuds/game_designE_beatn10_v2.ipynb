{
 "cells": [
  {
   "cell_type": "markdown",
   "id": "052be005",
   "metadata": {},
   "source": [
    "Beat-n game with 10 pt limit"
   ]
  },
  {
   "cell_type": "markdown",
   "id": "72817bb1",
   "metadata": {},
   "source": [
    "## Spud code"
   ]
  },
  {
   "cell_type": "code",
   "execution_count": 1,
   "id": "494818e8",
   "metadata": {},
   "outputs": [],
   "source": [
    "using Random\n",
    "using DataFrames\n",
    "using CSV\n",
    "using DelimitedFiles\n",
    "using Statistics\n",
    "using Printf\n",
    "using LinearAlgebra\n",
    "using Dates"
   ]
  },
  {
   "cell_type": "code",
   "execution_count": 2,
   "id": "45e21e7f",
   "metadata": {},
   "outputs": [],
   "source": [
    "struct Spud\n",
    "    name::String\n",
    "    h::Int64\n",
    "    f::Int64\n",
    "    l::Int64\n",
    "    p::Int64\n",
    "    r::Int64\n",
    "    s::Int64\n",
    "    a1::Int64\n",
    "end"
   ]
  },
  {
   "cell_type": "code",
   "execution_count": 3,
   "id": "950e076e",
   "metadata": {},
   "outputs": [
    {
     "data": {
      "text/plain": [
       "1"
      ]
     },
     "execution_count": 3,
     "metadata": {},
     "output_type": "execute_result"
    }
   ],
   "source": [
    "const MXV = 9\n",
    "const MNV = 1"
   ]
  },
  {
   "cell_type": "code",
   "execution_count": 4,
   "id": "ac830f74",
   "metadata": {},
   "outputs": [
    {
     "data": {
      "text/plain": [
       "eval_melee (generic function with 3 methods)"
      ]
     },
     "execution_count": 4,
     "metadata": {},
     "output_type": "execute_result"
    }
   ],
   "source": [
    "function compare_int_list(as::Vector{Int64}, bs::Vector{Int64}, tiebreaker::Int64 = 0)::Int64\n",
    "    n = min(length(as), length(bs))\n",
    "    for i in 1:n\n",
    "        if as[i] != bs[i]\n",
    "            return sign(as[i] - bs[i])\n",
    "        end\n",
    "    end\n",
    "    return tiebreaker\n",
    "end\n",
    "\n",
    "function spud_h_seq(a::Spud)::Vector{Int64}\n",
    "    return [a.h, a.s, a.r, a.p, a.l, a.f]\n",
    "end\n",
    "\n",
    "function spud_f_seq(a::Spud)::Vector{Int64}\n",
    "    return [a.f, a.s, a.r, a.p, a.l, a.h]\n",
    "end\n",
    "\n",
    "function spud_l_seq(a::Spud)::Vector{Int64}\n",
    "    return [a.l]\n",
    "end\n",
    "\n",
    "function spud_p_seq(a::Spud)::Vector{Int64}\n",
    "    return [a.p, a.l]\n",
    "end\n",
    "\n",
    "function spud_r_seq(a::Spud)::Vector{Int64}\n",
    "    return [a.r, a.f]\n",
    "end\n",
    "\n",
    "function spud_s_seq(a::Spud)::Vector{Int64}\n",
    "    return [a.s, a.h]\n",
    "end\n",
    "\n",
    "function spud_utb_seq(a::Spud)::Vector{Int64}\n",
    "    return [a.a1, a.h, a.f, a.l, a.p, a.r, a.s]\n",
    "end\n",
    "\n",
    "function eval_finds(a::Spud, b::Spud, tiebreaker::Int64 = 0)::Int64\n",
    "    ev = compare_int_list(spud_f_seq(a), spud_h_seq(b), tiebreaker)\n",
    "    ans = ev\n",
    "end\n",
    "\n",
    "function eval_melee(a::Spud, b::Spud, tiebreaker1::Int64 = 0, tiebreaker2::Int64 = 0)::Int64\n",
    "    comp_p = compare_int_list(spud_p_seq(a), spud_p_seq(b), tiebreaker1)\n",
    "    comp_r = compare_int_list(spud_r_seq(a), spud_r_seq(b), tiebreaker1)\n",
    "    comp_s = compare_int_list(spud_s_seq(a), spud_s_seq(b), tiebreaker1)\n",
    "    ev = 4 * comp_p + 3 * comp_r + 2 * comp_s\n",
    "    return sign(ev + (1-abs(ev))*tiebreaker2)\n",
    "end\n",
    "\n"
   ]
  },
  {
   "cell_type": "code",
   "execution_count": 5,
   "id": "f603612d",
   "metadata": {},
   "outputs": [
    {
     "data": {
      "text/plain": [
       "eval_battle (generic function with 1 method)"
      ]
     },
     "execution_count": 5,
     "metadata": {},
     "output_type": "execute_result"
    }
   ],
   "source": [
    "\n",
    "\n",
    "function eval_battle(a::Spud, b::Spud)::Int64\n",
    "    utb = compare_int_list(spud_utb_seq(a), spud_utb_seq(b), 0) # universal tiebreaker\n",
    "    if utb == 0\n",
    "        return 0\n",
    "    end\n",
    "    a_finds = eval_finds(a, b, utb)==1\n",
    "    b_finds = eval_finds(b, a, utb)==1\n",
    "    melee_win = eval_melee(a, b, 0, 0)\n",
    "    luck_win = compare_int_list([a.l, melee_win], [b.l, -melee_win], 0)\n",
    "    if melee_win ==1 && luck_win ==1\n",
    "        return 1\n",
    "    end\n",
    "    if melee_win == -1 && luck_win == -1\n",
    "        return -1\n",
    "    end\n",
    "    if a_finds && b_finds\n",
    "        return melee_win\n",
    "    end\n",
    "    if a_finds && !b_finds\n",
    "        return 1\n",
    "    end\n",
    "    if !a_finds && b_finds\n",
    "        return -1\n",
    "    end\n",
    "    if !a_finds && !b_finds\n",
    "        return luck_win\n",
    "    end\n",
    "end"
   ]
  },
  {
   "cell_type": "code",
   "execution_count": 6,
   "id": "560e9539",
   "metadata": {},
   "outputs": [
    {
     "data": {
      "text/plain": [
       "df_to_spuds (generic function with 1 method)"
      ]
     },
     "execution_count": 6,
     "metadata": {},
     "output_type": "execute_result"
    }
   ],
   "source": [
    "function eval_battle_list(a::Spud, bs::Array{Spud})::Int\n",
    "    score = 0\n",
    "    for ii in 1:length(bs)\n",
    "        score = score + eval_battle(a, bs[ii])\n",
    "    end\n",
    "    return score\n",
    "end\n",
    "\n",
    "function eval_battle_list2(a::Spud, bs::Array{Spud}, w::Vector{Float64})::AbstractFloat\n",
    "    score = 0.0\n",
    "    for ii in 1:length(bs)\n",
    "        score = score + w[ii] * eval_battle(a, bs[ii])\n",
    "    end\n",
    "    return score\n",
    "end\n",
    "\n",
    "function spuds_to_df(as::Array{Spud})::DataFrame\n",
    "    names = Array{String}(undef, length(as))\n",
    "    hs = Array{Int}(undef, length(as))\n",
    "    fs = Array{Int}(undef, length(as))\n",
    "    ls = Array{Int}(undef, length(as))\n",
    "    ps = Array{Int}(undef, length(as))\n",
    "    rs = Array{Int}(undef, length(as))\n",
    "    ss = Array{Int}(undef, length(as))\n",
    "    a1s = Array{Int}(undef, length(as))\n",
    "    for ii in 1:length(as)\n",
    "        names[ii] = as[ii].name\n",
    "        hs[ii] = as[ii].h\n",
    "        fs[ii] = as[ii].f\n",
    "        ls[ii] = as[ii].l\n",
    "        ps[ii] = as[ii].p\n",
    "        rs[ii] = as[ii].r\n",
    "        ss[ii] = as[ii].s\n",
    "        a1s[ii] = as[ii].a1\n",
    "    end\n",
    "    df = DataFrame(name = names, h = hs, f = fs, l = ls, p = ps, r = rs, s = ss, a1 = a1s)\n",
    "    return df\n",
    "end\n",
    "\n",
    "function fpart(x::AbstractFloat)::AbstractFloat\n",
    "  return x - trunc(x)\n",
    "end\n",
    "\n",
    "# for legacy dfs without abilities\n",
    "function df_to_spuds0(df::DataFrame)::Array{Spud}\n",
    "    n = size(df)[1]\n",
    "    as = Array{Spud}(undef, n)\n",
    "    for i in 1:n\n",
    "        as[i] = Spud(df[i, :name], df[i, :h], df[i, :f], df[i, :l], df[i, :p], df[i, :r], df[i, :s], ability_none)\n",
    "    end\n",
    "    return as\n",
    "end\n",
    "\n",
    "function df_to_spuds(df::DataFrame)::Array{Spud}\n",
    "    n = size(df)[1]\n",
    "    as = Array{Spud}(undef, n)\n",
    "    for i in 1:n\n",
    "        as[i] = Spud(df[i, :name], df[i, :h], df[i, :f], df[i, :l], df[i, :p], df[i, :r], df[i, :s], df[i, :a1])\n",
    "    end\n",
    "    return as\n",
    "end\n",
    "\n"
   ]
  },
  {
   "cell_type": "markdown",
   "id": "66e71132",
   "metadata": {},
   "source": [
    "## Get spuds with cost 10 and filter nondominated"
   ]
  },
  {
   "cell_type": "code",
   "execution_count": 7,
   "id": "638f1e65",
   "metadata": {},
   "outputs": [
    {
     "data": {
      "text/plain": [
       "get_library (generic function with 2 methods)"
      ]
     },
     "execution_count": 7,
     "metadata": {},
     "output_type": "execute_result"
    }
   ],
   "source": [
    "function get_library(cost, n_init = 10000)\n",
    "    ffs = Array{Spud}(undef, n_init)\n",
    "    ff_i = 0\n",
    "    hrange = MNV:MXV\n",
    "    frange = MNV:MXV\n",
    "    lrange = MNV:MXV\n",
    "    prange = MNV:MXV\n",
    "    rrange = MNV:MXV\n",
    "    srange = MNV:MXV\n",
    "    for h in hrange\n",
    "        for f in frange\n",
    "            for l in lrange\n",
    "                for p in prange\n",
    "                    for r in rrange\n",
    "                        for s in srange\n",
    "                            if (h+f+l+p+r+s == cost)\n",
    "                                ff = Spud(\"\", h,f,l,p,r,s,999)\n",
    "                                ff_i += 1\n",
    "                                ffs[ff_i] = ff\n",
    "                            end\n",
    "                        end\n",
    "                    end                        \n",
    "                end                        \n",
    "            end\n",
    "        end\n",
    "    end\n",
    "    ffs = ffs[1:ff_i]\n",
    "    return unique(ffs)\n",
    "end"
   ]
  },
  {
   "cell_type": "code",
   "execution_count": 8,
   "id": "64d0dd3e",
   "metadata": {},
   "outputs": [
    {
     "data": {
      "text/plain": [
       "126-element Vector{Spud}:\n",
       " Spud(\"\", 1, 1, 1, 1, 1, 5, 999)\n",
       " Spud(\"\", 1, 1, 1, 1, 2, 4, 999)\n",
       " Spud(\"\", 1, 1, 1, 1, 3, 3, 999)\n",
       " Spud(\"\", 1, 1, 1, 1, 4, 2, 999)\n",
       " Spud(\"\", 1, 1, 1, 1, 5, 1, 999)\n",
       " Spud(\"\", 1, 1, 1, 2, 1, 4, 999)\n",
       " Spud(\"\", 1, 1, 1, 2, 2, 3, 999)\n",
       " Spud(\"\", 1, 1, 1, 2, 3, 2, 999)\n",
       " Spud(\"\", 1, 1, 1, 2, 4, 1, 999)\n",
       " Spud(\"\", 1, 1, 1, 3, 1, 3, 999)\n",
       " Spud(\"\", 1, 1, 1, 3, 2, 2, 999)\n",
       " Spud(\"\", 1, 1, 1, 3, 3, 1, 999)\n",
       " Spud(\"\", 1, 1, 1, 4, 1, 2, 999)\n",
       " ⋮\n",
       " Spud(\"\", 3, 1, 3, 1, 1, 1, 999)\n",
       " Spud(\"\", 3, 2, 1, 1, 1, 2, 999)\n",
       " Spud(\"\", 3, 2, 1, 1, 2, 1, 999)\n",
       " Spud(\"\", 3, 2, 1, 2, 1, 1, 999)\n",
       " Spud(\"\", 3, 2, 2, 1, 1, 1, 999)\n",
       " Spud(\"\", 3, 3, 1, 1, 1, 1, 999)\n",
       " Spud(\"\", 4, 1, 1, 1, 1, 2, 999)\n",
       " Spud(\"\", 4, 1, 1, 1, 2, 1, 999)\n",
       " Spud(\"\", 4, 1, 1, 2, 1, 1, 999)\n",
       " Spud(\"\", 4, 1, 2, 1, 1, 1, 999)\n",
       " Spud(\"\", 4, 2, 1, 1, 1, 1, 999)\n",
       " Spud(\"\", 5, 1, 1, 1, 1, 1, 999)"
      ]
     },
     "execution_count": 8,
     "metadata": {},
     "output_type": "execute_result"
    }
   ],
   "source": [
    "lib0 = get_library(10)\n",
    "lib0"
   ]
  },
  {
   "cell_type": "code",
   "execution_count": 9,
   "id": "6be20a55",
   "metadata": {},
   "outputs": [
    {
     "data": {
      "text/plain": [
       "get_payoffs (generic function with 1 method)"
      ]
     },
     "execution_count": 9,
     "metadata": {},
     "output_type": "execute_result"
    }
   ],
   "source": [
    "function get_payoffs(env::Array{Spud})::Array{Int64}\n",
    "    n_nash = length(env)\n",
    "    payoffs = Array{Int64}(undef, (n_nash, n_nash))\n",
    "    for i in 1:n_nash\n",
    "        for j in 1:n_nash\n",
    "            payoffs[i, j] = eval_battle(env[i], env[j])\n",
    "        end\n",
    "    end\n",
    "    return payoffs\n",
    "end"
   ]
  },
  {
   "cell_type": "code",
   "execution_count": 10,
   "id": "af79e6db",
   "metadata": {},
   "outputs": [
    {
     "data": {
      "text/plain": [
       "filter_nondominated2 (generic function with 1 method)"
      ]
     },
     "execution_count": 10,
     "metadata": {},
     "output_type": "execute_result"
    }
   ],
   "source": [
    "function filter_nondominated2(as::Array{Spud})::Array{Spud}\n",
    "    mat = get_payoffs(as);\n",
    "    isDominated = zeros(Int64, length(as));\n",
    "    for i in 1:length(as)\n",
    "        v = mat[i, :]\n",
    "        bv = ones(Int64, length(as))\n",
    "        for j in 1:length(as)\n",
    "            bv = bv .* (mat[:, j] .>= v[j])\n",
    "        end\n",
    "        if sum(bv) > 1\n",
    "            isDominated[i] = 1\n",
    "        end\n",
    "    end\n",
    "    return as[isDominated .== 0]\n",
    "end"
   ]
  },
  {
   "cell_type": "code",
   "execution_count": 11,
   "id": "55a8029c",
   "metadata": {},
   "outputs": [
    {
     "name": "stdout",
     "output_type": "stream",
     "text": [
      " 111124 111133 111142 111214 111223 111232 111241 111313 111322 111331 111412 111421 111511 112114 112123 112132 112141 112213 112222 112231 112312 112321 112411 113113 113122 113131 113212 113221 113311 114112 114121 114211 121114 121123 121132 121213 121222 121231 121312 121321 121411 122113 122122 122212 122221 122311 123112 123211 131113 131122 131212 131221 131311 132112 132211 141112 141211 212113 212122 212131 212212 212221 212311 213112 213121 213211 214111 222112 222211 312112 312121 312211 313111 412111"
     ]
    },
    {
     "data": {
      "text/plain": [
       "74"
      ]
     },
     "execution_count": 11,
     "metadata": {},
     "output_type": "execute_result"
    }
   ],
   "source": [
    "lib=filter_nondominated2(lib0)\n",
    "for ff in lib\n",
    "    print(\" \")\n",
    "    print(100000 * ff.h + 10000 * ff.f + 1000 * ff.l + 100 * ff.p + 10 * ff.r + ff.s)\n",
    "end\n",
    "nlib = length(lib)"
   ]
  },
  {
   "cell_type": "code",
   "execution_count": 12,
   "id": "7693aec2",
   "metadata": {},
   "outputs": [
    {
     "data": {
      "text/plain": [
       "74×74 Matrix{Int64}:\n",
       "  0  -1  -1  -1  -1  -1  -1   1  -1  …  -1  -1  -1  -1  -1  -1  -1  -1  -1\n",
       "  1   0  -1  -1  -1  -1  -1  -1   1     -1  -1  -1  -1  -1  -1  -1  -1  -1\n",
       "  1   1   0  -1  -1  -1  -1  -1  -1     -1  -1  -1  -1  -1  -1  -1  -1  -1\n",
       "  1   1   1   0  -1  -1  -1  -1  -1     -1  -1  -1  -1  -1  -1  -1  -1  -1\n",
       "  1   1   1   1   0  -1  -1  -1  -1     -1  -1  -1  -1  -1  -1  -1  -1  -1\n",
       "  1   1   1   1   1   0  -1  -1  -1  …  -1  -1  -1  -1  -1  -1  -1  -1  -1\n",
       "  1   1   1   1   1   1   0  -1  -1     -1  -1  -1  -1  -1  -1  -1  -1  -1\n",
       " -1   1   1   1   1   1   1   0  -1     -1  -1  -1  -1  -1  -1  -1  -1  -1\n",
       "  1  -1   1   1   1   1   1   1   0     -1  -1  -1  -1  -1  -1  -1  -1  -1\n",
       "  1   1  -1   1   1   1   1   1   1     -1  -1  -1  -1  -1  -1  -1  -1  -1\n",
       " -1  -1   1   1  -1   1   1   1   1  …  -1  -1  -1  -1  -1  -1  -1  -1  -1\n",
       "  1  -1  -1   1   1  -1   1   1   1     -1  -1  -1  -1  -1  -1  -1  -1  -1\n",
       " -1  -1  -1   1  -1  -1   1   1  -1     -1  -1  -1  -1  -1  -1  -1  -1  -1\n",
       "  ⋮                   ⋮              ⋱   ⋮                   ⋮          \n",
       "  1   1   1   1   1   1   1   1   1     -1  -1  -1   1   1  -1   1  -1   1\n",
       "  1   1   1   1   1   1   1   1   1     -1  -1   1   1   1   1   1   1   1\n",
       "  1   1   1   1   1   1   1   1   1     -1  -1   1   1   1   1   1   1   1\n",
       "  1   1   1   1   1   1   1   1   1  …   0  -1  -1   1   1   1   1   1   1\n",
       "  1   1   1   1   1   1   1   1   1      1   0  -1  -1   1   1   1   1   1\n",
       "  1   1   1   1   1   1   1   1   1      1   1   0  -1   1  -1   1  -1   1\n",
       "  1   1   1   1   1   1   1   1   1     -1   1   1   0   1  -1   1  -1   1\n",
       "  1   1   1   1   1   1   1   1   1     -1  -1  -1  -1   0  -1  -1  -1   1\n",
       "  1   1   1   1   1   1   1   1   1  …  -1  -1   1   1   1   0  -1  -1   1\n",
       "  1   1   1   1   1   1   1   1   1     -1  -1  -1  -1   1   1   0  -1   1\n",
       "  1   1   1   1   1   1   1   1   1     -1  -1   1   1   1   1   1   0   1\n",
       "  1   1   1   1   1   1   1   1   1     -1  -1  -1  -1  -1  -1  -1  -1   0"
      ]
     },
     "execution_count": 12,
     "metadata": {},
     "output_type": "execute_result"
    }
   ],
   "source": [
    "payoffs = get_payoffs(lib)"
   ]
  },
  {
   "cell_type": "code",
   "execution_count": 13,
   "id": "3d780a7c",
   "metadata": {},
   "outputs": [
    {
     "data": {
      "text/plain": [
       "spud2int (generic function with 1 method)"
      ]
     },
     "execution_count": 13,
     "metadata": {},
     "output_type": "execute_result"
    }
   ],
   "source": [
    "function spud2int(a::Spud)::Int64\n",
    "    return a.h * 100000 + a.f * 10000 + a.l * 1000 + a.p * 100 + a.r * 10 + a.s\n",
    "end"
   ]
  },
  {
   "cell_type": "code",
   "execution_count": 14,
   "id": "db3ccd86",
   "metadata": {},
   "outputs": [],
   "source": [
    "s2ind = Dict(lib[i] => i for i in 1:length(lib));\n",
    "int2ind = Dict(spud2int(lib[i]) => i for i in 1:length(lib));"
   ]
  },
  {
   "cell_type": "code",
   "execution_count": 15,
   "id": "a169b86e",
   "metadata": {},
   "outputs": [],
   "source": [
    "libi = [spud2int(ff) for ff in lib];"
   ]
  },
  {
   "cell_type": "code",
   "execution_count": 16,
   "id": "0e426ff9",
   "metadata": {},
   "outputs": [
    {
     "data": {
      "text/plain": [
       "73"
      ]
     },
     "execution_count": 16,
     "metadata": {},
     "output_type": "execute_result"
    }
   ],
   "source": [
    "int2ind[313111]"
   ]
  },
  {
   "cell_type": "code",
   "execution_count": 17,
   "id": "12e85b6a",
   "metadata": {},
   "outputs": [
    {
     "data": {
      "text/plain": [
       "3"
      ]
     },
     "execution_count": 17,
     "metadata": {},
     "output_type": "execute_result"
    }
   ],
   "source": [
    "as = [1,2,3]\n",
    "as[end]"
   ]
  },
  {
   "cell_type": "code",
   "execution_count": 51,
   "id": "ac7db512",
   "metadata": {},
   "outputs": [
    {
     "data": {
      "text/plain": [
       "eval_beatn (generic function with 1 method)"
      ]
     },
     "execution_count": 51,
     "metadata": {},
     "output_type": "execute_result"
    }
   ],
   "source": [
    "function eval_beatn(payoffs::Array{Int64}, as::Array{Int64}, bs::Array{Int64})::Int64\n",
    "    if length(bs)==0 || length(as)==0\n",
    "        return 0\n",
    "    end\n",
    "    a = as[end]\n",
    "    flag = true\n",
    "    count = 0\n",
    "    while flag\n",
    "        if payoffs[a, bs[end-count]]==1\n",
    "            count += 1\n",
    "        else\n",
    "            flag = false\n",
    "        end\n",
    "        if count == length(bs)\n",
    "            flag = false\n",
    "        end\n",
    "    end\n",
    "    return count\n",
    "end"
   ]
  },
  {
   "cell_type": "code",
   "execution_count": 52,
   "id": "06768a49",
   "metadata": {},
   "outputs": [
    {
     "data": {
      "text/plain": [
       "4-element Vector{Int64}:\n",
       " 41\n",
       " 40\n",
       " 27\n",
       " 65"
      ]
     },
     "execution_count": 52,
     "metadata": {},
     "output_type": "execute_result"
    }
   ],
   "source": [
    "as = [int2ind[ff] for ff in [214111, 112222, 313111, 113311]]\n",
    "bs = [int2ind[ff] for ff in [121411, 121321, 113212, 213121]]"
   ]
  },
  {
   "cell_type": "code",
   "execution_count": 53,
   "id": "d2ce51e6",
   "metadata": {},
   "outputs": [
    {
     "data": {
      "text/plain": [
       "2"
      ]
     },
     "execution_count": 53,
     "metadata": {},
     "output_type": "execute_result"
    }
   ],
   "source": [
    "eval_beatn(payoffs, as[1:3], bs[1:2])"
   ]
  },
  {
   "cell_type": "code",
   "execution_count": 54,
   "id": "7a920d9d",
   "metadata": {},
   "outputs": [
    {
     "data": {
      "text/plain": [
       "2"
      ]
     },
     "execution_count": 54,
     "metadata": {},
     "output_type": "execute_result"
    }
   ],
   "source": [
    "eval_beatn(payoffs, bs[1:3], as[1:3])"
   ]
  },
  {
   "cell_type": "code",
   "execution_count": 55,
   "id": "52666aca",
   "metadata": {},
   "outputs": [
    {
     "data": {
      "text/plain": [
       "2"
      ]
     },
     "execution_count": 55,
     "metadata": {},
     "output_type": "execute_result"
    }
   ],
   "source": [
    "eval_beatn(payoffs, as[1:4], bs[1:3])"
   ]
  },
  {
   "cell_type": "code",
   "execution_count": 56,
   "id": "c4ab1c2f",
   "metadata": {},
   "outputs": [
    {
     "data": {
      "text/plain": [
       "3"
      ]
     },
     "execution_count": 56,
     "metadata": {},
     "output_type": "execute_result"
    }
   ],
   "source": [
    "eval_beatn(payoffs, bs[1:4], as[1:4])"
   ]
  },
  {
   "cell_type": "code",
   "execution_count": 57,
   "id": "2180d5f3",
   "metadata": {},
   "outputs": [
    {
     "data": {
      "text/plain": [
       "74"
      ]
     },
     "execution_count": 57,
     "metadata": {},
     "output_type": "execute_result"
    }
   ],
   "source": [
    "size(payoffs)[1]"
   ]
  },
  {
   "cell_type": "code",
   "execution_count": 58,
   "id": "e0355eae",
   "metadata": {},
   "outputs": [
    {
     "data": {
      "text/plain": [
       "try_beatn (generic function with 1 method)"
      ]
     },
     "execution_count": 58,
     "metadata": {},
     "output_type": "execute_result"
    }
   ],
   "source": [
    "# tries all possible moves as extension of as\n",
    "function try_beatn(payoffs::Array{Int64}, as::Array{Int64}, bs::Array{Int64})::Array{Int64}\n",
    "    ans = Array{Int64}(undef, size(payoffs)[1])\n",
    "    for i in 1:size(payoffs)[1]\n",
    "        as2 = copy(as)\n",
    "        append!(as2, i)\n",
    "        ans[i] = eval_beatn(payoffs, as2, bs)\n",
    "    end\n",
    "    return ans\n",
    "end"
   ]
  },
  {
   "cell_type": "code",
   "execution_count": 59,
   "id": "610075c3",
   "metadata": {},
   "outputs": [
    {
     "name": "stdout",
     "output_type": "stream",
     "text": [
      "00000000000000000000000011120110021211220011100001110000000000000120000000"
     ]
    }
   ],
   "source": [
    "for i in try_beatn(payoffs, as, bs)\n",
    "    print(i)\n",
    "end"
   ]
  },
  {
   "cell_type": "code",
   "execution_count": 60,
   "id": "34b38ea6",
   "metadata": {},
   "outputs": [
    {
     "data": {
      "text/plain": [
       "lose_or_not (generic function with 1 method)"
      ]
     },
     "execution_count": 60,
     "metadata": {},
     "output_type": "execute_result"
    }
   ],
   "source": [
    "# returns 1 if Player A lost\n",
    "function lose_or_not(payoffs::Array{Int64}, as::Array{Int64}, bs::Array{Int64})::Int64\n",
    "    prev_score = eval_beatn(payoffs, bs, as)\n",
    "    scores = try_beatn(payoffs, as, bs)\n",
    "    if maximum(scores) < prev_score\n",
    "        return 1\n",
    "    end\n",
    "    return 0\n",
    "end"
   ]
  },
  {
   "cell_type": "code",
   "execution_count": 61,
   "id": "84fa5f6b",
   "metadata": {},
   "outputs": [
    {
     "data": {
      "text/plain": [
       "0"
      ]
     },
     "execution_count": 61,
     "metadata": {},
     "output_type": "execute_result"
    }
   ],
   "source": [
    "lose_or_not(payoffs, as[1:2], bs[1:2])"
   ]
  },
  {
   "cell_type": "code",
   "execution_count": 62,
   "id": "1e2178a4",
   "metadata": {},
   "outputs": [
    {
     "data": {
      "text/plain": [
       "0"
      ]
     },
     "execution_count": 62,
     "metadata": {},
     "output_type": "execute_result"
    }
   ],
   "source": [
    "lose_or_not(payoffs, as[1:3], bs[1:3])"
   ]
  },
  {
   "cell_type": "code",
   "execution_count": 63,
   "id": "80e2a310",
   "metadata": {},
   "outputs": [
    {
     "data": {
      "text/plain": [
       "1"
      ]
     },
     "execution_count": 63,
     "metadata": {},
     "output_type": "execute_result"
    }
   ],
   "source": [
    "lose_or_not(payoffs, as[1:4], bs[1:4])"
   ]
  },
  {
   "cell_type": "code",
   "execution_count": 64,
   "id": "3e10fcb4",
   "metadata": {},
   "outputs": [
    {
     "data": {
      "text/plain": [
       "legal_moves (generic function with 1 method)"
      ]
     },
     "execution_count": 64,
     "metadata": {},
     "output_type": "execute_result"
    }
   ],
   "source": [
    "function legal_moves(payoffs::Array{Int64}, as::Array{Int64}, bs::Array{Int64})::Array{Int64}\n",
    "    prev_score = eval_beatn(payoffs, bs, as)\n",
    "    scores = try_beatn(payoffs, as, bs)\n",
    "    cands = findall(scores .>= prev_score)\n",
    "    return cands\n",
    "end"
   ]
  },
  {
   "cell_type": "code",
   "execution_count": 65,
   "id": "7f74a1f2",
   "metadata": {},
   "outputs": [
    {
     "data": {
      "text/plain": [
       "choose_random (generic function with 1 method)"
      ]
     },
     "execution_count": 65,
     "metadata": {},
     "output_type": "execute_result"
    }
   ],
   "source": [
    "# picks randomly\n",
    "function choose_random(payoffs::Array{Int64}, as::Array{Int64}, bs::Array{Int64})::Int64\n",
    "    prev_score = eval_beatn(payoffs, bs, as)\n",
    "    scores = try_beatn(payoffs, as, bs)\n",
    "    cands = findall(scores .>= prev_score)\n",
    "    return rand(cands)\n",
    "end"
   ]
  },
  {
   "cell_type": "code",
   "execution_count": 66,
   "id": "89c48087",
   "metadata": {},
   "outputs": [
    {
     "data": {
      "text/plain": [
       "choose_aggro (generic function with 1 method)"
      ]
     },
     "execution_count": 66,
     "metadata": {},
     "output_type": "execute_result"
    }
   ],
   "source": [
    "# picks aggressively\n",
    "function choose_aggro(payoffs::Array{Int64}, as::Array{Int64}, bs::Array{Int64})::Int64\n",
    "    scores = try_beatn(payoffs, as, bs)\n",
    "    cands = findall(scores .== maximum(scores))\n",
    "    return rand(cands)\n",
    "end"
   ]
  },
  {
   "cell_type": "code",
   "execution_count": 67,
   "id": "a603dd38",
   "metadata": {},
   "outputs": [
    {
     "data": {
      "text/plain": [
       "display_game (generic function with 1 method)"
      ]
     },
     "execution_count": 67,
     "metadata": {},
     "output_type": "execute_result"
    }
   ],
   "source": [
    "function play_random_vs_aggro(\n",
    "        payoffs::Array{Int64}, \n",
    "        as::Array{Int64} = zeros(Int64, 0), \n",
    "        bs::Array{Int64} = zeros(Int64, 0))::Tuple{Int64, Array{Int64}, Array{Int64}}\n",
    "    if length(as) == 0\n",
    "        a = rand(1:size(payoffs)[1])\n",
    "        as = append!(as, a)\n",
    "    end\n",
    "    if length(bs) < length(as)\n",
    "        b = choose_aggro(payoffs, bs, as)\n",
    "        bs = append!(bs, b)\n",
    "    end\n",
    "    flag = true\n",
    "    a_win = 0\n",
    "    while flag\n",
    "        if lose_or_not(payoffs, as, bs)==1\n",
    "            flag = false\n",
    "            a_win = -1\n",
    "        else\n",
    "            # player A turn\n",
    "            a = choose_random(payoffs, as, bs)\n",
    "            as = append!(as, a)\n",
    "        end\n",
    "        if flag\n",
    "            if lose_or_not(payoffs, bs, as)==1\n",
    "                flag = false\n",
    "                a_win = 1\n",
    "            else\n",
    "                # player B turn\n",
    "                b = choose_aggro(payoffs, bs, as)\n",
    "                bs = append!(bs, b)\n",
    "            end\n",
    "        end\n",
    "    end\n",
    "    return (a_win, as, bs)\n",
    "end\n",
    "\n",
    "function display_game(payoffs::Array{Int64}, as::Array{Int64}, bs::Array{Int64})\n",
    "    for i in 1:length(as)\n",
    "        print(libi[as[i]])\n",
    "        print(\" {\")\n",
    "        n = eval_beatn(payoffs, as[1:i], bs[1:(i-1)])\n",
    "        print(n)\n",
    "        print(\"}. \")\n",
    "        if i <= length(bs)\n",
    "            print(libi[bs[i]])\n",
    "            print(\" {\")\n",
    "            n = eval_beatn(payoffs, bs[1:i], as[1:i])\n",
    "            print(n)\n",
    "            print(\"}. \")\n",
    "        end\n",
    "        println()\n",
    "    end\n",
    "end"
   ]
  },
  {
   "cell_type": "code",
   "execution_count": 85,
   "id": "cb5fb4b1",
   "metadata": {},
   "outputs": [
    {
     "name": "stdout",
     "output_type": "stream",
     "text": [
      "111133 {0}. 222211 {1}. \n",
      "212221 {1}. 112132 {2}. \n",
      "112312 {2}. 213121 {3}. \n",
      "121222 {3}. 313111 {4}. \n",
      "113122 {4}. \n"
     ]
    }
   ],
   "source": [
    "a_win, as, bs = play_random_vs_aggro(payoffs, [int2ind[111133]], [int2ind[222211]])\n",
    "display_game(payoffs, as, bs)"
   ]
  },
  {
   "cell_type": "code",
   "execution_count": 86,
   "id": "f4b225d8",
   "metadata": {},
   "outputs": [],
   "source": [
    "n_games = 100\n",
    "counts = Array{Int64}(undef, (nlib, nlib)) .* 0\n",
    "wins = Array{Int64}(undef, (nlib, nlib)) .* 0\n",
    "for a in 1:nlib\n",
    "    for b in 1:nlib\n",
    "        for i in 1:n_games\n",
    "            a_win, as, bs = play_random_vs_aggro(payoffs, [a], [b])\n",
    "            counts[a,b] += 1\n",
    "            if a_win==1\n",
    "                wins[a,b] +=1\n",
    "            end\n",
    "        end\n",
    "        \n",
    "    end\n",
    "end"
   ]
  },
  {
   "cell_type": "code",
   "execution_count": 90,
   "id": "304c5060",
   "metadata": {},
   "outputs": [
    {
     "name": "stdout",
     "output_type": "stream",
     "text": [
      "121321 [214111] 0.2\n",
      "131221 [214111, 313111] 0.2\n",
      "214111 [313111] 0.18\n",
      "121312 [131212] 0.16\n",
      "121411 [121321] 0.13\n",
      "113311 [313111] 0.12\n",
      "122311 [313111] 0.12\n",
      "213112 [313111] 0.12\n",
      "312112 [121321, 214111] 0.12\n",
      "113212 [313111] 0.11\n",
      "131212 [214111] 0.11\n",
      "213121 [313111] 0.11\n",
      "111133 [121321] 0.1\n",
      "114112 [313111] 0.1\n",
      "213211 [121321, 313111] 0.1\n",
      "412111 [214111] 0.1\n",
      "111331 [121321] 0.09\n",
      "111421 [313111] 0.09\n",
      "112312 [121321] 0.09\n",
      "113131 [214111] 0.09\n",
      "121123 [313111] 0.09\n",
      "312121 [121321] 0.09\n",
      "111232 [214111] 0.08\n",
      "111412 [121321] 0.08\n",
      "121231 [313111] 0.08\n",
      "312211 [121321] 0.08\n",
      "113122 [313111] 0.07\n",
      "114121 [313111] 0.07\n",
      "121222 [214111] 0.07\n",
      "122212 [313111] 0.07\n",
      "212113 [121321] 0.07\n",
      "212122 [121321] 0.07\n",
      "112132 [313111] 0.06\n",
      "112213 [121321] 0.06\n",
      "121132 [313111] 0.06\n",
      "131122 [121312] 0.06\n",
      "313111 [121321] 0.06\n",
      "111223 [214111, 313111] 0.05\n",
      "111313 [213112] 0.05\n",
      "113221 [214111] 0.05\n",
      "114211 [214111] 0.05\n",
      "112321 [313111] 0.04\n",
      "113113 [121321] 0.04\n",
      "122221 [313111] 0.04\n",
      "132211 [121321] 0.04\n",
      "212131 [313111] 0.04\n",
      "212212 [313111] 0.04\n",
      "111142 [214111] 0.03\n",
      "111214 [121321, 214111, 313111] 0.03\n",
      "141211 [121321] 0.03\n",
      "212311 [121312, 121321] 0.03\n",
      "111322 [121321] 0.02\n",
      "112222 [121321] 0.02\n",
      "112411 [313111] 0.02\n",
      "121213 [313111] 0.02\n",
      "122122 [313111] 0.02\n",
      "123112 [121321] 0.02\n",
      "131311 [121321] 0.02\n",
      "222211 [121321] 0.02\n",
      "111124 [313111] 0.01\n",
      "121114 [121321, 313111] 0.01\n",
      "123211 [121321] 0.01\n",
      "131113 [121321] 0.01\n",
      "111241 [121321] 0.0\n",
      "111511 [313111] 0.0\n",
      "112114 [121321] 0.0\n",
      "112123 [121321] 0.0\n",
      "112141 [121321, 313111] 0.0\n",
      "112231 [121321] 0.0\n",
      "122113 [121321] 0.0\n",
      "132112 [121321] 0.0\n",
      "141112 [121321] 0.0\n",
      "212221 [121321] 0.0\n",
      "222112 [313111] 0.0\n"
     ]
    }
   ],
   "source": [
    "maxes = [minimum(wins[i, :]) for i in 1:nlib]\n",
    "for i in sortperm(-maxes)\n",
    "    js = findall(wins[i, :].==minimum(wins[i, :]))\n",
    "    print(libi[i])\n",
    "    print(\" \")\n",
    "    print(libi[js])\n",
    "    print(\" \")\n",
    "    println(minimum(wins[i, :])/n_games)\n",
    "end"
   ]
  },
  {
   "cell_type": "markdown",
   "id": "8ec1c6ab",
   "metadata": {},
   "source": [
    "## Old code"
   ]
  },
  {
   "cell_type": "code",
   "execution_count": 35,
   "id": "effb5e3e",
   "metadata": {},
   "outputs": [
    {
     "data": {
      "text/plain": [
       "get_playoffs (generic function with 2 methods)"
      ]
     },
     "execution_count": 35,
     "metadata": {},
     "output_type": "execute_result"
    }
   ],
   "source": [
    "function get_playoffs(n_games::Int64, max_len::Int64 = 12)::Tuple{Array{Int64},Array{Int64},Array{Int64}}\n",
    "    a_wins = Array{Int64}(undef, n_games)\n",
    "    a_wins .= 0\n",
    "    a_s = Array{Int64}(undef, (n_games, max_len))\n",
    "    a_s .= 0\n",
    "    b_s = Array{Int64}(undef, (n_games, max_len))\n",
    "    b_s .= 0\n",
    "    for i in 1:n_games\n",
    "        a_win, as, bs = play_random_vs_aggro(payoffs)\n",
    "        @assert(length(as) <= max_len)\n",
    "        @assert(length(bs) <= max_len)\n",
    "        a_wins[i] = a_win\n",
    "        a_s[i, 1:length(as)] = as\n",
    "        b_s[i, 1:length(bs)] = bs\n",
    "    end\n",
    "    return a_wins, a_s, b_s\n",
    "end"
   ]
  },
  {
   "cell_type": "code",
   "execution_count": 36,
   "id": "8b6113f4",
   "metadata": {},
   "outputs": [
    {
     "name": "stdout",
     "output_type": "stream",
     "text": [
      "  1.279609 seconds (29.20 M allocations: 2.348 GiB, 22.32% gc time)\n"
     ]
    },
    {
     "data": {
      "text/plain": [
       "([-1, 1, 1, -1, 1, 1, -1, -1, 1, 1  …  -1, -1, -1, -1, 1, -1, 1, 1, 1, -1], [31 12 … 0 0; 73 45 … 0 0; … ; 35 15 … 0 0; 20 6 … 0 0], [22 16 … 0 0; 49 66 … 0 0; … ; 8 25 … 0 0; 46 11 … 0 0])"
      ]
     },
     "execution_count": 36,
     "metadata": {},
     "output_type": "execute_result"
    }
   ],
   "source": [
    "@time a_wins, a_s, b_s = get_playoffs(10000, 14)"
   ]
  },
  {
   "cell_type": "code",
   "execution_count": 37,
   "id": "d5b92595",
   "metadata": {},
   "outputs": [
    {
     "data": {
      "text/plain": [
       "74-element Vector{Float64}:\n",
       " 0.33653846153846156\n",
       " 0.5\n",
       " 0.32679738562091504\n",
       " 0.33070866141732286\n",
       " 0.39166666666666666\n",
       " 0.49122807017543857\n",
       " 0.4264705882352941\n",
       " 0.3669064748201439\n",
       " 0.30303030303030304\n",
       " 0.4573643410852713\n",
       " 0.38\n",
       " 0.3819444444444444\n",
       " 0.34615384615384615\n",
       " ⋮\n",
       " 0.3308270676691729\n",
       " 0.46621621621621623\n",
       " 0.3515625\n",
       " 0.36\n",
       " 0.4295774647887324\n",
       " 0.44029850746268656\n",
       " 0.34057971014492755\n",
       " 0.4453125\n",
       " 0.4\n",
       " 0.4649122807017544\n",
       " 0.5441176470588235\n",
       " 0.5422535211267606"
      ]
     },
     "execution_count": 37,
     "metadata": {},
     "output_type": "execute_result"
    }
   ],
   "source": [
    "win_rates = [mean(a_wins[a_s[:, 1].==i].==1) for i in 1:nlib]"
   ]
  },
  {
   "cell_type": "code",
   "execution_count": 38,
   "id": "9d05da81",
   "metadata": {},
   "outputs": [
    {
     "name": "stdout",
     "output_type": "stream",
     "text": [
      "131311 0.5748031496062992\n",
      "121411 0.5483870967741935\n",
      "131221 0.5441176470588235\n",
      "313111 0.5441176470588235\n",
      "412111 0.5422535211267606\n",
      "121231 0.5289855072463768\n",
      "131212 0.5289855072463768\n",
      "121123 0.5220588235294118\n",
      "114121 0.5102040816326531\n",
      "123211 0.5035971223021583\n",
      "122212 0.5034965034965035\n",
      "111133 0.5\n",
      "121213 0.5\n",
      "111232 0.49122807017543857\n",
      "122311 0.4852941176470588\n",
      "113122 0.46923076923076923\n",
      "131113 0.46875\n",
      "213112 0.46621621621621623\n",
      "312211 0.4649122807017544\n",
      "141211 0.4605263157894737\n",
      "121321 0.460431654676259\n",
      "114112 0.4594594594594595\n",
      "141112 0.45864661654135336\n",
      "111331 0.4573643410852713\n",
      "112213 0.4567901234567901\n",
      "114211 0.45652173913043476\n",
      "132211 0.45323741007194246\n",
      "312112 0.4453125\n",
      "222112 0.44029850746268656\n",
      "131122 0.4297520661157025\n",
      "121222 0.42962962962962964\n",
      "214111 0.4295774647887324\n",
      "111241 0.4264705882352941\n",
      "112411 0.4195804195804196\n",
      "212122 0.4161073825503356\n",
      "113131 0.4153846153846154\n",
      "113311 0.4067796610169492\n",
      "312121 0.4\n",
      "121132 0.39568345323741005\n",
      "111223 0.39166666666666666\n",
      "112114 0.39166666666666666\n",
      "212212 0.39097744360902253\n",
      "111421 0.3819444444444444\n",
      "111412 0.38\n",
      "122221 0.3767123287671233\n",
      "122113 0.37410071942446044\n",
      "111313 0.3669064748201439\n",
      "212113 0.36585365853658536\n",
      "212131 0.36486486486486486\n",
      "121312 0.3629032258064516\n",
      "112123 0.36283185840707965\n",
      "112141 0.36231884057971014\n",
      "113221 0.3602941176470588\n",
      "213211 0.36\n",
      "113113 0.3597122302158273\n",
      "113212 0.3543307086614173\n",
      "213121 0.3515625\n",
      "112312 0.3493150684931507\n",
      "111511 0.34615384615384615\n",
      "132112 0.34558823529411764\n",
      "222211 0.34057971014492755\n",
      "111124 0.33653846153846156\n",
      "122122 0.33098591549295775\n",
      "212311 0.3308270676691729\n",
      "111214 0.33070866141732286\n",
      "121114 0.3284671532846715\n",
      "111142 0.32679738562091504\n",
      "111322 0.30303030303030304\n",
      "112132 0.2953020134228188\n",
      "212221 0.2949640287769784\n",
      "123112 0.29133858267716534\n",
      "112231 0.2595419847328244\n",
      "112321 0.24647887323943662\n",
      "112222 0.24489795918367346\n"
     ]
    }
   ],
   "source": [
    "for i in sortperm(-win_rates)\n",
    "    print(libi[i])\n",
    "    print(\" \")\n",
    "    println(win_rates[i])\n",
    "end"
   ]
  },
  {
   "cell_type": "code",
   "execution_count": 52,
   "id": "5b1e407c",
   "metadata": {},
   "outputs": [
    {
     "data": {
      "text/plain": [
       "131221"
      ]
     },
     "execution_count": 52,
     "metadata": {},
     "output_type": "execute_result"
    }
   ],
   "source": [
    "i1 = sortperm(-win_rates)[3]\n",
    "libi[i1]"
   ]
  },
  {
   "cell_type": "code",
   "execution_count": 53,
   "id": "bde30626",
   "metadata": {},
   "outputs": [
    {
     "data": {
      "text/plain": [
       "74-element Vector{Float64}:\n",
       " 0.5\n",
       " 0.5\n",
       " 0.6\n",
       " 0.5\n",
       " 0.5\n",
       " 0.4\n",
       " 0.16666666666666663\n",
       " 0.6666666666666667\n",
       " 0.75\n",
       " 0.25\n",
       " 0.5714285714285714\n",
       " 0.33333333333333337\n",
       " 0.5\n",
       " ⋮\n",
       " 0.2857142857142857\n",
       " 0.5\n",
       " 0.5\n",
       " 0.4\n",
       " 0.5\n",
       " 0.5\n",
       " 0.4\n",
       " 0.5\n",
       " 0.5\n",
       " 0.5714285714285714\n",
       " 0.5\n",
       " 0.5"
      ]
     },
     "execution_count": 53,
     "metadata": {},
     "output_type": "execute_result"
    }
   ],
   "source": [
    "# win rates of p2 response to p1\n",
    "counts = [sum(a_s[:, 1].==i1 .&& b_s[:, 1].== i) for i in 1:nlib]\n",
    "n_p1_wins = [sum(a_s[:, 1].==i1 .&& b_s[:, 1].== i .&& a_wins .== 1) for i in 1:nlib]\n",
    "win_rates2 = 1 .- (n_p1_wins .+ 1)./(counts .+ 2)"
   ]
  },
  {
   "cell_type": "code",
   "execution_count": 54,
   "id": "9f1b7e97",
   "metadata": {},
   "outputs": [
    {
     "name": "stdout",
     "output_type": "stream",
     "text": [
      "112132 0.8\n",
      "111322 0.75\n",
      "132211 0.75\n",
      "212131 0.75\n",
      "111313 0.6666666666666667\n",
      "121411 0.6666666666666667\n",
      "111142 0.6\n",
      "112213 0.6\n",
      "112321 0.6\n",
      "114211 0.6\n",
      "121132 0.6\n",
      "121312 0.6\n",
      "212212 0.6\n",
      "111412 0.5714285714285714\n",
      "112411 0.5714285714285714\n",
      "312211 0.5714285714285714\n"
     ]
    }
   ],
   "source": [
    "for i in sortperm(-win_rates2)[1:sum(win_rates2 .> 0.5)]\n",
    "    print(libi[i])\n",
    "    print(\" \")\n",
    "    println(win_rates2[i])\n",
    "end"
   ]
  },
  {
   "cell_type": "code",
   "execution_count": null,
   "id": "ea0b3a28",
   "metadata": {},
   "outputs": [],
   "source": []
  }
 ],
 "metadata": {
  "kernelspec": {
   "display_name": "Julia 1.9.3",
   "language": "julia",
   "name": "julia-1.9"
  },
  "language_info": {
   "file_extension": ".jl",
   "mimetype": "application/julia",
   "name": "julia",
   "version": "1.9.3"
  }
 },
 "nbformat": 4,
 "nbformat_minor": 5
}

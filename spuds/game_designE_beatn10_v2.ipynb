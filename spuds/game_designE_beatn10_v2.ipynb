{
 "cells": [
  {
   "cell_type": "markdown",
   "id": "052be005",
   "metadata": {},
   "source": [
    "Beat-n game with 10 pt limit"
   ]
  },
  {
   "cell_type": "markdown",
   "id": "72817bb1",
   "metadata": {},
   "source": [
    "## Spud code"
   ]
  },
  {
   "cell_type": "code",
   "execution_count": 1,
   "id": "494818e8",
   "metadata": {},
   "outputs": [],
   "source": [
    "using Random\n",
    "using DataFrames\n",
    "using CSV\n",
    "using DelimitedFiles\n",
    "using Statistics\n",
    "using Printf\n",
    "using LinearAlgebra\n",
    "using Dates"
   ]
  },
  {
   "cell_type": "code",
   "execution_count": 2,
   "id": "45e21e7f",
   "metadata": {},
   "outputs": [],
   "source": [
    "struct Spud\n",
    "    name::String\n",
    "    h::Int64\n",
    "    f::Int64\n",
    "    l::Int64\n",
    "    p::Int64\n",
    "    r::Int64\n",
    "    s::Int64\n",
    "    a1::Int64\n",
    "end"
   ]
  },
  {
   "cell_type": "code",
   "execution_count": 3,
   "id": "950e076e",
   "metadata": {},
   "outputs": [
    {
     "data": {
      "text/plain": [
       "1"
      ]
     },
     "execution_count": 3,
     "metadata": {},
     "output_type": "execute_result"
    }
   ],
   "source": [
    "const MXV = 9\n",
    "const MNV = 1"
   ]
  },
  {
   "cell_type": "code",
   "execution_count": 4,
   "id": "ac830f74",
   "metadata": {},
   "outputs": [
    {
     "data": {
      "text/plain": [
       "eval_melee (generic function with 3 methods)"
      ]
     },
     "execution_count": 4,
     "metadata": {},
     "output_type": "execute_result"
    }
   ],
   "source": [
    "function compare_int_list(as::Vector{Int64}, bs::Vector{Int64}, tiebreaker::Int64 = 0)::Int64\n",
    "    n = min(length(as), length(bs))\n",
    "    for i in 1:n\n",
    "        if as[i] != bs[i]\n",
    "            return sign(as[i] - bs[i])\n",
    "        end\n",
    "    end\n",
    "    return tiebreaker\n",
    "end\n",
    "\n",
    "function spud_h_seq(a::Spud)::Vector{Int64}\n",
    "    return [a.h, a.s, a.r, a.p, a.l, a.f]\n",
    "end\n",
    "\n",
    "function spud_f_seq(a::Spud)::Vector{Int64}\n",
    "    return [a.f, a.s, a.r, a.p, a.l, a.h]\n",
    "end\n",
    "\n",
    "function spud_l_seq(a::Spud)::Vector{Int64}\n",
    "    return [a.l]\n",
    "end\n",
    "\n",
    "function spud_p_seq(a::Spud)::Vector{Int64}\n",
    "    return [a.p, a.l]\n",
    "end\n",
    "\n",
    "function spud_r_seq(a::Spud)::Vector{Int64}\n",
    "    return [a.r, a.f]\n",
    "end\n",
    "\n",
    "function spud_s_seq(a::Spud)::Vector{Int64}\n",
    "    return [a.s, a.h]\n",
    "end\n",
    "\n",
    "function spud_utb_seq(a::Spud)::Vector{Int64}\n",
    "    return [a.a1, a.h, a.f, a.l, a.p, a.r, a.s]\n",
    "end\n",
    "\n",
    "function eval_finds(a::Spud, b::Spud, tiebreaker::Int64 = 0)::Int64\n",
    "    ev = compare_int_list(spud_f_seq(a), spud_h_seq(b), tiebreaker)\n",
    "    ans = ev\n",
    "end\n",
    "\n",
    "function eval_melee(a::Spud, b::Spud, tiebreaker1::Int64 = 0, tiebreaker2::Int64 = 0)::Int64\n",
    "    comp_p = compare_int_list(spud_p_seq(a), spud_p_seq(b), tiebreaker1)\n",
    "    comp_r = compare_int_list(spud_r_seq(a), spud_r_seq(b), tiebreaker1)\n",
    "    comp_s = compare_int_list(spud_s_seq(a), spud_s_seq(b), tiebreaker1)\n",
    "    ev = 4 * comp_p + 3 * comp_r + 2 * comp_s\n",
    "    return sign(ev + (1-abs(ev))*tiebreaker2)\n",
    "end\n",
    "\n"
   ]
  },
  {
   "cell_type": "code",
   "execution_count": 5,
   "id": "f603612d",
   "metadata": {},
   "outputs": [
    {
     "data": {
      "text/plain": [
       "eval_battle (generic function with 1 method)"
      ]
     },
     "execution_count": 5,
     "metadata": {},
     "output_type": "execute_result"
    }
   ],
   "source": [
    "\n",
    "\n",
    "function eval_battle(a::Spud, b::Spud)::Int64\n",
    "    utb = compare_int_list(spud_utb_seq(a), spud_utb_seq(b), 0) # universal tiebreaker\n",
    "    if utb == 0\n",
    "        return 0\n",
    "    end\n",
    "    a_finds = eval_finds(a, b, utb)==1\n",
    "    b_finds = eval_finds(b, a, utb)==1\n",
    "    melee_win = eval_melee(a, b, 0, 0)\n",
    "    luck_win = compare_int_list([a.l, melee_win], [b.l, -melee_win], 0)\n",
    "    if melee_win ==1 && luck_win ==1\n",
    "        return 1\n",
    "    end\n",
    "    if melee_win == -1 && luck_win == -1\n",
    "        return -1\n",
    "    end\n",
    "    if a_finds && b_finds\n",
    "        return melee_win\n",
    "    end\n",
    "    if a_finds && !b_finds\n",
    "        return 1\n",
    "    end\n",
    "    if !a_finds && b_finds\n",
    "        return -1\n",
    "    end\n",
    "    if !a_finds && !b_finds\n",
    "        return luck_win\n",
    "    end\n",
    "end"
   ]
  },
  {
   "cell_type": "code",
   "execution_count": 6,
   "id": "560e9539",
   "metadata": {},
   "outputs": [
    {
     "data": {
      "text/plain": [
       "df_to_spuds (generic function with 1 method)"
      ]
     },
     "execution_count": 6,
     "metadata": {},
     "output_type": "execute_result"
    }
   ],
   "source": [
    "function eval_battle_list(a::Spud, bs::Array{Spud})::Int\n",
    "    score = 0\n",
    "    for ii in 1:length(bs)\n",
    "        score = score + eval_battle(a, bs[ii])\n",
    "    end\n",
    "    return score\n",
    "end\n",
    "\n",
    "function eval_battle_list2(a::Spud, bs::Array{Spud}, w::Vector{Float64})::AbstractFloat\n",
    "    score = 0.0\n",
    "    for ii in 1:length(bs)\n",
    "        score = score + w[ii] * eval_battle(a, bs[ii])\n",
    "    end\n",
    "    return score\n",
    "end\n",
    "\n",
    "function spuds_to_df(as::Array{Spud})::DataFrame\n",
    "    names = Array{String}(undef, length(as))\n",
    "    hs = Array{Int}(undef, length(as))\n",
    "    fs = Array{Int}(undef, length(as))\n",
    "    ls = Array{Int}(undef, length(as))\n",
    "    ps = Array{Int}(undef, length(as))\n",
    "    rs = Array{Int}(undef, length(as))\n",
    "    ss = Array{Int}(undef, length(as))\n",
    "    a1s = Array{Int}(undef, length(as))\n",
    "    for ii in 1:length(as)\n",
    "        names[ii] = as[ii].name\n",
    "        hs[ii] = as[ii].h\n",
    "        fs[ii] = as[ii].f\n",
    "        ls[ii] = as[ii].l\n",
    "        ps[ii] = as[ii].p\n",
    "        rs[ii] = as[ii].r\n",
    "        ss[ii] = as[ii].s\n",
    "        a1s[ii] = as[ii].a1\n",
    "    end\n",
    "    df = DataFrame(name = names, h = hs, f = fs, l = ls, p = ps, r = rs, s = ss, a1 = a1s)\n",
    "    return df\n",
    "end\n",
    "\n",
    "function fpart(x::AbstractFloat)::AbstractFloat\n",
    "  return x - trunc(x)\n",
    "end\n",
    "\n",
    "# for legacy dfs without abilities\n",
    "function df_to_spuds0(df::DataFrame)::Array{Spud}\n",
    "    n = size(df)[1]\n",
    "    as = Array{Spud}(undef, n)\n",
    "    for i in 1:n\n",
    "        as[i] = Spud(df[i, :name], df[i, :h], df[i, :f], df[i, :l], df[i, :p], df[i, :r], df[i, :s], ability_none)\n",
    "    end\n",
    "    return as\n",
    "end\n",
    "\n",
    "function df_to_spuds(df::DataFrame)::Array{Spud}\n",
    "    n = size(df)[1]\n",
    "    as = Array{Spud}(undef, n)\n",
    "    for i in 1:n\n",
    "        as[i] = Spud(df[i, :name], df[i, :h], df[i, :f], df[i, :l], df[i, :p], df[i, :r], df[i, :s], df[i, :a1])\n",
    "    end\n",
    "    return as\n",
    "end\n",
    "\n"
   ]
  },
  {
   "cell_type": "markdown",
   "id": "66e71132",
   "metadata": {},
   "source": [
    "## Get spuds with cost 10 and filter nondominated"
   ]
  },
  {
   "cell_type": "code",
   "execution_count": 7,
   "id": "638f1e65",
   "metadata": {},
   "outputs": [
    {
     "data": {
      "text/plain": [
       "get_library (generic function with 2 methods)"
      ]
     },
     "execution_count": 7,
     "metadata": {},
     "output_type": "execute_result"
    }
   ],
   "source": [
    "function get_library(cost, n_init = 10000)\n",
    "    ffs = Array{Spud}(undef, n_init)\n",
    "    ff_i = 0\n",
    "    hrange = MNV:MXV\n",
    "    frange = MNV:MXV\n",
    "    lrange = MNV:MXV\n",
    "    prange = MNV:MXV\n",
    "    rrange = MNV:MXV\n",
    "    srange = MNV:MXV\n",
    "    for h in hrange\n",
    "        for f in frange\n",
    "            for l in lrange\n",
    "                for p in prange\n",
    "                    for r in rrange\n",
    "                        for s in srange\n",
    "                            if (h+f+l+p+r+s == cost)\n",
    "                                ff = Spud(\"\", h,f,l,p,r,s,999)\n",
    "                                ff_i += 1\n",
    "                                ffs[ff_i] = ff\n",
    "                            end\n",
    "                        end\n",
    "                    end                        \n",
    "                end                        \n",
    "            end\n",
    "        end\n",
    "    end\n",
    "    ffs = ffs[1:ff_i]\n",
    "    return unique(ffs)\n",
    "end"
   ]
  },
  {
   "cell_type": "code",
   "execution_count": 8,
   "id": "64d0dd3e",
   "metadata": {},
   "outputs": [
    {
     "data": {
      "text/plain": [
       "126-element Vector{Spud}:\n",
       " Spud(\"\", 1, 1, 1, 1, 1, 5, 999)\n",
       " Spud(\"\", 1, 1, 1, 1, 2, 4, 999)\n",
       " Spud(\"\", 1, 1, 1, 1, 3, 3, 999)\n",
       " Spud(\"\", 1, 1, 1, 1, 4, 2, 999)\n",
       " Spud(\"\", 1, 1, 1, 1, 5, 1, 999)\n",
       " Spud(\"\", 1, 1, 1, 2, 1, 4, 999)\n",
       " Spud(\"\", 1, 1, 1, 2, 2, 3, 999)\n",
       " Spud(\"\", 1, 1, 1, 2, 3, 2, 999)\n",
       " Spud(\"\", 1, 1, 1, 2, 4, 1, 999)\n",
       " Spud(\"\", 1, 1, 1, 3, 1, 3, 999)\n",
       " Spud(\"\", 1, 1, 1, 3, 2, 2, 999)\n",
       " Spud(\"\", 1, 1, 1, 3, 3, 1, 999)\n",
       " Spud(\"\", 1, 1, 1, 4, 1, 2, 999)\n",
       " ⋮\n",
       " Spud(\"\", 3, 1, 3, 1, 1, 1, 999)\n",
       " Spud(\"\", 3, 2, 1, 1, 1, 2, 999)\n",
       " Spud(\"\", 3, 2, 1, 1, 2, 1, 999)\n",
       " Spud(\"\", 3, 2, 1, 2, 1, 1, 999)\n",
       " Spud(\"\", 3, 2, 2, 1, 1, 1, 999)\n",
       " Spud(\"\", 3, 3, 1, 1, 1, 1, 999)\n",
       " Spud(\"\", 4, 1, 1, 1, 1, 2, 999)\n",
       " Spud(\"\", 4, 1, 1, 1, 2, 1, 999)\n",
       " Spud(\"\", 4, 1, 1, 2, 1, 1, 999)\n",
       " Spud(\"\", 4, 1, 2, 1, 1, 1, 999)\n",
       " Spud(\"\", 4, 2, 1, 1, 1, 1, 999)\n",
       " Spud(\"\", 5, 1, 1, 1, 1, 1, 999)"
      ]
     },
     "execution_count": 8,
     "metadata": {},
     "output_type": "execute_result"
    }
   ],
   "source": [
    "lib0 = get_library(10)\n",
    "lib0"
   ]
  },
  {
   "cell_type": "code",
   "execution_count": 9,
   "id": "6be20a55",
   "metadata": {},
   "outputs": [
    {
     "data": {
      "text/plain": [
       "get_payoffs (generic function with 1 method)"
      ]
     },
     "execution_count": 9,
     "metadata": {},
     "output_type": "execute_result"
    }
   ],
   "source": [
    "function get_payoffs(env::Array{Spud})::Array{Int64}\n",
    "    n_nash = length(env)\n",
    "    payoffs = Array{Int64}(undef, (n_nash, n_nash))\n",
    "    for i in 1:n_nash\n",
    "        for j in 1:n_nash\n",
    "            payoffs[i, j] = eval_battle(env[i], env[j])\n",
    "        end\n",
    "    end\n",
    "    return payoffs\n",
    "end"
   ]
  },
  {
   "cell_type": "code",
   "execution_count": 10,
   "id": "af79e6db",
   "metadata": {},
   "outputs": [
    {
     "data": {
      "text/plain": [
       "filter_nondominated2 (generic function with 1 method)"
      ]
     },
     "execution_count": 10,
     "metadata": {},
     "output_type": "execute_result"
    }
   ],
   "source": [
    "function filter_nondominated2(as::Array{Spud})::Array{Spud}\n",
    "    mat = get_payoffs(as);\n",
    "    isDominated = zeros(Int64, length(as));\n",
    "    for i in 1:length(as)\n",
    "        v = mat[i, :]\n",
    "        bv = ones(Int64, length(as))\n",
    "        for j in 1:length(as)\n",
    "            bv = bv .* (mat[:, j] .>= v[j])\n",
    "        end\n",
    "        if sum(bv) > 1\n",
    "            isDominated[i] = 1\n",
    "        end\n",
    "    end\n",
    "    return as[isDominated .== 0]\n",
    "end"
   ]
  },
  {
   "cell_type": "code",
   "execution_count": 11,
   "id": "55a8029c",
   "metadata": {},
   "outputs": [
    {
     "name": "stdout",
     "output_type": "stream",
     "text": [
      " 111124 111133 111142 111214 111223 111232 111241 111313 111322 111331 111412 111421 111511 112114 112123 112132 112141 112213 112222 112231 112312 112321 112411 113113 113122 113131 113212 113221 113311 114112 114121 114211 121114 121123 121132 121213 121222 121231 121312 121321 121411 122113 122122 122212 122221 122311 123112 123211 131113 131122 131212 131221 131311 132112 132211 141112 141211 212113 212122 212131 212212 212221 212311 213112 213121 213211 214111 222112 222211 312112 312121 312211 313111 412111"
     ]
    },
    {
     "data": {
      "text/plain": [
       "74"
      ]
     },
     "execution_count": 11,
     "metadata": {},
     "output_type": "execute_result"
    }
   ],
   "source": [
    "lib=filter_nondominated2(lib0)\n",
    "for ff in lib\n",
    "    print(\" \")\n",
    "    print(100000 * ff.h + 10000 * ff.f + 1000 * ff.l + 100 * ff.p + 10 * ff.r + ff.s)\n",
    "end\n",
    "nlib = length(lib)"
   ]
  },
  {
   "cell_type": "code",
   "execution_count": 12,
   "id": "7693aec2",
   "metadata": {},
   "outputs": [
    {
     "data": {
      "text/plain": [
       "74×74 Matrix{Int64}:\n",
       "  0  -1  -1  -1  -1  -1  -1   1  -1  …  -1  -1  -1  -1  -1  -1  -1  -1  -1\n",
       "  1   0  -1  -1  -1  -1  -1  -1   1     -1  -1  -1  -1  -1  -1  -1  -1  -1\n",
       "  1   1   0  -1  -1  -1  -1  -1  -1     -1  -1  -1  -1  -1  -1  -1  -1  -1\n",
       "  1   1   1   0  -1  -1  -1  -1  -1     -1  -1  -1  -1  -1  -1  -1  -1  -1\n",
       "  1   1   1   1   0  -1  -1  -1  -1     -1  -1  -1  -1  -1  -1  -1  -1  -1\n",
       "  1   1   1   1   1   0  -1  -1  -1  …  -1  -1  -1  -1  -1  -1  -1  -1  -1\n",
       "  1   1   1   1   1   1   0  -1  -1     -1  -1  -1  -1  -1  -1  -1  -1  -1\n",
       " -1   1   1   1   1   1   1   0  -1     -1  -1  -1  -1  -1  -1  -1  -1  -1\n",
       "  1  -1   1   1   1   1   1   1   0     -1  -1  -1  -1  -1  -1  -1  -1  -1\n",
       "  1   1  -1   1   1   1   1   1   1     -1  -1  -1  -1  -1  -1  -1  -1  -1\n",
       " -1  -1   1   1  -1   1   1   1   1  …  -1  -1  -1  -1  -1  -1  -1  -1  -1\n",
       "  1  -1  -1   1   1  -1   1   1   1     -1  -1  -1  -1  -1  -1  -1  -1  -1\n",
       " -1  -1  -1   1  -1  -1   1   1  -1     -1  -1  -1  -1  -1  -1  -1  -1  -1\n",
       "  ⋮                   ⋮              ⋱   ⋮                   ⋮          \n",
       "  1   1   1   1   1   1   1   1   1     -1  -1  -1   1   1  -1   1  -1   1\n",
       "  1   1   1   1   1   1   1   1   1     -1  -1   1   1   1   1   1   1   1\n",
       "  1   1   1   1   1   1   1   1   1     -1  -1   1   1   1   1   1   1   1\n",
       "  1   1   1   1   1   1   1   1   1  …   0  -1  -1   1   1   1   1   1   1\n",
       "  1   1   1   1   1   1   1   1   1      1   0  -1  -1   1   1   1   1   1\n",
       "  1   1   1   1   1   1   1   1   1      1   1   0  -1   1  -1   1  -1   1\n",
       "  1   1   1   1   1   1   1   1   1     -1   1   1   0   1  -1   1  -1   1\n",
       "  1   1   1   1   1   1   1   1   1     -1  -1  -1  -1   0  -1  -1  -1   1\n",
       "  1   1   1   1   1   1   1   1   1  …  -1  -1   1   1   1   0  -1  -1   1\n",
       "  1   1   1   1   1   1   1   1   1     -1  -1  -1  -1   1   1   0  -1   1\n",
       "  1   1   1   1   1   1   1   1   1     -1  -1   1   1   1   1   1   0   1\n",
       "  1   1   1   1   1   1   1   1   1     -1  -1  -1  -1  -1  -1  -1  -1   0"
      ]
     },
     "execution_count": 12,
     "metadata": {},
     "output_type": "execute_result"
    }
   ],
   "source": [
    "payoffs = get_payoffs(lib)"
   ]
  },
  {
   "cell_type": "code",
   "execution_count": 13,
   "id": "3d780a7c",
   "metadata": {},
   "outputs": [
    {
     "data": {
      "text/plain": [
       "spud2int (generic function with 1 method)"
      ]
     },
     "execution_count": 13,
     "metadata": {},
     "output_type": "execute_result"
    }
   ],
   "source": [
    "function spud2int(a::Spud)::Int64\n",
    "    return a.h * 100000 + a.f * 10000 + a.l * 1000 + a.p * 100 + a.r * 10 + a.s\n",
    "end"
   ]
  },
  {
   "cell_type": "code",
   "execution_count": 14,
   "id": "db3ccd86",
   "metadata": {},
   "outputs": [],
   "source": [
    "s2ind = Dict(lib[i] => i for i in 1:length(lib));\n",
    "int2ind = Dict(spud2int(lib[i]) => i for i in 1:length(lib));"
   ]
  },
  {
   "cell_type": "code",
   "execution_count": 15,
   "id": "a169b86e",
   "metadata": {},
   "outputs": [],
   "source": [
    "libi = [spud2int(ff) for ff in lib];"
   ]
  },
  {
   "cell_type": "code",
   "execution_count": 16,
   "id": "0e426ff9",
   "metadata": {},
   "outputs": [
    {
     "data": {
      "text/plain": [
       "73"
      ]
     },
     "execution_count": 16,
     "metadata": {},
     "output_type": "execute_result"
    }
   ],
   "source": [
    "int2ind[313111]"
   ]
  },
  {
   "cell_type": "code",
   "execution_count": 17,
   "id": "12e85b6a",
   "metadata": {},
   "outputs": [
    {
     "data": {
      "text/plain": [
       "3"
      ]
     },
     "execution_count": 17,
     "metadata": {},
     "output_type": "execute_result"
    }
   ],
   "source": [
    "as = [1,2,3]\n",
    "as[end]"
   ]
  },
  {
   "cell_type": "code",
   "execution_count": 18,
   "id": "ac7db512",
   "metadata": {},
   "outputs": [
    {
     "data": {
      "text/plain": [
       "eval_beatn (generic function with 1 method)"
      ]
     },
     "execution_count": 18,
     "metadata": {},
     "output_type": "execute_result"
    }
   ],
   "source": [
    "function eval_beatn(payoffs::Array{Int64}, as::Array{Int64}, bs::Array{Int64})::Int64\n",
    "    if length(bs)==0 || length(as)==0\n",
    "        return 0\n",
    "    end\n",
    "    a = as[end]\n",
    "    flag = true\n",
    "    count = 0\n",
    "    while flag\n",
    "        if payoffs[a, bs[end-count]]==1\n",
    "            count += 1\n",
    "        else\n",
    "            flag = false\n",
    "        end\n",
    "        if count == length(bs)\n",
    "            flag = false\n",
    "        end\n",
    "    end\n",
    "    return count\n",
    "end"
   ]
  },
  {
   "cell_type": "code",
   "execution_count": 19,
   "id": "06768a49",
   "metadata": {},
   "outputs": [
    {
     "data": {
      "text/plain": [
       "4-element Vector{Int64}:\n",
       " 41\n",
       " 40\n",
       " 27\n",
       " 65"
      ]
     },
     "execution_count": 19,
     "metadata": {},
     "output_type": "execute_result"
    }
   ],
   "source": [
    "as = [int2ind[ff] for ff in [214111, 112222, 313111, 113311]]\n",
    "bs = [int2ind[ff] for ff in [121411, 121321, 113212, 213121]]"
   ]
  },
  {
   "cell_type": "code",
   "execution_count": 20,
   "id": "d2ce51e6",
   "metadata": {},
   "outputs": [
    {
     "data": {
      "text/plain": [
       "2"
      ]
     },
     "execution_count": 20,
     "metadata": {},
     "output_type": "execute_result"
    }
   ],
   "source": [
    "eval_beatn(payoffs, as[1:3], bs[1:2])"
   ]
  },
  {
   "cell_type": "code",
   "execution_count": 21,
   "id": "7a920d9d",
   "metadata": {},
   "outputs": [
    {
     "data": {
      "text/plain": [
       "2"
      ]
     },
     "execution_count": 21,
     "metadata": {},
     "output_type": "execute_result"
    }
   ],
   "source": [
    "eval_beatn(payoffs, bs[1:3], as[1:3])"
   ]
  },
  {
   "cell_type": "code",
   "execution_count": 22,
   "id": "52666aca",
   "metadata": {},
   "outputs": [
    {
     "data": {
      "text/plain": [
       "2"
      ]
     },
     "execution_count": 22,
     "metadata": {},
     "output_type": "execute_result"
    }
   ],
   "source": [
    "eval_beatn(payoffs, as[1:4], bs[1:3])"
   ]
  },
  {
   "cell_type": "code",
   "execution_count": 23,
   "id": "c4ab1c2f",
   "metadata": {},
   "outputs": [
    {
     "data": {
      "text/plain": [
       "3"
      ]
     },
     "execution_count": 23,
     "metadata": {},
     "output_type": "execute_result"
    }
   ],
   "source": [
    "eval_beatn(payoffs, bs[1:4], as[1:4])"
   ]
  },
  {
   "cell_type": "code",
   "execution_count": 24,
   "id": "2180d5f3",
   "metadata": {},
   "outputs": [
    {
     "data": {
      "text/plain": [
       "74"
      ]
     },
     "execution_count": 24,
     "metadata": {},
     "output_type": "execute_result"
    }
   ],
   "source": [
    "size(payoffs)[1]"
   ]
  },
  {
   "cell_type": "code",
   "execution_count": 25,
   "id": "e0355eae",
   "metadata": {},
   "outputs": [
    {
     "data": {
      "text/plain": [
       "try_beatn (generic function with 1 method)"
      ]
     },
     "execution_count": 25,
     "metadata": {},
     "output_type": "execute_result"
    }
   ],
   "source": [
    "# tries all possible moves as extension of as\n",
    "function try_beatn(payoffs::Array{Int64}, as::Array{Int64}, bs::Array{Int64})::Array{Int64}\n",
    "    ans = Array{Int64}(undef, size(payoffs)[1])\n",
    "    for i in 1:size(payoffs)[1]\n",
    "        as2 = copy(as)\n",
    "        append!(as2, i)\n",
    "        ans[i] = eval_beatn(payoffs, as2, bs)\n",
    "    end\n",
    "    return ans\n",
    "end"
   ]
  },
  {
   "cell_type": "code",
   "execution_count": 26,
   "id": "610075c3",
   "metadata": {},
   "outputs": [
    {
     "name": "stdout",
     "output_type": "stream",
     "text": [
      "00000000000000000000000011120110021211220011100001110000000000000120000000"
     ]
    }
   ],
   "source": [
    "for i in try_beatn(payoffs, as, bs)\n",
    "    print(i)\n",
    "end"
   ]
  },
  {
   "cell_type": "code",
   "execution_count": 27,
   "id": "34b38ea6",
   "metadata": {},
   "outputs": [
    {
     "data": {
      "text/plain": [
       "lose_or_not (generic function with 1 method)"
      ]
     },
     "execution_count": 27,
     "metadata": {},
     "output_type": "execute_result"
    }
   ],
   "source": [
    "# returns 1 if Player A lost\n",
    "function lose_or_not(payoffs::Array{Int64}, as::Array{Int64}, bs::Array{Int64})::Int64\n",
    "    prev_score = eval_beatn(payoffs, bs, as)\n",
    "    scores = try_beatn(payoffs, as, bs)\n",
    "    if maximum(scores) < prev_score\n",
    "        return 1\n",
    "    end\n",
    "    return 0\n",
    "end"
   ]
  },
  {
   "cell_type": "code",
   "execution_count": 28,
   "id": "84fa5f6b",
   "metadata": {},
   "outputs": [
    {
     "data": {
      "text/plain": [
       "0"
      ]
     },
     "execution_count": 28,
     "metadata": {},
     "output_type": "execute_result"
    }
   ],
   "source": [
    "lose_or_not(payoffs, as[1:2], bs[1:2])"
   ]
  },
  {
   "cell_type": "code",
   "execution_count": 29,
   "id": "1e2178a4",
   "metadata": {},
   "outputs": [
    {
     "data": {
      "text/plain": [
       "0"
      ]
     },
     "execution_count": 29,
     "metadata": {},
     "output_type": "execute_result"
    }
   ],
   "source": [
    "lose_or_not(payoffs, as[1:3], bs[1:3])"
   ]
  },
  {
   "cell_type": "code",
   "execution_count": 30,
   "id": "80e2a310",
   "metadata": {},
   "outputs": [
    {
     "data": {
      "text/plain": [
       "1"
      ]
     },
     "execution_count": 30,
     "metadata": {},
     "output_type": "execute_result"
    }
   ],
   "source": [
    "lose_or_not(payoffs, as[1:4], bs[1:4])"
   ]
  },
  {
   "cell_type": "code",
   "execution_count": 31,
   "id": "3e10fcb4",
   "metadata": {},
   "outputs": [
    {
     "data": {
      "text/plain": [
       "legal_moves (generic function with 1 method)"
      ]
     },
     "execution_count": 31,
     "metadata": {},
     "output_type": "execute_result"
    }
   ],
   "source": [
    "function legal_moves(payoffs::Array{Int64}, as::Array{Int64}, bs::Array{Int64})::Array{Int64}\n",
    "    prev_score = eval_beatn(payoffs, bs, as)\n",
    "    scores = try_beatn(payoffs, as, bs)\n",
    "    cands = findall(scores .>= prev_score)\n",
    "    return cands\n",
    "end"
   ]
  },
  {
   "cell_type": "code",
   "execution_count": 32,
   "id": "7f74a1f2",
   "metadata": {},
   "outputs": [
    {
     "data": {
      "text/plain": [
       "choose_random (generic function with 1 method)"
      ]
     },
     "execution_count": 32,
     "metadata": {},
     "output_type": "execute_result"
    }
   ],
   "source": [
    "# picks randomly\n",
    "function choose_random(payoffs::Array{Int64}, as::Array{Int64}, bs::Array{Int64})::Int64\n",
    "    prev_score = eval_beatn(payoffs, bs, as)\n",
    "    scores = try_beatn(payoffs, as, bs)\n",
    "    cands = findall(scores .>= prev_score)\n",
    "    return rand(cands)\n",
    "end"
   ]
  },
  {
   "cell_type": "code",
   "execution_count": 33,
   "id": "89c48087",
   "metadata": {},
   "outputs": [
    {
     "data": {
      "text/plain": [
       "choose_aggro (generic function with 1 method)"
      ]
     },
     "execution_count": 33,
     "metadata": {},
     "output_type": "execute_result"
    }
   ],
   "source": [
    "# picks aggressively\n",
    "function choose_aggro(payoffs::Array{Int64}, as::Array{Int64}, bs::Array{Int64})::Int64\n",
    "    scores = try_beatn(payoffs, as, bs)\n",
    "    cands = findall(scores .== maximum(scores))\n",
    "    return rand(cands)\n",
    "end"
   ]
  },
  {
   "cell_type": "code",
   "execution_count": 34,
   "id": "a603dd38",
   "metadata": {},
   "outputs": [
    {
     "data": {
      "text/plain": [
       "display_game (generic function with 1 method)"
      ]
     },
     "execution_count": 34,
     "metadata": {},
     "output_type": "execute_result"
    }
   ],
   "source": [
    "function play_random_vs_aggro(\n",
    "        payoffs::Array{Int64}, \n",
    "        as::Array{Int64} = zeros(Int64, 0), \n",
    "        bs::Array{Int64} = zeros(Int64, 0))::Tuple{Int64, Array{Int64}, Array{Int64}}\n",
    "    if length(as) == 0\n",
    "        a = rand(1:size(payoffs)[1])\n",
    "        as = append!(as, a)\n",
    "    end\n",
    "    if length(bs) < length(as)\n",
    "        b = choose_aggro(payoffs, bs, as)\n",
    "        bs = append!(bs, b)\n",
    "    end\n",
    "    flag = true\n",
    "    a_win = 0\n",
    "    while flag\n",
    "        if lose_or_not(payoffs, as, bs)==1\n",
    "            flag = false\n",
    "            a_win = -1\n",
    "        else\n",
    "            # player A turn\n",
    "            a = choose_random(payoffs, as, bs)\n",
    "            as = append!(as, a)\n",
    "        end\n",
    "        if flag\n",
    "            if lose_or_not(payoffs, bs, as)==1\n",
    "                flag = false\n",
    "                a_win = 1\n",
    "            else\n",
    "                # player B turn\n",
    "                b = choose_aggro(payoffs, bs, as)\n",
    "                bs = append!(bs, b)\n",
    "            end\n",
    "        end\n",
    "    end\n",
    "    return (a_win, as, bs)\n",
    "end\n",
    "\n",
    "function display_game(payoffs::Array{Int64}, as::Array{Int64}, bs::Array{Int64})\n",
    "    for i in 1:length(as)\n",
    "        print(libi[as[i]])\n",
    "        print(\" {\")\n",
    "        n = eval_beatn(payoffs, as[1:i], bs[1:(i-1)])\n",
    "        print(n)\n",
    "        print(\"}. \")\n",
    "        if i <= length(bs)\n",
    "            print(libi[bs[i]])\n",
    "            print(\" {\")\n",
    "            n = eval_beatn(payoffs, bs[1:i], as[1:i])\n",
    "            print(n)\n",
    "            print(\"}. \")\n",
    "        end\n",
    "        println()\n",
    "    end\n",
    "end"
   ]
  },
  {
   "cell_type": "code",
   "execution_count": 35,
   "id": "cb5fb4b1",
   "metadata": {},
   "outputs": [
    {
     "name": "stdout",
     "output_type": "stream",
     "text": [
      "111133 {0}. 222211 {1}. \n",
      "213112 {1}. 113131 {2}. \n",
      "113221 {2}. 214111 {3}. \n",
      "122311 {3}. 121222 {3}. \n",
      "131221 {3}. 113311 {4}. \n",
      "121312 {5}. \n"
     ]
    }
   ],
   "source": [
    "a_win, as, bs = play_random_vs_aggro(payoffs, [int2ind[111133]], [int2ind[222211]])\n",
    "display_game(payoffs, as, bs)"
   ]
  },
  {
   "cell_type": "code",
   "execution_count": 36,
   "id": "c9c5ede6",
   "metadata": {},
   "outputs": [],
   "source": [
    "# n_games = 100\n",
    "# counts = Array{Int64}(undef, (nlib, nlib)) .* 0\n",
    "# wins = Array{Int64}(undef, (nlib, nlib)) .* 0\n",
    "# for a in 1:nlib\n",
    "#     for b in 1:nlib\n",
    "#         for i in 1:n_games\n",
    "#             a_win, as, bs = play_random_vs_aggro(payoffs, [a], [b])\n",
    "#             counts[a,b] += 1\n",
    "#             if a_win==1\n",
    "#                 wins[a,b] +=1\n",
    "#             end\n",
    "#         end\n",
    "        \n",
    "#     end\n",
    "# end"
   ]
  },
  {
   "cell_type": "code",
   "execution_count": 37,
   "id": "70cd3de5",
   "metadata": {},
   "outputs": [],
   "source": [
    "# maxes = [minimum(wins[i, :]) for i in 1:nlib]\n",
    "# for i in sortperm(-maxes)\n",
    "#     js = findall(wins[i, :].==minimum(wins[i, :]))\n",
    "#     print(libi[i])\n",
    "#     print(\" \")\n",
    "#     print(libi[js])\n",
    "#     print(\" \")\n",
    "#     println(minimum(wins[i, :])/n_games)\n",
    "# end"
   ]
  },
  {
   "cell_type": "code",
   "execution_count": 38,
   "id": "f4b225d8",
   "metadata": {},
   "outputs": [],
   "source": [
    "# n_games = 100\n",
    "# counts = Array{Int64}(undef, (nlib, nlib)) .* 0\n",
    "# wins = Array{Int64}(undef, (nlib, nlib)) .* 0\n",
    "# a1 = int2ind[121321]\n",
    "# b1 = int2ind[214111]\n",
    "# a_moves = legal_moves(payoffs, [a1], [b1])\n",
    "# for a in a_moves\n",
    "#     b_moves = legal_moves(payoffs, [b1], [a1, a])\n",
    "#     for b in b_moves\n",
    "#         for i in 1:n_games\n",
    "#             a_win, as, bs = play_random_vs_aggro(payoffs, [a1,a], [b1,b])\n",
    "#             counts[a,b] += 1\n",
    "#             if a_win==1\n",
    "#                 wins[a,b] +=1\n",
    "#             end\n",
    "#         end\n",
    "        \n",
    "#     end\n",
    "# end"
   ]
  },
  {
   "cell_type": "code",
   "execution_count": 39,
   "id": "304c5060",
   "metadata": {
    "scrolled": false
   },
   "outputs": [],
   "source": [
    "# maxes = [minimum(wins[i, :]) for i in 1:nlib]\n",
    "# for i in sortperm(-maxes)[1:10]\n",
    "#     if i in a_moves\n",
    "#         wns = wins[i, :]\n",
    "#         cns = counts[i, :]\n",
    "#         min_wins = minimum(wns[cns .> 0])\n",
    "#         js = findall(wns .== min_wins)\n",
    "#         print(libi[i])\n",
    "#         print(\" \")\n",
    "#         print(libi[js])\n",
    "#         print(\" \")\n",
    "#         println(minimum(wins[i, :])/n_games)\n",
    "#     end\n",
    "# end"
   ]
  },
  {
   "cell_type": "code",
   "execution_count": 40,
   "id": "69790ff5",
   "metadata": {},
   "outputs": [
    {
     "name": "stdout",
     "output_type": "stream",
     "text": [
      "121321 {0}. 214111 {0}. \n",
      "213112 {0}. 313111 {0}. \n",
      "113212 {1}. 113311 {3}. \n",
      "131212 {3}. 113221 {3}. \n",
      "114112 {4}. 131311 {4}. \n",
      "131122 {5}. 121312 {5}. \n"
     ]
    }
   ],
   "source": [
    "# check game lengths\n",
    "a1 = int2ind[121321]\n",
    "b1 = int2ind[214111]\n",
    "a2 = int2ind[213112]\n",
    "b2 = int2ind[313111]\n",
    "a_win, as, bs = play_random_vs_aggro(payoffs, [a1,a2],[b1,b2])\n",
    "display_game(payoffs, as, bs)"
   ]
  },
  {
   "cell_type": "code",
   "execution_count": 41,
   "id": "97977ee4",
   "metadata": {},
   "outputs": [],
   "source": [
    "# n_games = 1000\n",
    "# counts = Array{Int64}(undef, (nlib, nlib)) .* 0\n",
    "# wins = Array{Int64}(undef, (nlib, nlib)) .* 0\n",
    "# a1 = int2ind[121321]\n",
    "# b1 = int2ind[214111]\n",
    "# a2 = int2ind[213112]\n",
    "# b2 = int2ind[313111]\n",
    "# a_moves = legal_moves(payoffs, [a1,a2], [b1,b2])\n",
    "# for a in a_moves\n",
    "#     b_moves = legal_moves(payoffs, [b1,b2], [a1,a2,a])\n",
    "#     for b in b_moves\n",
    "#         for i in 1:n_games\n",
    "#             a_win, as, bs = play_random_vs_aggro(payoffs, [a1,a2,a], [b1,b2,b])\n",
    "#             counts[a,b] += 1\n",
    "#             if a_win==1\n",
    "#                 wins[a,b] +=1\n",
    "#             end\n",
    "#         end\n",
    "        \n",
    "#     end\n",
    "# end"
   ]
  },
  {
   "cell_type": "code",
   "execution_count": 42,
   "id": "b482cbb8",
   "metadata": {},
   "outputs": [],
   "source": [
    "# maxes = [minimum(wins[i, :]) for i in 1:nlib]\n",
    "# for i in sortperm(-maxes)[1:10]\n",
    "#     if i in a_moves\n",
    "#         wns = wins[i, :]\n",
    "#         cns = counts[i, :]\n",
    "#         min_wins = minimum(wns[cns .> 0])\n",
    "#         js = findall(wns .== min_wins)\n",
    "#         print(libi[i])\n",
    "#         print(\" \")\n",
    "#         print(libi[js])\n",
    "#         print(\" \")\n",
    "#         println(minimum(wins[i, :])/n_games)\n",
    "#     end\n",
    "# end"
   ]
  },
  {
   "cell_type": "code",
   "execution_count": 43,
   "id": "ad2413cc",
   "metadata": {},
   "outputs": [
    {
     "name": "stdout",
     "output_type": "stream",
     "text": [
      "121321 {0}. 214111 {0}. \n",
      "213112 {0}. 313111 {0}. \n",
      "121321 {0}. 121222 {0}. \n",
      "141211 {0}. 113311 {4}. \n"
     ]
    }
   ],
   "source": [
    "# check game lengths\n",
    "a1 = int2ind[121321]\n",
    "b1 = int2ind[214111]\n",
    "a2 = int2ind[213112]\n",
    "b2 = int2ind[313111]\n",
    "a3 = int2ind[121321]\n",
    "b3 = int2ind[121222]\n",
    "a_win, as, bs = play_random_vs_aggro(payoffs, [a1,a2,a3],[b1,b2,b3])\n",
    "display_game(payoffs, as, bs)"
   ]
  },
  {
   "cell_type": "code",
   "execution_count": 44,
   "id": "6c5e0dc5",
   "metadata": {},
   "outputs": [],
   "source": [
    "# n_games = 100\n",
    "# counts = Array{Int64}(undef, (nlib, nlib)) .* 0\n",
    "# wins = Array{Int64}(undef, (nlib, nlib)) .* 0\n",
    "# a1 = int2ind[121321]\n",
    "# b1 = int2ind[214111]\n",
    "# a2 = int2ind[213112]\n",
    "# b2 = int2ind[313111]\n",
    "# a3 = int2ind[121321]\n",
    "# b3 = int2ind[121222]\n",
    "# a_moves = legal_moves(payoffs, [a1,a2,a3], [b1,b2,b3])\n",
    "# for a in a_moves\n",
    "#     b_moves = legal_moves(payoffs, [b1,b2,b3], [a1,a2,a3,a])\n",
    "#     for b in b_moves\n",
    "#         for i in 1:n_games\n",
    "#             a_win, as, bs = play_random_vs_aggro(payoffs, [a1,a2,a3,a], [b1,b2,b3,b])\n",
    "#             counts[a,b] += 1\n",
    "#             if a_win==1\n",
    "#                 wins[a,b] +=1\n",
    "#             end\n",
    "#         end\n",
    "        \n",
    "#     end\n",
    "# end"
   ]
  },
  {
   "cell_type": "code",
   "execution_count": 45,
   "id": "49aeff16",
   "metadata": {},
   "outputs": [],
   "source": [
    "# maxes = [minimum(wins[i, :]) for i in 1:nlib]\n",
    "# for i in sortperm(-maxes)[1:10]\n",
    "#     if i in a_moves\n",
    "#         wns = wins[i, :]\n",
    "#         cns = counts[i, :]\n",
    "#         min_wins = minimum(wns[cns .> 0])\n",
    "#         js = findall(wns .== min_wins)\n",
    "#         print(libi[i])\n",
    "#         print(\" \")\n",
    "#         print(libi[js])\n",
    "#         print(\" \")\n",
    "#         println(minimum(wins[i, :])/n_games)\n",
    "#     end\n",
    "# end"
   ]
  },
  {
   "cell_type": "code",
   "execution_count": 46,
   "id": "6b2ec146",
   "metadata": {},
   "outputs": [
    {
     "name": "stdout",
     "output_type": "stream",
     "text": [
      "121321 {0}. 214111 {0}. \n",
      "213112 {0}. 313111 {0}. \n",
      "121321 {0}. 121222 {0}. \n",
      "113122 {0}. 111133 {2}. \n",
      "212113 {2}. 113221 {2}. \n",
      "212131 {2}. 114112 {3}. \n",
      "111232 {4}. 113212 {4}. \n",
      "111313 {5}. 214111 {5}. \n"
     ]
    }
   ],
   "source": [
    "# check game lengths\n",
    "a1 = int2ind[121321]\n",
    "b1 = int2ind[214111]\n",
    "a2 = int2ind[213112]\n",
    "b2 = int2ind[313111]\n",
    "a3 = int2ind[121321]\n",
    "b3 = int2ind[121222]\n",
    "a4 = int2ind[113122]\n",
    "b4 = int2ind[111133]\n",
    "a_win, as, bs = play_random_vs_aggro(payoffs, [a1,a2,a3,a4],[b1,b2,b3,b4])\n",
    "display_game(payoffs, as, bs)"
   ]
  },
  {
   "cell_type": "markdown",
   "id": "48f3415c",
   "metadata": {},
   "source": [
    "## MCTS"
   ]
  },
  {
   "cell_type": "code",
   "execution_count": 47,
   "id": "03ab4684",
   "metadata": {},
   "outputs": [
    {
     "data": {
      "text/plain": [
       "merge_arrs (generic function with 1 method)"
      ]
     },
     "execution_count": 47,
     "metadata": {},
     "output_type": "execute_result"
    }
   ],
   "source": [
    "function intarr_to_string(as::Array{Int64})::String\n",
    "    return join([convert(Char, a+32) for a in as])\n",
    "end\n",
    "\n",
    "function string_to_intarr(s::String)::Array{Int64}\n",
    "    return [convert(Int64, s[i])-32 for i in 1:length(s)]\n",
    "end\n",
    "\n",
    "# s=intarr_to_string([i for i in 1:75])\n",
    "# as=string_to_intarr(s)\n",
    "# for i in as\n",
    "#     print(i)\n",
    "#     print(\" \")\n",
    "# end\n",
    "\n",
    "function split_arrs(zs::Array{Int64})::Tuple{Array{Int64},Array{Int64}}\n",
    "    if mod(length(zs), 2)==0\n",
    "        return (zs[1:2:(end-1)], zs[2:2:end])\n",
    "    else\n",
    "        return (zs[1:2:end], zs[2:2:(end-1)])\n",
    "    end\n",
    "end\n",
    "\n",
    "function merge_arrs(as::Array{Int64}, bs::Array{Int64})::Array{Int64}\n",
    "    zs = Array{Int64}(undef, length(as)+length(bs))\n",
    "    if mod(length(zs), 2)==0\n",
    "        zs[1:2:(end-1)]=as\n",
    "        zs[2:2:end]=bs\n",
    "    else\n",
    "        zs[1:2:end] = as\n",
    "    zs[2:2:(end-1)] = bs\n",
    "    end\n",
    "    return zs\n",
    "end"
   ]
  },
  {
   "cell_type": "code",
   "execution_count": 48,
   "id": "5f17e18c",
   "metadata": {},
   "outputs": [
    {
     "data": {
      "text/plain": [
       "expand_leaf (generic function with 1 method)"
      ]
     },
     "execution_count": 48,
     "metadata": {},
     "output_type": "execute_result"
    }
   ],
   "source": [
    "function expand_leaf(payoffs::Array{Int64}, tree::Dict{String, Vector{Int64}}, leaf::String)::Dict{String, Vector{Int64}}\n",
    "    # create nodes for all children if needed\n",
    "    children = get_children(payoffs, leaf)\n",
    "    for child in children\n",
    "        if !haskey(tree, child)\n",
    "            tree[child] = [0,0]\n",
    "        end\n",
    "    end\n",
    "    # get arrays for leaf\n",
    "    as, bs = split_arrs(string_to_intarr(leaf))\n",
    "    if mod(length(leaf), 2)==0\n",
    "        player = 1\n",
    "    else\n",
    "        player = 2\n",
    "    end\n",
    "    # generate random successor\n",
    "    if player==1\n",
    "        cands = legal_moves(payoffs, as, bs)\n",
    "        append!(as, rand(cands))\n",
    "    else\n",
    "        cands = legal_moves(payoffs, bs, as)\n",
    "        append!(bs, rand(cands))\n",
    "    end    \n",
    "    zs = merge_arrs(as, bs)\n",
    "    # play the match\n",
    "    a_win, as2, bs2 = play_random_vs_aggro(payoffs, as, bs)\n",
    "    # propagate\n",
    "    for i in 0:length(zs)\n",
    "        if i==0\n",
    "            node = \"\"\n",
    "        else\n",
    "            node = intarr_to_string(zs[1:i])\n",
    "        end\n",
    "        # increase count\n",
    "        tree[node][2] += 1\n",
    "        # increase win\n",
    "        if a_win==1\n",
    "            tree[node][1] += 1\n",
    "        end\n",
    "    end\n",
    "    return tree\n",
    "end\n"
   ]
  },
  {
   "cell_type": "code",
   "execution_count": 49,
   "id": "59600e5a",
   "metadata": {},
   "outputs": [
    {
     "data": {
      "text/plain": [
       "append_move_to_leaf (generic function with 1 method)"
      ]
     },
     "execution_count": 49,
     "metadata": {},
     "output_type": "execute_result"
    }
   ],
   "source": [
    "function append_move_to_leaf(leaf::String, move::Int64)::String\n",
    "    zs = string_to_intarr(leaf)\n",
    "    append!(zs, move)\n",
    "    return intarr_to_string(zs)\n",
    "end"
   ]
  },
  {
   "cell_type": "code",
   "execution_count": 50,
   "id": "96964b11",
   "metadata": {},
   "outputs": [
    {
     "data": {
      "text/plain": [
       "is_terminal (generic function with 1 method)"
      ]
     },
     "execution_count": 50,
     "metadata": {},
     "output_type": "execute_result"
    }
   ],
   "source": [
    "function is_terminal(payoffs::Array{Int64}, leaf::String)::Int64\n",
    "    as, bs = split_arrs(string_to_intarr(leaf))\n",
    "    if mod(length(leaf), 2)==0\n",
    "        #player = 1\n",
    "        return lose_or_not(payoffs, bs, as)\n",
    "    else\n",
    "        #player = 2\n",
    "        return lose_or_not(payoffs, as, bs)\n",
    "    end\n",
    "end"
   ]
  },
  {
   "cell_type": "code",
   "execution_count": 51,
   "id": "7ec3680a",
   "metadata": {},
   "outputs": [
    {
     "data": {
      "text/plain": [
       "get_children (generic function with 1 method)"
      ]
     },
     "execution_count": 51,
     "metadata": {},
     "output_type": "execute_result"
    }
   ],
   "source": [
    "function get_children(payoffs::Array{Int64}, leaf::String)::Array{String}\n",
    "    # get arrays\n",
    "    as, bs = split_arrs(string_to_intarr(leaf))\n",
    "    if mod(length(leaf), 2)==0\n",
    "        player = 1\n",
    "    else\n",
    "        player = 2\n",
    "    end\n",
    "    # generate successors\n",
    "    if player==1\n",
    "        cands = legal_moves(payoffs, as, bs)\n",
    "    else\n",
    "        cands = legal_moves(payoffs, bs, as)\n",
    "    end\n",
    "    return [append_move_to_leaf(leaf, c) for c in cands]\n",
    "end"
   ]
  },
  {
   "cell_type": "code",
   "execution_count": 52,
   "id": "01183981",
   "metadata": {},
   "outputs": [
    {
     "data": {
      "text/plain": [
       "sample_next_node (generic function with 1 method)"
      ]
     },
     "execution_count": 52,
     "metadata": {},
     "output_type": "execute_result"
    }
   ],
   "source": [
    "function sample_next_node(payoffs::Array{Int64}, tree::Dict{String, Vector{Int64}}, leaf::String)::String\n",
    "    # assumes that all children are added\n",
    "    children = get_children(payoffs, leaf)\n",
    "    counts = [tree[c][2] for c in children]\n",
    "    wins = [tree[c][1] for c in children]\n",
    "    if mod(length(leaf), 2)==1\n",
    "        wins = counts .- wins\n",
    "    end\n",
    "    scores = (wins .+ 1)./(counts .+ 1)\n",
    "    return children[rand(findall(scores .== maximum(scores)))]\n",
    "end"
   ]
  },
  {
   "cell_type": "code",
   "execution_count": 53,
   "id": "24779d6b",
   "metadata": {},
   "outputs": [
    {
     "data": {
      "text/plain": [
       "random_leaf (generic function with 2 methods)"
      ]
     },
     "execution_count": 53,
     "metadata": {},
     "output_type": "execute_result"
    }
   ],
   "source": [
    "function random_leaf(payoffs::Array{Int64}, tree::Dict{String, Vector{Int64}}, leaf::String=\"\")::String\n",
    "    node = leaf\n",
    "    while tree[node][2] > 1\n",
    "        node = sample_next_node(payoffs, tree, node)\n",
    "    end\n",
    "    return node\n",
    "end"
   ]
  },
  {
   "cell_type": "code",
   "execution_count": 54,
   "id": "64db5dd2",
   "metadata": {},
   "outputs": [
    {
     "data": {
      "text/plain": [
       "display_path (generic function with 1 method)"
      ]
     },
     "execution_count": 54,
     "metadata": {},
     "output_type": "execute_result"
    }
   ],
   "source": [
    "function display_leaf(payoffs::Array{Int64}, tree::Dict{String, Vector{Int64}}, leaf::String)\n",
    "    println(\"Leaf:\")\n",
    "    as, bs = split_arrs(string_to_intarr(leaf))\n",
    "    display_game(payoffs, as, bs)\n",
    "    print(\"Stats: \")\n",
    "    print(tree[leaf][1])\n",
    "    print(\"/\")\n",
    "    println(tree[leaf][2])\n",
    "end\n",
    "\n",
    "function display_path(payoffs::Array{Int64}, tree::Dict{String, Vector{Int64}}, leaf::String)\n",
    "    for i in 0:length(leaf)\n",
    "        if i==0\n",
    "            display_leaf(payoffs, tree, \"\")\n",
    "        else\n",
    "            display_leaf(payoffs, tree, leaf[1:i])\n",
    "        end\n",
    "        println()\n",
    "    end\n",
    "end"
   ]
  },
  {
   "cell_type": "code",
   "execution_count": 55,
   "id": "e4d3ade8",
   "metadata": {},
   "outputs": [
    {
     "name": "stdout",
     "output_type": "stream",
     "text": [
      "Dict(\"Z\" => [0, 0], \"`\" => [0, 0], \"1\" => [0, 0], \"!\" => [0, 0], \"C\" => [0, 0], \"2\" => [0, 0], \"P\" => [0, 0], \"<\" => [0, 0], \"=\" => [0, 0], \"/\" => [0, 0], \"'\" => [0, 0], \".\" => [0, 0], \"d\" => [0, 0], \"#\" => [0, 0], \"Y\" => [0, 0], \"U\" => [0, 0], \"-\" => [0, 0], \"\\\\\" => [0, 0], \"*\" => [0, 0], \"+\" => [0, 0], \")\" => [0, 0], \"K\" => [0, 0], \"V\" => [0, 0], \"b\" => [0, 0], \"5\" => [0, 0], \"]\" => [0, 0], \"(\" => [0, 0], \"H\" => [0, 0], \":\" => [0, 0], \"%\" => [0, 0], \"S\" => [0, 0], \"9\" => [0, 0], \"F\" => [0, 0], \"f\" => [0, 0], \"W\" => [0, 0], \"T\" => [0, 0], \"c\" => [0, 0], \">\" => [0, 0], \"e\" => [0, 0], \"6\" => [0, 0], \"L\" => [0, 0], \"O\" => [0, 0], \",\" => [0, 0], \"B\" => [0, 0], \"M\" => [1, 1], \"[\" => [0, 0], \"?\" => [0, 0], \"i\" => [0, 0], \"g\" => [0, 0], \"X\" => [0, 0], \"7\" => [0, 0], \"D\" => [0, 0], \"_\" => [0, 0], \"8\" => [0, 0], \"0\" => [0, 0], \";\" => [0, 0], \"4\" => [0, 0], \"Q\" => [0, 0], \"a\" => [0, 0], \"h\" => [0, 0], \"&\" => [0, 0], \"N\" => [0, 0], \"^\" => [0, 0], \"\\$\" => [0, 0], \"A\" => [0, 0], \"j\" => [0, 0], \"G\" => [0, 0], \"E\" => [0, 0], \"@\" => [0, 0], \"I\" => [0, 0], \"J\" => [0, 0], \"\" => [1, 1], \"R\" => [0, 0], \"\\\"\" => [0, 0], \"3\" => [0, 0])"
     ]
    }
   ],
   "source": [
    "tree = Dict(\"\" => [0,0])\n",
    "# add the first node\n",
    "tree = expand_leaf(payoffs, tree, \"\")\n",
    "print(tree)"
   ]
  },
  {
   "cell_type": "code",
   "execution_count": 56,
   "id": "c7cea431",
   "metadata": {},
   "outputs": [
    {
     "name": "stdout",
     "output_type": "stream",
     "text": [
      " C \\ Q % / E b 6 $ Z > g R - 2 _ 7 3 . 4 # P N , c \\ \" 9 i ) F : N D X O c 8 U j b 2 = G ( : H E 1 Q f ] ? K i O S 0 U I ; ^ % A E' M 7 ! e h A I 9 Z a ! V h d d * W + [ 5 B d; H dO < 9F Y J @ T \\\" \" = =R ` 2Z + a \"Q J & & ` 2< i: [ ' ( V i) [* [+ i+ B (3 ($ (M (W (R iP id i& [P [6 [& 2? 2# d^ d] i` i. i6 i2 i] i' iS (+ \"g 9# 9J Ea iB iG [g \\0 == =9 =F =` =$ iS d/ dF 2F iS5 H3 BJ =L 9M U$ IH &M &\" %7 %L %N %1 %a %< %T %8 %* %A %F () a7 a/ ZE M- hf `* c# cJ cc c? cB c( cV c6 c3 c; cD cH c^ c$ c: cb cX c+ cX cT cA c) c` cP c] cg A; Nh Vc VZ V! VH V_ OF Oi :R +, !M !@ !V bK 7B 74 !O !$ !? dg dO dL d& d6 d2 d< dC d0 !E !/ !* !1 !j !` dE Q, J\" Ji !B [Q c@ i* %+ cQ cE d+ VW !) ca c= 23 2[ i3 cA cX4 cf c9 cG cM cI c@ cL c1 cU cb cK cS c\" c/ c* cW c, c< cR [S [: \\` cR c5 &g %^ %) OB () (7 d8 d4 d@ d* d\" J. JP a> 7O 7C E. 2\" \"I =X =0 d! d% ce c% cO c! c\\ cg c[ c. c9 c' cY c' c\" c] c@V c- c, c9$ cd dK c0 i\" %C !3 !R c@Q c4 (a (8 [a [! =/ =@ =M =N =? =[ c7 c` cF !S !I !a !a c`Q [X de dJ dV dM dI d3 dE JV JG 71 7i d( 9` (= cN cd c9F c`f c= c* !& i( ih i[ iE iO i^ cb: c2 c4 c9b ci c=' c_ cT cI c- c8 c> cI0 cZ c. cZ cB cE c> JN dN =b =6 7) %P c/ V\\ V. V6 VR V` VW i@ i/ ig iQ cEH c[ =P cC ia 2Q cI, !6 !F d' c>\" c5 cF c.& c& ci c/O ciU !> c[S cC c/' V$ (h [V [F c/i cB' ciV cj c0 c*R c*h cI/ cBg i+ iA iZ iC i' iO i[ i? ib iW ie i& ig iI i_ ia i^ iOP i5 ij ii i4 iY iH ig2 if iF i_ i> i; iQ i= iN iL ic iQ( i< i1 iQU i8 i# i! iX i> i0 iC ie iW iV i, iX i$ ic iU i= i\\ i* i9 iR i\\ iD i# ig* iL i#A i; iK iU i*D iU! iK iH i*, iV i8 iH( [B i$ %S %) cBi db d' dh %& =3 =6 =Q =) =1 =? =T =P =D =O =# =! iG cI^ c*? cF; cCL cB\" c*X c*> c*B cB/ cB$ cBE cBK cBR cIa cI- !5 i- cIV => =T =a =[ =W cI\\ cB* iM cBT c/` c9b c9B cI) cIS ciA ci* cic dZ dY d# d\\ d) d9 dN ci, i*_ ci[ ciE c`g c`D c@( cBZ c*0 cI! c>] c>D c>/ c>Q c>N c>S c>T i7 iLB iT i#; iM i*( iLg c>U 7E 7\\ 7) 7P < f / Q8 QC Q> QL Q7 QR QW Qf QV Q+ QM QI QG Q* Qi Q4 $ dA ? ?6 ?9 ?7 ?- ?^ ?S ?? X 4 \"2 O[ ([ _ Q. Qe Q, Q6 Q\\ Q6 QD Q* Qg Q' Q0 Q2 QB Q9 Qb Qa Qh Q*` Q: Q) Q_ QP Q? Qb Qj Q# =h he h# h` h) h/ hG h> hH hP h1 hh h3 hg h$ h\\ hY h\\ hR hf h[ hG hQ h4 ha h\" h, h` h4 hj h9 hR hb h; hi [J [5 Qc +6 +$ Na > >e Jh J^ Jd JT J' JY J3 JR J% J- JW J: J= JJ Jg JI JO J7 J$ JG JB JB M; M3 MY M^ [] 0 A3 S j - i$V iS] iHF iec iL0 i\" iLV iG; i\"% iM> iMK i- i*F i8U i-$ i;! iL3 iQS iQ& i3 iLc i3] i3% iL@ i*L i*6 i*C iQ\\ i*+ i#a i3\\ i3P i3c iS6 iL7 iL( iLI iLL iLQ iLU iL2 iL: K E5 E+ ^ ^& F FR V( V7 Y Y9 Y^ YM YY YV Y$ YC YT Y8 YJ Y' YZ Yh YI YS Y= Y\" Yc YE Y7 YR Yc Y0 YcA Y- Y& Yj Y] Y4 YB YI YQ YN YP Y# Ya Yj Ycj Y[ YG YU Y@ Yi Y% Y_ Y/ Y: Ye Yc' C 25 2a D DM * 9* @ Bj ZH iL, DP D6 g g( MU 1 G g% >^ `W %e %* 2U P J< J; J_ JT JM J8 FT :X &I . .4 E# E\" E% EH %R %0 %Z %I %? %K %$ %G %_ %W %f %*6 %g %9 %/ %4 %# %)] L , ,? V# 8 8) 8R 8\" DS !L !h ' '8 h' h4G h% h: hS h. h[ h? hO h& h+ hU h+ h: h? h_ 5 ; ) # #= #G #@ #` #e #P #[ Ef %M %4 bD Uc %, %Zh .; !G !Q \\8 \\d +( JC Jc I! 7# hE h( h5 hA h8 h> h@ h! h* hW hd hZ ] ^L ^D ^: ^2 ^* ^b "
     ]
    }
   ],
   "source": [
    "for iter in 1:1000\n",
    "    # get a node with no count, then expand it\n",
    "    node = \"\"\n",
    "    while tree[node][2] > 1\n",
    "        node = sample_next_node(payoffs, tree, node)\n",
    "    end\n",
    "    print(node)\n",
    "    print(\" \")\n",
    "    tree = expand_leaf(payoffs, tree, node)\n",
    "end"
   ]
  },
  {
   "cell_type": "code",
   "execution_count": 65,
   "id": "82cae041",
   "metadata": {},
   "outputs": [
    {
     "name": "stdout",
     "output_type": "stream",
     "text": [
      "Leaf:\n",
      "Stats: 438/1001\n",
      "\n",
      "Leaf:\n",
      "212221 {0}. \n",
      "Stats: 5/9\n",
      "\n",
      "Leaf:\n",
      "212221 {0}. 111142 {0}. \n",
      "Stats: 0/0\n",
      "\n"
     ]
    }
   ],
   "source": [
    "leaf = random_leaf(payoffs, tree, \"\")\n",
    "display_path(payoffs, tree, leaf)"
   ]
  },
  {
   "cell_type": "code",
   "execution_count": null,
   "id": "ea0b3a28",
   "metadata": {},
   "outputs": [],
   "source": []
  }
 ],
 "metadata": {
  "kernelspec": {
   "display_name": "Julia 1.9.3",
   "language": "julia",
   "name": "julia-1.9"
  },
  "language_info": {
   "file_extension": ".jl",
   "mimetype": "application/julia",
   "name": "julia",
   "version": "1.9.3"
  }
 },
 "nbformat": 4,
 "nbformat_minor": 5
}

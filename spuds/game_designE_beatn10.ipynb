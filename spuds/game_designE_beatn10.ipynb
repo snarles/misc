{
 "cells": [
  {
   "cell_type": "markdown",
   "id": "052be005",
   "metadata": {},
   "source": [
    "Beat-n game with 10 pt limit"
   ]
  },
  {
   "cell_type": "markdown",
   "id": "72817bb1",
   "metadata": {},
   "source": [
    "## Spud code"
   ]
  },
  {
   "cell_type": "code",
   "execution_count": 1,
   "id": "494818e8",
   "metadata": {},
   "outputs": [],
   "source": [
    "using Random\n",
    "using DataFrames\n",
    "using CSV\n",
    "using DelimitedFiles\n",
    "using Statistics\n",
    "using Printf\n",
    "using LinearAlgebra\n",
    "using Dates"
   ]
  },
  {
   "cell_type": "code",
   "execution_count": 2,
   "id": "45e21e7f",
   "metadata": {},
   "outputs": [],
   "source": [
    "struct Spud\n",
    "    name::String\n",
    "    h::Int64\n",
    "    f::Int64\n",
    "    l::Int64\n",
    "    p::Int64\n",
    "    r::Int64\n",
    "    s::Int64\n",
    "    a1::Int64\n",
    "end"
   ]
  },
  {
   "cell_type": "code",
   "execution_count": 3,
   "id": "eef1262d",
   "metadata": {},
   "outputs": [
    {
     "data": {
      "text/plain": [
       "Dict{Int64, Function} with 10 entries:\n",
       "  50  => fx_melodious\n",
       "  20  => fx_reciprocating\n",
       "  110 => fx_otaku\n",
       "  10  => fx_imitative\n",
       "  90  => fx_iconoclast\n",
       "  30  => fx_romantic\n",
       "  120 => fx_sincere\n",
       "  130 => fx_cowardly\n",
       "  40  => fx_bibliophile\n",
       "  100 => fx_intoxicating"
      ]
     },
     "execution_count": 3,
     "metadata": {},
     "output_type": "execute_result"
    }
   ],
   "source": [
    "const ability_none = 999\n",
    "const ability_imitative = 10\n",
    "const ability_reciprocating = 20\n",
    "const ability_romantic = 30\n",
    "const ability_bibliophile = 40\n",
    "const ability_melodious = 50\n",
    "const ability_iconoclast = 90\n",
    "const ability_intoxicating = 100\n",
    "const ability_otaku = 110\n",
    "const ability_sincere = 120\n",
    "const ability_cowardly = 130\n",
    "\n",
    "\n",
    "ability_name = Dict(\n",
    "    ability_imitative => \"Imitative*\",\n",
    "    ability_reciprocating => \"Reciprocating*\",\n",
    "    ability_romantic => \"Romantic*\",\n",
    "    ability_bibliophile => \"Bibliophile*\",\n",
    "    ability_melodious => \"Melodious*\",\n",
    "    ability_iconoclast => \"Iconoclast*\",\n",
    "    ability_intoxicating => \"Intoxicating*\",\n",
    "    ability_otaku => \"Otaku*\",\n",
    "    ability_sincere => \"Sincere*\",\n",
    "    ability_cowardly => \"Cowardly*\",\n",
    ")\n",
    "\n",
    "function fx_imitative(a::Spud, b::Spud)\n",
    "    if b.h > a.h\n",
    "        a = Spud(a.name, b.h, a.f, a.l, a.p, a.r, a.s, a.a1)\n",
    "    end\n",
    "    return [a, b]\n",
    "end\n",
    "\n",
    "function fx_reciprocating(a::Spud, b::Spud)\n",
    "    if b.f > a.f\n",
    "        a = Spud(a.name, a.h, b.f, a.l, a.p, a.r, a.s, a.a1)\n",
    "    end\n",
    "    return [a, b]\n",
    "end\n",
    "\n",
    "function fx_romantic(a::Spud, b::Spud)\n",
    "    if b.p > a.l\n",
    "        a = Spud(a.name, a.h, a.f, b.p, a.p, a.r, a.s, a.a1)\n",
    "    end\n",
    "    return [a, b]\n",
    "end\n",
    "\n",
    "function fx_bibliophile(a::Spud, b::Spud)\n",
    "    if b.r > a.l\n",
    "        a = Spud(a.name, a.h, a.f, b.r, a.p, a.r, a.s, a.a1)\n",
    "    end\n",
    "    return [a, b]\n",
    "end\n",
    "\n",
    "function fx_melodious(a::Spud, b::Spud)\n",
    "    if b.p > b.r && b.p > b.s\n",
    "        a = Spud(a.name, a.h, a.f, a.r, a.p + 3, a.r, a.s, a.a1)\n",
    "    end\n",
    "    return [a, b]\n",
    "end\n",
    "\n",
    "function fx_iconoclast(a::Spud, b::Spud)\n",
    "    v = sum([b.h,b.f,b.l,b.p,b.r,b.s] .== MXV)\n",
    "    if v >= 3\n",
    "        aa = [a.h, a.f, a.l, a.p, a.r, a.s]\n",
    "        aa2 = map(x -> div(x, 4), aa)\n",
    "        r = aa .+ aa2\n",
    "        a = Spud(a.name, r[1], r[2], r[3], r[4], r[5], r[6], a.a1)\n",
    "    end\n",
    "    return [a, b]\n",
    "end\n",
    "\n",
    "function fx_intoxicating(a::Spud, b::Spud)\n",
    "    b = Spud(b.name, b.h, b.f, b.l, b.p, b.r, b.f, b.a1)\n",
    "    return [a, b]\n",
    "end\n",
    "\n",
    "function fx_otaku(a::Spud, b::Spud)\n",
    "    b = Spud(b.name, b.h, b.f, b.l, b.p, b.h, b.s, b.a1)\n",
    "    return [a, b]\n",
    "end\n",
    "\n",
    "\n",
    "function fx_sincere(a::Spud, b::Spud)\n",
    "    b = Spud(b.name, b.h, b.f + 2, b.f + 2, b.p, b.r, b.s, b.a1)\n",
    "    return [a, b]\n",
    "end\n",
    "\n",
    "function fx_cowardly(a::Spud, b::Spud)\n",
    "    if (a.p < b.p) || (a.r < b.r) || (a.s < b.s)\n",
    "        a = Spud(a.name, a.h + 2, a.f - 2, a.l, a.p, a.r, a.s, a.a1)\n",
    "    end\n",
    "    return [a, b]\n",
    "end\n",
    "\n",
    "ability_fx = Dict(\n",
    "    ability_imitative => fx_imitative,\n",
    "    ability_reciprocating => fx_reciprocating,\n",
    "    ability_romantic => fx_romantic,\n",
    "    ability_bibliophile => fx_bibliophile,\n",
    "    ability_melodious => fx_melodious,\n",
    "    ability_iconoclast => fx_iconoclast,\n",
    "    ability_intoxicating => fx_intoxicating,\n",
    "    ability_otaku => fx_otaku,\n",
    "    ability_sincere => fx_sincere,\n",
    "    ability_cowardly => fx_cowardly,\n",
    ")"
   ]
  },
  {
   "cell_type": "code",
   "execution_count": 4,
   "id": "950e076e",
   "metadata": {},
   "outputs": [
    {
     "data": {
      "text/plain": [
       "1"
      ]
     },
     "execution_count": 4,
     "metadata": {},
     "output_type": "execute_result"
    }
   ],
   "source": [
    "#const MXS = 100\n",
    "const MXV = 9\n",
    "const MNV = 1\n",
    "\n",
    "# function cost(h::Int64, f::Int64, l::Int64, p::Int64, r::Int64, s::Int64)::Int64\n",
    "#     #return h*(f+l-2*MNV) + f*(p+r+s-3*MNV) + h+f+l+p+r+s-6*MNV\n",
    "#     return h*(f+l) + f*(p+r+s)\n",
    "# end\n",
    "\n",
    "# function cost(a::Spud)::Int64\n",
    "#     if a.a1 == ability_none\n",
    "#         return cost(a.h, a.f, a.l, a.p, a.r, a.s)\n",
    "#     else\n",
    "#         return cost(a.h, a.f, a.l, a.p, a.r, a.s) + ability_cost[a.a1](a)\n",
    "#     end\n",
    "# end"
   ]
  },
  {
   "cell_type": "code",
   "execution_count": 5,
   "id": "ac830f74",
   "metadata": {},
   "outputs": [
    {
     "data": {
      "text/plain": [
       "eval_melee (generic function with 3 methods)"
      ]
     },
     "execution_count": 5,
     "metadata": {},
     "output_type": "execute_result"
    }
   ],
   "source": [
    "function compare_int_list(as::Vector{Int64}, bs::Vector{Int64}, tiebreaker::Int64 = 0)::Int64\n",
    "    n = min(length(as), length(bs))\n",
    "    for i in 1:n\n",
    "        if as[i] != bs[i]\n",
    "            return sign(as[i] - bs[i])\n",
    "        end\n",
    "    end\n",
    "    return tiebreaker\n",
    "end\n",
    "\n",
    "function spud_h_seq(a::Spud)::Vector{Int64}\n",
    "    return [a.h, a.s, a.r, a.p, a.l, a.f]\n",
    "end\n",
    "\n",
    "function spud_f_seq(a::Spud)::Vector{Int64}\n",
    "    return [a.f, a.s, a.r, a.p, a.l, a.h]\n",
    "end\n",
    "\n",
    "function spud_l_seq(a::Spud)::Vector{Int64}\n",
    "    return [a.l]\n",
    "end\n",
    "\n",
    "function spud_p_seq(a::Spud)::Vector{Int64}\n",
    "    return [a.p, a.l]\n",
    "end\n",
    "\n",
    "function spud_r_seq(a::Spud)::Vector{Int64}\n",
    "    return [a.r, a.f]\n",
    "end\n",
    "\n",
    "function spud_s_seq(a::Spud)::Vector{Int64}\n",
    "    return [a.s, a.h]\n",
    "end\n",
    "\n",
    "function spud_utb_seq(a::Spud)::Vector{Int64}\n",
    "    return [a.a1, a.h, a.f, a.l, a.p, a.r, a.s]\n",
    "end\n",
    "\n",
    "function eval_finds(a::Spud, b::Spud, tiebreaker::Int64 = 0)::Int64\n",
    "    ev = compare_int_list(spud_f_seq(a), spud_h_seq(b), tiebreaker)\n",
    "    ans = ev\n",
    "end\n",
    "\n",
    "function eval_melee(a::Spud, b::Spud, tiebreaker1::Int64 = 0, tiebreaker2::Int64 = 0)::Int64\n",
    "    comp_p = compare_int_list(spud_p_seq(a), spud_p_seq(b), tiebreaker1)\n",
    "    comp_r = compare_int_list(spud_r_seq(a), spud_r_seq(b), tiebreaker1)\n",
    "    comp_s = compare_int_list(spud_s_seq(a), spud_s_seq(b), tiebreaker1)\n",
    "    ev = 4 * comp_p + 3 * comp_r + 2 * comp_s\n",
    "    return sign(ev + (1-abs(ev))*tiebreaker2)\n",
    "end\n",
    "\n"
   ]
  },
  {
   "cell_type": "code",
   "execution_count": 6,
   "id": "f603612d",
   "metadata": {},
   "outputs": [
    {
     "data": {
      "text/plain": [
       "eval_battle (generic function with 1 method)"
      ]
     },
     "execution_count": 6,
     "metadata": {},
     "output_type": "execute_result"
    }
   ],
   "source": [
    "\n",
    "\n",
    "function apply_ability(a::Spud, b::Spud)::Array{Spud}\n",
    "    if a.a1 == ability_none\n",
    "        return [a, b]\n",
    "    else\n",
    "        return ability_fx[a.a1](a, b)\n",
    "    end\n",
    "end\n",
    "\n",
    "\n",
    "function eval_battle(a::Spud, b::Spud)::Int64\n",
    "    utb = compare_int_list(spud_utb_seq(a), spud_utb_seq(b), 0) # universal tiebreaker\n",
    "    if utb == 0\n",
    "        return 0\n",
    "    end\n",
    "    a_ability_first = compare_int_list([a.a1, a.s], [b.a1, b.s], utb)\n",
    "    if a_ability_first ==1\n",
    "        if a.a1 != ability_none\n",
    "            res = apply_ability(a, b)\n",
    "            a = res[1]\n",
    "            b = res[2]\n",
    "        end\n",
    "        if b.a1 != ability_none\n",
    "            res = apply_ability(b, a)\n",
    "            b = res[1]\n",
    "            a = res[2]\n",
    "        end\n",
    "    end\n",
    "    if a_ability_first == -1\n",
    "        if b.a1 != ability_none\n",
    "            res = apply_ability(b, a)\n",
    "            b = res[1]\n",
    "            a = res[2]\n",
    "        end\n",
    "        if a.a1 != ability_none\n",
    "            res = apply_ability(a, b)\n",
    "            a = res[1]\n",
    "            b = res[2]\n",
    "        end\n",
    "    end\n",
    "    #println(a)\n",
    "    #println(b)\n",
    "    a_finds = eval_finds(a, b, utb)==1\n",
    "    b_finds = eval_finds(b, a, utb)==1\n",
    "    melee_win = eval_melee(a, b, 0, 0)\n",
    "    luck_win = compare_int_list([a.l, melee_win], [b.l, -melee_win], 0)\n",
    "    if melee_win ==1 && luck_win ==1\n",
    "        return 1\n",
    "    end\n",
    "    if melee_win == -1 && luck_win == -1\n",
    "        return -1\n",
    "    end\n",
    "    if a_finds && b_finds\n",
    "        return melee_win\n",
    "    end\n",
    "    if a_finds && !b_finds\n",
    "        return 1\n",
    "    end\n",
    "    if !a_finds && b_finds\n",
    "        return -1\n",
    "    end\n",
    "    if !a_finds && !b_finds\n",
    "        return luck_win\n",
    "    end\n",
    "end"
   ]
  },
  {
   "cell_type": "code",
   "execution_count": 7,
   "id": "40b9dc47",
   "metadata": {},
   "outputs": [
    {
     "data": {
      "text/plain": [
       "random_name_and_stat (generic function with 2 methods)"
      ]
     },
     "execution_count": 7,
     "metadata": {},
     "output_type": "execute_result"
    }
   ],
   "source": [
    "tab = CSV.read(\"census_yob2022_names.txt\", DataFrame, header = false)\n",
    "names = tab.Column1\n",
    "adjectives = CSV.read(\"adjectives.csv\", DataFrame)\n",
    "nouns = CSV.read(\"nouns.csv\", DataFrame)\n",
    "jobs = CSV.read(\"jobs.csv\", DataFrame)\n",
    "\n",
    "\n",
    "const mult_noun = 1\n",
    "const mult_adj = 2\n",
    "const mult_job = 3\n",
    "\n",
    "\n",
    "function random_name_and_stat(ability::Int64 = ability_none)::Spud\n",
    "    vp = [0, 0, 0, 0, 0, 0]\n",
    "    #nametype = rand([1,1,1,1,1,2,2,2,3])\n",
    "    name = \"\"\n",
    "    noun = \"\"\n",
    "    adj = \"\"\n",
    "    noun_i = rand(1:nrow(nouns))\n",
    "    noun = nouns[noun_i, :noun]\n",
    "    vp[1] = vp[1] + nouns[noun_i, :H] * mult_noun\n",
    "    vp[2] = vp[2] + nouns[noun_i, :F] * mult_noun\n",
    "    vp[3] = vp[3] + nouns[noun_i, :L] * mult_noun\n",
    "    vp[4] = vp[4] + nouns[noun_i, :P] * mult_noun\n",
    "    vp[5] = vp[5] + nouns[noun_i, :R] * mult_noun\n",
    "    vp[6] = vp[6] + nouns[noun_i, :S] * mult_noun\n",
    "    adj_i = rand(1:nrow(adjectives))\n",
    "    if ability == ability_none\n",
    "        adj = adjectives[adj_i, :adjective]\n",
    "        vp[1] = vp[1] + adjectives[adj_i, :H] * mult_adj\n",
    "        vp[2] = vp[2] + adjectives[adj_i, :F] * mult_adj\n",
    "        vp[3] = vp[3] + adjectives[adj_i, :L] * mult_adj\n",
    "        vp[4] = vp[4] + adjectives[adj_i, :P] * mult_adj\n",
    "        vp[5] = vp[5] + adjectives[adj_i, :R] * mult_adj\n",
    "        vp[6] = vp[6] + adjectives[adj_i, :S] * mult_adj\n",
    "    else\n",
    "        adj = ability_name[ability]\n",
    "    end\n",
    "    job_i = rand(1:nrow(jobs))\n",
    "    job = jobs[job_i, :job]\n",
    "    vp[1] = vp[1] + jobs[job_i, :H] * mult_job\n",
    "    vp[2] = vp[2] + jobs[job_i, :F] * mult_job\n",
    "    vp[3] = vp[3] + jobs[job_i, :L] * mult_job\n",
    "    vp[4] = vp[4] + jobs[job_i, :P] * mult_job\n",
    "    vp[5] = vp[5] + jobs[job_i, :R] * mult_job\n",
    "    vp[6] = vp[6] + jobs[job_i, :S] * mult_job\n",
    "    name = string(adj, \" \", job, \" \", noun)\n",
    "    Spud(name, vp[1], vp[2], vp[3], vp[4], vp[5], vp[6], ability_none)\n",
    "end"
   ]
  },
  {
   "cell_type": "code",
   "execution_count": 8,
   "id": "f606e085",
   "metadata": {},
   "outputs": [
    {
     "data": {
      "text/plain": [
       "rand_rename (generic function with 2 methods)"
      ]
     },
     "execution_count": 8,
     "metadata": {},
     "output_type": "execute_result"
    }
   ],
   "source": [
    "function rand_rename(a::Spud, n_tries::Int = 100)::Spud\n",
    "    best_score = 0.0\n",
    "    best_b = random_name_and_stat(a.a1)\n",
    "    for ii in 1:n_tries\n",
    "        b = random_name_and_stat(a.a1)\n",
    "        b_norm = sqrt(b.h^2 + b.f^2 + b.l^2 + b.p^2 + b.r^2 + b.s^2)\n",
    "        score = (a.h * b.h + a.f * b.f + a.l * b.l + a.p * b.p + a.r * b.r + a.s * b.s)/b_norm\n",
    "        if score > best_score\n",
    "            best_score = score\n",
    "            best_b = b\n",
    "        end\n",
    "    end\n",
    "    return Spud(best_b.name, a.h, a.f, a.l, a.p, a.r, a.s, a.a1)\n",
    "end"
   ]
  },
  {
   "cell_type": "code",
   "execution_count": 9,
   "id": "560e9539",
   "metadata": {},
   "outputs": [
    {
     "data": {
      "text/plain": [
       "df_to_spuds (generic function with 1 method)"
      ]
     },
     "execution_count": 9,
     "metadata": {},
     "output_type": "execute_result"
    }
   ],
   "source": [
    "function eval_battle_list(a::Spud, bs::Array{Spud})::Int\n",
    "    score = 0\n",
    "    for ii in 1:length(bs)\n",
    "        score = score + eval_battle(a, bs[ii])\n",
    "    end\n",
    "    return score\n",
    "end\n",
    "\n",
    "function eval_battle_list2(a::Spud, bs::Array{Spud}, w::Vector{Float64})::AbstractFloat\n",
    "    score = 0.0\n",
    "    for ii in 1:length(bs)\n",
    "        score = score + w[ii] * eval_battle(a, bs[ii])\n",
    "    end\n",
    "    return score\n",
    "end\n",
    "\n",
    "function spuds_to_df(as::Array{Spud})::DataFrame\n",
    "    names = Array{String}(undef, length(as))\n",
    "    hs = Array{Int}(undef, length(as))\n",
    "    fs = Array{Int}(undef, length(as))\n",
    "    ls = Array{Int}(undef, length(as))\n",
    "    ps = Array{Int}(undef, length(as))\n",
    "    rs = Array{Int}(undef, length(as))\n",
    "    ss = Array{Int}(undef, length(as))\n",
    "    a1s = Array{Int}(undef, length(as))\n",
    "    for ii in 1:length(as)\n",
    "        names[ii] = as[ii].name\n",
    "        hs[ii] = as[ii].h\n",
    "        fs[ii] = as[ii].f\n",
    "        ls[ii] = as[ii].l\n",
    "        ps[ii] = as[ii].p\n",
    "        rs[ii] = as[ii].r\n",
    "        ss[ii] = as[ii].s\n",
    "        a1s[ii] = as[ii].a1\n",
    "    end\n",
    "    df = DataFrame(name = names, h = hs, f = fs, l = ls, p = ps, r = rs, s = ss, a1 = a1s)\n",
    "    return df\n",
    "end\n",
    "\n",
    "function fpart(x::AbstractFloat)::AbstractFloat\n",
    "  return x - trunc(x)\n",
    "end\n",
    "\n",
    "# for legacy dfs without abilities\n",
    "function df_to_spuds0(df::DataFrame)::Array{Spud}\n",
    "    n = size(df)[1]\n",
    "    as = Array{Spud}(undef, n)\n",
    "    for i in 1:n\n",
    "        as[i] = Spud(df[i, :name], df[i, :h], df[i, :f], df[i, :l], df[i, :p], df[i, :r], df[i, :s], ability_none)\n",
    "    end\n",
    "    return as\n",
    "end\n",
    "\n",
    "function df_to_spuds(df::DataFrame)::Array{Spud}\n",
    "    n = size(df)[1]\n",
    "    as = Array{Spud}(undef, n)\n",
    "    for i in 1:n\n",
    "        as[i] = Spud(df[i, :name], df[i, :h], df[i, :f], df[i, :l], df[i, :p], df[i, :r], df[i, :s], df[i, :a1])\n",
    "    end\n",
    "    return as\n",
    "end\n",
    "\n"
   ]
  },
  {
   "cell_type": "markdown",
   "id": "66e71132",
   "metadata": {},
   "source": [
    "## Get spuds with cost 10 and filter nondominated"
   ]
  },
  {
   "cell_type": "code",
   "execution_count": 10,
   "id": "638f1e65",
   "metadata": {},
   "outputs": [
    {
     "data": {
      "text/plain": [
       "get_library (generic function with 2 methods)"
      ]
     },
     "execution_count": 10,
     "metadata": {},
     "output_type": "execute_result"
    }
   ],
   "source": [
    "function get_library(cost, n_init = 10000)\n",
    "    ffs = Array{Spud}(undef, n_init)\n",
    "    ff_i = 0\n",
    "    hrange = MNV:MXV\n",
    "    frange = MNV:MXV\n",
    "    lrange = MNV:MXV\n",
    "    prange = MNV:MXV\n",
    "    rrange = MNV:MXV\n",
    "    srange = MNV:MXV\n",
    "    for h in hrange\n",
    "        for f in frange\n",
    "            for l in lrange\n",
    "                for p in prange\n",
    "                    for r in rrange\n",
    "                        for s in srange\n",
    "                            if (h+f+l+p+r+s == cost)\n",
    "                                ff = Spud(\"\", h,f,l,p,r,s,999)\n",
    "                                ff_i += 1\n",
    "                                ffs[ff_i] = ff\n",
    "                            end\n",
    "                        end\n",
    "                    end                        \n",
    "                end                        \n",
    "            end\n",
    "        end\n",
    "    end\n",
    "    ffs = ffs[1:ff_i]\n",
    "    return unique(ffs)\n",
    "end"
   ]
  },
  {
   "cell_type": "code",
   "execution_count": 11,
   "id": "64d0dd3e",
   "metadata": {},
   "outputs": [
    {
     "data": {
      "text/plain": [
       "126-element Vector{Spud}:\n",
       " Spud(\"\", 1, 1, 1, 1, 1, 5, 999)\n",
       " Spud(\"\", 1, 1, 1, 1, 2, 4, 999)\n",
       " Spud(\"\", 1, 1, 1, 1, 3, 3, 999)\n",
       " Spud(\"\", 1, 1, 1, 1, 4, 2, 999)\n",
       " Spud(\"\", 1, 1, 1, 1, 5, 1, 999)\n",
       " Spud(\"\", 1, 1, 1, 2, 1, 4, 999)\n",
       " Spud(\"\", 1, 1, 1, 2, 2, 3, 999)\n",
       " Spud(\"\", 1, 1, 1, 2, 3, 2, 999)\n",
       " Spud(\"\", 1, 1, 1, 2, 4, 1, 999)\n",
       " Spud(\"\", 1, 1, 1, 3, 1, 3, 999)\n",
       " Spud(\"\", 1, 1, 1, 3, 2, 2, 999)\n",
       " Spud(\"\", 1, 1, 1, 3, 3, 1, 999)\n",
       " Spud(\"\", 1, 1, 1, 4, 1, 2, 999)\n",
       " ⋮\n",
       " Spud(\"\", 3, 1, 3, 1, 1, 1, 999)\n",
       " Spud(\"\", 3, 2, 1, 1, 1, 2, 999)\n",
       " Spud(\"\", 3, 2, 1, 1, 2, 1, 999)\n",
       " Spud(\"\", 3, 2, 1, 2, 1, 1, 999)\n",
       " Spud(\"\", 3, 2, 2, 1, 1, 1, 999)\n",
       " Spud(\"\", 3, 3, 1, 1, 1, 1, 999)\n",
       " Spud(\"\", 4, 1, 1, 1, 1, 2, 999)\n",
       " Spud(\"\", 4, 1, 1, 1, 2, 1, 999)\n",
       " Spud(\"\", 4, 1, 1, 2, 1, 1, 999)\n",
       " Spud(\"\", 4, 1, 2, 1, 1, 1, 999)\n",
       " Spud(\"\", 4, 2, 1, 1, 1, 1, 999)\n",
       " Spud(\"\", 5, 1, 1, 1, 1, 1, 999)"
      ]
     },
     "execution_count": 11,
     "metadata": {},
     "output_type": "execute_result"
    }
   ],
   "source": [
    "lib0 = get_library(10)\n",
    "lib0"
   ]
  },
  {
   "cell_type": "code",
   "execution_count": 12,
   "id": "6be20a55",
   "metadata": {},
   "outputs": [
    {
     "data": {
      "text/plain": [
       "get_payoffs (generic function with 1 method)"
      ]
     },
     "execution_count": 12,
     "metadata": {},
     "output_type": "execute_result"
    }
   ],
   "source": [
    "function get_payoffs(env::Array{Spud})::Array{Int64}\n",
    "    n_nash = length(env)\n",
    "    payoffs = Array{Int64}(undef, (n_nash, n_nash))\n",
    "    for i in 1:n_nash\n",
    "        for j in 1:n_nash\n",
    "            payoffs[i, j] = eval_battle(env[i], env[j])\n",
    "        end\n",
    "    end\n",
    "    return payoffs\n",
    "end"
   ]
  },
  {
   "cell_type": "code",
   "execution_count": 13,
   "id": "af79e6db",
   "metadata": {},
   "outputs": [
    {
     "data": {
      "text/plain": [
       "filter_nondominated2 (generic function with 1 method)"
      ]
     },
     "execution_count": 13,
     "metadata": {},
     "output_type": "execute_result"
    }
   ],
   "source": [
    "function filter_nondominated2(as::Array{Spud})::Array{Spud}\n",
    "    mat = get_payoffs(as);\n",
    "    isDominated = zeros(Int64, length(as));\n",
    "    for i in 1:length(as)\n",
    "        v = mat[i, :]\n",
    "        bv = ones(Int64, length(as))\n",
    "        for j in 1:length(as)\n",
    "            bv = bv .* (mat[:, j] .>= v[j])\n",
    "        end\n",
    "        if sum(bv) > 1\n",
    "            isDominated[i] = 1\n",
    "        end\n",
    "    end\n",
    "    return as[isDominated .== 0]\n",
    "end"
   ]
  },
  {
   "cell_type": "code",
   "execution_count": 14,
   "id": "55a8029c",
   "metadata": {},
   "outputs": [
    {
     "name": "stdout",
     "output_type": "stream",
     "text": [
      " 111124 111133 111142 111214 111223 111232 111241 111313 111322 111331 111412 111421 111511 112114 112123 112132 112141 112213 112222 112231 112312 112321 112411 113113 113122 113131 113212 113221 113311 114112 114121 114211 121114 121123 121132 121213 121222 121231 121312 121321 121411 122113 122122 122212 122221 122311 123112 123211 131113 131122 131212 131221 131311 132112 132211 141112 141211 212113 212122 212131 212212 212221 212311 213112 213121 213211 214111 222112 222211 312112 312121 312211 313111 412111"
     ]
    }
   ],
   "source": [
    "lib=filter_nondominated2(lib0)\n",
    "for ff in lib\n",
    "    print(\" \")\n",
    "    print(100000 * ff.h + 10000 * ff.f + 1000 * ff.l + 100 * ff.p + 10 * ff.r + ff.s)\n",
    "end"
   ]
  },
  {
   "cell_type": "code",
   "execution_count": 15,
   "id": "7693aec2",
   "metadata": {},
   "outputs": [
    {
     "data": {
      "text/plain": [
       "74×74 Matrix{Int64}:\n",
       "  0  -1  -1  -1  -1  -1  -1   1  -1  …  -1  -1  -1  -1  -1  -1  -1  -1  -1\n",
       "  1   0  -1  -1  -1  -1  -1  -1   1     -1  -1  -1  -1  -1  -1  -1  -1  -1\n",
       "  1   1   0  -1  -1  -1  -1  -1  -1     -1  -1  -1  -1  -1  -1  -1  -1  -1\n",
       "  1   1   1   0  -1  -1  -1  -1  -1     -1  -1  -1  -1  -1  -1  -1  -1  -1\n",
       "  1   1   1   1   0  -1  -1  -1  -1     -1  -1  -1  -1  -1  -1  -1  -1  -1\n",
       "  1   1   1   1   1   0  -1  -1  -1  …  -1  -1  -1  -1  -1  -1  -1  -1  -1\n",
       "  1   1   1   1   1   1   0  -1  -1     -1  -1  -1  -1  -1  -1  -1  -1  -1\n",
       " -1   1   1   1   1   1   1   0  -1     -1  -1  -1  -1  -1  -1  -1  -1  -1\n",
       "  1  -1   1   1   1   1   1   1   0     -1  -1  -1  -1  -1  -1  -1  -1  -1\n",
       "  1   1  -1   1   1   1   1   1   1     -1  -1  -1  -1  -1  -1  -1  -1  -1\n",
       " -1  -1   1   1  -1   1   1   1   1  …  -1  -1  -1  -1  -1  -1  -1  -1  -1\n",
       "  1  -1  -1   1   1  -1   1   1   1     -1  -1  -1  -1  -1  -1  -1  -1  -1\n",
       " -1  -1  -1   1  -1  -1   1   1  -1     -1  -1  -1  -1  -1  -1  -1  -1  -1\n",
       "  ⋮                   ⋮              ⋱   ⋮                   ⋮          \n",
       "  1   1   1   1   1   1   1   1   1     -1  -1  -1   1   1  -1   1  -1   1\n",
       "  1   1   1   1   1   1   1   1   1     -1  -1   1   1   1   1   1   1   1\n",
       "  1   1   1   1   1   1   1   1   1     -1  -1   1   1   1   1   1   1   1\n",
       "  1   1   1   1   1   1   1   1   1  …   0  -1  -1   1   1   1   1   1   1\n",
       "  1   1   1   1   1   1   1   1   1      1   0  -1  -1   1   1   1   1   1\n",
       "  1   1   1   1   1   1   1   1   1      1   1   0  -1   1  -1   1  -1   1\n",
       "  1   1   1   1   1   1   1   1   1     -1   1   1   0   1  -1   1  -1   1\n",
       "  1   1   1   1   1   1   1   1   1     -1  -1  -1  -1   0  -1  -1  -1   1\n",
       "  1   1   1   1   1   1   1   1   1  …  -1  -1   1   1   1   0  -1  -1   1\n",
       "  1   1   1   1   1   1   1   1   1     -1  -1  -1  -1   1   1   0  -1   1\n",
       "  1   1   1   1   1   1   1   1   1     -1  -1   1   1   1   1   1   0   1\n",
       "  1   1   1   1   1   1   1   1   1     -1  -1  -1  -1  -1  -1  -1  -1   0"
      ]
     },
     "execution_count": 15,
     "metadata": {},
     "output_type": "execute_result"
    }
   ],
   "source": [
    "payoffs = get_payoffs(lib)"
   ]
  },
  {
   "cell_type": "code",
   "execution_count": 139,
   "id": "db3ccd86",
   "metadata": {},
   "outputs": [],
   "source": [
    "s2ind = Dict(lib[i] => i for i in 1:length(lib));"
   ]
  },
  {
   "cell_type": "code",
   "execution_count": 69,
   "id": "0e426ff9",
   "metadata": {},
   "outputs": [
    {
     "data": {
      "text/plain": [
       "5"
      ]
     },
     "execution_count": 69,
     "metadata": {},
     "output_type": "execute_result"
    }
   ],
   "source": [
    "s2ind[lib[5]]"
   ]
  },
  {
   "cell_type": "markdown",
   "id": "084c92e5",
   "metadata": {},
   "source": [
    "## Battle code"
   ]
  },
  {
   "cell_type": "code",
   "execution_count": 152,
   "id": "d8584105",
   "metadata": {},
   "outputs": [],
   "source": [
    "mutable struct BattleView\n",
    "    round::Int64\n",
    "    score::Int64\n",
    "    own::Array{Spud}\n",
    "    obs::Array{Spud}\n",
    "end\n",
    "\n",
    "mutable struct AiPlayer\n",
    "    create::Function\n",
    "end"
   ]
  },
  {
   "cell_type": "code",
   "execution_count": 153,
   "id": "78118c6b",
   "metadata": {},
   "outputs": [
    {
     "data": {
      "text/plain": [
       "2-element Vector{BattleView}:\n",
       " BattleView(0, 0, Spud[], Spud[])\n",
       " BattleView(0, 0, Spud[], Spud[])"
      ]
     },
     "execution_count": 153,
     "metadata": {},
     "output_type": "execute_result"
    }
   ],
   "source": [
    "function initialize_game()::Array{BattleView}\n",
    "    bvs = [BattleView(0,0, [], []), BattleView(0,0, [], [])]\n",
    "    return bvs\n",
    "end\n",
    "\n",
    "initialize_game()"
   ]
  },
  {
   "cell_type": "code",
   "execution_count": 154,
   "id": "f76f3950",
   "metadata": {},
   "outputs": [
    {
     "data": {
      "text/plain": [
       "0"
      ]
     },
     "execution_count": 154,
     "metadata": {},
     "output_type": "execute_result"
    }
   ],
   "source": [
    "mod(2, 2)"
   ]
  },
  {
   "cell_type": "code",
   "execution_count": 155,
   "id": "3e86e309",
   "metadata": {},
   "outputs": [
    {
     "data": {
      "text/plain": [
       "Spud(\"\", 4, 1, 2, 1, 1, 1, 999)"
      ]
     },
     "execution_count": 155,
     "metadata": {},
     "output_type": "execute_result"
    }
   ],
   "source": [
    "lib[end]"
   ]
  },
  {
   "cell_type": "code",
   "execution_count": 156,
   "id": "12527bc9",
   "metadata": {},
   "outputs": [
    {
     "data": {
      "text/plain": [
       "spud_to_str (generic function with 1 method)"
      ]
     },
     "execution_count": 156,
     "metadata": {},
     "output_type": "execute_result"
    }
   ],
   "source": [
    "function spud_to_str(ff::Spud)::String\n",
    "    return string(100000 * ff.h + 10000 * ff.f + 1000 * ff.l + 100 * ff.p + 10 * ff.r + ff.s)\n",
    "end"
   ]
  },
  {
   "cell_type": "code",
   "execution_count": 157,
   "id": "46aa3a07",
   "metadata": {},
   "outputs": [
    {
     "data": {
      "text/plain": [
       "eval_beat_n (generic function with 1 method)"
      ]
     },
     "execution_count": 157,
     "metadata": {},
     "output_type": "execute_result"
    }
   ],
   "source": [
    "function eval_beat_n(ff::Spud, opps::Array{Spud})::Int64\n",
    "    flag = true\n",
    "    count = 0\n",
    "    while flag && count < length(opps)\n",
    "        b = opps[end - count]\n",
    "        if eval_battle(ff, b) == 1\n",
    "            count += 1\n",
    "        else\n",
    "            flag = false\n",
    "        end\n",
    "    end\n",
    "    return count\n",
    "end"
   ]
  },
  {
   "cell_type": "code",
   "execution_count": 158,
   "id": "8d21fbc5",
   "metadata": {},
   "outputs": [
    {
     "data": {
      "text/plain": [
       "play_combat (generic function with 2 methods)"
      ]
     },
     "execution_count": 158,
     "metadata": {},
     "output_type": "execute_result"
    }
   ],
   "source": [
    "# occurs after spud creation\n",
    "function play_combat(game::Array{BattleView}, verbose::Bool = false)::Array{BattleView}\n",
    "    round = game[1].round\n",
    "    if mod(round, 2)==1\n",
    "        ff = game[1].own[end]\n",
    "        opps = game[2].own\n",
    "    else\n",
    "        ff = game[2].own[end]\n",
    "        opps = game[1].own\n",
    "    end\n",
    "    count = eval_beat_n(ff, opps)\n",
    "    if verbose\n",
    "        print(spud_to_str(ff))\n",
    "        print(\" beats \")\n",
    "        println([spud_to_str(b) for b in opps[(end-count+1):end]])\n",
    "    end\n",
    "    if mod(round, 2)==1\n",
    "        game[1].score = count\n",
    "    else\n",
    "        game[2].score = count\n",
    "    end\n",
    "    return game\n",
    "end"
   ]
  },
  {
   "cell_type": "code",
   "execution_count": 159,
   "id": "5db17bb8",
   "metadata": {},
   "outputs": [
    {
     "data": {
      "text/plain": [
       "play_add_spud (generic function with 2 methods)"
      ]
     },
     "execution_count": 159,
     "metadata": {},
     "output_type": "execute_result"
    }
   ],
   "source": [
    "function play_add_spud(game::Array{BattleView}, player::Int64, ff::Spud, verbose::Bool = false)::Array{BattleView}\n",
    "    round = game[1].round + 1\n",
    "    game[1].round = round\n",
    "    game[2].round = round\n",
    "    game[player].own = append!(game[player].own, [ff])\n",
    "    game[3-player].obs = game[player].own\n",
    "    if verbose\n",
    "        print(\"Round \")\n",
    "        println(round)\n",
    "        print(\"Score to match or beat: \")\n",
    "        println(max(game[1].score, game[2].score))\n",
    "        print(\"Player \")\n",
    "        print(player)\n",
    "        print(\" adds #\")\n",
    "        print([\"A\", \"B\"][player])\n",
    "        print(length(game[player].own))\n",
    "        print(\" \")\n",
    "        println(spud_to_str(ff))\n",
    "    end\n",
    "    return game\n",
    "end\n",
    "\n"
   ]
  },
  {
   "cell_type": "code",
   "execution_count": 160,
   "id": "1e4f8c0e",
   "metadata": {},
   "outputs": [],
   "source": [
    "# opps = lib[[5,4,3,2,1]]\n",
    "# ff = lib[3]\n",
    "# opps"
   ]
  },
  {
   "cell_type": "code",
   "execution_count": 161,
   "id": "b50bb1f9",
   "metadata": {},
   "outputs": [],
   "source": [
    "# ff"
   ]
  },
  {
   "cell_type": "code",
   "execution_count": 162,
   "id": "2f9209d4",
   "metadata": {},
   "outputs": [],
   "source": [
    "# team_a = lib[9:11]\n",
    "# team_b = lib[[1,10]]\n",
    "# game = [BattleView(5, 2, team_a, team_b), BattleView(5, 2, team_b, team_a)]"
   ]
  },
  {
   "cell_type": "code",
   "execution_count": 163,
   "id": "315b3c5f",
   "metadata": {},
   "outputs": [],
   "source": [
    "# team_a"
   ]
  },
  {
   "cell_type": "code",
   "execution_count": 164,
   "id": "ed3fe505",
   "metadata": {},
   "outputs": [],
   "source": [
    "# team_b"
   ]
  },
  {
   "cell_type": "code",
   "execution_count": 165,
   "id": "c4e35bb4",
   "metadata": {},
   "outputs": [],
   "source": [
    "# play_combat(game, true)"
   ]
  },
  {
   "cell_type": "code",
   "execution_count": 166,
   "id": "4b913bd1",
   "metadata": {},
   "outputs": [],
   "source": [
    "# play_add_spud(game, 2, lib[20], true)"
   ]
  },
  {
   "cell_type": "code",
   "execution_count": 167,
   "id": "88e6b533",
   "metadata": {},
   "outputs": [],
   "source": [
    "# play_combat(game, true)"
   ]
  },
  {
   "cell_type": "code",
   "execution_count": 168,
   "id": "a73d1c4d",
   "metadata": {},
   "outputs": [],
   "source": [
    "# play_add_spud(game, 1, lib[19], true)"
   ]
  },
  {
   "cell_type": "code",
   "execution_count": 169,
   "id": "7c58b70d",
   "metadata": {},
   "outputs": [],
   "source": [
    "# play_combat(game, true)"
   ]
  },
  {
   "cell_type": "code",
   "execution_count": 170,
   "id": "ccf44741",
   "metadata": {},
   "outputs": [
    {
     "data": {
      "text/plain": [
       "play_is_game_over (generic function with 1 method)"
      ]
     },
     "execution_count": 170,
     "metadata": {},
     "output_type": "execute_result"
    }
   ],
   "source": [
    "\n",
    "\n",
    "function play_is_game_over(game::Array{BattleView})::Bool\n",
    "    round = game[1].round\n",
    "    if mod(round, 2)==1\n",
    "        if game[1].score < game[2].score\n",
    "            return true\n",
    "        end\n",
    "    else\n",
    "        if game[2].score < game[1].score\n",
    "            return true\n",
    "        end        \n",
    "    end\n",
    "    return false\n",
    "end"
   ]
  },
  {
   "cell_type": "code",
   "execution_count": 283,
   "id": "422b6c08",
   "metadata": {},
   "outputs": [
    {
     "data": {
      "text/plain": [
       "beatn_counts (generic function with 6 methods)"
      ]
     },
     "execution_count": 283,
     "metadata": {},
     "output_type": "execute_result"
    }
   ],
   "source": [
    "function beatn_counts(payoffs::Array{Int64}, s2ind::Dict{Spud, Int64}, as::Array{Spud}, n::Int64 = 8)::Array{Int64}\n",
    "    ainds = [s2ind[a] for a in as]\n",
    "    bv = zeros(Int64, length(lib))\n",
    "    counts = zeros(Int64, n)\n",
    "    for i in 1:min(length(as), n)\n",
    "        row = payoffs[ainds[end - i + 1], :]\n",
    "        bv[row .== -1 .&& bv .== (i-1)] .= i\n",
    "        counts[i] = sum(bv .== i)\n",
    "    end\n",
    "    return counts\n",
    "end"
   ]
  },
  {
   "cell_type": "code",
   "execution_count": 284,
   "id": "d8cd41b8",
   "metadata": {},
   "outputs": [],
   "source": [
    "# as = [rand(lib) for i in 1:3]\n",
    "# as"
   ]
  },
  {
   "cell_type": "code",
   "execution_count": 285,
   "id": "0223c13d",
   "metadata": {},
   "outputs": [],
   "source": [
    "# beatn_counts(payoffs, s2ind, as)"
   ]
  },
  {
   "cell_type": "code",
   "execution_count": 286,
   "id": "dcd3f262",
   "metadata": {},
   "outputs": [],
   "source": [
    "# lib[findall([eval_battle_list(ff, as) for ff in lib] .== 3)]"
   ]
  },
  {
   "cell_type": "code",
   "execution_count": 287,
   "id": "bc55d182",
   "metadata": {},
   "outputs": [
    {
     "data": {
      "text/plain": [
       "ai1_create (generic function with 2 methods)"
      ]
     },
     "execution_count": 287,
     "metadata": {},
     "output_type": "execute_result"
    }
   ],
   "source": [
    "function ai0_create(a::BattleView, lib::Array{Spud})::Spud\n",
    "    return rand(lib)\n",
    "end\n",
    "\n",
    "function highest_beat_n(ops::Array{Spud}, lib::Array{Spud})::Array{Spud}\n",
    "    ebs = [eval_beat_n(ff, ops) for ff in lib]\n",
    "    cands = lib[ebs .== maximum(ebs)]\n",
    "    return cands\n",
    "end\n",
    "\n",
    "# aggressive play\n",
    "function ai1_create(a::BattleView, lib::Array{Spud})::Spud\n",
    "    ops = a.obs\n",
    "    cands = highest_beat_n(ops, lib)\n",
    "    return rand(cands)\n",
    "end\n"
   ]
  },
  {
   "cell_type": "code",
   "execution_count": 288,
   "id": "bfc040ff",
   "metadata": {},
   "outputs": [
    {
     "data": {
      "text/plain": [
       "ai2_create (generic function with 3 methods)"
      ]
     },
     "execution_count": 288,
     "metadata": {},
     "output_type": "execute_result"
    }
   ],
   "source": [
    "# defensive play\n",
    "function ai2_create(a::BattleView, \n",
    "        lib::Array{Spud}, payoffs::Array{Int64}, s2ind::Dict{Spud, Int64}, \n",
    "        aggro::Bool = false)::Spud\n",
    "    ops = a.obs\n",
    "    as = a.own\n",
    "    if length(ops) == 0\n",
    "        sp = [sum(payoffs[i, :]) for i in 1:length(lib)]\n",
    "        cands = lib[sp .== maximum(sp)]\n",
    "        return rand(cands)\n",
    "    end\n",
    "    to_beat = eval_beat_n(ops[end], a.own)\n",
    "    scores = [eval_beat_n(ff, ops) for ff in lib]\n",
    "    if aggro\n",
    "        cands = lib[findall(scores .== maximum(scores))]\n",
    "    else\n",
    "        cands = lib[findall(scores .>= to_beat)]\n",
    "    end\n",
    "    if length(cands) == 0\n",
    "        cands = lib[findall(scores .== maximum(scores))]\n",
    "    end\n",
    "    bscores = zeros(Float64, length(cands))    \n",
    "    for i in 1:length(cands)\n",
    "        ff = cands[i]\n",
    "        a2s = copy(as)\n",
    "        append!(a2s, [ff])\n",
    "        bc = beatn_counts(payoffs, s2ind, a2s)\n",
    "        nb = sum(bc .> 0)\n",
    "        if nb == 0\n",
    "            bscores[i] = 0\n",
    "        else\n",
    "            bscores[i] = nb + (bc[nb] - 1)/length(lib)\n",
    "        end\n",
    "    end\n",
    "    fcands = cands[bscores .== minimum(bscores)]\n",
    "    scores = [eval_beat_n(ff, ops) for ff in fcands]\n",
    "    fcands2 = fcands[scores .== maximum(scores)]\n",
    "    return rand(fcands2)\n",
    "end\n"
   ]
  },
  {
   "cell_type": "code",
   "execution_count": 289,
   "id": "b9bca097",
   "metadata": {},
   "outputs": [
    {
     "data": {
      "text/plain": [
       "player_create (generic function with 1 method)"
      ]
     },
     "execution_count": 289,
     "metadata": {},
     "output_type": "execute_result"
    }
   ],
   "source": [
    "function input_spud()::Spud\n",
    "    s = readline()\n",
    "    return stats_to_spud(s)\n",
    "end\n",
    "\n",
    "function stats_to_spud(s::String)::Spud\n",
    "    v = Array{Int64}(undef, 6)\n",
    "    for i in 1:6\n",
    "        v[i] = convert(Int64, s[i]) - 48\n",
    "    end\n",
    "    return Spud(\"\", v[1], v[2], v[3], v[4], v[5], v[6], 999)\n",
    "end\n",
    "\n",
    "function player_create(a::BattleView)::Spud\n",
    "    return input_spud()\n",
    "end"
   ]
  },
  {
   "cell_type": "code",
   "execution_count": 290,
   "id": "c30acb93",
   "metadata": {},
   "outputs": [
    {
     "data": {
      "text/plain": [
       "play_game (generic function with 2 methods)"
      ]
     },
     "execution_count": 290,
     "metadata": {},
     "output_type": "execute_result"
    }
   ],
   "source": [
    "function play_game(players::Array{AiPlayer}, verbose::Bool = true)::Int64\n",
    "    ai1 = players[1]\n",
    "    ai2 = players[2]\n",
    "    ais = players\n",
    "    game = initialize_game()\n",
    "    while !play_is_game_over(game)\n",
    "        # play a round\n",
    "        round = game[1].round\n",
    "        if mod(round, 2)==0\n",
    "            ff = ais[1].create(game[1])\n",
    "            game = play_add_spud(game, 1, ff, verbose)\n",
    "        else\n",
    "            ff = ais[2].create(game[2])\n",
    "            game = play_add_spud(game, 2, ff, verbose)\n",
    "        end\n",
    "        if round > 0\n",
    "            game = play_combat(game, verbose)\n",
    "        else\n",
    "            if verbose\n",
    "                println(\"First round: no combat.\")\n",
    "            end\n",
    "        end\n",
    "    end\n",
    "    if verbose\n",
    "        println(\"Game history:\")\n",
    "        for i in 1:length(game[1].own)\n",
    "            print(spud_to_str(game[1].own[i]))\n",
    "            print(\" \")\n",
    "            if i <= length(game[2].own)\n",
    "                println(spud_to_str(game[2].own[i]))\n",
    "            end\n",
    "        end\n",
    "    end\n",
    "    if game[1].score > game[2].score\n",
    "        return 1\n",
    "    else\n",
    "        return -1\n",
    "    end\n",
    "end"
   ]
  },
  {
   "cell_type": "code",
   "execution_count": 291,
   "id": "3e8b74b8",
   "metadata": {},
   "outputs": [
    {
     "data": {
      "text/plain": [
       "play_game_n (generic function with 1 method)"
      ]
     },
     "execution_count": 291,
     "metadata": {},
     "output_type": "execute_result"
    }
   ],
   "source": [
    "function play_game_n(players::Array{AiPlayer}, n::Int64)\n",
    "    verbose = true\n",
    "    ai1 = players[1]\n",
    "    ai2 = players[2]\n",
    "    ais = players\n",
    "    game = initialize_game()\n",
    "    for i in 1:n\n",
    "        # play a round\n",
    "        round = game[1].round\n",
    "        if mod(round, 2)==0\n",
    "            ff = ais[1].create(game[1])\n",
    "            game = play_add_spud(game, 1, ff, verbose)\n",
    "        else\n",
    "            ff = ais[2].create(game[2])\n",
    "            game = play_add_spud(game, 2, ff, verbose)\n",
    "        end\n",
    "        if round > 0\n",
    "            game = play_combat(game, verbose)\n",
    "        else\n",
    "            println(\"First round: no combat.\")\n",
    "        end\n",
    "    end\n",
    "    if verbose\n",
    "        println(\"Game history:\")\n",
    "        for i in 1:length(game[1].own)\n",
    "            print(spud_to_str(game[1].own[i]))\n",
    "            print(\" \")\n",
    "            if i <= length(game[2].own)\n",
    "                println(spud_to_str(game[2].own[i]))\n",
    "            end\n",
    "        end\n",
    "    end\n",
    "end"
   ]
  },
  {
   "cell_type": "code",
   "execution_count": 292,
   "id": "331f1d53",
   "metadata": {
    "scrolled": false
   },
   "outputs": [
    {
     "name": "stdout",
     "output_type": "stream",
     "text": [
      "Round 1\n",
      "Score to match or beat: 0\n",
      "Player 1 adds #A1 112222\n",
      "First round: no combat.\n",
      "Round 2\n",
      "Score to match or beat: 0\n",
      "Player 2 adds #B1 112312\n",
      "112312 beats [\"112222\"]\n",
      "Round 3\n",
      "Score to match or beat: 1\n",
      "Player 1 adds #A2 113122\n",
      "113122 beats [\"112312\"]\n",
      "Round 4\n",
      "Score to match or beat: 1\n",
      "Player 2 adds #B2 111313\n",
      "111313 beats [\"112222\", \"113122\"]\n",
      "Round 5\n",
      "Score to match or beat: 2\n",
      "Player 1 adds #A3 111412\n",
      "111412 beats [\"112312\", \"111313\"]\n",
      "Round 6\n",
      "Score to match or beat: 2\n",
      "Player 2 adds #B3 214111\n",
      "214111 beats [\"112222\", \"113122\", \"111412\"]\n",
      "Round 7\n",
      "Score to match or beat: 3\n",
      "Player 1 adds #A4 222112\n",
      "222112 beats [\"112312\", \"111313\", \"214111\"]\n",
      "Round 8\n",
      "Score to match or beat: 3\n",
      "Player 2 adds #B4 121123\n",
      "121123 beats [\"112222\", \"113122\", \"111412\", \"222112\"]\n",
      "Round 9\n",
      "Score to match or beat: 4\n",
      "Player 1 adds #A5 121321\n",
      "121321 beats [\"111313\", \"214111\", \"121123\"]\n",
      "Game history:\n",
      "112222 112312\n",
      "113122 111313\n",
      "111412 214111\n",
      "222112 121123\n",
      "121321 "
     ]
    },
    {
     "data": {
      "text/plain": [
       "-1"
      ]
     },
     "execution_count": 292,
     "metadata": {},
     "output_type": "execute_result"
    }
   ],
   "source": [
    "ai1 = AiPlayer(x -> ai1_create(x, lib))\n",
    "ai2 = AiPlayer(x -> ai1_create(x, lib))\n",
    "ais = [ai1, ai2]\n",
    "play_game(ais, true)\n",
    "#play_game_n(ais, 1000)"
   ]
  },
  {
   "cell_type": "code",
   "execution_count": 298,
   "id": "9a33b037",
   "metadata": {},
   "outputs": [
    {
     "data": {
      "text/plain": [
       "-0.38"
      ]
     },
     "execution_count": 298,
     "metadata": {},
     "output_type": "execute_result"
    }
   ],
   "source": [
    "ai1 = AiPlayer(x -> ai1_create(x, lib))\n",
    "ai2 = AiPlayer(x -> ai2_create(x, lib, payoffs, s2ind, false))\n",
    "ais = [ai1, ai2]\n",
    "#play_game(ais, true)\n",
    "mean([play_game(ais, false) for i in 1:100])\n",
    "#play_game_n(ais, 1000)"
   ]
  },
  {
   "cell_type": "code",
   "execution_count": 299,
   "id": "f2cca432",
   "metadata": {},
   "outputs": [
    {
     "name": "stdout",
     "output_type": "stream",
     "text": [
      "Round 1\n",
      "Score to match or beat: 0\n",
      "Player 1 adds #A1 112222\n",
      "First round: no combat.\n",
      "Round 2\n",
      "Score to match or beat: 0\n",
      "Player 2 adds #B1 112222\n",
      "112222 beats String[]\n",
      "Round 3\n",
      "Score to match or beat: 0\n",
      "Player 1 adds #A2 214111\n",
      "214111 beats [\"112222\"]\n",
      "Round 4\n",
      "Score to match or beat: 1\n",
      "Player 2 adds #B2 121321\n",
      "121321 beats [\"112222\", \"214111\"]\n",
      "Round 5\n",
      "Score to match or beat: 2\n",
      "Player 1 adds #A3 111133\n",
      "111133 beats [\"112222\", \"121321\"]\n",
      "Round 6\n",
      "Score to match or beat: 2\n",
      "Player 2 adds #B3 121213\n",
      "121213 beats [\"214111\", \"111133\"]\n",
      "Round 7\n",
      "Score to match or beat: 2\n",
      "Player 1 adds #A4 313111\n",
      "313111 beats [\"112222\", \"121321\", \"121213\"]\n",
      "Round 8\n",
      "Score to match or beat: 3\n",
      "Player 2 adds #B4 213121\n",
      "213121 beats [\"111133\", \"313111\"]\n",
      "Game history:\n",
      "112222 112222\n",
      "214111 121321\n",
      "111133 121213\n",
      "313111 213121\n"
     ]
    },
    {
     "data": {
      "text/plain": [
       "1"
      ]
     },
     "execution_count": 299,
     "metadata": {},
     "output_type": "execute_result"
    }
   ],
   "source": [
    "ai1 = AiPlayer(x -> ai2_create(x, lib, payoffs, s2ind))\n",
    "ai2 = AiPlayer(x -> ai2_create(x, lib, payoffs, s2ind))\n",
    "ais = [ai1, ai2]\n",
    "play_game(ais, true)\n",
    "#play_game_n(ais, 1000)"
   ]
  },
  {
   "cell_type": "code",
   "execution_count": 56,
   "id": "b7f61de3",
   "metadata": {},
   "outputs": [
    {
     "name": "stdout",
     "output_type": "stream",
     "text": [
      "Round 1\n",
      "Score to match or beat: 0\n",
      "Player 1 adds #A1 132211\n",
      "First round: no combat.\n",
      "stdin> 313111\n",
      "Round 2\n",
      "Score to match or beat: 0\n",
      "Player 2 adds #B1 313111\n",
      "313111 beats String[]\n",
      "Round 3\n",
      "Score to match or beat: 0\n",
      "Player 1 adds #A2 131221\n",
      "131221 beats [\"313111\"]\n",
      "stdin> 121132\n",
      "Round 4\n",
      "Score to match or beat: 1\n",
      "Player 2 adds #B2 121132\n",
      "121132 beats [\"132211\", \"131221\"]\n",
      "Round 5\n",
      "Score to match or beat: 2\n",
      "Player 1 adds #A3 213112\n",
      "213112 beats [\"313111\", \"121132\"]\n",
      "stdin> 113212\n",
      "Round 6\n",
      "Score to match or beat: 2\n",
      "Player 2 adds #B3 113212\n",
      "113212 beats [\"132211\", \"131221\", \"213112\"]\n",
      "Round 7\n",
      "Score to match or beat: 3\n",
      "Player 1 adds #A4 111412\n",
      "111412 beats [\"121132\", \"113212\"]\n",
      "Game history:\n",
      "132211 313111\n",
      "131221 121132\n",
      "213112 113212\n",
      "111412 "
     ]
    },
    {
     "data": {
      "text/plain": [
       "-1"
      ]
     },
     "execution_count": 56,
     "metadata": {},
     "output_type": "execute_result"
    }
   ],
   "source": [
    "ai1 = AiPlayer(ai1_create)\n",
    "ai2 = AiPlayer(player_create)\n",
    "ais = [ai1, ai2]\n",
    "game = play_game(ais, true)"
   ]
  },
  {
   "cell_type": "code",
   "execution_count": 55,
   "id": "34888f01",
   "metadata": {},
   "outputs": [
    {
     "data": {
      "text/plain": [
       "9-element Vector{Spud}:\n",
       " Spud(\"\", 1, 1, 3, 1, 2, 2, 999)\n",
       " Spud(\"\", 1, 1, 4, 1, 1, 2, 999)\n",
       " Spud(\"\", 1, 2, 1, 2, 1, 3, 999)\n",
       " Spud(\"\", 1, 2, 1, 2, 2, 2, 999)\n",
       " Spud(\"\", 1, 2, 1, 3, 1, 2, 999)\n",
       " Spud(\"\", 1, 2, 2, 1, 1, 3, 999)\n",
       " Spud(\"\", 1, 2, 2, 2, 1, 2, 999)\n",
       " Spud(\"\", 1, 2, 3, 1, 1, 2, 999)\n",
       " Spud(\"\", 1, 3, 1, 2, 1, 2, 999)"
      ]
     },
     "execution_count": 55,
     "metadata": {},
     "output_type": "execute_result"
    }
   ],
   "source": [
    "highest_beat_n([stats_to_spud(s) for s in [\"113311\", \"213211\", \"213112\", \"121132\"]])"
   ]
  },
  {
   "cell_type": "code",
   "execution_count": null,
   "id": "ac7db512",
   "metadata": {},
   "outputs": [],
   "source": []
  }
 ],
 "metadata": {
  "kernelspec": {
   "display_name": "Julia 1.9.3",
   "language": "julia",
   "name": "julia-1.9"
  },
  "language_info": {
   "file_extension": ".jl",
   "mimetype": "application/julia",
   "name": "julia",
   "version": "1.9.3"
  }
 },
 "nbformat": 4,
 "nbformat_minor": 5
}

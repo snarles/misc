{
 "cells": [
  {
   "cell_type": "markdown",
   "id": "052be005",
   "metadata": {},
   "source": [
    "Playing games with Spuds"
   ]
  },
  {
   "cell_type": "markdown",
   "id": "72817bb1",
   "metadata": {},
   "source": [
    "## Spud code"
   ]
  },
  {
   "cell_type": "code",
   "execution_count": 1,
   "id": "494818e8",
   "metadata": {},
   "outputs": [],
   "source": [
    "using Random\n",
    "using DataFrames\n",
    "using CSV\n",
    "using DelimitedFiles\n",
    "using Statistics\n",
    "using Printf\n",
    "using LinearAlgebra\n",
    "using Dates"
   ]
  },
  {
   "cell_type": "code",
   "execution_count": 2,
   "id": "45e21e7f",
   "metadata": {},
   "outputs": [],
   "source": [
    "struct Spud\n",
    "    name::String\n",
    "    h::Int64\n",
    "    f::Int64\n",
    "    l::Int64\n",
    "    p::Int64\n",
    "    r::Int64\n",
    "    s::Int64\n",
    "    a1::Int64\n",
    "end"
   ]
  },
  {
   "cell_type": "code",
   "execution_count": 3,
   "id": "eef1262d",
   "metadata": {},
   "outputs": [
    {
     "data": {
      "text/plain": [
       "Dict{Int64, Function} with 10 entries:\n",
       "  50  => fx_melodious\n",
       "  20  => fx_reciprocating\n",
       "  110 => fx_otaku\n",
       "  10  => fx_imitative\n",
       "  90  => fx_iconoclast\n",
       "  30  => fx_romantic\n",
       "  120 => fx_sincere\n",
       "  130 => fx_cowardly\n",
       "  40  => fx_bibliophile\n",
       "  100 => fx_intoxicating"
      ]
     },
     "execution_count": 3,
     "metadata": {},
     "output_type": "execute_result"
    }
   ],
   "source": [
    "const ability_none = 999\n",
    "const ability_imitative = 10\n",
    "const ability_reciprocating = 20\n",
    "const ability_romantic = 30\n",
    "const ability_bibliophile = 40\n",
    "const ability_melodious = 50\n",
    "const ability_iconoclast = 90\n",
    "const ability_intoxicating = 100\n",
    "const ability_otaku = 110\n",
    "const ability_sincere = 120\n",
    "const ability_cowardly = 130\n",
    "\n",
    "\n",
    "ability_name = Dict(\n",
    "    ability_imitative => \"Imitative*\",\n",
    "    ability_reciprocating => \"Reciprocating*\",\n",
    "    ability_romantic => \"Romantic*\",\n",
    "    ability_bibliophile => \"Bibliophile*\",\n",
    "    ability_melodious => \"Melodious*\",\n",
    "    ability_iconoclast => \"Iconoclast*\",\n",
    "    ability_intoxicating => \"Intoxicating*\",\n",
    "    ability_otaku => \"Otaku*\",\n",
    "    ability_sincere => \"Sincere*\",\n",
    "    ability_cowardly => \"Cowardly*\",\n",
    ")\n",
    "\n",
    "function fx_imitative(a::Spud, b::Spud)\n",
    "    if b.h > a.h\n",
    "        a = Spud(a.name, b.h, a.f, a.l, a.p, a.r, a.s, a.a1)\n",
    "    end\n",
    "    return [a, b]\n",
    "end\n",
    "\n",
    "function fx_reciprocating(a::Spud, b::Spud)\n",
    "    if b.f > a.f\n",
    "        a = Spud(a.name, a.h, b.f, a.l, a.p, a.r, a.s, a.a1)\n",
    "    end\n",
    "    return [a, b]\n",
    "end\n",
    "\n",
    "function fx_romantic(a::Spud, b::Spud)\n",
    "    if b.p > a.l\n",
    "        a = Spud(a.name, a.h, a.f, b.p, a.p, a.r, a.s, a.a1)\n",
    "    end\n",
    "    return [a, b]\n",
    "end\n",
    "\n",
    "function fx_bibliophile(a::Spud, b::Spud)\n",
    "    if b.r > a.l\n",
    "        a = Spud(a.name, a.h, a.f, b.r, a.p, a.r, a.s, a.a1)\n",
    "    end\n",
    "    return [a, b]\n",
    "end\n",
    "\n",
    "function fx_melodious(a::Spud, b::Spud)\n",
    "    if b.p > b.r && b.p > b.s\n",
    "        a = Spud(a.name, a.h, a.f, a.r, a.p + 3, a.r, a.s, a.a1)\n",
    "    end\n",
    "    return [a, b]\n",
    "end\n",
    "\n",
    "function fx_iconoclast(a::Spud, b::Spud)\n",
    "    v = sum([b.h,b.f,b.l,b.p,b.r,b.s] .== MXV)\n",
    "    if v >= 3\n",
    "        aa = [a.h, a.f, a.l, a.p, a.r, a.s]\n",
    "        aa2 = map(x -> div(x, 4), aa)\n",
    "        r = aa .+ aa2\n",
    "        a = Spud(a.name, r[1], r[2], r[3], r[4], r[5], r[6], a.a1)\n",
    "    end\n",
    "    return [a, b]\n",
    "end\n",
    "\n",
    "function fx_intoxicating(a::Spud, b::Spud)\n",
    "    b = Spud(b.name, b.h, b.f, b.l, b.p, b.r, b.f, b.a1)\n",
    "    return [a, b]\n",
    "end\n",
    "\n",
    "function fx_otaku(a::Spud, b::Spud)\n",
    "    b = Spud(b.name, b.h, b.f, b.l, b.p, b.h, b.s, b.a1)\n",
    "    return [a, b]\n",
    "end\n",
    "\n",
    "\n",
    "function fx_sincere(a::Spud, b::Spud)\n",
    "    b = Spud(b.name, b.h, b.f + 2, b.f + 2, b.p, b.r, b.s, b.a1)\n",
    "    return [a, b]\n",
    "end\n",
    "\n",
    "function fx_cowardly(a::Spud, b::Spud)\n",
    "    if (a.p < b.p) || (a.r < b.r) || (a.s < b.s)\n",
    "        a = Spud(a.name, a.h + 2, a.f - 2, a.l, a.p, a.r, a.s, a.a1)\n",
    "    end\n",
    "    return [a, b]\n",
    "end\n",
    "\n",
    "ability_fx = Dict(\n",
    "    ability_imitative => fx_imitative,\n",
    "    ability_reciprocating => fx_reciprocating,\n",
    "    ability_romantic => fx_romantic,\n",
    "    ability_bibliophile => fx_bibliophile,\n",
    "    ability_melodious => fx_melodious,\n",
    "    ability_iconoclast => fx_iconoclast,\n",
    "    ability_intoxicating => fx_intoxicating,\n",
    "    ability_otaku => fx_otaku,\n",
    "    ability_sincere => fx_sincere,\n",
    "    ability_cowardly => fx_cowardly,\n",
    ")"
   ]
  },
  {
   "cell_type": "code",
   "execution_count": 4,
   "id": "950e076e",
   "metadata": {},
   "outputs": [
    {
     "data": {
      "text/plain": [
       "1"
      ]
     },
     "execution_count": 4,
     "metadata": {},
     "output_type": "execute_result"
    }
   ],
   "source": [
    "#const MXS = 100\n",
    "const MXV = 9\n",
    "const MNV = 1\n",
    "\n",
    "# function cost(h::Int64, f::Int64, l::Int64, p::Int64, r::Int64, s::Int64)::Int64\n",
    "#     #return h*(f+l-2*MNV) + f*(p+r+s-3*MNV) + h+f+l+p+r+s-6*MNV\n",
    "#     return h*(f+l) + f*(p+r+s)\n",
    "# end\n",
    "\n",
    "# function cost(a::Spud)::Int64\n",
    "#     if a.a1 == ability_none\n",
    "#         return cost(a.h, a.f, a.l, a.p, a.r, a.s)\n",
    "#     else\n",
    "#         return cost(a.h, a.f, a.l, a.p, a.r, a.s) + ability_cost[a.a1](a)\n",
    "#     end\n",
    "# end"
   ]
  },
  {
   "cell_type": "code",
   "execution_count": 5,
   "id": "ac830f74",
   "metadata": {},
   "outputs": [
    {
     "data": {
      "text/plain": [
       "eval_melee (generic function with 3 methods)"
      ]
     },
     "execution_count": 5,
     "metadata": {},
     "output_type": "execute_result"
    }
   ],
   "source": [
    "function compare_int_list(as::Vector{Int64}, bs::Vector{Int64}, tiebreaker::Int64 = 0)::Int64\n",
    "    n = min(length(as), length(bs))\n",
    "    for i in 1:n\n",
    "        if as[i] != bs[i]\n",
    "            return sign(as[i] - bs[i])\n",
    "        end\n",
    "    end\n",
    "    return tiebreaker\n",
    "end\n",
    "\n",
    "function spud_h_seq(a::Spud)::Vector{Int64}\n",
    "    return [a.h, a.s, a.r, a.p, a.l, a.f]\n",
    "end\n",
    "\n",
    "function spud_f_seq(a::Spud)::Vector{Int64}\n",
    "    return [a.f, a.s, a.r, a.p, a.l, a.h]\n",
    "end\n",
    "\n",
    "function spud_l_seq(a::Spud)::Vector{Int64}\n",
    "    return [a.l]\n",
    "end\n",
    "\n",
    "function spud_p_seq(a::Spud)::Vector{Int64}\n",
    "    return [a.p, a.l]\n",
    "end\n",
    "\n",
    "function spud_r_seq(a::Spud)::Vector{Int64}\n",
    "    return [a.r, a.f]\n",
    "end\n",
    "\n",
    "function spud_s_seq(a::Spud)::Vector{Int64}\n",
    "    return [a.s, a.h]\n",
    "end\n",
    "\n",
    "function spud_utb_seq(a::Spud)::Vector{Int64}\n",
    "    return [a.a1, a.h, a.f, a.l, a.p, a.r, a.s]\n",
    "end\n",
    "\n",
    "function eval_finds(a::Spud, b::Spud, tiebreaker::Int64 = 0)::Int64\n",
    "    ev = compare_int_list(spud_f_seq(a), spud_h_seq(b), tiebreaker)\n",
    "    ans = ev\n",
    "end\n",
    "\n",
    "function eval_melee(a::Spud, b::Spud, tiebreaker1::Int64 = 0, tiebreaker2::Int64 = 0)::Int64\n",
    "    comp_p = compare_int_list(spud_p_seq(a), spud_p_seq(b), tiebreaker1)\n",
    "    comp_r = compare_int_list(spud_r_seq(a), spud_r_seq(b), tiebreaker1)\n",
    "    comp_s = compare_int_list(spud_s_seq(a), spud_s_seq(b), tiebreaker1)\n",
    "    ev = 4 * comp_p + 3 * comp_r + 2 * comp_s\n",
    "    return sign(ev + (1-abs(ev))*tiebreaker2)\n",
    "end\n",
    "\n"
   ]
  },
  {
   "cell_type": "code",
   "execution_count": 6,
   "id": "f603612d",
   "metadata": {},
   "outputs": [
    {
     "data": {
      "text/plain": [
       "eval_battle (generic function with 1 method)"
      ]
     },
     "execution_count": 6,
     "metadata": {},
     "output_type": "execute_result"
    }
   ],
   "source": [
    "\n",
    "\n",
    "function apply_ability(a::Spud, b::Spud)::Array{Spud}\n",
    "    if a.a1 == ability_none\n",
    "        return [a, b]\n",
    "    else\n",
    "        return ability_fx[a.a1](a, b)\n",
    "    end\n",
    "end\n",
    "\n",
    "\n",
    "function eval_battle(a::Spud, b::Spud)::Int64\n",
    "    utb = compare_int_list(spud_utb_seq(a), spud_utb_seq(b), 0) # universal tiebreaker\n",
    "    if utb == 0\n",
    "        return 0\n",
    "    end\n",
    "    a_ability_first = compare_int_list([a.a1, a.s], [b.a1, b.s], utb)\n",
    "    if a_ability_first ==1\n",
    "        if a.a1 != ability_none\n",
    "            res = apply_ability(a, b)\n",
    "            a = res[1]\n",
    "            b = res[2]\n",
    "        end\n",
    "        if b.a1 != ability_none\n",
    "            res = apply_ability(b, a)\n",
    "            b = res[1]\n",
    "            a = res[2]\n",
    "        end\n",
    "    end\n",
    "    if a_ability_first == -1\n",
    "        if b.a1 != ability_none\n",
    "            res = apply_ability(b, a)\n",
    "            b = res[1]\n",
    "            a = res[2]\n",
    "        end\n",
    "        if a.a1 != ability_none\n",
    "            res = apply_ability(a, b)\n",
    "            a = res[1]\n",
    "            b = res[2]\n",
    "        end\n",
    "    end\n",
    "    #println(a)\n",
    "    #println(b)\n",
    "    a_finds = eval_finds(a, b, utb)==1\n",
    "    b_finds = eval_finds(b, a, utb)==1\n",
    "    melee_win = eval_melee(a, b, 0, utb)\n",
    "    if a_finds && b_finds\n",
    "        return melee_win\n",
    "    end\n",
    "    if a_finds && !b_finds\n",
    "        return 1\n",
    "    end\n",
    "    if !a_finds && b_finds\n",
    "        return -1\n",
    "    end\n",
    "    if !a_finds && !b_finds\n",
    "        return compare_int_list([a.l, melee_win], [b.l, -melee_win], 0)\n",
    "    end\n",
    "end"
   ]
  },
  {
   "cell_type": "code",
   "execution_count": 7,
   "id": "40b9dc47",
   "metadata": {},
   "outputs": [
    {
     "data": {
      "text/plain": [
       "random_name_and_stat (generic function with 2 methods)"
      ]
     },
     "execution_count": 7,
     "metadata": {},
     "output_type": "execute_result"
    }
   ],
   "source": [
    "tab = CSV.read(\"census_yob2022_names.txt\", DataFrame, header = false)\n",
    "names = tab.Column1\n",
    "adjectives = CSV.read(\"adjectives.csv\", DataFrame)\n",
    "nouns = CSV.read(\"nouns.csv\", DataFrame)\n",
    "jobs = CSV.read(\"jobs.csv\", DataFrame)\n",
    "\n",
    "\n",
    "const mult_noun = 1\n",
    "const mult_adj = 2\n",
    "const mult_job = 3\n",
    "\n",
    "\n",
    "function random_name_and_stat(ability::Int64 = ability_none)::Spud\n",
    "    vp = [0, 0, 0, 0, 0, 0]\n",
    "    #nametype = rand([1,1,1,1,1,2,2,2,3])\n",
    "    name = \"\"\n",
    "    noun = \"\"\n",
    "    adj = \"\"\n",
    "    noun_i = rand(1:nrow(nouns))\n",
    "    noun = nouns[noun_i, :noun]\n",
    "    vp[1] = vp[1] + nouns[noun_i, :H] * mult_noun\n",
    "    vp[2] = vp[2] + nouns[noun_i, :F] * mult_noun\n",
    "    vp[3] = vp[3] + nouns[noun_i, :L] * mult_noun\n",
    "    vp[4] = vp[4] + nouns[noun_i, :P] * mult_noun\n",
    "    vp[5] = vp[5] + nouns[noun_i, :R] * mult_noun\n",
    "    vp[6] = vp[6] + nouns[noun_i, :S] * mult_noun\n",
    "    adj_i = rand(1:nrow(adjectives))\n",
    "    if ability == ability_none\n",
    "        adj = adjectives[adj_i, :adjective]\n",
    "        vp[1] = vp[1] + adjectives[adj_i, :H] * mult_adj\n",
    "        vp[2] = vp[2] + adjectives[adj_i, :F] * mult_adj\n",
    "        vp[3] = vp[3] + adjectives[adj_i, :L] * mult_adj\n",
    "        vp[4] = vp[4] + adjectives[adj_i, :P] * mult_adj\n",
    "        vp[5] = vp[5] + adjectives[adj_i, :R] * mult_adj\n",
    "        vp[6] = vp[6] + adjectives[adj_i, :S] * mult_adj\n",
    "    else\n",
    "        adj = ability_name[ability]\n",
    "    end\n",
    "    job_i = rand(1:nrow(jobs))\n",
    "    job = jobs[job_i, :job]\n",
    "    vp[1] = vp[1] + jobs[job_i, :H] * mult_job\n",
    "    vp[2] = vp[2] + jobs[job_i, :F] * mult_job\n",
    "    vp[3] = vp[3] + jobs[job_i, :L] * mult_job\n",
    "    vp[4] = vp[4] + jobs[job_i, :P] * mult_job\n",
    "    vp[5] = vp[5] + jobs[job_i, :R] * mult_job\n",
    "    vp[6] = vp[6] + jobs[job_i, :S] * mult_job\n",
    "    name = string(adj, \" \", job, \" \", noun)\n",
    "    Spud(name, vp[1], vp[2], vp[3], vp[4], vp[5], vp[6], ability_none)\n",
    "end"
   ]
  },
  {
   "cell_type": "code",
   "execution_count": 8,
   "id": "f606e085",
   "metadata": {},
   "outputs": [
    {
     "data": {
      "text/plain": [
       "rand_rename (generic function with 2 methods)"
      ]
     },
     "execution_count": 8,
     "metadata": {},
     "output_type": "execute_result"
    }
   ],
   "source": [
    "function rand_rename(a::Spud, n_tries::Int = 100)::Spud\n",
    "    best_score = 0.0\n",
    "    best_b = random_name_and_stat(a.a1)\n",
    "    for ii in 1:n_tries\n",
    "        b = random_name_and_stat(a.a1)\n",
    "        b_norm = sqrt(b.h^2 + b.f^2 + b.l^2 + b.p^2 + b.r^2 + b.s^2)\n",
    "        score = (a.h * b.h + a.f * b.f + a.l * b.l + a.p * b.p + a.r * b.r + a.s * b.s)/b_norm\n",
    "        if score > best_score\n",
    "            best_score = score\n",
    "            best_b = b\n",
    "        end\n",
    "    end\n",
    "    return Spud(best_b.name, a.h, a.f, a.l, a.p, a.r, a.s, a.a1)\n",
    "end"
   ]
  },
  {
   "cell_type": "code",
   "execution_count": 9,
   "id": "560e9539",
   "metadata": {},
   "outputs": [
    {
     "data": {
      "text/plain": [
       "df_to_spuds (generic function with 1 method)"
      ]
     },
     "execution_count": 9,
     "metadata": {},
     "output_type": "execute_result"
    }
   ],
   "source": [
    "function eval_battle_list(a::Spud, bs::Array{Spud})::Int\n",
    "    score = 0\n",
    "    for ii in 1:length(bs)\n",
    "        score = score + eval_battle(a, bs[ii])\n",
    "    end\n",
    "    return score\n",
    "end\n",
    "\n",
    "function eval_battle_list2(a::Spud, bs::Array{Spud}, w::Vector{Float64})::AbstractFloat\n",
    "    score = 0.0\n",
    "    for ii in 1:length(bs)\n",
    "        score = score + w[ii] * eval_battle(a, bs[ii])\n",
    "    end\n",
    "    return score\n",
    "end\n",
    "\n",
    "function spuds_to_df(as::Array{Spud})::DataFrame\n",
    "    names = Array{String}(undef, length(as))\n",
    "    hs = Array{Int}(undef, length(as))\n",
    "    fs = Array{Int}(undef, length(as))\n",
    "    ls = Array{Int}(undef, length(as))\n",
    "    ps = Array{Int}(undef, length(as))\n",
    "    rs = Array{Int}(undef, length(as))\n",
    "    ss = Array{Int}(undef, length(as))\n",
    "    a1s = Array{Int}(undef, length(as))\n",
    "    for ii in 1:length(as)\n",
    "        names[ii] = as[ii].name\n",
    "        hs[ii] = as[ii].h\n",
    "        fs[ii] = as[ii].f\n",
    "        ls[ii] = as[ii].l\n",
    "        ps[ii] = as[ii].p\n",
    "        rs[ii] = as[ii].r\n",
    "        ss[ii] = as[ii].s\n",
    "        a1s[ii] = as[ii].a1\n",
    "    end\n",
    "    df = DataFrame(name = names, h = hs, f = fs, l = ls, p = ps, r = rs, s = ss, a1 = a1s)\n",
    "    return df\n",
    "end\n",
    "\n",
    "function fpart(x::AbstractFloat)::AbstractFloat\n",
    "  return x - trunc(x)\n",
    "end\n",
    "\n",
    "# for legacy dfs without abilities\n",
    "function df_to_spuds0(df::DataFrame)::Array{Spud}\n",
    "    n = size(df)[1]\n",
    "    as = Array{Spud}(undef, n)\n",
    "    for i in 1:n\n",
    "        as[i] = Spud(df[i, :name], df[i, :h], df[i, :f], df[i, :l], df[i, :p], df[i, :r], df[i, :s], ability_none)\n",
    "    end\n",
    "    return as\n",
    "end\n",
    "\n",
    "function df_to_spuds(df::DataFrame)::Array{Spud}\n",
    "    n = size(df)[1]\n",
    "    as = Array{Spud}(undef, n)\n",
    "    for i in 1:n\n",
    "        as[i] = Spud(df[i, :name], df[i, :h], df[i, :f], df[i, :l], df[i, :p], df[i, :r], df[i, :s], df[i, :a1])\n",
    "    end\n",
    "    return as\n",
    "end\n",
    "\n"
   ]
  },
  {
   "cell_type": "code",
   "execution_count": 10,
   "id": "638f1e65",
   "metadata": {},
   "outputs": [
    {
     "data": {
      "text/plain": [
       "sample_library (generic function with 2 methods)"
      ]
     },
     "execution_count": 10,
     "metadata": {},
     "output_type": "execute_result"
    }
   ],
   "source": [
    "function sample_library(ss_prob, as, n_init = 1000000)\n",
    "    ffs = Array{Spud}(undef, n_init)\n",
    "    ff_i = 0\n",
    "    hrange = MNV:MXV\n",
    "    frange = MNV:MXV\n",
    "    lrange = MNV:MXV\n",
    "    prange = MNV:MXV\n",
    "    rrange = MNV:MXV\n",
    "    srange = MNV:MXV\n",
    "    for a1 in as\n",
    "        for h in hrange\n",
    "            for f in frange\n",
    "                for l in lrange\n",
    "                    for p in prange\n",
    "                        for r in rrange\n",
    "                            for s in srange\n",
    "                                if rand() <= ss_prob\n",
    "                                    ff = Spud(\"\", h,f,l,p,r,s,a1)\n",
    "                                    ff_i += 1\n",
    "                                    ffs[ff_i] = ff\n",
    "                                end\n",
    "                            end\n",
    "                        end                        \n",
    "                    end                        \n",
    "                end\n",
    "            end\n",
    "        end\n",
    "    end\n",
    "    ffs = ffs[1:ff_i]\n",
    "    return unique(ffs)\n",
    "end"
   ]
  },
  {
   "cell_type": "code",
   "execution_count": 11,
   "id": "847f986d",
   "metadata": {},
   "outputs": [
    {
     "data": {
      "text/plain": [
       "ffp (generic function with 1 method)"
      ]
     },
     "execution_count": 11,
     "metadata": {},
     "output_type": "execute_result"
    }
   ],
   "source": [
    "struct NashEquilibrium2p\n",
    "    w1::Array{Float64}\n",
    "    w2::Array{Float64}\n",
    "    v::Float64\n",
    "end\n",
    "\n",
    "\n",
    "function payoffs2(set1::Array{Spud}, set2::Array{Spud})::Array{Int64}\n",
    "    n1 = length(set1)\n",
    "    n2 = length(set2)\n",
    "    payoffs = Array{Int64}(undef, (n1, n2))\n",
    "    for i in 1:n1\n",
    "        for j in 1:n2\n",
    "            payoffs[i,j] = eval_battle(set1[i], set2[j])\n",
    "        end\n",
    "    end\n",
    "    return payoffs\n",
    "end\n",
    "\n",
    "function ffp2(set1::Array{Spud}, set2::Array{Spud}, nits::Int64)::NashEquilibrium2p\n",
    "    n1 = length(set1)\n",
    "    n2 = length(set2)\n",
    "    payoffs = payoffs2(set1, set2)\n",
    "    v1 = [1 for i in 1:n1]\n",
    "    v2 = [1 for i in 1:n2]\n",
    "    s1 = [sum(payoffs[i, :] .* v2) for i in 1:n1]\n",
    "    s2 = [sum(payoffs[:, i] .* v1) for i in 1:n2]\n",
    "    for it in 1:nits\n",
    "        cands1 = findall(s1 .== maximum(s1))\n",
    "        i1 = rand(cands1)\n",
    "        cands2 = findall(s2 .== minimum(s2))\n",
    "        i2 = rand(cands2)\n",
    "        v1[i1] += 1\n",
    "        s2 = s2 .+ payoffs[i1, :]\n",
    "        v2[i2] += 1\n",
    "        s1 = s1 .+ payoffs[:, i2]\n",
    "    end\n",
    "    w1 = v1./sum(v1)\n",
    "    w2 = v2./sum(v2)\n",
    "    val = sum([payoffs[i, j] * w1[i] * w2[j] for i in 1:n1 for j in 1:n2])\n",
    "    return NashEquilibrium2p(w1, w2, val)\n",
    "end\n",
    "\n",
    "function ffp(nash_env, nits)\n",
    "    n_nash = length(nash_env)\n",
    "    i_lose = Array{Int}(undef, (n_nash, n_nash))\n",
    "    n_lose = Array{Int}(undef, n_nash)\n",
    "    for i in 1:n_nash\n",
    "        n_lose[i] = 0\n",
    "        ff = nash_env[i]\n",
    "        for j in 1:n_nash\n",
    "            if eval_battle(ff, nash_env[j]) ==-1\n",
    "                n_lose[i] += 1\n",
    "                i_lose[i, n_lose[i]] = j\n",
    "            end\n",
    "        end\n",
    "    end\n",
    "    counts = [0 for i in 1:n_nash]\n",
    "    wins = [0 for i in 1:n_nash]\n",
    "    for i in 1:n_nash\n",
    "        counts[i] += 1\n",
    "        for j in 1:n_lose[i]\n",
    "            i_w = i_lose[i, j]\n",
    "            wins[i_w]+= 1\n",
    "        end\n",
    "    end\n",
    "    for iter in 1:nits\n",
    "        wc = 2 .* wins .+ counts\n",
    "        ind_winners = findall(wc .== maximum(wc))\n",
    "        i = rand(ind_winners)\n",
    "        counts[i] += 1\n",
    "        for j in 1:n_lose[i]\n",
    "            i_w = i_lose[i, j]\n",
    "            wins[i_w]+= 1\n",
    "        end\n",
    "    end\n",
    "    return counts\n",
    "end"
   ]
  },
  {
   "cell_type": "markdown",
   "id": "084c92e5",
   "metadata": {},
   "source": [
    "## Battle code"
   ]
  },
  {
   "cell_type": "code",
   "execution_count": 12,
   "id": "d8584105",
   "metadata": {},
   "outputs": [],
   "source": [
    "mutable struct BattleView\n",
    "    round::Int64\n",
    "    own::Array{Spud}\n",
    "    owncount::Array{Int64}\n",
    "    deployed::Array{Bool}\n",
    "    obs::Array{Spud}\n",
    "    obscount::Array{Int64}\n",
    "end\n",
    "\n",
    "mutable struct AiPlayer\n",
    "    genteam::Function\n",
    "    pick::Function\n",
    "    create::Function\n",
    "end"
   ]
  },
  {
   "cell_type": "code",
   "execution_count": 13,
   "id": "ccf44741",
   "metadata": {},
   "outputs": [
    {
     "data": {
      "text/plain": [
       "play_is_game_over (generic function with 1 method)"
      ]
     },
     "execution_count": 13,
     "metadata": {},
     "output_type": "execute_result"
    }
   ],
   "source": [
    "n_copy = 3\n",
    "\n",
    "function initialize_game(team1::Array{Spud}, team2::Array{Spud})::Array{BattleView}\n",
    "    teams = [team1, team2]\n",
    "    bvs = Array{BattleView}(undef, 0)\n",
    "    for team in teams\n",
    "        bv = BattleView(0, team, [n_copy for i in 1:length(team)], [false for i in 1:length(team)], [], [])\n",
    "        append!(bvs, [bv])\n",
    "    end\n",
    "    return bvs\n",
    "end\n",
    "\n",
    "function observe_fighters(game::Array{BattleView}, choices::Array{Int64})::Array{BattleView}\n",
    "    for i in 1:2\n",
    "        j = 3- i\n",
    "        if choices[i] != 0\n",
    "            game[i].deployed[choices[i]] = true\n",
    "            ff = game[i].own[choices[i]]\n",
    "            if ff in game[j].obs\n",
    "                0\n",
    "            else\n",
    "                game[j].obs = append!(game[j].obs, [ff])\n",
    "                game[j].obscount = append!(game[j].obscount, [game[i].owncount[choices[i]]])\n",
    "            end\n",
    "        end\n",
    "    end\n",
    "    return game\n",
    "end\n",
    "\n",
    "function modify_fighter_counts(game::Array{BattleView}, choices::Array{Int64}, mod::Array{Int64})::Array{BattleView}\n",
    "    for i in 1:2\n",
    "        j = 3- i\n",
    "        if choices[i] != 0\n",
    "            game[i].owncount[choices[i]] = game[i].owncount[choices[i]] + mod[i]\n",
    "            ff = game[i].own[choices[i]]\n",
    "            if ff in game[j].obs\n",
    "                ind = findall(x -> x==ff, game[j].obs)[1]\n",
    "                game[j].obscount[ind] = game[i].owncount[choices[i]]\n",
    "            else\n",
    "                0\n",
    "            end\n",
    "        end\n",
    "    end\n",
    "    return game\n",
    "end\n",
    "\n",
    "function play_combat(game::Array{BattleView}, choices::Array{Int64}, verbose::Bool = false)::Array{BattleView}\n",
    "    round = game[1].round + 1\n",
    "    fighters = [game[i].own[choices[i]] for i in 1:2]\n",
    "    for i in 1:2\n",
    "        @assert game[i].owncount[choices[i]] >= 0\n",
    "    end\n",
    "    if verbose\n",
    "        print(\"Round \")\n",
    "        print(round)\n",
    "        print(\": #A\")\n",
    "        print(choices[1])\n",
    "        print(\" \")\n",
    "        print(fighters[1])\n",
    "        print(\" vs #B\")\n",
    "        print(choices[2])\n",
    "        print(\" \")\n",
    "        println(fighters[2])\n",
    "    end\n",
    "    outcome = eval_battle(fighters[1], fighters[2])\n",
    "    if verbose\n",
    "        if outcome == 0\n",
    "            println(\"Tied!\")\n",
    "        else\n",
    "            if outcome == 1\n",
    "                print(fighters[1])\n",
    "            end\n",
    "            if outcome == -1\n",
    "                print(fighters[2])\n",
    "            end\n",
    "            println(\" wins!\")\n",
    "        end\n",
    "    end\n",
    "    game = observe_fighters(game, choices)\n",
    "    if outcome > -1\n",
    "        game = modify_fighter_counts(game, choices, [0, -1])\n",
    "    end\n",
    "    if outcome < 1\n",
    "        game = modify_fighter_counts(game, choices, [-1, 0])\n",
    "    end\n",
    "    for i in 1:2\n",
    "        game[i].round = round\n",
    "    end\n",
    "    return game\n",
    "end\n",
    "\n",
    "function play_add_spud(game::Array{BattleView}, player::Int64, ff::Spud, verbose::Bool = false)::Array{BattleView}\n",
    "    game[player].own = append!(game[player].own, [ff])\n",
    "    game[player].owncount = append!(game[player].owncount, [n_copy])\n",
    "    game[player].deployed = append!(game[player].deployed, [false])\n",
    "    if verbose\n",
    "        print(\"Player \")\n",
    "        print(player)\n",
    "        print(\" adds #\")\n",
    "        print([\"A\", \"B\"][player])\n",
    "        print(length(game[player].own))\n",
    "        print(\" \")\n",
    "        println(ff)\n",
    "    end\n",
    "    return game\n",
    "end\n",
    "\n",
    "function play_is_game_over(game::Array{BattleView})::Bool\n",
    "    for bv in game\n",
    "        if sum(bv.owncount) == 0\n",
    "            return true\n",
    "        end\n",
    "    end\n",
    "    return false\n",
    "end"
   ]
  },
  {
   "cell_type": "code",
   "execution_count": 14,
   "id": "15fdaf79",
   "metadata": {},
   "outputs": [
    {
     "data": {
      "text/plain": [
       "ai2_create (generic function with 1 method)"
      ]
     },
     "execution_count": 14,
     "metadata": {},
     "output_type": "execute_result"
    }
   ],
   "source": [
    "function generate_rand_team(env, counts, nteam)\n",
    "    cc = cumsum(counts)\n",
    "    team = Array{Spud}(undef, nteam)\n",
    "    for i in 1:nteam\n",
    "        tmp = rand(1:sum(counts))\n",
    "        ind = sum(cc .< tmp)+1\n",
    "        team[i] = env[ind]\n",
    "    end\n",
    "    return team\n",
    "end\n",
    "\n",
    "function ai0_pick(a::BattleView)::Int64\n",
    "    inds = findall(a.owncount .> 0)\n",
    "    return rand(inds)\n",
    "end\n",
    "\n",
    "function ai0_create(a::BattleView)::Spud\n",
    "    return generate_rand_team(nash_env, counts, 1)[1]\n",
    "end\n",
    "\n",
    "function ai1_create(a::BattleView)::Spud\n",
    "    ops = a.obs[a.obscount .> 0]\n",
    "    ebs = [eval_battle_list(ff, ops) for ff in nash_env]\n",
    "    cands = nash_env[ebs .== maximum(ebs)]\n",
    "    return rand(cands)\n",
    "end\n",
    "\n",
    "function ai2_create(a::BattleView)::Spud\n",
    "    ops = a.obs[a.obscount .> 0]\n",
    "    ebs = [eval_battle_list(ff, ops) for ff in nash_env]\n",
    "    if maximum(ebs) == length(ops)\n",
    "        cands = nash_env[ebs .== maximum(ebs)]\n",
    "        return rand(cands)\n",
    "    else\n",
    "        ebs2 = [eval_battle_list(ff, ops) for ff in lib]\n",
    "        if maximum(ebs2) > maximum(ebs)\n",
    "            cands = lib[ebs2 .== maximum(ebs2)]\n",
    "            return rand_rename(rand(cands))\n",
    "        else\n",
    "            cands = nash_env[ebs .== maximum(ebs)]\n",
    "            return rand(cands)\n",
    "        end\n",
    "    end\n",
    "end\n"
   ]
  },
  {
   "cell_type": "code",
   "execution_count": 15,
   "id": "0f1a5e08",
   "metadata": {},
   "outputs": [
    {
     "data": {
      "text/plain": [
       "ai_greedy_pick (generic function with 1 method)"
      ]
     },
     "execution_count": 15,
     "metadata": {},
     "output_type": "execute_result"
    }
   ],
   "source": [
    "# picks Spud most likely to win\n",
    "function ai_greedy_pick(a::BattleView)::Int64\n",
    "    if length(a.obs[a.obscount .> 0]) == 0\n",
    "        return rand(findall(a.owncount .> 0))\n",
    "    end\n",
    "    res = ffp2(a.own[a.owncount .> 0], a.obs[a.obscount .> 0], 100)\n",
    "    ind = findall(a.owncount .> 0)[rand(findall(res.w1 .== maximum(res.w1)))]\n",
    "    return ind\n",
    "end"
   ]
  },
  {
   "cell_type": "code",
   "execution_count": 16,
   "id": "317a4d45",
   "metadata": {},
   "outputs": [
    {
     "data": {
      "text/plain": [
       "ai_conservative_pick (generic function with 1 method)"
      ]
     },
     "execution_count": 16,
     "metadata": {},
     "output_type": "execute_result"
    }
   ],
   "source": [
    "# picks from spuds already deployed\n",
    "function ai_conservative_pick(a::BattleView)::Int64\n",
    "    own = a.own[a.owncount .> 0 .&& a.deployed]\n",
    "    owninds = findall(a.owncount .> 0 .&& a.deployed)\n",
    "    if length(own) == 0\n",
    "        # pick greedy\n",
    "        return ai_greedy_pick(a)\n",
    "    end\n",
    "    ops = a.obs[a.obscount .> 0]\n",
    "    res = ffp2(own, ops, 100)\n",
    "    ind = owninds[rand(findall(res.w1 .== maximum(res.w1)))]\n",
    "    return ind\n",
    "end"
   ]
  },
  {
   "cell_type": "code",
   "execution_count": 17,
   "id": "24524423",
   "metadata": {},
   "outputs": [
    {
     "data": {
      "text/plain": [
       "ai_myopic_pick (generic function with 1 method)"
      ]
     },
     "execution_count": 17,
     "metadata": {},
     "output_type": "execute_result"
    }
   ],
   "source": [
    "# picks Spud based on 1-round nash\n",
    "function ai_myopic_pick(a::BattleView)::Int64\n",
    "    if length(a.obs[a.obscount .> 0]) == 0\n",
    "        return rand(findall(a.owncount .> 0))\n",
    "    end\n",
    "    res = ffp2(a.own[a.owncount .> 0], a.obs[a.obscount .> 0], 100)\n",
    "    cc = cumsum(res.w1)\n",
    "    ind = sum(cc .< rand()) + 1\n",
    "    return findall(a.owncount .> 0)[ind]\n",
    "end"
   ]
  },
  {
   "cell_type": "code",
   "execution_count": 18,
   "id": "c30acb93",
   "metadata": {},
   "outputs": [
    {
     "data": {
      "text/plain": [
       "play_game (generic function with 2 methods)"
      ]
     },
     "execution_count": 18,
     "metadata": {},
     "output_type": "execute_result"
    }
   ],
   "source": [
    "creation_rounds = [5, 10, 15]\n",
    "\n",
    "function play_game(players::Array{AiPlayer}, verbose::Bool = true)::Int64\n",
    "    ai1 = players[1]\n",
    "    ai2 = players[2]\n",
    "    ais = players\n",
    "    team1 = ai1.genteam()\n",
    "    team2 = ai2.genteam()\n",
    "    game = initialize_game(team1, team2)\n",
    "    while !play_is_game_over(game)\n",
    "        # play a round\n",
    "        choice1 = ai1.pick(game[1])\n",
    "        choice2 = ai2.pick(game[2])\n",
    "        game = play_combat(game, [choice1, choice2], verbose)\n",
    "        if verbose\n",
    "            for i in 1:2\n",
    "                println(game[i].owncount)\n",
    "            end\n",
    "        end\n",
    "        if game[1].round in creation_rounds\n",
    "            for i in 1:2\n",
    "                ff = ais[i].create(game[i])\n",
    "                game = play_add_spud(game, i, ff, verbose)\n",
    "            end\n",
    "        end\n",
    "    end\n",
    "    if sum(game[1].owncount) == 0\n",
    "        if sum(game[2].owncount) == 0\n",
    "            return 0\n",
    "        else\n",
    "            return -1\n",
    "        end\n",
    "    end\n",
    "    return 1\n",
    "end"
   ]
  },
  {
   "cell_type": "code",
   "execution_count": 19,
   "id": "331f1d53",
   "metadata": {},
   "outputs": [],
   "source": [
    "# ai1 = AiPlayer(() -> generate_rand_team(nash_env, counts, 5), ai_greedy_pick, ai1_create)\n",
    "# ai2 = AiPlayer(() -> generate_rand_team(nash_env, counts, 5), ai_greedy_pick, ai1_create)\n",
    "# ais = [ai1, ai2]\n",
    "# play_game(ais, true)"
   ]
  },
  {
   "cell_type": "code",
   "execution_count": 20,
   "id": "1bcbf24e",
   "metadata": {},
   "outputs": [
    {
     "name": "stdout",
     "output_type": "stream",
     "text": [
      "  0.162828 seconds (62 allocations: 249.058 MiB, 11.38% gc time)\n"
     ]
    }
   ],
   "source": [
    "@time lib = sample_library(1.01, [999]);"
   ]
  },
  {
   "cell_type": "code",
   "execution_count": 21,
   "id": "031a3597",
   "metadata": {},
   "outputs": [
    {
     "data": {
      "text/plain": [
       "spud_to_vec (generic function with 1 method)"
      ]
     },
     "execution_count": 21,
     "metadata": {},
     "output_type": "execute_result"
    }
   ],
   "source": [
    "function filter_nondominated(as::Array{Spud})::Array{Spud}\n",
    "    df = spuds_to_df(as)\n",
    "    mat = Array{Int64}(undef, (length(as), 6))\n",
    "    mat[:, 1] = df.h\n",
    "    mat[:, 2] = df.f\n",
    "    mat[:, 3] = df.l\n",
    "    mat[:, 4] = df.p\n",
    "    mat[:, 5] = df.r\n",
    "    mat[:, 6] = df.s;\n",
    "    isDominated = zeros(Int64, length(as));\n",
    "    for i in 1:length(as)\n",
    "        v = mat[i, :]\n",
    "        bv = ones(Int64, length(as))\n",
    "        for j in 1:6\n",
    "            bv = bv .* (mat[:, j] .>= v[j])\n",
    "        end\n",
    "        if sum(bv) > 1\n",
    "            isDominated[i] = 1\n",
    "        end\n",
    "    end\n",
    "    return as[isDominated .== 0]\n",
    "end\n",
    "\n",
    "function spud_to_vec(a::Spud)::Array{Int64}\n",
    "    return [a.h, a.f, a.l, a.p, a.r, a.s]\n",
    "end"
   ]
  },
  {
   "cell_type": "markdown",
   "id": "5f97abe7",
   "metadata": {},
   "source": [
    "## Generating p.win data by calculation"
   ]
  },
  {
   "cell_type": "markdown",
   "id": "31892637",
   "metadata": {},
   "source": [
    "### Tensor-cdf computations"
   ]
  },
  {
   "cell_type": "code",
   "execution_count": 22,
   "id": "88659cba",
   "metadata": {},
   "outputs": [
    {
     "data": {
      "text/plain": [
       "integrate_cdf (generic function with 2 methods)"
      ]
     },
     "execution_count": 22,
     "metadata": {},
     "output_type": "execute_result"
    }
   ],
   "source": [
    "function computeTCDF6(tpdf::Array{Int64})::Array{Int64}\n",
    "    tcdf = 0 .* tpdf\n",
    "    for i1 in 1:size(tpdf)[1]\n",
    "        for i2 in 1:size(tpdf)[2]\n",
    "            for i3 in 1:size(tpdf)[3]\n",
    "                for i4 in 1:size(tpdf)[4]\n",
    "                    for i5 in 1:size(tpdf)[5]\n",
    "                        for i6 in 1:size(tpdf)[6]\n",
    "                            tcdf[i1,i2,i3,i4,i5,i6] = sum(tpdf[1:i1,1:i2,1:i3,1:i4,1:i5,1:i6])\n",
    "                        end\n",
    "                    end\n",
    "                end\n",
    "            end\n",
    "        end    \n",
    "    end\n",
    "    return tcdf\n",
    "end\n",
    "\n",
    "function integrate_cdf(tcdf::Array{Int64}, mins::Array{Int64}, maxes::Array{Int64}, fixed::Array{Int64} = Array{Int64}(undef, 0))::Int64\n",
    "    if sum(mins .== maxes) >0\n",
    "        return 0\n",
    "    end\n",
    "    if length(mins) == 0\n",
    "        if minimum(fixed) == 0\n",
    "            return 0\n",
    "        else\n",
    "            return tcdf[CartesianIndex(tuple(fixed...))]\n",
    "        end\n",
    "    end\n",
    "    new_min = mins[1]\n",
    "    new_max = maxes[1]\n",
    "    new_fixed1 = append!(copy(fixed), [new_min])\n",
    "    new_fixed2 = append!(copy(fixed), [new_max])\n",
    "    ub = integrate_cdf(tcdf, mins[2:end], maxes[2:end], new_fixed2)\n",
    "    if new_min <= 0\n",
    "        return ub\n",
    "    else\n",
    "        lb = integrate_cdf(tcdf, mins[2:end], maxes[2:end], new_fixed1)\n",
    "        return ub - lb\n",
    "    end\n",
    "end"
   ]
  },
  {
   "cell_type": "code",
   "execution_count": 23,
   "id": "7dbc04eb",
   "metadata": {},
   "outputs": [
    {
     "data": {
      "text/plain": [
       "integrate_cdf (generic function with 4 methods)"
      ]
     },
     "execution_count": 23,
     "metadata": {},
     "output_type": "execute_result"
    }
   ],
   "source": [
    "function computeTCDF6(tpdf::Array{Float64})::Array{Float64}\n",
    "    tcdf = 0 .* tpdf\n",
    "    for i1 in 1:size(tpdf)[1]\n",
    "        for i2 in 1:size(tpdf)[2]\n",
    "            for i3 in 1:size(tpdf)[3]\n",
    "                for i4 in 1:size(tpdf)[4]\n",
    "                    for i5 in 1:size(tpdf)[5]\n",
    "                        for i6 in 1:size(tpdf)[6]\n",
    "                            tcdf[i1,i2,i3,i4,i5,i6] = sum(tpdf[1:i1,1:i2,1:i3,1:i4,1:i5,1:i6])\n",
    "                        end\n",
    "                    end\n",
    "                end\n",
    "            end\n",
    "        end    \n",
    "    end\n",
    "    return tcdf\n",
    "end\n",
    "\n",
    "function integrate_cdf(tcdf::Array{Float64}, mins::Array{Int64}, maxes::Array{Int64}, fixed::Array{Int64} = Array{Int64}(undef, 0))::Float64\n",
    "    if sum(mins .== maxes) >0\n",
    "        return 0\n",
    "    end\n",
    "    if length(mins) == 0\n",
    "        if minimum(fixed) == 0\n",
    "            return 0\n",
    "        else\n",
    "            return tcdf[CartesianIndex(tuple(fixed...))]\n",
    "        end\n",
    "    end\n",
    "    new_min = mins[1]\n",
    "    new_max = maxes[1]\n",
    "    new_fixed1 = append!(copy(fixed), [new_min])\n",
    "    new_fixed2 = append!(copy(fixed), [new_max])\n",
    "    ub = integrate_cdf(tcdf, mins[2:end], maxes[2:end], new_fixed2)\n",
    "    if new_min <= 0\n",
    "        return ub\n",
    "    else\n",
    "        lb = integrate_cdf(tcdf, mins[2:end], maxes[2:end], new_fixed1)\n",
    "        return ub - lb\n",
    "    end\n",
    "end"
   ]
  },
  {
   "cell_type": "code",
   "execution_count": 63,
   "id": "872b2249",
   "metadata": {},
   "outputs": [
    {
     "name": "stdout",
     "output_type": "stream",
     "text": [
      "Any[1]\n"
     ]
    },
    {
     "data": {
      "text/plain": [
       "1-element Vector{Any}:\n",
       " 2"
      ]
     },
     "execution_count": 63,
     "metadata": {},
     "output_type": "execute_result"
    }
   ],
   "source": [
    "fixed = []\n",
    "mins = [1,2,3]\n",
    "maxes = [2,4,6];\n",
    "new_min = mins[1]\n",
    "new_max = maxes[1]\n",
    "new_fixed1 = append!(copy(fixed), [new_min])\n",
    "println(new_fixed1)\n",
    "new_fixed2 = append!(copy(fixed), [new_max])"
   ]
  },
  {
   "cell_type": "code",
   "execution_count": 57,
   "id": "06ca1843",
   "metadata": {},
   "outputs": [
    {
     "name": "stdout",
     "output_type": "stream",
     "text": [
      "  0.462401 seconds (105.26 k allocations: 664.380 MiB, 45.45% gc time)\n"
     ]
    }
   ],
   "source": [
    "# tpdf = ones(Float64, (6,6,6,6,6,6));\n",
    "# @time tcdf = computeTCDF6(tpdf);\n",
    "# # 0.462401 seconds (105.26 k allocations: 664.380 MiB, 45.45% gc time)"
   ]
  },
  {
   "cell_type": "code",
   "execution_count": 58,
   "id": "d488f379",
   "metadata": {},
   "outputs": [
    {
     "name": "stdout",
     "output_type": "stream",
     "text": [
      "  0.491771 seconds (105.26 k allocations: 664.380 MiB, 49.74% gc time)\n"
     ]
    }
   ],
   "source": [
    "# tpdf = ones(Int64, (6,6,6,6,6,6));\n",
    "# @time tcdf = computeTCDF6(tpdf);\n",
    "# # 0.491771 seconds (105.26 k allocations: 664.380 MiB, 49.74% gc time)"
   ]
  },
  {
   "cell_type": "code",
   "execution_count": 59,
   "id": "bec4c61a",
   "metadata": {},
   "outputs": [],
   "source": [
    "tpdf = ones(Int64, (9,9,9,9,9,9));\n",
    "@time tcdf = computeTCDF6(tpdf);"
   ]
  },
  {
   "cell_type": "code",
   "execution_count": 27,
   "id": "65d7ca4e",
   "metadata": {},
   "outputs": [],
   "source": [
    "# cdf([a,b]x[c,d]) = cdf(b, [c,d]) - cdf[a, [c,d]]\n",
    "# cdf(b, [c,d]) = cdf(b,d) - cdf(b,c)\n"
   ]
  },
  {
   "cell_type": "code",
   "execution_count": 64,
   "id": "99ee62bc",
   "metadata": {},
   "outputs": [
    {
     "name": "stdout",
     "output_type": "stream",
     "text": [
      "432\n"
     ]
    },
    {
     "data": {
      "text/plain": [
       "432"
      ]
     },
     "execution_count": 64,
     "metadata": {},
     "output_type": "execute_result"
    }
   ],
   "source": [
    "mins = [0,1,2,1,0,0]\n",
    "maxes = [3,3,4,5,3,3]\n",
    "println(prod(maxes .- mins))\n",
    "integrate_cdf(tcdf, mins, maxes)"
   ]
  },
  {
   "cell_type": "code",
   "execution_count": 66,
   "id": "c67f7af4",
   "metadata": {},
   "outputs": [
    {
     "data": {
      "text/plain": [
       "0.0"
      ]
     },
     "execution_count": 66,
     "metadata": {},
     "output_type": "execute_result"
    }
   ],
   "source": [
    "mins = [3,1,2,1,0,0]\n",
    "maxes = [3,3,4,5,3,3]\n",
    "integrate_cdf(convert(Array{Float64}, tcdf), mins, maxes)"
   ]
  },
  {
   "cell_type": "markdown",
   "id": "7f43e4a6",
   "metadata": {},
   "source": [
    "### Computing p-win from a tensor-cdf"
   ]
  },
  {
   "cell_type": "code",
   "execution_count": 24,
   "id": "ec4c1ae1",
   "metadata": {},
   "outputs": [
    {
     "data": {
      "text/plain": [
       "spuds_to_mmm (generic function with 1 method)"
      ]
     },
     "execution_count": 24,
     "metadata": {},
     "output_type": "execute_result"
    }
   ],
   "source": [
    "# spuds to min-max matrix\n",
    "function spuds_to_mmm0(as::Array{Spud})::Array{Int64}\n",
    "    df = spuds_to_df(as)\n",
    "    mat = zeros(Int64, (length(as), 12))\n",
    "    mat[:, 1] = df.h\n",
    "    mat[:, 3] = df.f\n",
    "    mat[:, 5] = df.l\n",
    "    mat[:, 7] = df.p\n",
    "    mat[:, 9] = df.r\n",
    "    mat[:,11] = df.s;\n",
    "    mat[:, 2] = df.h\n",
    "    mat[:, 4] = df.f\n",
    "    mat[:, 6] = df.l\n",
    "    mat[:, 8] = df.p\n",
    "    mat[:,10] = df.r\n",
    "    mat[:,12] = df.s;\n",
    "    return mat\n",
    "end\n",
    "\n",
    "function spuds_to_mmm(as::Array{Spud})::Array{Int64}\n",
    "    mmm = spuds_to_mmm0(as);\n",
    "    for j in [6,5,4,3,2,1]\n",
    "        inds_used = zeros(Int64, size(mmm)[1]);\n",
    "        mmm2 = Array{Int64}(undef, (size(mmm)[1], 12));\n",
    "        n_mmm2 = 0;\n",
    "        while minimum(inds_used) == 0\n",
    "            ind_next = findall(inds_used .== 0)[1]\n",
    "            v = mmm[ind_next, :];\n",
    "            eq = ones(Int64, size(mmm)[1]);\n",
    "            eq = eq .* (mmm[:, (2 * j -1)] .== mmm[:, (2 * j)])\n",
    "            for k in 1:6\n",
    "                if k != j\n",
    "                    eq = eq .* (mmm[:, (2 * k -1)] .== v[(2 * k -1)])\n",
    "                    eq = eq .* (mmm[:, (2 * k)] .== v[(2 * k)])\n",
    "                end\n",
    "            end\n",
    "            mmsub = mmm[eq .== 1, :]\n",
    "            minv = minimum(mmsub[:, 2*j])\n",
    "            maxv = maximum(mmsub[:, 2*j])\n",
    "            inds_used[eq .== 1] .= 1;\n",
    "            if size(mmsub)[1] == (maxv - minv + 1)\n",
    "                vnew = copy(v)\n",
    "                vnew[2 * j - 1] = minv\n",
    "                vnew[2 * j] = maxv\n",
    "                n_mmm2 += 1\n",
    "                mmm2[n_mmm2, :] = vnew\n",
    "            else\n",
    "                nsub = size(mmsub)[1]\n",
    "                mmm2[(n_mmm2+1):(n_mmm2+nsub), :] = mmsub\n",
    "                n_mmm2 += nsub\n",
    "            end\n",
    "        end\n",
    "        mmm2 = mmm2[1:n_mmm2, :]\n",
    "        mmm = mmm2;\n",
    "    end\n",
    "    return mmm\n",
    "end"
   ]
  },
  {
   "cell_type": "code",
   "execution_count": 25,
   "id": "aee59460",
   "metadata": {},
   "outputs": [],
   "source": [
    "n_init = 10000\n",
    "# generate a library where MNV = 1 and MXV = 3\n",
    "ffs = Array{Spud}(undef, n_init)\n",
    "ff_i = 0\n",
    "hrange = 1:3\n",
    "frange = 1:3\n",
    "lrange = 1:3\n",
    "prange = 1:3\n",
    "rrange = 1:3\n",
    "srange = 1:3\n",
    "a1 = 999\n",
    "for h in hrange\n",
    "    for f in frange\n",
    "        for l in lrange\n",
    "            for p in prange\n",
    "                for r in rrange\n",
    "                    for s in srange\n",
    "                        ff = Spud(\"\", h,f,l,p,r,s,a1)\n",
    "                        ff_i += 1\n",
    "                        ffs[ff_i] = ff\n",
    "                    end\n",
    "                end                        \n",
    "            end                        \n",
    "        end\n",
    "    end\n",
    "end\n",
    "ffs = ffs[1:ff_i]\n",
    "libmax3 = ffs;"
   ]
  },
  {
   "cell_type": "code",
   "execution_count": 26,
   "id": "3f5db452",
   "metadata": {},
   "outputs": [],
   "source": [
    "n_init = 10000\n",
    "# generate a library where MNV = 1 and MXV = 3 (except for H, F where MXV = 4)\n",
    "ffs = Array{Spud}(undef, n_init)\n",
    "ff_i = 0\n",
    "hrange = 1:4\n",
    "frange = 1:4\n",
    "lrange = 1:3\n",
    "prange = 1:3\n",
    "rrange = 1:3\n",
    "srange = 1:3\n",
    "a1 = 999\n",
    "for h in hrange\n",
    "    for f in frange\n",
    "        for l in lrange\n",
    "            for p in prange\n",
    "                for r in rrange\n",
    "                    for s in srange\n",
    "                        ff = Spud(\"\", h,f,l,p,r,s,a1)\n",
    "                        ff_i += 1\n",
    "                        ffs[ff_i] = ff\n",
    "                    end\n",
    "                end                        \n",
    "            end                        \n",
    "        end\n",
    "    end\n",
    "end\n",
    "ffs = ffs[1:ff_i]\n",
    "libmax4 = ffs;"
   ]
  },
  {
   "cell_type": "code",
   "execution_count": 27,
   "id": "867b94fc",
   "metadata": {},
   "outputs": [],
   "source": [
    "n_init = 10000\n",
    "# generate a library where MNV = 1 and MXV = 3 (except for H, F where MXV = 5)\n",
    "ffs = Array{Spud}(undef, n_init)\n",
    "ff_i = 0\n",
    "hrange = 1:5\n",
    "frange = 1:5\n",
    "lrange = 1:3\n",
    "prange = 1:3\n",
    "rrange = 1:3\n",
    "srange = 1:3\n",
    "a1 = 999\n",
    "for h in hrange\n",
    "    for f in frange\n",
    "        for l in lrange\n",
    "            for p in prange\n",
    "                for r in rrange\n",
    "                    for s in srange\n",
    "                        ff = Spud(\"\", h,f,l,p,r,s,a1)\n",
    "                        ff_i += 1\n",
    "                        ffs[ff_i] = ff\n",
    "                    end\n",
    "                end                        \n",
    "            end                        \n",
    "        end\n",
    "    end\n",
    "end\n",
    "ffs = ffs[1:ff_i]\n",
    "libmax5 = ffs;"
   ]
  },
  {
   "cell_type": "code",
   "execution_count": 28,
   "id": "76100dd3",
   "metadata": {},
   "outputs": [],
   "source": [
    "## case 1. H = F\n",
    "ff = Spud(\"\",2,2,2,2,2,2,999)\n",
    "evs = [eval_battle(ff, gg) for gg in libmax3];\n",
    "i_beat = libmax3[evs .== 1]\n",
    "i_tie = libmax3[evs .== 0]\n",
    "length(i_beat)\n",
    "mmm_h_eq_f = spuds_to_mmm(i_beat);"
   ]
  },
  {
   "cell_type": "code",
   "execution_count": 29,
   "id": "39d572ed",
   "metadata": {},
   "outputs": [],
   "source": [
    "## case 2. H = F+1\n",
    "ff = Spud(\"\",3,2,2,2,2,2,999)\n",
    "evs = [eval_battle(ff, gg) for gg in libmax4];\n",
    "i_beat = libmax4[evs .== 1]\n",
    "i_tie = libmax4[evs .== 0]\n",
    "length(i_beat)\n",
    "mmm_h_gt_f = spuds_to_mmm(i_beat);"
   ]
  },
  {
   "cell_type": "code",
   "execution_count": 30,
   "id": "07060394",
   "metadata": {},
   "outputs": [],
   "source": [
    "## case 3. H = F-1\n",
    "ff = Spud(\"\",2,3,2,2,2,2,999)\n",
    "evs = [eval_battle(ff, gg) for gg in libmax4];\n",
    "i_beat = libmax4[evs .== 1]\n",
    "i_tie = libmax4[evs .== 0]\n",
    "length(i_beat)\n",
    "mmm_h_lt_f = spuds_to_mmm(i_beat);"
   ]
  },
  {
   "cell_type": "code",
   "execution_count": 31,
   "id": "f9b1111c",
   "metadata": {},
   "outputs": [],
   "source": [
    "## case 4. H > F+1\n",
    "ff = Spud(\"\",4,2,2,2,2,2,999)\n",
    "evs = [eval_battle(ff, gg) for gg in libmax5];\n",
    "i_beat = libmax5[evs .== 1]\n",
    "i_tie = libmax5[evs .== 0]\n",
    "length(i_beat)\n",
    "mmm_h_mg_f = spuds_to_mmm(i_beat);"
   ]
  },
  {
   "cell_type": "code",
   "execution_count": 32,
   "id": "11590a02",
   "metadata": {},
   "outputs": [],
   "source": [
    "## case 5. H < F-1\n",
    "ff = Spud(\"\",2,4,2,2,2,2,999)\n",
    "evs = [eval_battle(ff, gg) for gg in libmax5];\n",
    "i_beat = libmax5[evs .== 1]\n",
    "i_tie = libmax5[evs .== 0]\n",
    "length(i_beat)\n",
    "mmm_h_ml_f = spuds_to_mmm(i_beat);"
   ]
  },
  {
   "cell_type": "code",
   "execution_count": 33,
   "id": "9b8f3e60",
   "metadata": {},
   "outputs": [
    {
     "data": {
      "text/plain": [
       "total_evs_vanilla_vs_vanilla (generic function with 2 methods)"
      ]
     },
     "execution_count": 33,
     "metadata": {},
     "output_type": "execute_result"
    }
   ],
   "source": [
    "function get_win_regions_vanilla_vs_vanilla(a::Spud)::Tuple{Array{Int64}, Array{Int64}}\n",
    "    v = spud_to_vec(a)\n",
    "    thres_s = Array{Array{Int64}}(undef, 6)\n",
    "\n",
    "    ## case 1. H = F\n",
    "    if v[1]==v[2]\n",
    "        mmm = mmm_h_eq_f\n",
    "        hf_thres = [-1, v[1]-1, v[1], MXV+1]    \n",
    "    end\n",
    "\n",
    "    ## case 2. H = F+1\n",
    "    if v[1]==v[2]+1\n",
    "        mmm = mmm_h_gt_f\n",
    "        hf_thres = [-1, v[2]-1, v[2], v[1], MXV+1]\n",
    "    end\n",
    "\n",
    "    ## case 3. H = F-1\n",
    "    if v[1]==v[2]-1\n",
    "        mmm = mmm_h_lt_f\n",
    "        hf_thres = [-1, v[1]-1, v[1], v[2], MXV+1]\n",
    "    end\n",
    "\n",
    "    ## case 4. H > F+1\n",
    "    if v[1]> v[2]+1\n",
    "        mmm = mmm_h_mg_f\n",
    "        hf_thres = [-1, v[2]-1, v[2], v[1]-1, v[1], MXV+1]\n",
    "    end\n",
    "\n",
    "    ## case 5. H < F-1\n",
    "    if v[1]< v[2]-1\n",
    "        mmm = mmm_h_ml_f\n",
    "        hf_thres = [-1, v[1]-1, v[1], v[2]-1, v[2], MXV+1]\n",
    "    end\n",
    "\n",
    "\n",
    "    thres_s[1] = hf_thres\n",
    "    thres_s[2] = hf_thres\n",
    "    for ii in 3:6\n",
    "        thres_s[ii] = [-1, v[ii]-1, v[ii], MXV+1]\n",
    "    end\n",
    "    mins_raw = Array{Array{Int64}}(undef, 6)\n",
    "    maxes_raw = Array{Array{Int64}}(undef, 6)\n",
    "    inds_min = [1,3,5,7,9,11]\n",
    "    inds_max = [2,4,6,8,10,12]\n",
    "    for ii in 1:6\n",
    "        mins_raw[ii] = thres_s[ii][mmm[:, inds_min[ii]]]\n",
    "        maxes_raw[ii] = thres_s[ii][mmm[:, inds_max[ii]] .+ 1]\n",
    "    end\n",
    "\n",
    "    mins = reduce(hcat, mins_raw);\n",
    "    maxes = reduce(hcat, maxes_raw);\n",
    "    mins[mins .< 0] .= 0;\n",
    "    mins[mins .> MXV] .= MXV;\n",
    "    maxes[maxes .< 0] .= 0;\n",
    "    maxes[maxes .> MXV] .= MXV;\n",
    "    return (mins, maxes)\n",
    "end\n",
    "\n",
    "function total_evs_vanilla_vs_vanilla(tcdf::Array{Int64}, a::Spud)::Int64\n",
    "    res = get_win_regions_vanilla_vs_vanilla(a)\n",
    "    mins = res[1]\n",
    "    maxes = res[2]\n",
    "    sums = [integrate_cdf(tcdf, mins[ii, :], maxes[ii, :]) for ii in 1:size(mins)[1]];\n",
    "    return (2 * sum(sums) - length(lib) + 1)\n",
    "end\n",
    "\n",
    "function total_evs_vanilla_vs_vanilla(tcdf::Array{Float64}, a::Spud)::Float64\n",
    "    res = get_win_regions_vanilla_vs_vanilla(a)\n",
    "    mins = res[1]\n",
    "    maxes = res[2]\n",
    "    sums = [integrate_cdf(tcdf, mins[ii, :], maxes[ii, :]) for ii in 1:size(mins)[1]];\n",
    "    return (2 * sum(sums) - length(lib) + 1)\n",
    "end\n"
   ]
  },
  {
   "cell_type": "markdown",
   "id": "dc941fec",
   "metadata": {},
   "source": [
    "### Unit-testing"
   ]
  },
  {
   "cell_type": "code",
   "execution_count": 34,
   "id": "9f17bf0a",
   "metadata": {},
   "outputs": [],
   "source": [
    "# # TODO\n",
    "# for iiiii in 1:1000\n",
    "#     a = rand(lib)\n",
    "#     v = spud_to_vec(a)\n",
    "#     evs = [eval_battle(a, gg) for gg in lib];\n",
    "#     i_beat = lib[evs .== 1];\n",
    "#     i_lose = lib[evs .== -1];\n",
    "#     #mean(evs)\n",
    "#     res = get_win_regions_vanilla_vs_vanilla(a)\n",
    "#     mins = res[1]\n",
    "#     maxes = res[2]\n",
    "#     for iiii in 1:1000\n",
    "#         v2 = spud_to_vec(rand(i_lose))\n",
    "#         min_cond = reduce((x,y) -> x .&& y, [v2[ii] .> mins[:,ii] for ii in 1:6])\n",
    "#         max_cond = reduce((x,y) -> x .&& y, [v2[ii] .<= maxes[:,ii] for ii in 1:6])\n",
    "#         if sum(min_cond .&& max_cond) != 0\n",
    "#             println(v2)\n",
    "#         end\n",
    "#     end\n",
    "#     for iiii in 1:1000\n",
    "#         v2 = spud_to_vec(rand(i_beat))\n",
    "#         min_cond = reduce((x,y) -> x .&& y, [v2[ii] .> mins[:,ii] for ii in 1:6])\n",
    "#         max_cond = reduce((x,y) -> x .&& y, [v2[ii] .<= maxes[:,ii] for ii in 1:6])\n",
    "#         if sum(min_cond .&& max_cond) != 1\n",
    "#             println(v2)\n",
    "#         end\n",
    "#     end\n",
    "# end"
   ]
  },
  {
   "cell_type": "code",
   "execution_count": 35,
   "id": "72ad2033",
   "metadata": {},
   "outputs": [],
   "source": [
    "# for iiiii in 1:1000\n",
    "#     a = rand(lib)\n",
    "#     evs = [eval_battle(a, gg) for gg in lib];\n",
    "#     if sum(evs) != total_evs_vanilla_vs_vanilla(tcdf, a)\n",
    "#         println(a)\n",
    "#     end\n",
    "# end"
   ]
  },
  {
   "cell_type": "markdown",
   "id": "070a703f",
   "metadata": {},
   "source": [
    "### generate p.win data and iterate"
   ]
  },
  {
   "cell_type": "code",
   "execution_count": null,
   "id": "8acf15fa",
   "metadata": {},
   "outputs": [],
   "source": [
    "tpdf = ones(Int64, (9,9,9,9,9,9));\n",
    "@time tcdf = computeTCDF6(tpdf);"
   ]
  },
  {
   "cell_type": "code",
   "execution_count": 229,
   "id": "3fc3765a",
   "metadata": {},
   "outputs": [
    {
     "name": "stdout",
     "output_type": "stream",
     "text": [
      "423.404060 seconds (7.03 G allocations: 468.896 GiB, 12.37% gc time, 0.03% compilation time)\n"
     ]
    }
   ],
   "source": [
    "@time scores0 = [total_evs_vanilla_vs_vanilla(tcdf, a) for a in lib]./length(lib);"
   ]
  },
  {
   "cell_type": "code",
   "execution_count": 230,
   "id": "1b187fcf",
   "metadata": {},
   "outputs": [
    {
     "data": {
      "text/html": [
       "<div><div style = \"float: left;\"><span>10×9 DataFrame</span></div><div style = \"clear: both;\"></div></div><div class = \"data-frame\" style = \"overflow-x: scroll;\"><table class = \"data-frame\" style = \"margin-bottom: 6px;\"><thead><tr class = \"header\"><th class = \"rowNumber\" style = \"font-weight: bold; text-align: right;\">Row</th><th style = \"text-align: left;\">name</th><th style = \"text-align: left;\">h</th><th style = \"text-align: left;\">f</th><th style = \"text-align: left;\">l</th><th style = \"text-align: left;\">p</th><th style = \"text-align: left;\">r</th><th style = \"text-align: left;\">s</th><th style = \"text-align: left;\">a1</th><th style = \"text-align: left;\">ev</th></tr><tr class = \"subheader headerLastRow\"><th class = \"rowNumber\" style = \"font-weight: bold; text-align: right;\"></th><th title = \"String\" style = \"text-align: left;\">String</th><th title = \"Int64\" style = \"text-align: left;\">Int64</th><th title = \"Int64\" style = \"text-align: left;\">Int64</th><th title = \"Int64\" style = \"text-align: left;\">Int64</th><th title = \"Int64\" style = \"text-align: left;\">Int64</th><th title = \"Int64\" style = \"text-align: left;\">Int64</th><th title = \"Int64\" style = \"text-align: left;\">Int64</th><th title = \"Int64\" style = \"text-align: left;\">Int64</th><th title = \"Float64\" style = \"text-align: left;\">Float64</th></tr></thead><tbody><tr><td class = \"rowNumber\" style = \"font-weight: bold; text-align: right;\">1</td><td style = \"text-align: left;\"></td><td style = \"text-align: right;\">9</td><td style = \"text-align: right;\">2</td><td style = \"text-align: right;\">3</td><td style = \"text-align: right;\">9</td><td style = \"text-align: right;\">6</td><td style = \"text-align: right;\">1</td><td style = \"text-align: right;\">999</td><td style = \"text-align: right;\">-0.312324</td></tr><tr><td class = \"rowNumber\" style = \"font-weight: bold; text-align: right;\">2</td><td style = \"text-align: left;\"></td><td style = \"text-align: right;\">2</td><td style = \"text-align: right;\">9</td><td style = \"text-align: right;\">5</td><td style = \"text-align: right;\">3</td><td style = \"text-align: right;\">6</td><td style = \"text-align: right;\">7</td><td style = \"text-align: right;\">999</td><td style = \"text-align: right;\">0.267002</td></tr><tr><td class = \"rowNumber\" style = \"font-weight: bold; text-align: right;\">3</td><td style = \"text-align: left;\"></td><td style = \"text-align: right;\">4</td><td style = \"text-align: right;\">1</td><td style = \"text-align: right;\">6</td><td style = \"text-align: right;\">1</td><td style = \"text-align: right;\">9</td><td style = \"text-align: right;\">8</td><td style = \"text-align: right;\">999</td><td style = \"text-align: right;\">-0.31984</td></tr><tr><td class = \"rowNumber\" style = \"font-weight: bold; text-align: right;\">4</td><td style = \"text-align: left;\"></td><td style = \"text-align: right;\">9</td><td style = \"text-align: right;\">7</td><td style = \"text-align: right;\">4</td><td style = \"text-align: right;\">5</td><td style = \"text-align: right;\">3</td><td style = \"text-align: right;\">8</td><td style = \"text-align: right;\">999</td><td style = \"text-align: right;\">0.677656</td></tr><tr><td class = \"rowNumber\" style = \"font-weight: bold; text-align: right;\">5</td><td style = \"text-align: left;\"></td><td style = \"text-align: right;\">2</td><td style = \"text-align: right;\">1</td><td style = \"text-align: right;\">8</td><td style = \"text-align: right;\">1</td><td style = \"text-align: right;\">3</td><td style = \"text-align: right;\">7</td><td style = \"text-align: right;\">999</td><td style = \"text-align: right;\">-0.655094</td></tr><tr><td class = \"rowNumber\" style = \"font-weight: bold; text-align: right;\">6</td><td style = \"text-align: left;\"></td><td style = \"text-align: right;\">1</td><td style = \"text-align: right;\">9</td><td style = \"text-align: right;\">3</td><td style = \"text-align: right;\">5</td><td style = \"text-align: right;\">7</td><td style = \"text-align: right;\">4</td><td style = \"text-align: right;\">999</td><td style = \"text-align: right;\">0.0564729</td></tr><tr><td class = \"rowNumber\" style = \"font-weight: bold; text-align: right;\">7</td><td style = \"text-align: left;\"></td><td style = \"text-align: right;\">2</td><td style = \"text-align: right;\">9</td><td style = \"text-align: right;\">3</td><td style = \"text-align: right;\">9</td><td style = \"text-align: right;\">4</td><td style = \"text-align: right;\">3</td><td style = \"text-align: right;\">999</td><td style = \"text-align: right;\">0.125199</td></tr><tr><td class = \"rowNumber\" style = \"font-weight: bold; text-align: right;\">8</td><td style = \"text-align: left;\"></td><td style = \"text-align: right;\">4</td><td style = \"text-align: right;\">2</td><td style = \"text-align: right;\">6</td><td style = \"text-align: right;\">3</td><td style = \"text-align: right;\">4</td><td style = \"text-align: right;\">1</td><td style = \"text-align: right;\">999</td><td style = \"text-align: right;\">-0.554338</td></tr><tr><td class = \"rowNumber\" style = \"font-weight: bold; text-align: right;\">9</td><td style = \"text-align: left;\"></td><td style = \"text-align: right;\">3</td><td style = \"text-align: right;\">4</td><td style = \"text-align: right;\">9</td><td style = \"text-align: right;\">4</td><td style = \"text-align: right;\">2</td><td style = \"text-align: right;\">3</td><td style = \"text-align: right;\">999</td><td style = \"text-align: right;\">-0.415485</td></tr><tr><td class = \"rowNumber\" style = \"font-weight: bold; text-align: right;\">10</td><td style = \"text-align: left;\"></td><td style = \"text-align: right;\">5</td><td style = \"text-align: right;\">7</td><td style = \"text-align: right;\">9</td><td style = \"text-align: right;\">1</td><td style = \"text-align: right;\">6</td><td style = \"text-align: right;\">9</td><td style = \"text-align: right;\">999</td><td style = \"text-align: right;\">0.504809</td></tr></tbody></table></div>"
      ],
      "text/latex": [
       "\\begin{tabular}{r|ccccccccc}\n",
       "\t& name & h & f & l & p & r & s & a1 & ev\\\\\n",
       "\t\\hline\n",
       "\t& String & Int64 & Int64 & Int64 & Int64 & Int64 & Int64 & Int64 & Float64\\\\\n",
       "\t\\hline\n",
       "\t1 &  & 9 & 2 & 3 & 9 & 6 & 1 & 999 & -0.312324 \\\\\n",
       "\t2 &  & 2 & 9 & 5 & 3 & 6 & 7 & 999 & 0.267002 \\\\\n",
       "\t3 &  & 4 & 1 & 6 & 1 & 9 & 8 & 999 & -0.31984 \\\\\n",
       "\t4 &  & 9 & 7 & 4 & 5 & 3 & 8 & 999 & 0.677656 \\\\\n",
       "\t5 &  & 2 & 1 & 8 & 1 & 3 & 7 & 999 & -0.655094 \\\\\n",
       "\t6 &  & 1 & 9 & 3 & 5 & 7 & 4 & 999 & 0.0564729 \\\\\n",
       "\t7 &  & 2 & 9 & 3 & 9 & 4 & 3 & 999 & 0.125199 \\\\\n",
       "\t8 &  & 4 & 2 & 6 & 3 & 4 & 1 & 999 & -0.554338 \\\\\n",
       "\t9 &  & 3 & 4 & 9 & 4 & 2 & 3 & 999 & -0.415485 \\\\\n",
       "\t10 &  & 5 & 7 & 9 & 1 & 6 & 9 & 999 & 0.504809 \\\\\n",
       "\\end{tabular}\n"
      ],
      "text/plain": [
       "\u001b[1m10×9 DataFrame\u001b[0m\n",
       "\u001b[1m Row \u001b[0m│\u001b[1m name   \u001b[0m\u001b[1m h     \u001b[0m\u001b[1m f     \u001b[0m\u001b[1m l     \u001b[0m\u001b[1m p     \u001b[0m\u001b[1m r     \u001b[0m\u001b[1m s     \u001b[0m\u001b[1m a1    \u001b[0m\u001b[1m ev         \u001b[0m\n",
       "     │\u001b[90m String \u001b[0m\u001b[90m Int64 \u001b[0m\u001b[90m Int64 \u001b[0m\u001b[90m Int64 \u001b[0m\u001b[90m Int64 \u001b[0m\u001b[90m Int64 \u001b[0m\u001b[90m Int64 \u001b[0m\u001b[90m Int64 \u001b[0m\u001b[90m Float64    \u001b[0m\n",
       "─────┼─────────────────────────────────────────────────────────────────────\n",
       "   1 │             9      2      3      9      6      1    999  -0.312324\n",
       "   2 │             2      9      5      3      6      7    999   0.267002\n",
       "   3 │             4      1      6      1      9      8    999  -0.31984\n",
       "   4 │             9      7      4      5      3      8    999   0.677656\n",
       "   5 │             2      1      8      1      3      7    999  -0.655094\n",
       "   6 │             1      9      3      5      7      4    999   0.0564729\n",
       "   7 │             2      9      3      9      4      3    999   0.125199\n",
       "   8 │             4      2      6      3      4      1    999  -0.554338\n",
       "   9 │             3      4      9      4      2      3    999  -0.415485\n",
       "  10 │             5      7      9      1      6      9    999   0.504809"
      ]
     },
     "execution_count": 230,
     "metadata": {},
     "output_type": "execute_result"
    }
   ],
   "source": []
  },
  {
   "cell_type": "code",
   "execution_count": 264,
   "id": "6ccf3632",
   "metadata": {},
   "outputs": [],
   "source": [
    "wts = map(x -> exp(-abs(x)/10), scores0);\n",
    "wts = wts./sum(wts) .* length(lib);\n",
    "println(maximum(scores0[wts.>1]))\n",
    "println(minimum(scores0[wts.>1]))\n"
   ]
  },
  {
   "cell_type": "markdown",
   "id": "8e3520de",
   "metadata": {},
   "source": [
    "#### iterations"
   ]
  },
  {
   "cell_type": "code",
   "execution_count": 265,
   "id": "57debe3d",
   "metadata": {},
   "outputs": [
    {
     "name": "stdout",
     "output_type": "stream",
     "text": [
      " 31.076102 seconds (1.55 M allocations: 61.968 GiB, 21.72% gc time, 0.38% compilation time)\n"
     ]
    }
   ],
   "source": [
    "tpdf = permutedims(reshape(wts, (9,9,9,9,9,9)), (6,5,4,3,2,1));\n",
    "@time tcdf = computeTCDF6(tpdf);"
   ]
  },
  {
   "cell_type": "code",
   "execution_count": null,
   "id": "e7ccd023",
   "metadata": {},
   "outputs": [],
   "source": [
    "@time scores1 = [total_evs_vanilla_vs_vanilla(tcdf, a) for a in lib]./length(lib);\n",
    "wts = map(x -> exp(-abs(x)/10), scores1);\n",
    "wts = wts./sum(wts) .* length(lib);\n",
    "println(maximum(scores1[wts.>1]))\n",
    "println(minimum(scores1[wts.>1]))"
   ]
  },
  {
   "cell_type": "code",
   "execution_count": null,
   "id": "97489818",
   "metadata": {},
   "outputs": [],
   "source": [
    "tpdf = permutedims(reshape(wts, (9,9,9,9,9,9)), (6,5,4,3,2,1));\n",
    "@time tcdf = computeTCDF6(tpdf);\n",
    "@time scores2 = [total_evs_vanilla_vs_vanilla(tcdf, a) for a in lib]./length(lib);\n",
    "wts = map(x -> exp(-abs(x)/10), scores2);\n",
    "wts = wts./sum(wts) .* length(lib);\n",
    "println(maximum(scores2[wts.>1]))\n",
    "println(minimum(scores2[wts.>1]))"
   ]
  },
  {
   "cell_type": "code",
   "execution_count": null,
   "id": "1bedc78e",
   "metadata": {},
   "outputs": [],
   "source": [
    "allscores = [scores0]\n",
    "scores1 = scores0\n",
    "for iiiii in 1:10\n",
    "    wts = map(x -> exp(-abs(x)/10), scores1)\n",
    "    wts = wts./sum(wts) .* length(lib);\n",
    "    tpdf = permutedims(reshape(wts, (9,9,9,9,9,9)), (6,5,4,3,2,1));\n",
    "    tcdf = computeTCDF6(tpdf);\n",
    "    @time scores1 = [total_evs_vanilla_vs_vanilla(tcdf, a) for a in lib]./length(lib);\n",
    "    append!(allscores, scores1)\n",
    "end\n"
   ]
  },
  {
   "cell_type": "code",
   "execution_count": null,
   "id": "ece51702",
   "metadata": {},
   "outputs": [],
   "source": [
    "allscores = [scores0]\n",
    "scores = scores0;\n",
    "for i in 1:25\n",
    "    wts = map(x -> exp(-300*abs(x)^2), scores)\n",
    "    wts = wts./sum(wts) .* length(lib);\n",
    "    tpdf = permutedims(reshape(wts, (9,9,9,9,9,9)), (6,5,4,3,2,1));\n",
    "    tcdf = computeTCDF6(tpdf);\n",
    "    @time scores = [total_evs_vanilla_vs_vanilla(tcdf, a) for a in lib]./length(lib);\n",
    "    append!(allscores, [scores]);\n",
    "    println(sum(wts .> 1))\n",
    "    println(maximum(scores[wts.>1]))\n",
    "    println(minimum(scores[wts.>1]))\n",
    "end"
   ]
  },
  {
   "cell_type": "code",
   "execution_count": null,
   "id": "58f77903",
   "metadata": {},
   "outputs": [],
   "source": [
    "iis = [rand(1:length(lib)) for i in 1:100];\n",
    "df = spuds_to_df(lib[iis]);\n",
    "df[:, :ev0] = scores0[iis];\n",
    "df[:, :ev] = scores[iis];\n",
    "df[:, :w] = wts[iis];\n",
    "df[df.w .> 0.5, :]"
   ]
  },
  {
   "cell_type": "code",
   "execution_count": null,
   "id": "157d6d74",
   "metadata": {},
   "outputs": [],
   "source": [
    "# iscores = map(x -> convert(Int64, floor(x)), scores .* 100 .+ 100);\n",
    "# iscores = permutedims(reshape(iscores, (9,9,9,9,9,9)), (6,5,4,3,2,1));\n",
    "# using MAT\n",
    "# matwrite(\"scores_sq100.mat\", Dict(\"scores\" => iscores); compress = true)"
   ]
  },
  {
   "cell_type": "markdown",
   "id": "06fed0f9",
   "metadata": {},
   "source": [
    "## Checking nash equilibria of evolved sets"
   ]
  },
  {
   "cell_type": "code",
   "execution_count": 34,
   "id": "62066294",
   "metadata": {},
   "outputs": [],
   "source": [
    "using MAT\n",
    "res = matread(\"scores_sq100.mat\");"
   ]
  },
  {
   "cell_type": "code",
   "execution_count": 35,
   "id": "e5134c99",
   "metadata": {},
   "outputs": [],
   "source": [
    "scores = res[\"scores\"];"
   ]
  },
  {
   "cell_type": "code",
   "execution_count": 36,
   "id": "11c808f4",
   "metadata": {},
   "outputs": [],
   "source": [
    "using JuMP\n",
    "using HiGHS"
   ]
  },
  {
   "cell_type": "code",
   "execution_count": 42,
   "id": "d3b9da56",
   "metadata": {},
   "outputs": [],
   "source": [
    "inds = findall(scores .> 99 .&& scores .<= 100);"
   ]
  },
  {
   "cell_type": "code",
   "execution_count": 43,
   "id": "9880a3cb",
   "metadata": {},
   "outputs": [
    {
     "data": {
      "text/plain": [
       "2200"
      ]
     },
     "execution_count": 43,
     "metadata": {},
     "output_type": "execute_result"
    }
   ],
   "source": [
    "length(inds)"
   ]
  },
  {
   "cell_type": "code",
   "execution_count": 44,
   "id": "91fe446c",
   "metadata": {},
   "outputs": [],
   "source": [
    "nash_env = [Spud(\"\",v[1],v[2],v[3],v[4],v[5],v[6],999) for v in inds];"
   ]
  },
  {
   "cell_type": "code",
   "execution_count": 40,
   "id": "a8cc4d28",
   "metadata": {},
   "outputs": [],
   "source": [
    "#@time counts = ffp(nash_env, 20000);"
   ]
  },
  {
   "cell_type": "code",
   "execution_count": 41,
   "id": "cd934722",
   "metadata": {},
   "outputs": [],
   "source": [
    "#nash_env = nash_env[counts .> 1];"
   ]
  },
  {
   "cell_type": "code",
   "execution_count": 45,
   "id": "18d17732",
   "metadata": {},
   "outputs": [
    {
     "data": {
      "text/plain": [
       "get_payoffs (generic function with 1 method)"
      ]
     },
     "execution_count": 45,
     "metadata": {},
     "output_type": "execute_result"
    }
   ],
   "source": [
    "function get_payoffs(env::Array{Spud})::Array{Int64}\n",
    "    n_nash = length(env)\n",
    "    payoffs = Array{Int64}(undef, (n_nash, n_nash))\n",
    "    for i in 1:n_nash\n",
    "        for j in 1:n_nash\n",
    "            payoffs[i, j] = eval_battle(env[i], env[j])\n",
    "        end\n",
    "    end\n",
    "    return payoffs\n",
    "end"
   ]
  },
  {
   "cell_type": "code",
   "execution_count": 46,
   "id": "ff8fd634",
   "metadata": {},
   "outputs": [],
   "source": [
    "payoffs = get_payoffs(nash_env);"
   ]
  },
  {
   "cell_type": "code",
   "execution_count": 47,
   "id": "53dabc36",
   "metadata": {},
   "outputs": [
    {
     "data": {
      "text/plain": [
       "A JuMP Model\n",
       "Minimization problem with:\n",
       "Variables: 4401\n",
       "Objective function type: AffExpr\n",
       "`AffExpr`-in-`MathOptInterface.EqualTo{Float64}`: 2201 constraints\n",
       "`VariableRef`-in-`MathOptInterface.GreaterThan{Float64}`: 4401 constraints\n",
       "Model mode: AUTOMATIC\n",
       "CachingOptimizer state: EMPTY_OPTIMIZER\n",
       "Solver name: HiGHS\n",
       "Names registered in the model: x"
      ]
     },
     "execution_count": 47,
     "metadata": {},
     "output_type": "execute_result"
    }
   ],
   "source": [
    "n_nash = size(payoffs)[1]\n",
    "vector_model = Model(HiGHS.Optimizer)\n",
    "sumv = zeros(Int64, (1, 2 * n_nash + 1))\n",
    "sumv[1:n_nash] .= 1\n",
    "A = hcat(payoffs, Matrix(1I,n_nash, n_nash), -ones(Int64, n_nash, 1))\n",
    "A = vcat(A, sumv);\n",
    "b = zeros(Int64, n_nash + 1);\n",
    "b[1:n_nash] .= -1\n",
    "b[n_nash+1] = 1\n",
    "c = zeros(Int64, 2 * n_nash + 1);\n",
    "c[2 * n_nash + 1] = 1;\n",
    "@variable(vector_model, x[1:(2*n_nash+1)] >= 0);\n",
    "@constraint(vector_model, A * x .== b);\n",
    "@objective(vector_model, Min, c' * x)\n",
    "vector_model"
   ]
  },
  {
   "cell_type": "code",
   "execution_count": 48,
   "id": "fc9a9bb3",
   "metadata": {},
   "outputs": [
    {
     "name": "stdout",
     "output_type": "stream",
     "text": [
      "Running HiGHS 1.6.0: Copyright (c) 2023 HiGHS under MIT licence terms\n",
      "Presolving model\n",
      "2201 rows, 4401 cols, 4844400 nonzeros\n",
      "2201 rows, 4401 cols, 4844400 nonzeros\n",
      "Presolve : Reductions: rows 2201(-0); columns 4401(-0); elements 4844400(-0) - Not reduced\n",
      "Problem not reduced by presolve: solving the LP\n",
      "Using EKK dual simplex solver - serial\n",
      "  Iteration        Objective     Infeasibilities num(sum)\n",
      "          0     0.0000000000e+00 Pr: 2201(2201) 1s\n",
      "       1727     9.9051435928e-01 Pr: 1497(231.345) 8s\n",
      "       2574     9.9430571926e-01 Pr: 1323(7726.67) 14s\n",
      "       3053     9.9563793475e-01 Pr: 1266(434.045) 20s\n",
      "       3514     9.9662663274e-01 Pr: 1164(1515.2); Du: 0(8.44604e-08) 26s\n",
      "       3961     9.9742939964e-01 Pr: 1082(69.1566) 32s\n",
      "       4353     9.9797328087e-01 Pr: 1126(415.808) 38s\n",
      "       4765     9.9844753692e-01 Pr: 1058(82.0721) 44s\n",
      "       5106     9.9871365942e-01 Pr: 1087(118.378) 51s\n",
      "       5518     9.9898720185e-01 Pr: 1131(591.634) 57s\n",
      "       5806     9.9921008960e-01 Pr: 1086(236.411) 64s\n",
      "       6065     9.9934711234e-01 Pr: 1099(110.665) 70s\n",
      "       6407     9.9952433565e-01 Pr: 1009(36.0718) 76s\n",
      "       6706     9.9967216067e-01 Pr: 1016(769.351) 82s\n",
      "       6968     9.9973988392e-01 Pr: 1080(199.94) 88s\n",
      "       7270     9.9982567052e-01 Pr: 1082(61.1516) 95s\n",
      "       7624     9.9990386719e-01 Pr: 992(31.2195) 101s\n",
      "       7895     9.9995216276e-01 Pr: 999(28.2185) 107s\n",
      "       8301     9.9999445729e-01 Pr: 992(46.4823) 113s\n",
      "       8688     1.0000088209e+00 Pr: 190(0.195219) 120s\n",
      "       8781     1.0000000000e+00 Pr: 0(0) 121s\n",
      "       8781     1.0000000000e+00 Pr: 0(0) 121s\n",
      "Model   status      : Optimal\n",
      "Simplex   iterations: 8781\n",
      "Objective value     :  1.0000000000e+00\n",
      "HiGHS run time      :        121.16\n",
      "121.647353 seconds (233.88 k allocations: 219.886 MiB, 0.05% gc time, 0.11% compilation time: 100% of which was recompilation)\n"
     ]
    }
   ],
   "source": [
    "@time optimize!(vector_model)"
   ]
  },
  {
   "cell_type": "code",
   "execution_count": 49,
   "id": "3c74a4a4",
   "metadata": {},
   "outputs": [],
   "source": [
    "w_lp = [value(x[i]) for i in 1:n_nash]\n",
    "w_lp = w_lp./sum(w_lp);"
   ]
  },
  {
   "cell_type": "code",
   "execution_count": 50,
   "id": "161232e5",
   "metadata": {},
   "outputs": [
    {
     "data": {
      "text/plain": [
       "965"
      ]
     },
     "execution_count": 50,
     "metadata": {},
     "output_type": "execute_result"
    }
   ],
   "source": [
    "sum(w_lp .> 0)"
   ]
  },
  {
   "cell_type": "code",
   "execution_count": 52,
   "id": "216a37c4",
   "metadata": {},
   "outputs": [
    {
     "data": {
      "text/plain": [
       "11114"
      ]
     },
     "execution_count": 52,
     "metadata": {},
     "output_type": "execute_result"
    }
   ],
   "source": [
    "inds = findall(scores .> 95 .&& scores .<= 100);\n",
    "env = [Spud(\"\",v[1],v[2],v[3],v[4],v[5],v[6],999) for v in inds];\n",
    "length(env)"
   ]
  },
  {
   "cell_type": "code",
   "execution_count": 53,
   "id": "a442edd5",
   "metadata": {},
   "outputs": [
    {
     "name": "stdout",
     "output_type": "stream",
     "text": [
      "  9.140737 seconds (157.63 M allocations: 14.463 GiB, 24.62% gc time, 1.49% compilation time)\n"
     ]
    }
   ],
   "source": [
    "w = w_lp;\n",
    "@time evs = [eval_battle_list2(ff, nash_env[w .> 0], w[w.> 0]) for ff in env];"
   ]
  },
  {
   "cell_type": "code",
   "execution_count": 54,
   "id": "51a8bd34",
   "metadata": {},
   "outputs": [
    {
     "data": {
      "text/plain": [
       "0.015445719040705653"
      ]
     },
     "execution_count": 54,
     "metadata": {},
     "output_type": "execute_result"
    }
   ],
   "source": [
    "maximum(evs)"
   ]
  },
  {
   "cell_type": "code",
   "execution_count": 55,
   "id": "18ef8c20",
   "metadata": {},
   "outputs": [
    {
     "name": "stdout",
     "output_type": "stream",
     "text": [
      "\u001b[1m20×9 DataFrame\u001b[0m\n",
      "\u001b[1m Row \u001b[0m│\u001b[1m name   \u001b[0m\u001b[1m h     \u001b[0m\u001b[1m f     \u001b[0m\u001b[1m l     \u001b[0m\u001b[1m p     \u001b[0m\u001b[1m r     \u001b[0m\u001b[1m s     \u001b[0m\u001b[1m a1    \u001b[0m\u001b[1m w          \u001b[0m\n",
      "     │\u001b[90m String \u001b[0m\u001b[90m Int64 \u001b[0m\u001b[90m Int64 \u001b[0m\u001b[90m Int64 \u001b[0m\u001b[90m Int64 \u001b[0m\u001b[90m Int64 \u001b[0m\u001b[90m Int64 \u001b[0m\u001b[90m Int64 \u001b[0m\u001b[90m Float64    \u001b[0m\n",
      "─────┼─────────────────────────────────────────────────────────────────────\n",
      "   1 │             9      3      3      9      5      9    999  0.0045518\n",
      "   2 │             4      5      1      2      8      9    999  0.00450398\n",
      "   3 │             7      1      5      9      3      9    999  0.00440355\n",
      "   4 │             5      5      9      6      5      1    999  0.00412647\n",
      "   5 │             7      2      7      3      1      1    999  0.00393954\n",
      "   6 │             2      6      3      8      3      7    999  0.0038817\n",
      "   7 │             9      5      1      9      8      2    999  0.00382939\n",
      "   8 │             1      7      1      3      7      7    999  0.00373159\n",
      "   9 │             8      3      4      5      3      8    999  0.00368775\n",
      "  10 │             1      6      2      7      6      6    999  0.00355734\n",
      "  11 │             8      6      3      2      1      1    999  0.00348368\n",
      "  12 │             2      7      2      8      4      5    999  0.00344487\n",
      "  13 │             7      1      7      2      2      2    999  0.00342401\n",
      "  14 │             9      5      3      6      3      1    999  0.00341547\n",
      "  15 │             8      4      5      1      6      2    999  0.00341157\n",
      "  16 │             2      6      8      6      9      2    999  0.00337817\n",
      "  17 │             5      9      9      2      4      2    999  0.00336555\n",
      "  18 │             5      7      3      2      1      9    999  0.00336511\n",
      "  19 │             4      7      9      5      3      4    999  0.00329681\n",
      "  20 │             4      7      1      9      3      4    999  0.00325111"
     ]
    }
   ],
   "source": [
    "df = spuds_to_df(nash_env[w .> 0]);\n",
    "df[:, :w] = w[w .> 0];\n",
    "print(df[sortperm(-df.w)[1:20], :])"
   ]
  },
  {
   "cell_type": "code",
   "execution_count": 56,
   "id": "b15e5c82",
   "metadata": {},
   "outputs": [],
   "source": [
    "old_nash_env = nash_env;"
   ]
  },
  {
   "cell_type": "code",
   "execution_count": 64,
   "id": "0b974d8a",
   "metadata": {},
   "outputs": [
    {
     "data": {
      "text/plain": [
       "2971"
      ]
     },
     "execution_count": 64,
     "metadata": {},
     "output_type": "execute_result"
    }
   ],
   "source": [
    "nash_env = env[evs .> -0.01];\n",
    "length(nash_env)"
   ]
  },
  {
   "cell_type": "code",
   "execution_count": 65,
   "id": "917a51e8",
   "metadata": {},
   "outputs": [
    {
     "name": "stdout",
     "output_type": "stream",
     "text": [
      "  7.201042 seconds (129.60 M allocations: 11.300 GiB, 24.52% gc time)\n"
     ]
    }
   ],
   "source": [
    "@time payoffs = get_payoffs(nash_env);"
   ]
  },
  {
   "cell_type": "code",
   "execution_count": 66,
   "id": "f33aa2c0",
   "metadata": {},
   "outputs": [
    {
     "data": {
      "text/plain": [
       "A JuMP Model\n",
       "Minimization problem with:\n",
       "Variables: 5943\n",
       "Objective function type: AffExpr\n",
       "`AffExpr`-in-`MathOptInterface.EqualTo{Float64}`: 2972 constraints\n",
       "`VariableRef`-in-`MathOptInterface.GreaterThan{Float64}`: 5943 constraints\n",
       "Model mode: AUTOMATIC\n",
       "CachingOptimizer state: EMPTY_OPTIMIZER\n",
       "Solver name: HiGHS\n",
       "Names registered in the model: x"
      ]
     },
     "execution_count": 66,
     "metadata": {},
     "output_type": "execute_result"
    }
   ],
   "source": [
    "n_nash = size(payoffs)[1]\n",
    "vector_model = Model(HiGHS.Optimizer)\n",
    "sumv = zeros(Int64, (1, 2 * n_nash + 1))\n",
    "sumv[1:n_nash] .= 1\n",
    "A = hcat(payoffs, Matrix(1I,n_nash, n_nash), -ones(Int64, n_nash, 1))\n",
    "A = vcat(A, sumv);\n",
    "b = zeros(Int64, n_nash + 1);\n",
    "b[1:n_nash] .= -1\n",
    "b[n_nash+1] = 1\n",
    "c = zeros(Int64, 2 * n_nash + 1);\n",
    "c[2 * n_nash + 1] = 1;\n",
    "@variable(vector_model, x[1:(2*n_nash+1)] >= 0);\n",
    "@constraint(vector_model, A * x .== b);\n",
    "@objective(vector_model, Min, c' * x)\n",
    "vector_model"
   ]
  },
  {
   "cell_type": "code",
   "execution_count": 67,
   "id": "40abcf6c",
   "metadata": {},
   "outputs": [
    {
     "name": "stdout",
     "output_type": "stream",
     "text": [
      "Running HiGHS 1.6.0: Copyright (c) 2023 HiGHS under MIT licence terms\n",
      "Presolving model\n",
      "2972 rows, 5943 cols, 8832783 nonzeros\n",
      "2972 rows, 5943 cols, 8832783 nonzeros\n",
      "Presolve : Reductions: rows 2972(-0); columns 5943(-0); elements 8832783(-0) - Not reduced\n",
      "Problem not reduced by presolve: solving the LP\n",
      "Using EKK dual simplex solver - serial\n",
      "  Iteration        Objective     Infeasibilities num(sum)\n",
      "          0     0.0000000000e+00 Pr: 2972(2972) 2s\n",
      "       1008     9.7897640037e-01 Pr: 2508(2624.04) 7s\n",
      "       1801     9.8663929084e-01 Pr: 2164(886.994) 14s\n",
      "       2439     9.9001978441e-01 Pr: 1997(5401.88) 20s\n",
      "       2902     9.9188835381e-01 Pr: 1871(504.106); Du: 0(6.61695e-08) 27s\n",
      "       3406     9.9355645491e-01 Pr: 1798(444.24) 34s\n",
      "       3781     9.9450422679e-01 Pr: 1683(382.179) 41s\n",
      "       4097     9.9511215912e-01 Pr: 1646(1514.02) 48s\n",
      "       4377     9.9561525754e-01 Pr: 1635(5006.46) 55s\n",
      "       4723     9.9612979958e-01 Pr: 1654(2481.88) 63s\n",
      "       5037     9.9653426291e-01 Pr: 1531(449.004) 71s\n",
      "       5287     9.9684488561e-01 Pr: 1571(729.518) 79s\n",
      "       5576     9.9723021299e-01 Pr: 1550(2518.22) 87s\n",
      "       5834     9.9752938985e-01 Pr: 1487(121.239) 96s\n",
      "       6096     9.9777333649e-01 Pr: 1561(217.177) 105s\n",
      "       6260     9.9794300184e-01 Pr: 1578(1728.93) 112s\n",
      "       6508     9.9811887686e-01 Pr: 1474(648.347) 121s\n",
      "       6712     9.9825984290e-01 Pr: 1543(876.986) 130s\n",
      "       6919     9.9841054518e-01 Pr: 1483(302.532) 138s\n",
      "       7138     9.9855866995e-01 Pr: 1482(103.197) 146s\n",
      "       7369     9.9871365122e-01 Pr: 1566(265.315) 156s\n",
      "       7606     9.9882860772e-01 Pr: 1472(86.677) 165s\n",
      "       7728     9.9891339668e-01 Pr: 1496(878.873) 170s\n",
      "       7923     9.9901941027e-01 Pr: 1456(1721.98) 176s\n",
      "       8226     9.9914775363e-01 Pr: 1418(75.021) 187s\n",
      "       8442     9.9925406566e-01 Pr: 1412(119.182) 196s\n",
      "       8624     9.9932015804e-01 Pr: 1441(215.672) 204s\n",
      "       8785     9.9937652808e-01 Pr: 1415(261.967) 210s\n",
      "       8907     9.9942985585e-01 Pr: 1501(246.495) 215s\n",
      "       9076     9.9948613221e-01 Pr: 1448(81.1997) 224s\n",
      "       9261     9.9954337239e-01 Pr: 1457(985.646) 233s\n",
      "       9531     9.9962273380e-01 Pr: 1416(88.9211) 243s\n",
      "       9739     9.9967834630e-01 Pr: 1449(108.928) 251s\n",
      "       9970     9.9972607964e-01 Pr: 1442(99.2605) 260s\n",
      "      10116     9.9976126930e-01 Pr: 1425(107.942) 265s\n",
      "      10330     9.9979791017e-01 Pr: 1471(370.145) 275s\n",
      "      10504     9.9982383456e-01 Pr: 1348(115.018); Du: 0(3.78288e-08) 284s\n",
      "      10714     9.9986054627e-01 Pr: 1469(211.631) 292s\n",
      "      10891     9.9988335760e-01 Pr: 1411(175.554) 301s\n",
      "      11110     9.9990979463e-01 Pr: 1308(20.6668) 310s\n",
      "      11369     9.9993677859e-01 Pr: 998(5.89273); Du: 0(2.64832e-08) 320s\n",
      "      11511     9.9994802681e-01 Pr: 1231(16.6043) 325s\n",
      "      11772     9.9997087819e-01 Pr: 1377(41.8498) 335s\n",
      "      11945     9.9998432172e-01 Pr: 1338(32.5423) 344s\n",
      "      12181     9.9999401979e-01 Pr: 1256(19.4153) 353s\n",
      "      12379     1.0000017319e+00 Pr: 860(3.55858); Du: 0(9.60897e-08) 362s\n",
      "      12599     1.0000071993e+00 Pr: 266(0.261105) 371s\n",
      "      12784     1.0000096987e+00 Pr: 249(0.231847) 381s\n",
      "      12948     1.0000000000e+00 Pr: 0(0) 386s\n",
      "      12948     1.0000000000e+00 Pr: 0(0) 386s\n",
      "      12948     1.0000000000e+00 Pr: 0(0) 386s\n",
      "Model   status      : Optimal\n",
      "Simplex   iterations: 12948\n",
      "Objective value     :  1.0000000000e+00\n",
      "HiGHS run time      :        386.81\n",
      "387.443928 seconds (41.84 k allocations: 374.751 MiB, 0.02% gc time)\n"
     ]
    }
   ],
   "source": [
    "@time optimize!(vector_model)"
   ]
  },
  {
   "cell_type": "code",
   "execution_count": 68,
   "id": "7de8b607",
   "metadata": {},
   "outputs": [
    {
     "name": "stdout",
     "output_type": "stream",
     "text": [
      " 11.472737 seconds (200.69 M allocations: 18.406 GiB, 24.70% gc time, 0.24% compilation time)\n"
     ]
    },
    {
     "data": {
      "text/plain": [
       "0.006356875869242094"
      ]
     },
     "execution_count": 68,
     "metadata": {},
     "output_type": "execute_result"
    }
   ],
   "source": [
    "w_lp = [value(x[i]) for i in 1:n_nash]\n",
    "w_lp = w_lp./sum(w_lp);\n",
    "w = w_lp;\n",
    "@time evs = [eval_battle_list2(ff, nash_env[w .> 0], w[w.> 0]) for ff in env];\n",
    "maximum(evs)"
   ]
  },
  {
   "cell_type": "code",
   "execution_count": 69,
   "id": "6f77920b",
   "metadata": {},
   "outputs": [
    {
     "data": {
      "text/plain": [
       "1231"
      ]
     },
     "execution_count": 69,
     "metadata": {},
     "output_type": "execute_result"
    }
   ],
   "source": [
    "sum(w .> 0)"
   ]
  },
  {
   "cell_type": "code",
   "execution_count": 70,
   "id": "2483eac5",
   "metadata": {},
   "outputs": [
    {
     "name": "stdout",
     "output_type": "stream",
     "text": [
      "\u001b[1m20×9 DataFrame\u001b[0m\n",
      "\u001b[1m Row \u001b[0m│\u001b[1m name   \u001b[0m\u001b[1m h     \u001b[0m\u001b[1m f     \u001b[0m\u001b[1m l     \u001b[0m\u001b[1m p     \u001b[0m\u001b[1m r     \u001b[0m\u001b[1m s     \u001b[0m\u001b[1m a1    \u001b[0m\u001b[1m w          \u001b[0m\n",
      "     │\u001b[90m String \u001b[0m\u001b[90m Int64 \u001b[0m\u001b[90m Int64 \u001b[0m\u001b[90m Int64 \u001b[0m\u001b[90m Int64 \u001b[0m\u001b[90m Int64 \u001b[0m\u001b[90m Int64 \u001b[0m\u001b[90m Int64 \u001b[0m\u001b[90m Float64    \u001b[0m\n",
      "─────┼─────────────────────────────────────────────────────────────────────\n",
      "   1 │             7      1      5      9      3      9    999  0.00416185\n",
      "   2 │             9      3      3      9      5      9    999  0.00411995\n",
      "   3 │             7      2      7      3      1      1    999  0.00364905\n",
      "   4 │             3      5      2      9      6      7    999  0.00347259\n",
      "   5 │             1      7      1      3      7      7    999  0.0033478\n",
      "   6 │             2      6      3      8      3      7    999  0.00328024\n",
      "   7 │             9      4      2      4      3      9    999  0.00323382\n",
      "   8 │             7      1      7      2      2      2    999  0.00308478\n",
      "   9 │             4      5      1      2      8      9    999  0.00306474\n",
      "  10 │             5      8      8      1      4      3    999  0.00305725\n",
      "  11 │             5      2      8      8      8      4    999  0.00304348\n",
      "  12 │             9      1      5      8      3      5    999  0.00303929\n",
      "  13 │             2      6      8      6      9      2    999  0.00286098\n",
      "  14 │             8      6      3      2      1      1    999  0.00285158\n",
      "  15 │             5      9      8      1      2      4    999  0.00282932\n",
      "  16 │             8      1      5      4      9      6    999  0.00280724\n",
      "  17 │             3      5      2      6      9      7    999  0.00275658\n",
      "  18 │             5      1      9      8      3      6    999  0.00271873\n",
      "  19 │             5      1      9      2      5      7    999  0.00268632\n",
      "  20 │             8      4      5      1      6      2    999  0.00266395"
     ]
    }
   ],
   "source": [
    "df = spuds_to_df(nash_env[w .> 0]);\n",
    "df[:, :w] = w[w .> 0];\n",
    "print(df[sortperm(-df.w)[1:20], :])"
   ]
  },
  {
   "cell_type": "code",
   "execution_count": 73,
   "id": "278daec4",
   "metadata": {},
   "outputs": [
    {
     "data": {
      "text/plain": [
       "\"temp_desL_sq100.csv\""
      ]
     },
     "execution_count": 73,
     "metadata": {},
     "output_type": "execute_result"
    }
   ],
   "source": [
    "df[:, :name] .= \"nn\"\n",
    "CSV.write(\"temp_desL_sq100.csv\", df)"
   ]
  },
  {
   "cell_type": "markdown",
   "id": "08b63785",
   "metadata": {},
   "source": [
    "## Generating p.win data by brute force"
   ]
  },
  {
   "cell_type": "code",
   "execution_count": 81,
   "id": "ff33b6b7",
   "metadata": {},
   "outputs": [
    {
     "data": {
      "text/plain": [
       "531441"
      ]
     },
     "execution_count": 81,
     "metadata": {},
     "output_type": "execute_result"
    }
   ],
   "source": [
    "length(lib)"
   ]
  },
  {
   "cell_type": "markdown",
   "id": "62a09da5",
   "metadata": {},
   "source": [
    "Round 1 of filtering"
   ]
  },
  {
   "cell_type": "code",
   "execution_count": 88,
   "id": "894a94a8",
   "metadata": {},
   "outputs": [
    {
     "name": "stdout",
     "output_type": "stream",
     "text": [
      " 40.534909 seconds (769.61 M allocations: 66.847 GiB, 23.68% gc time, 0.06% compilation time)\n"
     ]
    }
   ],
   "source": [
    "ref = [rand(lib) for i in 1:100]\n",
    "@time scores = [eval_battle_list(ff, ref) for ff in lib];\n",
    "scores = scores./length(ref);\n",
    "scores_rep0 = scores;"
   ]
  },
  {
   "cell_type": "code",
   "execution_count": 89,
   "id": "a2df6f09",
   "metadata": {},
   "outputs": [
    {
     "name": "stdout",
     "output_type": "stream",
     "text": [
      " 41.490495 seconds (770.64 M allocations: 66.924 GiB, 22.88% gc time, 0.07% compilation time)\n"
     ]
    }
   ],
   "source": [
    "ref = [rand(lib) for i in 1:100]\n",
    "@time scores = [eval_battle_list(ff, ref) for ff in lib];\n",
    "scores = scores./length(ref);\n",
    "scores_rep1 = scores;"
   ]
  },
  {
   "cell_type": "code",
   "execution_count": 90,
   "id": "f8c4323b",
   "metadata": {},
   "outputs": [
    {
     "data": {
      "text/plain": [
       "0.44"
      ]
     },
     "execution_count": 90,
     "metadata": {},
     "output_type": "execute_result"
    }
   ],
   "source": [
    "maximum(map(abs, scores_rep1 - scores_rep0))"
   ]
  },
  {
   "cell_type": "code",
   "execution_count": 91,
   "id": "8b095c33",
   "metadata": {},
   "outputs": [],
   "source": [
    "scores = (scores_rep0 .+ scores_rep1) .* 0.5;"
   ]
  },
  {
   "cell_type": "code",
   "execution_count": 92,
   "id": "cc99e8d1",
   "metadata": {},
   "outputs": [
    {
     "data": {
      "text/plain": [
       "327125"
      ]
     },
     "execution_count": 92,
     "metadata": {},
     "output_type": "execute_result"
    }
   ],
   "source": [
    "# filter library step 1\n",
    "lib2 = lib[scores .>= - 0.5 .&& scores .<=  0.5]\n",
    "length(lib2)"
   ]
  },
  {
   "cell_type": "markdown",
   "id": "e57ad9c1",
   "metadata": {},
   "source": [
    "Round 2 of filtering"
   ]
  },
  {
   "cell_type": "code",
   "execution_count": 87,
   "id": "70513351",
   "metadata": {},
   "outputs": [
    {
     "name": "stdout",
     "output_type": "stream",
     "text": [
      " 76.811622 seconds (1.44 G allocations: 124.878 GiB, 19.24% gc time, 0.03% compilation time)\n"
     ]
    }
   ],
   "source": [
    "ref = [rand(lib) for i in 1:500]\n",
    "@time scores = [eval_battle_list(ff, ref) for ff in lib2];\n",
    "scores = scores./length(ref);\n",
    "scores_rep0 = scores;"
   ]
  },
  {
   "cell_type": "code",
   "execution_count": 88,
   "id": "71d57788",
   "metadata": {},
   "outputs": [
    {
     "name": "stdout",
     "output_type": "stream",
     "text": [
      " 80.277977 seconds (1.44 G allocations: 125.079 GiB, 18.60% gc time, 0.03% compilation time)\n"
     ]
    }
   ],
   "source": [
    "ref = [rand(lib) for i in 1:500]\n",
    "@time scores = [eval_battle_list(ff, ref) for ff in lib2];\n",
    "scores = scores./length(ref);\n",
    "scores_rep1 = scores;"
   ]
  },
  {
   "cell_type": "code",
   "execution_count": 89,
   "id": "1317ac3a",
   "metadata": {},
   "outputs": [
    {
     "data": {
      "text/plain": [
       "0.21999999999999997"
      ]
     },
     "execution_count": 89,
     "metadata": {},
     "output_type": "execute_result"
    }
   ],
   "source": [
    "maximum(map(abs, scores_rep1 - scores_rep0))"
   ]
  },
  {
   "cell_type": "code",
   "execution_count": 90,
   "id": "fe6991d1",
   "metadata": {},
   "outputs": [],
   "source": [
    "scores = (scores_rep0 .+ scores_rep1) .* 0.5;"
   ]
  },
  {
   "cell_type": "code",
   "execution_count": 91,
   "id": "ad4bdedf",
   "metadata": {},
   "outputs": [
    {
     "data": {
      "text/plain": [
       "138759"
      ]
     },
     "execution_count": 91,
     "metadata": {},
     "output_type": "execute_result"
    }
   ],
   "source": [
    "lib3 = lib2[scores .>= - 0.2 .&& scores .<= 0.2]\n",
    "length(lib3)"
   ]
  },
  {
   "cell_type": "markdown",
   "id": "ebc496b3",
   "metadata": {},
   "source": [
    "Round 3"
   ]
  },
  {
   "cell_type": "code",
   "execution_count": 92,
   "id": "0491e826",
   "metadata": {},
   "outputs": [
    {
     "name": "stdout",
     "output_type": "stream",
     "text": [
      "111.213163 seconds (2.02 G allocations: 175.472 GiB, 18.40% gc time, 0.02% compilation time)\n"
     ]
    }
   ],
   "source": [
    "ref = [rand(lib) for i in 1:1000]\n",
    "@time scores = [eval_battle_list(ff, ref) for ff in lib3];\n",
    "scores = scores./length(ref);\n",
    "scores_rep0 = scores;"
   ]
  },
  {
   "cell_type": "code",
   "execution_count": 93,
   "id": "51193c39",
   "metadata": {},
   "outputs": [
    {
     "name": "stdout",
     "output_type": "stream",
     "text": [
      "112.697692 seconds (2.02 G allocations: 175.081 GiB, 17.65% gc time, 0.02% compilation time)\n"
     ]
    }
   ],
   "source": [
    "ref = [rand(lib) for i in 1:1000]\n",
    "@time scores = [eval_battle_list(ff, ref) for ff in lib3];\n",
    "scores = scores./length(ref);\n",
    "scores_rep1 = scores;"
   ]
  },
  {
   "cell_type": "code",
   "execution_count": 94,
   "id": "3682e584",
   "metadata": {},
   "outputs": [
    {
     "data": {
      "text/plain": [
       "0.15600000000000003"
      ]
     },
     "execution_count": 94,
     "metadata": {},
     "output_type": "execute_result"
    }
   ],
   "source": [
    "maximum(map(abs, scores_rep1 - scores_rep0))"
   ]
  },
  {
   "cell_type": "code",
   "execution_count": 95,
   "id": "5d8e4462",
   "metadata": {},
   "outputs": [],
   "source": [
    "scores = (scores_rep0 .+ scores_rep1) .* 0.5;"
   ]
  },
  {
   "cell_type": "code",
   "execution_count": 96,
   "id": "2538621e",
   "metadata": {},
   "outputs": [
    {
     "data": {
      "text/plain": [
       "70351"
      ]
     },
     "execution_count": 96,
     "metadata": {},
     "output_type": "execute_result"
    }
   ],
   "source": [
    "lib4 = lib3[scores .>= - 0.1 .&& scores .<= 0.1]\n",
    "length(lib4)"
   ]
  },
  {
   "cell_type": "markdown",
   "id": "390c4c35",
   "metadata": {},
   "source": [
    "Round 4"
   ]
  },
  {
   "cell_type": "code",
   "execution_count": 98,
   "id": "378153b1",
   "metadata": {},
   "outputs": [
    {
     "name": "stdout",
     "output_type": "stream",
     "text": [
      "106.849612 seconds (2.05 G allocations: 177.827 GiB, 17.55% gc time, 0.02% compilation time)\n"
     ]
    }
   ],
   "source": [
    "ref = [rand(lib) for i in 1:2000]\n",
    "@time scores = [eval_battle_list(ff, ref) for ff in lib4];\n",
    "scores = scores./length(ref);\n",
    "scores_rep0 = scores;"
   ]
  },
  {
   "cell_type": "code",
   "execution_count": 99,
   "id": "a99855e2",
   "metadata": {},
   "outputs": [
    {
     "name": "stdout",
     "output_type": "stream",
     "text": [
      "105.142988 seconds (2.05 G allocations: 177.716 GiB, 17.51% gc time, 0.02% compilation time)\n"
     ]
    }
   ],
   "source": [
    "ref = [rand(lib) for i in 1:2000]\n",
    "@time scores = [eval_battle_list(ff, ref) for ff in lib4];\n",
    "scores = scores./length(ref);\n",
    "scores_rep1 = scores;"
   ]
  },
  {
   "cell_type": "code",
   "execution_count": 100,
   "id": "1680f11e",
   "metadata": {},
   "outputs": [],
   "source": [
    "scores = (scores_rep0 .+ scores_rep1) .* 0.5;"
   ]
  },
  {
   "cell_type": "code",
   "execution_count": 101,
   "id": "4193861e",
   "metadata": {},
   "outputs": [
    {
     "data": {
      "text/plain": [
       "0.135"
      ]
     },
     "execution_count": 101,
     "metadata": {},
     "output_type": "execute_result"
    }
   ],
   "source": [
    "maximum(map(abs, scores_rep1 - scores_rep0))"
   ]
  },
  {
   "cell_type": "code",
   "execution_count": 102,
   "id": "2ce191fb",
   "metadata": {},
   "outputs": [
    {
     "data": {
      "text/plain": [
       "34520"
      ]
     },
     "execution_count": 102,
     "metadata": {},
     "output_type": "execute_result"
    }
   ],
   "source": [
    "lib5 = lib4[scores .>= - 0.05 .&& scores .<= 0.05]\n",
    "length(lib5)"
   ]
  },
  {
   "cell_type": "markdown",
   "id": "a67dfb8a",
   "metadata": {},
   "source": [
    "## Evaluate internal fitness"
   ]
  },
  {
   "cell_type": "code",
   "execution_count": 93,
   "id": "b0413cc1",
   "metadata": {},
   "outputs": [],
   "source": [
    "df = spuds_to_df(lib2);"
   ]
  },
  {
   "cell_type": "code",
   "execution_count": 94,
   "id": "8b6b5f4b",
   "metadata": {},
   "outputs": [
    {
     "name": "stdout",
     "output_type": "stream",
     "text": [
      "488.959264 seconds (9.53 G allocations: 826.715 GiB, 20.27% gc time, 0.00% compilation time)\n"
     ]
    },
    {
     "data": {
      "text/plain": [
       "327125-element Vector{Float64}:\n",
       " -0.531\n",
       " -0.523\n",
       " -0.516\n",
       " -0.508\n",
       " -0.502\n",
       " -0.514\n",
       " -0.503\n",
       " -0.493\n",
       " -0.512\n",
       " -0.508\n",
       " -0.5\n",
       " -0.495\n",
       " -0.488\n",
       "  ⋮\n",
       "  0.416\n",
       "  0.4305\n",
       "  0.444\n",
       "  0.449\n",
       "  0.409\n",
       "  0.42\n",
       "  0.434\n",
       "  0.415\n",
       "  0.421\n",
       "  0.423\n",
       "  0.426\n",
       "  0.429"
      ]
     },
     "execution_count": 94,
     "metadata": {},
     "output_type": "execute_result"
    }
   ],
   "source": [
    "libsub = [rand(lib) for i in 1:2000];\n",
    "@time evs = [eval_battle_list(ff, libsub) for ff in lib2];\n",
    "w = evs./length(libsub);\n",
    "df[:, :vsAll] = w"
   ]
  },
  {
   "cell_type": "code",
   "execution_count": 95,
   "id": "e461de6b",
   "metadata": {},
   "outputs": [
    {
     "name": "stdout",
     "output_type": "stream",
     "text": [
      "490.564353 seconds (9.59 G allocations: 831.670 GiB, 19.31% gc time, 0.01% compilation time)\n"
     ]
    }
   ],
   "source": [
    "libsub = [rand(lib5) for i in 1:2000];\n",
    "@time evs = [eval_battle_list(ff, libsub) for ff in lib2];\n",
    "w = evs./length(libsub);\n",
    "df[:, :vsSel] = w;"
   ]
  },
  {
   "cell_type": "code",
   "execution_count": 96,
   "id": "e7cebc9c",
   "metadata": {},
   "outputs": [
    {
     "data": {
      "text/plain": [
       "\"temp_desL_evs_vs_zeroset.csv\""
      ]
     },
     "execution_count": 96,
     "metadata": {},
     "output_type": "execute_result"
    }
   ],
   "source": [
    "CSV.write(\"temp_desL_evs_vs_zeroset.csv\", df)"
   ]
  },
  {
   "cell_type": "code",
   "execution_count": 103,
   "id": "9df9ded2",
   "metadata": {},
   "outputs": [
    {
     "data": {
      "text/plain": [
       "0.5902085747392816"
      ]
     },
     "execution_count": 103,
     "metadata": {},
     "output_type": "execute_result"
    }
   ],
   "source": [
    "ff = Spud(\"\", 3, 7, 1, 1, 9, 9, 999)\n",
    "eval_battle_list(ff, lib5)/length(lib5)"
   ]
  },
  {
   "cell_type": "code",
   "execution_count": 104,
   "id": "cff2c425",
   "metadata": {},
   "outputs": [
    {
     "data": {
      "text/plain": [
       "0.583082271147161"
      ]
     },
     "execution_count": 104,
     "metadata": {},
     "output_type": "execute_result"
    }
   ],
   "source": [
    "ff = Spud(\"\", 9, 7, 2, 2, 2, 4, 999)\n",
    "eval_battle_list(ff, lib5)/length(lib5)"
   ]
  },
  {
   "cell_type": "code",
   "execution_count": 109,
   "id": "b0a67c1e",
   "metadata": {},
   "outputs": [
    {
     "data": {
      "text/plain": [
       "0.3447276940903824"
      ]
     },
     "execution_count": 109,
     "metadata": {},
     "output_type": "execute_result"
    }
   ],
   "source": [
    "ff = Spud(\"\", 9, 7, 1, 1, 1, 1, 999)\n",
    "eval_battle_list(ff, lib5)/length(lib5)"
   ]
  },
  {
   "cell_type": "markdown",
   "id": "04242c9b",
   "metadata": {},
   "source": [
    "## Use regression coeffs to predict Zero-Zero set"
   ]
  },
  {
   "cell_type": "code",
   "execution_count": 49,
   "id": "eaf321d4",
   "metadata": {},
   "outputs": [],
   "source": [
    "df = CSV.read(\"temp_desL_init_zerosubset.csv\", DataFrame);\n",
    "df[!, :name] .= \"noname\"\n",
    "lib5 = df_to_spuds(df);"
   ]
  },
  {
   "cell_type": "code",
   "execution_count": 50,
   "id": "74bd3c0b",
   "metadata": {},
   "outputs": [
    {
     "data": {
      "text/plain": [
       "-0.017145835567824085"
      ]
     },
     "execution_count": 50,
     "metadata": {},
     "output_type": "execute_result"
    }
   ],
   "source": [
    "ff = rand(lib5)\n",
    "ev = eval_battle_list(ff, lib)/length(lib)"
   ]
  },
  {
   "cell_type": "code",
   "execution_count": 51,
   "id": "d7d9d9c2",
   "metadata": {},
   "outputs": [],
   "source": [
    "using MAT"
   ]
  },
  {
   "cell_type": "code",
   "execution_count": 52,
   "id": "dcce9fc8",
   "metadata": {},
   "outputs": [
    {
     "data": {
      "text/plain": [
       "Dict{String, Any} with 3 entries:\n",
       "  \"b0\" => -0.528944\n",
       "  \"b2\" => [0.0 0.0 … 0.0 0.0; 0.0 0.0 … 0.0 0.0; … ; 0.0 0.0 … 0.0 0.0; 0.00190…\n",
       "  \"b1\" => [0.0 0.0 … 0.0 0.0; 0.0 0.0 … 0.0 0.0; … ; 0.0 0.0 … 0.0141574 0.0152…"
      ]
     },
     "execution_count": 52,
     "metadata": {},
     "output_type": "execute_result"
    }
   ],
   "source": [
    "vars = matread(\"temp_desL_regress.mat\")"
   ]
  },
  {
   "cell_type": "code",
   "execution_count": 53,
   "id": "394be1b1",
   "metadata": {},
   "outputs": [
    {
     "data": {
      "text/plain": [
       "predict_ev (generic function with 2 methods)"
      ]
     },
     "execution_count": 53,
     "metadata": {},
     "output_type": "execute_result"
    }
   ],
   "source": [
    "b0 = vars[\"b0\"];\n",
    "b1 = vars[\"b1\"];\n",
    "b2 = vars[\"b2\"];\n",
    "\n",
    "function predict_ev(a::Spud, b0::Float64, b1::Array{Float64}, b2::Array{Float64})::Float64\n",
    "    s = b0\n",
    "    x = [a.h, a.f, a.l, a.p, a.r, a.s]\n",
    "    for i in 1:6\n",
    "        s += b1[i, x[i] + 1]\n",
    "    end\n",
    "    for i in 1:5\n",
    "        for j in (i+1):6\n",
    "            s += b2[i,j,x[i]+1,x[j]+1]\n",
    "        end\n",
    "    end\n",
    "    return s\n",
    "end"
   ]
  },
  {
   "cell_type": "code",
   "execution_count": 86,
   "id": "8f9e0155",
   "metadata": {},
   "outputs": [
    {
     "name": "stdout",
     "output_type": "stream",
     "text": [
      "Spud(\"\", 4, 1, 5, 6, 8, 3, 999)\n"
     ]
    },
    {
     "data": {
      "text/plain": [
       "-0.3595682845475866"
      ]
     },
     "execution_count": 86,
     "metadata": {},
     "output_type": "execute_result"
    }
   ],
   "source": [
    "ff = rand(lib)\n",
    "println(ff)\n",
    "predict_ev(ff,b0,b1,b2)"
   ]
  },
  {
   "cell_type": "code",
   "execution_count": 87,
   "id": "a267125a",
   "metadata": {},
   "outputs": [
    {
     "name": "stdout",
     "output_type": "stream",
     "text": [
      "  0.041915 seconds (503.35 k allocations: 44.723 MiB, 38.19% gc time)\n"
     ]
    },
    {
     "data": {
      "text/plain": [
       "-0.8001738122827347"
      ]
     },
     "execution_count": 87,
     "metadata": {},
     "output_type": "execute_result"
    }
   ],
   "source": [
    "@time ev = eval_battle_list(ff, lib5)/length(lib5)"
   ]
  },
  {
   "cell_type": "markdown",
   "id": "087dc935",
   "metadata": {},
   "source": [
    "## Evaluating cost tolerance\n",
    "\n",
    "In Spud-Part system, some excess cost will be introduced due to limitation of finite part set.  How much excess cost can be tolerated?  This depends on how well Spuds with slightly lower value do against Spuds with maximum value."
   ]
  },
  {
   "cell_type": "code",
   "execution_count": 23,
   "id": "998d5de5",
   "metadata": {},
   "outputs": [],
   "source": [
    "using MAT\n",
    "scores = matread(\"scores_sq300.mat\")[\"scores\"];"
   ]
  },
  {
   "cell_type": "code",
   "execution_count": 24,
   "id": "6a7a383c",
   "metadata": {},
   "outputs": [
    {
     "data": {
      "text/plain": [
       "get_spuds_with_value (generic function with 1 method)"
      ]
     },
     "execution_count": 24,
     "metadata": {},
     "output_type": "execute_result"
    }
   ],
   "source": [
    "function get_spuds_with_value(scores::Array{Int64}, v::Int64)::Array{Spud}\n",
    "    inds = findall(scores .== v)\n",
    "    return map(x -> Spud(\"spud\",x[1],x[2],x[3],x[4],x[5],x[6],ability_none), inds)\n",
    "end\n"
   ]
  },
  {
   "cell_type": "code",
   "execution_count": 32,
   "id": "f5c9074c",
   "metadata": {},
   "outputs": [
    {
     "name": "stdout",
     "output_type": "stream",
     "text": [
      "  4.389596 seconds (72.02 M allocations: 13.797 GiB, 22.07% gc time)\n"
     ]
    },
    {
     "data": {
      "text/plain": [
       "0.1037700673086007"
      ]
     },
     "execution_count": 32,
     "metadata": {},
     "output_type": "execute_result"
    }
   ],
   "source": [
    "setA = get_spuds_with_value(scores, 100)\n",
    "setB = get_spuds_with_value(scores, 90)\n",
    "@time rf = ffp2(setA, setB, 100000);\n",
    "rf.v"
   ]
  },
  {
   "cell_type": "code",
   "execution_count": 38,
   "id": "589ec2da",
   "metadata": {},
   "outputs": [
    {
     "name": "stdout",
     "output_type": "stream",
     "text": [
      "\u001b[1m20×9 DataFrame\u001b[0m\n",
      "\u001b[1m Row \u001b[0m│\u001b[1m name   \u001b[0m\u001b[1m h     \u001b[0m\u001b[1m f     \u001b[0m\u001b[1m l     \u001b[0m\u001b[1m p     \u001b[0m\u001b[1m r     \u001b[0m\u001b[1m s     \u001b[0m\u001b[1m a1    \u001b[0m\u001b[1m w          \u001b[0m\n",
      "     │\u001b[90m String \u001b[0m\u001b[90m Int64 \u001b[0m\u001b[90m Int64 \u001b[0m\u001b[90m Int64 \u001b[0m\u001b[90m Int64 \u001b[0m\u001b[90m Int64 \u001b[0m\u001b[90m Int64 \u001b[0m\u001b[90m Int64 \u001b[0m\u001b[90m Float64    \u001b[0m\n",
      "─────┼─────────────────────────────────────────────────────────────────────\n",
      "   1 │ spud        8      5      1      6      6      4    999  0.0065973\n",
      "   2 │ spud        5      2      8      6      5      6    999  0.0064309\n",
      "   3 │ spud        8      4      2      4      8      8    999  0.00634281\n",
      "   4 │ spud        7      1      6      6      2      6    999  0.00588276\n",
      "   5 │ spud        9      4      2      1      8      8    999  0.0058436\n",
      "   6 │ spud        4      9      3      3      7      3    999  0.00562826\n",
      "   7 │ spud        6      4      4      2      6      8    999  0.00549122\n",
      "   8 │ spud        9      3      4      1      9      5    999  0.00547165\n",
      "   9 │ spud        2      7      5      5      5      6    999  0.00537377\n",
      "  10 │ spud        3      6      5      1      9      6    999  0.00526609\n",
      "  11 │ spud        2      5      7      3      6      9    999  0.00526609\n",
      "  12 │ spud        5      1      7      8      9      8    999  0.00516821\n",
      "  13 │ spud        5      8      3      8      1      3    999  0.00504096\n",
      "  14 │ spud        2      7      3      6      9      2    999  0.00502139\n",
      "  15 │ spud        9      3      4      7      8      3    999  0.00493329\n",
      "  16 │ spud        6      3      7      7      3      3    999  0.00490393\n",
      "  17 │ spud        9      3      3      3      9      9    999  0.00477668\n",
      "  18 │ spud        7      5      4      4      1      5    999  0.00469837\n",
      "  19 │ spud        7      2      5      9      4      6    999  0.00464943\n",
      "  20 │ spud        4      6      6      2      4      7    999  0.00464943\n"
     ]
    }
   ],
   "source": [
    "df = spuds_to_df(setA)\n",
    "df[:, :w] = rf.w1\n",
    "println(df[sortperm(-rf.w1), :][1:20, :])"
   ]
  },
  {
   "cell_type": "code",
   "execution_count": 39,
   "id": "1760a716",
   "metadata": {},
   "outputs": [
    {
     "name": "stdout",
     "output_type": "stream",
     "text": [
      "\u001b[1m20×9 DataFrame\u001b[0m\n",
      "\u001b[1m Row \u001b[0m│\u001b[1m name   \u001b[0m\u001b[1m h     \u001b[0m\u001b[1m f     \u001b[0m\u001b[1m l     \u001b[0m\u001b[1m p     \u001b[0m\u001b[1m r     \u001b[0m\u001b[1m s     \u001b[0m\u001b[1m a1    \u001b[0m\u001b[1m w          \u001b[0m\n",
      "     │\u001b[90m String \u001b[0m\u001b[90m Int64 \u001b[0m\u001b[90m Int64 \u001b[0m\u001b[90m Int64 \u001b[0m\u001b[90m Int64 \u001b[0m\u001b[90m Int64 \u001b[0m\u001b[90m Int64 \u001b[0m\u001b[90m Int64 \u001b[0m\u001b[90m Float64    \u001b[0m\n",
      "─────┼─────────────────────────────────────────────────────────────────────\n",
      "   1 │ spud        9      4      3      7      1      4    999  0.00807099\n",
      "   2 │ spud        5      6      8      2      4      2    999  0.00782641\n",
      "   3 │ spud        5      1      8      3      2      8    999  0.00753292\n",
      "   4 │ spud        8      4      2      3      6      7    999  0.00613395\n",
      "   5 │ spud        2      8      6      1      8      5    999  0.00593829\n",
      "   6 │ spud        6      1      7      2      8      3    999  0.00590894\n",
      "   7 │ spud        3      7      1      6      3      6    999  0.00582089\n",
      "   8 │ spud        8      4      4      2      9      2    999  0.0057035\n",
      "   9 │ spud        1      4      8      9      7      8    999  0.00566436\n",
      "  10 │ spud        6      5      1      7      5      5    999  0.00554697\n",
      "  11 │ spud        6      3      6      4      1      6    999  0.00541979\n",
      "  12 │ spud        4      3      8      2      9      6    999  0.00541001\n",
      "  13 │ spud        1      5      1      8      6      7    999  0.00541001\n",
      "  14 │ spud        7      3      4      7      8      4    999  0.00503825\n",
      "  15 │ spud        3      8      7      4      7      2    999  0.00482303\n",
      "  16 │ spud        6      3      7      1      1      4    999  0.00478389\n",
      "  17 │ spud        7      4      2      5      5      8    999  0.00476433\n",
      "  18 │ spud        4      6      2      1      7      7    999  0.0046665\n",
      "  19 │ spud        7      3      6      2      5      1    999  0.0046078\n",
      "  20 │ spud        4      5      7      9      2      4    999  0.0046078\n"
     ]
    }
   ],
   "source": [
    "df = spuds_to_df(setB)\n",
    "df[:, :w] = rf.w2\n",
    "println(df[sortperm(-rf.w2), :][1:20, :])"
   ]
  },
  {
   "cell_type": "code",
   "execution_count": 30,
   "id": "54d988fd",
   "metadata": {},
   "outputs": [
    {
     "name": "stdout",
     "output_type": "stream",
     "text": [
      "  4.325736 seconds (71.79 M allocations: 13.765 GiB, 21.75% gc time)\n"
     ]
    },
    {
     "data": {
      "text/plain": [
       "0.05070903260299929"
      ]
     },
     "execution_count": 30,
     "metadata": {},
     "output_type": "execute_result"
    }
   ],
   "source": [
    "setA = get_spuds_with_value(scores, 100)\n",
    "setB = get_spuds_with_value(scores, 95)\n",
    "@time rf = ffp2(setA, setB, 100000);\n",
    "rf.v"
   ]
  },
  {
   "cell_type": "code",
   "execution_count": 40,
   "id": "194f4f9a",
   "metadata": {},
   "outputs": [
    {
     "name": "stdout",
     "output_type": "stream",
     "text": [
      "  4.384748 seconds (73.84 M allocations: 14.045 GiB, 20.98% gc time)\n"
     ]
    },
    {
     "data": {
      "text/plain": [
       "0.21293981993245564"
      ]
     },
     "execution_count": 40,
     "metadata": {},
     "output_type": "execute_result"
    }
   ],
   "source": [
    "setA = get_spuds_with_value(scores, 100)\n",
    "setB = get_spuds_with_value(scores, 80)\n",
    "@time rf = ffp2(setA, setB, 100000);\n",
    "rf.v"
   ]
  },
  {
   "cell_type": "code",
   "execution_count": 41,
   "id": "b1523d49",
   "metadata": {},
   "outputs": [
    {
     "name": "stdout",
     "output_type": "stream",
     "text": [
      "  4.475329 seconds (75.76 M allocations: 14.299 GiB, 21.18% gc time)\n"
     ]
    },
    {
     "data": {
      "text/plain": [
       "0.11376641711383198"
      ]
     },
     "execution_count": 41,
     "metadata": {},
     "output_type": "execute_result"
    }
   ],
   "source": [
    "setA = get_spuds_with_value(scores, 90)\n",
    "setB = get_spuds_with_value(scores, 80)\n",
    "@time rf = ffp2(setA, setB, 100000);\n",
    "rf.v"
   ]
  },
  {
   "cell_type": "code",
   "execution_count": 42,
   "id": "aa24befc",
   "metadata": {},
   "outputs": [
    {
     "name": "stdout",
     "output_type": "stream",
     "text": [
      "  4.435088 seconds (75.26 M allocations: 14.232 GiB, 20.61% gc time)\n"
     ]
    },
    {
     "data": {
      "text/plain": [
       "0.05511890657614109"
      ]
     },
     "execution_count": 42,
     "metadata": {},
     "output_type": "execute_result"
    }
   ],
   "source": [
    "setA = get_spuds_with_value(scores, 90)\n",
    "setB = get_spuds_with_value(scores, 85)\n",
    "@time rf = ffp2(setA, setB, 100000);\n",
    "rf.v"
   ]
  },
  {
   "cell_type": "code",
   "execution_count": 43,
   "id": "a65eeab5",
   "metadata": {},
   "outputs": [
    {
     "name": "stdout",
     "output_type": "stream",
     "text": [
      "  4.490807 seconds (76.87 M allocations: 14.450 GiB, 20.26% gc time)\n"
     ]
    },
    {
     "data": {
      "text/plain": [
       "0.043252058226426124"
      ]
     },
     "execution_count": 43,
     "metadata": {},
     "output_type": "execute_result"
    }
   ],
   "source": [
    "setA = get_spuds_with_value(scores, 92)\n",
    "setB = get_spuds_with_value(scores, 88)\n",
    "@time rf = ffp2(setA, setB, 100000);\n",
    "rf.v"
   ]
  },
  {
   "cell_type": "code",
   "execution_count": 44,
   "id": "7b339c2d",
   "metadata": {},
   "outputs": [
    {
     "name": "stdout",
     "output_type": "stream",
     "text": [
      "  4.518490 seconds (78.26 M allocations: 14.632 GiB, 20.43% gc time)\n"
     ]
    },
    {
     "data": {
      "text/plain": [
       "0.047295715833653225"
      ]
     },
     "execution_count": 44,
     "metadata": {},
     "output_type": "execute_result"
    }
   ],
   "source": [
    "setA = get_spuds_with_value(scores, 82)\n",
    "setB = get_spuds_with_value(scores, 78)\n",
    "@time rf = ffp2(setA, setB, 100000);\n",
    "rf.v"
   ]
  },
  {
   "cell_type": "code",
   "execution_count": 45,
   "id": "9f3bc60a",
   "metadata": {},
   "outputs": [
    {
     "name": "stdout",
     "output_type": "stream",
     "text": [
      "  4.490150 seconds (77.82 M allocations: 14.570 GiB, 20.01% gc time)\n"
     ]
    },
    {
     "data": {
      "text/plain": [
       "0.053791816192003426"
      ]
     },
     "execution_count": 45,
     "metadata": {},
     "output_type": "execute_result"
    }
   ],
   "source": [
    "setA = get_spuds_with_value(scores, 72)\n",
    "setB = get_spuds_with_value(scores, 68)\n",
    "@time rf = ffp2(setA, setB, 100000);\n",
    "rf.v"
   ]
  },
  {
   "cell_type": "code",
   "execution_count": 46,
   "id": "7848828a",
   "metadata": {},
   "outputs": [
    {
     "name": "stdout",
     "output_type": "stream",
     "text": [
      "  4.937574 seconds (88.66 M allocations: 16.014 GiB, 19.50% gc time)\n"
     ]
    },
    {
     "data": {
      "text/plain": [
       "0.054492030235373606"
      ]
     },
     "execution_count": 46,
     "metadata": {},
     "output_type": "execute_result"
    }
   ],
   "source": [
    "setA = get_spuds_with_value(scores, 62)\n",
    "setB = get_spuds_with_value(scores, 58)\n",
    "@time rf = ffp2(setA, setB, 100000);\n",
    "rf.v"
   ]
  },
  {
   "cell_type": "code",
   "execution_count": 47,
   "id": "a84d7126",
   "metadata": {},
   "outputs": [
    {
     "name": "stdout",
     "output_type": "stream",
     "text": [
      "\u001b[1m20×9 DataFrame\u001b[0m\n",
      "\u001b[1m Row \u001b[0m│\u001b[1m name   \u001b[0m\u001b[1m h     \u001b[0m\u001b[1m f     \u001b[0m\u001b[1m l     \u001b[0m\u001b[1m p     \u001b[0m\u001b[1m r     \u001b[0m\u001b[1m s     \u001b[0m\u001b[1m a1    \u001b[0m\u001b[1m w          \u001b[0m\n",
      "     │\u001b[90m String \u001b[0m\u001b[90m Int64 \u001b[0m\u001b[90m Int64 \u001b[0m\u001b[90m Int64 \u001b[0m\u001b[90m Int64 \u001b[0m\u001b[90m Int64 \u001b[0m\u001b[90m Int64 \u001b[0m\u001b[90m Int64 \u001b[0m\u001b[90m Float64    \u001b[0m\n",
      "─────┼─────────────────────────────────────────────────────────────────────\n",
      "   1 │ spud        2      5      5      3      5      8    999  0.0118974\n",
      "   2 │ spud        7      5      2      3      3      3    999  0.0110776\n",
      "   3 │ spud        7      5      1      4      2      4    999  0.0103651\n",
      "   4 │ spud        7      2      4      5      8      3    999  0.0103163\n",
      "   5 │ spud        3      6      5      7      5      2    999  0.0101699\n",
      "   6 │ spud        1      5      6      6      6      5    999  0.0100626\n",
      "   7 │ spud        5      3      5      8      3      5    999  0.00993568\n",
      "   8 │ spud        6      3      5      2      5      4    999  0.00989664\n",
      "   9 │ spud        7      1      4      8      1      7    999  0.00970144\n",
      "  10 │ spud        5      7      2      2      6      2    999  0.00962336\n",
      "  11 │ spud        6      6      2      8      2      1    999  0.00955504\n",
      "  12 │ spud        7      5      3      5      2      1    999  0.00952576\n",
      "  13 │ spud        5      4      5      6      7      2    999  0.00947696\n",
      "  14 │ spud        3      6      4      3      6      5    999  0.00937936\n",
      "  15 │ spud        5      5      4      1      2      8    999  0.00899872\n",
      "  16 │ spud        2      7      5      6      6      1    999  0.00891088\n",
      "  17 │ spud        1      5      5      1      8      7    999  0.008784\n",
      "  18 │ spud        2      6      5      5      3      6    999  0.00872544\n",
      "  19 │ spud        6      4      3      5      6      4    999  0.00854\n",
      "  20 │ spud        5      5      2      6      7      3    999  0.00818864\n"
     ]
    }
   ],
   "source": [
    "df = spuds_to_df(setA)\n",
    "df[:, :w] = rf.w1\n",
    "println(df[sortperm(-rf.w1), :][1:20, :])"
   ]
  },
  {
   "cell_type": "code",
   "execution_count": 48,
   "id": "9fbed7ac",
   "metadata": {},
   "outputs": [
    {
     "name": "stdout",
     "output_type": "stream",
     "text": [
      "\u001b[1m20×9 DataFrame\u001b[0m\n",
      "\u001b[1m Row \u001b[0m│\u001b[1m name   \u001b[0m\u001b[1m h     \u001b[0m\u001b[1m f     \u001b[0m\u001b[1m l     \u001b[0m\u001b[1m p     \u001b[0m\u001b[1m r     \u001b[0m\u001b[1m s     \u001b[0m\u001b[1m a1    \u001b[0m\u001b[1m w          \u001b[0m\n",
      "     │\u001b[90m String \u001b[0m\u001b[90m Int64 \u001b[0m\u001b[90m Int64 \u001b[0m\u001b[90m Int64 \u001b[0m\u001b[90m Int64 \u001b[0m\u001b[90m Int64 \u001b[0m\u001b[90m Int64 \u001b[0m\u001b[90m Int64 \u001b[0m\u001b[90m Float64    \u001b[0m\n",
      "─────┼─────────────────────────────────────────────────────────────────────\n",
      "   1 │ spud        6      6      1      1      1      4    999  0.0211991\n",
      "   2 │ spud        2      6      5      3      6      5    999  0.019334\n",
      "   3 │ spud        5      6      2      1      1      8    999  0.0176057\n",
      "   4 │ spud        7      5      1      1      1      5    999  0.0150474\n",
      "   5 │ spud        6      1      5      8      7      2    999  0.0140807\n",
      "   6 │ spud        5      1      5      4      6      8    999  0.0132897\n",
      "   7 │ spud        5      2      6      8      2      4    999  0.01162\n",
      "   8 │ spud        2      5      6      6      1      7    999  0.0115321\n",
      "   9 │ spud        5      3      5      8      2      5    999  0.0109364\n",
      "  10 │ spud        7      5      2      2      2      3    999  0.0107704\n",
      "  11 │ spud        6      4      4      1      1      7    999  0.0105751\n",
      "  12 │ spud        3      5      5      6      7      3    999  0.0102822\n",
      "  13 │ spud        7      4      3      4      2      4    999  0.0102041\n",
      "  14 │ spud        6      4      4      3      3      5    999  0.0101162\n",
      "  15 │ spud        7      4      2      1      1      8    999  0.0100088\n",
      "  16 │ spud        2      7      4      5      5      3    999  0.00966702\n",
      "  17 │ spud        5      5      2      5      6      4    999  0.00946197\n",
      "  18 │ spud        2      6      4      2      4      8    999  0.0089835\n",
      "  19 │ spud        7      5      2      4      5      1    999  0.00886632\n",
      "  20 │ spud        5      7      2      7      2      1    999  0.00856362\n"
     ]
    }
   ],
   "source": [
    "df = spuds_to_df(setB)\n",
    "df[:, :w] = rf.w2\n",
    "println(df[sortperm(-rf.w2), :][1:20, :])"
   ]
  },
  {
   "cell_type": "code",
   "execution_count": null,
   "id": "a6ee0582",
   "metadata": {},
   "outputs": [],
   "source": []
  }
 ],
 "metadata": {
  "kernelspec": {
   "display_name": "Julia 1.9.3",
   "language": "julia",
   "name": "julia-1.9"
  },
  "language_info": {
   "file_extension": ".jl",
   "mimetype": "application/julia",
   "name": "julia",
   "version": "1.9.3"
  }
 },
 "nbformat": 4,
 "nbformat_minor": 5
}

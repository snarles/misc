{
 "cells": [
  {
   "cell_type": "markdown",
   "id": "052be005",
   "metadata": {},
   "source": [
    "Design of a new game, Spuds"
   ]
  },
  {
   "cell_type": "code",
   "execution_count": 1,
   "id": "494818e8",
   "metadata": {},
   "outputs": [],
   "source": [
    "using Random\n",
    "using DataFrames\n",
    "using CSV\n",
    "using Statistics\n",
    "using Printf\n",
    "using LinearAlgebra"
   ]
  },
  {
   "cell_type": "code",
   "execution_count": 2,
   "id": "1e1008a1",
   "metadata": {},
   "outputs": [
    {
     "data": {
      "text/plain": [
       "cost (generic function with 1 method)"
      ]
     },
     "execution_count": 2,
     "metadata": {},
     "output_type": "execute_result"
    }
   ],
   "source": [
    "struct Spud\n",
    "    name::String\n",
    "    h::Int64\n",
    "    f::Int64\n",
    "    l::Int64\n",
    "    p::Int64\n",
    "    r::Int64\n",
    "    s::Int64\n",
    "end\n",
    "\n",
    "const MXS = 100\n",
    "const MXV = 20\n",
    "const MNV = 1\n",
    "\n",
    "function cost(h::Int64, f::Int64, l::Int64, p::Int64, r::Int64, s::Int64)::Int64\n",
    "    #return h*(f+l-2*MNV) + f*(p+r+s-3*MNV) + h+f+l+p+r+s-6*MNV\n",
    "    return h*(f+l) + f*(p+r+s)\n",
    "end"
   ]
  },
  {
   "cell_type": "code",
   "execution_count": 3,
   "id": "ac830f74",
   "metadata": {},
   "outputs": [
    {
     "data": {
      "text/plain": [
       "eval_battle (generic function with 1 method)"
      ]
     },
     "execution_count": 3,
     "metadata": {},
     "output_type": "execute_result"
    }
   ],
   "source": [
    "function eval_battle(a::Spud, b::Spud)::Int\n",
    "    a_finds = a.f >= b.h\n",
    "    b_finds = b.f >= a.h\n",
    "    #score_a = 4 * (1000*a.p + a.l > 1000*b.p+b.l) + 3 * (1000*a.r+a.l > 1000*b.r+b.l) + 2 * (1000*a.s+a.l > 1000*b.s+b.l)\n",
    "    #score_b = 4 * (1000*a.p + a.l < 1000*b.p+b.l) + 3 * (1000*a.r+a.l < 1000*b.r+b.l) + 2 * (1000*a.s+a.l < 1000*b.s+b.l)\n",
    "    score_a = 4 * (a.p > b.p) + 3 * (a.r > b.r) + 2 * (a.s > b.s)\n",
    "    score_b = 4 * (a.p < b.p) + 3 * (a.r < b.r) + 2 * (a.s < b.s)\n",
    "    melee_win = sign(score_a - score_b)\n",
    "    if a_finds && b_finds\n",
    "        tiebreaker = 4 * melee_win + 2 * sign(a.l - b.l) + sign(a.h - b.h)\n",
    "        return sign(tiebreaker)\n",
    "    end\n",
    "    if a_finds && !b_finds\n",
    "        return 1\n",
    "    end\n",
    "    if !a_finds && b_finds\n",
    "        return -1\n",
    "    end\n",
    "    if !a_finds && !b_finds\n",
    "        tiebreaker = 4 * sign(a.l - b.l) + 2 * melee_win + sign(a.f - b.f)\n",
    "        return sign(tiebreaker)\n",
    "    end\n",
    "end\n"
   ]
  },
  {
   "cell_type": "code",
   "execution_count": 42,
   "id": "40b9dc47",
   "metadata": {},
   "outputs": [
    {
     "data": {
      "text/plain": [
       "random_name_and_stat (generic function with 1 method)"
      ]
     },
     "execution_count": 42,
     "metadata": {},
     "output_type": "execute_result"
    }
   ],
   "source": [
    "tab = CSV.read(\"census_yob2022_names.txt\", DataFrame, header = false)\n",
    "names = tab.Column1\n",
    "adjectives = CSV.read(\"adjectives.csv\", DataFrame)\n",
    "nouns = CSV.read(\"nouns.csv\", DataFrame)\n",
    "jobs = CSV.read(\"jobs.csv\", DataFrame)\n",
    "\n",
    "function random_name_and_stat()::Spud\n",
    "    vp = [0, 0, 0, 0, 0, 0]\n",
    "    #nametype = rand([1,1,1,1,1,2,2,2,3])\n",
    "    name = \"\"\n",
    "    noun = \"\"\n",
    "    adj = \"\"\n",
    "    noun_i = rand(1:nrow(nouns))\n",
    "    noun = nouns[noun_i, :noun]\n",
    "    vp[1] = vp[1] + nouns[noun_i, :H]\n",
    "    vp[2] = vp[2] + nouns[noun_i, :F]\n",
    "    vp[3] = vp[3] + nouns[noun_i, :L]\n",
    "    vp[4] = vp[4] + nouns[noun_i, :P]    \n",
    "    vp[5] = vp[5] + nouns[noun_i, :R]\n",
    "    vp[6] = vp[6] + nouns[noun_i, :S]    \n",
    "    adj_i = rand(1:nrow(adjectives))\n",
    "    adj = adjectives[adj_i, :adjective]\n",
    "    vp[1] = vp[1] + adjectives[adj_i, :H]\n",
    "    vp[2] = vp[2] + adjectives[adj_i, :F]\n",
    "    vp[3] = vp[3] + adjectives[adj_i, :L]\n",
    "    vp[4] = vp[4] + adjectives[adj_i, :P]\n",
    "    vp[5] = vp[5] + adjectives[adj_i, :R]\n",
    "    vp[6] = vp[6] + adjectives[adj_i, :S]\n",
    "    job_i = rand(1:nrow(jobs))\n",
    "    job = jobs[job_i, :job]\n",
    "    vp[1] = vp[1] + jobs[job_i, :H]\n",
    "    vp[2] = vp[2] + jobs[job_i, :F]\n",
    "    vp[3] = vp[3] + jobs[job_i, :L]\n",
    "    vp[4] = vp[4] + jobs[job_i, :P]\n",
    "    vp[5] = vp[5] + jobs[job_i, :R]\n",
    "    vp[6] = vp[6] + jobs[job_i, :S]\n",
    "    name = string(adj, \" \", noun, \" the \", job)\n",
    "    Spud(name, vp[1], vp[2], vp[3], vp[4], vp[5], vp[6])\n",
    "end"
   ]
  },
  {
   "cell_type": "code",
   "execution_count": 27,
   "id": "f606e085",
   "metadata": {},
   "outputs": [
    {
     "data": {
      "text/plain": [
       "rand_rename (generic function with 2 methods)"
      ]
     },
     "execution_count": 27,
     "metadata": {},
     "output_type": "execute_result"
    }
   ],
   "source": [
    "function rand_rename(a::Spud, n_tries::Int = 100)::Spud\n",
    "    best_score = 0.0\n",
    "    best_b = random_name_and_stat()\n",
    "    for ii in 1:n_tries\n",
    "        b = random_name_and_stat()\n",
    "        b_norm = sqrt(b.h^2 + b.f^2 + b.l^2 + b.p^2 + b.r^2 + b.s^2)\n",
    "        score = (a.h * b.h + a.f * b.f + a.l * b.l + a.p * b.p + a.r * b.r + a.s * b.s)/b_norm\n",
    "        if score > best_score\n",
    "            best_score = score\n",
    "            best_b = b\n",
    "        end\n",
    "    end\n",
    "    return Spud(best_b.name, a.h, a.f, a.l, a.p, a.r, a.s)\n",
    "end"
   ]
  },
  {
   "cell_type": "code",
   "execution_count": 28,
   "id": "560e9539",
   "metadata": {},
   "outputs": [
    {
     "data": {
      "text/plain": [
       "random_team (generic function with 1 method)"
      ]
     },
     "execution_count": 28,
     "metadata": {},
     "output_type": "execute_result"
    }
   ],
   "source": [
    "function eval_battle_list(a::Spud, bs::Array{Spud})::Int\n",
    "    score = 0\n",
    "    for ii in 1:length(bs)\n",
    "        score = score + eval_battle(a, bs[ii])\n",
    "    end\n",
    "    return score\n",
    "end\n",
    "\n",
    "function eval_battle_list2(a::Spud, bs::Array{Spud}, w::Vector{Float64})::AbstractFloat\n",
    "    score = 0.0\n",
    "    for ii in 1:length(bs)\n",
    "        score = score + w[ii] * eval_battle(a, bs[ii])\n",
    "    end\n",
    "    return score\n",
    "end\n",
    "\n",
    "\n",
    "function pick_best(as::Array{Spud}, bs::Array{Spud})::Spud\n",
    "    bestscore = -999\n",
    "    bestf = as[1]\n",
    "    for ii in 1:length(as)\n",
    "        score = eval_battle_list(as[ii], bs)\n",
    "        if score > bestscore\n",
    "            bestscore = score\n",
    "            bestf = as[ii]\n",
    "        end\n",
    "    end\n",
    "    return bestf\n",
    "end\n",
    "\n",
    "function pick_best_rdmly(as::Array{Spud}, bs::Array{Spud}, ntries::Int)::Spud\n",
    "    bestscore = -999\n",
    "    bestf = rand(as)\n",
    "    for ii in 1:ntries\n",
    "        f = rand(as)\n",
    "        score = eval_battle_list(f, bs)\n",
    "        if score > bestscore\n",
    "            bestscore = score\n",
    "            bestf = f\n",
    "        end\n",
    "    end\n",
    "    return bestf\n",
    "end\n",
    "\n",
    "function pick_best_rdmly_g(g::Function, bs::Array{Spud}, ntries::Int)::Spud\n",
    "    bestscore = -999\n",
    "    bestf = g()\n",
    "    for ii in 1:ntries\n",
    "        f = g()\n",
    "        score = eval_battle_list(f, bs)\n",
    "        if score > bestscore\n",
    "            bestscore = score\n",
    "            bestf = f\n",
    "        end\n",
    "    end\n",
    "    return bestf\n",
    "end\n",
    "\n",
    "function spuds_to_df(as::Array{Spud})::DataFrame\n",
    "    names = Array{String}(undef, length(as))\n",
    "    hs = Array{Int}(undef, length(as))\n",
    "    fs = Array{Int}(undef, length(as))\n",
    "    ls = Array{Int}(undef, length(as))\n",
    "    ps = Array{Int}(undef, length(as))\n",
    "    rs = Array{Int}(undef, length(as))\n",
    "    ss = Array{Int}(undef, length(as))\n",
    "    for ii in 1:length(as)\n",
    "        names[ii] = as[ii].name\n",
    "        hs[ii] = as[ii].h\n",
    "        fs[ii] = as[ii].f\n",
    "        ls[ii] = as[ii].l\n",
    "        ps[ii] = as[ii].p\n",
    "        rs[ii] = as[ii].r\n",
    "        ss[ii] = as[ii].s\n",
    "    end\n",
    "    df = DataFrame(name = names, h = hs, f = fs, l = ls, p = ps, r = rs, s = ss)\n",
    "    return df\n",
    "end\n",
    "\n",
    "function fpart(x::AbstractFloat)::AbstractFloat\n",
    "  return x - trunc(x)\n",
    "end\n",
    "\n",
    "function eval_team_battle(as::Array{Spud}, bs::Array{Spud})::Int\n",
    "    a_i = 1\n",
    "    b_i = 1\n",
    "    while (a_i <= length(as)) && (b_i <= length(bs))\n",
    "        res = eval_battle(as[a_i], bs[b_i])\n",
    "        if res == 1\n",
    "            b_i = b_i + 1\n",
    "        else\n",
    "            a_i = a_i + 1\n",
    "            if res == 0\n",
    "                b_i = b_i + 1\n",
    "            end\n",
    "        end\n",
    "    end\n",
    "    a_out = (a_i > length(as))\n",
    "    b_out = (b_i > length(as))\n",
    "    if a_out\n",
    "        if b_out\n",
    "            return 0\n",
    "        else\n",
    "            return -1\n",
    "        end\n",
    "    else\n",
    "        return 1\n",
    "    end\n",
    "end\n",
    "\n",
    "function compare_generator(f1, f2, limit)\n",
    "    a_i = 1\n",
    "    b_i = 1\n",
    "    f_a = f1()\n",
    "    f_b = f2()\n",
    "    while (a_i < limit) && (b_i < limit)\n",
    "        res = eval_battle(f_a, f_b)\n",
    "        if res != -1\n",
    "            b_i = b_i + 1\n",
    "            f_b = f2()\n",
    "        end\n",
    "        if res != 1\n",
    "            a_i = a_i + 1\n",
    "            f_a = f1()\n",
    "        end\n",
    "    end\n",
    "    return (a_i/limit, b_i/limit)\n",
    "end\n",
    "\n",
    "function random_team(f::Function, team_size::Int)::Array{Spud}\n",
    "    team = Array{Spud}(undef, team_size)\n",
    "    for i in 1:team_size\n",
    "        team[i] = f()\n",
    "    end\n",
    "    return team\n",
    "end"
   ]
  },
  {
   "cell_type": "code",
   "execution_count": 29,
   "id": "46d273ba",
   "metadata": {},
   "outputs": [
    {
     "data": {
      "text/plain": [
       "pick_best_library (generic function with 1 method)"
      ]
     },
     "execution_count": 29,
     "metadata": {},
     "output_type": "execute_result"
    }
   ],
   "source": [
    "function upgrade_spud(sp::Spud)::Spud\n",
    "    h = sp.h\n",
    "    f = sp.f\n",
    "    l = sp.l\n",
    "    p = sp.p\n",
    "    r = sp.r\n",
    "    s = sp.s    \n",
    "    check_h = (f == MXV) || (cost(h,f+1,l,p,r,s) > MXS)\n",
    "    check_f = (h == MXV) || (cost(h+1,f,l,p,r,s) > MXS)\n",
    "    check_l = (l == MXV) || (cost(h,f,l+1,p,r,s) > MXS)\n",
    "    check_prs = (p+r+s == 3*MXV) || (cost(h,f,l,p+1,r,s) > MXS)\n",
    "    while !(check_h && check_f && check_l && check_prs)\n",
    "        rand_i = rand(1:4)\n",
    "        if rand_i == 1 && !check_h\n",
    "            h = h+1\n",
    "        end\n",
    "        if rand_i == 2 && !check_f\n",
    "            f = f+1\n",
    "        end\n",
    "        if rand_i == 3 && !check_l\n",
    "            l = l+1\n",
    "        end\n",
    "        if rand_i == 4 && !check_prs\n",
    "            rand_j = rand([1,1,1,1,1,2,2,2,2,3,3,3])\n",
    "            if rand_j == 1 && p <= MXV\n",
    "                p += 1\n",
    "            end\n",
    "            if rand_j == 2 && r <= MXV\n",
    "                r += 1\n",
    "            end\n",
    "            if rand_j == 3 && s <= MXV\n",
    "                s += 1\n",
    "            end\n",
    "        end            \n",
    "        check_h = (f == MXV) || (cost(h,f+1,l,p,r,s) > MXS)\n",
    "        check_f = (h == MXV) || (cost(h+1,f,l,p,r,s) > MXS)\n",
    "        check_l = (l == MXV) || (cost(h,f,l+1,p,r,s) > MXS)\n",
    "        check_prs = (p+r+s == 3*MXV) || (cost(h,f,l,p+1,r,s) > MXS)\n",
    "    end\n",
    "    return Spud(sp.name, h, f, l, p, r, s)\n",
    "end\n",
    "\n",
    "\n",
    "\n",
    "function pick_best_library(bs::Array{Spud})::Spud\n",
    "    bestscore = -999\n",
    "    bestf = Spud(\"\",MNV,MNV,MNV,MNV,MNV,MNV)\n",
    "    df = spuds_to_df(bs)\n",
    "    hrange = vcat([MNV], df.h, df.h .+ 1, df.f, df.f .+ 1)\n",
    "    frange = vcat([MNV], df.f, df.f .+ 1, df.h, df.h .+ 1)\n",
    "    lrange = vcat([MNV], df.l, df.l .+ 1)\n",
    "    prange = vcat([MNV], df.p, df.p .+ 1)\n",
    "    rrange = vcat([MNV], df.r, df.r .+ 1)\n",
    "    srange = vcat([MNV], df.s, df.s .+ 1)\n",
    "    hrange = sort(unique(hrange))\n",
    "    frange = sort(unique(frange))\n",
    "    lrange = sort(unique(lrange))\n",
    "    prange = sort(unique(prange))\n",
    "    rrange = sort(unique(rrange))\n",
    "    srange = sort(unique(srange))\n",
    "    for h in hrange\n",
    "        if (cost(h, MNV, MNV, MNV, MNV, MNV) < MXS)\n",
    "            for f in frange\n",
    "                if (cost(h, f, MNV, MNV, MNV, MNV) < MXS)\n",
    "                    for l in lrange\n",
    "                        if (cost(h, f, l, MNV, MNV, MNV) < MXS)\n",
    "                            for p in prange\n",
    "                                if (cost(h, f, l, p, MNV, MNV) < MXS)\n",
    "                                    for r in rrange\n",
    "                                        if (cost(h, f, l, p, r, MNV) < MXS)\n",
    "                                            for s in srange\n",
    "                                                if (cost(h,f,l,p,r,s) <= MXS)\n",
    "                                                    ff = Spud(\"\",h,f,l,p,r,s)\n",
    "                                                    score = eval_battle_list(ff, bs)\n",
    "                                                    if score > bestscore\n",
    "                                                        bestscore = score\n",
    "                                                        bestf = ff\n",
    "                                                    end\n",
    "                                                end\n",
    "                                            end\n",
    "                                        end\n",
    "                                    end                        \n",
    "                                end\n",
    "                            end                        \n",
    "                        end\n",
    "                    end\n",
    "                end\n",
    "            end\n",
    "        end\n",
    "    end\n",
    "    return upgrade_spud(bestf)\n",
    "end\n",
    "\n"
   ]
  },
  {
   "cell_type": "code",
   "execution_count": 30,
   "id": "21d87807",
   "metadata": {},
   "outputs": [
    {
     "data": {
      "text/plain": [
       "pick_ok_counter (generic function with 1 method)"
      ]
     },
     "execution_count": 30,
     "metadata": {},
     "output_type": "execute_result"
    }
   ],
   "source": [
    "function pick_ok_counter(bs::Array{Spud})::Spud\n",
    "    bestscore = -999\n",
    "    bestf = Spud(\"\",MNV,MNV,MNV,MNV,MNV,MNV)\n",
    "    df = spuds_to_df(bs)\n",
    "    hrange = vcat([MNV], df.f .+ 1)\n",
    "    frange = vcat([MNV], df.h .+ 1)\n",
    "    lrange = vcat([MNV], df.l .+ 1)\n",
    "    prange = vcat([MNV], df.p .+ 1)\n",
    "    rrange = vcat([MNV], df.r .+ 1)\n",
    "    srange = vcat([MNV], df.s .+ 1)\n",
    "    hrange = sort(unique(hrange))\n",
    "    frange = sort(unique(frange))\n",
    "    lrange = sort(unique(lrange))\n",
    "    prange = sort(unique(prange))\n",
    "    rrange = sort(unique(rrange))\n",
    "    srange = sort(unique(srange))\n",
    "    for h in hrange\n",
    "        if (cost(h, MNV, MNV, MNV, MNV, MNV) < MXS)\n",
    "            for f in frange\n",
    "                if (cost(h, f, MNV, MNV, MNV, MNV) < MXS)\n",
    "                    for l in lrange\n",
    "                        if (cost(h, f, l, MNV, MNV, MNV) < MXS)\n",
    "                            for p in prange\n",
    "                                if (cost(h, f, l, p, MNV, MNV) < MXS)\n",
    "                                    for r in rrange\n",
    "                                        if (cost(h, f, l, p, r, MNV) < MXS)\n",
    "                                            for s in srange\n",
    "                                                if (cost(h,f,l,p,r,s) <= MXS)\n",
    "                                                    ff = Spud(\"\",h,f,l,p,r,s)\n",
    "                                                    score = eval_battle_list(ff, bs)\n",
    "                                                    if score > bestscore\n",
    "                                                        bestscore = score\n",
    "                                                        bestf = ff\n",
    "                                                    end\n",
    "                                                end\n",
    "                                            end\n",
    "                                        end\n",
    "                                    end                        \n",
    "                                end\n",
    "                            end                        \n",
    "                        end\n",
    "                    end\n",
    "                end\n",
    "            end\n",
    "        end\n",
    "    end\n",
    "    return upgrade_spud(bestf)\n",
    "end\n"
   ]
  },
  {
   "cell_type": "code",
   "execution_count": 31,
   "id": "3bb9691b",
   "metadata": {},
   "outputs": [
    {
     "data": {
      "text/plain": [
       "pick_best_library2 (generic function with 1 method)"
      ]
     },
     "execution_count": 31,
     "metadata": {},
     "output_type": "execute_result"
    }
   ],
   "source": [
    "function pick_best_library2(bs::Array{Spud}, w::Vector{Float64})::Spud\n",
    "    bestscore = -999.0\n",
    "    bestf = Spud(\"\",MNV,MNV,MNV,MNV,MNV,MNV)\n",
    "    for h in MNV:MXV\n",
    "        if (cost(h, MXV, MXV, MXV, MXV, MXV) >= MXS) && (cost(h, MNV, MNV, MNV, MNV, MNV) < MXS)\n",
    "            for f in MNV:MXV\n",
    "                if (cost(h, f, MXV, MXV, MXV, MXV) >= MXS) && (cost(h, f, MNV, MNV, MNV, MNV) < MXS)\n",
    "                    for l in MNV:MXV\n",
    "                        if (cost(h, f, l, MXV, MXV, MXV) >= MXS) && (cost(h, f, l, MNV, MNV, MNV) < MXS)\n",
    "                            for p in MNV:MXV\n",
    "                                if (cost(h, f, l, p, MXV, MXV) >= MXS) && (cost(h, f, l, p, MNV, MNV) < MXS)\n",
    "                                    for r in MNV:MXV\n",
    "                                        if (cost(h, f, l, p, r, MXV) >= MXS) && (cost(h, f, l, p, r, MNV) < MXS)\n",
    "                                            for s in MNV:MXV\n",
    "                                                if (cost(h,f,l,p,r,s) <= MXS)\n",
    "                                                    check_f = (h == MXV) || (cost(h+1,f,l,p,r,s) > MXS)\n",
    "                                                    check_h = (f == MXV) || (cost(h,f+1,l,p,r,s) > MXS)\n",
    "                                                    check_l = (l == MXV) || (cost(h,f,l+1,p,r,s) > MXS)\n",
    "                                                    check_prs = (p+r+s == 3*MXV) || (cost(h,f,l,p+1,r,s) > MXS)\n",
    "                                                    if check_h && check_f && check_l && check_prs\n",
    "                                                        ff = Spud(\"\",h,f,l,p,r,s)\n",
    "                                                        score = eval_battle_list2(ff, bs, w)\n",
    "                                                        if score > bestscore\n",
    "                                                            bestscore = score\n",
    "                                                            bestf = ff\n",
    "                                                        end\n",
    "                                                    end\n",
    "                                                end\n",
    "                                            end\n",
    "                                        end\n",
    "                                    end                        \n",
    "                                end\n",
    "                            end                        \n",
    "                        end\n",
    "                    end\n",
    "                end\n",
    "            end\n",
    "        end\n",
    "    end\n",
    "    return bestf\n",
    "end"
   ]
  },
  {
   "cell_type": "code",
   "execution_count": 32,
   "id": "cc9560fa",
   "metadata": {},
   "outputs": [
    {
     "data": {
      "text/plain": [
       "0.001"
      ]
     },
     "execution_count": 32,
     "metadata": {},
     "output_type": "execute_result"
    }
   ],
   "source": [
    "# form initial library by subsampling indices\n",
    "library = Array{Spud}(undef, 1000)\n",
    "spud_i = 0\n",
    "ss_prob = 0.001"
   ]
  },
  {
   "cell_type": "code",
   "execution_count": 33,
   "id": "3febb950",
   "metadata": {},
   "outputs": [],
   "source": [
    "nrange = 5\n",
    "k = 5\n",
    "\n",
    "hrange = MNV:MXV\n",
    "frange = MNV:MXV\n",
    "lrange = MNV:MXV\n",
    "prange = MNV:MXV\n",
    "rrange = MNV:MXV\n",
    "srange = MNV:MXV\n",
    "\n",
    "for h in hrange\n",
    "    if (cost(h, MXV, MXV, MXV, MXV, MXV) >= MXS) && (cost(h, MNV, MNV, MNV, MNV, MNV) < MXS)\n",
    "        for f in frange\n",
    "            if (cost(h, f, MXV, MXV, MXV, MXV) >= MXS) && (cost(h, f, MNV, MNV, MNV, MNV) < MXS)\n",
    "                for l in lrange\n",
    "                    if (cost(h, f, l, MXV, MXV, MXV) >= MXS) && (cost(h, f, l, MNV, MNV, MNV) < MXS)\n",
    "                        for p in prange\n",
    "                            if (cost(h, f, l, p, MXV, MXV) >= MXS) && (cost(h, f, l, p, MNV, MNV) < MXS)\n",
    "                                for r in rrange\n",
    "                                    if (cost(h, f, l, p, r, MXV) >= MXS) && (cost(h, f, l, p, r, MNV) < MXS)\n",
    "                                        for s in srange\n",
    "                                            if rand() < ss_prob && (cost(h,f,l,p,r,s) <= MXS)\n",
    "                                                check_f = (h == MXV) || (cost(h+1,f,l,p,r,s) > MXS)\n",
    "                                                check_h = (f == MXV) || (cost(h,f+1,l,p,r,s) > MXS)\n",
    "                                                check_l = (l == MXV) || (cost(h,f,l+1,p,r,s) > MXS)\n",
    "                                                check_prs = (p+r+s == 3*MXV) || (cost(h,f,l,p+1,r,s) > MXS)\n",
    "                                                if check_h && check_f && check_l && check_prs\n",
    "                                                    spud_i += 1\n",
    "                                                    #randname = rand_rename(Spud(\" \",h,f,l,p,r,s)).name\n",
    "                                                    #name = string(\"#\", @sprintf(\"%i\", spud_i), \". \", randname)\n",
    "                                                    name = \"\"\n",
    "                                                    library[spud_i] = Spud(name,h,f,l,p,r,s)\n",
    "                                                end\n",
    "                                            end\n",
    "                                        end\n",
    "                                    end\n",
    "                                end                        \n",
    "                            end\n",
    "                        end                        \n",
    "                    end\n",
    "                end\n",
    "            end\n",
    "        end\n",
    "    end\n",
    "end\n"
   ]
  },
  {
   "cell_type": "code",
   "execution_count": 34,
   "id": "cfdbdf90",
   "metadata": {},
   "outputs": [
    {
     "data": {
      "text/plain": [
       "75"
      ]
     },
     "execution_count": 34,
     "metadata": {},
     "output_type": "execute_result"
    }
   ],
   "source": [
    "library = unique(library[1:spud_i])\n",
    "n_spuds = length(library)"
   ]
  },
  {
   "cell_type": "code",
   "execution_count": 35,
   "id": "c32fa15d",
   "metadata": {},
   "outputs": [],
   "source": [
    "for i in 1:n_spuds\n",
    "    ff = library[i]\n",
    "    randname = rand_rename(ff).name\n",
    "    name = string(\"#\", @sprintf(\"%i\", i), \". \", randname)\n",
    "    library[i] = Spud(name,ff.h,ff.f,ff.l,ff.p,ff.r,ff.s)\n",
    "end"
   ]
  },
  {
   "cell_type": "code",
   "execution_count": 36,
   "id": "1157316a",
   "metadata": {},
   "outputs": [
    {
     "data": {
      "text/plain": [
       "Dict{Spud, Int64} with 75 entries:\n",
       "  Spud(\"#72. political Kouign patatez  the Anesthetist\", 17, 1, 3, 14, 3,… => 72\n",
       "  Spud(\"#36. efficient Rewena bread  the Coast guard\", 4, 2, 8, 1, 15, 14) => 36\n",
       "  Spud(\"#13. efficient Rumbledethumps  the Cardiologist\", 2, 3, 2, 2, 14,… => 13\n",
       "  Spud(\"#32. special Pommes Anna  the Cashier\", 3, 4, 16, 1, 1, 8)         => 32\n",
       "  Spud(\"#26. unusual Aligot  the Coast guard\", 3, 3, 2, 16, 9, 3)          => 26\n",
       "  Spud(\"#61. pure Aligot  the Anesthetist\", 8, 2, 3, 17, 1, 12)            => 61\n",
       "  Spud(\"#22. confident Pitepalt  the Anesthetist\", 3, 2, 11, 13, 15, 2)    => 22\n",
       "  Spud(\"#39. scared Pitepalt  the Coast guard\", 4, 3, 3, 12, 11, 2)        => 39\n",
       "  Spud(\"#34. rare French fries  the Coast guard\", 4, 1, 16, 13, 5, 14)     => 34\n",
       "  Spud(\"#2. efficient Hash browns  the Coast guard\", 1, 2, 10, 11, 14, 19) => 2\n",
       "  Spud(\"#66. upper Rumbledethumps  the Anesthetist\", 11, 2, 3, 6, 5, 11)   => 66\n",
       "  Spud(\"#58. specific Aligot  the Anesthetist\", 7, 3, 4, 10, 2, 5)         => 58\n",
       "  Spud(\"#38. aware Hash browns  the Anesthetist\", 4, 3, 1, 8, 15, 5)       => 38\n",
       "  Spud(\"#50. comfortable Hash browns  the Anesthetist\", 6, 2, 4, 7, 9, 16) => 50\n",
       "  Spud(\"#18. normal Boulangère potatoes  the Anesthetist\", 3, 2, 2, 7, 20… => 18\n",
       "  Spud(\"#25. weak Rewena bread  the Anesthetist\", 3, 3, 1, 1, 9, 19)       => 25\n",
       "  Spud(\"#65. logical Kouign patatez  the Coast guard\", 10, 2, 4, 6, 1, 13) => 65\n",
       "  Spud(\"#28. afraid Aligot  the Coast guard\", 3, 3, 4, 16, 3, 7)           => 28\n",
       "  Spud(\"#46. logical Tartiflette  the Cashier\", 5, 4, 3, 4, 1, 11)         => 46\n",
       "  Spud(\"#55. tough Rumbledethumps  the Anesthetist\", 7, 2, 4, 10, 7, 12)   => 55\n",
       "  Spud(\"#37. firm Suan la tu dou si  the Cardiologist\", 4, 2, 15, 8, 6, 2) => 37\n",
       "  Spud(\"#24. smart Aligot  the Coast guard\", 3, 2, 16, 13, 7, 3)           => 24\n",
       "  Spud(\"#30. political Aligot  the Coast guard\", 3, 3, 8, 13, 1, 8)        => 30\n",
       "  Spud(\"#23. great Batata vada  the Cardiologist\", 3, 2, 16, 13, 6, 4)     => 23\n",
       "  Spud(\"#31. realistic Pommes Anna  the Cashier\", 3, 3, 16, 3, 8, 3)       => 31\n",
       "  ⋮                                                                        => ⋮"
      ]
     },
     "execution_count": 36,
     "metadata": {},
     "output_type": "execute_result"
    }
   ],
   "source": [
    "id_no = Dict(library[i] => i for i in 1:n_spuds)"
   ]
  },
  {
   "cell_type": "code",
   "execution_count": 37,
   "id": "52daa014",
   "metadata": {},
   "outputs": [],
   "source": [
    "# Check that there are no ties in spudland\n",
    "for iter in 1:10000\n",
    "    i = rand(1:n_spuds)\n",
    "    j = rand(1:n_spuds)\n",
    "    if i != j && eval_battle(library[i], library[j]) == 0\n",
    "        println(library[i])\n",
    "        println(library[j])\n",
    "        println()\n",
    "    end\n",
    "end"
   ]
  },
  {
   "cell_type": "markdown",
   "id": "4873490e",
   "metadata": {},
   "source": [
    "## Check exploitability"
   ]
  },
  {
   "cell_type": "code",
   "execution_count": 38,
   "id": "d3e07cf7",
   "metadata": {},
   "outputs": [
    {
     "data": {
      "text/plain": [
       "nashprox (generic function with 1 method)"
      ]
     },
     "execution_count": 38,
     "metadata": {},
     "output_type": "execute_result"
    }
   ],
   "source": [
    "function nashprox2(size, start_size, ns)\n",
    "    nash_env = Array{Spud}(undef, size)\n",
    "    nash_env[1:start_size] = random_team(() -> rand(library), start_size)\n",
    "    for j in (start_size+1):size\n",
    "        if j < ns\n",
    "            ff = pick_ok_counter(nash_env[1:(j-1)])\n",
    "            nash_env[j] = ff\n",
    "        else\n",
    "            ff = pick_ok_counter(randsubseq(nash_env[1:(j-1)], ns/j))\n",
    "            nash_env[j] = ff                \n",
    "        end\n",
    "    end\n",
    "    return nash_env\n",
    "end\n",
    "\n",
    "function nashprox(size, start_size, ns)\n",
    "    nash_env = Array{Spud}(undef, size)\n",
    "    nash_env[1:start_size] = random_team(() -> rand(library), start_size)\n",
    "    for j in (start_size+1):size\n",
    "        if j < ns\n",
    "            ff = pick_best_library(nash_env[1:(j-1)])\n",
    "            nash_env[j] = ff\n",
    "        else\n",
    "            ff = pick_best_library(randsubseq(nash_env[1:(j-1)], ns/j))\n",
    "            nash_env[j] = ff                \n",
    "        end\n",
    "    end\n",
    "    return nash_env\n",
    "end"
   ]
  },
  {
   "cell_type": "code",
   "execution_count": 39,
   "id": "b778cb19",
   "metadata": {},
   "outputs": [
    {
     "name": "stdout",
     "output_type": "stream",
     "text": [
      " 26.851045 seconds (113.85 M allocations: 3.406 GiB, 1.46% gc time, 0.12% compilation time)\n"
     ]
    },
    {
     "data": {
      "text/plain": [
       "394"
      ]
     },
     "execution_count": 39,
     "metadata": {},
     "output_type": "execute_result"
    }
   ],
   "source": [
    "@time nash_env = nashprox2(500, 20, 20)\n",
    "nash_env = unique(nash_env)\n",
    "#inds_nash = [id_no[ff] for ff in nash_env];\n",
    "#length(inds_nash)\n",
    "n_nash = length(nash_env)"
   ]
  },
  {
   "cell_type": "code",
   "execution_count": 40,
   "id": "855df30c",
   "metadata": {},
   "outputs": [
    {
     "name": "stdout",
     "output_type": "stream",
     "text": [
      " 10.147531 seconds (3.05 M allocations: 97.207 MiB, 0.11% gc time, 1.54% compilation time)\n"
     ]
    },
    {
     "data": {
      "text/plain": [
       "109"
      ]
     },
     "execution_count": 40,
     "metadata": {},
     "output_type": "execute_result"
    }
   ],
   "source": [
    "@time ff = pick_best_library(nash_env)\n",
    "eval_battle_list(ff, nash_env)"
   ]
  },
  {
   "cell_type": "code",
   "execution_count": 43,
   "id": "f9a7aff6",
   "metadata": {},
   "outputs": [
    {
     "name": "stdout",
     "output_type": "stream",
     "text": [
      "Spud(\"desperate Boulangère potatoes the Cashier\", 7, 9, 1, 1, 1, 1)\n"
     ]
    }
   ],
   "source": [
    "println(rand_rename(ff))\n",
    "#CSV.write(\"temp.csv\", spuds_to_df([rand_rename(fe) for fe in nash_env]))"
   ]
  },
  {
   "cell_type": "code",
   "execution_count": null,
   "id": "eddad184",
   "metadata": {},
   "outputs": [],
   "source": []
  },
  {
   "cell_type": "code",
   "execution_count": 44,
   "id": "b4b4e819",
   "metadata": {},
   "outputs": [
    {
     "name": "stdout",
     "output_type": "stream",
     "text": [
      " 25.141388 seconds (120.26 M allocations: 3.588 GiB, 1.68% gc time)\n"
     ]
    },
    {
     "data": {
      "text/plain": [
       "178"
      ]
     },
     "execution_count": 44,
     "metadata": {},
     "output_type": "execute_result"
    }
   ],
   "source": [
    "@time nash_env = nashprox(200, 1, 20)\n",
    "nash_env = unique(nash_env)\n",
    "#inds_nash = [id_no[ff] for ff in nash_env];\n",
    "#length(inds_nash)\n",
    "n_nash = length(nash_env)"
   ]
  },
  {
   "cell_type": "code",
   "execution_count": 45,
   "id": "f0e8dc91",
   "metadata": {},
   "outputs": [
    {
     "name": "stdout",
     "output_type": "stream",
     "text": [
      "  3.669744 seconds (2.48 M allocations: 75.772 MiB, 0.31% gc time)\n"
     ]
    },
    {
     "data": {
      "text/plain": [
       "140"
      ]
     },
     "execution_count": 45,
     "metadata": {},
     "output_type": "execute_result"
    }
   ],
   "source": [
    "@time ff = pick_best_library(nash_env)\n",
    "eval_battle_list(ff, nash_env)"
   ]
  },
  {
   "cell_type": "code",
   "execution_count": 46,
   "id": "84a8035a",
   "metadata": {
    "scrolled": false
   },
   "outputs": [],
   "source": [
    "# Verify 3-exploitability\n",
    "for i in 1:1000\n",
    "    #inds = sort([rand(inds_nash) for i in 1:3])\n",
    "    #rt = library[inds]\n",
    "    rt = random_team(() -> rand(nash_env), 3)\n",
    "    ff = pick_best_library(rt)\n",
    "    ev = eval_battle_list(ff, rt)\n",
    "    if ev < 3\n",
    "        println(rt)\n",
    "    end\n",
    "end\n"
   ]
  },
  {
   "cell_type": "code",
   "execution_count": 47,
   "id": "9f5eced7",
   "metadata": {
    "scrolled": false
   },
   "outputs": [
    {
     "name": "stdout",
     "output_type": "stream",
     "text": [
      "Spud[Spud(\"\", 5, 6, 3, 3, 2, 4), Spud(\"\", 10, 1, 6, 2, 22, 6), Spud(\"\", 8, 7, 2, 1, 2, 1), Spud(\"\", 4, 2, 11, 4, 18, 2)]\n",
      "2\n",
      "Spud[Spud(\"\", 1, 4, 1, 4, 13, 8), Spud(\"\", 9, 1, 9, 1, 4, 5), Spud(\"\", 7, 6, 1, 1, 3, 6), Spud(\"\", 6, 9, 1, 1, 2, 1)]\n",
      "2\n",
      "Spud[Spud(\"\", 5, 7, 1, 4, 1, 4), Spud(\"\", 5, 2, 11, 1, 19, 3), Spud(\"\", 8, 7, 1, 1, 1, 3), Spud(\"\", 10, 1, 6, 2, 22, 6)]\n",
      "2\n"
     ]
    }
   ],
   "source": [
    "# 4-exploitability?\n",
    "for i in 1:1000\n",
    "    #inds = sort([rand(inds_nash) for i in 1:3])\n",
    "    #rt = library[inds]\n",
    "    rt = random_team(() -> rand(nash_env), 4)\n",
    "    ff = pick_best_library(rt)\n",
    "    ev = eval_battle_list(ff, rt)\n",
    "    if ev < 4\n",
    "        println(rt)\n",
    "        println(ev)\n",
    "    end\n",
    "end\n"
   ]
  },
  {
   "cell_type": "code",
   "execution_count": 48,
   "id": "e417b44a",
   "metadata": {},
   "outputs": [],
   "source": [
    "#inds = sort([rand(1:n_spuds) for i in 1:5])\n",
    "#rt = library[inds]"
   ]
  },
  {
   "cell_type": "code",
   "execution_count": 49,
   "id": "a49d058e",
   "metadata": {},
   "outputs": [],
   "source": [
    "# rt = library[[1403,1902,2283,2397]]\n",
    "# rt"
   ]
  },
  {
   "cell_type": "markdown",
   "id": "68e3cf22",
   "metadata": {},
   "source": [
    "## Fictitious Play to compute Nash distribution"
   ]
  },
  {
   "cell_type": "code",
   "execution_count": 50,
   "id": "ada1403f",
   "metadata": {},
   "outputs": [
    {
     "ename": "LoadError",
     "evalue": "InterruptException:",
     "output_type": "error",
     "traceback": [
      "InterruptException:",
      "",
      "Stacktrace:",
      " [1] pick_best_library(bs::Vector{Spud})",
      "   @ Main ./In[29]:80",
      " [2] nashprox(size::Int64, start_size::Int64, ns::Int64)",
      "   @ Main ./In[38]:24",
      " [3] top-level scope",
      "   @ ./timing.jl:273 [inlined]",
      " [4] top-level scope",
      "   @ ./In[50]:0"
     ]
    }
   ],
   "source": [
    "@time nash_env = nashprox(4000, 10, 100)\n",
    "nash_env = unique(nash_env)\n",
    "#inds_nash = [id_no[ff] for ff in nash_env];\n",
    "#length(inds_nash)\n",
    "n_nash = length(nash_env)"
   ]
  },
  {
   "cell_type": "code",
   "execution_count": null,
   "id": "0d3e042b",
   "metadata": {},
   "outputs": [],
   "source": []
  },
  {
   "cell_type": "code",
   "execution_count": 153,
   "id": "78baa903",
   "metadata": {},
   "outputs": [],
   "source": [
    "i_lose = Array{Int}(undef, (n_nash, n_nash))\n",
    "n_lose = Array{Int}(undef, n_nash)\n",
    "for i in 1:n_nash\n",
    "    n_lose[i] = 0\n",
    "    ff = nash_env[i]\n",
    "    for j in 1:n_nash\n",
    "        if eval_battle(ff, nash_env[j]) ==-1\n",
    "            n_lose[i] += 1\n",
    "            i_lose[i, n_lose[i]] = j\n",
    "        end\n",
    "    end\n",
    "end"
   ]
  },
  {
   "cell_type": "code",
   "execution_count": 154,
   "id": "63d2b34e",
   "metadata": {},
   "outputs": [],
   "source": [
    "# initialize FP with 1 of each\n",
    "counts = [0 for i in 1:n_nash]\n",
    "wins = [0 for i in 1:n_nash]\n",
    "for i in 1:n_nash\n",
    "    counts[i] += 1\n",
    "    for j in 1:n_lose[i]\n",
    "        i_w = i_lose[i, j]\n",
    "        wins[i_w]+= 1\n",
    "    end\n",
    "end"
   ]
  },
  {
   "cell_type": "code",
   "execution_count": 155,
   "id": "b9ee5863",
   "metadata": {
    "scrolled": false
   },
   "outputs": [
    {
     "name": "stdout",
     "output_type": "stream",
     "text": [
      "Spud(\"\", 9, 10, 1, 1, 1, 1) n:2 w:1035\n",
      "Spud(\"\", 13, 6, 2, 1, 1, 1) n:235 w:10618\n",
      "Spud(\"\", 9, 7, 4, 1, 1, 1) n:90 w:20654\n",
      "Spud(\"\", 15, 1, 6, 3, 1, 2) n:565 w:30681\n",
      "Spud(\"\", 1, 7, 1, 1, 6, 7) n:266 w:40725\n",
      "Spud(\"\", 5, 11, 1, 2, 2, 2) n:356 w:50746\n",
      "Spud(\"\", 2, 9, 2, 5, 4, 1) n:272 w:60757\n",
      "Spud(\"\", 1, 7, 1, 8, 1, 5) n:632 w:70831\n",
      "Spud(\"\", 2, 14, 1, 3, 1, 3) n:596 w:80868\n",
      "Spud(\"\", 3, 6, 10, 5, 1, 3) n:1513 w:90906\n",
      "Spud(\"\", 5, 4, 9, 2, 5, 2) n:288 w:100925\n",
      "Spud(\"\", 6, 11, 1, 3, 1, 1) n:1317 w:110944\n",
      "Spud(\"\", 5, 4, 8, 6, 3, 1) n:318 w:120973\n",
      "Spud(\"\", 6, 13, 2, 1, 1, 1) n:3551 w:131027\n",
      "Spud(\"\", 7, 10, 1, 1, 2, 2) n:838 w:141075\n",
      "Spud(\"\", 10, 1, 8, 3, 2, 5) n:750 w:151124\n",
      "Spud(\"\", 2, 4, 14, 8, 1, 4) n:1200 w:161191\n",
      "Spud(\"\", 4, 2, 14, 4, 3, 5) n:1234 w:171225\n",
      "Spud(\"\", 9, 1, 10, 1, 1, 2) n:7296 w:181302\n",
      "Spud(\"\", 1, 13, 4, 4, 1, 3) n:1101 w:191329\n",
      "Spud(\"\", 9, 3, 5, 1, 5, 5) n:1149 w:201353\n",
      "Spud(\"\", 13, 5, 2, 1, 3, 2) n:1581 w:211379\n",
      "Spud(\"\", 13, 5, 2, 3, 1, 2) n:3510 w:221392\n",
      "Spud(\"\", 12, 1, 7, 3, 1, 4) n:979 w:231451\n",
      "Spud(\"\", 8, 6, 3, 1, 3, 3) n:3816 w:241457\n",
      "Spud(\"\", 7, 1, 12, 1, 2, 3) n:1788 w:251493\n",
      "Spud(\"\", 7, 1, 12, 3, 1, 2) n:2535 w:261522\n",
      "Spud(\"\", 13, 1, 7, 2, 1, 2) n:7866 w:271584\n",
      "Spud(\"\", 2, 12, 1, 5, 2, 1) n:1131 w:281630\n",
      "Spud(\"\", 7, 10, 1, 2, 1, 2) n:2272 w:291661\n",
      "Spud(\"\", 5, 14, 1, 1, 1, 2) n:1517 w:301695\n",
      "Spud(\"\", 8, 10, 1, 2, 1, 1) n:4172 w:311700\n",
      "Spud(\"\", 5, 8, 1, 2, 4, 3) n:1684 w:321728\n",
      "Spud(\"\", 6, 1, 12, 6, 3, 3) n:171 w:331792\n",
      "Spud(\"\", 4, 6, 8, 4, 3, 1) n:3150 w:341822\n",
      "Spud(\"\", 5, 1, 14, 4, 6, 2) n:3932 w:351846\n",
      "Spud(\"\", 3, 3, 13, 6, 6, 1) n:901 w:361887\n",
      "Spud(\"\", 10, 8, 2, 1, 1, 1) n:4343 w:371915\n",
      "Spud(\"\", 15, 1, 6, 3, 1, 2) n:6964 w:381947\n",
      "Spud(\"\", 1, 9, 3, 1, 5, 5) n:624 w:391996\n",
      "Spud(\"\", 15, 1, 6, 2, 2, 2) n:7418 w:402030\n",
      "Spud(\"\", 9, 1, 10, 1, 1, 2) n:16585 w:412063\n",
      "Spud(\"\", 5, 11, 1, 1, 3, 2) n:7679 w:422085\n",
      "Spud(\"\", 10, 1, 9, 2, 1, 1) n:15671 w:432109\n",
      "Spud(\"\", 10, 8, 2, 1, 1, 1) n:5171 w:442154\n",
      "Spud(\"\", 9, 3, 5, 1, 5, 5) n:2596 w:452189\n",
      "Spud(\"\", 13, 1, 7, 1, 2, 2) n:1563 w:462212\n",
      "Spud(\"\", 2, 5, 12, 6, 1, 5) n:4271 w:472239\n",
      "Spud(\"\", 4, 2, 14, 7, 2, 3) n:2179 w:482259\n",
      "Spud(\"\", 9, 1, 10, 1, 1, 2) n:19817 w:492286\n",
      "0.014453318710425775\n"
     ]
    },
    {
     "data": {
      "text/plain": [
       "1010287"
      ]
     },
     "execution_count": 155,
     "metadata": {},
     "output_type": "execute_result"
    }
   ],
   "source": [
    "nits = 500000\n",
    "for iter in 1:nits\n",
    "    ind_winners = findall(wins .== maximum(wins))\n",
    "    for i in ind_winners\n",
    "        counts[i] += 1\n",
    "        for j in 1:n_lose[i]\n",
    "            i_w = i_lose[i, j]\n",
    "            wins[i_w]+= 1\n",
    "        end\n",
    "    end\n",
    "    if mod1(iter, 10000) == 1\n",
    "        mxv, mxi = findmax(wins)\n",
    "        print(nash_env[mxi])\n",
    "        print(\" n:\")\n",
    "        print(counts[mxi])\n",
    "        print(\" w:\")\n",
    "        print(wins[mxi])\n",
    "        println()\n",
    "    end\n",
    "end\n",
    "\n",
    "w = counts./sum(counts)\n",
    "println(maximum([eval_battle_list2(ff, nash_env, w) for ff in nash_env]))\n",
    "sum(counts)"
   ]
  },
  {
   "cell_type": "code",
   "execution_count": 156,
   "id": "6f98e210",
   "metadata": {},
   "outputs": [
    {
     "name": "stdout",
     "output_type": "stream",
     "text": [
      "Spud(\"\", 16, 1, 5, 5, 5, 1)\n"
     ]
    },
    {
     "data": {
      "text/plain": [
       "0.03152866462698188"
      ]
     },
     "execution_count": 156,
     "metadata": {},
     "output_type": "execute_result"
    }
   ],
   "source": [
    "ff = pick_best_library2(nash_env, w)\n",
    "println(ff)\n",
    "eval_battle_list2(ff, nash_env, w)"
   ]
  },
  {
   "cell_type": "code",
   "execution_count": 110,
   "id": "8a375193",
   "metadata": {},
   "outputs": [
    {
     "data": {
      "text/html": [
       "<div><div style = \"float: left;\"><span>500×8 DataFrame</span></div><div style = \"float: right;\"><span style = \"font-style: italic;\">475 rows omitted</span></div><div style = \"clear: both;\"></div></div><div class = \"data-frame\" style = \"overflow-x: scroll;\"><table class = \"data-frame\" style = \"margin-bottom: 6px;\"><thead><tr class = \"header\"><th class = \"rowNumber\" style = \"font-weight: bold; text-align: right;\">Row</th><th style = \"text-align: left;\">name</th><th style = \"text-align: left;\">h</th><th style = \"text-align: left;\">f</th><th style = \"text-align: left;\">l</th><th style = \"text-align: left;\">p</th><th style = \"text-align: left;\">r</th><th style = \"text-align: left;\">s</th><th style = \"text-align: left;\">w</th></tr><tr class = \"subheader headerLastRow\"><th class = \"rowNumber\" style = \"font-weight: bold; text-align: right;\"></th><th title = \"String\" style = \"text-align: left;\">String</th><th title = \"Int64\" style = \"text-align: left;\">Int64</th><th title = \"Int64\" style = \"text-align: left;\">Int64</th><th title = \"Int64\" style = \"text-align: left;\">Int64</th><th title = \"Int64\" style = \"text-align: left;\">Int64</th><th title = \"Int64\" style = \"text-align: left;\">Int64</th><th title = \"Int64\" style = \"text-align: left;\">Int64</th><th title = \"Float64\" style = \"text-align: left;\">Float64</th></tr></thead><tbody><tr><td class = \"rowNumber\" style = \"font-weight: bold; text-align: right;\">1</td><td style = \"text-align: left;\">#6705. Potato Strips w/ scallion</td><td style = \"text-align: right;\">8</td><td style = \"text-align: right;\">10</td><td style = \"text-align: right;\">1</td><td style = \"text-align: right;\">1</td><td style = \"text-align: right;\">2</td><td style = \"text-align: right;\">1</td><td style = \"text-align: right;\">0.0341574</td></tr><tr><td class = \"rowNumber\" style = \"font-weight: bold; text-align: right;\">2</td><td style = \"text-align: left;\">#2813. Helen&apos;s Chips</td><td style = \"text-align: right;\">6</td><td style = \"text-align: right;\">1</td><td style = \"text-align: right;\">14</td><td style = \"text-align: right;\">2</td><td style = \"text-align: right;\">1</td><td style = \"text-align: right;\">2</td><td style = \"text-align: right;\">0.0266422</td></tr><tr><td class = \"rowNumber\" style = \"font-weight: bold; text-align: right;\">3</td><td style = \"text-align: left;\">#9066. Potato Soup w/ scallion</td><td style = \"text-align: right;\">14</td><td style = \"text-align: right;\">5</td><td style = \"text-align: right;\">2</td><td style = \"text-align: right;\">1</td><td style = \"text-align: right;\">2</td><td style = \"text-align: right;\">2</td><td style = \"text-align: right;\">0.0256009</td></tr><tr><td class = \"rowNumber\" style = \"font-weight: bold; text-align: right;\">4</td><td style = \"text-align: left;\">#6499. Potato Soup w/ ketchup</td><td style = \"text-align: right;\">8</td><td style = \"text-align: right;\">1</td><td style = \"text-align: right;\">10</td><td style = \"text-align: right;\">5</td><td style = \"text-align: right;\">2</td><td style = \"text-align: right;\">2</td><td style = \"text-align: right;\">0.0237062</td></tr><tr><td class = \"rowNumber\" style = \"font-weight: bold; text-align: right;\">5</td><td style = \"text-align: left;\">#3007. Helen&apos;s Mashed Potato</td><td style = \"text-align: right;\">11</td><td style = \"text-align: right;\">1</td><td style = \"text-align: right;\">8</td><td style = \"text-align: right;\">3</td><td style = \"text-align: right;\">1</td><td style = \"text-align: right;\">2</td><td style = \"text-align: right;\">0.0213634</td></tr><tr><td class = \"rowNumber\" style = \"font-weight: bold; text-align: right;\">6</td><td style = \"text-align: left;\">#7179. Potato Soup w/ onion</td><td style = \"text-align: right;\">11</td><td style = \"text-align: right;\">4</td><td style = \"text-align: right;\">3</td><td style = \"text-align: right;\">5</td><td style = \"text-align: right;\">2</td><td style = \"text-align: right;\">2</td><td style = \"text-align: right;\">0.0200976</td></tr><tr><td class = \"rowNumber\" style = \"font-weight: bold; text-align: right;\">7</td><td style = \"text-align: left;\">#7309. Potato Soup w/ scallion</td><td style = \"text-align: right;\">14</td><td style = \"text-align: right;\">2</td><td style = \"text-align: right;\">5</td><td style = \"text-align: right;\">3</td><td style = \"text-align: right;\">2</td><td style = \"text-align: right;\">2</td><td style = \"text-align: right;\">0.0185596</td></tr><tr><td class = \"rowNumber\" style = \"font-weight: bold; text-align: right;\">8</td><td style = \"text-align: left;\">#3197. Potato Soup w/ scallion</td><td style = \"text-align: right;\">14</td><td style = \"text-align: right;\">3</td><td style = \"text-align: right;\">4</td><td style = \"text-align: right;\">3</td><td style = \"text-align: right;\">1</td><td style = \"text-align: right;\">2</td><td style = \"text-align: right;\">0.0179148</td></tr><tr><td class = \"rowNumber\" style = \"font-weight: bold; text-align: right;\">9</td><td style = \"text-align: left;\">#307. Baked Potato w/ onion</td><td style = \"text-align: right;\">3</td><td style = \"text-align: right;\">15</td><td style = \"text-align: right;\">3</td><td style = \"text-align: right;\">2</td><td style = \"text-align: right;\">2</td><td style = \"text-align: right;\">1</td><td style = \"text-align: right;\">0.0172551</td></tr><tr><td class = \"rowNumber\" style = \"font-weight: bold; text-align: right;\">10</td><td style = \"text-align: left;\">#3732. Enlightened Tater Tots</td><td style = \"text-align: right;\">4</td><td style = \"text-align: right;\">6</td><td style = \"text-align: right;\">11</td><td style = \"text-align: right;\">3</td><td style = \"text-align: right;\">1</td><td style = \"text-align: right;\">2</td><td style = \"text-align: right;\">0.0170325</td></tr><tr><td class = \"rowNumber\" style = \"font-weight: bold; text-align: right;\">11</td><td style = \"text-align: left;\">#3123. Potato Soup w/ scallion</td><td style = \"text-align: right;\">12</td><td style = \"text-align: right;\">3</td><td style = \"text-align: right;\">4</td><td style = \"text-align: right;\">4</td><td style = \"text-align: right;\">3</td><td style = \"text-align: right;\">2</td><td style = \"text-align: right;\">0.0166083</td></tr><tr><td class = \"rowNumber\" style = \"font-weight: bold; text-align: right;\">12</td><td style = \"text-align: left;\">#3006. Helen&apos;s Potato Soup</td><td style = \"text-align: right;\">11</td><td style = \"text-align: right;\">1</td><td style = \"text-align: right;\">8</td><td style = \"text-align: right;\">2</td><td style = \"text-align: right;\">1</td><td style = \"text-align: right;\">3</td><td style = \"text-align: right;\">0.0141492</td></tr><tr><td class = \"rowNumber\" style = \"font-weight: bold; text-align: right;\">13</td><td style = \"text-align: left;\">#13888. Wrestler Baked Potato</td><td style = \"text-align: right;\">1</td><td style = \"text-align: right;\">7</td><td style = \"text-align: right;\">1</td><td style = \"text-align: right;\">7</td><td style = \"text-align: right;\">1</td><td style = \"text-align: right;\">6</td><td style = \"text-align: right;\">0.0134408</td></tr><tr><td style = \"text-align: right;\">&vellip;</td><td style = \"text-align: right;\">&vellip;</td><td style = \"text-align: right;\">&vellip;</td><td style = \"text-align: right;\">&vellip;</td><td style = \"text-align: right;\">&vellip;</td><td style = \"text-align: right;\">&vellip;</td><td style = \"text-align: right;\">&vellip;</td><td style = \"text-align: right;\">&vellip;</td><td style = \"text-align: right;\">&vellip;</td></tr><tr><td class = \"rowNumber\" style = \"font-weight: bold; text-align: right;\">489</td><td style = \"text-align: left;\">#595. Sneaky Raw Potato</td><td style = \"text-align: right;\">10</td><td style = \"text-align: right;\">2</td><td style = \"text-align: right;\">5</td><td style = \"text-align: right;\">3</td><td style = \"text-align: right;\">7</td><td style = \"text-align: right;\">5</td><td style = \"text-align: right;\">9.93555e-7</td></tr><tr><td class = \"rowNumber\" style = \"font-weight: bold; text-align: right;\">490</td><td style = \"text-align: left;\">#596. Sneaky Potato Soup</td><td style = \"text-align: right;\">10</td><td style = \"text-align: right;\">2</td><td style = \"text-align: right;\">5</td><td style = \"text-align: right;\">3</td><td style = \"text-align: right;\">10</td><td style = \"text-align: right;\">2</td><td style = \"text-align: right;\">9.93555e-7</td></tr><tr><td class = \"rowNumber\" style = \"font-weight: bold; text-align: right;\">491</td><td style = \"text-align: left;\">#597. Dangerous Potato Soup</td><td style = \"text-align: right;\">10</td><td style = \"text-align: right;\">2</td><td style = \"text-align: right;\">5</td><td style = \"text-align: right;\">4</td><td style = \"text-align: right;\">2</td><td style = \"text-align: right;\">9</td><td style = \"text-align: right;\">9.93555e-7</td></tr><tr><td class = \"rowNumber\" style = \"font-weight: bold; text-align: right;\">492</td><td style = \"text-align: left;\">#598. Sneaky Raw Potato</td><td style = \"text-align: right;\">10</td><td style = \"text-align: right;\">2</td><td style = \"text-align: right;\">5</td><td style = \"text-align: right;\">4</td><td style = \"text-align: right;\">6</td><td style = \"text-align: right;\">5</td><td style = \"text-align: right;\">9.93555e-7</td></tr><tr><td class = \"rowNumber\" style = \"font-weight: bold; text-align: right;\">493</td><td style = \"text-align: left;\">#599. Aquatic Potato Soup</td><td style = \"text-align: right;\">10</td><td style = \"text-align: right;\">2</td><td style = \"text-align: right;\">5</td><td style = \"text-align: right;\">4</td><td style = \"text-align: right;\">7</td><td style = \"text-align: right;\">4</td><td style = \"text-align: right;\">9.93555e-7</td></tr><tr><td class = \"rowNumber\" style = \"font-weight: bold; text-align: right;\">494</td><td style = \"text-align: left;\">#600. Criminal Mashed Potato</td><td style = \"text-align: right;\">10</td><td style = \"text-align: right;\">2</td><td style = \"text-align: right;\">5</td><td style = \"text-align: right;\">6</td><td style = \"text-align: right;\">4</td><td style = \"text-align: right;\">5</td><td style = \"text-align: right;\">9.93555e-7</td></tr><tr><td class = \"rowNumber\" style = \"font-weight: bold; text-align: right;\">495</td><td style = \"text-align: left;\">#601. Sneaky Raw Potato w/ scallion</td><td style = \"text-align: right;\">10</td><td style = \"text-align: right;\">2</td><td style = \"text-align: right;\">5</td><td style = \"text-align: right;\">6</td><td style = \"text-align: right;\">6</td><td style = \"text-align: right;\">3</td><td style = \"text-align: right;\">9.93555e-7</td></tr><tr><td class = \"rowNumber\" style = \"font-weight: bold; text-align: right;\">496</td><td style = \"text-align: left;\">#602. Sneaky Raw Potato</td><td style = \"text-align: right;\">10</td><td style = \"text-align: right;\">2</td><td style = \"text-align: right;\">5</td><td style = \"text-align: right;\">6</td><td style = \"text-align: right;\">7</td><td style = \"text-align: right;\">2</td><td style = \"text-align: right;\">9.93555e-7</td></tr><tr><td class = \"rowNumber\" style = \"font-weight: bold; text-align: right;\">497</td><td style = \"text-align: left;\">#603. Underground Mashed Potato</td><td style = \"text-align: right;\">10</td><td style = \"text-align: right;\">2</td><td style = \"text-align: right;\">5</td><td style = \"text-align: right;\">7</td><td style = \"text-align: right;\">4</td><td style = \"text-align: right;\">4</td><td style = \"text-align: right;\">9.93555e-7</td></tr><tr><td class = \"rowNumber\" style = \"font-weight: bold; text-align: right;\">498</td><td style = \"text-align: left;\">#604. Criminal Potato Strips</td><td style = \"text-align: right;\">10</td><td style = \"text-align: right;\">2</td><td style = \"text-align: right;\">5</td><td style = \"text-align: right;\">7</td><td style = \"text-align: right;\">6</td><td style = \"text-align: right;\">2</td><td style = \"text-align: right;\">9.93555e-7</td></tr><tr><td class = \"rowNumber\" style = \"font-weight: bold; text-align: right;\">499</td><td style = \"text-align: left;\">#605. Criminal Raw Potato</td><td style = \"text-align: right;\">10</td><td style = \"text-align: right;\">2</td><td style = \"text-align: right;\">5</td><td style = \"text-align: right;\">8</td><td style = \"text-align: right;\">2</td><td style = \"text-align: right;\">5</td><td style = \"text-align: right;\">9.93555e-7</td></tr><tr><td class = \"rowNumber\" style = \"font-weight: bold; text-align: right;\">500</td><td style = \"text-align: left;\">#606. Criminal Potato Strips</td><td style = \"text-align: right;\">10</td><td style = \"text-align: right;\">2</td><td style = \"text-align: right;\">5</td><td style = \"text-align: right;\">8</td><td style = \"text-align: right;\">4</td><td style = \"text-align: right;\">3</td><td style = \"text-align: right;\">9.93555e-7</td></tr></tbody></table></div>"
      ],
      "text/latex": [
       "\\begin{tabular}{r|cccccccc}\n",
       "\t& name & h & f & l & p & r & s & \\\\\n",
       "\t\\hline\n",
       "\t& String & Int64 & Int64 & Int64 & Int64 & Int64 & Int64 & \\\\\n",
       "\t\\hline\n",
       "\t1 & \\#6705. Potato Strips w/ scallion & 8 & 10 & 1 & 1 & 2 & 1 & $\\dots$ \\\\\n",
       "\t2 & \\#2813. Helen's Chips & 6 & 1 & 14 & 2 & 1 & 2 & $\\dots$ \\\\\n",
       "\t3 & \\#9066. Potato Soup w/ scallion & 14 & 5 & 2 & 1 & 2 & 2 & $\\dots$ \\\\\n",
       "\t4 & \\#6499. Potato Soup w/ ketchup & 8 & 1 & 10 & 5 & 2 & 2 & $\\dots$ \\\\\n",
       "\t5 & \\#3007. Helen's Mashed Potato & 11 & 1 & 8 & 3 & 1 & 2 & $\\dots$ \\\\\n",
       "\t6 & \\#7179. Potato Soup w/ onion & 11 & 4 & 3 & 5 & 2 & 2 & $\\dots$ \\\\\n",
       "\t7 & \\#7309. Potato Soup w/ scallion & 14 & 2 & 5 & 3 & 2 & 2 & $\\dots$ \\\\\n",
       "\t8 & \\#3197. Potato Soup w/ scallion & 14 & 3 & 4 & 3 & 1 & 2 & $\\dots$ \\\\\n",
       "\t9 & \\#307. Baked Potato w/ onion & 3 & 15 & 3 & 2 & 2 & 1 & $\\dots$ \\\\\n",
       "\t10 & \\#3732. Enlightened Tater Tots & 4 & 6 & 11 & 3 & 1 & 2 & $\\dots$ \\\\\n",
       "\t11 & \\#3123. Potato Soup w/ scallion & 12 & 3 & 4 & 4 & 3 & 2 & $\\dots$ \\\\\n",
       "\t12 & \\#3006. Helen's Potato Soup & 11 & 1 & 8 & 2 & 1 & 3 & $\\dots$ \\\\\n",
       "\t13 & \\#13888. Wrestler Baked Potato & 1 & 7 & 1 & 7 & 1 & 6 & $\\dots$ \\\\\n",
       "\t14 & \\#8836. Helen's French Fries & 7 & 1 & 12 & 2 & 2 & 2 & $\\dots$ \\\\\n",
       "\t15 & \\#11915. Criminal Potato Soup & 14 & 1 & 6 & 2 & 3 & 4 & $\\dots$ \\\\\n",
       "\t16 & \\#5918. Potato Strips w/ onion & 6 & 12 & 1 & 1 & 2 & 1 & $\\dots$ \\\\\n",
       "\t17 & \\#14502. Friendly Mashed Potato & 4 & 5 & 8 & 1 & 5 & 4 & $\\dots$ \\\\\n",
       "\t18 & \\#3763. Potato Strips w/ onion & 4 & 11 & 3 & 3 & 1 & 2 & $\\dots$ \\\\\n",
       "\t19 & \\#2240. Criminal Mashed Potato & 10 & 3 & 5 & 5 & 3 & 1 & $\\dots$ \\\\\n",
       "\t20 & \\#6703. Mashed Potato w/ onion & 8 & 9 & 1 & 1 & 2 & 2 & $\\dots$ \\\\\n",
       "\t21 & \\#2042. Potato Soup w/ scallion & 11 & 6 & 3 & 1 & 1 & 1 & $\\dots$ \\\\\n",
       "\t22 & \\#12901. French Fries w/ onion & 2 & 9 & 2 & 2 & 4 & 4 & $\\dots$ \\\\\n",
       "\t23 & \\#1820. Enlightened Tater Tots w/ onion & 3 & 10 & 8 & 4 & 1 & 1 & $\\dots$ \\\\\n",
       "\t24 & \\#3711. Baked Potato w/ onion & 3 & 11 & 3 & 3 & 2 & 2 & $\\dots$ \\\\\n",
       "\t25 & \\#4537. Baked Potato w/ onion & 2 & 12 & 1 & 4 & 3 & 1 & $\\dots$ \\\\\n",
       "\t26 & \\#14521. Friendly Mashed Potato & 4 & 6 & 8 & 1 & 4 & 3 & $\\dots$ \\\\\n",
       "\t27 & \\#3097. Charles' Potato Soup & 12 & 1 & 7 & 4 & 1 & 3 & $\\dots$ \\\\\n",
       "\t28 & \\#8360. Chips w/ onion & 2 & 8 & 9 & 5 & 2 & 2 & $\\dots$ \\\\\n",
       "\t29 & \\#7263. Helen's Potato Soup & 14 & 1 & 6 & 5 & 2 & 2 & $\\dots$ \\\\\n",
       "\t30 & \\#6653. Helen's Mashed Potato & 8 & 3 & 7 & 5 & 2 & 1 & $\\dots$ \\\\\n",
       "\t$\\dots$ & $\\dots$ & $\\dots$ & $\\dots$ & $\\dots$ & $\\dots$ & $\\dots$ & $\\dots$ &  \\\\\n",
       "\\end{tabular}\n"
      ],
      "text/plain": [
       "\u001b[1m500×8 DataFrame\u001b[0m\n",
       "\u001b[1m Row \u001b[0m│\u001b[1m name                              \u001b[0m\u001b[1m h     \u001b[0m\u001b[1m f     \u001b[0m\u001b[1m l     \u001b[0m\u001b[1m p     \u001b[0m\u001b[1m r     \u001b[0m\u001b[1m s\u001b[0m ⋯\n",
       "     │\u001b[90m String                            \u001b[0m\u001b[90m Int64 \u001b[0m\u001b[90m Int64 \u001b[0m\u001b[90m Int64 \u001b[0m\u001b[90m Int64 \u001b[0m\u001b[90m Int64 \u001b[0m\u001b[90m I\u001b[0m ⋯\n",
       "─────┼──────────────────────────────────────────────────────────────────────────\n",
       "   1 │ #6705. Potato Strips w/ scallion       8     10      1      1      2    ⋯\n",
       "   2 │ #2813. Helen's Chips                   6      1     14      2      1\n",
       "   3 │ #9066. Potato Soup w/ scallion        14      5      2      1      2\n",
       "   4 │ #6499. Potato Soup w/ ketchup          8      1     10      5      2\n",
       "   5 │ #3007. Helen's Mashed Potato          11      1      8      3      1    ⋯\n",
       "   6 │ #7179. Potato Soup w/ onion           11      4      3      5      2\n",
       "   7 │ #7309. Potato Soup w/ scallion        14      2      5      3      2\n",
       "   8 │ #3197. Potato Soup w/ scallion        14      3      4      3      1\n",
       "   9 │ #307. Baked Potato w/ onion            3     15      3      2      2    ⋯\n",
       "  10 │ #3732. Enlightened Tater Tots          4      6     11      3      1\n",
       "  11 │ #3123. Potato Soup w/ scallion        12      3      4      4      3\n",
       "  ⋮  │                 ⋮                    ⋮      ⋮      ⋮      ⋮      ⋮      ⋱\n",
       " 491 │ #597. Dangerous Potato Soup           10      2      5      4      2\n",
       " 492 │ #598. Sneaky Raw Potato               10      2      5      4      6    ⋯\n",
       " 493 │ #599. Aquatic Potato Soup             10      2      5      4      7\n",
       " 494 │ #600. Criminal Mashed Potato          10      2      5      6      4\n",
       " 495 │ #601. Sneaky Raw Potato w/ scall…     10      2      5      6      6\n",
       " 496 │ #602. Sneaky Raw Potato               10      2      5      6      7    ⋯\n",
       " 497 │ #603. Underground Mashed Potato       10      2      5      7      4\n",
       " 498 │ #604. Criminal Potato Strips          10      2      5      7      6\n",
       " 499 │ #605. Criminal Raw Potato             10      2      5      8      2\n",
       " 500 │ #606. Criminal Potato Strips          10      2      5      8      4    ⋯\n",
       "\u001b[36m                                                  2 columns and 479 rows omitted\u001b[0m"
      ]
     },
     "execution_count": 110,
     "metadata": {},
     "output_type": "execute_result"
    }
   ],
   "source": [
    "inds_sel = sortperm(-w)[1:500]\n",
    "tab = spuds_to_df(nash_env[inds_sel])\n",
    "tab[!, :w] = w[inds_sel]\n",
    "tab"
   ]
  },
  {
   "cell_type": "code",
   "execution_count": 111,
   "id": "539633b4",
   "metadata": {
    "scrolled": true
   },
   "outputs": [
    {
     "name": "stdout",
     "output_type": "stream",
     "text": [
      "\u001b[1m3×7 DataFrame\u001b[0m\n",
      "\u001b[1m Row \u001b[0m│\u001b[1m name                              \u001b[0m\u001b[1m h     \u001b[0m\u001b[1m f     \u001b[0m\u001b[1m l     \u001b[0m\u001b[1m p     \u001b[0m\u001b[1m r     \u001b[0m\u001b[1m s     \u001b[0m\n",
      "     │\u001b[90m String                            \u001b[0m\u001b[90m Int64 \u001b[0m\u001b[90m Int64 \u001b[0m\u001b[90m Int64 \u001b[0m\u001b[90m Int64 \u001b[0m\u001b[90m Int64 \u001b[0m\u001b[90m Int64 \u001b[0m\n",
      "─────┼─────────────────────────────────────────────────────────────────────────────\n",
      "   1 │ #2248. Sneaky Mashed Potato           11      3      4      1      5      4\n",
      "   2 │ #5770. Helen's Potato Bread w/ k…      6      2     10      7      3      1\n",
      "   3 │ #6951. Potato Soup w/ scallion        10      7      1      3      2      1\n",
      "[0.007680178680897021, 0.00268458509647914, 0.0082961826630647]\n",
      "1\n",
      "\u001b[1m3×7 DataFrame\u001b[0m\n",
      "\u001b[1m Row \u001b[0m│\u001b[1m name                          \u001b[0m\u001b[1m h     \u001b[0m\u001b[1m f     \u001b[0m\u001b[1m l     \u001b[0m\u001b[1m p     \u001b[0m\u001b[1m r     \u001b[0m\u001b[1m s     \u001b[0m\n",
      "     │\u001b[90m String                        \u001b[0m\u001b[90m Int64 \u001b[0m\u001b[90m Int64 \u001b[0m\u001b[90m Int64 \u001b[0m\u001b[90m Int64 \u001b[0m\u001b[90m Int64 \u001b[0m\u001b[90m Int64 \u001b[0m\n",
      "─────┼─────────────────────────────────────────────────────────────────────────\n",
      "   1 │ #1764. Friendly Tater Tots         3      3     12      1      7      6\n",
      "   2 │ #3097. Charles' Potato Soup       12      1      7      4      1      3\n",
      "   3 │ #6703. Mashed Potato w/ onion      8      9      1      1      2      2\n",
      "[0.005475480557622702, 0.010405499524584024, 0.011908747952035148]\n",
      "1\n",
      "\u001b[1m3×7 DataFrame\u001b[0m\n",
      "\u001b[1m Row \u001b[0m│\u001b[1m name                           \u001b[0m\u001b[1m h     \u001b[0m\u001b[1m f     \u001b[0m\u001b[1m l     \u001b[0m\u001b[1m p     \u001b[0m\u001b[1m r     \u001b[0m\u001b[1m s     \u001b[0m\n",
      "     │\u001b[90m String                         \u001b[0m\u001b[90m Int64 \u001b[0m\u001b[90m Int64 \u001b[0m\u001b[90m Int64 \u001b[0m\u001b[90m Int64 \u001b[0m\u001b[90m Int64 \u001b[0m\u001b[90m Int64 \u001b[0m\n",
      "─────┼──────────────────────────────────────────────────────────────────────────\n",
      "   1 │ #1813. Potato Strips w/ onion       3      9      2      4      1      4\n",
      "   2 │ #8836. Helen's French Fries         7      1     12      2      2      2\n",
      "   3 │ #9066. Potato Soup w/ scallion     14      5      2      1      2      2\n",
      "[0.004583268338289516, 0.013420938372775804, 0.02560092678792672]\n",
      "1\n",
      "\u001b[1m3×7 DataFrame\u001b[0m\n",
      "\u001b[1m Row \u001b[0m│\u001b[1m name                           \u001b[0m\u001b[1m h     \u001b[0m\u001b[1m f     \u001b[0m\u001b[1m l     \u001b[0m\u001b[1m p     \u001b[0m\u001b[1m r     \u001b[0m\u001b[1m s     \u001b[0m\n",
      "     │\u001b[90m String                         \u001b[0m\u001b[90m Int64 \u001b[0m\u001b[90m Int64 \u001b[0m\u001b[90m Int64 \u001b[0m\u001b[90m Int64 \u001b[0m\u001b[90m Int64 \u001b[0m\u001b[90m Int64 \u001b[0m\n",
      "─────┼──────────────────────────────────────────────────────────────────────────\n",
      "   1 │ #3122. Sneaky Mashed Potato        12      3      4      3      4      2\n",
      "   2 │ #6951. Potato Soup w/ scallion     10      7      1      3      2      1\n",
      "   3 │ #13017. Charles' Potato Soup        7      1     11      2      4      4\n",
      "[0.0030323292799608937, 0.0082961826630647, 0.005393015508397029]\n",
      "1\n",
      "\u001b[1m3×7 DataFrame\u001b[0m\n",
      "\u001b[1m Row \u001b[0m│\u001b[1m name                              \u001b[0m\u001b[1m h     \u001b[0m\u001b[1m f     \u001b[0m\u001b[1m l     \u001b[0m\u001b[1m p     \u001b[0m\u001b[1m r     \u001b[0m\u001b[1m s     \u001b[0m\n",
      "     │\u001b[90m String                            \u001b[0m\u001b[90m Int64 \u001b[0m\u001b[90m Int64 \u001b[0m\u001b[90m Int64 \u001b[0m\u001b[90m Int64 \u001b[0m\u001b[90m Int64 \u001b[0m\u001b[90m Int64 \u001b[0m\n",
      "─────┼─────────────────────────────────────────────────────────────────────────────\n",
      "   1 │ #430. Helen's Potato Bread             5      2     12      7      2      2\n",
      "   2 │ #3097. Charles' Potato Soup           12      1      7      4      1      3\n",
      "   3 │ #4691. Devious Potato Soup w/ sc…     10      6      1      4      3      1\n",
      "[0.004530609933362279, 0.010405499524584024, 0.004945915843920488]\n",
      "1\n",
      "\u001b[1m3×7 DataFrame\u001b[0m\n",
      "\u001b[1m Row \u001b[0m│\u001b[1m name                           \u001b[0m\u001b[1m h     \u001b[0m\u001b[1m f     \u001b[0m\u001b[1m l     \u001b[0m\u001b[1m p     \u001b[0m\u001b[1m r     \u001b[0m\u001b[1m s     \u001b[0m\n",
      "     │\u001b[90m String                         \u001b[0m\u001b[90m Int64 \u001b[0m\u001b[90m Int64 \u001b[0m\u001b[90m Int64 \u001b[0m\u001b[90m Int64 \u001b[0m\u001b[90m Int64 \u001b[0m\u001b[90m Int64 \u001b[0m\n",
      "─────┼──────────────────────────────────────────────────────────────────────────\n",
      "   1 │ #4437. Baked Potato w/ onion        1     12      1      3      3      3\n",
      "   2 │ #6951. Potato Soup w/ scallion     10      7      1      3      2      1\n",
      "   3 │ #10984. Helen's Home Fries          7      2      9      5      3      2\n",
      "[0.0071744592826335565, 0.0082961826630647, 0.007105904000747153]\n",
      "1\n",
      "\u001b[1m3×7 DataFrame\u001b[0m\n",
      "\u001b[1m Row \u001b[0m│\u001b[1m name                              \u001b[0m\u001b[1m h     \u001b[0m\u001b[1m f     \u001b[0m\u001b[1m l     \u001b[0m\u001b[1m p     \u001b[0m\u001b[1m r     \u001b[0m\u001b[1m s     \u001b[0m\n",
      "     │\u001b[90m String                            \u001b[0m\u001b[90m Int64 \u001b[0m\u001b[90m Int64 \u001b[0m\u001b[90m Int64 \u001b[0m\u001b[90m Int64 \u001b[0m\u001b[90m Int64 \u001b[0m\u001b[90m Int64 \u001b[0m\n",
      "─────┼─────────────────────────────────────────────────────────────────────────────\n",
      "   1 │ #3122. Sneaky Mashed Potato           12      3      4      3      4      2\n",
      "   2 │ #5770. Helen's Potato Bread w/ k…      6      2     10      7      3      1\n",
      "   3 │ #6951. Potato Soup w/ scallion        10      7      1      3      2      1\n",
      "[0.0030323292799608937, 0.00268458509647914, 0.0082961826630647]\n",
      "1\n",
      "\u001b[1m3×7 DataFrame\u001b[0m\n",
      "\u001b[1m Row \u001b[0m│\u001b[1m name                           \u001b[0m\u001b[1m h     \u001b[0m\u001b[1m f     \u001b[0m\u001b[1m l     \u001b[0m\u001b[1m p     \u001b[0m\u001b[1m r     \u001b[0m\u001b[1m s     \u001b[0m\n",
      "     │\u001b[90m String                         \u001b[0m\u001b[90m Int64 \u001b[0m\u001b[90m Int64 \u001b[0m\u001b[90m Int64 \u001b[0m\u001b[90m Int64 \u001b[0m\u001b[90m Int64 \u001b[0m\u001b[90m Int64 \u001b[0m\n",
      "─────┼──────────────────────────────────────────────────────────────────────────\n",
      "   1 │ #3136. Potato Soup w/ scallion     12      6      2      2      1      1\n",
      "   2 │ #4525. Baked Potato w/ onion        2      9      2      5      4      1\n",
      "   3 │ #13017. Charles' Potato Soup        7      1     11      2      4      4\n",
      "[0.00583514739882383, 0.005651339758983474, 0.005393015508397029]\n",
      "1\n",
      "\u001b[1m3×7 DataFrame\u001b[0m\n",
      "\u001b[1m Row \u001b[0m│\u001b[1m name                              \u001b[0m\u001b[1m h     \u001b[0m\u001b[1m f     \u001b[0m\u001b[1m l     \u001b[0m\u001b[1m p     \u001b[0m\u001b[1m r     \u001b[0m\u001b[1m s     \u001b[0m\n",
      "     │\u001b[90m String                            \u001b[0m\u001b[90m Int64 \u001b[0m\u001b[90m Int64 \u001b[0m\u001b[90m Int64 \u001b[0m\u001b[90m Int64 \u001b[0m\u001b[90m Int64 \u001b[0m\u001b[90m Int64 \u001b[0m\n",
      "─────┼─────────────────────────────────────────────────────────────────────────────\n",
      "   1 │ #6499. Potato Soup w/ ketchup          8      1     10      5      2      2\n",
      "   2 │ #9066. Potato Soup w/ scallion        14      5      2      1      2      2\n",
      "   3 │ #14881. Angry Mashed Potato w/ s…      6      8      1      1      4      3\n",
      "[0.023706217765356134, 0.02560092678792672, 0.006316027926838598]\n",
      "1\n",
      "\u001b[1m3×7 DataFrame\u001b[0m\n",
      "\u001b[1m Row \u001b[0m│\u001b[1m name                          \u001b[0m\u001b[1m h     \u001b[0m\u001b[1m f     \u001b[0m\u001b[1m l     \u001b[0m\u001b[1m p     \u001b[0m\u001b[1m r     \u001b[0m\u001b[1m s     \u001b[0m\n",
      "     │\u001b[90m String                        \u001b[0m\u001b[90m Int64 \u001b[0m\u001b[90m Int64 \u001b[0m\u001b[90m Int64 \u001b[0m\u001b[90m Int64 \u001b[0m\u001b[90m Int64 \u001b[0m\u001b[90m Int64 \u001b[0m\n",
      "─────┼─────────────────────────────────────────────────────────────────────────\n",
      "   1 │ #2240. Criminal Mashed Potato     10      3      5      5      3      1\n",
      "   2 │ #10840. Helen's Tater Tots         7      1     11      3      3      4\n",
      "   3 │ #14737. Hungry Potato Strips       5      8      1      1      5      3\n",
      "[0.011917689945324678, 0.009455661126273862, 0.00849191296062443]\n",
      "1\n",
      "\u001b[1m3×7 DataFrame\u001b[0m\n",
      "\u001b[1m Row \u001b[0m│\u001b[1m name                           \u001b[0m\u001b[1m h     \u001b[0m\u001b[1m f     \u001b[0m\u001b[1m l     \u001b[0m\u001b[1m p     \u001b[0m\u001b[1m r     \u001b[0m\u001b[1m s     \u001b[0m\n",
      "     │\u001b[90m String                         \u001b[0m\u001b[90m Int64 \u001b[0m\u001b[90m Int64 \u001b[0m\u001b[90m Int64 \u001b[0m\u001b[90m Int64 \u001b[0m\u001b[90m Int64 \u001b[0m\u001b[90m Int64 \u001b[0m\n",
      "─────┼──────────────────────────────────────────────────────────────────────────\n",
      "   1 │ #3033. Potato Soup w/ scallion     11      3      4      4      3      3\n",
      "   2 │ #6951. Potato Soup w/ scallion     10      7      1      3      2      1\n",
      "   3 │ #10840. Helen's Tater Tots          7      1     11      3      3      4\n",
      "[0.0032995955238368704, 0.0082961826630647, 0.009455661126273862]\n",
      "1\n",
      "\u001b[1m3×7 DataFrame\u001b[0m\n",
      "\u001b[1m Row \u001b[0m│\u001b[1m name                             \u001b[0m\u001b[1m h     \u001b[0m\u001b[1m f     \u001b[0m\u001b[1m l     \u001b[0m\u001b[1m p     \u001b[0m\u001b[1m r     \u001b[0m\u001b[1m s     \u001b[0m\n",
      "     │\u001b[90m String                           \u001b[0m\u001b[90m Int64 \u001b[0m\u001b[90m Int64 \u001b[0m\u001b[90m Int64 \u001b[0m\u001b[90m Int64 \u001b[0m\u001b[90m Int64 \u001b[0m\u001b[90m Int64 \u001b[0m\n",
      "─────┼────────────────────────────────────────────────────────────────────────────\n",
      "   1 │ #3007. Helen's Mashed Potato         11      1      8      3      1      2\n",
      "   2 │ #6705. Potato Strips w/ scallion      8     10      1      1      2      1\n",
      "   3 │ #13888. Wrestler Baked Potato         1      7      1      7      1      6\n",
      "[0.02136341552349906, 0.03415742081119776, 0.013440809468974762]\n",
      "2\n"
     ]
    },
    {
     "name": "stdout",
     "output_type": "stream",
     "text": [
      "\u001b[1m3×7 DataFrame\u001b[0m\n",
      "\u001b[1m Row \u001b[0m│\u001b[1m name                              \u001b[0m\u001b[1m h     \u001b[0m\u001b[1m f     \u001b[0m\u001b[1m l     \u001b[0m\u001b[1m p     \u001b[0m\u001b[1m r     \u001b[0m\u001b[1m s     \u001b[0m\n",
      "     │\u001b[90m String                            \u001b[0m\u001b[90m Int64 \u001b[0m\u001b[90m Int64 \u001b[0m\u001b[90m Int64 \u001b[0m\u001b[90m Int64 \u001b[0m\u001b[90m Int64 \u001b[0m\u001b[90m Int64 \u001b[0m\n",
      "─────┼─────────────────────────────────────────────────────────────────────────────\n",
      "   1 │ #2240. Criminal Mashed Potato         10      3      5      5      3      1\n",
      "   2 │ #10984. Helen's Home Fries             7      2      9      5      3      2\n",
      "   3 │ #14881. Angry Mashed Potato w/ s…      6      8      1      1      4      3\n",
      "[0.011917689945324678, 0.007105904000747153, 0.006316027926838598]\n",
      "1\n",
      "\u001b[1m3×7 DataFrame\u001b[0m\n",
      "\u001b[1m Row \u001b[0m│\u001b[1m name                             \u001b[0m\u001b[1m h     \u001b[0m\u001b[1m f     \u001b[0m\u001b[1m l     \u001b[0m\u001b[1m p     \u001b[0m\u001b[1m r     \u001b[0m\u001b[1m s     \u001b[0m\n",
      "     │\u001b[90m String                           \u001b[0m\u001b[90m Int64 \u001b[0m\u001b[90m Int64 \u001b[0m\u001b[90m Int64 \u001b[0m\u001b[90m Int64 \u001b[0m\u001b[90m Int64 \u001b[0m\u001b[90m Int64 \u001b[0m\n",
      "─────┼────────────────────────────────────────────────────────────────────────────\n",
      "   1 │ #1764. Friendly Tater Tots            3      3     12      1      7      6\n",
      "   2 │ #3093. Sneaky Mashed Potato          12      1      7      2      4      2\n",
      "   3 │ #6705. Potato Strips w/ scallion      8     10      1      1      2      1\n",
      "[0.005475480557622702, 0.004895244548613146, 0.03415742081119776]\n",
      "1\n",
      "\u001b[1m3×7 DataFrame\u001b[0m\n",
      "\u001b[1m Row \u001b[0m│\u001b[1m name                          \u001b[0m\u001b[1m h     \u001b[0m\u001b[1m f     \u001b[0m\u001b[1m l     \u001b[0m\u001b[1m p     \u001b[0m\u001b[1m r     \u001b[0m\u001b[1m s     \u001b[0m\n",
      "     │\u001b[90m String                        \u001b[0m\u001b[90m Int64 \u001b[0m\u001b[90m Int64 \u001b[0m\u001b[90m Int64 \u001b[0m\u001b[90m Int64 \u001b[0m\u001b[90m Int64 \u001b[0m\u001b[90m Int64 \u001b[0m\n",
      "─────┼─────────────────────────────────────────────────────────────────────────\n",
      "   1 │ #1813. Potato Strips w/ onion      3      9      2      4      1      4\n",
      "   2 │ #2240. Criminal Mashed Potato     10      3      5      5      3      1\n",
      "   3 │ #13017. Charles' Potato Soup       7      1     11      2      4      4\n",
      "[0.004583268338289516, 0.011917689945324678, 0.005393015508397029]\n",
      "1\n"
     ]
    }
   ],
   "source": [
    "# Verify explotability\n",
    "for i in 1:10000\n",
    "    inds = sort([rand(inds_sel[1:120]) for i in 1:3])\n",
    "    rt = nash_env[inds]\n",
    "    ff = pick_best(library, rt)\n",
    "    ev = eval_battle_list(ff, rt)\n",
    "    if ev < 3\n",
    "        println(spuds_to_df(rt))\n",
    "        println(w[inds])\n",
    "        println(ev)\n",
    "    end\n",
    "end"
   ]
  },
  {
   "cell_type": "code",
   "execution_count": 60,
   "id": "ca23894e",
   "metadata": {},
   "outputs": [
    {
     "data": {
      "text/plain": [
       "4-element Vector{Spud}:\n",
       " Spud(\"#7981. Mashed Potato w/ ketchup\", 3, 1, 11, 2, 4, 3)\n",
       " Spud(\"#8650. Charles' Potato Bread\", 3, 2, 10, 2, 2, 3)\n",
       " Spud(\"#10705. Devious Baked Potato w/ ketchup\", 4, 3, 4, 5, 2, 2)\n",
       " Spud(\"#14443. Sneaky Potato Soup\", 8, 2, 2, 1, 5, 6)"
      ]
     },
     "execution_count": 60,
     "metadata": {},
     "output_type": "execute_result"
    }
   ],
   "source": [
    "rt = nash_env[sort([rand(1:n_nash) for i in 1:4])]"
   ]
  },
  {
   "cell_type": "code",
   "execution_count": 61,
   "id": "e1899929",
   "metadata": {},
   "outputs": [
    {
     "name": "stdout",
     "output_type": "stream",
     "text": [
      "Spud(\"#12249. Enlightened Mashed Potato\", 5, 6, 4, 1, 1, 1)\n",
      "4\n"
     ]
    },
    {
     "data": {
      "text/plain": [
       "-0.05855215021150282"
      ]
     },
     "execution_count": 61,
     "metadata": {},
     "output_type": "execute_result"
    }
   ],
   "source": [
    "ff = pick_best_rdmly(nash_env[inds_sel], rt, 99)\n",
    "ev = eval_battle_list(ff, rt)\n",
    "println(ff)\n",
    "println(ev)\n",
    "eval_battle_list2(ff, nash_env, w)"
   ]
  },
  {
   "cell_type": "code",
   "execution_count": 66,
   "id": "497f2f3a",
   "metadata": {},
   "outputs": [
    {
     "name": "stdout",
     "output_type": "stream",
     "text": [
      "Spud(\"#9053. Aquatic French Fries\", 3, 4, 4, 1, 4, 3)\n",
      "4\n"
     ]
    },
    {
     "data": {
      "text/plain": [
       "-0.1656790165129023"
      ]
     },
     "execution_count": 66,
     "metadata": {},
     "output_type": "execute_result"
    }
   ],
   "source": [
    "ff = pick_best_rdmly(library, rt, 99)\n",
    "ev = eval_battle_list(ff, rt)\n",
    "println(ff)\n",
    "println(ev)\n",
    "eval_battle_list2(ff, nash_env, w)"
   ]
  },
  {
   "cell_type": "code",
   "execution_count": 35,
   "id": "12acdb76",
   "metadata": {},
   "outputs": [
    {
     "name": "stdout",
     "output_type": "stream",
     "text": [
      "Spud(\"#14744. Battle Potato Soup\", 9, 1, 1, 13, 6, 7)\n"
     ]
    },
    {
     "data": {
      "text/plain": [
       "-0.6779939500016593"
      ]
     },
     "execution_count": 35,
     "metadata": {},
     "output_type": "execute_result"
    }
   ],
   "source": [
    "ff = rand(library)\n",
    "println(ff)\n",
    "eval_battle_list2(ff, nash_env, w)"
   ]
  },
  {
   "cell_type": "code",
   "execution_count": 23,
   "id": "faf95c79",
   "metadata": {},
   "outputs": [],
   "source": [
    "#cost(4,4,9,1,4,2)"
   ]
  },
  {
   "cell_type": "code",
   "execution_count": 24,
   "id": "4d0bc4c8",
   "metadata": {},
   "outputs": [],
   "source": [
    "#rt = library[[15918,21020,26191]]\n",
    "#eval_battle(Spud(\"\",4,4,9,1,4,1), rt[1])"
   ]
  },
  {
   "cell_type": "code",
   "execution_count": 25,
   "id": "17a5cad4",
   "metadata": {},
   "outputs": [],
   "source": [
    "#sum(sort(-w)[1:450])"
   ]
  },
  {
   "cell_type": "code",
   "execution_count": 26,
   "id": "c945e08d",
   "metadata": {},
   "outputs": [],
   "source": [
    "#sum(w)"
   ]
  },
  {
   "cell_type": "code",
   "execution_count": 27,
   "id": "209dc74d",
   "metadata": {},
   "outputs": [],
   "source": [
    "# # FP is slow to converge in the end\n",
    "# eps = 0.01/length(library)\n",
    "# nits = 20000\n",
    "# scores = wins./sum(counts)\n",
    "# w = counts./sum(counts)\n",
    "# 0"
   ]
  },
  {
   "cell_type": "code",
   "execution_count": 28,
   "id": "d50fc1f0",
   "metadata": {},
   "outputs": [],
   "source": [
    "# previous_score = maximum(scores)\n",
    "# for iter in 1:nits\n",
    "#     ind_winners = findall(wins .== maximum(wins))\n",
    "#     i = rand(ind_winners)\n",
    "#     w[i] += eps\n",
    "#     for j in 1:n_lose[i]\n",
    "#         i_w = i_lose[i, j]\n",
    "#         scores[i_w]+= eps\n",
    "#     end\n",
    "#     if mod1(iter, 2000) == 1\n",
    "#         scores = scores./sum(w)\n",
    "#         w = w./sum(w)\n",
    "#         if maximum(scores) > previous_score\n",
    "#             eps = eps/2\n",
    "#             println(eps)\n",
    "#             println()\n",
    "#             println()\n",
    "#         end\n",
    "#         previous_score = maximum(scores)\n",
    "#         mxv, mxi = findmax(wins)\n",
    "#         print(library[mxi])\n",
    "#         print(\" n:\")\n",
    "#         print(w[mxi])\n",
    "#         print(\" w:\")\n",
    "#         print(scores[mxi])\n",
    "#         println()\n",
    "#         mxv, mxi = findmax(counts)\n",
    "#         print(library[mxi])\n",
    "#         print(\" n:\")\n",
    "#         print(w[mxi])\n",
    "#         print(\" w:\")\n",
    "#         print(scores[mxi])\n",
    "#         println()\n",
    "#         println(maximum([eval_battle_list2(ff, library, w) for ff in library]))\n",
    "#         println()\n",
    "#     end\n",
    "# end\n"
   ]
  },
  {
   "cell_type": "code",
   "execution_count": null,
   "id": "34e127aa",
   "metadata": {},
   "outputs": [],
   "source": []
  }
 ],
 "metadata": {
  "kernelspec": {
   "display_name": "Julia 1.9.3",
   "language": "julia",
   "name": "julia-1.9"
  },
  "language_info": {
   "file_extension": ".jl",
   "mimetype": "application/julia",
   "name": "julia",
   "version": "1.9.3"
  }
 },
 "nbformat": 4,
 "nbformat_minor": 5
}

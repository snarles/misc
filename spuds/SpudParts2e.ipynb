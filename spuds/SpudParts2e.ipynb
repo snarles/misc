{
 "cells": [
  {
   "cell_type": "markdown",
   "id": "b223d67c",
   "metadata": {},
   "source": [
    "No costs!  Bases and jobs have simple sum requirement.  Mods use decision trees to define eligibility."
   ]
  },
  {
   "cell_type": "code",
   "execution_count": null,
   "id": "973b1d93",
   "metadata": {},
   "outputs": [],
   "source": [
    "\n",
    "\n",
    "function apply_ability(a::Spud, b::Spud)::Array{Spud}\n",
    "    if a.a1 == ability_none\n",
    "        return [a, b]\n",
    "    else\n",
    "        return ability_fx[a.a1](a, b)\n",
    "    end\n",
    "end\n",
    "\n",
    "\n",
    "function eval_battle(a::Spud, b::Spud)::Int64\n",
    "    utb = compare_int_list(spud_utb_seq(a), spud_utb_seq(b), 0) # universal tiebreaker\n",
    "    if utb == 0\n",
    "        return 0\n",
    "    end\n",
    "    a_ability_first = compare_int_list([a.a1, a.s], [b.a1, b.s], utb)\n",
    "    if a_ability_first ==1\n",
    "        if a.a1 != ability_none\n",
    "            res = apply_ability(a, b)\n",
    "            a = res[1]\n",
    "            b = res[2]\n",
    "        end\n",
    "        if b.a1 != ability_none\n",
    "            res = apply_ability(b, a)\n",
    "            b = res[1]\n",
    "            a = res[2]\n",
    "        end\n",
    "    end\n",
    "    if a_ability_first == -1\n",
    "        if b.a1 != ability_none\n",
    "            res = apply_ability(b, a)\n",
    "            b = res[1]\n",
    "            a = res[2]\n",
    "        end\n",
    "        if a.a1 != ability_none\n",
    "            res = apply_ability(a, b)\n",
    "            a = res[1]\n",
    "            b = res[2]\n",
    "        end\n",
    "    end\n",
    "    #println(a)\n",
    "    #println(b)\n",
    "    a_finds = eval_finds(a, b, utb)==1\n",
    "    b_finds = eval_finds(b, a, utb)==1\n",
    "    melee_win = eval_melee(a, b, 0, 0)\n",
    "    luck_win = compare_int_list([a.l, melee_win], [b.l, -melee_win], 0)\n",
    "    if melee_win ==1 && luck_win ==1\n",
    "        return 1\n",
    "    end\n",
    "    if melee_win == -1 && luck_win == -1\n",
    "        return -1\n",
    "    end\n",
    "    if a_finds && b_finds\n",
    "        return melee_win\n",
    "    end\n",
    "    if a_finds && !b_finds\n",
    "        return 1\n",
    "    end\n",
    "    if !a_finds && b_finds\n",
    "        return -1\n",
    "    end\n",
    "    if !a_finds && !b_finds\n",
    "        return luck_win\n",
    "    end\n",
    "end"
   ]
  },
  {
   "cell_type": "code",
   "execution_count": null,
   "id": "1708d852",
   "metadata": {},
   "outputs": [],
   "source": [
    "const discount = 20\n",
    "\n",
    "function rename_base(a::SpudBase, s::String)::SpudBase\n",
    "    return SpudBase(s, a.h,a.f,a.l,a.p,a.r,a.s,a.a1,a.cost)\n",
    "end\n",
    "\n",
    "function rename_job(a::SpudMod, s::String)::SpudMod\n",
    "    return SpudMod(s, a.h,a.f,a.l,a.p,a.r,a.s,a.a1,a.minh,a.minf,a.minl,a.minp,a.minr,a.mins,a.cost)\n",
    "end\n",
    "\n",
    "function check_validity(a::Spud)::Bool\n",
    "    return minimum([a.h,a.f,a.l,a.p,a.r,a.s]) >= MNV\n",
    "end\n",
    "\n",
    "function combine_base_job(b::SpudBase, j::SpudMod)::Spud\n",
    "    v = [b.h,b.f,b.l,b.p,b.r,b.s]\n",
    "    c = b.cost\n",
    "    a1 = b.a1\n",
    "    if a1 == 999\n",
    "        a1 = j.a1\n",
    "    end\n",
    "    w = [j.h,j.f,j.l,j.p,j.r,j.s]\n",
    "    m = [j.minh,j.minf,j.minl,j.minp,j.minr,j.mins]\n",
    "    c2 = j.cost\n",
    "    if sum(v .< m) == 0\n",
    "        c2 -= discount\n",
    "    end\n",
    "    z = v .+ w\n",
    "    z[z .> MXV] .= MXV\n",
    "    return Spud(string(j.name, \" \", b.name),z[1],z[2],z[3],z[4],z[5],z[6],a1,c+c2)\n",
    "end\n",
    "\n",
    "\n",
    "function combine_spud_mod(b::Spud, j::SpudMod)::Spud\n",
    "    v = [b.h,b.f,b.l,b.p,b.r,b.s]\n",
    "    c = b.cost\n",
    "    a1 = b.a1\n",
    "    if a1 == 999\n",
    "        a1 = j.a1\n",
    "    end\n",
    "    w = [j.h,j.f,j.l,j.p,j.r,j.s]\n",
    "    m = [j.minh,j.minf,j.minl,j.minp,j.minr,j.mins]\n",
    "    c2 = j.cost\n",
    "    # require spud to meet minimums\n",
    "    if sum(v .< m) > 0 || minimum(v .+ w) < MNV\n",
    "        return b\n",
    "    end\n",
    "    z = v .+ w\n",
    "    z[z .> MXV] .= MXV\n",
    "    return Spud(string(j.name, \" \", b.name),z[1],z[2],z[3],z[4],z[5],z[6],a1,c+c2)\n",
    "end"
   ]
  },
  {
   "cell_type": "code",
   "execution_count": null,
   "id": "2e65f2d7",
   "metadata": {},
   "outputs": [],
   "source": [
    "function get_spuds_with_value(scores::Array{Int64}, vmin::Int64, vmax::Int64)::Array{Spud}\n",
    "    inds = findall(scores .>= vmin .&& scores .<= vmax)\n",
    "    return map(x -> Spud(\"spud\",x[1],x[2],x[3],x[4],x[5],x[6],ability_none,scores[x]), inds)\n",
    "end\n",
    "\n",
    "function choice_wo(x::Array, n::Int64)::Array\n",
    "    w = [rand() for i in 1:length(x)]\n",
    "    return x[sortperm(w)][1:n]\n",
    "end"
   ]
  },
  {
   "cell_type": "markdown",
   "id": "f192cf3d",
   "metadata": {},
   "source": [
    "#### Load pre-computed scores (from game_designL)"
   ]
  },
  {
   "cell_type": "code",
   "execution_count": 520,
   "id": "218e455b",
   "metadata": {},
   "outputs": [],
   "source": [
    "scores = matread(\"temp_desE_scores400.mat\")[\"scores\"];\n",
    "global_ne = get_spuds_with_value(scores, 95, 100);"
   ]
  },
  {
   "cell_type": "code",
   "execution_count": 524,
   "id": "a3241cdb",
   "metadata": {},
   "outputs": [
    {
     "data": {
      "text/plain": [
       "(286, 479, 0.5970772442588727)"
      ]
     },
     "execution_count": 524,
     "metadata": {},
     "output_type": "execute_result"
    }
   ],
   "source": [
    "#wt = [1,1,1,1,1,1]\n",
    "wt = [13,14,19,10,10,10]\n",
    "sums = [sum(spud_to_vec(s) .* wt) for s in global_ne];\n",
    "minimum(sums), maximum(sums), minimum(sums)/maximum(sums)"
   ]
  },
  {
   "cell_type": "code",
   "execution_count": 525,
   "id": "486bdc18",
   "metadata": {},
   "outputs": [
    {
     "data": {
      "text/html": [
       "<div><div style = \"float: left;\"><span>8×9 DataFrame</span></div><div style = \"clear: both;\"></div></div><div class = \"data-frame\" style = \"overflow-x: scroll;\"><table class = \"data-frame\" style = \"margin-bottom: 6px;\"><thead><tr class = \"header\"><th class = \"rowNumber\" style = \"font-weight: bold; text-align: right;\">Row</th><th style = \"text-align: left;\">name</th><th style = \"text-align: left;\">h</th><th style = \"text-align: left;\">f</th><th style = \"text-align: left;\">l</th><th style = \"text-align: left;\">p</th><th style = \"text-align: left;\">r</th><th style = \"text-align: left;\">s</th><th style = \"text-align: left;\">a1</th><th style = \"text-align: left;\">cost</th></tr><tr class = \"subheader headerLastRow\"><th class = \"rowNumber\" style = \"font-weight: bold; text-align: right;\"></th><th title = \"String\" style = \"text-align: left;\">String</th><th title = \"Int64\" style = \"text-align: left;\">Int64</th><th title = \"Int64\" style = \"text-align: left;\">Int64</th><th title = \"Int64\" style = \"text-align: left;\">Int64</th><th title = \"Int64\" style = \"text-align: left;\">Int64</th><th title = \"Int64\" style = \"text-align: left;\">Int64</th><th title = \"Int64\" style = \"text-align: left;\">Int64</th><th title = \"Int64\" style = \"text-align: left;\">Int64</th><th title = \"Int64\" style = \"text-align: left;\">Int64</th></tr></thead><tbody><tr><td class = \"rowNumber\" style = \"font-weight: bold; text-align: right;\">1</td><td style = \"text-align: left;\">spud</td><td style = \"text-align: right;\">1</td><td style = \"text-align: right;\">6</td><td style = \"text-align: right;\">1</td><td style = \"text-align: right;\">8</td><td style = \"text-align: right;\">1</td><td style = \"text-align: right;\">8</td><td style = \"text-align: right;\">999</td><td style = \"text-align: right;\">95</td></tr><tr><td class = \"rowNumber\" style = \"font-weight: bold; text-align: right;\">2</td><td style = \"text-align: left;\">spud</td><td style = \"text-align: right;\">1</td><td style = \"text-align: right;\">6</td><td style = \"text-align: right;\">1</td><td style = \"text-align: right;\">1</td><td style = \"text-align: right;\">8</td><td style = \"text-align: right;\">8</td><td style = \"text-align: right;\">999</td><td style = \"text-align: right;\">97</td></tr><tr><td class = \"rowNumber\" style = \"font-weight: bold; text-align: right;\">3</td><td style = \"text-align: left;\">spud</td><td style = \"text-align: right;\">1</td><td style = \"text-align: right;\">6</td><td style = \"text-align: right;\">1</td><td style = \"text-align: right;\">1</td><td style = \"text-align: right;\">7</td><td style = \"text-align: right;\">9</td><td style = \"text-align: right;\">999</td><td style = \"text-align: right;\">96</td></tr><tr><td class = \"rowNumber\" style = \"font-weight: bold; text-align: right;\">4</td><td style = \"text-align: left;\">spud</td><td style = \"text-align: right;\">7</td><td style = \"text-align: right;\">1</td><td style = \"text-align: right;\">7</td><td style = \"text-align: right;\">2</td><td style = \"text-align: right;\">1</td><td style = \"text-align: right;\">2</td><td style = \"text-align: right;\">999</td><td style = \"text-align: right;\">95</td></tr><tr><td class = \"rowNumber\" style = \"font-weight: bold; text-align: right;\">5</td><td style = \"text-align: left;\">spud</td><td style = \"text-align: right;\">7</td><td style = \"text-align: right;\">1</td><td style = \"text-align: right;\">7</td><td style = \"text-align: right;\">1</td><td style = \"text-align: right;\">2</td><td style = \"text-align: right;\">2</td><td style = \"text-align: right;\">999</td><td style = \"text-align: right;\">96</td></tr><tr><td class = \"rowNumber\" style = \"font-weight: bold; text-align: right;\">6</td><td style = \"text-align: left;\">spud</td><td style = \"text-align: right;\">7</td><td style = \"text-align: right;\">1</td><td style = \"text-align: right;\">7</td><td style = \"text-align: right;\">1</td><td style = \"text-align: right;\">1</td><td style = \"text-align: right;\">3</td><td style = \"text-align: right;\">999</td><td style = \"text-align: right;\">96</td></tr><tr><td class = \"rowNumber\" style = \"font-weight: bold; text-align: right;\">7</td><td style = \"text-align: left;\">spud</td><td style = \"text-align: right;\">1</td><td style = \"text-align: right;\">7</td><td style = \"text-align: right;\">1</td><td style = \"text-align: right;\">1</td><td style = \"text-align: right;\">8</td><td style = \"text-align: right;\">7</td><td style = \"text-align: right;\">999</td><td style = \"text-align: right;\">96</td></tr><tr><td class = \"rowNumber\" style = \"font-weight: bold; text-align: right;\">8</td><td style = \"text-align: left;\">spud</td><td style = \"text-align: right;\">1</td><td style = \"text-align: right;\">7</td><td style = \"text-align: right;\">1</td><td style = \"text-align: right;\">1</td><td style = \"text-align: right;\">7</td><td style = \"text-align: right;\">8</td><td style = \"text-align: right;\">999</td><td style = \"text-align: right;\">97</td></tr></tbody></table></div>"
      ],
      "text/latex": [
       "\\begin{tabular}{r|ccccccccc}\n",
       "\t& name & h & f & l & p & r & s & a1 & cost\\\\\n",
       "\t\\hline\n",
       "\t& String & Int64 & Int64 & Int64 & Int64 & Int64 & Int64 & Int64 & Int64\\\\\n",
       "\t\\hline\n",
       "\t1 & spud & 1 & 6 & 1 & 8 & 1 & 8 & 999 & 95 \\\\\n",
       "\t2 & spud & 1 & 6 & 1 & 1 & 8 & 8 & 999 & 97 \\\\\n",
       "\t3 & spud & 1 & 6 & 1 & 1 & 7 & 9 & 999 & 96 \\\\\n",
       "\t4 & spud & 7 & 1 & 7 & 2 & 1 & 2 & 999 & 95 \\\\\n",
       "\t5 & spud & 7 & 1 & 7 & 1 & 2 & 2 & 999 & 96 \\\\\n",
       "\t6 & spud & 7 & 1 & 7 & 1 & 1 & 3 & 999 & 96 \\\\\n",
       "\t7 & spud & 1 & 7 & 1 & 1 & 8 & 7 & 999 & 96 \\\\\n",
       "\t8 & spud & 1 & 7 & 1 & 1 & 7 & 8 & 999 & 97 \\\\\n",
       "\\end{tabular}\n"
      ],
      "text/plain": [
       "\u001b[1m8×9 DataFrame\u001b[0m\n",
       "\u001b[1m Row \u001b[0m│\u001b[1m name   \u001b[0m\u001b[1m h     \u001b[0m\u001b[1m f     \u001b[0m\u001b[1m l     \u001b[0m\u001b[1m p     \u001b[0m\u001b[1m r     \u001b[0m\u001b[1m s     \u001b[0m\u001b[1m a1    \u001b[0m\u001b[1m cost  \u001b[0m\n",
       "     │\u001b[90m String \u001b[0m\u001b[90m Int64 \u001b[0m\u001b[90m Int64 \u001b[0m\u001b[90m Int64 \u001b[0m\u001b[90m Int64 \u001b[0m\u001b[90m Int64 \u001b[0m\u001b[90m Int64 \u001b[0m\u001b[90m Int64 \u001b[0m\u001b[90m Int64 \u001b[0m\n",
       "─────┼────────────────────────────────────────────────────────────────\n",
       "   1 │ spud        1      6      1      8      1      8    999     95\n",
       "   2 │ spud        1      6      1      1      8      8    999     97\n",
       "   3 │ spud        1      6      1      1      7      9    999     96\n",
       "   4 │ spud        7      1      7      2      1      2    999     95\n",
       "   5 │ spud        7      1      7      1      2      2    999     96\n",
       "   6 │ spud        7      1      7      1      1      3    999     96\n",
       "   7 │ spud        1      7      1      1      8      7    999     96\n",
       "   8 │ spud        1      7      1      1      7      8    999     97"
      ]
     },
     "execution_count": 525,
     "metadata": {},
     "output_type": "execute_result"
    }
   ],
   "source": [
    "spuds_to_df(global_ne[sortperm(sums)[1:8]])"
   ]
  },
  {
   "cell_type": "code",
   "execution_count": 526,
   "id": "a063bd87",
   "metadata": {},
   "outputs": [
    {
     "data": {
      "text/html": [
       "<div><div style = \"float: left;\"><span>5×9 DataFrame</span></div><div style = \"clear: both;\"></div></div><div class = \"data-frame\" style = \"overflow-x: scroll;\"><table class = \"data-frame\" style = \"margin-bottom: 6px;\"><thead><tr class = \"header\"><th class = \"rowNumber\" style = \"font-weight: bold; text-align: right;\">Row</th><th style = \"text-align: left;\">name</th><th style = \"text-align: left;\">h</th><th style = \"text-align: left;\">f</th><th style = \"text-align: left;\">l</th><th style = \"text-align: left;\">p</th><th style = \"text-align: left;\">r</th><th style = \"text-align: left;\">s</th><th style = \"text-align: left;\">a1</th><th style = \"text-align: left;\">cost</th></tr><tr class = \"subheader headerLastRow\"><th class = \"rowNumber\" style = \"font-weight: bold; text-align: right;\"></th><th title = \"String\" style = \"text-align: left;\">String</th><th title = \"Int64\" style = \"text-align: left;\">Int64</th><th title = \"Int64\" style = \"text-align: left;\">Int64</th><th title = \"Int64\" style = \"text-align: left;\">Int64</th><th title = \"Int64\" style = \"text-align: left;\">Int64</th><th title = \"Int64\" style = \"text-align: left;\">Int64</th><th title = \"Int64\" style = \"text-align: left;\">Int64</th><th title = \"Int64\" style = \"text-align: left;\">Int64</th><th title = \"Int64\" style = \"text-align: left;\">Int64</th></tr></thead><tbody><tr><td class = \"rowNumber\" style = \"font-weight: bold; text-align: right;\">1</td><td style = \"text-align: left;\">spud</td><td style = \"text-align: right;\">4</td><td style = \"text-align: right;\">9</td><td style = \"text-align: right;\">9</td><td style = \"text-align: right;\">2</td><td style = \"text-align: right;\">9</td><td style = \"text-align: right;\">2</td><td style = \"text-align: right;\">999</td><td style = \"text-align: right;\">100</td></tr><tr><td class = \"rowNumber\" style = \"font-weight: bold; text-align: right;\">2</td><td style = \"text-align: left;\">spud</td><td style = \"text-align: right;\">9</td><td style = \"text-align: right;\">1</td><td style = \"text-align: right;\">4</td><td style = \"text-align: right;\">9</td><td style = \"text-align: right;\">9</td><td style = \"text-align: right;\">9</td><td style = \"text-align: right;\">999</td><td style = \"text-align: right;\">97</td></tr><tr><td class = \"rowNumber\" style = \"font-weight: bold; text-align: right;\">3</td><td style = \"text-align: left;\">spud</td><td style = \"text-align: right;\">3</td><td style = \"text-align: right;\">9</td><td style = \"text-align: right;\">9</td><td style = \"text-align: right;\">2</td><td style = \"text-align: right;\">9</td><td style = \"text-align: right;\">3</td><td style = \"text-align: right;\">999</td><td style = \"text-align: right;\">100</td></tr><tr><td class = \"rowNumber\" style = \"font-weight: bold; text-align: right;\">4</td><td style = \"text-align: left;\">spud</td><td style = \"text-align: right;\">4</td><td style = \"text-align: right;\">9</td><td style = \"text-align: right;\">9</td><td style = \"text-align: right;\">8</td><td style = \"text-align: right;\">3</td><td style = \"text-align: right;\">1</td><td style = \"text-align: right;\">999</td><td style = \"text-align: right;\">99</td></tr><tr><td class = \"rowNumber\" style = \"font-weight: bold; text-align: right;\">5</td><td style = \"text-align: left;\">spud</td><td style = \"text-align: right;\">4</td><td style = \"text-align: right;\">9</td><td style = \"text-align: right;\">9</td><td style = \"text-align: right;\">3</td><td style = \"text-align: right;\">8</td><td style = \"text-align: right;\">1</td><td style = \"text-align: right;\">999</td><td style = \"text-align: right;\">98</td></tr></tbody></table></div>"
      ],
      "text/latex": [
       "\\begin{tabular}{r|ccccccccc}\n",
       "\t& name & h & f & l & p & r & s & a1 & cost\\\\\n",
       "\t\\hline\n",
       "\t& String & Int64 & Int64 & Int64 & Int64 & Int64 & Int64 & Int64 & Int64\\\\\n",
       "\t\\hline\n",
       "\t1 & spud & 4 & 9 & 9 & 2 & 9 & 2 & 999 & 100 \\\\\n",
       "\t2 & spud & 9 & 1 & 4 & 9 & 9 & 9 & 999 & 97 \\\\\n",
       "\t3 & spud & 3 & 9 & 9 & 2 & 9 & 3 & 999 & 100 \\\\\n",
       "\t4 & spud & 4 & 9 & 9 & 8 & 3 & 1 & 999 & 99 \\\\\n",
       "\t5 & spud & 4 & 9 & 9 & 3 & 8 & 1 & 999 & 98 \\\\\n",
       "\\end{tabular}\n"
      ],
      "text/plain": [
       "\u001b[1m5×9 DataFrame\u001b[0m\n",
       "\u001b[1m Row \u001b[0m│\u001b[1m name   \u001b[0m\u001b[1m h     \u001b[0m\u001b[1m f     \u001b[0m\u001b[1m l     \u001b[0m\u001b[1m p     \u001b[0m\u001b[1m r     \u001b[0m\u001b[1m s     \u001b[0m\u001b[1m a1    \u001b[0m\u001b[1m cost  \u001b[0m\n",
       "     │\u001b[90m String \u001b[0m\u001b[90m Int64 \u001b[0m\u001b[90m Int64 \u001b[0m\u001b[90m Int64 \u001b[0m\u001b[90m Int64 \u001b[0m\u001b[90m Int64 \u001b[0m\u001b[90m Int64 \u001b[0m\u001b[90m Int64 \u001b[0m\u001b[90m Int64 \u001b[0m\n",
       "─────┼────────────────────────────────────────────────────────────────\n",
       "   1 │ spud        4      9      9      2      9      2    999    100\n",
       "   2 │ spud        9      1      4      9      9      9    999     97\n",
       "   3 │ spud        3      9      9      2      9      3    999    100\n",
       "   4 │ spud        4      9      9      8      3      1    999     99\n",
       "   5 │ spud        4      9      9      3      8      1    999     98"
      ]
     },
     "execution_count": 526,
     "metadata": {},
     "output_type": "execute_result"
    }
   ],
   "source": [
    "spuds_to_df(global_ne[sortperm(-sums)[1:5]])"
   ]
  },
  {
   "cell_type": "code",
   "execution_count": 545,
   "id": "c3d05119",
   "metadata": {},
   "outputs": [
    {
     "data": {
      "text/plain": [
       "11113"
      ]
     },
     "execution_count": 545,
     "metadata": {},
     "output_type": "execute_result"
    }
   ],
   "source": [
    "# get all vectors with sum 293\n",
    "temp = findall(scores .>= -999);\n",
    "sums = [t[1]*wt[1]+t[2]*wt[2]+t[3]*wt[3]+t[4]*wt[4]+t[5]*wt[5]+t[6]*wt[6] for t in temp];\n",
    "temp = temp[sums .<= 274 .&& sums .>= 265];\n",
    "bases = map((x, i) -> Spud(string(\"b\", i),x[1],x[2],x[3],x[4],x[5],x[6],ability_none,0), temp, 1:length(temp));\n",
    "length(bases)"
   ]
  },
  {
   "cell_type": "code",
   "execution_count": 546,
   "id": "9cabc33d",
   "metadata": {},
   "outputs": [],
   "source": [
    "base_vs = copy(transpose(reduce(hcat, map(spud_to_vec, bases))));"
   ]
  },
  {
   "cell_type": "code",
   "execution_count": 547,
   "id": "7e828803",
   "metadata": {},
   "outputs": [
    {
     "data": {
      "text/plain": [
       "93"
      ]
     },
     "execution_count": 547,
     "metadata": {},
     "output_type": "execute_result"
    }
   ],
   "source": [
    "maximum([scores[CartesianIndex((base_vs[i, :]...))] for i in 1:size(base_vs)[1]])"
   ]
  },
  {
   "cell_type": "code",
   "execution_count": 548,
   "id": "90ba5c4d",
   "metadata": {},
   "outputs": [
    {
     "data": {
      "text/plain": [
       "10-element Vector{Spud}:\n",
       " Spud(\"b26\", 7, 1, 7, 1, 1, 1, 999, 0)\n",
       " Spud(\"b2060\", 8, 1, 6, 1, 1, 2, 999, 0)\n",
       " Spud(\"b33\", 6, 1, 8, 1, 1, 1, 999, 0)\n",
       " Spud(\"b63\", 8, 1, 6, 2, 1, 1, 999, 0)\n",
       " Spud(\"b337\", 8, 1, 6, 1, 2, 1, 999, 0)\n",
       " Spud(\"b10553\", 1, 5, 1, 1, 8, 8, 999, 0)\n",
       " Spud(\"b10068\", 1, 5, 1, 8, 1, 8, 999, 0)\n",
       " Spud(\"b11065\", 1, 5, 1, 1, 7, 9, 999, 0)\n",
       " Spud(\"b2064\", 6, 1, 7, 1, 1, 2, 999, 0)\n",
       " Spud(\"b341\", 6, 1, 7, 1, 2, 1, 999, 0)"
      ]
     },
     "execution_count": 548,
     "metadata": {},
     "output_type": "execute_result"
    }
   ],
   "source": [
    "bases[sortperm(-[scores[CartesianIndex((base_vs[i, :]...))] for i in 1:size(base_vs)[1]])][1:10]"
   ]
  },
  {
   "cell_type": "code",
   "execution_count": 555,
   "id": "d163f506",
   "metadata": {},
   "outputs": [
    {
     "data": {
      "text/plain": [
       "Spud(\"spud\", 7, 1, 5, 7, 3, 6, 999, 95)"
      ]
     },
     "execution_count": 555,
     "metadata": {},
     "output_type": "execute_result"
    }
   ],
   "source": [
    "# consider a random target\n",
    "target = rand(global_ne)"
   ]
  },
  {
   "cell_type": "code",
   "execution_count": 556,
   "id": "464a1711",
   "metadata": {},
   "outputs": [
    {
     "data": {
      "text/plain": [
       "8602"
      ]
     },
     "execution_count": 556,
     "metadata": {},
     "output_type": "execute_result"
    }
   ],
   "source": [
    "# find a close base\n",
    "tarv = spud_to_vec(target)\n",
    "dists = [sum(map(abs, base_vs[i, :] .- tarv)) for i in 1:length(bases)];\n",
    "dom = [sum(base_vs[i, :] .- tarv .> 0)==0 for i in 1:length(bases)];\n",
    "cand_inds = findall(dists .== minimum(dists) .&& dom)\n",
    "cand_ind = rand(cand_inds)"
   ]
  },
  {
   "cell_type": "code",
   "execution_count": 557,
   "id": "50a17037",
   "metadata": {},
   "outputs": [
    {
     "data": {
      "text/plain": [
       "4"
      ]
     },
     "execution_count": 557,
     "metadata": {},
     "output_type": "execute_result"
    }
   ],
   "source": [
    "length(cand_inds)"
   ]
  },
  {
   "cell_type": "code",
   "execution_count": 558,
   "id": "e48af895",
   "metadata": {},
   "outputs": [
    {
     "data": {
      "text/plain": [
       "Spud(\"b8602\", 6, 1, 1, 7, 3, 6, 999, 0)"
      ]
     },
     "execution_count": 558,
     "metadata": {},
     "output_type": "execute_result"
    }
   ],
   "source": [
    "b = bases[cand_ind]\n",
    "bv = base_vs[cand_ind, :]\n",
    "b"
   ]
  },
  {
   "cell_type": "code",
   "execution_count": 559,
   "id": "1f250999",
   "metadata": {},
   "outputs": [
    {
     "data": {
      "text/plain": [
       "6-element Vector{Int64}:\n",
       " 1\n",
       " 0\n",
       " 4\n",
       " 0\n",
       " 0\n",
       " 0"
      ]
     },
     "execution_count": 559,
     "metadata": {},
     "output_type": "execute_result"
    }
   ],
   "source": [
    "diff = tarv .- bv"
   ]
  },
  {
   "cell_type": "code",
   "execution_count": 560,
   "id": "ada30405",
   "metadata": {},
   "outputs": [
    {
     "data": {
      "text/plain": [
       "0.7026005579051561"
      ]
     },
     "execution_count": 560,
     "metadata": {},
     "output_type": "execute_result"
    }
   ],
   "source": [
    "final_vs = base_vs .+ transpose(diff)\n",
    "final_vs[final_vs .> MXV] .= MXV;\n",
    "cs = map(x -> scores[CartesianIndex(x...)], eachrow(final_vs))\n",
    "mean(cs .< MXS)"
   ]
  },
  {
   "cell_type": "code",
   "execution_count": null,
   "id": "fd009f3a",
   "metadata": {},
   "outputs": [],
   "source": [
    "## come up with min and max criteria that select a region of base_vs which are eligible (cs <= MXS)\n",
    "#mn = [1,1,1,1,1,1]\n",
    "#mx = [9,9,9,9,9,9]\n",
    "mn = [1,1,1,1,1,1]\n",
    "mx = [9,9,9,9,9,9]\n",
    "filt = map(x -> sum(x .< mn) == 0 && sum(x .> mx) == 0, eachrow(base_vs))\n",
    "maximum(cs[filt])"
   ]
  },
  {
   "cell_type": "code",
   "execution_count": null,
   "id": "b9266970",
   "metadata": {},
   "outputs": [],
   "source": [
    "filtp = filt[sortperm(-cs)]\n",
    "hcat(base_vs,cs)[sortperm(-cs),:][filtp,:][1:10,:]"
   ]
  },
  {
   "cell_type": "code",
   "execution_count": null,
   "id": "4cd480b8",
   "metadata": {},
   "outputs": [],
   "source": [
    "mn = [3,1,1,1,1,1]\n",
    "mx = [9,9,9,9,9,9]\n",
    "filt = map(x -> sum(x .< mn) == 0 && sum(x .> mx) == 0, eachrow(base_vs))\n",
    "maximum(cs[filt]),sum(filt .&& cs .<= MXS)/sum(cs .<= MXS)"
   ]
  },
  {
   "cell_type": "code",
   "execution_count": null,
   "id": "8fd9d35f",
   "metadata": {},
   "outputs": [],
   "source": [
    "mn = [3,1,4,1,1,1]\n",
    "mx = [9,9,9,9,9,9]\n",
    "filt = map(x -> sum(x .< mn) == 0 && sum(x .> mx) == 0, eachrow(base_vs))\n",
    "maximum(cs[filt]),sum(filt .&& cs .<= MXS)/sum(cs .<= MXS)"
   ]
  },
  {
   "cell_type": "code",
   "execution_count": null,
   "id": "e34e4e34",
   "metadata": {},
   "outputs": [],
   "source": [
    "filtp = filt[sortperm(-cs)]\n",
    "hcat(base_vs,cs)[sortperm(-cs),:][filtp,:][1:10,:]"
   ]
  },
  {
   "cell_type": "code",
   "execution_count": null,
   "id": "dbab195b",
   "metadata": {},
   "outputs": [],
   "source": [
    "mn = [3,1,4,1,1,1]\n",
    "mx = [9,9,9,3,9,9]\n",
    "filt = map(x -> sum(x .< mn) == 0 && sum(x .> mx) == 0, eachrow(base_vs))\n",
    "maximum(cs[filt]),sum(filt .&& cs .<= MXS)/sum(cs .<= MXS)"
   ]
  },
  {
   "cell_type": "code",
   "execution_count": null,
   "id": "360eb3e6",
   "metadata": {},
   "outputs": [],
   "source": [
    "filtp = filt[sortperm(-cs)]\n",
    "hcat(base_vs,cs)[sortperm(-cs),:][filtp,:][1:10:200,:]"
   ]
  },
  {
   "cell_type": "code",
   "execution_count": null,
   "id": "ca45a066",
   "metadata": {},
   "outputs": [],
   "source": []
  },
  {
   "cell_type": "code",
   "execution_count": null,
   "id": "e5973b18",
   "metadata": {},
   "outputs": [],
   "source": []
  }
 ],
 "metadata": {
  "kernelspec": {
   "display_name": "Julia 1.9.3",
   "language": "julia",
   "name": "julia-1.9"
  },
  "language_info": {
   "file_extension": ".jl",
   "mimetype": "application/julia",
   "name": "julia",
   "version": "1.9.3"
  }
 },
 "nbformat": 4,
 "nbformat_minor": 5
}

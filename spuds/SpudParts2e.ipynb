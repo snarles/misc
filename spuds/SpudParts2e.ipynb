{
 "cells": [
  {
   "cell_type": "markdown",
   "id": "b223d67c",
   "metadata": {},
   "source": [
    "No costs!  Bases and jobs have simple sum requirement.  Mods use decision trees to define eligibility."
   ]
  },
  {
   "cell_type": "code",
   "execution_count": 1,
   "id": "973b1d93",
   "metadata": {},
   "outputs": [
    {
     "data": {
      "text/plain": [
       "eval_battle (generic function with 1 method)"
      ]
     },
     "execution_count": 1,
     "metadata": {},
     "output_type": "execute_result"
    }
   ],
   "source": [
    "using Random\n",
    "using DataFrames\n",
    "using CSV\n",
    "using DelimitedFiles\n",
    "using Statistics\n",
    "using Printf\n",
    "using LinearAlgebra\n",
    "using Dates\n",
    "using MAT\n",
    "using Serialization\n",
    "\n",
    "struct Spud\n",
    "    name::String\n",
    "    h::Int64\n",
    "    f::Int64\n",
    "    l::Int64\n",
    "    p::Int64\n",
    "    r::Int64\n",
    "    s::Int64\n",
    "    a1::Int64\n",
    "    cost::Int64\n",
    "end\n",
    "\n",
    "const ability_none = 999\n",
    "const ability_imitative = 10\n",
    "const ability_reciprocating = 20\n",
    "const ability_romantic = 30\n",
    "const ability_bibliophile = 40\n",
    "const ability_melodious = 50\n",
    "const ability_iconoclast = 90\n",
    "const ability_intoxicating = 100\n",
    "const ability_otaku = 110\n",
    "const ability_sincere = 120\n",
    "const ability_cowardly = 130\n",
    "\n",
    "\n",
    "ability_name = Dict(\n",
    "    ability_imitative => \"Imitative*\",\n",
    "    ability_reciprocating => \"Reciprocating*\",\n",
    "    ability_romantic => \"Romantic*\",\n",
    "    ability_bibliophile => \"Bibliophile*\",\n",
    "    ability_melodious => \"Melodious*\",\n",
    "    ability_iconoclast => \"Iconoclast*\",\n",
    "    ability_intoxicating => \"Intoxicating*\",\n",
    "    ability_otaku => \"Otaku*\",\n",
    "    ability_sincere => \"Sincere*\",\n",
    "    ability_cowardly => \"Cowardly*\",\n",
    ")\n",
    "\n",
    "function fx_imitative(a::Spud, b::Spud)\n",
    "    if b.h > a.h\n",
    "        a = Spud(a.name, b.h, a.f, a.l, a.p, a.r, a.s, a.a1)\n",
    "    end\n",
    "    return [a, b]\n",
    "end\n",
    "\n",
    "function fx_reciprocating(a::Spud, b::Spud)\n",
    "    if b.f > a.f\n",
    "        a = Spud(a.name, a.h, b.f, a.l, a.p, a.r, a.s, a.a1)\n",
    "    end\n",
    "    return [a, b]\n",
    "end\n",
    "\n",
    "function fx_romantic(a::Spud, b::Spud)\n",
    "    if b.p > a.l\n",
    "        a = Spud(a.name, a.h, a.f, b.p, a.p, a.r, a.s, a.a1)\n",
    "    end\n",
    "    return [a, b]\n",
    "end\n",
    "\n",
    "function fx_bibliophile(a::Spud, b::Spud)\n",
    "    if b.r > a.l\n",
    "        a = Spud(a.name, a.h, a.f, b.r, a.p, a.r, a.s, a.a1)\n",
    "    end\n",
    "    return [a, b]\n",
    "end\n",
    "\n",
    "function fx_melodious(a::Spud, b::Spud)\n",
    "    if b.p > b.r && b.p > b.s\n",
    "        a = Spud(a.name, a.h, a.f, a.r, a.p + 3, a.r, a.s, a.a1)\n",
    "    end\n",
    "    return [a, b]\n",
    "end\n",
    "\n",
    "function fx_iconoclast(a::Spud, b::Spud)\n",
    "    v = sum([b.h,b.f,b.l,b.p,b.r,b.s] .== MXV)\n",
    "    if v >= 3\n",
    "        aa = [a.h, a.f, a.l, a.p, a.r, a.s]\n",
    "        aa2 = map(x -> div(x, 4), aa)\n",
    "        r = aa .+ aa2\n",
    "        a = Spud(a.name, r[1], r[2], r[3], r[4], r[5], r[6], a.a1)\n",
    "    end\n",
    "    return [a, b]\n",
    "end\n",
    "\n",
    "function fx_intoxicating(a::Spud, b::Spud)\n",
    "    b = Spud(b.name, b.h, b.f, b.l, b.p, b.r, b.f, b.a1)\n",
    "    return [a, b]\n",
    "end\n",
    "\n",
    "function fx_otaku(a::Spud, b::Spud)\n",
    "    b = Spud(b.name, b.h, b.f, b.l, b.p, b.h, b.s, b.a1)\n",
    "    return [a, b]\n",
    "end\n",
    "\n",
    "\n",
    "function fx_sincere(a::Spud, b::Spud)\n",
    "    b = Spud(b.name, b.h, b.f + 2, b.f + 2, b.p, b.r, b.s, b.a1)\n",
    "    return [a, b]\n",
    "end\n",
    "\n",
    "function fx_cowardly(a::Spud, b::Spud)\n",
    "    if (a.p < b.p) || (a.r < b.r) || (a.s < b.s)\n",
    "        a = Spud(a.name, a.h + 2, a.f - 2, a.l, a.p, a.r, a.s, a.a1)\n",
    "    end\n",
    "    return [a, b]\n",
    "end\n",
    "\n",
    "ability_fx = Dict(\n",
    "    ability_imitative => fx_imitative,\n",
    "    ability_reciprocating => fx_reciprocating,\n",
    "    ability_romantic => fx_romantic,\n",
    "    ability_bibliophile => fx_bibliophile,\n",
    "    ability_melodious => fx_melodious,\n",
    "    ability_iconoclast => fx_iconoclast,\n",
    "    ability_intoxicating => fx_intoxicating,\n",
    "    ability_otaku => fx_otaku,\n",
    "    ability_sincere => fx_sincere,\n",
    "    ability_cowardly => fx_cowardly,\n",
    ")\n",
    "\n",
    "const MXS = 100\n",
    "const MXV = 9\n",
    "const MNV = 1\n",
    "\n",
    "# function cost(h::Int64, f::Int64, l::Int64, p::Int64, r::Int64, s::Int64)::Int64\n",
    "#     #return h*(f+l-2*MNV) + f*(p+r+s-3*MNV) + h+f+l+p+r+s-6*MNV\n",
    "#     return h*(f+l) + f*(p+r+s)\n",
    "# end\n",
    "\n",
    "# function cost(a::Spud)::Int64\n",
    "#     if a.a1 == ability_none\n",
    "#         return cost(a.h, a.f, a.l, a.p, a.r, a.s)\n",
    "#     else\n",
    "#         return cost(a.h, a.f, a.l, a.p, a.r, a.s) + ability_cost[a.a1](a)\n",
    "#     end\n",
    "# end\n",
    "\n",
    "function compare_int_list(as::Vector{Int64}, bs::Vector{Int64}, tiebreaker::Int64 = 0)::Int64\n",
    "    n = min(length(as), length(bs))\n",
    "    for i in 1:n\n",
    "        if as[i] != bs[i]\n",
    "            return sign(as[i] - bs[i])\n",
    "        end\n",
    "    end\n",
    "    return tiebreaker\n",
    "end\n",
    "\n",
    "function spud_h_seq(a::Spud)::Vector{Int64}\n",
    "    return [a.h, a.s, a.r, a.p, a.l, a.f]\n",
    "end\n",
    "\n",
    "function spud_f_seq(a::Spud)::Vector{Int64}\n",
    "    return [a.f, a.s, a.r, a.p, a.l, a.h]\n",
    "end\n",
    "\n",
    "function spud_l_seq(a::Spud)::Vector{Int64}\n",
    "    return [a.l]\n",
    "end\n",
    "\n",
    "function spud_p_seq(a::Spud)::Vector{Int64}\n",
    "    return [a.p, a.l]\n",
    "end\n",
    "\n",
    "function spud_r_seq(a::Spud)::Vector{Int64}\n",
    "    return [a.r, a.f]\n",
    "end\n",
    "\n",
    "function spud_s_seq(a::Spud)::Vector{Int64}\n",
    "    return [a.s, a.h]\n",
    "end\n",
    "\n",
    "function spud_utb_seq(a::Spud)::Vector{Int64}\n",
    "    return [a.a1, a.h, a.f, a.l, a.p, a.r, a.s]\n",
    "end\n",
    "\n",
    "function eval_finds(a::Spud, b::Spud, tiebreaker::Int64 = 0)::Int64\n",
    "    ev = compare_int_list(spud_f_seq(a), spud_h_seq(b), tiebreaker)\n",
    "    ans = ev\n",
    "end\n",
    "\n",
    "function eval_melee(a::Spud, b::Spud, tiebreaker1::Int64 = 0, tiebreaker2::Int64 = 0)::Int64\n",
    "    comp_p = compare_int_list(spud_p_seq(a), spud_p_seq(b), tiebreaker1)\n",
    "    comp_r = compare_int_list(spud_r_seq(a), spud_r_seq(b), tiebreaker1)\n",
    "    comp_s = compare_int_list(spud_s_seq(a), spud_s_seq(b), tiebreaker1)\n",
    "    ev = 4 * comp_p + 3 * comp_r + 2 * comp_s\n",
    "    return sign(ev + (1-abs(ev))*tiebreaker2)\n",
    "end\n",
    "\n",
    "function apply_ability(a::Spud, b::Spud)::Array{Spud}\n",
    "    if a.a1 == ability_none\n",
    "        return [a, b]\n",
    "    else\n",
    "        return ability_fx[a.a1](a, b)\n",
    "    end\n",
    "end\n",
    "\n",
    "\n",
    "function eval_battle(a::Spud, b::Spud)::Int64\n",
    "    utb = compare_int_list(spud_utb_seq(a), spud_utb_seq(b), 0) # universal tiebreaker\n",
    "    if utb == 0\n",
    "        return 0\n",
    "    end\n",
    "    a_ability_first = compare_int_list([a.a1, a.s], [b.a1, b.s], utb)\n",
    "    if a_ability_first ==1\n",
    "        if a.a1 != ability_none\n",
    "            res = apply_ability(a, b)\n",
    "            a = res[1]\n",
    "            b = res[2]\n",
    "        end\n",
    "        if b.a1 != ability_none\n",
    "            res = apply_ability(b, a)\n",
    "            b = res[1]\n",
    "            a = res[2]\n",
    "        end\n",
    "    end\n",
    "    if a_ability_first == -1\n",
    "        if b.a1 != ability_none\n",
    "            res = apply_ability(b, a)\n",
    "            b = res[1]\n",
    "            a = res[2]\n",
    "        end\n",
    "        if a.a1 != ability_none\n",
    "            res = apply_ability(a, b)\n",
    "            a = res[1]\n",
    "            b = res[2]\n",
    "        end\n",
    "    end\n",
    "    #println(a)\n",
    "    #println(b)\n",
    "    a_finds = eval_finds(a, b, utb)==1\n",
    "    b_finds = eval_finds(b, a, utb)==1\n",
    "    melee_win = eval_melee(a, b, 0, 0)\n",
    "    luck_win = compare_int_list([a.l, melee_win], [b.l, -melee_win], 0)\n",
    "    if melee_win ==1 && luck_win ==1\n",
    "        return 1\n",
    "    end\n",
    "    if melee_win == -1 && luck_win == -1\n",
    "        return -1\n",
    "    end\n",
    "    if a_finds && b_finds\n",
    "        return melee_win\n",
    "    end\n",
    "    if a_finds && !b_finds\n",
    "        return 1\n",
    "    end\n",
    "    if !a_finds && b_finds\n",
    "        return -1\n",
    "    end\n",
    "    if !a_finds && !b_finds\n",
    "        return luck_win\n",
    "    end\n",
    "end"
   ]
  },
  {
   "cell_type": "code",
   "execution_count": 4,
   "id": "7a6449ad",
   "metadata": {},
   "outputs": [
    {
     "data": {
      "text/plain": [
       "spuds_to_df (generic function with 2 methods)"
      ]
     },
     "execution_count": 4,
     "metadata": {},
     "output_type": "execute_result"
    }
   ],
   "source": [
    "\n",
    "function eval_battle_list(a::Spud, bs::Array{Spud})::Int\n",
    "    score = 0\n",
    "    for ii in 1:length(bs)\n",
    "        score = score + eval_battle(a, bs[ii])\n",
    "    end\n",
    "    return score\n",
    "end\n",
    "\n",
    "function eval_battle_list2(a::Spud, bs::Array{Spud}, w::Vector{Float64})::AbstractFloat\n",
    "    score = 0.0\n",
    "    for ii in 1:length(bs)\n",
    "        score = score + w[ii] * eval_battle(a, bs[ii])\n",
    "    end\n",
    "    return score\n",
    "end\n",
    "\n",
    "function spuds_to_df(as::Array{Spud})::DataFrame\n",
    "    names = Array{String}(undef, length(as))\n",
    "    hs = Array{Int}(undef, length(as))\n",
    "    fs = Array{Int}(undef, length(as))\n",
    "    ls = Array{Int}(undef, length(as))\n",
    "    ps = Array{Int}(undef, length(as))\n",
    "    rs = Array{Int}(undef, length(as))\n",
    "    ss = Array{Int}(undef, length(as))\n",
    "    a1s = Array{Int}(undef, length(as))\n",
    "    cs = Array{Int}(undef, length(as))\n",
    "    for ii in 1:length(as)\n",
    "        names[ii] = as[ii].name\n",
    "        hs[ii] = as[ii].h\n",
    "        fs[ii] = as[ii].f\n",
    "        ls[ii] = as[ii].l\n",
    "        ps[ii] = as[ii].p\n",
    "        rs[ii] = as[ii].r\n",
    "        ss[ii] = as[ii].s\n",
    "        a1s[ii] = as[ii].a1\n",
    "        cs[ii] = as[ii].cost\n",
    "    end\n",
    "    df = DataFrame(name = names, h = hs, f = fs, l = ls, p = ps, r = rs, s = ss, a1 = a1s, cost = cs)\n",
    "    return df\n",
    "end\n",
    "\n",
    "\n",
    "\n",
    "function fpart(x::AbstractFloat)::AbstractFloat\n",
    "  return x - trunc(x)\n",
    "end\n",
    "\n",
    "# for legacy dfs without abilities\n",
    "function df_to_spuds0(df::DataFrame)::Array{Spud}\n",
    "    n = size(df)[1]\n",
    "    as = Array{Spud}(undef, n)\n",
    "    for i in 1:n\n",
    "        as[i] = Spud(df[i, :name], df[i, :h], df[i, :f], df[i, :l], df[i, :p], df[i, :r], df[i, :s], ability_none, -1)\n",
    "    end\n",
    "    return as\n",
    "end\n",
    "\n",
    "function df_to_spuds(df::DataFrame)::Array{Spud}\n",
    "    n = size(df)[1]\n",
    "    as = Array{Spud}(undef, n)\n",
    "    for i in 1:n\n",
    "        as[i] = Spud(df[i, :name], df[i, :h], df[i, :f], df[i, :l], df[i, :p], df[i, :r], df[i, :s], df[i, :a1], df[i, :cost])\n",
    "    end\n",
    "    return as\n",
    "end\n",
    "\n",
    "\n",
    "\n",
    "struct NashEquilibrium2p\n",
    "    w1::Array{Float64}\n",
    "    w2::Array{Float64}\n",
    "    v::Float64\n",
    "end\n",
    "\n",
    "\n",
    "function payoffs2(set1::Array{Spud}, set2::Array{Spud})::Array{Int64}\n",
    "    n1 = length(set1)\n",
    "    n2 = length(set2)\n",
    "    payoffs = Array{Int64}(undef, (n1, n2))\n",
    "    for i in 1:n1\n",
    "        for j in 1:n2\n",
    "            payoffs[i,j] = eval_battle(set1[i], set2[j])\n",
    "        end\n",
    "    end\n",
    "    return payoffs\n",
    "end\n",
    "\n",
    "function ffp2(set1::Array{Spud}, set2::Array{Spud}, nits::Int64)::NashEquilibrium2p\n",
    "    n1 = length(set1)\n",
    "    n2 = length(set2)\n",
    "    payoffs = payoffs2(set1, set2)\n",
    "    v1 = [1 for i in 1:n1]\n",
    "    v2 = [1 for i in 1:n2]\n",
    "    s1 = [sum(payoffs[i, :] .* v2) for i in 1:n1]\n",
    "    s2 = [sum(payoffs[:, i] .* v1) for i in 1:n2]\n",
    "    for it in 1:nits\n",
    "        cands1 = findall(s1 .== maximum(s1))\n",
    "        i1 = rand(cands1)\n",
    "        cands2 = findall(s2 .== minimum(s2))\n",
    "        i2 = rand(cands2)\n",
    "        v1[i1] += 1\n",
    "        s2 = s2 .+ payoffs[i1, :]\n",
    "        v2[i2] += 1\n",
    "        s1 = s1 .+ payoffs[:, i2]\n",
    "    end\n",
    "    w1 = v1./sum(v1)\n",
    "    w2 = v2./sum(v2)\n",
    "    val = sum([payoffs[i, j] * w1[i] * w2[j] for i in 1:n1 for j in 1:n2])\n",
    "    return NashEquilibrium2p(w1, w2, val)\n",
    "end\n",
    "\n",
    "function ffp(nash_env, nits)\n",
    "    n_nash = length(nash_env)\n",
    "    i_lose = Array{Int}(undef, (n_nash, n_nash))\n",
    "    n_lose = Array{Int}(undef, n_nash)\n",
    "    for i in 1:n_nash\n",
    "        n_lose[i] = 0\n",
    "        ff = nash_env[i]\n",
    "        for j in 1:n_nash\n",
    "            if eval_battle(ff, nash_env[j]) ==-1\n",
    "                n_lose[i] += 1\n",
    "                i_lose[i, n_lose[i]] = j\n",
    "            end\n",
    "        end\n",
    "    end\n",
    "    counts = [0 for i in 1:n_nash]\n",
    "    wins = [0 for i in 1:n_nash]\n",
    "    for i in 1:n_nash\n",
    "        counts[i] += 1\n",
    "        for j in 1:n_lose[i]\n",
    "            i_w = i_lose[i, j]\n",
    "            wins[i_w]+= 1\n",
    "        end\n",
    "    end\n",
    "    for iter in 1:nits\n",
    "        wc = 2 .* wins .+ counts\n",
    "        ind_winners = findall(wc .== maximum(wc))\n",
    "        i = rand(ind_winners)\n",
    "        counts[i] += 1\n",
    "        for j in 1:n_lose[i]\n",
    "            i_w = i_lose[i, j]\n",
    "            wins[i_w]+= 1\n",
    "        end\n",
    "    end\n",
    "    return counts\n",
    "end\n",
    "\n",
    "mutable struct BattleView\n",
    "    round::Int64\n",
    "    own::Array{Spud}\n",
    "    owncount::Array{Int64}\n",
    "    deployed::Array{Bool}\n",
    "    obs::Array{Spud}\n",
    "    obscount::Array{Int64}\n",
    "end\n",
    "\n",
    "mutable struct AiPlayer\n",
    "    genteam::Function\n",
    "    pick::Function\n",
    "    create::Function\n",
    "end\n",
    "\n",
    "n_copy = 3\n",
    "\n",
    "function initialize_game(team1::Array{Spud}, team2::Array{Spud})::Array{BattleView}\n",
    "    teams = [team1, team2]\n",
    "    bvs = Array{BattleView}(undef, 0)\n",
    "    for team in teams\n",
    "        bv = BattleView(0, team, [n_copy for i in 1:length(team)], [false for i in 1:length(team)], [], [])\n",
    "        append!(bvs, [bv])\n",
    "    end\n",
    "    return bvs\n",
    "end\n",
    "\n",
    "function observe_fighters(game::Array{BattleView}, choices::Array{Int64})::Array{BattleView}\n",
    "    for i in 1:2\n",
    "        j = 3- i\n",
    "        if choices[i] != 0\n",
    "            game[i].deployed[choices[i]] = true\n",
    "            ff = game[i].own[choices[i]]\n",
    "            if ff in game[j].obs\n",
    "                0\n",
    "            else\n",
    "                game[j].obs = append!(game[j].obs, [ff])\n",
    "                game[j].obscount = append!(game[j].obscount, [game[i].owncount[choices[i]]])\n",
    "            end\n",
    "        end\n",
    "    end\n",
    "    return game\n",
    "end\n",
    "\n",
    "function jobify_fighter_counts(game::Array{BattleView}, choices::Array{Int64}, job::Array{Int64})::Array{BattleView}\n",
    "    for i in 1:2\n",
    "        j = 3- i\n",
    "        if choices[i] != 0\n",
    "            game[i].owncount[choices[i]] = game[i].owncount[choices[i]] + job[i]\n",
    "            ff = game[i].own[choices[i]]\n",
    "            if ff in game[j].obs\n",
    "                ind = findall(x -> x==ff, game[j].obs)[1]\n",
    "                game[j].obscount[ind] = game[i].owncount[choices[i]]\n",
    "            else\n",
    "                0\n",
    "            end\n",
    "        end\n",
    "    end\n",
    "    return game\n",
    "end\n",
    "\n",
    "function play_combat(game::Array{BattleView}, choices::Array{Int64}, verbose::Bool = false)::Array{BattleView}\n",
    "    round = game[1].round + 1\n",
    "    fighters = [game[i].own[choices[i]] for i in 1:2]\n",
    "    for i in 1:2\n",
    "        @assert game[i].owncount[choices[i]] >= 0\n",
    "    end\n",
    "    if verbose\n",
    "        print(\"Round \")\n",
    "        print(round)\n",
    "        print(\": #A\")\n",
    "        print(choices[1])\n",
    "        print(\" \")\n",
    "        print(fighters[1])\n",
    "        print(\" vs #B\")\n",
    "        print(choices[2])\n",
    "        print(\" \")\n",
    "        println(fighters[2])\n",
    "    end\n",
    "    outcome = eval_battle(fighters[1], fighters[2])\n",
    "    if verbose\n",
    "        if outcome == 0\n",
    "            println(\"Tied!\")\n",
    "        else\n",
    "            if outcome == 1\n",
    "                print(fighters[1])\n",
    "            end\n",
    "            if outcome == -1\n",
    "                print(fighters[2])\n",
    "            end\n",
    "            println(\" wins!\")\n",
    "        end\n",
    "    end\n",
    "    game = observe_fighters(game, choices)\n",
    "    if outcome > -1\n",
    "        game = jobify_fighter_counts(game, choices, [0, -1])\n",
    "    end\n",
    "    if outcome < 1\n",
    "        game = jobify_fighter_counts(game, choices, [-1, 0])\n",
    "    end\n",
    "    for i in 1:2\n",
    "        game[i].round = round\n",
    "    end\n",
    "    return game\n",
    "end\n",
    "\n",
    "function play_add_spud(game::Array{BattleView}, player::Int64, ff::Spud, verbose::Bool = false)::Array{BattleView}\n",
    "    game[player].own = append!(game[player].own, [ff])\n",
    "    game[player].owncount = append!(game[player].owncount, [n_copy])\n",
    "    game[player].deployed = append!(game[player].deployed, [false])\n",
    "    if verbose\n",
    "        print(\"Player \")\n",
    "        print(player)\n",
    "        print(\" adds #\")\n",
    "        print([\"A\", \"B\"][player])\n",
    "        print(length(game[player].own))\n",
    "        print(\" \")\n",
    "        println(ff)\n",
    "    end\n",
    "    return game\n",
    "end\n",
    "\n",
    "function play_is_game_over(game::Array{BattleView})::Bool\n",
    "    for bv in game\n",
    "        if sum(bv.owncount) == 0\n",
    "            return true\n",
    "        end\n",
    "    end\n",
    "    return false\n",
    "end\n",
    "\n",
    "function generate_rand_team(env, counts, nteam)\n",
    "    cc = cumsum(counts)\n",
    "    team = Array{Spud}(undef, nteam)\n",
    "    for i in 1:nteam\n",
    "        tmp = rand(1:sum(counts))\n",
    "        ind = sum(cc .< tmp)+1\n",
    "        team[i] = env[ind]\n",
    "    end\n",
    "    return team\n",
    "end\n",
    "\n",
    "function ai0_pick(a::BattleView)::Int64\n",
    "    inds = findall(a.owncount .> 0)\n",
    "    return rand(inds)\n",
    "end\n",
    "\n",
    "function ai0_create(a::BattleView)::Spud\n",
    "    return generate_rand_team(nash_env, counts, 1)[1]\n",
    "end\n",
    "\n",
    "function ai1_create(a::BattleView)::Spud\n",
    "    ops = a.obs[a.obscount .> 0]\n",
    "    ebs = [eval_battle_list(ff, ops) for ff in nash_env]\n",
    "    cands = nash_env[ebs .== maximum(ebs)]\n",
    "    return rand(cands)\n",
    "end\n",
    "\n",
    "function ai2_create(a::BattleView)::Spud\n",
    "    ops = a.obs[a.obscount .> 0]\n",
    "    ebs = [eval_battle_list(ff, ops) for ff in nash_env]\n",
    "    if maximum(ebs) == length(ops)\n",
    "        cands = nash_env[ebs .== maximum(ebs)]\n",
    "        return rand(cands)\n",
    "    else\n",
    "        ebs2 = [eval_battle_list(ff, ops) for ff in lib]\n",
    "        if maximum(ebs2) > maximum(ebs)\n",
    "            cands = lib[ebs2 .== maximum(ebs2)]\n",
    "            return rand_rename(rand(cands))\n",
    "        else\n",
    "            cands = nash_env[ebs .== maximum(ebs)]\n",
    "            return rand(cands)\n",
    "        end\n",
    "    end\n",
    "end\n",
    "\n",
    "\n",
    "# picks Spud most likely to win\n",
    "function ai_greedy_pick(a::BattleView)::Int64\n",
    "    if length(a.obs[a.obscount .> 0]) == 0\n",
    "        return rand(findall(a.owncount .> 0))\n",
    "    end\n",
    "    res = ffp2(a.own[a.owncount .> 0], a.obs[a.obscount .> 0], 100)\n",
    "    ind = findall(a.owncount .> 0)[rand(findall(res.w1 .== maximum(res.w1)))]\n",
    "    return ind\n",
    "end\n",
    "\n",
    "# picks from spuds already deployed\n",
    "function ai_conservative_pick(a::BattleView)::Int64\n",
    "    own = a.own[a.owncount .> 0 .&& a.deployed]\n",
    "    owninds = findall(a.owncount .> 0 .&& a.deployed)\n",
    "    if length(own) == 0\n",
    "        # pick greedy\n",
    "        return ai_greedy_pick(a)\n",
    "    end\n",
    "    ops = a.obs[a.obscount .> 0]\n",
    "    res = ffp2(own, ops, 100)\n",
    "    ind = owninds[rand(findall(res.w1 .== maximum(res.w1)))]\n",
    "    return ind\n",
    "end\n",
    "\n",
    "# picks Spud based on 1-round nash\n",
    "function ai_myopic_pick(a::BattleView)::Int64\n",
    "    if length(a.obs[a.obscount .> 0]) == 0\n",
    "        return rand(findall(a.owncount .> 0))\n",
    "    end\n",
    "    res = ffp2(a.own[a.owncount .> 0], a.obs[a.obscount .> 0], 100)\n",
    "    cc = cumsum(res.w1)\n",
    "    ind = sum(cc .< rand()) + 1\n",
    "    return findall(a.owncount .> 0)[ind]\n",
    "end\n",
    "\n",
    "creation_rounds = [5, 10, 15]\n",
    "\n",
    "function play_game(players::Array{AiPlayer}, verbose::Bool = true)::Int64\n",
    "    ai1 = players[1]\n",
    "    ai2 = players[2]\n",
    "    ais = players\n",
    "    team1 = ai1.genteam()\n",
    "    team2 = ai2.genteam()\n",
    "    game = initialize_game(team1, team2)\n",
    "    while !play_is_game_over(game)\n",
    "        # play a round\n",
    "        choice1 = ai1.pick(game[1])\n",
    "        choice2 = ai2.pick(game[2])\n",
    "        game = play_combat(game, [choice1, choice2], verbose)\n",
    "        if verbose\n",
    "            for i in 1:2\n",
    "                println(game[i].owncount)\n",
    "            end\n",
    "        end\n",
    "        if game[1].round in creation_rounds\n",
    "            for i in 1:2\n",
    "                ff = ais[i].create(game[i])\n",
    "                game = play_add_spud(game, i, ff, verbose)\n",
    "            end\n",
    "        end\n",
    "    end\n",
    "    if sum(game[1].owncount) == 0\n",
    "        if sum(game[2].owncount) == 0\n",
    "            return 0\n",
    "        else\n",
    "            return -1\n",
    "        end\n",
    "    end\n",
    "    return 1\n",
    "end\n",
    "\n",
    "# ai1 = AiPlayer(() -> generate_rand_team(nash_env, counts, 5), ai_greedy_pick, ai1_create)\n",
    "# ai2 = AiPlayer(() -> generate_rand_team(nash_env, counts, 5), ai_greedy_pick, ai1_create)\n",
    "# ais = [ai1, ai2]\n",
    "# play_game(ais, true)\n",
    "\n",
    "#@time lib = sample_library(1.01, [999]);\n",
    "\n",
    "function filter_nondominated(as::Array{Spud})::Array{Spud}\n",
    "    df = spuds_to_df(as)\n",
    "    mat = Array{Int64}(undef, (length(as), 6))\n",
    "    mat[:, 1] = df.h\n",
    "    mat[:, 2] = df.f\n",
    "    mat[:, 3] = df.l\n",
    "    mat[:, 4] = df.p\n",
    "    mat[:, 5] = df.r\n",
    "    mat[:, 6] = df.s;\n",
    "    isDominated = zeros(Int64, length(as));\n",
    "    for i in 1:length(as)\n",
    "        v = mat[i, :]\n",
    "        bv = ones(Int64, length(as))\n",
    "        for j in 1:6\n",
    "            bv = bv .* (mat[:, j] .>= v[j])\n",
    "        end\n",
    "        if sum(bv) > 1\n",
    "            isDominated[i] = 1\n",
    "        end\n",
    "    end\n",
    "    return as[isDominated .== 0]\n",
    "end\n",
    "\n",
    "function spud_to_vec(a::Spud)::Array{Int64}\n",
    "    return [a.h, a.f, a.l, a.p, a.r, a.s]\n",
    "end\n",
    "\n",
    "struct SpudBase\n",
    "    name::String\n",
    "    h::Int64\n",
    "    f::Int64\n",
    "    l::Int64\n",
    "    p::Int64\n",
    "    r::Int64\n",
    "    s::Int64\n",
    "    a1::Int64\n",
    "    cost::Int64\n",
    "end\n",
    "\n",
    "function spud_to_vec(a::SpudBase)::Array{Int64}\n",
    "    return [a.h, a.f, a.l, a.p, a.r, a.s]\n",
    "end\n",
    "                                                                                    \n",
    "struct SpudMod\n",
    "    name::String\n",
    "    h::Int64\n",
    "    f::Int64\n",
    "    l::Int64\n",
    "    p::Int64\n",
    "    r::Int64\n",
    "    s::Int64\n",
    "    a1::Int64\n",
    "    minh::Int64\n",
    "    minf::Int64\n",
    "    minl::Int64\n",
    "    minp::Int64\n",
    "    minr::Int64\n",
    "    mins::Int64\n",
    "    cost::Int64\n",
    "end\n",
    "                                                                                        \n",
    "function spuds_to_df(as::Array{SpudBase})::DataFrame\n",
    "    names = Array{String}(undef, length(as))\n",
    "    hs = Array{Int}(undef, length(as))\n",
    "    fs = Array{Int}(undef, length(as))\n",
    "    ls = Array{Int}(undef, length(as))\n",
    "    ps = Array{Int}(undef, length(as))\n",
    "    rs = Array{Int}(undef, length(as))\n",
    "    ss = Array{Int}(undef, length(as))\n",
    "    a1s = Array{Int}(undef, length(as))\n",
    "    cs = Array{Int}(undef, length(as))\n",
    "    for ii in 1:length(as)\n",
    "        names[ii] = as[ii].name\n",
    "        hs[ii] = as[ii].h\n",
    "        fs[ii] = as[ii].f\n",
    "        ls[ii] = as[ii].l\n",
    "        ps[ii] = as[ii].p\n",
    "        rs[ii] = as[ii].r\n",
    "        ss[ii] = as[ii].s\n",
    "        a1s[ii] = as[ii].a1\n",
    "        cs[ii] = as[ii].cost\n",
    "    end\n",
    "    df = DataFrame(name = names, h = hs, f = fs, l = ls, p = ps, r = rs, s = ss, a1 = a1s, cost = cs)\n",
    "    return df\n",
    "end\n",
    "                                                                     "
   ]
  },
  {
   "cell_type": "code",
   "execution_count": 5,
   "id": "1708d852",
   "metadata": {},
   "outputs": [
    {
     "data": {
      "text/plain": [
       "combine_spud_mod (generic function with 1 method)"
      ]
     },
     "execution_count": 5,
     "metadata": {},
     "output_type": "execute_result"
    }
   ],
   "source": [
    "const discount = 20\n",
    "\n",
    "function rename_base(a::SpudBase, s::String)::SpudBase\n",
    "    return SpudBase(s, a.h,a.f,a.l,a.p,a.r,a.s,a.a1,a.cost)\n",
    "end\n",
    "\n",
    "function rename_job(a::SpudMod, s::String)::SpudMod\n",
    "    return SpudMod(s, a.h,a.f,a.l,a.p,a.r,a.s,a.a1,a.minh,a.minf,a.minl,a.minp,a.minr,a.mins,a.cost)\n",
    "end\n",
    "\n",
    "function check_validity(a::Spud)::Bool\n",
    "    return minimum([a.h,a.f,a.l,a.p,a.r,a.s]) >= MNV\n",
    "end\n",
    "\n",
    "function combine_base_job(b::SpudBase, j::SpudMod)::Spud\n",
    "    v = [b.h,b.f,b.l,b.p,b.r,b.s]\n",
    "    c = b.cost\n",
    "    a1 = b.a1\n",
    "    if a1 == 999\n",
    "        a1 = j.a1\n",
    "    end\n",
    "    w = [j.h,j.f,j.l,j.p,j.r,j.s]\n",
    "    m = [j.minh,j.minf,j.minl,j.minp,j.minr,j.mins]\n",
    "    c2 = j.cost\n",
    "    if sum(v .< m) == 0\n",
    "        c2 -= discount\n",
    "    end\n",
    "    z = v .+ w\n",
    "    z[z .> MXV] .= MXV\n",
    "    return Spud(string(j.name, \" \", b.name),z[1],z[2],z[3],z[4],z[5],z[6],a1,c+c2)\n",
    "end\n",
    "\n",
    "\n",
    "function combine_spud_mod(b::Spud, j::SpudMod)::Spud\n",
    "    v = [b.h,b.f,b.l,b.p,b.r,b.s]\n",
    "    c = b.cost\n",
    "    a1 = b.a1\n",
    "    if a1 == 999\n",
    "        a1 = j.a1\n",
    "    end\n",
    "    w = [j.h,j.f,j.l,j.p,j.r,j.s]\n",
    "    m = [j.minh,j.minf,j.minl,j.minp,j.minr,j.mins]\n",
    "    c2 = j.cost\n",
    "    # require spud to meet minimums\n",
    "    if sum(v .< m) > 0 || minimum(v .+ w) < MNV\n",
    "        return b\n",
    "    end\n",
    "    z = v .+ w\n",
    "    z[z .> MXV] .= MXV\n",
    "    return Spud(string(j.name, \" \", b.name),z[1],z[2],z[3],z[4],z[5],z[6],a1,c+c2)\n",
    "end"
   ]
  },
  {
   "cell_type": "code",
   "execution_count": 6,
   "id": "2e65f2d7",
   "metadata": {},
   "outputs": [
    {
     "data": {
      "text/plain": [
       "choice_wo (generic function with 1 method)"
      ]
     },
     "execution_count": 6,
     "metadata": {},
     "output_type": "execute_result"
    }
   ],
   "source": [
    "function get_spuds_with_value(scores::Array{Int64}, vmin::Int64, vmax::Int64)::Array{Spud}\n",
    "    inds = findall(scores .>= vmin .&& scores .<= vmax)\n",
    "    return map(x -> Spud(\"spud\",x[1],x[2],x[3],x[4],x[5],x[6],ability_none,scores[x]), inds)\n",
    "end\n",
    "\n",
    "function choice_wo(x::Array, n::Int64)::Array\n",
    "    w = [rand() for i in 1:length(x)]\n",
    "    return x[sortperm(w)][1:n]\n",
    "end"
   ]
  },
  {
   "cell_type": "markdown",
   "id": "40e8ce9d",
   "metadata": {},
   "source": [
    "#### Check exploitability"
   ]
  },
  {
   "cell_type": "code",
   "execution_count": 667,
   "id": "e2249621",
   "metadata": {},
   "outputs": [],
   "source": [
    "scores = matread(\"temp_desE_scores400.mat\")[\"scores\"];\n",
    "global_ne0 = get_spuds_with_value(scores, 100, 100);\n",
    "global_ne = get_spuds_with_value(scores, 95, 100);\n",
    "#CSV.write(\"temp_desE_globalenv.csv\",spuds_to_df(global_ne0))"
   ]
  },
  {
   "cell_type": "code",
   "execution_count": 696,
   "id": "5bae408e",
   "metadata": {},
   "outputs": [],
   "source": [
    "gfilt = filter_nondominated([ff for ff in global_ne if ff.h == 1 && ff.f == 1]);"
   ]
  },
  {
   "cell_type": "code",
   "execution_count": 736,
   "id": "7709aadc",
   "metadata": {},
   "outputs": [],
   "source": [
    "tt = []\n",
    "t2 = []\n",
    "for i in 1:20\n",
    "    #team = [rand(global_ne0) for i in 1:7]\n",
    "    team = [rand(gfilt) for i in 1:8]\n",
    "    if maximum([eval_battle_list(ff, team) for ff in global_ne]) != 8\n",
    "        println(spuds_to_df(team))\n",
    "        tt = team\n",
    "#         for j in 1:20\n",
    "#             t2 = tt[sortperm([rand() for i in 1:7])[1:4]]\n",
    "#             if maximum([eval_battle_list(ff, t2) for ff in global_ne]) != 4\n",
    "#                 println(spuds_to_df(t2))\n",
    "#             end\n",
    "#         end\n",
    "    end\n",
    "end"
   ]
  },
  {
   "cell_type": "code",
   "execution_count": 740,
   "id": "8d0545e5",
   "metadata": {},
   "outputs": [],
   "source": [
    "# tt = team"
   ]
  },
  {
   "cell_type": "code",
   "execution_count": 739,
   "id": "5893baf0",
   "metadata": {},
   "outputs": [],
   "source": [
    "\n",
    "# println(spuds_to_df(tt))\n",
    "# global_ne[[eval_battle_list(ff, tt) for ff in global_ne].==length(tt)]"
   ]
  },
  {
   "cell_type": "markdown",
   "id": "f192cf3d",
   "metadata": {},
   "source": [
    "#### Load pre-computed scores (from game_designL)"
   ]
  },
  {
   "cell_type": "code",
   "execution_count": 7,
   "id": "218e455b",
   "metadata": {},
   "outputs": [],
   "source": [
    "scores = matread(\"temp_desE_scores400.mat\")[\"scores\"];\n",
    "global_ne = get_spuds_with_value(scores, 95, 100);"
   ]
  },
  {
   "cell_type": "code",
   "execution_count": 8,
   "id": "a3241cdb",
   "metadata": {},
   "outputs": [
    {
     "data": {
      "text/plain": [
       "(26, 45, 0.5777777777777777)"
      ]
     },
     "execution_count": 8,
     "metadata": {},
     "output_type": "execute_result"
    }
   ],
   "source": [
    "wt = [1,1,2,1,1,1]\n",
    "#wt = [13,14,19,10,10,10]\n",
    "sums = [sum(spud_to_vec(s) .* wt) for s in global_ne];\n",
    "minimum(sums), maximum(sums), minimum(sums)/maximum(sums)"
   ]
  },
  {
   "cell_type": "code",
   "execution_count": 9,
   "id": "486bdc18",
   "metadata": {},
   "outputs": [
    {
     "data": {
      "text/html": [
       "<div><div style = \"float: left;\"><span>8×9 DataFrame</span></div><div style = \"clear: both;\"></div></div><div class = \"data-frame\" style = \"overflow-x: scroll;\"><table class = \"data-frame\" style = \"margin-bottom: 6px;\"><thead><tr class = \"header\"><th class = \"rowNumber\" style = \"font-weight: bold; text-align: right;\">Row</th><th style = \"text-align: left;\">name</th><th style = \"text-align: left;\">h</th><th style = \"text-align: left;\">f</th><th style = \"text-align: left;\">l</th><th style = \"text-align: left;\">p</th><th style = \"text-align: left;\">r</th><th style = \"text-align: left;\">s</th><th style = \"text-align: left;\">a1</th><th style = \"text-align: left;\">cost</th></tr><tr class = \"subheader headerLastRow\"><th class = \"rowNumber\" style = \"font-weight: bold; text-align: right;\"></th><th title = \"String\" style = \"text-align: left;\">String</th><th title = \"Int64\" style = \"text-align: left;\">Int64</th><th title = \"Int64\" style = \"text-align: left;\">Int64</th><th title = \"Int64\" style = \"text-align: left;\">Int64</th><th title = \"Int64\" style = \"text-align: left;\">Int64</th><th title = \"Int64\" style = \"text-align: left;\">Int64</th><th title = \"Int64\" style = \"text-align: left;\">Int64</th><th title = \"Int64\" style = \"text-align: left;\">Int64</th><th title = \"Int64\" style = \"text-align: left;\">Int64</th></tr></thead><tbody><tr><td class = \"rowNumber\" style = \"font-weight: bold; text-align: right;\">1</td><td style = \"text-align: left;\">spud</td><td style = \"text-align: right;\">1</td><td style = \"text-align: right;\">7</td><td style = \"text-align: right;\">1</td><td style = \"text-align: right;\">1</td><td style = \"text-align: right;\">8</td><td style = \"text-align: right;\">7</td><td style = \"text-align: right;\">999</td><td style = \"text-align: right;\">96</td></tr><tr><td class = \"rowNumber\" style = \"font-weight: bold; text-align: right;\">2</td><td style = \"text-align: left;\">spud</td><td style = \"text-align: right;\">1</td><td style = \"text-align: right;\">6</td><td style = \"text-align: right;\">1</td><td style = \"text-align: right;\">8</td><td style = \"text-align: right;\">1</td><td style = \"text-align: right;\">8</td><td style = \"text-align: right;\">999</td><td style = \"text-align: right;\">95</td></tr><tr><td class = \"rowNumber\" style = \"font-weight: bold; text-align: right;\">3</td><td style = \"text-align: left;\">spud</td><td style = \"text-align: right;\">1</td><td style = \"text-align: right;\">7</td><td style = \"text-align: right;\">1</td><td style = \"text-align: right;\">1</td><td style = \"text-align: right;\">7</td><td style = \"text-align: right;\">8</td><td style = \"text-align: right;\">999</td><td style = \"text-align: right;\">97</td></tr><tr><td class = \"rowNumber\" style = \"font-weight: bold; text-align: right;\">4</td><td style = \"text-align: left;\">spud</td><td style = \"text-align: right;\">1</td><td style = \"text-align: right;\">6</td><td style = \"text-align: right;\">1</td><td style = \"text-align: right;\">1</td><td style = \"text-align: right;\">8</td><td style = \"text-align: right;\">8</td><td style = \"text-align: right;\">999</td><td style = \"text-align: right;\">97</td></tr><tr><td class = \"rowNumber\" style = \"font-weight: bold; text-align: right;\">5</td><td style = \"text-align: left;\">spud</td><td style = \"text-align: right;\">1</td><td style = \"text-align: right;\">6</td><td style = \"text-align: right;\">1</td><td style = \"text-align: right;\">1</td><td style = \"text-align: right;\">7</td><td style = \"text-align: right;\">9</td><td style = \"text-align: right;\">999</td><td style = \"text-align: right;\">96</td></tr><tr><td class = \"rowNumber\" style = \"font-weight: bold; text-align: right;\">6</td><td style = \"text-align: left;\">spud</td><td style = \"text-align: right;\">1</td><td style = \"text-align: right;\">9</td><td style = \"text-align: right;\">1</td><td style = \"text-align: right;\">8</td><td style = \"text-align: right;\">6</td><td style = \"text-align: right;\">1</td><td style = \"text-align: right;\">999</td><td style = \"text-align: right;\">100</td></tr><tr><td class = \"rowNumber\" style = \"font-weight: bold; text-align: right;\">7</td><td style = \"text-align: left;\">spud</td><td style = \"text-align: right;\">1</td><td style = \"text-align: right;\">9</td><td style = \"text-align: right;\">1</td><td style = \"text-align: right;\">7</td><td style = \"text-align: right;\">7</td><td style = \"text-align: right;\">1</td><td style = \"text-align: right;\">999</td><td style = \"text-align: right;\">99</td></tr><tr><td class = \"rowNumber\" style = \"font-weight: bold; text-align: right;\">8</td><td style = \"text-align: left;\">spud</td><td style = \"text-align: right;\">1</td><td style = \"text-align: right;\">6</td><td style = \"text-align: right;\">1</td><td style = \"text-align: right;\">9</td><td style = \"text-align: right;\">8</td><td style = \"text-align: right;\">1</td><td style = \"text-align: right;\">999</td><td style = \"text-align: right;\">100</td></tr></tbody></table></div>"
      ],
      "text/latex": [
       "\\begin{tabular}{r|ccccccccc}\n",
       "\t& name & h & f & l & p & r & s & a1 & cost\\\\\n",
       "\t\\hline\n",
       "\t& String & Int64 & Int64 & Int64 & Int64 & Int64 & Int64 & Int64 & Int64\\\\\n",
       "\t\\hline\n",
       "\t1 & spud & 1 & 7 & 1 & 1 & 8 & 7 & 999 & 96 \\\\\n",
       "\t2 & spud & 1 & 6 & 1 & 8 & 1 & 8 & 999 & 95 \\\\\n",
       "\t3 & spud & 1 & 7 & 1 & 1 & 7 & 8 & 999 & 97 \\\\\n",
       "\t4 & spud & 1 & 6 & 1 & 1 & 8 & 8 & 999 & 97 \\\\\n",
       "\t5 & spud & 1 & 6 & 1 & 1 & 7 & 9 & 999 & 96 \\\\\n",
       "\t6 & spud & 1 & 9 & 1 & 8 & 6 & 1 & 999 & 100 \\\\\n",
       "\t7 & spud & 1 & 9 & 1 & 7 & 7 & 1 & 999 & 99 \\\\\n",
       "\t8 & spud & 1 & 6 & 1 & 9 & 8 & 1 & 999 & 100 \\\\\n",
       "\\end{tabular}\n"
      ],
      "text/plain": [
       "\u001b[1m8×9 DataFrame\u001b[0m\n",
       "\u001b[1m Row \u001b[0m│\u001b[1m name   \u001b[0m\u001b[1m h     \u001b[0m\u001b[1m f     \u001b[0m\u001b[1m l     \u001b[0m\u001b[1m p     \u001b[0m\u001b[1m r     \u001b[0m\u001b[1m s     \u001b[0m\u001b[1m a1    \u001b[0m\u001b[1m cost  \u001b[0m\n",
       "     │\u001b[90m String \u001b[0m\u001b[90m Int64 \u001b[0m\u001b[90m Int64 \u001b[0m\u001b[90m Int64 \u001b[0m\u001b[90m Int64 \u001b[0m\u001b[90m Int64 \u001b[0m\u001b[90m Int64 \u001b[0m\u001b[90m Int64 \u001b[0m\u001b[90m Int64 \u001b[0m\n",
       "─────┼────────────────────────────────────────────────────────────────\n",
       "   1 │ spud        1      7      1      1      8      7    999     96\n",
       "   2 │ spud        1      6      1      8      1      8    999     95\n",
       "   3 │ spud        1      7      1      1      7      8    999     97\n",
       "   4 │ spud        1      6      1      1      8      8    999     97\n",
       "   5 │ spud        1      6      1      1      7      9    999     96\n",
       "   6 │ spud        1      9      1      8      6      1    999    100\n",
       "   7 │ spud        1      9      1      7      7      1    999     99\n",
       "   8 │ spud        1      6      1      9      8      1    999    100"
      ]
     },
     "execution_count": 9,
     "metadata": {},
     "output_type": "execute_result"
    }
   ],
   "source": [
    "spuds_to_df(global_ne[sortperm(sums)[1:8]])"
   ]
  },
  {
   "cell_type": "code",
   "execution_count": 10,
   "id": "a063bd87",
   "metadata": {},
   "outputs": [
    {
     "data": {
      "text/html": [
       "<div><div style = \"float: left;\"><span>5×9 DataFrame</span></div><div style = \"clear: both;\"></div></div><div class = \"data-frame\" style = \"overflow-x: scroll;\"><table class = \"data-frame\" style = \"margin-bottom: 6px;\"><thead><tr class = \"header\"><th class = \"rowNumber\" style = \"font-weight: bold; text-align: right;\">Row</th><th style = \"text-align: left;\">name</th><th style = \"text-align: left;\">h</th><th style = \"text-align: left;\">f</th><th style = \"text-align: left;\">l</th><th style = \"text-align: left;\">p</th><th style = \"text-align: left;\">r</th><th style = \"text-align: left;\">s</th><th style = \"text-align: left;\">a1</th><th style = \"text-align: left;\">cost</th></tr><tr class = \"subheader headerLastRow\"><th class = \"rowNumber\" style = \"font-weight: bold; text-align: right;\"></th><th title = \"String\" style = \"text-align: left;\">String</th><th title = \"Int64\" style = \"text-align: left;\">Int64</th><th title = \"Int64\" style = \"text-align: left;\">Int64</th><th title = \"Int64\" style = \"text-align: left;\">Int64</th><th title = \"Int64\" style = \"text-align: left;\">Int64</th><th title = \"Int64\" style = \"text-align: left;\">Int64</th><th title = \"Int64\" style = \"text-align: left;\">Int64</th><th title = \"Int64\" style = \"text-align: left;\">Int64</th><th title = \"Int64\" style = \"text-align: left;\">Int64</th></tr></thead><tbody><tr><td class = \"rowNumber\" style = \"font-weight: bold; text-align: right;\">1</td><td style = \"text-align: left;\">spud</td><td style = \"text-align: right;\">9</td><td style = \"text-align: right;\">1</td><td style = \"text-align: right;\">4</td><td style = \"text-align: right;\">9</td><td style = \"text-align: right;\">9</td><td style = \"text-align: right;\">9</td><td style = \"text-align: right;\">999</td><td style = \"text-align: right;\">97</td></tr><tr><td class = \"rowNumber\" style = \"font-weight: bold; text-align: right;\">2</td><td style = \"text-align: left;\">spud</td><td style = \"text-align: right;\">4</td><td style = \"text-align: right;\">9</td><td style = \"text-align: right;\">9</td><td style = \"text-align: right;\">2</td><td style = \"text-align: right;\">9</td><td style = \"text-align: right;\">2</td><td style = \"text-align: right;\">999</td><td style = \"text-align: right;\">100</td></tr><tr><td class = \"rowNumber\" style = \"font-weight: bold; text-align: right;\">3</td><td style = \"text-align: left;\">spud</td><td style = \"text-align: right;\">3</td><td style = \"text-align: right;\">9</td><td style = \"text-align: right;\">9</td><td style = \"text-align: right;\">2</td><td style = \"text-align: right;\">9</td><td style = \"text-align: right;\">3</td><td style = \"text-align: right;\">999</td><td style = \"text-align: right;\">100</td></tr><tr><td class = \"rowNumber\" style = \"font-weight: bold; text-align: right;\">4</td><td style = \"text-align: left;\">spud</td><td style = \"text-align: right;\">9</td><td style = \"text-align: right;\">1</td><td style = \"text-align: right;\">4</td><td style = \"text-align: right;\">9</td><td style = \"text-align: right;\">9</td><td style = \"text-align: right;\">8</td><td style = \"text-align: right;\">999</td><td style = \"text-align: right;\">96</td></tr><tr><td class = \"rowNumber\" style = \"font-weight: bold; text-align: right;\">5</td><td style = \"text-align: left;\">spud</td><td style = \"text-align: right;\">9</td><td style = \"text-align: right;\">1</td><td style = \"text-align: right;\">4</td><td style = \"text-align: right;\">9</td><td style = \"text-align: right;\">8</td><td style = \"text-align: right;\">9</td><td style = \"text-align: right;\">999</td><td style = \"text-align: right;\">97</td></tr></tbody></table></div>"
      ],
      "text/latex": [
       "\\begin{tabular}{r|ccccccccc}\n",
       "\t& name & h & f & l & p & r & s & a1 & cost\\\\\n",
       "\t\\hline\n",
       "\t& String & Int64 & Int64 & Int64 & Int64 & Int64 & Int64 & Int64 & Int64\\\\\n",
       "\t\\hline\n",
       "\t1 & spud & 9 & 1 & 4 & 9 & 9 & 9 & 999 & 97 \\\\\n",
       "\t2 & spud & 4 & 9 & 9 & 2 & 9 & 2 & 999 & 100 \\\\\n",
       "\t3 & spud & 3 & 9 & 9 & 2 & 9 & 3 & 999 & 100 \\\\\n",
       "\t4 & spud & 9 & 1 & 4 & 9 & 9 & 8 & 999 & 96 \\\\\n",
       "\t5 & spud & 9 & 1 & 4 & 9 & 8 & 9 & 999 & 97 \\\\\n",
       "\\end{tabular}\n"
      ],
      "text/plain": [
       "\u001b[1m5×9 DataFrame\u001b[0m\n",
       "\u001b[1m Row \u001b[0m│\u001b[1m name   \u001b[0m\u001b[1m h     \u001b[0m\u001b[1m f     \u001b[0m\u001b[1m l     \u001b[0m\u001b[1m p     \u001b[0m\u001b[1m r     \u001b[0m\u001b[1m s     \u001b[0m\u001b[1m a1    \u001b[0m\u001b[1m cost  \u001b[0m\n",
       "     │\u001b[90m String \u001b[0m\u001b[90m Int64 \u001b[0m\u001b[90m Int64 \u001b[0m\u001b[90m Int64 \u001b[0m\u001b[90m Int64 \u001b[0m\u001b[90m Int64 \u001b[0m\u001b[90m Int64 \u001b[0m\u001b[90m Int64 \u001b[0m\u001b[90m Int64 \u001b[0m\n",
       "─────┼────────────────────────────────────────────────────────────────\n",
       "   1 │ spud        9      1      4      9      9      9    999     97\n",
       "   2 │ spud        4      9      9      2      9      2    999    100\n",
       "   3 │ spud        3      9      9      2      9      3    999    100\n",
       "   4 │ spud        9      1      4      9      9      8    999     96\n",
       "   5 │ spud        9      1      4      9      8      9    999     97"
      ]
     },
     "execution_count": 10,
     "metadata": {},
     "output_type": "execute_result"
    }
   ],
   "source": [
    "spuds_to_df(global_ne[sortperm(-sums)[1:5]])"
   ]
  },
  {
   "cell_type": "code",
   "execution_count": 202,
   "id": "c3d05119",
   "metadata": {},
   "outputs": [
    {
     "data": {
      "text/plain": [
       "10862"
      ]
     },
     "execution_count": 202,
     "metadata": {},
     "output_type": "execute_result"
    }
   ],
   "source": [
    "# get all vectors with sum 293\n",
    "temp = findall(scores .>= -999);\n",
    "sums = [t[1]*wt[1]+t[2]*wt[2]+t[3]*wt[3]+t[4]*wt[4]+t[5]*wt[5]+t[6]*wt[6] for t in temp];\n",
    "temp = temp[sums .<= 24 .&& sums .>= 24];\n",
    "bases = map((x, i) -> Spud(string(\"b\", i),x[1],x[2],x[3],x[4],x[5],x[6],ability_none,0), temp, 1:length(temp));\n",
    "length(bases)"
   ]
  },
  {
   "cell_type": "code",
   "execution_count": 203,
   "id": "9cabc33d",
   "metadata": {},
   "outputs": [],
   "source": [
    "base_vs = copy(transpose(reduce(hcat, map(spud_to_vec, bases))));"
   ]
  },
  {
   "cell_type": "code",
   "execution_count": 204,
   "id": "7e828803",
   "metadata": {},
   "outputs": [
    {
     "data": {
      "text/plain": [
       "87"
      ]
     },
     "execution_count": 204,
     "metadata": {},
     "output_type": "execute_result"
    }
   ],
   "source": [
    "maximum([scores[CartesianIndex((base_vs[i, :]...))] for i in 1:size(base_vs)[1]])"
   ]
  },
  {
   "cell_type": "code",
   "execution_count": null,
   "id": "20a645dc",
   "metadata": {},
   "outputs": [],
   "source": []
  },
  {
   "cell_type": "code",
   "execution_count": 205,
   "id": "90ba5c4d",
   "metadata": {},
   "outputs": [
    {
     "data": {
      "text/html": [
       "<div><div style = \"float: left;\"><span>10×9 DataFrame</span></div><div style = \"clear: both;\"></div></div><div class = \"data-frame\" style = \"overflow-x: scroll;\"><table class = \"data-frame\" style = \"margin-bottom: 6px;\"><thead><tr class = \"header\"><th class = \"rowNumber\" style = \"font-weight: bold; text-align: right;\">Row</th><th style = \"text-align: left;\">name</th><th style = \"text-align: left;\">h</th><th style = \"text-align: left;\">f</th><th style = \"text-align: left;\">l</th><th style = \"text-align: left;\">p</th><th style = \"text-align: left;\">r</th><th style = \"text-align: left;\">s</th><th style = \"text-align: left;\">a1</th><th style = \"text-align: left;\">cost</th></tr><tr class = \"subheader headerLastRow\"><th class = \"rowNumber\" style = \"font-weight: bold; text-align: right;\"></th><th title = \"String\" style = \"text-align: left;\">String</th><th title = \"Int64\" style = \"text-align: left;\">Int64</th><th title = \"Int64\" style = \"text-align: left;\">Int64</th><th title = \"Int64\" style = \"text-align: left;\">Int64</th><th title = \"Int64\" style = \"text-align: left;\">Int64</th><th title = \"Int64\" style = \"text-align: left;\">Int64</th><th title = \"Int64\" style = \"text-align: left;\">Int64</th><th title = \"Int64\" style = \"text-align: left;\">Int64</th><th title = \"Int64\" style = \"text-align: left;\">Int64</th></tr></thead><tbody><tr><td class = \"rowNumber\" style = \"font-weight: bold; text-align: right;\">1</td><td style = \"text-align: left;\">b21</td><td style = \"text-align: right;\">8</td><td style = \"text-align: right;\">1</td><td style = \"text-align: right;\">6</td><td style = \"text-align: right;\">1</td><td style = \"text-align: right;\">1</td><td style = \"text-align: right;\">1</td><td style = \"text-align: right;\">999</td><td style = \"text-align: right;\">0</td></tr><tr><td class = \"rowNumber\" style = \"font-weight: bold; text-align: right;\">2</td><td style = \"text-align: left;\">b29</td><td style = \"text-align: right;\">6</td><td style = \"text-align: right;\">1</td><td style = \"text-align: right;\">7</td><td style = \"text-align: right;\">1</td><td style = \"text-align: right;\">1</td><td style = \"text-align: right;\">1</td><td style = \"text-align: right;\">999</td><td style = \"text-align: right;\">0</td></tr><tr><td class = \"rowNumber\" style = \"font-weight: bold; text-align: right;\">3</td><td style = \"text-align: left;\">b2146</td><td style = \"text-align: right;\">7</td><td style = \"text-align: right;\">1</td><td style = \"text-align: right;\">6</td><td style = \"text-align: right;\">1</td><td style = \"text-align: right;\">1</td><td style = \"text-align: right;\">2</td><td style = \"text-align: right;\">999</td><td style = \"text-align: right;\">0</td></tr><tr><td class = \"rowNumber\" style = \"font-weight: bold; text-align: right;\">4</td><td style = \"text-align: left;\">b13</td><td style = \"text-align: right;\">9</td><td style = \"text-align: right;\">2</td><td style = \"text-align: right;\">5</td><td style = \"text-align: right;\">1</td><td style = \"text-align: right;\">1</td><td style = \"text-align: right;\">1</td><td style = \"text-align: right;\">999</td><td style = \"text-align: right;\">0</td></tr><tr><td class = \"rowNumber\" style = \"font-weight: bold; text-align: right;\">5</td><td style = \"text-align: left;\">b22</td><td style = \"text-align: right;\">7</td><td style = \"text-align: right;\">2</td><td style = \"text-align: right;\">6</td><td style = \"text-align: right;\">1</td><td style = \"text-align: right;\">1</td><td style = \"text-align: right;\">1</td><td style = \"text-align: right;\">999</td><td style = \"text-align: right;\">0</td></tr><tr><td class = \"rowNumber\" style = \"font-weight: bold; text-align: right;\">6</td><td style = \"text-align: left;\">b57</td><td style = \"text-align: right;\">9</td><td style = \"text-align: right;\">1</td><td style = \"text-align: right;\">5</td><td style = \"text-align: right;\">2</td><td style = \"text-align: right;\">1</td><td style = \"text-align: right;\">1</td><td style = \"text-align: right;\">999</td><td style = \"text-align: right;\">0</td></tr><tr><td class = \"rowNumber\" style = \"font-weight: bold; text-align: right;\">7</td><td style = \"text-align: left;\">b66</td><td style = \"text-align: right;\">7</td><td style = \"text-align: right;\">1</td><td style = \"text-align: right;\">6</td><td style = \"text-align: right;\">2</td><td style = \"text-align: right;\">1</td><td style = \"text-align: right;\">1</td><td style = \"text-align: right;\">999</td><td style = \"text-align: right;\">0</td></tr><tr><td class = \"rowNumber\" style = \"font-weight: bold; text-align: right;\">8</td><td style = \"text-align: left;\">b347</td><td style = \"text-align: right;\">9</td><td style = \"text-align: right;\">1</td><td style = \"text-align: right;\">5</td><td style = \"text-align: right;\">1</td><td style = \"text-align: right;\">2</td><td style = \"text-align: right;\">1</td><td style = \"text-align: right;\">999</td><td style = \"text-align: right;\">0</td></tr><tr><td class = \"rowNumber\" style = \"font-weight: bold; text-align: right;\">9</td><td style = \"text-align: left;\">b356</td><td style = \"text-align: right;\">7</td><td style = \"text-align: right;\">1</td><td style = \"text-align: right;\">6</td><td style = \"text-align: right;\">1</td><td style = \"text-align: right;\">2</td><td style = \"text-align: right;\">1</td><td style = \"text-align: right;\">999</td><td style = \"text-align: right;\">0</td></tr><tr><td class = \"rowNumber\" style = \"font-weight: bold; text-align: right;\">10</td><td style = \"text-align: left;\">b2137</td><td style = \"text-align: right;\">9</td><td style = \"text-align: right;\">1</td><td style = \"text-align: right;\">5</td><td style = \"text-align: right;\">1</td><td style = \"text-align: right;\">1</td><td style = \"text-align: right;\">2</td><td style = \"text-align: right;\">999</td><td style = \"text-align: right;\">0</td></tr></tbody></table></div>"
      ],
      "text/latex": [
       "\\begin{tabular}{r|ccccccccc}\n",
       "\t& name & h & f & l & p & r & s & a1 & cost\\\\\n",
       "\t\\hline\n",
       "\t& String & Int64 & Int64 & Int64 & Int64 & Int64 & Int64 & Int64 & Int64\\\\\n",
       "\t\\hline\n",
       "\t1 & b21 & 8 & 1 & 6 & 1 & 1 & 1 & 999 & 0 \\\\\n",
       "\t2 & b29 & 6 & 1 & 7 & 1 & 1 & 1 & 999 & 0 \\\\\n",
       "\t3 & b2146 & 7 & 1 & 6 & 1 & 1 & 2 & 999 & 0 \\\\\n",
       "\t4 & b13 & 9 & 2 & 5 & 1 & 1 & 1 & 999 & 0 \\\\\n",
       "\t5 & b22 & 7 & 2 & 6 & 1 & 1 & 1 & 999 & 0 \\\\\n",
       "\t6 & b57 & 9 & 1 & 5 & 2 & 1 & 1 & 999 & 0 \\\\\n",
       "\t7 & b66 & 7 & 1 & 6 & 2 & 1 & 1 & 999 & 0 \\\\\n",
       "\t8 & b347 & 9 & 1 & 5 & 1 & 2 & 1 & 999 & 0 \\\\\n",
       "\t9 & b356 & 7 & 1 & 6 & 1 & 2 & 1 & 999 & 0 \\\\\n",
       "\t10 & b2137 & 9 & 1 & 5 & 1 & 1 & 2 & 999 & 0 \\\\\n",
       "\\end{tabular}\n"
      ],
      "text/plain": [
       "\u001b[1m10×9 DataFrame\u001b[0m\n",
       "\u001b[1m Row \u001b[0m│\u001b[1m name   \u001b[0m\u001b[1m h     \u001b[0m\u001b[1m f     \u001b[0m\u001b[1m l     \u001b[0m\u001b[1m p     \u001b[0m\u001b[1m r     \u001b[0m\u001b[1m s     \u001b[0m\u001b[1m a1    \u001b[0m\u001b[1m cost  \u001b[0m\n",
       "     │\u001b[90m String \u001b[0m\u001b[90m Int64 \u001b[0m\u001b[90m Int64 \u001b[0m\u001b[90m Int64 \u001b[0m\u001b[90m Int64 \u001b[0m\u001b[90m Int64 \u001b[0m\u001b[90m Int64 \u001b[0m\u001b[90m Int64 \u001b[0m\u001b[90m Int64 \u001b[0m\n",
       "─────┼────────────────────────────────────────────────────────────────\n",
       "   1 │ b21         8      1      6      1      1      1    999      0\n",
       "   2 │ b29         6      1      7      1      1      1    999      0\n",
       "   3 │ b2146       7      1      6      1      1      2    999      0\n",
       "   4 │ b13         9      2      5      1      1      1    999      0\n",
       "   5 │ b22         7      2      6      1      1      1    999      0\n",
       "   6 │ b57         9      1      5      2      1      1    999      0\n",
       "   7 │ b66         7      1      6      2      1      1    999      0\n",
       "   8 │ b347        9      1      5      1      2      1    999      0\n",
       "   9 │ b356        7      1      6      1      2      1    999      0\n",
       "  10 │ b2137       9      1      5      1      1      2    999      0"
      ]
     },
     "execution_count": 205,
     "metadata": {},
     "output_type": "execute_result"
    }
   ],
   "source": [
    "spuds_to_df(bases[sortperm(-[scores[CartesianIndex((base_vs[i, :]...))] for i in 1:size(base_vs)[1]])][1:10])"
   ]
  },
  {
   "cell_type": "code",
   "execution_count": 356,
   "id": "d163f506",
   "metadata": {},
   "outputs": [
    {
     "data": {
      "text/plain": [
       "Spud(\"spud\", 9, 4, 1, 8, 9, 8, 999, 96)"
      ]
     },
     "execution_count": 356,
     "metadata": {},
     "output_type": "execute_result"
    }
   ],
   "source": [
    "# consider a random target\n",
    "target = rand(global_ne)"
   ]
  },
  {
   "cell_type": "code",
   "execution_count": 412,
   "id": "464a1711",
   "metadata": {},
   "outputs": [
    {
     "data": {
      "text/plain": [
       "8096"
      ]
     },
     "execution_count": 412,
     "metadata": {},
     "output_type": "execute_result"
    }
   ],
   "source": [
    "# find a close base\n",
    "tarv = spud_to_vec(target)\n",
    "dists = [sum(map(abs, base_vs[i, :] .- tarv)) for i in 1:length(bases)];\n",
    "maxadds = [maximum(tarv .- base_vs[i, :]) for i in 1:length(bases)];\n",
    "mults = [maximum((tarv ./ base_vs[i, :])[tarv .>= 5]) for i in 1:length(bases)];\n",
    "dom = [sum(base_vs[i, :] .- tarv .> 0)==0 for i in 1:length(bases)];\n",
    "#cand_inds = findall(dists .== minimum(dists) .&& dom)\n",
    "#cand_inds = findall(mults .== minimum(mults) .&& dom)\n",
    "#cand_inds = findall(base_vs[:, 2] .== tarv[2] .&& base_vs[:, 3] .== tarv[3] .&& base_vs[:, 4] .== tarv[4] .&& base_vs[:, 6] .== tarv[6] .&& dom)\n",
    "cand_inds = findall(maxadds .== minimum(maxadds) .&& dom)\n",
    "cand_ind = rand(cand_inds)"
   ]
  },
  {
   "cell_type": "code",
   "execution_count": 413,
   "id": "50a17037",
   "metadata": {},
   "outputs": [
    {
     "data": {
      "text/plain": [
       "35"
      ]
     },
     "execution_count": 413,
     "metadata": {},
     "output_type": "execute_result"
    }
   ],
   "source": [
    "length(cand_inds)"
   ]
  },
  {
   "cell_type": "code",
   "execution_count": 414,
   "id": "e48af895",
   "metadata": {},
   "outputs": [
    {
     "data": {
      "text/plain": [
       "Spud(\"b8096\", 5, 1, 1, 4, 7, 5, 999, 0)"
      ]
     },
     "execution_count": 414,
     "metadata": {},
     "output_type": "execute_result"
    }
   ],
   "source": [
    "b = bases[cand_ind]\n",
    "bv = base_vs[cand_ind, :]\n",
    "b"
   ]
  },
  {
   "cell_type": "markdown",
   "id": "fb77a6f2",
   "metadata": {},
   "source": [
    "0"
   ]
  },
  {
   "cell_type": "code",
   "execution_count": 415,
   "id": "1f250999",
   "metadata": {},
   "outputs": [
    {
     "data": {
      "text/plain": [
       "1×6 transpose(::Vector{Int64}) with eltype Int64:\n",
       " 4  3  0  4  2  3"
      ]
     },
     "execution_count": 415,
     "metadata": {},
     "output_type": "execute_result"
    }
   ],
   "source": [
    "diff = tarv .- bv\n",
    "transpose(diff)"
   ]
  },
  {
   "cell_type": "code",
   "execution_count": 416,
   "id": "6248db65",
   "metadata": {},
   "outputs": [
    {
     "data": {
      "text/plain": [
       "(467, 196)"
      ]
     },
     "execution_count": 416,
     "metadata": {},
     "output_type": "execute_result"
    }
   ],
   "source": [
    "final_vs = base_vs .+ transpose(diff)\n",
    "final_vs[final_vs .> MXV] .= MXV;\n",
    "cs = map(x -> scores[CartesianIndex(x...)], eachrow(final_vs))\n",
    "sum(cs .<= MXS .&& cs .>= MXS - 5), maximum(cs)"
   ]
  },
  {
   "cell_type": "markdown",
   "id": "465cf2ff",
   "metadata": {},
   "source": [
    "```\n",
    "  39 │ b2625       9      3      1      6      2      2    999      0\n",
    "  40 │ b2658       8      3      1      7      2      2    999      0\n",
    "  41 │ b2687       7      3      1      8      2      2    999      0\n",
    "  42 │ b2712       6      3      1      9      2      2    999      0\n",
    "```"
   ]
  },
  {
   "cell_type": "code",
   "execution_count": 489,
   "id": "53873c8b",
   "metadata": {},
   "outputs": [
    {
     "data": {
      "text/plain": [
       "4×6 Matrix{Int64}:\n",
       " 9  6  1  9  4  5\n",
       " 9  6  1  9  4  5\n",
       " 9  6  1  9  4  5\n",
       " 9  6  1  9  4  5"
      ]
     },
     "execution_count": 489,
     "metadata": {},
     "output_type": "execute_result"
    }
   ],
   "source": [
    "final_vs[[2625,2658,2687,2712],:]"
   ]
  },
  {
   "cell_type": "code",
   "execution_count": null,
   "id": "33fec695",
   "metadata": {},
   "outputs": [],
   "source": []
  },
  {
   "cell_type": "code",
   "execution_count": 460,
   "id": "d6ec11d4",
   "metadata": {
    "scrolled": false
   },
   "outputs": [
    {
     "name": "stdout",
     "output_type": "stream",
     "text": [
      "\u001b[1m8×9 DataFrame\u001b[0m\n",
      "\u001b[1m Row \u001b[0m│\u001b[1m name   \u001b[0m\u001b[1m h     \u001b[0m\u001b[1m f     \u001b[0m\u001b[1m l     \u001b[0m\u001b[1m p     \u001b[0m\u001b[1m r     \u001b[0m\u001b[1m s     \u001b[0m\u001b[1m a1    \u001b[0m\u001b[1m cost  \u001b[0m\n",
      "     │\u001b[90m String \u001b[0m\u001b[90m Int64 \u001b[0m\u001b[90m Int64 \u001b[0m\u001b[90m Int64 \u001b[0m\u001b[90m Int64 \u001b[0m\u001b[90m Int64 \u001b[0m\u001b[90m Int64 \u001b[0m\u001b[90m Int64 \u001b[0m\u001b[90m Int64 \u001b[0m\n",
      "─────┼────────────────────────────────────────────────────────────────\n",
      "   1 │ b3764       4      1      2      6      7      2    999      0\n",
      "   2 │ b3884       4      1      2      5      8      2    999      0\n",
      "   3 │ b5618       4      1      2      3      9      3    999      0\n",
      "   4 │ b6532       4      1      2      7      4      4    999      0\n",
      "   5 │ b7014       4      1      2      2      9      4    999      0\n",
      "   6 │ b7482       4      1      2      8      2      5    999      0\n",
      "   7 │ b10293      4      1      2      3      4      8    999      0\n",
      "   8 │ b10636      4      1      2      4      2      9    999      0\n"
     ]
    }
   ],
   "source": [
    "#println(spuds_to_df(bases[cs .<= MXS .&& cs .>= MXS - 2]))\n",
    "df = spuds_to_df(bases[cs .<= MXS .&& cs .>= MXS - 2 .&& base_vs[:, 2].==1 .&& base_vs[:, 3].==2])\n",
    "#df.t = min.(df.r, df.s)\n",
    "println(df[df.h.==4,:])"
   ]
  },
  {
   "cell_type": "code",
   "execution_count": 464,
   "id": "719bdb5f",
   "metadata": {},
   "outputs": [
    {
     "data": {
      "text/plain": [
       "4×6 Matrix{Int64}:\n",
       " 8  4  2  9  9  5\n",
       " 8  4  2  9  9  5\n",
       " 8  4  2  7  9  6\n",
       " 8  4  2  9  6  7"
      ]
     },
     "execution_count": 464,
     "metadata": {},
     "output_type": "execute_result"
    }
   ],
   "source": [
    "final_vs[[3764,3884,5618,6532],:]"
   ]
  },
  {
   "cell_type": "code",
   "execution_count": 474,
   "id": "c1f198b2",
   "metadata": {},
   "outputs": [
    {
     "data": {
      "text/plain": [
       "99"
      ]
     },
     "execution_count": 474,
     "metadata": {},
     "output_type": "execute_result"
    }
   ],
   "source": [
    "scores[5,4,2,9,9,5]"
   ]
  },
  {
   "cell_type": "code",
   "execution_count": 375,
   "id": "f1b08efd",
   "metadata": {},
   "outputs": [],
   "source": [
    "# transpose(tarv ./ bv)"
   ]
  },
  {
   "cell_type": "code",
   "execution_count": 212,
   "id": "dd7c24ef",
   "metadata": {},
   "outputs": [],
   "source": [
    "# div_nums = [0,0,0,0,0,0]\n",
    "# div_dnms = [0,0,0,0,0,0];\n",
    "# addimods = [0,0,0,0,0,0];"
   ]
  },
  {
   "cell_type": "code",
   "execution_count": 363,
   "id": "8b83b00f",
   "metadata": {},
   "outputs": [],
   "source": [
    "# div_nums = [4,0,0,1,1,1]\n",
    "# div_dnms = [5,0,0,1,2,1];\n",
    "# addimods = [0,1,0,0,0,0];"
   ]
  },
  {
   "cell_type": "code",
   "execution_count": 364,
   "id": "bff9bcfd",
   "metadata": {},
   "outputs": [
    {
     "data": {
      "text/plain": [
       "608"
      ]
     },
     "execution_count": 364,
     "metadata": {},
     "output_type": "execute_result"
    }
   ],
   "source": [
    "# final_vs = copy(base_vs)\n",
    "# for i in 1:length(bases)\n",
    "#     v = base_vs[i,:]\n",
    "#     for j in findall(div_dnms .!= 0)\n",
    "#         v[j] = v[j] + div(div_nums[j] * v[j],div_dnms[j])\n",
    "#     end\n",
    "#     v = v .+ addimods\n",
    "#     final_vs[i, :] = v\n",
    "# end\n",
    "# final_vs[final_vs .> MXV] .= MXV;\n",
    "# cs = map(x -> scores[CartesianIndex(x...)], eachrow(final_vs))\n",
    "# sum(cs .<= MXS .&& cs .>= MXS - 5)"
   ]
  },
  {
   "cell_type": "code",
   "execution_count": 425,
   "id": "3f2eb6ee",
   "metadata": {},
   "outputs": [],
   "source": [
    "# transpose(final_vs[cand_ind,:] .- tarv)"
   ]
  },
  {
   "cell_type": "code",
   "execution_count": 420,
   "id": "ada30405",
   "metadata": {},
   "outputs": [
    {
     "data": {
      "text/plain": [
       "(467, 196)"
      ]
     },
     "execution_count": 420,
     "metadata": {},
     "output_type": "execute_result"
    }
   ],
   "source": [
    "final_vs = base_vs .+ transpose(diff)\n",
    "final_vs[final_vs .> MXV] .= MXV;\n",
    "cs = map(x -> scores[CartesianIndex(x...)], eachrow(final_vs))\n",
    "sum(cs .<= MXS .&& cs .>= MXS - 5), maximum(cs)"
   ]
  },
  {
   "cell_type": "code",
   "execution_count": 421,
   "id": "fd009f3a",
   "metadata": {},
   "outputs": [
    {
     "data": {
      "text/plain": [
       "100"
      ]
     },
     "execution_count": 421,
     "metadata": {},
     "output_type": "execute_result"
    }
   ],
   "source": [
    "## come up with min and max criteria that select a region of base_vs which are eligible (cs <= MXS)\n",
    "#mn = [1,1,1,1,1,1]\n",
    "#mx = [9,9,9,9,9,9]\n",
    "mn = [1,1,1,1,1,1]\n",
    "mx = [9,1,1,9,9,9]\n",
    "filt = map(x -> sum(x .< mn) == 0 && sum(x .> mx) == 0, eachrow(base_vs))\n",
    "maximum(cs[filt])"
   ]
  },
  {
   "cell_type": "code",
   "execution_count": 446,
   "id": "b9266970",
   "metadata": {},
   "outputs": [
    {
     "data": {
      "text/plain": [
       "30×8 Matrix{Int64}:\n",
       " 9069  3  1  2  3  7  6  110\n",
       " 8949  3  1  2  5  5  6  109\n",
       " 9019  3  1  2  4  6  6  109\n",
       " 9058  4  1  2  2  7  6  109\n",
       " 9103  3  1  2  2  8  6  109\n",
       " 9830  3  1  2  2  7  7  109\n",
       " 8031  3  1  2  5  6  5  108\n",
       " 8101  3  1  2  4  7  5  108\n",
       " 8844  4  1  2  5  4  6  108\n",
       " 8855  3  1  2  6  4  6  108\n",
       " 9008  4  1  2  3  6  6  108\n",
       " 9043  5  1  2  1  7  6  108\n",
       " 9092  4  1  2  1  8  6  108\n",
       "    ⋮              ⋮     \n",
       " 6905  3  1  2  5  7  4  107\n",
       " 8090  4  1  2  3  7  5  107\n",
       " 8151  3  1  2  3  8  5  107\n",
       " 8709  5  1  2  5  3  6  107\n",
       " 8724  4  1  2  6  3  6  107\n",
       " 8938  4  1  2  4  5  6  107\n",
       " 9571  4  1  2  5  3  7  107\n",
       " 9746  3  1  2  4  5  7  107\n",
       " 9796  3  1  2  3  6  7  107\n",
       " 7926  4  1  2  5  5  5  106\n",
       " 7937  3  1  2  6  5  5  106\n",
       " 8020  4  1  2  4  6  5  106"
      ]
     },
     "execution_count": 446,
     "metadata": {},
     "output_type": "execute_result"
    }
   ],
   "source": [
    "filtp = filt[sortperm(-cs)]\n",
    "hcat(1:length(bases), base_vs,cs)[sortperm(-cs),:][filtp,:][1:30,:]"
   ]
  },
  {
   "cell_type": "code",
   "execution_count": 433,
   "id": "4acdda93",
   "metadata": {},
   "outputs": [
    {
     "data": {
      "text/plain": [
       "110"
      ]
     },
     "execution_count": 433,
     "metadata": {},
     "output_type": "execute_result"
    }
   ],
   "source": [
    "## come up with min and max criteria that select a region of base_vs which are eligible (cs <= MXS)\n",
    "#mn = [1,1,1,1,1,1]\n",
    "#mx = [9,9,9,9,9,9]\n",
    "mn = [3,1,2,1,1,1]\n",
    "mx = [9,1,2,9,9,9]\n",
    "filt = map(x -> sum(x .< mn) == 0 && sum(x .> mx) == 0, eachrow(base_vs))\n",
    "maximum(cs[filt])"
   ]
  },
  {
   "cell_type": "code",
   "execution_count": 447,
   "id": "f36cb9be",
   "metadata": {},
   "outputs": [
    {
     "data": {
      "text/plain": [
       "20×8 Matrix{Int64}:\n",
       "  9069  3  1  2  3  7  6  110\n",
       "  8949  3  1  2  5  5  6  109\n",
       "  9019  3  1  2  4  6  6  109\n",
       "  9058  4  1  2  2  7  6  109\n",
       "  9103  3  1  2  2  8  6  109\n",
       "  9830  3  1  2  2  7  7  109\n",
       "  8031  3  1  2  5  6  5  108\n",
       "  8101  3  1  2  4  7  5  108\n",
       "  8844  4  1  2  5  4  6  108\n",
       "  8855  3  1  2  6  4  6  108\n",
       "  9008  4  1  2  3  6  6  108\n",
       "  9043  5  1  2  1  7  6  108\n",
       "  9092  4  1  2  1  8  6  108\n",
       "  9125  3  1  2  1  9  6  108\n",
       "  9676  3  1  2  5  4  7  108\n",
       "  9819  4  1  2  1  7  7  108\n",
       "  9852  3  1  2  1  8  7  108\n",
       " 10410  3  1  2  1  7  8  108\n",
       "  6905  3  1  2  5  7  4  107\n",
       "  8090  4  1  2  3  7  5  107"
      ]
     },
     "execution_count": 447,
     "metadata": {},
     "output_type": "execute_result"
    }
   ],
   "source": [
    "filtp = filt[sortperm(-cs)]\n",
    "hcat(1:length(bases),base_vs,cs)[sortperm(-cs),:][filtp,:][1:20,:]"
   ]
  },
  {
   "cell_type": "code",
   "execution_count": null,
   "id": "e9bb3229",
   "metadata": {},
   "outputs": [],
   "source": []
  },
  {
   "cell_type": "code",
   "execution_count": 444,
   "id": "77adca49",
   "metadata": {},
   "outputs": [
    {
     "data": {
      "text/html": [
       "<div><div style = \"float: left;\"><span>2×9 DataFrame</span></div><div style = \"clear: both;\"></div></div><div class = \"data-frame\" style = \"overflow-x: scroll;\"><table class = \"data-frame\" style = \"margin-bottom: 6px;\"><thead><tr class = \"header\"><th class = \"rowNumber\" style = \"font-weight: bold; text-align: right;\">Row</th><th style = \"text-align: left;\">name</th><th style = \"text-align: left;\">h</th><th style = \"text-align: left;\">f</th><th style = \"text-align: left;\">l</th><th style = \"text-align: left;\">p</th><th style = \"text-align: left;\">r</th><th style = \"text-align: left;\">s</th><th style = \"text-align: left;\">a1</th><th style = \"text-align: left;\">cost</th></tr><tr class = \"subheader headerLastRow\"><th class = \"rowNumber\" style = \"font-weight: bold; text-align: right;\"></th><th title = \"String\" style = \"text-align: left;\">String</th><th title = \"Int64\" style = \"text-align: left;\">Int64</th><th title = \"Int64\" style = \"text-align: left;\">Int64</th><th title = \"Int64\" style = \"text-align: left;\">Int64</th><th title = \"Int64\" style = \"text-align: left;\">Int64</th><th title = \"Int64\" style = \"text-align: left;\">Int64</th><th title = \"Int64\" style = \"text-align: left;\">Int64</th><th title = \"Int64\" style = \"text-align: left;\">Int64</th><th title = \"Int64\" style = \"text-align: left;\">Int64</th></tr></thead><tbody><tr><td class = \"rowNumber\" style = \"font-weight: bold; text-align: right;\">1</td><td style = \"text-align: left;\">b8096</td><td style = \"text-align: right;\">5</td><td style = \"text-align: right;\">1</td><td style = \"text-align: right;\">1</td><td style = \"text-align: right;\">4</td><td style = \"text-align: right;\">7</td><td style = \"text-align: right;\">5</td><td style = \"text-align: right;\">999</td><td style = \"text-align: right;\">0</td></tr><tr><td class = \"rowNumber\" style = \"font-weight: bold; text-align: right;\">2</td><td style = \"text-align: left;\">spud</td><td style = \"text-align: right;\">9</td><td style = \"text-align: right;\">4</td><td style = \"text-align: right;\">1</td><td style = \"text-align: right;\">8</td><td style = \"text-align: right;\">9</td><td style = \"text-align: right;\">8</td><td style = \"text-align: right;\">999</td><td style = \"text-align: right;\">96</td></tr></tbody></table></div>"
      ],
      "text/latex": [
       "\\begin{tabular}{r|ccccccccc}\n",
       "\t& name & h & f & l & p & r & s & a1 & cost\\\\\n",
       "\t\\hline\n",
       "\t& String & Int64 & Int64 & Int64 & Int64 & Int64 & Int64 & Int64 & Int64\\\\\n",
       "\t\\hline\n",
       "\t1 & b8096 & 5 & 1 & 1 & 4 & 7 & 5 & 999 & 0 \\\\\n",
       "\t2 & spud & 9 & 4 & 1 & 8 & 9 & 8 & 999 & 96 \\\\\n",
       "\\end{tabular}\n"
      ],
      "text/plain": [
       "\u001b[1m2×9 DataFrame\u001b[0m\n",
       "\u001b[1m Row \u001b[0m│\u001b[1m name   \u001b[0m\u001b[1m h     \u001b[0m\u001b[1m f     \u001b[0m\u001b[1m l     \u001b[0m\u001b[1m p     \u001b[0m\u001b[1m r     \u001b[0m\u001b[1m s     \u001b[0m\u001b[1m a1    \u001b[0m\u001b[1m cost  \u001b[0m\n",
       "     │\u001b[90m String \u001b[0m\u001b[90m Int64 \u001b[0m\u001b[90m Int64 \u001b[0m\u001b[90m Int64 \u001b[0m\u001b[90m Int64 \u001b[0m\u001b[90m Int64 \u001b[0m\u001b[90m Int64 \u001b[0m\u001b[90m Int64 \u001b[0m\u001b[90m Int64 \u001b[0m\n",
       "─────┼────────────────────────────────────────────────────────────────\n",
       "   1 │ b8096       5      1      1      4      7      5    999      0\n",
       "   2 │ spud        9      4      1      8      9      8    999     96"
      ]
     },
     "execution_count": 444,
     "metadata": {},
     "output_type": "execute_result"
    }
   ],
   "source": [
    "spuds_to_df([b, target])"
   ]
  },
  {
   "cell_type": "code",
   "execution_count": null,
   "id": "008a134a",
   "metadata": {},
   "outputs": [],
   "source": []
  }
 ],
 "metadata": {
  "kernelspec": {
   "display_name": "Julia 1.9.3",
   "language": "julia",
   "name": "julia-1.9"
  },
  "language_info": {
   "file_extension": ".jl",
   "mimetype": "application/julia",
   "name": "julia",
   "version": "1.9.3"
  }
 },
 "nbformat": 4,
 "nbformat_minor": 5
}

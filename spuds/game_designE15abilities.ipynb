{
 "cells": [
  {
   "cell_type": "markdown",
   "id": "052be005",
   "metadata": {},
   "source": [
    "Beat-n game with Nash-env derived from 15 pt limit and augmented with higher-cost sub-Nash Spuds."
   ]
  },
  {
   "cell_type": "markdown",
   "id": "72817bb1",
   "metadata": {},
   "source": [
    "## Spud code"
   ]
  },
  {
   "cell_type": "code",
   "execution_count": 1,
   "id": "494818e8",
   "metadata": {},
   "outputs": [],
   "source": [
    "using Random\n",
    "using DataFrames\n",
    "using CSV\n",
    "using DelimitedFiles\n",
    "using Statistics\n",
    "using Printf\n",
    "using LinearAlgebra\n",
    "using Dates"
   ]
  },
  {
   "cell_type": "code",
   "execution_count": 2,
   "id": "45e21e7f",
   "metadata": {},
   "outputs": [],
   "source": [
    "struct Spud\n",
    "    name::String\n",
    "    h::Int64\n",
    "    f::Int64\n",
    "    l::Int64\n",
    "    p::Int64\n",
    "    r::Int64\n",
    "    s::Int64\n",
    "    a1::Int64\n",
    "end"
   ]
  },
  {
   "cell_type": "code",
   "execution_count": 57,
   "id": "eef1262d",
   "metadata": {},
   "outputs": [
    {
     "data": {
      "text/plain": [
       "Dict{Int64, Function} with 3 entries:\n",
       "  500 => fx_your_L_their_S\n",
       "  550 => fx_your_P_their_R\n",
       "  600 => fx_your_R_their_S"
      ]
     },
     "execution_count": 57,
     "metadata": {},
     "output_type": "execute_result"
    }
   ],
   "source": [
    "const ability_none = 999\n",
    "const ability_your_L_their_S = 500\n",
    "const ability_your_P_their_R = 550\n",
    "const ability_your_R_their_S = 600\n",
    "\n",
    "ability_name = Dict(\n",
    "    ability_your_L_their_S => \"yourLtheirS\",\n",
    "    ability_your_P_their_R => \"yourPtheirR\",\n",
    "    ability_your_R_their_S => \"yourRtheirS\",\n",
    ")\n",
    "\n",
    "function fx_your_L_their_S(a::Spud, b::Spud)\n",
    "    a = Spud(a.name, a.h, a.f, b.s, a.p, a.r, a.s, a.a1)\n",
    "    return [a, b]\n",
    "end\n",
    "\n",
    "function fx_your_P_their_R(a::Spud, b::Spud)\n",
    "    a = Spud(a.name, a.h, a.f, a.l, b.r, a.r, a.s, a.a1)\n",
    "    return [a, b]\n",
    "end\n",
    "\n",
    "function fx_your_R_their_S(a::Spud, b::Spud)\n",
    "    a = Spud(a.name, a.h, a.f, a.l, a.p, b.s, a.s, a.a1)\n",
    "    return [a, b]\n",
    "end\n",
    "\n",
    "\n",
    "\n",
    "ability_fx = Dict(\n",
    "    ability_your_L_their_S => fx_your_L_their_S,\n",
    "    ability_your_P_their_R => fx_your_P_their_R,\n",
    "    ability_your_R_their_S => fx_your_R_their_S,\n",
    ")"
   ]
  },
  {
   "cell_type": "code",
   "execution_count": 4,
   "id": "950e076e",
   "metadata": {},
   "outputs": [
    {
     "data": {
      "text/plain": [
       "1"
      ]
     },
     "execution_count": 4,
     "metadata": {},
     "output_type": "execute_result"
    }
   ],
   "source": [
    "#const MXS = 100\n",
    "const MXV = 9\n",
    "const MNV = 1\n",
    "\n",
    "# function cost(h::Int64, f::Int64, l::Int64, p::Int64, r::Int64, s::Int64)::Int64\n",
    "#     #return h*(f+l-2*MNV) + f*(p+r+s-3*MNV) + h+f+l+p+r+s-6*MNV\n",
    "#     return h*(f+l) + f*(p+r+s)\n",
    "# end\n",
    "\n",
    "# function cost(a::Spud)::Int64\n",
    "#     if a.a1 == ability_none\n",
    "#         return cost(a.h, a.f, a.l, a.p, a.r, a.s)\n",
    "#     else\n",
    "#         return cost(a.h, a.f, a.l, a.p, a.r, a.s) + ability_cost[a.a1](a)\n",
    "#     end\n",
    "# end"
   ]
  },
  {
   "cell_type": "code",
   "execution_count": 5,
   "id": "ac830f74",
   "metadata": {},
   "outputs": [
    {
     "data": {
      "text/plain": [
       "eval_melee (generic function with 3 methods)"
      ]
     },
     "execution_count": 5,
     "metadata": {},
     "output_type": "execute_result"
    }
   ],
   "source": [
    "function compare_int_list(as::Vector{Int64}, bs::Vector{Int64}, tiebreaker::Int64 = 0)::Int64\n",
    "    n = min(length(as), length(bs))\n",
    "    for i in 1:n\n",
    "        if as[i] != bs[i]\n",
    "            return sign(as[i] - bs[i])\n",
    "        end\n",
    "    end\n",
    "    return tiebreaker\n",
    "end\n",
    "\n",
    "function spud_h_seq(a::Spud)::Vector{Int64}\n",
    "    return [a.h, a.s, a.r, a.p, a.l, a.f]\n",
    "end\n",
    "\n",
    "function spud_f_seq(a::Spud)::Vector{Int64}\n",
    "    return [a.f, a.s, a.r, a.p, a.l, a.h]\n",
    "end\n",
    "\n",
    "function spud_l_seq(a::Spud)::Vector{Int64}\n",
    "    return [a.l]\n",
    "end\n",
    "\n",
    "function spud_p_seq(a::Spud)::Vector{Int64}\n",
    "    return [a.p, a.l]\n",
    "end\n",
    "\n",
    "function spud_r_seq(a::Spud)::Vector{Int64}\n",
    "    return [a.r, a.f]\n",
    "end\n",
    "\n",
    "function spud_s_seq(a::Spud)::Vector{Int64}\n",
    "    return [a.s, a.h]\n",
    "end\n",
    "\n",
    "function spud_utb_seq(a::Spud)::Vector{Int64}\n",
    "    return [a.a1, a.h, a.f, a.l, a.p, a.r, a.s]\n",
    "end\n",
    "\n",
    "function eval_finds(a::Spud, b::Spud, tiebreaker::Int64 = 0)::Int64\n",
    "    ev = compare_int_list(spud_f_seq(a), spud_h_seq(b), tiebreaker)\n",
    "    ans = ev\n",
    "end\n",
    "\n",
    "function eval_melee(a::Spud, b::Spud, tiebreaker1::Int64 = 0, tiebreaker2::Int64 = 0)::Int64\n",
    "    comp_p = compare_int_list(spud_p_seq(a), spud_p_seq(b), tiebreaker1)\n",
    "    comp_r = compare_int_list(spud_r_seq(a), spud_r_seq(b), tiebreaker1)\n",
    "    comp_s = compare_int_list(spud_s_seq(a), spud_s_seq(b), tiebreaker1)\n",
    "    ev = 4 * comp_p + 3 * comp_r + 2 * comp_s\n",
    "    return sign(ev + (1-abs(ev))*tiebreaker2)\n",
    "end\n",
    "\n"
   ]
  },
  {
   "cell_type": "code",
   "execution_count": 6,
   "id": "f603612d",
   "metadata": {},
   "outputs": [
    {
     "data": {
      "text/plain": [
       "eval_battle (generic function with 1 method)"
      ]
     },
     "execution_count": 6,
     "metadata": {},
     "output_type": "execute_result"
    }
   ],
   "source": [
    "\n",
    "\n",
    "function apply_ability(a::Spud, b::Spud)::Array{Spud}\n",
    "    if a.a1 == ability_none\n",
    "        return [a, b]\n",
    "    else\n",
    "        return ability_fx[a.a1](a, b)\n",
    "    end\n",
    "end\n",
    "\n",
    "\n",
    "function eval_battle(a::Spud, b::Spud)::Int64\n",
    "    utb = compare_int_list(spud_utb_seq(a), spud_utb_seq(b), 0) # universal tiebreaker\n",
    "    if utb == 0\n",
    "        return 0\n",
    "    end\n",
    "    a_ability_first = compare_int_list([a.a1, a.s], [b.a1, b.s], utb)\n",
    "    if a_ability_first ==1\n",
    "        if a.a1 != ability_none\n",
    "            res = apply_ability(a, b)\n",
    "            a = res[1]\n",
    "            b = res[2]\n",
    "        end\n",
    "        if b.a1 != ability_none\n",
    "            res = apply_ability(b, a)\n",
    "            b = res[1]\n",
    "            a = res[2]\n",
    "        end\n",
    "    end\n",
    "    if a_ability_first == -1\n",
    "        if b.a1 != ability_none\n",
    "            res = apply_ability(b, a)\n",
    "            b = res[1]\n",
    "            a = res[2]\n",
    "        end\n",
    "        if a.a1 != ability_none\n",
    "            res = apply_ability(a, b)\n",
    "            a = res[1]\n",
    "            b = res[2]\n",
    "        end\n",
    "    end\n",
    "    #println(a)\n",
    "    #println(b)\n",
    "    a_finds = eval_finds(a, b, utb)==1\n",
    "    b_finds = eval_finds(b, a, utb)==1\n",
    "    melee_win = eval_melee(a, b, 0, 0)\n",
    "    luck_win = compare_int_list([a.l, melee_win], [b.l, -melee_win], 0)\n",
    "    if melee_win ==1 && luck_win ==1\n",
    "        return 1\n",
    "    end\n",
    "    if melee_win == -1 && luck_win == -1\n",
    "        return -1\n",
    "    end\n",
    "    if a_finds && b_finds\n",
    "        return melee_win\n",
    "    end\n",
    "    if a_finds && !b_finds\n",
    "        return 1\n",
    "    end\n",
    "    if !a_finds && b_finds\n",
    "        return -1\n",
    "    end\n",
    "    if !a_finds && !b_finds\n",
    "        return luck_win\n",
    "    end\n",
    "end"
   ]
  },
  {
   "cell_type": "code",
   "execution_count": 7,
   "id": "40b9dc47",
   "metadata": {},
   "outputs": [
    {
     "data": {
      "text/plain": [
       "random_name_and_stat (generic function with 2 methods)"
      ]
     },
     "execution_count": 7,
     "metadata": {},
     "output_type": "execute_result"
    }
   ],
   "source": [
    "tab = CSV.read(\"census_yob2022_names.txt\", DataFrame, header = false)\n",
    "names = tab.Column1\n",
    "adjectives = CSV.read(\"adjectives.csv\", DataFrame)\n",
    "nouns = CSV.read(\"nouns.csv\", DataFrame)\n",
    "jobs = CSV.read(\"jobs.csv\", DataFrame)\n",
    "\n",
    "\n",
    "const mult_noun = 1\n",
    "const mult_adj = 2\n",
    "const mult_job = 3\n",
    "\n",
    "\n",
    "function random_name_and_stat(ability::Int64 = ability_none)::Spud\n",
    "    vp = [0, 0, 0, 0, 0, 0]\n",
    "    #nametype = rand([1,1,1,1,1,2,2,2,3])\n",
    "    name = \"\"\n",
    "    noun = \"\"\n",
    "    adj = \"\"\n",
    "    noun_i = rand(1:nrow(nouns))\n",
    "    noun = nouns[noun_i, :noun]\n",
    "    vp[1] = vp[1] + nouns[noun_i, :H] * mult_noun\n",
    "    vp[2] = vp[2] + nouns[noun_i, :F] * mult_noun\n",
    "    vp[3] = vp[3] + nouns[noun_i, :L] * mult_noun\n",
    "    vp[4] = vp[4] + nouns[noun_i, :P] * mult_noun\n",
    "    vp[5] = vp[5] + nouns[noun_i, :R] * mult_noun\n",
    "    vp[6] = vp[6] + nouns[noun_i, :S] * mult_noun\n",
    "    adj_i = rand(1:nrow(adjectives))\n",
    "    if ability == ability_none\n",
    "        adj = adjectives[adj_i, :adjective]\n",
    "        vp[1] = vp[1] + adjectives[adj_i, :H] * mult_adj\n",
    "        vp[2] = vp[2] + adjectives[adj_i, :F] * mult_adj\n",
    "        vp[3] = vp[3] + adjectives[adj_i, :L] * mult_adj\n",
    "        vp[4] = vp[4] + adjectives[adj_i, :P] * mult_adj\n",
    "        vp[5] = vp[5] + adjectives[adj_i, :R] * mult_adj\n",
    "        vp[6] = vp[6] + adjectives[adj_i, :S] * mult_adj\n",
    "    else\n",
    "        adj = ability_name[ability]\n",
    "    end\n",
    "    job_i = rand(1:nrow(jobs))\n",
    "    job = jobs[job_i, :job]\n",
    "    vp[1] = vp[1] + jobs[job_i, :H] * mult_job\n",
    "    vp[2] = vp[2] + jobs[job_i, :F] * mult_job\n",
    "    vp[3] = vp[3] + jobs[job_i, :L] * mult_job\n",
    "    vp[4] = vp[4] + jobs[job_i, :P] * mult_job\n",
    "    vp[5] = vp[5] + jobs[job_i, :R] * mult_job\n",
    "    vp[6] = vp[6] + jobs[job_i, :S] * mult_job\n",
    "    name = string(adj, \" \", job, \" \", noun)\n",
    "    Spud(name, vp[1], vp[2], vp[3], vp[4], vp[5], vp[6], ability_none)\n",
    "end"
   ]
  },
  {
   "cell_type": "code",
   "execution_count": 8,
   "id": "f606e085",
   "metadata": {},
   "outputs": [
    {
     "data": {
      "text/plain": [
       "rand_rename (generic function with 2 methods)"
      ]
     },
     "execution_count": 8,
     "metadata": {},
     "output_type": "execute_result"
    }
   ],
   "source": [
    "function rand_rename(a::Spud, n_tries::Int = 100)::Spud\n",
    "    best_score = 0.0\n",
    "    best_b = random_name_and_stat(a.a1)\n",
    "    for ii in 1:n_tries\n",
    "        b = random_name_and_stat(a.a1)\n",
    "        b_norm = sqrt(b.h^2 + b.f^2 + b.l^2 + b.p^2 + b.r^2 + b.s^2)\n",
    "        score = (a.h * b.h + a.f * b.f + a.l * b.l + a.p * b.p + a.r * b.r + a.s * b.s)/b_norm\n",
    "        if score > best_score\n",
    "            best_score = score\n",
    "            best_b = b\n",
    "        end\n",
    "    end\n",
    "    return Spud(best_b.name, a.h, a.f, a.l, a.p, a.r, a.s, a.a1)\n",
    "end"
   ]
  },
  {
   "cell_type": "code",
   "execution_count": 9,
   "id": "560e9539",
   "metadata": {},
   "outputs": [
    {
     "data": {
      "text/plain": [
       "df_to_spuds (generic function with 1 method)"
      ]
     },
     "execution_count": 9,
     "metadata": {},
     "output_type": "execute_result"
    }
   ],
   "source": [
    "function eval_battle_list(a::Spud, bs::Array{Spud})::Int\n",
    "    score = 0\n",
    "    for ii in 1:length(bs)\n",
    "        score = score + eval_battle(a, bs[ii])\n",
    "    end\n",
    "    return score\n",
    "end\n",
    "\n",
    "function eval_battle_list2(a::Spud, bs::Array{Spud}, w::Vector{Float64})::AbstractFloat\n",
    "    score = 0.0\n",
    "    for ii in 1:length(bs)\n",
    "        score = score + w[ii] * eval_battle(a, bs[ii])\n",
    "    end\n",
    "    return score\n",
    "end\n",
    "\n",
    "function spuds_to_df(as::Array{Spud})::DataFrame\n",
    "    names = Array{String}(undef, length(as))\n",
    "    hs = Array{Int}(undef, length(as))\n",
    "    fs = Array{Int}(undef, length(as))\n",
    "    ls = Array{Int}(undef, length(as))\n",
    "    ps = Array{Int}(undef, length(as))\n",
    "    rs = Array{Int}(undef, length(as))\n",
    "    ss = Array{Int}(undef, length(as))\n",
    "    a1s = Array{Int}(undef, length(as))\n",
    "    for ii in 1:length(as)\n",
    "        names[ii] = as[ii].name\n",
    "        hs[ii] = as[ii].h\n",
    "        fs[ii] = as[ii].f\n",
    "        ls[ii] = as[ii].l\n",
    "        ps[ii] = as[ii].p\n",
    "        rs[ii] = as[ii].r\n",
    "        ss[ii] = as[ii].s\n",
    "        a1s[ii] = as[ii].a1\n",
    "    end\n",
    "    df = DataFrame(name = names, h = hs, f = fs, l = ls, p = ps, r = rs, s = ss, a1 = a1s)\n",
    "    return df\n",
    "end\n",
    "\n",
    "function fpart(x::AbstractFloat)::AbstractFloat\n",
    "  return x - trunc(x)\n",
    "end\n",
    "\n",
    "# for legacy dfs without abilities\n",
    "function df_to_spuds0(df::DataFrame)::Array{Spud}\n",
    "    n = size(df)[1]\n",
    "    as = Array{Spud}(undef, n)\n",
    "    for i in 1:n\n",
    "        as[i] = Spud(df[i, :name], df[i, :h], df[i, :f], df[i, :l], df[i, :p], df[i, :r], df[i, :s], ability_none)\n",
    "    end\n",
    "    return as\n",
    "end\n",
    "\n",
    "function df_to_spuds(df::DataFrame)::Array{Spud}\n",
    "    n = size(df)[1]\n",
    "    as = Array{Spud}(undef, n)\n",
    "    for i in 1:n\n",
    "        as[i] = Spud(df[i, :name], df[i, :h], df[i, :f], df[i, :l], df[i, :p], df[i, :r], df[i, :s], df[i, :a1])\n",
    "    end\n",
    "    return as\n",
    "end\n",
    "\n"
   ]
  },
  {
   "cell_type": "markdown",
   "id": "66e71132",
   "metadata": {},
   "source": [
    "## Get spuds with cost 15 and filter nondominated"
   ]
  },
  {
   "cell_type": "code",
   "execution_count": 10,
   "id": "638f1e65",
   "metadata": {},
   "outputs": [
    {
     "data": {
      "text/plain": [
       "get_library (generic function with 2 methods)"
      ]
     },
     "execution_count": 10,
     "metadata": {},
     "output_type": "execute_result"
    }
   ],
   "source": [
    "function get_library(cost, n_init = 10000)\n",
    "    ffs = Array{Spud}(undef, n_init)\n",
    "    ff_i = 0\n",
    "    hrange = MNV:MXV\n",
    "    frange = MNV:MXV\n",
    "    lrange = MNV:MXV\n",
    "    prange = MNV:MXV\n",
    "    rrange = MNV:MXV\n",
    "    srange = MNV:MXV\n",
    "    for h in hrange\n",
    "        for f in frange\n",
    "            for l in lrange\n",
    "                for p in prange\n",
    "                    for r in rrange\n",
    "                        for s in srange\n",
    "                            if (h+f+l+p+r+s == cost)\n",
    "                                ff = Spud(\"\", h,f,l,p,r,s,999)\n",
    "                                ff_i += 1\n",
    "                                ffs[ff_i] = ff\n",
    "                            end\n",
    "                        end\n",
    "                    end                        \n",
    "                end                        \n",
    "            end\n",
    "        end\n",
    "    end\n",
    "    ffs = ffs[1:ff_i]\n",
    "    return unique(ffs)\n",
    "end"
   ]
  },
  {
   "cell_type": "code",
   "execution_count": 11,
   "id": "64d0dd3e",
   "metadata": {},
   "outputs": [],
   "source": [
    "lib15 = get_library(15)\n",
    "lib15;"
   ]
  },
  {
   "cell_type": "code",
   "execution_count": 12,
   "id": "6be20a55",
   "metadata": {},
   "outputs": [
    {
     "data": {
      "text/plain": [
       "get_payoffs (generic function with 1 method)"
      ]
     },
     "execution_count": 12,
     "metadata": {},
     "output_type": "execute_result"
    }
   ],
   "source": [
    "function get_payoffs(env::Array{Spud})::Array{Int64}\n",
    "    n_nash = length(env)\n",
    "    payoffs = Array{Int64}(undef, (n_nash, n_nash))\n",
    "    for i in 1:n_nash\n",
    "        for j in 1:n_nash\n",
    "            payoffs[i, j] = eval_battle(env[i], env[j])\n",
    "        end\n",
    "    end\n",
    "    return payoffs\n",
    "end"
   ]
  },
  {
   "cell_type": "code",
   "execution_count": 29,
   "id": "af79e6db",
   "metadata": {},
   "outputs": [
    {
     "data": {
      "text/plain": [
       "filter_nondominated2 (generic function with 1 method)"
      ]
     },
     "execution_count": 29,
     "metadata": {},
     "output_type": "execute_result"
    }
   ],
   "source": [
    "function filter_nondominated2(as::Array{Spud})::Array{Spud}\n",
    "    mat = get_payoffs(as);\n",
    "    isDominated = zeros(Int64, length(as));\n",
    "    for i in 1:length(as)\n",
    "        v = mat[i, :]\n",
    "        bv = ones(Int64, length(as))\n",
    "        for j in 1:length(as)\n",
    "            bv = bv .* (mat[:, j] .>= v[j])\n",
    "        end\n",
    "        if sum(bv) > 1\n",
    "            isDominated[i] = 1\n",
    "        end\n",
    "    end\n",
    "    return as[isDominated .== 0]\n",
    "end"
   ]
  },
  {
   "cell_type": "code",
   "execution_count": 30,
   "id": "55a8029c",
   "metadata": {},
   "outputs": [
    {
     "name": "stdout",
     "output_type": "stream",
     "text": [
      " 35.326648 seconds (71.82 M allocations: 125.241 GiB, 34.12% gc time, 0.42% compilation time)\n"
     ]
    },
    {
     "data": {
      "text/plain": [
       "1396-element Vector{Spud}:\n",
       " Spud(\"\", 1, 1, 1, 1, 2, 9, 999)\n",
       " Spud(\"\", 1, 1, 1, 1, 3, 8, 999)\n",
       " Spud(\"\", 1, 1, 1, 1, 4, 7, 999)\n",
       " Spud(\"\", 1, 1, 1, 1, 5, 6, 999)\n",
       " Spud(\"\", 1, 1, 1, 1, 6, 5, 999)\n",
       " Spud(\"\", 1, 1, 1, 1, 7, 4, 999)\n",
       " Spud(\"\", 1, 1, 1, 1, 8, 3, 999)\n",
       " Spud(\"\", 1, 1, 1, 1, 9, 2, 999)\n",
       " Spud(\"\", 1, 1, 1, 2, 1, 9, 999)\n",
       " Spud(\"\", 1, 1, 1, 2, 2, 8, 999)\n",
       " Spud(\"\", 1, 1, 1, 2, 3, 7, 999)\n",
       " Spud(\"\", 1, 1, 1, 2, 4, 6, 999)\n",
       " Spud(\"\", 1, 1, 1, 2, 5, 5, 999)\n",
       " ⋮\n",
       " Spud(\"\", 7, 1, 3, 1, 1, 2, 999)\n",
       " Spud(\"\", 7, 1, 3, 1, 2, 1, 999)\n",
       " Spud(\"\", 7, 1, 3, 2, 1, 1, 999)\n",
       " Spud(\"\", 7, 1, 4, 1, 1, 1, 999)\n",
       " Spud(\"\", 7, 2, 2, 1, 1, 2, 999)\n",
       " Spud(\"\", 7, 2, 2, 1, 2, 1, 999)\n",
       " Spud(\"\", 7, 2, 2, 2, 1, 1, 999)\n",
       " Spud(\"\", 8, 1, 2, 1, 1, 2, 999)\n",
       " Spud(\"\", 8, 1, 2, 1, 2, 1, 999)\n",
       " Spud(\"\", 8, 1, 2, 2, 1, 1, 999)\n",
       " Spud(\"\", 8, 1, 3, 1, 1, 1, 999)\n",
       " Spud(\"\", 9, 1, 2, 1, 1, 1, 999)"
      ]
     },
     "execution_count": 30,
     "metadata": {},
     "output_type": "execute_result"
    }
   ],
   "source": [
    "@time lib=filter_nondominated2(lib15)\n",
    "# for ff in lib\n",
    "#     print(\" \")\n",
    "#     print(100000 * ff.h + 10000 * ff.f + 1000 * ff.l + 100 * ff.p + 10 * ff.r + ff.s)\n",
    "# end"
   ]
  },
  {
   "cell_type": "code",
   "execution_count": 42,
   "id": "d52452bc",
   "metadata": {},
   "outputs": [
    {
     "data": {
      "text/plain": [
       "Dict{Int64, Spud} with 1396 entries:\n",
       "  226212 => Spud(\"\", 2, 2, 6, 2, 1, 2, 999)\n",
       "  622311 => Spud(\"\", 6, 2, 2, 3, 1, 1, 999)\n",
       "  124242 => Spud(\"\", 1, 2, 4, 2, 4, 2, 999)\n",
       "  413142 => Spud(\"\", 4, 1, 3, 1, 4, 2, 999)\n",
       "  124314 => Spud(\"\", 1, 2, 4, 3, 1, 4, 999)\n",
       "  413322 => Spud(\"\", 4, 1, 3, 3, 2, 2, 999)\n",
       "  132135 => Spud(\"\", 1, 3, 2, 1, 3, 5, 999)\n",
       "  413232 => Spud(\"\", 4, 1, 3, 2, 3, 2, 999)\n",
       "  262311 => Spud(\"\", 2, 6, 2, 3, 1, 1, 999)\n",
       "  423213 => Spud(\"\", 4, 2, 3, 2, 1, 3, 999)\n",
       "  532212 => Spud(\"\", 5, 3, 2, 2, 1, 2, 999)\n",
       "  122343 => Spud(\"\", 1, 2, 2, 3, 4, 3, 999)\n",
       "  111624 => Spud(\"\", 1, 1, 1, 6, 2, 4, 999)\n",
       "  324114 => Spud(\"\", 3, 2, 4, 1, 1, 4, 999)\n",
       "  223413 => Spud(\"\", 2, 2, 3, 4, 1, 3, 999)\n",
       "  112641 => Spud(\"\", 1, 1, 2, 6, 4, 1, 999)\n",
       "  124413 => Spud(\"\", 1, 2, 4, 4, 1, 3, 999)\n",
       "  243123 => Spud(\"\", 2, 4, 3, 1, 2, 3, 999)\n",
       "  191211 => Spud(\"\", 1, 9, 1, 2, 1, 1, 999)\n",
       "  126321 => Spud(\"\", 1, 2, 6, 3, 2, 1, 999)\n",
       "  522123 => Spud(\"\", 5, 2, 2, 1, 2, 3, 999)\n",
       "  116421 => Spud(\"\", 1, 1, 6, 4, 2, 1, 999)\n",
       "  133143 => Spud(\"\", 1, 3, 3, 1, 4, 3, 999)\n",
       "  312351 => Spud(\"\", 3, 1, 2, 3, 5, 1, 999)\n",
       "  612321 => Spud(\"\", 6, 1, 2, 3, 2, 1, 999)\n",
       "  ⋮      => ⋮"
      ]
     },
     "execution_count": 42,
     "metadata": {},
     "output_type": "execute_result"
    }
   ],
   "source": [
    "function spud2int(a::Spud)::Int64\n",
    "    return a.h * 100000 + a.f * 10000 + a.l * 1000 + a.p * 100 + a.r * 10 + a.s\n",
    "end\n",
    "\n",
    "i2s = Dict(spud2int(ff) => ff for ff in lib)"
   ]
  },
  {
   "cell_type": "code",
   "execution_count": 31,
   "id": "7693aec2",
   "metadata": {},
   "outputs": [
    {
     "data": {
      "text/plain": [
       "1396×1396 Matrix{Int64}:\n",
       " 0  -1  -1  -1  -1  -1  -1  -1  -1  -1  …  -1  -1  -1  -1  -1  -1  -1  -1  -1\n",
       " 1   0  -1  -1  -1  -1  -1  -1  -1  -1     -1  -1  -1  -1  -1  -1  -1  -1  -1\n",
       " 1   1   0  -1  -1  -1  -1  -1  -1  -1     -1  -1  -1  -1  -1  -1  -1  -1  -1\n",
       " 1   1   1   0  -1  -1  -1  -1  -1  -1     -1  -1  -1  -1  -1  -1  -1  -1  -1\n",
       " 1   1   1   1   0  -1  -1  -1  -1  -1     -1  -1  -1  -1  -1  -1  -1  -1  -1\n",
       " 1   1   1   1   1   0  -1  -1  -1  -1  …  -1  -1  -1  -1  -1  -1  -1  -1  -1\n",
       " 1   1   1   1   1   1   0  -1  -1  -1     -1  -1  -1  -1  -1  -1  -1  -1  -1\n",
       " 1   1   1   1   1   1   1   0  -1  -1     -1  -1  -1  -1  -1  -1  -1  -1  -1\n",
       " 1   1   1   1   1   1   1   1   0  -1     -1  -1  -1  -1  -1  -1  -1  -1  -1\n",
       " 1   1   1   1   1   1   1   1   1   0     -1  -1  -1  -1  -1  -1  -1  -1  -1\n",
       " 1   1   1   1   1   1   1   1   1   1  …  -1  -1  -1  -1  -1  -1  -1  -1  -1\n",
       " 1   1   1   1   1   1   1   1   1   1     -1  -1  -1  -1  -1  -1  -1  -1  -1\n",
       " 1   1   1   1   1   1   1   1   1   1     -1  -1  -1  -1  -1  -1  -1  -1  -1\n",
       " ⋮                   ⋮                  ⋱               ⋮                   ⋮\n",
       " 1   1   1   1   1   1   1   1   1   1     -1   1   1   1   1   1   1   1   1\n",
       " 1   1   1   1   1   1   1   1   1   1  …  -1   1   1   1   1   1   1   1   1\n",
       " 1   1   1   1   1   1   1   1   1   1     -1   1   1   1   1   1   1   1   1\n",
       " 1   1   1   1   1   1   1   1   1   1      0   1   1   1   1   1   1   1   1\n",
       " 1   1   1   1   1   1   1   1   1   1     -1   0  -1  -1   1  -1   1  -1   1\n",
       " 1   1   1   1   1   1   1   1   1   1     -1   1   0  -1   1   1  -1  -1   1\n",
       " 1   1   1   1   1   1   1   1   1   1  …  -1   1   1   0   1  -1   1  -1   1\n",
       " 1   1   1   1   1   1   1   1   1   1     -1  -1  -1  -1   0  -1  -1  -1   1\n",
       " 1   1   1   1   1   1   1   1   1   1     -1   1  -1   1   1   0  -1  -1   1\n",
       " 1   1   1   1   1   1   1   1   1   1     -1  -1   1  -1   1   1   0  -1   1\n",
       " 1   1   1   1   1   1   1   1   1   1     -1   1   1   1   1   1   1   0   1\n",
       " 1   1   1   1   1   1   1   1   1   1  …  -1  -1  -1  -1  -1  -1  -1  -1   0"
      ]
     },
     "execution_count": 31,
     "metadata": {},
     "output_type": "execute_result"
    }
   ],
   "source": [
    "payoffs = get_payoffs(lib)"
   ]
  },
  {
   "cell_type": "code",
   "execution_count": 32,
   "id": "db3ccd86",
   "metadata": {},
   "outputs": [],
   "source": [
    "s2ind = Dict(lib[i] => i for i in 1:length(lib));"
   ]
  },
  {
   "cell_type": "code",
   "execution_count": 33,
   "id": "0e426ff9",
   "metadata": {},
   "outputs": [
    {
     "data": {
      "text/plain": [
       "5"
      ]
     },
     "execution_count": 33,
     "metadata": {},
     "output_type": "execute_result"
    }
   ],
   "source": [
    "s2ind[lib[5]]"
   ]
  },
  {
   "cell_type": "code",
   "execution_count": 34,
   "id": "ac7db512",
   "metadata": {},
   "outputs": [],
   "source": [
    "using JuMP\n",
    "using HiGHS"
   ]
  },
  {
   "cell_type": "code",
   "execution_count": 35,
   "id": "66235b6e",
   "metadata": {},
   "outputs": [
    {
     "name": "stdout",
     "output_type": "stream",
     "text": [
      "Running HiGHS 1.6.0: Copyright (c) 2023 HiGHS under MIT licence terms\n",
      "Presolving model\n",
      "1397 rows, 2793 cols, 1951608 nonzeros\n",
      "1397 rows, 2793 cols, 1951608 nonzeros\n",
      "Presolve : Reductions: rows 1397(-0); columns 2793(-0); elements 1951608(-0) - Not reduced\n",
      "Problem not reduced by presolve: solving the LP\n",
      "Using EKK dual simplex solver - serial\n",
      "  Iteration        Objective     Infeasibilities num(sum)\n",
      "          0     0.0000000000e+00 Pr: 1397(1397) 0s\n",
      "       2920     1.0000000000e+00 Pr: 0(0) 3s\n",
      "       2920     1.0000000000e+00 Pr: 0(0) 3s\n",
      "Model   status      : Optimal\n",
      "Simplex   iterations: 2920\n",
      "Objective value     :  1.0000000000e+00\n",
      "HiGHS run time      :          3.35\n",
      "  3.652368 seconds (237.19 k allocations: 98.475 MiB, 4.43% compilation time: 100% of which was recompilation)\n"
     ]
    }
   ],
   "source": [
    "vector_model = Model(HiGHS.Optimizer)\n",
    "n_nash = length(lib)\n",
    "sumv = zeros(Int64, (1, 2 * n_nash + 1))\n",
    "sumv[1:n_nash] .= 1\n",
    "A = hcat(payoffs, Matrix(1I,n_nash, n_nash), -ones(Int64, n_nash, 1))\n",
    "A = vcat(A, sumv);\n",
    "b = zeros(Int64, n_nash + 1);\n",
    "b[1:n_nash] .= -1\n",
    "b[n_nash+1] = 1\n",
    "transpose(b);\n",
    "c = zeros(Int64, 2 * n_nash + 1);\n",
    "c[2 * n_nash + 1] = 1;\n",
    "@variable(vector_model, x[1:(2*n_nash+1)] >= 0);\n",
    "@constraint(vector_model, A * x .== b);\n",
    "@objective(vector_model, Min, c' * x)\n",
    "@time optimize!(vector_model)"
   ]
  },
  {
   "cell_type": "code",
   "execution_count": 36,
   "id": "f9b10cc3",
   "metadata": {},
   "outputs": [
    {
     "data": {
      "text/plain": [
       "0.9999999999999993"
      ]
     },
     "execution_count": 36,
     "metadata": {},
     "output_type": "execute_result"
    }
   ],
   "source": [
    "w_lp = [value(x[i]) for i in 1:n_nash]\n",
    "sum(w_lp)"
   ]
  },
  {
   "cell_type": "code",
   "execution_count": 37,
   "id": "591d5063",
   "metadata": {},
   "outputs": [
    {
     "data": {
      "text/plain": [
       "2.886579864025407e-15"
      ]
     },
     "execution_count": 37,
     "metadata": {},
     "output_type": "execute_result"
    }
   ],
   "source": [
    "w_lp = w_lp./sum(w_lp);\n",
    "maximum([sum(payoffs[i, :] .* w_lp) for i in 1:n_nash])"
   ]
  },
  {
   "cell_type": "code",
   "execution_count": 38,
   "id": "20259321",
   "metadata": {},
   "outputs": [],
   "source": [
    "new_env = lib[w_lp .> 0]\n",
    "w_new = w_lp[w_lp .> 0];"
   ]
  },
  {
   "cell_type": "code",
   "execution_count": 39,
   "id": "41709243",
   "metadata": {},
   "outputs": [
    {
     "name": "stdout",
     "output_type": "stream",
     "text": [
      "615111 0.0691\n",
      "417111 0.0688\n",
      "516111 0.0680\n",
      "714111 0.0626\n",
      "813111 0.0583\n",
      "318111 0.0572\n",
      "219111 0.0469\n",
      "131154 0.0244\n",
      "121614 0.0238\n",
      "171123 0.0179\n",
      "161232 0.0170\n",
      "171132 0.0167\n",
      "115413 0.0165\n",
      "151431 0.0160\n",
      "151341 0.0155\n",
      "141252 0.0152\n",
      "151143 0.0151\n",
      "151521 0.0125\n",
      "171411 0.0124\n",
      "161313 0.0124\n",
      "161331 0.0122\n",
      "141441 0.0120\n",
      "131613 0.0118\n",
      "161421 0.0116\n",
      "141513 0.0113\n",
      "181221 0.0109\n",
      "151332 0.0107\n",
      "161412 0.0106\n",
      "151242 0.0105\n",
      "141612 0.0103\n",
      "614112 0.0095\n",
      "131622 0.0091\n",
      "111165 0.0090\n",
      "121425 0.0090\n",
      "121245 0.0088\n",
      "171321 0.0087\n",
      "131541 0.0086\n",
      "171213 0.0086\n",
      "141153 0.0085\n",
      "115134 0.0080\n",
      "161322 0.0080\n",
      "151512 0.0074\n",
      "171312 0.0071\n",
      "141423 0.0070\n",
      "216123 0.0066\n",
      "151224 0.0065\n",
      "151314 0.0064\n",
      "141414 0.0062\n",
      "121155 0.0058\n",
      "115224 0.0055\n",
      "116133 0.0053\n",
      "161133 0.0051\n",
      "141324 0.0050\n",
      "713112 0.0049\n",
      "113235 0.0048\n",
      "131244 0.0047\n",
      "141531 0.0043\n",
      "181311 0.0040\n",
      "214134 0.0038\n",
      "121335 0.0038\n",
      "116223 0.0038\n",
      "131424 0.0037\n",
      "141522 0.0037\n",
      "111255 0.0031\n",
      "131532 0.0029\n",
      "317112 0.0023\n",
      "515112 0.0022\n",
      "161142 0.0022\n",
      "181122 0.0021\n",
      "161223 0.0018\n",
      "141351 0.0017\n",
      "171231 0.0017\n",
      "113145 0.0014\n",
      "116412 0.0014\n",
      "114225 0.0013\n",
      "113325 0.0012\n",
      "123414 0.0005\n",
      "114135 0.0005\n",
      "181113 0.0001\n",
      "217131 7.7005\n",
      "114234 2.7156\n"
     ]
    }
   ],
   "source": [
    "\n",
    "for i in sortperm(-w_new)\n",
    "    print(spud2int(new_env[i]))\n",
    "    print(\" \")\n",
    "    println(string(w_new[i])[1:6])\n",
    "end"
   ]
  },
  {
   "cell_type": "code",
   "execution_count": 40,
   "id": "78db8f52",
   "metadata": {},
   "outputs": [
    {
     "data": {
      "text/plain": [
       "stat_dominates_any (generic function with 1 method)"
      ]
     },
     "execution_count": 40,
     "metadata": {},
     "output_type": "execute_result"
    }
   ],
   "source": [
    "function spud_to_vec(a::Spud)::Array{Int64}\n",
    "    return [a.h, a.f, a.l, a.p, a.r, a.s]\n",
    "end\n",
    "\n",
    "function stat_dominates(a::Spud, b::Spud)::Bool\n",
    "    if minimum(spud_to_vec(a) .- spud_to_vec(b))==0\n",
    "        return true\n",
    "    else\n",
    "        return false\n",
    "    end\n",
    "end\n",
    "\n",
    "function stat_dominates_any(a::Spud, bs::Array{Spud})::Bool\n",
    "    for b in bs\n",
    "        if stat_dominates(a, b)\n",
    "            return true\n",
    "        end\n",
    "    end\n",
    "    return false\n",
    "end"
   ]
  },
  {
   "cell_type": "markdown",
   "id": "ccdcc9fe",
   "metadata": {},
   "source": [
    "## Combo breaker development"
   ]
  },
  {
   "cell_type": "code",
   "execution_count": 56,
   "id": "4db2429b",
   "metadata": {},
   "outputs": [
    {
     "name": "stdout",
     "output_type": "stream",
     "text": [
      "1\n",
      "[1, 1, 1]\n"
     ]
    },
    {
     "data": {
      "text/plain": [
       "-0.03985525090380973"
      ]
     },
     "execution_count": 56,
     "metadata": {},
     "output_type": "execute_result"
    }
   ],
   "source": [
    "as = [i2s[i] for i in [416112, 141333, 113424]]\n",
    "println(maximum([eval_battle_list(ff, as) for ff in lib]))\n",
    "b = Spud(\"breaker\",5,4,1,1,1,3,ability_your_L_their_S)\n",
    "println([eval_battle(b, ff) for ff in as])\n",
    "eval_battle_list2(b, new_env, w_new)"
   ]
  },
  {
   "cell_type": "code",
   "execution_count": 58,
   "id": "48ae396f",
   "metadata": {},
   "outputs": [
    {
     "name": "stdout",
     "output_type": "stream",
     "text": [
      "1\n",
      "[1, 1, 1]\n"
     ]
    },
    {
     "data": {
      "text/plain": [
       "-0.08205185215389163"
      ]
     },
     "execution_count": 58,
     "metadata": {},
     "output_type": "execute_result"
    }
   ],
   "source": [
    "as = [i2s[i] for i in [417111,141342,113523]]\n",
    "println(maximum([eval_battle_list(ff, as) for ff in lib]))\n",
    "b = Spud(\"breaker\",2,4,4,1,1,2,ability_your_P_their_R)\n",
    "println([eval_battle(b, ff) for ff in as])\n",
    "eval_battle_list2(b, new_env, w_new)"
   ]
  },
  {
   "cell_type": "code",
   "execution_count": 60,
   "id": "dcc4ef85",
   "metadata": {},
   "outputs": [
    {
     "name": "stdout",
     "output_type": "stream",
     "text": [
      "1\n",
      "[-1, -1, 1]\n"
     ]
    },
    {
     "data": {
      "text/plain": [
       "-0.15145981083349505"
      ]
     },
     "execution_count": 60,
     "metadata": {},
     "output_type": "execute_result"
    }
   ],
   "source": [
    "as = [i2s[i] for i in [416112,141234,113424]]\n",
    "println(maximum([eval_battle_list(ff, as) for ff in lib]))\n",
    "b = Spud(\"breaker\",2,4,4,1,1,2,ability_your_R_their_S)\n",
    "println([eval_battle(b, ff) for ff in as])\n",
    "eval_battle_list2(b, new_env, w_new)"
   ]
  },
  {
   "cell_type": "code",
   "execution_count": null,
   "id": "ed1d8649",
   "metadata": {},
   "outputs": [],
   "source": []
  }
 ],
 "metadata": {
  "kernelspec": {
   "display_name": "Julia 1.9.3",
   "language": "julia",
   "name": "julia-1.9"
  },
  "language_info": {
   "file_extension": ".jl",
   "mimetype": "application/julia",
   "name": "julia",
   "version": "1.9.3"
  }
 },
 "nbformat": 4,
 "nbformat_minor": 5
}

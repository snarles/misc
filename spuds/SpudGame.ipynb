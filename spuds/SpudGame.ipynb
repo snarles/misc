{
 "cells": [
  {
   "cell_type": "markdown",
   "id": "052be005",
   "metadata": {},
   "source": [
    "Playing games with Spuds"
   ]
  },
  {
   "cell_type": "markdown",
   "id": "72817bb1",
   "metadata": {},
   "source": [
    "## Spud code"
   ]
  },
  {
   "cell_type": "code",
   "execution_count": 1,
   "id": "494818e8",
   "metadata": {},
   "outputs": [],
   "source": [
    "using Random\n",
    "using DataFrames\n",
    "using CSV\n",
    "using DelimitedFiles\n",
    "using Statistics\n",
    "using Printf\n",
    "using LinearAlgebra\n",
    "using Dates"
   ]
  },
  {
   "cell_type": "code",
   "execution_count": 2,
   "id": "45e21e7f",
   "metadata": {},
   "outputs": [],
   "source": [
    "struct Spud\n",
    "    name::String\n",
    "    h::Int64\n",
    "    f::Int64\n",
    "    l::Int64\n",
    "    p::Int64\n",
    "    r::Int64\n",
    "    s::Int64\n",
    "    a1::Int64\n",
    "end"
   ]
  },
  {
   "cell_type": "code",
   "execution_count": 3,
   "id": "eef1262d",
   "metadata": {},
   "outputs": [
    {
     "data": {
      "text/plain": [
       "Dict{Int64, Function} with 10 entries:\n",
       "  50  => fx_melodious\n",
       "  20  => fx_reciprocating\n",
       "  110 => fx_otaku\n",
       "  10  => fx_imitative\n",
       "  90  => fx_iconoclast\n",
       "  30  => fx_romantic\n",
       "  120 => fx_sincere\n",
       "  130 => fx_cowardly\n",
       "  40  => fx_bibliophile\n",
       "  100 => fx_intoxicating"
      ]
     },
     "execution_count": 3,
     "metadata": {},
     "output_type": "execute_result"
    }
   ],
   "source": [
    "const ability_none = 999\n",
    "const ability_imitative = 10\n",
    "const ability_reciprocating = 20\n",
    "const ability_romantic = 30\n",
    "const ability_bibliophile = 40\n",
    "const ability_melodious = 50\n",
    "const ability_iconoclast = 90\n",
    "const ability_intoxicating = 100\n",
    "const ability_otaku = 110\n",
    "const ability_sincere = 120\n",
    "const ability_cowardly = 130\n",
    "\n",
    "\n",
    "ability_name = Dict(\n",
    "    ability_imitative => \"Imitative*\",\n",
    "    ability_reciprocating => \"Reciprocating*\",\n",
    "    ability_romantic => \"Romantic*\",\n",
    "    ability_bibliophile => \"Bibliophile*\",\n",
    "    ability_melodious => \"Melodious*\",\n",
    "    ability_iconoclast => \"Iconoclast*\",\n",
    "    ability_intoxicating => \"Intoxicating*\",\n",
    "    ability_otaku => \"Otaku*\",\n",
    "    ability_sincere => \"Sincere*\",\n",
    "    ability_cowardly => \"Cowardly*\",\n",
    ")\n",
    "\n",
    "function cost_imitative(a::Spud)\n",
    "    h_inc = [4, 4, 3, 2, 2, 1, 1, 1, 0, 0] # how much H effectively increases given base H\n",
    "    c =  6 + h_inc[a.h] * (a.f + a.l) + 2 * ifelse(a.l >= 8, 1, 0)\n",
    "    if a.f >= 9 && a.l >= 4\n",
    "        c += 3\n",
    "    end\n",
    "    if a.l == 10 && a.p == 10\n",
    "        c += 8\n",
    "    end\n",
    "    return c\n",
    "end\n",
    "\n",
    "function fx_imitative(a::Spud, b::Spud)\n",
    "    if b.h > a.h\n",
    "        a = Spud(a.name, b.h, a.f, a.l, a.p, a.r, a.s, a.a1)\n",
    "    end\n",
    "    return [a, b]\n",
    "end\n",
    "\n",
    "function cost_reciprocating(a::Spud)\n",
    "    # how much F effectively increases given base F (times 2)\n",
    "    f_inc = [8, 6, 4, 2, 1, 1, 1, 1, 1, 1]\n",
    "    c = 3 + f_inc[a.f] * div(a.h + a.p + a.r + a.s, 2)\n",
    "    c = c + ifelse(a.h >= 9, 1, 0) + ifelse(a.p + a.r + a.s >= 16 && a.l >= 10, 4, 0)\n",
    "    return c\n",
    "end\n",
    "\n",
    "function fx_reciprocating(a::Spud, b::Spud)\n",
    "    if b.f > a.f\n",
    "        a = Spud(a.name, a.h, b.f, a.l, a.p, a.r, a.s, a.a1)\n",
    "    end\n",
    "    return [a, b]\n",
    "end\n",
    "\n",
    "function cost_romantic(a::Spud)\n",
    "    # how much L effectively increases given base L\n",
    "    l_inc = [3, 2, 2, 1, 1, 1, 1, 0, 0, 0]\n",
    "    c = 5 + l_inc[a.l] * a.h * ifelse(a.h >= 8, 2, 1)\n",
    "    # nerf Spud(\"\", 9, 1, 4, 10, 10, 10, 999)\n",
    "    if a.h >= 9 && (a.p + a.r + a.s) >= 30\n",
    "        c += 3\n",
    "    end\n",
    "    return c\n",
    "end\n",
    "\n",
    "function fx_romantic(a::Spud, b::Spud)\n",
    "    if b.p > a.l\n",
    "        a = Spud(a.name, a.h, a.f, b.p, a.p, a.r, a.s, a.a1)\n",
    "    end\n",
    "    return [a, b]\n",
    "end\n",
    "\n",
    "function cost_bibliophile(a::Spud)\n",
    "    # ban full p/r/s\n",
    "    if a.p + a.r + a.s >= 30\n",
    "        return 100\n",
    "    end\n",
    "    # how much L effectively increases given base L\n",
    "    l_inc = [2, 2, 2, 1, 1, 1, 1, 0, 0, 0];\n",
    "    # for penalizing large H\n",
    "    # h_inc = [1, 2, 3, 4, 5, 6, 7, 8, 9, 10]\n",
    "    c = 4 + l_inc[a.l] * a.h\n",
    "    return c\n",
    "end\n",
    "\n",
    "function fx_bibliophile(a::Spud, b::Spud)\n",
    "    if b.r > a.l\n",
    "        a = Spud(a.name, a.h, a.f, b.r, a.p, a.r, a.s, a.a1)\n",
    "    end\n",
    "    return [a, b]\n",
    "end\n",
    "\n",
    "function cost_melodious(a::Spud)\n",
    "    h_inc = [0,0,0,0,0,1,1,2,4,10]\n",
    "    f_inc = [0,0,0,0,1,1,4,5,9,11]\n",
    "    c = 5 + f_inc[a.f] + 2 * h_inc[a.h] + ifelse(a.r >= 10, 3, 0)\n",
    "    # nerf Spud(\"\", 3, 9, 1, 3, 2, 1, 999)\n",
    "    c += ifelse(a.f >= 9 && (a.p * a.h) >= 9, 3, 0)\n",
    "    return c\n",
    "end\n",
    "\n",
    "function fx_melodious(a::Spud, b::Spud)\n",
    "    if b.p > b.r && b.p > b.s\n",
    "        a = Spud(a.name, a.h, a.f, a.r, a.p + 3, a.r, a.s, a.a1)\n",
    "    end\n",
    "    return [a, b]\n",
    "end\n",
    "\n",
    "function cost_iconoclast(a::Spud)\n",
    "    # ban 10's\n",
    "    if sum([a.h,a.f,a.l,a.p,a.r,a.s].==10) > 0\n",
    "        return 100\n",
    "    end\n",
    "    l_inc = [0,0,0,0,0,0,0,3,7]\n",
    "    s_inc = [1,2,3,3,3,3,3,3,3]\n",
    "    c = 13 + (3 * l_inc[a.l] + 1) * (s_inc[a.s])\n",
    "    return c\n",
    "end\n",
    "\n",
    "\n",
    "function fx_iconoclast(a::Spud, b::Spud)\n",
    "    v = sum([b.h,b.f,b.l,b.p,b.r,b.s] .== 10)\n",
    "    if v >= 3\n",
    "        aa = [a.h, a.f, a.l, a.p, a.r, a.s]\n",
    "        aa2 = map(x -> div(x, 4), aa)\n",
    "        r = aa .+ aa2\n",
    "        a = Spud(a.name, r[1], r[2], r[3], r[4], r[5], r[6], a.a1)\n",
    "    end\n",
    "    return [a, b]\n",
    "end\n",
    "\n",
    "#df[:, :c2] = df.cost .+ (df.f .+ l_inc[df.l]) .* map(x -> div(x, 5), 4 .+ df.p .+ df.r .+ df.s) .+ 3;\n",
    "function cost_intoxicating(a::Spud)\n",
    "    l_inc = [0,0,0,0,0, 0,0,1,2,3]\n",
    "    c = 3 + (a.f + l_inc[a.l]) * div(4 + a.p + a.r + a.s, 5)\n",
    "    # nerf Spud(\"\", 1, 4, 10, 2, 10, 3, 999)\n",
    "    if a.h == 1 && a.f == 4 && a.l == 10 && a.p == 2 && a.r == 10 && a.s == 3\n",
    "        c += 3\n",
    "    end\n",
    "    return c\n",
    "end\n",
    "\n",
    "function fx_intoxicating(a::Spud, b::Spud)\n",
    "    b = Spud(b.name, b.h, b.f, b.l, b.p, b.r, b.f, b.a1)\n",
    "    return [a, b]\n",
    "end\n",
    "\n",
    "function cost_otaku(a::Spud)\n",
    "    l_inc = [0,0,0,0,0, 0,0,0,0,8]\n",
    "    c = 0 + l_inc[a.l] * div(7 + a.p + a.r + a.s, 8)\n",
    "    if maximum([a.p, a.r, a.s]) == 10\n",
    "        c += a.l\n",
    "    end\n",
    "    if c < 6\n",
    "        c = 6\n",
    "    end\n",
    "    return c\n",
    "end\n",
    "\n",
    "function fx_otaku(a::Spud, b::Spud)\n",
    "    b = Spud(b.name, b.h, b.f, b.l, b.p, b.h, b.s, b.a1)\n",
    "    return [a, b]\n",
    "end\n",
    "\n",
    "function cost_sincere(a::Spud)\n",
    "    h_inc = [0,0,0,4,5,5,5,5,5,5]\n",
    "    l_inc = [0,0,1,7,8,9,9,9,9,9]\n",
    "    s_inc = [0,0,0,0,1,2,2,2,2,2]\n",
    "    c = (h_inc[a.h] + s_inc[a.s]) * l_inc[a.l];\n",
    "    if c < 6\n",
    "        c = 6\n",
    "    end\n",
    "    return c\n",
    "end\n",
    "\n",
    "function fx_sincere(a::Spud, b::Spud)\n",
    "    b = Spud(b.name, b.h, b.f + 2, b.f + 2, b.p, b.r, b.s, b.a1)\n",
    "    return [a, b]\n",
    "end\n",
    "\n",
    "function cost_cowardly(a::Spud)\n",
    "    if (a.f < 3) || (a.h > 8)\n",
    "        return 100\n",
    "    end\n",
    "    c = 0\n",
    "    c2 = cost(a.h + 2, a.f - 2, a.l, a.p, a.r, a.s)\n",
    "    c0 = cost(a.h, a.f, a.l, a.p, a.r, a.s)\n",
    "    if c2 > c0\n",
    "        c = c2 - c0\n",
    "    end\n",
    "    f_inc = [0,0,0,0,0,2,2,3,9,10]\n",
    "    l_inc = [0,0,0,0,0,0,0,0,6,7]\n",
    "    c += f_inc[a.f] + l_inc[a.l]\n",
    "    if c < 6\n",
    "        c = 6\n",
    "    end\n",
    "    return c\n",
    "end\n",
    "\n",
    "function fx_cowardly(a::Spud, b::Spud)\n",
    "    if (a.p < b.p) || (a.r < b.r) || (a.s < b.s)\n",
    "        a = Spud(a.name, a.h + 2, a.f - 2, a.l, a.p, a.r, a.s, a.a1)\n",
    "    end\n",
    "    return [a, b]\n",
    "end\n",
    "\n",
    "ability_cost = Dict(\n",
    "    ability_imitative => cost_imitative,\n",
    "    ability_reciprocating => cost_reciprocating,\n",
    "    ability_romantic => cost_romantic,\n",
    "    ability_bibliophile => cost_bibliophile,\n",
    "    ability_melodious => cost_melodious,\n",
    "    ability_iconoclast => cost_iconoclast,\n",
    "    ability_intoxicating => cost_intoxicating,\n",
    "    ability_otaku => cost_otaku,\n",
    "    ability_sincere => cost_sincere,\n",
    "    ability_cowardly => cost_cowardly,\n",
    ")\n",
    "\n",
    "ability_fx = Dict(\n",
    "    ability_imitative => fx_imitative,\n",
    "    ability_reciprocating => fx_reciprocating,\n",
    "    ability_romantic => fx_romantic,\n",
    "    ability_bibliophile => fx_bibliophile,\n",
    "    ability_melodious => fx_melodious,\n",
    "    ability_iconoclast => fx_iconoclast,\n",
    "    ability_intoxicating => fx_intoxicating,\n",
    "    ability_otaku => fx_otaku,\n",
    "    ability_sincere => fx_sincere,\n",
    "    ability_cowardly => fx_cowardly,\n",
    ")"
   ]
  },
  {
   "cell_type": "code",
   "execution_count": 4,
   "id": "950e076e",
   "metadata": {},
   "outputs": [
    {
     "data": {
      "text/plain": [
       "cost (generic function with 2 methods)"
      ]
     },
     "execution_count": 4,
     "metadata": {},
     "output_type": "execute_result"
    }
   ],
   "source": [
    "const MXS = 100\n",
    "const MXV = 10\n",
    "const MNV = 1\n",
    "\n",
    "function cost(h::Int64, f::Int64, l::Int64, p::Int64, r::Int64, s::Int64)::Int64\n",
    "    #return h*(f+l-2*MNV) + f*(p+r+s-3*MNV) + h+f+l+p+r+s-6*MNV\n",
    "    return h*(f+l) + f*(p+r+s)\n",
    "end\n",
    "\n",
    "function cost(a::Spud)::Int64\n",
    "    if a.a1 == ability_none\n",
    "        return cost(a.h, a.f, a.l, a.p, a.r, a.s)\n",
    "    else\n",
    "        return cost(a.h, a.f, a.l, a.p, a.r, a.s) + ability_cost[a.a1](a)\n",
    "    end\n",
    "end"
   ]
  },
  {
   "cell_type": "code",
   "execution_count": 5,
   "id": "ac830f74",
   "metadata": {},
   "outputs": [
    {
     "data": {
      "text/plain": [
       "eval_melee (generic function with 3 methods)"
      ]
     },
     "execution_count": 5,
     "metadata": {},
     "output_type": "execute_result"
    }
   ],
   "source": [
    "function compare_int_list(as::Vector{Int64}, bs::Vector{Int64}, tiebreaker::Int64 = 0)::Int64\n",
    "    n = min(length(as), length(bs))\n",
    "    for i in 1:n\n",
    "        if as[i] != bs[i]\n",
    "            return sign(as[i] - bs[i])\n",
    "        end\n",
    "    end\n",
    "    return tiebreaker\n",
    "end\n",
    "\n",
    "function spud_h_seq(a::Spud)::Vector{Int64}\n",
    "    return [a.h, a.s, a.r, a.p, a.l, a.f]\n",
    "end\n",
    "\n",
    "function spud_f_seq(a::Spud)::Vector{Int64}\n",
    "    return [a.f, a.s, a.r, a.p, a.l, a.h]\n",
    "end\n",
    "\n",
    "function spud_l_seq(a::Spud)::Vector{Int64}\n",
    "    return [a.l]\n",
    "end\n",
    "\n",
    "function spud_p_seq(a::Spud)::Vector{Int64}\n",
    "    return [a.p, a.l]\n",
    "end\n",
    "\n",
    "function spud_r_seq(a::Spud)::Vector{Int64}\n",
    "    return [a.r, a.f]\n",
    "end\n",
    "\n",
    "function spud_s_seq(a::Spud)::Vector{Int64}\n",
    "    return [a.s, a.h]\n",
    "end\n",
    "\n",
    "function spud_utb_seq(a::Spud)::Vector{Int64}\n",
    "    return [a.a1, a.h, a.f, a.l, a.p, a.r, a.s]\n",
    "end\n",
    "\n",
    "function eval_finds(a::Spud, b::Spud, tiebreaker::Int64 = 0)::Int64\n",
    "    ev = compare_int_list(spud_f_seq(a), spud_h_seq(b), tiebreaker)\n",
    "    ans = ev\n",
    "end\n",
    "\n",
    "function eval_melee(a::Spud, b::Spud, tiebreaker1::Int64 = 0, tiebreaker2::Int64 = 0)::Int64\n",
    "    comp_p = compare_int_list(spud_p_seq(a), spud_p_seq(b), tiebreaker1)\n",
    "    comp_r = compare_int_list(spud_r_seq(a), spud_r_seq(b), tiebreaker1)\n",
    "    comp_s = compare_int_list(spud_s_seq(a), spud_s_seq(b), tiebreaker1)\n",
    "    ev = 4 * comp_p + 3 * comp_r + 2 * comp_s\n",
    "    return sign(ev + (1-abs(ev))*tiebreaker2)\n",
    "end\n",
    "\n"
   ]
  },
  {
   "cell_type": "code",
   "execution_count": 6,
   "id": "f603612d",
   "metadata": {},
   "outputs": [
    {
     "data": {
      "text/plain": [
       "eval_battle (generic function with 1 method)"
      ]
     },
     "execution_count": 6,
     "metadata": {},
     "output_type": "execute_result"
    }
   ],
   "source": [
    "\n",
    "\n",
    "function apply_ability(a::Spud, b::Spud)::Array{Spud}\n",
    "    if a.a1 == ability_none\n",
    "        return [a, b]\n",
    "    else\n",
    "        return ability_fx[a.a1](a, b)\n",
    "    end\n",
    "end\n",
    "\n",
    "\n",
    "function eval_battle(a::Spud, b::Spud)::Int64\n",
    "    utb = compare_int_list(spud_utb_seq(a), spud_utb_seq(b), 0) # universal tiebreaker\n",
    "    if utb == 0\n",
    "        return 0\n",
    "    end\n",
    "    a_ability_first = compare_int_list([a.a1, a.s], [b.a1, b.s], utb)\n",
    "    if a_ability_first ==1\n",
    "        if a.a1 != ability_none\n",
    "            res = apply_ability(a, b)\n",
    "            a = res[1]\n",
    "            b = res[2]\n",
    "        end\n",
    "        if b.a1 != ability_none\n",
    "            res = apply_ability(b, a)\n",
    "            b = res[1]\n",
    "            a = res[2]\n",
    "        end\n",
    "    end\n",
    "    if a_ability_first == -1\n",
    "        if b.a1 != ability_none\n",
    "            res = apply_ability(b, a)\n",
    "            b = res[1]\n",
    "            a = res[2]\n",
    "        end\n",
    "        if a.a1 != ability_none\n",
    "            res = apply_ability(a, b)\n",
    "            a = res[1]\n",
    "            b = res[2]\n",
    "        end\n",
    "    end\n",
    "    #println(a)\n",
    "    #println(b)\n",
    "    a_finds = eval_finds(a, b, utb)==1\n",
    "    b_finds = eval_finds(b, a, utb)==1\n",
    "    melee_win = eval_melee(a, b, 0, utb)\n",
    "    if a_finds && b_finds\n",
    "        return melee_win\n",
    "    end\n",
    "    if a_finds && !b_finds\n",
    "        return 1\n",
    "    end\n",
    "    if !a_finds && b_finds\n",
    "        return -1\n",
    "    end\n",
    "    if !a_finds && !b_finds\n",
    "        return compare_int_list([a.l, melee_win], [b.l, -melee_win], 0)\n",
    "    end\n",
    "end"
   ]
  },
  {
   "cell_type": "code",
   "execution_count": 7,
   "id": "40b9dc47",
   "metadata": {},
   "outputs": [
    {
     "data": {
      "text/plain": [
       "random_name_and_stat (generic function with 2 methods)"
      ]
     },
     "execution_count": 7,
     "metadata": {},
     "output_type": "execute_result"
    }
   ],
   "source": [
    "tab = CSV.read(\"census_yob2022_names.txt\", DataFrame, header = false)\n",
    "names = tab.Column1\n",
    "adjectives = CSV.read(\"adjectives.csv\", DataFrame)\n",
    "nouns = CSV.read(\"nouns.csv\", DataFrame)\n",
    "jobs = CSV.read(\"jobs.csv\", DataFrame)\n",
    "\n",
    "\n",
    "const mult_noun = 1\n",
    "const mult_adj = 2\n",
    "const mult_job = 3\n",
    "\n",
    "\n",
    "function random_name_and_stat(ability::Int64 = ability_none)::Spud\n",
    "    vp = [0, 0, 0, 0, 0, 0]\n",
    "    #nametype = rand([1,1,1,1,1,2,2,2,3])\n",
    "    name = \"\"\n",
    "    noun = \"\"\n",
    "    adj = \"\"\n",
    "    noun_i = rand(1:nrow(nouns))\n",
    "    noun = nouns[noun_i, :noun]\n",
    "    vp[1] = vp[1] + nouns[noun_i, :H] * mult_noun\n",
    "    vp[2] = vp[2] + nouns[noun_i, :F] * mult_noun\n",
    "    vp[3] = vp[3] + nouns[noun_i, :L] * mult_noun\n",
    "    vp[4] = vp[4] + nouns[noun_i, :P] * mult_noun\n",
    "    vp[5] = vp[5] + nouns[noun_i, :R] * mult_noun\n",
    "    vp[6] = vp[6] + nouns[noun_i, :S] * mult_noun\n",
    "    adj_i = rand(1:nrow(adjectives))\n",
    "    if ability == ability_none\n",
    "        adj = adjectives[adj_i, :adjective]\n",
    "        vp[1] = vp[1] + adjectives[adj_i, :H] * mult_adj\n",
    "        vp[2] = vp[2] + adjectives[adj_i, :F] * mult_adj\n",
    "        vp[3] = vp[3] + adjectives[adj_i, :L] * mult_adj\n",
    "        vp[4] = vp[4] + adjectives[adj_i, :P] * mult_adj\n",
    "        vp[5] = vp[5] + adjectives[adj_i, :R] * mult_adj\n",
    "        vp[6] = vp[6] + adjectives[adj_i, :S] * mult_adj\n",
    "    else\n",
    "        adj = ability_name[ability]\n",
    "    end\n",
    "    job_i = rand(1:nrow(jobs))\n",
    "    job = jobs[job_i, :job]\n",
    "    vp[1] = vp[1] + jobs[job_i, :H] * mult_job\n",
    "    vp[2] = vp[2] + jobs[job_i, :F] * mult_job\n",
    "    vp[3] = vp[3] + jobs[job_i, :L] * mult_job\n",
    "    vp[4] = vp[4] + jobs[job_i, :P] * mult_job\n",
    "    vp[5] = vp[5] + jobs[job_i, :R] * mult_job\n",
    "    vp[6] = vp[6] + jobs[job_i, :S] * mult_job\n",
    "    name = string(adj, \" \", job, \" \", noun)\n",
    "    Spud(name, vp[1], vp[2], vp[3], vp[4], vp[5], vp[6], ability_none)\n",
    "end"
   ]
  },
  {
   "cell_type": "code",
   "execution_count": 8,
   "id": "f606e085",
   "metadata": {},
   "outputs": [
    {
     "data": {
      "text/plain": [
       "rand_rename (generic function with 2 methods)"
      ]
     },
     "execution_count": 8,
     "metadata": {},
     "output_type": "execute_result"
    }
   ],
   "source": [
    "function rand_rename(a::Spud, n_tries::Int = 100)::Spud\n",
    "    best_score = 0.0\n",
    "    best_b = random_name_and_stat(a.a1)\n",
    "    for ii in 1:n_tries\n",
    "        b = random_name_and_stat(a.a1)\n",
    "        b_norm = sqrt(b.h^2 + b.f^2 + b.l^2 + b.p^2 + b.r^2 + b.s^2)\n",
    "        score = (a.h * b.h + a.f * b.f + a.l * b.l + a.p * b.p + a.r * b.r + a.s * b.s)/b_norm\n",
    "        if score > best_score\n",
    "            best_score = score\n",
    "            best_b = b\n",
    "        end\n",
    "    end\n",
    "    return Spud(best_b.name, a.h, a.f, a.l, a.p, a.r, a.s, a.a1)\n",
    "end"
   ]
  },
  {
   "cell_type": "code",
   "execution_count": 9,
   "id": "560e9539",
   "metadata": {},
   "outputs": [
    {
     "data": {
      "text/plain": [
       "df_to_spuds (generic function with 1 method)"
      ]
     },
     "execution_count": 9,
     "metadata": {},
     "output_type": "execute_result"
    }
   ],
   "source": [
    "function eval_battle_list(a::Spud, bs::Array{Spud})::Int\n",
    "    score = 0\n",
    "    for ii in 1:length(bs)\n",
    "        score = score + eval_battle(a, bs[ii])\n",
    "    end\n",
    "    return score\n",
    "end\n",
    "\n",
    "function eval_battle_list2(a::Spud, bs::Array{Spud}, w::Vector{Float64})::AbstractFloat\n",
    "    score = 0.0\n",
    "    for ii in 1:length(bs)\n",
    "        score = score + w[ii] * eval_battle(a, bs[ii])\n",
    "    end\n",
    "    return score\n",
    "end\n",
    "\n",
    "function spuds_to_df(as::Array{Spud})::DataFrame\n",
    "    names = Array{String}(undef, length(as))\n",
    "    hs = Array{Int}(undef, length(as))\n",
    "    fs = Array{Int}(undef, length(as))\n",
    "    ls = Array{Int}(undef, length(as))\n",
    "    ps = Array{Int}(undef, length(as))\n",
    "    rs = Array{Int}(undef, length(as))\n",
    "    ss = Array{Int}(undef, length(as))\n",
    "    a1s = Array{Int}(undef, length(as))\n",
    "    for ii in 1:length(as)\n",
    "        names[ii] = as[ii].name\n",
    "        hs[ii] = as[ii].h\n",
    "        fs[ii] = as[ii].f\n",
    "        ls[ii] = as[ii].l\n",
    "        ps[ii] = as[ii].p\n",
    "        rs[ii] = as[ii].r\n",
    "        ss[ii] = as[ii].s\n",
    "        a1s[ii] = as[ii].a1\n",
    "    end\n",
    "    df = DataFrame(name = names, h = hs, f = fs, l = ls, p = ps, r = rs, s = ss, a1 = a1s)\n",
    "    return df\n",
    "end\n",
    "\n",
    "function fpart(x::AbstractFloat)::AbstractFloat\n",
    "  return x - trunc(x)\n",
    "end\n",
    "\n",
    "# for legacy dfs without abilities\n",
    "function df_to_spuds0(df::DataFrame)::Array{Spud}\n",
    "    n = size(df)[1]\n",
    "    as = Array{Spud}(undef, n)\n",
    "    for i in 1:n\n",
    "        as[i] = Spud(df[i, :name], df[i, :h], df[i, :f], df[i, :l], df[i, :p], df[i, :r], df[i, :s], ability_none)\n",
    "    end\n",
    "    return as\n",
    "end\n",
    "\n",
    "function df_to_spuds(df::DataFrame)::Array{Spud}\n",
    "    n = size(df)[1]\n",
    "    as = Array{Spud}(undef, n)\n",
    "    for i in 1:n\n",
    "        as[i] = Spud(df[i, :name], df[i, :h], df[i, :f], df[i, :l], df[i, :p], df[i, :r], df[i, :s], df[i, :a1])\n",
    "    end\n",
    "    return as\n",
    "end\n",
    "\n"
   ]
  },
  {
   "cell_type": "code",
   "execution_count": 10,
   "id": "1e85ba92",
   "metadata": {},
   "outputs": [
    {
     "data": {
      "text/plain": [
       "upgrade_spud (generic function with 1 method)"
      ]
     },
     "execution_count": 10,
     "metadata": {},
     "output_type": "execute_result"
    }
   ],
   "source": [
    "function upgrade_spud(sp::Spud)::Spud\n",
    "    h = sp.h\n",
    "    f = sp.f\n",
    "    l = sp.l\n",
    "    p = sp.p\n",
    "    r = sp.r\n",
    "    s = sp.s    \n",
    "    a1 = sp.a1\n",
    "    check_h = (h == MXV) || (cost(Spud(\"\",h+1,f,l,p,r,s,a1)) > MXS)\n",
    "    check_f = (f == MXV) || (cost(Spud(\"\",h,f+1,l,p,r,s,a1)) > MXS)\n",
    "    check_l = (l == MXV) || (cost(Spud(\"\", h,f,l+1,p,r,s,a1)) > MXS)\n",
    "    check_prs = (p+r+s == 3*MXV) || (cost(Spud(\"\",h,f,l,p+1,r,s,a1)) > MXS)\n",
    "    while !(check_h && check_f && check_l && check_prs)\n",
    "        rand_i = rand(1:4)\n",
    "        if rand_i == 1 && !check_h\n",
    "            h = h+1\n",
    "        end\n",
    "        if rand_i == 2 && !check_f\n",
    "            f = f+1\n",
    "        end\n",
    "        if rand_i == 3 && !check_l\n",
    "            l = l+1\n",
    "        end\n",
    "        if rand_i == 4 && !check_prs\n",
    "            rand_j = rand([1,1,1,1,1,2,2,2,2,3,3,3])\n",
    "            if rand_j == 1 && p < MXV\n",
    "                p += 1\n",
    "            end\n",
    "            if rand_j == 2 && r < MXV\n",
    "                r += 1\n",
    "            end\n",
    "            if rand_j == 3 && s < MXV\n",
    "                s += 1\n",
    "            end\n",
    "        end            \n",
    "        check_h = (h == MXV) || (cost(Spud(\"\",h+1,f,l,p,r,s,a1)) > MXS)\n",
    "        check_f = (f == MXV) || (cost(Spud(\"\",h,f+1,l,p,r,s,a1)) > MXS)\n",
    "        check_l = (l == MXV) || (cost(Spud(\"\", h,f,l+1,p,r,s,a1)) > MXS)\n",
    "        check_prs = (p+r+s == 3*MXV) || (cost(Spud(\"\",h,f,l,p+1,r,s,a1)) > MXS)\n",
    "    end\n",
    "    return Spud(sp.name, h, f, l, p, r, s, a1)\n",
    "end\n",
    "\n"
   ]
  },
  {
   "cell_type": "code",
   "execution_count": 11,
   "id": "638f1e65",
   "metadata": {},
   "outputs": [
    {
     "data": {
      "text/plain": [
       "sample_library (generic function with 2 methods)"
      ]
     },
     "execution_count": 11,
     "metadata": {},
     "output_type": "execute_result"
    }
   ],
   "source": [
    "function sample_library(ss_prob, n_init = 1000000)\n",
    "    ffs = Array{Spud}(undef, n_init)\n",
    "    ff_i = 0\n",
    "    hrange = MNV:MXV\n",
    "    frange = MNV:MXV\n",
    "    lrange = MNV:MXV\n",
    "    prange = MNV:MXV\n",
    "    rrange = MNV:MXV\n",
    "    srange = MNV:MXV\n",
    "    for a1 in append!([k for k in keys(ability_name)], [ability_none])\n",
    "        for h in hrange\n",
    "            if (cost(h, MNV, MNV, MNV, MNV, MNV) <= MXS)\n",
    "                for f in frange\n",
    "                    if (cost(h, f, MNV, MNV, MNV, MNV) <= MXS)\n",
    "                        for l in lrange\n",
    "                            if (cost(h, f, l, MNV, MNV, MNV) <= MXS)\n",
    "                                for p in prange\n",
    "                                    if (cost(h, f, l, p, MNV, MNV) <= MXS)\n",
    "                                        for r in rrange\n",
    "                                            if (cost(h, f, l, p, r, MNV) <= MXS)\n",
    "                                                for s in srange\n",
    "                                                    if rand() < ss_prob && (cost(h,f,l,p,r,s) <= MXS)\n",
    "                                                        ff = Spud(\"\", h,f,l,p,r,s,a1)\n",
    "                                                        if cost(ff) <= MXS\n",
    "                                                            ff_i += 1\n",
    "                                                            ffs[ff_i] = upgrade_spud(ff)\n",
    "                                                        end\n",
    "                                                    end\n",
    "                                                end\n",
    "                                            end\n",
    "                                        end                        \n",
    "                                    end\n",
    "                                end                        \n",
    "                            end\n",
    "                        end\n",
    "                    end\n",
    "                end\n",
    "            end\n",
    "        end\n",
    "    end\n",
    "    ffs = ffs[1:ff_i]\n",
    "    return unique(ffs)\n",
    "end"
   ]
  },
  {
   "cell_type": "code",
   "execution_count": 281,
   "id": "847f986d",
   "metadata": {},
   "outputs": [
    {
     "data": {
      "text/plain": [
       "ffp2 (generic function with 1 method)"
      ]
     },
     "execution_count": 281,
     "metadata": {},
     "output_type": "execute_result"
    }
   ],
   "source": [
    "struct NashEquilibrium2p\n",
    "    w1::Array{Float64}\n",
    "    w2::Array{Float64}\n",
    "    v::Float64\n",
    "end\n",
    "\n",
    "function ffp2(set1::Array{Spud}, set2::Array{Spud}, nits::Int64)::NashEquilibrium2p\n",
    "    n1 = length(set1)\n",
    "    n2 = length(set2)\n",
    "    payoffs = Array{Int64}(undef, (n1, n2))\n",
    "    for i in 1:n1\n",
    "        for j in 1:n2\n",
    "            payoffs[i,j] = eval_battle(set1[i], set2[j])\n",
    "        end\n",
    "    end\n",
    "    v1 = [1 for i in 1:n1]\n",
    "    v2 = [1 for i in 1:n2]\n",
    "    s1 = [sum(payoffs[i, :] .* v2) for i in 1:n1]\n",
    "    s2 = [sum(payoffs[:, i] .* v1) for i in 1:n2]\n",
    "    for it in 1:nits\n",
    "        cands1 = findall(s1 .== maximum(s1))\n",
    "        i1 = rand(cands1)\n",
    "        cands2 = findall(s2 .== minimum(s2))\n",
    "        i2 = rand(cands2)\n",
    "        v1[i1] += 1\n",
    "        s2 = s2 .+ payoffs[i1, :]\n",
    "        v2[i2] += 1\n",
    "        s1 = s1 .+ payoffs[:, i2]\n",
    "    end\n",
    "    w1 = v1./sum(v1)\n",
    "    w2 = v2./sum(v2)\n",
    "    val = sum([payoffs[i, j] * w1[i] * w2[j] for i in 1:n1 for j in 1:n2])\n",
    "    return NashEquilibrium2p(w1, w2, val)\n",
    "end"
   ]
  },
  {
   "cell_type": "code",
   "execution_count": 289,
   "id": "8f3d39ca",
   "metadata": {},
   "outputs": [
    {
     "name": "stdout",
     "output_type": "stream",
     "text": [
      "-0.28281276005547834\n"
     ]
    }
   ],
   "source": [
    "answ = []\n",
    "for j in 1:100\n",
    "    set1 = [rand(nash_env) for i in 1:3];\n",
    "    set2 = [rand(nash_env) for i in 1:5];\n",
    "    res = ffp2(set1, set2, 100)\n",
    "    append!(answ, res.v)\n",
    "end\n",
    "println(mean(answ))\n",
    "#answ"
   ]
  },
  {
   "cell_type": "markdown",
   "id": "084c92e5",
   "metadata": {},
   "source": [
    "## Battle code"
   ]
  },
  {
   "cell_type": "code",
   "execution_count": 12,
   "id": "d8584105",
   "metadata": {},
   "outputs": [],
   "source": [
    "mutable struct BattleView\n",
    "    round::Int64\n",
    "    own::Array{Spud}\n",
    "    owncount::Array{Int64}\n",
    "    deployed::Array{Bool}\n",
    "    obs::Array{Spud}\n",
    "    obscount::Array{Int64}\n",
    "end\n",
    "\n",
    "mutable struct AiPlayer\n",
    "    genteam::Function\n",
    "    pick::Function\n",
    "    create::Function\n",
    "end"
   ]
  },
  {
   "cell_type": "code",
   "execution_count": 13,
   "id": "ccf44741",
   "metadata": {},
   "outputs": [
    {
     "data": {
      "text/plain": [
       "play_is_game_over (generic function with 1 method)"
      ]
     },
     "execution_count": 13,
     "metadata": {},
     "output_type": "execute_result"
    }
   ],
   "source": [
    "n_copy = 3\n",
    "\n",
    "function initialize_game(team1::Array{Spud}, team2::Array{Spud})::Array{BattleView}\n",
    "    teams = [team1, team2]\n",
    "    bvs = Array{BattleView}(undef, 0)\n",
    "    for team in teams\n",
    "        bv = BattleView(0, team, [n_copy for i in 1:length(team)], [false for i in 1:length(team)], [], [])\n",
    "        append!(bvs, [bv])\n",
    "    end\n",
    "    return bvs\n",
    "end\n",
    "\n",
    "function observe_fighters(game::Array{BattleView}, choices::Array{Int64})::Array{BattleView}\n",
    "    for i in 1:2\n",
    "        j = 3- i\n",
    "        if choices[i] != 0\n",
    "            game[i].deployed[choices[i]] = true\n",
    "            ff = game[i].own[choices[i]]\n",
    "            if ff in game[j].obs\n",
    "                0\n",
    "            else\n",
    "                game[j].obs = append!(game[j].obs, [ff])\n",
    "                game[j].obscount = append!(game[j].obscount, [game[i].owncount[choices[i]]])\n",
    "            end\n",
    "        end\n",
    "    end\n",
    "    return game\n",
    "end\n",
    "\n",
    "function modify_fighter_counts(game::Array{BattleView}, choices::Array{Int64}, mod::Array{Int64})::Array{BattleView}\n",
    "    for i in 1:2\n",
    "        j = 3- i\n",
    "        if choices[i] != 0\n",
    "            game[i].owncount[choices[i]] = game[i].owncount[choices[i]] + mod[i]\n",
    "            ff = game[i].own[choices[i]]\n",
    "            if ff in game[j].obs\n",
    "                ind = findall(x -> x==ff, game[j].obs)[1]\n",
    "                game[j].obscount[ind] = game[i].owncount[choices[i]]\n",
    "            else\n",
    "                0\n",
    "            end\n",
    "        end\n",
    "    end\n",
    "    return game\n",
    "end\n",
    "\n",
    "function play_combat(game::Array{BattleView}, choices::Array{Int64}, verbose::Bool = false)::Array{BattleView}\n",
    "    round = game[1].round + 1\n",
    "    fighters = [game[i].own[choices[i]] for i in 1:2]\n",
    "    for i in 1:2\n",
    "        @assert game[i].owncount[choices[i]] >= 0\n",
    "    end\n",
    "    if verbose\n",
    "        print(\"Round \")\n",
    "        print(round)\n",
    "        print(\": #A\")\n",
    "        print(choices[1])\n",
    "        print(\" \")\n",
    "        print(fighters[1])\n",
    "        print(\" vs #B\")\n",
    "        print(choices[2])\n",
    "        print(\" \")\n",
    "        println(fighters[2])\n",
    "    end\n",
    "    outcome = eval_battle(fighters[1], fighters[2])\n",
    "    if verbose\n",
    "        if outcome == 0\n",
    "            println(\"Tied!\")\n",
    "        else\n",
    "            if outcome == 1\n",
    "                print(fighters[1])\n",
    "            end\n",
    "            if outcome == -1\n",
    "                print(fighters[2])\n",
    "            end\n",
    "            println(\" wins!\")\n",
    "        end\n",
    "    end\n",
    "    game = observe_fighters(game, choices)\n",
    "    if outcome > -1\n",
    "        game = modify_fighter_counts(game, choices, [0, -1])\n",
    "    end\n",
    "    if outcome < 1\n",
    "        game = modify_fighter_counts(game, choices, [-1, 0])\n",
    "    end\n",
    "    for i in 1:2\n",
    "        game[i].round = round\n",
    "    end\n",
    "    return game\n",
    "end\n",
    "\n",
    "function play_add_spud(game::Array{BattleView}, player::Int64, ff::Spud, verbose::Bool = false)::Array{BattleView}\n",
    "    game[player].own = append!(game[player].own, [ff])\n",
    "    game[player].owncount = append!(game[player].owncount, [n_copy])\n",
    "    game[player].deployed = append!(game[player].deployed, [false])\n",
    "    if verbose\n",
    "        print(\"Player \")\n",
    "        print(player)\n",
    "        print(\" adds #\")\n",
    "        print([\"A\", \"B\"][player])\n",
    "        print(length(game[player].own))\n",
    "        print(\" \")\n",
    "        println(ff)\n",
    "    end\n",
    "    return game\n",
    "end\n",
    "\n",
    "function play_is_game_over(game::Array{BattleView})::Bool\n",
    "    for bv in game\n",
    "        if sum(bv.owncount) == 0\n",
    "            return true\n",
    "        end\n",
    "    end\n",
    "    return false\n",
    "end"
   ]
  },
  {
   "cell_type": "markdown",
   "id": "88b19f9c",
   "metadata": {},
   "source": [
    "## Load precomputed nash eq distribution"
   ]
  },
  {
   "cell_type": "code",
   "execution_count": 14,
   "id": "b7bc5f03",
   "metadata": {},
   "outputs": [],
   "source": [
    "nash_env_df = DataFrame(CSV.File(\"spudsD_mxv10_nash.csv\"))\n",
    "nash_env = df_to_spuds0(nash_env_df)\n",
    "counts = [parse(Int, s.name[2:end]) for s in nash_env]\n",
    "nash_env = [rand_rename(ff) for ff in nash_env]\n",
    "w = counts./sum(counts);"
   ]
  },
  {
   "cell_type": "code",
   "execution_count": 15,
   "id": "15fdaf79",
   "metadata": {},
   "outputs": [
    {
     "data": {
      "text/plain": [
       "ai2_create (generic function with 1 method)"
      ]
     },
     "execution_count": 15,
     "metadata": {},
     "output_type": "execute_result"
    }
   ],
   "source": [
    "function generate_rand_team(env, counts, nteam)\n",
    "    cc = cumsum(counts)\n",
    "    team = Array{Spud}(undef, nteam)\n",
    "    for i in 1:nteam\n",
    "        tmp = rand(1:sum(counts))\n",
    "        ind = sum(cc .< tmp)+1\n",
    "        team[i] = env[ind]\n",
    "    end\n",
    "    return team\n",
    "end\n",
    "\n",
    "function ai0_pick(a::BattleView)::Int64\n",
    "    inds = findall(a.owncount .> 0)\n",
    "    return rand(inds)\n",
    "end\n",
    "\n",
    "function ai0_create(a::BattleView)::Spud\n",
    "    return generate_rand_team(nash_env, counts, 1)[1]\n",
    "end\n",
    "\n",
    "function ai1_create(a::BattleView)::Spud\n",
    "    ops = a.obs[a.obscount .> 0]\n",
    "    ebs = [eval_battle_list(ff, ops) for ff in nash_env]\n",
    "    cands = nash_env[ebs .== maximum(ebs)]\n",
    "    return rand(cands)\n",
    "end\n",
    "\n",
    "lib = sample_library(0.2)\n",
    "\n",
    "function ai2_create(a::BattleView)::Spud\n",
    "    ops = a.obs[a.obscount .> 0]\n",
    "    ebs = [eval_battle_list(ff, ops) for ff in nash_env]\n",
    "    if maximum(ebs) == length(ops)\n",
    "        cands = nash_env[ebs .== maximum(ebs)]\n",
    "        return rand(cands)\n",
    "    else\n",
    "        ebs2 = [eval_battle_list(ff, ops) for ff in lib]\n",
    "        if maximum(ebs2) > maximum(ebs)\n",
    "            cands = lib[ebs2 .== maximum(ebs2)]\n",
    "            return rand_rename(rand(cands))\n",
    "        else\n",
    "            cands = nash_env[ebs .== maximum(ebs)]\n",
    "            return rand(cands)\n",
    "        end\n",
    "    end\n",
    "end\n"
   ]
  },
  {
   "cell_type": "code",
   "execution_count": 290,
   "id": "0177cd61",
   "metadata": {},
   "outputs": [
    {
     "data": {
      "text/plain": [
       "0.5908131420827166"
      ]
     },
     "execution_count": 290,
     "metadata": {},
     "output_type": "execute_result"
    }
   ],
   "source": [
    "rand()"
   ]
  },
  {
   "cell_type": "code",
   "execution_count": 292,
   "id": "3b4a9b80",
   "metadata": {},
   "outputs": [
    {
     "data": {
      "text/plain": [
       "ai_greedy_pick (generic function with 1 method)"
      ]
     },
     "execution_count": 292,
     "metadata": {},
     "output_type": "execute_result"
    }
   ],
   "source": [
    "# picks Spud most likely to win\n",
    "function ai_greedy_pick(a::BattleView)::Int64\n",
    "    if length(a.obs[a.obscount .> 0]) == 0\n",
    "        return rand(findall(a.owncount .> 0))\n",
    "    end\n",
    "    res = ffp2(a.own[a.owncount .> 0], a.obs[a.obscount .> 0], 100)\n",
    "    ind = findall(a.owncount .> 0)[rand(findall(res.w1 .== maximum(res.w1)))]\n",
    "    return ind\n",
    "end"
   ]
  },
  {
   "cell_type": "code",
   "execution_count": 295,
   "id": "f0a46e93",
   "metadata": {},
   "outputs": [
    {
     "data": {
      "text/plain": [
       "ai_antigreedy_pick (generic function with 1 method)"
      ]
     },
     "execution_count": 295,
     "metadata": {},
     "output_type": "execute_result"
    }
   ],
   "source": [
    "# picks Spud that counters opp\n",
    "function ai_antigreedy_pick(a::BattleView)::Int64\n",
    "    if length(a.obs[a.obscount .> 0]) == 0\n",
    "        return rand(findall(a.owncount .> 0))\n",
    "    end\n",
    "    own = a.own[a.owncount .> 0]\n",
    "    ops = a.obs[a.obscount .> 0]\n",
    "    res = ffp2(own, ops, 100)\n",
    "    ind2 = rand(findall(res.w2 .== maximum(res.w2)))\n",
    "    ebs = [eval_battle(ff, ops[ind2]) for ff in own]\n",
    "    if sum(ebs .== 1) > 1\n",
    "        inds = findall(ebs .== 1)\n",
    "        ind = inds[rand(findall(res.w1[inds].==maximum(res.w1[inds])))]\n",
    "    else\n",
    "        ind = rand(findall(ebs .== maximum(ebs)))\n",
    "    end\n",
    "    return findall(a.owncount .> 0)[ind]\n",
    "end"
   ]
  },
  {
   "cell_type": "code",
   "execution_count": 294,
   "id": "b262dfdf",
   "metadata": {},
   "outputs": [
    {
     "data": {
      "text/plain": [
       "ai_myopic_pick (generic function with 1 method)"
      ]
     },
     "execution_count": 294,
     "metadata": {},
     "output_type": "execute_result"
    }
   ],
   "source": [
    "# picks Spud based on 1-round nash\n",
    "function ai_myopic_pick(a::BattleView)::Int64\n",
    "    if length(a.obs[a.obscount .> 0]) == 0\n",
    "        return rand(findall(a.owncount .> 0))\n",
    "    end\n",
    "    res = ffp2(a.own[a.owncount .> 0], a.obs[a.obscount .> 0], 100)\n",
    "    cc = cumsum(res.w1)\n",
    "    ind = sum(cc .< rand()) + 1\n",
    "    return findall(a.owncount .> 0)[ind]\n",
    "end"
   ]
  },
  {
   "cell_type": "code",
   "execution_count": 16,
   "id": "c30acb93",
   "metadata": {},
   "outputs": [
    {
     "data": {
      "text/plain": [
       "play_game (generic function with 2 methods)"
      ]
     },
     "execution_count": 16,
     "metadata": {},
     "output_type": "execute_result"
    }
   ],
   "source": [
    "creation_rounds = [5, 10, 15]\n",
    "\n",
    "function play_game(players::Array{AiPlayer}, verbose::Bool = true)::Int64\n",
    "    ai1 = players[1]\n",
    "    ai2 = players[2]\n",
    "    ais = players\n",
    "    team1 = ai1.genteam()\n",
    "    team2 = ai2.genteam()\n",
    "    game = initialize_game(team1, team2)\n",
    "    while !play_is_game_over(game)\n",
    "        # play a round\n",
    "        choice1 = ai1.pick(game[1])\n",
    "        choice2 = ai2.pick(game[2])\n",
    "        game = play_combat(game, [choice1, choice2], verbose)\n",
    "        if verbose\n",
    "            for i in 1:2\n",
    "                println(game[i].owncount)\n",
    "            end\n",
    "        end\n",
    "        if game[1].round in creation_rounds\n",
    "            for i in 1:2\n",
    "                ff = ais[i].create(game[i])\n",
    "                game = play_add_spud(game, i, ff, verbose)\n",
    "            end\n",
    "        end\n",
    "    end\n",
    "    if sum(game[1].owncount) == 0\n",
    "        if sum(game[2].owncount) == 0\n",
    "            return 0\n",
    "        else\n",
    "            return -1\n",
    "        end\n",
    "    end\n",
    "    return 1\n",
    "end"
   ]
  },
  {
   "cell_type": "code",
   "execution_count": null,
   "id": "9a9a1ded",
   "metadata": {},
   "outputs": [],
   "source": [
    "players = ais\n",
    "verbose = true"
   ]
  },
  {
   "cell_type": "code",
   "execution_count": null,
   "id": "de4a6438",
   "metadata": {},
   "outputs": [],
   "source": [
    "ai1 = players[1]\n",
    "ai2 = players[2]\n",
    "ais = players\n",
    "team1 = ai1.genteam()\n",
    "team2 = ai2.genteam()\n",
    "game = initialize_game(team1, team2)\n",
    "while !play_is_game_over(game)\n",
    "    # play a round\n",
    "    choice1 = ai1.pick(game[1])\n",
    "    choice2 = ai2.pick(game[2])\n",
    "    game = play_combat(game, [choice1, choice2], verbose)\n",
    "    if verbose\n",
    "        for i in 1:2\n",
    "            println(game[i].owncount)\n",
    "        end\n",
    "    end\n",
    "    if game[1].round in creation_rounds\n",
    "        for i in 1:2\n",
    "            ff = ais[i].create(game[i])\n",
    "            game = play_add_spud(game, i, ff, verbose)\n",
    "        end\n",
    "    end\n",
    "end"
   ]
  },
  {
   "cell_type": "code",
   "execution_count": 17,
   "id": "431c1e97",
   "metadata": {
    "scrolled": false
   },
   "outputs": [
    {
     "name": "stdout",
     "output_type": "stream",
     "text": [
      "  1.337743 seconds (3.50 M allocations: 331.790 MiB, 4.45% gc time, 76.99% compilation time)\n"
     ]
    },
    {
     "data": {
      "text/plain": [
       "0.503"
      ]
     },
     "execution_count": 17,
     "metadata": {},
     "output_type": "execute_result"
    }
   ],
   "source": [
    "ai1 = AiPlayer(() -> generate_rand_team(nash_env, counts, 5), ai0_pick, ai0_create)\n",
    "ai2 = AiPlayer(() -> generate_rand_team(nash_env, counts, 5), ai0_pick, ai0_create)\n",
    "ais = [ai1, ai2]\n",
    "@time res = [play_game(ais, false) for i in 1:1000]\n",
    "mean(res .> 0)"
   ]
  },
  {
   "cell_type": "code",
   "execution_count": 18,
   "id": "01d2269f",
   "metadata": {},
   "outputs": [
    {
     "name": "stdout",
     "output_type": "stream",
     "text": [
      "  4.974340 seconds (78.17 M allocations: 6.815 GiB, 19.48% gc time, 3.99% compilation time)\n"
     ]
    },
    {
     "data": {
      "text/plain": [
       "0.277"
      ]
     },
     "execution_count": 18,
     "metadata": {},
     "output_type": "execute_result"
    }
   ],
   "source": [
    "ai1 = AiPlayer(() -> generate_rand_team(nash_env, counts, 5), ai0_pick, ai0_create)\n",
    "ai2 = AiPlayer(() -> generate_rand_team(nash_env, counts, 5), ai0_pick, ai1_create)\n",
    "ais = [ai1, ai2]\n",
    "@time res = [play_game(ais, false) for i in 1:1000]\n",
    "mean(res .> 0)"
   ]
  },
  {
   "cell_type": "code",
   "execution_count": 19,
   "id": "0f0eaa60",
   "metadata": {},
   "outputs": [
    {
     "name": "stdout",
     "output_type": "stream",
     "text": [
      "  4.924032 seconds (77.40 M allocations: 6.752 GiB, 19.78% gc time, 0.60% compilation time)\n"
     ]
    },
    {
     "data": {
      "text/plain": [
       "0.749"
      ]
     },
     "execution_count": 19,
     "metadata": {},
     "output_type": "execute_result"
    }
   ],
   "source": [
    "ai1 = AiPlayer(() -> generate_rand_team(nash_env, counts, 5), ai0_pick, ai1_create)\n",
    "ai2 = AiPlayer(() -> generate_rand_team(nash_env, counts, 5), ai0_pick, ai0_create)\n",
    "ais = [ai1, ai2]\n",
    "@time res = [play_game(ais, false) for i in 1:1000]\n",
    "mean(res .> 0)"
   ]
  },
  {
   "cell_type": "code",
   "execution_count": 20,
   "id": "81c1152f",
   "metadata": {},
   "outputs": [
    {
     "name": "stdout",
     "output_type": "stream",
     "text": [
      "  0.986266 seconds (15.65 M allocations: 1.359 GiB, 19.79% gc time, 2.96% compilation time)\n"
     ]
    },
    {
     "data": {
      "text/plain": [
       "0.51"
      ]
     },
     "execution_count": 20,
     "metadata": {},
     "output_type": "execute_result"
    }
   ],
   "source": [
    "ai1 = AiPlayer(() -> generate_rand_team(nash_env, counts, 5), ai0_pick, ai1_create)\n",
    "ai2 = AiPlayer(() -> generate_rand_team(nash_env, counts, 5), ai0_pick, ai1_create)\n",
    "ais = [ai1, ai2]\n",
    "@time res = [play_game(ais, false) for i in 1:100]\n",
    "mean(res .> 0)"
   ]
  },
  {
   "cell_type": "code",
   "execution_count": 21,
   "id": "ba884afc",
   "metadata": {},
   "outputs": [
    {
     "name": "stdout",
     "output_type": "stream",
     "text": [
      " 38.619431 seconds (636.97 M allocations: 56.165 GiB, 17.30% gc time, 1.06% compilation time)\n"
     ]
    },
    {
     "data": {
      "text/plain": [
       "0.49"
      ]
     },
     "execution_count": 21,
     "metadata": {},
     "output_type": "execute_result"
    }
   ],
   "source": [
    "ai1 = AiPlayer(() -> generate_rand_team(nash_env, counts, 5), ai0_pick, ai2_create)\n",
    "ai2 = AiPlayer(() -> generate_rand_team(nash_env, counts, 5), ai0_pick, ai1_create)\n",
    "ais = [ai1, ai2]\n",
    "@time res = [play_game(ais, false) for i in 1:100]\n",
    "mean(res .> 0)"
   ]
  },
  {
   "cell_type": "code",
   "execution_count": null,
   "id": "1b0ca103",
   "metadata": {},
   "outputs": [],
   "source": [
    "ai1 = AiPlayer(() -> generate_rand_team(nash_env, counts, 5), ai0_pick, ai1_create)\n",
    "ai2 = AiPlayer(() -> generate_rand_team(nash_env, counts, 5), ai_greedy_pick, ai1_create)\n",
    "ais = [ai1, ai2]\n",
    "@time res = [play_game(ais, false) for i in 1:100];\n",
    "mean(res .> 0)"
   ]
  },
  {
   "cell_type": "code",
   "execution_count": null,
   "id": "83289eaa",
   "metadata": {},
   "outputs": [],
   "source": [
    "ai1 = AiPlayer(() -> generate_rand_team(nash_env, counts, 5), ai0_pick, ai1_create)\n",
    "ai2 = AiPlayer(() -> generate_rand_team(nash_env, counts, 5), ai_myopic_pick, ai1_create)\n",
    "ais = [ai1, ai2]\n",
    "@time res = [play_game(ais, false) for i in 1:100];\n",
    "mean(res .> 0)"
   ]
  },
  {
   "cell_type": "code",
   "execution_count": null,
   "id": "59165bec",
   "metadata": {},
   "outputs": [],
   "source": [
    "ai1 = AiPlayer(() -> generate_rand_team(nash_env, counts, 5), ai_greedy_pick, ai1_create)\n",
    "ai2 = AiPlayer(() -> generate_rand_team(nash_env, counts, 5), ai_myopic_pick, ai1_create)\n",
    "ais = [ai1, ai2]\n",
    "@time res = [play_game(ais, false) for i in 1:100];\n",
    "mean(res .> 0)"
   ]
  },
  {
   "cell_type": "code",
   "execution_count": null,
   "id": "fca46ad4",
   "metadata": {},
   "outputs": [],
   "source": [
    "ai1 = AiPlayer(() -> generate_rand_team(nash_env, counts, 5), ai_greedy_pick, ai1_create)\n",
    "ai2 = AiPlayer(() -> generate_rand_team(nash_env, counts, 5), ai_antigreedy_pick, ai1_create)\n",
    "ais = [ai1, ai2]\n",
    "@time res = [play_game(ais, false) for i in 1:100];\n",
    "mean(res .> 0)"
   ]
  },
  {
   "cell_type": "code",
   "execution_count": 22,
   "id": "58b6dd07",
   "metadata": {},
   "outputs": [
    {
     "data": {
      "text/plain": [
       "2-element Vector{AiPlayer}:\n",
       " AiPlayer(var\"#53#54\"(), ai0_pick, ai2_create)\n",
       " AiPlayer(var\"#55#56\"(), ai0_pick, ai1_create)"
      ]
     },
     "execution_count": 22,
     "metadata": {},
     "output_type": "execute_result"
    }
   ],
   "source": [
    "ai1 = AiPlayer(() -> generate_rand_team(nash_env, counts, 5), ai0_pick, ai2_create)\n",
    "ai2 = AiPlayer(() -> generate_rand_team(nash_env, counts, 5), ai0_pick, ai1_create)\n",
    "ais = [ai1, ai2]"
   ]
  },
  {
   "cell_type": "code",
   "execution_count": 23,
   "id": "578d197a",
   "metadata": {},
   "outputs": [
    {
     "name": "stdout",
     "output_type": "stream",
     "text": [
      "  3.447964 seconds (27.69 M allocations: 3.019 GiB, 13.48% gc time)\n"
     ]
    }
   ],
   "source": [
    "@time lib = sample_library(0.1);"
   ]
  },
  {
   "cell_type": "code",
   "execution_count": 24,
   "id": "7498be3a",
   "metadata": {
    "scrolled": false
   },
   "outputs": [
    {
     "name": "stdout",
     "output_type": "stream",
     "text": [
      " \n",
      "Round 1: #A2 Spud(\"Passionless Harpist Rewena bread\", 9, 6, 1, 3, 1, 2, 999) vs #B5 Spud(\"Proactive Manservant Potato filling\", 4, 4, 9, 1, 4, 7, 999)\n",
      "Spud(\"Passionless Harpist Rewena bread\", 9, 6, 1, 3, 1, 2, 999) wins!\n",
      "[3, 3, 3, 3, 3]\n",
      "[3, 3, 3, 3, 2]\n",
      " \n",
      "Round 2: #A1 Spud(\"Superficial Refuse collector Nikujaga\", 5, 5, 4, 1, 5, 5, 999) vs #B5 Spud(\"Proactive Manservant Potato filling\", 4, 4, 9, 1, 4, 7, 999)\n",
      "Spud(\"Superficial Refuse collector Nikujaga\", 5, 5, 4, 1, 5, 5, 999) wins!\n",
      "[3, 3, 3, 3, 3]\n",
      "[3, 3, 3, 3, 1]\n",
      " \n",
      "Round 3: #A2 Spud(\"Passionless Harpist Rewena bread\", 9, 6, 1, 3, 1, 2, 999) vs #B1 Spud(\"Mysterious Examiner Boxty\", 7, 5, 2, 1, 5, 4, 999)\n",
      "Spud(\"Mysterious Examiner Boxty\", 7, 5, 2, 1, 5, 4, 999) wins!\n",
      "[3, 2, 3, 3, 3]\n",
      "[3, 3, 3, 3, 1]\n",
      " \n",
      "Round 4: #A4 Spud(\"Intense Impersonator Llapingacho\", 10, 1, 8, 4, 1, 5, 999) vs #B3 Spud(\"Unfazed Real estate investor Gnocchi\", 1, 4, 10, 1, 10, 10, 999)\n",
      "Spud(\"Unfazed Real estate investor Gnocchi\", 1, 4, 10, 1, 10, 10, 999) wins!\n",
      "[3, 2, 3, 2, 3]\n",
      "[3, 3, 3, 3, 1]\n",
      " \n",
      "Round 5: #A5 Spud(\"Disinterested Prison officer Papas chorreadas\", 5, 9, 2, 1, 2, 2, 999) vs #B3 Spud(\"Unfazed Real estate investor Gnocchi\", 1, 4, 10, 1, 10, 10, 999)\n",
      "Spud(\"Disinterested Prison officer Papas chorreadas\", 5, 9, 2, 1, 2, 2, 999) wins!\n",
      "[3, 2, 3, 2, 3]\n",
      "[3, 3, 2, 3, 1]\n",
      "Player 1 adds #A6 Spud(\"Careless Copywriter Bengal potatoes\", 9, 1, 9, 4, 3, 3, 999)\n",
      "Player 2 adds #B6 Spud(\"Dispassionate Copywriter Brændende kærlighed\", 10, 1, 8, 4, 3, 3, 999)\n",
      " \n",
      "Round 6: #A6 Spud(\"Careless Copywriter Bengal potatoes\", 9, 1, 9, 4, 3, 3, 999) vs #B2 Spud(\"Perspicacious Executioner Fondant potatoes\", 10, 4, 4, 1, 1, 3, 999)\n",
      "Spud(\"Careless Copywriter Bengal potatoes\", 9, 1, 9, 4, 3, 3, 999) wins!\n",
      "[3, 2, 3, 2, 3, 3]\n",
      "[3, 2, 2, 3, 1, 3]\n",
      " \n",
      "Round 7: #A6 Spud(\"Careless Copywriter Bengal potatoes\", 9, 1, 9, 4, 3, 3, 999) vs #B2 Spud(\"Perspicacious Executioner Fondant potatoes\", 10, 4, 4, 1, 1, 3, 999)\n",
      "Spud(\"Careless Copywriter Bengal potatoes\", 9, 1, 9, 4, 3, 3, 999) wins!\n",
      "[3, 2, 3, 2, 3, 3]\n",
      "[3, 1, 2, 3, 1, 3]\n",
      " \n",
      "Round 8: #A5 Spud(\"Disinterested Prison officer Papas chorreadas\", 5, 9, 2, 1, 2, 2, 999) vs #B1 Spud(\"Mysterious Examiner Boxty\", 7, 5, 2, 1, 5, 4, 999)\n",
      "Spud(\"Mysterious Examiner Boxty\", 7, 5, 2, 1, 5, 4, 999) wins!\n",
      "[3, 2, 3, 2, 2, 3]\n",
      "[3, 1, 2, 3, 1, 3]\n",
      " \n",
      "Round 9: #A5 Spud(\"Disinterested Prison officer Papas chorreadas\", 5, 9, 2, 1, 2, 2, 999) vs #B1 Spud(\"Mysterious Examiner Boxty\", 7, 5, 2, 1, 5, 4, 999)\n",
      "Spud(\"Mysterious Examiner Boxty\", 7, 5, 2, 1, 5, 4, 999) wins!\n",
      "[3, 2, 3, 2, 1, 3]\n",
      "[3, 1, 2, 3, 1, 3]\n",
      " \n",
      "Round 10: #A3 Spud(\"Tolerant Undertaker Meat and potato pie\", 6, 10, 1, 1, 1, 1, 999) vs #B2 Spud(\"Perspicacious Executioner Fondant potatoes\", 10, 4, 4, 1, 1, 3, 999)\n",
      "Spud(\"Perspicacious Executioner Fondant potatoes\", 10, 4, 4, 1, 1, 3, 999) wins!\n",
      "[3, 2, 2, 2, 1, 3]\n",
      "[3, 1, 2, 3, 1, 3]\n"
     ]
    },
    {
     "ename": "LoadError",
     "evalue": "UndefVarError: `saved` not defined",
     "output_type": "error",
     "traceback": [
      "UndefVarError: `saved` not defined",
      "",
      "Stacktrace:",
      " [1] top-level scope",
      "   @ In[24]:34"
     ]
    }
   ],
   "source": [
    "verbose = true\n",
    "ai1 = AiPlayer(() -> generate_rand_team(nash_env, counts, 5), ai0_pick, ai2_create)\n",
    "ai2 = AiPlayer(() -> generate_rand_team(nash_env, counts, 5), ai0_pick, ai1_create)\n",
    "ais = [ai1, ai2]\n",
    "team1 = ai1.genteam()\n",
    "team2 = ai2.genteam()\n",
    "game = initialize_game(team1, team2)\n",
    "while !play_is_game_over(game)\n",
    "    # play a round\n",
    "    println(\" \")\n",
    "    choice1 = ai1.pick(game[1])\n",
    "    choice2 = ai2.pick(game[2])\n",
    "    game = play_combat(game, [choice1, choice2], verbose)\n",
    "    if verbose\n",
    "        for i in 1:2\n",
    "            println(game[i].owncount)\n",
    "        end\n",
    "    end\n",
    "    if game[1].round in creation_rounds\n",
    "        for i in 1:2\n",
    "            if i==1\n",
    "                ops = game[2].obs[game[2].obscount .> 0]\n",
    "                ebs = [eval_battle_list(ff, ops) for ff in nash_env]\n",
    "                if maximum(ebs) == length(ops)\n",
    "                    cands = nash_env[ebs .== maximum(ebs)]\n",
    "                    ff = rand(cands)\n",
    "                else\n",
    "                    lib = sample_library(0.005);\n",
    "                    ebs2 = [eval_battle_list(ff, ops) for ff in lib]\n",
    "                    if maximum(ebs2) > maximum(ebs)\n",
    "                        cands = lib[ebs2 .== maximum(ebs2)]\n",
    "                        ff = rand_rename(rand(cands))\n",
    "                        #println(rand_rename(ff))\n",
    "                        append!(saved, [ff])\n",
    "                    else\n",
    "                        cands = nash_env[ebs .== maximum(ebs)]\n",
    "                        ff = rand(cands)\n",
    "                    end\n",
    "                end\n",
    "            else\n",
    "                ff = ais[i].create(game[i])\n",
    "            end\n",
    "            game = play_add_spud(game, i, ff, verbose)\n",
    "        end\n",
    "    end\n",
    "end"
   ]
  },
  {
   "cell_type": "code",
   "execution_count": 25,
   "id": "48e7dd4e",
   "metadata": {},
   "outputs": [
    {
     "data": {
      "text/html": [
       "<div><div style = \"float: left;\"><span>12×8 DataFrame</span></div><div style = \"clear: both;\"></div></div><div class = \"data-frame\" style = \"overflow-x: scroll;\"><table class = \"data-frame\" style = \"margin-bottom: 6px;\"><thead><tr class = \"header\"><th class = \"rowNumber\" style = \"font-weight: bold; text-align: right;\">Row</th><th style = \"text-align: left;\">name</th><th style = \"text-align: left;\">h</th><th style = \"text-align: left;\">f</th><th style = \"text-align: left;\">l</th><th style = \"text-align: left;\">p</th><th style = \"text-align: left;\">r</th><th style = \"text-align: left;\">s</th><th style = \"text-align: left;\">a1</th></tr><tr class = \"subheader headerLastRow\"><th class = \"rowNumber\" style = \"font-weight: bold; text-align: right;\"></th><th title = \"String\" style = \"text-align: left;\">String</th><th title = \"Int64\" style = \"text-align: left;\">Int64</th><th title = \"Int64\" style = \"text-align: left;\">Int64</th><th title = \"Int64\" style = \"text-align: left;\">Int64</th><th title = \"Int64\" style = \"text-align: left;\">Int64</th><th title = \"Int64\" style = \"text-align: left;\">Int64</th><th title = \"Int64\" style = \"text-align: left;\">Int64</th><th title = \"Int64\" style = \"text-align: left;\">Int64</th></tr></thead><tbody><tr><td class = \"rowNumber\" style = \"font-weight: bold; text-align: right;\">1</td><td style = \"text-align: left;\">Superficial Refuse collector Nikujaga</td><td style = \"text-align: right;\">5</td><td style = \"text-align: right;\">5</td><td style = \"text-align: right;\">4</td><td style = \"text-align: right;\">1</td><td style = \"text-align: right;\">5</td><td style = \"text-align: right;\">5</td><td style = \"text-align: right;\">999</td></tr><tr><td class = \"rowNumber\" style = \"font-weight: bold; text-align: right;\">2</td><td style = \"text-align: left;\">Passionless Harpist Rewena bread</td><td style = \"text-align: right;\">9</td><td style = \"text-align: right;\">6</td><td style = \"text-align: right;\">1</td><td style = \"text-align: right;\">3</td><td style = \"text-align: right;\">1</td><td style = \"text-align: right;\">2</td><td style = \"text-align: right;\">999</td></tr><tr><td class = \"rowNumber\" style = \"font-weight: bold; text-align: right;\">3</td><td style = \"text-align: left;\">Tolerant Undertaker Meat and potato pie</td><td style = \"text-align: right;\">6</td><td style = \"text-align: right;\">10</td><td style = \"text-align: right;\">1</td><td style = \"text-align: right;\">1</td><td style = \"text-align: right;\">1</td><td style = \"text-align: right;\">1</td><td style = \"text-align: right;\">999</td></tr><tr><td class = \"rowNumber\" style = \"font-weight: bold; text-align: right;\">4</td><td style = \"text-align: left;\">Intense Impersonator Llapingacho</td><td style = \"text-align: right;\">10</td><td style = \"text-align: right;\">1</td><td style = \"text-align: right;\">8</td><td style = \"text-align: right;\">4</td><td style = \"text-align: right;\">1</td><td style = \"text-align: right;\">5</td><td style = \"text-align: right;\">999</td></tr><tr><td class = \"rowNumber\" style = \"font-weight: bold; text-align: right;\">5</td><td style = \"text-align: left;\">Disinterested Prison officer Papas chorreadas</td><td style = \"text-align: right;\">5</td><td style = \"text-align: right;\">9</td><td style = \"text-align: right;\">2</td><td style = \"text-align: right;\">1</td><td style = \"text-align: right;\">2</td><td style = \"text-align: right;\">2</td><td style = \"text-align: right;\">999</td></tr><tr><td class = \"rowNumber\" style = \"font-weight: bold; text-align: right;\">6</td><td style = \"text-align: left;\">Careless Copywriter Bengal potatoes</td><td style = \"text-align: right;\">9</td><td style = \"text-align: right;\">1</td><td style = \"text-align: right;\">9</td><td style = \"text-align: right;\">4</td><td style = \"text-align: right;\">3</td><td style = \"text-align: right;\">3</td><td style = \"text-align: right;\">999</td></tr><tr><td class = \"rowNumber\" style = \"font-weight: bold; text-align: right;\">7</td><td style = \"text-align: left;\">Mysterious Examiner Boxty</td><td style = \"text-align: right;\">7</td><td style = \"text-align: right;\">5</td><td style = \"text-align: right;\">2</td><td style = \"text-align: right;\">1</td><td style = \"text-align: right;\">5</td><td style = \"text-align: right;\">4</td><td style = \"text-align: right;\">999</td></tr><tr><td class = \"rowNumber\" style = \"font-weight: bold; text-align: right;\">8</td><td style = \"text-align: left;\">Perspicacious Executioner Fondant potatoes</td><td style = \"text-align: right;\">10</td><td style = \"text-align: right;\">4</td><td style = \"text-align: right;\">4</td><td style = \"text-align: right;\">1</td><td style = \"text-align: right;\">1</td><td style = \"text-align: right;\">3</td><td style = \"text-align: right;\">999</td></tr><tr><td class = \"rowNumber\" style = \"font-weight: bold; text-align: right;\">9</td><td style = \"text-align: left;\">Unfazed Real estate investor Gnocchi</td><td style = \"text-align: right;\">1</td><td style = \"text-align: right;\">4</td><td style = \"text-align: right;\">10</td><td style = \"text-align: right;\">1</td><td style = \"text-align: right;\">10</td><td style = \"text-align: right;\">10</td><td style = \"text-align: right;\">999</td></tr><tr><td class = \"rowNumber\" style = \"font-weight: bold; text-align: right;\">10</td><td style = \"text-align: left;\">Hardworking Cosmetologist Cacasse à cul nu</td><td style = \"text-align: right;\">3</td><td style = \"text-align: right;\">7</td><td style = \"text-align: right;\">3</td><td style = \"text-align: right;\">5</td><td style = \"text-align: right;\">1</td><td style = \"text-align: right;\">4</td><td style = \"text-align: right;\">999</td></tr><tr><td class = \"rowNumber\" style = \"font-weight: bold; text-align: right;\">11</td><td style = \"text-align: left;\">Proactive Manservant Potato filling</td><td style = \"text-align: right;\">4</td><td style = \"text-align: right;\">4</td><td style = \"text-align: right;\">9</td><td style = \"text-align: right;\">1</td><td style = \"text-align: right;\">4</td><td style = \"text-align: right;\">7</td><td style = \"text-align: right;\">999</td></tr><tr><td class = \"rowNumber\" style = \"font-weight: bold; text-align: right;\">12</td><td style = \"text-align: left;\">Dispassionate Copywriter Brændende kærlighed</td><td style = \"text-align: right;\">10</td><td style = \"text-align: right;\">1</td><td style = \"text-align: right;\">8</td><td style = \"text-align: right;\">4</td><td style = \"text-align: right;\">3</td><td style = \"text-align: right;\">3</td><td style = \"text-align: right;\">999</td></tr></tbody></table></div>"
      ],
      "text/latex": [
       "\\begin{tabular}{r|ccccccc}\n",
       "\t& name & h & f & l & p & r & \\\\\n",
       "\t\\hline\n",
       "\t& String & Int64 & Int64 & Int64 & Int64 & Int64 & \\\\\n",
       "\t\\hline\n",
       "\t1 & Superficial Refuse collector Nikujaga & 5 & 5 & 4 & 1 & 5 & $\\dots$ \\\\\n",
       "\t2 & Passionless Harpist Rewena bread & 9 & 6 & 1 & 3 & 1 & $\\dots$ \\\\\n",
       "\t3 & Tolerant Undertaker Meat and potato pie & 6 & 10 & 1 & 1 & 1 & $\\dots$ \\\\\n",
       "\t4 & Intense Impersonator Llapingacho & 10 & 1 & 8 & 4 & 1 & $\\dots$ \\\\\n",
       "\t5 & Disinterested Prison officer Papas chorreadas & 5 & 9 & 2 & 1 & 2 & $\\dots$ \\\\\n",
       "\t6 & Careless Copywriter Bengal potatoes & 9 & 1 & 9 & 4 & 3 & $\\dots$ \\\\\n",
       "\t7 & Mysterious Examiner Boxty & 7 & 5 & 2 & 1 & 5 & $\\dots$ \\\\\n",
       "\t8 & Perspicacious Executioner Fondant potatoes & 10 & 4 & 4 & 1 & 1 & $\\dots$ \\\\\n",
       "\t9 & Unfazed Real estate investor Gnocchi & 1 & 4 & 10 & 1 & 10 & $\\dots$ \\\\\n",
       "\t10 & Hardworking Cosmetologist Cacasse à cul nu & 3 & 7 & 3 & 5 & 1 & $\\dots$ \\\\\n",
       "\t11 & Proactive Manservant Potato filling & 4 & 4 & 9 & 1 & 4 & $\\dots$ \\\\\n",
       "\t12 & Dispassionate Copywriter Brændende kærlighed & 10 & 1 & 8 & 4 & 3 & $\\dots$ \\\\\n",
       "\\end{tabular}\n"
      ],
      "text/plain": [
       "\u001b[1m12×8 DataFrame\u001b[0m\n",
       "\u001b[1m Row \u001b[0m│\u001b[1m name                              \u001b[0m\u001b[1m h     \u001b[0m\u001b[1m f     \u001b[0m\u001b[1m l     \u001b[0m\u001b[1m p     \u001b[0m\u001b[1m r     \u001b[0m\u001b[1m s\u001b[0m ⋯\n",
       "     │\u001b[90m String                            \u001b[0m\u001b[90m Int64 \u001b[0m\u001b[90m Int64 \u001b[0m\u001b[90m Int64 \u001b[0m\u001b[90m Int64 \u001b[0m\u001b[90m Int64 \u001b[0m\u001b[90m I\u001b[0m ⋯\n",
       "─────┼──────────────────────────────────────────────────────────────────────────\n",
       "   1 │ Superficial Refuse collector Nik…      5      5      4      1      5    ⋯\n",
       "   2 │ Passionless Harpist Rewena bread       9      6      1      3      1\n",
       "   3 │ Tolerant Undertaker Meat and pot…      6     10      1      1      1\n",
       "   4 │ Intense Impersonator Llapingacho      10      1      8      4      1\n",
       "   5 │ Disinterested Prison officer Pap…      5      9      2      1      2    ⋯\n",
       "   6 │ Careless Copywriter Bengal potat…      9      1      9      4      3\n",
       "   7 │ Mysterious Examiner Boxty              7      5      2      1      5\n",
       "   8 │ Perspicacious Executioner Fondan…     10      4      4      1      1\n",
       "   9 │ Unfazed Real estate investor Gno…      1      4     10      1     10    ⋯\n",
       "  10 │ Hardworking Cosmetologist Cacass…      3      7      3      5      1\n",
       "  11 │ Proactive Manservant Potato fill…      4      4      9      1      4\n",
       "  12 │ Dispassionate Copywriter Brænden…     10      1      8      4      3\n",
       "\u001b[36m                                                               2 columns omitted\u001b[0m"
      ]
     },
     "execution_count": 25,
     "metadata": {},
     "output_type": "execute_result"
    }
   ],
   "source": [
    "spuds_to_df(append!(game[1].own, game[2].own))"
   ]
  },
  {
   "cell_type": "code",
   "execution_count": null,
   "id": "41f5270a",
   "metadata": {},
   "outputs": [],
   "source": []
  },
  {
   "cell_type": "code",
   "execution_count": 26,
   "id": "90bae524",
   "metadata": {
    "scrolled": true
   },
   "outputs": [
    {
     "name": "stdout",
     "output_type": "stream",
     "text": [
      "Spud(\"Resilient Cook Stoemp\", 4, 5, 5, 3, 1, 8, 999)\n",
      "Spud(\"Bold Barman Potato babka\", 3, 7, 10, 2, 4, 1, 999)\n",
      "Spud(\"Diligent Escort Fondant potatoes\", 5, 4, 9, 3, 2, 3, 999)\n",
      "Spud(\"Melodious* Actuary Brændende kærlighed\", 7, 3, 3, 1, 10, 5, 50)\n",
      "Spud(\"Imitative* Real estate investor Bengal potatoes\", 1, 3, 8, 3, 4, 5, 10)\n",
      "Spud(\"Imitative* DJ Okroshka\", 1, 3, 8, 4, 5, 3, 10)\n",
      "Spud(\"Candid Cook Stoemp\", 4, 4, 6, 3, 4, 8, 999)\n",
      "Spud(\"Cowardly* Socialite Tater Tots\", 4, 3, 10, 6, 3, 4, 130)\n",
      "Spud(\"Cowardly* DJ German fries\", 3, 3, 10, 9, 4, 5, 130)\n",
      "Spud(\"Romantic* Actuary Kouign patatez\", 3, 4, 4, 3, 9, 5, 30)\n",
      "Spud(\"Bibliophile* Etymologist Batata vada\", 3, 3, 1, 10, 10, 6, 40)\n",
      "Spud(\"Reciprocating* Sales person Tater Tots\", 3, 5, 10, 5, 2, 2, 20)\n",
      "Spud(\"Imitative* Prison officer Okroshka\", 6, 6, 2, 2, 1, 3, 10)\n",
      "Spud(\"Spiritless Vice president German fries\", 7, 1, 10, 8, 10, 5, 999)\n",
      "Spud(\"Imitative* Cook Fritter roll\", 4, 3, 7, 4, 3, 4, 10)\n",
      "Spud(\"Imitative* DJ Bengal potatoes\", 1, 3, 10, 4, 2, 3, 10)\n",
      "Spud(\"Bibliophile* Stewardess (or Steward) Ragda pattice\", 3, 5, 8, 4, 1, 6, 40)\n",
      "Spud(\"Oblivious Stewardess (or Steward) Pickert\", 3, 5, 10, 2, 2, 7, 999)\n"
     ]
    }
   ],
   "source": [
    "# custom code to check for special spuds\n",
    "verbose = false\n",
    "saved = Array{Spud}(undef, 0)\n",
    "\n",
    "for iii in 1:100\n",
    "    team1 = ai1.genteam()\n",
    "    team2 = ai2.genteam()\n",
    "    game = initialize_game(team1, team2)\n",
    "    while !play_is_game_over(game)\n",
    "        # play a round\n",
    "        choice1 = ai1.pick(game[1])\n",
    "        choice2 = ai2.pick(game[2])\n",
    "        game = play_combat(game, [choice1, choice2], verbose)\n",
    "        if verbose\n",
    "            for i in 1:2\n",
    "                println(game[i].owncount)\n",
    "            end\n",
    "        end\n",
    "        if game[1].round in creation_rounds\n",
    "            for i in 1:2\n",
    "                if i==1\n",
    "                    ops = game[2].obs[game[2].obscount .> 0]\n",
    "                    ebs = [eval_battle_list(ff, ops) for ff in nash_env]\n",
    "                    if maximum(ebs) == length(ops)\n",
    "                        cands = nash_env[ebs .== maximum(ebs)]\n",
    "                        ff = rand(cands)\n",
    "                    else\n",
    "                        lib = sample_library(0.005);\n",
    "                        ebs2 = [eval_battle_list(ff, ops) for ff in lib]\n",
    "                        if maximum(ebs2) > maximum(ebs)\n",
    "                            cands = lib[ebs2 .== maximum(ebs2)]\n",
    "                            ff = rand(cands)\n",
    "                            println(rand_rename(ff))\n",
    "                            append!(saved, [ff])\n",
    "                        else\n",
    "                            cands = nash_env[ebs .== maximum(ebs)]\n",
    "                            ff = rand(cands)\n",
    "                        end\n",
    "                    end\n",
    "                else\n",
    "                    ff = ais[i].create(game[i])\n",
    "                end\n",
    "                game = play_add_spud(game, i, ff, verbose)\n",
    "            end\n",
    "        end\n",
    "    end\n",
    "end"
   ]
  },
  {
   "cell_type": "code",
   "execution_count": 27,
   "id": "8f7fbe57",
   "metadata": {},
   "outputs": [
    {
     "data": {
      "text/plain": [
       "12"
      ]
     },
     "execution_count": 27,
     "metadata": {},
     "output_type": "execute_result"
    }
   ],
   "source": [
    "sum(spuds_to_df(saved).a1 .!= 999)"
   ]
  },
  {
   "cell_type": "code",
   "execution_count": 28,
   "id": "0e1fccb8",
   "metadata": {},
   "outputs": [],
   "source": [
    "#18 out of 100, for (indep) libr frac 0.005\n",
    "#23 out of 100, for (indep) libr frac 0.01\n",
    "\n",
    "#35 out of 100, for libr frac 0.1\n",
    "#[34, 35], 32 out of 100, for libr frac 0.2"
   ]
  },
  {
   "cell_type": "code",
   "execution_count": null,
   "id": "1bcbf24e",
   "metadata": {},
   "outputs": [],
   "source": []
  }
 ],
 "metadata": {
  "kernelspec": {
   "display_name": "Julia 1.9.3",
   "language": "julia",
   "name": "julia-1.9"
  },
  "language_info": {
   "file_extension": ".jl",
   "mimetype": "application/julia",
   "name": "julia",
   "version": "1.9.3"
  }
 },
 "nbformat": 4,
 "nbformat_minor": 5
}

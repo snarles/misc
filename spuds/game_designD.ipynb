{
 "cells": [
  {
   "cell_type": "markdown",
   "id": "052be005",
   "metadata": {},
   "source": [
    "Design of a new game, Spuds"
   ]
  },
  {
   "cell_type": "code",
   "execution_count": null,
   "id": "494818e8",
   "metadata": {},
   "outputs": [],
   "source": [
    "using Random\n",
    "using DataFrames\n",
    "using CSV\n",
    "using DelimitedFiles\n",
    "using Statistics\n",
    "using Printf\n",
    "using LinearAlgebra\n",
    "using Dates"
   ]
  },
  {
   "cell_type": "code",
   "execution_count": null,
   "id": "1e1008a1",
   "metadata": {},
   "outputs": [],
   "source": [
    "struct Spud\n",
    "    name::String\n",
    "    h::Int64\n",
    "    f::Int64\n",
    "    l::Int64\n",
    "    p::Int64\n",
    "    r::Int64\n",
    "    s::Int64\n",
    "end\n",
    "\n",
    "const MXS = 100\n",
    "const MXV = 10\n",
    "const MNV = 1\n",
    "\n",
    "function cost(h::Int64, f::Int64, l::Int64, p::Int64, r::Int64, s::Int64)::Int64\n",
    "    #return h*(f+l-2*MNV) + f*(p+r+s-3*MNV) + h+f+l+p+r+s-6*MNV\n",
    "    return h*(f+l) + f*(p+r+s)\n",
    "end"
   ]
  },
  {
   "cell_type": "code",
   "execution_count": null,
   "id": "ac830f74",
   "metadata": {},
   "outputs": [],
   "source": [
    "function compare_int_list(as::Vector{Int64}, bs::Vector{Int64}, tiebreaker::Int64 = 0)::Int64\n",
    "    n = min(length(as), length(bs))\n",
    "    for i in 1:n\n",
    "        if as[i] != bs[i]\n",
    "            return sign(as[i] - bs[i])\n",
    "        end\n",
    "    end\n",
    "    return tiebreaker\n",
    "end\n",
    "\n",
    "function spud_h_seq(a::Spud)::Vector{Int64}\n",
    "    return [a.h, a.s, a.r, a.p, a.l, a.f]\n",
    "end\n",
    "\n",
    "function spud_f_seq(a::Spud)::Vector{Int64}\n",
    "    return [a.f, a.s, a.r, a.p, a.l, a.h]\n",
    "end\n",
    "\n",
    "function spud_l_seq(a::Spud)::Vector{Int64}\n",
    "    return [a.l]\n",
    "end\n",
    "\n",
    "function spud_p_seq(a::Spud)::Vector{Int64}\n",
    "    return [a.p, a.l]\n",
    "end\n",
    "\n",
    "function spud_r_seq(a::Spud)::Vector{Int64}\n",
    "    return [a.r, a.f]\n",
    "end\n",
    "\n",
    "function spud_s_seq(a::Spud)::Vector{Int64}\n",
    "    return [a.s, a.h]\n",
    "end\n",
    "\n",
    "function eval_finds(a::Spud, b::Spud, tiebreaker::Int64 = 0)::Int64\n",
    "    ev = compare_int_list(spud_f_seq(a), spud_h_seq(b), tiebreaker)\n",
    "    ans = ev\n",
    "end\n",
    "\n",
    "function eval_melee(a::Spud, b::Spud, tiebreaker1::Int64 = 0, tiebreaker2::Int64 = 0)::Int64\n",
    "    comp_p = compare_int_list(spud_p_seq(a), spud_p_seq(b), tiebreaker1)\n",
    "    comp_r = compare_int_list(spud_r_seq(a), spud_r_seq(b), tiebreaker1)\n",
    "    comp_s = compare_int_list(spud_s_seq(a), spud_s_seq(b), tiebreaker1)\n",
    "    ev = 4 * comp_p + 3 * comp_r + 2 * comp_s\n",
    "    return ev + (1-abs(ev))*tiebreaker2\n",
    "end\n",
    "\n",
    "function eval_battle(a::Spud, b::Spud)::Int64\n",
    "    utb = 0 # universal tiebreaker\n",
    "    comp_h = compare_int_list(spud_h_seq(a), spud_h_seq(b), utb)\n",
    "    comp_f = compare_int_list(spud_h_seq(a), spud_h_seq(b), utb)\n",
    "    comp_l = compare_int_list(spud_h_seq(a), spud_h_seq(b), utb)\n",
    "    comp_p = compare_int_list(spud_h_seq(a), spud_h_seq(b), utb)\n",
    "    comp_r = compare_int_list(spud_h_seq(a), spud_h_seq(b), utb)\n",
    "    comp_s = compare_int_list(spud_h_seq(a), spud_h_seq(b), utb)\n",
    "    a_finds = eval_finds(a, b, utb)==1\n",
    "    b_finds = eval_finds(b, a, utb)==1\n",
    "    melee_win = eval_melee(a, b, 0, utb)\n",
    "    if a_finds && b_finds\n",
    "        return compare_int_list([melee_win, a.l, a.h], [-melee_win, b.l, b.h], utb)\n",
    "    end\n",
    "    if a_finds && !b_finds\n",
    "        return 1\n",
    "    end\n",
    "    if !a_finds && b_finds\n",
    "        return -1\n",
    "    end\n",
    "    if !a_finds && !b_finds\n",
    "        return compare_int_list([a.l, melee_win, a.f], [b.l, -melee_win, b.f], utb)\n",
    "    end\n",
    "end"
   ]
  },
  {
   "cell_type": "code",
   "execution_count": null,
   "id": "40b9dc47",
   "metadata": {},
   "outputs": [],
   "source": [
    "tab = CSV.read(\"census_yob2022_names.txt\", DataFrame, header = false)\n",
    "names = tab.Column1\n",
    "adjectives = CSV.read(\"adjectives.csv\", DataFrame)\n",
    "nouns = CSV.read(\"nouns.csv\", DataFrame)\n",
    "jobs = CSV.read(\"jobs.csv\", DataFrame)\n",
    "\n",
    "const mult_noun = 1\n",
    "const mult_adj = 2\n",
    "const mult_job = 3\n",
    "\n",
    "\n",
    "function random_name_and_stat()::Spud\n",
    "    vp = [0, 0, 0, 0, 0, 0]\n",
    "    #nametype = rand([1,1,1,1,1,2,2,2,3])\n",
    "    name = \"\"\n",
    "    noun = \"\"\n",
    "    adj = \"\"\n",
    "    noun_i = rand(1:nrow(nouns))\n",
    "    noun = nouns[noun_i, :noun]\n",
    "    vp[1] = vp[1] + nouns[noun_i, :H] * mult_noun\n",
    "    vp[2] = vp[2] + nouns[noun_i, :F] * mult_noun\n",
    "    vp[3] = vp[3] + nouns[noun_i, :L] * mult_noun\n",
    "    vp[4] = vp[4] + nouns[noun_i, :P] * mult_noun\n",
    "    vp[5] = vp[5] + nouns[noun_i, :R] * mult_noun\n",
    "    vp[6] = vp[6] + nouns[noun_i, :S] * mult_noun\n",
    "    adj_i = rand(1:nrow(adjectives))\n",
    "    adj = adjectives[adj_i, :adjective]\n",
    "    vp[1] = vp[1] + adjectives[adj_i, :H] * mult_adj\n",
    "    vp[2] = vp[2] + adjectives[adj_i, :F] * mult_adj\n",
    "    vp[3] = vp[3] + adjectives[adj_i, :L] * mult_adj\n",
    "    vp[4] = vp[4] + adjectives[adj_i, :P] * mult_adj\n",
    "    vp[5] = vp[5] + adjectives[adj_i, :R] * mult_adj\n",
    "    vp[6] = vp[6] + adjectives[adj_i, :S] * mult_adj\n",
    "    job_i = rand(1:nrow(jobs))\n",
    "    job = jobs[job_i, :job]\n",
    "    vp[1] = vp[1] + jobs[job_i, :H] * mult_job\n",
    "    vp[2] = vp[2] + jobs[job_i, :F] * mult_job\n",
    "    vp[3] = vp[3] + jobs[job_i, :L] * mult_job\n",
    "    vp[4] = vp[4] + jobs[job_i, :P] * mult_job\n",
    "    vp[5] = vp[5] + jobs[job_i, :R] * mult_job\n",
    "    vp[6] = vp[6] + jobs[job_i, :S] * mult_job\n",
    "    name = string(adj, \" \", job, \" \", noun)\n",
    "    Spud(name, vp[1], vp[2], vp[3], vp[4], vp[5], vp[6])\n",
    "end"
   ]
  },
  {
   "cell_type": "code",
   "execution_count": null,
   "id": "f606e085",
   "metadata": {},
   "outputs": [],
   "source": [
    "function rand_rename(a::Spud, n_tries::Int = 100)::Spud\n",
    "    best_score = 0.0\n",
    "    best_b = random_name_and_stat()\n",
    "    for ii in 1:n_tries\n",
    "        b = random_name_and_stat()\n",
    "        b_norm = sqrt(b.h^2 + b.f^2 + b.l^2 + b.p^2 + b.r^2 + b.s^2)\n",
    "        score = (a.h * b.h + a.f * b.f + a.l * b.l + a.p * b.p + a.r * b.r + a.s * b.s)/b_norm\n",
    "        if score > best_score\n",
    "            best_score = score\n",
    "            best_b = b\n",
    "        end\n",
    "    end\n",
    "    return Spud(best_b.name, a.h, a.f, a.l, a.p, a.r, a.s)\n",
    "end"
   ]
  },
  {
   "cell_type": "code",
   "execution_count": null,
   "id": "560e9539",
   "metadata": {},
   "outputs": [],
   "source": [
    "function eval_battle_list(a::Spud, bs::Array{Spud})::Int\n",
    "    score = 0\n",
    "    for ii in 1:length(bs)\n",
    "        score = score + eval_battle(a, bs[ii])\n",
    "    end\n",
    "    return score\n",
    "end\n",
    "\n",
    "function eval_battle_list2(a::Spud, bs::Array{Spud}, w::Vector{Float64})::AbstractFloat\n",
    "    score = 0.0\n",
    "    for ii in 1:length(bs)\n",
    "        score = score + w[ii] * eval_battle(a, bs[ii])\n",
    "    end\n",
    "    return score\n",
    "end\n",
    "\n",
    "\n",
    "function pick_best(as::Array{Spud}, bs::Array{Spud})::Spud\n",
    "    bestscore = -999\n",
    "    bestf = as[1]\n",
    "    for ii in 1:length(as)\n",
    "        score = eval_battle_list(as[ii], bs)\n",
    "        if score > bestscore\n",
    "            bestscore = score\n",
    "            bestf = as[ii]\n",
    "        end\n",
    "    end\n",
    "    return bestf\n",
    "end\n",
    "\n",
    "function pick_best_rdmly(as::Array{Spud}, bs::Array{Spud}, ntries::Int)::Spud\n",
    "    bestscore = -999\n",
    "    bestf = rand(as)\n",
    "    for ii in 1:ntries\n",
    "        f = rand(as)\n",
    "        score = eval_battle_list(f, bs)\n",
    "        if score > bestscore\n",
    "            bestscore = score\n",
    "            bestf = f\n",
    "        end\n",
    "    end\n",
    "    return bestf\n",
    "end\n",
    "\n",
    "function pick_best_rdmly_g(g::Function, bs::Array{Spud}, ntries::Int)::Spud\n",
    "    bestscore = -999\n",
    "    bestf = g()\n",
    "    for ii in 1:ntries\n",
    "        f = g()\n",
    "        score = eval_battle_list(f, bs)\n",
    "        if score > bestscore\n",
    "            bestscore = score\n",
    "            bestf = f\n",
    "        end\n",
    "    end\n",
    "    return bestf\n",
    "end\n",
    "\n",
    "function spuds_to_df(as::Array{Spud})::DataFrame\n",
    "    names = Array{String}(undef, length(as))\n",
    "    hs = Array{Int}(undef, length(as))\n",
    "    fs = Array{Int}(undef, length(as))\n",
    "    ls = Array{Int}(undef, length(as))\n",
    "    ps = Array{Int}(undef, length(as))\n",
    "    rs = Array{Int}(undef, length(as))\n",
    "    ss = Array{Int}(undef, length(as))\n",
    "    for ii in 1:length(as)\n",
    "        names[ii] = as[ii].name\n",
    "        hs[ii] = as[ii].h\n",
    "        fs[ii] = as[ii].f\n",
    "        ls[ii] = as[ii].l\n",
    "        ps[ii] = as[ii].p\n",
    "        rs[ii] = as[ii].r\n",
    "        ss[ii] = as[ii].s\n",
    "    end\n",
    "    df = DataFrame(name = names, h = hs, f = fs, l = ls, p = ps, r = rs, s = ss)\n",
    "    return df\n",
    "end\n",
    "\n",
    "function fpart(x::AbstractFloat)::AbstractFloat\n",
    "  return x - trunc(x)\n",
    "end\n",
    "\n",
    "function eval_team_battle(as::Array{Spud}, bs::Array{Spud})::Int\n",
    "    a_i = 1\n",
    "    b_i = 1\n",
    "    while (a_i <= length(as)) && (b_i <= length(bs))\n",
    "        res = eval_battle(as[a_i], bs[b_i])\n",
    "        if res == 1\n",
    "            b_i = b_i + 1\n",
    "        else\n",
    "            a_i = a_i + 1\n",
    "            if res == 0\n",
    "                b_i = b_i + 1\n",
    "            end\n",
    "        end\n",
    "    end\n",
    "    a_out = (a_i > length(as))\n",
    "    b_out = (b_i > length(as))\n",
    "    if a_out\n",
    "        if b_out\n",
    "            return 0\n",
    "        else\n",
    "            return -1\n",
    "        end\n",
    "    else\n",
    "        return 1\n",
    "    end\n",
    "end\n",
    "\n",
    "function compare_generator(f1, f2, limit)\n",
    "    a_i = 1\n",
    "    b_i = 1\n",
    "    f_a = f1()\n",
    "    f_b = f2()\n",
    "    while (a_i < limit) && (b_i < limit)\n",
    "        res = eval_battle(f_a, f_b)\n",
    "        if res != -1\n",
    "            b_i = b_i + 1\n",
    "            f_b = f2()\n",
    "        end\n",
    "        if res != 1\n",
    "            a_i = a_i + 1\n",
    "            f_a = f1()\n",
    "        end\n",
    "    end\n",
    "    return (a_i/limit, b_i/limit)\n",
    "end\n",
    "\n",
    "function random_team(f::Function, team_size::Int)::Array{Spud}\n",
    "    team = Array{Spud}(undef, team_size)\n",
    "    for i in 1:team_size\n",
    "        team[i] = f()\n",
    "    end\n",
    "    return team\n",
    "end\n",
    "\n",
    "function df_to_spuds(df::DataFrame)::Array{Spud}\n",
    "    n = size(df)[1]\n",
    "    as = Array{Spud}(undef, n)\n",
    "    for i in 1:n\n",
    "        as[i] = Spud(df[i, :name], df[i, :h], df[i, :f], df[i, :l], df[i, :p], df[i, :r], df[i, :s])\n",
    "    end\n",
    "    return as\n",
    "end\n",
    "\n",
    "function cost(a::Spud)::Int64\n",
    "    return cost(a.h, a.f, a.l, a.p, a.r, a.s)\n",
    "end"
   ]
  },
  {
   "cell_type": "code",
   "execution_count": null,
   "id": "bd2b243d",
   "metadata": {},
   "outputs": [],
   "source": [
    "function upgrade_spud(sp::Spud)::Spud\n",
    "    h = sp.h\n",
    "    f = sp.f\n",
    "    l = sp.l\n",
    "    p = sp.p\n",
    "    r = sp.r\n",
    "    s = sp.s    \n",
    "    check_h = (h == MXV) || (cost(h+1,f,l,p,r,s) > MXS)\n",
    "    check_f = (f == MXV) || (cost(h,f+1,l,p,r,s) > MXS)\n",
    "    check_l = (l == MXV) || (cost(h,f,l+1,p,r,s) > MXS)\n",
    "    check_prs = (p+r+s == 3*MXV) || (cost(h,f,l,p+1,r,s) > MXS)\n",
    "    while !(check_h && check_f && check_l && check_prs)\n",
    "        rand_i = rand(1:4)\n",
    "        if rand_i == 1 && !check_h\n",
    "            h = h+1\n",
    "        end\n",
    "        if rand_i == 2 && !check_f\n",
    "            f = f+1\n",
    "        end\n",
    "        if rand_i == 3 && !check_l\n",
    "            l = l+1\n",
    "        end\n",
    "        if rand_i == 4 && !check_prs\n",
    "            rand_j = rand([1,1,1,1,1,2,2,2,2,3,3,3])\n",
    "            if rand_j == 1 && p <= MXV\n",
    "                p += 1\n",
    "            end\n",
    "            if rand_j == 2 && r <= MXV\n",
    "                r += 1\n",
    "            end\n",
    "            if rand_j == 3 && s <= MXV\n",
    "                s += 1\n",
    "            end\n",
    "        end            \n",
    "        check_h = (h == MXV) || (cost(h+1,f,l,p,r,s) > MXS)\n",
    "        check_f = (f == MXV) || (cost(h,f+1,l,p,r,s) > MXS)\n",
    "        check_l = (l == MXV) || (cost(h,f,l+1,p,r,s) > MXS)\n",
    "        check_prs = (p+r+s == 3*MXV) || (cost(h,f,l,p+1,r,s) > MXS)\n",
    "    end\n",
    "    return Spud(sp.name, h, f, l, p, r, s)\n",
    "end\n",
    "\n",
    "\n",
    "\n",
    "function pick_best_library(bs::Array{Spud})::Spud\n",
    "    bestscore = -999\n",
    "    bestf = Spud(\"\",MNV,MNV,MNV,MNV,MNV,MNV)\n",
    "    df = spuds_to_df(bs)\n",
    "    hrange = vcat([MNV], df.h, df.h .+ 1, df.f, df.f .+ 1)\n",
    "    frange = vcat([MNV], df.f, df.f .+ 1, df.h, df.h .+ 1)\n",
    "    lrange = vcat([MNV], df.l, df.l .+ 1)\n",
    "    prange = vcat([MNV], df.p, df.p .+ 1)\n",
    "    rrange = vcat([MNV], df.r, df.r .+ 1)\n",
    "    srange = vcat([MNV], df.s, df.s .+ 1)\n",
    "    hrange = sort(unique(hrange))\n",
    "    frange = sort(unique(frange))\n",
    "    lrange = sort(unique(lrange))\n",
    "    prange = sort(unique(prange))\n",
    "    rrange = sort(unique(rrange))\n",
    "    srange = sort(unique(srange))\n",
    "    hrange = hrange[hrange .<= MXV]\n",
    "    frange = frange[frange .<= MXV]\n",
    "    lrange = lrange[lrange .<= MXV]\n",
    "    prange = prange[prange .<= MXV]\n",
    "    rrange = rrange[rrange .<= MXV]\n",
    "    srange = srange[srange .<= MXV]\n",
    "    for h in hrange\n",
    "        if (cost(h, MNV, MNV, MNV, MNV, MNV) <= MXS)\n",
    "            for f in frange\n",
    "                if (cost(h, f, MNV, MNV, MNV, MNV) <= MXS)\n",
    "                    for l in lrange\n",
    "                        if (cost(h, f, l, MNV, MNV, MNV) <= MXS)\n",
    "                            for p in prange\n",
    "                                if (cost(h, f, l, p, MNV, MNV) <= MXS)\n",
    "                                    for r in rrange\n",
    "                                        if (cost(h, f, l, p, r, MNV) <= MXS)\n",
    "                                            for s in srange\n",
    "                                                if (cost(h,f,l,p,r,s) <= MXS)\n",
    "                                                    ff = Spud(\"\",h,f,l,p,r,s)\n",
    "                                                    score = eval_battle_list(ff, bs)\n",
    "                                                    if score > bestscore\n",
    "                                                        bestscore = score\n",
    "                                                        bestf = ff\n",
    "                                                    end\n",
    "                                                end\n",
    "                                            end\n",
    "                                        end\n",
    "                                    end                        \n",
    "                                end\n",
    "                            end                        \n",
    "                        end\n",
    "                    end\n",
    "                end\n",
    "            end\n",
    "        end\n",
    "    end\n",
    "    return upgrade_spud(bestf)\n",
    "end\n",
    "\n"
   ]
  },
  {
   "cell_type": "code",
   "execution_count": null,
   "id": "2d640dee",
   "metadata": {},
   "outputs": [],
   "source": [
    "function pick_ok_counter(bs::Array{Spud})::Spud\n",
    "    bestscore = -999\n",
    "    bestf = Spud(\"\",MNV,MNV,MNV,MNV,MNV,MNV)\n",
    "    df = spuds_to_df(bs)\n",
    "    hrange = vcat([MNV], df.f .+ 1)\n",
    "    frange = vcat([MNV], df.h .+ 1)\n",
    "    lrange = vcat([MNV], df.l .+ 1)\n",
    "    prange = vcat([MNV], df.p .+ 1)\n",
    "    rrange = vcat([MNV], df.r .+ 1)\n",
    "    srange = vcat([MNV], df.s .+ 1)\n",
    "    hrange = sort(unique(hrange))\n",
    "    frange = sort(unique(frange))\n",
    "    lrange = sort(unique(lrange))\n",
    "    prange = sort(unique(prange))\n",
    "    rrange = sort(unique(rrange))\n",
    "    srange = sort(unique(srange))\n",
    "    hrange = hrange[hrange .<= MXV]\n",
    "    frange = frange[frange .<= MXV]\n",
    "    lrange = lrange[lrange .<= MXV]\n",
    "    prange = prange[prange .<= MXV]\n",
    "    rrange = rrange[rrange .<= MXV]\n",
    "    srange = srange[srange .<= MXV]\n",
    "    for h in hrange\n",
    "        if (cost(h, MNV, MNV, MNV, MNV, MNV) <= MXS)\n",
    "            for f in frange\n",
    "                if (cost(h, f, MNV, MNV, MNV, MNV) <= MXS)\n",
    "                    for l in lrange\n",
    "                        if (cost(h, f, l, MNV, MNV, MNV) <= MXS)\n",
    "                            for p in prange\n",
    "                                if (cost(h, f, l, p, MNV, MNV) <= MXS)\n",
    "                                    for r in rrange\n",
    "                                        if (cost(h, f, l, p, r, MNV) <= MXS)\n",
    "                                            for s in srange\n",
    "                                                if (cost(h,f,l,p,r,s) <= MXS)\n",
    "                                                    ff = Spud(\"\",h,f,l,p,r,s)\n",
    "                                                    score = eval_battle_list(ff, bs)\n",
    "                                                    if score > bestscore\n",
    "                                                        bestscore = score\n",
    "                                                        bestf = ff\n",
    "                                                    end\n",
    "                                                end\n",
    "                                            end\n",
    "                                        end\n",
    "                                    end                        \n",
    "                                end\n",
    "                            end                        \n",
    "                        end\n",
    "                    end\n",
    "                end\n",
    "            end\n",
    "        end\n",
    "    end\n",
    "    return upgrade_spud(bestf)\n",
    "end\n"
   ]
  },
  {
   "cell_type": "code",
   "execution_count": null,
   "id": "7b4f703b",
   "metadata": {},
   "outputs": [],
   "source": [
    "function pick_best_library2(bs::Array{Spud}, w::Vector{Float64})::Spud\n",
    "    bestscore = -999.9\n",
    "    bestf = Spud(\"\",MNV,MNV,MNV,MNV,MNV,MNV)\n",
    "    df = spuds_to_df(bs)\n",
    "    hrange = vcat([MNV], df.h, df.h .+ 1, df.f, df.f .+ 1)\n",
    "    frange = vcat([MNV], df.f, df.f .+ 1, df.h, df.h .+ 1)\n",
    "    lrange = vcat([MNV], df.l, df.l .+ 1)\n",
    "    prange = vcat([MNV], df.p, df.p .+ 1)\n",
    "    rrange = vcat([MNV], df.r, df.r .+ 1)\n",
    "    srange = vcat([MNV], df.s, df.s .+ 1)\n",
    "    hrange = sort(unique(hrange))\n",
    "    frange = sort(unique(frange))\n",
    "    lrange = sort(unique(lrange))\n",
    "    prange = sort(unique(prange))\n",
    "    rrange = sort(unique(rrange))\n",
    "    srange = sort(unique(srange))\n",
    "    hrange = hrange[hrange .<= MXV]\n",
    "    frange = frange[frange .<= MXV]\n",
    "    lrange = lrange[lrange .<= MXV]\n",
    "    prange = prange[prange .<= MXV]\n",
    "    rrange = rrange[rrange .<= MXV]\n",
    "    srange = srange[srange .<= MXV]\n",
    "    for h in hrange\n",
    "        if (cost(h, MNV, MNV, MNV, MNV, MNV) <= MXS)\n",
    "            for f in frange\n",
    "                if (cost(h, f, MNV, MNV, MNV, MNV) <= MXS)\n",
    "                    for l in lrange\n",
    "                        if (cost(h, f, l, MNV, MNV, MNV) <= MXS)\n",
    "                            for p in prange\n",
    "                                if (cost(h, f, l, p, MNV, MNV) <= MXS)\n",
    "                                    for r in rrange\n",
    "                                        if (cost(h, f, l, p, r, MNV) <= MXS)\n",
    "                                            for s in srange\n",
    "                                                if (cost(h,f,l,p,r,s) <= MXS)\n",
    "                                                    ff = Spud(\"\",h,f,l,p,r,s)\n",
    "                                                    score = eval_battle_list2(ff, bs, w) + 0.00001 * rand()\n",
    "                                                    if score > bestscore\n",
    "                                                        bestscore = score\n",
    "                                                        bestf = ff\n",
    "                                                    end\n",
    "                                                end\n",
    "                                            end\n",
    "                                        end\n",
    "                                    end                        \n",
    "                                end\n",
    "                            end                        \n",
    "                        end\n",
    "                    end\n",
    "                end\n",
    "            end\n",
    "        end\n",
    "    end\n",
    "    return upgrade_spud(bestf)\n",
    "end"
   ]
  },
  {
   "cell_type": "code",
   "execution_count": null,
   "id": "79126a50",
   "metadata": {},
   "outputs": [],
   "source": [
    "function subset_library(bs::Array{Spud}, n_hits::Int, w::Vector{Float64}, thres::Float64)::Array{Spud}\n",
    "    bestf = Array{Spud}(undef, n_hits)\n",
    "    evs = [-9.9 for i in 1:n_hits]\n",
    "    spud_i = 1\n",
    "    prev_spud_i = spud_i\n",
    "    df = spuds_to_df(bs)\n",
    "    best_score = 0.0\n",
    "    hrange = vcat([MNV], df.h, df.h .+ 1, df.f, df.f .+ 1)\n",
    "    frange = vcat([MNV], df.f, df.f .+ 1, df.h, df.h .+ 1)\n",
    "    lrange = vcat([MNV], df.l, df.l .+ 1)\n",
    "    prange = vcat([MNV], df.p, df.p .+ 1)\n",
    "    rrange = vcat([MNV], df.r, df.r .+ 1)\n",
    "    srange = vcat([MNV], df.s, df.s .+ 1)\n",
    "    hrange = sort(unique(hrange))\n",
    "    frange = sort(unique(frange))\n",
    "    lrange = sort(unique(lrange))\n",
    "    prange = sort(unique(prange))\n",
    "    rrange = sort(unique(rrange))\n",
    "    srange = sort(unique(srange))\n",
    "    hrange = hrange[hrange .<= MXV]\n",
    "    frange = frange[frange .<= MXV]\n",
    "    lrange = lrange[lrange .<= MXV]\n",
    "    prange = prange[prange .<= MXV]\n",
    "    rrange = rrange[rrange .<= MXV]\n",
    "    srange = srange[srange .<= MXV]\n",
    "    overflow = 0\n",
    "    for h in hrange\n",
    "        if (cost(h, MNV, MNV, MNV, MNV, MNV) <= MXS)\n",
    "            for f in frange\n",
    "                if (cost(h, f, MNV, MNV, MNV, MNV) <= MXS)\n",
    "                    for l in lrange\n",
    "                        if (cost(h, f, l, MNV, MNV, MNV) <= MXS)\n",
    "                            for p in prange\n",
    "                                if (cost(h, f, l, p, MNV, MNV) <= MXS)\n",
    "                                    for r in rrange\n",
    "                                        if (cost(h, f, l, p, r, MNV) <= MXS)\n",
    "                                            for s in srange\n",
    "                                                if (cost(h,f,l,p,r,s) <= MXS)\n",
    "                                                    ff = Spud(\"\",h,f,l,p,r,s)\n",
    "                                                    score = eval_battle_list2(ff, bs, w)\n",
    "                                                    if score > best_score\n",
    "                                                        best_score = score\n",
    "                                                    end\n",
    "                                                    if score >= (best_score - thres)\n",
    "                                                        # find the first spud_i with ev less than best_score - thres\n",
    "                                                        if spud_i > n_hits\n",
    "                                                            spud_i = 1\n",
    "                                                            overflow = 1\n",
    "                                                        end\n",
    "                                                        ntries = 0\n",
    "                                                        while (evs[spud_i] >= best_score - thres)\n",
    "                                                            spud_i += 1\n",
    "                                                            ntries += 1\n",
    "                                                            if spud_i > n_hits\n",
    "                                                                spud_i = 1\n",
    "                                                                overflow = 1\n",
    "                                                            end\n",
    "                                                            if ntries > n_hits\n",
    "                                                                println(\"Full buffer\")\n",
    "                                                                #println(best_score)\n",
    "                                                                #println(thres)\n",
    "                                                                #println(evs)\n",
    "                                                                if overflow==1\n",
    "                                                                    return unique(bestf[evs .>= best_score - thres])\n",
    "                                                                else\n",
    "                                                                    bestf = bestf[1:prev_spud_i]\n",
    "                                                                    evs = evs[1:prev_spud_i]\n",
    "                                                                    return unique(bestf[evs .>= best_score - thres])\n",
    "                                                                end\n",
    "                                                            end\n",
    "                                                        end\n",
    "                                                        bestf[spud_i] = upgrade_spud(ff)\n",
    "                                                        evs[spud_i] = score\n",
    "                                                        prev_spud_i = spud_i\n",
    "                                                        spud_i += 1\n",
    "                                                    end\n",
    "                                                end\n",
    "                                            end\n",
    "                                        end\n",
    "                                    end                        \n",
    "                                end\n",
    "                            end                        \n",
    "                        end\n",
    "                    end\n",
    "                end\n",
    "            end\n",
    "        end\n",
    "    end\n",
    "    #println(best_score)\n",
    "    if overflow==1\n",
    "        return unique(bestf[evs .>= best_score - thres])\n",
    "    else\n",
    "        bestf = bestf[1:prev_spud_i]\n",
    "        evs = evs[1:prev_spud_i]\n",
    "        return unique(bestf[evs .>= best_score - thres])\n",
    "    end\n",
    "end"
   ]
  },
  {
   "cell_type": "markdown",
   "id": "261e21eb",
   "metadata": {},
   "source": [
    "## Form library randomly"
   ]
  },
  {
   "cell_type": "code",
   "execution_count": null,
   "id": "8534b5bb",
   "metadata": {},
   "outputs": [],
   "source": [
    "# form initial library by subsampling indices\n",
    "library = Array{Spud}(undef, 10000)\n",
    "spud_i = 0\n",
    "ss_prob = 0.7"
   ]
  },
  {
   "cell_type": "code",
   "execution_count": null,
   "id": "3febb950",
   "metadata": {},
   "outputs": [],
   "source": [
    "\n",
    "hrange = MNV:MXV\n",
    "frange = MNV:MXV\n",
    "lrange = MNV:MXV\n",
    "prange = MNV:MXV\n",
    "rrange = MNV:MXV\n",
    "srange = MNV:MXV\n",
    "\n",
    "for h in hrange\n",
    "    if (cost(h, MXV, MXV, MXV, MXV, MXV) >= MXS) && (cost(h, MNV, MNV, MNV, MNV, MNV) <= MXS)\n",
    "        for f in frange\n",
    "            if (cost(h, f, MXV, MXV, MXV, MXV) >= MXS) && (cost(h, f, MNV, MNV, MNV, MNV) <= MXS)\n",
    "                for l in lrange\n",
    "                    if (cost(h, f, l, MXV, MXV, MXV) >= MXS) && (cost(h, f, l, MNV, MNV, MNV) <= MXS)\n",
    "                        for p in prange\n",
    "                            if (cost(h, f, l, p, MXV, MXV) >= MXS) && (cost(h, f, l, p, MNV, MNV) <= MXS)\n",
    "                                for r in rrange\n",
    "                                    if (cost(h, f, l, p, r, MXV) >= MXS) && (cost(h, f, l, p, r, MNV) <= MXS)\n",
    "                                        for s in srange\n",
    "                                            if rand() < ss_prob && (cost(h,f,l,p,r,s) <= MXS)\n",
    "                                                check_f = (h == MXV) || (cost(h+1,f,l,p,r,s) > MXS)\n",
    "                                                check_h = (f == MXV) || (cost(h,f+1,l,p,r,s) > MXS)\n",
    "                                                check_l = (l == MXV) || (cost(h,f,l+1,p,r,s) > MXS)\n",
    "                                                check_prs = (p+r+s == 3*MXV) || (cost(h,f,l,p+1,r,s) > MXS)\n",
    "                                                if check_h && check_f && check_l && check_prs\n",
    "                                                    spud_i += 1\n",
    "                                                    #randname = rand_rename(Spud(\" \",h,f,l,p,r,s)).name\n",
    "                                                    #name = string(\"#\", @sprintf(\"%i\", spud_i), \". \", randname)\n",
    "                                                    name = \"\"\n",
    "                                                    library[spud_i] = Spud(name,h,f,l,p,r,s)\n",
    "                                                end\n",
    "                                            end\n",
    "                                        end\n",
    "                                    end\n",
    "                                end                        \n",
    "                            end\n",
    "                        end                        \n",
    "                    end\n",
    "                end\n",
    "            end\n",
    "        end\n",
    "    end\n",
    "end\n"
   ]
  },
  {
   "cell_type": "code",
   "execution_count": null,
   "id": "9bbe4ff4",
   "metadata": {},
   "outputs": [],
   "source": [
    "library = unique(library[1:spud_i])\n",
    "n_spuds = length(library)"
   ]
  },
  {
   "cell_type": "code",
   "execution_count": null,
   "id": "2a078723",
   "metadata": {},
   "outputs": [],
   "source": [
    "# for i in 1:n_spuds\n",
    "#     ff = library[i]\n",
    "#     randname = rand_rename(ff).name\n",
    "#     name = string(\"#\", @sprintf(\"%i\", i), \". \", randname)\n",
    "#     library[i] = Spud(name,ff.h,ff.f,ff.l,ff.p,ff.r,ff.s)\n",
    "# end\n",
    "# id_no = Dict(library[i] => i for i in 1:n_spuds)"
   ]
  },
  {
   "cell_type": "code",
   "execution_count": null,
   "id": "52daa014",
   "metadata": {},
   "outputs": [],
   "source": [
    "# Check that there are no ties in spudland\n",
    "for iter in 1:10000\n",
    "    i = rand(1:n_spuds)\n",
    "    j = rand(1:n_spuds)\n",
    "    if i != j && eval_battle(library[i], library[j]) == 0\n",
    "        println(library[i])\n",
    "        println(library[j])\n",
    "        println()\n",
    "    end\n",
    "end"
   ]
  },
  {
   "cell_type": "markdown",
   "id": "4873490e",
   "metadata": {},
   "source": [
    "## Compute Nash env"
   ]
  },
  {
   "cell_type": "code",
   "execution_count": null,
   "id": "010f3c57",
   "metadata": {},
   "outputs": [],
   "source": [
    "function ffp(nash_env, nits)\n",
    "    n_nash = length(nash_env)\n",
    "    i_lose = Array{Int}(undef, (n_nash, n_nash))\n",
    "    n_lose = Array{Int}(undef, n_nash)\n",
    "    for i in 1:n_nash\n",
    "        n_lose[i] = 0\n",
    "        ff = nash_env[i]\n",
    "        for j in 1:n_nash\n",
    "            if eval_battle(ff, nash_env[j]) ==-1\n",
    "                n_lose[i] += 1\n",
    "                i_lose[i, n_lose[i]] = j\n",
    "            end\n",
    "        end\n",
    "    end\n",
    "    counts = [0 for i in 1:n_nash]\n",
    "    wins = [0 for i in 1:n_nash]\n",
    "    for i in 1:n_nash\n",
    "        counts[i] += 1\n",
    "        for j in 1:n_lose[i]\n",
    "            i_w = i_lose[i, j]\n",
    "            wins[i_w]+= 1\n",
    "        end\n",
    "    end\n",
    "    for iter in 1:nits\n",
    "        wc = 2 .* wins .+ counts\n",
    "        ind_winners = findall(wc .== maximum(wc))\n",
    "        i = rand(ind_winners)\n",
    "        counts[i] += 1\n",
    "        for j in 1:n_lose[i]\n",
    "            i_w = i_lose[i, j]\n",
    "            wins[i_w]+= 1\n",
    "        end\n",
    "    end\n",
    "    return counts\n",
    "end\n"
   ]
  },
  {
   "cell_type": "code",
   "execution_count": null,
   "id": "4021dd90",
   "metadata": {},
   "outputs": [],
   "source": [
    "nash_env = [rand_rename(s) for s in library]\n",
    "spuds_to_df(nash_env)"
   ]
  },
  {
   "cell_type": "code",
   "execution_count": null,
   "id": "0e75ca0c",
   "metadata": {},
   "outputs": [],
   "source": [
    "@time counts = ffp(nash_env, 1000);"
   ]
  },
  {
   "cell_type": "code",
   "execution_count": null,
   "id": "624b1960",
   "metadata": {},
   "outputs": [],
   "source": [
    "@time counts = ffp(nash_env, 10000);"
   ]
  },
  {
   "cell_type": "code",
   "execution_count": null,
   "id": "04414a09",
   "metadata": {},
   "outputs": [],
   "source": [
    "spuds_to_df(nash_env[counts .> 10])"
   ]
  },
  {
   "cell_type": "markdown",
   "id": "8dba7dcc",
   "metadata": {},
   "source": [
    "### Loop this"
   ]
  },
  {
   "cell_type": "code",
   "execution_count": null,
   "id": "e0bc4a54",
   "metadata": {},
   "outputs": [],
   "source": [
    "counts = ffp(nash_env, 100)"
   ]
  },
  {
   "cell_type": "code",
   "execution_count": null,
   "id": "c9abb9e9",
   "metadata": {},
   "outputs": [],
   "source": [
    "#counts = ffp(nash_env, 10000)"
   ]
  },
  {
   "cell_type": "code",
   "execution_count": null,
   "id": "dda23034",
   "metadata": {},
   "outputs": [],
   "source": [
    "spuds_to_df(nash_env)"
   ]
  },
  {
   "cell_type": "code",
   "execution_count": null,
   "id": "b40c9c71",
   "metadata": {},
   "outputs": [],
   "source": [
    "# # don't run this every iteration!!\n",
    "# nash_env = nash_env[counts .> 10]\n",
    "# counts = ffp(nash_env, 10000)"
   ]
  },
  {
   "cell_type": "code",
   "execution_count": null,
   "id": "7522c5a1",
   "metadata": {},
   "outputs": [],
   "source": [
    "ff = rand_rename(pick_best_library2(nash_env, counts./sum(counts)))"
   ]
  },
  {
   "cell_type": "code",
   "execution_count": null,
   "id": "36d7d97a",
   "metadata": {},
   "outputs": [],
   "source": [
    "ev = eval_battle_list2(ff, nash_env, counts./sum(counts))"
   ]
  },
  {
   "cell_type": "code",
   "execution_count": null,
   "id": "7c3b3749",
   "metadata": {},
   "outputs": [],
   "source": [
    "bestf = subset_library(nash_env, 500, counts./sum(counts), ev-0.05)"
   ]
  },
  {
   "cell_type": "code",
   "execution_count": null,
   "id": "d6029104",
   "metadata": {},
   "outputs": [],
   "source": [
    "cc = ffp(bestf, 10000)\n",
    "println(maximum(cc))\n",
    "ff2 = rand_rename(bestf[cc .== maximum(cc)][1])"
   ]
  },
  {
   "cell_type": "code",
   "execution_count": null,
   "id": "d7f6f1f6",
   "metadata": {},
   "outputs": [],
   "source": [
    "eval_battle_list2(ff2, nash_env, counts./sum(counts))"
   ]
  },
  {
   "cell_type": "code",
   "execution_count": null,
   "id": "6273fbba",
   "metadata": {},
   "outputs": [],
   "source": [
    "append!(nash_env, [ff2])\n",
    "spuds_to_df(nash_env)"
   ]
  },
  {
   "cell_type": "markdown",
   "id": "6c06f6a4",
   "metadata": {},
   "source": [
    "### loop"
   ]
  },
  {
   "cell_type": "code",
   "execution_count": null,
   "id": "7ef074ce",
   "metadata": {},
   "outputs": [],
   "source": [
    "counts = ffp(nash_env, 100000)\n",
    "println(maximum([eval_battle_list2(ff, nash_env, counts./sum(counts)) for ff in nash_env]))\n",
    "ff = rand_rename(pick_best_library2(nash_env, counts./sum(counts)))\n",
    "ev = eval_battle_list2(ff, nash_env, counts./sum(counts))\n",
    "println(ev)"
   ]
  },
  {
   "cell_type": "code",
   "execution_count": null,
   "id": "11ee17bf",
   "metadata": {},
   "outputs": [],
   "source": [
    "bestf = subset_library(nash_env, 900, counts./sum(counts), ev-0.05)"
   ]
  },
  {
   "cell_type": "code",
   "execution_count": null,
   "id": "14a90410",
   "metadata": {},
   "outputs": [],
   "source": [
    "ff"
   ]
  },
  {
   "cell_type": "code",
   "execution_count": null,
   "id": "dccc6018",
   "metadata": {},
   "outputs": [],
   "source": [
    "ff = rand_rename(pick_best_library2(nash_env, counts./sum(counts)))\n",
    "ff"
   ]
  },
  {
   "cell_type": "code",
   "execution_count": null,
   "id": "6c1fb941",
   "metadata": {},
   "outputs": [],
   "source": [
    "eval_battle_list2(ff, nash_env, counts./sum(counts))"
   ]
  },
  {
   "cell_type": "code",
   "execution_count": null,
   "id": "9d3f7c62",
   "metadata": {},
   "outputs": [],
   "source": [
    "ev"
   ]
  },
  {
   "cell_type": "code",
   "execution_count": null,
   "id": "9434f3a1",
   "metadata": {},
   "outputs": [],
   "source": [
    "ev"
   ]
  },
  {
   "cell_type": "code",
   "execution_count": null,
   "id": "c247ec4b",
   "metadata": {},
   "outputs": [],
   "source": [
    "println(length(bestf))\n",
    "cc = ffp(bestf, 10000)\n",
    "println(maximum(cc))"
   ]
  },
  {
   "cell_type": "code",
   "execution_count": null,
   "id": "ab75c8b2",
   "metadata": {},
   "outputs": [],
   "source": [
    "ff2 = rand_rename(bestf[cc .== maximum(cc)][1])"
   ]
  },
  {
   "cell_type": "code",
   "execution_count": null,
   "id": "ed665bf3",
   "metadata": {},
   "outputs": [],
   "source": [
    "println(eval_battle_list2(ff2, nash_env, counts./sum(counts)))"
   ]
  },
  {
   "cell_type": "code",
   "execution_count": null,
   "id": "75ff66ed",
   "metadata": {},
   "outputs": [],
   "source": [
    "append!(nash_env, [ff2])"
   ]
  },
  {
   "cell_type": "code",
   "execution_count": null,
   "id": "5796e69d",
   "metadata": {},
   "outputs": [],
   "source": [
    "nash_env = df_to_spuds(DataFrame(CSV.File(\"temp_factored.csv\")))"
   ]
  },
  {
   "cell_type": "code",
   "execution_count": null,
   "id": "f92d53b4",
   "metadata": {
    "scrolled": false
   },
   "outputs": [],
   "source": [
    "nits = 50000000\n",
    "tol = 0.005\n",
    "println(Dates.format(now(), \"HH:MM\"))\n",
    "for ii in 1:20\n",
    "    #println()\n",
    "    print(ii)\n",
    "    counts = ffp(nash_env, nits)\n",
    "    w = counts./sum(counts)\n",
    "    #println(maximum([eval_battle_list2(ff, nash_env, counts./sum(counts)) for ff in nash_env]))\n",
    "    ff = rand_rename(pick_best_library2(nash_env, w))\n",
    "    #ev = eval_battle_list2(ff, nash_env, w)\n",
    "    #println(ev)\n",
    "    #bestf = subset_library(nash_env, 900, counts./sum(counts), tol)\n",
    "    #println(length(bestf))\n",
    "    #cc = ffp(bestf, nits)\n",
    "    #println(maximum(cc))\n",
    "    #ff2 = rand_rename(bestf[cc .== maximum(cc)][1])\n",
    "    #println(ff2)\n",
    "    #println(eval_battle_list2(ff2, nash_env, counts./sum(counts)))\n",
    "    #append!(nash_env, [ff2])\n",
    "    append!(nash_env, [ff])\n",
    "    println(ff)\n",
    "end\n",
    "println()\n",
    "println(Dates.format(now(), \"HH:MM\"))\n",
    "counts = ffp(nash_env, nits)\n",
    "#ff = pick_best_library2(nash_env, counts./sum(counts))\n",
    "#eval_battle_list2(ff, nash_env, counts./sum(counts))    \n",
    "#nash_env = nash_env[counts .> 10]\n",
    "#counts = ffp(nash_env, nits);\n",
    "println(maximum([eval_battle_list2(ff, nash_env, counts./sum(counts)) for ff in nash_env]))\n",
    "println(length(nash_env))\n",
    "println(length(unique([Spud(\"\", s.h, s.f, s.l, s.p, s.r, s.s) for s in nash_env])))    \n",
    "ff = pick_best_library2(nash_env, counts./sum(counts))\n",
    "eval_battle_list2(ff, nash_env, counts./sum(counts))"
   ]
  },
  {
   "cell_type": "code",
   "execution_count": null,
   "id": "88d82fc5",
   "metadata": {},
   "outputs": [],
   "source": [
    "println()\n",
    "println(Dates.format(now(), \"HH:MM\"))\n",
    "counts = ffp(nash_env, nits)\n",
    "#ff = pick_best_library2(nash_env, counts./sum(counts))\n",
    "#eval_battle_list2(ff, nash_env, counts./sum(counts))    \n",
    "#nash_env = nash_env[counts .> 10]\n",
    "#counts = ffp(nash_env, nits);\n",
    "println(maximum([eval_battle_list2(ff, nash_env, counts./sum(counts)) for ff in nash_env]))\n",
    "println(length(nash_env))\n",
    "println(length(unique([Spud(\"\", s.h, s.f, s.l, s.p, s.r, s.s) for s in nash_env])))    \n",
    "ff = pick_best_library2(nash_env, counts./sum(counts))\n",
    "eval_battle_list2(ff, nash_env, counts./sum(counts))"
   ]
  },
  {
   "cell_type": "code",
   "execution_count": null,
   "id": "c5f05ca0",
   "metadata": {},
   "outputs": [],
   "source": [
    "#CSV.write(\"spudsA_nash_0_00382.csv\", spuds_to_df(nash_env))"
   ]
  },
  {
   "cell_type": "markdown",
   "id": "680be934",
   "metadata": {},
   "source": [
    "#### Nash env explotability very delicate!"
   ]
  },
  {
   "cell_type": "code",
   "execution_count": null,
   "id": "ac4e77cc",
   "metadata": {},
   "outputs": [],
   "source": [
    "#nash_env = df_to_spuds(DataFrame(CSV.File(\"spudsA_nash_0_00192.csv\")));"
   ]
  },
  {
   "cell_type": "code",
   "execution_count": null,
   "id": "de3837ba",
   "metadata": {},
   "outputs": [],
   "source": [
    "counts = ffp(nash_env, nits)\n",
    "println(maximum([eval_battle_list2(ff, nash_env, counts./sum(counts)) for ff in nash_env]))\n",
    "println(length(nash_env))\n",
    "println(length(unique([Spud(\"\", s.h, s.f, s.l, s.p, s.r, s.s) for s in nash_env])))    \n",
    "ff = pick_best_library2(nash_env, counts./sum(counts))\n",
    "eval_battle_list2(ff, nash_env, counts./sum(counts))"
   ]
  },
  {
   "cell_type": "code",
   "execution_count": null,
   "id": "6d88cd1b",
   "metadata": {},
   "outputs": [],
   "source": [
    "nash_env = unique([Spud(\"\", s.h, s.f, s.l, s.p, s.r, s.s) for s in nash_env]);"
   ]
  },
  {
   "cell_type": "code",
   "execution_count": null,
   "id": "c1e9370c",
   "metadata": {},
   "outputs": [],
   "source": [
    "counts = ffp(nash_env, nits)\n",
    "println(maximum([eval_battle_list2(ff, nash_env, counts./sum(counts)) for ff in nash_env]))\n",
    "println(length(nash_env))\n",
    "println(length(unique([Spud(\"\", s.h, s.f, s.l, s.p, s.r, s.s) for s in nash_env])))    \n",
    "ff = pick_best_library2(nash_env, counts./sum(counts))\n",
    "eval_battle_list2(ff, nash_env, counts./sum(counts))"
   ]
  },
  {
   "cell_type": "code",
   "execution_count": null,
   "id": "bbc68645",
   "metadata": {},
   "outputs": [],
   "source": [
    "nash_env2 = nash_env[counts .> 1]\n",
    "length(nash_env2)"
   ]
  },
  {
   "cell_type": "code",
   "execution_count": null,
   "id": "d90b1687",
   "metadata": {},
   "outputs": [],
   "source": [
    "counts2 = ffp(nash_env2, nits)\n",
    "ff = pick_best_library2(nash_env2, counts2./sum(counts2))\n",
    "eval_battle_list2(ff, nash_env2, counts2./sum(counts2))"
   ]
  },
  {
   "cell_type": "code",
   "execution_count": null,
   "id": "f498151e",
   "metadata": {},
   "outputs": [],
   "source": [
    "counts3 = counts[counts .> 1]\n",
    "ff = pick_best_library2(nash_env2, counts3./sum(counts3))\n",
    "eval_battle_list2(ff, nash_env2, counts3./sum(counts3))"
   ]
  },
  {
   "cell_type": "code",
   "execution_count": null,
   "id": "07806e04",
   "metadata": {},
   "outputs": [],
   "source": [
    "for i in 1:length(nash_env2)\n",
    "    ff = nash_env2[i]\n",
    "    nash_env2[i] = Spud(string(\"c\", counts3[i]), ff.h, ff.f, ff.l, ff.p, ff.r, ff.s)\n",
    "end"
   ]
  },
  {
   "cell_type": "code",
   "execution_count": null,
   "id": "9733a78d",
   "metadata": {},
   "outputs": [],
   "source": [
    "nash_env2 = nash_env2[sortperm(-counts3)]\n",
    "nash_env2"
   ]
  },
  {
   "cell_type": "code",
   "execution_count": null,
   "id": "d5f1c6e9",
   "metadata": {},
   "outputs": [],
   "source": [
    "#CSV.write(\"spudsA_nash_0_00192_reduced.csv\", spuds_to_df(nash_env2))"
   ]
  },
  {
   "cell_type": "code",
   "execution_count": null,
   "id": "6530323e",
   "metadata": {},
   "outputs": [],
   "source": [
    "#nash_env"
   ]
  },
  {
   "cell_type": "markdown",
   "id": "08719575",
   "metadata": {},
   "source": [
    "## Generate all HFL and PRS combos"
   ]
  },
  {
   "cell_type": "code",
   "execution_count": null,
   "id": "bc4567d5",
   "metadata": {},
   "outputs": [],
   "source": [
    "df = spuds_to_df(nash_env);\n",
    "df.t = df.p + df.r + df.s;\n",
    "thfl = Matrix(df[:, [:t, :h, :f, :l]])\n",
    "tprs = Matrix(df[:, [:t, :p, :r, :s]])\n",
    "thfl = transpose(reduce(hcat, unique(eachrow(thfl))))\n",
    "tprs = transpose(reduce(hcat, unique(eachrow(tprs))))\n",
    "for i in [4, 3, 2, 1]\n",
    "    thfl = thfl[sortperm(thfl[:, i]), :]\n",
    "    tprs = tprs[sortperm(tprs[:, i]), :]\n",
    "end\n",
    "min_t = minimum(df.t)\n",
    "max_t = maximum(df.t)\n",
    "writedlm(\"temp_hfl.txt\", thfl, ' ')\n",
    "writedlm(\"temp_prs.txt\", tprs, ' ')\n",
    "\n",
    "# generate the product of all HFL and PRS combos\n",
    "new_env = Array{Spud}(undef, 20000)\n",
    "spud_i = 0\n",
    "for t in min_t:max_t\n",
    "    hfl = thfl[thfl[:, 1].==t, 2:end]\n",
    "    prs = tprs[tprs[:, 1].==t, 2:end]\n",
    "    for a in eachrow(hfl)\n",
    "        for b in eachrow(prs)\n",
    "            spud_i += 1\n",
    "            new_env[spud_i] = Spud(\"\", a[1], a[2], a[3], b[1], b[2], b[3])\n",
    "        end\n",
    "    end\n",
    "end\n",
    "new_env = new_env[1:spud_i]"
   ]
  },
  {
   "cell_type": "code",
   "execution_count": null,
   "id": "010c803e",
   "metadata": {},
   "outputs": [],
   "source": [
    "@time counts = ffp(new_env, nits);"
   ]
  },
  {
   "cell_type": "code",
   "execution_count": null,
   "id": "48b08104",
   "metadata": {},
   "outputs": [],
   "source": [
    "for i in 1:length(new_env)\n",
    "    ff = new_env[i]\n",
    "    new_env[i] = Spud(string(\"c\", counts[i]), ff.h, ff.f, ff.l, ff.p, ff.r, ff.s)\n",
    "end\n",
    "new_env"
   ]
  },
  {
   "cell_type": "code",
   "execution_count": null,
   "id": "e23873b1",
   "metadata": {},
   "outputs": [],
   "source": [
    "CSV.write(\"spudsA_full_factor.csv\", spuds_to_df(new_env))"
   ]
  },
  {
   "cell_type": "code",
   "execution_count": null,
   "id": "3f702066",
   "metadata": {},
   "outputs": [],
   "source": [
    "new_env2 = new_env[counts .> 1];\n",
    "#@time counts = ffp(new_env2, nits)\n",
    "w = counts[counts .> 1]./sum(counts[counts .> 1]);"
   ]
  },
  {
   "cell_type": "code",
   "execution_count": null,
   "id": "cd044587",
   "metadata": {},
   "outputs": [],
   "source": [
    "length(new_env2)"
   ]
  },
  {
   "cell_type": "code",
   "execution_count": null,
   "id": "6428008e",
   "metadata": {},
   "outputs": [],
   "source": [
    "ff = pick_best_library2(new_env2, w)\n",
    "eval_battle_list2(ff, new_env2, w)"
   ]
  },
  {
   "cell_type": "code",
   "execution_count": null,
   "id": "2f4bb58b",
   "metadata": {},
   "outputs": [],
   "source": [
    "println(maximum([eval_battle_list2(ff, new_env2, w) for ff in new_env2]))"
   ]
  },
  {
   "cell_type": "code",
   "execution_count": null,
   "id": "f40b8175",
   "metadata": {},
   "outputs": [],
   "source": [
    "#nash_copy = unique([Spud(\"\", s.h, s.f, s.l, s.p, s.r, s.s) for s in nash_env])\n"
   ]
  },
  {
   "cell_type": "code",
   "execution_count": null,
   "id": "7f1697e0",
   "metadata": {},
   "outputs": [],
   "source": [
    "scores = [eval_battle_list2(ff, new_env, counts./sum(counts)) for ff in new_env];"
   ]
  },
  {
   "cell_type": "code",
   "execution_count": null,
   "id": "ab519960",
   "metadata": {},
   "outputs": [],
   "source": [
    "for i in sortperm(scores)[1:10]\n",
    "    print(new_env[i])\n",
    "    print(\" \")\n",
    "    println(scores[i])\n",
    "end"
   ]
  },
  {
   "cell_type": "code",
   "execution_count": null,
   "id": "bde48726",
   "metadata": {},
   "outputs": [],
   "source": [
    "# for i in 1:length(new_env)\n",
    "#     ff = new_env[i]\n",
    "#     new_env[i] = Spud(string(\"s \", convert(Int, round(scores[i] * 100))), ff.h, ff.f, ff.l, ff.p, ff.r, ff.s)\n",
    "# end\n",
    "# new_env"
   ]
  },
  {
   "cell_type": "code",
   "execution_count": null,
   "id": "c8908abe",
   "metadata": {},
   "outputs": [],
   "source": [
    "#CSV.write(\"spudsA_full_factor_scores.csv\", spuds_to_df(new_env))"
   ]
  },
  {
   "cell_type": "markdown",
   "id": "171a817d",
   "metadata": {},
   "source": [
    "## beware"
   ]
  },
  {
   "cell_type": "code",
   "execution_count": null,
   "id": "4c6935a2",
   "metadata": {},
   "outputs": [],
   "source": [
    "#CSV.write(\"temp_factored.csv\", spuds_to_df([rand_rename(s) for s in new_env2]))"
   ]
  },
  {
   "cell_type": "code",
   "execution_count": null,
   "id": "5fa5d207",
   "metadata": {},
   "outputs": [],
   "source": [
    "#CSV.write(\"temp.csv\", spuds_to_df(nash_env))"
   ]
  },
  {
   "cell_type": "markdown",
   "id": "88b19f9c",
   "metadata": {},
   "source": [
    "## when would you be tempted to go far outside of nash equilibrium?"
   ]
  },
  {
   "cell_type": "code",
   "execution_count": null,
   "id": "b7bc5f03",
   "metadata": {},
   "outputs": [],
   "source": [
    "nash_env_df = DataFrame(CSV.File(\"spudsA_full_factor.csv\"))\n",
    "nash_env = df_to_spuds(nash_env_df)\n",
    "counts = [parse(Int, s.name[2:end]) for s in nash_env];"
   ]
  },
  {
   "cell_type": "code",
   "execution_count": null,
   "id": "f243b1f1",
   "metadata": {},
   "outputs": [],
   "source": [
    "cc = cumsum(counts);"
   ]
  },
  {
   "cell_type": "code",
   "execution_count": null,
   "id": "2e9fbfd2",
   "metadata": {},
   "outputs": [],
   "source": [
    "nteam = 5\n",
    "mms = Array{Float64}(undef, 1000)\n",
    "for jj in 1:1000\n",
    "    team = Array{Spud}(undef, nteam)\n",
    "    for i in 1:nteam\n",
    "        tmp = rand(1:sum(counts))\n",
    "        ind = sum(cc .< tmp)+1\n",
    "        team[i] = nash_env[ind]\n",
    "        #println(counts[ind])\n",
    "    end\n",
    "    lib = subset_library(team, 10000, [1/nteam for i in 1:nteam], 0.001)\n",
    "    scores = [eval_battle_list(ff, team) for ff in lib]\n",
    "    lib = lib[scores .== maximum(scores)]\n",
    "    evs = [eval_battle_list2(ff, nash_env, counts./sum(counts)) for ff in lib]\n",
    "    mm = maximum(evs)\n",
    "    mms[jj] = mm\n",
    "    if mm < -0.2\n",
    "        println()\n",
    "        println(spuds_to_df(team))\n",
    "        println(mm)\n",
    "        println(lib[evs .== mm])\n",
    "        \n",
    "    end\n",
    "end"
   ]
  },
  {
   "cell_type": "code",
   "execution_count": null,
   "id": "13ce284c",
   "metadata": {},
   "outputs": [],
   "source": [
    "sort(mms)"
   ]
  },
  {
   "cell_type": "code",
   "execution_count": null,
   "id": "0c0f86f3",
   "metadata": {},
   "outputs": [],
   "source": [
    "mean(mms .< -0.05)"
   ]
  },
  {
   "cell_type": "code",
   "execution_count": null,
   "id": "70db4742",
   "metadata": {},
   "outputs": [],
   "source": [
    "mean(mms .< -0.1)"
   ]
  },
  {
   "cell_type": "code",
   "execution_count": null,
   "id": "b16dd717",
   "metadata": {},
   "outputs": [],
   "source": [
    "mean(mms .< -0.15)"
   ]
  },
  {
   "cell_type": "code",
   "execution_count": null,
   "id": "ba38b78c",
   "metadata": {},
   "outputs": [],
   "source": []
  }
 ],
 "metadata": {
  "kernelspec": {
   "display_name": "Julia 1.9.3",
   "language": "julia",
   "name": "julia-1.9"
  },
  "language_info": {
   "file_extension": ".jl",
   "mimetype": "application/julia",
   "name": "julia",
   "version": "1.9.3"
  }
 },
 "nbformat": 4,
 "nbformat_minor": 5
}

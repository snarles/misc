{
 "cells": [
  {
   "cell_type": "markdown",
   "id": "052be005",
   "metadata": {},
   "source": [
    "Design of a new game, Spuds"
   ]
  },
  {
   "cell_type": "code",
   "execution_count": 1,
   "id": "494818e8",
   "metadata": {},
   "outputs": [],
   "source": [
    "using Random\n",
    "using DataFrames\n",
    "using CSV\n",
    "using DelimitedFiles\n",
    "using Statistics\n",
    "using Printf\n",
    "using LinearAlgebra\n",
    "using Dates"
   ]
  },
  {
   "cell_type": "code",
   "execution_count": 2,
   "id": "1e1008a1",
   "metadata": {},
   "outputs": [
    {
     "data": {
      "text/plain": [
       "cost (generic function with 1 method)"
      ]
     },
     "execution_count": 2,
     "metadata": {},
     "output_type": "execute_result"
    }
   ],
   "source": [
    "struct Spud\n",
    "    name::String\n",
    "    h::Int64\n",
    "    f::Int64\n",
    "    l::Int64\n",
    "    p::Int64\n",
    "    r::Int64\n",
    "    s::Int64\n",
    "end\n",
    "\n",
    "const MXS = 100\n",
    "const MXV = 10\n",
    "const MNV = 1\n",
    "\n",
    "function cost(h::Int64, f::Int64, l::Int64, p::Int64, r::Int64, s::Int64)::Int64\n",
    "    #return h*(f+l-2*MNV) + f*(p+r+s-3*MNV) + h+f+l+p+r+s-6*MNV\n",
    "    return h*(f+l) + f*(p+r+s)\n",
    "end"
   ]
  },
  {
   "cell_type": "code",
   "execution_count": 3,
   "id": "ac830f74",
   "metadata": {},
   "outputs": [
    {
     "data": {
      "text/plain": [
       "eval_battle (generic function with 1 method)"
      ]
     },
     "execution_count": 3,
     "metadata": {},
     "output_type": "execute_result"
    }
   ],
   "source": [
    "function compare_int_list(as::Vector{Int64}, bs::Vector{Int64}, tiebreaker::Int64 = 0)::Int64\n",
    "    n = min(length(as), length(bs))\n",
    "    for i in 1:n\n",
    "        if as[i] != bs[i]\n",
    "            return sign(as[i] - bs[i])\n",
    "        end\n",
    "    end\n",
    "    return tiebreaker\n",
    "end\n",
    "\n",
    "function spud_h_seq(a::Spud)::Vector{Int64}\n",
    "    return [a.h, a.s, a.r, a.p, a.l, a.f]\n",
    "end\n",
    "\n",
    "function spud_f_seq(a::Spud)::Vector{Int64}\n",
    "    return [a.f, a.s, a.r, a.p, a.l, a.h]\n",
    "end\n",
    "\n",
    "function spud_l_seq(a::Spud)::Vector{Int64}\n",
    "    return [a.l]\n",
    "end\n",
    "\n",
    "function spud_p_seq(a::Spud)::Vector{Int64}\n",
    "    return [a.p, a.l]\n",
    "end\n",
    "\n",
    "function spud_r_seq(a::Spud)::Vector{Int64}\n",
    "    return [a.r, a.f]\n",
    "end\n",
    "\n",
    "function spud_s_seq(a::Spud)::Vector{Int64}\n",
    "    return [a.s, a.h]\n",
    "end\n",
    "\n",
    "function eval_finds(a::Spud, b::Spud, tiebreaker::Int64 = 0)::Int64\n",
    "    ev = compare_int_list(spud_f_seq(a), spud_h_seq(b), tiebreaker)\n",
    "    ans = ev\n",
    "end\n",
    "\n",
    "function eval_melee(a::Spud, b::Spud, tiebreaker1::Int64 = 0, tiebreaker2::Int64 = 0)::Int64\n",
    "    comp_p = compare_int_list(spud_p_seq(a), spud_p_seq(b), tiebreaker1)\n",
    "    comp_r = compare_int_list(spud_r_seq(a), spud_r_seq(b), tiebreaker1)\n",
    "    comp_s = compare_int_list(spud_s_seq(a), spud_s_seq(b), tiebreaker1)\n",
    "    ev = 4 * comp_p + 3 * comp_r + 2 * comp_s\n",
    "    return ev + (1-abs(ev))*tiebreaker2\n",
    "end\n",
    "\n",
    "function eval_battle(a::Spud, b::Spud)::Int64\n",
    "    utb = 0 # universal tiebreaker\n",
    "    comp_h = compare_int_list(spud_h_seq(a), spud_h_seq(b), utb)\n",
    "    comp_f = compare_int_list(spud_h_seq(a), spud_h_seq(b), utb)\n",
    "    comp_l = compare_int_list(spud_h_seq(a), spud_h_seq(b), utb)\n",
    "    comp_p = compare_int_list(spud_h_seq(a), spud_h_seq(b), utb)\n",
    "    comp_r = compare_int_list(spud_h_seq(a), spud_h_seq(b), utb)\n",
    "    comp_s = compare_int_list(spud_h_seq(a), spud_h_seq(b), utb)\n",
    "    a_finds = eval_finds(a, b, utb)==1\n",
    "    b_finds = eval_finds(b, a, utb)==1\n",
    "    melee_win = eval_melee(a, b, 0, utb)\n",
    "    if a_finds && b_finds\n",
    "        return compare_int_list([melee_win, a.l, a.h], [-melee_win, b.l, b.h], utb)\n",
    "    end\n",
    "    if a_finds && !b_finds\n",
    "        return 1\n",
    "    end\n",
    "    if !a_finds && b_finds\n",
    "        return -1\n",
    "    end\n",
    "    if !a_finds && !b_finds\n",
    "        return compare_int_list([a.l, melee_win, a.f], [b.l, -melee_win, b.f], utb)\n",
    "    end\n",
    "end"
   ]
  },
  {
   "cell_type": "code",
   "execution_count": 4,
   "id": "40b9dc47",
   "metadata": {},
   "outputs": [
    {
     "data": {
      "text/plain": [
       "random_name_and_stat (generic function with 1 method)"
      ]
     },
     "execution_count": 4,
     "metadata": {},
     "output_type": "execute_result"
    }
   ],
   "source": [
    "tab = CSV.read(\"census_yob2022_names.txt\", DataFrame, header = false)\n",
    "names = tab.Column1\n",
    "adjectives = CSV.read(\"adjectives.csv\", DataFrame)\n",
    "nouns = CSV.read(\"nouns.csv\", DataFrame)\n",
    "jobs = CSV.read(\"jobs.csv\", DataFrame)\n",
    "\n",
    "const mult_noun = 1\n",
    "const mult_adj = 2\n",
    "const mult_job = 3\n",
    "\n",
    "\n",
    "function random_name_and_stat()::Spud\n",
    "    vp = [0, 0, 0, 0, 0, 0]\n",
    "    #nametype = rand([1,1,1,1,1,2,2,2,3])\n",
    "    name = \"\"\n",
    "    noun = \"\"\n",
    "    adj = \"\"\n",
    "    noun_i = rand(1:nrow(nouns))\n",
    "    noun = nouns[noun_i, :noun]\n",
    "    vp[1] = vp[1] + nouns[noun_i, :H] * mult_noun\n",
    "    vp[2] = vp[2] + nouns[noun_i, :F] * mult_noun\n",
    "    vp[3] = vp[3] + nouns[noun_i, :L] * mult_noun\n",
    "    vp[4] = vp[4] + nouns[noun_i, :P] * mult_noun\n",
    "    vp[5] = vp[5] + nouns[noun_i, :R] * mult_noun\n",
    "    vp[6] = vp[6] + nouns[noun_i, :S] * mult_noun\n",
    "    adj_i = rand(1:nrow(adjectives))\n",
    "    adj = adjectives[adj_i, :adjective]\n",
    "    vp[1] = vp[1] + adjectives[adj_i, :H] * mult_adj\n",
    "    vp[2] = vp[2] + adjectives[adj_i, :F] * mult_adj\n",
    "    vp[3] = vp[3] + adjectives[adj_i, :L] * mult_adj\n",
    "    vp[4] = vp[4] + adjectives[adj_i, :P] * mult_adj\n",
    "    vp[5] = vp[5] + adjectives[adj_i, :R] * mult_adj\n",
    "    vp[6] = vp[6] + adjectives[adj_i, :S] * mult_adj\n",
    "    job_i = rand(1:nrow(jobs))\n",
    "    job = jobs[job_i, :job]\n",
    "    vp[1] = vp[1] + jobs[job_i, :H] * mult_job\n",
    "    vp[2] = vp[2] + jobs[job_i, :F] * mult_job\n",
    "    vp[3] = vp[3] + jobs[job_i, :L] * mult_job\n",
    "    vp[4] = vp[4] + jobs[job_i, :P] * mult_job\n",
    "    vp[5] = vp[5] + jobs[job_i, :R] * mult_job\n",
    "    vp[6] = vp[6] + jobs[job_i, :S] * mult_job\n",
    "    name = string(adj, \" \", job, \" \", noun)\n",
    "    Spud(name, vp[1], vp[2], vp[3], vp[4], vp[5], vp[6])\n",
    "end"
   ]
  },
  {
   "cell_type": "code",
   "execution_count": 5,
   "id": "f606e085",
   "metadata": {},
   "outputs": [
    {
     "data": {
      "text/plain": [
       "rand_rename (generic function with 2 methods)"
      ]
     },
     "execution_count": 5,
     "metadata": {},
     "output_type": "execute_result"
    }
   ],
   "source": [
    "function rand_rename(a::Spud, n_tries::Int = 100)::Spud\n",
    "    best_score = 0.0\n",
    "    best_b = random_name_and_stat()\n",
    "    for ii in 1:n_tries\n",
    "        b = random_name_and_stat()\n",
    "        b_norm = sqrt(b.h^2 + b.f^2 + b.l^2 + b.p^2 + b.r^2 + b.s^2)\n",
    "        score = (a.h * b.h + a.f * b.f + a.l * b.l + a.p * b.p + a.r * b.r + a.s * b.s)/b_norm\n",
    "        if score > best_score\n",
    "            best_score = score\n",
    "            best_b = b\n",
    "        end\n",
    "    end\n",
    "    return Spud(best_b.name, a.h, a.f, a.l, a.p, a.r, a.s)\n",
    "end"
   ]
  },
  {
   "cell_type": "code",
   "execution_count": 6,
   "id": "560e9539",
   "metadata": {},
   "outputs": [
    {
     "data": {
      "text/plain": [
       "cost (generic function with 2 methods)"
      ]
     },
     "execution_count": 6,
     "metadata": {},
     "output_type": "execute_result"
    }
   ],
   "source": [
    "function eval_battle_list(a::Spud, bs::Array{Spud})::Int\n",
    "    score = 0\n",
    "    for ii in 1:length(bs)\n",
    "        score = score + eval_battle(a, bs[ii])\n",
    "    end\n",
    "    return score\n",
    "end\n",
    "\n",
    "function eval_battle_list2(a::Spud, bs::Array{Spud}, w::Vector{Float64})::AbstractFloat\n",
    "    score = 0.0\n",
    "    for ii in 1:length(bs)\n",
    "        score = score + w[ii] * eval_battle(a, bs[ii])\n",
    "    end\n",
    "    return score\n",
    "end\n",
    "\n",
    "\n",
    "function pick_best(as::Array{Spud}, bs::Array{Spud})::Spud\n",
    "    bestscore = -999\n",
    "    bestf = as[1]\n",
    "    for ii in 1:length(as)\n",
    "        score = eval_battle_list(as[ii], bs)\n",
    "        if score > bestscore\n",
    "            bestscore = score\n",
    "            bestf = as[ii]\n",
    "        end\n",
    "    end\n",
    "    return bestf\n",
    "end\n",
    "\n",
    "function pick_best_rdmly(as::Array{Spud}, bs::Array{Spud}, ntries::Int)::Spud\n",
    "    bestscore = -999\n",
    "    bestf = rand(as)\n",
    "    for ii in 1:ntries\n",
    "        f = rand(as)\n",
    "        score = eval_battle_list(f, bs)\n",
    "        if score > bestscore\n",
    "            bestscore = score\n",
    "            bestf = f\n",
    "        end\n",
    "    end\n",
    "    return bestf\n",
    "end\n",
    "\n",
    "function pick_best_rdmly_g(g::Function, bs::Array{Spud}, ntries::Int)::Spud\n",
    "    bestscore = -999\n",
    "    bestf = g()\n",
    "    for ii in 1:ntries\n",
    "        f = g()\n",
    "        score = eval_battle_list(f, bs)\n",
    "        if score > bestscore\n",
    "            bestscore = score\n",
    "            bestf = f\n",
    "        end\n",
    "    end\n",
    "    return bestf\n",
    "end\n",
    "\n",
    "function spuds_to_df(as::Array{Spud})::DataFrame\n",
    "    names = Array{String}(undef, length(as))\n",
    "    hs = Array{Int}(undef, length(as))\n",
    "    fs = Array{Int}(undef, length(as))\n",
    "    ls = Array{Int}(undef, length(as))\n",
    "    ps = Array{Int}(undef, length(as))\n",
    "    rs = Array{Int}(undef, length(as))\n",
    "    ss = Array{Int}(undef, length(as))\n",
    "    for ii in 1:length(as)\n",
    "        names[ii] = as[ii].name\n",
    "        hs[ii] = as[ii].h\n",
    "        fs[ii] = as[ii].f\n",
    "        ls[ii] = as[ii].l\n",
    "        ps[ii] = as[ii].p\n",
    "        rs[ii] = as[ii].r\n",
    "        ss[ii] = as[ii].s\n",
    "    end\n",
    "    df = DataFrame(name = names, h = hs, f = fs, l = ls, p = ps, r = rs, s = ss)\n",
    "    return df\n",
    "end\n",
    "\n",
    "function fpart(x::AbstractFloat)::AbstractFloat\n",
    "  return x - trunc(x)\n",
    "end\n",
    "\n",
    "function eval_team_battle(as::Array{Spud}, bs::Array{Spud})::Int\n",
    "    a_i = 1\n",
    "    b_i = 1\n",
    "    while (a_i <= length(as)) && (b_i <= length(bs))\n",
    "        res = eval_battle(as[a_i], bs[b_i])\n",
    "        if res == 1\n",
    "            b_i = b_i + 1\n",
    "        else\n",
    "            a_i = a_i + 1\n",
    "            if res == 0\n",
    "                b_i = b_i + 1\n",
    "            end\n",
    "        end\n",
    "    end\n",
    "    a_out = (a_i > length(as))\n",
    "    b_out = (b_i > length(as))\n",
    "    if a_out\n",
    "        if b_out\n",
    "            return 0\n",
    "        else\n",
    "            return -1\n",
    "        end\n",
    "    else\n",
    "        return 1\n",
    "    end\n",
    "end\n",
    "\n",
    "function compare_generator(f1, f2, limit)\n",
    "    a_i = 1\n",
    "    b_i = 1\n",
    "    f_a = f1()\n",
    "    f_b = f2()\n",
    "    while (a_i < limit) && (b_i < limit)\n",
    "        res = eval_battle(f_a, f_b)\n",
    "        if res != -1\n",
    "            b_i = b_i + 1\n",
    "            f_b = f2()\n",
    "        end\n",
    "        if res != 1\n",
    "            a_i = a_i + 1\n",
    "            f_a = f1()\n",
    "        end\n",
    "    end\n",
    "    return (a_i/limit, b_i/limit)\n",
    "end\n",
    "\n",
    "function random_team(f::Function, team_size::Int)::Array{Spud}\n",
    "    team = Array{Spud}(undef, team_size)\n",
    "    for i in 1:team_size\n",
    "        team[i] = f()\n",
    "    end\n",
    "    return team\n",
    "end\n",
    "\n",
    "function df_to_spuds(df::DataFrame)::Array{Spud}\n",
    "    n = size(df)[1]\n",
    "    as = Array{Spud}(undef, n)\n",
    "    for i in 1:n\n",
    "        as[i] = Spud(df[i, :name], df[i, :h], df[i, :f], df[i, :l], df[i, :p], df[i, :r], df[i, :s])\n",
    "    end\n",
    "    return as\n",
    "end\n",
    "\n",
    "function cost(a::Spud)::Int64\n",
    "    return cost(a.h, a.f, a.l, a.p, a.r, a.s)\n",
    "end"
   ]
  },
  {
   "cell_type": "code",
   "execution_count": 7,
   "id": "bd2b243d",
   "metadata": {},
   "outputs": [
    {
     "data": {
      "text/plain": [
       "pick_best_library (generic function with 1 method)"
      ]
     },
     "execution_count": 7,
     "metadata": {},
     "output_type": "execute_result"
    }
   ],
   "source": [
    "function upgrade_spud(sp::Spud)::Spud\n",
    "    h = sp.h\n",
    "    f = sp.f\n",
    "    l = sp.l\n",
    "    p = sp.p\n",
    "    r = sp.r\n",
    "    s = sp.s    \n",
    "    check_h = (h == MXV) || (cost(h+1,f,l,p,r,s) > MXS)\n",
    "    check_f = (f == MXV) || (cost(h,f+1,l,p,r,s) > MXS)\n",
    "    check_l = (l == MXV) || (cost(h,f,l+1,p,r,s) > MXS)\n",
    "    check_prs = (p+r+s == 3*MXV) || (cost(h,f,l,p+1,r,s) > MXS)\n",
    "    while !(check_h && check_f && check_l && check_prs)\n",
    "        rand_i = rand(1:4)\n",
    "        if rand_i == 1 && !check_h\n",
    "            h = h+1\n",
    "        end\n",
    "        if rand_i == 2 && !check_f\n",
    "            f = f+1\n",
    "        end\n",
    "        if rand_i == 3 && !check_l\n",
    "            l = l+1\n",
    "        end\n",
    "        if rand_i == 4 && !check_prs\n",
    "            rand_j = rand([1,1,1,1,1,2,2,2,2,3,3,3])\n",
    "            if rand_j == 1 && p < MXV\n",
    "                p += 1\n",
    "            end\n",
    "            if rand_j == 2 && r < MXV\n",
    "                r += 1\n",
    "            end\n",
    "            if rand_j == 3 && s < MXV\n",
    "                s += 1\n",
    "            end\n",
    "        end            \n",
    "        check_h = (h == MXV) || (cost(h+1,f,l,p,r,s) > MXS)\n",
    "        check_f = (f == MXV) || (cost(h,f+1,l,p,r,s) > MXS)\n",
    "        check_l = (l == MXV) || (cost(h,f,l+1,p,r,s) > MXS)\n",
    "        check_prs = (p+r+s == 3*MXV) || (cost(h,f,l,p+1,r,s) > MXS)\n",
    "    end\n",
    "    return Spud(sp.name, h, f, l, p, r, s)\n",
    "end\n",
    "\n",
    "\n",
    "\n",
    "function pick_best_library(bs::Array{Spud})::Spud\n",
    "    bestscore = -999\n",
    "    bestf = Spud(\"\",MNV,MNV,MNV,MNV,MNV,MNV)\n",
    "    df = spuds_to_df(bs)\n",
    "    hrange = vcat([MNV], df.h, df.h .+ 1, df.f, df.f .+ 1)\n",
    "    frange = vcat([MNV], df.f, df.f .+ 1, df.h, df.h .+ 1)\n",
    "    lrange = vcat([MNV], df.l, df.l .+ 1)\n",
    "    prange = vcat([MNV], df.p, df.p .+ 1)\n",
    "    rrange = vcat([MNV], df.r, df.r .+ 1)\n",
    "    srange = vcat([MNV], df.s, df.s .+ 1)\n",
    "    hrange = sort(unique(hrange))\n",
    "    frange = sort(unique(frange))\n",
    "    lrange = sort(unique(lrange))\n",
    "    prange = sort(unique(prange))\n",
    "    rrange = sort(unique(rrange))\n",
    "    srange = sort(unique(srange))\n",
    "    hrange = hrange[hrange .<= MXV]\n",
    "    frange = frange[frange .<= MXV]\n",
    "    lrange = lrange[lrange .<= MXV]\n",
    "    prange = prange[prange .<= MXV]\n",
    "    rrange = rrange[rrange .<= MXV]\n",
    "    srange = srange[srange .<= MXV]\n",
    "    for h in hrange\n",
    "        if (cost(h, MNV, MNV, MNV, MNV, MNV) <= MXS)\n",
    "            for f in frange\n",
    "                if (cost(h, f, MNV, MNV, MNV, MNV) <= MXS)\n",
    "                    for l in lrange\n",
    "                        if (cost(h, f, l, MNV, MNV, MNV) <= MXS)\n",
    "                            for p in prange\n",
    "                                if (cost(h, f, l, p, MNV, MNV) <= MXS)\n",
    "                                    for r in rrange\n",
    "                                        if (cost(h, f, l, p, r, MNV) <= MXS)\n",
    "                                            for s in srange\n",
    "                                                if (cost(h,f,l,p,r,s) <= MXS)\n",
    "                                                    ff = Spud(\"\",h,f,l,p,r,s)\n",
    "                                                    score = eval_battle_list(ff, bs)\n",
    "                                                    if score > bestscore\n",
    "                                                        bestscore = score\n",
    "                                                        bestf = ff\n",
    "                                                    end\n",
    "                                                end\n",
    "                                            end\n",
    "                                        end\n",
    "                                    end                        \n",
    "                                end\n",
    "                            end                        \n",
    "                        end\n",
    "                    end\n",
    "                end\n",
    "            end\n",
    "        end\n",
    "    end\n",
    "    return upgrade_spud(bestf)\n",
    "end\n",
    "\n"
   ]
  },
  {
   "cell_type": "code",
   "execution_count": 8,
   "id": "2d640dee",
   "metadata": {},
   "outputs": [
    {
     "data": {
      "text/plain": [
       "pick_ok_counter (generic function with 1 method)"
      ]
     },
     "execution_count": 8,
     "metadata": {},
     "output_type": "execute_result"
    }
   ],
   "source": [
    "function pick_ok_counter(bs::Array{Spud})::Spud\n",
    "    bestscore = -999\n",
    "    bestf = Spud(\"\",MNV,MNV,MNV,MNV,MNV,MNV)\n",
    "    df = spuds_to_df(bs)\n",
    "    hrange = vcat([MNV], df.f .+ 1)\n",
    "    frange = vcat([MNV], df.h .+ 1)\n",
    "    lrange = vcat([MNV], df.l .+ 1)\n",
    "    prange = vcat([MNV], df.p .+ 1)\n",
    "    rrange = vcat([MNV], df.r .+ 1)\n",
    "    srange = vcat([MNV], df.s .+ 1)\n",
    "    hrange = sort(unique(hrange))\n",
    "    frange = sort(unique(frange))\n",
    "    lrange = sort(unique(lrange))\n",
    "    prange = sort(unique(prange))\n",
    "    rrange = sort(unique(rrange))\n",
    "    srange = sort(unique(srange))\n",
    "    hrange = hrange[hrange .<= MXV]\n",
    "    frange = frange[frange .<= MXV]\n",
    "    lrange = lrange[lrange .<= MXV]\n",
    "    prange = prange[prange .<= MXV]\n",
    "    rrange = rrange[rrange .<= MXV]\n",
    "    srange = srange[srange .<= MXV]\n",
    "    for h in hrange\n",
    "        if (cost(h, MNV, MNV, MNV, MNV, MNV) <= MXS)\n",
    "            for f in frange\n",
    "                if (cost(h, f, MNV, MNV, MNV, MNV) <= MXS)\n",
    "                    for l in lrange\n",
    "                        if (cost(h, f, l, MNV, MNV, MNV) <= MXS)\n",
    "                            for p in prange\n",
    "                                if (cost(h, f, l, p, MNV, MNV) <= MXS)\n",
    "                                    for r in rrange\n",
    "                                        if (cost(h, f, l, p, r, MNV) <= MXS)\n",
    "                                            for s in srange\n",
    "                                                if (cost(h,f,l,p,r,s) <= MXS)\n",
    "                                                    ff = Spud(\"\",h,f,l,p,r,s)\n",
    "                                                    score = eval_battle_list(ff, bs)\n",
    "                                                    if score > bestscore\n",
    "                                                        bestscore = score\n",
    "                                                        bestf = ff\n",
    "                                                    end\n",
    "                                                end\n",
    "                                            end\n",
    "                                        end\n",
    "                                    end                        \n",
    "                                end\n",
    "                            end                        \n",
    "                        end\n",
    "                    end\n",
    "                end\n",
    "            end\n",
    "        end\n",
    "    end\n",
    "    return upgrade_spud(bestf)\n",
    "end\n"
   ]
  },
  {
   "cell_type": "code",
   "execution_count": 9,
   "id": "7b4f703b",
   "metadata": {},
   "outputs": [
    {
     "data": {
      "text/plain": [
       "pick_best_library2 (generic function with 1 method)"
      ]
     },
     "execution_count": 9,
     "metadata": {},
     "output_type": "execute_result"
    }
   ],
   "source": [
    "function pick_best_library2(bs::Array{Spud}, w::Vector{Float64})::Spud\n",
    "    bestscore = -999.9\n",
    "    bestf = Spud(\"\",MNV,MNV,MNV,MNV,MNV,MNV)\n",
    "    df = spuds_to_df(bs)\n",
    "    hrange = vcat([MNV], df.h, df.h .+ 1, df.f, df.f .+ 1)\n",
    "    frange = vcat([MNV], df.f, df.f .+ 1, df.h, df.h .+ 1)\n",
    "    lrange = vcat([MNV], df.l, df.l .+ 1)\n",
    "    prange = vcat([MNV], df.p, df.p .+ 1)\n",
    "    rrange = vcat([MNV], df.r, df.r .+ 1)\n",
    "    srange = vcat([MNV], df.s, df.s .+ 1)\n",
    "    hrange = sort(unique(hrange))\n",
    "    frange = sort(unique(frange))\n",
    "    lrange = sort(unique(lrange))\n",
    "    prange = sort(unique(prange))\n",
    "    rrange = sort(unique(rrange))\n",
    "    srange = sort(unique(srange))\n",
    "    hrange = hrange[hrange .<= MXV]\n",
    "    frange = frange[frange .<= MXV]\n",
    "    lrange = lrange[lrange .<= MXV]\n",
    "    prange = prange[prange .<= MXV]\n",
    "    rrange = rrange[rrange .<= MXV]\n",
    "    srange = srange[srange .<= MXV]\n",
    "    for h in hrange\n",
    "        if (cost(h, MNV, MNV, MNV, MNV, MNV) <= MXS)\n",
    "            for f in frange\n",
    "                if (cost(h, f, MNV, MNV, MNV, MNV) <= MXS)\n",
    "                    for l in lrange\n",
    "                        if (cost(h, f, l, MNV, MNV, MNV) <= MXS)\n",
    "                            for p in prange\n",
    "                                if (cost(h, f, l, p, MNV, MNV) <= MXS)\n",
    "                                    for r in rrange\n",
    "                                        if (cost(h, f, l, p, r, MNV) <= MXS)\n",
    "                                            for s in srange\n",
    "                                                if (cost(h,f,l,p,r,s) <= MXS)\n",
    "                                                    ff = Spud(\"\",h,f,l,p,r,s)\n",
    "                                                    score = eval_battle_list2(ff, bs, w) + 0.00001 * rand()\n",
    "                                                    if score > bestscore\n",
    "                                                        bestscore = score\n",
    "                                                        bestf = ff\n",
    "                                                    end\n",
    "                                                end\n",
    "                                            end\n",
    "                                        end\n",
    "                                    end                        \n",
    "                                end\n",
    "                            end                        \n",
    "                        end\n",
    "                    end\n",
    "                end\n",
    "            end\n",
    "        end\n",
    "    end\n",
    "    return upgrade_spud(bestf)\n",
    "end"
   ]
  },
  {
   "cell_type": "code",
   "execution_count": 10,
   "id": "79126a50",
   "metadata": {},
   "outputs": [
    {
     "data": {
      "text/plain": [
       "subset_library (generic function with 1 method)"
      ]
     },
     "execution_count": 10,
     "metadata": {},
     "output_type": "execute_result"
    }
   ],
   "source": [
    "function subset_library(bs::Array{Spud}, n_hits::Int, w::Vector{Float64}, thres::Float64)::Array{Spud}\n",
    "    bestf = Array{Spud}(undef, n_hits)\n",
    "    evs = [-9.9 for i in 1:n_hits]\n",
    "    spud_i = 1\n",
    "    prev_spud_i = spud_i\n",
    "    df = spuds_to_df(bs)\n",
    "    best_score = 0.0\n",
    "    hrange = vcat([MNV], df.h, df.h .+ 1, df.f, df.f .+ 1)\n",
    "    frange = vcat([MNV], df.f, df.f .+ 1, df.h, df.h .+ 1)\n",
    "    lrange = vcat([MNV], df.l, df.l .+ 1)\n",
    "    prange = vcat([MNV], df.p, df.p .+ 1)\n",
    "    rrange = vcat([MNV], df.r, df.r .+ 1)\n",
    "    srange = vcat([MNV], df.s, df.s .+ 1)\n",
    "    hrange = sort(unique(hrange))\n",
    "    frange = sort(unique(frange))\n",
    "    lrange = sort(unique(lrange))\n",
    "    prange = sort(unique(prange))\n",
    "    rrange = sort(unique(rrange))\n",
    "    srange = sort(unique(srange))\n",
    "    hrange = hrange[hrange .<= MXV]\n",
    "    frange = frange[frange .<= MXV]\n",
    "    lrange = lrange[lrange .<= MXV]\n",
    "    prange = prange[prange .<= MXV]\n",
    "    rrange = rrange[rrange .<= MXV]\n",
    "    srange = srange[srange .<= MXV]\n",
    "    overflow = 0\n",
    "    for h in hrange\n",
    "        if (cost(h, MNV, MNV, MNV, MNV, MNV) <= MXS)\n",
    "            for f in frange\n",
    "                if (cost(h, f, MNV, MNV, MNV, MNV) <= MXS)\n",
    "                    for l in lrange\n",
    "                        if (cost(h, f, l, MNV, MNV, MNV) <= MXS)\n",
    "                            for p in prange\n",
    "                                if (cost(h, f, l, p, MNV, MNV) <= MXS)\n",
    "                                    for r in rrange\n",
    "                                        if (cost(h, f, l, p, r, MNV) <= MXS)\n",
    "                                            for s in srange\n",
    "                                                if (cost(h,f,l,p,r,s) <= MXS)\n",
    "                                                    ff = Spud(\"\",h,f,l,p,r,s)\n",
    "                                                    score = eval_battle_list2(ff, bs, w)\n",
    "                                                    if score > best_score\n",
    "                                                        best_score = score\n",
    "                                                    end\n",
    "                                                    if score >= (best_score - thres)\n",
    "                                                        # find the first spud_i with ev less than best_score - thres\n",
    "                                                        if spud_i > n_hits\n",
    "                                                            spud_i = 1\n",
    "                                                            overflow = 1\n",
    "                                                        end\n",
    "                                                        ntries = 0\n",
    "                                                        while (evs[spud_i] >= best_score - thres)\n",
    "                                                            spud_i += 1\n",
    "                                                            ntries += 1\n",
    "                                                            if spud_i > n_hits\n",
    "                                                                spud_i = 1\n",
    "                                                                overflow = 1\n",
    "                                                            end\n",
    "                                                            if ntries > n_hits\n",
    "                                                                println(\"Full buffer\")\n",
    "                                                                #println(best_score)\n",
    "                                                                #println(thres)\n",
    "                                                                #println(evs)\n",
    "                                                                if overflow==1\n",
    "                                                                    return unique(bestf[evs .>= best_score - thres])\n",
    "                                                                else\n",
    "                                                                    bestf = bestf[1:prev_spud_i]\n",
    "                                                                    evs = evs[1:prev_spud_i]\n",
    "                                                                    return unique(bestf[evs .>= best_score - thres])\n",
    "                                                                end\n",
    "                                                            end\n",
    "                                                        end\n",
    "                                                        bestf[spud_i] = upgrade_spud(ff)\n",
    "                                                        evs[spud_i] = score\n",
    "                                                        prev_spud_i = spud_i\n",
    "                                                        spud_i += 1\n",
    "                                                    end\n",
    "                                                end\n",
    "                                            end\n",
    "                                        end\n",
    "                                    end                        \n",
    "                                end\n",
    "                            end                        \n",
    "                        end\n",
    "                    end\n",
    "                end\n",
    "            end\n",
    "        end\n",
    "    end\n",
    "    #println(best_score)\n",
    "    if overflow==1\n",
    "        return unique(bestf[evs .>= best_score - thres])\n",
    "    else\n",
    "        bestf = bestf[1:prev_spud_i]\n",
    "        evs = evs[1:prev_spud_i]\n",
    "        return unique(bestf[evs .>= best_score - thres])\n",
    "    end\n",
    "end"
   ]
  },
  {
   "cell_type": "markdown",
   "id": "261e21eb",
   "metadata": {},
   "source": [
    "## Form library randomly"
   ]
  },
  {
   "cell_type": "code",
   "execution_count": null,
   "id": "8534b5bb",
   "metadata": {},
   "outputs": [],
   "source": [
    "# form initial library by subsampling indices\n",
    "library = Array{Spud}(undef, 10000)\n",
    "spud_i = 0\n",
    "ss_prob = 0.7"
   ]
  },
  {
   "cell_type": "code",
   "execution_count": null,
   "id": "3febb950",
   "metadata": {},
   "outputs": [],
   "source": [
    "\n",
    "hrange = MNV:MXV\n",
    "frange = MNV:MXV\n",
    "lrange = MNV:MXV\n",
    "prange = MNV:MXV\n",
    "rrange = MNV:MXV\n",
    "srange = MNV:MXV\n",
    "\n",
    "for h in hrange\n",
    "    if (cost(h, MXV, MXV, MXV, MXV, MXV) >= MXS) && (cost(h, MNV, MNV, MNV, MNV, MNV) <= MXS)\n",
    "        for f in frange\n",
    "            if (cost(h, f, MXV, MXV, MXV, MXV) >= MXS) && (cost(h, f, MNV, MNV, MNV, MNV) <= MXS)\n",
    "                for l in lrange\n",
    "                    if (cost(h, f, l, MXV, MXV, MXV) >= MXS) && (cost(h, f, l, MNV, MNV, MNV) <= MXS)\n",
    "                        for p in prange\n",
    "                            if (cost(h, f, l, p, MXV, MXV) >= MXS) && (cost(h, f, l, p, MNV, MNV) <= MXS)\n",
    "                                for r in rrange\n",
    "                                    if (cost(h, f, l, p, r, MXV) >= MXS) && (cost(h, f, l, p, r, MNV) <= MXS)\n",
    "                                        for s in srange\n",
    "                                            if rand() < ss_prob && (cost(h,f,l,p,r,s) <= MXS)\n",
    "                                                check_f = (h == MXV) || (cost(h+1,f,l,p,r,s) > MXS)\n",
    "                                                check_h = (f == MXV) || (cost(h,f+1,l,p,r,s) > MXS)\n",
    "                                                check_l = (l == MXV) || (cost(h,f,l+1,p,r,s) > MXS)\n",
    "                                                check_prs = (p+r+s == 3*MXV) || (cost(h,f,l,p+1,r,s) > MXS)\n",
    "                                                if check_h && check_f && check_l && check_prs\n",
    "                                                    spud_i += 1\n",
    "                                                    #randname = rand_rename(Spud(\" \",h,f,l,p,r,s)).name\n",
    "                                                    #name = string(\"#\", @sprintf(\"%i\", spud_i), \". \", randname)\n",
    "                                                    name = \"\"\n",
    "                                                    library[spud_i] = Spud(name,h,f,l,p,r,s)\n",
    "                                                end\n",
    "                                            end\n",
    "                                        end\n",
    "                                    end\n",
    "                                end                        \n",
    "                            end\n",
    "                        end                        \n",
    "                    end\n",
    "                end\n",
    "            end\n",
    "        end\n",
    "    end\n",
    "end\n"
   ]
  },
  {
   "cell_type": "code",
   "execution_count": null,
   "id": "9bbe4ff4",
   "metadata": {},
   "outputs": [],
   "source": [
    "library = unique(library[1:spud_i])\n",
    "n_spuds = length(library)"
   ]
  },
  {
   "cell_type": "code",
   "execution_count": null,
   "id": "2a078723",
   "metadata": {},
   "outputs": [],
   "source": [
    "# for i in 1:n_spuds\n",
    "#     ff = library[i]\n",
    "#     randname = rand_rename(ff).name\n",
    "#     name = string(\"#\", @sprintf(\"%i\", i), \". \", randname)\n",
    "#     library[i] = Spud(name,ff.h,ff.f,ff.l,ff.p,ff.r,ff.s)\n",
    "# end\n",
    "# id_no = Dict(library[i] => i for i in 1:n_spuds)"
   ]
  },
  {
   "cell_type": "code",
   "execution_count": null,
   "id": "52daa014",
   "metadata": {},
   "outputs": [],
   "source": [
    "# Check that there are no ties in spudland\n",
    "for iter in 1:10000\n",
    "    i = rand(1:n_spuds)\n",
    "    j = rand(1:n_spuds)\n",
    "    if i != j && eval_battle(library[i], library[j]) == 0\n",
    "        println(library[i])\n",
    "        println(library[j])\n",
    "        println()\n",
    "    end\n",
    "end"
   ]
  },
  {
   "cell_type": "markdown",
   "id": "4873490e",
   "metadata": {},
   "source": [
    "## Compute Nash env"
   ]
  },
  {
   "cell_type": "code",
   "execution_count": null,
   "id": "010f3c57",
   "metadata": {},
   "outputs": [],
   "source": [
    "function ffp(nash_env, nits)\n",
    "    n_nash = length(nash_env)\n",
    "    i_lose = Array{Int}(undef, (n_nash, n_nash))\n",
    "    n_lose = Array{Int}(undef, n_nash)\n",
    "    for i in 1:n_nash\n",
    "        n_lose[i] = 0\n",
    "        ff = nash_env[i]\n",
    "        for j in 1:n_nash\n",
    "            if eval_battle(ff, nash_env[j]) ==-1\n",
    "                n_lose[i] += 1\n",
    "                i_lose[i, n_lose[i]] = j\n",
    "            end\n",
    "        end\n",
    "    end\n",
    "    counts = [0 for i in 1:n_nash]\n",
    "    wins = [0 for i in 1:n_nash]\n",
    "    for i in 1:n_nash\n",
    "        counts[i] += 1\n",
    "        for j in 1:n_lose[i]\n",
    "            i_w = i_lose[i, j]\n",
    "            wins[i_w]+= 1\n",
    "        end\n",
    "    end\n",
    "    for iter in 1:nits\n",
    "        wc = 2 .* wins .+ counts\n",
    "        ind_winners = findall(wc .== maximum(wc))\n",
    "        i = rand(ind_winners)\n",
    "        counts[i] += 1\n",
    "        for j in 1:n_lose[i]\n",
    "            i_w = i_lose[i, j]\n",
    "            wins[i_w]+= 1\n",
    "        end\n",
    "    end\n",
    "    return counts\n",
    "end\n"
   ]
  },
  {
   "cell_type": "code",
   "execution_count": null,
   "id": "4021dd90",
   "metadata": {},
   "outputs": [],
   "source": [
    "nash_env = [rand_rename(s) for s in library]\n",
    "spuds_to_df(nash_env)"
   ]
  },
  {
   "cell_type": "code",
   "execution_count": null,
   "id": "0e75ca0c",
   "metadata": {},
   "outputs": [],
   "source": [
    "@time counts = ffp(nash_env, 1000);"
   ]
  },
  {
   "cell_type": "code",
   "execution_count": null,
   "id": "624b1960",
   "metadata": {},
   "outputs": [],
   "source": [
    "@time counts = ffp(nash_env, 10000);"
   ]
  },
  {
   "cell_type": "markdown",
   "id": "88b19f9c",
   "metadata": {},
   "source": [
    "## when would you be tempted to go far outside of nash equilibrium?"
   ]
  },
  {
   "cell_type": "code",
   "execution_count": 11,
   "id": "b7bc5f03",
   "metadata": {},
   "outputs": [],
   "source": [
    "nash_env_df = DataFrame(CSV.File(\"spudsD_nash.csv\"))\n",
    "nash_env = df_to_spuds(nash_env_df)\n",
    "counts = [parse(Int, s.name[2:end]) for s in nash_env];"
   ]
  },
  {
   "cell_type": "code",
   "execution_count": 12,
   "id": "f243b1f1",
   "metadata": {},
   "outputs": [],
   "source": [
    "cc = cumsum(counts);"
   ]
  },
  {
   "cell_type": "code",
   "execution_count": 16,
   "id": "dc29bae6",
   "metadata": {},
   "outputs": [
    {
     "data": {
      "text/plain": [
       "390-element Vector{Spud}:\n",
       " Spud(\"\", 2, 10, 5, 2, 3, 2)\n",
       " Spud(\"\", 2, 10, 5, 1, 4, 2)\n",
       " Spud(\"\", 2, 10, 5, 4, 1, 2)\n",
       " Spud(\"\", 2, 10, 10, 1, 3, 2)\n",
       " Spud(\"\", 3, 10, 3, 1, 3, 2)\n",
       " Spud(\"\", 4, 9, 2, 1, 3, 2)\n",
       " Spud(\"\", 4, 10, 2, 1, 2, 2)\n",
       " Spud(\"\", 7, 1, 10, 10, 4, 9)\n",
       " Spud(\"\", 6, 1, 10, 11, 8, 11)\n",
       " Spud(\"\", 6, 1, 10, 10, 11, 9)\n",
       " Spud(\"\", 6, 1, 10, 10, 10, 10)\n",
       " Spud(\"\", 6, 6, 3, 1, 4, 2)\n",
       " Spud(\"\", 6, 4, 3, 1, 4, 9)\n",
       " ⋮\n",
       " Spud(\"\", 10, 3, 3, 8, 3, 2)\n",
       " Spud(\"\", 10, 3, 3, 11, 1, 1)\n",
       " Spud(\"\", 10, 3, 3, 10, 1, 2)\n",
       " Spud(\"\", 10, 3, 3, 10, 2, 1)\n",
       " Spud(\"\", 10, 3, 4, 2, 5, 3)\n",
       " Spud(\"\", 10, 3, 4, 2, 7, 1)\n",
       " Spud(\"\", 10, 4, 3, 1, 3, 3)\n",
       " Spud(\"\", 10, 4, 3, 2, 2, 3)\n",
       " Spud(\"\", 10, 4, 3, 3, 2, 2)\n",
       " Spud(\"\", 10, 4, 3, 5, 1, 1)\n",
       " Spud(\"\", 10, 4, 4, 1, 1, 3)\n",
       " Spud(\"\", 10, 4, 4, 2, 1, 2)"
      ]
     },
     "execution_count": 16,
     "metadata": {},
     "output_type": "execute_result"
    }
   ],
   "source": [
    "nteam = 5\n",
    "team = Array{Spud}(undef, nteam)\n",
    "for i in 1:nteam\n",
    "    tmp = rand(1:sum(counts))\n",
    "    ind = sum(cc .< tmp)+1\n",
    "    team[i] = nash_env[ind]\n",
    "    #println(counts[ind])\n",
    "end\n",
    "lib = subset_library(team, 10000, [1/nteam for i in 1:nteam], 0.001)"
   ]
  },
  {
   "cell_type": "code",
   "execution_count": 23,
   "id": "9effc6cd",
   "metadata": {},
   "outputs": [
    {
     "data": {
      "text/plain": [
       "subset_library0 (generic function with 1 method)"
      ]
     },
     "execution_count": 23,
     "metadata": {},
     "output_type": "execute_result"
    }
   ],
   "source": [
    "function subset_library0(bs::Array{Spud}, n_hits::Int, w::Vector{Float64}, thres::Float64)::Array{Spud}\n",
    "    bestf = Array{Spud}(undef, n_hits)\n",
    "    evs = [-9.9 for i in 1:n_hits]\n",
    "    spud_i = 1\n",
    "    prev_spud_i = spud_i\n",
    "    df = spuds_to_df(bs)\n",
    "    best_score = 0.0\n",
    "    hrange = vcat([MNV], df.h, df.h .+ 1, df.f, df.f .+ 1)\n",
    "    frange = vcat([MNV], df.f, df.f .+ 1, df.h, df.h .+ 1)\n",
    "    lrange = vcat([MNV], df.l, df.l .+ 1)\n",
    "    prange = vcat([MNV], df.p, df.p .+ 1)\n",
    "    rrange = vcat([MNV], df.r, df.r .+ 1)\n",
    "    srange = vcat([MNV], df.s, df.s .+ 1)\n",
    "    hrange = sort(unique(hrange))\n",
    "    frange = sort(unique(frange))\n",
    "    lrange = sort(unique(lrange))\n",
    "    prange = sort(unique(prange))\n",
    "    rrange = sort(unique(rrange))\n",
    "    srange = sort(unique(srange))\n",
    "    hrange = hrange[hrange .<= MXV]\n",
    "    frange = frange[frange .<= MXV]\n",
    "    lrange = lrange[lrange .<= MXV]\n",
    "    prange = prange[prange .<= MXV]\n",
    "    rrange = rrange[rrange .<= MXV]\n",
    "    srange = srange[srange .<= MXV]\n",
    "    overflow = 0\n",
    "    for h in hrange\n",
    "        if (cost(h, MNV, MNV, MNV, MNV, MNV) <= MXS)\n",
    "            for f in frange\n",
    "                if (cost(h, f, MNV, MNV, MNV, MNV) <= MXS)\n",
    "                    for l in lrange\n",
    "                        if (cost(h, f, l, MNV, MNV, MNV) <= MXS)\n",
    "                            for p in prange\n",
    "                                if (cost(h, f, l, p, MNV, MNV) <= MXS)\n",
    "                                    for r in rrange\n",
    "                                        if (cost(h, f, l, p, r, MNV) <= MXS)\n",
    "                                            for s in srange\n",
    "                                                if (cost(h,f,l,p,r,s) <= MXS)\n",
    "                                                    ff = Spud(\"\",h,f,l,p,r,s)\n",
    "                                                    score = eval_battle_list2(ff, bs, w)\n",
    "                                                    if score > best_score\n",
    "                                                        best_score = score\n",
    "                                                    end\n",
    "                                                    if score >= (best_score - thres)\n",
    "                                                        # find the first spud_i with ev less than best_score - thres\n",
    "                                                        if spud_i > n_hits\n",
    "                                                            spud_i = 1\n",
    "                                                            overflow = 1\n",
    "                                                        end\n",
    "                                                        ntries = 0\n",
    "                                                        while (evs[spud_i] >= best_score - thres)\n",
    "                                                            spud_i += 1\n",
    "                                                            ntries += 1\n",
    "                                                            if spud_i > n_hits\n",
    "                                                                spud_i = 1\n",
    "                                                                overflow = 1\n",
    "                                                            end\n",
    "                                                            if ntries > n_hits\n",
    "                                                                println(\"Full buffer\")\n",
    "                                                                #println(best_score)\n",
    "                                                                #println(thres)\n",
    "                                                                #println(evs)\n",
    "                                                                if overflow==1\n",
    "                                                                    return unique(bestf[evs .>= best_score - thres])\n",
    "                                                                else\n",
    "                                                                    bestf = bestf[1:prev_spud_i]\n",
    "                                                                    evs = evs[1:prev_spud_i]\n",
    "                                                                    return unique(bestf[evs .>= best_score - thres])\n",
    "                                                                end\n",
    "                                                            end\n",
    "                                                        end\n",
    "                                                        bestf[spud_i] = ff\n",
    "                                                        evs[spud_i] = score\n",
    "                                                        prev_spud_i = spud_i\n",
    "                                                        spud_i += 1\n",
    "                                                    end\n",
    "                                                end\n",
    "                                            end\n",
    "                                        end\n",
    "                                    end                        \n",
    "                                end\n",
    "                            end                        \n",
    "                        end\n",
    "                    end\n",
    "                end\n",
    "            end\n",
    "        end\n",
    "    end\n",
    "    #println(best_score)\n",
    "    if overflow==1\n",
    "        return unique(bestf[evs .>= best_score - thres])\n",
    "    else\n",
    "        bestf = bestf[1:prev_spud_i]\n",
    "        evs = evs[1:prev_spud_i]\n",
    "        return unique(bestf[evs .>= best_score - thres])\n",
    "    end\n",
    "end"
   ]
  },
  {
   "cell_type": "code",
   "execution_count": 24,
   "id": "8948187f",
   "metadata": {},
   "outputs": [
    {
     "data": {
      "text/plain": [
       "899-element Vector{Spud}:\n",
       " Spud(\"\", 2, 10, 1, 1, 3, 2)\n",
       " Spud(\"\", 2, 10, 1, 1, 4, 2)\n",
       " Spud(\"\", 2, 10, 1, 2, 3, 2)\n",
       " Spud(\"\", 2, 10, 2, 1, 3, 2)\n",
       " Spud(\"\", 2, 10, 2, 1, 4, 2)\n",
       " Spud(\"\", 2, 10, 2, 2, 3, 2)\n",
       " Spud(\"\", 2, 10, 2, 4, 1, 2)\n",
       " Spud(\"\", 2, 10, 3, 1, 3, 2)\n",
       " Spud(\"\", 2, 10, 3, 1, 4, 2)\n",
       " Spud(\"\", 2, 10, 3, 2, 3, 2)\n",
       " Spud(\"\", 2, 10, 3, 4, 1, 2)\n",
       " Spud(\"\", 2, 10, 4, 1, 3, 2)\n",
       " Spud(\"\", 2, 10, 4, 1, 4, 2)\n",
       " ⋮\n",
       " Spud(\"\", 10, 4, 3, 4, 1, 2)\n",
       " Spud(\"\", 10, 4, 3, 4, 2, 1)\n",
       " Spud(\"\", 10, 4, 3, 5, 1, 1)\n",
       " Spud(\"\", 10, 4, 4, 1, 1, 1)\n",
       " Spud(\"\", 10, 4, 4, 1, 1, 2)\n",
       " Spud(\"\", 10, 4, 4, 1, 2, 1)\n",
       " Spud(\"\", 10, 4, 4, 1, 2, 2)\n",
       " Spud(\"\", 10, 4, 4, 1, 3, 1)\n",
       " Spud(\"\", 10, 4, 4, 2, 1, 1)\n",
       " Spud(\"\", 10, 4, 4, 2, 1, 2)\n",
       " Spud(\"\", 10, 4, 4, 2, 2, 1)\n",
       " Spud(\"\", 10, 4, 4, 3, 1, 1)"
      ]
     },
     "execution_count": 24,
     "metadata": {},
     "output_type": "execute_result"
    }
   ],
   "source": [
    "lib0 = subset_library0(team, 10000, [1/nteam for i in 1:nteam], 0.001)"
   ]
  },
  {
   "cell_type": "code",
   "execution_count": 25,
   "id": "c2f576c6",
   "metadata": {},
   "outputs": [
    {
     "data": {
      "text/plain": [
       "899-element Vector{Int64}:\n",
       " 3\n",
       " 3\n",
       " 3\n",
       " 3\n",
       " 3\n",
       " 3\n",
       " 3\n",
       " 3\n",
       " 3\n",
       " 3\n",
       " 3\n",
       " 3\n",
       " 3\n",
       " ⋮\n",
       " 3\n",
       " 3\n",
       " 3\n",
       " 3\n",
       " 3\n",
       " 3\n",
       " 3\n",
       " 3\n",
       " 3\n",
       " 3\n",
       " 3\n",
       " 3"
      ]
     },
     "execution_count": 25,
     "metadata": {},
     "output_type": "execute_result"
    }
   ],
   "source": [
    "scores0 = [eval_battle_list(ff, team) for ff in lib0]"
   ]
  },
  {
   "cell_type": "code",
   "execution_count": 26,
   "id": "9f5817d9",
   "metadata": {},
   "outputs": [
    {
     "data": {
      "text/plain": [
       "899-element Vector{Float64}:\n",
       " -0.24018000155594457\n",
       " -0.1351817604929746\n",
       " -0.11134821373394843\n",
       " -0.20838273989791187\n",
       " -0.10338449883494177\n",
       " -0.08695388705084367\n",
       " -0.061984380959161665\n",
       " -0.17117587190378608\n",
       " -0.06581304389302867\n",
       " -0.06449389111869805\n",
       " -0.061984380959161665\n",
       " -0.17098487874134127\n",
       " -0.06575284604811152\n",
       "  ⋮\n",
       " -0.0678421712502692\n",
       " -0.0666686132636451\n",
       " -0.11958431888138396\n",
       " -0.09105274031189675\n",
       " -0.031928056975560275\n",
       " -0.05122736606029502\n",
       " -0.01862623318085212\n",
       " -0.01466447501179452\n",
       " -0.07197682322972829\n",
       " -0.01740977672999304\n",
       " -0.031315478905855135\n",
       " -0.05499903103468894"
      ]
     },
     "execution_count": 26,
     "metadata": {},
     "output_type": "execute_result"
    }
   ],
   "source": [
    "evs0 = [eval_battle_list2(ff, nash_env, counts./sum(counts)) for ff in lib0]"
   ]
  },
  {
   "cell_type": "code",
   "execution_count": 29,
   "id": "18831257",
   "metadata": {},
   "outputs": [
    {
     "name": "stdout",
     "output_type": "stream",
     "text": [
      "Spud(\"\", 6, 1, 10, 10, 4, 9)\n",
      "Spud(\"\", 6, 1, 10, 10, 4, 10)\n",
      "Spud(\"\", 6, 1, 10, 10, 10, 9)\n",
      "Spud(\"\", 8, 2, 3, 10, 1, 10)\n",
      "Spud(\"\", 8, 2, 3, 10, 3, 10)\n",
      "Spud(\"\", 8, 2, 4, 10, 1, 10)\n",
      "Spud(\"\", 8, 2, 4, 10, 2, 10)\n",
      "Spud(\"\", 8, 3, 3, 10, 3, 1)\n",
      "Spud(\"\", 8, 3, 3, 10, 4, 1)\n",
      "Spud(\"\", 8, 3, 3, 10, 4, 2)\n",
      "Spud(\"\", 8, 3, 4, 10, 1, 2)\n",
      "Spud(\"\", 9, 2, 3, 10, 1, 10)\n",
      "Spud(\"\", 9, 2, 3, 10, 2, 10)\n",
      "Spud(\"\", 9, 2, 3, 10, 3, 10)\n",
      "Spud(\"\", 9, 2, 3, 10, 4, 10)\n",
      "Spud(\"\", 9, 3, 3, 10, 2, 2)\n",
      "Spud(\"\", 10, 2, 3, 10, 1, 10)\n",
      "Spud(\"\", 10, 2, 3, 10, 2, 10)\n"
     ]
    }
   ],
   "source": [
    "for ff in lib0\n",
    "    ff2 = upgrade_spud(ff)\n",
    "    if ff2.p > 10\n",
    "        println(ff)\n",
    "    end\n",
    "end"
   ]
  },
  {
   "cell_type": "code",
   "execution_count": 31,
   "id": "8d5ac7cb",
   "metadata": {},
   "outputs": [
    {
     "data": {
      "text/plain": [
       "upgrade_spud (generic function with 1 method)"
      ]
     },
     "execution_count": 31,
     "metadata": {},
     "output_type": "execute_result"
    }
   ],
   "source": [
    "function upgrade_spud(sp::Spud)::Spud\n",
    "    h = sp.h\n",
    "    f = sp.f\n",
    "    l = sp.l\n",
    "    p = sp.p\n",
    "    r = sp.r\n",
    "    s = sp.s    \n",
    "    check_h = (h == MXV) || (cost(h+1,f,l,p,r,s) > MXS)\n",
    "    check_f = (f == MXV) || (cost(h,f+1,l,p,r,s) > MXS)\n",
    "    check_l = (l == MXV) || (cost(h,f,l+1,p,r,s) > MXS)\n",
    "    check_prs = (p+r+s == 3*MXV) || (cost(h,f,l,p+1,r,s) > MXS)\n",
    "    while !(check_h && check_f && check_l && check_prs)\n",
    "        rand_i = rand(1:4)\n",
    "        if rand_i == 1 && !check_h\n",
    "            h = h+1\n",
    "        end\n",
    "        if rand_i == 2 && !check_f\n",
    "            f = f+1\n",
    "        end\n",
    "        if rand_i == 3 && !check_l\n",
    "            l = l+1\n",
    "        end\n",
    "        if rand_i == 4 && !check_prs\n",
    "            rand_j = rand([1,1,1,1,1,2,2,2,2,3,3,3])\n",
    "            if rand_j == 1 && p < MXV\n",
    "                p += 1\n",
    "            end\n",
    "            if rand_j == 2 && r < MXV\n",
    "                r += 1\n",
    "            end\n",
    "            if rand_j == 3 && s < MXV\n",
    "                s += 1\n",
    "            end\n",
    "        end            \n",
    "        check_h = (h == MXV) || (cost(h+1,f,l,p,r,s) > MXS)\n",
    "        check_f = (f == MXV) || (cost(h,f+1,l,p,r,s) > MXS)\n",
    "        check_l = (l == MXV) || (cost(h,f,l+1,p,r,s) > MXS)\n",
    "        check_prs = (p+r+s == 3*MXV) || (cost(h,f,l,p+1,r,s) > MXS)\n",
    "    end\n",
    "    return Spud(sp.name, h, f, l, p, r, s)\n",
    "end\n",
    "\n",
    "\n"
   ]
  },
  {
   "cell_type": "code",
   "execution_count": 35,
   "id": "26847fa2",
   "metadata": {},
   "outputs": [
    {
     "data": {
      "text/plain": [
       "Spud(\"\", 7, 1, 10, 10, 4, 9)"
      ]
     },
     "execution_count": 35,
     "metadata": {},
     "output_type": "execute_result"
    }
   ],
   "source": [
    "upgrade_spud(Spud(\"\", 6, 1, 10, 10, 4, 9))"
   ]
  },
  {
   "cell_type": "code",
   "execution_count": null,
   "id": "a407bb9f",
   "metadata": {},
   "outputs": [],
   "source": []
  },
  {
   "cell_type": "code",
   "execution_count": 17,
   "id": "5a3553cb",
   "metadata": {},
   "outputs": [
    {
     "data": {
      "text/plain": [
       "390-element Vector{Int64}:\n",
       " 3\n",
       " 3\n",
       " 3\n",
       " 3\n",
       " 3\n",
       " 3\n",
       " 3\n",
       " 3\n",
       " 3\n",
       " 3\n",
       " 3\n",
       " 3\n",
       " 3\n",
       " ⋮\n",
       " 3\n",
       " 3\n",
       " 3\n",
       " 3\n",
       " 3\n",
       " 3\n",
       " 3\n",
       " 3\n",
       " 3\n",
       " 3\n",
       " 3\n",
       " 3"
      ]
     },
     "execution_count": 17,
     "metadata": {},
     "output_type": "execute_result"
    }
   ],
   "source": [
    "scores = [eval_battle_list(ff, team) for ff in lib]"
   ]
  },
  {
   "cell_type": "code",
   "execution_count": 18,
   "id": "84f0a891",
   "metadata": {},
   "outputs": [
    {
     "data": {
      "text/plain": [
       "390-element Vector{Float64}:\n",
       " -0.05539361690851472\n",
       " -0.052813309283527676\n",
       " -0.05517202484151068\n",
       " -0.022104608655010197\n",
       " -0.034800354147321494\n",
       " -0.010208834523724017\n",
       " -0.0099578435092023\n",
       "  0.0004951822724746577\n",
       "  0.3863643681556199\n",
       "  0.3863643681556199\n",
       "  0.31120285893764993\n",
       " -0.16463370611332115\n",
       " -0.19732733568138247\n",
       "  ⋮\n",
       " -0.08364920535844808\n",
       " -0.24447464780760855\n",
       " -0.17290940984312755\n",
       " -0.149076263069782\n",
       " -0.033728792509228146\n",
       " -0.09563797616045339\n",
       " -0.0262216612645267\n",
       " -0.028926764421833673\n",
       " -0.04000336787942992\n",
       " -0.11958431888138396\n",
       " -0.0008915680818625992\n",
       " -0.01740977672999304"
      ]
     },
     "execution_count": 18,
     "metadata": {},
     "output_type": "execute_result"
    }
   ],
   "source": [
    "evs = [eval_battle_list2(ff, nash_env, counts./sum(counts)) for ff in lib]"
   ]
  },
  {
   "cell_type": "code",
   "execution_count": 19,
   "id": "a866defa",
   "metadata": {},
   "outputs": [
    {
     "data": {
      "text/plain": [
       "0.3863643681556199"
      ]
     },
     "execution_count": 19,
     "metadata": {},
     "output_type": "execute_result"
    }
   ],
   "source": [
    "mm = maximum(evs)"
   ]
  },
  {
   "cell_type": "code",
   "execution_count": 21,
   "id": "44ffcf04",
   "metadata": {},
   "outputs": [
    {
     "data": {
      "text/plain": [
       "2-element Vector{Spud}:\n",
       " Spud(\"\", 6, 1, 10, 11, 8, 11)\n",
       " Spud(\"\", 6, 1, 10, 10, 11, 9)"
      ]
     },
     "execution_count": 21,
     "metadata": {},
     "output_type": "execute_result"
    }
   ],
   "source": [
    "lib[evs.==mm]"
   ]
  },
  {
   "cell_type": "code",
   "execution_count": 22,
   "id": "2a69d027",
   "metadata": {},
   "outputs": [
    {
     "data": {
      "text/plain": [
       "96"
      ]
     },
     "execution_count": 22,
     "metadata": {},
     "output_type": "execute_result"
    }
   ],
   "source": [
    "cost(Spud(\"\", 6, 1, 10, 11, 8, 11))"
   ]
  },
  {
   "cell_type": "code",
   "execution_count": 13,
   "id": "2e9fbfd2",
   "metadata": {},
   "outputs": [
    {
     "ename": "LoadError",
     "evalue": "InterruptException:",
     "output_type": "error",
     "traceback": [
      "InterruptException:",
      "",
      "Stacktrace:",
      "  [1] Array",
      "    @ ./boot.jl:477 [inlined]",
      "  [2] Array",
      "    @ ./boot.jl:486 [inlined]",
      "  [3] similar",
      "    @ ./abstractarray.jl:884 [inlined]",
      "  [4] similar",
      "    @ ./abstractarray.jl:883 [inlined]",
      "  [5] _array_for",
      "    @ ./array.jl:671 [inlined]",
      "  [6] _array_for",
      "    @ ./array.jl:674 [inlined]",
      "  [7] vect",
      "    @ ./array.jl:126 [inlined]",
      "  [8] spud_h_seq",
      "    @ ./In[3]:12 [inlined]",
      "  [9] eval_battle(a::Spud, b::Spud)",
      "    @ Main ./In[3]:53",
      " [10] eval_battle_list2",
      "    @ ./In[6]:12 [inlined]",
      " [11] subset_library(bs::Vector{Spud}, n_hits::Int64, w::Vector{Float64}, thres::Float64)",
      "    @ Main ./In[10]:40"
     ]
    }
   ],
   "source": [
    "nteam = 5\n",
    "mms = Array{Float64}(undef, 1000)\n",
    "for jj in 1:1000\n",
    "    team = Array{Spud}(undef, nteam)\n",
    "    for i in 1:nteam\n",
    "        tmp = rand(1:sum(counts))\n",
    "        ind = sum(cc .< tmp)+1\n",
    "        team[i] = nash_env[ind]\n",
    "        #println(counts[ind])\n",
    "    end\n",
    "    lib = subset_library(team, 10000, [1/nteam for i in 1:nteam], 0.001)\n",
    "    scores = [eval_battle_list(ff, team) for ff in lib]\n",
    "    lib = lib[scores .== maximum(scores)]\n",
    "    evs = [eval_battle_list2(ff, nash_env, counts./sum(counts)) for ff in lib]\n",
    "    mm = maximum(evs)\n",
    "    mms[jj] = mm\n",
    "    if mm < -0.2\n",
    "        println()\n",
    "        println(spuds_to_df(team))\n",
    "        println(mm)\n",
    "        println(lib[evs .== mm])\n",
    "        \n",
    "    end\n",
    "end"
   ]
  },
  {
   "cell_type": "code",
   "execution_count": 15,
   "id": "a3debb6b",
   "metadata": {},
   "outputs": [
    {
     "ename": "LoadError",
     "evalue": "UndefVarError: `team` not defined",
     "output_type": "error",
     "traceback": [
      "UndefVarError: `team` not defined",
      ""
     ]
    }
   ],
   "source": [
    "team"
   ]
  },
  {
   "cell_type": "code",
   "execution_count": null,
   "id": "13ce284c",
   "metadata": {},
   "outputs": [],
   "source": [
    "sort(mms)"
   ]
  },
  {
   "cell_type": "code",
   "execution_count": null,
   "id": "0c0f86f3",
   "metadata": {},
   "outputs": [],
   "source": [
    "mean(mms .< -0.05)"
   ]
  },
  {
   "cell_type": "code",
   "execution_count": null,
   "id": "70db4742",
   "metadata": {},
   "outputs": [],
   "source": [
    "mean(mms .< -0.1)"
   ]
  },
  {
   "cell_type": "code",
   "execution_count": null,
   "id": "b16dd717",
   "metadata": {},
   "outputs": [],
   "source": [
    "mean(mms .< -0.15)"
   ]
  },
  {
   "cell_type": "code",
   "execution_count": null,
   "id": "ba38b78c",
   "metadata": {},
   "outputs": [],
   "source": []
  }
 ],
 "metadata": {
  "kernelspec": {
   "display_name": "Julia 1.9.3",
   "language": "julia",
   "name": "julia-1.9"
  },
  "language_info": {
   "file_extension": ".jl",
   "mimetype": "application/julia",
   "name": "julia",
   "version": "1.9.3"
  }
 },
 "nbformat": 4,
 "nbformat_minor": 5
}

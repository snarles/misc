{
 "cells": [
  {
   "cell_type": "markdown",
   "id": "052be005",
   "metadata": {},
   "source": [
    "Beat-n game with 10 pt limit"
   ]
  },
  {
   "cell_type": "markdown",
   "id": "72817bb1",
   "metadata": {},
   "source": [
    "## Spud code"
   ]
  },
  {
   "cell_type": "code",
   "execution_count": 1,
   "id": "494818e8",
   "metadata": {},
   "outputs": [],
   "source": [
    "using Random\n",
    "using DataFrames\n",
    "using CSV\n",
    "using DelimitedFiles\n",
    "using Statistics\n",
    "using Printf\n",
    "using LinearAlgebra\n",
    "using Dates\n",
    "using JLD2"
   ]
  },
  {
   "cell_type": "code",
   "execution_count": 2,
   "id": "ac830f74",
   "metadata": {},
   "outputs": [
    {
     "data": {
      "text/plain": [
       "df_to_spuds (generic function with 1 method)"
      ]
     },
     "execution_count": 2,
     "metadata": {},
     "output_type": "execute_result"
    }
   ],
   "source": [
    "struct Spud\n",
    "    name::String\n",
    "    h::Int64\n",
    "    f::Int64\n",
    "    l::Int64\n",
    "    p::Int64\n",
    "    r::Int64\n",
    "    s::Int64\n",
    "    a1::Int64\n",
    "end\n",
    "\n",
    "const MXV = 9\n",
    "const MNV = 1\n",
    "\n",
    "function compare_int_list(as::Vector{Int64}, bs::Vector{Int64}, tiebreaker::Int64 = 0)::Int64\n",
    "    n = min(length(as), length(bs))\n",
    "    for i in 1:n\n",
    "        if as[i] != bs[i]\n",
    "            return sign(as[i] - bs[i])\n",
    "        end\n",
    "    end\n",
    "    return tiebreaker\n",
    "end\n",
    "\n",
    "function spud_h_seq(a::Spud)::Vector{Int64}\n",
    "    return [a.h, a.s, a.r, a.p, a.l, a.f]\n",
    "end\n",
    "\n",
    "function spud_f_seq(a::Spud)::Vector{Int64}\n",
    "    return [a.f, a.s, a.r, a.p, a.l, a.h]\n",
    "end\n",
    "\n",
    "function spud_l_seq(a::Spud)::Vector{Int64}\n",
    "    return [a.l]\n",
    "end\n",
    "\n",
    "function spud_p_seq(a::Spud)::Vector{Int64}\n",
    "    return [a.p, a.l]\n",
    "end\n",
    "\n",
    "function spud_r_seq(a::Spud)::Vector{Int64}\n",
    "    return [a.r, a.f]\n",
    "end\n",
    "\n",
    "function spud_s_seq(a::Spud)::Vector{Int64}\n",
    "    return [a.s, a.h]\n",
    "end\n",
    "\n",
    "function spud_utb_seq(a::Spud)::Vector{Int64}\n",
    "    return [a.a1, a.h, a.f, a.l, a.p, a.r, a.s]\n",
    "end\n",
    "\n",
    "function eval_finds(a::Spud, b::Spud, tiebreaker::Int64 = 0)::Int64\n",
    "    ev = compare_int_list(spud_f_seq(a), spud_h_seq(b), tiebreaker)\n",
    "    ans = ev\n",
    "end\n",
    "\n",
    "function eval_melee(a::Spud, b::Spud, tiebreaker1::Int64 = 0, tiebreaker2::Int64 = 0)::Int64\n",
    "    comp_p = compare_int_list(spud_p_seq(a), spud_p_seq(b), tiebreaker1)\n",
    "    comp_r = compare_int_list(spud_r_seq(a), spud_r_seq(b), tiebreaker1)\n",
    "    comp_s = compare_int_list(spud_s_seq(a), spud_s_seq(b), tiebreaker1)\n",
    "    ev = 4 * comp_p + 3 * comp_r + 2 * comp_s\n",
    "    return sign(ev + (1-abs(ev))*tiebreaker2)\n",
    "end\n",
    "\n",
    "function eval_battle(a::Spud, b::Spud)::Int64\n",
    "    utb = compare_int_list(spud_utb_seq(a), spud_utb_seq(b), 0) # universal tiebreaker\n",
    "    if utb == 0\n",
    "        return 0\n",
    "    end\n",
    "    a_finds = eval_finds(a, b, utb)==1\n",
    "    b_finds = eval_finds(b, a, utb)==1\n",
    "    melee_win = eval_melee(a, b, 0, 0)\n",
    "    luck_win = compare_int_list([a.l, melee_win], [b.l, -melee_win], 0)\n",
    "    if melee_win ==1 && luck_win ==1\n",
    "        return 1\n",
    "    end\n",
    "    if melee_win == -1 && luck_win == -1\n",
    "        return -1\n",
    "    end\n",
    "    if a_finds && b_finds\n",
    "        return melee_win\n",
    "    end\n",
    "    if a_finds && !b_finds\n",
    "        return 1\n",
    "    end\n",
    "    if !a_finds && b_finds\n",
    "        return -1\n",
    "    end\n",
    "    if !a_finds && !b_finds\n",
    "        return luck_win\n",
    "    end\n",
    "end\n",
    "\n",
    "function eval_battle_list(a::Spud, bs::Array{Spud})::Int\n",
    "    score = 0\n",
    "    for ii in 1:length(bs)\n",
    "        score = score + eval_battle(a, bs[ii])\n",
    "    end\n",
    "    return score\n",
    "end\n",
    "\n",
    "function eval_battle_list2(a::Spud, bs::Array{Spud}, w::Vector{Float64})::AbstractFloat\n",
    "    score = 0.0\n",
    "    for ii in 1:length(bs)\n",
    "        score = score + w[ii] * eval_battle(a, bs[ii])\n",
    "    end\n",
    "    return score\n",
    "end\n",
    "\n",
    "function spuds_to_df(as::Array{Spud})::DataFrame\n",
    "    names = Array{String}(undef, length(as))\n",
    "    hs = Array{Int}(undef, length(as))\n",
    "    fs = Array{Int}(undef, length(as))\n",
    "    ls = Array{Int}(undef, length(as))\n",
    "    ps = Array{Int}(undef, length(as))\n",
    "    rs = Array{Int}(undef, length(as))\n",
    "    ss = Array{Int}(undef, length(as))\n",
    "    a1s = Array{Int}(undef, length(as))\n",
    "    for ii in 1:length(as)\n",
    "        names[ii] = as[ii].name\n",
    "        hs[ii] = as[ii].h\n",
    "        fs[ii] = as[ii].f\n",
    "        ls[ii] = as[ii].l\n",
    "        ps[ii] = as[ii].p\n",
    "        rs[ii] = as[ii].r\n",
    "        ss[ii] = as[ii].s\n",
    "        a1s[ii] = as[ii].a1\n",
    "    end\n",
    "    df = DataFrame(name = names, h = hs, f = fs, l = ls, p = ps, r = rs, s = ss, a1 = a1s)\n",
    "    return df\n",
    "end\n",
    "\n",
    "function fpart(x::AbstractFloat)::AbstractFloat\n",
    "  return x - trunc(x)\n",
    "end\n",
    "\n",
    "# for legacy dfs without abilities\n",
    "function df_to_spuds0(df::DataFrame)::Array{Spud}\n",
    "    n = size(df)[1]\n",
    "    as = Array{Spud}(undef, n)\n",
    "    for i in 1:n\n",
    "        as[i] = Spud(df[i, :name], df[i, :h], df[i, :f], df[i, :l], df[i, :p], df[i, :r], df[i, :s], ability_none)\n",
    "    end\n",
    "    return as\n",
    "end\n",
    "\n",
    "function df_to_spuds(df::DataFrame)::Array{Spud}\n",
    "    n = size(df)[1]\n",
    "    as = Array{Spud}(undef, n)\n",
    "    for i in 1:n\n",
    "        as[i] = Spud(df[i, :name], df[i, :h], df[i, :f], df[i, :l], df[i, :p], df[i, :r], df[i, :s], df[i, :a1])\n",
    "    end\n",
    "    return as\n",
    "end\n",
    "\n"
   ]
  },
  {
   "cell_type": "markdown",
   "id": "66e71132",
   "metadata": {},
   "source": [
    "## Get spuds with cost 10 and filter nondominated"
   ]
  },
  {
   "cell_type": "code",
   "execution_count": 3,
   "id": "638f1e65",
   "metadata": {},
   "outputs": [
    {
     "data": {
      "text/plain": [
       "74"
      ]
     },
     "execution_count": 3,
     "metadata": {},
     "output_type": "execute_result"
    }
   ],
   "source": [
    "function get_library(cost, n_init = 10000)\n",
    "    ffs = Array{Spud}(undef, n_init)\n",
    "    ff_i = 0\n",
    "    hrange = MNV:MXV\n",
    "    frange = MNV:MXV\n",
    "    lrange = MNV:MXV\n",
    "    prange = MNV:MXV\n",
    "    rrange = MNV:MXV\n",
    "    srange = MNV:MXV\n",
    "    for h in hrange\n",
    "        for f in frange\n",
    "            for l in lrange\n",
    "                for p in prange\n",
    "                    for r in rrange\n",
    "                        for s in srange\n",
    "                            if (h+f+l+p+r+s == cost)\n",
    "                                ff = Spud(\"\", h,f,l,p,r,s,999)\n",
    "                                ff_i += 1\n",
    "                                ffs[ff_i] = ff\n",
    "                            end\n",
    "                        end\n",
    "                    end                        \n",
    "                end                        \n",
    "            end\n",
    "        end\n",
    "    end\n",
    "    ffs = ffs[1:ff_i]\n",
    "    return unique(ffs)\n",
    "end\n",
    "\n",
    "function get_payoffs(env::Array{Spud})::Array{Int64}\n",
    "    n_nash = length(env)\n",
    "    payoffs = Array{Int64}(undef, (n_nash, n_nash))\n",
    "    for i in 1:n_nash\n",
    "        for j in 1:n_nash\n",
    "            payoffs[i, j] = eval_battle(env[i], env[j])\n",
    "        end\n",
    "    end\n",
    "    return payoffs\n",
    "end\n",
    "\n",
    "function filter_nondominated2(as::Array{Spud})::Array{Spud}\n",
    "    mat = get_payoffs(as);\n",
    "    isDominated = zeros(Int64, length(as));\n",
    "    for i in 1:length(as)\n",
    "        v = mat[i, :]\n",
    "        bv = ones(Int64, length(as))\n",
    "        for j in 1:length(as)\n",
    "            bv = bv .* (mat[:, j] .>= v[j])\n",
    "        end\n",
    "        if sum(bv) > 1\n",
    "            isDominated[i] = 1\n",
    "        end\n",
    "    end\n",
    "    return as[isDominated .== 0]\n",
    "end\n",
    "\n",
    "function spud2int(a::Spud)::Int64\n",
    "    return a.h * 100000 + a.f * 10000 + a.l * 1000 + a.p * 100 + a.r * 10 + a.s\n",
    "end\n",
    "\n",
    "function eval_beatn(payoffs::Array{Int64}, as::Array{Int64}, bs::Array{Int64})::Int64\n",
    "    if length(bs)==0 || length(as)==0\n",
    "        return 0\n",
    "    end\n",
    "    a = as[end]\n",
    "    flag = true\n",
    "    count = 0\n",
    "    while flag\n",
    "        if payoffs[a, bs[end-count]]==1\n",
    "            count += 1\n",
    "        else\n",
    "            flag = false\n",
    "        end\n",
    "        if count == length(bs)\n",
    "            flag = false\n",
    "        end\n",
    "    end\n",
    "    return count\n",
    "end\n",
    "\n",
    "# tries all possible moves as extension of as\n",
    "function try_beatn(payoffs::Array{Int64}, as::Array{Int64}, bs::Array{Int64})::Array{Int64}\n",
    "    ans = Array{Int64}(undef, size(payoffs)[1])\n",
    "    for i in 1:size(payoffs)[1]\n",
    "        as2 = copy(as)\n",
    "        append!(as2, i)\n",
    "        ans[i] = eval_beatn(payoffs, as2, bs)\n",
    "    end\n",
    "    return ans\n",
    "end\n",
    "\n",
    "# returns 1 if Player A lost\n",
    "function lose_or_not(payoffs::Array{Int64}, as::Array{Int64}, bs::Array{Int64})::Int64\n",
    "    prev_score = eval_beatn(payoffs, bs, as)\n",
    "    scores = try_beatn(payoffs, as, bs)\n",
    "    if maximum(scores) < prev_score\n",
    "        return 1\n",
    "    end\n",
    "    return 0\n",
    "end\n",
    "\n",
    "function legal_moves(payoffs::Array{Int64}, as::Array{Int64}, bs::Array{Int64})::Array{Int64}\n",
    "    prev_score = eval_beatn(payoffs, bs, as)\n",
    "    scores = try_beatn(payoffs, as, bs)\n",
    "    cands = findall(scores .>= prev_score)\n",
    "    return cands\n",
    "end\n",
    "\n",
    "# picks randomly\n",
    "function choose_random(payoffs::Array{Int64}, as::Array{Int64}, bs::Array{Int64})::Int64\n",
    "    prev_score = eval_beatn(payoffs, bs, as)\n",
    "    scores = try_beatn(payoffs, as, bs)\n",
    "    cands = findall(scores .>= prev_score)\n",
    "    return rand(cands)\n",
    "end\n",
    "\n",
    "# picks aggressively\n",
    "function choose_aggro(payoffs::Array{Int64}, as::Array{Int64}, bs::Array{Int64})::Int64\n",
    "    scores = try_beatn(payoffs, as, bs)\n",
    "    cands = findall(scores .== maximum(scores))\n",
    "    return rand(cands)\n",
    "end\n",
    "\n",
    "function play_random_vs_aggro(\n",
    "        payoffs::Array{Int64}, \n",
    "        as::Array{Int64} = zeros(Int64, 0), \n",
    "        bs::Array{Int64} = zeros(Int64, 0))::Tuple{Int64, Array{Int64}, Array{Int64}}\n",
    "    if length(as) == 0\n",
    "        a = rand(1:size(payoffs)[1])\n",
    "        as = append!(as, a)\n",
    "    end\n",
    "    if length(bs) < length(as)\n",
    "        b = choose_aggro(payoffs, bs, as)\n",
    "        bs = append!(bs, b)\n",
    "    end\n",
    "    flag = true\n",
    "    a_win = 0\n",
    "    while flag\n",
    "        if lose_or_not(payoffs, as, bs)==1\n",
    "            flag = false\n",
    "            a_win = -1\n",
    "        else\n",
    "            # player A turn\n",
    "            a = choose_random(payoffs, as, bs)\n",
    "            as = append!(as, a)\n",
    "        end\n",
    "        if flag\n",
    "            if lose_or_not(payoffs, bs, as)==1\n",
    "                flag = false\n",
    "                a_win = 1\n",
    "            else\n",
    "                # player B turn\n",
    "                b = choose_aggro(payoffs, bs, as)\n",
    "                bs = append!(bs, b)\n",
    "            end\n",
    "        end\n",
    "    end\n",
    "    return (a_win, as, bs)\n",
    "end\n",
    "\n",
    "function play_random_vs_random(\n",
    "        payoffs::Array{Int64}, \n",
    "        as::Array{Int64} = zeros(Int64, 0), \n",
    "        bs::Array{Int64} = zeros(Int64, 0))::Tuple{Int64, Array{Int64}, Array{Int64}}\n",
    "    if length(as) == 0\n",
    "        a = rand(1:size(payoffs)[1])\n",
    "        as = append!(as, a)\n",
    "    end\n",
    "    if length(bs) < length(as)\n",
    "        b = choose_aggro(payoffs, bs, as)\n",
    "        bs = append!(bs, b)\n",
    "    end\n",
    "    flag = true\n",
    "    a_win = 0\n",
    "    while flag\n",
    "        if lose_or_not(payoffs, as, bs)==1\n",
    "            flag = false\n",
    "            a_win = -1\n",
    "        else\n",
    "            # player A turn\n",
    "            a = choose_random(payoffs, as, bs)\n",
    "            as = append!(as, a)\n",
    "        end\n",
    "        if flag\n",
    "            if lose_or_not(payoffs, bs, as)==1\n",
    "                flag = false\n",
    "                a_win = 1\n",
    "            else\n",
    "                # player B turn\n",
    "                b = choose_random(payoffs, bs, as)\n",
    "                bs = append!(bs, b)\n",
    "            end\n",
    "        end\n",
    "    end\n",
    "    return (a_win, as, bs)\n",
    "end\n",
    "\n",
    "function display_game(payoffs::Array{Int64}, as::Array{Int64}, bs::Array{Int64})\n",
    "    for i in 1:length(as)\n",
    "        print(libi[as[i]])\n",
    "        print(\" {\")\n",
    "        n = eval_beatn(payoffs, as[1:i], bs[1:(i-1)])\n",
    "        print(n)\n",
    "        print(\"}. \")\n",
    "        if i <= length(bs)\n",
    "            print(libi[bs[i]])\n",
    "            print(\" {\")\n",
    "            n = eval_beatn(payoffs, bs[1:i], as[1:i])\n",
    "            print(n)\n",
    "            print(\"}. \")\n",
    "        end\n",
    "        println()\n",
    "    end\n",
    "end\n",
    "\n",
    "\n",
    "lib0 = get_library(10);\n",
    "lib=filter_nondominated2(lib0);\n",
    "payoffs = get_payoffs(lib);\n",
    "s2ind = Dict(lib[i] => i for i in 1:length(lib));\n",
    "int2ind = Dict(spud2int(lib[i]) => i for i in 1:length(lib));\n",
    "libi = [spud2int(ff) for ff in lib];\n",
    "nlib = length(lib)"
   ]
  },
  {
   "cell_type": "code",
   "execution_count": 4,
   "id": "55a8029c",
   "metadata": {},
   "outputs": [
    {
     "name": "stdout",
     "output_type": "stream",
     "text": [
      " 111124 111133 111142 111214 111223 111232 111241 111313 111322 111331 111412 111421 111511 112114 112123 112132 112141 112213 112222 112231 112312 112321 112411 113113 113122 113131 113212 113221 113311 114112 114121 114211 121114 121123 121132 121213 121222 121231 121312 121321 121411 122113 122122 122212 122221 122311 123112 123211 131113 131122 131212 131221 131311 132112 132211 141112 141211 212113 212122 212131 212212 212221 212311 213112 213121 213211 214111 222112 222211 312112 312121 312211 313111 412111"
     ]
    }
   ],
   "source": [
    "for ff in lib\n",
    "    print(\" \")\n",
    "    print(100000 * ff.h + 10000 * ff.f + 1000 * ff.l + 100 * ff.p + 10 * ff.r + ff.s)\n",
    "end\n"
   ]
  },
  {
   "cell_type": "code",
   "execution_count": 5,
   "id": "b5aa8ad0",
   "metadata": {},
   "outputs": [
    {
     "name": "stdout",
     "output_type": "stream",
     "text": [
      "121321 {0}. 214111 {0}. \n",
      "213112 {0}. 313111 {0}. \n",
      "121321 {0}. 121222 {0}. \n",
      "113122 {0}. 111133 {2}. \n",
      "313111 {2}. 113131 {2}. \n",
      "214111 {2}. 114112 {3}. \n",
      "112213 {4}. \n"
     ]
    }
   ],
   "source": [
    "# check game lengths\n",
    "a1 = int2ind[121321]\n",
    "b1 = int2ind[214111]\n",
    "a2 = int2ind[213112]\n",
    "b2 = int2ind[313111]\n",
    "a3 = int2ind[121321]\n",
    "b3 = int2ind[121222]\n",
    "a4 = int2ind[113122]\n",
    "b4 = int2ind[111133]\n",
    "#a_win, as, bs = play_random_vs_aggro(payoffs, [a1,a2,a3,a4],[b1,b2,b3,b4])\n",
    "a_win, as, bs = play_random_vs_random(payoffs, [a1,a2,a3,a4],[b1,b2,b3,b4])\n",
    "display_game(payoffs, as, bs)"
   ]
  },
  {
   "cell_type": "markdown",
   "id": "e8dbc8c4",
   "metadata": {},
   "source": [
    "## MCTS"
   ]
  },
  {
   "cell_type": "code",
   "execution_count": 6,
   "id": "867e5215",
   "metadata": {},
   "outputs": [
    {
     "data": {
      "text/plain": [
       "grow_tree (generic function with 2 methods)"
      ]
     },
     "execution_count": 6,
     "metadata": {},
     "output_type": "execute_result"
    }
   ],
   "source": [
    "function intarr_to_string(as::Array{Int64})::String\n",
    "    return join([convert(Char, a+32) for a in as])\n",
    "end\n",
    "\n",
    "function string_to_intarr(s::String)::Array{Int64}\n",
    "    return [convert(Int64, s[i])-32 for i in 1:length(s)]\n",
    "end\n",
    "\n",
    "# s=intarr_to_string([i for i in 1:75])\n",
    "# as=string_to_intarr(s)\n",
    "# for i in as\n",
    "#     print(i)\n",
    "#     print(\" \")\n",
    "# end\n",
    "\n",
    "function split_arrs(zs::Array{Int64})::Tuple{Array{Int64},Array{Int64}}\n",
    "    if mod(length(zs), 2)==0\n",
    "        return (zs[1:2:(end-1)], zs[2:2:end])\n",
    "    else\n",
    "        return (zs[1:2:end], zs[2:2:(end-1)])\n",
    "    end\n",
    "end\n",
    "\n",
    "function merge_arrs(as::Array{Int64}, bs::Array{Int64})::Array{Int64}\n",
    "    zs = Array{Int64}(undef, length(as)+length(bs))\n",
    "    if mod(length(zs), 2)==0\n",
    "        zs[1:2:(end-1)]=as\n",
    "        zs[2:2:end]=bs\n",
    "    else\n",
    "        zs[1:2:end] = as\n",
    "    zs[2:2:(end-1)] = bs\n",
    "    end\n",
    "    return zs\n",
    "end\n",
    "\n",
    "function propagate_win(tree::Dict{String, Vector{Int64}}, leaf::String, win::Int64)::Dict{String, Vector{Int64}}\n",
    "    for i in 0:length(leaf)\n",
    "        if i==0\n",
    "            node=\"\"\n",
    "        else\n",
    "            node=leaf[1:i]\n",
    "        end\n",
    "        if haskey(tree, node)\n",
    "            tree[node][2] += 1\n",
    "            tree[node][1] += win\n",
    "        end\n",
    "    end\n",
    "    return tree\n",
    "end\n",
    "\n",
    "function append_move_to_leaf(leaf::String, move::Int64)::String\n",
    "    zs = string_to_intarr(leaf)\n",
    "    append!(zs, move)\n",
    "    return intarr_to_string(zs)\n",
    "end\n",
    "\n",
    "function get_children(payoffs::Array{Int64}, leaf::String)::Array{String}\n",
    "    # get arrays\n",
    "    as, bs = split_arrs(string_to_intarr(leaf))\n",
    "    if mod(length(leaf), 2)==0\n",
    "        player = 1\n",
    "    else\n",
    "        player = 2\n",
    "    end\n",
    "    # generate successors\n",
    "    if player==1\n",
    "        cands = legal_moves(payoffs, as, bs)\n",
    "    else\n",
    "        cands = legal_moves(payoffs, bs, as)\n",
    "    end\n",
    "    return [append_move_to_leaf(leaf, c) for c in cands]\n",
    "end\n",
    "\n",
    "function check_and_propagate_terminal(payoffs::Array{Int64}, tree::Dict{String, Vector{Int64}}, leaf::String)::Dict{String, Vector{Int64}}\n",
    "    children = get_children(payoffs, leaf)\n",
    "    if length(children) == 0\n",
    "        # indicate terminal\n",
    "        tree[leaf][3]=1\n",
    "        if mod(length(leaf), 2)==0\n",
    "            #p1 lost\n",
    "            tree = propagate_win(tree, leaf, 0)\n",
    "        else\n",
    "            #p1 won\n",
    "            tree = propagate_win(tree, leaf, 1)\n",
    "        end\n",
    "    end\n",
    "    return tree\n",
    "end\n",
    "\n",
    "function try_add_node(tree::Dict{String, Vector{Int64}}, node::String)::Dict{String, Vector{Int64}}\n",
    "    if haskey(tree, node)\n",
    "        return tree\n",
    "    else\n",
    "        tree[node] = [0,0,0]\n",
    "        return tree\n",
    "    end\n",
    "end\n",
    "\n",
    "function query_node(tree, node)::Array{Int64}\n",
    "    if haskey(tree, node)\n",
    "        return tree[node]\n",
    "    else\n",
    "        return [0,0,0]\n",
    "    end\n",
    "end\n",
    "\n",
    "function expand_leaf(\n",
    "        payoffs::Array{Int64}, tree::Dict{String, Vector{Int64}}, leaf::String)::Dict{String, Vector{Int64}}\n",
    "    # check if leaf is terminal\n",
    "    tree = check_and_propagate_terminal(payoffs, tree, leaf)\n",
    "    if tree[leaf][3]==1\n",
    "        return tree\n",
    "    end\n",
    "    # get arrays for leaf\n",
    "    as, bs = split_arrs(string_to_intarr(leaf))\n",
    "    if mod(length(leaf), 2)==0\n",
    "        player = 1\n",
    "    else\n",
    "        player = 2\n",
    "    end\n",
    "    # generate random successor\n",
    "    if player==1\n",
    "        cands = legal_moves(payoffs, as, bs)\n",
    "        newleaf = append_move_to_leaf(leaf, rand(cands))\n",
    "    else\n",
    "        cands = legal_moves(payoffs, bs, as)\n",
    "        newleaf = append_move_to_leaf(leaf, rand(cands))\n",
    "    end\n",
    "    tree = try_add_node(tree, newleaf)\n",
    "    tree = check_and_propagate_terminal(payoffs, tree, newleaf)\n",
    "    # play the match\n",
    "    as, bs = split_arrs(string_to_intarr(newleaf))\n",
    "    a_win, as2, bs2 = play_random_vs_random(payoffs, as, bs)\n",
    "    # propagate result\n",
    "    if a_win == 1\n",
    "        tree = propagate_win(tree, newleaf, 1)\n",
    "    else\n",
    "        tree = propagate_win(tree, newleaf, 0)\n",
    "    end\n",
    "    return tree\n",
    "end\n",
    "\n",
    "function sample_next_node(\n",
    "        payoffs::Array{Int64}, tree::Dict{String, Vector{Int64}}, node::String, \n",
    "        explore_const::Float64=1.4)::String\n",
    "    # values for UCT\n",
    "    n = tree[node][2]\n",
    "    # assumes that all children are added\n",
    "    children = get_children(payoffs, node)\n",
    "    counts = [query_node(tree, c)[2] for c in children]\n",
    "    wins = [query_node(tree, c)[1] for c in children]\n",
    "    if minimum(counts) == 0\n",
    "        sel = children[rand(findall(counts .== 0))]\n",
    "        return sel\n",
    "    end\n",
    "    if mod(length(node), 2)==1\n",
    "        wins = counts .- wins\n",
    "    end\n",
    "    scores = counts .* 0.0\n",
    "    for i in 1:length(scores)\n",
    "        if counts[i] > 0\n",
    "            scores[i] = wins[i]/counts[i] + explore_const * sqrt((log(n)/counts[i]))\n",
    "        end\n",
    "    end\n",
    "    sel = children[rand(findall(scores .== maximum(scores)))]\n",
    "    return sel\n",
    "end\n",
    "                            \n",
    "function random_leaf(payoffs::Array{Int64}, tree::Dict{String, Vector{Int64}}, node::String=\"\")::String\n",
    "    while query_node(tree,node)[2] > 1 && query_node(tree,node)[3] != 1\n",
    "        node = sample_next_node(payoffs, tree, node)\n",
    "    end\n",
    "    return node\n",
    "end\n",
    "                                    \n",
    "# exploit mode\n",
    "function sample_next_node2(\n",
    "        payoffs::Array{Int64}, tree::Dict{String, Vector{Int64}}, node::String, beta::Float64 = 1.0)::String\n",
    "    # values for UCT\n",
    "    n = tree[node][2]\n",
    "    # assumes that all children are added\n",
    "    children = get_children(payoffs, node)\n",
    "    counts = [query_node(tree, c)[2] for c in children]\n",
    "    wins = [query_node(tree, c)[1] for c in children]\n",
    "    if mod(length(node), 2)==1\n",
    "        wins = counts .- wins\n",
    "    end\n",
    "    scores = counts .* 0.0\n",
    "    for i in 1:length(scores)\n",
    "        if counts[i] > 0\n",
    "            scores[i] = wins[i]/counts[i]\n",
    "        end\n",
    "    end\n",
    "    scores = [exp(beta*x) for x in scores]\n",
    "    scores = scores./sum(scores)\n",
    "    cs = cumsum(scores)\n",
    "    z = rand(1)[1]\n",
    "    sel = children[minimum(findall(cs .>= z))]\n",
    "    return sel\n",
    "end\n",
    "\n",
    "function display_node(payoffs::Array{Int64}, tree::Dict{String, Vector{Int64}}, node::String)\n",
    "    print(\"Node: \")\n",
    "    println(node)\n",
    "    as, bs = split_arrs(string_to_intarr(node))\n",
    "    display_game(payoffs, as, bs)\n",
    "    print(\"Stats: \")\n",
    "    print(query_node(tree,node)[1])\n",
    "    print(\"/\")\n",
    "    print(query_node(tree,node)[2])\n",
    "    print(\"=\")\n",
    "    s = string(query_node(tree,node)[1]/query_node(tree,node)[2])\n",
    "    println(s[1:min(5, length(s))])\n",
    "    if query_node(tree,node)[3]==1\n",
    "        println(\"[terminal] \")\n",
    "    end\n",
    "end\n",
    "\n",
    "function display_path(payoffs::Array{Int64}, tree::Dict{String, Vector{Int64}}, leaf::String)\n",
    "    for i in 0:length(leaf)\n",
    "        if i==0\n",
    "            if haskey(tree, \"\")\n",
    "                display_node(payoffs, tree, \"\")\n",
    "                println()\n",
    "            end\n",
    "        else\n",
    "            if haskey(tree, leaf[1:i])\n",
    "                display_node(payoffs, tree, leaf[1:i])\n",
    "                println()\n",
    "            end\n",
    "        end\n",
    "    end\n",
    "end\n",
    "\n",
    "function display_choices(payoffs::Array{Int64}, tree::Dict{String, Vector{Int64}}, node::String)\n",
    "    children = get_children(payoffs, node)\n",
    "    display_node(payoffs, tree, node)\n",
    "    for c in children\n",
    "        println()\n",
    "        display_node(payoffs, tree, c)\n",
    "    end\n",
    "end\n",
    "\n",
    "function create_tree(node::String = \"\")::Dict{String, Vector{Int64}}\n",
    "    return Dict(node => [0,0,0])\n",
    "end\n",
    "\n",
    "function grow_tree(\n",
    "        payoffs::Array{Int64}, tree::Dict{String, Vector{Int64}}, node::String = \"\")::Dict{String, Vector{Int64}}\n",
    "    node = random_leaf(payoffs, tree, node)\n",
    "    tree = try_add_node(tree, node)\n",
    "    tree = check_and_propagate_terminal(payoffs, tree, node)\n",
    "    tree = expand_leaf(payoffs, tree, node)\n",
    "    return tree\n",
    "end\n",
    "\n",
    "function grow_tree(\n",
    "        payoffs::Array{Int64}, tree::Dict{String, Vector{Int64}}; \n",
    "        node::String = \"\", iters::Int64 = 1000)::Dict{String, Vector{Int64}}\n",
    "    for i in 1:iters\n",
    "        tree = grow_tree(payoffs, tree, node)\n",
    "    end\n",
    "    return tree\n",
    "end"
   ]
  },
  {
   "cell_type": "markdown",
   "id": "bf6b5dde",
   "metadata": {},
   "source": [
    "## Play vs MCTS\n",
    "### CPU first"
   ]
  },
  {
   "cell_type": "code",
   "execution_count": 128,
   "id": "ebd73335",
   "metadata": {},
   "outputs": [
    {
     "name": "stdout",
     "output_type": "stream",
     "text": [
      "Node: \n",
      "Stats: 0/0=NaN\n"
     ]
    }
   ],
   "source": [
    "n_mc = 100000\n",
    "beta = 20.0\n",
    "#game = \"c9\\\\\"\n",
    "game = \"\"\n",
    "tree = create_tree(game)\n",
    "display_node(payoffs, create_tree(game), game)"
   ]
  },
  {
   "cell_type": "code",
   "execution_count": 161,
   "id": "f3e5b5a5",
   "metadata": {},
   "outputs": [
    {
     "name": "stdout",
     "output_type": "stream",
     "text": [
      "Node: GbEH=\"dg\n",
      "121312 {0}. 213211 {0}. \n",
      "121222 {1}. 121321 {2}. \n",
      "113311 {2}. 111133 {3}. \n",
      "222112 {3}. 312121 {4}. \n",
      "Stats: 0/0=NaN\n"
     ]
    }
   ],
   "source": [
    "# player turn\n",
    "pmove = int2ind[312121]\n",
    "game = append_move_to_leaf(game, pmove)\n",
    "display_node(payoffs, create_tree(game), game)"
   ]
  },
  {
   "cell_type": "code",
   "execution_count": 158,
   "id": "1a08fafa",
   "metadata": {},
   "outputs": [
    {
     "name": "stdout",
     "output_type": "stream",
     "text": [
      "  9.284893 seconds (109.55 M allocations: 9.434 GiB, 32.29% gc time)\n",
      "Node: GbEH=\"d\n",
      "121312 {0}. 213211 {0}. \n",
      "121222 {1}. 121321 {2}. \n",
      "113311 {2}. 111133 {3}. \n",
      "222112 {3}. \n",
      "Stats: 0/0=NaN\n"
     ]
    }
   ],
   "source": [
    "# MCTS turn\n",
    "tree = create_tree(game);\n",
    "@time tree = grow_tree(payoffs, tree, node=game, iters=n_mc);\n",
    "game = sample_next_node2(payoffs, tree, game, beta);\n",
    "display_node(payoffs, create_tree(game), game)"
   ]
  },
  {
   "cell_type": "code",
   "execution_count": 162,
   "id": "bf79a691",
   "metadata": {},
   "outputs": [
    {
     "name": "stdout",
     "output_type": "stream",
     "text": [
      "Node: GbEH=\"dg\n",
      "121312 {0}. 213211 {0}. \n",
      "121222 {1}. 121321 {2}. \n",
      "113311 {2}. 111133 {3}. \n",
      "222112 {3}. 312121 {4}. \n",
      "Stats: 0/87388=0.0\n",
      "[terminal] \n"
     ]
    }
   ],
   "source": [
    "# cheat\n",
    "display_node(payoffs, tree, game)"
   ]
  },
  {
   "cell_type": "code",
   "execution_count": 117,
   "id": "0be05d62",
   "metadata": {},
   "outputs": [
    {
     "name": "stdout",
     "output_type": "stream",
     "text": [
      " 14.219853 seconds (164.53 M allocations: 15.641 GiB, 32.10% gc time)\n"
     ]
    }
   ],
   "source": [
    "# cheat and consult MCTS for next move\n",
    "tree = create_tree(game);\n",
    "@time tree = grow_tree(payoffs, tree, node=game, iters=n_mc);"
   ]
  },
  {
   "cell_type": "code",
   "execution_count": 160,
   "id": "9ae94505",
   "metadata": {},
   "outputs": [
    {
     "name": "stdout",
     "output_type": "stream",
     "text": [
      "Node: GbEH=\"d3\n",
      "121312 {0}. 213211 {0}. \n",
      "121222 {1}. 121321 {2}. \n",
      "113311 {2}. 111133 {3}. \n",
      "222112 {3}. 112222 {3}. \n",
      "Stats: 61/176=0.346\n",
      "Node: GbEH=\"dG\n",
      "121312 {0}. 213211 {0}. \n",
      "121222 {1}. 121321 {2}. \n",
      "113311 {2}. 111133 {3}. \n",
      "222112 {3}. 121312 {3}. \n",
      "Stats: 343/15364=0.022\n",
      "Node: GbEH=\"dG\n",
      "121312 {0}. 213211 {0}. \n",
      "121222 {1}. 121321 {2}. \n",
      "113311 {2}. 111133 {3}. \n",
      "222112 {3}. 121312 {3}. \n",
      "Stats: 343/15364=0.022\n",
      "Node: GbEH=\"dG\n",
      "121312 {0}. 213211 {0}. \n",
      "121222 {1}. 121321 {2}. \n",
      "113311 {2}. 111133 {3}. \n",
      "222112 {3}. 121312 {3}. \n",
      "Stats: 343/15364=0.022\n",
      "Node: GbEH=\"dg\n",
      "121312 {0}. 213211 {0}. \n",
      "121222 {1}. 121321 {2}. \n",
      "113311 {2}. 111133 {3}. \n",
      "222112 {3}. 312121 {4}. \n",
      "Stats: 0/87388=0.0\n",
      "[terminal] \n"
     ]
    }
   ],
   "source": [
    "move = sample_next_node2(payoffs, tree, game, 1.0);\n",
    "display_node(payoffs, tree, move)\n",
    "move = sample_next_node2(payoffs, tree, game, 5.0);\n",
    "display_node(payoffs, tree, move)\n",
    "move = sample_next_node2(payoffs, tree, game, 5.0);\n",
    "display_node(payoffs, tree, move)\n",
    "move = sample_next_node2(payoffs, tree, game, 20.0);\n",
    "display_node(payoffs, tree, move)\n",
    "move = sample_next_node2(payoffs, tree, game, 20.0);\n",
    "display_node(payoffs, tree, move)\n"
   ]
  },
  {
   "cell_type": "code",
   "execution_count": 156,
   "id": "e0f5b5e2",
   "metadata": {},
   "outputs": [
    {
     "name": "stdout",
     "output_type": "stream",
     "text": [
      "Node: GbEH=L\n",
      "121312 {0}. 213211 {0}. \n",
      "121222 {1}. 121321 {2}. \n",
      "113311 {2}. 122212 {2}. \n",
      "Stats: 36/80=0.45\n",
      "Node: GbEH=\"\n",
      "121312 {0}. 213211 {0}. \n",
      "121222 {1}. 121321 {2}. \n",
      "113311 {2}. 111133 {3}. \n",
      "Stats: 111/1743=0.063\n",
      "Node: GbEH=+\n",
      "121312 {0}. 213211 {0}. \n",
      "121222 {1}. 121321 {2}. \n",
      "113311 {2}. 111412 {3}. \n",
      "Stats: 114/3290=0.034\n",
      "Node: GbEH=g\n",
      "121312 {0}. 213211 {0}. \n",
      "121222 {1}. 121321 {2}. \n",
      "113311 {2}. 312121 {3}. \n",
      "Stats: 92/5765=0.015\n",
      "Node: GbEH=\"\n",
      "121312 {0}. 213211 {0}. \n",
      "121222 {1}. 121321 {2}. \n",
      "113311 {2}. 111133 {3}. \n",
      "Stats: 111/1743=0.063\n"
     ]
    }
   ],
   "source": [
    "move = sample_next_node2(payoffs, tree, game, 0.0);\n",
    "display_node(payoffs, tree, move)\n",
    "move = sample_next_node2(payoffs, tree, game, 0.0);\n",
    "display_node(payoffs, tree, move)\n",
    "move = sample_next_node2(payoffs, tree, game, 0.0);\n",
    "display_node(payoffs, tree, move)\n",
    "move = sample_next_node2(payoffs, tree, game, 0.0);\n",
    "display_node(payoffs, tree, move)\n",
    "move = sample_next_node2(payoffs, tree, game, 0.0);\n",
    "display_node(payoffs, tree, move)"
   ]
  },
  {
   "cell_type": "code",
   "execution_count": null,
   "id": "0db59bf3",
   "metadata": {},
   "outputs": [],
   "source": []
  },
  {
   "cell_type": "code",
   "execution_count": 10,
   "id": "ca67d420",
   "metadata": {},
   "outputs": [
    {
     "data": {
      "text/plain": [
       "false"
      ]
     },
     "execution_count": 10,
     "metadata": {},
     "output_type": "execute_result"
    }
   ],
   "source": [
    "length(get_children(payoffs, game))==0"
   ]
  },
  {
   "cell_type": "code",
   "execution_count": null,
   "id": "2e38f0c8",
   "metadata": {},
   "outputs": [],
   "source": []
  },
  {
   "cell_type": "code",
   "execution_count": null,
   "id": "a74bb21c",
   "metadata": {},
   "outputs": [],
   "source": []
  },
  {
   "cell_type": "code",
   "execution_count": null,
   "id": "75e42df9",
   "metadata": {},
   "outputs": [],
   "source": []
  },
  {
   "cell_type": "code",
   "execution_count": 11,
   "id": "f672e24c",
   "metadata": {},
   "outputs": [],
   "source": [
    "# get_children(payoffs, game)"
   ]
  },
  {
   "cell_type": "code",
   "execution_count": 12,
   "id": "6531c8c8",
   "metadata": {},
   "outputs": [
    {
     "name": "stdout",
     "output_type": "stream",
     "text": [
      "Node: c9\n",
      "214111 {0}. 113122 {0}. \n",
      "Stats: 0/0=NaN\n"
     ]
    }
   ],
   "source": [
    "node = game[1:2]\n",
    "display_node(payoffs, create_tree(node), node)"
   ]
  },
  {
   "cell_type": "code",
   "execution_count": 13,
   "id": "952122ff",
   "metadata": {},
   "outputs": [
    {
     "name": "stdout",
     "output_type": "stream",
     "text": [
      "  2.919289 seconds (46.16 M allocations: 3.648 GiB, 16.33% gc time)\n"
     ]
    },
    {
     "data": {
      "text/plain": [
       "Dict{String, Vector{Int64}} with 17405 entries:\n",
       "  \"c92aS!\"   => [0, 1, 0]\n",
       "  \"c9\\\"aEF\"  => [0, 1, 0]\n",
       "  \"c9+-K\"    => [1, 1, 0]\n",
       "  \"c9`f<\"    => [0, 1, 0]\n",
       "  \"c9EhP\"    => [0, 1, 0]\n",
       "  \"c9ibQZ\"   => [0, 1, 0]\n",
       "  \"c9\\\"#'\"   => [0, 1, 0]\n",
       "  \"c9?@%\"    => [0, 1, 0]\n",
       "  \"c9+hW\"    => [1, 1, 0]\n",
       "  \"c9S*>]\"   => [0, 1, 0]\n",
       "  \"c9\\\\BW\"   => [0, 1, 0]\n",
       "  \"c9ifd\"    => [1, 1, 0]\n",
       "  \"c9i9(=\"   => [1, 1, 0]\n",
       "  \"c9F*+\"    => [1, 1, 0]\n",
       "  \"c9:eE5\"   => [1, 1, 0]\n",
       "  \"c9YXJ\"    => [0, 1, 0]\n",
       "  \"c9f4i;\"   => [1, 1, 0]\n",
       "  \"c9iR:\"    => [1, 1, 0]\n",
       "  \"c9:&3\"    => [0, 1, 0]\n",
       "  \"c9i'C\"    => [1, 1, 0]\n",
       "  \"c9H7K4\"   => [1, 1, 0]\n",
       "  \"c9_\\$\"    => [0, 1, 0]\n",
       "  \"c9'fe\"    => [0, 1, 0]\n",
       "  \"c9f\\\\_\"   => [0, 1, 0]\n",
       "  \"c9\\\"4>\\$\" => [1, 1, 0]\n",
       "  ⋮          => ⋮"
      ]
     },
     "execution_count": 13,
     "metadata": {},
     "output_type": "execute_result"
    }
   ],
   "source": [
    "tree = create_tree(node)\n",
    "@time tree = grow_tree(payoffs, tree, node=node, iters=n_mc)"
   ]
  },
  {
   "cell_type": "markdown",
   "id": "a4d8d637",
   "metadata": {},
   "source": [
    "## Mate in X analysis"
   ]
  },
  {
   "cell_type": "code",
   "execution_count": 14,
   "id": "cc0b86b2",
   "metadata": {},
   "outputs": [
    {
     "data": {
      "text/plain": [
       "expand_game_tree (generic function with 1 method)"
      ]
     },
     "execution_count": 14,
     "metadata": {},
     "output_type": "execute_result"
    }
   ],
   "source": [
    "function mate_checker(\n",
    "        payoffs::Array{Int64},  \n",
    "        node00::String;\n",
    "        nits_tree::Int64 = 3,\n",
    "        nits_cands::Int64 = 1000,\n",
    "        verbose::Bool = true\n",
    "        )::Tuple{Float64, Int64}\n",
    "    tree = create_tree(node00)\n",
    "    for i in 1:nits_tree\n",
    "        tree = expand_game_tree(payoffs, tree)\n",
    "    end\n",
    "    # Check mate-in-X property\n",
    "    lens = [length(k) for k in keys(tree)]\n",
    "    minlen = minimum(lens)\n",
    "    maxlen = maximum(lens)\n",
    "    game_values = Dict(node00 => 0.0)\n",
    "    for len in maxlen:-1:minlen\n",
    "        wvalue = -1.0 # if len is even and node is terminal, then pl 1 loses\n",
    "        if mod(len, 2)==1\n",
    "            wvalue = 1.0\n",
    "        end\n",
    "        for node in [nd for nd in keys(tree) if length(nd)==len]\n",
    "            if tree[node][3]==1\n",
    "                game_values[node]=wvalue\n",
    "            elseif length(node)==maxlen\n",
    "                game_values[node]=0\n",
    "            else\n",
    "                children=get_children(payoffs, node)\n",
    "                vals = [game_values[c] for c in children]\n",
    "                if mod(len, 2)==1\n",
    "                    # player 2 to move: get minimum of children values\n",
    "                    game_values[node] = minimum(vals)\n",
    "                else\n",
    "                    # player 1 to move: get maximum of children values\n",
    "                    game_values[node] = maximum(vals)\n",
    "                end\n",
    "            end\n",
    "        end\n",
    "    end\n",
    "    # check length of best resistance\n",
    "    best_res_length = Dict{String,Int64}()\n",
    "    val = game_values[node00]\n",
    "    if val > 0\n",
    "        resister = 1\n",
    "    else\n",
    "        resister = 0 # player 2\n",
    "    end\n",
    "    for iter in 1:nits_cands\n",
    "        node = node00\n",
    "        val = game_values[node00]\n",
    "        flag = true\n",
    "        while flag\n",
    "            cands = [c for c in keys(game_values) if length(c)==(length(node)+1) && c[1:length(node)]==node && game_values[c]==val]\n",
    "            if length(cands) > 0\n",
    "                node = rand(cands)\n",
    "            else\n",
    "                flag = false\n",
    "            end\n",
    "        end\n",
    "        best_res_length[node] = length(node)-minlen\n",
    "    end\n",
    "    # Range of BRs\n",
    "    lens_br = [length(k) for k in keys(best_res_length)]\n",
    "    minlen_br = minlen\n",
    "    maxlen_br = maximum(lens_br)\n",
    "    for len in maxlen_br:-1:minlen_br\n",
    "        nodes = unique([node[1:len] for node in keys(best_res_length) if length(node) >= len])\n",
    "        for node in nodes\n",
    "            if haskey(best_res_length, node)\n",
    "                # do nothing\n",
    "            else\n",
    "                children = [c for c in keys(best_res_length) if length(c) == (length(node)+1) && c[1:length(node)]==node]\n",
    "                brs = [best_res_length[c] for c in children]\n",
    "                if mod(length(node), 2)==resister\n",
    "                    # current node is resister to play\n",
    "                    best_res_length[node] = maximum(brs)\n",
    "                else\n",
    "                    best_res_length[node] = minimum(brs)                \n",
    "                end\n",
    "            end\n",
    "        end\n",
    "    end\n",
    "    if verbose\n",
    "        node = node00\n",
    "        br = best_res_length[node00]\n",
    "        flag = true\n",
    "        while flag\n",
    "            cands = [nd for nd in keys(best_res_length) if length(nd)==(length(node)+1) && best_res_length[nd]==br && nd[1:length(node)]==node]\n",
    "            if length(cands)==0\n",
    "                flag = false\n",
    "            else\n",
    "                node = rand(cands)\n",
    "            end\n",
    "        end\n",
    "        display_path(payoffs, tree, node)\n",
    "    end\n",
    "    return (game_values[node00], best_res_length[node00])\n",
    "end\n",
    "\n",
    "function expand_game_tree(payoffs::Array{Int64},  tree::Dict{String, Vector{Int64}})::Dict{String, Vector{Int64}}\n",
    "    maxlen = maximum([length(nd) for nd in keys(tree)])\n",
    "    nodes = [nd for nd in keys(tree) if length(nd)==maxlen]\n",
    "    for node in nodes\n",
    "        children = get_children(payoffs, node)\n",
    "        for c in children\n",
    "            tree = try_add_node(tree, c)\n",
    "            tree = check_and_propagate_terminal(payoffs, tree, c)\n",
    "        end\n",
    "    end\n",
    "    return tree\n",
    "end"
   ]
  },
  {
   "cell_type": "code",
   "execution_count": 15,
   "id": "aa6f93c0",
   "metadata": {},
   "outputs": [
    {
     "name": "stdout",
     "output_type": "stream",
     "text": [
      "Node: %ZU7C`:#\n",
      "111223 {0}. 212113 {1}. \n",
      "131311 {1}. 112411 {1}. \n",
      "121132 {1}. 213112 {1}. \n",
      "113131 {3}. 111142 {3}. \n",
      "Stats: 81/228=0.355\n",
      "\n",
      "Node: %ZU7C`:#a\n",
      "111223 {0}. 212113 {1}. \n",
      "131311 {1}. 112411 {1}. \n",
      "121132 {1}. 213112 {1}. \n",
      "113131 {3}. 111142 {3}. \n",
      "213121 {4}. \n",
      "Stats: 2/2=1.0\n",
      "\n",
      "Node: %ZU7C`:#aE\n",
      "111223 {0}. 212113 {1}. \n",
      "131311 {1}. 112411 {1}. \n",
      "121132 {1}. 213112 {1}. \n",
      "113131 {3}. 111142 {3}. \n",
      "213121 {4}. 121222 {5}. \n",
      "Stats: 2/2=1.0\n",
      "\n",
      "Node: %ZU7C`:#aE;\n",
      "111223 {0}. 212113 {1}. \n",
      "131311 {1}. 112411 {1}. \n",
      "121132 {1}. 213112 {1}. \n",
      "113131 {3}. 111142 {3}. \n",
      "213121 {4}. 121222 {5}. \n",
      "113212 {5}. \n",
      "Stats: 1/1=1.0\n",
      "[terminal] \n",
      "\n",
      "  1.307653 seconds (6.72 M allocations: 242.064 MiB, 3.87% gc time, 54.66% compilation time)\n"
     ]
    },
    {
     "data": {
      "text/plain": [
       "(1.0, 3)"
      ]
     },
     "execution_count": 15,
     "metadata": {},
     "output_type": "execute_result"
    }
   ],
   "source": [
    "node00 = \"%ZU7C`:#\"\n",
    "@time mate_checker(payoffs, node00, nits_tree=4, verbose=true)"
   ]
  },
  {
   "cell_type": "markdown",
   "id": "c53d1d9b",
   "metadata": {},
   "source": [
    "#### debugging code"
   ]
  },
  {
   "cell_type": "code",
   "execution_count": 16,
   "id": "9046bcaf",
   "metadata": {
    "scrolled": true
   },
   "outputs": [
    {
     "name": "stdout",
     "output_type": "stream",
     "text": [
      "Node: %ZU7C`:#\n",
      "111223 {0}. 212113 {1}. \n",
      "131311 {1}. 112411 {1}. \n",
      "121132 {1}. 213112 {1}. \n",
      "113131 {3}. 111142 {3}. \n",
      "Stats: 81/82=0.987\n"
     ]
    }
   ],
   "source": [
    "node00 = \"%ZU7C`:#\"\n",
    "tree = create_tree(node00)\n",
    "for i in 1:3\n",
    "    tree = expand_game_tree(payoffs, tree)\n",
    "end\n",
    "display_node(payoffs, tree, node00)"
   ]
  },
  {
   "cell_type": "code",
   "execution_count": 17,
   "id": "8f6187a8",
   "metadata": {},
   "outputs": [
    {
     "data": {
      "text/plain": [
       "81-element Vector{String}:\n",
       " \"%ZU7C`:#E2c\"\n",
       " \"%ZU7C`:#E&a\"\n",
       " \"%ZU7C`:#;+c\"\n",
       " \"%ZU7C`:#E38\"\n",
       " \"%ZU7C`:#E3c\"\n",
       " \"%ZU7C`:#E&8\"\n",
       " \"%ZU7C`:#L+a\"\n",
       " \"%ZU7C`:#;5c\"\n",
       " \"%ZU7C`:#G+c\"\n",
       " \"%ZU7C`:#aE;\"\n",
       " \"%ZU7C`:#E5a\"\n",
       " \"%ZU7C`:#L)c\"\n",
       " \"%ZU7C`:#;%c\"\n",
       " ⋮\n",
       " \"%ZU7C`:#E;c\"\n",
       " \"%ZU7C`:#G+a\"\n",
       " \"%ZU7C`:#;)a\"\n",
       " \"%ZU7C`:#G5b\"\n",
       " \"%ZU7C`:#G)c\"\n",
       " \"%ZU7C`:#G%a\"\n",
       " \"%ZU7C`:#E+b\"\n",
       " \"%ZU7C`:#E5b\"\n",
       " \"%ZU7C`:#L3c\"\n",
       " \"%ZU7C`:#E58\"\n",
       " \"%ZU7C`:#E]c\"\n",
       " \"%ZU7C`:#G)b\""
      ]
     },
     "execution_count": 17,
     "metadata": {},
     "output_type": "execute_result"
    }
   ],
   "source": [
    "[nd for nd in keys(tree) if tree[nd][3]==1 && length(nd)==11]"
   ]
  },
  {
   "cell_type": "code",
   "execution_count": 18,
   "id": "afa3f5b8",
   "metadata": {},
   "outputs": [
    {
     "name": "stdout",
     "output_type": "stream",
     "text": [
      "Node: %ZU7C`:#\n",
      "111223 {0}. 212113 {1}. \n",
      "131311 {1}. 112411 {1}. \n",
      "121132 {1}. 213112 {1}. \n",
      "113131 {3}. 111142 {3}. \n",
      "Stats: 81/82=0.987\n",
      "\n",
      "Node: %ZU7C`:#G\n",
      "111223 {0}. 212113 {1}. \n",
      "131311 {1}. 112411 {1}. \n",
      "121132 {1}. 213112 {1}. \n",
      "113131 {3}. 111142 {3}. \n",
      "121312 {3}. \n",
      "Stats: 12/12=1.0\n",
      "\n",
      "Node: %ZU7C`:#G5\n",
      "111223 {0}. 212113 {1}. \n",
      "131311 {1}. 112411 {1}. \n",
      "121132 {1}. 213112 {1}. \n",
      "113131 {3}. 111142 {3}. \n",
      "121312 {3}. 112312 {4}. \n",
      "Stats: 3/3=1.0\n",
      "\n",
      "Node: %ZU7C`:#G5b\n",
      "111223 {0}. 212113 {1}. \n",
      "131311 {1}. 112411 {1}. \n",
      "121132 {1}. 213112 {1}. \n",
      "113131 {3}. 111142 {3}. \n",
      "121312 {3}. 112312 {4}. \n",
      "213211 {5}. \n",
      "Stats: 1/1=1.0\n",
      "[terminal] \n",
      "\n"
     ]
    }
   ],
   "source": [
    "display_path(payoffs, tree, \"%ZU7C`:#G5b\")"
   ]
  },
  {
   "cell_type": "code",
   "execution_count": 19,
   "id": "d8d82c4b",
   "metadata": {},
   "outputs": [],
   "source": [
    "# Check mate-in-X property\n",
    "lens = [length(k) for k in keys(tree)]\n",
    "minlen = minimum(lens)\n",
    "maxlen = maximum(lens)\n",
    "game_values = Dict(node00 => 0.0)\n",
    "for len in maxlen:-1:minlen\n",
    "    wvalue = -1.0 # if len is even and node is terminal, then pl 1 loses\n",
    "    if mod(len, 2)==1\n",
    "        wvalue = 1.0\n",
    "    end\n",
    "    for node in [nd for nd in keys(tree) if length(nd)==len]\n",
    "        if tree[node][3]==1\n",
    "            game_values[node]=wvalue\n",
    "        elseif length(node)==maxlen\n",
    "            game_values[node]=0\n",
    "        else\n",
    "            children=get_children(payoffs, node)\n",
    "            vals = [game_values[c] for c in children]\n",
    "            if mod(len, 2)==1\n",
    "                # player 2 to move: get minimum of children values\n",
    "                game_values[node] = minimum(vals)\n",
    "            else\n",
    "                # player 1 to move: get maximum of children values\n",
    "                game_values[node] = maximum(vals)\n",
    "            end\n",
    "        end\n",
    "    end\n",
    "end"
   ]
  },
  {
   "cell_type": "code",
   "execution_count": 20,
   "id": "685593f4",
   "metadata": {},
   "outputs": [
    {
     "data": {
      "text/plain": [
       "1.0"
      ]
     },
     "execution_count": 20,
     "metadata": {},
     "output_type": "execute_result"
    }
   ],
   "source": [
    "game_values[\"%ZU7C`:#G5b\"]"
   ]
  },
  {
   "cell_type": "code",
   "execution_count": 21,
   "id": "770d2cca",
   "metadata": {},
   "outputs": [
    {
     "data": {
      "text/plain": [
       "1.0"
      ]
     },
     "execution_count": 21,
     "metadata": {},
     "output_type": "execute_result"
    }
   ],
   "source": [
    "game_values[\"%ZU7C`:#G5\"]"
   ]
  },
  {
   "cell_type": "code",
   "execution_count": 22,
   "id": "8827a5c7",
   "metadata": {},
   "outputs": [
    {
     "data": {
      "text/plain": [
       "4-element Vector{Pair{String, Float64}}:\n",
       " \"%ZU7C`:#G%\" => 1.0\n",
       " \"%ZU7C`:#G+\" => 1.0\n",
       " \"%ZU7C`:#G5\" => 1.0\n",
       " \"%ZU7C`:#G)\" => 1.0"
      ]
     },
     "execution_count": 22,
     "metadata": {},
     "output_type": "execute_result"
    }
   ],
   "source": [
    "[nd => game_values[nd] for nd in keys(game_values) if length(nd)==10 && nd[1:9]==\"%ZU7C`:#G\"]"
   ]
  },
  {
   "cell_type": "code",
   "execution_count": 23,
   "id": "ce6fe430",
   "metadata": {},
   "outputs": [
    {
     "data": {
      "text/plain": [
       "1.0"
      ]
     },
     "execution_count": 23,
     "metadata": {},
     "output_type": "execute_result"
    }
   ],
   "source": [
    "game_values[\"%ZU7C`:#G\"]"
   ]
  },
  {
   "cell_type": "code",
   "execution_count": 24,
   "id": "6166a4a0",
   "metadata": {},
   "outputs": [
    {
     "data": {
      "text/plain": [
       "1.0"
      ]
     },
     "execution_count": 24,
     "metadata": {},
     "output_type": "execute_result"
    }
   ],
   "source": [
    "game_values[node00]"
   ]
  },
  {
   "cell_type": "code",
   "execution_count": 25,
   "id": "0babf521",
   "metadata": {},
   "outputs": [
    {
     "data": {
      "text/plain": [
       "1"
      ]
     },
     "execution_count": 25,
     "metadata": {},
     "output_type": "execute_result"
    }
   ],
   "source": [
    "# check length of best resistance\n",
    "best_res_length = Dict{String,Int64}()\n",
    "val = game_values[node00]\n",
    "if val > 0\n",
    "    resister = 1\n",
    "else\n",
    "    resister = 0 # player 2\n",
    "end"
   ]
  },
  {
   "cell_type": "code",
   "execution_count": 26,
   "id": "868198ec",
   "metadata": {},
   "outputs": [
    {
     "data": {
      "text/plain": [
       "Dict{String, Int64} with 33 entries:\n",
       "  \"%ZU7C`:#L)c\" => 3\n",
       "  \"%ZU7C`:#;5b\" => 3\n",
       "  \"%ZU7C`:#;%c\" => 3\n",
       "  \"%ZU7C`:#aEL\" => 3\n",
       "  \"%ZU7C`:#L%b\" => 3\n",
       "  \"%ZU7C`:#L+b\" => 3\n",
       "  \"%ZU7C`:#;+b\" => 3\n",
       "  \"%ZU7C`:#;+c\" => 3\n",
       "  \"%ZU7C`:#;)c\" => 3\n",
       "  \"%ZU7C`:#;)a\" => 3\n",
       "  \"%ZU7C`:#L)a\" => 3\n",
       "  \"%ZU7C`:#;5a\" => 3\n",
       "  \"%ZU7C`:#bE;\" => 3\n",
       "  \"%ZU7C`:#G)c\" => 3\n",
       "  \"%ZU7C`:#G5b\" => 3\n",
       "  \"%ZU7C`:#L3b\" => 3\n",
       "  \"%ZU7C`:#G+b\" => 3\n",
       "  \"%ZU7C`:#G%a\" => 3\n",
       "  \"%ZU7C`:#;5c\" => 3\n",
       "  \"%ZU7C`:#aE;\" => 3\n",
       "  \"%ZU7C`:#;)b\" => 3\n",
       "  \"%ZU7C`:#G+c\" => 3\n",
       "  \"%ZU7C`:#G5a\" => 3\n",
       "  \"%ZU7C`:#cEL\" => 3\n",
       "  \"%ZU7C`:#;%b\" => 3\n",
       "  ⋮             => ⋮"
      ]
     },
     "execution_count": 26,
     "metadata": {},
     "output_type": "execute_result"
    }
   ],
   "source": [
    "for iter in 1:100\n",
    "    node = node00\n",
    "    val = game_values[node00]\n",
    "    flag = true\n",
    "    while flag\n",
    "        cands = [c for c in keys(game_values) if length(c)==(length(node)+1) && c[1:length(node)]==node && game_values[c]==val]\n",
    "        if length(cands) > 0\n",
    "            node = rand(cands)\n",
    "        else\n",
    "            flag = false\n",
    "        end\n",
    "    end\n",
    "    best_res_length[node] = length(node)-minlen\n",
    "end\n",
    "best_res_length"
   ]
  },
  {
   "cell_type": "code",
   "execution_count": 27,
   "id": "0a6c2f76",
   "metadata": {},
   "outputs": [
    {
     "data": {
      "text/plain": [
       "11"
      ]
     },
     "execution_count": 27,
     "metadata": {},
     "output_type": "execute_result"
    }
   ],
   "source": [
    "# Range of BRs\n",
    "lens_br = [length(k) for k in keys(best_res_length)]\n",
    "minlen_br = minlen\n",
    "maxlen_br = maximum(lens_br)"
   ]
  },
  {
   "cell_type": "code",
   "execution_count": 28,
   "id": "d1f5e03f",
   "metadata": {},
   "outputs": [],
   "source": [
    "for len in maxlen_br:-1:minlen_br\n",
    "    nodes = unique([node[1:len] for node in keys(best_res_length) if length(node) >= len])\n",
    "    for node in nodes\n",
    "        if haskey(best_res_length, node)\n",
    "            # do nothing\n",
    "        else\n",
    "            children = [c for c in keys(best_res_length) if length(c) == (length(node)+1) && c[1:length(node)]==node]\n",
    "            brs = [best_res_length[c] for c in children]\n",
    "            if mod(length(node), 2)==resister\n",
    "                # current node is resister to play\n",
    "                best_res_length[node] = maximum(brs)\n",
    "            else\n",
    "                best_res_length[node] = minimum(brs)                \n",
    "            end\n",
    "        end\n",
    "    end\n",
    "end"
   ]
  },
  {
   "cell_type": "code",
   "execution_count": 29,
   "id": "633ff794",
   "metadata": {},
   "outputs": [],
   "source": [
    "# node = node00\n",
    "# val = game_values[node00]\n",
    "# flag = true\n",
    "# while flag\n",
    "#     cands = [c for c in nodes_by_length[length(node)-minlen+2] if c[1:length(node)]==node && game_values[c]==val]\n",
    "#     if length(cands) > 0\n",
    "#         node = rand(cands)\n",
    "#     else\n",
    "#         flag = false\n",
    "#     end\n",
    "# end\n",
    "# display_path(payoffs, tree, node)"
   ]
  },
  {
   "cell_type": "code",
   "execution_count": 30,
   "id": "44f5e653",
   "metadata": {},
   "outputs": [
    {
     "data": {
      "text/plain": [
       "Any[]"
      ]
     },
     "execution_count": 30,
     "metadata": {},
     "output_type": "execute_result"
    }
   ],
   "source": [
    "[nd => best_res_length[nd] for nd in keys(best_res_length) if length(nd)==1]"
   ]
  },
  {
   "cell_type": "code",
   "execution_count": 31,
   "id": "8e9f7574",
   "metadata": {},
   "outputs": [
    {
     "data": {
      "text/plain": [
       "3"
      ]
     },
     "execution_count": 31,
     "metadata": {},
     "output_type": "execute_result"
    }
   ],
   "source": [
    "best_res_length[node00]"
   ]
  },
  {
   "cell_type": "code",
   "execution_count": 32,
   "id": "6a0b0316",
   "metadata": {},
   "outputs": [
    {
     "data": {
      "text/plain": [
       "1.0"
      ]
     },
     "execution_count": 32,
     "metadata": {},
     "output_type": "execute_result"
    }
   ],
   "source": [
    "game_values[node00]"
   ]
  },
  {
   "cell_type": "markdown",
   "id": "efe617a5",
   "metadata": {},
   "source": [
    "### automate finding mate-in-2 problems"
   ]
  },
  {
   "cell_type": "code",
   "execution_count": 33,
   "id": "018fe62f",
   "metadata": {
    "scrolled": false
   },
   "outputs": [
    {
     "name": "stdout",
     "output_type": "stream",
     "text": [
      "Checking mate...   0.068740 seconds (852.63 k allocations: 26.985 MiB, 12.41% compilation time)\n",
      "Checking mate...   0.257576 seconds (2.86 M allocations: 108.201 MiB, 6.17% gc time)\n",
      "Checking mate...   0.000282 seconds (3.53 k allocations: 135.711 KiB)\n",
      "Checking mate...   0.447069 seconds (6.32 M allocations: 200.221 MiB, 7.60% gc time)\n",
      "Checking mate...   0.815605 seconds (10.86 M allocations: 350.224 MiB, 8.70% gc time)\n",
      "Checking mate...   0.000258 seconds (3.53 k allocations: 135.711 KiB)\n"
     ]
    }
   ],
   "source": [
    "n_mc = 10000\n",
    "beta = 20.0\n",
    "for iter in 1:2\n",
    "    game = \"\"\n",
    "    #tree = create_tree(game)\n",
    "    flag = true\n",
    "    while flag\n",
    "        ## MCTS turn\n",
    "        tree = create_tree(game)\n",
    "        tree = grow_tree(payoffs, tree, node=game, iters=n_mc)\n",
    "        game = sample_next_node2(payoffs, tree, game, beta)\n",
    "#         children = get_children(payoffs, game)\n",
    "#         cands = Array{String}(undef, length(children))\n",
    "#         nc = 0\n",
    "#         # eliminate mates in 1, if possible\n",
    "#         for c in children\n",
    "#             value, br = mate_checker(payoffs, string(c), nits_tree = 1, verbose=false)\n",
    "#             if (value == -1.0 && mod(length(c), 2)==1) || (value == 1.0 && mod(length(c), 2)==0)\n",
    "#             else\n",
    "#                 nc += 1\n",
    "#                 cands[nc] = c\n",
    "#             end\n",
    "#         end\n",
    "#         cands = cands[1:nc]\n",
    "#         if length(cands) > 0\n",
    "#             game = rand(cands)\n",
    "#         else\n",
    "#             println(\"Unavoidable mate\")\n",
    "#             display_node(payoffs, create_tree(game), game)\n",
    "#             game = rand(children)\n",
    "#         end\n",
    "        if length(get_children(payoffs, game)) < 20\n",
    "            print(\"Checking mate... \")\n",
    "            #display_node(payoffs, tree, game)\n",
    "            @time value, br = mate_checker(payoffs, game, nits_tree = 3, verbose=false)\n",
    "            if abs(value)==1.0 && br == 3\n",
    "                flag = false\n",
    "                println(\"----MATE-IN-2 FOUND---\")\n",
    "                value, br = mate_checker(payoffs, game, nits_tree = 3, verbose=true)\n",
    "                #print(\"value:\")\n",
    "                #print(value)\n",
    "                #print(\" best resist:\")\n",
    "                #println(br)\n",
    "            end\n",
    "        end\n",
    "        if length(get_children(payoffs, game))==0\n",
    "            flag = false\n",
    "        end\n",
    "    end\n",
    "end"
   ]
  },
  {
   "cell_type": "markdown",
   "id": "f2004cb3",
   "metadata": {},
   "source": [
    "## Mate in 3 analysis"
   ]
  },
  {
   "cell_type": "code",
   "execution_count": null,
   "id": "9bb0c413",
   "metadata": {},
   "outputs": [],
   "source": [
    "node0 = \"c9\\\\\"\n",
    "display_node(payoffs, create_tree(node0), node0)\n",
    "children1 = get_children(payoffs, node0);\n",
    "gvalues = Dict(node00 => 0.0)\n",
    "\n",
    "mi3 = \"\"\n",
    "ord1 = sortperm(rand(length(children2)));\n",
    "for node1 in children1[ord1]\n",
    "    children2 = get_children(payoffs, node1)\n",
    "    flag = true\n",
    "    ord2 = sortperm(rand(length(children2)))\n",
    "    ind = 1\n",
    "    while flag\n",
    "        node2 = children2[ord2[ind]]\n",
    "        @time val, br = mate_checker(payoffs, node2, nits_tree=3, verbose=false)\n",
    "        display_node(payoffs, create_tree(node2), node2)\n",
    "        println(val)\n",
    "        gvalues[node2] = val\n",
    "        ind += 1\n",
    "        if val >= 0.0\n",
    "            # P1 has an escape\n",
    "            flag = false\n",
    "        end\n",
    "        if ind > length(children2)\n",
    "            println(\"^^^ MATE IN 3 ^^^\")\n",
    "            mi3 = string(mi3, \"...\", node1)\n",
    "            flag = false\n",
    "        end\n",
    "    end\n",
    "end"
   ]
  },
  {
   "cell_type": "code",
   "execution_count": null,
   "id": "89bad08a",
   "metadata": {},
   "outputs": [],
   "source": []
  }
 ],
 "metadata": {
  "kernelspec": {
   "display_name": "Julia 1.9.3",
   "language": "julia",
   "name": "julia-1.9"
  },
  "language_info": {
   "file_extension": ".jl",
   "mimetype": "application/julia",
   "name": "julia",
   "version": "1.9.3"
  }
 },
 "nbformat": 4,
 "nbformat_minor": 5
}

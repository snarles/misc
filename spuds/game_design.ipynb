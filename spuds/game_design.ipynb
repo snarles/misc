{
 "cells": [
  {
   "cell_type": "markdown",
   "id": "052be005",
   "metadata": {},
   "source": [
    "Design of a new game, Spuds"
   ]
  },
  {
   "cell_type": "code",
   "execution_count": 1,
   "id": "494818e8",
   "metadata": {},
   "outputs": [],
   "source": [
    "using Random\n",
    "using DataFrames\n",
    "using CSV\n",
    "using Statistics\n",
    "using Printf\n",
    "using LinearAlgebra"
   ]
  },
  {
   "cell_type": "code",
   "execution_count": 2,
   "id": "1e1008a1",
   "metadata": {},
   "outputs": [
    {
     "data": {
      "text/plain": [
       "cost (generic function with 1 method)"
      ]
     },
     "execution_count": 2,
     "metadata": {},
     "output_type": "execute_result"
    }
   ],
   "source": [
    "struct Spud\n",
    "    name::String\n",
    "    h::Int64\n",
    "    f::Int64\n",
    "    l::Int64\n",
    "    p::Int64\n",
    "    r::Int64\n",
    "    s::Int64\n",
    "end\n",
    "\n",
    "const MXS = 100\n",
    "const MXV = 20\n",
    "const MNV = 1\n",
    "\n",
    "function cost(h::Int64, f::Int64, l::Int64, p::Int64, r::Int64, s::Int64)::Int64\n",
    "    #return h*(f+l-2*MNV) + f*(p+r+s-3*MNV) + h+f+l+p+r+s-6*MNV\n",
    "    return h*(f+l) + f*(p+r+s)\n",
    "end"
   ]
  },
  {
   "cell_type": "code",
   "execution_count": 3,
   "id": "ac830f74",
   "metadata": {},
   "outputs": [
    {
     "data": {
      "text/plain": [
       "eval_battle (generic function with 1 method)"
      ]
     },
     "execution_count": 3,
     "metadata": {},
     "output_type": "execute_result"
    }
   ],
   "source": [
    "function eval_battle(a::Spud, b::Spud)::Int\n",
    "    a_finds = a.f >= b.h\n",
    "    b_finds = b.f >= a.h\n",
    "    #score_a = 4 * (1000*a.p + a.l > 1000*b.p+b.l) + 3 * (1000*a.r+a.l > 1000*b.r+b.l) + 2 * (1000*a.s+a.l > 1000*b.s+b.l)\n",
    "    #score_b = 4 * (1000*a.p + a.l < 1000*b.p+b.l) + 3 * (1000*a.r+a.l < 1000*b.r+b.l) + 2 * (1000*a.s+a.l < 1000*b.s+b.l)\n",
    "    score_a = 4 * (a.p > b.p) + 3 * (a.r > b.r) + 2 * (a.s > b.s)\n",
    "    score_b = 4 * (a.p < b.p) + 3 * (a.r < b.r) + 2 * (a.s < b.s)\n",
    "    melee_win = sign(score_a - score_b)\n",
    "    if a_finds && b_finds\n",
    "        tiebreaker = 4 * melee_win + 2 * sign(a.l - b.l) + sign(a.h - b.h)\n",
    "        return sign(tiebreaker)\n",
    "    end\n",
    "    if a_finds && !b_finds\n",
    "        return 1\n",
    "    end\n",
    "    if !a_finds && b_finds\n",
    "        return -1\n",
    "    end\n",
    "    if !a_finds && !b_finds\n",
    "        tiebreaker = 4 * sign(a.l - b.l) + 2 * melee_win + sign(a.f - b.f)\n",
    "        return sign(tiebreaker)\n",
    "    end\n",
    "end\n"
   ]
  },
  {
   "cell_type": "code",
   "execution_count": 4,
   "id": "40b9dc47",
   "metadata": {},
   "outputs": [
    {
     "data": {
      "text/plain": [
       "random_name_and_stat (generic function with 1 method)"
      ]
     },
     "execution_count": 4,
     "metadata": {},
     "output_type": "execute_result"
    }
   ],
   "source": [
    "tab = CSV.read(\"census_yob2022_names.txt\", DataFrame, header = false)\n",
    "names = tab.Column1\n",
    "adjectives = CSV.read(\"adjectives.csv\", DataFrame)\n",
    "nouns = CSV.read(\"nouns.csv\", DataFrame)\n",
    "jobs = CSV.read(\"jobs.csv\", DataFrame)\n",
    "\n",
    "function random_name_and_stat()::Spud\n",
    "    vp = [0, 0, 0, 0, 0, 0]\n",
    "    #nametype = rand([1,1,1,1,1,2,2,2,3])\n",
    "    name = \"\"\n",
    "    noun = \"\"\n",
    "    adj = \"\"\n",
    "    noun_i = rand(1:nrow(nouns))\n",
    "    noun = nouns[noun_i, :noun]\n",
    "    vp[1] = vp[1] + nouns[noun_i, :H]\n",
    "    vp[2] = vp[2] + nouns[noun_i, :F]\n",
    "    vp[3] = vp[3] + nouns[noun_i, :L]\n",
    "    vp[4] = vp[4] + nouns[noun_i, :P]    \n",
    "    vp[5] = vp[5] + nouns[noun_i, :R]\n",
    "    vp[6] = vp[6] + nouns[noun_i, :S]    \n",
    "    adj_i = rand(1:nrow(adjectives))\n",
    "    adj = adjectives[adj_i, :adjective]\n",
    "    vp[1] = vp[1] + adjectives[adj_i, :H]\n",
    "    vp[2] = vp[2] + adjectives[adj_i, :F]\n",
    "    vp[3] = vp[3] + adjectives[adj_i, :L]\n",
    "    vp[4] = vp[4] + adjectives[adj_i, :P]\n",
    "    vp[5] = vp[5] + adjectives[adj_i, :R]\n",
    "    vp[6] = vp[6] + adjectives[adj_i, :S]\n",
    "    job_i = rand(1:nrow(jobs))\n",
    "    job = jobs[job_i, :job]\n",
    "    vp[1] = vp[1] + jobs[job_i, :H]\n",
    "    vp[2] = vp[2] + jobs[job_i, :F]\n",
    "    vp[3] = vp[3] + jobs[job_i, :L]\n",
    "    vp[4] = vp[4] + jobs[job_i, :P]\n",
    "    vp[5] = vp[5] + jobs[job_i, :R]\n",
    "    vp[6] = vp[6] + jobs[job_i, :S]\n",
    "    name = string(adj, \" \", noun, \" the \", job)\n",
    "    Spud(name, vp[1], vp[2], vp[3], vp[4], vp[5], vp[6])\n",
    "end"
   ]
  },
  {
   "cell_type": "code",
   "execution_count": 5,
   "id": "f606e085",
   "metadata": {},
   "outputs": [
    {
     "data": {
      "text/plain": [
       "rand_rename (generic function with 2 methods)"
      ]
     },
     "execution_count": 5,
     "metadata": {},
     "output_type": "execute_result"
    }
   ],
   "source": [
    "function rand_rename(a::Spud, n_tries::Int = 100)::Spud\n",
    "    best_score = 0.0\n",
    "    best_b = random_name_and_stat()\n",
    "    for ii in 1:n_tries\n",
    "        b = random_name_and_stat()\n",
    "        b_norm = sqrt(b.h^2 + b.f^2 + b.l^2 + b.p^2 + b.r^2 + b.s^2)\n",
    "        score = (a.h * b.h + a.f * b.f + a.l * b.l + a.p * b.p + a.r * b.r + a.s * b.s)/b_norm\n",
    "        if score > best_score\n",
    "            best_score = score\n",
    "            best_b = b\n",
    "        end\n",
    "    end\n",
    "    return Spud(best_b.name, a.h, a.f, a.l, a.p, a.r, a.s)\n",
    "end"
   ]
  },
  {
   "cell_type": "code",
   "execution_count": 6,
   "id": "560e9539",
   "metadata": {},
   "outputs": [
    {
     "data": {
      "text/plain": [
       "random_team (generic function with 1 method)"
      ]
     },
     "execution_count": 6,
     "metadata": {},
     "output_type": "execute_result"
    }
   ],
   "source": [
    "function eval_battle_list(a::Spud, bs::Array{Spud})::Int\n",
    "    score = 0\n",
    "    for ii in 1:length(bs)\n",
    "        score = score + eval_battle(a, bs[ii])\n",
    "    end\n",
    "    return score\n",
    "end\n",
    "\n",
    "function eval_battle_list2(a::Spud, bs::Array{Spud}, w::Vector{Float64})::AbstractFloat\n",
    "    score = 0.0\n",
    "    for ii in 1:length(bs)\n",
    "        score = score + w[ii] * eval_battle(a, bs[ii])\n",
    "    end\n",
    "    return score\n",
    "end\n",
    "\n",
    "\n",
    "function pick_best(as::Array{Spud}, bs::Array{Spud})::Spud\n",
    "    bestscore = -999\n",
    "    bestf = as[1]\n",
    "    for ii in 1:length(as)\n",
    "        score = eval_battle_list(as[ii], bs)\n",
    "        if score > bestscore\n",
    "            bestscore = score\n",
    "            bestf = as[ii]\n",
    "        end\n",
    "    end\n",
    "    return bestf\n",
    "end\n",
    "\n",
    "function pick_best_rdmly(as::Array{Spud}, bs::Array{Spud}, ntries::Int)::Spud\n",
    "    bestscore = -999\n",
    "    bestf = rand(as)\n",
    "    for ii in 1:ntries\n",
    "        f = rand(as)\n",
    "        score = eval_battle_list(f, bs)\n",
    "        if score > bestscore\n",
    "            bestscore = score\n",
    "            bestf = f\n",
    "        end\n",
    "    end\n",
    "    return bestf\n",
    "end\n",
    "\n",
    "function pick_best_rdmly_g(g::Function, bs::Array{Spud}, ntries::Int)::Spud\n",
    "    bestscore = -999\n",
    "    bestf = g()\n",
    "    for ii in 1:ntries\n",
    "        f = g()\n",
    "        score = eval_battle_list(f, bs)\n",
    "        if score > bestscore\n",
    "            bestscore = score\n",
    "            bestf = f\n",
    "        end\n",
    "    end\n",
    "    return bestf\n",
    "end\n",
    "\n",
    "function spuds_to_df(as::Array{Spud})::DataFrame\n",
    "    names = Array{String}(undef, length(as))\n",
    "    hs = Array{Int}(undef, length(as))\n",
    "    fs = Array{Int}(undef, length(as))\n",
    "    ls = Array{Int}(undef, length(as))\n",
    "    ps = Array{Int}(undef, length(as))\n",
    "    rs = Array{Int}(undef, length(as))\n",
    "    ss = Array{Int}(undef, length(as))\n",
    "    for ii in 1:length(as)\n",
    "        names[ii] = as[ii].name\n",
    "        hs[ii] = as[ii].h\n",
    "        fs[ii] = as[ii].f\n",
    "        ls[ii] = as[ii].l\n",
    "        ps[ii] = as[ii].p\n",
    "        rs[ii] = as[ii].r\n",
    "        ss[ii] = as[ii].s\n",
    "    end\n",
    "    df = DataFrame(name = names, h = hs, f = fs, l = ls, p = ps, r = rs, s = ss)\n",
    "    return df\n",
    "end\n",
    "\n",
    "function fpart(x::AbstractFloat)::AbstractFloat\n",
    "  return x - trunc(x)\n",
    "end\n",
    "\n",
    "function eval_team_battle(as::Array{Spud}, bs::Array{Spud})::Int\n",
    "    a_i = 1\n",
    "    b_i = 1\n",
    "    while (a_i <= length(as)) && (b_i <= length(bs))\n",
    "        res = eval_battle(as[a_i], bs[b_i])\n",
    "        if res == 1\n",
    "            b_i = b_i + 1\n",
    "        else\n",
    "            a_i = a_i + 1\n",
    "            if res == 0\n",
    "                b_i = b_i + 1\n",
    "            end\n",
    "        end\n",
    "    end\n",
    "    a_out = (a_i > length(as))\n",
    "    b_out = (b_i > length(as))\n",
    "    if a_out\n",
    "        if b_out\n",
    "            return 0\n",
    "        else\n",
    "            return -1\n",
    "        end\n",
    "    else\n",
    "        return 1\n",
    "    end\n",
    "end\n",
    "\n",
    "function compare_generator(f1, f2, limit)\n",
    "    a_i = 1\n",
    "    b_i = 1\n",
    "    f_a = f1()\n",
    "    f_b = f2()\n",
    "    while (a_i < limit) && (b_i < limit)\n",
    "        res = eval_battle(f_a, f_b)\n",
    "        if res != -1\n",
    "            b_i = b_i + 1\n",
    "            f_b = f2()\n",
    "        end\n",
    "        if res != 1\n",
    "            a_i = a_i + 1\n",
    "            f_a = f1()\n",
    "        end\n",
    "    end\n",
    "    return (a_i/limit, b_i/limit)\n",
    "end\n",
    "\n",
    "function random_team(f::Function, team_size::Int)::Array{Spud}\n",
    "    team = Array{Spud}(undef, team_size)\n",
    "    for i in 1:team_size\n",
    "        team[i] = f()\n",
    "    end\n",
    "    return team\n",
    "end"
   ]
  },
  {
   "cell_type": "code",
   "execution_count": 7,
   "id": "bd2b243d",
   "metadata": {},
   "outputs": [
    {
     "data": {
      "text/plain": [
       "pick_best_library (generic function with 1 method)"
      ]
     },
     "execution_count": 7,
     "metadata": {},
     "output_type": "execute_result"
    }
   ],
   "source": [
    "function upgrade_spud(sp::Spud)::Spud\n",
    "    h = sp.h\n",
    "    f = sp.f\n",
    "    l = sp.l\n",
    "    p = sp.p\n",
    "    r = sp.r\n",
    "    s = sp.s    \n",
    "    check_h = (f == MXV) || (cost(h,f+1,l,p,r,s) > MXS)\n",
    "    check_f = (h == MXV) || (cost(h+1,f,l,p,r,s) > MXS)\n",
    "    check_l = (l == MXV) || (cost(h,f,l+1,p,r,s) > MXS)\n",
    "    check_prs = (p+r+s == 3*MXV) || (cost(h,f,l,p+1,r,s) > MXS)\n",
    "    while !(check_h && check_f && check_l && check_prs)\n",
    "        rand_i = rand(1:4)\n",
    "        if rand_i == 1 && !check_h\n",
    "            h = h+1\n",
    "        end\n",
    "        if rand_i == 2 && !check_f\n",
    "            f = f+1\n",
    "        end\n",
    "        if rand_i == 3 && !check_l\n",
    "            l = l+1\n",
    "        end\n",
    "        if rand_i == 4 && !check_prs\n",
    "            rand_j = rand([1,1,1,1,1,2,2,2,2,3,3,3])\n",
    "            if rand_j == 1 && p <= MXV\n",
    "                p += 1\n",
    "            end\n",
    "            if rand_j == 2 && r <= MXV\n",
    "                r += 1\n",
    "            end\n",
    "            if rand_j == 3 && s <= MXV\n",
    "                s += 1\n",
    "            end\n",
    "        end            \n",
    "        check_h = (f == MXV) || (cost(h,f+1,l,p,r,s) > MXS)\n",
    "        check_f = (h == MXV) || (cost(h+1,f,l,p,r,s) > MXS)\n",
    "        check_l = (l == MXV) || (cost(h,f,l+1,p,r,s) > MXS)\n",
    "        check_prs = (p+r+s == 3*MXV) || (cost(h,f,l,p+1,r,s) > MXS)\n",
    "    end\n",
    "    return Spud(sp.name, h, f, l, p, r, s)\n",
    "end\n",
    "\n",
    "\n",
    "\n",
    "function pick_best_library(bs::Array{Spud})::Spud\n",
    "    bestscore = -999\n",
    "    bestf = Spud(\"\",MNV,MNV,MNV,MNV,MNV,MNV)\n",
    "    df = spuds_to_df(bs)\n",
    "    hrange = vcat([MNV], df.h, df.h .+ 1, df.f, df.f .+ 1)\n",
    "    frange = vcat([MNV], df.f, df.f .+ 1, df.h, df.h .+ 1)\n",
    "    lrange = vcat([MNV], df.l, df.l .+ 1)\n",
    "    prange = vcat([MNV], df.p, df.p .+ 1)\n",
    "    rrange = vcat([MNV], df.r, df.r .+ 1)\n",
    "    srange = vcat([MNV], df.s, df.s .+ 1)\n",
    "    hrange = sort(unique(hrange))\n",
    "    frange = sort(unique(frange))\n",
    "    lrange = sort(unique(lrange))\n",
    "    prange = sort(unique(prange))\n",
    "    rrange = sort(unique(rrange))\n",
    "    srange = sort(unique(srange))\n",
    "    for h in hrange\n",
    "        if (cost(h, MNV, MNV, MNV, MNV, MNV) < MXS)\n",
    "            for f in frange\n",
    "                if (cost(h, f, MNV, MNV, MNV, MNV) < MXS)\n",
    "                    for l in lrange\n",
    "                        if (cost(h, f, l, MNV, MNV, MNV) < MXS)\n",
    "                            for p in prange\n",
    "                                if (cost(h, f, l, p, MNV, MNV) < MXS)\n",
    "                                    for r in rrange\n",
    "                                        if (cost(h, f, l, p, r, MNV) < MXS)\n",
    "                                            for s in srange\n",
    "                                                if (cost(h,f,l,p,r,s) <= MXS)\n",
    "                                                    ff = Spud(\"\",h,f,l,p,r,s)\n",
    "                                                    score = eval_battle_list(ff, bs)\n",
    "                                                    if score > bestscore\n",
    "                                                        bestscore = score\n",
    "                                                        bestf = ff\n",
    "                                                    end\n",
    "                                                end\n",
    "                                            end\n",
    "                                        end\n",
    "                                    end                        \n",
    "                                end\n",
    "                            end                        \n",
    "                        end\n",
    "                    end\n",
    "                end\n",
    "            end\n",
    "        end\n",
    "    end\n",
    "    return upgrade_spud(bestf)\n",
    "end\n",
    "\n"
   ]
  },
  {
   "cell_type": "code",
   "execution_count": 8,
   "id": "2d640dee",
   "metadata": {},
   "outputs": [
    {
     "data": {
      "text/plain": [
       "pick_ok_counter (generic function with 1 method)"
      ]
     },
     "execution_count": 8,
     "metadata": {},
     "output_type": "execute_result"
    }
   ],
   "source": [
    "function pick_ok_counter(bs::Array{Spud})::Spud\n",
    "    bestscore = -999\n",
    "    bestf = Spud(\"\",MNV,MNV,MNV,MNV,MNV,MNV)\n",
    "    df = spuds_to_df(bs)\n",
    "    hrange = vcat([MNV], df.f .+ 1)\n",
    "    frange = vcat([MNV], df.h .+ 1)\n",
    "    lrange = vcat([MNV], df.l .+ 1)\n",
    "    prange = vcat([MNV], df.p .+ 1)\n",
    "    rrange = vcat([MNV], df.r .+ 1)\n",
    "    srange = vcat([MNV], df.s .+ 1)\n",
    "    hrange = sort(unique(hrange))\n",
    "    frange = sort(unique(frange))\n",
    "    lrange = sort(unique(lrange))\n",
    "    prange = sort(unique(prange))\n",
    "    rrange = sort(unique(rrange))\n",
    "    srange = sort(unique(srange))\n",
    "    for h in hrange\n",
    "        if (cost(h, MNV, MNV, MNV, MNV, MNV) < MXS)\n",
    "            for f in frange\n",
    "                if (cost(h, f, MNV, MNV, MNV, MNV) < MXS)\n",
    "                    for l in lrange\n",
    "                        if (cost(h, f, l, MNV, MNV, MNV) < MXS)\n",
    "                            for p in prange\n",
    "                                if (cost(h, f, l, p, MNV, MNV) < MXS)\n",
    "                                    for r in rrange\n",
    "                                        if (cost(h, f, l, p, r, MNV) < MXS)\n",
    "                                            for s in srange\n",
    "                                                if (cost(h,f,l,p,r,s) <= MXS)\n",
    "                                                    ff = Spud(\"\",h,f,l,p,r,s)\n",
    "                                                    score = eval_battle_list(ff, bs)\n",
    "                                                    if score > bestscore\n",
    "                                                        bestscore = score\n",
    "                                                        bestf = ff\n",
    "                                                    end\n",
    "                                                end\n",
    "                                            end\n",
    "                                        end\n",
    "                                    end                        \n",
    "                                end\n",
    "                            end                        \n",
    "                        end\n",
    "                    end\n",
    "                end\n",
    "            end\n",
    "        end\n",
    "    end\n",
    "    return upgrade_spud(bestf)\n",
    "end\n"
   ]
  },
  {
   "cell_type": "code",
   "execution_count": 9,
   "id": "7b4f703b",
   "metadata": {},
   "outputs": [
    {
     "data": {
      "text/plain": [
       "pick_best_library2 (generic function with 1 method)"
      ]
     },
     "execution_count": 9,
     "metadata": {},
     "output_type": "execute_result"
    }
   ],
   "source": [
    "function pick_best_library2(bs::Array{Spud}, w::Vector{Float64})::Spud\n",
    "    bestscore = -999.9\n",
    "    bestf = Spud(\"\",MNV,MNV,MNV,MNV,MNV,MNV)\n",
    "    df = spuds_to_df(bs)\n",
    "    hrange = vcat([MNV], df.h, df.h .+ 1, df.f, df.f .+ 1)\n",
    "    frange = vcat([MNV], df.f, df.f .+ 1, df.h, df.h .+ 1)\n",
    "    lrange = vcat([MNV], df.l, df.l .+ 1)\n",
    "    prange = vcat([MNV], df.p, df.p .+ 1)\n",
    "    rrange = vcat([MNV], df.r, df.r .+ 1)\n",
    "    srange = vcat([MNV], df.s, df.s .+ 1)\n",
    "    hrange = sort(unique(hrange))\n",
    "    frange = sort(unique(frange))\n",
    "    lrange = sort(unique(lrange))\n",
    "    prange = sort(unique(prange))\n",
    "    rrange = sort(unique(rrange))\n",
    "    srange = sort(unique(srange))\n",
    "    for h in hrange\n",
    "        if (cost(h, MNV, MNV, MNV, MNV, MNV) < MXS)\n",
    "            for f in frange\n",
    "                if (cost(h, f, MNV, MNV, MNV, MNV) < MXS)\n",
    "                    for l in lrange\n",
    "                        if (cost(h, f, l, MNV, MNV, MNV) < MXS)\n",
    "                            for p in prange\n",
    "                                if (cost(h, f, l, p, MNV, MNV) < MXS)\n",
    "                                    for r in rrange\n",
    "                                        if (cost(h, f, l, p, r, MNV) < MXS)\n",
    "                                            for s in srange\n",
    "                                                if (cost(h,f,l,p,r,s) <= MXS)\n",
    "                                                    ff = Spud(\"\",h,f,l,p,r,s)\n",
    "                                                    score = eval_battle_list2(ff, bs, w) + 0.001 * rand()\n",
    "                                                    if score > bestscore\n",
    "                                                        bestscore = score\n",
    "                                                        bestf = ff\n",
    "                                                    end\n",
    "                                                end\n",
    "                                            end\n",
    "                                        end\n",
    "                                    end                        \n",
    "                                end\n",
    "                            end                        \n",
    "                        end\n",
    "                    end\n",
    "                end\n",
    "            end\n",
    "        end\n",
    "    end\n",
    "    return upgrade_spud(bestf)\n",
    "end"
   ]
  },
  {
   "cell_type": "code",
   "execution_count": 10,
   "id": "79126a50",
   "metadata": {},
   "outputs": [
    {
     "data": {
      "text/plain": [
       "subset_library (generic function with 1 method)"
      ]
     },
     "execution_count": 10,
     "metadata": {},
     "output_type": "execute_result"
    }
   ],
   "source": [
    "function subset_library(bs::Array{Spud}, n_hits::Int, w::Vector{Float64}, thres::Float64)::Array{Spud}\n",
    "    bestf = Array{Spud}(undef, n_hits)\n",
    "    spud_i = 0\n",
    "    df = spuds_to_df(bs)\n",
    "    hrange = vcat([MNV], df.h, df.h .+ 1, df.f, df.f .+ 1)\n",
    "    frange = vcat([MNV], df.f, df.f .+ 1, df.h, df.h .+ 1)\n",
    "    lrange = vcat([MNV], df.l, df.l .+ 1)\n",
    "    prange = vcat([MNV], df.p, df.p .+ 1)\n",
    "    rrange = vcat([MNV], df.r, df.r .+ 1)\n",
    "    srange = vcat([MNV], df.s, df.s .+ 1)\n",
    "    hrange = sort(unique(hrange))\n",
    "    frange = sort(unique(frange))\n",
    "    lrange = sort(unique(lrange))\n",
    "    prange = sort(unique(prange))\n",
    "    rrange = sort(unique(rrange))\n",
    "    srange = sort(unique(srange))\n",
    "    for h in hrange\n",
    "        if (cost(h, MNV, MNV, MNV, MNV, MNV) < MXS)\n",
    "            for f in frange\n",
    "                if (cost(h, f, MNV, MNV, MNV, MNV) < MXS)\n",
    "                    for l in lrange\n",
    "                        if (cost(h, f, l, MNV, MNV, MNV) < MXS)\n",
    "                            for p in prange\n",
    "                                if (cost(h, f, l, p, MNV, MNV) < MXS)\n",
    "                                    for r in rrange\n",
    "                                        if (cost(h, f, l, p, r, MNV) < MXS)\n",
    "                                            for s in srange\n",
    "                                                if (cost(h,f,l,p,r,s) <= MXS)\n",
    "                                                    ff = Spud(\"\",h,f,l,p,r,s)\n",
    "                                                    score = eval_battle_list2(ff, bs, w)\n",
    "                                                    if score >= thres && spud_i < n_hits\n",
    "                                                        spud_i += 1\n",
    "                                                        bestf[spud_i] = upgrade_spud(ff)\n",
    "                                                    end\n",
    "                                                end\n",
    "                                            end\n",
    "                                        end\n",
    "                                    end                        \n",
    "                                end\n",
    "                            end                        \n",
    "                        end\n",
    "                    end\n",
    "                end\n",
    "            end\n",
    "        end\n",
    "    end\n",
    "    return unique(bestf[1:spud_i])\n",
    "end"
   ]
  },
  {
   "cell_type": "code",
   "execution_count": 11,
   "id": "8534b5bb",
   "metadata": {},
   "outputs": [
    {
     "data": {
      "text/plain": [
       "0.01"
      ]
     },
     "execution_count": 11,
     "metadata": {},
     "output_type": "execute_result"
    }
   ],
   "source": [
    "# form initial library by subsampling indices\n",
    "library = Array{Spud}(undef, 1000)\n",
    "spud_i = 0\n",
    "ss_prob = 0.01"
   ]
  },
  {
   "cell_type": "code",
   "execution_count": 12,
   "id": "3febb950",
   "metadata": {},
   "outputs": [],
   "source": [
    "\n",
    "hrange = MNV:MXV\n",
    "frange = MNV:MXV\n",
    "lrange = MNV:MXV\n",
    "prange = MNV:MXV\n",
    "rrange = MNV:MXV\n",
    "srange = MNV:MXV\n",
    "\n",
    "for h in hrange\n",
    "    if (cost(h, MXV, MXV, MXV, MXV, MXV) >= MXS) && (cost(h, MNV, MNV, MNV, MNV, MNV) < MXS)\n",
    "        for f in frange\n",
    "            if (cost(h, f, MXV, MXV, MXV, MXV) >= MXS) && (cost(h, f, MNV, MNV, MNV, MNV) < MXS)\n",
    "                for l in lrange\n",
    "                    if (cost(h, f, l, MXV, MXV, MXV) >= MXS) && (cost(h, f, l, MNV, MNV, MNV) < MXS)\n",
    "                        for p in prange\n",
    "                            if (cost(h, f, l, p, MXV, MXV) >= MXS) && (cost(h, f, l, p, MNV, MNV) < MXS)\n",
    "                                for r in rrange\n",
    "                                    if (cost(h, f, l, p, r, MXV) >= MXS) && (cost(h, f, l, p, r, MNV) < MXS)\n",
    "                                        for s in srange\n",
    "                                            if rand() < ss_prob && (cost(h,f,l,p,r,s) <= MXS)\n",
    "                                                check_f = (h == MXV) || (cost(h+1,f,l,p,r,s) > MXS)\n",
    "                                                check_h = (f == MXV) || (cost(h,f+1,l,p,r,s) > MXS)\n",
    "                                                check_l = (l == MXV) || (cost(h,f,l+1,p,r,s) > MXS)\n",
    "                                                check_prs = (p+r+s == 3*MXV) || (cost(h,f,l,p+1,r,s) > MXS)\n",
    "                                                if check_h && check_f && check_l && check_prs\n",
    "                                                    spud_i += 1\n",
    "                                                    #randname = rand_rename(Spud(\" \",h,f,l,p,r,s)).name\n",
    "                                                    #name = string(\"#\", @sprintf(\"%i\", spud_i), \". \", randname)\n",
    "                                                    name = \"\"\n",
    "                                                    library[spud_i] = Spud(name,h,f,l,p,r,s)\n",
    "                                                end\n",
    "                                            end\n",
    "                                        end\n",
    "                                    end\n",
    "                                end                        \n",
    "                            end\n",
    "                        end                        \n",
    "                    end\n",
    "                end\n",
    "            end\n",
    "        end\n",
    "    end\n",
    "end\n"
   ]
  },
  {
   "cell_type": "code",
   "execution_count": 13,
   "id": "9bbe4ff4",
   "metadata": {},
   "outputs": [
    {
     "data": {
      "text/plain": [
       "713"
      ]
     },
     "execution_count": 13,
     "metadata": {},
     "output_type": "execute_result"
    }
   ],
   "source": [
    "library = unique(library[1:spud_i])\n",
    "n_spuds = length(library)"
   ]
  },
  {
   "cell_type": "code",
   "execution_count": 14,
   "id": "2a078723",
   "metadata": {},
   "outputs": [],
   "source": [
    "# for i in 1:n_spuds\n",
    "#     ff = library[i]\n",
    "#     randname = rand_rename(ff).name\n",
    "#     name = string(\"#\", @sprintf(\"%i\", i), \". \", randname)\n",
    "#     library[i] = Spud(name,ff.h,ff.f,ff.l,ff.p,ff.r,ff.s)\n",
    "# end\n",
    "# id_no = Dict(library[i] => i for i in 1:n_spuds)"
   ]
  },
  {
   "cell_type": "code",
   "execution_count": 15,
   "id": "52daa014",
   "metadata": {},
   "outputs": [],
   "source": [
    "# Check that there are no ties in spudland\n",
    "for iter in 1:10000\n",
    "    i = rand(1:n_spuds)\n",
    "    j = rand(1:n_spuds)\n",
    "    if i != j && eval_battle(library[i], library[j]) == 0\n",
    "        println(library[i])\n",
    "        println(library[j])\n",
    "        println()\n",
    "    end\n",
    "end"
   ]
  },
  {
   "cell_type": "markdown",
   "id": "4873490e",
   "metadata": {},
   "source": [
    "## Compute Nash env"
   ]
  },
  {
   "cell_type": "code",
   "execution_count": 16,
   "id": "010f3c57",
   "metadata": {},
   "outputs": [
    {
     "data": {
      "text/plain": [
       "ffp (generic function with 1 method)"
      ]
     },
     "execution_count": 16,
     "metadata": {},
     "output_type": "execute_result"
    }
   ],
   "source": [
    "function ffp(nash_env, nits)\n",
    "    n_nash = length(nash_env)\n",
    "    i_lose = Array{Int}(undef, (n_nash, n_nash))\n",
    "    n_lose = Array{Int}(undef, n_nash)\n",
    "    for i in 1:n_nash\n",
    "        n_lose[i] = 0\n",
    "        ff = nash_env[i]\n",
    "        for j in 1:n_nash\n",
    "            if eval_battle(ff, nash_env[j]) ==-1\n",
    "                n_lose[i] += 1\n",
    "                i_lose[i, n_lose[i]] = j\n",
    "            end\n",
    "        end\n",
    "    end\n",
    "    counts = [0 for i in 1:n_nash]\n",
    "    wins = [0 for i in 1:n_nash]\n",
    "    for i in 1:n_nash\n",
    "        counts[i] += 1\n",
    "        for j in 1:n_lose[i]\n",
    "            i_w = i_lose[i, j]\n",
    "            wins[i_w]+= 1\n",
    "        end\n",
    "    end\n",
    "    for iter in 1:nits\n",
    "        ind_winners = findall(wins .== maximum(wins))\n",
    "        i = rand(ind_winners)\n",
    "        counts[i] += 1\n",
    "        for j in 1:n_lose[i]\n",
    "            i_w = i_lose[i, j]\n",
    "            wins[i_w]+= 1\n",
    "        end\n",
    "    end\n",
    "    return counts\n",
    "end\n"
   ]
  },
  {
   "cell_type": "code",
   "execution_count": 17,
   "id": "4021dd90",
   "metadata": {},
   "outputs": [
    {
     "data": {
      "text/html": [
       "<div><div style = \"float: left;\"><span>713×7 DataFrame</span></div><div style = \"float: right;\"><span style = \"font-style: italic;\">688 rows omitted</span></div><div style = \"clear: both;\"></div></div><div class = \"data-frame\" style = \"overflow-x: scroll;\"><table class = \"data-frame\" style = \"margin-bottom: 6px;\"><thead><tr class = \"header\"><th class = \"rowNumber\" style = \"font-weight: bold; text-align: right;\">Row</th><th style = \"text-align: left;\">name</th><th style = \"text-align: left;\">h</th><th style = \"text-align: left;\">f</th><th style = \"text-align: left;\">l</th><th style = \"text-align: left;\">p</th><th style = \"text-align: left;\">r</th><th style = \"text-align: left;\">s</th></tr><tr class = \"subheader headerLastRow\"><th class = \"rowNumber\" style = \"font-weight: bold; text-align: right;\"></th><th title = \"String\" style = \"text-align: left;\">String</th><th title = \"Int64\" style = \"text-align: left;\">Int64</th><th title = \"Int64\" style = \"text-align: left;\">Int64</th><th title = \"Int64\" style = \"text-align: left;\">Int64</th><th title = \"Int64\" style = \"text-align: left;\">Int64</th><th title = \"Int64\" style = \"text-align: left;\">Int64</th><th title = \"Int64\" style = \"text-align: left;\">Int64</th></tr></thead><tbody><tr><td class = \"rowNumber\" style = \"font-weight: bold; text-align: right;\">1</td><td style = \"text-align: left;\">Unfair Batata vada the Coast guard</td><td style = \"text-align: right;\">1</td><td style = \"text-align: right;\">2</td><td style = \"text-align: right;\">2</td><td style = \"text-align: right;\">20</td><td style = \"text-align: right;\">10</td><td style = \"text-align: right;\">18</td></tr><tr><td class = \"rowNumber\" style = \"font-weight: bold; text-align: right;\">2</td><td style = \"text-align: left;\">Western Okroshka the Software developer</td><td style = \"text-align: right;\">1</td><td style = \"text-align: right;\">2</td><td style = \"text-align: right;\">6</td><td style = \"text-align: right;\">12</td><td style = \"text-align: right;\">16</td><td style = \"text-align: right;\">18</td></tr><tr><td class = \"rowNumber\" style = \"font-weight: bold; text-align: right;\">3</td><td style = \"text-align: left;\">Sure Hash browns the Dictator</td><td style = \"text-align: right;\">1</td><td style = \"text-align: right;\">2</td><td style = \"text-align: right;\">10</td><td style = \"text-align: right;\">17</td><td style = \"text-align: right;\">14</td><td style = \"text-align: right;\">13</td></tr><tr><td class = \"rowNumber\" style = \"font-weight: bold; text-align: right;\">4</td><td style = \"text-align: left;\">Proud French fries the Technical engineer</td><td style = \"text-align: right;\">1</td><td style = \"text-align: right;\">2</td><td style = \"text-align: right;\">12</td><td style = \"text-align: right;\">16</td><td style = \"text-align: right;\">12</td><td style = \"text-align: right;\">15</td></tr><tr><td class = \"rowNumber\" style = \"font-weight: bold; text-align: right;\">5</td><td style = \"text-align: left;\">Confident Brændende kærlighed the System designer</td><td style = \"text-align: right;\">1</td><td style = \"text-align: right;\">2</td><td style = \"text-align: right;\">12</td><td style = \"text-align: right;\">16</td><td style = \"text-align: right;\">18</td><td style = \"text-align: right;\">9</td></tr><tr><td class = \"rowNumber\" style = \"font-weight: bold; text-align: right;\">6</td><td style = \"text-align: left;\">Intelligent Potato babka the Medic</td><td style = \"text-align: right;\">1</td><td style = \"text-align: right;\">2</td><td style = \"text-align: right;\">16</td><td style = \"text-align: right;\">6</td><td style = \"text-align: right;\">20</td><td style = \"text-align: right;\">15</td></tr><tr><td class = \"rowNumber\" style = \"font-weight: bold; text-align: right;\">7</td><td style = \"text-align: left;\">Efficient Pitepalt the Signalman</td><td style = \"text-align: right;\">1</td><td style = \"text-align: right;\">2</td><td style = \"text-align: right;\">16</td><td style = \"text-align: right;\">7</td><td style = \"text-align: right;\">19</td><td style = \"text-align: right;\">15</td></tr><tr><td class = \"rowNumber\" style = \"font-weight: bold; text-align: right;\">8</td><td style = \"text-align: left;\">Professional Rewena bread the Technical engineer</td><td style = \"text-align: right;\">1</td><td style = \"text-align: right;\">2</td><td style = \"text-align: right;\">16</td><td style = \"text-align: right;\">10</td><td style = \"text-align: right;\">13</td><td style = \"text-align: right;\">18</td></tr><tr><td class = \"rowNumber\" style = \"font-weight: bold; text-align: right;\">9</td><td style = \"text-align: left;\">Wild Suan la tu dou si the Etymologist</td><td style = \"text-align: right;\">1</td><td style = \"text-align: right;\">2</td><td style = \"text-align: right;\">16</td><td style = \"text-align: right;\">17</td><td style = \"text-align: right;\">10</td><td style = \"text-align: right;\">14</td></tr><tr><td class = \"rowNumber\" style = \"font-weight: bold; text-align: right;\">10</td><td style = \"text-align: left;\">Intelligent Aligot the Coast guard</td><td style = \"text-align: right;\">1</td><td style = \"text-align: right;\">2</td><td style = \"text-align: right;\">16</td><td style = \"text-align: right;\">19</td><td style = \"text-align: right;\">5</td><td style = \"text-align: right;\">17</td></tr><tr><td class = \"rowNumber\" style = \"font-weight: bold; text-align: right;\">11</td><td style = \"text-align: left;\">Unusual Suan la tu dou si the Miller</td><td style = \"text-align: right;\">1</td><td style = \"text-align: right;\">2</td><td style = \"text-align: right;\">16</td><td style = \"text-align: right;\">20</td><td style = \"text-align: right;\">19</td><td style = \"text-align: right;\">2</td></tr><tr><td class = \"rowNumber\" style = \"font-weight: bold; text-align: right;\">12</td><td style = \"text-align: left;\">Intelligent Okroshka the Syndicalist</td><td style = \"text-align: right;\">1</td><td style = \"text-align: right;\">2</td><td style = \"text-align: right;\">18</td><td style = \"text-align: right;\">18</td><td style = \"text-align: right;\">10</td><td style = \"text-align: right;\">12</td></tr><tr><td class = \"rowNumber\" style = \"font-weight: bold; text-align: right;\">13</td><td style = \"text-align: left;\">Efficient French fries the Psychologist</td><td style = \"text-align: right;\">1</td><td style = \"text-align: right;\">2</td><td style = \"text-align: right;\">20</td><td style = \"text-align: right;\">5</td><td style = \"text-align: right;\">18</td><td style = \"text-align: right;\">16</td></tr><tr><td style = \"text-align: right;\">&vellip;</td><td style = \"text-align: right;\">&vellip;</td><td style = \"text-align: right;\">&vellip;</td><td style = \"text-align: right;\">&vellip;</td><td style = \"text-align: right;\">&vellip;</td><td style = \"text-align: right;\">&vellip;</td><td style = \"text-align: right;\">&vellip;</td><td style = \"text-align: right;\">&vellip;</td></tr><tr><td class = \"rowNumber\" style = \"font-weight: bold; text-align: right;\">702</td><td style = \"text-align: left;\">Unhappy Kouign patatez the Signalman</td><td style = \"text-align: right;\">19</td><td style = \"text-align: right;\">1</td><td style = \"text-align: right;\">3</td><td style = \"text-align: right;\">5</td><td style = \"text-align: right;\">5</td><td style = \"text-align: right;\">14</td></tr><tr><td class = \"rowNumber\" style = \"font-weight: bold; text-align: right;\">703</td><td style = \"text-align: left;\">Logical Gamjajeon the Level designer (also Mapper)</td><td style = \"text-align: right;\">19</td><td style = \"text-align: right;\">1</td><td style = \"text-align: right;\">3</td><td style = \"text-align: right;\">10</td><td style = \"text-align: right;\">5</td><td style = \"text-align: right;\">9</td></tr><tr><td class = \"rowNumber\" style = \"font-weight: bold; text-align: right;\">704</td><td style = \"text-align: left;\">Desperate Funeral potatoes the Terminator</td><td style = \"text-align: right;\">19</td><td style = \"text-align: right;\">1</td><td style = \"text-align: right;\">3</td><td style = \"text-align: right;\">18</td><td style = \"text-align: right;\">3</td><td style = \"text-align: right;\">3</td></tr><tr><td class = \"rowNumber\" style = \"font-weight: bold; text-align: right;\">705</td><td style = \"text-align: left;\">Cold Gamjajeon the Floor manager</td><td style = \"text-align: right;\">19</td><td style = \"text-align: right;\">2</td><td style = \"text-align: right;\">1</td><td style = \"text-align: right;\">3</td><td style = \"text-align: right;\">5</td><td style = \"text-align: right;\">13</td></tr><tr><td class = \"rowNumber\" style = \"font-weight: bold; text-align: right;\">706</td><td style = \"text-align: left;\">Simple Potatonik the Dictator</td><td style = \"text-align: right;\">19</td><td style = \"text-align: right;\">2</td><td style = \"text-align: right;\">1</td><td style = \"text-align: right;\">9</td><td style = \"text-align: right;\">5</td><td style = \"text-align: right;\">7</td></tr><tr><td class = \"rowNumber\" style = \"font-weight: bold; text-align: right;\">707</td><td style = \"text-align: left;\">Wise Maluns the Etymologist</td><td style = \"text-align: right;\">20</td><td style = \"text-align: right;\">1</td><td style = \"text-align: right;\">2</td><td style = \"text-align: right;\">18</td><td style = \"text-align: right;\">17</td><td style = \"text-align: right;\">5</td></tr><tr><td class = \"rowNumber\" style = \"font-weight: bold; text-align: right;\">708</td><td style = \"text-align: left;\">Boring Tartiflette the Software developer</td><td style = \"text-align: right;\">20</td><td style = \"text-align: right;\">1</td><td style = \"text-align: right;\">3</td><td style = \"text-align: right;\">2</td><td style = \"text-align: right;\">15</td><td style = \"text-align: right;\">3</td></tr><tr><td class = \"rowNumber\" style = \"font-weight: bold; text-align: right;\">709</td><td style = \"text-align: left;\">Lucky Gnocchi the Signalman</td><td style = \"text-align: right;\">20</td><td style = \"text-align: right;\">1</td><td style = \"text-align: right;\">3</td><td style = \"text-align: right;\">3</td><td style = \"text-align: right;\">5</td><td style = \"text-align: right;\">12</td></tr><tr><td class = \"rowNumber\" style = \"font-weight: bold; text-align: right;\">710</td><td style = \"text-align: left;\">Lonely Nikujaga the Dictator</td><td style = \"text-align: right;\">20</td><td style = \"text-align: right;\">1</td><td style = \"text-align: right;\">3</td><td style = \"text-align: right;\">3</td><td style = \"text-align: right;\">15</td><td style = \"text-align: right;\">2</td></tr><tr><td class = \"rowNumber\" style = \"font-weight: bold; text-align: right;\">711</td><td style = \"text-align: left;\">Helpful Gamjajeon the Signalman</td><td style = \"text-align: right;\">20</td><td style = \"text-align: right;\">2</td><td style = \"text-align: right;\">1</td><td style = \"text-align: right;\">1</td><td style = \"text-align: right;\">4</td><td style = \"text-align: right;\">15</td></tr><tr><td class = \"rowNumber\" style = \"font-weight: bold; text-align: right;\">712</td><td style = \"text-align: left;\">Silly Potatonik the Laundress (also Lavendar)</td><td style = \"text-align: right;\">20</td><td style = \"text-align: right;\">2</td><td style = \"text-align: right;\">1</td><td style = \"text-align: right;\">4</td><td style = \"text-align: right;\">4</td><td style = \"text-align: right;\">12</td></tr><tr><td class = \"rowNumber\" style = \"font-weight: bold; text-align: right;\">713</td><td style = \"text-align: left;\">Boring Funeral potatoes the Organizer</td><td style = \"text-align: right;\">20</td><td style = \"text-align: right;\">2</td><td style = \"text-align: right;\">1</td><td style = \"text-align: right;\">16</td><td style = \"text-align: right;\">1</td><td style = \"text-align: right;\">3</td></tr></tbody></table></div>"
      ],
      "text/latex": [
       "\\begin{tabular}{r|cccccc}\n",
       "\t& name & h & f & l & p & \\\\\n",
       "\t\\hline\n",
       "\t& String & Int64 & Int64 & Int64 & Int64 & \\\\\n",
       "\t\\hline\n",
       "\t1 & Unfair Batata vada the Coast guard & 1 & 2 & 2 & 20 & $\\dots$ \\\\\n",
       "\t2 & Western Okroshka the Software developer & 1 & 2 & 6 & 12 & $\\dots$ \\\\\n",
       "\t3 & Sure Hash browns the Dictator & 1 & 2 & 10 & 17 & $\\dots$ \\\\\n",
       "\t4 & Proud French fries the Technical engineer & 1 & 2 & 12 & 16 & $\\dots$ \\\\\n",
       "\t5 & Confident Brændende kærlighed the System designer & 1 & 2 & 12 & 16 & $\\dots$ \\\\\n",
       "\t6 & Intelligent Potato babka the Medic & 1 & 2 & 16 & 6 & $\\dots$ \\\\\n",
       "\t7 & Efficient Pitepalt the Signalman & 1 & 2 & 16 & 7 & $\\dots$ \\\\\n",
       "\t8 & Professional Rewena bread the Technical engineer & 1 & 2 & 16 & 10 & $\\dots$ \\\\\n",
       "\t9 & Wild Suan la tu dou si the Etymologist & 1 & 2 & 16 & 17 & $\\dots$ \\\\\n",
       "\t10 & Intelligent Aligot the Coast guard & 1 & 2 & 16 & 19 & $\\dots$ \\\\\n",
       "\t11 & Unusual Suan la tu dou si the Miller & 1 & 2 & 16 & 20 & $\\dots$ \\\\\n",
       "\t12 & Intelligent Okroshka the Syndicalist & 1 & 2 & 18 & 18 & $\\dots$ \\\\\n",
       "\t13 & Efficient French fries the Psychologist & 1 & 2 & 20 & 5 & $\\dots$ \\\\\n",
       "\t14 & Confident Potato babka the Funeral director & 1 & 2 & 20 & 13 & $\\dots$ \\\\\n",
       "\t15 & Professional Meat and potato pie the Contractor- general & 1 & 2 & 20 & 16 & $\\dots$ \\\\\n",
       "\t16 & Odd Kouign patatez the Software developer & 1 & 3 & 1 & 5 & $\\dots$ \\\\\n",
       "\t17 & Happy Stoemp the Software developer & 1 & 3 & 1 & 6 & $\\dots$ \\\\\n",
       "\t18 & Sure Stoemp the Etymologist & 1 & 3 & 1 & 8 & $\\dots$ \\\\\n",
       "\t19 & Logical Hash browns the Coast guard & 1 & 3 & 1 & 15 & $\\dots$ \\\\\n",
       "\t20 & Anxious Aligot the Environmental scientist & 1 & 3 & 4 & 20 & $\\dots$ \\\\\n",
       "\t21 & Several Pitepalt the Software developer & 1 & 3 & 7 & 8 & $\\dots$ \\\\\n",
       "\t22 & Normal Stoemp the System designer & 1 & 3 & 7 & 10 & $\\dots$ \\\\\n",
       "\t23 & Firm Pommes Anna the Software developer & 1 & 3 & 10 & 2 & $\\dots$ \\\\\n",
       "\t24 & Kind Aligot the Laborer & 1 & 3 & 10 & 15 & $\\dots$ \\\\\n",
       "\t25 & Professional Tartiflette the Laborer & 1 & 3 & 13 & 12 & $\\dots$ \\\\\n",
       "\t26 & Professional Batata vada the Queen mother & 1 & 3 & 16 & 6 & $\\dots$ \\\\\n",
       "\t27 & Tough French fries the Coast guard & 1 & 3 & 16 & 10 & $\\dots$ \\\\\n",
       "\t28 & Efficient Tashmijab the Laborer & 1 & 3 & 16 & 12 & $\\dots$ \\\\\n",
       "\t29 & Active French fries the Syndicalist & 1 & 3 & 16 & 14 & $\\dots$ \\\\\n",
       "\t30 & Logical Truffade the Demolitionist & 1 & 3 & 16 & 15 & $\\dots$ \\\\\n",
       "\t$\\dots$ & $\\dots$ & $\\dots$ & $\\dots$ & $\\dots$ & $\\dots$ &  \\\\\n",
       "\\end{tabular}\n"
      ],
      "text/plain": [
       "\u001b[1m713×7 DataFrame\u001b[0m\n",
       "\u001b[1m Row \u001b[0m│\u001b[1m name                              \u001b[0m\u001b[1m h     \u001b[0m\u001b[1m f     \u001b[0m\u001b[1m l     \u001b[0m\u001b[1m p     \u001b[0m\u001b[1m r     \u001b[0m\u001b[1m s\u001b[0m ⋯\n",
       "     │\u001b[90m String                            \u001b[0m\u001b[90m Int64 \u001b[0m\u001b[90m Int64 \u001b[0m\u001b[90m Int64 \u001b[0m\u001b[90m Int64 \u001b[0m\u001b[90m Int64 \u001b[0m\u001b[90m I\u001b[0m ⋯\n",
       "─────┼──────────────────────────────────────────────────────────────────────────\n",
       "   1 │ Unfair Batata vada the Coast gua…      1      2      2     20     10    ⋯\n",
       "   2 │ Western Okroshka the Software de…      1      2      6     12     16\n",
       "   3 │ Sure Hash browns the Dictator          1      2     10     17     14\n",
       "   4 │ Proud French fries the Technical…      1      2     12     16     12\n",
       "   5 │ Confident Brændende kærlighed th…      1      2     12     16     18    ⋯\n",
       "   6 │ Intelligent Potato babka the Med…      1      2     16      6     20\n",
       "   7 │ Efficient Pitepalt the Signalman       1      2     16      7     19\n",
       "   8 │ Professional Rewena bread the Te…      1      2     16     10     13\n",
       "   9 │ Wild Suan la tu dou si the Etymo…      1      2     16     17     10    ⋯\n",
       "  10 │ Intelligent Aligot the Coast gua…      1      2     16     19      5\n",
       "  11 │ Unusual Suan la tu dou si the Mi…      1      2     16     20     19\n",
       "  ⋮  │                 ⋮                    ⋮      ⋮      ⋮      ⋮      ⋮      ⋱\n",
       " 704 │ Desperate Funeral potatoes the T…     19      1      3     18      3\n",
       " 705 │ Cold Gamjajeon the Floor manager      19      2      1      3      5    ⋯\n",
       " 706 │ Simple Potatonik the Dictator         19      2      1      9      5\n",
       " 707 │ Wise Maluns the Etymologist           20      1      2     18     17\n",
       " 708 │ Boring Tartiflette the Software …     20      1      3      2     15\n",
       " 709 │ Lucky Gnocchi the Signalman           20      1      3      3      5    ⋯\n",
       " 710 │ Lonely Nikujaga the Dictator          20      1      3      3     15\n",
       " 711 │ Helpful Gamjajeon the Signalman       20      2      1      1      4\n",
       " 712 │ Silly Potatonik the Laundress (a…     20      2      1      4      4\n",
       " 713 │ Boring Funeral potatoes the Orga…     20      2      1     16      1    ⋯\n",
       "\u001b[36m                                                   1 column and 692 rows omitted\u001b[0m"
      ]
     },
     "execution_count": 17,
     "metadata": {},
     "output_type": "execute_result"
    }
   ],
   "source": [
    "nash_env = [rand_rename(s) for s in library]\n",
    "spuds_to_df(nash_env)"
   ]
  },
  {
   "cell_type": "code",
   "execution_count": 18,
   "id": "0e75ca0c",
   "metadata": {},
   "outputs": [],
   "source": [
    "counts = ffp(nash_env, 1000);"
   ]
  },
  {
   "cell_type": "code",
   "execution_count": 19,
   "id": "8336bfca",
   "metadata": {},
   "outputs": [
    {
     "data": {
      "text/html": [
       "<div><div style = \"float: left;\"><span>22×7 DataFrame</span></div><div style = \"clear: both;\"></div></div><div class = \"data-frame\" style = \"overflow-x: scroll;\"><table class = \"data-frame\" style = \"margin-bottom: 6px;\"><thead><tr class = \"header\"><th class = \"rowNumber\" style = \"font-weight: bold; text-align: right;\">Row</th><th style = \"text-align: left;\">name</th><th style = \"text-align: left;\">h</th><th style = \"text-align: left;\">f</th><th style = \"text-align: left;\">l</th><th style = \"text-align: left;\">p</th><th style = \"text-align: left;\">r</th><th style = \"text-align: left;\">s</th></tr><tr class = \"subheader headerLastRow\"><th class = \"rowNumber\" style = \"font-weight: bold; text-align: right;\"></th><th title = \"String\" style = \"text-align: left;\">String</th><th title = \"Int64\" style = \"text-align: left;\">Int64</th><th title = \"Int64\" style = \"text-align: left;\">Int64</th><th title = \"Int64\" style = \"text-align: left;\">Int64</th><th title = \"Int64\" style = \"text-align: left;\">Int64</th><th title = \"Int64\" style = \"text-align: left;\">Int64</th><th title = \"Int64\" style = \"text-align: left;\">Int64</th></tr></thead><tbody><tr><td class = \"rowNumber\" style = \"font-weight: bold; text-align: right;\">1</td><td style = \"text-align: left;\">Powerful Okroshka the Queen mother</td><td style = \"text-align: right;\">3</td><td style = \"text-align: right;\">5</td><td style = \"text-align: right;\">11</td><td style = \"text-align: right;\">2</td><td style = \"text-align: right;\">5</td><td style = \"text-align: right;\">3</td></tr><tr><td class = \"rowNumber\" style = \"font-weight: bold; text-align: right;\">2</td><td style = \"text-align: left;\">Open Chapalele the Gondolier</td><td style = \"text-align: right;\">3</td><td style = \"text-align: right;\">9</td><td style = \"text-align: right;\">3</td><td style = \"text-align: right;\">2</td><td style = \"text-align: right;\">3</td><td style = \"text-align: right;\">2</td></tr><tr><td class = \"rowNumber\" style = \"font-weight: bold; text-align: right;\">3</td><td style = \"text-align: left;\">Strange Pommes Anna the Gondolier</td><td style = \"text-align: right;\">4</td><td style = \"text-align: right;\">1</td><td style = \"text-align: right;\">18</td><td style = \"text-align: right;\">2</td><td style = \"text-align: right;\">10</td><td style = \"text-align: right;\">12</td></tr><tr><td class = \"rowNumber\" style = \"font-weight: bold; text-align: right;\">4</td><td style = \"text-align: left;\">Strange French fries the Gondolier</td><td style = \"text-align: right;\">4</td><td style = \"text-align: right;\">3</td><td style = \"text-align: right;\">14</td><td style = \"text-align: right;\">6</td><td style = \"text-align: right;\">2</td><td style = \"text-align: right;\">2</td></tr><tr><td class = \"rowNumber\" style = \"font-weight: bold; text-align: right;\">5</td><td style = \"text-align: left;\">Upper Älplermagronen the Telephone operator</td><td style = \"text-align: right;\">4</td><td style = \"text-align: right;\">7</td><td style = \"text-align: right;\">5</td><td style = \"text-align: right;\">2</td><td style = \"text-align: right;\">1</td><td style = \"text-align: right;\">4</td></tr><tr><td class = \"rowNumber\" style = \"font-weight: bold; text-align: right;\">6</td><td style = \"text-align: left;\">Negative Suan la tu dou si the Demolitionist</td><td style = \"text-align: right;\">5</td><td style = \"text-align: right;\">1</td><td style = \"text-align: right;\">15</td><td style = \"text-align: right;\">15</td><td style = \"text-align: right;\">3</td><td style = \"text-align: right;\">2</td></tr><tr><td class = \"rowNumber\" style = \"font-weight: bold; text-align: right;\">7</td><td style = \"text-align: left;\">Independent Okroshka the Demolitionist</td><td style = \"text-align: right;\">5</td><td style = \"text-align: right;\">2</td><td style = \"text-align: right;\">14</td><td style = \"text-align: right;\">6</td><td style = \"text-align: right;\">1</td><td style = \"text-align: right;\">3</td></tr><tr><td class = \"rowNumber\" style = \"font-weight: bold; text-align: right;\">8</td><td style = \"text-align: left;\">Serious Pommes Anna the Demolitionist</td><td style = \"text-align: right;\">5</td><td style = \"text-align: right;\">3</td><td style = \"text-align: right;\">13</td><td style = \"text-align: right;\">3</td><td style = \"text-align: right;\">2</td><td style = \"text-align: right;\">1</td></tr><tr><td class = \"rowNumber\" style = \"font-weight: bold; text-align: right;\">9</td><td style = \"text-align: left;\">Dangerous Boulangère potatoes the Laundress (also Lavendar)</td><td style = \"text-align: right;\">5</td><td style = \"text-align: right;\">6</td><td style = \"text-align: right;\">2</td><td style = \"text-align: right;\">1</td><td style = \"text-align: right;\">4</td><td style = \"text-align: right;\">5</td></tr><tr><td class = \"rowNumber\" style = \"font-weight: bold; text-align: right;\">10</td><td style = \"text-align: left;\">Expensive Clapshot the Party-leader</td><td style = \"text-align: right;\">5</td><td style = \"text-align: right;\">6</td><td style = \"text-align: right;\">6</td><td style = \"text-align: right;\">1</td><td style = \"text-align: right;\">4</td><td style = \"text-align: right;\">1</td></tr><tr><td class = \"rowNumber\" style = \"font-weight: bold; text-align: right;\">11</td><td style = \"text-align: left;\">Psychological Clapshot the Cashier</td><td style = \"text-align: right;\">5</td><td style = \"text-align: right;\">7</td><td style = \"text-align: right;\">3</td><td style = \"text-align: right;\">2</td><td style = \"text-align: right;\">1</td><td style = \"text-align: right;\">4</td></tr><tr><td class = \"rowNumber\" style = \"font-weight: bold; text-align: right;\">12</td><td style = \"text-align: left;\">Fresh Pommes Anna the Impersonator</td><td style = \"text-align: right;\">6</td><td style = \"text-align: right;\">1</td><td style = \"text-align: right;\">13</td><td style = \"text-align: right;\">3</td><td style = \"text-align: right;\">2</td><td style = \"text-align: right;\">11</td></tr><tr><td class = \"rowNumber\" style = \"font-weight: bold; text-align: right;\">13</td><td style = \"text-align: left;\">Quiet Boulangère potatoes the Juggler</td><td style = \"text-align: right;\">6</td><td style = \"text-align: right;\">5</td><td style = \"text-align: right;\">4</td><td style = \"text-align: right;\">2</td><td style = \"text-align: right;\">3</td><td style = \"text-align: right;\">4</td></tr><tr><td class = \"rowNumber\" style = \"font-weight: bold; text-align: right;\">14</td><td style = \"text-align: left;\">Clean Chips and dip the Housekeeper</td><td style = \"text-align: right;\">6</td><td style = \"text-align: right;\">5</td><td style = \"text-align: right;\">6</td><td style = \"text-align: right;\">1</td><td style = \"text-align: right;\">2</td><td style = \"text-align: right;\">3</td></tr><tr><td class = \"rowNumber\" style = \"font-weight: bold; text-align: right;\">15</td><td style = \"text-align: left;\">Pure French fries the Party-leader</td><td style = \"text-align: right;\">7</td><td style = \"text-align: right;\">2</td><td style = \"text-align: right;\">10</td><td style = \"text-align: right;\">4</td><td style = \"text-align: right;\">1</td><td style = \"text-align: right;\">3</td></tr><tr><td class = \"rowNumber\" style = \"font-weight: bold; text-align: right;\">16</td><td style = \"text-align: left;\">Nervous French fries the Impersonator</td><td style = \"text-align: right;\">7</td><td style = \"text-align: right;\">3</td><td style = \"text-align: right;\">9</td><td style = \"text-align: right;\">1</td><td style = \"text-align: right;\">2</td><td style = \"text-align: right;\">2</td></tr><tr><td class = \"rowNumber\" style = \"font-weight: bold; text-align: right;\">17</td><td style = \"text-align: left;\">Soft Chapalele the Organizer</td><td style = \"text-align: right;\">7</td><td style = \"text-align: right;\">7</td><td style = \"text-align: right;\">1</td><td style = \"text-align: right;\">1</td><td style = \"text-align: right;\">3</td><td style = \"text-align: right;\">2</td></tr><tr><td class = \"rowNumber\" style = \"font-weight: bold; text-align: right;\">18</td><td style = \"text-align: left;\">Silly Rappie pie the Gondolier</td><td style = \"text-align: right;\">7</td><td style = \"text-align: right;\">7</td><td style = \"text-align: right;\">2</td><td style = \"text-align: right;\">2</td><td style = \"text-align: right;\">2</td><td style = \"text-align: right;\">1</td></tr><tr><td class = \"rowNumber\" style = \"font-weight: bold; text-align: right;\">19</td><td style = \"text-align: left;\">Red Gamjajeon the Laborer</td><td style = \"text-align: right;\">8</td><td style = \"text-align: right;\">2</td><td style = \"text-align: right;\">9</td><td style = \"text-align: right;\">1</td><td style = \"text-align: right;\">1</td><td style = \"text-align: right;\">4</td></tr><tr><td class = \"rowNumber\" style = \"font-weight: bold; text-align: right;\">20</td><td style = \"text-align: left;\">Tough Gamjajeon the Party-leader</td><td style = \"text-align: right;\">8</td><td style = \"text-align: right;\">3</td><td style = \"text-align: right;\">5</td><td style = \"text-align: right;\">3</td><td style = \"text-align: right;\">2</td><td style = \"text-align: right;\">7</td></tr><tr><td class = \"rowNumber\" style = \"font-weight: bold; text-align: right;\">21</td><td style = \"text-align: left;\">Nervous Kouign patatez the Dictator</td><td style = \"text-align: right;\">9</td><td style = \"text-align: right;\">1</td><td style = \"text-align: right;\">9</td><td style = \"text-align: right;\">6</td><td style = \"text-align: right;\">1</td><td style = \"text-align: right;\">3</td></tr><tr><td class = \"rowNumber\" style = \"font-weight: bold; text-align: right;\">22</td><td style = \"text-align: left;\">Boring Pitepalt the Shoeshiner</td><td style = \"text-align: right;\">9</td><td style = \"text-align: right;\">4</td><td style = \"text-align: right;\">4</td><td style = \"text-align: right;\">3</td><td style = \"text-align: right;\">2</td><td style = \"text-align: right;\">2</td></tr></tbody></table></div>"
      ],
      "text/latex": [
       "\\begin{tabular}{r|ccccc}\n",
       "\t& name & h & f & l & \\\\\n",
       "\t\\hline\n",
       "\t& String & Int64 & Int64 & Int64 & \\\\\n",
       "\t\\hline\n",
       "\t1 & Powerful Okroshka the Queen mother & 3 & 5 & 11 & $\\dots$ \\\\\n",
       "\t2 & Open Chapalele the Gondolier & 3 & 9 & 3 & $\\dots$ \\\\\n",
       "\t3 & Strange Pommes Anna the Gondolier & 4 & 1 & 18 & $\\dots$ \\\\\n",
       "\t4 & Strange French fries the Gondolier & 4 & 3 & 14 & $\\dots$ \\\\\n",
       "\t5 & Upper Älplermagronen the Telephone operator & 4 & 7 & 5 & $\\dots$ \\\\\n",
       "\t6 & Negative Suan la tu dou si the Demolitionist & 5 & 1 & 15 & $\\dots$ \\\\\n",
       "\t7 & Independent Okroshka the Demolitionist & 5 & 2 & 14 & $\\dots$ \\\\\n",
       "\t8 & Serious Pommes Anna the Demolitionist & 5 & 3 & 13 & $\\dots$ \\\\\n",
       "\t9 & Dangerous Boulangère potatoes the Laundress (also Lavendar) & 5 & 6 & 2 & $\\dots$ \\\\\n",
       "\t10 & Expensive Clapshot the Party-leader & 5 & 6 & 6 & $\\dots$ \\\\\n",
       "\t11 & Psychological Clapshot the Cashier & 5 & 7 & 3 & $\\dots$ \\\\\n",
       "\t12 & Fresh Pommes Anna the Impersonator & 6 & 1 & 13 & $\\dots$ \\\\\n",
       "\t13 & Quiet Boulangère potatoes the Juggler & 6 & 5 & 4 & $\\dots$ \\\\\n",
       "\t14 & Clean Chips and dip the Housekeeper & 6 & 5 & 6 & $\\dots$ \\\\\n",
       "\t15 & Pure French fries the Party-leader & 7 & 2 & 10 & $\\dots$ \\\\\n",
       "\t16 & Nervous French fries the Impersonator & 7 & 3 & 9 & $\\dots$ \\\\\n",
       "\t17 & Soft Chapalele the Organizer & 7 & 7 & 1 & $\\dots$ \\\\\n",
       "\t18 & Silly Rappie pie the Gondolier & 7 & 7 & 2 & $\\dots$ \\\\\n",
       "\t19 & Red Gamjajeon the Laborer & 8 & 2 & 9 & $\\dots$ \\\\\n",
       "\t20 & Tough Gamjajeon the Party-leader & 8 & 3 & 5 & $\\dots$ \\\\\n",
       "\t21 & Nervous Kouign patatez the Dictator & 9 & 1 & 9 & $\\dots$ \\\\\n",
       "\t22 & Boring Pitepalt the Shoeshiner & 9 & 4 & 4 & $\\dots$ \\\\\n",
       "\\end{tabular}\n"
      ],
      "text/plain": [
       "\u001b[1m22×7 DataFrame\u001b[0m\n",
       "\u001b[1m Row \u001b[0m│\u001b[1m name                              \u001b[0m\u001b[1m h     \u001b[0m\u001b[1m f     \u001b[0m\u001b[1m l     \u001b[0m\u001b[1m p     \u001b[0m\u001b[1m r     \u001b[0m\u001b[1m s\u001b[0m ⋯\n",
       "     │\u001b[90m String                            \u001b[0m\u001b[90m Int64 \u001b[0m\u001b[90m Int64 \u001b[0m\u001b[90m Int64 \u001b[0m\u001b[90m Int64 \u001b[0m\u001b[90m Int64 \u001b[0m\u001b[90m I\u001b[0m ⋯\n",
       "─────┼──────────────────────────────────────────────────────────────────────────\n",
       "   1 │ Powerful Okroshka the Queen moth…      3      5     11      2      5    ⋯\n",
       "   2 │ Open Chapalele the Gondolier           3      9      3      2      3\n",
       "   3 │ Strange Pommes Anna the Gondolier      4      1     18      2     10\n",
       "   4 │ Strange French fries the Gondoli…      4      3     14      6      2\n",
       "   5 │ Upper Älplermagronen the Telepho…      4      7      5      2      1    ⋯\n",
       "   6 │ Negative Suan la tu dou si the D…      5      1     15     15      3\n",
       "   7 │ Independent Okroshka the Demolit…      5      2     14      6      1\n",
       "   8 │ Serious Pommes Anna the Demoliti…      5      3     13      3      2\n",
       "   9 │ Dangerous Boulangère potatoes th…      5      6      2      1      4    ⋯\n",
       "  10 │ Expensive Clapshot the Party-lea…      5      6      6      1      4\n",
       "  11 │ Psychological Clapshot the Cashi…      5      7      3      2      1\n",
       "  12 │ Fresh Pommes Anna the Impersonat…      6      1     13      3      2\n",
       "  13 │ Quiet Boulangère potatoes the Ju…      6      5      4      2      3    ⋯\n",
       "  14 │ Clean Chips and dip the Housekee…      6      5      6      1      2\n",
       "  15 │ Pure French fries the Party-lead…      7      2     10      4      1\n",
       "  16 │ Nervous French fries the Imperso…      7      3      9      1      2\n",
       "  17 │ Soft Chapalele the Organizer           7      7      1      1      3    ⋯\n",
       "  18 │ Silly Rappie pie the Gondolier         7      7      2      2      2\n",
       "  19 │ Red Gamjajeon the Laborer              8      2      9      1      1\n",
       "  20 │ Tough Gamjajeon the Party-leader       8      3      5      3      2\n",
       "  21 │ Nervous Kouign patatez the Dicta…      9      1      9      6      1    ⋯\n",
       "  22 │ Boring Pitepalt the Shoeshiner         9      4      4      3      2\n",
       "\u001b[36m                                                                1 column omitted\u001b[0m"
      ]
     },
     "execution_count": 19,
     "metadata": {},
     "output_type": "execute_result"
    }
   ],
   "source": [
    "nash_env = nash_env[counts .> 10]\n",
    "spuds_to_df(nash_env)"
   ]
  },
  {
   "cell_type": "code",
   "execution_count": 20,
   "id": "fcd27346",
   "metadata": {},
   "outputs": [
    {
     "data": {
      "text/plain": [
       "22-element Vector{Int64}:\n",
       "  883\n",
       " 1264\n",
       "  159\n",
       "  696\n",
       "    1\n",
       "  569\n",
       "    1\n",
       "    1\n",
       "  380\n",
       "  407\n",
       "    1\n",
       "  820\n",
       "  285\n",
       "  348\n",
       "    1\n",
       "    1\n",
       " 1168\n",
       "    3\n",
       "    1\n",
       " 1390\n",
       " 1072\n",
       "  571"
      ]
     },
     "execution_count": 20,
     "metadata": {},
     "output_type": "execute_result"
    }
   ],
   "source": [
    "counts = ffp(nash_env, 10000)"
   ]
  },
  {
   "cell_type": "code",
   "execution_count": 21,
   "id": "04414a09",
   "metadata": {},
   "outputs": [
    {
     "data": {
      "text/html": [
       "<div><div style = \"float: left;\"><span>14×7 DataFrame</span></div><div style = \"clear: both;\"></div></div><div class = \"data-frame\" style = \"overflow-x: scroll;\"><table class = \"data-frame\" style = \"margin-bottom: 6px;\"><thead><tr class = \"header\"><th class = \"rowNumber\" style = \"font-weight: bold; text-align: right;\">Row</th><th style = \"text-align: left;\">name</th><th style = \"text-align: left;\">h</th><th style = \"text-align: left;\">f</th><th style = \"text-align: left;\">l</th><th style = \"text-align: left;\">p</th><th style = \"text-align: left;\">r</th><th style = \"text-align: left;\">s</th></tr><tr class = \"subheader headerLastRow\"><th class = \"rowNumber\" style = \"font-weight: bold; text-align: right;\"></th><th title = \"String\" style = \"text-align: left;\">String</th><th title = \"Int64\" style = \"text-align: left;\">Int64</th><th title = \"Int64\" style = \"text-align: left;\">Int64</th><th title = \"Int64\" style = \"text-align: left;\">Int64</th><th title = \"Int64\" style = \"text-align: left;\">Int64</th><th title = \"Int64\" style = \"text-align: left;\">Int64</th><th title = \"Int64\" style = \"text-align: left;\">Int64</th></tr></thead><tbody><tr><td class = \"rowNumber\" style = \"font-weight: bold; text-align: right;\">1</td><td style = \"text-align: left;\">Powerful Okroshka the Queen mother</td><td style = \"text-align: right;\">3</td><td style = \"text-align: right;\">5</td><td style = \"text-align: right;\">11</td><td style = \"text-align: right;\">2</td><td style = \"text-align: right;\">5</td><td style = \"text-align: right;\">3</td></tr><tr><td class = \"rowNumber\" style = \"font-weight: bold; text-align: right;\">2</td><td style = \"text-align: left;\">Open Chapalele the Gondolier</td><td style = \"text-align: right;\">3</td><td style = \"text-align: right;\">9</td><td style = \"text-align: right;\">3</td><td style = \"text-align: right;\">2</td><td style = \"text-align: right;\">3</td><td style = \"text-align: right;\">2</td></tr><tr><td class = \"rowNumber\" style = \"font-weight: bold; text-align: right;\">3</td><td style = \"text-align: left;\">Strange Pommes Anna the Gondolier</td><td style = \"text-align: right;\">4</td><td style = \"text-align: right;\">1</td><td style = \"text-align: right;\">18</td><td style = \"text-align: right;\">2</td><td style = \"text-align: right;\">10</td><td style = \"text-align: right;\">12</td></tr><tr><td class = \"rowNumber\" style = \"font-weight: bold; text-align: right;\">4</td><td style = \"text-align: left;\">Strange French fries the Gondolier</td><td style = \"text-align: right;\">4</td><td style = \"text-align: right;\">3</td><td style = \"text-align: right;\">14</td><td style = \"text-align: right;\">6</td><td style = \"text-align: right;\">2</td><td style = \"text-align: right;\">2</td></tr><tr><td class = \"rowNumber\" style = \"font-weight: bold; text-align: right;\">5</td><td style = \"text-align: left;\">Negative Suan la tu dou si the Demolitionist</td><td style = \"text-align: right;\">5</td><td style = \"text-align: right;\">1</td><td style = \"text-align: right;\">15</td><td style = \"text-align: right;\">15</td><td style = \"text-align: right;\">3</td><td style = \"text-align: right;\">2</td></tr><tr><td class = \"rowNumber\" style = \"font-weight: bold; text-align: right;\">6</td><td style = \"text-align: left;\">Dangerous Boulangère potatoes the Laundress (also Lavendar)</td><td style = \"text-align: right;\">5</td><td style = \"text-align: right;\">6</td><td style = \"text-align: right;\">2</td><td style = \"text-align: right;\">1</td><td style = \"text-align: right;\">4</td><td style = \"text-align: right;\">5</td></tr><tr><td class = \"rowNumber\" style = \"font-weight: bold; text-align: right;\">7</td><td style = \"text-align: left;\">Expensive Clapshot the Party-leader</td><td style = \"text-align: right;\">5</td><td style = \"text-align: right;\">6</td><td style = \"text-align: right;\">6</td><td style = \"text-align: right;\">1</td><td style = \"text-align: right;\">4</td><td style = \"text-align: right;\">1</td></tr><tr><td class = \"rowNumber\" style = \"font-weight: bold; text-align: right;\">8</td><td style = \"text-align: left;\">Fresh Pommes Anna the Impersonator</td><td style = \"text-align: right;\">6</td><td style = \"text-align: right;\">1</td><td style = \"text-align: right;\">13</td><td style = \"text-align: right;\">3</td><td style = \"text-align: right;\">2</td><td style = \"text-align: right;\">11</td></tr><tr><td class = \"rowNumber\" style = \"font-weight: bold; text-align: right;\">9</td><td style = \"text-align: left;\">Quiet Boulangère potatoes the Juggler</td><td style = \"text-align: right;\">6</td><td style = \"text-align: right;\">5</td><td style = \"text-align: right;\">4</td><td style = \"text-align: right;\">2</td><td style = \"text-align: right;\">3</td><td style = \"text-align: right;\">4</td></tr><tr><td class = \"rowNumber\" style = \"font-weight: bold; text-align: right;\">10</td><td style = \"text-align: left;\">Clean Chips and dip the Housekeeper</td><td style = \"text-align: right;\">6</td><td style = \"text-align: right;\">5</td><td style = \"text-align: right;\">6</td><td style = \"text-align: right;\">1</td><td style = \"text-align: right;\">2</td><td style = \"text-align: right;\">3</td></tr><tr><td class = \"rowNumber\" style = \"font-weight: bold; text-align: right;\">11</td><td style = \"text-align: left;\">Soft Chapalele the Organizer</td><td style = \"text-align: right;\">7</td><td style = \"text-align: right;\">7</td><td style = \"text-align: right;\">1</td><td style = \"text-align: right;\">1</td><td style = \"text-align: right;\">3</td><td style = \"text-align: right;\">2</td></tr><tr><td class = \"rowNumber\" style = \"font-weight: bold; text-align: right;\">12</td><td style = \"text-align: left;\">Tough Gamjajeon the Party-leader</td><td style = \"text-align: right;\">8</td><td style = \"text-align: right;\">3</td><td style = \"text-align: right;\">5</td><td style = \"text-align: right;\">3</td><td style = \"text-align: right;\">2</td><td style = \"text-align: right;\">7</td></tr><tr><td class = \"rowNumber\" style = \"font-weight: bold; text-align: right;\">13</td><td style = \"text-align: left;\">Nervous Kouign patatez the Dictator</td><td style = \"text-align: right;\">9</td><td style = \"text-align: right;\">1</td><td style = \"text-align: right;\">9</td><td style = \"text-align: right;\">6</td><td style = \"text-align: right;\">1</td><td style = \"text-align: right;\">3</td></tr><tr><td class = \"rowNumber\" style = \"font-weight: bold; text-align: right;\">14</td><td style = \"text-align: left;\">Boring Pitepalt the Shoeshiner</td><td style = \"text-align: right;\">9</td><td style = \"text-align: right;\">4</td><td style = \"text-align: right;\">4</td><td style = \"text-align: right;\">3</td><td style = \"text-align: right;\">2</td><td style = \"text-align: right;\">2</td></tr></tbody></table></div>"
      ],
      "text/latex": [
       "\\begin{tabular}{r|ccccc}\n",
       "\t& name & h & f & l & \\\\\n",
       "\t\\hline\n",
       "\t& String & Int64 & Int64 & Int64 & \\\\\n",
       "\t\\hline\n",
       "\t1 & Powerful Okroshka the Queen mother & 3 & 5 & 11 & $\\dots$ \\\\\n",
       "\t2 & Open Chapalele the Gondolier & 3 & 9 & 3 & $\\dots$ \\\\\n",
       "\t3 & Strange Pommes Anna the Gondolier & 4 & 1 & 18 & $\\dots$ \\\\\n",
       "\t4 & Strange French fries the Gondolier & 4 & 3 & 14 & $\\dots$ \\\\\n",
       "\t5 & Negative Suan la tu dou si the Demolitionist & 5 & 1 & 15 & $\\dots$ \\\\\n",
       "\t6 & Dangerous Boulangère potatoes the Laundress (also Lavendar) & 5 & 6 & 2 & $\\dots$ \\\\\n",
       "\t7 & Expensive Clapshot the Party-leader & 5 & 6 & 6 & $\\dots$ \\\\\n",
       "\t8 & Fresh Pommes Anna the Impersonator & 6 & 1 & 13 & $\\dots$ \\\\\n",
       "\t9 & Quiet Boulangère potatoes the Juggler & 6 & 5 & 4 & $\\dots$ \\\\\n",
       "\t10 & Clean Chips and dip the Housekeeper & 6 & 5 & 6 & $\\dots$ \\\\\n",
       "\t11 & Soft Chapalele the Organizer & 7 & 7 & 1 & $\\dots$ \\\\\n",
       "\t12 & Tough Gamjajeon the Party-leader & 8 & 3 & 5 & $\\dots$ \\\\\n",
       "\t13 & Nervous Kouign patatez the Dictator & 9 & 1 & 9 & $\\dots$ \\\\\n",
       "\t14 & Boring Pitepalt the Shoeshiner & 9 & 4 & 4 & $\\dots$ \\\\\n",
       "\\end{tabular}\n"
      ],
      "text/plain": [
       "\u001b[1m14×7 DataFrame\u001b[0m\n",
       "\u001b[1m Row \u001b[0m│\u001b[1m name                              \u001b[0m\u001b[1m h     \u001b[0m\u001b[1m f     \u001b[0m\u001b[1m l     \u001b[0m\u001b[1m p     \u001b[0m\u001b[1m r     \u001b[0m\u001b[1m s\u001b[0m ⋯\n",
       "     │\u001b[90m String                            \u001b[0m\u001b[90m Int64 \u001b[0m\u001b[90m Int64 \u001b[0m\u001b[90m Int64 \u001b[0m\u001b[90m Int64 \u001b[0m\u001b[90m Int64 \u001b[0m\u001b[90m I\u001b[0m ⋯\n",
       "─────┼──────────────────────────────────────────────────────────────────────────\n",
       "   1 │ Powerful Okroshka the Queen moth…      3      5     11      2      5    ⋯\n",
       "   2 │ Open Chapalele the Gondolier           3      9      3      2      3\n",
       "   3 │ Strange Pommes Anna the Gondolier      4      1     18      2     10\n",
       "   4 │ Strange French fries the Gondoli…      4      3     14      6      2\n",
       "   5 │ Negative Suan la tu dou si the D…      5      1     15     15      3    ⋯\n",
       "   6 │ Dangerous Boulangère potatoes th…      5      6      2      1      4\n",
       "   7 │ Expensive Clapshot the Party-lea…      5      6      6      1      4\n",
       "   8 │ Fresh Pommes Anna the Impersonat…      6      1     13      3      2\n",
       "   9 │ Quiet Boulangère potatoes the Ju…      6      5      4      2      3    ⋯\n",
       "  10 │ Clean Chips and dip the Housekee…      6      5      6      1      2\n",
       "  11 │ Soft Chapalele the Organizer           7      7      1      1      3\n",
       "  12 │ Tough Gamjajeon the Party-leader       8      3      5      3      2\n",
       "  13 │ Nervous Kouign patatez the Dicta…      9      1      9      6      1    ⋯\n",
       "  14 │ Boring Pitepalt the Shoeshiner         9      4      4      3      2\n",
       "\u001b[36m                                                                1 column omitted\u001b[0m"
      ]
     },
     "execution_count": 21,
     "metadata": {},
     "output_type": "execute_result"
    }
   ],
   "source": [
    "nash_env = nash_env[counts .> 10]\n",
    "spuds_to_df(nash_env)"
   ]
  },
  {
   "cell_type": "markdown",
   "id": "8dba7dcc",
   "metadata": {},
   "source": [
    "### Loop this"
   ]
  },
  {
   "cell_type": "code",
   "execution_count": 22,
   "id": "e0bc4a54",
   "metadata": {},
   "outputs": [
    {
     "data": {
      "text/plain": [
       "14-element Vector{Int64}:\n",
       " 10\n",
       " 15\n",
       "  2\n",
       "  7\n",
       "  6\n",
       "  4\n",
       "  5\n",
       "  9\n",
       "  4\n",
       "  3\n",
       " 13\n",
       " 17\n",
       " 12\n",
       "  7"
      ]
     },
     "execution_count": 22,
     "metadata": {},
     "output_type": "execute_result"
    }
   ],
   "source": [
    "counts = ffp(nash_env, 100)"
   ]
  },
  {
   "cell_type": "code",
   "execution_count": 23,
   "id": "c9abb9e9",
   "metadata": {},
   "outputs": [],
   "source": [
    "#counts = ffp(nash_env, 10000)"
   ]
  },
  {
   "cell_type": "code",
   "execution_count": 24,
   "id": "dda23034",
   "metadata": {},
   "outputs": [
    {
     "data": {
      "text/html": [
       "<div><div style = \"float: left;\"><span>14×7 DataFrame</span></div><div style = \"clear: both;\"></div></div><div class = \"data-frame\" style = \"overflow-x: scroll;\"><table class = \"data-frame\" style = \"margin-bottom: 6px;\"><thead><tr class = \"header\"><th class = \"rowNumber\" style = \"font-weight: bold; text-align: right;\">Row</th><th style = \"text-align: left;\">name</th><th style = \"text-align: left;\">h</th><th style = \"text-align: left;\">f</th><th style = \"text-align: left;\">l</th><th style = \"text-align: left;\">p</th><th style = \"text-align: left;\">r</th><th style = \"text-align: left;\">s</th></tr><tr class = \"subheader headerLastRow\"><th class = \"rowNumber\" style = \"font-weight: bold; text-align: right;\"></th><th title = \"String\" style = \"text-align: left;\">String</th><th title = \"Int64\" style = \"text-align: left;\">Int64</th><th title = \"Int64\" style = \"text-align: left;\">Int64</th><th title = \"Int64\" style = \"text-align: left;\">Int64</th><th title = \"Int64\" style = \"text-align: left;\">Int64</th><th title = \"Int64\" style = \"text-align: left;\">Int64</th><th title = \"Int64\" style = \"text-align: left;\">Int64</th></tr></thead><tbody><tr><td class = \"rowNumber\" style = \"font-weight: bold; text-align: right;\">1</td><td style = \"text-align: left;\">Powerful Okroshka the Queen mother</td><td style = \"text-align: right;\">3</td><td style = \"text-align: right;\">5</td><td style = \"text-align: right;\">11</td><td style = \"text-align: right;\">2</td><td style = \"text-align: right;\">5</td><td style = \"text-align: right;\">3</td></tr><tr><td class = \"rowNumber\" style = \"font-weight: bold; text-align: right;\">2</td><td style = \"text-align: left;\">Open Chapalele the Gondolier</td><td style = \"text-align: right;\">3</td><td style = \"text-align: right;\">9</td><td style = \"text-align: right;\">3</td><td style = \"text-align: right;\">2</td><td style = \"text-align: right;\">3</td><td style = \"text-align: right;\">2</td></tr><tr><td class = \"rowNumber\" style = \"font-weight: bold; text-align: right;\">3</td><td style = \"text-align: left;\">Strange Pommes Anna the Gondolier</td><td style = \"text-align: right;\">4</td><td style = \"text-align: right;\">1</td><td style = \"text-align: right;\">18</td><td style = \"text-align: right;\">2</td><td style = \"text-align: right;\">10</td><td style = \"text-align: right;\">12</td></tr><tr><td class = \"rowNumber\" style = \"font-weight: bold; text-align: right;\">4</td><td style = \"text-align: left;\">Strange French fries the Gondolier</td><td style = \"text-align: right;\">4</td><td style = \"text-align: right;\">3</td><td style = \"text-align: right;\">14</td><td style = \"text-align: right;\">6</td><td style = \"text-align: right;\">2</td><td style = \"text-align: right;\">2</td></tr><tr><td class = \"rowNumber\" style = \"font-weight: bold; text-align: right;\">5</td><td style = \"text-align: left;\">Negative Suan la tu dou si the Demolitionist</td><td style = \"text-align: right;\">5</td><td style = \"text-align: right;\">1</td><td style = \"text-align: right;\">15</td><td style = \"text-align: right;\">15</td><td style = \"text-align: right;\">3</td><td style = \"text-align: right;\">2</td></tr><tr><td class = \"rowNumber\" style = \"font-weight: bold; text-align: right;\">6</td><td style = \"text-align: left;\">Dangerous Boulangère potatoes the Laundress (also Lavendar)</td><td style = \"text-align: right;\">5</td><td style = \"text-align: right;\">6</td><td style = \"text-align: right;\">2</td><td style = \"text-align: right;\">1</td><td style = \"text-align: right;\">4</td><td style = \"text-align: right;\">5</td></tr><tr><td class = \"rowNumber\" style = \"font-weight: bold; text-align: right;\">7</td><td style = \"text-align: left;\">Expensive Clapshot the Party-leader</td><td style = \"text-align: right;\">5</td><td style = \"text-align: right;\">6</td><td style = \"text-align: right;\">6</td><td style = \"text-align: right;\">1</td><td style = \"text-align: right;\">4</td><td style = \"text-align: right;\">1</td></tr><tr><td class = \"rowNumber\" style = \"font-weight: bold; text-align: right;\">8</td><td style = \"text-align: left;\">Fresh Pommes Anna the Impersonator</td><td style = \"text-align: right;\">6</td><td style = \"text-align: right;\">1</td><td style = \"text-align: right;\">13</td><td style = \"text-align: right;\">3</td><td style = \"text-align: right;\">2</td><td style = \"text-align: right;\">11</td></tr><tr><td class = \"rowNumber\" style = \"font-weight: bold; text-align: right;\">9</td><td style = \"text-align: left;\">Quiet Boulangère potatoes the Juggler</td><td style = \"text-align: right;\">6</td><td style = \"text-align: right;\">5</td><td style = \"text-align: right;\">4</td><td style = \"text-align: right;\">2</td><td style = \"text-align: right;\">3</td><td style = \"text-align: right;\">4</td></tr><tr><td class = \"rowNumber\" style = \"font-weight: bold; text-align: right;\">10</td><td style = \"text-align: left;\">Clean Chips and dip the Housekeeper</td><td style = \"text-align: right;\">6</td><td style = \"text-align: right;\">5</td><td style = \"text-align: right;\">6</td><td style = \"text-align: right;\">1</td><td style = \"text-align: right;\">2</td><td style = \"text-align: right;\">3</td></tr><tr><td class = \"rowNumber\" style = \"font-weight: bold; text-align: right;\">11</td><td style = \"text-align: left;\">Soft Chapalele the Organizer</td><td style = \"text-align: right;\">7</td><td style = \"text-align: right;\">7</td><td style = \"text-align: right;\">1</td><td style = \"text-align: right;\">1</td><td style = \"text-align: right;\">3</td><td style = \"text-align: right;\">2</td></tr><tr><td class = \"rowNumber\" style = \"font-weight: bold; text-align: right;\">12</td><td style = \"text-align: left;\">Tough Gamjajeon the Party-leader</td><td style = \"text-align: right;\">8</td><td style = \"text-align: right;\">3</td><td style = \"text-align: right;\">5</td><td style = \"text-align: right;\">3</td><td style = \"text-align: right;\">2</td><td style = \"text-align: right;\">7</td></tr><tr><td class = \"rowNumber\" style = \"font-weight: bold; text-align: right;\">13</td><td style = \"text-align: left;\">Nervous Kouign patatez the Dictator</td><td style = \"text-align: right;\">9</td><td style = \"text-align: right;\">1</td><td style = \"text-align: right;\">9</td><td style = \"text-align: right;\">6</td><td style = \"text-align: right;\">1</td><td style = \"text-align: right;\">3</td></tr><tr><td class = \"rowNumber\" style = \"font-weight: bold; text-align: right;\">14</td><td style = \"text-align: left;\">Boring Pitepalt the Shoeshiner</td><td style = \"text-align: right;\">9</td><td style = \"text-align: right;\">4</td><td style = \"text-align: right;\">4</td><td style = \"text-align: right;\">3</td><td style = \"text-align: right;\">2</td><td style = \"text-align: right;\">2</td></tr></tbody></table></div>"
      ],
      "text/latex": [
       "\\begin{tabular}{r|ccccc}\n",
       "\t& name & h & f & l & \\\\\n",
       "\t\\hline\n",
       "\t& String & Int64 & Int64 & Int64 & \\\\\n",
       "\t\\hline\n",
       "\t1 & Powerful Okroshka the Queen mother & 3 & 5 & 11 & $\\dots$ \\\\\n",
       "\t2 & Open Chapalele the Gondolier & 3 & 9 & 3 & $\\dots$ \\\\\n",
       "\t3 & Strange Pommes Anna the Gondolier & 4 & 1 & 18 & $\\dots$ \\\\\n",
       "\t4 & Strange French fries the Gondolier & 4 & 3 & 14 & $\\dots$ \\\\\n",
       "\t5 & Negative Suan la tu dou si the Demolitionist & 5 & 1 & 15 & $\\dots$ \\\\\n",
       "\t6 & Dangerous Boulangère potatoes the Laundress (also Lavendar) & 5 & 6 & 2 & $\\dots$ \\\\\n",
       "\t7 & Expensive Clapshot the Party-leader & 5 & 6 & 6 & $\\dots$ \\\\\n",
       "\t8 & Fresh Pommes Anna the Impersonator & 6 & 1 & 13 & $\\dots$ \\\\\n",
       "\t9 & Quiet Boulangère potatoes the Juggler & 6 & 5 & 4 & $\\dots$ \\\\\n",
       "\t10 & Clean Chips and dip the Housekeeper & 6 & 5 & 6 & $\\dots$ \\\\\n",
       "\t11 & Soft Chapalele the Organizer & 7 & 7 & 1 & $\\dots$ \\\\\n",
       "\t12 & Tough Gamjajeon the Party-leader & 8 & 3 & 5 & $\\dots$ \\\\\n",
       "\t13 & Nervous Kouign patatez the Dictator & 9 & 1 & 9 & $\\dots$ \\\\\n",
       "\t14 & Boring Pitepalt the Shoeshiner & 9 & 4 & 4 & $\\dots$ \\\\\n",
       "\\end{tabular}\n"
      ],
      "text/plain": [
       "\u001b[1m14×7 DataFrame\u001b[0m\n",
       "\u001b[1m Row \u001b[0m│\u001b[1m name                              \u001b[0m\u001b[1m h     \u001b[0m\u001b[1m f     \u001b[0m\u001b[1m l     \u001b[0m\u001b[1m p     \u001b[0m\u001b[1m r     \u001b[0m\u001b[1m s\u001b[0m ⋯\n",
       "     │\u001b[90m String                            \u001b[0m\u001b[90m Int64 \u001b[0m\u001b[90m Int64 \u001b[0m\u001b[90m Int64 \u001b[0m\u001b[90m Int64 \u001b[0m\u001b[90m Int64 \u001b[0m\u001b[90m I\u001b[0m ⋯\n",
       "─────┼──────────────────────────────────────────────────────────────────────────\n",
       "   1 │ Powerful Okroshka the Queen moth…      3      5     11      2      5    ⋯\n",
       "   2 │ Open Chapalele the Gondolier           3      9      3      2      3\n",
       "   3 │ Strange Pommes Anna the Gondolier      4      1     18      2     10\n",
       "   4 │ Strange French fries the Gondoli…      4      3     14      6      2\n",
       "   5 │ Negative Suan la tu dou si the D…      5      1     15     15      3    ⋯\n",
       "   6 │ Dangerous Boulangère potatoes th…      5      6      2      1      4\n",
       "   7 │ Expensive Clapshot the Party-lea…      5      6      6      1      4\n",
       "   8 │ Fresh Pommes Anna the Impersonat…      6      1     13      3      2\n",
       "   9 │ Quiet Boulangère potatoes the Ju…      6      5      4      2      3    ⋯\n",
       "  10 │ Clean Chips and dip the Housekee…      6      5      6      1      2\n",
       "  11 │ Soft Chapalele the Organizer           7      7      1      1      3\n",
       "  12 │ Tough Gamjajeon the Party-leader       8      3      5      3      2\n",
       "  13 │ Nervous Kouign patatez the Dicta…      9      1      9      6      1    ⋯\n",
       "  14 │ Boring Pitepalt the Shoeshiner         9      4      4      3      2\n",
       "\u001b[36m                                                                1 column omitted\u001b[0m"
      ]
     },
     "execution_count": 24,
     "metadata": {},
     "output_type": "execute_result"
    }
   ],
   "source": [
    "spuds_to_df(nash_env)"
   ]
  },
  {
   "cell_type": "code",
   "execution_count": 25,
   "id": "b40c9c71",
   "metadata": {},
   "outputs": [],
   "source": [
    "# # don't run this every iteration!!\n",
    "# nash_env = nash_env[counts .> 10]\n",
    "# counts = ffp(nash_env, 10000)"
   ]
  },
  {
   "cell_type": "code",
   "execution_count": 26,
   "id": "7522c5a1",
   "metadata": {},
   "outputs": [
    {
     "data": {
      "text/plain": [
       "Spud(\"Open Boulangère potatoes the Quilter\", 1, 9, 1, 3, 3, 4)"
      ]
     },
     "execution_count": 26,
     "metadata": {},
     "output_type": "execute_result"
    }
   ],
   "source": [
    "ff = rand_rename(pick_best_library2(nash_env, counts./sum(counts)))"
   ]
  },
  {
   "cell_type": "code",
   "execution_count": 27,
   "id": "36d7d97a",
   "metadata": {},
   "outputs": [
    {
     "data": {
      "text/plain": [
       "0.7894736842105263"
      ]
     },
     "execution_count": 27,
     "metadata": {},
     "output_type": "execute_result"
    }
   ],
   "source": [
    "ev = eval_battle_list2(ff, nash_env, counts./sum(counts))"
   ]
  },
  {
   "cell_type": "code",
   "execution_count": 28,
   "id": "7c3b3749",
   "metadata": {},
   "outputs": [
    {
     "data": {
      "text/plain": [
       "2-element Vector{Spud}:\n",
       " Spud(\"\", 1, 9, 1, 3, 3, 4)\n",
       " Spud(\"\", 1, 9, 1, 3, 4, 3)"
      ]
     },
     "execution_count": 28,
     "metadata": {},
     "output_type": "execute_result"
    }
   ],
   "source": [
    "bestf = subset_library(nash_env, 500, counts./sum(counts), ev-0.05)"
   ]
  },
  {
   "cell_type": "code",
   "execution_count": 29,
   "id": "d6029104",
   "metadata": {},
   "outputs": [
    {
     "name": "stdout",
     "output_type": "stream",
     "text": [
      "10001\n"
     ]
    },
    {
     "data": {
      "text/plain": [
       "Spud(\"Warm Cacasse à cul nu the Telephone operator\", 1, 9, 1, 3, 4, 3)"
      ]
     },
     "execution_count": 29,
     "metadata": {},
     "output_type": "execute_result"
    }
   ],
   "source": [
    "cc = ffp(bestf, 10000)\n",
    "println(maximum(cc))\n",
    "ff2 = rand_rename(bestf[cc .== maximum(cc)][1])"
   ]
  },
  {
   "cell_type": "code",
   "execution_count": 30,
   "id": "d7f6f1f6",
   "metadata": {},
   "outputs": [
    {
     "data": {
      "text/plain": [
       "0.7543859649122807"
      ]
     },
     "execution_count": 30,
     "metadata": {},
     "output_type": "execute_result"
    }
   ],
   "source": [
    "eval_battle_list2(ff2, nash_env, counts./sum(counts))"
   ]
  },
  {
   "cell_type": "code",
   "execution_count": 31,
   "id": "6273fbba",
   "metadata": {},
   "outputs": [
    {
     "data": {
      "text/html": [
       "<div><div style = \"float: left;\"><span>15×7 DataFrame</span></div><div style = \"clear: both;\"></div></div><div class = \"data-frame\" style = \"overflow-x: scroll;\"><table class = \"data-frame\" style = \"margin-bottom: 6px;\"><thead><tr class = \"header\"><th class = \"rowNumber\" style = \"font-weight: bold; text-align: right;\">Row</th><th style = \"text-align: left;\">name</th><th style = \"text-align: left;\">h</th><th style = \"text-align: left;\">f</th><th style = \"text-align: left;\">l</th><th style = \"text-align: left;\">p</th><th style = \"text-align: left;\">r</th><th style = \"text-align: left;\">s</th></tr><tr class = \"subheader headerLastRow\"><th class = \"rowNumber\" style = \"font-weight: bold; text-align: right;\"></th><th title = \"String\" style = \"text-align: left;\">String</th><th title = \"Int64\" style = \"text-align: left;\">Int64</th><th title = \"Int64\" style = \"text-align: left;\">Int64</th><th title = \"Int64\" style = \"text-align: left;\">Int64</th><th title = \"Int64\" style = \"text-align: left;\">Int64</th><th title = \"Int64\" style = \"text-align: left;\">Int64</th><th title = \"Int64\" style = \"text-align: left;\">Int64</th></tr></thead><tbody><tr><td class = \"rowNumber\" style = \"font-weight: bold; text-align: right;\">1</td><td style = \"text-align: left;\">Powerful Okroshka the Queen mother</td><td style = \"text-align: right;\">3</td><td style = \"text-align: right;\">5</td><td style = \"text-align: right;\">11</td><td style = \"text-align: right;\">2</td><td style = \"text-align: right;\">5</td><td style = \"text-align: right;\">3</td></tr><tr><td class = \"rowNumber\" style = \"font-weight: bold; text-align: right;\">2</td><td style = \"text-align: left;\">Open Chapalele the Gondolier</td><td style = \"text-align: right;\">3</td><td style = \"text-align: right;\">9</td><td style = \"text-align: right;\">3</td><td style = \"text-align: right;\">2</td><td style = \"text-align: right;\">3</td><td style = \"text-align: right;\">2</td></tr><tr><td class = \"rowNumber\" style = \"font-weight: bold; text-align: right;\">3</td><td style = \"text-align: left;\">Strange Pommes Anna the Gondolier</td><td style = \"text-align: right;\">4</td><td style = \"text-align: right;\">1</td><td style = \"text-align: right;\">18</td><td style = \"text-align: right;\">2</td><td style = \"text-align: right;\">10</td><td style = \"text-align: right;\">12</td></tr><tr><td class = \"rowNumber\" style = \"font-weight: bold; text-align: right;\">4</td><td style = \"text-align: left;\">Strange French fries the Gondolier</td><td style = \"text-align: right;\">4</td><td style = \"text-align: right;\">3</td><td style = \"text-align: right;\">14</td><td style = \"text-align: right;\">6</td><td style = \"text-align: right;\">2</td><td style = \"text-align: right;\">2</td></tr><tr><td class = \"rowNumber\" style = \"font-weight: bold; text-align: right;\">5</td><td style = \"text-align: left;\">Negative Suan la tu dou si the Demolitionist</td><td style = \"text-align: right;\">5</td><td style = \"text-align: right;\">1</td><td style = \"text-align: right;\">15</td><td style = \"text-align: right;\">15</td><td style = \"text-align: right;\">3</td><td style = \"text-align: right;\">2</td></tr><tr><td class = \"rowNumber\" style = \"font-weight: bold; text-align: right;\">6</td><td style = \"text-align: left;\">Dangerous Boulangère potatoes the Laundress (also Lavendar)</td><td style = \"text-align: right;\">5</td><td style = \"text-align: right;\">6</td><td style = \"text-align: right;\">2</td><td style = \"text-align: right;\">1</td><td style = \"text-align: right;\">4</td><td style = \"text-align: right;\">5</td></tr><tr><td class = \"rowNumber\" style = \"font-weight: bold; text-align: right;\">7</td><td style = \"text-align: left;\">Expensive Clapshot the Party-leader</td><td style = \"text-align: right;\">5</td><td style = \"text-align: right;\">6</td><td style = \"text-align: right;\">6</td><td style = \"text-align: right;\">1</td><td style = \"text-align: right;\">4</td><td style = \"text-align: right;\">1</td></tr><tr><td class = \"rowNumber\" style = \"font-weight: bold; text-align: right;\">8</td><td style = \"text-align: left;\">Fresh Pommes Anna the Impersonator</td><td style = \"text-align: right;\">6</td><td style = \"text-align: right;\">1</td><td style = \"text-align: right;\">13</td><td style = \"text-align: right;\">3</td><td style = \"text-align: right;\">2</td><td style = \"text-align: right;\">11</td></tr><tr><td class = \"rowNumber\" style = \"font-weight: bold; text-align: right;\">9</td><td style = \"text-align: left;\">Quiet Boulangère potatoes the Juggler</td><td style = \"text-align: right;\">6</td><td style = \"text-align: right;\">5</td><td style = \"text-align: right;\">4</td><td style = \"text-align: right;\">2</td><td style = \"text-align: right;\">3</td><td style = \"text-align: right;\">4</td></tr><tr><td class = \"rowNumber\" style = \"font-weight: bold; text-align: right;\">10</td><td style = \"text-align: left;\">Clean Chips and dip the Housekeeper</td><td style = \"text-align: right;\">6</td><td style = \"text-align: right;\">5</td><td style = \"text-align: right;\">6</td><td style = \"text-align: right;\">1</td><td style = \"text-align: right;\">2</td><td style = \"text-align: right;\">3</td></tr><tr><td class = \"rowNumber\" style = \"font-weight: bold; text-align: right;\">11</td><td style = \"text-align: left;\">Soft Chapalele the Organizer</td><td style = \"text-align: right;\">7</td><td style = \"text-align: right;\">7</td><td style = \"text-align: right;\">1</td><td style = \"text-align: right;\">1</td><td style = \"text-align: right;\">3</td><td style = \"text-align: right;\">2</td></tr><tr><td class = \"rowNumber\" style = \"font-weight: bold; text-align: right;\">12</td><td style = \"text-align: left;\">Tough Gamjajeon the Party-leader</td><td style = \"text-align: right;\">8</td><td style = \"text-align: right;\">3</td><td style = \"text-align: right;\">5</td><td style = \"text-align: right;\">3</td><td style = \"text-align: right;\">2</td><td style = \"text-align: right;\">7</td></tr><tr><td class = \"rowNumber\" style = \"font-weight: bold; text-align: right;\">13</td><td style = \"text-align: left;\">Nervous Kouign patatez the Dictator</td><td style = \"text-align: right;\">9</td><td style = \"text-align: right;\">1</td><td style = \"text-align: right;\">9</td><td style = \"text-align: right;\">6</td><td style = \"text-align: right;\">1</td><td style = \"text-align: right;\">3</td></tr><tr><td class = \"rowNumber\" style = \"font-weight: bold; text-align: right;\">14</td><td style = \"text-align: left;\">Boring Pitepalt the Shoeshiner</td><td style = \"text-align: right;\">9</td><td style = \"text-align: right;\">4</td><td style = \"text-align: right;\">4</td><td style = \"text-align: right;\">3</td><td style = \"text-align: right;\">2</td><td style = \"text-align: right;\">2</td></tr><tr><td class = \"rowNumber\" style = \"font-weight: bold; text-align: right;\">15</td><td style = \"text-align: left;\">Warm Cacasse à cul nu the Telephone operator</td><td style = \"text-align: right;\">1</td><td style = \"text-align: right;\">9</td><td style = \"text-align: right;\">1</td><td style = \"text-align: right;\">3</td><td style = \"text-align: right;\">4</td><td style = \"text-align: right;\">3</td></tr></tbody></table></div>"
      ],
      "text/latex": [
       "\\begin{tabular}{r|ccccc}\n",
       "\t& name & h & f & l & \\\\\n",
       "\t\\hline\n",
       "\t& String & Int64 & Int64 & Int64 & \\\\\n",
       "\t\\hline\n",
       "\t1 & Powerful Okroshka the Queen mother & 3 & 5 & 11 & $\\dots$ \\\\\n",
       "\t2 & Open Chapalele the Gondolier & 3 & 9 & 3 & $\\dots$ \\\\\n",
       "\t3 & Strange Pommes Anna the Gondolier & 4 & 1 & 18 & $\\dots$ \\\\\n",
       "\t4 & Strange French fries the Gondolier & 4 & 3 & 14 & $\\dots$ \\\\\n",
       "\t5 & Negative Suan la tu dou si the Demolitionist & 5 & 1 & 15 & $\\dots$ \\\\\n",
       "\t6 & Dangerous Boulangère potatoes the Laundress (also Lavendar) & 5 & 6 & 2 & $\\dots$ \\\\\n",
       "\t7 & Expensive Clapshot the Party-leader & 5 & 6 & 6 & $\\dots$ \\\\\n",
       "\t8 & Fresh Pommes Anna the Impersonator & 6 & 1 & 13 & $\\dots$ \\\\\n",
       "\t9 & Quiet Boulangère potatoes the Juggler & 6 & 5 & 4 & $\\dots$ \\\\\n",
       "\t10 & Clean Chips and dip the Housekeeper & 6 & 5 & 6 & $\\dots$ \\\\\n",
       "\t11 & Soft Chapalele the Organizer & 7 & 7 & 1 & $\\dots$ \\\\\n",
       "\t12 & Tough Gamjajeon the Party-leader & 8 & 3 & 5 & $\\dots$ \\\\\n",
       "\t13 & Nervous Kouign patatez the Dictator & 9 & 1 & 9 & $\\dots$ \\\\\n",
       "\t14 & Boring Pitepalt the Shoeshiner & 9 & 4 & 4 & $\\dots$ \\\\\n",
       "\t15 & Warm Cacasse à cul nu the Telephone operator & 1 & 9 & 1 & $\\dots$ \\\\\n",
       "\\end{tabular}\n"
      ],
      "text/plain": [
       "\u001b[1m15×7 DataFrame\u001b[0m\n",
       "\u001b[1m Row \u001b[0m│\u001b[1m name                              \u001b[0m\u001b[1m h     \u001b[0m\u001b[1m f     \u001b[0m\u001b[1m l     \u001b[0m\u001b[1m p     \u001b[0m\u001b[1m r     \u001b[0m\u001b[1m s\u001b[0m ⋯\n",
       "     │\u001b[90m String                            \u001b[0m\u001b[90m Int64 \u001b[0m\u001b[90m Int64 \u001b[0m\u001b[90m Int64 \u001b[0m\u001b[90m Int64 \u001b[0m\u001b[90m Int64 \u001b[0m\u001b[90m I\u001b[0m ⋯\n",
       "─────┼──────────────────────────────────────────────────────────────────────────\n",
       "   1 │ Powerful Okroshka the Queen moth…      3      5     11      2      5    ⋯\n",
       "   2 │ Open Chapalele the Gondolier           3      9      3      2      3\n",
       "   3 │ Strange Pommes Anna the Gondolier      4      1     18      2     10\n",
       "   4 │ Strange French fries the Gondoli…      4      3     14      6      2\n",
       "   5 │ Negative Suan la tu dou si the D…      5      1     15     15      3    ⋯\n",
       "   6 │ Dangerous Boulangère potatoes th…      5      6      2      1      4\n",
       "   7 │ Expensive Clapshot the Party-lea…      5      6      6      1      4\n",
       "   8 │ Fresh Pommes Anna the Impersonat…      6      1     13      3      2\n",
       "   9 │ Quiet Boulangère potatoes the Ju…      6      5      4      2      3    ⋯\n",
       "  10 │ Clean Chips and dip the Housekee…      6      5      6      1      2\n",
       "  11 │ Soft Chapalele the Organizer           7      7      1      1      3\n",
       "  12 │ Tough Gamjajeon the Party-leader       8      3      5      3      2\n",
       "  13 │ Nervous Kouign patatez the Dicta…      9      1      9      6      1    ⋯\n",
       "  14 │ Boring Pitepalt the Shoeshiner         9      4      4      3      2\n",
       "  15 │ Warm Cacasse à cul nu the Teleph…      1      9      1      3      4\n",
       "\u001b[36m                                                                1 column omitted\u001b[0m"
      ]
     },
     "execution_count": 31,
     "metadata": {},
     "output_type": "execute_result"
    }
   ],
   "source": [
    "append!(nash_env, [ff2])\n",
    "spuds_to_df(nash_env)"
   ]
  },
  {
   "cell_type": "markdown",
   "id": "6c06f6a4",
   "metadata": {},
   "source": [
    "### loop"
   ]
  },
  {
   "cell_type": "code",
   "execution_count": 32,
   "id": "18731527",
   "metadata": {},
   "outputs": [
    {
     "name": "stdout",
     "output_type": "stream",
     "text": [
      "0.0882367644853272\n",
      "0.9117332400139979\n"
     ]
    }
   ],
   "source": [
    "counts = ffp(nash_env, 100000)\n",
    "println(maximum([eval_battle_list2(ff, nash_env, counts./sum(counts)) for ff in nash_env]))\n",
    "ff = rand_rename(pick_best_library2(nash_env, counts./sum(counts)))\n",
    "ev = eval_battle_list2(ff, nash_env, counts./sum(counts))\n",
    "println(ev)"
   ]
  },
  {
   "cell_type": "code",
   "execution_count": 33,
   "id": "6480141d",
   "metadata": {},
   "outputs": [
    {
     "data": {
      "text/plain": [
       "2-element Vector{Spud}:\n",
       " Spud(\"\", 2, 7, 11, 3, 5, 1)\n",
       " Spud(\"\", 2, 7, 11, 4, 1, 4)"
      ]
     },
     "execution_count": 33,
     "metadata": {},
     "output_type": "execute_result"
    }
   ],
   "source": [
    "bestf = subset_library(nash_env, 900, counts./sum(counts), ev-0.05)"
   ]
  },
  {
   "cell_type": "code",
   "execution_count": 34,
   "id": "f6678993",
   "metadata": {},
   "outputs": [
    {
     "name": "stdout",
     "output_type": "stream",
     "text": [
      "2\n",
      "10001\n"
     ]
    }
   ],
   "source": [
    "println(length(bestf))\n",
    "cc = ffp(bestf, 10000)\n",
    "println(maximum(cc))"
   ]
  },
  {
   "cell_type": "code",
   "execution_count": 35,
   "id": "f6829056",
   "metadata": {},
   "outputs": [
    {
     "data": {
      "text/plain": [
       "Spud(\"Creative Tartiflette the Gondolier\", 2, 7, 11, 4, 1, 4)"
      ]
     },
     "execution_count": 35,
     "metadata": {},
     "output_type": "execute_result"
    }
   ],
   "source": [
    "ff2 = rand_rename(bestf[cc .== maximum(cc)][1])"
   ]
  },
  {
   "cell_type": "code",
   "execution_count": 36,
   "id": "df1b3806",
   "metadata": {},
   "outputs": [
    {
     "name": "stdout",
     "output_type": "stream",
     "text": [
      "0.911713243013548\n"
     ]
    }
   ],
   "source": [
    "println(eval_battle_list2(ff2, nash_env, counts./sum(counts)))"
   ]
  },
  {
   "cell_type": "code",
   "execution_count": 37,
   "id": "90ec8265",
   "metadata": {},
   "outputs": [
    {
     "data": {
      "text/plain": [
       "16-element Vector{Spud}:\n",
       " Spud(\"Powerful Okroshka the Queen mother\", 3, 5, 11, 2, 5, 3)\n",
       " Spud(\"Open Chapalele the Gondolier\", 3, 9, 3, 2, 3, 2)\n",
       " Spud(\"Strange Pommes Anna the Gondolier\", 4, 1, 18, 2, 10, 12)\n",
       " Spud(\"Strange French fries the Gondolier\", 4, 3, 14, 6, 2, 2)\n",
       " Spud(\"Negative Suan la tu dou si the Demolitionist\", 5, 1, 15, 15, 3, 2)\n",
       " Spud(\"Dangerous Boulangère potatoes the Laundress (also Lavendar)\", 5, 6, 2, 1, 4, 5)\n",
       " Spud(\"Expensive Clapshot the Party-leader\", 5, 6, 6, 1, 4, 1)\n",
       " Spud(\"Fresh Pommes Anna the Impersonator\", 6, 1, 13, 3, 2, 11)\n",
       " Spud(\"Quiet Boulangère potatoes the Juggler\", 6, 5, 4, 2, 3, 4)\n",
       " Spud(\"Clean Chips and dip the Housekeeper\", 6, 5, 6, 1, 2, 3)\n",
       " Spud(\"Soft Chapalele the Organizer\", 7, 7, 1, 1, 3, 2)\n",
       " Spud(\"Tough Gamjajeon the Party-leader\", 8, 3, 5, 3, 2, 7)\n",
       " Spud(\"Nervous Kouign patatez the Dictator\", 9, 1, 9, 6, 1, 3)\n",
       " Spud(\"Boring Pitepalt the Shoeshiner\", 9, 4, 4, 3, 2, 2)\n",
       " Spud(\"Warm Cacasse à cul nu the Telephone operator\", 1, 9, 1, 3, 4, 3)\n",
       " Spud(\"Creative Tartiflette the Gondolier\", 2, 7, 11, 4, 1, 4)"
      ]
     },
     "execution_count": 37,
     "metadata": {},
     "output_type": "execute_result"
    }
   ],
   "source": [
    "append!(nash_env, [ff2])"
   ]
  },
  {
   "cell_type": "code",
   "execution_count": 52,
   "id": "f92d53b4",
   "metadata": {
    "scrolled": false
   },
   "outputs": [
    {
     "name": "stdout",
     "output_type": "stream",
     "text": [
      "\n",
      "1\n",
      "0.032091707726595836\n",
      "0.15758017929780022\n",
      "14\n",
      "2002\n",
      "0.10792848076596337\n",
      "\n",
      "2\n",
      "0.02491554898159068\n",
      "0.14813408223230526\n",
      "105\n",
      "2242\n",
      "0.1108756920985828\n",
      "\n",
      "3\n",
      "0.04141556481675811\n",
      "0.14422490730469023\n",
      "66\n",
      "1922\n",
      "0.10488811601155315\n",
      "\n",
      "4\n",
      "0.034949030581651004\n",
      "0.16618029182490504\n",
      "78\n",
      "2960\n",
      "0.13359984009594242\n",
      "\n",
      "5\n",
      "0.03105105885409902\n",
      "0.16832732033459596\n",
      "94\n",
      "1910\n",
      "0.13522751121815696\n",
      "\n",
      "6\n",
      "0.0375167396214347\n",
      "0.18452559413163835\n",
      "4\n",
      "10001\n",
      "0.13549599248465952\n",
      "\n",
      "7\n",
      "0.039245275476449855\n",
      "0.14825659834304386\n",
      "61\n",
      "1454\n",
      "0.11825549903560756\n",
      "\n",
      "8\n",
      "0.03530740326191239\n",
      "0.16803245922609533\n",
      "12\n",
      "3338\n",
      "0.12220179085385355\n",
      "\n",
      "9\n",
      "0.03193923949432869\n",
      "0.18592914605506422\n",
      "19\n",
      "3341\n",
      "0.17089891570479188\n",
      "\n",
      "10\n",
      "0.025792976635420593\n",
      "0.14074710690943984\n",
      "58\n",
      "1991\n",
      "0.09977414906161935\n",
      "\n",
      "11\n",
      "0.028041212387700225\n",
      "0.16300078947105434\n",
      "9\n",
      "10001\n",
      "0.1295631926609172\n",
      "\n",
      "12\n",
      "0.02703161849942039\n",
      "0.15769276891713638\n",
      "27\n",
      "3758\n",
      "0.11038493824199548\n",
      "\n",
      "13\n",
      "0.020236037134377265\n",
      "0.18732074868340834\n",
      "17\n",
      "3757\n",
      "0.1465488812719223\n",
      "\n",
      "14\n",
      "0.023283701409013705\n",
      "0.20989307484760658\n",
      "1\n",
      "10001\n",
      "0.20989307484760658\n",
      "\n",
      "15\n",
      "0.025112170359045102\n",
      "0.19848907275834163\n",
      "42\n",
      "10001\n",
      "0.1614753524997252\n",
      "\n",
      "16\n",
      "0.019965624750179885\n",
      "0.17677272363897992\n",
      "24\n",
      "10001\n",
      "0.13062594931649207\n",
      "\n",
      "17\n",
      "0.02690036273520329\n",
      "0.17526205869715106\n",
      "12\n",
      "2003\n",
      "0.1361106392333596\n",
      "\n",
      "18\n",
      "0.01987529228371006\n",
      "0.19191798069428623\n",
      "10\n",
      "10001\n",
      "0.14197493854547627\n",
      "\n",
      "19\n",
      "0.01942543092680488\n",
      "0.12541593804646517\n",
      "149\n",
      "1839\n",
      "0.08080939295528355\n",
      "\n",
      "20\n",
      "0.020474439426036224\n",
      "0.12632399376473866\n",
      "134\n",
      "1500\n",
      "0.07937967144969821\n",
      "\n",
      "21\n",
      "0.021333573148675518\n",
      "0.12425432417038881\n",
      "87\n",
      "1619\n",
      "0.07557180970652594\n",
      "\n",
      "22\n",
      "0.019964427746357826\n",
      "0.1368332700493615\n",
      "52\n",
      "1549\n",
      "0.08921041587561704\n",
      "\n",
      "23\n",
      "0.016546927926937738\n",
      "0.16777745580991027\n",
      "16\n",
      "3869\n",
      "0.13550295266739276\n",
      "\n",
      "24\n",
      "0.018285371702637866\n",
      "0.1572541966426859\n",
      "93\n",
      "3305\n",
      "0.11418864908073542\n",
      "\n",
      "25\n",
      "0.018195261837911286\n",
      "0.1551843007164197\n",
      "60\n",
      "3868\n",
      "0.10544458988219536\n",
      "\n",
      "26\n",
      "0.023111048939869306\n",
      "0.18153114446154156\n",
      "7\n",
      "10001\n",
      "0.14512100077936094\n",
      "\n",
      "27\n",
      "0.021142451765035018\n",
      "0.14570906147897247\n",
      "62\n",
      "3056\n",
      "0.09774886843919547\n",
      "\n",
      "28\n",
      "0.019843331601454798\n",
      "0.12921146237160783\n",
      "118\n",
      "2853\n",
      "0.0854482234922665\n",
      "\n",
      "29\n",
      "0.0200729380026977\n",
      "0.1292401458760054\n",
      "99\n",
      "3344\n",
      "0.08196033371634114\n",
      "\n",
      "30\n",
      "0.025937693583518197\n",
      "0.1181783666047199\n",
      "195\n",
      "1572\n",
      "0.0716184081689747\n",
      "\n",
      "31\n",
      "0.030953070828379278\n",
      "0.13599168723210833\n",
      "76\n",
      "2635\n",
      "0.08981186367859957\n",
      "\n",
      "32\n",
      "0.023719127168092095\n",
      "0.13943729518024114\n",
      "77\n",
      "3367\n",
      "0.12175285748541284\n",
      "\n",
      "33\n",
      "0.029084115137527598\n",
      "0.12417948026256628\n",
      "61\n",
      "3353\n",
      "0.07618219784391897\n",
      "\n",
      "34\n",
      "0.035428114696772914\n",
      "0.11899290638425422\n",
      "46\n",
      "1870\n",
      "0.07659106803876511\n",
      "\n",
      "35\n",
      "0.030452288417539983\n",
      "0.1293722712331778\n",
      "33\n",
      "2014\n",
      "0.11632414502802448\n",
      "\n",
      "36\n",
      "0.03094153378891429\n",
      "0.10160652199976027\n",
      "139\n",
      "1581\n",
      "0.05349078847460341\n",
      "\n",
      "37\n",
      "0.033408929695383296\n",
      "0.11276512843055962\n",
      "128\n",
      "3016\n",
      "0.07735805700698348\n",
      "\n",
      "38\n",
      "0.035236877335304805\n",
      "0.13343457150278742\n",
      "50\n",
      "10001\n",
      "0.09111435250864194\n",
      "\n",
      "39\n",
      "0.03373794894849895\n",
      "0.12335281482591544\n",
      "30\n",
      "3346\n",
      "0.07793596083720465\n",
      "\n",
      "40\n",
      "0.03442695012787723\n",
      "0.1314737851662404\n",
      "23\n",
      "10001\n",
      "0.08387947570332485\n",
      "\n",
      "41\n",
      "0.03826288500154856\n",
      "0.1281257180534882\n",
      "30\n",
      "3746\n",
      "0.08077165149804691\n",
      "\n",
      "42\n",
      "0.031369258127035504\n",
      "0.11594637255489623\n",
      "44\n",
      "2868\n",
      "0.09077104437651098\n",
      "\n",
      "43\n",
      "0.026463800837171206\n",
      "0.12364758888700186\n",
      "31\n",
      "3001\n",
      "0.07707369703993039\n",
      "\n",
      "44\n",
      "0.029230769230769227\n",
      "0.11266733266733267\n",
      "63\n",
      "1589\n",
      "0.0657342657342657\n",
      "\n",
      "45\n",
      "0.032117561263124345\n",
      "0.12054824627126602\n",
      "35\n",
      "2134\n",
      "0.08234682970200101\n",
      "\n",
      "46\n",
      "0.02605342550598392\n",
      "0.10954826077401053\n",
      "64\n",
      "1949\n",
      "0.06205670216379293\n",
      "\n",
      "47\n",
      "0.01759188036322595\n",
      "0.10114581980560022\n",
      "102\n",
      "829\n",
      "0.05513321279082544\n",
      "\n",
      "48\n",
      "0.018151122832254472\n",
      "0.09657955726044914\n",
      "129\n",
      "964\n",
      "0.05907855829936868\n",
      "\n",
      "49\n",
      "0.01628290295190054\n",
      "0.0909944558213876\n",
      "165\n",
      "617\n",
      "0.07415214025273466\n",
      "\n",
      "50\n",
      "0.017071903781991082\n",
      "0.0954388348350748\n",
      "191\n",
      "1208\n",
      "0.04980720436337479\n",
      "\n",
      "51\n",
      "0.017581188128702314\n",
      "0.10389882825376844\n",
      "148\n",
      "1190\n",
      "0.06534008610786457\n",
      "\n",
      "52\n",
      "0.020288088864026867\n",
      "0.10642506093419106\n",
      "102\n",
      "1363\n",
      "0.060894234227034785\n",
      "\n",
      "53\n",
      "0.024093737825769877\n",
      "0.10795233195816559\n",
      "89\n",
      "1722\n",
      "0.06691706040415943\n",
      "\n",
      "54\n",
      "0.021576266107282\n",
      "0.09521526321046853\n",
      "101\n",
      "1954\n",
      "0.04754769753271403\n",
      "\n",
      "55\n",
      "0.028518344637452387\n",
      "0.10653174975776881\n",
      "66\n",
      "3773\n",
      "0.07580585550039462\n",
      "\n",
      "56\n",
      "0.03214399872143203\n",
      "0.11457167971871506\n",
      "52\n",
      "3849\n",
      "0.0786918651110756\n",
      "\n",
      "57\n",
      "0.0340015782166152\n",
      "0.1196148352361831\n",
      "44\n",
      "3357\n",
      "0.06999091027139333\n",
      "\n",
      "58\n",
      "0.0311844497273109\n",
      "0.11422977805301956\n",
      "49\n",
      "3849\n",
      "0.0686817028587411\n",
      "\n",
      "59\n",
      "0.03189332267891924\n",
      "0.11088248514208655\n",
      "121\n",
      "3341\n",
      "0.06305748389352242\n",
      "\n",
      "60\n",
      "0.03232250589316396\n",
      "0.10541771545007783\n",
      "146\n",
      "3826\n",
      "0.05559550920931716\n",
      "\n",
      "61\n",
      "0.027697593815236145\n",
      "0.10175095138687736\n",
      "140\n",
      "2875\n",
      "0.06069898219083675\n",
      "\n",
      "62\n",
      "0.022833056992748638\n",
      "0.09798437843344854\n",
      "153\n",
      "1878\n",
      "0.05631355001098702\n",
      "\n",
      "63\n",
      "0.021544362208971324\n",
      "0.09703452891059636\n",
      "152\n",
      "1790\n",
      "0.05646280925698419\n",
      "\n",
      "64\n",
      "0.021963643627646787\n",
      "0.10799041150619255\n",
      "52\n",
      "2619\n",
      "0.20429484618457855\n",
      "\n",
      "65\n",
      "0.016749732823283736\n",
      "0.09787157539377346\n",
      "156\n",
      "1215\n",
      "0.05873892589966141\n",
      "\n",
      "66\n",
      "0.019306446135714396\n",
      "0.0994187091748068\n",
      "201\n",
      "975\n",
      "0.07153273006931543\n",
      "\n",
      "67\n",
      "0.02282192902729637\n",
      "0.10887608241862508\n",
      "67\n",
      "1916\n",
      "0.06183394424857423\n",
      "\n",
      "68\n",
      "0.023341057089209333\n",
      "0.11941192920778225\n",
      "26\n",
      "3886\n",
      "0.07482721425432472\n",
      "\n",
      "69\n",
      "0.018586766541822713\n",
      "0.10659675405742824\n",
      "100\n",
      "2236\n",
      "0.06660674157303373\n",
      "\n",
      "70\n",
      "0.01910592653256896\n",
      "0.10468809300281653\n",
      "162\n",
      "2118\n",
      "0.06773465433553717\n",
      "\n",
      "71\n",
      "0.01892596402568744\n",
      "0.10509652741018902\n",
      "58\n",
      "3336\n",
      "0.05565931267290536\n",
      "\n",
      "72\n",
      "0.019395174177053373\n",
      "0.10109060402684553\n",
      "61\n",
      "1904\n",
      "0.051653883029721945\n",
      "\n",
      "73\n",
      "0.020813151035164658\n",
      "0.1026176232659868\n",
      "58\n",
      "3937\n",
      "0.0663843641702204\n",
      "\n",
      "74\n",
      "0.021232397882752475\n",
      "0.11157495256166974\n",
      "25\n",
      "2354\n",
      "0.11157495256166974\n",
      "\n",
      "75\n",
      "0.034874314647811426\n",
      "0.10325473629545295\n",
      "76\n",
      "2375\n",
      "0.06300746022710249\n",
      "\n",
      "76\n",
      "0.03861902288978545\n",
      "0.10214516837774137\n",
      "79\n",
      "2606\n",
      "0.05374905125234688\n",
      "\n",
      "77\n",
      "0.03800944743491159\n",
      "0.09570271538853327\n",
      "130\n",
      "1453\n",
      "0.05098219368240238\n",
      "\n",
      "78\n",
      "0.03610162382407575\n",
      "0.09203667086104622\n",
      "114\n",
      "1091\n",
      "0.051071564104100506\n",
      "\n",
      "79\n",
      "0.03759924102461672\n",
      "0.09396314974784033\n",
      "121\n",
      "2515\n",
      "0.04896389873670544\n",
      "\n",
      "80\n",
      "0.03670008788048259\n",
      "0.09916513541583441\n",
      "88\n",
      "3735\n",
      "0.05075097866901019\n"
     ]
    }
   ],
   "source": [
    "for ii in 1:80\n",
    "    println()\n",
    "    println(ii)\n",
    "    counts = ffp(nash_env, 100000)\n",
    "    println(maximum([eval_battle_list2(ff, nash_env, counts./sum(counts)) for ff in nash_env]))\n",
    "    ff = rand_rename(pick_best_library2(nash_env, counts./sum(counts)))\n",
    "    ev = eval_battle_list2(ff, nash_env, counts./sum(counts))\n",
    "    println(ev)\n",
    "    bestf = subset_library(nash_env, 900, counts./sum(counts), ev-0.05)\n",
    "    println(length(bestf))\n",
    "    cc = ffp(bestf, 10000)\n",
    "    println(maximum(cc))\n",
    "    ff2 = rand_rename(bestf[cc .== maximum(cc)][1])\n",
    "    println(eval_battle_list2(ff2, nash_env, counts./sum(counts)))\n",
    "    append!(nash_env, [ff2])\n",
    "end"
   ]
  },
  {
   "cell_type": "code",
   "execution_count": 53,
   "id": "e0f50507",
   "metadata": {},
   "outputs": [],
   "source": [
    "#spuds_to_df(nash_env)"
   ]
  },
  {
   "cell_type": "code",
   "execution_count": 54,
   "id": "066fbf4c",
   "metadata": {},
   "outputs": [
    {
     "name": "stdout",
     "output_type": "stream",
     "text": [
      "Spud(\"\", 9, 2, 7, 2, 2, 5)\n"
     ]
    },
    {
     "data": {
      "text/plain": [
       "0.10906058699581568"
      ]
     },
     "execution_count": 54,
     "metadata": {},
     "output_type": "execute_result"
    }
   ],
   "source": [
    "counts = ffp(nash_env, 100000)\n",
    "ff = pick_best_library2(nash_env, counts./sum(counts))\n",
    "println(ff)\n",
    "eval_battle_list2(ff, nash_env, counts./sum(counts))"
   ]
  },
  {
   "cell_type": "code",
   "execution_count": 55,
   "id": "ab4c51a4",
   "metadata": {},
   "outputs": [],
   "source": [
    "#CSV.write(\"spuds_nash_stage12.csv\", spuds_to_df(nash_env))"
   ]
  },
  {
   "cell_type": "code",
   "execution_count": 56,
   "id": "d2bcab51",
   "metadata": {},
   "outputs": [],
   "source": [
    "#counts = ffp(nash_env, 10000)\n",
    "nash_env = nash_env[counts .> 10]\n",
    "counts = ffp(nash_env, 100000);"
   ]
  },
  {
   "cell_type": "code",
   "execution_count": 57,
   "id": "b78a53d8",
   "metadata": {},
   "outputs": [
    {
     "name": "stdout",
     "output_type": "stream",
     "text": [
      "Spud(\"\", 9, 2, 7, 2, 2, 5)\n"
     ]
    },
    {
     "data": {
      "text/plain": [
       "0.10913959157575032"
      ]
     },
     "execution_count": 57,
     "metadata": {},
     "output_type": "execute_result"
    }
   ],
   "source": [
    "#counts = ffp(nash_env, 100000)\n",
    "ff = pick_best_library2(nash_env, counts./sum(counts))\n",
    "println(ff)\n",
    "eval_battle_list2(ff, nash_env, counts./sum(counts))"
   ]
  },
  {
   "cell_type": "markdown",
   "id": "11ea2b2e",
   "metadata": {},
   "source": [
    "## beware"
   ]
  },
  {
   "cell_type": "code",
   "execution_count": 58,
   "id": "c6ca6c70",
   "metadata": {},
   "outputs": [
    {
     "data": {
      "text/plain": [
       "\"spuds_nash_stage03.csv\""
      ]
     },
     "execution_count": 58,
     "metadata": {},
     "output_type": "execute_result"
    }
   ],
   "source": [
    "CSV.write(\"spuds_nash_stage03.csv\", spuds_to_df(nash_env))"
   ]
  },
  {
   "cell_type": "markdown",
   "id": "76650c8f",
   "metadata": {},
   "source": [
    "### refine weights"
   ]
  },
  {
   "cell_type": "code",
   "execution_count": 149,
   "id": "523d545c",
   "metadata": {},
   "outputs": [
    {
     "data": {
      "text/plain": [
       "19-element Vector{Float64}:\n",
       " 0.03144026349935123\n",
       " 0.051801577003692985\n",
       " 0.03992414412616029\n",
       " 0.040822437368998904\n",
       " 0.03992414412616029\n",
       " 0.07156402834614232\n",
       " 0.00948198422996307\n",
       " 0.011478191436271086\n",
       " 0.04820840403233856\n",
       " 0.10959177562631\n",
       " 0.04301826529593772\n",
       " 0.05928735402734804\n",
       " 0.05589380177662441\n",
       " 0.006687294141131849\n",
       " 0.005090328376085438\n",
       " 0.03902585088332169\n",
       " 0.09551851482183851\n",
       " 0.051801577003692985\n",
       " 0.1894400638786306"
      ]
     },
     "execution_count": 149,
     "metadata": {},
     "output_type": "execute_result"
    }
   ],
   "source": [
    "eps = 0.01/length(library)\n",
    "nits = 40000\n",
    "sub_iter = 2000\n",
    "w = counts./sum(counts)"
   ]
  },
  {
   "cell_type": "code",
   "execution_count": 150,
   "id": "0836d787",
   "metadata": {},
   "outputs": [],
   "source": [
    "n_nash = length(nash_env)\n",
    "i_lose = Array{Int}(undef, (n_nash, n_nash))\n",
    "n_lose = Array{Int}(undef, n_nash)\n",
    "for i in 1:n_nash\n",
    "    n_lose[i] = 0\n",
    "    ff = nash_env[i]\n",
    "    for j in 1:n_nash\n",
    "        if eval_battle(ff, nash_env[j]) ==-1\n",
    "            n_lose[i] += 1\n",
    "            i_lose[i, n_lose[i]] = j\n",
    "        end\n",
    "    end\n",
    "end"
   ]
  },
  {
   "cell_type": "code",
   "execution_count": 152,
   "id": "08c7f25b",
   "metadata": {},
   "outputs": [],
   "source": [
    "scores = [0.0 for i in 1:n_nash]\n",
    "for i in 1:n_nash\n",
    "    for j in 1:n_lose[i]\n",
    "        i_w = i_lose[i, j]\n",
    "        scores[i_w]+= w[i]\n",
    "    end\n",
    "end"
   ]
  },
  {
   "cell_type": "code",
   "execution_count": 153,
   "id": "c0b4dbde",
   "metadata": {},
   "outputs": [
    {
     "name": "stdout",
     "output_type": "stream",
     "text": [
      "2.4630541871921184e-5\n",
      "\n",
      "\n",
      "Spud(\"Hungry French Fries\", 2, 16, 8, 2, 11, 9) w:0.04820602935108973 s:0.45715819122033735\n",
      "Spud(\"Potato Strips w/ onion\", 9, 21, 2, 4, 2, 3) w:0.18955135521145414 s:0.45700869861606747\n",
      "1.2315270935960592e-5\n",
      "\n",
      "\n",
      "Spud(\"Aquatic Mashed Potato\", 14, 6, 13, 4, 11, 7) w:0.10971268975376745 s:0.4570093923044257\n",
      "Spud(\"Crazy Chips\", 6, 9, 26, 8, 3, 10) w:0.05587069246628821 s:0.45697416637016347\n",
      "Spud(\"Friendly Potato Bread\", 4, 12, 19, 4, 9, 10) w:0.05963552991975216 s:0.4569652237420019\n",
      "6.157635467980296e-6\n",
      "\n",
      "\n",
      "Spud(\"Potato Soup w/ ketchup\", 21, 2, 15, 7, 6, 8) w:0.04319174825362203 s:0.4569657070545698\n",
      "3.078817733990148e-6\n",
      "\n",
      "\n",
      "Spud(\"Crazy Potato Soup\", 8, 4, 24, 18, 4, 22) w:0.05181948311653167 s:0.45696838203738316\n",
      "Spud(\"Hungry French Fries\", 2, 16, 8, 2, 11, 9) w:0.048096443986402025 s:0.4569578797912595\n",
      "1.539408866995074e-6\n",
      "\n",
      "\n",
      "Spud(\"Aquatic Mashed Potato\", 14, 6, 13, 4, 11, 7) w:0.10973879429331644 s:0.45695842146670224\n",
      "Spud(\"Potato Soup w/ onion\", 19, 13, 3, 3, 2, 2) w:0.039752705742648026 s:0.45695526242690176\n",
      "7.69704433497537e-7\n",
      "\n",
      "\n",
      "Spud(\"Crazy Potato Soup\", 8, 4, 24, 18, 4, 22) w:0.05182273675851516 s:0.4569554837555846\n",
      "Spud(\"Speedy Raw Potato\", 15, 7, 8, 2, 7, 16) w:0.040891066760881827 s:0.4569541799482505\n",
      "Spud(\"Crazy Potato Soup\", 8, 4, 24, 18, 4, 22) w:0.05182251274071895 s:0.45695408936072623\n",
      "3.848522167487685e-7\n",
      "\n",
      "\n",
      "Spud(\"Potato Strips w/ onion\", 9, 21, 2, 4, 2, 3) w:0.1895851864017177 s:0.4569544843709924\n",
      "Spud(\"Potato Strips w/ onion\", 9, 21, 2, 4, 2, 3) w:0.18958588999624454 s:0.4569533657089728\n",
      "1.9242610837438425e-7\n",
      "\n",
      "\n",
      "Spud(\"Crazy Potato Soup\", 8, 4, 24, 18, 4, 22) w:0.05182305685582546 s:0.45695346336871706\n",
      "Spud(\"Potato Soup w/ ketchup\", 21, 2, 15, 7, 6, 8) w:0.04320100293974449 s:0.4569531825019298\n",
      "9.621305418719212e-8\n",
      "\n",
      "\n",
      "Spud(\"Potato Strips w/ onion\", 9, 21, 2, 4, 2, 3) w:0.18958595019431917 s:0.45695324521823827\n",
      "Spud(\"Helen's Mashed Potato\", 14, 3, 22, 10, 3, 3) w:0.03892113878880884 s:0.45695299618313956\n",
      "4.810652709359606e-8\n",
      "\n",
      "\n",
      "Spud(\"Potato Soup w/ scallion\", 20, 11, 5, 3, 2, 2) w:0.07165272041244511 s:0.4569530807303942\n"
     ]
    }
   ],
   "source": [
    "previous_score = maximum(scores)\n",
    "for iter in 1:nits\n",
    "    ind_winners = findall(scores .== maximum(scores))\n",
    "    i = rand(ind_winners)\n",
    "    w[i] += eps\n",
    "    for j in 1:n_lose[i]\n",
    "        i_w = i_lose[i, j]\n",
    "        scores[i_w]+= eps\n",
    "    end\n",
    "    if mod1(iter, sub_iter) == 1\n",
    "        scores = scores./sum(w)\n",
    "        w = w./sum(w)\n",
    "        if maximum(scores) > previous_score\n",
    "            eps = eps/2\n",
    "            println(eps)\n",
    "            println()\n",
    "            println()\n",
    "        end\n",
    "        previous_score = maximum(scores)\n",
    "        mxv, mxi = findmax(scores)\n",
    "        print(nash_env[mxi])\n",
    "        print(\" w:\")\n",
    "        print(w[mxi])\n",
    "        print(\" s:\")\n",
    "        print(scores[mxi])\n",
    "        println()\n",
    "    end\n",
    "end\n"
   ]
  },
  {
   "cell_type": "code",
   "execution_count": 154,
   "id": "5cd18cd9",
   "metadata": {},
   "outputs": [
    {
     "data": {
      "text/plain": [
       "0.10350172839487909"
      ]
     },
     "execution_count": 154,
     "metadata": {},
     "output_type": "execute_result"
    }
   ],
   "source": [
    "maximum([eval_battle_list2(ff, nash_env, w) for ff in nash_env])"
   ]
  },
  {
   "cell_type": "code",
   "execution_count": 148,
   "id": "164743ab",
   "metadata": {},
   "outputs": [
    {
     "name": "stdout",
     "output_type": "stream",
     "text": [
      "Spud(\"\", 17, 9, 9, 6, 2, 2)\n"
     ]
    },
    {
     "data": {
      "text/plain": [
       "0.5977873078679817"
      ]
     },
     "execution_count": 148,
     "metadata": {},
     "output_type": "execute_result"
    }
   ],
   "source": [
    "ff = pick_best_library2(nash_env, w)\n",
    "println(ff)\n",
    "eval_battle_list2(ff, nash_env, w)"
   ]
  },
  {
   "cell_type": "markdown",
   "id": "58222ce6",
   "metadata": {},
   "source": [
    "## Old code"
   ]
  },
  {
   "cell_type": "code",
   "execution_count": 15,
   "id": "d3e07cf7",
   "metadata": {},
   "outputs": [
    {
     "data": {
      "text/plain": [
       "nashprox (generic function with 1 method)"
      ]
     },
     "execution_count": 15,
     "metadata": {},
     "output_type": "execute_result"
    }
   ],
   "source": [
    "function nashprox2(size, start_size, ns)\n",
    "    nash_env = Array{Spud}(undef, size)\n",
    "    nash_env[1:start_size] = random_team(() -> rand(library), start_size)\n",
    "    for j in (start_size+1):size\n",
    "        if j < ns\n",
    "            ff = pick_ok_counter(nash_env[1:(j-1)])\n",
    "            nash_env[j] = ff\n",
    "        else\n",
    "            ff = pick_ok_counter(randsubseq(nash_env[1:(j-1)], ns/j))\n",
    "            nash_env[j] = ff                \n",
    "        end\n",
    "    end\n",
    "    return nash_env\n",
    "end\n",
    "\n",
    "function nashprox(size, start_size, ns)\n",
    "    nash_env = Array{Spud}(undef, size)\n",
    "    nash_env[1:start_size] = random_team(() -> rand(library), start_size)\n",
    "    for j in (start_size+1):size\n",
    "        if j < ns\n",
    "            ff = pick_best_library(nash_env[1:(j-1)])\n",
    "            nash_env[j] = ff\n",
    "        else\n",
    "            ff = pick_best_library(randsubseq(nash_env[1:(j-1)], ns/j))\n",
    "            nash_env[j] = ff                \n",
    "        end\n",
    "    end\n",
    "    return nash_env\n",
    "end"
   ]
  },
  {
   "cell_type": "code",
   "execution_count": null,
   "id": "e08da8ee",
   "metadata": {},
   "outputs": [],
   "source": []
  },
  {
   "cell_type": "code",
   "execution_count": 150,
   "id": "b778cb19",
   "metadata": {},
   "outputs": [
    {
     "name": "stdout",
     "output_type": "stream",
     "text": [
      "201.611800 seconds (15.12 k allocations: 197.526 MiB, 0.01% gc time)\n"
     ]
    },
    {
     "data": {
      "text/plain": [
       "1540"
      ]
     },
     "execution_count": 150,
     "metadata": {},
     "output_type": "execute_result"
    }
   ],
   "source": [
    "@time nash_env = nashprox(4000, 10, 100)\n",
    "nash_env = unique(nash_env)\n",
    "#inds_nash = [id_no[ff] for ff in nash_env];\n",
    "#length(inds_nash)\n",
    "n_nash = length(nash_env)"
   ]
  },
  {
   "cell_type": "code",
   "execution_count": 151,
   "id": "84a8035a",
   "metadata": {
    "scrolled": false
   },
   "outputs": [],
   "source": [
    "# Verify 3-explotability\n",
    "for i in 1:1000\n",
    "    #inds = sort([rand(inds_nash) for i in 1:3])\n",
    "    #rt = library[inds]\n",
    "    rt = random_team(() -> rand(nash_env), 3)\n",
    "    ff = pick_best_library(rt)\n",
    "    ev = eval_battle_list(ff, rt)\n",
    "    if ev < 3\n",
    "        println(rt)\n",
    "    end\n",
    "end\n"
   ]
  },
  {
   "cell_type": "code",
   "execution_count": 152,
   "id": "9f5eced7",
   "metadata": {
    "scrolled": false
   },
   "outputs": [
    {
     "name": "stdout",
     "output_type": "stream",
     "text": [
      "Spud[Spud(\"\", 6, 3, 9, 5, 3, 1), Spud(\"\", 7, 9, 1, 3, 1, 2), Spud(\"\", 15, 5, 2, 1, 1, 2), Spud(\"\", 12, 1, 6, 1, 8, 6)]\n",
      "2\n",
      "Spud[Spud(\"\", 11, 6, 2, 3, 1, 1), Spud(\"\", 2, 10, 3, 4, 3, 2), Spud(\"\", 10, 3, 5, 1, 4, 4), Spud(\"\", 5, 1, 14, 5, 4, 3)]\n",
      "2\n"
     ]
    }
   ],
   "source": [
    "# Verify 4-explotability\n",
    "for i in 1:1000\n",
    "    #inds = sort([rand(inds_nash) for i in 1:3])\n",
    "    #rt = library[inds]\n",
    "    rt = random_team(() -> rand(nash_env), 4)\n",
    "    ff = pick_best_library(rt)\n",
    "    ev = eval_battle_list(ff, rt)\n",
    "    if ev < 4\n",
    "        println(rt)\n",
    "        println(ev)\n",
    "    end\n",
    "end\n"
   ]
  },
  {
   "cell_type": "code",
   "execution_count": 103,
   "id": "e417b44a",
   "metadata": {},
   "outputs": [],
   "source": [
    "#inds = sort([rand(1:n_spuds) for i in 1:5])\n",
    "#rt = library[inds]"
   ]
  },
  {
   "cell_type": "code",
   "execution_count": 104,
   "id": "a49d058e",
   "metadata": {},
   "outputs": [],
   "source": [
    "# rt = library[[1403,1902,2283,2397]]\n",
    "# rt"
   ]
  },
  {
   "cell_type": "code",
   "execution_count": 105,
   "id": "b8cbb659",
   "metadata": {},
   "outputs": [],
   "source": [
    "# ff = pick_best(library, rt)\n",
    "# ind = [i for i in 1:n_spuds if library[i] == ff][1]\n",
    "# print(ff)\n",
    "# print(\" \")\n",
    "# eval_battle_list(ff, rt)"
   ]
  },
  {
   "cell_type": "markdown",
   "id": "68e3cf22",
   "metadata": {},
   "source": [
    "## Fictitious Play to compute Nash distribution"
   ]
  },
  {
   "cell_type": "code",
   "execution_count": 135,
   "id": "ada1403f",
   "metadata": {},
   "outputs": [],
   "source": [
    "@time nash_env = nashprox(4000, 10, 100)\n",
    "nash_env = unique(nash_env)\n",
    "#inds_nash = [id_no[ff] for ff in nash_env];\n",
    "#length(inds_nash)\n",
    "n_nash = length(nash_env)"
   ]
  },
  {
   "cell_type": "code",
   "execution_count": null,
   "id": "0d3e042b",
   "metadata": {},
   "outputs": [],
   "source": []
  },
  {
   "cell_type": "code",
   "execution_count": 153,
   "id": "78baa903",
   "metadata": {},
   "outputs": [],
   "source": [
    "i_lose = Array{Int}(undef, (n_nash, n_nash))\n",
    "n_lose = Array{Int}(undef, n_nash)\n",
    "for i in 1:n_nash\n",
    "    n_lose[i] = 0\n",
    "    ff = nash_env[i]\n",
    "    for j in 1:n_nash\n",
    "        if eval_battle(ff, nash_env[j]) ==-1\n",
    "            n_lose[i] += 1\n",
    "            i_lose[i, n_lose[i]] = j\n",
    "        end\n",
    "    end\n",
    "end"
   ]
  },
  {
   "cell_type": "code",
   "execution_count": 154,
   "id": "63d2b34e",
   "metadata": {},
   "outputs": [],
   "source": [
    "# initialize FP with 1 of each\n",
    "counts = [0 for i in 1:n_nash]\n",
    "wins = [0 for i in 1:n_nash]\n",
    "for i in 1:n_nash\n",
    "    counts[i] += 1\n",
    "    for j in 1:n_lose[i]\n",
    "        i_w = i_lose[i, j]\n",
    "        wins[i_w]+= 1\n",
    "    end\n",
    "end"
   ]
  },
  {
   "cell_type": "code",
   "execution_count": 155,
   "id": "b9ee5863",
   "metadata": {
    "scrolled": false
   },
   "outputs": [
    {
     "name": "stdout",
     "output_type": "stream",
     "text": [
      "Spud(\"\", 9, 10, 1, 1, 1, 1) n:2 w:1035\n",
      "Spud(\"\", 13, 6, 2, 1, 1, 1) n:235 w:10618\n",
      "Spud(\"\", 9, 7, 4, 1, 1, 1) n:90 w:20654\n",
      "Spud(\"\", 15, 1, 6, 3, 1, 2) n:565 w:30681\n",
      "Spud(\"\", 1, 7, 1, 1, 6, 7) n:266 w:40725\n",
      "Spud(\"\", 5, 11, 1, 2, 2, 2) n:356 w:50746\n",
      "Spud(\"\", 2, 9, 2, 5, 4, 1) n:272 w:60757\n",
      "Spud(\"\", 1, 7, 1, 8, 1, 5) n:632 w:70831\n",
      "Spud(\"\", 2, 14, 1, 3, 1, 3) n:596 w:80868\n",
      "Spud(\"\", 3, 6, 10, 5, 1, 3) n:1513 w:90906\n",
      "Spud(\"\", 5, 4, 9, 2, 5, 2) n:288 w:100925\n",
      "Spud(\"\", 6, 11, 1, 3, 1, 1) n:1317 w:110944\n",
      "Spud(\"\", 5, 4, 8, 6, 3, 1) n:318 w:120973\n",
      "Spud(\"\", 6, 13, 2, 1, 1, 1) n:3551 w:131027\n",
      "Spud(\"\", 7, 10, 1, 1, 2, 2) n:838 w:141075\n",
      "Spud(\"\", 10, 1, 8, 3, 2, 5) n:750 w:151124\n",
      "Spud(\"\", 2, 4, 14, 8, 1, 4) n:1200 w:161191\n",
      "Spud(\"\", 4, 2, 14, 4, 3, 5) n:1234 w:171225\n",
      "Spud(\"\", 9, 1, 10, 1, 1, 2) n:7296 w:181302\n",
      "Spud(\"\", 1, 13, 4, 4, 1, 3) n:1101 w:191329\n",
      "Spud(\"\", 9, 3, 5, 1, 5, 5) n:1149 w:201353\n",
      "Spud(\"\", 13, 5, 2, 1, 3, 2) n:1581 w:211379\n",
      "Spud(\"\", 13, 5, 2, 3, 1, 2) n:3510 w:221392\n",
      "Spud(\"\", 12, 1, 7, 3, 1, 4) n:979 w:231451\n",
      "Spud(\"\", 8, 6, 3, 1, 3, 3) n:3816 w:241457\n",
      "Spud(\"\", 7, 1, 12, 1, 2, 3) n:1788 w:251493\n",
      "Spud(\"\", 7, 1, 12, 3, 1, 2) n:2535 w:261522\n",
      "Spud(\"\", 13, 1, 7, 2, 1, 2) n:7866 w:271584\n",
      "Spud(\"\", 2, 12, 1, 5, 2, 1) n:1131 w:281630\n",
      "Spud(\"\", 7, 10, 1, 2, 1, 2) n:2272 w:291661\n",
      "Spud(\"\", 5, 14, 1, 1, 1, 2) n:1517 w:301695\n",
      "Spud(\"\", 8, 10, 1, 2, 1, 1) n:4172 w:311700\n",
      "Spud(\"\", 5, 8, 1, 2, 4, 3) n:1684 w:321728\n",
      "Spud(\"\", 6, 1, 12, 6, 3, 3) n:171 w:331792\n",
      "Spud(\"\", 4, 6, 8, 4, 3, 1) n:3150 w:341822\n",
      "Spud(\"\", 5, 1, 14, 4, 6, 2) n:3932 w:351846\n",
      "Spud(\"\", 3, 3, 13, 6, 6, 1) n:901 w:361887\n",
      "Spud(\"\", 10, 8, 2, 1, 1, 1) n:4343 w:371915\n",
      "Spud(\"\", 15, 1, 6, 3, 1, 2) n:6964 w:381947\n",
      "Spud(\"\", 1, 9, 3, 1, 5, 5) n:624 w:391996\n",
      "Spud(\"\", 15, 1, 6, 2, 2, 2) n:7418 w:402030\n",
      "Spud(\"\", 9, 1, 10, 1, 1, 2) n:16585 w:412063\n",
      "Spud(\"\", 5, 11, 1, 1, 3, 2) n:7679 w:422085\n",
      "Spud(\"\", 10, 1, 9, 2, 1, 1) n:15671 w:432109\n",
      "Spud(\"\", 10, 8, 2, 1, 1, 1) n:5171 w:442154\n",
      "Spud(\"\", 9, 3, 5, 1, 5, 5) n:2596 w:452189\n",
      "Spud(\"\", 13, 1, 7, 1, 2, 2) n:1563 w:462212\n",
      "Spud(\"\", 2, 5, 12, 6, 1, 5) n:4271 w:472239\n",
      "Spud(\"\", 4, 2, 14, 7, 2, 3) n:2179 w:482259\n",
      "Spud(\"\", 9, 1, 10, 1, 1, 2) n:19817 w:492286\n",
      "0.014453318710425775\n"
     ]
    },
    {
     "data": {
      "text/plain": [
       "1010287"
      ]
     },
     "execution_count": 155,
     "metadata": {},
     "output_type": "execute_result"
    }
   ],
   "source": [
    "nits = 500000\n",
    "for iter in 1:nits\n",
    "    ind_winners = findall(wins .== maximum(wins))\n",
    "    for i in ind_winners\n",
    "        counts[i] += 1\n",
    "        for j in 1:n_lose[i]\n",
    "            i_w = i_lose[i, j]\n",
    "            wins[i_w]+= 1\n",
    "        end\n",
    "    end\n",
    "    if mod1(iter, 10000) == 1\n",
    "        mxv, mxi = findmax(wins)\n",
    "        print(nash_env[mxi])\n",
    "        print(\" n:\")\n",
    "        print(counts[mxi])\n",
    "        print(\" w:\")\n",
    "        print(wins[mxi])\n",
    "        println()\n",
    "    end\n",
    "end\n",
    "\n",
    "w = counts./sum(counts)\n",
    "println(maximum([eval_battle_list2(ff, nash_env, w) for ff in nash_env]))\n",
    "sum(counts)"
   ]
  },
  {
   "cell_type": "code",
   "execution_count": 156,
   "id": "a74a6b9d",
   "metadata": {},
   "outputs": [
    {
     "name": "stdout",
     "output_type": "stream",
     "text": [
      "Spud(\"\", 16, 1, 5, 5, 5, 1)\n"
     ]
    },
    {
     "data": {
      "text/plain": [
       "0.03152866462698188"
      ]
     },
     "execution_count": 156,
     "metadata": {},
     "output_type": "execute_result"
    }
   ],
   "source": [
    "ff = pick_best_library2(nash_env, w)\n",
    "println(ff)\n",
    "eval_battle_list2(ff, nash_env, w)"
   ]
  },
  {
   "cell_type": "code",
   "execution_count": 110,
   "id": "8a375193",
   "metadata": {},
   "outputs": [
    {
     "data": {
      "text/html": [
       "<div><div style = \"float: left;\"><span>500×8 DataFrame</span></div><div style = \"float: right;\"><span style = \"font-style: italic;\">475 rows omitted</span></div><div style = \"clear: both;\"></div></div><div class = \"data-frame\" style = \"overflow-x: scroll;\"><table class = \"data-frame\" style = \"margin-bottom: 6px;\"><thead><tr class = \"header\"><th class = \"rowNumber\" style = \"font-weight: bold; text-align: right;\">Row</th><th style = \"text-align: left;\">name</th><th style = \"text-align: left;\">h</th><th style = \"text-align: left;\">f</th><th style = \"text-align: left;\">l</th><th style = \"text-align: left;\">p</th><th style = \"text-align: left;\">r</th><th style = \"text-align: left;\">s</th><th style = \"text-align: left;\">w</th></tr><tr class = \"subheader headerLastRow\"><th class = \"rowNumber\" style = \"font-weight: bold; text-align: right;\"></th><th title = \"String\" style = \"text-align: left;\">String</th><th title = \"Int64\" style = \"text-align: left;\">Int64</th><th title = \"Int64\" style = \"text-align: left;\">Int64</th><th title = \"Int64\" style = \"text-align: left;\">Int64</th><th title = \"Int64\" style = \"text-align: left;\">Int64</th><th title = \"Int64\" style = \"text-align: left;\">Int64</th><th title = \"Int64\" style = \"text-align: left;\">Int64</th><th title = \"Float64\" style = \"text-align: left;\">Float64</th></tr></thead><tbody><tr><td class = \"rowNumber\" style = \"font-weight: bold; text-align: right;\">1</td><td style = \"text-align: left;\">#6705. Potato Strips w/ scallion</td><td style = \"text-align: right;\">8</td><td style = \"text-align: right;\">10</td><td style = \"text-align: right;\">1</td><td style = \"text-align: right;\">1</td><td style = \"text-align: right;\">2</td><td style = \"text-align: right;\">1</td><td style = \"text-align: right;\">0.0341574</td></tr><tr><td class = \"rowNumber\" style = \"font-weight: bold; text-align: right;\">2</td><td style = \"text-align: left;\">#2813. Helen&apos;s Chips</td><td style = \"text-align: right;\">6</td><td style = \"text-align: right;\">1</td><td style = \"text-align: right;\">14</td><td style = \"text-align: right;\">2</td><td style = \"text-align: right;\">1</td><td style = \"text-align: right;\">2</td><td style = \"text-align: right;\">0.0266422</td></tr><tr><td class = \"rowNumber\" style = \"font-weight: bold; text-align: right;\">3</td><td style = \"text-align: left;\">#9066. Potato Soup w/ scallion</td><td style = \"text-align: right;\">14</td><td style = \"text-align: right;\">5</td><td style = \"text-align: right;\">2</td><td style = \"text-align: right;\">1</td><td style = \"text-align: right;\">2</td><td style = \"text-align: right;\">2</td><td style = \"text-align: right;\">0.0256009</td></tr><tr><td class = \"rowNumber\" style = \"font-weight: bold; text-align: right;\">4</td><td style = \"text-align: left;\">#6499. Potato Soup w/ ketchup</td><td style = \"text-align: right;\">8</td><td style = \"text-align: right;\">1</td><td style = \"text-align: right;\">10</td><td style = \"text-align: right;\">5</td><td style = \"text-align: right;\">2</td><td style = \"text-align: right;\">2</td><td style = \"text-align: right;\">0.0237062</td></tr><tr><td class = \"rowNumber\" style = \"font-weight: bold; text-align: right;\">5</td><td style = \"text-align: left;\">#3007. Helen&apos;s Mashed Potato</td><td style = \"text-align: right;\">11</td><td style = \"text-align: right;\">1</td><td style = \"text-align: right;\">8</td><td style = \"text-align: right;\">3</td><td style = \"text-align: right;\">1</td><td style = \"text-align: right;\">2</td><td style = \"text-align: right;\">0.0213634</td></tr><tr><td class = \"rowNumber\" style = \"font-weight: bold; text-align: right;\">6</td><td style = \"text-align: left;\">#7179. Potato Soup w/ onion</td><td style = \"text-align: right;\">11</td><td style = \"text-align: right;\">4</td><td style = \"text-align: right;\">3</td><td style = \"text-align: right;\">5</td><td style = \"text-align: right;\">2</td><td style = \"text-align: right;\">2</td><td style = \"text-align: right;\">0.0200976</td></tr><tr><td class = \"rowNumber\" style = \"font-weight: bold; text-align: right;\">7</td><td style = \"text-align: left;\">#7309. Potato Soup w/ scallion</td><td style = \"text-align: right;\">14</td><td style = \"text-align: right;\">2</td><td style = \"text-align: right;\">5</td><td style = \"text-align: right;\">3</td><td style = \"text-align: right;\">2</td><td style = \"text-align: right;\">2</td><td style = \"text-align: right;\">0.0185596</td></tr><tr><td class = \"rowNumber\" style = \"font-weight: bold; text-align: right;\">8</td><td style = \"text-align: left;\">#3197. Potato Soup w/ scallion</td><td style = \"text-align: right;\">14</td><td style = \"text-align: right;\">3</td><td style = \"text-align: right;\">4</td><td style = \"text-align: right;\">3</td><td style = \"text-align: right;\">1</td><td style = \"text-align: right;\">2</td><td style = \"text-align: right;\">0.0179148</td></tr><tr><td class = \"rowNumber\" style = \"font-weight: bold; text-align: right;\">9</td><td style = \"text-align: left;\">#307. Baked Potato w/ onion</td><td style = \"text-align: right;\">3</td><td style = \"text-align: right;\">15</td><td style = \"text-align: right;\">3</td><td style = \"text-align: right;\">2</td><td style = \"text-align: right;\">2</td><td style = \"text-align: right;\">1</td><td style = \"text-align: right;\">0.0172551</td></tr><tr><td class = \"rowNumber\" style = \"font-weight: bold; text-align: right;\">10</td><td style = \"text-align: left;\">#3732. Enlightened Tater Tots</td><td style = \"text-align: right;\">4</td><td style = \"text-align: right;\">6</td><td style = \"text-align: right;\">11</td><td style = \"text-align: right;\">3</td><td style = \"text-align: right;\">1</td><td style = \"text-align: right;\">2</td><td style = \"text-align: right;\">0.0170325</td></tr><tr><td class = \"rowNumber\" style = \"font-weight: bold; text-align: right;\">11</td><td style = \"text-align: left;\">#3123. Potato Soup w/ scallion</td><td style = \"text-align: right;\">12</td><td style = \"text-align: right;\">3</td><td style = \"text-align: right;\">4</td><td style = \"text-align: right;\">4</td><td style = \"text-align: right;\">3</td><td style = \"text-align: right;\">2</td><td style = \"text-align: right;\">0.0166083</td></tr><tr><td class = \"rowNumber\" style = \"font-weight: bold; text-align: right;\">12</td><td style = \"text-align: left;\">#3006. Helen&apos;s Potato Soup</td><td style = \"text-align: right;\">11</td><td style = \"text-align: right;\">1</td><td style = \"text-align: right;\">8</td><td style = \"text-align: right;\">2</td><td style = \"text-align: right;\">1</td><td style = \"text-align: right;\">3</td><td style = \"text-align: right;\">0.0141492</td></tr><tr><td class = \"rowNumber\" style = \"font-weight: bold; text-align: right;\">13</td><td style = \"text-align: left;\">#13888. Wrestler Baked Potato</td><td style = \"text-align: right;\">1</td><td style = \"text-align: right;\">7</td><td style = \"text-align: right;\">1</td><td style = \"text-align: right;\">7</td><td style = \"text-align: right;\">1</td><td style = \"text-align: right;\">6</td><td style = \"text-align: right;\">0.0134408</td></tr><tr><td style = \"text-align: right;\">&vellip;</td><td style = \"text-align: right;\">&vellip;</td><td style = \"text-align: right;\">&vellip;</td><td style = \"text-align: right;\">&vellip;</td><td style = \"text-align: right;\">&vellip;</td><td style = \"text-align: right;\">&vellip;</td><td style = \"text-align: right;\">&vellip;</td><td style = \"text-align: right;\">&vellip;</td><td style = \"text-align: right;\">&vellip;</td></tr><tr><td class = \"rowNumber\" style = \"font-weight: bold; text-align: right;\">489</td><td style = \"text-align: left;\">#595. Sneaky Raw Potato</td><td style = \"text-align: right;\">10</td><td style = \"text-align: right;\">2</td><td style = \"text-align: right;\">5</td><td style = \"text-align: right;\">3</td><td style = \"text-align: right;\">7</td><td style = \"text-align: right;\">5</td><td style = \"text-align: right;\">9.93555e-7</td></tr><tr><td class = \"rowNumber\" style = \"font-weight: bold; text-align: right;\">490</td><td style = \"text-align: left;\">#596. Sneaky Potato Soup</td><td style = \"text-align: right;\">10</td><td style = \"text-align: right;\">2</td><td style = \"text-align: right;\">5</td><td style = \"text-align: right;\">3</td><td style = \"text-align: right;\">10</td><td style = \"text-align: right;\">2</td><td style = \"text-align: right;\">9.93555e-7</td></tr><tr><td class = \"rowNumber\" style = \"font-weight: bold; text-align: right;\">491</td><td style = \"text-align: left;\">#597. Dangerous Potato Soup</td><td style = \"text-align: right;\">10</td><td style = \"text-align: right;\">2</td><td style = \"text-align: right;\">5</td><td style = \"text-align: right;\">4</td><td style = \"text-align: right;\">2</td><td style = \"text-align: right;\">9</td><td style = \"text-align: right;\">9.93555e-7</td></tr><tr><td class = \"rowNumber\" style = \"font-weight: bold; text-align: right;\">492</td><td style = \"text-align: left;\">#598. Sneaky Raw Potato</td><td style = \"text-align: right;\">10</td><td style = \"text-align: right;\">2</td><td style = \"text-align: right;\">5</td><td style = \"text-align: right;\">4</td><td style = \"text-align: right;\">6</td><td style = \"text-align: right;\">5</td><td style = \"text-align: right;\">9.93555e-7</td></tr><tr><td class = \"rowNumber\" style = \"font-weight: bold; text-align: right;\">493</td><td style = \"text-align: left;\">#599. Aquatic Potato Soup</td><td style = \"text-align: right;\">10</td><td style = \"text-align: right;\">2</td><td style = \"text-align: right;\">5</td><td style = \"text-align: right;\">4</td><td style = \"text-align: right;\">7</td><td style = \"text-align: right;\">4</td><td style = \"text-align: right;\">9.93555e-7</td></tr><tr><td class = \"rowNumber\" style = \"font-weight: bold; text-align: right;\">494</td><td style = \"text-align: left;\">#600. Criminal Mashed Potato</td><td style = \"text-align: right;\">10</td><td style = \"text-align: right;\">2</td><td style = \"text-align: right;\">5</td><td style = \"text-align: right;\">6</td><td style = \"text-align: right;\">4</td><td style = \"text-align: right;\">5</td><td style = \"text-align: right;\">9.93555e-7</td></tr><tr><td class = \"rowNumber\" style = \"font-weight: bold; text-align: right;\">495</td><td style = \"text-align: left;\">#601. Sneaky Raw Potato w/ scallion</td><td style = \"text-align: right;\">10</td><td style = \"text-align: right;\">2</td><td style = \"text-align: right;\">5</td><td style = \"text-align: right;\">6</td><td style = \"text-align: right;\">6</td><td style = \"text-align: right;\">3</td><td style = \"text-align: right;\">9.93555e-7</td></tr><tr><td class = \"rowNumber\" style = \"font-weight: bold; text-align: right;\">496</td><td style = \"text-align: left;\">#602. Sneaky Raw Potato</td><td style = \"text-align: right;\">10</td><td style = \"text-align: right;\">2</td><td style = \"text-align: right;\">5</td><td style = \"text-align: right;\">6</td><td style = \"text-align: right;\">7</td><td style = \"text-align: right;\">2</td><td style = \"text-align: right;\">9.93555e-7</td></tr><tr><td class = \"rowNumber\" style = \"font-weight: bold; text-align: right;\">497</td><td style = \"text-align: left;\">#603. Underground Mashed Potato</td><td style = \"text-align: right;\">10</td><td style = \"text-align: right;\">2</td><td style = \"text-align: right;\">5</td><td style = \"text-align: right;\">7</td><td style = \"text-align: right;\">4</td><td style = \"text-align: right;\">4</td><td style = \"text-align: right;\">9.93555e-7</td></tr><tr><td class = \"rowNumber\" style = \"font-weight: bold; text-align: right;\">498</td><td style = \"text-align: left;\">#604. Criminal Potato Strips</td><td style = \"text-align: right;\">10</td><td style = \"text-align: right;\">2</td><td style = \"text-align: right;\">5</td><td style = \"text-align: right;\">7</td><td style = \"text-align: right;\">6</td><td style = \"text-align: right;\">2</td><td style = \"text-align: right;\">9.93555e-7</td></tr><tr><td class = \"rowNumber\" style = \"font-weight: bold; text-align: right;\">499</td><td style = \"text-align: left;\">#605. Criminal Raw Potato</td><td style = \"text-align: right;\">10</td><td style = \"text-align: right;\">2</td><td style = \"text-align: right;\">5</td><td style = \"text-align: right;\">8</td><td style = \"text-align: right;\">2</td><td style = \"text-align: right;\">5</td><td style = \"text-align: right;\">9.93555e-7</td></tr><tr><td class = \"rowNumber\" style = \"font-weight: bold; text-align: right;\">500</td><td style = \"text-align: left;\">#606. Criminal Potato Strips</td><td style = \"text-align: right;\">10</td><td style = \"text-align: right;\">2</td><td style = \"text-align: right;\">5</td><td style = \"text-align: right;\">8</td><td style = \"text-align: right;\">4</td><td style = \"text-align: right;\">3</td><td style = \"text-align: right;\">9.93555e-7</td></tr></tbody></table></div>"
      ],
      "text/latex": [
       "\\begin{tabular}{r|cccccccc}\n",
       "\t& name & h & f & l & p & r & s & \\\\\n",
       "\t\\hline\n",
       "\t& String & Int64 & Int64 & Int64 & Int64 & Int64 & Int64 & \\\\\n",
       "\t\\hline\n",
       "\t1 & \\#6705. Potato Strips w/ scallion & 8 & 10 & 1 & 1 & 2 & 1 & $\\dots$ \\\\\n",
       "\t2 & \\#2813. Helen's Chips & 6 & 1 & 14 & 2 & 1 & 2 & $\\dots$ \\\\\n",
       "\t3 & \\#9066. Potato Soup w/ scallion & 14 & 5 & 2 & 1 & 2 & 2 & $\\dots$ \\\\\n",
       "\t4 & \\#6499. Potato Soup w/ ketchup & 8 & 1 & 10 & 5 & 2 & 2 & $\\dots$ \\\\\n",
       "\t5 & \\#3007. Helen's Mashed Potato & 11 & 1 & 8 & 3 & 1 & 2 & $\\dots$ \\\\\n",
       "\t6 & \\#7179. Potato Soup w/ onion & 11 & 4 & 3 & 5 & 2 & 2 & $\\dots$ \\\\\n",
       "\t7 & \\#7309. Potato Soup w/ scallion & 14 & 2 & 5 & 3 & 2 & 2 & $\\dots$ \\\\\n",
       "\t8 & \\#3197. Potato Soup w/ scallion & 14 & 3 & 4 & 3 & 1 & 2 & $\\dots$ \\\\\n",
       "\t9 & \\#307. Baked Potato w/ onion & 3 & 15 & 3 & 2 & 2 & 1 & $\\dots$ \\\\\n",
       "\t10 & \\#3732. Enlightened Tater Tots & 4 & 6 & 11 & 3 & 1 & 2 & $\\dots$ \\\\\n",
       "\t11 & \\#3123. Potato Soup w/ scallion & 12 & 3 & 4 & 4 & 3 & 2 & $\\dots$ \\\\\n",
       "\t12 & \\#3006. Helen's Potato Soup & 11 & 1 & 8 & 2 & 1 & 3 & $\\dots$ \\\\\n",
       "\t13 & \\#13888. Wrestler Baked Potato & 1 & 7 & 1 & 7 & 1 & 6 & $\\dots$ \\\\\n",
       "\t14 & \\#8836. Helen's French Fries & 7 & 1 & 12 & 2 & 2 & 2 & $\\dots$ \\\\\n",
       "\t15 & \\#11915. Criminal Potato Soup & 14 & 1 & 6 & 2 & 3 & 4 & $\\dots$ \\\\\n",
       "\t16 & \\#5918. Potato Strips w/ onion & 6 & 12 & 1 & 1 & 2 & 1 & $\\dots$ \\\\\n",
       "\t17 & \\#14502. Friendly Mashed Potato & 4 & 5 & 8 & 1 & 5 & 4 & $\\dots$ \\\\\n",
       "\t18 & \\#3763. Potato Strips w/ onion & 4 & 11 & 3 & 3 & 1 & 2 & $\\dots$ \\\\\n",
       "\t19 & \\#2240. Criminal Mashed Potato & 10 & 3 & 5 & 5 & 3 & 1 & $\\dots$ \\\\\n",
       "\t20 & \\#6703. Mashed Potato w/ onion & 8 & 9 & 1 & 1 & 2 & 2 & $\\dots$ \\\\\n",
       "\t21 & \\#2042. Potato Soup w/ scallion & 11 & 6 & 3 & 1 & 1 & 1 & $\\dots$ \\\\\n",
       "\t22 & \\#12901. French Fries w/ onion & 2 & 9 & 2 & 2 & 4 & 4 & $\\dots$ \\\\\n",
       "\t23 & \\#1820. Enlightened Tater Tots w/ onion & 3 & 10 & 8 & 4 & 1 & 1 & $\\dots$ \\\\\n",
       "\t24 & \\#3711. Baked Potato w/ onion & 3 & 11 & 3 & 3 & 2 & 2 & $\\dots$ \\\\\n",
       "\t25 & \\#4537. Baked Potato w/ onion & 2 & 12 & 1 & 4 & 3 & 1 & $\\dots$ \\\\\n",
       "\t26 & \\#14521. Friendly Mashed Potato & 4 & 6 & 8 & 1 & 4 & 3 & $\\dots$ \\\\\n",
       "\t27 & \\#3097. Charles' Potato Soup & 12 & 1 & 7 & 4 & 1 & 3 & $\\dots$ \\\\\n",
       "\t28 & \\#8360. Chips w/ onion & 2 & 8 & 9 & 5 & 2 & 2 & $\\dots$ \\\\\n",
       "\t29 & \\#7263. Helen's Potato Soup & 14 & 1 & 6 & 5 & 2 & 2 & $\\dots$ \\\\\n",
       "\t30 & \\#6653. Helen's Mashed Potato & 8 & 3 & 7 & 5 & 2 & 1 & $\\dots$ \\\\\n",
       "\t$\\dots$ & $\\dots$ & $\\dots$ & $\\dots$ & $\\dots$ & $\\dots$ & $\\dots$ & $\\dots$ &  \\\\\n",
       "\\end{tabular}\n"
      ],
      "text/plain": [
       "\u001b[1m500×8 DataFrame\u001b[0m\n",
       "\u001b[1m Row \u001b[0m│\u001b[1m name                              \u001b[0m\u001b[1m h     \u001b[0m\u001b[1m f     \u001b[0m\u001b[1m l     \u001b[0m\u001b[1m p     \u001b[0m\u001b[1m r     \u001b[0m\u001b[1m s\u001b[0m ⋯\n",
       "     │\u001b[90m String                            \u001b[0m\u001b[90m Int64 \u001b[0m\u001b[90m Int64 \u001b[0m\u001b[90m Int64 \u001b[0m\u001b[90m Int64 \u001b[0m\u001b[90m Int64 \u001b[0m\u001b[90m I\u001b[0m ⋯\n",
       "─────┼──────────────────────────────────────────────────────────────────────────\n",
       "   1 │ #6705. Potato Strips w/ scallion       8     10      1      1      2    ⋯\n",
       "   2 │ #2813. Helen's Chips                   6      1     14      2      1\n",
       "   3 │ #9066. Potato Soup w/ scallion        14      5      2      1      2\n",
       "   4 │ #6499. Potato Soup w/ ketchup          8      1     10      5      2\n",
       "   5 │ #3007. Helen's Mashed Potato          11      1      8      3      1    ⋯\n",
       "   6 │ #7179. Potato Soup w/ onion           11      4      3      5      2\n",
       "   7 │ #7309. Potato Soup w/ scallion        14      2      5      3      2\n",
       "   8 │ #3197. Potato Soup w/ scallion        14      3      4      3      1\n",
       "   9 │ #307. Baked Potato w/ onion            3     15      3      2      2    ⋯\n",
       "  10 │ #3732. Enlightened Tater Tots          4      6     11      3      1\n",
       "  11 │ #3123. Potato Soup w/ scallion        12      3      4      4      3\n",
       "  ⋮  │                 ⋮                    ⋮      ⋮      ⋮      ⋮      ⋮      ⋱\n",
       " 491 │ #597. Dangerous Potato Soup           10      2      5      4      2\n",
       " 492 │ #598. Sneaky Raw Potato               10      2      5      4      6    ⋯\n",
       " 493 │ #599. Aquatic Potato Soup             10      2      5      4      7\n",
       " 494 │ #600. Criminal Mashed Potato          10      2      5      6      4\n",
       " 495 │ #601. Sneaky Raw Potato w/ scall…     10      2      5      6      6\n",
       " 496 │ #602. Sneaky Raw Potato               10      2      5      6      7    ⋯\n",
       " 497 │ #603. Underground Mashed Potato       10      2      5      7      4\n",
       " 498 │ #604. Criminal Potato Strips          10      2      5      7      6\n",
       " 499 │ #605. Criminal Raw Potato             10      2      5      8      2\n",
       " 500 │ #606. Criminal Potato Strips          10      2      5      8      4    ⋯\n",
       "\u001b[36m                                                  2 columns and 479 rows omitted\u001b[0m"
      ]
     },
     "execution_count": 110,
     "metadata": {},
     "output_type": "execute_result"
    }
   ],
   "source": [
    "inds_sel = sortperm(-w)[1:500]\n",
    "tab = spuds_to_df(nash_env[inds_sel])\n",
    "tab[!, :w] = w[inds_sel]\n",
    "tab"
   ]
  },
  {
   "cell_type": "code",
   "execution_count": 111,
   "id": "539633b4",
   "metadata": {
    "scrolled": true
   },
   "outputs": [
    {
     "name": "stdout",
     "output_type": "stream",
     "text": [
      "\u001b[1m3×7 DataFrame\u001b[0m\n",
      "\u001b[1m Row \u001b[0m│\u001b[1m name                              \u001b[0m\u001b[1m h     \u001b[0m\u001b[1m f     \u001b[0m\u001b[1m l     \u001b[0m\u001b[1m p     \u001b[0m\u001b[1m r     \u001b[0m\u001b[1m s     \u001b[0m\n",
      "     │\u001b[90m String                            \u001b[0m\u001b[90m Int64 \u001b[0m\u001b[90m Int64 \u001b[0m\u001b[90m Int64 \u001b[0m\u001b[90m Int64 \u001b[0m\u001b[90m Int64 \u001b[0m\u001b[90m Int64 \u001b[0m\n",
      "─────┼─────────────────────────────────────────────────────────────────────────────\n",
      "   1 │ #2248. Sneaky Mashed Potato           11      3      4      1      5      4\n",
      "   2 │ #5770. Helen's Potato Bread w/ k…      6      2     10      7      3      1\n",
      "   3 │ #6951. Potato Soup w/ scallion        10      7      1      3      2      1\n",
      "[0.007680178680897021, 0.00268458509647914, 0.0082961826630647]\n",
      "1\n",
      "\u001b[1m3×7 DataFrame\u001b[0m\n",
      "\u001b[1m Row \u001b[0m│\u001b[1m name                          \u001b[0m\u001b[1m h     \u001b[0m\u001b[1m f     \u001b[0m\u001b[1m l     \u001b[0m\u001b[1m p     \u001b[0m\u001b[1m r     \u001b[0m\u001b[1m s     \u001b[0m\n",
      "     │\u001b[90m String                        \u001b[0m\u001b[90m Int64 \u001b[0m\u001b[90m Int64 \u001b[0m\u001b[90m Int64 \u001b[0m\u001b[90m Int64 \u001b[0m\u001b[90m Int64 \u001b[0m\u001b[90m Int64 \u001b[0m\n",
      "─────┼─────────────────────────────────────────────────────────────────────────\n",
      "   1 │ #1764. Friendly Tater Tots         3      3     12      1      7      6\n",
      "   2 │ #3097. Charles' Potato Soup       12      1      7      4      1      3\n",
      "   3 │ #6703. Mashed Potato w/ onion      8      9      1      1      2      2\n",
      "[0.005475480557622702, 0.010405499524584024, 0.011908747952035148]\n",
      "1\n",
      "\u001b[1m3×7 DataFrame\u001b[0m\n",
      "\u001b[1m Row \u001b[0m│\u001b[1m name                           \u001b[0m\u001b[1m h     \u001b[0m\u001b[1m f     \u001b[0m\u001b[1m l     \u001b[0m\u001b[1m p     \u001b[0m\u001b[1m r     \u001b[0m\u001b[1m s     \u001b[0m\n",
      "     │\u001b[90m String                         \u001b[0m\u001b[90m Int64 \u001b[0m\u001b[90m Int64 \u001b[0m\u001b[90m Int64 \u001b[0m\u001b[90m Int64 \u001b[0m\u001b[90m Int64 \u001b[0m\u001b[90m Int64 \u001b[0m\n",
      "─────┼──────────────────────────────────────────────────────────────────────────\n",
      "   1 │ #1813. Potato Strips w/ onion       3      9      2      4      1      4\n",
      "   2 │ #8836. Helen's French Fries         7      1     12      2      2      2\n",
      "   3 │ #9066. Potato Soup w/ scallion     14      5      2      1      2      2\n",
      "[0.004583268338289516, 0.013420938372775804, 0.02560092678792672]\n",
      "1\n",
      "\u001b[1m3×7 DataFrame\u001b[0m\n",
      "\u001b[1m Row \u001b[0m│\u001b[1m name                           \u001b[0m\u001b[1m h     \u001b[0m\u001b[1m f     \u001b[0m\u001b[1m l     \u001b[0m\u001b[1m p     \u001b[0m\u001b[1m r     \u001b[0m\u001b[1m s     \u001b[0m\n",
      "     │\u001b[90m String                         \u001b[0m\u001b[90m Int64 \u001b[0m\u001b[90m Int64 \u001b[0m\u001b[90m Int64 \u001b[0m\u001b[90m Int64 \u001b[0m\u001b[90m Int64 \u001b[0m\u001b[90m Int64 \u001b[0m\n",
      "─────┼──────────────────────────────────────────────────────────────────────────\n",
      "   1 │ #3122. Sneaky Mashed Potato        12      3      4      3      4      2\n",
      "   2 │ #6951. Potato Soup w/ scallion     10      7      1      3      2      1\n",
      "   3 │ #13017. Charles' Potato Soup        7      1     11      2      4      4\n",
      "[0.0030323292799608937, 0.0082961826630647, 0.005393015508397029]\n",
      "1\n",
      "\u001b[1m3×7 DataFrame\u001b[0m\n",
      "\u001b[1m Row \u001b[0m│\u001b[1m name                              \u001b[0m\u001b[1m h     \u001b[0m\u001b[1m f     \u001b[0m\u001b[1m l     \u001b[0m\u001b[1m p     \u001b[0m\u001b[1m r     \u001b[0m\u001b[1m s     \u001b[0m\n",
      "     │\u001b[90m String                            \u001b[0m\u001b[90m Int64 \u001b[0m\u001b[90m Int64 \u001b[0m\u001b[90m Int64 \u001b[0m\u001b[90m Int64 \u001b[0m\u001b[90m Int64 \u001b[0m\u001b[90m Int64 \u001b[0m\n",
      "─────┼─────────────────────────────────────────────────────────────────────────────\n",
      "   1 │ #430. Helen's Potato Bread             5      2     12      7      2      2\n",
      "   2 │ #3097. Charles' Potato Soup           12      1      7      4      1      3\n",
      "   3 │ #4691. Devious Potato Soup w/ sc…     10      6      1      4      3      1\n",
      "[0.004530609933362279, 0.010405499524584024, 0.004945915843920488]\n",
      "1\n",
      "\u001b[1m3×7 DataFrame\u001b[0m\n",
      "\u001b[1m Row \u001b[0m│\u001b[1m name                           \u001b[0m\u001b[1m h     \u001b[0m\u001b[1m f     \u001b[0m\u001b[1m l     \u001b[0m\u001b[1m p     \u001b[0m\u001b[1m r     \u001b[0m\u001b[1m s     \u001b[0m\n",
      "     │\u001b[90m String                         \u001b[0m\u001b[90m Int64 \u001b[0m\u001b[90m Int64 \u001b[0m\u001b[90m Int64 \u001b[0m\u001b[90m Int64 \u001b[0m\u001b[90m Int64 \u001b[0m\u001b[90m Int64 \u001b[0m\n",
      "─────┼──────────────────────────────────────────────────────────────────────────\n",
      "   1 │ #4437. Baked Potato w/ onion        1     12      1      3      3      3\n",
      "   2 │ #6951. Potato Soup w/ scallion     10      7      1      3      2      1\n",
      "   3 │ #10984. Helen's Home Fries          7      2      9      5      3      2\n",
      "[0.0071744592826335565, 0.0082961826630647, 0.007105904000747153]\n",
      "1\n",
      "\u001b[1m3×7 DataFrame\u001b[0m\n",
      "\u001b[1m Row \u001b[0m│\u001b[1m name                              \u001b[0m\u001b[1m h     \u001b[0m\u001b[1m f     \u001b[0m\u001b[1m l     \u001b[0m\u001b[1m p     \u001b[0m\u001b[1m r     \u001b[0m\u001b[1m s     \u001b[0m\n",
      "     │\u001b[90m String                            \u001b[0m\u001b[90m Int64 \u001b[0m\u001b[90m Int64 \u001b[0m\u001b[90m Int64 \u001b[0m\u001b[90m Int64 \u001b[0m\u001b[90m Int64 \u001b[0m\u001b[90m Int64 \u001b[0m\n",
      "─────┼─────────────────────────────────────────────────────────────────────────────\n",
      "   1 │ #3122. Sneaky Mashed Potato           12      3      4      3      4      2\n",
      "   2 │ #5770. Helen's Potato Bread w/ k…      6      2     10      7      3      1\n",
      "   3 │ #6951. Potato Soup w/ scallion        10      7      1      3      2      1\n",
      "[0.0030323292799608937, 0.00268458509647914, 0.0082961826630647]\n",
      "1\n",
      "\u001b[1m3×7 DataFrame\u001b[0m\n",
      "\u001b[1m Row \u001b[0m│\u001b[1m name                           \u001b[0m\u001b[1m h     \u001b[0m\u001b[1m f     \u001b[0m\u001b[1m l     \u001b[0m\u001b[1m p     \u001b[0m\u001b[1m r     \u001b[0m\u001b[1m s     \u001b[0m\n",
      "     │\u001b[90m String                         \u001b[0m\u001b[90m Int64 \u001b[0m\u001b[90m Int64 \u001b[0m\u001b[90m Int64 \u001b[0m\u001b[90m Int64 \u001b[0m\u001b[90m Int64 \u001b[0m\u001b[90m Int64 \u001b[0m\n",
      "─────┼──────────────────────────────────────────────────────────────────────────\n",
      "   1 │ #3136. Potato Soup w/ scallion     12      6      2      2      1      1\n",
      "   2 │ #4525. Baked Potato w/ onion        2      9      2      5      4      1\n",
      "   3 │ #13017. Charles' Potato Soup        7      1     11      2      4      4\n",
      "[0.00583514739882383, 0.005651339758983474, 0.005393015508397029]\n",
      "1\n",
      "\u001b[1m3×7 DataFrame\u001b[0m\n",
      "\u001b[1m Row \u001b[0m│\u001b[1m name                              \u001b[0m\u001b[1m h     \u001b[0m\u001b[1m f     \u001b[0m\u001b[1m l     \u001b[0m\u001b[1m p     \u001b[0m\u001b[1m r     \u001b[0m\u001b[1m s     \u001b[0m\n",
      "     │\u001b[90m String                            \u001b[0m\u001b[90m Int64 \u001b[0m\u001b[90m Int64 \u001b[0m\u001b[90m Int64 \u001b[0m\u001b[90m Int64 \u001b[0m\u001b[90m Int64 \u001b[0m\u001b[90m Int64 \u001b[0m\n",
      "─────┼─────────────────────────────────────────────────────────────────────────────\n",
      "   1 │ #6499. Potato Soup w/ ketchup          8      1     10      5      2      2\n",
      "   2 │ #9066. Potato Soup w/ scallion        14      5      2      1      2      2\n",
      "   3 │ #14881. Angry Mashed Potato w/ s…      6      8      1      1      4      3\n",
      "[0.023706217765356134, 0.02560092678792672, 0.006316027926838598]\n",
      "1\n",
      "\u001b[1m3×7 DataFrame\u001b[0m\n",
      "\u001b[1m Row \u001b[0m│\u001b[1m name                          \u001b[0m\u001b[1m h     \u001b[0m\u001b[1m f     \u001b[0m\u001b[1m l     \u001b[0m\u001b[1m p     \u001b[0m\u001b[1m r     \u001b[0m\u001b[1m s     \u001b[0m\n",
      "     │\u001b[90m String                        \u001b[0m\u001b[90m Int64 \u001b[0m\u001b[90m Int64 \u001b[0m\u001b[90m Int64 \u001b[0m\u001b[90m Int64 \u001b[0m\u001b[90m Int64 \u001b[0m\u001b[90m Int64 \u001b[0m\n",
      "─────┼─────────────────────────────────────────────────────────────────────────\n",
      "   1 │ #2240. Criminal Mashed Potato     10      3      5      5      3      1\n",
      "   2 │ #10840. Helen's Tater Tots         7      1     11      3      3      4\n",
      "   3 │ #14737. Hungry Potato Strips       5      8      1      1      5      3\n",
      "[0.011917689945324678, 0.009455661126273862, 0.00849191296062443]\n",
      "1\n",
      "\u001b[1m3×7 DataFrame\u001b[0m\n",
      "\u001b[1m Row \u001b[0m│\u001b[1m name                           \u001b[0m\u001b[1m h     \u001b[0m\u001b[1m f     \u001b[0m\u001b[1m l     \u001b[0m\u001b[1m p     \u001b[0m\u001b[1m r     \u001b[0m\u001b[1m s     \u001b[0m\n",
      "     │\u001b[90m String                         \u001b[0m\u001b[90m Int64 \u001b[0m\u001b[90m Int64 \u001b[0m\u001b[90m Int64 \u001b[0m\u001b[90m Int64 \u001b[0m\u001b[90m Int64 \u001b[0m\u001b[90m Int64 \u001b[0m\n",
      "─────┼──────────────────────────────────────────────────────────────────────────\n",
      "   1 │ #3033. Potato Soup w/ scallion     11      3      4      4      3      3\n",
      "   2 │ #6951. Potato Soup w/ scallion     10      7      1      3      2      1\n",
      "   3 │ #10840. Helen's Tater Tots          7      1     11      3      3      4\n",
      "[0.0032995955238368704, 0.0082961826630647, 0.009455661126273862]\n",
      "1\n",
      "\u001b[1m3×7 DataFrame\u001b[0m\n",
      "\u001b[1m Row \u001b[0m│\u001b[1m name                             \u001b[0m\u001b[1m h     \u001b[0m\u001b[1m f     \u001b[0m\u001b[1m l     \u001b[0m\u001b[1m p     \u001b[0m\u001b[1m r     \u001b[0m\u001b[1m s     \u001b[0m\n",
      "     │\u001b[90m String                           \u001b[0m\u001b[90m Int64 \u001b[0m\u001b[90m Int64 \u001b[0m\u001b[90m Int64 \u001b[0m\u001b[90m Int64 \u001b[0m\u001b[90m Int64 \u001b[0m\u001b[90m Int64 \u001b[0m\n",
      "─────┼────────────────────────────────────────────────────────────────────────────\n",
      "   1 │ #3007. Helen's Mashed Potato         11      1      8      3      1      2\n",
      "   2 │ #6705. Potato Strips w/ scallion      8     10      1      1      2      1\n",
      "   3 │ #13888. Wrestler Baked Potato         1      7      1      7      1      6\n",
      "[0.02136341552349906, 0.03415742081119776, 0.013440809468974762]\n",
      "2\n"
     ]
    },
    {
     "name": "stdout",
     "output_type": "stream",
     "text": [
      "\u001b[1m3×7 DataFrame\u001b[0m\n",
      "\u001b[1m Row \u001b[0m│\u001b[1m name                              \u001b[0m\u001b[1m h     \u001b[0m\u001b[1m f     \u001b[0m\u001b[1m l     \u001b[0m\u001b[1m p     \u001b[0m\u001b[1m r     \u001b[0m\u001b[1m s     \u001b[0m\n",
      "     │\u001b[90m String                            \u001b[0m\u001b[90m Int64 \u001b[0m\u001b[90m Int64 \u001b[0m\u001b[90m Int64 \u001b[0m\u001b[90m Int64 \u001b[0m\u001b[90m Int64 \u001b[0m\u001b[90m Int64 \u001b[0m\n",
      "─────┼─────────────────────────────────────────────────────────────────────────────\n",
      "   1 │ #2240. Criminal Mashed Potato         10      3      5      5      3      1\n",
      "   2 │ #10984. Helen's Home Fries             7      2      9      5      3      2\n",
      "   3 │ #14881. Angry Mashed Potato w/ s…      6      8      1      1      4      3\n",
      "[0.011917689945324678, 0.007105904000747153, 0.006316027926838598]\n",
      "1\n",
      "\u001b[1m3×7 DataFrame\u001b[0m\n",
      "\u001b[1m Row \u001b[0m│\u001b[1m name                             \u001b[0m\u001b[1m h     \u001b[0m\u001b[1m f     \u001b[0m\u001b[1m l     \u001b[0m\u001b[1m p     \u001b[0m\u001b[1m r     \u001b[0m\u001b[1m s     \u001b[0m\n",
      "     │\u001b[90m String                           \u001b[0m\u001b[90m Int64 \u001b[0m\u001b[90m Int64 \u001b[0m\u001b[90m Int64 \u001b[0m\u001b[90m Int64 \u001b[0m\u001b[90m Int64 \u001b[0m\u001b[90m Int64 \u001b[0m\n",
      "─────┼────────────────────────────────────────────────────────────────────────────\n",
      "   1 │ #1764. Friendly Tater Tots            3      3     12      1      7      6\n",
      "   2 │ #3093. Sneaky Mashed Potato          12      1      7      2      4      2\n",
      "   3 │ #6705. Potato Strips w/ scallion      8     10      1      1      2      1\n",
      "[0.005475480557622702, 0.004895244548613146, 0.03415742081119776]\n",
      "1\n",
      "\u001b[1m3×7 DataFrame\u001b[0m\n",
      "\u001b[1m Row \u001b[0m│\u001b[1m name                          \u001b[0m\u001b[1m h     \u001b[0m\u001b[1m f     \u001b[0m\u001b[1m l     \u001b[0m\u001b[1m p     \u001b[0m\u001b[1m r     \u001b[0m\u001b[1m s     \u001b[0m\n",
      "     │\u001b[90m String                        \u001b[0m\u001b[90m Int64 \u001b[0m\u001b[90m Int64 \u001b[0m\u001b[90m Int64 \u001b[0m\u001b[90m Int64 \u001b[0m\u001b[90m Int64 \u001b[0m\u001b[90m Int64 \u001b[0m\n",
      "─────┼─────────────────────────────────────────────────────────────────────────\n",
      "   1 │ #1813. Potato Strips w/ onion      3      9      2      4      1      4\n",
      "   2 │ #2240. Criminal Mashed Potato     10      3      5      5      3      1\n",
      "   3 │ #13017. Charles' Potato Soup       7      1     11      2      4      4\n",
      "[0.004583268338289516, 0.011917689945324678, 0.005393015508397029]\n",
      "1\n"
     ]
    }
   ],
   "source": [
    "# Verify explotability\n",
    "for i in 1:10000\n",
    "    inds = sort([rand(inds_sel[1:120]) for i in 1:3])\n",
    "    rt = nash_env[inds]\n",
    "    ff = pick_best(library, rt)\n",
    "    ev = eval_battle_list(ff, rt)\n",
    "    if ev < 3\n",
    "        println(spuds_to_df(rt))\n",
    "        println(w[inds])\n",
    "        println(ev)\n",
    "    end\n",
    "end"
   ]
  },
  {
   "cell_type": "code",
   "execution_count": 60,
   "id": "ca23894e",
   "metadata": {},
   "outputs": [
    {
     "data": {
      "text/plain": [
       "4-element Vector{Spud}:\n",
       " Spud(\"#7981. Mashed Potato w/ ketchup\", 3, 1, 11, 2, 4, 3)\n",
       " Spud(\"#8650. Charles' Potato Bread\", 3, 2, 10, 2, 2, 3)\n",
       " Spud(\"#10705. Devious Baked Potato w/ ketchup\", 4, 3, 4, 5, 2, 2)\n",
       " Spud(\"#14443. Sneaky Potato Soup\", 8, 2, 2, 1, 5, 6)"
      ]
     },
     "execution_count": 60,
     "metadata": {},
     "output_type": "execute_result"
    }
   ],
   "source": [
    "rt = nash_env[sort([rand(1:n_nash) for i in 1:4])]"
   ]
  },
  {
   "cell_type": "code",
   "execution_count": 61,
   "id": "e1899929",
   "metadata": {},
   "outputs": [
    {
     "name": "stdout",
     "output_type": "stream",
     "text": [
      "Spud(\"#12249. Enlightened Mashed Potato\", 5, 6, 4, 1, 1, 1)\n",
      "4\n"
     ]
    },
    {
     "data": {
      "text/plain": [
       "-0.05855215021150282"
      ]
     },
     "execution_count": 61,
     "metadata": {},
     "output_type": "execute_result"
    }
   ],
   "source": [
    "ff = pick_best_rdmly(nash_env[inds_sel], rt, 99)\n",
    "ev = eval_battle_list(ff, rt)\n",
    "println(ff)\n",
    "println(ev)\n",
    "eval_battle_list2(ff, nash_env, w)"
   ]
  },
  {
   "cell_type": "code",
   "execution_count": 66,
   "id": "497f2f3a",
   "metadata": {},
   "outputs": [
    {
     "name": "stdout",
     "output_type": "stream",
     "text": [
      "Spud(\"#9053. Aquatic French Fries\", 3, 4, 4, 1, 4, 3)\n",
      "4\n"
     ]
    },
    {
     "data": {
      "text/plain": [
       "-0.1656790165129023"
      ]
     },
     "execution_count": 66,
     "metadata": {},
     "output_type": "execute_result"
    }
   ],
   "source": [
    "ff = pick_best_rdmly(library, rt, 99)\n",
    "ev = eval_battle_list(ff, rt)\n",
    "println(ff)\n",
    "println(ev)\n",
    "eval_battle_list2(ff, nash_env, w)"
   ]
  },
  {
   "cell_type": "code",
   "execution_count": 35,
   "id": "12acdb76",
   "metadata": {},
   "outputs": [
    {
     "name": "stdout",
     "output_type": "stream",
     "text": [
      "Spud(\"#14744. Battle Potato Soup\", 9, 1, 1, 13, 6, 7)\n"
     ]
    },
    {
     "data": {
      "text/plain": [
       "-0.6779939500016593"
      ]
     },
     "execution_count": 35,
     "metadata": {},
     "output_type": "execute_result"
    }
   ],
   "source": [
    "ff = rand(library)\n",
    "println(ff)\n",
    "eval_battle_list2(ff, nash_env, w)"
   ]
  },
  {
   "cell_type": "code",
   "execution_count": 23,
   "id": "faf95c79",
   "metadata": {},
   "outputs": [],
   "source": [
    "#cost(4,4,9,1,4,2)"
   ]
  },
  {
   "cell_type": "code",
   "execution_count": 24,
   "id": "4d0bc4c8",
   "metadata": {},
   "outputs": [],
   "source": [
    "#rt = library[[15918,21020,26191]]\n",
    "#eval_battle(Spud(\"\",4,4,9,1,4,1), rt[1])"
   ]
  },
  {
   "cell_type": "code",
   "execution_count": 25,
   "id": "17a5cad4",
   "metadata": {},
   "outputs": [],
   "source": [
    "#sum(sort(-w)[1:450])"
   ]
  },
  {
   "cell_type": "code",
   "execution_count": 26,
   "id": "c945e08d",
   "metadata": {},
   "outputs": [],
   "source": [
    "#sum(w)"
   ]
  },
  {
   "cell_type": "code",
   "execution_count": 27,
   "id": "209dc74d",
   "metadata": {},
   "outputs": [],
   "source": [
    "# # FP is slow to converge in the end\n",
    "# eps = 0.01/length(library)\n",
    "# nits = 20000\n",
    "# scores = wins./sum(counts)\n",
    "# w = counts./sum(counts)\n",
    "# 0"
   ]
  },
  {
   "cell_type": "code",
   "execution_count": 28,
   "id": "d50fc1f0",
   "metadata": {},
   "outputs": [],
   "source": [
    "# previous_score = maximum(scores)\n",
    "# for iter in 1:nits\n",
    "#     ind_winners = findall(wins .== maximum(wins))\n",
    "#     i = rand(ind_winners)\n",
    "#     w[i] += eps\n",
    "#     for j in 1:n_lose[i]\n",
    "#         i_w = i_lose[i, j]\n",
    "#         scores[i_w]+= eps\n",
    "#     end\n",
    "#     if mod1(iter, 2000) == 1\n",
    "#         scores = scores./sum(w)\n",
    "#         w = w./sum(w)\n",
    "#         if maximum(scores) > previous_score\n",
    "#             eps = eps/2\n",
    "#             println(eps)\n",
    "#             println()\n",
    "#             println()\n",
    "#         end\n",
    "#         previous_score = maximum(scores)\n",
    "#         mxv, mxi = findmax(wins)\n",
    "#         print(library[mxi])\n",
    "#         print(\" n:\")\n",
    "#         print(w[mxi])\n",
    "#         print(\" w:\")\n",
    "#         print(scores[mxi])\n",
    "#         println()\n",
    "#         mxv, mxi = findmax(counts)\n",
    "#         print(library[mxi])\n",
    "#         print(\" n:\")\n",
    "#         print(w[mxi])\n",
    "#         print(\" w:\")\n",
    "#         print(scores[mxi])\n",
    "#         println()\n",
    "#         println(maximum([eval_battle_list2(ff, library, w) for ff in library]))\n",
    "#         println()\n",
    "#     end\n",
    "# end\n"
   ]
  },
  {
   "cell_type": "code",
   "execution_count": null,
   "id": "34e127aa",
   "metadata": {},
   "outputs": [],
   "source": []
  }
 ],
 "metadata": {
  "kernelspec": {
   "display_name": "Julia 1.9.3",
   "language": "julia",
   "name": "julia-1.9"
  },
  "language_info": {
   "file_extension": ".jl",
   "mimetype": "application/julia",
   "name": "julia",
   "version": "1.9.3"
  }
 },
 "nbformat": 4,
 "nbformat_minor": 5
}

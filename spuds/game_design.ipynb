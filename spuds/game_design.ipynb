{
 "cells": [
  {
   "cell_type": "markdown",
   "id": "052be005",
   "metadata": {},
   "source": [
    "Design of a new game, Spuds"
   ]
  },
  {
   "cell_type": "code",
   "execution_count": 1,
   "id": "494818e8",
   "metadata": {},
   "outputs": [],
   "source": [
    "using Random\n",
    "using DataFrames\n",
    "using CSV\n",
    "using Statistics\n",
    "using Printf\n",
    "using LinearAlgebra"
   ]
  },
  {
   "cell_type": "code",
   "execution_count": 2,
   "id": "1e1008a1",
   "metadata": {},
   "outputs": [
    {
     "data": {
      "text/plain": [
       "cost (generic function with 1 method)"
      ]
     },
     "execution_count": 2,
     "metadata": {},
     "output_type": "execute_result"
    }
   ],
   "source": [
    "struct Spud\n",
    "    name::String\n",
    "    h::Int64\n",
    "    f::Int64\n",
    "    l::Int64\n",
    "    p::Int64\n",
    "    r::Int64\n",
    "    s::Int64\n",
    "end\n",
    "\n",
    "const MXS = 100\n",
    "const MXV = 20\n",
    "const MNV = 1\n",
    "\n",
    "function cost(h::Int64, f::Int64, l::Int64, p::Int64, r::Int64, s::Int64)::Int64\n",
    "    #return h*(f+l-2*MNV) + f*(p+r+s-3*MNV) + h+f+l+p+r+s-6*MNV\n",
    "    return h*(f+l) + f*(p+r+s)\n",
    "end"
   ]
  },
  {
   "cell_type": "code",
   "execution_count": 3,
   "id": "ac830f74",
   "metadata": {},
   "outputs": [
    {
     "data": {
      "text/plain": [
       "eval_battle (generic function with 1 method)"
      ]
     },
     "execution_count": 3,
     "metadata": {},
     "output_type": "execute_result"
    }
   ],
   "source": [
    "function eval_battle(a::Spud, b::Spud)::Int\n",
    "    a_finds = a.f >= b.h\n",
    "    b_finds = b.f >= a.h\n",
    "    #score_a = 4 * (1000*a.p + a.l > 1000*b.p+b.l) + 3 * (1000*a.r+a.l > 1000*b.r+b.l) + 2 * (1000*a.s+a.l > 1000*b.s+b.l)\n",
    "    #score_b = 4 * (1000*a.p + a.l < 1000*b.p+b.l) + 3 * (1000*a.r+a.l < 1000*b.r+b.l) + 2 * (1000*a.s+a.l < 1000*b.s+b.l)\n",
    "    score_a = 4 * (a.p > b.p) + 3 * (a.r > b.r) + 2 * (a.s > b.s)\n",
    "    score_b = 4 * (a.p < b.p) + 3 * (a.r < b.r) + 2 * (a.s < b.s)\n",
    "    melee_win = sign(score_a - score_b)\n",
    "    if a_finds && b_finds\n",
    "        tiebreaker = 4 * melee_win + 2 * sign(a.l - b.l) + sign(a.h - b.h)\n",
    "        return sign(tiebreaker)\n",
    "    end\n",
    "    if a_finds && !b_finds\n",
    "        return 1\n",
    "    end\n",
    "    if !a_finds && b_finds\n",
    "        return -1\n",
    "    end\n",
    "    if !a_finds && !b_finds\n",
    "        tiebreaker = 4 * sign(a.l - b.l) + 2 * melee_win + sign(a.f - b.f)\n",
    "        return sign(tiebreaker)\n",
    "    end\n",
    "end\n"
   ]
  },
  {
   "cell_type": "code",
   "execution_count": 4,
   "id": "40b9dc47",
   "metadata": {},
   "outputs": [
    {
     "data": {
      "text/plain": [
       "random_name_and_stat (generic function with 1 method)"
      ]
     },
     "execution_count": 4,
     "metadata": {},
     "output_type": "execute_result"
    }
   ],
   "source": [
    "tab = CSV.read(\"census_yob2022_names.txt\", DataFrame, header = false)\n",
    "names = tab.Column1\n",
    "adjectives = CSV.read(\"adjectives.csv\", DataFrame)\n",
    "nouns = CSV.read(\"nouns.csv\", DataFrame)\n",
    "jobs = CSV.read(\"jobs.csv\", DataFrame)\n",
    "\n",
    "function random_name_and_stat()::Spud\n",
    "    vp = [0, 0, 0, 0, 0, 0]\n",
    "    #nametype = rand([1,1,1,1,1,2,2,2,3])\n",
    "    name = \"\"\n",
    "    noun = \"\"\n",
    "    adj = \"\"\n",
    "    noun_i = rand(1:nrow(nouns))\n",
    "    noun = nouns[noun_i, :noun]\n",
    "    vp[1] = vp[1] + nouns[noun_i, :H]\n",
    "    vp[2] = vp[2] + nouns[noun_i, :F]\n",
    "    vp[3] = vp[3] + nouns[noun_i, :L]\n",
    "    vp[4] = vp[4] + nouns[noun_i, :P]    \n",
    "    vp[5] = vp[5] + nouns[noun_i, :R]\n",
    "    vp[6] = vp[6] + nouns[noun_i, :S]    \n",
    "    adj_i = rand(1:nrow(adjectives))\n",
    "    adj = adjectives[adj_i, :adjective]\n",
    "    vp[1] = vp[1] + adjectives[adj_i, :H]\n",
    "    vp[2] = vp[2] + adjectives[adj_i, :F]\n",
    "    vp[3] = vp[3] + adjectives[adj_i, :L]\n",
    "    vp[4] = vp[4] + adjectives[adj_i, :P]\n",
    "    vp[5] = vp[5] + adjectives[adj_i, :R]\n",
    "    vp[6] = vp[6] + adjectives[adj_i, :S]\n",
    "    job_i = rand(1:nrow(jobs))\n",
    "    job = jobs[job_i, :job]\n",
    "    vp[1] = vp[1] + jobs[job_i, :H]\n",
    "    vp[2] = vp[2] + jobs[job_i, :F]\n",
    "    vp[3] = vp[3] + jobs[job_i, :L]\n",
    "    vp[4] = vp[4] + jobs[job_i, :P]\n",
    "    vp[5] = vp[5] + jobs[job_i, :R]\n",
    "    vp[6] = vp[6] + jobs[job_i, :S]\n",
    "    name = string(adj, \" \", noun, \" the \", job)\n",
    "    Spud(name, vp[1], vp[2], vp[3], vp[4], vp[5], vp[6])\n",
    "end"
   ]
  },
  {
   "cell_type": "code",
   "execution_count": 5,
   "id": "f606e085",
   "metadata": {},
   "outputs": [
    {
     "data": {
      "text/plain": [
       "rand_rename (generic function with 2 methods)"
      ]
     },
     "execution_count": 5,
     "metadata": {},
     "output_type": "execute_result"
    }
   ],
   "source": [
    "function rand_rename(a::Spud, n_tries::Int = 100)::Spud\n",
    "    best_score = 0.0\n",
    "    best_b = random_name_and_stat()\n",
    "    for ii in 1:n_tries\n",
    "        b = random_name_and_stat()\n",
    "        b_norm = sqrt(b.h^2 + b.f^2 + b.l^2 + b.p^2 + b.r^2 + b.s^2)\n",
    "        score = (a.h * b.h + a.f * b.f + a.l * b.l + a.p * b.p + a.r * b.r + a.s * b.s)/b_norm\n",
    "        if score > best_score\n",
    "            best_score = score\n",
    "            best_b = b\n",
    "        end\n",
    "    end\n",
    "    return Spud(best_b.name, a.h, a.f, a.l, a.p, a.r, a.s)\n",
    "end"
   ]
  },
  {
   "cell_type": "code",
   "execution_count": 6,
   "id": "560e9539",
   "metadata": {},
   "outputs": [
    {
     "data": {
      "text/plain": [
       "random_team (generic function with 1 method)"
      ]
     },
     "execution_count": 6,
     "metadata": {},
     "output_type": "execute_result"
    }
   ],
   "source": [
    "function eval_battle_list(a::Spud, bs::Array{Spud})::Int\n",
    "    score = 0\n",
    "    for ii in 1:length(bs)\n",
    "        score = score + eval_battle(a, bs[ii])\n",
    "    end\n",
    "    return score\n",
    "end\n",
    "\n",
    "function eval_battle_list2(a::Spud, bs::Array{Spud}, w::Vector{Float64})::AbstractFloat\n",
    "    score = 0.0\n",
    "    for ii in 1:length(bs)\n",
    "        score = score + w[ii] * eval_battle(a, bs[ii])\n",
    "    end\n",
    "    return score\n",
    "end\n",
    "\n",
    "\n",
    "function pick_best(as::Array{Spud}, bs::Array{Spud})::Spud\n",
    "    bestscore = -999\n",
    "    bestf = as[1]\n",
    "    for ii in 1:length(as)\n",
    "        score = eval_battle_list(as[ii], bs)\n",
    "        if score > bestscore\n",
    "            bestscore = score\n",
    "            bestf = as[ii]\n",
    "        end\n",
    "    end\n",
    "    return bestf\n",
    "end\n",
    "\n",
    "function pick_best_rdmly(as::Array{Spud}, bs::Array{Spud}, ntries::Int)::Spud\n",
    "    bestscore = -999\n",
    "    bestf = rand(as)\n",
    "    for ii in 1:ntries\n",
    "        f = rand(as)\n",
    "        score = eval_battle_list(f, bs)\n",
    "        if score > bestscore\n",
    "            bestscore = score\n",
    "            bestf = f\n",
    "        end\n",
    "    end\n",
    "    return bestf\n",
    "end\n",
    "\n",
    "function pick_best_rdmly_g(g::Function, bs::Array{Spud}, ntries::Int)::Spud\n",
    "    bestscore = -999\n",
    "    bestf = g()\n",
    "    for ii in 1:ntries\n",
    "        f = g()\n",
    "        score = eval_battle_list(f, bs)\n",
    "        if score > bestscore\n",
    "            bestscore = score\n",
    "            bestf = f\n",
    "        end\n",
    "    end\n",
    "    return bestf\n",
    "end\n",
    "\n",
    "function spuds_to_df(as::Array{Spud})::DataFrame\n",
    "    names = Array{String}(undef, length(as))\n",
    "    hs = Array{Int}(undef, length(as))\n",
    "    fs = Array{Int}(undef, length(as))\n",
    "    ls = Array{Int}(undef, length(as))\n",
    "    ps = Array{Int}(undef, length(as))\n",
    "    rs = Array{Int}(undef, length(as))\n",
    "    ss = Array{Int}(undef, length(as))\n",
    "    for ii in 1:length(as)\n",
    "        names[ii] = as[ii].name\n",
    "        hs[ii] = as[ii].h\n",
    "        fs[ii] = as[ii].f\n",
    "        ls[ii] = as[ii].l\n",
    "        ps[ii] = as[ii].p\n",
    "        rs[ii] = as[ii].r\n",
    "        ss[ii] = as[ii].s\n",
    "    end\n",
    "    df = DataFrame(name = names, h = hs, f = fs, l = ls, p = ps, r = rs, s = ss)\n",
    "    return df\n",
    "end\n",
    "\n",
    "function fpart(x::AbstractFloat)::AbstractFloat\n",
    "  return x - trunc(x)\n",
    "end\n",
    "\n",
    "function eval_team_battle(as::Array{Spud}, bs::Array{Spud})::Int\n",
    "    a_i = 1\n",
    "    b_i = 1\n",
    "    while (a_i <= length(as)) && (b_i <= length(bs))\n",
    "        res = eval_battle(as[a_i], bs[b_i])\n",
    "        if res == 1\n",
    "            b_i = b_i + 1\n",
    "        else\n",
    "            a_i = a_i + 1\n",
    "            if res == 0\n",
    "                b_i = b_i + 1\n",
    "            end\n",
    "        end\n",
    "    end\n",
    "    a_out = (a_i > length(as))\n",
    "    b_out = (b_i > length(as))\n",
    "    if a_out\n",
    "        if b_out\n",
    "            return 0\n",
    "        else\n",
    "            return -1\n",
    "        end\n",
    "    else\n",
    "        return 1\n",
    "    end\n",
    "end\n",
    "\n",
    "function compare_generator(f1, f2, limit)\n",
    "    a_i = 1\n",
    "    b_i = 1\n",
    "    f_a = f1()\n",
    "    f_b = f2()\n",
    "    while (a_i < limit) && (b_i < limit)\n",
    "        res = eval_battle(f_a, f_b)\n",
    "        if res != -1\n",
    "            b_i = b_i + 1\n",
    "            f_b = f2()\n",
    "        end\n",
    "        if res != 1\n",
    "            a_i = a_i + 1\n",
    "            f_a = f1()\n",
    "        end\n",
    "    end\n",
    "    return (a_i/limit, b_i/limit)\n",
    "end\n",
    "\n",
    "function random_team(f::Function, team_size::Int)::Array{Spud}\n",
    "    team = Array{Spud}(undef, team_size)\n",
    "    for i in 1:team_size\n",
    "        team[i] = f()\n",
    "    end\n",
    "    return team\n",
    "end"
   ]
  },
  {
   "cell_type": "code",
   "execution_count": 7,
   "id": "bd2b243d",
   "metadata": {},
   "outputs": [
    {
     "data": {
      "text/plain": [
       "pick_best_library (generic function with 1 method)"
      ]
     },
     "execution_count": 7,
     "metadata": {},
     "output_type": "execute_result"
    }
   ],
   "source": [
    "function upgrade_spud(sp::Spud)::Spud\n",
    "    h = sp.h\n",
    "    f = sp.f\n",
    "    l = sp.l\n",
    "    p = sp.p\n",
    "    r = sp.r\n",
    "    s = sp.s    \n",
    "    check_h = (f == MXV) || (cost(h,f+1,l,p,r,s) > MXS)\n",
    "    check_f = (h == MXV) || (cost(h+1,f,l,p,r,s) > MXS)\n",
    "    check_l = (l == MXV) || (cost(h,f,l+1,p,r,s) > MXS)\n",
    "    check_prs = (p+r+s == 3*MXV) || (cost(h,f,l,p+1,r,s) > MXS)\n",
    "    while !(check_h && check_f && check_l && check_prs)\n",
    "        rand_i = rand(1:4)\n",
    "        if rand_i == 1 && !check_h\n",
    "            h = h+1\n",
    "        end\n",
    "        if rand_i == 2 && !check_f\n",
    "            f = f+1\n",
    "        end\n",
    "        if rand_i == 3 && !check_l\n",
    "            l = l+1\n",
    "        end\n",
    "        if rand_i == 4 && !check_prs\n",
    "            rand_j = rand([1,1,1,1,1,2,2,2,2,3,3,3])\n",
    "            if rand_j == 1 && p <= MXV\n",
    "                p += 1\n",
    "            end\n",
    "            if rand_j == 2 && r <= MXV\n",
    "                r += 1\n",
    "            end\n",
    "            if rand_j == 3 && s <= MXV\n",
    "                s += 1\n",
    "            end\n",
    "        end            \n",
    "        check_h = (f == MXV) || (cost(h,f+1,l,p,r,s) > MXS)\n",
    "        check_f = (h == MXV) || (cost(h+1,f,l,p,r,s) > MXS)\n",
    "        check_l = (l == MXV) || (cost(h,f,l+1,p,r,s) > MXS)\n",
    "        check_prs = (p+r+s == 3*MXV) || (cost(h,f,l,p+1,r,s) > MXS)\n",
    "    end\n",
    "    return Spud(sp.name, h, f, l, p, r, s)\n",
    "end\n",
    "\n",
    "\n",
    "\n",
    "function pick_best_library(bs::Array{Spud})::Spud\n",
    "    bestscore = -999\n",
    "    bestf = Spud(\"\",MNV,MNV,MNV,MNV,MNV,MNV)\n",
    "    df = spuds_to_df(bs)\n",
    "    hrange = vcat([MNV], df.h, df.h .+ 1, df.f, df.f .+ 1)\n",
    "    frange = vcat([MNV], df.f, df.f .+ 1, df.h, df.h .+ 1)\n",
    "    lrange = vcat([MNV], df.l, df.l .+ 1)\n",
    "    prange = vcat([MNV], df.p, df.p .+ 1)\n",
    "    rrange = vcat([MNV], df.r, df.r .+ 1)\n",
    "    srange = vcat([MNV], df.s, df.s .+ 1)\n",
    "    hrange = sort(unique(hrange))\n",
    "    frange = sort(unique(frange))\n",
    "    lrange = sort(unique(lrange))\n",
    "    prange = sort(unique(prange))\n",
    "    rrange = sort(unique(rrange))\n",
    "    srange = sort(unique(srange))\n",
    "    for h in hrange\n",
    "        if (cost(h, MNV, MNV, MNV, MNV, MNV) < MXS)\n",
    "            for f in frange\n",
    "                if (cost(h, f, MNV, MNV, MNV, MNV) < MXS)\n",
    "                    for l in lrange\n",
    "                        if (cost(h, f, l, MNV, MNV, MNV) < MXS)\n",
    "                            for p in prange\n",
    "                                if (cost(h, f, l, p, MNV, MNV) < MXS)\n",
    "                                    for r in rrange\n",
    "                                        if (cost(h, f, l, p, r, MNV) < MXS)\n",
    "                                            for s in srange\n",
    "                                                if (cost(h,f,l,p,r,s) <= MXS)\n",
    "                                                    ff = Spud(\"\",h,f,l,p,r,s)\n",
    "                                                    score = eval_battle_list(ff, bs)\n",
    "                                                    if score > bestscore\n",
    "                                                        bestscore = score\n",
    "                                                        bestf = ff\n",
    "                                                    end\n",
    "                                                end\n",
    "                                            end\n",
    "                                        end\n",
    "                                    end                        \n",
    "                                end\n",
    "                            end                        \n",
    "                        end\n",
    "                    end\n",
    "                end\n",
    "            end\n",
    "        end\n",
    "    end\n",
    "    return upgrade_spud(bestf)\n",
    "end\n",
    "\n"
   ]
  },
  {
   "cell_type": "code",
   "execution_count": 8,
   "id": "2d640dee",
   "metadata": {},
   "outputs": [
    {
     "data": {
      "text/plain": [
       "pick_ok_counter (generic function with 1 method)"
      ]
     },
     "execution_count": 8,
     "metadata": {},
     "output_type": "execute_result"
    }
   ],
   "source": [
    "function pick_ok_counter(bs::Array{Spud})::Spud\n",
    "    bestscore = -999\n",
    "    bestf = Spud(\"\",MNV,MNV,MNV,MNV,MNV,MNV)\n",
    "    df = spuds_to_df(bs)\n",
    "    hrange = vcat([MNV], df.f .+ 1)\n",
    "    frange = vcat([MNV], df.h .+ 1)\n",
    "    lrange = vcat([MNV], df.l .+ 1)\n",
    "    prange = vcat([MNV], df.p .+ 1)\n",
    "    rrange = vcat([MNV], df.r .+ 1)\n",
    "    srange = vcat([MNV], df.s .+ 1)\n",
    "    hrange = sort(unique(hrange))\n",
    "    frange = sort(unique(frange))\n",
    "    lrange = sort(unique(lrange))\n",
    "    prange = sort(unique(prange))\n",
    "    rrange = sort(unique(rrange))\n",
    "    srange = sort(unique(srange))\n",
    "    for h in hrange\n",
    "        if (cost(h, MNV, MNV, MNV, MNV, MNV) < MXS)\n",
    "            for f in frange\n",
    "                if (cost(h, f, MNV, MNV, MNV, MNV) < MXS)\n",
    "                    for l in lrange\n",
    "                        if (cost(h, f, l, MNV, MNV, MNV) < MXS)\n",
    "                            for p in prange\n",
    "                                if (cost(h, f, l, p, MNV, MNV) < MXS)\n",
    "                                    for r in rrange\n",
    "                                        if (cost(h, f, l, p, r, MNV) < MXS)\n",
    "                                            for s in srange\n",
    "                                                if (cost(h,f,l,p,r,s) <= MXS)\n",
    "                                                    ff = Spud(\"\",h,f,l,p,r,s)\n",
    "                                                    score = eval_battle_list(ff, bs)\n",
    "                                                    if score > bestscore\n",
    "                                                        bestscore = score\n",
    "                                                        bestf = ff\n",
    "                                                    end\n",
    "                                                end\n",
    "                                            end\n",
    "                                        end\n",
    "                                    end                        \n",
    "                                end\n",
    "                            end                        \n",
    "                        end\n",
    "                    end\n",
    "                end\n",
    "            end\n",
    "        end\n",
    "    end\n",
    "    return upgrade_spud(bestf)\n",
    "end\n"
   ]
  },
  {
   "cell_type": "code",
   "execution_count": 9,
   "id": "7b4f703b",
   "metadata": {},
   "outputs": [
    {
     "data": {
      "text/plain": [
       "pick_best_library2 (generic function with 1 method)"
      ]
     },
     "execution_count": 9,
     "metadata": {},
     "output_type": "execute_result"
    }
   ],
   "source": [
    "function pick_best_library2(bs::Array{Spud}, w::Vector{Float64})::Spud\n",
    "    bestscore = -999.9\n",
    "    bestf = Spud(\"\",MNV,MNV,MNV,MNV,MNV,MNV)\n",
    "    df = spuds_to_df(bs)\n",
    "    hrange = vcat([MNV], df.h, df.h .+ 1, df.f, df.f .+ 1)\n",
    "    frange = vcat([MNV], df.f, df.f .+ 1, df.h, df.h .+ 1)\n",
    "    lrange = vcat([MNV], df.l, df.l .+ 1)\n",
    "    prange = vcat([MNV], df.p, df.p .+ 1)\n",
    "    rrange = vcat([MNV], df.r, df.r .+ 1)\n",
    "    srange = vcat([MNV], df.s, df.s .+ 1)\n",
    "    hrange = sort(unique(hrange))\n",
    "    frange = sort(unique(frange))\n",
    "    lrange = sort(unique(lrange))\n",
    "    prange = sort(unique(prange))\n",
    "    rrange = sort(unique(rrange))\n",
    "    srange = sort(unique(srange))\n",
    "    for h in hrange\n",
    "        if (cost(h, MNV, MNV, MNV, MNV, MNV) < MXS)\n",
    "            for f in frange\n",
    "                if (cost(h, f, MNV, MNV, MNV, MNV) < MXS)\n",
    "                    for l in lrange\n",
    "                        if (cost(h, f, l, MNV, MNV, MNV) < MXS)\n",
    "                            for p in prange\n",
    "                                if (cost(h, f, l, p, MNV, MNV) < MXS)\n",
    "                                    for r in rrange\n",
    "                                        if (cost(h, f, l, p, r, MNV) < MXS)\n",
    "                                            for s in srange\n",
    "                                                if (cost(h,f,l,p,r,s) <= MXS)\n",
    "                                                    ff = Spud(\"\",h,f,l,p,r,s)\n",
    "                                                    score = eval_battle_list2(ff, bs, w) + 0.001 * rand()\n",
    "                                                    if score > bestscore\n",
    "                                                        bestscore = score\n",
    "                                                        bestf = ff\n",
    "                                                    end\n",
    "                                                end\n",
    "                                            end\n",
    "                                        end\n",
    "                                    end                        \n",
    "                                end\n",
    "                            end                        \n",
    "                        end\n",
    "                    end\n",
    "                end\n",
    "            end\n",
    "        end\n",
    "    end\n",
    "    return upgrade_spud(bestf)\n",
    "end"
   ]
  },
  {
   "cell_type": "code",
   "execution_count": 10,
   "id": "79126a50",
   "metadata": {},
   "outputs": [
    {
     "data": {
      "text/plain": [
       "subset_library (generic function with 1 method)"
      ]
     },
     "execution_count": 10,
     "metadata": {},
     "output_type": "execute_result"
    }
   ],
   "source": [
    "function subset_library(bs::Array{Spud}, n_hits::Int, w::Vector{Float64}, thres::Float64)::Array{Spud}\n",
    "    bestf = Array{Spud}(undef, n_hits)\n",
    "    spud_i = 0\n",
    "    df = spuds_to_df(bs)\n",
    "    hrange = vcat([MNV], df.h, df.h .+ 1, df.f, df.f .+ 1)\n",
    "    frange = vcat([MNV], df.f, df.f .+ 1, df.h, df.h .+ 1)\n",
    "    lrange = vcat([MNV], df.l, df.l .+ 1)\n",
    "    prange = vcat([MNV], df.p, df.p .+ 1)\n",
    "    rrange = vcat([MNV], df.r, df.r .+ 1)\n",
    "    srange = vcat([MNV], df.s, df.s .+ 1)\n",
    "    hrange = sort(unique(hrange))\n",
    "    frange = sort(unique(frange))\n",
    "    lrange = sort(unique(lrange))\n",
    "    prange = sort(unique(prange))\n",
    "    rrange = sort(unique(rrange))\n",
    "    srange = sort(unique(srange))\n",
    "    for h in hrange\n",
    "        if (cost(h, MNV, MNV, MNV, MNV, MNV) < MXS)\n",
    "            for f in frange\n",
    "                if (cost(h, f, MNV, MNV, MNV, MNV) < MXS)\n",
    "                    for l in lrange\n",
    "                        if (cost(h, f, l, MNV, MNV, MNV) < MXS)\n",
    "                            for p in prange\n",
    "                                if (cost(h, f, l, p, MNV, MNV) < MXS)\n",
    "                                    for r in rrange\n",
    "                                        if (cost(h, f, l, p, r, MNV) < MXS)\n",
    "                                            for s in srange\n",
    "                                                if (cost(h,f,l,p,r,s) <= MXS)\n",
    "                                                    ff = Spud(\"\",h,f,l,p,r,s)\n",
    "                                                    score = eval_battle_list2(ff, bs, w)\n",
    "                                                    if score >= thres && spud_i < n_hits\n",
    "                                                        spud_i += 1\n",
    "                                                        bestf[spud_i] = upgrade_spud(ff)\n",
    "                                                    end\n",
    "                                                end\n",
    "                                            end\n",
    "                                        end\n",
    "                                    end                        \n",
    "                                end\n",
    "                            end                        \n",
    "                        end\n",
    "                    end\n",
    "                end\n",
    "            end\n",
    "        end\n",
    "    end\n",
    "    return unique(bestf[1:spud_i])\n",
    "end"
   ]
  },
  {
   "cell_type": "code",
   "execution_count": 11,
   "id": "8534b5bb",
   "metadata": {},
   "outputs": [
    {
     "data": {
      "text/plain": [
       "0.01"
      ]
     },
     "execution_count": 11,
     "metadata": {},
     "output_type": "execute_result"
    }
   ],
   "source": [
    "# form initial library by subsampling indices\n",
    "library = Array{Spud}(undef, 1000)\n",
    "spud_i = 0\n",
    "ss_prob = 0.01"
   ]
  },
  {
   "cell_type": "code",
   "execution_count": 12,
   "id": "3febb950",
   "metadata": {},
   "outputs": [],
   "source": [
    "\n",
    "hrange = MNV:MXV\n",
    "frange = MNV:MXV\n",
    "lrange = MNV:MXV\n",
    "prange = MNV:MXV\n",
    "rrange = MNV:MXV\n",
    "srange = MNV:MXV\n",
    "\n",
    "for h in hrange\n",
    "    if (cost(h, MXV, MXV, MXV, MXV, MXV) >= MXS) && (cost(h, MNV, MNV, MNV, MNV, MNV) < MXS)\n",
    "        for f in frange\n",
    "            if (cost(h, f, MXV, MXV, MXV, MXV) >= MXS) && (cost(h, f, MNV, MNV, MNV, MNV) < MXS)\n",
    "                for l in lrange\n",
    "                    if (cost(h, f, l, MXV, MXV, MXV) >= MXS) && (cost(h, f, l, MNV, MNV, MNV) < MXS)\n",
    "                        for p in prange\n",
    "                            if (cost(h, f, l, p, MXV, MXV) >= MXS) && (cost(h, f, l, p, MNV, MNV) < MXS)\n",
    "                                for r in rrange\n",
    "                                    if (cost(h, f, l, p, r, MXV) >= MXS) && (cost(h, f, l, p, r, MNV) < MXS)\n",
    "                                        for s in srange\n",
    "                                            if rand() < ss_prob && (cost(h,f,l,p,r,s) <= MXS)\n",
    "                                                check_f = (h == MXV) || (cost(h+1,f,l,p,r,s) > MXS)\n",
    "                                                check_h = (f == MXV) || (cost(h,f+1,l,p,r,s) > MXS)\n",
    "                                                check_l = (l == MXV) || (cost(h,f,l+1,p,r,s) > MXS)\n",
    "                                                check_prs = (p+r+s == 3*MXV) || (cost(h,f,l,p+1,r,s) > MXS)\n",
    "                                                if check_h && check_f && check_l && check_prs\n",
    "                                                    spud_i += 1\n",
    "                                                    #randname = rand_rename(Spud(\" \",h,f,l,p,r,s)).name\n",
    "                                                    #name = string(\"#\", @sprintf(\"%i\", spud_i), \". \", randname)\n",
    "                                                    name = \"\"\n",
    "                                                    library[spud_i] = Spud(name,h,f,l,p,r,s)\n",
    "                                                end\n",
    "                                            end\n",
    "                                        end\n",
    "                                    end\n",
    "                                end                        \n",
    "                            end\n",
    "                        end                        \n",
    "                    end\n",
    "                end\n",
    "            end\n",
    "        end\n",
    "    end\n",
    "end\n"
   ]
  },
  {
   "cell_type": "code",
   "execution_count": 13,
   "id": "9bbe4ff4",
   "metadata": {},
   "outputs": [
    {
     "data": {
      "text/plain": [
       "707"
      ]
     },
     "execution_count": 13,
     "metadata": {},
     "output_type": "execute_result"
    }
   ],
   "source": [
    "library = unique(library[1:spud_i])\n",
    "n_spuds = length(library)"
   ]
  },
  {
   "cell_type": "code",
   "execution_count": 14,
   "id": "2a078723",
   "metadata": {},
   "outputs": [],
   "source": [
    "# for i in 1:n_spuds\n",
    "#     ff = library[i]\n",
    "#     randname = rand_rename(ff).name\n",
    "#     name = string(\"#\", @sprintf(\"%i\", i), \". \", randname)\n",
    "#     library[i] = Spud(name,ff.h,ff.f,ff.l,ff.p,ff.r,ff.s)\n",
    "# end\n",
    "# id_no = Dict(library[i] => i for i in 1:n_spuds)"
   ]
  },
  {
   "cell_type": "code",
   "execution_count": 15,
   "id": "52daa014",
   "metadata": {},
   "outputs": [],
   "source": [
    "# Check that there are no ties in spudland\n",
    "for iter in 1:10000\n",
    "    i = rand(1:n_spuds)\n",
    "    j = rand(1:n_spuds)\n",
    "    if i != j && eval_battle(library[i], library[j]) == 0\n",
    "        println(library[i])\n",
    "        println(library[j])\n",
    "        println()\n",
    "    end\n",
    "end"
   ]
  },
  {
   "cell_type": "markdown",
   "id": "4873490e",
   "metadata": {},
   "source": [
    "## Compute Nash env"
   ]
  },
  {
   "cell_type": "code",
   "execution_count": 16,
   "id": "010f3c57",
   "metadata": {},
   "outputs": [
    {
     "data": {
      "text/plain": [
       "ffp (generic function with 1 method)"
      ]
     },
     "execution_count": 16,
     "metadata": {},
     "output_type": "execute_result"
    }
   ],
   "source": [
    "function ffp(nash_env, nits)\n",
    "    n_nash = length(nash_env)\n",
    "    i_lose = Array{Int}(undef, (n_nash, n_nash))\n",
    "    n_lose = Array{Int}(undef, n_nash)\n",
    "    for i in 1:n_nash\n",
    "        n_lose[i] = 0\n",
    "        ff = nash_env[i]\n",
    "        for j in 1:n_nash\n",
    "            if eval_battle(ff, nash_env[j]) ==-1\n",
    "                n_lose[i] += 1\n",
    "                i_lose[i, n_lose[i]] = j\n",
    "            end\n",
    "        end\n",
    "    end\n",
    "    counts = [0 for i in 1:n_nash]\n",
    "    wins = [0 for i in 1:n_nash]\n",
    "    for i in 1:n_nash\n",
    "        counts[i] += 1\n",
    "        for j in 1:n_lose[i]\n",
    "            i_w = i_lose[i, j]\n",
    "            wins[i_w]+= 1\n",
    "        end\n",
    "    end\n",
    "    for iter in 1:nits\n",
    "        ind_winners = findall(wins .== maximum(wins))\n",
    "        i = rand(ind_winners)\n",
    "        counts[i] += 1\n",
    "        for j in 1:n_lose[i]\n",
    "            i_w = i_lose[i, j]\n",
    "            wins[i_w]+= 1\n",
    "        end\n",
    "    end\n",
    "    return counts\n",
    "end\n"
   ]
  },
  {
   "cell_type": "code",
   "execution_count": 17,
   "id": "4021dd90",
   "metadata": {},
   "outputs": [
    {
     "data": {
      "text/html": [
       "<div><div style = \"float: left;\"><span>707×7 DataFrame</span></div><div style = \"float: right;\"><span style = \"font-style: italic;\">682 rows omitted</span></div><div style = \"clear: both;\"></div></div><div class = \"data-frame\" style = \"overflow-x: scroll;\"><table class = \"data-frame\" style = \"margin-bottom: 6px;\"><thead><tr class = \"header\"><th class = \"rowNumber\" style = \"font-weight: bold; text-align: right;\">Row</th><th style = \"text-align: left;\">name</th><th style = \"text-align: left;\">h</th><th style = \"text-align: left;\">f</th><th style = \"text-align: left;\">l</th><th style = \"text-align: left;\">p</th><th style = \"text-align: left;\">r</th><th style = \"text-align: left;\">s</th></tr><tr class = \"subheader headerLastRow\"><th class = \"rowNumber\" style = \"font-weight: bold; text-align: right;\"></th><th title = \"String\" style = \"text-align: left;\">String</th><th title = \"Int64\" style = \"text-align: left;\">Int64</th><th title = \"Int64\" style = \"text-align: left;\">Int64</th><th title = \"Int64\" style = \"text-align: left;\">Int64</th><th title = \"Int64\" style = \"text-align: left;\">Int64</th><th title = \"Int64\" style = \"text-align: left;\">Int64</th><th title = \"Int64\" style = \"text-align: left;\">Int64</th></tr></thead><tbody><tr><td class = \"rowNumber\" style = \"font-weight: bold; text-align: right;\">1</td><td style = \"text-align: left;\">Friendly Suan la tu dou si the Software developer</td><td style = \"text-align: right;\">1</td><td style = \"text-align: right;\">2</td><td style = \"text-align: right;\">4</td><td style = \"text-align: right;\">18</td><td style = \"text-align: right;\">10</td><td style = \"text-align: right;\">19</td></tr><tr><td class = \"rowNumber\" style = \"font-weight: bold; text-align: right;\">2</td><td style = \"text-align: left;\">Sweet Rumbledethumps the Software developer</td><td style = \"text-align: right;\">1</td><td style = \"text-align: right;\">2</td><td style = \"text-align: right;\">6</td><td style = \"text-align: right;\">13</td><td style = \"text-align: right;\">15</td><td style = \"text-align: right;\">18</td></tr><tr><td class = \"rowNumber\" style = \"font-weight: bold; text-align: right;\">3</td><td style = \"text-align: left;\">Normal Meat and potato pie the Investment broker</td><td style = \"text-align: right;\">1</td><td style = \"text-align: right;\">2</td><td style = \"text-align: right;\">6</td><td style = \"text-align: right;\">15</td><td style = \"text-align: right;\">15</td><td style = \"text-align: right;\">16</td></tr><tr><td class = \"rowNumber\" style = \"font-weight: bold; text-align: right;\">4</td><td style = \"text-align: left;\">Aware Suan la tu dou si the Actuary</td><td style = \"text-align: right;\">1</td><td style = \"text-align: right;\">2</td><td style = \"text-align: right;\">8</td><td style = \"text-align: right;\">9</td><td style = \"text-align: right;\">19</td><td style = \"text-align: right;\">17</td></tr><tr><td class = \"rowNumber\" style = \"font-weight: bold; text-align: right;\">5</td><td style = \"text-align: left;\">Rare Potato babka the Lumberjack</td><td style = \"text-align: right;\">1</td><td style = \"text-align: right;\">2</td><td style = \"text-align: right;\">8</td><td style = \"text-align: right;\">19</td><td style = \"text-align: right;\">7</td><td style = \"text-align: right;\">19</td></tr><tr><td class = \"rowNumber\" style = \"font-weight: bold; text-align: right;\">6</td><td style = \"text-align: left;\">Intelligent Hash browns the Magnate</td><td style = \"text-align: right;\">1</td><td style = \"text-align: right;\">2</td><td style = \"text-align: right;\">10</td><td style = \"text-align: right;\">8</td><td style = \"text-align: right;\">19</td><td style = \"text-align: right;\">17</td></tr><tr><td class = \"rowNumber\" style = \"font-weight: bold; text-align: right;\">7</td><td style = \"text-align: left;\">Normal Tartiflette the Paramedic</td><td style = \"text-align: right;\">1</td><td style = \"text-align: right;\">2</td><td style = \"text-align: right;\">10</td><td style = \"text-align: right;\">13</td><td style = \"text-align: right;\">13</td><td style = \"text-align: right;\">18</td></tr><tr><td class = \"rowNumber\" style = \"font-weight: bold; text-align: right;\">8</td><td style = \"text-align: left;\">Professional Batata vada the Film producer</td><td style = \"text-align: right;\">1</td><td style = \"text-align: right;\">2</td><td style = \"text-align: right;\">12</td><td style = \"text-align: right;\">15</td><td style = \"text-align: right;\">15</td><td style = \"text-align: right;\">13</td></tr><tr><td class = \"rowNumber\" style = \"font-weight: bold; text-align: right;\">9</td><td style = \"text-align: left;\">Fresh French fries the Demolitionist</td><td style = \"text-align: right;\">1</td><td style = \"text-align: right;\">2</td><td style = \"text-align: right;\">16</td><td style = \"text-align: right;\">19</td><td style = \"text-align: right;\">10</td><td style = \"text-align: right;\">12</td></tr><tr><td class = \"rowNumber\" style = \"font-weight: bold; text-align: right;\">10</td><td style = \"text-align: left;\">Efficient Suan la tu dou si the Watchmaker</td><td style = \"text-align: right;\">1</td><td style = \"text-align: right;\">2</td><td style = \"text-align: right;\">18</td><td style = \"text-align: right;\">10</td><td style = \"text-align: right;\">17</td><td style = \"text-align: right;\">13</td></tr><tr><td class = \"rowNumber\" style = \"font-weight: bold; text-align: right;\">11</td><td style = \"text-align: left;\">Powerful Batata vada the Soil scientist</td><td style = \"text-align: right;\">1</td><td style = \"text-align: right;\">2</td><td style = \"text-align: right;\">20</td><td style = \"text-align: right;\">11</td><td style = \"text-align: right;\">10</td><td style = \"text-align: right;\">18</td></tr><tr><td class = \"rowNumber\" style = \"font-weight: bold; text-align: right;\">12</td><td style = \"text-align: left;\">Intelligent French fries the Watchmaker</td><td style = \"text-align: right;\">1</td><td style = \"text-align: right;\">2</td><td style = \"text-align: right;\">20</td><td style = \"text-align: right;\">15</td><td style = \"text-align: right;\">10</td><td style = \"text-align: right;\">14</td></tr><tr><td class = \"rowNumber\" style = \"font-weight: bold; text-align: right;\">13</td><td style = \"text-align: left;\">Normal Rumbledethumps the Technician</td><td style = \"text-align: right;\">1</td><td style = \"text-align: right;\">3</td><td style = \"text-align: right;\">1</td><td style = \"text-align: right;\">1</td><td style = \"text-align: right;\">12</td><td style = \"text-align: right;\">19</td></tr><tr><td style = \"text-align: right;\">&vellip;</td><td style = \"text-align: right;\">&vellip;</td><td style = \"text-align: right;\">&vellip;</td><td style = \"text-align: right;\">&vellip;</td><td style = \"text-align: right;\">&vellip;</td><td style = \"text-align: right;\">&vellip;</td><td style = \"text-align: right;\">&vellip;</td><td style = \"text-align: right;\">&vellip;</td></tr><tr><td class = \"rowNumber\" style = \"font-weight: bold; text-align: right;\">696</td><td style = \"text-align: left;\">Boring Aligot the Neurologist</td><td style = \"text-align: right;\">19</td><td style = \"text-align: right;\">1</td><td style = \"text-align: right;\">3</td><td style = \"text-align: right;\">15</td><td style = \"text-align: right;\">5</td><td style = \"text-align: right;\">4</td></tr><tr><td class = \"rowNumber\" style = \"font-weight: bold; text-align: right;\">697</td><td style = \"text-align: left;\">Several Gamjajeon the Prosecutor</td><td style = \"text-align: right;\">19</td><td style = \"text-align: right;\">2</td><td style = \"text-align: right;\">1</td><td style = \"text-align: right;\">2</td><td style = \"text-align: right;\">5</td><td style = \"text-align: right;\">14</td></tr><tr><td class = \"rowNumber\" style = \"font-weight: bold; text-align: right;\">698</td><td style = \"text-align: left;\">Boring Nikujaga the Vice president</td><td style = \"text-align: right;\">19</td><td style = \"text-align: right;\">2</td><td style = \"text-align: right;\">1</td><td style = \"text-align: right;\">6</td><td style = \"text-align: right;\">13</td><td style = \"text-align: right;\">2</td></tr><tr><td class = \"rowNumber\" style = \"font-weight: bold; text-align: right;\">699</td><td style = \"text-align: left;\">Weak Boxty the Level designer (also Mapper)</td><td style = \"text-align: right;\">19</td><td style = \"text-align: right;\">2</td><td style = \"text-align: right;\">1</td><td style = \"text-align: right;\">13</td><td style = \"text-align: right;\">6</td><td style = \"text-align: right;\">2</td></tr><tr><td class = \"rowNumber\" style = \"font-weight: bold; text-align: right;\">700</td><td style = \"text-align: left;\">Mad Maluns the Vice president</td><td style = \"text-align: right;\">20</td><td style = \"text-align: right;\">1</td><td style = \"text-align: right;\">2</td><td style = \"text-align: right;\">8</td><td style = \"text-align: right;\">20</td><td style = \"text-align: right;\">12</td></tr><tr><td class = \"rowNumber\" style = \"font-weight: bold; text-align: right;\">701</td><td style = \"text-align: left;\">Nervous Tashmijab the Gunsmith</td><td style = \"text-align: right;\">20</td><td style = \"text-align: right;\">1</td><td style = \"text-align: right;\">2</td><td style = \"text-align: right;\">19</td><td style = \"text-align: right;\">12</td><td style = \"text-align: right;\">9</td></tr><tr><td class = \"rowNumber\" style = \"font-weight: bold; text-align: right;\">702</td><td style = \"text-align: left;\">Fresh Maluns the Physiologist</td><td style = \"text-align: right;\">20</td><td style = \"text-align: right;\">1</td><td style = \"text-align: right;\">3</td><td style = \"text-align: right;\">3</td><td style = \"text-align: right;\">14</td><td style = \"text-align: right;\">3</td></tr><tr><td class = \"rowNumber\" style = \"font-weight: bold; text-align: right;\">703</td><td style = \"text-align: left;\">Boring Rewena bread the Organizer</td><td style = \"text-align: right;\">20</td><td style = \"text-align: right;\">1</td><td style = \"text-align: right;\">3</td><td style = \"text-align: right;\">5</td><td style = \"text-align: right;\">10</td><td style = \"text-align: right;\">5</td></tr><tr><td class = \"rowNumber\" style = \"font-weight: bold; text-align: right;\">704</td><td style = \"text-align: left;\">Lonely Funeral potatoes the Drug dealer</td><td style = \"text-align: right;\">20</td><td style = \"text-align: right;\">1</td><td style = \"text-align: right;\">3</td><td style = \"text-align: right;\">9</td><td style = \"text-align: right;\">6</td><td style = \"text-align: right;\">5</td></tr><tr><td class = \"rowNumber\" style = \"font-weight: bold; text-align: right;\">705</td><td style = \"text-align: left;\">Upset Maluns the Chimney sweep</td><td style = \"text-align: right;\">20</td><td style = \"text-align: right;\">2</td><td style = \"text-align: right;\">1</td><td style = \"text-align: right;\">2</td><td style = \"text-align: right;\">12</td><td style = \"text-align: right;\">6</td></tr><tr><td class = \"rowNumber\" style = \"font-weight: bold; text-align: right;\">706</td><td style = \"text-align: left;\">Drunk Suan la tu dou si the Author</td><td style = \"text-align: right;\">20</td><td style = \"text-align: right;\">2</td><td style = \"text-align: right;\">1</td><td style = \"text-align: right;\">9</td><td style = \"text-align: right;\">4</td><td style = \"text-align: right;\">7</td></tr><tr><td class = \"rowNumber\" style = \"font-weight: bold; text-align: right;\">707</td><td style = \"text-align: left;\">Warm Aligot the Student</td><td style = \"text-align: right;\">20</td><td style = \"text-align: right;\">2</td><td style = \"text-align: right;\">1</td><td style = \"text-align: right;\">11</td><td style = \"text-align: right;\">1</td><td style = \"text-align: right;\">8</td></tr></tbody></table></div>"
      ],
      "text/latex": [
       "\\begin{tabular}{r|cccccc}\n",
       "\t& name & h & f & l & p & \\\\\n",
       "\t\\hline\n",
       "\t& String & Int64 & Int64 & Int64 & Int64 & \\\\\n",
       "\t\\hline\n",
       "\t1 & Friendly Suan la tu dou si the Software developer & 1 & 2 & 4 & 18 & $\\dots$ \\\\\n",
       "\t2 & Sweet Rumbledethumps the Software developer & 1 & 2 & 6 & 13 & $\\dots$ \\\\\n",
       "\t3 & Normal Meat and potato pie the Investment broker & 1 & 2 & 6 & 15 & $\\dots$ \\\\\n",
       "\t4 & Aware Suan la tu dou si the Actuary & 1 & 2 & 8 & 9 & $\\dots$ \\\\\n",
       "\t5 & Rare Potato babka the Lumberjack & 1 & 2 & 8 & 19 & $\\dots$ \\\\\n",
       "\t6 & Intelligent Hash browns the Magnate & 1 & 2 & 10 & 8 & $\\dots$ \\\\\n",
       "\t7 & Normal Tartiflette the Paramedic & 1 & 2 & 10 & 13 & $\\dots$ \\\\\n",
       "\t8 & Professional Batata vada the Film producer & 1 & 2 & 12 & 15 & $\\dots$ \\\\\n",
       "\t9 & Fresh French fries the Demolitionist & 1 & 2 & 16 & 19 & $\\dots$ \\\\\n",
       "\t10 & Efficient Suan la tu dou si the Watchmaker & 1 & 2 & 18 & 10 & $\\dots$ \\\\\n",
       "\t11 & Powerful Batata vada the Soil scientist & 1 & 2 & 20 & 11 & $\\dots$ \\\\\n",
       "\t12 & Intelligent French fries the Watchmaker & 1 & 2 & 20 & 15 & $\\dots$ \\\\\n",
       "\t13 & Normal Rumbledethumps the Technician & 1 & 3 & 1 & 1 & $\\dots$ \\\\\n",
       "\t14 & Pure Meat and potato pie the Software developer & 1 & 3 & 1 & 5 & $\\dots$ \\\\\n",
       "\t15 & Rare Cacasse à cul nu the Miller & 1 & 3 & 1 & 20 & $\\dots$ \\\\\n",
       "\t16 & Efficient Rappie pie the Software developer & 1 & 3 & 4 & 6 & $\\dots$ \\\\\n",
       "\t17 & Particular Batata vada the Software developer & 1 & 3 & 4 & 8 & $\\dots$ \\\\\n",
       "\t18 & Western Tashmijab the Puppeteer & 1 & 3 & 4 & 17 & $\\dots$ \\\\\n",
       "\t19 & Simple Rewena bread the System designer & 1 & 3 & 7 & 5 & $\\dots$ \\\\\n",
       "\t20 & Standard Meat and potato pie the Software developer & 1 & 3 & 7 & 6 & $\\dots$ \\\\\n",
       "\t21 & Particular Suan la tu dou si the Proctologist & 1 & 3 & 7 & 7 & $\\dots$ \\\\\n",
       "\t22 & Efficient Pommes Anna the Technical engineer & 1 & 3 & 10 & 6 & $\\dots$ \\\\\n",
       "\t23 & Realistic Potato babka the Anesthetist & 1 & 3 & 13 & 3 & $\\dots$ \\\\\n",
       "\t24 & Responsible French fries the Miller & 1 & 3 & 13 & 15 & $\\dots$ \\\\\n",
       "\t25 & Firm Potato babka the Syndicalist & 1 & 3 & 16 & 5 & $\\dots$ \\\\\n",
       "\t26 & Confident Kouign patatez the Automobile racer & 1 & 3 & 16 & 13 & $\\dots$ \\\\\n",
       "\t27 & Smart Potato babka the Novelist & 1 & 3 & 16 & 17 & $\\dots$ \\\\\n",
       "\t28 & Expensive Truffade the Vice president & 1 & 3 & 19 & 5 & $\\dots$ \\\\\n",
       "\t29 & Smart Suan la tu dou si the Paleontologist & 1 & 3 & 19 & 12 & $\\dots$ \\\\\n",
       "\t30 & Efficient Pitepalt the Fitter & 1 & 3 & 20 & 1 & $\\dots$ \\\\\n",
       "\t$\\dots$ & $\\dots$ & $\\dots$ & $\\dots$ & $\\dots$ & $\\dots$ &  \\\\\n",
       "\\end{tabular}\n"
      ],
      "text/plain": [
       "\u001b[1m707×7 DataFrame\u001b[0m\n",
       "\u001b[1m Row \u001b[0m│\u001b[1m name                              \u001b[0m\u001b[1m h     \u001b[0m\u001b[1m f     \u001b[0m\u001b[1m l     \u001b[0m\u001b[1m p     \u001b[0m\u001b[1m r     \u001b[0m\u001b[1m s\u001b[0m ⋯\n",
       "     │\u001b[90m String                            \u001b[0m\u001b[90m Int64 \u001b[0m\u001b[90m Int64 \u001b[0m\u001b[90m Int64 \u001b[0m\u001b[90m Int64 \u001b[0m\u001b[90m Int64 \u001b[0m\u001b[90m I\u001b[0m ⋯\n",
       "─────┼──────────────────────────────────────────────────────────────────────────\n",
       "   1 │ Friendly Suan la tu dou si the S…      1      2      4     18     10    ⋯\n",
       "   2 │ Sweet Rumbledethumps the Softwar…      1      2      6     13     15\n",
       "   3 │ Normal Meat and potato pie the I…      1      2      6     15     15\n",
       "   4 │ Aware Suan la tu dou si the Actu…      1      2      8      9     19\n",
       "   5 │ Rare Potato babka the Lumberjack       1      2      8     19      7    ⋯\n",
       "   6 │ Intelligent Hash browns the Magn…      1      2     10      8     19\n",
       "   7 │ Normal Tartiflette the Paramedic       1      2     10     13     13\n",
       "   8 │ Professional Batata vada the Fil…      1      2     12     15     15\n",
       "   9 │ Fresh French fries the Demolitio…      1      2     16     19     10    ⋯\n",
       "  10 │ Efficient Suan la tu dou si the …      1      2     18     10     17\n",
       "  11 │ Powerful Batata vada the Soil sc…      1      2     20     11     10\n",
       "  ⋮  │                 ⋮                    ⋮      ⋮      ⋮      ⋮      ⋮      ⋱\n",
       " 698 │ Boring Nikujaga the Vice preside…     19      2      1      6     13\n",
       " 699 │ Weak Boxty the Level designer (a…     19      2      1     13      6    ⋯\n",
       " 700 │ Mad Maluns the Vice president         20      1      2      8     20\n",
       " 701 │ Nervous Tashmijab the Gunsmith        20      1      2     19     12\n",
       " 702 │ Fresh Maluns the Physiologist         20      1      3      3     14\n",
       " 703 │ Boring Rewena bread the Organizer     20      1      3      5     10    ⋯\n",
       " 704 │ Lonely Funeral potatoes the Drug…     20      1      3      9      6\n",
       " 705 │ Upset Maluns the Chimney sweep        20      2      1      2     12\n",
       " 706 │ Drunk Suan la tu dou si the Auth…     20      2      1      9      4\n",
       " 707 │ Warm Aligot the Student               20      2      1     11      1    ⋯\n",
       "\u001b[36m                                                   1 column and 686 rows omitted\u001b[0m"
      ]
     },
     "execution_count": 17,
     "metadata": {},
     "output_type": "execute_result"
    }
   ],
   "source": [
    "nash_env = [rand_rename(s) for s in library]\n",
    "spuds_to_df(nash_env)"
   ]
  },
  {
   "cell_type": "code",
   "execution_count": 18,
   "id": "0e75ca0c",
   "metadata": {},
   "outputs": [],
   "source": [
    "counts = ffp(nash_env, 1000);"
   ]
  },
  {
   "cell_type": "code",
   "execution_count": 19,
   "id": "8336bfca",
   "metadata": {},
   "outputs": [
    {
     "data": {
      "text/html": [
       "<div><div style = \"float: left;\"><span>15×7 DataFrame</span></div><div style = \"clear: both;\"></div></div><div class = \"data-frame\" style = \"overflow-x: scroll;\"><table class = \"data-frame\" style = \"margin-bottom: 6px;\"><thead><tr class = \"header\"><th class = \"rowNumber\" style = \"font-weight: bold; text-align: right;\">Row</th><th style = \"text-align: left;\">name</th><th style = \"text-align: left;\">h</th><th style = \"text-align: left;\">f</th><th style = \"text-align: left;\">l</th><th style = \"text-align: left;\">p</th><th style = \"text-align: left;\">r</th><th style = \"text-align: left;\">s</th></tr><tr class = \"subheader headerLastRow\"><th class = \"rowNumber\" style = \"font-weight: bold; text-align: right;\"></th><th title = \"String\" style = \"text-align: left;\">String</th><th title = \"Int64\" style = \"text-align: left;\">Int64</th><th title = \"Int64\" style = \"text-align: left;\">Int64</th><th title = \"Int64\" style = \"text-align: left;\">Int64</th><th title = \"Int64\" style = \"text-align: left;\">Int64</th><th title = \"Int64\" style = \"text-align: left;\">Int64</th><th title = \"Int64\" style = \"text-align: left;\">Int64</th></tr></thead><tbody><tr><td class = \"rowNumber\" style = \"font-weight: bold; text-align: right;\">1</td><td style = \"text-align: left;\">Fit Truffade the Nanny (also nursemaid)</td><td style = \"text-align: right;\">3</td><td style = \"text-align: right;\">7</td><td style = \"text-align: right;\">10</td><td style = \"text-align: right;\">1</td><td style = \"text-align: right;\">2</td><td style = \"text-align: right;\">4</td></tr><tr><td class = \"rowNumber\" style = \"font-weight: bold; text-align: right;\">2</td><td style = \"text-align: left;\">Sweet Rumbledethumps the Barman</td><td style = \"text-align: right;\">3</td><td style = \"text-align: right;\">8</td><td style = \"text-align: right;\">1</td><td style = \"text-align: right;\">4</td><td style = \"text-align: right;\">1</td><td style = \"text-align: right;\">4</td></tr><tr><td class = \"rowNumber\" style = \"font-weight: bold; text-align: right;\">3</td><td style = \"text-align: left;\">Consistent French fries the Chancellor</td><td style = \"text-align: right;\">4</td><td style = \"text-align: right;\">5</td><td style = \"text-align: right;\">10</td><td style = \"text-align: right;\">3</td><td style = \"text-align: right;\">2</td><td style = \"text-align: right;\">3</td></tr><tr><td class = \"rowNumber\" style = \"font-weight: bold; text-align: right;\">4</td><td style = \"text-align: left;\">Professional Batata vada the Cardinal</td><td style = \"text-align: right;\">5</td><td style = \"text-align: right;\">1</td><td style = \"text-align: right;\">16</td><td style = \"text-align: right;\">7</td><td style = \"text-align: right;\">4</td><td style = \"text-align: right;\">4</td></tr><tr><td class = \"rowNumber\" style = \"font-weight: bold; text-align: right;\">5</td><td style = \"text-align: left;\">Secure Clapshot the Marketing manager</td><td style = \"text-align: right;\">5</td><td style = \"text-align: right;\">5</td><td style = \"text-align: right;\">9</td><td style = \"text-align: right;\">1</td><td style = \"text-align: right;\">2</td><td style = \"text-align: right;\">3</td></tr><tr><td class = \"rowNumber\" style = \"font-weight: bold; text-align: right;\">6</td><td style = \"text-align: left;\">Lonely Aligot the Impersonator</td><td style = \"text-align: right;\">6</td><td style = \"text-align: right;\">1</td><td style = \"text-align: right;\">14</td><td style = \"text-align: right;\">5</td><td style = \"text-align: right;\">1</td><td style = \"text-align: right;\">4</td></tr><tr><td class = \"rowNumber\" style = \"font-weight: bold; text-align: right;\">7</td><td style = \"text-align: left;\">Quiet Chapalele the Neurologist</td><td style = \"text-align: right;\">6</td><td style = \"text-align: right;\">7</td><td style = \"text-align: right;\">1</td><td style = \"text-align: right;\">1</td><td style = \"text-align: right;\">1</td><td style = \"text-align: right;\">5</td></tr><tr><td class = \"rowNumber\" style = \"font-weight: bold; text-align: right;\">8</td><td style = \"text-align: left;\">Firm Pommes Anna the Terminator</td><td style = \"text-align: right;\">7</td><td style = \"text-align: right;\">1</td><td style = \"text-align: right;\">10</td><td style = \"text-align: right;\">7</td><td style = \"text-align: right;\">4</td><td style = \"text-align: right;\">12</td></tr><tr><td class = \"rowNumber\" style = \"font-weight: bold; text-align: right;\">9</td><td style = \"text-align: left;\">Creative Kouign patatez the Chimney sweep</td><td style = \"text-align: right;\">7</td><td style = \"text-align: right;\">4</td><td style = \"text-align: right;\">6</td><td style = \"text-align: right;\">5</td><td style = \"text-align: right;\">1</td><td style = \"text-align: right;\">1</td></tr><tr><td class = \"rowNumber\" style = \"font-weight: bold; text-align: right;\">10</td><td style = \"text-align: left;\">Desperate Pitepalt the Chimney sweep</td><td style = \"text-align: right;\">7</td><td style = \"text-align: right;\">5</td><td style = \"text-align: right;\">3</td><td style = \"text-align: right;\">4</td><td style = \"text-align: right;\">2</td><td style = \"text-align: right;\">2</td></tr><tr><td class = \"rowNumber\" style = \"font-weight: bold; text-align: right;\">11</td><td style = \"text-align: left;\">Helpful Ajiaco the Student</td><td style = \"text-align: right;\">7</td><td style = \"text-align: right;\">6</td><td style = \"text-align: right;\">2</td><td style = \"text-align: right;\">4</td><td style = \"text-align: right;\">2</td><td style = \"text-align: right;\">1</td></tr><tr><td class = \"rowNumber\" style = \"font-weight: bold; text-align: right;\">12</td><td style = \"text-align: left;\">Strange Potatonik the Psychologist</td><td style = \"text-align: right;\">7</td><td style = \"text-align: right;\">6</td><td style = \"text-align: right;\">3</td><td style = \"text-align: right;\">1</td><td style = \"text-align: right;\">4</td><td style = \"text-align: right;\">1</td></tr><tr><td class = \"rowNumber\" style = \"font-weight: bold; text-align: right;\">13</td><td style = \"text-align: left;\">Sad Aligot the Housekeeper</td><td style = \"text-align: right;\">8</td><td style = \"text-align: right;\">4</td><td style = \"text-align: right;\">4</td><td style = \"text-align: right;\">4</td><td style = \"text-align: right;\">3</td><td style = \"text-align: right;\">2</td></tr><tr><td class = \"rowNumber\" style = \"font-weight: bold; text-align: right;\">14</td><td style = \"text-align: left;\">Powerful Gamjajeon the Queen dowager</td><td style = \"text-align: right;\">8</td><td style = \"text-align: right;\">4</td><td style = \"text-align: right;\">5</td><td style = \"text-align: right;\">2</td><td style = \"text-align: right;\">1</td><td style = \"text-align: right;\">4</td></tr><tr><td class = \"rowNumber\" style = \"font-weight: bold; text-align: right;\">15</td><td style = \"text-align: left;\">Expensive Pommes Anna the Level designer (also Mapper)</td><td style = \"text-align: right;\">9</td><td style = \"text-align: right;\">1</td><td style = \"text-align: right;\">9</td><td style = \"text-align: right;\">2</td><td style = \"text-align: right;\">4</td><td style = \"text-align: right;\">4</td></tr></tbody></table></div>"
      ],
      "text/latex": [
       "\\begin{tabular}{r|cccccc}\n",
       "\t& name & h & f & l & p & \\\\\n",
       "\t\\hline\n",
       "\t& String & Int64 & Int64 & Int64 & Int64 & \\\\\n",
       "\t\\hline\n",
       "\t1 & Fit Truffade the Nanny (also nursemaid) & 3 & 7 & 10 & 1 & $\\dots$ \\\\\n",
       "\t2 & Sweet Rumbledethumps the Barman & 3 & 8 & 1 & 4 & $\\dots$ \\\\\n",
       "\t3 & Consistent French fries the Chancellor & 4 & 5 & 10 & 3 & $\\dots$ \\\\\n",
       "\t4 & Professional Batata vada the Cardinal & 5 & 1 & 16 & 7 & $\\dots$ \\\\\n",
       "\t5 & Secure Clapshot the Marketing manager & 5 & 5 & 9 & 1 & $\\dots$ \\\\\n",
       "\t6 & Lonely Aligot the Impersonator & 6 & 1 & 14 & 5 & $\\dots$ \\\\\n",
       "\t7 & Quiet Chapalele the Neurologist & 6 & 7 & 1 & 1 & $\\dots$ \\\\\n",
       "\t8 & Firm Pommes Anna the Terminator & 7 & 1 & 10 & 7 & $\\dots$ \\\\\n",
       "\t9 & Creative Kouign patatez the Chimney sweep & 7 & 4 & 6 & 5 & $\\dots$ \\\\\n",
       "\t10 & Desperate Pitepalt the Chimney sweep & 7 & 5 & 3 & 4 & $\\dots$ \\\\\n",
       "\t11 & Helpful Ajiaco the Student & 7 & 6 & 2 & 4 & $\\dots$ \\\\\n",
       "\t12 & Strange Potatonik the Psychologist & 7 & 6 & 3 & 1 & $\\dots$ \\\\\n",
       "\t13 & Sad Aligot the Housekeeper & 8 & 4 & 4 & 4 & $\\dots$ \\\\\n",
       "\t14 & Powerful Gamjajeon the Queen dowager & 8 & 4 & 5 & 2 & $\\dots$ \\\\\n",
       "\t15 & Expensive Pommes Anna the Level designer (also Mapper) & 9 & 1 & 9 & 2 & $\\dots$ \\\\\n",
       "\\end{tabular}\n"
      ],
      "text/plain": [
       "\u001b[1m15×7 DataFrame\u001b[0m\n",
       "\u001b[1m Row \u001b[0m│\u001b[1m name                              \u001b[0m\u001b[1m h     \u001b[0m\u001b[1m f     \u001b[0m\u001b[1m l     \u001b[0m\u001b[1m p     \u001b[0m\u001b[1m r     \u001b[0m\u001b[1m s\u001b[0m ⋯\n",
       "     │\u001b[90m String                            \u001b[0m\u001b[90m Int64 \u001b[0m\u001b[90m Int64 \u001b[0m\u001b[90m Int64 \u001b[0m\u001b[90m Int64 \u001b[0m\u001b[90m Int64 \u001b[0m\u001b[90m I\u001b[0m ⋯\n",
       "─────┼──────────────────────────────────────────────────────────────────────────\n",
       "   1 │ Fit Truffade the Nanny (also nur…      3      7     10      1      2    ⋯\n",
       "   2 │ Sweet Rumbledethumps the Barman        3      8      1      4      1\n",
       "   3 │ Consistent French fries the Chan…      4      5     10      3      2\n",
       "   4 │ Professional Batata vada the Car…      5      1     16      7      4\n",
       "   5 │ Secure Clapshot the Marketing ma…      5      5      9      1      2    ⋯\n",
       "   6 │ Lonely Aligot the Impersonator         6      1     14      5      1\n",
       "   7 │ Quiet Chapalele the Neurologist        6      7      1      1      1\n",
       "   8 │ Firm Pommes Anna the Terminator        7      1     10      7      4\n",
       "   9 │ Creative Kouign patatez the Chim…      7      4      6      5      1    ⋯\n",
       "  10 │ Desperate Pitepalt the Chimney s…      7      5      3      4      2\n",
       "  11 │ Helpful Ajiaco the Student             7      6      2      4      2\n",
       "  12 │ Strange Potatonik the Psychologi…      7      6      3      1      4\n",
       "  13 │ Sad Aligot the Housekeeper             8      4      4      4      3    ⋯\n",
       "  14 │ Powerful Gamjajeon the Queen dow…      8      4      5      2      1\n",
       "  15 │ Expensive Pommes Anna the Level …      9      1      9      2      4\n",
       "\u001b[36m                                                                1 column omitted\u001b[0m"
      ]
     },
     "execution_count": 19,
     "metadata": {},
     "output_type": "execute_result"
    }
   ],
   "source": [
    "nash_env = nash_env[counts .> 10]\n",
    "spuds_to_df(nash_env)"
   ]
  },
  {
   "cell_type": "code",
   "execution_count": 20,
   "id": "fcd27346",
   "metadata": {},
   "outputs": [
    {
     "data": {
      "text/plain": [
       "15-element Vector{Int64}:\n",
       " 1112\n",
       " 1116\n",
       "    1\n",
       " 1110\n",
       "    1\n",
       " 1111\n",
       "    1\n",
       " 1113\n",
       "    1\n",
       " 1110\n",
       " 1112\n",
       "    1\n",
       " 1111\n",
       "    1\n",
       " 1114"
      ]
     },
     "execution_count": 20,
     "metadata": {},
     "output_type": "execute_result"
    }
   ],
   "source": [
    "counts = ffp(nash_env, 10000)"
   ]
  },
  {
   "cell_type": "code",
   "execution_count": 21,
   "id": "04414a09",
   "metadata": {},
   "outputs": [
    {
     "data": {
      "text/html": [
       "<div><div style = \"float: left;\"><span>9×7 DataFrame</span></div><div style = \"clear: both;\"></div></div><div class = \"data-frame\" style = \"overflow-x: scroll;\"><table class = \"data-frame\" style = \"margin-bottom: 6px;\"><thead><tr class = \"header\"><th class = \"rowNumber\" style = \"font-weight: bold; text-align: right;\">Row</th><th style = \"text-align: left;\">name</th><th style = \"text-align: left;\">h</th><th style = \"text-align: left;\">f</th><th style = \"text-align: left;\">l</th><th style = \"text-align: left;\">p</th><th style = \"text-align: left;\">r</th><th style = \"text-align: left;\">s</th></tr><tr class = \"subheader headerLastRow\"><th class = \"rowNumber\" style = \"font-weight: bold; text-align: right;\"></th><th title = \"String\" style = \"text-align: left;\">String</th><th title = \"Int64\" style = \"text-align: left;\">Int64</th><th title = \"Int64\" style = \"text-align: left;\">Int64</th><th title = \"Int64\" style = \"text-align: left;\">Int64</th><th title = \"Int64\" style = \"text-align: left;\">Int64</th><th title = \"Int64\" style = \"text-align: left;\">Int64</th><th title = \"Int64\" style = \"text-align: left;\">Int64</th></tr></thead><tbody><tr><td class = \"rowNumber\" style = \"font-weight: bold; text-align: right;\">1</td><td style = \"text-align: left;\">Fit Truffade the Nanny (also nursemaid)</td><td style = \"text-align: right;\">3</td><td style = \"text-align: right;\">7</td><td style = \"text-align: right;\">10</td><td style = \"text-align: right;\">1</td><td style = \"text-align: right;\">2</td><td style = \"text-align: right;\">4</td></tr><tr><td class = \"rowNumber\" style = \"font-weight: bold; text-align: right;\">2</td><td style = \"text-align: left;\">Sweet Rumbledethumps the Barman</td><td style = \"text-align: right;\">3</td><td style = \"text-align: right;\">8</td><td style = \"text-align: right;\">1</td><td style = \"text-align: right;\">4</td><td style = \"text-align: right;\">1</td><td style = \"text-align: right;\">4</td></tr><tr><td class = \"rowNumber\" style = \"font-weight: bold; text-align: right;\">3</td><td style = \"text-align: left;\">Professional Batata vada the Cardinal</td><td style = \"text-align: right;\">5</td><td style = \"text-align: right;\">1</td><td style = \"text-align: right;\">16</td><td style = \"text-align: right;\">7</td><td style = \"text-align: right;\">4</td><td style = \"text-align: right;\">4</td></tr><tr><td class = \"rowNumber\" style = \"font-weight: bold; text-align: right;\">4</td><td style = \"text-align: left;\">Lonely Aligot the Impersonator</td><td style = \"text-align: right;\">6</td><td style = \"text-align: right;\">1</td><td style = \"text-align: right;\">14</td><td style = \"text-align: right;\">5</td><td style = \"text-align: right;\">1</td><td style = \"text-align: right;\">4</td></tr><tr><td class = \"rowNumber\" style = \"font-weight: bold; text-align: right;\">5</td><td style = \"text-align: left;\">Firm Pommes Anna the Terminator</td><td style = \"text-align: right;\">7</td><td style = \"text-align: right;\">1</td><td style = \"text-align: right;\">10</td><td style = \"text-align: right;\">7</td><td style = \"text-align: right;\">4</td><td style = \"text-align: right;\">12</td></tr><tr><td class = \"rowNumber\" style = \"font-weight: bold; text-align: right;\">6</td><td style = \"text-align: left;\">Desperate Pitepalt the Chimney sweep</td><td style = \"text-align: right;\">7</td><td style = \"text-align: right;\">5</td><td style = \"text-align: right;\">3</td><td style = \"text-align: right;\">4</td><td style = \"text-align: right;\">2</td><td style = \"text-align: right;\">2</td></tr><tr><td class = \"rowNumber\" style = \"font-weight: bold; text-align: right;\">7</td><td style = \"text-align: left;\">Helpful Ajiaco the Student</td><td style = \"text-align: right;\">7</td><td style = \"text-align: right;\">6</td><td style = \"text-align: right;\">2</td><td style = \"text-align: right;\">4</td><td style = \"text-align: right;\">2</td><td style = \"text-align: right;\">1</td></tr><tr><td class = \"rowNumber\" style = \"font-weight: bold; text-align: right;\">8</td><td style = \"text-align: left;\">Sad Aligot the Housekeeper</td><td style = \"text-align: right;\">8</td><td style = \"text-align: right;\">4</td><td style = \"text-align: right;\">4</td><td style = \"text-align: right;\">4</td><td style = \"text-align: right;\">3</td><td style = \"text-align: right;\">2</td></tr><tr><td class = \"rowNumber\" style = \"font-weight: bold; text-align: right;\">9</td><td style = \"text-align: left;\">Expensive Pommes Anna the Level designer (also Mapper)</td><td style = \"text-align: right;\">9</td><td style = \"text-align: right;\">1</td><td style = \"text-align: right;\">9</td><td style = \"text-align: right;\">2</td><td style = \"text-align: right;\">4</td><td style = \"text-align: right;\">4</td></tr></tbody></table></div>"
      ],
      "text/latex": [
       "\\begin{tabular}{r|cccccc}\n",
       "\t& name & h & f & l & p & \\\\\n",
       "\t\\hline\n",
       "\t& String & Int64 & Int64 & Int64 & Int64 & \\\\\n",
       "\t\\hline\n",
       "\t1 & Fit Truffade the Nanny (also nursemaid) & 3 & 7 & 10 & 1 & $\\dots$ \\\\\n",
       "\t2 & Sweet Rumbledethumps the Barman & 3 & 8 & 1 & 4 & $\\dots$ \\\\\n",
       "\t3 & Professional Batata vada the Cardinal & 5 & 1 & 16 & 7 & $\\dots$ \\\\\n",
       "\t4 & Lonely Aligot the Impersonator & 6 & 1 & 14 & 5 & $\\dots$ \\\\\n",
       "\t5 & Firm Pommes Anna the Terminator & 7 & 1 & 10 & 7 & $\\dots$ \\\\\n",
       "\t6 & Desperate Pitepalt the Chimney sweep & 7 & 5 & 3 & 4 & $\\dots$ \\\\\n",
       "\t7 & Helpful Ajiaco the Student & 7 & 6 & 2 & 4 & $\\dots$ \\\\\n",
       "\t8 & Sad Aligot the Housekeeper & 8 & 4 & 4 & 4 & $\\dots$ \\\\\n",
       "\t9 & Expensive Pommes Anna the Level designer (also Mapper) & 9 & 1 & 9 & 2 & $\\dots$ \\\\\n",
       "\\end{tabular}\n"
      ],
      "text/plain": [
       "\u001b[1m9×7 DataFrame\u001b[0m\n",
       "\u001b[1m Row \u001b[0m│\u001b[1m name                              \u001b[0m\u001b[1m h     \u001b[0m\u001b[1m f     \u001b[0m\u001b[1m l     \u001b[0m\u001b[1m p     \u001b[0m\u001b[1m r     \u001b[0m\u001b[1m s\u001b[0m ⋯\n",
       "     │\u001b[90m String                            \u001b[0m\u001b[90m Int64 \u001b[0m\u001b[90m Int64 \u001b[0m\u001b[90m Int64 \u001b[0m\u001b[90m Int64 \u001b[0m\u001b[90m Int64 \u001b[0m\u001b[90m I\u001b[0m ⋯\n",
       "─────┼──────────────────────────────────────────────────────────────────────────\n",
       "   1 │ Fit Truffade the Nanny (also nur…      3      7     10      1      2    ⋯\n",
       "   2 │ Sweet Rumbledethumps the Barman        3      8      1      4      1\n",
       "   3 │ Professional Batata vada the Car…      5      1     16      7      4\n",
       "   4 │ Lonely Aligot the Impersonator         6      1     14      5      1\n",
       "   5 │ Firm Pommes Anna the Terminator        7      1     10      7      4    ⋯\n",
       "   6 │ Desperate Pitepalt the Chimney s…      7      5      3      4      2\n",
       "   7 │ Helpful Ajiaco the Student             7      6      2      4      2\n",
       "   8 │ Sad Aligot the Housekeeper             8      4      4      4      3\n",
       "   9 │ Expensive Pommes Anna the Level …      9      1      9      2      4    ⋯\n",
       "\u001b[36m                                                                1 column omitted\u001b[0m"
      ]
     },
     "execution_count": 21,
     "metadata": {},
     "output_type": "execute_result"
    }
   ],
   "source": [
    "nash_env = nash_env[counts .> 10]\n",
    "spuds_to_df(nash_env)"
   ]
  },
  {
   "cell_type": "markdown",
   "id": "8dba7dcc",
   "metadata": {},
   "source": [
    "### Loop this"
   ]
  },
  {
   "cell_type": "code",
   "execution_count": 22,
   "id": "e0bc4a54",
   "metadata": {},
   "outputs": [
    {
     "data": {
      "text/plain": [
       "9-element Vector{Int64}:\n",
       " 12\n",
       " 12\n",
       " 12\n",
       " 12\n",
       " 12\n",
       " 12\n",
       " 12\n",
       " 12\n",
       " 13"
      ]
     },
     "execution_count": 22,
     "metadata": {},
     "output_type": "execute_result"
    }
   ],
   "source": [
    "counts = ffp(nash_env, 100)"
   ]
  },
  {
   "cell_type": "code",
   "execution_count": 23,
   "id": "c9abb9e9",
   "metadata": {},
   "outputs": [],
   "source": [
    "#counts = ffp(nash_env, 10000)"
   ]
  },
  {
   "cell_type": "code",
   "execution_count": 24,
   "id": "dda23034",
   "metadata": {},
   "outputs": [
    {
     "data": {
      "text/html": [
       "<div><div style = \"float: left;\"><span>9×7 DataFrame</span></div><div style = \"clear: both;\"></div></div><div class = \"data-frame\" style = \"overflow-x: scroll;\"><table class = \"data-frame\" style = \"margin-bottom: 6px;\"><thead><tr class = \"header\"><th class = \"rowNumber\" style = \"font-weight: bold; text-align: right;\">Row</th><th style = \"text-align: left;\">name</th><th style = \"text-align: left;\">h</th><th style = \"text-align: left;\">f</th><th style = \"text-align: left;\">l</th><th style = \"text-align: left;\">p</th><th style = \"text-align: left;\">r</th><th style = \"text-align: left;\">s</th></tr><tr class = \"subheader headerLastRow\"><th class = \"rowNumber\" style = \"font-weight: bold; text-align: right;\"></th><th title = \"String\" style = \"text-align: left;\">String</th><th title = \"Int64\" style = \"text-align: left;\">Int64</th><th title = \"Int64\" style = \"text-align: left;\">Int64</th><th title = \"Int64\" style = \"text-align: left;\">Int64</th><th title = \"Int64\" style = \"text-align: left;\">Int64</th><th title = \"Int64\" style = \"text-align: left;\">Int64</th><th title = \"Int64\" style = \"text-align: left;\">Int64</th></tr></thead><tbody><tr><td class = \"rowNumber\" style = \"font-weight: bold; text-align: right;\">1</td><td style = \"text-align: left;\">Fit Truffade the Nanny (also nursemaid)</td><td style = \"text-align: right;\">3</td><td style = \"text-align: right;\">7</td><td style = \"text-align: right;\">10</td><td style = \"text-align: right;\">1</td><td style = \"text-align: right;\">2</td><td style = \"text-align: right;\">4</td></tr><tr><td class = \"rowNumber\" style = \"font-weight: bold; text-align: right;\">2</td><td style = \"text-align: left;\">Sweet Rumbledethumps the Barman</td><td style = \"text-align: right;\">3</td><td style = \"text-align: right;\">8</td><td style = \"text-align: right;\">1</td><td style = \"text-align: right;\">4</td><td style = \"text-align: right;\">1</td><td style = \"text-align: right;\">4</td></tr><tr><td class = \"rowNumber\" style = \"font-weight: bold; text-align: right;\">3</td><td style = \"text-align: left;\">Professional Batata vada the Cardinal</td><td style = \"text-align: right;\">5</td><td style = \"text-align: right;\">1</td><td style = \"text-align: right;\">16</td><td style = \"text-align: right;\">7</td><td style = \"text-align: right;\">4</td><td style = \"text-align: right;\">4</td></tr><tr><td class = \"rowNumber\" style = \"font-weight: bold; text-align: right;\">4</td><td style = \"text-align: left;\">Lonely Aligot the Impersonator</td><td style = \"text-align: right;\">6</td><td style = \"text-align: right;\">1</td><td style = \"text-align: right;\">14</td><td style = \"text-align: right;\">5</td><td style = \"text-align: right;\">1</td><td style = \"text-align: right;\">4</td></tr><tr><td class = \"rowNumber\" style = \"font-weight: bold; text-align: right;\">5</td><td style = \"text-align: left;\">Firm Pommes Anna the Terminator</td><td style = \"text-align: right;\">7</td><td style = \"text-align: right;\">1</td><td style = \"text-align: right;\">10</td><td style = \"text-align: right;\">7</td><td style = \"text-align: right;\">4</td><td style = \"text-align: right;\">12</td></tr><tr><td class = \"rowNumber\" style = \"font-weight: bold; text-align: right;\">6</td><td style = \"text-align: left;\">Desperate Pitepalt the Chimney sweep</td><td style = \"text-align: right;\">7</td><td style = \"text-align: right;\">5</td><td style = \"text-align: right;\">3</td><td style = \"text-align: right;\">4</td><td style = \"text-align: right;\">2</td><td style = \"text-align: right;\">2</td></tr><tr><td class = \"rowNumber\" style = \"font-weight: bold; text-align: right;\">7</td><td style = \"text-align: left;\">Helpful Ajiaco the Student</td><td style = \"text-align: right;\">7</td><td style = \"text-align: right;\">6</td><td style = \"text-align: right;\">2</td><td style = \"text-align: right;\">4</td><td style = \"text-align: right;\">2</td><td style = \"text-align: right;\">1</td></tr><tr><td class = \"rowNumber\" style = \"font-weight: bold; text-align: right;\">8</td><td style = \"text-align: left;\">Sad Aligot the Housekeeper</td><td style = \"text-align: right;\">8</td><td style = \"text-align: right;\">4</td><td style = \"text-align: right;\">4</td><td style = \"text-align: right;\">4</td><td style = \"text-align: right;\">3</td><td style = \"text-align: right;\">2</td></tr><tr><td class = \"rowNumber\" style = \"font-weight: bold; text-align: right;\">9</td><td style = \"text-align: left;\">Expensive Pommes Anna the Level designer (also Mapper)</td><td style = \"text-align: right;\">9</td><td style = \"text-align: right;\">1</td><td style = \"text-align: right;\">9</td><td style = \"text-align: right;\">2</td><td style = \"text-align: right;\">4</td><td style = \"text-align: right;\">4</td></tr></tbody></table></div>"
      ],
      "text/latex": [
       "\\begin{tabular}{r|cccccc}\n",
       "\t& name & h & f & l & p & \\\\\n",
       "\t\\hline\n",
       "\t& String & Int64 & Int64 & Int64 & Int64 & \\\\\n",
       "\t\\hline\n",
       "\t1 & Fit Truffade the Nanny (also nursemaid) & 3 & 7 & 10 & 1 & $\\dots$ \\\\\n",
       "\t2 & Sweet Rumbledethumps the Barman & 3 & 8 & 1 & 4 & $\\dots$ \\\\\n",
       "\t3 & Professional Batata vada the Cardinal & 5 & 1 & 16 & 7 & $\\dots$ \\\\\n",
       "\t4 & Lonely Aligot the Impersonator & 6 & 1 & 14 & 5 & $\\dots$ \\\\\n",
       "\t5 & Firm Pommes Anna the Terminator & 7 & 1 & 10 & 7 & $\\dots$ \\\\\n",
       "\t6 & Desperate Pitepalt the Chimney sweep & 7 & 5 & 3 & 4 & $\\dots$ \\\\\n",
       "\t7 & Helpful Ajiaco the Student & 7 & 6 & 2 & 4 & $\\dots$ \\\\\n",
       "\t8 & Sad Aligot the Housekeeper & 8 & 4 & 4 & 4 & $\\dots$ \\\\\n",
       "\t9 & Expensive Pommes Anna the Level designer (also Mapper) & 9 & 1 & 9 & 2 & $\\dots$ \\\\\n",
       "\\end{tabular}\n"
      ],
      "text/plain": [
       "\u001b[1m9×7 DataFrame\u001b[0m\n",
       "\u001b[1m Row \u001b[0m│\u001b[1m name                              \u001b[0m\u001b[1m h     \u001b[0m\u001b[1m f     \u001b[0m\u001b[1m l     \u001b[0m\u001b[1m p     \u001b[0m\u001b[1m r     \u001b[0m\u001b[1m s\u001b[0m ⋯\n",
       "     │\u001b[90m String                            \u001b[0m\u001b[90m Int64 \u001b[0m\u001b[90m Int64 \u001b[0m\u001b[90m Int64 \u001b[0m\u001b[90m Int64 \u001b[0m\u001b[90m Int64 \u001b[0m\u001b[90m I\u001b[0m ⋯\n",
       "─────┼──────────────────────────────────────────────────────────────────────────\n",
       "   1 │ Fit Truffade the Nanny (also nur…      3      7     10      1      2    ⋯\n",
       "   2 │ Sweet Rumbledethumps the Barman        3      8      1      4      1\n",
       "   3 │ Professional Batata vada the Car…      5      1     16      7      4\n",
       "   4 │ Lonely Aligot the Impersonator         6      1     14      5      1\n",
       "   5 │ Firm Pommes Anna the Terminator        7      1     10      7      4    ⋯\n",
       "   6 │ Desperate Pitepalt the Chimney s…      7      5      3      4      2\n",
       "   7 │ Helpful Ajiaco the Student             7      6      2      4      2\n",
       "   8 │ Sad Aligot the Housekeeper             8      4      4      4      3\n",
       "   9 │ Expensive Pommes Anna the Level …      9      1      9      2      4    ⋯\n",
       "\u001b[36m                                                                1 column omitted\u001b[0m"
      ]
     },
     "execution_count": 24,
     "metadata": {},
     "output_type": "execute_result"
    }
   ],
   "source": [
    "spuds_to_df(nash_env)"
   ]
  },
  {
   "cell_type": "code",
   "execution_count": 25,
   "id": "b40c9c71",
   "metadata": {},
   "outputs": [],
   "source": [
    "# # don't run this every iteration!!\n",
    "# nash_env = nash_env[counts .> 10]\n",
    "# counts = ffp(nash_env, 10000)"
   ]
  },
  {
   "cell_type": "code",
   "execution_count": 26,
   "id": "7522c5a1",
   "metadata": {},
   "outputs": [
    {
     "data": {
      "text/plain": [
       "Spud(\"Pleasant Boxty the Cashier\", 2, 7, 11, 4, 4, 1)"
      ]
     },
     "execution_count": 26,
     "metadata": {},
     "output_type": "execute_result"
    }
   ],
   "source": [
    "ff = rand_rename(pick_best_library2(nash_env, counts./sum(counts)))"
   ]
  },
  {
   "cell_type": "code",
   "execution_count": 27,
   "id": "36d7d97a",
   "metadata": {},
   "outputs": [
    {
     "data": {
      "text/plain": [
       "0.7798165137614679"
      ]
     },
     "execution_count": 27,
     "metadata": {},
     "output_type": "execute_result"
    }
   ],
   "source": [
    "ev = eval_battle_list2(ff, nash_env, counts./sum(counts))"
   ]
  },
  {
   "cell_type": "code",
   "execution_count": 28,
   "id": "7c3b3749",
   "metadata": {},
   "outputs": [
    {
     "data": {
      "text/plain": [
       "36-element Vector{Spud}:\n",
       " Spud(\"\", 2, 7, 11, 4, 4, 1)\n",
       " Spud(\"\", 2, 7, 11, 1, 3, 5)\n",
       " Spud(\"\", 2, 7, 11, 4, 2, 3)\n",
       " Spud(\"\", 2, 7, 11, 4, 3, 2)\n",
       " Spud(\"\", 2, 7, 15, 5, 2, 1)\n",
       " Spud(\"\", 2, 7, 11, 5, 2, 2)\n",
       " Spud(\"\", 2, 7, 11, 5, 3, 1)\n",
       " Spud(\"\", 2, 7, 11, 6, 2, 1)\n",
       " Spud(\"\", 2, 7, 15, 4, 2, 2)\n",
       " Spud(\"\", 2, 7, 15, 4, 3, 1)\n",
       " Spud(\"\", 2, 8, 2, 1, 4, 5)\n",
       " Spud(\"\", 2, 8, 2, 4, 3, 3)\n",
       " Spud(\"\", 2, 8, 6, 4, 4, 1)\n",
       " ⋮\n",
       " Spud(\"\", 2, 8, 6, 4, 3, 2)\n",
       " Spud(\"\", 2, 8, 10, 1, 4, 3)\n",
       " Spud(\"\", 2, 8, 10, 4, 2, 2)\n",
       " Spud(\"\", 2, 8, 10, 5, 1, 2)\n",
       " Spud(\"\", 2, 9, 5, 1, 4, 3)\n",
       " Spud(\"\", 2, 9, 5, 4, 3, 1)\n",
       " Spud(\"\", 2, 9, 5, 5, 1, 2)\n",
       " Spud(\"\", 2, 9, 5, 5, 2, 1)\n",
       " Spud(\"\", 2, 9, 5, 4, 2, 2)\n",
       " Spud(\"\", 3, 8, 1, 4, 4, 1)\n",
       " Spud(\"\", 3, 8, 1, 5, 2, 2)\n",
       " Spud(\"\", 3, 8, 1, 5, 3, 1)"
      ]
     },
     "execution_count": 28,
     "metadata": {},
     "output_type": "execute_result"
    }
   ],
   "source": [
    "bestf = subset_library(nash_env, 500, counts./sum(counts), ev-0.05)"
   ]
  },
  {
   "cell_type": "code",
   "execution_count": 29,
   "id": "d6029104",
   "metadata": {},
   "outputs": [
    {
     "name": "stdout",
     "output_type": "stream",
     "text": [
      "2007\n"
     ]
    },
    {
     "data": {
      "text/plain": [
       "Spud(\"Practical Cacasse à cul nu the Teacher\", 2, 8, 2, 6, 3, 1)"
      ]
     },
     "execution_count": 29,
     "metadata": {},
     "output_type": "execute_result"
    }
   ],
   "source": [
    "cc = ffp(bestf, 10000)\n",
    "println(maximum(cc))\n",
    "ff2 = rand_rename(bestf[cc .== maximum(cc)][1])"
   ]
  },
  {
   "cell_type": "code",
   "execution_count": 30,
   "id": "d7f6f1f6",
   "metadata": {},
   "outputs": [
    {
     "data": {
      "text/plain": [
       "0.761467889908257"
      ]
     },
     "execution_count": 30,
     "metadata": {},
     "output_type": "execute_result"
    }
   ],
   "source": [
    "eval_battle_list2(ff2, nash_env, counts./sum(counts))"
   ]
  },
  {
   "cell_type": "code",
   "execution_count": 31,
   "id": "6273fbba",
   "metadata": {},
   "outputs": [
    {
     "data": {
      "text/html": [
       "<div><div style = \"float: left;\"><span>10×7 DataFrame</span></div><div style = \"clear: both;\"></div></div><div class = \"data-frame\" style = \"overflow-x: scroll;\"><table class = \"data-frame\" style = \"margin-bottom: 6px;\"><thead><tr class = \"header\"><th class = \"rowNumber\" style = \"font-weight: bold; text-align: right;\">Row</th><th style = \"text-align: left;\">name</th><th style = \"text-align: left;\">h</th><th style = \"text-align: left;\">f</th><th style = \"text-align: left;\">l</th><th style = \"text-align: left;\">p</th><th style = \"text-align: left;\">r</th><th style = \"text-align: left;\">s</th></tr><tr class = \"subheader headerLastRow\"><th class = \"rowNumber\" style = \"font-weight: bold; text-align: right;\"></th><th title = \"String\" style = \"text-align: left;\">String</th><th title = \"Int64\" style = \"text-align: left;\">Int64</th><th title = \"Int64\" style = \"text-align: left;\">Int64</th><th title = \"Int64\" style = \"text-align: left;\">Int64</th><th title = \"Int64\" style = \"text-align: left;\">Int64</th><th title = \"Int64\" style = \"text-align: left;\">Int64</th><th title = \"Int64\" style = \"text-align: left;\">Int64</th></tr></thead><tbody><tr><td class = \"rowNumber\" style = \"font-weight: bold; text-align: right;\">1</td><td style = \"text-align: left;\">Fit Truffade the Nanny (also nursemaid)</td><td style = \"text-align: right;\">3</td><td style = \"text-align: right;\">7</td><td style = \"text-align: right;\">10</td><td style = \"text-align: right;\">1</td><td style = \"text-align: right;\">2</td><td style = \"text-align: right;\">4</td></tr><tr><td class = \"rowNumber\" style = \"font-weight: bold; text-align: right;\">2</td><td style = \"text-align: left;\">Sweet Rumbledethumps the Barman</td><td style = \"text-align: right;\">3</td><td style = \"text-align: right;\">8</td><td style = \"text-align: right;\">1</td><td style = \"text-align: right;\">4</td><td style = \"text-align: right;\">1</td><td style = \"text-align: right;\">4</td></tr><tr><td class = \"rowNumber\" style = \"font-weight: bold; text-align: right;\">3</td><td style = \"text-align: left;\">Professional Batata vada the Cardinal</td><td style = \"text-align: right;\">5</td><td style = \"text-align: right;\">1</td><td style = \"text-align: right;\">16</td><td style = \"text-align: right;\">7</td><td style = \"text-align: right;\">4</td><td style = \"text-align: right;\">4</td></tr><tr><td class = \"rowNumber\" style = \"font-weight: bold; text-align: right;\">4</td><td style = \"text-align: left;\">Lonely Aligot the Impersonator</td><td style = \"text-align: right;\">6</td><td style = \"text-align: right;\">1</td><td style = \"text-align: right;\">14</td><td style = \"text-align: right;\">5</td><td style = \"text-align: right;\">1</td><td style = \"text-align: right;\">4</td></tr><tr><td class = \"rowNumber\" style = \"font-weight: bold; text-align: right;\">5</td><td style = \"text-align: left;\">Firm Pommes Anna the Terminator</td><td style = \"text-align: right;\">7</td><td style = \"text-align: right;\">1</td><td style = \"text-align: right;\">10</td><td style = \"text-align: right;\">7</td><td style = \"text-align: right;\">4</td><td style = \"text-align: right;\">12</td></tr><tr><td class = \"rowNumber\" style = \"font-weight: bold; text-align: right;\">6</td><td style = \"text-align: left;\">Desperate Pitepalt the Chimney sweep</td><td style = \"text-align: right;\">7</td><td style = \"text-align: right;\">5</td><td style = \"text-align: right;\">3</td><td style = \"text-align: right;\">4</td><td style = \"text-align: right;\">2</td><td style = \"text-align: right;\">2</td></tr><tr><td class = \"rowNumber\" style = \"font-weight: bold; text-align: right;\">7</td><td style = \"text-align: left;\">Helpful Ajiaco the Student</td><td style = \"text-align: right;\">7</td><td style = \"text-align: right;\">6</td><td style = \"text-align: right;\">2</td><td style = \"text-align: right;\">4</td><td style = \"text-align: right;\">2</td><td style = \"text-align: right;\">1</td></tr><tr><td class = \"rowNumber\" style = \"font-weight: bold; text-align: right;\">8</td><td style = \"text-align: left;\">Sad Aligot the Housekeeper</td><td style = \"text-align: right;\">8</td><td style = \"text-align: right;\">4</td><td style = \"text-align: right;\">4</td><td style = \"text-align: right;\">4</td><td style = \"text-align: right;\">3</td><td style = \"text-align: right;\">2</td></tr><tr><td class = \"rowNumber\" style = \"font-weight: bold; text-align: right;\">9</td><td style = \"text-align: left;\">Expensive Pommes Anna the Level designer (also Mapper)</td><td style = \"text-align: right;\">9</td><td style = \"text-align: right;\">1</td><td style = \"text-align: right;\">9</td><td style = \"text-align: right;\">2</td><td style = \"text-align: right;\">4</td><td style = \"text-align: right;\">4</td></tr><tr><td class = \"rowNumber\" style = \"font-weight: bold; text-align: right;\">10</td><td style = \"text-align: left;\">Practical Cacasse à cul nu the Teacher</td><td style = \"text-align: right;\">2</td><td style = \"text-align: right;\">8</td><td style = \"text-align: right;\">2</td><td style = \"text-align: right;\">6</td><td style = \"text-align: right;\">3</td><td style = \"text-align: right;\">1</td></tr></tbody></table></div>"
      ],
      "text/latex": [
       "\\begin{tabular}{r|cccccc}\n",
       "\t& name & h & f & l & p & \\\\\n",
       "\t\\hline\n",
       "\t& String & Int64 & Int64 & Int64 & Int64 & \\\\\n",
       "\t\\hline\n",
       "\t1 & Fit Truffade the Nanny (also nursemaid) & 3 & 7 & 10 & 1 & $\\dots$ \\\\\n",
       "\t2 & Sweet Rumbledethumps the Barman & 3 & 8 & 1 & 4 & $\\dots$ \\\\\n",
       "\t3 & Professional Batata vada the Cardinal & 5 & 1 & 16 & 7 & $\\dots$ \\\\\n",
       "\t4 & Lonely Aligot the Impersonator & 6 & 1 & 14 & 5 & $\\dots$ \\\\\n",
       "\t5 & Firm Pommes Anna the Terminator & 7 & 1 & 10 & 7 & $\\dots$ \\\\\n",
       "\t6 & Desperate Pitepalt the Chimney sweep & 7 & 5 & 3 & 4 & $\\dots$ \\\\\n",
       "\t7 & Helpful Ajiaco the Student & 7 & 6 & 2 & 4 & $\\dots$ \\\\\n",
       "\t8 & Sad Aligot the Housekeeper & 8 & 4 & 4 & 4 & $\\dots$ \\\\\n",
       "\t9 & Expensive Pommes Anna the Level designer (also Mapper) & 9 & 1 & 9 & 2 & $\\dots$ \\\\\n",
       "\t10 & Practical Cacasse à cul nu the Teacher & 2 & 8 & 2 & 6 & $\\dots$ \\\\\n",
       "\\end{tabular}\n"
      ],
      "text/plain": [
       "\u001b[1m10×7 DataFrame\u001b[0m\n",
       "\u001b[1m Row \u001b[0m│\u001b[1m name                              \u001b[0m\u001b[1m h     \u001b[0m\u001b[1m f     \u001b[0m\u001b[1m l     \u001b[0m\u001b[1m p     \u001b[0m\u001b[1m r     \u001b[0m\u001b[1m s\u001b[0m ⋯\n",
       "     │\u001b[90m String                            \u001b[0m\u001b[90m Int64 \u001b[0m\u001b[90m Int64 \u001b[0m\u001b[90m Int64 \u001b[0m\u001b[90m Int64 \u001b[0m\u001b[90m Int64 \u001b[0m\u001b[90m I\u001b[0m ⋯\n",
       "─────┼──────────────────────────────────────────────────────────────────────────\n",
       "   1 │ Fit Truffade the Nanny (also nur…      3      7     10      1      2    ⋯\n",
       "   2 │ Sweet Rumbledethumps the Barman        3      8      1      4      1\n",
       "   3 │ Professional Batata vada the Car…      5      1     16      7      4\n",
       "   4 │ Lonely Aligot the Impersonator         6      1     14      5      1\n",
       "   5 │ Firm Pommes Anna the Terminator        7      1     10      7      4    ⋯\n",
       "   6 │ Desperate Pitepalt the Chimney s…      7      5      3      4      2\n",
       "   7 │ Helpful Ajiaco the Student             7      6      2      4      2\n",
       "   8 │ Sad Aligot the Housekeeper             8      4      4      4      3\n",
       "   9 │ Expensive Pommes Anna the Level …      9      1      9      2      4    ⋯\n",
       "  10 │ Practical Cacasse à cul nu the T…      2      8      2      6      3\n",
       "\u001b[36m                                                                1 column omitted\u001b[0m"
      ]
     },
     "execution_count": 31,
     "metadata": {},
     "output_type": "execute_result"
    }
   ],
   "source": [
    "append!(nash_env, [ff2])\n",
    "spuds_to_df(nash_env)"
   ]
  },
  {
   "cell_type": "markdown",
   "id": "6c06f6a4",
   "metadata": {},
   "source": [
    "### loop"
   ]
  },
  {
   "cell_type": "code",
   "execution_count": 32,
   "id": "7ef074ce",
   "metadata": {},
   "outputs": [
    {
     "name": "stdout",
     "output_type": "stream",
     "text": [
      "4.999500050001382e-5\n",
      "0.9999400059994\n"
     ]
    }
   ],
   "source": [
    "counts = ffp(nash_env, 100000)\n",
    "println(maximum([eval_battle_list2(ff, nash_env, counts./sum(counts)) for ff in nash_env]))\n",
    "ff = rand_rename(pick_best_library2(nash_env, counts./sum(counts)))\n",
    "ev = eval_battle_list2(ff, nash_env, counts./sum(counts))\n",
    "println(ev)"
   ]
  },
  {
   "cell_type": "code",
   "execution_count": 33,
   "id": "11ee17bf",
   "metadata": {},
   "outputs": [
    {
     "data": {
      "text/plain": [
       "578-element Vector{Spud}:\n",
       " Spud(\"\", 1, 9, 1, 2, 5, 3)\n",
       " Spud(\"\", 1, 9, 10, 3, 4, 2)\n",
       " Spud(\"\", 1, 9, 1, 3, 4, 3)\n",
       " Spud(\"\", 1, 9, 1, 3, 5, 2)\n",
       " Spud(\"\", 1, 9, 1, 4, 4, 2)\n",
       " Spud(\"\", 1, 9, 10, 2, 5, 2)\n",
       " Spud(\"\", 3, 4, 12, 2, 6, 5)\n",
       " Spud(\"\", 3, 3, 11, 2, 5, 12)\n",
       " Spud(\"\", 2, 4, 9, 1, 5, 13)\n",
       " Spud(\"\", 4, 4, 10, 2, 5, 4)\n",
       " Spud(\"\", 4, 3, 11, 3, 5, 6)\n",
       " Spud(\"\", 3, 3, 12, 2, 4, 12)\n",
       " Spud(\"\", 2, 4, 10, 2, 4, 14)\n",
       " ⋮\n",
       " Spud(\"\", 2, 3, 18, 9, 3, 7)\n",
       " Spud(\"\", 3, 3, 17, 8, 4, 1)\n",
       " Spud(\"\", 2, 3, 20, 11, 4, 3)\n",
       " Spud(\"\", 2, 3, 18, 10, 8, 1)\n",
       " Spud(\"\", 3, 3, 18, 8, 4, 2)\n",
       " Spud(\"\", 2, 3, 18, 8, 5, 6)\n",
       " Spud(\"\", 2, 3, 20, 9, 7, 2)\n",
       " Spud(\"\", 2, 5, 12, 3, 4, 6)\n",
       " Spud(\"\", 2, 5, 15, 3, 4, 5)\n",
       " Spud(\"\", 2, 4, 10, 2, 4, 12)\n",
       " Spud(\"\", 4, 4, 10, 4, 5, 2)\n",
       " Spud(\"\", 2, 5, 10, 2, 6, 6)"
      ]
     },
     "execution_count": 33,
     "metadata": {},
     "output_type": "execute_result"
    }
   ],
   "source": [
    "bestf = subset_library(nash_env, 900, counts./sum(counts), ev-0.05)"
   ]
  },
  {
   "cell_type": "code",
   "execution_count": 34,
   "id": "c247ec4b",
   "metadata": {},
   "outputs": [
    {
     "name": "stdout",
     "output_type": "stream",
     "text": [
      "578\n",
      "1640\n"
     ]
    }
   ],
   "source": [
    "println(length(bestf))\n",
    "cc = ffp(bestf, 10000)\n",
    "println(maximum(cc))"
   ]
  },
  {
   "cell_type": "code",
   "execution_count": 35,
   "id": "ab75c8b2",
   "metadata": {},
   "outputs": [
    {
     "data": {
      "text/plain": [
       "Spud(\"Calm Pommes Anna the Paleontologist\", 2, 4, 12, 9, 7, 1)"
      ]
     },
     "execution_count": 35,
     "metadata": {},
     "output_type": "execute_result"
    }
   ],
   "source": [
    "ff2 = rand_rename(bestf[cc .== maximum(cc)][1])"
   ]
  },
  {
   "cell_type": "code",
   "execution_count": 36,
   "id": "ed665bf3",
   "metadata": {},
   "outputs": [
    {
     "name": "stdout",
     "output_type": "stream",
     "text": [
      "0.9998600139986001\n"
     ]
    }
   ],
   "source": [
    "println(eval_battle_list2(ff2, nash_env, counts./sum(counts)))"
   ]
  },
  {
   "cell_type": "code",
   "execution_count": 37,
   "id": "75ff66ed",
   "metadata": {},
   "outputs": [
    {
     "data": {
      "text/plain": [
       "11-element Vector{Spud}:\n",
       " Spud(\"Fit Truffade the Nanny (also nursemaid)\", 3, 7, 10, 1, 2, 4)\n",
       " Spud(\"Sweet Rumbledethumps the Barman\", 3, 8, 1, 4, 1, 4)\n",
       " Spud(\"Professional Batata vada the Cardinal\", 5, 1, 16, 7, 4, 4)\n",
       " Spud(\"Lonely Aligot the Impersonator\", 6, 1, 14, 5, 1, 4)\n",
       " Spud(\"Firm Pommes Anna the Terminator\", 7, 1, 10, 7, 4, 12)\n",
       " Spud(\"Desperate Pitepalt the Chimney sweep\", 7, 5, 3, 4, 2, 2)\n",
       " Spud(\"Helpful Ajiaco the Student\", 7, 6, 2, 4, 2, 1)\n",
       " Spud(\"Sad Aligot the Housekeeper\", 8, 4, 4, 4, 3, 2)\n",
       " Spud(\"Expensive Pommes Anna the Level designer (also Mapper)\", 9, 1, 9, 2, 4, 4)\n",
       " Spud(\"Practical Cacasse à cul nu the Teacher\", 2, 8, 2, 6, 3, 1)\n",
       " Spud(\"Calm Pommes Anna the Paleontologist\", 2, 4, 12, 9, 7, 1)"
      ]
     },
     "execution_count": 37,
     "metadata": {},
     "output_type": "execute_result"
    }
   ],
   "source": [
    "append!(nash_env, [ff2])"
   ]
  },
  {
   "cell_type": "code",
   "execution_count": 51,
   "id": "f92d53b4",
   "metadata": {
    "scrolled": false
   },
   "outputs": [
    {
     "name": "stdout",
     "output_type": "stream",
     "text": [
      "\n",
      "1\n",
      "0.019329703810998522\n",
      "0.08554018280805153\n",
      "247\n",
      "1130\n",
      "0.035612606762898964\n",
      "\n",
      "2\n",
      "0.01803088725950494\n",
      "0.08225281201925963\n",
      "253\n",
      "1187\n",
      "0.03841927556789803\n",
      "\n",
      "3\n",
      "0.018909766549791752\n",
      "0.10283996124147154\n",
      "85\n",
      "3957\n",
      "0.06072502422408021\n",
      "\n",
      "4\n",
      "0.018719782634754503\n",
      "0.11263835058137217\n",
      "50\n",
      "3427\n",
      "0.07326087825148841\n",
      "\n",
      "5\n",
      "0.016821664385819505\n",
      "0.07930355912055856\n",
      "340\n",
      "1367\n",
      "0.04354253863289015\n",
      "\n",
      "6\n",
      "0.018639496553790838\n",
      "0.08714414144441116\n",
      "235\n",
      "1810\n",
      "0.044511037858355806\n",
      "\n",
      "7\n",
      "0.018928988822407136\n",
      "0.08943073188760477\n",
      "218\n",
      "2299\n",
      "0.04144399716314891\n",
      "\n",
      "8\n",
      "0.018249560492248657\n",
      "0.0892999840178999\n",
      "248\n",
      "3828\n",
      "0.04401070800703209\n",
      "\n",
      "9\n",
      "0.02359333952633525\n",
      "0.09420354998851277\n",
      "133\n",
      "3872\n",
      "0.05239079839781045\n",
      "\n",
      "10\n",
      "0.020816269452823798\n",
      "0.09724913598497714\n",
      "122\n",
      "811\n",
      "0.04998301935793192\n",
      "\n",
      "11\n",
      "0.020706187883933466\n",
      "0.10175298406832145\n",
      "74\n",
      "2357\n",
      "0.051850372072117096\n",
      "\n",
      "12\n",
      "0.019677174477605894\n",
      "0.10347996324263858\n",
      "50\n",
      "3357\n",
      "0.08200487434575898\n",
      "\n",
      "13\n",
      "0.021125283418400517\n",
      "0.09176263771387473\n",
      "131\n",
      "2496\n",
      "0.042720017579432036\n",
      "\n",
      "14\n",
      "0.019906510317824977\n",
      "0.08819592880401127\n",
      "154\n",
      "1553\n",
      "0.06508320182185019\n",
      "\n",
      "15\n",
      "0.022133660943477247\n",
      "0.09449754791797761\n",
      "69\n",
      "10001\n",
      "0.04551583615497558\n",
      "\n",
      "16\n",
      "0.01981622053535758\n",
      "0.08345984818218136\n",
      "198\n",
      "2036\n",
      "0.04059129045145825\n",
      "\n",
      "17\n",
      "0.019915901758871743\n",
      "0.08310943758052756\n",
      "197\n",
      "1963\n",
      "0.03604638387551064\n",
      "\n",
      "18\n",
      "0.01969597091548311\n",
      "0.08072151974590995\n",
      "265\n",
      "1579\n",
      "0.032480373943788596\n",
      "\n",
      "19\n",
      "0.020055331941711576\n",
      "0.08196917791116924\n",
      "212\n",
      "1567\n",
      "0.0370843862049679\n",
      "\n",
      "20\n",
      "0.021203707402820644\n",
      "0.0823578762334705\n",
      "205\n",
      "1413\n",
      "0.0348168271343534\n",
      "\n",
      "21\n",
      "0.020244694132334595\n",
      "0.08478401997503121\n",
      "196\n",
      "1094\n",
      "0.035465667915106136\n",
      "\n",
      "22\n",
      "0.02084373689151669\n",
      "0.09014641551644922\n",
      "104\n",
      "1349\n",
      "0.04108822883167207\n",
      "\n",
      "23\n",
      "0.0203042136486662\n",
      "0.08616057606839315\n",
      "116\n",
      "2488\n",
      "0.05076552777971974\n",
      "\n",
      "24\n",
      "0.021542425695110258\n",
      "0.09931287951422181\n",
      "58\n",
      "1891\n",
      "0.05598833493128798\n",
      "\n",
      "25\n",
      "0.022530935093729068\n",
      "0.08380189555473437\n",
      "171\n",
      "1989\n",
      "0.08356220475586494\n",
      "\n",
      "26\n",
      "0.022950164785778472\n",
      "0.09271946469589518\n",
      "70\n",
      "2790\n",
      "0.04284430240687107\n",
      "\n",
      "27\n",
      "0.023129700092878347\n",
      "0.09362734817389218\n",
      "69\n",
      "3957\n",
      "0.05569703688168499\n",
      "\n",
      "28\n",
      "0.02214077417808493\n",
      "0.08986138297447373\n",
      "140\n",
      "2791\n",
      "0.0506930851276315\n",
      "\n",
      "29\n",
      "0.022100606193762296\n",
      "0.09560284821187844\n",
      "56\n",
      "1230\n",
      "0.06648157949926614\n",
      "\n",
      "30\n",
      "0.018175644636187448\n",
      "0.07396089240417836\n",
      "246\n",
      "787\n",
      "0.04655761279884953\n",
      "\n",
      "31\n",
      "0.01808558446097771\n",
      "0.08789134668197941\n",
      "79\n",
      "2167\n",
      "0.04448993858291306\n",
      "\n",
      "32\n",
      "0.018165295198529913\n",
      "0.09003754893345041\n",
      "82\n",
      "1537\n",
      "0.041223935447791016\n",
      "\n",
      "33\n",
      "0.01891408769985123\n",
      "0.08477385981205736\n",
      "106\n",
      "1638\n",
      "0.03907646524261756\n",
      "\n",
      "34\n",
      "0.01952305817971202\n",
      "0.08985599872176392\n",
      "76\n",
      "2899\n",
      "0.052088118396612676\n",
      "\n",
      "35\n",
      "0.018164750996115402\n",
      "0.09627617611519991\n",
      "44\n",
      "10001\n",
      "0.04960105453419747\n",
      "\n",
      "36\n",
      "0.022278809666466753\n",
      "0.09346914319952057\n",
      "43\n",
      "3336\n",
      "0.06013580986618734\n",
      "\n",
      "37\n",
      "0.02181923487882076\n",
      "0.09944977581609908\n",
      "33\n",
      "3351\n",
      "0.06130356197761157\n",
      "\n",
      "38\n",
      "0.0241357272672807\n",
      "0.1026941742725331\n",
      "30\n",
      "10001\n",
      "0.0561402808012623\n",
      "\n",
      "39\n",
      "0.022138342170696\n",
      "0.10454050707488285\n",
      "29\n",
      "3906\n",
      "0.06068322299112275\n",
      "\n",
      "40\n",
      "0.022487617830324373\n",
      "0.10702588272887047\n",
      "29\n",
      "10001\n",
      "0.06241012941364438\n",
      "\n",
      "41\n",
      "0.020859753357631322\n",
      "0.09728893104997724\n",
      "29\n",
      "10001\n",
      "0.05936392231264656\n",
      "\n",
      "42\n",
      "0.016465959698839655\n",
      "0.07135582050206707\n",
      "212\n",
      "1093\n",
      "0.03379066562818288\n",
      "\n",
      "43\n",
      "0.01731454761500589\n",
      "0.06725114082299023\n",
      "274\n",
      "803\n",
      "0.01806344673330205\n",
      "\n",
      "44\n",
      "0.01810320725326516\n",
      "0.07387067140631867\n",
      "180\n",
      "979\n",
      "0.04289651316052244\n",
      "\n",
      "45\n",
      "0.01772359184814626\n",
      "0.08450408890752778\n",
      "69\n",
      "2326\n",
      "0.04414422510459416\n",
      "\n",
      "46\n",
      "0.019380928607089485\n",
      "0.09020469296055925\n",
      "54\n",
      "2451\n",
      "0.05737393909136305\n",
      "\n",
      "47\n",
      "0.021787101476769995\n",
      "0.09292967618895469\n",
      "48\n",
      "2821\n",
      "0.050693452886141924\n",
      "\n",
      "48\n",
      "0.021916686636312806\n",
      "0.09513539420081475\n",
      "39\n",
      "3351\n",
      "0.060488058151609556\n",
      "\n",
      "49\n",
      "0.025161502900562148\n",
      "0.0976006709734106\n",
      "37\n",
      "3910\n",
      "0.051171707287849616\n",
      "\n",
      "50\n",
      "0.02164666413722868\n",
      "0.08770493440102241\n",
      "64\n",
      "2100\n",
      "0.048964594524432414\n",
      "\n",
      "51\n",
      "0.02342369327542311\n",
      "0.0772502620937548\n",
      "142\n",
      "1746\n",
      "0.03261943986820418\n",
      "\n",
      "52\n",
      "0.0216362474539718\n",
      "0.07895682734933496\n",
      "128\n",
      "1497\n",
      "0.03165062502496105\n",
      "\n",
      "53\n",
      "0.02248469902253462\n",
      "0.07710893896582365\n",
      "137\n",
      "1696\n",
      "0.03465559072256551\n",
      "\n",
      "54\n",
      "0.02369256574612111\n",
      "0.07436250723856298\n",
      "176\n",
      "2243\n",
      "0.024940593861698494\n",
      "\n",
      "55\n",
      "0.023692329196577436\n",
      "0.07125670184406807\n",
      "270\n",
      "1696\n",
      "0.021376012140696274\n",
      "\n",
      "56\n",
      "0.02538937699680513\n",
      "0.07166533546325886\n",
      "255\n",
      "1462\n",
      "0.03688099041533546\n",
      "\n",
      "57\n",
      "0.025339203881750375\n",
      "0.06963788300835637\n",
      "344\n",
      "1283\n",
      "0.020716646199618664\n",
      "\n",
      "58\n",
      "0.024061021145743898\n",
      "0.06968710688684328\n",
      "365\n",
      "1793\n",
      "0.02725584553024102\n",
      "\n",
      "59\n",
      "0.02267304294000779\n",
      "0.0738296576580175\n",
      "218\n",
      "1962\n",
      "0.025628225991633634\n",
      "\n",
      "60\n",
      "0.02287248911784672\n",
      "0.07306018130266353\n",
      "210\n",
      "1514\n",
      "0.023062178028034022\n",
      "\n",
      "61\n",
      "0.023561124145160504\n",
      "0.0832326661009335\n",
      "108\n",
      "2164\n",
      "0.04563470274047823\n",
      "\n",
      "62\n",
      "0.02365073977197852\n",
      "0.095142064173472\n",
      "32\n",
      "2627\n",
      "0.047321446398977715\n",
      "\n",
      "63\n",
      "0.026515718749688014\n",
      "0.09259536573921548\n",
      "57\n",
      "3336\n",
      "0.0443559256042409\n",
      "\n",
      "64\n",
      "0.027633575593003758\n",
      "0.08082421531826536\n",
      "118\n",
      "3352\n",
      "0.03238559220509543\n",
      "\n",
      "65\n",
      "0.02869151134582556\n",
      "0.08828080543880842\n",
      "69\n",
      "3346\n",
      "0.2187203625872276\n",
      "\n",
      "66\n",
      "0.03243486073674757\n",
      "0.08777078965758209\n",
      "169\n",
      "1922\n",
      "0.03949286213437161\n",
      "\n",
      "67\n",
      "0.03485040580607162\n",
      "0.09085463856804868\n",
      "147\n",
      "2561\n",
      "0.050124287468429035\n",
      "\n",
      "68\n",
      "0.035319250888471904\n",
      "0.09214151659146272\n",
      "142\n",
      "2018\n",
      "0.043405342810366135\n",
      "\n",
      "69\n",
      "0.0337016960658061\n",
      "0.09055334271709942\n",
      "147\n",
      "3857\n",
      "0.09506553662164452\n",
      "\n",
      "70\n",
      "0.02959849861241439\n",
      "0.08157805418571658\n",
      "192\n",
      "983\n",
      "0.03729510651466464\n",
      "\n",
      "71\n",
      "0.024517095083603654\n",
      "0.07695532817569249\n",
      "228\n",
      "1054\n",
      "0.02740204641876718\n",
      "\n",
      "72\n",
      "0.025654847468455498\n",
      "0.07938029068838857\n",
      "248\n",
      "1684\n",
      "0.037114678166427106\n",
      "\n",
      "73\n",
      "0.02752128732144103\n",
      "0.08174531079988429\n",
      "169\n",
      "2633\n",
      "0.045369695638719426\n",
      "\n",
      "74\n",
      "0.021322046756772926\n",
      "0.07652378765796874\n",
      "253\n",
      "2717\n",
      "0.05196749785382025\n",
      "\n",
      "75\n",
      "0.023128599806346652\n",
      "0.07803032571696672\n",
      "234\n",
      "2492\n",
      "0.03816169057387278\n",
      "\n",
      "76\n",
      "0.021231782790976223\n",
      "0.07620283489718506\n",
      "260\n",
      "2079\n",
      "0.027770013974845215\n",
      "\n",
      "77\n",
      "0.022409438915562803\n",
      "0.0770305746598658\n",
      "250\n",
      "3713\n",
      "0.027540152324293028\n",
      "\n",
      "78\n",
      "0.021421013754965995\n",
      "0.0789762632009741\n",
      "211\n",
      "3383\n",
      "0.03507616138627698\n",
      "\n",
      "79\n",
      "0.021081420999570787\n",
      "0.07788746593733506\n",
      "227\n",
      "2420\n",
      "0.0364033818112854\n",
      "\n",
      "80\n",
      "0.022698235247145274\n",
      "0.0800527030264313\n",
      "191\n",
      "4010\n",
      "0.03250019963267592\n"
     ]
    }
   ],
   "source": [
    "for ii in 1:80\n",
    "    println()\n",
    "    println(ii)\n",
    "    counts = ffp(nash_env, 100000)\n",
    "    println(maximum([eval_battle_list2(ff, nash_env, counts./sum(counts)) for ff in nash_env]))\n",
    "    ff = rand_rename(pick_best_library2(nash_env, counts./sum(counts)))\n",
    "    ev = eval_battle_list2(ff, nash_env, counts./sum(counts))\n",
    "    println(ev)\n",
    "    bestf = subset_library(nash_env, 900, counts./sum(counts), ev-0.05)\n",
    "    println(length(bestf))\n",
    "    cc = ffp(bestf, 10000)\n",
    "    println(maximum(cc))\n",
    "    ff2 = rand_rename(bestf[cc .== maximum(cc)][1])\n",
    "    println(eval_battle_list2(ff2, nash_env, counts./sum(counts)))\n",
    "    append!(nash_env, [ff2])\n",
    "end"
   ]
  },
  {
   "cell_type": "code",
   "execution_count": 52,
   "id": "e0f50507",
   "metadata": {},
   "outputs": [],
   "source": [
    "#spuds_to_df(nash_env)"
   ]
  },
  {
   "cell_type": "code",
   "execution_count": 53,
   "id": "066fbf4c",
   "metadata": {},
   "outputs": [
    {
     "name": "stdout",
     "output_type": "stream",
     "text": [
      "Spud(\"\", 11, 1, 7, 3, 3, 6)\n"
     ]
    },
    {
     "data": {
      "text/plain": [
       "0.08052103608324587"
      ]
     },
     "execution_count": 53,
     "metadata": {},
     "output_type": "execute_result"
    }
   ],
   "source": [
    "counts = ffp(nash_env, 100000)\n",
    "ff = pick_best_library2(nash_env, counts./sum(counts))\n",
    "println(ff)\n",
    "eval_battle_list2(ff, nash_env, counts./sum(counts))"
   ]
  },
  {
   "cell_type": "code",
   "execution_count": 54,
   "id": "ab4c51a4",
   "metadata": {},
   "outputs": [],
   "source": [
    "#CSV.write(\"spuds_nash_stage12.csv\", spuds_to_df(nash_env))"
   ]
  },
  {
   "cell_type": "code",
   "execution_count": 55,
   "id": "d2bcab51",
   "metadata": {},
   "outputs": [],
   "source": [
    "#counts = ffp(nash_env, 10000)\n",
    "nash_env = nash_env[counts .> 10]\n",
    "counts = ffp(nash_env, 100000);"
   ]
  },
  {
   "cell_type": "code",
   "execution_count": 56,
   "id": "b78a53d8",
   "metadata": {},
   "outputs": [
    {
     "name": "stdout",
     "output_type": "stream",
     "text": [
      "Spud(\"\", 11, 1, 7, 5, 1, 6)\n"
     ]
    },
    {
     "data": {
      "text/plain": [
       "0.08062647329098255"
      ]
     },
     "execution_count": 56,
     "metadata": {},
     "output_type": "execute_result"
    }
   ],
   "source": [
    "#counts = ffp(nash_env, 100000)\n",
    "ff = pick_best_library2(nash_env, counts./sum(counts))\n",
    "println(ff)\n",
    "eval_battle_list2(ff, nash_env, counts./sum(counts))"
   ]
  },
  {
   "cell_type": "markdown",
   "id": "171a817d",
   "metadata": {},
   "source": [
    "## beware"
   ]
  },
  {
   "cell_type": "code",
   "execution_count": 57,
   "id": "5fa5d207",
   "metadata": {},
   "outputs": [
    {
     "data": {
      "text/plain": [
       "\"spuds_nash_stage03.csv\""
      ]
     },
     "execution_count": 57,
     "metadata": {},
     "output_type": "execute_result"
    }
   ],
   "source": [
    "CSV.write(\"spuds_nash_stage03.csv\", spuds_to_df(nash_env))"
   ]
  },
  {
   "cell_type": "markdown",
   "id": "76650c8f",
   "metadata": {},
   "source": [
    "### refine weights"
   ]
  },
  {
   "cell_type": "code",
   "execution_count": 149,
   "id": "523d545c",
   "metadata": {},
   "outputs": [
    {
     "data": {
      "text/plain": [
       "19-element Vector{Float64}:\n",
       " 0.03144026349935123\n",
       " 0.051801577003692985\n",
       " 0.03992414412616029\n",
       " 0.040822437368998904\n",
       " 0.03992414412616029\n",
       " 0.07156402834614232\n",
       " 0.00948198422996307\n",
       " 0.011478191436271086\n",
       " 0.04820840403233856\n",
       " 0.10959177562631\n",
       " 0.04301826529593772\n",
       " 0.05928735402734804\n",
       " 0.05589380177662441\n",
       " 0.006687294141131849\n",
       " 0.005090328376085438\n",
       " 0.03902585088332169\n",
       " 0.09551851482183851\n",
       " 0.051801577003692985\n",
       " 0.1894400638786306"
      ]
     },
     "execution_count": 149,
     "metadata": {},
     "output_type": "execute_result"
    }
   ],
   "source": [
    "eps = 0.01/length(library)\n",
    "nits = 40000\n",
    "sub_iter = 2000\n",
    "w = counts./sum(counts)"
   ]
  },
  {
   "cell_type": "code",
   "execution_count": 150,
   "id": "0836d787",
   "metadata": {},
   "outputs": [],
   "source": [
    "n_nash = length(nash_env)\n",
    "i_lose = Array{Int}(undef, (n_nash, n_nash))\n",
    "n_lose = Array{Int}(undef, n_nash)\n",
    "for i in 1:n_nash\n",
    "    n_lose[i] = 0\n",
    "    ff = nash_env[i]\n",
    "    for j in 1:n_nash\n",
    "        if eval_battle(ff, nash_env[j]) ==-1\n",
    "            n_lose[i] += 1\n",
    "            i_lose[i, n_lose[i]] = j\n",
    "        end\n",
    "    end\n",
    "end"
   ]
  },
  {
   "cell_type": "code",
   "execution_count": 152,
   "id": "08c7f25b",
   "metadata": {},
   "outputs": [],
   "source": [
    "scores = [0.0 for i in 1:n_nash]\n",
    "for i in 1:n_nash\n",
    "    for j in 1:n_lose[i]\n",
    "        i_w = i_lose[i, j]\n",
    "        scores[i_w]+= w[i]\n",
    "    end\n",
    "end"
   ]
  },
  {
   "cell_type": "code",
   "execution_count": 153,
   "id": "c0b4dbde",
   "metadata": {},
   "outputs": [
    {
     "name": "stdout",
     "output_type": "stream",
     "text": [
      "2.4630541871921184e-5\n",
      "\n",
      "\n",
      "Spud(\"Hungry French Fries\", 2, 16, 8, 2, 11, 9) w:0.04820602935108973 s:0.45715819122033735\n",
      "Spud(\"Potato Strips w/ onion\", 9, 21, 2, 4, 2, 3) w:0.18955135521145414 s:0.45700869861606747\n",
      "1.2315270935960592e-5\n",
      "\n",
      "\n",
      "Spud(\"Aquatic Mashed Potato\", 14, 6, 13, 4, 11, 7) w:0.10971268975376745 s:0.4570093923044257\n",
      "Spud(\"Crazy Chips\", 6, 9, 26, 8, 3, 10) w:0.05587069246628821 s:0.45697416637016347\n",
      "Spud(\"Friendly Potato Bread\", 4, 12, 19, 4, 9, 10) w:0.05963552991975216 s:0.4569652237420019\n",
      "6.157635467980296e-6\n",
      "\n",
      "\n",
      "Spud(\"Potato Soup w/ ketchup\", 21, 2, 15, 7, 6, 8) w:0.04319174825362203 s:0.4569657070545698\n",
      "3.078817733990148e-6\n",
      "\n",
      "\n",
      "Spud(\"Crazy Potato Soup\", 8, 4, 24, 18, 4, 22) w:0.05181948311653167 s:0.45696838203738316\n",
      "Spud(\"Hungry French Fries\", 2, 16, 8, 2, 11, 9) w:0.048096443986402025 s:0.4569578797912595\n",
      "1.539408866995074e-6\n",
      "\n",
      "\n",
      "Spud(\"Aquatic Mashed Potato\", 14, 6, 13, 4, 11, 7) w:0.10973879429331644 s:0.45695842146670224\n",
      "Spud(\"Potato Soup w/ onion\", 19, 13, 3, 3, 2, 2) w:0.039752705742648026 s:0.45695526242690176\n",
      "7.69704433497537e-7\n",
      "\n",
      "\n",
      "Spud(\"Crazy Potato Soup\", 8, 4, 24, 18, 4, 22) w:0.05182273675851516 s:0.4569554837555846\n",
      "Spud(\"Speedy Raw Potato\", 15, 7, 8, 2, 7, 16) w:0.040891066760881827 s:0.4569541799482505\n",
      "Spud(\"Crazy Potato Soup\", 8, 4, 24, 18, 4, 22) w:0.05182251274071895 s:0.45695408936072623\n",
      "3.848522167487685e-7\n",
      "\n",
      "\n",
      "Spud(\"Potato Strips w/ onion\", 9, 21, 2, 4, 2, 3) w:0.1895851864017177 s:0.4569544843709924\n",
      "Spud(\"Potato Strips w/ onion\", 9, 21, 2, 4, 2, 3) w:0.18958588999624454 s:0.4569533657089728\n",
      "1.9242610837438425e-7\n",
      "\n",
      "\n",
      "Spud(\"Crazy Potato Soup\", 8, 4, 24, 18, 4, 22) w:0.05182305685582546 s:0.45695346336871706\n",
      "Spud(\"Potato Soup w/ ketchup\", 21, 2, 15, 7, 6, 8) w:0.04320100293974449 s:0.4569531825019298\n",
      "9.621305418719212e-8\n",
      "\n",
      "\n",
      "Spud(\"Potato Strips w/ onion\", 9, 21, 2, 4, 2, 3) w:0.18958595019431917 s:0.45695324521823827\n",
      "Spud(\"Helen's Mashed Potato\", 14, 3, 22, 10, 3, 3) w:0.03892113878880884 s:0.45695299618313956\n",
      "4.810652709359606e-8\n",
      "\n",
      "\n",
      "Spud(\"Potato Soup w/ scallion\", 20, 11, 5, 3, 2, 2) w:0.07165272041244511 s:0.4569530807303942\n"
     ]
    }
   ],
   "source": [
    "previous_score = maximum(scores)\n",
    "for iter in 1:nits\n",
    "    ind_winners = findall(scores .== maximum(scores))\n",
    "    i = rand(ind_winners)\n",
    "    w[i] += eps\n",
    "    for j in 1:n_lose[i]\n",
    "        i_w = i_lose[i, j]\n",
    "        scores[i_w]+= eps\n",
    "    end\n",
    "    if mod1(iter, sub_iter) == 1\n",
    "        scores = scores./sum(w)\n",
    "        w = w./sum(w)\n",
    "        if maximum(scores) > previous_score\n",
    "            eps = eps/2\n",
    "            println(eps)\n",
    "            println()\n",
    "            println()\n",
    "        end\n",
    "        previous_score = maximum(scores)\n",
    "        mxv, mxi = findmax(scores)\n",
    "        print(nash_env[mxi])\n",
    "        print(\" w:\")\n",
    "        print(w[mxi])\n",
    "        print(\" s:\")\n",
    "        print(scores[mxi])\n",
    "        println()\n",
    "    end\n",
    "end\n"
   ]
  },
  {
   "cell_type": "code",
   "execution_count": 154,
   "id": "5cd18cd9",
   "metadata": {},
   "outputs": [
    {
     "data": {
      "text/plain": [
       "0.10350172839487909"
      ]
     },
     "execution_count": 154,
     "metadata": {},
     "output_type": "execute_result"
    }
   ],
   "source": [
    "maximum([eval_battle_list2(ff, nash_env, w) for ff in nash_env])"
   ]
  },
  {
   "cell_type": "code",
   "execution_count": 148,
   "id": "164743ab",
   "metadata": {},
   "outputs": [
    {
     "name": "stdout",
     "output_type": "stream",
     "text": [
      "Spud(\"\", 17, 9, 9, 6, 2, 2)\n"
     ]
    },
    {
     "data": {
      "text/plain": [
       "0.5977873078679817"
      ]
     },
     "execution_count": 148,
     "metadata": {},
     "output_type": "execute_result"
    }
   ],
   "source": [
    "ff = pick_best_library2(nash_env, w)\n",
    "println(ff)\n",
    "eval_battle_list2(ff, nash_env, w)"
   ]
  },
  {
   "cell_type": "markdown",
   "id": "58222ce6",
   "metadata": {},
   "source": [
    "## Old code"
   ]
  },
  {
   "cell_type": "code",
   "execution_count": 15,
   "id": "d3e07cf7",
   "metadata": {},
   "outputs": [
    {
     "data": {
      "text/plain": [
       "nashprox (generic function with 1 method)"
      ]
     },
     "execution_count": 15,
     "metadata": {},
     "output_type": "execute_result"
    }
   ],
   "source": [
    "function nashprox2(size, start_size, ns)\n",
    "    nash_env = Array{Spud}(undef, size)\n",
    "    nash_env[1:start_size] = random_team(() -> rand(library), start_size)\n",
    "    for j in (start_size+1):size\n",
    "        if j < ns\n",
    "            ff = pick_ok_counter(nash_env[1:(j-1)])\n",
    "            nash_env[j] = ff\n",
    "        else\n",
    "            ff = pick_ok_counter(randsubseq(nash_env[1:(j-1)], ns/j))\n",
    "            nash_env[j] = ff                \n",
    "        end\n",
    "    end\n",
    "    return nash_env\n",
    "end\n",
    "\n",
    "function nashprox(size, start_size, ns)\n",
    "    nash_env = Array{Spud}(undef, size)\n",
    "    nash_env[1:start_size] = random_team(() -> rand(library), start_size)\n",
    "    for j in (start_size+1):size\n",
    "        if j < ns\n",
    "            ff = pick_best_library(nash_env[1:(j-1)])\n",
    "            nash_env[j] = ff\n",
    "        else\n",
    "            ff = pick_best_library(randsubseq(nash_env[1:(j-1)], ns/j))\n",
    "            nash_env[j] = ff                \n",
    "        end\n",
    "    end\n",
    "    return nash_env\n",
    "end"
   ]
  },
  {
   "cell_type": "code",
   "execution_count": null,
   "id": "e08da8ee",
   "metadata": {},
   "outputs": [],
   "source": []
  },
  {
   "cell_type": "code",
   "execution_count": 150,
   "id": "b778cb19",
   "metadata": {},
   "outputs": [
    {
     "name": "stdout",
     "output_type": "stream",
     "text": [
      "201.611800 seconds (15.12 k allocations: 197.526 MiB, 0.01% gc time)\n"
     ]
    },
    {
     "data": {
      "text/plain": [
       "1540"
      ]
     },
     "execution_count": 150,
     "metadata": {},
     "output_type": "execute_result"
    }
   ],
   "source": [
    "@time nash_env = nashprox(4000, 10, 100)\n",
    "nash_env = unique(nash_env)\n",
    "#inds_nash = [id_no[ff] for ff in nash_env];\n",
    "#length(inds_nash)\n",
    "n_nash = length(nash_env)"
   ]
  },
  {
   "cell_type": "code",
   "execution_count": 151,
   "id": "84a8035a",
   "metadata": {
    "scrolled": false
   },
   "outputs": [],
   "source": [
    "# Verify 3-explotability\n",
    "for i in 1:1000\n",
    "    #inds = sort([rand(inds_nash) for i in 1:3])\n",
    "    #rt = library[inds]\n",
    "    rt = random_team(() -> rand(nash_env), 3)\n",
    "    ff = pick_best_library(rt)\n",
    "    ev = eval_battle_list(ff, rt)\n",
    "    if ev < 3\n",
    "        println(rt)\n",
    "    end\n",
    "end\n"
   ]
  },
  {
   "cell_type": "code",
   "execution_count": 152,
   "id": "9f5eced7",
   "metadata": {
    "scrolled": false
   },
   "outputs": [
    {
     "name": "stdout",
     "output_type": "stream",
     "text": [
      "Spud[Spud(\"\", 6, 3, 9, 5, 3, 1), Spud(\"\", 7, 9, 1, 3, 1, 2), Spud(\"\", 15, 5, 2, 1, 1, 2), Spud(\"\", 12, 1, 6, 1, 8, 6)]\n",
      "2\n",
      "Spud[Spud(\"\", 11, 6, 2, 3, 1, 1), Spud(\"\", 2, 10, 3, 4, 3, 2), Spud(\"\", 10, 3, 5, 1, 4, 4), Spud(\"\", 5, 1, 14, 5, 4, 3)]\n",
      "2\n"
     ]
    }
   ],
   "source": [
    "# Verify 4-explotability\n",
    "for i in 1:1000\n",
    "    #inds = sort([rand(inds_nash) for i in 1:3])\n",
    "    #rt = library[inds]\n",
    "    rt = random_team(() -> rand(nash_env), 4)\n",
    "    ff = pick_best_library(rt)\n",
    "    ev = eval_battle_list(ff, rt)\n",
    "    if ev < 4\n",
    "        println(rt)\n",
    "        println(ev)\n",
    "    end\n",
    "end\n"
   ]
  },
  {
   "cell_type": "code",
   "execution_count": 103,
   "id": "e417b44a",
   "metadata": {},
   "outputs": [],
   "source": [
    "#inds = sort([rand(1:n_spuds) for i in 1:5])\n",
    "#rt = library[inds]"
   ]
  },
  {
   "cell_type": "code",
   "execution_count": 104,
   "id": "a49d058e",
   "metadata": {},
   "outputs": [],
   "source": [
    "# rt = library[[1403,1902,2283,2397]]\n",
    "# rt"
   ]
  },
  {
   "cell_type": "code",
   "execution_count": 105,
   "id": "b8cbb659",
   "metadata": {},
   "outputs": [],
   "source": [
    "# ff = pick_best(library, rt)\n",
    "# ind = [i for i in 1:n_spuds if library[i] == ff][1]\n",
    "# print(ff)\n",
    "# print(\" \")\n",
    "# eval_battle_list(ff, rt)"
   ]
  },
  {
   "cell_type": "markdown",
   "id": "68e3cf22",
   "metadata": {},
   "source": [
    "## Fictitious Play to compute Nash distribution"
   ]
  },
  {
   "cell_type": "code",
   "execution_count": 135,
   "id": "ada1403f",
   "metadata": {},
   "outputs": [],
   "source": [
    "@time nash_env = nashprox(4000, 10, 100)\n",
    "nash_env = unique(nash_env)\n",
    "#inds_nash = [id_no[ff] for ff in nash_env];\n",
    "#length(inds_nash)\n",
    "n_nash = length(nash_env)"
   ]
  },
  {
   "cell_type": "code",
   "execution_count": null,
   "id": "0d3e042b",
   "metadata": {},
   "outputs": [],
   "source": []
  },
  {
   "cell_type": "code",
   "execution_count": 153,
   "id": "78baa903",
   "metadata": {},
   "outputs": [],
   "source": [
    "i_lose = Array{Int}(undef, (n_nash, n_nash))\n",
    "n_lose = Array{Int}(undef, n_nash)\n",
    "for i in 1:n_nash\n",
    "    n_lose[i] = 0\n",
    "    ff = nash_env[i]\n",
    "    for j in 1:n_nash\n",
    "        if eval_battle(ff, nash_env[j]) ==-1\n",
    "            n_lose[i] += 1\n",
    "            i_lose[i, n_lose[i]] = j\n",
    "        end\n",
    "    end\n",
    "end"
   ]
  },
  {
   "cell_type": "code",
   "execution_count": 154,
   "id": "63d2b34e",
   "metadata": {},
   "outputs": [],
   "source": [
    "# initialize FP with 1 of each\n",
    "counts = [0 for i in 1:n_nash]\n",
    "wins = [0 for i in 1:n_nash]\n",
    "for i in 1:n_nash\n",
    "    counts[i] += 1\n",
    "    for j in 1:n_lose[i]\n",
    "        i_w = i_lose[i, j]\n",
    "        wins[i_w]+= 1\n",
    "    end\n",
    "end"
   ]
  },
  {
   "cell_type": "code",
   "execution_count": 155,
   "id": "b9ee5863",
   "metadata": {
    "scrolled": false
   },
   "outputs": [
    {
     "name": "stdout",
     "output_type": "stream",
     "text": [
      "Spud(\"\", 9, 10, 1, 1, 1, 1) n:2 w:1035\n",
      "Spud(\"\", 13, 6, 2, 1, 1, 1) n:235 w:10618\n",
      "Spud(\"\", 9, 7, 4, 1, 1, 1) n:90 w:20654\n",
      "Spud(\"\", 15, 1, 6, 3, 1, 2) n:565 w:30681\n",
      "Spud(\"\", 1, 7, 1, 1, 6, 7) n:266 w:40725\n",
      "Spud(\"\", 5, 11, 1, 2, 2, 2) n:356 w:50746\n",
      "Spud(\"\", 2, 9, 2, 5, 4, 1) n:272 w:60757\n",
      "Spud(\"\", 1, 7, 1, 8, 1, 5) n:632 w:70831\n",
      "Spud(\"\", 2, 14, 1, 3, 1, 3) n:596 w:80868\n",
      "Spud(\"\", 3, 6, 10, 5, 1, 3) n:1513 w:90906\n",
      "Spud(\"\", 5, 4, 9, 2, 5, 2) n:288 w:100925\n",
      "Spud(\"\", 6, 11, 1, 3, 1, 1) n:1317 w:110944\n",
      "Spud(\"\", 5, 4, 8, 6, 3, 1) n:318 w:120973\n",
      "Spud(\"\", 6, 13, 2, 1, 1, 1) n:3551 w:131027\n",
      "Spud(\"\", 7, 10, 1, 1, 2, 2) n:838 w:141075\n",
      "Spud(\"\", 10, 1, 8, 3, 2, 5) n:750 w:151124\n",
      "Spud(\"\", 2, 4, 14, 8, 1, 4) n:1200 w:161191\n",
      "Spud(\"\", 4, 2, 14, 4, 3, 5) n:1234 w:171225\n",
      "Spud(\"\", 9, 1, 10, 1, 1, 2) n:7296 w:181302\n",
      "Spud(\"\", 1, 13, 4, 4, 1, 3) n:1101 w:191329\n",
      "Spud(\"\", 9, 3, 5, 1, 5, 5) n:1149 w:201353\n",
      "Spud(\"\", 13, 5, 2, 1, 3, 2) n:1581 w:211379\n",
      "Spud(\"\", 13, 5, 2, 3, 1, 2) n:3510 w:221392\n",
      "Spud(\"\", 12, 1, 7, 3, 1, 4) n:979 w:231451\n",
      "Spud(\"\", 8, 6, 3, 1, 3, 3) n:3816 w:241457\n",
      "Spud(\"\", 7, 1, 12, 1, 2, 3) n:1788 w:251493\n",
      "Spud(\"\", 7, 1, 12, 3, 1, 2) n:2535 w:261522\n",
      "Spud(\"\", 13, 1, 7, 2, 1, 2) n:7866 w:271584\n",
      "Spud(\"\", 2, 12, 1, 5, 2, 1) n:1131 w:281630\n",
      "Spud(\"\", 7, 10, 1, 2, 1, 2) n:2272 w:291661\n",
      "Spud(\"\", 5, 14, 1, 1, 1, 2) n:1517 w:301695\n",
      "Spud(\"\", 8, 10, 1, 2, 1, 1) n:4172 w:311700\n",
      "Spud(\"\", 5, 8, 1, 2, 4, 3) n:1684 w:321728\n",
      "Spud(\"\", 6, 1, 12, 6, 3, 3) n:171 w:331792\n",
      "Spud(\"\", 4, 6, 8, 4, 3, 1) n:3150 w:341822\n",
      "Spud(\"\", 5, 1, 14, 4, 6, 2) n:3932 w:351846\n",
      "Spud(\"\", 3, 3, 13, 6, 6, 1) n:901 w:361887\n",
      "Spud(\"\", 10, 8, 2, 1, 1, 1) n:4343 w:371915\n",
      "Spud(\"\", 15, 1, 6, 3, 1, 2) n:6964 w:381947\n",
      "Spud(\"\", 1, 9, 3, 1, 5, 5) n:624 w:391996\n",
      "Spud(\"\", 15, 1, 6, 2, 2, 2) n:7418 w:402030\n",
      "Spud(\"\", 9, 1, 10, 1, 1, 2) n:16585 w:412063\n",
      "Spud(\"\", 5, 11, 1, 1, 3, 2) n:7679 w:422085\n",
      "Spud(\"\", 10, 1, 9, 2, 1, 1) n:15671 w:432109\n",
      "Spud(\"\", 10, 8, 2, 1, 1, 1) n:5171 w:442154\n",
      "Spud(\"\", 9, 3, 5, 1, 5, 5) n:2596 w:452189\n",
      "Spud(\"\", 13, 1, 7, 1, 2, 2) n:1563 w:462212\n",
      "Spud(\"\", 2, 5, 12, 6, 1, 5) n:4271 w:472239\n",
      "Spud(\"\", 4, 2, 14, 7, 2, 3) n:2179 w:482259\n",
      "Spud(\"\", 9, 1, 10, 1, 1, 2) n:19817 w:492286\n",
      "0.014453318710425775\n"
     ]
    },
    {
     "data": {
      "text/plain": [
       "1010287"
      ]
     },
     "execution_count": 155,
     "metadata": {},
     "output_type": "execute_result"
    }
   ],
   "source": [
    "nits = 500000\n",
    "for iter in 1:nits\n",
    "    ind_winners = findall(wins .== maximum(wins))\n",
    "    for i in ind_winners\n",
    "        counts[i] += 1\n",
    "        for j in 1:n_lose[i]\n",
    "            i_w = i_lose[i, j]\n",
    "            wins[i_w]+= 1\n",
    "        end\n",
    "    end\n",
    "    if mod1(iter, 10000) == 1\n",
    "        mxv, mxi = findmax(wins)\n",
    "        print(nash_env[mxi])\n",
    "        print(\" n:\")\n",
    "        print(counts[mxi])\n",
    "        print(\" w:\")\n",
    "        print(wins[mxi])\n",
    "        println()\n",
    "    end\n",
    "end\n",
    "\n",
    "w = counts./sum(counts)\n",
    "println(maximum([eval_battle_list2(ff, nash_env, w) for ff in nash_env]))\n",
    "sum(counts)"
   ]
  },
  {
   "cell_type": "code",
   "execution_count": 156,
   "id": "a74a6b9d",
   "metadata": {},
   "outputs": [
    {
     "name": "stdout",
     "output_type": "stream",
     "text": [
      "Spud(\"\", 16, 1, 5, 5, 5, 1)\n"
     ]
    },
    {
     "data": {
      "text/plain": [
       "0.03152866462698188"
      ]
     },
     "execution_count": 156,
     "metadata": {},
     "output_type": "execute_result"
    }
   ],
   "source": [
    "ff = pick_best_library2(nash_env, w)\n",
    "println(ff)\n",
    "eval_battle_list2(ff, nash_env, w)"
   ]
  },
  {
   "cell_type": "code",
   "execution_count": 110,
   "id": "8a375193",
   "metadata": {},
   "outputs": [
    {
     "data": {
      "text/html": [
       "<div><div style = \"float: left;\"><span>500×8 DataFrame</span></div><div style = \"float: right;\"><span style = \"font-style: italic;\">475 rows omitted</span></div><div style = \"clear: both;\"></div></div><div class = \"data-frame\" style = \"overflow-x: scroll;\"><table class = \"data-frame\" style = \"margin-bottom: 6px;\"><thead><tr class = \"header\"><th class = \"rowNumber\" style = \"font-weight: bold; text-align: right;\">Row</th><th style = \"text-align: left;\">name</th><th style = \"text-align: left;\">h</th><th style = \"text-align: left;\">f</th><th style = \"text-align: left;\">l</th><th style = \"text-align: left;\">p</th><th style = \"text-align: left;\">r</th><th style = \"text-align: left;\">s</th><th style = \"text-align: left;\">w</th></tr><tr class = \"subheader headerLastRow\"><th class = \"rowNumber\" style = \"font-weight: bold; text-align: right;\"></th><th title = \"String\" style = \"text-align: left;\">String</th><th title = \"Int64\" style = \"text-align: left;\">Int64</th><th title = \"Int64\" style = \"text-align: left;\">Int64</th><th title = \"Int64\" style = \"text-align: left;\">Int64</th><th title = \"Int64\" style = \"text-align: left;\">Int64</th><th title = \"Int64\" style = \"text-align: left;\">Int64</th><th title = \"Int64\" style = \"text-align: left;\">Int64</th><th title = \"Float64\" style = \"text-align: left;\">Float64</th></tr></thead><tbody><tr><td class = \"rowNumber\" style = \"font-weight: bold; text-align: right;\">1</td><td style = \"text-align: left;\">#6705. Potato Strips w/ scallion</td><td style = \"text-align: right;\">8</td><td style = \"text-align: right;\">10</td><td style = \"text-align: right;\">1</td><td style = \"text-align: right;\">1</td><td style = \"text-align: right;\">2</td><td style = \"text-align: right;\">1</td><td style = \"text-align: right;\">0.0341574</td></tr><tr><td class = \"rowNumber\" style = \"font-weight: bold; text-align: right;\">2</td><td style = \"text-align: left;\">#2813. Helen&apos;s Chips</td><td style = \"text-align: right;\">6</td><td style = \"text-align: right;\">1</td><td style = \"text-align: right;\">14</td><td style = \"text-align: right;\">2</td><td style = \"text-align: right;\">1</td><td style = \"text-align: right;\">2</td><td style = \"text-align: right;\">0.0266422</td></tr><tr><td class = \"rowNumber\" style = \"font-weight: bold; text-align: right;\">3</td><td style = \"text-align: left;\">#9066. Potato Soup w/ scallion</td><td style = \"text-align: right;\">14</td><td style = \"text-align: right;\">5</td><td style = \"text-align: right;\">2</td><td style = \"text-align: right;\">1</td><td style = \"text-align: right;\">2</td><td style = \"text-align: right;\">2</td><td style = \"text-align: right;\">0.0256009</td></tr><tr><td class = \"rowNumber\" style = \"font-weight: bold; text-align: right;\">4</td><td style = \"text-align: left;\">#6499. Potato Soup w/ ketchup</td><td style = \"text-align: right;\">8</td><td style = \"text-align: right;\">1</td><td style = \"text-align: right;\">10</td><td style = \"text-align: right;\">5</td><td style = \"text-align: right;\">2</td><td style = \"text-align: right;\">2</td><td style = \"text-align: right;\">0.0237062</td></tr><tr><td class = \"rowNumber\" style = \"font-weight: bold; text-align: right;\">5</td><td style = \"text-align: left;\">#3007. Helen&apos;s Mashed Potato</td><td style = \"text-align: right;\">11</td><td style = \"text-align: right;\">1</td><td style = \"text-align: right;\">8</td><td style = \"text-align: right;\">3</td><td style = \"text-align: right;\">1</td><td style = \"text-align: right;\">2</td><td style = \"text-align: right;\">0.0213634</td></tr><tr><td class = \"rowNumber\" style = \"font-weight: bold; text-align: right;\">6</td><td style = \"text-align: left;\">#7179. Potato Soup w/ onion</td><td style = \"text-align: right;\">11</td><td style = \"text-align: right;\">4</td><td style = \"text-align: right;\">3</td><td style = \"text-align: right;\">5</td><td style = \"text-align: right;\">2</td><td style = \"text-align: right;\">2</td><td style = \"text-align: right;\">0.0200976</td></tr><tr><td class = \"rowNumber\" style = \"font-weight: bold; text-align: right;\">7</td><td style = \"text-align: left;\">#7309. Potato Soup w/ scallion</td><td style = \"text-align: right;\">14</td><td style = \"text-align: right;\">2</td><td style = \"text-align: right;\">5</td><td style = \"text-align: right;\">3</td><td style = \"text-align: right;\">2</td><td style = \"text-align: right;\">2</td><td style = \"text-align: right;\">0.0185596</td></tr><tr><td class = \"rowNumber\" style = \"font-weight: bold; text-align: right;\">8</td><td style = \"text-align: left;\">#3197. Potato Soup w/ scallion</td><td style = \"text-align: right;\">14</td><td style = \"text-align: right;\">3</td><td style = \"text-align: right;\">4</td><td style = \"text-align: right;\">3</td><td style = \"text-align: right;\">1</td><td style = \"text-align: right;\">2</td><td style = \"text-align: right;\">0.0179148</td></tr><tr><td class = \"rowNumber\" style = \"font-weight: bold; text-align: right;\">9</td><td style = \"text-align: left;\">#307. Baked Potato w/ onion</td><td style = \"text-align: right;\">3</td><td style = \"text-align: right;\">15</td><td style = \"text-align: right;\">3</td><td style = \"text-align: right;\">2</td><td style = \"text-align: right;\">2</td><td style = \"text-align: right;\">1</td><td style = \"text-align: right;\">0.0172551</td></tr><tr><td class = \"rowNumber\" style = \"font-weight: bold; text-align: right;\">10</td><td style = \"text-align: left;\">#3732. Enlightened Tater Tots</td><td style = \"text-align: right;\">4</td><td style = \"text-align: right;\">6</td><td style = \"text-align: right;\">11</td><td style = \"text-align: right;\">3</td><td style = \"text-align: right;\">1</td><td style = \"text-align: right;\">2</td><td style = \"text-align: right;\">0.0170325</td></tr><tr><td class = \"rowNumber\" style = \"font-weight: bold; text-align: right;\">11</td><td style = \"text-align: left;\">#3123. Potato Soup w/ scallion</td><td style = \"text-align: right;\">12</td><td style = \"text-align: right;\">3</td><td style = \"text-align: right;\">4</td><td style = \"text-align: right;\">4</td><td style = \"text-align: right;\">3</td><td style = \"text-align: right;\">2</td><td style = \"text-align: right;\">0.0166083</td></tr><tr><td class = \"rowNumber\" style = \"font-weight: bold; text-align: right;\">12</td><td style = \"text-align: left;\">#3006. Helen&apos;s Potato Soup</td><td style = \"text-align: right;\">11</td><td style = \"text-align: right;\">1</td><td style = \"text-align: right;\">8</td><td style = \"text-align: right;\">2</td><td style = \"text-align: right;\">1</td><td style = \"text-align: right;\">3</td><td style = \"text-align: right;\">0.0141492</td></tr><tr><td class = \"rowNumber\" style = \"font-weight: bold; text-align: right;\">13</td><td style = \"text-align: left;\">#13888. Wrestler Baked Potato</td><td style = \"text-align: right;\">1</td><td style = \"text-align: right;\">7</td><td style = \"text-align: right;\">1</td><td style = \"text-align: right;\">7</td><td style = \"text-align: right;\">1</td><td style = \"text-align: right;\">6</td><td style = \"text-align: right;\">0.0134408</td></tr><tr><td style = \"text-align: right;\">&vellip;</td><td style = \"text-align: right;\">&vellip;</td><td style = \"text-align: right;\">&vellip;</td><td style = \"text-align: right;\">&vellip;</td><td style = \"text-align: right;\">&vellip;</td><td style = \"text-align: right;\">&vellip;</td><td style = \"text-align: right;\">&vellip;</td><td style = \"text-align: right;\">&vellip;</td><td style = \"text-align: right;\">&vellip;</td></tr><tr><td class = \"rowNumber\" style = \"font-weight: bold; text-align: right;\">489</td><td style = \"text-align: left;\">#595. Sneaky Raw Potato</td><td style = \"text-align: right;\">10</td><td style = \"text-align: right;\">2</td><td style = \"text-align: right;\">5</td><td style = \"text-align: right;\">3</td><td style = \"text-align: right;\">7</td><td style = \"text-align: right;\">5</td><td style = \"text-align: right;\">9.93555e-7</td></tr><tr><td class = \"rowNumber\" style = \"font-weight: bold; text-align: right;\">490</td><td style = \"text-align: left;\">#596. Sneaky Potato Soup</td><td style = \"text-align: right;\">10</td><td style = \"text-align: right;\">2</td><td style = \"text-align: right;\">5</td><td style = \"text-align: right;\">3</td><td style = \"text-align: right;\">10</td><td style = \"text-align: right;\">2</td><td style = \"text-align: right;\">9.93555e-7</td></tr><tr><td class = \"rowNumber\" style = \"font-weight: bold; text-align: right;\">491</td><td style = \"text-align: left;\">#597. Dangerous Potato Soup</td><td style = \"text-align: right;\">10</td><td style = \"text-align: right;\">2</td><td style = \"text-align: right;\">5</td><td style = \"text-align: right;\">4</td><td style = \"text-align: right;\">2</td><td style = \"text-align: right;\">9</td><td style = \"text-align: right;\">9.93555e-7</td></tr><tr><td class = \"rowNumber\" style = \"font-weight: bold; text-align: right;\">492</td><td style = \"text-align: left;\">#598. Sneaky Raw Potato</td><td style = \"text-align: right;\">10</td><td style = \"text-align: right;\">2</td><td style = \"text-align: right;\">5</td><td style = \"text-align: right;\">4</td><td style = \"text-align: right;\">6</td><td style = \"text-align: right;\">5</td><td style = \"text-align: right;\">9.93555e-7</td></tr><tr><td class = \"rowNumber\" style = \"font-weight: bold; text-align: right;\">493</td><td style = \"text-align: left;\">#599. Aquatic Potato Soup</td><td style = \"text-align: right;\">10</td><td style = \"text-align: right;\">2</td><td style = \"text-align: right;\">5</td><td style = \"text-align: right;\">4</td><td style = \"text-align: right;\">7</td><td style = \"text-align: right;\">4</td><td style = \"text-align: right;\">9.93555e-7</td></tr><tr><td class = \"rowNumber\" style = \"font-weight: bold; text-align: right;\">494</td><td style = \"text-align: left;\">#600. Criminal Mashed Potato</td><td style = \"text-align: right;\">10</td><td style = \"text-align: right;\">2</td><td style = \"text-align: right;\">5</td><td style = \"text-align: right;\">6</td><td style = \"text-align: right;\">4</td><td style = \"text-align: right;\">5</td><td style = \"text-align: right;\">9.93555e-7</td></tr><tr><td class = \"rowNumber\" style = \"font-weight: bold; text-align: right;\">495</td><td style = \"text-align: left;\">#601. Sneaky Raw Potato w/ scallion</td><td style = \"text-align: right;\">10</td><td style = \"text-align: right;\">2</td><td style = \"text-align: right;\">5</td><td style = \"text-align: right;\">6</td><td style = \"text-align: right;\">6</td><td style = \"text-align: right;\">3</td><td style = \"text-align: right;\">9.93555e-7</td></tr><tr><td class = \"rowNumber\" style = \"font-weight: bold; text-align: right;\">496</td><td style = \"text-align: left;\">#602. Sneaky Raw Potato</td><td style = \"text-align: right;\">10</td><td style = \"text-align: right;\">2</td><td style = \"text-align: right;\">5</td><td style = \"text-align: right;\">6</td><td style = \"text-align: right;\">7</td><td style = \"text-align: right;\">2</td><td style = \"text-align: right;\">9.93555e-7</td></tr><tr><td class = \"rowNumber\" style = \"font-weight: bold; text-align: right;\">497</td><td style = \"text-align: left;\">#603. Underground Mashed Potato</td><td style = \"text-align: right;\">10</td><td style = \"text-align: right;\">2</td><td style = \"text-align: right;\">5</td><td style = \"text-align: right;\">7</td><td style = \"text-align: right;\">4</td><td style = \"text-align: right;\">4</td><td style = \"text-align: right;\">9.93555e-7</td></tr><tr><td class = \"rowNumber\" style = \"font-weight: bold; text-align: right;\">498</td><td style = \"text-align: left;\">#604. Criminal Potato Strips</td><td style = \"text-align: right;\">10</td><td style = \"text-align: right;\">2</td><td style = \"text-align: right;\">5</td><td style = \"text-align: right;\">7</td><td style = \"text-align: right;\">6</td><td style = \"text-align: right;\">2</td><td style = \"text-align: right;\">9.93555e-7</td></tr><tr><td class = \"rowNumber\" style = \"font-weight: bold; text-align: right;\">499</td><td style = \"text-align: left;\">#605. Criminal Raw Potato</td><td style = \"text-align: right;\">10</td><td style = \"text-align: right;\">2</td><td style = \"text-align: right;\">5</td><td style = \"text-align: right;\">8</td><td style = \"text-align: right;\">2</td><td style = \"text-align: right;\">5</td><td style = \"text-align: right;\">9.93555e-7</td></tr><tr><td class = \"rowNumber\" style = \"font-weight: bold; text-align: right;\">500</td><td style = \"text-align: left;\">#606. Criminal Potato Strips</td><td style = \"text-align: right;\">10</td><td style = \"text-align: right;\">2</td><td style = \"text-align: right;\">5</td><td style = \"text-align: right;\">8</td><td style = \"text-align: right;\">4</td><td style = \"text-align: right;\">3</td><td style = \"text-align: right;\">9.93555e-7</td></tr></tbody></table></div>"
      ],
      "text/latex": [
       "\\begin{tabular}{r|cccccccc}\n",
       "\t& name & h & f & l & p & r & s & \\\\\n",
       "\t\\hline\n",
       "\t& String & Int64 & Int64 & Int64 & Int64 & Int64 & Int64 & \\\\\n",
       "\t\\hline\n",
       "\t1 & \\#6705. Potato Strips w/ scallion & 8 & 10 & 1 & 1 & 2 & 1 & $\\dots$ \\\\\n",
       "\t2 & \\#2813. Helen's Chips & 6 & 1 & 14 & 2 & 1 & 2 & $\\dots$ \\\\\n",
       "\t3 & \\#9066. Potato Soup w/ scallion & 14 & 5 & 2 & 1 & 2 & 2 & $\\dots$ \\\\\n",
       "\t4 & \\#6499. Potato Soup w/ ketchup & 8 & 1 & 10 & 5 & 2 & 2 & $\\dots$ \\\\\n",
       "\t5 & \\#3007. Helen's Mashed Potato & 11 & 1 & 8 & 3 & 1 & 2 & $\\dots$ \\\\\n",
       "\t6 & \\#7179. Potato Soup w/ onion & 11 & 4 & 3 & 5 & 2 & 2 & $\\dots$ \\\\\n",
       "\t7 & \\#7309. Potato Soup w/ scallion & 14 & 2 & 5 & 3 & 2 & 2 & $\\dots$ \\\\\n",
       "\t8 & \\#3197. Potato Soup w/ scallion & 14 & 3 & 4 & 3 & 1 & 2 & $\\dots$ \\\\\n",
       "\t9 & \\#307. Baked Potato w/ onion & 3 & 15 & 3 & 2 & 2 & 1 & $\\dots$ \\\\\n",
       "\t10 & \\#3732. Enlightened Tater Tots & 4 & 6 & 11 & 3 & 1 & 2 & $\\dots$ \\\\\n",
       "\t11 & \\#3123. Potato Soup w/ scallion & 12 & 3 & 4 & 4 & 3 & 2 & $\\dots$ \\\\\n",
       "\t12 & \\#3006. Helen's Potato Soup & 11 & 1 & 8 & 2 & 1 & 3 & $\\dots$ \\\\\n",
       "\t13 & \\#13888. Wrestler Baked Potato & 1 & 7 & 1 & 7 & 1 & 6 & $\\dots$ \\\\\n",
       "\t14 & \\#8836. Helen's French Fries & 7 & 1 & 12 & 2 & 2 & 2 & $\\dots$ \\\\\n",
       "\t15 & \\#11915. Criminal Potato Soup & 14 & 1 & 6 & 2 & 3 & 4 & $\\dots$ \\\\\n",
       "\t16 & \\#5918. Potato Strips w/ onion & 6 & 12 & 1 & 1 & 2 & 1 & $\\dots$ \\\\\n",
       "\t17 & \\#14502. Friendly Mashed Potato & 4 & 5 & 8 & 1 & 5 & 4 & $\\dots$ \\\\\n",
       "\t18 & \\#3763. Potato Strips w/ onion & 4 & 11 & 3 & 3 & 1 & 2 & $\\dots$ \\\\\n",
       "\t19 & \\#2240. Criminal Mashed Potato & 10 & 3 & 5 & 5 & 3 & 1 & $\\dots$ \\\\\n",
       "\t20 & \\#6703. Mashed Potato w/ onion & 8 & 9 & 1 & 1 & 2 & 2 & $\\dots$ \\\\\n",
       "\t21 & \\#2042. Potato Soup w/ scallion & 11 & 6 & 3 & 1 & 1 & 1 & $\\dots$ \\\\\n",
       "\t22 & \\#12901. French Fries w/ onion & 2 & 9 & 2 & 2 & 4 & 4 & $\\dots$ \\\\\n",
       "\t23 & \\#1820. Enlightened Tater Tots w/ onion & 3 & 10 & 8 & 4 & 1 & 1 & $\\dots$ \\\\\n",
       "\t24 & \\#3711. Baked Potato w/ onion & 3 & 11 & 3 & 3 & 2 & 2 & $\\dots$ \\\\\n",
       "\t25 & \\#4537. Baked Potato w/ onion & 2 & 12 & 1 & 4 & 3 & 1 & $\\dots$ \\\\\n",
       "\t26 & \\#14521. Friendly Mashed Potato & 4 & 6 & 8 & 1 & 4 & 3 & $\\dots$ \\\\\n",
       "\t27 & \\#3097. Charles' Potato Soup & 12 & 1 & 7 & 4 & 1 & 3 & $\\dots$ \\\\\n",
       "\t28 & \\#8360. Chips w/ onion & 2 & 8 & 9 & 5 & 2 & 2 & $\\dots$ \\\\\n",
       "\t29 & \\#7263. Helen's Potato Soup & 14 & 1 & 6 & 5 & 2 & 2 & $\\dots$ \\\\\n",
       "\t30 & \\#6653. Helen's Mashed Potato & 8 & 3 & 7 & 5 & 2 & 1 & $\\dots$ \\\\\n",
       "\t$\\dots$ & $\\dots$ & $\\dots$ & $\\dots$ & $\\dots$ & $\\dots$ & $\\dots$ & $\\dots$ &  \\\\\n",
       "\\end{tabular}\n"
      ],
      "text/plain": [
       "\u001b[1m500×8 DataFrame\u001b[0m\n",
       "\u001b[1m Row \u001b[0m│\u001b[1m name                              \u001b[0m\u001b[1m h     \u001b[0m\u001b[1m f     \u001b[0m\u001b[1m l     \u001b[0m\u001b[1m p     \u001b[0m\u001b[1m r     \u001b[0m\u001b[1m s\u001b[0m ⋯\n",
       "     │\u001b[90m String                            \u001b[0m\u001b[90m Int64 \u001b[0m\u001b[90m Int64 \u001b[0m\u001b[90m Int64 \u001b[0m\u001b[90m Int64 \u001b[0m\u001b[90m Int64 \u001b[0m\u001b[90m I\u001b[0m ⋯\n",
       "─────┼──────────────────────────────────────────────────────────────────────────\n",
       "   1 │ #6705. Potato Strips w/ scallion       8     10      1      1      2    ⋯\n",
       "   2 │ #2813. Helen's Chips                   6      1     14      2      1\n",
       "   3 │ #9066. Potato Soup w/ scallion        14      5      2      1      2\n",
       "   4 │ #6499. Potato Soup w/ ketchup          8      1     10      5      2\n",
       "   5 │ #3007. Helen's Mashed Potato          11      1      8      3      1    ⋯\n",
       "   6 │ #7179. Potato Soup w/ onion           11      4      3      5      2\n",
       "   7 │ #7309. Potato Soup w/ scallion        14      2      5      3      2\n",
       "   8 │ #3197. Potato Soup w/ scallion        14      3      4      3      1\n",
       "   9 │ #307. Baked Potato w/ onion            3     15      3      2      2    ⋯\n",
       "  10 │ #3732. Enlightened Tater Tots          4      6     11      3      1\n",
       "  11 │ #3123. Potato Soup w/ scallion        12      3      4      4      3\n",
       "  ⋮  │                 ⋮                    ⋮      ⋮      ⋮      ⋮      ⋮      ⋱\n",
       " 491 │ #597. Dangerous Potato Soup           10      2      5      4      2\n",
       " 492 │ #598. Sneaky Raw Potato               10      2      5      4      6    ⋯\n",
       " 493 │ #599. Aquatic Potato Soup             10      2      5      4      7\n",
       " 494 │ #600. Criminal Mashed Potato          10      2      5      6      4\n",
       " 495 │ #601. Sneaky Raw Potato w/ scall…     10      2      5      6      6\n",
       " 496 │ #602. Sneaky Raw Potato               10      2      5      6      7    ⋯\n",
       " 497 │ #603. Underground Mashed Potato       10      2      5      7      4\n",
       " 498 │ #604. Criminal Potato Strips          10      2      5      7      6\n",
       " 499 │ #605. Criminal Raw Potato             10      2      5      8      2\n",
       " 500 │ #606. Criminal Potato Strips          10      2      5      8      4    ⋯\n",
       "\u001b[36m                                                  2 columns and 479 rows omitted\u001b[0m"
      ]
     },
     "execution_count": 110,
     "metadata": {},
     "output_type": "execute_result"
    }
   ],
   "source": [
    "inds_sel = sortperm(-w)[1:500]\n",
    "tab = spuds_to_df(nash_env[inds_sel])\n",
    "tab[!, :w] = w[inds_sel]\n",
    "tab"
   ]
  },
  {
   "cell_type": "code",
   "execution_count": 111,
   "id": "539633b4",
   "metadata": {
    "scrolled": true
   },
   "outputs": [
    {
     "name": "stdout",
     "output_type": "stream",
     "text": [
      "\u001b[1m3×7 DataFrame\u001b[0m\n",
      "\u001b[1m Row \u001b[0m│\u001b[1m name                              \u001b[0m\u001b[1m h     \u001b[0m\u001b[1m f     \u001b[0m\u001b[1m l     \u001b[0m\u001b[1m p     \u001b[0m\u001b[1m r     \u001b[0m\u001b[1m s     \u001b[0m\n",
      "     │\u001b[90m String                            \u001b[0m\u001b[90m Int64 \u001b[0m\u001b[90m Int64 \u001b[0m\u001b[90m Int64 \u001b[0m\u001b[90m Int64 \u001b[0m\u001b[90m Int64 \u001b[0m\u001b[90m Int64 \u001b[0m\n",
      "─────┼─────────────────────────────────────────────────────────────────────────────\n",
      "   1 │ #2248. Sneaky Mashed Potato           11      3      4      1      5      4\n",
      "   2 │ #5770. Helen's Potato Bread w/ k…      6      2     10      7      3      1\n",
      "   3 │ #6951. Potato Soup w/ scallion        10      7      1      3      2      1\n",
      "[0.007680178680897021, 0.00268458509647914, 0.0082961826630647]\n",
      "1\n",
      "\u001b[1m3×7 DataFrame\u001b[0m\n",
      "\u001b[1m Row \u001b[0m│\u001b[1m name                          \u001b[0m\u001b[1m h     \u001b[0m\u001b[1m f     \u001b[0m\u001b[1m l     \u001b[0m\u001b[1m p     \u001b[0m\u001b[1m r     \u001b[0m\u001b[1m s     \u001b[0m\n",
      "     │\u001b[90m String                        \u001b[0m\u001b[90m Int64 \u001b[0m\u001b[90m Int64 \u001b[0m\u001b[90m Int64 \u001b[0m\u001b[90m Int64 \u001b[0m\u001b[90m Int64 \u001b[0m\u001b[90m Int64 \u001b[0m\n",
      "─────┼─────────────────────────────────────────────────────────────────────────\n",
      "   1 │ #1764. Friendly Tater Tots         3      3     12      1      7      6\n",
      "   2 │ #3097. Charles' Potato Soup       12      1      7      4      1      3\n",
      "   3 │ #6703. Mashed Potato w/ onion      8      9      1      1      2      2\n",
      "[0.005475480557622702, 0.010405499524584024, 0.011908747952035148]\n",
      "1\n",
      "\u001b[1m3×7 DataFrame\u001b[0m\n",
      "\u001b[1m Row \u001b[0m│\u001b[1m name                           \u001b[0m\u001b[1m h     \u001b[0m\u001b[1m f     \u001b[0m\u001b[1m l     \u001b[0m\u001b[1m p     \u001b[0m\u001b[1m r     \u001b[0m\u001b[1m s     \u001b[0m\n",
      "     │\u001b[90m String                         \u001b[0m\u001b[90m Int64 \u001b[0m\u001b[90m Int64 \u001b[0m\u001b[90m Int64 \u001b[0m\u001b[90m Int64 \u001b[0m\u001b[90m Int64 \u001b[0m\u001b[90m Int64 \u001b[0m\n",
      "─────┼──────────────────────────────────────────────────────────────────────────\n",
      "   1 │ #1813. Potato Strips w/ onion       3      9      2      4      1      4\n",
      "   2 │ #8836. Helen's French Fries         7      1     12      2      2      2\n",
      "   3 │ #9066. Potato Soup w/ scallion     14      5      2      1      2      2\n",
      "[0.004583268338289516, 0.013420938372775804, 0.02560092678792672]\n",
      "1\n",
      "\u001b[1m3×7 DataFrame\u001b[0m\n",
      "\u001b[1m Row \u001b[0m│\u001b[1m name                           \u001b[0m\u001b[1m h     \u001b[0m\u001b[1m f     \u001b[0m\u001b[1m l     \u001b[0m\u001b[1m p     \u001b[0m\u001b[1m r     \u001b[0m\u001b[1m s     \u001b[0m\n",
      "     │\u001b[90m String                         \u001b[0m\u001b[90m Int64 \u001b[0m\u001b[90m Int64 \u001b[0m\u001b[90m Int64 \u001b[0m\u001b[90m Int64 \u001b[0m\u001b[90m Int64 \u001b[0m\u001b[90m Int64 \u001b[0m\n",
      "─────┼──────────────────────────────────────────────────────────────────────────\n",
      "   1 │ #3122. Sneaky Mashed Potato        12      3      4      3      4      2\n",
      "   2 │ #6951. Potato Soup w/ scallion     10      7      1      3      2      1\n",
      "   3 │ #13017. Charles' Potato Soup        7      1     11      2      4      4\n",
      "[0.0030323292799608937, 0.0082961826630647, 0.005393015508397029]\n",
      "1\n",
      "\u001b[1m3×7 DataFrame\u001b[0m\n",
      "\u001b[1m Row \u001b[0m│\u001b[1m name                              \u001b[0m\u001b[1m h     \u001b[0m\u001b[1m f     \u001b[0m\u001b[1m l     \u001b[0m\u001b[1m p     \u001b[0m\u001b[1m r     \u001b[0m\u001b[1m s     \u001b[0m\n",
      "     │\u001b[90m String                            \u001b[0m\u001b[90m Int64 \u001b[0m\u001b[90m Int64 \u001b[0m\u001b[90m Int64 \u001b[0m\u001b[90m Int64 \u001b[0m\u001b[90m Int64 \u001b[0m\u001b[90m Int64 \u001b[0m\n",
      "─────┼─────────────────────────────────────────────────────────────────────────────\n",
      "   1 │ #430. Helen's Potato Bread             5      2     12      7      2      2\n",
      "   2 │ #3097. Charles' Potato Soup           12      1      7      4      1      3\n",
      "   3 │ #4691. Devious Potato Soup w/ sc…     10      6      1      4      3      1\n",
      "[0.004530609933362279, 0.010405499524584024, 0.004945915843920488]\n",
      "1\n",
      "\u001b[1m3×7 DataFrame\u001b[0m\n",
      "\u001b[1m Row \u001b[0m│\u001b[1m name                           \u001b[0m\u001b[1m h     \u001b[0m\u001b[1m f     \u001b[0m\u001b[1m l     \u001b[0m\u001b[1m p     \u001b[0m\u001b[1m r     \u001b[0m\u001b[1m s     \u001b[0m\n",
      "     │\u001b[90m String                         \u001b[0m\u001b[90m Int64 \u001b[0m\u001b[90m Int64 \u001b[0m\u001b[90m Int64 \u001b[0m\u001b[90m Int64 \u001b[0m\u001b[90m Int64 \u001b[0m\u001b[90m Int64 \u001b[0m\n",
      "─────┼──────────────────────────────────────────────────────────────────────────\n",
      "   1 │ #4437. Baked Potato w/ onion        1     12      1      3      3      3\n",
      "   2 │ #6951. Potato Soup w/ scallion     10      7      1      3      2      1\n",
      "   3 │ #10984. Helen's Home Fries          7      2      9      5      3      2\n",
      "[0.0071744592826335565, 0.0082961826630647, 0.007105904000747153]\n",
      "1\n",
      "\u001b[1m3×7 DataFrame\u001b[0m\n",
      "\u001b[1m Row \u001b[0m│\u001b[1m name                              \u001b[0m\u001b[1m h     \u001b[0m\u001b[1m f     \u001b[0m\u001b[1m l     \u001b[0m\u001b[1m p     \u001b[0m\u001b[1m r     \u001b[0m\u001b[1m s     \u001b[0m\n",
      "     │\u001b[90m String                            \u001b[0m\u001b[90m Int64 \u001b[0m\u001b[90m Int64 \u001b[0m\u001b[90m Int64 \u001b[0m\u001b[90m Int64 \u001b[0m\u001b[90m Int64 \u001b[0m\u001b[90m Int64 \u001b[0m\n",
      "─────┼─────────────────────────────────────────────────────────────────────────────\n",
      "   1 │ #3122. Sneaky Mashed Potato           12      3      4      3      4      2\n",
      "   2 │ #5770. Helen's Potato Bread w/ k…      6      2     10      7      3      1\n",
      "   3 │ #6951. Potato Soup w/ scallion        10      7      1      3      2      1\n",
      "[0.0030323292799608937, 0.00268458509647914, 0.0082961826630647]\n",
      "1\n",
      "\u001b[1m3×7 DataFrame\u001b[0m\n",
      "\u001b[1m Row \u001b[0m│\u001b[1m name                           \u001b[0m\u001b[1m h     \u001b[0m\u001b[1m f     \u001b[0m\u001b[1m l     \u001b[0m\u001b[1m p     \u001b[0m\u001b[1m r     \u001b[0m\u001b[1m s     \u001b[0m\n",
      "     │\u001b[90m String                         \u001b[0m\u001b[90m Int64 \u001b[0m\u001b[90m Int64 \u001b[0m\u001b[90m Int64 \u001b[0m\u001b[90m Int64 \u001b[0m\u001b[90m Int64 \u001b[0m\u001b[90m Int64 \u001b[0m\n",
      "─────┼──────────────────────────────────────────────────────────────────────────\n",
      "   1 │ #3136. Potato Soup w/ scallion     12      6      2      2      1      1\n",
      "   2 │ #4525. Baked Potato w/ onion        2      9      2      5      4      1\n",
      "   3 │ #13017. Charles' Potato Soup        7      1     11      2      4      4\n",
      "[0.00583514739882383, 0.005651339758983474, 0.005393015508397029]\n",
      "1\n",
      "\u001b[1m3×7 DataFrame\u001b[0m\n",
      "\u001b[1m Row \u001b[0m│\u001b[1m name                              \u001b[0m\u001b[1m h     \u001b[0m\u001b[1m f     \u001b[0m\u001b[1m l     \u001b[0m\u001b[1m p     \u001b[0m\u001b[1m r     \u001b[0m\u001b[1m s     \u001b[0m\n",
      "     │\u001b[90m String                            \u001b[0m\u001b[90m Int64 \u001b[0m\u001b[90m Int64 \u001b[0m\u001b[90m Int64 \u001b[0m\u001b[90m Int64 \u001b[0m\u001b[90m Int64 \u001b[0m\u001b[90m Int64 \u001b[0m\n",
      "─────┼─────────────────────────────────────────────────────────────────────────────\n",
      "   1 │ #6499. Potato Soup w/ ketchup          8      1     10      5      2      2\n",
      "   2 │ #9066. Potato Soup w/ scallion        14      5      2      1      2      2\n",
      "   3 │ #14881. Angry Mashed Potato w/ s…      6      8      1      1      4      3\n",
      "[0.023706217765356134, 0.02560092678792672, 0.006316027926838598]\n",
      "1\n",
      "\u001b[1m3×7 DataFrame\u001b[0m\n",
      "\u001b[1m Row \u001b[0m│\u001b[1m name                          \u001b[0m\u001b[1m h     \u001b[0m\u001b[1m f     \u001b[0m\u001b[1m l     \u001b[0m\u001b[1m p     \u001b[0m\u001b[1m r     \u001b[0m\u001b[1m s     \u001b[0m\n",
      "     │\u001b[90m String                        \u001b[0m\u001b[90m Int64 \u001b[0m\u001b[90m Int64 \u001b[0m\u001b[90m Int64 \u001b[0m\u001b[90m Int64 \u001b[0m\u001b[90m Int64 \u001b[0m\u001b[90m Int64 \u001b[0m\n",
      "─────┼─────────────────────────────────────────────────────────────────────────\n",
      "   1 │ #2240. Criminal Mashed Potato     10      3      5      5      3      1\n",
      "   2 │ #10840. Helen's Tater Tots         7      1     11      3      3      4\n",
      "   3 │ #14737. Hungry Potato Strips       5      8      1      1      5      3\n",
      "[0.011917689945324678, 0.009455661126273862, 0.00849191296062443]\n",
      "1\n",
      "\u001b[1m3×7 DataFrame\u001b[0m\n",
      "\u001b[1m Row \u001b[0m│\u001b[1m name                           \u001b[0m\u001b[1m h     \u001b[0m\u001b[1m f     \u001b[0m\u001b[1m l     \u001b[0m\u001b[1m p     \u001b[0m\u001b[1m r     \u001b[0m\u001b[1m s     \u001b[0m\n",
      "     │\u001b[90m String                         \u001b[0m\u001b[90m Int64 \u001b[0m\u001b[90m Int64 \u001b[0m\u001b[90m Int64 \u001b[0m\u001b[90m Int64 \u001b[0m\u001b[90m Int64 \u001b[0m\u001b[90m Int64 \u001b[0m\n",
      "─────┼──────────────────────────────────────────────────────────────────────────\n",
      "   1 │ #3033. Potato Soup w/ scallion     11      3      4      4      3      3\n",
      "   2 │ #6951. Potato Soup w/ scallion     10      7      1      3      2      1\n",
      "   3 │ #10840. Helen's Tater Tots          7      1     11      3      3      4\n",
      "[0.0032995955238368704, 0.0082961826630647, 0.009455661126273862]\n",
      "1\n",
      "\u001b[1m3×7 DataFrame\u001b[0m\n",
      "\u001b[1m Row \u001b[0m│\u001b[1m name                             \u001b[0m\u001b[1m h     \u001b[0m\u001b[1m f     \u001b[0m\u001b[1m l     \u001b[0m\u001b[1m p     \u001b[0m\u001b[1m r     \u001b[0m\u001b[1m s     \u001b[0m\n",
      "     │\u001b[90m String                           \u001b[0m\u001b[90m Int64 \u001b[0m\u001b[90m Int64 \u001b[0m\u001b[90m Int64 \u001b[0m\u001b[90m Int64 \u001b[0m\u001b[90m Int64 \u001b[0m\u001b[90m Int64 \u001b[0m\n",
      "─────┼────────────────────────────────────────────────────────────────────────────\n",
      "   1 │ #3007. Helen's Mashed Potato         11      1      8      3      1      2\n",
      "   2 │ #6705. Potato Strips w/ scallion      8     10      1      1      2      1\n",
      "   3 │ #13888. Wrestler Baked Potato         1      7      1      7      1      6\n",
      "[0.02136341552349906, 0.03415742081119776, 0.013440809468974762]\n",
      "2\n"
     ]
    },
    {
     "name": "stdout",
     "output_type": "stream",
     "text": [
      "\u001b[1m3×7 DataFrame\u001b[0m\n",
      "\u001b[1m Row \u001b[0m│\u001b[1m name                              \u001b[0m\u001b[1m h     \u001b[0m\u001b[1m f     \u001b[0m\u001b[1m l     \u001b[0m\u001b[1m p     \u001b[0m\u001b[1m r     \u001b[0m\u001b[1m s     \u001b[0m\n",
      "     │\u001b[90m String                            \u001b[0m\u001b[90m Int64 \u001b[0m\u001b[90m Int64 \u001b[0m\u001b[90m Int64 \u001b[0m\u001b[90m Int64 \u001b[0m\u001b[90m Int64 \u001b[0m\u001b[90m Int64 \u001b[0m\n",
      "─────┼─────────────────────────────────────────────────────────────────────────────\n",
      "   1 │ #2240. Criminal Mashed Potato         10      3      5      5      3      1\n",
      "   2 │ #10984. Helen's Home Fries             7      2      9      5      3      2\n",
      "   3 │ #14881. Angry Mashed Potato w/ s…      6      8      1      1      4      3\n",
      "[0.011917689945324678, 0.007105904000747153, 0.006316027926838598]\n",
      "1\n",
      "\u001b[1m3×7 DataFrame\u001b[0m\n",
      "\u001b[1m Row \u001b[0m│\u001b[1m name                             \u001b[0m\u001b[1m h     \u001b[0m\u001b[1m f     \u001b[0m\u001b[1m l     \u001b[0m\u001b[1m p     \u001b[0m\u001b[1m r     \u001b[0m\u001b[1m s     \u001b[0m\n",
      "     │\u001b[90m String                           \u001b[0m\u001b[90m Int64 \u001b[0m\u001b[90m Int64 \u001b[0m\u001b[90m Int64 \u001b[0m\u001b[90m Int64 \u001b[0m\u001b[90m Int64 \u001b[0m\u001b[90m Int64 \u001b[0m\n",
      "─────┼────────────────────────────────────────────────────────────────────────────\n",
      "   1 │ #1764. Friendly Tater Tots            3      3     12      1      7      6\n",
      "   2 │ #3093. Sneaky Mashed Potato          12      1      7      2      4      2\n",
      "   3 │ #6705. Potato Strips w/ scallion      8     10      1      1      2      1\n",
      "[0.005475480557622702, 0.004895244548613146, 0.03415742081119776]\n",
      "1\n",
      "\u001b[1m3×7 DataFrame\u001b[0m\n",
      "\u001b[1m Row \u001b[0m│\u001b[1m name                          \u001b[0m\u001b[1m h     \u001b[0m\u001b[1m f     \u001b[0m\u001b[1m l     \u001b[0m\u001b[1m p     \u001b[0m\u001b[1m r     \u001b[0m\u001b[1m s     \u001b[0m\n",
      "     │\u001b[90m String                        \u001b[0m\u001b[90m Int64 \u001b[0m\u001b[90m Int64 \u001b[0m\u001b[90m Int64 \u001b[0m\u001b[90m Int64 \u001b[0m\u001b[90m Int64 \u001b[0m\u001b[90m Int64 \u001b[0m\n",
      "─────┼─────────────────────────────────────────────────────────────────────────\n",
      "   1 │ #1813. Potato Strips w/ onion      3      9      2      4      1      4\n",
      "   2 │ #2240. Criminal Mashed Potato     10      3      5      5      3      1\n",
      "   3 │ #13017. Charles' Potato Soup       7      1     11      2      4      4\n",
      "[0.004583268338289516, 0.011917689945324678, 0.005393015508397029]\n",
      "1\n"
     ]
    }
   ],
   "source": [
    "# Verify explotability\n",
    "for i in 1:10000\n",
    "    inds = sort([rand(inds_sel[1:120]) for i in 1:3])\n",
    "    rt = nash_env[inds]\n",
    "    ff = pick_best(library, rt)\n",
    "    ev = eval_battle_list(ff, rt)\n",
    "    if ev < 3\n",
    "        println(spuds_to_df(rt))\n",
    "        println(w[inds])\n",
    "        println(ev)\n",
    "    end\n",
    "end"
   ]
  },
  {
   "cell_type": "code",
   "execution_count": 60,
   "id": "ca23894e",
   "metadata": {},
   "outputs": [
    {
     "data": {
      "text/plain": [
       "4-element Vector{Spud}:\n",
       " Spud(\"#7981. Mashed Potato w/ ketchup\", 3, 1, 11, 2, 4, 3)\n",
       " Spud(\"#8650. Charles' Potato Bread\", 3, 2, 10, 2, 2, 3)\n",
       " Spud(\"#10705. Devious Baked Potato w/ ketchup\", 4, 3, 4, 5, 2, 2)\n",
       " Spud(\"#14443. Sneaky Potato Soup\", 8, 2, 2, 1, 5, 6)"
      ]
     },
     "execution_count": 60,
     "metadata": {},
     "output_type": "execute_result"
    }
   ],
   "source": [
    "rt = nash_env[sort([rand(1:n_nash) for i in 1:4])]"
   ]
  },
  {
   "cell_type": "code",
   "execution_count": 61,
   "id": "e1899929",
   "metadata": {},
   "outputs": [
    {
     "name": "stdout",
     "output_type": "stream",
     "text": [
      "Spud(\"#12249. Enlightened Mashed Potato\", 5, 6, 4, 1, 1, 1)\n",
      "4\n"
     ]
    },
    {
     "data": {
      "text/plain": [
       "-0.05855215021150282"
      ]
     },
     "execution_count": 61,
     "metadata": {},
     "output_type": "execute_result"
    }
   ],
   "source": [
    "ff = pick_best_rdmly(nash_env[inds_sel], rt, 99)\n",
    "ev = eval_battle_list(ff, rt)\n",
    "println(ff)\n",
    "println(ev)\n",
    "eval_battle_list2(ff, nash_env, w)"
   ]
  },
  {
   "cell_type": "code",
   "execution_count": 66,
   "id": "497f2f3a",
   "metadata": {},
   "outputs": [
    {
     "name": "stdout",
     "output_type": "stream",
     "text": [
      "Spud(\"#9053. Aquatic French Fries\", 3, 4, 4, 1, 4, 3)\n",
      "4\n"
     ]
    },
    {
     "data": {
      "text/plain": [
       "-0.1656790165129023"
      ]
     },
     "execution_count": 66,
     "metadata": {},
     "output_type": "execute_result"
    }
   ],
   "source": [
    "ff = pick_best_rdmly(library, rt, 99)\n",
    "ev = eval_battle_list(ff, rt)\n",
    "println(ff)\n",
    "println(ev)\n",
    "eval_battle_list2(ff, nash_env, w)"
   ]
  },
  {
   "cell_type": "code",
   "execution_count": 35,
   "id": "12acdb76",
   "metadata": {},
   "outputs": [
    {
     "name": "stdout",
     "output_type": "stream",
     "text": [
      "Spud(\"#14744. Battle Potato Soup\", 9, 1, 1, 13, 6, 7)\n"
     ]
    },
    {
     "data": {
      "text/plain": [
       "-0.6779939500016593"
      ]
     },
     "execution_count": 35,
     "metadata": {},
     "output_type": "execute_result"
    }
   ],
   "source": [
    "ff = rand(library)\n",
    "println(ff)\n",
    "eval_battle_list2(ff, nash_env, w)"
   ]
  },
  {
   "cell_type": "code",
   "execution_count": 23,
   "id": "faf95c79",
   "metadata": {},
   "outputs": [],
   "source": [
    "#cost(4,4,9,1,4,2)"
   ]
  },
  {
   "cell_type": "code",
   "execution_count": 24,
   "id": "4d0bc4c8",
   "metadata": {},
   "outputs": [],
   "source": [
    "#rt = library[[15918,21020,26191]]\n",
    "#eval_battle(Spud(\"\",4,4,9,1,4,1), rt[1])"
   ]
  },
  {
   "cell_type": "code",
   "execution_count": 25,
   "id": "17a5cad4",
   "metadata": {},
   "outputs": [],
   "source": [
    "#sum(sort(-w)[1:450])"
   ]
  },
  {
   "cell_type": "code",
   "execution_count": 26,
   "id": "c945e08d",
   "metadata": {},
   "outputs": [],
   "source": [
    "#sum(w)"
   ]
  },
  {
   "cell_type": "code",
   "execution_count": 27,
   "id": "209dc74d",
   "metadata": {},
   "outputs": [],
   "source": [
    "# # FP is slow to converge in the end\n",
    "# eps = 0.01/length(library)\n",
    "# nits = 20000\n",
    "# scores = wins./sum(counts)\n",
    "# w = counts./sum(counts)\n",
    "# 0"
   ]
  },
  {
   "cell_type": "code",
   "execution_count": 28,
   "id": "d50fc1f0",
   "metadata": {},
   "outputs": [],
   "source": [
    "# previous_score = maximum(scores)\n",
    "# for iter in 1:nits\n",
    "#     ind_winners = findall(wins .== maximum(wins))\n",
    "#     i = rand(ind_winners)\n",
    "#     w[i] += eps\n",
    "#     for j in 1:n_lose[i]\n",
    "#         i_w = i_lose[i, j]\n",
    "#         scores[i_w]+= eps\n",
    "#     end\n",
    "#     if mod1(iter, 2000) == 1\n",
    "#         scores = scores./sum(w)\n",
    "#         w = w./sum(w)\n",
    "#         if maximum(scores) > previous_score\n",
    "#             eps = eps/2\n",
    "#             println(eps)\n",
    "#             println()\n",
    "#             println()\n",
    "#         end\n",
    "#         previous_score = maximum(scores)\n",
    "#         mxv, mxi = findmax(wins)\n",
    "#         print(library[mxi])\n",
    "#         print(\" n:\")\n",
    "#         print(w[mxi])\n",
    "#         print(\" w:\")\n",
    "#         print(scores[mxi])\n",
    "#         println()\n",
    "#         mxv, mxi = findmax(counts)\n",
    "#         print(library[mxi])\n",
    "#         print(\" n:\")\n",
    "#         print(w[mxi])\n",
    "#         print(\" w:\")\n",
    "#         print(scores[mxi])\n",
    "#         println()\n",
    "#         println(maximum([eval_battle_list2(ff, library, w) for ff in library]))\n",
    "#         println()\n",
    "#     end\n",
    "# end\n"
   ]
  },
  {
   "cell_type": "code",
   "execution_count": null,
   "id": "34e127aa",
   "metadata": {},
   "outputs": [],
   "source": []
  }
 ],
 "metadata": {
  "kernelspec": {
   "display_name": "Julia 1.9.3",
   "language": "julia",
   "name": "julia-1.9"
  },
  "language_info": {
   "file_extension": ".jl",
   "mimetype": "application/julia",
   "name": "julia",
   "version": "1.9.3"
  }
 },
 "nbformat": 4,
 "nbformat_minor": 5
}

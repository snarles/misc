{
 "cells": [
  {
   "cell_type": "markdown",
   "id": "052be005",
   "metadata": {},
   "source": [
    "Design of a new game, Spuds"
   ]
  },
  {
   "cell_type": "code",
   "execution_count": 1,
   "id": "494818e8",
   "metadata": {},
   "outputs": [],
   "source": [
    "using Random\n",
    "using DataFrames\n",
    "using CSV\n",
    "using DelimitedFiles\n",
    "using Statistics\n",
    "using Printf\n",
    "using LinearAlgebra\n",
    "using Dates"
   ]
  },
  {
   "cell_type": "code",
   "execution_count": 2,
   "id": "1e1008a1",
   "metadata": {},
   "outputs": [
    {
     "data": {
      "text/plain": [
       "cost (generic function with 1 method)"
      ]
     },
     "execution_count": 2,
     "metadata": {},
     "output_type": "execute_result"
    }
   ],
   "source": [
    "struct Spud\n",
    "    name::String\n",
    "    h::Int64\n",
    "    f::Int64\n",
    "    l::Int64\n",
    "    p::Int64\n",
    "    r::Int64\n",
    "    s::Int64\n",
    "end\n",
    "\n",
    "const MXS = 100\n",
    "const MXV = 20\n",
    "const MNV = 1\n",
    "\n",
    "function cost(h::Int64, f::Int64, l::Int64, p::Int64, r::Int64, s::Int64)::Int64\n",
    "    #return h*(f+l-2*MNV) + f*(p+r+s-3*MNV) + h+f+l+p+r+s-6*MNV\n",
    "    return h*(f+l) + f*(p+r+s)\n",
    "end"
   ]
  },
  {
   "cell_type": "code",
   "execution_count": 49,
   "id": "ac830f74",
   "metadata": {},
   "outputs": [
    {
     "data": {
      "text/plain": [
       "eval_battle (generic function with 1 method)"
      ]
     },
     "execution_count": 49,
     "metadata": {},
     "output_type": "execute_result"
    }
   ],
   "source": [
    "function eval_battle(a::Spud, b::Spud)::Int\n",
    "    a_finds = a.f >= b.h\n",
    "    b_finds = b.f >= a.h\n",
    "    #score_a = 4 * (1000*a.p + a.l > 1000*b.p+b.l) + 3 * (1000*a.r+a.l > 1000*b.r+b.l) + 2 * (1000*a.s+a.l > 1000*b.s+b.l)\n",
    "    #score_b = 4 * (1000*a.p + a.l < 1000*b.p+b.l) + 3 * (1000*a.r+a.l < 1000*b.r+b.l) + 2 * (1000*a.s+a.l < 1000*b.s+b.l)\n",
    "    score_a = 4 * (a.p > b.p) + 3 * (a.r > b.r) + 2 * (a.s > b.s)\n",
    "    score_b = 4 * (a.p < b.p) + 3 * (a.r < b.r) + 2 * (a.s < b.s)\n",
    "    melee_win = sign(score_a - score_b)\n",
    "    if a_finds && b_finds\n",
    "        tiebreaker = 4 * melee_win + 2 * sign(a.l - b.l) + sign(a.h - b.h)\n",
    "        return sign(tiebreaker)\n",
    "    end\n",
    "    if a_finds && !b_finds\n",
    "        return 1\n",
    "    end\n",
    "    if !a_finds && b_finds\n",
    "        return -1\n",
    "    end\n",
    "    if !a_finds && !b_finds\n",
    "        tiebreaker = 4 * sign(a.l - b.l) + 2 * melee_win + sign(a.f - b.f)\n",
    "        return sign(tiebreaker)\n",
    "    end\n",
    "end\n"
   ]
  },
  {
   "cell_type": "code",
   "execution_count": 4,
   "id": "40b9dc47",
   "metadata": {},
   "outputs": [
    {
     "data": {
      "text/plain": [
       "random_name_and_stat (generic function with 1 method)"
      ]
     },
     "execution_count": 4,
     "metadata": {},
     "output_type": "execute_result"
    }
   ],
   "source": [
    "tab = CSV.read(\"census_yob2022_names.txt\", DataFrame, header = false)\n",
    "names = tab.Column1\n",
    "adjectives = CSV.read(\"adjectives.csv\", DataFrame)\n",
    "nouns = CSV.read(\"nouns.csv\", DataFrame)\n",
    "jobs = CSV.read(\"jobs.csv\", DataFrame)\n",
    "\n",
    "const mult_noun = 1\n",
    "const mult_adj = 2\n",
    "const mult_job = 3\n",
    "\n",
    "\n",
    "function random_name_and_stat()::Spud\n",
    "    vp = [0, 0, 0, 0, 0, 0]\n",
    "    #nametype = rand([1,1,1,1,1,2,2,2,3])\n",
    "    name = \"\"\n",
    "    noun = \"\"\n",
    "    adj = \"\"\n",
    "    noun_i = rand(1:nrow(nouns))\n",
    "    noun = nouns[noun_i, :noun]\n",
    "    vp[1] = vp[1] + nouns[noun_i, :H] * mult_noun\n",
    "    vp[2] = vp[2] + nouns[noun_i, :F] * mult_noun\n",
    "    vp[3] = vp[3] + nouns[noun_i, :L] * mult_noun\n",
    "    vp[4] = vp[4] + nouns[noun_i, :P] * mult_noun\n",
    "    vp[5] = vp[5] + nouns[noun_i, :R] * mult_noun\n",
    "    vp[6] = vp[6] + nouns[noun_i, :S] * mult_noun\n",
    "    adj_i = rand(1:nrow(adjectives))\n",
    "    adj = adjectives[adj_i, :adjective]\n",
    "    vp[1] = vp[1] + adjectives[adj_i, :H] * mult_adj\n",
    "    vp[2] = vp[2] + adjectives[adj_i, :F] * mult_adj\n",
    "    vp[3] = vp[3] + adjectives[adj_i, :L] * mult_adj\n",
    "    vp[4] = vp[4] + adjectives[adj_i, :P] * mult_adj\n",
    "    vp[5] = vp[5] + adjectives[adj_i, :R] * mult_adj\n",
    "    vp[6] = vp[6] + adjectives[adj_i, :S] * mult_adj\n",
    "    job_i = rand(1:nrow(jobs))\n",
    "    job = jobs[job_i, :job]\n",
    "    vp[1] = vp[1] + jobs[job_i, :H] * mult_job\n",
    "    vp[2] = vp[2] + jobs[job_i, :F] * mult_job\n",
    "    vp[3] = vp[3] + jobs[job_i, :L] * mult_job\n",
    "    vp[4] = vp[4] + jobs[job_i, :P] * mult_job\n",
    "    vp[5] = vp[5] + jobs[job_i, :R] * mult_job\n",
    "    vp[6] = vp[6] + jobs[job_i, :S] * mult_job\n",
    "    name = string(adj, \" \", job, \" \", noun)\n",
    "    Spud(name, vp[1], vp[2], vp[3], vp[4], vp[5], vp[6])\n",
    "end"
   ]
  },
  {
   "cell_type": "code",
   "execution_count": 5,
   "id": "f606e085",
   "metadata": {},
   "outputs": [
    {
     "data": {
      "text/plain": [
       "rand_rename (generic function with 2 methods)"
      ]
     },
     "execution_count": 5,
     "metadata": {},
     "output_type": "execute_result"
    }
   ],
   "source": [
    "function rand_rename(a::Spud, n_tries::Int = 100)::Spud\n",
    "    best_score = 0.0\n",
    "    best_b = random_name_and_stat()\n",
    "    for ii in 1:n_tries\n",
    "        b = random_name_and_stat()\n",
    "        b_norm = sqrt(b.h^2 + b.f^2 + b.l^2 + b.p^2 + b.r^2 + b.s^2)\n",
    "        score = (a.h * b.h + a.f * b.f + a.l * b.l + a.p * b.p + a.r * b.r + a.s * b.s)/b_norm\n",
    "        if score > best_score\n",
    "            best_score = score\n",
    "            best_b = b\n",
    "        end\n",
    "    end\n",
    "    return Spud(best_b.name, a.h, a.f, a.l, a.p, a.r, a.s)\n",
    "end"
   ]
  },
  {
   "cell_type": "code",
   "execution_count": 126,
   "id": "560e9539",
   "metadata": {},
   "outputs": [
    {
     "data": {
      "text/plain": [
       "cost (generic function with 2 methods)"
      ]
     },
     "execution_count": 126,
     "metadata": {},
     "output_type": "execute_result"
    }
   ],
   "source": [
    "function eval_battle_list(a::Spud, bs::Array{Spud})::Int\n",
    "    score = 0\n",
    "    for ii in 1:length(bs)\n",
    "        score = score + eval_battle(a, bs[ii])\n",
    "    end\n",
    "    return score\n",
    "end\n",
    "\n",
    "function eval_battle_list2(a::Spud, bs::Array{Spud}, w::Vector{Float64})::AbstractFloat\n",
    "    score = 0.0\n",
    "    for ii in 1:length(bs)\n",
    "        score = score + w[ii] * eval_battle(a, bs[ii])\n",
    "    end\n",
    "    return score\n",
    "end\n",
    "\n",
    "\n",
    "function pick_best(as::Array{Spud}, bs::Array{Spud})::Spud\n",
    "    bestscore = -999\n",
    "    bestf = as[1]\n",
    "    for ii in 1:length(as)\n",
    "        score = eval_battle_list(as[ii], bs)\n",
    "        if score > bestscore\n",
    "            bestscore = score\n",
    "            bestf = as[ii]\n",
    "        end\n",
    "    end\n",
    "    return bestf\n",
    "end\n",
    "\n",
    "function pick_best_rdmly(as::Array{Spud}, bs::Array{Spud}, ntries::Int)::Spud\n",
    "    bestscore = -999\n",
    "    bestf = rand(as)\n",
    "    for ii in 1:ntries\n",
    "        f = rand(as)\n",
    "        score = eval_battle_list(f, bs)\n",
    "        if score > bestscore\n",
    "            bestscore = score\n",
    "            bestf = f\n",
    "        end\n",
    "    end\n",
    "    return bestf\n",
    "end\n",
    "\n",
    "function pick_best_rdmly_g(g::Function, bs::Array{Spud}, ntries::Int)::Spud\n",
    "    bestscore = -999\n",
    "    bestf = g()\n",
    "    for ii in 1:ntries\n",
    "        f = g()\n",
    "        score = eval_battle_list(f, bs)\n",
    "        if score > bestscore\n",
    "            bestscore = score\n",
    "            bestf = f\n",
    "        end\n",
    "    end\n",
    "    return bestf\n",
    "end\n",
    "\n",
    "function spuds_to_df(as::Array{Spud})::DataFrame\n",
    "    names = Array{String}(undef, length(as))\n",
    "    hs = Array{Int}(undef, length(as))\n",
    "    fs = Array{Int}(undef, length(as))\n",
    "    ls = Array{Int}(undef, length(as))\n",
    "    ps = Array{Int}(undef, length(as))\n",
    "    rs = Array{Int}(undef, length(as))\n",
    "    ss = Array{Int}(undef, length(as))\n",
    "    for ii in 1:length(as)\n",
    "        names[ii] = as[ii].name\n",
    "        hs[ii] = as[ii].h\n",
    "        fs[ii] = as[ii].f\n",
    "        ls[ii] = as[ii].l\n",
    "        ps[ii] = as[ii].p\n",
    "        rs[ii] = as[ii].r\n",
    "        ss[ii] = as[ii].s\n",
    "    end\n",
    "    df = DataFrame(name = names, h = hs, f = fs, l = ls, p = ps, r = rs, s = ss)\n",
    "    return df\n",
    "end\n",
    "\n",
    "function fpart(x::AbstractFloat)::AbstractFloat\n",
    "  return x - trunc(x)\n",
    "end\n",
    "\n",
    "function eval_team_battle(as::Array{Spud}, bs::Array{Spud})::Int\n",
    "    a_i = 1\n",
    "    b_i = 1\n",
    "    while (a_i <= length(as)) && (b_i <= length(bs))\n",
    "        res = eval_battle(as[a_i], bs[b_i])\n",
    "        if res == 1\n",
    "            b_i = b_i + 1\n",
    "        else\n",
    "            a_i = a_i + 1\n",
    "            if res == 0\n",
    "                b_i = b_i + 1\n",
    "            end\n",
    "        end\n",
    "    end\n",
    "    a_out = (a_i > length(as))\n",
    "    b_out = (b_i > length(as))\n",
    "    if a_out\n",
    "        if b_out\n",
    "            return 0\n",
    "        else\n",
    "            return -1\n",
    "        end\n",
    "    else\n",
    "        return 1\n",
    "    end\n",
    "end\n",
    "\n",
    "function compare_generator(f1, f2, limit)\n",
    "    a_i = 1\n",
    "    b_i = 1\n",
    "    f_a = f1()\n",
    "    f_b = f2()\n",
    "    while (a_i < limit) && (b_i < limit)\n",
    "        res = eval_battle(f_a, f_b)\n",
    "        if res != -1\n",
    "            b_i = b_i + 1\n",
    "            f_b = f2()\n",
    "        end\n",
    "        if res != 1\n",
    "            a_i = a_i + 1\n",
    "            f_a = f1()\n",
    "        end\n",
    "    end\n",
    "    return (a_i/limit, b_i/limit)\n",
    "end\n",
    "\n",
    "function random_team(f::Function, team_size::Int)::Array{Spud}\n",
    "    team = Array{Spud}(undef, team_size)\n",
    "    for i in 1:team_size\n",
    "        team[i] = f()\n",
    "    end\n",
    "    return team\n",
    "end\n",
    "\n",
    "function df_to_spuds(df::DataFrame)::Array{Spud}\n",
    "    n = size(df)[1]\n",
    "    as = Array{Spud}(undef, n)\n",
    "    for i in 1:n\n",
    "        as[i] = Spud(df[i, :name], df[i, :h], df[i, :f], df[i, :l], df[i, :p], df[i, :r], df[i, :s])\n",
    "    end\n",
    "    return as\n",
    "end\n",
    "\n",
    "function cost(a::Spud)::Int64\n",
    "    return cost(a.h, a.f, a.l, a.p, a.r, a.s)\n",
    "end"
   ]
  },
  {
   "cell_type": "code",
   "execution_count": 7,
   "id": "bd2b243d",
   "metadata": {},
   "outputs": [
    {
     "data": {
      "text/plain": [
       "pick_best_library (generic function with 1 method)"
      ]
     },
     "execution_count": 7,
     "metadata": {},
     "output_type": "execute_result"
    }
   ],
   "source": [
    "function upgrade_spud(sp::Spud)::Spud\n",
    "    h = sp.h\n",
    "    f = sp.f\n",
    "    l = sp.l\n",
    "    p = sp.p\n",
    "    r = sp.r\n",
    "    s = sp.s    \n",
    "    check_h = (h == MXV) || (cost(h+1,f,l,p,r,s) > MXS)\n",
    "    check_f = (f == MXV) || (cost(h,f+1,l,p,r,s) > MXS)\n",
    "    check_l = (l == MXV) || (cost(h,f,l+1,p,r,s) > MXS)\n",
    "    check_prs = (p+r+s == 3*MXV) || (cost(h,f,l,p+1,r,s) > MXS)\n",
    "    while !(check_h && check_f && check_l && check_prs)\n",
    "        rand_i = rand(1:4)\n",
    "        if rand_i == 1 && !check_h\n",
    "            h = h+1\n",
    "        end\n",
    "        if rand_i == 2 && !check_f\n",
    "            f = f+1\n",
    "        end\n",
    "        if rand_i == 3 && !check_l\n",
    "            l = l+1\n",
    "        end\n",
    "        if rand_i == 4 && !check_prs\n",
    "            rand_j = rand([1,1,1,1,1,2,2,2,2,3,3,3])\n",
    "            if rand_j == 1 && p <= MXV\n",
    "                p += 1\n",
    "            end\n",
    "            if rand_j == 2 && r <= MXV\n",
    "                r += 1\n",
    "            end\n",
    "            if rand_j == 3 && s <= MXV\n",
    "                s += 1\n",
    "            end\n",
    "        end            \n",
    "        check_h = (h == MXV) || (cost(h+1,f,l,p,r,s) > MXS)\n",
    "        check_f = (f == MXV) || (cost(h,f+1,l,p,r,s) > MXS)\n",
    "        check_l = (l == MXV) || (cost(h,f,l+1,p,r,s) > MXS)\n",
    "        check_prs = (p+r+s == 3*MXV) || (cost(h,f,l,p+1,r,s) > MXS)\n",
    "    end\n",
    "    return Spud(sp.name, h, f, l, p, r, s)\n",
    "end\n",
    "\n",
    "\n",
    "\n",
    "function pick_best_library(bs::Array{Spud})::Spud\n",
    "    bestscore = -999\n",
    "    bestf = Spud(\"\",MNV,MNV,MNV,MNV,MNV,MNV)\n",
    "    df = spuds_to_df(bs)\n",
    "    hrange = vcat([MNV], df.h, df.h .+ 1, df.f, df.f .+ 1)\n",
    "    frange = vcat([MNV], df.f, df.f .+ 1, df.h, df.h .+ 1)\n",
    "    lrange = vcat([MNV], df.l, df.l .+ 1)\n",
    "    prange = vcat([MNV], df.p, df.p .+ 1)\n",
    "    rrange = vcat([MNV], df.r, df.r .+ 1)\n",
    "    srange = vcat([MNV], df.s, df.s .+ 1)\n",
    "    hrange = sort(unique(hrange))\n",
    "    frange = sort(unique(frange))\n",
    "    lrange = sort(unique(lrange))\n",
    "    prange = sort(unique(prange))\n",
    "    rrange = sort(unique(rrange))\n",
    "    srange = sort(unique(srange))\n",
    "    for h in hrange\n",
    "        if (cost(h, MNV, MNV, MNV, MNV, MNV) <= MXS)\n",
    "            for f in frange\n",
    "                if (cost(h, f, MNV, MNV, MNV, MNV) <= MXS)\n",
    "                    for l in lrange\n",
    "                        if (cost(h, f, l, MNV, MNV, MNV) <= MXS)\n",
    "                            for p in prange\n",
    "                                if (cost(h, f, l, p, MNV, MNV) <= MXS)\n",
    "                                    for r in rrange\n",
    "                                        if (cost(h, f, l, p, r, MNV) <= MXS)\n",
    "                                            for s in srange\n",
    "                                                if (cost(h,f,l,p,r,s) <= MXS)\n",
    "                                                    ff = Spud(\"\",h,f,l,p,r,s)\n",
    "                                                    score = eval_battle_list(ff, bs)\n",
    "                                                    if score > bestscore\n",
    "                                                        bestscore = score\n",
    "                                                        bestf = ff\n",
    "                                                    end\n",
    "                                                end\n",
    "                                            end\n",
    "                                        end\n",
    "                                    end                        \n",
    "                                end\n",
    "                            end                        \n",
    "                        end\n",
    "                    end\n",
    "                end\n",
    "            end\n",
    "        end\n",
    "    end\n",
    "    return upgrade_spud(bestf)\n",
    "end\n",
    "\n"
   ]
  },
  {
   "cell_type": "code",
   "execution_count": 8,
   "id": "2d640dee",
   "metadata": {},
   "outputs": [
    {
     "data": {
      "text/plain": [
       "pick_ok_counter (generic function with 1 method)"
      ]
     },
     "execution_count": 8,
     "metadata": {},
     "output_type": "execute_result"
    }
   ],
   "source": [
    "function pick_ok_counter(bs::Array{Spud})::Spud\n",
    "    bestscore = -999\n",
    "    bestf = Spud(\"\",MNV,MNV,MNV,MNV,MNV,MNV)\n",
    "    df = spuds_to_df(bs)\n",
    "    hrange = vcat([MNV], df.f .+ 1)\n",
    "    frange = vcat([MNV], df.h .+ 1)\n",
    "    lrange = vcat([MNV], df.l .+ 1)\n",
    "    prange = vcat([MNV], df.p .+ 1)\n",
    "    rrange = vcat([MNV], df.r .+ 1)\n",
    "    srange = vcat([MNV], df.s .+ 1)\n",
    "    hrange = sort(unique(hrange))\n",
    "    frange = sort(unique(frange))\n",
    "    lrange = sort(unique(lrange))\n",
    "    prange = sort(unique(prange))\n",
    "    rrange = sort(unique(rrange))\n",
    "    srange = sort(unique(srange))\n",
    "    for h in hrange\n",
    "        if (cost(h, MNV, MNV, MNV, MNV, MNV) <= MXS)\n",
    "            for f in frange\n",
    "                if (cost(h, f, MNV, MNV, MNV, MNV) <= MXS)\n",
    "                    for l in lrange\n",
    "                        if (cost(h, f, l, MNV, MNV, MNV) <= MXS)\n",
    "                            for p in prange\n",
    "                                if (cost(h, f, l, p, MNV, MNV) <= MXS)\n",
    "                                    for r in rrange\n",
    "                                        if (cost(h, f, l, p, r, MNV) <= MXS)\n",
    "                                            for s in srange\n",
    "                                                if (cost(h,f,l,p,r,s) <= MXS)\n",
    "                                                    ff = Spud(\"\",h,f,l,p,r,s)\n",
    "                                                    score = eval_battle_list(ff, bs)\n",
    "                                                    if score > bestscore\n",
    "                                                        bestscore = score\n",
    "                                                        bestf = ff\n",
    "                                                    end\n",
    "                                                end\n",
    "                                            end\n",
    "                                        end\n",
    "                                    end                        \n",
    "                                end\n",
    "                            end                        \n",
    "                        end\n",
    "                    end\n",
    "                end\n",
    "            end\n",
    "        end\n",
    "    end\n",
    "    return upgrade_spud(bestf)\n",
    "end\n"
   ]
  },
  {
   "cell_type": "code",
   "execution_count": 365,
   "id": "7b4f703b",
   "metadata": {},
   "outputs": [
    {
     "data": {
      "text/plain": [
       "pick_best_library2 (generic function with 1 method)"
      ]
     },
     "execution_count": 365,
     "metadata": {},
     "output_type": "execute_result"
    }
   ],
   "source": [
    "function pick_best_library2(bs::Array{Spud}, w::Vector{Float64})::Spud\n",
    "    bestscore = -999.9\n",
    "    bestf = Spud(\"\",MNV,MNV,MNV,MNV,MNV,MNV)\n",
    "    df = spuds_to_df(bs)\n",
    "    hrange = vcat([MNV], df.h, df.h .+ 1, df.f, df.f .+ 1)\n",
    "    frange = vcat([MNV], df.f, df.f .+ 1, df.h, df.h .+ 1)\n",
    "    lrange = vcat([MNV], df.l, df.l .+ 1)\n",
    "    prange = vcat([MNV], df.p, df.p .+ 1)\n",
    "    rrange = vcat([MNV], df.r, df.r .+ 1)\n",
    "    srange = vcat([MNV], df.s, df.s .+ 1)\n",
    "    hrange = sort(unique(hrange))\n",
    "    frange = sort(unique(frange))\n",
    "    lrange = sort(unique(lrange))\n",
    "    prange = sort(unique(prange))\n",
    "    rrange = sort(unique(rrange))\n",
    "    srange = sort(unique(srange))\n",
    "    for h in hrange\n",
    "        if (cost(h, MNV, MNV, MNV, MNV, MNV) <= MXS)\n",
    "            for f in frange\n",
    "                if (cost(h, f, MNV, MNV, MNV, MNV) <= MXS)\n",
    "                    for l in lrange\n",
    "                        if (cost(h, f, l, MNV, MNV, MNV) <= MXS)\n",
    "                            for p in prange\n",
    "                                if (cost(h, f, l, p, MNV, MNV) <= MXS)\n",
    "                                    for r in rrange\n",
    "                                        if (cost(h, f, l, p, r, MNV) <= MXS)\n",
    "                                            for s in srange\n",
    "                                                if (cost(h,f,l,p,r,s) <= MXS)\n",
    "                                                    ff = Spud(\"\",h,f,l,p,r,s)\n",
    "                                                    score = eval_battle_list2(ff, bs, w) + 0.00001 * rand()\n",
    "                                                    if score > bestscore\n",
    "                                                        bestscore = score\n",
    "                                                        bestf = ff\n",
    "                                                    end\n",
    "                                                end\n",
    "                                            end\n",
    "                                        end\n",
    "                                    end                        \n",
    "                                end\n",
    "                            end                        \n",
    "                        end\n",
    "                    end\n",
    "                end\n",
    "            end\n",
    "        end\n",
    "    end\n",
    "    return upgrade_spud(bestf)\n",
    "end"
   ]
  },
  {
   "cell_type": "code",
   "execution_count": 10,
   "id": "79126a50",
   "metadata": {},
   "outputs": [
    {
     "data": {
      "text/plain": [
       "subset_library (generic function with 1 method)"
      ]
     },
     "execution_count": 10,
     "metadata": {},
     "output_type": "execute_result"
    }
   ],
   "source": [
    "function subset_library(bs::Array{Spud}, n_hits::Int, w::Vector{Float64}, thres::Float64)::Array{Spud}\n",
    "    bestf = Array{Spud}(undef, n_hits)\n",
    "    spud_i = 0\n",
    "    df = spuds_to_df(bs)\n",
    "    hrange = vcat([MNV], df.h, df.h .+ 1, df.f, df.f .+ 1)\n",
    "    frange = vcat([MNV], df.f, df.f .+ 1, df.h, df.h .+ 1)\n",
    "    lrange = vcat([MNV], df.l, df.l .+ 1)\n",
    "    prange = vcat([MNV], df.p, df.p .+ 1)\n",
    "    rrange = vcat([MNV], df.r, df.r .+ 1)\n",
    "    srange = vcat([MNV], df.s, df.s .+ 1)\n",
    "    hrange = sort(unique(hrange))\n",
    "    frange = sort(unique(frange))\n",
    "    lrange = sort(unique(lrange))\n",
    "    prange = sort(unique(prange))\n",
    "    rrange = sort(unique(rrange))\n",
    "    srange = sort(unique(srange))\n",
    "    for h in hrange\n",
    "        if (cost(h, MNV, MNV, MNV, MNV, MNV) <= MXS)\n",
    "            for f in frange\n",
    "                if (cost(h, f, MNV, MNV, MNV, MNV) <= MXS)\n",
    "                    for l in lrange\n",
    "                        if (cost(h, f, l, MNV, MNV, MNV) <= MXS)\n",
    "                            for p in prange\n",
    "                                if (cost(h, f, l, p, MNV, MNV) <= MXS)\n",
    "                                    for r in rrange\n",
    "                                        if (cost(h, f, l, p, r, MNV) <= MXS)\n",
    "                                            for s in srange\n",
    "                                                if (cost(h,f,l,p,r,s) <= MXS)\n",
    "                                                    ff = Spud(\"\",h,f,l,p,r,s)\n",
    "                                                    score = eval_battle_list2(ff, bs, w)\n",
    "                                                    if score >= thres && spud_i < n_hits\n",
    "                                                        spud_i += 1\n",
    "                                                        bestf[spud_i] = upgrade_spud(ff)\n",
    "                                                    end\n",
    "                                                end\n",
    "                                            end\n",
    "                                        end\n",
    "                                    end                        \n",
    "                                end\n",
    "                            end                        \n",
    "                        end\n",
    "                    end\n",
    "                end\n",
    "            end\n",
    "        end\n",
    "    end\n",
    "    return unique(bestf[1:spud_i])\n",
    "end"
   ]
  },
  {
   "cell_type": "code",
   "execution_count": 11,
   "id": "8534b5bb",
   "metadata": {},
   "outputs": [
    {
     "data": {
      "text/plain": [
       "0.01"
      ]
     },
     "execution_count": 11,
     "metadata": {},
     "output_type": "execute_result"
    }
   ],
   "source": [
    "# form initial library by subsampling indices\n",
    "library = Array{Spud}(undef, 1000)\n",
    "spud_i = 0\n",
    "ss_prob = 0.01"
   ]
  },
  {
   "cell_type": "code",
   "execution_count": 12,
   "id": "3febb950",
   "metadata": {},
   "outputs": [],
   "source": [
    "\n",
    "hrange = MNV:MXV\n",
    "frange = MNV:MXV\n",
    "lrange = MNV:MXV\n",
    "prange = MNV:MXV\n",
    "rrange = MNV:MXV\n",
    "srange = MNV:MXV\n",
    "\n",
    "for h in hrange\n",
    "    if (cost(h, MXV, MXV, MXV, MXV, MXV) >= MXS) && (cost(h, MNV, MNV, MNV, MNV, MNV) <= MXS)\n",
    "        for f in frange\n",
    "            if (cost(h, f, MXV, MXV, MXV, MXV) >= MXS) && (cost(h, f, MNV, MNV, MNV, MNV) <= MXS)\n",
    "                for l in lrange\n",
    "                    if (cost(h, f, l, MXV, MXV, MXV) >= MXS) && (cost(h, f, l, MNV, MNV, MNV) <= MXS)\n",
    "                        for p in prange\n",
    "                            if (cost(h, f, l, p, MXV, MXV) >= MXS) && (cost(h, f, l, p, MNV, MNV) <= MXS)\n",
    "                                for r in rrange\n",
    "                                    if (cost(h, f, l, p, r, MXV) >= MXS) && (cost(h, f, l, p, r, MNV) <= MXS)\n",
    "                                        for s in srange\n",
    "                                            if rand() < ss_prob && (cost(h,f,l,p,r,s) <= MXS)\n",
    "                                                check_f = (h == MXV) || (cost(h+1,f,l,p,r,s) > MXS)\n",
    "                                                check_h = (f == MXV) || (cost(h,f+1,l,p,r,s) > MXS)\n",
    "                                                check_l = (l == MXV) || (cost(h,f,l+1,p,r,s) > MXS)\n",
    "                                                check_prs = (p+r+s == 3*MXV) || (cost(h,f,l,p+1,r,s) > MXS)\n",
    "                                                if check_h && check_f && check_l && check_prs\n",
    "                                                    spud_i += 1\n",
    "                                                    #randname = rand_rename(Spud(\" \",h,f,l,p,r,s)).name\n",
    "                                                    #name = string(\"#\", @sprintf(\"%i\", spud_i), \". \", randname)\n",
    "                                                    name = \"\"\n",
    "                                                    library[spud_i] = Spud(name,h,f,l,p,r,s)\n",
    "                                                end\n",
    "                                            end\n",
    "                                        end\n",
    "                                    end\n",
    "                                end                        \n",
    "                            end\n",
    "                        end                        \n",
    "                    end\n",
    "                end\n",
    "            end\n",
    "        end\n",
    "    end\n",
    "end\n"
   ]
  },
  {
   "cell_type": "code",
   "execution_count": 13,
   "id": "9bbe4ff4",
   "metadata": {},
   "outputs": [
    {
     "data": {
      "text/plain": [
       "724"
      ]
     },
     "execution_count": 13,
     "metadata": {},
     "output_type": "execute_result"
    }
   ],
   "source": [
    "library = unique(library[1:spud_i])\n",
    "n_spuds = length(library)"
   ]
  },
  {
   "cell_type": "code",
   "execution_count": 14,
   "id": "2a078723",
   "metadata": {},
   "outputs": [],
   "source": [
    "# for i in 1:n_spuds\n",
    "#     ff = library[i]\n",
    "#     randname = rand_rename(ff).name\n",
    "#     name = string(\"#\", @sprintf(\"%i\", i), \". \", randname)\n",
    "#     library[i] = Spud(name,ff.h,ff.f,ff.l,ff.p,ff.r,ff.s)\n",
    "# end\n",
    "# id_no = Dict(library[i] => i for i in 1:n_spuds)"
   ]
  },
  {
   "cell_type": "code",
   "execution_count": 15,
   "id": "52daa014",
   "metadata": {},
   "outputs": [],
   "source": [
    "# Check that there are no ties in spudland\n",
    "for iter in 1:10000\n",
    "    i = rand(1:n_spuds)\n",
    "    j = rand(1:n_spuds)\n",
    "    if i != j && eval_battle(library[i], library[j]) == 0\n",
    "        println(library[i])\n",
    "        println(library[j])\n",
    "        println()\n",
    "    end\n",
    "end"
   ]
  },
  {
   "cell_type": "markdown",
   "id": "4873490e",
   "metadata": {},
   "source": [
    "## Compute Nash env"
   ]
  },
  {
   "cell_type": "code",
   "execution_count": 16,
   "id": "010f3c57",
   "metadata": {},
   "outputs": [
    {
     "data": {
      "text/plain": [
       "ffp (generic function with 1 method)"
      ]
     },
     "execution_count": 16,
     "metadata": {},
     "output_type": "execute_result"
    }
   ],
   "source": [
    "function ffp(nash_env, nits)\n",
    "    n_nash = length(nash_env)\n",
    "    i_lose = Array{Int}(undef, (n_nash, n_nash))\n",
    "    n_lose = Array{Int}(undef, n_nash)\n",
    "    for i in 1:n_nash\n",
    "        n_lose[i] = 0\n",
    "        ff = nash_env[i]\n",
    "        for j in 1:n_nash\n",
    "            if eval_battle(ff, nash_env[j]) ==-1\n",
    "                n_lose[i] += 1\n",
    "                i_lose[i, n_lose[i]] = j\n",
    "            end\n",
    "        end\n",
    "    end\n",
    "    counts = [0 for i in 1:n_nash]\n",
    "    wins = [0 for i in 1:n_nash]\n",
    "    for i in 1:n_nash\n",
    "        counts[i] += 1\n",
    "        for j in 1:n_lose[i]\n",
    "            i_w = i_lose[i, j]\n",
    "            wins[i_w]+= 1\n",
    "        end\n",
    "    end\n",
    "    for iter in 1:nits\n",
    "        wc = 2 .* wins .+ counts\n",
    "        ind_winners = findall(wc .== maximum(wc))\n",
    "        i = rand(ind_winners)\n",
    "        counts[i] += 1\n",
    "        for j in 1:n_lose[i]\n",
    "            i_w = i_lose[i, j]\n",
    "            wins[i_w]+= 1\n",
    "        end\n",
    "    end\n",
    "    return counts\n",
    "end\n"
   ]
  },
  {
   "cell_type": "code",
   "execution_count": 17,
   "id": "4021dd90",
   "metadata": {},
   "outputs": [
    {
     "data": {
      "text/html": [
       "<div><div style = \"float: left;\"><span>724×7 DataFrame</span></div><div style = \"float: right;\"><span style = \"font-style: italic;\">699 rows omitted</span></div><div style = \"clear: both;\"></div></div><div class = \"data-frame\" style = \"overflow-x: scroll;\"><table class = \"data-frame\" style = \"margin-bottom: 6px;\"><thead><tr class = \"header\"><th class = \"rowNumber\" style = \"font-weight: bold; text-align: right;\">Row</th><th style = \"text-align: left;\">name</th><th style = \"text-align: left;\">h</th><th style = \"text-align: left;\">f</th><th style = \"text-align: left;\">l</th><th style = \"text-align: left;\">p</th><th style = \"text-align: left;\">r</th><th style = \"text-align: left;\">s</th></tr><tr class = \"subheader headerLastRow\"><th class = \"rowNumber\" style = \"font-weight: bold; text-align: right;\"></th><th title = \"String\" style = \"text-align: left;\">String</th><th title = \"Int64\" style = \"text-align: left;\">Int64</th><th title = \"Int64\" style = \"text-align: left;\">Int64</th><th title = \"Int64\" style = \"text-align: left;\">Int64</th><th title = \"Int64\" style = \"text-align: left;\">Int64</th><th title = \"Int64\" style = \"text-align: left;\">Int64</th><th title = \"Int64\" style = \"text-align: left;\">Int64</th></tr></thead><tbody><tr><td class = \"rowNumber\" style = \"font-weight: bold; text-align: right;\">1</td><td style = \"text-align: left;\">Vigorous System designer Tashmijab</td><td style = \"text-align: right;\">1</td><td style = \"text-align: right;\">2</td><td style = \"text-align: right;\">2</td><td style = \"text-align: right;\">15</td><td style = \"text-align: right;\">17</td><td style = \"text-align: right;\">16</td></tr><tr><td class = \"rowNumber\" style = \"font-weight: bold; text-align: right;\">2</td><td style = \"text-align: left;\">Bewitching System designer Batata vada</td><td style = \"text-align: right;\">1</td><td style = \"text-align: right;\">2</td><td style = \"text-align: right;\">4</td><td style = \"text-align: right;\">19</td><td style = \"text-align: right;\">8</td><td style = \"text-align: right;\">20</td></tr><tr><td class = \"rowNumber\" style = \"font-weight: bold; text-align: right;\">3</td><td style = \"text-align: left;\">Irresistible Technical engineer Tashmijab</td><td style = \"text-align: right;\">1</td><td style = \"text-align: right;\">2</td><td style = \"text-align: right;\">6</td><td style = \"text-align: right;\">14</td><td style = \"text-align: right;\">15</td><td style = \"text-align: right;\">17</td></tr><tr><td class = \"rowNumber\" style = \"font-weight: bold; text-align: right;\">4</td><td style = \"text-align: left;\">Virtuoso System designer Boulangère potatoes</td><td style = \"text-align: right;\">1</td><td style = \"text-align: right;\">2</td><td style = \"text-align: right;\">6</td><td style = \"text-align: right;\">16</td><td style = \"text-align: right;\">17</td><td style = \"text-align: right;\">13</td></tr><tr><td class = \"rowNumber\" style = \"font-weight: bold; text-align: right;\">5</td><td style = \"text-align: left;\">Driven System designer French fries</td><td style = \"text-align: right;\">1</td><td style = \"text-align: right;\">2</td><td style = \"text-align: right;\">6</td><td style = \"text-align: right;\">18</td><td style = \"text-align: right;\">10</td><td style = \"text-align: right;\">18</td></tr><tr><td class = \"rowNumber\" style = \"font-weight: bold; text-align: right;\">6</td><td style = \"text-align: left;\">Logical System designer Rappie pie</td><td style = \"text-align: right;\">1</td><td style = \"text-align: right;\">2</td><td style = \"text-align: right;\">8</td><td style = \"text-align: right;\">11</td><td style = \"text-align: right;\">19</td><td style = \"text-align: right;\">15</td></tr><tr><td class = \"rowNumber\" style = \"font-weight: bold; text-align: right;\">7</td><td style = \"text-align: left;\">Tenacious Coast guard Kouign patatez</td><td style = \"text-align: right;\">1</td><td style = \"text-align: right;\">2</td><td style = \"text-align: right;\">8</td><td style = \"text-align: right;\">19</td><td style = \"text-align: right;\">6</td><td style = \"text-align: right;\">20</td></tr><tr><td class = \"rowNumber\" style = \"font-weight: bold; text-align: right;\">8</td><td style = \"text-align: left;\">Self-reliant Paleontologist Rappie pie</td><td style = \"text-align: right;\">1</td><td style = \"text-align: right;\">2</td><td style = \"text-align: right;\">8</td><td style = \"text-align: right;\">20</td><td style = \"text-align: right;\">18</td><td style = \"text-align: right;\">7</td></tr><tr><td class = \"rowNumber\" style = \"font-weight: bold; text-align: right;\">9</td><td style = \"text-align: left;\">Eager System designer Okroshka</td><td style = \"text-align: right;\">1</td><td style = \"text-align: right;\">2</td><td style = \"text-align: right;\">10</td><td style = \"text-align: right;\">17</td><td style = \"text-align: right;\">15</td><td style = \"text-align: right;\">12</td></tr><tr><td class = \"rowNumber\" style = \"font-weight: bold; text-align: right;\">10</td><td style = \"text-align: left;\">Fascinated Automobile racer Meat and potato pie</td><td style = \"text-align: right;\">1</td><td style = \"text-align: right;\">2</td><td style = \"text-align: right;\">10</td><td style = \"text-align: right;\">19</td><td style = \"text-align: right;\">6</td><td style = \"text-align: right;\">19</td></tr><tr><td class = \"rowNumber\" style = \"font-weight: bold; text-align: right;\">11</td><td style = \"text-align: left;\">Self-motivated Automobile racer Boulangère potatoes</td><td style = \"text-align: right;\">1</td><td style = \"text-align: right;\">2</td><td style = \"text-align: right;\">10</td><td style = \"text-align: right;\">20</td><td style = \"text-align: right;\">4</td><td style = \"text-align: right;\">20</td></tr><tr><td class = \"rowNumber\" style = \"font-weight: bold; text-align: right;\">12</td><td style = \"text-align: left;\">Prudent Technical engineer Rewena bread</td><td style = \"text-align: right;\">1</td><td style = \"text-align: right;\">2</td><td style = \"text-align: right;\">14</td><td style = \"text-align: right;\">3</td><td style = \"text-align: right;\">19</td><td style = \"text-align: right;\">20</td></tr><tr><td class = \"rowNumber\" style = \"font-weight: bold; text-align: right;\">13</td><td style = \"text-align: left;\">Absorbed Cardiologist Suan la tu dou si</td><td style = \"text-align: right;\">1</td><td style = \"text-align: right;\">2</td><td style = \"text-align: right;\">14</td><td style = \"text-align: right;\">14</td><td style = \"text-align: right;\">18</td><td style = \"text-align: right;\">10</td></tr><tr><td style = \"text-align: right;\">&vellip;</td><td style = \"text-align: right;\">&vellip;</td><td style = \"text-align: right;\">&vellip;</td><td style = \"text-align: right;\">&vellip;</td><td style = \"text-align: right;\">&vellip;</td><td style = \"text-align: right;\">&vellip;</td><td style = \"text-align: right;\">&vellip;</td><td style = \"text-align: right;\">&vellip;</td></tr><tr><td class = \"rowNumber\" style = \"font-weight: bold; text-align: right;\">713</td><td style = \"text-align: left;\">Punctual Level designer (also Mapper) Nikujaga</td><td style = \"text-align: right;\">19</td><td style = \"text-align: right;\">2</td><td style = \"text-align: right;\">1</td><td style = \"text-align: right;\">17</td><td style = \"text-align: right;\">1</td><td style = \"text-align: right;\">3</td></tr><tr><td class = \"rowNumber\" style = \"font-weight: bold; text-align: right;\">714</td><td style = \"text-align: left;\">Exuberant Auditor Chapalele</td><td style = \"text-align: right;\">20</td><td style = \"text-align: right;\">1</td><td style = \"text-align: right;\">2</td><td style = \"text-align: right;\">2</td><td style = \"text-align: right;\">20</td><td style = \"text-align: right;\">18</td></tr><tr><td class = \"rowNumber\" style = \"font-weight: bold; text-align: right;\">715</td><td style = \"text-align: left;\">Satisfying Gunsmith Okroshka</td><td style = \"text-align: right;\">20</td><td style = \"text-align: right;\">1</td><td style = \"text-align: right;\">2</td><td style = \"text-align: right;\">17</td><td style = \"text-align: right;\">15</td><td style = \"text-align: right;\">8</td></tr><tr><td class = \"rowNumber\" style = \"font-weight: bold; text-align: right;\">716</td><td style = \"text-align: left;\">Valiant Stunt double Rumbledethumps</td><td style = \"text-align: right;\">20</td><td style = \"text-align: right;\">1</td><td style = \"text-align: right;\">2</td><td style = \"text-align: right;\">19</td><td style = \"text-align: right;\">1</td><td style = \"text-align: right;\">20</td></tr><tr><td class = \"rowNumber\" style = \"font-weight: bold; text-align: right;\">717</td><td style = \"text-align: left;\">Torpid Gunsmith Ajiaco</td><td style = \"text-align: right;\">20</td><td style = \"text-align: right;\">1</td><td style = \"text-align: right;\">3</td><td style = \"text-align: right;\">2</td><td style = \"text-align: right;\">12</td><td style = \"text-align: right;\">6</td></tr><tr><td class = \"rowNumber\" style = \"font-weight: bold; text-align: right;\">718</td><td style = \"text-align: left;\">Nonchalant Gunsmith Brændende kærlighed</td><td style = \"text-align: right;\">20</td><td style = \"text-align: right;\">1</td><td style = \"text-align: right;\">3</td><td style = \"text-align: right;\">8</td><td style = \"text-align: right;\">10</td><td style = \"text-align: right;\">2</td></tr><tr><td class = \"rowNumber\" style = \"font-weight: bold; text-align: right;\">719</td><td style = \"text-align: left;\">Unassertive Fitter Cacasse à cul nu</td><td style = \"text-align: right;\">20</td><td style = \"text-align: right;\">1</td><td style = \"text-align: right;\">3</td><td style = \"text-align: right;\">12</td><td style = \"text-align: right;\">1</td><td style = \"text-align: right;\">7</td></tr><tr><td class = \"rowNumber\" style = \"font-weight: bold; text-align: right;\">720</td><td style = \"text-align: left;\">Celebrated Level designer (also Mapper) French fries</td><td style = \"text-align: right;\">20</td><td style = \"text-align: right;\">1</td><td style = \"text-align: right;\">3</td><td style = \"text-align: right;\">13</td><td style = \"text-align: right;\">1</td><td style = \"text-align: right;\">6</td></tr><tr><td class = \"rowNumber\" style = \"font-weight: bold; text-align: right;\">721</td><td style = \"text-align: left;\">Dull Auditor Ajiaco</td><td style = \"text-align: right;\">20</td><td style = \"text-align: right;\">2</td><td style = \"text-align: right;\">1</td><td style = \"text-align: right;\">2</td><td style = \"text-align: right;\">11</td><td style = \"text-align: right;\">7</td></tr><tr><td class = \"rowNumber\" style = \"font-weight: bold; text-align: right;\">722</td><td style = \"text-align: left;\">Unobservant Signalman Papas chorreadas</td><td style = \"text-align: right;\">20</td><td style = \"text-align: right;\">2</td><td style = \"text-align: right;\">1</td><td style = \"text-align: right;\">4</td><td style = \"text-align: right;\">6</td><td style = \"text-align: right;\">10</td></tr><tr><td class = \"rowNumber\" style = \"font-weight: bold; text-align: right;\">723</td><td style = \"text-align: left;\">Withdrawn Lumberjack Gnocchi</td><td style = \"text-align: right;\">20</td><td style = \"text-align: right;\">2</td><td style = \"text-align: right;\">1</td><td style = \"text-align: right;\">9</td><td style = \"text-align: right;\">4</td><td style = \"text-align: right;\">7</td></tr><tr><td class = \"rowNumber\" style = \"font-weight: bold; text-align: right;\">724</td><td style = \"text-align: left;\">Unresponsive Prosecutor Cacasse à cul nu</td><td style = \"text-align: right;\">20</td><td style = \"text-align: right;\">2</td><td style = \"text-align: right;\">1</td><td style = \"text-align: right;\">13</td><td style = \"text-align: right;\">5</td><td style = \"text-align: right;\">2</td></tr></tbody></table></div>"
      ],
      "text/latex": [
       "\\begin{tabular}{r|cccccc}\n",
       "\t& name & h & f & l & p & \\\\\n",
       "\t\\hline\n",
       "\t& String & Int64 & Int64 & Int64 & Int64 & \\\\\n",
       "\t\\hline\n",
       "\t1 & Vigorous System designer Tashmijab & 1 & 2 & 2 & 15 & $\\dots$ \\\\\n",
       "\t2 & Bewitching System designer Batata vada & 1 & 2 & 4 & 19 & $\\dots$ \\\\\n",
       "\t3 & Irresistible Technical engineer Tashmijab & 1 & 2 & 6 & 14 & $\\dots$ \\\\\n",
       "\t4 & Virtuoso System designer Boulangère potatoes & 1 & 2 & 6 & 16 & $\\dots$ \\\\\n",
       "\t5 & Driven System designer French fries & 1 & 2 & 6 & 18 & $\\dots$ \\\\\n",
       "\t6 & Logical System designer Rappie pie & 1 & 2 & 8 & 11 & $\\dots$ \\\\\n",
       "\t7 & Tenacious Coast guard Kouign patatez & 1 & 2 & 8 & 19 & $\\dots$ \\\\\n",
       "\t8 & Self-reliant Paleontologist Rappie pie & 1 & 2 & 8 & 20 & $\\dots$ \\\\\n",
       "\t9 & Eager System designer Okroshka & 1 & 2 & 10 & 17 & $\\dots$ \\\\\n",
       "\t10 & Fascinated Automobile racer Meat and potato pie & 1 & 2 & 10 & 19 & $\\dots$ \\\\\n",
       "\t11 & Self-motivated Automobile racer Boulangère potatoes & 1 & 2 & 10 & 20 & $\\dots$ \\\\\n",
       "\t12 & Prudent Technical engineer Rewena bread & 1 & 2 & 14 & 3 & $\\dots$ \\\\\n",
       "\t13 & Absorbed Cardiologist Suan la tu dou si & 1 & 2 & 14 & 14 & $\\dots$ \\\\\n",
       "\t14 & Jovial Real estate investor Aligot & 1 & 2 & 16 & 8 & $\\dots$ \\\\\n",
       "\t15 & Well-rounded Real estate investor Pommes Anna & 1 & 2 & 16 & 10 & $\\dots$ \\\\\n",
       "\t16 & Caring System designer French fries & 1 & 2 & 16 & 14 & $\\dots$ \\\\\n",
       "\t17 & Organized Magnate Papas chorreadas & 1 & 2 & 16 & 15 & $\\dots$ \\\\\n",
       "\t18 & Tantalizing Real estate investor Okroshka & 1 & 2 & 18 & 5 & $\\dots$ \\\\\n",
       "\t19 & Experienced Automobile racer Pitepalt & 1 & 2 & 18 & 20 & $\\dots$ \\\\\n",
       "\t20 & Lenient Coast guard Pommes Anna & 1 & 2 & 20 & 7 & $\\dots$ \\\\\n",
       "\t21 & Astute System designer Papas chorreadas & 1 & 3 & 1 & 9 & $\\dots$ \\\\\n",
       "\t22 & Self-sufficient Coast guard Funeral potatoes & 1 & 3 & 1 & 18 & $\\dots$ \\\\\n",
       "\t23 & Vigorous Demolitionist Meat and potato pie & 1 & 3 & 1 & 18 & $\\dots$ \\\\\n",
       "\t24 & Mesmerized System designer Nikujaga & 1 & 3 & 4 & 9 & $\\dots$ \\\\\n",
       "\t25 & Engaging System designer Aligot & 1 & 3 & 4 & 15 & $\\dots$ \\\\\n",
       "\t26 & Thoughtful Demolitionist Gamjajeon & 1 & 3 & 4 & 17 & $\\dots$ \\\\\n",
       "\t27 & Deep System designer Rappie pie & 1 & 3 & 7 & 7 & $\\dots$ \\\\\n",
       "\t28 & Preoccupied Cardiologist Gnocchi & 1 & 3 & 7 & 7 & $\\dots$ \\\\\n",
       "\t29 & Practical Medic Potato babka & 1 & 3 & 7 & 10 & $\\dots$ \\\\\n",
       "\t30 & Evocative Fitter Rewena bread & 1 & 3 & 7 & 13 & $\\dots$ \\\\\n",
       "\t$\\dots$ & $\\dots$ & $\\dots$ & $\\dots$ & $\\dots$ & $\\dots$ &  \\\\\n",
       "\\end{tabular}\n"
      ],
      "text/plain": [
       "\u001b[1m724×7 DataFrame\u001b[0m\n",
       "\u001b[1m Row \u001b[0m│\u001b[1m name                              \u001b[0m\u001b[1m h     \u001b[0m\u001b[1m f     \u001b[0m\u001b[1m l     \u001b[0m\u001b[1m p     \u001b[0m\u001b[1m r     \u001b[0m\u001b[1m s\u001b[0m ⋯\n",
       "     │\u001b[90m String                            \u001b[0m\u001b[90m Int64 \u001b[0m\u001b[90m Int64 \u001b[0m\u001b[90m Int64 \u001b[0m\u001b[90m Int64 \u001b[0m\u001b[90m Int64 \u001b[0m\u001b[90m I\u001b[0m ⋯\n",
       "─────┼──────────────────────────────────────────────────────────────────────────\n",
       "   1 │ Vigorous System designer Tashmij…      1      2      2     15     17    ⋯\n",
       "   2 │ Bewitching System designer Batat…      1      2      4     19      8\n",
       "   3 │ Irresistible Technical engineer …      1      2      6     14     15\n",
       "   4 │ Virtuoso System designer Boulang…      1      2      6     16     17\n",
       "   5 │ Driven System designer French fr…      1      2      6     18     10    ⋯\n",
       "   6 │ Logical System designer Rappie p…      1      2      8     11     19\n",
       "   7 │ Tenacious Coast guard Kouign pat…      1      2      8     19      6\n",
       "   8 │ Self-reliant Paleontologist Rapp…      1      2      8     20     18\n",
       "   9 │ Eager System designer Okroshka         1      2     10     17     15    ⋯\n",
       "  10 │ Fascinated Automobile racer Meat…      1      2     10     19      6\n",
       "  11 │ Self-motivated Automobile racer …      1      2     10     20      4\n",
       "  ⋮  │                 ⋮                    ⋮      ⋮      ⋮      ⋮      ⋮      ⋱\n",
       " 715 │ Satisfying Gunsmith Okroshka          20      1      2     17     15\n",
       " 716 │ Valiant Stunt double Rumbledethu…     20      1      2     19      1    ⋯\n",
       " 717 │ Torpid Gunsmith Ajiaco                20      1      3      2     12\n",
       " 718 │ Nonchalant Gunsmith Brændende kæ…     20      1      3      8     10\n",
       " 719 │ Unassertive Fitter Cacasse à cul…     20      1      3     12      1\n",
       " 720 │ Celebrated Level designer (also …     20      1      3     13      1    ⋯\n",
       " 721 │ Dull Auditor Ajiaco                   20      2      1      2     11\n",
       " 722 │ Unobservant Signalman Papas chor…     20      2      1      4      6\n",
       " 723 │ Withdrawn Lumberjack Gnocchi          20      2      1      9      4\n",
       " 724 │ Unresponsive Prosecutor Cacasse …     20      2      1     13      5    ⋯\n",
       "\u001b[36m                                                   1 column and 703 rows omitted\u001b[0m"
      ]
     },
     "execution_count": 17,
     "metadata": {},
     "output_type": "execute_result"
    }
   ],
   "source": [
    "nash_env = [rand_rename(s) for s in library]\n",
    "spuds_to_df(nash_env)"
   ]
  },
  {
   "cell_type": "code",
   "execution_count": 18,
   "id": "0e75ca0c",
   "metadata": {},
   "outputs": [],
   "source": [
    "counts = ffp(nash_env, 1000);"
   ]
  },
  {
   "cell_type": "code",
   "execution_count": 19,
   "id": "8336bfca",
   "metadata": {},
   "outputs": [
    {
     "data": {
      "text/html": [
       "<div><div style = \"float: left;\"><span>10×7 DataFrame</span></div><div style = \"clear: both;\"></div></div><div class = \"data-frame\" style = \"overflow-x: scroll;\"><table class = \"data-frame\" style = \"margin-bottom: 6px;\"><thead><tr class = \"header\"><th class = \"rowNumber\" style = \"font-weight: bold; text-align: right;\">Row</th><th style = \"text-align: left;\">name</th><th style = \"text-align: left;\">h</th><th style = \"text-align: left;\">f</th><th style = \"text-align: left;\">l</th><th style = \"text-align: left;\">p</th><th style = \"text-align: left;\">r</th><th style = \"text-align: left;\">s</th></tr><tr class = \"subheader headerLastRow\"><th class = \"rowNumber\" style = \"font-weight: bold; text-align: right;\"></th><th title = \"String\" style = \"text-align: left;\">String</th><th title = \"Int64\" style = \"text-align: left;\">Int64</th><th title = \"Int64\" style = \"text-align: left;\">Int64</th><th title = \"Int64\" style = \"text-align: left;\">Int64</th><th title = \"Int64\" style = \"text-align: left;\">Int64</th><th title = \"Int64\" style = \"text-align: left;\">Int64</th><th title = \"Int64\" style = \"text-align: left;\">Int64</th></tr></thead><tbody><tr><td class = \"rowNumber\" style = \"font-weight: bold; text-align: right;\">1</td><td style = \"text-align: left;\">Compassionate Joker Papas chorreadas</td><td style = \"text-align: right;\">3</td><td style = \"text-align: right;\">8</td><td style = \"text-align: right;\">9</td><td style = \"text-align: right;\">1</td><td style = \"text-align: right;\">3</td><td style = \"text-align: right;\">2</td></tr><tr><td class = \"rowNumber\" style = \"font-weight: bold; text-align: right;\">2</td><td style = \"text-align: left;\">Daring Gondolier Rewena bread</td><td style = \"text-align: right;\">4</td><td style = \"text-align: right;\">5</td><td style = \"text-align: right;\">13</td><td style = \"text-align: right;\">1</td><td style = \"text-align: right;\">1</td><td style = \"text-align: right;\">3</td></tr><tr><td class = \"rowNumber\" style = \"font-weight: bold; text-align: right;\">3</td><td style = \"text-align: left;\">Inattentive Magnate Potato babka</td><td style = \"text-align: right;\">5</td><td style = \"text-align: right;\">1</td><td style = \"text-align: right;\">15</td><td style = \"text-align: right;\">3</td><td style = \"text-align: right;\">10</td><td style = \"text-align: right;\">7</td></tr><tr><td class = \"rowNumber\" style = \"font-weight: bold; text-align: right;\">4</td><td style = \"text-align: left;\">Sweet Party-leader Potato babka</td><td style = \"text-align: right;\">5</td><td style = \"text-align: right;\">2</td><td style = \"text-align: right;\">15</td><td style = \"text-align: right;\">3</td><td style = \"text-align: right;\">2</td><td style = \"text-align: right;\">2</td></tr><tr><td class = \"rowNumber\" style = \"font-weight: bold; text-align: right;\">5</td><td style = \"text-align: left;\">Untroubled Miller Maluns</td><td style = \"text-align: right;\">5</td><td style = \"text-align: right;\">6</td><td style = \"text-align: right;\">2</td><td style = \"text-align: right;\">3</td><td style = \"text-align: right;\">4</td><td style = \"text-align: right;\">3</td></tr><tr><td class = \"rowNumber\" style = \"font-weight: bold; text-align: right;\">6</td><td style = \"text-align: left;\">Objective Nanny (also nursemaid) Aligot</td><td style = \"text-align: right;\">5</td><td style = \"text-align: right;\">7</td><td style = \"text-align: right;\">8</td><td style = \"text-align: right;\">1</td><td style = \"text-align: right;\">1</td><td style = \"text-align: right;\">1</td></tr><tr><td class = \"rowNumber\" style = \"font-weight: bold; text-align: right;\">7</td><td style = \"text-align: left;\">Relaxed Auctioneer Pommes Anna</td><td style = \"text-align: right;\">6</td><td style = \"text-align: right;\">1</td><td style = \"text-align: right;\">13</td><td style = \"text-align: right;\">5</td><td style = \"text-align: right;\">1</td><td style = \"text-align: right;\">10</td></tr><tr><td class = \"rowNumber\" style = \"font-weight: bold; text-align: right;\">8</td><td style = \"text-align: left;\">Sage Housekeeper Pommes Anna</td><td style = \"text-align: right;\">6</td><td style = \"text-align: right;\">6</td><td style = \"text-align: right;\">4</td><td style = \"text-align: right;\">1</td><td style = \"text-align: right;\">3</td><td style = \"text-align: right;\">2</td></tr><tr><td class = \"rowNumber\" style = \"font-weight: bold; text-align: right;\">9</td><td style = \"text-align: left;\">Unimposing Housekeeper Chips and dip</td><td style = \"text-align: right;\">7</td><td style = \"text-align: right;\">5</td><td style = \"text-align: right;\">5</td><td style = \"text-align: right;\">3</td><td style = \"text-align: right;\">1</td><td style = \"text-align: right;\">2</td></tr><tr><td class = \"rowNumber\" style = \"font-weight: bold; text-align: right;\">10</td><td style = \"text-align: left;\">Peaceful Copywriter Älplermagronen</td><td style = \"text-align: right;\">8</td><td style = \"text-align: right;\">1</td><td style = \"text-align: right;\">10</td><td style = \"text-align: right;\">2</td><td style = \"text-align: right;\">6</td><td style = \"text-align: right;\">4</td></tr></tbody></table></div>"
      ],
      "text/latex": [
       "\\begin{tabular}{r|ccccccc}\n",
       "\t& name & h & f & l & p & r & s\\\\\n",
       "\t\\hline\n",
       "\t& String & Int64 & Int64 & Int64 & Int64 & Int64 & Int64\\\\\n",
       "\t\\hline\n",
       "\t1 & Compassionate Joker Papas chorreadas & 3 & 8 & 9 & 1 & 3 & 2 \\\\\n",
       "\t2 & Daring Gondolier Rewena bread & 4 & 5 & 13 & 1 & 1 & 3 \\\\\n",
       "\t3 & Inattentive Magnate Potato babka & 5 & 1 & 15 & 3 & 10 & 7 \\\\\n",
       "\t4 & Sweet Party-leader Potato babka & 5 & 2 & 15 & 3 & 2 & 2 \\\\\n",
       "\t5 & Untroubled Miller Maluns & 5 & 6 & 2 & 3 & 4 & 3 \\\\\n",
       "\t6 & Objective Nanny (also nursemaid) Aligot & 5 & 7 & 8 & 1 & 1 & 1 \\\\\n",
       "\t7 & Relaxed Auctioneer Pommes Anna & 6 & 1 & 13 & 5 & 1 & 10 \\\\\n",
       "\t8 & Sage Housekeeper Pommes Anna & 6 & 6 & 4 & 1 & 3 & 2 \\\\\n",
       "\t9 & Unimposing Housekeeper Chips and dip & 7 & 5 & 5 & 3 & 1 & 2 \\\\\n",
       "\t10 & Peaceful Copywriter Älplermagronen & 8 & 1 & 10 & 2 & 6 & 4 \\\\\n",
       "\\end{tabular}\n"
      ],
      "text/plain": [
       "\u001b[1m10×7 DataFrame\u001b[0m\n",
       "\u001b[1m Row \u001b[0m│\u001b[1m name                              \u001b[0m\u001b[1m h     \u001b[0m\u001b[1m f     \u001b[0m\u001b[1m l     \u001b[0m\u001b[1m p     \u001b[0m\u001b[1m r     \u001b[0m\u001b[1m s\u001b[0m ⋯\n",
       "     │\u001b[90m String                            \u001b[0m\u001b[90m Int64 \u001b[0m\u001b[90m Int64 \u001b[0m\u001b[90m Int64 \u001b[0m\u001b[90m Int64 \u001b[0m\u001b[90m Int64 \u001b[0m\u001b[90m I\u001b[0m ⋯\n",
       "─────┼──────────────────────────────────────────────────────────────────────────\n",
       "   1 │ Compassionate Joker Papas chorre…      3      8      9      1      3    ⋯\n",
       "   2 │ Daring Gondolier Rewena bread          4      5     13      1      1\n",
       "   3 │ Inattentive Magnate Potato babka       5      1     15      3     10\n",
       "   4 │ Sweet Party-leader Potato babka        5      2     15      3      2\n",
       "   5 │ Untroubled Miller Maluns               5      6      2      3      4    ⋯\n",
       "   6 │ Objective Nanny (also nursemaid)…      5      7      8      1      1\n",
       "   7 │ Relaxed Auctioneer Pommes Anna         6      1     13      5      1\n",
       "   8 │ Sage Housekeeper Pommes Anna           6      6      4      1      3\n",
       "   9 │ Unimposing Housekeeper Chips and…      7      5      5      3      1    ⋯\n",
       "  10 │ Peaceful Copywriter Älplermagron…      8      1     10      2      6\n",
       "\u001b[36m                                                                1 column omitted\u001b[0m"
      ]
     },
     "execution_count": 19,
     "metadata": {},
     "output_type": "execute_result"
    }
   ],
   "source": [
    "nash_env = nash_env[counts .> 10]\n",
    "spuds_to_df(nash_env)"
   ]
  },
  {
   "cell_type": "code",
   "execution_count": 20,
   "id": "fcd27346",
   "metadata": {},
   "outputs": [
    {
     "data": {
      "text/plain": [
       "10-element Vector{Int64}:\n",
       " 2031\n",
       "    1\n",
       "    1\n",
       "    1\n",
       " 1986\n",
       "    1\n",
       " 2001\n",
       "    1\n",
       " 1959\n",
       " 2028"
      ]
     },
     "execution_count": 20,
     "metadata": {},
     "output_type": "execute_result"
    }
   ],
   "source": [
    "counts = ffp(nash_env, 10000)"
   ]
  },
  {
   "cell_type": "code",
   "execution_count": 21,
   "id": "04414a09",
   "metadata": {},
   "outputs": [
    {
     "data": {
      "text/html": [
       "<div><div style = \"float: left;\"><span>5×7 DataFrame</span></div><div style = \"clear: both;\"></div></div><div class = \"data-frame\" style = \"overflow-x: scroll;\"><table class = \"data-frame\" style = \"margin-bottom: 6px;\"><thead><tr class = \"header\"><th class = \"rowNumber\" style = \"font-weight: bold; text-align: right;\">Row</th><th style = \"text-align: left;\">name</th><th style = \"text-align: left;\">h</th><th style = \"text-align: left;\">f</th><th style = \"text-align: left;\">l</th><th style = \"text-align: left;\">p</th><th style = \"text-align: left;\">r</th><th style = \"text-align: left;\">s</th></tr><tr class = \"subheader headerLastRow\"><th class = \"rowNumber\" style = \"font-weight: bold; text-align: right;\"></th><th title = \"String\" style = \"text-align: left;\">String</th><th title = \"Int64\" style = \"text-align: left;\">Int64</th><th title = \"Int64\" style = \"text-align: left;\">Int64</th><th title = \"Int64\" style = \"text-align: left;\">Int64</th><th title = \"Int64\" style = \"text-align: left;\">Int64</th><th title = \"Int64\" style = \"text-align: left;\">Int64</th><th title = \"Int64\" style = \"text-align: left;\">Int64</th></tr></thead><tbody><tr><td class = \"rowNumber\" style = \"font-weight: bold; text-align: right;\">1</td><td style = \"text-align: left;\">Compassionate Joker Papas chorreadas</td><td style = \"text-align: right;\">3</td><td style = \"text-align: right;\">8</td><td style = \"text-align: right;\">9</td><td style = \"text-align: right;\">1</td><td style = \"text-align: right;\">3</td><td style = \"text-align: right;\">2</td></tr><tr><td class = \"rowNumber\" style = \"font-weight: bold; text-align: right;\">2</td><td style = \"text-align: left;\">Untroubled Miller Maluns</td><td style = \"text-align: right;\">5</td><td style = \"text-align: right;\">6</td><td style = \"text-align: right;\">2</td><td style = \"text-align: right;\">3</td><td style = \"text-align: right;\">4</td><td style = \"text-align: right;\">3</td></tr><tr><td class = \"rowNumber\" style = \"font-weight: bold; text-align: right;\">3</td><td style = \"text-align: left;\">Relaxed Auctioneer Pommes Anna</td><td style = \"text-align: right;\">6</td><td style = \"text-align: right;\">1</td><td style = \"text-align: right;\">13</td><td style = \"text-align: right;\">5</td><td style = \"text-align: right;\">1</td><td style = \"text-align: right;\">10</td></tr><tr><td class = \"rowNumber\" style = \"font-weight: bold; text-align: right;\">4</td><td style = \"text-align: left;\">Unimposing Housekeeper Chips and dip</td><td style = \"text-align: right;\">7</td><td style = \"text-align: right;\">5</td><td style = \"text-align: right;\">5</td><td style = \"text-align: right;\">3</td><td style = \"text-align: right;\">1</td><td style = \"text-align: right;\">2</td></tr><tr><td class = \"rowNumber\" style = \"font-weight: bold; text-align: right;\">5</td><td style = \"text-align: left;\">Peaceful Copywriter Älplermagronen</td><td style = \"text-align: right;\">8</td><td style = \"text-align: right;\">1</td><td style = \"text-align: right;\">10</td><td style = \"text-align: right;\">2</td><td style = \"text-align: right;\">6</td><td style = \"text-align: right;\">4</td></tr></tbody></table></div>"
      ],
      "text/latex": [
       "\\begin{tabular}{r|ccccccc}\n",
       "\t& name & h & f & l & p & r & s\\\\\n",
       "\t\\hline\n",
       "\t& String & Int64 & Int64 & Int64 & Int64 & Int64 & Int64\\\\\n",
       "\t\\hline\n",
       "\t1 & Compassionate Joker Papas chorreadas & 3 & 8 & 9 & 1 & 3 & 2 \\\\\n",
       "\t2 & Untroubled Miller Maluns & 5 & 6 & 2 & 3 & 4 & 3 \\\\\n",
       "\t3 & Relaxed Auctioneer Pommes Anna & 6 & 1 & 13 & 5 & 1 & 10 \\\\\n",
       "\t4 & Unimposing Housekeeper Chips and dip & 7 & 5 & 5 & 3 & 1 & 2 \\\\\n",
       "\t5 & Peaceful Copywriter Älplermagronen & 8 & 1 & 10 & 2 & 6 & 4 \\\\\n",
       "\\end{tabular}\n"
      ],
      "text/plain": [
       "\u001b[1m5×7 DataFrame\u001b[0m\n",
       "\u001b[1m Row \u001b[0m│\u001b[1m name                              \u001b[0m\u001b[1m h     \u001b[0m\u001b[1m f     \u001b[0m\u001b[1m l     \u001b[0m\u001b[1m p     \u001b[0m\u001b[1m r     \u001b[0m\u001b[1m s\u001b[0m ⋯\n",
       "     │\u001b[90m String                            \u001b[0m\u001b[90m Int64 \u001b[0m\u001b[90m Int64 \u001b[0m\u001b[90m Int64 \u001b[0m\u001b[90m Int64 \u001b[0m\u001b[90m Int64 \u001b[0m\u001b[90m I\u001b[0m ⋯\n",
       "─────┼──────────────────────────────────────────────────────────────────────────\n",
       "   1 │ Compassionate Joker Papas chorre…      3      8      9      1      3    ⋯\n",
       "   2 │ Untroubled Miller Maluns               5      6      2      3      4\n",
       "   3 │ Relaxed Auctioneer Pommes Anna         6      1     13      5      1\n",
       "   4 │ Unimposing Housekeeper Chips and…      7      5      5      3      1\n",
       "   5 │ Peaceful Copywriter Älplermagron…      8      1     10      2      6    ⋯\n",
       "\u001b[36m                                                                1 column omitted\u001b[0m"
      ]
     },
     "execution_count": 21,
     "metadata": {},
     "output_type": "execute_result"
    }
   ],
   "source": [
    "nash_env = nash_env[counts .> 10]\n",
    "spuds_to_df(nash_env)"
   ]
  },
  {
   "cell_type": "markdown",
   "id": "8dba7dcc",
   "metadata": {},
   "source": [
    "### Loop this"
   ]
  },
  {
   "cell_type": "code",
   "execution_count": 22,
   "id": "e0bc4a54",
   "metadata": {},
   "outputs": [
    {
     "data": {
      "text/plain": [
       "5-element Vector{Int64}:\n",
       " 20\n",
       " 20\n",
       " 22\n",
       " 18\n",
       " 25"
      ]
     },
     "execution_count": 22,
     "metadata": {},
     "output_type": "execute_result"
    }
   ],
   "source": [
    "counts = ffp(nash_env, 100)"
   ]
  },
  {
   "cell_type": "code",
   "execution_count": 23,
   "id": "c9abb9e9",
   "metadata": {},
   "outputs": [],
   "source": [
    "#counts = ffp(nash_env, 10000)"
   ]
  },
  {
   "cell_type": "code",
   "execution_count": 24,
   "id": "dda23034",
   "metadata": {},
   "outputs": [
    {
     "data": {
      "text/html": [
       "<div><div style = \"float: left;\"><span>5×7 DataFrame</span></div><div style = \"clear: both;\"></div></div><div class = \"data-frame\" style = \"overflow-x: scroll;\"><table class = \"data-frame\" style = \"margin-bottom: 6px;\"><thead><tr class = \"header\"><th class = \"rowNumber\" style = \"font-weight: bold; text-align: right;\">Row</th><th style = \"text-align: left;\">name</th><th style = \"text-align: left;\">h</th><th style = \"text-align: left;\">f</th><th style = \"text-align: left;\">l</th><th style = \"text-align: left;\">p</th><th style = \"text-align: left;\">r</th><th style = \"text-align: left;\">s</th></tr><tr class = \"subheader headerLastRow\"><th class = \"rowNumber\" style = \"font-weight: bold; text-align: right;\"></th><th title = \"String\" style = \"text-align: left;\">String</th><th title = \"Int64\" style = \"text-align: left;\">Int64</th><th title = \"Int64\" style = \"text-align: left;\">Int64</th><th title = \"Int64\" style = \"text-align: left;\">Int64</th><th title = \"Int64\" style = \"text-align: left;\">Int64</th><th title = \"Int64\" style = \"text-align: left;\">Int64</th><th title = \"Int64\" style = \"text-align: left;\">Int64</th></tr></thead><tbody><tr><td class = \"rowNumber\" style = \"font-weight: bold; text-align: right;\">1</td><td style = \"text-align: left;\">Compassionate Joker Papas chorreadas</td><td style = \"text-align: right;\">3</td><td style = \"text-align: right;\">8</td><td style = \"text-align: right;\">9</td><td style = \"text-align: right;\">1</td><td style = \"text-align: right;\">3</td><td style = \"text-align: right;\">2</td></tr><tr><td class = \"rowNumber\" style = \"font-weight: bold; text-align: right;\">2</td><td style = \"text-align: left;\">Untroubled Miller Maluns</td><td style = \"text-align: right;\">5</td><td style = \"text-align: right;\">6</td><td style = \"text-align: right;\">2</td><td style = \"text-align: right;\">3</td><td style = \"text-align: right;\">4</td><td style = \"text-align: right;\">3</td></tr><tr><td class = \"rowNumber\" style = \"font-weight: bold; text-align: right;\">3</td><td style = \"text-align: left;\">Relaxed Auctioneer Pommes Anna</td><td style = \"text-align: right;\">6</td><td style = \"text-align: right;\">1</td><td style = \"text-align: right;\">13</td><td style = \"text-align: right;\">5</td><td style = \"text-align: right;\">1</td><td style = \"text-align: right;\">10</td></tr><tr><td class = \"rowNumber\" style = \"font-weight: bold; text-align: right;\">4</td><td style = \"text-align: left;\">Unimposing Housekeeper Chips and dip</td><td style = \"text-align: right;\">7</td><td style = \"text-align: right;\">5</td><td style = \"text-align: right;\">5</td><td style = \"text-align: right;\">3</td><td style = \"text-align: right;\">1</td><td style = \"text-align: right;\">2</td></tr><tr><td class = \"rowNumber\" style = \"font-weight: bold; text-align: right;\">5</td><td style = \"text-align: left;\">Peaceful Copywriter Älplermagronen</td><td style = \"text-align: right;\">8</td><td style = \"text-align: right;\">1</td><td style = \"text-align: right;\">10</td><td style = \"text-align: right;\">2</td><td style = \"text-align: right;\">6</td><td style = \"text-align: right;\">4</td></tr></tbody></table></div>"
      ],
      "text/latex": [
       "\\begin{tabular}{r|ccccccc}\n",
       "\t& name & h & f & l & p & r & s\\\\\n",
       "\t\\hline\n",
       "\t& String & Int64 & Int64 & Int64 & Int64 & Int64 & Int64\\\\\n",
       "\t\\hline\n",
       "\t1 & Compassionate Joker Papas chorreadas & 3 & 8 & 9 & 1 & 3 & 2 \\\\\n",
       "\t2 & Untroubled Miller Maluns & 5 & 6 & 2 & 3 & 4 & 3 \\\\\n",
       "\t3 & Relaxed Auctioneer Pommes Anna & 6 & 1 & 13 & 5 & 1 & 10 \\\\\n",
       "\t4 & Unimposing Housekeeper Chips and dip & 7 & 5 & 5 & 3 & 1 & 2 \\\\\n",
       "\t5 & Peaceful Copywriter Älplermagronen & 8 & 1 & 10 & 2 & 6 & 4 \\\\\n",
       "\\end{tabular}\n"
      ],
      "text/plain": [
       "\u001b[1m5×7 DataFrame\u001b[0m\n",
       "\u001b[1m Row \u001b[0m│\u001b[1m name                              \u001b[0m\u001b[1m h     \u001b[0m\u001b[1m f     \u001b[0m\u001b[1m l     \u001b[0m\u001b[1m p     \u001b[0m\u001b[1m r     \u001b[0m\u001b[1m s\u001b[0m ⋯\n",
       "     │\u001b[90m String                            \u001b[0m\u001b[90m Int64 \u001b[0m\u001b[90m Int64 \u001b[0m\u001b[90m Int64 \u001b[0m\u001b[90m Int64 \u001b[0m\u001b[90m Int64 \u001b[0m\u001b[90m I\u001b[0m ⋯\n",
       "─────┼──────────────────────────────────────────────────────────────────────────\n",
       "   1 │ Compassionate Joker Papas chorre…      3      8      9      1      3    ⋯\n",
       "   2 │ Untroubled Miller Maluns               5      6      2      3      4\n",
       "   3 │ Relaxed Auctioneer Pommes Anna         6      1     13      5      1\n",
       "   4 │ Unimposing Housekeeper Chips and…      7      5      5      3      1\n",
       "   5 │ Peaceful Copywriter Älplermagron…      8      1     10      2      6    ⋯\n",
       "\u001b[36m                                                                1 column omitted\u001b[0m"
      ]
     },
     "execution_count": 24,
     "metadata": {},
     "output_type": "execute_result"
    }
   ],
   "source": [
    "spuds_to_df(nash_env)"
   ]
  },
  {
   "cell_type": "code",
   "execution_count": 25,
   "id": "b40c9c71",
   "metadata": {},
   "outputs": [],
   "source": [
    "# # don't run this every iteration!!\n",
    "# nash_env = nash_env[counts .> 10]\n",
    "# counts = ffp(nash_env, 10000)"
   ]
  },
  {
   "cell_type": "code",
   "execution_count": 26,
   "id": "7522c5a1",
   "metadata": {},
   "outputs": [
    {
     "data": {
      "text/plain": [
       "Spud(\"Perfectionist Stewardess (or Steward) Chapalele\", 2, 8, 6, 4, 1, 4)"
      ]
     },
     "execution_count": 26,
     "metadata": {},
     "output_type": "execute_result"
    }
   ],
   "source": [
    "ff = rand_rename(pick_best_library2(nash_env, counts./sum(counts)))"
   ]
  },
  {
   "cell_type": "code",
   "execution_count": 27,
   "id": "36d7d97a",
   "metadata": {},
   "outputs": [
    {
     "data": {
      "text/plain": [
       "1.0"
      ]
     },
     "execution_count": 27,
     "metadata": {},
     "output_type": "execute_result"
    }
   ],
   "source": [
    "ev = eval_battle_list2(ff, nash_env, counts./sum(counts))"
   ]
  },
  {
   "cell_type": "code",
   "execution_count": 28,
   "id": "7c3b3749",
   "metadata": {},
   "outputs": [
    {
     "data": {
      "text/plain": [
       "34-element Vector{Spud}:\n",
       " Spud(\"\", 1, 8, 4, 5, 2, 4)\n",
       " Spud(\"\", 1, 8, 4, 6, 1, 4)\n",
       " Spud(\"\", 2, 7, 11, 4, 1, 4)\n",
       " Spud(\"\", 2, 7, 11, 3, 5, 1)\n",
       " Spud(\"\", 2, 7, 15, 4, 1, 3)\n",
       " Spud(\"\", 2, 7, 11, 4, 2, 3)\n",
       " Spud(\"\", 2, 7, 11, 4, 4, 1)\n",
       " Spud(\"\", 2, 7, 11, 5, 1, 3)\n",
       " Spud(\"\", 2, 8, 2, 1, 5, 4)\n",
       " Spud(\"\", 2, 8, 2, 4, 5, 1)\n",
       " Spud(\"\", 2, 8, 2, 3, 5, 2)\n",
       " Spud(\"\", 2, 8, 2, 3, 6, 1)\n",
       " Spud(\"\", 2, 9, 5, 4, 1, 3)\n",
       " ⋮\n",
       " Spud(\"\", 2, 8, 2, 5, 2, 3)\n",
       " Spud(\"\", 2, 8, 2, 5, 4, 1)\n",
       " Spud(\"\", 2, 8, 6, 3, 5, 1)\n",
       " Spud(\"\", 3, 8, 4, 4, 1, 3)\n",
       " Spud(\"\", 2, 8, 6, 4, 2, 3)\n",
       " Spud(\"\", 2, 8, 6, 4, 4, 1)\n",
       " Spud(\"\", 2, 8, 6, 4, 1, 4)\n",
       " Spud(\"\", 2, 8, 6, 5, 1, 3)\n",
       " Spud(\"\", 2, 8, 10, 4, 1, 3)\n",
       " Spud(\"\", 3, 8, 1, 3, 5, 1)\n",
       " Spud(\"\", 3, 8, 1, 5, 1, 3)\n",
       " Spud(\"\", 4, 8, 1, 4, 1, 3)"
      ]
     },
     "execution_count": 28,
     "metadata": {},
     "output_type": "execute_result"
    }
   ],
   "source": [
    "bestf = subset_library(nash_env, 500, counts./sum(counts), ev-0.05)"
   ]
  },
  {
   "cell_type": "code",
   "execution_count": 29,
   "id": "d6029104",
   "metadata": {},
   "outputs": [
    {
     "name": "stdout",
     "output_type": "stream",
     "text": [
      "10001\n"
     ]
    },
    {
     "data": {
      "text/plain": [
       "Spud(\"Principled Shoeshiner Boulangère potatoes\", 1, 8, 4, 6, 1, 4)"
      ]
     },
     "execution_count": 29,
     "metadata": {},
     "output_type": "execute_result"
    }
   ],
   "source": [
    "cc = ffp(bestf, 10000)\n",
    "println(maximum(cc))\n",
    "ff2 = rand_rename(bestf[cc .== maximum(cc)][1])"
   ]
  },
  {
   "cell_type": "code",
   "execution_count": 30,
   "id": "d7f6f1f6",
   "metadata": {},
   "outputs": [
    {
     "data": {
      "text/plain": [
       "1.0"
      ]
     },
     "execution_count": 30,
     "metadata": {},
     "output_type": "execute_result"
    }
   ],
   "source": [
    "eval_battle_list2(ff2, nash_env, counts./sum(counts))"
   ]
  },
  {
   "cell_type": "code",
   "execution_count": 31,
   "id": "6273fbba",
   "metadata": {},
   "outputs": [
    {
     "data": {
      "text/html": [
       "<div><div style = \"float: left;\"><span>6×7 DataFrame</span></div><div style = \"clear: both;\"></div></div><div class = \"data-frame\" style = \"overflow-x: scroll;\"><table class = \"data-frame\" style = \"margin-bottom: 6px;\"><thead><tr class = \"header\"><th class = \"rowNumber\" style = \"font-weight: bold; text-align: right;\">Row</th><th style = \"text-align: left;\">name</th><th style = \"text-align: left;\">h</th><th style = \"text-align: left;\">f</th><th style = \"text-align: left;\">l</th><th style = \"text-align: left;\">p</th><th style = \"text-align: left;\">r</th><th style = \"text-align: left;\">s</th></tr><tr class = \"subheader headerLastRow\"><th class = \"rowNumber\" style = \"font-weight: bold; text-align: right;\"></th><th title = \"String\" style = \"text-align: left;\">String</th><th title = \"Int64\" style = \"text-align: left;\">Int64</th><th title = \"Int64\" style = \"text-align: left;\">Int64</th><th title = \"Int64\" style = \"text-align: left;\">Int64</th><th title = \"Int64\" style = \"text-align: left;\">Int64</th><th title = \"Int64\" style = \"text-align: left;\">Int64</th><th title = \"Int64\" style = \"text-align: left;\">Int64</th></tr></thead><tbody><tr><td class = \"rowNumber\" style = \"font-weight: bold; text-align: right;\">1</td><td style = \"text-align: left;\">Compassionate Joker Papas chorreadas</td><td style = \"text-align: right;\">3</td><td style = \"text-align: right;\">8</td><td style = \"text-align: right;\">9</td><td style = \"text-align: right;\">1</td><td style = \"text-align: right;\">3</td><td style = \"text-align: right;\">2</td></tr><tr><td class = \"rowNumber\" style = \"font-weight: bold; text-align: right;\">2</td><td style = \"text-align: left;\">Untroubled Miller Maluns</td><td style = \"text-align: right;\">5</td><td style = \"text-align: right;\">6</td><td style = \"text-align: right;\">2</td><td style = \"text-align: right;\">3</td><td style = \"text-align: right;\">4</td><td style = \"text-align: right;\">3</td></tr><tr><td class = \"rowNumber\" style = \"font-weight: bold; text-align: right;\">3</td><td style = \"text-align: left;\">Relaxed Auctioneer Pommes Anna</td><td style = \"text-align: right;\">6</td><td style = \"text-align: right;\">1</td><td style = \"text-align: right;\">13</td><td style = \"text-align: right;\">5</td><td style = \"text-align: right;\">1</td><td style = \"text-align: right;\">10</td></tr><tr><td class = \"rowNumber\" style = \"font-weight: bold; text-align: right;\">4</td><td style = \"text-align: left;\">Unimposing Housekeeper Chips and dip</td><td style = \"text-align: right;\">7</td><td style = \"text-align: right;\">5</td><td style = \"text-align: right;\">5</td><td style = \"text-align: right;\">3</td><td style = \"text-align: right;\">1</td><td style = \"text-align: right;\">2</td></tr><tr><td class = \"rowNumber\" style = \"font-weight: bold; text-align: right;\">5</td><td style = \"text-align: left;\">Peaceful Copywriter Älplermagronen</td><td style = \"text-align: right;\">8</td><td style = \"text-align: right;\">1</td><td style = \"text-align: right;\">10</td><td style = \"text-align: right;\">2</td><td style = \"text-align: right;\">6</td><td style = \"text-align: right;\">4</td></tr><tr><td class = \"rowNumber\" style = \"font-weight: bold; text-align: right;\">6</td><td style = \"text-align: left;\">Principled Shoeshiner Boulangère potatoes</td><td style = \"text-align: right;\">1</td><td style = \"text-align: right;\">8</td><td style = \"text-align: right;\">4</td><td style = \"text-align: right;\">6</td><td style = \"text-align: right;\">1</td><td style = \"text-align: right;\">4</td></tr></tbody></table></div>"
      ],
      "text/latex": [
       "\\begin{tabular}{r|ccccccc}\n",
       "\t& name & h & f & l & p & r & s\\\\\n",
       "\t\\hline\n",
       "\t& String & Int64 & Int64 & Int64 & Int64 & Int64 & Int64\\\\\n",
       "\t\\hline\n",
       "\t1 & Compassionate Joker Papas chorreadas & 3 & 8 & 9 & 1 & 3 & 2 \\\\\n",
       "\t2 & Untroubled Miller Maluns & 5 & 6 & 2 & 3 & 4 & 3 \\\\\n",
       "\t3 & Relaxed Auctioneer Pommes Anna & 6 & 1 & 13 & 5 & 1 & 10 \\\\\n",
       "\t4 & Unimposing Housekeeper Chips and dip & 7 & 5 & 5 & 3 & 1 & 2 \\\\\n",
       "\t5 & Peaceful Copywriter Älplermagronen & 8 & 1 & 10 & 2 & 6 & 4 \\\\\n",
       "\t6 & Principled Shoeshiner Boulangère potatoes & 1 & 8 & 4 & 6 & 1 & 4 \\\\\n",
       "\\end{tabular}\n"
      ],
      "text/plain": [
       "\u001b[1m6×7 DataFrame\u001b[0m\n",
       "\u001b[1m Row \u001b[0m│\u001b[1m name                              \u001b[0m\u001b[1m h     \u001b[0m\u001b[1m f     \u001b[0m\u001b[1m l     \u001b[0m\u001b[1m p     \u001b[0m\u001b[1m r     \u001b[0m\u001b[1m s\u001b[0m ⋯\n",
       "     │\u001b[90m String                            \u001b[0m\u001b[90m Int64 \u001b[0m\u001b[90m Int64 \u001b[0m\u001b[90m Int64 \u001b[0m\u001b[90m Int64 \u001b[0m\u001b[90m Int64 \u001b[0m\u001b[90m I\u001b[0m ⋯\n",
       "─────┼──────────────────────────────────────────────────────────────────────────\n",
       "   1 │ Compassionate Joker Papas chorre…      3      8      9      1      3    ⋯\n",
       "   2 │ Untroubled Miller Maluns               5      6      2      3      4\n",
       "   3 │ Relaxed Auctioneer Pommes Anna         6      1     13      5      1\n",
       "   4 │ Unimposing Housekeeper Chips and…      7      5      5      3      1\n",
       "   5 │ Peaceful Copywriter Älplermagron…      8      1     10      2      6    ⋯\n",
       "   6 │ Principled Shoeshiner Boulangère…      1      8      4      6      1\n",
       "\u001b[36m                                                                1 column omitted\u001b[0m"
      ]
     },
     "execution_count": 31,
     "metadata": {},
     "output_type": "execute_result"
    }
   ],
   "source": [
    "append!(nash_env, [ff2])\n",
    "spuds_to_df(nash_env)"
   ]
  },
  {
   "cell_type": "markdown",
   "id": "6c06f6a4",
   "metadata": {},
   "source": [
    "### loop"
   ]
  },
  {
   "cell_type": "code",
   "execution_count": 32,
   "id": "7ef074ce",
   "metadata": {},
   "outputs": [
    {
     "name": "stdout",
     "output_type": "stream",
     "text": [
      "4.9997000179989205e-5\n",
      "0.999980001199928\n"
     ]
    }
   ],
   "source": [
    "counts = ffp(nash_env, 100000)\n",
    "println(maximum([eval_battle_list2(ff, nash_env, counts./sum(counts)) for ff in nash_env]))\n",
    "ff = rand_rename(pick_best_library2(nash_env, counts./sum(counts)))\n",
    "ev = eval_battle_list2(ff, nash_env, counts./sum(counts))\n",
    "println(ev)"
   ]
  },
  {
   "cell_type": "code",
   "execution_count": 33,
   "id": "11ee17bf",
   "metadata": {},
   "outputs": [
    {
     "data": {
      "text/plain": [
       "797-element Vector{Spud}:\n",
       " Spud(\"\", 6, 4, 2, 5, 4, 7)\n",
       " Spud(\"\", 3, 5, 5, 1, 3, 10)\n",
       " Spud(\"\", 5, 3, 6, 2, 4, 12)\n",
       " Spud(\"\", 9, 2, 6, 2, 4, 8)\n",
       " Spud(\"\", 4, 4, 6, 2, 3, 10)\n",
       " Spud(\"\", 2, 4, 8, 3, 4, 12)\n",
       " Spud(\"\", 3, 4, 8, 5, 5, 6)\n",
       " Spud(\"\", 3, 4, 6, 1, 5, 11)\n",
       " Spud(\"\", 5, 4, 3, 1, 4, 11)\n",
       " Spud(\"\", 8, 3, 3, 1, 7, 9)\n",
       " Spud(\"\", 3, 5, 1, 1, 5, 10)\n",
       " Spud(\"\", 6, 3, 3, 3, 5, 13)\n",
       " Spud(\"\", 5, 4, 4, 3, 7, 5)\n",
       " ⋮\n",
       " Spud(\"\", 4, 2, 10, 9, 3, 14)\n",
       " Spud(\"\", 3, 3, 8, 8, 2, 12)\n",
       " Spud(\"\", 3, 3, 13, 10, 5, 2)\n",
       " Spud(\"\", 2, 4, 10, 10, 5, 3)\n",
       " Spud(\"\", 5, 3, 7, 7, 4, 5)\n",
       " Spud(\"\", 3, 3, 12, 7, 6, 5)\n",
       " Spud(\"\", 7, 1, 10, 9, 3, 11)\n",
       " Spud(\"\", 2, 4, 8, 10, 5, 4)\n",
       " Spud(\"\", 4, 3, 10, 8, 5, 3)\n",
       " Spud(\"\", 6, 2, 7, 8, 8, 7)\n",
       " Spud(\"\", 4, 3, 6, 7, 7, 7)\n",
       " Spud(\"\", 5, 2, 7, 9, 7, 11)"
      ]
     },
     "execution_count": 33,
     "metadata": {},
     "output_type": "execute_result"
    }
   ],
   "source": [
    "bestf = subset_library(nash_env, 900, counts./sum(counts), ev-0.05)"
   ]
  },
  {
   "cell_type": "code",
   "execution_count": 34,
   "id": "14a90410",
   "metadata": {},
   "outputs": [
    {
     "data": {
      "text/plain": [
       "Spud(\"Transcendent Auctioneer Batata vada\", 2, 5, 15, 6, 3, 3)"
      ]
     },
     "execution_count": 34,
     "metadata": {},
     "output_type": "execute_result"
    }
   ],
   "source": [
    "ff"
   ]
  },
  {
   "cell_type": "code",
   "execution_count": 35,
   "id": "dccc6018",
   "metadata": {},
   "outputs": [
    {
     "data": {
      "text/plain": [
       "Spud(\"Goal-focused Barman Okroshka\", 2, 5, 15, 3, 4, 5)"
      ]
     },
     "execution_count": 35,
     "metadata": {},
     "output_type": "execute_result"
    }
   ],
   "source": [
    "ff = rand_rename(pick_best_library2(nash_env, counts./sum(counts)))\n",
    "ff"
   ]
  },
  {
   "cell_type": "code",
   "execution_count": 36,
   "id": "6c1fb941",
   "metadata": {},
   "outputs": [
    {
     "data": {
      "text/plain": [
       "0.999980001199928"
      ]
     },
     "execution_count": 36,
     "metadata": {},
     "output_type": "execute_result"
    }
   ],
   "source": [
    "eval_battle_list2(ff, nash_env, counts./sum(counts))"
   ]
  },
  {
   "cell_type": "code",
   "execution_count": 37,
   "id": "9d3f7c62",
   "metadata": {},
   "outputs": [
    {
     "data": {
      "text/plain": [
       "0.999980001199928"
      ]
     },
     "execution_count": 37,
     "metadata": {},
     "output_type": "execute_result"
    }
   ],
   "source": [
    "ev"
   ]
  },
  {
   "cell_type": "code",
   "execution_count": 38,
   "id": "9434f3a1",
   "metadata": {},
   "outputs": [
    {
     "data": {
      "text/plain": [
       "0.999980001199928"
      ]
     },
     "execution_count": 38,
     "metadata": {},
     "output_type": "execute_result"
    }
   ],
   "source": [
    "ev"
   ]
  },
  {
   "cell_type": "code",
   "execution_count": 39,
   "id": "c247ec4b",
   "metadata": {},
   "outputs": [
    {
     "name": "stdout",
     "output_type": "stream",
     "text": [
      "797\n",
      "2076\n"
     ]
    }
   ],
   "source": [
    "println(length(bestf))\n",
    "cc = ffp(bestf, 10000)\n",
    "println(maximum(cc))"
   ]
  },
  {
   "cell_type": "code",
   "execution_count": 40,
   "id": "ab75c8b2",
   "metadata": {},
   "outputs": [
    {
     "data": {
      "text/plain": [
       "Spud(\"Exquisite Auctioneer Rewena bread\", 5, 1, 15, 9, 4, 7)"
      ]
     },
     "execution_count": 40,
     "metadata": {},
     "output_type": "execute_result"
    }
   ],
   "source": [
    "ff2 = rand_rename(bestf[cc .== maximum(cc)][1])"
   ]
  },
  {
   "cell_type": "code",
   "execution_count": 41,
   "id": "ed665bf3",
   "metadata": {},
   "outputs": [
    {
     "name": "stdout",
     "output_type": "stream",
     "text": [
      "0.9999400035997841\n"
     ]
    }
   ],
   "source": [
    "println(eval_battle_list2(ff2, nash_env, counts./sum(counts)))"
   ]
  },
  {
   "cell_type": "code",
   "execution_count": 42,
   "id": "75ff66ed",
   "metadata": {},
   "outputs": [
    {
     "data": {
      "text/plain": [
       "7-element Vector{Spud}:\n",
       " Spud(\"Compassionate Joker Papas chorreadas\", 3, 8, 9, 1, 3, 2)\n",
       " Spud(\"Untroubled Miller Maluns\", 5, 6, 2, 3, 4, 3)\n",
       " Spud(\"Relaxed Auctioneer Pommes Anna\", 6, 1, 13, 5, 1, 10)\n",
       " Spud(\"Unimposing Housekeeper Chips and dip\", 7, 5, 5, 3, 1, 2)\n",
       " Spud(\"Peaceful Copywriter Älplermagronen\", 8, 1, 10, 2, 6, 4)\n",
       " Spud(\"Principled Shoeshiner Boulangère potatoes\", 1, 8, 4, 6, 1, 4)\n",
       " Spud(\"Exquisite Auctioneer Rewena bread\", 5, 1, 15, 9, 4, 7)"
      ]
     },
     "execution_count": 42,
     "metadata": {},
     "output_type": "execute_result"
    }
   ],
   "source": [
    "append!(nash_env, [ff2])"
   ]
  },
  {
   "cell_type": "code",
   "execution_count": 425,
   "id": "5796e69d",
   "metadata": {},
   "outputs": [
    {
     "data": {
      "text/plain": [
       "1800-element Vector{Spud}:\n",
       " Spud(\"Courageous Nanny (also nursemaid) Clapshot\", 5, 7, 8, 1, 1, 1)\n",
       " Spud(\"Tolerant Joker Tartiflette\", 5, 8, 7, 1, 1, 1)\n",
       " Spud(\"Outstanding Ferryman Nikujaga\", 5, 11, 2, 1, 1, 1)\n",
       " Spud(\"Mysterious Gladiator Stoemp\", 6, 5, 9, 1, 1, 1)\n",
       " Spud(\"Selfless Nanny (also nursemaid) Tartiflette\", 6, 7, 6, 1, 1, 1)\n",
       " Spud(\"Engaging Ferryman Rewena bread\", 6, 10, 1, 1, 1, 1)\n",
       " Spud(\"Credible Gladiator Brændende kærlighed\", 7, 3, 10, 1, 1, 1)\n",
       " Spud(\"Judicious Gladiator Gamjajeon\", 7, 5, 7, 1, 1, 1)\n",
       " Spud(\"Expressive Ferryman Rewena bread\", 7, 7, 4, 1, 1, 1)\n",
       " Spud(\"Aloof Ferryman Tartiflette\", 7, 9, 1, 1, 1, 1)\n",
       " Spud(\"Passionless Copywriter Gamjajeon\", 8, 4, 7, 1, 1, 1)\n",
       " Spud(\"Compassionate Ferryman Suan la tu dou si\", 8, 8, 1, 1, 1, 1)\n",
       " Spud(\"Instinctive Chimney sweep Chapalele\", 9, 6, 3, 1, 1, 1)\n",
       " ⋮\n",
       " Spud(\"Absorbed Impersonator Stoemp\", 7, 1, 11, 3, 8, 5)\n",
       " Spud(\"Proactive Cardinal Batata vada\", 7, 1, 11, 5, 4, 7)\n",
       " Spud(\"Steely Cardinal Tashmijab\", 7, 1, 11, 6, 8, 2)\n",
       " Spud(\"Pleasant Impersonator Suan la tu dou si\", 7, 1, 11, 7, 2, 7)\n",
       " Spud(\"Open Dictator Pitepalt\", 7, 1, 11, 7, 7, 2)\n",
       " Spud(\"Unattractive Investment broker Tashmijab\", 7, 1, 11, 7, 8, 1)\n",
       " Spud(\"Intriguing Stunt double Boxty\", 7, 1, 11, 8, 1, 7)\n",
       " Spud(\"Adroit Investment broker Papas chorreadas\", 7, 1, 11, 8, 2, 6)\n",
       " Spud(\"Bold Dictator Rewena bread\", 7, 1, 11, 8, 7, 1)\n",
       " Spud(\"Brave Investment broker French fries\", 7, 1, 11, 9, 1, 6)\n",
       " Spud(\"Straightforward Marketing manager Suan la tu dou si\", 7, 1, 11, 9, 6, 1)\n",
       " Spud(\"Perfectionist Juggler Tartiflette\", 7, 1, 11, 10, 1, 5)"
      ]
     },
     "execution_count": 425,
     "metadata": {},
     "output_type": "execute_result"
    }
   ],
   "source": [
    "nash_env = df_to_spuds(DataFrame(CSV.File(\"temp_factored.csv\")))"
   ]
  },
  {
   "cell_type": "code",
   "execution_count": 426,
   "id": "f92d53b4",
   "metadata": {
    "scrolled": false
   },
   "outputs": [
    {
     "name": "stdout",
     "output_type": "stream",
     "text": [
      "13:24\n",
      "1Spud(\"Boring Magnate Boulangère potatoes\", 4, 4, 10, 1, 7, 3)\n",
      "2Spud(\"Prudent Dictator Gamjajeon\", 7, 1, 11, 6, 8, 2)\n",
      "3Spud(\"Impressive Stewardess (or Steward) Pommes Anna\", 4, 4, 10, 3, 2, 6)\n",
      "4Spud(\"Imaginative Real estate investor Pommes Anna\", 4, 2, 15, 1, 8, 7)\n",
      "5Spud(\"Passionate Impersonator Batata vada\", 5, 1, 18, 1, 2, 2)\n",
      "6Spud(\"Unattractive Teacher Kouign patatez\", 3, 12, 1, 3, 1, 1)\n",
      "7Spud(\"Show-off Housekeeper Rewena bread\", 8, 5, 3, 1, 3, 3)\n",
      "8Spud(\"Unpleased Gondolier Potato babka\", 4, 4, 10, 3, 6, 2)\n",
      "9"
     ]
    },
    {
     "ename": "LoadError",
     "evalue": "InterruptException:",
     "output_type": "error",
     "traceback": [
      "InterruptException:",
      "",
      "Stacktrace:",
      " [1] Array",
      "   @ ./boot.jl:477 [inlined]",
      " [2] findall(B::BitVector)",
      "   @ Base ./bitarray.jl:1688",
      " [3] ffp(nash_env::Vector{Spud}, nits::Int64)",
      "   @ Main ./In[16]:26",
      " [4] top-level scope",
      "   @ ./In[426]:7"
     ]
    }
   ],
   "source": [
    "nits = 50000000\n",
    "tol = 0.005\n",
    "println(Dates.format(now(), \"HH:MM\"))\n",
    "for ii in 1:20\n",
    "    #println()\n",
    "    print(ii)\n",
    "    counts = ffp(nash_env, nits)\n",
    "    w = counts./sum(counts)\n",
    "    #println(maximum([eval_battle_list2(ff, nash_env, counts./sum(counts)) for ff in nash_env]))\n",
    "    ff = rand_rename(pick_best_library2(nash_env, w))\n",
    "    #ev = eval_battle_list2(ff, nash_env, w)\n",
    "    #println(ev)\n",
    "    #bestf = subset_library(nash_env, 900, counts./sum(counts), tol)\n",
    "    #println(length(bestf))\n",
    "    #cc = ffp(bestf, nits)\n",
    "    #println(maximum(cc))\n",
    "    #ff2 = rand_rename(bestf[cc .== maximum(cc)][1])\n",
    "    #println(ff2)\n",
    "    #println(eval_battle_list2(ff2, nash_env, counts./sum(counts)))\n",
    "    #append!(nash_env, [ff2])\n",
    "    append!(nash_env, [ff])\n",
    "    println(ff)\n",
    "end\n",
    "println()\n",
    "println(Dates.format(now(), \"HH:MM\"))\n",
    "counts = ffp(nash_env, nits)\n",
    "#ff = pick_best_library2(nash_env, counts./sum(counts))\n",
    "#eval_battle_list2(ff, nash_env, counts./sum(counts))    \n",
    "#nash_env = nash_env[counts .> 10]\n",
    "#counts = ffp(nash_env, nits);\n",
    "println(maximum([eval_battle_list2(ff, nash_env, counts./sum(counts)) for ff in nash_env]))\n",
    "println(length(nash_env))\n",
    "println(length(unique([Spud(\"\", s.h, s.f, s.l, s.p, s.r, s.s) for s in nash_env])))    \n",
    "ff = pick_best_library2(nash_env, counts./sum(counts))\n",
    "eval_battle_list2(ff, nash_env, counts./sum(counts))"
   ]
  },
  {
   "cell_type": "code",
   "execution_count": 427,
   "id": "88d82fc5",
   "metadata": {},
   "outputs": [
    {
     "name": "stdout",
     "output_type": "stream",
     "text": [
      "\n",
      "13:56\n",
      "0.001278253778343559\n",
      "1808\n",
      "1801\n"
     ]
    },
    {
     "data": {
      "text/plain": [
       "0.001278253778343559"
      ]
     },
     "execution_count": 427,
     "metadata": {},
     "output_type": "execute_result"
    }
   ],
   "source": [
    "println()\n",
    "println(Dates.format(now(), \"HH:MM\"))\n",
    "counts = ffp(nash_env, nits)\n",
    "#ff = pick_best_library2(nash_env, counts./sum(counts))\n",
    "#eval_battle_list2(ff, nash_env, counts./sum(counts))    \n",
    "#nash_env = nash_env[counts .> 10]\n",
    "#counts = ffp(nash_env, nits);\n",
    "println(maximum([eval_battle_list2(ff, nash_env, counts./sum(counts)) for ff in nash_env]))\n",
    "println(length(nash_env))\n",
    "println(length(unique([Spud(\"\", s.h, s.f, s.l, s.p, s.r, s.s) for s in nash_env])))    \n",
    "ff = pick_best_library2(nash_env, counts./sum(counts))\n",
    "eval_battle_list2(ff, nash_env, counts./sum(counts))"
   ]
  },
  {
   "cell_type": "code",
   "execution_count": 369,
   "id": "c5f05ca0",
   "metadata": {},
   "outputs": [],
   "source": [
    "#CSV.write(\"spudsA_nash_0_00382.csv\", spuds_to_df(nash_env))"
   ]
  },
  {
   "cell_type": "markdown",
   "id": "680be934",
   "metadata": {},
   "source": [
    "#### Nash env explotability very delicate!"
   ]
  },
  {
   "cell_type": "code",
   "execution_count": 388,
   "id": "ac4e77cc",
   "metadata": {},
   "outputs": [],
   "source": [
    "#nash_env = df_to_spuds(DataFrame(CSV.File(\"spudsA_nash_0_00192.csv\")));"
   ]
  },
  {
   "cell_type": "code",
   "execution_count": 390,
   "id": "de3837ba",
   "metadata": {},
   "outputs": [
    {
     "name": "stdout",
     "output_type": "stream",
     "text": [
      "0.0018508349055255803\n",
      "1784\n",
      "1774\n"
     ]
    },
    {
     "data": {
      "text/plain": [
       "0.0018508349055255803"
      ]
     },
     "execution_count": 390,
     "metadata": {},
     "output_type": "execute_result"
    }
   ],
   "source": [
    "counts = ffp(nash_env, nits)\n",
    "println(maximum([eval_battle_list2(ff, nash_env, counts./sum(counts)) for ff in nash_env]))\n",
    "println(length(nash_env))\n",
    "println(length(unique([Spud(\"\", s.h, s.f, s.l, s.p, s.r, s.s) for s in nash_env])))    \n",
    "ff = pick_best_library2(nash_env, counts./sum(counts))\n",
    "eval_battle_list2(ff, nash_env, counts./sum(counts))"
   ]
  },
  {
   "cell_type": "code",
   "execution_count": 391,
   "id": "6d88cd1b",
   "metadata": {},
   "outputs": [],
   "source": [
    "nash_env = unique([Spud(\"\", s.h, s.f, s.l, s.p, s.r, s.s) for s in nash_env]);"
   ]
  },
  {
   "cell_type": "code",
   "execution_count": 392,
   "id": "c1e9370c",
   "metadata": {},
   "outputs": [
    {
     "name": "stdout",
     "output_type": "stream",
     "text": [
      "0.0018769835115623448\n",
      "1774\n",
      "1774\n"
     ]
    },
    {
     "data": {
      "text/plain": [
       "0.001873633808681957"
      ]
     },
     "execution_count": 392,
     "metadata": {},
     "output_type": "execute_result"
    }
   ],
   "source": [
    "counts = ffp(nash_env, nits)\n",
    "println(maximum([eval_battle_list2(ff, nash_env, counts./sum(counts)) for ff in nash_env]))\n",
    "println(length(nash_env))\n",
    "println(length(unique([Spud(\"\", s.h, s.f, s.l, s.p, s.r, s.s) for s in nash_env])))    \n",
    "ff = pick_best_library2(nash_env, counts./sum(counts))\n",
    "eval_battle_list2(ff, nash_env, counts./sum(counts))"
   ]
  },
  {
   "cell_type": "code",
   "execution_count": 393,
   "id": "bbc68645",
   "metadata": {},
   "outputs": [
    {
     "data": {
      "text/plain": [
       "892"
      ]
     },
     "execution_count": 393,
     "metadata": {},
     "output_type": "execute_result"
    }
   ],
   "source": [
    "nash_env2 = nash_env[counts .> 1]\n",
    "length(nash_env2)"
   ]
  },
  {
   "cell_type": "code",
   "execution_count": 394,
   "id": "d90b1687",
   "metadata": {},
   "outputs": [
    {
     "data": {
      "text/plain": [
       "0.0025046882909023054"
      ]
     },
     "execution_count": 394,
     "metadata": {},
     "output_type": "execute_result"
    }
   ],
   "source": [
    "counts2 = ffp(nash_env2, nits)\n",
    "ff = pick_best_library2(nash_env2, counts2./sum(counts2))\n",
    "eval_battle_list2(ff, nash_env2, counts2./sum(counts2))"
   ]
  },
  {
   "cell_type": "code",
   "execution_count": 395,
   "id": "f498151e",
   "metadata": {},
   "outputs": [
    {
     "data": {
      "text/plain": [
       "0.001880066149049776"
      ]
     },
     "execution_count": 395,
     "metadata": {},
     "output_type": "execute_result"
    }
   ],
   "source": [
    "counts3 = counts[counts .> 1]\n",
    "ff = pick_best_library2(nash_env2, counts3./sum(counts3))\n",
    "eval_battle_list2(ff, nash_env2, counts3./sum(counts3))"
   ]
  },
  {
   "cell_type": "code",
   "execution_count": 396,
   "id": "07806e04",
   "metadata": {},
   "outputs": [],
   "source": [
    "for i in 1:length(nash_env2)\n",
    "    ff = nash_env2[i]\n",
    "    nash_env2[i] = Spud(string(\"c\", counts3[i]), ff.h, ff.f, ff.l, ff.p, ff.r, ff.s)\n",
    "end"
   ]
  },
  {
   "cell_type": "code",
   "execution_count": 397,
   "id": "9733a78d",
   "metadata": {},
   "outputs": [
    {
     "data": {
      "text/plain": [
       "892-element Vector{Spud}:\n",
       " Spud(\"c352167\", 6, 1, 15, 2, 1, 1)\n",
       " Spud(\"c341656\", 10, 6, 2, 1, 1, 1)\n",
       " Spud(\"c297990\", 9, 6, 3, 1, 1, 1)\n",
       " Spud(\"c276652\", 6, 10, 1, 1, 1, 1)\n",
       " Spud(\"c261422\", 5, 11, 2, 1, 1, 1)\n",
       " Spud(\"c252779\", 10, 5, 3, 2, 1, 1)\n",
       " Spud(\"c201180\", 7, 7, 4, 1, 1, 1)\n",
       " Spud(\"c193968\", 8, 7, 2, 2, 1, 1)\n",
       " Spud(\"c175435\", 11, 3, 5, 2, 1, 1)\n",
       " Spud(\"c173597\", 7, 9, 1, 1, 1, 1)\n",
       " Spud(\"c168894\", 3, 12, 1, 1, 2, 2)\n",
       " Spud(\"c162311\", 4, 11, 3, 2, 1, 1)\n",
       " Spud(\"c156334\", 3, 10, 3, 3, 2, 1)\n",
       " ⋮\n",
       " Spud(\"c13\", 3, 3, 15, 2, 7, 6)\n",
       " Spud(\"c12\", 4, 2, 17, 2, 6, 4)\n",
       " Spud(\"c8\", 6, 1, 13, 2, 8, 6)\n",
       " Spud(\"c6\", 7, 3, 7, 1, 6, 3)\n",
       " Spud(\"c6\", 6, 2, 11, 1, 6, 4)\n",
       " Spud(\"c6\", 11, 1, 7, 7, 3, 2)\n",
       " Spud(\"c6\", 5, 1, 16, 2, 6, 7)\n",
       " Spud(\"c5\", 6, 4, 8, 3, 3, 1)\n",
       " Spud(\"c5\", 6, 2, 11, 6, 2, 3)\n",
       " Spud(\"c3\", 6, 1, 13, 6, 8, 2)\n",
       " Spud(\"c2\", 5, 1, 18, 2, 1, 2)\n",
       " Spud(\"c2\", 10, 1, 8, 5, 1, 4)"
      ]
     },
     "execution_count": 397,
     "metadata": {},
     "output_type": "execute_result"
    }
   ],
   "source": [
    "nash_env2 = nash_env2[sortperm(-counts3)]\n",
    "nash_env2"
   ]
  },
  {
   "cell_type": "code",
   "execution_count": 399,
   "id": "d5f1c6e9",
   "metadata": {},
   "outputs": [],
   "source": [
    "#CSV.write(\"spudsA_nash_0_00192_reduced.csv\", spuds_to_df(nash_env2))"
   ]
  },
  {
   "cell_type": "code",
   "execution_count": 256,
   "id": "6530323e",
   "metadata": {},
   "outputs": [],
   "source": [
    "#nash_env"
   ]
  },
  {
   "cell_type": "markdown",
   "id": "08719575",
   "metadata": {},
   "source": [
    "## Generate all HFL and PRS combos"
   ]
  },
  {
   "cell_type": "code",
   "execution_count": 428,
   "id": "bc4567d5",
   "metadata": {},
   "outputs": [
    {
     "data": {
      "text/plain": [
       "1807-element Vector{Spud}:\n",
       " Spud(\"\", 5, 7, 8, 1, 1, 1)\n",
       " Spud(\"\", 5, 8, 7, 1, 1, 1)\n",
       " Spud(\"\", 5, 11, 2, 1, 1, 1)\n",
       " Spud(\"\", 6, 5, 9, 1, 1, 1)\n",
       " Spud(\"\", 6, 7, 6, 1, 1, 1)\n",
       " Spud(\"\", 6, 10, 1, 1, 1, 1)\n",
       " Spud(\"\", 7, 3, 10, 1, 1, 1)\n",
       " Spud(\"\", 7, 5, 7, 1, 1, 1)\n",
       " Spud(\"\", 7, 7, 4, 1, 1, 1)\n",
       " Spud(\"\", 7, 9, 1, 1, 1, 1)\n",
       " Spud(\"\", 8, 4, 7, 1, 1, 1)\n",
       " Spud(\"\", 8, 8, 1, 1, 1, 1)\n",
       " Spud(\"\", 9, 6, 3, 1, 1, 1)\n",
       " ⋮\n",
       " Spud(\"\", 7, 1, 11, 3, 8, 5)\n",
       " Spud(\"\", 7, 1, 11, 5, 4, 7)\n",
       " Spud(\"\", 7, 1, 11, 6, 8, 2)\n",
       " Spud(\"\", 7, 1, 11, 7, 2, 7)\n",
       " Spud(\"\", 7, 1, 11, 7, 7, 2)\n",
       " Spud(\"\", 7, 1, 11, 7, 8, 1)\n",
       " Spud(\"\", 7, 1, 11, 8, 1, 7)\n",
       " Spud(\"\", 7, 1, 11, 8, 2, 6)\n",
       " Spud(\"\", 7, 1, 11, 8, 7, 1)\n",
       " Spud(\"\", 7, 1, 11, 9, 1, 6)\n",
       " Spud(\"\", 7, 1, 11, 9, 6, 1)\n",
       " Spud(\"\", 7, 1, 11, 10, 1, 5)"
      ]
     },
     "execution_count": 428,
     "metadata": {},
     "output_type": "execute_result"
    }
   ],
   "source": [
    "df = spuds_to_df(nash_env);\n",
    "df.t = df.p + df.r + df.s;\n",
    "thfl = Matrix(df[:, [:t, :h, :f, :l]])\n",
    "tprs = Matrix(df[:, [:t, :p, :r, :s]])\n",
    "thfl = transpose(reduce(hcat, unique(eachrow(thfl))))\n",
    "tprs = transpose(reduce(hcat, unique(eachrow(tprs))))\n",
    "for i in [4, 3, 2, 1]\n",
    "    thfl = thfl[sortperm(thfl[:, i]), :]\n",
    "    tprs = tprs[sortperm(tprs[:, i]), :]\n",
    "end\n",
    "min_t = minimum(df.t)\n",
    "max_t = maximum(df.t)\n",
    "writedlm(\"temp_hfl.txt\", thfl, ' ')\n",
    "writedlm(\"temp_prs.txt\", tprs, ' ')\n",
    "\n",
    "# generate the product of all HFL and PRS combos\n",
    "new_env = Array{Spud}(undef, 20000)\n",
    "spud_i = 0\n",
    "for t in min_t:max_t\n",
    "    hfl = thfl[thfl[:, 1].==t, 2:end]\n",
    "    prs = tprs[tprs[:, 1].==t, 2:end]\n",
    "    for a in eachrow(hfl)\n",
    "        for b in eachrow(prs)\n",
    "            spud_i += 1\n",
    "            new_env[spud_i] = Spud(\"\", a[1], a[2], a[3], b[1], b[2], b[3])\n",
    "        end\n",
    "    end\n",
    "end\n",
    "new_env = new_env[1:spud_i]"
   ]
  },
  {
   "cell_type": "code",
   "execution_count": 429,
   "id": "010c803e",
   "metadata": {},
   "outputs": [
    {
     "name": "stdout",
     "output_type": "stream",
     "text": [
      "241.582082 seconds (250.00 M allocations: 897.076 GiB, 19.77% gc time)\n"
     ]
    }
   ],
   "source": [
    "@time counts = ffp(new_env, nits);"
   ]
  },
  {
   "cell_type": "code",
   "execution_count": 441,
   "id": "48b08104",
   "metadata": {},
   "outputs": [
    {
     "data": {
      "text/plain": [
       "1807-element Vector{Spud}:\n",
       " Spud(\"c33694\", 5, 7, 8, 1, 1, 1)\n",
       " Spud(\"c59714\", 5, 8, 7, 1, 1, 1)\n",
       " Spud(\"c657615\", 5, 11, 2, 1, 1, 1)\n",
       " Spud(\"c96372\", 6, 5, 9, 1, 1, 1)\n",
       " Spud(\"c196271\", 6, 7, 6, 1, 1, 1)\n",
       " Spud(\"c677613\", 6, 10, 1, 1, 1, 1)\n",
       " Spud(\"c210242\", 7, 3, 10, 1, 1, 1)\n",
       " Spud(\"c189348\", 7, 5, 7, 1, 1, 1)\n",
       " Spud(\"c558612\", 7, 7, 4, 1, 1, 1)\n",
       " Spud(\"c407253\", 7, 9, 1, 1, 1, 1)\n",
       " Spud(\"c102169\", 8, 4, 7, 1, 1, 1)\n",
       " Spud(\"c104872\", 8, 8, 1, 1, 1, 1)\n",
       " Spud(\"c719008\", 9, 6, 3, 1, 1, 1)\n",
       " ⋮\n",
       " Spud(\"c10880\", 7, 1, 11, 3, 8, 5)\n",
       " Spud(\"c1\", 7, 1, 11, 5, 4, 7)\n",
       " Spud(\"c43663\", 7, 1, 11, 6, 8, 2)\n",
       " Spud(\"c14177\", 7, 1, 11, 7, 2, 7)\n",
       " Spud(\"c4124\", 7, 1, 11, 7, 7, 2)\n",
       " Spud(\"c40487\", 7, 1, 11, 7, 8, 1)\n",
       " Spud(\"c30729\", 7, 1, 11, 8, 1, 7)\n",
       " Spud(\"c2883\", 7, 1, 11, 8, 2, 6)\n",
       " Spud(\"c19403\", 7, 1, 11, 8, 7, 1)\n",
       " Spud(\"c58168\", 7, 1, 11, 9, 1, 6)\n",
       " Spud(\"c50203\", 7, 1, 11, 9, 6, 1)\n",
       " Spud(\"c31823\", 7, 1, 11, 10, 1, 5)"
      ]
     },
     "execution_count": 441,
     "metadata": {},
     "output_type": "execute_result"
    }
   ],
   "source": [
    "for i in 1:length(new_env)\n",
    "    ff = new_env[i]\n",
    "    new_env[i] = Spud(string(\"c\", counts[i]), ff.h, ff.f, ff.l, ff.p, ff.r, ff.s)\n",
    "end\n",
    "new_env"
   ]
  },
  {
   "cell_type": "code",
   "execution_count": 442,
   "id": "e23873b1",
   "metadata": {},
   "outputs": [
    {
     "data": {
      "text/plain": [
       "\"spudsA_full_factor.csv\""
      ]
     },
     "execution_count": 442,
     "metadata": {},
     "output_type": "execute_result"
    }
   ],
   "source": [
    "CSV.write(\"spudsA_full_factor.csv\", spuds_to_df(new_env))"
   ]
  },
  {
   "cell_type": "code",
   "execution_count": 430,
   "id": "3f702066",
   "metadata": {},
   "outputs": [],
   "source": [
    "new_env2 = new_env[counts .> 1];\n",
    "#@time counts = ffp(new_env2, nits)\n",
    "w = counts[counts .> 1]./sum(counts[counts .> 1]);"
   ]
  },
  {
   "cell_type": "code",
   "execution_count": 431,
   "id": "cd044587",
   "metadata": {},
   "outputs": [
    {
     "data": {
      "text/plain": [
       "887"
      ]
     },
     "execution_count": 431,
     "metadata": {},
     "output_type": "execute_result"
    }
   ],
   "source": [
    "length(new_env2)"
   ]
  },
  {
   "cell_type": "code",
   "execution_count": 444,
   "id": "6428008e",
   "metadata": {},
   "outputs": [
    {
     "data": {
      "text/plain": [
       "0.00164447082708762"
      ]
     },
     "execution_count": 444,
     "metadata": {},
     "output_type": "execute_result"
    }
   ],
   "source": [
    "ff = pick_best_library2(new_env2, w)\n",
    "eval_battle_list2(ff, new_env2, w)"
   ]
  },
  {
   "cell_type": "code",
   "execution_count": 433,
   "id": "2f4bb58b",
   "metadata": {},
   "outputs": [
    {
     "name": "stdout",
     "output_type": "stream",
     "text": [
      "0.001266557531269538\n"
     ]
    }
   ],
   "source": [
    "println(maximum([eval_battle_list2(ff, new_env2, w) for ff in new_env2]))"
   ]
  },
  {
   "cell_type": "code",
   "execution_count": 434,
   "id": "f40b8175",
   "metadata": {},
   "outputs": [],
   "source": [
    "#nash_copy = unique([Spud(\"\", s.h, s.f, s.l, s.p, s.r, s.s) for s in nash_env])\n"
   ]
  },
  {
   "cell_type": "code",
   "execution_count": 435,
   "id": "7f1697e0",
   "metadata": {},
   "outputs": [],
   "source": [
    "scores = [eval_battle_list2(ff, new_env, counts./sum(counts)) for ff in new_env];"
   ]
  },
  {
   "cell_type": "code",
   "execution_count": 436,
   "id": "ab519960",
   "metadata": {},
   "outputs": [
    {
     "name": "stdout",
     "output_type": "stream",
     "text": [
      "Spud(\"\", 1, 11, 1, 6, 1, 1) -0.10735936003272906\n",
      "Spud(\"\", 6, 4, 6, 3, 6, 1) -0.10032241434794659\n",
      "Spud(\"\", 7, 3, 6, 3, 2, 7) -0.08714045074411014\n",
      "Spud(\"\", 6, 4, 6, 7, 2, 1) -0.08572754180663968\n",
      "Spud(\"\", 2, 11, 6, 2, 1, 3) -0.0781464957856409\n",
      "Spud(\"\", 2, 10, 10, 2, 1, 3) -0.07665018986213709\n",
      "Spud(\"\", 1, 9, 1, 3, 6, 1) -0.0762437245517934\n",
      "Spud(\"\", 2, 6, 14, 3, 6, 1) -0.07540979469001838\n",
      "Spud(\"\", 7, 3, 6, 8, 2, 2) -0.0751820029224147\n",
      "Spud(\"\", 2, 12, 2, 2, 1, 3) -0.074707580068055\n"
     ]
    }
   ],
   "source": [
    "for i in sortperm(scores)[1:10]\n",
    "    print(new_env[i])\n",
    "    print(\" \")\n",
    "    println(scores[i])\n",
    "end"
   ]
  },
  {
   "cell_type": "code",
   "execution_count": 438,
   "id": "bde48726",
   "metadata": {},
   "outputs": [],
   "source": [
    "# for i in 1:length(new_env)\n",
    "#     ff = new_env[i]\n",
    "#     new_env[i] = Spud(string(\"s \", convert(Int, round(scores[i] * 100))), ff.h, ff.f, ff.l, ff.p, ff.r, ff.s)\n",
    "# end\n",
    "# new_env"
   ]
  },
  {
   "cell_type": "code",
   "execution_count": 439,
   "id": "c8908abe",
   "metadata": {},
   "outputs": [],
   "source": [
    "#CSV.write(\"spudsA_full_factor_scores.csv\", spuds_to_df(new_env))"
   ]
  },
  {
   "cell_type": "markdown",
   "id": "171a817d",
   "metadata": {},
   "source": [
    "## beware"
   ]
  },
  {
   "cell_type": "code",
   "execution_count": 445,
   "id": "4c6935a2",
   "metadata": {},
   "outputs": [
    {
     "data": {
      "text/plain": [
       "\"temp_factored.csv\""
      ]
     },
     "execution_count": 445,
     "metadata": {},
     "output_type": "execute_result"
    }
   ],
   "source": [
    "#CSV.write(\"temp_factored.csv\", spuds_to_df([rand_rename(s) for s in new_env2]))"
   ]
  },
  {
   "cell_type": "code",
   "execution_count": 66,
   "id": "5fa5d207",
   "metadata": {},
   "outputs": [
    {
     "data": {
      "text/plain": [
       "\"temp.csv\""
      ]
     },
     "execution_count": 66,
     "metadata": {},
     "output_type": "execute_result"
    }
   ],
   "source": [
    "#CSV.write(\"temp.csv\", spuds_to_df(nash_env))"
   ]
  },
  {
   "cell_type": "markdown",
   "id": "88b19f9c",
   "metadata": {},
   "source": [
    "## when would you be tempted to go far outside of nash equilibrium?"
   ]
  },
  {
   "cell_type": "code",
   "execution_count": 446,
   "id": "b7bc5f03",
   "metadata": {},
   "outputs": [],
   "source": [
    "nash_env_df = DataFrame(CSV.File(\"spudsA_full_factor.csv\"))\n",
    "nash_env = df_to_spuds(nash_env_df)\n",
    "counts = [parse(Int, s.name[2:end]) for s in nash_env];"
   ]
  },
  {
   "cell_type": "code",
   "execution_count": 448,
   "id": "f243b1f1",
   "metadata": {},
   "outputs": [],
   "source": [
    "cc = cumsum(counts);"
   ]
  },
  {
   "cell_type": "code",
   "execution_count": 503,
   "id": "2e9fbfd2",
   "metadata": {},
   "outputs": [
    {
     "name": "stdout",
     "output_type": "stream",
     "text": [
      "\n",
      "\u001b[1m5×7 DataFrame\u001b[0m\n",
      "\u001b[1m Row \u001b[0m│\u001b[1m name    \u001b[0m\u001b[1m h     \u001b[0m\u001b[1m f     \u001b[0m\u001b[1m l     \u001b[0m\u001b[1m p     \u001b[0m\u001b[1m r     \u001b[0m\u001b[1m s     \u001b[0m\n",
      "     │\u001b[90m String  \u001b[0m\u001b[90m Int64 \u001b[0m\u001b[90m Int64 \u001b[0m\u001b[90m Int64 \u001b[0m\u001b[90m Int64 \u001b[0m\u001b[90m Int64 \u001b[0m\u001b[90m Int64 \u001b[0m\n",
      "─────┼───────────────────────────────────────────────────\n",
      "   1 │ c558612      7      7      4      1      1      1\n",
      "   2 │ c242854      5      2     12      1      7      7\n",
      "   3 │ c348869      9      5      2      1      3      3\n",
      "   4 │ c15389       1      9      1      1      4      5\n",
      "   5 │ c912227      6      1     15      2      1      1\n",
      "-0.2767748973552108\n",
      "Spud[Spud(\"\", 1, 9, 1, 2, 7, 1)]\n",
      "\n",
      "\u001b[1m5×7 DataFrame\u001b[0m\n",
      "\u001b[1m Row \u001b[0m│\u001b[1m name    \u001b[0m\u001b[1m h     \u001b[0m\u001b[1m f     \u001b[0m\u001b[1m l     \u001b[0m\u001b[1m p     \u001b[0m\u001b[1m r     \u001b[0m\u001b[1m s     \u001b[0m\n",
      "     │\u001b[90m String  \u001b[0m\u001b[90m Int64 \u001b[0m\u001b[90m Int64 \u001b[0m\u001b[90m Int64 \u001b[0m\u001b[90m Int64 \u001b[0m\u001b[90m Int64 \u001b[0m\u001b[90m Int64 \u001b[0m\n",
      "─────┼───────────────────────────────────────────────────\n",
      "   1 │ c198043      5      1     18      3      1      1\n",
      "   2 │ c225721      8      2      8      6      3      1\n",
      "   3 │ c912227      6      1     15      2      1      1\n",
      "   4 │ c215684      3     10      3      1      3      2\n",
      "   5 │ c99493      10      4      3      1      3      3\n",
      "-0.20739516473874706\n",
      "Spud[Spud(\"\", 1, 10, 20, 1, 4, 2)]\n",
      "\n",
      "\u001b[1m5×7 DataFrame\u001b[0m\n",
      "\u001b[1m Row \u001b[0m│\u001b[1m name    \u001b[0m\u001b[1m h     \u001b[0m\u001b[1m f     \u001b[0m\u001b[1m l     \u001b[0m\u001b[1m p     \u001b[0m\u001b[1m r     \u001b[0m\u001b[1m s     \u001b[0m\n",
      "     │\u001b[90m String  \u001b[0m\u001b[90m Int64 \u001b[0m\u001b[90m Int64 \u001b[0m\u001b[90m Int64 \u001b[0m\u001b[90m Int64 \u001b[0m\u001b[90m Int64 \u001b[0m\u001b[90m Int64 \u001b[0m\n",
      "─────┼───────────────────────────────────────────────────\n",
      "   1 │ c61287       5      1     16      8      1      6\n",
      "   2 │ c200632      4      4     11      5      4      1\n",
      "   3 │ c99493      10      4      3      1      3      3\n",
      "   4 │ c920714     10      6      2      1      1      1\n",
      "   5 │ c88253       5      2     12      7      7      1\n",
      "-0.22066668510599904\n",
      "Spud[Spud(\"\", 5, 5, 3, 8, 3, 1)]\n",
      "\n",
      "\u001b[1m5×7 DataFrame\u001b[0m\n",
      "\u001b[1m Row \u001b[0m│\u001b[1m name    \u001b[0m\u001b[1m h     \u001b[0m\u001b[1m f     \u001b[0m\u001b[1m l     \u001b[0m\u001b[1m p     \u001b[0m\u001b[1m r     \u001b[0m\u001b[1m s     \u001b[0m\n",
      "     │\u001b[90m String  \u001b[0m\u001b[90m Int64 \u001b[0m\u001b[90m Int64 \u001b[0m\u001b[90m Int64 \u001b[0m\u001b[90m Int64 \u001b[0m\u001b[90m Int64 \u001b[0m\u001b[90m Int64 \u001b[0m\n",
      "─────┼───────────────────────────────────────────────────\n",
      "   1 │ c143114      2     10      5      4      2      1\n",
      "   2 │ c719008      9      6      3      1      1      1\n",
      "   3 │ c677613      6     10      1      1      1      1\n",
      "   4 │ c56015      12      1      7      2      1      1\n",
      "   5 │ c78211      10      2      6      4      5      1\n",
      "-0.2016793313089685\n",
      "Spud[Spud(\"\", 1, 12, 4, 5, 1, 1)]\n",
      "\n",
      "\u001b[1m5×7 DataFrame\u001b[0m\n",
      "\u001b[1m Row \u001b[0m│\u001b[1m name    \u001b[0m\u001b[1m h     \u001b[0m\u001b[1m f     \u001b[0m\u001b[1m l     \u001b[0m\u001b[1m p     \u001b[0m\u001b[1m r     \u001b[0m\u001b[1m s     \u001b[0m\n",
      "     │\u001b[90m String  \u001b[0m\u001b[90m Int64 \u001b[0m\u001b[90m Int64 \u001b[0m\u001b[90m Int64 \u001b[0m\u001b[90m Int64 \u001b[0m\u001b[90m Int64 \u001b[0m\u001b[90m Int64 \u001b[0m\n",
      "─────┼───────────────────────────────────────────────────\n",
      "   1 │ c71331       8      5      3      1      4      2\n",
      "   2 │ c88523       2      4     18      2      5      7\n",
      "   3 │ c160335      2      5     15      7      1      4\n",
      "   4 │ c407438      3     12      1      1      2      2\n",
      "   5 │ c102992     10      4      3      3      3      1\n",
      "-0.23906130032460657\n",
      "Spud[Spud(\"\", 6, 3, 5, 1, 8, 8)]\n",
      "\n",
      "\u001b[1m5×7 DataFrame\u001b[0m\n",
      "\u001b[1m Row \u001b[0m│\u001b[1m name    \u001b[0m\u001b[1m h     \u001b[0m\u001b[1m f     \u001b[0m\u001b[1m l     \u001b[0m\u001b[1m p     \u001b[0m\u001b[1m r     \u001b[0m\u001b[1m s     \u001b[0m\n",
      "     │\u001b[90m String  \u001b[0m\u001b[90m Int64 \u001b[0m\u001b[90m Int64 \u001b[0m\u001b[90m Int64 \u001b[0m\u001b[90m Int64 \u001b[0m\u001b[90m Int64 \u001b[0m\u001b[90m Int64 \u001b[0m\n",
      "─────┼───────────────────────────────────────────────────\n",
      "   1 │ c52216       5      1     17      3      5      2\n",
      "   2 │ c6151        1      7      2      1      7      5\n",
      "   3 │ c61287       5      1     16      8      1      6\n",
      "   4 │ c719008      9      6      3      1      1      1\n",
      "   5 │ c138989      8      2      8      1      6      3\n",
      "-0.22879695127818175\n",
      "Spud[Spud(\"\", 2, 9, 5, 2, 1, 5)]\n",
      "\n",
      "\u001b[1m5×7 DataFrame\u001b[0m\n",
      "\u001b[1m Row \u001b[0m│\u001b[1m name    \u001b[0m\u001b[1m h     \u001b[0m\u001b[1m f     \u001b[0m\u001b[1m l     \u001b[0m\u001b[1m p     \u001b[0m\u001b[1m r     \u001b[0m\u001b[1m s     \u001b[0m\n",
      "     │\u001b[90m String  \u001b[0m\u001b[90m Int64 \u001b[0m\u001b[90m Int64 \u001b[0m\u001b[90m Int64 \u001b[0m\u001b[90m Int64 \u001b[0m\u001b[90m Int64 \u001b[0m\u001b[90m Int64 \u001b[0m\n",
      "─────┼───────────────────────────────────────────────────\n",
      "   1 │ c232183      9      6      1      2      2      2\n",
      "   2 │ c71331       8      5      3      1      4      2\n",
      "   3 │ c171563      4      6     10      3      2      1\n",
      "   4 │ c423504      4      8      1      1      4      3\n",
      "   5 │ c238745      2      5     15      6      1      5\n",
      "-0.21175516716825818\n",
      "Spud[Spud(\"\", 6, 4, 3, 6, 5, 3)]\n"
     ]
    }
   ],
   "source": [
    "nteam = 5\n",
    "mms = Array{Float64}(undef, 1000)\n",
    "for jj in 1:1000\n",
    "    team = Array{Spud}(undef, nteam)\n",
    "    for i in 1:nteam\n",
    "        tmp = rand(1:sum(counts))\n",
    "        ind = sum(cc .< tmp)+1\n",
    "        team[i] = nash_env[ind]\n",
    "        #println(counts[ind])\n",
    "    end\n",
    "    lib = subset_library(team, 900, [1/nteam for i in 1:nteam], 0.001)\n",
    "    scores = [eval_battle_list(ff, team) for ff in lib]\n",
    "    lib = lib[scores .== maximum(scores)]\n",
    "    evs = [eval_battle_list2(ff, nash_env, counts./sum(counts)) for ff in lib]\n",
    "    mm = maximum(evs)\n",
    "    mms[jj] = mm\n",
    "    if mm < -0.2\n",
    "        println()\n",
    "        println(spuds_to_df(team))\n",
    "        println(mm)\n",
    "        println(lib[evs .== mm])\n",
    "        \n",
    "    end\n",
    "end"
   ]
  },
  {
   "cell_type": "code",
   "execution_count": 504,
   "id": "13ce284c",
   "metadata": {},
   "outputs": [
    {
     "data": {
      "text/plain": [
       "1000-element Vector{Float64}:\n",
       " -0.2767748973552108\n",
       " -0.23906130032460657\n",
       " -0.22879695127818175\n",
       " -0.22066668510599904\n",
       " -0.21175516716825818\n",
       " -0.20739516473874706\n",
       " -0.2016793313089685\n",
       " -0.18596045938899716\n",
       " -0.18573734745226259\n",
       " -0.17754476353224577\n",
       " -0.1753648423145975\n",
       " -0.1609076047991624\n",
       " -0.15762096357837432\n",
       "  ⋮\n",
       "  0.001649880373323649\n",
       "  0.001649880373323649\n",
       "  0.001649880373323649\n",
       "  0.001649880373323649\n",
       "  0.001649880373323649\n",
       "  0.001649880373323649\n",
       "  0.001649880373323649\n",
       "  0.001649880373323649\n",
       "  0.001649880373323649\n",
       "  0.001649880373323649\n",
       "  0.001649880373323649\n",
       "  0.001649880373323649"
      ]
     },
     "execution_count": 504,
     "metadata": {},
     "output_type": "execute_result"
    }
   ],
   "source": [
    "sort(mms)"
   ]
  },
  {
   "cell_type": "code",
   "execution_count": 505,
   "id": "0c0f86f3",
   "metadata": {},
   "outputs": [
    {
     "data": {
      "text/plain": [
       "0.095"
      ]
     },
     "execution_count": 505,
     "metadata": {},
     "output_type": "execute_result"
    }
   ],
   "source": [
    "mean(mms .< -0.05)"
   ]
  },
  {
   "cell_type": "code",
   "execution_count": 506,
   "id": "70db4742",
   "metadata": {},
   "outputs": [
    {
     "data": {
      "text/plain": [
       "0.051"
      ]
     },
     "execution_count": 506,
     "metadata": {},
     "output_type": "execute_result"
    }
   ],
   "source": [
    "mean(mms .< -0.1)"
   ]
  },
  {
   "cell_type": "code",
   "execution_count": 507,
   "id": "b16dd717",
   "metadata": {},
   "outputs": [
    {
     "data": {
      "text/plain": [
       "0.015"
      ]
     },
     "execution_count": 507,
     "metadata": {},
     "output_type": "execute_result"
    }
   ],
   "source": [
    "mean(mms .< -0.15)"
   ]
  },
  {
   "cell_type": "code",
   "execution_count": null,
   "id": "ba38b78c",
   "metadata": {},
   "outputs": [],
   "source": []
  }
 ],
 "metadata": {
  "kernelspec": {
   "display_name": "Julia 1.9.3",
   "language": "julia",
   "name": "julia-1.9"
  },
  "language_info": {
   "file_extension": ".jl",
   "mimetype": "application/julia",
   "name": "julia",
   "version": "1.9.3"
  }
 },
 "nbformat": 4,
 "nbformat_minor": 5
}

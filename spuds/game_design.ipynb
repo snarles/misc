{
 "cells": [
  {
   "cell_type": "markdown",
   "id": "052be005",
   "metadata": {},
   "source": [
    "Design of a new game, Spuds"
   ]
  },
  {
   "cell_type": "code",
   "execution_count": 1,
   "id": "494818e8",
   "metadata": {},
   "outputs": [],
   "source": [
    "using Random\n",
    "using DataFrames\n",
    "using CSV\n",
    "using Statistics\n",
    "using Printf\n",
    "using LinearAlgebra"
   ]
  },
  {
   "cell_type": "code",
   "execution_count": 2,
   "id": "1e1008a1",
   "metadata": {},
   "outputs": [
    {
     "data": {
      "text/plain": [
       "cost (generic function with 1 method)"
      ]
     },
     "execution_count": 2,
     "metadata": {},
     "output_type": "execute_result"
    }
   ],
   "source": [
    "struct Spud\n",
    "    name::String\n",
    "    h::Int64\n",
    "    f::Int64\n",
    "    l::Int64\n",
    "    p::Int64\n",
    "    r::Int64\n",
    "    s::Int64\n",
    "end\n",
    "\n",
    "const MXS = 100\n",
    "const MXV = 20\n",
    "const MNV = 1\n",
    "\n",
    "function cost(h::Int64, f::Int64, l::Int64, p::Int64, r::Int64, s::Int64)::Int64\n",
    "    #return h*(f+l-2*MNV) + f*(p+r+s-3*MNV) + h+f+l+p+r+s-6*MNV\n",
    "    return h*(f+l) + f*(p+r+s)\n",
    "end"
   ]
  },
  {
   "cell_type": "code",
   "execution_count": 3,
   "id": "ac830f74",
   "metadata": {},
   "outputs": [
    {
     "data": {
      "text/plain": [
       "eval_battle (generic function with 1 method)"
      ]
     },
     "execution_count": 3,
     "metadata": {},
     "output_type": "execute_result"
    }
   ],
   "source": [
    "function eval_battle(a::Spud, b::Spud)::Int\n",
    "    a_finds = a.f >= b.h\n",
    "    b_finds = b.f >= a.h\n",
    "    #score_a = 4 * (1000*a.p + a.l > 1000*b.p+b.l) + 3 * (1000*a.r+a.l > 1000*b.r+b.l) + 2 * (1000*a.s+a.l > 1000*b.s+b.l)\n",
    "    #score_b = 4 * (1000*a.p + a.l < 1000*b.p+b.l) + 3 * (1000*a.r+a.l < 1000*b.r+b.l) + 2 * (1000*a.s+a.l < 1000*b.s+b.l)\n",
    "    score_a = 4 * (a.p > b.p) + 3 * (a.r > b.r) + 2 * (a.s > b.s)\n",
    "    score_b = 4 * (a.p < b.p) + 3 * (a.r < b.r) + 2 * (a.s < b.s)\n",
    "    melee_win = sign(score_a - score_b)\n",
    "    if a_finds && b_finds\n",
    "        tiebreaker = 4 * melee_win + 2 * sign(a.l - b.l) + sign(a.h - b.h)\n",
    "        return sign(tiebreaker)\n",
    "    end\n",
    "    if a_finds && !b_finds\n",
    "        return 1\n",
    "    end\n",
    "    if !a_finds && b_finds\n",
    "        return -1\n",
    "    end\n",
    "    if !a_finds && !b_finds\n",
    "        tiebreaker = 4 * sign(a.l - b.l) + 2 * melee_win + sign(a.f - b.f)\n",
    "        return sign(tiebreaker)\n",
    "    end\n",
    "end\n"
   ]
  },
  {
   "cell_type": "code",
   "execution_count": 4,
   "id": "40b9dc47",
   "metadata": {},
   "outputs": [
    {
     "data": {
      "text/plain": [
       "random_name_and_stat (generic function with 1 method)"
      ]
     },
     "execution_count": 4,
     "metadata": {},
     "output_type": "execute_result"
    }
   ],
   "source": [
    "tab = CSV.read(\"census_yob2022_names.txt\", DataFrame, header = false)\n",
    "names = tab.Column1\n",
    "adjectives = CSV.read(\"adjectives.csv\", DataFrame)\n",
    "nouns = CSV.read(\"nouns.csv\", DataFrame)\n",
    "jobs = CSV.read(\"jobs.csv\", DataFrame)\n",
    "\n",
    "const mult_noun = 1\n",
    "const mult_adj = 2\n",
    "const mult_job = 3\n",
    "\n",
    "\n",
    "function random_name_and_stat()::Spud\n",
    "    vp = [0, 0, 0, 0, 0, 0]\n",
    "    #nametype = rand([1,1,1,1,1,2,2,2,3])\n",
    "    name = \"\"\n",
    "    noun = \"\"\n",
    "    adj = \"\"\n",
    "    noun_i = rand(1:nrow(nouns))\n",
    "    noun = nouns[noun_i, :noun]\n",
    "    vp[1] = vp[1] + nouns[noun_i, :H] * mult_noun\n",
    "    vp[2] = vp[2] + nouns[noun_i, :F] * mult_noun\n",
    "    vp[3] = vp[3] + nouns[noun_i, :L] * mult_noun\n",
    "    vp[4] = vp[4] + nouns[noun_i, :P] * mult_noun\n",
    "    vp[5] = vp[5] + nouns[noun_i, :R] * mult_noun\n",
    "    vp[6] = vp[6] + nouns[noun_i, :S] * mult_noun\n",
    "    adj_i = rand(1:nrow(adjectives))\n",
    "    adj = adjectives[adj_i, :adjective]\n",
    "    vp[1] = vp[1] + adjectives[adj_i, :H] * mult_adj\n",
    "    vp[2] = vp[2] + adjectives[adj_i, :F] * mult_adj\n",
    "    vp[3] = vp[3] + adjectives[adj_i, :L] * mult_adj\n",
    "    vp[4] = vp[4] + adjectives[adj_i, :P] * mult_adj\n",
    "    vp[5] = vp[5] + adjectives[adj_i, :R] * mult_adj\n",
    "    vp[6] = vp[6] + adjectives[adj_i, :S] * mult_adj\n",
    "    job_i = rand(1:nrow(jobs))\n",
    "    job = jobs[job_i, :job]\n",
    "    vp[1] = vp[1] + jobs[job_i, :H] * mult_job\n",
    "    vp[2] = vp[2] + jobs[job_i, :F] * mult_job\n",
    "    vp[3] = vp[3] + jobs[job_i, :L] * mult_job\n",
    "    vp[4] = vp[4] + jobs[job_i, :P] * mult_job\n",
    "    vp[5] = vp[5] + jobs[job_i, :R] * mult_job\n",
    "    vp[6] = vp[6] + jobs[job_i, :S] * mult_job\n",
    "    name = string(adj, \" \", job, \" \", noun)\n",
    "    Spud(name, vp[1], vp[2], vp[3], vp[4], vp[5], vp[6])\n",
    "end"
   ]
  },
  {
   "cell_type": "code",
   "execution_count": 5,
   "id": "f606e085",
   "metadata": {},
   "outputs": [
    {
     "data": {
      "text/plain": [
       "rand_rename (generic function with 2 methods)"
      ]
     },
     "execution_count": 5,
     "metadata": {},
     "output_type": "execute_result"
    }
   ],
   "source": [
    "function rand_rename(a::Spud, n_tries::Int = 100)::Spud\n",
    "    best_score = 0.0\n",
    "    best_b = random_name_and_stat()\n",
    "    for ii in 1:n_tries\n",
    "        b = random_name_and_stat()\n",
    "        b_norm = sqrt(b.h^2 + b.f^2 + b.l^2 + b.p^2 + b.r^2 + b.s^2)\n",
    "        score = (a.h * b.h + a.f * b.f + a.l * b.l + a.p * b.p + a.r * b.r + a.s * b.s)/b_norm\n",
    "        if score > best_score\n",
    "            best_score = score\n",
    "            best_b = b\n",
    "        end\n",
    "    end\n",
    "    return Spud(best_b.name, a.h, a.f, a.l, a.p, a.r, a.s)\n",
    "end"
   ]
  },
  {
   "cell_type": "code",
   "execution_count": 6,
   "id": "560e9539",
   "metadata": {},
   "outputs": [
    {
     "data": {
      "text/plain": [
       "random_team (generic function with 1 method)"
      ]
     },
     "execution_count": 6,
     "metadata": {},
     "output_type": "execute_result"
    }
   ],
   "source": [
    "function eval_battle_list(a::Spud, bs::Array{Spud})::Int\n",
    "    score = 0\n",
    "    for ii in 1:length(bs)\n",
    "        score = score + eval_battle(a, bs[ii])\n",
    "    end\n",
    "    return score\n",
    "end\n",
    "\n",
    "function eval_battle_list2(a::Spud, bs::Array{Spud}, w::Vector{Float64})::AbstractFloat\n",
    "    score = 0.0\n",
    "    for ii in 1:length(bs)\n",
    "        score = score + w[ii] * eval_battle(a, bs[ii])\n",
    "    end\n",
    "    return score\n",
    "end\n",
    "\n",
    "\n",
    "function pick_best(as::Array{Spud}, bs::Array{Spud})::Spud\n",
    "    bestscore = -999\n",
    "    bestf = as[1]\n",
    "    for ii in 1:length(as)\n",
    "        score = eval_battle_list(as[ii], bs)\n",
    "        if score > bestscore\n",
    "            bestscore = score\n",
    "            bestf = as[ii]\n",
    "        end\n",
    "    end\n",
    "    return bestf\n",
    "end\n",
    "\n",
    "function pick_best_rdmly(as::Array{Spud}, bs::Array{Spud}, ntries::Int)::Spud\n",
    "    bestscore = -999\n",
    "    bestf = rand(as)\n",
    "    for ii in 1:ntries\n",
    "        f = rand(as)\n",
    "        score = eval_battle_list(f, bs)\n",
    "        if score > bestscore\n",
    "            bestscore = score\n",
    "            bestf = f\n",
    "        end\n",
    "    end\n",
    "    return bestf\n",
    "end\n",
    "\n",
    "function pick_best_rdmly_g(g::Function, bs::Array{Spud}, ntries::Int)::Spud\n",
    "    bestscore = -999\n",
    "    bestf = g()\n",
    "    for ii in 1:ntries\n",
    "        f = g()\n",
    "        score = eval_battle_list(f, bs)\n",
    "        if score > bestscore\n",
    "            bestscore = score\n",
    "            bestf = f\n",
    "        end\n",
    "    end\n",
    "    return bestf\n",
    "end\n",
    "\n",
    "function spuds_to_df(as::Array{Spud})::DataFrame\n",
    "    names = Array{String}(undef, length(as))\n",
    "    hs = Array{Int}(undef, length(as))\n",
    "    fs = Array{Int}(undef, length(as))\n",
    "    ls = Array{Int}(undef, length(as))\n",
    "    ps = Array{Int}(undef, length(as))\n",
    "    rs = Array{Int}(undef, length(as))\n",
    "    ss = Array{Int}(undef, length(as))\n",
    "    for ii in 1:length(as)\n",
    "        names[ii] = as[ii].name\n",
    "        hs[ii] = as[ii].h\n",
    "        fs[ii] = as[ii].f\n",
    "        ls[ii] = as[ii].l\n",
    "        ps[ii] = as[ii].p\n",
    "        rs[ii] = as[ii].r\n",
    "        ss[ii] = as[ii].s\n",
    "    end\n",
    "    df = DataFrame(name = names, h = hs, f = fs, l = ls, p = ps, r = rs, s = ss)\n",
    "    return df\n",
    "end\n",
    "\n",
    "function fpart(x::AbstractFloat)::AbstractFloat\n",
    "  return x - trunc(x)\n",
    "end\n",
    "\n",
    "function eval_team_battle(as::Array{Spud}, bs::Array{Spud})::Int\n",
    "    a_i = 1\n",
    "    b_i = 1\n",
    "    while (a_i <= length(as)) && (b_i <= length(bs))\n",
    "        res = eval_battle(as[a_i], bs[b_i])\n",
    "        if res == 1\n",
    "            b_i = b_i + 1\n",
    "        else\n",
    "            a_i = a_i + 1\n",
    "            if res == 0\n",
    "                b_i = b_i + 1\n",
    "            end\n",
    "        end\n",
    "    end\n",
    "    a_out = (a_i > length(as))\n",
    "    b_out = (b_i > length(as))\n",
    "    if a_out\n",
    "        if b_out\n",
    "            return 0\n",
    "        else\n",
    "            return -1\n",
    "        end\n",
    "    else\n",
    "        return 1\n",
    "    end\n",
    "end\n",
    "\n",
    "function compare_generator(f1, f2, limit)\n",
    "    a_i = 1\n",
    "    b_i = 1\n",
    "    f_a = f1()\n",
    "    f_b = f2()\n",
    "    while (a_i < limit) && (b_i < limit)\n",
    "        res = eval_battle(f_a, f_b)\n",
    "        if res != -1\n",
    "            b_i = b_i + 1\n",
    "            f_b = f2()\n",
    "        end\n",
    "        if res != 1\n",
    "            a_i = a_i + 1\n",
    "            f_a = f1()\n",
    "        end\n",
    "    end\n",
    "    return (a_i/limit, b_i/limit)\n",
    "end\n",
    "\n",
    "function random_team(f::Function, team_size::Int)::Array{Spud}\n",
    "    team = Array{Spud}(undef, team_size)\n",
    "    for i in 1:team_size\n",
    "        team[i] = f()\n",
    "    end\n",
    "    return team\n",
    "end\n",
    "\n",
    "function df_to_spuds(df::DataFrame)::Array{Spud}\n",
    "    n = size(df)[1]\n",
    "    as = Array{Spud}(undef, n)\n",
    "    for i in 1:n\n",
    "        as[i] = Spud(df[i, :name], df[i, :h], df[i, :f], df[i, :l], df[i, :r], df[i, :p], df[i, :s])\n",
    "    end\n",
    "    return as\n",
    "end\n",
    "\n",
    "function cost(a::Spud)::Int64\n",
    "    return cost(a.h, a.f, a.l, a.p, a.r, a.s)\n",
    "end"
   ]
  },
  {
   "cell_type": "code",
   "execution_count": 7,
   "id": "bd2b243d",
   "metadata": {},
   "outputs": [
    {
     "data": {
      "text/plain": [
       "pick_best_library (generic function with 1 method)"
      ]
     },
     "execution_count": 7,
     "metadata": {},
     "output_type": "execute_result"
    }
   ],
   "source": [
    "function upgrade_spud(sp::Spud)::Spud\n",
    "    h = sp.h\n",
    "    f = sp.f\n",
    "    l = sp.l\n",
    "    p = sp.p\n",
    "    r = sp.r\n",
    "    s = sp.s    \n",
    "    check_h = (h == MXV) || (cost(h+1,f,l,p,r,s) > MXS)\n",
    "    check_f = (f == MXV) || (cost(h,f+1,l,p,r,s) > MXS)\n",
    "    check_l = (l == MXV) || (cost(h,f,l+1,p,r,s) > MXS)\n",
    "    check_prs = (p+r+s == 3*MXV) || (cost(h,f,l,p+1,r,s) > MXS)\n",
    "    while !(check_h && check_f && check_l && check_prs)\n",
    "        rand_i = rand(1:4)\n",
    "        if rand_i == 1 && !check_h\n",
    "            h = h+1\n",
    "        end\n",
    "        if rand_i == 2 && !check_f\n",
    "            f = f+1\n",
    "        end\n",
    "        if rand_i == 3 && !check_l\n",
    "            l = l+1\n",
    "        end\n",
    "        if rand_i == 4 && !check_prs\n",
    "            rand_j = rand([1,1,1,1,1,2,2,2,2,3,3,3])\n",
    "            if rand_j == 1 && p <= MXV\n",
    "                p += 1\n",
    "            end\n",
    "            if rand_j == 2 && r <= MXV\n",
    "                r += 1\n",
    "            end\n",
    "            if rand_j == 3 && s <= MXV\n",
    "                s += 1\n",
    "            end\n",
    "        end            \n",
    "        check_h = (h == MXV) || (cost(h+1,f,l,p,r,s) > MXS)\n",
    "        check_f = (f == MXV) || (cost(h,f+1,l,p,r,s) > MXS)\n",
    "        check_l = (l == MXV) || (cost(h,f,l+1,p,r,s) > MXS)\n",
    "        check_prs = (p+r+s == 3*MXV) || (cost(h,f,l,p+1,r,s) > MXS)\n",
    "    end\n",
    "    return Spud(sp.name, h, f, l, p, r, s)\n",
    "end\n",
    "\n",
    "\n",
    "\n",
    "function pick_best_library(bs::Array{Spud})::Spud\n",
    "    bestscore = -999\n",
    "    bestf = Spud(\"\",MNV,MNV,MNV,MNV,MNV,MNV)\n",
    "    df = spuds_to_df(bs)\n",
    "    hrange = vcat([MNV], df.h, df.h .+ 1, df.f, df.f .+ 1)\n",
    "    frange = vcat([MNV], df.f, df.f .+ 1, df.h, df.h .+ 1)\n",
    "    lrange = vcat([MNV], df.l, df.l .+ 1)\n",
    "    prange = vcat([MNV], df.p, df.p .+ 1)\n",
    "    rrange = vcat([MNV], df.r, df.r .+ 1)\n",
    "    srange = vcat([MNV], df.s, df.s .+ 1)\n",
    "    hrange = sort(unique(hrange))\n",
    "    frange = sort(unique(frange))\n",
    "    lrange = sort(unique(lrange))\n",
    "    prange = sort(unique(prange))\n",
    "    rrange = sort(unique(rrange))\n",
    "    srange = sort(unique(srange))\n",
    "    for h in hrange\n",
    "        if (cost(h, MNV, MNV, MNV, MNV, MNV) <= MXS)\n",
    "            for f in frange\n",
    "                if (cost(h, f, MNV, MNV, MNV, MNV) <= MXS)\n",
    "                    for l in lrange\n",
    "                        if (cost(h, f, l, MNV, MNV, MNV) <= MXS)\n",
    "                            for p in prange\n",
    "                                if (cost(h, f, l, p, MNV, MNV) <= MXS)\n",
    "                                    for r in rrange\n",
    "                                        if (cost(h, f, l, p, r, MNV) <= MXS)\n",
    "                                            for s in srange\n",
    "                                                if (cost(h,f,l,p,r,s) <= MXS)\n",
    "                                                    ff = Spud(\"\",h,f,l,p,r,s)\n",
    "                                                    score = eval_battle_list(ff, bs)\n",
    "                                                    if score > bestscore\n",
    "                                                        bestscore = score\n",
    "                                                        bestf = ff\n",
    "                                                    end\n",
    "                                                end\n",
    "                                            end\n",
    "                                        end\n",
    "                                    end                        \n",
    "                                end\n",
    "                            end                        \n",
    "                        end\n",
    "                    end\n",
    "                end\n",
    "            end\n",
    "        end\n",
    "    end\n",
    "    return upgrade_spud(bestf)\n",
    "end\n",
    "\n"
   ]
  },
  {
   "cell_type": "code",
   "execution_count": 8,
   "id": "2d640dee",
   "metadata": {},
   "outputs": [
    {
     "data": {
      "text/plain": [
       "pick_ok_counter (generic function with 1 method)"
      ]
     },
     "execution_count": 8,
     "metadata": {},
     "output_type": "execute_result"
    }
   ],
   "source": [
    "function pick_ok_counter(bs::Array{Spud})::Spud\n",
    "    bestscore = -999\n",
    "    bestf = Spud(\"\",MNV,MNV,MNV,MNV,MNV,MNV)\n",
    "    df = spuds_to_df(bs)\n",
    "    hrange = vcat([MNV], df.f .+ 1)\n",
    "    frange = vcat([MNV], df.h .+ 1)\n",
    "    lrange = vcat([MNV], df.l .+ 1)\n",
    "    prange = vcat([MNV], df.p .+ 1)\n",
    "    rrange = vcat([MNV], df.r .+ 1)\n",
    "    srange = vcat([MNV], df.s .+ 1)\n",
    "    hrange = sort(unique(hrange))\n",
    "    frange = sort(unique(frange))\n",
    "    lrange = sort(unique(lrange))\n",
    "    prange = sort(unique(prange))\n",
    "    rrange = sort(unique(rrange))\n",
    "    srange = sort(unique(srange))\n",
    "    for h in hrange\n",
    "        if (cost(h, MNV, MNV, MNV, MNV, MNV) <= MXS)\n",
    "            for f in frange\n",
    "                if (cost(h, f, MNV, MNV, MNV, MNV) <= MXS)\n",
    "                    for l in lrange\n",
    "                        if (cost(h, f, l, MNV, MNV, MNV) <= MXS)\n",
    "                            for p in prange\n",
    "                                if (cost(h, f, l, p, MNV, MNV) <= MXS)\n",
    "                                    for r in rrange\n",
    "                                        if (cost(h, f, l, p, r, MNV) <= MXS)\n",
    "                                            for s in srange\n",
    "                                                if (cost(h,f,l,p,r,s) <= MXS)\n",
    "                                                    ff = Spud(\"\",h,f,l,p,r,s)\n",
    "                                                    score = eval_battle_list(ff, bs)\n",
    "                                                    if score > bestscore\n",
    "                                                        bestscore = score\n",
    "                                                        bestf = ff\n",
    "                                                    end\n",
    "                                                end\n",
    "                                            end\n",
    "                                        end\n",
    "                                    end                        \n",
    "                                end\n",
    "                            end                        \n",
    "                        end\n",
    "                    end\n",
    "                end\n",
    "            end\n",
    "        end\n",
    "    end\n",
    "    return upgrade_spud(bestf)\n",
    "end\n"
   ]
  },
  {
   "cell_type": "code",
   "execution_count": 9,
   "id": "7b4f703b",
   "metadata": {},
   "outputs": [
    {
     "data": {
      "text/plain": [
       "pick_best_library2 (generic function with 1 method)"
      ]
     },
     "execution_count": 9,
     "metadata": {},
     "output_type": "execute_result"
    }
   ],
   "source": [
    "function pick_best_library2(bs::Array{Spud}, w::Vector{Float64})::Spud\n",
    "    bestscore = -999.9\n",
    "    bestf = Spud(\"\",MNV,MNV,MNV,MNV,MNV,MNV)\n",
    "    df = spuds_to_df(bs)\n",
    "    hrange = vcat([MNV], df.h, df.h .+ 1, df.f, df.f .+ 1)\n",
    "    frange = vcat([MNV], df.f, df.f .+ 1, df.h, df.h .+ 1)\n",
    "    lrange = vcat([MNV], df.l, df.l .+ 1)\n",
    "    prange = vcat([MNV], df.p, df.p .+ 1)\n",
    "    rrange = vcat([MNV], df.r, df.r .+ 1)\n",
    "    srange = vcat([MNV], df.s, df.s .+ 1)\n",
    "    hrange = sort(unique(hrange))\n",
    "    frange = sort(unique(frange))\n",
    "    lrange = sort(unique(lrange))\n",
    "    prange = sort(unique(prange))\n",
    "    rrange = sort(unique(rrange))\n",
    "    srange = sort(unique(srange))\n",
    "    for h in hrange\n",
    "        if (cost(h, MNV, MNV, MNV, MNV, MNV) <= MXS)\n",
    "            for f in frange\n",
    "                if (cost(h, f, MNV, MNV, MNV, MNV) <= MXS)\n",
    "                    for l in lrange\n",
    "                        if (cost(h, f, l, MNV, MNV, MNV) <= MXS)\n",
    "                            for p in prange\n",
    "                                if (cost(h, f, l, p, MNV, MNV) <= MXS)\n",
    "                                    for r in rrange\n",
    "                                        if (cost(h, f, l, p, r, MNV) <= MXS)\n",
    "                                            for s in srange\n",
    "                                                if (cost(h,f,l,p,r,s) <= MXS)\n",
    "                                                    ff = Spud(\"\",h,f,l,p,r,s)\n",
    "                                                    score = eval_battle_list2(ff, bs, w) + 0.001 * rand()\n",
    "                                                    if score > bestscore\n",
    "                                                        bestscore = score\n",
    "                                                        bestf = ff\n",
    "                                                    end\n",
    "                                                end\n",
    "                                            end\n",
    "                                        end\n",
    "                                    end                        \n",
    "                                end\n",
    "                            end                        \n",
    "                        end\n",
    "                    end\n",
    "                end\n",
    "            end\n",
    "        end\n",
    "    end\n",
    "    return upgrade_spud(bestf)\n",
    "end"
   ]
  },
  {
   "cell_type": "code",
   "execution_count": 10,
   "id": "79126a50",
   "metadata": {},
   "outputs": [
    {
     "data": {
      "text/plain": [
       "subset_library (generic function with 1 method)"
      ]
     },
     "execution_count": 10,
     "metadata": {},
     "output_type": "execute_result"
    }
   ],
   "source": [
    "function subset_library(bs::Array{Spud}, n_hits::Int, w::Vector{Float64}, thres::Float64)::Array{Spud}\n",
    "    bestf = Array{Spud}(undef, n_hits)\n",
    "    spud_i = 0\n",
    "    df = spuds_to_df(bs)\n",
    "    hrange = vcat([MNV], df.h, df.h .+ 1, df.f, df.f .+ 1)\n",
    "    frange = vcat([MNV], df.f, df.f .+ 1, df.h, df.h .+ 1)\n",
    "    lrange = vcat([MNV], df.l, df.l .+ 1)\n",
    "    prange = vcat([MNV], df.p, df.p .+ 1)\n",
    "    rrange = vcat([MNV], df.r, df.r .+ 1)\n",
    "    srange = vcat([MNV], df.s, df.s .+ 1)\n",
    "    hrange = sort(unique(hrange))\n",
    "    frange = sort(unique(frange))\n",
    "    lrange = sort(unique(lrange))\n",
    "    prange = sort(unique(prange))\n",
    "    rrange = sort(unique(rrange))\n",
    "    srange = sort(unique(srange))\n",
    "    for h in hrange\n",
    "        if (cost(h, MNV, MNV, MNV, MNV, MNV) <= MXS)\n",
    "            for f in frange\n",
    "                if (cost(h, f, MNV, MNV, MNV, MNV) <= MXS)\n",
    "                    for l in lrange\n",
    "                        if (cost(h, f, l, MNV, MNV, MNV) <= MXS)\n",
    "                            for p in prange\n",
    "                                if (cost(h, f, l, p, MNV, MNV) <= MXS)\n",
    "                                    for r in rrange\n",
    "                                        if (cost(h, f, l, p, r, MNV) <= MXS)\n",
    "                                            for s in srange\n",
    "                                                if (cost(h,f,l,p,r,s) <= MXS)\n",
    "                                                    ff = Spud(\"\",h,f,l,p,r,s)\n",
    "                                                    score = eval_battle_list2(ff, bs, w)\n",
    "                                                    if score >= thres && spud_i < n_hits\n",
    "                                                        spud_i += 1\n",
    "                                                        bestf[spud_i] = upgrade_spud(ff)\n",
    "                                                    end\n",
    "                                                end\n",
    "                                            end\n",
    "                                        end\n",
    "                                    end                        \n",
    "                                end\n",
    "                            end                        \n",
    "                        end\n",
    "                    end\n",
    "                end\n",
    "            end\n",
    "        end\n",
    "    end\n",
    "    return unique(bestf[1:spud_i])\n",
    "end"
   ]
  },
  {
   "cell_type": "code",
   "execution_count": 54,
   "id": "8534b5bb",
   "metadata": {},
   "outputs": [
    {
     "data": {
      "text/plain": [
       "0.01"
      ]
     },
     "execution_count": 54,
     "metadata": {},
     "output_type": "execute_result"
    }
   ],
   "source": [
    "# form initial library by subsampling indices\n",
    "library = Array{Spud}(undef, 1000)\n",
    "spud_i = 0\n",
    "ss_prob = 0.01"
   ]
  },
  {
   "cell_type": "code",
   "execution_count": 55,
   "id": "3febb950",
   "metadata": {},
   "outputs": [],
   "source": [
    "\n",
    "hrange = MNV:MXV\n",
    "frange = MNV:MXV\n",
    "lrange = MNV:MXV\n",
    "prange = MNV:MXV\n",
    "rrange = MNV:MXV\n",
    "srange = MNV:MXV\n",
    "\n",
    "for h in hrange\n",
    "    if (cost(h, MXV, MXV, MXV, MXV, MXV) >= MXS) && (cost(h, MNV, MNV, MNV, MNV, MNV) <= MXS)\n",
    "        for f in frange\n",
    "            if (cost(h, f, MXV, MXV, MXV, MXV) >= MXS) && (cost(h, f, MNV, MNV, MNV, MNV) <= MXS)\n",
    "                for l in lrange\n",
    "                    if (cost(h, f, l, MXV, MXV, MXV) >= MXS) && (cost(h, f, l, MNV, MNV, MNV) <= MXS)\n",
    "                        for p in prange\n",
    "                            if (cost(h, f, l, p, MXV, MXV) >= MXS) && (cost(h, f, l, p, MNV, MNV) <= MXS)\n",
    "                                for r in rrange\n",
    "                                    if (cost(h, f, l, p, r, MXV) >= MXS) && (cost(h, f, l, p, r, MNV) <= MXS)\n",
    "                                        for s in srange\n",
    "                                            if rand() < ss_prob && (cost(h,f,l,p,r,s) <= MXS)\n",
    "                                                check_f = (h == MXV) || (cost(h+1,f,l,p,r,s) > MXS)\n",
    "                                                check_h = (f == MXV) || (cost(h,f+1,l,p,r,s) > MXS)\n",
    "                                                check_l = (l == MXV) || (cost(h,f,l+1,p,r,s) > MXS)\n",
    "                                                check_prs = (p+r+s == 3*MXV) || (cost(h,f,l,p+1,r,s) > MXS)\n",
    "                                                if check_h && check_f && check_l && check_prs\n",
    "                                                    spud_i += 1\n",
    "                                                    #randname = rand_rename(Spud(\" \",h,f,l,p,r,s)).name\n",
    "                                                    #name = string(\"#\", @sprintf(\"%i\", spud_i), \". \", randname)\n",
    "                                                    name = \"\"\n",
    "                                                    library[spud_i] = Spud(name,h,f,l,p,r,s)\n",
    "                                                end\n",
    "                                            end\n",
    "                                        end\n",
    "                                    end\n",
    "                                end                        \n",
    "                            end\n",
    "                        end                        \n",
    "                    end\n",
    "                end\n",
    "            end\n",
    "        end\n",
    "    end\n",
    "end\n"
   ]
  },
  {
   "cell_type": "code",
   "execution_count": 56,
   "id": "9bbe4ff4",
   "metadata": {},
   "outputs": [
    {
     "data": {
      "text/plain": [
       "714"
      ]
     },
     "execution_count": 56,
     "metadata": {},
     "output_type": "execute_result"
    }
   ],
   "source": [
    "library = unique(library[1:spud_i])\n",
    "n_spuds = length(library)"
   ]
  },
  {
   "cell_type": "code",
   "execution_count": 57,
   "id": "2a078723",
   "metadata": {},
   "outputs": [],
   "source": [
    "# for i in 1:n_spuds\n",
    "#     ff = library[i]\n",
    "#     randname = rand_rename(ff).name\n",
    "#     name = string(\"#\", @sprintf(\"%i\", i), \". \", randname)\n",
    "#     library[i] = Spud(name,ff.h,ff.f,ff.l,ff.p,ff.r,ff.s)\n",
    "# end\n",
    "# id_no = Dict(library[i] => i for i in 1:n_spuds)"
   ]
  },
  {
   "cell_type": "code",
   "execution_count": 58,
   "id": "52daa014",
   "metadata": {},
   "outputs": [],
   "source": [
    "# Check that there are no ties in spudland\n",
    "for iter in 1:10000\n",
    "    i = rand(1:n_spuds)\n",
    "    j = rand(1:n_spuds)\n",
    "    if i != j && eval_battle(library[i], library[j]) == 0\n",
    "        println(library[i])\n",
    "        println(library[j])\n",
    "        println()\n",
    "    end\n",
    "end"
   ]
  },
  {
   "cell_type": "markdown",
   "id": "4873490e",
   "metadata": {},
   "source": [
    "## Compute Nash env"
   ]
  },
  {
   "cell_type": "code",
   "execution_count": 59,
   "id": "010f3c57",
   "metadata": {},
   "outputs": [
    {
     "data": {
      "text/plain": [
       "ffp (generic function with 1 method)"
      ]
     },
     "execution_count": 59,
     "metadata": {},
     "output_type": "execute_result"
    }
   ],
   "source": [
    "function ffp(nash_env, nits)\n",
    "    n_nash = length(nash_env)\n",
    "    i_lose = Array{Int}(undef, (n_nash, n_nash))\n",
    "    n_lose = Array{Int}(undef, n_nash)\n",
    "    for i in 1:n_nash\n",
    "        n_lose[i] = 0\n",
    "        ff = nash_env[i]\n",
    "        for j in 1:n_nash\n",
    "            if eval_battle(ff, nash_env[j]) ==-1\n",
    "                n_lose[i] += 1\n",
    "                i_lose[i, n_lose[i]] = j\n",
    "            end\n",
    "        end\n",
    "    end\n",
    "    counts = [0 for i in 1:n_nash]\n",
    "    wins = [0 for i in 1:n_nash]\n",
    "    for i in 1:n_nash\n",
    "        counts[i] += 1\n",
    "        for j in 1:n_lose[i]\n",
    "            i_w = i_lose[i, j]\n",
    "            wins[i_w]+= 1\n",
    "        end\n",
    "    end\n",
    "    for iter in 1:nits\n",
    "        wc = 2 .* wins .+ counts\n",
    "        ind_winners = findall(wc .== maximum(wc))\n",
    "        i = rand(ind_winners)\n",
    "        counts[i] += 1\n",
    "        for j in 1:n_lose[i]\n",
    "            i_w = i_lose[i, j]\n",
    "            wins[i_w]+= 1\n",
    "        end\n",
    "    end\n",
    "    return counts\n",
    "end\n"
   ]
  },
  {
   "cell_type": "code",
   "execution_count": 60,
   "id": "4021dd90",
   "metadata": {},
   "outputs": [
    {
     "data": {
      "text/html": [
       "<div><div style = \"float: left;\"><span>714×7 DataFrame</span></div><div style = \"float: right;\"><span style = \"font-style: italic;\">689 rows omitted</span></div><div style = \"clear: both;\"></div></div><div class = \"data-frame\" style = \"overflow-x: scroll;\"><table class = \"data-frame\" style = \"margin-bottom: 6px;\"><thead><tr class = \"header\"><th class = \"rowNumber\" style = \"font-weight: bold; text-align: right;\">Row</th><th style = \"text-align: left;\">name</th><th style = \"text-align: left;\">h</th><th style = \"text-align: left;\">f</th><th style = \"text-align: left;\">l</th><th style = \"text-align: left;\">p</th><th style = \"text-align: left;\">r</th><th style = \"text-align: left;\">s</th></tr><tr class = \"subheader headerLastRow\"><th class = \"rowNumber\" style = \"font-weight: bold; text-align: right;\"></th><th title = \"String\" style = \"text-align: left;\">String</th><th title = \"Int64\" style = \"text-align: left;\">Int64</th><th title = \"Int64\" style = \"text-align: left;\">Int64</th><th title = \"Int64\" style = \"text-align: left;\">Int64</th><th title = \"Int64\" style = \"text-align: left;\">Int64</th><th title = \"Int64\" style = \"text-align: left;\">Int64</th><th title = \"Int64\" style = \"text-align: left;\">Int64</th></tr></thead><tbody><tr><td class = \"rowNumber\" style = \"font-weight: bold; text-align: right;\">1</td><td style = \"text-align: left;\">Exquisite System designer Ajiaco</td><td style = \"text-align: right;\">1</td><td style = \"text-align: right;\">2</td><td style = \"text-align: right;\">4</td><td style = \"text-align: right;\">18</td><td style = \"text-align: right;\">9</td><td style = \"text-align: right;\">20</td></tr><tr><td class = \"rowNumber\" style = \"font-weight: bold; text-align: right;\">2</td><td style = \"text-align: left;\">Stalwart System designer Brændende kærlighed</td><td style = \"text-align: right;\">1</td><td style = \"text-align: right;\">2</td><td style = \"text-align: right;\">6</td><td style = \"text-align: right;\">20</td><td style = \"text-align: right;\">7</td><td style = \"text-align: right;\">19</td></tr><tr><td class = \"rowNumber\" style = \"font-weight: bold; text-align: right;\">3</td><td style = \"text-align: left;\">Dull Technical engineer Okroshka</td><td style = \"text-align: right;\">1</td><td style = \"text-align: right;\">2</td><td style = \"text-align: right;\">10</td><td style = \"text-align: right;\">9</td><td style = \"text-align: right;\">19</td><td style = \"text-align: right;\">16</td></tr><tr><td class = \"rowNumber\" style = \"font-weight: bold; text-align: right;\">4</td><td style = \"text-align: left;\">Compassionate System designer Hash browns</td><td style = \"text-align: right;\">1</td><td style = \"text-align: right;\">2</td><td style = \"text-align: right;\">12</td><td style = \"text-align: right;\">11</td><td style = \"text-align: right;\">13</td><td style = \"text-align: right;\">19</td></tr><tr><td class = \"rowNumber\" style = \"font-weight: bold; text-align: right;\">5</td><td style = \"text-align: left;\">Zealous Real estate investor Batata vada</td><td style = \"text-align: right;\">1</td><td style = \"text-align: right;\">2</td><td style = \"text-align: right;\">12</td><td style = \"text-align: right;\">13</td><td style = \"text-align: right;\">19</td><td style = \"text-align: right;\">11</td></tr><tr><td class = \"rowNumber\" style = \"font-weight: bold; text-align: right;\">6</td><td style = \"text-align: left;\">Limp System designer Aligot</td><td style = \"text-align: right;\">1</td><td style = \"text-align: right;\">2</td><td style = \"text-align: right;\">12</td><td style = \"text-align: right;\">16</td><td style = \"text-align: right;\">13</td><td style = \"text-align: right;\">14</td></tr><tr><td class = \"rowNumber\" style = \"font-weight: bold; text-align: right;\">7</td><td style = \"text-align: left;\">Peaceful Real estate investor Batata vada</td><td style = \"text-align: right;\">1</td><td style = \"text-align: right;\">2</td><td style = \"text-align: right;\">12</td><td style = \"text-align: right;\">17</td><td style = \"text-align: right;\">13</td><td style = \"text-align: right;\">13</td></tr><tr><td class = \"rowNumber\" style = \"font-weight: bold; text-align: right;\">8</td><td style = \"text-align: left;\">Practical Contractor- general French fries</td><td style = \"text-align: right;\">1</td><td style = \"text-align: right;\">2</td><td style = \"text-align: right;\">14</td><td style = \"text-align: right;\">12</td><td style = \"text-align: right;\">10</td><td style = \"text-align: right;\">20</td></tr><tr><td class = \"rowNumber\" style = \"font-weight: bold; text-align: right;\">9</td><td style = \"text-align: left;\">Genuine Soil scientist Kouign patatez</td><td style = \"text-align: right;\">1</td><td style = \"text-align: right;\">2</td><td style = \"text-align: right;\">16</td><td style = \"text-align: right;\">14</td><td style = \"text-align: right;\">11</td><td style = \"text-align: right;\">16</td></tr><tr><td class = \"rowNumber\" style = \"font-weight: bold; text-align: right;\">10</td><td style = \"text-align: left;\">Strong Magnate Boxty</td><td style = \"text-align: right;\">1</td><td style = \"text-align: right;\">2</td><td style = \"text-align: right;\">16</td><td style = \"text-align: right;\">18</td><td style = \"text-align: right;\">19</td><td style = \"text-align: right;\">4</td></tr><tr><td class = \"rowNumber\" style = \"font-weight: bold; text-align: right;\">11</td><td style = \"text-align: left;\">Joyful Party-leader Pitepalt</td><td style = \"text-align: right;\">1</td><td style = \"text-align: right;\">2</td><td style = \"text-align: right;\">18</td><td style = \"text-align: right;\">10</td><td style = \"text-align: right;\">19</td><td style = \"text-align: right;\">11</td></tr><tr><td class = \"rowNumber\" style = \"font-weight: bold; text-align: right;\">12</td><td style = \"text-align: left;\">Unrestrained Magnate Okroshka</td><td style = \"text-align: right;\">1</td><td style = \"text-align: right;\">2</td><td style = \"text-align: right;\">18</td><td style = \"text-align: right;\">16</td><td style = \"text-align: right;\">13</td><td style = \"text-align: right;\">11</td></tr><tr><td class = \"rowNumber\" style = \"font-weight: bold; text-align: right;\">13</td><td style = \"text-align: left;\">Candid Laborer Chips and dip</td><td style = \"text-align: right;\">1</td><td style = \"text-align: right;\">2</td><td style = \"text-align: right;\">18</td><td style = \"text-align: right;\">19</td><td style = \"text-align: right;\">3</td><td style = \"text-align: right;\">18</td></tr><tr><td style = \"text-align: right;\">&vellip;</td><td style = \"text-align: right;\">&vellip;</td><td style = \"text-align: right;\">&vellip;</td><td style = \"text-align: right;\">&vellip;</td><td style = \"text-align: right;\">&vellip;</td><td style = \"text-align: right;\">&vellip;</td><td style = \"text-align: right;\">&vellip;</td><td style = \"text-align: right;\">&vellip;</td></tr><tr><td class = \"rowNumber\" style = \"font-weight: bold; text-align: right;\">703</td><td style = \"text-align: left;\">Relentless Technician Okroshka</td><td style = \"text-align: right;\">19</td><td style = \"text-align: right;\">1</td><td style = \"text-align: right;\">2</td><td style = \"text-align: right;\">16</td><td style = \"text-align: right;\">11</td><td style = \"text-align: right;\">16</td></tr><tr><td class = \"rowNumber\" style = \"font-weight: bold; text-align: right;\">704</td><td style = \"text-align: left;\">Uncompromising Watchmaker Tartiflette</td><td style = \"text-align: right;\">19</td><td style = \"text-align: right;\">1</td><td style = \"text-align: right;\">2</td><td style = \"text-align: right;\">19</td><td style = \"text-align: right;\">13</td><td style = \"text-align: right;\">11</td></tr><tr><td class = \"rowNumber\" style = \"font-weight: bold; text-align: right;\">705</td><td style = \"text-align: left;\">Inexpressive Lumberjack Clapshot</td><td style = \"text-align: right;\">19</td><td style = \"text-align: right;\">1</td><td style = \"text-align: right;\">3</td><td style = \"text-align: right;\">9</td><td style = \"text-align: right;\">1</td><td style = \"text-align: right;\">14</td></tr><tr><td class = \"rowNumber\" style = \"font-weight: bold; text-align: right;\">706</td><td style = \"text-align: left;\">Unimpressive Watchmaker Boxty</td><td style = \"text-align: right;\">19</td><td style = \"text-align: right;\">1</td><td style = \"text-align: right;\">3</td><td style = \"text-align: right;\">11</td><td style = \"text-align: right;\">10</td><td style = \"text-align: right;\">3</td></tr><tr><td class = \"rowNumber\" style = \"font-weight: bold; text-align: right;\">707</td><td style = \"text-align: left;\">Reckless Level designer (also Mapper) Potato babka</td><td style = \"text-align: right;\">19</td><td style = \"text-align: right;\">1</td><td style = \"text-align: right;\">3</td><td style = \"text-align: right;\">16</td><td style = \"text-align: right;\">7</td><td style = \"text-align: right;\">1</td></tr><tr><td class = \"rowNumber\" style = \"font-weight: bold; text-align: right;\">708</td><td style = \"text-align: left;\">Modest Level designer (also Mapper) Hash browns</td><td style = \"text-align: right;\">19</td><td style = \"text-align: right;\">2</td><td style = \"text-align: right;\">2</td><td style = \"text-align: right;\">6</td><td style = \"text-align: right;\">4</td><td style = \"text-align: right;\">2</td></tr><tr><td class = \"rowNumber\" style = \"font-weight: bold; text-align: right;\">709</td><td style = \"text-align: left;\">Unsteady Author Papas chorreadas</td><td style = \"text-align: right;\">19</td><td style = \"text-align: right;\">3</td><td style = \"text-align: right;\">1</td><td style = \"text-align: right;\">1</td><td style = \"text-align: right;\">4</td><td style = \"text-align: right;\">3</td></tr><tr><td class = \"rowNumber\" style = \"font-weight: bold; text-align: right;\">710</td><td style = \"text-align: left;\">Impassive Chimney sweep Boxty</td><td style = \"text-align: right;\">19</td><td style = \"text-align: right;\">3</td><td style = \"text-align: right;\">1</td><td style = \"text-align: right;\">1</td><td style = \"text-align: right;\">5</td><td style = \"text-align: right;\">2</td></tr><tr><td class = \"rowNumber\" style = \"font-weight: bold; text-align: right;\">711</td><td style = \"text-align: left;\">Brilliant Gunsmith Kouign patatez</td><td style = \"text-align: right;\">20</td><td style = \"text-align: right;\">1</td><td style = \"text-align: right;\">2</td><td style = \"text-align: right;\">12</td><td style = \"text-align: right;\">10</td><td style = \"text-align: right;\">18</td></tr><tr><td class = \"rowNumber\" style = \"font-weight: bold; text-align: right;\">712</td><td style = \"text-align: left;\">Tactful Terminator Meat and potato pie</td><td style = \"text-align: right;\">20</td><td style = \"text-align: right;\">1</td><td style = \"text-align: right;\">2</td><td style = \"text-align: right;\">17</td><td style = \"text-align: right;\">4</td><td style = \"text-align: right;\">19</td></tr><tr><td class = \"rowNumber\" style = \"font-weight: bold; text-align: right;\">713</td><td style = \"text-align: left;\">Neglectful Prosecutor Hash browns</td><td style = \"text-align: right;\">20</td><td style = \"text-align: right;\">1</td><td style = \"text-align: right;\">3</td><td style = \"text-align: right;\">2</td><td style = \"text-align: right;\">16</td><td style = \"text-align: right;\">2</td></tr><tr><td class = \"rowNumber\" style = \"font-weight: bold; text-align: right;\">714</td><td style = \"text-align: left;\">Motivated Author Batata vada</td><td style = \"text-align: right;\">20</td><td style = \"text-align: right;\">1</td><td style = \"text-align: right;\">3</td><td style = \"text-align: right;\">10</td><td style = \"text-align: right;\">2</td><td style = \"text-align: right;\">8</td></tr></tbody></table></div>"
      ],
      "text/latex": [
       "\\begin{tabular}{r|ccccccc}\n",
       "\t& name & h & f & l & p & r & \\\\\n",
       "\t\\hline\n",
       "\t& String & Int64 & Int64 & Int64 & Int64 & Int64 & \\\\\n",
       "\t\\hline\n",
       "\t1 & Exquisite System designer Ajiaco & 1 & 2 & 4 & 18 & 9 & $\\dots$ \\\\\n",
       "\t2 & Stalwart System designer Brændende kærlighed & 1 & 2 & 6 & 20 & 7 & $\\dots$ \\\\\n",
       "\t3 & Dull Technical engineer Okroshka & 1 & 2 & 10 & 9 & 19 & $\\dots$ \\\\\n",
       "\t4 & Compassionate System designer Hash browns & 1 & 2 & 12 & 11 & 13 & $\\dots$ \\\\\n",
       "\t5 & Zealous Real estate investor Batata vada & 1 & 2 & 12 & 13 & 19 & $\\dots$ \\\\\n",
       "\t6 & Limp System designer Aligot & 1 & 2 & 12 & 16 & 13 & $\\dots$ \\\\\n",
       "\t7 & Peaceful Real estate investor Batata vada & 1 & 2 & 12 & 17 & 13 & $\\dots$ \\\\\n",
       "\t8 & Practical Contractor- general French fries & 1 & 2 & 14 & 12 & 10 & $\\dots$ \\\\\n",
       "\t9 & Genuine Soil scientist Kouign patatez & 1 & 2 & 16 & 14 & 11 & $\\dots$ \\\\\n",
       "\t10 & Strong Magnate Boxty & 1 & 2 & 16 & 18 & 19 & $\\dots$ \\\\\n",
       "\t11 & Joyful Party-leader Pitepalt & 1 & 2 & 18 & 10 & 19 & $\\dots$ \\\\\n",
       "\t12 & Unrestrained Magnate Okroshka & 1 & 2 & 18 & 16 & 13 & $\\dots$ \\\\\n",
       "\t13 & Candid Laborer Chips and dip & 1 & 2 & 18 & 19 & 3 & $\\dots$ \\\\\n",
       "\t14 & Aloof Automobile racer Truffade & 1 & 2 & 20 & 19 & 8 & $\\dots$ \\\\\n",
       "\t15 & Neglectful Technical engineer Suan la tu dou si & 1 & 3 & 1 & 13 & 13 & $\\dots$ \\\\\n",
       "\t16 & Devoted System designer Truffade & 1 & 3 & 1 & 15 & 5 & $\\dots$ \\\\\n",
       "\t17 & Self-reliant Neurologist Aligot & 1 & 3 & 1 & 18 & 5 & $\\dots$ \\\\\n",
       "\t18 & Self-driven System designer Truffade & 1 & 3 & 4 & 12 & 6 & $\\dots$ \\\\\n",
       "\t19 & Self-motivated Automobile racer Boxty & 1 & 3 & 4 & 17 & 2 & $\\dots$ \\\\\n",
       "\t20 & Transparent Vice president Boxty & 1 & 3 & 4 & 17 & 8 & $\\dots$ \\\\\n",
       "\t21 & Disciplined Real estate investor Rappie pie & 1 & 3 & 7 & 12 & 8 & $\\dots$ \\\\\n",
       "\t22 & Devoted Soil scientist Funeral potatoes & 1 & 3 & 7 & 14 & 9 & $\\dots$ \\\\\n",
       "\t23 & Focused Laborer Potato babka & 1 & 3 & 10 & 9 & 8 & $\\dots$ \\\\\n",
       "\t24 & Unconstrained Contractor- general Kouign patatez & 1 & 3 & 13 & 6 & 6 & $\\dots$ \\\\\n",
       "\t25 & Proactive System designer Pommes Anna & 1 & 3 & 13 & 7 & 3 & $\\dots$ \\\\\n",
       "\t26 & Boring Real estate investor Suan la tu dou si & 1 & 3 & 16 & 3 & 19 & $\\dots$ \\\\\n",
       "\t27 & Ignorant Real estate investor Potato babka & 1 & 3 & 16 & 8 & 7 & $\\dots$ \\\\\n",
       "\t28 & Engaging System designer French fries & 1 & 3 & 16 & 11 & 6 & $\\dots$ \\\\\n",
       "\t29 & Mindless Automobile racer Rappie pie & 1 & 3 & 16 & 13 & 2 & $\\dots$ \\\\\n",
       "\t30 & Mesmerizing Real estate investor Pommes Anna & 1 & 3 & 19 & 6 & 10 & $\\dots$ \\\\\n",
       "\t$\\dots$ & $\\dots$ & $\\dots$ & $\\dots$ & $\\dots$ & $\\dots$ & $\\dots$ &  \\\\\n",
       "\\end{tabular}\n"
      ],
      "text/plain": [
       "\u001b[1m714×7 DataFrame\u001b[0m\n",
       "\u001b[1m Row \u001b[0m│\u001b[1m name                              \u001b[0m\u001b[1m h     \u001b[0m\u001b[1m f     \u001b[0m\u001b[1m l     \u001b[0m\u001b[1m p     \u001b[0m\u001b[1m r     \u001b[0m\u001b[1m s\u001b[0m ⋯\n",
       "     │\u001b[90m String                            \u001b[0m\u001b[90m Int64 \u001b[0m\u001b[90m Int64 \u001b[0m\u001b[90m Int64 \u001b[0m\u001b[90m Int64 \u001b[0m\u001b[90m Int64 \u001b[0m\u001b[90m I\u001b[0m ⋯\n",
       "─────┼──────────────────────────────────────────────────────────────────────────\n",
       "   1 │ Exquisite System designer Ajiaco       1      2      4     18      9    ⋯\n",
       "   2 │ Stalwart System designer Brænden…      1      2      6     20      7\n",
       "   3 │ Dull Technical engineer Okroshka       1      2     10      9     19\n",
       "   4 │ Compassionate System designer Ha…      1      2     12     11     13\n",
       "   5 │ Zealous Real estate investor Bat…      1      2     12     13     19    ⋯\n",
       "   6 │ Limp System designer Aligot            1      2     12     16     13\n",
       "   7 │ Peaceful Real estate investor Ba…      1      2     12     17     13\n",
       "   8 │ Practical Contractor- general Fr…      1      2     14     12     10\n",
       "   9 │ Genuine Soil scientist Kouign pa…      1      2     16     14     11    ⋯\n",
       "  10 │ Strong Magnate Boxty                   1      2     16     18     19\n",
       "  11 │ Joyful Party-leader Pitepalt           1      2     18     10     19\n",
       "  ⋮  │                 ⋮                    ⋮      ⋮      ⋮      ⋮      ⋮      ⋱\n",
       " 705 │ Inexpressive Lumberjack Clapshot      19      1      3      9      1\n",
       " 706 │ Unimpressive Watchmaker Boxty         19      1      3     11     10    ⋯\n",
       " 707 │ Reckless Level designer (also Ma…     19      1      3     16      7\n",
       " 708 │ Modest Level designer (also Mapp…     19      2      2      6      4\n",
       " 709 │ Unsteady Author Papas chorreadas      19      3      1      1      4\n",
       " 710 │ Impassive Chimney sweep Boxty         19      3      1      1      5    ⋯\n",
       " 711 │ Brilliant Gunsmith Kouign patatez     20      1      2     12     10\n",
       " 712 │ Tactful Terminator Meat and pota…     20      1      2     17      4\n",
       " 713 │ Neglectful Prosecutor Hash browns     20      1      3      2     16\n",
       " 714 │ Motivated Author Batata vada          20      1      3     10      2    ⋯\n",
       "\u001b[36m                                                   1 column and 693 rows omitted\u001b[0m"
      ]
     },
     "execution_count": 60,
     "metadata": {},
     "output_type": "execute_result"
    }
   ],
   "source": [
    "nash_env = [rand_rename(s) for s in library]\n",
    "spuds_to_df(nash_env)"
   ]
  },
  {
   "cell_type": "code",
   "execution_count": 61,
   "id": "0e75ca0c",
   "metadata": {},
   "outputs": [],
   "source": [
    "counts = ffp(nash_env, 1000);"
   ]
  },
  {
   "cell_type": "code",
   "execution_count": 62,
   "id": "8336bfca",
   "metadata": {},
   "outputs": [
    {
     "data": {
      "text/html": [
       "<div><div style = \"float: left;\"><span>13×7 DataFrame</span></div><div style = \"clear: both;\"></div></div><div class = \"data-frame\" style = \"overflow-x: scroll;\"><table class = \"data-frame\" style = \"margin-bottom: 6px;\"><thead><tr class = \"header\"><th class = \"rowNumber\" style = \"font-weight: bold; text-align: right;\">Row</th><th style = \"text-align: left;\">name</th><th style = \"text-align: left;\">h</th><th style = \"text-align: left;\">f</th><th style = \"text-align: left;\">l</th><th style = \"text-align: left;\">p</th><th style = \"text-align: left;\">r</th><th style = \"text-align: left;\">s</th></tr><tr class = \"subheader headerLastRow\"><th class = \"rowNumber\" style = \"font-weight: bold; text-align: right;\"></th><th title = \"String\" style = \"text-align: left;\">String</th><th title = \"Int64\" style = \"text-align: left;\">Int64</th><th title = \"Int64\" style = \"text-align: left;\">Int64</th><th title = \"Int64\" style = \"text-align: left;\">Int64</th><th title = \"Int64\" style = \"text-align: left;\">Int64</th><th title = \"Int64\" style = \"text-align: left;\">Int64</th><th title = \"Int64\" style = \"text-align: left;\">Int64</th></tr></thead><tbody><tr><td class = \"rowNumber\" style = \"font-weight: bold; text-align: right;\">1</td><td style = \"text-align: left;\">Unremarkable Firefighter Truffade</td><td style = \"text-align: right;\">3</td><td style = \"text-align: right;\">5</td><td style = \"text-align: right;\">11</td><td style = \"text-align: right;\">3</td><td style = \"text-align: right;\">4</td><td style = \"text-align: right;\">3</td></tr><tr><td class = \"rowNumber\" style = \"font-weight: bold; text-align: right;\">2</td><td style = \"text-align: left;\">Cognizant Paramedic Cacasse à cul nu</td><td style = \"text-align: right;\">3</td><td style = \"text-align: right;\">8</td><td style = \"text-align: right;\">4</td><td style = \"text-align: right;\">2</td><td style = \"text-align: right;\">3</td><td style = \"text-align: right;\">3</td></tr><tr><td class = \"rowNumber\" style = \"font-weight: bold; text-align: right;\">3</td><td style = \"text-align: left;\">Elusive Queen mother French fries</td><td style = \"text-align: right;\">4</td><td style = \"text-align: right;\">5</td><td style = \"text-align: right;\">6</td><td style = \"text-align: right;\">1</td><td style = \"text-align: right;\">5</td><td style = \"text-align: right;\">5</td></tr><tr><td class = \"rowNumber\" style = \"font-weight: bold; text-align: right;\">4</td><td style = \"text-align: left;\">Understanding Gondolier Clapshot</td><td style = \"text-align: right;\">4</td><td style = \"text-align: right;\">8</td><td style = \"text-align: right;\">7</td><td style = \"text-align: right;\">1</td><td style = \"text-align: right;\">3</td><td style = \"text-align: right;\">1</td></tr><tr><td class = \"rowNumber\" style = \"font-weight: bold; text-align: right;\">5</td><td style = \"text-align: left;\">Canny Stunt double Chips and dip</td><td style = \"text-align: right;\">5</td><td style = \"text-align: right;\">5</td><td style = \"text-align: right;\">4</td><td style = \"text-align: right;\">5</td><td style = \"text-align: right;\">2</td><td style = \"text-align: right;\">4</td></tr><tr><td class = \"rowNumber\" style = \"font-weight: bold; text-align: right;\">6</td><td style = \"text-align: left;\">Slack Copywriter Chips and dip</td><td style = \"text-align: right;\">5</td><td style = \"text-align: right;\">5</td><td style = \"text-align: right;\">10</td><td style = \"text-align: right;\">1</td><td style = \"text-align: right;\">3</td><td style = \"text-align: right;\">1</td></tr><tr><td class = \"rowNumber\" style = \"font-weight: bold; text-align: right;\">7</td><td style = \"text-align: left;\">Ethical Shoeshiner Clapshot</td><td style = \"text-align: right;\">5</td><td style = \"text-align: right;\">6</td><td style = \"text-align: right;\">5</td><td style = \"text-align: right;\">4</td><td style = \"text-align: right;\">1</td><td style = \"text-align: right;\">2</td></tr><tr><td class = \"rowNumber\" style = \"font-weight: bold; text-align: right;\">8</td><td style = \"text-align: left;\">Indifferent Funeral director Rappie pie</td><td style = \"text-align: right;\">6</td><td style = \"text-align: right;\">6</td><td style = \"text-align: right;\">2</td><td style = \"text-align: right;\">4</td><td style = \"text-align: right;\">1</td><td style = \"text-align: right;\">3</td></tr><tr><td class = \"rowNumber\" style = \"font-weight: bold; text-align: right;\">9</td><td style = \"text-align: left;\">Attractive Impersonator Truffade</td><td style = \"text-align: right;\">7</td><td style = \"text-align: right;\">1</td><td style = \"text-align: right;\">12</td><td style = \"text-align: right;\">4</td><td style = \"text-align: right;\">1</td><td style = \"text-align: right;\">4</td></tr><tr><td class = \"rowNumber\" style = \"font-weight: bold; text-align: right;\">10</td><td style = \"text-align: left;\">Uncommunicable Housekeeper Nikujaga</td><td style = \"text-align: right;\">7</td><td style = \"text-align: right;\">7</td><td style = \"text-align: right;\">3</td><td style = \"text-align: right;\">1</td><td style = \"text-align: right;\">2</td><td style = \"text-align: right;\">1</td></tr><tr><td class = \"rowNumber\" style = \"font-weight: bold; text-align: right;\">11</td><td style = \"text-align: left;\">Inspirational Impersonator Meat and potato pie</td><td style = \"text-align: right;\">8</td><td style = \"text-align: right;\">1</td><td style = \"text-align: right;\">10</td><td style = \"text-align: right;\">5</td><td style = \"text-align: right;\">1</td><td style = \"text-align: right;\">6</td></tr><tr><td class = \"rowNumber\" style = \"font-weight: bold; text-align: right;\">12</td><td style = \"text-align: left;\">Unperceptive Gladiator Hash browns</td><td style = \"text-align: right;\">9</td><td style = \"text-align: right;\">2</td><td style = \"text-align: right;\">7</td><td style = \"text-align: right;\">5</td><td style = \"text-align: right;\">2</td><td style = \"text-align: right;\">2</td></tr><tr><td class = \"rowNumber\" style = \"font-weight: bold; text-align: right;\">13</td><td style = \"text-align: left;\">Stagnant Author Potato babka</td><td style = \"text-align: right;\">11</td><td style = \"text-align: right;\">6</td><td style = \"text-align: right;\">1</td><td style = \"text-align: right;\">1</td><td style = \"text-align: right;\">1</td><td style = \"text-align: right;\">1</td></tr></tbody></table></div>"
      ],
      "text/latex": [
       "\\begin{tabular}{r|ccccccc}\n",
       "\t& name & h & f & l & p & r & \\\\\n",
       "\t\\hline\n",
       "\t& String & Int64 & Int64 & Int64 & Int64 & Int64 & \\\\\n",
       "\t\\hline\n",
       "\t1 & Unremarkable Firefighter Truffade & 3 & 5 & 11 & 3 & 4 & $\\dots$ \\\\\n",
       "\t2 & Cognizant Paramedic Cacasse à cul nu & 3 & 8 & 4 & 2 & 3 & $\\dots$ \\\\\n",
       "\t3 & Elusive Queen mother French fries & 4 & 5 & 6 & 1 & 5 & $\\dots$ \\\\\n",
       "\t4 & Understanding Gondolier Clapshot & 4 & 8 & 7 & 1 & 3 & $\\dots$ \\\\\n",
       "\t5 & Canny Stunt double Chips and dip & 5 & 5 & 4 & 5 & 2 & $\\dots$ \\\\\n",
       "\t6 & Slack Copywriter Chips and dip & 5 & 5 & 10 & 1 & 3 & $\\dots$ \\\\\n",
       "\t7 & Ethical Shoeshiner Clapshot & 5 & 6 & 5 & 4 & 1 & $\\dots$ \\\\\n",
       "\t8 & Indifferent Funeral director Rappie pie & 6 & 6 & 2 & 4 & 1 & $\\dots$ \\\\\n",
       "\t9 & Attractive Impersonator Truffade & 7 & 1 & 12 & 4 & 1 & $\\dots$ \\\\\n",
       "\t10 & Uncommunicable Housekeeper Nikujaga & 7 & 7 & 3 & 1 & 2 & $\\dots$ \\\\\n",
       "\t11 & Inspirational Impersonator Meat and potato pie & 8 & 1 & 10 & 5 & 1 & $\\dots$ \\\\\n",
       "\t12 & Unperceptive Gladiator Hash browns & 9 & 2 & 7 & 5 & 2 & $\\dots$ \\\\\n",
       "\t13 & Stagnant Author Potato babka & 11 & 6 & 1 & 1 & 1 & $\\dots$ \\\\\n",
       "\\end{tabular}\n"
      ],
      "text/plain": [
       "\u001b[1m13×7 DataFrame\u001b[0m\n",
       "\u001b[1m Row \u001b[0m│\u001b[1m name                              \u001b[0m\u001b[1m h     \u001b[0m\u001b[1m f     \u001b[0m\u001b[1m l     \u001b[0m\u001b[1m p     \u001b[0m\u001b[1m r     \u001b[0m\u001b[1m s\u001b[0m ⋯\n",
       "     │\u001b[90m String                            \u001b[0m\u001b[90m Int64 \u001b[0m\u001b[90m Int64 \u001b[0m\u001b[90m Int64 \u001b[0m\u001b[90m Int64 \u001b[0m\u001b[90m Int64 \u001b[0m\u001b[90m I\u001b[0m ⋯\n",
       "─────┼──────────────────────────────────────────────────────────────────────────\n",
       "   1 │ Unremarkable Firefighter Truffade      3      5     11      3      4    ⋯\n",
       "   2 │ Cognizant Paramedic Cacasse à cu…      3      8      4      2      3\n",
       "   3 │ Elusive Queen mother French fries      4      5      6      1      5\n",
       "   4 │ Understanding Gondolier Clapshot       4      8      7      1      3\n",
       "   5 │ Canny Stunt double Chips and dip       5      5      4      5      2    ⋯\n",
       "   6 │ Slack Copywriter Chips and dip         5      5     10      1      3\n",
       "   7 │ Ethical Shoeshiner Clapshot            5      6      5      4      1\n",
       "   8 │ Indifferent Funeral director Rap…      6      6      2      4      1\n",
       "   9 │ Attractive Impersonator Truffade       7      1     12      4      1    ⋯\n",
       "  10 │ Uncommunicable Housekeeper Nikuj…      7      7      3      1      2\n",
       "  11 │ Inspirational Impersonator Meat …      8      1     10      5      1\n",
       "  12 │ Unperceptive Gladiator Hash brow…      9      2      7      5      2\n",
       "  13 │ Stagnant Author Potato babka          11      6      1      1      1    ⋯\n",
       "\u001b[36m                                                                1 column omitted\u001b[0m"
      ]
     },
     "execution_count": 62,
     "metadata": {},
     "output_type": "execute_result"
    }
   ],
   "source": [
    "nash_env = nash_env[counts .> 10]\n",
    "spuds_to_df(nash_env)"
   ]
  },
  {
   "cell_type": "code",
   "execution_count": 63,
   "id": "fcd27346",
   "metadata": {},
   "outputs": [
    {
     "data": {
      "text/plain": [
       "13-element Vector{Int64}:\n",
       " 2022\n",
       " 2006\n",
       "    1\n",
       "    1\n",
       "    1\n",
       "    1\n",
       "    1\n",
       "    1\n",
       " 1957\n",
       " 1985\n",
       "    4\n",
       " 2028\n",
       "    5"
      ]
     },
     "execution_count": 63,
     "metadata": {},
     "output_type": "execute_result"
    }
   ],
   "source": [
    "counts = ffp(nash_env, 10000)"
   ]
  },
  {
   "cell_type": "code",
   "execution_count": 64,
   "id": "04414a09",
   "metadata": {},
   "outputs": [
    {
     "data": {
      "text/html": [
       "<div><div style = \"float: left;\"><span>5×7 DataFrame</span></div><div style = \"clear: both;\"></div></div><div class = \"data-frame\" style = \"overflow-x: scroll;\"><table class = \"data-frame\" style = \"margin-bottom: 6px;\"><thead><tr class = \"header\"><th class = \"rowNumber\" style = \"font-weight: bold; text-align: right;\">Row</th><th style = \"text-align: left;\">name</th><th style = \"text-align: left;\">h</th><th style = \"text-align: left;\">f</th><th style = \"text-align: left;\">l</th><th style = \"text-align: left;\">p</th><th style = \"text-align: left;\">r</th><th style = \"text-align: left;\">s</th></tr><tr class = \"subheader headerLastRow\"><th class = \"rowNumber\" style = \"font-weight: bold; text-align: right;\"></th><th title = \"String\" style = \"text-align: left;\">String</th><th title = \"Int64\" style = \"text-align: left;\">Int64</th><th title = \"Int64\" style = \"text-align: left;\">Int64</th><th title = \"Int64\" style = \"text-align: left;\">Int64</th><th title = \"Int64\" style = \"text-align: left;\">Int64</th><th title = \"Int64\" style = \"text-align: left;\">Int64</th><th title = \"Int64\" style = \"text-align: left;\">Int64</th></tr></thead><tbody><tr><td class = \"rowNumber\" style = \"font-weight: bold; text-align: right;\">1</td><td style = \"text-align: left;\">Unremarkable Firefighter Truffade</td><td style = \"text-align: right;\">3</td><td style = \"text-align: right;\">5</td><td style = \"text-align: right;\">11</td><td style = \"text-align: right;\">3</td><td style = \"text-align: right;\">4</td><td style = \"text-align: right;\">3</td></tr><tr><td class = \"rowNumber\" style = \"font-weight: bold; text-align: right;\">2</td><td style = \"text-align: left;\">Cognizant Paramedic Cacasse à cul nu</td><td style = \"text-align: right;\">3</td><td style = \"text-align: right;\">8</td><td style = \"text-align: right;\">4</td><td style = \"text-align: right;\">2</td><td style = \"text-align: right;\">3</td><td style = \"text-align: right;\">3</td></tr><tr><td class = \"rowNumber\" style = \"font-weight: bold; text-align: right;\">3</td><td style = \"text-align: left;\">Attractive Impersonator Truffade</td><td style = \"text-align: right;\">7</td><td style = \"text-align: right;\">1</td><td style = \"text-align: right;\">12</td><td style = \"text-align: right;\">4</td><td style = \"text-align: right;\">1</td><td style = \"text-align: right;\">4</td></tr><tr><td class = \"rowNumber\" style = \"font-weight: bold; text-align: right;\">4</td><td style = \"text-align: left;\">Uncommunicable Housekeeper Nikujaga</td><td style = \"text-align: right;\">7</td><td style = \"text-align: right;\">7</td><td style = \"text-align: right;\">3</td><td style = \"text-align: right;\">1</td><td style = \"text-align: right;\">2</td><td style = \"text-align: right;\">1</td></tr><tr><td class = \"rowNumber\" style = \"font-weight: bold; text-align: right;\">5</td><td style = \"text-align: left;\">Unperceptive Gladiator Hash browns</td><td style = \"text-align: right;\">9</td><td style = \"text-align: right;\">2</td><td style = \"text-align: right;\">7</td><td style = \"text-align: right;\">5</td><td style = \"text-align: right;\">2</td><td style = \"text-align: right;\">2</td></tr></tbody></table></div>"
      ],
      "text/latex": [
       "\\begin{tabular}{r|ccccccc}\n",
       "\t& name & h & f & l & p & r & s\\\\\n",
       "\t\\hline\n",
       "\t& String & Int64 & Int64 & Int64 & Int64 & Int64 & Int64\\\\\n",
       "\t\\hline\n",
       "\t1 & Unremarkable Firefighter Truffade & 3 & 5 & 11 & 3 & 4 & 3 \\\\\n",
       "\t2 & Cognizant Paramedic Cacasse à cul nu & 3 & 8 & 4 & 2 & 3 & 3 \\\\\n",
       "\t3 & Attractive Impersonator Truffade & 7 & 1 & 12 & 4 & 1 & 4 \\\\\n",
       "\t4 & Uncommunicable Housekeeper Nikujaga & 7 & 7 & 3 & 1 & 2 & 1 \\\\\n",
       "\t5 & Unperceptive Gladiator Hash browns & 9 & 2 & 7 & 5 & 2 & 2 \\\\\n",
       "\\end{tabular}\n"
      ],
      "text/plain": [
       "\u001b[1m5×7 DataFrame\u001b[0m\n",
       "\u001b[1m Row \u001b[0m│\u001b[1m name                              \u001b[0m\u001b[1m h     \u001b[0m\u001b[1m f     \u001b[0m\u001b[1m l     \u001b[0m\u001b[1m p     \u001b[0m\u001b[1m r     \u001b[0m\u001b[1m s\u001b[0m ⋯\n",
       "     │\u001b[90m String                            \u001b[0m\u001b[90m Int64 \u001b[0m\u001b[90m Int64 \u001b[0m\u001b[90m Int64 \u001b[0m\u001b[90m Int64 \u001b[0m\u001b[90m Int64 \u001b[0m\u001b[90m I\u001b[0m ⋯\n",
       "─────┼──────────────────────────────────────────────────────────────────────────\n",
       "   1 │ Unremarkable Firefighter Truffade      3      5     11      3      4    ⋯\n",
       "   2 │ Cognizant Paramedic Cacasse à cu…      3      8      4      2      3\n",
       "   3 │ Attractive Impersonator Truffade       7      1     12      4      1\n",
       "   4 │ Uncommunicable Housekeeper Nikuj…      7      7      3      1      2\n",
       "   5 │ Unperceptive Gladiator Hash brow…      9      2      7      5      2    ⋯\n",
       "\u001b[36m                                                                1 column omitted\u001b[0m"
      ]
     },
     "execution_count": 64,
     "metadata": {},
     "output_type": "execute_result"
    }
   ],
   "source": [
    "nash_env = nash_env[counts .> 10]\n",
    "spuds_to_df(nash_env)"
   ]
  },
  {
   "cell_type": "markdown",
   "id": "8dba7dcc",
   "metadata": {},
   "source": [
    "### Loop this"
   ]
  },
  {
   "cell_type": "code",
   "execution_count": 65,
   "id": "e0bc4a54",
   "metadata": {},
   "outputs": [
    {
     "data": {
      "text/plain": [
       "5-element Vector{Int64}:\n",
       " 18\n",
       " 18\n",
       " 25\n",
       " 23\n",
       " 21"
      ]
     },
     "execution_count": 65,
     "metadata": {},
     "output_type": "execute_result"
    }
   ],
   "source": [
    "counts = ffp(nash_env, 100)"
   ]
  },
  {
   "cell_type": "code",
   "execution_count": 66,
   "id": "c9abb9e9",
   "metadata": {},
   "outputs": [],
   "source": [
    "#counts = ffp(nash_env, 10000)"
   ]
  },
  {
   "cell_type": "code",
   "execution_count": 67,
   "id": "dda23034",
   "metadata": {},
   "outputs": [
    {
     "data": {
      "text/html": [
       "<div><div style = \"float: left;\"><span>5×7 DataFrame</span></div><div style = \"clear: both;\"></div></div><div class = \"data-frame\" style = \"overflow-x: scroll;\"><table class = \"data-frame\" style = \"margin-bottom: 6px;\"><thead><tr class = \"header\"><th class = \"rowNumber\" style = \"font-weight: bold; text-align: right;\">Row</th><th style = \"text-align: left;\">name</th><th style = \"text-align: left;\">h</th><th style = \"text-align: left;\">f</th><th style = \"text-align: left;\">l</th><th style = \"text-align: left;\">p</th><th style = \"text-align: left;\">r</th><th style = \"text-align: left;\">s</th></tr><tr class = \"subheader headerLastRow\"><th class = \"rowNumber\" style = \"font-weight: bold; text-align: right;\"></th><th title = \"String\" style = \"text-align: left;\">String</th><th title = \"Int64\" style = \"text-align: left;\">Int64</th><th title = \"Int64\" style = \"text-align: left;\">Int64</th><th title = \"Int64\" style = \"text-align: left;\">Int64</th><th title = \"Int64\" style = \"text-align: left;\">Int64</th><th title = \"Int64\" style = \"text-align: left;\">Int64</th><th title = \"Int64\" style = \"text-align: left;\">Int64</th></tr></thead><tbody><tr><td class = \"rowNumber\" style = \"font-weight: bold; text-align: right;\">1</td><td style = \"text-align: left;\">Unremarkable Firefighter Truffade</td><td style = \"text-align: right;\">3</td><td style = \"text-align: right;\">5</td><td style = \"text-align: right;\">11</td><td style = \"text-align: right;\">3</td><td style = \"text-align: right;\">4</td><td style = \"text-align: right;\">3</td></tr><tr><td class = \"rowNumber\" style = \"font-weight: bold; text-align: right;\">2</td><td style = \"text-align: left;\">Cognizant Paramedic Cacasse à cul nu</td><td style = \"text-align: right;\">3</td><td style = \"text-align: right;\">8</td><td style = \"text-align: right;\">4</td><td style = \"text-align: right;\">2</td><td style = \"text-align: right;\">3</td><td style = \"text-align: right;\">3</td></tr><tr><td class = \"rowNumber\" style = \"font-weight: bold; text-align: right;\">3</td><td style = \"text-align: left;\">Attractive Impersonator Truffade</td><td style = \"text-align: right;\">7</td><td style = \"text-align: right;\">1</td><td style = \"text-align: right;\">12</td><td style = \"text-align: right;\">4</td><td style = \"text-align: right;\">1</td><td style = \"text-align: right;\">4</td></tr><tr><td class = \"rowNumber\" style = \"font-weight: bold; text-align: right;\">4</td><td style = \"text-align: left;\">Uncommunicable Housekeeper Nikujaga</td><td style = \"text-align: right;\">7</td><td style = \"text-align: right;\">7</td><td style = \"text-align: right;\">3</td><td style = \"text-align: right;\">1</td><td style = \"text-align: right;\">2</td><td style = \"text-align: right;\">1</td></tr><tr><td class = \"rowNumber\" style = \"font-weight: bold; text-align: right;\">5</td><td style = \"text-align: left;\">Unperceptive Gladiator Hash browns</td><td style = \"text-align: right;\">9</td><td style = \"text-align: right;\">2</td><td style = \"text-align: right;\">7</td><td style = \"text-align: right;\">5</td><td style = \"text-align: right;\">2</td><td style = \"text-align: right;\">2</td></tr></tbody></table></div>"
      ],
      "text/latex": [
       "\\begin{tabular}{r|ccccccc}\n",
       "\t& name & h & f & l & p & r & s\\\\\n",
       "\t\\hline\n",
       "\t& String & Int64 & Int64 & Int64 & Int64 & Int64 & Int64\\\\\n",
       "\t\\hline\n",
       "\t1 & Unremarkable Firefighter Truffade & 3 & 5 & 11 & 3 & 4 & 3 \\\\\n",
       "\t2 & Cognizant Paramedic Cacasse à cul nu & 3 & 8 & 4 & 2 & 3 & 3 \\\\\n",
       "\t3 & Attractive Impersonator Truffade & 7 & 1 & 12 & 4 & 1 & 4 \\\\\n",
       "\t4 & Uncommunicable Housekeeper Nikujaga & 7 & 7 & 3 & 1 & 2 & 1 \\\\\n",
       "\t5 & Unperceptive Gladiator Hash browns & 9 & 2 & 7 & 5 & 2 & 2 \\\\\n",
       "\\end{tabular}\n"
      ],
      "text/plain": [
       "\u001b[1m5×7 DataFrame\u001b[0m\n",
       "\u001b[1m Row \u001b[0m│\u001b[1m name                              \u001b[0m\u001b[1m h     \u001b[0m\u001b[1m f     \u001b[0m\u001b[1m l     \u001b[0m\u001b[1m p     \u001b[0m\u001b[1m r     \u001b[0m\u001b[1m s\u001b[0m ⋯\n",
       "     │\u001b[90m String                            \u001b[0m\u001b[90m Int64 \u001b[0m\u001b[90m Int64 \u001b[0m\u001b[90m Int64 \u001b[0m\u001b[90m Int64 \u001b[0m\u001b[90m Int64 \u001b[0m\u001b[90m I\u001b[0m ⋯\n",
       "─────┼──────────────────────────────────────────────────────────────────────────\n",
       "   1 │ Unremarkable Firefighter Truffade      3      5     11      3      4    ⋯\n",
       "   2 │ Cognizant Paramedic Cacasse à cu…      3      8      4      2      3\n",
       "   3 │ Attractive Impersonator Truffade       7      1     12      4      1\n",
       "   4 │ Uncommunicable Housekeeper Nikuj…      7      7      3      1      2\n",
       "   5 │ Unperceptive Gladiator Hash brow…      9      2      7      5      2    ⋯\n",
       "\u001b[36m                                                                1 column omitted\u001b[0m"
      ]
     },
     "execution_count": 67,
     "metadata": {},
     "output_type": "execute_result"
    }
   ],
   "source": [
    "spuds_to_df(nash_env)"
   ]
  },
  {
   "cell_type": "code",
   "execution_count": 68,
   "id": "b40c9c71",
   "metadata": {},
   "outputs": [],
   "source": [
    "# # don't run this every iteration!!\n",
    "# nash_env = nash_env[counts .> 10]\n",
    "# counts = ffp(nash_env, 10000)"
   ]
  },
  {
   "cell_type": "code",
   "execution_count": 69,
   "id": "7522c5a1",
   "metadata": {},
   "outputs": [
    {
     "data": {
      "text/plain": [
       "Spud(\"Empowering Syndicalist Chips and dip\", 1, 9, 1, 5, 2, 3)"
      ]
     },
     "execution_count": 69,
     "metadata": {},
     "output_type": "execute_result"
    }
   ],
   "source": [
    "ff = rand_rename(pick_best_library2(nash_env, counts./sum(counts)))"
   ]
  },
  {
   "cell_type": "code",
   "execution_count": 70,
   "id": "36d7d97a",
   "metadata": {},
   "outputs": [
    {
     "data": {
      "text/plain": [
       "1.0"
      ]
     },
     "execution_count": 70,
     "metadata": {},
     "output_type": "execute_result"
    }
   ],
   "source": [
    "ev = eval_battle_list2(ff, nash_env, counts./sum(counts))"
   ]
  },
  {
   "cell_type": "code",
   "execution_count": 71,
   "id": "7c3b3749",
   "metadata": {},
   "outputs": [
    {
     "data": {
      "text/plain": [
       "4-element Vector{Spud}:\n",
       " Spud(\"\", 1, 9, 1, 4, 3, 3)\n",
       " Spud(\"\", 1, 9, 1, 5, 2, 3)\n",
       " Spud(\"\", 1, 9, 1, 5, 4, 1)\n",
       " Spud(\"\", 1, 9, 1, 6, 1, 3)"
      ]
     },
     "execution_count": 71,
     "metadata": {},
     "output_type": "execute_result"
    }
   ],
   "source": [
    "bestf = subset_library(nash_env, 500, counts./sum(counts), ev-0.05)"
   ]
  },
  {
   "cell_type": "code",
   "execution_count": 72,
   "id": "d6029104",
   "metadata": {},
   "outputs": [
    {
     "name": "stdout",
     "output_type": "stream",
     "text": [
      "10001\n"
     ]
    },
    {
     "data": {
      "text/plain": [
       "Spud(\"Self-reliant Puppeteer Papas chorreadas\", 1, 9, 1, 6, 1, 3)"
      ]
     },
     "execution_count": 72,
     "metadata": {},
     "output_type": "execute_result"
    }
   ],
   "source": [
    "cc = ffp(bestf, 10000)\n",
    "println(maximum(cc))\n",
    "ff2 = rand_rename(bestf[cc .== maximum(cc)][1])"
   ]
  },
  {
   "cell_type": "code",
   "execution_count": 73,
   "id": "d7f6f1f6",
   "metadata": {},
   "outputs": [
    {
     "data": {
      "text/plain": [
       "1.0"
      ]
     },
     "execution_count": 73,
     "metadata": {},
     "output_type": "execute_result"
    }
   ],
   "source": [
    "eval_battle_list2(ff2, nash_env, counts./sum(counts))"
   ]
  },
  {
   "cell_type": "code",
   "execution_count": 74,
   "id": "6273fbba",
   "metadata": {},
   "outputs": [
    {
     "data": {
      "text/html": [
       "<div><div style = \"float: left;\"><span>6×7 DataFrame</span></div><div style = \"clear: both;\"></div></div><div class = \"data-frame\" style = \"overflow-x: scroll;\"><table class = \"data-frame\" style = \"margin-bottom: 6px;\"><thead><tr class = \"header\"><th class = \"rowNumber\" style = \"font-weight: bold; text-align: right;\">Row</th><th style = \"text-align: left;\">name</th><th style = \"text-align: left;\">h</th><th style = \"text-align: left;\">f</th><th style = \"text-align: left;\">l</th><th style = \"text-align: left;\">p</th><th style = \"text-align: left;\">r</th><th style = \"text-align: left;\">s</th></tr><tr class = \"subheader headerLastRow\"><th class = \"rowNumber\" style = \"font-weight: bold; text-align: right;\"></th><th title = \"String\" style = \"text-align: left;\">String</th><th title = \"Int64\" style = \"text-align: left;\">Int64</th><th title = \"Int64\" style = \"text-align: left;\">Int64</th><th title = \"Int64\" style = \"text-align: left;\">Int64</th><th title = \"Int64\" style = \"text-align: left;\">Int64</th><th title = \"Int64\" style = \"text-align: left;\">Int64</th><th title = \"Int64\" style = \"text-align: left;\">Int64</th></tr></thead><tbody><tr><td class = \"rowNumber\" style = \"font-weight: bold; text-align: right;\">1</td><td style = \"text-align: left;\">Unremarkable Firefighter Truffade</td><td style = \"text-align: right;\">3</td><td style = \"text-align: right;\">5</td><td style = \"text-align: right;\">11</td><td style = \"text-align: right;\">3</td><td style = \"text-align: right;\">4</td><td style = \"text-align: right;\">3</td></tr><tr><td class = \"rowNumber\" style = \"font-weight: bold; text-align: right;\">2</td><td style = \"text-align: left;\">Cognizant Paramedic Cacasse à cul nu</td><td style = \"text-align: right;\">3</td><td style = \"text-align: right;\">8</td><td style = \"text-align: right;\">4</td><td style = \"text-align: right;\">2</td><td style = \"text-align: right;\">3</td><td style = \"text-align: right;\">3</td></tr><tr><td class = \"rowNumber\" style = \"font-weight: bold; text-align: right;\">3</td><td style = \"text-align: left;\">Attractive Impersonator Truffade</td><td style = \"text-align: right;\">7</td><td style = \"text-align: right;\">1</td><td style = \"text-align: right;\">12</td><td style = \"text-align: right;\">4</td><td style = \"text-align: right;\">1</td><td style = \"text-align: right;\">4</td></tr><tr><td class = \"rowNumber\" style = \"font-weight: bold; text-align: right;\">4</td><td style = \"text-align: left;\">Uncommunicable Housekeeper Nikujaga</td><td style = \"text-align: right;\">7</td><td style = \"text-align: right;\">7</td><td style = \"text-align: right;\">3</td><td style = \"text-align: right;\">1</td><td style = \"text-align: right;\">2</td><td style = \"text-align: right;\">1</td></tr><tr><td class = \"rowNumber\" style = \"font-weight: bold; text-align: right;\">5</td><td style = \"text-align: left;\">Unperceptive Gladiator Hash browns</td><td style = \"text-align: right;\">9</td><td style = \"text-align: right;\">2</td><td style = \"text-align: right;\">7</td><td style = \"text-align: right;\">5</td><td style = \"text-align: right;\">2</td><td style = \"text-align: right;\">2</td></tr><tr><td class = \"rowNumber\" style = \"font-weight: bold; text-align: right;\">6</td><td style = \"text-align: left;\">Self-reliant Puppeteer Papas chorreadas</td><td style = \"text-align: right;\">1</td><td style = \"text-align: right;\">9</td><td style = \"text-align: right;\">1</td><td style = \"text-align: right;\">6</td><td style = \"text-align: right;\">1</td><td style = \"text-align: right;\">3</td></tr></tbody></table></div>"
      ],
      "text/latex": [
       "\\begin{tabular}{r|ccccccc}\n",
       "\t& name & h & f & l & p & r & s\\\\\n",
       "\t\\hline\n",
       "\t& String & Int64 & Int64 & Int64 & Int64 & Int64 & Int64\\\\\n",
       "\t\\hline\n",
       "\t1 & Unremarkable Firefighter Truffade & 3 & 5 & 11 & 3 & 4 & 3 \\\\\n",
       "\t2 & Cognizant Paramedic Cacasse à cul nu & 3 & 8 & 4 & 2 & 3 & 3 \\\\\n",
       "\t3 & Attractive Impersonator Truffade & 7 & 1 & 12 & 4 & 1 & 4 \\\\\n",
       "\t4 & Uncommunicable Housekeeper Nikujaga & 7 & 7 & 3 & 1 & 2 & 1 \\\\\n",
       "\t5 & Unperceptive Gladiator Hash browns & 9 & 2 & 7 & 5 & 2 & 2 \\\\\n",
       "\t6 & Self-reliant Puppeteer Papas chorreadas & 1 & 9 & 1 & 6 & 1 & 3 \\\\\n",
       "\\end{tabular}\n"
      ],
      "text/plain": [
       "\u001b[1m6×7 DataFrame\u001b[0m\n",
       "\u001b[1m Row \u001b[0m│\u001b[1m name                              \u001b[0m\u001b[1m h     \u001b[0m\u001b[1m f     \u001b[0m\u001b[1m l     \u001b[0m\u001b[1m p     \u001b[0m\u001b[1m r     \u001b[0m\u001b[1m s\u001b[0m ⋯\n",
       "     │\u001b[90m String                            \u001b[0m\u001b[90m Int64 \u001b[0m\u001b[90m Int64 \u001b[0m\u001b[90m Int64 \u001b[0m\u001b[90m Int64 \u001b[0m\u001b[90m Int64 \u001b[0m\u001b[90m I\u001b[0m ⋯\n",
       "─────┼──────────────────────────────────────────────────────────────────────────\n",
       "   1 │ Unremarkable Firefighter Truffade      3      5     11      3      4    ⋯\n",
       "   2 │ Cognizant Paramedic Cacasse à cu…      3      8      4      2      3\n",
       "   3 │ Attractive Impersonator Truffade       7      1     12      4      1\n",
       "   4 │ Uncommunicable Housekeeper Nikuj…      7      7      3      1      2\n",
       "   5 │ Unperceptive Gladiator Hash brow…      9      2      7      5      2    ⋯\n",
       "   6 │ Self-reliant Puppeteer Papas cho…      1      9      1      6      1\n",
       "\u001b[36m                                                                1 column omitted\u001b[0m"
      ]
     },
     "execution_count": 74,
     "metadata": {},
     "output_type": "execute_result"
    }
   ],
   "source": [
    "append!(nash_env, [ff2])\n",
    "spuds_to_df(nash_env)"
   ]
  },
  {
   "cell_type": "markdown",
   "id": "6c06f6a4",
   "metadata": {},
   "source": [
    "### loop"
   ]
  },
  {
   "cell_type": "code",
   "execution_count": 75,
   "id": "7ef074ce",
   "metadata": {},
   "outputs": [
    {
     "name": "stdout",
     "output_type": "stream",
     "text": [
      "4.9997000179989205e-5\n",
      "0.999980001199928\n"
     ]
    }
   ],
   "source": [
    "counts = ffp(nash_env, 100000)\n",
    "println(maximum([eval_battle_list2(ff, nash_env, counts./sum(counts)) for ff in nash_env]))\n",
    "ff = rand_rename(pick_best_library2(nash_env, counts./sum(counts)))\n",
    "ev = eval_battle_list2(ff, nash_env, counts./sum(counts))\n",
    "println(ev)"
   ]
  },
  {
   "cell_type": "code",
   "execution_count": 76,
   "id": "11ee17bf",
   "metadata": {},
   "outputs": [
    {
     "data": {
      "text/plain": [
       "819-element Vector{Spud}:\n",
       " Spud(\"\", 3, 5, 11, 3, 3, 4)\n",
       " Spud(\"\", 2, 6, 5, 5, 3, 5)\n",
       " Spud(\"\", 2, 6, 5, 3, 4, 6)\n",
       " Spud(\"\", 5, 5, 5, 1, 3, 6)\n",
       " Spud(\"\", 7, 3, 5, 2, 8, 4)\n",
       " Spud(\"\", 9, 3, 5, 2, 4, 6)\n",
       " Spud(\"\", 5, 5, 2, 1, 7, 5)\n",
       " Spud(\"\", 2, 5, 2, 5, 5, 7)\n",
       " Spud(\"\", 7, 4, 4, 4, 4, 4)\n",
       " Spud(\"\", 3, 4, 9, 5, 5, 5)\n",
       " Spud(\"\", 3, 4, 6, 7, 7, 6)\n",
       " Spud(\"\", 5, 4, 7, 2, 4, 6)\n",
       " Spud(\"\", 1, 5, 10, 6, 5, 6)\n",
       " ⋮\n",
       " Spud(\"\", 2, 7, 3, 1, 6, 5)\n",
       " Spud(\"\", 6, 5, 4, 2, 3, 4)\n",
       " Spud(\"\", 3, 5, 5, 5, 5, 6)\n",
       " Spud(\"\", 4, 6, 2, 3, 4, 5)\n",
       " Spud(\"\", 4, 6, 2, 2, 5, 4)\n",
       " Spud(\"\", 2, 6, 2, 3, 5, 6)\n",
       " Spud(\"\", 1, 6, 5, 4, 6, 6)\n",
       " Spud(\"\", 3, 3, 11, 8, 5, 6)\n",
       " Spud(\"\", 4, 6, 2, 3, 3, 5)\n",
       " Spud(\"\", 3, 6, 5, 4, 3, 4)\n",
       " Spud(\"\", 3, 5, 5, 5, 6, 5)\n",
       " Spud(\"\", 5, 4, 4, 6, 5, 4)"
      ]
     },
     "execution_count": 76,
     "metadata": {},
     "output_type": "execute_result"
    }
   ],
   "source": [
    "bestf = subset_library(nash_env, 900, counts./sum(counts), ev-0.05)"
   ]
  },
  {
   "cell_type": "code",
   "execution_count": 77,
   "id": "14a90410",
   "metadata": {},
   "outputs": [
    {
     "data": {
      "text/plain": [
       "Spud(\"Steadfast Proctologist Meat and potato pie\", 2, 7, 1, 1, 6, 5)"
      ]
     },
     "execution_count": 77,
     "metadata": {},
     "output_type": "execute_result"
    }
   ],
   "source": [
    "ff"
   ]
  },
  {
   "cell_type": "code",
   "execution_count": 78,
   "id": "dccc6018",
   "metadata": {},
   "outputs": [
    {
     "data": {
      "text/plain": [
       "Spud(\"Idle Percussionist Batata vada\", 4, 3, 13, 6, 3, 3)"
      ]
     },
     "execution_count": 78,
     "metadata": {},
     "output_type": "execute_result"
    }
   ],
   "source": [
    "ff = rand_rename(pick_best_library2(nash_env, counts./sum(counts)))\n",
    "ff"
   ]
  },
  {
   "cell_type": "code",
   "execution_count": 79,
   "id": "6c1fb941",
   "metadata": {},
   "outputs": [
    {
     "data": {
      "text/plain": [
       "0.999980001199928"
      ]
     },
     "execution_count": 79,
     "metadata": {},
     "output_type": "execute_result"
    }
   ],
   "source": [
    "eval_battle_list2(ff, nash_env, counts./sum(counts))"
   ]
  },
  {
   "cell_type": "code",
   "execution_count": 80,
   "id": "9d3f7c62",
   "metadata": {},
   "outputs": [
    {
     "data": {
      "text/plain": [
       "0.999980001199928"
      ]
     },
     "execution_count": 80,
     "metadata": {},
     "output_type": "execute_result"
    }
   ],
   "source": [
    "ev"
   ]
  },
  {
   "cell_type": "code",
   "execution_count": 81,
   "id": "9434f3a1",
   "metadata": {},
   "outputs": [
    {
     "data": {
      "text/plain": [
       "0.999980001199928"
      ]
     },
     "execution_count": 81,
     "metadata": {},
     "output_type": "execute_result"
    }
   ],
   "source": [
    "ev"
   ]
  },
  {
   "cell_type": "code",
   "execution_count": 82,
   "id": "c247ec4b",
   "metadata": {},
   "outputs": [
    {
     "name": "stdout",
     "output_type": "stream",
     "text": [
      "819\n",
      "618\n"
     ]
    }
   ],
   "source": [
    "println(length(bestf))\n",
    "cc = ffp(bestf, 10000)\n",
    "println(maximum(cc))"
   ]
  },
  {
   "cell_type": "code",
   "execution_count": 83,
   "id": "ab75c8b2",
   "metadata": {},
   "outputs": [
    {
     "data": {
      "text/plain": [
       "Spud(\"Persevering Laundress (also Lavendar) Älplermagronen\", 4, 7, 3, 1, 3, 5)"
      ]
     },
     "execution_count": 83,
     "metadata": {},
     "output_type": "execute_result"
    }
   ],
   "source": [
    "ff2 = rand_rename(bestf[cc .== maximum(cc)][1])"
   ]
  },
  {
   "cell_type": "code",
   "execution_count": 84,
   "id": "ed665bf3",
   "metadata": {},
   "outputs": [
    {
     "name": "stdout",
     "output_type": "stream",
     "text": [
      "0.9999400035997841\n"
     ]
    }
   ],
   "source": [
    "println(eval_battle_list2(ff2, nash_env, counts./sum(counts)))"
   ]
  },
  {
   "cell_type": "code",
   "execution_count": 85,
   "id": "75ff66ed",
   "metadata": {},
   "outputs": [
    {
     "data": {
      "text/plain": [
       "7-element Vector{Spud}:\n",
       " Spud(\"Unremarkable Firefighter Truffade\", 3, 5, 11, 3, 4, 3)\n",
       " Spud(\"Cognizant Paramedic Cacasse à cul nu\", 3, 8, 4, 2, 3, 3)\n",
       " Spud(\"Attractive Impersonator Truffade\", 7, 1, 12, 4, 1, 4)\n",
       " Spud(\"Uncommunicable Housekeeper Nikujaga\", 7, 7, 3, 1, 2, 1)\n",
       " Spud(\"Unperceptive Gladiator Hash browns\", 9, 2, 7, 5, 2, 2)\n",
       " Spud(\"Self-reliant Puppeteer Papas chorreadas\", 1, 9, 1, 6, 1, 3)\n",
       " Spud(\"Persevering Laundress (also Lavendar) Älplermagronen\", 4, 7, 3, 1, 3, 5)"
      ]
     },
     "execution_count": 85,
     "metadata": {},
     "output_type": "execute_result"
    }
   ],
   "source": [
    "append!(nash_env, [ff2])"
   ]
  },
  {
   "cell_type": "code",
   "execution_count": 88,
   "id": "f92d53b4",
   "metadata": {
    "scrolled": false
   },
   "outputs": [
    {
     "name": "stdout",
     "output_type": "stream",
     "text": [
      "123456789101112131415161718192021222324252627282930313233343536373839404142434445464748495051525354555657585960616263646566676869707172737475767778798081828384858687888990919293949596979899100101102103104105106107108109110111112113114115116117118119120121122123124125126127128129130131132133134135136137138139140141142143144145146147148149150151152153154155156157158159160161162163164165166167168169170171172173174175176177178179180181182183184185186187188189190191192193194195196197198199200\n"
     ]
    },
    {
     "data": {
      "text/plain": [
       "0.057963926015391784"
      ]
     },
     "execution_count": 88,
     "metadata": {},
     "output_type": "execute_result"
    }
   ],
   "source": [
    "for ii in 1:200\n",
    "    #println()\n",
    "    print(ii)\n",
    "    counts = ffp(nash_env, 100000)\n",
    "    #println(maximum([eval_battle_list2(ff, nash_env, counts./sum(counts)) for ff in nash_env]))\n",
    "    ff = rand_rename(pick_best_library2(nash_env, counts./sum(counts)))\n",
    "    ev = eval_battle_list2(ff, nash_env, counts./sum(counts))\n",
    "    #println(ev)\n",
    "    bestf = subset_library(nash_env, 900, counts./sum(counts), ev-0.05)\n",
    "    #println(length(bestf))\n",
    "    cc = ffp(bestf, 10000)\n",
    "    #println(maximum(cc))\n",
    "    ff2 = rand_rename(bestf[cc .== maximum(cc)][1])\n",
    "    #println(eval_battle_list2(ff2, nash_env, counts./sum(counts)))\n",
    "    append!(nash_env, [ff2])\n",
    "end\n",
    "println()\n",
    "counts = ffp(nash_env, 100000)\n",
    "#ff = pick_best_library2(nash_env, counts./sum(counts))\n",
    "#eval_battle_list2(ff, nash_env, counts./sum(counts))    \n",
    "nash_env = nash_env[counts .> 10]\n",
    "counts = ffp(nash_env, 100000);\n",
    "\n",
    "ff = pick_best_library2(nash_env, counts./sum(counts))\n",
    "eval_battle_list2(ff, nash_env, counts./sum(counts))"
   ]
  },
  {
   "cell_type": "code",
   "execution_count": 89,
   "id": "19cb55ce",
   "metadata": {},
   "outputs": [
    {
     "data": {
      "text/plain": [
       "183-element Vector{Spud}:\n",
       " Spud(\"Attractive Impersonator Truffade\", 7, 1, 12, 4, 1, 4)\n",
       " Spud(\"Self-reliant Puppeteer Papas chorreadas\", 1, 9, 1, 6, 1, 3)\n",
       " Spud(\"Jovial Environmental scientist Funeral potatoes\", 2, 6, 1, 8, 7, 1)\n",
       " Spud(\"Disinclined Copywriter Chapalele\", 8, 3, 6, 3, 2, 4)\n",
       " Spud(\"Inactive Film producer Batata vada\", 5, 4, 8, 5, 4, 1)\n",
       " Spud(\"Compassionate Student Maluns\", 10, 5, 3, 2, 1, 1)\n",
       " Spud(\"Unsuspecting Juggler Meat and potato pie\", 8, 1, 10, 5, 2, 5)\n",
       " Spud(\"Keen Novelist Kouign patatez\", 4, 8, 1, 4, 1, 3)\n",
       " Spud(\"Adventurous Ferryman Rumbledethumps\", 4, 10, 2, 2, 2, 1)\n",
       " Spud(\"Captivating Housekeeper Suan la tu dou si\", 7, 4, 5, 6, 1, 2)\n",
       " Spud(\"Literate Ferryman Chapalele\", 7, 9, 1, 1, 1, 1)\n",
       " Spud(\"Unfazed Miller Pitepalt\", 1, 9, 1, 5, 4, 1)\n",
       " Spud(\"Exhilarating Drug dealer Potato babka\", 11, 1, 7, 7, 1, 4)\n",
       " ⋮\n",
       " Spud(\"Laid-back Laundress (also Lavendar) Potato babka\", 8, 5, 3, 1, 3, 3)\n",
       " Spud(\"Empathetic Dictator Truffade\", 2, 5, 15, 5, 6, 1)\n",
       " Spud(\"Passionless Party-leader French fries\", 6, 1, 14, 4, 3, 3)\n",
       " Spud(\"Passionate Barman Chips and dip\", 3, 5, 15, 1, 5, 2)\n",
       " Spud(\"Sagacious Miller Rewena bread\", 1, 9, 1, 3, 5, 2)\n",
       " Spud(\"Genuine Firefighter Gnocchi\", 2, 7, 11, 3, 2, 4)\n",
       " Spud(\"Goal-oriented Puppeteer Boulangère potatoes\", 4, 8, 1, 5, 2, 1)\n",
       " Spud(\"Indolent Automobile racer Potato babka\", 2, 5, 15, 6, 4, 2)\n",
       " Spud(\"Inattentive Cardinal Batata vada\", 5, 1, 16, 8, 6, 1)\n",
       " Spud(\"Humble Paramedic French fries\", 2, 8, 10, 4, 1, 3)\n",
       " Spud(\"Flamboyant Gondolier Tartiflette\", 2, 5, 15, 2, 5, 5)\n",
       " Spud(\"Insipid Automobile racer Stoemp\", 6, 1, 13, 9, 1, 6)"
      ]
     },
     "execution_count": 89,
     "metadata": {},
     "output_type": "execute_result"
    }
   ],
   "source": [
    "nash_env"
   ]
  },
  {
   "cell_type": "markdown",
   "id": "171a817d",
   "metadata": {},
   "source": [
    "## beware"
   ]
  },
  {
   "cell_type": "code",
   "execution_count": 45,
   "id": "5fa5d207",
   "metadata": {},
   "outputs": [
    {
     "data": {
      "text/plain": [
       "\"spuds_nash_stage01.csv\""
      ]
     },
     "execution_count": 45,
     "metadata": {},
     "output_type": "execute_result"
    }
   ],
   "source": [
    "CSV.write(\"spuds_nash_stage01.csv\", spuds_to_df(nash_env))"
   ]
  },
  {
   "cell_type": "markdown",
   "id": "b90e461d",
   "metadata": {},
   "source": [
    "## adjust subset threshold"
   ]
  },
  {
   "cell_type": "code",
   "execution_count": 110,
   "id": "22331706",
   "metadata": {},
   "outputs": [
    {
     "name": "stdout",
     "output_type": "stream",
     "text": [
      "0.014511676118525482\n"
     ]
    }
   ],
   "source": [
    "counts = ffp(nash_env, 100000)\n",
    "println(maximum([eval_battle_list2(ff, nash_env, counts./sum(counts)) for ff in nash_env]))"
   ]
  },
  {
   "cell_type": "code",
   "execution_count": 111,
   "id": "c0a95df5",
   "metadata": {
    "scrolled": false
   },
   "outputs": [
    {
     "name": "stdout",
     "output_type": "stream",
     "text": [
      "1\n",
      "14\n",
      "Spud(\"Independent Dictator Boxty\", 4, 4, 10, 6, 4, 1)\n",
      "2\n",
      "22\n",
      "Spud(\"Adroit Neurologist Clapshot\", 3, 8, 1, 2, 4, 3)\n",
      "3\n",
      "51\n",
      "Spud(\"Self-sufficient Ferryman Papas chorreadas\", 7, 6, 4, 1, 2, 2)\n",
      "4\n",
      "5\n",
      "Spud(\"Appreciative Quilter Clapshot\", 4, 8, 1, 5, 1, 2)\n",
      "5\n",
      "39\n",
      "Spud(\"Self-assured Coast guard Boxty\", 1, 7, 2, 6, 1, 6)\n",
      "6\n",
      "2\n",
      "Spud(\"Uninspiring Lumberjack Ajiaco\", 11, 3, 4, 3, 1, 3)\n",
      "7\n",
      "32\n",
      "Spud(\"Well-informed Puppeteer Älplermagronen\", 2, 8, 2, 5, 4, 1)\n",
      "8\n",
      "11\n",
      "Spud(\"Torpid Juggler Suan la tu dou si\", 7, 1, 12, 3, 5, 1)\n",
      "9\n",
      "2\n",
      "Spud(\"Lackluster Lumberjack Kouign patatez\", 10, 1, 8, 3, 2, 5)\n",
      "10\n",
      "6\n",
      "Spud(\"Thoughtful Chimney sweep Rumbledethumps\", 7, 5, 5, 3, 1, 2)\n",
      "11\n",
      "8\n",
      "Spud(\"Impotent Impersonator French fries\", 6, 1, 14, 4, 4, 2)\n",
      "12\n",
      "6\n",
      "Spud(\"Inspiring Party-leader Boulangère potatoes\", 2, 5, 15, 8, 3, 1)\n",
      "13\n",
      "15\n",
      "Spud(\"Unconstrained Juggler Pommes Anna\", 6, 3, 9, 6, 1, 2)\n",
      "14\n",
      "23\n",
      "Spud(\"Introspective Dictator French fries\", 9, 1, 9, 6, 3, 1)\n",
      "15\n",
      "6\n",
      "Spud(\"Benevolent Copywriter Maluns\", 7, 4, 5, 2, 4, 3)\n",
      "16\n",
      "2\n",
      "Spud(\"Colorless Barman French fries\", 3, 7, 10, 1, 3, 3)\n",
      "17\n",
      "7\n",
      "Spud(\"Unflinching Copywriter Ajiaco\", 7, 3, 7, 6, 1, 3)\n",
      "18\n",
      "10\n",
      "Spud(\"Unconstrained Queen mother Suan la tu dou si\", 2, 4, 18, 2, 5, 7)\n",
      "19\n",
      "35\n",
      "Spud(\"Respectable Gladiator Batata vada\", 2, 5, 15, 8, 1, 3)\n",
      "20\n",
      "44\n",
      "Spud(\"Bewitching Shoeshiner Boulangère potatoes\", 2, 12, 2, 3, 2, 1)\n",
      "21\n",
      "9\n",
      "Spud(\"Torpid Percussionist Älplermagronen\", 6, 1, 14, 5, 3, 2)\n",
      "22\n",
      "22\n",
      "Spud(\"Selfless Drug dealer Suan la tu dou si\", 9, 1, 9, 4, 2, 4)\n",
      "23\n",
      "8\n",
      "Spud(\"Unenergetic Automobile racer Pitepalt\", 3, 3, 18, 7, 4, 1)\n",
      "24\n",
      "30\n",
      "Spud(\"Dreamy Real estate investor Chapalele\", 3, 4, 12, 2, 6, 5)\n",
      "25\n",
      "12\n",
      "Spud(\"Fierce Juggler Rewena bread\", 5, 1, 16, 7, 1, 7)\n",
      "26\n",
      "31\n",
      "Spud(\"Impotent Joker Pitepalt\", 6, 4, 8, 1, 4, 2)\n",
      "27\n",
      "31\n",
      "Spud(\"Loving Demolitionist French fries\", 4, 4, 11, 6, 1, 3)\n",
      "28\n",
      "8\n",
      "Spud(\"Courteous Drug dealer Funeral potatoes\", 9, 3, 5, 4, 2, 3)\n",
      "29\n",
      "10\n",
      "Spud(\"Unsociable Magnate Clapshot\", 8, 3, 6, 2, 5, 2)\n",
      "30\n",
      "20\n",
      "Spud(\"Unfazed Cardinal Tashmijab\", 6, 3, 8, 6, 4, 1)\n",
      "31\n",
      "5\n",
      "Spud(\"Benevolent Environmental scientist Chapalele\", 1, 11, 1, 4, 3, 1)\n",
      "32\n",
      "25\n",
      "Spud(\"Unstirred Novelist Potato babka\", 9, 5, 2, 4, 2, 1)\n",
      "33\n",
      "24\n",
      "Spud(\"Unaffected Automobile racer Rewena bread\", 3, 4, 12, 7, 1, 5)\n",
      "34\n",
      "16\n",
      "Spud(\"Monotonous Queen dowager Aligot\", 10, 2, 7, 1, 2, 2)\n",
      "35\n",
      "21\n",
      "Spud(\"Attractive Cardinal Papas chorreadas\", 6, 4, 8, 4, 2, 1)\n",
      "36\n",
      "14\n",
      "Spud(\"Dreamy Percussionist Ajiaco\", 4, 3, 13, 4, 2, 6)\n",
      "37\n",
      "20\n",
      "Spud(\"Respectful Gondolier Ajiaco\", 2, 7, 11, 4, 4, 1)\n",
      "38\n",
      "2\n",
      "Spud(\"Unconstrained Copywriter Okroshka\", 4, 4, 11, 5, 4, 1)\n",
      "39\n",
      "9\n",
      "Spud(\"Flamboyant Magnate Rewena bread\", 3, 4, 13, 1, 6, 5)\n",
      "40\n",
      "4\n",
      "Spud(\"Inspirational Student Chapalele\", 8, 5, 3, 4, 2, 1)\n",
      "41\n",
      "11\n",
      "Spud(\"Compliant Stunt double Boulangère potatoes\", 8, 1, 10, 7, 1, 4)\n",
      "42\n",
      "8\n",
      "Spud(\"Composed Juggler Boulangère potatoes\", 3, 7, 10, 3, 1, 3)\n",
      "43\n",
      "1\n",
      "Spud(\"Unsteady Real estate investor Gamjajeon\", 4, 2, 17, 2, 7, 3)\n",
      "44\n",
      "16\n",
      "Spud(\"Steely Queen dowager Pommes Anna\", 8, 1, 10, 5, 1, 6)\n",
      "45\n",
      "8\n",
      "Spud(\"Tolerant Puppeteer Hash browns\", 3, 8, 1, 5, 2, 2)\n",
      "46\n",
      "32\n",
      "Spud(\"Unimpressive Gondolier French fries\", 7, 1, 12, 1, 6, 2)\n",
      "47\n",
      "15\n",
      "Spud(\"Captivating Percussionist Meat and potato pie\", 2, 5, 15, 7, 2, 3)\n",
      "48\n",
      "43\n",
      "Spud(\"Incomprehensible Automobile racer Papas chorreadas\", 4, 2, 17, 7, 2, 3)\n",
      "49\n",
      "8\n",
      "Spud(\"Outstanding Juggler Batata vada\", 2, 4, 18, 8, 5, 1)\n",
      "50\n",
      "6\n",
      "Spud(\"Open-minded Ferryman Rewena bread\", 4, 9, 2, 3, 2, 1)\n",
      "51\n",
      "14\n",
      "Spud(\"Unimpressed Magnate Pommes Anna\", 7, 1, 11, 2, 8, 6)\n",
      "52\n",
      "4\n",
      "Spud(\"Unrestrained Dictator Pommes Anna\", 6, 3, 9, 5, 3, 1)\n",
      "53\n",
      "11\n",
      "Spud(\"Uncaring Gondolier Batata vada\", 2, 5, 15, 2, 8, 2)\n",
      "54\n",
      "11\n",
      "Spud(\"Impatient Impersonator Rumbledethumps\", 4, 3, 13, 3, 4, 5)\n",
      "55\n",
      "16\n",
      "Spud(\"Indefatigable Gondolier Pommes Anna\", 2, 5, 15, 4, 4, 4)\n",
      "56\n",
      "24\n",
      "Spud(\"Charismatic Dictator Hash browns\", 4, 3, 13, 5, 6, 1)\n",
      "57\n",
      "23\n",
      "Spud(\"Goal-oriented Joker Tashmijab\", 6, 2, 10, 3, 5, 6)\n",
      "58\n",
      "4\n",
      "Spud(\"Cerebral Impersonator Rewena bread\", 7, 2, 9, 3, 6, 2)\n",
      "59\n",
      "3\n",
      "Spud(\"Self-motivated Barman Ajiaco\", 2, 7, 11, 1, 4, 4)\n",
      "60\n",
      "7\n",
      "Spud(\"Sympathetic Dictator Kouign patatez\", 6, 3, 9, 5, 1, 3)\n",
      "61\n",
      "47\n",
      "Spud(\"Decent Miller Chapalele\", 1, 7, 2, 8, 2, 3)\n",
      "62\n",
      "6\n",
      "Spud(\"Noble Dictator Pommes Anna\", 6, 1, 14, 5, 4, 1)\n",
      "63\n",
      "1\n",
      "Spud(\"Generous Puppeteer Meat and potato pie\", 1, 11, 1, 5, 2, 1)\n",
      "64\n",
      "2\n",
      "Spud(\"Dependable Cardinal Aligot\", 6, 3, 8, 6, 3, 2)\n",
      "65\n",
      "37\n",
      "Spud(\"Stagnant Magnate Pommes Anna\", 6, 1, 14, 1, 5, 4)\n",
      "66\n",
      "31\n",
      "Spud(\"Deep Impersonator Älplermagronen\", 8, 1, 10, 3, 5, 4)\n",
      "67\n",
      "16\n",
      "Spud(\"Dreamy Copywriter Okroshka\", 7, 1, 12, 4, 2, 3)\n",
      "68\n",
      "22\n",
      "Spud(\"Secretive Chancellor Funeral potatoes\", 7, 6, 2, 4, 2, 1)\n",
      "69\n",
      "6\n",
      "Spud(\"Uninhibited Juggler Gnocchi\", 7, 2, 9, 3, 5, 3)\n",
      "70\n",
      "6\n",
      "Spud(\"Unsympathetic Copywriter Suan la tu dou si\", 9, 3, 5, 4, 4, 1)\n",
      "71\n",
      "17\n",
      "Spud(\"Profound Drug dealer Batata vada\", 7, 3, 7, 5, 1, 4)\n",
      "72\n",
      "12\n",
      "Spud(\"Mindless Gondolier Rappie pie\", 7, 2, 9, 1, 6, 4)\n",
      "73\n",
      "40\n",
      "Spud(\"Displeased Magnate Älplermagronen\", 3, 3, 18, 4, 6, 2)\n",
      "74\n",
      "23\n",
      "Spud(\"Unbreakable Impersonator Hash browns\", 8, 1, 10, 5, 2, 5)\n",
      "75\n",
      "14\n",
      "Spud(\"Flamboyant Dictator Gnocchi\", 8, 1, 10, 5, 5, 2)\n",
      "76\n",
      "1\n",
      "Spud(\"Stale Laborer Nikujaga\", 3, 8, 1, 3, 2, 4)\n",
      "77\n",
      "23\n",
      "Spud(\"Devoted Dictator French fries\", 8, 1, 10, 6, 5, 1)\n",
      "78\n",
      "32\n",
      "Spud(\"Feeble Automobile racer Rumbledethumps\", 6, 3, 8, 6, 2, 3)\n",
      "79\n",
      "43\n",
      "Spud(\"Easygoing Chancellor Tashmijab\", 8, 1, 10, 3, 3, 6)\n",
      "80\n",
      "7\n",
      "Spud(\"Enigmatic Vice president French fries\", 3, 4, 12, 6, 1, 6)\n",
      "81\n",
      "4\n",
      "Spud(\"Idle Consultant French fries\", 3, 3, 18, 3, 7, 2)\n",
      "82\n",
      "11\n",
      "Spud(\"Content Joker Suan la tu dou si\", 7, 1, 12, 1, 4, 4)\n",
      "83\n",
      "15\n",
      "Spud(\"Amiable Impersonator Truffade\", 7, 1, 12, 2, 2, 5)\n",
      "84\n",
      "4\n",
      "Spud(\"Seductive Psychologist Chips and dip\", 1, 9, 1, 2, 6, 2)\n",
      "85\n",
      "17\n",
      "Spud(\"Heartfelt Barman Gamjajeon\", 2, 6, 14, 1, 5, 4)\n",
      "86\n",
      "11\n",
      "Spud(\"Well-rounded Auctioneer Potato babka\", 3, 3, 16, 2, 8, 4)\n",
      "87\n",
      "13\n",
      "Spud(\"Masterful Chimney sweep Meat and potato pie\", 10, 4, 3, 1, 4, 2)\n",
      "88\n",
      "8\n",
      "Spud(\"Uninspiring Organizer Ajiaco\", 10, 1, 8, 1, 5, 4)\n",
      "89\n",
      "3\n",
      "Spud(\"Lethargic Investment broker Rewena bread\", 7, 3, 7, 1, 5, 4)\n",
      "90\n",
      "1\n",
      "Spud(\"Erudite Housekeeper Pommes Anna\", 8, 5, 3, 2, 3, 2)\n",
      "91\n",
      "13\n",
      "Spud(\"Charmed Cardinal Brændende kærlighed\", 5, 2, 12, 7, 7, 1)\n",
      "92\n",
      "26\n",
      "Spud(\"Determined Dictator Pommes Anna\", 9, 1, 9, 4, 3, 3)\n",
      "93\n",
      "5\n",
      "Spud(\"Intelligent Queen dowager Batata vada\", 7, 1, 11, 1, 8, 7)\n",
      "94\n",
      "30\n",
      "Spud(\"Self-assured Puppeteer Batata vada\", 3, 8, 1, 6, 2, 1)\n",
      "95\n",
      "2\n",
      "Spud(\"Capable Dictator Rewena bread\", 6, 3, 8, 3, 5, 3)\n",
      "96\n",
      "15\n",
      "Spud(\"Unstimulating Novelist Pommes Anna\", 8, 4, 4, 6, 1, 2)\n",
      "97\n",
      "21\n",
      "Spud(\"Unsuspecting Automobile racer Älplermagronen\", 7, 1, 11, 8, 1, 7)\n",
      "98\n",
      "10\n",
      "Spud(\"Apt Gladiator Okroshka\", 7, 1, 12, 6, 2, 1)\n",
      "99\n",
      "1\n",
      "Spud(\"Compelling Civil servant Pitepalt\", 1, 9, 1, 2, 3, 5)\n",
      "100\n",
      "24\n",
      "Spud(\"Listless Gondolier Tartiflette\", 3, 5, 15, 2, 4, 2)\n",
      "\n"
     ]
    },
    {
     "data": {
      "text/plain": [
       "0.033284834472724276"
      ]
     },
     "execution_count": 111,
     "metadata": {},
     "output_type": "execute_result"
    }
   ],
   "source": [
    "\n",
    "for ii in 1:100\n",
    "    #println()\n",
    "    println(ii)\n",
    "    counts = ffp(nash_env, 100000)\n",
    "    #println(maximum([eval_battle_list2(ff, nash_env, counts./sum(counts)) for ff in nash_env]))\n",
    "    ff = rand_rename(pick_best_library2(nash_env, counts./sum(counts)))\n",
    "    ev = eval_battle_list2(ff, nash_env, counts./sum(counts))\n",
    "    #println(ev)\n",
    "    bestf = subset_library(nash_env, 900, counts./sum(counts), ev-0.01)\n",
    "    println(length(bestf))\n",
    "    cc = ffp(bestf, 10000)\n",
    "    #println(maximum(cc))\n",
    "    ff2 = rand_rename(bestf[cc .== maximum(cc)][1])\n",
    "    println(ff2)\n",
    "    #println(eval_battle_list2(ff2, nash_env, counts./sum(counts)))\n",
    "    append!(nash_env, [ff2])\n",
    "end\n",
    "println()\n",
    "counts = ffp(nash_env, 100000)\n",
    "#ff = pick_best_library2(nash_env, counts./sum(counts))\n",
    "#eval_battle_list2(ff, nash_env, counts./sum(counts))    \n",
    "nash_env = nash_env[counts .> 10]\n",
    "counts = ffp(nash_env, 100000);\n",
    "\n",
    "ff = pick_best_library2(nash_env, counts./sum(counts))\n",
    "eval_battle_list2(ff, nash_env, counts./sum(counts))"
   ]
  },
  {
   "cell_type": "code",
   "execution_count": 112,
   "id": "96123f6c",
   "metadata": {},
   "outputs": [
    {
     "data": {
      "text/plain": [
       "346-element Vector{Spud}:\n",
       " Spud(\"Jovial Environmental scientist Funeral potatoes\", 2, 6, 1, 8, 7, 1)\n",
       " Spud(\"Disinclined Copywriter Chapalele\", 8, 3, 6, 3, 2, 4)\n",
       " Spud(\"Compassionate Student Maluns\", 10, 5, 3, 2, 1, 1)\n",
       " Spud(\"Keen Novelist Kouign patatez\", 4, 8, 1, 4, 1, 3)\n",
       " Spud(\"Literate Ferryman Chapalele\", 7, 9, 1, 1, 1, 1)\n",
       " Spud(\"Unfazed Miller Pitepalt\", 1, 9, 1, 5, 4, 1)\n",
       " Spud(\"Exhilarating Drug dealer Potato babka\", 11, 1, 7, 7, 1, 4)\n",
       " Spud(\"Unsympathetic Queen dowager Suan la tu dou si\", 11, 4, 4, 1, 1, 1)\n",
       " Spud(\"Unresponsive Nanny (also nursemaid) Rappie pie\", 8, 6, 4, 1, 1, 1)\n",
       " Spud(\"Unappealing Drug dealer Okroshka\", 12, 2, 5, 2, 4, 2)\n",
       " Spud(\"Generous Ferryman Hash browns\", 8, 8, 1, 1, 1, 1)\n",
       " Spud(\"Mindful Student Ajiaco\", 10, 6, 1, 3, 1, 1)\n",
       " Spud(\"Stimulating Ferryman Hash browns\", 5, 9, 2, 2, 2, 1)\n",
       " ⋮\n",
       " Spud(\"Lethargic Investment broker Rewena bread\", 7, 3, 7, 1, 5, 4)\n",
       " Spud(\"Erudite Housekeeper Pommes Anna\", 8, 5, 3, 2, 3, 2)\n",
       " Spud(\"Charmed Cardinal Brændende kærlighed\", 5, 2, 12, 7, 7, 1)\n",
       " Spud(\"Determined Dictator Pommes Anna\", 9, 1, 9, 4, 3, 3)\n",
       " Spud(\"Intelligent Queen dowager Batata vada\", 7, 1, 11, 1, 8, 7)\n",
       " Spud(\"Self-assured Puppeteer Batata vada\", 3, 8, 1, 6, 2, 1)\n",
       " Spud(\"Capable Dictator Rewena bread\", 6, 3, 8, 3, 5, 3)\n",
       " Spud(\"Unstimulating Novelist Pommes Anna\", 8, 4, 4, 6, 1, 2)\n",
       " Spud(\"Unsuspecting Automobile racer Älplermagronen\", 7, 1, 11, 8, 1, 7)\n",
       " Spud(\"Apt Gladiator Okroshka\", 7, 1, 12, 6, 2, 1)\n",
       " Spud(\"Compelling Civil servant Pitepalt\", 1, 9, 1, 2, 3, 5)\n",
       " Spud(\"Listless Gondolier Tartiflette\", 3, 5, 15, 2, 4, 2)"
      ]
     },
     "execution_count": 112,
     "metadata": {},
     "output_type": "execute_result"
    }
   ],
   "source": [
    "nash_env"
   ]
  },
  {
   "cell_type": "code",
   "execution_count": 113,
   "id": "81256885",
   "metadata": {},
   "outputs": [
    {
     "data": {
      "text/plain": [
       "346-element Vector{Spud}:\n",
       " Spud(\"\", 2, 6, 1, 8, 7, 1)\n",
       " Spud(\"\", 8, 3, 6, 3, 2, 4)\n",
       " Spud(\"\", 10, 5, 3, 2, 1, 1)\n",
       " Spud(\"\", 4, 8, 1, 4, 1, 3)\n",
       " Spud(\"\", 7, 9, 1, 1, 1, 1)\n",
       " Spud(\"\", 1, 9, 1, 5, 4, 1)\n",
       " Spud(\"\", 11, 1, 7, 7, 1, 4)\n",
       " Spud(\"\", 11, 4, 4, 1, 1, 1)\n",
       " Spud(\"\", 8, 6, 4, 1, 1, 1)\n",
       " Spud(\"\", 12, 2, 5, 2, 4, 2)\n",
       " Spud(\"\", 8, 8, 1, 1, 1, 1)\n",
       " Spud(\"\", 10, 6, 1, 3, 1, 1)\n",
       " Spud(\"\", 5, 9, 2, 2, 2, 1)\n",
       " ⋮\n",
       " Spud(\"\", 7, 3, 7, 1, 5, 4)\n",
       " Spud(\"\", 8, 5, 3, 2, 3, 2)\n",
       " Spud(\"\", 5, 2, 12, 7, 7, 1)\n",
       " Spud(\"\", 9, 1, 9, 4, 3, 3)\n",
       " Spud(\"\", 7, 1, 11, 1, 8, 7)\n",
       " Spud(\"\", 3, 8, 1, 6, 2, 1)\n",
       " Spud(\"\", 6, 3, 8, 3, 5, 3)\n",
       " Spud(\"\", 8, 4, 4, 6, 1, 2)\n",
       " Spud(\"\", 7, 1, 11, 8, 1, 7)\n",
       " Spud(\"\", 7, 1, 12, 6, 2, 1)\n",
       " Spud(\"\", 1, 9, 1, 2, 3, 5)\n",
       " Spud(\"\", 3, 5, 15, 2, 4, 2)"
      ]
     },
     "execution_count": 113,
     "metadata": {},
     "output_type": "execute_result"
    }
   ],
   "source": [
    "nash_copy = unique([Spud(\"\", s.h, s.f, s.l, s.p, s.r, s.s) for s in nash_env])"
   ]
  },
  {
   "cell_type": "code",
   "execution_count": 114,
   "id": "d795be06",
   "metadata": {},
   "outputs": [
    {
     "data": {
      "text/plain": [
       "\"spuds_nash_stage04.csv\""
      ]
     },
     "execution_count": 114,
     "metadata": {},
     "output_type": "execute_result"
    }
   ],
   "source": [
    "CSV.write(\"spuds_nash_stage04.csv\", spuds_to_df(nash_env))"
   ]
  },
  {
   "cell_type": "markdown",
   "id": "76650c8f",
   "metadata": {},
   "source": [
    "### refine weights"
   ]
  },
  {
   "cell_type": "code",
   "execution_count": null,
   "id": "523d545c",
   "metadata": {},
   "outputs": [],
   "source": [
    "eps = 0.01/length(library)\n",
    "nits = 40000\n",
    "sub_iter = 2000\n",
    "w = counts./sum(counts)"
   ]
  },
  {
   "cell_type": "code",
   "execution_count": null,
   "id": "0836d787",
   "metadata": {},
   "outputs": [],
   "source": [
    "n_nash = length(nash_env)\n",
    "i_lose = Array{Int}(undef, (n_nash, n_nash))\n",
    "n_lose = Array{Int}(undef, n_nash)\n",
    "for i in 1:n_nash\n",
    "    n_lose[i] = 0\n",
    "    ff = nash_env[i]\n",
    "    for j in 1:n_nash\n",
    "        if eval_battle(ff, nash_env[j]) ==-1\n",
    "            n_lose[i] += 1\n",
    "            i_lose[i, n_lose[i]] = j\n",
    "        end\n",
    "    end\n",
    "end"
   ]
  },
  {
   "cell_type": "code",
   "execution_count": null,
   "id": "08c7f25b",
   "metadata": {},
   "outputs": [],
   "source": [
    "scores = [0.0 for i in 1:n_nash]\n",
    "for i in 1:n_nash\n",
    "    for j in 1:n_lose[i]\n",
    "        i_w = i_lose[i, j]\n",
    "        scores[i_w]+= w[i]\n",
    "    end\n",
    "end"
   ]
  },
  {
   "cell_type": "code",
   "execution_count": null,
   "id": "c0b4dbde",
   "metadata": {},
   "outputs": [],
   "source": [
    "previous_score = maximum(scores)\n",
    "for iter in 1:nits\n",
    "    ind_winners = findall(scores .== maximum(scores))\n",
    "    i = rand(ind_winners)\n",
    "    w[i] += eps\n",
    "    for j in 1:n_lose[i]\n",
    "        i_w = i_lose[i, j]\n",
    "        scores[i_w]+= eps\n",
    "    end\n",
    "    if mod1(iter, sub_iter) == 1\n",
    "        scores = scores./sum(w)\n",
    "        w = w./sum(w)\n",
    "        if maximum(scores) > previous_score\n",
    "            eps = eps/2\n",
    "            println(eps)\n",
    "            println()\n",
    "            println()\n",
    "        end\n",
    "        previous_score = maximum(scores)\n",
    "        mxv, mxi = findmax(scores)\n",
    "        print(nash_env[mxi])\n",
    "        print(\" w:\")\n",
    "        print(w[mxi])\n",
    "        print(\" s:\")\n",
    "        print(scores[mxi])\n",
    "        println()\n",
    "    end\n",
    "end\n"
   ]
  },
  {
   "cell_type": "code",
   "execution_count": null,
   "id": "5cd18cd9",
   "metadata": {},
   "outputs": [],
   "source": [
    "maximum([eval_battle_list2(ff, nash_env, w) for ff in nash_env])"
   ]
  },
  {
   "cell_type": "code",
   "execution_count": null,
   "id": "164743ab",
   "metadata": {},
   "outputs": [],
   "source": [
    "ff = pick_best_library2(nash_env, w)\n",
    "println(ff)\n",
    "eval_battle_list2(ff, nash_env, w)"
   ]
  },
  {
   "cell_type": "markdown",
   "id": "58222ce6",
   "metadata": {},
   "source": [
    "## Old code"
   ]
  },
  {
   "cell_type": "code",
   "execution_count": null,
   "id": "d3e07cf7",
   "metadata": {},
   "outputs": [],
   "source": [
    "function nashprox2(size, start_size, ns)\n",
    "    nash_env = Array{Spud}(undef, size)\n",
    "    nash_env[1:start_size] = random_team(() -> rand(library), start_size)\n",
    "    for j in (start_size+1):size\n",
    "        if j < ns\n",
    "            ff = pick_ok_counter(nash_env[1:(j-1)])\n",
    "            nash_env[j] = ff\n",
    "        else\n",
    "            ff = pick_ok_counter(randsubseq(nash_env[1:(j-1)], ns/j))\n",
    "            nash_env[j] = ff                \n",
    "        end\n",
    "    end\n",
    "    return nash_env\n",
    "end\n",
    "\n",
    "function nashprox(size, start_size, ns)\n",
    "    nash_env = Array{Spud}(undef, size)\n",
    "    nash_env[1:start_size] = random_team(() -> rand(library), start_size)\n",
    "    for j in (start_size+1):size\n",
    "        if j < ns\n",
    "            ff = pick_best_library(nash_env[1:(j-1)])\n",
    "            nash_env[j] = ff\n",
    "        else\n",
    "            ff = pick_best_library(randsubseq(nash_env[1:(j-1)], ns/j))\n",
    "            nash_env[j] = ff                \n",
    "        end\n",
    "    end\n",
    "    return nash_env\n",
    "end"
   ]
  },
  {
   "cell_type": "code",
   "execution_count": null,
   "id": "e08da8ee",
   "metadata": {},
   "outputs": [],
   "source": []
  },
  {
   "cell_type": "code",
   "execution_count": null,
   "id": "b778cb19",
   "metadata": {},
   "outputs": [],
   "source": [
    "@time nash_env = nashprox(4000, 10, 100)\n",
    "nash_env = unique(nash_env)\n",
    "#inds_nash = [id_no[ff] for ff in nash_env];\n",
    "#length(inds_nash)\n",
    "n_nash = length(nash_env)"
   ]
  },
  {
   "cell_type": "code",
   "execution_count": null,
   "id": "84a8035a",
   "metadata": {
    "scrolled": false
   },
   "outputs": [],
   "source": [
    "# Verify 3-explotability\n",
    "for i in 1:1000\n",
    "    #inds = sort([rand(inds_nash) for i in 1:3])\n",
    "    #rt = library[inds]\n",
    "    rt = random_team(() -> rand(nash_env), 3)\n",
    "    ff = pick_best_library(rt)\n",
    "    ev = eval_battle_list(ff, rt)\n",
    "    if ev < 3\n",
    "        println(rt)\n",
    "    end\n",
    "end\n"
   ]
  },
  {
   "cell_type": "code",
   "execution_count": null,
   "id": "9f5eced7",
   "metadata": {
    "scrolled": false
   },
   "outputs": [],
   "source": [
    "# Verify 4-explotability\n",
    "for i in 1:1000\n",
    "    #inds = sort([rand(inds_nash) for i in 1:3])\n",
    "    #rt = library[inds]\n",
    "    rt = random_team(() -> rand(nash_env), 4)\n",
    "    ff = pick_best_library(rt)\n",
    "    ev = eval_battle_list(ff, rt)\n",
    "    if ev < 4\n",
    "        println(rt)\n",
    "        println(ev)\n",
    "    end\n",
    "end\n"
   ]
  },
  {
   "cell_type": "code",
   "execution_count": null,
   "id": "e417b44a",
   "metadata": {},
   "outputs": [],
   "source": [
    "#inds = sort([rand(1:n_spuds) for i in 1:5])\n",
    "#rt = library[inds]"
   ]
  },
  {
   "cell_type": "code",
   "execution_count": null,
   "id": "a49d058e",
   "metadata": {},
   "outputs": [],
   "source": [
    "# rt = library[[1403,1902,2283,2397]]\n",
    "# rt"
   ]
  },
  {
   "cell_type": "code",
   "execution_count": null,
   "id": "b8cbb659",
   "metadata": {},
   "outputs": [],
   "source": [
    "# ff = pick_best(library, rt)\n",
    "# ind = [i for i in 1:n_spuds if library[i] == ff][1]\n",
    "# print(ff)\n",
    "# print(\" \")\n",
    "# eval_battle_list(ff, rt)"
   ]
  },
  {
   "cell_type": "markdown",
   "id": "68e3cf22",
   "metadata": {},
   "source": [
    "## Fictitious Play to compute Nash distribution"
   ]
  },
  {
   "cell_type": "code",
   "execution_count": null,
   "id": "ada1403f",
   "metadata": {},
   "outputs": [],
   "source": [
    "@time nash_env = nashprox(4000, 10, 100)\n",
    "nash_env = unique(nash_env)\n",
    "#inds_nash = [id_no[ff] for ff in nash_env];\n",
    "#length(inds_nash)\n",
    "n_nash = length(nash_env)"
   ]
  },
  {
   "cell_type": "code",
   "execution_count": null,
   "id": "0d3e042b",
   "metadata": {},
   "outputs": [],
   "source": []
  },
  {
   "cell_type": "code",
   "execution_count": null,
   "id": "78baa903",
   "metadata": {},
   "outputs": [],
   "source": [
    "i_lose = Array{Int}(undef, (n_nash, n_nash))\n",
    "n_lose = Array{Int}(undef, n_nash)\n",
    "for i in 1:n_nash\n",
    "    n_lose[i] = 0\n",
    "    ff = nash_env[i]\n",
    "    for j in 1:n_nash\n",
    "        if eval_battle(ff, nash_env[j]) ==-1\n",
    "            n_lose[i] += 1\n",
    "            i_lose[i, n_lose[i]] = j\n",
    "        end\n",
    "    end\n",
    "end"
   ]
  },
  {
   "cell_type": "code",
   "execution_count": null,
   "id": "63d2b34e",
   "metadata": {},
   "outputs": [],
   "source": [
    "# initialize FP with 1 of each\n",
    "counts = [0 for i in 1:n_nash]\n",
    "wins = [0 for i in 1:n_nash]\n",
    "for i in 1:n_nash\n",
    "    counts[i] += 1\n",
    "    for j in 1:n_lose[i]\n",
    "        i_w = i_lose[i, j]\n",
    "        wins[i_w]+= 1\n",
    "    end\n",
    "end"
   ]
  },
  {
   "cell_type": "code",
   "execution_count": null,
   "id": "b9ee5863",
   "metadata": {
    "scrolled": false
   },
   "outputs": [],
   "source": [
    "nits = 500000\n",
    "for iter in 1:nits\n",
    "    ind_winners = findall(wins .== maximum(wins))\n",
    "    for i in ind_winners\n",
    "        counts[i] += 1\n",
    "        for j in 1:n_lose[i]\n",
    "            i_w = i_lose[i, j]\n",
    "            wins[i_w]+= 1\n",
    "        end\n",
    "    end\n",
    "    if mod1(iter, 10000) == 1\n",
    "        mxv, mxi = findmax(wins)\n",
    "        print(nash_env[mxi])\n",
    "        print(\" n:\")\n",
    "        print(counts[mxi])\n",
    "        print(\" w:\")\n",
    "        print(wins[mxi])\n",
    "        println()\n",
    "    end\n",
    "end\n",
    "\n",
    "w = counts./sum(counts)\n",
    "println(maximum([eval_battle_list2(ff, nash_env, w) for ff in nash_env]))\n",
    "sum(counts)"
   ]
  },
  {
   "cell_type": "code",
   "execution_count": null,
   "id": "a74a6b9d",
   "metadata": {},
   "outputs": [],
   "source": [
    "ff = pick_best_library2(nash_env, w)\n",
    "println(ff)\n",
    "eval_battle_list2(ff, nash_env, w)"
   ]
  },
  {
   "cell_type": "code",
   "execution_count": null,
   "id": "8a375193",
   "metadata": {},
   "outputs": [],
   "source": [
    "inds_sel = sortperm(-w)[1:500]\n",
    "tab = spuds_to_df(nash_env[inds_sel])\n",
    "tab[!, :w] = w[inds_sel]\n",
    "tab"
   ]
  },
  {
   "cell_type": "code",
   "execution_count": null,
   "id": "539633b4",
   "metadata": {
    "scrolled": true
   },
   "outputs": [],
   "source": [
    "# Verify explotability\n",
    "for i in 1:10000\n",
    "    inds = sort([rand(inds_sel[1:120]) for i in 1:3])\n",
    "    rt = nash_env[inds]\n",
    "    ff = pick_best(library, rt)\n",
    "    ev = eval_battle_list(ff, rt)\n",
    "    if ev < 3\n",
    "        println(spuds_to_df(rt))\n",
    "        println(w[inds])\n",
    "        println(ev)\n",
    "    end\n",
    "end"
   ]
  },
  {
   "cell_type": "code",
   "execution_count": null,
   "id": "ca23894e",
   "metadata": {},
   "outputs": [],
   "source": [
    "rt = nash_env[sort([rand(1:n_nash) for i in 1:4])]"
   ]
  },
  {
   "cell_type": "code",
   "execution_count": null,
   "id": "e1899929",
   "metadata": {},
   "outputs": [],
   "source": [
    "ff = pick_best_rdmly(nash_env[inds_sel], rt, 99)\n",
    "ev = eval_battle_list(ff, rt)\n",
    "println(ff)\n",
    "println(ev)\n",
    "eval_battle_list2(ff, nash_env, w)"
   ]
  },
  {
   "cell_type": "code",
   "execution_count": null,
   "id": "497f2f3a",
   "metadata": {},
   "outputs": [],
   "source": [
    "ff = pick_best_rdmly(library, rt, 99)\n",
    "ev = eval_battle_list(ff, rt)\n",
    "println(ff)\n",
    "println(ev)\n",
    "eval_battle_list2(ff, nash_env, w)"
   ]
  },
  {
   "cell_type": "code",
   "execution_count": null,
   "id": "12acdb76",
   "metadata": {},
   "outputs": [],
   "source": [
    "ff = rand(library)\n",
    "println(ff)\n",
    "eval_battle_list2(ff, nash_env, w)"
   ]
  },
  {
   "cell_type": "code",
   "execution_count": null,
   "id": "faf95c79",
   "metadata": {},
   "outputs": [],
   "source": [
    "#cost(4,4,9,1,4,2)"
   ]
  },
  {
   "cell_type": "code",
   "execution_count": null,
   "id": "4d0bc4c8",
   "metadata": {},
   "outputs": [],
   "source": [
    "#rt = library[[15918,21020,26191]]\n",
    "#eval_battle(Spud(\"\",4,4,9,1,4,1), rt[1])"
   ]
  },
  {
   "cell_type": "code",
   "execution_count": null,
   "id": "17a5cad4",
   "metadata": {},
   "outputs": [],
   "source": [
    "#sum(sort(-w)[1:450])"
   ]
  },
  {
   "cell_type": "code",
   "execution_count": null,
   "id": "c945e08d",
   "metadata": {},
   "outputs": [],
   "source": [
    "#sum(w)"
   ]
  },
  {
   "cell_type": "code",
   "execution_count": null,
   "id": "209dc74d",
   "metadata": {},
   "outputs": [],
   "source": [
    "# # FP is slow to converge in the end\n",
    "# eps = 0.01/length(library)\n",
    "# nits = 20000\n",
    "# scores = wins./sum(counts)\n",
    "# w = counts./sum(counts)\n",
    "# 0"
   ]
  },
  {
   "cell_type": "code",
   "execution_count": null,
   "id": "d50fc1f0",
   "metadata": {},
   "outputs": [],
   "source": [
    "# previous_score = maximum(scores)\n",
    "# for iter in 1:nits\n",
    "#     ind_winners = findall(wins .== maximum(wins))\n",
    "#     i = rand(ind_winners)\n",
    "#     w[i] += eps\n",
    "#     for j in 1:n_lose[i]\n",
    "#         i_w = i_lose[i, j]\n",
    "#         scores[i_w]+= eps\n",
    "#     end\n",
    "#     if mod1(iter, 2000) == 1\n",
    "#         scores = scores./sum(w)\n",
    "#         w = w./sum(w)\n",
    "#         if maximum(scores) > previous_score\n",
    "#             eps = eps/2\n",
    "#             println(eps)\n",
    "#             println()\n",
    "#             println()\n",
    "#         end\n",
    "#         previous_score = maximum(scores)\n",
    "#         mxv, mxi = findmax(wins)\n",
    "#         print(library[mxi])\n",
    "#         print(\" n:\")\n",
    "#         print(w[mxi])\n",
    "#         print(\" w:\")\n",
    "#         print(scores[mxi])\n",
    "#         println()\n",
    "#         mxv, mxi = findmax(counts)\n",
    "#         print(library[mxi])\n",
    "#         print(\" n:\")\n",
    "#         print(w[mxi])\n",
    "#         print(\" w:\")\n",
    "#         print(scores[mxi])\n",
    "#         println()\n",
    "#         println(maximum([eval_battle_list2(ff, library, w) for ff in library]))\n",
    "#         println()\n",
    "#     end\n",
    "# end\n"
   ]
  },
  {
   "cell_type": "code",
   "execution_count": null,
   "id": "34e127aa",
   "metadata": {},
   "outputs": [],
   "source": []
  }
 ],
 "metadata": {
  "kernelspec": {
   "display_name": "Julia 1.9.3",
   "language": "julia",
   "name": "julia-1.9"
  },
  "language_info": {
   "file_extension": ".jl",
   "mimetype": "application/julia",
   "name": "julia",
   "version": "1.9.3"
  }
 },
 "nbformat": 4,
 "nbformat_minor": 5
}

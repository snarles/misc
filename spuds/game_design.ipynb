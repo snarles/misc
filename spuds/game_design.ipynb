{
 "cells": [
  {
   "cell_type": "markdown",
   "id": "052be005",
   "metadata": {},
   "source": [
    "Design of a new game, Spuds"
   ]
  },
  {
   "cell_type": "code",
   "execution_count": 1,
   "id": "494818e8",
   "metadata": {},
   "outputs": [],
   "source": [
    "using Random\n",
    "using DataFrames\n",
    "using CSV\n",
    "using Statistics\n",
    "using Printf\n",
    "using LinearAlgebra"
   ]
  },
  {
   "cell_type": "code",
   "execution_count": 2,
   "id": "1e1008a1",
   "metadata": {},
   "outputs": [
    {
     "data": {
      "text/plain": [
       "cost (generic function with 1 method)"
      ]
     },
     "execution_count": 2,
     "metadata": {},
     "output_type": "execute_result"
    }
   ],
   "source": [
    "struct Spud\n",
    "    name::String\n",
    "    h::Int64\n",
    "    f::Int64\n",
    "    l::Int64\n",
    "    p::Int64\n",
    "    r::Int64\n",
    "    s::Int64\n",
    "end\n",
    "\n",
    "const MXS = 100\n",
    "const MXV = 20\n",
    "const MNV = 1\n",
    "\n",
    "function cost(h::Int64, f::Int64, l::Int64, p::Int64, r::Int64, s::Int64)::Int64\n",
    "    #return h*(f+l-2*MNV) + f*(p+r+s-3*MNV) + h+f+l+p+r+s-6*MNV\n",
    "    return h*(f+l) + f*(p+r+s)\n",
    "end"
   ]
  },
  {
   "cell_type": "code",
   "execution_count": 3,
   "id": "ac830f74",
   "metadata": {},
   "outputs": [
    {
     "data": {
      "text/plain": [
       "eval_battle (generic function with 1 method)"
      ]
     },
     "execution_count": 3,
     "metadata": {},
     "output_type": "execute_result"
    }
   ],
   "source": [
    "function eval_battle(a::Spud, b::Spud)::Int\n",
    "    a_finds = a.f >= b.h\n",
    "    b_finds = b.f >= a.h\n",
    "    #score_a = 4 * (1000*a.p + a.l > 1000*b.p+b.l) + 3 * (1000*a.r+a.l > 1000*b.r+b.l) + 2 * (1000*a.s+a.l > 1000*b.s+b.l)\n",
    "    #score_b = 4 * (1000*a.p + a.l < 1000*b.p+b.l) + 3 * (1000*a.r+a.l < 1000*b.r+b.l) + 2 * (1000*a.s+a.l < 1000*b.s+b.l)\n",
    "    score_a = 4 * (a.p > b.p) + 3 * (a.r > b.r) + 2 * (a.s > b.s)\n",
    "    score_b = 4 * (a.p < b.p) + 3 * (a.r < b.r) + 2 * (a.s < b.s)\n",
    "    melee_win = sign(score_a - score_b)\n",
    "    if a_finds && b_finds\n",
    "        tiebreaker = 4 * melee_win + 2 * sign(a.l - b.l) + sign(a.h - b.h)\n",
    "        return sign(tiebreaker)\n",
    "    end\n",
    "    if a_finds && !b_finds\n",
    "        return 1\n",
    "    end\n",
    "    if !a_finds && b_finds\n",
    "        return -1\n",
    "    end\n",
    "    if !a_finds && !b_finds\n",
    "        tiebreaker = 4 * sign(a.l - b.l) + 2 * melee_win + sign(a.f - b.f)\n",
    "        return sign(tiebreaker)\n",
    "    end\n",
    "end\n"
   ]
  },
  {
   "cell_type": "code",
   "execution_count": 4,
   "id": "40b9dc47",
   "metadata": {},
   "outputs": [
    {
     "data": {
      "text/plain": [
       "random_name_and_stat (generic function with 1 method)"
      ]
     },
     "execution_count": 4,
     "metadata": {},
     "output_type": "execute_result"
    }
   ],
   "source": [
    "tab = CSV.read(\"census_yob2022_names.txt\", DataFrame, header = false)\n",
    "names = tab.Column1\n",
    "adjectives = CSV.read(\"adjectives.csv\", DataFrame)\n",
    "nouns = CSV.read(\"nouns.csv\", DataFrame)\n",
    "jobs = CSV.read(\"jobs.csv\", DataFrame)\n",
    "\n",
    "const mult_noun = 1\n",
    "const mult_adj = 2\n",
    "const mult_job = 3\n",
    "\n",
    "\n",
    "function random_name_and_stat()::Spud\n",
    "    vp = [0, 0, 0, 0, 0, 0]\n",
    "    #nametype = rand([1,1,1,1,1,2,2,2,3])\n",
    "    name = \"\"\n",
    "    noun = \"\"\n",
    "    adj = \"\"\n",
    "    noun_i = rand(1:nrow(nouns))\n",
    "    noun = nouns[noun_i, :noun]\n",
    "    vp[1] = vp[1] + nouns[noun_i, :H] * mult_noun\n",
    "    vp[2] = vp[2] + nouns[noun_i, :F] * mult_noun\n",
    "    vp[3] = vp[3] + nouns[noun_i, :L] * mult_noun\n",
    "    vp[4] = vp[4] + nouns[noun_i, :P] * mult_noun\n",
    "    vp[5] = vp[5] + nouns[noun_i, :R] * mult_noun\n",
    "    vp[6] = vp[6] + nouns[noun_i, :S] * mult_noun\n",
    "    adj_i = rand(1:nrow(adjectives))\n",
    "    adj = adjectives[adj_i, :adjective]\n",
    "    vp[1] = vp[1] + adjectives[adj_i, :H] * mult_adj\n",
    "    vp[2] = vp[2] + adjectives[adj_i, :F] * mult_adj\n",
    "    vp[3] = vp[3] + adjectives[adj_i, :L] * mult_adj\n",
    "    vp[4] = vp[4] + adjectives[adj_i, :P] * mult_adj\n",
    "    vp[5] = vp[5] + adjectives[adj_i, :R] * mult_adj\n",
    "    vp[6] = vp[6] + adjectives[adj_i, :S] * mult_adj\n",
    "    job_i = rand(1:nrow(jobs))\n",
    "    job = jobs[job_i, :job]\n",
    "    vp[1] = vp[1] + jobs[job_i, :H] * mult_job\n",
    "    vp[2] = vp[2] + jobs[job_i, :F] * mult_job\n",
    "    vp[3] = vp[3] + jobs[job_i, :L] * mult_job\n",
    "    vp[4] = vp[4] + jobs[job_i, :P] * mult_job\n",
    "    vp[5] = vp[5] + jobs[job_i, :R] * mult_job\n",
    "    vp[6] = vp[6] + jobs[job_i, :S] * mult_job\n",
    "    name = string(adj, \" \", job, \" \", noun)\n",
    "    Spud(name, vp[1], vp[2], vp[3], vp[4], vp[5], vp[6])\n",
    "end"
   ]
  },
  {
   "cell_type": "code",
   "execution_count": 5,
   "id": "f606e085",
   "metadata": {},
   "outputs": [
    {
     "data": {
      "text/plain": [
       "rand_rename (generic function with 2 methods)"
      ]
     },
     "execution_count": 5,
     "metadata": {},
     "output_type": "execute_result"
    }
   ],
   "source": [
    "function rand_rename(a::Spud, n_tries::Int = 100)::Spud\n",
    "    best_score = 0.0\n",
    "    best_b = random_name_and_stat()\n",
    "    for ii in 1:n_tries\n",
    "        b = random_name_and_stat()\n",
    "        b_norm = sqrt(b.h^2 + b.f^2 + b.l^2 + b.p^2 + b.r^2 + b.s^2)\n",
    "        score = (a.h * b.h + a.f * b.f + a.l * b.l + a.p * b.p + a.r * b.r + a.s * b.s)/b_norm\n",
    "        if score > best_score\n",
    "            best_score = score\n",
    "            best_b = b\n",
    "        end\n",
    "    end\n",
    "    return Spud(best_b.name, a.h, a.f, a.l, a.p, a.r, a.s)\n",
    "end"
   ]
  },
  {
   "cell_type": "code",
   "execution_count": 6,
   "id": "560e9539",
   "metadata": {},
   "outputs": [
    {
     "data": {
      "text/plain": [
       "random_team (generic function with 1 method)"
      ]
     },
     "execution_count": 6,
     "metadata": {},
     "output_type": "execute_result"
    }
   ],
   "source": [
    "function eval_battle_list(a::Spud, bs::Array{Spud})::Int\n",
    "    score = 0\n",
    "    for ii in 1:length(bs)\n",
    "        score = score + eval_battle(a, bs[ii])\n",
    "    end\n",
    "    return score\n",
    "end\n",
    "\n",
    "function eval_battle_list2(a::Spud, bs::Array{Spud}, w::Vector{Float64})::AbstractFloat\n",
    "    score = 0.0\n",
    "    for ii in 1:length(bs)\n",
    "        score = score + w[ii] * eval_battle(a, bs[ii])\n",
    "    end\n",
    "    return score\n",
    "end\n",
    "\n",
    "\n",
    "function pick_best(as::Array{Spud}, bs::Array{Spud})::Spud\n",
    "    bestscore = -999\n",
    "    bestf = as[1]\n",
    "    for ii in 1:length(as)\n",
    "        score = eval_battle_list(as[ii], bs)\n",
    "        if score > bestscore\n",
    "            bestscore = score\n",
    "            bestf = as[ii]\n",
    "        end\n",
    "    end\n",
    "    return bestf\n",
    "end\n",
    "\n",
    "function pick_best_rdmly(as::Array{Spud}, bs::Array{Spud}, ntries::Int)::Spud\n",
    "    bestscore = -999\n",
    "    bestf = rand(as)\n",
    "    for ii in 1:ntries\n",
    "        f = rand(as)\n",
    "        score = eval_battle_list(f, bs)\n",
    "        if score > bestscore\n",
    "            bestscore = score\n",
    "            bestf = f\n",
    "        end\n",
    "    end\n",
    "    return bestf\n",
    "end\n",
    "\n",
    "function pick_best_rdmly_g(g::Function, bs::Array{Spud}, ntries::Int)::Spud\n",
    "    bestscore = -999\n",
    "    bestf = g()\n",
    "    for ii in 1:ntries\n",
    "        f = g()\n",
    "        score = eval_battle_list(f, bs)\n",
    "        if score > bestscore\n",
    "            bestscore = score\n",
    "            bestf = f\n",
    "        end\n",
    "    end\n",
    "    return bestf\n",
    "end\n",
    "\n",
    "function spuds_to_df(as::Array{Spud})::DataFrame\n",
    "    names = Array{String}(undef, length(as))\n",
    "    hs = Array{Int}(undef, length(as))\n",
    "    fs = Array{Int}(undef, length(as))\n",
    "    ls = Array{Int}(undef, length(as))\n",
    "    ps = Array{Int}(undef, length(as))\n",
    "    rs = Array{Int}(undef, length(as))\n",
    "    ss = Array{Int}(undef, length(as))\n",
    "    for ii in 1:length(as)\n",
    "        names[ii] = as[ii].name\n",
    "        hs[ii] = as[ii].h\n",
    "        fs[ii] = as[ii].f\n",
    "        ls[ii] = as[ii].l\n",
    "        ps[ii] = as[ii].p\n",
    "        rs[ii] = as[ii].r\n",
    "        ss[ii] = as[ii].s\n",
    "    end\n",
    "    df = DataFrame(name = names, h = hs, f = fs, l = ls, p = ps, r = rs, s = ss)\n",
    "    return df\n",
    "end\n",
    "\n",
    "function fpart(x::AbstractFloat)::AbstractFloat\n",
    "  return x - trunc(x)\n",
    "end\n",
    "\n",
    "function eval_team_battle(as::Array{Spud}, bs::Array{Spud})::Int\n",
    "    a_i = 1\n",
    "    b_i = 1\n",
    "    while (a_i <= length(as)) && (b_i <= length(bs))\n",
    "        res = eval_battle(as[a_i], bs[b_i])\n",
    "        if res == 1\n",
    "            b_i = b_i + 1\n",
    "        else\n",
    "            a_i = a_i + 1\n",
    "            if res == 0\n",
    "                b_i = b_i + 1\n",
    "            end\n",
    "        end\n",
    "    end\n",
    "    a_out = (a_i > length(as))\n",
    "    b_out = (b_i > length(as))\n",
    "    if a_out\n",
    "        if b_out\n",
    "            return 0\n",
    "        else\n",
    "            return -1\n",
    "        end\n",
    "    else\n",
    "        return 1\n",
    "    end\n",
    "end\n",
    "\n",
    "function compare_generator(f1, f2, limit)\n",
    "    a_i = 1\n",
    "    b_i = 1\n",
    "    f_a = f1()\n",
    "    f_b = f2()\n",
    "    while (a_i < limit) && (b_i < limit)\n",
    "        res = eval_battle(f_a, f_b)\n",
    "        if res != -1\n",
    "            b_i = b_i + 1\n",
    "            f_b = f2()\n",
    "        end\n",
    "        if res != 1\n",
    "            a_i = a_i + 1\n",
    "            f_a = f1()\n",
    "        end\n",
    "    end\n",
    "    return (a_i/limit, b_i/limit)\n",
    "end\n",
    "\n",
    "function random_team(f::Function, team_size::Int)::Array{Spud}\n",
    "    team = Array{Spud}(undef, team_size)\n",
    "    for i in 1:team_size\n",
    "        team[i] = f()\n",
    "    end\n",
    "    return team\n",
    "end"
   ]
  },
  {
   "cell_type": "code",
   "execution_count": 7,
   "id": "bd2b243d",
   "metadata": {},
   "outputs": [
    {
     "data": {
      "text/plain": [
       "pick_best_library (generic function with 1 method)"
      ]
     },
     "execution_count": 7,
     "metadata": {},
     "output_type": "execute_result"
    }
   ],
   "source": [
    "function upgrade_spud(sp::Spud)::Spud\n",
    "    h = sp.h\n",
    "    f = sp.f\n",
    "    l = sp.l\n",
    "    p = sp.p\n",
    "    r = sp.r\n",
    "    s = sp.s    \n",
    "    check_h = (f == MXV) || (cost(h,f+1,l,p,r,s) > MXS)\n",
    "    check_f = (h == MXV) || (cost(h+1,f,l,p,r,s) > MXS)\n",
    "    check_l = (l == MXV) || (cost(h,f,l+1,p,r,s) > MXS)\n",
    "    check_prs = (p+r+s == 3*MXV) || (cost(h,f,l,p+1,r,s) > MXS)\n",
    "    while !(check_h && check_f && check_l && check_prs)\n",
    "        rand_i = rand(1:4)\n",
    "        if rand_i == 1 && !check_h\n",
    "            h = h+1\n",
    "        end\n",
    "        if rand_i == 2 && !check_f\n",
    "            f = f+1\n",
    "        end\n",
    "        if rand_i == 3 && !check_l\n",
    "            l = l+1\n",
    "        end\n",
    "        if rand_i == 4 && !check_prs\n",
    "            rand_j = rand([1,1,1,1,1,2,2,2,2,3,3,3])\n",
    "            if rand_j == 1 && p <= MXV\n",
    "                p += 1\n",
    "            end\n",
    "            if rand_j == 2 && r <= MXV\n",
    "                r += 1\n",
    "            end\n",
    "            if rand_j == 3 && s <= MXV\n",
    "                s += 1\n",
    "            end\n",
    "        end            \n",
    "        check_h = (f == MXV) || (cost(h,f+1,l,p,r,s) > MXS)\n",
    "        check_f = (h == MXV) || (cost(h+1,f,l,p,r,s) > MXS)\n",
    "        check_l = (l == MXV) || (cost(h,f,l+1,p,r,s) > MXS)\n",
    "        check_prs = (p+r+s == 3*MXV) || (cost(h,f,l,p+1,r,s) > MXS)\n",
    "    end\n",
    "    return Spud(sp.name, h, f, l, p, r, s)\n",
    "end\n",
    "\n",
    "\n",
    "\n",
    "function pick_best_library(bs::Array{Spud})::Spud\n",
    "    bestscore = -999\n",
    "    bestf = Spud(\"\",MNV,MNV,MNV,MNV,MNV,MNV)\n",
    "    df = spuds_to_df(bs)\n",
    "    hrange = vcat([MNV], df.h, df.h .+ 1, df.f, df.f .+ 1)\n",
    "    frange = vcat([MNV], df.f, df.f .+ 1, df.h, df.h .+ 1)\n",
    "    lrange = vcat([MNV], df.l, df.l .+ 1)\n",
    "    prange = vcat([MNV], df.p, df.p .+ 1)\n",
    "    rrange = vcat([MNV], df.r, df.r .+ 1)\n",
    "    srange = vcat([MNV], df.s, df.s .+ 1)\n",
    "    hrange = sort(unique(hrange))\n",
    "    frange = sort(unique(frange))\n",
    "    lrange = sort(unique(lrange))\n",
    "    prange = sort(unique(prange))\n",
    "    rrange = sort(unique(rrange))\n",
    "    srange = sort(unique(srange))\n",
    "    for h in hrange\n",
    "        if (cost(h, MNV, MNV, MNV, MNV, MNV) <= MXS)\n",
    "            for f in frange\n",
    "                if (cost(h, f, MNV, MNV, MNV, MNV) <= MXS)\n",
    "                    for l in lrange\n",
    "                        if (cost(h, f, l, MNV, MNV, MNV) <= MXS)\n",
    "                            for p in prange\n",
    "                                if (cost(h, f, l, p, MNV, MNV) <= MXS)\n",
    "                                    for r in rrange\n",
    "                                        if (cost(h, f, l, p, r, MNV) <= MXS)\n",
    "                                            for s in srange\n",
    "                                                if (cost(h,f,l,p,r,s) <= MXS)\n",
    "                                                    ff = Spud(\"\",h,f,l,p,r,s)\n",
    "                                                    score = eval_battle_list(ff, bs)\n",
    "                                                    if score > bestscore\n",
    "                                                        bestscore = score\n",
    "                                                        bestf = ff\n",
    "                                                    end\n",
    "                                                end\n",
    "                                            end\n",
    "                                        end\n",
    "                                    end                        \n",
    "                                end\n",
    "                            end                        \n",
    "                        end\n",
    "                    end\n",
    "                end\n",
    "            end\n",
    "        end\n",
    "    end\n",
    "    return upgrade_spud(bestf)\n",
    "end\n",
    "\n"
   ]
  },
  {
   "cell_type": "code",
   "execution_count": 8,
   "id": "2d640dee",
   "metadata": {},
   "outputs": [
    {
     "data": {
      "text/plain": [
       "pick_ok_counter (generic function with 1 method)"
      ]
     },
     "execution_count": 8,
     "metadata": {},
     "output_type": "execute_result"
    }
   ],
   "source": [
    "function pick_ok_counter(bs::Array{Spud})::Spud\n",
    "    bestscore = -999\n",
    "    bestf = Spud(\"\",MNV,MNV,MNV,MNV,MNV,MNV)\n",
    "    df = spuds_to_df(bs)\n",
    "    hrange = vcat([MNV], df.f .+ 1)\n",
    "    frange = vcat([MNV], df.h .+ 1)\n",
    "    lrange = vcat([MNV], df.l .+ 1)\n",
    "    prange = vcat([MNV], df.p .+ 1)\n",
    "    rrange = vcat([MNV], df.r .+ 1)\n",
    "    srange = vcat([MNV], df.s .+ 1)\n",
    "    hrange = sort(unique(hrange))\n",
    "    frange = sort(unique(frange))\n",
    "    lrange = sort(unique(lrange))\n",
    "    prange = sort(unique(prange))\n",
    "    rrange = sort(unique(rrange))\n",
    "    srange = sort(unique(srange))\n",
    "    for h in hrange\n",
    "        if (cost(h, MNV, MNV, MNV, MNV, MNV) <= MXS)\n",
    "            for f in frange\n",
    "                if (cost(h, f, MNV, MNV, MNV, MNV) <= MXS)\n",
    "                    for l in lrange\n",
    "                        if (cost(h, f, l, MNV, MNV, MNV) <= MXS)\n",
    "                            for p in prange\n",
    "                                if (cost(h, f, l, p, MNV, MNV) <= MXS)\n",
    "                                    for r in rrange\n",
    "                                        if (cost(h, f, l, p, r, MNV) <= MXS)\n",
    "                                            for s in srange\n",
    "                                                if (cost(h,f,l,p,r,s) <= MXS)\n",
    "                                                    ff = Spud(\"\",h,f,l,p,r,s)\n",
    "                                                    score = eval_battle_list(ff, bs)\n",
    "                                                    if score > bestscore\n",
    "                                                        bestscore = score\n",
    "                                                        bestf = ff\n",
    "                                                    end\n",
    "                                                end\n",
    "                                            end\n",
    "                                        end\n",
    "                                    end                        \n",
    "                                end\n",
    "                            end                        \n",
    "                        end\n",
    "                    end\n",
    "                end\n",
    "            end\n",
    "        end\n",
    "    end\n",
    "    return upgrade_spud(bestf)\n",
    "end\n"
   ]
  },
  {
   "cell_type": "code",
   "execution_count": 9,
   "id": "7b4f703b",
   "metadata": {},
   "outputs": [
    {
     "data": {
      "text/plain": [
       "pick_best_library2 (generic function with 1 method)"
      ]
     },
     "execution_count": 9,
     "metadata": {},
     "output_type": "execute_result"
    }
   ],
   "source": [
    "function pick_best_library2(bs::Array{Spud}, w::Vector{Float64})::Spud\n",
    "    bestscore = -999.9\n",
    "    bestf = Spud(\"\",MNV,MNV,MNV,MNV,MNV,MNV)\n",
    "    df = spuds_to_df(bs)\n",
    "    hrange = vcat([MNV], df.h, df.h .+ 1, df.f, df.f .+ 1)\n",
    "    frange = vcat([MNV], df.f, df.f .+ 1, df.h, df.h .+ 1)\n",
    "    lrange = vcat([MNV], df.l, df.l .+ 1)\n",
    "    prange = vcat([MNV], df.p, df.p .+ 1)\n",
    "    rrange = vcat([MNV], df.r, df.r .+ 1)\n",
    "    srange = vcat([MNV], df.s, df.s .+ 1)\n",
    "    hrange = sort(unique(hrange))\n",
    "    frange = sort(unique(frange))\n",
    "    lrange = sort(unique(lrange))\n",
    "    prange = sort(unique(prange))\n",
    "    rrange = sort(unique(rrange))\n",
    "    srange = sort(unique(srange))\n",
    "    for h in hrange\n",
    "        if (cost(h, MNV, MNV, MNV, MNV, MNV) <= MXS)\n",
    "            for f in frange\n",
    "                if (cost(h, f, MNV, MNV, MNV, MNV) <= MXS)\n",
    "                    for l in lrange\n",
    "                        if (cost(h, f, l, MNV, MNV, MNV) <= MXS)\n",
    "                            for p in prange\n",
    "                                if (cost(h, f, l, p, MNV, MNV) <= MXS)\n",
    "                                    for r in rrange\n",
    "                                        if (cost(h, f, l, p, r, MNV) <= MXS)\n",
    "                                            for s in srange\n",
    "                                                if (cost(h,f,l,p,r,s) <= MXS)\n",
    "                                                    ff = Spud(\"\",h,f,l,p,r,s)\n",
    "                                                    score = eval_battle_list2(ff, bs, w) + 0.001 * rand()\n",
    "                                                    if score > bestscore\n",
    "                                                        bestscore = score\n",
    "                                                        bestf = ff\n",
    "                                                    end\n",
    "                                                end\n",
    "                                            end\n",
    "                                        end\n",
    "                                    end                        \n",
    "                                end\n",
    "                            end                        \n",
    "                        end\n",
    "                    end\n",
    "                end\n",
    "            end\n",
    "        end\n",
    "    end\n",
    "    return upgrade_spud(bestf)\n",
    "end"
   ]
  },
  {
   "cell_type": "code",
   "execution_count": 10,
   "id": "79126a50",
   "metadata": {},
   "outputs": [
    {
     "data": {
      "text/plain": [
       "subset_library (generic function with 1 method)"
      ]
     },
     "execution_count": 10,
     "metadata": {},
     "output_type": "execute_result"
    }
   ],
   "source": [
    "function subset_library(bs::Array{Spud}, n_hits::Int, w::Vector{Float64}, thres::Float64)::Array{Spud}\n",
    "    bestf = Array{Spud}(undef, n_hits)\n",
    "    spud_i = 0\n",
    "    df = spuds_to_df(bs)\n",
    "    hrange = vcat([MNV], df.h, df.h .+ 1, df.f, df.f .+ 1)\n",
    "    frange = vcat([MNV], df.f, df.f .+ 1, df.h, df.h .+ 1)\n",
    "    lrange = vcat([MNV], df.l, df.l .+ 1)\n",
    "    prange = vcat([MNV], df.p, df.p .+ 1)\n",
    "    rrange = vcat([MNV], df.r, df.r .+ 1)\n",
    "    srange = vcat([MNV], df.s, df.s .+ 1)\n",
    "    hrange = sort(unique(hrange))\n",
    "    frange = sort(unique(frange))\n",
    "    lrange = sort(unique(lrange))\n",
    "    prange = sort(unique(prange))\n",
    "    rrange = sort(unique(rrange))\n",
    "    srange = sort(unique(srange))\n",
    "    for h in hrange\n",
    "        if (cost(h, MNV, MNV, MNV, MNV, MNV) <= MXS)\n",
    "            for f in frange\n",
    "                if (cost(h, f, MNV, MNV, MNV, MNV) <= MXS)\n",
    "                    for l in lrange\n",
    "                        if (cost(h, f, l, MNV, MNV, MNV) <= MXS)\n",
    "                            for p in prange\n",
    "                                if (cost(h, f, l, p, MNV, MNV) <= MXS)\n",
    "                                    for r in rrange\n",
    "                                        if (cost(h, f, l, p, r, MNV) <= MXS)\n",
    "                                            for s in srange\n",
    "                                                if (cost(h,f,l,p,r,s) <= MXS)\n",
    "                                                    ff = Spud(\"\",h,f,l,p,r,s)\n",
    "                                                    score = eval_battle_list2(ff, bs, w)\n",
    "                                                    if score >= thres && spud_i < n_hits\n",
    "                                                        spud_i += 1\n",
    "                                                        bestf[spud_i] = upgrade_spud(ff)\n",
    "                                                    end\n",
    "                                                end\n",
    "                                            end\n",
    "                                        end\n",
    "                                    end                        \n",
    "                                end\n",
    "                            end                        \n",
    "                        end\n",
    "                    end\n",
    "                end\n",
    "            end\n",
    "        end\n",
    "    end\n",
    "    return unique(bestf[1:spud_i])\n",
    "end"
   ]
  },
  {
   "cell_type": "code",
   "execution_count": 11,
   "id": "8534b5bb",
   "metadata": {},
   "outputs": [
    {
     "data": {
      "text/plain": [
       "0.01"
      ]
     },
     "execution_count": 11,
     "metadata": {},
     "output_type": "execute_result"
    }
   ],
   "source": [
    "# form initial library by subsampling indices\n",
    "library = Array{Spud}(undef, 1000)\n",
    "spud_i = 0\n",
    "ss_prob = 0.01"
   ]
  },
  {
   "cell_type": "code",
   "execution_count": 12,
   "id": "3febb950",
   "metadata": {},
   "outputs": [],
   "source": [
    "\n",
    "hrange = MNV:MXV\n",
    "frange = MNV:MXV\n",
    "lrange = MNV:MXV\n",
    "prange = MNV:MXV\n",
    "rrange = MNV:MXV\n",
    "srange = MNV:MXV\n",
    "\n",
    "for h in hrange\n",
    "    if (cost(h, MXV, MXV, MXV, MXV, MXV) >= MXS) && (cost(h, MNV, MNV, MNV, MNV, MNV) <= MXS)\n",
    "        for f in frange\n",
    "            if (cost(h, f, MXV, MXV, MXV, MXV) >= MXS) && (cost(h, f, MNV, MNV, MNV, MNV) <= MXS)\n",
    "                for l in lrange\n",
    "                    if (cost(h, f, l, MXV, MXV, MXV) >= MXS) && (cost(h, f, l, MNV, MNV, MNV) <= MXS)\n",
    "                        for p in prange\n",
    "                            if (cost(h, f, l, p, MXV, MXV) >= MXS) && (cost(h, f, l, p, MNV, MNV) <= MXS)\n",
    "                                for r in rrange\n",
    "                                    if (cost(h, f, l, p, r, MXV) >= MXS) && (cost(h, f, l, p, r, MNV) <= MXS)\n",
    "                                        for s in srange\n",
    "                                            if rand() < ss_prob && (cost(h,f,l,p,r,s) <= MXS)\n",
    "                                                check_f = (h == MXV) || (cost(h+1,f,l,p,r,s) > MXS)\n",
    "                                                check_h = (f == MXV) || (cost(h,f+1,l,p,r,s) > MXS)\n",
    "                                                check_l = (l == MXV) || (cost(h,f,l+1,p,r,s) > MXS)\n",
    "                                                check_prs = (p+r+s == 3*MXV) || (cost(h,f,l,p+1,r,s) > MXS)\n",
    "                                                if check_h && check_f && check_l && check_prs\n",
    "                                                    spud_i += 1\n",
    "                                                    #randname = rand_rename(Spud(\" \",h,f,l,p,r,s)).name\n",
    "                                                    #name = string(\"#\", @sprintf(\"%i\", spud_i), \". \", randname)\n",
    "                                                    name = \"\"\n",
    "                                                    library[spud_i] = Spud(name,h,f,l,p,r,s)\n",
    "                                                end\n",
    "                                            end\n",
    "                                        end\n",
    "                                    end\n",
    "                                end                        \n",
    "                            end\n",
    "                        end                        \n",
    "                    end\n",
    "                end\n",
    "            end\n",
    "        end\n",
    "    end\n",
    "end\n"
   ]
  },
  {
   "cell_type": "code",
   "execution_count": 13,
   "id": "9bbe4ff4",
   "metadata": {},
   "outputs": [
    {
     "data": {
      "text/plain": [
       "789"
      ]
     },
     "execution_count": 13,
     "metadata": {},
     "output_type": "execute_result"
    }
   ],
   "source": [
    "library = unique(library[1:spud_i])\n",
    "n_spuds = length(library)"
   ]
  },
  {
   "cell_type": "code",
   "execution_count": 14,
   "id": "2a078723",
   "metadata": {},
   "outputs": [],
   "source": [
    "# for i in 1:n_spuds\n",
    "#     ff = library[i]\n",
    "#     randname = rand_rename(ff).name\n",
    "#     name = string(\"#\", @sprintf(\"%i\", i), \". \", randname)\n",
    "#     library[i] = Spud(name,ff.h,ff.f,ff.l,ff.p,ff.r,ff.s)\n",
    "# end\n",
    "# id_no = Dict(library[i] => i for i in 1:n_spuds)"
   ]
  },
  {
   "cell_type": "code",
   "execution_count": 15,
   "id": "52daa014",
   "metadata": {},
   "outputs": [],
   "source": [
    "# Check that there are no ties in spudland\n",
    "for iter in 1:10000\n",
    "    i = rand(1:n_spuds)\n",
    "    j = rand(1:n_spuds)\n",
    "    if i != j && eval_battle(library[i], library[j]) == 0\n",
    "        println(library[i])\n",
    "        println(library[j])\n",
    "        println()\n",
    "    end\n",
    "end"
   ]
  },
  {
   "cell_type": "markdown",
   "id": "4873490e",
   "metadata": {},
   "source": [
    "## Compute Nash env"
   ]
  },
  {
   "cell_type": "code",
   "execution_count": 16,
   "id": "010f3c57",
   "metadata": {},
   "outputs": [
    {
     "data": {
      "text/plain": [
       "ffp (generic function with 1 method)"
      ]
     },
     "execution_count": 16,
     "metadata": {},
     "output_type": "execute_result"
    }
   ],
   "source": [
    "function ffp(nash_env, nits)\n",
    "    n_nash = length(nash_env)\n",
    "    i_lose = Array{Int}(undef, (n_nash, n_nash))\n",
    "    n_lose = Array{Int}(undef, n_nash)\n",
    "    for i in 1:n_nash\n",
    "        n_lose[i] = 0\n",
    "        ff = nash_env[i]\n",
    "        for j in 1:n_nash\n",
    "            if eval_battle(ff, nash_env[j]) ==-1\n",
    "                n_lose[i] += 1\n",
    "                i_lose[i, n_lose[i]] = j\n",
    "            end\n",
    "        end\n",
    "    end\n",
    "    counts = [0 for i in 1:n_nash]\n",
    "    wins = [0 for i in 1:n_nash]\n",
    "    for i in 1:n_nash\n",
    "        counts[i] += 1\n",
    "        for j in 1:n_lose[i]\n",
    "            i_w = i_lose[i, j]\n",
    "            wins[i_w]+= 1\n",
    "        end\n",
    "    end\n",
    "    for iter in 1:nits\n",
    "        ind_winners = findall(wins .== maximum(wins))\n",
    "        i = rand(ind_winners)\n",
    "        counts[i] += 1\n",
    "        for j in 1:n_lose[i]\n",
    "            i_w = i_lose[i, j]\n",
    "            wins[i_w]+= 1\n",
    "        end\n",
    "    end\n",
    "    return counts\n",
    "end\n"
   ]
  },
  {
   "cell_type": "code",
   "execution_count": 17,
   "id": "4021dd90",
   "metadata": {},
   "outputs": [
    {
     "data": {
      "text/html": [
       "<div><div style = \"float: left;\"><span>789×7 DataFrame</span></div><div style = \"float: right;\"><span style = \"font-style: italic;\">764 rows omitted</span></div><div style = \"clear: both;\"></div></div><div class = \"data-frame\" style = \"overflow-x: scroll;\"><table class = \"data-frame\" style = \"margin-bottom: 6px;\"><thead><tr class = \"header\"><th class = \"rowNumber\" style = \"font-weight: bold; text-align: right;\">Row</th><th style = \"text-align: left;\">name</th><th style = \"text-align: left;\">h</th><th style = \"text-align: left;\">f</th><th style = \"text-align: left;\">l</th><th style = \"text-align: left;\">p</th><th style = \"text-align: left;\">r</th><th style = \"text-align: left;\">s</th></tr><tr class = \"subheader headerLastRow\"><th class = \"rowNumber\" style = \"font-weight: bold; text-align: right;\"></th><th title = \"String\" style = \"text-align: left;\">String</th><th title = \"Int64\" style = \"text-align: left;\">Int64</th><th title = \"Int64\" style = \"text-align: left;\">Int64</th><th title = \"Int64\" style = \"text-align: left;\">Int64</th><th title = \"Int64\" style = \"text-align: left;\">Int64</th><th title = \"Int64\" style = \"text-align: left;\">Int64</th><th title = \"Int64\" style = \"text-align: left;\">Int64</th></tr></thead><tbody><tr><td class = \"rowNumber\" style = \"font-weight: bold; text-align: right;\">1</td><td style = \"text-align: left;\">Detail-oriented Watchmaker Rewena bread</td><td style = \"text-align: right;\">1</td><td style = \"text-align: right;\">2</td><td style = \"text-align: right;\">2</td><td style = \"text-align: right;\">13</td><td style = \"text-align: right;\">18</td><td style = \"text-align: right;\">17</td></tr><tr><td class = \"rowNumber\" style = \"font-weight: bold; text-align: right;\">2</td><td style = \"text-align: left;\">Patient Software developer Aligot</td><td style = \"text-align: right;\">1</td><td style = \"text-align: right;\">2</td><td style = \"text-align: right;\">2</td><td style = \"text-align: right;\">17</td><td style = \"text-align: right;\">13</td><td style = \"text-align: right;\">18</td></tr><tr><td class = \"rowNumber\" style = \"font-weight: bold; text-align: right;\">3</td><td style = \"text-align: left;\">Inventive Etymologist Gnocchi</td><td style = \"text-align: right;\">1</td><td style = \"text-align: right;\">2</td><td style = \"text-align: right;\">6</td><td style = \"text-align: right;\">19</td><td style = \"text-align: right;\">18</td><td style = \"text-align: right;\">9</td></tr><tr><td class = \"rowNumber\" style = \"font-weight: bold; text-align: right;\">4</td><td style = \"text-align: left;\">Influential Software developer Papas chorreadas</td><td style = \"text-align: right;\">1</td><td style = \"text-align: right;\">2</td><td style = \"text-align: right;\">10</td><td style = \"text-align: right;\">5</td><td style = \"text-align: right;\">19</td><td style = \"text-align: right;\">20</td></tr><tr><td class = \"rowNumber\" style = \"font-weight: bold; text-align: right;\">5</td><td style = \"text-align: left;\">Motivated Actuary Rewena bread</td><td style = \"text-align: right;\">1</td><td style = \"text-align: right;\">2</td><td style = \"text-align: right;\">12</td><td style = \"text-align: right;\">7</td><td style = \"text-align: right;\">20</td><td style = \"text-align: right;\">16</td></tr><tr><td class = \"rowNumber\" style = \"font-weight: bold; text-align: right;\">6</td><td style = \"text-align: left;\">Quick-thinking Paleontologist Batata vada</td><td style = \"text-align: right;\">1</td><td style = \"text-align: right;\">2</td><td style = \"text-align: right;\">12</td><td style = \"text-align: right;\">16</td><td style = \"text-align: right;\">19</td><td style = \"text-align: right;\">8</td></tr><tr><td class = \"rowNumber\" style = \"font-weight: bold; text-align: right;\">7</td><td style = \"text-align: left;\">Spellbound System designer Rappie pie</td><td style = \"text-align: right;\">1</td><td style = \"text-align: right;\">2</td><td style = \"text-align: right;\">12</td><td style = \"text-align: right;\">18</td><td style = \"text-align: right;\">9</td><td style = \"text-align: right;\">16</td></tr><tr><td class = \"rowNumber\" style = \"font-weight: bold; text-align: right;\">8</td><td style = \"text-align: left;\">Fair Magnate Batata vada</td><td style = \"text-align: right;\">1</td><td style = \"text-align: right;\">2</td><td style = \"text-align: right;\">16</td><td style = \"text-align: right;\">15</td><td style = \"text-align: right;\">11</td><td style = \"text-align: right;\">15</td></tr><tr><td class = \"rowNumber\" style = \"font-weight: bold; text-align: right;\">9</td><td style = \"text-align: left;\">Productive Real estate investor Meat and potato pie</td><td style = \"text-align: right;\">1</td><td style = \"text-align: right;\">2</td><td style = \"text-align: right;\">16</td><td style = \"text-align: right;\">15</td><td style = \"text-align: right;\">17</td><td style = \"text-align: right;\">9</td></tr><tr><td class = \"rowNumber\" style = \"font-weight: bold; text-align: right;\">10</td><td style = \"text-align: left;\">Evocative Investment broker Tashmijab</td><td style = \"text-align: right;\">1</td><td style = \"text-align: right;\">2</td><td style = \"text-align: right;\">16</td><td style = \"text-align: right;\">18</td><td style = \"text-align: right;\">14</td><td style = \"text-align: right;\">9</td></tr><tr><td class = \"rowNumber\" style = \"font-weight: bold; text-align: right;\">11</td><td style = \"text-align: left;\">Sweet Contractor- general Okroshka</td><td style = \"text-align: right;\">1</td><td style = \"text-align: right;\">2</td><td style = \"text-align: right;\">16</td><td style = \"text-align: right;\">19</td><td style = \"text-align: right;\">8</td><td style = \"text-align: right;\">14</td></tr><tr><td class = \"rowNumber\" style = \"font-weight: bold; text-align: right;\">12</td><td style = \"text-align: left;\">Superficial Real estate investor Pommes Anna</td><td style = \"text-align: right;\">1</td><td style = \"text-align: right;\">2</td><td style = \"text-align: right;\">18</td><td style = \"text-align: right;\">14</td><td style = \"text-align: right;\">13</td><td style = \"text-align: right;\">13</td></tr><tr><td class = \"rowNumber\" style = \"font-weight: bold; text-align: right;\">13</td><td style = \"text-align: left;\">Winsome Magnate Aligot</td><td style = \"text-align: right;\">1</td><td style = \"text-align: right;\">2</td><td style = \"text-align: right;\">18</td><td style = \"text-align: right;\">16</td><td style = \"text-align: right;\">11</td><td style = \"text-align: right;\">13</td></tr><tr><td style = \"text-align: right;\">&vellip;</td><td style = \"text-align: right;\">&vellip;</td><td style = \"text-align: right;\">&vellip;</td><td style = \"text-align: right;\">&vellip;</td><td style = \"text-align: right;\">&vellip;</td><td style = \"text-align: right;\">&vellip;</td><td style = \"text-align: right;\">&vellip;</td><td style = \"text-align: right;\">&vellip;</td></tr><tr><td class = \"rowNumber\" style = \"font-weight: bold; text-align: right;\">778</td><td style = \"text-align: left;\">Steely Terminator Maluns</td><td style = \"text-align: right;\">19</td><td style = \"text-align: right;\">2</td><td style = \"text-align: right;\">1</td><td style = \"text-align: right;\">6</td><td style = \"text-align: right;\">7</td><td style = \"text-align: right;\">8</td></tr><tr><td class = \"rowNumber\" style = \"font-weight: bold; text-align: right;\">779</td><td style = \"text-align: left;\">Cool Terminator Clapshot</td><td style = \"text-align: right;\">19</td><td style = \"text-align: right;\">2</td><td style = \"text-align: right;\">1</td><td style = \"text-align: right;\">7</td><td style = \"text-align: right;\">3</td><td style = \"text-align: right;\">11</td></tr><tr><td class = \"rowNumber\" style = \"font-weight: bold; text-align: right;\">780</td><td style = \"text-align: left;\">Withdrawn Gunsmith Rewena bread</td><td style = \"text-align: right;\">19</td><td style = \"text-align: right;\">2</td><td style = \"text-align: right;\">1</td><td style = \"text-align: right;\">7</td><td style = \"text-align: right;\">5</td><td style = \"text-align: right;\">9</td></tr><tr><td class = \"rowNumber\" style = \"font-weight: bold; text-align: right;\">781</td><td style = \"text-align: left;\">Intense Author Gnocchi</td><td style = \"text-align: right;\">19</td><td style = \"text-align: right;\">2</td><td style = \"text-align: right;\">1</td><td style = \"text-align: right;\">11</td><td style = \"text-align: right;\">1</td><td style = \"text-align: right;\">9</td></tr><tr><td class = \"rowNumber\" style = \"font-weight: bold; text-align: right;\">782</td><td style = \"text-align: left;\">Unperceptive Level designer (also Mapper) Älplermagronen</td><td style = \"text-align: right;\">19</td><td style = \"text-align: right;\">2</td><td style = \"text-align: right;\">1</td><td style = \"text-align: right;\">15</td><td style = \"text-align: right;\">4</td><td style = \"text-align: right;\">2</td></tr><tr><td class = \"rowNumber\" style = \"font-weight: bold; text-align: right;\">783</td><td style = \"text-align: left;\">Phlegmatic Technician Gnocchi</td><td style = \"text-align: right;\">19</td><td style = \"text-align: right;\">2</td><td style = \"text-align: right;\">2</td><td style = \"text-align: right;\">2</td><td style = \"text-align: right;\">2</td><td style = \"text-align: right;\">8</td></tr><tr><td class = \"rowNumber\" style = \"font-weight: bold; text-align: right;\">784</td><td style = \"text-align: left;\">Unrefined Technician Brændende kærlighed</td><td style = \"text-align: right;\">20</td><td style = \"text-align: right;\">1</td><td style = \"text-align: right;\">2</td><td style = \"text-align: right;\">5</td><td style = \"text-align: right;\">15</td><td style = \"text-align: right;\">20</td></tr><tr><td class = \"rowNumber\" style = \"font-weight: bold; text-align: right;\">785</td><td style = \"text-align: left;\">Conversant Prosecutor Gnocchi</td><td style = \"text-align: right;\">20</td><td style = \"text-align: right;\">1</td><td style = \"text-align: right;\">2</td><td style = \"text-align: right;\">18</td><td style = \"text-align: right;\">16</td><td style = \"text-align: right;\">6</td></tr><tr><td class = \"rowNumber\" style = \"font-weight: bold; text-align: right;\">786</td><td style = \"text-align: left;\">Transparent Gunsmith Funeral potatoes</td><td style = \"text-align: right;\">20</td><td style = \"text-align: right;\">1</td><td style = \"text-align: right;\">2</td><td style = \"text-align: right;\">19</td><td style = \"text-align: right;\">5</td><td style = \"text-align: right;\">16</td></tr><tr><td class = \"rowNumber\" style = \"font-weight: bold; text-align: right;\">787</td><td style = \"text-align: left;\">Stylish Technician Gnocchi</td><td style = \"text-align: right;\">20</td><td style = \"text-align: right;\">2</td><td style = \"text-align: right;\">1</td><td style = \"text-align: right;\">1</td><td style = \"text-align: right;\">11</td><td style = \"text-align: right;\">8</td></tr><tr><td class = \"rowNumber\" style = \"font-weight: bold; text-align: right;\">788</td><td style = \"text-align: left;\">Unthoughtful Organizer Ajiaco</td><td style = \"text-align: right;\">20</td><td style = \"text-align: right;\">2</td><td style = \"text-align: right;\">1</td><td style = \"text-align: right;\">1</td><td style = \"text-align: right;\">12</td><td style = \"text-align: right;\">7</td></tr><tr><td class = \"rowNumber\" style = \"font-weight: bold; text-align: right;\">789</td><td style = \"text-align: left;\">Sharp Level designer (also Mapper) Aligot</td><td style = \"text-align: right;\">20</td><td style = \"text-align: right;\">2</td><td style = \"text-align: right;\">1</td><td style = \"text-align: right;\">8</td><td style = \"text-align: right;\">7</td><td style = \"text-align: right;\">5</td></tr></tbody></table></div>"
      ],
      "text/latex": [
       "\\begin{tabular}{r|cccccc}\n",
       "\t& name & h & f & l & p & \\\\\n",
       "\t\\hline\n",
       "\t& String & Int64 & Int64 & Int64 & Int64 & \\\\\n",
       "\t\\hline\n",
       "\t1 & Detail-oriented Watchmaker Rewena bread & 1 & 2 & 2 & 13 & $\\dots$ \\\\\n",
       "\t2 & Patient Software developer Aligot & 1 & 2 & 2 & 17 & $\\dots$ \\\\\n",
       "\t3 & Inventive Etymologist Gnocchi & 1 & 2 & 6 & 19 & $\\dots$ \\\\\n",
       "\t4 & Influential Software developer Papas chorreadas & 1 & 2 & 10 & 5 & $\\dots$ \\\\\n",
       "\t5 & Motivated Actuary Rewena bread & 1 & 2 & 12 & 7 & $\\dots$ \\\\\n",
       "\t6 & Quick-thinking Paleontologist Batata vada & 1 & 2 & 12 & 16 & $\\dots$ \\\\\n",
       "\t7 & Spellbound System designer Rappie pie & 1 & 2 & 12 & 18 & $\\dots$ \\\\\n",
       "\t8 & Fair Magnate Batata vada & 1 & 2 & 16 & 15 & $\\dots$ \\\\\n",
       "\t9 & Productive Real estate investor Meat and potato pie & 1 & 2 & 16 & 15 & $\\dots$ \\\\\n",
       "\t10 & Evocative Investment broker Tashmijab & 1 & 2 & 16 & 18 & $\\dots$ \\\\\n",
       "\t11 & Sweet Contractor- general Okroshka & 1 & 2 & 16 & 19 & $\\dots$ \\\\\n",
       "\t12 & Superficial Real estate investor Pommes Anna & 1 & 2 & 18 & 14 & $\\dots$ \\\\\n",
       "\t13 & Winsome Magnate Aligot & 1 & 2 & 18 & 16 & $\\dots$ \\\\\n",
       "\t14 & Articulate Percussionist Meat and potato pie & 1 & 2 & 20 & 20 & $\\dots$ \\\\\n",
       "\t15 & Enraptured System designer Älplermagronen & 1 & 3 & 1 & 2 & $\\dots$ \\\\\n",
       "\t16 & Inquisitive Technical engineer Rappie pie & 1 & 3 & 1 & 8 & $\\dots$ \\\\\n",
       "\t17 & Resolute Laborer Cacasse à cul nu & 1 & 3 & 4 & 15 & $\\dots$ \\\\\n",
       "\t18 & Thoughtless Software developer Pitepalt & 1 & 3 & 7 & 3 & $\\dots$ \\\\\n",
       "\t19 & Articulate Etymologist Nikujaga & 1 & 3 & 7 & 14 & $\\dots$ \\\\\n",
       "\t20 & Exquisite Lumberjack Tartiflette & 1 & 3 & 7 & 15 & $\\dots$ \\\\\n",
       "\t21 & Skillful Real estate investor Älplermagronen & 1 & 3 & 10 & 4 & $\\dots$ \\\\\n",
       "\t22 & Zealous Automobile racer Pitepalt & 1 & 3 & 10 & 17 & $\\dots$ \\\\\n",
       "\t23 & Committed Magnate Stoemp & 1 & 3 & 13 & 1 & $\\dots$ \\\\\n",
       "\t24 & Tenacious Software developer Älplermagronen & 1 & 3 & 13 & 1 & $\\dots$ \\\\\n",
       "\t25 & Driven Gondolier Potato babka & 1 & 3 & 13 & 3 & $\\dots$ \\\\\n",
       "\t26 & Impatient System designer Pommes Anna & 1 & 3 & 13 & 8 & $\\dots$ \\\\\n",
       "\t27 & Influential Gondolier Potato babka & 1 & 3 & 13 & 14 & $\\dots$ \\\\\n",
       "\t28 & Enterprising Real estate investor Truffade & 1 & 3 & 19 & 6 & $\\dots$ \\\\\n",
       "\t29 & Satisfying Real estate investor Truffade & 1 & 3 & 19 & 6 & $\\dots$ \\\\\n",
       "\t30 & Enthusiastic Percussionist Clapshot & 1 & 3 & 19 & 12 & $\\dots$ \\\\\n",
       "\t$\\dots$ & $\\dots$ & $\\dots$ & $\\dots$ & $\\dots$ & $\\dots$ &  \\\\\n",
       "\\end{tabular}\n"
      ],
      "text/plain": [
       "\u001b[1m789×7 DataFrame\u001b[0m\n",
       "\u001b[1m Row \u001b[0m│\u001b[1m name                              \u001b[0m\u001b[1m h     \u001b[0m\u001b[1m f     \u001b[0m\u001b[1m l     \u001b[0m\u001b[1m p     \u001b[0m\u001b[1m r     \u001b[0m\u001b[1m s\u001b[0m ⋯\n",
       "     │\u001b[90m String                            \u001b[0m\u001b[90m Int64 \u001b[0m\u001b[90m Int64 \u001b[0m\u001b[90m Int64 \u001b[0m\u001b[90m Int64 \u001b[0m\u001b[90m Int64 \u001b[0m\u001b[90m I\u001b[0m ⋯\n",
       "─────┼──────────────────────────────────────────────────────────────────────────\n",
       "   1 │ Detail-oriented Watchmaker Rewen…      1      2      2     13     18    ⋯\n",
       "   2 │ Patient Software developer Aligot      1      2      2     17     13\n",
       "   3 │ Inventive Etymologist Gnocchi          1      2      6     19     18\n",
       "   4 │ Influential Software developer P…      1      2     10      5     19\n",
       "   5 │ Motivated Actuary Rewena bread         1      2     12      7     20    ⋯\n",
       "   6 │ Quick-thinking Paleontologist Ba…      1      2     12     16     19\n",
       "   7 │ Spellbound System designer Rappi…      1      2     12     18      9\n",
       "   8 │ Fair Magnate Batata vada               1      2     16     15     11\n",
       "   9 │ Productive Real estate investor …      1      2     16     15     17    ⋯\n",
       "  10 │ Evocative Investment broker Tash…      1      2     16     18     14\n",
       "  11 │ Sweet Contractor- general Okrosh…      1      2     16     19      8\n",
       "  ⋮  │                 ⋮                    ⋮      ⋮      ⋮      ⋮      ⋮      ⋱\n",
       " 780 │ Withdrawn Gunsmith Rewena bread       19      2      1      7      5\n",
       " 781 │ Intense Author Gnocchi                19      2      1     11      1    ⋯\n",
       " 782 │ Unperceptive Level designer (als…     19      2      1     15      4\n",
       " 783 │ Phlegmatic Technician Gnocchi         19      2      2      2      2\n",
       " 784 │ Unrefined Technician Brændende k…     20      1      2      5     15\n",
       " 785 │ Conversant Prosecutor Gnocchi         20      1      2     18     16    ⋯\n",
       " 786 │ Transparent Gunsmith Funeral pot…     20      1      2     19      5\n",
       " 787 │ Stylish Technician Gnocchi            20      2      1      1     11\n",
       " 788 │ Unthoughtful Organizer Ajiaco         20      2      1      1     12\n",
       " 789 │ Sharp Level designer (also Mappe…     20      2      1      8      7    ⋯\n",
       "\u001b[36m                                                   1 column and 768 rows omitted\u001b[0m"
      ]
     },
     "execution_count": 17,
     "metadata": {},
     "output_type": "execute_result"
    }
   ],
   "source": [
    "nash_env = [rand_rename(s) for s in library]\n",
    "spuds_to_df(nash_env)"
   ]
  },
  {
   "cell_type": "code",
   "execution_count": 18,
   "id": "0e75ca0c",
   "metadata": {},
   "outputs": [],
   "source": [
    "counts = ffp(nash_env, 1000);"
   ]
  },
  {
   "cell_type": "code",
   "execution_count": 19,
   "id": "8336bfca",
   "metadata": {},
   "outputs": [
    {
     "data": {
      "text/html": [
       "<div><div style = \"float: left;\"><span>21×7 DataFrame</span></div><div style = \"clear: both;\"></div></div><div class = \"data-frame\" style = \"overflow-x: scroll;\"><table class = \"data-frame\" style = \"margin-bottom: 6px;\"><thead><tr class = \"header\"><th class = \"rowNumber\" style = \"font-weight: bold; text-align: right;\">Row</th><th style = \"text-align: left;\">name</th><th style = \"text-align: left;\">h</th><th style = \"text-align: left;\">f</th><th style = \"text-align: left;\">l</th><th style = \"text-align: left;\">p</th><th style = \"text-align: left;\">r</th><th style = \"text-align: left;\">s</th></tr><tr class = \"subheader headerLastRow\"><th class = \"rowNumber\" style = \"font-weight: bold; text-align: right;\"></th><th title = \"String\" style = \"text-align: left;\">String</th><th title = \"Int64\" style = \"text-align: left;\">Int64</th><th title = \"Int64\" style = \"text-align: left;\">Int64</th><th title = \"Int64\" style = \"text-align: left;\">Int64</th><th title = \"Int64\" style = \"text-align: left;\">Int64</th><th title = \"Int64\" style = \"text-align: left;\">Int64</th><th title = \"Int64\" style = \"text-align: left;\">Int64</th></tr></thead><tbody><tr><td class = \"rowNumber\" style = \"font-weight: bold; text-align: right;\">1</td><td style = \"text-align: left;\">Radiant Film producer Papas chorreadas</td><td style = \"text-align: right;\">3</td><td style = \"text-align: right;\">5</td><td style = \"text-align: right;\">15</td><td style = \"text-align: right;\">4</td><td style = \"text-align: right;\">3</td><td style = \"text-align: right;\">1</td></tr><tr><td class = \"rowNumber\" style = \"font-weight: bold; text-align: right;\">2</td><td style = \"text-align: left;\">Well-versed Stewardess (or Steward) Pommes Anna</td><td style = \"text-align: right;\">3</td><td style = \"text-align: right;\">7</td><td style = \"text-align: right;\">7</td><td style = \"text-align: right;\">1</td><td style = \"text-align: right;\">3</td><td style = \"text-align: right;\">4</td></tr><tr><td class = \"rowNumber\" style = \"font-weight: bold; text-align: right;\">3</td><td style = \"text-align: left;\">Distinguished Nanny (also nursemaid) Hash browns</td><td style = \"text-align: right;\">3</td><td style = \"text-align: right;\">8</td><td style = \"text-align: right;\">1</td><td style = \"text-align: right;\">1</td><td style = \"text-align: right;\">6</td><td style = \"text-align: right;\">2</td></tr><tr><td class = \"rowNumber\" style = \"font-weight: bold; text-align: right;\">4</td><td style = \"text-align: left;\">Preoccupied Gladiator Meat and potato pie</td><td style = \"text-align: right;\">4</td><td style = \"text-align: right;\">3</td><td style = \"text-align: right;\">15</td><td style = \"text-align: right;\">6</td><td style = \"text-align: right;\">1</td><td style = \"text-align: right;\">2</td></tr><tr><td class = \"rowNumber\" style = \"font-weight: bold; text-align: right;\">5</td><td style = \"text-align: left;\">Imaginative Shoeshiner Meat and potato pie</td><td style = \"text-align: right;\">4</td><td style = \"text-align: right;\">6</td><td style = \"text-align: right;\">4</td><td style = \"text-align: right;\">5</td><td style = \"text-align: right;\">1</td><td style = \"text-align: right;\">4</td></tr><tr><td class = \"rowNumber\" style = \"font-weight: bold; text-align: right;\">6</td><td style = \"text-align: left;\">Outstanding Party-leader Cacasse à cul nu</td><td style = \"text-align: right;\">4</td><td style = \"text-align: right;\">6</td><td style = \"text-align: right;\">5</td><td style = \"text-align: right;\">4</td><td style = \"text-align: right;\">2</td><td style = \"text-align: right;\">3</td></tr><tr><td class = \"rowNumber\" style = \"font-weight: bold; text-align: right;\">7</td><td style = \"text-align: left;\">Conscientious Party-leader Cacasse à cul nu</td><td style = \"text-align: right;\">4</td><td style = \"text-align: right;\">7</td><td style = \"text-align: right;\">4</td><td style = \"text-align: right;\">5</td><td style = \"text-align: right;\">1</td><td style = \"text-align: right;\">2</td></tr><tr><td class = \"rowNumber\" style = \"font-weight: bold; text-align: right;\">8</td><td style = \"text-align: left;\">Absent-minded Queen dowager Rewena bread</td><td style = \"text-align: right;\">5</td><td style = \"text-align: right;\">1</td><td style = \"text-align: right;\">17</td><td style = \"text-align: right;\">3</td><td style = \"text-align: right;\">4</td><td style = \"text-align: right;\">3</td></tr><tr><td class = \"rowNumber\" style = \"font-weight: bold; text-align: right;\">9</td><td style = \"text-align: left;\">Tactful Film producer Rappie pie</td><td style = \"text-align: right;\">5</td><td style = \"text-align: right;\">5</td><td style = \"text-align: right;\">4</td><td style = \"text-align: right;\">5</td><td style = \"text-align: right;\">4</td><td style = \"text-align: right;\">2</td></tr><tr><td class = \"rowNumber\" style = \"font-weight: bold; text-align: right;\">10</td><td style = \"text-align: left;\">Assertive Party-leader Funeral potatoes</td><td style = \"text-align: right;\">5</td><td style = \"text-align: right;\">5</td><td style = \"text-align: right;\">4</td><td style = \"text-align: right;\">6</td><td style = \"text-align: right;\">2</td><td style = \"text-align: right;\">3</td></tr><tr><td class = \"rowNumber\" style = \"font-weight: bold; text-align: right;\">11</td><td style = \"text-align: left;\">Adventurous Auctioneer Brændende kærlighed</td><td style = \"text-align: right;\">5</td><td style = \"text-align: right;\">5</td><td style = \"text-align: right;\">6</td><td style = \"text-align: right;\">6</td><td style = \"text-align: right;\">2</td><td style = \"text-align: right;\">1</td></tr><tr><td class = \"rowNumber\" style = \"font-weight: bold; text-align: right;\">12</td><td style = \"text-align: left;\">Preoccupied Joker Ajiaco</td><td style = \"text-align: right;\">5</td><td style = \"text-align: right;\">5</td><td style = \"text-align: right;\">10</td><td style = \"text-align: right;\">2</td><td style = \"text-align: right;\">2</td><td style = \"text-align: right;\">1</td></tr><tr><td class = \"rowNumber\" style = \"font-weight: bold; text-align: right;\">13</td><td style = \"text-align: left;\">Grounded Auctioneer Älplermagronen</td><td style = \"text-align: right;\">5</td><td style = \"text-align: right;\">6</td><td style = \"text-align: right;\">5</td><td style = \"text-align: right;\">3</td><td style = \"text-align: right;\">3</td><td style = \"text-align: right;\">1</td></tr><tr><td class = \"rowNumber\" style = \"font-weight: bold; text-align: right;\">14</td><td style = \"text-align: left;\">Selfless Novelist French fries</td><td style = \"text-align: right;\">5</td><td style = \"text-align: right;\">7</td><td style = \"text-align: right;\">1</td><td style = \"text-align: right;\">6</td><td style = \"text-align: right;\">1</td><td style = \"text-align: right;\">1</td></tr><tr><td class = \"rowNumber\" style = \"font-weight: bold; text-align: right;\">15</td><td style = \"text-align: left;\">Credible Dictator Papas chorreadas</td><td style = \"text-align: right;\">6</td><td style = \"text-align: right;\">1</td><td style = \"text-align: right;\">14</td><td style = \"text-align: right;\">6</td><td style = \"text-align: right;\">2</td><td style = \"text-align: right;\">2</td></tr><tr><td class = \"rowNumber\" style = \"font-weight: bold; text-align: right;\">16</td><td style = \"text-align: left;\">Attentive Juggler Clapshot</td><td style = \"text-align: right;\">6</td><td style = \"text-align: right;\">5</td><td style = \"text-align: right;\">6</td><td style = \"text-align: right;\">3</td><td style = \"text-align: right;\">1</td><td style = \"text-align: right;\">2</td></tr><tr><td class = \"rowNumber\" style = \"font-weight: bold; text-align: right;\">17</td><td style = \"text-align: left;\">Lackluster Tutor Rumbledethumps</td><td style = \"text-align: right;\">6</td><td style = \"text-align: right;\">6</td><td style = \"text-align: right;\">1</td><td style = \"text-align: right;\">1</td><td style = \"text-align: right;\">5</td><td style = \"text-align: right;\">3</td></tr><tr><td class = \"rowNumber\" style = \"font-weight: bold; text-align: right;\">18</td><td style = \"text-align: left;\">Careless Investment broker Gamjajeon</td><td style = \"text-align: right;\">7</td><td style = \"text-align: right;\">1</td><td style = \"text-align: right;\">11</td><td style = \"text-align: right;\">3</td><td style = \"text-align: right;\">11</td><td style = \"text-align: right;\">2</td></tr><tr><td class = \"rowNumber\" style = \"font-weight: bold; text-align: right;\">19</td><td style = \"text-align: left;\">Brilliant Novelist Gnocchi</td><td style = \"text-align: right;\">7</td><td style = \"text-align: right;\">5</td><td style = \"text-align: right;\">2</td><td style = \"text-align: right;\">6</td><td style = \"text-align: right;\">3</td><td style = \"text-align: right;\">1</td></tr><tr><td class = \"rowNumber\" style = \"font-weight: bold; text-align: right;\">20</td><td style = \"text-align: left;\">Hospitable Laundress (also Lavendar) Stoemp</td><td style = \"text-align: right;\">7</td><td style = \"text-align: right;\">6</td><td style = \"text-align: right;\">1</td><td style = \"text-align: right;\">2</td><td style = \"text-align: right;\">1</td><td style = \"text-align: right;\">5</td></tr><tr><td class = \"rowNumber\" style = \"font-weight: bold; text-align: right;\">21</td><td style = \"text-align: left;\">Unenthused Film producer Suan la tu dou si</td><td style = \"text-align: right;\">8</td><td style = \"text-align: right;\">1</td><td style = \"text-align: right;\">10</td><td style = \"text-align: right;\">3</td><td style = \"text-align: right;\">6</td><td style = \"text-align: right;\">3</td></tr></tbody></table></div>"
      ],
      "text/latex": [
       "\\begin{tabular}{r|ccccccc}\n",
       "\t& name & h & f & l & p & r & \\\\\n",
       "\t\\hline\n",
       "\t& String & Int64 & Int64 & Int64 & Int64 & Int64 & \\\\\n",
       "\t\\hline\n",
       "\t1 & Radiant Film producer Papas chorreadas & 3 & 5 & 15 & 4 & 3 & $\\dots$ \\\\\n",
       "\t2 & Well-versed Stewardess (or Steward) Pommes Anna & 3 & 7 & 7 & 1 & 3 & $\\dots$ \\\\\n",
       "\t3 & Distinguished Nanny (also nursemaid) Hash browns & 3 & 8 & 1 & 1 & 6 & $\\dots$ \\\\\n",
       "\t4 & Preoccupied Gladiator Meat and potato pie & 4 & 3 & 15 & 6 & 1 & $\\dots$ \\\\\n",
       "\t5 & Imaginative Shoeshiner Meat and potato pie & 4 & 6 & 4 & 5 & 1 & $\\dots$ \\\\\n",
       "\t6 & Outstanding Party-leader Cacasse à cul nu & 4 & 6 & 5 & 4 & 2 & $\\dots$ \\\\\n",
       "\t7 & Conscientious Party-leader Cacasse à cul nu & 4 & 7 & 4 & 5 & 1 & $\\dots$ \\\\\n",
       "\t8 & Absent-minded Queen dowager Rewena bread & 5 & 1 & 17 & 3 & 4 & $\\dots$ \\\\\n",
       "\t9 & Tactful Film producer Rappie pie & 5 & 5 & 4 & 5 & 4 & $\\dots$ \\\\\n",
       "\t10 & Assertive Party-leader Funeral potatoes & 5 & 5 & 4 & 6 & 2 & $\\dots$ \\\\\n",
       "\t11 & Adventurous Auctioneer Brændende kærlighed & 5 & 5 & 6 & 6 & 2 & $\\dots$ \\\\\n",
       "\t12 & Preoccupied Joker Ajiaco & 5 & 5 & 10 & 2 & 2 & $\\dots$ \\\\\n",
       "\t13 & Grounded Auctioneer Älplermagronen & 5 & 6 & 5 & 3 & 3 & $\\dots$ \\\\\n",
       "\t14 & Selfless Novelist French fries & 5 & 7 & 1 & 6 & 1 & $\\dots$ \\\\\n",
       "\t15 & Credible Dictator Papas chorreadas & 6 & 1 & 14 & 6 & 2 & $\\dots$ \\\\\n",
       "\t16 & Attentive Juggler Clapshot & 6 & 5 & 6 & 3 & 1 & $\\dots$ \\\\\n",
       "\t17 & Lackluster Tutor Rumbledethumps & 6 & 6 & 1 & 1 & 5 & $\\dots$ \\\\\n",
       "\t18 & Careless Investment broker Gamjajeon & 7 & 1 & 11 & 3 & 11 & $\\dots$ \\\\\n",
       "\t19 & Brilliant Novelist Gnocchi & 7 & 5 & 2 & 6 & 3 & $\\dots$ \\\\\n",
       "\t20 & Hospitable Laundress (also Lavendar) Stoemp & 7 & 6 & 1 & 2 & 1 & $\\dots$ \\\\\n",
       "\t21 & Unenthused Film producer Suan la tu dou si & 8 & 1 & 10 & 3 & 6 & $\\dots$ \\\\\n",
       "\\end{tabular}\n"
      ],
      "text/plain": [
       "\u001b[1m21×7 DataFrame\u001b[0m\n",
       "\u001b[1m Row \u001b[0m│\u001b[1m name                              \u001b[0m\u001b[1m h     \u001b[0m\u001b[1m f     \u001b[0m\u001b[1m l     \u001b[0m\u001b[1m p     \u001b[0m\u001b[1m r     \u001b[0m\u001b[1m s\u001b[0m ⋯\n",
       "     │\u001b[90m String                            \u001b[0m\u001b[90m Int64 \u001b[0m\u001b[90m Int64 \u001b[0m\u001b[90m Int64 \u001b[0m\u001b[90m Int64 \u001b[0m\u001b[90m Int64 \u001b[0m\u001b[90m I\u001b[0m ⋯\n",
       "─────┼──────────────────────────────────────────────────────────────────────────\n",
       "   1 │ Radiant Film producer Papas chor…      3      5     15      4      3    ⋯\n",
       "   2 │ Well-versed Stewardess (or Stewa…      3      7      7      1      3\n",
       "   3 │ Distinguished Nanny (also nursem…      3      8      1      1      6\n",
       "   4 │ Preoccupied Gladiator Meat and p…      4      3     15      6      1\n",
       "   5 │ Imaginative Shoeshiner Meat and …      4      6      4      5      1    ⋯\n",
       "   6 │ Outstanding Party-leader Cacasse…      4      6      5      4      2\n",
       "   7 │ Conscientious Party-leader Cacas…      4      7      4      5      1\n",
       "   8 │ Absent-minded Queen dowager Rewe…      5      1     17      3      4\n",
       "   9 │ Tactful Film producer Rappie pie       5      5      4      5      4    ⋯\n",
       "  10 │ Assertive Party-leader Funeral p…      5      5      4      6      2\n",
       "  11 │ Adventurous Auctioneer Brændende…      5      5      6      6      2\n",
       "  12 │ Preoccupied Joker Ajiaco               5      5     10      2      2\n",
       "  13 │ Grounded Auctioneer Älplermagron…      5      6      5      3      3    ⋯\n",
       "  14 │ Selfless Novelist French fries         5      7      1      6      1\n",
       "  15 │ Credible Dictator Papas chorread…      6      1     14      6      2\n",
       "  16 │ Attentive Juggler Clapshot             6      5      6      3      1\n",
       "  17 │ Lackluster Tutor Rumbledethumps        6      6      1      1      5    ⋯\n",
       "  18 │ Careless Investment broker Gamja…      7      1     11      3     11\n",
       "  19 │ Brilliant Novelist Gnocchi             7      5      2      6      3\n",
       "  20 │ Hospitable Laundress (also Laven…      7      6      1      2      1\n",
       "  21 │ Unenthused Film producer Suan la…      8      1     10      3      6    ⋯\n",
       "\u001b[36m                                                                1 column omitted\u001b[0m"
      ]
     },
     "execution_count": 19,
     "metadata": {},
     "output_type": "execute_result"
    }
   ],
   "source": [
    "nash_env = nash_env[counts .> 10]\n",
    "spuds_to_df(nash_env)"
   ]
  },
  {
   "cell_type": "code",
   "execution_count": 20,
   "id": "fcd27346",
   "metadata": {},
   "outputs": [
    {
     "data": {
      "text/plain": [
       "21-element Vector{Int64}:\n",
       "    1\n",
       "  247\n",
       " 1488\n",
       " 1050\n",
       "  289\n",
       "    1\n",
       " 1200\n",
       "    1\n",
       "  248\n",
       "  661\n",
       "    1\n",
       "    1\n",
       "    1\n",
       "  206\n",
       "  474\n",
       "   21\n",
       "    1\n",
       "  871\n",
       " 1030\n",
       "  578\n",
       " 1651"
      ]
     },
     "execution_count": 20,
     "metadata": {},
     "output_type": "execute_result"
    }
   ],
   "source": [
    "counts = ffp(nash_env, 10000)"
   ]
  },
  {
   "cell_type": "code",
   "execution_count": 21,
   "id": "04414a09",
   "metadata": {},
   "outputs": [
    {
     "data": {
      "text/html": [
       "<div><div style = \"float: left;\"><span>14×7 DataFrame</span></div><div style = \"clear: both;\"></div></div><div class = \"data-frame\" style = \"overflow-x: scroll;\"><table class = \"data-frame\" style = \"margin-bottom: 6px;\"><thead><tr class = \"header\"><th class = \"rowNumber\" style = \"font-weight: bold; text-align: right;\">Row</th><th style = \"text-align: left;\">name</th><th style = \"text-align: left;\">h</th><th style = \"text-align: left;\">f</th><th style = \"text-align: left;\">l</th><th style = \"text-align: left;\">p</th><th style = \"text-align: left;\">r</th><th style = \"text-align: left;\">s</th></tr><tr class = \"subheader headerLastRow\"><th class = \"rowNumber\" style = \"font-weight: bold; text-align: right;\"></th><th title = \"String\" style = \"text-align: left;\">String</th><th title = \"Int64\" style = \"text-align: left;\">Int64</th><th title = \"Int64\" style = \"text-align: left;\">Int64</th><th title = \"Int64\" style = \"text-align: left;\">Int64</th><th title = \"Int64\" style = \"text-align: left;\">Int64</th><th title = \"Int64\" style = \"text-align: left;\">Int64</th><th title = \"Int64\" style = \"text-align: left;\">Int64</th></tr></thead><tbody><tr><td class = \"rowNumber\" style = \"font-weight: bold; text-align: right;\">1</td><td style = \"text-align: left;\">Well-versed Stewardess (or Steward) Pommes Anna</td><td style = \"text-align: right;\">3</td><td style = \"text-align: right;\">7</td><td style = \"text-align: right;\">7</td><td style = \"text-align: right;\">1</td><td style = \"text-align: right;\">3</td><td style = \"text-align: right;\">4</td></tr><tr><td class = \"rowNumber\" style = \"font-weight: bold; text-align: right;\">2</td><td style = \"text-align: left;\">Distinguished Nanny (also nursemaid) Hash browns</td><td style = \"text-align: right;\">3</td><td style = \"text-align: right;\">8</td><td style = \"text-align: right;\">1</td><td style = \"text-align: right;\">1</td><td style = \"text-align: right;\">6</td><td style = \"text-align: right;\">2</td></tr><tr><td class = \"rowNumber\" style = \"font-weight: bold; text-align: right;\">3</td><td style = \"text-align: left;\">Preoccupied Gladiator Meat and potato pie</td><td style = \"text-align: right;\">4</td><td style = \"text-align: right;\">3</td><td style = \"text-align: right;\">15</td><td style = \"text-align: right;\">6</td><td style = \"text-align: right;\">1</td><td style = \"text-align: right;\">2</td></tr><tr><td class = \"rowNumber\" style = \"font-weight: bold; text-align: right;\">4</td><td style = \"text-align: left;\">Imaginative Shoeshiner Meat and potato pie</td><td style = \"text-align: right;\">4</td><td style = \"text-align: right;\">6</td><td style = \"text-align: right;\">4</td><td style = \"text-align: right;\">5</td><td style = \"text-align: right;\">1</td><td style = \"text-align: right;\">4</td></tr><tr><td class = \"rowNumber\" style = \"font-weight: bold; text-align: right;\">5</td><td style = \"text-align: left;\">Conscientious Party-leader Cacasse à cul nu</td><td style = \"text-align: right;\">4</td><td style = \"text-align: right;\">7</td><td style = \"text-align: right;\">4</td><td style = \"text-align: right;\">5</td><td style = \"text-align: right;\">1</td><td style = \"text-align: right;\">2</td></tr><tr><td class = \"rowNumber\" style = \"font-weight: bold; text-align: right;\">6</td><td style = \"text-align: left;\">Tactful Film producer Rappie pie</td><td style = \"text-align: right;\">5</td><td style = \"text-align: right;\">5</td><td style = \"text-align: right;\">4</td><td style = \"text-align: right;\">5</td><td style = \"text-align: right;\">4</td><td style = \"text-align: right;\">2</td></tr><tr><td class = \"rowNumber\" style = \"font-weight: bold; text-align: right;\">7</td><td style = \"text-align: left;\">Assertive Party-leader Funeral potatoes</td><td style = \"text-align: right;\">5</td><td style = \"text-align: right;\">5</td><td style = \"text-align: right;\">4</td><td style = \"text-align: right;\">6</td><td style = \"text-align: right;\">2</td><td style = \"text-align: right;\">3</td></tr><tr><td class = \"rowNumber\" style = \"font-weight: bold; text-align: right;\">8</td><td style = \"text-align: left;\">Selfless Novelist French fries</td><td style = \"text-align: right;\">5</td><td style = \"text-align: right;\">7</td><td style = \"text-align: right;\">1</td><td style = \"text-align: right;\">6</td><td style = \"text-align: right;\">1</td><td style = \"text-align: right;\">1</td></tr><tr><td class = \"rowNumber\" style = \"font-weight: bold; text-align: right;\">9</td><td style = \"text-align: left;\">Credible Dictator Papas chorreadas</td><td style = \"text-align: right;\">6</td><td style = \"text-align: right;\">1</td><td style = \"text-align: right;\">14</td><td style = \"text-align: right;\">6</td><td style = \"text-align: right;\">2</td><td style = \"text-align: right;\">2</td></tr><tr><td class = \"rowNumber\" style = \"font-weight: bold; text-align: right;\">10</td><td style = \"text-align: left;\">Attentive Juggler Clapshot</td><td style = \"text-align: right;\">6</td><td style = \"text-align: right;\">5</td><td style = \"text-align: right;\">6</td><td style = \"text-align: right;\">3</td><td style = \"text-align: right;\">1</td><td style = \"text-align: right;\">2</td></tr><tr><td class = \"rowNumber\" style = \"font-weight: bold; text-align: right;\">11</td><td style = \"text-align: left;\">Careless Investment broker Gamjajeon</td><td style = \"text-align: right;\">7</td><td style = \"text-align: right;\">1</td><td style = \"text-align: right;\">11</td><td style = \"text-align: right;\">3</td><td style = \"text-align: right;\">11</td><td style = \"text-align: right;\">2</td></tr><tr><td class = \"rowNumber\" style = \"font-weight: bold; text-align: right;\">12</td><td style = \"text-align: left;\">Brilliant Novelist Gnocchi</td><td style = \"text-align: right;\">7</td><td style = \"text-align: right;\">5</td><td style = \"text-align: right;\">2</td><td style = \"text-align: right;\">6</td><td style = \"text-align: right;\">3</td><td style = \"text-align: right;\">1</td></tr><tr><td class = \"rowNumber\" style = \"font-weight: bold; text-align: right;\">13</td><td style = \"text-align: left;\">Hospitable Laundress (also Lavendar) Stoemp</td><td style = \"text-align: right;\">7</td><td style = \"text-align: right;\">6</td><td style = \"text-align: right;\">1</td><td style = \"text-align: right;\">2</td><td style = \"text-align: right;\">1</td><td style = \"text-align: right;\">5</td></tr><tr><td class = \"rowNumber\" style = \"font-weight: bold; text-align: right;\">14</td><td style = \"text-align: left;\">Unenthused Film producer Suan la tu dou si</td><td style = \"text-align: right;\">8</td><td style = \"text-align: right;\">1</td><td style = \"text-align: right;\">10</td><td style = \"text-align: right;\">3</td><td style = \"text-align: right;\">6</td><td style = \"text-align: right;\">3</td></tr></tbody></table></div>"
      ],
      "text/latex": [
       "\\begin{tabular}{r|ccccccc}\n",
       "\t& name & h & f & l & p & r & \\\\\n",
       "\t\\hline\n",
       "\t& String & Int64 & Int64 & Int64 & Int64 & Int64 & \\\\\n",
       "\t\\hline\n",
       "\t1 & Well-versed Stewardess (or Steward) Pommes Anna & 3 & 7 & 7 & 1 & 3 & $\\dots$ \\\\\n",
       "\t2 & Distinguished Nanny (also nursemaid) Hash browns & 3 & 8 & 1 & 1 & 6 & $\\dots$ \\\\\n",
       "\t3 & Preoccupied Gladiator Meat and potato pie & 4 & 3 & 15 & 6 & 1 & $\\dots$ \\\\\n",
       "\t4 & Imaginative Shoeshiner Meat and potato pie & 4 & 6 & 4 & 5 & 1 & $\\dots$ \\\\\n",
       "\t5 & Conscientious Party-leader Cacasse à cul nu & 4 & 7 & 4 & 5 & 1 & $\\dots$ \\\\\n",
       "\t6 & Tactful Film producer Rappie pie & 5 & 5 & 4 & 5 & 4 & $\\dots$ \\\\\n",
       "\t7 & Assertive Party-leader Funeral potatoes & 5 & 5 & 4 & 6 & 2 & $\\dots$ \\\\\n",
       "\t8 & Selfless Novelist French fries & 5 & 7 & 1 & 6 & 1 & $\\dots$ \\\\\n",
       "\t9 & Credible Dictator Papas chorreadas & 6 & 1 & 14 & 6 & 2 & $\\dots$ \\\\\n",
       "\t10 & Attentive Juggler Clapshot & 6 & 5 & 6 & 3 & 1 & $\\dots$ \\\\\n",
       "\t11 & Careless Investment broker Gamjajeon & 7 & 1 & 11 & 3 & 11 & $\\dots$ \\\\\n",
       "\t12 & Brilliant Novelist Gnocchi & 7 & 5 & 2 & 6 & 3 & $\\dots$ \\\\\n",
       "\t13 & Hospitable Laundress (also Lavendar) Stoemp & 7 & 6 & 1 & 2 & 1 & $\\dots$ \\\\\n",
       "\t14 & Unenthused Film producer Suan la tu dou si & 8 & 1 & 10 & 3 & 6 & $\\dots$ \\\\\n",
       "\\end{tabular}\n"
      ],
      "text/plain": [
       "\u001b[1m14×7 DataFrame\u001b[0m\n",
       "\u001b[1m Row \u001b[0m│\u001b[1m name                              \u001b[0m\u001b[1m h     \u001b[0m\u001b[1m f     \u001b[0m\u001b[1m l     \u001b[0m\u001b[1m p     \u001b[0m\u001b[1m r     \u001b[0m\u001b[1m s\u001b[0m ⋯\n",
       "     │\u001b[90m String                            \u001b[0m\u001b[90m Int64 \u001b[0m\u001b[90m Int64 \u001b[0m\u001b[90m Int64 \u001b[0m\u001b[90m Int64 \u001b[0m\u001b[90m Int64 \u001b[0m\u001b[90m I\u001b[0m ⋯\n",
       "─────┼──────────────────────────────────────────────────────────────────────────\n",
       "   1 │ Well-versed Stewardess (or Stewa…      3      7      7      1      3    ⋯\n",
       "   2 │ Distinguished Nanny (also nursem…      3      8      1      1      6\n",
       "   3 │ Preoccupied Gladiator Meat and p…      4      3     15      6      1\n",
       "   4 │ Imaginative Shoeshiner Meat and …      4      6      4      5      1\n",
       "   5 │ Conscientious Party-leader Cacas…      4      7      4      5      1    ⋯\n",
       "   6 │ Tactful Film producer Rappie pie       5      5      4      5      4\n",
       "   7 │ Assertive Party-leader Funeral p…      5      5      4      6      2\n",
       "   8 │ Selfless Novelist French fries         5      7      1      6      1\n",
       "   9 │ Credible Dictator Papas chorread…      6      1     14      6      2    ⋯\n",
       "  10 │ Attentive Juggler Clapshot             6      5      6      3      1\n",
       "  11 │ Careless Investment broker Gamja…      7      1     11      3     11\n",
       "  12 │ Brilliant Novelist Gnocchi             7      5      2      6      3\n",
       "  13 │ Hospitable Laundress (also Laven…      7      6      1      2      1    ⋯\n",
       "  14 │ Unenthused Film producer Suan la…      8      1     10      3      6\n",
       "\u001b[36m                                                                1 column omitted\u001b[0m"
      ]
     },
     "execution_count": 21,
     "metadata": {},
     "output_type": "execute_result"
    }
   ],
   "source": [
    "nash_env = nash_env[counts .> 10]\n",
    "spuds_to_df(nash_env)"
   ]
  },
  {
   "cell_type": "markdown",
   "id": "8dba7dcc",
   "metadata": {},
   "source": [
    "### Loop this"
   ]
  },
  {
   "cell_type": "code",
   "execution_count": 22,
   "id": "e0bc4a54",
   "metadata": {},
   "outputs": [
    {
     "data": {
      "text/plain": [
       "14-element Vector{Int64}:\n",
       "  3\n",
       " 16\n",
       " 13\n",
       "  3\n",
       " 14\n",
       "  3\n",
       "  6\n",
       "  4\n",
       "  5\n",
       "  1\n",
       " 10\n",
       "  9\n",
       "  7\n",
       " 20"
      ]
     },
     "execution_count": 22,
     "metadata": {},
     "output_type": "execute_result"
    }
   ],
   "source": [
    "counts = ffp(nash_env, 100)"
   ]
  },
  {
   "cell_type": "code",
   "execution_count": 23,
   "id": "c9abb9e9",
   "metadata": {},
   "outputs": [],
   "source": [
    "#counts = ffp(nash_env, 10000)"
   ]
  },
  {
   "cell_type": "code",
   "execution_count": 24,
   "id": "dda23034",
   "metadata": {},
   "outputs": [
    {
     "data": {
      "text/html": [
       "<div><div style = \"float: left;\"><span>14×7 DataFrame</span></div><div style = \"clear: both;\"></div></div><div class = \"data-frame\" style = \"overflow-x: scroll;\"><table class = \"data-frame\" style = \"margin-bottom: 6px;\"><thead><tr class = \"header\"><th class = \"rowNumber\" style = \"font-weight: bold; text-align: right;\">Row</th><th style = \"text-align: left;\">name</th><th style = \"text-align: left;\">h</th><th style = \"text-align: left;\">f</th><th style = \"text-align: left;\">l</th><th style = \"text-align: left;\">p</th><th style = \"text-align: left;\">r</th><th style = \"text-align: left;\">s</th></tr><tr class = \"subheader headerLastRow\"><th class = \"rowNumber\" style = \"font-weight: bold; text-align: right;\"></th><th title = \"String\" style = \"text-align: left;\">String</th><th title = \"Int64\" style = \"text-align: left;\">Int64</th><th title = \"Int64\" style = \"text-align: left;\">Int64</th><th title = \"Int64\" style = \"text-align: left;\">Int64</th><th title = \"Int64\" style = \"text-align: left;\">Int64</th><th title = \"Int64\" style = \"text-align: left;\">Int64</th><th title = \"Int64\" style = \"text-align: left;\">Int64</th></tr></thead><tbody><tr><td class = \"rowNumber\" style = \"font-weight: bold; text-align: right;\">1</td><td style = \"text-align: left;\">Well-versed Stewardess (or Steward) Pommes Anna</td><td style = \"text-align: right;\">3</td><td style = \"text-align: right;\">7</td><td style = \"text-align: right;\">7</td><td style = \"text-align: right;\">1</td><td style = \"text-align: right;\">3</td><td style = \"text-align: right;\">4</td></tr><tr><td class = \"rowNumber\" style = \"font-weight: bold; text-align: right;\">2</td><td style = \"text-align: left;\">Distinguished Nanny (also nursemaid) Hash browns</td><td style = \"text-align: right;\">3</td><td style = \"text-align: right;\">8</td><td style = \"text-align: right;\">1</td><td style = \"text-align: right;\">1</td><td style = \"text-align: right;\">6</td><td style = \"text-align: right;\">2</td></tr><tr><td class = \"rowNumber\" style = \"font-weight: bold; text-align: right;\">3</td><td style = \"text-align: left;\">Preoccupied Gladiator Meat and potato pie</td><td style = \"text-align: right;\">4</td><td style = \"text-align: right;\">3</td><td style = \"text-align: right;\">15</td><td style = \"text-align: right;\">6</td><td style = \"text-align: right;\">1</td><td style = \"text-align: right;\">2</td></tr><tr><td class = \"rowNumber\" style = \"font-weight: bold; text-align: right;\">4</td><td style = \"text-align: left;\">Imaginative Shoeshiner Meat and potato pie</td><td style = \"text-align: right;\">4</td><td style = \"text-align: right;\">6</td><td style = \"text-align: right;\">4</td><td style = \"text-align: right;\">5</td><td style = \"text-align: right;\">1</td><td style = \"text-align: right;\">4</td></tr><tr><td class = \"rowNumber\" style = \"font-weight: bold; text-align: right;\">5</td><td style = \"text-align: left;\">Conscientious Party-leader Cacasse à cul nu</td><td style = \"text-align: right;\">4</td><td style = \"text-align: right;\">7</td><td style = \"text-align: right;\">4</td><td style = \"text-align: right;\">5</td><td style = \"text-align: right;\">1</td><td style = \"text-align: right;\">2</td></tr><tr><td class = \"rowNumber\" style = \"font-weight: bold; text-align: right;\">6</td><td style = \"text-align: left;\">Tactful Film producer Rappie pie</td><td style = \"text-align: right;\">5</td><td style = \"text-align: right;\">5</td><td style = \"text-align: right;\">4</td><td style = \"text-align: right;\">5</td><td style = \"text-align: right;\">4</td><td style = \"text-align: right;\">2</td></tr><tr><td class = \"rowNumber\" style = \"font-weight: bold; text-align: right;\">7</td><td style = \"text-align: left;\">Assertive Party-leader Funeral potatoes</td><td style = \"text-align: right;\">5</td><td style = \"text-align: right;\">5</td><td style = \"text-align: right;\">4</td><td style = \"text-align: right;\">6</td><td style = \"text-align: right;\">2</td><td style = \"text-align: right;\">3</td></tr><tr><td class = \"rowNumber\" style = \"font-weight: bold; text-align: right;\">8</td><td style = \"text-align: left;\">Selfless Novelist French fries</td><td style = \"text-align: right;\">5</td><td style = \"text-align: right;\">7</td><td style = \"text-align: right;\">1</td><td style = \"text-align: right;\">6</td><td style = \"text-align: right;\">1</td><td style = \"text-align: right;\">1</td></tr><tr><td class = \"rowNumber\" style = \"font-weight: bold; text-align: right;\">9</td><td style = \"text-align: left;\">Credible Dictator Papas chorreadas</td><td style = \"text-align: right;\">6</td><td style = \"text-align: right;\">1</td><td style = \"text-align: right;\">14</td><td style = \"text-align: right;\">6</td><td style = \"text-align: right;\">2</td><td style = \"text-align: right;\">2</td></tr><tr><td class = \"rowNumber\" style = \"font-weight: bold; text-align: right;\">10</td><td style = \"text-align: left;\">Attentive Juggler Clapshot</td><td style = \"text-align: right;\">6</td><td style = \"text-align: right;\">5</td><td style = \"text-align: right;\">6</td><td style = \"text-align: right;\">3</td><td style = \"text-align: right;\">1</td><td style = \"text-align: right;\">2</td></tr><tr><td class = \"rowNumber\" style = \"font-weight: bold; text-align: right;\">11</td><td style = \"text-align: left;\">Careless Investment broker Gamjajeon</td><td style = \"text-align: right;\">7</td><td style = \"text-align: right;\">1</td><td style = \"text-align: right;\">11</td><td style = \"text-align: right;\">3</td><td style = \"text-align: right;\">11</td><td style = \"text-align: right;\">2</td></tr><tr><td class = \"rowNumber\" style = \"font-weight: bold; text-align: right;\">12</td><td style = \"text-align: left;\">Brilliant Novelist Gnocchi</td><td style = \"text-align: right;\">7</td><td style = \"text-align: right;\">5</td><td style = \"text-align: right;\">2</td><td style = \"text-align: right;\">6</td><td style = \"text-align: right;\">3</td><td style = \"text-align: right;\">1</td></tr><tr><td class = \"rowNumber\" style = \"font-weight: bold; text-align: right;\">13</td><td style = \"text-align: left;\">Hospitable Laundress (also Lavendar) Stoemp</td><td style = \"text-align: right;\">7</td><td style = \"text-align: right;\">6</td><td style = \"text-align: right;\">1</td><td style = \"text-align: right;\">2</td><td style = \"text-align: right;\">1</td><td style = \"text-align: right;\">5</td></tr><tr><td class = \"rowNumber\" style = \"font-weight: bold; text-align: right;\">14</td><td style = \"text-align: left;\">Unenthused Film producer Suan la tu dou si</td><td style = \"text-align: right;\">8</td><td style = \"text-align: right;\">1</td><td style = \"text-align: right;\">10</td><td style = \"text-align: right;\">3</td><td style = \"text-align: right;\">6</td><td style = \"text-align: right;\">3</td></tr></tbody></table></div>"
      ],
      "text/latex": [
       "\\begin{tabular}{r|ccccccc}\n",
       "\t& name & h & f & l & p & r & \\\\\n",
       "\t\\hline\n",
       "\t& String & Int64 & Int64 & Int64 & Int64 & Int64 & \\\\\n",
       "\t\\hline\n",
       "\t1 & Well-versed Stewardess (or Steward) Pommes Anna & 3 & 7 & 7 & 1 & 3 & $\\dots$ \\\\\n",
       "\t2 & Distinguished Nanny (also nursemaid) Hash browns & 3 & 8 & 1 & 1 & 6 & $\\dots$ \\\\\n",
       "\t3 & Preoccupied Gladiator Meat and potato pie & 4 & 3 & 15 & 6 & 1 & $\\dots$ \\\\\n",
       "\t4 & Imaginative Shoeshiner Meat and potato pie & 4 & 6 & 4 & 5 & 1 & $\\dots$ \\\\\n",
       "\t5 & Conscientious Party-leader Cacasse à cul nu & 4 & 7 & 4 & 5 & 1 & $\\dots$ \\\\\n",
       "\t6 & Tactful Film producer Rappie pie & 5 & 5 & 4 & 5 & 4 & $\\dots$ \\\\\n",
       "\t7 & Assertive Party-leader Funeral potatoes & 5 & 5 & 4 & 6 & 2 & $\\dots$ \\\\\n",
       "\t8 & Selfless Novelist French fries & 5 & 7 & 1 & 6 & 1 & $\\dots$ \\\\\n",
       "\t9 & Credible Dictator Papas chorreadas & 6 & 1 & 14 & 6 & 2 & $\\dots$ \\\\\n",
       "\t10 & Attentive Juggler Clapshot & 6 & 5 & 6 & 3 & 1 & $\\dots$ \\\\\n",
       "\t11 & Careless Investment broker Gamjajeon & 7 & 1 & 11 & 3 & 11 & $\\dots$ \\\\\n",
       "\t12 & Brilliant Novelist Gnocchi & 7 & 5 & 2 & 6 & 3 & $\\dots$ \\\\\n",
       "\t13 & Hospitable Laundress (also Lavendar) Stoemp & 7 & 6 & 1 & 2 & 1 & $\\dots$ \\\\\n",
       "\t14 & Unenthused Film producer Suan la tu dou si & 8 & 1 & 10 & 3 & 6 & $\\dots$ \\\\\n",
       "\\end{tabular}\n"
      ],
      "text/plain": [
       "\u001b[1m14×7 DataFrame\u001b[0m\n",
       "\u001b[1m Row \u001b[0m│\u001b[1m name                              \u001b[0m\u001b[1m h     \u001b[0m\u001b[1m f     \u001b[0m\u001b[1m l     \u001b[0m\u001b[1m p     \u001b[0m\u001b[1m r     \u001b[0m\u001b[1m s\u001b[0m ⋯\n",
       "     │\u001b[90m String                            \u001b[0m\u001b[90m Int64 \u001b[0m\u001b[90m Int64 \u001b[0m\u001b[90m Int64 \u001b[0m\u001b[90m Int64 \u001b[0m\u001b[90m Int64 \u001b[0m\u001b[90m I\u001b[0m ⋯\n",
       "─────┼──────────────────────────────────────────────────────────────────────────\n",
       "   1 │ Well-versed Stewardess (or Stewa…      3      7      7      1      3    ⋯\n",
       "   2 │ Distinguished Nanny (also nursem…      3      8      1      1      6\n",
       "   3 │ Preoccupied Gladiator Meat and p…      4      3     15      6      1\n",
       "   4 │ Imaginative Shoeshiner Meat and …      4      6      4      5      1\n",
       "   5 │ Conscientious Party-leader Cacas…      4      7      4      5      1    ⋯\n",
       "   6 │ Tactful Film producer Rappie pie       5      5      4      5      4\n",
       "   7 │ Assertive Party-leader Funeral p…      5      5      4      6      2\n",
       "   8 │ Selfless Novelist French fries         5      7      1      6      1\n",
       "   9 │ Credible Dictator Papas chorread…      6      1     14      6      2    ⋯\n",
       "  10 │ Attentive Juggler Clapshot             6      5      6      3      1\n",
       "  11 │ Careless Investment broker Gamja…      7      1     11      3     11\n",
       "  12 │ Brilliant Novelist Gnocchi             7      5      2      6      3\n",
       "  13 │ Hospitable Laundress (also Laven…      7      6      1      2      1    ⋯\n",
       "  14 │ Unenthused Film producer Suan la…      8      1     10      3      6\n",
       "\u001b[36m                                                                1 column omitted\u001b[0m"
      ]
     },
     "execution_count": 24,
     "metadata": {},
     "output_type": "execute_result"
    }
   ],
   "source": [
    "spuds_to_df(nash_env)"
   ]
  },
  {
   "cell_type": "code",
   "execution_count": 25,
   "id": "b40c9c71",
   "metadata": {},
   "outputs": [],
   "source": [
    "# # don't run this every iteration!!\n",
    "# nash_env = nash_env[counts .> 10]\n",
    "# counts = ffp(nash_env, 10000)"
   ]
  },
  {
   "cell_type": "code",
   "execution_count": 26,
   "id": "7522c5a1",
   "metadata": {},
   "outputs": [
    {
     "data": {
      "text/plain": [
       "Spud(\"Understanding Teacher Rumbledethumps\", 1, 8, 4, 7, 1, 3)"
      ]
     },
     "execution_count": 26,
     "metadata": {},
     "output_type": "execute_result"
    }
   ],
   "source": [
    "ff = rand_rename(pick_best_library2(nash_env, counts./sum(counts)))"
   ]
  },
  {
   "cell_type": "code",
   "execution_count": 27,
   "id": "36d7d97a",
   "metadata": {},
   "outputs": [
    {
     "data": {
      "text/plain": [
       "0.9473684210526315"
      ]
     },
     "execution_count": 27,
     "metadata": {},
     "output_type": "execute_result"
    }
   ],
   "source": [
    "ev = eval_battle_list2(ff, nash_env, counts./sum(counts))"
   ]
  },
  {
   "cell_type": "code",
   "execution_count": 28,
   "id": "7c3b3749",
   "metadata": {},
   "outputs": [
    {
     "data": {
      "text/plain": [
       "1-element Vector{Spud}:\n",
       " Spud(\"\", 1, 8, 4, 7, 1, 3)"
      ]
     },
     "execution_count": 28,
     "metadata": {},
     "output_type": "execute_result"
    }
   ],
   "source": [
    "bestf = subset_library(nash_env, 500, counts./sum(counts), ev-0.05)"
   ]
  },
  {
   "cell_type": "code",
   "execution_count": 29,
   "id": "d6029104",
   "metadata": {},
   "outputs": [
    {
     "name": "stdout",
     "output_type": "stream",
     "text": [
      "10001\n"
     ]
    },
    {
     "data": {
      "text/plain": [
       "Spud(\"Skilled Shoeshiner Boxty\", 1, 8, 4, 7, 1, 3)"
      ]
     },
     "execution_count": 29,
     "metadata": {},
     "output_type": "execute_result"
    }
   ],
   "source": [
    "cc = ffp(bestf, 10000)\n",
    "println(maximum(cc))\n",
    "ff2 = rand_rename(bestf[cc .== maximum(cc)][1])"
   ]
  },
  {
   "cell_type": "code",
   "execution_count": 30,
   "id": "d7f6f1f6",
   "metadata": {},
   "outputs": [
    {
     "data": {
      "text/plain": [
       "0.9473684210526315"
      ]
     },
     "execution_count": 30,
     "metadata": {},
     "output_type": "execute_result"
    }
   ],
   "source": [
    "eval_battle_list2(ff2, nash_env, counts./sum(counts))"
   ]
  },
  {
   "cell_type": "code",
   "execution_count": 31,
   "id": "6273fbba",
   "metadata": {},
   "outputs": [
    {
     "data": {
      "text/html": [
       "<div><div style = \"float: left;\"><span>15×7 DataFrame</span></div><div style = \"clear: both;\"></div></div><div class = \"data-frame\" style = \"overflow-x: scroll;\"><table class = \"data-frame\" style = \"margin-bottom: 6px;\"><thead><tr class = \"header\"><th class = \"rowNumber\" style = \"font-weight: bold; text-align: right;\">Row</th><th style = \"text-align: left;\">name</th><th style = \"text-align: left;\">h</th><th style = \"text-align: left;\">f</th><th style = \"text-align: left;\">l</th><th style = \"text-align: left;\">p</th><th style = \"text-align: left;\">r</th><th style = \"text-align: left;\">s</th></tr><tr class = \"subheader headerLastRow\"><th class = \"rowNumber\" style = \"font-weight: bold; text-align: right;\"></th><th title = \"String\" style = \"text-align: left;\">String</th><th title = \"Int64\" style = \"text-align: left;\">Int64</th><th title = \"Int64\" style = \"text-align: left;\">Int64</th><th title = \"Int64\" style = \"text-align: left;\">Int64</th><th title = \"Int64\" style = \"text-align: left;\">Int64</th><th title = \"Int64\" style = \"text-align: left;\">Int64</th><th title = \"Int64\" style = \"text-align: left;\">Int64</th></tr></thead><tbody><tr><td class = \"rowNumber\" style = \"font-weight: bold; text-align: right;\">1</td><td style = \"text-align: left;\">Well-versed Stewardess (or Steward) Pommes Anna</td><td style = \"text-align: right;\">3</td><td style = \"text-align: right;\">7</td><td style = \"text-align: right;\">7</td><td style = \"text-align: right;\">1</td><td style = \"text-align: right;\">3</td><td style = \"text-align: right;\">4</td></tr><tr><td class = \"rowNumber\" style = \"font-weight: bold; text-align: right;\">2</td><td style = \"text-align: left;\">Distinguished Nanny (also nursemaid) Hash browns</td><td style = \"text-align: right;\">3</td><td style = \"text-align: right;\">8</td><td style = \"text-align: right;\">1</td><td style = \"text-align: right;\">1</td><td style = \"text-align: right;\">6</td><td style = \"text-align: right;\">2</td></tr><tr><td class = \"rowNumber\" style = \"font-weight: bold; text-align: right;\">3</td><td style = \"text-align: left;\">Preoccupied Gladiator Meat and potato pie</td><td style = \"text-align: right;\">4</td><td style = \"text-align: right;\">3</td><td style = \"text-align: right;\">15</td><td style = \"text-align: right;\">6</td><td style = \"text-align: right;\">1</td><td style = \"text-align: right;\">2</td></tr><tr><td class = \"rowNumber\" style = \"font-weight: bold; text-align: right;\">4</td><td style = \"text-align: left;\">Imaginative Shoeshiner Meat and potato pie</td><td style = \"text-align: right;\">4</td><td style = \"text-align: right;\">6</td><td style = \"text-align: right;\">4</td><td style = \"text-align: right;\">5</td><td style = \"text-align: right;\">1</td><td style = \"text-align: right;\">4</td></tr><tr><td class = \"rowNumber\" style = \"font-weight: bold; text-align: right;\">5</td><td style = \"text-align: left;\">Conscientious Party-leader Cacasse à cul nu</td><td style = \"text-align: right;\">4</td><td style = \"text-align: right;\">7</td><td style = \"text-align: right;\">4</td><td style = \"text-align: right;\">5</td><td style = \"text-align: right;\">1</td><td style = \"text-align: right;\">2</td></tr><tr><td class = \"rowNumber\" style = \"font-weight: bold; text-align: right;\">6</td><td style = \"text-align: left;\">Tactful Film producer Rappie pie</td><td style = \"text-align: right;\">5</td><td style = \"text-align: right;\">5</td><td style = \"text-align: right;\">4</td><td style = \"text-align: right;\">5</td><td style = \"text-align: right;\">4</td><td style = \"text-align: right;\">2</td></tr><tr><td class = \"rowNumber\" style = \"font-weight: bold; text-align: right;\">7</td><td style = \"text-align: left;\">Assertive Party-leader Funeral potatoes</td><td style = \"text-align: right;\">5</td><td style = \"text-align: right;\">5</td><td style = \"text-align: right;\">4</td><td style = \"text-align: right;\">6</td><td style = \"text-align: right;\">2</td><td style = \"text-align: right;\">3</td></tr><tr><td class = \"rowNumber\" style = \"font-weight: bold; text-align: right;\">8</td><td style = \"text-align: left;\">Selfless Novelist French fries</td><td style = \"text-align: right;\">5</td><td style = \"text-align: right;\">7</td><td style = \"text-align: right;\">1</td><td style = \"text-align: right;\">6</td><td style = \"text-align: right;\">1</td><td style = \"text-align: right;\">1</td></tr><tr><td class = \"rowNumber\" style = \"font-weight: bold; text-align: right;\">9</td><td style = \"text-align: left;\">Credible Dictator Papas chorreadas</td><td style = \"text-align: right;\">6</td><td style = \"text-align: right;\">1</td><td style = \"text-align: right;\">14</td><td style = \"text-align: right;\">6</td><td style = \"text-align: right;\">2</td><td style = \"text-align: right;\">2</td></tr><tr><td class = \"rowNumber\" style = \"font-weight: bold; text-align: right;\">10</td><td style = \"text-align: left;\">Attentive Juggler Clapshot</td><td style = \"text-align: right;\">6</td><td style = \"text-align: right;\">5</td><td style = \"text-align: right;\">6</td><td style = \"text-align: right;\">3</td><td style = \"text-align: right;\">1</td><td style = \"text-align: right;\">2</td></tr><tr><td class = \"rowNumber\" style = \"font-weight: bold; text-align: right;\">11</td><td style = \"text-align: left;\">Careless Investment broker Gamjajeon</td><td style = \"text-align: right;\">7</td><td style = \"text-align: right;\">1</td><td style = \"text-align: right;\">11</td><td style = \"text-align: right;\">3</td><td style = \"text-align: right;\">11</td><td style = \"text-align: right;\">2</td></tr><tr><td class = \"rowNumber\" style = \"font-weight: bold; text-align: right;\">12</td><td style = \"text-align: left;\">Brilliant Novelist Gnocchi</td><td style = \"text-align: right;\">7</td><td style = \"text-align: right;\">5</td><td style = \"text-align: right;\">2</td><td style = \"text-align: right;\">6</td><td style = \"text-align: right;\">3</td><td style = \"text-align: right;\">1</td></tr><tr><td class = \"rowNumber\" style = \"font-weight: bold; text-align: right;\">13</td><td style = \"text-align: left;\">Hospitable Laundress (also Lavendar) Stoemp</td><td style = \"text-align: right;\">7</td><td style = \"text-align: right;\">6</td><td style = \"text-align: right;\">1</td><td style = \"text-align: right;\">2</td><td style = \"text-align: right;\">1</td><td style = \"text-align: right;\">5</td></tr><tr><td class = \"rowNumber\" style = \"font-weight: bold; text-align: right;\">14</td><td style = \"text-align: left;\">Unenthused Film producer Suan la tu dou si</td><td style = \"text-align: right;\">8</td><td style = \"text-align: right;\">1</td><td style = \"text-align: right;\">10</td><td style = \"text-align: right;\">3</td><td style = \"text-align: right;\">6</td><td style = \"text-align: right;\">3</td></tr><tr><td class = \"rowNumber\" style = \"font-weight: bold; text-align: right;\">15</td><td style = \"text-align: left;\">Skilled Shoeshiner Boxty</td><td style = \"text-align: right;\">1</td><td style = \"text-align: right;\">8</td><td style = \"text-align: right;\">4</td><td style = \"text-align: right;\">7</td><td style = \"text-align: right;\">1</td><td style = \"text-align: right;\">3</td></tr></tbody></table></div>"
      ],
      "text/latex": [
       "\\begin{tabular}{r|ccccccc}\n",
       "\t& name & h & f & l & p & r & \\\\\n",
       "\t\\hline\n",
       "\t& String & Int64 & Int64 & Int64 & Int64 & Int64 & \\\\\n",
       "\t\\hline\n",
       "\t1 & Well-versed Stewardess (or Steward) Pommes Anna & 3 & 7 & 7 & 1 & 3 & $\\dots$ \\\\\n",
       "\t2 & Distinguished Nanny (also nursemaid) Hash browns & 3 & 8 & 1 & 1 & 6 & $\\dots$ \\\\\n",
       "\t3 & Preoccupied Gladiator Meat and potato pie & 4 & 3 & 15 & 6 & 1 & $\\dots$ \\\\\n",
       "\t4 & Imaginative Shoeshiner Meat and potato pie & 4 & 6 & 4 & 5 & 1 & $\\dots$ \\\\\n",
       "\t5 & Conscientious Party-leader Cacasse à cul nu & 4 & 7 & 4 & 5 & 1 & $\\dots$ \\\\\n",
       "\t6 & Tactful Film producer Rappie pie & 5 & 5 & 4 & 5 & 4 & $\\dots$ \\\\\n",
       "\t7 & Assertive Party-leader Funeral potatoes & 5 & 5 & 4 & 6 & 2 & $\\dots$ \\\\\n",
       "\t8 & Selfless Novelist French fries & 5 & 7 & 1 & 6 & 1 & $\\dots$ \\\\\n",
       "\t9 & Credible Dictator Papas chorreadas & 6 & 1 & 14 & 6 & 2 & $\\dots$ \\\\\n",
       "\t10 & Attentive Juggler Clapshot & 6 & 5 & 6 & 3 & 1 & $\\dots$ \\\\\n",
       "\t11 & Careless Investment broker Gamjajeon & 7 & 1 & 11 & 3 & 11 & $\\dots$ \\\\\n",
       "\t12 & Brilliant Novelist Gnocchi & 7 & 5 & 2 & 6 & 3 & $\\dots$ \\\\\n",
       "\t13 & Hospitable Laundress (also Lavendar) Stoemp & 7 & 6 & 1 & 2 & 1 & $\\dots$ \\\\\n",
       "\t14 & Unenthused Film producer Suan la tu dou si & 8 & 1 & 10 & 3 & 6 & $\\dots$ \\\\\n",
       "\t15 & Skilled Shoeshiner Boxty & 1 & 8 & 4 & 7 & 1 & $\\dots$ \\\\\n",
       "\\end{tabular}\n"
      ],
      "text/plain": [
       "\u001b[1m15×7 DataFrame\u001b[0m\n",
       "\u001b[1m Row \u001b[0m│\u001b[1m name                              \u001b[0m\u001b[1m h     \u001b[0m\u001b[1m f     \u001b[0m\u001b[1m l     \u001b[0m\u001b[1m p     \u001b[0m\u001b[1m r     \u001b[0m\u001b[1m s\u001b[0m ⋯\n",
       "     │\u001b[90m String                            \u001b[0m\u001b[90m Int64 \u001b[0m\u001b[90m Int64 \u001b[0m\u001b[90m Int64 \u001b[0m\u001b[90m Int64 \u001b[0m\u001b[90m Int64 \u001b[0m\u001b[90m I\u001b[0m ⋯\n",
       "─────┼──────────────────────────────────────────────────────────────────────────\n",
       "   1 │ Well-versed Stewardess (or Stewa…      3      7      7      1      3    ⋯\n",
       "   2 │ Distinguished Nanny (also nursem…      3      8      1      1      6\n",
       "   3 │ Preoccupied Gladiator Meat and p…      4      3     15      6      1\n",
       "   4 │ Imaginative Shoeshiner Meat and …      4      6      4      5      1\n",
       "   5 │ Conscientious Party-leader Cacas…      4      7      4      5      1    ⋯\n",
       "   6 │ Tactful Film producer Rappie pie       5      5      4      5      4\n",
       "   7 │ Assertive Party-leader Funeral p…      5      5      4      6      2\n",
       "   8 │ Selfless Novelist French fries         5      7      1      6      1\n",
       "   9 │ Credible Dictator Papas chorread…      6      1     14      6      2    ⋯\n",
       "  10 │ Attentive Juggler Clapshot             6      5      6      3      1\n",
       "  11 │ Careless Investment broker Gamja…      7      1     11      3     11\n",
       "  12 │ Brilliant Novelist Gnocchi             7      5      2      6      3\n",
       "  13 │ Hospitable Laundress (also Laven…      7      6      1      2      1    ⋯\n",
       "  14 │ Unenthused Film producer Suan la…      8      1     10      3      6\n",
       "  15 │ Skilled Shoeshiner Boxty               1      8      4      7      1\n",
       "\u001b[36m                                                                1 column omitted\u001b[0m"
      ]
     },
     "execution_count": 31,
     "metadata": {},
     "output_type": "execute_result"
    }
   ],
   "source": [
    "append!(nash_env, [ff2])\n",
    "spuds_to_df(nash_env)"
   ]
  },
  {
   "cell_type": "markdown",
   "id": "6c06f6a4",
   "metadata": {},
   "source": [
    "### loop"
   ]
  },
  {
   "cell_type": "code",
   "execution_count": 32,
   "id": "7ef074ce",
   "metadata": {},
   "outputs": [
    {
     "name": "stdout",
     "output_type": "stream",
     "text": [
      "0.1250112483127531\n",
      "0.9999200119982004\n"
     ]
    }
   ],
   "source": [
    "counts = ffp(nash_env, 100000)\n",
    "println(maximum([eval_battle_list2(ff, nash_env, counts./sum(counts)) for ff in nash_env]))\n",
    "ff = rand_rename(pick_best_library2(nash_env, counts./sum(counts)))\n",
    "ev = eval_battle_list2(ff, nash_env, counts./sum(counts))\n",
    "println(ev)"
   ]
  },
  {
   "cell_type": "code",
   "execution_count": 33,
   "id": "11ee17bf",
   "metadata": {},
   "outputs": [
    {
     "data": {
      "text/plain": [
       "27-element Vector{Spud}:\n",
       " Spud(\"\", 1, 8, 12, 4, 2, 4)\n",
       " Spud(\"\", 1, 8, 4, 4, 2, 5)\n",
       " Spud(\"\", 1, 8, 4, 4, 3, 4)\n",
       " Spud(\"\", 1, 8, 4, 5, 2, 4)\n",
       " Spud(\"\", 1, 9, 2, 4, 2, 4)\n",
       " Spud(\"\", 1, 9, 1, 4, 2, 4)\n",
       " Spud(\"\", 2, 7, 11, 2, 2, 5)\n",
       " Spud(\"\", 2, 7, 11, 2, 3, 4)\n",
       " Spud(\"\", 2, 7, 11, 3, 2, 4)\n",
       " Spud(\"\", 2, 7, 15, 2, 2, 4)\n",
       " Spud(\"\", 2, 9, 5, 2, 2, 4)\n",
       " Spud(\"\", 2, 8, 2, 2, 2, 6)\n",
       " Spud(\"\", 2, 9, 1, 2, 3, 4)\n",
       " ⋮\n",
       " Spud(\"\", 2, 8, 2, 3, 3, 4)\n",
       " Spud(\"\", 2, 8, 2, 3, 2, 5)\n",
       " Spud(\"\", 2, 8, 2, 4, 2, 4)\n",
       " Spud(\"\", 2, 8, 6, 2, 2, 5)\n",
       " Spud(\"\", 2, 8, 6, 2, 3, 4)\n",
       " Spud(\"\", 2, 8, 6, 3, 2, 4)\n",
       " Spud(\"\", 3, 8, 4, 2, 2, 4)\n",
       " Spud(\"\", 2, 8, 10, 2, 2, 4)\n",
       " Spud(\"\", 3, 8, 1, 2, 2, 5)\n",
       " Spud(\"\", 3, 8, 1, 2, 3, 4)\n",
       " Spud(\"\", 3, 8, 1, 3, 2, 4)\n",
       " Spud(\"\", 4, 8, 1, 2, 2, 4)"
      ]
     },
     "execution_count": 33,
     "metadata": {},
     "output_type": "execute_result"
    }
   ],
   "source": [
    "bestf = subset_library(nash_env, 900, counts./sum(counts), ev-0.05)"
   ]
  },
  {
   "cell_type": "code",
   "execution_count": 34,
   "id": "14a90410",
   "metadata": {},
   "outputs": [
    {
     "data": {
      "text/plain": [
       "Spud(\"Show-off Barman Hash browns\", 3, 8, 4, 2, 2, 4)"
      ]
     },
     "execution_count": 34,
     "metadata": {},
     "output_type": "execute_result"
    }
   ],
   "source": [
    "ff"
   ]
  },
  {
   "cell_type": "code",
   "execution_count": 35,
   "id": "dccc6018",
   "metadata": {},
   "outputs": [
    {
     "data": {
      "text/plain": [
       "Spud(\"Appreciative Acupuncturist Papas chorreadas\", 1, 8, 4, 4, 3, 4)"
      ]
     },
     "execution_count": 35,
     "metadata": {},
     "output_type": "execute_result"
    }
   ],
   "source": [
    "ff = rand_rename(pick_best_library2(nash_env, counts./sum(counts)))\n",
    "ff"
   ]
  },
  {
   "cell_type": "code",
   "execution_count": 36,
   "id": "6c1fb941",
   "metadata": {},
   "outputs": [
    {
     "data": {
      "text/plain": [
       "0.9999400089986503"
      ]
     },
     "execution_count": 36,
     "metadata": {},
     "output_type": "execute_result"
    }
   ],
   "source": [
    "eval_battle_list2(ff, nash_env, counts./sum(counts))"
   ]
  },
  {
   "cell_type": "code",
   "execution_count": 37,
   "id": "9d3f7c62",
   "metadata": {},
   "outputs": [
    {
     "data": {
      "text/plain": [
       "0.9999200119982004"
      ]
     },
     "execution_count": 37,
     "metadata": {},
     "output_type": "execute_result"
    }
   ],
   "source": [
    "ev"
   ]
  },
  {
   "cell_type": "code",
   "execution_count": 38,
   "id": "9434f3a1",
   "metadata": {},
   "outputs": [
    {
     "data": {
      "text/plain": [
       "0.9999200119982004"
      ]
     },
     "execution_count": 38,
     "metadata": {},
     "output_type": "execute_result"
    }
   ],
   "source": [
    "ev"
   ]
  },
  {
   "cell_type": "code",
   "execution_count": 39,
   "id": "c247ec4b",
   "metadata": {},
   "outputs": [
    {
     "name": "stdout",
     "output_type": "stream",
     "text": [
      "27\n",
      "3337\n"
     ]
    }
   ],
   "source": [
    "println(length(bestf))\n",
    "cc = ffp(bestf, 10000)\n",
    "println(maximum(cc))"
   ]
  },
  {
   "cell_type": "code",
   "execution_count": 40,
   "id": "ab75c8b2",
   "metadata": {},
   "outputs": [
    {
     "data": {
      "text/plain": [
       "Spud(\"Neglectful Shoeshiner Hash browns\", 1, 8, 4, 5, 2, 4)"
      ]
     },
     "execution_count": 40,
     "metadata": {},
     "output_type": "execute_result"
    }
   ],
   "source": [
    "ff2 = rand_rename(bestf[cc .== maximum(cc)][1])"
   ]
  },
  {
   "cell_type": "code",
   "execution_count": 41,
   "id": "ed665bf3",
   "metadata": {},
   "outputs": [
    {
     "name": "stdout",
     "output_type": "stream",
     "text": [
      "0.9999200119982004\n"
     ]
    }
   ],
   "source": [
    "println(eval_battle_list2(ff2, nash_env, counts./sum(counts)))"
   ]
  },
  {
   "cell_type": "code",
   "execution_count": 42,
   "id": "75ff66ed",
   "metadata": {},
   "outputs": [
    {
     "data": {
      "text/plain": [
       "16-element Vector{Spud}:\n",
       " Spud(\"Well-versed Stewardess (or Steward) Pommes Anna\", 3, 7, 7, 1, 3, 4)\n",
       " Spud(\"Distinguished Nanny (also nursemaid) Hash browns\", 3, 8, 1, 1, 6, 2)\n",
       " Spud(\"Preoccupied Gladiator Meat and potato pie\", 4, 3, 15, 6, 1, 2)\n",
       " Spud(\"Imaginative Shoeshiner Meat and potato pie\", 4, 6, 4, 5, 1, 4)\n",
       " Spud(\"Conscientious Party-leader Cacasse à cul nu\", 4, 7, 4, 5, 1, 2)\n",
       " Spud(\"Tactful Film producer Rappie pie\", 5, 5, 4, 5, 4, 2)\n",
       " Spud(\"Assertive Party-leader Funeral potatoes\", 5, 5, 4, 6, 2, 3)\n",
       " Spud(\"Selfless Novelist French fries\", 5, 7, 1, 6, 1, 1)\n",
       " Spud(\"Credible Dictator Papas chorreadas\", 6, 1, 14, 6, 2, 2)\n",
       " Spud(\"Attentive Juggler Clapshot\", 6, 5, 6, 3, 1, 2)\n",
       " Spud(\"Careless Investment broker Gamjajeon\", 7, 1, 11, 3, 11, 2)\n",
       " Spud(\"Brilliant Novelist Gnocchi\", 7, 5, 2, 6, 3, 1)\n",
       " Spud(\"Hospitable Laundress (also Lavendar) Stoemp\", 7, 6, 1, 2, 1, 5)\n",
       " Spud(\"Unenthused Film producer Suan la tu dou si\", 8, 1, 10, 3, 6, 3)\n",
       " Spud(\"Skilled Shoeshiner Boxty\", 1, 8, 4, 7, 1, 3)\n",
       " Spud(\"Neglectful Shoeshiner Hash browns\", 1, 8, 4, 5, 2, 4)"
      ]
     },
     "execution_count": 42,
     "metadata": {},
     "output_type": "execute_result"
    }
   ],
   "source": [
    "append!(nash_env, [ff2])"
   ]
  },
  {
   "cell_type": "code",
   "execution_count": 43,
   "id": "f92d53b4",
   "metadata": {
    "scrolled": false
   },
   "outputs": [
    {
     "name": "stdout",
     "output_type": "stream",
     "text": [
      "123456789101112131415161718192021222324252627282930313233343536373839404142434445464748495051525354555657585960616263646566676869707172737475767778798081828384858687888990919293949596979899100101102103104105106107108109110111112113114115116117118119120121122123124125126127128129130131132133134135136137138139140141142143144145146147148149150151152153154155156157158159160161162163164165166167168169170171172173174175176177178179180181182183184185186187188189190191192193194195196197198199200\n"
     ]
    },
    {
     "data": {
      "text/plain": [
       "0.0644043422248409"
      ]
     },
     "execution_count": 43,
     "metadata": {},
     "output_type": "execute_result"
    }
   ],
   "source": [
    "for ii in 1:200\n",
    "    #println()\n",
    "    print(ii)\n",
    "    counts = ffp(nash_env, 100000)\n",
    "    #println(maximum([eval_battle_list2(ff, nash_env, counts./sum(counts)) for ff in nash_env]))\n",
    "    ff = rand_rename(pick_best_library2(nash_env, counts./sum(counts)))\n",
    "    ev = eval_battle_list2(ff, nash_env, counts./sum(counts))\n",
    "    #println(ev)\n",
    "    bestf = subset_library(nash_env, 900, counts./sum(counts), ev-0.05)\n",
    "    #println(length(bestf))\n",
    "    cc = ffp(bestf, 10000)\n",
    "    #println(maximum(cc))\n",
    "    ff2 = rand_rename(bestf[cc .== maximum(cc)][1])\n",
    "    #println(eval_battle_list2(ff2, nash_env, counts./sum(counts)))\n",
    "    append!(nash_env, [ff2])\n",
    "end\n",
    "println()\n",
    "counts = ffp(nash_env, 100000)\n",
    "#ff = pick_best_library2(nash_env, counts./sum(counts))\n",
    "#eval_battle_list2(ff, nash_env, counts./sum(counts))    \n",
    "nash_env = nash_env[counts .> 10]\n",
    "counts = ffp(nash_env, 100000);\n",
    "\n",
    "ff = pick_best_library2(nash_env, counts./sum(counts))\n",
    "eval_battle_list2(ff, nash_env, counts./sum(counts))"
   ]
  },
  {
   "cell_type": "code",
   "execution_count": 44,
   "id": "19cb55ce",
   "metadata": {},
   "outputs": [
    {
     "data": {
      "text/plain": [
       "133-element Vector{Spud}:\n",
       " Spud(\"Distinguished Nanny (also nursemaid) Hash browns\", 3, 8, 1, 1, 6, 2)\n",
       " Spud(\"Unflinching Ferryman Funeral potatoes\", 9, 6, 3, 1, 1, 1)\n",
       " Spud(\"Methodical Juggler Suan la tu dou si\", 7, 2, 9, 7, 2, 2)\n",
       " Spud(\"Crafty Automobile racer Potatonik\", 7, 1, 11, 9, 2, 5)\n",
       " Spud(\"Fierce Consultant Pommes Anna\", 2, 5, 12, 3, 6, 4)\n",
       " Spud(\"Covert Housekeeper Rappie pie\", 7, 7, 3, 2, 1, 1)\n",
       " Spud(\"Composed Paramedic Tartiflette\", 3, 10, 3, 3, 2, 1)\n",
       " Spud(\"Reckless Environmental scientist Funeral potatoes\", 2, 7, 1, 7, 4, 1)\n",
       " Spud(\"Unremarkable Dictator Batata vada\", 11, 1, 7, 8, 3, 1)\n",
       " Spud(\"Lackadaisical Shoeshiner Rappie pie\", 5, 10, 2, 2, 1, 1)\n",
       " Spud(\"Determined Gondolier Älplermagronen\", 2, 5, 15, 6, 1, 5)\n",
       " Spud(\"Unimpressed Tutor Pommes Anna\", 5, 2, 12, 1, 7, 7)\n",
       " Spud(\"Uninspired Magnate Clapshot\", 7, 3, 7, 1, 5, 4)\n",
       " ⋮\n",
       " Spud(\"Tender Auctioneer Okroshka\", 2, 5, 15, 8, 2, 2)\n",
       " Spud(\"Incomprehensible Chimney sweep Ajiaco\", 12, 3, 4, 1, 2, 2)\n",
       " Spud(\"Withdrawn Stewardess (or Steward) Boulangère potatoes\", 2, 11, 6, 1, 3, 2)\n",
       " Spud(\"Unpleased Anesthetist Gamjajeon\", 10, 5, 2, 1, 3, 2)\n",
       " Spud(\"Modest Gondolier Pommes Anna\", 2, 4, 18, 6, 7, 1)\n",
       " Spud(\"Tender Queen dowager Pitepalt\", 3, 3, 17, 2, 7, 4)\n",
       " Spud(\"Attractive Author Funeral potatoes\", 10, 5, 2, 3, 1, 2)\n",
       " Spud(\"Versatile Author Brændende kærlighed\", 10, 4, 4, 2, 1, 2)\n",
       " Spud(\"Steely Ferryman Kouign patatez\", 8, 8, 1, 1, 1, 1)\n",
       " Spud(\"Radiant Estate agent Pommes Anna\", 6, 1, 14, 3, 6, 1)\n",
       " Spud(\"Influential Impersonator Pommes Anna\", 6, 2, 13, 2, 1, 2)\n",
       " Spud(\"Tolerant Paramedic Cacasse à cul nu\", 1, 7, 2, 7, 1, 5)"
      ]
     },
     "execution_count": 44,
     "metadata": {},
     "output_type": "execute_result"
    }
   ],
   "source": [
    "nash_env"
   ]
  },
  {
   "cell_type": "markdown",
   "id": "171a817d",
   "metadata": {},
   "source": [
    "## beware"
   ]
  },
  {
   "cell_type": "code",
   "execution_count": 45,
   "id": "5fa5d207",
   "metadata": {},
   "outputs": [
    {
     "data": {
      "text/plain": [
       "\"spuds_nash_stage01.csv\""
      ]
     },
     "execution_count": 45,
     "metadata": {},
     "output_type": "execute_result"
    }
   ],
   "source": [
    "CSV.write(\"spuds_nash_stage01.csv\", spuds_to_df(nash_env))"
   ]
  },
  {
   "cell_type": "markdown",
   "id": "76650c8f",
   "metadata": {},
   "source": [
    "### refine weights"
   ]
  },
  {
   "cell_type": "code",
   "execution_count": null,
   "id": "523d545c",
   "metadata": {},
   "outputs": [],
   "source": [
    "eps = 0.01/length(library)\n",
    "nits = 40000\n",
    "sub_iter = 2000\n",
    "w = counts./sum(counts)"
   ]
  },
  {
   "cell_type": "code",
   "execution_count": null,
   "id": "0836d787",
   "metadata": {},
   "outputs": [],
   "source": [
    "n_nash = length(nash_env)\n",
    "i_lose = Array{Int}(undef, (n_nash, n_nash))\n",
    "n_lose = Array{Int}(undef, n_nash)\n",
    "for i in 1:n_nash\n",
    "    n_lose[i] = 0\n",
    "    ff = nash_env[i]\n",
    "    for j in 1:n_nash\n",
    "        if eval_battle(ff, nash_env[j]) ==-1\n",
    "            n_lose[i] += 1\n",
    "            i_lose[i, n_lose[i]] = j\n",
    "        end\n",
    "    end\n",
    "end"
   ]
  },
  {
   "cell_type": "code",
   "execution_count": null,
   "id": "08c7f25b",
   "metadata": {},
   "outputs": [],
   "source": [
    "scores = [0.0 for i in 1:n_nash]\n",
    "for i in 1:n_nash\n",
    "    for j in 1:n_lose[i]\n",
    "        i_w = i_lose[i, j]\n",
    "        scores[i_w]+= w[i]\n",
    "    end\n",
    "end"
   ]
  },
  {
   "cell_type": "code",
   "execution_count": null,
   "id": "c0b4dbde",
   "metadata": {},
   "outputs": [],
   "source": [
    "previous_score = maximum(scores)\n",
    "for iter in 1:nits\n",
    "    ind_winners = findall(scores .== maximum(scores))\n",
    "    i = rand(ind_winners)\n",
    "    w[i] += eps\n",
    "    for j in 1:n_lose[i]\n",
    "        i_w = i_lose[i, j]\n",
    "        scores[i_w]+= eps\n",
    "    end\n",
    "    if mod1(iter, sub_iter) == 1\n",
    "        scores = scores./sum(w)\n",
    "        w = w./sum(w)\n",
    "        if maximum(scores) > previous_score\n",
    "            eps = eps/2\n",
    "            println(eps)\n",
    "            println()\n",
    "            println()\n",
    "        end\n",
    "        previous_score = maximum(scores)\n",
    "        mxv, mxi = findmax(scores)\n",
    "        print(nash_env[mxi])\n",
    "        print(\" w:\")\n",
    "        print(w[mxi])\n",
    "        print(\" s:\")\n",
    "        print(scores[mxi])\n",
    "        println()\n",
    "    end\n",
    "end\n"
   ]
  },
  {
   "cell_type": "code",
   "execution_count": null,
   "id": "5cd18cd9",
   "metadata": {},
   "outputs": [],
   "source": [
    "maximum([eval_battle_list2(ff, nash_env, w) for ff in nash_env])"
   ]
  },
  {
   "cell_type": "code",
   "execution_count": null,
   "id": "164743ab",
   "metadata": {},
   "outputs": [],
   "source": [
    "ff = pick_best_library2(nash_env, w)\n",
    "println(ff)\n",
    "eval_battle_list2(ff, nash_env, w)"
   ]
  },
  {
   "cell_type": "markdown",
   "id": "58222ce6",
   "metadata": {},
   "source": [
    "## Old code"
   ]
  },
  {
   "cell_type": "code",
   "execution_count": null,
   "id": "d3e07cf7",
   "metadata": {},
   "outputs": [],
   "source": [
    "function nashprox2(size, start_size, ns)\n",
    "    nash_env = Array{Spud}(undef, size)\n",
    "    nash_env[1:start_size] = random_team(() -> rand(library), start_size)\n",
    "    for j in (start_size+1):size\n",
    "        if j < ns\n",
    "            ff = pick_ok_counter(nash_env[1:(j-1)])\n",
    "            nash_env[j] = ff\n",
    "        else\n",
    "            ff = pick_ok_counter(randsubseq(nash_env[1:(j-1)], ns/j))\n",
    "            nash_env[j] = ff                \n",
    "        end\n",
    "    end\n",
    "    return nash_env\n",
    "end\n",
    "\n",
    "function nashprox(size, start_size, ns)\n",
    "    nash_env = Array{Spud}(undef, size)\n",
    "    nash_env[1:start_size] = random_team(() -> rand(library), start_size)\n",
    "    for j in (start_size+1):size\n",
    "        if j < ns\n",
    "            ff = pick_best_library(nash_env[1:(j-1)])\n",
    "            nash_env[j] = ff\n",
    "        else\n",
    "            ff = pick_best_library(randsubseq(nash_env[1:(j-1)], ns/j))\n",
    "            nash_env[j] = ff                \n",
    "        end\n",
    "    end\n",
    "    return nash_env\n",
    "end"
   ]
  },
  {
   "cell_type": "code",
   "execution_count": null,
   "id": "e08da8ee",
   "metadata": {},
   "outputs": [],
   "source": []
  },
  {
   "cell_type": "code",
   "execution_count": null,
   "id": "b778cb19",
   "metadata": {},
   "outputs": [],
   "source": [
    "@time nash_env = nashprox(4000, 10, 100)\n",
    "nash_env = unique(nash_env)\n",
    "#inds_nash = [id_no[ff] for ff in nash_env];\n",
    "#length(inds_nash)\n",
    "n_nash = length(nash_env)"
   ]
  },
  {
   "cell_type": "code",
   "execution_count": null,
   "id": "84a8035a",
   "metadata": {
    "scrolled": false
   },
   "outputs": [],
   "source": [
    "# Verify 3-explotability\n",
    "for i in 1:1000\n",
    "    #inds = sort([rand(inds_nash) for i in 1:3])\n",
    "    #rt = library[inds]\n",
    "    rt = random_team(() -> rand(nash_env), 3)\n",
    "    ff = pick_best_library(rt)\n",
    "    ev = eval_battle_list(ff, rt)\n",
    "    if ev < 3\n",
    "        println(rt)\n",
    "    end\n",
    "end\n"
   ]
  },
  {
   "cell_type": "code",
   "execution_count": null,
   "id": "9f5eced7",
   "metadata": {
    "scrolled": false
   },
   "outputs": [],
   "source": [
    "# Verify 4-explotability\n",
    "for i in 1:1000\n",
    "    #inds = sort([rand(inds_nash) for i in 1:3])\n",
    "    #rt = library[inds]\n",
    "    rt = random_team(() -> rand(nash_env), 4)\n",
    "    ff = pick_best_library(rt)\n",
    "    ev = eval_battle_list(ff, rt)\n",
    "    if ev < 4\n",
    "        println(rt)\n",
    "        println(ev)\n",
    "    end\n",
    "end\n"
   ]
  },
  {
   "cell_type": "code",
   "execution_count": null,
   "id": "e417b44a",
   "metadata": {},
   "outputs": [],
   "source": [
    "#inds = sort([rand(1:n_spuds) for i in 1:5])\n",
    "#rt = library[inds]"
   ]
  },
  {
   "cell_type": "code",
   "execution_count": null,
   "id": "a49d058e",
   "metadata": {},
   "outputs": [],
   "source": [
    "# rt = library[[1403,1902,2283,2397]]\n",
    "# rt"
   ]
  },
  {
   "cell_type": "code",
   "execution_count": null,
   "id": "b8cbb659",
   "metadata": {},
   "outputs": [],
   "source": [
    "# ff = pick_best(library, rt)\n",
    "# ind = [i for i in 1:n_spuds if library[i] == ff][1]\n",
    "# print(ff)\n",
    "# print(\" \")\n",
    "# eval_battle_list(ff, rt)"
   ]
  },
  {
   "cell_type": "markdown",
   "id": "68e3cf22",
   "metadata": {},
   "source": [
    "## Fictitious Play to compute Nash distribution"
   ]
  },
  {
   "cell_type": "code",
   "execution_count": null,
   "id": "ada1403f",
   "metadata": {},
   "outputs": [],
   "source": [
    "@time nash_env = nashprox(4000, 10, 100)\n",
    "nash_env = unique(nash_env)\n",
    "#inds_nash = [id_no[ff] for ff in nash_env];\n",
    "#length(inds_nash)\n",
    "n_nash = length(nash_env)"
   ]
  },
  {
   "cell_type": "code",
   "execution_count": null,
   "id": "0d3e042b",
   "metadata": {},
   "outputs": [],
   "source": []
  },
  {
   "cell_type": "code",
   "execution_count": null,
   "id": "78baa903",
   "metadata": {},
   "outputs": [],
   "source": [
    "i_lose = Array{Int}(undef, (n_nash, n_nash))\n",
    "n_lose = Array{Int}(undef, n_nash)\n",
    "for i in 1:n_nash\n",
    "    n_lose[i] = 0\n",
    "    ff = nash_env[i]\n",
    "    for j in 1:n_nash\n",
    "        if eval_battle(ff, nash_env[j]) ==-1\n",
    "            n_lose[i] += 1\n",
    "            i_lose[i, n_lose[i]] = j\n",
    "        end\n",
    "    end\n",
    "end"
   ]
  },
  {
   "cell_type": "code",
   "execution_count": null,
   "id": "63d2b34e",
   "metadata": {},
   "outputs": [],
   "source": [
    "# initialize FP with 1 of each\n",
    "counts = [0 for i in 1:n_nash]\n",
    "wins = [0 for i in 1:n_nash]\n",
    "for i in 1:n_nash\n",
    "    counts[i] += 1\n",
    "    for j in 1:n_lose[i]\n",
    "        i_w = i_lose[i, j]\n",
    "        wins[i_w]+= 1\n",
    "    end\n",
    "end"
   ]
  },
  {
   "cell_type": "code",
   "execution_count": null,
   "id": "b9ee5863",
   "metadata": {
    "scrolled": false
   },
   "outputs": [],
   "source": [
    "nits = 500000\n",
    "for iter in 1:nits\n",
    "    ind_winners = findall(wins .== maximum(wins))\n",
    "    for i in ind_winners\n",
    "        counts[i] += 1\n",
    "        for j in 1:n_lose[i]\n",
    "            i_w = i_lose[i, j]\n",
    "            wins[i_w]+= 1\n",
    "        end\n",
    "    end\n",
    "    if mod1(iter, 10000) == 1\n",
    "        mxv, mxi = findmax(wins)\n",
    "        print(nash_env[mxi])\n",
    "        print(\" n:\")\n",
    "        print(counts[mxi])\n",
    "        print(\" w:\")\n",
    "        print(wins[mxi])\n",
    "        println()\n",
    "    end\n",
    "end\n",
    "\n",
    "w = counts./sum(counts)\n",
    "println(maximum([eval_battle_list2(ff, nash_env, w) for ff in nash_env]))\n",
    "sum(counts)"
   ]
  },
  {
   "cell_type": "code",
   "execution_count": null,
   "id": "a74a6b9d",
   "metadata": {},
   "outputs": [],
   "source": [
    "ff = pick_best_library2(nash_env, w)\n",
    "println(ff)\n",
    "eval_battle_list2(ff, nash_env, w)"
   ]
  },
  {
   "cell_type": "code",
   "execution_count": null,
   "id": "8a375193",
   "metadata": {},
   "outputs": [],
   "source": [
    "inds_sel = sortperm(-w)[1:500]\n",
    "tab = spuds_to_df(nash_env[inds_sel])\n",
    "tab[!, :w] = w[inds_sel]\n",
    "tab"
   ]
  },
  {
   "cell_type": "code",
   "execution_count": null,
   "id": "539633b4",
   "metadata": {
    "scrolled": true
   },
   "outputs": [],
   "source": [
    "# Verify explotability\n",
    "for i in 1:10000\n",
    "    inds = sort([rand(inds_sel[1:120]) for i in 1:3])\n",
    "    rt = nash_env[inds]\n",
    "    ff = pick_best(library, rt)\n",
    "    ev = eval_battle_list(ff, rt)\n",
    "    if ev < 3\n",
    "        println(spuds_to_df(rt))\n",
    "        println(w[inds])\n",
    "        println(ev)\n",
    "    end\n",
    "end"
   ]
  },
  {
   "cell_type": "code",
   "execution_count": null,
   "id": "ca23894e",
   "metadata": {},
   "outputs": [],
   "source": [
    "rt = nash_env[sort([rand(1:n_nash) for i in 1:4])]"
   ]
  },
  {
   "cell_type": "code",
   "execution_count": null,
   "id": "e1899929",
   "metadata": {},
   "outputs": [],
   "source": [
    "ff = pick_best_rdmly(nash_env[inds_sel], rt, 99)\n",
    "ev = eval_battle_list(ff, rt)\n",
    "println(ff)\n",
    "println(ev)\n",
    "eval_battle_list2(ff, nash_env, w)"
   ]
  },
  {
   "cell_type": "code",
   "execution_count": null,
   "id": "497f2f3a",
   "metadata": {},
   "outputs": [],
   "source": [
    "ff = pick_best_rdmly(library, rt, 99)\n",
    "ev = eval_battle_list(ff, rt)\n",
    "println(ff)\n",
    "println(ev)\n",
    "eval_battle_list2(ff, nash_env, w)"
   ]
  },
  {
   "cell_type": "code",
   "execution_count": null,
   "id": "12acdb76",
   "metadata": {},
   "outputs": [],
   "source": [
    "ff = rand(library)\n",
    "println(ff)\n",
    "eval_battle_list2(ff, nash_env, w)"
   ]
  },
  {
   "cell_type": "code",
   "execution_count": null,
   "id": "faf95c79",
   "metadata": {},
   "outputs": [],
   "source": [
    "#cost(4,4,9,1,4,2)"
   ]
  },
  {
   "cell_type": "code",
   "execution_count": null,
   "id": "4d0bc4c8",
   "metadata": {},
   "outputs": [],
   "source": [
    "#rt = library[[15918,21020,26191]]\n",
    "#eval_battle(Spud(\"\",4,4,9,1,4,1), rt[1])"
   ]
  },
  {
   "cell_type": "code",
   "execution_count": null,
   "id": "17a5cad4",
   "metadata": {},
   "outputs": [],
   "source": [
    "#sum(sort(-w)[1:450])"
   ]
  },
  {
   "cell_type": "code",
   "execution_count": null,
   "id": "c945e08d",
   "metadata": {},
   "outputs": [],
   "source": [
    "#sum(w)"
   ]
  },
  {
   "cell_type": "code",
   "execution_count": null,
   "id": "209dc74d",
   "metadata": {},
   "outputs": [],
   "source": [
    "# # FP is slow to converge in the end\n",
    "# eps = 0.01/length(library)\n",
    "# nits = 20000\n",
    "# scores = wins./sum(counts)\n",
    "# w = counts./sum(counts)\n",
    "# 0"
   ]
  },
  {
   "cell_type": "code",
   "execution_count": null,
   "id": "d50fc1f0",
   "metadata": {},
   "outputs": [],
   "source": [
    "# previous_score = maximum(scores)\n",
    "# for iter in 1:nits\n",
    "#     ind_winners = findall(wins .== maximum(wins))\n",
    "#     i = rand(ind_winners)\n",
    "#     w[i] += eps\n",
    "#     for j in 1:n_lose[i]\n",
    "#         i_w = i_lose[i, j]\n",
    "#         scores[i_w]+= eps\n",
    "#     end\n",
    "#     if mod1(iter, 2000) == 1\n",
    "#         scores = scores./sum(w)\n",
    "#         w = w./sum(w)\n",
    "#         if maximum(scores) > previous_score\n",
    "#             eps = eps/2\n",
    "#             println(eps)\n",
    "#             println()\n",
    "#             println()\n",
    "#         end\n",
    "#         previous_score = maximum(scores)\n",
    "#         mxv, mxi = findmax(wins)\n",
    "#         print(library[mxi])\n",
    "#         print(\" n:\")\n",
    "#         print(w[mxi])\n",
    "#         print(\" w:\")\n",
    "#         print(scores[mxi])\n",
    "#         println()\n",
    "#         mxv, mxi = findmax(counts)\n",
    "#         print(library[mxi])\n",
    "#         print(\" n:\")\n",
    "#         print(w[mxi])\n",
    "#         print(\" w:\")\n",
    "#         print(scores[mxi])\n",
    "#         println()\n",
    "#         println(maximum([eval_battle_list2(ff, library, w) for ff in library]))\n",
    "#         println()\n",
    "#     end\n",
    "# end\n"
   ]
  },
  {
   "cell_type": "code",
   "execution_count": null,
   "id": "34e127aa",
   "metadata": {},
   "outputs": [],
   "source": []
  }
 ],
 "metadata": {
  "kernelspec": {
   "display_name": "Julia 1.9.3",
   "language": "julia",
   "name": "julia-1.9"
  },
  "language_info": {
   "file_extension": ".jl",
   "mimetype": "application/julia",
   "name": "julia",
   "version": "1.9.3"
  }
 },
 "nbformat": 4,
 "nbformat_minor": 5
}

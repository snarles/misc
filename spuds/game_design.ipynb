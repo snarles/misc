{
 "cells": [
  {
   "cell_type": "markdown",
   "id": "052be005",
   "metadata": {},
   "source": [
    "Design of a new game, Spuds"
   ]
  },
  {
   "cell_type": "code",
   "execution_count": 1,
   "id": "494818e8",
   "metadata": {},
   "outputs": [],
   "source": [
    "using Random\n",
    "using DataFrames\n",
    "using CSV\n",
    "using Statistics\n",
    "using Printf\n",
    "using LinearAlgebra"
   ]
  },
  {
   "cell_type": "code",
   "execution_count": 2,
   "id": "1e1008a1",
   "metadata": {},
   "outputs": [
    {
     "data": {
      "text/plain": [
       "cost (generic function with 1 method)"
      ]
     },
     "execution_count": 2,
     "metadata": {},
     "output_type": "execute_result"
    }
   ],
   "source": [
    "struct Spud\n",
    "    name::String\n",
    "    h::Int64\n",
    "    f::Int64\n",
    "    l::Int64\n",
    "    p::Int64\n",
    "    r::Int64\n",
    "    s::Int64\n",
    "end\n",
    "\n",
    "const MXS = 400\n",
    "const MXV = 40\n",
    "const MNV = 2\n",
    "\n",
    "function cost(h::Int64, f::Int64, l::Int64, p::Int64, r::Int64, s::Int64)::Int64\n",
    "    #return h*(f+l-2*MNV) + f*(p+r+s-3*MNV) + h+f+l+p+r+s-6*MNV\n",
    "    return h*(f+l) + f*(p+r+s)\n",
    "end"
   ]
  },
  {
   "cell_type": "code",
   "execution_count": 3,
   "id": "ac830f74",
   "metadata": {},
   "outputs": [
    {
     "data": {
      "text/plain": [
       "eval_battle (generic function with 1 method)"
      ]
     },
     "execution_count": 3,
     "metadata": {},
     "output_type": "execute_result"
    }
   ],
   "source": [
    "function eval_battle(a::Spud, b::Spud)::Int\n",
    "    a_finds = a.f >= b.h\n",
    "    b_finds = b.f >= a.h\n",
    "    #score_a = 4 * (1000*a.p + a.l > 1000*b.p+b.l) + 3 * (1000*a.r+a.l > 1000*b.r+b.l) + 2 * (1000*a.s+a.l > 1000*b.s+b.l)\n",
    "    #score_b = 4 * (1000*a.p + a.l < 1000*b.p+b.l) + 3 * (1000*a.r+a.l < 1000*b.r+b.l) + 2 * (1000*a.s+a.l < 1000*b.s+b.l)\n",
    "    score_a = 4 * (a.p > b.p) + 3 * (a.r > b.r) + 2 * (a.s > b.s)\n",
    "    score_b = 4 * (a.p < b.p) + 3 * (a.r < b.r) + 2 * (a.s < b.s)\n",
    "    melee_win = sign(score_a - score_b)\n",
    "    if a_finds && b_finds\n",
    "        tiebreaker = 4 * melee_win + 2 * sign(a.l - b.l) + sign(a.h - b.h)\n",
    "        return sign(tiebreaker)\n",
    "    end\n",
    "    if a_finds && !b_finds\n",
    "        return 1\n",
    "    end\n",
    "    if !a_finds && b_finds\n",
    "        return -1\n",
    "    end\n",
    "    if !a_finds && !b_finds\n",
    "        tiebreaker = 4 * sign(a.l - b.l) + 2 * melee_win + sign(a.f - b.f)\n",
    "        return sign(tiebreaker)\n",
    "    end\n",
    "end\n"
   ]
  },
  {
   "cell_type": "code",
   "execution_count": 4,
   "id": "40b9dc47",
   "metadata": {},
   "outputs": [
    {
     "data": {
      "text/plain": [
       "random_name_and_stat (generic function with 1 method)"
      ]
     },
     "execution_count": 4,
     "metadata": {},
     "output_type": "execute_result"
    }
   ],
   "source": [
    "tab = CSV.read(\"census_yob2022_names.txt\", DataFrame, header = false)\n",
    "names = tab.Column1\n",
    "adjectives = CSV.read(\"adjectives.csv\", DataFrame)\n",
    "nouns = CSV.read(\"nouns.csv\", DataFrame)\n",
    "condiments = CSV.read(\"condiments.csv\", DataFrame)\n",
    "\n",
    "function random_name_and_stat()::Spud\n",
    "    vp = [0, 0, 0, 0, 0, 0]\n",
    "    nametype = rand([1,1,1,1,1,2,2,2,3])\n",
    "    name = \"\"\n",
    "    noun = \"\"\n",
    "    adj = \"\"\n",
    "    if nametype == 1 || nametype == 2 || nametype == 3\n",
    "        noun_i = rand(1:nrow(nouns))\n",
    "        noun = nouns[noun_i, :noun]\n",
    "        vp[1] = vp[1] + nouns[noun_i, :H]\n",
    "        vp[2] = vp[2] + nouns[noun_i, :F]\n",
    "        vp[3] = vp[3] + nouns[noun_i, :L]\n",
    "        vp[4] = vp[4] + nouns[noun_i, :P]    \n",
    "        vp[5] = vp[5] + nouns[noun_i, :R]\n",
    "        vp[6] = vp[6] + nouns[noun_i, :S]    \n",
    "    end\n",
    "    if nametype == 1 || nametype == 3\n",
    "        adj_i = rand(1:nrow(adjectives))\n",
    "        adj = adjectives[adj_i, :adjective]\n",
    "        vp[1] = vp[1] + adjectives[adj_i, :H]\n",
    "        vp[2] = vp[2] + adjectives[adj_i, :F]\n",
    "        vp[3] = vp[3] + adjectives[adj_i, :L]\n",
    "        vp[4] = vp[4] + adjectives[adj_i, :P]\n",
    "        vp[5] = vp[5] + adjectives[adj_i, :R]\n",
    "        vp[6] = vp[6] + adjectives[adj_i, :S]\n",
    "    end\n",
    "    if nametype == 2 || nametype == 3\n",
    "        cond_i = rand(1:nrow(condiments))\n",
    "        cond = condiments[cond_i, :condiment]\n",
    "        vp[1] = vp[1] + condiments[cond_i, :H]\n",
    "        vp[2] = vp[2] + condiments[cond_i, :F]\n",
    "        vp[3] = vp[3] + condiments[cond_i, :L]\n",
    "        vp[4] = vp[4] + condiments[cond_i, :P]\n",
    "        vp[5] = vp[5] + condiments[cond_i, :R]\n",
    "        vp[6] = vp[6] + condiments[cond_i, :S]\n",
    "    end\n",
    "    if nametype == 1\n",
    "        name = string(adj, \" \", noun)\n",
    "    end\n",
    "    if nametype == 2\n",
    "        name = string(noun, \" w/ \", cond)\n",
    "    end\n",
    "    if nametype == 3\n",
    "        name = string(adj, \" \", noun, \" w/ \", cond)\n",
    "    end\n",
    "    Spud(name, vp[1], vp[2], vp[3], vp[4], vp[5], vp[6])\n",
    "end"
   ]
  },
  {
   "cell_type": "code",
   "execution_count": 5,
   "id": "f606e085",
   "metadata": {},
   "outputs": [
    {
     "data": {
      "text/plain": [
       "rand_rename (generic function with 2 methods)"
      ]
     },
     "execution_count": 5,
     "metadata": {},
     "output_type": "execute_result"
    }
   ],
   "source": [
    "function rand_rename(a::Spud, n_tries::Int = 100)::Spud\n",
    "    best_score = 0.0\n",
    "    best_b = random_name_and_stat()\n",
    "    for ii in 1:n_tries\n",
    "        b = random_name_and_stat()\n",
    "        b_norm = sqrt(b.h^2 + b.f^2 + b.l^2 + b.p^2 + b.r^2 + b.s^2)\n",
    "        score = (a.h * b.h + a.f * b.f + a.l * b.l + a.p * b.p + a.r * b.r + a.s * b.s)/b_norm\n",
    "        if score > best_score\n",
    "            best_score = score\n",
    "            best_b = b\n",
    "        end\n",
    "    end\n",
    "    return Spud(best_b.name, a.h, a.f, a.l, a.p, a.r, a.s)\n",
    "end"
   ]
  },
  {
   "cell_type": "code",
   "execution_count": 6,
   "id": "560e9539",
   "metadata": {},
   "outputs": [
    {
     "data": {
      "text/plain": [
       "random_team (generic function with 1 method)"
      ]
     },
     "execution_count": 6,
     "metadata": {},
     "output_type": "execute_result"
    }
   ],
   "source": [
    "function eval_battle_list(a::Spud, bs::Array{Spud})::Int\n",
    "    score = 0\n",
    "    for ii in 1:length(bs)\n",
    "        score = score + eval_battle(a, bs[ii])\n",
    "    end\n",
    "    return score\n",
    "end\n",
    "\n",
    "function eval_battle_list2(a::Spud, bs::Array{Spud}, w::Vector{Float64})::AbstractFloat\n",
    "    score = 0.0\n",
    "    for ii in 1:length(bs)\n",
    "        score = score + w[ii] * eval_battle(a, bs[ii])\n",
    "    end\n",
    "    return score\n",
    "end\n",
    "\n",
    "\n",
    "function pick_best(as::Array{Spud}, bs::Array{Spud})::Spud\n",
    "    bestscore = -999\n",
    "    bestf = as[1]\n",
    "    for ii in 1:length(as)\n",
    "        score = eval_battle_list(as[ii], bs)\n",
    "        if score > bestscore\n",
    "            bestscore = score\n",
    "            bestf = as[ii]\n",
    "        end\n",
    "    end\n",
    "    return bestf\n",
    "end\n",
    "\n",
    "function pick_best_rdmly(as::Array{Spud}, bs::Array{Spud}, ntries::Int)::Spud\n",
    "    bestscore = -999\n",
    "    bestf = rand(as)\n",
    "    for ii in 1:ntries\n",
    "        f = rand(as)\n",
    "        score = eval_battle_list(f, bs)\n",
    "        if score > bestscore\n",
    "            bestscore = score\n",
    "            bestf = f\n",
    "        end\n",
    "    end\n",
    "    return bestf\n",
    "end\n",
    "\n",
    "function pick_best_rdmly_g(g::Function, bs::Array{Spud}, ntries::Int)::Spud\n",
    "    bestscore = -999\n",
    "    bestf = g()\n",
    "    for ii in 1:ntries\n",
    "        f = g()\n",
    "        score = eval_battle_list(f, bs)\n",
    "        if score > bestscore\n",
    "            bestscore = score\n",
    "            bestf = f\n",
    "        end\n",
    "    end\n",
    "    return bestf\n",
    "end\n",
    "\n",
    "function spuds_to_df(as::Array{Spud})::DataFrame\n",
    "    names = Array{String}(undef, length(as))\n",
    "    hs = Array{Int}(undef, length(as))\n",
    "    fs = Array{Int}(undef, length(as))\n",
    "    ls = Array{Int}(undef, length(as))\n",
    "    ps = Array{Int}(undef, length(as))\n",
    "    rs = Array{Int}(undef, length(as))\n",
    "    ss = Array{Int}(undef, length(as))\n",
    "    for ii in 1:length(as)\n",
    "        names[ii] = as[ii].name\n",
    "        hs[ii] = as[ii].h\n",
    "        fs[ii] = as[ii].f\n",
    "        ls[ii] = as[ii].l\n",
    "        ps[ii] = as[ii].p\n",
    "        rs[ii] = as[ii].r\n",
    "        ss[ii] = as[ii].s\n",
    "    end\n",
    "    df = DataFrame(name = names, h = hs, f = fs, l = ls, p = ps, r = rs, s = ss)\n",
    "    return df\n",
    "end\n",
    "\n",
    "function fpart(x::AbstractFloat)::AbstractFloat\n",
    "  return x - trunc(x)\n",
    "end\n",
    "\n",
    "function eval_team_battle(as::Array{Spud}, bs::Array{Spud})::Int\n",
    "    a_i = 1\n",
    "    b_i = 1\n",
    "    while (a_i <= length(as)) && (b_i <= length(bs))\n",
    "        res = eval_battle(as[a_i], bs[b_i])\n",
    "        if res == 1\n",
    "            b_i = b_i + 1\n",
    "        else\n",
    "            a_i = a_i + 1\n",
    "            if res == 0\n",
    "                b_i = b_i + 1\n",
    "            end\n",
    "        end\n",
    "    end\n",
    "    a_out = (a_i > length(as))\n",
    "    b_out = (b_i > length(as))\n",
    "    if a_out\n",
    "        if b_out\n",
    "            return 0\n",
    "        else\n",
    "            return -1\n",
    "        end\n",
    "    else\n",
    "        return 1\n",
    "    end\n",
    "end\n",
    "\n",
    "function compare_generator(f1, f2, limit)\n",
    "    a_i = 1\n",
    "    b_i = 1\n",
    "    f_a = f1()\n",
    "    f_b = f2()\n",
    "    while (a_i < limit) && (b_i < limit)\n",
    "        res = eval_battle(f_a, f_b)\n",
    "        if res != -1\n",
    "            b_i = b_i + 1\n",
    "            f_b = f2()\n",
    "        end\n",
    "        if res != 1\n",
    "            a_i = a_i + 1\n",
    "            f_a = f1()\n",
    "        end\n",
    "    end\n",
    "    return (a_i/limit, b_i/limit)\n",
    "end\n",
    "\n",
    "function random_team(f::Function, team_size::Int)::Array{Spud}\n",
    "    team = Array{Spud}(undef, team_size)\n",
    "    for i in 1:team_size\n",
    "        team[i] = f()\n",
    "    end\n",
    "    return team\n",
    "end"
   ]
  },
  {
   "cell_type": "code",
   "execution_count": 7,
   "id": "bd2b243d",
   "metadata": {},
   "outputs": [
    {
     "data": {
      "text/plain": [
       "pick_best_library (generic function with 1 method)"
      ]
     },
     "execution_count": 7,
     "metadata": {},
     "output_type": "execute_result"
    }
   ],
   "source": [
    "function upgrade_spud(sp::Spud)::Spud\n",
    "    h = sp.h\n",
    "    f = sp.f\n",
    "    l = sp.l\n",
    "    p = sp.p\n",
    "    r = sp.r\n",
    "    s = sp.s    \n",
    "    check_h = (f == MXV) || (cost(h,f+1,l,p,r,s) > MXS)\n",
    "    check_f = (h == MXV) || (cost(h+1,f,l,p,r,s) > MXS)\n",
    "    check_l = (l == MXV) || (cost(h,f,l+1,p,r,s) > MXS)\n",
    "    check_prs = (p+r+s == 3*MXV) || (cost(h,f,l,p+1,r,s) > MXS)\n",
    "    while !(check_h && check_f && check_l && check_prs)\n",
    "        rand_i = rand(1:4)\n",
    "        if rand_i == 1 && !check_h\n",
    "            h = h+1\n",
    "        end\n",
    "        if rand_i == 2 && !check_f\n",
    "            f = f+1\n",
    "        end\n",
    "        if rand_i == 3 && !check_l\n",
    "            l = l+1\n",
    "        end\n",
    "        if rand_i == 4 && !check_prs\n",
    "            rand_j = rand([1,1,1,1,1,2,2,2,2,3,3,3])\n",
    "            if rand_j == 1 && p <= MXV\n",
    "                p += 1\n",
    "            end\n",
    "            if rand_j == 2 && r <= MXV\n",
    "                r += 1\n",
    "            end\n",
    "            if rand_j == 3 && s <= MXV\n",
    "                s += 1\n",
    "            end\n",
    "        end            \n",
    "        check_h = (f == MXV) || (cost(h,f+1,l,p,r,s) > MXS)\n",
    "        check_f = (h == MXV) || (cost(h+1,f,l,p,r,s) > MXS)\n",
    "        check_l = (l == MXV) || (cost(h,f,l+1,p,r,s) > MXS)\n",
    "        check_prs = (p+r+s == 3*MXV) || (cost(h,f,l,p+1,r,s) > MXS)\n",
    "    end\n",
    "    return Spud(sp.name, h, f, l, p, r, s)\n",
    "end\n",
    "\n",
    "\n",
    "\n",
    "function pick_best_library(bs::Array{Spud})::Spud\n",
    "    bestscore = -999\n",
    "    bestf = Spud(\"\",MNV,MNV,MNV,MNV,MNV,MNV)\n",
    "    df = spuds_to_df(bs)\n",
    "    hrange = vcat([MNV], df.h, df.h .+ 1, df.f, df.f .+ 1)\n",
    "    frange = vcat([MNV], df.f, df.f .+ 1, df.h, df.h .+ 1)\n",
    "    lrange = vcat([MNV], df.l, df.l .+ 1)\n",
    "    prange = vcat([MNV], df.p, df.p .+ 1)\n",
    "    rrange = vcat([MNV], df.r, df.r .+ 1)\n",
    "    srange = vcat([MNV], df.s, df.s .+ 1)\n",
    "    hrange = sort(unique(hrange))\n",
    "    frange = sort(unique(frange))\n",
    "    lrange = sort(unique(lrange))\n",
    "    prange = sort(unique(prange))\n",
    "    rrange = sort(unique(rrange))\n",
    "    srange = sort(unique(srange))\n",
    "    for h in hrange\n",
    "        if (cost(h, MNV, MNV, MNV, MNV, MNV) < MXS)\n",
    "            for f in frange\n",
    "                if (cost(h, f, MNV, MNV, MNV, MNV) < MXS)\n",
    "                    for l in lrange\n",
    "                        if (cost(h, f, l, MNV, MNV, MNV) < MXS)\n",
    "                            for p in prange\n",
    "                                if (cost(h, f, l, p, MNV, MNV) < MXS)\n",
    "                                    for r in rrange\n",
    "                                        if (cost(h, f, l, p, r, MNV) < MXS)\n",
    "                                            for s in srange\n",
    "                                                if (cost(h,f,l,p,r,s) <= MXS)\n",
    "                                                    ff = Spud(\"\",h,f,l,p,r,s)\n",
    "                                                    score = eval_battle_list(ff, bs)\n",
    "                                                    if score > bestscore\n",
    "                                                        bestscore = score\n",
    "                                                        bestf = ff\n",
    "                                                    end\n",
    "                                                end\n",
    "                                            end\n",
    "                                        end\n",
    "                                    end                        \n",
    "                                end\n",
    "                            end                        \n",
    "                        end\n",
    "                    end\n",
    "                end\n",
    "            end\n",
    "        end\n",
    "    end\n",
    "    return upgrade_spud(bestf)\n",
    "end\n",
    "\n"
   ]
  },
  {
   "cell_type": "code",
   "execution_count": 8,
   "id": "2d640dee",
   "metadata": {},
   "outputs": [
    {
     "data": {
      "text/plain": [
       "pick_ok_counter (generic function with 1 method)"
      ]
     },
     "execution_count": 8,
     "metadata": {},
     "output_type": "execute_result"
    }
   ],
   "source": [
    "function pick_ok_counter(bs::Array{Spud})::Spud\n",
    "    bestscore = -999\n",
    "    bestf = Spud(\"\",MNV,MNV,MNV,MNV,MNV,MNV)\n",
    "    df = spuds_to_df(bs)\n",
    "    hrange = vcat([MNV], df.f .+ 1)\n",
    "    frange = vcat([MNV], df.h .+ 1)\n",
    "    lrange = vcat([MNV], df.l .+ 1)\n",
    "    prange = vcat([MNV], df.p .+ 1)\n",
    "    rrange = vcat([MNV], df.r .+ 1)\n",
    "    srange = vcat([MNV], df.s .+ 1)\n",
    "    hrange = sort(unique(hrange))\n",
    "    frange = sort(unique(frange))\n",
    "    lrange = sort(unique(lrange))\n",
    "    prange = sort(unique(prange))\n",
    "    rrange = sort(unique(rrange))\n",
    "    srange = sort(unique(srange))\n",
    "    for h in hrange\n",
    "        if (cost(h, MNV, MNV, MNV, MNV, MNV) < MXS)\n",
    "            for f in frange\n",
    "                if (cost(h, f, MNV, MNV, MNV, MNV) < MXS)\n",
    "                    for l in lrange\n",
    "                        if (cost(h, f, l, MNV, MNV, MNV) < MXS)\n",
    "                            for p in prange\n",
    "                                if (cost(h, f, l, p, MNV, MNV) < MXS)\n",
    "                                    for r in rrange\n",
    "                                        if (cost(h, f, l, p, r, MNV) < MXS)\n",
    "                                            for s in srange\n",
    "                                                if (cost(h,f,l,p,r,s) <= MXS)\n",
    "                                                    ff = Spud(\"\",h,f,l,p,r,s)\n",
    "                                                    score = eval_battle_list(ff, bs)\n",
    "                                                    if score > bestscore\n",
    "                                                        bestscore = score\n",
    "                                                        bestf = ff\n",
    "                                                    end\n",
    "                                                end\n",
    "                                            end\n",
    "                                        end\n",
    "                                    end                        \n",
    "                                end\n",
    "                            end                        \n",
    "                        end\n",
    "                    end\n",
    "                end\n",
    "            end\n",
    "        end\n",
    "    end\n",
    "    return upgrade_spud(bestf)\n",
    "end\n"
   ]
  },
  {
   "cell_type": "code",
   "execution_count": 9,
   "id": "7b4f703b",
   "metadata": {},
   "outputs": [
    {
     "data": {
      "text/plain": [
       "pick_best_library2 (generic function with 1 method)"
      ]
     },
     "execution_count": 9,
     "metadata": {},
     "output_type": "execute_result"
    }
   ],
   "source": [
    "function pick_best_library2(bs::Array{Spud}, w::Vector{Float64})::Spud\n",
    "    bestscore = -999.9\n",
    "    bestf = Spud(\"\",MNV,MNV,MNV,MNV,MNV,MNV)\n",
    "    df = spuds_to_df(bs)\n",
    "    hrange = vcat([MNV], df.h, df.h .+ 1, df.f, df.f .+ 1)\n",
    "    frange = vcat([MNV], df.f, df.f .+ 1, df.h, df.h .+ 1)\n",
    "    lrange = vcat([MNV], df.l, df.l .+ 1)\n",
    "    prange = vcat([MNV], df.p, df.p .+ 1)\n",
    "    rrange = vcat([MNV], df.r, df.r .+ 1)\n",
    "    srange = vcat([MNV], df.s, df.s .+ 1)\n",
    "    hrange = sort(unique(hrange))\n",
    "    frange = sort(unique(frange))\n",
    "    lrange = sort(unique(lrange))\n",
    "    prange = sort(unique(prange))\n",
    "    rrange = sort(unique(rrange))\n",
    "    srange = sort(unique(srange))\n",
    "    for h in hrange\n",
    "        if (cost(h, MNV, MNV, MNV, MNV, MNV) < MXS)\n",
    "            for f in frange\n",
    "                if (cost(h, f, MNV, MNV, MNV, MNV) < MXS)\n",
    "                    for l in lrange\n",
    "                        if (cost(h, f, l, MNV, MNV, MNV) < MXS)\n",
    "                            for p in prange\n",
    "                                if (cost(h, f, l, p, MNV, MNV) < MXS)\n",
    "                                    for r in rrange\n",
    "                                        if (cost(h, f, l, p, r, MNV) < MXS)\n",
    "                                            for s in srange\n",
    "                                                if (cost(h,f,l,p,r,s) <= MXS)\n",
    "                                                    ff = Spud(\"\",h,f,l,p,r,s)\n",
    "                                                    score = eval_battle_list2(ff, bs, w) + 0.001 * rand()\n",
    "                                                    if score > bestscore\n",
    "                                                        bestscore = score\n",
    "                                                        bestf = ff\n",
    "                                                    end\n",
    "                                                end\n",
    "                                            end\n",
    "                                        end\n",
    "                                    end                        \n",
    "                                end\n",
    "                            end                        \n",
    "                        end\n",
    "                    end\n",
    "                end\n",
    "            end\n",
    "        end\n",
    "    end\n",
    "    return upgrade_spud(bestf)\n",
    "end"
   ]
  },
  {
   "cell_type": "code",
   "execution_count": 202,
   "id": "79126a50",
   "metadata": {},
   "outputs": [
    {
     "data": {
      "text/plain": [
       "subset_library (generic function with 1 method)"
      ]
     },
     "execution_count": 202,
     "metadata": {},
     "output_type": "execute_result"
    }
   ],
   "source": [
    "function subset_library(bs::Array{Spud}, n_hits::Int, w::Vector{Float64}, thres::Float64)::Array{Spud}\n",
    "    bestf = Array{Spud}(undef, n_hits)\n",
    "    spud_i = 0\n",
    "    df = spuds_to_df(bs)\n",
    "    hrange = vcat([MNV], df.h, df.h .+ 1, df.f, df.f .+ 1)\n",
    "    frange = vcat([MNV], df.f, df.f .+ 1, df.h, df.h .+ 1)\n",
    "    lrange = vcat([MNV], df.l, df.l .+ 1)\n",
    "    prange = vcat([MNV], df.p, df.p .+ 1)\n",
    "    rrange = vcat([MNV], df.r, df.r .+ 1)\n",
    "    srange = vcat([MNV], df.s, df.s .+ 1)\n",
    "    hrange = sort(unique(hrange))\n",
    "    frange = sort(unique(frange))\n",
    "    lrange = sort(unique(lrange))\n",
    "    prange = sort(unique(prange))\n",
    "    rrange = sort(unique(rrange))\n",
    "    srange = sort(unique(srange))\n",
    "    for h in hrange\n",
    "        if (cost(h, MNV, MNV, MNV, MNV, MNV) < MXS)\n",
    "            for f in frange\n",
    "                if (cost(h, f, MNV, MNV, MNV, MNV) < MXS)\n",
    "                    for l in lrange\n",
    "                        if (cost(h, f, l, MNV, MNV, MNV) < MXS)\n",
    "                            for p in prange\n",
    "                                if (cost(h, f, l, p, MNV, MNV) < MXS)\n",
    "                                    for r in rrange\n",
    "                                        if (cost(h, f, l, p, r, MNV) < MXS)\n",
    "                                            for s in srange\n",
    "                                                if (cost(h,f,l,p,r,s) <= MXS)\n",
    "                                                    ff = Spud(\"\",h,f,l,p,r,s)\n",
    "                                                    score = eval_battle_list2(ff, bs, w)\n",
    "                                                    if score >= thres && spud_i < n_hits\n",
    "                                                        spud_i += 1\n",
    "                                                        bestf[spud_i] = upgrade_spud(ff)\n",
    "                                                    end\n",
    "                                                end\n",
    "                                            end\n",
    "                                        end\n",
    "                                    end                        \n",
    "                                end\n",
    "                            end                        \n",
    "                        end\n",
    "                    end\n",
    "                end\n",
    "            end\n",
    "        end\n",
    "    end\n",
    "    return unique(bestf[1:spud_i])\n",
    "end"
   ]
  },
  {
   "cell_type": "code",
   "execution_count": 11,
   "id": "8534b5bb",
   "metadata": {},
   "outputs": [
    {
     "data": {
      "text/plain": [
       "0.0001"
      ]
     },
     "execution_count": 11,
     "metadata": {},
     "output_type": "execute_result"
    }
   ],
   "source": [
    "# form initial library by subsampling indices\n",
    "library = Array{Spud}(undef, 1000)\n",
    "spud_i = 0\n",
    "ss_prob = 0.0001"
   ]
  },
  {
   "cell_type": "code",
   "execution_count": 12,
   "id": "3febb950",
   "metadata": {},
   "outputs": [],
   "source": [
    "\n",
    "hrange = MNV:MXV\n",
    "frange = MNV:MXV\n",
    "lrange = MNV:MXV\n",
    "prange = MNV:MXV\n",
    "rrange = MNV:MXV\n",
    "srange = MNV:MXV\n",
    "\n",
    "for h in hrange\n",
    "    if (cost(h, MXV, MXV, MXV, MXV, MXV) >= MXS) && (cost(h, MNV, MNV, MNV, MNV, MNV) < MXS)\n",
    "        for f in frange\n",
    "            if (cost(h, f, MXV, MXV, MXV, MXV) >= MXS) && (cost(h, f, MNV, MNV, MNV, MNV) < MXS)\n",
    "                for l in lrange\n",
    "                    if (cost(h, f, l, MXV, MXV, MXV) >= MXS) && (cost(h, f, l, MNV, MNV, MNV) < MXS)\n",
    "                        for p in prange\n",
    "                            if (cost(h, f, l, p, MXV, MXV) >= MXS) && (cost(h, f, l, p, MNV, MNV) < MXS)\n",
    "                                for r in rrange\n",
    "                                    if (cost(h, f, l, p, r, MXV) >= MXS) && (cost(h, f, l, p, r, MNV) < MXS)\n",
    "                                        for s in srange\n",
    "                                            if rand() < ss_prob && (cost(h,f,l,p,r,s) <= MXS)\n",
    "                                                check_f = (h == MXV) || (cost(h+1,f,l,p,r,s) > MXS)\n",
    "                                                check_h = (f == MXV) || (cost(h,f+1,l,p,r,s) > MXS)\n",
    "                                                check_l = (l == MXV) || (cost(h,f,l+1,p,r,s) > MXS)\n",
    "                                                check_prs = (p+r+s == 3*MXV) || (cost(h,f,l,p+1,r,s) > MXS)\n",
    "                                                if check_h && check_f && check_l && check_prs\n",
    "                                                    spud_i += 1\n",
    "                                                    #randname = rand_rename(Spud(\" \",h,f,l,p,r,s)).name\n",
    "                                                    #name = string(\"#\", @sprintf(\"%i\", spud_i), \". \", randname)\n",
    "                                                    name = \"\"\n",
    "                                                    library[spud_i] = Spud(name,h,f,l,p,r,s)\n",
    "                                                end\n",
    "                                            end\n",
    "                                        end\n",
    "                                    end\n",
    "                                end                        \n",
    "                            end\n",
    "                        end                        \n",
    "                    end\n",
    "                end\n",
    "            end\n",
    "        end\n",
    "    end\n",
    "end\n"
   ]
  },
  {
   "cell_type": "code",
   "execution_count": 13,
   "id": "9bbe4ff4",
   "metadata": {},
   "outputs": [
    {
     "data": {
      "text/plain": [
       "203"
      ]
     },
     "execution_count": 13,
     "metadata": {},
     "output_type": "execute_result"
    }
   ],
   "source": [
    "library = unique(library[1:spud_i])\n",
    "n_spuds = length(library)"
   ]
  },
  {
   "cell_type": "code",
   "execution_count": 14,
   "id": "2a078723",
   "metadata": {},
   "outputs": [],
   "source": [
    "# for i in 1:n_spuds\n",
    "#     ff = library[i]\n",
    "#     randname = rand_rename(ff).name\n",
    "#     name = string(\"#\", @sprintf(\"%i\", i), \". \", randname)\n",
    "#     library[i] = Spud(name,ff.h,ff.f,ff.l,ff.p,ff.r,ff.s)\n",
    "# end\n",
    "# id_no = Dict(library[i] => i for i in 1:n_spuds)"
   ]
  },
  {
   "cell_type": "code",
   "execution_count": 15,
   "id": "52daa014",
   "metadata": {},
   "outputs": [],
   "source": [
    "# Check that there are no ties in spudland\n",
    "for iter in 1:10000\n",
    "    i = rand(1:n_spuds)\n",
    "    j = rand(1:n_spuds)\n",
    "    if i != j && eval_battle(library[i], library[j]) == 0\n",
    "        println(library[i])\n",
    "        println(library[j])\n",
    "        println()\n",
    "    end\n",
    "end"
   ]
  },
  {
   "cell_type": "markdown",
   "id": "4873490e",
   "metadata": {},
   "source": [
    "## Compute Nash env"
   ]
  },
  {
   "cell_type": "code",
   "execution_count": 16,
   "id": "010f3c57",
   "metadata": {},
   "outputs": [
    {
     "data": {
      "text/plain": [
       "ffp (generic function with 1 method)"
      ]
     },
     "execution_count": 16,
     "metadata": {},
     "output_type": "execute_result"
    }
   ],
   "source": [
    "function ffp(nash_env, nits)\n",
    "    n_nash = length(nash_env)\n",
    "    i_lose = Array{Int}(undef, (n_nash, n_nash))\n",
    "    n_lose = Array{Int}(undef, n_nash)\n",
    "    for i in 1:n_nash\n",
    "        n_lose[i] = 0\n",
    "        ff = nash_env[i]\n",
    "        for j in 1:n_nash\n",
    "            if eval_battle(ff, nash_env[j]) ==-1\n",
    "                n_lose[i] += 1\n",
    "                i_lose[i, n_lose[i]] = j\n",
    "            end\n",
    "        end\n",
    "    end\n",
    "    counts = [0 for i in 1:n_nash]\n",
    "    wins = [0 for i in 1:n_nash]\n",
    "    for i in 1:n_nash\n",
    "        counts[i] += 1\n",
    "        for j in 1:n_lose[i]\n",
    "            i_w = i_lose[i, j]\n",
    "            wins[i_w]+= 1\n",
    "        end\n",
    "    end\n",
    "    for iter in 1:nits\n",
    "        ind_winners = findall(wins .== maximum(wins))\n",
    "        i = rand(ind_winners)\n",
    "        counts[i] += 1\n",
    "        for j in 1:n_lose[i]\n",
    "            i_w = i_lose[i, j]\n",
    "            wins[i_w]+= 1\n",
    "        end\n",
    "    end\n",
    "    return counts\n",
    "end\n"
   ]
  },
  {
   "cell_type": "code",
   "execution_count": 17,
   "id": "4021dd90",
   "metadata": {},
   "outputs": [
    {
     "data": {
      "text/html": [
       "<div><div style = \"float: left;\"><span>203×7 DataFrame</span></div><div style = \"float: right;\"><span style = \"font-style: italic;\">178 rows omitted</span></div><div style = \"clear: both;\"></div></div><div class = \"data-frame\" style = \"overflow-x: scroll;\"><table class = \"data-frame\" style = \"margin-bottom: 6px;\"><thead><tr class = \"header\"><th class = \"rowNumber\" style = \"font-weight: bold; text-align: right;\">Row</th><th style = \"text-align: left;\">name</th><th style = \"text-align: left;\">h</th><th style = \"text-align: left;\">f</th><th style = \"text-align: left;\">l</th><th style = \"text-align: left;\">p</th><th style = \"text-align: left;\">r</th><th style = \"text-align: left;\">s</th></tr><tr class = \"subheader headerLastRow\"><th class = \"rowNumber\" style = \"font-weight: bold; text-align: right;\"></th><th title = \"String\" style = \"text-align: left;\">String</th><th title = \"Int64\" style = \"text-align: left;\">Int64</th><th title = \"Int64\" style = \"text-align: left;\">Int64</th><th title = \"Int64\" style = \"text-align: left;\">Int64</th><th title = \"Int64\" style = \"text-align: left;\">Int64</th><th title = \"Int64\" style = \"text-align: left;\">Int64</th><th title = \"Int64\" style = \"text-align: left;\">Int64</th></tr></thead><tbody><tr><td class = \"rowNumber\" style = \"font-weight: bold; text-align: right;\">1</td><td style = \"text-align: left;\">Raw Potato w/ ketchup</td><td style = \"text-align: right;\">2</td><td style = \"text-align: right;\">4</td><td style = \"text-align: right;\">38</td><td style = \"text-align: right;\">26</td><td style = \"text-align: right;\">29</td><td style = \"text-align: right;\">24</td></tr><tr><td class = \"rowNumber\" style = \"font-weight: bold; text-align: right;\">2</td><td style = \"text-align: left;\">Angry Tater Tots</td><td style = \"text-align: right;\">2</td><td style = \"text-align: right;\">5</td><td style = \"text-align: right;\">7</td><td style = \"text-align: right;\">27</td><td style = \"text-align: right;\">10</td><td style = \"text-align: right;\">38</td></tr><tr><td class = \"rowNumber\" style = \"font-weight: bold; text-align: right;\">3</td><td style = \"text-align: left;\">Tater Tots w/ ketchup</td><td style = \"text-align: right;\">2</td><td style = \"text-align: right;\">5</td><td style = \"text-align: right;\">32</td><td style = \"text-align: right;\">21</td><td style = \"text-align: right;\">6</td><td style = \"text-align: right;\">38</td></tr><tr><td class = \"rowNumber\" style = \"font-weight: bold; text-align: right;\">4</td><td style = \"text-align: left;\">Raw Potato w/ ketchup</td><td style = \"text-align: right;\">2</td><td style = \"text-align: right;\">5</td><td style = \"text-align: right;\">35</td><td style = \"text-align: right;\">17</td><td style = \"text-align: right;\">32</td><td style = \"text-align: right;\">15</td></tr><tr><td class = \"rowNumber\" style = \"font-weight: bold; text-align: right;\">5</td><td style = \"text-align: left;\">Dangerous French Fries</td><td style = \"text-align: right;\">2</td><td style = \"text-align: right;\">7</td><td style = \"text-align: right;\">11</td><td style = \"text-align: right;\">5</td><td style = \"text-align: right;\">24</td><td style = \"text-align: right;\">23</td></tr><tr><td class = \"rowNumber\" style = \"font-weight: bold; text-align: right;\">6</td><td style = \"text-align: left;\">Friendly Raw Potato</td><td style = \"text-align: right;\">2</td><td style = \"text-align: right;\">8</td><td style = \"text-align: right;\">12</td><td style = \"text-align: right;\">9</td><td style = \"text-align: right;\">18</td><td style = \"text-align: right;\">18</td></tr><tr><td class = \"rowNumber\" style = \"font-weight: bold; text-align: right;\">7</td><td style = \"text-align: left;\">Dangerous Home Fries</td><td style = \"text-align: right;\">3</td><td style = \"text-align: right;\">4</td><td style = \"text-align: right;\">8</td><td style = \"text-align: right;\">28</td><td style = \"text-align: right;\">33</td><td style = \"text-align: right;\">30</td></tr><tr><td class = \"rowNumber\" style = \"font-weight: bold; text-align: right;\">8</td><td style = \"text-align: left;\">Dangerous Home Fries</td><td style = \"text-align: right;\">3</td><td style = \"text-align: right;\">4</td><td style = \"text-align: right;\">13</td><td style = \"text-align: right;\">28</td><td style = \"text-align: right;\">27</td><td style = \"text-align: right;\">32</td></tr><tr><td class = \"rowNumber\" style = \"font-weight: bold; text-align: right;\">9</td><td style = \"text-align: left;\">Wrestler Home Fries</td><td style = \"text-align: right;\">3</td><td style = \"text-align: right;\">4</td><td style = \"text-align: right;\">18</td><td style = \"text-align: right;\">30</td><td style = \"text-align: right;\">16</td><td style = \"text-align: right;\">37</td></tr><tr><td class = \"rowNumber\" style = \"font-weight: bold; text-align: right;\">10</td><td style = \"text-align: left;\">Wrestler Tater Tots</td><td style = \"text-align: right;\">3</td><td style = \"text-align: right;\">5</td><td style = \"text-align: right;\">6</td><td style = \"text-align: right;\">31</td><td style = \"text-align: right;\">8</td><td style = \"text-align: right;\">34</td></tr><tr><td class = \"rowNumber\" style = \"font-weight: bold; text-align: right;\">11</td><td style = \"text-align: left;\">Speedy Home Fries</td><td style = \"text-align: right;\">3</td><td style = \"text-align: right;\">5</td><td style = \"text-align: right;\">8</td><td style = \"text-align: right;\">10</td><td style = \"text-align: right;\">27</td><td style = \"text-align: right;\">35</td></tr><tr><td class = \"rowNumber\" style = \"font-weight: bold; text-align: right;\">12</td><td style = \"text-align: left;\">Wrestler Chips</td><td style = \"text-align: right;\">3</td><td style = \"text-align: right;\">6</td><td style = \"text-align: right;\">11</td><td style = \"text-align: right;\">21</td><td style = \"text-align: right;\">12</td><td style = \"text-align: right;\">25</td></tr><tr><td class = \"rowNumber\" style = \"font-weight: bold; text-align: right;\">13</td><td style = \"text-align: left;\">French Fries w/ ketchup</td><td style = \"text-align: right;\">3</td><td style = \"text-align: right;\">6</td><td style = \"text-align: right;\">23</td><td style = \"text-align: right;\">17</td><td style = \"text-align: right;\">19</td><td style = \"text-align: right;\">16</td></tr><tr><td style = \"text-align: right;\">&vellip;</td><td style = \"text-align: right;\">&vellip;</td><td style = \"text-align: right;\">&vellip;</td><td style = \"text-align: right;\">&vellip;</td><td style = \"text-align: right;\">&vellip;</td><td style = \"text-align: right;\">&vellip;</td><td style = \"text-align: right;\">&vellip;</td><td style = \"text-align: right;\">&vellip;</td></tr><tr><td class = \"rowNumber\" style = \"font-weight: bold; text-align: right;\">192</td><td style = \"text-align: left;\">Wrestler Potato Soup</td><td style = \"text-align: right;\">31</td><td style = \"text-align: right;\">2</td><td style = \"text-align: right;\">6</td><td style = \"text-align: right;\">31</td><td style = \"text-align: right;\">7</td><td style = \"text-align: right;\">38</td></tr><tr><td class = \"rowNumber\" style = \"font-weight: bold; text-align: right;\">193</td><td style = \"text-align: left;\">Dangerous Home Fries</td><td style = \"text-align: right;\">32</td><td style = \"text-align: right;\">2</td><td style = \"text-align: right;\">6</td><td style = \"text-align: right;\">5</td><td style = \"text-align: right;\">40</td><td style = \"text-align: right;\">27</td></tr><tr><td class = \"rowNumber\" style = \"font-weight: bold; text-align: right;\">194</td><td style = \"text-align: left;\">Criminal Raw Potato</td><td style = \"text-align: right;\">33</td><td style = \"text-align: right;\">2</td><td style = \"text-align: right;\">5</td><td style = \"text-align: right;\">27</td><td style = \"text-align: right;\">28</td><td style = \"text-align: right;\">29</td></tr><tr><td class = \"rowNumber\" style = \"font-weight: bold; text-align: right;\">195</td><td style = \"text-align: left;\">Criminal Potato Soup</td><td style = \"text-align: right;\">34</td><td style = \"text-align: right;\">4</td><td style = \"text-align: right;\">3</td><td style = \"text-align: right;\">23</td><td style = \"text-align: right;\">3</td><td style = \"text-align: right;\">14</td></tr><tr><td class = \"rowNumber\" style = \"font-weight: bold; text-align: right;\">196</td><td style = \"text-align: left;\">Criminal Potato Soup</td><td style = \"text-align: right;\">35</td><td style = \"text-align: right;\">3</td><td style = \"text-align: right;\">3</td><td style = \"text-align: right;\">29</td><td style = \"text-align: right;\">14</td><td style = \"text-align: right;\">20</td></tr><tr><td class = \"rowNumber\" style = \"font-weight: bold; text-align: right;\">197</td><td style = \"text-align: left;\">Sneaky Raw Potato</td><td style = \"text-align: right;\">35</td><td style = \"text-align: right;\">3</td><td style = \"text-align: right;\">4</td><td style = \"text-align: right;\">4</td><td style = \"text-align: right;\">36</td><td style = \"text-align: right;\">11</td></tr><tr><td class = \"rowNumber\" style = \"font-weight: bold; text-align: right;\">198</td><td style = \"text-align: left;\">Sneaky Raw Potato</td><td style = \"text-align: right;\">35</td><td style = \"text-align: right;\">4</td><td style = \"text-align: right;\">3</td><td style = \"text-align: right;\">8</td><td style = \"text-align: right;\">25</td><td style = \"text-align: right;\">5</td></tr><tr><td class = \"rowNumber\" style = \"font-weight: bold; text-align: right;\">199</td><td style = \"text-align: left;\">Underground Potato Soup</td><td style = \"text-align: right;\">36</td><td style = \"text-align: right;\">2</td><td style = \"text-align: right;\">6</td><td style = \"text-align: right;\">10</td><td style = \"text-align: right;\">9</td><td style = \"text-align: right;\">37</td></tr><tr><td class = \"rowNumber\" style = \"font-weight: bold; text-align: right;\">200</td><td style = \"text-align: left;\">Sneaky Mashed Potato</td><td style = \"text-align: right;\">37</td><td style = \"text-align: right;\">5</td><td style = \"text-align: right;\">2</td><td style = \"text-align: right;\">2</td><td style = \"text-align: right;\">21</td><td style = \"text-align: right;\">5</td></tr><tr><td class = \"rowNumber\" style = \"font-weight: bold; text-align: right;\">201</td><td style = \"text-align: left;\">Sneaky Home Fries</td><td style = \"text-align: right;\">38</td><td style = \"text-align: right;\">3</td><td style = \"text-align: right;\">4</td><td style = \"text-align: right;\">6</td><td style = \"text-align: right;\">27</td><td style = \"text-align: right;\">11</td></tr><tr><td class = \"rowNumber\" style = \"font-weight: bold; text-align: right;\">202</td><td style = \"text-align: left;\">Sneaky Potato Soup</td><td style = \"text-align: right;\">39</td><td style = \"text-align: right;\">2</td><td style = \"text-align: right;\">7</td><td style = \"text-align: right;\">3</td><td style = \"text-align: right;\">13</td><td style = \"text-align: right;\">8</td></tr><tr><td class = \"rowNumber\" style = \"font-weight: bold; text-align: right;\">203</td><td style = \"text-align: left;\">Speedy Raw Potato</td><td style = \"text-align: right;\">40</td><td style = \"text-align: right;\">2</td><td style = \"text-align: right;\">4</td><td style = \"text-align: right;\">17</td><td style = \"text-align: right;\">26</td><td style = \"text-align: right;\">37</td></tr></tbody></table></div>"
      ],
      "text/latex": [
       "\\begin{tabular}{r|ccccccc}\n",
       "\t& name & h & f & l & p & r & s\\\\\n",
       "\t\\hline\n",
       "\t& String & Int64 & Int64 & Int64 & Int64 & Int64 & Int64\\\\\n",
       "\t\\hline\n",
       "\t1 & Raw Potato w/ ketchup & 2 & 4 & 38 & 26 & 29 & 24 \\\\\n",
       "\t2 & Angry Tater Tots & 2 & 5 & 7 & 27 & 10 & 38 \\\\\n",
       "\t3 & Tater Tots w/ ketchup & 2 & 5 & 32 & 21 & 6 & 38 \\\\\n",
       "\t4 & Raw Potato w/ ketchup & 2 & 5 & 35 & 17 & 32 & 15 \\\\\n",
       "\t5 & Dangerous French Fries & 2 & 7 & 11 & 5 & 24 & 23 \\\\\n",
       "\t6 & Friendly Raw Potato & 2 & 8 & 12 & 9 & 18 & 18 \\\\\n",
       "\t7 & Dangerous Home Fries & 3 & 4 & 8 & 28 & 33 & 30 \\\\\n",
       "\t8 & Dangerous Home Fries & 3 & 4 & 13 & 28 & 27 & 32 \\\\\n",
       "\t9 & Wrestler Home Fries & 3 & 4 & 18 & 30 & 16 & 37 \\\\\n",
       "\t10 & Wrestler Tater Tots & 3 & 5 & 6 & 31 & 8 & 34 \\\\\n",
       "\t11 & Speedy Home Fries & 3 & 5 & 8 & 10 & 27 & 35 \\\\\n",
       "\t12 & Wrestler Chips & 3 & 6 & 11 & 21 & 12 & 25 \\\\\n",
       "\t13 & French Fries w/ ketchup & 3 & 6 & 23 & 17 & 19 & 16 \\\\\n",
       "\t14 & Mighty Chips & 3 & 6 & 29 & 33 & 7 & 9 \\\\\n",
       "\t15 & Tater Tots w/ ketchup & 3 & 6 & 33 & 3 & 21 & 23 \\\\\n",
       "\t16 & Potato Bread w/ ketchup & 3 & 6 & 39 & 29 & 6 & 9 \\\\\n",
       "\t17 & Hungry Mashed Potato & 3 & 11 & 5 & 3 & 17 & 12 \\\\\n",
       "\t18 & Hungry Tater Tots & 3 & 11 & 8 & 5 & 10 & 16 \\\\\n",
       "\t19 & Battle Home Fries & 4 & 3 & 25 & 40 & 39 & 17 \\\\\n",
       "\t20 & Crazy Home Fries & 4 & 3 & 34 & 39 & 7 & 38 \\\\\n",
       "\t21 & Wrestler Tater Tots & 4 & 4 & 14 & 35 & 9 & 38 \\\\\n",
       "\t22 & Mighty Home Fries & 4 & 4 & 18 & 38 & 29 & 11 \\\\\n",
       "\t23 & Dangerous Potato Bread & 4 & 4 & 21 & 21 & 18 & 36 \\\\\n",
       "\t24 & Dangerous Tater Tots & 4 & 4 & 28 & 11 & 17 & 40 \\\\\n",
       "\t25 & Home Fries w/ ketchup & 4 & 4 & 29 & 16 & 24 & 27 \\\\\n",
       "\t26 & Home Fries w/ ketchup & 4 & 4 & 32 & 22 & 37 & 5 \\\\\n",
       "\t27 & Mighty Tater Tots & 4 & 5 & 6 & 38 & 6 & 27 \\\\\n",
       "\t28 & Battle Raw Potato & 4 & 6 & 7 & 27 & 17 & 14 \\\\\n",
       "\t29 & Home Fries w/ ketchup & 4 & 6 & 19 & 16 & 25 & 9 \\\\\n",
       "\t30 & Underground Tater Tots & 4 & 6 & 29 & 6 & 3 & 34 \\\\\n",
       "\t$\\dots$ & $\\dots$ & $\\dots$ & $\\dots$ & $\\dots$ & $\\dots$ & $\\dots$ & $\\dots$ \\\\\n",
       "\\end{tabular}\n"
      ],
      "text/plain": [
       "\u001b[1m203×7 DataFrame\u001b[0m\n",
       "\u001b[1m Row \u001b[0m│\u001b[1m name                    \u001b[0m\u001b[1m h     \u001b[0m\u001b[1m f     \u001b[0m\u001b[1m l     \u001b[0m\u001b[1m p     \u001b[0m\u001b[1m r     \u001b[0m\u001b[1m s     \u001b[0m\n",
       "     │\u001b[90m String                  \u001b[0m\u001b[90m Int64 \u001b[0m\u001b[90m Int64 \u001b[0m\u001b[90m Int64 \u001b[0m\u001b[90m Int64 \u001b[0m\u001b[90m Int64 \u001b[0m\u001b[90m Int64 \u001b[0m\n",
       "─────┼───────────────────────────────────────────────────────────────────\n",
       "   1 │ Raw Potato w/ ketchup        2      4     38     26     29     24\n",
       "   2 │ Angry Tater Tots             2      5      7     27     10     38\n",
       "   3 │ Tater Tots w/ ketchup        2      5     32     21      6     38\n",
       "   4 │ Raw Potato w/ ketchup        2      5     35     17     32     15\n",
       "   5 │ Dangerous French Fries       2      7     11      5     24     23\n",
       "   6 │ Friendly Raw Potato          2      8     12      9     18     18\n",
       "   7 │ Dangerous Home Fries         3      4      8     28     33     30\n",
       "   8 │ Dangerous Home Fries         3      4     13     28     27     32\n",
       "   9 │ Wrestler Home Fries          3      4     18     30     16     37\n",
       "  10 │ Wrestler Tater Tots          3      5      6     31      8     34\n",
       "  11 │ Speedy Home Fries            3      5      8     10     27     35\n",
       "  ⋮  │            ⋮               ⋮      ⋮      ⋮      ⋮      ⋮      ⋮\n",
       " 194 │ Criminal Raw Potato         33      2      5     27     28     29\n",
       " 195 │ Criminal Potato Soup        34      4      3     23      3     14\n",
       " 196 │ Criminal Potato Soup        35      3      3     29     14     20\n",
       " 197 │ Sneaky Raw Potato           35      3      4      4     36     11\n",
       " 198 │ Sneaky Raw Potato           35      4      3      8     25      5\n",
       " 199 │ Underground Potato Soup     36      2      6     10      9     37\n",
       " 200 │ Sneaky Mashed Potato        37      5      2      2     21      5\n",
       " 201 │ Sneaky Home Fries           38      3      4      6     27     11\n",
       " 202 │ Sneaky Potato Soup          39      2      7      3     13      8\n",
       " 203 │ Speedy Raw Potato           40      2      4     17     26     37\n",
       "\u001b[36m                                                         182 rows omitted\u001b[0m"
      ]
     },
     "execution_count": 17,
     "metadata": {},
     "output_type": "execute_result"
    }
   ],
   "source": [
    "nash_env = [rand_rename(s) for s in library]\n",
    "spuds_to_df(nash_env)"
   ]
  },
  {
   "cell_type": "code",
   "execution_count": 18,
   "id": "0e75ca0c",
   "metadata": {},
   "outputs": [],
   "source": [
    "counts = ffp(nash_env, 1000);"
   ]
  },
  {
   "cell_type": "code",
   "execution_count": 19,
   "id": "8336bfca",
   "metadata": {},
   "outputs": [
    {
     "data": {
      "text/html": [
       "<div><div style = \"float: left;\"><span>16×7 DataFrame</span></div><div style = \"clear: both;\"></div></div><div class = \"data-frame\" style = \"overflow-x: scroll;\"><table class = \"data-frame\" style = \"margin-bottom: 6px;\"><thead><tr class = \"header\"><th class = \"rowNumber\" style = \"font-weight: bold; text-align: right;\">Row</th><th style = \"text-align: left;\">name</th><th style = \"text-align: left;\">h</th><th style = \"text-align: left;\">f</th><th style = \"text-align: left;\">l</th><th style = \"text-align: left;\">p</th><th style = \"text-align: left;\">r</th><th style = \"text-align: left;\">s</th></tr><tr class = \"subheader headerLastRow\"><th class = \"rowNumber\" style = \"font-weight: bold; text-align: right;\"></th><th title = \"String\" style = \"text-align: left;\">String</th><th title = \"Int64\" style = \"text-align: left;\">Int64</th><th title = \"Int64\" style = \"text-align: left;\">Int64</th><th title = \"Int64\" style = \"text-align: left;\">Int64</th><th title = \"Int64\" style = \"text-align: left;\">Int64</th><th title = \"Int64\" style = \"text-align: left;\">Int64</th><th title = \"Int64\" style = \"text-align: left;\">Int64</th></tr></thead><tbody><tr><td class = \"rowNumber\" style = \"font-weight: bold; text-align: right;\">1</td><td style = \"text-align: left;\">Enlightened Potato Bread</td><td style = \"text-align: right;\">4</td><td style = \"text-align: right;\">15</td><td style = \"text-align: right;\">21</td><td style = \"text-align: right;\">11</td><td style = \"text-align: right;\">4</td><td style = \"text-align: right;\">2</td></tr><tr><td class = \"rowNumber\" style = \"font-weight: bold; text-align: right;\">2</td><td style = \"text-align: left;\">Charles&apos; Tater Tots</td><td style = \"text-align: right;\">6</td><td style = \"text-align: right;\">8</td><td style = \"text-align: right;\">30</td><td style = \"text-align: right;\">2</td><td style = \"text-align: right;\">5</td><td style = \"text-align: right;\">14</td></tr><tr><td class = \"rowNumber\" style = \"font-weight: bold; text-align: right;\">3</td><td style = \"text-align: left;\">Potato Strips w/ ketchup</td><td style = \"text-align: right;\">6</td><td style = \"text-align: right;\">10</td><td style = \"text-align: right;\">21</td><td style = \"text-align: right;\">13</td><td style = \"text-align: right;\">5</td><td style = \"text-align: right;\">3</td></tr><tr><td class = \"rowNumber\" style = \"font-weight: bold; text-align: right;\">4</td><td style = \"text-align: left;\">Crazy Potato Bread w/ ketchup</td><td style = \"text-align: right;\">8</td><td style = \"text-align: right;\">3</td><td style = \"text-align: right;\">32</td><td style = \"text-align: right;\">26</td><td style = \"text-align: right;\">6</td><td style = \"text-align: right;\">8</td></tr><tr><td class = \"rowNumber\" style = \"font-weight: bold; text-align: right;\">5</td><td style = \"text-align: left;\">Crazy Potato Soup</td><td style = \"text-align: right;\">8</td><td style = \"text-align: right;\">4</td><td style = \"text-align: right;\">24</td><td style = \"text-align: right;\">18</td><td style = \"text-align: right;\">4</td><td style = \"text-align: right;\">22</td></tr><tr><td class = \"rowNumber\" style = \"font-weight: bold; text-align: right;\">6</td><td style = \"text-align: left;\">Charles&apos; Home Fries</td><td style = \"text-align: right;\">8</td><td style = \"text-align: right;\">6</td><td style = \"text-align: right;\">23</td><td style = \"text-align: right;\">2</td><td style = \"text-align: right;\">23</td><td style = \"text-align: right;\">3</td></tr><tr><td class = \"rowNumber\" style = \"font-weight: bold; text-align: right;\">7</td><td style = \"text-align: left;\">Charles&apos; Potato Strips</td><td style = \"text-align: right;\">9</td><td style = \"text-align: right;\">11</td><td style = \"text-align: right;\">16</td><td style = \"text-align: right;\">4</td><td style = \"text-align: right;\">6</td><td style = \"text-align: right;\">4</td></tr><tr><td class = \"rowNumber\" style = \"font-weight: bold; text-align: right;\">8</td><td style = \"text-align: left;\">Tater Tots w/ scallion</td><td style = \"text-align: right;\">10</td><td style = \"text-align: right;\">10</td><td style = \"text-align: right;\">11</td><td style = \"text-align: right;\">2</td><td style = \"text-align: right;\">7</td><td style = \"text-align: right;\">10</td></tr><tr><td class = \"rowNumber\" style = \"font-weight: bold; text-align: right;\">9</td><td style = \"text-align: left;\">Tater Tots w/ ketchup</td><td style = \"text-align: right;\">11</td><td style = \"text-align: right;\">2</td><td style = \"text-align: right;\">28</td><td style = \"text-align: right;\">11</td><td style = \"text-align: right;\">4</td><td style = \"text-align: right;\">20</td></tr><tr><td class = \"rowNumber\" style = \"font-weight: bold; text-align: right;\">10</td><td style = \"text-align: left;\">Potato Strips w/ scallion</td><td style = \"text-align: right;\">12</td><td style = \"text-align: right;\">13</td><td style = \"text-align: right;\">5</td><td style = \"text-align: right;\">6</td><td style = \"text-align: right;\">6</td><td style = \"text-align: right;\">2</td></tr><tr><td class = \"rowNumber\" style = \"font-weight: bold; text-align: right;\">11</td><td style = \"text-align: left;\">Underground Chips</td><td style = \"text-align: right;\">13</td><td style = \"text-align: right;\">4</td><td style = \"text-align: right;\">17</td><td style = \"text-align: right;\">5</td><td style = \"text-align: right;\">20</td><td style = \"text-align: right;\">6</td></tr><tr><td class = \"rowNumber\" style = \"font-weight: bold; text-align: right;\">12</td><td style = \"text-align: left;\">Criminal Chips</td><td style = \"text-align: right;\">15</td><td style = \"text-align: right;\">4</td><td style = \"text-align: right;\">14</td><td style = \"text-align: right;\">9</td><td style = \"text-align: right;\">14</td><td style = \"text-align: right;\">9</td></tr><tr><td class = \"rowNumber\" style = \"font-weight: bold; text-align: right;\">13</td><td style = \"text-align: left;\">Speedy Raw Potato</td><td style = \"text-align: right;\">15</td><td style = \"text-align: right;\">7</td><td style = \"text-align: right;\">8</td><td style = \"text-align: right;\">2</td><td style = \"text-align: right;\">7</td><td style = \"text-align: right;\">16</td></tr><tr><td class = \"rowNumber\" style = \"font-weight: bold; text-align: right;\">14</td><td style = \"text-align: left;\">Helen&apos;s Tater Tots w/ onion</td><td style = \"text-align: right;\">15</td><td style = \"text-align: right;\">7</td><td style = \"text-align: right;\">14</td><td style = \"text-align: right;\">6</td><td style = \"text-align: right;\">3</td><td style = \"text-align: right;\">3</td></tr><tr><td class = \"rowNumber\" style = \"font-weight: bold; text-align: right;\">15</td><td style = \"text-align: left;\">Enlightened Potato Soup</td><td style = \"text-align: right;\">15</td><td style = \"text-align: right;\">8</td><td style = \"text-align: right;\">10</td><td style = \"text-align: right;\">5</td><td style = \"text-align: right;\">4</td><td style = \"text-align: right;\">7</td></tr><tr><td class = \"rowNumber\" style = \"font-weight: bold; text-align: right;\">16</td><td style = \"text-align: left;\">Sneaky Home Fries</td><td style = \"text-align: right;\">18</td><td style = \"text-align: right;\">2</td><td style = \"text-align: right;\">16</td><td style = \"text-align: right;\">7</td><td style = \"text-align: right;\">24</td><td style = \"text-align: right;\">7</td></tr></tbody></table></div>"
      ],
      "text/latex": [
       "\\begin{tabular}{r|ccccccc}\n",
       "\t& name & h & f & l & p & r & s\\\\\n",
       "\t\\hline\n",
       "\t& String & Int64 & Int64 & Int64 & Int64 & Int64 & Int64\\\\\n",
       "\t\\hline\n",
       "\t1 & Enlightened Potato Bread & 4 & 15 & 21 & 11 & 4 & 2 \\\\\n",
       "\t2 & Charles' Tater Tots & 6 & 8 & 30 & 2 & 5 & 14 \\\\\n",
       "\t3 & Potato Strips w/ ketchup & 6 & 10 & 21 & 13 & 5 & 3 \\\\\n",
       "\t4 & Crazy Potato Bread w/ ketchup & 8 & 3 & 32 & 26 & 6 & 8 \\\\\n",
       "\t5 & Crazy Potato Soup & 8 & 4 & 24 & 18 & 4 & 22 \\\\\n",
       "\t6 & Charles' Home Fries & 8 & 6 & 23 & 2 & 23 & 3 \\\\\n",
       "\t7 & Charles' Potato Strips & 9 & 11 & 16 & 4 & 6 & 4 \\\\\n",
       "\t8 & Tater Tots w/ scallion & 10 & 10 & 11 & 2 & 7 & 10 \\\\\n",
       "\t9 & Tater Tots w/ ketchup & 11 & 2 & 28 & 11 & 4 & 20 \\\\\n",
       "\t10 & Potato Strips w/ scallion & 12 & 13 & 5 & 6 & 6 & 2 \\\\\n",
       "\t11 & Underground Chips & 13 & 4 & 17 & 5 & 20 & 6 \\\\\n",
       "\t12 & Criminal Chips & 15 & 4 & 14 & 9 & 14 & 9 \\\\\n",
       "\t13 & Speedy Raw Potato & 15 & 7 & 8 & 2 & 7 & 16 \\\\\n",
       "\t14 & Helen's Tater Tots w/ onion & 15 & 7 & 14 & 6 & 3 & 3 \\\\\n",
       "\t15 & Enlightened Potato Soup & 15 & 8 & 10 & 5 & 4 & 7 \\\\\n",
       "\t16 & Sneaky Home Fries & 18 & 2 & 16 & 7 & 24 & 7 \\\\\n",
       "\\end{tabular}\n"
      ],
      "text/plain": [
       "\u001b[1m16×7 DataFrame\u001b[0m\n",
       "\u001b[1m Row \u001b[0m│\u001b[1m name                          \u001b[0m\u001b[1m h     \u001b[0m\u001b[1m f     \u001b[0m\u001b[1m l     \u001b[0m\u001b[1m p     \u001b[0m\u001b[1m r     \u001b[0m\u001b[1m s    \u001b[0m ⋯\n",
       "     │\u001b[90m String                        \u001b[0m\u001b[90m Int64 \u001b[0m\u001b[90m Int64 \u001b[0m\u001b[90m Int64 \u001b[0m\u001b[90m Int64 \u001b[0m\u001b[90m Int64 \u001b[0m\u001b[90m Int64\u001b[0m ⋯\n",
       "─────┼──────────────────────────────────────────────────────────────────────────\n",
       "   1 │ Enlightened Potato Bread           4     15     21     11      4      2 ⋯\n",
       "   2 │ Charles' Tater Tots                6      8     30      2      5     14\n",
       "   3 │ Potato Strips w/ ketchup           6     10     21     13      5      3\n",
       "   4 │ Crazy Potato Bread w/ ketchup      8      3     32     26      6      8\n",
       "   5 │ Crazy Potato Soup                  8      4     24     18      4     22 ⋯\n",
       "   6 │ Charles' Home Fries                8      6     23      2     23      3\n",
       "   7 │ Charles' Potato Strips             9     11     16      4      6      4\n",
       "   8 │ Tater Tots w/ scallion            10     10     11      2      7     10\n",
       "   9 │ Tater Tots w/ ketchup             11      2     28     11      4     20 ⋯\n",
       "  10 │ Potato Strips w/ scallion         12     13      5      6      6      2\n",
       "  11 │ Underground Chips                 13      4     17      5     20      6\n",
       "  12 │ Criminal Chips                    15      4     14      9     14      9\n",
       "  13 │ Speedy Raw Potato                 15      7      8      2      7     16 ⋯\n",
       "  14 │ Helen's Tater Tots w/ onion       15      7     14      6      3      3\n",
       "  15 │ Enlightened Potato Soup           15      8     10      5      4      7\n",
       "  16 │ Sneaky Home Fries                 18      2     16      7     24      7"
      ]
     },
     "execution_count": 19,
     "metadata": {},
     "output_type": "execute_result"
    }
   ],
   "source": [
    "nash_env = nash_env[counts .> 10]\n",
    "spuds_to_df(nash_env)"
   ]
  },
  {
   "cell_type": "code",
   "execution_count": 20,
   "id": "fcd27346",
   "metadata": {},
   "outputs": [
    {
     "data": {
      "text/plain": [
       "16-element Vector{Int64}:\n",
       " 1155\n",
       "  384\n",
       "  579\n",
       "    1\n",
       "  192\n",
       "  385\n",
       "  964\n",
       "  193\n",
       "  770\n",
       " 2311\n",
       "  963\n",
       "  193\n",
       "  578\n",
       "    1\n",
       "  192\n",
       " 1155"
      ]
     },
     "execution_count": 20,
     "metadata": {},
     "output_type": "execute_result"
    }
   ],
   "source": [
    "counts = ffp(nash_env, 10000)"
   ]
  },
  {
   "cell_type": "code",
   "execution_count": 21,
   "id": "04414a09",
   "metadata": {},
   "outputs": [
    {
     "data": {
      "text/html": [
       "<div><div style = \"float: left;\"><span>14×7 DataFrame</span></div><div style = \"clear: both;\"></div></div><div class = \"data-frame\" style = \"overflow-x: scroll;\"><table class = \"data-frame\" style = \"margin-bottom: 6px;\"><thead><tr class = \"header\"><th class = \"rowNumber\" style = \"font-weight: bold; text-align: right;\">Row</th><th style = \"text-align: left;\">name</th><th style = \"text-align: left;\">h</th><th style = \"text-align: left;\">f</th><th style = \"text-align: left;\">l</th><th style = \"text-align: left;\">p</th><th style = \"text-align: left;\">r</th><th style = \"text-align: left;\">s</th></tr><tr class = \"subheader headerLastRow\"><th class = \"rowNumber\" style = \"font-weight: bold; text-align: right;\"></th><th title = \"String\" style = \"text-align: left;\">String</th><th title = \"Int64\" style = \"text-align: left;\">Int64</th><th title = \"Int64\" style = \"text-align: left;\">Int64</th><th title = \"Int64\" style = \"text-align: left;\">Int64</th><th title = \"Int64\" style = \"text-align: left;\">Int64</th><th title = \"Int64\" style = \"text-align: left;\">Int64</th><th title = \"Int64\" style = \"text-align: left;\">Int64</th></tr></thead><tbody><tr><td class = \"rowNumber\" style = \"font-weight: bold; text-align: right;\">1</td><td style = \"text-align: left;\">Enlightened Potato Bread</td><td style = \"text-align: right;\">4</td><td style = \"text-align: right;\">15</td><td style = \"text-align: right;\">21</td><td style = \"text-align: right;\">11</td><td style = \"text-align: right;\">4</td><td style = \"text-align: right;\">2</td></tr><tr><td class = \"rowNumber\" style = \"font-weight: bold; text-align: right;\">2</td><td style = \"text-align: left;\">Charles&apos; Tater Tots</td><td style = \"text-align: right;\">6</td><td style = \"text-align: right;\">8</td><td style = \"text-align: right;\">30</td><td style = \"text-align: right;\">2</td><td style = \"text-align: right;\">5</td><td style = \"text-align: right;\">14</td></tr><tr><td class = \"rowNumber\" style = \"font-weight: bold; text-align: right;\">3</td><td style = \"text-align: left;\">Potato Strips w/ ketchup</td><td style = \"text-align: right;\">6</td><td style = \"text-align: right;\">10</td><td style = \"text-align: right;\">21</td><td style = \"text-align: right;\">13</td><td style = \"text-align: right;\">5</td><td style = \"text-align: right;\">3</td></tr><tr><td class = \"rowNumber\" style = \"font-weight: bold; text-align: right;\">4</td><td style = \"text-align: left;\">Crazy Potato Soup</td><td style = \"text-align: right;\">8</td><td style = \"text-align: right;\">4</td><td style = \"text-align: right;\">24</td><td style = \"text-align: right;\">18</td><td style = \"text-align: right;\">4</td><td style = \"text-align: right;\">22</td></tr><tr><td class = \"rowNumber\" style = \"font-weight: bold; text-align: right;\">5</td><td style = \"text-align: left;\">Charles&apos; Home Fries</td><td style = \"text-align: right;\">8</td><td style = \"text-align: right;\">6</td><td style = \"text-align: right;\">23</td><td style = \"text-align: right;\">2</td><td style = \"text-align: right;\">23</td><td style = \"text-align: right;\">3</td></tr><tr><td class = \"rowNumber\" style = \"font-weight: bold; text-align: right;\">6</td><td style = \"text-align: left;\">Charles&apos; Potato Strips</td><td style = \"text-align: right;\">9</td><td style = \"text-align: right;\">11</td><td style = \"text-align: right;\">16</td><td style = \"text-align: right;\">4</td><td style = \"text-align: right;\">6</td><td style = \"text-align: right;\">4</td></tr><tr><td class = \"rowNumber\" style = \"font-weight: bold; text-align: right;\">7</td><td style = \"text-align: left;\">Tater Tots w/ scallion</td><td style = \"text-align: right;\">10</td><td style = \"text-align: right;\">10</td><td style = \"text-align: right;\">11</td><td style = \"text-align: right;\">2</td><td style = \"text-align: right;\">7</td><td style = \"text-align: right;\">10</td></tr><tr><td class = \"rowNumber\" style = \"font-weight: bold; text-align: right;\">8</td><td style = \"text-align: left;\">Tater Tots w/ ketchup</td><td style = \"text-align: right;\">11</td><td style = \"text-align: right;\">2</td><td style = \"text-align: right;\">28</td><td style = \"text-align: right;\">11</td><td style = \"text-align: right;\">4</td><td style = \"text-align: right;\">20</td></tr><tr><td class = \"rowNumber\" style = \"font-weight: bold; text-align: right;\">9</td><td style = \"text-align: left;\">Potato Strips w/ scallion</td><td style = \"text-align: right;\">12</td><td style = \"text-align: right;\">13</td><td style = \"text-align: right;\">5</td><td style = \"text-align: right;\">6</td><td style = \"text-align: right;\">6</td><td style = \"text-align: right;\">2</td></tr><tr><td class = \"rowNumber\" style = \"font-weight: bold; text-align: right;\">10</td><td style = \"text-align: left;\">Underground Chips</td><td style = \"text-align: right;\">13</td><td style = \"text-align: right;\">4</td><td style = \"text-align: right;\">17</td><td style = \"text-align: right;\">5</td><td style = \"text-align: right;\">20</td><td style = \"text-align: right;\">6</td></tr><tr><td class = \"rowNumber\" style = \"font-weight: bold; text-align: right;\">11</td><td style = \"text-align: left;\">Criminal Chips</td><td style = \"text-align: right;\">15</td><td style = \"text-align: right;\">4</td><td style = \"text-align: right;\">14</td><td style = \"text-align: right;\">9</td><td style = \"text-align: right;\">14</td><td style = \"text-align: right;\">9</td></tr><tr><td class = \"rowNumber\" style = \"font-weight: bold; text-align: right;\">12</td><td style = \"text-align: left;\">Speedy Raw Potato</td><td style = \"text-align: right;\">15</td><td style = \"text-align: right;\">7</td><td style = \"text-align: right;\">8</td><td style = \"text-align: right;\">2</td><td style = \"text-align: right;\">7</td><td style = \"text-align: right;\">16</td></tr><tr><td class = \"rowNumber\" style = \"font-weight: bold; text-align: right;\">13</td><td style = \"text-align: left;\">Enlightened Potato Soup</td><td style = \"text-align: right;\">15</td><td style = \"text-align: right;\">8</td><td style = \"text-align: right;\">10</td><td style = \"text-align: right;\">5</td><td style = \"text-align: right;\">4</td><td style = \"text-align: right;\">7</td></tr><tr><td class = \"rowNumber\" style = \"font-weight: bold; text-align: right;\">14</td><td style = \"text-align: left;\">Sneaky Home Fries</td><td style = \"text-align: right;\">18</td><td style = \"text-align: right;\">2</td><td style = \"text-align: right;\">16</td><td style = \"text-align: right;\">7</td><td style = \"text-align: right;\">24</td><td style = \"text-align: right;\">7</td></tr></tbody></table></div>"
      ],
      "text/latex": [
       "\\begin{tabular}{r|ccccccc}\n",
       "\t& name & h & f & l & p & r & s\\\\\n",
       "\t\\hline\n",
       "\t& String & Int64 & Int64 & Int64 & Int64 & Int64 & Int64\\\\\n",
       "\t\\hline\n",
       "\t1 & Enlightened Potato Bread & 4 & 15 & 21 & 11 & 4 & 2 \\\\\n",
       "\t2 & Charles' Tater Tots & 6 & 8 & 30 & 2 & 5 & 14 \\\\\n",
       "\t3 & Potato Strips w/ ketchup & 6 & 10 & 21 & 13 & 5 & 3 \\\\\n",
       "\t4 & Crazy Potato Soup & 8 & 4 & 24 & 18 & 4 & 22 \\\\\n",
       "\t5 & Charles' Home Fries & 8 & 6 & 23 & 2 & 23 & 3 \\\\\n",
       "\t6 & Charles' Potato Strips & 9 & 11 & 16 & 4 & 6 & 4 \\\\\n",
       "\t7 & Tater Tots w/ scallion & 10 & 10 & 11 & 2 & 7 & 10 \\\\\n",
       "\t8 & Tater Tots w/ ketchup & 11 & 2 & 28 & 11 & 4 & 20 \\\\\n",
       "\t9 & Potato Strips w/ scallion & 12 & 13 & 5 & 6 & 6 & 2 \\\\\n",
       "\t10 & Underground Chips & 13 & 4 & 17 & 5 & 20 & 6 \\\\\n",
       "\t11 & Criminal Chips & 15 & 4 & 14 & 9 & 14 & 9 \\\\\n",
       "\t12 & Speedy Raw Potato & 15 & 7 & 8 & 2 & 7 & 16 \\\\\n",
       "\t13 & Enlightened Potato Soup & 15 & 8 & 10 & 5 & 4 & 7 \\\\\n",
       "\t14 & Sneaky Home Fries & 18 & 2 & 16 & 7 & 24 & 7 \\\\\n",
       "\\end{tabular}\n"
      ],
      "text/plain": [
       "\u001b[1m14×7 DataFrame\u001b[0m\n",
       "\u001b[1m Row \u001b[0m│\u001b[1m name                      \u001b[0m\u001b[1m h     \u001b[0m\u001b[1m f     \u001b[0m\u001b[1m l     \u001b[0m\u001b[1m p     \u001b[0m\u001b[1m r     \u001b[0m\u001b[1m s     \u001b[0m\n",
       "     │\u001b[90m String                    \u001b[0m\u001b[90m Int64 \u001b[0m\u001b[90m Int64 \u001b[0m\u001b[90m Int64 \u001b[0m\u001b[90m Int64 \u001b[0m\u001b[90m Int64 \u001b[0m\u001b[90m Int64 \u001b[0m\n",
       "─────┼─────────────────────────────────────────────────────────────────────\n",
       "   1 │ Enlightened Potato Bread       4     15     21     11      4      2\n",
       "   2 │ Charles' Tater Tots            6      8     30      2      5     14\n",
       "   3 │ Potato Strips w/ ketchup       6     10     21     13      5      3\n",
       "   4 │ Crazy Potato Soup              8      4     24     18      4     22\n",
       "   5 │ Charles' Home Fries            8      6     23      2     23      3\n",
       "   6 │ Charles' Potato Strips         9     11     16      4      6      4\n",
       "   7 │ Tater Tots w/ scallion        10     10     11      2      7     10\n",
       "   8 │ Tater Tots w/ ketchup         11      2     28     11      4     20\n",
       "   9 │ Potato Strips w/ scallion     12     13      5      6      6      2\n",
       "  10 │ Underground Chips             13      4     17      5     20      6\n",
       "  11 │ Criminal Chips                15      4     14      9     14      9\n",
       "  12 │ Speedy Raw Potato             15      7      8      2      7     16\n",
       "  13 │ Enlightened Potato Soup       15      8     10      5      4      7\n",
       "  14 │ Sneaky Home Fries             18      2     16      7     24      7"
      ]
     },
     "execution_count": 21,
     "metadata": {},
     "output_type": "execute_result"
    }
   ],
   "source": [
    "nash_env = nash_env[counts .> 10]\n",
    "spuds_to_df(nash_env)"
   ]
  },
  {
   "cell_type": "markdown",
   "id": "8dba7dcc",
   "metadata": {},
   "source": [
    "### Loop this"
   ]
  },
  {
   "cell_type": "code",
   "execution_count": 99,
   "id": "e0bc4a54",
   "metadata": {},
   "outputs": [
    {
     "data": {
      "text/plain": [
       "22-element Vector{Int64}:\n",
       "  1\n",
       "  5\n",
       "  1\n",
       "  4\n",
       "  1\n",
       "  1\n",
       "  1\n",
       " 11\n",
       "  1\n",
       "  4\n",
       "  1\n",
       "  1\n",
       "  1\n",
       "  9\n",
       "  1\n",
       " 13\n",
       "  5\n",
       "  1\n",
       "  3\n",
       " 23\n",
       "  9\n",
       " 25"
      ]
     },
     "execution_count": 99,
     "metadata": {},
     "output_type": "execute_result"
    }
   ],
   "source": [
    "counts = ffp(nash_env, 100)"
   ]
  },
  {
   "cell_type": "code",
   "execution_count": 100,
   "id": "c9abb9e9",
   "metadata": {},
   "outputs": [],
   "source": [
    "#counts = ffp(nash_env, 10000)"
   ]
  },
  {
   "cell_type": "code",
   "execution_count": 101,
   "id": "dda23034",
   "metadata": {},
   "outputs": [
    {
     "data": {
      "text/html": [
       "<div><div style = \"float: left;\"><span>22×7 DataFrame</span></div><div style = \"clear: both;\"></div></div><div class = \"data-frame\" style = \"overflow-x: scroll;\"><table class = \"data-frame\" style = \"margin-bottom: 6px;\"><thead><tr class = \"header\"><th class = \"rowNumber\" style = \"font-weight: bold; text-align: right;\">Row</th><th style = \"text-align: left;\">name</th><th style = \"text-align: left;\">h</th><th style = \"text-align: left;\">f</th><th style = \"text-align: left;\">l</th><th style = \"text-align: left;\">p</th><th style = \"text-align: left;\">r</th><th style = \"text-align: left;\">s</th></tr><tr class = \"subheader headerLastRow\"><th class = \"rowNumber\" style = \"font-weight: bold; text-align: right;\"></th><th title = \"String\" style = \"text-align: left;\">String</th><th title = \"Int64\" style = \"text-align: left;\">Int64</th><th title = \"Int64\" style = \"text-align: left;\">Int64</th><th title = \"Int64\" style = \"text-align: left;\">Int64</th><th title = \"Int64\" style = \"text-align: left;\">Int64</th><th title = \"Int64\" style = \"text-align: left;\">Int64</th><th title = \"Int64\" style = \"text-align: left;\">Int64</th></tr></thead><tbody><tr><td class = \"rowNumber\" style = \"font-weight: bold; text-align: right;\">1</td><td style = \"text-align: left;\">Enlightened Potato Bread</td><td style = \"text-align: right;\">4</td><td style = \"text-align: right;\">15</td><td style = \"text-align: right;\">21</td><td style = \"text-align: right;\">11</td><td style = \"text-align: right;\">4</td><td style = \"text-align: right;\">2</td></tr><tr><td class = \"rowNumber\" style = \"font-weight: bold; text-align: right;\">2</td><td style = \"text-align: left;\">Charles&apos; Tater Tots</td><td style = \"text-align: right;\">6</td><td style = \"text-align: right;\">8</td><td style = \"text-align: right;\">30</td><td style = \"text-align: right;\">2</td><td style = \"text-align: right;\">5</td><td style = \"text-align: right;\">14</td></tr><tr><td class = \"rowNumber\" style = \"font-weight: bold; text-align: right;\">3</td><td style = \"text-align: left;\">Potato Strips w/ ketchup</td><td style = \"text-align: right;\">6</td><td style = \"text-align: right;\">10</td><td style = \"text-align: right;\">21</td><td style = \"text-align: right;\">13</td><td style = \"text-align: right;\">5</td><td style = \"text-align: right;\">3</td></tr><tr><td class = \"rowNumber\" style = \"font-weight: bold; text-align: right;\">4</td><td style = \"text-align: left;\">Crazy Potato Soup</td><td style = \"text-align: right;\">8</td><td style = \"text-align: right;\">4</td><td style = \"text-align: right;\">24</td><td style = \"text-align: right;\">18</td><td style = \"text-align: right;\">4</td><td style = \"text-align: right;\">22</td></tr><tr><td class = \"rowNumber\" style = \"font-weight: bold; text-align: right;\">5</td><td style = \"text-align: left;\">Charles&apos; Home Fries</td><td style = \"text-align: right;\">8</td><td style = \"text-align: right;\">6</td><td style = \"text-align: right;\">23</td><td style = \"text-align: right;\">2</td><td style = \"text-align: right;\">23</td><td style = \"text-align: right;\">3</td></tr><tr><td class = \"rowNumber\" style = \"font-weight: bold; text-align: right;\">6</td><td style = \"text-align: left;\">Charles&apos; Potato Strips</td><td style = \"text-align: right;\">9</td><td style = \"text-align: right;\">11</td><td style = \"text-align: right;\">16</td><td style = \"text-align: right;\">4</td><td style = \"text-align: right;\">6</td><td style = \"text-align: right;\">4</td></tr><tr><td class = \"rowNumber\" style = \"font-weight: bold; text-align: right;\">7</td><td style = \"text-align: left;\">Tater Tots w/ scallion</td><td style = \"text-align: right;\">10</td><td style = \"text-align: right;\">10</td><td style = \"text-align: right;\">11</td><td style = \"text-align: right;\">2</td><td style = \"text-align: right;\">7</td><td style = \"text-align: right;\">10</td></tr><tr><td class = \"rowNumber\" style = \"font-weight: bold; text-align: right;\">8</td><td style = \"text-align: left;\">Tater Tots w/ ketchup</td><td style = \"text-align: right;\">11</td><td style = \"text-align: right;\">2</td><td style = \"text-align: right;\">28</td><td style = \"text-align: right;\">11</td><td style = \"text-align: right;\">4</td><td style = \"text-align: right;\">20</td></tr><tr><td class = \"rowNumber\" style = \"font-weight: bold; text-align: right;\">9</td><td style = \"text-align: left;\">Potato Strips w/ scallion</td><td style = \"text-align: right;\">12</td><td style = \"text-align: right;\">13</td><td style = \"text-align: right;\">5</td><td style = \"text-align: right;\">6</td><td style = \"text-align: right;\">6</td><td style = \"text-align: right;\">2</td></tr><tr><td class = \"rowNumber\" style = \"font-weight: bold; text-align: right;\">10</td><td style = \"text-align: left;\">Underground Chips</td><td style = \"text-align: right;\">13</td><td style = \"text-align: right;\">4</td><td style = \"text-align: right;\">17</td><td style = \"text-align: right;\">5</td><td style = \"text-align: right;\">20</td><td style = \"text-align: right;\">6</td></tr><tr><td class = \"rowNumber\" style = \"font-weight: bold; text-align: right;\">11</td><td style = \"text-align: left;\">Criminal Chips</td><td style = \"text-align: right;\">15</td><td style = \"text-align: right;\">4</td><td style = \"text-align: right;\">14</td><td style = \"text-align: right;\">9</td><td style = \"text-align: right;\">14</td><td style = \"text-align: right;\">9</td></tr><tr><td class = \"rowNumber\" style = \"font-weight: bold; text-align: right;\">12</td><td style = \"text-align: left;\">Speedy Raw Potato</td><td style = \"text-align: right;\">15</td><td style = \"text-align: right;\">7</td><td style = \"text-align: right;\">8</td><td style = \"text-align: right;\">2</td><td style = \"text-align: right;\">7</td><td style = \"text-align: right;\">16</td></tr><tr><td class = \"rowNumber\" style = \"font-weight: bold; text-align: right;\">13</td><td style = \"text-align: left;\">Enlightened Potato Soup</td><td style = \"text-align: right;\">15</td><td style = \"text-align: right;\">8</td><td style = \"text-align: right;\">10</td><td style = \"text-align: right;\">5</td><td style = \"text-align: right;\">4</td><td style = \"text-align: right;\">7</td></tr><tr><td class = \"rowNumber\" style = \"font-weight: bold; text-align: right;\">14</td><td style = \"text-align: left;\">Sneaky Home Fries</td><td style = \"text-align: right;\">18</td><td style = \"text-align: right;\">2</td><td style = \"text-align: right;\">16</td><td style = \"text-align: right;\">7</td><td style = \"text-align: right;\">24</td><td style = \"text-align: right;\">7</td></tr><tr><td class = \"rowNumber\" style = \"font-weight: bold; text-align: right;\">15</td><td style = \"text-align: left;\">Enlightened Potato Bread</td><td style = \"text-align: right;\">5</td><td style = \"text-align: right;\">15</td><td style = \"text-align: right;\">17</td><td style = \"text-align: right;\">5</td><td style = \"text-align: right;\">7</td><td style = \"text-align: right;\">4</td></tr><tr><td class = \"rowNumber\" style = \"font-weight: bold; text-align: right;\">16</td><td style = \"text-align: left;\">Mashed Potato w/ scallion</td><td style = \"text-align: right;\">17</td><td style = \"text-align: right;\">15</td><td style = \"text-align: right;\">3</td><td style = \"text-align: right;\">2</td><td style = \"text-align: right;\">2</td><td style = \"text-align: right;\">2</td></tr><tr><td class = \"rowNumber\" style = \"font-weight: bold; text-align: right;\">17</td><td style = \"text-align: left;\">French Fries w/ onion</td><td style = \"text-align: right;\">3</td><td style = \"text-align: right;\">18</td><td style = \"text-align: right;\">7</td><td style = \"text-align: right;\">6</td><td style = \"text-align: right;\">8</td><td style = \"text-align: right;\">4</td></tr><tr><td class = \"rowNumber\" style = \"font-weight: bold; text-align: right;\">18</td><td style = \"text-align: left;\">Potato Soup w/ onion</td><td style = \"text-align: right;\">19</td><td style = \"text-align: right;\">13</td><td style = \"text-align: right;\">3</td><td style = \"text-align: right;\">3</td><td style = \"text-align: right;\">2</td><td style = \"text-align: right;\">2</td></tr><tr><td class = \"rowNumber\" style = \"font-weight: bold; text-align: right;\">19</td><td style = \"text-align: left;\">Baked Potato w/ onion</td><td style = \"text-align: right;\">5</td><td style = \"text-align: right;\">19</td><td style = \"text-align: right;\">4</td><td style = \"text-align: right;\">7</td><td style = \"text-align: right;\">3</td><td style = \"text-align: right;\">5</td></tr><tr><td class = \"rowNumber\" style = \"font-weight: bold; text-align: right;\">20</td><td style = \"text-align: left;\">Helen&apos;s Tater Tots</td><td style = \"text-align: right;\">14</td><td style = \"text-align: right;\">5</td><td style = \"text-align: right;\">18</td><td style = \"text-align: right;\">8</td><td style = \"text-align: right;\">3</td><td style = \"text-align: right;\">4</td></tr><tr><td class = \"rowNumber\" style = \"font-weight: bold; text-align: right;\">21</td><td style = \"text-align: left;\">French Fries w/ onion</td><td style = \"text-align: right;\">2</td><td style = \"text-align: right;\">19</td><td style = \"text-align: right;\">10</td><td style = \"text-align: right;\">5</td><td style = \"text-align: right;\">7</td><td style = \"text-align: right;\">6</td></tr><tr><td class = \"rowNumber\" style = \"font-weight: bold; text-align: right;\">22</td><td style = \"text-align: left;\">Potato Soup w/ scallion</td><td style = \"text-align: right;\">20</td><td style = \"text-align: right;\">11</td><td style = \"text-align: right;\">5</td><td style = \"text-align: right;\">3</td><td style = \"text-align: right;\">2</td><td style = \"text-align: right;\">2</td></tr></tbody></table></div>"
      ],
      "text/latex": [
       "\\begin{tabular}{r|ccccccc}\n",
       "\t& name & h & f & l & p & r & s\\\\\n",
       "\t\\hline\n",
       "\t& String & Int64 & Int64 & Int64 & Int64 & Int64 & Int64\\\\\n",
       "\t\\hline\n",
       "\t1 & Enlightened Potato Bread & 4 & 15 & 21 & 11 & 4 & 2 \\\\\n",
       "\t2 & Charles' Tater Tots & 6 & 8 & 30 & 2 & 5 & 14 \\\\\n",
       "\t3 & Potato Strips w/ ketchup & 6 & 10 & 21 & 13 & 5 & 3 \\\\\n",
       "\t4 & Crazy Potato Soup & 8 & 4 & 24 & 18 & 4 & 22 \\\\\n",
       "\t5 & Charles' Home Fries & 8 & 6 & 23 & 2 & 23 & 3 \\\\\n",
       "\t6 & Charles' Potato Strips & 9 & 11 & 16 & 4 & 6 & 4 \\\\\n",
       "\t7 & Tater Tots w/ scallion & 10 & 10 & 11 & 2 & 7 & 10 \\\\\n",
       "\t8 & Tater Tots w/ ketchup & 11 & 2 & 28 & 11 & 4 & 20 \\\\\n",
       "\t9 & Potato Strips w/ scallion & 12 & 13 & 5 & 6 & 6 & 2 \\\\\n",
       "\t10 & Underground Chips & 13 & 4 & 17 & 5 & 20 & 6 \\\\\n",
       "\t11 & Criminal Chips & 15 & 4 & 14 & 9 & 14 & 9 \\\\\n",
       "\t12 & Speedy Raw Potato & 15 & 7 & 8 & 2 & 7 & 16 \\\\\n",
       "\t13 & Enlightened Potato Soup & 15 & 8 & 10 & 5 & 4 & 7 \\\\\n",
       "\t14 & Sneaky Home Fries & 18 & 2 & 16 & 7 & 24 & 7 \\\\\n",
       "\t15 & Enlightened Potato Bread & 5 & 15 & 17 & 5 & 7 & 4 \\\\\n",
       "\t16 & Mashed Potato w/ scallion & 17 & 15 & 3 & 2 & 2 & 2 \\\\\n",
       "\t17 & French Fries w/ onion & 3 & 18 & 7 & 6 & 8 & 4 \\\\\n",
       "\t18 & Potato Soup w/ onion & 19 & 13 & 3 & 3 & 2 & 2 \\\\\n",
       "\t19 & Baked Potato w/ onion & 5 & 19 & 4 & 7 & 3 & 5 \\\\\n",
       "\t20 & Helen's Tater Tots & 14 & 5 & 18 & 8 & 3 & 4 \\\\\n",
       "\t21 & French Fries w/ onion & 2 & 19 & 10 & 5 & 7 & 6 \\\\\n",
       "\t22 & Potato Soup w/ scallion & 20 & 11 & 5 & 3 & 2 & 2 \\\\\n",
       "\\end{tabular}\n"
      ],
      "text/plain": [
       "\u001b[1m22×7 DataFrame\u001b[0m\n",
       "\u001b[1m Row \u001b[0m│\u001b[1m name                      \u001b[0m\u001b[1m h     \u001b[0m\u001b[1m f     \u001b[0m\u001b[1m l     \u001b[0m\u001b[1m p     \u001b[0m\u001b[1m r     \u001b[0m\u001b[1m s     \u001b[0m\n",
       "     │\u001b[90m String                    \u001b[0m\u001b[90m Int64 \u001b[0m\u001b[90m Int64 \u001b[0m\u001b[90m Int64 \u001b[0m\u001b[90m Int64 \u001b[0m\u001b[90m Int64 \u001b[0m\u001b[90m Int64 \u001b[0m\n",
       "─────┼─────────────────────────────────────────────────────────────────────\n",
       "   1 │ Enlightened Potato Bread       4     15     21     11      4      2\n",
       "   2 │ Charles' Tater Tots            6      8     30      2      5     14\n",
       "   3 │ Potato Strips w/ ketchup       6     10     21     13      5      3\n",
       "   4 │ Crazy Potato Soup              8      4     24     18      4     22\n",
       "   5 │ Charles' Home Fries            8      6     23      2     23      3\n",
       "   6 │ Charles' Potato Strips         9     11     16      4      6      4\n",
       "   7 │ Tater Tots w/ scallion        10     10     11      2      7     10\n",
       "   8 │ Tater Tots w/ ketchup         11      2     28     11      4     20\n",
       "   9 │ Potato Strips w/ scallion     12     13      5      6      6      2\n",
       "  10 │ Underground Chips             13      4     17      5     20      6\n",
       "  11 │ Criminal Chips                15      4     14      9     14      9\n",
       "  12 │ Speedy Raw Potato             15      7      8      2      7     16\n",
       "  13 │ Enlightened Potato Soup       15      8     10      5      4      7\n",
       "  14 │ Sneaky Home Fries             18      2     16      7     24      7\n",
       "  15 │ Enlightened Potato Bread       5     15     17      5      7      4\n",
       "  16 │ Mashed Potato w/ scallion     17     15      3      2      2      2\n",
       "  17 │ French Fries w/ onion          3     18      7      6      8      4\n",
       "  18 │ Potato Soup w/ onion          19     13      3      3      2      2\n",
       "  19 │ Baked Potato w/ onion          5     19      4      7      3      5\n",
       "  20 │ Helen's Tater Tots            14      5     18      8      3      4\n",
       "  21 │ French Fries w/ onion          2     19     10      5      7      6\n",
       "  22 │ Potato Soup w/ scallion       20     11      5      3      2      2"
      ]
     },
     "execution_count": 101,
     "metadata": {},
     "output_type": "execute_result"
    }
   ],
   "source": [
    "spuds_to_df(nash_env)"
   ]
  },
  {
   "cell_type": "code",
   "execution_count": 102,
   "id": "b40c9c71",
   "metadata": {},
   "outputs": [],
   "source": [
    "# # don't run this every iteration!!\n",
    "# nash_env = nash_env[counts .> 10]\n",
    "# counts = ffp(nash_env, 10000)"
   ]
  },
  {
   "cell_type": "code",
   "execution_count": 103,
   "id": "7522c5a1",
   "metadata": {},
   "outputs": [
    {
     "data": {
      "text/plain": [
       "Spud(\"French Fries w/ onion\", 3, 20, 6, 6, 4, 6)"
      ]
     },
     "execution_count": 103,
     "metadata": {},
     "output_type": "execute_result"
    }
   ],
   "source": [
    "ff = rand_rename(pick_best_library2(nash_env, counts./sum(counts)))"
   ]
  },
  {
   "cell_type": "code",
   "execution_count": 104,
   "id": "36d7d97a",
   "metadata": {},
   "outputs": [
    {
     "data": {
      "text/plain": [
       "0.6721311475409836"
      ]
     },
     "execution_count": 104,
     "metadata": {},
     "output_type": "execute_result"
    }
   ],
   "source": [
    "ev = eval_battle_list2(ff, nash_env, counts./sum(counts))"
   ]
  },
  {
   "cell_type": "code",
   "execution_count": 105,
   "id": "7c3b3749",
   "metadata": {},
   "outputs": [
    {
     "data": {
      "text/plain": [
       "143-element Vector{Spud}:\n",
       " Spud(\"\", 3, 20, 6, 2, 9, 5)\n",
       " Spud(\"\", 3, 20, 6, 6, 4, 6)\n",
       " Spud(\"\", 3, 20, 6, 2, 9, 5)\n",
       " Spud(\"\", 3, 20, 6, 6, 4, 6)\n",
       " Spud(\"\", 3, 20, 6, 2, 9, 5)\n",
       " Spud(\"\", 3, 20, 6, 6, 4, 6)\n",
       " Spud(\"\", 3, 20, 6, 2, 9, 5)\n",
       " Spud(\"\", 3, 20, 6, 6, 4, 6)\n",
       " Spud(\"\", 3, 20, 6, 2, 9, 5)\n",
       " Spud(\"\", 3, 20, 6, 6, 4, 6)\n",
       " Spud(\"\", 5, 20, 4, 2, 6, 6)\n",
       " Spud(\"\", 5, 20, 4, 2, 7, 5)\n",
       " Spud(\"\", 5, 20, 4, 3, 5, 6)\n",
       " ⋮\n",
       " Spud(\"\", 10, 20, 2, 4, 2, 3)\n",
       " Spud(\"\", 10, 20, 4, 2, 3, 3)\n",
       " Spud(\"\", 10, 20, 4, 3, 2, 3)\n",
       " Spud(\"\", 10, 20, 4, 3, 3, 2)\n",
       " Spud(\"\", 10, 20, 4, 4, 2, 2)\n",
       " Spud(\"\", 10, 20, 4, 2, 3, 3)\n",
       " Spud(\"\", 10, 20, 4, 3, 2, 3)\n",
       " Spud(\"\", 10, 21, 2, 2, 3, 3)\n",
       " Spud(\"\", 10, 21, 2, 3, 2, 3)\n",
       " Spud(\"\", 10, 21, 2, 3, 3, 2)\n",
       " Spud(\"\", 10, 21, 2, 4, 2, 2)\n",
       " Spud(\"\", 12, 18, 6, 2, 2, 2)"
      ]
     },
     "execution_count": 105,
     "metadata": {},
     "output_type": "execute_result"
    }
   ],
   "source": [
    "bestf = subset_library(nash_env, 500, counts./sum(counts), ev-0.05)"
   ]
  },
  {
   "cell_type": "code",
   "execution_count": 106,
   "id": "d6029104",
   "metadata": {},
   "outputs": [
    {
     "name": "stdout",
     "output_type": "stream",
     "text": [
      "2032\n"
     ]
    },
    {
     "data": {
      "text/plain": [
       "Spud(\"French Fries w/ onion\", 3, 20, 6, 6, 4, 6)"
      ]
     },
     "execution_count": 106,
     "metadata": {},
     "output_type": "execute_result"
    }
   ],
   "source": [
    "cc = ffp(bestf, 10000)\n",
    "println(maximum(cc))\n",
    "ff2 = rand_rename(bestf[cc .== maximum(cc)][1])"
   ]
  },
  {
   "cell_type": "code",
   "execution_count": 107,
   "id": "d7f6f1f6",
   "metadata": {},
   "outputs": [
    {
     "data": {
      "text/plain": [
       "0.6721311475409836"
      ]
     },
     "execution_count": 107,
     "metadata": {},
     "output_type": "execute_result"
    }
   ],
   "source": [
    "eval_battle_list2(ff2, nash_env, counts./sum(counts))"
   ]
  },
  {
   "cell_type": "code",
   "execution_count": 108,
   "id": "6273fbba",
   "metadata": {},
   "outputs": [
    {
     "data": {
      "text/html": [
       "<div><div style = \"float: left;\"><span>23×7 DataFrame</span></div><div style = \"clear: both;\"></div></div><div class = \"data-frame\" style = \"overflow-x: scroll;\"><table class = \"data-frame\" style = \"margin-bottom: 6px;\"><thead><tr class = \"header\"><th class = \"rowNumber\" style = \"font-weight: bold; text-align: right;\">Row</th><th style = \"text-align: left;\">name</th><th style = \"text-align: left;\">h</th><th style = \"text-align: left;\">f</th><th style = \"text-align: left;\">l</th><th style = \"text-align: left;\">p</th><th style = \"text-align: left;\">r</th><th style = \"text-align: left;\">s</th></tr><tr class = \"subheader headerLastRow\"><th class = \"rowNumber\" style = \"font-weight: bold; text-align: right;\"></th><th title = \"String\" style = \"text-align: left;\">String</th><th title = \"Int64\" style = \"text-align: left;\">Int64</th><th title = \"Int64\" style = \"text-align: left;\">Int64</th><th title = \"Int64\" style = \"text-align: left;\">Int64</th><th title = \"Int64\" style = \"text-align: left;\">Int64</th><th title = \"Int64\" style = \"text-align: left;\">Int64</th><th title = \"Int64\" style = \"text-align: left;\">Int64</th></tr></thead><tbody><tr><td class = \"rowNumber\" style = \"font-weight: bold; text-align: right;\">1</td><td style = \"text-align: left;\">Enlightened Potato Bread</td><td style = \"text-align: right;\">4</td><td style = \"text-align: right;\">15</td><td style = \"text-align: right;\">21</td><td style = \"text-align: right;\">11</td><td style = \"text-align: right;\">4</td><td style = \"text-align: right;\">2</td></tr><tr><td class = \"rowNumber\" style = \"font-weight: bold; text-align: right;\">2</td><td style = \"text-align: left;\">Charles&apos; Tater Tots</td><td style = \"text-align: right;\">6</td><td style = \"text-align: right;\">8</td><td style = \"text-align: right;\">30</td><td style = \"text-align: right;\">2</td><td style = \"text-align: right;\">5</td><td style = \"text-align: right;\">14</td></tr><tr><td class = \"rowNumber\" style = \"font-weight: bold; text-align: right;\">3</td><td style = \"text-align: left;\">Potato Strips w/ ketchup</td><td style = \"text-align: right;\">6</td><td style = \"text-align: right;\">10</td><td style = \"text-align: right;\">21</td><td style = \"text-align: right;\">13</td><td style = \"text-align: right;\">5</td><td style = \"text-align: right;\">3</td></tr><tr><td class = \"rowNumber\" style = \"font-weight: bold; text-align: right;\">4</td><td style = \"text-align: left;\">Crazy Potato Soup</td><td style = \"text-align: right;\">8</td><td style = \"text-align: right;\">4</td><td style = \"text-align: right;\">24</td><td style = \"text-align: right;\">18</td><td style = \"text-align: right;\">4</td><td style = \"text-align: right;\">22</td></tr><tr><td class = \"rowNumber\" style = \"font-weight: bold; text-align: right;\">5</td><td style = \"text-align: left;\">Charles&apos; Home Fries</td><td style = \"text-align: right;\">8</td><td style = \"text-align: right;\">6</td><td style = \"text-align: right;\">23</td><td style = \"text-align: right;\">2</td><td style = \"text-align: right;\">23</td><td style = \"text-align: right;\">3</td></tr><tr><td class = \"rowNumber\" style = \"font-weight: bold; text-align: right;\">6</td><td style = \"text-align: left;\">Charles&apos; Potato Strips</td><td style = \"text-align: right;\">9</td><td style = \"text-align: right;\">11</td><td style = \"text-align: right;\">16</td><td style = \"text-align: right;\">4</td><td style = \"text-align: right;\">6</td><td style = \"text-align: right;\">4</td></tr><tr><td class = \"rowNumber\" style = \"font-weight: bold; text-align: right;\">7</td><td style = \"text-align: left;\">Tater Tots w/ scallion</td><td style = \"text-align: right;\">10</td><td style = \"text-align: right;\">10</td><td style = \"text-align: right;\">11</td><td style = \"text-align: right;\">2</td><td style = \"text-align: right;\">7</td><td style = \"text-align: right;\">10</td></tr><tr><td class = \"rowNumber\" style = \"font-weight: bold; text-align: right;\">8</td><td style = \"text-align: left;\">Tater Tots w/ ketchup</td><td style = \"text-align: right;\">11</td><td style = \"text-align: right;\">2</td><td style = \"text-align: right;\">28</td><td style = \"text-align: right;\">11</td><td style = \"text-align: right;\">4</td><td style = \"text-align: right;\">20</td></tr><tr><td class = \"rowNumber\" style = \"font-weight: bold; text-align: right;\">9</td><td style = \"text-align: left;\">Potato Strips w/ scallion</td><td style = \"text-align: right;\">12</td><td style = \"text-align: right;\">13</td><td style = \"text-align: right;\">5</td><td style = \"text-align: right;\">6</td><td style = \"text-align: right;\">6</td><td style = \"text-align: right;\">2</td></tr><tr><td class = \"rowNumber\" style = \"font-weight: bold; text-align: right;\">10</td><td style = \"text-align: left;\">Underground Chips</td><td style = \"text-align: right;\">13</td><td style = \"text-align: right;\">4</td><td style = \"text-align: right;\">17</td><td style = \"text-align: right;\">5</td><td style = \"text-align: right;\">20</td><td style = \"text-align: right;\">6</td></tr><tr><td class = \"rowNumber\" style = \"font-weight: bold; text-align: right;\">11</td><td style = \"text-align: left;\">Criminal Chips</td><td style = \"text-align: right;\">15</td><td style = \"text-align: right;\">4</td><td style = \"text-align: right;\">14</td><td style = \"text-align: right;\">9</td><td style = \"text-align: right;\">14</td><td style = \"text-align: right;\">9</td></tr><tr><td class = \"rowNumber\" style = \"font-weight: bold; text-align: right;\">12</td><td style = \"text-align: left;\">Speedy Raw Potato</td><td style = \"text-align: right;\">15</td><td style = \"text-align: right;\">7</td><td style = \"text-align: right;\">8</td><td style = \"text-align: right;\">2</td><td style = \"text-align: right;\">7</td><td style = \"text-align: right;\">16</td></tr><tr><td class = \"rowNumber\" style = \"font-weight: bold; text-align: right;\">13</td><td style = \"text-align: left;\">Enlightened Potato Soup</td><td style = \"text-align: right;\">15</td><td style = \"text-align: right;\">8</td><td style = \"text-align: right;\">10</td><td style = \"text-align: right;\">5</td><td style = \"text-align: right;\">4</td><td style = \"text-align: right;\">7</td></tr><tr><td class = \"rowNumber\" style = \"font-weight: bold; text-align: right;\">14</td><td style = \"text-align: left;\">Sneaky Home Fries</td><td style = \"text-align: right;\">18</td><td style = \"text-align: right;\">2</td><td style = \"text-align: right;\">16</td><td style = \"text-align: right;\">7</td><td style = \"text-align: right;\">24</td><td style = \"text-align: right;\">7</td></tr><tr><td class = \"rowNumber\" style = \"font-weight: bold; text-align: right;\">15</td><td style = \"text-align: left;\">Enlightened Potato Bread</td><td style = \"text-align: right;\">5</td><td style = \"text-align: right;\">15</td><td style = \"text-align: right;\">17</td><td style = \"text-align: right;\">5</td><td style = \"text-align: right;\">7</td><td style = \"text-align: right;\">4</td></tr><tr><td class = \"rowNumber\" style = \"font-weight: bold; text-align: right;\">16</td><td style = \"text-align: left;\">Mashed Potato w/ scallion</td><td style = \"text-align: right;\">17</td><td style = \"text-align: right;\">15</td><td style = \"text-align: right;\">3</td><td style = \"text-align: right;\">2</td><td style = \"text-align: right;\">2</td><td style = \"text-align: right;\">2</td></tr><tr><td class = \"rowNumber\" style = \"font-weight: bold; text-align: right;\">17</td><td style = \"text-align: left;\">French Fries w/ onion</td><td style = \"text-align: right;\">3</td><td style = \"text-align: right;\">18</td><td style = \"text-align: right;\">7</td><td style = \"text-align: right;\">6</td><td style = \"text-align: right;\">8</td><td style = \"text-align: right;\">4</td></tr><tr><td class = \"rowNumber\" style = \"font-weight: bold; text-align: right;\">18</td><td style = \"text-align: left;\">Potato Soup w/ onion</td><td style = \"text-align: right;\">19</td><td style = \"text-align: right;\">13</td><td style = \"text-align: right;\">3</td><td style = \"text-align: right;\">3</td><td style = \"text-align: right;\">2</td><td style = \"text-align: right;\">2</td></tr><tr><td class = \"rowNumber\" style = \"font-weight: bold; text-align: right;\">19</td><td style = \"text-align: left;\">Baked Potato w/ onion</td><td style = \"text-align: right;\">5</td><td style = \"text-align: right;\">19</td><td style = \"text-align: right;\">4</td><td style = \"text-align: right;\">7</td><td style = \"text-align: right;\">3</td><td style = \"text-align: right;\">5</td></tr><tr><td class = \"rowNumber\" style = \"font-weight: bold; text-align: right;\">20</td><td style = \"text-align: left;\">Helen&apos;s Tater Tots</td><td style = \"text-align: right;\">14</td><td style = \"text-align: right;\">5</td><td style = \"text-align: right;\">18</td><td style = \"text-align: right;\">8</td><td style = \"text-align: right;\">3</td><td style = \"text-align: right;\">4</td></tr><tr><td class = \"rowNumber\" style = \"font-weight: bold; text-align: right;\">21</td><td style = \"text-align: left;\">French Fries w/ onion</td><td style = \"text-align: right;\">2</td><td style = \"text-align: right;\">19</td><td style = \"text-align: right;\">10</td><td style = \"text-align: right;\">5</td><td style = \"text-align: right;\">7</td><td style = \"text-align: right;\">6</td></tr><tr><td class = \"rowNumber\" style = \"font-weight: bold; text-align: right;\">22</td><td style = \"text-align: left;\">Potato Soup w/ scallion</td><td style = \"text-align: right;\">20</td><td style = \"text-align: right;\">11</td><td style = \"text-align: right;\">5</td><td style = \"text-align: right;\">3</td><td style = \"text-align: right;\">2</td><td style = \"text-align: right;\">2</td></tr><tr><td class = \"rowNumber\" style = \"font-weight: bold; text-align: right;\">23</td><td style = \"text-align: left;\">French Fries w/ onion</td><td style = \"text-align: right;\">3</td><td style = \"text-align: right;\">20</td><td style = \"text-align: right;\">6</td><td style = \"text-align: right;\">6</td><td style = \"text-align: right;\">4</td><td style = \"text-align: right;\">6</td></tr></tbody></table></div>"
      ],
      "text/latex": [
       "\\begin{tabular}{r|ccccccc}\n",
       "\t& name & h & f & l & p & r & s\\\\\n",
       "\t\\hline\n",
       "\t& String & Int64 & Int64 & Int64 & Int64 & Int64 & Int64\\\\\n",
       "\t\\hline\n",
       "\t1 & Enlightened Potato Bread & 4 & 15 & 21 & 11 & 4 & 2 \\\\\n",
       "\t2 & Charles' Tater Tots & 6 & 8 & 30 & 2 & 5 & 14 \\\\\n",
       "\t3 & Potato Strips w/ ketchup & 6 & 10 & 21 & 13 & 5 & 3 \\\\\n",
       "\t4 & Crazy Potato Soup & 8 & 4 & 24 & 18 & 4 & 22 \\\\\n",
       "\t5 & Charles' Home Fries & 8 & 6 & 23 & 2 & 23 & 3 \\\\\n",
       "\t6 & Charles' Potato Strips & 9 & 11 & 16 & 4 & 6 & 4 \\\\\n",
       "\t7 & Tater Tots w/ scallion & 10 & 10 & 11 & 2 & 7 & 10 \\\\\n",
       "\t8 & Tater Tots w/ ketchup & 11 & 2 & 28 & 11 & 4 & 20 \\\\\n",
       "\t9 & Potato Strips w/ scallion & 12 & 13 & 5 & 6 & 6 & 2 \\\\\n",
       "\t10 & Underground Chips & 13 & 4 & 17 & 5 & 20 & 6 \\\\\n",
       "\t11 & Criminal Chips & 15 & 4 & 14 & 9 & 14 & 9 \\\\\n",
       "\t12 & Speedy Raw Potato & 15 & 7 & 8 & 2 & 7 & 16 \\\\\n",
       "\t13 & Enlightened Potato Soup & 15 & 8 & 10 & 5 & 4 & 7 \\\\\n",
       "\t14 & Sneaky Home Fries & 18 & 2 & 16 & 7 & 24 & 7 \\\\\n",
       "\t15 & Enlightened Potato Bread & 5 & 15 & 17 & 5 & 7 & 4 \\\\\n",
       "\t16 & Mashed Potato w/ scallion & 17 & 15 & 3 & 2 & 2 & 2 \\\\\n",
       "\t17 & French Fries w/ onion & 3 & 18 & 7 & 6 & 8 & 4 \\\\\n",
       "\t18 & Potato Soup w/ onion & 19 & 13 & 3 & 3 & 2 & 2 \\\\\n",
       "\t19 & Baked Potato w/ onion & 5 & 19 & 4 & 7 & 3 & 5 \\\\\n",
       "\t20 & Helen's Tater Tots & 14 & 5 & 18 & 8 & 3 & 4 \\\\\n",
       "\t21 & French Fries w/ onion & 2 & 19 & 10 & 5 & 7 & 6 \\\\\n",
       "\t22 & Potato Soup w/ scallion & 20 & 11 & 5 & 3 & 2 & 2 \\\\\n",
       "\t23 & French Fries w/ onion & 3 & 20 & 6 & 6 & 4 & 6 \\\\\n",
       "\\end{tabular}\n"
      ],
      "text/plain": [
       "\u001b[1m23×7 DataFrame\u001b[0m\n",
       "\u001b[1m Row \u001b[0m│\u001b[1m name                      \u001b[0m\u001b[1m h     \u001b[0m\u001b[1m f     \u001b[0m\u001b[1m l     \u001b[0m\u001b[1m p     \u001b[0m\u001b[1m r     \u001b[0m\u001b[1m s     \u001b[0m\n",
       "     │\u001b[90m String                    \u001b[0m\u001b[90m Int64 \u001b[0m\u001b[90m Int64 \u001b[0m\u001b[90m Int64 \u001b[0m\u001b[90m Int64 \u001b[0m\u001b[90m Int64 \u001b[0m\u001b[90m Int64 \u001b[0m\n",
       "─────┼─────────────────────────────────────────────────────────────────────\n",
       "   1 │ Enlightened Potato Bread       4     15     21     11      4      2\n",
       "   2 │ Charles' Tater Tots            6      8     30      2      5     14\n",
       "   3 │ Potato Strips w/ ketchup       6     10     21     13      5      3\n",
       "   4 │ Crazy Potato Soup              8      4     24     18      4     22\n",
       "   5 │ Charles' Home Fries            8      6     23      2     23      3\n",
       "   6 │ Charles' Potato Strips         9     11     16      4      6      4\n",
       "   7 │ Tater Tots w/ scallion        10     10     11      2      7     10\n",
       "   8 │ Tater Tots w/ ketchup         11      2     28     11      4     20\n",
       "   9 │ Potato Strips w/ scallion     12     13      5      6      6      2\n",
       "  10 │ Underground Chips             13      4     17      5     20      6\n",
       "  11 │ Criminal Chips                15      4     14      9     14      9\n",
       "  12 │ Speedy Raw Potato             15      7      8      2      7     16\n",
       "  13 │ Enlightened Potato Soup       15      8     10      5      4      7\n",
       "  14 │ Sneaky Home Fries             18      2     16      7     24      7\n",
       "  15 │ Enlightened Potato Bread       5     15     17      5      7      4\n",
       "  16 │ Mashed Potato w/ scallion     17     15      3      2      2      2\n",
       "  17 │ French Fries w/ onion          3     18      7      6      8      4\n",
       "  18 │ Potato Soup w/ onion          19     13      3      3      2      2\n",
       "  19 │ Baked Potato w/ onion          5     19      4      7      3      5\n",
       "  20 │ Helen's Tater Tots            14      5     18      8      3      4\n",
       "  21 │ French Fries w/ onion          2     19     10      5      7      6\n",
       "  22 │ Potato Soup w/ scallion       20     11      5      3      2      2\n",
       "  23 │ French Fries w/ onion          3     20      6      6      4      6"
      ]
     },
     "execution_count": 108,
     "metadata": {},
     "output_type": "execute_result"
    }
   ],
   "source": [
    "append!(nash_env, [ff2])\n",
    "spuds_to_df(nash_env)"
   ]
  },
  {
   "cell_type": "markdown",
   "id": "6c06f6a4",
   "metadata": {},
   "source": [
    "### loop"
   ]
  },
  {
   "cell_type": "code",
   "execution_count": 223,
   "id": "f92d53b4",
   "metadata": {
    "scrolled": false
   },
   "outputs": [
    {
     "name": "stdout",
     "output_type": "stream",
     "text": [
      "\n",
      "1\n",
      "0.034345231550433356\n",
      "0.3433423627840029\n",
      "5\n",
      "10001\n",
      "0.30857731175594494\n",
      "\n",
      "2\n",
      "0.038752948702570865\n",
      "0.3764743512854345\n",
      "6\n",
      "10001\n",
      "0.3431290232297789\n",
      "\n",
      "3\n",
      "0.03324503973212055\n",
      "0.36360637713029137\n",
      "4\n",
      "10001\n",
      "0.36360637713029137\n",
      "\n",
      "4\n",
      "0.033544569498030884\n",
      "0.3411430741858745\n",
      "6\n",
      "3336\n",
      "0.32157207684465144\n",
      "\n",
      "5\n",
      "0.04336961628034829\n",
      "0.33899067438304\n",
      "5\n",
      "10001\n",
      "0.29507131648125384\n",
      "\n",
      "6\n",
      "0.02875619702542786\n",
      "0.303394370702063\n",
      "69\n",
      "3335\n",
      "0.26353350391811925\n",
      "\n",
      "7\n",
      "0.02629711441393713\n",
      "0.30791911963138063\n",
      "60\n",
      "2018\n",
      "0.2711171525952284\n",
      "\n",
      "8\n",
      "0.02105947026486755\n",
      "0.25281359320339825\n",
      "36\n",
      "2508\n",
      "0.20703648175912048\n",
      "\n",
      "9\n",
      "0.03423254140388401\n",
      "0.2541803680123137\n",
      "99\n",
      "3349\n",
      "0.22147704670617988\n",
      "\n",
      "10\n",
      "0.026846040059169227\n",
      "0.31423659696957584\n",
      "53\n",
      "3350\n",
      "0.27291808259704964\n",
      "\n",
      "11\n",
      "0.036260781785653576\n",
      "0.3806082776128651\n",
      "5\n",
      "10001\n",
      "0.3806082776128651\n",
      "\n",
      "12\n",
      "0.04025826053930881\n",
      "0.2881244128170788\n",
      "30\n",
      "2006\n",
      "0.24128970356007756\n",
      "\n",
      "13\n",
      "0.04226675328569286\n",
      "0.3570935985208135\n",
      "208\n",
      "10001\n",
      "0.3281095397531357\n",
      "\n",
      "14\n",
      "0.022647317502198762\n",
      "0.2510394179259615\n",
      "206\n",
      "2415\n",
      "0.20132725673622776\n",
      "\n",
      "15\n",
      "0.023686498695743435\n",
      "0.31762895149764636\n",
      "26\n",
      "10001\n",
      "0.31762895149764636\n",
      "\n",
      "16\n",
      "0.03282096384097222\n",
      "0.24157988366747296\n",
      "230\n",
      "1585\n",
      "0.21899298406923978\n",
      "\n",
      "17\n",
      "0.021217481685805468\n",
      "0.27660680198682785\n",
      "153\n",
      "3199\n",
      "0.24680438541260655\n",
      "\n",
      "18\n",
      "0.026554067559464163\n",
      "0.24195482710373778\n",
      "386\n",
      "2522\n",
      "0.21309214471317212\n",
      "\n",
      "19\n",
      "0.014501154295879514\n",
      "0.23380737749972516\n",
      "153\n",
      "3374\n",
      "0.20140714164359744\n",
      "\n",
      "20\n",
      "0.017239311626791425\n",
      "0.25110431532449884\n",
      "11\n",
      "10001\n",
      "0.20891047550518677\n",
      "\n",
      "21\n",
      "0.022475840220661\n",
      "0.21793270239748952\n",
      "300\n",
      "2115\n",
      "0.17154192858499145\n",
      "\n",
      "22\n",
      "0.017978493763991042\n",
      "0.2019707387272146\n",
      "155\n",
      "1460\n",
      "0.16271586184841702\n",
      "\n",
      "23\n",
      "0.022305501424074364\n",
      "0.2453505221605957\n",
      "39\n",
      "3352\n",
      "0.19918053265377506\n",
      "\n",
      "24\n",
      "0.022265304898766793\n",
      "0.250354765854536\n",
      "25\n",
      "10001\n",
      "0.21301940719125387\n",
      "\n",
      "25\n",
      "0.034037195079296874\n",
      "0.23966942148760328\n",
      "143\n",
      "1844\n",
      "0.19763758281951088\n",
      "\n",
      "26\n",
      "0.0292601031298717\n",
      "0.27295439101411045\n",
      "30\n",
      "10001\n",
      "0.22704560898588966\n",
      "\n",
      "27\n",
      "0.027680900178876592\n",
      "0.2433820663742017\n",
      "43\n",
      "3871\n",
      "0.19699407408887867\n",
      "\n",
      "28\n",
      "0.025122414309983063\n",
      "0.2521035275307285\n",
      "34\n",
      "3191\n",
      "0.21345058459078645\n",
      "\n",
      "29\n",
      "0.02692088617081871\n",
      "0.27829241238720515\n",
      "77\n",
      "3358\n",
      "0.25221093023953\n",
      "\n",
      "30\n",
      "0.021134782956271504\n",
      "0.2324126628827244\n",
      "85\n",
      "2001\n",
      "0.18344791749940045\n",
      "\n",
      "31\n",
      "0.03266615370779326\n",
      "0.21509298212305014\n",
      "237\n",
      "1381\n",
      "0.17296373647237515\n",
      "\n",
      "32\n",
      "0.020065151787677156\n",
      "0.21098387193476836\n",
      "285\n",
      "1335\n",
      "0.16883506205408\n",
      "\n",
      "33\n",
      "0.028498626030477137\n",
      "0.21720709467899074\n",
      "80\n",
      "2832\n",
      "0.18053459905071195\n",
      "\n",
      "34\n",
      "0.040109516767256895\n",
      "0.23332267476717694\n",
      "33\n",
      "2809\n",
      "0.18721771453695185\n",
      "\n",
      "35\n",
      "0.03329436334022802\n",
      "0.2135455699111684\n",
      "27\n",
      "3337\n",
      "0.1640237017496528\n",
      "\n",
      "36\n",
      "0.031905114011071385\n",
      "0.22680309358700215\n",
      "22\n",
      "3338\n",
      "0.18117868062910933\n",
      "\n",
      "37\n",
      "0.025090178758780578\n",
      "0.22751026688915757\n",
      "60\n",
      "2696\n",
      "0.17894863058184038\n",
      "\n",
      "38\n",
      "0.027368105515587507\n",
      "0.24530375699440451\n",
      "74\n",
      "3747\n",
      "0.1999800159872103\n",
      "\n",
      "39\n",
      "0.03189416572576212\n",
      "0.2098799972022662\n",
      "35\n",
      "3186\n",
      "0.17460856706068084\n",
      "\n",
      "40\n",
      "0.03063487939889297\n",
      "0.23031114486121385\n",
      "71\n",
      "1619\n",
      "0.18318978437681105\n"
     ]
    }
   ],
   "source": [
    "for ii in 1:40\n",
    "    println()\n",
    "    println(ii)\n",
    "    counts = ffp(nash_env, 100000)\n",
    "    println(maximum([eval_battle_list2(ff, nash_env, counts./sum(counts)) for ff in nash_env]))\n",
    "    ff = rand_rename(pick_best_library2(nash_env, counts./sum(counts)))\n",
    "    ev = eval_battle_list2(ff, nash_env, counts./sum(counts))\n",
    "    println(ev)\n",
    "    bestf = subset_library(nash_env, 900, counts./sum(counts), ev-0.05)\n",
    "    println(length(bestf))\n",
    "    cc = ffp(bestf, 10000)\n",
    "    println(maximum(cc))\n",
    "    ff2 = rand_rename(bestf[cc .== maximum(cc)][1])\n",
    "    println(eval_battle_list2(ff2, nash_env, counts./sum(counts)))\n",
    "    append!(nash_env, [ff2])\n",
    "end"
   ]
  },
  {
   "cell_type": "code",
   "execution_count": 224,
   "id": "e0f50507",
   "metadata": {},
   "outputs": [
    {
     "data": {
      "text/html": [
       "<div><div style = \"float: left;\"><span>83×7 DataFrame</span></div><div style = \"float: right;\"><span style = \"font-style: italic;\">58 rows omitted</span></div><div style = \"clear: both;\"></div></div><div class = \"data-frame\" style = \"overflow-x: scroll;\"><table class = \"data-frame\" style = \"margin-bottom: 6px;\"><thead><tr class = \"header\"><th class = \"rowNumber\" style = \"font-weight: bold; text-align: right;\">Row</th><th style = \"text-align: left;\">name</th><th style = \"text-align: left;\">h</th><th style = \"text-align: left;\">f</th><th style = \"text-align: left;\">l</th><th style = \"text-align: left;\">p</th><th style = \"text-align: left;\">r</th><th style = \"text-align: left;\">s</th></tr><tr class = \"subheader headerLastRow\"><th class = \"rowNumber\" style = \"font-weight: bold; text-align: right;\"></th><th title = \"String\" style = \"text-align: left;\">String</th><th title = \"Int64\" style = \"text-align: left;\">Int64</th><th title = \"Int64\" style = \"text-align: left;\">Int64</th><th title = \"Int64\" style = \"text-align: left;\">Int64</th><th title = \"Int64\" style = \"text-align: left;\">Int64</th><th title = \"Int64\" style = \"text-align: left;\">Int64</th><th title = \"Int64\" style = \"text-align: left;\">Int64</th></tr></thead><tbody><tr><td class = \"rowNumber\" style = \"font-weight: bold; text-align: right;\">1</td><td style = \"text-align: left;\">Potato Soup w/ scallion</td><td style = \"text-align: right;\">20</td><td style = \"text-align: right;\">11</td><td style = \"text-align: right;\">5</td><td style = \"text-align: right;\">3</td><td style = \"text-align: right;\">2</td><td style = \"text-align: right;\">2</td></tr><tr><td class = \"rowNumber\" style = \"font-weight: bold; text-align: right;\">2</td><td style = \"text-align: left;\">Potato Soup w/ ketchup</td><td style = \"text-align: right;\">21</td><td style = \"text-align: right;\">2</td><td style = \"text-align: right;\">15</td><td style = \"text-align: right;\">7</td><td style = \"text-align: right;\">6</td><td style = \"text-align: right;\">8</td></tr><tr><td class = \"rowNumber\" style = \"font-weight: bold; text-align: right;\">3</td><td style = \"text-align: left;\">Potato Soup w/ scallion</td><td style = \"text-align: right;\">22</td><td style = \"text-align: right;\">8</td><td style = \"text-align: right;\">7</td><td style = \"text-align: right;\">3</td><td style = \"text-align: right;\">3</td><td style = \"text-align: right;\">2</td></tr><tr><td class = \"rowNumber\" style = \"font-weight: bold; text-align: right;\">4</td><td style = \"text-align: left;\">Potato Soup w/ ketchup</td><td style = \"text-align: right;\">14</td><td style = \"text-align: right;\">2</td><td style = \"text-align: right;\">23</td><td style = \"text-align: right;\">6</td><td style = \"text-align: right;\">6</td><td style = \"text-align: right;\">13</td></tr><tr><td class = \"rowNumber\" style = \"font-weight: bold; text-align: right;\">5</td><td style = \"text-align: left;\">Potato Soup w/ scallion</td><td style = \"text-align: right;\">15</td><td style = \"text-align: right;\">9</td><td style = \"text-align: right;\">8</td><td style = \"text-align: right;\">9</td><td style = \"text-align: right;\">2</td><td style = \"text-align: right;\">5</td></tr><tr><td class = \"rowNumber\" style = \"font-weight: bold; text-align: right;\">6</td><td style = \"text-align: left;\">Charles&apos; Potato Soup</td><td style = \"text-align: right;\">18</td><td style = \"text-align: right;\">3</td><td style = \"text-align: right;\">18</td><td style = \"text-align: right;\">3</td><td style = \"text-align: right;\">2</td><td style = \"text-align: right;\">2</td></tr><tr><td class = \"rowNumber\" style = \"font-weight: bold; text-align: right;\">7</td><td style = \"text-align: left;\">French Fries w/ onion</td><td style = \"text-align: right;\">8</td><td style = \"text-align: right;\">18</td><td style = \"text-align: right;\">2</td><td style = \"text-align: right;\">2</td><td style = \"text-align: right;\">5</td><td style = \"text-align: right;\">6</td></tr><tr><td class = \"rowNumber\" style = \"font-weight: bold; text-align: right;\">8</td><td style = \"text-align: left;\">Sneaky Potato Soup</td><td style = \"text-align: right;\">23</td><td style = \"text-align: right;\">4</td><td style = \"text-align: right;\">10</td><td style = \"text-align: right;\">6</td><td style = \"text-align: right;\">10</td><td style = \"text-align: right;\">3</td></tr><tr><td class = \"rowNumber\" style = \"font-weight: bold; text-align: right;\">9</td><td style = \"text-align: left;\">Potato Bread w/ onion</td><td style = \"text-align: right;\">2</td><td style = \"text-align: right;\">19</td><td style = \"text-align: right;\">10</td><td style = \"text-align: right;\">10</td><td style = \"text-align: right;\">2</td><td style = \"text-align: right;\">6</td></tr><tr><td class = \"rowNumber\" style = \"font-weight: bold; text-align: right;\">10</td><td style = \"text-align: left;\">Angry Potato Soup w/ onion</td><td style = \"text-align: right;\">6</td><td style = \"text-align: right;\">16</td><td style = \"text-align: right;\">2</td><td style = \"text-align: right;\">8</td><td style = \"text-align: right;\">3</td><td style = \"text-align: right;\">7</td></tr><tr><td class = \"rowNumber\" style = \"font-weight: bold; text-align: right;\">11</td><td style = \"text-align: left;\">Charles&apos; Chips</td><td style = \"text-align: right;\">11</td><td style = \"text-align: right;\">2</td><td style = \"text-align: right;\">33</td><td style = \"text-align: right;\">3</td><td style = \"text-align: right;\">2</td><td style = \"text-align: right;\">2</td></tr><tr><td class = \"rowNumber\" style = \"font-weight: bold; text-align: right;\">12</td><td style = \"text-align: left;\">Enlightened Baked Potato w/ onion</td><td style = \"text-align: right;\">2</td><td style = \"text-align: right;\">23</td><td style = \"text-align: right;\">4</td><td style = \"text-align: right;\">8</td><td style = \"text-align: right;\">5</td><td style = \"text-align: right;\">2</td></tr><tr><td class = \"rowNumber\" style = \"font-weight: bold; text-align: right;\">13</td><td style = \"text-align: left;\">Charles&apos; Chips w/ scallion</td><td style = \"text-align: right;\">10</td><td style = \"text-align: right;\">8</td><td style = \"text-align: right;\">19</td><td style = \"text-align: right;\">8</td><td style = \"text-align: right;\">6</td><td style = \"text-align: right;\">2</td></tr><tr><td style = \"text-align: right;\">&vellip;</td><td style = \"text-align: right;\">&vellip;</td><td style = \"text-align: right;\">&vellip;</td><td style = \"text-align: right;\">&vellip;</td><td style = \"text-align: right;\">&vellip;</td><td style = \"text-align: right;\">&vellip;</td><td style = \"text-align: right;\">&vellip;</td><td style = \"text-align: right;\">&vellip;</td></tr><tr><td class = \"rowNumber\" style = \"font-weight: bold; text-align: right;\">72</td><td style = \"text-align: left;\">Baked Potato w/ onion</td><td style = \"text-align: right;\">5</td><td style = \"text-align: right;\">20</td><td style = \"text-align: right;\">4</td><td style = \"text-align: right;\">4</td><td style = \"text-align: right;\">4</td><td style = \"text-align: right;\">6</td></tr><tr><td class = \"rowNumber\" style = \"font-weight: bold; text-align: right;\">73</td><td style = \"text-align: left;\">Charles&apos; Chips</td><td style = \"text-align: right;\">8</td><td style = \"text-align: right;\">5</td><td style = \"text-align: right;\">30</td><td style = \"text-align: right;\">6</td><td style = \"text-align: right;\">12</td><td style = \"text-align: right;\">6</td></tr><tr><td class = \"rowNumber\" style = \"font-weight: bold; text-align: right;\">74</td><td style = \"text-align: left;\">Potato Strips w/ onion</td><td style = \"text-align: right;\">9</td><td style = \"text-align: right;\">21</td><td style = \"text-align: right;\">2</td><td style = \"text-align: right;\">4</td><td style = \"text-align: right;\">2</td><td style = \"text-align: right;\">3</td></tr><tr><td class = \"rowNumber\" style = \"font-weight: bold; text-align: right;\">75</td><td style = \"text-align: left;\">Potato Soup w/ scallion</td><td style = \"text-align: right;\">24</td><td style = \"text-align: right;\">2</td><td style = \"text-align: right;\">14</td><td style = \"text-align: right;\">3</td><td style = \"text-align: right;\">3</td><td style = \"text-align: right;\">2</td></tr><tr><td class = \"rowNumber\" style = \"font-weight: bold; text-align: right;\">76</td><td style = \"text-align: left;\">Helen&apos;s Raw Potato</td><td style = \"text-align: right;\">13</td><td style = \"text-align: right;\">4</td><td style = \"text-align: right;\">20</td><td style = \"text-align: right;\">11</td><td style = \"text-align: right;\">2</td><td style = \"text-align: right;\">9</td></tr><tr><td class = \"rowNumber\" style = \"font-weight: bold; text-align: right;\">77</td><td style = \"text-align: left;\">Potato Strips w/ scallion</td><td style = \"text-align: right;\">13</td><td style = \"text-align: right;\">17</td><td style = \"text-align: right;\">2</td><td style = \"text-align: right;\">4</td><td style = \"text-align: right;\">2</td><td style = \"text-align: right;\">3</td></tr><tr><td class = \"rowNumber\" style = \"font-weight: bold; text-align: right;\">78</td><td style = \"text-align: left;\">Potato Bread w/ onion</td><td style = \"text-align: right;\">2</td><td style = \"text-align: right;\">18</td><td style = \"text-align: right;\">2</td><td style = \"text-align: right;\">10</td><td style = \"text-align: right;\">2</td><td style = \"text-align: right;\">8</td></tr><tr><td class = \"rowNumber\" style = \"font-weight: bold; text-align: right;\">79</td><td style = \"text-align: left;\">Mashed Potato w/ scallion</td><td style = \"text-align: right;\">12</td><td style = \"text-align: right;\">11</td><td style = \"text-align: right;\">11</td><td style = \"text-align: right;\">6</td><td style = \"text-align: right;\">4</td><td style = \"text-align: right;\">2</td></tr><tr><td class = \"rowNumber\" style = \"font-weight: bold; text-align: right;\">80</td><td style = \"text-align: left;\">French Fries w/ onion</td><td style = \"text-align: right;\">4</td><td style = \"text-align: right;\">24</td><td style = \"text-align: right;\">4</td><td style = \"text-align: right;\">2</td><td style = \"text-align: right;\">6</td><td style = \"text-align: right;\">4</td></tr><tr><td class = \"rowNumber\" style = \"font-weight: bold; text-align: right;\">81</td><td style = \"text-align: left;\">Potato Soup w/ scallion</td><td style = \"text-align: right;\">19</td><td style = \"text-align: right;\">8</td><td style = \"text-align: right;\">9</td><td style = \"text-align: right;\">3</td><td style = \"text-align: right;\">2</td><td style = \"text-align: right;\">4</td></tr><tr><td class = \"rowNumber\" style = \"font-weight: bold; text-align: right;\">82</td><td style = \"text-align: left;\">Devious Mashed Potato</td><td style = \"text-align: right;\">19</td><td style = \"text-align: right;\">12</td><td style = \"text-align: right;\">2</td><td style = \"text-align: right;\">5</td><td style = \"text-align: right;\">4</td><td style = \"text-align: right;\">2</td></tr><tr><td class = \"rowNumber\" style = \"font-weight: bold; text-align: right;\">83</td><td style = \"text-align: left;\">Enlightened French Fries</td><td style = \"text-align: right;\">3</td><td style = \"text-align: right;\">19</td><td style = \"text-align: right;\">19</td><td style = \"text-align: right;\">4</td><td style = \"text-align: right;\">8</td><td style = \"text-align: right;\">3</td></tr></tbody></table></div>"
      ],
      "text/latex": [
       "\\begin{tabular}{r|ccccccc}\n",
       "\t& name & h & f & l & p & r & s\\\\\n",
       "\t\\hline\n",
       "\t& String & Int64 & Int64 & Int64 & Int64 & Int64 & Int64\\\\\n",
       "\t\\hline\n",
       "\t1 & Potato Soup w/ scallion & 20 & 11 & 5 & 3 & 2 & 2 \\\\\n",
       "\t2 & Potato Soup w/ ketchup & 21 & 2 & 15 & 7 & 6 & 8 \\\\\n",
       "\t3 & Potato Soup w/ scallion & 22 & 8 & 7 & 3 & 3 & 2 \\\\\n",
       "\t4 & Potato Soup w/ ketchup & 14 & 2 & 23 & 6 & 6 & 13 \\\\\n",
       "\t5 & Potato Soup w/ scallion & 15 & 9 & 8 & 9 & 2 & 5 \\\\\n",
       "\t6 & Charles' Potato Soup & 18 & 3 & 18 & 3 & 2 & 2 \\\\\n",
       "\t7 & French Fries w/ onion & 8 & 18 & 2 & 2 & 5 & 6 \\\\\n",
       "\t8 & Sneaky Potato Soup & 23 & 4 & 10 & 6 & 10 & 3 \\\\\n",
       "\t9 & Potato Bread w/ onion & 2 & 19 & 10 & 10 & 2 & 6 \\\\\n",
       "\t10 & Angry Potato Soup w/ onion & 6 & 16 & 2 & 8 & 3 & 7 \\\\\n",
       "\t11 & Charles' Chips & 11 & 2 & 33 & 3 & 2 & 2 \\\\\n",
       "\t12 & Enlightened Baked Potato w/ onion & 2 & 23 & 4 & 8 & 5 & 2 \\\\\n",
       "\t13 & Charles' Chips w/ scallion & 10 & 8 & 19 & 8 & 6 & 2 \\\\\n",
       "\t14 & Potato Soup w/ scallion & 17 & 10 & 5 & 5 & 5 & 4 \\\\\n",
       "\t15 & Friendly Tater Tots & 5 & 8 & 24 & 3 & 13 & 14 \\\\\n",
       "\t16 & Mashed Potato w/ scallion & 18 & 10 & 6 & 2 & 6 & 3 \\\\\n",
       "\t17 & Potato Strips w/ onion & 10 & 19 & 2 & 3 & 4 & 3 \\\\\n",
       "\t18 & Charles' Chips & 13 & 2 & 27 & 6 & 2 & 3 \\\\\n",
       "\t19 & Friendly Raw Potato & 3 & 14 & 16 & 3 & 11 & 8 \\\\\n",
       "\t20 & Potato Soup w/ ketchup & 12 & 5 & 19 & 8 & 6 & 8 \\\\\n",
       "\t21 & Potato Soup w/ onion & 16 & 12 & 3 & 6 & 5 & 2 \\\\\n",
       "\t22 & French Fries w/ onion & 4 & 17 & 2 & 2 & 8 & 9 \\\\\n",
       "\t23 & Baked Potato w/ scallion & 9 & 14 & 7 & 5 & 8 & 2 \\\\\n",
       "\t24 & Charles' French Fries & 6 & 10 & 20 & 4 & 10 & 8 \\\\\n",
       "\t25 & Potato Strips w/ onion & 11 & 22 & 2 & 2 & 2 & 2 \\\\\n",
       "\t26 & Mashed Potato w/ ketchup & 5 & 8 & 28 & 10 & 14 & 3 \\\\\n",
       "\t27 & Crazy Tater Tots & 7 & 6 & 28 & 16 & 2 & 9 \\\\\n",
       "\t28 & Baked Potato w/ onion & 3 & 23 & 3 & 7 & 2 & 5 \\\\\n",
       "\t29 & Helen's Home Fries & 12 & 5 & 20 & 7 & 10 & 3 \\\\\n",
       "\t30 & Sneaky Chips & 23 & 3 & 12 & 3 & 9 & 6 \\\\\n",
       "\t$\\dots$ & $\\dots$ & $\\dots$ & $\\dots$ & $\\dots$ & $\\dots$ & $\\dots$ & $\\dots$ \\\\\n",
       "\\end{tabular}\n"
      ],
      "text/plain": [
       "\u001b[1m83×7 DataFrame\u001b[0m\n",
       "\u001b[1m Row \u001b[0m│\u001b[1m name                              \u001b[0m\u001b[1m h     \u001b[0m\u001b[1m f     \u001b[0m\u001b[1m l     \u001b[0m\u001b[1m p     \u001b[0m\u001b[1m r     \u001b[0m\u001b[1m s\u001b[0m ⋯\n",
       "     │\u001b[90m String                            \u001b[0m\u001b[90m Int64 \u001b[0m\u001b[90m Int64 \u001b[0m\u001b[90m Int64 \u001b[0m\u001b[90m Int64 \u001b[0m\u001b[90m Int64 \u001b[0m\u001b[90m I\u001b[0m ⋯\n",
       "─────┼──────────────────────────────────────────────────────────────────────────\n",
       "   1 │ Potato Soup w/ scallion               20     11      5      3      2    ⋯\n",
       "   2 │ Potato Soup w/ ketchup                21      2     15      7      6\n",
       "   3 │ Potato Soup w/ scallion               22      8      7      3      3\n",
       "   4 │ Potato Soup w/ ketchup                14      2     23      6      6\n",
       "   5 │ Potato Soup w/ scallion               15      9      8      9      2    ⋯\n",
       "   6 │ Charles' Potato Soup                  18      3     18      3      2\n",
       "   7 │ French Fries w/ onion                  8     18      2      2      5\n",
       "   8 │ Sneaky Potato Soup                    23      4     10      6     10\n",
       "   9 │ Potato Bread w/ onion                  2     19     10     10      2    ⋯\n",
       "  10 │ Angry Potato Soup w/ onion             6     16      2      8      3\n",
       "  11 │ Charles' Chips                        11      2     33      3      2\n",
       "  ⋮  │                 ⋮                    ⋮      ⋮      ⋮      ⋮      ⋮      ⋱\n",
       "  74 │ Potato Strips w/ onion                 9     21      2      4      2\n",
       "  75 │ Potato Soup w/ scallion               24      2     14      3      3    ⋯\n",
       "  76 │ Helen's Raw Potato                    13      4     20     11      2\n",
       "  77 │ Potato Strips w/ scallion             13     17      2      4      2\n",
       "  78 │ Potato Bread w/ onion                  2     18      2     10      2\n",
       "  79 │ Mashed Potato w/ scallion             12     11     11      6      4    ⋯\n",
       "  80 │ French Fries w/ onion                  4     24      4      2      6\n",
       "  81 │ Potato Soup w/ scallion               19      8      9      3      2\n",
       "  82 │ Devious Mashed Potato                 19     12      2      5      4\n",
       "  83 │ Enlightened French Fries               3     19     19      4      8    ⋯\n",
       "\u001b[36m                                                    1 column and 62 rows omitted\u001b[0m"
      ]
     },
     "execution_count": 224,
     "metadata": {},
     "output_type": "execute_result"
    }
   ],
   "source": [
    "spuds_to_df(nash_env)"
   ]
  },
  {
   "cell_type": "code",
   "execution_count": 225,
   "id": "066fbf4c",
   "metadata": {},
   "outputs": [
    {
     "name": "stdout",
     "output_type": "stream",
     "text": [
      "Spud(\"\", 7, 19, 2, 6, 5, 2)\n"
     ]
    },
    {
     "data": {
      "text/plain": [
       "0.21381253559545577"
      ]
     },
     "execution_count": 225,
     "metadata": {},
     "output_type": "execute_result"
    }
   ],
   "source": [
    "counts = ffp(nash_env, 100000)\n",
    "ff = pick_best_library2(nash_env, counts./sum(counts))\n",
    "println(ff)\n",
    "eval_battle_list2(ff, nash_env, counts./sum(counts))"
   ]
  },
  {
   "cell_type": "code",
   "execution_count": 226,
   "id": "ab4c51a4",
   "metadata": {},
   "outputs": [
    {
     "data": {
      "text/plain": [
       "\"spuds_nash_stage12.csv\""
      ]
     },
     "execution_count": 226,
     "metadata": {},
     "output_type": "execute_result"
    }
   ],
   "source": [
    "CSV.write(\"spuds_nash_stage12.csv\", spuds_to_df(nash_env))"
   ]
  },
  {
   "cell_type": "code",
   "execution_count": 227,
   "id": "d2bcab51",
   "metadata": {},
   "outputs": [
    {
     "data": {
      "text/plain": [
       "60-element Vector{Int64}:\n",
       " 1577\n",
       " 1652\n",
       " 3248\n",
       " 2230\n",
       " 2954\n",
       "  607\n",
       "  173\n",
       " 2586\n",
       " 1500\n",
       " 1130\n",
       "  221\n",
       "  924\n",
       " 2384\n",
       "    ⋮\n",
       "  630\n",
       " 3144\n",
       " 1642\n",
       " 4689\n",
       " 3820\n",
       " 1435\n",
       " 2070\n",
       " 1906\n",
       "  557\n",
       " 3909\n",
       " 5086\n",
       " 2781"
      ]
     },
     "execution_count": 227,
     "metadata": {},
     "output_type": "execute_result"
    }
   ],
   "source": [
    "#counts = ffp(nash_env, 10000)\n",
    "nash_env = nash_env[counts .> 10]\n",
    "counts = ffp(nash_env, 100000)"
   ]
  },
  {
   "cell_type": "code",
   "execution_count": 228,
   "id": "b78a53d8",
   "metadata": {},
   "outputs": [
    {
     "name": "stdout",
     "output_type": "stream",
     "text": [
      "Spud(\"\", 7, 19, 2, 6, 5, 2)\n"
     ]
    },
    {
     "data": {
      "text/plain": [
       "0.2138117129722166"
      ]
     },
     "execution_count": 228,
     "metadata": {},
     "output_type": "execute_result"
    }
   ],
   "source": [
    "#counts = ffp(nash_env, 100000)\n",
    "ff = pick_best_library2(nash_env, counts./sum(counts))\n",
    "println(ff)\n",
    "eval_battle_list2(ff, nash_env, counts./sum(counts))"
   ]
  },
  {
   "cell_type": "code",
   "execution_count": 229,
   "id": "a58080d4",
   "metadata": {},
   "outputs": [
    {
     "data": {
      "text/plain": [
       "\"spuds_nash_stage12.csv\""
      ]
     },
     "execution_count": 229,
     "metadata": {},
     "output_type": "execute_result"
    }
   ],
   "source": [
    "CSV.write(\"spuds_nash_stage12.csv\", spuds_to_df(nash_env))"
   ]
  },
  {
   "cell_type": "markdown",
   "id": "76650c8f",
   "metadata": {},
   "source": [
    "### refine weights"
   ]
  },
  {
   "cell_type": "code",
   "execution_count": 149,
   "id": "523d545c",
   "metadata": {},
   "outputs": [
    {
     "data": {
      "text/plain": [
       "19-element Vector{Float64}:\n",
       " 0.03144026349935123\n",
       " 0.051801577003692985\n",
       " 0.03992414412616029\n",
       " 0.040822437368998904\n",
       " 0.03992414412616029\n",
       " 0.07156402834614232\n",
       " 0.00948198422996307\n",
       " 0.011478191436271086\n",
       " 0.04820840403233856\n",
       " 0.10959177562631\n",
       " 0.04301826529593772\n",
       " 0.05928735402734804\n",
       " 0.05589380177662441\n",
       " 0.006687294141131849\n",
       " 0.005090328376085438\n",
       " 0.03902585088332169\n",
       " 0.09551851482183851\n",
       " 0.051801577003692985\n",
       " 0.1894400638786306"
      ]
     },
     "execution_count": 149,
     "metadata": {},
     "output_type": "execute_result"
    }
   ],
   "source": [
    "eps = 0.01/length(library)\n",
    "nits = 40000\n",
    "sub_iter = 2000\n",
    "w = counts./sum(counts)"
   ]
  },
  {
   "cell_type": "code",
   "execution_count": 150,
   "id": "0836d787",
   "metadata": {},
   "outputs": [],
   "source": [
    "n_nash = length(nash_env)\n",
    "i_lose = Array{Int}(undef, (n_nash, n_nash))\n",
    "n_lose = Array{Int}(undef, n_nash)\n",
    "for i in 1:n_nash\n",
    "    n_lose[i] = 0\n",
    "    ff = nash_env[i]\n",
    "    for j in 1:n_nash\n",
    "        if eval_battle(ff, nash_env[j]) ==-1\n",
    "            n_lose[i] += 1\n",
    "            i_lose[i, n_lose[i]] = j\n",
    "        end\n",
    "    end\n",
    "end"
   ]
  },
  {
   "cell_type": "code",
   "execution_count": 152,
   "id": "08c7f25b",
   "metadata": {},
   "outputs": [],
   "source": [
    "scores = [0.0 for i in 1:n_nash]\n",
    "for i in 1:n_nash\n",
    "    for j in 1:n_lose[i]\n",
    "        i_w = i_lose[i, j]\n",
    "        scores[i_w]+= w[i]\n",
    "    end\n",
    "end"
   ]
  },
  {
   "cell_type": "code",
   "execution_count": 153,
   "id": "c0b4dbde",
   "metadata": {},
   "outputs": [
    {
     "name": "stdout",
     "output_type": "stream",
     "text": [
      "2.4630541871921184e-5\n",
      "\n",
      "\n",
      "Spud(\"Hungry French Fries\", 2, 16, 8, 2, 11, 9) w:0.04820602935108973 s:0.45715819122033735\n",
      "Spud(\"Potato Strips w/ onion\", 9, 21, 2, 4, 2, 3) w:0.18955135521145414 s:0.45700869861606747\n",
      "1.2315270935960592e-5\n",
      "\n",
      "\n",
      "Spud(\"Aquatic Mashed Potato\", 14, 6, 13, 4, 11, 7) w:0.10971268975376745 s:0.4570093923044257\n",
      "Spud(\"Crazy Chips\", 6, 9, 26, 8, 3, 10) w:0.05587069246628821 s:0.45697416637016347\n",
      "Spud(\"Friendly Potato Bread\", 4, 12, 19, 4, 9, 10) w:0.05963552991975216 s:0.4569652237420019\n",
      "6.157635467980296e-6\n",
      "\n",
      "\n",
      "Spud(\"Potato Soup w/ ketchup\", 21, 2, 15, 7, 6, 8) w:0.04319174825362203 s:0.4569657070545698\n",
      "3.078817733990148e-6\n",
      "\n",
      "\n",
      "Spud(\"Crazy Potato Soup\", 8, 4, 24, 18, 4, 22) w:0.05181948311653167 s:0.45696838203738316\n",
      "Spud(\"Hungry French Fries\", 2, 16, 8, 2, 11, 9) w:0.048096443986402025 s:0.4569578797912595\n",
      "1.539408866995074e-6\n",
      "\n",
      "\n",
      "Spud(\"Aquatic Mashed Potato\", 14, 6, 13, 4, 11, 7) w:0.10973879429331644 s:0.45695842146670224\n",
      "Spud(\"Potato Soup w/ onion\", 19, 13, 3, 3, 2, 2) w:0.039752705742648026 s:0.45695526242690176\n",
      "7.69704433497537e-7\n",
      "\n",
      "\n",
      "Spud(\"Crazy Potato Soup\", 8, 4, 24, 18, 4, 22) w:0.05182273675851516 s:0.4569554837555846\n",
      "Spud(\"Speedy Raw Potato\", 15, 7, 8, 2, 7, 16) w:0.040891066760881827 s:0.4569541799482505\n",
      "Spud(\"Crazy Potato Soup\", 8, 4, 24, 18, 4, 22) w:0.05182251274071895 s:0.45695408936072623\n",
      "3.848522167487685e-7\n",
      "\n",
      "\n",
      "Spud(\"Potato Strips w/ onion\", 9, 21, 2, 4, 2, 3) w:0.1895851864017177 s:0.4569544843709924\n",
      "Spud(\"Potato Strips w/ onion\", 9, 21, 2, 4, 2, 3) w:0.18958588999624454 s:0.4569533657089728\n",
      "1.9242610837438425e-7\n",
      "\n",
      "\n",
      "Spud(\"Crazy Potato Soup\", 8, 4, 24, 18, 4, 22) w:0.05182305685582546 s:0.45695346336871706\n",
      "Spud(\"Potato Soup w/ ketchup\", 21, 2, 15, 7, 6, 8) w:0.04320100293974449 s:0.4569531825019298\n",
      "9.621305418719212e-8\n",
      "\n",
      "\n",
      "Spud(\"Potato Strips w/ onion\", 9, 21, 2, 4, 2, 3) w:0.18958595019431917 s:0.45695324521823827\n",
      "Spud(\"Helen's Mashed Potato\", 14, 3, 22, 10, 3, 3) w:0.03892113878880884 s:0.45695299618313956\n",
      "4.810652709359606e-8\n",
      "\n",
      "\n",
      "Spud(\"Potato Soup w/ scallion\", 20, 11, 5, 3, 2, 2) w:0.07165272041244511 s:0.4569530807303942\n"
     ]
    }
   ],
   "source": [
    "previous_score = maximum(scores)\n",
    "for iter in 1:nits\n",
    "    ind_winners = findall(scores .== maximum(scores))\n",
    "    i = rand(ind_winners)\n",
    "    w[i] += eps\n",
    "    for j in 1:n_lose[i]\n",
    "        i_w = i_lose[i, j]\n",
    "        scores[i_w]+= eps\n",
    "    end\n",
    "    if mod1(iter, sub_iter) == 1\n",
    "        scores = scores./sum(w)\n",
    "        w = w./sum(w)\n",
    "        if maximum(scores) > previous_score\n",
    "            eps = eps/2\n",
    "            println(eps)\n",
    "            println()\n",
    "            println()\n",
    "        end\n",
    "        previous_score = maximum(scores)\n",
    "        mxv, mxi = findmax(scores)\n",
    "        print(nash_env[mxi])\n",
    "        print(\" w:\")\n",
    "        print(w[mxi])\n",
    "        print(\" s:\")\n",
    "        print(scores[mxi])\n",
    "        println()\n",
    "    end\n",
    "end\n"
   ]
  },
  {
   "cell_type": "code",
   "execution_count": 154,
   "id": "5cd18cd9",
   "metadata": {},
   "outputs": [
    {
     "data": {
      "text/plain": [
       "0.10350172839487909"
      ]
     },
     "execution_count": 154,
     "metadata": {},
     "output_type": "execute_result"
    }
   ],
   "source": [
    "maximum([eval_battle_list2(ff, nash_env, w) for ff in nash_env])"
   ]
  },
  {
   "cell_type": "code",
   "execution_count": 148,
   "id": "164743ab",
   "metadata": {},
   "outputs": [
    {
     "name": "stdout",
     "output_type": "stream",
     "text": [
      "Spud(\"\", 17, 9, 9, 6, 2, 2)\n"
     ]
    },
    {
     "data": {
      "text/plain": [
       "0.5977873078679817"
      ]
     },
     "execution_count": 148,
     "metadata": {},
     "output_type": "execute_result"
    }
   ],
   "source": [
    "ff = pick_best_library2(nash_env, w)\n",
    "println(ff)\n",
    "eval_battle_list2(ff, nash_env, w)"
   ]
  },
  {
   "cell_type": "markdown",
   "id": "58222ce6",
   "metadata": {},
   "source": [
    "## Old code"
   ]
  },
  {
   "cell_type": "code",
   "execution_count": 15,
   "id": "d3e07cf7",
   "metadata": {},
   "outputs": [
    {
     "data": {
      "text/plain": [
       "nashprox (generic function with 1 method)"
      ]
     },
     "execution_count": 15,
     "metadata": {},
     "output_type": "execute_result"
    }
   ],
   "source": [
    "function nashprox2(size, start_size, ns)\n",
    "    nash_env = Array{Spud}(undef, size)\n",
    "    nash_env[1:start_size] = random_team(() -> rand(library), start_size)\n",
    "    for j in (start_size+1):size\n",
    "        if j < ns\n",
    "            ff = pick_ok_counter(nash_env[1:(j-1)])\n",
    "            nash_env[j] = ff\n",
    "        else\n",
    "            ff = pick_ok_counter(randsubseq(nash_env[1:(j-1)], ns/j))\n",
    "            nash_env[j] = ff                \n",
    "        end\n",
    "    end\n",
    "    return nash_env\n",
    "end\n",
    "\n",
    "function nashprox(size, start_size, ns)\n",
    "    nash_env = Array{Spud}(undef, size)\n",
    "    nash_env[1:start_size] = random_team(() -> rand(library), start_size)\n",
    "    for j in (start_size+1):size\n",
    "        if j < ns\n",
    "            ff = pick_best_library(nash_env[1:(j-1)])\n",
    "            nash_env[j] = ff\n",
    "        else\n",
    "            ff = pick_best_library(randsubseq(nash_env[1:(j-1)], ns/j))\n",
    "            nash_env[j] = ff                \n",
    "        end\n",
    "    end\n",
    "    return nash_env\n",
    "end"
   ]
  },
  {
   "cell_type": "code",
   "execution_count": null,
   "id": "e08da8ee",
   "metadata": {},
   "outputs": [],
   "source": []
  },
  {
   "cell_type": "code",
   "execution_count": 150,
   "id": "b778cb19",
   "metadata": {},
   "outputs": [
    {
     "name": "stdout",
     "output_type": "stream",
     "text": [
      "201.611800 seconds (15.12 k allocations: 197.526 MiB, 0.01% gc time)\n"
     ]
    },
    {
     "data": {
      "text/plain": [
       "1540"
      ]
     },
     "execution_count": 150,
     "metadata": {},
     "output_type": "execute_result"
    }
   ],
   "source": [
    "@time nash_env = nashprox(4000, 10, 100)\n",
    "nash_env = unique(nash_env)\n",
    "#inds_nash = [id_no[ff] for ff in nash_env];\n",
    "#length(inds_nash)\n",
    "n_nash = length(nash_env)"
   ]
  },
  {
   "cell_type": "code",
   "execution_count": 151,
   "id": "84a8035a",
   "metadata": {
    "scrolled": false
   },
   "outputs": [],
   "source": [
    "# Verify 3-explotability\n",
    "for i in 1:1000\n",
    "    #inds = sort([rand(inds_nash) for i in 1:3])\n",
    "    #rt = library[inds]\n",
    "    rt = random_team(() -> rand(nash_env), 3)\n",
    "    ff = pick_best_library(rt)\n",
    "    ev = eval_battle_list(ff, rt)\n",
    "    if ev < 3\n",
    "        println(rt)\n",
    "    end\n",
    "end\n"
   ]
  },
  {
   "cell_type": "code",
   "execution_count": 152,
   "id": "9f5eced7",
   "metadata": {
    "scrolled": false
   },
   "outputs": [
    {
     "name": "stdout",
     "output_type": "stream",
     "text": [
      "Spud[Spud(\"\", 6, 3, 9, 5, 3, 1), Spud(\"\", 7, 9, 1, 3, 1, 2), Spud(\"\", 15, 5, 2, 1, 1, 2), Spud(\"\", 12, 1, 6, 1, 8, 6)]\n",
      "2\n",
      "Spud[Spud(\"\", 11, 6, 2, 3, 1, 1), Spud(\"\", 2, 10, 3, 4, 3, 2), Spud(\"\", 10, 3, 5, 1, 4, 4), Spud(\"\", 5, 1, 14, 5, 4, 3)]\n",
      "2\n"
     ]
    }
   ],
   "source": [
    "# Verify 4-explotability\n",
    "for i in 1:1000\n",
    "    #inds = sort([rand(inds_nash) for i in 1:3])\n",
    "    #rt = library[inds]\n",
    "    rt = random_team(() -> rand(nash_env), 4)\n",
    "    ff = pick_best_library(rt)\n",
    "    ev = eval_battle_list(ff, rt)\n",
    "    if ev < 4\n",
    "        println(rt)\n",
    "        println(ev)\n",
    "    end\n",
    "end\n"
   ]
  },
  {
   "cell_type": "code",
   "execution_count": 103,
   "id": "e417b44a",
   "metadata": {},
   "outputs": [],
   "source": [
    "#inds = sort([rand(1:n_spuds) for i in 1:5])\n",
    "#rt = library[inds]"
   ]
  },
  {
   "cell_type": "code",
   "execution_count": 104,
   "id": "a49d058e",
   "metadata": {},
   "outputs": [],
   "source": [
    "# rt = library[[1403,1902,2283,2397]]\n",
    "# rt"
   ]
  },
  {
   "cell_type": "code",
   "execution_count": 105,
   "id": "b8cbb659",
   "metadata": {},
   "outputs": [],
   "source": [
    "# ff = pick_best(library, rt)\n",
    "# ind = [i for i in 1:n_spuds if library[i] == ff][1]\n",
    "# print(ff)\n",
    "# print(\" \")\n",
    "# eval_battle_list(ff, rt)"
   ]
  },
  {
   "cell_type": "markdown",
   "id": "68e3cf22",
   "metadata": {},
   "source": [
    "## Fictitious Play to compute Nash distribution"
   ]
  },
  {
   "cell_type": "code",
   "execution_count": 135,
   "id": "ada1403f",
   "metadata": {},
   "outputs": [],
   "source": [
    "@time nash_env = nashprox(4000, 10, 100)\n",
    "nash_env = unique(nash_env)\n",
    "#inds_nash = [id_no[ff] for ff in nash_env];\n",
    "#length(inds_nash)\n",
    "n_nash = length(nash_env)"
   ]
  },
  {
   "cell_type": "code",
   "execution_count": null,
   "id": "0d3e042b",
   "metadata": {},
   "outputs": [],
   "source": []
  },
  {
   "cell_type": "code",
   "execution_count": 153,
   "id": "78baa903",
   "metadata": {},
   "outputs": [],
   "source": [
    "i_lose = Array{Int}(undef, (n_nash, n_nash))\n",
    "n_lose = Array{Int}(undef, n_nash)\n",
    "for i in 1:n_nash\n",
    "    n_lose[i] = 0\n",
    "    ff = nash_env[i]\n",
    "    for j in 1:n_nash\n",
    "        if eval_battle(ff, nash_env[j]) ==-1\n",
    "            n_lose[i] += 1\n",
    "            i_lose[i, n_lose[i]] = j\n",
    "        end\n",
    "    end\n",
    "end"
   ]
  },
  {
   "cell_type": "code",
   "execution_count": 154,
   "id": "63d2b34e",
   "metadata": {},
   "outputs": [],
   "source": [
    "# initialize FP with 1 of each\n",
    "counts = [0 for i in 1:n_nash]\n",
    "wins = [0 for i in 1:n_nash]\n",
    "for i in 1:n_nash\n",
    "    counts[i] += 1\n",
    "    for j in 1:n_lose[i]\n",
    "        i_w = i_lose[i, j]\n",
    "        wins[i_w]+= 1\n",
    "    end\n",
    "end"
   ]
  },
  {
   "cell_type": "code",
   "execution_count": 155,
   "id": "b9ee5863",
   "metadata": {
    "scrolled": false
   },
   "outputs": [
    {
     "name": "stdout",
     "output_type": "stream",
     "text": [
      "Spud(\"\", 9, 10, 1, 1, 1, 1) n:2 w:1035\n",
      "Spud(\"\", 13, 6, 2, 1, 1, 1) n:235 w:10618\n",
      "Spud(\"\", 9, 7, 4, 1, 1, 1) n:90 w:20654\n",
      "Spud(\"\", 15, 1, 6, 3, 1, 2) n:565 w:30681\n",
      "Spud(\"\", 1, 7, 1, 1, 6, 7) n:266 w:40725\n",
      "Spud(\"\", 5, 11, 1, 2, 2, 2) n:356 w:50746\n",
      "Spud(\"\", 2, 9, 2, 5, 4, 1) n:272 w:60757\n",
      "Spud(\"\", 1, 7, 1, 8, 1, 5) n:632 w:70831\n",
      "Spud(\"\", 2, 14, 1, 3, 1, 3) n:596 w:80868\n",
      "Spud(\"\", 3, 6, 10, 5, 1, 3) n:1513 w:90906\n",
      "Spud(\"\", 5, 4, 9, 2, 5, 2) n:288 w:100925\n",
      "Spud(\"\", 6, 11, 1, 3, 1, 1) n:1317 w:110944\n",
      "Spud(\"\", 5, 4, 8, 6, 3, 1) n:318 w:120973\n",
      "Spud(\"\", 6, 13, 2, 1, 1, 1) n:3551 w:131027\n",
      "Spud(\"\", 7, 10, 1, 1, 2, 2) n:838 w:141075\n",
      "Spud(\"\", 10, 1, 8, 3, 2, 5) n:750 w:151124\n",
      "Spud(\"\", 2, 4, 14, 8, 1, 4) n:1200 w:161191\n",
      "Spud(\"\", 4, 2, 14, 4, 3, 5) n:1234 w:171225\n",
      "Spud(\"\", 9, 1, 10, 1, 1, 2) n:7296 w:181302\n",
      "Spud(\"\", 1, 13, 4, 4, 1, 3) n:1101 w:191329\n",
      "Spud(\"\", 9, 3, 5, 1, 5, 5) n:1149 w:201353\n",
      "Spud(\"\", 13, 5, 2, 1, 3, 2) n:1581 w:211379\n",
      "Spud(\"\", 13, 5, 2, 3, 1, 2) n:3510 w:221392\n",
      "Spud(\"\", 12, 1, 7, 3, 1, 4) n:979 w:231451\n",
      "Spud(\"\", 8, 6, 3, 1, 3, 3) n:3816 w:241457\n",
      "Spud(\"\", 7, 1, 12, 1, 2, 3) n:1788 w:251493\n",
      "Spud(\"\", 7, 1, 12, 3, 1, 2) n:2535 w:261522\n",
      "Spud(\"\", 13, 1, 7, 2, 1, 2) n:7866 w:271584\n",
      "Spud(\"\", 2, 12, 1, 5, 2, 1) n:1131 w:281630\n",
      "Spud(\"\", 7, 10, 1, 2, 1, 2) n:2272 w:291661\n",
      "Spud(\"\", 5, 14, 1, 1, 1, 2) n:1517 w:301695\n",
      "Spud(\"\", 8, 10, 1, 2, 1, 1) n:4172 w:311700\n",
      "Spud(\"\", 5, 8, 1, 2, 4, 3) n:1684 w:321728\n",
      "Spud(\"\", 6, 1, 12, 6, 3, 3) n:171 w:331792\n",
      "Spud(\"\", 4, 6, 8, 4, 3, 1) n:3150 w:341822\n",
      "Spud(\"\", 5, 1, 14, 4, 6, 2) n:3932 w:351846\n",
      "Spud(\"\", 3, 3, 13, 6, 6, 1) n:901 w:361887\n",
      "Spud(\"\", 10, 8, 2, 1, 1, 1) n:4343 w:371915\n",
      "Spud(\"\", 15, 1, 6, 3, 1, 2) n:6964 w:381947\n",
      "Spud(\"\", 1, 9, 3, 1, 5, 5) n:624 w:391996\n",
      "Spud(\"\", 15, 1, 6, 2, 2, 2) n:7418 w:402030\n",
      "Spud(\"\", 9, 1, 10, 1, 1, 2) n:16585 w:412063\n",
      "Spud(\"\", 5, 11, 1, 1, 3, 2) n:7679 w:422085\n",
      "Spud(\"\", 10, 1, 9, 2, 1, 1) n:15671 w:432109\n",
      "Spud(\"\", 10, 8, 2, 1, 1, 1) n:5171 w:442154\n",
      "Spud(\"\", 9, 3, 5, 1, 5, 5) n:2596 w:452189\n",
      "Spud(\"\", 13, 1, 7, 1, 2, 2) n:1563 w:462212\n",
      "Spud(\"\", 2, 5, 12, 6, 1, 5) n:4271 w:472239\n",
      "Spud(\"\", 4, 2, 14, 7, 2, 3) n:2179 w:482259\n",
      "Spud(\"\", 9, 1, 10, 1, 1, 2) n:19817 w:492286\n",
      "0.014453318710425775\n"
     ]
    },
    {
     "data": {
      "text/plain": [
       "1010287"
      ]
     },
     "execution_count": 155,
     "metadata": {},
     "output_type": "execute_result"
    }
   ],
   "source": [
    "nits = 500000\n",
    "for iter in 1:nits\n",
    "    ind_winners = findall(wins .== maximum(wins))\n",
    "    for i in ind_winners\n",
    "        counts[i] += 1\n",
    "        for j in 1:n_lose[i]\n",
    "            i_w = i_lose[i, j]\n",
    "            wins[i_w]+= 1\n",
    "        end\n",
    "    end\n",
    "    if mod1(iter, 10000) == 1\n",
    "        mxv, mxi = findmax(wins)\n",
    "        print(nash_env[mxi])\n",
    "        print(\" n:\")\n",
    "        print(counts[mxi])\n",
    "        print(\" w:\")\n",
    "        print(wins[mxi])\n",
    "        println()\n",
    "    end\n",
    "end\n",
    "\n",
    "w = counts./sum(counts)\n",
    "println(maximum([eval_battle_list2(ff, nash_env, w) for ff in nash_env]))\n",
    "sum(counts)"
   ]
  },
  {
   "cell_type": "code",
   "execution_count": 156,
   "id": "a74a6b9d",
   "metadata": {},
   "outputs": [
    {
     "name": "stdout",
     "output_type": "stream",
     "text": [
      "Spud(\"\", 16, 1, 5, 5, 5, 1)\n"
     ]
    },
    {
     "data": {
      "text/plain": [
       "0.03152866462698188"
      ]
     },
     "execution_count": 156,
     "metadata": {},
     "output_type": "execute_result"
    }
   ],
   "source": [
    "ff = pick_best_library2(nash_env, w)\n",
    "println(ff)\n",
    "eval_battle_list2(ff, nash_env, w)"
   ]
  },
  {
   "cell_type": "code",
   "execution_count": 110,
   "id": "8a375193",
   "metadata": {},
   "outputs": [
    {
     "data": {
      "text/html": [
       "<div><div style = \"float: left;\"><span>500×8 DataFrame</span></div><div style = \"float: right;\"><span style = \"font-style: italic;\">475 rows omitted</span></div><div style = \"clear: both;\"></div></div><div class = \"data-frame\" style = \"overflow-x: scroll;\"><table class = \"data-frame\" style = \"margin-bottom: 6px;\"><thead><tr class = \"header\"><th class = \"rowNumber\" style = \"font-weight: bold; text-align: right;\">Row</th><th style = \"text-align: left;\">name</th><th style = \"text-align: left;\">h</th><th style = \"text-align: left;\">f</th><th style = \"text-align: left;\">l</th><th style = \"text-align: left;\">p</th><th style = \"text-align: left;\">r</th><th style = \"text-align: left;\">s</th><th style = \"text-align: left;\">w</th></tr><tr class = \"subheader headerLastRow\"><th class = \"rowNumber\" style = \"font-weight: bold; text-align: right;\"></th><th title = \"String\" style = \"text-align: left;\">String</th><th title = \"Int64\" style = \"text-align: left;\">Int64</th><th title = \"Int64\" style = \"text-align: left;\">Int64</th><th title = \"Int64\" style = \"text-align: left;\">Int64</th><th title = \"Int64\" style = \"text-align: left;\">Int64</th><th title = \"Int64\" style = \"text-align: left;\">Int64</th><th title = \"Int64\" style = \"text-align: left;\">Int64</th><th title = \"Float64\" style = \"text-align: left;\">Float64</th></tr></thead><tbody><tr><td class = \"rowNumber\" style = \"font-weight: bold; text-align: right;\">1</td><td style = \"text-align: left;\">#6705. Potato Strips w/ scallion</td><td style = \"text-align: right;\">8</td><td style = \"text-align: right;\">10</td><td style = \"text-align: right;\">1</td><td style = \"text-align: right;\">1</td><td style = \"text-align: right;\">2</td><td style = \"text-align: right;\">1</td><td style = \"text-align: right;\">0.0341574</td></tr><tr><td class = \"rowNumber\" style = \"font-weight: bold; text-align: right;\">2</td><td style = \"text-align: left;\">#2813. Helen&apos;s Chips</td><td style = \"text-align: right;\">6</td><td style = \"text-align: right;\">1</td><td style = \"text-align: right;\">14</td><td style = \"text-align: right;\">2</td><td style = \"text-align: right;\">1</td><td style = \"text-align: right;\">2</td><td style = \"text-align: right;\">0.0266422</td></tr><tr><td class = \"rowNumber\" style = \"font-weight: bold; text-align: right;\">3</td><td style = \"text-align: left;\">#9066. Potato Soup w/ scallion</td><td style = \"text-align: right;\">14</td><td style = \"text-align: right;\">5</td><td style = \"text-align: right;\">2</td><td style = \"text-align: right;\">1</td><td style = \"text-align: right;\">2</td><td style = \"text-align: right;\">2</td><td style = \"text-align: right;\">0.0256009</td></tr><tr><td class = \"rowNumber\" style = \"font-weight: bold; text-align: right;\">4</td><td style = \"text-align: left;\">#6499. Potato Soup w/ ketchup</td><td style = \"text-align: right;\">8</td><td style = \"text-align: right;\">1</td><td style = \"text-align: right;\">10</td><td style = \"text-align: right;\">5</td><td style = \"text-align: right;\">2</td><td style = \"text-align: right;\">2</td><td style = \"text-align: right;\">0.0237062</td></tr><tr><td class = \"rowNumber\" style = \"font-weight: bold; text-align: right;\">5</td><td style = \"text-align: left;\">#3007. Helen&apos;s Mashed Potato</td><td style = \"text-align: right;\">11</td><td style = \"text-align: right;\">1</td><td style = \"text-align: right;\">8</td><td style = \"text-align: right;\">3</td><td style = \"text-align: right;\">1</td><td style = \"text-align: right;\">2</td><td style = \"text-align: right;\">0.0213634</td></tr><tr><td class = \"rowNumber\" style = \"font-weight: bold; text-align: right;\">6</td><td style = \"text-align: left;\">#7179. Potato Soup w/ onion</td><td style = \"text-align: right;\">11</td><td style = \"text-align: right;\">4</td><td style = \"text-align: right;\">3</td><td style = \"text-align: right;\">5</td><td style = \"text-align: right;\">2</td><td style = \"text-align: right;\">2</td><td style = \"text-align: right;\">0.0200976</td></tr><tr><td class = \"rowNumber\" style = \"font-weight: bold; text-align: right;\">7</td><td style = \"text-align: left;\">#7309. Potato Soup w/ scallion</td><td style = \"text-align: right;\">14</td><td style = \"text-align: right;\">2</td><td style = \"text-align: right;\">5</td><td style = \"text-align: right;\">3</td><td style = \"text-align: right;\">2</td><td style = \"text-align: right;\">2</td><td style = \"text-align: right;\">0.0185596</td></tr><tr><td class = \"rowNumber\" style = \"font-weight: bold; text-align: right;\">8</td><td style = \"text-align: left;\">#3197. Potato Soup w/ scallion</td><td style = \"text-align: right;\">14</td><td style = \"text-align: right;\">3</td><td style = \"text-align: right;\">4</td><td style = \"text-align: right;\">3</td><td style = \"text-align: right;\">1</td><td style = \"text-align: right;\">2</td><td style = \"text-align: right;\">0.0179148</td></tr><tr><td class = \"rowNumber\" style = \"font-weight: bold; text-align: right;\">9</td><td style = \"text-align: left;\">#307. Baked Potato w/ onion</td><td style = \"text-align: right;\">3</td><td style = \"text-align: right;\">15</td><td style = \"text-align: right;\">3</td><td style = \"text-align: right;\">2</td><td style = \"text-align: right;\">2</td><td style = \"text-align: right;\">1</td><td style = \"text-align: right;\">0.0172551</td></tr><tr><td class = \"rowNumber\" style = \"font-weight: bold; text-align: right;\">10</td><td style = \"text-align: left;\">#3732. Enlightened Tater Tots</td><td style = \"text-align: right;\">4</td><td style = \"text-align: right;\">6</td><td style = \"text-align: right;\">11</td><td style = \"text-align: right;\">3</td><td style = \"text-align: right;\">1</td><td style = \"text-align: right;\">2</td><td style = \"text-align: right;\">0.0170325</td></tr><tr><td class = \"rowNumber\" style = \"font-weight: bold; text-align: right;\">11</td><td style = \"text-align: left;\">#3123. Potato Soup w/ scallion</td><td style = \"text-align: right;\">12</td><td style = \"text-align: right;\">3</td><td style = \"text-align: right;\">4</td><td style = \"text-align: right;\">4</td><td style = \"text-align: right;\">3</td><td style = \"text-align: right;\">2</td><td style = \"text-align: right;\">0.0166083</td></tr><tr><td class = \"rowNumber\" style = \"font-weight: bold; text-align: right;\">12</td><td style = \"text-align: left;\">#3006. Helen&apos;s Potato Soup</td><td style = \"text-align: right;\">11</td><td style = \"text-align: right;\">1</td><td style = \"text-align: right;\">8</td><td style = \"text-align: right;\">2</td><td style = \"text-align: right;\">1</td><td style = \"text-align: right;\">3</td><td style = \"text-align: right;\">0.0141492</td></tr><tr><td class = \"rowNumber\" style = \"font-weight: bold; text-align: right;\">13</td><td style = \"text-align: left;\">#13888. Wrestler Baked Potato</td><td style = \"text-align: right;\">1</td><td style = \"text-align: right;\">7</td><td style = \"text-align: right;\">1</td><td style = \"text-align: right;\">7</td><td style = \"text-align: right;\">1</td><td style = \"text-align: right;\">6</td><td style = \"text-align: right;\">0.0134408</td></tr><tr><td style = \"text-align: right;\">&vellip;</td><td style = \"text-align: right;\">&vellip;</td><td style = \"text-align: right;\">&vellip;</td><td style = \"text-align: right;\">&vellip;</td><td style = \"text-align: right;\">&vellip;</td><td style = \"text-align: right;\">&vellip;</td><td style = \"text-align: right;\">&vellip;</td><td style = \"text-align: right;\">&vellip;</td><td style = \"text-align: right;\">&vellip;</td></tr><tr><td class = \"rowNumber\" style = \"font-weight: bold; text-align: right;\">489</td><td style = \"text-align: left;\">#595. Sneaky Raw Potato</td><td style = \"text-align: right;\">10</td><td style = \"text-align: right;\">2</td><td style = \"text-align: right;\">5</td><td style = \"text-align: right;\">3</td><td style = \"text-align: right;\">7</td><td style = \"text-align: right;\">5</td><td style = \"text-align: right;\">9.93555e-7</td></tr><tr><td class = \"rowNumber\" style = \"font-weight: bold; text-align: right;\">490</td><td style = \"text-align: left;\">#596. Sneaky Potato Soup</td><td style = \"text-align: right;\">10</td><td style = \"text-align: right;\">2</td><td style = \"text-align: right;\">5</td><td style = \"text-align: right;\">3</td><td style = \"text-align: right;\">10</td><td style = \"text-align: right;\">2</td><td style = \"text-align: right;\">9.93555e-7</td></tr><tr><td class = \"rowNumber\" style = \"font-weight: bold; text-align: right;\">491</td><td style = \"text-align: left;\">#597. Dangerous Potato Soup</td><td style = \"text-align: right;\">10</td><td style = \"text-align: right;\">2</td><td style = \"text-align: right;\">5</td><td style = \"text-align: right;\">4</td><td style = \"text-align: right;\">2</td><td style = \"text-align: right;\">9</td><td style = \"text-align: right;\">9.93555e-7</td></tr><tr><td class = \"rowNumber\" style = \"font-weight: bold; text-align: right;\">492</td><td style = \"text-align: left;\">#598. Sneaky Raw Potato</td><td style = \"text-align: right;\">10</td><td style = \"text-align: right;\">2</td><td style = \"text-align: right;\">5</td><td style = \"text-align: right;\">4</td><td style = \"text-align: right;\">6</td><td style = \"text-align: right;\">5</td><td style = \"text-align: right;\">9.93555e-7</td></tr><tr><td class = \"rowNumber\" style = \"font-weight: bold; text-align: right;\">493</td><td style = \"text-align: left;\">#599. Aquatic Potato Soup</td><td style = \"text-align: right;\">10</td><td style = \"text-align: right;\">2</td><td style = \"text-align: right;\">5</td><td style = \"text-align: right;\">4</td><td style = \"text-align: right;\">7</td><td style = \"text-align: right;\">4</td><td style = \"text-align: right;\">9.93555e-7</td></tr><tr><td class = \"rowNumber\" style = \"font-weight: bold; text-align: right;\">494</td><td style = \"text-align: left;\">#600. Criminal Mashed Potato</td><td style = \"text-align: right;\">10</td><td style = \"text-align: right;\">2</td><td style = \"text-align: right;\">5</td><td style = \"text-align: right;\">6</td><td style = \"text-align: right;\">4</td><td style = \"text-align: right;\">5</td><td style = \"text-align: right;\">9.93555e-7</td></tr><tr><td class = \"rowNumber\" style = \"font-weight: bold; text-align: right;\">495</td><td style = \"text-align: left;\">#601. Sneaky Raw Potato w/ scallion</td><td style = \"text-align: right;\">10</td><td style = \"text-align: right;\">2</td><td style = \"text-align: right;\">5</td><td style = \"text-align: right;\">6</td><td style = \"text-align: right;\">6</td><td style = \"text-align: right;\">3</td><td style = \"text-align: right;\">9.93555e-7</td></tr><tr><td class = \"rowNumber\" style = \"font-weight: bold; text-align: right;\">496</td><td style = \"text-align: left;\">#602. Sneaky Raw Potato</td><td style = \"text-align: right;\">10</td><td style = \"text-align: right;\">2</td><td style = \"text-align: right;\">5</td><td style = \"text-align: right;\">6</td><td style = \"text-align: right;\">7</td><td style = \"text-align: right;\">2</td><td style = \"text-align: right;\">9.93555e-7</td></tr><tr><td class = \"rowNumber\" style = \"font-weight: bold; text-align: right;\">497</td><td style = \"text-align: left;\">#603. Underground Mashed Potato</td><td style = \"text-align: right;\">10</td><td style = \"text-align: right;\">2</td><td style = \"text-align: right;\">5</td><td style = \"text-align: right;\">7</td><td style = \"text-align: right;\">4</td><td style = \"text-align: right;\">4</td><td style = \"text-align: right;\">9.93555e-7</td></tr><tr><td class = \"rowNumber\" style = \"font-weight: bold; text-align: right;\">498</td><td style = \"text-align: left;\">#604. Criminal Potato Strips</td><td style = \"text-align: right;\">10</td><td style = \"text-align: right;\">2</td><td style = \"text-align: right;\">5</td><td style = \"text-align: right;\">7</td><td style = \"text-align: right;\">6</td><td style = \"text-align: right;\">2</td><td style = \"text-align: right;\">9.93555e-7</td></tr><tr><td class = \"rowNumber\" style = \"font-weight: bold; text-align: right;\">499</td><td style = \"text-align: left;\">#605. Criminal Raw Potato</td><td style = \"text-align: right;\">10</td><td style = \"text-align: right;\">2</td><td style = \"text-align: right;\">5</td><td style = \"text-align: right;\">8</td><td style = \"text-align: right;\">2</td><td style = \"text-align: right;\">5</td><td style = \"text-align: right;\">9.93555e-7</td></tr><tr><td class = \"rowNumber\" style = \"font-weight: bold; text-align: right;\">500</td><td style = \"text-align: left;\">#606. Criminal Potato Strips</td><td style = \"text-align: right;\">10</td><td style = \"text-align: right;\">2</td><td style = \"text-align: right;\">5</td><td style = \"text-align: right;\">8</td><td style = \"text-align: right;\">4</td><td style = \"text-align: right;\">3</td><td style = \"text-align: right;\">9.93555e-7</td></tr></tbody></table></div>"
      ],
      "text/latex": [
       "\\begin{tabular}{r|cccccccc}\n",
       "\t& name & h & f & l & p & r & s & \\\\\n",
       "\t\\hline\n",
       "\t& String & Int64 & Int64 & Int64 & Int64 & Int64 & Int64 & \\\\\n",
       "\t\\hline\n",
       "\t1 & \\#6705. Potato Strips w/ scallion & 8 & 10 & 1 & 1 & 2 & 1 & $\\dots$ \\\\\n",
       "\t2 & \\#2813. Helen's Chips & 6 & 1 & 14 & 2 & 1 & 2 & $\\dots$ \\\\\n",
       "\t3 & \\#9066. Potato Soup w/ scallion & 14 & 5 & 2 & 1 & 2 & 2 & $\\dots$ \\\\\n",
       "\t4 & \\#6499. Potato Soup w/ ketchup & 8 & 1 & 10 & 5 & 2 & 2 & $\\dots$ \\\\\n",
       "\t5 & \\#3007. Helen's Mashed Potato & 11 & 1 & 8 & 3 & 1 & 2 & $\\dots$ \\\\\n",
       "\t6 & \\#7179. Potato Soup w/ onion & 11 & 4 & 3 & 5 & 2 & 2 & $\\dots$ \\\\\n",
       "\t7 & \\#7309. Potato Soup w/ scallion & 14 & 2 & 5 & 3 & 2 & 2 & $\\dots$ \\\\\n",
       "\t8 & \\#3197. Potato Soup w/ scallion & 14 & 3 & 4 & 3 & 1 & 2 & $\\dots$ \\\\\n",
       "\t9 & \\#307. Baked Potato w/ onion & 3 & 15 & 3 & 2 & 2 & 1 & $\\dots$ \\\\\n",
       "\t10 & \\#3732. Enlightened Tater Tots & 4 & 6 & 11 & 3 & 1 & 2 & $\\dots$ \\\\\n",
       "\t11 & \\#3123. Potato Soup w/ scallion & 12 & 3 & 4 & 4 & 3 & 2 & $\\dots$ \\\\\n",
       "\t12 & \\#3006. Helen's Potato Soup & 11 & 1 & 8 & 2 & 1 & 3 & $\\dots$ \\\\\n",
       "\t13 & \\#13888. Wrestler Baked Potato & 1 & 7 & 1 & 7 & 1 & 6 & $\\dots$ \\\\\n",
       "\t14 & \\#8836. Helen's French Fries & 7 & 1 & 12 & 2 & 2 & 2 & $\\dots$ \\\\\n",
       "\t15 & \\#11915. Criminal Potato Soup & 14 & 1 & 6 & 2 & 3 & 4 & $\\dots$ \\\\\n",
       "\t16 & \\#5918. Potato Strips w/ onion & 6 & 12 & 1 & 1 & 2 & 1 & $\\dots$ \\\\\n",
       "\t17 & \\#14502. Friendly Mashed Potato & 4 & 5 & 8 & 1 & 5 & 4 & $\\dots$ \\\\\n",
       "\t18 & \\#3763. Potato Strips w/ onion & 4 & 11 & 3 & 3 & 1 & 2 & $\\dots$ \\\\\n",
       "\t19 & \\#2240. Criminal Mashed Potato & 10 & 3 & 5 & 5 & 3 & 1 & $\\dots$ \\\\\n",
       "\t20 & \\#6703. Mashed Potato w/ onion & 8 & 9 & 1 & 1 & 2 & 2 & $\\dots$ \\\\\n",
       "\t21 & \\#2042. Potato Soup w/ scallion & 11 & 6 & 3 & 1 & 1 & 1 & $\\dots$ \\\\\n",
       "\t22 & \\#12901. French Fries w/ onion & 2 & 9 & 2 & 2 & 4 & 4 & $\\dots$ \\\\\n",
       "\t23 & \\#1820. Enlightened Tater Tots w/ onion & 3 & 10 & 8 & 4 & 1 & 1 & $\\dots$ \\\\\n",
       "\t24 & \\#3711. Baked Potato w/ onion & 3 & 11 & 3 & 3 & 2 & 2 & $\\dots$ \\\\\n",
       "\t25 & \\#4537. Baked Potato w/ onion & 2 & 12 & 1 & 4 & 3 & 1 & $\\dots$ \\\\\n",
       "\t26 & \\#14521. Friendly Mashed Potato & 4 & 6 & 8 & 1 & 4 & 3 & $\\dots$ \\\\\n",
       "\t27 & \\#3097. Charles' Potato Soup & 12 & 1 & 7 & 4 & 1 & 3 & $\\dots$ \\\\\n",
       "\t28 & \\#8360. Chips w/ onion & 2 & 8 & 9 & 5 & 2 & 2 & $\\dots$ \\\\\n",
       "\t29 & \\#7263. Helen's Potato Soup & 14 & 1 & 6 & 5 & 2 & 2 & $\\dots$ \\\\\n",
       "\t30 & \\#6653. Helen's Mashed Potato & 8 & 3 & 7 & 5 & 2 & 1 & $\\dots$ \\\\\n",
       "\t$\\dots$ & $\\dots$ & $\\dots$ & $\\dots$ & $\\dots$ & $\\dots$ & $\\dots$ & $\\dots$ &  \\\\\n",
       "\\end{tabular}\n"
      ],
      "text/plain": [
       "\u001b[1m500×8 DataFrame\u001b[0m\n",
       "\u001b[1m Row \u001b[0m│\u001b[1m name                              \u001b[0m\u001b[1m h     \u001b[0m\u001b[1m f     \u001b[0m\u001b[1m l     \u001b[0m\u001b[1m p     \u001b[0m\u001b[1m r     \u001b[0m\u001b[1m s\u001b[0m ⋯\n",
       "     │\u001b[90m String                            \u001b[0m\u001b[90m Int64 \u001b[0m\u001b[90m Int64 \u001b[0m\u001b[90m Int64 \u001b[0m\u001b[90m Int64 \u001b[0m\u001b[90m Int64 \u001b[0m\u001b[90m I\u001b[0m ⋯\n",
       "─────┼──────────────────────────────────────────────────────────────────────────\n",
       "   1 │ #6705. Potato Strips w/ scallion       8     10      1      1      2    ⋯\n",
       "   2 │ #2813. Helen's Chips                   6      1     14      2      1\n",
       "   3 │ #9066. Potato Soup w/ scallion        14      5      2      1      2\n",
       "   4 │ #6499. Potato Soup w/ ketchup          8      1     10      5      2\n",
       "   5 │ #3007. Helen's Mashed Potato          11      1      8      3      1    ⋯\n",
       "   6 │ #7179. Potato Soup w/ onion           11      4      3      5      2\n",
       "   7 │ #7309. Potato Soup w/ scallion        14      2      5      3      2\n",
       "   8 │ #3197. Potato Soup w/ scallion        14      3      4      3      1\n",
       "   9 │ #307. Baked Potato w/ onion            3     15      3      2      2    ⋯\n",
       "  10 │ #3732. Enlightened Tater Tots          4      6     11      3      1\n",
       "  11 │ #3123. Potato Soup w/ scallion        12      3      4      4      3\n",
       "  ⋮  │                 ⋮                    ⋮      ⋮      ⋮      ⋮      ⋮      ⋱\n",
       " 491 │ #597. Dangerous Potato Soup           10      2      5      4      2\n",
       " 492 │ #598. Sneaky Raw Potato               10      2      5      4      6    ⋯\n",
       " 493 │ #599. Aquatic Potato Soup             10      2      5      4      7\n",
       " 494 │ #600. Criminal Mashed Potato          10      2      5      6      4\n",
       " 495 │ #601. Sneaky Raw Potato w/ scall…     10      2      5      6      6\n",
       " 496 │ #602. Sneaky Raw Potato               10      2      5      6      7    ⋯\n",
       " 497 │ #603. Underground Mashed Potato       10      2      5      7      4\n",
       " 498 │ #604. Criminal Potato Strips          10      2      5      7      6\n",
       " 499 │ #605. Criminal Raw Potato             10      2      5      8      2\n",
       " 500 │ #606. Criminal Potato Strips          10      2      5      8      4    ⋯\n",
       "\u001b[36m                                                  2 columns and 479 rows omitted\u001b[0m"
      ]
     },
     "execution_count": 110,
     "metadata": {},
     "output_type": "execute_result"
    }
   ],
   "source": [
    "inds_sel = sortperm(-w)[1:500]\n",
    "tab = spuds_to_df(nash_env[inds_sel])\n",
    "tab[!, :w] = w[inds_sel]\n",
    "tab"
   ]
  },
  {
   "cell_type": "code",
   "execution_count": 111,
   "id": "539633b4",
   "metadata": {
    "scrolled": true
   },
   "outputs": [
    {
     "name": "stdout",
     "output_type": "stream",
     "text": [
      "\u001b[1m3×7 DataFrame\u001b[0m\n",
      "\u001b[1m Row \u001b[0m│\u001b[1m name                              \u001b[0m\u001b[1m h     \u001b[0m\u001b[1m f     \u001b[0m\u001b[1m l     \u001b[0m\u001b[1m p     \u001b[0m\u001b[1m r     \u001b[0m\u001b[1m s     \u001b[0m\n",
      "     │\u001b[90m String                            \u001b[0m\u001b[90m Int64 \u001b[0m\u001b[90m Int64 \u001b[0m\u001b[90m Int64 \u001b[0m\u001b[90m Int64 \u001b[0m\u001b[90m Int64 \u001b[0m\u001b[90m Int64 \u001b[0m\n",
      "─────┼─────────────────────────────────────────────────────────────────────────────\n",
      "   1 │ #2248. Sneaky Mashed Potato           11      3      4      1      5      4\n",
      "   2 │ #5770. Helen's Potato Bread w/ k…      6      2     10      7      3      1\n",
      "   3 │ #6951. Potato Soup w/ scallion        10      7      1      3      2      1\n",
      "[0.007680178680897021, 0.00268458509647914, 0.0082961826630647]\n",
      "1\n",
      "\u001b[1m3×7 DataFrame\u001b[0m\n",
      "\u001b[1m Row \u001b[0m│\u001b[1m name                          \u001b[0m\u001b[1m h     \u001b[0m\u001b[1m f     \u001b[0m\u001b[1m l     \u001b[0m\u001b[1m p     \u001b[0m\u001b[1m r     \u001b[0m\u001b[1m s     \u001b[0m\n",
      "     │\u001b[90m String                        \u001b[0m\u001b[90m Int64 \u001b[0m\u001b[90m Int64 \u001b[0m\u001b[90m Int64 \u001b[0m\u001b[90m Int64 \u001b[0m\u001b[90m Int64 \u001b[0m\u001b[90m Int64 \u001b[0m\n",
      "─────┼─────────────────────────────────────────────────────────────────────────\n",
      "   1 │ #1764. Friendly Tater Tots         3      3     12      1      7      6\n",
      "   2 │ #3097. Charles' Potato Soup       12      1      7      4      1      3\n",
      "   3 │ #6703. Mashed Potato w/ onion      8      9      1      1      2      2\n",
      "[0.005475480557622702, 0.010405499524584024, 0.011908747952035148]\n",
      "1\n",
      "\u001b[1m3×7 DataFrame\u001b[0m\n",
      "\u001b[1m Row \u001b[0m│\u001b[1m name                           \u001b[0m\u001b[1m h     \u001b[0m\u001b[1m f     \u001b[0m\u001b[1m l     \u001b[0m\u001b[1m p     \u001b[0m\u001b[1m r     \u001b[0m\u001b[1m s     \u001b[0m\n",
      "     │\u001b[90m String                         \u001b[0m\u001b[90m Int64 \u001b[0m\u001b[90m Int64 \u001b[0m\u001b[90m Int64 \u001b[0m\u001b[90m Int64 \u001b[0m\u001b[90m Int64 \u001b[0m\u001b[90m Int64 \u001b[0m\n",
      "─────┼──────────────────────────────────────────────────────────────────────────\n",
      "   1 │ #1813. Potato Strips w/ onion       3      9      2      4      1      4\n",
      "   2 │ #8836. Helen's French Fries         7      1     12      2      2      2\n",
      "   3 │ #9066. Potato Soup w/ scallion     14      5      2      1      2      2\n",
      "[0.004583268338289516, 0.013420938372775804, 0.02560092678792672]\n",
      "1\n",
      "\u001b[1m3×7 DataFrame\u001b[0m\n",
      "\u001b[1m Row \u001b[0m│\u001b[1m name                           \u001b[0m\u001b[1m h     \u001b[0m\u001b[1m f     \u001b[0m\u001b[1m l     \u001b[0m\u001b[1m p     \u001b[0m\u001b[1m r     \u001b[0m\u001b[1m s     \u001b[0m\n",
      "     │\u001b[90m String                         \u001b[0m\u001b[90m Int64 \u001b[0m\u001b[90m Int64 \u001b[0m\u001b[90m Int64 \u001b[0m\u001b[90m Int64 \u001b[0m\u001b[90m Int64 \u001b[0m\u001b[90m Int64 \u001b[0m\n",
      "─────┼──────────────────────────────────────────────────────────────────────────\n",
      "   1 │ #3122. Sneaky Mashed Potato        12      3      4      3      4      2\n",
      "   2 │ #6951. Potato Soup w/ scallion     10      7      1      3      2      1\n",
      "   3 │ #13017. Charles' Potato Soup        7      1     11      2      4      4\n",
      "[0.0030323292799608937, 0.0082961826630647, 0.005393015508397029]\n",
      "1\n",
      "\u001b[1m3×7 DataFrame\u001b[0m\n",
      "\u001b[1m Row \u001b[0m│\u001b[1m name                              \u001b[0m\u001b[1m h     \u001b[0m\u001b[1m f     \u001b[0m\u001b[1m l     \u001b[0m\u001b[1m p     \u001b[0m\u001b[1m r     \u001b[0m\u001b[1m s     \u001b[0m\n",
      "     │\u001b[90m String                            \u001b[0m\u001b[90m Int64 \u001b[0m\u001b[90m Int64 \u001b[0m\u001b[90m Int64 \u001b[0m\u001b[90m Int64 \u001b[0m\u001b[90m Int64 \u001b[0m\u001b[90m Int64 \u001b[0m\n",
      "─────┼─────────────────────────────────────────────────────────────────────────────\n",
      "   1 │ #430. Helen's Potato Bread             5      2     12      7      2      2\n",
      "   2 │ #3097. Charles' Potato Soup           12      1      7      4      1      3\n",
      "   3 │ #4691. Devious Potato Soup w/ sc…     10      6      1      4      3      1\n",
      "[0.004530609933362279, 0.010405499524584024, 0.004945915843920488]\n",
      "1\n",
      "\u001b[1m3×7 DataFrame\u001b[0m\n",
      "\u001b[1m Row \u001b[0m│\u001b[1m name                           \u001b[0m\u001b[1m h     \u001b[0m\u001b[1m f     \u001b[0m\u001b[1m l     \u001b[0m\u001b[1m p     \u001b[0m\u001b[1m r     \u001b[0m\u001b[1m s     \u001b[0m\n",
      "     │\u001b[90m String                         \u001b[0m\u001b[90m Int64 \u001b[0m\u001b[90m Int64 \u001b[0m\u001b[90m Int64 \u001b[0m\u001b[90m Int64 \u001b[0m\u001b[90m Int64 \u001b[0m\u001b[90m Int64 \u001b[0m\n",
      "─────┼──────────────────────────────────────────────────────────────────────────\n",
      "   1 │ #4437. Baked Potato w/ onion        1     12      1      3      3      3\n",
      "   2 │ #6951. Potato Soup w/ scallion     10      7      1      3      2      1\n",
      "   3 │ #10984. Helen's Home Fries          7      2      9      5      3      2\n",
      "[0.0071744592826335565, 0.0082961826630647, 0.007105904000747153]\n",
      "1\n",
      "\u001b[1m3×7 DataFrame\u001b[0m\n",
      "\u001b[1m Row \u001b[0m│\u001b[1m name                              \u001b[0m\u001b[1m h     \u001b[0m\u001b[1m f     \u001b[0m\u001b[1m l     \u001b[0m\u001b[1m p     \u001b[0m\u001b[1m r     \u001b[0m\u001b[1m s     \u001b[0m\n",
      "     │\u001b[90m String                            \u001b[0m\u001b[90m Int64 \u001b[0m\u001b[90m Int64 \u001b[0m\u001b[90m Int64 \u001b[0m\u001b[90m Int64 \u001b[0m\u001b[90m Int64 \u001b[0m\u001b[90m Int64 \u001b[0m\n",
      "─────┼─────────────────────────────────────────────────────────────────────────────\n",
      "   1 │ #3122. Sneaky Mashed Potato           12      3      4      3      4      2\n",
      "   2 │ #5770. Helen's Potato Bread w/ k…      6      2     10      7      3      1\n",
      "   3 │ #6951. Potato Soup w/ scallion        10      7      1      3      2      1\n",
      "[0.0030323292799608937, 0.00268458509647914, 0.0082961826630647]\n",
      "1\n",
      "\u001b[1m3×7 DataFrame\u001b[0m\n",
      "\u001b[1m Row \u001b[0m│\u001b[1m name                           \u001b[0m\u001b[1m h     \u001b[0m\u001b[1m f     \u001b[0m\u001b[1m l     \u001b[0m\u001b[1m p     \u001b[0m\u001b[1m r     \u001b[0m\u001b[1m s     \u001b[0m\n",
      "     │\u001b[90m String                         \u001b[0m\u001b[90m Int64 \u001b[0m\u001b[90m Int64 \u001b[0m\u001b[90m Int64 \u001b[0m\u001b[90m Int64 \u001b[0m\u001b[90m Int64 \u001b[0m\u001b[90m Int64 \u001b[0m\n",
      "─────┼──────────────────────────────────────────────────────────────────────────\n",
      "   1 │ #3136. Potato Soup w/ scallion     12      6      2      2      1      1\n",
      "   2 │ #4525. Baked Potato w/ onion        2      9      2      5      4      1\n",
      "   3 │ #13017. Charles' Potato Soup        7      1     11      2      4      4\n",
      "[0.00583514739882383, 0.005651339758983474, 0.005393015508397029]\n",
      "1\n",
      "\u001b[1m3×7 DataFrame\u001b[0m\n",
      "\u001b[1m Row \u001b[0m│\u001b[1m name                              \u001b[0m\u001b[1m h     \u001b[0m\u001b[1m f     \u001b[0m\u001b[1m l     \u001b[0m\u001b[1m p     \u001b[0m\u001b[1m r     \u001b[0m\u001b[1m s     \u001b[0m\n",
      "     │\u001b[90m String                            \u001b[0m\u001b[90m Int64 \u001b[0m\u001b[90m Int64 \u001b[0m\u001b[90m Int64 \u001b[0m\u001b[90m Int64 \u001b[0m\u001b[90m Int64 \u001b[0m\u001b[90m Int64 \u001b[0m\n",
      "─────┼─────────────────────────────────────────────────────────────────────────────\n",
      "   1 │ #6499. Potato Soup w/ ketchup          8      1     10      5      2      2\n",
      "   2 │ #9066. Potato Soup w/ scallion        14      5      2      1      2      2\n",
      "   3 │ #14881. Angry Mashed Potato w/ s…      6      8      1      1      4      3\n",
      "[0.023706217765356134, 0.02560092678792672, 0.006316027926838598]\n",
      "1\n",
      "\u001b[1m3×7 DataFrame\u001b[0m\n",
      "\u001b[1m Row \u001b[0m│\u001b[1m name                          \u001b[0m\u001b[1m h     \u001b[0m\u001b[1m f     \u001b[0m\u001b[1m l     \u001b[0m\u001b[1m p     \u001b[0m\u001b[1m r     \u001b[0m\u001b[1m s     \u001b[0m\n",
      "     │\u001b[90m String                        \u001b[0m\u001b[90m Int64 \u001b[0m\u001b[90m Int64 \u001b[0m\u001b[90m Int64 \u001b[0m\u001b[90m Int64 \u001b[0m\u001b[90m Int64 \u001b[0m\u001b[90m Int64 \u001b[0m\n",
      "─────┼─────────────────────────────────────────────────────────────────────────\n",
      "   1 │ #2240. Criminal Mashed Potato     10      3      5      5      3      1\n",
      "   2 │ #10840. Helen's Tater Tots         7      1     11      3      3      4\n",
      "   3 │ #14737. Hungry Potato Strips       5      8      1      1      5      3\n",
      "[0.011917689945324678, 0.009455661126273862, 0.00849191296062443]\n",
      "1\n",
      "\u001b[1m3×7 DataFrame\u001b[0m\n",
      "\u001b[1m Row \u001b[0m│\u001b[1m name                           \u001b[0m\u001b[1m h     \u001b[0m\u001b[1m f     \u001b[0m\u001b[1m l     \u001b[0m\u001b[1m p     \u001b[0m\u001b[1m r     \u001b[0m\u001b[1m s     \u001b[0m\n",
      "     │\u001b[90m String                         \u001b[0m\u001b[90m Int64 \u001b[0m\u001b[90m Int64 \u001b[0m\u001b[90m Int64 \u001b[0m\u001b[90m Int64 \u001b[0m\u001b[90m Int64 \u001b[0m\u001b[90m Int64 \u001b[0m\n",
      "─────┼──────────────────────────────────────────────────────────────────────────\n",
      "   1 │ #3033. Potato Soup w/ scallion     11      3      4      4      3      3\n",
      "   2 │ #6951. Potato Soup w/ scallion     10      7      1      3      2      1\n",
      "   3 │ #10840. Helen's Tater Tots          7      1     11      3      3      4\n",
      "[0.0032995955238368704, 0.0082961826630647, 0.009455661126273862]\n",
      "1\n",
      "\u001b[1m3×7 DataFrame\u001b[0m\n",
      "\u001b[1m Row \u001b[0m│\u001b[1m name                             \u001b[0m\u001b[1m h     \u001b[0m\u001b[1m f     \u001b[0m\u001b[1m l     \u001b[0m\u001b[1m p     \u001b[0m\u001b[1m r     \u001b[0m\u001b[1m s     \u001b[0m\n",
      "     │\u001b[90m String                           \u001b[0m\u001b[90m Int64 \u001b[0m\u001b[90m Int64 \u001b[0m\u001b[90m Int64 \u001b[0m\u001b[90m Int64 \u001b[0m\u001b[90m Int64 \u001b[0m\u001b[90m Int64 \u001b[0m\n",
      "─────┼────────────────────────────────────────────────────────────────────────────\n",
      "   1 │ #3007. Helen's Mashed Potato         11      1      8      3      1      2\n",
      "   2 │ #6705. Potato Strips w/ scallion      8     10      1      1      2      1\n",
      "   3 │ #13888. Wrestler Baked Potato         1      7      1      7      1      6\n",
      "[0.02136341552349906, 0.03415742081119776, 0.013440809468974762]\n",
      "2\n"
     ]
    },
    {
     "name": "stdout",
     "output_type": "stream",
     "text": [
      "\u001b[1m3×7 DataFrame\u001b[0m\n",
      "\u001b[1m Row \u001b[0m│\u001b[1m name                              \u001b[0m\u001b[1m h     \u001b[0m\u001b[1m f     \u001b[0m\u001b[1m l     \u001b[0m\u001b[1m p     \u001b[0m\u001b[1m r     \u001b[0m\u001b[1m s     \u001b[0m\n",
      "     │\u001b[90m String                            \u001b[0m\u001b[90m Int64 \u001b[0m\u001b[90m Int64 \u001b[0m\u001b[90m Int64 \u001b[0m\u001b[90m Int64 \u001b[0m\u001b[90m Int64 \u001b[0m\u001b[90m Int64 \u001b[0m\n",
      "─────┼─────────────────────────────────────────────────────────────────────────────\n",
      "   1 │ #2240. Criminal Mashed Potato         10      3      5      5      3      1\n",
      "   2 │ #10984. Helen's Home Fries             7      2      9      5      3      2\n",
      "   3 │ #14881. Angry Mashed Potato w/ s…      6      8      1      1      4      3\n",
      "[0.011917689945324678, 0.007105904000747153, 0.006316027926838598]\n",
      "1\n",
      "\u001b[1m3×7 DataFrame\u001b[0m\n",
      "\u001b[1m Row \u001b[0m│\u001b[1m name                             \u001b[0m\u001b[1m h     \u001b[0m\u001b[1m f     \u001b[0m\u001b[1m l     \u001b[0m\u001b[1m p     \u001b[0m\u001b[1m r     \u001b[0m\u001b[1m s     \u001b[0m\n",
      "     │\u001b[90m String                           \u001b[0m\u001b[90m Int64 \u001b[0m\u001b[90m Int64 \u001b[0m\u001b[90m Int64 \u001b[0m\u001b[90m Int64 \u001b[0m\u001b[90m Int64 \u001b[0m\u001b[90m Int64 \u001b[0m\n",
      "─────┼────────────────────────────────────────────────────────────────────────────\n",
      "   1 │ #1764. Friendly Tater Tots            3      3     12      1      7      6\n",
      "   2 │ #3093. Sneaky Mashed Potato          12      1      7      2      4      2\n",
      "   3 │ #6705. Potato Strips w/ scallion      8     10      1      1      2      1\n",
      "[0.005475480557622702, 0.004895244548613146, 0.03415742081119776]\n",
      "1\n",
      "\u001b[1m3×7 DataFrame\u001b[0m\n",
      "\u001b[1m Row \u001b[0m│\u001b[1m name                          \u001b[0m\u001b[1m h     \u001b[0m\u001b[1m f     \u001b[0m\u001b[1m l     \u001b[0m\u001b[1m p     \u001b[0m\u001b[1m r     \u001b[0m\u001b[1m s     \u001b[0m\n",
      "     │\u001b[90m String                        \u001b[0m\u001b[90m Int64 \u001b[0m\u001b[90m Int64 \u001b[0m\u001b[90m Int64 \u001b[0m\u001b[90m Int64 \u001b[0m\u001b[90m Int64 \u001b[0m\u001b[90m Int64 \u001b[0m\n",
      "─────┼─────────────────────────────────────────────────────────────────────────\n",
      "   1 │ #1813. Potato Strips w/ onion      3      9      2      4      1      4\n",
      "   2 │ #2240. Criminal Mashed Potato     10      3      5      5      3      1\n",
      "   3 │ #13017. Charles' Potato Soup       7      1     11      2      4      4\n",
      "[0.004583268338289516, 0.011917689945324678, 0.005393015508397029]\n",
      "1\n"
     ]
    }
   ],
   "source": [
    "# Verify explotability\n",
    "for i in 1:10000\n",
    "    inds = sort([rand(inds_sel[1:120]) for i in 1:3])\n",
    "    rt = nash_env[inds]\n",
    "    ff = pick_best(library, rt)\n",
    "    ev = eval_battle_list(ff, rt)\n",
    "    if ev < 3\n",
    "        println(spuds_to_df(rt))\n",
    "        println(w[inds])\n",
    "        println(ev)\n",
    "    end\n",
    "end"
   ]
  },
  {
   "cell_type": "code",
   "execution_count": 60,
   "id": "ca23894e",
   "metadata": {},
   "outputs": [
    {
     "data": {
      "text/plain": [
       "4-element Vector{Spud}:\n",
       " Spud(\"#7981. Mashed Potato w/ ketchup\", 3, 1, 11, 2, 4, 3)\n",
       " Spud(\"#8650. Charles' Potato Bread\", 3, 2, 10, 2, 2, 3)\n",
       " Spud(\"#10705. Devious Baked Potato w/ ketchup\", 4, 3, 4, 5, 2, 2)\n",
       " Spud(\"#14443. Sneaky Potato Soup\", 8, 2, 2, 1, 5, 6)"
      ]
     },
     "execution_count": 60,
     "metadata": {},
     "output_type": "execute_result"
    }
   ],
   "source": [
    "rt = nash_env[sort([rand(1:n_nash) for i in 1:4])]"
   ]
  },
  {
   "cell_type": "code",
   "execution_count": 61,
   "id": "e1899929",
   "metadata": {},
   "outputs": [
    {
     "name": "stdout",
     "output_type": "stream",
     "text": [
      "Spud(\"#12249. Enlightened Mashed Potato\", 5, 6, 4, 1, 1, 1)\n",
      "4\n"
     ]
    },
    {
     "data": {
      "text/plain": [
       "-0.05855215021150282"
      ]
     },
     "execution_count": 61,
     "metadata": {},
     "output_type": "execute_result"
    }
   ],
   "source": [
    "ff = pick_best_rdmly(nash_env[inds_sel], rt, 99)\n",
    "ev = eval_battle_list(ff, rt)\n",
    "println(ff)\n",
    "println(ev)\n",
    "eval_battle_list2(ff, nash_env, w)"
   ]
  },
  {
   "cell_type": "code",
   "execution_count": 66,
   "id": "497f2f3a",
   "metadata": {},
   "outputs": [
    {
     "name": "stdout",
     "output_type": "stream",
     "text": [
      "Spud(\"#9053. Aquatic French Fries\", 3, 4, 4, 1, 4, 3)\n",
      "4\n"
     ]
    },
    {
     "data": {
      "text/plain": [
       "-0.1656790165129023"
      ]
     },
     "execution_count": 66,
     "metadata": {},
     "output_type": "execute_result"
    }
   ],
   "source": [
    "ff = pick_best_rdmly(library, rt, 99)\n",
    "ev = eval_battle_list(ff, rt)\n",
    "println(ff)\n",
    "println(ev)\n",
    "eval_battle_list2(ff, nash_env, w)"
   ]
  },
  {
   "cell_type": "code",
   "execution_count": 35,
   "id": "12acdb76",
   "metadata": {},
   "outputs": [
    {
     "name": "stdout",
     "output_type": "stream",
     "text": [
      "Spud(\"#14744. Battle Potato Soup\", 9, 1, 1, 13, 6, 7)\n"
     ]
    },
    {
     "data": {
      "text/plain": [
       "-0.6779939500016593"
      ]
     },
     "execution_count": 35,
     "metadata": {},
     "output_type": "execute_result"
    }
   ],
   "source": [
    "ff = rand(library)\n",
    "println(ff)\n",
    "eval_battle_list2(ff, nash_env, w)"
   ]
  },
  {
   "cell_type": "code",
   "execution_count": 23,
   "id": "faf95c79",
   "metadata": {},
   "outputs": [],
   "source": [
    "#cost(4,4,9,1,4,2)"
   ]
  },
  {
   "cell_type": "code",
   "execution_count": 24,
   "id": "4d0bc4c8",
   "metadata": {},
   "outputs": [],
   "source": [
    "#rt = library[[15918,21020,26191]]\n",
    "#eval_battle(Spud(\"\",4,4,9,1,4,1), rt[1])"
   ]
  },
  {
   "cell_type": "code",
   "execution_count": 25,
   "id": "17a5cad4",
   "metadata": {},
   "outputs": [],
   "source": [
    "#sum(sort(-w)[1:450])"
   ]
  },
  {
   "cell_type": "code",
   "execution_count": 26,
   "id": "c945e08d",
   "metadata": {},
   "outputs": [],
   "source": [
    "#sum(w)"
   ]
  },
  {
   "cell_type": "code",
   "execution_count": 27,
   "id": "209dc74d",
   "metadata": {},
   "outputs": [],
   "source": [
    "# # FP is slow to converge in the end\n",
    "# eps = 0.01/length(library)\n",
    "# nits = 20000\n",
    "# scores = wins./sum(counts)\n",
    "# w = counts./sum(counts)\n",
    "# 0"
   ]
  },
  {
   "cell_type": "code",
   "execution_count": 28,
   "id": "d50fc1f0",
   "metadata": {},
   "outputs": [],
   "source": [
    "# previous_score = maximum(scores)\n",
    "# for iter in 1:nits\n",
    "#     ind_winners = findall(wins .== maximum(wins))\n",
    "#     i = rand(ind_winners)\n",
    "#     w[i] += eps\n",
    "#     for j in 1:n_lose[i]\n",
    "#         i_w = i_lose[i, j]\n",
    "#         scores[i_w]+= eps\n",
    "#     end\n",
    "#     if mod1(iter, 2000) == 1\n",
    "#         scores = scores./sum(w)\n",
    "#         w = w./sum(w)\n",
    "#         if maximum(scores) > previous_score\n",
    "#             eps = eps/2\n",
    "#             println(eps)\n",
    "#             println()\n",
    "#             println()\n",
    "#         end\n",
    "#         previous_score = maximum(scores)\n",
    "#         mxv, mxi = findmax(wins)\n",
    "#         print(library[mxi])\n",
    "#         print(\" n:\")\n",
    "#         print(w[mxi])\n",
    "#         print(\" w:\")\n",
    "#         print(scores[mxi])\n",
    "#         println()\n",
    "#         mxv, mxi = findmax(counts)\n",
    "#         print(library[mxi])\n",
    "#         print(\" n:\")\n",
    "#         print(w[mxi])\n",
    "#         print(\" w:\")\n",
    "#         print(scores[mxi])\n",
    "#         println()\n",
    "#         println(maximum([eval_battle_list2(ff, library, w) for ff in library]))\n",
    "#         println()\n",
    "#     end\n",
    "# end\n"
   ]
  },
  {
   "cell_type": "code",
   "execution_count": null,
   "id": "34e127aa",
   "metadata": {},
   "outputs": [],
   "source": []
  }
 ],
 "metadata": {
  "kernelspec": {
   "display_name": "Julia 1.9.3",
   "language": "julia",
   "name": "julia-1.9"
  },
  "language_info": {
   "file_extension": ".jl",
   "mimetype": "application/julia",
   "name": "julia",
   "version": "1.9.3"
  }
 },
 "nbformat": 4,
 "nbformat_minor": 5
}

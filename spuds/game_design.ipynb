{
 "cells": [
  {
   "cell_type": "markdown",
   "id": "052be005",
   "metadata": {},
   "source": [
    "Design of a new game, Spuds"
   ]
  },
  {
   "cell_type": "code",
   "execution_count": 2,
   "id": "00c3dd50",
   "metadata": {},
   "outputs": [],
   "source": [
    "using Random\n",
    "using DataFrames\n",
    "using CSV\n",
    "using Statistics\n",
    "using Printf\n",
    "using LinearAlgebra"
   ]
  },
  {
   "cell_type": "code",
   "execution_count": 11,
   "id": "ec811f42",
   "metadata": {},
   "outputs": [
    {
     "data": {
      "text/plain": [
       "cost (generic function with 1 method)"
      ]
     },
     "execution_count": 11,
     "metadata": {},
     "output_type": "execute_result"
    }
   ],
   "source": [
    "struct Spud\n",
    "    name::String\n",
    "    h::Int16\n",
    "    f::Int16\n",
    "    l::Int16\n",
    "    p::Int16\n",
    "    r::Int16\n",
    "    s::Int16\n",
    "end\n",
    "\n",
    "const MXS = 100\n",
    "const MXV = 10\n",
    "const MNV = 1\n",
    "\n",
    "function cost(h::Int, f::Int, l::Int, p::Int, r::Int, s::Int)::Int\n",
    "    return h*(f+l) + f*(p+r+s)\n",
    "end"
   ]
  },
  {
   "cell_type": "code",
   "execution_count": 20,
   "id": "7b2ffa6b",
   "metadata": {},
   "outputs": [
    {
     "data": {
      "text/plain": [
       "eval_battle (generic function with 1 method)"
      ]
     },
     "execution_count": 20,
     "metadata": {},
     "output_type": "execute_result"
    }
   ],
   "source": [
    "function eval_battle(a::Spud, b::Spud)::Int\n",
    "    a_finds = a.f >= b.h\n",
    "    b_finds = b.f >= a.h\n",
    "    score_a = 4 * (a.p > b.p) + 3 * (a.r > b.r) + 2 * (a.s > b.s)\n",
    "    score_b = 4 * (a.p < b.p) + 3 * (a.r < b.r) + 2 * (a.s < b.s)\n",
    "    wrestle_win = sign(score_a - score_b)\n",
    "    if a_finds && b_finds\n",
    "        tiebreaker = 4 * wrestle_win + 2 * sign(a.l - b.l) + sign(a.h - b.h)\n",
    "        return sign(tiebreaker)\n",
    "    end\n",
    "    if a_finds && !b_finds\n",
    "        return 1\n",
    "    end\n",
    "    if !a_finds && b_finds\n",
    "        return -1\n",
    "    end\n",
    "    if !a_finds && !b_finds\n",
    "        tiebreaker = 4 * wrestle_win + 2 * sign(a.l - b.l) + sign(a.f - b.f)\n",
    "        return sign(tiebreaker)\n",
    "    end\n",
    "end\n"
   ]
  },
  {
   "cell_type": "code",
   "execution_count": 23,
   "id": "e3d51b8c",
   "metadata": {},
   "outputs": [
    {
     "name": "stdout",
     "output_type": "stream",
     "text": [
      "Spud(\"Spud #10842\", 10, 1, 7, 2, 10, 8)\n",
      "Spud(\"Spud #10911\", 10, 1, 8, 2, 6, 2)\n"
     ]
    },
    {
     "data": {
      "text/plain": [
       "1"
      ]
     },
     "execution_count": 23,
     "metadata": {},
     "output_type": "execute_result"
    }
   ],
   "source": [
    "a = rand(library)\n",
    "b = rand(library)\n",
    "println(a)\n",
    "println(b)\n",
    "eval_battle(a,b)"
   ]
  },
  {
   "cell_type": "code",
   "execution_count": 38,
   "id": "e336e4a8",
   "metadata": {},
   "outputs": [
    {
     "data": {
      "text/plain": [
       "random_name_and_stat (generic function with 1 method)"
      ]
     },
     "execution_count": 38,
     "metadata": {},
     "output_type": "execute_result"
    }
   ],
   "source": [
    "tab = CSV.read(\"census_yob2022_names.txt\", DataFrame, header = false)\n",
    "names = tab.Column1\n",
    "adjectives = CSV.read(\"adjectives.csv\", DataFrame)\n",
    "nouns = CSV.read(\"nouns.csv\", DataFrame)\n",
    "condiments = CSV.read(\"condiments.csv\", DataFrame)\n",
    "\n",
    "function random_name_and_stat()::Spud\n",
    "    vp = [0, 0, 0, 0, 0, 0]\n",
    "    nametype = rand([1,1,1,1,1,2,2,2,3])\n",
    "    name = \"\"\n",
    "    noun = \"\"\n",
    "    adj = \"\"\n",
    "    if nametype == 1 || nametype == 2 || nametype == 3\n",
    "        noun_i = rand(1:nrow(nouns))\n",
    "        noun = nouns[noun_i, :noun]\n",
    "        vp[1] = vp[1] + nouns[noun_i, :H]\n",
    "        vp[2] = vp[2] + nouns[noun_i, :F]\n",
    "        vp[3] = vp[3] + nouns[noun_i, :L]\n",
    "        vp[4] = vp[4] + nouns[noun_i, :P]    \n",
    "        vp[5] = vp[5] + nouns[noun_i, :R]\n",
    "        vp[6] = vp[6] + nouns[noun_i, :S]    \n",
    "    end\n",
    "    if nametype == 1 || nametype == 3\n",
    "        adj_i = rand(1:nrow(adjectives))\n",
    "        adj = adjectives[adj_i, :adjective]\n",
    "        vp[1] = vp[1] + adjectives[adj_i, :H]\n",
    "        vp[2] = vp[2] + adjectives[adj_i, :F]\n",
    "        vp[3] = vp[3] + adjectives[adj_i, :L]\n",
    "        vp[4] = vp[4] + adjectives[adj_i, :P]\n",
    "        vp[5] = vp[5] + adjectives[adj_i, :R]\n",
    "        vp[6] = vp[6] + adjectives[adj_i, :S]\n",
    "    end\n",
    "    if nametype == 2 || nametype == 3\n",
    "        cond_i = rand(1:nrow(condiments))\n",
    "        cond = condiments[cond_i, :condiment]\n",
    "        vp[1] = vp[1] + condiments[cond_i, :H]\n",
    "        vp[2] = vp[2] + condiments[cond_i, :F]\n",
    "        vp[3] = vp[3] + condiments[cond_i, :L]\n",
    "        vp[4] = vp[4] + condiments[cond_i, :P]\n",
    "        vp[5] = vp[5] + condiments[cond_i, :R]\n",
    "        vp[6] = vp[6] + condiments[cond_i, :S]\n",
    "        name = string(noun, \" with \", cond)\n",
    "    end\n",
    "    if nametype == 1\n",
    "        name = string(adj, \" \", noun)\n",
    "    end\n",
    "    if nametype == 2\n",
    "        name = string(noun, \" w/ \", cond)\n",
    "    end\n",
    "    if nametype == 3\n",
    "        name = string(adj, \" \", noun, \" with \", cond)\n",
    "    end\n",
    "    Spud(name, vp[1], vp[2], vp[3], vp[4], vp[5], vp[6])\n",
    "end"
   ]
  },
  {
   "cell_type": "code",
   "execution_count": 55,
   "id": "b6404e48",
   "metadata": {},
   "outputs": [
    {
     "data": {
      "text/plain": [
       "rand_rename (generic function with 2 methods)"
      ]
     },
     "execution_count": 55,
     "metadata": {},
     "output_type": "execute_result"
    }
   ],
   "source": [
    "function rand_rename(a::Spud, n_tries::Int = 100)::Spud\n",
    "    best_score = 0.0\n",
    "    best_b = random_name_and_stat()\n",
    "    for ii in 1:n_tries\n",
    "        b = random_name_and_stat()\n",
    "        b_norm = sqrt(b.h^2 + b.f^2 + b.l^2 + b.p^2 + b.r^2 + b.s^2)\n",
    "        score = (a.h * b.h + a.f * b.f + a.l * b.l + a.p * b.p + a.r * b.r + a.s * b.s)/b_norm\n",
    "        if score > best_score\n",
    "            best_score = score\n",
    "            best_b = b\n",
    "        end\n",
    "    end\n",
    "    return Spud(best_b.name, a.h, a.f, a.l, a.p, a.r, a.s)\n",
    "end"
   ]
  },
  {
   "cell_type": "code",
   "execution_count": 61,
   "id": "560e9539",
   "metadata": {},
   "outputs": [
    {
     "data": {
      "text/plain": [
       "random_team (generic function with 1 method)"
      ]
     },
     "execution_count": 61,
     "metadata": {},
     "output_type": "execute_result"
    }
   ],
   "source": [
    "function eval_battle_list(a::Spud, bs::Array{Spud})::Int\n",
    "    score = 0\n",
    "    for ii in 1:length(bs)\n",
    "        score = score + eval_battle(a, bs[ii])\n",
    "    end\n",
    "    return score\n",
    "end\n",
    "\n",
    "function eval_battle_list2(a::Spud, bs::Array{Spud}, w::Vector{Float64})::AbstractFloat\n",
    "    score = 0.0\n",
    "    for ii in 1:length(bs)\n",
    "        score = score + w[ii] * eval_battle(a, bs[ii])\n",
    "    end\n",
    "    return score\n",
    "end\n",
    "\n",
    "\n",
    "function pick_best(as::Array{Spud}, bs::Array{Spud})::Spud\n",
    "    bestscore = -999\n",
    "    bestf = as[1]\n",
    "    for ii in 1:length(as)\n",
    "        score = eval_battle_list(as[ii], bs)\n",
    "        if score > bestscore\n",
    "            bestscore = score\n",
    "            bestf = as[ii]\n",
    "        end\n",
    "    end\n",
    "    return bestf\n",
    "end\n",
    "\n",
    "function pick_best_rdmly(as::Array{Spud}, bs::Array{Spud}, ntries::Int)::Spud\n",
    "    bestscore = -999\n",
    "    bestf = rand(as)\n",
    "    for ii in 1:ntries\n",
    "        f = rand(as)\n",
    "        score = eval_battle_list(f, bs)\n",
    "        if score > bestscore\n",
    "            bestscore = score\n",
    "            bestf = f\n",
    "        end\n",
    "    end\n",
    "    return bestf\n",
    "end\n",
    "\n",
    "function pick_best_rdmly_g(g::Function, bs::Array{Spud}, ntries::Int)::Spud\n",
    "    bestscore = -999\n",
    "    bestf = g()\n",
    "    for ii in 1:ntries\n",
    "        f = g()\n",
    "        score = eval_battle_list(f, bs)\n",
    "        if score > bestscore\n",
    "            bestscore = score\n",
    "            bestf = f\n",
    "        end\n",
    "    end\n",
    "    return bestf\n",
    "end\n",
    "\n",
    "function spuds_to_df(as::Array{Spud})::DataFrame\n",
    "    names = Array{String}(undef, length(as))\n",
    "    hs = Array{Int}(undef, length(as))\n",
    "    fs = Array{Int}(undef, length(as))\n",
    "    ls = Array{Int}(undef, length(as))\n",
    "    ps = Array{Int}(undef, length(as))\n",
    "    rs = Array{Int}(undef, length(as))\n",
    "    ss = Array{Int}(undef, length(as))\n",
    "    for ii in 1:length(as)\n",
    "        names[ii] = as[ii].name\n",
    "        hs[ii] = as[ii].h\n",
    "        fs[ii] = as[ii].f\n",
    "        ls[ii] = as[ii].l\n",
    "        ps[ii] = as[ii].p\n",
    "        rs[ii] = as[ii].r\n",
    "        ss[ii] = as[ii].s\n",
    "    end\n",
    "    df = DataFrame(name = names, h = hs, f = fs, l = ls, t = ts)\n",
    "    return df\n",
    "end\n",
    "\n",
    "function fpart(x::AbstractFloat)::AbstractFloat\n",
    "  return x - trunc(x)\n",
    "end\n",
    "\n",
    "function eval_team_battle(as::Array{Spud}, bs::Array{Spud})::Int\n",
    "    a_i = 1\n",
    "    b_i = 1\n",
    "    while (a_i <= length(as)) && (b_i <= length(bs))\n",
    "        res = eval_battle(as[a_i], bs[b_i])\n",
    "        if res == 1\n",
    "            b_i = b_i + 1\n",
    "        else\n",
    "            a_i = a_i + 1\n",
    "            if res == 0\n",
    "                b_i = b_i + 1\n",
    "            end\n",
    "        end\n",
    "    end\n",
    "    a_out = (a_i > length(as))\n",
    "    b_out = (b_i > length(as))\n",
    "    if a_out\n",
    "        if b_out\n",
    "            return 0\n",
    "        else\n",
    "            return -1\n",
    "        end\n",
    "    else\n",
    "        return 1\n",
    "    end\n",
    "end\n",
    "\n",
    "function compare_generator(f1, f2, limit)\n",
    "    a_i = 1\n",
    "    b_i = 1\n",
    "    f_a = f1()\n",
    "    f_b = f2()\n",
    "    while (a_i < limit) && (b_i < limit)\n",
    "        res = eval_battle(f_a, f_b)\n",
    "        if res != -1\n",
    "            b_i = b_i + 1\n",
    "            f_b = f2()\n",
    "        end\n",
    "        if res != 1\n",
    "            a_i = a_i + 1\n",
    "            f_a = f1()\n",
    "        end\n",
    "    end\n",
    "    return (a_i/limit, b_i/limit)\n",
    "end\n",
    "\n",
    "function random_team(f::Function, team_size::Int)::Array{Spud}\n",
    "    team = Array{Spud}(undef, team_size)\n",
    "    for i in 1:team_size\n",
    "        team[i] = f()\n",
    "    end\n",
    "    return team\n",
    "end"
   ]
  },
  {
   "cell_type": "code",
   "execution_count": 73,
   "id": "3febb950",
   "metadata": {},
   "outputs": [
    {
     "data": {
      "text/plain": [
       "11450"
      ]
     },
     "execution_count": 73,
     "metadata": {},
     "output_type": "execute_result"
    }
   ],
   "source": [
    "n_spuds = 11450 # determined after running this code\n",
    "library = Array{Spud}(undef, n_spuds)\n",
    "spud_i = 0\n",
    "for h in MNV:MXV\n",
    "    if (cost(h, MXV, MXV, MXV, MXV, MXV) >= MXS) && (cost(h, MNV, MNV, MNV, MNV, MNV) < MXS)\n",
    "        for f in MNV:MXV\n",
    "            if (cost(h, f, MXV, MXV, MXV, MXV) >= MXS) && (cost(h, f, MNV, MNV, MNV, MNV) < MXS)\n",
    "                for l in MNV:MXV\n",
    "                    if (cost(h, f, l, MXV, MXV, MXV) >= MXS) && (cost(h, f, l, MNV, MNV, MNV) < MXS)\n",
    "                        for p in MNV:MXV\n",
    "                            if (cost(h, f, l, p, MXV, MXV) >= MXS) && (cost(h, f, l, p, MNV, MNV) < MXS)\n",
    "                                for r in MNV:MXV\n",
    "                                    if (cost(h, f, l, p, r, MXV) >= MXS) && (cost(h, f, l, p, r, MNV) < MXS)\n",
    "                                        for t in MNV:MXV\n",
    "                                            if (cost(h,f,l,p,r,t) <= MXS)\n",
    "                                                check_f = (h == MXV) || (cost(h+1,f,l,p,r,t) > MXS)\n",
    "                                                check_h = (f == MXV) || (cost(h,f+1,l,p,r,t) > MXS)\n",
    "                                                check_l = (l == MXV) || (cost(h,f,l+1,p,r,t) > MXS)\n",
    "                                                check_prs = (p+r+t == 3*MXV) || (cost(h,f,l,p+1,r,t) > MXS)\n",
    "                                                if check_h && check_f && check_l && check_prs\n",
    "                                                    spud_i += 1\n",
    "                                                    randname = rand_rename(Spud(\" \",h,f,l,p,r,t)).name\n",
    "                                                    name = string(\"#\", @sprintf(\"%i\", spud_i), \". \", randname)\n",
    "                                                    library[spud_i] = Spud(name,h,f,l,p,r,t)\n",
    "                                                end\n",
    "                                            end\n",
    "                                        end\n",
    "                                    end\n",
    "                                end                        \n",
    "                            end\n",
    "                        end                        \n",
    "                    end\n",
    "                end\n",
    "            end\n",
    "        end\n",
    "    end\n",
    "end\n",
    "spud_i"
   ]
  },
  {
   "cell_type": "code",
   "execution_count": 74,
   "id": "f86f285e",
   "metadata": {},
   "outputs": [
    {
     "data": {
      "text/plain": [
       "11450-element Vector{Spud}:\n",
       " Spud(\"#1. Dangerous Home Fries\", 1, 3, 7, 10, 10, 10)\n",
       " Spud(\"#2. Battle Tater Tots\", 1, 3, 10, 9, 10, 10)\n",
       " Spud(\"#3. Crazy Home Fries\", 1, 3, 10, 10, 9, 10)\n",
       " Spud(\"#4. Hungry Home Fries with ketchup\", 1, 3, 10, 10, 10, 9)\n",
       " Spud(\"#5. Hungry Tater Tots\", 1, 4, 4, 3, 10, 10)\n",
       " Spud(\"#6. Hungry Chips\", 1, 4, 4, 4, 9, 10)\n",
       " Spud(\"#7. Aquatic Home Fries\", 1, 4, 4, 4, 10, 9)\n",
       " Spud(\"#8. Hungry Raw Potato\", 1, 4, 4, 5, 8, 10)\n",
       " Spud(\"#9. Battle Tater Tots\", 1, 4, 4, 5, 9, 9)\n",
       " Spud(\"#10. Friendly Home Fries\", 1, 4, 4, 5, 10, 8)\n",
       " Spud(\"#11. Angry Tater Tots\", 1, 4, 4, 6, 7, 10)\n",
       " Spud(\"#12. Battle Tater Tots\", 1, 4, 4, 6, 8, 9)\n",
       " Spud(\"#13. Battle Tater Tots\", 1, 4, 4, 6, 9, 8)\n",
       " ⋮\n",
       " Spud(\"#11439. Potato Soup w/ onion\", 10, 5, 1, 5, 1, 2)\n",
       " Spud(\"#11440. Potato Soup w/ scallion\", 10, 5, 2, 1, 1, 4)\n",
       " Spud(\"#11441. Potato Soup w/ scallion\", 10, 5, 2, 1, 2, 3)\n",
       " Spud(\"#11442. Sneaky Mashed Potato\", 10, 5, 2, 1, 3, 2)\n",
       " Spud(\"#11443. Devious Potato Soup\", 10, 5, 2, 2, 1, 3)\n",
       " Spud(\"#11444. Sneaky Potato Strips\", 10, 5, 2, 2, 2, 2)\n",
       " Spud(\"#11445. Potato Soup w/ scallion\", 10, 5, 2, 3, 1, 2)\n",
       " Spud(\"#11446. Potato Soup w/ scallion\", 10, 5, 3, 1, 1, 2)\n",
       " Spud(\"#11447. Potato Soup w/ onion\", 10, 6, 1, 1, 1, 3)\n",
       " Spud(\"#11448. Devious Mashed Potato\", 10, 6, 1, 1, 2, 2)\n",
       " Spud(\"#11449. Potato Soup w/ onion\", 10, 6, 1, 2, 1, 2)\n",
       " Spud(\"#11450. Potato Soup w/ scallion\", 10, 6, 2, 1, 1, 1)"
      ]
     },
     "execution_count": 74,
     "metadata": {},
     "output_type": "execute_result"
    }
   ],
   "source": [
    "library"
   ]
  },
  {
   "cell_type": "markdown",
   "id": "68e3cf22",
   "metadata": {},
   "source": [
    "## FP to compute Nash distribution"
   ]
  },
  {
   "cell_type": "code",
   "execution_count": 75,
   "id": "e1b98497",
   "metadata": {},
   "outputs": [],
   "source": [
    "# Check that there are no ties in spudland\n",
    "for i in 1:n_spuds\n",
    "    for j in 1:n_spuds\n",
    "        if i != j && eval_battle(library[i], library[j]) == 0\n",
    "            println(library[i])\n",
    "            println(library[j])\n",
    "            println()\n",
    "        end\n",
    "    end\n",
    "end"
   ]
  },
  {
   "cell_type": "code",
   "execution_count": 77,
   "id": "78baa903",
   "metadata": {},
   "outputs": [],
   "source": [
    "i_lose = Array{Int}(undef, (n_spuds, n_spuds))\n",
    "n_lose = Array{Int}(undef, n_spuds)\n",
    "for i in 1:n_spuds\n",
    "    n_lose[i] = 0\n",
    "    ff = library[i]\n",
    "    for j in 1:n_spuds\n",
    "        if eval_battle(ff, library[j]) ==-1\n",
    "            n_lose[i] += 1\n",
    "            i_lose[i, n_lose[i]] = j\n",
    "        end\n",
    "    end\n",
    "end"
   ]
  },
  {
   "cell_type": "code",
   "execution_count": 78,
   "id": "63d2b34e",
   "metadata": {},
   "outputs": [],
   "source": [
    "# initialize FP with 1 of each\n",
    "counts = [0 for i in 1:n_spuds]\n",
    "wins = [0 for i in 1:n_spuds]\n",
    "for i in 1:n_spuds\n",
    "    counts[i] += 1\n",
    "    for j in 1:n_lose[i]\n",
    "        i_w = i_lose[i, j]\n",
    "        wins[i_w]+= 1\n",
    "    end\n",
    "end"
   ]
  },
  {
   "cell_type": "code",
   "execution_count": 138,
   "id": "b9ee5863",
   "metadata": {},
   "outputs": [
    {
     "name": "stdout",
     "output_type": "stream",
     "text": [
      "Spud(\"#7940. Potato Strips w/ onion\", 6, 10, 1, 1, 1, 1) n:12222 w:88587\n",
      "Spud(\"#10824. Dangerous Potato Bread\", 10, 1, 6, 10, 10, 10) n:20630 w:88585\n",
      "\n",
      "Spud(\"#7940. Potato Strips w/ onion\", 6, 10, 1, 1, 1, 1) n:12990 w:93229\n",
      "Spud(\"#10824. Dangerous Potato Bread\", 10, 1, 6, 10, 10, 10) n:21802 w:93226\n",
      "\n",
      "Spud(\"#10824. Dangerous Potato Bread\", 10, 1, 6, 10, 10, 10) n:22984 w:97879\n",
      "Spud(\"#10824. Dangerous Potato Bread\", 10, 1, 6, 10, 10, 10) n:22984 w:97879\n",
      "\n",
      "Spud(\"#5004. Battle Chips\", 5, 2, 6, 10, 10, 10) n:3107 w:102536\n",
      "Spud(\"#10824. Dangerous Potato Bread\", 10, 1, 6, 10, 10, 10) n:24173 w:102536\n",
      "\n",
      "Spud(\"#9949. Potato Soup w/ onion\", 8, 5, 1, 4, 2, 4) n:641 w:107185\n",
      "Spud(\"#10824. Dangerous Potato Bread\", 10, 1, 6, 10, 10, 10) n:25340 w:107178\n",
      "\n",
      "0.10038873204751453\n"
     ]
    },
    {
     "data": {
      "text/plain": [
       "227406"
      ]
     },
     "execution_count": 138,
     "metadata": {},
     "output_type": "execute_result"
    }
   ],
   "source": [
    "nits = 250000\n",
    "for iter in 1:nits\n",
    "    ind_winners = findall(wins .== maximum(wins))\n",
    "    for i in ind_winners\n",
    "        counts[i] += 1\n",
    "        for j in 1:n_lose[i]\n",
    "            i_w = i_lose[i, j]\n",
    "            wins[i_w]+= 1\n",
    "        end\n",
    "    end\n",
    "    if mod1(iter, 10000) == 1\n",
    "        mxv, mxi = findmax(wins)\n",
    "        print(library[mxi])\n",
    "        print(\" n:\")\n",
    "        print(counts[mxi])\n",
    "        print(\" w:\")\n",
    "        print(wins[mxi])\n",
    "        println()\n",
    "        mxv, mxi = findmax(counts)\n",
    "        print(library[mxi])\n",
    "        print(\" n:\")\n",
    "        print(counts[mxi])\n",
    "        print(\" w:\")\n",
    "        print(wins[mxi])\n",
    "        println()\n",
    "        println()\n",
    "    end\n",
    "end\n",
    "\n",
    "w = counts./sum(counts)\n",
    "println(maximum([eval_battle_list2(ff, library, w) for ff in library]))\n",
    "sum(counts)"
   ]
  },
  {
   "cell_type": "code",
   "execution_count": 133,
   "id": "209dc74d",
   "metadata": {},
   "outputs": [
    {
     "data": {
      "text/plain": [
       "0"
      ]
     },
     "execution_count": 133,
     "metadata": {},
     "output_type": "execute_result"
    }
   ],
   "source": [
    "# FP is slow to converge in the end\n",
    "eps = 0.01/length(library)\n",
    "nits = 20000\n",
    "scores = wins./sum(counts)\n",
    "w = counts./sum(counts)\n",
    "0"
   ]
  },
  {
   "cell_type": "code",
   "execution_count": 135,
   "id": "d50fc1f0",
   "metadata": {},
   "outputs": [
    {
     "name": "stdout",
     "output_type": "stream",
     "text": [
      "Spud(\"#8260. Criminal Home Fries with onion\", 7, 3, 1, 10, 10, 4) n:0.011885673609169086 w:0.4939630133566679\n",
      "Spud(\"#10824. Dangerous Potato Bread\", 10, 1, 6, 10, 10, 10) n:0.11444501336320011 w:0.4974163920328971\n",
      "0.10927779742910886\n",
      "\n",
      "8.528930131004367e-10\n",
      "\n",
      "\n",
      "Spud(\"#8260. Criminal Home Fries with onion\", 7, 3, 1, 10, 10, 4) n:0.011889044620889317 w:0.4939613281720038\n",
      "Spud(\"#10824. Dangerous Potato Bread\", 10, 1, 6, 10, 10, 10) n:0.11444462292712253 w:0.4974181066272091\n",
      "0.10928083618170967\n",
      "\n",
      "4.2644650655021836e-10\n",
      "\n",
      "\n",
      "Spud(\"#8260. Criminal Home Fries with onion\", 7, 3, 1, 10, 10, 4) n:0.011890730123874411 w:0.4939604855811126\n",
      "Spud(\"#10824. Dangerous Potato Bread\", 10, 1, 6, 10, 10, 10) n:0.11444442770941757 w:0.49741896392296187\n",
      "0.10928235555542448\n",
      "\n",
      "2.1322325327510918e-10\n",
      "\n",
      "\n",
      "Spud(\"#8260. Criminal Home Fries with onion\", 7, 3, 1, 10, 10, 4) n:0.011891572874648145 w:0.4939600642860248\n",
      "Spud(\"#10824. Dangerous Potato Bread\", 10, 1, 6, 10, 10, 10) n:0.11444433010064799 w:0.4974193925704156\n",
      "0.10928311524161899\n",
      "\n",
      "1.0661162663755459e-10\n",
      "\n",
      "\n",
      "Spud(\"#8260. Criminal Home Fries with onion\", 7, 3, 1, 10, 10, 4) n:0.011891994249855313 w:0.4939598536385705\n",
      "Spud(\"#10824. Dangerous Potato Bread\", 10, 1, 6, 10, 10, 10) n:0.11444428129628395 w:0.49741960689410636\n",
      "0.10928349508457742\n",
      "\n",
      "5.3305813318777295e-11\n",
      "\n",
      "\n",
      "Spud(\"#8260. Criminal Home Fries with onion\", 7, 3, 1, 10, 10, 4) n:0.011892204937412235 w:0.4939597483148656\n",
      "Spud(\"#10824. Dangerous Potato Bread\", 10, 1, 6, 10, 10, 10) n:0.1144442568941071 w:0.4974197140558732\n",
      "0.1092836850060397\n",
      "\n",
      "2.6652906659388648e-11\n",
      "\n",
      "\n",
      "Spud(\"#8260. Criminal Home Fries with onion\", 7, 3, 1, 10, 10, 4) n:0.011892310281179458 w:0.4939596956530185\n",
      "Spud(\"#10824. Dangerous Potato Bread\", 10, 1, 6, 10, 10, 10) n:0.11444424469301992 w:0.49741976763675066\n",
      "0.10928377996673508\n",
      "\n",
      "1.3326453329694324e-11\n",
      "\n",
      "\n",
      "Spud(\"#8260. Criminal Home Fries with onion\", 7, 3, 1, 10, 10, 4) n:0.011892362953062034 w:0.4939596693220979\n",
      "Spud(\"#10824. Dangerous Potato Bread\", 10, 1, 6, 10, 10, 10) n:0.114444238592477 w:0.4974197944271895\n",
      "0.10928382744709568\n",
      "\n",
      "6.663226664847162e-12\n",
      "\n",
      "\n",
      "Spud(\"#8260. Criminal Home Fries with onion\", 7, 3, 1, 10, 10, 4) n:0.011892389289000887 w:0.493959656156638\n",
      "Spud(\"#10824. Dangerous Potato Bread\", 10, 1, 6, 10, 10, 10) n:0.11444423554220563 w:0.4974198078224086\n",
      "0.10928385118724357\n",
      "\n",
      "3.331613332423581e-12\n",
      "\n",
      "\n",
      "Spud(\"#8260. Criminal Home Fries with onion\", 7, 3, 1, 10, 10, 4) n:0.011892402456971844 w:0.4939596495739069\n",
      "Spud(\"#10824. Dangerous Potato Bread\", 10, 1, 6, 10, 10, 10) n:0.1144442340170697 w:0.4974198145200168\n",
      "0.10928386305733606\n",
      "\n"
     ]
    }
   ],
   "source": [
    "previous_score = maximum(scores)\n",
    "for iter in 1:nits\n",
    "    ind_winners = findall(wins .== maximum(wins))\n",
    "    i = rand(ind_winners)\n",
    "    w[i] += eps\n",
    "    for j in 1:n_lose[i]\n",
    "        i_w = i_lose[i, j]\n",
    "        scores[i_w]+= eps\n",
    "    end\n",
    "    if mod1(iter, 2000) == 1\n",
    "        scores = scores./sum(w)\n",
    "        w = w./sum(w)\n",
    "        if maximum(scores) > previous_score\n",
    "            eps = eps/2\n",
    "            println(eps)\n",
    "            println()\n",
    "            println()\n",
    "        end\n",
    "        previous_score = maximum(scores)\n",
    "        mxv, mxi = findmax(wins)\n",
    "        print(library[mxi])\n",
    "        print(\" n:\")\n",
    "        print(w[mxi])\n",
    "        print(\" w:\")\n",
    "        print(scores[mxi])\n",
    "        println()\n",
    "        mxv, mxi = findmax(counts)\n",
    "        print(library[mxi])\n",
    "        print(\" n:\")\n",
    "        print(w[mxi])\n",
    "        print(\" w:\")\n",
    "        print(scores[mxi])\n",
    "        println()\n",
    "        println(maximum([eval_battle_list2(ff, library, w) for ff in library]))\n",
    "        println()\n",
    "    end\n",
    "end\n"
   ]
  },
  {
   "cell_type": "code",
   "execution_count": null,
   "id": "34e127aa",
   "metadata": {},
   "outputs": [],
   "source": []
  }
 ],
 "metadata": {
  "kernelspec": {
   "display_name": "Julia 1.9.3",
   "language": "julia",
   "name": "julia-1.9"
  },
  "language_info": {
   "file_extension": ".jl",
   "mimetype": "application/julia",
   "name": "julia",
   "version": "1.9.3"
  }
 },
 "nbformat": 4,
 "nbformat_minor": 5
}

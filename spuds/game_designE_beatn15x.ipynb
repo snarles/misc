{
 "cells": [
  {
   "cell_type": "markdown",
   "id": "052be005",
   "metadata": {},
   "source": [
    "Beat-n game with Nash-env derived from 10 pt limit and augmented with higher-cost sub-Nash Spuds."
   ]
  },
  {
   "cell_type": "markdown",
   "id": "72817bb1",
   "metadata": {},
   "source": [
    "## Spud code"
   ]
  },
  {
   "cell_type": "code",
   "execution_count": 1,
   "id": "494818e8",
   "metadata": {},
   "outputs": [],
   "source": [
    "using Random\n",
    "using DataFrames\n",
    "using CSV\n",
    "using DelimitedFiles\n",
    "using Statistics\n",
    "using Printf\n",
    "using LinearAlgebra\n",
    "using Dates"
   ]
  },
  {
   "cell_type": "code",
   "execution_count": 2,
   "id": "45e21e7f",
   "metadata": {},
   "outputs": [],
   "source": [
    "struct Spud\n",
    "    name::String\n",
    "    h::Int64\n",
    "    f::Int64\n",
    "    l::Int64\n",
    "    p::Int64\n",
    "    r::Int64\n",
    "    s::Int64\n",
    "    a1::Int64\n",
    "end"
   ]
  },
  {
   "cell_type": "code",
   "execution_count": 3,
   "id": "eef1262d",
   "metadata": {},
   "outputs": [
    {
     "data": {
      "text/plain": [
       "Dict{Int64, Function} with 10 entries:\n",
       "  50  => fx_melodious\n",
       "  20  => fx_reciprocating\n",
       "  110 => fx_otaku\n",
       "  10  => fx_imitative\n",
       "  90  => fx_iconoclast\n",
       "  30  => fx_romantic\n",
       "  120 => fx_sincere\n",
       "  130 => fx_cowardly\n",
       "  40  => fx_bibliophile\n",
       "  100 => fx_intoxicating"
      ]
     },
     "execution_count": 3,
     "metadata": {},
     "output_type": "execute_result"
    }
   ],
   "source": [
    "const ability_none = 999\n",
    "const ability_imitative = 10\n",
    "const ability_reciprocating = 20\n",
    "const ability_romantic = 30\n",
    "const ability_bibliophile = 40\n",
    "const ability_melodious = 50\n",
    "const ability_iconoclast = 90\n",
    "const ability_intoxicating = 100\n",
    "const ability_otaku = 110\n",
    "const ability_sincere = 120\n",
    "const ability_cowardly = 130\n",
    "\n",
    "\n",
    "ability_name = Dict(\n",
    "    ability_imitative => \"Imitative*\",\n",
    "    ability_reciprocating => \"Reciprocating*\",\n",
    "    ability_romantic => \"Romantic*\",\n",
    "    ability_bibliophile => \"Bibliophile*\",\n",
    "    ability_melodious => \"Melodious*\",\n",
    "    ability_iconoclast => \"Iconoclast*\",\n",
    "    ability_intoxicating => \"Intoxicating*\",\n",
    "    ability_otaku => \"Otaku*\",\n",
    "    ability_sincere => \"Sincere*\",\n",
    "    ability_cowardly => \"Cowardly*\",\n",
    ")\n",
    "\n",
    "function fx_imitative(a::Spud, b::Spud)\n",
    "    if b.h > a.h\n",
    "        a = Spud(a.name, b.h, a.f, a.l, a.p, a.r, a.s, a.a1)\n",
    "    end\n",
    "    return [a, b]\n",
    "end\n",
    "\n",
    "function fx_reciprocating(a::Spud, b::Spud)\n",
    "    if b.f > a.f\n",
    "        a = Spud(a.name, a.h, b.f, a.l, a.p, a.r, a.s, a.a1)\n",
    "    end\n",
    "    return [a, b]\n",
    "end\n",
    "\n",
    "function fx_romantic(a::Spud, b::Spud)\n",
    "    if b.p > a.l\n",
    "        a = Spud(a.name, a.h, a.f, b.p, a.p, a.r, a.s, a.a1)\n",
    "    end\n",
    "    return [a, b]\n",
    "end\n",
    "\n",
    "function fx_bibliophile(a::Spud, b::Spud)\n",
    "    if b.r > a.l\n",
    "        a = Spud(a.name, a.h, a.f, b.r, a.p, a.r, a.s, a.a1)\n",
    "    end\n",
    "    return [a, b]\n",
    "end\n",
    "\n",
    "function fx_melodious(a::Spud, b::Spud)\n",
    "    if b.p > b.r && b.p > b.s\n",
    "        a = Spud(a.name, a.h, a.f, a.r, a.p + 3, a.r, a.s, a.a1)\n",
    "    end\n",
    "    return [a, b]\n",
    "end\n",
    "\n",
    "function fx_iconoclast(a::Spud, b::Spud)\n",
    "    v = sum([b.h,b.f,b.l,b.p,b.r,b.s] .== MXV)\n",
    "    if v >= 3\n",
    "        aa = [a.h, a.f, a.l, a.p, a.r, a.s]\n",
    "        aa2 = map(x -> div(x, 4), aa)\n",
    "        r = aa .+ aa2\n",
    "        a = Spud(a.name, r[1], r[2], r[3], r[4], r[5], r[6], a.a1)\n",
    "    end\n",
    "    return [a, b]\n",
    "end\n",
    "\n",
    "function fx_intoxicating(a::Spud, b::Spud)\n",
    "    b = Spud(b.name, b.h, b.f, b.l, b.p, b.r, b.f, b.a1)\n",
    "    return [a, b]\n",
    "end\n",
    "\n",
    "function fx_otaku(a::Spud, b::Spud)\n",
    "    b = Spud(b.name, b.h, b.f, b.l, b.p, b.h, b.s, b.a1)\n",
    "    return [a, b]\n",
    "end\n",
    "\n",
    "\n",
    "function fx_sincere(a::Spud, b::Spud)\n",
    "    b = Spud(b.name, b.h, b.f + 2, b.f + 2, b.p, b.r, b.s, b.a1)\n",
    "    return [a, b]\n",
    "end\n",
    "\n",
    "function fx_cowardly(a::Spud, b::Spud)\n",
    "    if (a.p < b.p) || (a.r < b.r) || (a.s < b.s)\n",
    "        a = Spud(a.name, a.h + 2, a.f - 2, a.l, a.p, a.r, a.s, a.a1)\n",
    "    end\n",
    "    return [a, b]\n",
    "end\n",
    "\n",
    "ability_fx = Dict(\n",
    "    ability_imitative => fx_imitative,\n",
    "    ability_reciprocating => fx_reciprocating,\n",
    "    ability_romantic => fx_romantic,\n",
    "    ability_bibliophile => fx_bibliophile,\n",
    "    ability_melodious => fx_melodious,\n",
    "    ability_iconoclast => fx_iconoclast,\n",
    "    ability_intoxicating => fx_intoxicating,\n",
    "    ability_otaku => fx_otaku,\n",
    "    ability_sincere => fx_sincere,\n",
    "    ability_cowardly => fx_cowardly,\n",
    ")"
   ]
  },
  {
   "cell_type": "code",
   "execution_count": 4,
   "id": "950e076e",
   "metadata": {},
   "outputs": [
    {
     "data": {
      "text/plain": [
       "1"
      ]
     },
     "execution_count": 4,
     "metadata": {},
     "output_type": "execute_result"
    }
   ],
   "source": [
    "#const MXS = 100\n",
    "const MXV = 9\n",
    "const MNV = 1\n",
    "\n",
    "# function cost(h::Int64, f::Int64, l::Int64, p::Int64, r::Int64, s::Int64)::Int64\n",
    "#     #return h*(f+l-2*MNV) + f*(p+r+s-3*MNV) + h+f+l+p+r+s-6*MNV\n",
    "#     return h*(f+l) + f*(p+r+s)\n",
    "# end\n",
    "\n",
    "# function cost(a::Spud)::Int64\n",
    "#     if a.a1 == ability_none\n",
    "#         return cost(a.h, a.f, a.l, a.p, a.r, a.s)\n",
    "#     else\n",
    "#         return cost(a.h, a.f, a.l, a.p, a.r, a.s) + ability_cost[a.a1](a)\n",
    "#     end\n",
    "# end"
   ]
  },
  {
   "cell_type": "code",
   "execution_count": 5,
   "id": "ac830f74",
   "metadata": {},
   "outputs": [
    {
     "data": {
      "text/plain": [
       "eval_melee (generic function with 3 methods)"
      ]
     },
     "execution_count": 5,
     "metadata": {},
     "output_type": "execute_result"
    }
   ],
   "source": [
    "function compare_int_list(as::Vector{Int64}, bs::Vector{Int64}, tiebreaker::Int64 = 0)::Int64\n",
    "    n = min(length(as), length(bs))\n",
    "    for i in 1:n\n",
    "        if as[i] != bs[i]\n",
    "            return sign(as[i] - bs[i])\n",
    "        end\n",
    "    end\n",
    "    return tiebreaker\n",
    "end\n",
    "\n",
    "function spud_h_seq(a::Spud)::Vector{Int64}\n",
    "    return [a.h, a.s, a.r, a.p, a.l, a.f]\n",
    "end\n",
    "\n",
    "function spud_f_seq(a::Spud)::Vector{Int64}\n",
    "    return [a.f, a.s, a.r, a.p, a.l, a.h]\n",
    "end\n",
    "\n",
    "function spud_l_seq(a::Spud)::Vector{Int64}\n",
    "    return [a.l]\n",
    "end\n",
    "\n",
    "function spud_p_seq(a::Spud)::Vector{Int64}\n",
    "    return [a.p, a.l]\n",
    "end\n",
    "\n",
    "function spud_r_seq(a::Spud)::Vector{Int64}\n",
    "    return [a.r, a.f]\n",
    "end\n",
    "\n",
    "function spud_s_seq(a::Spud)::Vector{Int64}\n",
    "    return [a.s, a.h]\n",
    "end\n",
    "\n",
    "function spud_utb_seq(a::Spud)::Vector{Int64}\n",
    "    return [a.a1, a.h, a.f, a.l, a.p, a.r, a.s]\n",
    "end\n",
    "\n",
    "function eval_finds(a::Spud, b::Spud, tiebreaker::Int64 = 0)::Int64\n",
    "    ev = compare_int_list(spud_f_seq(a), spud_h_seq(b), tiebreaker)\n",
    "    ans = ev\n",
    "end\n",
    "\n",
    "function eval_melee(a::Spud, b::Spud, tiebreaker1::Int64 = 0, tiebreaker2::Int64 = 0)::Int64\n",
    "    comp_p = compare_int_list(spud_p_seq(a), spud_p_seq(b), tiebreaker1)\n",
    "    comp_r = compare_int_list(spud_r_seq(a), spud_r_seq(b), tiebreaker1)\n",
    "    comp_s = compare_int_list(spud_s_seq(a), spud_s_seq(b), tiebreaker1)\n",
    "    ev = 4 * comp_p + 3 * comp_r + 2 * comp_s\n",
    "    return sign(ev + (1-abs(ev))*tiebreaker2)\n",
    "end\n",
    "\n"
   ]
  },
  {
   "cell_type": "code",
   "execution_count": 6,
   "id": "f603612d",
   "metadata": {},
   "outputs": [
    {
     "data": {
      "text/plain": [
       "eval_battle (generic function with 1 method)"
      ]
     },
     "execution_count": 6,
     "metadata": {},
     "output_type": "execute_result"
    }
   ],
   "source": [
    "\n",
    "\n",
    "function apply_ability(a::Spud, b::Spud)::Array{Spud}\n",
    "    if a.a1 == ability_none\n",
    "        return [a, b]\n",
    "    else\n",
    "        return ability_fx[a.a1](a, b)\n",
    "    end\n",
    "end\n",
    "\n",
    "\n",
    "function eval_battle(a::Spud, b::Spud)::Int64\n",
    "    utb = compare_int_list(spud_utb_seq(a), spud_utb_seq(b), 0) # universal tiebreaker\n",
    "    if utb == 0\n",
    "        return 0\n",
    "    end\n",
    "    a_ability_first = compare_int_list([a.a1, a.s], [b.a1, b.s], utb)\n",
    "    if a_ability_first ==1\n",
    "        if a.a1 != ability_none\n",
    "            res = apply_ability(a, b)\n",
    "            a = res[1]\n",
    "            b = res[2]\n",
    "        end\n",
    "        if b.a1 != ability_none\n",
    "            res = apply_ability(b, a)\n",
    "            b = res[1]\n",
    "            a = res[2]\n",
    "        end\n",
    "    end\n",
    "    if a_ability_first == -1\n",
    "        if b.a1 != ability_none\n",
    "            res = apply_ability(b, a)\n",
    "            b = res[1]\n",
    "            a = res[2]\n",
    "        end\n",
    "        if a.a1 != ability_none\n",
    "            res = apply_ability(a, b)\n",
    "            a = res[1]\n",
    "            b = res[2]\n",
    "        end\n",
    "    end\n",
    "    #println(a)\n",
    "    #println(b)\n",
    "    a_finds = eval_finds(a, b, utb)==1\n",
    "    b_finds = eval_finds(b, a, utb)==1\n",
    "    melee_win = eval_melee(a, b, 0, 0)\n",
    "    luck_win = compare_int_list([a.l, melee_win], [b.l, -melee_win], 0)\n",
    "    if melee_win ==1 && luck_win ==1\n",
    "        return 1\n",
    "    end\n",
    "    if melee_win == -1 && luck_win == -1\n",
    "        return -1\n",
    "    end\n",
    "    if a_finds && b_finds\n",
    "        return melee_win\n",
    "    end\n",
    "    if a_finds && !b_finds\n",
    "        return 1\n",
    "    end\n",
    "    if !a_finds && b_finds\n",
    "        return -1\n",
    "    end\n",
    "    if !a_finds && !b_finds\n",
    "        return luck_win\n",
    "    end\n",
    "end"
   ]
  },
  {
   "cell_type": "code",
   "execution_count": 7,
   "id": "40b9dc47",
   "metadata": {},
   "outputs": [
    {
     "data": {
      "text/plain": [
       "random_name_and_stat (generic function with 2 methods)"
      ]
     },
     "execution_count": 7,
     "metadata": {},
     "output_type": "execute_result"
    }
   ],
   "source": [
    "tab = CSV.read(\"census_yob2022_names.txt\", DataFrame, header = false)\n",
    "names = tab.Column1\n",
    "adjectives = CSV.read(\"adjectives.csv\", DataFrame)\n",
    "nouns = CSV.read(\"nouns.csv\", DataFrame)\n",
    "jobs = CSV.read(\"jobs.csv\", DataFrame)\n",
    "\n",
    "\n",
    "const mult_noun = 1\n",
    "const mult_adj = 2\n",
    "const mult_job = 3\n",
    "\n",
    "\n",
    "function random_name_and_stat(ability::Int64 = ability_none)::Spud\n",
    "    vp = [0, 0, 0, 0, 0, 0]\n",
    "    #nametype = rand([1,1,1,1,1,2,2,2,3])\n",
    "    name = \"\"\n",
    "    noun = \"\"\n",
    "    adj = \"\"\n",
    "    noun_i = rand(1:nrow(nouns))\n",
    "    noun = nouns[noun_i, :noun]\n",
    "    vp[1] = vp[1] + nouns[noun_i, :H] * mult_noun\n",
    "    vp[2] = vp[2] + nouns[noun_i, :F] * mult_noun\n",
    "    vp[3] = vp[3] + nouns[noun_i, :L] * mult_noun\n",
    "    vp[4] = vp[4] + nouns[noun_i, :P] * mult_noun\n",
    "    vp[5] = vp[5] + nouns[noun_i, :R] * mult_noun\n",
    "    vp[6] = vp[6] + nouns[noun_i, :S] * mult_noun\n",
    "    adj_i = rand(1:nrow(adjectives))\n",
    "    if ability == ability_none\n",
    "        adj = adjectives[adj_i, :adjective]\n",
    "        vp[1] = vp[1] + adjectives[adj_i, :H] * mult_adj\n",
    "        vp[2] = vp[2] + adjectives[adj_i, :F] * mult_adj\n",
    "        vp[3] = vp[3] + adjectives[adj_i, :L] * mult_adj\n",
    "        vp[4] = vp[4] + adjectives[adj_i, :P] * mult_adj\n",
    "        vp[5] = vp[5] + adjectives[adj_i, :R] * mult_adj\n",
    "        vp[6] = vp[6] + adjectives[adj_i, :S] * mult_adj\n",
    "    else\n",
    "        adj = ability_name[ability]\n",
    "    end\n",
    "    job_i = rand(1:nrow(jobs))\n",
    "    job = jobs[job_i, :job]\n",
    "    vp[1] = vp[1] + jobs[job_i, :H] * mult_job\n",
    "    vp[2] = vp[2] + jobs[job_i, :F] * mult_job\n",
    "    vp[3] = vp[3] + jobs[job_i, :L] * mult_job\n",
    "    vp[4] = vp[4] + jobs[job_i, :P] * mult_job\n",
    "    vp[5] = vp[5] + jobs[job_i, :R] * mult_job\n",
    "    vp[6] = vp[6] + jobs[job_i, :S] * mult_job\n",
    "    name = string(adj, \" \", job, \" \", noun)\n",
    "    Spud(name, vp[1], vp[2], vp[3], vp[4], vp[5], vp[6], ability_none)\n",
    "end"
   ]
  },
  {
   "cell_type": "code",
   "execution_count": 8,
   "id": "f606e085",
   "metadata": {},
   "outputs": [
    {
     "data": {
      "text/plain": [
       "rand_rename (generic function with 2 methods)"
      ]
     },
     "execution_count": 8,
     "metadata": {},
     "output_type": "execute_result"
    }
   ],
   "source": [
    "function rand_rename(a::Spud, n_tries::Int = 100)::Spud\n",
    "    best_score = 0.0\n",
    "    best_b = random_name_and_stat(a.a1)\n",
    "    for ii in 1:n_tries\n",
    "        b = random_name_and_stat(a.a1)\n",
    "        b_norm = sqrt(b.h^2 + b.f^2 + b.l^2 + b.p^2 + b.r^2 + b.s^2)\n",
    "        score = (a.h * b.h + a.f * b.f + a.l * b.l + a.p * b.p + a.r * b.r + a.s * b.s)/b_norm\n",
    "        if score > best_score\n",
    "            best_score = score\n",
    "            best_b = b\n",
    "        end\n",
    "    end\n",
    "    return Spud(best_b.name, a.h, a.f, a.l, a.p, a.r, a.s, a.a1)\n",
    "end"
   ]
  },
  {
   "cell_type": "code",
   "execution_count": 9,
   "id": "560e9539",
   "metadata": {},
   "outputs": [
    {
     "data": {
      "text/plain": [
       "df_to_spuds (generic function with 1 method)"
      ]
     },
     "execution_count": 9,
     "metadata": {},
     "output_type": "execute_result"
    }
   ],
   "source": [
    "function eval_battle_list(a::Spud, bs::Array{Spud})::Int\n",
    "    score = 0\n",
    "    for ii in 1:length(bs)\n",
    "        score = score + eval_battle(a, bs[ii])\n",
    "    end\n",
    "    return score\n",
    "end\n",
    "\n",
    "function eval_battle_list2(a::Spud, bs::Array{Spud}, w::Vector{Float64})::AbstractFloat\n",
    "    score = 0.0\n",
    "    for ii in 1:length(bs)\n",
    "        score = score + w[ii] * eval_battle(a, bs[ii])\n",
    "    end\n",
    "    return score\n",
    "end\n",
    "\n",
    "function spuds_to_df(as::Array{Spud})::DataFrame\n",
    "    names = Array{String}(undef, length(as))\n",
    "    hs = Array{Int}(undef, length(as))\n",
    "    fs = Array{Int}(undef, length(as))\n",
    "    ls = Array{Int}(undef, length(as))\n",
    "    ps = Array{Int}(undef, length(as))\n",
    "    rs = Array{Int}(undef, length(as))\n",
    "    ss = Array{Int}(undef, length(as))\n",
    "    a1s = Array{Int}(undef, length(as))\n",
    "    for ii in 1:length(as)\n",
    "        names[ii] = as[ii].name\n",
    "        hs[ii] = as[ii].h\n",
    "        fs[ii] = as[ii].f\n",
    "        ls[ii] = as[ii].l\n",
    "        ps[ii] = as[ii].p\n",
    "        rs[ii] = as[ii].r\n",
    "        ss[ii] = as[ii].s\n",
    "        a1s[ii] = as[ii].a1\n",
    "    end\n",
    "    df = DataFrame(name = names, h = hs, f = fs, l = ls, p = ps, r = rs, s = ss, a1 = a1s)\n",
    "    return df\n",
    "end\n",
    "\n",
    "function fpart(x::AbstractFloat)::AbstractFloat\n",
    "  return x - trunc(x)\n",
    "end\n",
    "\n",
    "# for legacy dfs without abilities\n",
    "function df_to_spuds0(df::DataFrame)::Array{Spud}\n",
    "    n = size(df)[1]\n",
    "    as = Array{Spud}(undef, n)\n",
    "    for i in 1:n\n",
    "        as[i] = Spud(df[i, :name], df[i, :h], df[i, :f], df[i, :l], df[i, :p], df[i, :r], df[i, :s], ability_none)\n",
    "    end\n",
    "    return as\n",
    "end\n",
    "\n",
    "function df_to_spuds(df::DataFrame)::Array{Spud}\n",
    "    n = size(df)[1]\n",
    "    as = Array{Spud}(undef, n)\n",
    "    for i in 1:n\n",
    "        as[i] = Spud(df[i, :name], df[i, :h], df[i, :f], df[i, :l], df[i, :p], df[i, :r], df[i, :s], df[i, :a1])\n",
    "    end\n",
    "    return as\n",
    "end\n",
    "\n"
   ]
  },
  {
   "cell_type": "markdown",
   "id": "66e71132",
   "metadata": {},
   "source": [
    "## Get spuds with cost 15 and filter nondominated"
   ]
  },
  {
   "cell_type": "code",
   "execution_count": 10,
   "id": "638f1e65",
   "metadata": {},
   "outputs": [
    {
     "data": {
      "text/plain": [
       "get_library (generic function with 2 methods)"
      ]
     },
     "execution_count": 10,
     "metadata": {},
     "output_type": "execute_result"
    }
   ],
   "source": [
    "function get_library(cost, n_init = 10000)\n",
    "    ffs = Array{Spud}(undef, n_init)\n",
    "    ff_i = 0\n",
    "    hrange = MNV:MXV\n",
    "    frange = MNV:MXV\n",
    "    lrange = MNV:MXV\n",
    "    prange = MNV:MXV\n",
    "    rrange = MNV:MXV\n",
    "    srange = MNV:MXV\n",
    "    for h in hrange\n",
    "        for f in frange\n",
    "            for l in lrange\n",
    "                for p in prange\n",
    "                    for r in rrange\n",
    "                        for s in srange\n",
    "                            if (h+f+l+p+r+s == cost)\n",
    "                                ff = Spud(\"\", h,f,l,p,r,s,999)\n",
    "                                ff_i += 1\n",
    "                                ffs[ff_i] = ff\n",
    "                            end\n",
    "                        end\n",
    "                    end                        \n",
    "                end                        \n",
    "            end\n",
    "        end\n",
    "    end\n",
    "    ffs = ffs[1:ff_i]\n",
    "    return unique(ffs)\n",
    "end"
   ]
  },
  {
   "cell_type": "code",
   "execution_count": 11,
   "id": "64d0dd3e",
   "metadata": {},
   "outputs": [],
   "source": [
    "lib15 = get_library(15)\n",
    "lib15;"
   ]
  },
  {
   "cell_type": "code",
   "execution_count": 12,
   "id": "6be20a55",
   "metadata": {},
   "outputs": [
    {
     "data": {
      "text/plain": [
       "get_payoffs (generic function with 1 method)"
      ]
     },
     "execution_count": 12,
     "metadata": {},
     "output_type": "execute_result"
    }
   ],
   "source": [
    "function get_payoffs(env::Array{Spud})::Array{Int64}\n",
    "    n_nash = length(env)\n",
    "    payoffs = Array{Int64}(undef, (n_nash, n_nash))\n",
    "    for i in 1:n_nash\n",
    "        for j in 1:n_nash\n",
    "            payoffs[i, j] = eval_battle(env[i], env[j])\n",
    "        end\n",
    "    end\n",
    "    return payoffs\n",
    "end"
   ]
  },
  {
   "cell_type": "code",
   "execution_count": 13,
   "id": "af79e6db",
   "metadata": {},
   "outputs": [
    {
     "data": {
      "text/plain": [
       "filter_nondominated2 (generic function with 1 method)"
      ]
     },
     "execution_count": 13,
     "metadata": {},
     "output_type": "execute_result"
    }
   ],
   "source": [
    "function filter_nondominated2(as::Array{Spud})::Array{Spud}\n",
    "    mat = get_payoffs(as);\n",
    "    isDominated = zeros(Int64, length(as));\n",
    "    for i in 1:length(as)\n",
    "        v = mat[i, :]\n",
    "        bv = ones(Int64, length(as))\n",
    "        for j in 1:length(as)\n",
    "            bv = bv .* (mat[:, j] .>= v[j])\n",
    "        end\n",
    "        if sum(bv) > 1\n",
    "            isDominated[i] = 1\n",
    "        end\n",
    "    end\n",
    "    return as[isDominated .== 0]\n",
    "end"
   ]
  },
  {
   "cell_type": "code",
   "execution_count": 14,
   "id": "55a8029c",
   "metadata": {},
   "outputs": [
    {
     "name": "stdout",
     "output_type": "stream",
     "text": [
      " 35.699681 seconds (72.09 M allocations: 125.258 GiB, 35.32% gc time, 0.96% compilation time)\n"
     ]
    },
    {
     "data": {
      "text/plain": [
       "1396-element Vector{Spud}:\n",
       " Spud(\"\", 1, 1, 1, 1, 2, 9, 999)\n",
       " Spud(\"\", 1, 1, 1, 1, 3, 8, 999)\n",
       " Spud(\"\", 1, 1, 1, 1, 4, 7, 999)\n",
       " Spud(\"\", 1, 1, 1, 1, 5, 6, 999)\n",
       " Spud(\"\", 1, 1, 1, 1, 6, 5, 999)\n",
       " Spud(\"\", 1, 1, 1, 1, 7, 4, 999)\n",
       " Spud(\"\", 1, 1, 1, 1, 8, 3, 999)\n",
       " Spud(\"\", 1, 1, 1, 1, 9, 2, 999)\n",
       " Spud(\"\", 1, 1, 1, 2, 1, 9, 999)\n",
       " Spud(\"\", 1, 1, 1, 2, 2, 8, 999)\n",
       " Spud(\"\", 1, 1, 1, 2, 3, 7, 999)\n",
       " Spud(\"\", 1, 1, 1, 2, 4, 6, 999)\n",
       " Spud(\"\", 1, 1, 1, 2, 5, 5, 999)\n",
       " ⋮\n",
       " Spud(\"\", 7, 1, 3, 1, 1, 2, 999)\n",
       " Spud(\"\", 7, 1, 3, 1, 2, 1, 999)\n",
       " Spud(\"\", 7, 1, 3, 2, 1, 1, 999)\n",
       " Spud(\"\", 7, 1, 4, 1, 1, 1, 999)\n",
       " Spud(\"\", 7, 2, 2, 1, 1, 2, 999)\n",
       " Spud(\"\", 7, 2, 2, 1, 2, 1, 999)\n",
       " Spud(\"\", 7, 2, 2, 2, 1, 1, 999)\n",
       " Spud(\"\", 8, 1, 2, 1, 1, 2, 999)\n",
       " Spud(\"\", 8, 1, 2, 1, 2, 1, 999)\n",
       " Spud(\"\", 8, 1, 2, 2, 1, 1, 999)\n",
       " Spud(\"\", 8, 1, 3, 1, 1, 1, 999)\n",
       " Spud(\"\", 9, 1, 2, 1, 1, 1, 999)"
      ]
     },
     "execution_count": 14,
     "metadata": {},
     "output_type": "execute_result"
    }
   ],
   "source": [
    "@time lib=filter_nondominated2(lib15)\n",
    "# for ff in lib\n",
    "#     print(\" \")\n",
    "#     print(100000 * ff.h + 10000 * ff.f + 1000 * ff.l + 100 * ff.p + 10 * ff.r + ff.s)\n",
    "# end"
   ]
  },
  {
   "cell_type": "code",
   "execution_count": 15,
   "id": "7693aec2",
   "metadata": {},
   "outputs": [
    {
     "data": {
      "text/plain": [
       "1396×1396 Matrix{Int64}:\n",
       " 0  -1  -1  -1  -1  -1  -1  -1  -1  -1  …  -1  -1  -1  -1  -1  -1  -1  -1  -1\n",
       " 1   0  -1  -1  -1  -1  -1  -1  -1  -1     -1  -1  -1  -1  -1  -1  -1  -1  -1\n",
       " 1   1   0  -1  -1  -1  -1  -1  -1  -1     -1  -1  -1  -1  -1  -1  -1  -1  -1\n",
       " 1   1   1   0  -1  -1  -1  -1  -1  -1     -1  -1  -1  -1  -1  -1  -1  -1  -1\n",
       " 1   1   1   1   0  -1  -1  -1  -1  -1     -1  -1  -1  -1  -1  -1  -1  -1  -1\n",
       " 1   1   1   1   1   0  -1  -1  -1  -1  …  -1  -1  -1  -1  -1  -1  -1  -1  -1\n",
       " 1   1   1   1   1   1   0  -1  -1  -1     -1  -1  -1  -1  -1  -1  -1  -1  -1\n",
       " 1   1   1   1   1   1   1   0  -1  -1     -1  -1  -1  -1  -1  -1  -1  -1  -1\n",
       " 1   1   1   1   1   1   1   1   0  -1     -1  -1  -1  -1  -1  -1  -1  -1  -1\n",
       " 1   1   1   1   1   1   1   1   1   0     -1  -1  -1  -1  -1  -1  -1  -1  -1\n",
       " 1   1   1   1   1   1   1   1   1   1  …  -1  -1  -1  -1  -1  -1  -1  -1  -1\n",
       " 1   1   1   1   1   1   1   1   1   1     -1  -1  -1  -1  -1  -1  -1  -1  -1\n",
       " 1   1   1   1   1   1   1   1   1   1     -1  -1  -1  -1  -1  -1  -1  -1  -1\n",
       " ⋮                   ⋮                  ⋱               ⋮                   ⋮\n",
       " 1   1   1   1   1   1   1   1   1   1     -1   1   1   1   1   1   1   1   1\n",
       " 1   1   1   1   1   1   1   1   1   1  …  -1   1   1   1   1   1   1   1   1\n",
       " 1   1   1   1   1   1   1   1   1   1     -1   1   1   1   1   1   1   1   1\n",
       " 1   1   1   1   1   1   1   1   1   1      0   1   1   1   1   1   1   1   1\n",
       " 1   1   1   1   1   1   1   1   1   1     -1   0  -1  -1   1  -1   1  -1   1\n",
       " 1   1   1   1   1   1   1   1   1   1     -1   1   0  -1   1   1  -1  -1   1\n",
       " 1   1   1   1   1   1   1   1   1   1  …  -1   1   1   0   1  -1   1  -1   1\n",
       " 1   1   1   1   1   1   1   1   1   1     -1  -1  -1  -1   0  -1  -1  -1   1\n",
       " 1   1   1   1   1   1   1   1   1   1     -1   1  -1   1   1   0  -1  -1   1\n",
       " 1   1   1   1   1   1   1   1   1   1     -1  -1   1  -1   1   1   0  -1   1\n",
       " 1   1   1   1   1   1   1   1   1   1     -1   1   1   1   1   1   1   0   1\n",
       " 1   1   1   1   1   1   1   1   1   1  …  -1  -1  -1  -1  -1  -1  -1  -1   0"
      ]
     },
     "execution_count": 15,
     "metadata": {},
     "output_type": "execute_result"
    }
   ],
   "source": [
    "payoffs = get_payoffs(lib)"
   ]
  },
  {
   "cell_type": "code",
   "execution_count": 16,
   "id": "db3ccd86",
   "metadata": {},
   "outputs": [],
   "source": [
    "s2ind = Dict(lib[i] => i for i in 1:length(lib));"
   ]
  },
  {
   "cell_type": "code",
   "execution_count": 17,
   "id": "0e426ff9",
   "metadata": {},
   "outputs": [
    {
     "data": {
      "text/plain": [
       "5"
      ]
     },
     "execution_count": 17,
     "metadata": {},
     "output_type": "execute_result"
    }
   ],
   "source": [
    "s2ind[lib[5]]"
   ]
  },
  {
   "cell_type": "code",
   "execution_count": 18,
   "id": "ac7db512",
   "metadata": {},
   "outputs": [],
   "source": [
    "using JuMP\n",
    "using HiGHS"
   ]
  },
  {
   "cell_type": "code",
   "execution_count": 19,
   "id": "66235b6e",
   "metadata": {},
   "outputs": [
    {
     "name": "stdout",
     "output_type": "stream",
     "text": [
      "Running HiGHS 1.6.0: Copyright (c) 2023 HiGHS under MIT licence terms\n",
      "Presolving model\n",
      "1397 rows, 2793 cols, 1951608 nonzeros\n",
      "1397 rows, 2793 cols, 1951608 nonzeros\n",
      "Presolve : Reductions: rows 1397(-0); columns 2793(-0); elements 1951608(-0) - Not reduced\n",
      "Problem not reduced by presolve: solving the LP\n",
      "Using EKK dual simplex solver - serial\n",
      "  Iteration        Objective     Infeasibilities num(sum)\n",
      "          0     0.0000000000e+00 Pr: 1397(1397) 0s\n",
      "       2920     1.0000000000e+00 Pr: 0(0) 2s\n",
      "       2920     1.0000000000e+00 Pr: 0(0) 2s\n",
      "Model   status      : Optimal\n",
      "Simplex   iterations: 2920\n",
      "Objective value     :  1.0000000000e+00\n",
      "HiGHS run time      :          2.86\n",
      "  3.105955 seconds (237.19 k allocations: 98.574 MiB, 0.83% gc time, 5.06% compilation time: 100% of which was recompilation)\n"
     ]
    }
   ],
   "source": [
    "vector_model = Model(HiGHS.Optimizer)\n",
    "n_nash = length(lib)\n",
    "sumv = zeros(Int64, (1, 2 * n_nash + 1))\n",
    "sumv[1:n_nash] .= 1\n",
    "A = hcat(payoffs, Matrix(1I,n_nash, n_nash), -ones(Int64, n_nash, 1))\n",
    "A = vcat(A, sumv);\n",
    "b = zeros(Int64, n_nash + 1);\n",
    "b[1:n_nash] .= -1\n",
    "b[n_nash+1] = 1\n",
    "transpose(b);\n",
    "c = zeros(Int64, 2 * n_nash + 1);\n",
    "c[2 * n_nash + 1] = 1;\n",
    "@variable(vector_model, x[1:(2*n_nash+1)] >= 0);\n",
    "@constraint(vector_model, A * x .== b);\n",
    "@objective(vector_model, Min, c' * x)\n",
    "@time optimize!(vector_model)"
   ]
  },
  {
   "cell_type": "code",
   "execution_count": 20,
   "id": "f9b10cc3",
   "metadata": {},
   "outputs": [
    {
     "data": {
      "text/plain": [
       "0.9999999999999993"
      ]
     },
     "execution_count": 20,
     "metadata": {},
     "output_type": "execute_result"
    }
   ],
   "source": [
    "w_lp = [value(x[i]) for i in 1:n_nash]\n",
    "sum(w_lp)"
   ]
  },
  {
   "cell_type": "code",
   "execution_count": 21,
   "id": "591d5063",
   "metadata": {},
   "outputs": [
    {
     "data": {
      "text/plain": [
       "2.886579864025407e-15"
      ]
     },
     "execution_count": 21,
     "metadata": {},
     "output_type": "execute_result"
    }
   ],
   "source": [
    "w_lp = w_lp./sum(w_lp);\n",
    "maximum([sum(payoffs[i, :] .* w_lp) for i in 1:n_nash])"
   ]
  },
  {
   "cell_type": "code",
   "execution_count": 22,
   "id": "20259321",
   "metadata": {},
   "outputs": [],
   "source": [
    "new_env = lib[w_lp .> 0]\n",
    "w_new = w_lp[w_lp .> 0];"
   ]
  },
  {
   "cell_type": "code",
   "execution_count": 23,
   "id": "41709243",
   "metadata": {},
   "outputs": [
    {
     "name": "stdout",
     "output_type": "stream",
     "text": [
      "615111 0.0691\n",
      "417111 0.0688\n",
      "516111 0.0680\n",
      "714111 0.0626\n",
      "813111 0.0583\n",
      "318111 0.0572\n",
      "219111 0.0469\n",
      "131154 0.0244\n",
      "121614 0.0238\n",
      "171123 0.0179\n",
      "161232 0.0170\n",
      "171132 0.0167\n",
      "115413 0.0165\n",
      "151431 0.0160\n",
      "151341 0.0155\n",
      "141252 0.0152\n",
      "151143 0.0151\n",
      "151521 0.0125\n",
      "171411 0.0124\n",
      "161313 0.0124\n",
      "161331 0.0122\n",
      "141441 0.0120\n",
      "131613 0.0118\n",
      "161421 0.0116\n",
      "141513 0.0113\n",
      "181221 0.0109\n",
      "151332 0.0107\n",
      "161412 0.0106\n",
      "151242 0.0105\n",
      "141612 0.0103\n",
      "614112 0.0095\n",
      "131622 0.0091\n",
      "111165 0.0090\n",
      "121425 0.0090\n",
      "121245 0.0088\n",
      "171321 0.0087\n",
      "131541 0.0086\n",
      "171213 0.0086\n",
      "141153 0.0085\n",
      "115134 0.0080\n",
      "161322 0.0080\n",
      "151512 0.0074\n",
      "171312 0.0071\n",
      "141423 0.0070\n",
      "216123 0.0066\n",
      "151224 0.0065\n",
      "151314 0.0064\n",
      "141414 0.0062\n",
      "121155 0.0058\n",
      "115224 0.0055\n",
      "116133 0.0053\n",
      "161133 0.0051\n",
      "141324 0.0050\n",
      "713112 0.0049\n",
      "113235 0.0048\n",
      "131244 0.0047\n",
      "141531 0.0043\n",
      "181311 0.0040\n",
      "214134 0.0038\n",
      "121335 0.0038\n",
      "116223 0.0038\n",
      "131424 0.0037\n",
      "141522 0.0037\n",
      "111255 0.0031\n",
      "131532 0.0029\n",
      "317112 0.0023\n",
      "515112 0.0022\n",
      "161142 0.0022\n",
      "181122 0.0021\n",
      "161223 0.0018\n",
      "141351 0.0017\n",
      "171231 0.0017\n",
      "113145 0.0014\n",
      "116412 0.0014\n",
      "114225 0.0013\n",
      "113325 0.0012\n",
      "123414 0.0005\n",
      "114135 0.0005\n",
      "181113 0.0001\n",
      "217131 7.7005\n",
      "114234 2.7156\n"
     ]
    }
   ],
   "source": [
    "function spud2int(a::Spud)::Int64\n",
    "    return a.h * 100000 + a.f * 10000 + a.l * 1000 + a.p * 100 + a.r * 10 + a.s\n",
    "end\n",
    "\n",
    "for i in sortperm(-w_new)\n",
    "    print(spud2int(new_env[i]))\n",
    "    print(\" \")\n",
    "    println(string(w_new[i])[1:6])\n",
    "end"
   ]
  },
  {
   "cell_type": "code",
   "execution_count": 24,
   "id": "78db8f52",
   "metadata": {},
   "outputs": [
    {
     "data": {
      "text/plain": [
       "stat_dominates_any (generic function with 1 method)"
      ]
     },
     "execution_count": 24,
     "metadata": {},
     "output_type": "execute_result"
    }
   ],
   "source": [
    "function spud_to_vec(a::Spud)::Array{Int64}\n",
    "    return [a.h, a.f, a.l, a.p, a.r, a.s]\n",
    "end\n",
    "\n",
    "function stat_dominates(a::Spud, b::Spud)::Bool\n",
    "    if minimum(spud_to_vec(a) .- spud_to_vec(b))==0\n",
    "        return true\n",
    "    else\n",
    "        return false\n",
    "    end\n",
    "end\n",
    "\n",
    "function stat_dominates_any(a::Spud, bs::Array{Spud})::Bool\n",
    "    for b in bs\n",
    "        if stat_dominates(a, b)\n",
    "            return true\n",
    "        end\n",
    "    end\n",
    "    return false\n",
    "end"
   ]
  },
  {
   "cell_type": "code",
   "execution_count": 25,
   "id": "6c5370ae",
   "metadata": {},
   "outputs": [
    {
     "name": "stdout",
     "output_type": "stream",
     "text": [
      "111165, 111255, 113145, 113235, 113325, 114135, 114225, 114234, 115134, 115224, 115413, 116133, 116223, 116412, 121155, 121245, 121335, 121425, 121614, 123414, 131154, 131244, 131424, 131532, 131541, 131613, 131622, 141153, 141252, 141324, 141351, 141414, 141423, 141441, 141513, 141522, 141531, 141612, 151143, 151224, 151242, 151314, 151332, 151341, 151431, 151512, 151521, 161133, 161142, 161223, 161232, 161313, 161322, 161331, 161412, 161421, 171123, 171132, 171213, 171231, 171312, 171321, 171411, 181113, 181122, 181221, 181311, 214134, 216123, 217131, 219111, 317112, 318111, 417111, 515112, 516111, 614112, 615111, 713112, 714111, 813111, 111345, 111435, 111525, 111714, 112155, 112245, 112335, 112425, 112614, 113334, 113415, 113424, 113514, 114144, 114324, 114414, 114513, 115233, 115314, 115323, 116124, 116214, 116232, 116313, 116322, 117114, 117123, 117213, 117312, 118113, 118212, 121164, 121254, 121344, 121434, 121515, 121524, 121533, 121623, 121632, 121641, 122145, 122235, 122325, 122334, 122415, 122424, 122514, 123135, 123225, 123234, 123324, 124134, 124224, 124314, 124413, 125313, 125412, 131145, 131235, 131253, 131325, 131334, 131343, 131352, 131415, 131433, 131451, 131514, 131523, 131631, 132135, 132225, 132315, 132324, 132414, 133314, 141144, 141225, 141234, 141243, 141333, 141342, 141432, 141621, 142134, 142224, 142314, 142323, 142413, 151134, 151233, 151323, 151413, 151422, 152124, 152214, 152313, 161124, 161214, 161511, 162114, 162213, 162312, 163113, 171222, 172113, 172212, 172311, 181212, 211164, 211254, 212154, 213144, 213234, 214143, 214224, 214233, 215124, 215133, 216132, 216141, 216213, 216222, 216312, 217113, 217122, 217212, 218112, 218121, 218211, 221154, 221163, 221244, 222144, 222234, 223134, 227112, 227211, 228111, 231144, 231153, 231252, 231351, 232134, 241143, 241152, 241251, 251142, 251241, 261123, 261132, 281112, 314133, 315123, 317121, 317211, 414123, 416112, 513123, 514113, 523113, 612123, 613113, 614121, 622113, 713121, 722112, 812112, 812121, 812211, 912111, "
     ]
    }
   ],
   "source": [
    "libx = get_library(15)\n",
    "evs = [eval_battle_list2(ff,new_env,w_new) for ff in libx];\n",
    "libp = libx[evs .< 0 .&& evs .> -0.05]\n",
    "lib = unique(vcat(new_env, libp))\n",
    "for ff in lib\n",
    "    print(spud2int(ff))\n",
    "    print(\", \")\n",
    "end"
   ]
  },
  {
   "cell_type": "code",
   "execution_count": 26,
   "id": "2b623225",
   "metadata": {},
   "outputs": [
    {
     "name": "stdout",
     "output_type": "stream",
     "text": [
      "111364, 111454, 111616, 111634, 111661, 112516, 113164, 113533, 113623, 114163, 114343, 114532, 114622, 115126, 115252, 115612, 115621, 116152, 117241, 117511, 118231, 119122, 119131, 119221, 121453, 121462, 121552, 123253, 123343, 123541, 123622, 123631, 124153, 124252, 124342, 124612, 125242, 125341, 125521, 126142, 126331, 127231, 128122, 128221, 132442, 133252, 133342, 133441, 133612, 133621, 134143, 134242, 134341, 134521, 135331, 136321, 137122, 137221, 141136, 142126, 143242, 143341, 144331, 144511, 145132, 145222, 145321, 146122, 146221, 151162, 153115, 153142, 153331, 153511, 154132, 154222, 154321, 154411, 155122, 155221, 163132, 163231, 164122, 164221, 211444, 211534, 212344, 212434, 212515, 212524, 213253, 213343, 213433, 214252, 214315, 214342, 214432, 215251, 215341, 215431, 215512, 221362, 221452, 221461, 222253, 222343, 222523, 222532, 222613, 223252, 223315, 223342, 223432, 223513, 224251, 224341, 224422, 225214, 225241, 226231, 226321, 226411, 232342, 232513, 233242, 233251, 233341, 233422, 234142, 234214, 234322, 235222, 235312, 236221, 236311, 241135, 242125, 242341, 243142, 243214, 243241, 243322, 244114, 244132, 244222, 244312, 245122, 245212, 252331, 252412, 253114, 253132, 253222, 253312, 254122, 254212, 255211, 262231, 262321, 263122, 263212, 264211, 272221, 273112, 273211, 282211, 291211, 312145, 312163, 312334, 312433, 313513, 314242, 314422, 315151, 316231, 316321, 316411, 322135, 322153, 322243, 322432, 322513, 323332, 324142, 324214, 324322, 325141, 325222, 325312, 326221, 326311, 332152, 332242, 333124, 333214, 333232, 333322, 334132, 334213, 335113, 335212, 336211, 342124, 342214, 342232, 342322, 343213, 345112, 351133, 352114, 352132, 352222, 352312, 354112, 362122, 362212, 363112, 372112, 412153, 412243, 412324, 412333, 412414, 412423, 412513, 413134, 413314, 413332, 413413, 414412, 415114, 415141, 416221, 422134, 422224, 422332, 423124, 423232, 423322, 424132, 424222, 424312, 425122, 425131, 425212, 432124, 432232, 432322, 433213, 434212, 435112, 436111, 444112, 452212, 453112, 512134, 512233, 512323, 512413, 513142, 513232, 513322, 514141, 515311, 522124, 522214, 522232, 522322, 523132, 523222, 523312, 524131, 525121, 525211, 532132, 532222, 532312, 533122, 533212, 534121, 534211, 535111, 542122, 542212, 612313, 613141, 613222, 613312, 614311, 622132, 622222, 623131, 632131, 632212, 633211, 643111, 652111, 712132, 712213, 713311, 722221, "
     ]
    }
   ],
   "source": [
    "libx = get_library(16)\n",
    "evs = [eval_battle_list2(ff,new_env,w_new) for ff in libx];\n",
    "libp = libx[evs .< 0 .&& evs .> -0.05]\n",
    "libp = [ff for ff in libp if !stat_dominates_any(ff, lib)]\n",
    "lib = vcat(lib, libp)\n",
    "for ff in libp\n",
    "    print(spud2int(ff))\n",
    "    print(\", \")\n",
    "end"
   ]
  },
  {
   "cell_type": "code",
   "execution_count": 27,
   "id": "d72e9d3a",
   "metadata": {},
   "outputs": [
    {
     "name": "stdout",
     "output_type": "stream",
     "text": [
      "111563, 111653, 112544, 113363, 113453, 113462, 113642, 113651, 117161, 118151, 125261, 126116, 126611, 134162, 135116, 135611, 143162, 144116, 184112, 211463, 213362, 213452, 213461, 213632, 214541, 214631, 216116, 222551, 224126, 224621, 235115, 235511, 252611, 312353, 313262, 313352, 313442, 313532, 314441, 314612, 322262, 322352, 322361, 323261, 323351, 323441, 323531, 324161, 324521, 325115, 325511, 332261, 332441, 332531, 333431, 333512, 333521, 334421, 342521, 343421, 344411, 352511, 353411, 412235, 413162, 413225, 413351, 413441, 413522, 414215, 414431, 415511, 422252, 422351, 422441, 422522, 423215, 423251, 423431, 423512, 424115, 424421, 432215, 432251, 432431, 432512, 433151, 433241, 434321, 434411, 442421, 443231, 443321, 443411, 444221, 452411, 453221, 453311, 512225, 512315, 513215, 513251, 513512, 514421, 522251, 522431, 522512, 523151, 523421, 524411, 532115, 532151, 532421, 533411, 542411, 543221, 612242, 612332, 612341, 613421, 622412, 622421, 623411, 632411, 712241, 722411, "
     ]
    }
   ],
   "source": [
    "libx = get_library(17)\n",
    "evs = [eval_battle_list2(ff,new_env,w_new) for ff in libx];\n",
    "libp = libx[evs .< 0 .&& evs .> -0.05]\n",
    "libp = [ff for ff in libp if !stat_dominates_any(ff, lib)]\n",
    "lib = vcat(lib, libp)\n",
    "for ff in libp\n",
    "    print(spud2int(ff))\n",
    "    print(\", \")\n",
    "end"
   ]
  },
  {
   "cell_type": "code",
   "execution_count": 28,
   "id": "8c2edf6d",
   "metadata": {},
   "outputs": [
    {
     "name": "stdout",
     "output_type": "stream",
     "text": [
      "313551, 313641, 343611, 344151, 414621, 422631, 432621, 442611, 512352, 512451, 513531, 562131, 563121, "
     ]
    }
   ],
   "source": [
    "libx = get_library(18)\n",
    "evs = [eval_battle_list2(ff,new_env,w_new) for ff in libx];\n",
    "libp = libx[evs .< 0 .&& evs .> -0.05]\n",
    "libp = [ff for ff in libp if !stat_dominates_any(ff, lib)]\n",
    "lib = vcat(lib, libp)\n",
    "for ff in libp\n",
    "    print(spud2int(ff))\n",
    "    print(\", \")\n",
    "end"
   ]
  },
  {
   "cell_type": "code",
   "execution_count": 29,
   "id": "eab4c370",
   "metadata": {},
   "outputs": [
    {
     "name": "stdout",
     "output_type": "stream",
     "text": [
      "312562, 412462, 412552, 412561, 463141, 464131, 465121, 671122, "
     ]
    }
   ],
   "source": [
    "libx = get_library(19)\n",
    "evs = [eval_battle_list2(ff,new_env,w_new) for ff in libx];\n",
    "libp = libx[evs .< 0 .&& evs .> -0.05]\n",
    "libp = [ff for ff in libp if !stat_dominates_any(ff, lib)]\n",
    "lib = vcat(lib, libp)\n",
    "for ff in libp\n",
    "    print(spud2int(ff))\n",
    "    print(\", \")\n",
    "end"
   ]
  },
  {
   "cell_type": "code",
   "execution_count": 30,
   "id": "c4452eb0",
   "metadata": {},
   "outputs": [
    {
     "name": "stdout",
     "output_type": "stream",
     "text": [
      "158141, 276131, 277121, 375131, 376121, 651161, 761141, "
     ]
    }
   ],
   "source": [
    "libx = get_library(20, 20000)\n",
    "evs = [eval_battle_list2(ff,new_env,w_new) for ff in libx];\n",
    "libp = libx[evs .< 0 .&& evs .> -0.05]\n",
    "libp = [ff for ff in libp if !stat_dominates_any(ff, lib)]\n",
    "lib = vcat(lib, libp)\n",
    "for ff in libp\n",
    "    print(spud2int(ff))\n",
    "    print(\", \")\n",
    "end"
   ]
  },
  {
   "cell_type": "code",
   "execution_count": 31,
   "id": "d5a9aa69",
   "metadata": {},
   "outputs": [
    {
     "name": "stdout",
     "output_type": "stream",
     "text": [
      "179121, 871131, "
     ]
    }
   ],
   "source": [
    "libx = get_library(21, 20000)\n",
    "evs = [eval_battle_list2(ff,new_env,w_new) for ff in libx];\n",
    "libp = libx[evs .< 0 .&& evs .> -0.05]\n",
    "libp = [ff for ff in libp if !stat_dominates_any(ff, lib)]\n",
    "lib = vcat(lib, libp)\n",
    "for ff in libp\n",
    "    print(spud2int(ff))\n",
    "    print(\", \")\n",
    "end"
   ]
  },
  {
   "cell_type": "code",
   "execution_count": 32,
   "id": "a0c28ffe",
   "metadata": {},
   "outputs": [
    {
     "name": "stdout",
     "output_type": "stream",
     "text": [
      "981121, "
     ]
    }
   ],
   "source": [
    "libx = get_library(22, 20000)\n",
    "evs = [eval_battle_list2(ff,new_env,w_new) for ff in libx];\n",
    "libp = libx[evs .< 0 .&& evs .> -0.05]\n",
    "libp = [ff for ff in libp if !stat_dominates_any(ff, lib)]\n",
    "lib = vcat(lib, libp)\n",
    "for ff in libp\n",
    "    print(spud2int(ff))\n",
    "    print(\", \")\n",
    "end"
   ]
  },
  {
   "cell_type": "code",
   "execution_count": 35,
   "id": "c97960e2",
   "metadata": {},
   "outputs": [],
   "source": [
    "libx = get_library(24, 30000)\n",
    "evs = [eval_battle_list2(ff,new_env,w_new) for ff in libx];\n",
    "libp = libx[evs .< 0 .&& evs .> -0.05]\n",
    "libp = [ff for ff in libp if !stat_dominates_any(ff, lib)]\n",
    "lib = vcat(lib, libp)\n",
    "for ff in libp\n",
    "    print(spud2int(ff))\n",
    "    print(\", \")\n",
    "end"
   ]
  },
  {
   "cell_type": "code",
   "execution_count": 38,
   "id": "2973981f",
   "metadata": {},
   "outputs": [
    {
     "data": {
      "text/plain": [
       "712"
      ]
     },
     "execution_count": 38,
     "metadata": {},
     "output_type": "execute_result"
    }
   ],
   "source": [
    "length(unique(lib))"
   ]
  },
  {
   "cell_type": "markdown",
   "id": "1a4b4dd8",
   "metadata": {},
   "source": [
    "## Combo analysis"
   ]
  },
  {
   "cell_type": "code",
   "execution_count": 27,
   "id": "b05a8ccc",
   "metadata": {},
   "outputs": [],
   "source": [
    "payoffs = get_payoffs(lib)\n",
    "nlib = length(lib)\n",
    "libi = map(spud2int, lib);"
   ]
  },
  {
   "cell_type": "code",
   "execution_count": null,
   "id": "8f628cae",
   "metadata": {
    "scrolled": true
   },
   "outputs": [],
   "source": [
    "combos = Array{Int64}(undef, (10000,3))\n",
    "ord = sortperm([rand() for i in 1:nlib])\n",
    "#ord = [i for i in 1:nlib]\n",
    "nc = 0\n",
    "# 3-combos\n",
    "for i in ord[1:(nlib-2)]\n",
    "    print(i)\n",
    "    print(\" \")\n",
    "    pi = payoffs[i,:]\n",
    "    for j in ord[(i+1):(nlib-1)]\n",
    "        pj = payoffs[j, :]\n",
    "        pij = [max(pi[a], pj[a]) for a in 1:nlib]\n",
    "        if sum(pij .== 1) > 0\n",
    "            #print(\".\")\n",
    "            for k in ord[(j+1):nlib]\n",
    "                pk = payoffs[k, :]\n",
    "                pijk = [max(pi[a], pj[a], pk[a]) for a in 1:nlib]\n",
    "                if minimum(pijk)==1\n",
    "                    nc += 1\n",
    "                    combos[nc, :] = libi[[i,j,k]]\n",
    "                    println(\"\")\n",
    "                    println(\"----3-COMBO!-----\")\n",
    "                    println(libi[[i,j,k]])\n",
    "                end\n",
    "            end\n",
    "        end\n",
    "    end\n",
    "end\n",
    "combos = combos[1:nc,:]"
   ]
  },
  {
   "cell_type": "code",
   "execution_count": null,
   "id": "a342432a",
   "metadata": {},
   "outputs": [],
   "source": [
    "size(combos)"
   ]
  },
  {
   "cell_type": "code",
   "execution_count": null,
   "id": "3ee8c129",
   "metadata": {},
   "outputs": [],
   "source": []
  }
 ],
 "metadata": {
  "kernelspec": {
   "display_name": "Julia 1.9.3",
   "language": "julia",
   "name": "julia-1.9"
  },
  "language_info": {
   "file_extension": ".jl",
   "mimetype": "application/julia",
   "name": "julia",
   "version": "1.9.3"
  }
 },
 "nbformat": 4,
 "nbformat_minor": 5
}

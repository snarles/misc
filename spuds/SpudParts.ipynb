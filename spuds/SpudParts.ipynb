{
 "cells": [
  {
   "cell_type": "markdown",
   "id": "052be005",
   "metadata": {},
   "source": [
    "Makings Spuds out of smaller parts"
   ]
  },
  {
   "cell_type": "markdown",
   "id": "72817bb1",
   "metadata": {},
   "source": [
    "## Spud code"
   ]
  },
  {
   "cell_type": "code",
   "execution_count": 1,
   "id": "494818e8",
   "metadata": {},
   "outputs": [],
   "source": [
    "using Random\n",
    "using DataFrames\n",
    "using CSV\n",
    "using DelimitedFiles\n",
    "using Statistics\n",
    "using Printf\n",
    "using LinearAlgebra\n",
    "using Dates"
   ]
  },
  {
   "cell_type": "code",
   "execution_count": 2,
   "id": "45e21e7f",
   "metadata": {},
   "outputs": [],
   "source": [
    "struct Spud\n",
    "    name::String\n",
    "    h::Int64\n",
    "    f::Int64\n",
    "    l::Int64\n",
    "    p::Int64\n",
    "    r::Int64\n",
    "    s::Int64\n",
    "    a1::Int64\n",
    "end"
   ]
  },
  {
   "cell_type": "code",
   "execution_count": 3,
   "id": "eef1262d",
   "metadata": {},
   "outputs": [
    {
     "data": {
      "text/plain": [
       "Dict{Int64, Function} with 10 entries:\n",
       "  50  => fx_melodious\n",
       "  20  => fx_reciprocating\n",
       "  110 => fx_otaku\n",
       "  10  => fx_imitative\n",
       "  90  => fx_iconoclast\n",
       "  30  => fx_romantic\n",
       "  120 => fx_sincere\n",
       "  130 => fx_cowardly\n",
       "  40  => fx_bibliophile\n",
       "  100 => fx_intoxicating"
      ]
     },
     "execution_count": 3,
     "metadata": {},
     "output_type": "execute_result"
    }
   ],
   "source": [
    "const ability_none = 999\n",
    "const ability_imitative = 10\n",
    "const ability_reciprocating = 20\n",
    "const ability_romantic = 30\n",
    "const ability_bibliophile = 40\n",
    "const ability_melodious = 50\n",
    "const ability_iconoclast = 90\n",
    "const ability_intoxicating = 100\n",
    "const ability_otaku = 110\n",
    "const ability_sincere = 120\n",
    "const ability_cowardly = 130\n",
    "\n",
    "\n",
    "ability_name = Dict(\n",
    "    ability_imitative => \"Imitative*\",\n",
    "    ability_reciprocating => \"Reciprocating*\",\n",
    "    ability_romantic => \"Romantic*\",\n",
    "    ability_bibliophile => \"Bibliophile*\",\n",
    "    ability_melodious => \"Melodious*\",\n",
    "    ability_iconoclast => \"Iconoclast*\",\n",
    "    ability_intoxicating => \"Intoxicating*\",\n",
    "    ability_otaku => \"Otaku*\",\n",
    "    ability_sincere => \"Sincere*\",\n",
    "    ability_cowardly => \"Cowardly*\",\n",
    ")\n",
    "\n",
    "function fx_imitative(a::Spud, b::Spud)\n",
    "    if b.h > a.h\n",
    "        a = Spud(a.name, b.h, a.f, a.l, a.p, a.r, a.s, a.a1)\n",
    "    end\n",
    "    return [a, b]\n",
    "end\n",
    "\n",
    "function fx_reciprocating(a::Spud, b::Spud)\n",
    "    if b.f > a.f\n",
    "        a = Spud(a.name, a.h, b.f, a.l, a.p, a.r, a.s, a.a1)\n",
    "    end\n",
    "    return [a, b]\n",
    "end\n",
    "\n",
    "function fx_romantic(a::Spud, b::Spud)\n",
    "    if b.p > a.l\n",
    "        a = Spud(a.name, a.h, a.f, b.p, a.p, a.r, a.s, a.a1)\n",
    "    end\n",
    "    return [a, b]\n",
    "end\n",
    "\n",
    "function fx_bibliophile(a::Spud, b::Spud)\n",
    "    if b.r > a.l\n",
    "        a = Spud(a.name, a.h, a.f, b.r, a.p, a.r, a.s, a.a1)\n",
    "    end\n",
    "    return [a, b]\n",
    "end\n",
    "\n",
    "function fx_melodious(a::Spud, b::Spud)\n",
    "    if b.p > b.r && b.p > b.s\n",
    "        a = Spud(a.name, a.h, a.f, a.r, a.p + 3, a.r, a.s, a.a1)\n",
    "    end\n",
    "    return [a, b]\n",
    "end\n",
    "\n",
    "function fx_iconoclast(a::Spud, b::Spud)\n",
    "    v = sum([b.h,b.f,b.l,b.p,b.r,b.s] .== MXV)\n",
    "    if v >= 3\n",
    "        aa = [a.h, a.f, a.l, a.p, a.r, a.s]\n",
    "        aa2 = map(x -> div(x, 4), aa)\n",
    "        r = aa .+ aa2\n",
    "        a = Spud(a.name, r[1], r[2], r[3], r[4], r[5], r[6], a.a1)\n",
    "    end\n",
    "    return [a, b]\n",
    "end\n",
    "\n",
    "function fx_intoxicating(a::Spud, b::Spud)\n",
    "    b = Spud(b.name, b.h, b.f, b.l, b.p, b.r, b.f, b.a1)\n",
    "    return [a, b]\n",
    "end\n",
    "\n",
    "function fx_otaku(a::Spud, b::Spud)\n",
    "    b = Spud(b.name, b.h, b.f, b.l, b.p, b.h, b.s, b.a1)\n",
    "    return [a, b]\n",
    "end\n",
    "\n",
    "\n",
    "function fx_sincere(a::Spud, b::Spud)\n",
    "    b = Spud(b.name, b.h, b.f + 2, b.f + 2, b.p, b.r, b.s, b.a1)\n",
    "    return [a, b]\n",
    "end\n",
    "\n",
    "function fx_cowardly(a::Spud, b::Spud)\n",
    "    if (a.p < b.p) || (a.r < b.r) || (a.s < b.s)\n",
    "        a = Spud(a.name, a.h + 2, a.f - 2, a.l, a.p, a.r, a.s, a.a1)\n",
    "    end\n",
    "    return [a, b]\n",
    "end\n",
    "\n",
    "ability_fx = Dict(\n",
    "    ability_imitative => fx_imitative,\n",
    "    ability_reciprocating => fx_reciprocating,\n",
    "    ability_romantic => fx_romantic,\n",
    "    ability_bibliophile => fx_bibliophile,\n",
    "    ability_melodious => fx_melodious,\n",
    "    ability_iconoclast => fx_iconoclast,\n",
    "    ability_intoxicating => fx_intoxicating,\n",
    "    ability_otaku => fx_otaku,\n",
    "    ability_sincere => fx_sincere,\n",
    "    ability_cowardly => fx_cowardly,\n",
    ")"
   ]
  },
  {
   "cell_type": "code",
   "execution_count": 4,
   "id": "950e076e",
   "metadata": {},
   "outputs": [
    {
     "data": {
      "text/plain": [
       "1"
      ]
     },
     "execution_count": 4,
     "metadata": {},
     "output_type": "execute_result"
    }
   ],
   "source": [
    "#const MXS = 100\n",
    "const MXV = 9\n",
    "const MNV = 1\n",
    "\n",
    "# function cost(h::Int64, f::Int64, l::Int64, p::Int64, r::Int64, s::Int64)::Int64\n",
    "#     #return h*(f+l-2*MNV) + f*(p+r+s-3*MNV) + h+f+l+p+r+s-6*MNV\n",
    "#     return h*(f+l) + f*(p+r+s)\n",
    "# end\n",
    "\n",
    "# function cost(a::Spud)::Int64\n",
    "#     if a.a1 == ability_none\n",
    "#         return cost(a.h, a.f, a.l, a.p, a.r, a.s)\n",
    "#     else\n",
    "#         return cost(a.h, a.f, a.l, a.p, a.r, a.s) + ability_cost[a.a1](a)\n",
    "#     end\n",
    "# end"
   ]
  },
  {
   "cell_type": "code",
   "execution_count": 5,
   "id": "ac830f74",
   "metadata": {},
   "outputs": [
    {
     "data": {
      "text/plain": [
       "eval_melee (generic function with 3 methods)"
      ]
     },
     "execution_count": 5,
     "metadata": {},
     "output_type": "execute_result"
    }
   ],
   "source": [
    "function compare_int_list(as::Vector{Int64}, bs::Vector{Int64}, tiebreaker::Int64 = 0)::Int64\n",
    "    n = min(length(as), length(bs))\n",
    "    for i in 1:n\n",
    "        if as[i] != bs[i]\n",
    "            return sign(as[i] - bs[i])\n",
    "        end\n",
    "    end\n",
    "    return tiebreaker\n",
    "end\n",
    "\n",
    "function spud_h_seq(a::Spud)::Vector{Int64}\n",
    "    return [a.h, a.s, a.r, a.p, a.l, a.f]\n",
    "end\n",
    "\n",
    "function spud_f_seq(a::Spud)::Vector{Int64}\n",
    "    return [a.f, a.s, a.r, a.p, a.l, a.h]\n",
    "end\n",
    "\n",
    "function spud_l_seq(a::Spud)::Vector{Int64}\n",
    "    return [a.l]\n",
    "end\n",
    "\n",
    "function spud_p_seq(a::Spud)::Vector{Int64}\n",
    "    return [a.p, a.l]\n",
    "end\n",
    "\n",
    "function spud_r_seq(a::Spud)::Vector{Int64}\n",
    "    return [a.r, a.f]\n",
    "end\n",
    "\n",
    "function spud_s_seq(a::Spud)::Vector{Int64}\n",
    "    return [a.s, a.h]\n",
    "end\n",
    "\n",
    "function spud_utb_seq(a::Spud)::Vector{Int64}\n",
    "    return [a.a1, a.h, a.f, a.l, a.p, a.r, a.s]\n",
    "end\n",
    "\n",
    "function eval_finds(a::Spud, b::Spud, tiebreaker::Int64 = 0)::Int64\n",
    "    ev = compare_int_list(spud_f_seq(a), spud_h_seq(b), tiebreaker)\n",
    "    ans = ev\n",
    "end\n",
    "\n",
    "function eval_melee(a::Spud, b::Spud, tiebreaker1::Int64 = 0, tiebreaker2::Int64 = 0)::Int64\n",
    "    comp_p = compare_int_list(spud_p_seq(a), spud_p_seq(b), tiebreaker1)\n",
    "    comp_r = compare_int_list(spud_r_seq(a), spud_r_seq(b), tiebreaker1)\n",
    "    comp_s = compare_int_list(spud_s_seq(a), spud_s_seq(b), tiebreaker1)\n",
    "    ev = 4 * comp_p + 3 * comp_r + 2 * comp_s\n",
    "    return sign(ev + (1-abs(ev))*tiebreaker2)\n",
    "end\n",
    "\n"
   ]
  },
  {
   "cell_type": "code",
   "execution_count": 6,
   "id": "f603612d",
   "metadata": {},
   "outputs": [
    {
     "data": {
      "text/plain": [
       "eval_battle (generic function with 1 method)"
      ]
     },
     "execution_count": 6,
     "metadata": {},
     "output_type": "execute_result"
    }
   ],
   "source": [
    "\n",
    "\n",
    "function apply_ability(a::Spud, b::Spud)::Array{Spud}\n",
    "    if a.a1 == ability_none\n",
    "        return [a, b]\n",
    "    else\n",
    "        return ability_fx[a.a1](a, b)\n",
    "    end\n",
    "end\n",
    "\n",
    "\n",
    "function eval_battle(a::Spud, b::Spud)::Int64\n",
    "    utb = compare_int_list(spud_utb_seq(a), spud_utb_seq(b), 0) # universal tiebreaker\n",
    "    if utb == 0\n",
    "        return 0\n",
    "    end\n",
    "    a_ability_first = compare_int_list([a.a1, a.s], [b.a1, b.s], utb)\n",
    "    if a_ability_first ==1\n",
    "        if a.a1 != ability_none\n",
    "            res = apply_ability(a, b)\n",
    "            a = res[1]\n",
    "            b = res[2]\n",
    "        end\n",
    "        if b.a1 != ability_none\n",
    "            res = apply_ability(b, a)\n",
    "            b = res[1]\n",
    "            a = res[2]\n",
    "        end\n",
    "    end\n",
    "    if a_ability_first == -1\n",
    "        if b.a1 != ability_none\n",
    "            res = apply_ability(b, a)\n",
    "            b = res[1]\n",
    "            a = res[2]\n",
    "        end\n",
    "        if a.a1 != ability_none\n",
    "            res = apply_ability(a, b)\n",
    "            a = res[1]\n",
    "            b = res[2]\n",
    "        end\n",
    "    end\n",
    "    #println(a)\n",
    "    #println(b)\n",
    "    a_finds = eval_finds(a, b, utb)==1\n",
    "    b_finds = eval_finds(b, a, utb)==1\n",
    "    melee_win = eval_melee(a, b, 0, utb)\n",
    "    if a_finds && b_finds\n",
    "        return melee_win\n",
    "    end\n",
    "    if a_finds && !b_finds\n",
    "        return 1\n",
    "    end\n",
    "    if !a_finds && b_finds\n",
    "        return -1\n",
    "    end\n",
    "    if !a_finds && !b_finds\n",
    "        return compare_int_list([a.l, melee_win], [b.l, -melee_win], 0)\n",
    "    end\n",
    "end"
   ]
  },
  {
   "cell_type": "code",
   "execution_count": 7,
   "id": "40b9dc47",
   "metadata": {},
   "outputs": [
    {
     "data": {
      "text/plain": [
       "random_name_and_stat (generic function with 2 methods)"
      ]
     },
     "execution_count": 7,
     "metadata": {},
     "output_type": "execute_result"
    }
   ],
   "source": [
    "tab = CSV.read(\"census_yob2022_names.txt\", DataFrame, header = false)\n",
    "names = tab.Column1\n",
    "adjectives = CSV.read(\"adjectives.csv\", DataFrame)\n",
    "nouns = CSV.read(\"nouns.csv\", DataFrame)\n",
    "jobs = CSV.read(\"jobs.csv\", DataFrame)\n",
    "\n",
    "\n",
    "const mult_noun = 1\n",
    "const mult_adj = 2\n",
    "const mult_job = 3\n",
    "\n",
    "\n",
    "function random_name_and_stat(ability::Int64 = ability_none)::Spud\n",
    "    vp = [0, 0, 0, 0, 0, 0]\n",
    "    #nametype = rand([1,1,1,1,1,2,2,2,3])\n",
    "    name = \"\"\n",
    "    noun = \"\"\n",
    "    adj = \"\"\n",
    "    noun_i = rand(1:nrow(nouns))\n",
    "    noun = nouns[noun_i, :noun]\n",
    "    vp[1] = vp[1] + nouns[noun_i, :H] * mult_noun\n",
    "    vp[2] = vp[2] + nouns[noun_i, :F] * mult_noun\n",
    "    vp[3] = vp[3] + nouns[noun_i, :L] * mult_noun\n",
    "    vp[4] = vp[4] + nouns[noun_i, :P] * mult_noun\n",
    "    vp[5] = vp[5] + nouns[noun_i, :R] * mult_noun\n",
    "    vp[6] = vp[6] + nouns[noun_i, :S] * mult_noun\n",
    "    adj_i = rand(1:nrow(adjectives))\n",
    "    if ability == ability_none\n",
    "        adj = adjectives[adj_i, :adjective]\n",
    "        vp[1] = vp[1] + adjectives[adj_i, :H] * mult_adj\n",
    "        vp[2] = vp[2] + adjectives[adj_i, :F] * mult_adj\n",
    "        vp[3] = vp[3] + adjectives[adj_i, :L] * mult_adj\n",
    "        vp[4] = vp[4] + adjectives[adj_i, :P] * mult_adj\n",
    "        vp[5] = vp[5] + adjectives[adj_i, :R] * mult_adj\n",
    "        vp[6] = vp[6] + adjectives[adj_i, :S] * mult_adj\n",
    "    else\n",
    "        adj = ability_name[ability]\n",
    "    end\n",
    "    job_i = rand(1:nrow(jobs))\n",
    "    job = jobs[job_i, :job]\n",
    "    vp[1] = vp[1] + jobs[job_i, :H] * mult_job\n",
    "    vp[2] = vp[2] + jobs[job_i, :F] * mult_job\n",
    "    vp[3] = vp[3] + jobs[job_i, :L] * mult_job\n",
    "    vp[4] = vp[4] + jobs[job_i, :P] * mult_job\n",
    "    vp[5] = vp[5] + jobs[job_i, :R] * mult_job\n",
    "    vp[6] = vp[6] + jobs[job_i, :S] * mult_job\n",
    "    name = string(adj, \" \", job, \" \", noun)\n",
    "    Spud(name, vp[1], vp[2], vp[3], vp[4], vp[5], vp[6], ability_none)\n",
    "end"
   ]
  },
  {
   "cell_type": "code",
   "execution_count": 8,
   "id": "f606e085",
   "metadata": {},
   "outputs": [
    {
     "data": {
      "text/plain": [
       "rand_rename (generic function with 2 methods)"
      ]
     },
     "execution_count": 8,
     "metadata": {},
     "output_type": "execute_result"
    }
   ],
   "source": [
    "function rand_rename(a::Spud, n_tries::Int = 100)::Spud\n",
    "    best_score = 0.0\n",
    "    best_b = random_name_and_stat(a.a1)\n",
    "    for ii in 1:n_tries\n",
    "        b = random_name_and_stat(a.a1)\n",
    "        b_norm = sqrt(b.h^2 + b.f^2 + b.l^2 + b.p^2 + b.r^2 + b.s^2)\n",
    "        score = (a.h * b.h + a.f * b.f + a.l * b.l + a.p * b.p + a.r * b.r + a.s * b.s)/b_norm\n",
    "        if score > best_score\n",
    "            best_score = score\n",
    "            best_b = b\n",
    "        end\n",
    "    end\n",
    "    return Spud(best_b.name, a.h, a.f, a.l, a.p, a.r, a.s, a.a1)\n",
    "end"
   ]
  },
  {
   "cell_type": "code",
   "execution_count": 9,
   "id": "560e9539",
   "metadata": {},
   "outputs": [
    {
     "data": {
      "text/plain": [
       "df_to_spuds (generic function with 1 method)"
      ]
     },
     "execution_count": 9,
     "metadata": {},
     "output_type": "execute_result"
    }
   ],
   "source": [
    "function eval_battle_list(a::Spud, bs::Array{Spud})::Int\n",
    "    score = 0\n",
    "    for ii in 1:length(bs)\n",
    "        score = score + eval_battle(a, bs[ii])\n",
    "    end\n",
    "    return score\n",
    "end\n",
    "\n",
    "function eval_battle_list2(a::Spud, bs::Array{Spud}, w::Vector{Float64})::AbstractFloat\n",
    "    score = 0.0\n",
    "    for ii in 1:length(bs)\n",
    "        score = score + w[ii] * eval_battle(a, bs[ii])\n",
    "    end\n",
    "    return score\n",
    "end\n",
    "\n",
    "function spuds_to_df(as::Array{Spud})::DataFrame\n",
    "    names = Array{String}(undef, length(as))\n",
    "    hs = Array{Int}(undef, length(as))\n",
    "    fs = Array{Int}(undef, length(as))\n",
    "    ls = Array{Int}(undef, length(as))\n",
    "    ps = Array{Int}(undef, length(as))\n",
    "    rs = Array{Int}(undef, length(as))\n",
    "    ss = Array{Int}(undef, length(as))\n",
    "    a1s = Array{Int}(undef, length(as))\n",
    "    for ii in 1:length(as)\n",
    "        names[ii] = as[ii].name\n",
    "        hs[ii] = as[ii].h\n",
    "        fs[ii] = as[ii].f\n",
    "        ls[ii] = as[ii].l\n",
    "        ps[ii] = as[ii].p\n",
    "        rs[ii] = as[ii].r\n",
    "        ss[ii] = as[ii].s\n",
    "        a1s[ii] = as[ii].a1\n",
    "    end\n",
    "    df = DataFrame(name = names, h = hs, f = fs, l = ls, p = ps, r = rs, s = ss, a1 = a1s)\n",
    "    return df\n",
    "end\n",
    "\n",
    "function fpart(x::AbstractFloat)::AbstractFloat\n",
    "  return x - trunc(x)\n",
    "end\n",
    "\n",
    "# for legacy dfs without abilities\n",
    "function df_to_spuds0(df::DataFrame)::Array{Spud}\n",
    "    n = size(df)[1]\n",
    "    as = Array{Spud}(undef, n)\n",
    "    for i in 1:n\n",
    "        as[i] = Spud(df[i, :name], df[i, :h], df[i, :f], df[i, :l], df[i, :p], df[i, :r], df[i, :s], ability_none)\n",
    "    end\n",
    "    return as\n",
    "end\n",
    "\n",
    "function df_to_spuds(df::DataFrame)::Array{Spud}\n",
    "    n = size(df)[1]\n",
    "    as = Array{Spud}(undef, n)\n",
    "    for i in 1:n\n",
    "        as[i] = Spud(df[i, :name], df[i, :h], df[i, :f], df[i, :l], df[i, :p], df[i, :r], df[i, :s], df[i, :a1])\n",
    "    end\n",
    "    return as\n",
    "end\n",
    "\n"
   ]
  },
  {
   "cell_type": "code",
   "execution_count": 10,
   "id": "638f1e65",
   "metadata": {},
   "outputs": [
    {
     "data": {
      "text/plain": [
       "sample_library (generic function with 2 methods)"
      ]
     },
     "execution_count": 10,
     "metadata": {},
     "output_type": "execute_result"
    }
   ],
   "source": [
    "function sample_library(ss_prob, as, n_init = 1000000)\n",
    "    ffs = Array{Spud}(undef, n_init)\n",
    "    ff_i = 0\n",
    "    hrange = MNV:MXV\n",
    "    frange = MNV:MXV\n",
    "    lrange = MNV:MXV\n",
    "    prange = MNV:MXV\n",
    "    rrange = MNV:MXV\n",
    "    srange = MNV:MXV\n",
    "    for a1 in as\n",
    "        for h in hrange\n",
    "            for f in frange\n",
    "                for l in lrange\n",
    "                    for p in prange\n",
    "                        for r in rrange\n",
    "                            for s in srange\n",
    "                                if rand() <= ss_prob\n",
    "                                    ff = Spud(\"\", h,f,l,p,r,s,a1)\n",
    "                                    ff_i += 1\n",
    "                                    ffs[ff_i] = ff\n",
    "                                end\n",
    "                            end\n",
    "                        end                        \n",
    "                    end                        \n",
    "                end\n",
    "            end\n",
    "        end\n",
    "    end\n",
    "    ffs = ffs[1:ff_i]\n",
    "    return unique(ffs)\n",
    "end"
   ]
  },
  {
   "cell_type": "code",
   "execution_count": 11,
   "id": "847f986d",
   "metadata": {},
   "outputs": [
    {
     "data": {
      "text/plain": [
       "ffp (generic function with 1 method)"
      ]
     },
     "execution_count": 11,
     "metadata": {},
     "output_type": "execute_result"
    }
   ],
   "source": [
    "struct NashEquilibrium2p\n",
    "    w1::Array{Float64}\n",
    "    w2::Array{Float64}\n",
    "    v::Float64\n",
    "end\n",
    "\n",
    "\n",
    "function payoffs2(set1::Array{Spud}, set2::Array{Spud})::Array{Int64}\n",
    "    n1 = length(set1)\n",
    "    n2 = length(set2)\n",
    "    payoffs = Array{Int64}(undef, (n1, n2))\n",
    "    for i in 1:n1\n",
    "        for j in 1:n2\n",
    "            payoffs[i,j] = eval_battle(set1[i], set2[j])\n",
    "        end\n",
    "    end\n",
    "    return payoffs\n",
    "end\n",
    "\n",
    "function ffp2(set1::Array{Spud}, set2::Array{Spud}, nits::Int64)::NashEquilibrium2p\n",
    "    n1 = length(set1)\n",
    "    n2 = length(set2)\n",
    "    payoffs = payoffs2(set1, set2)\n",
    "    v1 = [1 for i in 1:n1]\n",
    "    v2 = [1 for i in 1:n2]\n",
    "    s1 = [sum(payoffs[i, :] .* v2) for i in 1:n1]\n",
    "    s2 = [sum(payoffs[:, i] .* v1) for i in 1:n2]\n",
    "    for it in 1:nits\n",
    "        cands1 = findall(s1 .== maximum(s1))\n",
    "        i1 = rand(cands1)\n",
    "        cands2 = findall(s2 .== minimum(s2))\n",
    "        i2 = rand(cands2)\n",
    "        v1[i1] += 1\n",
    "        s2 = s2 .+ payoffs[i1, :]\n",
    "        v2[i2] += 1\n",
    "        s1 = s1 .+ payoffs[:, i2]\n",
    "    end\n",
    "    w1 = v1./sum(v1)\n",
    "    w2 = v2./sum(v2)\n",
    "    val = sum([payoffs[i, j] * w1[i] * w2[j] for i in 1:n1 for j in 1:n2])\n",
    "    return NashEquilibrium2p(w1, w2, val)\n",
    "end\n",
    "\n",
    "function ffp(nash_env, nits)\n",
    "    n_nash = length(nash_env)\n",
    "    i_lose = Array{Int}(undef, (n_nash, n_nash))\n",
    "    n_lose = Array{Int}(undef, n_nash)\n",
    "    for i in 1:n_nash\n",
    "        n_lose[i] = 0\n",
    "        ff = nash_env[i]\n",
    "        for j in 1:n_nash\n",
    "            if eval_battle(ff, nash_env[j]) ==-1\n",
    "                n_lose[i] += 1\n",
    "                i_lose[i, n_lose[i]] = j\n",
    "            end\n",
    "        end\n",
    "    end\n",
    "    counts = [0 for i in 1:n_nash]\n",
    "    wins = [0 for i in 1:n_nash]\n",
    "    for i in 1:n_nash\n",
    "        counts[i] += 1\n",
    "        for j in 1:n_lose[i]\n",
    "            i_w = i_lose[i, j]\n",
    "            wins[i_w]+= 1\n",
    "        end\n",
    "    end\n",
    "    for iter in 1:nits\n",
    "        wc = 2 .* wins .+ counts\n",
    "        ind_winners = findall(wc .== maximum(wc))\n",
    "        i = rand(ind_winners)\n",
    "        counts[i] += 1\n",
    "        for j in 1:n_lose[i]\n",
    "            i_w = i_lose[i, j]\n",
    "            wins[i_w]+= 1\n",
    "        end\n",
    "    end\n",
    "    return counts\n",
    "end"
   ]
  },
  {
   "cell_type": "markdown",
   "id": "084c92e5",
   "metadata": {},
   "source": [
    "## Battle code"
   ]
  },
  {
   "cell_type": "code",
   "execution_count": 12,
   "id": "d8584105",
   "metadata": {},
   "outputs": [],
   "source": [
    "mutable struct BattleView\n",
    "    round::Int64\n",
    "    own::Array{Spud}\n",
    "    owncount::Array{Int64}\n",
    "    deployed::Array{Bool}\n",
    "    obs::Array{Spud}\n",
    "    obscount::Array{Int64}\n",
    "end\n",
    "\n",
    "mutable struct AiPlayer\n",
    "    genteam::Function\n",
    "    pick::Function\n",
    "    create::Function\n",
    "end"
   ]
  },
  {
   "cell_type": "code",
   "execution_count": 13,
   "id": "ccf44741",
   "metadata": {},
   "outputs": [
    {
     "data": {
      "text/plain": [
       "play_is_game_over (generic function with 1 method)"
      ]
     },
     "execution_count": 13,
     "metadata": {},
     "output_type": "execute_result"
    }
   ],
   "source": [
    "n_copy = 3\n",
    "\n",
    "function initialize_game(team1::Array{Spud}, team2::Array{Spud})::Array{BattleView}\n",
    "    teams = [team1, team2]\n",
    "    bvs = Array{BattleView}(undef, 0)\n",
    "    for team in teams\n",
    "        bv = BattleView(0, team, [n_copy for i in 1:length(team)], [false for i in 1:length(team)], [], [])\n",
    "        append!(bvs, [bv])\n",
    "    end\n",
    "    return bvs\n",
    "end\n",
    "\n",
    "function observe_fighters(game::Array{BattleView}, choices::Array{Int64})::Array{BattleView}\n",
    "    for i in 1:2\n",
    "        j = 3- i\n",
    "        if choices[i] != 0\n",
    "            game[i].deployed[choices[i]] = true\n",
    "            ff = game[i].own[choices[i]]\n",
    "            if ff in game[j].obs\n",
    "                0\n",
    "            else\n",
    "                game[j].obs = append!(game[j].obs, [ff])\n",
    "                game[j].obscount = append!(game[j].obscount, [game[i].owncount[choices[i]]])\n",
    "            end\n",
    "        end\n",
    "    end\n",
    "    return game\n",
    "end\n",
    "\n",
    "function modify_fighter_counts(game::Array{BattleView}, choices::Array{Int64}, mod::Array{Int64})::Array{BattleView}\n",
    "    for i in 1:2\n",
    "        j = 3- i\n",
    "        if choices[i] != 0\n",
    "            game[i].owncount[choices[i]] = game[i].owncount[choices[i]] + mod[i]\n",
    "            ff = game[i].own[choices[i]]\n",
    "            if ff in game[j].obs\n",
    "                ind = findall(x -> x==ff, game[j].obs)[1]\n",
    "                game[j].obscount[ind] = game[i].owncount[choices[i]]\n",
    "            else\n",
    "                0\n",
    "            end\n",
    "        end\n",
    "    end\n",
    "    return game\n",
    "end\n",
    "\n",
    "function play_combat(game::Array{BattleView}, choices::Array{Int64}, verbose::Bool = false)::Array{BattleView}\n",
    "    round = game[1].round + 1\n",
    "    fighters = [game[i].own[choices[i]] for i in 1:2]\n",
    "    for i in 1:2\n",
    "        @assert game[i].owncount[choices[i]] >= 0\n",
    "    end\n",
    "    if verbose\n",
    "        print(\"Round \")\n",
    "        print(round)\n",
    "        print(\": #A\")\n",
    "        print(choices[1])\n",
    "        print(\" \")\n",
    "        print(fighters[1])\n",
    "        print(\" vs #B\")\n",
    "        print(choices[2])\n",
    "        print(\" \")\n",
    "        println(fighters[2])\n",
    "    end\n",
    "    outcome = eval_battle(fighters[1], fighters[2])\n",
    "    if verbose\n",
    "        if outcome == 0\n",
    "            println(\"Tied!\")\n",
    "        else\n",
    "            if outcome == 1\n",
    "                print(fighters[1])\n",
    "            end\n",
    "            if outcome == -1\n",
    "                print(fighters[2])\n",
    "            end\n",
    "            println(\" wins!\")\n",
    "        end\n",
    "    end\n",
    "    game = observe_fighters(game, choices)\n",
    "    if outcome > -1\n",
    "        game = modify_fighter_counts(game, choices, [0, -1])\n",
    "    end\n",
    "    if outcome < 1\n",
    "        game = modify_fighter_counts(game, choices, [-1, 0])\n",
    "    end\n",
    "    for i in 1:2\n",
    "        game[i].round = round\n",
    "    end\n",
    "    return game\n",
    "end\n",
    "\n",
    "function play_add_spud(game::Array{BattleView}, player::Int64, ff::Spud, verbose::Bool = false)::Array{BattleView}\n",
    "    game[player].own = append!(game[player].own, [ff])\n",
    "    game[player].owncount = append!(game[player].owncount, [n_copy])\n",
    "    game[player].deployed = append!(game[player].deployed, [false])\n",
    "    if verbose\n",
    "        print(\"Player \")\n",
    "        print(player)\n",
    "        print(\" adds #\")\n",
    "        print([\"A\", \"B\"][player])\n",
    "        print(length(game[player].own))\n",
    "        print(\" \")\n",
    "        println(ff)\n",
    "    end\n",
    "    return game\n",
    "end\n",
    "\n",
    "function play_is_game_over(game::Array{BattleView})::Bool\n",
    "    for bv in game\n",
    "        if sum(bv.owncount) == 0\n",
    "            return true\n",
    "        end\n",
    "    end\n",
    "    return false\n",
    "end"
   ]
  },
  {
   "cell_type": "code",
   "execution_count": 14,
   "id": "15fdaf79",
   "metadata": {},
   "outputs": [
    {
     "data": {
      "text/plain": [
       "ai2_create (generic function with 1 method)"
      ]
     },
     "execution_count": 14,
     "metadata": {},
     "output_type": "execute_result"
    }
   ],
   "source": [
    "function generate_rand_team(env, counts, nteam)\n",
    "    cc = cumsum(counts)\n",
    "    team = Array{Spud}(undef, nteam)\n",
    "    for i in 1:nteam\n",
    "        tmp = rand(1:sum(counts))\n",
    "        ind = sum(cc .< tmp)+1\n",
    "        team[i] = env[ind]\n",
    "    end\n",
    "    return team\n",
    "end\n",
    "\n",
    "function ai0_pick(a::BattleView)::Int64\n",
    "    inds = findall(a.owncount .> 0)\n",
    "    return rand(inds)\n",
    "end\n",
    "\n",
    "function ai0_create(a::BattleView)::Spud\n",
    "    return generate_rand_team(nash_env, counts, 1)[1]\n",
    "end\n",
    "\n",
    "function ai1_create(a::BattleView)::Spud\n",
    "    ops = a.obs[a.obscount .> 0]\n",
    "    ebs = [eval_battle_list(ff, ops) for ff in nash_env]\n",
    "    cands = nash_env[ebs .== maximum(ebs)]\n",
    "    return rand(cands)\n",
    "end\n",
    "\n",
    "function ai2_create(a::BattleView)::Spud\n",
    "    ops = a.obs[a.obscount .> 0]\n",
    "    ebs = [eval_battle_list(ff, ops) for ff in nash_env]\n",
    "    if maximum(ebs) == length(ops)\n",
    "        cands = nash_env[ebs .== maximum(ebs)]\n",
    "        return rand(cands)\n",
    "    else\n",
    "        ebs2 = [eval_battle_list(ff, ops) for ff in lib]\n",
    "        if maximum(ebs2) > maximum(ebs)\n",
    "            cands = lib[ebs2 .== maximum(ebs2)]\n",
    "            return rand_rename(rand(cands))\n",
    "        else\n",
    "            cands = nash_env[ebs .== maximum(ebs)]\n",
    "            return rand(cands)\n",
    "        end\n",
    "    end\n",
    "end\n"
   ]
  },
  {
   "cell_type": "code",
   "execution_count": 15,
   "id": "0f1a5e08",
   "metadata": {},
   "outputs": [
    {
     "data": {
      "text/plain": [
       "ai_greedy_pick (generic function with 1 method)"
      ]
     },
     "execution_count": 15,
     "metadata": {},
     "output_type": "execute_result"
    }
   ],
   "source": [
    "# picks Spud most likely to win\n",
    "function ai_greedy_pick(a::BattleView)::Int64\n",
    "    if length(a.obs[a.obscount .> 0]) == 0\n",
    "        return rand(findall(a.owncount .> 0))\n",
    "    end\n",
    "    res = ffp2(a.own[a.owncount .> 0], a.obs[a.obscount .> 0], 100)\n",
    "    ind = findall(a.owncount .> 0)[rand(findall(res.w1 .== maximum(res.w1)))]\n",
    "    return ind\n",
    "end"
   ]
  },
  {
   "cell_type": "code",
   "execution_count": 16,
   "id": "317a4d45",
   "metadata": {},
   "outputs": [
    {
     "data": {
      "text/plain": [
       "ai_conservative_pick (generic function with 1 method)"
      ]
     },
     "execution_count": 16,
     "metadata": {},
     "output_type": "execute_result"
    }
   ],
   "source": [
    "# picks from spuds already deployed\n",
    "function ai_conservative_pick(a::BattleView)::Int64\n",
    "    own = a.own[a.owncount .> 0 .&& a.deployed]\n",
    "    owninds = findall(a.owncount .> 0 .&& a.deployed)\n",
    "    if length(own) == 0\n",
    "        # pick greedy\n",
    "        return ai_greedy_pick(a)\n",
    "    end\n",
    "    ops = a.obs[a.obscount .> 0]\n",
    "    res = ffp2(own, ops, 100)\n",
    "    ind = owninds[rand(findall(res.w1 .== maximum(res.w1)))]\n",
    "    return ind\n",
    "end"
   ]
  },
  {
   "cell_type": "code",
   "execution_count": 17,
   "id": "24524423",
   "metadata": {},
   "outputs": [
    {
     "data": {
      "text/plain": [
       "ai_myopic_pick (generic function with 1 method)"
      ]
     },
     "execution_count": 17,
     "metadata": {},
     "output_type": "execute_result"
    }
   ],
   "source": [
    "# picks Spud based on 1-round nash\n",
    "function ai_myopic_pick(a::BattleView)::Int64\n",
    "    if length(a.obs[a.obscount .> 0]) == 0\n",
    "        return rand(findall(a.owncount .> 0))\n",
    "    end\n",
    "    res = ffp2(a.own[a.owncount .> 0], a.obs[a.obscount .> 0], 100)\n",
    "    cc = cumsum(res.w1)\n",
    "    ind = sum(cc .< rand()) + 1\n",
    "    return findall(a.owncount .> 0)[ind]\n",
    "end"
   ]
  },
  {
   "cell_type": "code",
   "execution_count": 18,
   "id": "c30acb93",
   "metadata": {},
   "outputs": [
    {
     "data": {
      "text/plain": [
       "play_game (generic function with 2 methods)"
      ]
     },
     "execution_count": 18,
     "metadata": {},
     "output_type": "execute_result"
    }
   ],
   "source": [
    "creation_rounds = [5, 10, 15]\n",
    "\n",
    "function play_game(players::Array{AiPlayer}, verbose::Bool = true)::Int64\n",
    "    ai1 = players[1]\n",
    "    ai2 = players[2]\n",
    "    ais = players\n",
    "    team1 = ai1.genteam()\n",
    "    team2 = ai2.genteam()\n",
    "    game = initialize_game(team1, team2)\n",
    "    while !play_is_game_over(game)\n",
    "        # play a round\n",
    "        choice1 = ai1.pick(game[1])\n",
    "        choice2 = ai2.pick(game[2])\n",
    "        game = play_combat(game, [choice1, choice2], verbose)\n",
    "        if verbose\n",
    "            for i in 1:2\n",
    "                println(game[i].owncount)\n",
    "            end\n",
    "        end\n",
    "        if game[1].round in creation_rounds\n",
    "            for i in 1:2\n",
    "                ff = ais[i].create(game[i])\n",
    "                game = play_add_spud(game, i, ff, verbose)\n",
    "            end\n",
    "        end\n",
    "    end\n",
    "    if sum(game[1].owncount) == 0\n",
    "        if sum(game[2].owncount) == 0\n",
    "            return 0\n",
    "        else\n",
    "            return -1\n",
    "        end\n",
    "    end\n",
    "    return 1\n",
    "end"
   ]
  },
  {
   "cell_type": "code",
   "execution_count": 19,
   "id": "331f1d53",
   "metadata": {},
   "outputs": [],
   "source": [
    "# ai1 = AiPlayer(() -> generate_rand_team(nash_env, counts, 5), ai_greedy_pick, ai1_create)\n",
    "# ai2 = AiPlayer(() -> generate_rand_team(nash_env, counts, 5), ai_greedy_pick, ai1_create)\n",
    "# ais = [ai1, ai2]\n",
    "# play_game(ais, true)"
   ]
  },
  {
   "cell_type": "code",
   "execution_count": 206,
   "id": "1bcbf24e",
   "metadata": {},
   "outputs": [],
   "source": [
    "#@time lib = sample_library(1.01, [999]);"
   ]
  },
  {
   "cell_type": "code",
   "execution_count": 21,
   "id": "031a3597",
   "metadata": {},
   "outputs": [
    {
     "data": {
      "text/plain": [
       "spud_to_vec (generic function with 1 method)"
      ]
     },
     "execution_count": 21,
     "metadata": {},
     "output_type": "execute_result"
    }
   ],
   "source": [
    "function filter_nondominated(as::Array{Spud})::Array{Spud}\n",
    "    df = spuds_to_df(as)\n",
    "    mat = Array{Int64}(undef, (length(as), 6))\n",
    "    mat[:, 1] = df.h\n",
    "    mat[:, 2] = df.f\n",
    "    mat[:, 3] = df.l\n",
    "    mat[:, 4] = df.p\n",
    "    mat[:, 5] = df.r\n",
    "    mat[:, 6] = df.s;\n",
    "    isDominated = zeros(Int64, length(as));\n",
    "    for i in 1:length(as)\n",
    "        v = mat[i, :]\n",
    "        bv = ones(Int64, length(as))\n",
    "        for j in 1:6\n",
    "            bv = bv .* (mat[:, j] .>= v[j])\n",
    "        end\n",
    "        if sum(bv) > 1\n",
    "            isDominated[i] = 1\n",
    "        end\n",
    "    end\n",
    "    return as[isDominated .== 0]\n",
    "end\n",
    "\n",
    "function spud_to_vec(a::Spud)::Array{Int64}\n",
    "    return [a.h, a.f, a.l, a.p, a.r, a.s]\n",
    "end"
   ]
  },
  {
   "cell_type": "markdown",
   "id": "35cfdcb2",
   "metadata": {},
   "source": [
    "## Analyzing part costs"
   ]
  },
  {
   "cell_type": "code",
   "execution_count": 27,
   "id": "01dd72f2",
   "metadata": {},
   "outputs": [],
   "source": [
    "using MAT\n",
    "res = matread(\"scores_sq300.mat\");"
   ]
  },
  {
   "cell_type": "code",
   "execution_count": 28,
   "id": "4e5e74c7",
   "metadata": {},
   "outputs": [],
   "source": [
    "scores = res[\"scores\"];"
   ]
  },
  {
   "cell_type": "code",
   "execution_count": 52,
   "id": "82228879",
   "metadata": {},
   "outputs": [],
   "source": [
    "idxa = [ones(Int64, (9,9,9,9,9,9)) for i in 1:6]\n",
    "for i in 1:9\n",
    "    idxa[1][i,:,:,:,:,:] .= i\n",
    "    idxa[2][:,i,:,:,:,:] .= i\n",
    "    idxa[3][:,:,i,:,:,:] .= i\n",
    "    idxa[4][:,:,:,i,:,:] .= i\n",
    "    idxa[5][:,:,:,:,i,:] .= i\n",
    "    idxa[6][:,:,:,:,:,i] .= i\n",
    "end"
   ]
  },
  {
   "cell_type": "code",
   "execution_count": 29,
   "id": "a12c626d",
   "metadata": {},
   "outputs": [],
   "source": [
    "#inds = findall(scores .> 99 .&& scores .<= 100);"
   ]
  },
  {
   "cell_type": "code",
   "execution_count": 30,
   "id": "840c2ed6",
   "metadata": {},
   "outputs": [],
   "source": [
    "#nash_env = [Spud(\"\",v[1],v[2],v[3],v[4],v[5],v[6],999) for v in inds];"
   ]
  },
  {
   "cell_type": "markdown",
   "id": "dcf72eeb",
   "metadata": {},
   "source": [
    "#### increasing H by 1"
   ]
  },
  {
   "cell_type": "code",
   "execution_count": 31,
   "id": "9e24f6f9",
   "metadata": {},
   "outputs": [],
   "source": [
    "# cost of increasing H by 1\n",
    "base_cost = scores[1:8,:,:,:,:,:];\n",
    "diff = scores[2:9,:,:,:,:,:] - scores[1:8,:,:,:,:,:];"
   ]
  },
  {
   "cell_type": "code",
   "execution_count": 32,
   "id": "3a058621",
   "metadata": {},
   "outputs": [
    {
     "data": {
      "text/plain": [
       "35"
      ]
     },
     "execution_count": 32,
     "metadata": {},
     "output_type": "execute_result"
    }
   ],
   "source": [
    "maximum(diff)"
   ]
  },
  {
   "cell_type": "code",
   "execution_count": 33,
   "id": "40063c40",
   "metadata": {},
   "outputs": [
    {
     "data": {
      "text/plain": [
       "28-element Vector{CartesianIndex{6}}:\n",
       " CartesianIndex(5, 9, 4, 1, 5, 1)\n",
       " CartesianIndex(5, 8, 5, 1, 5, 1)\n",
       " CartesianIndex(5, 7, 7, 1, 5, 1)\n",
       " CartesianIndex(5, 6, 8, 1, 5, 1)\n",
       " CartesianIndex(5, 9, 4, 1, 6, 1)\n",
       " CartesianIndex(5, 7, 6, 1, 6, 1)\n",
       " CartesianIndex(5, 8, 6, 1, 6, 1)\n",
       " CartesianIndex(5, 6, 7, 1, 6, 1)\n",
       " CartesianIndex(5, 8, 4, 1, 7, 1)\n",
       " CartesianIndex(5, 7, 5, 1, 7, 1)\n",
       " CartesianIndex(5, 7, 6, 1, 7, 1)\n",
       " CartesianIndex(5, 6, 8, 1, 7, 1)\n",
       " CartesianIndex(5, 6, 9, 1, 7, 1)\n",
       " ⋮\n",
       " CartesianIndex(5, 7, 6, 1, 9, 1)\n",
       " CartesianIndex(5, 6, 7, 1, 4, 2)\n",
       " CartesianIndex(5, 5, 9, 1, 4, 2)\n",
       " CartesianIndex(5, 6, 7, 2, 4, 2)\n",
       " CartesianIndex(5, 6, 8, 2, 4, 2)\n",
       " CartesianIndex(5, 5, 9, 2, 4, 2)\n",
       " CartesianIndex(5, 6, 7, 1, 5, 2)\n",
       " CartesianIndex(5, 6, 8, 1, 5, 2)\n",
       " CartesianIndex(5, 5, 8, 1, 6, 2)\n",
       " CartesianIndex(5, 5, 9, 1, 6, 2)\n",
       " CartesianIndex(5, 5, 8, 2, 6, 2)\n",
       " CartesianIndex(5, 5, 9, 1, 7, 2)"
      ]
     },
     "execution_count": 33,
     "metadata": {},
     "output_type": "execute_result"
    }
   ],
   "source": [
    "findall(diff .== maximum(diff))"
   ]
  },
  {
   "cell_type": "code",
   "execution_count": 34,
   "id": "771fbd4c",
   "metadata": {},
   "outputs": [
    {
     "data": {
      "text/plain": [
       "77"
      ]
     },
     "execution_count": 34,
     "metadata": {},
     "output_type": "execute_result"
    }
   ],
   "source": [
    "scores[5, 9, 4, 1, 5, 1]"
   ]
  },
  {
   "cell_type": "code",
   "execution_count": 35,
   "id": "5e813b69",
   "metadata": {},
   "outputs": [
    {
     "data": {
      "text/plain": [
       "112"
      ]
     },
     "execution_count": 35,
     "metadata": {},
     "output_type": "execute_result"
    }
   ],
   "source": [
    "scores[6, 9, 4, 1, 5, 1]"
   ]
  },
  {
   "cell_type": "code",
   "execution_count": 36,
   "id": "2ff89dd6",
   "metadata": {},
   "outputs": [
    {
     "data": {
      "text/plain": [
       "88"
      ]
     },
     "execution_count": 36,
     "metadata": {},
     "output_type": "execute_result"
    }
   ],
   "source": [
    "scores[5, 5, 9, 1, 6, 2]"
   ]
  },
  {
   "cell_type": "code",
   "execution_count": 37,
   "id": "d9567052",
   "metadata": {},
   "outputs": [
    {
     "data": {
      "text/plain": [
       "123"
      ]
     },
     "execution_count": 37,
     "metadata": {},
     "output_type": "execute_result"
    }
   ],
   "source": [
    "scores[6, 5, 9, 1, 6, 2]"
   ]
  },
  {
   "cell_type": "code",
   "execution_count": 40,
   "id": "6122e45a",
   "metadata": {},
   "outputs": [],
   "source": [
    "# cost of increasing H by 1\n",
    "# excluding when cost > 100\n",
    "base_cost = scores[1:8,:,:,:,:,:];\n",
    "end_cost = scores[2:9,:,:,:,:,:]\n",
    "diff = end_cost - base_cost\n",
    "diff[end_cost .> 100] .= -1;"
   ]
  },
  {
   "cell_type": "code",
   "execution_count": 41,
   "id": "6277b2c2",
   "metadata": {},
   "outputs": [
    {
     "name": "stdout",
     "output_type": "stream",
     "text": [
      "34\n"
     ]
    },
    {
     "data": {
      "text/plain": [
       "20-element Vector{CartesianIndex{6}}:\n",
       " CartesianIndex(5, 8, 4, 1, 3, 1)\n",
       " CartesianIndex(5, 7, 5, 1, 4, 1)\n",
       " CartesianIndex(5, 7, 5, 1, 5, 1)\n",
       " CartesianIndex(5, 6, 6, 1, 5, 1)\n",
       " CartesianIndex(5, 7, 4, 1, 6, 1)\n",
       " CartesianIndex(5, 6, 6, 1, 6, 1)\n",
       " CartesianIndex(5, 5, 7, 1, 6, 1)\n",
       " CartesianIndex(5, 6, 5, 1, 7, 1)\n",
       " CartesianIndex(5, 5, 7, 1, 7, 1)\n",
       " CartesianIndex(5, 7, 4, 1, 8, 1)\n",
       " CartesianIndex(5, 7, 4, 1, 9, 1)\n",
       " CartesianIndex(5, 7, 4, 1, 3, 2)\n",
       " CartesianIndex(5, 6, 5, 1, 4, 2)\n",
       " CartesianIndex(5, 7, 4, 1, 5, 2)\n",
       " CartesianIndex(5, 6, 5, 1, 5, 2)\n",
       " CartesianIndex(5, 6, 5, 1, 6, 2)\n",
       " CartesianIndex(5, 6, 5, 1, 7, 2)\n",
       " CartesianIndex(5, 7, 4, 1, 2, 3)\n",
       " CartesianIndex(5, 6, 5, 1, 3, 3)\n",
       " CartesianIndex(5, 6, 5, 1, 1, 4)"
      ]
     },
     "execution_count": 41,
     "metadata": {},
     "output_type": "execute_result"
    }
   ],
   "source": [
    "println(maximum(diff))\n",
    "findall(diff .== maximum(diff))"
   ]
  },
  {
   "cell_type": "code",
   "execution_count": 46,
   "id": "14edd91f",
   "metadata": {},
   "outputs": [
    {
     "data": {
      "text/plain": [
       "10-element Vector{CartesianIndex{6}}:\n",
       " CartesianIndex(5, 8, 3, 1, 7, 1)\n",
       " CartesianIndex(5, 7, 5, 1, 2, 1)\n",
       " CartesianIndex(5, 5, 6, 4, 4, 2)\n",
       " CartesianIndex(5, 6, 5, 1, 6, 1)\n",
       " CartesianIndex(5, 7, 4, 2, 2, 2)\n",
       " CartesianIndex(5, 5, 6, 1, 1, 5)\n",
       " CartesianIndex(5, 7, 5, 1, 1, 2)\n",
       " CartesianIndex(5, 7, 5, 2, 2, 1)\n",
       " CartesianIndex(5, 7, 4, 1, 1, 4)\n",
       " CartesianIndex(4, 4, 9, 1, 3, 6)"
      ]
     },
     "execution_count": 46,
     "metadata": {},
     "output_type": "execute_result"
    }
   ],
   "source": [
    "[rand(findall(diff .== 33)) for i in 1:10]"
   ]
  },
  {
   "cell_type": "code",
   "execution_count": 47,
   "id": "98942931",
   "metadata": {},
   "outputs": [
    {
     "data": {
      "text/plain": [
       "10-element Vector{CartesianIndex{6}}:\n",
       " CartesianIndex(5, 8, 2, 1, 1, 3)\n",
       " CartesianIndex(4, 4, 8, 2, 2, 6)\n",
       " CartesianIndex(5, 7, 4, 1, 3, 1)\n",
       " CartesianIndex(5, 5, 6, 1, 1, 4)\n",
       " CartesianIndex(4, 7, 5, 1, 1, 6)\n",
       " CartesianIndex(4, 6, 5, 1, 2, 8)\n",
       " CartesianIndex(5, 6, 4, 1, 3, 4)\n",
       " CartesianIndex(4, 1, 9, 4, 8, 5)\n",
       " CartesianIndex(5, 7, 3, 1, 2, 4)\n",
       " CartesianIndex(5, 5, 5, 1, 7, 3)"
      ]
     },
     "execution_count": 47,
     "metadata": {},
     "output_type": "execute_result"
    }
   ],
   "source": [
    "[rand(findall(diff .== 32)) for i in 1:10]"
   ]
  },
  {
   "cell_type": "code",
   "execution_count": 48,
   "id": "4a5fcf3e",
   "metadata": {},
   "outputs": [
    {
     "data": {
      "text/plain": [
       "10-element Vector{CartesianIndex{6}}:\n",
       " CartesianIndex(3, 2, 9, 4, 8, 3)\n",
       " CartesianIndex(3, 6, 5, 3, 4, 7)\n",
       " CartesianIndex(2, 4, 9, 4, 5, 6)\n",
       " CartesianIndex(5, 1, 5, 1, 9, 2)\n",
       " CartesianIndex(5, 2, 4, 6, 5, 1)\n",
       " CartesianIndex(5, 1, 5, 4, 4, 7)\n",
       " CartesianIndex(4, 3, 6, 1, 4, 2)\n",
       " CartesianIndex(4, 4, 4, 3, 4, 4)\n",
       " CartesianIndex(3, 7, 8, 2, 3, 2)\n",
       " CartesianIndex(4, 3, 5, 5, 4, 4)"
      ]
     },
     "execution_count": 48,
     "metadata": {},
     "output_type": "execute_result"
    }
   ],
   "source": [
    "[rand(findall(diff .== 20)) for i in 1:10]"
   ]
  },
  {
   "cell_type": "code",
   "execution_count": 49,
   "id": "ef52822c",
   "metadata": {},
   "outputs": [
    {
     "data": {
      "text/plain": [
       "10-element Vector{CartesianIndex{6}}:\n",
       " CartesianIndex(2, 8, 2, 9, 2, 2)\n",
       " CartesianIndex(3, 7, 3, 7, 3, 1)\n",
       " CartesianIndex(3, 3, 5, 5, 7, 2)\n",
       " CartesianIndex(2, 1, 6, 8, 9, 1)\n",
       " CartesianIndex(6, 3, 2, 1, 9, 5)\n",
       " CartesianIndex(6, 2, 4, 6, 5, 9)\n",
       " CartesianIndex(8, 1, 5, 9, 2, 2)\n",
       " CartesianIndex(6, 2, 2, 5, 1, 5)\n",
       " CartesianIndex(2, 8, 1, 1, 7, 6)\n",
       " CartesianIndex(7, 3, 4, 9, 4, 4)"
      ]
     },
     "execution_count": 49,
     "metadata": {},
     "output_type": "execute_result"
    }
   ],
   "source": [
    "[rand(findall(diff .== 10)) for i in 1:10]"
   ]
  },
  {
   "cell_type": "code",
   "execution_count": 59,
   "id": "9cc86c66",
   "metadata": {},
   "outputs": [
    {
     "name": "stdout",
     "output_type": "stream",
     "text": [
      "19\n"
     ]
    },
    {
     "data": {
      "text/plain": [
       "16-element Vector{CartesianIndex{6}}:\n",
       " CartesianIndex(1, 3, 9, 9, 1, 8)\n",
       " CartesianIndex(1, 2, 9, 1, 9, 8)\n",
       " CartesianIndex(1, 3, 9, 8, 1, 9)\n",
       " CartesianIndex(1, 4, 9, 8, 1, 9)\n",
       " CartesianIndex(1, 3, 9, 1, 8, 9)\n",
       " CartesianIndex(1, 3, 9, 2, 8, 9)\n",
       " CartesianIndex(1, 4, 9, 2, 8, 9)\n",
       " CartesianIndex(1, 1, 9, 1, 9, 9)\n",
       " CartesianIndex(1, 2, 9, 1, 9, 9)\n",
       " CartesianIndex(1, 3, 9, 1, 9, 9)\n",
       " CartesianIndex(1, 1, 9, 2, 9, 9)\n",
       " CartesianIndex(1, 2, 9, 2, 9, 9)\n",
       " CartesianIndex(1, 3, 9, 2, 9, 9)\n",
       " CartesianIndex(1, 1, 9, 3, 9, 9)\n",
       " CartesianIndex(1, 2, 9, 3, 9, 9)\n",
       " CartesianIndex(1, 3, 9, 3, 9, 9)"
      ]
     },
     "execution_count": 59,
     "metadata": {},
     "output_type": "execute_result"
    }
   ],
   "source": [
    "println(maximum(diff[idxa[1][1:8,:,:,:,:,:] .== 1]))\n",
    "findall(diff .== maximum(diff[idxa[1][1:8,:,:,:,:,:] .== 1]) .&& idxa[1][1:8,:,:,:,:,:] .== 1)"
   ]
  },
  {
   "cell_type": "code",
   "execution_count": 62,
   "id": "754feb8a",
   "metadata": {},
   "outputs": [
    {
     "name": "stdout",
     "output_type": "stream",
     "text": [
      "22\n"
     ]
    },
    {
     "data": {
      "text/plain": [
       "2-element Vector{CartesianIndex{6}}:\n",
       " CartesianIndex(2, 2, 9, 1, 9, 9)\n",
       " CartesianIndex(2, 2, 9, 2, 9, 9)"
      ]
     },
     "execution_count": 62,
     "metadata": {},
     "output_type": "execute_result"
    }
   ],
   "source": [
    "j = 2\n",
    "println(maximum(diff[idxa[1][1:8,:,:,:,:,:] .== j]))\n",
    "findall(diff .== maximum(diff[idxa[1][1:8,:,:,:,:,:] .== j]) .&& idxa[1][1:8,:,:,:,:,:] .== j)"
   ]
  },
  {
   "cell_type": "code",
   "execution_count": 63,
   "id": "09fe79f2",
   "metadata": {},
   "outputs": [
    {
     "name": "stdout",
     "output_type": "stream",
     "text": [
      "28\n"
     ]
    },
    {
     "data": {
      "text/plain": [
       "9-element Vector{CartesianIndex{6}}:\n",
       " CartesianIndex(3, 1, 9, 7, 7, 9)\n",
       " CartesianIndex(3, 1, 9, 8, 7, 9)\n",
       " CartesianIndex(3, 1, 9, 9, 7, 9)\n",
       " CartesianIndex(3, 1, 9, 9, 8, 9)\n",
       " CartesianIndex(3, 1, 9, 1, 9, 9)\n",
       " CartesianIndex(3, 1, 9, 3, 9, 9)\n",
       " CartesianIndex(3, 1, 9, 5, 9, 9)\n",
       " CartesianIndex(3, 1, 9, 7, 9, 9)\n",
       " CartesianIndex(3, 1, 9, 9, 9, 9)"
      ]
     },
     "execution_count": 63,
     "metadata": {},
     "output_type": "execute_result"
    }
   ],
   "source": [
    "j = 3\n",
    "println(maximum(diff[idxa[1][1:8,:,:,:,:,:] .== j]))\n",
    "findall(diff .== maximum(diff[idxa[1][1:8,:,:,:,:,:] .== j]) .&& idxa[1][1:8,:,:,:,:,:] .== j)"
   ]
  },
  {
   "cell_type": "code",
   "execution_count": 64,
   "id": "6e6d2877",
   "metadata": {},
   "outputs": [
    {
     "name": "stdout",
     "output_type": "stream",
     "text": [
      "33\n"
     ]
    },
    {
     "data": {
      "text/plain": [
       "22-element Vector{CartesianIndex{6}}:\n",
       " CartesianIndex(4, 4, 9, 2, 4, 5)\n",
       " CartesianIndex(4, 6, 7, 1, 1, 6)\n",
       " CartesianIndex(4, 5, 8, 1, 1, 6)\n",
       " CartesianIndex(4, 5, 9, 1, 1, 6)\n",
       " CartesianIndex(4, 5, 8, 2, 1, 6)\n",
       " CartesianIndex(4, 4, 9, 1, 3, 6)\n",
       " CartesianIndex(4, 6, 5, 1, 1, 7)\n",
       " CartesianIndex(4, 6, 6, 1, 1, 7)\n",
       " CartesianIndex(4, 5, 7, 1, 1, 7)\n",
       " CartesianIndex(4, 5, 8, 1, 1, 7)\n",
       " CartesianIndex(4, 4, 9, 1, 1, 7)\n",
       " CartesianIndex(4, 5, 7, 2, 1, 7)\n",
       " CartesianIndex(4, 4, 8, 3, 1, 7)\n",
       " CartesianIndex(4, 5, 7, 1, 2, 7)\n",
       " CartesianIndex(4, 6, 5, 1, 1, 8)\n",
       " CartesianIndex(4, 5, 6, 1, 1, 8)\n",
       " CartesianIndex(4, 5, 7, 1, 1, 8)\n",
       " CartesianIndex(4, 4, 8, 1, 1, 8)\n",
       " CartesianIndex(4, 3, 9, 1, 1, 8)\n",
       " CartesianIndex(4, 5, 6, 1, 2, 8)\n",
       " CartesianIndex(4, 1, 9, 2, 2, 8)\n",
       " CartesianIndex(4, 5, 6, 1, 1, 9)"
      ]
     },
     "execution_count": 64,
     "metadata": {},
     "output_type": "execute_result"
    }
   ],
   "source": [
    "j = 4\n",
    "println(maximum(diff[idxa[1][1:8,:,:,:,:,:] .== j]))\n",
    "findall(diff .== maximum(diff[idxa[1][1:8,:,:,:,:,:] .== j]) .&& idxa[1][1:8,:,:,:,:,:] .== j)"
   ]
  },
  {
   "cell_type": "code",
   "execution_count": 65,
   "id": "76b6326d",
   "metadata": {},
   "outputs": [
    {
     "name": "stdout",
     "output_type": "stream",
     "text": [
      "34\n"
     ]
    },
    {
     "data": {
      "text/plain": [
       "20-element Vector{CartesianIndex{6}}:\n",
       " CartesianIndex(5, 8, 4, 1, 3, 1)\n",
       " CartesianIndex(5, 7, 5, 1, 4, 1)\n",
       " CartesianIndex(5, 7, 5, 1, 5, 1)\n",
       " CartesianIndex(5, 6, 6, 1, 5, 1)\n",
       " CartesianIndex(5, 7, 4, 1, 6, 1)\n",
       " CartesianIndex(5, 6, 6, 1, 6, 1)\n",
       " CartesianIndex(5, 5, 7, 1, 6, 1)\n",
       " CartesianIndex(5, 6, 5, 1, 7, 1)\n",
       " CartesianIndex(5, 5, 7, 1, 7, 1)\n",
       " CartesianIndex(5, 7, 4, 1, 8, 1)\n",
       " CartesianIndex(5, 7, 4, 1, 9, 1)\n",
       " CartesianIndex(5, 7, 4, 1, 3, 2)\n",
       " CartesianIndex(5, 6, 5, 1, 4, 2)\n",
       " CartesianIndex(5, 7, 4, 1, 5, 2)\n",
       " CartesianIndex(5, 6, 5, 1, 5, 2)\n",
       " CartesianIndex(5, 6, 5, 1, 6, 2)\n",
       " CartesianIndex(5, 6, 5, 1, 7, 2)\n",
       " CartesianIndex(5, 7, 4, 1, 2, 3)\n",
       " CartesianIndex(5, 6, 5, 1, 3, 3)\n",
       " CartesianIndex(5, 6, 5, 1, 1, 4)"
      ]
     },
     "execution_count": 65,
     "metadata": {},
     "output_type": "execute_result"
    }
   ],
   "source": [
    "j = 5\n",
    "println(maximum(diff[idxa[1][1:8,:,:,:,:,:] .== j]))\n",
    "findall(diff .== maximum(diff[idxa[1][1:8,:,:,:,:,:] .== j]) .&& idxa[1][1:8,:,:,:,:,:] .== j)"
   ]
  },
  {
   "cell_type": "code",
   "execution_count": 66,
   "id": "1c894051",
   "metadata": {},
   "outputs": [
    {
     "name": "stdout",
     "output_type": "stream",
     "text": [
      "26\n"
     ]
    },
    {
     "data": {
      "text/plain": [
       "7-element Vector{CartesianIndex{6}}:\n",
       " CartesianIndex(6, 6, 4, 1, 1, 1)\n",
       " CartesianIndex(6, 6, 4, 1, 2, 1)\n",
       " CartesianIndex(6, 6, 4, 2, 2, 1)\n",
       " CartesianIndex(6, 6, 4, 1, 4, 1)\n",
       " CartesianIndex(6, 6, 4, 1, 1, 2)\n",
       " CartesianIndex(6, 6, 4, 1, 2, 2)\n",
       " CartesianIndex(6, 6, 4, 1, 3, 2)"
      ]
     },
     "execution_count": 66,
     "metadata": {},
     "output_type": "execute_result"
    }
   ],
   "source": [
    "j = 6\n",
    "println(maximum(diff[idxa[1][1:8,:,:,:,:,:] .== j]))\n",
    "findall(diff .== maximum(diff[idxa[1][1:8,:,:,:,:,:] .== j]) .&& idxa[1][1:8,:,:,:,:,:] .== j)"
   ]
  },
  {
   "cell_type": "code",
   "execution_count": 67,
   "id": "83360164",
   "metadata": {},
   "outputs": [
    {
     "name": "stdout",
     "output_type": "stream",
     "text": [
      "21\n"
     ]
    },
    {
     "data": {
      "text/plain": [
       "10-element Vector{CartesianIndex{6}}:\n",
       " CartesianIndex(7, 6, 3, 1, 1, 1)\n",
       " CartesianIndex(7, 6, 3, 2, 1, 1)\n",
       " CartesianIndex(7, 6, 2, 4, 1, 1)\n",
       " CartesianIndex(7, 6, 2, 2, 3, 1)\n",
       " CartesianIndex(7, 6, 2, 1, 4, 1)\n",
       " CartesianIndex(7, 6, 1, 1, 1, 2)\n",
       " CartesianIndex(7, 6, 2, 1, 1, 2)\n",
       " CartesianIndex(7, 6, 2, 1, 2, 2)\n",
       " CartesianIndex(7, 6, 1, 1, 1, 3)\n",
       " CartesianIndex(7, 5, 4, 1, 2, 3)"
      ]
     },
     "execution_count": 67,
     "metadata": {},
     "output_type": "execute_result"
    }
   ],
   "source": [
    "j = 7\n",
    "println(maximum(diff[idxa[1][1:8,:,:,:,:,:] .== j]))\n",
    "findall(diff .== maximum(diff[idxa[1][1:8,:,:,:,:,:] .== j]) .&& idxa[1][1:8,:,:,:,:,:] .== j)"
   ]
  },
  {
   "cell_type": "code",
   "execution_count": 68,
   "id": "d1176391",
   "metadata": {},
   "outputs": [
    {
     "name": "stdout",
     "output_type": "stream",
     "text": [
      "18\n"
     ]
    },
    {
     "data": {
      "text/plain": [
       "8-element Vector{CartesianIndex{6}}:\n",
       " CartesianIndex(8, 5, 3, 2, 1, 2)\n",
       " CartesianIndex(8, 5, 3, 2, 2, 2)\n",
       " CartesianIndex(8, 5, 2, 1, 1, 3)\n",
       " CartesianIndex(8, 5, 1, 1, 1, 4)\n",
       " CartesianIndex(8, 5, 2, 1, 1, 4)\n",
       " CartesianIndex(8, 5, 1, 2, 1, 4)\n",
       " CartesianIndex(8, 5, 2, 2, 1, 4)\n",
       " CartesianIndex(8, 5, 1, 1, 1, 5)"
      ]
     },
     "execution_count": 68,
     "metadata": {},
     "output_type": "execute_result"
    }
   ],
   "source": [
    "j = 8\n",
    "println(maximum(diff[idxa[1][1:8,:,:,:,:,:] .== j]))\n",
    "findall(diff .== maximum(diff[idxa[1][1:8,:,:,:,:,:] .== j]) .&& idxa[1][1:8,:,:,:,:,:] .== j)"
   ]
  },
  {
   "cell_type": "markdown",
   "id": "57b975da",
   "metadata": {},
   "source": [
    "#### increasing F by 1"
   ]
  },
  {
   "cell_type": "code",
   "execution_count": 69,
   "id": "521c1ca2",
   "metadata": {},
   "outputs": [],
   "source": [
    "# cost of increasing F by 1\n",
    "# excluding when cost > 100\n",
    "base_cost = scores[:,1:8,:,:,:,:];\n",
    "end_cost = scores[:,2:9,:,:,:,:]\n",
    "diff = end_cost - base_cost\n",
    "diff[end_cost .> 100] .= -1;"
   ]
  },
  {
   "cell_type": "code",
   "execution_count": 72,
   "id": "3469a568",
   "metadata": {},
   "outputs": [
    {
     "name": "stdout",
     "output_type": "stream",
     "text": [
      "20 23 27 34 34 28 20 17 "
     ]
    }
   ],
   "source": [
    "for j in 1:8\n",
    "    print(maximum(diff[idxa[2][:,1:8,:,:,:,:] .== j]))\n",
    "    print(\" \")\n",
    "end"
   ]
  },
  {
   "cell_type": "code",
   "execution_count": 73,
   "id": "f208089d",
   "metadata": {},
   "outputs": [
    {
     "name": "stdout",
     "output_type": "stream",
     "text": [
      "71 8 49 6 9 1 4 1 "
     ]
    }
   ],
   "source": [
    "for j in 1:8\n",
    "    print(sum(diff[idxa[2][:,1:8,:,:,:,:] .== j] .== maximum(diff[idxa[2][:,1:8,:,:,:,:] .== j])))\n",
    "    print(\" \")\n",
    "end"
   ]
  },
  {
   "cell_type": "markdown",
   "id": "c6a6e7ab",
   "metadata": {},
   "source": [
    "```\n",
    "Linearized:\n",
    "\n",
    "F    =  1  2  3  4\n",
    "cost =  22 26 30 34 \n",
    "\n",
    "F    =  5  6  7  8\n",
    "cost =  34 29 24 19\n",
    "\n",
    "```"
   ]
  },
  {
   "cell_type": "markdown",
   "id": "9d294e0f",
   "metadata": {},
   "source": [
    "#### increasing L by 1"
   ]
  },
  {
   "cell_type": "code",
   "execution_count": 74,
   "id": "c6c86826",
   "metadata": {},
   "outputs": [],
   "source": [
    "# cost of increasing L by 1\n",
    "# excluding when cost > 100\n",
    "base_cost = scores[:,:,1:8,:,:,:];\n",
    "end_cost = scores[:,:,2:9,:,:,:]\n",
    "diff = end_cost - base_cost\n",
    "diff[end_cost .> 100] .= -1;"
   ]
  },
  {
   "cell_type": "code",
   "execution_count": 75,
   "id": "76c51b3f",
   "metadata": {},
   "outputs": [
    {
     "data": {
      "text/plain": [
       "28"
      ]
     },
     "execution_count": 75,
     "metadata": {},
     "output_type": "execute_result"
    }
   ],
   "source": [
    "maximum(diff)"
   ]
  },
  {
   "cell_type": "code",
   "execution_count": 76,
   "id": "4989604e",
   "metadata": {},
   "outputs": [
    {
     "data": {
      "text/plain": [
       "10-element Vector{CartesianIndex{6}}:\n",
       " CartesianIndex(9, 1, 4, 8, 5, 3)\n",
       " CartesianIndex(9, 1, 4, 6, 7, 3)\n",
       " CartesianIndex(9, 1, 4, 7, 7, 3)\n",
       " CartesianIndex(9, 1, 4, 6, 8, 3)\n",
       " CartesianIndex(9, 1, 4, 9, 3, 4)\n",
       " CartesianIndex(9, 1, 4, 9, 4, 4)\n",
       " CartesianIndex(9, 1, 4, 7, 5, 4)\n",
       " CartesianIndex(9, 1, 4, 4, 8, 4)\n",
       " CartesianIndex(9, 1, 4, 8, 2, 5)\n",
       " CartesianIndex(9, 1, 4, 4, 6, 5)"
      ]
     },
     "execution_count": 76,
     "metadata": {},
     "output_type": "execute_result"
    }
   ],
   "source": [
    "findall(diff .== maximum(diff))"
   ]
  },
  {
   "cell_type": "code",
   "execution_count": 78,
   "id": "61c83a2e",
   "metadata": {},
   "outputs": [
    {
     "data": {
      "text/plain": [
       "10-element Vector{CartesianIndex{6}}:\n",
       " CartesianIndex(7, 1, 4, 6, 6, 6)\n",
       " CartesianIndex(9, 1, 4, 2, 2, 6)\n",
       " CartesianIndex(8, 1, 4, 2, 8, 7)\n",
       " CartesianIndex(8, 1, 4, 5, 4, 8)\n",
       " CartesianIndex(8, 1, 4, 5, 8, 3)\n",
       " CartesianIndex(8, 1, 4, 3, 8, 5)\n",
       " CartesianIndex(7, 1, 4, 8, 5, 8)\n",
       " CartesianIndex(8, 1, 4, 9, 5, 2)\n",
       " CartesianIndex(9, 2, 4, 9, 2, 3)\n",
       " CartesianIndex(9, 1, 4, 2, 7, 2)"
      ]
     },
     "execution_count": 78,
     "metadata": {},
     "output_type": "execute_result"
    }
   ],
   "source": [
    "[rand(findall(diff .== 25)) for i in 1:10]"
   ]
  },
  {
   "cell_type": "code",
   "execution_count": 79,
   "id": "ed62e4e3",
   "metadata": {},
   "outputs": [
    {
     "data": {
      "text/plain": [
       "10-element Vector{CartesianIndex{6}}:\n",
       " CartesianIndex(7, 3, 4, 9, 3, 3)\n",
       " CartesianIndex(6, 2, 4, 6, 1, 9)\n",
       " CartesianIndex(6, 1, 4, 7, 6, 3)\n",
       " CartesianIndex(8, 2, 4, 1, 2, 2)\n",
       " CartesianIndex(8, 2, 3, 8, 7, 7)\n",
       " CartesianIndex(9, 1, 2, 6, 9, 8)\n",
       " CartesianIndex(6, 1, 5, 7, 7, 5)\n",
       " CartesianIndex(5, 3, 4, 5, 7, 8)\n",
       " CartesianIndex(6, 4, 5, 4, 6, 2)\n",
       " CartesianIndex(6, 2, 5, 5, 7, 4)"
      ]
     },
     "execution_count": 79,
     "metadata": {},
     "output_type": "execute_result"
    }
   ],
   "source": [
    "[rand(findall(diff .== 20)) for i in 1:10]"
   ]
  },
  {
   "cell_type": "code",
   "execution_count": 80,
   "id": "e5f4689d",
   "metadata": {},
   "outputs": [
    {
     "data": {
      "text/plain": [
       "10-element Vector{CartesianIndex{6}}:\n",
       " CartesianIndex(5, 1, 7, 3, 4, 1)\n",
       " CartesianIndex(6, 6, 3, 1, 5, 3)\n",
       " CartesianIndex(6, 3, 2, 2, 7, 2)\n",
       " CartesianIndex(5, 4, 2, 7, 8, 8)\n",
       " CartesianIndex(4, 3, 4, 2, 4, 3)\n",
       " CartesianIndex(4, 3, 7, 2, 8, 3)\n",
       " CartesianIndex(6, 3, 2, 3, 1, 5)\n",
       " CartesianIndex(5, 5, 3, 8, 3, 3)\n",
       " CartesianIndex(4, 1, 6, 3, 7, 3)\n",
       " CartesianIndex(6, 6, 3, 2, 7, 1)"
      ]
     },
     "execution_count": 80,
     "metadata": {},
     "output_type": "execute_result"
    }
   ],
   "source": [
    "[rand(findall(diff .== 10)) for i in 1:10]"
   ]
  },
  {
   "cell_type": "markdown",
   "id": "b50ef5e0",
   "metadata": {},
   "source": [
    "#### increasing P by 1"
   ]
  },
  {
   "cell_type": "code",
   "execution_count": 81,
   "id": "42b16aaf",
   "metadata": {},
   "outputs": [],
   "source": [
    "# cost of increasing P by 1\n",
    "# excluding when cost > 100\n",
    "base_cost = scores[:,:,:,1:8,:,:];\n",
    "end_cost = scores[:,:,:,2:9,:,:]\n",
    "diff = end_cost - base_cost\n",
    "diff[end_cost .> 100] .= -1;"
   ]
  },
  {
   "cell_type": "code",
   "execution_count": 82,
   "id": "2407d0e3",
   "metadata": {},
   "outputs": [
    {
     "data": {
      "text/plain": [
       "22"
      ]
     },
     "execution_count": 82,
     "metadata": {},
     "output_type": "execute_result"
    }
   ],
   "source": [
    "maximum(diff)"
   ]
  },
  {
   "cell_type": "code",
   "execution_count": 83,
   "id": "6601bc98",
   "metadata": {},
   "outputs": [
    {
     "data": {
      "text/plain": [
       "7-element Vector{CartesianIndex{6}}:\n",
       " CartesianIndex(1, 9, 4, 3, 9, 1)\n",
       " CartesianIndex(1, 9, 7, 3, 9, 1)\n",
       " CartesianIndex(1, 9, 2, 4, 9, 1)\n",
       " CartesianIndex(1, 9, 3, 4, 9, 1)\n",
       " CartesianIndex(1, 9, 5, 4, 9, 1)\n",
       " CartesianIndex(1, 9, 6, 4, 9, 1)\n",
       " CartesianIndex(1, 9, 7, 4, 9, 1)"
      ]
     },
     "execution_count": 83,
     "metadata": {},
     "output_type": "execute_result"
    }
   ],
   "source": [
    "findall(diff .== 22)"
   ]
  },
  {
   "cell_type": "code",
   "execution_count": 85,
   "id": "1e13c655",
   "metadata": {},
   "outputs": [
    {
     "data": {
      "text/plain": [
       "10-element Vector{CartesianIndex{6}}:\n",
       " CartesianIndex(1, 8, 5, 5, 8, 1)\n",
       " CartesianIndex(1, 9, 9, 1, 8, 1)\n",
       " CartesianIndex(1, 8, 5, 4, 9, 2)\n",
       " CartesianIndex(1, 9, 2, 1, 9, 2)\n",
       " CartesianIndex(1, 9, 9, 3, 1, 9)\n",
       " CartesianIndex(1, 8, 1, 2, 9, 1)\n",
       " CartesianIndex(1, 7, 6, 5, 9, 1)\n",
       " CartesianIndex(1, 8, 9, 3, 9, 2)\n",
       " CartesianIndex(2, 9, 8, 3, 8, 1)\n",
       " CartesianIndex(1, 7, 5, 4, 9, 1)"
      ]
     },
     "execution_count": 85,
     "metadata": {},
     "output_type": "execute_result"
    }
   ],
   "source": [
    "[rand(findall(diff .== 18)) for i in 1:10]"
   ]
  },
  {
   "cell_type": "code",
   "execution_count": 86,
   "id": "ffcff21c",
   "metadata": {},
   "outputs": [
    {
     "data": {
      "text/plain": [
       "10-element Vector{CartesianIndex{6}}:\n",
       " CartesianIndex(2, 9, 6, 6, 4, 1)\n",
       " CartesianIndex(1, 7, 4, 7, 2, 5)\n",
       " CartesianIndex(1, 8, 8, 6, 4, 3)\n",
       " CartesianIndex(4, 6, 5, 1, 9, 3)\n",
       " CartesianIndex(1, 5, 4, 4, 3, 7)\n",
       " CartesianIndex(1, 5, 8, 8, 1, 7)\n",
       " CartesianIndex(1, 6, 9, 8, 6, 2)\n",
       " CartesianIndex(1, 7, 9, 6, 5, 2)\n",
       " CartesianIndex(2, 9, 3, 2, 5, 4)\n",
       " CartesianIndex(4, 5, 4, 5, 4, 7)"
      ]
     },
     "execution_count": 86,
     "metadata": {},
     "output_type": "execute_result"
    }
   ],
   "source": [
    "[rand(findall(diff .== 10)) for i in 1:10]"
   ]
  },
  {
   "cell_type": "markdown",
   "id": "5ae1735f",
   "metadata": {},
   "source": [
    "#### increasing R by 1"
   ]
  },
  {
   "cell_type": "code",
   "execution_count": 87,
   "id": "ec5e8f84",
   "metadata": {},
   "outputs": [
    {
     "data": {
      "text/plain": [
       "22"
      ]
     },
     "execution_count": 87,
     "metadata": {},
     "output_type": "execute_result"
    }
   ],
   "source": [
    "# cost of increasing R by 1\n",
    "# excluding when cost > 100\n",
    "base_cost = scores[:,:,:,:,1:8,:];\n",
    "end_cost = scores[:,:,:,:,2:9,:]\n",
    "diff = end_cost - base_cost\n",
    "diff[end_cost .> 100] .= -1;\n",
    "maximum(diff)"
   ]
  },
  {
   "cell_type": "code",
   "execution_count": 88,
   "id": "f04589db",
   "metadata": {},
   "outputs": [
    {
     "data": {
      "text/plain": [
       "1-element Vector{CartesianIndex{6}}:\n",
       " CartesianIndex(1, 9, 9, 9, 3, 1)"
      ]
     },
     "execution_count": 88,
     "metadata": {},
     "output_type": "execute_result"
    }
   ],
   "source": [
    "findall(diff .== 22)"
   ]
  },
  {
   "cell_type": "code",
   "execution_count": 89,
   "id": "fbf3336d",
   "metadata": {},
   "outputs": [
    {
     "data": {
      "text/plain": [
       "10-element Vector{CartesianIndex{6}}:\n",
       " CartesianIndex(3, 9, 7, 9, 2, 1)\n",
       " CartesianIndex(2, 9, 1, 9, 3, 1)\n",
       " CartesianIndex(1, 9, 5, 1, 2, 9)\n",
       " CartesianIndex(1, 8, 6, 9, 3, 2)\n",
       " CartesianIndex(2, 9, 2, 9, 3, 1)\n",
       " CartesianIndex(1, 9, 6, 8, 1, 1)\n",
       " CartesianIndex(1, 9, 9, 1, 2, 9)\n",
       " CartesianIndex(1, 9, 3, 8, 4, 1)\n",
       " CartesianIndex(1, 9, 6, 9, 2, 2)\n",
       " CartesianIndex(1, 8, 2, 1, 3, 9)"
      ]
     },
     "execution_count": 89,
     "metadata": {},
     "output_type": "execute_result"
    }
   ],
   "source": [
    "[rand(findall(diff .== 18)) for i in 1:10]"
   ]
  },
  {
   "cell_type": "code",
   "execution_count": 90,
   "id": "861abb8e",
   "metadata": {},
   "outputs": [
    {
     "data": {
      "text/plain": [
       "10-element Vector{CartesianIndex{6}}:\n",
       " CartesianIndex(1, 6, 3, 5, 4, 6)\n",
       " CartesianIndex(4, 6, 5, 2, 3, 7)\n",
       " CartesianIndex(1, 6, 4, 2, 1, 8)\n",
       " CartesianIndex(3, 7, 5, 2, 5, 5)\n",
       " CartesianIndex(4, 5, 1, 2, 7, 9)\n",
       " CartesianIndex(2, 7, 3, 7, 2, 2)\n",
       " CartesianIndex(1, 7, 3, 3, 6, 5)\n",
       " CartesianIndex(2, 9, 5, 1, 7, 5)\n",
       " CartesianIndex(4, 5, 3, 3, 3, 9)\n",
       " CartesianIndex(4, 4, 5, 2, 5, 7)"
      ]
     },
     "execution_count": 90,
     "metadata": {},
     "output_type": "execute_result"
    }
   ],
   "source": [
    "[rand(findall(diff .== 10)) for i in 1:10]"
   ]
  },
  {
   "cell_type": "markdown",
   "id": "169736f0",
   "metadata": {},
   "source": [
    "#### increasing S by 1"
   ]
  },
  {
   "cell_type": "code",
   "execution_count": 94,
   "id": "92123ef5",
   "metadata": {},
   "outputs": [
    {
     "data": {
      "text/plain": [
       "23"
      ]
     },
     "execution_count": 94,
     "metadata": {},
     "output_type": "execute_result"
    }
   ],
   "source": [
    "# cost of increasing S by 1\n",
    "# excluding when cost > 100\n",
    "base_cost = scores[:,:,:,:,:,1:8];\n",
    "end_cost = scores[:,:,:,:,:,2:9]\n",
    "diff = end_cost - base_cost\n",
    "diff[end_cost .> 100] .= -1;\n",
    "maximum(diff)"
   ]
  },
  {
   "cell_type": "code",
   "execution_count": 95,
   "id": "ec8e533f",
   "metadata": {},
   "outputs": [
    {
     "data": {
      "text/plain": [
       "5-element Vector{CartesianIndex{6}}:\n",
       " CartesianIndex(1, 9, 1, 1, 9, 4)\n",
       " CartesianIndex(2, 9, 1, 1, 9, 4)\n",
       " CartesianIndex(1, 9, 2, 1, 9, 4)\n",
       " CartesianIndex(1, 9, 3, 1, 9, 4)\n",
       " CartesianIndex(1, 9, 4, 1, 9, 4)"
      ]
     },
     "execution_count": 95,
     "metadata": {},
     "output_type": "execute_result"
    }
   ],
   "source": [
    "findall(diff .== 23)"
   ]
  },
  {
   "cell_type": "code",
   "execution_count": 96,
   "id": "df7a0ccc",
   "metadata": {},
   "outputs": [
    {
     "data": {
      "text/plain": [
       "10-element Vector{CartesianIndex{6}}:\n",
       " CartesianIndex(1, 8, 5, 9, 1, 2)\n",
       " CartesianIndex(1, 8, 5, 2, 8, 4)\n",
       " CartesianIndex(1, 7, 7, 1, 8, 5)\n",
       " CartesianIndex(2, 7, 6, 9, 1, 3)\n",
       " CartesianIndex(1, 9, 7, 2, 9, 2)\n",
       " CartesianIndex(1, 9, 5, 1, 8, 1)\n",
       " CartesianIndex(1, 6, 7, 9, 2, 5)\n",
       " CartesianIndex(1, 9, 3, 8, 1, 4)\n",
       " CartesianIndex(1, 6, 9, 8, 1, 6)\n",
       " CartesianIndex(4, 7, 5, 9, 1, 2)"
      ]
     },
     "execution_count": 96,
     "metadata": {},
     "output_type": "execute_result"
    }
   ],
   "source": [
    "[rand(findall(diff .== 18)) for i in 1:10]"
   ]
  },
  {
   "cell_type": "code",
   "execution_count": 98,
   "id": "3099e6b7",
   "metadata": {},
   "outputs": [
    {
     "data": {
      "text/plain": [
       "10-element Vector{CartesianIndex{6}}:\n",
       " CartesianIndex(3, 6, 3, 8, 4, 1)\n",
       " CartesianIndex(5, 9, 1, 2, 4, 2)\n",
       " CartesianIndex(7, 5, 1, 8, 5, 2)\n",
       " CartesianIndex(2, 8, 8, 6, 4, 1)\n",
       " CartesianIndex(2, 8, 4, 4, 1, 6)\n",
       " CartesianIndex(1, 6, 9, 4, 1, 7)\n",
       " CartesianIndex(2, 6, 5, 3, 3, 5)\n",
       " CartesianIndex(2, 8, 5, 6, 2, 1)\n",
       " CartesianIndex(1, 7, 2, 3, 6, 3)\n",
       " CartesianIndex(1, 5, 1, 4, 4, 6)"
      ]
     },
     "execution_count": 98,
     "metadata": {},
     "output_type": "execute_result"
    }
   ],
   "source": [
    "[rand(findall(diff .== 10)) for i in 1:10]"
   ]
  },
  {
   "cell_type": "code",
   "execution_count": 103,
   "id": "c074cb26",
   "metadata": {},
   "outputs": [
    {
     "data": {
      "text/plain": [
       "66"
      ]
     },
     "execution_count": 103,
     "metadata": {},
     "output_type": "execute_result"
    }
   ],
   "source": [
    "scores[1, 9, 1, 1, 9, 4]"
   ]
  },
  {
   "cell_type": "code",
   "execution_count": 99,
   "id": "21c56ccc",
   "metadata": {},
   "outputs": [
    {
     "data": {
      "text/plain": [
       "67"
      ]
     },
     "execution_count": 99,
     "metadata": {},
     "output_type": "execute_result"
    }
   ],
   "source": [
    "scores[1, 9, 2, 1, 9, 4]"
   ]
  },
  {
   "cell_type": "code",
   "execution_count": 101,
   "id": "57e73826",
   "metadata": {},
   "outputs": [
    {
     "data": {
      "text/plain": [
       "68"
      ]
     },
     "execution_count": 101,
     "metadata": {},
     "output_type": "execute_result"
    }
   ],
   "source": [
    "scores[1, 9, 3, 1, 9, 4]"
   ]
  },
  {
   "cell_type": "code",
   "execution_count": 102,
   "id": "9afacf33",
   "metadata": {},
   "outputs": [
    {
     "data": {
      "text/plain": [
       "70"
      ]
     },
     "execution_count": 102,
     "metadata": {},
     "output_type": "execute_result"
    }
   ],
   "source": [
    "scores[1, 9, 4, 1, 9, 4]"
   ]
  },
  {
   "cell_type": "markdown",
   "id": "f7d669cb",
   "metadata": {},
   "source": [
    "### mixed +1/-1 parts"
   ]
  },
  {
   "cell_type": "code",
   "execution_count": 112,
   "id": "66d439c4",
   "metadata": {},
   "outputs": [
    {
     "name": "stdout",
     "output_type": "stream",
     "text": [
      "25\n"
     ]
    },
    {
     "data": {
      "text/plain": [
       "2-element Vector{CartesianIndex{6}}:\n",
       " CartesianIndex(9, 1, 4, 7, 8, 2)\n",
       " CartesianIndex(9, 1, 4, 7, 7, 3)"
      ]
     },
     "execution_count": 112,
     "metadata": {},
     "output_type": "execute_result"
    }
   ],
   "source": [
    "# cost of L+1, S-1\n",
    "# excluding when end cost > 100 or start cost < 30\n",
    "base_cost = scores[:,:,1:8,:,:,2:9];\n",
    "end_cost =  scores[:,:,2:9,:,:,1:8]\n",
    "diff = end_cost - base_cost\n",
    "diff[end_cost .> 100] .= -1;\n",
    "diff[base_cost .< 30] .= -1;\n",
    "println(maximum(diff))\n",
    "findall(diff .== maximum(diff))"
   ]
  },
  {
   "cell_type": "code",
   "execution_count": 113,
   "id": "2fc795b5",
   "metadata": {},
   "outputs": [
    {
     "name": "stdout",
     "output_type": "stream",
     "text": [
      "15\n"
     ]
    },
    {
     "data": {
      "text/plain": [
       "5-element Vector{CartesianIndex{6}}:\n",
       " CartesianIndex(2, 8, 7, 1, 9, 1)\n",
       " CartesianIndex(2, 8, 8, 1, 9, 1)\n",
       " CartesianIndex(2, 8, 9, 1, 9, 1)\n",
       " CartesianIndex(1, 8, 5, 2, 9, 1)\n",
       " CartesianIndex(1, 8, 9, 2, 9, 1)"
      ]
     },
     "execution_count": 113,
     "metadata": {},
     "output_type": "execute_result"
    }
   ],
   "source": [
    "# cost of P+1, F-1\n",
    "# excluding when end cost > 100 or start cost < 30\n",
    "base_cost = scores[:,2:9,:,1:8,:,:];\n",
    "end_cost =  scores[:,1:8,:,2:9,:,:]\n",
    "diff = end_cost - base_cost\n",
    "diff[end_cost .> 100] .= -1;\n",
    "diff[base_cost .< 30] .= -1;\n",
    "println(maximum(diff))\n",
    "findall(diff .== maximum(diff))"
   ]
  },
  {
   "cell_type": "code",
   "execution_count": 114,
   "id": "1ef44852",
   "metadata": {},
   "outputs": [
    {
     "data": {
      "text/plain": [
       "31"
      ]
     },
     "execution_count": 114,
     "metadata": {},
     "output_type": "execute_result"
    }
   ],
   "source": [
    "scores[2, 9, 7, 1, 9, 1]"
   ]
  },
  {
   "cell_type": "code",
   "execution_count": 115,
   "id": "36c110d2",
   "metadata": {},
   "outputs": [
    {
     "data": {
      "text/plain": [
       "46"
      ]
     },
     "execution_count": 115,
     "metadata": {},
     "output_type": "execute_result"
    }
   ],
   "source": [
    "scores[2, 8, 7, 2, 9, 1]"
   ]
  },
  {
   "cell_type": "code",
   "execution_count": 119,
   "id": "df2572d3",
   "metadata": {},
   "outputs": [
    {
     "name": "stdout",
     "output_type": "stream",
     "text": [
      "52\n"
     ]
    },
    {
     "data": {
      "text/plain": [
       "7-element Vector{CartesianIndex{6}}:\n",
       " CartesianIndex(1, 8, 1, 1, 1, 9)\n",
       " CartesianIndex(1, 8, 2, 1, 1, 9)\n",
       " CartesianIndex(1, 8, 3, 1, 1, 9)\n",
       " CartesianIndex(1, 8, 5, 1, 1, 9)\n",
       " CartesianIndex(1, 8, 6, 1, 1, 9)\n",
       " CartesianIndex(1, 8, 7, 1, 1, 9)\n",
       " CartesianIndex(1, 8, 8, 1, 1, 9)"
      ]
     },
     "execution_count": 119,
     "metadata": {},
     "output_type": "execute_result"
    }
   ],
   "source": [
    "# cost of P+2, R+2, F-1, L-1\n",
    "# excluding when end cost > 100 or start cost < 30\n",
    "base_cost = scores[:,2:9,2:9,1:7,1:7,:];\n",
    "end_cost =  scores[:,1:8,1:8,3:9,3:9,:]\n",
    "diff = end_cost - base_cost\n",
    "diff[end_cost .> 100] .= -1;\n",
    "diff[base_cost .< 30] .= -1;\n",
    "println(maximum(diff))\n",
    "findall(diff .== maximum(diff))"
   ]
  },
  {
   "cell_type": "code",
   "execution_count": 120,
   "id": "08711b94",
   "metadata": {},
   "outputs": [
    {
     "data": {
      "text/plain": [
       "30"
      ]
     },
     "execution_count": 120,
     "metadata": {},
     "output_type": "execute_result"
    }
   ],
   "source": [
    "scores[1, 9, 2, 1, 1, 9]"
   ]
  },
  {
   "cell_type": "code",
   "execution_count": 121,
   "id": "b3b2df36",
   "metadata": {},
   "outputs": [
    {
     "data": {
      "text/plain": [
       "82"
      ]
     },
     "execution_count": 121,
     "metadata": {},
     "output_type": "execute_result"
    }
   ],
   "source": [
    "scores[1, 8, 1, 3, 3, 9]"
   ]
  },
  {
   "cell_type": "markdown",
   "id": "06003a34",
   "metadata": {},
   "source": [
    "## Assigning simple costs to random part sets, up to 3 parts (base + 2 mods)\n",
    "\n",
    "A simple cost doesn't depend on base stats"
   ]
  },
  {
   "cell_type": "code",
   "execution_count": 214,
   "id": "810e5270",
   "metadata": {},
   "outputs": [],
   "source": [
    "n_base_parts = 20\n",
    "min_cost_base = 40\n",
    "max_cost_base = 70\n",
    "min_cost_mod = 10\n",
    "max_cost_mod = 40\n",
    "parts = Array{Int64}(undef, (n_base_parts, 7))\n",
    "for i_base in 1:20\n",
    "    desired_cost = rand(min_cost_base:max_cost_base)\n",
    "    indx = rand(findall(scores .== desired_cost))\n",
    "    for j in 1:6\n",
    "        parts[i_base, j] = indx[j]\n",
    "    end\n",
    "    parts[i_base, 7] = desired_cost\n",
    "end"
   ]
  },
  {
   "cell_type": "code",
   "execution_count": 215,
   "id": "aac32d7e",
   "metadata": {},
   "outputs": [],
   "source": [
    "# generate completely random mods\n",
    "n_mods0 = 60\n",
    "mods = Array{Int64}(undef, (n_mods0, 7))\n",
    "min_delt = -2\n",
    "max_delt = 4\n",
    "for i_mod in 1:n_mods0\n",
    "    v = [0,0,0,0,0,0]\n",
    "    for j in 1:3\n",
    "        v[rand(1:6)] = rand(min_delt:max_delt)\n",
    "    end\n",
    "    mods[i_mod, 1:6] = v\n",
    "    mods[i_mod, 7] = 0\n",
    "end\n",
    "\n",
    "mods;"
   ]
  },
  {
   "cell_type": "code",
   "execution_count": 216,
   "id": "c494a33d",
   "metadata": {},
   "outputs": [],
   "source": [
    "# compute max benefit of single mod\n",
    "for i_mod in 1:n_mods0\n",
    "    v = mods[i_mod, 1:6]\n",
    "    max_diff = 0\n",
    "    for i_base in 1:n_base_parts\n",
    "        b = parts[i_base, 1:6]\n",
    "        b2 = b .+ v\n",
    "        if minimum(b2) >= 1 && maximum(b2) <= 9\n",
    "            cost2 = scores[CartesianIndex((b2...))]\n",
    "            diff = cost2 - parts[i_base, 7]\n",
    "            if diff > max_diff\n",
    "                max_diff = diff\n",
    "            end\n",
    "        end\n",
    "    end\n",
    "    mods[i_mod, 7] = max_diff\n",
    "end"
   ]
  },
  {
   "cell_type": "code",
   "execution_count": 217,
   "id": "b6b2a464",
   "metadata": {},
   "outputs": [
    {
     "data": {
      "text/plain": [
       "29×7 Matrix{Int64}:\n",
       "  0   0  -1   0   3   0  36\n",
       "  0   0  -2   0  -1   1   0\n",
       "  1  -2   0   0   0   1  31\n",
       "  0   0   0   0  -2   2   9\n",
       "  0  -1   0   3   0   0  29\n",
       "  0   0  -2   0   0   0   0\n",
       "  0  -2  -2   0   2   0   2\n",
       "  0  -2   0   0   3   0  16\n",
       "  0   0   0   0   1   0  12\n",
       "  1   0  -2   0  -1   0  17\n",
       "  0   0  -1   0  -1   0   0\n",
       "  0   0   1  -2   0   0  15\n",
       " -2   0   3   0   0   0  35\n",
       "  ⋮                   ⋮  \n",
       "  0   0   0  -2   0  -2   0\n",
       "  0   0  -1   0   2   0  23\n",
       "  0   0   0   1   0  -1   1\n",
       "  1   1  -1   0   0   0  39\n",
       "  0   0   0  -1  -2   3  12\n",
       "  0   0   0   2   0   0  26\n",
       "  0   0   0   0   3   0  38\n",
       "  0   0   0  -1   0   1   6\n",
       "  0   0   0   0   3  -2  10\n",
       "  0  -1   0   0  -2   0   0\n",
       " -1   0   0   2   0   0  17\n",
       "  1  -1   0   0   0   0  27"
      ]
     },
     "execution_count": 217,
     "metadata": {},
     "output_type": "execute_result"
    }
   ],
   "source": [
    "mods = mods[mods[:, 7] .<= max_cost_mod, :]\n",
    "n_mods1 = size(mods)[1]\n",
    "mods"
   ]
  },
  {
   "cell_type": "code",
   "execution_count": 219,
   "id": "166f3028",
   "metadata": {},
   "outputs": [],
   "source": [
    "flag = true\n",
    "while flag\n",
    "    # check if there are 2-combos that are undercosted\n",
    "    mod_ids = Array{Int64}(undef, 100000)\n",
    "    diffs = Array{Int64}(undef, 100000)\n",
    "    u_i = 0\n",
    "    for i1 in 1:(n_mods1 - 1)\n",
    "        v1 = mods[i1, 1:6]\n",
    "        c1 = mods[i1, 7]\n",
    "        for i2 in (i1+1):n_mods1\n",
    "            v2 = mods[i2, 1:6]\n",
    "            v3 = v1 .+ v2\n",
    "            c2 = mods[i2, 7]\n",
    "            for i_base in 1:n_base_parts\n",
    "                b = parts[i_base, 1:6]\n",
    "                c = parts[i_base, 7] + c1 + c2\n",
    "                path1 = minimum(b .+ v1) >=1 && maximum(b .+ v1) <= 9 && minimum(b .+ v3) >= 1 && maximum(b .+ v3) <= 9\n",
    "                path2 = minimum(b .+ v2) >=1 && maximum(b .+ v2) <= 9 && minimum(b .+ v3) >= 1 && maximum(b .+ v3) <= 9\n",
    "                if path1 || path2\n",
    "                    newc = scores[CartesianIndex((b.+v3)...)]\n",
    "                    if newc > c\n",
    "                        u_i += 1\n",
    "                        mod_ids[u_i] = i1\n",
    "                        diffs[u_i] = newc - c\n",
    "                        u_i += 1\n",
    "                        mod_ids[u_i] = i2\n",
    "                        diffs[u_i] = newc - c\n",
    "                    end\n",
    "                end\n",
    "            end\n",
    "        end\n",
    "    end\n",
    "    diffs = diffs[1:u_i]\n",
    "    mod_ids = mod_ids[1:u_i];\n",
    "    if length(diffs) == 0\n",
    "        flag = false\n",
    "    else\n",
    "        mids = sort(unique(mod_ids))\n",
    "        blames = [mean(diffs[mod_ids .== m])/2 for m in mids]\n",
    "        blames = map(x -> convert(Int64, floor(x)), blames)\n",
    "        blames[blames .< 1] .= 1\n",
    "        mods[mids, 7] = mods[mids, 7] + blames        \n",
    "    end\n",
    "end"
   ]
  },
  {
   "cell_type": "code",
   "execution_count": 220,
   "id": "22ae129b",
   "metadata": {},
   "outputs": [
    {
     "data": {
      "text/plain": [
       "19"
      ]
     },
     "execution_count": 220,
     "metadata": {},
     "output_type": "execute_result"
    }
   ],
   "source": [
    "mods = mods[mods[:, 7] .>= min_cost_mod .&& mods[:, 7] .<= max_cost_mod, :]\n",
    "n_mods = size(mods)[1]"
   ]
  },
  {
   "cell_type": "code",
   "execution_count": 221,
   "id": "858e8e79",
   "metadata": {},
   "outputs": [
    {
     "data": {
      "text/plain": [
       "19×7 Matrix{Int64}:\n",
       "  0   0  -1   0   3   0  38\n",
       "  1  -2   0   0   0   1  33\n",
       "  0   0   0   0  -2   2  10\n",
       "  0  -1   0   3   0   0  30\n",
       "  0  -2   0   0   3   0  16\n",
       "  0   0   0   0   1   0  13\n",
       "  1   0  -2   0  -1   0  17\n",
       "  0   0   1  -2   0   0  15\n",
       " -2   0   3   0   0   0  35\n",
       "  0   0  -2   4   0  -2  19\n",
       "  0   0  -2  -1   4   0  37\n",
       "  0   0  -1   0   2   0  24\n",
       "  1   1  -1   0   0   0  39\n",
       "  0   0   0  -1  -2   3  13\n",
       "  0   0   0   2   0   0  26\n",
       "  0   0   0   0   3   0  39\n",
       "  0   0   0   0   3  -2  14\n",
       " -1   0   0   2   0   0  19\n",
       "  1  -1   0   0   0   0  29"
      ]
     },
     "execution_count": 221,
     "metadata": {},
     "output_type": "execute_result"
    }
   ],
   "source": [
    "mods"
   ]
  },
  {
   "cell_type": "code",
   "execution_count": 222,
   "id": "6aec0616",
   "metadata": {},
   "outputs": [
    {
     "data": {
      "text/plain": [
       "752-element Vector{Spud}:\n",
       " Spud(\"1.1.3(99)\", 1, 9, 4, 3, 3, 8, 999)\n",
       " Spud(\"2.1.3(96)\", 3, 8, 6, 1, 3, 6, 999)\n",
       " Spud(\"4.1.3(90)\", 5, 4, 2, 2, 5, 9, 999)\n",
       " Spud(\"6.1.3(96)\", 4, 4, 4, 7, 7, 5, 999)\n",
       " Spud(\"11.1.3(88)\", 8, 2, 1, 2, 4, 9, 999)\n",
       " Spud(\"16.3.1(100)\", 5, 1, 5, 1, 8, 6, 999)\n",
       " Spud(\"18.1.3(88)\", 4, 4, 1, 9, 7, 5, 999)\n",
       " Spud(\"19.1.3(95)\", 3, 6, 7, 1, 2, 8, 999)\n",
       " Spud(\"2.1.6(99)\", 3, 8, 6, 1, 6, 4, 999)\n",
       " Spud(\"4.1.6(93)\", 5, 4, 2, 2, 8, 7, 999)\n",
       " Spud(\"11.1.6(91)\", 8, 2, 1, 2, 7, 7, 999)\n",
       " Spud(\"19.1.6(98)\", 3, 6, 7, 1, 5, 6, 999)\n",
       " Spud(\"8.8.1(96)\", 6, 4, 1, 4, 8, 4, 999)\n",
       " ⋮\n",
       " Spud(\"11.17.19(83)\", 9, 1, 2, 2, 6, 5, 999)\n",
       " Spud(\"15.17.19(98)\", 5, 3, 9, 1, 5, 2, 999)\n",
       " Spud(\"18.17.19(83)\", 5, 3, 2, 9, 9, 1, 999)\n",
       " Spud(\"19.17.19(90)\", 4, 5, 8, 1, 4, 4, 999)\n",
       " Spud(\"1.19.18(99)\", 1, 8, 5, 5, 2, 6, 999)\n",
       " Spud(\"2.18.19(96)\", 3, 7, 7, 3, 2, 4, 999)\n",
       " Spud(\"4.18.19(90)\", 5, 3, 3, 4, 4, 7, 999)\n",
       " Spud(\"6.18.19(96)\", 4, 3, 5, 9, 6, 3, 999)\n",
       " Spud(\"8.18.19(91)\", 6, 3, 1, 8, 5, 4, 999)\n",
       " Spud(\"10.18.19(91)\", 2, 2, 5, 4, 8, 8, 999)\n",
       " Spud(\"11.18.19(88)\", 8, 1, 2, 4, 3, 7, 999)\n",
       " Spud(\"19.18.19(95)\", 3, 5, 8, 3, 1, 6, 999)"
      ]
     },
     "execution_count": 222,
     "metadata": {},
     "output_type": "execute_result"
    }
   ],
   "source": [
    "# Generate Spuds\n",
    "library = Array{Spud}(undef, n_base_parts * n_mods * n_mods)\n",
    "ff_i = 0\n",
    "for i1 in 1:(n_mods - 1)\n",
    "    v1 = mods[i1, 1:6]\n",
    "    c1 = mods[i1, 7]\n",
    "    for i2 in (i1+1):n_mods\n",
    "        v2 = mods[i2, 1:6]\n",
    "        c2 = mods[i2, 7]\n",
    "        v3 = v1 .+ v2\n",
    "        for i_base in 1:n_base_parts\n",
    "            b = parts[i_base, 1:6]\n",
    "            c = parts[i_base, 7] + c1 + c2\n",
    "            v = b .+ v3\n",
    "            path1 = minimum(b .+ v1) >=1 && maximum(b .+ v1) <= 9 && minimum(b .+ v3) >= 1 && maximum(b .+ v3) <= 9\n",
    "            path2 = minimum(b .+ v2) >=1 && maximum(b .+ v2) <= 9 && minimum(b .+ v3) >= 1 && maximum(b .+ v3) <= 9\n",
    "            if c <= 100 && (path1 || path2)\n",
    "                ff_i += 1\n",
    "                if path1\n",
    "                    nm = string(i_base, \".\", i1, \".\", i2, \"(\", c, \")\")\n",
    "                else\n",
    "                    nm = string(i_base, \".\", i2, \".\", i1, \"(\", c, \")\")\n",
    "                end\n",
    "                library[ff_i] = Spud(nm, v[1],v[2],v[3],v[4],v[5],v[6],999)\n",
    "            end\n",
    "        end\n",
    "    end\n",
    "end\n",
    "library = library[1:ff_i]"
   ]
  },
  {
   "cell_type": "code",
   "execution_count": 224,
   "id": "a38d0882",
   "metadata": {},
   "outputs": [
    {
     "name": "stdout",
     "output_type": "stream",
     "text": [
      "  0.507475 seconds (8.35 M allocations: 842.883 MiB, 20.12% gc time)\n"
     ]
    }
   ],
   "source": [
    "@time counts = ffp(library, 10000);"
   ]
  },
  {
   "cell_type": "code",
   "execution_count": 227,
   "id": "5f428a41",
   "metadata": {},
   "outputs": [
    {
     "data": {
      "text/html": [
       "<div><div style = \"float: left;\"><span>35×8 DataFrame</span></div><div style = \"float: right;\"><span style = \"font-style: italic;\">10 rows omitted</span></div><div style = \"clear: both;\"></div></div><div class = \"data-frame\" style = \"overflow-x: scroll;\"><table class = \"data-frame\" style = \"margin-bottom: 6px;\"><thead><tr class = \"header\"><th class = \"rowNumber\" style = \"font-weight: bold; text-align: right;\">Row</th><th style = \"text-align: left;\">name</th><th style = \"text-align: left;\">h</th><th style = \"text-align: left;\">f</th><th style = \"text-align: left;\">l</th><th style = \"text-align: left;\">p</th><th style = \"text-align: left;\">r</th><th style = \"text-align: left;\">s</th><th style = \"text-align: left;\">a1</th></tr><tr class = \"subheader headerLastRow\"><th class = \"rowNumber\" style = \"font-weight: bold; text-align: right;\"></th><th title = \"String\" style = \"text-align: left;\">String</th><th title = \"Int64\" style = \"text-align: left;\">Int64</th><th title = \"Int64\" style = \"text-align: left;\">Int64</th><th title = \"Int64\" style = \"text-align: left;\">Int64</th><th title = \"Int64\" style = \"text-align: left;\">Int64</th><th title = \"Int64\" style = \"text-align: left;\">Int64</th><th title = \"Int64\" style = \"text-align: left;\">Int64</th><th title = \"Int64\" style = \"text-align: left;\">Int64</th></tr></thead><tbody><tr><td class = \"rowNumber\" style = \"font-weight: bold; text-align: right;\">1</td><td style = \"text-align: left;\">6.2.8(96)</td><td style = \"text-align: right;\">5</td><td style = \"text-align: right;\">2</td><td style = \"text-align: right;\">6</td><td style = \"text-align: right;\">5</td><td style = \"text-align: right;\">6</td><td style = \"text-align: right;\">4</td><td style = \"text-align: right;\">999</td></tr><tr><td class = \"rowNumber\" style = \"font-weight: bold; text-align: right;\">2</td><td style = \"text-align: left;\">20.3.8(93)</td><td style = \"text-align: right;\">9</td><td style = \"text-align: right;\">3</td><td style = \"text-align: right;\">4</td><td style = \"text-align: right;\">4</td><td style = \"text-align: right;\">4</td><td style = \"text-align: right;\">3</td><td style = \"text-align: right;\">999</td></tr><tr><td class = \"rowNumber\" style = \"font-weight: bold; text-align: right;\">3</td><td style = \"text-align: left;\">4.3.13(91)</td><td style = \"text-align: right;\">6</td><td style = \"text-align: right;\">5</td><td style = \"text-align: right;\">2</td><td style = \"text-align: right;\">2</td><td style = \"text-align: right;\">2</td><td style = \"text-align: right;\">9</td><td style = \"text-align: right;\">999</td></tr><tr><td class = \"rowNumber\" style = \"font-weight: bold; text-align: right;\">4</td><td style = \"text-align: left;\">5.3.17(88)</td><td style = \"text-align: right;\">2</td><td style = \"text-align: right;\">7</td><td style = \"text-align: right;\">1</td><td style = \"text-align: right;\">3</td><td style = \"text-align: right;\">8</td><td style = \"text-align: right;\">4</td><td style = \"text-align: right;\">999</td></tr><tr><td class = \"rowNumber\" style = \"font-weight: bold; text-align: right;\">5</td><td style = \"text-align: left;\">12.3.17(82)</td><td style = \"text-align: right;\">3</td><td style = \"text-align: right;\">5</td><td style = \"text-align: right;\">6</td><td style = \"text-align: right;\">8</td><td style = \"text-align: right;\">7</td><td style = \"text-align: right;\">1</td><td style = \"text-align: right;\">999</td></tr><tr><td class = \"rowNumber\" style = \"font-weight: bold; text-align: right;\">6</td><td style = \"text-align: left;\">13.17.3(91)</td><td style = \"text-align: right;\">2</td><td style = \"text-align: right;\">5</td><td style = \"text-align: right;\">5</td><td style = \"text-align: right;\">6</td><td style = \"text-align: right;\">3</td><td style = \"text-align: right;\">8</td><td style = \"text-align: right;\">999</td></tr><tr><td class = \"rowNumber\" style = \"font-weight: bold; text-align: right;\">7</td><td style = \"text-align: left;\">1.4.5(97)</td><td style = \"text-align: right;\">1</td><td style = \"text-align: right;\">6</td><td style = \"text-align: right;\">5</td><td style = \"text-align: right;\">6</td><td style = \"text-align: right;\">5</td><td style = \"text-align: right;\">6</td><td style = \"text-align: right;\">999</td></tr><tr><td class = \"rowNumber\" style = \"font-weight: bold; text-align: right;\">8</td><td style = \"text-align: left;\">6.14.4(91)</td><td style = \"text-align: right;\">4</td><td style = \"text-align: right;\">3</td><td style = \"text-align: right;\">5</td><td style = \"text-align: right;\">9</td><td style = \"text-align: right;\">4</td><td style = \"text-align: right;\">6</td><td style = \"text-align: right;\">999</td></tr><tr><td class = \"rowNumber\" style = \"font-weight: bold; text-align: right;\">9</td><td style = \"text-align: left;\">9.5.6(97)</td><td style = \"text-align: right;\">3</td><td style = \"text-align: right;\">1</td><td style = \"text-align: right;\">7</td><td style = \"text-align: right;\">7</td><td style = \"text-align: right;\">6</td><td style = \"text-align: right;\">8</td><td style = \"text-align: right;\">999</td></tr><tr><td class = \"rowNumber\" style = \"font-weight: bold; text-align: right;\">10</td><td style = \"text-align: left;\">1.5.10(86)</td><td style = \"text-align: right;\">1</td><td style = \"text-align: right;\">7</td><td style = \"text-align: right;\">3</td><td style = \"text-align: right;\">7</td><td style = \"text-align: right;\">5</td><td style = \"text-align: right;\">4</td><td style = \"text-align: right;\">999</td></tr><tr><td class = \"rowNumber\" style = \"font-weight: bold; text-align: right;\">11</td><td style = \"text-align: left;\">20.6.8(96)</td><td style = \"text-align: right;\">9</td><td style = \"text-align: right;\">3</td><td style = \"text-align: right;\">4</td><td style = \"text-align: right;\">4</td><td style = \"text-align: right;\">7</td><td style = \"text-align: right;\">1</td><td style = \"text-align: right;\">999</td></tr><tr><td class = \"rowNumber\" style = \"font-weight: bold; text-align: right;\">12</td><td style = \"text-align: left;\">12.6.12(95)</td><td style = \"text-align: right;\">3</td><td style = \"text-align: right;\">5</td><td style = \"text-align: right;\">5</td><td style = \"text-align: right;\">8</td><td style = \"text-align: right;\">9</td><td style = \"text-align: right;\">1</td><td style = \"text-align: right;\">999</td></tr><tr><td class = \"rowNumber\" style = \"font-weight: bold; text-align: right;\">13</td><td style = \"text-align: left;\">4.6.13(94)</td><td style = \"text-align: right;\">6</td><td style = \"text-align: right;\">5</td><td style = \"text-align: right;\">2</td><td style = \"text-align: right;\">2</td><td style = \"text-align: right;\">5</td><td style = \"text-align: right;\">7</td><td style = \"text-align: right;\">999</td></tr><tr><td style = \"text-align: right;\">&vellip;</td><td style = \"text-align: right;\">&vellip;</td><td style = \"text-align: right;\">&vellip;</td><td style = \"text-align: right;\">&vellip;</td><td style = \"text-align: right;\">&vellip;</td><td style = \"text-align: right;\">&vellip;</td><td style = \"text-align: right;\">&vellip;</td><td style = \"text-align: right;\">&vellip;</td><td style = \"text-align: right;\">&vellip;</td></tr><tr><td class = \"rowNumber\" style = \"font-weight: bold; text-align: right;\">24</td><td style = \"text-align: left;\">1.10.17(84)</td><td style = \"text-align: right;\">1</td><td style = \"text-align: right;\">9</td><td style = \"text-align: right;\">3</td><td style = \"text-align: right;\">7</td><td style = \"text-align: right;\">5</td><td style = \"text-align: right;\">2</td><td style = \"text-align: right;\">999</td></tr><tr><td class = \"rowNumber\" style = \"font-weight: bold; text-align: right;\">25</td><td style = \"text-align: left;\">6.13.14(100)</td><td style = \"text-align: right;\">5</td><td style = \"text-align: right;\">5</td><td style = \"text-align: right;\">4</td><td style = \"text-align: right;\">6</td><td style = \"text-align: right;\">4</td><td style = \"text-align: right;\">6</td><td style = \"text-align: right;\">999</td></tr><tr><td class = \"rowNumber\" style = \"font-weight: bold; text-align: right;\">26</td><td style = \"text-align: left;\">4.13.17(95)</td><td style = \"text-align: right;\">6</td><td style = \"text-align: right;\">5</td><td style = \"text-align: right;\">2</td><td style = \"text-align: right;\">2</td><td style = \"text-align: right;\">7</td><td style = \"text-align: right;\">5</td><td style = \"text-align: right;\">999</td></tr><tr><td class = \"rowNumber\" style = \"font-weight: bold; text-align: right;\">27</td><td style = \"text-align: left;\">4.13.18(100)</td><td style = \"text-align: right;\">5</td><td style = \"text-align: right;\">5</td><td style = \"text-align: right;\">2</td><td style = \"text-align: right;\">4</td><td style = \"text-align: right;\">4</td><td style = \"text-align: right;\">7</td><td style = \"text-align: right;\">999</td></tr><tr><td class = \"rowNumber\" style = \"font-weight: bold; text-align: right;\">28</td><td style = \"text-align: left;\">6.14.15(87)</td><td style = \"text-align: right;\">4</td><td style = \"text-align: right;\">4</td><td style = \"text-align: right;\">5</td><td style = \"text-align: right;\">8</td><td style = \"text-align: right;\">4</td><td style = \"text-align: right;\">6</td><td style = \"text-align: right;\">999</td></tr><tr><td class = \"rowNumber\" style = \"font-weight: bold; text-align: right;\">29</td><td style = \"text-align: left;\">16.15.14(91)</td><td style = \"text-align: right;\">5</td><td style = \"text-align: right;\">1</td><td style = \"text-align: right;\">6</td><td style = \"text-align: right;\">2</td><td style = \"text-align: right;\">5</td><td style = \"text-align: right;\">7</td><td style = \"text-align: right;\">999</td></tr><tr><td class = \"rowNumber\" style = \"font-weight: bold; text-align: right;\">30</td><td style = \"text-align: left;\">6.14.16(100)</td><td style = \"text-align: right;\">4</td><td style = \"text-align: right;\">4</td><td style = \"text-align: right;\">5</td><td style = \"text-align: right;\">6</td><td style = \"text-align: right;\">7</td><td style = \"text-align: right;\">6</td><td style = \"text-align: right;\">999</td></tr><tr><td class = \"rowNumber\" style = \"font-weight: bold; text-align: right;\">31</td><td style = \"text-align: left;\">3.17.14(89)</td><td style = \"text-align: right;\">3</td><td style = \"text-align: right;\">4</td><td style = \"text-align: right;\">5</td><td style = \"text-align: right;\">5</td><td style = \"text-align: right;\">6</td><td style = \"text-align: right;\">8</td><td style = \"text-align: right;\">999</td></tr><tr><td class = \"rowNumber\" style = \"font-weight: bold; text-align: right;\">32</td><td style = \"text-align: left;\">9.17.14(95)</td><td style = \"text-align: right;\">3</td><td style = \"text-align: right;\">3</td><td style = \"text-align: right;\">7</td><td style = \"text-align: right;\">6</td><td style = \"text-align: right;\">3</td><td style = \"text-align: right;\">9</td><td style = \"text-align: right;\">999</td></tr><tr><td class = \"rowNumber\" style = \"font-weight: bold; text-align: right;\">33</td><td style = \"text-align: left;\">5.14.18(96)</td><td style = \"text-align: right;\">1</td><td style = \"text-align: right;\">7</td><td style = \"text-align: right;\">1</td><td style = \"text-align: right;\">4</td><td style = \"text-align: right;\">5</td><td style = \"text-align: right;\">7</td><td style = \"text-align: right;\">999</td></tr><tr><td class = \"rowNumber\" style = \"font-weight: bold; text-align: right;\">34</td><td style = \"text-align: left;\">6.14.19(90)</td><td style = \"text-align: right;\">5</td><td style = \"text-align: right;\">3</td><td style = \"text-align: right;\">5</td><td style = \"text-align: right;\">6</td><td style = \"text-align: right;\">4</td><td style = \"text-align: right;\">6</td><td style = \"text-align: right;\">999</td></tr><tr><td class = \"rowNumber\" style = \"font-weight: bold; text-align: right;\">35</td><td style = \"text-align: left;\">6.15.17(88)</td><td style = \"text-align: right;\">4</td><td style = \"text-align: right;\">4</td><td style = \"text-align: right;\">5</td><td style = \"text-align: right;\">9</td><td style = \"text-align: right;\">9</td><td style = \"text-align: right;\">1</td><td style = \"text-align: right;\">999</td></tr></tbody></table></div>"
      ],
      "text/latex": [
       "\\begin{tabular}{r|cccccccc}\n",
       "\t& name & h & f & l & p & r & s & a1\\\\\n",
       "\t\\hline\n",
       "\t& String & Int64 & Int64 & Int64 & Int64 & Int64 & Int64 & Int64\\\\\n",
       "\t\\hline\n",
       "\t1 & 6.2.8(96) & 5 & 2 & 6 & 5 & 6 & 4 & 999 \\\\\n",
       "\t2 & 20.3.8(93) & 9 & 3 & 4 & 4 & 4 & 3 & 999 \\\\\n",
       "\t3 & 4.3.13(91) & 6 & 5 & 2 & 2 & 2 & 9 & 999 \\\\\n",
       "\t4 & 5.3.17(88) & 2 & 7 & 1 & 3 & 8 & 4 & 999 \\\\\n",
       "\t5 & 12.3.17(82) & 3 & 5 & 6 & 8 & 7 & 1 & 999 \\\\\n",
       "\t6 & 13.17.3(91) & 2 & 5 & 5 & 6 & 3 & 8 & 999 \\\\\n",
       "\t7 & 1.4.5(97) & 1 & 6 & 5 & 6 & 5 & 6 & 999 \\\\\n",
       "\t8 & 6.14.4(91) & 4 & 3 & 5 & 9 & 4 & 6 & 999 \\\\\n",
       "\t9 & 9.5.6(97) & 3 & 1 & 7 & 7 & 6 & 8 & 999 \\\\\n",
       "\t10 & 1.5.10(86) & 1 & 7 & 3 & 7 & 5 & 4 & 999 \\\\\n",
       "\t11 & 20.6.8(96) & 9 & 3 & 4 & 4 & 7 & 1 & 999 \\\\\n",
       "\t12 & 12.6.12(95) & 3 & 5 & 5 & 8 & 9 & 1 & 999 \\\\\n",
       "\t13 & 4.6.13(94) & 6 & 5 & 2 & 2 & 5 & 7 & 999 \\\\\n",
       "\t14 & 4.6.15(81) & 5 & 4 & 3 & 4 & 5 & 7 & 999 \\\\\n",
       "\t15 & 4.6.16(94) & 5 & 4 & 3 & 2 & 8 & 7 & 999 \\\\\n",
       "\t16 & 5.6.18(96) & 1 & 7 & 1 & 5 & 8 & 4 & 999 \\\\\n",
       "\t17 & 9.6.18(100) & 2 & 3 & 7 & 9 & 3 & 8 & 999 \\\\\n",
       "\t18 & 13.6.18(99) & 1 & 5 & 5 & 8 & 3 & 8 & 999 \\\\\n",
       "\t19 & 12.6.19(100) & 4 & 4 & 6 & 8 & 7 & 1 & 999 \\\\\n",
       "\t20 & 20.8.14(96) & 9 & 3 & 4 & 3 & 4 & 4 & 999 \\\\\n",
       "\t21 & 6.8.17(77) & 4 & 4 & 6 & 5 & 9 & 1 & 999 \\\\\n",
       "\t22 & 6.8.19(92) & 5 & 3 & 6 & 5 & 6 & 3 & 999 \\\\\n",
       "\t23 & 11.9.17(89) & 6 & 2 & 5 & 2 & 6 & 5 & 999 \\\\\n",
       "\t24 & 1.10.17(84) & 1 & 9 & 3 & 7 & 5 & 2 & 999 \\\\\n",
       "\t25 & 6.13.14(100) & 5 & 5 & 4 & 6 & 4 & 6 & 999 \\\\\n",
       "\t26 & 4.13.17(95) & 6 & 5 & 2 & 2 & 7 & 5 & 999 \\\\\n",
       "\t27 & 4.13.18(100) & 5 & 5 & 2 & 4 & 4 & 7 & 999 \\\\\n",
       "\t28 & 6.14.15(87) & 4 & 4 & 5 & 8 & 4 & 6 & 999 \\\\\n",
       "\t29 & 16.15.14(91) & 5 & 1 & 6 & 2 & 5 & 7 & 999 \\\\\n",
       "\t30 & 6.14.16(100) & 4 & 4 & 5 & 6 & 7 & 6 & 999 \\\\\n",
       "\t$\\dots$ & $\\dots$ & $\\dots$ & $\\dots$ & $\\dots$ & $\\dots$ & $\\dots$ & $\\dots$ & $\\dots$ \\\\\n",
       "\\end{tabular}\n"
      ],
      "text/plain": [
       "\u001b[1m35×8 DataFrame\u001b[0m\n",
       "\u001b[1m Row \u001b[0m│\u001b[1m name         \u001b[0m\u001b[1m h     \u001b[0m\u001b[1m f     \u001b[0m\u001b[1m l     \u001b[0m\u001b[1m p     \u001b[0m\u001b[1m r     \u001b[0m\u001b[1m s     \u001b[0m\u001b[1m a1    \u001b[0m\n",
       "     │\u001b[90m String       \u001b[0m\u001b[90m Int64 \u001b[0m\u001b[90m Int64 \u001b[0m\u001b[90m Int64 \u001b[0m\u001b[90m Int64 \u001b[0m\u001b[90m Int64 \u001b[0m\u001b[90m Int64 \u001b[0m\u001b[90m Int64 \u001b[0m\n",
       "─────┼───────────────────────────────────────────────────────────────\n",
       "   1 │ 6.2.8(96)         5      2      6      5      6      4    999\n",
       "   2 │ 20.3.8(93)        9      3      4      4      4      3    999\n",
       "   3 │ 4.3.13(91)        6      5      2      2      2      9    999\n",
       "   4 │ 5.3.17(88)        2      7      1      3      8      4    999\n",
       "   5 │ 12.3.17(82)       3      5      6      8      7      1    999\n",
       "   6 │ 13.17.3(91)       2      5      5      6      3      8    999\n",
       "   7 │ 1.4.5(97)         1      6      5      6      5      6    999\n",
       "   8 │ 6.14.4(91)        4      3      5      9      4      6    999\n",
       "   9 │ 9.5.6(97)         3      1      7      7      6      8    999\n",
       "  10 │ 1.5.10(86)        1      7      3      7      5      4    999\n",
       "  11 │ 20.6.8(96)        9      3      4      4      7      1    999\n",
       "  ⋮  │      ⋮          ⋮      ⋮      ⋮      ⋮      ⋮      ⋮      ⋮\n",
       "  26 │ 4.13.17(95)       6      5      2      2      7      5    999\n",
       "  27 │ 4.13.18(100)      5      5      2      4      4      7    999\n",
       "  28 │ 6.14.15(87)       4      4      5      8      4      6    999\n",
       "  29 │ 16.15.14(91)      5      1      6      2      5      7    999\n",
       "  30 │ 6.14.16(100)      4      4      5      6      7      6    999\n",
       "  31 │ 3.17.14(89)       3      4      5      5      6      8    999\n",
       "  32 │ 9.17.14(95)       3      3      7      6      3      9    999\n",
       "  33 │ 5.14.18(96)       1      7      1      4      5      7    999\n",
       "  34 │ 6.14.19(90)       5      3      5      6      4      6    999\n",
       "  35 │ 6.15.17(88)       4      4      5      9      9      1    999\n",
       "\u001b[36m                                                      14 rows omitted\u001b[0m"
      ]
     },
     "execution_count": 227,
     "metadata": {},
     "output_type": "execute_result"
    }
   ],
   "source": [
    "spuds_to_df(library[counts .> 1])"
   ]
  },
  {
   "cell_type": "code",
   "execution_count": null,
   "id": "35c0eb9b",
   "metadata": {},
   "outputs": [],
   "source": []
  }
 ],
 "metadata": {
  "kernelspec": {
   "display_name": "Julia 1.9.3",
   "language": "julia",
   "name": "julia-1.9"
  },
  "language_info": {
   "file_extension": ".jl",
   "mimetype": "application/julia",
   "name": "julia",
   "version": "1.9.3"
  }
 },
 "nbformat": 4,
 "nbformat_minor": 5
}

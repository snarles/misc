{
 "cells": [
  {
   "cell_type": "markdown",
   "id": "052be005",
   "metadata": {},
   "source": [
    "Approximating CDFs for Nash distribution"
   ]
  },
  {
   "cell_type": "code",
   "execution_count": 252,
   "id": "560e9539",
   "metadata": {},
   "outputs": [
    {
     "data": {
      "text/plain": [
       "random_team (generic function with 1 method)"
      ]
     },
     "execution_count": 252,
     "metadata": {},
     "output_type": "execute_result"
    }
   ],
   "source": [
    "using Random\n",
    "using DataFrames\n",
    "using CSV\n",
    "using Statistics\n",
    "using Printf\n",
    "using Distributions\n",
    "using LinearAlgebra\n",
    "\n",
    "struct Fighter\n",
    "    name::String\n",
    "    h::Int16\n",
    "    f::Int16\n",
    "    l::Int16\n",
    "    t::Int16\n",
    "end\n",
    "\n",
    "const MXS = 10000\n",
    "const MXV = 200\n",
    "const MNV = 10\n",
    "\n",
    "function random_fighter(h0::Int = MNV, f0::Int = MNV, l0::Int = MNV, t0::Int = MNV)::Fighter\n",
    "    flag = true\n",
    "    while flag\n",
    "        h = h0 + rand(0:(MXV - h0), 1)[1]\n",
    "        f = f0 + rand(0:(MXV - f0), 1)[1]\n",
    "        l = l0 + rand(0:(MXV - l0), 1)[1]\n",
    "        t = t0 + rand(0:(MXV - t0), 1)[1]\n",
    "        mm = minimum([h, f])\n",
    "        budget = h*f+h*l+f*t\n",
    "        if budget <= MXS && budget + mm > MXS\n",
    "            flag = false\n",
    "            return Fighter(\"No Name\", h, f, l, t)\n",
    "        end\n",
    "    end\n",
    "end\n",
    "\n",
    "function eval_battle(a::Fighter, b::Fighter)::Int\n",
    "    a_finds = a.f >= b.h\n",
    "    b_finds = b.f >= a.h\n",
    "    if a_finds && b_finds\n",
    "        if a.t > b.t\n",
    "            return 1\n",
    "        end\n",
    "        if a.t < b.t\n",
    "            return -1\n",
    "        end\n",
    "        if a.t == b.t\n",
    "            if a.l > b.l\n",
    "                return 1\n",
    "            end\n",
    "            if a.l < b.l\n",
    "                return -1\n",
    "            end\n",
    "            if a.l == b.l\n",
    "                if a.h > b.h\n",
    "                    return 1\n",
    "                end\n",
    "                if a.h < b.h\n",
    "                    return -1\n",
    "                end\n",
    "                if a.h == b.h\n",
    "                    return 0\n",
    "                end\n",
    "            end\n",
    "        end\n",
    "    end\n",
    "    if a_finds && !b_finds\n",
    "        return 1\n",
    "    end\n",
    "    if !a_finds && b_finds\n",
    "        return -1\n",
    "    end\n",
    "    if !a_finds && !b_finds\n",
    "        if a.l > b.l\n",
    "            return 1\n",
    "        end\n",
    "        if a.l < b.l\n",
    "            return -1\n",
    "        end\n",
    "        if a.l == b.l\n",
    "            if a.t > b.t\n",
    "                return 1\n",
    "            end\n",
    "            if a.t < b.t\n",
    "                return -1\n",
    "            end\n",
    "            if a.t == b.t\n",
    "                if a.f > b.f\n",
    "                    return 1\n",
    "                end\n",
    "                if a.f < b.f\n",
    "                    return -1\n",
    "                end\n",
    "                if a.f == b.f\n",
    "                    return 0\n",
    "                end\n",
    "            end\n",
    "        end\n",
    "    end\n",
    "end\n",
    "\n",
    "function random_tournament_winner(c::Int, f::Function = random_fighter)::Fighter\n",
    "    if c==0\n",
    "        return f()\n",
    "    end\n",
    "    a = random_tournament_winner(c-1, f)\n",
    "    b = random_tournament_winner(c-1, f)\n",
    "    res = eval_battle(a, b)\n",
    "    if res == 1\n",
    "        return a\n",
    "    else\n",
    "        return b\n",
    "    end\n",
    "end\n",
    "\n",
    "\n",
    "tab = CSV.read(\"census_yob2022_names.txt\", DataFrame, header = false)\n",
    "names = tab.Column1\n",
    "adjectives = CSV.read(\"adjectives.csv\", DataFrame)\n",
    "nouns = CSV.read(\"nouns.csv\", DataFrame)\n",
    "\n",
    "function random_name_and_stat()::Fighter\n",
    "    vp = [0, 0, 0, 0]\n",
    "    nametype = rand(1:5)\n",
    "    name = \"\"\n",
    "    if nametype == 1 || nametype == 2\n",
    "        nm = rand(names)\n",
    "        adj_i = rand(1:nrow(adjectives))\n",
    "        adj = adjectives[adj_i, :adjective]\n",
    "        vp[1] = vp[1] + adjectives[adj_i, :H]\n",
    "        vp[2] = vp[2] + adjectives[adj_i, :F]\n",
    "        vp[3] = vp[3] + adjectives[adj_i, :L]\n",
    "        vp[4] = vp[4] + adjectives[adj_i, :T]\n",
    "        if nametype == 1\n",
    "            name = string(nm, \" the \", adj)\n",
    "        end\n",
    "        if nametype == 2\n",
    "            name = string(adj, \" \", nm)\n",
    "        end\n",
    "    end\n",
    "    if nametype == 3 || nametype == 4\n",
    "        nm = rand(names)\n",
    "        noun_i = rand(1:nrow(nouns))\n",
    "        noun = nouns[noun_i, :noun]\n",
    "        vp[1] = vp[1] + nouns[noun_i, :H]\n",
    "        vp[2] = vp[2] + nouns[noun_i, :F]\n",
    "        vp[3] = vp[3] + nouns[noun_i, :L]\n",
    "        vp[4] = vp[4] + nouns[noun_i, :T]    \n",
    "        if nametype == 3\n",
    "            name = string(nm, \" the \", noun)\n",
    "        end\n",
    "        if nametype == 4\n",
    "            name = string(noun, \" \", nm)\n",
    "        end\n",
    "    end\n",
    "    if nametype == 5\n",
    "        adj_i = rand(1:nrow(adjectives))\n",
    "        adj = adjectives[adj_i, :adjective]\n",
    "        vp[1] = vp[1] + adjectives[adj_i, :H]\n",
    "        vp[2] = vp[2] + adjectives[adj_i, :F]\n",
    "        vp[3] = vp[3] + adjectives[adj_i, :L]\n",
    "        vp[4] = vp[4] + adjectives[adj_i, :T]\n",
    "        noun_i = rand(1:nrow(nouns))\n",
    "        noun = nouns[noun_i, :noun]\n",
    "        vp[1] = vp[1] + nouns[noun_i, :H]\n",
    "        vp[2] = vp[2] + nouns[noun_i, :F]\n",
    "        vp[3] = vp[3] + nouns[noun_i, :L]\n",
    "        vp[4] = vp[4] + nouns[noun_i, :T]    \n",
    "        name = string(adj, \" \", noun)\n",
    "    end\n",
    "    Fighter(name, vp[1], vp[2], vp[3], vp[4])\n",
    "end\n",
    "\n",
    "function rand_rename(a::Fighter, n_tries::Int = 10)::Fighter\n",
    "    best_score = 0.0\n",
    "    best_b = random_name_and_stat()\n",
    "    for ii in 1:n_tries\n",
    "        b = random_name_and_stat()\n",
    "        b_norm = sqrt(b.h^2 + b.f^2 + b.l^2 + b.t^2)\n",
    "        score = (a.h * b.h + a.f * b.f + a.l * b.l + a.t * b.t)/b_norm\n",
    "        if score > best_score\n",
    "            best_score = score\n",
    "            best_b = b\n",
    "        end\n",
    "    end\n",
    "    return Fighter(best_b.name, a.h, a.f, a.l, a.t)\n",
    "end\n",
    "\n",
    "function eval_battle_list(a::Fighter, bs::Array{Fighter})::Int\n",
    "    score = 0\n",
    "    for ii in 1:length(bs)\n",
    "        score = score + eval_battle(a, bs[ii])\n",
    "    end\n",
    "    return score\n",
    "end\n",
    "\n",
    "function eval_battle_list2(a::Fighter, bs::Array{Fighter}, w::Vector{Float64})::AbstractFloat\n",
    "    score = 0.0\n",
    "    for ii in 1:length(bs)\n",
    "        score = score + w[ii] * eval_battle(a, bs[ii])\n",
    "    end\n",
    "    return score\n",
    "end\n",
    "\n",
    "\n",
    "function pick_best(as::Array{Fighter}, bs::Array{Fighter})::Fighter\n",
    "    bestscore = -999\n",
    "    bestf = as[1]\n",
    "    for ii in 1:length(as)\n",
    "        score = eval_battle_list(as[ii], bs)\n",
    "        if score > bestscore\n",
    "            bestscore = score\n",
    "            bestf = as[ii]\n",
    "        end\n",
    "    end\n",
    "    return bestf\n",
    "end\n",
    "\n",
    "function pick_best_rdmly(as::Array{Fighter}, bs::Array{Fighter}, ntries::Int)::Fighter\n",
    "    bestscore = -999\n",
    "    bestf = rand(as)\n",
    "    for ii in 1:ntries\n",
    "        f = rand(as)\n",
    "        score = eval_battle_list(f, bs)\n",
    "        if score > bestscore\n",
    "            bestscore = score\n",
    "            bestf = f\n",
    "        end\n",
    "    end\n",
    "    return bestf\n",
    "end\n",
    "\n",
    "function pick_best_rdmly_g(g::Function, bs::Array{Fighter}, ntries::Int)::Fighter\n",
    "    bestscore = -999\n",
    "    bestf = g()\n",
    "    for ii in 1:ntries\n",
    "        f = g()\n",
    "        score = eval_battle_list(f, bs)\n",
    "        if score > bestscore\n",
    "            bestscore = score\n",
    "            bestf = f\n",
    "        end\n",
    "    end\n",
    "    return bestf\n",
    "end\n",
    "\n",
    "function fighters_to_df(as::Array{Fighter})::DataFrame\n",
    "    names = Array{String}(undef, length(as))\n",
    "    hs = Array{Int}(undef, length(as))\n",
    "    fs = Array{Int}(undef, length(as))\n",
    "    ls = Array{Int}(undef, length(as))\n",
    "    ts = Array{Int}(undef, length(as))\n",
    "    for ii in 1:length(as)\n",
    "        names[ii] = as[ii].name\n",
    "        hs[ii] = as[ii].h\n",
    "        fs[ii] = as[ii].f\n",
    "        ls[ii] = as[ii].l\n",
    "        ts[ii] = as[ii].t    \n",
    "    end\n",
    "    df = DataFrame(name = names, h = hs, f = fs, l = ls, t = ts)\n",
    "    return df\n",
    "end\n",
    "\n",
    "function fpart(x::AbstractFloat)::AbstractFloat\n",
    "  return x - trunc(x)\n",
    "end\n",
    "\n",
    "function eval_team_battle(as::Array{Fighter}, bs::Array{Fighter})::Int\n",
    "    a_i = 1\n",
    "    b_i = 1\n",
    "    while (a_i <= length(as)) && (b_i <= length(bs))\n",
    "        res = eval_battle(as[a_i], bs[b_i])\n",
    "        if res == 1\n",
    "            b_i = b_i + 1\n",
    "        else\n",
    "            a_i = a_i + 1\n",
    "            if res == 0\n",
    "                b_i = b_i + 1\n",
    "            end\n",
    "        end\n",
    "    end\n",
    "    a_out = (a_i > length(as))\n",
    "    b_out = (b_i > length(as))\n",
    "    if a_out\n",
    "        if b_out\n",
    "            return 0\n",
    "        else\n",
    "            return -1\n",
    "        end\n",
    "    else\n",
    "        return 1\n",
    "    end\n",
    "end\n",
    "\n",
    "function compare_generator(f1, f2, limit)\n",
    "    a_i = 1\n",
    "    b_i = 1\n",
    "    f_a = f1()\n",
    "    f_b = f2()\n",
    "    while (a_i < limit) && (b_i < limit)\n",
    "        res = eval_battle(f_a, f_b)\n",
    "        if res != -1\n",
    "            b_i = b_i + 1\n",
    "            f_b = f2()\n",
    "        end\n",
    "        if res != 1\n",
    "            a_i = a_i + 1\n",
    "            f_a = f1()\n",
    "        end\n",
    "    end\n",
    "    return (a_i/limit, b_i/limit)\n",
    "end\n",
    "\n",
    "function random_team(f::Function, team_size::Int)::Array{Fighter}\n",
    "    team = Array{Fighter}(undef, team_size)\n",
    "    for i in 1:team_size\n",
    "        team[i] = f()\n",
    "    end\n",
    "    return team\n",
    "end"
   ]
  },
  {
   "cell_type": "code",
   "execution_count": 188,
   "id": "51cea033",
   "metadata": {},
   "outputs": [
    {
     "name": "stdout",
     "output_type": "stream",
     "text": [
      " 44.897691 seconds (1.00 G allocations: 62.550 GiB, 14.68% gc time, 0.39% compilation time)\n"
     ]
    },
    {
     "data": {
      "text/plain": [
       "100000-element Vector{Fighter}:\n",
       " Fighter(\"Rayvion the Yak\", 39, 53, 77, 93)\n",
       " Fighter(\"Hot Jennika\", 22, 37, 123, 175)\n",
       " Fighter(\"Herlinda the Strawberry\", 41, 71, 146, 15)\n",
       " Fighter(\"Sassy Monkey\", 115, 32, 48, 25)\n",
       " Fighter(\"Popular Archer\", 43, 69, 73, 56)\n",
       " Fighter(\"Aubreyanna the Monkey\", 71, 81, 18, 36)\n",
       " Fighter(\"Herminio the Scorpion\", 45, 148, 15, 18)\n",
       " Fighter(\"Aggressive Joker\", 31, 37, 62, 187)\n",
       " Fighter(\"Popular Mushroom\", 67, 16, 109, 101)\n",
       " Fighter(\"Ruqayyah the Dizzy\", 56, 20, 91, 189)\n",
       " Fighter(\"Brutal Xerox\", 80, 34, 11, 188)\n",
       " Fighter(\"Creative Gamer\", 52, 52, 63, 77)\n",
       " Fighter(\"Hunter Aunystee\", 38, 62, 42, 97)\n",
       " ⋮\n",
       " Fighter(\"Boot Banks\", 88, 43, 40, 62)\n",
       " Fighter(\"Wilda the Yoyo\", 137, 23, 45, 29)\n",
       " Fighter(\"Jaecion the Daring\", 20, 31, 182, 185)\n",
       " Fighter(\"Manta Londynn\", 61, 29, 71, 134)\n",
       " Fighter(\"Skiler the Rhino\", 33, 55, 16, 139)\n",
       " Fighter(\"Amelya the Trampoline\", 30, 22, 176, 184)\n",
       " Fighter(\"Soldier Amin\", 33, 59, 77, 93)\n",
       " Fighter(\"Eiliyah the Frozen\", 73, 50, 50, 54)\n",
       " Fighter(\"Good Kyi\", 28, 65, 180, 48)\n",
       " Fighter(\"Madelyn the Phoenix\", 73, 26, 100, 30)\n",
       " Fighter(\"Responsible Philosopher\", 64, 30, 106, 43)\n",
       " Fighter(\"Kelden the Enthusiastic\", 43, 54, 91, 69)"
      ]
     },
     "execution_count": 188,
     "metadata": {},
     "output_type": "execute_result"
    }
   ],
   "source": [
    "@time library = random_team(() -> rand_rename(random_fighter()), 100000)"
   ]
  },
  {
   "cell_type": "code",
   "execution_count": 196,
   "id": "9a026955",
   "metadata": {},
   "outputs": [
    {
     "data": {
      "text/plain": [
       "mcmc_fighter_v1 (generic function with 7 methods)"
      ]
     },
     "execution_count": 196,
     "metadata": {},
     "output_type": "execute_result"
    }
   ],
   "source": [
    "function mcmc_fighter_v1(; budget::Int = MXS, h0::Int = MNV, f0::Int = MNV, l0::Int = MNV, t0::Int = MNV, nits::Int = 100)::Fighter\n",
    "    name = \"MCMC v.1\"\n",
    "    h = h0\n",
    "    f = f0\n",
    "    l = l0\n",
    "    t = t0\n",
    "    for iter in 1:nits\n",
    "        # randomly decrease one stat\n",
    "        switch = rand(1:4)\n",
    "        if switch == 1\n",
    "            h = rand(h0:h)\n",
    "        end\n",
    "        if switch == 2\n",
    "            f = rand(f0:f)\n",
    "        end\n",
    "        if switch == 3\n",
    "            l = rand(l0:l)\n",
    "        end\n",
    "        if switch == 4\n",
    "            t = rand(t0:t)\n",
    "        end\n",
    "        # increase another stat\n",
    "        switch2 = rand(1:4)\n",
    "        while switch2 == switch\n",
    "            switch2 = rand(1:4)\n",
    "        end\n",
    "        if switch2 == 1\n",
    "            h = min(convert(Int, trunc((budget - (f * t))/(f + l))), MXV)\n",
    "        end\n",
    "        if switch2 == 2\n",
    "            f = min(convert(Int, trunc((budget - (h * l))/(h + t))), MXV)\n",
    "        end\n",
    "        if switch2 == 3\n",
    "            l = min(convert(Int, trunc((budget - (h * f + f * t))/h)), MXV)\n",
    "        end\n",
    "        if switch2 == 4\n",
    "            t = min(convert(Int, trunc((budget - (h * f + h * l))/f)), MXV)\n",
    "        end        \n",
    "    end\n",
    "    return Fighter(name, h, f, l, t)\n",
    "end\n"
   ]
  },
  {
   "cell_type": "code",
   "execution_count": 328,
   "id": "0cc88c2e",
   "metadata": {},
   "outputs": [
    {
     "name": "stdout",
     "output_type": "stream",
     "text": [
      "  1.696633 seconds (11.32 M allocations: 496.480 MiB, 4.87% gc time, 0.66% compilation time)\n"
     ]
    },
    {
     "data": {
      "text/plain": [
       "0"
      ]
     },
     "execution_count": 328,
     "metadata": {},
     "output_type": "execute_result"
    }
   ],
   "source": [
    "@time library_m = random_team(() -> rand_rename(mcmc_fighter_v1()), 100000)\n",
    "0"
   ]
  },
  {
   "cell_type": "code",
   "execution_count": 4,
   "id": "52c881b8",
   "metadata": {},
   "outputs": [],
   "source": [
    "#tab = fighters_to_df(library[1:20])"
   ]
  },
  {
   "cell_type": "code",
   "execution_count": 5,
   "id": "a8a6d01b",
   "metadata": {},
   "outputs": [],
   "source": [
    "# v = tab.t\n",
    "# for i in 1:20\n",
    "#     a = round(v[i]/10)\n",
    "#     if a > 9\n",
    "#         print(\", \")\n",
    "#     else\n",
    "#         print(\",  \")\n",
    "#     end\n",
    "#     print(convert(Int, a))\n",
    "# end"
   ]
  },
  {
   "cell_type": "code",
   "execution_count": 7,
   "id": "e99a566d",
   "metadata": {},
   "outputs": [
    {
     "data": {
      "text/plain": [
       "10"
      ]
     },
     "execution_count": 7,
     "metadata": {},
     "output_type": "execute_result"
    }
   ],
   "source": [
    "budget = MXS\n",
    "budget2 = convert(Int, trunc(0.7 * budget))\n",
    "h0 = MNV\n",
    "f0 = MNV\n",
    "l0 = MNV\n",
    "t0 = MNV\n",
    "nits = 5\n",
    "maxstep = 10"
   ]
  },
  {
   "cell_type": "code",
   "execution_count": 148,
   "id": "55db290f",
   "metadata": {},
   "outputs": [
    {
     "data": {
      "text/plain": [
       "(\"MCMC v.2-13\", 100, 60, 20, 40)"
      ]
     },
     "execution_count": 148,
     "metadata": {},
     "output_type": "execute_result"
    }
   ],
   "source": [
    "opt = rand(1:20)\n",
    "name = string(\"MCMC v.2-\", @sprintf(\"%i\", opt))\n",
    "#       1   2   3   4   5   6   7   8   9  10  11  12  13  14  15  16  17  18  19  20\n",
    "hrs = [ 4,  2,  6, 14,  6, 16,  3,  8,  2,  6,  2,  6, 10, 17,  3,  4,  2,  4,  8, 14]\n",
    "frs = [ 5, 11,  7,  3,  6,  2,  6,  4, 18,  2,  5,  3,  6,  2,  7,  5,  8,  3,  5,  2]\n",
    "lrs = [14,  6,  1,  2,  1,  3,  7,  4,  5, 14,  6, 13,  2,  1, 17,  9, 19, 11,  5,  3]\n",
    "trs = [ 5,  5,  7,  8,  8,  7, 11,  7,  3,  4, 14,  4,  4, 15,  4, 11,  6, 18,  4, 11]\n",
    "mult = sqrt(budget/100)\n",
    "h = max(h0, convert(Int, trunc(mult * hrs[opt])))\n",
    "f = max(f0, convert(Int, trunc(mult * frs[opt])))\n",
    "l = max(l0, convert(Int, trunc(mult * lrs[opt])))\n",
    "t = max(t0, convert(Int, trunc(mult * trs[opt])))\n",
    "name,h,f,l,t"
   ]
  },
  {
   "cell_type": "code",
   "execution_count": 158,
   "id": "67637e5c",
   "metadata": {},
   "outputs": [],
   "source": [
    "if (h*f + h*l + t*f > budget2)\n",
    "    switch = rand(1:4)\n",
    "    step = rand(1:maxstep)\n",
    "    if switch == 1\n",
    "        h = max(h0, h - step)\n",
    "    end\n",
    "    if switch == 2\n",
    "        f = max(f0, f - step)\n",
    "    end\n",
    "    if switch == 3\n",
    "        l = max(l0, l - step)\n",
    "    end\n",
    "    if switch == 4\n",
    "        t = max(t0, t - step)\n",
    "    end\n",
    "    print((name,h,f,l,t))\n",
    "end"
   ]
  },
  {
   "cell_type": "code",
   "execution_count": 176,
   "id": "841e63fa",
   "metadata": {},
   "outputs": [],
   "source": [
    "if ((h*f + h*l + t*f > budget) || (h*f + h*l + t*f + min(h, f) <= budget))\n",
    "    # increase or decrease another stat\n",
    "    switch = rand(1:4)\n",
    "    if h*f + h*l + t*f > budget\n",
    "        step = rand(1:maxstep)\n",
    "    end\n",
    "    if h*f + h*l + t*f + min(h, f) <= budget\n",
    "        step = rand(-maxstep:-1)\n",
    "    end\n",
    "    if switch == 1\n",
    "        h = max(h0, h - step)\n",
    "    end\n",
    "    if switch == 2\n",
    "        f = max(f0, f - step)\n",
    "    end\n",
    "    if switch == 3\n",
    "        l = max(l0, l - step)\n",
    "    end\n",
    "    if switch == 4\n",
    "        t = max(t0, t - step)\n",
    "    end\n",
    "    println((switch,step))\n",
    "    print((name,h,f,l,t))\n",
    "end\n"
   ]
  },
  {
   "cell_type": "code",
   "execution_count": 201,
   "id": "b662226e",
   "metadata": {},
   "outputs": [
    {
     "data": {
      "text/plain": [
       "Fighter(\"MCMC v.2-2\", 19, 134, 131, 37)"
      ]
     },
     "execution_count": 201,
     "metadata": {},
     "output_type": "execute_result"
    }
   ],
   "source": [
    "function mcmc_fighter_v2(; budget::Int = MXS, budget2::Int = convert(Int, trunc(0.7 * budget)),\n",
    "        h0::Int = MNV, f0::Int = MNV, l0::Int = MNV, t0::Int = MNV, \n",
    "        nits::Int = 2, maxstep::Int = 10)::Fighter\n",
    "    opt = rand(1:20)\n",
    "    name = string(\"MCMC v.2-\", @sprintf(\"%i\", opt))\n",
    "    #       1   2   3   4   5   6   7   8   9  10  11  12  13  14  15  16  17  18  19  20\n",
    "    hrs = [ 4,  2,  6, 14,  6, 16,  3,  8,  2,  6,  2,  6, 10, 17,  3,  4,  2,  4,  8, 14]\n",
    "    frs = [ 5, 11,  7,  3,  6,  2,  6,  4, 18,  2,  5,  3,  6,  2,  7,  5,  8,  3,  5,  2]\n",
    "    lrs = [14,  6,  1,  2,  1,  3,  7,  4,  5, 14,  6, 13,  2,  1, 17,  9, 19, 11,  5,  3]\n",
    "    trs = [ 5,  5,  7,  8,  8,  7, 11,  7,  3,  4, 14,  4,  4, 15,  4, 11,  6, 18,  4, 11]\n",
    "    mult = sqrt(budget/100)\n",
    "    h = max(h0, convert(Int, trunc(mult * hrs[opt])))\n",
    "    f = max(f0, convert(Int, trunc(mult * frs[opt])))\n",
    "    l = max(l0, convert(Int, trunc(mult * lrs[opt])))\n",
    "    t = max(t0, convert(Int, trunc(mult * trs[opt])))\n",
    "    for iter in 1:nits\n",
    "        while (h*f + h*l + t*f > budget2)\n",
    "            switch = rand(1:4)\n",
    "            step = rand(1:maxstep)\n",
    "            if switch == 1\n",
    "                h = max(h0, h - step)\n",
    "            end\n",
    "            if switch == 2\n",
    "                f = max(f0, f - step)\n",
    "            end\n",
    "            if switch == 3\n",
    "                l = max(l0, l - step)\n",
    "            end\n",
    "            if switch == 4\n",
    "                t = max(t0, t - step)\n",
    "            end\n",
    "        end\n",
    "        while (h*f + h*l + t*f > budget) || (h*f + h*l + t*f + min(h, f) <= budget)\n",
    "            # increase or decrease another stat\n",
    "            switch = rand(1:4)\n",
    "            if h*f + h*l + t*f > budget\n",
    "                step = rand(1:maxstep)\n",
    "            end\n",
    "            if h*f + h*l + t*f + min(h, f) <= budget\n",
    "                step = rand(-maxstep:-1)\n",
    "            end\n",
    "            if switch == 1\n",
    "                h = max(h0, h - step)\n",
    "            end\n",
    "            if switch == 2\n",
    "                f = max(f0, f - step)\n",
    "            end\n",
    "            if switch == 3\n",
    "                l = max(l0, l - step)\n",
    "            end\n",
    "            if switch == 4\n",
    "                t = max(t0, t - step)\n",
    "            end\n",
    "        end\n",
    "    end\n",
    "    return Fighter(name, h, f, l, t)\n",
    "end\n",
    "\n",
    "mcmc_fighter_v2()"
   ]
  },
  {
   "cell_type": "code",
   "execution_count": 178,
   "id": "d4bcc31f",
   "metadata": {},
   "outputs": [
    {
     "name": "stdout",
     "output_type": "stream",
     "text": [
      "9992\n",
      "Fighter(\"MCMC v.2-18\", 13, 48, 152, 154)\n"
     ]
    }
   ],
   "source": [
    "f = mcmc_fighter_v2()\n",
    "println(f.h * f.f + f.h * f.l + f.f * f.t)\n",
    "println(f)"
   ]
  },
  {
   "cell_type": "code",
   "execution_count": 180,
   "id": "dd546197",
   "metadata": {},
   "outputs": [
    {
     "data": {
      "text/plain": [
       "nashprox2 (generic function with 1 method)"
      ]
     },
     "execution_count": 180,
     "metadata": {},
     "output_type": "execute_result"
    }
   ],
   "source": [
    "function nashprox(g, size, start_size, nt)\n",
    "    nash_env = Array{Fighter}(undef, size)\n",
    "    nash_env[1:start_size] = random_team(g, start_size)\n",
    "    for j in (start_size+1):size\n",
    "        ff = pick_best_rdmly_g(g, nash_env[1:(j-1)], nt)\n",
    "        nash_env[j] = ff\n",
    "    end\n",
    "    return nash_env\n",
    "end\n",
    "\n",
    "\n",
    "function nashprox2(g, size, start_size, nt, ns)\n",
    "    nash_env = Array{Fighter}(undef, size)\n",
    "    nash_env[1:start_size] = random_team(g, start_size)\n",
    "    for j in (start_size+1):size\n",
    "        if j < ns\n",
    "            ff = pick_best_rdmly_g(g, nash_env[1:(j-1)], nt)\n",
    "        else\n",
    "            ff = pick_best_rdmly_g(g, randsubseq(nash_env[1:(j-1)], ns/j), nt)\n",
    "        end\n",
    "        nash_env[j] = ff\n",
    "    end\n",
    "    return nash_env\n",
    "end\n",
    "\n",
    "\n"
   ]
  },
  {
   "cell_type": "code",
   "execution_count": 85,
   "id": "c5b01ece",
   "metadata": {},
   "outputs": [
    {
     "name": "stdout",
     "output_type": "stream",
     "text": [
      " 32.791842 seconds (1.04 M allocations: 795.237 MiB, 0.29% gc time, 0.11% compilation time)\n"
     ]
    },
    {
     "data": {
      "text/plain": [
       "0"
      ]
     },
     "execution_count": 85,
     "metadata": {},
     "output_type": "execute_result"
    }
   ],
   "source": [
    "@time nash_env0 = nashprox(() -> rand(library), 10000, 10, 99)\n",
    "0"
   ]
  },
  {
   "cell_type": "code",
   "execution_count": 87,
   "id": "17318d00",
   "metadata": {},
   "outputs": [
    {
     "name": "stdout",
     "output_type": "stream",
     "text": [
      " 30.300878 seconds (488.01 k allocations: 2.996 GiB, 1.06% gc time, 0.14% compilation time)\n"
     ]
    },
    {
     "data": {
      "text/plain": [
       "0"
      ]
     },
     "execution_count": 87,
     "metadata": {},
     "output_type": "execute_result"
    }
   ],
   "source": [
    "@time nash_env0a = nashprox(() -> rand(library), 20000, 10, 20)\n",
    "0"
   ]
  },
  {
   "cell_type": "code",
   "execution_count": 96,
   "id": "3af11a69",
   "metadata": {},
   "outputs": [
    {
     "name": "stdout",
     "output_type": "stream",
     "text": [
      " 32.007045 seconds (2.09 M allocations: 49.118 GiB, 17.66% gc time, 0.12% compilation time)\n"
     ]
    },
    {
     "data": {
      "text/plain": [
       "0"
      ]
     },
     "execution_count": 96,
     "metadata": {},
     "output_type": "execute_result"
    }
   ],
   "source": [
    "@time nash_env0b = nashprox2(() -> rand(library), 80000, 10, 20, 1000)\n",
    "0"
   ]
  },
  {
   "cell_type": "code",
   "execution_count": 97,
   "id": "3e7b4df3",
   "metadata": {},
   "outputs": [
    {
     "name": "stdout",
     "output_type": "stream",
     "text": [
      " 29.265473 seconds (43.96 k allocations: 1.678 GiB, 0.84% gc time)\n"
     ]
    },
    {
     "data": {
      "text/plain": [
       "0"
      ]
     },
     "execution_count": 97,
     "metadata": {},
     "output_type": "execute_result"
    }
   ],
   "source": [
    "@time nash_env1a = nashprox(mcmc_fighter_v1, 15000, 10, 40)\n",
    "0"
   ]
  },
  {
   "cell_type": "code",
   "execution_count": 233,
   "id": "f9322e0b",
   "metadata": {},
   "outputs": [
    {
     "name": "stdout",
     "output_type": "stream",
     "text": [
      "  4.319508 seconds (46.96 k allocations: 924.495 MiB, 5.66% gc time)\n"
     ]
    },
    {
     "data": {
      "text/plain": [
       "0"
      ]
     },
     "execution_count": 233,
     "metadata": {},
     "output_type": "execute_result"
    }
   ],
   "source": [
    "@time nash_env1b = nashprox2(mcmc_fighter_v1, 10000, 10, 40, 1000)\n",
    "0"
   ]
  },
  {
   "cell_type": "code",
   "execution_count": 193,
   "id": "b2b6dab4",
   "metadata": {},
   "outputs": [
    {
     "name": "stdout",
     "output_type": "stream",
     "text": [
      "  4.124739 seconds (2.91 M allocations: 1.290 GiB, 6.55% gc time)\n"
     ]
    },
    {
     "data": {
      "text/plain": [
       "0"
      ]
     },
     "execution_count": 193,
     "metadata": {},
     "output_type": "execute_result"
    }
   ],
   "source": [
    "@time nash_env2b = nashprox2(mcmc_fighter_v2, 10000, 10, 40, 1000)\n",
    "0"
   ]
  },
  {
   "cell_type": "code",
   "execution_count": 190,
   "id": "8f37c26c",
   "metadata": {},
   "outputs": [
    {
     "data": {
      "text/plain": [
       "evaluate_nash (generic function with 2 methods)"
      ]
     },
     "execution_count": 190,
     "metadata": {},
     "output_type": "execute_result"
    }
   ],
   "source": [
    "function evaluate_nash(nash_env, library)\n",
    "    counter = pick_best(library, nash_env)\n",
    "    println(counter)\n",
    "    return eval_battle_list(counter, nash_env)/length(nash_env)\n",
    "end"
   ]
  },
  {
   "cell_type": "code",
   "execution_count": 102,
   "id": "032d8906",
   "metadata": {},
   "outputs": [
    {
     "name": "stdout",
     "output_type": "stream",
     "text": [
      "Fighter(\"Tyro Aroush\", 69, 10, 132, 20)\n",
      "0.0668\n",
      "Fighter(\"Ahsan the Zinc\", 10, 67, 15, 137)\n",
      "0.0704\n",
      "Fighter(\"Xile the Ladder\", 10, 79, 12, 115)\n",
      "0.098675\n",
      "Fighter(\"Brutal Rayland\", 10, 65, 12, 142)\n",
      "0.032\n",
      "Fighter(\"Accurate Lawyer\", 47, 119, 10, 33)\n",
      "0.03286666666666667\n"
     ]
    }
   ],
   "source": [
    "println(evaluate_nash(nash_env0, library))\n",
    "println(evaluate_nash(nash_env0a, library))\n",
    "println(evaluate_nash(nash_env0b, library))\n",
    "println(evaluate_nash(nash_env1a, library))\n",
    "println(evaluate_nash(nash_env1b, library))\n"
   ]
  },
  {
   "cell_type": "code",
   "execution_count": 200,
   "id": "cf5b2959",
   "metadata": {},
   "outputs": [
    {
     "name": "stdout",
     "output_type": "stream",
     "text": [
      "Fighter(\"Manta Dashiell\", 47, 18, 140, 143)\n",
      "0.038\n",
      "Fighter(\"Helicopter Ariv\", 10, 93, 14, 96)\n",
      "0.0432\n",
      "Fighter(\"Mosquito Fidencio\", 65, 121, 10, 12)\n",
      "0.076\n"
     ]
    }
   ],
   "source": [
    "println(evaluate_nash(nash_env1b, library))\n",
    "println(evaluate_nash(nash_env1c, library))\n",
    "println(evaluate_nash(nash_env2b, library))"
   ]
  },
  {
   "cell_type": "code",
   "execution_count": 199,
   "id": "717af4eb",
   "metadata": {},
   "outputs": [
    {
     "name": "stdout",
     "output_type": "stream",
     "text": [
      "  3.402281 seconds (95.52 k allocations: 927.842 MiB, 5.91% gc time, 1.34% compilation time)\n"
     ]
    },
    {
     "data": {
      "text/plain": [
       "0"
      ]
     },
     "execution_count": 199,
     "metadata": {},
     "output_type": "execute_result"
    }
   ],
   "source": [
    "@time nash_env1c = nashprox2(() -> mcmc_fighter_v1(nits = 20), 10000, 10, 40, 1000)\n",
    "0"
   ]
  },
  {
   "cell_type": "code",
   "execution_count": 203,
   "id": "fb48596e",
   "metadata": {},
   "outputs": [
    {
     "name": "stdout",
     "output_type": "stream",
     "text": [
      " 12.244178 seconds (2.99 M allocations: 1.295 GiB, 2.24% gc time, 0.41% compilation time)\n"
     ]
    },
    {
     "data": {
      "text/plain": [
       "0"
      ]
     },
     "execution_count": 203,
     "metadata": {},
     "output_type": "execute_result"
    }
   ],
   "source": [
    "@time nash_env1c = nashprox2(() -> mcmc_fighter_v2(nits = 20), 10000, 10, 40, 1000)\n",
    "0"
   ]
  },
  {
   "cell_type": "code",
   "execution_count": 215,
   "id": "3b8cab1f",
   "metadata": {},
   "outputs": [
    {
     "name": "stdout",
     "output_type": "stream",
     "text": [
      "  0.294002 seconds (11.23 k allocations: 8.514 MiB, 12.72% compilation time)\n"
     ]
    },
    {
     "data": {
      "text/plain": [
       "0"
      ]
     },
     "execution_count": 215,
     "metadata": {},
     "output_type": "execute_result"
    }
   ],
   "source": [
    "@time nash_env1d = nashprox2(() -> mcmc_fighter_v1(), 1000, 10, 40, 1000)\n",
    "0"
   ]
  },
  {
   "cell_type": "code",
   "execution_count": 216,
   "id": "67f3fca0",
   "metadata": {},
   "outputs": [
    {
     "name": "stdout",
     "output_type": "stream",
     "text": [
      "Fighter(\"Hungry Mylee\", 34, 153, 19, 27)\n",
      "0.076\n"
     ]
    }
   ],
   "source": [
    "println(evaluate_nash(nash_env1d, library[1:1000]))"
   ]
  },
  {
   "cell_type": "markdown",
   "id": "f3e9e11c",
   "metadata": {},
   "source": [
    "## Greedy optimization"
   ]
  },
  {
   "cell_type": "code",
   "execution_count": 237,
   "id": "a0f716bb",
   "metadata": {},
   "outputs": [
    {
     "data": {
      "text/plain": [
       "0"
      ]
     },
     "execution_count": 237,
     "metadata": {},
     "output_type": "execute_result"
    }
   ],
   "source": [
    "nash_env = random_team(mcmc_fighter_v1, 20000)\n",
    "g = mcmc_fighter_v1\n",
    "0"
   ]
  },
  {
   "cell_type": "code",
   "execution_count": 238,
   "id": "313e0f38",
   "metadata": {},
   "outputs": [
    {
     "name": "stdout",
     "output_type": "stream",
     "text": [
      "0.4957 0.441 0.4185 "
     ]
    },
    {
     "ename": "LoadError",
     "evalue": "InterruptException:",
     "output_type": "error",
     "traceback": [
      "InterruptException:",
      "",
      "Stacktrace:",
      " [1] top-level scope",
      "   @ ./In[238]:18"
     ]
    }
   ],
   "source": [
    "function evaluate_nash(nash_env, library)\n",
    "    counter = pick_best(library, nash_env)\n",
    "    #println(counter)\n",
    "    return eval_battle_list(counter, nash_env)/length(nash_env)\n",
    "end\n",
    "\n",
    "nits = 5\n",
    "nlib = 20\n",
    "for iter in 1:nits\n",
    "    lib = random_team(mcmc_fighter_v1, nlib)\n",
    "    lib_i = 1\n",
    "    for ind in 1:length(nash_env)\n",
    "        lib[lib_i] = g()\n",
    "        lib_i = lib_i + 1\n",
    "        if lib_i > nlib\n",
    "            lib_i = 1\n",
    "        end\n",
    "        score = evaluate_nash(nash_env, lib)\n",
    "        newf = g()\n",
    "        oldf = nash_env[ind]\n",
    "        nash_env[ind] = newf\n",
    "        newscore = evaluate_nash(nash_env, lib)\n",
    "        if newscore > score\n",
    "            nash_env[ind] = oldf\n",
    "        end\n",
    "    end\n",
    "    print(evaluate_nash(nash_env, library))\n",
    "    print(\" \")\n",
    "end"
   ]
  },
  {
   "cell_type": "code",
   "execution_count": 231,
   "id": "98926e32",
   "metadata": {},
   "outputs": [
    {
     "name": "stdout",
     "output_type": "stream",
     "text": [
      "0.023 0.0228 0.0224 0.0224 0.022 "
     ]
    }
   ],
   "source": [
    "# function evaluate_nash(nash_env, library)\n",
    "#     counter = pick_best(library, nash_env)\n",
    "#     #println(counter)\n",
    "#     return eval_battle_list(counter, nash_env)/length(nash_env)\n",
    "# end\n",
    "\n",
    "# nits = 5\n",
    "# nlib = 200\n",
    "# score = evaluate_nash(nash_env, library[1:nlib])\n",
    "# for iter in 1:nits\n",
    "#     for ind in 1:length(nash_env)\n",
    "#         newf = g()\n",
    "#         oldf = nash_env[ind]\n",
    "#         nash_env[ind] = newf\n",
    "#         newscore = evaluate_nash(nash_env, library[1:nlib])\n",
    "#         if newscore <= score\n",
    "#             score = newscore\n",
    "#         else\n",
    "#             nash_env[ind] = oldf\n",
    "#         end\n",
    "#     end\n",
    "#     print(score)\n",
    "#     print(\" \")\n",
    "# end"
   ]
  },
  {
   "cell_type": "code",
   "execution_count": 232,
   "id": "7a41c98e",
   "metadata": {},
   "outputs": [
    {
     "name": "stdout",
     "output_type": "stream",
     "text": [
      "Fighter(\"Scissors Gionna\", 19, 79, 93, 85)\n"
     ]
    },
    {
     "data": {
      "text/plain": [
       "0.0578"
      ]
     },
     "execution_count": 232,
     "metadata": {},
     "output_type": "execute_result"
    }
   ],
   "source": [
    "function evaluate_nash(nash_env, library)\n",
    "    counter = pick_best(library, nash_env)\n",
    "    println(counter)\n",
    "    return eval_battle_list(counter, nash_env)/length(nash_env)\n",
    "end\n",
    "\n",
    "evaluate_nash(nash_env, library)"
   ]
  },
  {
   "cell_type": "code",
   "execution_count": 234,
   "id": "6ff5ba67",
   "metadata": {},
   "outputs": [
    {
     "name": "stdout",
     "output_type": "stream",
     "text": [
      "Fighter(\"Xquisite Buxton\", 29, 32, 147, 150)\n",
      "0.0532\n"
     ]
    }
   ],
   "source": [
    "println(evaluate_nash(nash_env1b, library))"
   ]
  },
  {
   "cell_type": "markdown",
   "id": "68e3cf22",
   "metadata": {},
   "source": [
    "## Nash prob dist"
   ]
  },
  {
   "cell_type": "code",
   "execution_count": 302,
   "id": "63d2b34e",
   "metadata": {},
   "outputs": [
    {
     "name": "stdout",
     "output_type": "stream",
     "text": [
      "  9.538125 seconds (46.52 M allocations: 2.890 GiB, 4.20% gc time, 1.67% compilation time: 18% of which was recompilation)\n"
     ]
    },
    {
     "data": {
      "text/plain": [
       "0"
      ]
     },
     "execution_count": 302,
     "metadata": {},
     "output_type": "execute_result"
    }
   ],
   "source": [
    "@time nash_env = nashprox2(() -> rand_rename(mcmc_fighter_v1()), 10000, 10, 40, 1000)\n",
    "0"
   ]
  },
  {
   "cell_type": "code",
   "execution_count": 313,
   "id": "a1a18aca",
   "metadata": {},
   "outputs": [
    {
     "data": {
      "text/plain": [
       "1.0e-6"
      ]
     },
     "execution_count": 313,
     "metadata": {},
     "output_type": "execute_result"
    }
   ],
   "source": [
    "w = [1.0/length(nash_env) for n=1:length(nash_env)]\n",
    "eps = 0.01/length(nash_env)"
   ]
  },
  {
   "cell_type": "code",
   "execution_count": 325,
   "id": "c57a422d",
   "metadata": {
    "scrolled": false
   },
   "outputs": [
    {
     "name": "stdout",
     "output_type": "stream",
     "text": [
      "(0.04629228102700389, 2.635605816677576, 0.021470306536401824)\n",
      "Fighter(\"Furious Scissors\", 27, 29, 165, 164)\n",
      "Fighter(\"Furious Candle\", 37, 20, 162, 163)\n",
      "(0.043794791708530616, 2.618354846660965, 0.019769739338505198)\n",
      "Fighter(\"Furious Scissors\", 27, 29, 165, 164)\n",
      "Fighter(\"Iron Dahila\", 10, 58, 11, 160)\n",
      "(0.04840988321066415, 2.626364016574821, 0.018375578423944317)\n",
      "Fighter(\"Furious Scissors\", 27, 29, 165, 164)\n",
      "Fighter(\"Turbo Graciana\", 159, 27, 34, 10)\n",
      "(0.040008346546361796, 2.6375924318112274, 0.01710710351879227)\n",
      "Fighter(\"Furious Scissors\", 27, 29, 165, 164)\n",
      "Fighter(\"Diamond Tremani\", 71, 10, 129, 13)\n",
      "(0.0505953774055369, 2.624813097814121, 0.015780153770220882)\n",
      "Fighter(\"Furious Scissors\", 27, 29, 165, 164)\n",
      "Fighter(\"Happy Politician\", 14, 45, 151, 161)\n"
     ]
    }
   ],
   "source": [
    "nits = 100\n",
    "for i in 1:nits\n",
    "    scores = [eval_battle_list2(ff, nash_env, w) for ff in nash_env]\n",
    "    #w[scores .< 0] = w[scores .< 0] .- eps\n",
    "    w[scores .> 0] = w[scores .> 0] .+ eps\n",
    "    w[w .< 0] .= 0\n",
    "    w = w./sum(w)\n",
    "    if mod1(i, 20)==1\n",
    "        println((maximum(scores), maximum(w * length(nash_env)), minimum(w * length(nash_env))))\n",
    "        mxv, mxi = findmax(w)\n",
    "        println(nash_env[mxi])\n",
    "        mxv, mxi = findmax(scores)\n",
    "        println(nash_env[mxi])\n",
    "    end\n",
    "end"
   ]
  },
  {
   "cell_type": "code",
   "execution_count": 326,
   "id": "6e3a69b6",
   "metadata": {},
   "outputs": [
    {
     "data": {
      "text/plain": [
       "(0.04920000000000038, 0.05215557266997716)"
      ]
     },
     "execution_count": 326,
     "metadata": {},
     "output_type": "execute_result"
    }
   ],
   "source": [
    "lib_scores0 = [eval_battle_list2(ff, nash_env, [1.0/length(nash_env) for n=1:length(nash_env)]) for ff in library]\n",
    "lib_scores = [eval_battle_list2(ff, nash_env, w) for ff in library]\n",
    "maximum(lib_scores0), maximum(lib_scores)"
   ]
  },
  {
   "cell_type": "code",
   "execution_count": 329,
   "id": "726baa47",
   "metadata": {},
   "outputs": [
    {
     "data": {
      "text/plain": [
       "(0.048600000000000365, 0.05431412649993631)"
      ]
     },
     "execution_count": 329,
     "metadata": {},
     "output_type": "execute_result"
    }
   ],
   "source": [
    "lib_scores0 = [eval_battle_list2(ff, nash_env, [1.0/length(nash_env) for n=1:length(nash_env)]) for ff in library_m]\n",
    "lib_scores = [eval_battle_list2(ff, nash_env, w) for ff in library_m]\n",
    "maximum(lib_scores0), maximum(lib_scores)"
   ]
  },
  {
   "cell_type": "code",
   "execution_count": null,
   "id": "57e4fd9a",
   "metadata": {},
   "outputs": [],
   "source": []
  }
 ],
 "metadata": {
  "kernelspec": {
   "display_name": "Julia 1.9.3",
   "language": "julia",
   "name": "julia-1.9"
  },
  "language_info": {
   "file_extension": ".jl",
   "mimetype": "application/julia",
   "name": "julia",
   "version": "1.9.3"
  }
 },
 "nbformat": 4,
 "nbformat_minor": 5
}

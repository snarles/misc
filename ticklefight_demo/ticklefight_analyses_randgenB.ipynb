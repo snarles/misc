{
 "cells": [
  {
   "cell_type": "code",
   "execution_count": 1,
   "id": "560e9539",
   "metadata": {},
   "outputs": [
    {
     "data": {
      "text/plain": [
       "eval_team_battle (generic function with 1 method)"
      ]
     },
     "execution_count": 1,
     "metadata": {},
     "output_type": "execute_result"
    }
   ],
   "source": [
    "using Random\n",
    "using DataFrames\n",
    "using CSV\n",
    "using Statistics\n",
    "\n",
    "struct Fighter\n",
    "    name::String\n",
    "    h::Int16\n",
    "    f::Int16\n",
    "    l::Int16\n",
    "    t::Int16\n",
    "end\n",
    "\n",
    "const MXS = 10000\n",
    "const MXV = 100\n",
    "const MNV = 10\n",
    "\n",
    "function random_fighter(h0::Int = MNV, f0::Int = MNV, l0::Int = MNV, t0::Int = MNV)::Fighter\n",
    "    flag = true\n",
    "    while flag\n",
    "        h = h0 + rand(0:(MXV - h0), 1)[1]\n",
    "        f = f0 + rand(0:(MXV - f0), 1)[1]\n",
    "        l = l0 + rand(0:(MXV - l0), 1)[1]\n",
    "        t = t0 + rand(0:(MXV - t0), 1)[1]\n",
    "        mm = minimum([h, f])\n",
    "        budget = h*f+h*l+f*t\n",
    "        if budget <= MXS && budget + mm > MXS\n",
    "            flag = false\n",
    "            return Fighter(\"No Name\", h, f, l, t)\n",
    "        end\n",
    "    end\n",
    "end\n",
    "\n",
    "function eval_battle(a::Fighter, b::Fighter)::Int\n",
    "    a_finds = a.f >= b.h\n",
    "    b_finds = b.f >= a.h\n",
    "    if a_finds && b_finds\n",
    "        if a.t > b.t\n",
    "            return 1\n",
    "        end\n",
    "        if a.t < b.t\n",
    "            return -1\n",
    "        end\n",
    "        if a.t == b.t\n",
    "            if a.l > b.l\n",
    "                return 1\n",
    "            end\n",
    "            if a.l < b.l\n",
    "                return -1\n",
    "            end\n",
    "            if a.l == b.l\n",
    "                if a.h > b.h\n",
    "                    return 1\n",
    "                end\n",
    "                if a.h < b.h\n",
    "                    return -1\n",
    "                end\n",
    "                if a.h == b.h\n",
    "                    return 0\n",
    "                end\n",
    "            end\n",
    "        end\n",
    "    end\n",
    "    if a_finds && !b_finds\n",
    "        return 1\n",
    "    end\n",
    "    if !a_finds && b_finds\n",
    "        return -1\n",
    "    end\n",
    "    if !a_finds && !b_finds\n",
    "        if a.l > b.l\n",
    "            return 1\n",
    "        end\n",
    "        if a.l < b.l\n",
    "            return -1\n",
    "        end\n",
    "        if a.l == b.l\n",
    "            if a.t > b.t\n",
    "                return 1\n",
    "            end\n",
    "            if a.t < b.t\n",
    "                return -1\n",
    "            end\n",
    "            if a.t == b.t\n",
    "                if a.f > b.f\n",
    "                    return 1\n",
    "                end\n",
    "                if a.f < b.f\n",
    "                    return -1\n",
    "                end\n",
    "                if a.f == b.f\n",
    "                    return 0\n",
    "                end\n",
    "            end\n",
    "        end\n",
    "    end\n",
    "end\n",
    "\n",
    "function random_tournament_winner(c::Int)::Fighter\n",
    "    if c==0\n",
    "        return random_fighter()\n",
    "    end\n",
    "    a = random_tournament_winner(c-1)\n",
    "    b = random_tournament_winner(c-1)\n",
    "    res = eval_battle(a, b)\n",
    "    if res == 1\n",
    "        return a\n",
    "    else\n",
    "        return b\n",
    "    end\n",
    "end\n",
    "\n",
    "\n",
    "tab = CSV.read(\"census_yob2022_names.txt\", DataFrame, header = false)\n",
    "names = tab.Column1\n",
    "adjectives = CSV.read(\"adjectives.csv\", DataFrame)\n",
    "nouns = CSV.read(\"nouns.csv\", DataFrame)\n",
    "\n",
    "function random_name_and_stat()::Fighter\n",
    "    vp = [0, 0, 0, 0]\n",
    "    nametype = rand(1:5)\n",
    "    name = \"\"\n",
    "    if nametype == 1 || nametype == 2\n",
    "        nm = rand(names)\n",
    "        adj_i = rand(1:nrow(adjectives))\n",
    "        adj = adjectives[adj_i, :adjective]\n",
    "        vp[1] = vp[1] + adjectives[adj_i, :H]\n",
    "        vp[2] = vp[2] + adjectives[adj_i, :F]\n",
    "        vp[3] = vp[3] + adjectives[adj_i, :L]\n",
    "        vp[4] = vp[4] + adjectives[adj_i, :T]\n",
    "        if nametype == 1\n",
    "            name = string(nm, \" the \", adj)\n",
    "        end\n",
    "        if nametype == 2\n",
    "            name = string(adj, \" \", nm)\n",
    "        end\n",
    "    end\n",
    "    if nametype == 3 || nametype == 4\n",
    "        nm = rand(names)\n",
    "        noun_i = rand(1:nrow(nouns))\n",
    "        noun = nouns[noun_i, :noun]\n",
    "        vp[1] = vp[1] + nouns[noun_i, :H]\n",
    "        vp[2] = vp[2] + nouns[noun_i, :F]\n",
    "        vp[3] = vp[3] + nouns[noun_i, :L]\n",
    "        vp[4] = vp[4] + nouns[noun_i, :T]    \n",
    "        if nametype == 3\n",
    "            name = string(nm, \" the \", noun)\n",
    "        end\n",
    "        if nametype == 4\n",
    "            name = string(noun, \" \", nm)\n",
    "        end\n",
    "    end\n",
    "    if nametype == 5\n",
    "        adj_i = rand(1:nrow(adjectives))\n",
    "        adj = adjectives[adj_i, :adjective]\n",
    "        vp[1] = vp[1] + adjectives[adj_i, :H]\n",
    "        vp[2] = vp[2] + adjectives[adj_i, :F]\n",
    "        vp[3] = vp[3] + adjectives[adj_i, :L]\n",
    "        vp[4] = vp[4] + adjectives[adj_i, :T]\n",
    "        noun_i = rand(1:nrow(nouns))\n",
    "        noun = nouns[noun_i, :noun]\n",
    "        vp[1] = vp[1] + nouns[noun_i, :H]\n",
    "        vp[2] = vp[2] + nouns[noun_i, :F]\n",
    "        vp[3] = vp[3] + nouns[noun_i, :L]\n",
    "        vp[4] = vp[4] + nouns[noun_i, :T]    \n",
    "        name = string(adj, \" \", noun)\n",
    "    end\n",
    "    Fighter(name, vp[1], vp[2], vp[3], vp[4])\n",
    "end\n",
    "\n",
    "function rand_rename(a::Fighter, n_tries::Int = 10)::Fighter\n",
    "    best_score = 0.0\n",
    "    best_b = random_name_and_stat()\n",
    "    for ii in 1:n_tries\n",
    "        b = random_name_and_stat()\n",
    "        b_norm = sqrt(b.h^2 + b.f^2 + b.l^2 + b.t^2)\n",
    "        score = (a.h * b.h + a.f * b.f + a.l * b.l + a.t * b.t)/b_norm\n",
    "        if score > best_score\n",
    "            best_score = score\n",
    "            best_b = b\n",
    "        end\n",
    "    end\n",
    "    return Fighter(best_b.name, a.h, a.f, a.l, a.t)\n",
    "end\n",
    "\n",
    "function eval_battle_list(a::Fighter, bs::Array{Fighter})::Int\n",
    "    score = 0\n",
    "    for ii in 1:length(bs)\n",
    "        score = score + eval_battle(a, bs[ii])\n",
    "    end\n",
    "    return score\n",
    "end\n",
    "\n",
    "function pick_best(as::Array{Fighter}, bs::Array{Fighter})::Fighter\n",
    "    bestscore = -999\n",
    "    bestf = as[1]\n",
    "    for ii in 1:length(as)\n",
    "        score = eval_battle_list(as[ii], bs)\n",
    "        if score > bestscore\n",
    "            bestscore = score\n",
    "            bestf = as[ii]\n",
    "        end\n",
    "    end\n",
    "    return bestf\n",
    "end\n",
    "\n",
    "function pick_best_rdmly(as::Array{Fighter}, bs::Array{Fighter}, ntries::Int)::Fighter\n",
    "    bestscore = -999\n",
    "    bestf = rand(as)\n",
    "    for ii in 1:ntries\n",
    "        f = rand(as)\n",
    "        score = eval_battle_list(f, bs)\n",
    "        if score > bestscore\n",
    "            bestscore = score\n",
    "            bestf = f\n",
    "        end\n",
    "    end\n",
    "    return bestf\n",
    "end\n",
    "\n",
    "function fighters_to_df(as::Array{Fighter})::DataFrame\n",
    "    names = Array{String}(undef, length(as))\n",
    "    hs = Array{Int}(undef, length(as))\n",
    "    fs = Array{Int}(undef, length(as))\n",
    "    ls = Array{Int}(undef, length(as))\n",
    "    ts = Array{Int}(undef, length(as))\n",
    "    for ii in 1:length(as)\n",
    "        names[ii] = as[ii].name\n",
    "        hs[ii] = as[ii].h\n",
    "        fs[ii] = as[ii].f\n",
    "        ls[ii] = as[ii].l\n",
    "        ts[ii] = as[ii].t    \n",
    "    end\n",
    "    df = DataFrame(name = names, h = hs, f = fs, l = ls, t = ts)\n",
    "    return df\n",
    "end\n",
    "\n",
    "function fpart(x::AbstractFloat)::AbstractFloat\n",
    "  return x - trunc(x)\n",
    "end\n",
    "\n",
    "function eval_team_battle(as::Array{Fighter}, bs::Array{Fighter})::Int\n",
    "    a_i = 1\n",
    "    b_i = 1\n",
    "    while (a_i <= length(as)) && (b_i <= length(bs))\n",
    "        res = eval_battle(as[a_i], bs[b_i])\n",
    "        if res == 1\n",
    "            b_i = b_i + 1\n",
    "        else\n",
    "            a_i = a_i + 1\n",
    "            if res == 0\n",
    "                b_i = b_i + 1\n",
    "            end\n",
    "        end\n",
    "    end\n",
    "    a_out = (a_i > length(as))\n",
    "    b_out = (b_i > length(as))\n",
    "    if a_out\n",
    "        if b_out\n",
    "            return 0\n",
    "        else\n",
    "            return -1\n",
    "        end\n",
    "    else\n",
    "        return 1\n",
    "    end\n",
    "end"
   ]
  },
  {
   "cell_type": "code",
   "execution_count": 2,
   "id": "ec7b15f6",
   "metadata": {},
   "outputs": [
    {
     "data": {
      "text/plain": [
       "random_team (generic function with 1 method)"
      ]
     },
     "execution_count": 2,
     "metadata": {},
     "output_type": "execute_result"
    }
   ],
   "source": [
    "function random_team(f::Function, team_size::Int)::Array{Fighter}\n",
    "    team = Array{Fighter}(undef, team_size)\n",
    "    for i in 1:team_size\n",
    "        team[i] = f()\n",
    "    end\n",
    "    return team\n",
    "end"
   ]
  },
  {
   "cell_type": "code",
   "execution_count": 3,
   "id": "51cea033",
   "metadata": {},
   "outputs": [],
   "source": [
    "library = Array{Fighter}(undef, 100000)\n",
    "for i in 1:100000\n",
    "    library[i] = rand_rename(random_fighter())\n",
    "end"
   ]
  },
  {
   "cell_type": "code",
   "execution_count": 4,
   "id": "f1198f90",
   "metadata": {},
   "outputs": [
    {
     "data": {
      "text/plain": [
       "evaluate_generator (generic function with 2 methods)"
      ]
     },
     "execution_count": 4,
     "metadata": {},
     "output_type": "execute_result"
    }
   ],
   "source": [
    "function evaluate_generator(f::Function, team_size::Int, n_times::Int = 1)::AbstractFloat\n",
    "    scores = Array{AbstractFloat}(undef, n_times)\n",
    "    for i0 in 1:n_times\n",
    "        team = Array{Fighter}(undef, team_size)\n",
    "        for i in 1:team_size\n",
    "            team[i] = f()\n",
    "        end\n",
    "        bestscore = 999999\n",
    "        exploiter = library[1]\n",
    "        for i in 1:length(library)\n",
    "            fighter = library[i]\n",
    "            score = 0\n",
    "            for j in 1:team_size\n",
    "                score = score + eval_battle(team[j], fighter)\n",
    "            end\n",
    "            if score < bestscore\n",
    "                bestscore = score\n",
    "                exploiter = library[i]\n",
    "            end\n",
    "        end\n",
    "        if n_times < 5\n",
    "            println(exploiter)        \n",
    "        end\n",
    "        scores[i0] = bestscore/team_size\n",
    "    end\n",
    "    return mean(scores)\n",
    "end"
   ]
  },
  {
   "cell_type": "code",
   "execution_count": 89,
   "id": "5a70c0e2",
   "metadata": {},
   "outputs": [
    {
     "data": {
      "text/plain": [
       "random_scheme_b (generic function with 6 methods)"
      ]
     },
     "execution_count": 89,
     "metadata": {},
     "output_type": "execute_result"
    }
   ],
   "source": [
    "# new random generation to more closely approximate Nash\n",
    "function random_scheme_b(budget::Int = MXS, h0::Int = MNV, f0::Int = MNV, l0::Int = MNV, t0::Int = MNV)::Fighter\n",
    "    opt = rand([1,1,1,1, 2,2, 3,3, 4,4,4, 5,5,5, 6,6, 7,7, 8,8, 9,9])\n",
    "    flip = (rand() < 0.5)\n",
    "    r1 = rand()\n",
    "    r2 = rand()^(0.3)\n",
    "    r3 = rand()\n",
    "    #           1     2     3.    4.    5.    6.    7.    8.    9. \n",
    "    h_mins =  [03.5, 05.4, 06.8, 07.5, 08.6, 09.2, 09.6, 10.2, 10.5]\n",
    "    h_maxs =  [05.4, 06.8, 07.2, 08.6, 09.2, 09.6, 10.2, 10.5, 11.0]\n",
    "    hl_mins = [40.0, 20.0, 12.0, 10.0, 10.0, 11.0, 20.0, 20.0, 20.0]\n",
    "    hl_maxs = [65.0, 72.0, 54.0, 30.0, 38.0, 50.0, 30.0, 30.0, 40.0]\n",
    "    h_raw = h_mins[opt] + (h_maxs[opt] - h_mins[opt]) * r1\n",
    "    hl_raw = hl_mins[opt] + (hl_maxs[opt] - hl_mins[opt]) * r2\n",
    "    l_raw = hl_raw/h_raw\n",
    "    b_r = 100 - hl_raw # budget remaining raw\n",
    "    f_min = b_r/15 # find given 15 tickle\n",
    "    f_min = max(1, (b_r - h_raw * f_min)/15)\n",
    "    f_min = max(1, (b_r - h_raw * f_min)/15)\n",
    "    f_max = min((b_r - 15)/h_raw, h_raw)\n",
    "    f_max = min((b_r - f_max)/h_raw, h_raw)\n",
    "    f_max = min((b_r - f_max)/h_raw, h_raw)\n",
    "    f_raw = f_min + (f_max - f_min) * r2\n",
    "    mult = sqrt(budget/100)\n",
    "    h = round(mult * h_raw)\n",
    "    f = round(mult * f_raw)\n",
    "    l = round(mult * l_raw)\n",
    "    t = trunc((budget - h*f - h*l)/f)\n",
    "    budget_sofar = h*f + h*l + f*t\n",
    "    #println((h_raw, f_raw, l_raw, hl_raw, b_r, f_min, f_max))\n",
    "    #println((h_raw, f_raw, l_raw, h, f, l, t, opt, hl_raw, budget_sofar, r1, r2, r3))\n",
    "    if (budget - budget_sofar) >= min(h, f)\n",
    "        could_add_l = (budget - budget_sofar) >= h\n",
    "        could_add_t = (budget - budget_sofar) >= f\n",
    "        if could_add_l && !could_add_t\n",
    "            l = l+trunc((budget - budget_sofar)/h)\n",
    "        end\n",
    "        if !could_add_l && could_add_t\n",
    "            t = t+trunc((budget - budget_sofar)/f)\n",
    "        end\n",
    "        if could_add_l && could_add_t\n",
    "            if fpart(lraw) > fpart(traw)\n",
    "                l = l+trunc((budget - budget_sofar)/h)\n",
    "            else\n",
    "                t = t+trunc((budget - budget_sofar)/f)\n",
    "            end\n",
    "        end\n",
    "    end\n",
    "    h = convert(Int, h)\n",
    "    f = convert(Int, f)\n",
    "    l = convert(Int, l)\n",
    "    t = convert(Int, t)\n",
    "    if flip\n",
    "        ff = Fighter(string(\"Scheme B-\", opt), f, h, t, l)\n",
    "    else\n",
    "        ff = Fighter(string(\"Scheme B+\", opt), h, f, l, t)\n",
    "    end\n",
    "    return ff\n",
    "end\n",
    "\n",
    "#evaluate_generator(random_scheme_a, 1000, 50)"
   ]
  },
  {
   "cell_type": "code",
   "execution_count": 90,
   "id": "1676fe92",
   "metadata": {},
   "outputs": [
    {
     "name": "stdout",
     "output_type": "stream",
     "text": [
      "28 54 38 34 30 "
     ]
    },
    {
     "data": {
      "text/html": [
       "<div><div style = \"float: left;\"><span>5×5 DataFrame</span></div><div style = \"clear: both;\"></div></div><div class = \"data-frame\" style = \"overflow-x: scroll;\"><table class = \"data-frame\" style = \"margin-bottom: 6px;\"><thead><tr class = \"header\"><th class = \"rowNumber\" style = \"font-weight: bold; text-align: right;\">Row</th><th style = \"text-align: left;\">name</th><th style = \"text-align: left;\">h</th><th style = \"text-align: left;\">f</th><th style = \"text-align: left;\">l</th><th style = \"text-align: left;\">t</th></tr><tr class = \"subheader headerLastRow\"><th class = \"rowNumber\" style = \"font-weight: bold; text-align: right;\"></th><th title = \"String\" style = \"text-align: left;\">String</th><th title = \"Int64\" style = \"text-align: left;\">Int64</th><th title = \"Int64\" style = \"text-align: left;\">Int64</th><th title = \"Int64\" style = \"text-align: left;\">Int64</th><th title = \"Int64\" style = \"text-align: left;\">Int64</th></tr></thead><tbody><tr><td class = \"rowNumber\" style = \"font-weight: bold; text-align: right;\">1</td><td style = \"text-align: left;\">Mouse Oonagh</td><td style = \"text-align: right;\">98</td><td style = \"text-align: right;\">53</td><td style = \"text-align: right;\">37</td><td style = \"text-align: right;\">22</td></tr><tr><td class = \"rowNumber\" style = \"font-weight: bold; text-align: right;\">2</td><td style = \"text-align: left;\">Kymoni the Ninja</td><td style = \"text-align: right;\">73</td><td style = \"text-align: right;\">65</td><td style = \"text-align: right;\">36</td><td style = \"text-align: right;\">40</td></tr><tr><td class = \"rowNumber\" style = \"font-weight: bold; text-align: right;\">3</td><td style = \"text-align: left;\">Dancing Armadillo</td><td style = \"text-align: right;\">74</td><td style = \"text-align: right;\">62</td><td style = \"text-align: right;\">44</td><td style = \"text-align: right;\">34</td></tr><tr><td class = \"rowNumber\" style = \"font-weight: bold; text-align: right;\">4</td><td style = \"text-align: left;\">Rhea the Ninja</td><td style = \"text-align: right;\">72</td><td style = \"text-align: right;\">65</td><td style = \"text-align: right;\">44</td><td style = \"text-align: right;\">33</td></tr><tr><td class = \"rowNumber\" style = \"font-weight: bold; text-align: right;\">5</td><td style = \"text-align: left;\">Zyaira the Dynamic</td><td style = \"text-align: right;\">94</td><td style = \"text-align: right;\">40</td><td style = \"text-align: right;\">57</td><td style = \"text-align: right;\">22</td></tr></tbody></table></div>"
      ],
      "text/latex": [
       "\\begin{tabular}{r|ccccc}\n",
       "\t& name & h & f & l & t\\\\\n",
       "\t\\hline\n",
       "\t& String & Int64 & Int64 & Int64 & Int64\\\\\n",
       "\t\\hline\n",
       "\t1 & Mouse Oonagh & 98 & 53 & 37 & 22 \\\\\n",
       "\t2 & Kymoni the Ninja & 73 & 65 & 36 & 40 \\\\\n",
       "\t3 & Dancing Armadillo & 74 & 62 & 44 & 34 \\\\\n",
       "\t4 & Rhea the Ninja & 72 & 65 & 44 & 33 \\\\\n",
       "\t5 & Zyaira the Dynamic & 94 & 40 & 57 & 22 \\\\\n",
       "\\end{tabular}\n"
      ],
      "text/plain": [
       "\u001b[1m5×5 DataFrame\u001b[0m\n",
       "\u001b[1m Row \u001b[0m│\u001b[1m name               \u001b[0m\u001b[1m h     \u001b[0m\u001b[1m f     \u001b[0m\u001b[1m l     \u001b[0m\u001b[1m t     \u001b[0m\n",
       "     │\u001b[90m String             \u001b[0m\u001b[90m Int64 \u001b[0m\u001b[90m Int64 \u001b[0m\u001b[90m Int64 \u001b[0m\u001b[90m Int64 \u001b[0m\n",
       "─────┼────────────────────────────────────────────────\n",
       "   1 │ Mouse Oonagh           98     53     37     22\n",
       "   2 │ Kymoni the Ninja       73     65     36     40\n",
       "   3 │ Dancing Armadillo      74     62     44     34\n",
       "   4 │ Rhea the Ninja         72     65     44     33\n",
       "   5 │ Zyaira the Dynamic     94     40     57     22"
      ]
     },
     "execution_count": 90,
     "metadata": {},
     "output_type": "execute_result"
    }
   ],
   "source": [
    "rt = random_team(() -> random_scheme_b(), 1000)\n",
    "counters = random_team(() -> pick_best_rdmly(library, rt, 25), 100)\n",
    "rt = random_team(() -> random_scheme_b(), 100)\n",
    "for f in counters[1:5]\n",
    "    v = eval_battle_list(f, rt)\n",
    "    print(v)\n",
    "    print(\" \")\n",
    "end\n",
    "fighters_to_df(counters[1:5])\n"
   ]
  },
  {
   "cell_type": "code",
   "execution_count": 91,
   "id": "a8c633db",
   "metadata": {},
   "outputs": [
    {
     "data": {
      "text/html": [
       "<div><div style = \"float: left;\"><span>15×5 DataFrame</span></div><div style = \"clear: both;\"></div></div><div class = \"data-frame\" style = \"overflow-x: scroll;\"><table class = \"data-frame\" style = \"margin-bottom: 6px;\"><thead><tr class = \"header\"><th class = \"rowNumber\" style = \"font-weight: bold; text-align: right;\">Row</th><th style = \"text-align: left;\">name</th><th style = \"text-align: left;\">h</th><th style = \"text-align: left;\">f</th><th style = \"text-align: left;\">l</th><th style = \"text-align: left;\">t</th></tr><tr class = \"subheader headerLastRow\"><th class = \"rowNumber\" style = \"font-weight: bold; text-align: right;\"></th><th title = \"String\" style = \"text-align: left;\">String</th><th title = \"Int64\" style = \"text-align: left;\">Int64</th><th title = \"Int64\" style = \"text-align: left;\">Int64</th><th title = \"Int64\" style = \"text-align: left;\">Int64</th><th title = \"Int64\" style = \"text-align: left;\">Int64</th></tr></thead><tbody><tr><td class = \"rowNumber\" style = \"font-weight: bold; text-align: right;\">1</td><td style = \"text-align: left;\">Scheme B+7</td><td style = \"text-align: right;\">97</td><td style = \"text-align: right;\">53</td><td style = \"text-align: right;\">25</td><td style = \"text-align: right;\">45</td></tr><tr><td class = \"rowNumber\" style = \"font-weight: bold; text-align: right;\">2</td><td style = \"text-align: left;\">Scheme B-5</td><td style = \"text-align: right;\">55</td><td style = \"text-align: right;\">88</td><td style = \"text-align: right;\">57</td><td style = \"text-align: right;\">23</td></tr><tr><td class = \"rowNumber\" style = \"font-weight: bold; text-align: right;\">3</td><td style = \"text-align: left;\">Scheme B+5</td><td style = \"text-align: right;\">89</td><td style = \"text-align: right;\">62</td><td style = \"text-align: right;\">38</td><td style = \"text-align: right;\">17</td></tr><tr><td class = \"rowNumber\" style = \"font-weight: bold; text-align: right;\">4</td><td style = \"text-align: left;\">Scheme B-7</td><td style = \"text-align: right;\">63</td><td style = \"text-align: right;\">97</td><td style = \"text-align: right;\">15</td><td style = \"text-align: right;\">30</td></tr><tr><td class = \"rowNumber\" style = \"font-weight: bold; text-align: right;\">5</td><td style = \"text-align: left;\">Scheme B+6</td><td style = \"text-align: right;\">95</td><td style = \"text-align: right;\">51</td><td style = \"text-align: right;\">36</td><td style = \"text-align: right;\">34</td></tr><tr><td class = \"rowNumber\" style = \"font-weight: bold; text-align: right;\">6</td><td style = \"text-align: left;\">Scheme B-1</td><td style = \"text-align: right;\">48</td><td style = \"text-align: right;\">49</td><td style = \"text-align: right;\">27</td><td style = \"text-align: right;\">129</td></tr><tr><td class = \"rowNumber\" style = \"font-weight: bold; text-align: right;\">7</td><td style = \"text-align: left;\">Scheme B+9</td><td style = \"text-align: right;\">107</td><td style = \"text-align: right;\">51</td><td style = \"text-align: right;\">37</td><td style = \"text-align: right;\">11</td></tr><tr><td class = \"rowNumber\" style = \"font-weight: bold; text-align: right;\">8</td><td style = \"text-align: left;\">Scheme B+1</td><td style = \"text-align: right;\">43</td><td style = \"text-align: right;\">35</td><td style = \"text-align: right;\">122</td><td style = \"text-align: right;\">92</td></tr><tr><td class = \"rowNumber\" style = \"font-weight: bold; text-align: right;\">9</td><td style = \"text-align: left;\">Scheme B+6</td><td style = \"text-align: right;\">92</td><td style = \"text-align: right;\">49</td><td style = \"text-align: right;\">53</td><td style = \"text-align: right;\">12</td></tr><tr><td class = \"rowNumber\" style = \"font-weight: bold; text-align: right;\">10</td><td style = \"text-align: left;\">Scheme B-8</td><td style = \"text-align: right;\">61</td><td style = \"text-align: right;\">103</td><td style = \"text-align: right;\">11</td><td style = \"text-align: right;\">29</td></tr><tr><td class = \"rowNumber\" style = \"font-weight: bold; text-align: right;\">11</td><td style = \"text-align: left;\">Scheme B-1</td><td style = \"text-align: right;\">33</td><td style = \"text-align: right;\">35</td><td style = \"text-align: right;\">80</td><td style = \"text-align: right;\">177</td></tr><tr><td class = \"rowNumber\" style = \"font-weight: bold; text-align: right;\">12</td><td style = \"text-align: left;\">Scheme B-4</td><td style = \"text-align: right;\">75</td><td style = \"text-align: right;\">81</td><td style = \"text-align: right;\">14</td><td style = \"text-align: right;\">35</td></tr><tr><td class = \"rowNumber\" style = \"font-weight: bold; text-align: right;\">13</td><td style = \"text-align: left;\">Scheme B+5</td><td style = \"text-align: right;\">87</td><td style = \"text-align: right;\">60</td><td style = \"text-align: right;\">31</td><td style = \"text-align: right;\">34</td></tr><tr><td class = \"rowNumber\" style = \"font-weight: bold; text-align: right;\">14</td><td style = \"text-align: left;\">Scheme B+2</td><td style = \"text-align: right;\">65</td><td style = \"text-align: right;\">39</td><td style = \"text-align: right;\">106</td><td style = \"text-align: right;\">14</td></tr><tr><td class = \"rowNumber\" style = \"font-weight: bold; text-align: right;\">15</td><td style = \"text-align: left;\">Scheme B-5</td><td style = \"text-align: right;\">63</td><td style = \"text-align: right;\">88</td><td style = \"text-align: right;\">10</td><td style = \"text-align: right;\">43</td></tr></tbody></table></div>"
      ],
      "text/latex": [
       "\\begin{tabular}{r|ccccc}\n",
       "\t& name & h & f & l & t\\\\\n",
       "\t\\hline\n",
       "\t& String & Int64 & Int64 & Int64 & Int64\\\\\n",
       "\t\\hline\n",
       "\t1 & Scheme B+7 & 97 & 53 & 25 & 45 \\\\\n",
       "\t2 & Scheme B-5 & 55 & 88 & 57 & 23 \\\\\n",
       "\t3 & Scheme B+5 & 89 & 62 & 38 & 17 \\\\\n",
       "\t4 & Scheme B-7 & 63 & 97 & 15 & 30 \\\\\n",
       "\t5 & Scheme B+6 & 95 & 51 & 36 & 34 \\\\\n",
       "\t6 & Scheme B-1 & 48 & 49 & 27 & 129 \\\\\n",
       "\t7 & Scheme B+9 & 107 & 51 & 37 & 11 \\\\\n",
       "\t8 & Scheme B+1 & 43 & 35 & 122 & 92 \\\\\n",
       "\t9 & Scheme B+6 & 92 & 49 & 53 & 12 \\\\\n",
       "\t10 & Scheme B-8 & 61 & 103 & 11 & 29 \\\\\n",
       "\t11 & Scheme B-1 & 33 & 35 & 80 & 177 \\\\\n",
       "\t12 & Scheme B-4 & 75 & 81 & 14 & 35 \\\\\n",
       "\t13 & Scheme B+5 & 87 & 60 & 31 & 34 \\\\\n",
       "\t14 & Scheme B+2 & 65 & 39 & 106 & 14 \\\\\n",
       "\t15 & Scheme B-5 & 63 & 88 & 10 & 43 \\\\\n",
       "\\end{tabular}\n"
      ],
      "text/plain": [
       "\u001b[1m15×5 DataFrame\u001b[0m\n",
       "\u001b[1m Row \u001b[0m│\u001b[1m name       \u001b[0m\u001b[1m h     \u001b[0m\u001b[1m f     \u001b[0m\u001b[1m l     \u001b[0m\u001b[1m t     \u001b[0m\n",
       "     │\u001b[90m String     \u001b[0m\u001b[90m Int64 \u001b[0m\u001b[90m Int64 \u001b[0m\u001b[90m Int64 \u001b[0m\u001b[90m Int64 \u001b[0m\n",
       "─────┼────────────────────────────────────────\n",
       "   1 │ Scheme B+7     97     53     25     45\n",
       "   2 │ Scheme B-5     55     88     57     23\n",
       "   3 │ Scheme B+5     89     62     38     17\n",
       "   4 │ Scheme B-7     63     97     15     30\n",
       "   5 │ Scheme B+6     95     51     36     34\n",
       "   6 │ Scheme B-1     48     49     27    129\n",
       "   7 │ Scheme B+9    107     51     37     11\n",
       "   8 │ Scheme B+1     43     35    122     92\n",
       "   9 │ Scheme B+6     92     49     53     12\n",
       "  10 │ Scheme B-8     61    103     11     29\n",
       "  11 │ Scheme B-1     33     35     80    177\n",
       "  12 │ Scheme B-4     75     81     14     35\n",
       "  13 │ Scheme B+5     87     60     31     34\n",
       "  14 │ Scheme B+2     65     39    106     14\n",
       "  15 │ Scheme B-5     63     88     10     43"
      ]
     },
     "execution_count": 91,
     "metadata": {},
     "output_type": "execute_result"
    }
   ],
   "source": [
    "rt = random_team(() -> random_scheme_b(), 100)\n",
    "fighters_to_df(rt)[1:15, :]"
   ]
  },
  {
   "cell_type": "code",
   "execution_count": null,
   "id": "00f55702",
   "metadata": {},
   "outputs": [],
   "source": []
  },
  {
   "cell_type": "code",
   "execution_count": 7,
   "id": "ec65ce1a",
   "metadata": {},
   "outputs": [
    {
     "name": "stdout",
     "output_type": "stream",
     "text": [
      "(9.825462703157513, 6.427759161751591, 3.001875108503988, 29.494811918142847, 70.50518808185716, 3.6382301653505977, 6.503955492334131)\n",
      "(9.825462703157513, 6.427759161751591, 3.001875108503988, 98.0, 64.0, 30.0, 12.0, 4, 29.494811918142847, 9980.0, 0.9127313515787565, 0.9734111535864657, 0.4060806004371126)\n",
      "(98, 64, 30, 12, 4, 9980.0, 0.9127313515787565, 0.9734111535864657, 0.4060806004371126)\n",
      "Fighter(\"Scheme B+4\", 98, 64, 30, 12)\n"
     ]
    }
   ],
   "source": [
    "budget = MXS\n",
    "h0 = MNV\n",
    "f0 = MNV\n",
    "l0 = MNV\n",
    "t0 = MNV\n",
    "\n",
    "#opt = rand(1:9)\n",
    "opt = 4\n",
    "#flip = (rand() < 0.5)\n",
    "flip = false\n",
    "r1 = rand()\n",
    "r2 = rand()^(0.3)\n",
    "r3 = rand()\n",
    "h_mins =  [04.0, 06.0, 07.0, 08.0, 10.0, 12.0, 12.5, 13.0, 13.5]\n",
    "h_maxs =  [06.0, 07.0, 08.0, 10.0, 12.0, 12.5, 13.0, 13.5, 15.0]\n",
    "hl_mins = [48.0, 50.0, 52.0, 11.0, 26.0, 20.0, 20.0, 20.0, 20.0]\n",
    "hl_maxs = [70.0, 72.0, 74.0, 30.0, 78.0, 30.0, 30.0, 30.0, 40.0]\n",
    "h_raw = h_mins[opt] + (h_maxs[opt] - h_mins[opt]) * r1\n",
    "hl_raw = hl_mins[opt] + (hl_maxs[opt] - hl_mins[opt]) * r2\n",
    "l_raw = hl_raw/h_raw\n",
    "b_r = 100 - hl_raw # budget remaining raw\n",
    "f_min = b_r/15 # find given 15 tickle\n",
    "f_min = max(1, (b_r - h_raw * f_min)/15)\n",
    "f_min = max(1, (b_r - h_raw * f_min)/15)\n",
    "f_max = min((b_r - 15)/h_raw, h_raw)\n",
    "f_max = min((b_r - f_max)/h_raw, h_raw)\n",
    "f_max = min((b_r - f_max)/h_raw, h_raw)\n",
    "f_raw = f_min + (f_max - f_min) * r2\n",
    "mult = sqrt(budget/100)\n",
    "h = round(mult * h_raw)\n",
    "f = round(mult * f_raw)\n",
    "l = round(mult * l_raw)\n",
    "t = trunc((budget - h*f - h*l)/f)\n",
    "budget_sofar = h*f + h*l + f*t\n",
    "println((h_raw, f_raw, l_raw, hl_raw, b_r, f_min, f_max))\n",
    "println((h_raw, f_raw, l_raw, h, f, l, t, opt, hl_raw, budget_sofar, r1, r2, r3))\n",
    "if (budget - budget_sofar) >= min(h, f)\n",
    "    could_add_l = (budget - budget_sofar) >= h\n",
    "    could_add_t = (budget - budget_sofar) >= f\n",
    "    if could_add_l && !could_add_t\n",
    "        l = l+trunc((budget - budget_sofar)/h)\n",
    "    end\n",
    "    if !could_add_l && could_add_t\n",
    "        t = t+trunc((budget - budget_sofar)/f)\n",
    "    end\n",
    "    if could_add_l && could_add_t\n",
    "        if fpart(lraw) > fpart(traw)\n",
    "            l = l+trunc((budget - budget_sofar)/h)\n",
    "        else\n",
    "            t = t+trunc((budget - budget_sofar)/f)\n",
    "        end\n",
    "    end\n",
    "end\n",
    "h = convert(Int, h)\n",
    "f = convert(Int, f)\n",
    "l = convert(Int, l)\n",
    "t = convert(Int, t)\n",
    "if flip\n",
    "    ff = Fighter(string(\"Scheme B-\", opt), f, h, t, l)\n",
    "else\n",
    "    ff = Fighter(string(\"Scheme B+\", opt), h, f, l, t)\n",
    "end\n",
    "return ff\n",
    "\n",
    "println((h, f, l, t, opt, budget_sofar, r1, r2, r3))\n",
    "println(ff)"
   ]
  },
  {
   "cell_type": "code",
   "execution_count": null,
   "id": "9ebc20ab",
   "metadata": {},
   "outputs": [],
   "source": []
  },
  {
   "cell_type": "markdown",
   "id": "cb04c53d",
   "metadata": {},
   "source": [
    "## Testing Random Scheme B"
   ]
  },
  {
   "cell_type": "code",
   "execution_count": 8,
   "id": "e24bf964",
   "metadata": {},
   "outputs": [
    {
     "name": "stdout",
     "output_type": "stream",
     "text": [
      "Fighter(\"Scheme B+1\", 47, 38, 120, 67)"
     ]
    },
    {
     "data": {
      "text/plain": [
       "9972"
      ]
     },
     "execution_count": 8,
     "metadata": {},
     "output_type": "execute_result"
    }
   ],
   "source": [
    "f = random_scheme_b()\n",
    "print(f)\n",
    "f.h * f.f + f.h * f.l + f.f * f.t"
   ]
  },
  {
   "cell_type": "code",
   "execution_count": 9,
   "id": "3a1b7f74",
   "metadata": {},
   "outputs": [
    {
     "data": {
      "text/html": [
       "<div><div style = \"float: left;\"><span>10×5 DataFrame</span></div><div style = \"clear: both;\"></div></div><div class = \"data-frame\" style = \"overflow-x: scroll;\"><table class = \"data-frame\" style = \"margin-bottom: 6px;\"><thead><tr class = \"header\"><th class = \"rowNumber\" style = \"font-weight: bold; text-align: right;\">Row</th><th style = \"text-align: left;\">name</th><th style = \"text-align: left;\">h</th><th style = \"text-align: left;\">f</th><th style = \"text-align: left;\">l</th><th style = \"text-align: left;\">t</th></tr><tr class = \"subheader headerLastRow\"><th class = \"rowNumber\" style = \"font-weight: bold; text-align: right;\"></th><th title = \"String\" style = \"text-align: left;\">String</th><th title = \"Int64\" style = \"text-align: left;\">Int64</th><th title = \"Int64\" style = \"text-align: left;\">Int64</th><th title = \"Int64\" style = \"text-align: left;\">Int64</th><th title = \"Int64\" style = \"text-align: left;\">Int64</th></tr></thead><tbody><tr><td class = \"rowNumber\" style = \"font-weight: bold; text-align: right;\">1</td><td style = \"text-align: left;\">Scheme B+1</td><td style = \"text-align: right;\">56</td><td style = \"text-align: right;\">52</td><td style = \"text-align: right;\">113</td><td style = \"text-align: right;\">14</td></tr><tr><td class = \"rowNumber\" style = \"font-weight: bold; text-align: right;\">2</td><td style = \"text-align: left;\">Scheme B+9</td><td style = \"text-align: right;\">137</td><td style = \"text-align: right;\">42</td><td style = \"text-align: right;\">25</td><td style = \"text-align: right;\">19</td></tr><tr><td class = \"rowNumber\" style = \"font-weight: bold; text-align: right;\">3</td><td style = \"text-align: left;\">Scheme B-8</td><td style = \"text-align: right;\">55</td><td style = \"text-align: right;\">115</td><td style = \"text-align: right;\">12</td><td style = \"text-align: right;\">26</td></tr><tr><td class = \"rowNumber\" style = \"font-weight: bold; text-align: right;\">4</td><td style = \"text-align: left;\">Scheme B-7</td><td style = \"text-align: right;\">59</td><td style = \"text-align: right;\">96</td><td style = \"text-align: right;\">27</td><td style = \"text-align: right;\">28</td></tr><tr><td class = \"rowNumber\" style = \"font-weight: bold; text-align: right;\">5</td><td style = \"text-align: left;\">Scheme B+3</td><td style = \"text-align: right;\">72</td><td style = \"text-align: right;\">58</td><td style = \"text-align: right;\">68</td><td style = \"text-align: right;\">16</td></tr><tr><td class = \"rowNumber\" style = \"font-weight: bold; text-align: right;\">6</td><td style = \"text-align: left;\">Scheme B+9</td><td style = \"text-align: right;\">139</td><td style = \"text-align: right;\">41</td><td style = \"text-align: right;\">24</td><td style = \"text-align: right;\">23</td></tr><tr><td class = \"rowNumber\" style = \"font-weight: bold; text-align: right;\">7</td><td style = \"text-align: left;\">Scheme B-1</td><td style = \"text-align: right;\">48</td><td style = \"text-align: right;\">53</td><td style = \"text-align: right;\">27</td><td style = \"text-align: right;\">116</td></tr><tr><td class = \"rowNumber\" style = \"font-weight: bold; text-align: right;\">8</td><td style = \"text-align: left;\">Scheme B+2</td><td style = \"text-align: right;\">64</td><td style = \"text-align: right;\">41</td><td style = \"text-align: right;\">105</td><td style = \"text-align: right;\">16</td></tr><tr><td class = \"rowNumber\" style = \"font-weight: bold; text-align: right;\">9</td><td style = \"text-align: left;\">Scheme B+5</td><td style = \"text-align: right;\">87</td><td style = \"text-align: right;\">60</td><td style = \"text-align: right;\">30</td><td style = \"text-align: right;\">36</td></tr><tr><td class = \"rowNumber\" style = \"font-weight: bold; text-align: right;\">10</td><td style = \"text-align: left;\">Scheme B-7</td><td style = \"text-align: right;\">61</td><td style = \"text-align: right;\">97</td><td style = \"text-align: right;\">20</td><td style = \"text-align: right;\">29</td></tr></tbody></table></div>"
      ],
      "text/latex": [
       "\\begin{tabular}{r|ccccc}\n",
       "\t& name & h & f & l & t\\\\\n",
       "\t\\hline\n",
       "\t& String & Int64 & Int64 & Int64 & Int64\\\\\n",
       "\t\\hline\n",
       "\t1 & Scheme B+1 & 56 & 52 & 113 & 14 \\\\\n",
       "\t2 & Scheme B+9 & 137 & 42 & 25 & 19 \\\\\n",
       "\t3 & Scheme B-8 & 55 & 115 & 12 & 26 \\\\\n",
       "\t4 & Scheme B-7 & 59 & 96 & 27 & 28 \\\\\n",
       "\t5 & Scheme B+3 & 72 & 58 & 68 & 16 \\\\\n",
       "\t6 & Scheme B+9 & 139 & 41 & 24 & 23 \\\\\n",
       "\t7 & Scheme B-1 & 48 & 53 & 27 & 116 \\\\\n",
       "\t8 & Scheme B+2 & 64 & 41 & 105 & 16 \\\\\n",
       "\t9 & Scheme B+5 & 87 & 60 & 30 & 36 \\\\\n",
       "\t10 & Scheme B-7 & 61 & 97 & 20 & 29 \\\\\n",
       "\\end{tabular}\n"
      ],
      "text/plain": [
       "\u001b[1m10×5 DataFrame\u001b[0m\n",
       "\u001b[1m Row \u001b[0m│\u001b[1m name       \u001b[0m\u001b[1m h     \u001b[0m\u001b[1m f     \u001b[0m\u001b[1m l     \u001b[0m\u001b[1m t     \u001b[0m\n",
       "     │\u001b[90m String     \u001b[0m\u001b[90m Int64 \u001b[0m\u001b[90m Int64 \u001b[0m\u001b[90m Int64 \u001b[0m\u001b[90m Int64 \u001b[0m\n",
       "─────┼────────────────────────────────────────\n",
       "   1 │ Scheme B+1     56     52    113     14\n",
       "   2 │ Scheme B+9    137     42     25     19\n",
       "   3 │ Scheme B-8     55    115     12     26\n",
       "   4 │ Scheme B-7     59     96     27     28\n",
       "   5 │ Scheme B+3     72     58     68     16\n",
       "   6 │ Scheme B+9    139     41     24     23\n",
       "   7 │ Scheme B-1     48     53     27    116\n",
       "   8 │ Scheme B+2     64     41    105     16\n",
       "   9 │ Scheme B+5     87     60     30     36\n",
       "  10 │ Scheme B-7     61     97     20     29"
      ]
     },
     "execution_count": 9,
     "metadata": {},
     "output_type": "execute_result"
    }
   ],
   "source": [
    "rt = random_team(() -> random_scheme_b(), 1000)\n",
    "fighters_to_df(rt)[1:10, :]"
   ]
  },
  {
   "cell_type": "code",
   "execution_count": 10,
   "id": "8ceea0f3",
   "metadata": {},
   "outputs": [
    {
     "data": {
      "text/html": [
       "<div><div style = \"float: left;\"><span>10×5 DataFrame</span></div><div style = \"clear: both;\"></div></div><div class = \"data-frame\" style = \"overflow-x: scroll;\"><table class = \"data-frame\" style = \"margin-bottom: 6px;\"><thead><tr class = \"header\"><th class = \"rowNumber\" style = \"font-weight: bold; text-align: right;\">Row</th><th style = \"text-align: left;\">name</th><th style = \"text-align: left;\">h</th><th style = \"text-align: left;\">f</th><th style = \"text-align: left;\">l</th><th style = \"text-align: left;\">t</th></tr><tr class = \"subheader headerLastRow\"><th class = \"rowNumber\" style = \"font-weight: bold; text-align: right;\"></th><th title = \"String\" style = \"text-align: left;\">String</th><th title = \"Int64\" style = \"text-align: left;\">Int64</th><th title = \"Int64\" style = \"text-align: left;\">Int64</th><th title = \"Int64\" style = \"text-align: left;\">Int64</th><th title = \"Int64\" style = \"text-align: left;\">Int64</th></tr></thead><tbody><tr><td class = \"rowNumber\" style = \"font-weight: bold; text-align: right;\">1</td><td style = \"text-align: left;\">Monkey Emmaleigh</td><td style = \"text-align: right;\">72</td><td style = \"text-align: right;\">67</td><td style = \"text-align: right;\">32</td><td style = \"text-align: right;\">42</td></tr><tr><td class = \"rowNumber\" style = \"font-weight: bold; text-align: right;\">2</td><td style = \"text-align: left;\">Sekani the Cricket</td><td style = \"text-align: right;\">97</td><td style = \"text-align: right;\">25</td><td style = \"text-align: right;\">72</td><td style = \"text-align: right;\">23</td></tr><tr><td class = \"rowNumber\" style = \"font-weight: bold; text-align: right;\">3</td><td style = \"text-align: left;\">Maliek the Blimp</td><td style = \"text-align: right;\">97</td><td style = \"text-align: right;\">20</td><td style = \"text-align: right;\">78</td><td style = \"text-align: right;\">24</td></tr><tr><td class = \"rowNumber\" style = \"font-weight: bold; text-align: right;\">4</td><td style = \"text-align: left;\">Asah the Blueberry</td><td style = \"text-align: right;\">89</td><td style = \"text-align: right;\">54</td><td style = \"text-align: right;\">39</td><td style = \"text-align: right;\">31</td></tr><tr><td class = \"rowNumber\" style = \"font-weight: bold; text-align: right;\">5</td><td style = \"text-align: left;\">Ninja Eleana</td><td style = \"text-align: right;\">68</td><td style = \"text-align: right;\">75</td><td style = \"text-align: right;\">33</td><td style = \"text-align: right;\">35</td></tr><tr><td class = \"rowNumber\" style = \"font-weight: bold; text-align: right;\">6</td><td style = \"text-align: left;\">Mouse Righteous</td><td style = \"text-align: right;\">56</td><td style = \"text-align: right;\">89</td><td style = \"text-align: right;\">14</td><td style = \"text-align: right;\">47</td></tr><tr><td class = \"rowNumber\" style = \"font-weight: bold; text-align: right;\">7</td><td style = \"text-align: left;\">Aavyaan the Flirtatious</td><td style = \"text-align: right;\">99</td><td style = \"text-align: right;\">54</td><td style = \"text-align: right;\">39</td><td style = \"text-align: right;\">14</td></tr><tr><td class = \"rowNumber\" style = \"font-weight: bold; text-align: right;\">8</td><td style = \"text-align: left;\">Wally the Engineer</td><td style = \"text-align: right;\">10</td><td style = \"text-align: right;\">88</td><td style = \"text-align: right;\">32</td><td style = \"text-align: right;\">100</td></tr><tr><td class = \"rowNumber\" style = \"font-weight: bold; text-align: right;\">9</td><td style = \"text-align: left;\">Fish Sena</td><td style = \"text-align: right;\">75</td><td style = \"text-align: right;\">60</td><td style = \"text-align: right;\">47</td><td style = \"text-align: right;\">32</td></tr><tr><td class = \"rowNumber\" style = \"font-weight: bold; text-align: right;\">10</td><td style = \"text-align: left;\">Flirtatious Rascal</td><td style = \"text-align: right;\">93</td><td style = \"text-align: right;\">15</td><td style = \"text-align: right;\">85</td><td style = \"text-align: right;\">46</td></tr></tbody></table></div>"
      ],
      "text/latex": [
       "\\begin{tabular}{r|ccccc}\n",
       "\t& name & h & f & l & t\\\\\n",
       "\t\\hline\n",
       "\t& String & Int64 & Int64 & Int64 & Int64\\\\\n",
       "\t\\hline\n",
       "\t1 & Monkey Emmaleigh & 72 & 67 & 32 & 42 \\\\\n",
       "\t2 & Sekani the Cricket & 97 & 25 & 72 & 23 \\\\\n",
       "\t3 & Maliek the Blimp & 97 & 20 & 78 & 24 \\\\\n",
       "\t4 & Asah the Blueberry & 89 & 54 & 39 & 31 \\\\\n",
       "\t5 & Ninja Eleana & 68 & 75 & 33 & 35 \\\\\n",
       "\t6 & Mouse Righteous & 56 & 89 & 14 & 47 \\\\\n",
       "\t7 & Aavyaan the Flirtatious & 99 & 54 & 39 & 14 \\\\\n",
       "\t8 & Wally the Engineer & 10 & 88 & 32 & 100 \\\\\n",
       "\t9 & Fish Sena & 75 & 60 & 47 & 32 \\\\\n",
       "\t10 & Flirtatious Rascal & 93 & 15 & 85 & 46 \\\\\n",
       "\\end{tabular}\n"
      ],
      "text/plain": [
       "\u001b[1m10×5 DataFrame\u001b[0m\n",
       "\u001b[1m Row \u001b[0m│\u001b[1m name                    \u001b[0m\u001b[1m h     \u001b[0m\u001b[1m f     \u001b[0m\u001b[1m l     \u001b[0m\u001b[1m t     \u001b[0m\n",
       "     │\u001b[90m String                  \u001b[0m\u001b[90m Int64 \u001b[0m\u001b[90m Int64 \u001b[0m\u001b[90m Int64 \u001b[0m\u001b[90m Int64 \u001b[0m\n",
       "─────┼─────────────────────────────────────────────────────\n",
       "   1 │ Monkey Emmaleigh            72     67     32     42\n",
       "   2 │ Sekani the Cricket          97     25     72     23\n",
       "   3 │ Maliek the Blimp            97     20     78     24\n",
       "   4 │ Asah the Blueberry          89     54     39     31\n",
       "   5 │ Ninja Eleana                68     75     33     35\n",
       "   6 │ Mouse Righteous             56     89     14     47\n",
       "   7 │ Aavyaan the Flirtatious     99     54     39     14\n",
       "   8 │ Wally the Engineer          10     88     32    100\n",
       "   9 │ Fish Sena                   75     60     47     32\n",
       "  10 │ Flirtatious Rascal          93     15     85     46"
      ]
     },
     "execution_count": 10,
     "metadata": {},
     "output_type": "execute_result"
    }
   ],
   "source": [
    "counters = random_team(() -> pick_best_rdmly(library, rt, 25), 100)\n",
    "fighters_to_df(counters)[1:10, :]"
   ]
  },
  {
   "cell_type": "code",
   "execution_count": 11,
   "id": "44cca9f3",
   "metadata": {},
   "outputs": [
    {
     "data": {
      "text/plain": [
       "0"
      ]
     },
     "execution_count": 11,
     "metadata": {},
     "output_type": "execute_result"
    }
   ],
   "source": [
    "rt = random_team(() -> random_scheme_b(), 100)\n",
    "0"
   ]
  },
  {
   "cell_type": "code",
   "execution_count": 12,
   "id": "f14597f2",
   "metadata": {},
   "outputs": [
    {
     "name": "stdout",
     "output_type": "stream",
     "text": [
      "Fighter(\"Monkey Emmaleigh\", 72, 67, 32, 42)\n",
      "58\n",
      "Fighter(\"Sekani the Cricket\", 97, 25, 72, 23)\n",
      "42\n",
      "Fighter(\"Maliek the Blimp\", 97, 20, 78, 24)\n",
      "46\n",
      "Fighter(\"Asah the Blueberry\", 89, 54, 39, 31)\n",
      "36\n",
      "Fighter(\"Ninja Eleana\", 68, 75, 33, 35)\n",
      "56\n",
      "Fighter(\"Aavyaan the Flirtatious\", 99, 54, 39, 14)\n",
      "44\n",
      "Fighter(\"Wally the Engineer\", 10, 88, 32, 100)\n",
      "42\n",
      "Fighter(\"Fish Sena\", 75, 60, 47, 32)\n",
      "44\n",
      "Fighter(\"Flirtatious Rascal\", 93, 15, 85, 46)\n",
      "40\n",
      "Fighter(\"Goldfish Journeigh\", 100, 12, 84, 33)\n",
      "58\n",
      "Fighter(\"Ancient Balloon\", 49, 99, 24, 40)\n",
      "42\n",
      "Fighter(\"Fiery Doctor\", 20, 95, 44, 76)\n",
      "42\n",
      "Fighter(\"Krysten the Sassy\", 65, 68, 49, 35)\n",
      "46\n",
      "Fighter(\"Liev the Laptop\", 66, 76, 36, 34)\n",
      "56\n",
      "Fighter(\"Israfil the Xylophone\", 16, 98, 67, 75)\n",
      "54\n",
      "Fighter(\"Sheltering Graylen\", 73, 63, 44, 34)\n",
      "54\n",
      "Fighter(\"Amonte the Ladder\", 22, 97, 40, 72)\n",
      "38\n",
      "Fighter(\"Massive Doorman\", 34, 93, 12, 69)\n",
      "32\n",
      "Fighter(\"Ramsi the Fish\", 100, 32, 62, 18)\n",
      "46\n"
     ]
    }
   ],
   "source": [
    "for f in counters[1:20]\n",
    "    v = eval_battle_list(f, rt)\n",
    "    if v > 30\n",
    "        println(f)\n",
    "        println(v)\n",
    "    end\n",
    "end"
   ]
  },
  {
   "cell_type": "code",
   "execution_count": 13,
   "id": "dbd44c87",
   "metadata": {
    "scrolled": false
   },
   "outputs": [],
   "source": [
    "for f in rt[1:20]\n",
    "    v = eval_battle_list(f, counters)\n",
    "    if v < -80\n",
    "        println(f)\n",
    "        println(v)\n",
    "    end\n",
    "end"
   ]
  },
  {
   "cell_type": "code",
   "execution_count": 14,
   "id": "9bd1e936",
   "metadata": {},
   "outputs": [],
   "source": [
    "for f in rt\n",
    "    v = eval_battle_list(f, counters)\n",
    "    if v > 50\n",
    "        println(f)\n",
    "        println(v)\n",
    "    end\n",
    "end"
   ]
  },
  {
   "cell_type": "code",
   "execution_count": 15,
   "id": "ee86de44",
   "metadata": {},
   "outputs": [
    {
     "data": {
      "text/plain": [
       "-0.7300000000000001"
      ]
     },
     "execution_count": 15,
     "metadata": {},
     "output_type": "execute_result"
    }
   ],
   "source": [
    "evaluate_generator(random_scheme_b, 100, 20)"
   ]
  },
  {
   "cell_type": "code",
   "execution_count": 16,
   "id": "3358f0e4",
   "metadata": {
    "scrolled": true
   },
   "outputs": [
    {
     "data": {
      "text/plain": [
       "-0.8600000000000001"
      ]
     },
     "execution_count": 16,
     "metadata": {},
     "output_type": "execute_result"
    }
   ],
   "source": [
    "evaluate_generator(random_fighter, 100, 20)"
   ]
  },
  {
   "cell_type": "code",
   "execution_count": 17,
   "id": "cb9a9f36",
   "metadata": {},
   "outputs": [
    {
     "data": {
      "text/plain": [
       "-0.8619999999999999"
      ]
     },
     "execution_count": 17,
     "metadata": {},
     "output_type": "execute_result"
    }
   ],
   "source": [
    "evaluate_generator(() -> random_tournament_winner(1), 100, 20)"
   ]
  },
  {
   "cell_type": "code",
   "execution_count": 18,
   "id": "1c34a0bb",
   "metadata": {},
   "outputs": [
    {
     "data": {
      "text/plain": [
       "-0.8370000000000001"
      ]
     },
     "execution_count": 18,
     "metadata": {},
     "output_type": "execute_result"
    }
   ],
   "source": [
    "evaluate_generator(() -> random_tournament_winner(2), 100, 20)"
   ]
  },
  {
   "cell_type": "code",
   "execution_count": 19,
   "id": "ce7d4c91",
   "metadata": {},
   "outputs": [
    {
     "data": {
      "text/plain": [
       "-0.808"
      ]
     },
     "execution_count": 19,
     "metadata": {},
     "output_type": "execute_result"
    }
   ],
   "source": [
    "evaluate_generator(() -> random_tournament_winner(3), 100, 20)"
   ]
  },
  {
   "cell_type": "code",
   "execution_count": 20,
   "id": "a1349341",
   "metadata": {},
   "outputs": [
    {
     "data": {
      "text/plain": [
       "-0.7930000000000001"
      ]
     },
     "execution_count": 20,
     "metadata": {},
     "output_type": "execute_result"
    }
   ],
   "source": [
    "evaluate_generator(() -> random_tournament_winner(4), 100, 20)"
   ]
  },
  {
   "cell_type": "markdown",
   "id": "49ae82ed",
   "metadata": {},
   "source": [
    "## Team battles"
   ]
  },
  {
   "cell_type": "code",
   "execution_count": 21,
   "id": "bec40c43",
   "metadata": {},
   "outputs": [
    {
     "data": {
      "text/plain": [
       "100-element Vector{Fighter}:\n",
       " Fighter(\"Ingenious Yak\", 67, 55, 69, 30)\n",
       " Fighter(\"Superficial Lion\", 44, 71, 43, 70)\n",
       " Fighter(\"Snake Kathryne\", 90, 78, 24, 10)\n",
       " Fighter(\"Legaci the Pig\", 39, 83, 15, 74)\n",
       " Fighter(\"Cricket Emyrson\", 66, 68, 67, 16)\n",
       " Fighter(\"Kasai the Urchin\", 21, 93, 51, 75)\n",
       " Fighter(\"Kooky Cobbler\", 66, 35, 67, 93)\n",
       " Fighter(\"Lion Malayjah\", 56, 43, 62, 95)\n",
       " Fighter(\"Tiger Greysen\", 52, 63, 34, 78)\n",
       " Fighter(\"Dalasia the Zany\", 60, 94, 14, 37)\n",
       " Fighter(\"Wallet Angelino\", 93, 32, 70, 16)\n",
       " Fighter(\"Yoyo Luxanna\", 85, 37, 41, 91)\n",
       " Fighter(\"Yarizel the Duck\", 63, 31, 93, 70)\n",
       " ⋮\n",
       " Fighter(\"Kiran the Ninja\", 84, 78, 31, 10)\n",
       " Fighter(\"Aera the Pteranodon\", 94, 29, 47, 98)\n",
       " Fighter(\"Itinerant Iridessa\", 85, 48, 32, 66)\n",
       " Fighter(\"Jagger the Strawberry\", 74, 33, 93, 20)\n",
       " Fighter(\"Young Commander\", 86, 60, 49, 10)\n",
       " Fighter(\"Marmot Iyanuoluwa\", 98, 38, 42, 56)\n",
       " Fighter(\"Marmot Peneloperose\", 62, 31, 98, 64)\n",
       " Fighter(\"Boisterous Mantis\", 54, 81, 27, 51)\n",
       " Fighter(\"Zyliah the Mushroom\", 98, 35, 32, 98)\n",
       " Fighter(\"Zipper Kaio\", 79, 45, 52, 51)\n",
       " Fighter(\"Dangerous Wizard\", 59, 81, 25, 46)\n",
       " Fighter(\"Elegant Zebra\", 88, 33, 64, 44)"
      ]
     },
     "execution_count": 21,
     "metadata": {},
     "output_type": "execute_result"
    }
   ],
   "source": [
    "team_a = random_team(() -> rand_rename(random_scheme_b()), 100)\n",
    "team_r0 = random_team(() -> rand_rename(random_tournament_winner(0)), 100)\n",
    "team_r1 = random_team(() -> rand_rename(random_tournament_winner(1)), 100)\n",
    "team_r2 = random_team(() -> rand_rename(random_tournament_winner(2)), 100)\n"
   ]
  },
  {
   "cell_type": "code",
   "execution_count": 22,
   "id": "fa1e5468",
   "metadata": {},
   "outputs": [
    {
     "data": {
      "text/plain": [
       "-1"
      ]
     },
     "execution_count": 22,
     "metadata": {},
     "output_type": "execute_result"
    }
   ],
   "source": [
    "eval_team_battle(team_a, counters)"
   ]
  },
  {
   "cell_type": "code",
   "execution_count": 23,
   "id": "984218a2",
   "metadata": {},
   "outputs": [
    {
     "data": {
      "text/plain": [
       "-1"
      ]
     },
     "execution_count": 23,
     "metadata": {},
     "output_type": "execute_result"
    }
   ],
   "source": [
    "eval_team_battle(team_a, team_r0)"
   ]
  },
  {
   "cell_type": "code",
   "execution_count": 24,
   "id": "aa047859",
   "metadata": {},
   "outputs": [
    {
     "data": {
      "text/plain": [
       "-1"
      ]
     },
     "execution_count": 24,
     "metadata": {},
     "output_type": "execute_result"
    }
   ],
   "source": [
    "eval_team_battle(team_a, team_r1)"
   ]
  },
  {
   "cell_type": "code",
   "execution_count": 25,
   "id": "8ccc5e06",
   "metadata": {},
   "outputs": [
    {
     "data": {
      "text/plain": [
       "-1"
      ]
     },
     "execution_count": 25,
     "metadata": {},
     "output_type": "execute_result"
    }
   ],
   "source": [
    "eval_team_battle(team_a, team_r2)"
   ]
  },
  {
   "cell_type": "code",
   "execution_count": 26,
   "id": "258bba9d",
   "metadata": {},
   "outputs": [
    {
     "data": {
      "text/plain": [
       "1"
      ]
     },
     "execution_count": 26,
     "metadata": {},
     "output_type": "execute_result"
    }
   ],
   "source": [
    "eval_team_battle(team_r0, team_a)"
   ]
  },
  {
   "cell_type": "code",
   "execution_count": 27,
   "id": "c2cfc07c",
   "metadata": {},
   "outputs": [
    {
     "data": {
      "text/plain": [
       "1"
      ]
     },
     "execution_count": 27,
     "metadata": {},
     "output_type": "execute_result"
    }
   ],
   "source": [
    "eval_team_battle(team_r0, team_r1)"
   ]
  },
  {
   "cell_type": "code",
   "execution_count": 28,
   "id": "cea97a8d",
   "metadata": {},
   "outputs": [
    {
     "data": {
      "text/plain": [
       "-1"
      ]
     },
     "execution_count": 28,
     "metadata": {},
     "output_type": "execute_result"
    }
   ],
   "source": [
    "eval_team_battle(team_r0, team_r2)"
   ]
  },
  {
   "cell_type": "code",
   "execution_count": 29,
   "id": "55c01f57",
   "metadata": {
    "scrolled": false
   },
   "outputs": [
    {
     "name": "stdout",
     "output_type": "stream",
     "text": [
      "         Fighter(\"Umbrella Livienne\", 95, 61, 31, 20)\n",
      "         Fighter(\"Ninja Quintus\", 89, 61, 35, 23)\n",
      "Umbrella Livienne lost against Ninja Quintus\n",
      "         Fighter(\"Crystal Warthog\", 15, 85, 83, 88)\n",
      "Crystal Warthog lost against Ninja Quintus\n",
      "         Fighter(\"Neurotic Archer\", 58, 66, 37, 61)\n",
      "Neurotic Archer lost against Ninja Quintus\n",
      "         Fighter(\"Gentle Butler\", 72, 94, 21, 18)\n",
      "Gentle Butler won against Ninja Quintus\n",
      "         Fighter(\"Deen the Nerdy\", 94, 66, 30, 14)\n",
      "Gentle Butler won against Deen the Nerdy\n",
      "         Fighter(\"Fish Matthan\", 94, 59, 22, 40)\n",
      "Gentle Butler won against Fish Matthan\n",
      "         Fighter(\"Helicopter Ariabella\", 55, 78, 24, 56)\n",
      "Gentle Butler lost against Helicopter Ariabella\n",
      "         Fighter(\"Shovel Torin\", 43, 65, 57, 73)\n",
      "Shovel Torin won against Helicopter Ariabella\n",
      "         Fighter(\"Primordial Quilt\", 136, 41, 29, 11)\n",
      "Shovel Torin won against Primordial Quilt\n",
      "         Fighter(\"Calm Sphere\", 68, 85, 25, 29)\n",
      "Shovel Torin lost against Calm Sphere\n",
      "         Fighter(\"Zhion the Sheltering\", 75, 64, 25, 51)\n",
      "Zhion the Sheltering lost against Calm Sphere\n",
      "         Fighter(\"Superficial Rhino\", 37, 66, 49, 87)\n",
      "Superficial Rhino lost against Calm Sphere\n",
      "         Fighter(\"Nutritious Wilfred\", 63, 38, 78, 70)\n",
      "Nutritious Wilfred lost against Calm Sphere\n",
      "         Fighter(\"Accurate Car\", 86, 67, 20, 37)\n",
      "Accurate Car lost against Calm Sphere\n",
      "         Fighter(\"Sreshta the Sphere\", 57, 38, 83, 81)\n",
      "Sreshta the Sphere lost against Calm Sphere\n",
      "         Fighter(\"Alexia the Primordial\", 74, 48, 49, 58)\n",
      "Alexia the Primordial lost against Calm Sphere\n",
      "         Fighter(\"Currency the Phoenix\", 54, 34, 90, 97)\n",
      "Currency the Phoenix lost against Calm Sphere\n",
      "         Fighter(\"Knotty Shovel\", 54, 95, 30, 34)\n",
      "Knotty Shovel won against Calm Sphere\n",
      "         Fighter(\"Snake Kaysha\", 93, 64, 28, 22)\n",
      "Knotty Shovel won against Snake Kaysha\n",
      "         Fighter(\"Gwenevieve the Nerdy\", 63, 87, 19, 38)\n",
      "Knotty Shovel lost against Gwenevieve the Nerdy\n",
      "         Fighter(\"Tatem the Superficial\", 31, 78, 86, 63)\n",
      "Tatem the Superficial won against Gwenevieve the Nerdy\n",
      "         Fighter(\"Scorpion Leviah\", 66, 91, 19, 30)\n",
      "Tatem the Superficial won against Scorpion Leviah\n",
      "         Fighter(\"Archer Nardos\", 46, 64, 53, 72)\n",
      "Tatem the Superficial lost against Archer Nardos\n",
      "         Fighter(\"Scorpion Serafina\", 71, 85, 24, 26)\n",
      "Scorpion Serafina won against Archer Nardos\n",
      "         Fighter(\"Potassium Zookeeper\", 60, 97, 24, 28)\n",
      "Scorpion Serafina lost against Potassium Zookeeper\n",
      "         Fighter(\"Alvi the Spider\", 70, 90, 22, 24)\n",
      "Alvi the Spider lost against Potassium Zookeeper\n",
      "         Fighter(\"Samurai Aubryanna\", 24, 71, 67, 94)\n",
      "Samurai Aubryanna won against Potassium Zookeeper\n",
      "         Fighter(\"Cube Christina\", 42, 49, 49, 120)\n",
      "Samurai Aubryanna lost against Cube Christina\n",
      "         Fighter(\"Cobbler Christia\", 52, 65, 83, 35)\n",
      "Cobbler Christia won against Cube Christina\n",
      "         Fighter(\"Nerdy Kimo\", 41, 138, 15, 27)\n",
      "Cobbler Christia won against Nerdy Kimo\n",
      "         Fighter(\"Usman the Merciful\", 71, 57, 75, 11)\n",
      "Cobbler Christia lost against Usman the Merciful\n",
      "         Fighter(\"Alicja the Blind\", 59, 32, 86, 94)\n",
      "Alicja the Blind won against Usman the Merciful\n",
      "         Fighter(\"Elegant Aadav\", 61, 86, 32, 32)\n",
      "Alicja the Blind lost against Elegant Aadav\n",
      "         Fighter(\"Tyro Ameri\", 73, 35, 87, 31)\n",
      "Tyro Ameri lost against Elegant Aadav\n",
      "         Fighter(\"Gentle Bethlehem\", 100, 71, 18, 15)\n",
      "Gentle Bethlehem won against Elegant Aadav\n",
      "         Fighter(\"Aashrith the Cheetah\", 87, 61, 34, 28)\n",
      "Gentle Bethlehem lost against Aashrith the Cheetah\n",
      "         Fighter(\"Nutritious Aleska\", 65, 61, 62, 32)\n",
      "Nutritious Aleska won against Aashrith the Cheetah\n",
      "         Fighter(\"Elegant Sarkis\", 57, 52, 111, 13)\n",
      "Nutritious Aleska won against Elegant Sarkis\n",
      "         Fighter(\"Flirtatious Lamp\", 41, 139, 13, 27)\n",
      "Nutritious Aleska won against Flirtatious Lamp\n",
      "         Fighter(\"Khoi the Eel\", 42, 61, 14, 112)\n",
      "Nutritious Aleska won against Khoi the Eel\n",
      "         Fighter(\"Rogue Tanna\", 139, 41, 27, 13)\n",
      "Nutritious Aleska won against Rogue Tanna\n",
      "         Fighter(\"Zeki the Hammer\", 42, 64, 17, 103)\n",
      "Nutritious Aleska won against Zeki the Hammer\n",
      "         Fighter(\"Yellow Pig\", 72, 85, 14, 33)\n",
      "Nutritious Aleska lost against Yellow Pig\n",
      "         Fighter(\"Dorrian the Nutritious\", 47, 84, 80, 27)\n",
      "Dorrian the Nutritious lost against Yellow Pig\n",
      "         Fighter(\"Xact Vampire\", 79, 82, 20, 23)\n",
      "Xact Vampire lost against Yellow Pig\n",
      "         Fighter(\"Luminous Jacket\", 45, 87, 88, 24)\n",
      "Luminous Jacket lost against Yellow Pig\n",
      "         Fighter(\"Scorpion Jahsir\", 67, 72, 33, 41)\n",
      "Scorpion Jahsir won against Yellow Pig\n",
      "         Fighter(\"Daesyn the Lawyer\", 50, 126, 18, 22)\n",
      "Scorpion Jahsir won against Daesyn the Lawyer\n",
      "         Fighter(\"Armadillo Kethan\", 89, 63, 42, 10)\n",
      "Scorpion Jahsir lost against Armadillo Kethan\n",
      "         Fighter(\"Melodious Train\", 67, 25, 95, 78)\n",
      "Melodious Train won against Armadillo Kethan\n",
      "         Fighter(\"Dangerous Mantis\", 52, 67, 55, 54)\n",
      "Melodious Train lost against Dangerous Mantis\n",
      "         Fighter(\"Jumpy Dodecahedron\", 96, 40, 31, 79)\n",
      "Jumpy Dodecahedron lost against Dangerous Mantis\n",
      "         Fighter(\"Braelin the Quiet\", 82, 75, 21, 28)\n",
      "Braelin the Quiet won against Dangerous Mantis\n",
      "         Fighter(\"Ninja Mali\", 75, 81, 14, 35)\n",
      "Braelin the Quiet won against Ninja Mali\n",
      "         Fighter(\"Agile Greer\", 95, 65, 30, 15)\n",
      "Braelin the Quiet lost against Agile Greer\n",
      "         Fighter(\"Stegosaurus Rian\", 72, 35, 58, 94)\n",
      "Stegosaurus Rian won against Agile Greer\n",
      "         Fighter(\"Arieli the Armadillo\", 136, 41, 29, 11)\n",
      "Stegosaurus Rian won against Arieli the Armadillo\n",
      "         Fighter(\"Tavish the Butler\", 70, 84, 21, 31)\n",
      "Stegosaurus Rian lost against Tavish the Butler\n",
      "         Fighter(\"Umpire Avian\", 30, 95, 42, 62)\n",
      "Umpire Avian won against Tavish the Butler\n",
      "         Fighter(\"Kyri the Manta\", 44, 44, 36, 147)\n",
      "Umpire Avian lost against Kyri the Manta\n",
      "         Fighter(\"Blimp Knoxli\", 81, 51, 58, 22)\n",
      "Blimp Knoxli won against Kyri the Manta\n",
      "         Fighter(\"Joy the Mushroom\", 100, 51, 24, 49)\n",
      "Blimp Knoxli won against Joy the Mushroom\n",
      "         Fighter(\"Coder Yiyi\", 91, 69, 33, 10)\n",
      "Blimp Knoxli won against Coder Yiyi\n",
      "         Fighter(\"Butler Cymone\", 73, 83, 15, 34)\n",
      "Blimp Knoxli lost against Butler Cymone\n",
      "         Fighter(\"Armadillo Olyve\", 48, 70, 24, 78)\n",
      "Armadillo Olyve lost against Butler Cymone\n",
      "         Fighter(\"Ancient Paper\", 90, 49, 50, 22)\n",
      "Ancient Paper won against Butler Cymone\n",
      "         Fighter(\"Disciplined Deveah\", 84, 63, 24, 42)\n",
      "Ancient Paper won against Disciplined Deveah\n",
      "         Fighter(\"Tricky Kangaroo\", 76, 55, 67, 13)\n",
      "Ancient Paper lost against Tricky Kangaroo\n",
      "         Fighter(\"Fabrizzio the Sphere\", 55, 47, 89, 53)\n",
      "Fabrizzio the Sphere lost against Tricky Kangaroo\n",
      "         Fighter(\"Dizzy Ladder\", 60, 38, 65, 100)\n",
      "Dizzy Ladder lost against Tricky Kangaroo\n",
      "         Fighter(\"Energetic Vampire\", 51, 47, 64, 92)\n",
      "Energetic Vampire lost against Tricky Kangaroo\n",
      "         Fighter(\"Talayla the Yoyo\", 52, 67, 93, 25)\n",
      "Talayla the Yoyo lost against Tricky Kangaroo\n",
      "         Fighter(\"Superficial Duck\", 68, 76, 39, 28)\n",
      "Superficial Duck won against Tricky Kangaroo\n",
      "         Fighter(\"Zylie the Nightingale\", 45, 65, 22, 93)\n",
      "Superficial Duck won against Zylie the Nightingale\n",
      "         Fighter(\"Susan the Yellow\", 95, 63, 30, 18)\n",
      "Superficial Duck won against Susan the Yellow\n",
      "         Fighter(\"Snake Cache\", 85, 63, 36, 25)\n",
      "Superficial Duck won against Snake Cache\n",
      "         Fighter(\"Old Vesta\", 48, 121, 39, 19)\n",
      "Superficial Duck won against Old Vesta\n",
      "         Fighter(\"Knight Jamall\", 38, 64, 12, 111)\n",
      "Superficial Duck won against Knight Jamall\n",
      "         Fighter(\"Aser the Orangutan\", 45, 59, 39, 94)\n",
      "Superficial Duck won against Aser the Orangutan\n",
      "         Fighter(\"Munasir the Naughty\", 93, 67, 32, 11)\n",
      "Superficial Duck won against Munasir the Naughty\n",
      "         Fighter(\"Kanaan the Gemstone\", 70, 59, 68, 18)\n",
      "Superficial Duck won against Kanaan the Gemstone\n",
      "         Fighter(\"Giraffe Yeabsira\", 74, 84, 11, 35)\n",
      "Superficial Duck lost against Giraffe Yeabsira\n",
      "         Fighter(\"Disciplined Iguana\", 39, 82, 20, 73)\n",
      "Disciplined Iguana won against Giraffe Yeabsira\n",
      "         Fighter(\"Gentle Mathematician\", 88, 61, 35, 25)\n",
      "Disciplined Iguana lost against Gentle Mathematician\n",
      "         Fighter(\"Davide the Kingly\", 28, 76, 58, 82)\n",
      "Davide the Kingly lost against Gentle Mathematician\n",
      "         Fighter(\"Ingenious Stegosaurus\", 55, 58, 79, 42)\n",
      "Ingenious Stegosaurus lost against Gentle Mathematician\n",
      "         Fighter(\"Ted the Naughty\", 79, 85, 11, 28)\n",
      "Ted the Naughty lost against Gentle Mathematician\n",
      "         Fighter(\"Jerod the Car\", 95, 36, 37, 85)\n",
      "Jerod the Car won against Gentle Mathematician\n",
      "         Fighter(\"Lawyer Lenox\", 62, 88, 17, 39)\n",
      "Jerod the Car won against Lawyer Lenox\n",
      "         Fighter(\"Brutal Artist\", 53, 72, 52, 47)\n",
      "Jerod the Car lost against Brutal Artist\n",
      "         Fighter(\"Turbo Urchin\", 79, 87, 24, 14)\n",
      "Turbo Urchin won against Brutal Artist\n",
      "         Fighter(\"Yoyo Maybrie\", 117, 53, 24, 18)\n",
      "Turbo Urchin lost against Yoyo Maybrie\n",
      "         Fighter(\"Demontae the Merciful\", 68, 87, 40, 15)\n",
      "Demontae the Merciful won against Yoyo Maybrie\n",
      "         Fighter(\"Little Student\", 98, 60, 28, 22)\n",
      "Demontae the Merciful won against Little Student\n",
      "         Fighter(\"Wise Eleanora\", 79, 53, 63, 15)\n",
      "Demontae the Merciful won against Wise Eleanora\n",
      "         Fighter(\"Superficial Pig\", 63, 81, 43, 27)\n",
      "Demontae the Merciful lost against Superficial Pig\n",
      "         Fighter(\"Shark Issa\", 58, 58, 31, 83)\n",
      "Shark Issa lost against Superficial Pig\n",
      "         Fighter(\"Ricky the Zookeeper\", 76, 57, 38, 48)\n",
      "Ricky the Zookeeper lost against Superficial Pig\n",
      "         Fighter(\"Boisterous Airplane\", 43, 51, 70, 94)\n",
      "Boisterous Airplane lost against Superficial Pig\n",
      "         Fighter(\"Doorman Briseyda\", 86, 18, 91, 34)\n",
      "Doorman Briseyda won against Superficial Pig\n",
      "         Fighter(\"Leticia the Lucid\", 82, 73, 33, 17)\n",
      "Doorman Briseyda won against Leticia the Lucid\n",
      "         Fighter(\"Octopus Harley\", 62, 66, 15, 75)\n",
      "Doorman Briseyda won against Octopus Harley\n",
      "         Fighter(\"Mosquito Khole\", 135, 46, 18, 29)\n",
      "Doorman Briseyda won against Mosquito Khole\n",
      "         Fighter(\"Kinsey the Calm\", 70, 85, 20, 31)\n",
      "Doorman Briseyda won against Kinsey the Calm\n",
      "         Fighter(\"Candle Kayanni\", 49, 49, 131, 24)\n",
      "Doorman Briseyda lost against Candle Kayanni\n",
      "         Fighter(\"Manta Drago\", 84, 27, 63, 90)\n",
      "Manta Drago lost against Candle Kayanni\n",
      "         Fighter(\"Pie Sakani\", 42, 47, 91, 89)\n",
      "Pie Sakani lost against Candle Kayanni\n",
      "         Fighter(\"Passive Pug\", 38, 85, 86, 41)\n",
      "Passive Pug won against Candle Kayanni\n",
      "         Fighter(\"Pierce the Quail\", 99, 48, 23, 61)\n",
      "Passive Pug lost against Pierce the Quail\n",
      "         Fighter(\"Duck Jadan\", 80, 49, 34, 68)\n",
      "Duck Jadan won against Pierce the Quail\n",
      "         Fighter(\"Tanvi the Terrible\", 55, 75, 11, 70)\n",
      "Duck Jadan won against Tanvi the Terrible\n",
      "         Fighter(\"Zookeeper Deveraux\", 49, 127, 22, 21)\n",
      "Duck Jadan won against Zookeeper Deveraux\n",
      "         Fighter(\"Shy Khyaire\", 89, 62, 40, 14)\n",
      "Duck Jadan lost against Shy Khyaire\n",
      "         Fighter(\"Potassium Marmot\", 59, 38, 97, 53)\n",
      "Potassium Marmot lost against Shy Khyaire\n",
      "         Fighter(\"Dynamic Gamer\", 84, 30, 53, 100)\n",
      "Dynamic Gamer won against Shy Khyaire\n",
      "         Fighter(\"Shy Spider\", 84, 72, 32, 17)\n",
      "Dynamic Gamer won against Shy Spider\n",
      "         Fighter(\"Shantel the Mouse\", 61, 89, 25, 34)\n",
      "Dynamic Gamer lost against Shantel the Mouse\n",
      "         Fighter(\"Dizzy Piano\", 78, 23, 84, 71)\n",
      "Dizzy Piano lost against Shantel the Mouse\n",
      "         Fighter(\"Robot Mayaken\", 47, 84, 16, 63)\n",
      "Robot Mayaken won against Shantel the Mouse\n",
      "         Fighter(\"Betsaida the Balloon\", 60, 45, 81, 54)\n",
      "Robot Mayaken won against Betsaida the Balloon\n",
      "         Fighter(\"Neurotic Jrake\", 101, 56, 26, 30)\n",
      "Robot Mayaken lost against Neurotic Jrake\n",
      "         Fighter(\"Ravenous Piano\", 26, 99, 26, 68)\n",
      "Ravenous Piano lost against Neurotic Jrake\n",
      "         Fighter(\"Kenli the Cricket\", 62, 68, 68, 23)\n",
      "Kenli the Cricket won against Neurotic Jrake\n",
      "         Fighter(\"Sassy Mouse\", 90, 69, 32, 13)\n",
      "Kenli the Cricket lost against Sassy Mouse\n",
      "         Fighter(\"Yardstick Brookes\", 60, 74, 21, 58)\n",
      "Yardstick Brookes lost against Sassy Mouse\n",
      "         Fighter(\"Helicopter Luxor\", 81, 59, 29, 48)\n",
      "Helicopter Luxor lost against Sassy Mouse\n",
      "         Fighter(\"Kamour the Wombat\", 100, 68, 14, 26)\n",
      "Kamour the Wombat lost against Sassy Mouse\n",
      "         Fighter(\"Puppy Jeric\", 60, 38, 93, 56)\n",
      "Puppy Jeric lost against Sassy Mouse\n",
      "         Fighter(\"Manta Leeba\", 47, 48, 66, 96)\n",
      "Manta Leeba lost against Sassy Mouse\n",
      "         Fighter(\"Lilit the Powerful\", 23, 83, 48, 84)\n",
      "Lilit the Powerful lost against Sassy Mouse\n",
      "         Fighter(\"Kaimari the Cheetah\", 84, 38, 46, 77)\n",
      "Kaimari the Cheetah won against Sassy Mouse\n",
      "         Fighter(\"Zanova the Yellow\", 139, 41, 26, 16)\n",
      "Kaimari the Cheetah won against Zanova the Yellow\n",
      "         Fighter(\"Lavar the Fish\", 95, 67, 32, 8)\n",
      "Kaimari the Cheetah won against Lavar the Fish\n",
      "         Fighter(\"Yuliet the Paper\", 96, 56, 27, 36)\n",
      "Kaimari the Cheetah won against Yuliet the Paper\n",
      "         Fighter(\"Jahkarri the Studious\", 41, 140, 15, 26)\n",
      "Kaimari the Cheetah lost against Jahkarri the Studious\n",
      "         Fighter(\"Charming Gamer\", 24, 91, 98, 60)\n",
      "Charming Gamer won against Jahkarri the Studious\n",
      "         Fighter(\"Elegant Navee\", 60, 98, 22, 28)\n",
      "Charming Gamer won against Elegant Navee\n",
      "         Fighter(\"Xailee the Passive\", 135, 43, 24, 22)\n",
      "Charming Gamer lost against Xailee the Passive\n",
      "         Fighter(\"Abdulwali the Itinerant\", 76, 55, 63, 18)\n",
      "Abdulwali the Itinerant won against Xailee the Passive\n",
      "         Fighter(\"Sassy Quail\", 125, 51, 23, 14)\n",
      "Abdulwali the Itinerant won against Sassy Quail\n",
      "         Fighter(\"Ninja Jamael\", 58, 83, 57, 22)\n",
      "Abdulwali the Itinerant lost against Ninja Jamael\n",
      "         Fighter(\"Enzo the Rock\", 25, 77, 67, 83)\n",
      "Enzo the Rock won against Ninja Jamael\n",
      "         Fighter(\"Aether the Nerdy\", 140, 40, 28, 12)\n",
      "Enzo the Rock lost against Aether the Nerdy\n",
      "         Fighter(\"Koala Justin\", 46, 52, 93, 64)\n",
      "Koala Justin won against Aether the Nerdy\n",
      "         Fighter(\"Helicopter Crosley\", 65, 85, 12, 43)\n",
      "Koala Justin lost against Helicopter Crosley\n",
      "         Fighter(\"Jumpy Artist\", 45, 63, 92, 48)\n",
      "Jumpy Artist lost against Helicopter Crosley\n",
      "         Fighter(\"Sheltering Coder\", 71, 68, 54, 19)\n",
      "Sheltering Coder lost against Helicopter Crosley\n",
      "         Fighter(\"Jacket Saahas\", 83, 55, 58, 11)\n",
      "Jacket Saahas lost against Helicopter Crosley\n",
      "         Fighter(\"Robot Akane\", 83, 63, 27, 40)\n",
      "Robot Akane lost against Helicopter Crosley\n",
      "         Fighter(\"Axelson the Shiny\", 39, 93, 99, 27)\n",
      "Axelson the Shiny lost against Helicopter Crosley\n",
      "         Fighter(\"Galo the Pizza\", 56, 70, 66, 34)\n",
      "Galo the Pizza lost against Helicopter Crosley\n",
      "         Fighter(\"Jesse the Minimal\", 84, 36, 67, 37)\n",
      "Jesse the Minimal lost against Helicopter Crosley\n",
      "         Fighter(\"Frozen Rock\", 40, 68, 35, 86)\n",
      "Frozen Rock won against Helicopter Crosley\n",
      "         Fighter(\"Icosahedron Rayshaun\", 99, 61, 29, 17)\n",
      "Frozen Rock lost against Icosahedron Rayshaun\n"
     ]
    },
    {
     "name": "stdout",
     "output_type": "stream",
     "text": [
      "         Fighter(\"Kitten Gleyber\", 48, 51, 98, 55)\n",
      "Kitten Gleyber lost against Icosahedron Rayshaun\n",
      "         Fighter(\"Itinerant Cat\", 64, 58, 62, 40)\n",
      "Itinerant Cat won against Icosahedron Rayshaun\n",
      "         Fighter(\"Quail Chet\", 82, 72, 32, 20)\n",
      "Itinerant Cat lost against Quail Chet\n",
      "         Fighter(\"Nice Cheetah\", 67, 55, 20, 90)\n",
      "Nice Cheetah lost against Quail Chet\n",
      "         Fighter(\"Felicitas the Phoenix\", 75, 51, 62, 29)\n",
      "Felicitas the Phoenix won against Quail Chet\n",
      "         Fighter(\"Fiery Mango\", 95, 63, 30, 18)\n",
      "Felicitas the Phoenix won against Fiery Mango\n",
      "         Fighter(\"Hunter Cordae\", 88, 61, 35, 25)\n",
      "Felicitas the Phoenix won against Hunter Cordae\n",
      "         Fighter(\"Furry Rogue\", 98, 57, 27, 31)\n",
      "Felicitas the Phoenix won against Furry Rogue\n",
      "         Fighter(\"Sheltering Violin\", 76, 57, 52, 30)\n",
      "Felicitas the Phoenix won against Sheltering Violin\n",
      "         Fighter(\"Wise Maison\", 95, 64, 28, 19)\n",
      "Felicitas the Phoenix won against Wise Maison\n",
      "         Fighter(\"Unreliable Warrior\", 47, 60, 32, 94)\n",
      "Felicitas the Phoenix won against Unreliable Warrior\n",
      "         Fighter(\"Devany the Mouse\", 68, 60, 68, 21)\n",
      "Felicitas the Phoenix lost against Devany the Mouse\n",
      "         Fighter(\"Dynamic Giraffe\", 67, 49, 38, 85)\n",
      "Dynamic Giraffe lost against Devany the Mouse\n",
      "         Fighter(\"Merciful Giant\", 91, 17, 80, 69)\n",
      "Merciful Giant won against Devany the Mouse\n",
      "         Fighter(\"Yuina the Scissors\", 64, 46, 74, 50)\n",
      "Merciful Giant won against Yuina the Scissors\n",
      "         Fighter(\"Scissors Melis\", 61, 45, 106, 17)\n",
      "Merciful Giant lost against Scissors Melis\n",
      "         Fighter(\"Kru the Melodious\", 53, 80, 78, 20)\n",
      "Kru the Melodious won against Scissors Melis\n",
      "         Fighter(\"Cube Stratton\", 47, 51, 30, 121)\n",
      "Kru the Melodious won against Cube Stratton\n",
      "         Fighter(\"Boot Fia\", 71, 48, 37, 82)\n",
      "Kru the Melodious won against Boot Fia\n",
      "         Fighter(\"Lawyer Hazlee\", 63, 85, 23, 37)\n",
      "Kru the Melodious lost against Lawyer Hazlee\n",
      "         Fighter(\"Daring Ambros\", 35, 78, 94, 51)\n",
      "Daring Ambros won against Lawyer Hazlee\n",
      "         Fighter(\"Rikki the Blueberry\", 76, 56, 52, 32)\n",
      "Daring Ambros won against Rikki the Blueberry\n",
      "         Fighter(\"Camillo the Ninja\", 140, 41, 26, 15)\n",
      "Daring Ambros lost against Camillo the Ninja\n",
      "         Fighter(\"Alexsander the Pteranodon\", 82, 39, 46, 77)\n",
      "Alexsander the Pteranodon won against Camillo the Ninja\n",
      "         Fighter(\"Turbo Alanny\", 138, 41, 28, 11)\n",
      "Alexsander the Pteranodon won against Turbo Alanny\n",
      "         Fighter(\"Curious Marin\", 92, 66, 29, 19)\n",
      "Alexsander the Pteranodon won against Curious Marin\n",
      "         Fighter(\"Sladen the Violet\", 67, 60, 69, 22)\n",
      "Alexsander the Pteranodon lost against Sladen the Violet\n",
      "         Fighter(\"Brock the Nutritious\", 52, 59, 76, 50)\n",
      "Brock the Nutritious lost against Sladen the Violet\n",
      "         Fighter(\"Nane the Balanced\", 44, 56, 70, 79)\n",
      "Nane the Balanced lost against Sladen the Violet\n",
      "         Fighter(\"Sphere Yareli\", 68, 76, 19, 46)\n",
      "Sphere Yareli won against Sladen the Violet\n",
      "         Fighter(\"Elier the Laptop\", 42, 135, 19, 26)\n",
      "Sphere Yareli won against Elier the Laptop\n",
      "         Fighter(\"Garren the Sword\", 44, 62, 18, 104)\n",
      "Sphere Yareli won against Garren the Sword\n",
      "         Fighter(\"Fish Roanan\", 86, 64, 43, 12)\n",
      "Sphere Yareli lost against Fish Roanan\n",
      "         Fighter(\"Zinc Goldfish\", 68, 84, 45, 14)\n",
      "Zinc Goldfish won against Fish Roanan\n",
      "         Fighter(\"Merciful Mantis\", 57, 97, 32, 27)\n",
      "Zinc Goldfish lost against Merciful Mantis\n",
      "         Fighter(\"Xtreme Iguana\", 37, 81, 16, 79)\n",
      "Xtreme Iguana won against Merciful Mantis\n",
      "         Fighter(\"Elegant Symir\", 98, 64, 30, 12)\n",
      "Xtreme Iguana lost against Elegant Symir\n",
      "         Fighter(\"Blind Gamer\", 68, 57, 36, 64)\n",
      "Blind Gamer won against Elegant Symir\n",
      "         Fighter(\"Xact Butler\", 41, 139, 13, 27)\n",
      "Blind Gamer won against Xact Butler\n",
      "         "
     ]
    },
    {
     "ename": "LoadError",
     "evalue": "BoundsError: attempt to access 100-element Vector{Fighter} at index [101]",
     "output_type": "error",
     "traceback": [
      "BoundsError: attempt to access 100-element Vector{Fighter} at index [101]",
      "",
      "Stacktrace:",
      " [1] getindex(A::Vector{Fighter}, i1::Int64)",
      "   @ Base ./essentials.jl:13",
      " [2] top-level scope",
      "   @ ./In[29]:15"
     ]
    }
   ],
   "source": [
    "bs = team_a\n",
    "as = team_r0\n",
    "a_i = 1\n",
    "b_i = 1\n",
    "print(\"         \")\n",
    "println(as[a_i])\n",
    "print(\"         \")\n",
    "println(bs[b_i])\n",
    "while (a_i <= length(as)) && (b_i <= length(bs))\n",
    "    res = eval_battle(as[a_i], bs[b_i])\n",
    "    if res == 1\n",
    "        println(string(as[a_i].name, \" won against \", bs[b_i].name))\n",
    "        b_i = b_i + 1\n",
    "        print(\"         \")\n",
    "        println(bs[b_i])\n",
    "    else\n",
    "        if res == 0\n",
    "            println(string(as[a_i].name, \" tied against \", bs[b_i].name))\n",
    "            b_i = b_i + 1\n",
    "            print(\"         \")\n",
    "            println(bs[b_i])\n",
    "        else\n",
    "            println(string(as[a_i].name, \" lost against \", bs[b_i].name))\n",
    "        end\n",
    "        a_i = a_i + 1\n",
    "        print(\"         \")\n",
    "        println(as[a_i])\n",
    "    end\n",
    "end\n",
    "a_out = (a_i > length(as))\n",
    "b_out = (b_i > length(as))\n",
    "if a_out\n",
    "    if b_out\n",
    "        return 0\n",
    "    else\n",
    "        return -1\n",
    "    end\n",
    "else\n",
    "    return 1\n",
    "end\n"
   ]
  },
  {
   "cell_type": "code",
   "execution_count": 30,
   "id": "ac317ca9",
   "metadata": {},
   "outputs": [
    {
     "data": {
      "text/plain": [
       "(94, 101)"
      ]
     },
     "execution_count": 30,
     "metadata": {},
     "output_type": "execute_result"
    }
   ],
   "source": [
    "a_i, b_i"
   ]
  },
  {
   "cell_type": "code",
   "execution_count": null,
   "id": "5843c735",
   "metadata": {},
   "outputs": [],
   "source": []
  },
  {
   "cell_type": "code",
   "execution_count": null,
   "id": "032d8906",
   "metadata": {},
   "outputs": [],
   "source": []
  }
 ],
 "metadata": {
  "kernelspec": {
   "display_name": "Julia 1.9.3",
   "language": "julia",
   "name": "julia-1.9"
  },
  "language_info": {
   "file_extension": ".jl",
   "mimetype": "application/julia",
   "name": "julia",
   "version": "1.9.3"
  }
 },
 "nbformat": 4,
 "nbformat_minor": 5
}

{
 "cells": [
  {
   "cell_type": "code",
   "execution_count": 1,
   "id": "560e9539",
   "metadata": {},
   "outputs": [
    {
     "data": {
      "text/plain": [
       "eval_team_battle (generic function with 1 method)"
      ]
     },
     "execution_count": 1,
     "metadata": {},
     "output_type": "execute_result"
    }
   ],
   "source": [
    "using Random\n",
    "using DataFrames\n",
    "using CSV\n",
    "using Statistics\n",
    "using Printf\n",
    "\n",
    "struct Fighter\n",
    "    name::String\n",
    "    h::Int16\n",
    "    f::Int16\n",
    "    l::Int16\n",
    "    t::Int16\n",
    "end\n",
    "\n",
    "const MXS = 400\n",
    "const MXV = 20\n",
    "const MNV = 2\n",
    "\n",
    "function random_fighter(h0::Int = MNV, f0::Int = MNV, l0::Int = MNV, t0::Int = MNV)::Fighter\n",
    "    flag = true\n",
    "    while flag\n",
    "        h = h0 + rand(0:(MXV - h0), 1)[1]\n",
    "        f = f0 + rand(0:(MXV - f0), 1)[1]\n",
    "        l = l0 + rand(0:(MXV - l0), 1)[1]\n",
    "        t = t0 + rand(0:(MXV - t0), 1)[1]\n",
    "        mm = minimum([h, f])\n",
    "        budget = h*f+h*l+f*t\n",
    "        if budget <= MXS && budget + mm > MXS\n",
    "            flag = false\n",
    "            return Fighter(\"No Name\", h, f, l, t)\n",
    "        end\n",
    "    end\n",
    "end\n",
    "\n",
    "function eval_battle(a::Fighter, b::Fighter)::Int\n",
    "    a_finds = a.f >= b.h\n",
    "    b_finds = b.f >= a.h\n",
    "    if a_finds && b_finds\n",
    "        if a.t > b.t\n",
    "            return 1\n",
    "        end\n",
    "        if a.t < b.t\n",
    "            return -1\n",
    "        end\n",
    "        if a.t == b.t\n",
    "            if a.l > b.l\n",
    "                return 1\n",
    "            end\n",
    "            if a.l < b.l\n",
    "                return -1\n",
    "            end\n",
    "            if a.l == b.l\n",
    "                if a.h > b.h\n",
    "                    return 1\n",
    "                end\n",
    "                if a.h < b.h\n",
    "                    return -1\n",
    "                end\n",
    "                if a.h == b.h\n",
    "                    return 0\n",
    "                end\n",
    "            end\n",
    "        end\n",
    "    end\n",
    "    if a_finds && !b_finds\n",
    "        return 1\n",
    "    end\n",
    "    if !a_finds && b_finds\n",
    "        return -1\n",
    "    end\n",
    "    if !a_finds && !b_finds\n",
    "        if a.l > b.l\n",
    "            return 1\n",
    "        end\n",
    "        if a.l < b.l\n",
    "            return -1\n",
    "        end\n",
    "        if a.l == b.l\n",
    "            if a.t > b.t\n",
    "                return 1\n",
    "            end\n",
    "            if a.t < b.t\n",
    "                return -1\n",
    "            end\n",
    "            if a.t == b.t\n",
    "                if a.f > b.f\n",
    "                    return 1\n",
    "                end\n",
    "                if a.f < b.f\n",
    "                    return -1\n",
    "                end\n",
    "                if a.f == b.f\n",
    "                    return 0\n",
    "                end\n",
    "            end\n",
    "        end\n",
    "    end\n",
    "end\n",
    "\n",
    "function random_tournament_winner(c::Int, f::Function = random_fighter)::Fighter\n",
    "    if c==0\n",
    "        return f()\n",
    "    end\n",
    "    a = random_tournament_winner(c-1, f)\n",
    "    b = random_tournament_winner(c-1, f)\n",
    "    res = eval_battle(a, b)\n",
    "    if res == 1\n",
    "        return a\n",
    "    else\n",
    "        return b\n",
    "    end\n",
    "end\n",
    "\n",
    "\n",
    "tab = CSV.read(\"census_yob2022_names.txt\", DataFrame, header = false)\n",
    "names = tab.Column1\n",
    "adjectives = CSV.read(\"adjectives.csv\", DataFrame)\n",
    "nouns = CSV.read(\"nouns.csv\", DataFrame)\n",
    "\n",
    "function random_name_and_stat()::Fighter\n",
    "    vp = [0, 0, 0, 0]\n",
    "    nametype = rand(1:5)\n",
    "    name = \"\"\n",
    "    if nametype == 1 || nametype == 2\n",
    "        nm = rand(names)\n",
    "        adj_i = rand(1:nrow(adjectives))\n",
    "        adj = adjectives[adj_i, :adjective]\n",
    "        vp[1] = vp[1] + adjectives[adj_i, :H]\n",
    "        vp[2] = vp[2] + adjectives[adj_i, :F]\n",
    "        vp[3] = vp[3] + adjectives[adj_i, :L]\n",
    "        vp[4] = vp[4] + adjectives[adj_i, :T]\n",
    "        if nametype == 1\n",
    "            name = string(nm, \" the \", adj)\n",
    "        end\n",
    "        if nametype == 2\n",
    "            name = string(adj, \" \", nm)\n",
    "        end\n",
    "    end\n",
    "    if nametype == 3 || nametype == 4\n",
    "        nm = rand(names)\n",
    "        noun_i = rand(1:nrow(nouns))\n",
    "        noun = nouns[noun_i, :noun]\n",
    "        vp[1] = vp[1] + nouns[noun_i, :H]\n",
    "        vp[2] = vp[2] + nouns[noun_i, :F]\n",
    "        vp[3] = vp[3] + nouns[noun_i, :L]\n",
    "        vp[4] = vp[4] + nouns[noun_i, :T]    \n",
    "        if nametype == 3\n",
    "            name = string(nm, \" the \", noun)\n",
    "        end\n",
    "        if nametype == 4\n",
    "            name = string(noun, \" \", nm)\n",
    "        end\n",
    "    end\n",
    "    if nametype == 5\n",
    "        adj_i = rand(1:nrow(adjectives))\n",
    "        adj = adjectives[adj_i, :adjective]\n",
    "        vp[1] = vp[1] + adjectives[adj_i, :H]\n",
    "        vp[2] = vp[2] + adjectives[adj_i, :F]\n",
    "        vp[3] = vp[3] + adjectives[adj_i, :L]\n",
    "        vp[4] = vp[4] + adjectives[adj_i, :T]\n",
    "        noun_i = rand(1:nrow(nouns))\n",
    "        noun = nouns[noun_i, :noun]\n",
    "        vp[1] = vp[1] + nouns[noun_i, :H]\n",
    "        vp[2] = vp[2] + nouns[noun_i, :F]\n",
    "        vp[3] = vp[3] + nouns[noun_i, :L]\n",
    "        vp[4] = vp[4] + nouns[noun_i, :T]    \n",
    "        name = string(adj, \" \", noun)\n",
    "    end\n",
    "    Fighter(name, vp[1], vp[2], vp[3], vp[4])\n",
    "end\n",
    "\n",
    "function rand_rename(a::Fighter, n_tries::Int = 10)::Fighter\n",
    "    best_score = 0.0\n",
    "    best_b = random_name_and_stat()\n",
    "    for ii in 1:n_tries\n",
    "        b = random_name_and_stat()\n",
    "        b_norm = sqrt(b.h^2 + b.f^2 + b.l^2 + b.t^2)\n",
    "        score = (a.h * b.h + a.f * b.f + a.l * b.l + a.t * b.t)/b_norm\n",
    "        if score > best_score\n",
    "            best_score = score\n",
    "            best_b = b\n",
    "        end\n",
    "    end\n",
    "    return Fighter(best_b.name, a.h, a.f, a.l, a.t)\n",
    "end\n",
    "\n",
    "function eval_battle_list(a::Fighter, bs::Array{Fighter})::Int\n",
    "    score = 0\n",
    "    for ii in 1:length(bs)\n",
    "        score = score + eval_battle(a, bs[ii])\n",
    "    end\n",
    "    return score\n",
    "end\n",
    "\n",
    "function pick_best(as::Array{Fighter}, bs::Array{Fighter})::Fighter\n",
    "    bestscore = -999\n",
    "    bestf = as[1]\n",
    "    for ii in 1:length(as)\n",
    "        score = eval_battle_list(as[ii], bs)\n",
    "        if score > bestscore\n",
    "            bestscore = score\n",
    "            bestf = as[ii]\n",
    "        end\n",
    "    end\n",
    "    return bestf\n",
    "end\n",
    "\n",
    "function pick_best_rdmly(as::Array{Fighter}, bs::Array{Fighter}, ntries::Int)::Fighter\n",
    "    bestscore = -999\n",
    "    bestf = rand(as)\n",
    "    for ii in 1:ntries\n",
    "        f = rand(as)\n",
    "        score = eval_battle_list(f, bs)\n",
    "        if score > bestscore\n",
    "            bestscore = score\n",
    "            bestf = f\n",
    "        end\n",
    "    end\n",
    "    return bestf\n",
    "end\n",
    "\n",
    "function fighters_to_df(as::Array{Fighter})::DataFrame\n",
    "    names = Array{String}(undef, length(as))\n",
    "    hs = Array{Int}(undef, length(as))\n",
    "    fs = Array{Int}(undef, length(as))\n",
    "    ls = Array{Int}(undef, length(as))\n",
    "    ts = Array{Int}(undef, length(as))\n",
    "    for ii in 1:length(as)\n",
    "        names[ii] = as[ii].name\n",
    "        hs[ii] = as[ii].h\n",
    "        fs[ii] = as[ii].f\n",
    "        ls[ii] = as[ii].l\n",
    "        ts[ii] = as[ii].t    \n",
    "    end\n",
    "    df = DataFrame(name = names, h = hs, f = fs, l = ls, t = ts)\n",
    "    return df\n",
    "end\n",
    "\n",
    "function fpart(x::AbstractFloat)::AbstractFloat\n",
    "  return x - trunc(x)\n",
    "end\n",
    "\n",
    "function eval_team_battle(as::Array{Fighter}, bs::Array{Fighter})::Int\n",
    "    a_i = 1\n",
    "    b_i = 1\n",
    "    while (a_i <= length(as)) && (b_i <= length(bs))\n",
    "        res = eval_battle(as[a_i], bs[b_i])\n",
    "        if res == 1\n",
    "            b_i = b_i + 1\n",
    "        else\n",
    "            a_i = a_i + 1\n",
    "            if res == 0\n",
    "                b_i = b_i + 1\n",
    "            end\n",
    "        end\n",
    "    end\n",
    "    a_out = (a_i > length(as))\n",
    "    b_out = (b_i > length(as))\n",
    "    if a_out\n",
    "        if b_out\n",
    "            return 0\n",
    "        else\n",
    "            return -1\n",
    "        end\n",
    "    else\n",
    "        return 1\n",
    "    end\n",
    "end"
   ]
  },
  {
   "cell_type": "code",
   "execution_count": 2,
   "id": "ec7b15f6",
   "metadata": {},
   "outputs": [
    {
     "data": {
      "text/plain": [
       "random_team (generic function with 1 method)"
      ]
     },
     "execution_count": 2,
     "metadata": {},
     "output_type": "execute_result"
    }
   ],
   "source": [
    "function random_team(f::Function, team_size::Int)::Array{Fighter}\n",
    "    team = Array{Fighter}(undef, team_size)\n",
    "    for i in 1:team_size\n",
    "        team[i] = f()\n",
    "    end\n",
    "    return team\n",
    "end"
   ]
  },
  {
   "cell_type": "code",
   "execution_count": 3,
   "id": "51cea033",
   "metadata": {},
   "outputs": [],
   "source": [
    "library = Array{Fighter}(undef, 100000)\n",
    "for i in 1:100000\n",
    "    library[i] = rand_rename(random_fighter())\n",
    "end"
   ]
  },
  {
   "cell_type": "code",
   "execution_count": 4,
   "id": "f1198f90",
   "metadata": {},
   "outputs": [
    {
     "data": {
      "text/plain": [
       "evaluate_generator (generic function with 2 methods)"
      ]
     },
     "execution_count": 4,
     "metadata": {},
     "output_type": "execute_result"
    }
   ],
   "source": [
    "function evaluate_generator(f::Function, team_size::Int, n_times::Int = 1)::AbstractFloat\n",
    "    scores = Array{AbstractFloat}(undef, n_times)\n",
    "    for i0 in 1:n_times\n",
    "        team = Array{Fighter}(undef, team_size)\n",
    "        for i in 1:team_size\n",
    "            team[i] = f()\n",
    "        end\n",
    "        bestscore = 999999\n",
    "        exploiter = library[1]\n",
    "        for i in 1:length(library)\n",
    "            fighter = library[i]\n",
    "            score = 0\n",
    "            for j in 1:team_size\n",
    "                score = score + eval_battle(team[j], fighter)\n",
    "            end\n",
    "            if score < bestscore\n",
    "                bestscore = score\n",
    "                exploiter = library[i]\n",
    "            end\n",
    "        end\n",
    "        if n_times < 5\n",
    "            println(exploiter)        \n",
    "        end\n",
    "        scores[i0] = bestscore/team_size\n",
    "    end\n",
    "    return mean(scores)\n",
    "end"
   ]
  },
  {
   "cell_type": "code",
   "execution_count": 5,
   "id": "608ef7bd",
   "metadata": {},
   "outputs": [
    {
     "data": {
      "text/plain": [
       "evaluate_generator2 (generic function with 1 method)"
      ]
     },
     "execution_count": 5,
     "metadata": {},
     "output_type": "execute_result"
    }
   ],
   "source": [
    "function evaluate_generator2(f1, ts, np, limit)\n",
    "    a_i = 1\n",
    "    b_i = 1\n",
    "    f_a = f1()\n",
    "    t_a = random_team(f1, ts)\n",
    "    f_b = pick_best_rdmly(library, t_a, np)\n",
    "    while (a_i < limit) && (b_i < limit)\n",
    "        res = eval_battle(f_a, f_b)\n",
    "        if res != -1\n",
    "            b_i = b_i + 1\n",
    "            t_a = random_team(f1, ts)\n",
    "            f_b = pick_best_rdmly(library, t_a, np)        \n",
    "        end\n",
    "        if res != 1\n",
    "            a_i = a_i + 1\n",
    "            f_a = f1()\n",
    "        end\n",
    "    end\n",
    "    return (a_i/limit, b_i/limit)\n",
    "end"
   ]
  },
  {
   "cell_type": "code",
   "execution_count": 6,
   "id": "5a70c0e2",
   "metadata": {},
   "outputs": [
    {
     "name": "stdout",
     "output_type": "stream",
     "text": [
      "  8.463614 seconds (45.44 M allocations: 7.853 GiB, 13.87% gc time, 0.31% compilation time)\n"
     ]
    },
    {
     "data": {
      "text/plain": [
       "(0.69698, 1.0)"
      ]
     },
     "execution_count": 6,
     "metadata": {},
     "output_type": "execute_result"
    }
   ],
   "source": [
    "# new random generation to more closely approximate Nash\n",
    "function random_scheme_a(budget::Int = MXS, h0::Int = MNV, f0::Int = MNV, l0::Int = MNV, t0::Int = MNV)::Fighter\n",
    "    budget_sofar = budget + 1\n",
    "    name = \"\"\n",
    "    while budget_sofar > budget\n",
    "        hf_ratio = rand() * .75 + 0.02\n",
    "        l_ratio = rand()\n",
    "        h_temp = rand() + 0.07\n",
    "        f_temp = rand() + 0.07\n",
    "        name = string(\"Scheme-A (\", @sprintf(\"%6.3f\",hf_ratio), \",\", @sprintf(\"%6.3f\",l_ratio), \",\", @sprintf(\"%6.3f\",h_temp), \",\", @sprintf(\"%6.3f\",f_temp), \")\")\n",
    "        if hf_ratio > 0.05\n",
    "            while abs(h_temp - f_temp) < 0.3\n",
    "                h_temp = rand() + 0.07\n",
    "                f_temp = rand() + 0.07\n",
    "            end\n",
    "        end\n",
    "        budget_hf = (0.07 + hf_ratio * 0.8) * (budget * .75)\n",
    "        h_ratio = h_temp/sqrt(h_temp * f_temp)\n",
    "        f_ratio = f_temp/sqrt(h_temp * f_temp)\n",
    "        h = max(h0, round(sqrt(budget_hf) * h_ratio))\n",
    "        f = max(f0, round(sqrt(budget_hf) * f_ratio))\n",
    "        budget_hf = h * f\n",
    "        budget_remain = (budget - budget_hf) - (l0 * h + t0 * f)\n",
    "        l_ratio2 = (h^2 + 5 * l_ratio)/(h^2+f^2 + 5)\n",
    "        #l_ratio2 = (l_ratio * h)/(l_ratio * h + (1-l_ratio) * f)\n",
    "        lraw = l0 + ( budget_remain * l_ratio2 )/h\n",
    "        traw = t0 + ( budget_remain * (1 - l_ratio2) )/f\n",
    "        l = trunc(lraw)\n",
    "        t = trunc(traw)\n",
    "        budget_sofar = h * f + h * l + f * t\n",
    "        if (budget - budget_sofar) >= min(h, f)\n",
    "            could_add_l = (budget - budget_sofar) >= h\n",
    "            could_add_t = (budget - budget_sofar) >= f\n",
    "            if could_add_l && !could_add_t\n",
    "                l = l+trunc((budget - budget_sofar)/h)\n",
    "            end\n",
    "            if !could_add_l && could_add_t\n",
    "                t = t+trunc((budget - budget_sofar)/f)\n",
    "            end\n",
    "            if could_add_l && could_add_t\n",
    "                if fpart(lraw) > fpart(traw)\n",
    "                    l = l+trunc((budget - budget_sofar)/h)\n",
    "                else\n",
    "                    t = t+trunc((budget - budget_sofar)/f)\n",
    "                end\n",
    "            end\n",
    "        end\n",
    "    end\n",
    "    h = convert(Int, h)\n",
    "    f = convert(Int, f)\n",
    "    l = convert(Int, l)\n",
    "    t = convert(Int, t)  \n",
    "    return Fighter(name, h, f, l, t)\n",
    "end\n",
    "\n",
    "@time evaluate_generator2(random_scheme_a, 100, 100, 50000)"
   ]
  },
  {
   "cell_type": "code",
   "execution_count": 7,
   "id": "8ff8ccaa",
   "metadata": {},
   "outputs": [
    {
     "data": {
      "text/plain": [
       "Fighter(\"Scheme-A ( 0.146, 0.498, 0.835, 0.697)\", 14, 4, 22, 9)"
      ]
     },
     "execution_count": 7,
     "metadata": {},
     "output_type": "execute_result"
    }
   ],
   "source": [
    "random_scheme_a()"
   ]
  },
  {
   "cell_type": "code",
   "execution_count": 8,
   "id": "a8c633db",
   "metadata": {},
   "outputs": [
    {
     "name": "stdout",
     "output_type": "stream",
     "text": [
      "  9.397592 seconds (2.20 M allocations: 69.621 MiB, 0.20% gc time, 0.60% compilation time)\n"
     ]
    },
    {
     "data": {
      "text/plain": [
       "-0.368"
      ]
     },
     "execution_count": 8,
     "metadata": {},
     "output_type": "execute_result"
    }
   ],
   "source": [
    "@time evaluate_generator(random_scheme_a, 2000, 5)"
   ]
  },
  {
   "cell_type": "code",
   "execution_count": 9,
   "id": "ec65ce1a",
   "metadata": {},
   "outputs": [
    {
     "name": "stdout",
     "output_type": "stream",
     "text": [
      "(4.0, 36.0, 10.0, 6.0, 144.0, 368.0, 0.5211782043778418)\n"
     ]
    }
   ],
   "source": [
    "budget = MXS\n",
    "h0 = MNV\n",
    "f0 = MNV\n",
    "l0 = MNV\n",
    "t0 = MNV\n",
    "hf_ratio0 = 0\n",
    "l_ratio0 = 0\n",
    "h_temp0 = 0\n",
    "f_temp0 = 0\n",
    "\n",
    "hf_ratio = rand()\n",
    "l_ratio = rand()\n",
    "h_temp = rand()\n",
    "f_temp = rand()\n",
    "budget_hf = (0.1 + hf_ratio * 0.8) * (budget * .7)\n",
    "h_ratio = h_temp/sqrt(h_temp * f_temp)\n",
    "f_ratio = f_temp/sqrt(h_temp * f_temp)\n",
    "h = max(h0, round(sqrt(budget_hf) * h_ratio))\n",
    "f = max(f0, round(sqrt(budget_hf) * f_ratio))\n",
    "budget_hf = h * f\n",
    "budget_remain = (budget - budget_hf) - (l0 * h + t0 * f)\n",
    "l_ratio2 = (h-2)^2/((h-2)^2+(f-2)^2)\n",
    "#l_ratio2 = (l_ratio * h)/(l_ratio * h + (1-l_ratio) * f)\n",
    "lraw = l0 + ( budget_remain * l_ratio2 )/h\n",
    "traw = t0 + ( budget_remain * (1 - l_ratio2) )/f\n",
    "l = trunc(lraw)\n",
    "t = trunc(traw)\n",
    "budget_sofar = h * f + h * l + f * t\n",
    "if (budget - budget_sofar) >= min(h, f)\n",
    "    could_add_l = (budget - budget_sofar) >= h\n",
    "    could_add_t = (budget - budget_sofar) >= f\n",
    "    if could_add_l && !could_add_t\n",
    "        l = l+trunc((budget - budget_sofar)/h)\n",
    "    end\n",
    "    if !could_add_l && could_add_t\n",
    "        t = t+trunc((budget - budget_sofar)/f)\n",
    "    end\n",
    "    if could_add_l && could_add_t\n",
    "        if fpart(lraw) > fpart(traw)\n",
    "            l = l+trunc((budget - budget_sofar)/h)\n",
    "        else\n",
    "            t = t+trunc((budget - budget_sofar)/f)\n",
    "        end\n",
    "    end\n",
    "end\n",
    "\n",
    "println((h, f, l, t, budget_hf, budget_sofar, hf_ratio))"
   ]
  },
  {
   "cell_type": "markdown",
   "id": "cb04c53d",
   "metadata": {},
   "source": [
    "## Testing Random Scheme A"
   ]
  },
  {
   "cell_type": "code",
   "execution_count": 10,
   "id": "e24bf964",
   "metadata": {},
   "outputs": [
    {
     "name": "stdout",
     "output_type": "stream",
     "text": [
      "Fighter(\"Scheme-A ( 0.729, 0.961, 0.753, 0.916)\", 11, 18, 5, 8)"
     ]
    },
    {
     "data": {
      "text/plain": [
       "397"
      ]
     },
     "execution_count": 10,
     "metadata": {},
     "output_type": "execute_result"
    }
   ],
   "source": [
    "f = random_scheme_a()\n",
    "print(f)\n",
    "f.h * f.f + f.h * f.l + f.f * f.t"
   ]
  },
  {
   "cell_type": "code",
   "execution_count": 11,
   "id": "3a1b7f74",
   "metadata": {},
   "outputs": [
    {
     "data": {
      "text/html": [
       "<div><div style = \"float: left;\"><span>10×5 DataFrame</span></div><div style = \"clear: both;\"></div></div><div class = \"data-frame\" style = \"overflow-x: scroll;\"><table class = \"data-frame\" style = \"margin-bottom: 6px;\"><thead><tr class = \"header\"><th class = \"rowNumber\" style = \"font-weight: bold; text-align: right;\">Row</th><th style = \"text-align: left;\">name</th><th style = \"text-align: left;\">h</th><th style = \"text-align: left;\">f</th><th style = \"text-align: left;\">l</th><th style = \"text-align: left;\">t</th></tr><tr class = \"subheader headerLastRow\"><th class = \"rowNumber\" style = \"font-weight: bold; text-align: right;\"></th><th title = \"String\" style = \"text-align: left;\">String</th><th title = \"Int64\" style = \"text-align: left;\">Int64</th><th title = \"Int64\" style = \"text-align: left;\">Int64</th><th title = \"Int64\" style = \"text-align: left;\">Int64</th><th title = \"Int64\" style = \"text-align: left;\">Int64</th></tr></thead><tbody><tr><td class = \"rowNumber\" style = \"font-weight: bold; text-align: right;\">1</td><td style = \"text-align: left;\">Scheme-A ( 0.105, 0.102, 0.517, 0.121)</td><td style = \"text-align: right;\">14</td><td style = \"text-align: right;\">3</td><td style = \"text-align: right;\">23</td><td style = \"text-align: right;\">12</td></tr><tr><td class = \"rowNumber\" style = \"font-weight: bold; text-align: right;\">2</td><td style = \"text-align: left;\">Scheme-A ( 0.665, 0.641, 0.839, 0.913)</td><td style = \"text-align: right;\">11</td><td style = \"text-align: right;\">17</td><td style = \"text-align: right;\">7</td><td style = \"text-align: right;\">8</td></tr><tr><td class = \"rowNumber\" style = \"font-weight: bold; text-align: right;\">3</td><td style = \"text-align: left;\">Scheme-A ( 0.534, 0.822, 0.337, 0.695)</td><td style = \"text-align: right;\">9</td><td style = \"text-align: right;\">18</td><td style = \"text-align: right;\">6</td><td style = \"text-align: right;\">10</td></tr><tr><td class = \"rowNumber\" style = \"font-weight: bold; text-align: right;\">4</td><td style = \"text-align: left;\">Scheme-A ( 0.403, 0.335, 0.824, 0.585)</td><td style = \"text-align: right;\">9</td><td style = \"text-align: right;\">13</td><td style = \"text-align: right;\">11</td><td style = \"text-align: right;\">14</td></tr><tr><td class = \"rowNumber\" style = \"font-weight: bold; text-align: right;\">5</td><td style = \"text-align: left;\">Scheme-A ( 0.746, 0.440, 0.622, 0.522)</td><td style = \"text-align: right;\">42</td><td style = \"text-align: right;\">5</td><td style = \"text-align: right;\">4</td><td style = \"text-align: right;\">4</td></tr><tr><td class = \"rowNumber\" style = \"font-weight: bold; text-align: right;\">6</td><td style = \"text-align: left;\">Scheme-A ( 0.665, 0.356, 0.743, 0.237)</td><td style = \"text-align: right;\">24</td><td style = \"text-align: right;\">8</td><td style = \"text-align: right;\">7</td><td style = \"text-align: right;\">5</td></tr><tr><td class = \"rowNumber\" style = \"font-weight: bold; text-align: right;\">7</td><td style = \"text-align: left;\">Scheme-A ( 0.233, 0.329, 0.119, 0.973)</td><td style = \"text-align: right;\">3</td><td style = \"text-align: right;\">25</td><td style = \"text-align: right;\">8</td><td style = \"text-align: right;\">12</td></tr><tr><td class = \"rowNumber\" style = \"font-weight: bold; text-align: right;\">8</td><td style = \"text-align: left;\">Scheme-A ( 0.483, 0.739, 0.952, 0.563)</td><td style = \"text-align: right;\">15</td><td style = \"text-align: right;\">9</td><td style = \"text-align: right;\">12</td><td style = \"text-align: right;\">9</td></tr><tr><td class = \"rowNumber\" style = \"font-weight: bold; text-align: right;\">9</td><td style = \"text-align: left;\">Scheme-A ( 0.268, 0.318, 0.370, 0.906)</td><td style = \"text-align: right;\">6</td><td style = \"text-align: right;\">14</td><td style = \"text-align: right;\">10</td><td style = \"text-align: right;\">18</td></tr><tr><td class = \"rowNumber\" style = \"font-weight: bold; text-align: right;\">10</td><td style = \"text-align: left;\">Scheme-A ( 0.296, 0.737, 0.556, 0.666)</td><td style = \"text-align: right;\">6</td><td style = \"text-align: right;\">15</td><td style = \"text-align: right;\">9</td><td style = \"text-align: right;\">17</td></tr></tbody></table></div>"
      ],
      "text/latex": [
       "\\begin{tabular}{r|ccccc}\n",
       "\t& name & h & f & l & t\\\\\n",
       "\t\\hline\n",
       "\t& String & Int64 & Int64 & Int64 & Int64\\\\\n",
       "\t\\hline\n",
       "\t1 & Scheme-A ( 0.105, 0.102, 0.517, 0.121) & 14 & 3 & 23 & 12 \\\\\n",
       "\t2 & Scheme-A ( 0.665, 0.641, 0.839, 0.913) & 11 & 17 & 7 & 8 \\\\\n",
       "\t3 & Scheme-A ( 0.534, 0.822, 0.337, 0.695) & 9 & 18 & 6 & 10 \\\\\n",
       "\t4 & Scheme-A ( 0.403, 0.335, 0.824, 0.585) & 9 & 13 & 11 & 14 \\\\\n",
       "\t5 & Scheme-A ( 0.746, 0.440, 0.622, 0.522) & 42 & 5 & 4 & 4 \\\\\n",
       "\t6 & Scheme-A ( 0.665, 0.356, 0.743, 0.237) & 24 & 8 & 7 & 5 \\\\\n",
       "\t7 & Scheme-A ( 0.233, 0.329, 0.119, 0.973) & 3 & 25 & 8 & 12 \\\\\n",
       "\t8 & Scheme-A ( 0.483, 0.739, 0.952, 0.563) & 15 & 9 & 12 & 9 \\\\\n",
       "\t9 & Scheme-A ( 0.268, 0.318, 0.370, 0.906) & 6 & 14 & 10 & 18 \\\\\n",
       "\t10 & Scheme-A ( 0.296, 0.737, 0.556, 0.666) & 6 & 15 & 9 & 17 \\\\\n",
       "\\end{tabular}\n"
      ],
      "text/plain": [
       "\u001b[1m10×5 DataFrame\u001b[0m\n",
       "\u001b[1m Row \u001b[0m│\u001b[1m name                              \u001b[0m\u001b[1m h     \u001b[0m\u001b[1m f     \u001b[0m\u001b[1m l     \u001b[0m\u001b[1m t     \u001b[0m\n",
       "     │\u001b[90m String                            \u001b[0m\u001b[90m Int64 \u001b[0m\u001b[90m Int64 \u001b[0m\u001b[90m Int64 \u001b[0m\u001b[90m Int64 \u001b[0m\n",
       "─────┼───────────────────────────────────────────────────────────────\n",
       "   1 │ Scheme-A ( 0.105, 0.102, 0.517, …     14      3     23     12\n",
       "   2 │ Scheme-A ( 0.665, 0.641, 0.839, …     11     17      7      8\n",
       "   3 │ Scheme-A ( 0.534, 0.822, 0.337, …      9     18      6     10\n",
       "   4 │ Scheme-A ( 0.403, 0.335, 0.824, …      9     13     11     14\n",
       "   5 │ Scheme-A ( 0.746, 0.440, 0.622, …     42      5      4      4\n",
       "   6 │ Scheme-A ( 0.665, 0.356, 0.743, …     24      8      7      5\n",
       "   7 │ Scheme-A ( 0.233, 0.329, 0.119, …      3     25      8     12\n",
       "   8 │ Scheme-A ( 0.483, 0.739, 0.952, …     15      9     12      9\n",
       "   9 │ Scheme-A ( 0.268, 0.318, 0.370, …      6     14     10     18\n",
       "  10 │ Scheme-A ( 0.296, 0.737, 0.556, …      6     15      9     17"
      ]
     },
     "execution_count": 11,
     "metadata": {},
     "output_type": "execute_result"
    }
   ],
   "source": [
    "rt = random_team(() -> random_scheme_a(), 1000)\n",
    "fighters_to_df(rt)[1:10, :]"
   ]
  },
  {
   "cell_type": "code",
   "execution_count": 12,
   "id": "8ceea0f3",
   "metadata": {},
   "outputs": [
    {
     "data": {
      "text/html": [
       "<div><div style = \"float: left;\"><span>10×5 DataFrame</span></div><div style = \"clear: both;\"></div></div><div class = \"data-frame\" style = \"overflow-x: scroll;\"><table class = \"data-frame\" style = \"margin-bottom: 6px;\"><thead><tr class = \"header\"><th class = \"rowNumber\" style = \"font-weight: bold; text-align: right;\">Row</th><th style = \"text-align: left;\">name</th><th style = \"text-align: left;\">h</th><th style = \"text-align: left;\">f</th><th style = \"text-align: left;\">l</th><th style = \"text-align: left;\">t</th></tr><tr class = \"subheader headerLastRow\"><th class = \"rowNumber\" style = \"font-weight: bold; text-align: right;\"></th><th title = \"String\" style = \"text-align: left;\">String</th><th title = \"Int64\" style = \"text-align: left;\">Int64</th><th title = \"Int64\" style = \"text-align: left;\">Int64</th><th title = \"Int64\" style = \"text-align: left;\">Int64</th><th title = \"Int64\" style = \"text-align: left;\">Int64</th></tr></thead><tbody><tr><td class = \"rowNumber\" style = \"font-weight: bold; text-align: right;\">1</td><td style = \"text-align: left;\">Amazing Mallet</td><td style = \"text-align: right;\">9</td><td style = \"text-align: right;\">8</td><td style = \"text-align: right;\">20</td><td style = \"text-align: right;\">18</td></tr><tr><td class = \"rowNumber\" style = \"font-weight: bold; text-align: right;\">2</td><td style = \"text-align: left;\">Powerful Reign</td><td style = \"text-align: right;\">10</td><td style = \"text-align: right;\">8</td><td style = \"text-align: right;\">18</td><td style = \"text-align: right;\">17</td></tr><tr><td class = \"rowNumber\" style = \"font-weight: bold; text-align: right;\">3</td><td style = \"text-align: left;\">Fradel the Manic</td><td style = \"text-align: right;\">10</td><td style = \"text-align: right;\">8</td><td style = \"text-align: right;\">18</td><td style = \"text-align: right;\">17</td></tr><tr><td class = \"rowNumber\" style = \"font-weight: bold; text-align: right;\">4</td><td style = \"text-align: left;\">Aven the Pizza</td><td style = \"text-align: right;\">10</td><td style = \"text-align: right;\">10</td><td style = \"text-align: right;\">16</td><td style = \"text-align: right;\">14</td></tr><tr><td class = \"rowNumber\" style = \"font-weight: bold; text-align: right;\">5</td><td style = \"text-align: left;\">Classy Baboon</td><td style = \"text-align: right;\">9</td><td style = \"text-align: right;\">10</td><td style = \"text-align: right;\">17</td><td style = \"text-align: right;\">15</td></tr><tr><td class = \"rowNumber\" style = \"font-weight: bold; text-align: right;\">6</td><td style = \"text-align: left;\">Pizza Avalee</td><td style = \"text-align: right;\">10</td><td style = \"text-align: right;\">10</td><td style = \"text-align: right;\">14</td><td style = \"text-align: right;\">16</td></tr><tr><td class = \"rowNumber\" style = \"font-weight: bold; text-align: right;\">7</td><td style = \"text-align: left;\">Esa the Scissors</td><td style = \"text-align: right;\">10</td><td style = \"text-align: right;\">10</td><td style = \"text-align: right;\">14</td><td style = \"text-align: right;\">16</td></tr><tr><td class = \"rowNumber\" style = \"font-weight: bold; text-align: right;\">8</td><td style = \"text-align: left;\">Minimal Pigeon</td><td style = \"text-align: right;\">10</td><td style = \"text-align: right;\">10</td><td style = \"text-align: right;\">18</td><td style = \"text-align: right;\">12</td></tr><tr><td class = \"rowNumber\" style = \"font-weight: bold; text-align: right;\">9</td><td style = \"text-align: left;\">Nice Ox</td><td style = \"text-align: right;\">10</td><td style = \"text-align: right;\">9</td><td style = \"text-align: right;\">17</td><td style = \"text-align: right;\">15</td></tr><tr><td class = \"rowNumber\" style = \"font-weight: bold; text-align: right;\">10</td><td style = \"text-align: left;\">Alexus the Cobbler</td><td style = \"text-align: right;\">10</td><td style = \"text-align: right;\">8</td><td style = \"text-align: right;\">18</td><td style = \"text-align: right;\">17</td></tr></tbody></table></div>"
      ],
      "text/latex": [
       "\\begin{tabular}{r|ccccc}\n",
       "\t& name & h & f & l & t\\\\\n",
       "\t\\hline\n",
       "\t& String & Int64 & Int64 & Int64 & Int64\\\\\n",
       "\t\\hline\n",
       "\t1 & Amazing Mallet & 9 & 8 & 20 & 18 \\\\\n",
       "\t2 & Powerful Reign & 10 & 8 & 18 & 17 \\\\\n",
       "\t3 & Fradel the Manic & 10 & 8 & 18 & 17 \\\\\n",
       "\t4 & Aven the Pizza & 10 & 10 & 16 & 14 \\\\\n",
       "\t5 & Classy Baboon & 9 & 10 & 17 & 15 \\\\\n",
       "\t6 & Pizza Avalee & 10 & 10 & 14 & 16 \\\\\n",
       "\t7 & Esa the Scissors & 10 & 10 & 14 & 16 \\\\\n",
       "\t8 & Minimal Pigeon & 10 & 10 & 18 & 12 \\\\\n",
       "\t9 & Nice Ox & 10 & 9 & 17 & 15 \\\\\n",
       "\t10 & Alexus the Cobbler & 10 & 8 & 18 & 17 \\\\\n",
       "\\end{tabular}\n"
      ],
      "text/plain": [
       "\u001b[1m10×5 DataFrame\u001b[0m\n",
       "\u001b[1m Row \u001b[0m│\u001b[1m name               \u001b[0m\u001b[1m h     \u001b[0m\u001b[1m f     \u001b[0m\u001b[1m l     \u001b[0m\u001b[1m t     \u001b[0m\n",
       "     │\u001b[90m String             \u001b[0m\u001b[90m Int64 \u001b[0m\u001b[90m Int64 \u001b[0m\u001b[90m Int64 \u001b[0m\u001b[90m Int64 \u001b[0m\n",
       "─────┼────────────────────────────────────────────────\n",
       "   1 │ Amazing Mallet          9      8     20     18\n",
       "   2 │ Powerful Reign         10      8     18     17\n",
       "   3 │ Fradel the Manic       10      8     18     17\n",
       "   4 │ Aven the Pizza         10     10     16     14\n",
       "   5 │ Classy Baboon           9     10     17     15\n",
       "   6 │ Pizza Avalee           10     10     14     16\n",
       "   7 │ Esa the Scissors       10     10     14     16\n",
       "   8 │ Minimal Pigeon         10     10     18     12\n",
       "   9 │ Nice Ox                10      9     17     15\n",
       "  10 │ Alexus the Cobbler     10      8     18     17"
      ]
     },
     "execution_count": 12,
     "metadata": {},
     "output_type": "execute_result"
    }
   ],
   "source": [
    "counters = random_team(() -> pick_best_rdmly(library, rt, 99), 100)\n",
    "fighters_to_df(counters)[1:10, :]"
   ]
  },
  {
   "cell_type": "code",
   "execution_count": 13,
   "id": "44cca9f3",
   "metadata": {},
   "outputs": [
    {
     "data": {
      "text/plain": [
       "100-element Vector{Fighter}:\n",
       " Fighter(\"Scheme-A ( 0.417, 0.934, 0.834, 0.893)\", 7, 18, 8, 12)\n",
       " Fighter(\"Scheme-A ( 0.216, 0.509, 0.506, 0.123)\", 17, 4, 18, 6)\n",
       " Fighter(\"Scheme-A ( 0.277, 0.237, 0.529, 0.185)\", 16, 6, 16, 8)\n",
       " Fighter(\"Scheme-A ( 0.663, 0.863, 0.563, 0.536)\", 11, 17, 7, 8)\n",
       " Fighter(\"Scheme-A ( 0.432, 0.738, 0.714, 0.594)\", 24, 5, 10, 8)\n",
       " Fighter(\"Scheme-A ( 0.260, 0.198, 0.868, 0.585)\", 15, 5, 19, 8)\n",
       " Fighter(\"Scheme-A ( 0.278, 0.487, 0.331, 1.047)\", 5, 17, 8, 16)\n",
       " Fighter(\"Scheme-A ( 0.633, 0.294, 0.709, 0.446)\", 10, 17, 6, 10)\n",
       " Fighter(\"Scheme-A ( 0.087, 0.483, 0.499, 0.239)\", 10, 4, 30, 15)\n",
       " Fighter(\"Scheme-A ( 0.646, 0.970, 0.673, 0.617)\", 23, 8, 8, 4)\n",
       " Fighter(\"Scheme-A ( 0.286, 0.349, 0.614, 0.584)\", 18, 5, 15, 8)\n",
       " Fighter(\"Scheme-A ( 0.563, 0.377, 0.470, 0.810)\", 10, 16, 8, 10)\n",
       " Fighter(\"Scheme-A ( 0.025, 0.323, 0.730, 0.657)\", 5, 5, 36, 39)\n",
       " ⋮\n",
       " Fighter(\"Scheme-A ( 0.331, 0.620, 0.577, 0.552)\", 17, 6, 15, 7)\n",
       " Fighter(\"Scheme-A ( 0.572, 0.564, 0.585, 0.932)\", 10, 16, 8, 10)\n",
       " Fighter(\"Scheme-A ( 0.688, 0.485, 0.085, 0.589)\", 5, 36, 8, 5)\n",
       " Fighter(\"Scheme-A ( 0.395, 0.358, 0.966, 0.408)\", 17, 7, 13, 8)\n",
       " Fighter(\"Scheme-A ( 0.297, 0.293, 0.127, 0.372)\", 15, 6, 17, 9)\n",
       " Fighter(\"Scheme-A ( 0.050, 0.363, 1.059, 0.114)\", 18, 2, 19, 11)\n",
       " Fighter(\"Scheme-A ( 0.648, 0.075, 0.540, 0.109)\", 30, 6, 6, 6)\n",
       " Fighter(\"Scheme-A ( 0.601, 0.073, 0.397, 0.103)\", 17, 10, 9, 7)\n",
       " Fighter(\"Scheme-A ( 0.664, 0.368, 1.056, 0.205)\", 30, 6, 6, 6)\n",
       " Fighter(\"Scheme-A ( 0.496, 0.323, 0.825, 0.116)\", 32, 4, 8, 4)\n",
       " Fighter(\"Scheme-A ( 0.038, 0.896, 0.133, 0.806)\", 2, 13, 11, 27)\n",
       " Fighter(\"Scheme-A ( 0.335, 0.722, 0.963, 0.328)\", 17, 6, 15, 7)"
      ]
     },
     "execution_count": 13,
     "metadata": {},
     "output_type": "execute_result"
    }
   ],
   "source": [
    "rt = random_team(() -> random_scheme_a(), 100)"
   ]
  },
  {
   "cell_type": "code",
   "execution_count": 14,
   "id": "dbd44c87",
   "metadata": {
    "scrolled": false
   },
   "outputs": [
    {
     "name": "stdout",
     "output_type": "stream",
     "text": [
      "Fighter(\"Scheme-A ( 0.417, 0.934, 0.834, 0.893)\", 7, 18, 8, 12)\n",
      "-98\n",
      "Fighter(\"Scheme-A ( 0.216, 0.509, 0.506, 0.123)\", 17, 4, 18, 6)\n",
      "40\n",
      "Fighter(\"Scheme-A ( 0.277, 0.237, 0.529, 0.185)\", 16, 6, 16, 8)\n",
      "-44\n",
      "Fighter(\"Scheme-A ( 0.432, 0.738, 0.714, 0.594)\", 24, 5, 10, 8)\n",
      "-100\n",
      "Fighter(\"Scheme-A ( 0.260, 0.198, 0.868, 0.585)\", 15, 5, 19, 8)\n",
      "70\n",
      "Fighter(\"Scheme-A ( 0.278, 0.487, 0.331, 1.047)\", 5, 17, 8, 16)\n",
      "-36\n",
      "Fighter(\"Scheme-A ( 0.633, 0.294, 0.709, 0.446)\", 10, 17, 6, 10)\n",
      "42\n",
      "Fighter(\"Scheme-A ( 0.087, 0.483, 0.499, 0.239)\", 10, 4, 30, 15)\n",
      "42\n",
      "Fighter(\"Scheme-A ( 0.646, 0.970, 0.673, 0.617)\", 23, 8, 8, 4)\n",
      "-98\n",
      "Fighter(\"Scheme-A ( 0.286, 0.349, 0.614, 0.584)\", 18, 5, 15, 8)\n",
      "-54\n",
      "Fighter(\"Scheme-A ( 0.563, 0.377, 0.470, 0.810)\", 10, 16, 8, 10)\n",
      "42\n",
      "Fighter(\"Scheme-A ( 0.025, 0.323, 0.730, 0.657)\", 5, 5, 36, 39)\n",
      "-100\n",
      "Fighter(\"Scheme-A ( 0.465, 0.068, 0.622, 0.592)\", 7, 20, 5, 11)\n",
      "-100\n",
      "Fighter(\"Scheme-A ( 0.400, 0.531, 0.496, 0.742)\", 5, 23, 6, 11)\n",
      "-100\n",
      "Fighter(\"Scheme-A ( 0.407, 0.068, 0.222, 1.062)\", 5, 24, 3, 11)\n",
      "-100\n",
      "Fighter(\"Scheme-A ( 0.663, 0.627, 0.276, 0.546)\", 7, 27, 3, 7)\n",
      "-100\n",
      "Fighter(\"Scheme-A ( 0.727, 0.653, 0.513, 0.255)\", 26, 8, 6, 4)\n",
      "-98\n"
     ]
    }
   ],
   "source": [
    "for f in rt[1:20]\n",
    "    v = eval_battle_list(f, counters)\n",
    "    if v < 90\n",
    "        println(f)\n",
    "        println(v)\n",
    "    end\n",
    "end"
   ]
  },
  {
   "cell_type": "code",
   "execution_count": 15,
   "id": "8ef7c944",
   "metadata": {
    "scrolled": false
   },
   "outputs": [
    {
     "name": "stdout",
     "output_type": "stream",
     "text": [
      "Fighter(\"Amazing Mallet\", 9, 8, 20, 18)\n",
      "30\n",
      "Fighter(\"Powerful Reign\", 10, 8, 18, 17)\n",
      "28\n",
      "Fighter(\"Fradel the Manic\", 10, 8, 18, 17)\n",
      "28\n",
      "Fighter(\"Aven the Pizza\", 10, 10, 16, 14)\n",
      "30\n",
      "Fighter(\"Classy Baboon\", 9, 10, 17, 15)\n",
      "32\n",
      "Fighter(\"Pizza Avalee\", 10, 10, 14, 16)\n",
      "26\n",
      "Fighter(\"Esa the Scissors\", 10, 10, 14, 16)\n",
      "26\n",
      "Fighter(\"Minimal Pigeon\", 10, 10, 18, 12)\n",
      "36\n",
      "Fighter(\"Nice Ox\", 10, 9, 17, 15)\n",
      "14\n",
      "Fighter(\"Alexus the Cobbler\", 10, 8, 18, 17)\n",
      "28\n",
      "Fighter(\"Joking Sphere\", 9, 8, 19, 19)\n",
      "32\n",
      "Fighter(\"Whitney the Kitten\", 10, 9, 17, 15)\n",
      "14\n",
      "Fighter(\"Icy Prankster\", 10, 8, 17, 18)\n",
      "26\n",
      "Fighter(\"Egotistical Pizza\", 10, 10, 14, 16)\n",
      "26\n",
      "Fighter(\"Egotistical Violet\", 10, 9, 17, 15)\n",
      "14\n",
      "Fighter(\"Victorious Artisan\", 11, 9, 14, 16)\n",
      "12\n",
      "Fighter(\"Armie the Phoenix\", 10, 9, 15, 17)\n",
      "16\n",
      "Fighter(\"Giant Lukasey\", 9, 9, 19, 16)\n",
      "24\n",
      "Fighter(\"Millie the Wizard\", 10, 10, 17, 13)\n",
      "34\n",
      "Fighter(\"Xquisite Balloon\", 10, 9, 19, 13)\n",
      "20\n"
     ]
    }
   ],
   "source": [
    "for f in counters[1:20]\n",
    "    v = eval_battle_list(f, rt)\n",
    "    if v < 90\n",
    "        println(f)\n",
    "        println(v)\n",
    "    end\n",
    "end"
   ]
  },
  {
   "cell_type": "code",
   "execution_count": 16,
   "id": "9bd1e936",
   "metadata": {},
   "outputs": [
    {
     "name": "stdout",
     "output_type": "stream",
     "text": [
      "Fighter(\"Scheme-A ( 0.216, 0.509, 0.506, 0.123)\", 17, 4, 18, 6)\n",
      "40\n",
      "Fighter(\"Scheme-A ( 0.663, 0.863, 0.563, 0.536)\", 11, 17, 7, 8)\n",
      "98\n",
      "Fighter(\"Scheme-A ( 0.260, 0.198, 0.868, 0.585)\", 15, 5, 19, 8)\n",
      "70\n",
      "Fighter(\"Scheme-A ( 0.633, 0.294, 0.709, 0.446)\", 10, 17, 6, 10)\n",
      "42\n",
      "Fighter(\"Scheme-A ( 0.087, 0.483, 0.499, 0.239)\", 10, 4, 30, 15)\n",
      "42\n",
      "Fighter(\"Scheme-A ( 0.563, 0.377, 0.470, 0.810)\", 10, 16, 8, 10)\n",
      "42\n",
      "Fighter(\"Scheme-A ( 0.707, 0.139, 1.027, 0.689)\", 17, 11, 8, 7)\n",
      "96\n",
      "Fighter(\"Scheme-A ( 0.160, 0.611, 0.930, 0.415)\", 12, 5, 23, 12)\n",
      "98\n"
     ]
    }
   ],
   "source": [
    "for f in rt[1:20]\n",
    "    v = eval_battle_list(f, counters)\n",
    "    if v > 30\n",
    "        println(f)\n",
    "        println(v)\n",
    "    end\n",
    "end"
   ]
  },
  {
   "cell_type": "code",
   "execution_count": 17,
   "id": "ee86de44",
   "metadata": {},
   "outputs": [
    {
     "data": {
      "text/plain": [
       "-0.47800000000000004"
      ]
     },
     "execution_count": 17,
     "metadata": {},
     "output_type": "execute_result"
    }
   ],
   "source": [
    "evaluate_generator(random_scheme_a, 100, 20)"
   ]
  },
  {
   "cell_type": "code",
   "execution_count": 18,
   "id": "3358f0e4",
   "metadata": {
    "scrolled": true
   },
   "outputs": [
    {
     "data": {
      "text/plain": [
       "-0.8"
      ]
     },
     "execution_count": 18,
     "metadata": {},
     "output_type": "execute_result"
    }
   ],
   "source": [
    "evaluate_generator(random_fighter, 100, 20)"
   ]
  },
  {
   "cell_type": "code",
   "execution_count": 19,
   "id": "cb9a9f36",
   "metadata": {},
   "outputs": [
    {
     "data": {
      "text/plain": [
       "-0.7699999999999998"
      ]
     },
     "execution_count": 19,
     "metadata": {},
     "output_type": "execute_result"
    }
   ],
   "source": [
    "evaluate_generator(() -> random_tournament_winner(1), 100, 20)"
   ]
  },
  {
   "cell_type": "code",
   "execution_count": 20,
   "id": "1c34a0bb",
   "metadata": {},
   "outputs": [
    {
     "data": {
      "text/plain": [
       "-0.7665"
      ]
     },
     "execution_count": 20,
     "metadata": {},
     "output_type": "execute_result"
    }
   ],
   "source": [
    "evaluate_generator(() -> random_tournament_winner(2), 100, 20)"
   ]
  },
  {
   "cell_type": "code",
   "execution_count": 21,
   "id": "ce7d4c91",
   "metadata": {},
   "outputs": [
    {
     "data": {
      "text/plain": [
       "-0.7235000000000001"
      ]
     },
     "execution_count": 21,
     "metadata": {},
     "output_type": "execute_result"
    }
   ],
   "source": [
    "evaluate_generator(() -> random_tournament_winner(3), 100, 20)"
   ]
  },
  {
   "cell_type": "code",
   "execution_count": 22,
   "id": "a1349341",
   "metadata": {},
   "outputs": [
    {
     "data": {
      "text/plain": [
       "-0.6804999999999999"
      ]
     },
     "execution_count": 22,
     "metadata": {},
     "output_type": "execute_result"
    }
   ],
   "source": [
    "evaluate_generator(() -> random_tournament_winner(4), 100, 20)"
   ]
  },
  {
   "cell_type": "markdown",
   "id": "49ae82ed",
   "metadata": {},
   "source": [
    "## Team battles"
   ]
  },
  {
   "cell_type": "code",
   "execution_count": 23,
   "id": "6820abec",
   "metadata": {},
   "outputs": [
    {
     "data": {
      "text/plain": [
       "Fighter(\"Scheme-A ( 0.593, 0.915, 0.791, 1.020)\", 25, 7, 8, 3)"
      ]
     },
     "execution_count": 23,
     "metadata": {},
     "output_type": "execute_result"
    }
   ],
   "source": [
    "random_tournament_winner(2, random_scheme_a)"
   ]
  },
  {
   "cell_type": "code",
   "execution_count": 24,
   "id": "bec40c43",
   "metadata": {},
   "outputs": [
    {
     "data": {
      "text/plain": [
       "100-element Vector{Fighter}:\n",
       " Fighter(\"Kulture the Zinc\", 5, 15, 5, 20)\n",
       " Fighter(\"Spider Densley\", 14, 19, 2, 5)\n",
       " Fighter(\"Adryana the Wise\", 17, 15, 6, 2)\n",
       " Fighter(\"Phoenix Layci\", 19, 4, 13, 19)\n",
       " Fighter(\"Junior Arik\", 20, 5, 13, 8)\n",
       " Fighter(\"Alauna the Spider\", 16, 17, 2, 5)\n",
       " Fighter(\"Slingshot Nadezhda\", 13, 19, 4, 5)\n",
       " Fighter(\"Icosahedron Jerel\", 11, 10, 10, 18)\n",
       " Fighter(\"Ahkeem the Iguana\", 17, 14, 6, 4)\n",
       " Fighter(\"Wanita the Archer\", 7, 15, 7, 16)\n",
       " Fighter(\"Jianni the Merciful\", 20, 8, 10, 5)\n",
       " Fighter(\"Hot Cloud\", 20, 3, 15, 13)\n",
       " Fighter(\"Richie the Tyro\", 16, 8, 15, 4)\n",
       " ⋮\n",
       " Fighter(\"Emilian the Mushroom\", 20, 6, 11, 10)\n",
       " Fighter(\"Lochlan the Kangaroo\", 18, 10, 3, 16)\n",
       " Fighter(\"Hyena Leilan\", 9, 20, 4, 9)\n",
       " Fighter(\"Junior Spider\", 14, 15, 9, 4)\n",
       " Fighter(\"Rahman the Itinerant\", 16, 13, 8, 4)\n",
       " Fighter(\"Balanced Damone\", 18, 6, 14, 6)\n",
       " Fighter(\"Willful Sphere\", 7, 14, 7, 18)\n",
       " Fighter(\"Satsuki the Zany\", 15, 19, 2, 4)\n",
       " Fighter(\"Puppy Jeilanie\", 12, 12, 17, 4)\n",
       " Fighter(\"Zemirah the Boot\", 10, 11, 11, 16)\n",
       " Fighter(\"Jellyfish Aslin\", 20, 9, 10, 2)\n",
       " Fighter(\"Azziah the Frog\", 18, 7, 13, 5)"
      ]
     },
     "execution_count": 24,
     "metadata": {},
     "output_type": "execute_result"
    }
   ],
   "source": [
    "team_a = random_team(() -> rand_rename(random_scheme_a()), 100)\n",
    "team_a1 = random_team(() -> rand_rename(random_tournament_winner(1, random_scheme_a)), 100)\n",
    "team_r0 = random_team(() -> rand_rename(random_tournament_winner(0)), 100)\n",
    "team_r1 = random_team(() -> rand_rename(random_tournament_winner(1)), 100)\n",
    "team_r2 = random_team(() -> rand_rename(random_tournament_winner(2)), 100)\n"
   ]
  },
  {
   "cell_type": "code",
   "execution_count": 25,
   "id": "fa1e5468",
   "metadata": {},
   "outputs": [
    {
     "data": {
      "text/plain": [
       "1"
      ]
     },
     "execution_count": 25,
     "metadata": {},
     "output_type": "execute_result"
    }
   ],
   "source": [
    "eval_team_battle(team_a, counters)"
   ]
  },
  {
   "cell_type": "code",
   "execution_count": 26,
   "id": "984218a2",
   "metadata": {},
   "outputs": [
    {
     "data": {
      "text/plain": [
       "1"
      ]
     },
     "execution_count": 26,
     "metadata": {},
     "output_type": "execute_result"
    }
   ],
   "source": [
    "eval_team_battle(team_a, team_r0)"
   ]
  },
  {
   "cell_type": "code",
   "execution_count": 27,
   "id": "aa047859",
   "metadata": {},
   "outputs": [
    {
     "data": {
      "text/plain": [
       "1"
      ]
     },
     "execution_count": 27,
     "metadata": {},
     "output_type": "execute_result"
    }
   ],
   "source": [
    "eval_team_battle(team_a, team_r1)"
   ]
  },
  {
   "cell_type": "code",
   "execution_count": 28,
   "id": "8ccc5e06",
   "metadata": {},
   "outputs": [
    {
     "data": {
      "text/plain": [
       "1"
      ]
     },
     "execution_count": 28,
     "metadata": {},
     "output_type": "execute_result"
    }
   ],
   "source": [
    "eval_team_battle(team_a, team_r2)"
   ]
  },
  {
   "cell_type": "code",
   "execution_count": 29,
   "id": "4358fc4f",
   "metadata": {},
   "outputs": [
    {
     "data": {
      "text/plain": [
       "-1"
      ]
     },
     "execution_count": 29,
     "metadata": {},
     "output_type": "execute_result"
    }
   ],
   "source": [
    "eval_team_battle(team_a, team_a1)"
   ]
  },
  {
   "cell_type": "code",
   "execution_count": 30,
   "id": "258bba9d",
   "metadata": {},
   "outputs": [
    {
     "data": {
      "text/plain": [
       "-1"
      ]
     },
     "execution_count": 30,
     "metadata": {},
     "output_type": "execute_result"
    }
   ],
   "source": [
    "eval_team_battle(team_r0, team_a)"
   ]
  },
  {
   "cell_type": "code",
   "execution_count": 31,
   "id": "c2cfc07c",
   "metadata": {},
   "outputs": [
    {
     "data": {
      "text/plain": [
       "-1"
      ]
     },
     "execution_count": 31,
     "metadata": {},
     "output_type": "execute_result"
    }
   ],
   "source": [
    "eval_team_battle(team_r0, team_r1)"
   ]
  },
  {
   "cell_type": "code",
   "execution_count": 32,
   "id": "cea97a8d",
   "metadata": {},
   "outputs": [
    {
     "data": {
      "text/plain": [
       "-1"
      ]
     },
     "execution_count": 32,
     "metadata": {},
     "output_type": "execute_result"
    }
   ],
   "source": [
    "eval_team_battle(team_r0, team_r2)"
   ]
  },
  {
   "cell_type": "code",
   "execution_count": 33,
   "id": "55c01f57",
   "metadata": {
    "scrolled": false
   },
   "outputs": [
    {
     "name": "stdout",
     "output_type": "stream",
     "text": [
      "         Fighter(\"Pug Asante\", 8, 15, 8, 14)\n",
      "         Fighter(\"Elevated Hyena\", 5, 21, 4, 13)\n",
      "Pug Asante won against Elevated Hyena\n",
      "         Fighter(\"Blimp Beauty\", 17, 7, 13, 8)\n",
      "Pug Asante lost against Blimp Beauty\n",
      "         Fighter(\"Zoah the Duck\", 20, 10, 7, 6)\n",
      "Zoah the Duck lost against Blimp Beauty\n",
      "         Fighter(\"Rock December\", 5, 21, 4, 13)\n",
      "Rock December won against Blimp Beauty\n",
      "         Fighter(\"Yuritzi the Nutritious\", 12, 4, 25, 13)\n",
      "Rock December won against Yuritzi the Nutritious\n",
      "         Fighter(\"Xray Fareeha\", 4, 16, 8, 19)\n",
      "Rock December lost against Xray Fareeha\n",
      "         Fighter(\"Nadelyn the Pangolin\", 7, 21, 6, 10)\n",
      "Nadelyn the Pangolin lost against Xray Fareeha\n",
      "         Fighter(\"Massive Quilt\", 8, 5, 31, 22)\n",
      "Massive Quilt won against Xray Fareeha\n",
      "         Fighter(\"Duck Najee\", 18, 8, 11, 7)\n",
      "Massive Quilt lost against Duck Najee\n",
      "         Fighter(\"Agile Horse\", 20, 10, 7, 6)\n",
      "Agile Horse lost against Duck Najee\n",
      "         Fighter(\"Wombat Kaylum\", 9, 5, 28, 20)\n",
      "Wombat Kaylum won against Duck Najee\n",
      "         Fighter(\"Nur the Brocolli\", 5, 22, 5, 12)\n",
      "Wombat Kaylum won against Nur the Brocolli\n",
      "         Fighter(\"Brutal Brocolli\", 10, 16, 8, 10)\n",
      "Wombat Kaylum lost against Brutal Brocolli\n",
      "         Fighter(\"Jeilany the Xact\", 7, 26, 5, 7)\n",
      "Jeilany the Xact lost against Brutal Brocolli\n",
      "         Fighter(\"Brandin the Artisan\", 22, 7, 9, 6)\n",
      "Brandin the Artisan won against Brutal Brocolli\n",
      "         Fighter(\"Shiny Fireball\", 4, 16, 8, 19)\n",
      "Brandin the Artisan won against Shiny Fireball\n",
      "         Fighter(\"Bastion the Knight\", 6, 32, 2, 6)\n",
      "Brandin the Artisan won against Bastion the Knight\n",
      "         Fighter(\"Veida the Chihuahua\", 24, 7, 8, 5)\n",
      "Brandin the Artisan won against Veida the Chihuahua\n",
      "         Fighter(\"Superficial Fish\", 6, 25, 4, 9)\n",
      "Brandin the Artisan lost against Superficial Fish\n",
      "         Fighter(\"Philosopher Rance\", 16, 2, 22, 8)\n",
      "Philosopher Rance lost against Superficial Fish\n",
      "         Fighter(\"Energetic Rascal\", 24, 5, 10, 8)\n",
      "Energetic Rascal lost against Superficial Fish\n",
      "         Fighter(\"Lailonnie the Puppy\", 17, 2, 20, 13)\n",
      "Lailonnie the Puppy lost against Superficial Fish\n",
      "         Fighter(\"Saire the Maximal\", 11, 5, 25, 14)\n",
      "Saire the Maximal lost against Superficial Fish\n",
      "         Fighter(\"Zany Philosopher\", 20, 6, 12, 6)\n",
      "Zany Philosopher lost against Superficial Fish\n",
      "         Fighter(\"Zipper Rexford\", 19, 5, 14, 7)\n",
      "Zipper Rexford lost against Superficial Fish\n",
      "         Fighter(\"Ismary the Elevated\", 4, 37, 7, 6)\n",
      "Ismary the Elevated lost against Superficial Fish\n",
      "         Fighter(\"Zookeeper Layleigh\", 10, 19, 5, 8)\n",
      "Zookeeper Layleigh lost against Superficial Fish\n",
      "         Fighter(\"Kooky Pigeon\", 20, 4, 15, 5)\n",
      "Kooky Pigeon lost against Superficial Fish\n",
      "         Fighter(\"Scorpion Demario\", 5, 35, 3, 6)\n",
      "Scorpion Demario lost against Superficial Fish\n",
      "         Fighter(\"Mosquito Amilyah\", 19, 10, 8, 5)\n",
      "Mosquito Amilyah lost against Superficial Fish\n",
      "         Fighter(\"Ingenious Cheese\", 11, 6, 22, 15)\n",
      "Ingenious Cheese won against Superficial Fish\n",
      "         Fighter(\"Balanced Adib\", 11, 3, 29, 16)\n",
      "Ingenious Cheese lost against Balanced Adib\n",
      "         Fighter(\"Enthusiastic Karielle\", 12, 6, 21, 12)\n",
      "Enthusiastic Karielle lost against Balanced Adib\n",
      "         Fighter(\"Mika the Martini\", 12, 7, 19, 12)\n",
      "Mika the Martini lost against Balanced Adib\n",
      "         Fighter(\"Powerful Airplane\", 20, 6, 12, 6)\n",
      "Powerful Airplane lost against Balanced Adib\n",
      "         Fighter(\"Conner the Pig\", 6, 30, 6, 6)\n",
      "Conner the Pig won against Balanced Adib\n",
      "         Fighter(\"Deymar the Shy\", 19, 6, 13, 6)\n",
      "Conner the Pig lost against Deymar the Shy\n",
      "         Fighter(\"Tangled Goldfish\", 19, 6, 13, 6)\n",
      "Tangled Goldfish tied against Deymar the Shy\n",
      "         Fighter(\"Keily the Yoyo\", 9, 17, 8, 10)\n",
      "         Fighter(\"Dragon Zawadi\", 29, 5, 8, 4)\n",
      "Dragon Zawadi lost against Keily the Yoyo\n",
      "         Fighter(\"Jumpy Violin\", 8, 17, 7, 12)\n",
      "Jumpy Violin won against Keily the Yoyo\n",
      "         Fighter(\"Zesty Butler\", 9, 20, 6, 8)\n",
      "Jumpy Violin won against Zesty Butler\n",
      "         Fighter(\"Minimal Aneisha\", 16, 9, 12, 7)\n",
      "Jumpy Violin won against Minimal Aneisha\n",
      "         Fighter(\"Zenley the Pigeon\", 19, 6, 13, 6)\n",
      "Jumpy Violin lost against Zenley the Pigeon\n",
      "         Fighter(\"Atmospheric Yogurt\", 31, 6, 6, 4)\n",
      "Atmospheric Yogurt lost against Zenley the Pigeon\n",
      "         Fighter(\"Renan the Xpanded\", 10, 3, 32, 16)\n",
      "Renan the Xpanded won against Zenley the Pigeon\n",
      "         Fighter(\"Noeh the Lion\", 6, 12, 12, 21)\n",
      "Renan the Xpanded lost against Noeh the Lion\n",
      "         Fighter(\"Zina the Gentle\", 25, 8, 7, 3)\n",
      "Zina the Gentle won against Noeh the Lion\n",
      "         Fighter(\"Taren the Tiger\", 6, 13, 10, 20)\n",
      "Zina the Gentle won against Taren the Tiger\n",
      "         Fighter(\"Politician Karver\", 4, 10, 15, 30)\n",
      "Zina the Gentle won against Politician Karver\n",
      "         Fighter(\"Powerful Camilla\", 5, 11, 14, 25)\n",
      "Zina the Gentle won against Powerful Camilla\n",
      "         Fighter(\"Quilled Pug\", 6, 15, 9, 17)\n",
      "Zina the Gentle won against Quilled Pug\n",
      "         Fighter(\"Pig Lunafreya\", 7, 24, 5, 8)\n",
      "Zina the Gentle won against Pig Lunafreya\n",
      "         Fighter(\"Egotistical Pizza\", 5, 17, 8, 16)\n",
      "Zina the Gentle won against Egotistical Pizza\n",
      "         Fighter(\"Uber Cloud\", 21, 7, 10, 6)\n",
      "Zina the Gentle lost against Uber Cloud\n",
      "         Fighter(\"Kaylonie the Urchin\", 6, 24, 6, 9)\n",
      "Kaylonie the Urchin won against Uber Cloud\n",
      "         Fighter(\"Lelend the Frog\", 9, 21, 4, 8)\n",
      "Kaylonie the Urchin won against Lelend the Frog\n",
      "         Fighter(\"Umbrella Novia\", 23, 7, 9, 4)\n",
      "Kaylonie the Urchin won against Umbrella Novia\n",
      "         Fighter(\"Rylee the Trampoline\", 6, 9, 18, 26)\n",
      "Kaylonie the Urchin lost against Rylee the Trampoline\n",
      "         Fighter(\"Xpanded Dolly\", 8, 4, 35, 22)\n",
      "Xpanded Dolly lost against Rylee the Trampoline\n",
      "         Fighter(\"Xquisite Train\", 7, 13, 12, 17)\n",
      "Xquisite Train lost against Rylee the Trampoline\n",
      "         Fighter(\"Melora the Wombat\", 9, 13, 11, 14)\n",
      "Melora the Wombat lost against Rylee the Trampoline\n",
      "         Fighter(\"Crystal Brocolli\", 2, 21, 11, 16)\n",
      "Crystal Brocolli lost against Rylee the Trampoline\n",
      "         Fighter(\"Aleesia the Engineer\", 5, 16, 9, 17)\n",
      "Aleesia the Engineer lost against Rylee the Trampoline\n",
      "         Fighter(\"Lauralynn the Sombrero\", 12, 6, 21, 12)\n",
      "Lauralynn the Sombrero won against Rylee the Trampoline\n",
      "         Fighter(\"Balloon Tyrian\", 22, 4, 13, 6)\n",
      "Lauralynn the Sombrero won against Balloon Tyrian\n",
      "         Fighter(\"Engineer Elkanah\", 9, 16, 7, 12)\n",
      "Lauralynn the Sombrero lost against Engineer Elkanah\n",
      "         Fighter(\"Laela the Ladder\", 4, 23, 8, 12)\n",
      "Laela the Ladder won against Engineer Elkanah\n",
      "         Fighter(\"Morticia the Mushroom\", 35, 6, 5, 2)\n",
      "Laela the Ladder lost against Morticia the Mushroom\n",
      "         Fighter(\"Elusive Avocado\", 43, 5, 4, 2)\n",
      "Elusive Avocado lost against Morticia the Mushroom\n",
      "         Fighter(\"Little Canard\", 26, 5, 9, 7)\n",
      "Little Canard won against Morticia the Mushroom\n",
      "         Fighter(\"Pug Keidy\", 7, 23, 4, 9)\n",
      "Little Canard won against Pug Keidy\n",
      "         Fighter(\"Irish the Egg\", 26, 5, 9, 7)\n",
      "Little Canard tied against Irish the Egg\n",
      "         Fighter(\"Young Johnna\", 18, 10, 8, 7)\n",
      "         Fighter(\"Diamond Paper\", 18, 8, 11, 7)\n",
      "Diamond Paper won against Young Johnna\n",
      "         Fighter(\"Egotistical Koala\", 6, 16, 8, 16)\n",
      "Diamond Paper won against Egotistical Koala\n",
      "         Fighter(\"Bear Barbie\", 4, 16, 8, 19)\n",
      "Diamond Paper won against Bear Barbie\n",
      "         Fighter(\"Olana the Rhino\", 5, 13, 9, 22)\n",
      "Diamond Paper won against Olana the Rhino\n",
      "         Fighter(\"Airplane Blakleigh\", 18, 3, 18, 7)\n",
      "Diamond Paper lost against Airplane Blakleigh\n",
      "         Fighter(\"Alphonso the Ostrich\", 3, 19, 6, 17)\n",
      "Alphonso the Ostrich won against Airplane Blakleigh\n",
      "         Fighter(\"Jeyko the Coder\", 32, 4, 8, 4)\n",
      "Alphonso the Ostrich lost against Jeyko the Coder\n",
      "         Fighter(\"Mohammed the Slingshot\", 6, 29, 3, 7)\n",
      "Mohammed the Slingshot lost against Jeyko the Coder\n",
      "         Fighter(\"Dangerous Cube\", 5, 11, 14, 25)\n",
      "Dangerous Cube won against Jeyko the Coder\n",
      "         Fighter(\"Slingshot Blessings\", 8, 17, 7, 12)\n",
      "Dangerous Cube won against Slingshot Blessings\n",
      "         Fighter(\"Adib the Paper\", 17, 8, 12, 7)\n",
      "Dangerous Cube lost against Adib the Paper\n",
      "         Fighter(\"Roselynn the Hyena\", 7, 20, 5, 11)\n",
      "Roselynn the Hyena won against Adib the Paper\n",
      "         Fighter(\"Turbo Urchin\", 3, 27, 7, 11)\n",
      "Roselynn the Hyena lost against Turbo Urchin\n",
      "         Fighter(\"Heaven the Blimp\", 23, 4, 12, 8)\n",
      "Heaven the Blimp lost against Turbo Urchin\n",
      "         Fighter(\"Elevated Zair\", 5, 38, 4, 5)\n",
      "Elevated Zair lost against Turbo Urchin\n",
      "         Fighter(\"Cricket Kris\", 14, 9, 13, 10)\n",
      "Cricket Kris lost against Turbo Urchin\n",
      "         Fighter(\"Auriana the Potassium\", 8, 20, 5, 10)\n",
      "Auriana the Potassium lost against Turbo Urchin\n",
      "         Fighter(\"Itinerant Madeleine\", 10, 20, 6, 7)\n",
      "Itinerant Madeleine lost against Turbo Urchin\n",
      "         Fighter(\"Mirela the Giraffe\", 4, 20, 5, 15)\n",
      "Mirela the Giraffe won against Turbo Urchin\n",
      "         Fighter(\"Gallant Harvest\", 4, 9, 19, 32)\n",
      "Mirela the Giraffe lost against Gallant Harvest\n",
      "         Fighter(\"Shy Epicure\", 8, 24, 5, 7)\n",
      "Shy Epicure lost against Gallant Harvest\n",
      "         Fighter(\"Young Violet\", 12, 5, 23, 12)\n",
      "Young Violet won against Gallant Harvest\n",
      "         Fighter(\"Kennidi the Mantis\", 5, 29, 4, 8)\n",
      "Young Violet won against Kennidi the Mantis\n",
      "         Fighter(\"Xabi the Nightingale\", 24, 8, 7, 5)\n",
      "Young Violet won against Xabi the Nightingale\n",
      "         Fighter(\"Zinc Doctor\", 8, 17, 7, 12)\n",
      "Young Violet lost against Zinc Doctor\n",
      "         Fighter(\"Passive Balloon\", 16, 2, 22, 8)\n",
      "Passive Balloon lost against Zinc Doctor\n",
      "         Fighter(\"Butler Stylez\", 22, 3, 14, 8)\n",
      "Butler Stylez won against Zinc Doctor\n",
      "         Fighter(\"Energetic Egg\", 17, 7, 13, 8)\n",
      "Butler Stylez won against Energetic Egg\n",
      "         Fighter(\"Wallet Tyion\", 18, 9, 10, 6)\n",
      "Butler Stylez won against Wallet Tyion\n",
      "         Fighter(\"Kooky Shovel\", 5, 10, 16, 27)\n",
      "Butler Stylez lost against Kooky Shovel\n",
      "         Fighter(\"Daring Gunter\", 9, 5, 28, 20)\n",
      "Daring Gunter lost against Kooky Shovel\n",
      "         Fighter(\"Juma the Warrior\", 5, 10, 14, 28)\n",
      "Juma the Warrior won against Kooky Shovel\n",
      "         Fighter(\"Soldier Aidaly\", 7, 13, 10, 18)\n",
      "Juma the Warrior won against Soldier Aidaly\n",
      "         Fighter(\"Sassy Mouse\", 17, 8, 12, 7)\n",
      "Juma the Warrior lost against Sassy Mouse\n",
      "         Fighter(\"Zannah the Yoyo\", 10, 16, 8, 10)\n",
      "Zannah the Yoyo lost against Sassy Mouse\n",
      "         Fighter(\"Ahziya the Giraffe\", 5, 23, 6, 11)\n",
      "Ahziya the Giraffe won against Sassy Mouse\n",
      "         Fighter(\"Sparkling Airplane\", 18, 4, 17, 5)\n",
      "Ahziya the Giraffe won against Sparkling Airplane\n",
      "         Fighter(\"Quilled Rogue\", 21, 7, 10, 6)\n",
      "Ahziya the Giraffe won against Quilled Rogue\n",
      "         Fighter(\"Jame the Rock\", 8, 18, 7, 11)\n",
      "Ahziya the Giraffe lost against Jame the Rock\n",
      "         Fighter(\"Lyn the Quilled\", 3, 24, 5, 13)\n",
      "Lyn the Quilled won against Jame the Rock\n",
      "         Fighter(\"Toney the Fireball\", 4, 11, 12, 28)\n",
      "Lyn the Quilled lost against Toney the Fireball\n",
      "         Fighter(\"Kitten Letty\", 14, 6, 18, 10)\n",
      "Kitten Letty won against Toney the Fireball\n",
      "         Fighter(\"Hammer Tommie\", 3, 19, 6, 17)\n",
      "Kitten Letty lost against Hammer Tommie\n",
      "         Fighter(\"Itinerant Korinna\", 4, 26, 9, 10)\n",
      "Itinerant Korinna lost against Hammer Tommie\n",
      "         Fighter(\"Navi the Furry\", 25, 8, 7, 3)\n",
      "Navi the Furry won against Hammer Tommie\n",
      "         Fighter(\"Dheeran the Iguana\", 9, 22, 5, 7)\n",
      "Navi the Furry won against Dheeran the Iguana\n",
      "         Fighter(\"Cat Khristian\", 10, 5, 28, 14)\n",
      "Navi the Furry lost against Cat Khristian\n",
      "         Fighter(\"Truce the Ninja\", 7, 26, 5, 7)\n",
      "Truce the Ninja won against Cat Khristian\n",
      "         Fighter(\"Heron Kvion\", 9, 24, 4, 6)\n",
      "Truce the Ninja won against Heron Kvion\n",
      "         Fighter(\"Potassium Cloud\", 25, 8, 7, 3)\n",
      "Truce the Ninja won against Potassium Cloud\n",
      "         Fighter(\"Sassy Rhino\", 4, 17, 6, 18)\n",
      "Truce the Ninja lost against Sassy Rhino\n",
      "         Fighter(\"Xcecutive Anh\", 5, 22, 5, 12)\n",
      "Xcecutive Anh lost against Sassy Rhino\n",
      "         Fighter(\"Unreliable Lamp\", 6, 22, 4, 11)\n",
      "Unreliable Lamp lost against Sassy Rhino\n",
      "         Fighter(\"Seasoned Aariah\", 9, 23, 6, 6)\n",
      "Seasoned Aariah lost against Sassy Rhino\n",
      "         Fighter(\"Xray Oliwia\", 5, 19, 7, 14)\n",
      "Xray Oliwia lost against Sassy Rhino\n",
      "         Fighter(\"Jb the Underwater\", 25, 6, 9, 4)\n",
      "Jb the Underwater won against Sassy Rhino\n",
      "         Fighter(\"Hajara the Scorpion\", 6, 35, 2, 5)\n",
      "Jb the Underwater lost against Hajara the Scorpion\n",
      "         Fighter(\"Canard Aleiza\", 16, 9, 11, 8)\n",
      "Canard Aleiza won against Hajara the Scorpion\n",
      "         Fighter(\"Itinerant Natania\", 10, 16, 8, 10)\n",
      "Canard Aleiza lost against Itinerant Natania\n",
      "         Fighter(\"Fletcher the Blimp\", 19, 5, 14, 7)\n",
      "Fletcher the Blimp won against Itinerant Natania\n",
      "         Fighter(\"Lucid Orangutan\", 9, 17, 6, 11)\n",
      "Fletcher the Blimp won against Lucid Orangutan\n",
      "         Fighter(\"Wills the Archer\", 8, 15, 8, 14)\n",
      "Fletcher the Blimp won against Wills the Archer\n",
      "         Fighter(\"Beautiful Pangolin\", 5, 20, 8, 13)\n",
      "Fletcher the Blimp lost against Beautiful Pangolin\n",
      "         Fighter(\"Maryhelen the Hungry\", 7, 24, 5, 8)\n",
      "Maryhelen the Hungry lost against Beautiful Pangolin\n",
      "         Fighter(\"Lamp Emmit\", 5, 25, 5, 10)\n",
      "Lamp Emmit lost against Beautiful Pangolin\n",
      "         Fighter(\"Zinc Samurai\", 5, 12, 12, 23)\n",
      "Zinc Samurai won against Beautiful Pangolin\n",
      "         Fighter(\"Ingenious Ninja\", 5, 25, 5, 10)\n",
      "Zinc Samurai won against Ingenious Ninja\n",
      "         Fighter(\"Channel the Minimal\", 18, 7, 12, 8)\n",
      "Zinc Samurai lost against Channel the Minimal\n",
      "         Fighter(\"Militant Julani\", 21, 10, 7, 4)\n",
      "Militant Julani lost against Channel the Minimal\n",
      "         Fighter(\"Wilian the Heron\", 6, 30, 6, 6)\n",
      "Wilian the Heron lost against Channel the Minimal\n",
      "         Fighter(\"Heroic Eunice\", 7, 22, 6, 9)\n",
      "Heroic Eunice won against Channel the Minimal\n",
      "         Fighter(\"Hoy the Laptop\", 8, 24, 5, 7)\n",
      "Heroic Eunice won against Hoy the Laptop\n",
      "         Fighter(\"Kayson the Gemstone\", 14, 4, 22, 9)\n",
      "Heroic Eunice won against Kayson the Gemstone\n",
      "         Fighter(\"Jacket Akim\", 19, 5, 14, 7)\n",
      "Heroic Eunice won against Jacket Akim\n",
      "         Fighter(\"Maynor the Neurotic\", 26, 7, 7, 5)\n",
      "Heroic Eunice lost against Maynor the Neurotic\n",
      "         Fighter(\"Rhet the Phoenix\", 9, 6, 26, 18)\n",
      "Rhet the Phoenix won against Maynor the Neurotic\n",
      "         Fighter(\"Disciplined Yardstick\", 10, 19, 5, 8)\n",
      "Rhet the Phoenix lost against Disciplined Yardstick\n",
      "         Fighter(\"Goldfish Junaid\", 17, 6, 15, 7)\n",
      "Goldfish Junaid lost against Disciplined Yardstick\n",
      "         Fighter(\"Original Mushroom\", 22, 7, 9, 6)\n",
      "Original Mushroom won against Disciplined Yardstick\n",
      "         Fighter(\"Lucilla the Paper\", 17, 2, 21, 4)\n",
      "Original Mushroom lost against Lucilla the Paper\n",
      "         Fighter(\"Energetic Neriyah\", 25, 7, 8, 3)\n",
      "Energetic Neriyah lost against Lucilla the Paper\n",
      "         Fighter(\"Wolf Novian\", 8, 18, 7, 11)\n",
      "Wolf Novian won against Lucilla the Paper\n",
      "         Fighter(\"Vain Trampoline\", 5, 8, 24, 30)\n",
      "Wolf Novian lost against Vain Trampoline\n",
      "         Fighter(\"Khayri the Mushroom\", 24, 7, 8, 5)\n",
      "Khayri the Mushroom won against Vain Trampoline\n",
      "         Fighter(\"Giraffe Reyanne\", 8, 12, 12, 17)\n",
      "Khayri the Mushroom lost against Giraffe Reyanne\n",
      "         Fighter(\"Triangle Alhassane\", 4, 19, 5, 16)\n",
      "Triangle Alhassane lost against Giraffe Reyanne\n",
      "         Fighter(\"Reeyansh the Rock\", 5, 12, 12, 23)\n",
      "Reeyansh the Rock won against Giraffe Reyanne\n",
      "         Fighter(\"Ninja Zakye\", 7, 22, 6, 9)\n",
      "Reeyansh the Rock won against Ninja Zakye\n",
      "         Fighter(\"Demarko the Engineer\", 9, 14, 10, 13)\n",
      "Reeyansh the Rock won against Demarko the Engineer\n",
      "         Fighter(\"Sheltering Jazai\", 25, 6, 9, 4)\n",
      "Reeyansh the Rock lost against Sheltering Jazai\n",
      "         Fighter(\"Poet Alauna\", 14, 3, 24, 7)\n",
      "Poet Alauna won against Sheltering Jazai\n",
      "         Fighter(\"Macie the Rhino\", 5, 12, 12, 23)\n",
      "Poet Alauna won against Macie the Rhino\n",
      "         Fighter(\"Dennise the Egg\", 17, 8, 12, 7)\n",
      "Poet Alauna won against Dennise the Egg\n",
      "         Fighter(\"Unicorn Dekhari\", 15, 5, 19, 8)\n",
      "Poet Alauna won against Unicorn Dekhari\n",
      "         Fighter(\"Nice Cheetah\", 17, 8, 12, 7)\n",
      "Poet Alauna won against Nice Cheetah\n",
      "         Fighter(\"Xray Gricelda\", 3, 24, 5, 13)\n",
      "Poet Alauna lost against Xray Gricelda\n",
      "         Fighter(\"Duck Kaomi\", 31, 3, 9, 9)\n",
      "Duck Kaomi won against Xray Gricelda\n",
      "         Fighter(\"Dalyss the Monstrous\", 6, 17, 7, 15)\n",
      "Duck Kaomi won against Dalyss the Monstrous\n",
      "         Fighter(\"Maverick the Fish\", 17, 8, 12, 7)\n",
      "Duck Kaomi lost against Maverick the Fish\n",
      "         Fighter(\"Cosmic Lavelle\", 8, 4, 35, 22)\n",
      "Cosmic Lavelle lost against Maverick the Fish\n",
      "         Fighter(\"Asha the Balanced\", 21, 8, 9, 5)\n",
      "Asha the Balanced lost against Maverick the Fish\n",
      "         Fighter(\"Likable Beetle\", 12, 5, 23, 12)\n",
      "Likable Beetle won against Maverick the Fish\n",
      "         Fighter(\"Sakai the Turbo\", 18, 10, 9, 5)\n",
      "Likable Beetle won against Sakai the Turbo\n",
      "         Fighter(\"Diamond Cricket\", 11, 7, 20, 14)\n",
      "Likable Beetle won against Diamond Cricket\n",
      "         Fighter(\"Piano Sabre\", 4, 12, 10, 26)\n",
      "Likable Beetle lost against Piano Sabre\n",
      "         Fighter(\"Nakyah the Ninja\", 8, 22, 6, 8)\n",
      "Nakyah the Ninja lost against Piano Sabre\n",
      "         Fighter(\"Cricket Philo\", 16, 9, 12, 7)\n",
      "Cricket Philo won against Piano Sabre\n"
     ]
    },
    {
     "name": "stdout",
     "output_type": "stream",
     "text": [
      "         Fighter(\"Dorie the Rogue\", 16, 4, 19, 8)\n",
      "Cricket Philo lost against Dorie the Rogue\n",
      "         Fighter(\"Martini Courtney\", 17, 7, 13, 8)\n",
      "Martini Courtney lost against Dorie the Rogue\n",
      "         Fighter(\"Knight Hawthorn\", 6, 25, 4, 9)\n",
      "Knight Hawthorn won against Dorie the Rogue\n",
      "         Fighter(\"Enthusiastic Warthog\", 7, 18, 8, 12)\n",
      "Knight Hawthorn lost against Enthusiastic Warthog\n",
      "         Fighter(\"Aggressive Ladder\", 3, 11, 12, 30)\n",
      "Aggressive Ladder won against Enthusiastic Warthog\n",
      "         Fighter(\"Militant Cube\", 6, 14, 10, 18)\n",
      "Aggressive Ladder won against Militant Cube\n",
      "         Fighter(\"Cobbler Krista\", 12, 5, 23, 12)\n",
      "Aggressive Ladder lost against Cobbler Krista\n",
      "         Fighter(\"Strong Blanket\", 19, 9, 9, 6)\n",
      "Strong Blanket lost against Cobbler Krista\n",
      "         Fighter(\"Wombat Moncler\", 10, 17, 6, 10)\n",
      "Wombat Moncler won against Cobbler Krista\n",
      "         Fighter(\"Timberly the Cat\", 12, 6, 21, 12)\n",
      "Wombat Moncler won against Timberly the Cat\n",
      "         Fighter(\"Slingshot Kesiah\", 7, 26, 5, 7)\n",
      "Wombat Moncler won against Slingshot Kesiah\n",
      "         Fighter(\"Rylyn the Egg\", 18, 8, 11, 7)\n",
      "Wombat Moncler lost against Rylyn the Egg\n",
      "         Fighter(\"Zeniya the Commander\", 8, 17, 7, 12)\n",
      "Zeniya the Commander lost against Rylyn the Egg\n",
      "         Fighter(\"Victorious Arden\", 8, 5, 30, 24)\n",
      "Victorious Arden lost against Rylyn the Egg\n",
      "         "
     ]
    },
    {
     "ename": "LoadError",
     "evalue": "BoundsError: attempt to access 100-element Vector{Fighter} at index [101]",
     "output_type": "error",
     "traceback": [
      "BoundsError: attempt to access 100-element Vector{Fighter} at index [101]",
      "",
      "Stacktrace:",
      " [1] getindex(A::Vector{Fighter}, i1::Int64)",
      "   @ Base ./essentials.jl:13",
      " [2] top-level scope",
      "   @ ./In[33]:27"
     ]
    }
   ],
   "source": [
    "as = team_a\n",
    "bs = team_a1\n",
    "a_i = 1\n",
    "b_i = 1\n",
    "print(\"         \")\n",
    "println(as[a_i])\n",
    "print(\"         \")\n",
    "println(bs[b_i])\n",
    "while (a_i <= length(as)) && (b_i <= length(bs))\n",
    "    res = eval_battle(as[a_i], bs[b_i])\n",
    "    if res == 1\n",
    "        println(string(as[a_i].name, \" won against \", bs[b_i].name))\n",
    "        b_i = b_i + 1\n",
    "        print(\"         \")\n",
    "        println(bs[b_i])\n",
    "    else\n",
    "        if res == 0\n",
    "            println(string(as[a_i].name, \" tied against \", bs[b_i].name))\n",
    "            b_i = b_i + 1\n",
    "            print(\"         \")\n",
    "            println(bs[b_i])\n",
    "        else\n",
    "            println(string(as[a_i].name, \" lost against \", bs[b_i].name))\n",
    "        end\n",
    "        a_i = a_i + 1\n",
    "        print(\"         \")\n",
    "        println(as[a_i])\n",
    "    end\n",
    "end\n",
    "a_out = (a_i > length(as))\n",
    "b_out = (b_i > length(as))\n",
    "if a_out\n",
    "    if b_out\n",
    "        return 0\n",
    "    else\n",
    "        return -1\n",
    "    end\n",
    "else\n",
    "    return 1\n",
    "end\n"
   ]
  },
  {
   "cell_type": "code",
   "execution_count": 34,
   "id": "ac317ca9",
   "metadata": {},
   "outputs": [
    {
     "data": {
      "text/plain": [
       "(101, 96)"
      ]
     },
     "execution_count": 34,
     "metadata": {},
     "output_type": "execute_result"
    }
   ],
   "source": [
    "a_i, b_i"
   ]
  },
  {
   "cell_type": "code",
   "execution_count": null,
   "id": "5843c735",
   "metadata": {},
   "outputs": [],
   "source": []
  },
  {
   "cell_type": "code",
   "execution_count": null,
   "id": "032d8906",
   "metadata": {},
   "outputs": [],
   "source": []
  }
 ],
 "metadata": {
  "kernelspec": {
   "display_name": "Julia 1.9.3",
   "language": "julia",
   "name": "julia-1.9"
  },
  "language_info": {
   "file_extension": ".jl",
   "mimetype": "application/julia",
   "name": "julia",
   "version": "1.9.3"
  }
 },
 "nbformat": 4,
 "nbformat_minor": 5
}

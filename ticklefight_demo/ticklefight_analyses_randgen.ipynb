{
 "cells": [
  {
   "cell_type": "code",
   "execution_count": 71,
   "id": "560e9539",
   "metadata": {},
   "outputs": [
    {
     "data": {
      "text/plain": [
       "fpart (generic function with 1 method)"
      ]
     },
     "execution_count": 71,
     "metadata": {},
     "output_type": "execute_result"
    }
   ],
   "source": [
    "using Random\n",
    "using DataFrames\n",
    "using CSV\n",
    "\n",
    "struct Fighter\n",
    "    name::String\n",
    "    h::Int16\n",
    "    f::Int16\n",
    "    l::Int16\n",
    "    t::Int16\n",
    "end\n",
    "\n",
    "const MXS = 400\n",
    "const MXV = 40\n",
    "const MNV = 2\n",
    "\n",
    "function random_fighter(h0::Int = MNV, f0::Int = MNV, l0::Int = MNV, t0::Int = MNV)::Fighter\n",
    "    flag = true\n",
    "    while flag\n",
    "        h = h0 + rand(0:(MXV - h0), 1)[1]\n",
    "        f = f0 + rand(0:(MXV - f0), 1)[1]\n",
    "        l = l0 + rand(0:(MXV - l0), 1)[1]\n",
    "        t = t0 + rand(0:(MXV - t0), 1)[1]\n",
    "        mm = minimum([h, f])\n",
    "        budget = h*f+h*l+f*t\n",
    "        if budget <= MXS && budget + mm > MXS\n",
    "            flag = false\n",
    "            return Fighter(\"No Name\", h, f, l, t)\n",
    "        end\n",
    "    end\n",
    "end\n",
    "\n",
    "function eval_battle(a::Fighter, b::Fighter)::Int\n",
    "    a_finds = a.f >= b.h\n",
    "    b_finds = b.f >= a.h\n",
    "    if a_finds && b_finds\n",
    "        if a.t > b.t\n",
    "            return 1\n",
    "        end\n",
    "        if a.t < b.t\n",
    "            return -1\n",
    "        end\n",
    "        if a.t == b.t\n",
    "            if a.l > b.l\n",
    "                return 1\n",
    "            end\n",
    "            if a.l < b.l\n",
    "                return -1\n",
    "            end\n",
    "            if a.l == b.l\n",
    "                if a.h > b.h\n",
    "                    return 1\n",
    "                end\n",
    "                if a.h < b.h\n",
    "                    return -1\n",
    "                end\n",
    "                if a.h == b.h\n",
    "                    return 0\n",
    "                end\n",
    "            end\n",
    "        end\n",
    "    end\n",
    "    if a_finds && !b_finds\n",
    "        return 1\n",
    "    end\n",
    "    if !a_finds && b_finds\n",
    "        return -1\n",
    "    end\n",
    "    if !a_finds && !b_finds\n",
    "        if a.l > b.l\n",
    "            return 1\n",
    "        end\n",
    "        if a.l < b.l\n",
    "            return -1\n",
    "        end\n",
    "        if a.l == b.l\n",
    "            if a.t > b.t\n",
    "                return 1\n",
    "            end\n",
    "            if a.t < b.t\n",
    "                return -1\n",
    "            end\n",
    "            if a.t == b.t\n",
    "                if a.f > b.f\n",
    "                    return 1\n",
    "                end\n",
    "                if a.f < b.f\n",
    "                    return -1\n",
    "                end\n",
    "                if a.f == b.f\n",
    "                    return 0\n",
    "                end\n",
    "            end\n",
    "        end\n",
    "    end\n",
    "end\n",
    "\n",
    "function random_tournament_winner(c::Int)::Fighter\n",
    "    if c==0\n",
    "        return random_fighter()\n",
    "    end\n",
    "    a = random_tournament_winner(c-1)\n",
    "    b = random_tournament_winner(c-1)\n",
    "    res = eval_battle(a, b)\n",
    "    if res == 1\n",
    "        return a\n",
    "    else\n",
    "        return b\n",
    "    end\n",
    "end\n",
    "\n",
    "\n",
    "tab = CSV.read(\"census_yob2022_names.txt\", DataFrame, header = false)\n",
    "names = tab.Column1\n",
    "adjectives = CSV.read(\"adjectives.csv\", DataFrame)\n",
    "nouns = CSV.read(\"nouns.csv\", DataFrame)\n",
    "\n",
    "function random_name_and_stat()::Fighter\n",
    "    vp = [0, 0, 0, 0]\n",
    "    nametype = rand(1:5)\n",
    "    name = \"\"\n",
    "    if nametype == 1 || nametype == 2\n",
    "        nm = rand(names)\n",
    "        adj_i = rand(1:nrow(adjectives))\n",
    "        adj = adjectives[adj_i, :adjective]\n",
    "        vp[1] = vp[1] + adjectives[adj_i, :H]\n",
    "        vp[2] = vp[2] + adjectives[adj_i, :F]\n",
    "        vp[3] = vp[3] + adjectives[adj_i, :L]\n",
    "        vp[4] = vp[4] + adjectives[adj_i, :T]\n",
    "        if nametype == 1\n",
    "            name = string(nm, \" the \", adj)\n",
    "        end\n",
    "        if nametype == 2\n",
    "            name = string(adj, \" \", nm)\n",
    "        end\n",
    "    end\n",
    "    if nametype == 3 || nametype == 4\n",
    "        nm = rand(names)\n",
    "        noun_i = rand(1:nrow(nouns))\n",
    "        noun = nouns[noun_i, :noun]\n",
    "        vp[1] = vp[1] + nouns[noun_i, :H]\n",
    "        vp[2] = vp[2] + nouns[noun_i, :F]\n",
    "        vp[3] = vp[3] + nouns[noun_i, :L]\n",
    "        vp[4] = vp[4] + nouns[noun_i, :T]    \n",
    "        if nametype == 3\n",
    "            name = string(nm, \" the \", noun)\n",
    "        end\n",
    "        if nametype == 4\n",
    "            name = string(noun, \" \", nm)\n",
    "        end\n",
    "    end\n",
    "    if nametype == 5\n",
    "        adj_i = rand(1:nrow(adjectives))\n",
    "        adj = adjectives[adj_i, :adjective]\n",
    "        vp[1] = vp[1] + adjectives[adj_i, :H]\n",
    "        vp[2] = vp[2] + adjectives[adj_i, :F]\n",
    "        vp[3] = vp[3] + adjectives[adj_i, :L]\n",
    "        vp[4] = vp[4] + adjectives[adj_i, :T]\n",
    "        noun_i = rand(1:nrow(nouns))\n",
    "        noun = nouns[noun_i, :noun]\n",
    "        vp[1] = vp[1] + nouns[noun_i, :H]\n",
    "        vp[2] = vp[2] + nouns[noun_i, :F]\n",
    "        vp[3] = vp[3] + nouns[noun_i, :L]\n",
    "        vp[4] = vp[4] + nouns[noun_i, :T]    \n",
    "        name = string(adj, \" \", noun)\n",
    "    end\n",
    "    Fighter(name, vp[1], vp[2], vp[3], vp[4])\n",
    "end\n",
    "\n",
    "function rand_rename(a::Fighter, n_tries::Int = 10)::Fighter\n",
    "    best_score = 0.0\n",
    "    best_b = random_name_and_stat()\n",
    "    for ii in 1:n_tries\n",
    "        b = random_name_and_stat()\n",
    "        b_norm = sqrt(b.h^2 + b.f^2 + b.l^2 + b.t^2)\n",
    "        score = (a.h * b.h + a.f * b.f + a.l * b.l + a.t * b.t)/b_norm\n",
    "        if score > best_score\n",
    "            best_score = score\n",
    "            best_b = b\n",
    "        end\n",
    "    end\n",
    "    return Fighter(best_b.name, a.h, a.f, a.l, a.t)\n",
    "end\n",
    "\n",
    "function eval_battle_list(a::Fighter, bs::Array{Fighter})::Int\n",
    "    score = 0\n",
    "    for ii in 1:length(bs)\n",
    "        score = score + eval_battle(a, bs[ii])\n",
    "    end\n",
    "    return score\n",
    "end\n",
    "\n",
    "function pick_best(as::Array{Fighter}, bs::Array{Fighter})::Fighter\n",
    "    bestscore = -999\n",
    "    bestf = as[1]\n",
    "    for ii in 1:length(as)\n",
    "        score = eval_battle_list(as[ii], bs)\n",
    "        if score > bestscore\n",
    "            bestscore = score\n",
    "            bestf = as[ii]\n",
    "        end\n",
    "    end\n",
    "    return bestf\n",
    "end\n",
    "\n",
    "function pick_best_rdmly(as::Array{Fighter}, bs::Array{Fighter}, ntries::Int)::Fighter\n",
    "    bestscore = -999\n",
    "    bestf = rand(as)\n",
    "    for ii in 1:ntries\n",
    "        f = rand(as)\n",
    "        score = eval_battle_list(f, bs)\n",
    "        if score > bestscore\n",
    "            bestscore = score\n",
    "            bestf = f\n",
    "        end\n",
    "    end\n",
    "    return bestf\n",
    "end\n",
    "\n",
    "function fighters_to_df(as::Array{Fighter})::DataFrame\n",
    "    names = Array{String}(undef, length(as))\n",
    "    hs = Array{Int}(undef, length(as))\n",
    "    fs = Array{Int}(undef, length(as))\n",
    "    ls = Array{Int}(undef, length(as))\n",
    "    ts = Array{Int}(undef, length(as))\n",
    "    for ii in 1:length(as)\n",
    "        names[ii] = as[ii].name\n",
    "        hs[ii] = as[ii].h\n",
    "        fs[ii] = as[ii].f\n",
    "        ls[ii] = as[ii].l\n",
    "        ts[ii] = as[ii].t    \n",
    "    end\n",
    "    df = DataFrame(name = names, h = hs, f = fs, l = ls, t = ts)\n",
    "    return df\n",
    "end\n",
    "\n",
    "function fpart(x::AbstractFloat)::AbstractFloat\n",
    "  return x - trunc(x)\n",
    "end"
   ]
  },
  {
   "cell_type": "code",
   "execution_count": 12,
   "id": "9107f2e4",
   "metadata": {},
   "outputs": [
    {
     "data": {
      "text/plain": [
       "random_team (generic function with 1 method)"
      ]
     },
     "execution_count": 12,
     "metadata": {},
     "output_type": "execute_result"
    }
   ],
   "source": [
    "function random_team(f::Function, team_size::Int)::Array{Fighter}\n",
    "    team = Array{Fighter}(undef, team_size)\n",
    "    for i in 1:team_size\n",
    "        team[i] = f()\n",
    "    end\n",
    "    return team\n",
    "end"
   ]
  },
  {
   "cell_type": "code",
   "execution_count": 2,
   "id": "a3114a28",
   "metadata": {},
   "outputs": [],
   "source": [
    "library = Array{Fighter}(undef, 100000)\n",
    "for i in 1:100000\n",
    "    library[i] = rand_rename(random_fighter())\n",
    "end"
   ]
  },
  {
   "cell_type": "code",
   "execution_count": 3,
   "id": "b27b391a",
   "metadata": {},
   "outputs": [
    {
     "data": {
      "text/plain": [
       "evaluate_generator (generic function with 1 method)"
      ]
     },
     "execution_count": 3,
     "metadata": {},
     "output_type": "execute_result"
    }
   ],
   "source": [
    "function evaluate_generator(f::Function, team_size::Int)::AbstractFloat\n",
    "    team = Array{Fighter}(undef, team_size)\n",
    "    for i in 1:team_size\n",
    "        team[i] = f()\n",
    "    end\n",
    "    bestscore = 999999\n",
    "    exploiter = library[1]\n",
    "    for i in 1:length(library)\n",
    "        fighter = library[i]\n",
    "        score = 0\n",
    "        for j in 1:team_size\n",
    "            score = score + eval_battle(team[j], fighter)\n",
    "        end\n",
    "        if score < bestscore\n",
    "            bestscore = score\n",
    "            exploiter = library[i]\n",
    "        end\n",
    "    end\n",
    "    print(exploiter)\n",
    "    return bestscore/team_size\n",
    "end"
   ]
  },
  {
   "cell_type": "code",
   "execution_count": 226,
   "id": "2c634634",
   "metadata": {},
   "outputs": [
    {
     "data": {
      "text/plain": [
       "random_scheme_a (generic function with 6 methods)"
      ]
     },
     "execution_count": 226,
     "metadata": {},
     "output_type": "execute_result"
    }
   ],
   "source": [
    "# new random generation to more closely approximate Nash\n",
    "function random_scheme_a(budget::Int = MXS, h0::Int = MNV, f0::Int = MNV, l0::Int = MNV, t0::Int = MNV)::Fighter\n",
    "    budget_sofar = budget + 1\n",
    "    while budget_sofar > budget\n",
    "        hf_ratio = rand()^(0.8)\n",
    "        l_ratio = rand()\n",
    "        h_temp = rand() + 0.5\n",
    "        f_temp = rand() + 0.5\n",
    "        budget_hf = (0.05 + hf_ratio * 0.9) * (budget * .7)\n",
    "        h_ratio = h_temp/sqrt(h_temp * f_temp)\n",
    "        f_ratio = f_temp/sqrt(h_temp * f_temp)\n",
    "        h = max(h0, round(sqrt(budget_hf) * h_ratio))\n",
    "        f = max(f0, round(sqrt(budget_hf) * f_ratio))\n",
    "        budget_hf = h * f\n",
    "        budget_remain = (budget - budget_hf) - (l0 * h + t0 * f)\n",
    "        l_ratio2 = (l_ratio * h)/(l_ratio * h + (1-l_ratio) * f)\n",
    "        lraw = l0 + ( budget_remain * l_ratio2 )/h\n",
    "        traw = t0 + ( budget_remain * (1 - l_ratio2) )/f\n",
    "        l = trunc(lraw)\n",
    "        t = trunc(traw)\n",
    "        budget_sofar = h * f + h * l + f * t\n",
    "        if (budget - budget_sofar) >= min(h, f)\n",
    "            could_add_l = (budget - budget_sofar) >= h\n",
    "            could_add_t = (budget - budget_sofar) >= f\n",
    "            if could_add_l && !could_add_t\n",
    "                l = l+trunc((budget - budget_sofar)/h)\n",
    "            end\n",
    "            if !could_add_l && could_add_t\n",
    "                t = t+trunc((budget - budget_sofar)/f)\n",
    "            end\n",
    "            if could_add_l && could_add_t\n",
    "                if fpart(lraw) > fpart(traw)\n",
    "                    l = l+trunc((budget - budget_sofar)/h)\n",
    "                else\n",
    "                    t = t+trunc((budget - budget_sofar)/f)\n",
    "                end\n",
    "            end\n",
    "        end\n",
    "    end\n",
    "    h = convert(Int, h)\n",
    "    f = convert(Int, f)\n",
    "    l = convert(Int, l)\n",
    "    t = convert(Int, t)  \n",
    "    return Fighter(\"No Name [Scheme A]\", h, f, l, t)\n",
    "end\n",
    "\n"
   ]
  },
  {
   "cell_type": "code",
   "execution_count": 227,
   "id": "cd70baa2",
   "metadata": {},
   "outputs": [],
   "source": [
    "budget = MXS\n",
    "h0 = MNV\n",
    "f0 = MNV\n",
    "l0 = MNV\n",
    "t0 = MNV\n",
    "hf_ratio0 = 0\n",
    "l_ratio0 = 0\n",
    "h_temp0 = 0\n",
    "f_temp0 = 0\n",
    "\n",
    "\n",
    "for i in 1:1000\n",
    "    hf_ratio = rand()^(0.8)\n",
    "    l_ratio = 0.25 + 0.5 * rand()\n",
    "    h_temp = rand() + 0.5\n",
    "    f_temp = rand() + 0.5\n",
    "    budget_hf = sqrt(0.05 + hf_ratio * 0.9) * (budget * .7)\n",
    "    h_ratio = h_temp/sqrt(h_temp * f_temp)\n",
    "    f_ratio = f_temp/sqrt(h_temp * f_temp)\n",
    "    h = max(h0, round(sqrt(budget_hf) * h_ratio))\n",
    "    f = max(f0, round(sqrt(budget_hf) * f_ratio))\n",
    "    budget_hf = h * f\n",
    "    budget_remain = (budget - budget_hf) - (l0 * h + t0 * f)\n",
    "    lraw = l0 + ( budget_remain * l_ratio )/h\n",
    "    traw = t0 + ( budget_remain * (1 - l_ratio) )/f\n",
    "    l = trunc(lraw)\n",
    "    t = trunc(traw)\n",
    "    budget_sofar = h * f + h * l + f * t\n",
    "    if (budget - budget_sofar) >= min(h, f)\n",
    "        could_add_l = (budget - budget_sofar) >= h\n",
    "        could_add_t = (budget - budget_sofar) >= f\n",
    "        if could_add_l && !could_add_t\n",
    "            l = l+trunc((budget - budget_sofar)/h)\n",
    "        end\n",
    "        if !could_add_l && could_add_t\n",
    "            t = t+trunc((budget - budget_sofar)/f)\n",
    "        end\n",
    "        if could_add_l && could_add_t\n",
    "            if fpart(lraw) > fpart(traw)\n",
    "                l = l+trunc((budget - budget_sofar)/h)\n",
    "            else\n",
    "                t = t+trunc((budget - budget_sofar)/f)\n",
    "            end\n",
    "        end\n",
    "    end\n",
    "\n",
    "    budget_sofar = h * f + h * l + f * t\n",
    "    if (budget - budget_sofar) >= min(h, f)\n",
    "        hf_ratio0 = hf_ratio\n",
    "        l_ratio0 = l_ratio\n",
    "        h_temp0 = h_temp\n",
    "        f_temp0 = f_temp\n",
    "        println((h, f, l, t, budget_hf, budget_sofar))\n",
    "    end\n",
    "end"
   ]
  },
  {
   "cell_type": "code",
   "execution_count": 228,
   "id": "e21386d5",
   "metadata": {},
   "outputs": [
    {
     "data": {
      "text/plain": [
       "0"
      ]
     },
     "execution_count": 228,
     "metadata": {},
     "output_type": "execute_result"
    }
   ],
   "source": [
    "hf_ratio = hf_ratio0\n",
    "l_ratio = l_ratio0\n",
    "h_temp = h_temp0\n",
    "f_temp = f_temp0"
   ]
  },
  {
   "cell_type": "code",
   "execution_count": 229,
   "id": "c642c41f",
   "metadata": {},
   "outputs": [
    {
     "name": "stdout",
     "output_type": "stream",
     "text": [
      "(NaN, NaN, NaN, NaN, NaN, NaN)\n"
     ]
    }
   ],
   "source": [
    "budget_hf = sqrt(0.05 + hf_ratio * 0.9) * (budget * .7)\n",
    "h_ratio = h_temp/sqrt(h_temp * f_temp)\n",
    "f_ratio = f_temp/sqrt(h_temp * f_temp)\n",
    "h = max(h0, round(sqrt(budget_hf) * h_ratio))\n",
    "f = max(f0, round(sqrt(budget_hf) * f_ratio))\n",
    "budget_hf = h * f\n",
    "budget_remain = (budget - budget_hf) - (l0 * h + t0 * f)\n",
    "lraw = l0 + ( budget_remain * l_ratio )/h\n",
    "traw = t0 + ( budget_remain * (1 - l_ratio) )/f\n",
    "l = trunc(lraw)\n",
    "t = trunc(traw)\n",
    "budget_sofar = h * f + h * l + f * t\n",
    "println((h, f, l, t, budget_hf, budget_sofar))"
   ]
  },
  {
   "cell_type": "code",
   "execution_count": 230,
   "id": "a99fc3fb",
   "metadata": {},
   "outputs": [
    {
     "name": "stdout",
     "output_type": "stream",
     "text": [
      "(NaN, NaN, NaN, NaN, NaN, NaN)\n"
     ]
    }
   ],
   "source": [
    "if (budget - budget_sofar) >= min(h, f)\n",
    "    could_add_l = (budget - budget_sofar) >= h\n",
    "    could_add_t = (budget - budget_sofar) >= f\n",
    "    if could_add_l && !could_add_t\n",
    "        l = l+1\n",
    "    end\n",
    "    if !could_add_l && could_add_t\n",
    "        t = t+1\n",
    "    end\n",
    "    if could_add_l && could_add_t\n",
    "        if fpart(lraw) > fpart(traw)\n",
    "            l = l+1\n",
    "        else\n",
    "            t = t+1\n",
    "        end\n",
    "    end\n",
    "end\n",
    "\n",
    "budget_sofar = h * f + h * l + f * t\n",
    "println((h, f, l, t, budget_hf, budget_sofar))"
   ]
  },
  {
   "cell_type": "markdown",
   "id": "a83f6f4b",
   "metadata": {},
   "source": [
    "## Testing Random Scheme A"
   ]
  },
  {
   "cell_type": "code",
   "execution_count": 231,
   "id": "f4860307",
   "metadata": {},
   "outputs": [
    {
     "name": "stdout",
     "output_type": "stream",
     "text": [
      "Fighter(\"No Name [Scheme A]\", 21, 9, 4, 14)"
     ]
    },
    {
     "data": {
      "text/plain": [
       "399"
      ]
     },
     "execution_count": 231,
     "metadata": {},
     "output_type": "execute_result"
    }
   ],
   "source": [
    "f = random_scheme_a()\n",
    "print(f)\n",
    "f.h * f.f + f.h * f.l + f.f * f.t"
   ]
  },
  {
   "cell_type": "code",
   "execution_count": 232,
   "id": "29553d95",
   "metadata": {},
   "outputs": [
    {
     "data": {
      "text/html": [
       "<div><div style = \"float: left;\"><span>10×5 DataFrame</span></div><div style = \"clear: both;\"></div></div><div class = \"data-frame\" style = \"overflow-x: scroll;\"><table class = \"data-frame\" style = \"margin-bottom: 6px;\"><thead><tr class = \"header\"><th class = \"rowNumber\" style = \"font-weight: bold; text-align: right;\">Row</th><th style = \"text-align: left;\">name</th><th style = \"text-align: left;\">h</th><th style = \"text-align: left;\">f</th><th style = \"text-align: left;\">l</th><th style = \"text-align: left;\">t</th></tr><tr class = \"subheader headerLastRow\"><th class = \"rowNumber\" style = \"font-weight: bold; text-align: right;\"></th><th title = \"String\" style = \"text-align: left;\">String</th><th title = \"Int64\" style = \"text-align: left;\">Int64</th><th title = \"Int64\" style = \"text-align: left;\">Int64</th><th title = \"Int64\" style = \"text-align: left;\">Int64</th><th title = \"Int64\" style = \"text-align: left;\">Int64</th></tr></thead><tbody><tr><td class = \"rowNumber\" style = \"font-weight: bold; text-align: right;\">1</td><td style = \"text-align: left;\">Cheetah Nyelli</td><td style = \"text-align: right;\">12</td><td style = \"text-align: right;\">18</td><td style = \"text-align: right;\">3</td><td style = \"text-align: right;\">8</td></tr><tr><td class = \"rowNumber\" style = \"font-weight: bold; text-align: right;\">2</td><td style = \"text-align: left;\">Balanced Alexi</td><td style = \"text-align: right;\">14</td><td style = \"text-align: right;\">17</td><td style = \"text-align: right;\">6</td><td style = \"text-align: right;\">4</td></tr><tr><td class = \"rowNumber\" style = \"font-weight: bold; text-align: right;\">3</td><td style = \"text-align: left;\">Student Kennedy</td><td style = \"text-align: right;\">12</td><td style = \"text-align: right;\">18</td><td style = \"text-align: right;\">12</td><td style = \"text-align: right;\">2</td></tr><tr><td class = \"rowNumber\" style = \"font-weight: bold; text-align: right;\">4</td><td style = \"text-align: left;\">Creative Yak</td><td style = \"text-align: right;\">12</td><td style = \"text-align: right;\">9</td><td style = \"text-align: right;\">10</td><td style = \"text-align: right;\">19</td></tr><tr><td class = \"rowNumber\" style = \"font-weight: bold; text-align: right;\">5</td><td style = \"text-align: left;\">Idalis the Fish</td><td style = \"text-align: right;\">19</td><td style = \"text-align: right;\">12</td><td style = \"text-align: right;\">7</td><td style = \"text-align: right;\">3</td></tr><tr><td class = \"rowNumber\" style = \"font-weight: bold; text-align: right;\">6</td><td style = \"text-align: left;\">Primordial Yak</td><td style = \"text-align: right;\">20</td><td style = \"text-align: right;\">10</td><td style = \"text-align: right;\">2</td><td style = \"text-align: right;\">16</td></tr><tr><td class = \"rowNumber\" style = \"font-weight: bold; text-align: right;\">7</td><td style = \"text-align: left;\">Maggie the Lawyer</td><td style = \"text-align: right;\">16</td><td style = \"text-align: right;\">14</td><td style = \"text-align: right;\">2</td><td style = \"text-align: right;\">10</td></tr><tr><td class = \"rowNumber\" style = \"font-weight: bold; text-align: right;\">8</td><td style = \"text-align: left;\">Sheltering Hava</td><td style = \"text-align: right;\">14</td><td style = \"text-align: right;\">9</td><td style = \"text-align: right;\">12</td><td style = \"text-align: right;\">11</td></tr><tr><td class = \"rowNumber\" style = \"font-weight: bold; text-align: right;\">9</td><td style = \"text-align: left;\">Maddalynn the Rascal</td><td style = \"text-align: right;\">23</td><td style = \"text-align: right;\">11</td><td style = \"text-align: right;\">3</td><td style = \"text-align: right;\">7</td></tr><tr><td class = \"rowNumber\" style = \"font-weight: bold; text-align: right;\">10</td><td style = \"text-align: left;\">Leopard Kyere</td><td style = \"text-align: right;\">14</td><td style = \"text-align: right;\">8</td><td style = \"text-align: right;\">6</td><td style = \"text-align: right;\">25</td></tr></tbody></table></div>"
      ],
      "text/latex": [
       "\\begin{tabular}{r|ccccc}\n",
       "\t& name & h & f & l & t\\\\\n",
       "\t\\hline\n",
       "\t& String & Int64 & Int64 & Int64 & Int64\\\\\n",
       "\t\\hline\n",
       "\t1 & Cheetah Nyelli & 12 & 18 & 3 & 8 \\\\\n",
       "\t2 & Balanced Alexi & 14 & 17 & 6 & 4 \\\\\n",
       "\t3 & Student Kennedy & 12 & 18 & 12 & 2 \\\\\n",
       "\t4 & Creative Yak & 12 & 9 & 10 & 19 \\\\\n",
       "\t5 & Idalis the Fish & 19 & 12 & 7 & 3 \\\\\n",
       "\t6 & Primordial Yak & 20 & 10 & 2 & 16 \\\\\n",
       "\t7 & Maggie the Lawyer & 16 & 14 & 2 & 10 \\\\\n",
       "\t8 & Sheltering Hava & 14 & 9 & 12 & 11 \\\\\n",
       "\t9 & Maddalynn the Rascal & 23 & 11 & 3 & 7 \\\\\n",
       "\t10 & Leopard Kyere & 14 & 8 & 6 & 25 \\\\\n",
       "\\end{tabular}\n"
      ],
      "text/plain": [
       "\u001b[1m10×5 DataFrame\u001b[0m\n",
       "\u001b[1m Row \u001b[0m│\u001b[1m name                 \u001b[0m\u001b[1m h     \u001b[0m\u001b[1m f     \u001b[0m\u001b[1m l     \u001b[0m\u001b[1m t     \u001b[0m\n",
       "     │\u001b[90m String               \u001b[0m\u001b[90m Int64 \u001b[0m\u001b[90m Int64 \u001b[0m\u001b[90m Int64 \u001b[0m\u001b[90m Int64 \u001b[0m\n",
       "─────┼──────────────────────────────────────────────────\n",
       "   1 │ Cheetah Nyelli           12     18      3      8\n",
       "   2 │ Balanced Alexi           14     17      6      4\n",
       "   3 │ Student Kennedy          12     18     12      2\n",
       "   4 │ Creative Yak             12      9     10     19\n",
       "   5 │ Idalis the Fish          19     12      7      3\n",
       "   6 │ Primordial Yak           20     10      2     16\n",
       "   7 │ Maggie the Lawyer        16     14      2     10\n",
       "   8 │ Sheltering Hava          14      9     12     11\n",
       "   9 │ Maddalynn the Rascal     23     11      3      7\n",
       "  10 │ Leopard Kyere            14      8      6     25"
      ]
     },
     "execution_count": 232,
     "metadata": {},
     "output_type": "execute_result"
    }
   ],
   "source": [
    "rt = random_team(() -> rand_rename(random_scheme_a()), 100)\n",
    "fighters_to_df(rt)[1:10, :]"
   ]
  },
  {
   "cell_type": "code",
   "execution_count": 233,
   "id": "fd71d2c8",
   "metadata": {},
   "outputs": [
    {
     "data": {
      "text/html": [
       "<div><div style = \"float: left;\"><span>10×5 DataFrame</span></div><div style = \"clear: both;\"></div></div><div class = \"data-frame\" style = \"overflow-x: scroll;\"><table class = \"data-frame\" style = \"margin-bottom: 6px;\"><thead><tr class = \"header\"><th class = \"rowNumber\" style = \"font-weight: bold; text-align: right;\">Row</th><th style = \"text-align: left;\">name</th><th style = \"text-align: left;\">h</th><th style = \"text-align: left;\">f</th><th style = \"text-align: left;\">l</th><th style = \"text-align: left;\">t</th></tr><tr class = \"subheader headerLastRow\"><th class = \"rowNumber\" style = \"font-weight: bold; text-align: right;\"></th><th title = \"String\" style = \"text-align: left;\">String</th><th title = \"Int64\" style = \"text-align: left;\">Int64</th><th title = \"Int64\" style = \"text-align: left;\">Int64</th><th title = \"Int64\" style = \"text-align: left;\">Int64</th><th title = \"Int64\" style = \"text-align: left;\">Int64</th></tr></thead><tbody><tr><td class = \"rowNumber\" style = \"font-weight: bold; text-align: right;\">1</td><td style = \"text-align: left;\">Duck Arch</td><td style = \"text-align: right;\">27</td><td style = \"text-align: right;\">2</td><td style = \"text-align: right;\">11</td><td style = \"text-align: right;\">24</td></tr><tr><td class = \"rowNumber\" style = \"font-weight: bold; text-align: right;\">2</td><td style = \"text-align: left;\">Sheltering Luziano</td><td style = \"text-align: right;\">22</td><td style = \"text-align: right;\">2</td><td style = \"text-align: right;\">14</td><td style = \"text-align: right;\">24</td></tr><tr><td class = \"rowNumber\" style = \"font-weight: bold; text-align: right;\">3</td><td style = \"text-align: left;\">Sword Kayani</td><td style = \"text-align: right;\">4</td><td style = \"text-align: right;\">16</td><td style = \"text-align: right;\">16</td><td style = \"text-align: right;\">17</td></tr><tr><td class = \"rowNumber\" style = \"font-weight: bold; text-align: right;\">4</td><td style = \"text-align: left;\">Esperanza the Prankster</td><td style = \"text-align: right;\">24</td><td style = \"text-align: right;\">2</td><td style = \"text-align: right;\">14</td><td style = \"text-align: right;\">8</td></tr><tr><td class = \"rowNumber\" style = \"font-weight: bold; text-align: right;\">5</td><td style = \"text-align: left;\">Balloon Odessa</td><td style = \"text-align: right;\">16</td><td style = \"text-align: right;\">8</td><td style = \"text-align: right;\">11</td><td style = \"text-align: right;\">12</td></tr><tr><td class = \"rowNumber\" style = \"font-weight: bold; text-align: right;\">6</td><td style = \"text-align: left;\">Marilin the Koala</td><td style = \"text-align: right;\">14</td><td style = \"text-align: right;\">3</td><td style = \"text-align: right;\">21</td><td style = \"text-align: right;\">21</td></tr><tr><td class = \"rowNumber\" style = \"font-weight: bold; text-align: right;\">7</td><td style = \"text-align: left;\">Jellyfish Shraga</td><td style = \"text-align: right;\">14</td><td style = \"text-align: right;\">13</td><td style = \"text-align: right;\">11</td><td style = \"text-align: right;\">4</td></tr><tr><td class = \"rowNumber\" style = \"font-weight: bold; text-align: right;\">8</td><td style = \"text-align: left;\">Berklee the Quail</td><td style = \"text-align: right;\">21</td><td style = \"text-align: right;\">6</td><td style = \"text-align: right;\">11</td><td style = \"text-align: right;\">7</td></tr><tr><td class = \"rowNumber\" style = \"font-weight: bold; text-align: right;\">9</td><td style = \"text-align: left;\">Giraffe Kayliani</td><td style = \"text-align: right;\">3</td><td style = \"text-align: right;\">20</td><td style = \"text-align: right;\">6</td><td style = \"text-align: right;\">16</td></tr><tr><td class = \"rowNumber\" style = \"font-weight: bold; text-align: right;\">10</td><td style = \"text-align: left;\">Engineer Aubryanna</td><td style = \"text-align: right;\">8</td><td style = \"text-align: right;\">17</td><td style = \"text-align: right;\">11</td><td style = \"text-align: right;\">10</td></tr></tbody></table></div>"
      ],
      "text/latex": [
       "\\begin{tabular}{r|ccccc}\n",
       "\t& name & h & f & l & t\\\\\n",
       "\t\\hline\n",
       "\t& String & Int64 & Int64 & Int64 & Int64\\\\\n",
       "\t\\hline\n",
       "\t1 & Duck Arch & 27 & 2 & 11 & 24 \\\\\n",
       "\t2 & Sheltering Luziano & 22 & 2 & 14 & 24 \\\\\n",
       "\t3 & Sword Kayani & 4 & 16 & 16 & 17 \\\\\n",
       "\t4 & Esperanza the Prankster & 24 & 2 & 14 & 8 \\\\\n",
       "\t5 & Balloon Odessa & 16 & 8 & 11 & 12 \\\\\n",
       "\t6 & Marilin the Koala & 14 & 3 & 21 & 21 \\\\\n",
       "\t7 & Jellyfish Shraga & 14 & 13 & 11 & 4 \\\\\n",
       "\t8 & Berklee the Quail & 21 & 6 & 11 & 7 \\\\\n",
       "\t9 & Giraffe Kayliani & 3 & 20 & 6 & 16 \\\\\n",
       "\t10 & Engineer Aubryanna & 8 & 17 & 11 & 10 \\\\\n",
       "\\end{tabular}\n"
      ],
      "text/plain": [
       "\u001b[1m10×5 DataFrame\u001b[0m\n",
       "\u001b[1m Row \u001b[0m│\u001b[1m name                    \u001b[0m\u001b[1m h     \u001b[0m\u001b[1m f     \u001b[0m\u001b[1m l     \u001b[0m\u001b[1m t     \u001b[0m\n",
       "     │\u001b[90m String                  \u001b[0m\u001b[90m Int64 \u001b[0m\u001b[90m Int64 \u001b[0m\u001b[90m Int64 \u001b[0m\u001b[90m Int64 \u001b[0m\n",
       "─────┼─────────────────────────────────────────────────────\n",
       "   1 │ Duck Arch                   27      2     11     24\n",
       "   2 │ Sheltering Luziano          22      2     14     24\n",
       "   3 │ Sword Kayani                 4     16     16     17\n",
       "   4 │ Esperanza the Prankster     24      2     14      8\n",
       "   5 │ Balloon Odessa              16      8     11     12\n",
       "   6 │ Marilin the Koala           14      3     21     21\n",
       "   7 │ Jellyfish Shraga            14     13     11      4\n",
       "   8 │ Berklee the Quail           21      6     11      7\n",
       "   9 │ Giraffe Kayliani             3     20      6     16\n",
       "  10 │ Engineer Aubryanna           8     17     11     10"
      ]
     },
     "execution_count": 233,
     "metadata": {},
     "output_type": "execute_result"
    }
   ],
   "source": [
    "counters = random_team(() -> pick_best_rdmly(library, rt, 9), 50)\n",
    "fighters_to_df(counters)[1:10, :]"
   ]
  },
  {
   "cell_type": "code",
   "execution_count": 234,
   "id": "1820103b",
   "metadata": {},
   "outputs": [
    {
     "name": "stdout",
     "output_type": "stream",
     "text": [
      "Fighter(\"Creative Yak\", 12, 9, 10, 19)\n",
      "-32\n",
      "Fighter(\"Elephant Zay\", 6, 8, 10, 36)\n",
      "-32\n",
      "Fighter(\"Tavaris the Yellow\", 15, 11, 5, 14)\n",
      "-32\n",
      "Fighter(\"Frozen Icosahedron\", 13, 11, 11, 10)\n",
      "-32\n",
      "Fighter(\"Ox Daphne\", 9, 9, 7, 28)\n",
      "-32\n",
      "Fighter(\"Eliseo the Rascal\", 14, 11, 8, 12)\n",
      "-32\n",
      "Fighter(\"Quiet Violet\", 12, 13, 11, 8)\n",
      "-38\n",
      "Fighter(\"Kendryx the Super\", 10, 9, 3, 31)\n",
      "-32\n"
     ]
    }
   ],
   "source": [
    "for f in rt\n",
    "    v = eval_battle_list(f, counters)\n",
    "    if v < -30\n",
    "        println(f)\n",
    "        println(v)\n",
    "    end\n",
    "end"
   ]
  },
  {
   "cell_type": "code",
   "execution_count": null,
   "id": "172d0d09",
   "metadata": {},
   "outputs": [],
   "source": []
  },
  {
   "cell_type": "code",
   "execution_count": 235,
   "id": "e98bb6fe",
   "metadata": {},
   "outputs": [
    {
     "name": "stdout",
     "output_type": "stream",
     "text": [
      "Fighter(\"Yoyo Aleysa\", 12, 11, 14, 9)"
     ]
    },
    {
     "data": {
      "text/plain": [
       "-0.47"
      ]
     },
     "execution_count": 235,
     "metadata": {},
     "output_type": "execute_result"
    }
   ],
   "source": [
    "evaluate_generator(random_fighter, 200)"
   ]
  },
  {
   "cell_type": "code",
   "execution_count": 238,
   "id": "0c222a8e",
   "metadata": {},
   "outputs": [
    {
     "name": "stdout",
     "output_type": "stream",
     "text": [
      "Fighter(\"Tricky Lamp\", 2, 23, 4, 15)"
     ]
    },
    {
     "data": {
      "text/plain": [
       "-0.64"
      ]
     },
     "execution_count": 238,
     "metadata": {},
     "output_type": "execute_result"
    }
   ],
   "source": [
    "evaluate_generator(random_scheme_a, 200)"
   ]
  },
  {
   "cell_type": "code",
   "execution_count": 239,
   "id": "a37acb5c",
   "metadata": {},
   "outputs": [
    {
     "name": "stdout",
     "output_type": "stream",
     "text": [
      "Fighter(\"Georgia the Atmospheric\", 18, 18, 2, 2)"
     ]
    },
    {
     "data": {
      "text/plain": [
       "-0.46"
      ]
     },
     "execution_count": 239,
     "metadata": {},
     "output_type": "execute_result"
    }
   ],
   "source": [
    "evaluate_generator(() -> random_tournament_winner(1), 200)"
   ]
  },
  {
   "cell_type": "code",
   "execution_count": 240,
   "id": "3dc6e9e3",
   "metadata": {},
   "outputs": [
    {
     "name": "stdout",
     "output_type": "stream",
     "text": [
      "Fighter(\"Silent Ninja\", 15, 17, 5, 4)"
     ]
    },
    {
     "data": {
      "text/plain": [
       "-0.47"
      ]
     },
     "execution_count": 240,
     "metadata": {},
     "output_type": "execute_result"
    }
   ],
   "source": [
    "evaluate_generator(() -> random_tournament_winner(2), 200)"
   ]
  },
  {
   "cell_type": "code",
   "execution_count": 241,
   "id": "5ab704c2",
   "metadata": {},
   "outputs": [
    {
     "name": "stdout",
     "output_type": "stream",
     "text": [
      "Fighter(\"Dizzy Boot\", 18, 2, 19, 11)"
     ]
    },
    {
     "data": {
      "text/plain": [
       "-0.53"
      ]
     },
     "execution_count": 241,
     "metadata": {},
     "output_type": "execute_result"
    }
   ],
   "source": [
    "evaluate_generator(() -> random_tournament_winner(5), 200)"
   ]
  },
  {
   "cell_type": "code",
   "execution_count": 242,
   "id": "5885ce34",
   "metadata": {},
   "outputs": [
    {
     "name": "stdout",
     "output_type": "stream",
     "text": [
      "Fighter(\"Cricket Keyomi\", 22, 2, 16, 2)"
     ]
    },
    {
     "data": {
      "text/plain": [
       "-0.56"
      ]
     },
     "execution_count": 242,
     "metadata": {},
     "output_type": "execute_result"
    }
   ],
   "source": [
    "evaluate_generator(() -> random_tournament_winner(6), 200)"
   ]
  },
  {
   "cell_type": "code",
   "execution_count": null,
   "id": "9ab4acd0",
   "metadata": {},
   "outputs": [],
   "source": []
  }
 ],
 "metadata": {
  "kernelspec": {
   "display_name": "Julia 1.9.3",
   "language": "julia",
   "name": "julia-1.9"
  },
  "language_info": {
   "file_extension": ".jl",
   "mimetype": "application/julia",
   "name": "julia",
   "version": "1.9.3"
  }
 },
 "nbformat": 4,
 "nbformat_minor": 5
}

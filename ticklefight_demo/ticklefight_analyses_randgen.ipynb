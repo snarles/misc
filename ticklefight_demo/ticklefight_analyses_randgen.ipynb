{
 "cells": [
  {
   "cell_type": "code",
   "execution_count": 109,
   "id": "560e9539",
   "metadata": {},
   "outputs": [
    {
     "data": {
      "text/plain": [
       "eval_team_battle (generic function with 1 method)"
      ]
     },
     "execution_count": 109,
     "metadata": {},
     "output_type": "execute_result"
    }
   ],
   "source": [
    "using Random\n",
    "using DataFrames\n",
    "using CSV\n",
    "using Statistics\n",
    "using Printf\n",
    "\n",
    "struct Fighter\n",
    "    name::String\n",
    "    h::Int16\n",
    "    f::Int16\n",
    "    l::Int16\n",
    "    t::Int16\n",
    "end\n",
    "\n",
    "const MXS = 10000\n",
    "const MXV = 100\n",
    "const MNV = 10\n",
    "\n",
    "function random_fighter(h0::Int = MNV, f0::Int = MNV, l0::Int = MNV, t0::Int = MNV)::Fighter\n",
    "    flag = true\n",
    "    while flag\n",
    "        h = h0 + rand(0:(MXV - h0), 1)[1]\n",
    "        f = f0 + rand(0:(MXV - f0), 1)[1]\n",
    "        l = l0 + rand(0:(MXV - l0), 1)[1]\n",
    "        t = t0 + rand(0:(MXV - t0), 1)[1]\n",
    "        mm = minimum([h, f])\n",
    "        budget = h*f+h*l+f*t\n",
    "        if budget <= MXS && budget + mm > MXS\n",
    "            flag = false\n",
    "            return Fighter(\"No Name\", h, f, l, t)\n",
    "        end\n",
    "    end\n",
    "end\n",
    "\n",
    "function eval_battle(a::Fighter, b::Fighter)::Int\n",
    "    a_finds = a.f >= b.h\n",
    "    b_finds = b.f >= a.h\n",
    "    if a_finds && b_finds\n",
    "        if a.t > b.t\n",
    "            return 1\n",
    "        end\n",
    "        if a.t < b.t\n",
    "            return -1\n",
    "        end\n",
    "        if a.t == b.t\n",
    "            if a.l > b.l\n",
    "                return 1\n",
    "            end\n",
    "            if a.l < b.l\n",
    "                return -1\n",
    "            end\n",
    "            if a.l == b.l\n",
    "                if a.h > b.h\n",
    "                    return 1\n",
    "                end\n",
    "                if a.h < b.h\n",
    "                    return -1\n",
    "                end\n",
    "                if a.h == b.h\n",
    "                    return 0\n",
    "                end\n",
    "            end\n",
    "        end\n",
    "    end\n",
    "    if a_finds && !b_finds\n",
    "        return 1\n",
    "    end\n",
    "    if !a_finds && b_finds\n",
    "        return -1\n",
    "    end\n",
    "    if !a_finds && !b_finds\n",
    "        if a.l > b.l\n",
    "            return 1\n",
    "        end\n",
    "        if a.l < b.l\n",
    "            return -1\n",
    "        end\n",
    "        if a.l == b.l\n",
    "            if a.t > b.t\n",
    "                return 1\n",
    "            end\n",
    "            if a.t < b.t\n",
    "                return -1\n",
    "            end\n",
    "            if a.t == b.t\n",
    "                if a.f > b.f\n",
    "                    return 1\n",
    "                end\n",
    "                if a.f < b.f\n",
    "                    return -1\n",
    "                end\n",
    "                if a.f == b.f\n",
    "                    return 0\n",
    "                end\n",
    "            end\n",
    "        end\n",
    "    end\n",
    "end\n",
    "\n",
    "function random_tournament_winner(c::Int, f::Function = random_fighter)::Fighter\n",
    "    if c==0\n",
    "        return f()\n",
    "    end\n",
    "    a = random_tournament_winner(c-1, f)\n",
    "    b = random_tournament_winner(c-1, f)\n",
    "    res = eval_battle(a, b)\n",
    "    if res == 1\n",
    "        return a\n",
    "    else\n",
    "        return b\n",
    "    end\n",
    "end\n",
    "\n",
    "\n",
    "tab = CSV.read(\"census_yob2022_names.txt\", DataFrame, header = false)\n",
    "names = tab.Column1\n",
    "adjectives = CSV.read(\"adjectives.csv\", DataFrame)\n",
    "nouns = CSV.read(\"nouns.csv\", DataFrame)\n",
    "\n",
    "function random_name_and_stat()::Fighter\n",
    "    vp = [0, 0, 0, 0]\n",
    "    nametype = rand(1:5)\n",
    "    name = \"\"\n",
    "    if nametype == 1 || nametype == 2\n",
    "        nm = rand(names)\n",
    "        adj_i = rand(1:nrow(adjectives))\n",
    "        adj = adjectives[adj_i, :adjective]\n",
    "        vp[1] = vp[1] + adjectives[adj_i, :H]\n",
    "        vp[2] = vp[2] + adjectives[adj_i, :F]\n",
    "        vp[3] = vp[3] + adjectives[adj_i, :L]\n",
    "        vp[4] = vp[4] + adjectives[adj_i, :T]\n",
    "        if nametype == 1\n",
    "            name = string(nm, \" the \", adj)\n",
    "        end\n",
    "        if nametype == 2\n",
    "            name = string(adj, \" \", nm)\n",
    "        end\n",
    "    end\n",
    "    if nametype == 3 || nametype == 4\n",
    "        nm = rand(names)\n",
    "        noun_i = rand(1:nrow(nouns))\n",
    "        noun = nouns[noun_i, :noun]\n",
    "        vp[1] = vp[1] + nouns[noun_i, :H]\n",
    "        vp[2] = vp[2] + nouns[noun_i, :F]\n",
    "        vp[3] = vp[3] + nouns[noun_i, :L]\n",
    "        vp[4] = vp[4] + nouns[noun_i, :T]    \n",
    "        if nametype == 3\n",
    "            name = string(nm, \" the \", noun)\n",
    "        end\n",
    "        if nametype == 4\n",
    "            name = string(noun, \" \", nm)\n",
    "        end\n",
    "    end\n",
    "    if nametype == 5\n",
    "        adj_i = rand(1:nrow(adjectives))\n",
    "        adj = adjectives[adj_i, :adjective]\n",
    "        vp[1] = vp[1] + adjectives[adj_i, :H]\n",
    "        vp[2] = vp[2] + adjectives[adj_i, :F]\n",
    "        vp[3] = vp[3] + adjectives[adj_i, :L]\n",
    "        vp[4] = vp[4] + adjectives[adj_i, :T]\n",
    "        noun_i = rand(1:nrow(nouns))\n",
    "        noun = nouns[noun_i, :noun]\n",
    "        vp[1] = vp[1] + nouns[noun_i, :H]\n",
    "        vp[2] = vp[2] + nouns[noun_i, :F]\n",
    "        vp[3] = vp[3] + nouns[noun_i, :L]\n",
    "        vp[4] = vp[4] + nouns[noun_i, :T]    \n",
    "        name = string(adj, \" \", noun)\n",
    "    end\n",
    "    Fighter(name, vp[1], vp[2], vp[3], vp[4])\n",
    "end\n",
    "\n",
    "function rand_rename(a::Fighter, n_tries::Int = 10)::Fighter\n",
    "    best_score = 0.0\n",
    "    best_b = random_name_and_stat()\n",
    "    for ii in 1:n_tries\n",
    "        b = random_name_and_stat()\n",
    "        b_norm = sqrt(b.h^2 + b.f^2 + b.l^2 + b.t^2)\n",
    "        score = (a.h * b.h + a.f * b.f + a.l * b.l + a.t * b.t)/b_norm\n",
    "        if score > best_score\n",
    "            best_score = score\n",
    "            best_b = b\n",
    "        end\n",
    "    end\n",
    "    return Fighter(best_b.name, a.h, a.f, a.l, a.t)\n",
    "end\n",
    "\n",
    "function eval_battle_list(a::Fighter, bs::Array{Fighter})::Int\n",
    "    score = 0\n",
    "    for ii in 1:length(bs)\n",
    "        score = score + eval_battle(a, bs[ii])\n",
    "    end\n",
    "    return score\n",
    "end\n",
    "\n",
    "function pick_best(as::Array{Fighter}, bs::Array{Fighter})::Fighter\n",
    "    bestscore = -999\n",
    "    bestf = as[1]\n",
    "    for ii in 1:length(as)\n",
    "        score = eval_battle_list(as[ii], bs)\n",
    "        if score > bestscore\n",
    "            bestscore = score\n",
    "            bestf = as[ii]\n",
    "        end\n",
    "    end\n",
    "    return bestf\n",
    "end\n",
    "\n",
    "function pick_best_rdmly(as::Array{Fighter}, bs::Array{Fighter}, ntries::Int)::Fighter\n",
    "    bestscore = -999\n",
    "    bestf = rand(as)\n",
    "    for ii in 1:ntries\n",
    "        f = rand(as)\n",
    "        score = eval_battle_list(f, bs)\n",
    "        if score > bestscore\n",
    "            bestscore = score\n",
    "            bestf = f\n",
    "        end\n",
    "    end\n",
    "    return bestf\n",
    "end\n",
    "\n",
    "function fighters_to_df(as::Array{Fighter})::DataFrame\n",
    "    names = Array{String}(undef, length(as))\n",
    "    hs = Array{Int}(undef, length(as))\n",
    "    fs = Array{Int}(undef, length(as))\n",
    "    ls = Array{Int}(undef, length(as))\n",
    "    ts = Array{Int}(undef, length(as))\n",
    "    for ii in 1:length(as)\n",
    "        names[ii] = as[ii].name\n",
    "        hs[ii] = as[ii].h\n",
    "        fs[ii] = as[ii].f\n",
    "        ls[ii] = as[ii].l\n",
    "        ts[ii] = as[ii].t    \n",
    "    end\n",
    "    df = DataFrame(name = names, h = hs, f = fs, l = ls, t = ts)\n",
    "    return df\n",
    "end\n",
    "\n",
    "function fpart(x::AbstractFloat)::AbstractFloat\n",
    "  return x - trunc(x)\n",
    "end\n",
    "\n",
    "function eval_team_battle(as::Array{Fighter}, bs::Array{Fighter})::Int\n",
    "    a_i = 1\n",
    "    b_i = 1\n",
    "    while (a_i <= length(as)) && (b_i <= length(bs))\n",
    "        res = eval_battle(as[a_i], bs[b_i])\n",
    "        if res == 1\n",
    "            b_i = b_i + 1\n",
    "        else\n",
    "            a_i = a_i + 1\n",
    "            if res == 0\n",
    "                b_i = b_i + 1\n",
    "            end\n",
    "        end\n",
    "    end\n",
    "    a_out = (a_i > length(as))\n",
    "    b_out = (b_i > length(as))\n",
    "    if a_out\n",
    "        if b_out\n",
    "            return 0\n",
    "        else\n",
    "            return -1\n",
    "        end\n",
    "    else\n",
    "        return 1\n",
    "    end\n",
    "end"
   ]
  },
  {
   "cell_type": "code",
   "execution_count": 59,
   "id": "ec7b15f6",
   "metadata": {},
   "outputs": [
    {
     "data": {
      "text/plain": [
       "random_team (generic function with 1 method)"
      ]
     },
     "execution_count": 59,
     "metadata": {},
     "output_type": "execute_result"
    }
   ],
   "source": [
    "function random_team(f::Function, team_size::Int)::Array{Fighter}\n",
    "    team = Array{Fighter}(undef, team_size)\n",
    "    for i in 1:team_size\n",
    "        team[i] = f()\n",
    "    end\n",
    "    return team\n",
    "end"
   ]
  },
  {
   "cell_type": "code",
   "execution_count": 60,
   "id": "51cea033",
   "metadata": {},
   "outputs": [],
   "source": [
    "library = Array{Fighter}(undef, 100000)\n",
    "for i in 1:100000\n",
    "    library[i] = rand_rename(random_fighter())\n",
    "end"
   ]
  },
  {
   "cell_type": "code",
   "execution_count": 61,
   "id": "f1198f90",
   "metadata": {},
   "outputs": [
    {
     "data": {
      "text/plain": [
       "evaluate_generator (generic function with 2 methods)"
      ]
     },
     "execution_count": 61,
     "metadata": {},
     "output_type": "execute_result"
    }
   ],
   "source": [
    "function evaluate_generator(f::Function, team_size::Int, n_times::Int = 1)::AbstractFloat\n",
    "    scores = Array{AbstractFloat}(undef, n_times)\n",
    "    for i0 in 1:n_times\n",
    "        team = Array{Fighter}(undef, team_size)\n",
    "        for i in 1:team_size\n",
    "            team[i] = f()\n",
    "        end\n",
    "        bestscore = 999999\n",
    "        exploiter = library[1]\n",
    "        for i in 1:length(library)\n",
    "            fighter = library[i]\n",
    "            score = 0\n",
    "            for j in 1:team_size\n",
    "                score = score + eval_battle(team[j], fighter)\n",
    "            end\n",
    "            if score < bestscore\n",
    "                bestscore = score\n",
    "                exploiter = library[i]\n",
    "            end\n",
    "        end\n",
    "        if n_times < 5\n",
    "            println(exploiter)        \n",
    "        end\n",
    "        scores[i0] = bestscore/team_size\n",
    "    end\n",
    "    return mean(scores)\n",
    "end"
   ]
  },
  {
   "cell_type": "code",
   "execution_count": 62,
   "id": "608ef7bd",
   "metadata": {},
   "outputs": [
    {
     "data": {
      "text/plain": [
       "evaluate_generator2 (generic function with 2 methods)"
      ]
     },
     "execution_count": 62,
     "metadata": {},
     "output_type": "execute_result"
    }
   ],
   "source": [
    "function evaluate_generator2(f1, ts, np, limit)\n",
    "    a_i = 1\n",
    "    b_i = 1\n",
    "    f_a = f1()\n",
    "    t_a = random_team(f1, ts)\n",
    "    f_b = pick_best_rdmly(library, t_a, np)\n",
    "    while (a_i < limit) && (b_i < limit)\n",
    "        res = eval_battle(f_a, f_b)\n",
    "        if res != -1\n",
    "            b_i = b_i + 1\n",
    "            t_a = random_team(f1, ts)\n",
    "            f_b = pick_best_rdmly(library, t_a, np)        \n",
    "        end\n",
    "        if res != 1\n",
    "            a_i = a_i + 1\n",
    "            f_a = f1()\n",
    "        end\n",
    "    end\n",
    "    return (a_i/limit, b_i/limit)\n",
    "end"
   ]
  },
  {
   "cell_type": "code",
   "execution_count": 86,
   "id": "5a70c0e2",
   "metadata": {},
   "outputs": [
    {
     "name": "stdout",
     "output_type": "stream",
     "text": [
      "  8.145173 seconds (45.40 M allocations: 7.848 GiB, 14.28% gc time)\n"
     ]
    },
    {
     "data": {
      "text/plain": [
       "(0.66578, 1.0)"
      ]
     },
     "execution_count": 86,
     "metadata": {},
     "output_type": "execute_result"
    }
   ],
   "source": [
    "# new random generation to more closely approximate Nash\n",
    "function random_scheme_a(budget::Int = MXS, h0::Int = MNV, f0::Int = MNV, l0::Int = MNV, t0::Int = MNV)::Fighter\n",
    "    budget_sofar = budget + 1\n",
    "    name = \"\"\n",
    "    while budget_sofar > budget\n",
    "        hf_ratio = rand() * .75 + 0.02\n",
    "        l_ratio = rand()\n",
    "        h_temp = rand() + 0.07\n",
    "        f_temp = rand() + 0.07\n",
    "        name = string(\"Scheme-A (\", @sprintf(\"%6.3f\",hf_ratio), \",\", @sprintf(\"%6.3f\",l_ratio), \",\", @sprintf(\"%6.3f\",h_temp), \",\", @sprintf(\"%6.3f\",f_temp), \")\")\n",
    "        if hf_ratio > 0.05\n",
    "            while abs(h_temp - f_temp) < 0.3\n",
    "                h_temp = rand() + 0.07\n",
    "                f_temp = rand() + 0.07\n",
    "            end\n",
    "        end\n",
    "        budget_hf = (0.07 + hf_ratio * 0.8) * (budget * .75)\n",
    "        h_ratio = h_temp/sqrt(h_temp * f_temp)\n",
    "        f_ratio = f_temp/sqrt(h_temp * f_temp)\n",
    "        h = max(h0, round(sqrt(budget_hf) * h_ratio))\n",
    "        f = max(f0, round(sqrt(budget_hf) * f_ratio))\n",
    "        budget_hf = h * f\n",
    "        budget_remain = (budget - budget_hf) - (l0 * h + t0 * f)\n",
    "        l_ratio2 = (h^2 + 5 * l_ratio)/(h^2+f^2 + 5)\n",
    "        #l_ratio2 = (l_ratio * h)/(l_ratio * h + (1-l_ratio) * f)\n",
    "        lraw = l0 + ( budget_remain * l_ratio2 )/h\n",
    "        traw = t0 + ( budget_remain * (1 - l_ratio2) )/f\n",
    "        l = trunc(lraw)\n",
    "        t = trunc(traw)\n",
    "        budget_sofar = h * f + h * l + f * t\n",
    "        if (budget - budget_sofar) >= min(h, f)\n",
    "            could_add_l = (budget - budget_sofar) >= h\n",
    "            could_add_t = (budget - budget_sofar) >= f\n",
    "            if could_add_l && !could_add_t\n",
    "                l = l+trunc((budget - budget_sofar)/h)\n",
    "            end\n",
    "            if !could_add_l && could_add_t\n",
    "                t = t+trunc((budget - budget_sofar)/f)\n",
    "            end\n",
    "            if could_add_l && could_add_t\n",
    "                if fpart(lraw) > fpart(traw)\n",
    "                    l = l+trunc((budget - budget_sofar)/h)\n",
    "                else\n",
    "                    t = t+trunc((budget - budget_sofar)/f)\n",
    "                end\n",
    "            end\n",
    "        end\n",
    "    end\n",
    "    h = convert(Int, h)\n",
    "    f = convert(Int, f)\n",
    "    l = convert(Int, l)\n",
    "    t = convert(Int, t)  \n",
    "    return Fighter(name, h, f, l, t)\n",
    "end\n",
    "\n",
    "@time evaluate_generator2(random_scheme_a, 100, 100, 50000)"
   ]
  },
  {
   "cell_type": "code",
   "execution_count": 72,
   "id": "8ff8ccaa",
   "metadata": {},
   "outputs": [
    {
     "data": {
      "text/plain": [
       "Fighter(\"Scheme-A ( 0.698, 0.926, 0.732, 1.011)\", 146, 32, 33, 15)"
      ]
     },
     "execution_count": 72,
     "metadata": {},
     "output_type": "execute_result"
    }
   ],
   "source": [
    "random_scheme_a()"
   ]
  },
  {
   "cell_type": "code",
   "execution_count": 56,
   "id": "a8c633db",
   "metadata": {},
   "outputs": [
    {
     "name": "stdout",
     "output_type": "stream",
     "text": [
      "  9.189599 seconds (2.00 M allocations: 45.854 MiB, 0.07% gc time)\n"
     ]
    },
    {
     "data": {
      "text/plain": [
       "-0.3412"
      ]
     },
     "execution_count": 56,
     "metadata": {},
     "output_type": "execute_result"
    }
   ],
   "source": [
    "@time evaluate_generator(random_scheme_a, 2000, 5)"
   ]
  },
  {
   "cell_type": "code",
   "execution_count": 73,
   "id": "ec65ce1a",
   "metadata": {},
   "outputs": [
    {
     "name": "stdout",
     "output_type": "stream",
     "text": [
      "(60.0, 83.0, 31.0, 38.0, 4980.0, 9934.0, 0.7747356505626481)\n"
     ]
    }
   ],
   "source": [
    "budget = MXS\n",
    "h0 = MNV\n",
    "f0 = MNV\n",
    "l0 = MNV\n",
    "t0 = MNV\n",
    "hf_ratio0 = 0\n",
    "l_ratio0 = 0\n",
    "h_temp0 = 0\n",
    "f_temp0 = 0\n",
    "\n",
    "hf_ratio = rand()\n",
    "l_ratio = rand()\n",
    "h_temp = rand()\n",
    "f_temp = rand()\n",
    "budget_hf = (0.1 + hf_ratio * 0.8) * (budget * .7)\n",
    "h_ratio = h_temp/sqrt(h_temp * f_temp)\n",
    "f_ratio = f_temp/sqrt(h_temp * f_temp)\n",
    "h = max(h0, round(sqrt(budget_hf) * h_ratio))\n",
    "f = max(f0, round(sqrt(budget_hf) * f_ratio))\n",
    "budget_hf = h * f\n",
    "budget_remain = (budget - budget_hf) - (l0 * h + t0 * f)\n",
    "l_ratio2 = (h-2)^2/((h-2)^2+(f-2)^2)\n",
    "#l_ratio2 = (l_ratio * h)/(l_ratio * h + (1-l_ratio) * f)\n",
    "lraw = l0 + ( budget_remain * l_ratio2 )/h\n",
    "traw = t0 + ( budget_remain * (1 - l_ratio2) )/f\n",
    "l = trunc(lraw)\n",
    "t = trunc(traw)\n",
    "budget_sofar = h * f + h * l + f * t\n",
    "if (budget - budget_sofar) >= min(h, f)\n",
    "    could_add_l = (budget - budget_sofar) >= h\n",
    "    could_add_t = (budget - budget_sofar) >= f\n",
    "    if could_add_l && !could_add_t\n",
    "        l = l+trunc((budget - budget_sofar)/h)\n",
    "    end\n",
    "    if !could_add_l && could_add_t\n",
    "        t = t+trunc((budget - budget_sofar)/f)\n",
    "    end\n",
    "    if could_add_l && could_add_t\n",
    "        if fpart(lraw) > fpart(traw)\n",
    "            l = l+trunc((budget - budget_sofar)/h)\n",
    "        else\n",
    "            t = t+trunc((budget - budget_sofar)/f)\n",
    "        end\n",
    "    end\n",
    "end\n",
    "\n",
    "println((h, f, l, t, budget_hf, budget_sofar, hf_ratio))"
   ]
  },
  {
   "cell_type": "markdown",
   "id": "cb04c53d",
   "metadata": {},
   "source": [
    "## Testing Random Scheme A"
   ]
  },
  {
   "cell_type": "code",
   "execution_count": 74,
   "id": "e24bf964",
   "metadata": {},
   "outputs": [
    {
     "name": "stdout",
     "output_type": "stream",
     "text": [
      "Fighter(\"Scheme-A ( 0.135, 0.846, 0.500, 0.364)\", 49, 27, 134, 78)"
     ]
    },
    {
     "data": {
      "text/plain": [
       "9995"
      ]
     },
     "execution_count": 74,
     "metadata": {},
     "output_type": "execute_result"
    }
   ],
   "source": [
    "f = random_scheme_a()\n",
    "print(f)\n",
    "f.h * f.f + f.h * f.l + f.f * f.t"
   ]
  },
  {
   "cell_type": "code",
   "execution_count": 81,
   "id": "3a1b7f74",
   "metadata": {},
   "outputs": [
    {
     "data": {
      "text/html": [
       "<div><div style = \"float: left;\"><span>10×5 DataFrame</span></div><div style = \"clear: both;\"></div></div><div class = \"data-frame\" style = \"overflow-x: scroll;\"><table class = \"data-frame\" style = \"margin-bottom: 6px;\"><thead><tr class = \"header\"><th class = \"rowNumber\" style = \"font-weight: bold; text-align: right;\">Row</th><th style = \"text-align: left;\">name</th><th style = \"text-align: left;\">h</th><th style = \"text-align: left;\">f</th><th style = \"text-align: left;\">l</th><th style = \"text-align: left;\">t</th></tr><tr class = \"subheader headerLastRow\"><th class = \"rowNumber\" style = \"font-weight: bold; text-align: right;\"></th><th title = \"String\" style = \"text-align: left;\">String</th><th title = \"Int64\" style = \"text-align: left;\">Int64</th><th title = \"Int64\" style = \"text-align: left;\">Int64</th><th title = \"Int64\" style = \"text-align: left;\">Int64</th><th title = \"Int64\" style = \"text-align: left;\">Int64</th></tr></thead><tbody><tr><td class = \"rowNumber\" style = \"font-weight: bold; text-align: right;\">1</td><td style = \"text-align: left;\">Scheme-A ( 0.105, 0.536, 0.288, 0.638)</td><td style = \"text-align: right;\">23</td><td style = \"text-align: right;\">51</td><td style = \"text-align: right;\">71</td><td style = \"text-align: right;\">141</td></tr><tr><td class = \"rowNumber\" style = \"font-weight: bold; text-align: right;\">2</td><td style = \"text-align: left;\">Scheme-A ( 0.429, 0.761, 0.138, 0.943)</td><td style = \"text-align: right;\">21</td><td style = \"text-align: right;\">146</td><td style = \"text-align: right;\">17</td><td style = \"text-align: right;\">45</td></tr><tr><td class = \"rowNumber\" style = \"font-weight: bold; text-align: right;\">3</td><td style = \"text-align: left;\">Scheme-A ( 0.061, 0.932, 0.795, 0.746)</td><td style = \"text-align: right;\">49</td><td style = \"text-align: right;\">18</td><td style = \"text-align: right;\">162</td><td style = \"text-align: right;\">65</td></tr><tr><td class = \"rowNumber\" style = \"font-weight: bold; text-align: right;\">4</td><td style = \"text-align: left;\">Scheme-A ( 0.101, 0.317, 0.868, 0.673)</td><td style = \"text-align: right;\">93</td><td style = \"text-align: right;\">12</td><td style = \"text-align: right;\">92</td><td style = \"text-align: right;\">27</td></tr><tr><td class = \"rowNumber\" style = \"font-weight: bold; text-align: right;\">5</td><td style = \"text-align: left;\">Scheme-A ( 0.191, 0.346, 0.363, 0.917)</td><td style = \"text-align: right;\">26</td><td style = \"text-align: right;\">65</td><td style = \"text-align: right;\">49</td><td style = \"text-align: right;\">108</td></tr><tr><td class = \"rowNumber\" style = \"font-weight: bold; text-align: right;\">6</td><td style = \"text-align: left;\">Scheme-A ( 0.728, 0.764, 0.372, 0.918)</td><td style = \"text-align: right;\">45</td><td style = \"text-align: right;\">110</td><td style = \"text-align: right;\">21</td><td style = \"text-align: right;\">37</td></tr><tr><td class = \"rowNumber\" style = \"font-weight: bold; text-align: right;\">7</td><td style = \"text-align: left;\">Scheme-A ( 0.129, 0.481, 0.649, 0.363)</td><td style = \"text-align: right;\">48</td><td style = \"text-align: right;\">27</td><td style = \"text-align: right;\">135</td><td style = \"text-align: right;\">82</td></tr><tr><td class = \"rowNumber\" style = \"font-weight: bold; text-align: right;\">8</td><td style = \"text-align: left;\">Scheme-A ( 0.729, 0.048, 0.266, 0.659)</td><td style = \"text-align: right;\">44</td><td style = \"text-align: right;\">110</td><td style = \"text-align: right;\">22</td><td style = \"text-align: right;\">38</td></tr><tr><td class = \"rowNumber\" style = \"font-weight: bold; text-align: right;\">9</td><td style = \"text-align: left;\">Scheme-A ( 0.180, 0.901, 0.961, 0.769)</td><td style = \"text-align: right;\">64</td><td style = \"text-align: right;\">25</td><td style = \"text-align: right;\">112</td><td style = \"text-align: right;\">49</td></tr><tr><td class = \"rowNumber\" style = \"font-weight: bold; text-align: right;\">10</td><td style = \"text-align: left;\">Scheme-A ( 0.358, 0.565, 0.255, 0.375)</td><td style = \"text-align: right;\">39</td><td style = \"text-align: right;\">69</td><td style = \"text-align: right;\">49</td><td style = \"text-align: right;\">78</td></tr></tbody></table></div>"
      ],
      "text/latex": [
       "\\begin{tabular}{r|ccccc}\n",
       "\t& name & h & f & l & t\\\\\n",
       "\t\\hline\n",
       "\t& String & Int64 & Int64 & Int64 & Int64\\\\\n",
       "\t\\hline\n",
       "\t1 & Scheme-A ( 0.105, 0.536, 0.288, 0.638) & 23 & 51 & 71 & 141 \\\\\n",
       "\t2 & Scheme-A ( 0.429, 0.761, 0.138, 0.943) & 21 & 146 & 17 & 45 \\\\\n",
       "\t3 & Scheme-A ( 0.061, 0.932, 0.795, 0.746) & 49 & 18 & 162 & 65 \\\\\n",
       "\t4 & Scheme-A ( 0.101, 0.317, 0.868, 0.673) & 93 & 12 & 92 & 27 \\\\\n",
       "\t5 & Scheme-A ( 0.191, 0.346, 0.363, 0.917) & 26 & 65 & 49 & 108 \\\\\n",
       "\t6 & Scheme-A ( 0.728, 0.764, 0.372, 0.918) & 45 & 110 & 21 & 37 \\\\\n",
       "\t7 & Scheme-A ( 0.129, 0.481, 0.649, 0.363) & 48 & 27 & 135 & 82 \\\\\n",
       "\t8 & Scheme-A ( 0.729, 0.048, 0.266, 0.659) & 44 & 110 & 22 & 38 \\\\\n",
       "\t9 & Scheme-A ( 0.180, 0.901, 0.961, 0.769) & 64 & 25 & 112 & 49 \\\\\n",
       "\t10 & Scheme-A ( 0.358, 0.565, 0.255, 0.375) & 39 & 69 & 49 & 78 \\\\\n",
       "\\end{tabular}\n"
      ],
      "text/plain": [
       "\u001b[1m10×5 DataFrame\u001b[0m\n",
       "\u001b[1m Row \u001b[0m│\u001b[1m name                              \u001b[0m\u001b[1m h     \u001b[0m\u001b[1m f     \u001b[0m\u001b[1m l     \u001b[0m\u001b[1m t     \u001b[0m\n",
       "     │\u001b[90m String                            \u001b[0m\u001b[90m Int64 \u001b[0m\u001b[90m Int64 \u001b[0m\u001b[90m Int64 \u001b[0m\u001b[90m Int64 \u001b[0m\n",
       "─────┼───────────────────────────────────────────────────────────────\n",
       "   1 │ Scheme-A ( 0.105, 0.536, 0.288, …     23     51     71    141\n",
       "   2 │ Scheme-A ( 0.429, 0.761, 0.138, …     21    146     17     45\n",
       "   3 │ Scheme-A ( 0.061, 0.932, 0.795, …     49     18    162     65\n",
       "   4 │ Scheme-A ( 0.101, 0.317, 0.868, …     93     12     92     27\n",
       "   5 │ Scheme-A ( 0.191, 0.346, 0.363, …     26     65     49    108\n",
       "   6 │ Scheme-A ( 0.728, 0.764, 0.372, …     45    110     21     37\n",
       "   7 │ Scheme-A ( 0.129, 0.481, 0.649, …     48     27    135     82\n",
       "   8 │ Scheme-A ( 0.729, 0.048, 0.266, …     44    110     22     38\n",
       "   9 │ Scheme-A ( 0.180, 0.901, 0.961, …     64     25    112     49\n",
       "  10 │ Scheme-A ( 0.358, 0.565, 0.255, …     39     69     49     78"
      ]
     },
     "execution_count": 81,
     "metadata": {},
     "output_type": "execute_result"
    }
   ],
   "source": [
    "rt = random_team(() -> random_scheme_a(), 1000)\n",
    "fighters_to_df(rt)[1:10, :]"
   ]
  },
  {
   "cell_type": "code",
   "execution_count": 82,
   "id": "8ceea0f3",
   "metadata": {},
   "outputs": [
    {
     "data": {
      "text/html": [
       "<div><div style = \"float: left;\"><span>10×5 DataFrame</span></div><div style = \"clear: both;\"></div></div><div class = \"data-frame\" style = \"overflow-x: scroll;\"><table class = \"data-frame\" style = \"margin-bottom: 6px;\"><thead><tr class = \"header\"><th class = \"rowNumber\" style = \"font-weight: bold; text-align: right;\">Row</th><th style = \"text-align: left;\">name</th><th style = \"text-align: left;\">h</th><th style = \"text-align: left;\">f</th><th style = \"text-align: left;\">l</th><th style = \"text-align: left;\">t</th></tr><tr class = \"subheader headerLastRow\"><th class = \"rowNumber\" style = \"font-weight: bold; text-align: right;\"></th><th title = \"String\" style = \"text-align: left;\">String</th><th title = \"Int64\" style = \"text-align: left;\">Int64</th><th title = \"Int64\" style = \"text-align: left;\">Int64</th><th title = \"Int64\" style = \"text-align: left;\">Int64</th><th title = \"Int64\" style = \"text-align: left;\">Int64</th></tr></thead><tbody><tr><td class = \"rowNumber\" style = \"font-weight: bold; text-align: right;\">1</td><td style = \"text-align: left;\">Jara the Scissors</td><td style = \"text-align: right;\">42</td><td style = \"text-align: right;\">52</td><td style = \"text-align: right;\">84</td><td style = \"text-align: right;\">82</td></tr><tr><td class = \"rowNumber\" style = \"font-weight: bold; text-align: right;\">2</td><td style = \"text-align: left;\">Ostrich Zyahir</td><td style = \"text-align: right;\">51</td><td style = \"text-align: right;\">47</td><td style = \"text-align: right;\">77</td><td style = \"text-align: right;\">78</td></tr><tr><td class = \"rowNumber\" style = \"font-weight: bold; text-align: right;\">3</td><td style = \"text-align: left;\">Cheese Silah</td><td style = \"text-align: right;\">41</td><td style = \"text-align: right;\">45</td><td style = \"text-align: right;\">100</td><td style = \"text-align: right;\">90</td></tr><tr><td class = \"rowNumber\" style = \"font-weight: bold; text-align: right;\">4</td><td style = \"text-align: left;\">Enthusiastic Wombat</td><td style = \"text-align: right;\">43</td><td style = \"text-align: right;\">56</td><td style = \"text-align: right;\">80</td><td style = \"text-align: right;\">74</td></tr><tr><td class = \"rowNumber\" style = \"font-weight: bold; text-align: right;\">5</td><td style = \"text-align: left;\">Energetic Khaison</td><td style = \"text-align: right;\">44</td><td style = \"text-align: right;\">44</td><td style = \"text-align: right;\">95</td><td style = \"text-align: right;\">88</td></tr><tr><td class = \"rowNumber\" style = \"font-weight: bold; text-align: right;\">6</td><td style = \"text-align: left;\">Koren the Zipper</td><td style = \"text-align: right;\">43</td><td style = \"text-align: right;\">45</td><td style = \"text-align: right;\">87</td><td style = \"text-align: right;\">96</td></tr><tr><td class = \"rowNumber\" style = \"font-weight: bold; text-align: right;\">7</td><td style = \"text-align: left;\">Dyon the Soldier</td><td style = \"text-align: right;\">40</td><td style = \"text-align: right;\">56</td><td style = \"text-align: right;\">68</td><td style = \"text-align: right;\">90</td></tr><tr><td class = \"rowNumber\" style = \"font-weight: bold; text-align: right;\">8</td><td style = \"text-align: left;\">Bagel Taylah</td><td style = \"text-align: right;\">46</td><td style = \"text-align: right;\">51</td><td style = \"text-align: right;\">93</td><td style = \"text-align: right;\">66</td></tr><tr><td class = \"rowNumber\" style = \"font-weight: bold; text-align: right;\">9</td><td style = \"text-align: left;\">Tag the Penguin</td><td style = \"text-align: right;\">39</td><td style = \"text-align: right;\">58</td><td style = \"text-align: right;\">98</td><td style = \"text-align: right;\">67</td></tr><tr><td class = \"rowNumber\" style = \"font-weight: bold; text-align: right;\">10</td><td style = \"text-align: left;\">Joven the Giant</td><td style = \"text-align: right;\">45</td><td style = \"text-align: right;\">55</td><td style = \"text-align: right;\">90</td><td style = \"text-align: right;\">63</td></tr></tbody></table></div>"
      ],
      "text/latex": [
       "\\begin{tabular}{r|ccccc}\n",
       "\t& name & h & f & l & t\\\\\n",
       "\t\\hline\n",
       "\t& String & Int64 & Int64 & Int64 & Int64\\\\\n",
       "\t\\hline\n",
       "\t1 & Jara the Scissors & 42 & 52 & 84 & 82 \\\\\n",
       "\t2 & Ostrich Zyahir & 51 & 47 & 77 & 78 \\\\\n",
       "\t3 & Cheese Silah & 41 & 45 & 100 & 90 \\\\\n",
       "\t4 & Enthusiastic Wombat & 43 & 56 & 80 & 74 \\\\\n",
       "\t5 & Energetic Khaison & 44 & 44 & 95 & 88 \\\\\n",
       "\t6 & Koren the Zipper & 43 & 45 & 87 & 96 \\\\\n",
       "\t7 & Dyon the Soldier & 40 & 56 & 68 & 90 \\\\\n",
       "\t8 & Bagel Taylah & 46 & 51 & 93 & 66 \\\\\n",
       "\t9 & Tag the Penguin & 39 & 58 & 98 & 67 \\\\\n",
       "\t10 & Joven the Giant & 45 & 55 & 90 & 63 \\\\\n",
       "\\end{tabular}\n"
      ],
      "text/plain": [
       "\u001b[1m10×5 DataFrame\u001b[0m\n",
       "\u001b[1m Row \u001b[0m│\u001b[1m name                \u001b[0m\u001b[1m h     \u001b[0m\u001b[1m f     \u001b[0m\u001b[1m l     \u001b[0m\u001b[1m t     \u001b[0m\n",
       "     │\u001b[90m String              \u001b[0m\u001b[90m Int64 \u001b[0m\u001b[90m Int64 \u001b[0m\u001b[90m Int64 \u001b[0m\u001b[90m Int64 \u001b[0m\n",
       "─────┼─────────────────────────────────────────────────\n",
       "   1 │ Jara the Scissors       42     52     84     82\n",
       "   2 │ Ostrich Zyahir          51     47     77     78\n",
       "   3 │ Cheese Silah            41     45    100     90\n",
       "   4 │ Enthusiastic Wombat     43     56     80     74\n",
       "   5 │ Energetic Khaison       44     44     95     88\n",
       "   6 │ Koren the Zipper        43     45     87     96\n",
       "   7 │ Dyon the Soldier        40     56     68     90\n",
       "   8 │ Bagel Taylah            46     51     93     66\n",
       "   9 │ Tag the Penguin         39     58     98     67\n",
       "  10 │ Joven the Giant         45     55     90     63"
      ]
     },
     "execution_count": 82,
     "metadata": {},
     "output_type": "execute_result"
    }
   ],
   "source": [
    "counters = random_team(() -> pick_best_rdmly(library, rt, 99), 100)\n",
    "fighters_to_df(counters)[1:10, :]"
   ]
  },
  {
   "cell_type": "code",
   "execution_count": 83,
   "id": "44cca9f3",
   "metadata": {},
   "outputs": [
    {
     "data": {
      "text/plain": [
       "100-element Vector{Fighter}:\n",
       " Fighter(\"Scheme-A ( 0.475, 0.794, 1.035, 0.195)\", 134, 25, 46, 19)\n",
       " Fighter(\"Scheme-A ( 0.050, 0.679, 0.107, 0.615)\", 12, 69, 34, 127)\n",
       " Fighter(\"Scheme-A ( 0.270, 0.214, 0.224, 0.873)\", 23, 91, 27, 80)\n",
       " Fighter(\"Scheme-A ( 0.530, 0.853, 0.670, 0.510)\", 23, 163, 16, 36)\n",
       " Fighter(\"Scheme-A ( 0.135, 0.633, 0.367, 1.033)\", 22, 61, 52, 123)\n",
       " Fighter(\"Scheme-A ( 0.656, 0.635, 0.443, 0.359)\", 18, 244, 13, 22)\n",
       " Fighter(\"Scheme-A ( 0.668, 0.535, 0.292, 1.059)\", 35, 128, 18, 38)\n",
       " Fighter(\"Scheme-A ( 0.189, 0.563, 0.074, 0.627)\", 14, 119, 17, 68)\n",
       " Fighter(\"Scheme-A ( 0.114, 0.250, 0.416, 0.305)\", 23, 52, 68, 139)\n",
       " Fighter(\"Scheme-A ( 0.366, 0.874, 0.513, 0.842)\", 41, 67, 51, 77)\n",
       " Fighter(\"Scheme-A ( 0.651, 0.087, 0.268, 0.080)\", 86, 52, 45, 31)\n",
       " Fighter(\"Scheme-A ( 0.586, 0.262, 0.603, 0.601)\", 35, 116, 20, 45)\n",
       " Fighter(\"Scheme-A ( 0.645, 0.767, 0.756, 0.251)\", 115, 38, 42, 21)\n",
       " ⋮\n",
       " Fighter(\"Scheme-A ( 0.218, 0.392, 0.683, 0.905)\", 26, 71, 43, 99)\n",
       " Fighter(\"Scheme-A ( 0.354, 0.158, 0.387, 0.883)\", 34, 78, 39, 77)\n",
       " Fighter(\"Scheme-A ( 0.584, 0.828, 0.240, 0.830)\", 34, 118, 23, 44)\n",
       " Fighter(\"Scheme-A ( 0.134, 0.956, 0.993, 0.676)\", 44, 30, 133, 94)\n",
       " Fighter(\"Scheme-A ( 0.351, 0.194, 0.453, 0.900)\", 36, 72, 45, 80)\n",
       " Fighter(\"Scheme-A ( 0.378, 0.715, 0.638, 0.490)\", 35, 79, 39, 74)\n",
       " Fighter(\"Scheme-A ( 0.687, 0.332, 0.688, 1.050)\", 55, 84, 32, 43)\n",
       " Fighter(\"Scheme-A ( 0.247, 0.168, 0.830, 0.777)\", 29, 69, 47, 96)\n",
       " Fighter(\"Scheme-A ( 0.593, 0.540, 0.810, 0.166)\", 141, 29, 38, 19)\n",
       " Fighter(\"Scheme-A ( 0.584, 0.026, 1.043, 0.139)\", 174, 23, 32, 18)\n",
       " Fighter(\"Scheme-A ( 0.506, 0.286, 0.726, 0.083)\", 177, 20, 35, 13)\n",
       " Fighter(\"Scheme-A ( 0.726, 0.753, 0.661, 0.382)\", 40, 121, 20, 36)"
      ]
     },
     "execution_count": 83,
     "metadata": {},
     "output_type": "execute_result"
    }
   ],
   "source": [
    "rt = random_team(() -> random_scheme_a(), 100)"
   ]
  },
  {
   "cell_type": "code",
   "execution_count": 87,
   "id": "dbd44c87",
   "metadata": {
    "scrolled": false
   },
   "outputs": [
    {
     "name": "stdout",
     "output_type": "stream",
     "text": [
      "Fighter(\"Scheme-A ( 0.475, 0.794, 1.035, 0.195)\", 134, 25, 46, 19)\n",
      "-100\n",
      "Fighter(\"Scheme-A ( 0.270, 0.214, 0.224, 0.873)\", 23, 91, 27, 80)\n",
      "-40\n",
      "Fighter(\"Scheme-A ( 0.530, 0.853, 0.670, 0.510)\", 23, 163, 16, 36)\n",
      "-92\n",
      "Fighter(\"Scheme-A ( 0.656, 0.635, 0.443, 0.359)\", 18, 244, 13, 22)\n",
      "-92\n",
      "Fighter(\"Scheme-A ( 0.668, 0.535, 0.292, 1.059)\", 35, 128, 18, 38)\n",
      "-92\n",
      "Fighter(\"Scheme-A ( 0.189, 0.563, 0.074, 0.627)\", 14, 119, 17, 68)\n",
      "-66\n",
      "Fighter(\"Scheme-A ( 0.114, 0.250, 0.416, 0.305)\", 23, 52, 68, 139)\n",
      "78\n",
      "Fighter(\"Scheme-A ( 0.366, 0.874, 0.513, 0.842)\", 41, 67, 51, 77)\n",
      "-34\n",
      "Fighter(\"Scheme-A ( 0.651, 0.087, 0.268, 0.080)\", 86, 52, 45, 31)\n",
      "78\n",
      "Fighter(\"Scheme-A ( 0.586, 0.262, 0.603, 0.601)\", 35, 116, 20, 45)\n",
      "-92\n",
      "Fighter(\"Scheme-A ( 0.645, 0.767, 0.756, 0.251)\", 115, 38, 42, 21)\n",
      "-84\n",
      "Fighter(\"Scheme-A ( 0.614, 0.033, 0.210, 0.095)\", 25, 168, 16, 32)\n",
      "-92\n",
      "Fighter(\"Scheme-A ( 0.633, 0.494, 0.339, 0.703)\", 46, 95, 27, 46)\n",
      "-42\n",
      "Fighter(\"Scheme-A ( 0.506, 0.569, 0.439, 0.704)\", 48, 75, 41, 59)\n",
      "-22\n",
      "Fighter(\"Scheme-A ( 0.624, 0.228, 0.177, 0.347)\", 107, 40, 44, 25)\n",
      "-66\n",
      "Fighter(\"Scheme-A ( 0.720, 0.209, 0.081, 0.144)\", 32, 154, 14, 30)\n",
      "-92\n",
      "Fighter(\"Scheme-A ( 0.647, 0.707, 1.011, 0.343)\", 114, 39, 41, 22)\n",
      "-76\n",
      "Fighter(\"Scheme-A ( 0.600, 0.596, 0.607, 0.971)\", 51, 81, 35, 50)\n",
      "12\n"
     ]
    }
   ],
   "source": [
    "for f in rt[1:20]\n",
    "    v = eval_battle_list(f, counters)\n",
    "    if v < 90\n",
    "        println(f)\n",
    "        println(v)\n",
    "    end\n",
    "end"
   ]
  },
  {
   "cell_type": "code",
   "execution_count": 88,
   "id": "8ef7c944",
   "metadata": {
    "scrolled": false
   },
   "outputs": [
    {
     "name": "stdout",
     "output_type": "stream",
     "text": [
      "Fighter(\"Jara the Scissors\", 42, 52, 84, 82)\n",
      "46\n",
      "Fighter(\"Ostrich Zyahir\", 51, 47, 77, 78)\n",
      "38\n",
      "Fighter(\"Cheese Silah\", 41, 45, 100, 90)\n",
      "46\n",
      "Fighter(\"Enthusiastic Wombat\", 43, 56, 80, 74)\n",
      "42\n",
      "Fighter(\"Energetic Khaison\", 44, 44, 95, 88)\n",
      "48\n",
      "Fighter(\"Koren the Zipper\", 43, 45, 87, 96)\n",
      "48\n",
      "Fighter(\"Dyon the Soldier\", 40, 56, 68, 90)\n",
      "46\n",
      "Fighter(\"Bagel Taylah\", 46, 51, 93, 66)\n",
      "32\n",
      "Fighter(\"Tag the Penguin\", 39, 58, 98, 67)\n",
      "38\n",
      "Fighter(\"Joven the Giant\", 45, 55, 90, 63)\n",
      "28\n",
      "Fighter(\"Candle Kamaro\", 44, 56, 87, 66)\n",
      "40\n",
      "Fighter(\"Powerful Jellyfish\", 39, 59, 96, 67)\n",
      "38\n",
      "Fighter(\"Matheus the Tiger\", 38, 52, 82, 94)\n",
      "36\n",
      "Fighter(\"Powerful Train\", 44, 46, 94, 83)\n",
      "48\n",
      "Fighter(\"Ahmoni the Noble\", 42, 50, 96, 77)\n",
      "42\n",
      "Fighter(\"Wombat Akan\", 42, 44, 89, 100)\n",
      "50\n",
      "Fighter(\"Sheltering Xerox\", 60, 35, 75, 97)\n",
      "30\n",
      "Fighter(\"Martini Judsen\", 39, 51, 91, 87)\n",
      "44\n",
      "Fighter(\"Ahavah the Koala\", 42, 49, 81, 92)\n",
      "46\n",
      "Fighter(\"Lema the Eel\", 50, 48, 67, 88)\n",
      "42\n"
     ]
    }
   ],
   "source": [
    "for f in counters[1:20]\n",
    "    v = eval_battle_list(f, rt)\n",
    "    if v < 90\n",
    "        println(f)\n",
    "        println(v)\n",
    "    end\n",
    "end"
   ]
  },
  {
   "cell_type": "code",
   "execution_count": 89,
   "id": "9bd1e936",
   "metadata": {},
   "outputs": [
    {
     "name": "stdout",
     "output_type": "stream",
     "text": [
      "Fighter(\"Scheme-A ( 0.050, 0.679, 0.107, 0.615)\", 12, 69, 34, 127)\n",
      "92\n",
      "Fighter(\"Scheme-A ( 0.135, 0.633, 0.367, 1.033)\", 22, 61, 52, 123)\n",
      "92\n",
      "Fighter(\"Scheme-A ( 0.114, 0.250, 0.416, 0.305)\", 23, 52, 68, 139)\n",
      "78\n",
      "Fighter(\"Scheme-A ( 0.651, 0.087, 0.268, 0.080)\", 86, 52, 45, 31)\n",
      "78\n"
     ]
    }
   ],
   "source": [
    "for f in rt[1:20]\n",
    "    v = eval_battle_list(f, counters)\n",
    "    if v > 30\n",
    "        println(f)\n",
    "        println(v)\n",
    "    end\n",
    "end"
   ]
  },
  {
   "cell_type": "code",
   "execution_count": 90,
   "id": "ee86de44",
   "metadata": {},
   "outputs": [
    {
     "data": {
      "text/plain": [
       "-0.4590000000000001"
      ]
     },
     "execution_count": 90,
     "metadata": {},
     "output_type": "execute_result"
    }
   ],
   "source": [
    "evaluate_generator(random_scheme_a, 100, 20)"
   ]
  },
  {
   "cell_type": "code",
   "execution_count": 91,
   "id": "3358f0e4",
   "metadata": {
    "scrolled": true
   },
   "outputs": [
    {
     "data": {
      "text/plain": [
       "-0.8535"
      ]
     },
     "execution_count": 91,
     "metadata": {},
     "output_type": "execute_result"
    }
   ],
   "source": [
    "evaluate_generator(random_fighter, 100, 20)"
   ]
  },
  {
   "cell_type": "code",
   "execution_count": 92,
   "id": "cb9a9f36",
   "metadata": {},
   "outputs": [
    {
     "data": {
      "text/plain": [
       "-0.8355"
      ]
     },
     "execution_count": 92,
     "metadata": {},
     "output_type": "execute_result"
    }
   ],
   "source": [
    "evaluate_generator(() -> random_tournament_winner(1), 100, 20)"
   ]
  },
  {
   "cell_type": "code",
   "execution_count": 93,
   "id": "1c34a0bb",
   "metadata": {},
   "outputs": [
    {
     "data": {
      "text/plain": [
       "-0.8360000000000001"
      ]
     },
     "execution_count": 93,
     "metadata": {},
     "output_type": "execute_result"
    }
   ],
   "source": [
    "evaluate_generator(() -> random_tournament_winner(2), 100, 20)"
   ]
  },
  {
   "cell_type": "code",
   "execution_count": 94,
   "id": "ce7d4c91",
   "metadata": {},
   "outputs": [
    {
     "data": {
      "text/plain": [
       "-0.8290000000000001"
      ]
     },
     "execution_count": 94,
     "metadata": {},
     "output_type": "execute_result"
    }
   ],
   "source": [
    "evaluate_generator(() -> random_tournament_winner(3), 100, 20)"
   ]
  },
  {
   "cell_type": "code",
   "execution_count": 95,
   "id": "a1349341",
   "metadata": {},
   "outputs": [
    {
     "data": {
      "text/plain": [
       "-0.799"
      ]
     },
     "execution_count": 95,
     "metadata": {},
     "output_type": "execute_result"
    }
   ],
   "source": [
    "evaluate_generator(() -> random_tournament_winner(4), 100, 20)"
   ]
  },
  {
   "cell_type": "markdown",
   "id": "49ae82ed",
   "metadata": {},
   "source": [
    "## Team battles"
   ]
  },
  {
   "cell_type": "code",
   "execution_count": 110,
   "id": "6820abec",
   "metadata": {},
   "outputs": [
    {
     "data": {
      "text/plain": [
       "Fighter(\"Scheme-A ( 0.340, 0.083, 0.110, 0.175)\", 64, 40, 81, 56)"
      ]
     },
     "execution_count": 110,
     "metadata": {},
     "output_type": "execute_result"
    }
   ],
   "source": [
    "random_tournament_winner(2, random_scheme_a)"
   ]
  },
  {
   "cell_type": "code",
   "execution_count": 111,
   "id": "bec40c43",
   "metadata": {},
   "outputs": [
    {
     "data": {
      "text/plain": [
       "100-element Vector{Fighter}:\n",
       " Fighter(\"Triangle Hari\", 43, 96, 20, 52)\n",
       " Fighter(\"Mickayla the Tyro\", 78, 36, 67, 54)\n",
       " Fighter(\"Tribe the Hunter\", 24, 94, 99, 57)\n",
       " Fighter(\"Haiden the Responsible\", 21, 84, 76, 79)\n",
       " Fighter(\"Strong Soldier\", 44, 66, 30, 87)\n",
       " Fighter(\"Monstrous Zacharias\", 42, 94, 43, 45)\n",
       " Fighter(\"Staley the Robot\", 44, 81, 48, 53)\n",
       " Fighter(\"Yellow Heron\", 77, 63, 20, 57)\n",
       " Fighter(\"Kathryne the Shy\", 64, 88, 36, 23)\n",
       " Fighter(\"Xray Nairah\", 38, 63, 47, 92)\n",
       " Fighter(\"Majesti the Notebook\", 74, 72, 30, 34)\n",
       " Fighter(\"Risky Baboon\", 31, 81, 22, 84)\n",
       " Fighter(\"Icicle Tel\", 16, 85, 88, 85)\n",
       " ⋮\n",
       " Fighter(\"Yashi the Merciful\", 60, 72, 82, 10)\n",
       " Fighter(\"Ingenious Balloon\", 60, 56, 95, 16)\n",
       " Fighter(\"Car Penelopi\", 40, 52, 68, 100)\n",
       " Fighter(\"Rahsaan the Blind\", 74, 29, 72, 87)\n",
       " Fighter(\"Anaia the Warm\", 16, 97, 91, 72)\n",
       " Fighter(\"Demarcus the Minimal\", 56, 100, 39, 22)\n",
       " Fighter(\"Jellyfish Iyonna\", 48, 85, 86, 21)\n",
       " Fighter(\"Kriyaan the Bear\", 43, 75, 26, 75)\n",
       " Fighter(\"Jayani the Cricket\", 71, 79, 41, 18)\n",
       " Fighter(\"Roger the Cheetah\", 68, 87, 44, 12)\n",
       " Fighter(\"Akai the Wolf\", 68, 61, 30, 62)\n",
       " Fighter(\"Cypress the Heron\", 39, 97, 69, 36)"
      ]
     },
     "execution_count": 111,
     "metadata": {},
     "output_type": "execute_result"
    }
   ],
   "source": [
    "team_a = random_team(() -> rand_rename(random_scheme_a()), 100)\n",
    "team_a1 = random_team(() -> rand_rename(random_tournament_winner(1, random_scheme_a)), 100)\n",
    "team_r0 = random_team(() -> rand_rename(random_tournament_winner(0)), 100)\n",
    "team_r1 = random_team(() -> rand_rename(random_tournament_winner(1)), 100)\n",
    "team_r2 = random_team(() -> rand_rename(random_tournament_winner(2)), 100)\n"
   ]
  },
  {
   "cell_type": "code",
   "execution_count": 112,
   "id": "fa1e5468",
   "metadata": {},
   "outputs": [
    {
     "data": {
      "text/plain": [
       "1"
      ]
     },
     "execution_count": 112,
     "metadata": {},
     "output_type": "execute_result"
    }
   ],
   "source": [
    "eval_team_battle(team_a, counters)"
   ]
  },
  {
   "cell_type": "code",
   "execution_count": 113,
   "id": "984218a2",
   "metadata": {},
   "outputs": [
    {
     "data": {
      "text/plain": [
       "1"
      ]
     },
     "execution_count": 113,
     "metadata": {},
     "output_type": "execute_result"
    }
   ],
   "source": [
    "eval_team_battle(team_a, team_r0)"
   ]
  },
  {
   "cell_type": "code",
   "execution_count": 114,
   "id": "aa047859",
   "metadata": {},
   "outputs": [
    {
     "data": {
      "text/plain": [
       "1"
      ]
     },
     "execution_count": 114,
     "metadata": {},
     "output_type": "execute_result"
    }
   ],
   "source": [
    "eval_team_battle(team_a, team_r1)"
   ]
  },
  {
   "cell_type": "code",
   "execution_count": 115,
   "id": "8ccc5e06",
   "metadata": {},
   "outputs": [
    {
     "data": {
      "text/plain": [
       "1"
      ]
     },
     "execution_count": 115,
     "metadata": {},
     "output_type": "execute_result"
    }
   ],
   "source": [
    "eval_team_battle(team_a, team_r2)"
   ]
  },
  {
   "cell_type": "code",
   "execution_count": 116,
   "id": "4358fc4f",
   "metadata": {},
   "outputs": [
    {
     "data": {
      "text/plain": [
       "1"
      ]
     },
     "execution_count": 116,
     "metadata": {},
     "output_type": "execute_result"
    }
   ],
   "source": [
    "eval_team_battle(team_a, team_a1)"
   ]
  },
  {
   "cell_type": "code",
   "execution_count": 101,
   "id": "258bba9d",
   "metadata": {},
   "outputs": [
    {
     "data": {
      "text/plain": [
       "-1"
      ]
     },
     "execution_count": 101,
     "metadata": {},
     "output_type": "execute_result"
    }
   ],
   "source": [
    "eval_team_battle(team_r0, team_a)"
   ]
  },
  {
   "cell_type": "code",
   "execution_count": 102,
   "id": "c2cfc07c",
   "metadata": {},
   "outputs": [
    {
     "data": {
      "text/plain": [
       "-1"
      ]
     },
     "execution_count": 102,
     "metadata": {},
     "output_type": "execute_result"
    }
   ],
   "source": [
    "eval_team_battle(team_r0, team_r1)"
   ]
  },
  {
   "cell_type": "code",
   "execution_count": 103,
   "id": "cea97a8d",
   "metadata": {},
   "outputs": [
    {
     "data": {
      "text/plain": [
       "-1"
      ]
     },
     "execution_count": 103,
     "metadata": {},
     "output_type": "execute_result"
    }
   ],
   "source": [
    "eval_team_battle(team_r0, team_r2)"
   ]
  },
  {
   "cell_type": "code",
   "execution_count": 117,
   "id": "55c01f57",
   "metadata": {
    "scrolled": false
   },
   "outputs": [
    {
     "name": "stdout",
     "output_type": "stream",
     "text": [
      "         Fighter(\"Sassy Mango\", 82, 32, 76, 35)\n",
      "         Fighter(\"Soldier Finley\", 32, 85, 33, 73)\n",
      "Sassy Mango lost against Soldier Finley\n",
      "         Fighter(\"Generous Student\", 39, 18, 194, 96)\n",
      "Generous Student lost against Soldier Finley\n",
      "         Fighter(\"Satsuki the Blanket\", 129, 30, 43, 19)\n",
      "Satsuki the Blanket won against Soldier Finley\n",
      "         Fighter(\"Triangle Hadli\", 44, 70, 47, 69)\n",
      "Satsuki the Blanket lost against Triangle Hadli\n",
      "         Fighter(\"Kalliope the Valiant\", 29, 53, 72, 120)\n",
      "Kalliope the Valiant won against Triangle Hadli\n",
      "         Fighter(\"Blessed the Robot\", 26, 113, 23, 57)\n",
      "Kalliope the Valiant won against Blessed the Robot\n",
      "         Fighter(\"Underwater Philosopher\", 127, 17, 59, 20)\n",
      "Kalliope the Valiant won against Underwater Philosopher\n",
      "         Fighter(\"Mouse Elenoa\", 114, 41, 39, 21)\n",
      "Kalliope the Valiant lost against Mouse Elenoa\n",
      "         Fighter(\"Young Roselle\", 103, 44, 42, 25)\n",
      "Young Roselle won against Mouse Elenoa\n",
      "         Fighter(\"Nitya the Kingly\", 24, 136, 20, 46)\n",
      "Young Roselle lost against Nitya the Kingly\n",
      "         Fighter(\"Cheetah Kron\", 136, 32, 37, 19)\n",
      "Cheetah Kron lost against Nitya the Kingly\n",
      "         Fighter(\"Spider Azlynn\", 17, 198, 17, 32)\n",
      "Spider Azlynn lost against Nitya the Kingly\n",
      "         Fighter(\"Nikola the Spider\", 19, 119, 19, 62)\n",
      "Nikola the Spider won against Nitya the Kingly\n",
      "         Fighter(\"Quail Lilla\", 108, 39, 45, 23)\n",
      "Nikola the Spider won against Quail Lilla\n",
      "         Fighter(\"Sheltering Blanket\", 100, 12, 85, 25)\n",
      "Nikola the Spider won against Sheltering Blanket\n",
      "         Fighter(\"Prankster Harmoni\", 64, 16, 130, 41)\n",
      "Nikola the Spider won against Prankster Harmoni\n",
      "         Fighter(\"Creative Laptop\", 35, 87, 34, 66)\n",
      "Nikola the Spider lost against Creative Laptop\n",
      "         Fighter(\"Mantis Kendal\", 43, 109, 22, 40)\n",
      "Mantis Kendal lost against Creative Laptop\n",
      "         Fighter(\"Naksh the Soldier\", 29, 60, 59, 109)\n",
      "Naksh the Soldier won against Creative Laptop\n",
      "         Fighter(\"Joyful Zebra\", 130, 30, 43, 17)\n",
      "Naksh the Soldier lost against Joyful Zebra\n",
      "         Fighter(\"Xceeding Laptop\", 33, 93, 29, 64)\n",
      "Xceeding Laptop lost against Joyful Zebra\n",
      "         Fighter(\"Unicorn Kaire\", 73, 31, 87, 44)\n",
      "Unicorn Kaire won against Joyful Zebra\n",
      "         Fighter(\"Little Lambert\", 167, 29, 28, 16)\n",
      "Unicorn Kaire won against Little Lambert\n",
      "         Fighter(\"Nutritious River\", 61, 21, 125, 52)\n",
      "Unicorn Kaire lost against Nutritious River\n",
      "         Fighter(\"Jemimah the Unicorn\", 52, 25, 134, 69)\n",
      "Jemimah the Unicorn won against Nutritious River\n",
      "         Fighter(\"Sada the Marmot\", 67, 10, 134, 35)\n",
      "Jemimah the Unicorn won against Sada the Marmot\n",
      "         Fighter(\"Umbrella Venelope\", 110, 13, 75, 24)\n",
      "Jemimah the Unicorn won against Umbrella Venelope\n",
      "         Fighter(\"Jacket Miami\", 67, 36, 85, 52)\n",
      "Jemimah the Unicorn won against Jacket Miami\n",
      "         Fighter(\"Hylia the Prankster\", 74, 34, 81, 43)\n",
      "Jemimah the Unicorn won against Hylia the Prankster\n",
      "         Fighter(\"Militant Raaya\", 25, 140, 19, 43)\n",
      "Jemimah the Unicorn won against Militant Raaya\n",
      "         Fighter(\"Enthusiastic Caelan\", 44, 28, 140, 93)\n",
      "Jemimah the Unicorn lost against Enthusiastic Caelan\n",
      "         Fighter(\"Prankster Dupree\", 61, 26, 114, 56)\n",
      "Prankster Dupree lost against Enthusiastic Caelan\n",
      "         Fighter(\"Carlos the Vacuum\", 27, 163, 14, 32)\n",
      "Carlos the Vacuum lost against Enthusiastic Caelan\n",
      "         Fighter(\"Melodious Canard\", 99, 20, 76, 24)\n",
      "Melodious Canard lost against Enthusiastic Caelan\n",
      "         Fighter(\"Primordial Finian\", 54, 37, 99, 71)\n",
      "Primordial Finian lost against Enthusiastic Caelan\n",
      "         Fighter(\"Aija the Xcecutive\", 40, 85, 35, 61)\n",
      "Aija the Xcecutive won against Enthusiastic Caelan\n",
      "         Fighter(\"Jacobi the Yogurt\", 206, 17, 30, 18)\n",
      "Aija the Xcecutive won against Jacobi the Yogurt\n",
      "         Fighter(\"Collin the Yellow\", 138, 27, 42, 17)\n",
      "Aija the Xcecutive lost against Collin the Yellow\n",
      "         Fighter(\"Gentle Sequoia\", 114, 37, 43, 23)\n",
      "Gentle Sequoia won against Collin the Yellow\n",
      "         Fighter(\"Elegant Airplane\", 97, 36, 57, 27)\n",
      "Gentle Sequoia lost against Elegant Airplane\n",
      "         Fighter(\"Linette the Orangutan\", 31, 67, 50, 95)\n",
      "Linette the Orangutan lost against Elegant Airplane\n",
      "         Fighter(\"Yardstick Genna\", 31, 165, 13, 27)\n",
      "Yardstick Genna lost against Elegant Airplane\n",
      "         Fighter(\"Zipper Alori\", 88, 51, 45, 30)\n",
      "Zipper Alori lost against Elegant Airplane\n",
      "         Fighter(\"Quilled Baboon\", 31, 67, 50, 95)\n",
      "Quilled Baboon lost against Elegant Airplane\n",
      "         Fighter(\"Little Jumari\", 149, 26, 38, 17)\n",
      "Little Jumari lost against Elegant Airplane\n",
      "         Fighter(\"Goldfish Lyria\", 62, 22, 121, 51)\n",
      "Goldfish Lyria won against Elegant Airplane\n",
      "         Fighter(\"Caleo the Pigeon\", 137, 24, 46, 17)\n",
      "Goldfish Lyria won against Caleo the Pigeon\n",
      "         Fighter(\"Mikel the Beetle\", 154, 27, 35, 16)\n",
      "Goldfish Lyria won against Mikel the Beetle\n",
      "         Fighter(\"Dog Leighton\", 24, 98, 28, 71)\n",
      "Goldfish Lyria lost against Dog Leighton\n",
      "         Fighter(\"Unknown Anaid\", 157, 30, 31, 14)\n",
      "Unknown Anaid won against Dog Leighton\n",
      "         Fighter(\"Braelin the Beetle\", 105, 29, 59, 26)\n",
      "Unknown Anaid lost against Braelin the Beetle\n",
      "         Fighter(\"Giant Evolett\", 20, 48, 72, 158)\n",
      "Giant Evolett lost against Braelin the Beetle\n",
      "         Fighter(\"Dancing Xcecutive\", 76, 42, 66, 42)\n",
      "Dancing Xcecutive won against Braelin the Beetle\n",
      "         Fighter(\"Shy Bagel\", 79, 11, 112, 25)\n",
      "Dancing Xcecutive lost against Shy Bagel\n",
      "         Fighter(\"Fireball Emine\", 29, 49, 81, 127)\n",
      "Fireball Emine lost against Shy Bagel\n",
      "         Fighter(\"Tarik the Quilt\", 28, 153, 18, 34)\n",
      "Tarik the Quilt won against Shy Bagel\n",
      "         Fighter(\"Jailene the Giraffe\", 34, 117, 22, 45)\n",
      "Tarik the Quilt lost against Jailene the Giraffe\n",
      "         Fighter(\"Lenyn the Cube\", 30, 64, 53, 101)\n",
      "Lenyn the Cube won against Jailene the Giraffe\n",
      "         Fighter(\"Zaire the Xquisite\", 57, 34, 102, 66)\n",
      "Lenyn the Cube won against Zaire the Xquisite\n",
      "         Fighter(\"Lillyanne the Ladder\", 14, 120, 20, 67)\n",
      "Lenyn the Cube won against Lillyanne the Ladder\n",
      "         Fighter(\"Jordi the Yardstick\", 39, 75, 42, 72)\n",
      "Lenyn the Cube won against Jordi the Yardstick\n",
      "         Fighter(\"Wise Alexzandria\", 104, 15, 78, 21)\n",
      "Lenyn the Cube lost against Wise Alexzandria\n",
      "         Fighter(\"Helicopter Indra\", 22, 70, 40, 108)\n",
      "Helicopter Indra lost against Wise Alexzandria\n",
      "         Fighter(\"Cricket Mikhaila\", 85, 13, 101, 23)\n",
      "Cricket Mikhaila won against Wise Alexzandria\n",
      "         Fighter(\"Knight Braxten\", 23, 151, 14, 41)\n",
      "Cricket Mikhaila lost against Knight Braxten\n",
      "         Fighter(\"Bear Janari\", 15, 74, 35, 113)\n",
      "Bear Janari won against Knight Braxten\n",
      "         Fighter(\"Doorman Naje\", 79, 34, 76, 38)\n",
      "Bear Janari lost against Doorman Naje\n",
      "         Fighter(\"Artisan Tajveer\", 77, 15, 109, 30)\n",
      "Artisan Tajveer won against Doorman Naje\n",
      "         Fighter(\"Milcah the Umpire\", 21, 216, 13, 24)\n",
      "Artisan Tajveer lost against Milcah the Umpire\n",
      "         Fighter(\"Makhari the Itinerant\", 28, 163, 13, 31)\n",
      "Makhari the Itinerant won against Milcah the Umpire\n",
      "         Fighter(\"Balloon Vaia\", 67, 43, 73, 51)\n",
      "Makhari the Itinerant lost against Balloon Vaia\n",
      "         Fighter(\"Darrion the Dynamic\", 180, 22, 32, 12)\n",
      "Darrion the Dynamic lost against Balloon Vaia\n",
      "         Fighter(\"Silent Egg\", 123, 41, 34, 18)\n",
      "Silent Egg lost against Balloon Vaia\n",
      "         Fighter(\"Brutal Corinne\", 26, 66, 49, 106)\n",
      "Brutal Corinne lost against Balloon Vaia\n",
      "         Fighter(\"Studious Knight\", 28, 97, 28, 67)\n",
      "Studious Knight won against Balloon Vaia\n",
      "         Fighter(\"Icy Rogue\", 92, 51, 42, 28)\n",
      "Studious Knight won against Icy Rogue\n",
      "         Fighter(\"Maryse the Snake\", 93, 52, 40, 27)\n",
      "Studious Knight won against Maryse the Snake\n",
      "         Fighter(\"Unreliable T-Rex\", 33, 81, 37, 75)\n",
      "Studious Knight lost against Unreliable T-Rex\n",
      "         Fighter(\"Orangutan Alorah\", 18, 65, 42, 124)\n",
      "Orangutan Alorah won against Unreliable T-Rex\n",
      "         Fighter(\"Mikenzie the Diamond\", 51, 15, 164, 58)\n",
      "Orangutan Alorah won against Mikenzie the Diamond\n",
      "         Fighter(\"Quail Ellyanna\", 113, 45, 35, 21)\n",
      "Orangutan Alorah lost against Quail Ellyanna\n",
      "         Fighter(\"Shamaya the Zebra\", 140, 27, 41, 17)\n",
      "Shamaya the Zebra won against Quail Ellyanna\n",
      "         Fighter(\"Responsible Wallet\", 67, 26, 105, 47)\n",
      "Shamaya the Zebra lost against Responsible Wallet\n",
      "         Fighter(\"Alaric the Cobbler\", 52, 13, 167, 49)\n",
      "Alaric the Cobbler won against Responsible Wallet\n",
      "         Fighter(\"Flirtatious Pigeon\", 181, 18, 36, 12)\n",
      "Alaric the Cobbler won against Flirtatious Pigeon\n",
      "         Fighter(\"Siani the Commander\", 72, 43, 69, 45)\n",
      "Alaric the Cobbler won against Siani the Commander\n",
      "         Fighter(\"Little Xerox\", 103, 41, 46, 25)\n",
      "Alaric the Cobbler won against Little Xerox\n",
      "         Fighter(\"Shy Jacket\", 110, 28, 57, 23)\n",
      "Alaric the Cobbler won against Shy Jacket\n",
      "         Fighter(\"Conscientious Isel\", 30, 51, 76, 121)\n",
      "Alaric the Cobbler won against Conscientious Isel\n",
      "         Fighter(\"Violet Amarianna\", 73, 26, 96, 42)\n",
      "Alaric the Cobbler won against Violet Amarianna\n",
      "         Fighter(\"Monstrous Ayanna\", 35, 90, 31, 64)\n",
      "Alaric the Cobbler lost against Monstrous Ayanna\n",
      "         Fighter(\"Rough Lamp\", 39, 98, 27, 52)\n",
      "Rough Lamp lost against Monstrous Ayanna\n",
      "         Fighter(\"Daring Bentlee\", 21, 37, 111, 186)\n",
      "Daring Bentlee won against Monstrous Ayanna\n",
      "         Fighter(\"Diamond Canard\", 41, 26, 153, 102)\n",
      "Daring Bentlee lost against Diamond Canard\n",
      "         Fighter(\"Rogue Macklyn\", 73, 28, 93, 41)\n",
      "Rogue Macklyn lost against Diamond Canard\n",
      "         Fighter(\"Neurotic Teo\", 94, 44, 49, 28)\n",
      "Neurotic Teo won against Diamond Canard\n",
      "         Fighter(\"Yellow Fateh\", 118, 31, 48, 21)\n",
      "Neurotic Teo won against Yellow Fateh\n",
      "         Fighter(\"Pug Naia\", 31, 115, 22, 50)\n",
      "Neurotic Teo lost against Pug Naia\n",
      "         Fighter(\"Vadim the Blimp\", 81, 28, 83, 36)\n",
      "Vadim the Blimp lost against Pug Naia\n",
      "         Fighter(\"Commander Ilay\", 41, 102, 24, 47)\n",
      "Commander Ilay lost against Pug Naia\n",
      "         Fighter(\"Lucid Archer\", 22, 190, 14, 29)\n",
      "Lucid Archer lost against Pug Naia\n",
      "         Fighter(\"Lucid Ahmaud\", 27, 175, 13, 28)\n",
      "Lucid Ahmaud lost against Pug Naia\n",
      "         Fighter(\"Primordial Isabella\", 46, 72, 45, 64)\n",
      "Primordial Isabella won against Pug Naia\n",
      "         Fighter(\"Primordial Basket\", 50, 18, 159, 63)\n",
      "Primordial Isabella won against Primordial Basket\n",
      "         Fighter(\"Leonora the Zipper\", 95, 38, 56, 28)\n",
      "Primordial Isabella lost against Leonora the Zipper\n",
      "         Fighter(\"Tangled Marksman\", 29, 142, 16, 38)\n",
      "Tangled Marksman won against Leonora the Zipper\n",
      "         Fighter(\"Vain Hunter\", 37, 137, 18, 31)\n",
      "Tangled Marksman won against Vain Hunter\n",
      "         Fighter(\"Lexani the Pug\", 17, 106, 20, 74)\n"
     ]
    },
    {
     "name": "stdout",
     "output_type": "stream",
     "text": [
      "Tangled Marksman lost against Lexani the Pug\n",
      "         Fighter(\"Luminous Shark\", 23, 61, 52, 121)\n",
      "Luminous Shark won against Lexani the Pug\n",
      "         Fighter(\"Jhett the Hunter\", 41, 90, 30, 56)\n",
      "Luminous Shark won against Jhett the Hunter\n",
      "         Fighter(\"Commander Kessiah\", 69, 40, 77, 48)\n",
      "Luminous Shark lost against Commander Kessiah\n",
      "         Fighter(\"Zen the Blueberry\", 87, 42, 57, 33)\n",
      "Zen the Blueberry lost against Commander Kessiah\n",
      "         Fighter(\"Xpanded Lawyer\", 39, 67, 51, 80)\n",
      "Xpanded Lawyer lost against Commander Kessiah\n",
      "         Fighter(\"Giraffe Jamesyn\", 34, 95, 28, 61)\n",
      "Giraffe Jamesyn won against Commander Kessiah\n",
      "         Fighter(\"Dynamic Duck\", 84, 51, 48, 33)\n",
      "Giraffe Jamesyn won against Dynamic Duck\n",
      "         Fighter(\"Warrior Norvin\", 26, 69, 44, 102)\n",
      "Giraffe Jamesyn lost against Warrior Norvin\n",
      "         Fighter(\"Aiven the Puppy\", 43, 18, 180, 82)\n",
      "Aiven the Puppy lost against Warrior Norvin\n",
      "         Fighter(\"Victorious Engine\", 25, 38, 112, 164)\n",
      "Victorious Engine won against Warrior Norvin\n",
      "         Fighter(\"Original Horse\", 64, 26, 109, 52)\n",
      "Victorious Engine lost against Original Horse\n",
      "         Fighter(\"Responsible Werewolf\", 33, 56, 67, 106)\n",
      "Responsible Werewolf lost against Original Horse\n",
      "         Fighter(\"Helicopter Maelle\", 12, 97, 25, 88)\n",
      "Helicopter Maelle won against Original Horse\n",
      "         Fighter(\"Airplane Marilyn\", 116, 36, 44, 20)\n",
      "Helicopter Maelle lost against Airplane Marilyn\n",
      "         Fighter(\"Passive Armadillo\", 96, 46, 45, 27)\n",
      "Passive Armadillo won against Airplane Marilyn\n",
      "         Fighter(\"Cube Frayja\", 27, 26, 179, 171)\n",
      "Passive Armadillo won against Cube Frayja\n",
      "         Fighter(\"Violet Ninette\", 62, 29, 106, 56)\n",
      "Passive Armadillo lost against Violet Ninette\n",
      "         Fighter(\"Bubbly Knight\", 30, 115, 22, 51)\n",
      "Bubbly Knight won against Violet Ninette\n",
      "         Fighter(\"Lazare the Elegant\", 116, 16, 67, 23)\n",
      "Bubbly Knight lost against Lazare the Elegant\n",
      "         Fighter(\"Laptop Maizy\", 22, 127, 21, 53)\n",
      "Laptop Maizy won against Lazare the Elegant\n",
      "         Fighter(\"Tayo the Yardstick\", 31, 66, 52, 96)\n",
      "Laptop Maizy lost against Tayo the Yardstick\n",
      "         Fighter(\"Unknown Butler\", 92, 40, 55, 31)\n",
      "Unknown Butler won against Tayo the Yardstick\n",
      "         Fighter(\"Reighn the Basket\", 75, 32, 83, 42)\n",
      "Unknown Butler lost against Reighn the Basket\n",
      "         Fighter(\"Xcecutive Tashaun\", 43, 118, 21, 34)\n",
      "Xcecutive Tashaun won against Reighn the Basket\n",
      "         Fighter(\"Hunter Raihan\", 42, 84, 36, 59)\n",
      "Xcecutive Tashaun lost against Hunter Raihan\n",
      "         Fighter(\"Beautiful Pig\", 21, 118, 21, 60)\n",
      "Beautiful Pig won against Hunter Raihan\n",
      "         Fighter(\"Xylophone Zadkiel\", 54, 27, 124, 68)\n",
      "Beautiful Pig lost against Xylophone Zadkiel\n",
      "         Fighter(\"Iron Marksman\", 32, 124, 18, 44)\n",
      "Iron Marksman won against Xylophone Zadkiel\n",
      "         Fighter(\"Lucile the Monstrous\", 20, 190, 15, 31)\n",
      "Iron Marksman won against Lucile the Monstrous\n",
      "         Fighter(\"Puppy Torrance\", 58, 24, 124, 59)\n",
      "Iron Marksman won against Puppy Torrance\n",
      "         Fighter(\"Prankster Coen\", 125, 20, 57, 18)\n",
      "Iron Marksman lost against Prankster Coen\n",
      "         Fighter(\"Wallet Illyana\", 124, 14, 64, 23)\n",
      "Wallet Illyana won against Prankster Coen\n",
      "         Fighter(\"Curious Makai\", 56, 90, 27, 38)\n",
      "Wallet Illyana won against Curious Makai\n",
      "         Fighter(\"Mahamed the Gentle\", 174, 22, 33, 19)\n",
      "Wallet Illyana won against Mahamed the Gentle\n",
      "         Fighter(\"Admir the Yardstick\", 44, 112, 21, 37)\n",
      "Wallet Illyana won against Admir the Yardstick\n",
      "         Fighter(\"Potassium Quail\", 32, 155, 17, 29)\n",
      "Wallet Illyana lost against Potassium Quail\n",
      "         Fighter(\"Archer Rooke\", 16, 180, 17, 38)\n",
      "Archer Rooke won against Potassium Quail\n",
      "         Fighter(\"Djibril the Laptop\", 29, 116, 20, 52)\n",
      "Archer Rooke lost against Djibril the Laptop\n",
      "         Fighter(\"Aniylah the Rogue\", 101, 13, 83, 23)\n",
      "Aniylah the Rogue lost against Djibril the Laptop\n",
      "         Fighter(\"Angelito the Young\", 103, 40, 47, 25)\n",
      "Angelito the Young lost against Djibril the Laptop\n",
      "         Fighter(\"Rehma the Slingshot\", 38, 72, 45, 77)\n",
      "Rehma the Slingshot won against Djibril the Laptop\n",
      "         Fighter(\"Lawyer Thyme\", 43, 82, 36, 60)\n",
      "Rehma the Slingshot won against Lawyer Thyme\n",
      "         Fighter(\"Leavitt the Soldier\", 15, 84, 28, 99)\n",
      "Rehma the Slingshot lost against Leavitt the Soldier\n",
      "         Fighter(\"Addalyne the Creative\", 190, 18, 33, 17)\n",
      "Addalyne the Creative won against Leavitt the Soldier\n",
      "         Fighter(\"Nyair the Boisterous\", 20, 92, 26, 83)\n",
      "Addalyne the Creative won against Nyair the Boisterous\n",
      "         Fighter(\"Egotistical Artisan\", 24, 202, 12, 24)\n",
      "Addalyne the Creative lost against Egotistical Artisan\n",
      "         Fighter(\"Jakaylin the Ninja\", 145, 27, 39, 15)\n",
      "Jakaylin the Ninja lost against Egotistical Artisan\n",
      "         Fighter(\"Emya the Minimal\", 119, 41, 36, 20)\n",
      "Emya the Minimal lost against Egotistical Artisan\n",
      "         Fighter(\"Good Fireball\", 29, 56, 66, 115)\n",
      "Good Fireball won against Egotistical Artisan\n",
      "         Fighter(\"Sphere Mya\", 108, 40, 44, 23)\n",
      "Good Fireball lost against Sphere Mya\n",
      "         Fighter(\"Young Hatti\", 94, 51, 41, 26)\n",
      "Young Hatti lost against Sphere Mya\n",
      "         Fighter(\"Sayani the Potassium\", 21, 155, 18, 41)\n",
      "Sayani the Potassium won against Sphere Mya\n",
      "         Fighter(\"Kingly Rascal\", 96, 30, 65, 29)\n",
      "Sayani the Potassium won against Kingly Rascal\n",
      "         Fighter(\"Emine the Ravenous\", 25, 134, 19, 46)\n",
      "Sayani the Potassium lost against Emine the Ravenous\n",
      "         Fighter(\"Studious Yandel\", 23, 204, 17, 24)\n",
      "Studious Yandel lost against Emine the Ravenous\n",
      "         Fighter(\"Xquisite Naliah\", 51, 29, 124, 75)\n",
      "Xquisite Naliah won against Emine the Ravenous\n",
      "         Fighter(\"Amazin the Prankster\", 69, 23, 107, 44)\n",
      "Xquisite Naliah won against Amazin the Prankster\n",
      "         Fighter(\"Duck Dierra\", 100, 22, 72, 27)\n",
      "Xquisite Naliah won against Duck Dierra\n",
      "         Fighter(\"Invincible Bee\", 29, 93, 30, 69)\n",
      "Xquisite Naliah won against Invincible Bee\n",
      "         Fighter(\"Kaavia the Airplane\", 152, 15, 49, 18)\n",
      "Xquisite Naliah won against Kaavia the Airplane\n",
      "         Fighter(\"Peculiar Ox\", 26, 90, 31, 76)\n",
      "Xquisite Naliah lost against Peculiar Ox\n",
      "         Fighter(\"Warm Pryce\", 53, 27, 126, 70)\n",
      "Warm Pryce lost against Peculiar Ox\n",
      "         Fighter(\"Pangolin Zaid\", 76, 47, 59, 41)\n",
      "Pangolin Zaid lost against Peculiar Ox\n",
      "         Fighter(\"Winnie the Willful\", 22, 130, 17, 52)\n",
      "Winnie the Willful lost against Peculiar Ox\n",
      "         Fighter(\"Puppy Adaleigh\", 63, 34, 94, 56)\n",
      "Puppy Adaleigh lost against Peculiar Ox\n",
      "         Fighter(\"Magnificent Beetle\", 74, 24, 98, 40)\n",
      "Magnificent Beetle lost against Peculiar Ox\n",
      "         Fighter(\"Xtreme Lucious\", 15, 63, 40, 134)\n",
      "Xtreme Lucious won against Peculiar Ox\n",
      "         Fighter(\"Royal Iguana\", 48, 91, 30, 46)\n",
      "Xtreme Lucious won against Royal Iguana\n",
      "         Fighter(\"Zaidyn the Soldier\", 36, 66, 52, 87)\n",
      "Xtreme Lucious won against Zaidyn the Soldier\n",
      "         Fighter(\"Kaysen the Strong\", 39, 97, 27, 53)\n",
      "Xtreme Lucious won against Kaysen the Strong\n",
      "         Fighter(\"Aggressive Frog\", 38, 97, 28, 54)\n",
      "Xtreme Lucious won against Aggressive Frog\n",
      "         Fighter(\"Tyro Remmie\", 93, 21, 80, 28)\n",
      "Xtreme Lucious lost against Tyro Remmie\n",
      "         Fighter(\"Triangle Samaria\", 40, 69, 48, 77)\n",
      "Triangle Samaria lost against Tyro Remmie\n",
      "         Fighter(\"Melisa the Rascal\", 161, 19, 41, 17)\n",
      "Melisa the Rascal lost against Tyro Remmie\n",
      "         Fighter(\"Tricky Michelina\", 49, 97, 25, 41)\n",
      "Tricky Michelina won against Tyro Remmie\n",
      "         Fighter(\"Quiet Reign\", 183, 24, 29, 12)\n",
      "Tricky Michelina lost against Quiet Reign\n",
      "         Fighter(\"Quest the Zebra\", 89, 58, 36, 28)\n",
      "Quest the Zebra won against Quiet Reign\n",
      "         Fighter(\"Jwan the Noble\", 37, 26, 162, 117)\n",
      "Quest the Zebra won against Jwan the Noble\n",
      "         Fighter(\"Luminous Iguana\", 57, 33, 104, 66)\n",
      "Quest the Zebra won against Luminous Iguana\n",
      "         Fighter(\"Arshan the Passive\", 144, 35, 30, 18)\n",
      "Quest the Zebra won against Arshan the Passive\n",
      "         Fighter(\"Bamlak the Creative\", 56, 18, 143, 54)\n",
      "Quest the Zebra won against Bamlak the Creative\n",
      "         Fighter(\"Umbrella Livi\", 110, 41, 41, 23)\n",
      "Quest the Zebra lost against Umbrella Livi\n",
      "         Fighter(\"Passive Mister\", 184, 22, 30, 19)\n",
      "Passive Mister lost against Umbrella Livi\n",
      "         Fighter(\"Ayvah the Penguin\", 70, 48, 63, 46)\n",
      "Ayvah the Penguin won against Umbrella Livi\n",
      "         "
     ]
    },
    {
     "ename": "LoadError",
     "evalue": "BoundsError: attempt to access 100-element Vector{Fighter} at index [101]",
     "output_type": "error",
     "traceback": [
      "BoundsError: attempt to access 100-element Vector{Fighter} at index [101]",
      "",
      "Stacktrace:",
      " [1] getindex(A::Vector{Fighter}, i1::Int64)",
      "   @ Base ./essentials.jl:13",
      " [2] top-level scope",
      "   @ ./In[117]:15"
     ]
    }
   ],
   "source": [
    "as = team_a\n",
    "bs = team_a1\n",
    "a_i = 1\n",
    "b_i = 1\n",
    "print(\"         \")\n",
    "println(as[a_i])\n",
    "print(\"         \")\n",
    "println(bs[b_i])\n",
    "while (a_i <= length(as)) && (b_i <= length(bs))\n",
    "    res = eval_battle(as[a_i], bs[b_i])\n",
    "    if res == 1\n",
    "        println(string(as[a_i].name, \" won against \", bs[b_i].name))\n",
    "        b_i = b_i + 1\n",
    "        print(\"         \")\n",
    "        println(bs[b_i])\n",
    "    else\n",
    "        if res == 0\n",
    "            println(string(as[a_i].name, \" tied against \", bs[b_i].name))\n",
    "            b_i = b_i + 1\n",
    "            print(\"         \")\n",
    "            println(bs[b_i])\n",
    "        else\n",
    "            println(string(as[a_i].name, \" lost against \", bs[b_i].name))\n",
    "        end\n",
    "        a_i = a_i + 1\n",
    "        print(\"         \")\n",
    "        println(as[a_i])\n",
    "    end\n",
    "end\n",
    "a_out = (a_i > length(as))\n",
    "b_out = (b_i > length(as))\n",
    "if a_out\n",
    "    if b_out\n",
    "        return 0\n",
    "    else\n",
    "        return -1\n",
    "    end\n",
    "else\n",
    "    return 1\n",
    "end\n"
   ]
  },
  {
   "cell_type": "code",
   "execution_count": 118,
   "id": "ac317ca9",
   "metadata": {},
   "outputs": [
    {
     "data": {
      "text/plain": [
       "(93, 101)"
      ]
     },
     "execution_count": 118,
     "metadata": {},
     "output_type": "execute_result"
    }
   ],
   "source": [
    "a_i, b_i"
   ]
  },
  {
   "cell_type": "code",
   "execution_count": null,
   "id": "5843c735",
   "metadata": {},
   "outputs": [],
   "source": []
  },
  {
   "cell_type": "code",
   "execution_count": null,
   "id": "032d8906",
   "metadata": {},
   "outputs": [],
   "source": []
  }
 ],
 "metadata": {
  "kernelspec": {
   "display_name": "Julia 1.9.3",
   "language": "julia",
   "name": "julia-1.9"
  },
  "language_info": {
   "file_extension": ".jl",
   "mimetype": "application/julia",
   "name": "julia",
   "version": "1.9.3"
  }
 },
 "nbformat": 4,
 "nbformat_minor": 5
}

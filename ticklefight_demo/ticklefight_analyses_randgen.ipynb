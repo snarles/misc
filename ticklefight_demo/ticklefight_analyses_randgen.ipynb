{
 "cells": [
  {
   "cell_type": "code",
   "execution_count": 93,
   "id": "560e9539",
   "metadata": {},
   "outputs": [
    {
     "data": {
      "text/plain": [
       "eval_team_battle (generic function with 1 method)"
      ]
     },
     "execution_count": 93,
     "metadata": {},
     "output_type": "execute_result"
    }
   ],
   "source": [
    "using Random\n",
    "using DataFrames\n",
    "using CSV\n",
    "using Statistics\n",
    "\n",
    "struct Fighter\n",
    "    name::String\n",
    "    h::Int16\n",
    "    f::Int16\n",
    "    l::Int16\n",
    "    t::Int16\n",
    "end\n",
    "\n",
    "const MXS = 400\n",
    "const MXV = 40\n",
    "const MNV = 2\n",
    "\n",
    "function random_fighter(h0::Int = MNV, f0::Int = MNV, l0::Int = MNV, t0::Int = MNV)::Fighter\n",
    "    flag = true\n",
    "    while flag\n",
    "        h = h0 + rand(0:(MXV - h0), 1)[1]\n",
    "        f = f0 + rand(0:(MXV - f0), 1)[1]\n",
    "        l = l0 + rand(0:(MXV - l0), 1)[1]\n",
    "        t = t0 + rand(0:(MXV - t0), 1)[1]\n",
    "        mm = minimum([h, f])\n",
    "        budget = h*f+h*l+f*t\n",
    "        if budget <= MXS && budget + mm > MXS\n",
    "            flag = false\n",
    "            return Fighter(\"No Name\", h, f, l, t)\n",
    "        end\n",
    "    end\n",
    "end\n",
    "\n",
    "function eval_battle(a::Fighter, b::Fighter)::Int\n",
    "    a_finds = a.f >= b.h\n",
    "    b_finds = b.f >= a.h\n",
    "    if a_finds && b_finds\n",
    "        if a.t > b.t\n",
    "            return 1\n",
    "        end\n",
    "        if a.t < b.t\n",
    "            return -1\n",
    "        end\n",
    "        if a.t == b.t\n",
    "            if a.l > b.l\n",
    "                return 1\n",
    "            end\n",
    "            if a.l < b.l\n",
    "                return -1\n",
    "            end\n",
    "            if a.l == b.l\n",
    "                if a.h > b.h\n",
    "                    return 1\n",
    "                end\n",
    "                if a.h < b.h\n",
    "                    return -1\n",
    "                end\n",
    "                if a.h == b.h\n",
    "                    return 0\n",
    "                end\n",
    "            end\n",
    "        end\n",
    "    end\n",
    "    if a_finds && !b_finds\n",
    "        return 1\n",
    "    end\n",
    "    if !a_finds && b_finds\n",
    "        return -1\n",
    "    end\n",
    "    if !a_finds && !b_finds\n",
    "        if a.l > b.l\n",
    "            return 1\n",
    "        end\n",
    "        if a.l < b.l\n",
    "            return -1\n",
    "        end\n",
    "        if a.l == b.l\n",
    "            if a.t > b.t\n",
    "                return 1\n",
    "            end\n",
    "            if a.t < b.t\n",
    "                return -1\n",
    "            end\n",
    "            if a.t == b.t\n",
    "                if a.f > b.f\n",
    "                    return 1\n",
    "                end\n",
    "                if a.f < b.f\n",
    "                    return -1\n",
    "                end\n",
    "                if a.f == b.f\n",
    "                    return 0\n",
    "                end\n",
    "            end\n",
    "        end\n",
    "    end\n",
    "end\n",
    "\n",
    "function random_tournament_winner(c::Int)::Fighter\n",
    "    if c==0\n",
    "        return random_fighter()\n",
    "    end\n",
    "    a = random_tournament_winner(c-1)\n",
    "    b = random_tournament_winner(c-1)\n",
    "    res = eval_battle(a, b)\n",
    "    if res == 1\n",
    "        return a\n",
    "    else\n",
    "        return b\n",
    "    end\n",
    "end\n",
    "\n",
    "\n",
    "tab = CSV.read(\"census_yob2022_names.txt\", DataFrame, header = false)\n",
    "names = tab.Column1\n",
    "adjectives = CSV.read(\"adjectives.csv\", DataFrame)\n",
    "nouns = CSV.read(\"nouns.csv\", DataFrame)\n",
    "\n",
    "function random_name_and_stat()::Fighter\n",
    "    vp = [0, 0, 0, 0]\n",
    "    nametype = rand(1:5)\n",
    "    name = \"\"\n",
    "    if nametype == 1 || nametype == 2\n",
    "        nm = rand(names)\n",
    "        adj_i = rand(1:nrow(adjectives))\n",
    "        adj = adjectives[adj_i, :adjective]\n",
    "        vp[1] = vp[1] + adjectives[adj_i, :H]\n",
    "        vp[2] = vp[2] + adjectives[adj_i, :F]\n",
    "        vp[3] = vp[3] + adjectives[adj_i, :L]\n",
    "        vp[4] = vp[4] + adjectives[adj_i, :T]\n",
    "        if nametype == 1\n",
    "            name = string(nm, \" the \", adj)\n",
    "        end\n",
    "        if nametype == 2\n",
    "            name = string(adj, \" \", nm)\n",
    "        end\n",
    "    end\n",
    "    if nametype == 3 || nametype == 4\n",
    "        nm = rand(names)\n",
    "        noun_i = rand(1:nrow(nouns))\n",
    "        noun = nouns[noun_i, :noun]\n",
    "        vp[1] = vp[1] + nouns[noun_i, :H]\n",
    "        vp[2] = vp[2] + nouns[noun_i, :F]\n",
    "        vp[3] = vp[3] + nouns[noun_i, :L]\n",
    "        vp[4] = vp[4] + nouns[noun_i, :T]    \n",
    "        if nametype == 3\n",
    "            name = string(nm, \" the \", noun)\n",
    "        end\n",
    "        if nametype == 4\n",
    "            name = string(noun, \" \", nm)\n",
    "        end\n",
    "    end\n",
    "    if nametype == 5\n",
    "        adj_i = rand(1:nrow(adjectives))\n",
    "        adj = adjectives[adj_i, :adjective]\n",
    "        vp[1] = vp[1] + adjectives[adj_i, :H]\n",
    "        vp[2] = vp[2] + adjectives[adj_i, :F]\n",
    "        vp[3] = vp[3] + adjectives[adj_i, :L]\n",
    "        vp[4] = vp[4] + adjectives[adj_i, :T]\n",
    "        noun_i = rand(1:nrow(nouns))\n",
    "        noun = nouns[noun_i, :noun]\n",
    "        vp[1] = vp[1] + nouns[noun_i, :H]\n",
    "        vp[2] = vp[2] + nouns[noun_i, :F]\n",
    "        vp[3] = vp[3] + nouns[noun_i, :L]\n",
    "        vp[4] = vp[4] + nouns[noun_i, :T]    \n",
    "        name = string(adj, \" \", noun)\n",
    "    end\n",
    "    Fighter(name, vp[1], vp[2], vp[3], vp[4])\n",
    "end\n",
    "\n",
    "function rand_rename(a::Fighter, n_tries::Int = 10)::Fighter\n",
    "    best_score = 0.0\n",
    "    best_b = random_name_and_stat()\n",
    "    for ii in 1:n_tries\n",
    "        b = random_name_and_stat()\n",
    "        b_norm = sqrt(b.h^2 + b.f^2 + b.l^2 + b.t^2)\n",
    "        score = (a.h * b.h + a.f * b.f + a.l * b.l + a.t * b.t)/b_norm\n",
    "        if score > best_score\n",
    "            best_score = score\n",
    "            best_b = b\n",
    "        end\n",
    "    end\n",
    "    return Fighter(best_b.name, a.h, a.f, a.l, a.t)\n",
    "end\n",
    "\n",
    "function eval_battle_list(a::Fighter, bs::Array{Fighter})::Int\n",
    "    score = 0\n",
    "    for ii in 1:length(bs)\n",
    "        score = score + eval_battle(a, bs[ii])\n",
    "    end\n",
    "    return score\n",
    "end\n",
    "\n",
    "function pick_best(as::Array{Fighter}, bs::Array{Fighter})::Fighter\n",
    "    bestscore = -999\n",
    "    bestf = as[1]\n",
    "    for ii in 1:length(as)\n",
    "        score = eval_battle_list(as[ii], bs)\n",
    "        if score > bestscore\n",
    "            bestscore = score\n",
    "            bestf = as[ii]\n",
    "        end\n",
    "    end\n",
    "    return bestf\n",
    "end\n",
    "\n",
    "function pick_best_rdmly(as::Array{Fighter}, bs::Array{Fighter}, ntries::Int)::Fighter\n",
    "    bestscore = -999\n",
    "    bestf = rand(as)\n",
    "    for ii in 1:ntries\n",
    "        f = rand(as)\n",
    "        score = eval_battle_list(f, bs)\n",
    "        if score > bestscore\n",
    "            bestscore = score\n",
    "            bestf = f\n",
    "        end\n",
    "    end\n",
    "    return bestf\n",
    "end\n",
    "\n",
    "function fighters_to_df(as::Array{Fighter})::DataFrame\n",
    "    names = Array{String}(undef, length(as))\n",
    "    hs = Array{Int}(undef, length(as))\n",
    "    fs = Array{Int}(undef, length(as))\n",
    "    ls = Array{Int}(undef, length(as))\n",
    "    ts = Array{Int}(undef, length(as))\n",
    "    for ii in 1:length(as)\n",
    "        names[ii] = as[ii].name\n",
    "        hs[ii] = as[ii].h\n",
    "        fs[ii] = as[ii].f\n",
    "        ls[ii] = as[ii].l\n",
    "        ts[ii] = as[ii].t    \n",
    "    end\n",
    "    df = DataFrame(name = names, h = hs, f = fs, l = ls, t = ts)\n",
    "    return df\n",
    "end\n",
    "\n",
    "function fpart(x::AbstractFloat)::AbstractFloat\n",
    "  return x - trunc(x)\n",
    "end\n",
    "\n",
    "function eval_team_battle(as::Array{Fighter}, bs::Array{Fighter})::Int\n",
    "    a_i = 1\n",
    "    b_i = 1\n",
    "    while (a_i <= length(as)) && (b_i <= length(bs))\n",
    "        res = eval_battle(as[a_i], bs[b_i])\n",
    "        if res == 1\n",
    "            b_i = b_i + 1\n",
    "        else\n",
    "            a_i = a_i + 1\n",
    "            if res == 0\n",
    "                b_i = b_i + 1\n",
    "            end\n",
    "        end\n",
    "    end\n",
    "    a_out = (a_i > length(as))\n",
    "    b_out = (b_i > length(as))\n",
    "    if a_out\n",
    "        if b_out\n",
    "            return 0\n",
    "        else\n",
    "            return -1\n",
    "        end\n",
    "    else\n",
    "        return 1\n",
    "    end\n",
    "end"
   ]
  },
  {
   "cell_type": "code",
   "execution_count": 2,
   "id": "ec7b15f6",
   "metadata": {},
   "outputs": [
    {
     "data": {
      "text/plain": [
       "random_team (generic function with 1 method)"
      ]
     },
     "execution_count": 2,
     "metadata": {},
     "output_type": "execute_result"
    }
   ],
   "source": [
    "function random_team(f::Function, team_size::Int)::Array{Fighter}\n",
    "    team = Array{Fighter}(undef, team_size)\n",
    "    for i in 1:team_size\n",
    "        team[i] = f()\n",
    "    end\n",
    "    return team\n",
    "end"
   ]
  },
  {
   "cell_type": "code",
   "execution_count": 3,
   "id": "51cea033",
   "metadata": {},
   "outputs": [],
   "source": [
    "library = Array{Fighter}(undef, 100000)\n",
    "for i in 1:100000\n",
    "    library[i] = rand_rename(random_fighter())\n",
    "end"
   ]
  },
  {
   "cell_type": "code",
   "execution_count": 4,
   "id": "f1198f90",
   "metadata": {},
   "outputs": [
    {
     "data": {
      "text/plain": [
       "evaluate_generator (generic function with 2 methods)"
      ]
     },
     "execution_count": 4,
     "metadata": {},
     "output_type": "execute_result"
    }
   ],
   "source": [
    "function evaluate_generator(f::Function, team_size::Int, n_times::Int = 1)::AbstractFloat\n",
    "    scores = Array{AbstractFloat}(undef, n_times)\n",
    "    for i0 in 1:n_times\n",
    "        team = Array{Fighter}(undef, team_size)\n",
    "        for i in 1:team_size\n",
    "            team[i] = f()\n",
    "        end\n",
    "        bestscore = 999999\n",
    "        exploiter = library[1]\n",
    "        for i in 1:length(library)\n",
    "            fighter = library[i]\n",
    "            score = 0\n",
    "            for j in 1:team_size\n",
    "                score = score + eval_battle(team[j], fighter)\n",
    "            end\n",
    "            if score < bestscore\n",
    "                bestscore = score\n",
    "                exploiter = library[i]\n",
    "            end\n",
    "        end\n",
    "        if n_times < 5\n",
    "            println(exploiter)        \n",
    "        end\n",
    "        scores[i0] = bestscore/team_size\n",
    "    end\n",
    "    return mean(scores)\n",
    "end"
   ]
  },
  {
   "cell_type": "code",
   "execution_count": 81,
   "id": "5a70c0e2",
   "metadata": {},
   "outputs": [
    {
     "data": {
      "text/plain": [
       "random_scheme_a (generic function with 6 methods)"
      ]
     },
     "execution_count": 81,
     "metadata": {},
     "output_type": "execute_result"
    }
   ],
   "source": [
    "# new random generation to more closely approximate Nash\n",
    "function random_scheme_a(budget::Int = MXS, h0::Int = MNV, f0::Int = MNV, l0::Int = MNV, t0::Int = MNV)::Fighter\n",
    "    budget_sofar = budget + 1\n",
    "    while budget_sofar > budget\n",
    "        hf_ratio = rand()\n",
    "        l_ratio = rand()\n",
    "        h_temp = rand() + 0.2\n",
    "        f_temp = rand() + 0.2\n",
    "        while abs(h_temp - f_temp) < 0.2\n",
    "            h_temp = rand() + 0.2\n",
    "            f_temp = rand() + 0.2\n",
    "        end\n",
    "        budget_hf = (0.1 + hf_ratio * 0.8) * (budget * .7)\n",
    "        h_ratio = h_temp/sqrt(h_temp * f_temp)\n",
    "        f_ratio = f_temp/sqrt(h_temp * f_temp)\n",
    "        h = max(h0, round(sqrt(budget_hf) * h_ratio))\n",
    "        f = max(f0, round(sqrt(budget_hf) * f_ratio))\n",
    "        budget_hf = h * f\n",
    "        budget_remain = (budget - budget_hf) - (l0 * h + t0 * f)\n",
    "        l_ratio2 = h^2/(h^2+f^2)\n",
    "        #l_ratio2 = (l_ratio * h)/(l_ratio * h + (1-l_ratio) * f)\n",
    "        lraw = l0 + ( budget_remain * l_ratio2 )/h\n",
    "        traw = t0 + ( budget_remain * (1 - l_ratio2) )/f\n",
    "        l = trunc(lraw)\n",
    "        t = trunc(traw)\n",
    "        budget_sofar = h * f + h * l + f * t\n",
    "        if (budget - budget_sofar) >= min(h, f)\n",
    "            could_add_l = (budget - budget_sofar) >= h\n",
    "            could_add_t = (budget - budget_sofar) >= f\n",
    "            if could_add_l && !could_add_t\n",
    "                l = l+trunc((budget - budget_sofar)/h)\n",
    "            end\n",
    "            if !could_add_l && could_add_t\n",
    "                t = t+trunc((budget - budget_sofar)/f)\n",
    "            end\n",
    "            if could_add_l && could_add_t\n",
    "                if fpart(lraw) > fpart(traw)\n",
    "                    l = l+trunc((budget - budget_sofar)/h)\n",
    "                else\n",
    "                    t = t+trunc((budget - budget_sofar)/f)\n",
    "                end\n",
    "            end\n",
    "        end\n",
    "    end\n",
    "    h = convert(Int, h)\n",
    "    f = convert(Int, f)\n",
    "    l = convert(Int, l)\n",
    "    t = convert(Int, t)  \n",
    "    return Fighter(\"No Name [Scheme A]\", h, f, l, t)\n",
    "end\n",
    "\n"
   ]
  },
  {
   "cell_type": "code",
   "execution_count": 82,
   "id": "2c9aacbf",
   "metadata": {},
   "outputs": [
    {
     "name": "stdout",
     "output_type": "stream",
     "text": [
      "(22.0, 5.0, 12.0, 5.0, 110.0, 394.0, 0.39016548918676763)\n"
     ]
    }
   ],
   "source": [
    "budget = MXS\n",
    "h0 = MNV\n",
    "f0 = MNV\n",
    "l0 = MNV\n",
    "t0 = MNV\n",
    "hf_ratio0 = 0\n",
    "l_ratio0 = 0\n",
    "h_temp0 = 0\n",
    "f_temp0 = 0\n",
    "\n",
    "hf_ratio = rand()\n",
    "l_ratio = rand()\n",
    "h_temp = rand()\n",
    "f_temp = rand()\n",
    "budget_hf = (0.1 + hf_ratio * 0.8) * (budget * .7)\n",
    "h_ratio = h_temp/sqrt(h_temp * f_temp)\n",
    "f_ratio = f_temp/sqrt(h_temp * f_temp)\n",
    "h = max(h0, round(sqrt(budget_hf) * h_ratio))\n",
    "f = max(f0, round(sqrt(budget_hf) * f_ratio))\n",
    "budget_hf = h * f\n",
    "budget_remain = (budget - budget_hf) - (l0 * h + t0 * f)\n",
    "l_ratio2 = h^2/(h^2+f^2)\n",
    "#l_ratio2 = (l_ratio * h)/(l_ratio * h + (1-l_ratio) * f)\n",
    "lraw = l0 + ( budget_remain * l_ratio2 )/h\n",
    "traw = t0 + ( budget_remain * (1 - l_ratio2) )/f\n",
    "l = trunc(lraw)\n",
    "t = trunc(traw)\n",
    "budget_sofar = h * f + h * l + f * t\n",
    "if (budget - budget_sofar) >= min(h, f)\n",
    "    could_add_l = (budget - budget_sofar) >= h\n",
    "    could_add_t = (budget - budget_sofar) >= f\n",
    "    if could_add_l && !could_add_t\n",
    "        l = l+trunc((budget - budget_sofar)/h)\n",
    "    end\n",
    "    if !could_add_l && could_add_t\n",
    "        t = t+trunc((budget - budget_sofar)/f)\n",
    "    end\n",
    "    if could_add_l && could_add_t\n",
    "        if fpart(lraw) > fpart(traw)\n",
    "            l = l+trunc((budget - budget_sofar)/h)\n",
    "        else\n",
    "            t = t+trunc((budget - budget_sofar)/f)\n",
    "        end\n",
    "    end\n",
    "end\n",
    "\n",
    "println((h, f, l, t, budget_hf, budget_sofar, hf_ratio))"
   ]
  },
  {
   "cell_type": "code",
   "execution_count": 83,
   "id": "04273225",
   "metadata": {},
   "outputs": [],
   "source": [
    "# budget = MXS\n",
    "# h0 = MNV\n",
    "# f0 = MNV\n",
    "# l0 = MNV\n",
    "# t0 = MNV\n",
    "# hf_ratio0 = 0\n",
    "# l_ratio0 = 0\n",
    "# h_temp0 = 0\n",
    "# f_temp0 = 0\n",
    "\n",
    "\n",
    "# for i in 1:1000\n",
    "#     hf_ratio = rand()\n",
    "#     l_ratio = 0.25 + 0.5 * rand()\n",
    "#     h_temp = rand() + 0.1\n",
    "#     f_temp = rand() + 0.1\n",
    "#     budget_hf = sqrt(0.05 + hf_ratio * 0.9) * (budget * .7)\n",
    "#     h_ratio = h_temp/sqrt(h_temp * f_temp)\n",
    "#     f_ratio = f_temp/sqrt(h_temp * f_temp)\n",
    "#     h = max(h0, round(sqrt(budget_hf) * h_ratio))\n",
    "#     f = max(f0, round(sqrt(budget_hf) * f_ratio))\n",
    "#     budget_hf = h * f\n",
    "#     budget_remain = (budget - budget_hf) - (l0 * h + t0 * f)\n",
    "#     lraw = l0 + ( budget_remain * l_ratio )/h\n",
    "#     traw = t0 + ( budget_remain * (1 - l_ratio) )/f\n",
    "#     l = trunc(lraw)\n",
    "#     t = trunc(traw)\n",
    "#     budget_sofar = h * f + h * l + f * t\n",
    "#     if (budget - budget_sofar) >= min(h, f)\n",
    "#         could_add_l = (budget - budget_sofar) >= h\n",
    "#         could_add_t = (budget - budget_sofar) >= f\n",
    "#         if could_add_l && !could_add_t\n",
    "#             l = l+trunc((budget - budget_sofar)/h)\n",
    "#         end\n",
    "#         if !could_add_l && could_add_t\n",
    "#             t = t+trunc((budget - budget_sofar)/f)\n",
    "#         end\n",
    "#         if could_add_l && could_add_t\n",
    "#             if fpart(lraw) > fpart(traw)\n",
    "#                 l = l+trunc((budget - budget_sofar)/h)\n",
    "#             else\n",
    "#                 t = t+trunc((budget - budget_sofar)/f)\n",
    "#             end\n",
    "#         end\n",
    "#     end\n",
    "\n",
    "#     budget_sofar = h * f + h * l + f * t\n",
    "#     if (budget - budget_sofar) >= min(h, f)\n",
    "#         hf_ratio0 = hf_ratio\n",
    "#         l_ratio0 = l_ratio\n",
    "#         h_temp0 = h_temp\n",
    "#         f_temp0 = f_temp\n",
    "#         println((h, f, l, t, budget_hf, budget_sofar))\n",
    "#     end\n",
    "# end"
   ]
  },
  {
   "cell_type": "code",
   "execution_count": 84,
   "id": "59011aca",
   "metadata": {},
   "outputs": [],
   "source": [
    "# hf_ratio = hf_ratio0\n",
    "# l_ratio = l_ratio0\n",
    "# h_temp = h_temp0\n",
    "# f_temp = f_temp0"
   ]
  },
  {
   "cell_type": "code",
   "execution_count": 85,
   "id": "c7cfae3d",
   "metadata": {},
   "outputs": [],
   "source": [
    "# budget_hf = sqrt(0.05 + hf_ratio * 0.9) * (budget * .7)\n",
    "# h_ratio = h_temp/sqrt(h_temp * f_temp)\n",
    "# f_ratio = f_temp/sqrt(h_temp * f_temp)\n",
    "# h = max(h0, round(sqrt(budget_hf) * h_ratio))\n",
    "# f = max(f0, round(sqrt(budget_hf) * f_ratio))\n",
    "# budget_hf = h * f\n",
    "# budget_remain = (budget - budget_hf) - (l0 * h + t0 * f)\n",
    "# lraw = l0 + ( budget_remain * l_ratio )/h\n",
    "# traw = t0 + ( budget_remain * (1 - l_ratio) )/f\n",
    "# l = trunc(lraw)\n",
    "# t = trunc(traw)\n",
    "# budget_sofar = h * f + h * l + f * t\n",
    "# println((h, f, l, t, budget_hf, budget_sofar))"
   ]
  },
  {
   "cell_type": "code",
   "execution_count": 86,
   "id": "42188c74",
   "metadata": {},
   "outputs": [],
   "source": [
    "# if (budget - budget_sofar) >= min(h, f)\n",
    "#     could_add_l = (budget - budget_sofar) >= h\n",
    "#     could_add_t = (budget - budget_sofar) >= f\n",
    "#     if could_add_l && !could_add_t\n",
    "#         l = l+1\n",
    "#     end\n",
    "#     if !could_add_l && could_add_t\n",
    "#         t = t+1\n",
    "#     end\n",
    "#     if could_add_l && could_add_t\n",
    "#         if fpart(lraw) > fpart(traw)\n",
    "#             l = l+1\n",
    "#         else\n",
    "#             t = t+1\n",
    "#         end\n",
    "#     end\n",
    "# end\n",
    "\n",
    "# budget_sofar = h * f + h * l + f * t\n",
    "# println((h, f, l, t, budget_hf, budget_sofar))"
   ]
  },
  {
   "cell_type": "markdown",
   "id": "cb04c53d",
   "metadata": {},
   "source": [
    "## Testing Random Scheme A"
   ]
  },
  {
   "cell_type": "code",
   "execution_count": 87,
   "id": "e24bf964",
   "metadata": {},
   "outputs": [
    {
     "name": "stdout",
     "output_type": "stream",
     "text": [
      "Fighter(\"No Name [Scheme A]\", 10, 15, 8, 11)"
     ]
    },
    {
     "data": {
      "text/plain": [
       "395"
      ]
     },
     "execution_count": 87,
     "metadata": {},
     "output_type": "execute_result"
    }
   ],
   "source": [
    "f = random_scheme_a()\n",
    "print(f)\n",
    "f.h * f.f + f.h * f.l + f.f * f.t"
   ]
  },
  {
   "cell_type": "code",
   "execution_count": 88,
   "id": "3a1b7f74",
   "metadata": {},
   "outputs": [
    {
     "data": {
      "text/html": [
       "<div><div style = \"float: left;\"><span>10×5 DataFrame</span></div><div style = \"clear: both;\"></div></div><div class = \"data-frame\" style = \"overflow-x: scroll;\"><table class = \"data-frame\" style = \"margin-bottom: 6px;\"><thead><tr class = \"header\"><th class = \"rowNumber\" style = \"font-weight: bold; text-align: right;\">Row</th><th style = \"text-align: left;\">name</th><th style = \"text-align: left;\">h</th><th style = \"text-align: left;\">f</th><th style = \"text-align: left;\">l</th><th style = \"text-align: left;\">t</th></tr><tr class = \"subheader headerLastRow\"><th class = \"rowNumber\" style = \"font-weight: bold; text-align: right;\"></th><th title = \"String\" style = \"text-align: left;\">String</th><th title = \"Int64\" style = \"text-align: left;\">Int64</th><th title = \"Int64\" style = \"text-align: left;\">Int64</th><th title = \"Int64\" style = \"text-align: left;\">Int64</th><th title = \"Int64\" style = \"text-align: left;\">Int64</th></tr></thead><tbody><tr><td class = \"rowNumber\" style = \"font-weight: bold; text-align: right;\">1</td><td style = \"text-align: left;\">Helicopter Kiaansh</td><td style = \"text-align: right;\">11</td><td style = \"text-align: right;\">14</td><td style = \"text-align: right;\">9</td><td style = \"text-align: right;\">10</td></tr><tr><td class = \"rowNumber\" style = \"font-weight: bold; text-align: right;\">2</td><td style = \"text-align: left;\">Scissors Celio</td><td style = \"text-align: right;\">11</td><td style = \"text-align: right;\">6</td><td style = \"text-align: right;\">23</td><td style = \"text-align: right;\">13</td></tr><tr><td class = \"rowNumber\" style = \"font-weight: bold; text-align: right;\">3</td><td style = \"text-align: left;\">Keno the Monkey</td><td style = \"text-align: right;\">17</td><td style = \"text-align: right;\">12</td><td style = \"text-align: right;\">7</td><td style = \"text-align: right;\">6</td></tr><tr><td class = \"rowNumber\" style = \"font-weight: bold; text-align: right;\">4</td><td style = \"text-align: left;\">Primordial Mouse</td><td style = \"text-align: right;\">18</td><td style = \"text-align: right;\">14</td><td style = \"text-align: right;\">5</td><td style = \"text-align: right;\">4</td></tr><tr><td class = \"rowNumber\" style = \"font-weight: bold; text-align: right;\">5</td><td style = \"text-align: left;\">Noble Cat</td><td style = \"text-align: right;\">20</td><td style = \"text-align: right;\">4</td><td style = \"text-align: right;\">15</td><td style = \"text-align: right;\">5</td></tr><tr><td class = \"rowNumber\" style = \"font-weight: bold; text-align: right;\">6</td><td style = \"text-align: left;\">Airplane Cayetano</td><td style = \"text-align: right;\">21</td><td style = \"text-align: right;\">10</td><td style = \"text-align: right;\">7</td><td style = \"text-align: right;\">4</td></tr><tr><td class = \"rowNumber\" style = \"font-weight: bold; text-align: right;\">7</td><td style = \"text-align: left;\">Sassy Giraffe</td><td style = \"text-align: right;\">9</td><td style = \"text-align: right;\">16</td><td style = \"text-align: right;\">7</td><td style = \"text-align: right;\">12</td></tr><tr><td class = \"rowNumber\" style = \"font-weight: bold; text-align: right;\">8</td><td style = \"text-align: left;\">Xray Asim</td><td style = \"text-align: right;\">7</td><td style = \"text-align: right;\">23</td><td style = \"text-align: right;\">4</td><td style = \"text-align: right;\">9</td></tr><tr><td class = \"rowNumber\" style = \"font-weight: bold; text-align: right;\">9</td><td style = \"text-align: left;\">Nuhamin the Underwater</td><td style = \"text-align: right;\">28</td><td style = \"text-align: right;\">7</td><td style = \"text-align: right;\">6</td><td style = \"text-align: right;\">5</td></tr><tr><td class = \"rowNumber\" style = \"font-weight: bold; text-align: right;\">10</td><td style = \"text-align: left;\">Blanket Liani</td><td style = \"text-align: right;\">21</td><td style = \"text-align: right;\">10</td><td style = \"text-align: right;\">7</td><td style = \"text-align: right;\">4</td></tr></tbody></table></div>"
      ],
      "text/latex": [
       "\\begin{tabular}{r|ccccc}\n",
       "\t& name & h & f & l & t\\\\\n",
       "\t\\hline\n",
       "\t& String & Int64 & Int64 & Int64 & Int64\\\\\n",
       "\t\\hline\n",
       "\t1 & Helicopter Kiaansh & 11 & 14 & 9 & 10 \\\\\n",
       "\t2 & Scissors Celio & 11 & 6 & 23 & 13 \\\\\n",
       "\t3 & Keno the Monkey & 17 & 12 & 7 & 6 \\\\\n",
       "\t4 & Primordial Mouse & 18 & 14 & 5 & 4 \\\\\n",
       "\t5 & Noble Cat & 20 & 4 & 15 & 5 \\\\\n",
       "\t6 & Airplane Cayetano & 21 & 10 & 7 & 4 \\\\\n",
       "\t7 & Sassy Giraffe & 9 & 16 & 7 & 12 \\\\\n",
       "\t8 & Xray Asim & 7 & 23 & 4 & 9 \\\\\n",
       "\t9 & Nuhamin the Underwater & 28 & 7 & 6 & 5 \\\\\n",
       "\t10 & Blanket Liani & 21 & 10 & 7 & 4 \\\\\n",
       "\\end{tabular}\n"
      ],
      "text/plain": [
       "\u001b[1m10×5 DataFrame\u001b[0m\n",
       "\u001b[1m Row \u001b[0m│\u001b[1m name                   \u001b[0m\u001b[1m h     \u001b[0m\u001b[1m f     \u001b[0m\u001b[1m l     \u001b[0m\u001b[1m t     \u001b[0m\n",
       "     │\u001b[90m String                 \u001b[0m\u001b[90m Int64 \u001b[0m\u001b[90m Int64 \u001b[0m\u001b[90m Int64 \u001b[0m\u001b[90m Int64 \u001b[0m\n",
       "─────┼────────────────────────────────────────────────────\n",
       "   1 │ Helicopter Kiaansh         11     14      9     10\n",
       "   2 │ Scissors Celio             11      6     23     13\n",
       "   3 │ Keno the Monkey            17     12      7      6\n",
       "   4 │ Primordial Mouse           18     14      5      4\n",
       "   5 │ Noble Cat                  20      4     15      5\n",
       "   6 │ Airplane Cayetano          21     10      7      4\n",
       "   7 │ Sassy Giraffe               9     16      7     12\n",
       "   8 │ Xray Asim                   7     23      4      9\n",
       "   9 │ Nuhamin the Underwater     28      7      6      5\n",
       "  10 │ Blanket Liani              21     10      7      4"
      ]
     },
     "execution_count": 88,
     "metadata": {},
     "output_type": "execute_result"
    }
   ],
   "source": [
    "rt = random_team(() -> rand_rename(random_scheme_a()), 100)\n",
    "fighters_to_df(rt)[1:10, :]"
   ]
  },
  {
   "cell_type": "code",
   "execution_count": 144,
   "id": "8ceea0f3",
   "metadata": {},
   "outputs": [
    {
     "data": {
      "text/html": [
       "<div><div style = \"float: left;\"><span>10×5 DataFrame</span></div><div style = \"clear: both;\"></div></div><div class = \"data-frame\" style = \"overflow-x: scroll;\"><table class = \"data-frame\" style = \"margin-bottom: 6px;\"><thead><tr class = \"header\"><th class = \"rowNumber\" style = \"font-weight: bold; text-align: right;\">Row</th><th style = \"text-align: left;\">name</th><th style = \"text-align: left;\">h</th><th style = \"text-align: left;\">f</th><th style = \"text-align: left;\">l</th><th style = \"text-align: left;\">t</th></tr><tr class = \"subheader headerLastRow\"><th class = \"rowNumber\" style = \"font-weight: bold; text-align: right;\"></th><th title = \"String\" style = \"text-align: left;\">String</th><th title = \"Int64\" style = \"text-align: left;\">Int64</th><th title = \"Int64\" style = \"text-align: left;\">Int64</th><th title = \"Int64\" style = \"text-align: left;\">Int64</th><th title = \"Int64\" style = \"text-align: left;\">Int64</th></tr></thead><tbody><tr><td class = \"rowNumber\" style = \"font-weight: bold; text-align: right;\">1</td><td style = \"text-align: left;\">Egotistical Icicle</td><td style = \"text-align: right;\">9</td><td style = \"text-align: right;\">15</td><td style = \"text-align: right;\">7</td><td style = \"text-align: right;\">13</td></tr><tr><td class = \"rowNumber\" style = \"font-weight: bold; text-align: right;\">2</td><td style = \"text-align: left;\">Zinc Unicorn</td><td style = \"text-align: right;\">14</td><td style = \"text-align: right;\">9</td><td style = \"text-align: right;\">12</td><td style = \"text-align: right;\">11</td></tr><tr><td class = \"rowNumber\" style = \"font-weight: bold; text-align: right;\">3</td><td style = \"text-align: left;\">Scorpion Reve</td><td style = \"text-align: right;\">16</td><td style = \"text-align: right;\">13</td><td style = \"text-align: right;\">8</td><td style = \"text-align: right;\">4</td></tr><tr><td class = \"rowNumber\" style = \"font-weight: bold; text-align: right;\">4</td><td style = \"text-align: left;\">Solymar the Neurotic</td><td style = \"text-align: right;\">13</td><td style = \"text-align: right;\">11</td><td style = \"text-align: right;\">7</td><td style = \"text-align: right;\">15</td></tr><tr><td class = \"rowNumber\" style = \"font-weight: bold; text-align: right;\">5</td><td style = \"text-align: left;\">Old Scotlynd</td><td style = \"text-align: right;\">8</td><td style = \"text-align: right;\">18</td><td style = \"text-align: right;\">9</td><td style = \"text-align: right;\">10</td></tr><tr><td class = \"rowNumber\" style = \"font-weight: bold; text-align: right;\">6</td><td style = \"text-align: left;\">Kiernan the Jacket</td><td style = \"text-align: right;\">16</td><td style = \"text-align: right;\">9</td><td style = \"text-align: right;\">14</td><td style = \"text-align: right;\">3</td></tr><tr><td class = \"rowNumber\" style = \"font-weight: bold; text-align: right;\">7</td><td style = \"text-align: left;\">Boisterous Beetle</td><td style = \"text-align: right;\">11</td><td style = \"text-align: right;\">13</td><td style = \"text-align: right;\">13</td><td style = \"text-align: right;\">8</td></tr><tr><td class = \"rowNumber\" style = \"font-weight: bold; text-align: right;\">8</td><td style = \"text-align: left;\">Zesty Marmot</td><td style = \"text-align: right;\">11</td><td style = \"text-align: right;\">12</td><td style = \"text-align: right;\">15</td><td style = \"text-align: right;\">8</td></tr><tr><td class = \"rowNumber\" style = \"font-weight: bold; text-align: right;\">9</td><td style = \"text-align: left;\">Dancing Khamil</td><td style = \"text-align: right;\">19</td><td style = \"text-align: right;\">7</td><td style = \"text-align: right;\">13</td><td style = \"text-align: right;\">2</td></tr><tr><td class = \"rowNumber\" style = \"font-weight: bold; text-align: right;\">10</td><td style = \"text-align: left;\">Minimal Dog</td><td style = \"text-align: right;\">14</td><td style = \"text-align: right;\">12</td><td style = \"text-align: right;\">13</td><td style = \"text-align: right;\">4</td></tr></tbody></table></div>"
      ],
      "text/latex": [
       "\\begin{tabular}{r|ccccc}\n",
       "\t& name & h & f & l & t\\\\\n",
       "\t\\hline\n",
       "\t& String & Int64 & Int64 & Int64 & Int64\\\\\n",
       "\t\\hline\n",
       "\t1 & Egotistical Icicle & 9 & 15 & 7 & 13 \\\\\n",
       "\t2 & Zinc Unicorn & 14 & 9 & 12 & 11 \\\\\n",
       "\t3 & Scorpion Reve & 16 & 13 & 8 & 4 \\\\\n",
       "\t4 & Solymar the Neurotic & 13 & 11 & 7 & 15 \\\\\n",
       "\t5 & Old Scotlynd & 8 & 18 & 9 & 10 \\\\\n",
       "\t6 & Kiernan the Jacket & 16 & 9 & 14 & 3 \\\\\n",
       "\t7 & Boisterous Beetle & 11 & 13 & 13 & 8 \\\\\n",
       "\t8 & Zesty Marmot & 11 & 12 & 15 & 8 \\\\\n",
       "\t9 & Dancing Khamil & 19 & 7 & 13 & 2 \\\\\n",
       "\t10 & Minimal Dog & 14 & 12 & 13 & 4 \\\\\n",
       "\\end{tabular}\n"
      ],
      "text/plain": [
       "\u001b[1m10×5 DataFrame\u001b[0m\n",
       "\u001b[1m Row \u001b[0m│\u001b[1m name                 \u001b[0m\u001b[1m h     \u001b[0m\u001b[1m f     \u001b[0m\u001b[1m l     \u001b[0m\u001b[1m t     \u001b[0m\n",
       "     │\u001b[90m String               \u001b[0m\u001b[90m Int64 \u001b[0m\u001b[90m Int64 \u001b[0m\u001b[90m Int64 \u001b[0m\u001b[90m Int64 \u001b[0m\n",
       "─────┼──────────────────────────────────────────────────\n",
       "   1 │ Egotistical Icicle        9     15      7     13\n",
       "   2 │ Zinc Unicorn             14      9     12     11\n",
       "   3 │ Scorpion Reve            16     13      8      4\n",
       "   4 │ Solymar the Neurotic     13     11      7     15\n",
       "   5 │ Old Scotlynd              8     18      9     10\n",
       "   6 │ Kiernan the Jacket       16      9     14      3\n",
       "   7 │ Boisterous Beetle        11     13     13      8\n",
       "   8 │ Zesty Marmot             11     12     15      8\n",
       "   9 │ Dancing Khamil           19      7     13      2\n",
       "  10 │ Minimal Dog              14     12     13      4"
      ]
     },
     "execution_count": 144,
     "metadata": {},
     "output_type": "execute_result"
    }
   ],
   "source": [
    "counters = random_team(() -> pick_best_rdmly(library, rt, 9), 100)\n",
    "fighters_to_df(counters)[1:10, :]"
   ]
  },
  {
   "cell_type": "code",
   "execution_count": 90,
   "id": "dbd44c87",
   "metadata": {},
   "outputs": [
    {
     "name": "stdout",
     "output_type": "stream",
     "text": [
      "Fighter(\"Helicopter Kiaansh\", 11, 14, 9, 10)\n",
      "-26\n",
      "Fighter(\"Mccall the Artisan\", 11, 14, 9, 10)\n",
      "-26\n"
     ]
    }
   ],
   "source": [
    "for f in rt\n",
    "    v = eval_battle_list(f, counters)\n",
    "    if v < -25\n",
    "        println(f)\n",
    "        println(v)\n",
    "    end\n",
    "end"
   ]
  },
  {
   "cell_type": "code",
   "execution_count": 91,
   "id": "9bd1e936",
   "metadata": {},
   "outputs": [
    {
     "name": "stdout",
     "output_type": "stream",
     "text": [
      "Fighter(\"Noble Cat\", 20, 4, 15, 5)\n",
      "14\n",
      "Fighter(\"Xray Remington\", 5, 19, 7, 14)\n",
      "26\n",
      "Fighter(\"Jakyrie the Lawyer\", 5, 22, 5, 12)\n",
      "22\n"
     ]
    }
   ],
   "source": [
    "for f in rt\n",
    "    v = eval_battle_list(f, counters)\n",
    "    if v > 10\n",
    "        println(f)\n",
    "        println(v)\n",
    "    end\n",
    "end"
   ]
  },
  {
   "cell_type": "code",
   "execution_count": 79,
   "id": "3358f0e4",
   "metadata": {},
   "outputs": [
    {
     "data": {
      "text/plain": [
       "-0.5489999999999999"
      ]
     },
     "execution_count": 79,
     "metadata": {},
     "output_type": "execute_result"
    }
   ],
   "source": [
    "evaluate_generator(random_fighter, 100, 20)"
   ]
  },
  {
   "cell_type": "code",
   "execution_count": 92,
   "id": "66bbd8ab",
   "metadata": {},
   "outputs": [
    {
     "data": {
      "text/plain": [
       "-0.485"
      ]
     },
     "execution_count": 92,
     "metadata": {},
     "output_type": "execute_result"
    }
   ],
   "source": [
    "evaluate_generator(random_scheme_a, 100, 20)"
   ]
  },
  {
   "cell_type": "code",
   "execution_count": 33,
   "id": "cb9a9f36",
   "metadata": {},
   "outputs": [
    {
     "data": {
      "text/plain": [
       "-0.5015000000000002"
      ]
     },
     "execution_count": 33,
     "metadata": {},
     "output_type": "execute_result"
    }
   ],
   "source": [
    "evaluate_generator(() -> random_tournament_winner(1), 100, 20)"
   ]
  },
  {
   "cell_type": "code",
   "execution_count": 34,
   "id": "1c34a0bb",
   "metadata": {},
   "outputs": [
    {
     "data": {
      "text/plain": [
       "-0.518"
      ]
     },
     "execution_count": 34,
     "metadata": {},
     "output_type": "execute_result"
    }
   ],
   "source": [
    "evaluate_generator(() -> random_tournament_winner(2), 100, 20)"
   ]
  },
  {
   "cell_type": "code",
   "execution_count": 35,
   "id": "ce7d4c91",
   "metadata": {},
   "outputs": [
    {
     "data": {
      "text/plain": [
       "-0.5145000000000002"
      ]
     },
     "execution_count": 35,
     "metadata": {},
     "output_type": "execute_result"
    }
   ],
   "source": [
    "evaluate_generator(() -> random_tournament_winner(3), 100, 20)"
   ]
  },
  {
   "cell_type": "code",
   "execution_count": 36,
   "id": "a1349341",
   "metadata": {},
   "outputs": [
    {
     "data": {
      "text/plain": [
       "-0.517"
      ]
     },
     "execution_count": 36,
     "metadata": {},
     "output_type": "execute_result"
    }
   ],
   "source": [
    "evaluate_generator(() -> random_tournament_winner(4), 100, 20)"
   ]
  },
  {
   "cell_type": "markdown",
   "id": "1b22cdac",
   "metadata": {},
   "source": [
    "## Team battles"
   ]
  },
  {
   "cell_type": "code",
   "execution_count": 123,
   "id": "da500689",
   "metadata": {},
   "outputs": [
    {
     "data": {
      "text/plain": [
       "100-element Vector{Fighter}:\n",
       " Fighter(\"Balanced Domino\", 23, 12, 2, 6)\n",
       " Fighter(\"Koala Maxi\", 9, 3, 32, 28)\n",
       " Fighter(\"Kooky Leopard\", 17, 8, 10, 11)\n",
       " Fighter(\"Josi the Lawyer\", 9, 26, 9, 3)\n",
       " Fighter(\"Anneli the Pangolin\", 21, 5, 10, 17)\n",
       " Fighter(\"Uber Warrior\", 2, 13, 5, 28)\n",
       " Fighter(\"Junior Vacuum\", 4, 27, 19, 8)\n",
       " Fighter(\"Izela the Vacuum\", 5, 14, 7, 21)\n",
       " Fighter(\"Elevated Pangolin\", 12, 13, 4, 15)\n",
       " Fighter(\"Butler Avrian\", 24, 12, 2, 5)\n",
       " Fighter(\"Bear Yuva\", 9, 13, 2, 20)\n",
       " Fighter(\"Mackenize the Boisterous\", 4, 15, 10, 20)\n",
       " Fighter(\"Drayven the Notebook\", 11, 17, 11, 5)\n",
       " ⋮\n",
       " Fighter(\"Xray Baltazar\", 10, 13, 7, 15)\n",
       " Fighter(\"Koda the Elephant\", 6, 9, 18, 26)\n",
       " Fighter(\"Unicorn Shanelly\", 4, 12, 34, 18)\n",
       " Fighter(\"Happy Dylann\", 3, 34, 31, 6)\n",
       " Fighter(\"Edvin the Hyena\", 7, 14, 5, 19)\n",
       " Fighter(\"Jayjay the Bagel\", 12, 6, 25, 4)\n",
       " Fighter(\"Itinerant Sombrero\", 10, 10, 21, 9)\n",
       " Fighter(\"Aylene the Frog\", 16, 16, 5, 4)\n",
       " Fighter(\"Victor the Ostrich\", 14, 13, 3, 13)\n",
       " Fighter(\"Ingenious Engine\", 12, 9, 19, 7)\n",
       " Fighter(\"Kooky Cricket\", 14, 7, 16, 11)\n",
       " Fighter(\"Snake Kambria\", 11, 18, 2, 10)"
      ]
     },
     "execution_count": 123,
     "metadata": {},
     "output_type": "execute_result"
    }
   ],
   "source": [
    "team_a = random_team(() -> rand_rename(random_scheme_a()), 100)\n",
    "team_r0 = random_team(() -> rand_rename(random_tournament_winner(0)), 100)\n",
    "team_r1 = random_team(() -> rand_rename(random_tournament_winner(1)), 100)\n",
    "team_r2 = random_team(() -> rand_rename(random_tournament_winner(2)), 100)\n"
   ]
  },
  {
   "cell_type": "code",
   "execution_count": 145,
   "id": "3a0a0d58",
   "metadata": {},
   "outputs": [
    {
     "data": {
      "text/plain": [
       "-1"
      ]
     },
     "execution_count": 145,
     "metadata": {},
     "output_type": "execute_result"
    }
   ],
   "source": [
    "eval_team_battle(team_a, counters)"
   ]
  },
  {
   "cell_type": "code",
   "execution_count": 146,
   "id": "88744f9a",
   "metadata": {},
   "outputs": [
    {
     "data": {
      "text/plain": [
       "1"
      ]
     },
     "execution_count": 146,
     "metadata": {},
     "output_type": "execute_result"
    }
   ],
   "source": [
    "eval_team_battle(team_a, team_r0)"
   ]
  },
  {
   "cell_type": "code",
   "execution_count": 147,
   "id": "4ee4af81",
   "metadata": {},
   "outputs": [
    {
     "data": {
      "text/plain": [
       "1"
      ]
     },
     "execution_count": 147,
     "metadata": {},
     "output_type": "execute_result"
    }
   ],
   "source": [
    "eval_team_battle(team_a, team_r1)"
   ]
  },
  {
   "cell_type": "code",
   "execution_count": 148,
   "id": "584b476c",
   "metadata": {},
   "outputs": [
    {
     "data": {
      "text/plain": [
       "1"
      ]
     },
     "execution_count": 148,
     "metadata": {},
     "output_type": "execute_result"
    }
   ],
   "source": [
    "eval_team_battle(team_a, team_r2)"
   ]
  },
  {
   "cell_type": "code",
   "execution_count": 149,
   "id": "865ca103",
   "metadata": {},
   "outputs": [
    {
     "data": {
      "text/plain": [
       "-1"
      ]
     },
     "execution_count": 149,
     "metadata": {},
     "output_type": "execute_result"
    }
   ],
   "source": [
    "eval_team_battle(team_r0, team_a)"
   ]
  },
  {
   "cell_type": "code",
   "execution_count": 150,
   "id": "96f4b1c5",
   "metadata": {},
   "outputs": [
    {
     "data": {
      "text/plain": [
       "1"
      ]
     },
     "execution_count": 150,
     "metadata": {},
     "output_type": "execute_result"
    }
   ],
   "source": [
    "eval_team_battle(team_r0, team_r1)"
   ]
  },
  {
   "cell_type": "code",
   "execution_count": 151,
   "id": "6e6b92f9",
   "metadata": {},
   "outputs": [
    {
     "data": {
      "text/plain": [
       "-1"
      ]
     },
     "execution_count": 151,
     "metadata": {},
     "output_type": "execute_result"
    }
   ],
   "source": [
    "eval_team_battle(team_r0, team_r2)"
   ]
  },
  {
   "cell_type": "code",
   "execution_count": 158,
   "id": "3f507e34",
   "metadata": {
    "scrolled": false
   },
   "outputs": [
    {
     "name": "stdout",
     "output_type": "stream",
     "text": [
      "         Fighter(\"Balanced Domino\", 23, 12, 2, 6)\n",
      "         Fighter(\"Egotistical Icicle\", 9, 15, 7, 13)\n",
      "Balanced Domino won against Egotistical Icicle\n",
      "         Fighter(\"Zinc Unicorn\", 14, 9, 12, 11)\n",
      "Balanced Domino lost against Zinc Unicorn\n",
      "         Fighter(\"Koala Maxi\", 9, 3, 32, 28)\n",
      "Koala Maxi lost against Zinc Unicorn\n",
      "         Fighter(\"Kooky Leopard\", 17, 8, 10, 11)\n",
      "Kooky Leopard lost against Zinc Unicorn\n",
      "         Fighter(\"Josi the Lawyer\", 9, 26, 9, 3)\n",
      "Josi the Lawyer lost against Zinc Unicorn\n",
      "         Fighter(\"Anneli the Pangolin\", 21, 5, 10, 17)\n",
      "Anneli the Pangolin lost against Zinc Unicorn\n",
      "         Fighter(\"Uber Warrior\", 2, 13, 5, 28)\n",
      "Uber Warrior lost against Zinc Unicorn\n",
      "         Fighter(\"Junior Vacuum\", 4, 27, 19, 8)\n",
      "Junior Vacuum lost against Zinc Unicorn\n",
      "         Fighter(\"Izela the Vacuum\", 5, 14, 7, 21)\n",
      "Izela the Vacuum won against Zinc Unicorn\n",
      "         Fighter(\"Scorpion Reve\", 16, 13, 8, 4)\n",
      "Izela the Vacuum lost against Scorpion Reve\n",
      "         Fighter(\"Elevated Pangolin\", 12, 13, 4, 15)\n",
      "Elevated Pangolin lost against Scorpion Reve\n",
      "         Fighter(\"Butler Avrian\", 24, 12, 2, 5)\n",
      "Butler Avrian lost against Scorpion Reve\n",
      "         Fighter(\"Bear Yuva\", 9, 13, 2, 20)\n",
      "Bear Yuva lost against Scorpion Reve\n",
      "         Fighter(\"Mackenize the Boisterous\", 4, 15, 10, 20)\n",
      "Mackenize the Boisterous lost against Scorpion Reve\n",
      "         Fighter(\"Drayven the Notebook\", 11, 17, 11, 5)\n",
      "Drayven the Notebook won against Scorpion Reve\n",
      "         Fighter(\"Solymar the Neurotic\", 13, 11, 7, 15)\n",
      "Drayven the Notebook lost against Solymar the Neurotic\n",
      "         Fighter(\"Lauro the Giant\", 3, 9, 13, 37)\n",
      "Lauro the Giant lost against Solymar the Neurotic\n",
      "         Fighter(\"Kingly Zayana\", 11, 8, 14, 19)\n",
      "Kingly Zayana lost against Solymar the Neurotic\n",
      "         Fighter(\"Cube Hirving\", 2, 11, 13, 32)\n",
      "Cube Hirving lost against Solymar the Neurotic\n",
      "         Fighter(\"Summerrose the Dizzy\", 10, 2, 33, 25)\n",
      "Summerrose the Dizzy lost against Solymar the Neurotic\n",
      "         Fighter(\"Furry Donut\", 8, 10, 27, 10)\n",
      "Furry Donut lost against Solymar the Neurotic\n",
      "         Fighter(\"Cube Michaelangelo\", 12, 10, 5, 22)\n",
      "Cube Michaelangelo lost against Solymar the Neurotic\n",
      "         Fighter(\"Brilyn the Uber\", 7, 14, 17, 13)\n",
      "Brilyn the Uber lost against Solymar the Neurotic\n",
      "         Fighter(\"Ola the Zookeeper\", 12, 22, 4, 4)\n",
      "Ola the Zookeeper won against Solymar the Neurotic\n",
      "         Fighter(\"Old Scotlynd\", 8, 18, 9, 10)\n",
      "Ola the Zookeeper lost against Old Scotlynd\n",
      "         Fighter(\"Minimal Marksman\", 11, 21, 2, 7)\n",
      "Minimal Marksman lost against Old Scotlynd\n",
      "         Fighter(\"Janiah the Tricky\", 21, 8, 10, 2)\n",
      "Janiah the Tricky won against Old Scotlynd\n",
      "         Fighter(\"Kiernan the Jacket\", 16, 9, 14, 3)\n",
      "Janiah the Tricky lost against Kiernan the Jacket\n",
      "         Fighter(\"Anoushka the Violet\", 9, 9, 31, 4)\n",
      "Anoushka the Violet lost against Kiernan the Jacket\n",
      "         Fighter(\"Rachamim the Tangled\", 12, 5, 25, 8)\n",
      "Rachamim the Tangled won against Kiernan the Jacket\n",
      "         Fighter(\"Boisterous Beetle\", 11, 13, 13, 8)\n",
      "Rachamim the Tangled lost against Boisterous Beetle\n",
      "         Fighter(\"Popular Varenya\", 13, 5, 25, 2)\n",
      "Popular Varenya lost against Boisterous Beetle\n",
      "         Fighter(\"Dodecahedron Marshall\", 9, 11, 12, 17)\n",
      "Dodecahedron Marshall won against Boisterous Beetle\n",
      "         Fighter(\"Zesty Marmot\", 11, 12, 15, 8)\n",
      "Dodecahedron Marshall won against Zesty Marmot\n",
      "         Fighter(\"Dancing Khamil\", 19, 7, 13, 2)\n",
      "Dodecahedron Marshall lost against Dancing Khamil\n",
      "         Fighter(\"Dynamic Cricket\", 39, 3, 5, 29)\n",
      "Dynamic Cricket lost against Dancing Khamil\n",
      "         Fighter(\"Mcallister the Manic\", 5, 11, 22, 21)\n",
      "Mcallister the Manic lost against Dancing Khamil\n",
      "         Fighter(\"Ailana the Tangled\", 14, 5, 18, 15)\n",
      "Ailana the Tangled won against Dancing Khamil\n",
      "         Fighter(\"Minimal Dog\", 14, 12, 13, 4)\n",
      "Ailana the Tangled won against Minimal Dog\n",
      "         Fighter(\"Wise Phoenix\", 15, 5, 19, 8)\n",
      "Ailana the Tangled lost against Wise Phoenix\n",
      "         Fighter(\"Ronia the Diamond\", 4, 9, 32, 26)\n",
      "Ronia the Diamond lost against Wise Phoenix\n",
      "         Fighter(\"Slingshot Kayzlynn\", 8, 18, 7, 11)\n",
      "Slingshot Kayzlynn won against Wise Phoenix\n",
      "         Fighter(\"Brutal Philosopher\", 16, 12, 9, 5)\n",
      "Slingshot Kayzlynn won against Brutal Philosopher\n",
      "         Fighter(\"Dawoud the Elegant\", 9, 18, 12, 7)\n",
      "Slingshot Kayzlynn won against Dawoud the Elegant\n",
      "         Fighter(\"Altay the Egotistical\", 8, 22, 3, 9)\n",
      "Slingshot Kayzlynn won against Altay the Egotistical\n",
      "         Fighter(\"Amali the Valiant\", 2, 27, 11, 12)\n",
      "Slingshot Kayzlynn lost against Amali the Valiant\n",
      "         Fighter(\"Abel the Sheltering\", 24, 12, 2, 5)\n",
      "Abel the Sheltering lost against Amali the Valiant\n",
      "         Fighter(\"Bee Redd\", 6, 12, 16, 19)\n",
      "Bee Redd won against Amali the Valiant\n",
      "         Fighter(\"Balloon Javonte\", 24, 3, 13, 5)\n",
      "Bee Redd won against Balloon Javonte\n",
      "         Fighter(\"Student Celestine\", 9, 16, 16, 7)\n",
      "Bee Redd won against Student Celestine\n",
      "         Fighter(\"Daquarius the Yak\", 10, 12, 10, 15)\n",
      "Bee Redd won against Daquarius the Yak\n",
      "         Fighter(\"Likable Commander\", 2, 19, 38, 15)\n",
      "Bee Redd won against Likable Commander\n",
      "         Fighter(\"Nikola the Paper\", 17, 3, 17, 20)\n",
      "Bee Redd lost against Nikola the Paper\n",
      "         Fighter(\"Warm Prosperity\", 5, 23, 15, 9)\n",
      "Warm Prosperity won against Nikola the Paper\n",
      "         Fighter(\"Old Monkey\", 15, 7, 11, 18)\n",
      "Warm Prosperity lost against Old Monkey\n",
      "         Fighter(\"Zayvian the Strawberry\", 6, 24, 30, 3)\n",
      "Zayvian the Strawberry lost against Old Monkey\n",
      "         Fighter(\"Zany Ox\", 16, 7, 9, 20)\n",
      "Zany Ox lost against Old Monkey\n",
      "         Fighter(\"Brecklyn the Xquisite\", 13, 4, 23, 12)\n",
      "Brecklyn the Xquisite won against Old Monkey\n",
      "         Fighter(\"Happy Lowyn\", 2, 18, 38, 16)\n",
      "Brecklyn the Xquisite lost against Happy Lowyn\n",
      "         Fighter(\"Melly the Potassium\", 9, 33, 4, 2)\n",
      "Melly the Potassium lost against Happy Lowyn\n",
      "         Fighter(\"Elusive Mallet\", 13, 11, 4, 18)\n",
      "Elusive Mallet won against Happy Lowyn\n",
      "         Fighter(\"Aadhya the Tyro\", 17, 8, 13, 5)\n",
      "Elusive Mallet lost against Aadhya the Tyro\n",
      "         Fighter(\"Elevated Tiger\", 16, 9, 6, 17)\n",
      "Elevated Tiger lost against Aadhya the Tyro\n",
      "         Fighter(\"Underwater Xerox\", 15, 6, 18, 6)\n",
      "Underwater Xerox won against Aadhya the Tyro\n",
      "         Fighter(\"Nice Tiger\", 9, 15, 7, 13)\n",
      "Underwater Xerox lost against Nice Tiger\n",
      "         Fighter(\"Amazing Bee\", 7, 11, 24, 14)\n",
      "Amazing Bee won against Nice Tiger\n",
      "         Fighter(\"Wombat Suvi\", 10, 18, 7, 8)\n",
      "Amazing Bee won against Wombat Suvi\n",
      "         Fighter(\"Marmot Martyn\", 23, 4, 13, 2)\n",
      "Amazing Bee won against Marmot Martyn\n",
      "         Fighter(\"Jellyfish Genevive\", 16, 11, 12, 2)\n",
      "Amazing Bee lost against Jellyfish Genevive\n",
      "         Fighter(\"Delmi the Balanced\", 12, 9, 22, 3)\n",
      "Delmi the Balanced won against Jellyfish Genevive\n",
      "         Fighter(\"Lucid Cheese\", 11, 13, 10, 11)\n",
      "Delmi the Balanced lost against Lucid Cheese\n",
      "         Fighter(\"Man the Itinerant\", 19, 13, 2, 8)\n",
      "Man the Itinerant won against Lucid Cheese\n",
      "         Fighter(\"Luminous Jaedon\", 4, 18, 37, 10)\n",
      "Man the Itinerant won against Luminous Jaedon\n",
      "         Fighter(\"Heroic Violin\", 4, 20, 5, 15)\n",
      "Man the Itinerant lost against Heroic Violin\n",
      "         Fighter(\"Harvey the Car\", 22, 5, 7, 27)\n",
      "Harvey the Car won against Heroic Violin\n",
      "         Fighter(\"Vitoria the Train\", 17, 3, 16, 25)\n",
      "Harvey the Car lost against Vitoria the Train\n",
      "         Fighter(\"Joking Snake\", 15, 12, 3, 14)\n",
      "Joking Snake lost against Vitoria the Train\n",
      "         Fighter(\"Energetic Darelis\", 7, 7, 15, 35)\n",
      "Energetic Darelis lost against Vitoria the Train\n",
      "         Fighter(\"Itinerant Drithi\", 13, 18, 7, 4)\n",
      "Itinerant Drithi won against Vitoria the Train\n",
      "         Fighter(\"Sheltering Cambry\", 18, 8, 12, 5)\n",
      "Itinerant Drithi won against Sheltering Cambry\n",
      "         Fighter(\"Egotistical Cheetah\", 16, 15, 7, 3)\n",
      "Itinerant Drithi won against Egotistical Cheetah\n",
      "         Fighter(\"Wise Utah\", 17, 4, 18, 6)\n",
      "Itinerant Drithi won against Wise Utah\n",
      "         Fighter(\"Devynn the Quiet\", 13, 16, 7, 6)\n",
      "Itinerant Drithi lost against Devynn the Quiet\n",
      "         Fighter(\"Furious Mathematician\", 7, 9, 21, 21)\n",
      "Furious Mathematician lost against Devynn the Quiet\n",
      "         Fighter(\"Zany Unicorn\", 16, 12, 10, 4)\n",
      "Zany Unicorn lost against Devynn the Quiet\n",
      "         Fighter(\"Enno the Sheltering\", 14, 10, 15, 5)\n",
      "Enno the Sheltering lost against Devynn the Quiet\n",
      "         Fighter(\"Dmitry the Orange\", 8, 9, 32, 8)\n",
      "Dmitry the Orange lost against Devynn the Quiet\n",
      "         Fighter(\"Piano Kendell\", 5, 16, 16, 15)\n",
      "Piano Kendell won against Devynn the Quiet\n",
      "         Fighter(\"Zuleima the Icy\", 4, 28, 2, 10)\n",
      "Piano Kendell won against Zuleima the Icy\n",
      "         Fighter(\"Breslin the Sheltering\", 18, 3, 18, 7)\n",
      "Piano Kendell lost against Breslin the Sheltering\n",
      "         Fighter(\"Kooky Snake\", 26, 5, 8, 12)\n",
      "Kooky Snake lost against Breslin the Sheltering\n",
      "         Fighter(\"Kathalia the Spider\", 21, 14, 3, 3)\n",
      "Kathalia the Spider lost against Breslin the Sheltering\n",
      "         Fighter(\"Kooky Phoenix\", 10, 7, 16, 24)\n",
      "Kooky Phoenix lost against Breslin the Sheltering\n",
      "         Fighter(\"Neurotic Assiah\", 19, 14, 3, 5)\n",
      "Neurotic Assiah lost against Breslin the Sheltering\n",
      "         Fighter(\"Audrina the Commander\", 10, 14, 12, 10)\n",
      "Audrina the Commander lost against Breslin the Sheltering\n",
      "         Fighter(\"Massive Soldier\", 4, 10, 5, 34)\n",
      "Massive Soldier lost against Breslin the Sheltering\n",
      "         Fighter(\"Gallant Bennet\", 7, 5, 39, 18)\n",
      "Gallant Bennet won against Breslin the Sheltering\n",
      "         Fighter(\"Giant Emmersen\", 15, 3, 21, 13)\n",
      "Gallant Bennet won against Giant Emmersen\n",
      "         Fighter(\"Berenice the Yoyo\", 17, 12, 8, 5)\n",
      "Gallant Bennet lost against Berenice the Yoyo\n",
      "         Fighter(\"Kyara the Orange\", 10, 11, 25, 3)\n",
      "Kyara the Orange lost against Berenice the Yoyo\n",
      "         Fighter(\"Elevated Laptop\", 10, 21, 14, 2)\n",
      "Elevated Laptop lost against Berenice the Yoyo\n",
      "         Fighter(\"Sword Meshulem\", 7, 10, 4, 30)\n",
      "Sword Meshulem lost against Berenice the Yoyo\n",
      "         Fighter(\"Doorman Aleo\", 5, 18, 18, 12)\n",
      "Doorman Aleo won against Berenice the Yoyo\n",
      "         Fighter(\"Koji the Airplane\", 15, 12, 4, 13)\n",
      "Doorman Aleo lost against Koji the Airplane\n",
      "         Fighter(\"Marik the Militant\", 11, 27, 4, 2)\n",
      "Marik the Militant lost against Koji the Airplane\n",
      "         Fighter(\"Dez the Butler\", 11, 12, 13, 10)\n",
      "Dez the Butler lost against Koji the Airplane\n",
      "         Fighter(\"Camyla the Violet\", 21, 3, 15, 7)\n",
      "Camyla the Violet won against Koji the Airplane\n",
      "         Fighter(\"Itinerant Essex\", 15, 14, 10, 2)\n",
      "Camyla the Violet won against Itinerant Essex\n",
      "         Fighter(\"Wade the Balanced\", 17, 2, 21, 4)\n",
      "Camyla the Violet lost against Wade the Balanced\n",
      "         Fighter(\"Elisheba the Lion\", 12, 13, 3, 16)\n",
      "Elisheba the Lion lost against Wade the Balanced\n",
      "         Fighter(\"Hoover the Pteranodon\", 26, 3, 8, 38)\n",
      "Hoover the Pteranodon lost against Wade the Balanced\n",
      "         Fighter(\"Fiery Icosahedron\", 16, 7, 3, 34)\n",
      "Fiery Icosahedron lost against Wade the Balanced\n",
      "         Fighter(\"Artisan Romy\", 7, 11, 24, 14)\n",
      "Artisan Romy won against Wade the Balanced\n",
      "         Fighter(\"Sleepy Umbrella\", 12, 6, 22, 10)\n",
      "Artisan Romy won against Sleepy Umbrella\n",
      "         Fighter(\"Olujimi the Minimal\", 24, 4, 11, 10)\n",
      "Artisan Romy won against Olujimi the Minimal\n",
      "         Fighter(\"Valiant Quilt\", 3, 27, 25, 9)\n",
      "Artisan Romy won against Valiant Quilt\n",
      "         Fighter(\"Rylo the Engineer\", 8, 17, 5, 13)\n",
      "Artisan Romy won against Rylo the Engineer\n",
      "         Fighter(\"Minimal Fish\", 16, 10, 9, 9)\n",
      "Artisan Romy lost against Minimal Fish\n",
      "         Fighter(\"Disciplined Pie\", 6, 12, 20, 17)\n",
      "Disciplined Pie lost against Minimal Fish\n",
      "         Fighter(\"Quilled Nayah\", 7, 20, 2, 12)\n",
      "Quilled Nayah won against Minimal Fish\n",
      "         Fighter(\"Kingly Singer\", 2, 30, 20, 10)\n",
      "Quilled Nayah won against Kingly Singer\n",
      "         Fighter(\"Rami the Tiger\", 18, 5, 11, 22)\n",
      "Quilled Nayah won against Rami the Tiger\n",
      "         Fighter(\"Iron Jacket\", 14, 2, 24, 18)\n",
      "Quilled Nayah won against Iron Jacket\n",
      "         Fighter(\"Kimberlin the Duck\", 20, 10, 9, 2)\n",
      "Quilled Nayah won against Kimberlin the Duck\n",
      "         Fighter(\"Heroic Basket\", 11, 12, 15, 8)\n",
      "Quilled Nayah won against Heroic Basket\n",
      "         Fighter(\"Cheryl the Spider\", 17, 14, 3, 7)\n",
      "Quilled Nayah won against Cheryl the Spider\n",
      "         Fighter(\"Umbrella Dayquan\", 12, 12, 12, 9)\n",
      "Quilled Nayah won against Umbrella Dayquan\n",
      "         Fighter(\"Arie the Octopus\", 16, 3, 18, 21)\n",
      "Quilled Nayah won against Arie the Octopus\n",
      "         Fighter(\"Little Dodecahedron\", 21, 3, 15, 7)\n",
      "Quilled Nayah lost against Little Dodecahedron\n",
      "         Fighter(\"Tyro Keyari\", 12, 9, 14, 13)\n",
      "Tyro Keyari lost against Little Dodecahedron\n",
      "         Fighter(\"Gemstone Miracle\", 12, 14, 17, 2)\n",
      "Gemstone Miracle won against Little Dodecahedron\n",
      "         Fighter(\"Quiet Aero\", 21, 15, 2, 2)\n",
      "Gemstone Miracle lost against Quiet Aero\n",
      "         Fighter(\"Shy Marmot\", 19, 4, 14, 14)\n",
      "Shy Marmot won against Quiet Aero\n",
      "         Fighter(\"Agile Archer\", 11, 15, 7, 10)\n",
      "Shy Marmot won against Agile Archer\n"
     ]
    },
    {
     "name": "stdout",
     "output_type": "stream",
     "text": [
      "         Fighter(\"Carmello the Rogue\", 17, 2, 19, 21)\n",
      "Shy Marmot lost against Carmello the Rogue\n",
      "         Fighter(\"Brutal Talyn\", 23, 4, 8, 31)\n",
      "Brutal Talyn lost against Carmello the Rogue\n",
      "         Fighter(\"Valiant Horse\", 17, 5, 14, 15)\n",
      "Valiant Horse lost against Carmello the Rogue\n",
      "         Fighter(\"Large Monkey\", 15, 6, 12, 21)\n",
      "Large Monkey lost against Carmello the Rogue\n",
      "         Fighter(\"Naughty Robot\", 11, 22, 2, 6)\n",
      "Naughty Robot won against Carmello the Rogue\n",
      "         Fighter(\"Xquisite Cake\", 13, 20, 7, 2)\n",
      "Naughty Robot won against Xquisite Cake\n",
      "         Fighter(\"Yogurt Stormy\", 25, 5, 10, 5)\n",
      "Naughty Robot lost against Yogurt Stormy\n",
      "         Fighter(\"Militant Quilt\", 12, 16, 2, 11)\n",
      "Militant Quilt lost against Yogurt Stormy\n",
      "         Fighter(\"Ruaa the Wise\", 17, 11, 10, 3)\n",
      "Ruaa the Wise lost against Yogurt Stormy\n",
      "         Fighter(\"Luminous Zira\", 9, 13, 24, 5)\n",
      "Luminous Zira won against Yogurt Stormy\n",
      "         Fighter(\"Maximal Egg\", 11, 15, 10, 8)\n",
      "Luminous Zira lost against Maximal Egg\n",
      "         Fighter(\"Harriett the Gentle\", 23, 14, 2, 2)\n",
      "Harriett the Gentle won against Maximal Egg\n",
      "         Fighter(\"Ravenna the Old\", 16, 18, 3, 3)\n",
      "Harriett the Gentle lost against Ravenna the Old\n",
      "         Fighter(\"Hyena Kaydn\", 12, 11, 5, 18)\n",
      "Hyena Kaydn lost against Ravenna the Old\n",
      "         Fighter(\"Pizza Kenleigh\", 11, 6, 24, 11)\n",
      "Pizza Kenleigh lost against Ravenna the Old\n",
      "         Fighter(\"Agile Rithanya\", 39, 6, 3, 8)\n",
      "Agile Rithanya won against Ravenna the Old\n",
      "         Fighter(\"Jaiyah the Laptop\", 11, 15, 14, 5)\n",
      "Agile Rithanya lost against Jaiyah the Laptop\n",
      "         Fighter(\"Xray Baltazar\", 10, 13, 7, 15)\n",
      "Xray Baltazar won against Jaiyah the Laptop\n",
      "         Fighter(\"Minimal Arush\", 21, 6, 11, 7)\n",
      "Xray Baltazar lost against Minimal Arush\n",
      "         Fighter(\"Koda the Elephant\", 6, 9, 18, 26)\n",
      "Koda the Elephant lost against Minimal Arush\n",
      "         Fighter(\"Unicorn Shanelly\", 4, 12, 34, 18)\n",
      "Unicorn Shanelly lost against Minimal Arush\n",
      "         Fighter(\"Happy Dylann\", 3, 34, 31, 6)\n",
      "Happy Dylann lost against Minimal Arush\n",
      "         Fighter(\"Edvin the Hyena\", 7, 14, 5, 19)\n",
      "Edvin the Hyena lost against Minimal Arush\n",
      "         Fighter(\"Jayjay the Bagel\", 12, 6, 25, 4)\n",
      "Jayjay the Bagel won against Minimal Arush\n",
      "         Fighter(\"Scorpion Aven\", 10, 21, 4, 7)\n",
      "Jayjay the Bagel lost against Scorpion Aven\n",
      "         Fighter(\"Itinerant Sombrero\", 10, 10, 21, 9)\n",
      "Itinerant Sombrero won against Scorpion Aven\n",
      "         Fighter(\"Aidan the Shovel\", 21, 3, 12, 28)\n",
      "Itinerant Sombrero won against Aidan the Shovel\n",
      "         Fighter(\"Statue Bertin\", 5, 18, 15, 13)\n",
      "Itinerant Sombrero lost against Statue Bertin\n",
      "         Fighter(\"Aylene the Frog\", 16, 16, 5, 4)\n",
      "Aylene the Frog lost against Statue Bertin\n",
      "         Fighter(\"Victor the Ostrich\", 14, 13, 3, 13)\n",
      "Victor the Ostrich lost against Statue Bertin\n",
      "         Fighter(\"Ingenious Engine\", 12, 9, 19, 7)\n",
      "Ingenious Engine lost against Statue Bertin\n",
      "         Fighter(\"Kooky Cricket\", 14, 7, 16, 11)\n",
      "Kooky Cricket lost against Statue Bertin\n",
      "         Fighter(\"Snake Kambria\", 11, 18, 2, 10)\n",
      "Snake Kambria lost against Statue Bertin\n",
      "         "
     ]
    },
    {
     "ename": "LoadError",
     "evalue": "BoundsError: attempt to access 100-element Vector{Fighter} at index [101]",
     "output_type": "error",
     "traceback": [
      "BoundsError: attempt to access 100-element Vector{Fighter} at index [101]",
      "",
      "Stacktrace:",
      " [1] getindex(A::Vector{Fighter}, i1::Int64)",
      "   @ Base ./essentials.jl:13",
      " [2] top-level scope",
      "   @ ./In[158]:27"
     ]
    }
   ],
   "source": [
    "as = team_r2\n",
    "bs = counters\n",
    "a_i = 1\n",
    "b_i = 1\n",
    "print(\"         \")\n",
    "println(as[a_i])\n",
    "print(\"         \")\n",
    "println(bs[b_i])\n",
    "while (a_i <= length(as)) && (b_i <= length(bs))\n",
    "    res = eval_battle(as[a_i], bs[b_i])\n",
    "    if res == 1\n",
    "        println(string(as[a_i].name, \" won against \", bs[b_i].name))\n",
    "        b_i = b_i + 1\n",
    "        print(\"         \")\n",
    "        println(bs[b_i])\n",
    "    else\n",
    "        if res == 0\n",
    "            println(string(as[a_i].name, \" tied against \", bs[b_i].name))\n",
    "            b_i = b_i + 1\n",
    "            print(\"         \")\n",
    "            println(bs[b_i])\n",
    "        else\n",
    "            println(string(as[a_i].name, \" lost against \", bs[b_i].name))\n",
    "        end\n",
    "        a_i = a_i + 1\n",
    "        print(\"         \")\n",
    "        println(as[a_i])\n",
    "    end\n",
    "end\n",
    "a_out = (a_i > length(as))\n",
    "b_out = (b_i > length(as))\n",
    "if a_out\n",
    "    if b_out\n",
    "        return 0\n",
    "    else\n",
    "        return -1\n",
    "    end\n",
    "else\n",
    "    return 1\n",
    "end\n"
   ]
  },
  {
   "cell_type": "code",
   "execution_count": 159,
   "id": "def20d4c",
   "metadata": {},
   "outputs": [
    {
     "data": {
      "text/plain": [
       "(101, 68)"
      ]
     },
     "execution_count": 159,
     "metadata": {},
     "output_type": "execute_result"
    }
   ],
   "source": [
    "a_i, b_i"
   ]
  },
  {
   "cell_type": "code",
   "execution_count": null,
   "id": "4b58a94d",
   "metadata": {},
   "outputs": [],
   "source": []
  },
  {
   "cell_type": "code",
   "execution_count": null,
   "id": "d655251d",
   "metadata": {},
   "outputs": [],
   "source": []
  }
 ],
 "metadata": {
  "kernelspec": {
   "display_name": "Julia 1.9.3",
   "language": "julia",
   "name": "julia-1.9"
  },
  "language_info": {
   "file_extension": ".jl",
   "mimetype": "application/julia",
   "name": "julia",
   "version": "1.9.3"
  }
 },
 "nbformat": 4,
 "nbformat_minor": 5
}

{
 "cells": [
  {
   "cell_type": "code",
   "execution_count": 1,
   "id": "560e9539",
   "metadata": {},
   "outputs": [
    {
     "data": {
      "text/plain": [
       "eval_team_battle (generic function with 1 method)"
      ]
     },
     "execution_count": 1,
     "metadata": {},
     "output_type": "execute_result"
    }
   ],
   "source": [
    "using Random\n",
    "using DataFrames\n",
    "using CSV\n",
    "using Statistics\n",
    "using Printf\n",
    "using Distributions\n",
    "using LinearAlgebra\n",
    "\n",
    "struct Fighter\n",
    "    name::String\n",
    "    h::Int16\n",
    "    f::Int16\n",
    "    l::Int16\n",
    "    t::Int16\n",
    "end\n",
    "\n",
    "const MXS = 10000\n",
    "const MXV = 200\n",
    "const MNV = 10\n",
    "\n",
    "function random_fighter(h0::Int = MNV, f0::Int = MNV, l0::Int = MNV, t0::Int = MNV)::Fighter\n",
    "    flag = true\n",
    "    while flag\n",
    "        h = h0 + rand(0:(MXV - h0), 1)[1]\n",
    "        f = f0 + rand(0:(MXV - f0), 1)[1]\n",
    "        l = l0 + rand(0:(MXV - l0), 1)[1]\n",
    "        t = t0 + rand(0:(MXV - t0), 1)[1]\n",
    "        mm = minimum([h, f])\n",
    "        budget = h*f+h*l+f*t\n",
    "        if budget <= MXS && budget + mm > MXS\n",
    "            flag = false\n",
    "            return Fighter(\"No Name\", h, f, l, t)\n",
    "        end\n",
    "    end\n",
    "end\n",
    "\n",
    "function eval_battle(a::Fighter, b::Fighter)::Int\n",
    "    a_finds = a.f >= b.h\n",
    "    b_finds = b.f >= a.h\n",
    "    if a_finds && b_finds\n",
    "        if a.t > b.t\n",
    "            return 1\n",
    "        end\n",
    "        if a.t < b.t\n",
    "            return -1\n",
    "        end\n",
    "        if a.t == b.t\n",
    "            if a.l > b.l\n",
    "                return 1\n",
    "            end\n",
    "            if a.l < b.l\n",
    "                return -1\n",
    "            end\n",
    "            if a.l == b.l\n",
    "                if a.h > b.h\n",
    "                    return 1\n",
    "                end\n",
    "                if a.h < b.h\n",
    "                    return -1\n",
    "                end\n",
    "                if a.h == b.h\n",
    "                    return 0\n",
    "                end\n",
    "            end\n",
    "        end\n",
    "    end\n",
    "    if a_finds && !b_finds\n",
    "        return 1\n",
    "    end\n",
    "    if !a_finds && b_finds\n",
    "        return -1\n",
    "    end\n",
    "    if !a_finds && !b_finds\n",
    "        if a.l > b.l\n",
    "            return 1\n",
    "        end\n",
    "        if a.l < b.l\n",
    "            return -1\n",
    "        end\n",
    "        if a.l == b.l\n",
    "            if a.t > b.t\n",
    "                return 1\n",
    "            end\n",
    "            if a.t < b.t\n",
    "                return -1\n",
    "            end\n",
    "            if a.t == b.t\n",
    "                if a.f > b.f\n",
    "                    return 1\n",
    "                end\n",
    "                if a.f < b.f\n",
    "                    return -1\n",
    "                end\n",
    "                if a.f == b.f\n",
    "                    return 0\n",
    "                end\n",
    "            end\n",
    "        end\n",
    "    end\n",
    "end\n",
    "\n",
    "function random_tournament_winner(c::Int, f::Function = random_fighter)::Fighter\n",
    "    if c==0\n",
    "        return f()\n",
    "    end\n",
    "    a = random_tournament_winner(c-1, f)\n",
    "    b = random_tournament_winner(c-1, f)\n",
    "    res = eval_battle(a, b)\n",
    "    if res == 1\n",
    "        return a\n",
    "    else\n",
    "        return b\n",
    "    end\n",
    "end\n",
    "\n",
    "\n",
    "tab = CSV.read(\"census_yob2022_names.txt\", DataFrame, header = false)\n",
    "names = tab.Column1\n",
    "adjectives = CSV.read(\"adjectives.csv\", DataFrame)\n",
    "nouns = CSV.read(\"nouns.csv\", DataFrame)\n",
    "\n",
    "function random_name_and_stat()::Fighter\n",
    "    vp = [0, 0, 0, 0]\n",
    "    nametype = rand(1:5)\n",
    "    name = \"\"\n",
    "    if nametype == 1 || nametype == 2\n",
    "        nm = rand(names)\n",
    "        adj_i = rand(1:nrow(adjectives))\n",
    "        adj = adjectives[adj_i, :adjective]\n",
    "        vp[1] = vp[1] + adjectives[adj_i, :H]\n",
    "        vp[2] = vp[2] + adjectives[adj_i, :F]\n",
    "        vp[3] = vp[3] + adjectives[adj_i, :L]\n",
    "        vp[4] = vp[4] + adjectives[adj_i, :T]\n",
    "        if nametype == 1\n",
    "            name = string(nm, \" the \", adj)\n",
    "        end\n",
    "        if nametype == 2\n",
    "            name = string(adj, \" \", nm)\n",
    "        end\n",
    "    end\n",
    "    if nametype == 3 || nametype == 4\n",
    "        nm = rand(names)\n",
    "        noun_i = rand(1:nrow(nouns))\n",
    "        noun = nouns[noun_i, :noun]\n",
    "        vp[1] = vp[1] + nouns[noun_i, :H]\n",
    "        vp[2] = vp[2] + nouns[noun_i, :F]\n",
    "        vp[3] = vp[3] + nouns[noun_i, :L]\n",
    "        vp[4] = vp[4] + nouns[noun_i, :T]    \n",
    "        if nametype == 3\n",
    "            name = string(nm, \" the \", noun)\n",
    "        end\n",
    "        if nametype == 4\n",
    "            name = string(noun, \" \", nm)\n",
    "        end\n",
    "    end\n",
    "    if nametype == 5\n",
    "        adj_i = rand(1:nrow(adjectives))\n",
    "        adj = adjectives[adj_i, :adjective]\n",
    "        vp[1] = vp[1] + adjectives[adj_i, :H]\n",
    "        vp[2] = vp[2] + adjectives[adj_i, :F]\n",
    "        vp[3] = vp[3] + adjectives[adj_i, :L]\n",
    "        vp[4] = vp[4] + adjectives[adj_i, :T]\n",
    "        noun_i = rand(1:nrow(nouns))\n",
    "        noun = nouns[noun_i, :noun]\n",
    "        vp[1] = vp[1] + nouns[noun_i, :H]\n",
    "        vp[2] = vp[2] + nouns[noun_i, :F]\n",
    "        vp[3] = vp[3] + nouns[noun_i, :L]\n",
    "        vp[4] = vp[4] + nouns[noun_i, :T]    \n",
    "        name = string(adj, \" \", noun)\n",
    "    end\n",
    "    Fighter(name, vp[1], vp[2], vp[3], vp[4])\n",
    "end\n",
    "\n",
    "function rand_rename(a::Fighter, n_tries::Int = 10)::Fighter\n",
    "    best_score = 0.0\n",
    "    best_b = random_name_and_stat()\n",
    "    for ii in 1:n_tries\n",
    "        b = random_name_and_stat()\n",
    "        b_norm = sqrt(b.h^2 + b.f^2 + b.l^2 + b.t^2)\n",
    "        score = (a.h * b.h + a.f * b.f + a.l * b.l + a.t * b.t)/b_norm\n",
    "        if score > best_score\n",
    "            best_score = score\n",
    "            best_b = b\n",
    "        end\n",
    "    end\n",
    "    return Fighter(best_b.name, a.h, a.f, a.l, a.t)\n",
    "end\n",
    "\n",
    "function eval_battle_list(a::Fighter, bs::Array{Fighter})::Int\n",
    "    score = 0\n",
    "    for ii in 1:length(bs)\n",
    "        score = score + eval_battle(a, bs[ii])\n",
    "    end\n",
    "    return score\n",
    "end\n",
    "\n",
    "function pick_best(as::Array{Fighter}, bs::Array{Fighter})::Fighter\n",
    "    bestscore = -999\n",
    "    bestf = as[1]\n",
    "    for ii in 1:length(as)\n",
    "        score = eval_battle_list(as[ii], bs)\n",
    "        if score > bestscore\n",
    "            bestscore = score\n",
    "            bestf = as[ii]\n",
    "        end\n",
    "    end\n",
    "    return bestf\n",
    "end\n",
    "\n",
    "function pick_best_rdmly(as::Array{Fighter}, bs::Array{Fighter}, ntries::Int)::Fighter\n",
    "    bestscore = -999\n",
    "    bestf = rand(as)\n",
    "    for ii in 1:ntries\n",
    "        f = rand(as)\n",
    "        score = eval_battle_list(f, bs)\n",
    "        if score > bestscore\n",
    "            bestscore = score\n",
    "            bestf = f\n",
    "        end\n",
    "    end\n",
    "    return bestf\n",
    "end\n",
    "\n",
    "function fighters_to_df(as::Array{Fighter})::DataFrame\n",
    "    names = Array{String}(undef, length(as))\n",
    "    hs = Array{Int}(undef, length(as))\n",
    "    fs = Array{Int}(undef, length(as))\n",
    "    ls = Array{Int}(undef, length(as))\n",
    "    ts = Array{Int}(undef, length(as))\n",
    "    for ii in 1:length(as)\n",
    "        names[ii] = as[ii].name\n",
    "        hs[ii] = as[ii].h\n",
    "        fs[ii] = as[ii].f\n",
    "        ls[ii] = as[ii].l\n",
    "        ts[ii] = as[ii].t    \n",
    "    end\n",
    "    df = DataFrame(name = names, h = hs, f = fs, l = ls, t = ts)\n",
    "    return df\n",
    "end\n",
    "\n",
    "function fpart(x::AbstractFloat)::AbstractFloat\n",
    "  return x - trunc(x)\n",
    "end\n",
    "\n",
    "function eval_team_battle(as::Array{Fighter}, bs::Array{Fighter})::Int\n",
    "    a_i = 1\n",
    "    b_i = 1\n",
    "    while (a_i <= length(as)) && (b_i <= length(bs))\n",
    "        res = eval_battle(as[a_i], bs[b_i])\n",
    "        if res == 1\n",
    "            b_i = b_i + 1\n",
    "        else\n",
    "            a_i = a_i + 1\n",
    "            if res == 0\n",
    "                b_i = b_i + 1\n",
    "            end\n",
    "        end\n",
    "    end\n",
    "    a_out = (a_i > length(as))\n",
    "    b_out = (b_i > length(as))\n",
    "    if a_out\n",
    "        if b_out\n",
    "            return 0\n",
    "        else\n",
    "            return -1\n",
    "        end\n",
    "    else\n",
    "        return 1\n",
    "    end\n",
    "end"
   ]
  },
  {
   "cell_type": "code",
   "execution_count": 2,
   "id": "ec7b15f6",
   "metadata": {},
   "outputs": [
    {
     "data": {
      "text/plain": [
       "random_team (generic function with 1 method)"
      ]
     },
     "execution_count": 2,
     "metadata": {},
     "output_type": "execute_result"
    }
   ],
   "source": [
    "function random_team(f::Function, team_size::Int)::Array{Fighter}\n",
    "    team = Array{Fighter}(undef, team_size)\n",
    "    for i in 1:team_size\n",
    "        team[i] = f()\n",
    "    end\n",
    "    return team\n",
    "end"
   ]
  },
  {
   "cell_type": "code",
   "execution_count": 3,
   "id": "51cea033",
   "metadata": {},
   "outputs": [],
   "source": [
    "library = Array{Fighter}(undef, 100000)\n",
    "for i in 1:100000\n",
    "    library[i] = rand_rename(random_fighter())\n",
    "end"
   ]
  },
  {
   "cell_type": "code",
   "execution_count": 4,
   "id": "f1198f90",
   "metadata": {},
   "outputs": [
    {
     "data": {
      "text/plain": [
       "evaluate_generator (generic function with 2 methods)"
      ]
     },
     "execution_count": 4,
     "metadata": {},
     "output_type": "execute_result"
    }
   ],
   "source": [
    "function evaluate_generator(f::Function, team_size::Int, n_times::Int = 1)::AbstractFloat\n",
    "    scores = Array{AbstractFloat}(undef, n_times)\n",
    "    for i0 in 1:n_times\n",
    "        team = Array{Fighter}(undef, team_size)\n",
    "        for i in 1:team_size\n",
    "            team[i] = f()\n",
    "        end\n",
    "        bestscore = 999999\n",
    "        exploiter = library[1]\n",
    "        for i in 1:length(library)\n",
    "            fighter = library[i]\n",
    "            score = 0\n",
    "            for j in 1:team_size\n",
    "                score = score + eval_battle(team[j], fighter)\n",
    "            end\n",
    "            if score < bestscore\n",
    "                bestscore = score\n",
    "                exploiter = library[i]\n",
    "            end\n",
    "        end\n",
    "        if n_times < 5\n",
    "            println(exploiter)        \n",
    "        end\n",
    "        scores[i0] = bestscore/team_size\n",
    "    end\n",
    "    return mean(scores)\n",
    "end"
   ]
  },
  {
   "cell_type": "code",
   "execution_count": 5,
   "id": "608ef7bd",
   "metadata": {},
   "outputs": [
    {
     "data": {
      "text/plain": [
       "evaluate_generator2 (generic function with 1 method)"
      ]
     },
     "execution_count": 5,
     "metadata": {},
     "output_type": "execute_result"
    }
   ],
   "source": [
    "function evaluate_generator2(f1, ts, np, limit)\n",
    "    a_i = 1\n",
    "    b_i = 1\n",
    "    f_a = f1()\n",
    "    t_a = random_team(f1, ts)\n",
    "    f_b = pick_best_rdmly(library, t_a, np)\n",
    "    while (a_i < limit) && (b_i < limit)\n",
    "        res = eval_battle(f_a, f_b)\n",
    "        if res != -1\n",
    "            b_i = b_i + 1\n",
    "            t_a = random_team(f1, ts)\n",
    "            f_b = pick_best_rdmly(library, t_a, np)        \n",
    "        end\n",
    "        if res != 1\n",
    "            a_i = a_i + 1\n",
    "            f_a = f1()\n",
    "        end\n",
    "    end\n",
    "    return (a_i/limit, b_i/limit)\n",
    "end"
   ]
  },
  {
   "cell_type": "code",
   "execution_count": 6,
   "id": "392564f9",
   "metadata": {},
   "outputs": [
    {
     "data": {
      "text/plain": [
       "compare_generator (generic function with 1 method)"
      ]
     },
     "execution_count": 6,
     "metadata": {},
     "output_type": "execute_result"
    }
   ],
   "source": [
    "function compare_generator(f1, f2, limit)\n",
    "    a_i = 1\n",
    "    b_i = 1\n",
    "    f_a = f1()\n",
    "    f_b = f2()\n",
    "    while (a_i < limit) && (b_i < limit)\n",
    "        res = eval_battle(f_a, f_b)\n",
    "        if res != -1\n",
    "            b_i = b_i + 1\n",
    "            f_b = f2()\n",
    "        end\n",
    "        if res != 1\n",
    "            a_i = a_i + 1\n",
    "            f_a = f1()\n",
    "        end\n",
    "    end\n",
    "    return (a_i/limit, b_i/limit)\n",
    "end"
   ]
  },
  {
   "cell_type": "markdown",
   "id": "128820c4",
   "metadata": {},
   "source": [
    "## computing approx. Nash equilibria using evolutionary methods"
   ]
  },
  {
   "cell_type": "code",
   "execution_count": 7,
   "id": "dfb8adc9",
   "metadata": {},
   "outputs": [],
   "source": [
    "# n_nash = 5\n",
    "# nash_set = random_team(() -> rand_rename(random_fighter()), n_nash)\n",
    "\n",
    "# payoffs = Matrix{Float64}(undef, (n_nash, n_nash))\n",
    "# for i in 1:n_nash\n",
    "#     for j in 1:n_nash\n",
    "#         payoffs[i, j] = eval_battle(nash_set[i], nash_set[j])\n",
    "#     end\n",
    "# end"
   ]
  },
  {
   "cell_type": "code",
   "execution_count": 8,
   "id": "6c3dfb6f",
   "metadata": {},
   "outputs": [],
   "source": [
    "# n_its = 80000\n",
    "# eps = 0.01/n_nash\n",
    "# strategy = Vector{Float64}(undef, n_nash)\n",
    "# strategy = strategy .+ 1.0/n_nash\n",
    "\n",
    "\n",
    "# for i in 1:n_its\n",
    "#     fitness = payoffs * strategy\n",
    "#     strategy[fitness .< 0] .= strategy[fitness .< 0] .- eps\n",
    "#     strategy[fitness .> 0] .= strategy[fitness .> 0] .+ eps\n",
    "#     #strategy = strategy + (payoffs * strategy) .* eps\n",
    "#     strategy[strategy .< 0] .= 0    \n",
    "#     strategy = strategy ./ sum(strategy)\n",
    "# end"
   ]
  },
  {
   "cell_type": "code",
   "execution_count": 33,
   "id": "41539d07",
   "metadata": {},
   "outputs": [],
   "source": [
    "# strategy"
   ]
  },
  {
   "cell_type": "code",
   "execution_count": 34,
   "id": "d18ef216",
   "metadata": {},
   "outputs": [],
   "source": [
    "# fighters_to_df(nash_set)"
   ]
  },
  {
   "cell_type": "code",
   "execution_count": 35,
   "id": "1cb3d994",
   "metadata": {},
   "outputs": [],
   "source": [
    "# payoffs"
   ]
  },
  {
   "cell_type": "code",
   "execution_count": 36,
   "id": "8d507105",
   "metadata": {},
   "outputs": [],
   "source": [
    "# using fictitious play"
   ]
  },
  {
   "cell_type": "code",
   "execution_count": 61,
   "id": "dd546197",
   "metadata": {},
   "outputs": [],
   "source": [
    "size = 7000\n",
    "start_size = 10\n",
    "nt = 99\n",
    "nash_env = Array{Fighter}(undef, size)\n",
    "for i in 1:start_size\n",
    "    nash_env[i] = rand(library)\n",
    "end\n",
    "for j in (start_size+1):size\n",
    "    ff = pick_best_rdmly(library, nash_env[1:(j-1)], nt)\n",
    "    nash_env[j] = ff\n",
    "end"
   ]
  },
  {
   "cell_type": "code",
   "execution_count": 62,
   "id": "bcb574d1",
   "metadata": {},
   "outputs": [],
   "source": [
    "#fighters_to_df(env)"
   ]
  },
  {
   "cell_type": "code",
   "execution_count": 63,
   "id": "8f37c26c",
   "metadata": {},
   "outputs": [
    {
     "name": "stdout",
     "output_type": "stream",
     "text": [
      "Fighter(\"Olivine the Sleepy\", 75, 10, 121, 17)"
     ]
    },
    {
     "data": {
      "text/plain": [
       "0.054714285714285715"
      ]
     },
     "execution_count": 63,
     "metadata": {},
     "output_type": "execute_result"
    }
   ],
   "source": [
    "#nash_env = nash_env[1500:3000]\n",
    "counter = pick_best(library, nash_env)\n",
    "print(counter)\n",
    "eval_battle_list(counter, nash_env)/length(nash_env)"
   ]
  },
  {
   "cell_type": "markdown",
   "id": "71b4b1b9",
   "metadata": {},
   "source": [
    "## Custom methods to generate fighters"
   ]
  },
  {
   "cell_type": "code",
   "execution_count": 71,
   "id": "827480ac",
   "metadata": {},
   "outputs": [
    {
     "data": {
      "text/plain": [
       "0.39"
      ]
     },
     "execution_count": 71,
     "metadata": {},
     "output_type": "execute_result"
    }
   ],
   "source": [
    ".75 * .52"
   ]
  },
  {
   "cell_type": "code",
   "execution_count": 72,
   "id": "15b05c12",
   "metadata": {},
   "outputs": [
    {
     "data": {
      "text/plain": [
       "0.645"
      ]
     },
     "execution_count": 72,
     "metadata": {},
     "output_type": "execute_result"
    }
   ],
   "source": [
    ".86 * .75"
   ]
  },
  {
   "cell_type": "code",
   "execution_count": 82,
   "id": "5a70c0e2",
   "metadata": {},
   "outputs": [
    {
     "name": "stdout",
     "output_type": "stream",
     "text": [
      "  5.322462 seconds (79.99 M allocations: 8.870 GiB, 22.75% gc time, 1.53% compilation time)\n"
     ]
    },
    {
     "data": {
      "text/plain": [
       "(1.0, 0.8467312)"
      ]
     },
     "execution_count": 82,
     "metadata": {},
     "output_type": "execute_result"
    }
   ],
   "source": [
    "# new random generation to more closely approximate Nash\n",
    "function random_scheme_a0(budget::Int = MXS, h0::Int = MNV, f0::Int = MNV, l0::Int = MNV, t0::Int = MNV)::Fighter\n",
    "    budget_sofar = budget + 1\n",
    "    name = \"\"\n",
    "    h = 0\n",
    "    f = 0\n",
    "    l = 0\n",
    "    t = 0\n",
    "    while budget_sofar > budget || max(h, f, l, t) > MXV \n",
    "        hf_ratio = rand() * .7 + 0.06\n",
    "        l_ratio = rand()\n",
    "        h_temp = rand() + 0.07\n",
    "        f_temp = rand() + 0.07\n",
    "        name = string(\"Scheme-A0 (\", @sprintf(\"%6.3f\",hf_ratio), \",\", @sprintf(\"%6.3f\",l_ratio), \",\", @sprintf(\"%6.3f\",h_temp), \",\", @sprintf(\"%6.3f\",f_temp), \")\")\n",
    "        if hf_ratio > 0.05\n",
    "            while abs(h_temp - f_temp) < 0.3\n",
    "                h_temp = rand() + 0.07\n",
    "                f_temp = rand() + 0.07\n",
    "            end\n",
    "        end\n",
    "        budget_hf = hf_ratio * budget\n",
    "        h_ratio = h_temp/sqrt(h_temp * f_temp)\n",
    "        f_ratio = f_temp/sqrt(h_temp * f_temp)\n",
    "        h = max(h0, round(sqrt(budget_hf) * h_ratio))\n",
    "        f = max(f0, round(sqrt(budget_hf) * f_ratio))\n",
    "        budget_hf = h * f\n",
    "        budget_remain = (budget - budget_hf) - (l0 * h + t0 * f)\n",
    "        l_ratio2 = (h^2 + 5 * l_ratio)/(h^2+f^2 + 5)\n",
    "        #l_ratio2 = (l_ratio * h)/(l_ratio * h + (1-l_ratio) * f)\n",
    "        lraw = l0 + ( budget_remain * l_ratio2 )/h\n",
    "        traw = t0 + ( budget_remain * (1 - l_ratio2) )/f\n",
    "        l = trunc(lraw)\n",
    "        t = trunc(traw)\n",
    "        budget_sofar = h * f + h * l + f * t\n",
    "        if (budget - budget_sofar) >= min(h, f)\n",
    "            could_add_l = (budget - budget_sofar) >= h\n",
    "            could_add_t = (budget - budget_sofar) >= f\n",
    "            if could_add_l && !could_add_t\n",
    "                l = l+trunc((budget - budget_sofar)/h)\n",
    "            end\n",
    "            if !could_add_l && could_add_t\n",
    "                t = t+trunc((budget - budget_sofar)/f)\n",
    "            end\n",
    "            if could_add_l && could_add_t\n",
    "                if fpart(lraw) > fpart(traw)\n",
    "                    l = l+trunc((budget - budget_sofar)/h)\n",
    "                else\n",
    "                    t = t+trunc((budget - budget_sofar)/f)\n",
    "                end\n",
    "            end\n",
    "        end\n",
    "    end\n",
    "    h = convert(Int, h)\n",
    "    f = convert(Int, f)\n",
    "    l = convert(Int, l)\n",
    "    t = convert(Int, t)  \n",
    "    return Fighter(name, h, f, l, t)\n",
    "end\n",
    "\n",
    "#@time evaluate_generator2(random_scheme_a0, 100, 100, 50000)\n",
    "@time compare_generator(random_scheme_a0, () -> rand(nash_env), 5000000)"
   ]
  },
  {
   "cell_type": "code",
   "execution_count": null,
   "id": "2f64fa57",
   "metadata": {},
   "outputs": [],
   "source": []
  },
  {
   "cell_type": "code",
   "execution_count": 83,
   "id": "2ef2345d",
   "metadata": {},
   "outputs": [
    {
     "name": "stdout",
     "output_type": "stream",
     "text": [
      "  5.176275 seconds (79.90 M allocations: 8.863 GiB, 22.93% gc time, 0.50% compilation time)\n"
     ]
    },
    {
     "data": {
      "text/plain": [
       "(1.0, 0.8492594)"
      ]
     },
     "execution_count": 83,
     "metadata": {},
     "output_type": "execute_result"
    }
   ],
   "source": [
    "# new random generation to more closely approximate Nash\n",
    "function random_scheme_a(budget::Int = MXS, h0::Int = MNV, f0::Int = MNV, l0::Int = MNV, t0::Int = MNV)::Fighter\n",
    "    budget_sofar = budget + 1\n",
    "    name = \"\"\n",
    "    while budget_sofar > budget\n",
    "        hf_ratio = rand()^(0.65) * .11 + 0.11\n",
    "        l_ratio = rand()\n",
    "        h_temp = rand() + 0.07\n",
    "        f_temp = rand() + 0.07\n",
    "        while abs(h_temp - f_temp) < 0.3\n",
    "            h_temp = rand() + 0.07\n",
    "            f_temp = rand() + 0.07\n",
    "        end\n",
    "        name = string(\"Scheme-A (\", @sprintf(\"%6.3f\",hf_ratio), \",\", @sprintf(\"%6.3f\",l_ratio), \",\", @sprintf(\"%6.3f\",h_temp), \",\", @sprintf(\"%6.3f\",f_temp), \")\")\n",
    "        budget_hf = hf_ratio * budget\n",
    "        h_ratio = h_temp/sqrt(h_temp * f_temp)\n",
    "        f_ratio = f_temp/sqrt(h_temp * f_temp)\n",
    "        h = max(h0, round(sqrt(budget_hf) * h_ratio))\n",
    "        f = max(f0, round(sqrt(budget_hf) * f_ratio))\n",
    "        budget_hf = h * f\n",
    "        budget_remain = (budget - budget_hf) - (l0 * h + t0 * f)\n",
    "        l_ratio2 = (h^2 + 2 * l_ratio)/(h^2+f^2 + 2)\n",
    "        #l_ratio2 = (l_ratio * h)/(l_ratio * h + (1-l_ratio) * f)\n",
    "        lraw = l0 + ( budget_remain * l_ratio2 )/h\n",
    "        traw = t0 + ( budget_remain * (1 - l_ratio2) )/f\n",
    "        l = trunc(lraw)\n",
    "        t = trunc(traw)\n",
    "        budget_sofar = h * f + h * l + f * t\n",
    "        if (budget - budget_sofar) >= min(h, f)\n",
    "            could_add_l = (budget - budget_sofar) >= h\n",
    "            could_add_t = (budget - budget_sofar) >= f\n",
    "            if could_add_l && !could_add_t\n",
    "                l = l+trunc((budget - budget_sofar)/h)\n",
    "            end\n",
    "            if !could_add_l && could_add_t\n",
    "                t = t+trunc((budget - budget_sofar)/f)\n",
    "            end\n",
    "            if could_add_l && could_add_t\n",
    "                if fpart(lraw) > fpart(traw)\n",
    "                    l = l+trunc((budget - budget_sofar)/h)\n",
    "                else\n",
    "                    t = t+trunc((budget - budget_sofar)/f)\n",
    "                end\n",
    "            end\n",
    "        end\n",
    "    end\n",
    "    h = convert(Int, h)\n",
    "    f = convert(Int, f)\n",
    "    l = convert(Int, l)\n",
    "    t = convert(Int, t)  \n",
    "    return Fighter(name, h, f, l, t)\n",
    "end\n",
    "\n",
    "#@time compare_generator(random_scheme_a, random_scheme_a0, 1000000)\n",
    "@time compare_generator(random_scheme_a0, () -> rand(nash_env), 5000000)"
   ]
  },
  {
   "cell_type": "code",
   "execution_count": 28,
   "id": "4a4bc62e",
   "metadata": {},
   "outputs": [
    {
     "name": "stdout",
     "output_type": "stream",
     "text": [
      " 42.272431 seconds (994.59 M allocations: 62.340 GiB, 13.27% gc time)\n"
     ]
    },
    {
     "data": {
      "text/plain": [
       "(0.9508, 1.0)"
      ]
     },
     "execution_count": 28,
     "metadata": {},
     "output_type": "execute_result"
    }
   ],
   "source": [
    "@time compare_generator(random_scheme_a, random_fighter, 100000)"
   ]
  },
  {
   "cell_type": "code",
   "execution_count": 29,
   "id": "5344d705",
   "metadata": {},
   "outputs": [
    {
     "name": "stdout",
     "output_type": "stream",
     "text": [
      "  0.049214 seconds (112.30 k allocations: 16.885 MiB, 11.61% gc time, 56.31% compilation time)\n"
     ]
    },
    {
     "data": {
      "text/plain": [
       "(1.0, 0.8977)"
      ]
     },
     "execution_count": 29,
     "metadata": {},
     "output_type": "execute_result"
    }
   ],
   "source": []
  },
  {
   "cell_type": "code",
   "execution_count": 30,
   "id": "4467aa5f",
   "metadata": {},
   "outputs": [
    {
     "name": "stdout",
     "output_type": "stream",
     "text": [
      "  0.036271 seconds (103.36 k allocations: 16.400 MiB, 73.82% compilation time)\n"
     ]
    },
    {
     "data": {
      "text/plain": [
       "(1.0, 0.7631)"
      ]
     },
     "execution_count": 30,
     "metadata": {},
     "output_type": "execute_result"
    }
   ],
   "source": [
    "@time compare_generator(random_scheme_a, () -> rand(env), 10000)"
   ]
  },
  {
   "cell_type": "code",
   "execution_count": 31,
   "id": "9c1c8b22",
   "metadata": {},
   "outputs": [
    {
     "name": "stdout",
     "output_type": "stream",
     "text": [
      "  0.111159 seconds (1.11 M allocations: 161.147 MiB, 28.04% gc time)\n"
     ]
    },
    {
     "data": {
      "text/plain": [
       "(1.0, 0.69776)"
      ]
     },
     "execution_count": 31,
     "metadata": {},
     "output_type": "execute_result"
    }
   ],
   "source": [
    "# new random generation to more closely approximate Nash\n",
    "function random_scheme_b(budget::Int = MXS, h0::Int = MNV, f0::Int = MNV, l0::Int = MNV, t0::Int = MNV)::Fighter\n",
    "    opt = rand([1,1,1, 2,2, 3,3,3, 4,4, 5,5,5, 6,6, 7,7, 8,8, 9,9,9])\n",
    "    flip = (rand() < 0.5)\n",
    "    r1 = rand()\n",
    "    r2 = rand()^(0.4)\n",
    "    r3 = rand()\n",
    "    name = \"\"\n",
    "    if flip\n",
    "        name = string(\"Scheme B-\", opt, \"(\", @sprintf(\"%6.3f\",r1), @sprintf(\"%6.3f\",r2), @sprintf(\"%6.3f\",r3), \")\")\n",
    "    else\n",
    "        name = string(\"Scheme B+\", opt, \"(\", @sprintf(\"%6.3f\",r1), @sprintf(\"%6.3f\",r2), @sprintf(\"%6.3f\",r3), \")\")\n",
    "    end\n",
    "    #           1     2     3.    4.    5.    6.    7.    8.    9. \n",
    "    h_mins =  [04.0, 05.4, 06.6, 07.5, 08.6, 09.2, 09.6, 10.3, 10.6]\n",
    "    h_maxs =  [05.4, 06.6, 07.5, 08.6, 09.2, 09.6, 10.3, 10.6, 11.0]\n",
    "    hl_mins = [40.0, 15.0, 12.0, 10.0, 10.0, 11.0, 15.0, 30.0, 30.0]\n",
    "    hl_maxs = [65.0, 72.0, 64.0, 45.0, 48.0, 40.0, 30.0, 60.0, 60.0]\n",
    "    h_raw = h_mins[opt] + (h_maxs[opt] - h_mins[opt]) * r1\n",
    "    hl_raw = hl_mins[opt] + (hl_maxs[opt] - hl_mins[opt]) * r2\n",
    "    l_raw = hl_raw/h_raw\n",
    "    b_r = 100 - hl_raw # budget remaining raw\n",
    "    f_min = b_r/15 # find given 15 tickle\n",
    "    f_min = max(1, (b_r - h_raw * f_min)/15)\n",
    "    f_min = max(1, (b_r - h_raw * f_min)/15)\n",
    "    f_max = min((b_r - 15)/h_raw, h_raw)\n",
    "    f_max = min((b_r - f_max)/h_raw, h_raw)\n",
    "    f_max = min((b_r - f_max)/h_raw, h_raw)\n",
    "    f_raw = f_min + (f_max - f_min) * r2\n",
    "    mult = sqrt(budget/100)\n",
    "    h = round(mult * h_raw)\n",
    "    f = round(mult * f_raw)\n",
    "    l = round(mult * l_raw)\n",
    "    t = trunc((budget - h*f - h*l)/f)\n",
    "    budget_sofar = h*f + h*l + f*t\n",
    "    #println((h_raw, f_raw, l_raw, hl_raw, b_r, f_min, f_max))\n",
    "    #println((h_raw, f_raw, l_raw, h, f, l, t, opt, hl_raw, budget_sofar, r1, r2, r3))\n",
    "    if (budget - budget_sofar) >= min(h, f)\n",
    "        could_add_l = (budget - budget_sofar) >= h\n",
    "        could_add_t = (budget - budget_sofar) >= f\n",
    "        if could_add_l && !could_add_t\n",
    "            l = l+trunc((budget - budget_sofar)/h)\n",
    "        end\n",
    "        if !could_add_l && could_add_t\n",
    "            t = t+trunc((budget - budget_sofar)/f)\n",
    "        end\n",
    "        if could_add_l && could_add_t\n",
    "            if fpart(lraw) > fpart(traw)\n",
    "                l = l+trunc((budget - budget_sofar)/h)\n",
    "            else\n",
    "                t = t+trunc((budget - budget_sofar)/f)\n",
    "            end\n",
    "        end\n",
    "    end\n",
    "    h = convert(Int, h)\n",
    "    f = convert(Int, f)\n",
    "    l = convert(Int, l)\n",
    "    t = convert(Int, t)\n",
    "    if flip\n",
    "        ff = Fighter(name, f, h, t, l)\n",
    "    else\n",
    "        ff = Fighter(name, h, f, l, t)\n",
    "    end\n",
    "    return ff\n",
    "end\n",
    "\n",
    "@time compare_generator(random_scheme_b, random_scheme_a, 50000)"
   ]
  },
  {
   "cell_type": "code",
   "execution_count": 32,
   "id": "b621ec2e",
   "metadata": {},
   "outputs": [
    {
     "data": {
      "text/plain": [
       "Fighter(\"Scheme B-1( 0.380 0.551 0.706)\", 36, 45, 84, 119)"
      ]
     },
     "execution_count": 32,
     "metadata": {},
     "output_type": "execute_result"
    }
   ],
   "source": [
    "random_scheme_b()"
   ]
  },
  {
   "cell_type": "markdown",
   "id": "49ae82ed",
   "metadata": {},
   "source": [
    "## Team battles"
   ]
  },
  {
   "cell_type": "code",
   "execution_count": 50,
   "id": "bec40c43",
   "metadata": {},
   "outputs": [
    {
     "data": {
      "text/plain": [
       "0"
      ]
     },
     "execution_count": 50,
     "metadata": {},
     "output_type": "execute_result"
    }
   ],
   "source": [
    "nt = 1000\n",
    "team_a0 = random_team(() -> random_scheme_a0(), nt)\n",
    "team_b = random_team(() -> random_scheme_b(), nt)\n",
    "team_a1 = random_team(() -> random_scheme_a(), nt)\n",
    "team_r0 = random_team(() -> rand_rename(random_tournament_winner(0)), nt)\n",
    "team_nash = random_team(() -> rand(nash_env), nt)\n",
    "0"
   ]
  },
  {
   "cell_type": "code",
   "execution_count": 51,
   "id": "fa1e5468",
   "metadata": {},
   "outputs": [
    {
     "data": {
      "text/plain": [
       "1"
      ]
     },
     "execution_count": 51,
     "metadata": {},
     "output_type": "execute_result"
    }
   ],
   "source": [
    "eval_team_battle(team_a1, team_a0)"
   ]
  },
  {
   "cell_type": "code",
   "execution_count": 52,
   "id": "984218a2",
   "metadata": {},
   "outputs": [
    {
     "data": {
      "text/plain": [
       "1"
      ]
     },
     "execution_count": 52,
     "metadata": {},
     "output_type": "execute_result"
    }
   ],
   "source": [
    "eval_team_battle(team_a1, team_r0)"
   ]
  },
  {
   "cell_type": "code",
   "execution_count": 53,
   "id": "aa047859",
   "metadata": {},
   "outputs": [
    {
     "data": {
      "text/plain": [
       "1"
      ]
     },
     "execution_count": 53,
     "metadata": {},
     "output_type": "execute_result"
    }
   ],
   "source": [
    "eval_team_battle(team_a0, team_r0)"
   ]
  },
  {
   "cell_type": "code",
   "execution_count": 57,
   "id": "41a128e1",
   "metadata": {},
   "outputs": [
    {
     "data": {
      "text/plain": [
       "1"
      ]
     },
     "execution_count": 57,
     "metadata": {},
     "output_type": "execute_result"
    }
   ],
   "source": [
    "eval_team_battle(team_nash, team_r0)"
   ]
  },
  {
   "cell_type": "code",
   "execution_count": 58,
   "id": "8e129874",
   "metadata": {},
   "outputs": [
    {
     "data": {
      "text/plain": [
       "1"
      ]
     },
     "execution_count": 58,
     "metadata": {},
     "output_type": "execute_result"
    }
   ],
   "source": [
    "eval_team_battle(team_nash, team_b)"
   ]
  },
  {
   "cell_type": "code",
   "execution_count": 55,
   "id": "55c01f57",
   "metadata": {
    "scrolled": false
   },
   "outputs": [
    {
     "name": "stdout",
     "output_type": "stream",
     "text": [
      "         Fighter(\"Scheme-A0 ( 0.507, 0.843, 0.764, 0.982)\", 45, 79, 39, 59)\n",
      "         Fighter(\"Atalia the Pangolin\", 17, 81, 11, 104)\n",
      "\n",
      "Scheme-A0 ( 0.507, 0.843, 0.764, 0.982) lost against Atalia the Pangolin\n",
      "         Fighter(\"Scheme-A0 ( 0.343, 0.437, 0.420, 0.531)\", 68, 38, 81, 50)\n",
      "\n",
      "Scheme-A0 ( 0.343, 0.437, 0.420, 0.531) lost against Atalia the Pangolin\n",
      "         Fighter(\"Scheme-A0 ( 0.364, 0.614, 0.091, 0.670)\", 19, 141, 21, 49)\n",
      "\n",
      "Scheme-A0 ( 0.364, 0.614, 0.091, 0.670) lost against Atalia the Pangolin\n",
      "         Fighter(\"Scheme-A0 ( 0.145, 0.312, 0.736, 0.854)\", 25, 55, 63, 128)\n",
      "Scheme-A0 ( 0.145, 0.312, 0.736, 0.854) won against Atalia the Pangolin\n",
      "         Fighter(\"Xtreme Cricket\", 15, 69, 96, 109)\n",
      "Scheme-A0 ( 0.145, 0.312, 0.736, 0.854) won against Xtreme Cricket\n",
      "         Fighter(\"Pug Abrian\", 51, 89, 25, 47)\n",
      "Scheme-A0 ( 0.145, 0.312, 0.736, 0.854) won against Pug Abrian\n",
      "         Fighter(\"Olivine the Sleepy\", 75, 10, 121, 17)\n",
      "\n",
      "Scheme-A0 ( 0.145, 0.312, 0.736, 0.854) lost against Olivine the Sleepy\n",
      "         Fighter(\"Scheme-A0 ( 0.694, 0.388, 0.720, 0.095)\", 188, 25, 26, 16)\n",
      "\n",
      "Scheme-A0 ( 0.694, 0.388, 0.720, 0.095) lost against Olivine the Sleepy\n",
      "         Fighter(\"Scheme-A0 ( 0.741, 0.719, 0.859, 0.766)\", 32, 156, 15, 29)\n",
      "Scheme-A0 ( 0.741, 0.719, 0.859, 0.766) won against Olivine the Sleepy\n",
      "         Fighter(\"Car Arqam\", 73, 33, 70, 75)\n",
      "\n",
      "Scheme-A0 ( 0.741, 0.719, 0.859, 0.766) lost against Car Arqam\n",
      "         Fighter(\"Scheme-A0 ( 0.064, 0.678, 0.312, 0.494)\", 67, 13, 129, 37)\n",
      "Scheme-A0 ( 0.064, 0.678, 0.312, 0.494) won against Car Arqam\n",
      "         Fighter(\"Khalyla the Uber\", 17, 43, 140, 160)\n",
      "\n",
      "Scheme-A0 ( 0.064, 0.678, 0.312, 0.494) lost against Khalyla the Uber\n",
      "         Fighter(\"Scheme-A0 ( 0.233, 0.745, 0.080, 0.646)\", 15, 124, 21, 63)\n",
      "\n",
      "Scheme-A0 ( 0.233, 0.745, 0.080, 0.646) lost against Khalyla the Uber\n",
      "         Fighter(\"Scheme-A0 ( 0.112, 0.467, 0.402, 0.433)\", 15, 82, 27, 102)\n",
      "\n",
      "Scheme-A0 ( 0.112, 0.467, 0.402, 0.433) lost against Khalyla the Uber\n",
      "         Fighter(\"Scheme-A0 ( 0.528, 0.475, 0.778, 0.544)\", 90, 41, 56, 30)\n",
      "Scheme-A0 ( 0.528, 0.475, 0.778, 0.544) won against Khalyla the Uber\n",
      "         Fighter(\"Aixa the Phoenix\", 107, 13, 79, 12)\n",
      "\n",
      "Scheme-A0 ( 0.528, 0.475, 0.778, 0.544) lost against Aixa the Phoenix\n",
      "         Fighter(\"Scheme-A0 ( 0.283, 0.342, 0.113, 0.289)\", 69, 32, 91, 47)\n",
      "Scheme-A0 ( 0.283, 0.342, 0.113, 0.289) won against Aixa the Phoenix\n",
      "         Fighter(\"Avocado Raahi\", 63, 15, 140, 15)\n",
      "\n",
      "Scheme-A0 ( 0.283, 0.342, 0.113, 0.289) lost against Avocado Raahi\n",
      "         Fighter(\"Scheme-A0 ( 0.378, 0.926, 0.597, 1.065)\", 40, 71, 47, 74)\n",
      "Scheme-A0 ( 0.378, 0.926, 0.597, 1.065) won against Avocado Raahi\n",
      "         Fighter(\"Siyanna the Puppy\", 49, 65, 72, 50)\n",
      "Scheme-A0 ( 0.378, 0.926, 0.597, 1.065) won against Siyanna the Puppy\n",
      "         Fighter(\"Icy Pig\", 14, 154, 32, 48)\n",
      "Scheme-A0 ( 0.378, 0.926, 0.597, 1.065) won against Icy Pig\n",
      "         Fighter(\"Itinerant Anabell\", 73, 80, 33, 21)\n",
      "\n",
      "Scheme-A0 ( 0.378, 0.926, 0.597, 1.065) lost against Itinerant Anabell\n",
      "         Fighter(\"Scheme-A0 ( 0.645, 0.079, 0.818, 0.315)\", 107, 41, 43, 24)\n",
      "Scheme-A0 ( 0.645, 0.079, 0.818, 0.315) won against Itinerant Anabell\n",
      "         Fighter(\"Flag Prosperity\", 14, 64, 110, 118)\n",
      "Scheme-A0 ( 0.645, 0.079, 0.818, 0.315) won against Flag Prosperity\n",
      "         Fighter(\"Arianys the Tangled\", 104, 51, 21, 49)\n",
      "Scheme-A0 ( 0.645, 0.079, 0.818, 0.315) won against Arianys the Tangled\n",
      "         Fighter(\"Accurate Hyena\", 29, 124, 11, 49)\n",
      "\n",
      "Scheme-A0 ( 0.645, 0.079, 0.818, 0.315) lost against Accurate Hyena\n",
      "         Fighter(\"Scheme-A0 ( 0.206, 0.888, 0.582, 0.178)\", 76, 23, 97, 38)\n",
      "\n",
      "Scheme-A0 ( 0.206, 0.888, 0.582, 0.178) lost against Accurate Hyena\n",
      "         Fighter(\"Scheme-A0 ( 0.681, 0.180, 0.398, 0.341)\", 99, 47, 42, 25)\n",
      "\n",
      "Scheme-A0 ( 0.681, 0.180, 0.398, 0.341) lost against Accurate Hyena\n",
      "         Fighter(\"Scheme-A0 ( 0.035, 0.592, 0.179, 0.427)\", 18, 42, 86, 183)\n",
      "Scheme-A0 ( 0.035, 0.592, 0.179, 0.427) won against Accurate Hyena\n",
      "         Fighter(\"Yadira the Doctor\", 93, 14, 92, 10)\n",
      "\n",
      "Scheme-A0 ( 0.035, 0.592, 0.179, 0.427) lost against Yadira the Doctor\n",
      "         Fighter(\"Scheme-A0 ( 0.534, 0.028, 0.598, 0.541)\", 81, 46, 57, 36)\n",
      "\n",
      "Scheme-A0 ( 0.534, 0.028, 0.598, 0.541) lost against Yadira the Doctor\n",
      "         Fighter(\"Scheme-A0 ( 0.270, 0.406, 0.573, 0.213)\", 76, 28, 89, 39)\n",
      "\n",
      "Scheme-A0 ( 0.270, 0.406, 0.573, 0.213) lost against Yadira the Doctor\n",
      "         Fighter(\"Scheme-A0 ( 0.477, 0.383, 1.055, 0.630)\", 75, 45, 63, 42)\n",
      "\n",
      "Scheme-A0 ( 0.477, 0.383, 1.055, 0.630) lost against Yadira the Doctor\n",
      "         Fighter(\"Scheme-A0 ( 0.335, 0.606, 0.660, 0.997)\", 41, 62, 57, 82)\n",
      "\n",
      "Scheme-A0 ( 0.335, 0.606, 0.660, 0.997) lost against Yadira the Doctor\n",
      "         Fighter(\"Scheme-A0 ( 0.236, 0.385, 0.075, 0.750)\", 14, 139, 19, 56)\n",
      "Scheme-A0 ( 0.236, 0.385, 0.075, 0.750) won against Yadira the Doctor\n",
      "         Fighter(\"Fiery Anta\", 15, 84, 11, 102)\n",
      "\n",
      "Scheme-A0 ( 0.236, 0.385, 0.075, 0.750) lost against Fiery Anta\n",
      "         Fighter(\"Scheme-A0 ( 0.157, 0.387, 0.539, 0.979)\", 28, 52, 73, 125)\n",
      "Scheme-A0 ( 0.157, 0.387, 0.539, 0.979) won against Fiery Anta\n",
      "         Fighter(\"Potassium Egg\", 156, 38, 23, 12)\n",
      "\n",
      "Scheme-A0 ( 0.157, 0.387, 0.539, 0.979) lost against Potassium Egg\n",
      "         Fighter(\"Scheme-A0 ( 0.359, 0.461, 1.009, 1.038)\", 86, 31, 73, 34)\n",
      "Scheme-A0 ( 0.359, 0.461, 1.009, 1.038) won against Potassium Egg\n",
      "         Fighter(\"Hazel the Powerful\", 48, 16, 144, 145)\n",
      "\n",
      "Scheme-A0 ( 0.359, 0.461, 1.009, 1.038) lost against Hazel the Powerful\n",
      "         Fighter(\"Scheme-A0 ( 0.052, 0.560, 0.509, 0.317)\", 35, 24, 176, 125)\n",
      "Scheme-A0 ( 0.052, 0.560, 0.509, 0.317) won against Hazel the Powerful\n",
      "         Fighter(\"Addlyn the Umpire\", 33, 109, 25, 51)\n",
      "\n",
      "Scheme-A0 ( 0.052, 0.560, 0.509, 0.317) lost against Addlyn the Umpire\n",
      "         Fighter(\"Scheme-A0 ( 0.407, 0.840, 0.836, 0.589)\", 32, 93, 30, 65)\n",
      "Scheme-A0 ( 0.407, 0.840, 0.836, 0.589) won against Addlyn the Umpire\n",
      "         Fighter(\"Snake Jeremih\", 100, 80, 10, 12)\n",
      "\n",
      "Scheme-A0 ( 0.407, 0.840, 0.836, 0.589) lost against Snake Jeremih\n",
      "         Fighter(\"Scheme-A0 ( 0.446, 0.704, 0.319, 0.971)\", 32, 99, 27, 60)\n",
      "\n",
      "Scheme-A0 ( 0.446, 0.704, 0.319, 0.971) lost against Snake Jeremih\n",
      "         Fighter(\"Scheme-A0 ( 0.300, 0.433, 0.094, 1.058)\", 14, 162, 20, 46)\n",
      "Scheme-A0 ( 0.300, 0.433, 0.094, 1.058) won against Snake Jeremih\n",
      "         Fighter(\"Blueberry Kahlani\", 110, 30, 58, 10)\n",
      "Scheme-A0 ( 0.300, 0.433, 0.094, 1.058) won against Blueberry Kahlani\n",
      "         Fighter(\"Kaleesi the Paper\", 78, 36, 60, 69)\n",
      "\n",
      "Scheme-A0 ( 0.300, 0.433, 0.094, 1.058) lost against Kaleesi the Paper\n",
      "         Fighter(\"Scheme-A0 ( 0.764, 0.694, 0.375, 0.785)\", 49, 103, 23, 37)\n",
      "Scheme-A0 ( 0.764, 0.694, 0.375, 0.785) won against Kaleesi the Paper\n",
      "         Fighter(\"Enok the Tangled\", 69, 19, 99, 97)\n",
      "Scheme-A0 ( 0.764, 0.694, 0.375, 0.785) won against Enok the Tangled\n",
      "         Fighter(\"Minkah the Dizzy\", 54, 11, 159, 74)\n",
      "Scheme-A0 ( 0.764, 0.694, 0.375, 0.785) won against Minkah the Dizzy\n",
      "         Fighter(\"Trinitee the Orange\", 91, 14, 93, 18)\n",
      "Scheme-A0 ( 0.764, 0.694, 0.375, 0.785) won against Trinitee the Orange\n",
      "         Fighter(\"Jaleeah the Minimal\", 127, 33, 42, 14)\n",
      "\n",
      "Scheme-A0 ( 0.764, 0.694, 0.375, 0.785) lost against Jaleeah the Minimal\n",
      "         Fighter(\"Scheme-A0 ( 0.427, 0.585, 0.610, 0.537)\", 44, 70, 47, 69)\n",
      "Scheme-A0 ( 0.427, 0.585, 0.610, 0.537) won against Jaleeah the Minimal\n",
      "         Fighter(\"Atmospheric Yashika\", 41, 154, 11, 21)\n",
      "Scheme-A0 ( 0.427, 0.585, 0.610, 0.537) won against Atmospheric Yashika\n",
      "         Fighter(\"Frozen Yak\", 14, 58, 126, 128)\n",
      "\n",
      "Scheme-A0 ( 0.427, 0.585, 0.610, 0.537) lost against Frozen Yak\n",
      "         Fighter(\"Scheme-A0 ( 0.140, 0.275, 0.517, 0.738)\", 62, 22, 121, 51)\n",
      "Scheme-A0 ( 0.140, 0.275, 0.517, 0.738) won against Frozen Yak\n",
      "         Fighter(\"Knotty Portland\", 98, 78, 16, 10)\n",
      "\n",
      "Scheme-A0 ( 0.140, 0.275, 0.517, 0.738) lost against Knotty Portland\n",
      "         Fighter(\"Scheme-A0 ( 0.115, 0.108, 0.439, 0.519)\", 16, 77, 33, 107)\n",
      "\n",
      "Scheme-A0 ( 0.115, 0.108, 0.439, 0.519) lost against Knotty Portland\n",
      "         Fighter(\"Scheme-A0 ( 0.544, 0.164, 0.816, 0.653)\", 89, 42, 55, 32)\n",
      "Scheme-A0 ( 0.544, 0.164, 0.816, 0.653) won against Knotty Portland\n",
      "         Fighter(\"Terrible Cloud\", 147, 27, 38, 16)\n",
      "Scheme-A0 ( 0.544, 0.164, 0.816, 0.653) won against Terrible Cloud\n",
      "         Fighter(\"Egotistical Monti\", 15, 97, 32, 83)\n",
      "\n",
      "Scheme-A0 ( 0.544, 0.164, 0.816, 0.653) lost against Egotistical Monti\n",
      "         Fighter(\"Scheme-A0 ( 0.329, 0.948, 0.995, 0.839)\", 18, 140, 18, 51)\n",
      "\n",
      "Scheme-A0 ( 0.329, 0.948, 0.995, 0.839) lost against Egotistical Monti\n",
      "         Fighter(\"Scheme-A0 ( 0.359, 0.641, 0.800, 0.852)\", 32, 84, 34, 74)\n",
      "\n",
      "Scheme-A0 ( 0.359, 0.641, 0.800, 0.852) lost against Egotistical Monti\n",
      "         Fighter(\"Scheme-A0 ( 0.417, 0.682, 0.567, 0.366)\", 17, 177, 15, 38)\n",
      "\n",
      "Scheme-A0 ( 0.417, 0.682, 0.567, 0.366) lost against Egotistical Monti\n",
      "         Fighter(\"Scheme-A0 ( 0.353, 0.876, 0.281, 0.581)\", 39, 69, 49, 78)\n",
      "\n",
      "Scheme-A0 ( 0.353, 0.876, 0.281, 0.581) lost against Egotistical Monti\n",
      "         Fighter(\"Scheme-A0 ( 0.677, 0.987, 1.033, 0.779)\", 94, 49, 43, 27)\n",
      "\n",
      "Scheme-A0 ( 0.677, 0.987, 1.033, 0.779) lost against Egotistical Monti\n",
      "         Fighter(\"Scheme-A0 ( 0.097, 0.037, 0.865, 0.188)\", 71, 16, 117, 34)\n",
      "\n",
      "Scheme-A0 ( 0.097, 0.037, 0.865, 0.188) lost against Egotistical Monti\n",
      "         Fighter(\"Scheme-A0 ( 0.669, 0.546, 1.058, 0.625)\", 88, 52, 43, 31)\n",
      "\n",
      "Scheme-A0 ( 0.669, 0.546, 1.058, 0.625) lost against Egotistical Monti\n",
      "         Fighter(\"Scheme-A0 ( 0.247, 0.296, 0.427, 0.325)\", 92, 22, 80, 28)\n",
      "\n",
      "Scheme-A0 ( 0.247, 0.296, 0.427, 0.325) lost against Egotistical Monti\n",
      "         Fighter(\"Scheme-A0 ( 0.118, 0.946, 0.835, 0.827)\", 80, 15, 104, 32)\n",
      "\n",
      "Scheme-A0 ( 0.118, 0.946, 0.835, 0.827) lost against Egotistical Monti\n",
      "         Fighter(\"Scheme-A0 ( 0.292, 0.133, 1.011, 0.089)\", 161, 14, 46, 24)\n",
      "Scheme-A0 ( 0.292, 0.133, 1.011, 0.089) won against Egotistical Monti\n",
      "         Fighter(\"Carsen the Koala\", 79, 12, 105, 63)\n",
      "\n",
      "Scheme-A0 ( 0.292, 0.133, 1.011, 0.089) lost against Carsen the Koala\n",
      "         Fighter(\"Scheme-A0 ( 0.571, 0.734, 0.209, 0.298)\", 35, 113, 24, 46)\n",
      "Scheme-A0 ( 0.571, 0.734, 0.209, 0.298) won against Carsen the Koala\n",
      "         Fighter(\"Ancient Yoyo\", 126, 12, 64, 35)\n",
      "\n",
      "Scheme-A0 ( 0.571, 0.734, 0.209, 0.298) lost against Ancient Yoyo\n",
      "         Fighter(\"Scheme-A0 ( 0.234, 0.633, 1.035, 0.419)\", 69, 28, 98, 46)\n",
      "Scheme-A0 ( 0.234, 0.633, 1.035, 0.419) won against Ancient Yoyo\n",
      "         Fighter(\"Yasma the Disciplined\", 64, 70, 10, 69)\n",
      "\n",
      "Scheme-A0 ( 0.234, 0.633, 1.035, 0.419) lost against Yasma the Disciplined\n",
      "         Fighter(\"Scheme-A0 ( 0.068, 0.768, 0.088, 0.443)\", 14, 69, 34, 124)\n",
      "Scheme-A0 ( 0.068, 0.768, 0.088, 0.443) won against Yasma the Disciplined\n",
      "         Fighter(\"Sphere Samatar\", 155, 23, 38, 23)\n",
      "\n",
      "Scheme-A0 ( 0.068, 0.768, 0.088, 0.443) lost against Sphere Samatar\n",
      "         Fighter(\"Scheme-A0 ( 0.435, 0.150, 0.924, 0.720)\", 47, 67, 50, 67)\n",
      "Scheme-A0 ( 0.435, 0.150, 0.924, 0.720) won against Sphere Samatar\n",
      "         Fighter(\"Tiabeanie the Creative\", 52, 58, 58, 68)\n",
      "\n",
      "Scheme-A0 ( 0.435, 0.150, 0.924, 0.720) lost against Tiabeanie the Creative\n",
      "         Fighter(\"Scheme-A0 ( 0.357, 0.004, 0.072, 0.145)\", 26, 102, 27, 65)\n",
      "\n",
      "Scheme-A0 ( 0.357, 0.004, 0.072, 0.145) lost against Tiabeanie the Creative\n",
      "         Fighter(\"Scheme-A0 ( 0.279, 0.958, 0.219, 0.945)\", 23, 97, 25, 74)\n",
      "Scheme-A0 ( 0.279, 0.958, 0.219, 0.945) won against Tiabeanie the Creative\n",
      "         Fighter(\"Tricky Violin\", 55, 116, 10, 26)\n",
      "Scheme-A0 ( 0.279, 0.958, 0.219, 0.945) won against Tricky Violin\n",
      "         Fighter(\"Good Itzae\", 56, 10, 159, 53)\n",
      "Scheme-A0 ( 0.279, 0.958, 0.219, 0.945) won against Good Itzae\n",
      "         Fighter(\"Sombrero Ilianna\", 37, 57, 96, 76)\n",
      "\n",
      "Scheme-A0 ( 0.279, 0.958, 0.219, 0.945) lost against Sombrero Ilianna\n",
      "         Fighter(\"Scheme-A0 ( 0.280, 0.031, 0.977, 0.172)\", 112, 20, 65, 24)\n",
      "\n",
      "Scheme-A0 ( 0.280, 0.031, 0.977, 0.172) lost against Sombrero Ilianna\n",
      "         Fighter(\"Scheme-A0 ( 0.575, 0.540, 0.232, 0.481)\", 80, 50, 52, 36)\n",
      "Scheme-A0 ( 0.575, 0.540, 0.232, 0.481) won against Sombrero Ilianna\n",
      "         Fighter(\"Kaci the Scorpion\", 66, 110, 16, 15)\n",
      "\n",
      "Scheme-A0 ( 0.575, 0.540, 0.232, 0.481) lost against Kaci the Scorpion\n",
      "         Fighter(\"Scheme-A0 ( 0.203, 0.950, 0.466, 0.881)\", 30, 57, 65, 111)\n",
      "\n",
      "Scheme-A0 ( 0.203, 0.950, 0.466, 0.881) lost against Kaci the Scorpion\n",
      "         Fighter(\"Scheme-A0 ( 0.252, 0.456, 0.678, 0.702)\", 71, 29, 93, 46)\n",
      "\n",
      "Scheme-A0 ( 0.252, 0.456, 0.678, 0.702) lost against Kaci the Scorpion\n",
      "         Fighter(\"Scheme-A0 ( 0.513, 0.323, 0.271, 0.264)\", 42, 86, 33, 58)\n",
      "Scheme-A0 ( 0.513, 0.323, 0.271, 0.264) won against Kaci the Scorpion\n",
      "         Fighter(\"Nicoli the Atmospheric\", 110, 63, 19, 15)\n",
      "\n",
      "Scheme-A0 ( 0.513, 0.323, 0.271, 0.264) lost against Nicoli the Atmospheric\n",
      "         Fighter(\"Scheme-A0 ( 0.255, 0.983, 0.296, 1.066)\", 24, 86, 33, 83)\n",
      "\n",
      "Scheme-A0 ( 0.255, 0.983, 0.296, 1.066) lost against Nicoli the Atmospheric\n",
      "         Fighter(\"Scheme-A0 ( 0.550, 0.516, 0.743, 0.982)\", 31, 124, 18, 45)\n",
      "Scheme-A0 ( 0.550, 0.516, 0.743, 0.982) won against Nicoli the Atmospheric\n",
      "         Fighter(\"Curious Tiger\", 33, 73, 70, 72)\n",
      "\n",
      "Scheme-A0 ( 0.550, 0.516, 0.743, 0.982) lost against Curious Tiger\n",
      "         Fighter(\"Scheme-A0 ( 0.173, 0.518, 0.711, 0.756)\", 18, 87, 28, 91)\n",
      "Scheme-A0 ( 0.173, 0.518, 0.711, 0.756) won against Curious Tiger\n",
      "         Fighter(\"Tricky Kitten\", 126, 12, 61, 66)\n",
      "\n",
      "Scheme-A0 ( 0.173, 0.518, 0.711, 0.756) lost against Tricky Kitten\n",
      "         Fighter(\"Scheme-A0 ( 0.668, 0.256, 0.907, 0.218)\", 137, 33, 36, 16)\n",
      "\n",
      "Scheme-A0 ( 0.668, 0.256, 0.907, 0.218) lost against Tricky Kitten\n",
      "         Fighter(\"Scheme-A0 ( 0.209, 0.853, 0.883, 0.426)\", 61, 29, 108, 56)\n",
      "Scheme-A0 ( 0.209, 0.853, 0.883, 0.426) won against Tricky Kitten\n",
      "         Fighter(\"Xtraordinary Robot\", 46, 157, 12, 14)\n",
      "\n",
      "Scheme-A0 ( 0.209, 0.853, 0.883, 0.426) lost against Xtraordinary Robot\n",
      "         Fighter(\"Scheme-A0 ( 0.407, 0.292, 0.596, 0.305)\", 82, 36, 70, 36)\n",
      "\n",
      "Scheme-A0 ( 0.407, 0.292, 0.596, 0.305) lost against Xtraordinary Robot\n",
      "         Fighter(\"Scheme-A0 ( 0.609, 0.332, 0.243, 0.147)\", 36, 116, 20, 44)\n",
      "Scheme-A0 ( 0.609, 0.332, 0.243, 0.147) won against Xtraordinary Robot\n",
      "         Fighter(\"Roselynne the Powerful\", 40, 30, 121, 132)\n",
      "Scheme-A0 ( 0.609, 0.332, 0.243, 0.147) won against Roselynne the Powerful\n",
      "         Fighter(\"Peculiar Rogue\", 82, 12, 107, 20)\n",
      "Scheme-A0 ( 0.609, 0.332, 0.243, 0.147) won against Peculiar Rogue\n",
      "         Fighter(\"Basket Asiya\", 50, 39, 97, 82)\n",
      "\n",
      "Scheme-A0 ( 0.609, 0.332, 0.243, 0.147) lost against Basket Asiya\n",
      "         Fighter(\"Scheme-A0 ( 0.132, 0.999, 0.212, 0.788)\", 19, 70, 40, 113)\n",
      "Scheme-A0 ( 0.132, 0.999, 0.212, 0.788) won against Basket Asiya\n",
      "         Fighter(\"Penguin Dheera\", 42, 36, 109, 108)\n",
      "Scheme-A0 ( 0.132, 0.999, 0.212, 0.788) won against Penguin Dheera\n",
      "         Fighter(\"Sassy Nightingale\", 60, 56, 53, 61)\n",
      "Scheme-A0 ( 0.132, 0.999, 0.212, 0.788) won against Sassy Nightingale\n",
      "         Fighter(\"Lev the Crystal\", 29, 48, 124, 104)\n",
      "Scheme-A0 ( 0.132, 0.999, 0.212, 0.788) won against Lev the Crystal\n",
      "         Fighter(\"Invincible Pigeon\", 83, 52, 61, 11)\n",
      "\n",
      "Scheme-A0 ( 0.132, 0.999, 0.212, 0.788) lost against Invincible Pigeon\n",
      "         Fighter(\"Scheme-A0 ( 0.534, 0.567, 0.916, 0.346)\", 99, 38, 53, 26)\n",
      "\n",
      "Scheme-A0 ( 0.534, 0.567, 0.916, 0.346) lost against Invincible Pigeon\n",
      "         Fighter(\"Scheme-A0 ( 0.749, 0.807, 0.639, 0.822)\", 32, 159, 14, 28)\n",
      "Scheme-A0 ( 0.749, 0.807, 0.639, 0.822) won against Invincible Pigeon\n",
      "         Fighter(\"Marium the Epicure\", 10, 121, 56, 68)\n",
      "\n",
      "Scheme-A0 ( 0.749, 0.807, 0.639, 0.822) lost against Marium the Epicure\n",
      "         Fighter(\"Scheme-A0 ( 0.695, 0.308, 0.475, 0.575)\", 34, 138, 18, 34)\n",
      "\n",
      "Scheme-A0 ( 0.695, 0.308, 0.475, 0.575) lost against Marium the Epicure\n",
      "         Fighter(\"Scheme-A0 ( 0.105, 0.234, 0.510, 0.729)\", 46, 25, 146, 85)\n",
      "Scheme-A0 ( 0.105, 0.234, 0.510, 0.729) won against Marium the Epicure\n",
      "         Fighter(\"Demie the Gamer\", 17, 71, 24, 118)\n",
      "\n",
      "Scheme-A0 ( 0.105, 0.234, 0.510, 0.729) lost against Demie the Gamer\n",
      "         Fighter(\"Scheme-A0 ( 0.317, 0.564, 0.432, 0.874)\", 35, 70, 47, 84)\n",
      "\n",
      "Scheme-A0 ( 0.317, 0.564, 0.432, 0.874) lost against Demie the Gamer\n",
      "         Fighter(\"Scheme-A0 ( 0.128, 0.480, 0.551, 0.558)\", 25, 51, 73, 135)\n",
      "Scheme-A0 ( 0.128, 0.480, 0.551, 0.558) won against Demie the Gamer\n",
      "         Fighter(\"Egg Caulder\", 155, 20, 43, 11)\n",
      "Scheme-A0 ( 0.128, 0.480, 0.551, 0.558) won against Egg Caulder\n",
      "         Fighter(\"Zeniah the Invincible\", 20, 109, 14, 69)\n",
      "Scheme-A0 ( 0.128, 0.480, 0.551, 0.558) won against Zeniah the Invincible\n",
      "         Fighter(\"Jerzee the Iguana\", 62, 110, 10, 23)\n",
      "\n",
      "Scheme-A0 ( 0.128, 0.480, 0.551, 0.558) lost against Jerzee the Iguana\n",
      "         Fighter(\"Scheme-A0 ( 0.709, 0.631, 0.077, 0.456)\", 28, 168, 15, 29)\n",
      "Scheme-A0 ( 0.709, 0.631, 0.077, 0.456) won against Jerzee the Iguana\n",
      "         Fighter(\"Vittorio the Chihuahua\", 97, 35, 42, 72)\n",
      "\n",
      "Scheme-A0 ( 0.709, 0.631, 0.077, 0.456) lost against Vittorio the Chihuahua\n",
      "         Fighter(\"Scheme-A0 ( 0.112, 0.551, 0.612, 0.401)\", 28, 43, 96, 142)\n",
      "\n",
      "Scheme-A0 ( 0.112, 0.551, 0.612, 0.401) lost against Vittorio the Chihuahua\n",
      "         Fighter(\"Scheme-A0 ( 0.706, 0.942, 0.246, 0.090)\", 40, 119, 20, 37)\n",
      "Scheme-A0 ( 0.706, 0.942, 0.246, 0.090) won against Vittorio the Chihuahua\n",
      "         Fighter(\"Itzabella the Tiger\", 51, 86, 10, 59)\n",
      "\n",
      "Scheme-A0 ( 0.706, 0.942, 0.246, 0.090) lost against Itzabella the Tiger\n",
      "         Fighter(\"Scheme-A0 ( 0.351, 0.169, 1.021, 0.324)\", 91, 29, 71, 31)\n",
      "Scheme-A0 ( 0.351, 0.169, 1.021, 0.324) won against Itzabella the Tiger\n",
      "         Fighter(\"Giant Denver\", 22, 52, 102, 127)\n",
      "Scheme-A0 ( 0.351, 0.169, 1.021, 0.324) won against Giant Denver\n",
      "         Fighter(\"Crazy Noralee\", 58, 22, 101, 130)\n",
      "\n",
      "Scheme-A0 ( 0.351, 0.169, 1.021, 0.324) lost against Crazy Noralee\n"
     ]
    },
    {
     "name": "stdout",
     "output_type": "stream",
     "text": [
      "         Fighter(\"Scheme-A0 ( 0.590, 0.312, 0.381, 0.558)\", 111, 37, 45, 24)\n",
      "\n",
      "Scheme-A0 ( 0.590, 0.312, 0.381, 0.558) lost against Crazy Noralee\n",
      "         Fighter(\"Scheme-A0 ( 0.502, 0.756, 0.921, 0.575)\", 75, 47, 60, 42)\n",
      "\n",
      "Scheme-A0 ( 0.502, 0.756, 0.921, 0.575) lost against Crazy Noralee\n",
      "         Fighter(\"Scheme-A0 ( 0.279, 0.075, 1.004, 0.559)\", 63, 35, 92, 57)\n",
      "\n",
      "Scheme-A0 ( 0.279, 0.075, 1.004, 0.559) lost against Crazy Noralee\n",
      "         Fighter(\"Scheme-A0 ( 0.748, 0.809, 0.616, 0.529)\", 52, 96, 26, 38)\n",
      "Scheme-A0 ( 0.748, 0.809, 0.616, 0.529) won against Crazy Noralee\n",
      "         Fighter(\"Michai the Paper\", 118, 44, 37, 10)\n",
      "\n",
      "Scheme-A0 ( 0.748, 0.809, 0.616, 0.529) lost against Michai the Paper\n",
      "         Fighter(\"Scheme-A0 ( 0.730, 0.818, 0.953, 0.454)\", 101, 48, 39, 25)\n",
      "Scheme-A0 ( 0.730, 0.818, 0.953, 0.454) won against Michai the Paper\n",
      "         Fighter(\"Magnificent Pteranodon\", 22, 36, 163, 156)\n",
      "Scheme-A0 ( 0.730, 0.818, 0.953, 0.454) won against Magnificent Pteranodon\n",
      "         Fighter(\"Diar the Rogue\", 73, 11, 116, 66)\n",
      "\n",
      "Scheme-A0 ( 0.730, 0.818, 0.953, 0.454) lost against Diar the Rogue\n",
      "         Fighter(\"Scheme-A0 ( 0.727, 0.703, 0.351, 0.814)\", 46, 106, 23, 38)\n",
      "Scheme-A0 ( 0.727, 0.703, 0.351, 0.814) won against Diar the Rogue\n",
      "         Fighter(\"Rahiem the Sword\", 12, 109, 15, 78)\n",
      "\n",
      "Scheme-A0 ( 0.727, 0.703, 0.351, 0.814) lost against Rahiem the Sword\n",
      "         Fighter(\"Scheme-A0 ( 0.097, 0.263, 0.081, 0.198)\", 81, 14, 104, 31)\n",
      "\n",
      "Scheme-A0 ( 0.097, 0.263, 0.081, 0.198) lost against Rahiem the Sword\n",
      "         Fighter(\"Scheme-A0 ( 0.032, 0.734, 0.813, 0.339)\", 42, 17, 187, 84)\n",
      "Scheme-A0 ( 0.032, 0.734, 0.813, 0.339) won against Rahiem the Sword\n",
      "         Fighter(\"Cailani the Gemstone\", 78, 29, 94, 14)\n",
      "Scheme-A0 ( 0.032, 0.734, 0.813, 0.339) won against Cailani the Gemstone\n",
      "         Fighter(\"Amazing Bagel\", 62, 16, 141, 16)\n",
      "Scheme-A0 ( 0.032, 0.734, 0.813, 0.339) won against Amazing Bagel\n",
      "         Fighter(\"Finlee the Superficial\", 11, 158, 18, 51)\n",
      "Scheme-A0 ( 0.032, 0.734, 0.813, 0.339) won against Finlee the Superficial\n",
      "         Fighter(\"Cosette the Lawyer\", 51, 119, 16, 26)\n",
      "\n",
      "Scheme-A0 ( 0.032, 0.734, 0.813, 0.339) lost against Cosette the Lawyer\n",
      "         Fighter(\"Scheme-A0 ( 0.055, 0.678, 0.724, 0.458)\", 39, 22, 176, 103)\n",
      "\n",
      "Scheme-A0 ( 0.055, 0.678, 0.724, 0.458) lost against Cosette the Lawyer\n",
      "         Fighter(\"Scheme-A0 ( 0.326, 0.854, 0.509, 0.341)\", 91, 27, 74, 29)\n",
      "\n",
      "Scheme-A0 ( 0.326, 0.854, 0.509, 0.341) lost against Cosette the Lawyer\n",
      "         Fighter(\"Scheme-A0 ( 0.350, 0.446, 1.018, 0.787)\", 36, 73, 44, 79)\n",
      "Scheme-A0 ( 0.350, 0.446, 1.018, 0.787) won against Cosette the Lawyer\n",
      "         Fighter(\"Zymeria the Slingshot\", 41, 106, 16, 47)\n",
      "Scheme-A0 ( 0.350, 0.446, 1.018, 0.787) won against Zymeria the Slingshot\n",
      "         Fighter(\"Hyena Pinches\", 29, 113, 13, 56)\n",
      "Scheme-A0 ( 0.350, 0.446, 1.018, 0.787) won against Hyena Pinches\n",
      "         Fighter(\"Sheltering Gamer\", 55, 75, 10, 71)\n",
      "Scheme-A0 ( 0.350, 0.446, 1.018, 0.787) won against Sheltering Gamer\n",
      "         Fighter(\"Noble Airplane\", 27, 34, 132, 162)\n",
      "Scheme-A0 ( 0.350, 0.446, 1.018, 0.787) won against Noble Airplane\n",
      "         Fighter(\"Opulent Bee\", 52, 68, 74, 38)\n",
      "Scheme-A0 ( 0.350, 0.446, 1.018, 0.787) won against Opulent Bee\n",
      "         Fighter(\"Luminous Archer\", 20, 159, 15, 41)\n",
      "Scheme-A0 ( 0.350, 0.446, 1.018, 0.787) won against Luminous Archer\n",
      "         Fighter(\"Penguin Leimomi\", 31, 88, 92, 50)\n",
      "Scheme-A0 ( 0.350, 0.446, 1.018, 0.787) won against Penguin Leimomi\n",
      "         Fighter(\"Old Cricket\", 100, 50, 44, 12)\n",
      "\n",
      "Scheme-A0 ( 0.350, 0.446, 1.018, 0.787) lost against Old Cricket\n",
      "         Fighter(\"Scheme-A0 ( 0.055, 0.349, 0.845, 0.895)\", 45, 19, 170, 78)\n",
      "\n",
      "Scheme-A0 ( 0.055, 0.349, 0.845, 0.895) lost against Old Cricket\n",
      "         Fighter(\"Scheme-A0 ( 0.526, 0.699, 0.548, 0.778)\", 161, 23, 37, 14)\n",
      "\n",
      "Scheme-A0 ( 0.526, 0.699, 0.548, 0.778) lost against Old Cricket\n",
      "         Fighter(\"Scheme-A0 ( 0.599, 0.621, 1.042, 0.429)\", 100, 41, 48, 26)\n",
      "Scheme-A0 ( 0.599, 0.621, 1.042, 0.429) won against Old Cricket\n",
      "         Fighter(\"Brenna the Beetle\", 140, 45, 23, 10)\n",
      "Scheme-A0 ( 0.599, 0.621, 1.042, 0.429) won against Brenna the Beetle\n",
      "         Fighter(\"Riordan the Dizzy\", 63, 11, 132, 90)\n",
      "\n",
      "Scheme-A0 ( 0.599, 0.621, 1.042, 0.429) lost against Riordan the Dizzy\n",
      "         Fighter(\"Scheme-A0 ( 0.095, 0.238, 0.605, 0.115)\", 76, 14, 112, 30)\n",
      "\n",
      "Scheme-A0 ( 0.095, 0.238, 0.605, 0.115) lost against Riordan the Dizzy\n",
      "         Fighter(\"Scheme-A0 ( 0.306, 0.298, 0.560, 0.731)\", 134, 18, 54, 19)\n",
      "\n",
      "Scheme-A0 ( 0.306, 0.298, 0.560, 0.731) lost against Riordan the Dizzy\n",
      "         Fighter(\"Scheme-A0 ( 0.532, 0.325, 0.570, 0.129)\", 128, 29, 45, 18)\n",
      "\n",
      "Scheme-A0 ( 0.532, 0.325, 0.570, 0.129) lost against Riordan the Dizzy\n",
      "         Fighter(\"Scheme-A0 ( 0.410, 0.122, 1.057, 0.549)\", 76, 39, 71, 42)\n",
      "\n",
      "Scheme-A0 ( 0.410, 0.122, 1.057, 0.549) lost against Riordan the Dizzy\n",
      "         Fighter(\"Scheme-A0 ( 0.111, 0.611, 0.468, 0.962)\", 24, 50, 75, 140)\n",
      "\n",
      "Scheme-A0 ( 0.111, 0.611, 0.468, 0.962) lost against Riordan the Dizzy\n",
      "         Fighter(\"Scheme-A0 ( 0.558, 0.581, 0.420, 0.457)\", 128, 30, 43, 21)\n",
      "\n",
      "Scheme-A0 ( 0.558, 0.581, 0.420, 0.457) lost against Riordan the Dizzy\n",
      "         Fighter(\"Scheme-A0 ( 0.251, 0.311, 1.060, 0.770)\", 21, 99, 23, 75)\n",
      "Scheme-A0 ( 0.251, 0.311, 1.060, 0.770) won against Riordan the Dizzy\n",
      "         Fighter(\"Jusiah the Goldfish\", 144, 16, 50, 31)\n",
      "\n",
      "Scheme-A0 ( 0.251, 0.311, 1.060, 0.770) lost against Jusiah the Goldfish\n",
      "         Fighter(\"Scheme-A0 ( 0.095, 0.833, 1.030, 0.427)\", 51, 21, 147, 68)\n",
      "Scheme-A0 ( 0.095, 0.833, 1.030, 0.427) won against Jusiah the Goldfish\n",
      "         Fighter(\"Quiet Miela\", 79, 69, 48, 10)\n",
      "\n",
      "Scheme-A0 ( 0.095, 0.833, 1.030, 0.427) lost against Quiet Miela\n",
      "         Fighter(\"Scheme-A0 ( 0.458, 0.645, 0.185, 0.131)\", 40, 81, 37, 65)\n",
      "Scheme-A0 ( 0.458, 0.645, 0.185, 0.131) won against Quiet Miela\n",
      "         Fighter(\"Xact Chihuahua\", 38, 100, 21, 54)\n",
      "Scheme-A0 ( 0.458, 0.645, 0.185, 0.131) won against Xact Chihuahua\n",
      "         Fighter(\"Ysabella the Octopus\", 62, 21, 97, 127)\n",
      "Scheme-A0 ( 0.458, 0.645, 0.185, 0.131) won against Ysabella the Octopus\n",
      "         Fighter(\"Passive Charlierae\", 133, 14, 60, 11)\n",
      "\n",
      "Scheme-A0 ( 0.458, 0.645, 0.185, 0.131) lost against Passive Charlierae\n",
      "         Fighter(\"Scheme-A0 ( 0.365, 0.220, 0.295, 0.257)\", 176, 15, 40, 21)\n",
      "\n",
      "Scheme-A0 ( 0.365, 0.220, 0.295, 0.257) lost against Passive Charlierae\n",
      "         Fighter(\"Scheme-A0 ( 0.470, 0.575, 0.770, 0.429)\", 78, 43, 63, 40)\n",
      "Scheme-A0 ( 0.470, 0.575, 0.770, 0.429) won against Passive Charlierae\n",
      "         Fighter(\"Emerald the Maximal\", 36, 34, 124, 126)\n",
      "Scheme-A0 ( 0.470, 0.575, 0.770, 0.429) won against Emerald the Maximal\n",
      "         Fighter(\"Blanket Marshawn\", 139, 22, 48, 12)\n",
      "Scheme-A0 ( 0.470, 0.575, 0.770, 0.429) won against Blanket Marshawn\n",
      "         Fighter(\"Primordial Scientist\", 46, 102, 59, 25)\n",
      "\n",
      "Scheme-A0 ( 0.470, 0.575, 0.770, 0.429) lost against Primordial Scientist\n",
      "         Fighter(\"Scheme-A0 ( 0.763, 0.678, 0.542, 0.905)\", 55, 92, 26, 38)\n",
      "Scheme-A0 ( 0.763, 0.678, 0.542, 0.905) won against Primordial Scientist\n",
      "         Fighter(\"Dizzy Artist\", 74, 32, 96, 16)\n",
      "Scheme-A0 ( 0.763, 0.678, 0.542, 0.905) won against Dizzy Artist\n",
      "         Fighter(\"Royal Bear\", 25, 87, 10, 87)\n",
      "\n",
      "Scheme-A0 ( 0.763, 0.678, 0.542, 0.905) lost against Royal Bear\n",
      "         Fighter(\"Scheme-A0 ( 0.583, 0.464, 0.544, 0.213)\", 101, 40, 49, 25)\n",
      "Scheme-A0 ( 0.583, 0.464, 0.544, 0.213) won against Royal Bear\n",
      "         Fighter(\"Mirielle the Uber\", 29, 101, 76, 48)\n",
      "\n",
      "Scheme-A0 ( 0.583, 0.464, 0.544, 0.213) lost against Mirielle the Uber\n",
      "         Fighter(\"Scheme-A0 ( 0.030, 0.129, 0.533, 1.011)\", 19, 37, 105, 197)\n",
      "Scheme-A0 ( 0.030, 0.129, 0.533, 1.011) won against Mirielle the Uber\n",
      "         Fighter(\"Orangutan Emalyn\", 10, 73, 29, 123)\n",
      "Scheme-A0 ( 0.030, 0.129, 0.533, 1.011) won against Orangutan Emalyn\n",
      "         Fighter(\"Train Quinnlyn\", 47, 43, 81, 97)\n",
      "\n",
      "Scheme-A0 ( 0.030, 0.129, 0.533, 1.011) lost against Train Quinnlyn\n",
      "         Fighter(\"Scheme-A0 ( 0.668, 0.040, 1.033, 0.226)\", 144, 32, 34, 15)\n",
      "\n",
      "Scheme-A0 ( 0.668, 0.040, 1.033, 0.226) lost against Train Quinnlyn\n",
      "         "
     ]
    },
    {
     "ename": "LoadError",
     "evalue": "BoundsError: attempt to access 100-element Vector{Fighter} at index [101]",
     "output_type": "error",
     "traceback": [
      "BoundsError: attempt to access 100-element Vector{Fighter} at index [101]",
      "",
      "Stacktrace:",
      " [1] getindex(A::Vector{Fighter}, i1::Int64)",
      "   @ Base ./essentials.jl:13",
      " [2] top-level scope",
      "   @ ./In[55]:28"
     ]
    }
   ],
   "source": [
    "as = team_a0[1:100]\n",
    "bs = team_nash[1:100]\n",
    "a_i = 1\n",
    "b_i = 1\n",
    "print(\"         \")\n",
    "println(as[a_i])\n",
    "print(\"         \")\n",
    "println(bs[b_i])\n",
    "while (a_i <= length(as)) && (b_i <= length(bs))\n",
    "    res = eval_battle(as[a_i], bs[b_i])\n",
    "    if res == 1\n",
    "        println(string(as[a_i].name, \" won against \", bs[b_i].name))\n",
    "        b_i = b_i + 1\n",
    "        print(\"         \")\n",
    "        println(bs[b_i])\n",
    "    else\n",
    "        println()\n",
    "        if res == 0\n",
    "            println(string(as[a_i].name, \" tied against \", bs[b_i].name))\n",
    "            b_i = b_i + 1\n",
    "            print(\"         \")\n",
    "            println(bs[b_i])\n",
    "        else\n",
    "            println(string(as[a_i].name, \" lost against \", bs[b_i].name))\n",
    "        end\n",
    "        a_i = a_i + 1\n",
    "        print(\"         \")\n",
    "        println(as[a_i])\n",
    "    end\n",
    "end\n",
    "a_out = (a_i > length(as))\n",
    "b_out = (b_i > length(as))\n",
    "if a_out\n",
    "    if b_out\n",
    "        return 0\n",
    "    else\n",
    "        return -1\n",
    "    end\n",
    "else\n",
    "    return 1\n",
    "end\n"
   ]
  },
  {
   "cell_type": "code",
   "execution_count": 56,
   "id": "ac317ca9",
   "metadata": {},
   "outputs": [
    {
     "data": {
      "text/plain": [
       "(101, 91)"
      ]
     },
     "execution_count": 56,
     "metadata": {},
     "output_type": "execute_result"
    }
   ],
   "source": [
    "a_i, b_i"
   ]
  },
  {
   "cell_type": "code",
   "execution_count": null,
   "id": "5843c735",
   "metadata": {},
   "outputs": [],
   "source": []
  },
  {
   "cell_type": "code",
   "execution_count": null,
   "id": "032d8906",
   "metadata": {},
   "outputs": [],
   "source": []
  }
 ],
 "metadata": {
  "kernelspec": {
   "display_name": "Julia 1.9.3",
   "language": "julia",
   "name": "julia-1.9"
  },
  "language_info": {
   "file_extension": ".jl",
   "mimetype": "application/julia",
   "name": "julia",
   "version": "1.9.3"
  }
 },
 "nbformat": 4,
 "nbformat_minor": 5
}

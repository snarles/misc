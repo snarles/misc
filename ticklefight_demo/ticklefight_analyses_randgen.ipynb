{
 "cells": [
  {
   "cell_type": "code",
   "execution_count": 339,
   "id": "560e9539",
   "metadata": {},
   "outputs": [
    {
     "data": {
      "text/plain": [
       "fpart (generic function with 1 method)"
      ]
     },
     "execution_count": 339,
     "metadata": {},
     "output_type": "execute_result"
    }
   ],
   "source": [
    "using Random\n",
    "using DataFrames\n",
    "using CSV\n",
    "using Statistics\n",
    "\n",
    "struct Fighter\n",
    "    name::String\n",
    "    h::Int16\n",
    "    f::Int16\n",
    "    l::Int16\n",
    "    t::Int16\n",
    "end\n",
    "\n",
    "const MXS = 400\n",
    "const MXV = 40\n",
    "const MNV = 2\n",
    "\n",
    "function random_fighter(h0::Int = MNV, f0::Int = MNV, l0::Int = MNV, t0::Int = MNV)::Fighter\n",
    "    flag = true\n",
    "    while flag\n",
    "        h = h0 + rand(0:(MXV - h0), 1)[1]\n",
    "        f = f0 + rand(0:(MXV - f0), 1)[1]\n",
    "        l = l0 + rand(0:(MXV - l0), 1)[1]\n",
    "        t = t0 + rand(0:(MXV - t0), 1)[1]\n",
    "        mm = minimum([h, f])\n",
    "        budget = h*f+h*l+f*t\n",
    "        if budget <= MXS && budget + mm > MXS\n",
    "            flag = false\n",
    "            return Fighter(\"No Name\", h, f, l, t)\n",
    "        end\n",
    "    end\n",
    "end\n",
    "\n",
    "function eval_battle(a::Fighter, b::Fighter)::Int\n",
    "    a_finds = a.f >= b.h\n",
    "    b_finds = b.f >= a.h\n",
    "    if a_finds && b_finds\n",
    "        if a.t > b.t\n",
    "            return 1\n",
    "        end\n",
    "        if a.t < b.t\n",
    "            return -1\n",
    "        end\n",
    "        if a.t == b.t\n",
    "            if a.l > b.l\n",
    "                return 1\n",
    "            end\n",
    "            if a.l < b.l\n",
    "                return -1\n",
    "            end\n",
    "            if a.l == b.l\n",
    "                if a.h > b.h\n",
    "                    return 1\n",
    "                end\n",
    "                if a.h < b.h\n",
    "                    return -1\n",
    "                end\n",
    "                if a.h == b.h\n",
    "                    return 0\n",
    "                end\n",
    "            end\n",
    "        end\n",
    "    end\n",
    "    if a_finds && !b_finds\n",
    "        return 1\n",
    "    end\n",
    "    if !a_finds && b_finds\n",
    "        return -1\n",
    "    end\n",
    "    if !a_finds && !b_finds\n",
    "        if a.l > b.l\n",
    "            return 1\n",
    "        end\n",
    "        if a.l < b.l\n",
    "            return -1\n",
    "        end\n",
    "        if a.l == b.l\n",
    "            if a.t > b.t\n",
    "                return 1\n",
    "            end\n",
    "            if a.t < b.t\n",
    "                return -1\n",
    "            end\n",
    "            if a.t == b.t\n",
    "                if a.f > b.f\n",
    "                    return 1\n",
    "                end\n",
    "                if a.f < b.f\n",
    "                    return -1\n",
    "                end\n",
    "                if a.f == b.f\n",
    "                    return 0\n",
    "                end\n",
    "            end\n",
    "        end\n",
    "    end\n",
    "end\n",
    "\n",
    "function random_tournament_winner(c::Int)::Fighter\n",
    "    if c==0\n",
    "        return random_fighter()\n",
    "    end\n",
    "    a = random_tournament_winner(c-1)\n",
    "    b = random_tournament_winner(c-1)\n",
    "    res = eval_battle(a, b)\n",
    "    if res == 1\n",
    "        return a\n",
    "    else\n",
    "        return b\n",
    "    end\n",
    "end\n",
    "\n",
    "\n",
    "tab = CSV.read(\"census_yob2022_names.txt\", DataFrame, header = false)\n",
    "names = tab.Column1\n",
    "adjectives = CSV.read(\"adjectives.csv\", DataFrame)\n",
    "nouns = CSV.read(\"nouns.csv\", DataFrame)\n",
    "\n",
    "function random_name_and_stat()::Fighter\n",
    "    vp = [0, 0, 0, 0]\n",
    "    nametype = rand(1:5)\n",
    "    name = \"\"\n",
    "    if nametype == 1 || nametype == 2\n",
    "        nm = rand(names)\n",
    "        adj_i = rand(1:nrow(adjectives))\n",
    "        adj = adjectives[adj_i, :adjective]\n",
    "        vp[1] = vp[1] + adjectives[adj_i, :H]\n",
    "        vp[2] = vp[2] + adjectives[adj_i, :F]\n",
    "        vp[3] = vp[3] + adjectives[adj_i, :L]\n",
    "        vp[4] = vp[4] + adjectives[adj_i, :T]\n",
    "        if nametype == 1\n",
    "            name = string(nm, \" the \", adj)\n",
    "        end\n",
    "        if nametype == 2\n",
    "            name = string(adj, \" \", nm)\n",
    "        end\n",
    "    end\n",
    "    if nametype == 3 || nametype == 4\n",
    "        nm = rand(names)\n",
    "        noun_i = rand(1:nrow(nouns))\n",
    "        noun = nouns[noun_i, :noun]\n",
    "        vp[1] = vp[1] + nouns[noun_i, :H]\n",
    "        vp[2] = vp[2] + nouns[noun_i, :F]\n",
    "        vp[3] = vp[3] + nouns[noun_i, :L]\n",
    "        vp[4] = vp[4] + nouns[noun_i, :T]    \n",
    "        if nametype == 3\n",
    "            name = string(nm, \" the \", noun)\n",
    "        end\n",
    "        if nametype == 4\n",
    "            name = string(noun, \" \", nm)\n",
    "        end\n",
    "    end\n",
    "    if nametype == 5\n",
    "        adj_i = rand(1:nrow(adjectives))\n",
    "        adj = adjectives[adj_i, :adjective]\n",
    "        vp[1] = vp[1] + adjectives[adj_i, :H]\n",
    "        vp[2] = vp[2] + adjectives[adj_i, :F]\n",
    "        vp[3] = vp[3] + adjectives[adj_i, :L]\n",
    "        vp[4] = vp[4] + adjectives[adj_i, :T]\n",
    "        noun_i = rand(1:nrow(nouns))\n",
    "        noun = nouns[noun_i, :noun]\n",
    "        vp[1] = vp[1] + nouns[noun_i, :H]\n",
    "        vp[2] = vp[2] + nouns[noun_i, :F]\n",
    "        vp[3] = vp[3] + nouns[noun_i, :L]\n",
    "        vp[4] = vp[4] + nouns[noun_i, :T]    \n",
    "        name = string(adj, \" \", noun)\n",
    "    end\n",
    "    Fighter(name, vp[1], vp[2], vp[3], vp[4])\n",
    "end\n",
    "\n",
    "function rand_rename(a::Fighter, n_tries::Int = 10)::Fighter\n",
    "    best_score = 0.0\n",
    "    best_b = random_name_and_stat()\n",
    "    for ii in 1:n_tries\n",
    "        b = random_name_and_stat()\n",
    "        b_norm = sqrt(b.h^2 + b.f^2 + b.l^2 + b.t^2)\n",
    "        score = (a.h * b.h + a.f * b.f + a.l * b.l + a.t * b.t)/b_norm\n",
    "        if score > best_score\n",
    "            best_score = score\n",
    "            best_b = b\n",
    "        end\n",
    "    end\n",
    "    return Fighter(best_b.name, a.h, a.f, a.l, a.t)\n",
    "end\n",
    "\n",
    "function eval_battle_list(a::Fighter, bs::Array{Fighter})::Int\n",
    "    score = 0\n",
    "    for ii in 1:length(bs)\n",
    "        score = score + eval_battle(a, bs[ii])\n",
    "    end\n",
    "    return score\n",
    "end\n",
    "\n",
    "function pick_best(as::Array{Fighter}, bs::Array{Fighter})::Fighter\n",
    "    bestscore = -999\n",
    "    bestf = as[1]\n",
    "    for ii in 1:length(as)\n",
    "        score = eval_battle_list(as[ii], bs)\n",
    "        if score > bestscore\n",
    "            bestscore = score\n",
    "            bestf = as[ii]\n",
    "        end\n",
    "    end\n",
    "    return bestf\n",
    "end\n",
    "\n",
    "function pick_best_rdmly(as::Array{Fighter}, bs::Array{Fighter}, ntries::Int)::Fighter\n",
    "    bestscore = -999\n",
    "    bestf = rand(as)\n",
    "    for ii in 1:ntries\n",
    "        f = rand(as)\n",
    "        score = eval_battle_list(f, bs)\n",
    "        if score > bestscore\n",
    "            bestscore = score\n",
    "            bestf = f\n",
    "        end\n",
    "    end\n",
    "    return bestf\n",
    "end\n",
    "\n",
    "function fighters_to_df(as::Array{Fighter})::DataFrame\n",
    "    names = Array{String}(undef, length(as))\n",
    "    hs = Array{Int}(undef, length(as))\n",
    "    fs = Array{Int}(undef, length(as))\n",
    "    ls = Array{Int}(undef, length(as))\n",
    "    ts = Array{Int}(undef, length(as))\n",
    "    for ii in 1:length(as)\n",
    "        names[ii] = as[ii].name\n",
    "        hs[ii] = as[ii].h\n",
    "        fs[ii] = as[ii].f\n",
    "        ls[ii] = as[ii].l\n",
    "        ts[ii] = as[ii].t    \n",
    "    end\n",
    "    df = DataFrame(name = names, h = hs, f = fs, l = ls, t = ts)\n",
    "    return df\n",
    "end\n",
    "\n",
    "function fpart(x::AbstractFloat)::AbstractFloat\n",
    "  return x - trunc(x)\n",
    "end"
   ]
  },
  {
   "cell_type": "code",
   "execution_count": 340,
   "id": "ec7b15f6",
   "metadata": {},
   "outputs": [
    {
     "data": {
      "text/plain": [
       "random_team (generic function with 1 method)"
      ]
     },
     "execution_count": 340,
     "metadata": {},
     "output_type": "execute_result"
    }
   ],
   "source": [
    "function random_team(f::Function, team_size::Int)::Array{Fighter}\n",
    "    team = Array{Fighter}(undef, team_size)\n",
    "    for i in 1:team_size\n",
    "        team[i] = f()\n",
    "    end\n",
    "    return team\n",
    "end"
   ]
  },
  {
   "cell_type": "code",
   "execution_count": 341,
   "id": "51cea033",
   "metadata": {},
   "outputs": [],
   "source": [
    "library = Array{Fighter}(undef, 100000)\n",
    "for i in 1:100000\n",
    "    library[i] = rand_rename(random_fighter())\n",
    "end"
   ]
  },
  {
   "cell_type": "code",
   "execution_count": 354,
   "id": "f1198f90",
   "metadata": {},
   "outputs": [
    {
     "data": {
      "text/plain": [
       "evaluate_generator (generic function with 2 methods)"
      ]
     },
     "execution_count": 354,
     "metadata": {},
     "output_type": "execute_result"
    }
   ],
   "source": [
    "function evaluate_generator(f::Function, team_size::Int, n_times::Int = 1)::AbstractFloat\n",
    "    scores = Array{AbstractFloat}(undef, n_times)\n",
    "    for i0 in 1:n_times\n",
    "        team = Array{Fighter}(undef, team_size)\n",
    "        for i in 1:team_size\n",
    "            team[i] = f()\n",
    "        end\n",
    "        bestscore = 999999\n",
    "        exploiter = library[1]\n",
    "        for i in 1:length(library)\n",
    "            fighter = library[i]\n",
    "            score = 0\n",
    "            for j in 1:team_size\n",
    "                score = score + eval_battle(team[j], fighter)\n",
    "            end\n",
    "            if score < bestscore\n",
    "                bestscore = score\n",
    "                exploiter = library[i]\n",
    "            end\n",
    "        end\n",
    "        if n_times < 5\n",
    "            println(exploiter)        \n",
    "        end\n",
    "        scores[i0] = bestscore/team_size\n",
    "    end\n",
    "    return mean(scores)\n",
    "end"
   ]
  },
  {
   "cell_type": "code",
   "execution_count": 355,
   "id": "5a70c0e2",
   "metadata": {},
   "outputs": [
    {
     "data": {
      "text/plain": [
       "random_scheme_a (generic function with 6 methods)"
      ]
     },
     "execution_count": 355,
     "metadata": {},
     "output_type": "execute_result"
    }
   ],
   "source": [
    "# new random generation to more closely approximate Nash\n",
    "function random_scheme_a(budget::Int = MXS, h0::Int = MNV, f0::Int = MNV, l0::Int = MNV, t0::Int = MNV)::Fighter\n",
    "    budget_sofar = budget + 1\n",
    "    while budget_sofar > budget\n",
    "        hf_ratio = rand()\n",
    "        l_ratio = rand()\n",
    "        h_temp = rand() + 0.1\n",
    "        f_temp = rand() + 0.1\n",
    "        budget_hf = (0.1 + hf_ratio * 0.8) * (budget * .7)\n",
    "        h_ratio = h_temp/sqrt(h_temp * f_temp)\n",
    "        f_ratio = f_temp/sqrt(h_temp * f_temp)\n",
    "        h = max(h0, round(sqrt(budget_hf) * h_ratio))\n",
    "        f = max(f0, round(sqrt(budget_hf) * f_ratio))\n",
    "        budget_hf = h * f\n",
    "        budget_remain = (budget - budget_hf) - (l0 * h + t0 * f)\n",
    "        l_ratio2 = (l_ratio * h)/(l_ratio * h + (1-l_ratio) * f)\n",
    "        lraw = l0 + ( budget_remain * l_ratio2 )/h\n",
    "        traw = t0 + ( budget_remain * (1 - l_ratio2) )/f\n",
    "        l = trunc(lraw)\n",
    "        t = trunc(traw)\n",
    "        budget_sofar = h * f + h * l + f * t\n",
    "        if (budget - budget_sofar) >= min(h, f)\n",
    "            could_add_l = (budget - budget_sofar) >= h\n",
    "            could_add_t = (budget - budget_sofar) >= f\n",
    "            if could_add_l && !could_add_t\n",
    "                l = l+trunc((budget - budget_sofar)/h)\n",
    "            end\n",
    "            if !could_add_l && could_add_t\n",
    "                t = t+trunc((budget - budget_sofar)/f)\n",
    "            end\n",
    "            if could_add_l && could_add_t\n",
    "                if fpart(lraw) > fpart(traw)\n",
    "                    l = l+trunc((budget - budget_sofar)/h)\n",
    "                else\n",
    "                    t = t+trunc((budget - budget_sofar)/f)\n",
    "                end\n",
    "            end\n",
    "        end\n",
    "    end\n",
    "    h = convert(Int, h)\n",
    "    f = convert(Int, f)\n",
    "    l = convert(Int, l)\n",
    "    t = convert(Int, t)  \n",
    "    return Fighter(\"No Name [Scheme A]\", h, f, l, t)\n",
    "end\n",
    "\n"
   ]
  },
  {
   "cell_type": "code",
   "execution_count": 356,
   "id": "04273225",
   "metadata": {},
   "outputs": [],
   "source": [
    "budget = MXS\n",
    "h0 = MNV\n",
    "f0 = MNV\n",
    "l0 = MNV\n",
    "t0 = MNV\n",
    "hf_ratio0 = 0\n",
    "l_ratio0 = 0\n",
    "h_temp0 = 0\n",
    "f_temp0 = 0\n",
    "\n",
    "\n",
    "for i in 1:1000\n",
    "    hf_ratio = rand()\n",
    "    l_ratio = 0.25 + 0.5 * rand()\n",
    "    h_temp = rand() + 0.1\n",
    "    f_temp = rand() + 0.1\n",
    "    budget_hf = sqrt(0.05 + hf_ratio * 0.9) * (budget * .7)\n",
    "    h_ratio = h_temp/sqrt(h_temp * f_temp)\n",
    "    f_ratio = f_temp/sqrt(h_temp * f_temp)\n",
    "    h = max(h0, round(sqrt(budget_hf) * h_ratio))\n",
    "    f = max(f0, round(sqrt(budget_hf) * f_ratio))\n",
    "    budget_hf = h * f\n",
    "    budget_remain = (budget - budget_hf) - (l0 * h + t0 * f)\n",
    "    lraw = l0 + ( budget_remain * l_ratio )/h\n",
    "    traw = t0 + ( budget_remain * (1 - l_ratio) )/f\n",
    "    l = trunc(lraw)\n",
    "    t = trunc(traw)\n",
    "    budget_sofar = h * f + h * l + f * t\n",
    "    if (budget - budget_sofar) >= min(h, f)\n",
    "        could_add_l = (budget - budget_sofar) >= h\n",
    "        could_add_t = (budget - budget_sofar) >= f\n",
    "        if could_add_l && !could_add_t\n",
    "            l = l+trunc((budget - budget_sofar)/h)\n",
    "        end\n",
    "        if !could_add_l && could_add_t\n",
    "            t = t+trunc((budget - budget_sofar)/f)\n",
    "        end\n",
    "        if could_add_l && could_add_t\n",
    "            if fpart(lraw) > fpart(traw)\n",
    "                l = l+trunc((budget - budget_sofar)/h)\n",
    "            else\n",
    "                t = t+trunc((budget - budget_sofar)/f)\n",
    "            end\n",
    "        end\n",
    "    end\n",
    "\n",
    "    budget_sofar = h * f + h * l + f * t\n",
    "    if (budget - budget_sofar) >= min(h, f)\n",
    "        hf_ratio0 = hf_ratio\n",
    "        l_ratio0 = l_ratio\n",
    "        h_temp0 = h_temp\n",
    "        f_temp0 = f_temp\n",
    "        println((h, f, l, t, budget_hf, budget_sofar))\n",
    "    end\n",
    "end"
   ]
  },
  {
   "cell_type": "code",
   "execution_count": 357,
   "id": "59011aca",
   "metadata": {},
   "outputs": [
    {
     "data": {
      "text/plain": [
       "0"
      ]
     },
     "execution_count": 357,
     "metadata": {},
     "output_type": "execute_result"
    }
   ],
   "source": [
    "hf_ratio = hf_ratio0\n",
    "l_ratio = l_ratio0\n",
    "h_temp = h_temp0\n",
    "f_temp = f_temp0"
   ]
  },
  {
   "cell_type": "code",
   "execution_count": 358,
   "id": "c7cfae3d",
   "metadata": {},
   "outputs": [
    {
     "name": "stdout",
     "output_type": "stream",
     "text": [
      "(NaN, NaN, NaN, NaN, NaN, NaN)\n"
     ]
    }
   ],
   "source": [
    "budget_hf = sqrt(0.05 + hf_ratio * 0.9) * (budget * .7)\n",
    "h_ratio = h_temp/sqrt(h_temp * f_temp)\n",
    "f_ratio = f_temp/sqrt(h_temp * f_temp)\n",
    "h = max(h0, round(sqrt(budget_hf) * h_ratio))\n",
    "f = max(f0, round(sqrt(budget_hf) * f_ratio))\n",
    "budget_hf = h * f\n",
    "budget_remain = (budget - budget_hf) - (l0 * h + t0 * f)\n",
    "lraw = l0 + ( budget_remain * l_ratio )/h\n",
    "traw = t0 + ( budget_remain * (1 - l_ratio) )/f\n",
    "l = trunc(lraw)\n",
    "t = trunc(traw)\n",
    "budget_sofar = h * f + h * l + f * t\n",
    "println((h, f, l, t, budget_hf, budget_sofar))"
   ]
  },
  {
   "cell_type": "code",
   "execution_count": 359,
   "id": "42188c74",
   "metadata": {},
   "outputs": [
    {
     "name": "stdout",
     "output_type": "stream",
     "text": [
      "(NaN, NaN, NaN, NaN, NaN, NaN)\n"
     ]
    }
   ],
   "source": [
    "if (budget - budget_sofar) >= min(h, f)\n",
    "    could_add_l = (budget - budget_sofar) >= h\n",
    "    could_add_t = (budget - budget_sofar) >= f\n",
    "    if could_add_l && !could_add_t\n",
    "        l = l+1\n",
    "    end\n",
    "    if !could_add_l && could_add_t\n",
    "        t = t+1\n",
    "    end\n",
    "    if could_add_l && could_add_t\n",
    "        if fpart(lraw) > fpart(traw)\n",
    "            l = l+1\n",
    "        else\n",
    "            t = t+1\n",
    "        end\n",
    "    end\n",
    "end\n",
    "\n",
    "budget_sofar = h * f + h * l + f * t\n",
    "println((h, f, l, t, budget_hf, budget_sofar))"
   ]
  },
  {
   "cell_type": "markdown",
   "id": "cb04c53d",
   "metadata": {},
   "source": [
    "## Testing Random Scheme A"
   ]
  },
  {
   "cell_type": "code",
   "execution_count": 360,
   "id": "e24bf964",
   "metadata": {},
   "outputs": [
    {
     "name": "stdout",
     "output_type": "stream",
     "text": [
      "Fighter(\"No Name [Scheme A]\", 7, 25, 10, 6)"
     ]
    },
    {
     "data": {
      "text/plain": [
       "395"
      ]
     },
     "execution_count": 360,
     "metadata": {},
     "output_type": "execute_result"
    }
   ],
   "source": [
    "f = random_scheme_a()\n",
    "print(f)\n",
    "f.h * f.f + f.h * f.l + f.f * f.t"
   ]
  },
  {
   "cell_type": "code",
   "execution_count": 361,
   "id": "3a1b7f74",
   "metadata": {},
   "outputs": [
    {
     "data": {
      "text/html": [
       "<div><div style = \"float: left;\"><span>10×5 DataFrame</span></div><div style = \"clear: both;\"></div></div><div class = \"data-frame\" style = \"overflow-x: scroll;\"><table class = \"data-frame\" style = \"margin-bottom: 6px;\"><thead><tr class = \"header\"><th class = \"rowNumber\" style = \"font-weight: bold; text-align: right;\">Row</th><th style = \"text-align: left;\">name</th><th style = \"text-align: left;\">h</th><th style = \"text-align: left;\">f</th><th style = \"text-align: left;\">l</th><th style = \"text-align: left;\">t</th></tr><tr class = \"subheader headerLastRow\"><th class = \"rowNumber\" style = \"font-weight: bold; text-align: right;\"></th><th title = \"String\" style = \"text-align: left;\">String</th><th title = \"Int64\" style = \"text-align: left;\">Int64</th><th title = \"Int64\" style = \"text-align: left;\">Int64</th><th title = \"Int64\" style = \"text-align: left;\">Int64</th><th title = \"Int64\" style = \"text-align: left;\">Int64</th></tr></thead><tbody><tr><td class = \"rowNumber\" style = \"font-weight: bold; text-align: right;\">1</td><td style = \"text-align: left;\">Kashtyn the Blimp</td><td style = \"text-align: right;\">26</td><td style = \"text-align: right;\">7</td><td style = \"text-align: right;\">7</td><td style = \"text-align: right;\">5</td></tr><tr><td class = \"rowNumber\" style = \"font-weight: bold; text-align: right;\">2</td><td style = \"text-align: left;\">Maelia the Notebook</td><td style = \"text-align: right;\">10</td><td style = \"text-align: right;\">16</td><td style = \"text-align: right;\">11</td><td style = \"text-align: right;\">8</td></tr><tr><td class = \"rowNumber\" style = \"font-weight: bold; text-align: right;\">3</td><td style = \"text-align: left;\">Super Duck</td><td style = \"text-align: right;\">14</td><td style = \"text-align: right;\">8</td><td style = \"text-align: right;\">7</td><td style = \"text-align: right;\">23</td></tr><tr><td class = \"rowNumber\" style = \"font-weight: bold; text-align: right;\">4</td><td style = \"text-align: left;\">Fiery Duck</td><td style = \"text-align: right;\">15</td><td style = \"text-align: right;\">13</td><td style = \"text-align: right;\">3</td><td style = \"text-align: right;\">12</td></tr><tr><td class = \"rowNumber\" style = \"font-weight: bold; text-align: right;\">5</td><td style = \"text-align: left;\">Pug Maryjean</td><td style = \"text-align: right;\">11</td><td style = \"text-align: right;\">20</td><td style = \"text-align: right;\">9</td><td style = \"text-align: right;\">4</td></tr><tr><td class = \"rowNumber\" style = \"font-weight: bold; text-align: right;\">6</td><td style = \"text-align: left;\">Magnificent Urchin</td><td style = \"text-align: right;\">4</td><td style = \"text-align: right;\">29</td><td style = \"text-align: right;\">20</td><td style = \"text-align: right;\">7</td></tr><tr><td class = \"rowNumber\" style = \"font-weight: bold; text-align: right;\">7</td><td style = \"text-align: left;\">Nice Scorpion</td><td style = \"text-align: right;\">11</td><td style = \"text-align: right;\">18</td><td style = \"text-align: right;\">10</td><td style = \"text-align: right;\">5</td></tr><tr><td class = \"rowNumber\" style = \"font-weight: bold; text-align: right;\">8</td><td style = \"text-align: left;\">Disciplined Yak</td><td style = \"text-align: right;\">12</td><td style = \"text-align: right;\">3</td><td style = \"text-align: right;\">22</td><td style = \"text-align: right;\">33</td></tr><tr><td class = \"rowNumber\" style = \"font-weight: bold; text-align: right;\">9</td><td style = \"text-align: left;\">Friendly Jaelyn</td><td style = \"text-align: right;\">5</td><td style = \"text-align: right;\">9</td><td style = \"text-align: right;\">51</td><td style = \"text-align: right;\">11</td></tr><tr><td class = \"rowNumber\" style = \"font-weight: bold; text-align: right;\">10</td><td style = \"text-align: left;\">Powerful Martini</td><td style = \"text-align: right;\">8</td><td style = \"text-align: right;\">5</td><td style = \"text-align: right;\">24</td><td style = \"text-align: right;\">33</td></tr></tbody></table></div>"
      ],
      "text/latex": [
       "\\begin{tabular}{r|ccccc}\n",
       "\t& name & h & f & l & t\\\\\n",
       "\t\\hline\n",
       "\t& String & Int64 & Int64 & Int64 & Int64\\\\\n",
       "\t\\hline\n",
       "\t1 & Kashtyn the Blimp & 26 & 7 & 7 & 5 \\\\\n",
       "\t2 & Maelia the Notebook & 10 & 16 & 11 & 8 \\\\\n",
       "\t3 & Super Duck & 14 & 8 & 7 & 23 \\\\\n",
       "\t4 & Fiery Duck & 15 & 13 & 3 & 12 \\\\\n",
       "\t5 & Pug Maryjean & 11 & 20 & 9 & 4 \\\\\n",
       "\t6 & Magnificent Urchin & 4 & 29 & 20 & 7 \\\\\n",
       "\t7 & Nice Scorpion & 11 & 18 & 10 & 5 \\\\\n",
       "\t8 & Disciplined Yak & 12 & 3 & 22 & 33 \\\\\n",
       "\t9 & Friendly Jaelyn & 5 & 9 & 51 & 11 \\\\\n",
       "\t10 & Powerful Martini & 8 & 5 & 24 & 33 \\\\\n",
       "\\end{tabular}\n"
      ],
      "text/plain": [
       "\u001b[1m10×5 DataFrame\u001b[0m\n",
       "\u001b[1m Row \u001b[0m│\u001b[1m name                \u001b[0m\u001b[1m h     \u001b[0m\u001b[1m f     \u001b[0m\u001b[1m l     \u001b[0m\u001b[1m t     \u001b[0m\n",
       "     │\u001b[90m String              \u001b[0m\u001b[90m Int64 \u001b[0m\u001b[90m Int64 \u001b[0m\u001b[90m Int64 \u001b[0m\u001b[90m Int64 \u001b[0m\n",
       "─────┼─────────────────────────────────────────────────\n",
       "   1 │ Kashtyn the Blimp       26      7      7      5\n",
       "   2 │ Maelia the Notebook     10     16     11      8\n",
       "   3 │ Super Duck              14      8      7     23\n",
       "   4 │ Fiery Duck              15     13      3     12\n",
       "   5 │ Pug Maryjean            11     20      9      4\n",
       "   6 │ Magnificent Urchin       4     29     20      7\n",
       "   7 │ Nice Scorpion           11     18     10      5\n",
       "   8 │ Disciplined Yak         12      3     22     33\n",
       "   9 │ Friendly Jaelyn          5      9     51     11\n",
       "  10 │ Powerful Martini         8      5     24     33"
      ]
     },
     "execution_count": 361,
     "metadata": {},
     "output_type": "execute_result"
    }
   ],
   "source": [
    "rt = random_team(() -> rand_rename(random_scheme_a()), 100)\n",
    "fighters_to_df(rt)[1:10, :]"
   ]
  },
  {
   "cell_type": "code",
   "execution_count": 362,
   "id": "8ceea0f3",
   "metadata": {},
   "outputs": [
    {
     "data": {
      "text/html": [
       "<div><div style = \"float: left;\"><span>10×5 DataFrame</span></div><div style = \"clear: both;\"></div></div><div class = \"data-frame\" style = \"overflow-x: scroll;\"><table class = \"data-frame\" style = \"margin-bottom: 6px;\"><thead><tr class = \"header\"><th class = \"rowNumber\" style = \"font-weight: bold; text-align: right;\">Row</th><th style = \"text-align: left;\">name</th><th style = \"text-align: left;\">h</th><th style = \"text-align: left;\">f</th><th style = \"text-align: left;\">l</th><th style = \"text-align: left;\">t</th></tr><tr class = \"subheader headerLastRow\"><th class = \"rowNumber\" style = \"font-weight: bold; text-align: right;\"></th><th title = \"String\" style = \"text-align: left;\">String</th><th title = \"Int64\" style = \"text-align: left;\">Int64</th><th title = \"Int64\" style = \"text-align: left;\">Int64</th><th title = \"Int64\" style = \"text-align: left;\">Int64</th><th title = \"Int64\" style = \"text-align: left;\">Int64</th></tr></thead><tbody><tr><td class = \"rowNumber\" style = \"font-weight: bold; text-align: right;\">1</td><td style = \"text-align: left;\">Xpanded Airplane</td><td style = \"text-align: right;\">16</td><td style = \"text-align: right;\">10</td><td style = \"text-align: right;\">8</td><td style = \"text-align: right;\">11</td></tr><tr><td class = \"rowNumber\" style = \"font-weight: bold; text-align: right;\">2</td><td style = \"text-align: left;\">Leopard Jathniel</td><td style = \"text-align: right;\">10</td><td style = \"text-align: right;\">11</td><td style = \"text-align: right;\">7</td><td style = \"text-align: right;\">20</td></tr><tr><td class = \"rowNumber\" style = \"font-weight: bold; text-align: right;\">3</td><td style = \"text-align: left;\">Dynamic Loretta</td><td style = \"text-align: right;\">11</td><td style = \"text-align: right;\">11</td><td style = \"text-align: right;\">12</td><td style = \"text-align: right;\">13</td></tr><tr><td class = \"rowNumber\" style = \"font-weight: bold; text-align: right;\">4</td><td style = \"text-align: left;\">Gallant Pizza</td><td style = \"text-align: right;\">8</td><td style = \"text-align: right;\">15</td><td style = \"text-align: right;\">10</td><td style = \"text-align: right;\">13</td></tr><tr><td class = \"rowNumber\" style = \"font-weight: bold; text-align: right;\">5</td><td style = \"text-align: left;\">Hoor the Dynamic</td><td style = \"text-align: right;\">14</td><td style = \"text-align: right;\">10</td><td style = \"text-align: right;\">11</td><td style = \"text-align: right;\">10</td></tr><tr><td class = \"rowNumber\" style = \"font-weight: bold; text-align: right;\">6</td><td style = \"text-align: left;\">Kitten Cylia</td><td style = \"text-align: right;\">17</td><td style = \"text-align: right;\">7</td><td style = \"text-align: right;\">12</td><td style = \"text-align: right;\">11</td></tr><tr><td class = \"rowNumber\" style = \"font-weight: bold; text-align: right;\">7</td><td style = \"text-align: left;\">Boot Rainy</td><td style = \"text-align: right;\">11</td><td style = \"text-align: right;\">16</td><td style = \"text-align: right;\">2</td><td style = \"text-align: right;\">12</td></tr><tr><td class = \"rowNumber\" style = \"font-weight: bold; text-align: right;\">8</td><td style = \"text-align: left;\">Maiara the Cube</td><td style = \"text-align: right;\">13</td><td style = \"text-align: right;\">10</td><td style = \"text-align: right;\">10</td><td style = \"text-align: right;\">14</td></tr><tr><td class = \"rowNumber\" style = \"font-weight: bold; text-align: right;\">9</td><td style = \"text-align: left;\">Kangaroo Bo</td><td style = \"text-align: right;\">25</td><td style = \"text-align: right;\">11</td><td style = \"text-align: right;\">4</td><td style = \"text-align: right;\">2</td></tr><tr><td class = \"rowNumber\" style = \"font-weight: bold; text-align: right;\">10</td><td style = \"text-align: left;\">Shy Giulian</td><td style = \"text-align: right;\">19</td><td style = \"text-align: right;\">9</td><td style = \"text-align: right;\">11</td><td style = \"text-align: right;\">2</td></tr></tbody></table></div>"
      ],
      "text/latex": [
       "\\begin{tabular}{r|ccccc}\n",
       "\t& name & h & f & l & t\\\\\n",
       "\t\\hline\n",
       "\t& String & Int64 & Int64 & Int64 & Int64\\\\\n",
       "\t\\hline\n",
       "\t1 & Xpanded Airplane & 16 & 10 & 8 & 11 \\\\\n",
       "\t2 & Leopard Jathniel & 10 & 11 & 7 & 20 \\\\\n",
       "\t3 & Dynamic Loretta & 11 & 11 & 12 & 13 \\\\\n",
       "\t4 & Gallant Pizza & 8 & 15 & 10 & 13 \\\\\n",
       "\t5 & Hoor the Dynamic & 14 & 10 & 11 & 10 \\\\\n",
       "\t6 & Kitten Cylia & 17 & 7 & 12 & 11 \\\\\n",
       "\t7 & Boot Rainy & 11 & 16 & 2 & 12 \\\\\n",
       "\t8 & Maiara the Cube & 13 & 10 & 10 & 14 \\\\\n",
       "\t9 & Kangaroo Bo & 25 & 11 & 4 & 2 \\\\\n",
       "\t10 & Shy Giulian & 19 & 9 & 11 & 2 \\\\\n",
       "\\end{tabular}\n"
      ],
      "text/plain": [
       "\u001b[1m10×5 DataFrame\u001b[0m\n",
       "\u001b[1m Row \u001b[0m│\u001b[1m name             \u001b[0m\u001b[1m h     \u001b[0m\u001b[1m f     \u001b[0m\u001b[1m l     \u001b[0m\u001b[1m t     \u001b[0m\n",
       "     │\u001b[90m String           \u001b[0m\u001b[90m Int64 \u001b[0m\u001b[90m Int64 \u001b[0m\u001b[90m Int64 \u001b[0m\u001b[90m Int64 \u001b[0m\n",
       "─────┼──────────────────────────────────────────────\n",
       "   1 │ Xpanded Airplane     16     10      8     11\n",
       "   2 │ Leopard Jathniel     10     11      7     20\n",
       "   3 │ Dynamic Loretta      11     11     12     13\n",
       "   4 │ Gallant Pizza         8     15     10     13\n",
       "   5 │ Hoor the Dynamic     14     10     11     10\n",
       "   6 │ Kitten Cylia         17      7     12     11\n",
       "   7 │ Boot Rainy           11     16      2     12\n",
       "   8 │ Maiara the Cube      13     10     10     14\n",
       "   9 │ Kangaroo Bo          25     11      4      2\n",
       "  10 │ Shy Giulian          19      9     11      2"
      ]
     },
     "execution_count": 362,
     "metadata": {},
     "output_type": "execute_result"
    }
   ],
   "source": [
    "counters = random_team(() -> pick_best_rdmly(library, rt, 9), 50)\n",
    "fighters_to_df(counters)[1:10, :]"
   ]
  },
  {
   "cell_type": "code",
   "execution_count": 363,
   "id": "dbd44c87",
   "metadata": {},
   "outputs": [
    {
     "name": "stdout",
     "output_type": "stream",
     "text": [
      "Fighter(\"Maelia the Notebook\", 10, 16, 11, 8)\n",
      "-36\n",
      "Fighter(\"Magnificent Urchin\", 4, 29, 20, 7)\n",
      "-36\n",
      "Fighter(\"Friendly Jaelyn\", 5, 9, 51, 11)\n",
      "-46\n",
      "Fighter(\"Powerful Martini\", 8, 5, 24, 33)\n",
      "-36\n",
      "Fighter(\"Lorraina the Heroic\", 6, 29, 3, 7)\n",
      "-42\n",
      "Fighter(\"Dangerous Nayleah\", 6, 5, 15, 56)\n",
      "-40\n",
      "Fighter(\"Ahnika the Good\", 5, 13, 56, 4)\n",
      "-50\n",
      "Fighter(\"Sassy Robot\", 6, 27, 8, 7)\n",
      "-42\n",
      "Fighter(\"Joker Aramis\", 7, 6, 30, 24)\n",
      "-40\n",
      "Fighter(\"Iguana Ailyn\", 6, 28, 20, 4)\n",
      "-46\n",
      "Fighter(\"Olivier the Xtraverted\", 6, 23, 13, 8)\n",
      "-36\n",
      "Fighter(\"Astou the Noble\", 7, 6, 39, 14)\n",
      "-46\n",
      "Fighter(\"Dearri the Frog\", 10, 22, 9, 4)\n",
      "-36\n",
      "Fighter(\"Karston the Koala\", 10, 8, 29, 3)\n",
      "-36\n",
      "Fighter(\"Good Khora\", 6, 8, 46, 9)\n",
      "-50\n",
      "Fighter(\"Commander Dafne\", 10, 18, 11, 6)\n",
      "-38\n",
      "Fighter(\"Hadasa the Jackpot\", 8, 7, 40, 3)\n",
      "-46\n",
      "Fighter(\"Balanced Davone\", 10, 17, 16, 4)\n",
      "-36\n",
      "Fighter(\"Adel the Iguana\", 7, 27, 7, 6)\n",
      "-42\n",
      "Fighter(\"Magnificent Quilt\", 5, 25, 25, 6)\n",
      "-42\n",
      "Fighter(\"Likable Ninja\", 9, 18, 18, 4)\n",
      "-38\n",
      "Fighter(\"Colin the Diamond\", 5, 6, 60, 11)\n",
      "-50\n",
      "Fighter(\"Curious Calvert\", 7, 21, 15, 7)\n",
      "-38\n",
      "Fighter(\"Soma the Icicle\", 8, 6, 2, 56)\n",
      "-40\n",
      "Fighter(\"Funny Kambry\", 6, 5, 52, 11)\n",
      "-50\n",
      "Fighter(\"Giant Worthy\", 8, 6, 5, 52)\n",
      "-40\n"
     ]
    }
   ],
   "source": [
    "for f in rt\n",
    "    v = eval_battle_list(f, counters)\n",
    "    if v < -35\n",
    "        println(f)\n",
    "        println(v)\n",
    "    end\n",
    "end"
   ]
  },
  {
   "cell_type": "code",
   "execution_count": 364,
   "id": "9bd1e936",
   "metadata": {},
   "outputs": [
    {
     "name": "stdout",
     "output_type": "stream",
     "text": [
      "Fighter(\"Generous Mosquito\", 18, 9, 12, 2)\n",
      "26\n",
      "Fighter(\"Flirtatious Mylani\", 19, 10, 9, 3)\n",
      "16\n",
      "Fighter(\"True the Rogue\", 20, 10, 9, 2)\n",
      "24\n",
      "Fighter(\"Rahel the Triangle\", 6, 15, 9, 17)\n",
      "18\n",
      "Fighter(\"Shy Mango\", 21, 9, 9, 2)\n",
      "22\n",
      "Fighter(\"Wise Reesa\", 17, 14, 6, 4)\n",
      "16\n",
      "Fighter(\"Dynamic Mushroom\", 17, 6, 12, 15)\n",
      "28\n",
      "Fighter(\"Willful Violet\", 20, 9, 9, 4)\n",
      "22\n",
      "Fighter(\"Dedrick the Mosquito\", 17, 15, 6, 2)\n",
      "18\n"
     ]
    }
   ],
   "source": [
    "for f in rt\n",
    "    v = eval_battle_list(f, counters)\n",
    "    if v > 10\n",
    "        println(f)\n",
    "        println(v)\n",
    "    end\n",
    "end"
   ]
  },
  {
   "cell_type": "code",
   "execution_count": 396,
   "id": "3358f0e4",
   "metadata": {},
   "outputs": [
    {
     "data": {
      "text/plain": [
       "-0.5465"
      ]
     },
     "execution_count": 396,
     "metadata": {},
     "output_type": "execute_result"
    }
   ],
   "source": [
    "evaluate_generator(random_fighter, 100, 20)"
   ]
  },
  {
   "cell_type": "code",
   "execution_count": 397,
   "id": "66bbd8ab",
   "metadata": {},
   "outputs": [
    {
     "data": {
      "text/plain": [
       "-0.5635"
      ]
     },
     "execution_count": 397,
     "metadata": {},
     "output_type": "execute_result"
    }
   ],
   "source": [
    "evaluate_generator(random_scheme_a, 100, 20)"
   ]
  },
  {
   "cell_type": "code",
   "execution_count": 398,
   "id": "cb9a9f36",
   "metadata": {},
   "outputs": [
    {
     "data": {
      "text/plain": [
       "-0.53"
      ]
     },
     "execution_count": 398,
     "metadata": {},
     "output_type": "execute_result"
    }
   ],
   "source": [
    "evaluate_generator(() -> random_tournament_winner(1), 100, 20)"
   ]
  },
  {
   "cell_type": "code",
   "execution_count": 399,
   "id": "1c34a0bb",
   "metadata": {},
   "outputs": [
    {
     "data": {
      "text/plain": [
       "-0.504"
      ]
     },
     "execution_count": 399,
     "metadata": {},
     "output_type": "execute_result"
    }
   ],
   "source": [
    "evaluate_generator(() -> random_tournament_winner(2), 100, 20)"
   ]
  },
  {
   "cell_type": "code",
   "execution_count": 401,
   "id": "ce7d4c91",
   "metadata": {},
   "outputs": [
    {
     "data": {
      "text/plain": [
       "-0.48850000000000016"
      ]
     },
     "execution_count": 401,
     "metadata": {},
     "output_type": "execute_result"
    }
   ],
   "source": [
    "evaluate_generator(() -> random_tournament_winner(3), 100, 20)"
   ]
  },
  {
   "cell_type": "code",
   "execution_count": 402,
   "id": "a1349341",
   "metadata": {},
   "outputs": [
    {
     "data": {
      "text/plain": [
       "-0.5385000000000001"
      ]
     },
     "execution_count": 402,
     "metadata": {},
     "output_type": "execute_result"
    }
   ],
   "source": [
    "evaluate_generator(() -> random_tournament_winner(4), 100, 20)"
   ]
  },
  {
   "cell_type": "code",
   "execution_count": null,
   "id": "5c177d9e",
   "metadata": {},
   "outputs": [],
   "source": []
  }
 ],
 "metadata": {
  "kernelspec": {
   "display_name": "Julia 1.9.3",
   "language": "julia",
   "name": "julia-1.9"
  },
  "language_info": {
   "file_extension": ".jl",
   "mimetype": "application/julia",
   "name": "julia",
   "version": "1.9.3"
  }
 },
 "nbformat": 4,
 "nbformat_minor": 5
}

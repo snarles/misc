{
 "cells": [
  {
   "cell_type": "code",
   "execution_count": 29,
   "id": "560e9539",
   "metadata": {},
   "outputs": [
    {
     "data": {
      "text/plain": [
       "fighters_to_df (generic function with 1 method)"
      ]
     },
     "execution_count": 29,
     "metadata": {},
     "output_type": "execute_result"
    }
   ],
   "source": [
    "using Random\n",
    "using DataFrames\n",
    "using CSV\n",
    "\n",
    "struct Fighter\n",
    "    name::String\n",
    "    h::Int16\n",
    "    f::Int16\n",
    "    l::Int16\n",
    "    t::Int16\n",
    "end\n",
    "\n",
    "const MXS = 400\n",
    "const MXV = 40\n",
    "const MNV = 2\n",
    "\n",
    "function random_fighter(h0::Int = MNV, f0::Int = MNV, l0::Int = MNV, t0::Int = MNV)::Fighter\n",
    "    flag = true\n",
    "    while flag\n",
    "        h = h0 + rand(0:(MXV - h0), 1)[1]\n",
    "        f = f0 + rand(0:(MXV - f0), 1)[1]\n",
    "        l = l0 + rand(0:(MXV - l0), 1)[1]\n",
    "        t = t0 + rand(0:(MXV - t0), 1)[1]\n",
    "        mm = minimum([h, f])\n",
    "        budget = h*f+h*l+f*t\n",
    "        if budget <= MXS && budget + mm > MXS\n",
    "            flag = false\n",
    "            return Fighter(\"No Name\", h, f, l, t)\n",
    "        end\n",
    "    end\n",
    "end\n",
    "\n",
    "function eval_battle(a::Fighter, b::Fighter)::Int\n",
    "    a_finds = a.f >= b.h\n",
    "    b_finds = b.f >= a.h\n",
    "    if a_finds && b_finds\n",
    "        if a.t > b.t\n",
    "            return 1\n",
    "        end\n",
    "        if a.t < b.t\n",
    "            return -1\n",
    "        end\n",
    "        if a.t == b.t\n",
    "            if a.l > b.l\n",
    "                return 1\n",
    "            end\n",
    "            if a.l < b.l\n",
    "                return -1\n",
    "            end\n",
    "            if a.l == b.l\n",
    "                if a.h > b.h\n",
    "                    return 1\n",
    "                end\n",
    "                if a.h < b.h\n",
    "                    return -1\n",
    "                end\n",
    "                if a.h == b.h\n",
    "                    return 0\n",
    "                end\n",
    "            end\n",
    "        end\n",
    "    end\n",
    "    if a_finds && !b_finds\n",
    "        return 1\n",
    "    end\n",
    "    if !a_finds && b_finds\n",
    "        return -1\n",
    "    end\n",
    "    if !a_finds && !b_finds\n",
    "        if a.l > b.l\n",
    "            return 1\n",
    "        end\n",
    "        if a.l < b.l\n",
    "            return -1\n",
    "        end\n",
    "        if a.l == b.l\n",
    "            if a.t > b.t\n",
    "                return 1\n",
    "            end\n",
    "            if a.t < b.t\n",
    "                return -1\n",
    "            end\n",
    "            if a.t == b.t\n",
    "                if a.f > b.f\n",
    "                    return 1\n",
    "                end\n",
    "                if a.f < b.f\n",
    "                    return -1\n",
    "                end\n",
    "                if a.f == b.f\n",
    "                    return 0\n",
    "                end\n",
    "            end\n",
    "        end\n",
    "    end\n",
    "end\n",
    "\n",
    "function random_tournament_winner(c::Int)::Fighter\n",
    "    if c==0\n",
    "        return random_fighter()\n",
    "    end\n",
    "    a = random_tournament_winner(c-1)\n",
    "    b = random_tournament_winner(c-1)\n",
    "    res = eval_battle(a, b)\n",
    "    if res == 1\n",
    "        return a\n",
    "    else\n",
    "        return b\n",
    "    end\n",
    "end\n",
    "\n",
    "\n",
    "tab = CSV.read(\"census_yob2022_names.txt\", DataFrame, header = false)\n",
    "names = tab.Column1\n",
    "adjectives = CSV.read(\"adjectives.csv\", DataFrame)\n",
    "nouns = CSV.read(\"nouns.csv\", DataFrame)\n",
    "\n",
    "function random_name_and_stat()::Fighter\n",
    "    vp = [0, 0, 0, 0]\n",
    "    nametype = rand(1:5)\n",
    "    name = \"\"\n",
    "    if nametype == 1 || nametype == 2\n",
    "        nm = rand(names)\n",
    "        adj_i = rand(1:nrow(adjectives))\n",
    "        adj = adjectives[adj_i, :adjective]\n",
    "        vp[1] = vp[1] + adjectives[adj_i, :H]\n",
    "        vp[2] = vp[2] + adjectives[adj_i, :F]\n",
    "        vp[3] = vp[3] + adjectives[adj_i, :L]\n",
    "        vp[4] = vp[4] + adjectives[adj_i, :T]\n",
    "        if nametype == 1\n",
    "            name = string(nm, \" the \", adj)\n",
    "        end\n",
    "        if nametype == 2\n",
    "            name = string(adj, \" \", nm)\n",
    "        end\n",
    "    end\n",
    "    if nametype == 3 || nametype == 4\n",
    "        nm = rand(names)\n",
    "        noun_i = rand(1:nrow(nouns))\n",
    "        noun = nouns[noun_i, :noun]\n",
    "        vp[1] = vp[1] + nouns[noun_i, :H]\n",
    "        vp[2] = vp[2] + nouns[noun_i, :F]\n",
    "        vp[3] = vp[3] + nouns[noun_i, :L]\n",
    "        vp[4] = vp[4] + nouns[noun_i, :T]    \n",
    "        if nametype == 3\n",
    "            name = string(nm, \" the \", noun)\n",
    "        end\n",
    "        if nametype == 4\n",
    "            name = string(noun, \" \", nm)\n",
    "        end\n",
    "    end\n",
    "    if nametype == 5\n",
    "        adj_i = rand(1:nrow(adjectives))\n",
    "        adj = adjectives[adj_i, :adjective]\n",
    "        vp[1] = vp[1] + adjectives[adj_i, :H]\n",
    "        vp[2] = vp[2] + adjectives[adj_i, :F]\n",
    "        vp[3] = vp[3] + adjectives[adj_i, :L]\n",
    "        vp[4] = vp[4] + adjectives[adj_i, :T]\n",
    "        noun_i = rand(1:nrow(nouns))\n",
    "        noun = nouns[noun_i, :noun]\n",
    "        vp[1] = vp[1] + nouns[noun_i, :H]\n",
    "        vp[2] = vp[2] + nouns[noun_i, :F]\n",
    "        vp[3] = vp[3] + nouns[noun_i, :L]\n",
    "        vp[4] = vp[4] + nouns[noun_i, :T]    \n",
    "        name = string(adj, \" \", noun)\n",
    "    end\n",
    "    Fighter(name, vp[1], vp[2], vp[3], vp[4])\n",
    "end\n",
    "\n",
    "function rand_rename(a::Fighter, n_tries::Int = 10)::Fighter\n",
    "    best_score = 0.0\n",
    "    best_b = random_name_and_stat()\n",
    "    for ii in 1:n_tries\n",
    "        b = random_name_and_stat()\n",
    "        b_norm = sqrt(b.h^2 + b.f^2 + b.l^2 + b.t^2)\n",
    "        score = (a.h * b.h + a.f * b.f + a.l * b.l + a.t * b.t)/b_norm\n",
    "        if score > best_score\n",
    "            best_score = score\n",
    "            best_b = b\n",
    "        end\n",
    "    end\n",
    "    return Fighter(best_b.name, a.h, a.f, a.l, a.t)\n",
    "end\n",
    "\n",
    "function eval_battle_list(a::Fighter, bs::Array{Fighter})::Int\n",
    "    score = 0\n",
    "    for ii in 1:length(bs)\n",
    "        score = score + eval_battle(a, bs[ii])\n",
    "    end\n",
    "    return score\n",
    "end\n",
    "\n",
    "function pick_best(as::Array{Fighter}, bs::Array{Fighter})::Fighter\n",
    "    bestscore = -999\n",
    "    bestf = as[1]\n",
    "    for ii in 1:length(as)\n",
    "        score = eval_battle_list(as[ii], bs)\n",
    "        if score > bestscore\n",
    "            bestscore = score\n",
    "            bestf = as[ii]\n",
    "        end\n",
    "    end\n",
    "    return bestf\n",
    "end\n",
    "\n",
    "function pick_best_rdmly(as::Array{Fighter}, bs::Array{Fighter}, ntries::Int)::Fighter\n",
    "    bestscore = -999\n",
    "    bestf = rand(as)\n",
    "    for ii in 1:ntries\n",
    "        f = rand(as)\n",
    "        score = eval_battle_list(f, bs)\n",
    "        if score > bestscore\n",
    "            bestscore = score\n",
    "            bestf = f\n",
    "        end\n",
    "    end\n",
    "    return bestf\n",
    "end\n",
    "\n",
    "function fighters_to_df(as::Array{Fighter})::DataFrame\n",
    "    names = Array{String}(undef, length(as))\n",
    "    hs = Array{Int}(undef, length(as))\n",
    "    fs = Array{Int}(undef, length(as))\n",
    "    ls = Array{Int}(undef, length(as))\n",
    "    ts = Array{Int}(undef, length(as))\n",
    "    for ii in 1:length(as)\n",
    "        names[ii] = as[ii].name\n",
    "        hs[ii] = as[ii].h\n",
    "        fs[ii] = as[ii].f\n",
    "        ls[ii] = as[ii].l\n",
    "        ts[ii] = as[ii].t    \n",
    "    end\n",
    "    df = DataFrame(name = names, h = hs, f = fs, l = ls, t = ts)\n",
    "    return df\n",
    "end"
   ]
  },
  {
   "cell_type": "code",
   "execution_count": 28,
   "id": "3bef2eb0",
   "metadata": {},
   "outputs": [],
   "source": [
    "library = Array{Fighter}(undef, 100000)\n",
    "for ii in 1:length(library)\n",
    "    library[ii] = rand_rename(random_fighter())\n",
    "end"
   ]
  },
  {
   "cell_type": "markdown",
   "id": "174ced65",
   "metadata": {},
   "source": [
    "## Is the library large enough to find counters to large fighter sets?"
   ]
  },
  {
   "cell_type": "code",
   "execution_count": 33,
   "id": "85477078",
   "metadata": {},
   "outputs": [],
   "source": [
    "bs = Array{Fighter}(undef, 10)\n",
    "for ii in 1:length(bs)\n",
    "    bs[ii] = rand_rename(random_tournament_winner(8))\n",
    "end"
   ]
  },
  {
   "cell_type": "code",
   "execution_count": 34,
   "id": "683b2c41",
   "metadata": {},
   "outputs": [
    {
     "data": {
      "text/html": [
       "<div><div style = \"float: left;\"><span>10×5 DataFrame</span></div><div style = \"clear: both;\"></div></div><div class = \"data-frame\" style = \"overflow-x: scroll;\"><table class = \"data-frame\" style = \"margin-bottom: 6px;\"><thead><tr class = \"header\"><th class = \"rowNumber\" style = \"font-weight: bold; text-align: right;\">Row</th><th style = \"text-align: left;\">name</th><th style = \"text-align: left;\">h</th><th style = \"text-align: left;\">f</th><th style = \"text-align: left;\">l</th><th style = \"text-align: left;\">t</th></tr><tr class = \"subheader headerLastRow\"><th class = \"rowNumber\" style = \"font-weight: bold; text-align: right;\"></th><th title = \"String\" style = \"text-align: left;\">String</th><th title = \"Int64\" style = \"text-align: left;\">Int64</th><th title = \"Int64\" style = \"text-align: left;\">Int64</th><th title = \"Int64\" style = \"text-align: left;\">Int64</th><th title = \"Int64\" style = \"text-align: left;\">Int64</th></tr></thead><tbody><tr><td class = \"rowNumber\" style = \"font-weight: bold; text-align: right;\">1</td><td style = \"text-align: left;\">Irys the Agile</td><td style = \"text-align: right;\">14</td><td style = \"text-align: right;\">17</td><td style = \"text-align: right;\">3</td><td style = \"text-align: right;\">7</td></tr><tr><td class = \"rowNumber\" style = \"font-weight: bold; text-align: right;\">2</td><td style = \"text-align: left;\">Funny Wolf</td><td style = \"text-align: right;\">10</td><td style = \"text-align: right;\">9</td><td style = \"text-align: right;\">15</td><td style = \"text-align: right;\">17</td></tr><tr><td class = \"rowNumber\" style = \"font-weight: bold; text-align: right;\">3</td><td style = \"text-align: left;\">Agile Adiline</td><td style = \"text-align: right;\">20</td><td style = \"text-align: right;\">14</td><td style = \"text-align: right;\">4</td><td style = \"text-align: right;\">2</td></tr><tr><td class = \"rowNumber\" style = \"font-weight: bold; text-align: right;\">4</td><td style = \"text-align: left;\">Naughty Lucelia</td><td style = \"text-align: right;\">15</td><td style = \"text-align: right;\">20</td><td style = \"text-align: right;\">4</td><td style = \"text-align: right;\">2</td></tr><tr><td class = \"rowNumber\" style = \"font-weight: bold; text-align: right;\">5</td><td style = \"text-align: left;\">Mionna the Scorpion</td><td style = \"text-align: right;\">15</td><td style = \"text-align: right;\">16</td><td style = \"text-align: right;\">2</td><td style = \"text-align: right;\">8</td></tr><tr><td class = \"rowNumber\" style = \"font-weight: bold; text-align: right;\">6</td><td style = \"text-align: left;\">Elegant Yaliyah</td><td style = \"text-align: right;\">14</td><td style = \"text-align: right;\">11</td><td style = \"text-align: right;\">16</td><td style = \"text-align: right;\">2</td></tr><tr><td class = \"rowNumber\" style = \"font-weight: bold; text-align: right;\">7</td><td style = \"text-align: left;\">Wonderous Pteranodon</td><td style = \"text-align: right;\">16</td><td style = \"text-align: right;\">2</td><td style = \"text-align: right;\">22</td><td style = \"text-align: right;\">8</td></tr><tr><td class = \"rowNumber\" style = \"font-weight: bold; text-align: right;\">8</td><td style = \"text-align: left;\">Noble Enara</td><td style = \"text-align: right;\">3</td><td style = \"text-align: right;\">13</td><td style = \"text-align: right;\">25</td><td style = \"text-align: right;\">22</td></tr><tr><td class = \"rowNumber\" style = \"font-weight: bold; text-align: right;\">9</td><td style = \"text-align: left;\">Anilah the Fish</td><td style = \"text-align: right;\">19</td><td style = \"text-align: right;\">9</td><td style = \"text-align: right;\">11</td><td style = \"text-align: right;\">2</td></tr><tr><td class = \"rowNumber\" style = \"font-weight: bold; text-align: right;\">10</td><td style = \"text-align: left;\">Ostrich Kynzley</td><td style = \"text-align: right;\">14</td><td style = \"text-align: right;\">17</td><td style = \"text-align: right;\">5</td><td style = \"text-align: right;\">5</td></tr></tbody></table></div>"
      ],
      "text/latex": [
       "\\begin{tabular}{r|ccccc}\n",
       "\t& name & h & f & l & t\\\\\n",
       "\t\\hline\n",
       "\t& String & Int64 & Int64 & Int64 & Int64\\\\\n",
       "\t\\hline\n",
       "\t1 & Irys the Agile & 14 & 17 & 3 & 7 \\\\\n",
       "\t2 & Funny Wolf & 10 & 9 & 15 & 17 \\\\\n",
       "\t3 & Agile Adiline & 20 & 14 & 4 & 2 \\\\\n",
       "\t4 & Naughty Lucelia & 15 & 20 & 4 & 2 \\\\\n",
       "\t5 & Mionna the Scorpion & 15 & 16 & 2 & 8 \\\\\n",
       "\t6 & Elegant Yaliyah & 14 & 11 & 16 & 2 \\\\\n",
       "\t7 & Wonderous Pteranodon & 16 & 2 & 22 & 8 \\\\\n",
       "\t8 & Noble Enara & 3 & 13 & 25 & 22 \\\\\n",
       "\t9 & Anilah the Fish & 19 & 9 & 11 & 2 \\\\\n",
       "\t10 & Ostrich Kynzley & 14 & 17 & 5 & 5 \\\\\n",
       "\\end{tabular}\n"
      ],
      "text/plain": [
       "\u001b[1m10×5 DataFrame\u001b[0m\n",
       "\u001b[1m Row \u001b[0m│\u001b[1m name                 \u001b[0m\u001b[1m h     \u001b[0m\u001b[1m f     \u001b[0m\u001b[1m l     \u001b[0m\u001b[1m t     \u001b[0m\n",
       "     │\u001b[90m String               \u001b[0m\u001b[90m Int64 \u001b[0m\u001b[90m Int64 \u001b[0m\u001b[90m Int64 \u001b[0m\u001b[90m Int64 \u001b[0m\n",
       "─────┼──────────────────────────────────────────────────\n",
       "   1 │ Irys the Agile           14     17      3      7\n",
       "   2 │ Funny Wolf               10      9     15     17\n",
       "   3 │ Agile Adiline            20     14      4      2\n",
       "   4 │ Naughty Lucelia          15     20      4      2\n",
       "   5 │ Mionna the Scorpion      15     16      2      8\n",
       "   6 │ Elegant Yaliyah          14     11     16      2\n",
       "   7 │ Wonderous Pteranodon     16      2     22      8\n",
       "   8 │ Noble Enara               3     13     25     22\n",
       "   9 │ Anilah the Fish          19      9     11      2\n",
       "  10 │ Ostrich Kynzley          14     17      5      5"
      ]
     },
     "execution_count": 34,
     "metadata": {},
     "output_type": "execute_result"
    }
   ],
   "source": [
    "fighters_to_df(bs)"
   ]
  },
  {
   "cell_type": "code",
   "execution_count": 35,
   "id": "2c595648",
   "metadata": {},
   "outputs": [
    {
     "data": {
      "text/plain": [
       "Fighter(\"Coder Nicolo\", 18, 16, 4, 2)"
      ]
     },
     "execution_count": 35,
     "metadata": {},
     "output_type": "execute_result"
    }
   ],
   "source": [
    "a = pick_best(library, bs)"
   ]
  },
  {
   "cell_type": "code",
   "execution_count": 36,
   "id": "ba6920af",
   "metadata": {},
   "outputs": [
    {
     "data": {
      "text/plain": [
       "8"
      ]
     },
     "execution_count": 36,
     "metadata": {},
     "output_type": "execute_result"
    }
   ],
   "source": [
    "eval_battle_list(a, bs)"
   ]
  },
  {
   "cell_type": "markdown",
   "id": "f7b1a041",
   "metadata": {},
   "source": [
    "## Do higher tournament winners have an advantage over the max entropy distribution?"
   ]
  },
  {
   "cell_type": "code",
   "execution_count": 166,
   "id": "dfc41fc0",
   "metadata": {},
   "outputs": [
    {
     "data": {
      "text/plain": [
       "0.082"
      ]
     },
     "execution_count": 166,
     "metadata": {},
     "output_type": "execute_result"
    }
   ],
   "source": [
    "sum = 0\n",
    "for ii in 1:10000\n",
    "    a = rand_rename(random_tournament_winner(1))\n",
    "    b = rand_rename(random_tournament_winner(0))\n",
    "    # println(a)\n",
    "    # println(b)\n",
    "    res = eval_battle(a, b)\n",
    "    # println(res)\n",
    "    sum = sum + res\n",
    "end\n",
    "sum/10000"
   ]
  },
  {
   "cell_type": "code",
   "execution_count": 167,
   "id": "ff576e0c",
   "metadata": {},
   "outputs": [
    {
     "data": {
      "text/plain": [
       "0.0582"
      ]
     },
     "execution_count": 167,
     "metadata": {},
     "output_type": "execute_result"
    }
   ],
   "source": [
    "sum = 0\n",
    "for ii in 1:10000\n",
    "    a = random_tournament_winner(1)\n",
    "    b = random_tournament_winner(0)\n",
    "    # println(a)\n",
    "    # println(b)\n",
    "    res = eval_battle(a, b)\n",
    "    # println(res)\n",
    "    sum = sum + res\n",
    "end\n",
    "sum/10000"
   ]
  },
  {
   "cell_type": "code",
   "execution_count": 168,
   "id": "d5206784",
   "metadata": {},
   "outputs": [
    {
     "data": {
      "text/plain": [
       "0.0909"
      ]
     },
     "execution_count": 168,
     "metadata": {},
     "output_type": "execute_result"
    }
   ],
   "source": [
    "sum = 0\n",
    "for ii in 1:10000\n",
    "    a = random_tournament_winner(2)\n",
    "    b = random_tournament_winner(0)\n",
    "    # println(a)\n",
    "    # println(b)\n",
    "    res = eval_battle(a, b)\n",
    "    # println(res)\n",
    "    sum = sum + res\n",
    "end\n",
    "sum/10000"
   ]
  },
  {
   "cell_type": "code",
   "execution_count": 169,
   "id": "19fdfa48",
   "metadata": {},
   "outputs": [
    {
     "data": {
      "text/plain": [
       "0.1541"
      ]
     },
     "execution_count": 169,
     "metadata": {},
     "output_type": "execute_result"
    }
   ],
   "source": [
    "sum = 0\n",
    "for ii in 1:10000\n",
    "    a = random_tournament_winner(3)\n",
    "    b = random_tournament_winner(0)\n",
    "    # println(a)\n",
    "    # println(b)\n",
    "    res = eval_battle(a, b)\n",
    "    # println(res)\n",
    "    sum = sum + res\n",
    "end\n",
    "sum/10000"
   ]
  },
  {
   "cell_type": "code",
   "execution_count": 170,
   "id": "7ba8e14b",
   "metadata": {},
   "outputs": [
    {
     "data": {
      "text/plain": [
       "0.0615"
      ]
     },
     "execution_count": 170,
     "metadata": {},
     "output_type": "execute_result"
    }
   ],
   "source": [
    "sum = 0\n",
    "for ii in 1:10000\n",
    "    a = random_tournament_winner(3)\n",
    "    b = random_tournament_winner(2)\n",
    "    # println(a)\n",
    "    # println(b)\n",
    "    res = eval_battle(a, b)\n",
    "    # println(res)\n",
    "    sum = sum + res\n",
    "end\n",
    "sum/10000"
   ]
  },
  {
   "cell_type": "code",
   "execution_count": 171,
   "id": "f60349a4",
   "metadata": {},
   "outputs": [
    {
     "data": {
      "text/plain": [
       "0.094"
      ]
     },
     "execution_count": 171,
     "metadata": {},
     "output_type": "execute_result"
    }
   ],
   "source": [
    "sum = 0\n",
    "for ii in 1:1000\n",
    "    a = random_tournament_winner(4)\n",
    "    b = random_tournament_winner(2)\n",
    "    # println(a)\n",
    "    # println(b)\n",
    "    res = eval_battle(a, b)\n",
    "    # println(res)\n",
    "    sum = sum + res\n",
    "end\n",
    "sum/1000"
   ]
  },
  {
   "cell_type": "code",
   "execution_count": 172,
   "id": "69dd25a8",
   "metadata": {},
   "outputs": [
    {
     "data": {
      "text/plain": [
       "0.056"
      ]
     },
     "execution_count": 172,
     "metadata": {},
     "output_type": "execute_result"
    }
   ],
   "source": [
    "sum = 0\n",
    "for ii in 1:1000\n",
    "    a = random_tournament_winner(4)\n",
    "    b = random_tournament_winner(3)\n",
    "    # println(a)\n",
    "    # println(b)\n",
    "    res = eval_battle(a, b)\n",
    "    # println(res)\n",
    "    sum = sum + res\n",
    "end\n",
    "sum/1000"
   ]
  },
  {
   "cell_type": "code",
   "execution_count": 178,
   "id": "5b027836",
   "metadata": {},
   "outputs": [
    {
     "data": {
      "text/plain": [
       "0.069"
      ]
     },
     "execution_count": 178,
     "metadata": {},
     "output_type": "execute_result"
    }
   ],
   "source": [
    "sum = 0\n",
    "for ii in 1:1000\n",
    "    a = random_tournament_winner(5)\n",
    "    b = random_tournament_winner(3)\n",
    "    # println(a)\n",
    "    # println(b)\n",
    "    res = eval_battle(a, b)\n",
    "    # println(res)\n",
    "    sum = sum + res\n",
    "end\n",
    "sum/1000"
   ]
  },
  {
   "cell_type": "code",
   "execution_count": 179,
   "id": "86e8e730",
   "metadata": {},
   "outputs": [
    {
     "name": "stdout",
     "output_type": "stream",
     "text": [
      "Fighter(\"Friendly Dasher\", 2, 14, 25, 23)\n",
      "Fighter(\"Rough Malaiyah\", 6, 8, 5, 40)\n",
      "-1\n"
     ]
    }
   ],
   "source": [
    "a = rand_rename(random_tournament_winner(5))\n",
    "b = rand_rename(random_tournament_winner(3))\n",
    "println(a)\n",
    "println(b)\n",
    "res = eval_battle(a, b)\n",
    "println(res)\n"
   ]
  },
  {
   "cell_type": "code",
   "execution_count": 213,
   "id": "35b7a5fc",
   "metadata": {},
   "outputs": [
    {
     "data": {
      "text/plain": [
       "0.3421"
      ]
     },
     "execution_count": 213,
     "metadata": {},
     "output_type": "execute_result"
    }
   ],
   "source": [
    "sum = 0\n",
    "a = random_tournament_winner(6)\n",
    "for ii in 1:10000\n",
    "    b = random_tournament_winner(0)\n",
    "    # println(a)\n",
    "    # println(b)\n",
    "    res = eval_battle(a, b)\n",
    "    # println(res)\n",
    "    sum = sum + res\n",
    "end\n",
    "sum/10000"
   ]
  },
  {
   "cell_type": "code",
   "execution_count": 214,
   "id": "2449a690",
   "metadata": {},
   "outputs": [
    {
     "data": {
      "text/plain": [
       "Fighter(\"Zesty Pigeon\", 15, 10, 13, 5)"
      ]
     },
     "execution_count": 214,
     "metadata": {},
     "output_type": "execute_result"
    }
   ],
   "source": [
    "rand_rename(a)"
   ]
  },
  {
   "cell_type": "code",
   "execution_count": null,
   "id": "672b2883",
   "metadata": {},
   "outputs": [],
   "source": []
  }
 ],
 "metadata": {
  "kernelspec": {
   "display_name": "Julia 1.9.3",
   "language": "julia",
   "name": "julia-1.9"
  },
  "language_info": {
   "file_extension": ".jl",
   "mimetype": "application/julia",
   "name": "julia",
   "version": "1.9.3"
  }
 },
 "nbformat": 4,
 "nbformat_minor": 5
}

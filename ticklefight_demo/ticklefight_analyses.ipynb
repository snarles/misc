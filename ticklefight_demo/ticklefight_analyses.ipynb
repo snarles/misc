{
 "cells": [
  {
   "cell_type": "code",
   "execution_count": 92,
   "id": "560e9539",
   "metadata": {},
   "outputs": [
    {
     "data": {
      "text/plain": [
       "random_tournament_winner (generic function with 1 method)"
      ]
     },
     "execution_count": 92,
     "metadata": {},
     "output_type": "execute_result"
    }
   ],
   "source": [
    "using Random\n",
    "using DataFrames\n",
    "using CSV\n",
    "\n",
    "struct Fighter\n",
    "    name::String\n",
    "    h::Int16\n",
    "    f::Int16\n",
    "    l::Int16\n",
    "    t::Int16\n",
    "end\n",
    "\n",
    "const MXS = 400\n",
    "const MXV = 40\n",
    "const MNV = 2\n",
    "\n",
    "function random_fighter(h0::Int = MNV, f0::Int = MNV, l0::Int = MNV, t0::Int = MNV)::Fighter\n",
    "    flag = true\n",
    "    while flag\n",
    "        h = h0 + rand(0:(MXV - h0), 1)[1]\n",
    "        f = f0 + rand(0:(MXV - f0), 1)[1]\n",
    "        l = l0 + rand(0:(MXV - l0), 1)[1]\n",
    "        t = t0 + rand(0:(MXV - t0), 1)[1]\n",
    "        mm = minimum([h, f])\n",
    "        budget = h*f+h*l+f*t\n",
    "        if budget <= MXS && budget + mm > MXS\n",
    "            flag = false\n",
    "            return Fighter(\"No Name\", h, f, l, t)\n",
    "        end\n",
    "    end\n",
    "end\n",
    "\n",
    "function eval_battle(a::Fighter, b::Fighter)::Int\n",
    "    a_finds = a.f >= b.h\n",
    "    b_finds = b.f >= a.h\n",
    "    if a_finds && b_finds\n",
    "        if a.t > b.t\n",
    "            return 1\n",
    "        end\n",
    "        if a.t < b.t\n",
    "            return -1\n",
    "        end\n",
    "        if a.t == b.t\n",
    "            if a.l > b.l\n",
    "                return 1\n",
    "            end\n",
    "            if a.l < b.l\n",
    "                return -1\n",
    "            end\n",
    "            if a.l == b.l\n",
    "                if a.h > b.h\n",
    "                    return 1\n",
    "                end\n",
    "                if a.h < b.h\n",
    "                    return -1\n",
    "                end\n",
    "                if a.h == b.h\n",
    "                    return 0\n",
    "                end\n",
    "            end\n",
    "        end\n",
    "    end\n",
    "    if a_finds && !b_finds\n",
    "        return 1\n",
    "    end\n",
    "    if !a_finds && b_finds\n",
    "        return -1\n",
    "    end\n",
    "    if !a_finds && !b_finds\n",
    "        if a.l > b.l\n",
    "            return 1\n",
    "        end\n",
    "        if a.l < b.l\n",
    "            return -1\n",
    "        end\n",
    "        if a.l == b.l\n",
    "            if a.t > b.t\n",
    "                return 1\n",
    "            end\n",
    "            if a.t < b.t\n",
    "                return -1\n",
    "            end\n",
    "            if a.t == b.t\n",
    "                if a.f > b.f\n",
    "                    return 1\n",
    "                end\n",
    "                if a.f < b.f\n",
    "                    return -1\n",
    "                end\n",
    "                if a.f == b.f\n",
    "                    return 0\n",
    "                end\n",
    "            end\n",
    "        end\n",
    "    end\n",
    "end\n",
    "\n",
    "function random_tournament_winner(c::Int)::Fighter\n",
    "    if c==0\n",
    "        return random_fighter()\n",
    "    end\n",
    "    a = random_tournament_winner(c-1)\n",
    "    b = random_tournament_winner(c-1)\n",
    "    res = eval_battle(a, b)\n",
    "    if res == 1\n",
    "        return a\n",
    "    else\n",
    "        return b\n",
    "    end\n",
    "end\n",
    "\n",
    "\n",
    "tab = CSV.read(\"census_yob2022_names.txt\", DataFrame, header = false)\n",
    "names = tab.Column1\n",
    "adjectives = CSV.read(\"adjectives.csv\", DataFrame)\n",
    "nouns = CSV.read(\"nouns.csv\", DataFrame)\n",
    "\n",
    "function random_name_and_stat()::Fighter\n",
    "    vp = [0, 0, 0, 0]\n",
    "    nametype = rand(1:5)\n",
    "    name = \"\"\n",
    "    if nametype == 1 || nametype == 2\n",
    "        nm = rand(names)\n",
    "        adj_i = rand(1:nrow(adjectives))\n",
    "        adj = adjectives[adj_i, :adjective]\n",
    "        vp[1] = vp[1] + adjectives[adj_i, :H]\n",
    "        vp[2] = vp[2] + adjectives[adj_i, :F]\n",
    "        vp[3] = vp[3] + adjectives[adj_i, :L]\n",
    "        vp[4] = vp[4] + adjectives[adj_i, :T]\n",
    "        if nametype == 1\n",
    "            name = string(nm, \" the \", adj)\n",
    "        end\n",
    "        if nametype == 2\n",
    "            name = string(adj, \" \", nm)\n",
    "        end\n",
    "    end\n",
    "    if nametype == 3 || nametype == 4\n",
    "        nm = rand(names)\n",
    "        noun_i = rand(1:nrow(nouns))\n",
    "        noun = nouns[noun_i, :noun]\n",
    "        vp[1] = vp[1] + nouns[noun_i, :H]\n",
    "        vp[2] = vp[2] + nouns[noun_i, :F]\n",
    "        vp[3] = vp[3] + nouns[noun_i, :L]\n",
    "        vp[4] = vp[4] + nouns[noun_i, :T]    \n",
    "        if nametype == 3\n",
    "            name = string(nm, \" the \", noun)\n",
    "        end\n",
    "        if nametype == 4\n",
    "            name = string(noun, \" \", nm)\n",
    "        end\n",
    "    end\n",
    "    if nametype == 5\n",
    "        adj_i = rand(1:nrow(adjectives))\n",
    "        adj = adjectives[adj_i, :adjective]\n",
    "        vp[1] = vp[1] + adjectives[adj_i, :H]\n",
    "        vp[2] = vp[2] + adjectives[adj_i, :F]\n",
    "        vp[3] = vp[3] + adjectives[adj_i, :L]\n",
    "        vp[4] = vp[4] + adjectives[adj_i, :T]\n",
    "        noun_i = rand(1:nrow(nouns))\n",
    "        noun = nouns[noun_i, :noun]\n",
    "        vp[1] = vp[1] + nouns[noun_i, :H]\n",
    "        vp[2] = vp[2] + nouns[noun_i, :F]\n",
    "        vp[3] = vp[3] + nouns[noun_i, :L]\n",
    "        vp[4] = vp[4] + nouns[noun_i, :T]    \n",
    "        name = string(adj, \" \", noun)\n",
    "    end\n",
    "    Fighter(name, vp[1], vp[2], vp[3], vp[4])\n",
    "end\n",
    "\n",
    "function rand_rename(a::Fighter, n_tries::Int = 10)::Fighter\n",
    "    best_score = 0.0\n",
    "    best_b = random_name_and_stat()\n",
    "    for ii in 1:n_tries\n",
    "        b = random_name_and_stat()\n",
    "        b_norm = sqrt(b.h^2 + b.f^2 + b.l^2 + b.t^2)\n",
    "        score = (a.h * b.h + a.f * b.f + a.l * b.l + a.t * b.t)/b_norm\n",
    "        if score > best_score\n",
    "            best_score = score\n",
    "            best_b = b\n",
    "        end\n",
    "    end\n",
    "    return Fighter(best_b.name, a.h, a.f, a.l, a.t)\n",
    "end"
   ]
  },
  {
   "cell_type": "code",
   "execution_count": 124,
   "id": "1099fbfe",
   "metadata": {},
   "outputs": [
    {
     "data": {
      "text/plain": [
       "Fighter(\"No Name\", 5, 6, 32, 35)"
      ]
     },
     "execution_count": 124,
     "metadata": {},
     "output_type": "execute_result"
    }
   ],
   "source": [
    "a = random_fighter()\n"
   ]
  },
  {
   "cell_type": "code",
   "execution_count": 134,
   "id": "54ffd470",
   "metadata": {},
   "outputs": [
    {
     "data": {
      "text/plain": [
       "Fighter(\"Namya the Giant\", 5, 6, 32, 35)"
      ]
     },
     "execution_count": 134,
     "metadata": {},
     "output_type": "execute_result"
    }
   ],
   "source": [
    "rand_rename(a, 1000)"
   ]
  },
  {
   "cell_type": "code",
   "execution_count": 166,
   "id": "dfc41fc0",
   "metadata": {},
   "outputs": [
    {
     "data": {
      "text/plain": [
       "0.082"
      ]
     },
     "execution_count": 166,
     "metadata": {},
     "output_type": "execute_result"
    }
   ],
   "source": [
    "sum = 0\n",
    "for ii in 1:10000\n",
    "    a = rand_rename(random_tournament_winner(1))\n",
    "    b = rand_rename(random_tournament_winner(0))\n",
    "    # println(a)\n",
    "    # println(b)\n",
    "    res = eval_battle(a, b)\n",
    "    # println(res)\n",
    "    sum = sum + res\n",
    "end\n",
    "sum/10000"
   ]
  },
  {
   "cell_type": "code",
   "execution_count": 167,
   "id": "ff576e0c",
   "metadata": {},
   "outputs": [
    {
     "data": {
      "text/plain": [
       "0.0582"
      ]
     },
     "execution_count": 167,
     "metadata": {},
     "output_type": "execute_result"
    }
   ],
   "source": [
    "sum = 0\n",
    "for ii in 1:10000\n",
    "    a = random_tournament_winner(1)\n",
    "    b = random_tournament_winner(0)\n",
    "    # println(a)\n",
    "    # println(b)\n",
    "    res = eval_battle(a, b)\n",
    "    # println(res)\n",
    "    sum = sum + res\n",
    "end\n",
    "sum/10000"
   ]
  },
  {
   "cell_type": "code",
   "execution_count": 168,
   "id": "d5206784",
   "metadata": {},
   "outputs": [
    {
     "data": {
      "text/plain": [
       "0.0909"
      ]
     },
     "execution_count": 168,
     "metadata": {},
     "output_type": "execute_result"
    }
   ],
   "source": [
    "sum = 0\n",
    "for ii in 1:10000\n",
    "    a = random_tournament_winner(2)\n",
    "    b = random_tournament_winner(0)\n",
    "    # println(a)\n",
    "    # println(b)\n",
    "    res = eval_battle(a, b)\n",
    "    # println(res)\n",
    "    sum = sum + res\n",
    "end\n",
    "sum/10000"
   ]
  },
  {
   "cell_type": "code",
   "execution_count": 169,
   "id": "19fdfa48",
   "metadata": {},
   "outputs": [
    {
     "data": {
      "text/plain": [
       "0.1541"
      ]
     },
     "execution_count": 169,
     "metadata": {},
     "output_type": "execute_result"
    }
   ],
   "source": [
    "sum = 0\n",
    "for ii in 1:10000\n",
    "    a = random_tournament_winner(3)\n",
    "    b = random_tournament_winner(0)\n",
    "    # println(a)\n",
    "    # println(b)\n",
    "    res = eval_battle(a, b)\n",
    "    # println(res)\n",
    "    sum = sum + res\n",
    "end\n",
    "sum/10000"
   ]
  },
  {
   "cell_type": "code",
   "execution_count": 170,
   "id": "7ba8e14b",
   "metadata": {},
   "outputs": [
    {
     "data": {
      "text/plain": [
       "0.0615"
      ]
     },
     "execution_count": 170,
     "metadata": {},
     "output_type": "execute_result"
    }
   ],
   "source": [
    "sum = 0\n",
    "for ii in 1:10000\n",
    "    a = random_tournament_winner(3)\n",
    "    b = random_tournament_winner(2)\n",
    "    # println(a)\n",
    "    # println(b)\n",
    "    res = eval_battle(a, b)\n",
    "    # println(res)\n",
    "    sum = sum + res\n",
    "end\n",
    "sum/10000"
   ]
  },
  {
   "cell_type": "code",
   "execution_count": 171,
   "id": "f60349a4",
   "metadata": {},
   "outputs": [
    {
     "data": {
      "text/plain": [
       "0.094"
      ]
     },
     "execution_count": 171,
     "metadata": {},
     "output_type": "execute_result"
    }
   ],
   "source": [
    "sum = 0\n",
    "for ii in 1:1000\n",
    "    a = random_tournament_winner(4)\n",
    "    b = random_tournament_winner(2)\n",
    "    # println(a)\n",
    "    # println(b)\n",
    "    res = eval_battle(a, b)\n",
    "    # println(res)\n",
    "    sum = sum + res\n",
    "end\n",
    "sum/1000"
   ]
  },
  {
   "cell_type": "code",
   "execution_count": 172,
   "id": "69dd25a8",
   "metadata": {},
   "outputs": [
    {
     "data": {
      "text/plain": [
       "0.056"
      ]
     },
     "execution_count": 172,
     "metadata": {},
     "output_type": "execute_result"
    }
   ],
   "source": [
    "sum = 0\n",
    "for ii in 1:1000\n",
    "    a = random_tournament_winner(4)\n",
    "    b = random_tournament_winner(3)\n",
    "    # println(a)\n",
    "    # println(b)\n",
    "    res = eval_battle(a, b)\n",
    "    # println(res)\n",
    "    sum = sum + res\n",
    "end\n",
    "sum/1000"
   ]
  },
  {
   "cell_type": "code",
   "execution_count": 178,
   "id": "5b027836",
   "metadata": {},
   "outputs": [
    {
     "data": {
      "text/plain": [
       "0.069"
      ]
     },
     "execution_count": 178,
     "metadata": {},
     "output_type": "execute_result"
    }
   ],
   "source": [
    "sum = 0\n",
    "for ii in 1:1000\n",
    "    a = random_tournament_winner(5)\n",
    "    b = random_tournament_winner(3)\n",
    "    # println(a)\n",
    "    # println(b)\n",
    "    res = eval_battle(a, b)\n",
    "    # println(res)\n",
    "    sum = sum + res\n",
    "end\n",
    "sum/1000"
   ]
  },
  {
   "cell_type": "code",
   "execution_count": 179,
   "id": "86e8e730",
   "metadata": {},
   "outputs": [
    {
     "name": "stdout",
     "output_type": "stream",
     "text": [
      "Fighter(\"Friendly Dasher\", 2, 14, 25, 23)\n",
      "Fighter(\"Rough Malaiyah\", 6, 8, 5, 40)\n",
      "-1\n"
     ]
    }
   ],
   "source": [
    "a = rand_rename(random_tournament_winner(5))\n",
    "b = rand_rename(random_tournament_winner(3))\n",
    "println(a)\n",
    "println(b)\n",
    "res = eval_battle(a, b)\n",
    "println(res)\n"
   ]
  },
  {
   "cell_type": "code",
   "execution_count": 213,
   "id": "35b7a5fc",
   "metadata": {},
   "outputs": [
    {
     "data": {
      "text/plain": [
       "0.3421"
      ]
     },
     "execution_count": 213,
     "metadata": {},
     "output_type": "execute_result"
    }
   ],
   "source": [
    "sum = 0\n",
    "a = random_tournament_winner(6)\n",
    "for ii in 1:10000\n",
    "    b = random_tournament_winner(0)\n",
    "    # println(a)\n",
    "    # println(b)\n",
    "    res = eval_battle(a, b)\n",
    "    # println(res)\n",
    "    sum = sum + res\n",
    "end\n",
    "sum/10000"
   ]
  },
  {
   "cell_type": "code",
   "execution_count": 214,
   "id": "2449a690",
   "metadata": {},
   "outputs": [
    {
     "data": {
      "text/plain": [
       "Fighter(\"Zesty Pigeon\", 15, 10, 13, 5)"
      ]
     },
     "execution_count": 214,
     "metadata": {},
     "output_type": "execute_result"
    }
   ],
   "source": [
    "rand_rename(a)"
   ]
  },
  {
   "cell_type": "code",
   "execution_count": null,
   "id": "672b2883",
   "metadata": {},
   "outputs": [],
   "source": []
  }
 ],
 "metadata": {
  "kernelspec": {
   "display_name": "Julia 1.9.3",
   "language": "julia",
   "name": "julia-1.9"
  },
  "language_info": {
   "file_extension": ".jl",
   "mimetype": "application/julia",
   "name": "julia",
   "version": "1.9.3"
  }
 },
 "nbformat": 4,
 "nbformat_minor": 5
}
